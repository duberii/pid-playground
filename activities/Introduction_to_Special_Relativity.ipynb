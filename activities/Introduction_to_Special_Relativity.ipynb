{
  "nbformat": 4,
  "nbformat_minor": 0,
  "metadata": {
    "colab": {
      "provenance": [],
      "toc_visible": true,
      "collapsed_sections": [
        "RkLsaCOQ4Gb6",
        "7OTnl9y640sS",
        "4_NzYaPn4vdH",
        "RXg7HBwH5zL7",
        "AJpBrpDdHr48",
        "l2jdLTZGH0UL",
        "uIlRLsyp9YCL",
        "6a2mpLhh9rQR",
        "qWE9cbok-HLx",
        "Y-tT9sEYAb72",
        "DKoRY2IcISN0",
        "XpNMPdlCIV_w",
        "YlB7ZZe-FNHN",
        "j7IKsMHEFTfw",
        "1fF50f2iF4vq",
        "fUles8a4F4vz",
        "Q-YOGnocGqbW",
        "xwMbFfpmGqbf"
      ],
      "mount_file_id": "1LhSPaw8m91syKz5EVh_IvA6f1CGkbZPk",
      "authorship_tag": "ABX9TyM3fpgr8bEyAsC2AKgDvoBP",
      "include_colab_link": true
    },
    "kernelspec": {
      "name": "python3",
      "display_name": "Python 3"
    },
    "language_info": {
      "name": "python"
    }
  },
  "cells": [
    {
      "cell_type": "markdown",
      "metadata": {
        "id": "view-in-github",
        "colab_type": "text"
      },
      "source": [
        "<a href=\"https://colab.research.google.com/github/duberii/pid-playground/blob/main/activities/Introduction_to_Special_Relativity.ipynb\" target=\"_parent\"><img src=\"https://colab.research.google.com/assets/colab-badge.svg\" alt=\"Open In Colab\"/></a>"
      ]
    },
    {
      "cell_type": "markdown",
      "source": [
        "# **Introduction to Special Relativity**\n",
        "---\n",
        "Welcome to Particle Identification Playground! In this activity, you will get a brief introduction to relativity.\n",
        "\n",
        "**Before completing this notebook, complete the following activities:**\n",
        "*   Introduction to Vectors\n",
        "\n",
        "\n",
        "**After completing this notebook, you should be able to:**\n",
        "*   Recognize the formulas for relativistic energy and momentum\n",
        "*   Recognize units of energy, momentum, mass, and velocity that are commonly used in particle physics\n",
        "*   Explain how the units used in particle physics help simplify calculations of relativistic properties\n",
        "\n",
        "\n"
      ],
      "metadata": {
        "id": "n4_lZ0Cjph5Y"
      }
    },
    {
      "cell_type": "markdown",
      "source": [
        "---\n",
        "## **Special Relativity**\n",
        "---\n",
        "Because the particles we work with in particle physics have such little mass, even a small force causes them to accelerate to nearly the speed of light. However, the laws of physics that we use to describe how everyday objects move don't apply to objects that move at speeds near the speed of light. Fortunately, Albert Einstein developed a theory that can describe the behavior of objects that move at nearly the speed of light.\n",
        "\n",
        "Albert Einstein published his Theory of **Special Relativity** in 1905. Special relativity explains why particles that move near the speed of light behave in such strange ways. One such strange behavior was that fast-moving objects had far more momentum and energy than previous formulas predicted."
      ],
      "metadata": {
        "id": "YLjxA6lq7oZA"
      }
    },
    {
      "cell_type": "markdown",
      "source": [
        "---\n",
        "##**Relativistic Energy**\n",
        "---\n",
        "Einstein proposed the following formula for **Relativistic Energy**:\n",
        "$$\n",
        "E_{relativistic} = \\sqrt{(mc^2)^2 + (|p|c)^2}\n",
        "$$\n",
        "where $E_{relativistic}$ is the relativistic energy, $m$ is the mass of the object, $|p|$ is the magnitude of the momentum vector, and $c$ is the speed of light.\n",
        "\n",
        "In this formula, you may see the value $m$ being called the **invariant** or **rest mass**. In modern physics, we use the terms rest mass, invariant mass, and mass interchangeably."
      ],
      "metadata": {
        "id": "N2yrSJDlTyKX"
      }
    },
    {
      "cell_type": "markdown",
      "source": [
        "#### **Question #1:**\n",
        "---\n",
        "We say an object is at rest if $|p|=0$. What is the formula for relativistic energy for objects at rest?"
      ],
      "metadata": {
        "id": "RkLsaCOQ4Gb6"
      }
    },
    {
      "cell_type": "markdown",
      "source": [
        "Double click to edit this cell and answer the following question: What is the formula for relativistic energy for objects at rest?"
      ],
      "metadata": {
        "id": "N-3Oe_66gioc"
      }
    },
    {
      "cell_type": "markdown",
      "source": [
        "##### **Solution:**"
      ],
      "metadata": {
        "id": "7OTnl9y640sS"
      }
    },
    {
      "cell_type": "markdown",
      "source": [
        "For an object at rest, $|p|=0$. Plugging this into the relativistic energy formula, we get:\n",
        "$$E_{relativistic} = \\sqrt{(mc^2)^2 + (0*c)^2}$$\n",
        "and thus\n",
        "$$E_{relativistic}=\\sqrt{(mc^2)^2}$$\n",
        "Simplifying the square root, we get:\n",
        "$$ E_{relativistic}= mc^2 $$\n",
        "This is where the famous equality $E=mc^2$ comes from! We see here that it only applies to objects at rest."
      ],
      "metadata": {
        "id": "S3PZIxYj43_a"
      }
    },
    {
      "cell_type": "markdown",
      "source": [
        "#### **Question #2:**\n",
        "---\n",
        "The **classical formula** for (kinetic) energy is $$ E_{classical} = \\frac{|p|^2}{2m} $$\n",
        "where $|p|$ is the magnitude of the momentum vector and $m$ is the mass of the object. Using this classical formula, how much kinetic energy does an object have at rest?"
      ],
      "metadata": {
        "id": "4_NzYaPn4vdH"
      }
    },
    {
      "cell_type": "markdown",
      "source": [
        "Double click to edit this cell and answer the following question: Using the classical formula shown above, how much kinetic energy does an object have at rest?"
      ],
      "metadata": {
        "id": "gnTTia-Bg56Y"
      }
    },
    {
      "cell_type": "markdown",
      "source": [
        "#####**Solution:**"
      ],
      "metadata": {
        "id": "RXg7HBwH5zL7"
      }
    },
    {
      "cell_type": "markdown",
      "source": [
        "For objects at rest, $|p|=0$. Plugging this into the given equation, we get\n",
        "$$E_{classical}= \\frac{0^2}{2m}$$\n",
        "so\n",
        "$$ E_{classical}=0 $$"
      ],
      "metadata": {
        "id": "mobZNAiD58Cu"
      }
    },
    {
      "cell_type": "markdown",
      "source": [
        "####**Question #3:**\n",
        "---\n",
        "Photons, more commonly known as light, have no mass. What is the relationship between its relativistic energy and relativistic momentum?"
      ],
      "metadata": {
        "id": "AJpBrpDdHr48"
      }
    },
    {
      "cell_type": "markdown",
      "source": [
        "Double click to edit this cell and answer the following question: What is the relationship between the relativistic energy and relativistic momentum of a photon?"
      ],
      "metadata": {
        "id": "uYBamnxwiVHO"
      }
    },
    {
      "cell_type": "markdown",
      "source": [
        "#####**Solution:**"
      ],
      "metadata": {
        "id": "l2jdLTZGH0UL"
      }
    },
    {
      "cell_type": "markdown",
      "source": [
        "Using the relativistic energy formula with $m=0$, we get:\n",
        "$$E_{relativistic}=\\sqrt{(0*c^2)^2+(|p|c)^2},$$\n",
        "so\n",
        "$$E_{relativistic}=\\sqrt{(|p|c)^2}$$\n",
        "Simplifying the square root, we get:\n",
        "$$\n",
        "E_{relativistic}=|p|c\n",
        "$$\n",
        "or\n",
        "$$\n",
        "|p| = \\frac{E_{relativistic}}{c}\n",
        "$$\n",
        "Note that for photons, the magnitude of momentum is actually defined using this formula. In later modules, we will discuss how we can determine the components of the momentum."
      ],
      "metadata": {
        "id": "9CYqvLELiugs"
      }
    },
    {
      "cell_type": "markdown",
      "source": [
        "---\n",
        "##**Relativistic Momentum**\n",
        "---\n",
        "There is also a formula for **relativistic momentum**:\n",
        "$$\n",
        "p_{relativistic} = \\frac{mv}{\\sqrt{1-|v|^2/c^2}}\n",
        "$$\n",
        "where $p$ is the relativistic momentum, $m$ is the mass of the object, $v$ is the velocity of the object, and $c$ is the speed of light. Recall that both velocity and momentum are vector quantities. Thus this formula tells us that we can get the momentum vector $p$ by rescaling the velocity vector $v$ by $m/\\sqrt{1-|v|^2/c^2}$.\n",
        "\n",
        "To simplify this formula, we define a quantity called the **Lorentz Factor**:\n",
        "$$\n",
        "\\gamma = \\frac{1}{\\sqrt{1-|v|^2/c^2}}\n",
        "$$\n",
        "Using the Lorentz factor, we can write the formula for relativistic momentum as follows:\n",
        "\n",
        "$$\n",
        "p_{relativistic} = \\gamma m v\n",
        "$$\n",
        "\n",
        "This formula closely resembles the formula for classical momentum:\n",
        "$$p_{classical} = mv$$\n",
        "Thus we may sometimes write that:\n",
        "$$p_{relativistic} = \\gamma p_{classical}$$\n",
        "where $p_{relativistic}$ is the relativistic momentum, $p_{classical}$ is the classical momentum, and $\\gamma$ is the Lorentz factor.\n",
        "\n",
        "There is one more relativistic quantity that is frequently used in special relativity, denoted $\\beta$ (beta), defined as:\n",
        "$$\n",
        "\\beta = \\frac{|v|}{c}\n",
        "$$\n",
        "where $|v|$ is the magnitude of the velocity vector and $c$ is the speed of light. This quantity simply describes how close to the speed of light an object is moving. An object with $\\beta=0$ is at rest, while an object with $\\beta=1$ is moving at the speed of light. Sometimes, the Lorentz factor is written in terms of $\\beta$:\n",
        "$$\n",
        "\\gamma = \\frac{1}{\\sqrt{1-\\beta^2}}\n",
        "$$"
      ],
      "metadata": {
        "id": "fMl93nff4CbY"
      }
    },
    {
      "cell_type": "markdown",
      "source": [
        "####**Question #4:**\n",
        "---\n",
        "Use the cell below to calculate the Lorentz factor for a proton moving at $0.0001c$ (0.01% of the speed of light). **Hint:** $\\beta= 0.0001$."
      ],
      "metadata": {
        "id": "uIlRLsyp9YCL"
      }
    },
    {
      "cell_type": "code",
      "source": [
        "beta =\n",
        "gamma =\n",
        "print(gamma)"
      ],
      "metadata": {
        "id": "3yW9X8C-9qut"
      },
      "execution_count": null,
      "outputs": []
    },
    {
      "cell_type": "markdown",
      "source": [
        "#####**Solution:**"
      ],
      "metadata": {
        "id": "6a2mpLhh9rQR"
      }
    },
    {
      "cell_type": "code",
      "source": [
        "beta = 0.0001\n",
        "gamma = 1/(1-beta**2)**0.5\n",
        "print(gamma)"
      ],
      "metadata": {
        "colab": {
          "base_uri": "https://localhost:8080/"
        },
        "id": "QC6MUxyA9uXx",
        "outputId": "873078c0-5f01-4b22-a22f-3a1552a0ab41"
      },
      "execution_count": null,
      "outputs": [
        {
          "output_type": "stream",
          "name": "stdout",
          "text": [
            "1.0000000050000002\n"
          ]
        }
      ]
    },
    {
      "cell_type": "markdown",
      "source": [
        "####**Question #5:**\n",
        "---\n",
        "A proton moving at $0.0001c$ (0.01% the speed of light) has a classical momentum of $9.38 * 10^{-5}$ GeV/c. What is the relativistic momentum of the proton?  How does it compare to the classical momentum of the proton? Complete the code below to perform the necessary calculations."
      ],
      "metadata": {
        "id": "qWE9cbok-HLx"
      }
    },
    {
      "cell_type": "code",
      "source": [
        "p_classical =\n",
        "beta =\n",
        "gamma =\n",
        "p_relativistic =\n",
        "print(p_classical)\n",
        "print(p_relativistic)"
      ],
      "metadata": {
        "id": "izLrzzA1_LqA"
      },
      "execution_count": null,
      "outputs": []
    },
    {
      "cell_type": "markdown",
      "source": [
        "#####**Solution:**"
      ],
      "metadata": {
        "id": "Y-tT9sEYAb72"
      }
    },
    {
      "cell_type": "code",
      "source": [
        "p_classical = 9.38 * 10**(-5)\n",
        "beta = 0.0001\n",
        "gamma = 1/(1-beta**2)\n",
        "p_relativistic = gamma * p_classical\n",
        "print(p_classical)\n",
        "print(p_relativistic)"
      ],
      "metadata": {
        "colab": {
          "base_uri": "https://localhost:8080/"
        },
        "id": "5J4rGBC6AhKJ",
        "outputId": "ad90ab75-d55b-4211-8162-ac158da5b934"
      },
      "execution_count": null,
      "outputs": [
        {
          "output_type": "stream",
          "name": "stdout",
          "text": [
            "9.380000000000002e-05\n",
            "9.380000093800003e-05\n"
          ]
        }
      ]
    },
    {
      "cell_type": "markdown",
      "source": [
        "For slow speeds (meaning $\\beta$ is close to 0), $\\gamma \\approx 1$, so relativistic momentum is almost equal to the classical momentum. We only start seeing significant differences between the classical momentum and relativistic momentum for velocities that are close to the speed of light."
      ],
      "metadata": {
        "id": "5rvIuHJCAsx1"
      }
    },
    {
      "cell_type": "markdown",
      "source": [
        "####**Question #6:**\n",
        "---\n",
        "By substituting the definition for $p_{relativistic}$ into the definition for $E_{relativistic}$ and simplifying, we can obtain the following equation: $$E_{relativistic} = \\gamma mc^2$$ Based on this equation, is it possible for a particle with mass, such as an electron, to move at the speed of light? **Hint**: For $v=c$, $\\gamma= \\infty$."
      ],
      "metadata": {
        "id": "DKoRY2IcISN0"
      }
    },
    {
      "cell_type": "markdown",
      "source": [
        "Double click to edit this cell and answer the following question: Is it possible for a particle with mass, such as an electron, to move at the speed of light?"
      ],
      "metadata": {
        "id": "Gcu4lIzRr_sE"
      }
    },
    {
      "cell_type": "markdown",
      "source": [
        "#####**Solution:**"
      ],
      "metadata": {
        "id": "XpNMPdlCIV_w"
      }
    },
    {
      "cell_type": "markdown",
      "source": [
        "As $v$ approaches the speed of light, $\\gamma$ becomes infinite, meaning the particle would need infinite energy to reach the speed of light. Since we don't have infinite energy, it is impossible for an electron (or any particle with mass) to move at the speed of light."
      ],
      "metadata": {
        "id": "-WLcWnGgIcEI"
      }
    },
    {
      "cell_type": "markdown",
      "source": [
        "---\n",
        "##**Common Units in Particle Physics**\n",
        "---\n",
        "Because the particles we create in our experiments have such high energy, they almost always move at close to the speed of light, meaning we will always need to use relativistic formulas. Therefore, we try to use units that are convenient for us to use in the definitions of relativistic momentum and energy.\n",
        "\n",
        "The most common unit for energy in particle physics is **GeV** (gigaelectron-volts). Based on Einstein's famous formula $E=mc^2$, we can divide by $c$ on both sides to yield:\n",
        "$$m=E/c^2$$\n",
        "This seems to say that mass should have the same units as energy (E) divided by $c^2$ (the speed of light squared). Therefore, we typically express mass in units of GeV/c^2. Similarly, we express momentum in units of GeV/c. Below is a table of the most commonly used units in particle physics:\n",
        "\n",
        "| <h5><b>Property</b></h5>   \t| <h5><b>Unit</b></h5>    \t|\n",
        "|--------------\t|---------\t|\n",
        "| <h6>Energy (E)   </h6>  | <h6>GeV     </h6> \t|\n",
        "| <h6>Momentum (p) </h6>  | <h6>GeV/c   </h6> \t|\n",
        "| <h6>Mass (m)     </h6> \t| <h6>GeV/c^2 </h6> \t|\n",
        "| <h6>Velocity (v) </h6> \t| <h6>c       </h6> \t|\n",
        "\n",
        "Even though it might seem silly, we express the speed of light as $1c$. Thus in our formulas for relativistic energy and the Lorentz factor, it is very common for us to exclude $c$ from our formulas, since it is equal to 1 in these special units.\n",
        "\n",
        "For example, you may see relativistic energy written as:\n",
        "$$\n",
        "E = \\sqrt{m^2+|p|^2}\n",
        "$$\n",
        "which is true so long as the mass is expressed in units of GeV/c^2 and momentum is expressed in units of GeV/c. This only works because the speed of light is included in the units for both momentum and mass and because in our units of velocity, $c=1$; If we tried to apply this formula to a mass measured in kilograms and speeds measured in meters per second, we would need to multiply by the speed of light (about $3*10^8$ m/s) wherever $c$ appeared in our formulas.\n",
        "\n",
        "Another convenient fact about expressing our quantities in these units is that $\\beta$ and $|v|$ can be used interchangeably, since $\\beta=\\frac{|v|}{c}$, and $c=1$ in these special units."
      ],
      "metadata": {
        "id": "ZwyJfIZNj-g8"
      }
    },
    {
      "cell_type": "markdown",
      "source": [
        "####**Question #7:**\n",
        "---\n",
        "Use the cell below to calculate the relativistic energy (in GeV) of a proton (of mass 0.938 GeV/$c^2$) with $|p|= 0.2$ GeV/c."
      ],
      "metadata": {
        "id": "YlB7ZZe-FNHN"
      }
    },
    {
      "cell_type": "code",
      "source": [
        "m =\n",
        "p =\n",
        "E = #Complete this code\n",
        "print(E)"
      ],
      "metadata": {
        "id": "IK5ialNqc08A"
      },
      "execution_count": null,
      "outputs": []
    },
    {
      "cell_type": "markdown",
      "source": [
        "#####**Solution:**"
      ],
      "metadata": {
        "id": "j7IKsMHEFTfw"
      }
    },
    {
      "cell_type": "code",
      "source": [
        "m = 0.938 #GeV/c^2\n",
        "p = 0.2   #GeV/c\n",
        "E = (m**2 - p**2)**0.5\n",
        "print(E)"
      ],
      "metadata": {
        "colab": {
          "base_uri": "https://localhost:8080/"
        },
        "id": "neQE7U2EFeRo",
        "outputId": "b30e73b1-0ab5-4aec-e6f7-1ec0a7ed0c63"
      },
      "execution_count": null,
      "outputs": [
        {
          "output_type": "stream",
          "name": "stdout",
          "text": [
            "0.9164300300623064\n"
          ]
        }
      ]
    },
    {
      "cell_type": "markdown",
      "source": [
        "####**Question #8:**\n",
        "---\n",
        "Compare the magnitude of momentum for a proton (mass 0.938 GeV/c^2) moving at $|v|=0.9c$ (90% of the speed of light) using both the classical formula and the relativistic momentum. Does the classical formula for momentum predict too much momentum or too little momentum when compared to the relativistic formula? Write code in the cell below to perform the necessary calculations."
      ],
      "metadata": {
        "id": "1fF50f2iF4vq"
      }
    },
    {
      "cell_type": "code",
      "source": [
        "v =\n",
        "beta =\n",
        "m =\n",
        "p_classical =\n",
        "gamma =\n",
        "p_relativistic =\n",
        "print(p_classical)\n",
        "print(p_relativistic)"
      ],
      "metadata": {
        "id": "Zlw6WouZF4vz"
      },
      "execution_count": null,
      "outputs": []
    },
    {
      "cell_type": "markdown",
      "source": [
        "Double click to edit this cell and answer the following question: Does the classical formula for momentum predict too much momentum or too little momentum?"
      ],
      "metadata": {
        "id": "h7Assy2Gyr8f"
      }
    },
    {
      "cell_type": "markdown",
      "source": [
        "#####**Solution:**"
      ],
      "metadata": {
        "id": "fUles8a4F4vz"
      }
    },
    {
      "cell_type": "code",
      "source": [
        "v = 0.9                            #v = 0.9c\n",
        "beta = v                           #beta has no unit\n",
        "m = 0.938                          #GeV/c^2\n",
        "p_classical = m*v                  #GeV/c\n",
        "gamma = 1/(1-beta**2)**0.5         #gamma has no unit\n",
        "p_relativistic = gamma* m * v      #GeV/c\n",
        "print(\"Classical Momentum: \" + str(p_classical) + \" GeV/c\")\n",
        "print(\"Relativistic Momentum: \" + str(p_relativistic) + \" GeV/c\")"
      ],
      "metadata": {
        "colab": {
          "base_uri": "https://localhost:8080/"
        },
        "outputId": "ffa9dd9f-5a66-40cd-9ee4-9c97fc1618c5",
        "id": "imj2j62PF4v0"
      },
      "execution_count": null,
      "outputs": [
        {
          "output_type": "stream",
          "name": "stdout",
          "text": [
            "Classical Momentum: 0.8442 GeV/c\n",
            "Relativistic Momentum: 1.9367276253352828 GeV/c\n"
          ]
        }
      ]
    },
    {
      "cell_type": "markdown",
      "source": [
        "Based on the code shown above, the classical formula for momentum gives a number much smaller than the formula for relativistic momentum. Thus the classical formula predicts too little momentum when compared to the relativistic momentum (which is the momentum that we would observe in real experiments)."
      ],
      "metadata": {
        "id": "vuHdR8AKy1Em"
      }
    },
    {
      "cell_type": "markdown",
      "source": [
        "####**Question #9:**\n",
        "---\n",
        "We can also use the formula for relativistic energy to calculate the mass of the particle if we know $E$, the energy of the particle, and $|p|$, the magnitude of the momentum of the particle. Suppose we have a $K^+$ particle (usually called a charged kaon) with an energy of 1.2 GeV and the following momentum vector (in GeV/c): $$\n",
        "p=\\begin{bmatrix}\n",
        "-0.4\\\\\n",
        "0.63\\\\\n",
        "0.8\n",
        "\\end{bmatrix}\n",
        "$$\n",
        "Solve the relativistic energy equation for $m$, then use the resulting expression to calculate the mass of the charged kaon. Write code in the cell below to perform the necessary calculations.\n",
        "\n",
        "To check your answer, look up the mass of a $K^+$. (Note that 1 GeV = 1000 MeV)."
      ],
      "metadata": {
        "id": "Q-YOGnocGqbW"
      }
    },
    {
      "cell_type": "code",
      "source": [
        "px =\n",
        "py =\n",
        "pz =\n",
        "p =\n",
        "E =\n",
        "m =\n",
        "print(\"The mass of the kaon is \" + str(m) + \" GeV/c^2\")"
      ],
      "metadata": {
        "id": "yCCWLhFiGqbf"
      },
      "execution_count": null,
      "outputs": []
    },
    {
      "cell_type": "markdown",
      "source": [
        "#####**Solution:**"
      ],
      "metadata": {
        "id": "xwMbFfpmGqbf"
      }
    },
    {
      "cell_type": "markdown",
      "source": [
        "First, we calculate $|p|$, the magnitude of momentum, which we store in the variable `p` shown below:"
      ],
      "metadata": {
        "id": "8S4FQq4Dzytw"
      }
    },
    {
      "cell_type": "code",
      "source": [
        "px = -0.4\n",
        "py = 0.63\n",
        "pz = 0.8\n",
        "E = 1.2\n",
        "p = (px**2 + py**2 + pz**2)**0.5"
      ],
      "metadata": {
        "id": "p72SshPUz5bg"
      },
      "execution_count": null,
      "outputs": []
    },
    {
      "cell_type": "markdown",
      "source": [
        "By solving the formula for $E_{relativistic}$ for $m$, we obtain:\n",
        "$$\n",
        "m = \\sqrt{E^2-|p|^2}$$\n",
        "Since we know the energy $E$ and the magnitude of momentum $|p|$, we can calculate the mass:"
      ],
      "metadata": {
        "id": "n4tNiGpVHUGw"
      }
    },
    {
      "cell_type": "code",
      "source": [
        "m = (E**2 - p**2)**0.5\n",
        "print(\"The mass of the kaon is \" + str(m) + \" GeV/c^2\")"
      ],
      "metadata": {
        "colab": {
          "base_uri": "https://localhost:8080/"
        },
        "outputId": "de416751-fca9-4c45-995f-56ddbb765753",
        "id": "2Wmx9sYkGqbf"
      },
      "execution_count": null,
      "outputs": [
        {
          "output_type": "stream",
          "name": "stdout",
          "text": [
            "The mass of the kaon is 0.49305172142484166 GeV/c^2\n"
          ]
        }
      ]
    },
    {
      "cell_type": "markdown",
      "source": [
        "The mass of the kaon, as mentioned on [this wikipedia page](https://en.wikipedia.org/wiki/Kaon) is 493.677 MeV/c^2, which is 0.493677 GeV/c^2, which is extremely close to the value we calculated!"
      ],
      "metadata": {
        "id": "zn_VU1Bn0EFx"
      }
    }
  ]
}