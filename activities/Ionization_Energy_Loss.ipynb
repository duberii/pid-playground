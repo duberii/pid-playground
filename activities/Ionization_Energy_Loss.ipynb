{
  "cells": [
    {
      "cell_type": "markdown",
      "metadata": {
        "id": "view-in-github",
        "colab_type": "text"
      },
      "source": [
        "<a href=\"https://colab.research.google.com/github/duberii/pid-playground/blob/main/activities/Ionization_Energy_Loss.ipynb\" target=\"_parent\"><img src=\"https://colab.research.google.com/assets/colab-badge.svg\" alt=\"Open In Colab\"/></a>"
      ]
    },
    {
      "cell_type": "markdown",
      "metadata": {
        "id": "dDsATb300uQz"
      },
      "source": [
        "# **Ionization Energy Loss**\n",
        "---\n",
        "Welcome to Particle Identification Playground! This activity is designed to introduce you to ionization energy loss, how it's calculated, and how it's used to identify particles.\n",
        "**Before attempting this notebook, complete all of the activities in the Getting Started section. Also, be sure to complete the \"Drift Chambers and Tracks\" notebook before this one.**\n",
        "\n",
        "**After completing this notebook, you will be able to:**\n",
        "*   Name the effects that cause different particles to lose different amounts of energy in drift chambers\n",
        "*   Demonstrate the separation power of dE/dx analysis using ROOT’s TH2D class\n",
        "*   Classify different charged particles based on their energy loss at fixed momentum\n",
        "\n",
        "\n",
        "\n",
        "\n"
      ]
    },
    {
      "cell_type": "code",
      "execution_count": null,
      "metadata": {
        "id": "3BAb7xIS0uQ0",
        "cellView": "form",
        "colab": {
          "base_uri": "https://localhost:8080/"
        },
        "outputId": "24d1fc8e-c6ea-4c87-ad6e-89e126328869"
      },
      "outputs": [
        {
          "output_type": "stream",
          "name": "stdout",
          "text": [
            "\u001b[2K     \u001b[90m━━━━━━━━━━━━━━━━━━━━━━━━━━━━━━━━━━━━━━━━\u001b[0m \u001b[32m1.6/1.6 MB\u001b[0m \u001b[31m6.8 MB/s\u001b[0m eta \u001b[36m0:00:00\u001b[0m\n",
            "\u001b[?25hWelcome to JupyROOT 6.28/04\n"
          ]
        }
      ],
      "source": [
        "#@title Run this cell before starting. This may take a few minutes to run.\n",
        "!pip install -qqq pidp_tools\n",
        "from pidp_tools import *\n",
        "install_ROOT()\n",
        "import pandas\n",
        "from ROOT import *\n",
        "import pandas as pd\n",
        "import numpy as np\n",
        "import plotly.express as pxp\n",
        "import pandas as pd\n",
        "import numpy as np\n",
        "import ipywidgets as widgets\n",
        "from ipywidgets import interactive, fixed, widgets, HBox, VBox, Layout\n",
        "from PIL import Image\n",
        "import plotly as ply\n",
        "import plotly.graph_objects as go\n",
        "import math\n",
        "\n",
        "!wget -q -O GlueX_Particle_Gun_Simplified.hdf5 https://github.com/duberii/pid-playground/raw/main/data/GlueX_Particle_Gun_Simplified.hdf5\n",
        "!wget -q -O particle_data.hdf5 https://github.com/duberii/pid-playground/raw/main/data/particle_data.hdf5\n",
        "!wget -q -O CDC_hits.hdf5 https://github.com/duberii/pid-playground/raw/main/data/CDC_hits.hdf5\n",
        "!wget -q -O SC.hdf5 https://github.com/duberii/pid-playground/raw/main/data/SC.hdf5\n",
        "!wget -q -O TOF.hdf5 https://github.com/duberii/pid-playground/raw/main/data/TOF.hdf5\n",
        "!wget -q -O FDC.hdf5 https://github.com/duberii/pid-playground/raw/main/data/FDC.hdf5\n",
        "\n",
        "from google.colab import output\n",
        "output.enable_custom_widget_manager()\n",
        "particle_data = pd.read_hdf(\"GlueX_Particle_Gun_Simplified.hdf5\")\n",
        "CDC_hits = pd.read_hdf(\"CDC_hits.hdf5\")\n",
        "SC = pd.read_hdf(\"SC.hdf5\")\n",
        "TOF = pd.read_hdf(\"TOF.hdf5\")\n",
        "FDC = pd.read_hdf(\"FDC.hdf5\")\n",
        "CDC_hits['t'] = CDC_hits['t'].apply(np.array)\n",
        "CDC_hits['q'] = CDC_hits['q'].apply(np.array)\n",
        "CDC_hits['p'] = (CDC_hits['px']**2 + CDC_hits['py']**2 + CDC_hits['pz']**2)**0.5"
      ]
    },
    {
      "cell_type": "markdown",
      "metadata": {
        "id": "qGFMaUW_wvia"
      },
      "source": [
        "---\n",
        "##**Ionization Energy Loss**\n",
        "---\n",
        "As mentioned in the previous notebook, drift chambers use the fact that charged particles can strip electrons from atoms as they pass through a gas. This process, known as **Ionization**, transfers some of the energy (and momentum) from the particle to the electrons. Compared to the total energy and momentum of the particle, this loss is small, so it doesn't affect any other measurements that we may want to make. However, we can still measure this energy loss and use it to classify particles.\n",
        "\n",
        "It turns out that different particles will lose energy at different rates in the detector. However, particles also lose different amounts of energy based on the distance they travel in the detector. The greater the distance the particle travels in the detector, the more energy it will lose. To correct for this, we can consider the total energy lost ($dE$) divided by the distance traveled in the detector ($dx$), which yields a quantity called **energy loss per unit length** ($dE/dx$). This quantity should help us distinguish between different particles, which we will explore in later sections."
      ]
    },
    {
      "cell_type": "markdown",
      "metadata": {
        "id": "RmSvyS58yIZd"
      },
      "source": [
        "---\n",
        "##**Calculating Ionization Energy Loss [Optional]**\n",
        "---\n",
        "\n",
        "In this section, we will see how we can calculate the ionization energy loss from individual hits in the CDC. However, the process displayed in this part is done automatically by the detector, so it can be skipped without losing any understanding of the particle identification method that uses ionization energy loss."
      ]
    },
    {
      "cell_type": "markdown",
      "metadata": {
        "id": "jBkvCYfX0l5o"
      },
      "source": [
        "---\n",
        "###**Step 1: Calculating Energy Loss**\n",
        "---\n",
        "\n",
        "To figure out the energy loss per unit length, we first need to find the total energy loss, $dE$. The way $dE$ is calculated is too complex to be worth discussing here (especially since we never calculate it manually), but it is calculated from the timing of the pulses of electricity that we detect and the total charge we detect.\n",
        "\n",
        "\n",
        "We can get an estimate of the total energy lost by assuming that the energy lost is proportional to the charge we detect. Why might we assume this? Recall that a charged particle creates other charged particles in the drift chamber via ionization, which is the process of removing electrons from atoms. If you have taken a chemistry class, you may recall that electrons sit in energy levels. In other words, all electrons in the same energy level take the same amount of energy to remove them from the atom."
      ]
    },
    {
      "cell_type": "markdown",
      "source": [
        "####**Question #1:**\n",
        "---\n",
        "Let's say that it takes an energy of $E_{ionization}$ to remove a single electron from an atom. If we detect a total charge of $Q$ as a particle passes through a straw, how much energy did the particle lose? In other words, what is $dE$? **Hint:** How can we convert the charge we detected into a number of electrons we detected?"
      ],
      "metadata": {
        "id": "P8LND11iytC4"
      }
    },
    {
      "cell_type": "markdown",
      "source": [
        "Double click to edit this cell and answer the following question: How much energy did the particle lose?"
      ],
      "metadata": {
        "id": "9Iqk394WzZ5N"
      }
    },
    {
      "cell_type": "markdown",
      "source": [
        "#####**Solution:**"
      ],
      "metadata": {
        "id": "9OtWNbTI0IZ9"
      }
    },
    {
      "cell_type": "markdown",
      "source": [
        "It must be true that\n",
        "$$dE = N * E_{ionization}$$\n",
        "where $N$ is the number of electrons we detect. This equation simply says that the total energy lost is equal to the energy lost per electron times the number of electrons.\n",
        "\n",
        "All we have left to do is find the relationship between the charge we detect ($Q$) and the total number of electrons we detected ($N$). To do this, we just notice that if we multiply the total number of electrons detected ($N$) by the charge per electron ($e$), we should get the total charge we detected. In other words,\n",
        "$Q = e*N$\n",
        "If we divide by $e$ on both sides, we get:\n",
        "$$N=\\frac{Q}{e}$$\n",
        "Plugging this into our expression for $dE$, we get:\n",
        "$$\n",
        "dE = \\frac{Q}{e}*E_{ionization}\n",
        "$$\n",
        "where $dE$ is the energy lost in the straw, $Q$ is the total charge we detected, $e$ is the charge of an electron, and $E_{ionization}$ is the energy it takes to remove a single electron from an atom of the gas in the drift chamber."
      ],
      "metadata": {
        "id": "EKo2B1Gb0LRL"
      }
    },
    {
      "cell_type": "markdown",
      "source": [
        "####**Question #2:**\n",
        "---\n",
        "The equation from the previous question is only an estimate of the energy lost because it only takes into account the ionization energy of the gas. What other kind of energy might an electron have after it is removed from an atom?"
      ],
      "metadata": {
        "id": "8Rsd4Wz92n7E"
      }
    },
    {
      "cell_type": "markdown",
      "source": [
        "Double click to edit this cell and answer the following question: What other kind of energy might an electron have after it is removed from an atom?"
      ],
      "metadata": {
        "id": "r2zgdJ9_2n7N"
      }
    },
    {
      "cell_type": "markdown",
      "source": [
        "#####**Solution:**"
      ],
      "metadata": {
        "id": "1PevtlvX2n7O"
      }
    },
    {
      "cell_type": "markdown",
      "source": [
        "For an electron to be removed from an atom, it has to move! Kinetic energy is the energy associated with motion. Without further information, it is extremely difficult to find out what the kinetic energy of the ionized electrons would be. It depends on what kind of particle is ionizing the atoms and how fast that particle is moving, which we have no way of finding out (in fact, the whole point of us doing this is to figure out the type of particle that is ionizing the atoms- that's the point of PID!).\n",
        "\n",
        "There are tons of other things that could affect the energy loss, but the main three worth mentioning are:\n",
        "\n",
        "1.   A charged particle ionizing multiple electrons from the same atom, which would change the ionization energy\n",
        "2.   A charged particle ionizing an electron from a lower energy level, which would change the ionization energy\n",
        "3.   An ionized electron moves so fast that it ionizes another electron, which would affect our ability to accurately calculate the number of atoms ionized by a charged particle.\n",
        "\n",
        "In practice, the detector gets around all this by \"guessing\" the type of particle that ionized the atoms. This allows it to calculate the energy loss more accurately for each of its guesses, but it doesn't help us figure out which \"guess\" is correct, which is why we still need PID."
      ],
      "metadata": {
        "id": "i3V1D_t_2n7O"
      }
    },
    {
      "cell_type": "markdown",
      "source": [
        "####**Question #3:**\n",
        "---\n",
        "The GlueX Central Drift Chamber uses mainly argon gas. For argon, the average ionization energy is:\n",
        "$$E_{ionization}\\approx 30 \\mbox{ eV} $$\n",
        " Using this information, along with the equation from Question #1, add a `dE` column to the `CDC_hits` dataframe. You can calculate `dE` using the `N` column of the dataframe, which has the number of electrons detected."
      ],
      "metadata": {
        "id": "lmVVVNVU6Dhc"
      }
    },
    {
      "cell_type": "code",
      "source": [
        "CDC_hits['dE']="
      ],
      "metadata": {
        "id": "aWpDrvwt7gem"
      },
      "execution_count": null,
      "outputs": []
    },
    {
      "cell_type": "markdown",
      "source": [
        "#####**Solution:**"
      ],
      "metadata": {
        "id": "P0SDjuBL6Dhl"
      }
    },
    {
      "cell_type": "markdown",
      "source": [
        "We will use the equation: $$\n",
        "dE = N * E_{ionization}\n",
        "$$ where $N$ is the number of electrons detected and $E_{ionization}$ is the ionization energy. See more about this equation in the solution to Question #1."
      ],
      "metadata": {
        "id": "FSWvhYOU8u-b"
      }
    },
    {
      "cell_type": "code",
      "source": [
        "CDC_hits['dE'] = 30 * CDC_hits['q']"
      ],
      "metadata": {
        "id": "DsLtS0Vs8gra"
      },
      "execution_count": null,
      "outputs": []
    },
    {
      "cell_type": "markdown",
      "metadata": {
        "id": "MGtGdmeQqSQw"
      },
      "source": [
        "---\n",
        "###**Step 2: Calculating Path Length**\n",
        "---\n",
        "\n",
        "The other part of ionization energy loss is $dx$, often called the **path length** of the track. The path length refers to the distance that the particle traveled through the detector. However, we only need to measure the distance that the particle travels inside the straws of the drift chamber. Recall that the Central Drift Chamber (CDC) of the GlueX experiment is actually a straw chamber, meaning it is a bundle of \"straws.\" Each straw is a positive wire surrounded by a negatively charged tube."
      ]
    },
    {
      "cell_type": "markdown",
      "source": [
        "![A figure showing the positive wire surrounded by gas inside of the negative tube](data:image/png;base64,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)"
      ],
      "metadata": {
        "id": "L42Zs5mExWlp"
      }
    },
    {
      "cell_type": "markdown",
      "source": [
        "Over a thousand straws are stacked to form the CDC, but because of the shape of the straws, there are small gaps between them. In these regions, the particles still lose energy, but we can't measure the energy lost. In reality, this isn't an issue because the energy lost while traveling through the drift chamber is so small compared to the total energy of the particle. However, to ensure that we have an accurate rate of energy loss, we only want to consider the distance that the particle travels inside the straw."
      ],
      "metadata": {
        "id": "BWKHzVl0yh-o"
      }
    },
    {
      "cell_type": "markdown",
      "source": [
        "![An image showing a track passing through straws in the GlueX CDC. The parts of the track inside the straw is bolded, while the parts of the track outside of the straws are dashed.](data:image/png;base64,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)"
      ],
      "metadata": {
        "id": "MuPPHVCspXqw"
      }
    },
    {
      "cell_type": "markdown",
      "source": [
        "For example, in the picture above, the dotted portions of the track are outside of all of the straws, so we aren't able to measure the energy lost in those regions.\n",
        "\n",
        "How do we measure the distance the particle traveled inside the straw? Again, this part is a little too complicated to be worth deriving manually. However, we can calculate the distance that the particle travels inside the straw based on the timing of the signal we detect. This is because the majority of the delay in our signal actually comes from the time it takes for the ionized particles to reach the charged wire (the \"drift time\").\n",
        "\n",
        "Run the cell below to add a `dx` column to the `CDC_hits` dataframe, which is calculated based on the timing of the hits. You don't need to modify anything in this cell- just be sure to run it!"
      ],
      "metadata": {
        "id": "o1DkuyWxBWdC"
      }
    },
    {
      "cell_type": "code",
      "source": [
        "CDC_hits['dx']= CDC_hits['t'].apply(lambda t: 1.7*(np.log(0.00033*t+1))**0.5)"
      ],
      "metadata": {
        "id": "_X9pDuHzC7t6"
      },
      "execution_count": null,
      "outputs": []
    },
    {
      "cell_type": "markdown",
      "source": [
        "---\n",
        "###**Step 3: Calculating Ionization Energy Loss**\n",
        "---\n",
        "\n",
        "We are finally ready to calculate the ionization energy loss! Based on the timing information and the total charge we detect, we can calculate the energy loss ($dE$) and the path length ($dx$) for each hit. However, because the distance traveled in each straw is so small, it's difficult to get an accurate measure of ionization energy loss for an individual straw. However, if we consider the total energy loss of the track and the total path length of the track (but again, only the length of the path inside the straws), we can get a much more accurate value. These are the steps we will take to calculate the ionization energy loss:\n",
        "\n",
        "1.  For every hit, calculate the energy loss ($dE$) and the path length ($dx$).\n",
        "2.  Find the total energy losses and path length for the track.\n",
        "3.  Calculate the ionization energy loss ($dE/dx$).\n",
        "\n",
        "In steps 1 and 2, you completed the first item, so we only need to worry about item 2 and item 3."
      ],
      "metadata": {
        "id": "1SXau_POX7xZ"
      }
    },
    {
      "cell_type": "markdown",
      "source": [
        "####**Question #4:**\n",
        "---\n",
        "Each row in the `CDC_hits` dataframe represents a single track. In the `dE` and `dx` columns you calculated, there is a list that contains the $dE$ and $dx$ values for each hit associated with that track.\n",
        "\n",
        "**Note:** The `sum` method of the dataframe will find the sum of the entire column (instead of taking the sum track-by-track). Instead, to calculate the total energy loss and total path length, you should use the `.apply(sum)`. For example, to calculate the total energy lost by each track, you would do something like:\n",
        "```\n",
        "CDC_hits['total dE']= CDC_hits['dE'].apply(sum)\n",
        "```\n",
        "\n",
        "In the cell below, write code that calculates the sum of the $dE$ values and the sum of the $dx$ values, calculates the ionization energy loss value, then stores the result in another column called `dE/dx`."
      ],
      "metadata": {
        "id": "R3m9Ae9duK3I"
      }
    },
    {
      "cell_type": "code",
      "source": [
        "CDC_hits['dE/dx']="
      ],
      "metadata": {
        "id": "xhi23C9ouI9S"
      },
      "execution_count": null,
      "outputs": []
    },
    {
      "cell_type": "markdown",
      "source": [
        "#####**Solution:**"
      ],
      "metadata": {
        "id": "se5XcP_sw-ht"
      }
    },
    {
      "cell_type": "code",
      "source": [
        "CDC_hits['dE/dx']=CDC_hits['dE'].apply(sum)/CDC_hits['dx'].apply(sum)"
      ],
      "metadata": {
        "id": "SaF5xsj6ufdf"
      },
      "execution_count": null,
      "outputs": []
    },
    {
      "cell_type": "markdown",
      "source": [
        "---\n",
        "##**Plotting Ionization Energy Loss**\n",
        "---\n",
        "The best way to see how ionization energy loss helps us identify particles is to visualize the relationship between ionization energy loss and momentum. These next few questions will walk you through creating an ionization energy loss plot. It may be useful to review the \"Introduction to ROOT\" and \"2D Histograms in ROOT\" activities before completing this section."
      ],
      "metadata": {
        "id": "su1P_2twadK0"
      }
    },
    {
      "cell_type": "markdown",
      "source": [
        "####**Question #5:**\n",
        "---\n",
        "\n",
        "In the cell below, create a canvas with the following properties using ROOT's TCanvas constructor:\n",
        "\n",
        "\n",
        "\n",
        "*   Name: \"c1\"\n",
        "*   Title: \"Ionization Energy Loss Plot\"\n",
        "*   Width: 700\n",
        "*   Height: 500"
      ],
      "metadata": {
        "id": "TQzi-iOZ8kpz"
      }
    },
    {
      "cell_type": "code",
      "source": [
        "canvas ="
      ],
      "metadata": {
        "id": "ZC8Umjzo-G8_"
      },
      "execution_count": null,
      "outputs": []
    },
    {
      "cell_type": "markdown",
      "source": [
        "#####**Solution:**"
      ],
      "metadata": {
        "id": "XndUDkOv-I81"
      }
    },
    {
      "cell_type": "code",
      "source": [
        "canvas = TCanvas(\"c1\",\"Ionization Energy Loss Plot\",700,500)"
      ],
      "metadata": {
        "id": "j8HPWxWJ-MiL"
      },
      "execution_count": null,
      "outputs": []
    },
    {
      "cell_type": "markdown",
      "source": [
        "####**Question #6:**\n",
        "---\n",
        "In the cell below, create a 2D Histogram with the following properties using ROOT's TH2D constructor:\n",
        "\n",
        "Write code in the cell below to create a histogram with the following properties:\n",
        "\n",
        "*   Name: \"h1\"\n",
        "*   Title: \"Ionization Energy Loss vs. Momentum\"\n",
        "*   X axis label: \"Momentum (GeV/c)\"\n",
        "*   Y axis label: \"Ionization Energy Loss\"\n",
        "*   Number of bins: 200 (both X and Y)\n",
        "*   Minimum X value: 0\n",
        "*   Maximum X value: 1\n",
        "*   Minimum Y value: 0\n",
        "*   Maximum Y value: 0.00002 $\\left (2 * 10^{-5}\\right )$"
      ],
      "metadata": {
        "id": "tHpBTRZq-eFj"
      }
    },
    {
      "cell_type": "code",
      "source": [
        "h1 ="
      ],
      "metadata": {
        "id": "j7Q1w6BK_D0x"
      },
      "execution_count": null,
      "outputs": []
    },
    {
      "cell_type": "markdown",
      "source": [
        "#####**Solution:**"
      ],
      "metadata": {
        "id": "ikGDulIt_FAx"
      }
    },
    {
      "cell_type": "code",
      "source": [
        "h1 = TH2D(\"h1\",\"Ionization Energy Loss vs. Momentum;Momentum (GeV/c);Ionization Energy Loss\",200,0,1,200,0,2*10**-5)"
      ],
      "metadata": {
        "id": "gmaMBCCB_I97"
      },
      "execution_count": null,
      "outputs": []
    },
    {
      "cell_type": "markdown",
      "source": [
        "####**Question #7**\n",
        "---\n",
        "Complete the loop in the cell below to use the Fill method of the TH2D object to fill in the histogram with the momenta and ionization energy losses stored in the dataframe called `particle_data`, which has a column named \"p\" (magnitude of momentum) and a column named \"dEdxCDC\" (ionization energy loss in the Central Drift Chamber). Finally, draw the filled histogram."
      ],
      "metadata": {
        "id": "nUpWJeV4AThJ"
      }
    },
    {
      "cell_type": "code",
      "source": [
        "for row in #Complete this code\n",
        "  #Complete this code\n",
        "h1.Draw('COLZ')\n",
        "gROOT.GetListOfCanvases().Draw()"
      ],
      "metadata": {
        "id": "Z3y3q8ZlB0Ex"
      },
      "execution_count": null,
      "outputs": []
    },
    {
      "cell_type": "markdown",
      "source": [
        "#####**Solution:**"
      ],
      "metadata": {
        "id": "PP8_4LS0CsxT"
      }
    },
    {
      "cell_type": "code",
      "source": [
        "for row in particle_data.iloc:\n",
        "  h1.Fill(row['p'],row['dEdxCDC'])\n",
        "h1.Draw('COLZ')\n",
        "gROOT.GetListOfCanvases().Draw()"
      ],
      "metadata": {
        "colab": {
          "base_uri": "https://localhost:8080/"
        },
        "id": "Lcox9iXeCvgg",
        "outputId": "83e4ab4f-63cc-4f39-96f6-0f42a98fdaea"
      },
      "execution_count": null,
      "outputs": [
        {
          "output_type": "display_data",
          "data": {
            "image/png": "[encoded data removed]",
            "text/plain": [
              "<IPython.core.display.Image object>"
            ]
          },
          "metadata": {}
        }
      ]
    },
    {
      "cell_type": "markdown",
      "source": [
        "####**Question #8:**\n",
        "---\n",
        "\n",
        "You can also save canvases! In Google Colab, you can just right click and select \"Save Image as\". However, in many other situations, it is useful to save an image in your code. Lucky for us, ROOT's TCanvas class has a `SaveAs` method, which allows us to save an image. The syntax is as follows:\n",
        "```\n",
        "canvas.SaveAs(\"filename.png\")\n",
        "```\n",
        "\n",
        "In the cell below, use the TH2D's `SetStats` method to remove the statistics box from the plot. Then, use TCanvas's `SaveAs` method to save your plot as \"dEdxPlot.png\"."
      ],
      "metadata": {
        "id": "HkFauHXDC38e"
      }
    },
    {
      "cell_type": "code",
      "source": [],
      "metadata": {
        "id": "Q3y-EZunEnMj"
      },
      "execution_count": null,
      "outputs": []
    },
    {
      "cell_type": "markdown",
      "source": [
        "#####**Solution:**"
      ],
      "metadata": {
        "id": "l3tYE9KiEnlT"
      }
    },
    {
      "cell_type": "code",
      "source": [
        "h1.SetStats(0)\n",
        "canvas.SaveAs(\"dEdxPlot.png\")"
      ],
      "metadata": {
        "colab": {
          "base_uri": "https://localhost:8080/"
        },
        "id": "TfPxoU2PEqjL",
        "outputId": "02ad4865-9678-4694-85ff-c3a87ad9f9a1"
      },
      "execution_count": null,
      "outputs": [
        {
          "output_type": "stream",
          "name": "stderr",
          "text": [
            "Info in <TCanvas::Print>: png file dEdxPlot.png has been created\n"
          ]
        }
      ]
    },
    {
      "cell_type": "markdown",
      "source": [
        "**Note:** To check that your solution worked, you can click the folder icon shown to the left, which should show you all of the files that are saved on the remote computer that this notebook is running on. You should see a file in the menu called \"dEdxPlot.png\". If you'd like, you can right click the file and select \"Download\" to download the image to your computer. Otherwise, the file will be deleted when you close out of the notebook (files are not saved in Google Colab, but the code is saved, so you can come back and recreate the image at any time!)"
      ],
      "metadata": {
        "id": "MvpDaliuExbo"
      }
    },
    {
      "cell_type": "markdown",
      "source": [
        "#### **Question #9:**\n",
        "---\n",
        "If you completed the \"Calculating Ionization Energy Loss\" section, the `CDC_hits` dataframe should also have columns titled `p` and `dE/dx`. Create a 2D histogram of momentum vs. rate of ionization energy loss. Note that because the ionization energy loss is in a different unit than those in previous questions, the y range of your plot should be much larger. Try using these properties:\n",
        "\n",
        "*   Name: \"h1\"\n",
        "*   Title: \"Ionization Energy Loss vs. Momentum\"\n",
        "*   X axis label: \"Momentum (GeV/c)\"\n",
        "*   Y axis label: \"Ionization Energy Loss\"\n",
        "*   Number of bins: 200 (both X and Y)\n",
        "*   Minimum X value: 0\n",
        "*   Maximum X value: 1\n",
        "*   Minimum Y value: 0\n",
        "*   Maximum Y value: 10000000\n",
        "\n",
        "\n",
        "What do you notice about this plot?"
      ],
      "metadata": {
        "id": "1Hjh-q7kxKMz"
      }
    },
    {
      "cell_type": "code",
      "source": [
        "c1 ="
      ],
      "metadata": {
        "id": "uzmKnQwez-xN"
      },
      "execution_count": null,
      "outputs": []
    },
    {
      "cell_type": "markdown",
      "source": [
        "Double click to edit this cell and answer the following question: What do you notice about this plot?"
      ],
      "metadata": {
        "id": "1nKWCcbp3LSL"
      }
    },
    {
      "cell_type": "markdown",
      "source": [
        "#####**Solution:**"
      ],
      "metadata": {
        "id": "tR9c8yBWz_ZH"
      }
    },
    {
      "cell_type": "code",
      "source": [
        "c1 = TCanvas(\"c1\",\"c1\",700,500)\n",
        "h1 = TH2D(\"h1\",\"Ionization Energy Loss vs. Momentum;Momentum (GeV/c);Ionization Energy Loss\",200,0,1,200,0,10000000)\n",
        "for row in CDC_hits.iloc:\n",
        "  h1.Fill(row['p'],row['dE/dx'])\n",
        "h1.SetStats(0)\n",
        "h1.Draw('COLZ')\n",
        "gROOT.GetListOfCanvases().Draw()"
      ],
      "metadata": {
        "colab": {
          "base_uri": "https://localhost:8080/"
        },
        "id": "BTLETRPuAD7Z",
        "outputId": "d59cf70b-6d60-4ad3-8a3a-f80848b32051"
      },
      "execution_count": null,
      "outputs": [
        {
          "output_type": "stream",
          "name": "stderr",
          "text": [
            "Warning in <TCanvas::Constructor>: Deleting canvas with same name: c1\n",
            "Warning in <TROOT::Append>: Replacing existing TH1: h1 (Potential memory leak).\n"
          ]
        },
        {
          "output_type": "display_data",
          "data": {
            "image/png": "[encoded data removed]",
            "text/plain": [
              "<IPython.core.display.Image object>"
            ]
          },
          "metadata": {}
        }
      ]
    },
    {
      "cell_type": "markdown",
      "source": [
        "Because we only estimated the energy loss, the plot doesn't look as nice as the other ones. However, we can still see one faint stripe (a vertical line around 0.3 GeV/c in momentum), which likely corresponds to a specific particle. However, the vast majority of the points are closer to 1 GeV/c in momentum and have very low energy loss, which is seen in the more accurate plots as well."
      ],
      "metadata": {
        "id": "hh9oEX2P3UQA"
      }
    },
    {
      "cell_type": "markdown",
      "source": [
        "---\n",
        "## **Interpreting Ionization Energy Loss Plots**\n",
        "---\n",
        "In the previous questions, you created a plot that looked something like this one:"
      ],
      "metadata": {
        "id": "K8IX2VS93ULP"
      }
    },
    {
      "cell_type": "code",
      "source": [
        "# @title\n",
        "canvas = TCanvas(\"c1\",\"Ionization Energy Loss Plot\",700,500)\n",
        "h1 = TH2D(\"h1\",\"Ionization Energy Loss vs. Momentum;Momentum (GeV/c);Ionization Energy Loss\",200,0,1,200,0,2*10**-5)\n",
        "for row in particle_data.iloc:\n",
        "  h1.Fill(row['p'],row['dEdxCDC'])\n",
        "h1.SetStats(0)\n",
        "h1.Draw('COLZ')\n",
        "gROOT.GetListOfCanvases().Draw()"
      ],
      "metadata": {
        "colab": {
          "base_uri": "https://localhost:8080/",
          "height": 524
        },
        "cellView": "form",
        "id": "S4ZI8ZbUGwig",
        "outputId": "c14c8061-22ca-4604-e884-c5db3a74feed"
      },
      "execution_count": null,
      "outputs": [
        {
          "output_type": "stream",
          "name": "stderr",
          "text": [
            "Warning in <TCanvas::Constructor>: Deleting canvas with same name: c1\n",
            "Warning in <TROOT::Append>: Replacing existing TH1: h1 (Potential memory leak).\n"
          ]
        },
        {
          "output_type": "display_data",
          "data": {
            "image/png": "[encoded data removed]",
            "text/plain": [
              "<IPython.core.display.Image object>"
            ]
          },
          "metadata": {}
        }
      ]
    },
    {
      "cell_type": "markdown",
      "source": [
        "You may notice that there are a few different stripes on the histogram where the bins are extra full. Each of these stripes corresponds to a different particle we detect! For low momentum (below 0.7 GeV/c), you'll notice that the different stripes are pretty far apart, which makes it pretty easy to tell them apart. However, at higher momentum (above 0.7 GeV/c), all of the stripes start to blend together, which makes high-momentum particles extremely difficult to identify. At lower momentum, ionization energy loss is an extremely powerful method of particle identification."
      ],
      "metadata": {
        "id": "SJjjvyQnLEiC"
      }
    },
    {
      "cell_type": "markdown",
      "source": [
        "###**Question #10:**\n",
        "---\n",
        "The code below plots the ionization energy loss and momentum for particles identified as protons. Use the dropdown menu to change the particle that is plotted. Try to identify all of the stripes in the histogram shown above."
      ],
      "metadata": {
        "id": "6QbMFVDoQCk-"
      }
    },
    {
      "cell_type": "code",
      "source": [
        "# @title { run: \"auto\" }\n",
        "particle_to_plot = \"Proton\" # @param [\"Proton\", \"Kaon+\", \"Pion+\", \"Electron\"]\n",
        "canvas = TCanvas(\"c1\",\"Ionization Energy Loss Plot\",700,500)\n",
        "h1 = TH2D(\"h1\",\"Ionization Energy Loss vs. Momentum for \" + particle_to_plot + \"s;Momentum (GeV/c);Ionization Energy Loss\",200,0,1,200,0,2*10**-5)\n",
        "for row in particle_data.loc[particle_data['Particle']== particle_to_plot].iloc:\n",
        "  h1.Fill(row['p'],row['dEdxCDC'])\n",
        "h1.SetStats(0)\n",
        "h1.Draw('COLZ')\n",
        "gROOT.GetListOfCanvases().Draw()"
      ],
      "metadata": {
        "colab": {
          "base_uri": "https://localhost:8080/"
        },
        "cellView": "form",
        "id": "x2YApYYiRErv",
        "outputId": "7ff09a7e-cbad-44e7-f8bd-58e285da62a4"
      },
      "execution_count": null,
      "outputs": [
        {
          "output_type": "stream",
          "name": "stderr",
          "text": [
            "Warning in <TCanvas::Constructor>: Deleting canvas with same name: c1\n",
            "Warning in <TROOT::Append>: Replacing existing TH1: h1 (Potential memory leak).\n"
          ]
        },
        {
          "output_type": "display_data",
          "data": {
            "image/png": "[encoded data removed]",
            "text/plain": [
              "<IPython.core.display.Image object>"
            ]
          },
          "metadata": {}
        }
      ]
    },
    {
      "cell_type": "markdown",
      "source": [
        "####**Solution:**"
      ],
      "metadata": {
        "id": "Iuux1yTrUZRN"
      }
    },
    {
      "cell_type": "markdown",
      "source": [
        "![A labelled dE/dx plot](data:image/png;base64,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)"
      ],
      "metadata": {
        "id": "tCBUANuoUmuW"
      }
    },
    {
      "cell_type": "markdown",
      "source": [
        "From top to bottom, we have Protons, Kaons, Electrons, then Pions."
      ],
      "metadata": {
        "id": "OhnP5jFLUsux"
      }
    },
    {
      "cell_type": "markdown",
      "source": [
        "---\n",
        "##**Making Cuts**\n",
        "---\n",
        "\n",
        "To turn these stripes into a classification tool, we use **cuts**. Cuts are conditions that we use to make restrictions on our data. In many cases, our cuts take the form of inequalities. For example, we may say that if the mass of a particle is greater than 0.7 GeV/c^2, then it is a Proton. The corresponding cut would be $m>0.7$, where $m$ is the mass of the particle.\n",
        "\n",
        "\n",
        "For ionization energy loss, our cuts are a little more complicated. The stripes resemble exponential decays, so we use cuts of the form:\n",
        "$$\n",
        "dE/dx * 10^6 > e^{a*p + b}+c\n",
        "$$\n",
        "or $$\n",
        "dE/dx * 10^6 < e^{a*p + b}+c\n",
        "$$\n",
        "where $dE/dx$ is the ionization energy loss, $e$ is Euler's constant, $p$ is the magnitude of momentum, and $a, b,$ and $c$ are constants that we can change to find a good cut. Multiplying the ionization energy loss by $10^6$ makes it so that the constants $a$, $b$, and $c$ don't have to be ridiculous small.\n",
        "\n",
        "Below, you can change the sliders for $a$, $b$, and $c$ to see their effect on the graph."
      ],
      "metadata": {
        "id": "fNYNmvzuU2fE"
      }
    },
    {
      "cell_type": "code",
      "source": [
        "# @title\n",
        "fig = interactive_image()\n",
        "fig.update()\n",
        "fig.display(a=(-10,0,0.01),b=(0,10,0.01), c=(0,10,0.01))"
      ],
      "metadata": {
        "colab": {
          "base_uri": "https://localhost:8080/",
          "height": 66,
          "referenced_widgets": [
            "937860c6b0f14774b3b108059bd19cbe",
            "2e92711af83b4bad873ab57f04befda4",
            "c24391de28bb4675a924088e4c51954e",
            "35c9df5e80e94221a11f0488810c0c18",
            "cb4ce5ed62ca48628118b20b50c73a5d",
            "5099355d13674048a1c1269accfc49e8",
            "50ddf6743b404a70acb0f14e8f39163d",
            "50ac650b7129432190cad02f408bfc3d",
            "2d880f49fcd04c87a05198a9d2367c6c",
            "51b51af55e94459194c553f4f25d1f05",
            "41b0ee04bd7f499ab12bcf673b850b93",
            "a1ef06d8f4c54f159cb60e64ef3bf895",
            "e9477b7048f541c9b2861b3e07dd4445",
            "01cdd2c50b6f41ad97f8167353b3e160",
            "9d2ca9c71f234d7298e1d2268ffdbddb"
          ]
        },
        "id": "hO3-hK3-ZY7p",
        "outputId": "8b97a7d3-64fd-4bc4-bc12-a36355e7dcab",
        "cellView": "form"
      },
      "execution_count": null,
      "outputs": [
        {
          "output_type": "stream",
          "name": "stdout",
          "text": [
            "This equation is rescaled by 10**-6\n"
          ]
        },
        {
          "output_type": "display_data",
          "data": {
            "text/plain": [
              "VBox(children=(HBox(children=(FloatSlider(value=0.0, description='a', max=0.0, min=-10.0, step=0.01), FloatSli…"
            ],
            "application/vnd.jupyter.widget-view+json": {
              "version_major": 2,
              "version_minor": 0,
              "model_id": "937860c6b0f14774b3b108059bd19cbe"
            }
          },
          "metadata": {
            "application/vnd.jupyter.widget-view+json": {
              "colab": {
                "custom_widget_manager": {
                  "url": "https://ssl.gstatic.com/colaboratory-static/widgets/colab-cdn-widget-manager/2b70e893a8ba7c0f/manager.min.js"
                }
              }
            }
          }
        }
      ]
    },
    {
      "cell_type": "markdown",
      "source": [
        "Notice that $a$ changes how curved the line is, $b$ stretches it vertically, and $c$ just moves the line up and down. These three constants are enough to get extremely powerful cuts.\n",
        "\n",
        "For example, the interactive plot shown below plots the graph of our cut over the ionization energy loss plot for protons."
      ],
      "metadata": {
        "id": "_K7JawlAZ0Et"
      }
    },
    {
      "cell_type": "code",
      "source": [
        "# @title\n",
        "particle_to_plot=\"Proton\"\n",
        "canvas = TCanvas(\"c1\",\"Ionization Energy Loss Plot\",700,500)\n",
        "h1 = TH2D(\"h1\",\"Ionization Energy Loss vs. Momentum for \" + particle_to_plot + \"s;Momentum (GeV/c);Ionization Energy Loss\",200,0,1,200,0,2*10**-5)\n",
        "for row in particle_data.loc[particle_data['Particle']== particle_to_plot].iloc:\n",
        "  h1.Fill(row['p'],row['dEdxCDC'])\n",
        "h1.SetStats(0)\n",
        "h1.Draw('COLZ')\n",
        "canvas.SaveAs(\"Proton.png\")\n",
        "fig = interactive_image(\"Proton.png\")\n",
        "fig.update()\n",
        "fig.display(a=(-10,0,0.01),b=(0,10,0.01), c=(0,10,0.01))"
      ],
      "metadata": {
        "colab": {
          "base_uri": "https://localhost:8080/",
          "height": 118,
          "referenced_widgets": [
            "1bc51d5e08044a89a0de4b75eed7d00d",
            "25147564601b411189ae28953aaca430",
            "c096ae9b34dc4e279e6805517e9a9dad",
            "44354eed58a64b84afb5be395b7114c2",
            "a544ad8f46464c48bbb1654f3bca8a01",
            "68475af515ea4afbb747c09e95443694",
            "3037caae89d84a7f9362b2a1a9eea196",
            "18052f74ba3c4011b2f010802db8895c",
            "e4e6f60323144b8885f19fd31a12d512",
            "93212811638941cda4d9ae8862a4db2a",
            "0263e6a568244bb8985b7c439c33da2d",
            "0469d85cc59546d495828c1547e3b1af",
            "b0ed7db6278040cab38437731926ab3d",
            "ff50cab444b14aedb21118871cbc3dcd",
            "529dae3ffe1542919370d07de70f9f6a"
          ]
        },
        "id": "55zhx63YcVkX",
        "outputId": "0ca85d70-89a5-4bd0-cc0a-3b03f73ffb46",
        "cellView": "form"
      },
      "execution_count": null,
      "outputs": [
        {
          "output_type": "stream",
          "name": "stdout",
          "text": [
            "This equation is rescaled by 10**-6\n"
          ]
        },
        {
          "output_type": "display_data",
          "data": {
            "text/plain": [
              "VBox(children=(HBox(children=(FloatSlider(value=0.0, description='a', max=0.0, min=-10.0, step=0.01), FloatSli…"
            ],
            "application/vnd.jupyter.widget-view+json": {
              "version_major": 2,
              "version_minor": 0,
              "model_id": "1bc51d5e08044a89a0de4b75eed7d00d"
            }
          },
          "metadata": {
            "application/vnd.jupyter.widget-view+json": {
              "colab": {
                "custom_widget_manager": {
                  "url": "https://ssl.gstatic.com/colaboratory-static/widgets/colab-cdn-widget-manager/2b70e893a8ba7c0f/manager.min.js"
                }
              }
            }
          }
        },
        {
          "output_type": "stream",
          "name": "stderr",
          "text": [
            "Warning in <TCanvas::Constructor>: Deleting canvas with same name: c1\n",
            "Warning in <TROOT::Append>: Replacing existing TH1: h1 (Potential memory leak).\n",
            "Info in <TCanvas::Print>: png file Proton.png has been created\n"
          ]
        }
      ]
    },
    {
      "cell_type": "markdown",
      "source": [
        "If we set $a=-4.8$, $b=3.6$, and $c=1.5$, we get a line that separates the proton curve (displayed above) from all of the other curves. Therefore, when classifying our particles, we could say that a particle is a proton if:\n",
        "$$\n",
        "dE/dx * 10^6> e^{(-2.5*p+2.3)}+1.4\n",
        "$$\n",
        "We can also find a cut to place as an upper bound. In this case, we might require that:\n",
        "$$\n",
        "dE/dx * 10^6< e^{(-5.8*p+4.55)} + 3.45\n",
        "$$\n",
        "For protons, this is actually unnecessary, since there are no particles seen in the GlueX experiment that appear above protons in an ionization energy loss plot."
      ],
      "metadata": {
        "id": "eTQjkAgDdbV9"
      }
    },
    {
      "cell_type": "markdown",
      "source": [
        "###**Question #11:**\n",
        "---\n",
        "Repeat the process described above to find cuts (both above and below) that help classify kaons, pions, and electrons.\n",
        "\n",
        "**Note:** To make a horizontal line, you can set $a$ and $b$ to 0. Then, you can change $c$ to get a cut of the form $dE/dx * 10^6> c + 1$ or $dE/dx * 10^6 < c+1$. The $c+1$ comes from plugging $a=b=0$ into the exponential equation:\n",
        "$$\n",
        "e^{(0*p+0)}+c = e^0 + c = c + 1\n",
        "$$"
      ],
      "metadata": {
        "id": "Dbz0hDlGaZ1M"
      }
    },
    {
      "cell_type": "markdown",
      "source": [
        "Double click to edit this cell and answer the following question: What cuts should be made for protons, kaons, pions, and electrons in the central drift chamber?"
      ],
      "metadata": {
        "id": "ZVAb8xluDm1B"
      }
    },
    {
      "cell_type": "code",
      "source": [
        "# @title { run: \"auto\" }\n",
        "particle_to_plot = \"Proton\" # @param [\"Proton\", \"Kaon+\", \"Pion+\", \"Electron\"]\n",
        "canvas = TCanvas(\"c1\",\"Ionization Energy Loss Plot\",700,500)\n",
        "h1 = TH2D(\"h1\",\"Ionization Energy Loss vs. Momentum for \" + particle_to_plot + \"s;Momentum (GeV/c);Ionization Energy Loss\",200,0,1,200,0,2*10**-5)\n",
        "for row in particle_data.loc[particle_data['Particle']== particle_to_plot].iloc:\n",
        "  h1.Fill(row['p'],row['dEdxCDC'])\n",
        "h1.SetStats(0)\n",
        "h1.Draw('COLZ')\n",
        "canvas.SaveAs(particle_to_plot + \".png\")\n",
        "fig = interactive_image(particle_to_plot + \".png\")\n",
        "fig.update()\n",
        "fig.display(fig.update_figure, a=(-10,0,0.01),b=(0,10,0.01), c=(0,10,0.01))"
      ],
      "metadata": {
        "colab": {
          "base_uri": "https://localhost:8080/",
          "referenced_widgets": [
            "2a2f4a8085144eef804ee68270f3e9a6",
            "ad26d0aa3f3346c9a776de199085e62c",
            "33367356b644413ba19791755d97b82e",
            "5c8e32beb91f41a8b2d1e16773ea937e",
            "89575d53516d451d98245fbce8fb73f4",
            "e1f1a3b6c02d402a88e3af2d12393ff0",
            "45dd342f5eea40f6bc36900270031030",
            "fc5f7aa5bb8a4996b14663738c8ddf75",
            "3ad0fdab33274708b51b81cb34e3df3e",
            "f4591ecf27004d92aa1dc8d85af04f63",
            "f5509b7dace64d4d8e6f9092834d94ad",
            "ef3b01b0190e4cf88195d42c591fec5d",
            "cd8e031e563f44b190f063b2ad6c1573",
            "de0624d8d4d34b66ace0afaab31fbae4",
            "0ff5420dbd22476299f62c586bee1f45"
          ]
        },
        "id": "XHZ4Ct9g2jr1",
        "outputId": "adc34a4c-bb84-4a61-c1b0-61490e1bd7a6",
        "cellView": "form"
      },
      "execution_count": null,
      "outputs": [
        {
          "output_type": "stream",
          "name": "stdout",
          "text": [
            "This equation is rescaled by 10**-6\n"
          ]
        },
        {
          "output_type": "display_data",
          "data": {
            "text/plain": [
              "VBox(children=(HBox(children=(FloatSlider(value=0.0, description='a', max=0.0, min=-10.0, step=0.01), FloatSli…"
            ],
            "application/vnd.jupyter.widget-view+json": {
              "version_major": 2,
              "version_minor": 0,
              "model_id": "2a2f4a8085144eef804ee68270f3e9a6"
            }
          },
          "metadata": {
            "application/vnd.jupyter.widget-view+json": {
              "colab": {
                "custom_widget_manager": {
                  "url": "https://ssl.gstatic.com/colaboratory-static/widgets/colab-cdn-widget-manager/2b70e893a8ba7c0f/manager.min.js"
                }
              }
            }
          }
        },
        {
          "output_type": "stream",
          "name": "stderr",
          "text": [
            "Warning in <TCanvas::Constructor>: Deleting canvas with same name: c1\n",
            "Warning in <TROOT::Append>: Replacing existing TH1: h1 (Potential memory leak).\n",
            "Info in <TCanvas::Print>: png file Proton.png has been created\n"
          ]
        }
      ]
    },
    {
      "cell_type": "markdown",
      "source": [
        "####**Solution:**"
      ],
      "metadata": {
        "id": "a2HfciCQgJKm"
      }
    },
    {
      "cell_type": "markdown",
      "source": [
        "**Proton:**\n",
        "\n",
        "---\n",
        "$$\n",
        "dE/dx * 10^6> e^{(-2.5*p+2.3)}+1.4\n",
        "$$\n",
        "**Kaon:**\n",
        "\n",
        "---\n",
        "$$\n",
        "dE/dx * 10^6 > e^{(-4.9*p+2.3)}+1.45\n",
        "$$\n",
        "and\n",
        "$$\n",
        "dE/dx * 10^6 < e^{(-4.36*p+2.3)}+2.3\n",
        "$$\n",
        "**Pion:**\n",
        "\n",
        "---\n",
        "$$\n",
        "dE/dx * 10^6 > 2.25\n",
        "$$\n",
        "and $$\n",
        "dE/dx * 10^6 < 3.14\n",
        "$$\n",
        "**Electron:**\n",
        "\n",
        "---\n",
        "$$\n",
        "dE/dx * 10^6 > 1.59\n",
        "$$\n",
        "and\n",
        "$$\n",
        "dE/dx * 10^6 < 2.49\n",
        "$$"
      ],
      "metadata": {
        "id": "W04JYfFPgMv2"
      }
    },
    {
      "cell_type": "markdown",
      "source": [
        "###**Question #12:**\n",
        "---\n",
        "Finally, we will define a function to classify particles! Complete the function definition shown below to apply the cuts and identify particles based on their momentum and ionization energy loss! **Hint:** use `np.exp(a)` to calculate $e^a$."
      ],
      "metadata": {
        "id": "RfwOZzaVg6Ne"
      }
    },
    {
      "cell_type": "code",
      "source": [
        "def identify_particle(p, dEdx):\n",
        "  if #Condition for proton\n",
        "    return \"Proton\"\n",
        "  elif #Condition for kaon\n",
        "    return \"Kaon\"\n",
        "  elif #Condition for pion\n",
        "    return \"Pion\"\n",
        "  elif #Condition for electron\n",
        "    return \"Electron\"\n",
        "  else:\n",
        "    return \"No ID\""
      ],
      "metadata": {
        "id": "E0laz-nGg3NF"
      },
      "execution_count": null,
      "outputs": []
    },
    {
      "cell_type": "markdown",
      "source": [
        "#####**Solution:**"
      ],
      "metadata": {
        "id": "9xgB3nAohr0F"
      }
    },
    {
      "cell_type": "code",
      "source": [
        "def identify_particle(p, dEdx):\n",
        "  if dEdx *10**6> np.exp(-2.5*p+2.3)+1.4:\n",
        "    return \"Proton\"\n",
        "  elif dEdx *10**6> np.exp(-4.9*p+2.3)+1.45 and dEdx *10**6< np.exp(-4.36*p+2.3)+2.3:\n",
        "    return \"Kaon+\"\n",
        "  elif dEdx *10**6> 1.59 and dEdx *10**6 < 2.49:\n",
        "    return \"Pion\"\n",
        "  elif dEdx *10**6> 2.25 and dEdx *10**6< 3.14:\n",
        "    return \"Electron\"\n",
        "  else:\n",
        "    return \"No ID\""
      ],
      "metadata": {
        "id": "WB3vG4aChui5"
      },
      "execution_count": null,
      "outputs": []
    },
    {
      "cell_type": "markdown",
      "source": [
        "###**Question #13:**\n",
        "---\n",
        "The forward drift chamber (FDC) measures the momentum of particles traveling in the positive z direction. Use the sliders below to find similar cuts for ionization energy loss in the forward drift chamber (FDC).\n",
        "\n",
        "**Note:** The equation you find in this question is rescaled by $10^{-6}$. In other words, your cuts should use $dE/dx * 10^6$."
      ],
      "metadata": {
        "id": "EUdPeAskEFs7"
      }
    },
    {
      "cell_type": "markdown",
      "source": [
        "Double click to edit this cell and answer the following question: What cuts should be made for protons, kaons, pions, and electrons in the forward drift chamber (FDC)?"
      ],
      "metadata": {
        "id": "6RXfjmqeEFtN"
      }
    },
    {
      "cell_type": "code",
      "source": [
        "# @title\n",
        "particle_to_plot = \"Electron\" # @param [\"Proton\", \"K+\", \"Pi+\", \"Electron\"]\n",
        "canvas = TCanvas(\"c1\",\"Ionization Energy Loss Plot\",700,500)\n",
        "h1 = TH2D(\"h1\",\"Ionization Energy Loss vs. Momentum for \" + particle_to_plot + \"s in the FDC;Momentum (GeV/c);Ionization Energy Loss\",200,0,5,200,0,0.00001)\n",
        "FDC['p'] = (FDC['px']**2 + FDC['py']**2 + FDC['pz']**2)**0.5\n",
        "for row in FDC.loc[(FDC['Generated As']== particle_to_plot)].iloc:\n",
        "  h1.Fill(row['p'],row['FDC dEdx'])\n",
        "h1.SetStats(0)\n",
        "h1.Draw('COLZ')\n",
        "canvas.SaveAs(particle_to_plot + \"_FDC.png\")\n",
        "fig = interactive_image(particle_to_plot + \"_FDC.png\", x_max = 5, y_max = 0.00001)\n",
        "fig.update()\n",
        "fig.display(a=(-10,0,0.01),b=(0,10,0.01), c=(0,10,0.01))"
      ],
      "metadata": {
        "colab": {
          "base_uri": "https://localhost:8080/",
          "referenced_widgets": [
            "819aecaa6511412c95cffbb7061f1190",
            "f6a66386f8864635904024c311b630e0",
            "656e54123882432eb8ccf0e16f9bde5d",
            "354f6b8e1fd34486a8237d3c696848b1",
            "98de6855c88142a89c6a31ac1dcbad72",
            "47e5a2045c9d42a3a930bcd8d4213823",
            "0ff0abfd107c406ba238bdfd1fa75a9e",
            "c6adc4d06fa34957a0276d946e2372cb",
            "54626dad799b4552a60aa1eb38f6573d",
            "fdfa3fbc390b43028708a097813cd1a4",
            "4e58144565e84a93ac29fb78ace1af6d",
            "0838d8ce17284d16bd25f539b42d9a65",
            "adf8bba729b14cd59ef80223c107d737",
            "b809263c96d54ef0ab6697cb194b6ecc",
            "0a7243b73eec49cc8871c20f2e604c17"
          ]
        },
        "outputId": "a5dc1c01-b658-4d3a-8522-52514c4e0130",
        "cellView": "form",
        "id": "7VzlnfbtEFtN"
      },
      "execution_count": null,
      "outputs": [
        {
          "output_type": "stream",
          "name": "stdout",
          "text": [
            "This equation is rescaled by 10**-6\n"
          ]
        },
        {
          "output_type": "display_data",
          "data": {
            "text/plain": [
              "VBox(children=(HBox(children=(FloatSlider(value=0.0, description='a', max=0.0, min=-10.0, step=0.01), FloatSli…"
            ],
            "application/vnd.jupyter.widget-view+json": {
              "version_major": 2,
              "version_minor": 0,
              "model_id": "819aecaa6511412c95cffbb7061f1190"
            }
          },
          "metadata": {
            "application/vnd.jupyter.widget-view+json": {
              "colab": {
                "custom_widget_manager": {
                  "url": "https://ssl.gstatic.com/colaboratory-static/widgets/colab-cdn-widget-manager/2b70e893a8ba7c0f/manager.min.js"
                }
              }
            }
          }
        },
        {
          "output_type": "stream",
          "name": "stderr",
          "text": [
            "Warning in <TCanvas::Constructor>: Deleting canvas with same name: c1\n",
            "Warning in <TROOT::Append>: Replacing existing TH1: h1 (Potential memory leak).\n",
            "Info in <TCanvas::Print>: png file Electron_FDC.png has been created\n"
          ]
        }
      ]
    },
    {
      "cell_type": "markdown",
      "source": [
        "#####**Solution:**"
      ],
      "metadata": {
        "id": "BasXd2c8EFtO"
      }
    },
    {
      "cell_type": "markdown",
      "source": [
        "**Proton:**\n",
        "\n",
        "---\n",
        "$$\n",
        "dE/dx * 10^6> e^{(-3.55*p+3.7)}+1.3\n",
        "$$\n",
        "**Kaon:**\n",
        "\n",
        "---\n",
        "$$\n",
        "dE/dx * 10^3> e^{(-4.4*p+2)}+1.3\n",
        "$$\n",
        "and\n",
        "$$\n",
        "dE/dx * 10^3< e^{(-4.4*p+2)}+2.3\n",
        "$$\n",
        "**Pion:**\n",
        "\n",
        "---\n",
        "$$\n",
        "dE/dx * 10^3> 1.45\n",
        "$$\n",
        "and $$\n",
        "dE/dx * 10^3< 2.6\n",
        "$$\n",
        "**Electron:**\n",
        "\n",
        "---\n",
        "$$\n",
        "dE/dx * 10^3> 2\n",
        "$$\n",
        "and\n",
        "$$\n",
        "dE/dx * 10^3< 3\n",
        "$$"
      ],
      "metadata": {
        "id": "bCZ8J88sEFtP"
      }
    },
    {
      "cell_type": "markdown",
      "source": [
        "###**Question #14:**\n",
        "---\n",
        "We can also measure ionization energy loss in other detectors (not just drift chambers). One such detector is the start counter, which is the first detector that most particles come in contact with. It surrounds the target of the detector, so any charged particle that is created in the target should interact with the start counter. Use the sliders below to find similar cuts for ionization energy loss in the start counter.\n",
        "\n",
        "**Note:** The equation you find in this question is rescaled by $10^{-3}$. In other words, your cuts should use $dE/dx * 10^3$."
      ],
      "metadata": {
        "id": "iXuRP6BU-oVl"
      }
    },
    {
      "cell_type": "markdown",
      "source": [
        "Double click to edit this cell and answer the following question: What cuts should be made for protons, kaons, pions, and electrons in the start counter?"
      ],
      "metadata": {
        "id": "FIfQpj-nDgI4"
      }
    },
    {
      "cell_type": "code",
      "source": [
        "# @title\n",
        "particle_to_plot = \"Electron\" # @param [\"Proton\", \"K+\", \"Pi+\", \"Electron\"]\n",
        "canvas = TCanvas(\"c1\",\"Ionization Energy Loss Plot\",700,500)\n",
        "h1 = TH2D(\"h1\",\"Ionization Energy Loss vs. Momentum for \" + particle_to_plot + \"s in the Start Counter;Momentum (GeV/c);Ionization Energy Loss\",200,0,2,200,0,0.01)\n",
        "SC['p'] = (SC['px']**2 + SC['py']**2 + SC['pz']**2)**0.5\n",
        "for row in SC.loc[(SC['Generated As']== particle_to_plot) & (SC['p'] <= 2)].iloc:\n",
        "  h1.Fill(row['p'],row['SC dEdx'])\n",
        "h1.SetStats(0)\n",
        "h1.Draw('COLZ')\n",
        "canvas.SaveAs(particle_to_plot + \"_SC.png\")\n",
        "fig = interactive_image(particle_to_plot + \"_SC.png\", x_max = 2, y_max = 0.01)\n",
        "fig.update()\n",
        "fig.display(a=(-10,0,0.01),b=(0,10,0.01), c=(0,10,0.01))"
      ],
      "metadata": {
        "colab": {
          "base_uri": "https://localhost:8080/",
          "referenced_widgets": [
            "e2af6a3bb954489c9efdf3ae230169ae",
            "efc375b9c2dd49f4ad1c8d37b81ac145",
            "ec923db13c4d47449c48e51e2f3dcce0",
            "1cb2ea01ccdb41b498673548af82f9c4",
            "46cc051d420948f6bbf04bfdd62b8184",
            "1124421c03d54ef4aeefd099fb96f979",
            "c4bb677e63734cf98d0c893edf2f8b30",
            "eafa8eeb88b54a06ac933a7dc290a153",
            "4022dfe6e2d54e9ba4727a65dd5f9b04",
            "45e8ea3b278141fb81fcf90b87f93048",
            "b170d945f9134c969a51e7947312b3d0",
            "84be737b12bb49c49b154ff79befd465",
            "db44d6f7bdd8487da82b36da9e30b653",
            "907151920fe844e8a83d1ce29c318568",
            "1bcb2c0d415c45928c7c4592b1b068be"
          ]
        },
        "outputId": "f05c1869-ac1e-421e-8264-b189621379cd",
        "cellView": "form",
        "id": "lGOWs3uJ_JFH"
      },
      "execution_count": null,
      "outputs": [
        {
          "output_type": "stream",
          "name": "stdout",
          "text": [
            "This equation is rescaled by 10**-3\n"
          ]
        },
        {
          "output_type": "display_data",
          "data": {
            "text/plain": [
              "VBox(children=(HBox(children=(FloatSlider(value=0.0, description='a', max=0.0, min=-10.0, step=0.01), FloatSli…"
            ],
            "application/vnd.jupyter.widget-view+json": {
              "version_major": 2,
              "version_minor": 0,
              "model_id": "e2af6a3bb954489c9efdf3ae230169ae"
            }
          },
          "metadata": {
            "application/vnd.jupyter.widget-view+json": {
              "colab": {
                "custom_widget_manager": {
                  "url": "https://ssl.gstatic.com/colaboratory-static/widgets/colab-cdn-widget-manager/2b70e893a8ba7c0f/manager.min.js"
                }
              }
            }
          }
        },
        {
          "output_type": "stream",
          "name": "stderr",
          "text": [
            "Warning in <TCanvas::Constructor>: Deleting canvas with same name: c1\n",
            "Warning in <TROOT::Append>: Replacing existing TH1: h1 (Potential memory leak).\n",
            "Info in <TCanvas::Print>: png file Electron_SC.png has been created\n"
          ]
        }
      ]
    },
    {
      "cell_type": "markdown",
      "source": [
        "#####**Solution:**"
      ],
      "metadata": {
        "id": "Ic8wt40Z-oVt"
      }
    },
    {
      "cell_type": "markdown",
      "source": [
        "**Proton:**\n",
        "\n",
        "---\n",
        "$$\n",
        "dE/dx * 10^3> e^{(-4*p+3.2)}+1.6\n",
        "$$\n",
        "**Kaon:**\n",
        "\n",
        "---\n",
        "$$\n",
        "dE/dx * 10^3> e^{(-4.4*p+2.7)}+1.2\n",
        "$$\n",
        "and\n",
        "$$\n",
        "dE/dx * 10^3< e^{(-4.6*p+3.1)}+2.2\n",
        "$$\n",
        "**Pion:**\n",
        "\n",
        "---\n",
        "$$\n",
        "dE/dx * 10^3> 1.3\n",
        "$$\n",
        "and $$\n",
        "dE/dx * 10^3< 2.3\n",
        "$$\n",
        "**Electron:**\n",
        "\n",
        "---\n",
        "$$\n",
        "dE/dx * 10^3> 2.3\n",
        "$$\n",
        "and\n",
        "$$\n",
        "dE/dx * 10^3< 1.3\n",
        "$$"
      ],
      "metadata": {
        "id": "uwBt1Q9VBUuW"
      }
    },
    {
      "cell_type": "markdown",
      "source": [
        "###**Question #15:**\n",
        "---\n",
        "We can also measure ionization energy loss in a detector called the time of flight detector (more on the time of flight detector in later notebooks). Use the sliders below to find similar cuts for ionization energy loss in the time of flight detector.\n",
        "\n",
        "**Note:** The equation you find in this question is rescaled by $10^{-4}$. In other words, your cuts should use $dE/dx * 10^4$."
      ],
      "metadata": {
        "id": "MKOfhNwbDuzv"
      }
    },
    {
      "cell_type": "markdown",
      "source": [
        "Double click to edit this cell and answer the following question: What cuts should be made for protons, kaons, pions, and electrons in the time of flight detector?"
      ],
      "metadata": {
        "id": "d8Bz8SKvDu0E"
      }
    },
    {
      "cell_type": "code",
      "source": [
        "# @title\n",
        "particle_to_plot = \"Electron\" # @param [\"Proton\", \"K+\", \"Pi+\", \"Electron\"]\n",
        "canvas = TCanvas(\"c1\",\"Ionization Energy Loss Plot\",700,500)\n",
        "h1 = TH2D(\"h1\",\"Ionization Energy Loss vs. Momentum for \" + particle_to_plot + \"s in the Time of Flight Detector;Momentum (GeV/c);Ionization Energy Loss\",200,0,5,200,0,0.002)\n",
        "TOF['p'] = (TOF['px']**2 + TOF['py']**2 + TOF['pz']**2)**0.5\n",
        "for row in TOF.loc[TOF['Generated As']== particle_to_plot].iloc:\n",
        "  h1.Fill(row['p'],row['TOF dEdx'])\n",
        "h1.SetStats(0)\n",
        "h1.Draw('COLZ')\n",
        "canvas.SaveAs(particle_to_plot + \"_TOF.png\")\n",
        "fig = interactive_image(particle_to_plot + \"_TOF.png\", x_max = 5, y_max = 0.002)\n",
        "fig.update()\n",
        "fig.display(a=(-10,0,0.01),b=(0,10,0.01), c=(0,10,0.01))"
      ],
      "metadata": {
        "colab": {
          "base_uri": "https://localhost:8080/",
          "height": 575,
          "referenced_widgets": [
            "eddb2d2019a14aa88144d0ac22f258ca",
            "f2a6789ccdce4de3a88f1044e43fcb6e",
            "c14f9e6a71f24a8f847e28741075b8be",
            "a932e054c4174e9087248ffe9948e454",
            "bdb91c0f0e3b468bb78fb7350dba9ed2",
            "77f015a735fc4527b2426d1840a7c7b3",
            "cc1a8eea8c584366876f2b35a1890407",
            "41bff0845ba34ea381e832f6a0d81d31",
            "3da449d848da4135a2e598f76415236c",
            "fe36f1ae48db46dea4b4fa77c2c97198",
            "b5842632b10d441c985e2b9fe94e1d27",
            "03ebbfc5b7b141bfaae6396114e60e0e",
            "bf095bf538fc46bdb089917b1c4596fd",
            "d8193ea2516648a9a120fc542b0c0e20",
            "445f86cbd9624485b112962a67bbfbb3"
          ]
        },
        "outputId": "930bfc53-55f2-4f64-f8ad-6905260f376d",
        "cellView": "form",
        "id": "73sKRoOIDu0E"
      },
      "execution_count": null,
      "outputs": [
        {
          "output_type": "stream",
          "name": "stdout",
          "text": [
            "This equation is rescaled by 10**-4\n"
          ]
        },
        {
          "output_type": "display_data",
          "data": {
            "text/plain": [
              "VBox(children=(HBox(children=(FloatSlider(value=0.0, description='a', max=0.0, min=-10.0, step=0.01), FloatSli…"
            ],
            "application/vnd.jupyter.widget-view+json": {
              "version_major": 2,
              "version_minor": 0,
              "model_id": "eddb2d2019a14aa88144d0ac22f258ca"
            }
          },
          "metadata": {
            "application/vnd.jupyter.widget-view+json": {
              "colab": {
                "custom_widget_manager": {
                  "url": "https://ssl.gstatic.com/colaboratory-static/widgets/colab-cdn-widget-manager/2b70e893a8ba7c0f/manager.min.js"
                }
              }
            }
          }
        },
        {
          "output_type": "stream",
          "name": "stderr",
          "text": [
            "Warning in <TCanvas::Constructor>: Deleting canvas with same name: c1\n",
            "Warning in <TROOT::Append>: Replacing existing TH1: h1 (Potential memory leak).\n",
            "Info in <TCanvas::Print>: png file Electron_TOF.png has been created\n"
          ]
        }
      ]
    },
    {
      "cell_type": "markdown",
      "source": [
        "#####**Solution:**"
      ],
      "metadata": {
        "id": "Rj47c_0lDu0F"
      }
    },
    {
      "cell_type": "markdown",
      "source": [
        "**Proton:**\n",
        "\n",
        "---\n",
        "$$\n",
        "dE/dx * 10^4> e^{(-2.2*p+3.9)}+8.2\n",
        "$$\n",
        "**Kaon:**\n",
        "\n",
        "---\n",
        "$$\n",
        "dE/dx * 10^4> e^{(-0.4*p+0.8)}+7.6\n",
        "$$\n",
        "and\n",
        "$$\n",
        "dE/dx * 10^4< e^{(-0.4*p+1.4)}+10\n",
        "$$\n",
        "**Pion:**\n",
        "\n",
        "---\n",
        "$$\n",
        "dE/dx * 10^4> 8.6\n",
        "$$\n",
        "and $$\n",
        "dE/dx * 10^4< 11\n",
        "$$\n",
        "**Electron:**\n",
        "\n",
        "---\n",
        "$$\n",
        "dE/dx * 10^4> 8.1\n",
        "$$\n",
        "and\n",
        "$$\n",
        "dE/dx * 10^4< 11\n",
        "$$"
      ],
      "metadata": {
        "id": "HZhMV4DXDu0F"
      }
    }
  ],
  "metadata": {
    "colab": {
      "provenance": [],
      "collapsed_sections": [
        "P8LND11iytC4",
        "9OtWNbTI0IZ9",
        "8Rsd4Wz92n7E",
        "1PevtlvX2n7O",
        "lmVVVNVU6Dhc",
        "P0SDjuBL6Dhl",
        "R3m9Ae9duK3I",
        "se5XcP_sw-ht",
        "TQzi-iOZ8kpz",
        "XndUDkOv-I81",
        "tHpBTRZq-eFj",
        "ikGDulIt_FAx",
        "nUpWJeV4AThJ",
        "PP8_4LS0CsxT",
        "HkFauHXDC38e",
        "l3tYE9KiEnlT",
        "1Hjh-q7kxKMz",
        "tR9c8yBWz_ZH",
        "6QbMFVDoQCk-",
        "Iuux1yTrUZRN",
        "Dbz0hDlGaZ1M",
        "a2HfciCQgJKm",
        "RfwOZzaVg6Ne",
        "9xgB3nAohr0F",
        "EUdPeAskEFs7",
        "BasXd2c8EFtO",
        "iXuRP6BU-oVl",
        "Ic8wt40Z-oVt",
        "MKOfhNwbDuzv",
        "Rj47c_0lDu0F"
      ],
      "authorship_tag": "ABX9TyNmmICqI7+lycxjJaijjFsY",
      "include_colab_link": true
    },
    "kernelspec": {
      "display_name": "Python 3",
      "name": "python3"
    },
    "language_info": {
      "name": "python"
    },
    "widgets": {
      "application/vnd.jupyter.widget-state+json": {
        "2a2f4a8085144eef804ee68270f3e9a6": {
          "model_module": "@jupyter-widgets/controls",
          "model_name": "VBoxModel",
          "model_module_version": "1.5.0",
          "state": {
            "_dom_classes": [],
            "_model_module": "@jupyter-widgets/controls",
            "_model_module_version": "1.5.0",
            "_model_name": "VBoxModel",
            "_view_count": null,
            "_view_module": "@jupyter-widgets/controls",
            "_view_module_version": "1.5.0",
            "_view_name": "VBoxView",
            "box_style": "",
            "children": [
              "IPY_MODEL_ad26d0aa3f3346c9a776de199085e62c",
              "IPY_MODEL_33367356b644413ba19791755d97b82e"
            ],
            "layout": "IPY_MODEL_5c8e32beb91f41a8b2d1e16773ea937e"
          }
        },
        "ad26d0aa3f3346c9a776de199085e62c": {
          "model_module": "@jupyter-widgets/controls",
          "model_name": "HBoxModel",
          "model_module_version": "1.5.0",
          "state": {
            "_dom_classes": [],
            "_model_module": "@jupyter-widgets/controls",
            "_model_module_version": "1.5.0",
            "_model_name": "HBoxModel",
            "_view_count": null,
            "_view_module": "@jupyter-widgets/controls",
            "_view_module_version": "1.5.0",
            "_view_name": "HBoxView",
            "box_style": "",
            "children": [
              "IPY_MODEL_89575d53516d451d98245fbce8fb73f4",
              "IPY_MODEL_e1f1a3b6c02d402a88e3af2d12393ff0",
              "IPY_MODEL_45dd342f5eea40f6bc36900270031030"
            ],
            "layout": "IPY_MODEL_fc5f7aa5bb8a4996b14663738c8ddf75"
          }
        },
        "33367356b644413ba19791755d97b82e": {
          "model_module": "@jupyter-widgets/output",
          "model_name": "OutputModel",
          "model_module_version": "1.0.0",
          "state": {
            "_dom_classes": [],
            "_model_module": "@jupyter-widgets/output",
            "_model_module_version": "1.0.0",
            "_model_name": "OutputModel",
            "_view_count": null,
            "_view_module": "@jupyter-widgets/output",
            "_view_module_version": "1.0.0",
            "_view_name": "OutputView",
            "layout": "IPY_MODEL_3ad0fdab33274708b51b81cb34e3df3e",
            "msg_id": "",
            "outputs": []
          }
        },
        "5c8e32beb91f41a8b2d1e16773ea937e": {
          "model_module": "@jupyter-widgets/base",
          "model_name": "LayoutModel",
          "model_module_version": "1.2.0",
          "state": {
            "_model_module": "@jupyter-widgets/base",
            "_model_module_version": "1.2.0",
            "_model_name": "LayoutModel",
            "_view_count": null,
            "_view_module": "@jupyter-widgets/base",
            "_view_module_version": "1.2.0",
            "_view_name": "LayoutView",
            "align_content": null,
            "align_items": null,
            "align_self": null,
            "border": null,
            "bottom": null,
            "display": null,
            "flex": null,
            "flex_flow": null,
            "grid_area": null,
            "grid_auto_columns": null,
            "grid_auto_flow": null,
            "grid_auto_rows": null,
            "grid_column": null,
            "grid_gap": null,
            "grid_row": null,
            "grid_template_areas": null,
            "grid_template_columns": null,
            "grid_template_rows": null,
            "height": null,
            "justify_content": null,
            "justify_items": null,
            "left": null,
            "margin": null,
            "max_height": null,
            "max_width": null,
            "min_height": null,
            "min_width": null,
            "object_fit": null,
            "object_position": null,
            "order": null,
            "overflow": null,
            "overflow_x": null,
            "overflow_y": null,
            "padding": null,
            "right": null,
            "top": null,
            "visibility": null,
            "width": null
          }
        },
        "89575d53516d451d98245fbce8fb73f4": {
          "model_module": "@jupyter-widgets/controls",
          "model_name": "FloatSliderModel",
          "model_module_version": "1.5.0",
          "state": {
            "_dom_classes": [],
            "_model_module": "@jupyter-widgets/controls",
            "_model_module_version": "1.5.0",
            "_model_name": "FloatSliderModel",
            "_view_count": null,
            "_view_module": "@jupyter-widgets/controls",
            "_view_module_version": "1.5.0",
            "_view_name": "FloatSliderView",
            "continuous_update": true,
            "description": "a",
            "description_tooltip": null,
            "disabled": false,
            "layout": "IPY_MODEL_f4591ecf27004d92aa1dc8d85af04f63",
            "max": 0,
            "min": -10,
            "orientation": "horizontal",
            "readout": true,
            "readout_format": ".2f",
            "step": 0.01,
            "style": "IPY_MODEL_f5509b7dace64d4d8e6f9092834d94ad",
            "value": 0
          }
        },
        "e1f1a3b6c02d402a88e3af2d12393ff0": {
          "model_module": "@jupyter-widgets/controls",
          "model_name": "FloatSliderModel",
          "model_module_version": "1.5.0",
          "state": {
            "_dom_classes": [],
            "_model_module": "@jupyter-widgets/controls",
            "_model_module_version": "1.5.0",
            "_model_name": "FloatSliderModel",
            "_view_count": null,
            "_view_module": "@jupyter-widgets/controls",
            "_view_module_version": "1.5.0",
            "_view_name": "FloatSliderView",
            "continuous_update": true,
            "description": "b",
            "description_tooltip": null,
            "disabled": false,
            "layout": "IPY_MODEL_ef3b01b0190e4cf88195d42c591fec5d",
            "max": 10,
            "min": 0,
            "orientation": "horizontal",
            "readout": true,
            "readout_format": ".2f",
            "step": 0.01,
            "style": "IPY_MODEL_cd8e031e563f44b190f063b2ad6c1573",
            "value": 1
          }
        },
        "45dd342f5eea40f6bc36900270031030": {
          "model_module": "@jupyter-widgets/controls",
          "model_name": "FloatSliderModel",
          "model_module_version": "1.5.0",
          "state": {
            "_dom_classes": [],
            "_model_module": "@jupyter-widgets/controls",
            "_model_module_version": "1.5.0",
            "_model_name": "FloatSliderModel",
            "_view_count": null,
            "_view_module": "@jupyter-widgets/controls",
            "_view_module_version": "1.5.0",
            "_view_name": "FloatSliderView",
            "continuous_update": true,
            "description": "c",
            "description_tooltip": null,
            "disabled": false,
            "layout": "IPY_MODEL_de0624d8d4d34b66ace0afaab31fbae4",
            "max": 10,
            "min": 0,
            "orientation": "horizontal",
            "readout": true,
            "readout_format": ".2f",
            "step": 0.01,
            "style": "IPY_MODEL_0ff5420dbd22476299f62c586bee1f45",
            "value": 1
          }
        },
        "fc5f7aa5bb8a4996b14663738c8ddf75": {
          "model_module": "@jupyter-widgets/base",
          "model_name": "LayoutModel",
          "model_module_version": "1.2.0",
          "state": {
            "_model_module": "@jupyter-widgets/base",
            "_model_module_version": "1.2.0",
            "_model_name": "LayoutModel",
            "_view_count": null,
            "_view_module": "@jupyter-widgets/base",
            "_view_module_version": "1.2.0",
            "_view_name": "LayoutView",
            "align_content": null,
            "align_items": null,
            "align_self": null,
            "border": null,
            "bottom": null,
            "display": null,
            "flex": null,
            "flex_flow": "row wrap",
            "grid_area": null,
            "grid_auto_columns": null,
            "grid_auto_flow": null,
            "grid_auto_rows": null,
            "grid_column": null,
            "grid_gap": null,
            "grid_row": null,
            "grid_template_areas": null,
            "grid_template_columns": null,
            "grid_template_rows": null,
            "height": null,
            "justify_content": null,
            "justify_items": null,
            "left": null,
            "margin": null,
            "max_height": null,
            "max_width": null,
            "min_height": null,
            "min_width": null,
            "object_fit": null,
            "object_position": null,
            "order": null,
            "overflow": null,
            "overflow_x": null,
            "overflow_y": null,
            "padding": null,
            "right": null,
            "top": null,
            "visibility": null,
            "width": null
          }
        },
        "3ad0fdab33274708b51b81cb34e3df3e": {
          "model_module": "@jupyter-widgets/base",
          "model_name": "LayoutModel",
          "model_module_version": "1.2.0",
          "state": {
            "_model_module": "@jupyter-widgets/base",
            "_model_module_version": "1.2.0",
            "_model_name": "LayoutModel",
            "_view_count": null,
            "_view_module": "@jupyter-widgets/base",
            "_view_module_version": "1.2.0",
            "_view_name": "LayoutView",
            "align_content": null,
            "align_items": null,
            "align_self": null,
            "border": null,
            "bottom": null,
            "display": null,
            "flex": null,
            "flex_flow": null,
            "grid_area": null,
            "grid_auto_columns": null,
            "grid_auto_flow": null,
            "grid_auto_rows": null,
            "grid_column": null,
            "grid_gap": null,
            "grid_row": null,
            "grid_template_areas": null,
            "grid_template_columns": null,
            "grid_template_rows": null,
            "height": null,
            "justify_content": null,
            "justify_items": null,
            "left": null,
            "margin": null,
            "max_height": null,
            "max_width": null,
            "min_height": null,
            "min_width": null,
            "object_fit": null,
            "object_position": null,
            "order": null,
            "overflow": null,
            "overflow_x": null,
            "overflow_y": null,
            "padding": null,
            "right": null,
            "top": null,
            "visibility": null,
            "width": null
          }
        },
        "f4591ecf27004d92aa1dc8d85af04f63": {
          "model_module": "@jupyter-widgets/base",
          "model_name": "LayoutModel",
          "model_module_version": "1.2.0",
          "state": {
            "_model_module": "@jupyter-widgets/base",
            "_model_module_version": "1.2.0",
            "_model_name": "LayoutModel",
            "_view_count": null,
            "_view_module": "@jupyter-widgets/base",
            "_view_module_version": "1.2.0",
            "_view_name": "LayoutView",
            "align_content": null,
            "align_items": null,
            "align_self": null,
            "border": null,
            "bottom": null,
            "display": null,
            "flex": null,
            "flex_flow": null,
            "grid_area": null,
            "grid_auto_columns": null,
            "grid_auto_flow": null,
            "grid_auto_rows": null,
            "grid_column": null,
            "grid_gap": null,
            "grid_row": null,
            "grid_template_areas": null,
            "grid_template_columns": null,
            "grid_template_rows": null,
            "height": null,
            "justify_content": null,
            "justify_items": null,
            "left": null,
            "margin": null,
            "max_height": null,
            "max_width": null,
            "min_height": null,
            "min_width": null,
            "object_fit": null,
            "object_position": null,
            "order": null,
            "overflow": null,
            "overflow_x": null,
            "overflow_y": null,
            "padding": null,
            "right": null,
            "top": null,
            "visibility": null,
            "width": null
          }
        },
        "f5509b7dace64d4d8e6f9092834d94ad": {
          "model_module": "@jupyter-widgets/controls",
          "model_name": "SliderStyleModel",
          "model_module_version": "1.5.0",
          "state": {
            "_model_module": "@jupyter-widgets/controls",
            "_model_module_version": "1.5.0",
            "_model_name": "SliderStyleModel",
            "_view_count": null,
            "_view_module": "@jupyter-widgets/base",
            "_view_module_version": "1.2.0",
            "_view_name": "StyleView",
            "description_width": "",
            "handle_color": null
          }
        },
        "ef3b01b0190e4cf88195d42c591fec5d": {
          "model_module": "@jupyter-widgets/base",
          "model_name": "LayoutModel",
          "model_module_version": "1.2.0",
          "state": {
            "_model_module": "@jupyter-widgets/base",
            "_model_module_version": "1.2.0",
            "_model_name": "LayoutModel",
            "_view_count": null,
            "_view_module": "@jupyter-widgets/base",
            "_view_module_version": "1.2.0",
            "_view_name": "LayoutView",
            "align_content": null,
            "align_items": null,
            "align_self": null,
            "border": null,
            "bottom": null,
            "display": null,
            "flex": null,
            "flex_flow": null,
            "grid_area": null,
            "grid_auto_columns": null,
            "grid_auto_flow": null,
            "grid_auto_rows": null,
            "grid_column": null,
            "grid_gap": null,
            "grid_row": null,
            "grid_template_areas": null,
            "grid_template_columns": null,
            "grid_template_rows": null,
            "height": null,
            "justify_content": null,
            "justify_items": null,
            "left": null,
            "margin": null,
            "max_height": null,
            "max_width": null,
            "min_height": null,
            "min_width": null,
            "object_fit": null,
            "object_position": null,
            "order": null,
            "overflow": null,
            "overflow_x": null,
            "overflow_y": null,
            "padding": null,
            "right": null,
            "top": null,
            "visibility": null,
            "width": null
          }
        },
        "cd8e031e563f44b190f063b2ad6c1573": {
          "model_module": "@jupyter-widgets/controls",
          "model_name": "SliderStyleModel",
          "model_module_version": "1.5.0",
          "state": {
            "_model_module": "@jupyter-widgets/controls",
            "_model_module_version": "1.5.0",
            "_model_name": "SliderStyleModel",
            "_view_count": null,
            "_view_module": "@jupyter-widgets/base",
            "_view_module_version": "1.2.0",
            "_view_name": "StyleView",
            "description_width": "",
            "handle_color": null
          }
        },
        "de0624d8d4d34b66ace0afaab31fbae4": {
          "model_module": "@jupyter-widgets/base",
          "model_name": "LayoutModel",
          "model_module_version": "1.2.0",
          "state": {
            "_model_module": "@jupyter-widgets/base",
            "_model_module_version": "1.2.0",
            "_model_name": "LayoutModel",
            "_view_count": null,
            "_view_module": "@jupyter-widgets/base",
            "_view_module_version": "1.2.0",
            "_view_name": "LayoutView",
            "align_content": null,
            "align_items": null,
            "align_self": null,
            "border": null,
            "bottom": null,
            "display": null,
            "flex": null,
            "flex_flow": null,
            "grid_area": null,
            "grid_auto_columns": null,
            "grid_auto_flow": null,
            "grid_auto_rows": null,
            "grid_column": null,
            "grid_gap": null,
            "grid_row": null,
            "grid_template_areas": null,
            "grid_template_columns": null,
            "grid_template_rows": null,
            "height": null,
            "justify_content": null,
            "justify_items": null,
            "left": null,
            "margin": null,
            "max_height": null,
            "max_width": null,
            "min_height": null,
            "min_width": null,
            "object_fit": null,
            "object_position": null,
            "order": null,
            "overflow": null,
            "overflow_x": null,
            "overflow_y": null,
            "padding": null,
            "right": null,
            "top": null,
            "visibility": null,
            "width": null
          }
        },
        "0ff5420dbd22476299f62c586bee1f45": {
          "model_module": "@jupyter-widgets/controls",
          "model_name": "SliderStyleModel",
          "model_module_version": "1.5.0",
          "state": {
            "_model_module": "@jupyter-widgets/controls",
            "_model_module_version": "1.5.0",
            "_model_name": "SliderStyleModel",
            "_view_count": null,
            "_view_module": "@jupyter-widgets/base",
            "_view_module_version": "1.2.0",
            "_view_name": "StyleView",
            "description_width": "",
            "handle_color": null
          }
        },
        "937860c6b0f14774b3b108059bd19cbe": {
          "model_module": "@jupyter-widgets/controls",
          "model_name": "VBoxModel",
          "model_module_version": "1.5.0",
          "state": {
            "_dom_classes": [],
            "_model_module": "@jupyter-widgets/controls",
            "_model_module_version": "1.5.0",
            "_model_name": "VBoxModel",
            "_view_count": null,
            "_view_module": "@jupyter-widgets/controls",
            "_view_module_version": "1.5.0",
            "_view_name": "VBoxView",
            "box_style": "",
            "children": [
              "IPY_MODEL_2e92711af83b4bad873ab57f04befda4",
              "IPY_MODEL_c24391de28bb4675a924088e4c51954e"
            ],
            "layout": "IPY_MODEL_35c9df5e80e94221a11f0488810c0c18"
          }
        },
        "2e92711af83b4bad873ab57f04befda4": {
          "model_module": "@jupyter-widgets/controls",
          "model_name": "HBoxModel",
          "model_module_version": "1.5.0",
          "state": {
            "_dom_classes": [],
            "_model_module": "@jupyter-widgets/controls",
            "_model_module_version": "1.5.0",
            "_model_name": "HBoxModel",
            "_view_count": null,
            "_view_module": "@jupyter-widgets/controls",
            "_view_module_version": "1.5.0",
            "_view_name": "HBoxView",
            "box_style": "",
            "children": [
              "IPY_MODEL_cb4ce5ed62ca48628118b20b50c73a5d",
              "IPY_MODEL_5099355d13674048a1c1269accfc49e8",
              "IPY_MODEL_50ddf6743b404a70acb0f14e8f39163d"
            ],
            "layout": "IPY_MODEL_50ac650b7129432190cad02f408bfc3d"
          }
        },
        "c24391de28bb4675a924088e4c51954e": {
          "model_module": "@jupyter-widgets/output",
          "model_name": "OutputModel",
          "model_module_version": "1.0.0",
          "state": {
            "_dom_classes": [],
            "_model_module": "@jupyter-widgets/output",
            "_model_module_version": "1.0.0",
            "_model_name": "OutputModel",
            "_view_count": null,
            "_view_module": "@jupyter-widgets/output",
            "_view_module_version": "1.0.0",
            "_view_name": "OutputView",
            "layout": "IPY_MODEL_2d880f49fcd04c87a05198a9d2367c6c",
            "msg_id": "",
            "outputs": []
          }
        },
        "35c9df5e80e94221a11f0488810c0c18": {
          "model_module": "@jupyter-widgets/base",
          "model_name": "LayoutModel",
          "model_module_version": "1.2.0",
          "state": {
            "_model_module": "@jupyter-widgets/base",
            "_model_module_version": "1.2.0",
            "_model_name": "LayoutModel",
            "_view_count": null,
            "_view_module": "@jupyter-widgets/base",
            "_view_module_version": "1.2.0",
            "_view_name": "LayoutView",
            "align_content": null,
            "align_items": null,
            "align_self": null,
            "border": null,
            "bottom": null,
            "display": null,
            "flex": null,
            "flex_flow": null,
            "grid_area": null,
            "grid_auto_columns": null,
            "grid_auto_flow": null,
            "grid_auto_rows": null,
            "grid_column": null,
            "grid_gap": null,
            "grid_row": null,
            "grid_template_areas": null,
            "grid_template_columns": null,
            "grid_template_rows": null,
            "height": null,
            "justify_content": null,
            "justify_items": null,
            "left": null,
            "margin": null,
            "max_height": null,
            "max_width": null,
            "min_height": null,
            "min_width": null,
            "object_fit": null,
            "object_position": null,
            "order": null,
            "overflow": null,
            "overflow_x": null,
            "overflow_y": null,
            "padding": null,
            "right": null,
            "top": null,
            "visibility": null,
            "width": null
          }
        },
        "cb4ce5ed62ca48628118b20b50c73a5d": {
          "model_module": "@jupyter-widgets/controls",
          "model_name": "FloatSliderModel",
          "model_module_version": "1.5.0",
          "state": {
            "_dom_classes": [],
            "_model_module": "@jupyter-widgets/controls",
            "_model_module_version": "1.5.0",
            "_model_name": "FloatSliderModel",
            "_view_count": null,
            "_view_module": "@jupyter-widgets/controls",
            "_view_module_version": "1.5.0",
            "_view_name": "FloatSliderView",
            "continuous_update": true,
            "description": "a",
            "description_tooltip": null,
            "disabled": false,
            "layout": "IPY_MODEL_51b51af55e94459194c553f4f25d1f05",
            "max": 0,
            "min": -10,
            "orientation": "horizontal",
            "readout": true,
            "readout_format": ".2f",
            "step": 0.01,
            "style": "IPY_MODEL_41b0ee04bd7f499ab12bcf673b850b93",
            "value": 0
          }
        },
        "5099355d13674048a1c1269accfc49e8": {
          "model_module": "@jupyter-widgets/controls",
          "model_name": "FloatSliderModel",
          "model_module_version": "1.5.0",
          "state": {
            "_dom_classes": [],
            "_model_module": "@jupyter-widgets/controls",
            "_model_module_version": "1.5.0",
            "_model_name": "FloatSliderModel",
            "_view_count": null,
            "_view_module": "@jupyter-widgets/controls",
            "_view_module_version": "1.5.0",
            "_view_name": "FloatSliderView",
            "continuous_update": true,
            "description": "b",
            "description_tooltip": null,
            "disabled": false,
            "layout": "IPY_MODEL_a1ef06d8f4c54f159cb60e64ef3bf895",
            "max": 10,
            "min": 0,
            "orientation": "horizontal",
            "readout": true,
            "readout_format": ".2f",
            "step": 0.01,
            "style": "IPY_MODEL_e9477b7048f541c9b2861b3e07dd4445",
            "value": 1
          }
        },
        "50ddf6743b404a70acb0f14e8f39163d": {
          "model_module": "@jupyter-widgets/controls",
          "model_name": "FloatSliderModel",
          "model_module_version": "1.5.0",
          "state": {
            "_dom_classes": [],
            "_model_module": "@jupyter-widgets/controls",
            "_model_module_version": "1.5.0",
            "_model_name": "FloatSliderModel",
            "_view_count": null,
            "_view_module": "@jupyter-widgets/controls",
            "_view_module_version": "1.5.0",
            "_view_name": "FloatSliderView",
            "continuous_update": true,
            "description": "c",
            "description_tooltip": null,
            "disabled": false,
            "layout": "IPY_MODEL_01cdd2c50b6f41ad97f8167353b3e160",
            "max": 10,
            "min": 0,
            "orientation": "horizontal",
            "readout": true,
            "readout_format": ".2f",
            "step": 0.01,
            "style": "IPY_MODEL_9d2ca9c71f234d7298e1d2268ffdbddb",
            "value": 1
          }
        },
        "50ac650b7129432190cad02f408bfc3d": {
          "model_module": "@jupyter-widgets/base",
          "model_name": "LayoutModel",
          "model_module_version": "1.2.0",
          "state": {
            "_model_module": "@jupyter-widgets/base",
            "_model_module_version": "1.2.0",
            "_model_name": "LayoutModel",
            "_view_count": null,
            "_view_module": "@jupyter-widgets/base",
            "_view_module_version": "1.2.0",
            "_view_name": "LayoutView",
            "align_content": null,
            "align_items": null,
            "align_self": null,
            "border": null,
            "bottom": null,
            "display": null,
            "flex": null,
            "flex_flow": "row wrap",
            "grid_area": null,
            "grid_auto_columns": null,
            "grid_auto_flow": null,
            "grid_auto_rows": null,
            "grid_column": null,
            "grid_gap": null,
            "grid_row": null,
            "grid_template_areas": null,
            "grid_template_columns": null,
            "grid_template_rows": null,
            "height": null,
            "justify_content": null,
            "justify_items": null,
            "left": null,
            "margin": null,
            "max_height": null,
            "max_width": null,
            "min_height": null,
            "min_width": null,
            "object_fit": null,
            "object_position": null,
            "order": null,
            "overflow": null,
            "overflow_x": null,
            "overflow_y": null,
            "padding": null,
            "right": null,
            "top": null,
            "visibility": null,
            "width": null
          }
        },
        "2d880f49fcd04c87a05198a9d2367c6c": {
          "model_module": "@jupyter-widgets/base",
          "model_name": "LayoutModel",
          "model_module_version": "1.2.0",
          "state": {
            "_model_module": "@jupyter-widgets/base",
            "_model_module_version": "1.2.0",
            "_model_name": "LayoutModel",
            "_view_count": null,
            "_view_module": "@jupyter-widgets/base",
            "_view_module_version": "1.2.0",
            "_view_name": "LayoutView",
            "align_content": null,
            "align_items": null,
            "align_self": null,
            "border": null,
            "bottom": null,
            "display": null,
            "flex": null,
            "flex_flow": null,
            "grid_area": null,
            "grid_auto_columns": null,
            "grid_auto_flow": null,
            "grid_auto_rows": null,
            "grid_column": null,
            "grid_gap": null,
            "grid_row": null,
            "grid_template_areas": null,
            "grid_template_columns": null,
            "grid_template_rows": null,
            "height": null,
            "justify_content": null,
            "justify_items": null,
            "left": null,
            "margin": null,
            "max_height": null,
            "max_width": null,
            "min_height": null,
            "min_width": null,
            "object_fit": null,
            "object_position": null,
            "order": null,
            "overflow": null,
            "overflow_x": null,
            "overflow_y": null,
            "padding": null,
            "right": null,
            "top": null,
            "visibility": null,
            "width": null
          }
        },
        "51b51af55e94459194c553f4f25d1f05": {
          "model_module": "@jupyter-widgets/base",
          "model_name": "LayoutModel",
          "model_module_version": "1.2.0",
          "state": {
            "_model_module": "@jupyter-widgets/base",
            "_model_module_version": "1.2.0",
            "_model_name": "LayoutModel",
            "_view_count": null,
            "_view_module": "@jupyter-widgets/base",
            "_view_module_version": "1.2.0",
            "_view_name": "LayoutView",
            "align_content": null,
            "align_items": null,
            "align_self": null,
            "border": null,
            "bottom": null,
            "display": null,
            "flex": null,
            "flex_flow": null,
            "grid_area": null,
            "grid_auto_columns": null,
            "grid_auto_flow": null,
            "grid_auto_rows": null,
            "grid_column": null,
            "grid_gap": null,
            "grid_row": null,
            "grid_template_areas": null,
            "grid_template_columns": null,
            "grid_template_rows": null,
            "height": null,
            "justify_content": null,
            "justify_items": null,
            "left": null,
            "margin": null,
            "max_height": null,
            "max_width": null,
            "min_height": null,
            "min_width": null,
            "object_fit": null,
            "object_position": null,
            "order": null,
            "overflow": null,
            "overflow_x": null,
            "overflow_y": null,
            "padding": null,
            "right": null,
            "top": null,
            "visibility": null,
            "width": null
          }
        },
        "41b0ee04bd7f499ab12bcf673b850b93": {
          "model_module": "@jupyter-widgets/controls",
          "model_name": "SliderStyleModel",
          "model_module_version": "1.5.0",
          "state": {
            "_model_module": "@jupyter-widgets/controls",
            "_model_module_version": "1.5.0",
            "_model_name": "SliderStyleModel",
            "_view_count": null,
            "_view_module": "@jupyter-widgets/base",
            "_view_module_version": "1.2.0",
            "_view_name": "StyleView",
            "description_width": "",
            "handle_color": null
          }
        },
        "a1ef06d8f4c54f159cb60e64ef3bf895": {
          "model_module": "@jupyter-widgets/base",
          "model_name": "LayoutModel",
          "model_module_version": "1.2.0",
          "state": {
            "_model_module": "@jupyter-widgets/base",
            "_model_module_version": "1.2.0",
            "_model_name": "LayoutModel",
            "_view_count": null,
            "_view_module": "@jupyter-widgets/base",
            "_view_module_version": "1.2.0",
            "_view_name": "LayoutView",
            "align_content": null,
            "align_items": null,
            "align_self": null,
            "border": null,
            "bottom": null,
            "display": null,
            "flex": null,
            "flex_flow": null,
            "grid_area": null,
            "grid_auto_columns": null,
            "grid_auto_flow": null,
            "grid_auto_rows": null,
            "grid_column": null,
            "grid_gap": null,
            "grid_row": null,
            "grid_template_areas": null,
            "grid_template_columns": null,
            "grid_template_rows": null,
            "height": null,
            "justify_content": null,
            "justify_items": null,
            "left": null,
            "margin": null,
            "max_height": null,
            "max_width": null,
            "min_height": null,
            "min_width": null,
            "object_fit": null,
            "object_position": null,
            "order": null,
            "overflow": null,
            "overflow_x": null,
            "overflow_y": null,
            "padding": null,
            "right": null,
            "top": null,
            "visibility": null,
            "width": null
          }
        },
        "e9477b7048f541c9b2861b3e07dd4445": {
          "model_module": "@jupyter-widgets/controls",
          "model_name": "SliderStyleModel",
          "model_module_version": "1.5.0",
          "state": {
            "_model_module": "@jupyter-widgets/controls",
            "_model_module_version": "1.5.0",
            "_model_name": "SliderStyleModel",
            "_view_count": null,
            "_view_module": "@jupyter-widgets/base",
            "_view_module_version": "1.2.0",
            "_view_name": "StyleView",
            "description_width": "",
            "handle_color": null
          }
        },
        "01cdd2c50b6f41ad97f8167353b3e160": {
          "model_module": "@jupyter-widgets/base",
          "model_name": "LayoutModel",
          "model_module_version": "1.2.0",
          "state": {
            "_model_module": "@jupyter-widgets/base",
            "_model_module_version": "1.2.0",
            "_model_name": "LayoutModel",
            "_view_count": null,
            "_view_module": "@jupyter-widgets/base",
            "_view_module_version": "1.2.0",
            "_view_name": "LayoutView",
            "align_content": null,
            "align_items": null,
            "align_self": null,
            "border": null,
            "bottom": null,
            "display": null,
            "flex": null,
            "flex_flow": null,
            "grid_area": null,
            "grid_auto_columns": null,
            "grid_auto_flow": null,
            "grid_auto_rows": null,
            "grid_column": null,
            "grid_gap": null,
            "grid_row": null,
            "grid_template_areas": null,
            "grid_template_columns": null,
            "grid_template_rows": null,
            "height": null,
            "justify_content": null,
            "justify_items": null,
            "left": null,
            "margin": null,
            "max_height": null,
            "max_width": null,
            "min_height": null,
            "min_width": null,
            "object_fit": null,
            "object_position": null,
            "order": null,
            "overflow": null,
            "overflow_x": null,
            "overflow_y": null,
            "padding": null,
            "right": null,
            "top": null,
            "visibility": null,
            "width": null
          }
        },
        "9d2ca9c71f234d7298e1d2268ffdbddb": {
          "model_module": "@jupyter-widgets/controls",
          "model_name": "SliderStyleModel",
          "model_module_version": "1.5.0",
          "state": {
            "_model_module": "@jupyter-widgets/controls",
            "_model_module_version": "1.5.0",
            "_model_name": "SliderStyleModel",
            "_view_count": null,
            "_view_module": "@jupyter-widgets/base",
            "_view_module_version": "1.2.0",
            "_view_name": "StyleView",
            "description_width": "",
            "handle_color": null
          }
        },
        "1bc51d5e08044a89a0de4b75eed7d00d": {
          "model_module": "@jupyter-widgets/controls",
          "model_name": "VBoxModel",
          "model_module_version": "1.5.0",
          "state": {
            "_dom_classes": [],
            "_model_module": "@jupyter-widgets/controls",
            "_model_module_version": "1.5.0",
            "_model_name": "VBoxModel",
            "_view_count": null,
            "_view_module": "@jupyter-widgets/controls",
            "_view_module_version": "1.5.0",
            "_view_name": "VBoxView",
            "box_style": "",
            "children": [
              "IPY_MODEL_25147564601b411189ae28953aaca430",
              "IPY_MODEL_c096ae9b34dc4e279e6805517e9a9dad"
            ],
            "layout": "IPY_MODEL_44354eed58a64b84afb5be395b7114c2"
          }
        },
        "25147564601b411189ae28953aaca430": {
          "model_module": "@jupyter-widgets/controls",
          "model_name": "HBoxModel",
          "model_module_version": "1.5.0",
          "state": {
            "_dom_classes": [],
            "_model_module": "@jupyter-widgets/controls",
            "_model_module_version": "1.5.0",
            "_model_name": "HBoxModel",
            "_view_count": null,
            "_view_module": "@jupyter-widgets/controls",
            "_view_module_version": "1.5.0",
            "_view_name": "HBoxView",
            "box_style": "",
            "children": [
              "IPY_MODEL_a544ad8f46464c48bbb1654f3bca8a01",
              "IPY_MODEL_68475af515ea4afbb747c09e95443694",
              "IPY_MODEL_3037caae89d84a7f9362b2a1a9eea196"
            ],
            "layout": "IPY_MODEL_18052f74ba3c4011b2f010802db8895c"
          }
        },
        "c096ae9b34dc4e279e6805517e9a9dad": {
          "model_module": "@jupyter-widgets/output",
          "model_name": "OutputModel",
          "model_module_version": "1.0.0",
          "state": {
            "_dom_classes": [],
            "_model_module": "@jupyter-widgets/output",
            "_model_module_version": "1.0.0",
            "_model_name": "OutputModel",
            "_view_count": null,
            "_view_module": "@jupyter-widgets/output",
            "_view_module_version": "1.0.0",
            "_view_name": "OutputView",
            "layout": "IPY_MODEL_e4e6f60323144b8885f19fd31a12d512",
            "msg_id": "",
            "outputs": []
          }
        },
        "44354eed58a64b84afb5be395b7114c2": {
          "model_module": "@jupyter-widgets/base",
          "model_name": "LayoutModel",
          "model_module_version": "1.2.0",
          "state": {
            "_model_module": "@jupyter-widgets/base",
            "_model_module_version": "1.2.0",
            "_model_name": "LayoutModel",
            "_view_count": null,
            "_view_module": "@jupyter-widgets/base",
            "_view_module_version": "1.2.0",
            "_view_name": "LayoutView",
            "align_content": null,
            "align_items": null,
            "align_self": null,
            "border": null,
            "bottom": null,
            "display": null,
            "flex": null,
            "flex_flow": null,
            "grid_area": null,
            "grid_auto_columns": null,
            "grid_auto_flow": null,
            "grid_auto_rows": null,
            "grid_column": null,
            "grid_gap": null,
            "grid_row": null,
            "grid_template_areas": null,
            "grid_template_columns": null,
            "grid_template_rows": null,
            "height": null,
            "justify_content": null,
            "justify_items": null,
            "left": null,
            "margin": null,
            "max_height": null,
            "max_width": null,
            "min_height": null,
            "min_width": null,
            "object_fit": null,
            "object_position": null,
            "order": null,
            "overflow": null,
            "overflow_x": null,
            "overflow_y": null,
            "padding": null,
            "right": null,
            "top": null,
            "visibility": null,
            "width": null
          }
        },
        "a544ad8f46464c48bbb1654f3bca8a01": {
          "model_module": "@jupyter-widgets/controls",
          "model_name": "FloatSliderModel",
          "model_module_version": "1.5.0",
          "state": {
            "_dom_classes": [],
            "_model_module": "@jupyter-widgets/controls",
            "_model_module_version": "1.5.0",
            "_model_name": "FloatSliderModel",
            "_view_count": null,
            "_view_module": "@jupyter-widgets/controls",
            "_view_module_version": "1.5.0",
            "_view_name": "FloatSliderView",
            "continuous_update": true,
            "description": "a",
            "description_tooltip": null,
            "disabled": false,
            "layout": "IPY_MODEL_93212811638941cda4d9ae8862a4db2a",
            "max": 0,
            "min": -10,
            "orientation": "horizontal",
            "readout": true,
            "readout_format": ".2f",
            "step": 0.01,
            "style": "IPY_MODEL_0263e6a568244bb8985b7c439c33da2d",
            "value": 0
          }
        },
        "68475af515ea4afbb747c09e95443694": {
          "model_module": "@jupyter-widgets/controls",
          "model_name": "FloatSliderModel",
          "model_module_version": "1.5.0",
          "state": {
            "_dom_classes": [],
            "_model_module": "@jupyter-widgets/controls",
            "_model_module_version": "1.5.0",
            "_model_name": "FloatSliderModel",
            "_view_count": null,
            "_view_module": "@jupyter-widgets/controls",
            "_view_module_version": "1.5.0",
            "_view_name": "FloatSliderView",
            "continuous_update": true,
            "description": "b",
            "description_tooltip": null,
            "disabled": false,
            "layout": "IPY_MODEL_0469d85cc59546d495828c1547e3b1af",
            "max": 10,
            "min": 0,
            "orientation": "horizontal",
            "readout": true,
            "readout_format": ".2f",
            "step": 0.01,
            "style": "IPY_MODEL_b0ed7db6278040cab38437731926ab3d",
            "value": 1
          }
        },
        "3037caae89d84a7f9362b2a1a9eea196": {
          "model_module": "@jupyter-widgets/controls",
          "model_name": "FloatSliderModel",
          "model_module_version": "1.5.0",
          "state": {
            "_dom_classes": [],
            "_model_module": "@jupyter-widgets/controls",
            "_model_module_version": "1.5.0",
            "_model_name": "FloatSliderModel",
            "_view_count": null,
            "_view_module": "@jupyter-widgets/controls",
            "_view_module_version": "1.5.0",
            "_view_name": "FloatSliderView",
            "continuous_update": true,
            "description": "c",
            "description_tooltip": null,
            "disabled": false,
            "layout": "IPY_MODEL_ff50cab444b14aedb21118871cbc3dcd",
            "max": 10,
            "min": 0,
            "orientation": "horizontal",
            "readout": true,
            "readout_format": ".2f",
            "step": 0.01,
            "style": "IPY_MODEL_529dae3ffe1542919370d07de70f9f6a",
            "value": 1
          }
        },
        "18052f74ba3c4011b2f010802db8895c": {
          "model_module": "@jupyter-widgets/base",
          "model_name": "LayoutModel",
          "model_module_version": "1.2.0",
          "state": {
            "_model_module": "@jupyter-widgets/base",
            "_model_module_version": "1.2.0",
            "_model_name": "LayoutModel",
            "_view_count": null,
            "_view_module": "@jupyter-widgets/base",
            "_view_module_version": "1.2.0",
            "_view_name": "LayoutView",
            "align_content": null,
            "align_items": null,
            "align_self": null,
            "border": null,
            "bottom": null,
            "display": null,
            "flex": null,
            "flex_flow": "row wrap",
            "grid_area": null,
            "grid_auto_columns": null,
            "grid_auto_flow": null,
            "grid_auto_rows": null,
            "grid_column": null,
            "grid_gap": null,
            "grid_row": null,
            "grid_template_areas": null,
            "grid_template_columns": null,
            "grid_template_rows": null,
            "height": null,
            "justify_content": null,
            "justify_items": null,
            "left": null,
            "margin": null,
            "max_height": null,
            "max_width": null,
            "min_height": null,
            "min_width": null,
            "object_fit": null,
            "object_position": null,
            "order": null,
            "overflow": null,
            "overflow_x": null,
            "overflow_y": null,
            "padding": null,
            "right": null,
            "top": null,
            "visibility": null,
            "width": null
          }
        },
        "e4e6f60323144b8885f19fd31a12d512": {
          "model_module": "@jupyter-widgets/base",
          "model_name": "LayoutModel",
          "model_module_version": "1.2.0",
          "state": {
            "_model_module": "@jupyter-widgets/base",
            "_model_module_version": "1.2.0",
            "_model_name": "LayoutModel",
            "_view_count": null,
            "_view_module": "@jupyter-widgets/base",
            "_view_module_version": "1.2.0",
            "_view_name": "LayoutView",
            "align_content": null,
            "align_items": null,
            "align_self": null,
            "border": null,
            "bottom": null,
            "display": null,
            "flex": null,
            "flex_flow": null,
            "grid_area": null,
            "grid_auto_columns": null,
            "grid_auto_flow": null,
            "grid_auto_rows": null,
            "grid_column": null,
            "grid_gap": null,
            "grid_row": null,
            "grid_template_areas": null,
            "grid_template_columns": null,
            "grid_template_rows": null,
            "height": null,
            "justify_content": null,
            "justify_items": null,
            "left": null,
            "margin": null,
            "max_height": null,
            "max_width": null,
            "min_height": null,
            "min_width": null,
            "object_fit": null,
            "object_position": null,
            "order": null,
            "overflow": null,
            "overflow_x": null,
            "overflow_y": null,
            "padding": null,
            "right": null,
            "top": null,
            "visibility": null,
            "width": null
          }
        },
        "93212811638941cda4d9ae8862a4db2a": {
          "model_module": "@jupyter-widgets/base",
          "model_name": "LayoutModel",
          "model_module_version": "1.2.0",
          "state": {
            "_model_module": "@jupyter-widgets/base",
            "_model_module_version": "1.2.0",
            "_model_name": "LayoutModel",
            "_view_count": null,
            "_view_module": "@jupyter-widgets/base",
            "_view_module_version": "1.2.0",
            "_view_name": "LayoutView",
            "align_content": null,
            "align_items": null,
            "align_self": null,
            "border": null,
            "bottom": null,
            "display": null,
            "flex": null,
            "flex_flow": null,
            "grid_area": null,
            "grid_auto_columns": null,
            "grid_auto_flow": null,
            "grid_auto_rows": null,
            "grid_column": null,
            "grid_gap": null,
            "grid_row": null,
            "grid_template_areas": null,
            "grid_template_columns": null,
            "grid_template_rows": null,
            "height": null,
            "justify_content": null,
            "justify_items": null,
            "left": null,
            "margin": null,
            "max_height": null,
            "max_width": null,
            "min_height": null,
            "min_width": null,
            "object_fit": null,
            "object_position": null,
            "order": null,
            "overflow": null,
            "overflow_x": null,
            "overflow_y": null,
            "padding": null,
            "right": null,
            "top": null,
            "visibility": null,
            "width": null
          }
        },
        "0263e6a568244bb8985b7c439c33da2d": {
          "model_module": "@jupyter-widgets/controls",
          "model_name": "SliderStyleModel",
          "model_module_version": "1.5.0",
          "state": {
            "_model_module": "@jupyter-widgets/controls",
            "_model_module_version": "1.5.0",
            "_model_name": "SliderStyleModel",
            "_view_count": null,
            "_view_module": "@jupyter-widgets/base",
            "_view_module_version": "1.2.0",
            "_view_name": "StyleView",
            "description_width": "",
            "handle_color": null
          }
        },
        "0469d85cc59546d495828c1547e3b1af": {
          "model_module": "@jupyter-widgets/base",
          "model_name": "LayoutModel",
          "model_module_version": "1.2.0",
          "state": {
            "_model_module": "@jupyter-widgets/base",
            "_model_module_version": "1.2.0",
            "_model_name": "LayoutModel",
            "_view_count": null,
            "_view_module": "@jupyter-widgets/base",
            "_view_module_version": "1.2.0",
            "_view_name": "LayoutView",
            "align_content": null,
            "align_items": null,
            "align_self": null,
            "border": null,
            "bottom": null,
            "display": null,
            "flex": null,
            "flex_flow": null,
            "grid_area": null,
            "grid_auto_columns": null,
            "grid_auto_flow": null,
            "grid_auto_rows": null,
            "grid_column": null,
            "grid_gap": null,
            "grid_row": null,
            "grid_template_areas": null,
            "grid_template_columns": null,
            "grid_template_rows": null,
            "height": null,
            "justify_content": null,
            "justify_items": null,
            "left": null,
            "margin": null,
            "max_height": null,
            "max_width": null,
            "min_height": null,
            "min_width": null,
            "object_fit": null,
            "object_position": null,
            "order": null,
            "overflow": null,
            "overflow_x": null,
            "overflow_y": null,
            "padding": null,
            "right": null,
            "top": null,
            "visibility": null,
            "width": null
          }
        },
        "b0ed7db6278040cab38437731926ab3d": {
          "model_module": "@jupyter-widgets/controls",
          "model_name": "SliderStyleModel",
          "model_module_version": "1.5.0",
          "state": {
            "_model_module": "@jupyter-widgets/controls",
            "_model_module_version": "1.5.0",
            "_model_name": "SliderStyleModel",
            "_view_count": null,
            "_view_module": "@jupyter-widgets/base",
            "_view_module_version": "1.2.0",
            "_view_name": "StyleView",
            "description_width": "",
            "handle_color": null
          }
        },
        "ff50cab444b14aedb21118871cbc3dcd": {
          "model_module": "@jupyter-widgets/base",
          "model_name": "LayoutModel",
          "model_module_version": "1.2.0",
          "state": {
            "_model_module": "@jupyter-widgets/base",
            "_model_module_version": "1.2.0",
            "_model_name": "LayoutModel",
            "_view_count": null,
            "_view_module": "@jupyter-widgets/base",
            "_view_module_version": "1.2.0",
            "_view_name": "LayoutView",
            "align_content": null,
            "align_items": null,
            "align_self": null,
            "border": null,
            "bottom": null,
            "display": null,
            "flex": null,
            "flex_flow": null,
            "grid_area": null,
            "grid_auto_columns": null,
            "grid_auto_flow": null,
            "grid_auto_rows": null,
            "grid_column": null,
            "grid_gap": null,
            "grid_row": null,
            "grid_template_areas": null,
            "grid_template_columns": null,
            "grid_template_rows": null,
            "height": null,
            "justify_content": null,
            "justify_items": null,
            "left": null,
            "margin": null,
            "max_height": null,
            "max_width": null,
            "min_height": null,
            "min_width": null,
            "object_fit": null,
            "object_position": null,
            "order": null,
            "overflow": null,
            "overflow_x": null,
            "overflow_y": null,
            "padding": null,
            "right": null,
            "top": null,
            "visibility": null,
            "width": null
          }
        },
        "529dae3ffe1542919370d07de70f9f6a": {
          "model_module": "@jupyter-widgets/controls",
          "model_name": "SliderStyleModel",
          "model_module_version": "1.5.0",
          "state": {
            "_model_module": "@jupyter-widgets/controls",
            "_model_module_version": "1.5.0",
            "_model_name": "SliderStyleModel",
            "_view_count": null,
            "_view_module": "@jupyter-widgets/base",
            "_view_module_version": "1.2.0",
            "_view_name": "StyleView",
            "description_width": "",
            "handle_color": null
          }
        },
        "819aecaa6511412c95cffbb7061f1190": {
          "model_module": "@jupyter-widgets/controls",
          "model_name": "VBoxModel",
          "model_module_version": "1.5.0",
          "state": {
            "_dom_classes": [],
            "_model_module": "@jupyter-widgets/controls",
            "_model_module_version": "1.5.0",
            "_model_name": "VBoxModel",
            "_view_count": null,
            "_view_module": "@jupyter-widgets/controls",
            "_view_module_version": "1.5.0",
            "_view_name": "VBoxView",
            "box_style": "",
            "children": [
              "IPY_MODEL_f6a66386f8864635904024c311b630e0",
              "IPY_MODEL_656e54123882432eb8ccf0e16f9bde5d"
            ],
            "layout": "IPY_MODEL_354f6b8e1fd34486a8237d3c696848b1"
          }
        },
        "f6a66386f8864635904024c311b630e0": {
          "model_module": "@jupyter-widgets/controls",
          "model_name": "HBoxModel",
          "model_module_version": "1.5.0",
          "state": {
            "_dom_classes": [],
            "_model_module": "@jupyter-widgets/controls",
            "_model_module_version": "1.5.0",
            "_model_name": "HBoxModel",
            "_view_count": null,
            "_view_module": "@jupyter-widgets/controls",
            "_view_module_version": "1.5.0",
            "_view_name": "HBoxView",
            "box_style": "",
            "children": [
              "IPY_MODEL_98de6855c88142a89c6a31ac1dcbad72",
              "IPY_MODEL_47e5a2045c9d42a3a930bcd8d4213823",
              "IPY_MODEL_0ff0abfd107c406ba238bdfd1fa75a9e"
            ],
            "layout": "IPY_MODEL_c6adc4d06fa34957a0276d946e2372cb"
          }
        },
        "656e54123882432eb8ccf0e16f9bde5d": {
          "model_module": "@jupyter-widgets/output",
          "model_name": "OutputModel",
          "model_module_version": "1.0.0",
          "state": {
            "_dom_classes": [],
            "_model_module": "@jupyter-widgets/output",
            "_model_module_version": "1.0.0",
            "_model_name": "OutputModel",
            "_view_count": null,
            "_view_module": "@jupyter-widgets/output",
            "_view_module_version": "1.0.0",
            "_view_name": "OutputView",
            "layout": "IPY_MODEL_54626dad799b4552a60aa1eb38f6573d",
            "msg_id": "",
            "outputs": []
          }
        },
        "354f6b8e1fd34486a8237d3c696848b1": {
          "model_module": "@jupyter-widgets/base",
          "model_name": "LayoutModel",
          "model_module_version": "1.2.0",
          "state": {
            "_model_module": "@jupyter-widgets/base",
            "_model_module_version": "1.2.0",
            "_model_name": "LayoutModel",
            "_view_count": null,
            "_view_module": "@jupyter-widgets/base",
            "_view_module_version": "1.2.0",
            "_view_name": "LayoutView",
            "align_content": null,
            "align_items": null,
            "align_self": null,
            "border": null,
            "bottom": null,
            "display": null,
            "flex": null,
            "flex_flow": null,
            "grid_area": null,
            "grid_auto_columns": null,
            "grid_auto_flow": null,
            "grid_auto_rows": null,
            "grid_column": null,
            "grid_gap": null,
            "grid_row": null,
            "grid_template_areas": null,
            "grid_template_columns": null,
            "grid_template_rows": null,
            "height": null,
            "justify_content": null,
            "justify_items": null,
            "left": null,
            "margin": null,
            "max_height": null,
            "max_width": null,
            "min_height": null,
            "min_width": null,
            "object_fit": null,
            "object_position": null,
            "order": null,
            "overflow": null,
            "overflow_x": null,
            "overflow_y": null,
            "padding": null,
            "right": null,
            "top": null,
            "visibility": null,
            "width": null
          }
        },
        "98de6855c88142a89c6a31ac1dcbad72": {
          "model_module": "@jupyter-widgets/controls",
          "model_name": "FloatSliderModel",
          "model_module_version": "1.5.0",
          "state": {
            "_dom_classes": [],
            "_model_module": "@jupyter-widgets/controls",
            "_model_module_version": "1.5.0",
            "_model_name": "FloatSliderModel",
            "_view_count": null,
            "_view_module": "@jupyter-widgets/controls",
            "_view_module_version": "1.5.0",
            "_view_name": "FloatSliderView",
            "continuous_update": true,
            "description": "a",
            "description_tooltip": null,
            "disabled": false,
            "layout": "IPY_MODEL_fdfa3fbc390b43028708a097813cd1a4",
            "max": 0,
            "min": -10,
            "orientation": "horizontal",
            "readout": true,
            "readout_format": ".2f",
            "step": 0.01,
            "style": "IPY_MODEL_4e58144565e84a93ac29fb78ace1af6d",
            "value": 0
          }
        },
        "47e5a2045c9d42a3a930bcd8d4213823": {
          "model_module": "@jupyter-widgets/controls",
          "model_name": "FloatSliderModel",
          "model_module_version": "1.5.0",
          "state": {
            "_dom_classes": [],
            "_model_module": "@jupyter-widgets/controls",
            "_model_module_version": "1.5.0",
            "_model_name": "FloatSliderModel",
            "_view_count": null,
            "_view_module": "@jupyter-widgets/controls",
            "_view_module_version": "1.5.0",
            "_view_name": "FloatSliderView",
            "continuous_update": true,
            "description": "b",
            "description_tooltip": null,
            "disabled": false,
            "layout": "IPY_MODEL_0838d8ce17284d16bd25f539b42d9a65",
            "max": 10,
            "min": 0,
            "orientation": "horizontal",
            "readout": true,
            "readout_format": ".2f",
            "step": 0.01,
            "style": "IPY_MODEL_adf8bba729b14cd59ef80223c107d737",
            "value": 1
          }
        },
        "0ff0abfd107c406ba238bdfd1fa75a9e": {
          "model_module": "@jupyter-widgets/controls",
          "model_name": "FloatSliderModel",
          "model_module_version": "1.5.0",
          "state": {
            "_dom_classes": [],
            "_model_module": "@jupyter-widgets/controls",
            "_model_module_version": "1.5.0",
            "_model_name": "FloatSliderModel",
            "_view_count": null,
            "_view_module": "@jupyter-widgets/controls",
            "_view_module_version": "1.5.0",
            "_view_name": "FloatSliderView",
            "continuous_update": true,
            "description": "c",
            "description_tooltip": null,
            "disabled": false,
            "layout": "IPY_MODEL_b809263c96d54ef0ab6697cb194b6ecc",
            "max": 10,
            "min": 0,
            "orientation": "horizontal",
            "readout": true,
            "readout_format": ".2f",
            "step": 0.01,
            "style": "IPY_MODEL_0a7243b73eec49cc8871c20f2e604c17",
            "value": 1
          }
        },
        "c6adc4d06fa34957a0276d946e2372cb": {
          "model_module": "@jupyter-widgets/base",
          "model_name": "LayoutModel",
          "model_module_version": "1.2.0",
          "state": {
            "_model_module": "@jupyter-widgets/base",
            "_model_module_version": "1.2.0",
            "_model_name": "LayoutModel",
            "_view_count": null,
            "_view_module": "@jupyter-widgets/base",
            "_view_module_version": "1.2.0",
            "_view_name": "LayoutView",
            "align_content": null,
            "align_items": null,
            "align_self": null,
            "border": null,
            "bottom": null,
            "display": null,
            "flex": null,
            "flex_flow": "row wrap",
            "grid_area": null,
            "grid_auto_columns": null,
            "grid_auto_flow": null,
            "grid_auto_rows": null,
            "grid_column": null,
            "grid_gap": null,
            "grid_row": null,
            "grid_template_areas": null,
            "grid_template_columns": null,
            "grid_template_rows": null,
            "height": null,
            "justify_content": null,
            "justify_items": null,
            "left": null,
            "margin": null,
            "max_height": null,
            "max_width": null,
            "min_height": null,
            "min_width": null,
            "object_fit": null,
            "object_position": null,
            "order": null,
            "overflow": null,
            "overflow_x": null,
            "overflow_y": null,
            "padding": null,
            "right": null,
            "top": null,
            "visibility": null,
            "width": null
          }
        },
        "54626dad799b4552a60aa1eb38f6573d": {
          "model_module": "@jupyter-widgets/base",
          "model_name": "LayoutModel",
          "model_module_version": "1.2.0",
          "state": {
            "_model_module": "@jupyter-widgets/base",
            "_model_module_version": "1.2.0",
            "_model_name": "LayoutModel",
            "_view_count": null,
            "_view_module": "@jupyter-widgets/base",
            "_view_module_version": "1.2.0",
            "_view_name": "LayoutView",
            "align_content": null,
            "align_items": null,
            "align_self": null,
            "border": null,
            "bottom": null,
            "display": null,
            "flex": null,
            "flex_flow": null,
            "grid_area": null,
            "grid_auto_columns": null,
            "grid_auto_flow": null,
            "grid_auto_rows": null,
            "grid_column": null,
            "grid_gap": null,
            "grid_row": null,
            "grid_template_areas": null,
            "grid_template_columns": null,
            "grid_template_rows": null,
            "height": null,
            "justify_content": null,
            "justify_items": null,
            "left": null,
            "margin": null,
            "max_height": null,
            "max_width": null,
            "min_height": null,
            "min_width": null,
            "object_fit": null,
            "object_position": null,
            "order": null,
            "overflow": null,
            "overflow_x": null,
            "overflow_y": null,
            "padding": null,
            "right": null,
            "top": null,
            "visibility": null,
            "width": null
          }
        },
        "fdfa3fbc390b43028708a097813cd1a4": {
          "model_module": "@jupyter-widgets/base",
          "model_name": "LayoutModel",
          "model_module_version": "1.2.0",
          "state": {
            "_model_module": "@jupyter-widgets/base",
            "_model_module_version": "1.2.0",
            "_model_name": "LayoutModel",
            "_view_count": null,
            "_view_module": "@jupyter-widgets/base",
            "_view_module_version": "1.2.0",
            "_view_name": "LayoutView",
            "align_content": null,
            "align_items": null,
            "align_self": null,
            "border": null,
            "bottom": null,
            "display": null,
            "flex": null,
            "flex_flow": null,
            "grid_area": null,
            "grid_auto_columns": null,
            "grid_auto_flow": null,
            "grid_auto_rows": null,
            "grid_column": null,
            "grid_gap": null,
            "grid_row": null,
            "grid_template_areas": null,
            "grid_template_columns": null,
            "grid_template_rows": null,
            "height": null,
            "justify_content": null,
            "justify_items": null,
            "left": null,
            "margin": null,
            "max_height": null,
            "max_width": null,
            "min_height": null,
            "min_width": null,
            "object_fit": null,
            "object_position": null,
            "order": null,
            "overflow": null,
            "overflow_x": null,
            "overflow_y": null,
            "padding": null,
            "right": null,
            "top": null,
            "visibility": null,
            "width": null
          }
        },
        "4e58144565e84a93ac29fb78ace1af6d": {
          "model_module": "@jupyter-widgets/controls",
          "model_name": "SliderStyleModel",
          "model_module_version": "1.5.0",
          "state": {
            "_model_module": "@jupyter-widgets/controls",
            "_model_module_version": "1.5.0",
            "_model_name": "SliderStyleModel",
            "_view_count": null,
            "_view_module": "@jupyter-widgets/base",
            "_view_module_version": "1.2.0",
            "_view_name": "StyleView",
            "description_width": "",
            "handle_color": null
          }
        },
        "0838d8ce17284d16bd25f539b42d9a65": {
          "model_module": "@jupyter-widgets/base",
          "model_name": "LayoutModel",
          "model_module_version": "1.2.0",
          "state": {
            "_model_module": "@jupyter-widgets/base",
            "_model_module_version": "1.2.0",
            "_model_name": "LayoutModel",
            "_view_count": null,
            "_view_module": "@jupyter-widgets/base",
            "_view_module_version": "1.2.0",
            "_view_name": "LayoutView",
            "align_content": null,
            "align_items": null,
            "align_self": null,
            "border": null,
            "bottom": null,
            "display": null,
            "flex": null,
            "flex_flow": null,
            "grid_area": null,
            "grid_auto_columns": null,
            "grid_auto_flow": null,
            "grid_auto_rows": null,
            "grid_column": null,
            "grid_gap": null,
            "grid_row": null,
            "grid_template_areas": null,
            "grid_template_columns": null,
            "grid_template_rows": null,
            "height": null,
            "justify_content": null,
            "justify_items": null,
            "left": null,
            "margin": null,
            "max_height": null,
            "max_width": null,
            "min_height": null,
            "min_width": null,
            "object_fit": null,
            "object_position": null,
            "order": null,
            "overflow": null,
            "overflow_x": null,
            "overflow_y": null,
            "padding": null,
            "right": null,
            "top": null,
            "visibility": null,
            "width": null
          }
        },
        "adf8bba729b14cd59ef80223c107d737": {
          "model_module": "@jupyter-widgets/controls",
          "model_name": "SliderStyleModel",
          "model_module_version": "1.5.0",
          "state": {
            "_model_module": "@jupyter-widgets/controls",
            "_model_module_version": "1.5.0",
            "_model_name": "SliderStyleModel",
            "_view_count": null,
            "_view_module": "@jupyter-widgets/base",
            "_view_module_version": "1.2.0",
            "_view_name": "StyleView",
            "description_width": "",
            "handle_color": null
          }
        },
        "b809263c96d54ef0ab6697cb194b6ecc": {
          "model_module": "@jupyter-widgets/base",
          "model_name": "LayoutModel",
          "model_module_version": "1.2.0",
          "state": {
            "_model_module": "@jupyter-widgets/base",
            "_model_module_version": "1.2.0",
            "_model_name": "LayoutModel",
            "_view_count": null,
            "_view_module": "@jupyter-widgets/base",
            "_view_module_version": "1.2.0",
            "_view_name": "LayoutView",
            "align_content": null,
            "align_items": null,
            "align_self": null,
            "border": null,
            "bottom": null,
            "display": null,
            "flex": null,
            "flex_flow": null,
            "grid_area": null,
            "grid_auto_columns": null,
            "grid_auto_flow": null,
            "grid_auto_rows": null,
            "grid_column": null,
            "grid_gap": null,
            "grid_row": null,
            "grid_template_areas": null,
            "grid_template_columns": null,
            "grid_template_rows": null,
            "height": null,
            "justify_content": null,
            "justify_items": null,
            "left": null,
            "margin": null,
            "max_height": null,
            "max_width": null,
            "min_height": null,
            "min_width": null,
            "object_fit": null,
            "object_position": null,
            "order": null,
            "overflow": null,
            "overflow_x": null,
            "overflow_y": null,
            "padding": null,
            "right": null,
            "top": null,
            "visibility": null,
            "width": null
          }
        },
        "0a7243b73eec49cc8871c20f2e604c17": {
          "model_module": "@jupyter-widgets/controls",
          "model_name": "SliderStyleModel",
          "model_module_version": "1.5.0",
          "state": {
            "_model_module": "@jupyter-widgets/controls",
            "_model_module_version": "1.5.0",
            "_model_name": "SliderStyleModel",
            "_view_count": null,
            "_view_module": "@jupyter-widgets/base",
            "_view_module_version": "1.2.0",
            "_view_name": "StyleView",
            "description_width": "",
            "handle_color": null
          }
        },
        "e2af6a3bb954489c9efdf3ae230169ae": {
          "model_module": "@jupyter-widgets/controls",
          "model_name": "VBoxModel",
          "model_module_version": "1.5.0",
          "state": {
            "_dom_classes": [],
            "_model_module": "@jupyter-widgets/controls",
            "_model_module_version": "1.5.0",
            "_model_name": "VBoxModel",
            "_view_count": null,
            "_view_module": "@jupyter-widgets/controls",
            "_view_module_version": "1.5.0",
            "_view_name": "VBoxView",
            "box_style": "",
            "children": [
              "IPY_MODEL_efc375b9c2dd49f4ad1c8d37b81ac145",
              "IPY_MODEL_ec923db13c4d47449c48e51e2f3dcce0"
            ],
            "layout": "IPY_MODEL_1cb2ea01ccdb41b498673548af82f9c4"
          }
        },
        "efc375b9c2dd49f4ad1c8d37b81ac145": {
          "model_module": "@jupyter-widgets/controls",
          "model_name": "HBoxModel",
          "model_module_version": "1.5.0",
          "state": {
            "_dom_classes": [],
            "_model_module": "@jupyter-widgets/controls",
            "_model_module_version": "1.5.0",
            "_model_name": "HBoxModel",
            "_view_count": null,
            "_view_module": "@jupyter-widgets/controls",
            "_view_module_version": "1.5.0",
            "_view_name": "HBoxView",
            "box_style": "",
            "children": [
              "IPY_MODEL_46cc051d420948f6bbf04bfdd62b8184",
              "IPY_MODEL_1124421c03d54ef4aeefd099fb96f979",
              "IPY_MODEL_c4bb677e63734cf98d0c893edf2f8b30"
            ],
            "layout": "IPY_MODEL_eafa8eeb88b54a06ac933a7dc290a153"
          }
        },
        "ec923db13c4d47449c48e51e2f3dcce0": {
          "model_module": "@jupyter-widgets/output",
          "model_name": "OutputModel",
          "model_module_version": "1.0.0",
          "state": {
            "_dom_classes": [],
            "_model_module": "@jupyter-widgets/output",
            "_model_module_version": "1.0.0",
            "_model_name": "OutputModel",
            "_view_count": null,
            "_view_module": "@jupyter-widgets/output",
            "_view_module_version": "1.0.0",
            "_view_name": "OutputView",
            "layout": "IPY_MODEL_4022dfe6e2d54e9ba4727a65dd5f9b04",
            "msg_id": "",
            "outputs": []
          }
        },
        "1cb2ea01ccdb41b498673548af82f9c4": {
          "model_module": "@jupyter-widgets/base",
          "model_name": "LayoutModel",
          "model_module_version": "1.2.0",
          "state": {
            "_model_module": "@jupyter-widgets/base",
            "_model_module_version": "1.2.0",
            "_model_name": "LayoutModel",
            "_view_count": null,
            "_view_module": "@jupyter-widgets/base",
            "_view_module_version": "1.2.0",
            "_view_name": "LayoutView",
            "align_content": null,
            "align_items": null,
            "align_self": null,
            "border": null,
            "bottom": null,
            "display": null,
            "flex": null,
            "flex_flow": null,
            "grid_area": null,
            "grid_auto_columns": null,
            "grid_auto_flow": null,
            "grid_auto_rows": null,
            "grid_column": null,
            "grid_gap": null,
            "grid_row": null,
            "grid_template_areas": null,
            "grid_template_columns": null,
            "grid_template_rows": null,
            "height": null,
            "justify_content": null,
            "justify_items": null,
            "left": null,
            "margin": null,
            "max_height": null,
            "max_width": null,
            "min_height": null,
            "min_width": null,
            "object_fit": null,
            "object_position": null,
            "order": null,
            "overflow": null,
            "overflow_x": null,
            "overflow_y": null,
            "padding": null,
            "right": null,
            "top": null,
            "visibility": null,
            "width": null
          }
        },
        "46cc051d420948f6bbf04bfdd62b8184": {
          "model_module": "@jupyter-widgets/controls",
          "model_name": "FloatSliderModel",
          "model_module_version": "1.5.0",
          "state": {
            "_dom_classes": [],
            "_model_module": "@jupyter-widgets/controls",
            "_model_module_version": "1.5.0",
            "_model_name": "FloatSliderModel",
            "_view_count": null,
            "_view_module": "@jupyter-widgets/controls",
            "_view_module_version": "1.5.0",
            "_view_name": "FloatSliderView",
            "continuous_update": true,
            "description": "a",
            "description_tooltip": null,
            "disabled": false,
            "layout": "IPY_MODEL_45e8ea3b278141fb81fcf90b87f93048",
            "max": 0,
            "min": -10,
            "orientation": "horizontal",
            "readout": true,
            "readout_format": ".2f",
            "step": 0.01,
            "style": "IPY_MODEL_b170d945f9134c969a51e7947312b3d0",
            "value": 0
          }
        },
        "1124421c03d54ef4aeefd099fb96f979": {
          "model_module": "@jupyter-widgets/controls",
          "model_name": "FloatSliderModel",
          "model_module_version": "1.5.0",
          "state": {
            "_dom_classes": [],
            "_model_module": "@jupyter-widgets/controls",
            "_model_module_version": "1.5.0",
            "_model_name": "FloatSliderModel",
            "_view_count": null,
            "_view_module": "@jupyter-widgets/controls",
            "_view_module_version": "1.5.0",
            "_view_name": "FloatSliderView",
            "continuous_update": true,
            "description": "b",
            "description_tooltip": null,
            "disabled": false,
            "layout": "IPY_MODEL_84be737b12bb49c49b154ff79befd465",
            "max": 10,
            "min": 0,
            "orientation": "horizontal",
            "readout": true,
            "readout_format": ".2f",
            "step": 0.01,
            "style": "IPY_MODEL_db44d6f7bdd8487da82b36da9e30b653",
            "value": 1
          }
        },
        "c4bb677e63734cf98d0c893edf2f8b30": {
          "model_module": "@jupyter-widgets/controls",
          "model_name": "FloatSliderModel",
          "model_module_version": "1.5.0",
          "state": {
            "_dom_classes": [],
            "_model_module": "@jupyter-widgets/controls",
            "_model_module_version": "1.5.0",
            "_model_name": "FloatSliderModel",
            "_view_count": null,
            "_view_module": "@jupyter-widgets/controls",
            "_view_module_version": "1.5.0",
            "_view_name": "FloatSliderView",
            "continuous_update": true,
            "description": "c",
            "description_tooltip": null,
            "disabled": false,
            "layout": "IPY_MODEL_907151920fe844e8a83d1ce29c318568",
            "max": 10,
            "min": 0,
            "orientation": "horizontal",
            "readout": true,
            "readout_format": ".2f",
            "step": 0.01,
            "style": "IPY_MODEL_1bcb2c0d415c45928c7c4592b1b068be",
            "value": 1
          }
        },
        "eafa8eeb88b54a06ac933a7dc290a153": {
          "model_module": "@jupyter-widgets/base",
          "model_name": "LayoutModel",
          "model_module_version": "1.2.0",
          "state": {
            "_model_module": "@jupyter-widgets/base",
            "_model_module_version": "1.2.0",
            "_model_name": "LayoutModel",
            "_view_count": null,
            "_view_module": "@jupyter-widgets/base",
            "_view_module_version": "1.2.0",
            "_view_name": "LayoutView",
            "align_content": null,
            "align_items": null,
            "align_self": null,
            "border": null,
            "bottom": null,
            "display": null,
            "flex": null,
            "flex_flow": "row wrap",
            "grid_area": null,
            "grid_auto_columns": null,
            "grid_auto_flow": null,
            "grid_auto_rows": null,
            "grid_column": null,
            "grid_gap": null,
            "grid_row": null,
            "grid_template_areas": null,
            "grid_template_columns": null,
            "grid_template_rows": null,
            "height": null,
            "justify_content": null,
            "justify_items": null,
            "left": null,
            "margin": null,
            "max_height": null,
            "max_width": null,
            "min_height": null,
            "min_width": null,
            "object_fit": null,
            "object_position": null,
            "order": null,
            "overflow": null,
            "overflow_x": null,
            "overflow_y": null,
            "padding": null,
            "right": null,
            "top": null,
            "visibility": null,
            "width": null
          }
        },
        "4022dfe6e2d54e9ba4727a65dd5f9b04": {
          "model_module": "@jupyter-widgets/base",
          "model_name": "LayoutModel",
          "model_module_version": "1.2.0",
          "state": {
            "_model_module": "@jupyter-widgets/base",
            "_model_module_version": "1.2.0",
            "_model_name": "LayoutModel",
            "_view_count": null,
            "_view_module": "@jupyter-widgets/base",
            "_view_module_version": "1.2.0",
            "_view_name": "LayoutView",
            "align_content": null,
            "align_items": null,
            "align_self": null,
            "border": null,
            "bottom": null,
            "display": null,
            "flex": null,
            "flex_flow": null,
            "grid_area": null,
            "grid_auto_columns": null,
            "grid_auto_flow": null,
            "grid_auto_rows": null,
            "grid_column": null,
            "grid_gap": null,
            "grid_row": null,
            "grid_template_areas": null,
            "grid_template_columns": null,
            "grid_template_rows": null,
            "height": null,
            "justify_content": null,
            "justify_items": null,
            "left": null,
            "margin": null,
            "max_height": null,
            "max_width": null,
            "min_height": null,
            "min_width": null,
            "object_fit": null,
            "object_position": null,
            "order": null,
            "overflow": null,
            "overflow_x": null,
            "overflow_y": null,
            "padding": null,
            "right": null,
            "top": null,
            "visibility": null,
            "width": null
          }
        },
        "45e8ea3b278141fb81fcf90b87f93048": {
          "model_module": "@jupyter-widgets/base",
          "model_name": "LayoutModel",
          "model_module_version": "1.2.0",
          "state": {
            "_model_module": "@jupyter-widgets/base",
            "_model_module_version": "1.2.0",
            "_model_name": "LayoutModel",
            "_view_count": null,
            "_view_module": "@jupyter-widgets/base",
            "_view_module_version": "1.2.0",
            "_view_name": "LayoutView",
            "align_content": null,
            "align_items": null,
            "align_self": null,
            "border": null,
            "bottom": null,
            "display": null,
            "flex": null,
            "flex_flow": null,
            "grid_area": null,
            "grid_auto_columns": null,
            "grid_auto_flow": null,
            "grid_auto_rows": null,
            "grid_column": null,
            "grid_gap": null,
            "grid_row": null,
            "grid_template_areas": null,
            "grid_template_columns": null,
            "grid_template_rows": null,
            "height": null,
            "justify_content": null,
            "justify_items": null,
            "left": null,
            "margin": null,
            "max_height": null,
            "max_width": null,
            "min_height": null,
            "min_width": null,
            "object_fit": null,
            "object_position": null,
            "order": null,
            "overflow": null,
            "overflow_x": null,
            "overflow_y": null,
            "padding": null,
            "right": null,
            "top": null,
            "visibility": null,
            "width": null
          }
        },
        "b170d945f9134c969a51e7947312b3d0": {
          "model_module": "@jupyter-widgets/controls",
          "model_name": "SliderStyleModel",
          "model_module_version": "1.5.0",
          "state": {
            "_model_module": "@jupyter-widgets/controls",
            "_model_module_version": "1.5.0",
            "_model_name": "SliderStyleModel",
            "_view_count": null,
            "_view_module": "@jupyter-widgets/base",
            "_view_module_version": "1.2.0",
            "_view_name": "StyleView",
            "description_width": "",
            "handle_color": null
          }
        },
        "84be737b12bb49c49b154ff79befd465": {
          "model_module": "@jupyter-widgets/base",
          "model_name": "LayoutModel",
          "model_module_version": "1.2.0",
          "state": {
            "_model_module": "@jupyter-widgets/base",
            "_model_module_version": "1.2.0",
            "_model_name": "LayoutModel",
            "_view_count": null,
            "_view_module": "@jupyter-widgets/base",
            "_view_module_version": "1.2.0",
            "_view_name": "LayoutView",
            "align_content": null,
            "align_items": null,
            "align_self": null,
            "border": null,
            "bottom": null,
            "display": null,
            "flex": null,
            "flex_flow": null,
            "grid_area": null,
            "grid_auto_columns": null,
            "grid_auto_flow": null,
            "grid_auto_rows": null,
            "grid_column": null,
            "grid_gap": null,
            "grid_row": null,
            "grid_template_areas": null,
            "grid_template_columns": null,
            "grid_template_rows": null,
            "height": null,
            "justify_content": null,
            "justify_items": null,
            "left": null,
            "margin": null,
            "max_height": null,
            "max_width": null,
            "min_height": null,
            "min_width": null,
            "object_fit": null,
            "object_position": null,
            "order": null,
            "overflow": null,
            "overflow_x": null,
            "overflow_y": null,
            "padding": null,
            "right": null,
            "top": null,
            "visibility": null,
            "width": null
          }
        },
        "db44d6f7bdd8487da82b36da9e30b653": {
          "model_module": "@jupyter-widgets/controls",
          "model_name": "SliderStyleModel",
          "model_module_version": "1.5.0",
          "state": {
            "_model_module": "@jupyter-widgets/controls",
            "_model_module_version": "1.5.0",
            "_model_name": "SliderStyleModel",
            "_view_count": null,
            "_view_module": "@jupyter-widgets/base",
            "_view_module_version": "1.2.0",
            "_view_name": "StyleView",
            "description_width": "",
            "handle_color": null
          }
        },
        "907151920fe844e8a83d1ce29c318568": {
          "model_module": "@jupyter-widgets/base",
          "model_name": "LayoutModel",
          "model_module_version": "1.2.0",
          "state": {
            "_model_module": "@jupyter-widgets/base",
            "_model_module_version": "1.2.0",
            "_model_name": "LayoutModel",
            "_view_count": null,
            "_view_module": "@jupyter-widgets/base",
            "_view_module_version": "1.2.0",
            "_view_name": "LayoutView",
            "align_content": null,
            "align_items": null,
            "align_self": null,
            "border": null,
            "bottom": null,
            "display": null,
            "flex": null,
            "flex_flow": null,
            "grid_area": null,
            "grid_auto_columns": null,
            "grid_auto_flow": null,
            "grid_auto_rows": null,
            "grid_column": null,
            "grid_gap": null,
            "grid_row": null,
            "grid_template_areas": null,
            "grid_template_columns": null,
            "grid_template_rows": null,
            "height": null,
            "justify_content": null,
            "justify_items": null,
            "left": null,
            "margin": null,
            "max_height": null,
            "max_width": null,
            "min_height": null,
            "min_width": null,
            "object_fit": null,
            "object_position": null,
            "order": null,
            "overflow": null,
            "overflow_x": null,
            "overflow_y": null,
            "padding": null,
            "right": null,
            "top": null,
            "visibility": null,
            "width": null
          }
        },
        "1bcb2c0d415c45928c7c4592b1b068be": {
          "model_module": "@jupyter-widgets/controls",
          "model_name": "SliderStyleModel",
          "model_module_version": "1.5.0",
          "state": {
            "_model_module": "@jupyter-widgets/controls",
            "_model_module_version": "1.5.0",
            "_model_name": "SliderStyleModel",
            "_view_count": null,
            "_view_module": "@jupyter-widgets/base",
            "_view_module_version": "1.2.0",
            "_view_name": "StyleView",
            "description_width": "",
            "handle_color": null
          }
        },
        "eddb2d2019a14aa88144d0ac22f258ca": {
          "model_module": "@jupyter-widgets/controls",
          "model_name": "VBoxModel",
          "model_module_version": "1.5.0",
          "state": {
            "_dom_classes": [],
            "_model_module": "@jupyter-widgets/controls",
            "_model_module_version": "1.5.0",
            "_model_name": "VBoxModel",
            "_view_count": null,
            "_view_module": "@jupyter-widgets/controls",
            "_view_module_version": "1.5.0",
            "_view_name": "VBoxView",
            "box_style": "",
            "children": [
              "IPY_MODEL_f2a6789ccdce4de3a88f1044e43fcb6e",
              "IPY_MODEL_c14f9e6a71f24a8f847e28741075b8be"
            ],
            "layout": "IPY_MODEL_a932e054c4174e9087248ffe9948e454"
          }
        },
        "f2a6789ccdce4de3a88f1044e43fcb6e": {
          "model_module": "@jupyter-widgets/controls",
          "model_name": "HBoxModel",
          "model_module_version": "1.5.0",
          "state": {
            "_dom_classes": [],
            "_model_module": "@jupyter-widgets/controls",
            "_model_module_version": "1.5.0",
            "_model_name": "HBoxModel",
            "_view_count": null,
            "_view_module": "@jupyter-widgets/controls",
            "_view_module_version": "1.5.0",
            "_view_name": "HBoxView",
            "box_style": "",
            "children": [
              "IPY_MODEL_bdb91c0f0e3b468bb78fb7350dba9ed2",
              "IPY_MODEL_77f015a735fc4527b2426d1840a7c7b3",
              "IPY_MODEL_cc1a8eea8c584366876f2b35a1890407"
            ],
            "layout": "IPY_MODEL_41bff0845ba34ea381e832f6a0d81d31"
          }
        },
        "c14f9e6a71f24a8f847e28741075b8be": {
          "model_module": "@jupyter-widgets/output",
          "model_name": "OutputModel",
          "model_module_version": "1.0.0",
          "state": {
            "_dom_classes": [],
            "_model_module": "@jupyter-widgets/output",
            "_model_module_version": "1.0.0",
            "_model_name": "OutputModel",
            "_view_count": null,
            "_view_module": "@jupyter-widgets/output",
            "_view_module_version": "1.0.0",
            "_view_name": "OutputView",
            "layout": "IPY_MODEL_3da449d848da4135a2e598f76415236c",
            "msg_id": "",
            "outputs": [
              {
                "output_type": "display_data",
                "data": {
                  "text/html": "<html>\n<head><meta charset=\"utf-8\" /></head>\n<body>\n    <div>            <script src=\"https://cdnjs.cloudflare.com/ajax/libs/mathjax/2.7.5/MathJax.js?config=TeX-AMS-MML_SVG\"></script><script type=\"text/javascript\">if (window.MathJax && window.MathJax.Hub && window.MathJax.Hub.Config) {window.MathJax.Hub.Config({SVG: {font: \"STIX-Web\"}});}</script>                <script type=\"text/javascript\">window.PlotlyConfig = {MathJaxConfig: 'local'};</script>\n        <script charset=\"utf-8\" src=\"https://cdn.plot.ly/plotly-2.24.1.min.js\"></script>                <div id=\"593151f1-a463-4b78-8e1b-0bf633e7ca76\" class=\"plotly-graph-div\" style=\"height:457px; width:530px;\"></div>            <script type=\"text/javascript\">                                    window.PLOTLYENV=window.PLOTLYENV || {};                                    if (document.getElementById(\"593151f1-a463-4b78-8e1b-0bf633e7ca76\")) {                    Plotly.newPlot(                        \"593151f1-a463-4b78-8e1b-0bf633e7ca76\",                        [{\"marker\":{\"color\":\"red\"},\"mode\":\"lines\",\"name\":\"Cut\",\"x\":[0.0,0.005005005005005005,0.01001001001001001,0.015015015015015015,0.02002002002002002,0.025025025025025023,0.03003003003003003,0.035035035035035036,0.04004004004004004,0.04504504504504504,0.050050050050050046,0.055055055055055056,0.06006006006006006,0.06506506506506507,0.07007007007007007,0.07507507507507508,0.08008008008008008,0.08508508508508508,0.09009009009009009,0.09509509509509509,0.10010010010010009,0.10510510510510511,0.11011011011011011,0.11511511511511512,0.12012012012012012,0.12512512512512514,0.13013013013013014,0.13513513513513514,0.14014014014014015,0.14514514514514515,0.15015015015015015,0.15515515515515516,0.16016016016016016,0.16516516516516516,0.17017017017017017,0.17517517517517517,0.18018018018018017,0.18518518518518517,0.19019019019019018,0.19519519519519518,0.20020020020020018,0.20520520520520522,0.21021021021021022,0.21521521521521522,0.22022022022022023,0.22522522522522523,0.23023023023023023,0.23523523523523523,0.24024024024024024,0.24524524524524524,0.2502502502502503,0.2552552552552553,0.2602602602602603,0.2652652652652653,0.2702702702702703,0.2752752752752753,0.2802802802802803,0.2852852852852853,0.2902902902902903,0.2952952952952953,0.3003003003003003,0.3053053053053053,0.3103103103103103,0.3153153153153153,0.3203203203203203,0.3253253253253253,0.3303303303303303,0.3353353353353353,0.34034034034034033,0.34534534534534533,0.35035035035035034,0.35535535535535534,0.36036036036036034,0.36536536536536535,0.37037037037037035,0.37537537537537535,0.38038038038038036,0.38538538538538536,0.39039039039039036,0.39539539539539537,0.40040040040040037,0.40540540540540543,0.41041041041041043,0.41541541541541543,0.42042042042042044,0.42542542542542544,0.43043043043043044,0.43543543543543545,0.44044044044044045,0.44544544544544545,0.45045045045045046,0.45545545545545546,0.46046046046046046,0.46546546546546547,0.47047047047047047,0.4754754754754755,0.4804804804804805,0.4854854854854855,0.4904904904904905,0.4954954954954955,0.5005005005005005,0.5055055055055055,0.5105105105105106,0.5155155155155156,0.5205205205205206,0.5255255255255256,0.5305305305305306,0.5355355355355356,0.5405405405405406,0.5455455455455456,0.5505505505505506,0.5555555555555556,0.5605605605605606,0.5655655655655656,0.5705705705705706,0.5755755755755756,0.5805805805805806,0.5855855855855856,0.5905905905905906,0.5955955955955956,0.6006006006006006,0.6056056056056056,0.6106106106106106,0.6156156156156156,0.6206206206206206,0.6256256256256256,0.6306306306306306,0.6356356356356356,0.6406406406406406,0.6456456456456456,0.6506506506506506,0.6556556556556556,0.6606606606606606,0.6656656656656657,0.6706706706706707,0.6756756756756757,0.6806806806806807,0.6856856856856857,0.6906906906906907,0.6956956956956957,0.7007007007007007,0.7057057057057057,0.7107107107107107,0.7157157157157157,0.7207207207207207,0.7257257257257257,0.7307307307307307,0.7357357357357357,0.7407407407407407,0.7457457457457457,0.7507507507507507,0.7557557557557557,0.7607607607607607,0.7657657657657657,0.7707707707707707,0.7757757757757757,0.7807807807807807,0.7857857857857857,0.7907907907907907,0.7957957957957957,0.8008008008008007,0.8058058058058059,0.8108108108108109,0.8158158158158159,0.8208208208208209,0.8258258258258259,0.8308308308308309,0.8358358358358359,0.8408408408408409,0.8458458458458459,0.8508508508508509,0.8558558558558559,0.8608608608608609,0.8658658658658659,0.8708708708708709,0.8758758758758759,0.8808808808808809,0.8858858858858859,0.8908908908908909,0.8958958958958959,0.9009009009009009,0.9059059059059059,0.9109109109109109,0.9159159159159159,0.9209209209209209,0.9259259259259259,0.9309309309309309,0.9359359359359359,0.9409409409409409,0.9459459459459459,0.950950950950951,0.955955955955956,0.960960960960961,0.965965965965966,0.970970970970971,0.975975975975976,0.980980980980981,0.985985985985986,0.990990990990991,0.995995995995996,1.001001001001001,1.006006006006006,1.011011011011011,1.016016016016016,1.021021021021021,1.026026026026026,1.031031031031031,1.0360360360360361,1.0410410410410411,1.0460460460460461,1.0510510510510511,1.0560560560560561,1.0610610610610611,1.0660660660660661,1.0710710710710711,1.0760760760760761,1.0810810810810811,1.0860860860860861,1.0910910910910911,1.0960960960960962,1.1011011011011012,1.1061061061061062,1.1111111111111112,1.1161161161161162,1.1211211211211212,1.1261261261261262,1.1311311311311312,1.1361361361361362,1.1411411411411412,1.1461461461461462,1.1511511511511512,1.1561561561561562,1.1611611611611612,1.1661661661661662,1.1711711711711712,1.1761761761761762,1.1811811811811812,1.1861861861861862,1.1911911911911912,1.1961961961961962,1.2012012012012012,1.2062062062062062,1.2112112112112112,1.2162162162162162,1.2212212212212212,1.2262262262262262,1.2312312312312312,1.2362362362362362,1.2412412412412412,1.2462462462462462,1.2512512512512513,1.2562562562562563,1.2612612612612613,1.2662662662662663,1.2712712712712713,1.2762762762762763,1.2812812812812813,1.2862862862862863,1.2912912912912913,1.2962962962962963,1.3013013013013013,1.3063063063063063,1.3113113113113113,1.3163163163163163,1.3213213213213213,1.3263263263263263,1.3313313313313313,1.3363363363363363,1.3413413413413413,1.3463463463463463,1.3513513513513513,1.3563563563563563,1.3613613613613613,1.3663663663663663,1.3713713713713713,1.3763763763763763,1.3813813813813813,1.3863863863863863,1.3913913913913913,1.3963963963963963,1.4014014014014013,1.4064064064064064,1.4114114114114114,1.4164164164164164,1.4214214214214214,1.4264264264264264,1.4314314314314314,1.4364364364364364,1.4414414414414414,1.4464464464464464,1.4514514514514514,1.4564564564564564,1.4614614614614614,1.4664664664664664,1.4714714714714714,1.4764764764764764,1.4814814814814814,1.4864864864864864,1.4914914914914914,1.4964964964964964,1.5015015015015014,1.5065065065065064,1.5115115115115114,1.5165165165165164,1.5215215215215214,1.5265265265265264,1.5315315315315314,1.5365365365365364,1.5415415415415414,1.5465465465465464,1.5515515515515514,1.5565565565565564,1.5615615615615615,1.5665665665665665,1.5715715715715715,1.5765765765765765,1.5815815815815815,1.5865865865865865,1.5915915915915915,1.5965965965965965,1.6016016016016015,1.6066066066066067,1.6116116116116117,1.6166166166166167,1.6216216216216217,1.6266266266266267,1.6316316316316317,1.6366366366366367,1.6416416416416417,1.6466466466466467,1.6516516516516517,1.6566566566566567,1.6616616616616617,1.6666666666666667,1.6716716716716717,1.6766766766766767,1.6816816816816818,1.6866866866866868,1.6916916916916918,1.6966966966966968,1.7017017017017018,1.7067067067067068,1.7117117117117118,1.7167167167167168,1.7217217217217218,1.7267267267267268,1.7317317317317318,1.7367367367367368,1.7417417417417418,1.7467467467467468,1.7517517517517518,1.7567567567567568,1.7617617617617618,1.7667667667667668,1.7717717717717718,1.7767767767767768,1.7817817817817818,1.7867867867867868,1.7917917917917918,1.7967967967967968,1.8018018018018018,1.8068068068068068,1.8118118118118118,1.8168168168168168,1.8218218218218218,1.8268268268268268,1.8318318318318318,1.8368368368368369,1.8418418418418419,1.8468468468468469,1.8518518518518519,1.8568568568568569,1.8618618618618619,1.8668668668668669,1.8718718718718719,1.8768768768768769,1.8818818818818819,1.8868868868868869,1.8918918918918919,1.896896896896897,1.901901901901902,1.906906906906907,1.911911911911912,1.916916916916917,1.921921921921922,1.926926926926927,1.931931931931932,1.936936936936937,1.941941941941942,1.946946946946947,1.951951951951952,1.956956956956957,1.961961961961962,1.966966966966967,1.971971971971972,1.976976976976977,1.981981981981982,1.986986986986987,1.991991991991992,1.996996996996997,2.002002002002002,2.007007007007007,2.012012012012012,2.017017017017017,2.022022022022022,2.027027027027027,2.032032032032032,2.037037037037037,2.042042042042042,2.047047047047047,2.052052052052052,2.057057057057057,2.062062062062062,2.067067067067067,2.0720720720720722,2.0770770770770772,2.0820820820820822,2.0870870870870872,2.0920920920920922,2.0970970970970972,2.1021021021021022,2.1071071071071072,2.1121121121121122,2.1171171171171173,2.1221221221221223,2.1271271271271273,2.1321321321321323,2.1371371371371373,2.1421421421421423,2.1471471471471473,2.1521521521521523,2.1571571571571573,2.1621621621621623,2.1671671671671673,2.1721721721721723,2.1771771771771773,2.1821821821821823,2.1871871871871873,2.1921921921921923,2.1971971971971973,2.2022022022022023,2.2072072072072073,2.2122122122122123,2.2172172172172173,2.2222222222222223,2.2272272272272273,2.2322322322322323,2.2372372372372373,2.2422422422422423,2.2472472472472473,2.2522522522522523,2.2572572572572573,2.2622622622622623,2.2672672672672673,2.2722722722722724,2.2772772772772774,2.2822822822822824,2.2872872872872874,2.2922922922922924,2.2972972972972974,2.3023023023023024,2.3073073073073074,2.3123123123123124,2.3173173173173174,2.3223223223223224,2.3273273273273274,2.3323323323323324,2.3373373373373374,2.3423423423423424,2.3473473473473474,2.3523523523523524,2.3573573573573574,2.3623623623623624,2.3673673673673674,2.3723723723723724,2.3773773773773774,2.3823823823823824,2.3873873873873874,2.3923923923923924,2.3973973973973974,2.4024024024024024,2.4074074074074074,2.4124124124124124,2.4174174174174174,2.4224224224224224,2.4274274274274275,2.4324324324324325,2.4374374374374375,2.4424424424424425,2.4474474474474475,2.4524524524524525,2.4574574574574575,2.4624624624624625,2.4674674674674675,2.4724724724724725,2.4774774774774775,2.4824824824824825,2.4874874874874875,2.4924924924924925,2.4974974974974975,2.5025025025025025,2.5075075075075075,2.5125125125125125,2.5175175175175175,2.5225225225225225,2.5275275275275275,2.5325325325325325,2.5375375375375375,2.5425425425425425,2.5475475475475475,2.5525525525525525,2.5575575575575575,2.5625625625625625,2.5675675675675675,2.5725725725725725,2.5775775775775776,2.5825825825825826,2.5875875875875876,2.5925925925925926,2.5975975975975976,2.6026026026026026,2.6076076076076076,2.6126126126126126,2.6176176176176176,2.6226226226226226,2.6276276276276276,2.6326326326326326,2.6376376376376376,2.6426426426426426,2.6476476476476476,2.6526526526526526,2.6576576576576576,2.6626626626626626,2.6676676676676676,2.6726726726726726,2.6776776776776776,2.6826826826826826,2.6876876876876876,2.6926926926926926,2.6976976976976976,2.7027027027027026,2.7077077077077076,2.7127127127127126,2.7177177177177176,2.7227227227227226,2.7277277277277276,2.7327327327327327,2.7377377377377377,2.7427427427427427,2.7477477477477477,2.7527527527527527,2.7577577577577577,2.7627627627627627,2.7677677677677677,2.7727727727727727,2.7777777777777777,2.7827827827827827,2.7877877877877877,2.7927927927927927,2.7977977977977977,2.8028028028028027,2.8078078078078077,2.8128128128128127,2.8178178178178177,2.8228228228228227,2.8278278278278277,2.8328328328328327,2.8378378378378377,2.8428428428428427,2.8478478478478477,2.8528528528528527,2.8578578578578577,2.8628628628628627,2.8678678678678677,2.8728728728728727,2.8778778778778777,2.8828828828828827,2.8878878878878878,2.8928928928928928,2.8978978978978978,2.9029029029029028,2.9079079079079078,2.9129129129129128,2.9179179179179178,2.9229229229229228,2.9279279279279278,2.932932932932933,2.937937937937938,2.942942942942943,2.947947947947948,2.952952952952953,2.957957957957958,2.962962962962963,2.967967967967968,2.972972972972973,2.977977977977978,2.982982982982983,2.987987987987988,2.992992992992993,2.997997997997998,3.003003003003003,3.008008008008008,3.013013013013013,3.018018018018018,3.023023023023023,3.028028028028028,3.033033033033033,3.038038038038038,3.043043043043043,3.048048048048048,3.053053053053053,3.058058058058058,3.063063063063063,3.068068068068068,3.073073073073073,3.078078078078078,3.083083083083083,3.088088088088088,3.093093093093093,3.098098098098098,3.103103103103103,3.108108108108108,3.113113113113113,3.118118118118118,3.123123123123123,3.128128128128128,3.133133133133133,3.138138138138138,3.143143143143143,3.148148148148148,3.153153153153153,3.158158158158158,3.163163163163163,3.168168168168168,3.173173173173173,3.178178178178178,3.183183183183183,3.188188188188188,3.193193193193193,3.198198198198198,3.203203203203203,3.2082082082082084,3.2132132132132134,3.2182182182182184,3.2232232232232234,3.2282282282282284,3.2332332332332334,3.2382382382382384,3.2432432432432434,3.2482482482482484,3.2532532532532534,3.2582582582582584,3.2632632632632634,3.2682682682682684,3.2732732732732734,3.2782782782782784,3.2832832832832834,3.2882882882882885,3.2932932932932935,3.2982982982982985,3.3033033033033035,3.3083083083083085,3.3133133133133135,3.3183183183183185,3.3233233233233235,3.3283283283283285,3.3333333333333335,3.3383383383383385,3.3433433433433435,3.3483483483483485,3.3533533533533535,3.3583583583583585,3.3633633633633635,3.3683683683683685,3.3733733733733735,3.3783783783783785,3.3833833833833835,3.3883883883883885,3.3933933933933935,3.3983983983983985,3.4034034034034035,3.4084084084084085,3.4134134134134135,3.4184184184184185,3.4234234234234235,3.4284284284284285,3.4334334334334335,3.4384384384384385,3.4434434434434436,3.4484484484484486,3.4534534534534536,3.4584584584584586,3.4634634634634636,3.4684684684684686,3.4734734734734736,3.4784784784784786,3.4834834834834836,3.4884884884884886,3.4934934934934936,3.4984984984984986,3.5035035035035036,3.5085085085085086,3.5135135135135136,3.5185185185185186,3.5235235235235236,3.5285285285285286,3.5335335335335336,3.5385385385385386,3.5435435435435436,3.5485485485485486,3.5535535535535536,3.5585585585585586,3.5635635635635636,3.5685685685685686,3.5735735735735736,3.5785785785785786,3.5835835835835836,3.5885885885885886,3.5935935935935936,3.5985985985985987,3.6036036036036037,3.6086086086086087,3.6136136136136137,3.6186186186186187,3.6236236236236237,3.6286286286286287,3.6336336336336337,3.6386386386386387,3.6436436436436437,3.6486486486486487,3.6536536536536537,3.6586586586586587,3.6636636636636637,3.6686686686686687,3.6736736736736737,3.6786786786786787,3.6836836836836837,3.6886886886886887,3.6936936936936937,3.6986986986986987,3.7037037037037037,3.7087087087087087,3.7137137137137137,3.7187187187187187,3.7237237237237237,3.7287287287287287,3.7337337337337337,3.7387387387387387,3.7437437437437437,3.7487487487487487,3.7537537537537538,3.7587587587587588,3.7637637637637638,3.7687687687687688,3.7737737737737738,3.7787787787787788,3.7837837837837838,3.7887887887887888,3.793793793793794,3.798798798798799,3.803803803803804,3.808808808808809,3.813813813813814,3.818818818818819,3.823823823823824,3.828828828828829,3.833833833833834,3.838838838838839,3.843843843843844,3.848848848848849,3.853853853853854,3.858858858858859,3.863863863863864,3.868868868868869,3.873873873873874,3.878878878878879,3.883883883883884,3.888888888888889,3.893893893893894,3.898898898898899,3.903903903903904,3.908908908908909,3.913913913913914,3.918918918918919,3.923923923923924,3.928928928928929,3.933933933933934,3.938938938938939,3.943943943943944,3.948948948948949,3.953953953953954,3.958958958958959,3.963963963963964,3.968968968968969,3.973973973973974,3.978978978978979,3.983983983983984,3.988988988988989,3.993993993993994,3.998998998998999,4.004004004004004,4.009009009009009,4.014014014014014,4.019019019019019,4.024024024024024,4.029029029029029,4.034034034034034,4.039039039039039,4.044044044044044,4.049049049049049,4.054054054054054,4.059059059059059,4.064064064064064,4.069069069069069,4.074074074074074,4.079079079079079,4.084084084084084,4.089089089089089,4.094094094094094,4.099099099099099,4.104104104104104,4.109109109109109,4.114114114114114,4.119119119119119,4.124124124124124,4.129129129129129,4.134134134134134,4.1391391391391394,4.1441441441441444,4.1491491491491495,4.1541541541541545,4.1591591591591595,4.1641641641641645,4.1691691691691695,4.1741741741741745,4.1791791791791795,4.1841841841841845,4.1891891891891895,4.1941941941941945,4.1991991991991995,4.2042042042042045,4.2092092092092095,4.2142142142142145,4.2192192192192195,4.2242242242242245,4.2292292292292295,4.2342342342342345,4.2392392392392395,4.2442442442442445,4.2492492492492495,4.2542542542542545,4.2592592592592595,4.2642642642642645,4.2692692692692695,4.2742742742742745,4.2792792792792795,4.2842842842842845,4.2892892892892895,4.2942942942942945,4.2992992992992995,4.3043043043043046,4.3093093093093096,4.314314314314315,4.31931931931932,4.324324324324325,4.32932932932933,4.334334334334335,4.33933933933934,4.344344344344345,4.34934934934935,4.354354354354355,4.35935935935936,4.364364364364365,4.36936936936937,4.374374374374375,4.37937937937938,4.384384384384385,4.38938938938939,4.394394394394395,4.3993993993994,4.404404404404405,4.40940940940941,4.414414414414415,4.41941941941942,4.424424424424425,4.42942942942943,4.434434434434435,4.43943943943944,4.444444444444445,4.44944944944945,4.454454454454455,4.45945945945946,4.464464464464465,4.46946946946947,4.474474474474475,4.47947947947948,4.484484484484485,4.48948948948949,4.494494494494495,4.4994994994995,4.504504504504505,4.50950950950951,4.514514514514515,4.51951951951952,4.524524524524525,4.52952952952953,4.534534534534535,4.53953953953954,4.544544544544545,4.54954954954955,4.554554554554555,4.55955955955956,4.564564564564565,4.56956956956957,4.574574574574575,4.57957957957958,4.584584584584585,4.58958958958959,4.594594594594595,4.5995995995996,4.604604604604605,4.60960960960961,4.614614614614615,4.61961961961962,4.624624624624625,4.62962962962963,4.634634634634635,4.63963963963964,4.644644644644645,4.64964964964965,4.654654654654655,4.65965965965966,4.664664664664665,4.66966966966967,4.674674674674675,4.67967967967968,4.684684684684685,4.68968968968969,4.694694694694695,4.6996996996997,4.704704704704705,4.70970970970971,4.714714714714715,4.71971971971972,4.724724724724725,4.72972972972973,4.734734734734735,4.73973973973974,4.744744744744745,4.74974974974975,4.754754754754755,4.75975975975976,4.764764764764765,4.76976976976977,4.774774774774775,4.77977977977978,4.784784784784785,4.78978978978979,4.794794794794795,4.7997997997998,4.804804804804805,4.80980980980981,4.814814814814815,4.81981981981982,4.824824824824825,4.82982982982983,4.834834834834835,4.83983983983984,4.844844844844845,4.84984984984985,4.854854854854855,4.85985985985986,4.864864864864865,4.86986986986987,4.874874874874875,4.87987987987988,4.884884884884885,4.88988988988989,4.894894894894895,4.8998998998999,4.904904904904905,4.90990990990991,4.914914914914915,4.91991991991992,4.924924924924925,4.92992992992993,4.934934934934935,4.93993993993994,4.944944944944945,4.94994994994995,4.954954954954955,4.95995995995996,4.964964964964965,4.96996996996997,4.974974974974975,4.97997997997998,4.984984984984985,4.98998998998999,4.994994994994995,5.0],\"y\":[0.0008718281828459045,0.0008708368289471942,0.000869849090503446,0.0008688649543291419,0.0008678844072868514,0.0008669074362870561,0.0008659340282879747,0.0008649641702953894,0.0008639978493624721,0.0008630350525896114,0.0008620757671242409,0.0008611199801606671,0.0008601676789398986,0.0008592188507494761,0.0008582734829233028,0.0008573315628414742,0.0008563930779301113,0.0008554580156611909,0.0008545263635523805,0.0008535981091668696,0.0008526732401132046,0.000851751744045124,0.0008508336086613927,0.0008499188217056375,0.0008490073709661849,0.0008480992442758967,0.000847194429512008,0.000846292914595966,0.0008453946874932676,0.0008444997362132998,0.0008436080488091792,0.0008427196133775922,0.000841834418058637,0.0008409524510356641,0.0008400737005351193,0.0008391981548263866,0.0008383258022216318,0.000837456631075645,0.000836590629785687,0.0008357277867913338,0.0008348680905743216,0.0008340115296583937,0.0008331580926091473,0.0008323077680338808,0.0008314605445814412,0.0008306164109420735,0.0008297753558472689,0.0008289373680696151,0.0008281024364226455,0.0008272705497606907,0.0008264416969787295,0.0008256158670122404,0.0008247930488370541,0.0008239732314692063,0.0008231564039647911,0.0008223425554198148,0.0008215316749700508,0.0008207237517908936,0.0008199187750972152,0.0008191167341432213,0.0008183176182223062,0.0008175214166669122,0.0008167281188483855,0.0008159377141768349,0.0008151501921009907,0.0008143655421080631,0.0008135837537236024,0.0008128048165113594,0.0008120287200731454,0.0008112554540486942,0.0008104850081155228,0.0008097173719887946,0.0008089525354211816,0.0008081904882027275,0.0008074312201607114,0.0008066747211595129,0.0008059209811004753,0.000805169989921772,0.0008044217375982717,0.0008036762141414046,0.000802933409599029,0.0008021933140552987,0.0008014559176305303,0.0008007212104810714,0.0007999891827991697,0.0007992598248128412,0.0007985331267857403,0.0007978090790170297,0.0007970876718412514,0.0007963688956281966,0.000795652740782778,0.0007949391977449013,0.0007942282569893379,0.0007935199090255978,0.0007928141443978023,0.0007921109536845582,0.0007914103274988322,0.0007907122564878254,0.0007900167313328483,0.0007893237427491967,0.0007886332814860272,0.0007879453383262346,0.0007872599040863282,0.0007865769696163091,0.0007858965257995488,0.0007852185635526667,0.0007845430738254093,0.0007838700476005292,0.0007831994758936648,0.0007825313497532204,0.0007818656602602465,0.000781202398528321,0.0007805415557034306,0.0007798831229638523,0.0007792270915200359,0.0007785734526144864,0.0007779221975216477,0.0007772733175477849,0.00077662680403087,0.0007759826483404647,0.0007753408418776057,0.0007747013760746906,0.0007740642423953624,0.0007734294323343964,0.0007727969374175862,0.0007721667492016306,0.0007715388592740211,0.0007709132592529297,0.0007702899407870968,0.0007696688955557194,0.0007690501152683407,0.0007684335916647388,0.0007678193165148172,0.0007672072816184938,0.0007665974788055927,0.000765989899935734,0.0007653845368982262,0.000764781381611957,0.0007641804260252861,0.0007635816621159369,0.0007629850818908905,0.0007623906773862784,0.0007617984406672758,0.0007612083638279965,0.0007606204389913868,0.0007600346583091205,0.0007594510139614944,0.000758869498157323,0.0007582901031338361,0.0007577128211565736,0.0007571376445192827,0.000756564565543816,0.0007559935765800273,0.0007554246700056709,0.0007548578382262994,0.0007542930736751618,0.0007537303688131035,0.0007531697161284647,0.0007526111081369807,0.0007520545373816818,0.0007514999964327937,0.0007509474778876383,0.0007503969743705352,0.0007498484785327029,0.0007493019830521611,0.0007487574806336321,0.0007482149640084444,0.0007476744259344351,0.0007471358591958535,0.0007465992566032644,0.0007460646109934525,0.0007455319152293269,0.0007450011621998254,0.0007444723448198195,0.0007439454560300205,0.0007434204887968845,0.0007428974361125192,0.0007423762909945894,0.0007418570464862251,0.0007413396956559273,0.0007408242315974766,0.0007403106474298402,0.0007397989362970803,0.0007392890913682629,0.0007387811058373659,0.000738274972923189,0.0007377706858692629,0.0007372682379437587,0.0007367676224393988,0.0007362688326733668,0.0007357718619872181,0.0007352767037467922,0.0007347833513421223,0.0007342917981873488,0.0007338020377206303,0.0007333140634040565,0.0007328278687235608,0.0007323434471888329,0.0007318607923332333,0.0007313798977137057,0.0007309007569106915,0.0007304233635280447,0.0007299477111929455,0.0007294737935558157,0.0007290016042902342,0.0007285311370928521,0.0007280623856833086,0.0007275953438041475,0.0007271300052207334,0.0007266663637211687,0.0007262044131162101,0.0007257441472391869,0.0007252855599459178,0.0007248286451146293,0.0007243733966458742,0.0007239198084624494,0.0007234678745093158,0.0007230175887535166,0.0007225689451840973,0.0007221219378120253,0.0007216765606701097,0.0007212328078129222,0.0007207906733167171,0.0007203501512793526,0.0007199112358202119,0.000719473921080125,0.00071903820122129,0.0007186040704271955,0.0007181715229025425,0.0007177405528731678,0.0007173111545859664,0.0007168833223088146,0.0007164570503304938,0.0007160323329606144,0.0007156091645295389,0.0007151875393883079,0.0007147674519085627,0.0007143488964824718,0.000713931867522655,0.0007135163594621095,0.000713102366754135,0.0007126898838722601,0.0007122789053101685,0.0007118694255816252,0.0007114614392204035,0.0007110549407802118,0.0007106499248346211,0.000710246385976993,0.0007098443188204061,0.000709443717997586,0.0007090445781608319,0.0007086468939819466,0.0007082506601521644,0.0007078558713820807,0.0007074625224015815,0.0007070706079597723,0.0007066801228249091,0.0007062910617843277,0.0007059034196443746,0.0007055171912303374,0.0007051323713863756,0.0007047489549754525,0.0007043669368792656,0.000703986311998179,0.0007036070752511551,0.0007032292215756867,0.0007028527459277298,0.0007024776432816354,0.0007021039086300835,0.0007017315369840156,0.0007013605233725679,0.0007009908628430059,0.0007006225504606571,0.0007002555813088458,0.0006998899504888277,0.0006995256531197237,0.0006991626843384555,0.0006988010392996804,0.0006984407131757262,0.0006980817011565276,0.0006977239984495616,0.0006973676002797829,0.0006970125018895614,0.0006966586985386175,0.0006963061855039598,0.000695954958079821,0.0006956050115775964,0.0006952563413257799,0.0006949089426699027,0.0006945628109724708,0.000694217941612903,0.0006938743299874691,0.000693531971509229,0.0006931908616079711,0.0006928509957301506,0.0006925123693388304,0.0006921749779136192,0.0006918388169506112,0.0006915038819623265,0.0006911701684776512,0.0006908376720417771,0.0006905063882161428,0.0006901763125783746,0.0006898474407222266,0.0006895197682575226,0.0006891932908100974,0.0006888680040217385,0.0006885439035501274,0.0006882209850687821,0.0006878992442669993,0.0006875786768497968,0.0006872592785378559,0.0006869410450674649,0.0006866239721904613,0.0006863080556741763,0.0006859932913013768,0.0006856796748702105,0.0006853672021941489,0.0006850558691019319,0.0006847456714375117,0.0006844366050599977,0.0006841286658436011,0.0006838218496775796,0.0006835161524661831,0.0006832115701285983,0.0006829080985988948,0.0006826057338259702,0.0006823044717734971,0.0006820043084198679,0.0006817052397581422,0.0006814072617959924,0.0006811103705556513,0.0006808145620738584,0.0006805198324018071,0.0006802261776050919,0.0006799335937636567,0.000679642076971741,0.0006793516233378287,0.0006790622289845967,0.0006787738900488616,0.0006784866026815293,0.0006782003630475434,0.0006779151673258339,0.0006776310117092659,0.0006773478924045894,0.0006770658056323882,0.0006767847476270297,0.0006765047146366142,0.0006762257029229254,0.0006759477087613803,0.0006756707284409793,0.0006753947582642565,0.000675119794547231,0.0006748458336193572,0.0006745728718234758,0.0006743009055157655,0.0006740299310656934,0.0006737599448559677,0.0006734909432824881,0.0006732229227542992,0.0006729558796935414,0.0006726898105354031,0.0006724247117280744,0.0006721605797326981,0.0006718974110233234,0.0006716352020868588,0.0006713739494230245,0.0006711136495443068,0.0006708542989759104,0.0006705958942557126,0.0006703384319342174,0.0006700819085745086,0.0006698263207522047,0.0006695716650554129,0.0006693179380846833,0.0006690651364529636,0.0006688132567855547,0.0006685622957200643,0.0006683122499063632,0.0006680631160065397,0.0006678148906948555,0.0006675675706577015,0.000667321152593553,0.000667075633212926,0.0006668310092383332,0.0006665872774042404,0.0006663444344570225,0.0006661024771549204,0.0006658614022679978,0.000665621206578098,0.0006653818868788004,0.0006651434399753788,0.0006649058626847576,0.0006646691518354703,0.0006644333042676163,0.0006641983168328193,0.0006639641863941851,0.0006637309098262597,0.0006634984840149874,0.0006632669058576697,0.0006630361722629236,0.0006628062801506401,0.0006625772264519436,0.0006623490081091503,0.000662121622075728,0.0006618950653162551,0.0006616693348063801,0.0006614444275327813,0.0006612203404931267,0.0006609970706960334,0.0006607746151610284,0.0006605529709185084,0.0006603321350096997,0.0006601121044866201,0.0006598928764120379,0.0006596744478594337,0.0006594568159129612,0.000659239977667408,0.0006590239302281571,0.000658808670711148,0.0006585941962428383,0.0006583805039601655,0.0006581675910105085,0.0006579554545516501,0.0006577440917517382,0.0006575334997892484,0.0006573236758529464,0.0006571146171418507,0.000656906320865195,0.0006566987842423904,0.000656492004502989,0.0006562859788866468,0.0006560807046430867,0.0006558761790320618,0.0006556723993233188,0.0006554693627965617,0.0006552670667414153,0.0006550655084573891,0.0006548646852538413,0.0006546645944499428,0.0006544652333746415,0.0006542665993666265,0.0006540686897742926,0.0006538715019557055,0.0006536750332785653,0.0006534792811201724,0.0006532842428673921,0.0006530899159166198,0.0006528962976737461,0.0006527033855541227,0.0006525111769825269,0.0006523196693931279,0.0006521288602294531,0.0006519387469443523,0.0006517493269999656,0.0006515605978676882,0.0006513725570281372,0.0006511852019711178,0.00065099853019559,0.0006508125392096349,0.0006506272265304217,0.0006504425896841744,0.0006502586262061386,0.0006500753336405494,0.0006498927095405976,0.0006497107514683976,0.0006495294569949545,0.0006493488237001325,0.0006491688491726214,0.0006489895310099053,0.0006488108668182302,0.0006486328542125723,0.0006484554908166054,0.0006482787742626703,0.0006481027021917424,0.0006479272722534003,0.0006477524821057949,0.0006475783294156174,0.0006474048118580688,0.0006472319271168286,0.0006470596728840237,0.000646888046860198,0.0006467170467542814,0.0006465466702835592,0.0006463769151736421,0.000646207779158435,0.0006460392599801075,0.0006458713553890633,0.0006457040631439105,0.0006455373810114317,0.0006453713067665535,0.0006452058381923178,0.0006450409730798514,0.000644876709228337,0.0006447130444449838,0.0006445499765449975,0.0006443875033515526,0.0006442256226957615,0.0006440643324166473,0.0006439036303611136,0.0006437435143839168,0.0006435839823476365,0.0006434250321226476,0.000643266661587092,0.0006431088686268497,0.000642951651135511,0.000642795007014348,0.0006426389341722871,0.0006424834305258808,0.0006423284939992797,0.0006421741225242053,0.0006420203140399218,0.0006418670664932091,0.000641714377838335,0.0006415622460370281,0.0006414106690584508,0.0006412596448791715,0.0006411091714831383,0.0006409592468616516,0.000640809869013338,0.0006406610359441224,0.0006405127456672028,0.0006403649962030222,0.0006402177855792439,0.0006400711118307236,0.0006399249729994841,0.000639779367134689,0.0006396342922926167,0.0006394897465366338,0.0006393457279371702,0.0006392022345716931,0.0006390592645246806,0.0006389168158875971,0.0006387748867588671,0.0006386334752438505,0.0006384925794548166,0.0006383521975109194,0.0006382123275381723,0.000638072967669423,0.0006379341160443288,0.0006377957708093316,0.0006376579301176332,0.0006375205921291707,0.0006373837550105919,0.0006372474169352306,0.0006371115760830825,0.0006369762306407812,0.0006368413788015732,0.0006367070187652943,0.0006365731487383455,0.0006364397669336693,0.000636306871570725,0.0006361744608754659,0.0006360425330803154,0.0006359110864241429,0.0006357801191522404,0.0006356496295163002,0.0006355196157743895,0.0006353900761909292,0.0006352610090366694,0.000635132412588667,0.000635004285130262,0.0006348766249510556,0.0006347494303468865,0.0006346226996198085,0.0006344964310780679,0.0006343706230360805,0.0006342452738144097,0.0006341203817397436,0.0006339959451448731,0.0006338719623686692,0.0006337484317560609,0.0006336253516580134,0.0006335027204315061,0.0006333805364395099,0.0006332587980509665,0.0006331375036407657,0.0006330166515897243,0.0006328962402845639,0.0006327762681178902,0.0006326567334881706,0.0006325376347997134,0.0006324189704626466,0.0006323007388928959,0.0006321829385121648,0.0006320655677479123,0.0006319486250333327,0.0006318321088073342,0.0006317160175145185,0.0006316003496051598,0.0006314851035351838,0.000631370277766148,0.0006312558707652201,0.000631141881005158,0.00063102830696429,0.0006309151471264932,0.0006308023999811746,0.0006306900640232496,0.0006305781377531235,0.0006304666196766699,0.0006303555083052117,0.0006302448021555011,0.0006301344997496995,0.0006300245996153581,0.0006299151002853979,0.0006298060002980907,0.0006296972981970388,0.0006295889925311562,0.0006294810818546488,0.0006293735647269955,0.0006292664397129287,0.0006291597053824151,0.0006290533603106369,0.0006289474030779723,0.0006288418322699771,0.0006287366464773656,0.0006286318442959916,0.0006285274243268298,0.000628423385175957,0.000628319725454534,0.0006282164437787864,0.0006281135387699863,0.0006280110090544345,0.0006279088532634412,0.0006278070700333081,0.0006277056580053108,0.0006276046158256798,0.0006275039421455826,0.0006274036356211066,0.0006273036949132396,0.0006272041186878532,0.0006271049056156844,0.0006270060543723183,0.0006269075636381697,0.0006268094320984661,0.0006267116584432301,0.0006266142413672614,0.0006265171795701202,0.0006264204717561091,0.0006263241166342561,0.0006262281129182976,0.0006261324593266606,0.0006260371545824462,0.0006259421974134125,0.0006258475865519572,0.0006257533207351009,0.0006256593987044704,0.0006255658192062818,0.0006254725809913236,0.0006253796828149403,0.0006252871234370156,0.0006251949016219558,0.0006251030161386735,0.000625011465760571,0.000624920249265524,0.0006248293654358653,0.0006247388130583685,0.0006246485909242317,0.0006245586978290617,0.0006244691325728575,0.0006243798939599948,0.0006242909807992095,0.0006242023919035818,0.000624114126090521,0.0006240261821817491,0.0006239385590032853,0.0006238512553854303,0.0006237642701627505,0.0006236776021740629,0.0006235912502624193,0.0006235052132750905,0.0006234194900635519,0.0006233340794834669,0.0006232489803946727,0.0006231641916611647,0.0006230797121510811,0.0006229955407366877,0.0006229116762943639,0.0006228281177045864,0.0006227448638519148,0.0006226619136249767,0.0006225792659164531,0.000622496919623063,0.0006224148736455496,0.0006223331268886646,0.000622251678261154,0.0006221705266757442,0.000622089671049126,0.0006220091103019419,0.0006219288433587701,0.0006218488691481114,0.0006217691866023737,0.0006216897946578591,0.0006216106922547485,0.0006215318783370881,0.0006214533518527754,0.0006213751117535443,0.0006212971569949523,0.0006212194865363658,0.0006211420993409462,0.0006210649943756364,0.0006209881706111468,0.0006209116270219415,0.000620835362586225,0.0006207593762859281,0.0006206836671066944,0.000620608234037867,0.0006205330760724748,0.000620458192207219,0.0006203835814424599,0.0006203092427822036,0.0006202351752340885,0.0006201613778093719,0.0006200878495229175,0.0006200145893931813,0.0006199415964421993,0.0006198688696955738,0.0006197964081824611,0.0006197242109355581,0.0006196522769910891,0.0006195806053887936,0.0006195091951719129,0.0006194380453871779,0.0006193671550847959,0.0006192965233184383,0.0006192261491452269,0.0006191560316257235,0.0006190861698239148,0.000619016562807202,0.0006189472096463868,0.0006188781094156603,0.0006188092611925895,0.0006187406640581059,0.0006186723170964924,0.000618604219395372,0.0006185363700456946,0.000618468768141726,0.0006184014127810345,0.0006183343030644802,0.000618267438096202,0.0006182008169836062,0.0006181344388373539,0.0006180683027713504,0.0006180024079027318,0.0006179367533518545,0.0006178713382422827,0.000617806161700777,0.0006177412228572829,0.0006176765208449186,0.0006176120547999641,0.0006175478238618493,0.0006174838271731424,0.0006174200638795391,0.0006173565331298503,0.0006172932340759911,0.0006172301658729702,0.0006171673276788773,0.0006171047186548729,0.0006170423379651764,0.0006169801847770558,0.0006169182582608156,0.0006168565575897863,0.0006167950819403135,0.0006167338304917464,0.0006166728024264271,0.0006166119969296797,0.0006165514131897997,0.0006164910503980424,0.0006164309077486131,0.0006163709844386553,0.0006163112796682409,0.0006162517926403589,0.0006161925225609051,0.0006161334686386714,0.0006160746300853352,0.0006160160061154488,0.0006159575959464292,0.0006158993987985474,0.0006158414138949179,0.0006157836404614888,0.0006157260777270309,0.0006156687249231277,0.0006156115812841653,0.0006155546460473217,0.0006154979184525571,0.0006154413977426035,0.0006153850831629548,0.0006153289739618561,0.0006152730693902948,0.0006152173687019893,0.0006151618711533801,0.0006151065760036194,0.0006150514825145611,0.0006149965899507513,0.000614941897579418,0.0006148874046704621,0.0006148331104964467,0.000614779014332588,0.0006147251154567454,0.0006146714131494123,0.0006146179066937056,0.0006145645953753571,0.0006145114784827034,0.0006144585553066763,0.0006144058251407939,0.0006143532872811505,0.0006143009410264079,0.0006142487856777854,0.0006141968205390507,0.000614145044916511,0.0006140934581190031,0.0006140420594578846,0.0006139908482470242,0.0006139398238027935,0.0006138889854440569,0.000613838332492163,0.0006137878642709355,0.0006137375801066638,0.0006136874793280948,0.0006136375612664231,0.0006135878252552824,0.000613538270630737,0.000613488896731272,0.0006134397028977855,0.0006133906884735793,0.0006133418528043498,0.0006132931952381801,0.0006132447151255305,0.0006131964118192305,0.0006131482846744693,0.0006131003330487883,0.0006130525563020716,0.0006130049537965376,0.0006129575248967312,0.0006129102689695146,0.0006128631853840587,0.0006128162735118355,0.0006127695327266091,0.0006127229624044273,0.0006126765619236136,0.0006126303306647586,0.0006125842680107121,0.0006125383733465746,0.0006124926460596889,0.0006124470855396324,0.0006124016911782086,0.000612356462369439,0.0006123113985095553,0.000612266498996991,0.0006122217632323735,0.0006121771906185162,0.0006121327805604103,0.0006120885324652171,0.0006120444457422599,0.0006120005198030162,0.00061195675406111,0.0006119131479323036,0.0006118697008344901,0.0006118264121876852,0.0006117832814140205,0.0006117403079377345,0.0006116974911851657,0.0006116548305847447,0.0006116123255669868,0.0006115699755644836,0.0006115277800118969,0.0006114857383459497,0.0006114438500054192,0.0006114021144311298,0.0006113605310659448,0.0006113190993547598,0.0006112778187444943,0.0006112366886840854,0.0006111957086244795,0.0006111548780186259,0.0006111141963214685,0.000611073662989939,0.0006110332774829502,0.0006109930392613878,0.0006109529477881035,0.0006109130025279086,0.0006108732029475656,0.0006108335485157819,0.0006107940387032028,0.0006107546729824036,0.0006107154508278837,0.0006106763717160584,0.0006106374351252532,0.0006105986405356957,0.0006105599874295089,0.000610521475290705,0.0006104831036051777,0.0006104448718606958,0.0006104067795468958,0.000610368826155276,0.0006103310111791891,0.0006102933341138352,0.0006102557944562558,0.0006102183917053263,0.0006101811253617501,0.0006101439949280514,0.0006101069999085683,0.0006100701398094471,0.000610033414138635,0.0006099968224058736,0.0006099603641226926,0.0006099240388024031,0.000609887845960091,0.000609851785112611,0.0006098158557785795,0.0006097800574783687,0.0006097443897341,0.0006097088520696373,0.0006096734440105816,0.0006096381650842632,0.0006096030148197371,0.0006095679927477751,0.0006095330984008607,0.0006094983313131823,0.000609463691020627,0.0006094291770607746,0.0006093947889728914,0.000609360526297924,0.0006093263885784929,0.0006092923753588872,0.0006092584861850574,0.0006092247206046102,0.0006091910781668019,0.0006091575584225333,0.0006091241609243424,0.0006090908852263993,0.0006090577308845,0.0006090246974560608,0.0006089917845001116,0.0006089589915772909,0.0006089263182498394,0.0006088937640815944,0.0006088613286379837,0.0006088290114860201,0.0006087968121942955,0.0006087647303329751,0.0006087327654737917,0.0006087009171900402,0.0006086691850565711,0.0006086375686497862,0.0006086060675476316,0.0006085746813295928,0.0006085434095766888,0.0006085122518714668,0.0006084812077979965,0.000608450276941864,0.0006084194588901676,0.0006083887532315108,0.0006083581595559974,0.0006083276774552264,0.0006082973065222863,0.0006082670463517494,0.0006082368965396666,0.0006082068566835619,0.0006081769263824276,0.0006081471052367177,0.0006081173928483441,0.00060808778882067,0.0006080582927585053,0.0006080289042681013,0.0006079996229571452,0.0006079704484347548,0.0006079413803114737,0.0006079124181992655,0.0006078835617115094,0.0006078548104629941,0.0006078261640699138,0.0006077976221498619,0.0006077691843218265,0.0006077408502061855,0.000607712619424701,0.0006076844916005149,0.0006076564663581429,0.0006076285433234708,0.0006076007221237481,0.0006075730023875842,0.0006075453837449429,0.0006075178658271372,0.000607490448266825,0.000607463130698004,0.0006074359127560062,0.0006074087940774941,0.0006073817743004549,0.0006073548530641963,0.0006073280300093411,0.0006073013047778234,0.0006072746770128823,0.0006072481463590588,0.0006072217124621895,0.0006071953749694034,0.0006071691335291161,0.0006071429877910249,0.0006071169374061055,0.0006070909820266061,0.000607065121306043],\"type\":\"scatter\",\"uid\":\"867c44dd-2f75-40a5-b96a-549e36896f17\"}],                        {\"template\":{\"data\":{\"barpolar\":[{\"marker\":{\"line\":{\"color\":\"white\",\"width\":0.5},\"pattern\":{\"fillmode\":\"overlay\",\"size\":10,\"solidity\":0.2}},\"type\":\"barpolar\"}],\"bar\":[{\"error_x\":{\"color\":\"#2a3f5f\"},\"error_y\":{\"color\":\"#2a3f5f\"},\"marker\":{\"line\":{\"color\":\"white\",\"width\":0.5},\"pattern\":{\"fillmode\":\"overlay\",\"size\":10,\"solidity\":0.2}},\"type\":\"bar\"}],\"carpet\":[{\"aaxis\":{\"endlinecolor\":\"#2a3f5f\",\"gridcolor\":\"#C8D4E3\",\"linecolor\":\"#C8D4E3\",\"minorgridcolor\":\"#C8D4E3\",\"startlinecolor\":\"#2a3f5f\"},\"baxis\":{\"endlinecolor\":\"#2a3f5f\",\"gridcolor\":\"#C8D4E3\",\"linecolor\":\"#C8D4E3\",\"minorgridcolor\":\"#C8D4E3\",\"startlinecolor\":\"#2a3f5f\"},\"type\":\"carpet\"}],\"choropleth\":[{\"colorbar\":{\"outlinewidth\":0,\"ticks\":\"\"},\"type\":\"choropleth\"}],\"contourcarpet\":[{\"colorbar\":{\"outlinewidth\":0,\"ticks\":\"\"},\"type\":\"contourcarpet\"}],\"contour\":[{\"colorbar\":{\"outlinewidth\":0,\"ticks\":\"\"},\"colorscale\":[[0.0,\"#0d0887\"],[0.1111111111111111,\"#46039f\"],[0.2222222222222222,\"#7201a8\"],[0.3333333333333333,\"#9c179e\"],[0.4444444444444444,\"#bd3786\"],[0.5555555555555556,\"#d8576b\"],[0.6666666666666666,\"#ed7953\"],[0.7777777777777778,\"#fb9f3a\"],[0.8888888888888888,\"#fdca26\"],[1.0,\"#f0f921\"]],\"type\":\"contour\"}],\"heatmapgl\":[{\"colorbar\":{\"outlinewidth\":0,\"ticks\":\"\"},\"colorscale\":[[0.0,\"#0d0887\"],[0.1111111111111111,\"#46039f\"],[0.2222222222222222,\"#7201a8\"],[0.3333333333333333,\"#9c179e\"],[0.4444444444444444,\"#bd3786\"],[0.5555555555555556,\"#d8576b\"],[0.6666666666666666,\"#ed7953\"],[0.7777777777777778,\"#fb9f3a\"],[0.8888888888888888,\"#fdca26\"],[1.0,\"#f0f921\"]],\"type\":\"heatmapgl\"}],\"heatmap\":[{\"colorbar\":{\"outlinewidth\":0,\"ticks\":\"\"},\"colorscale\":[[0.0,\"#0d0887\"],[0.1111111111111111,\"#46039f\"],[0.2222222222222222,\"#7201a8\"],[0.3333333333333333,\"#9c179e\"],[0.4444444444444444,\"#bd3786\"],[0.5555555555555556,\"#d8576b\"],[0.6666666666666666,\"#ed7953\"],[0.7777777777777778,\"#fb9f3a\"],[0.8888888888888888,\"#fdca26\"],[1.0,\"#f0f921\"]],\"type\":\"heatmap\"}],\"histogram2dcontour\":[{\"colorbar\":{\"outlinewidth\":0,\"ticks\":\"\"},\"colorscale\":[[0.0,\"#0d0887\"],[0.1111111111111111,\"#46039f\"],[0.2222222222222222,\"#7201a8\"],[0.3333333333333333,\"#9c179e\"],[0.4444444444444444,\"#bd3786\"],[0.5555555555555556,\"#d8576b\"],[0.6666666666666666,\"#ed7953\"],[0.7777777777777778,\"#fb9f3a\"],[0.8888888888888888,\"#fdca26\"],[1.0,\"#f0f921\"]],\"type\":\"histogram2dcontour\"}],\"histogram2d\":[{\"colorbar\":{\"outlinewidth\":0,\"ticks\":\"\"},\"colorscale\":[[0.0,\"#0d0887\"],[0.1111111111111111,\"#46039f\"],[0.2222222222222222,\"#7201a8\"],[0.3333333333333333,\"#9c179e\"],[0.4444444444444444,\"#bd3786\"],[0.5555555555555556,\"#d8576b\"],[0.6666666666666666,\"#ed7953\"],[0.7777777777777778,\"#fb9f3a\"],[0.8888888888888888,\"#fdca26\"],[1.0,\"#f0f921\"]],\"type\":\"histogram2d\"}],\"histogram\":[{\"marker\":{\"pattern\":{\"fillmode\":\"overlay\",\"size\":10,\"solidity\":0.2}},\"type\":\"histogram\"}],\"mesh3d\":[{\"colorbar\":{\"outlinewidth\":0,\"ticks\":\"\"},\"type\":\"mesh3d\"}],\"parcoords\":[{\"line\":{\"colorbar\":{\"outlinewidth\":0,\"ticks\":\"\"}},\"type\":\"parcoords\"}],\"pie\":[{\"automargin\":true,\"type\":\"pie\"}],\"scatter3d\":[{\"line\":{\"colorbar\":{\"outlinewidth\":0,\"ticks\":\"\"}},\"marker\":{\"colorbar\":{\"outlinewidth\":0,\"ticks\":\"\"}},\"type\":\"scatter3d\"}],\"scattercarpet\":[{\"marker\":{\"colorbar\":{\"outlinewidth\":0,\"ticks\":\"\"}},\"type\":\"scattercarpet\"}],\"scattergeo\":[{\"marker\":{\"colorbar\":{\"outlinewidth\":0,\"ticks\":\"\"}},\"type\":\"scattergeo\"}],\"scattergl\":[{\"marker\":{\"colorbar\":{\"outlinewidth\":0,\"ticks\":\"\"}},\"type\":\"scattergl\"}],\"scattermapbox\":[{\"marker\":{\"colorbar\":{\"outlinewidth\":0,\"ticks\":\"\"}},\"type\":\"scattermapbox\"}],\"scatterpolargl\":[{\"marker\":{\"colorbar\":{\"outlinewidth\":0,\"ticks\":\"\"}},\"type\":\"scatterpolargl\"}],\"scatterpolar\":[{\"marker\":{\"colorbar\":{\"outlinewidth\":0,\"ticks\":\"\"}},\"type\":\"scatterpolar\"}],\"scatter\":[{\"fillpattern\":{\"fillmode\":\"overlay\",\"size\":10,\"solidity\":0.2},\"type\":\"scatter\"}],\"scatterternary\":[{\"marker\":{\"colorbar\":{\"outlinewidth\":0,\"ticks\":\"\"}},\"type\":\"scatterternary\"}],\"surface\":[{\"colorbar\":{\"outlinewidth\":0,\"ticks\":\"\"},\"colorscale\":[[0.0,\"#0d0887\"],[0.1111111111111111,\"#46039f\"],[0.2222222222222222,\"#7201a8\"],[0.3333333333333333,\"#9c179e\"],[0.4444444444444444,\"#bd3786\"],[0.5555555555555556,\"#d8576b\"],[0.6666666666666666,\"#ed7953\"],[0.7777777777777778,\"#fb9f3a\"],[0.8888888888888888,\"#fdca26\"],[1.0,\"#f0f921\"]],\"type\":\"surface\"}],\"table\":[{\"cells\":{\"fill\":{\"color\":\"#EBF0F8\"},\"line\":{\"color\":\"white\"}},\"header\":{\"fill\":{\"color\":\"#C8D4E3\"},\"line\":{\"color\":\"white\"}},\"type\":\"table\"}]},\"layout\":{\"annotationdefaults\":{\"arrowcolor\":\"#2a3f5f\",\"arrowhead\":0,\"arrowwidth\":1},\"autotypenumbers\":\"strict\",\"coloraxis\":{\"colorbar\":{\"outlinewidth\":0,\"ticks\":\"\"}},\"colorscale\":{\"diverging\":[[0,\"#8e0152\"],[0.1,\"#c51b7d\"],[0.2,\"#de77ae\"],[0.3,\"#f1b6da\"],[0.4,\"#fde0ef\"],[0.5,\"#f7f7f7\"],[0.6,\"#e6f5d0\"],[0.7,\"#b8e186\"],[0.8,\"#7fbc41\"],[0.9,\"#4d9221\"],[1,\"#276419\"]],\"sequential\":[[0.0,\"#0d0887\"],[0.1111111111111111,\"#46039f\"],[0.2222222222222222,\"#7201a8\"],[0.3333333333333333,\"#9c179e\"],[0.4444444444444444,\"#bd3786\"],[0.5555555555555556,\"#d8576b\"],[0.6666666666666666,\"#ed7953\"],[0.7777777777777778,\"#fb9f3a\"],[0.8888888888888888,\"#fdca26\"],[1.0,\"#f0f921\"]],\"sequentialminus\":[[0.0,\"#0d0887\"],[0.1111111111111111,\"#46039f\"],[0.2222222222222222,\"#7201a8\"],[0.3333333333333333,\"#9c179e\"],[0.4444444444444444,\"#bd3786\"],[0.5555555555555556,\"#d8576b\"],[0.6666666666666666,\"#ed7953\"],[0.7777777777777778,\"#fb9f3a\"],[0.8888888888888888,\"#fdca26\"],[1.0,\"#f0f921\"]]},\"colorway\":[\"#636efa\",\"#EF553B\",\"#00cc96\",\"#ab63fa\",\"#FFA15A\",\"#19d3f3\",\"#FF6692\",\"#B6E880\",\"#FF97FF\",\"#FECB52\"],\"font\":{\"color\":\"#2a3f5f\"},\"geo\":{\"bgcolor\":\"white\",\"lakecolor\":\"white\",\"landcolor\":\"white\",\"showlakes\":true,\"showland\":true,\"subunitcolor\":\"#C8D4E3\"},\"hoverlabel\":{\"align\":\"left\"},\"hovermode\":\"closest\",\"mapbox\":{\"style\":\"light\"},\"paper_bgcolor\":\"white\",\"plot_bgcolor\":\"white\",\"polar\":{\"angularaxis\":{\"gridcolor\":\"#EBF0F8\",\"linecolor\":\"#EBF0F8\",\"ticks\":\"\"},\"bgcolor\":\"white\",\"radialaxis\":{\"gridcolor\":\"#EBF0F8\",\"linecolor\":\"#EBF0F8\",\"ticks\":\"\"}},\"scene\":{\"xaxis\":{\"backgroundcolor\":\"white\",\"gridcolor\":\"#DFE8F3\",\"gridwidth\":2,\"linecolor\":\"#EBF0F8\",\"showbackground\":true,\"ticks\":\"\",\"zerolinecolor\":\"#EBF0F8\"},\"yaxis\":{\"backgroundcolor\":\"white\",\"gridcolor\":\"#DFE8F3\",\"gridwidth\":2,\"linecolor\":\"#EBF0F8\",\"showbackground\":true,\"ticks\":\"\",\"zerolinecolor\":\"#EBF0F8\"},\"zaxis\":{\"backgroundcolor\":\"white\",\"gridcolor\":\"#DFE8F3\",\"gridwidth\":2,\"linecolor\":\"#EBF0F8\",\"showbackground\":true,\"ticks\":\"\",\"zerolinecolor\":\"#EBF0F8\"}},\"shapedefaults\":{\"line\":{\"color\":\"#2a3f5f\"}},\"ternary\":{\"aaxis\":{\"gridcolor\":\"#DFE8F3\",\"linecolor\":\"#A2B1C6\",\"ticks\":\"\"},\"baxis\":{\"gridcolor\":\"#DFE8F3\",\"linecolor\":\"#A2B1C6\",\"ticks\":\"\"},\"bgcolor\":\"white\",\"caxis\":{\"gridcolor\":\"#DFE8F3\",\"linecolor\":\"#A2B1C6\",\"ticks\":\"\"}},\"title\":{\"x\":0.05},\"xaxis\":{\"automargin\":true,\"gridcolor\":\"#EBF0F8\",\"linecolor\":\"#EBF0F8\",\"ticks\":\"\",\"title\":{\"standoff\":15},\"zerolinecolor\":\"#EBF0F8\",\"zerolinewidth\":2},\"yaxis\":{\"automargin\":true,\"gridcolor\":\"#EBF0F8\",\"linecolor\":\"#EBF0F8\",\"ticks\":\"\",\"title\":{\"standoff\":15},\"zerolinecolor\":\"#EBF0F8\",\"zerolinewidth\":2}}},\"images\":[{\"layer\":\"below\",\"opacity\":1,\"sizex\":6.25,\"sizey\":0.0025,\"sizing\":\"stretch\",\"source\":\"data:image\\u002fpng;base64,iVBORw0KGgoAAAANSUhEUgAAArgAAAHYCAIAAAApvgy\\u002fAABywklEQVR4nO29e7QlVXXvv6ppEMMVxJsEJWJ3hKa7aTzgIyMO43DX9tFBnt002ppAun9GbxJDUAxNeO\\u002fayMPQRiFGR6JGu4V7fQANcoGoJO7auVySjN\\u002fVSIenwE0T7sBHSLDx51Wb4P79MfeZZ505a62qXY+9q+p8P4PR1K5TtWrVqtecc81HMBqNDAAAAABAEstm3QEAAAAA1BcICgAAAABwAkEBAAAAAE4gKAAAAADACQQFAAAAADiBoAAAAAAAJxAUAAAAAOAEggIAAAAAnEBQAAAAAIATCAoAAAAAcLJ81h0Ai3jJS17yqle96o477si4\\u002fcknn3z00Ud\\u002f5CMfmfRARx999Le\\u002f\\u002fe1J9yLWrVsn1tx\\u002f\\u002f\\u002f35mpqUV7\\u002f61d\\u002f4xjemc6xUfv3Xf\\u002f2xxx579NFH7ZVHHXXU+vXrP\\u002fGJT8yqV9k544wzHnjggQceeCD7LkcffbRYc+KJJ1577bWHH374k08+WWrv8rBy5co9e\\u002fZk33716tUPP\\u002fxw9u1\\u002f+7d\\u002f+x\\u002f\\u002f8R\\u002fFym9+85uTHjc7p59++oMPPvjggw\\u002fyms2bN4vH7e1vf3scxytXrvzMZz7j6clll132wAMP3HTTTakHXbNmDS+vXr36y1\\u002f+cs7eg7YAQaFefPe7351oe\\u002f3i9hMEAVX3WLVq1UQ72jzwwANRFOXevQjf\\u002fOY3Z3LcRB577LHHHnvsve99L4sFJDo89thjlR73t37rt4wxn\\u002fvc5wq2c\\u002fPNN09a6uWRRx458cQT7Zvn2muvPeWUU77zne9kb6Ss\\u002fmtWrlyZZTN+Cr797W9v27Zt+\\u002fbtGdt\\u002f5Stf+cpXvtIY8wd\\u002f8Afvete7aDn7cXNwyy23iGtEUsLb3\\u002f52XnPZZZfFcUzygacniRJh4rV4+OGHTz311NWrV9NyEATbtm275pprEpud9GpWd\\u002fVBhYxAnTDGnHjiibR8+eWXb968+fLLL+e\\u002fXnjhhaPRaOPGjbRgc+FiaOVFF120cePGiy66iH7SC3H79u2j0eh973sf7\\u002fvBD35w8+bNH\\u002fzgB0WDGzdudHXS1f\\u002fEvU4\\u002f\\u002ffSLL76Yf1522WX8L\\u002fWETpm6dO211\\u002fKW9rL\\u002f0Nu2bTv11FPtNRdccMGGDRsuuOACzxrimmuu0csXX3yx6LbmyCOPPPLII9evX293z16jryA1yC3TUfzdHqlRnZubm5ubc\\u002fXq3HPPpX9POukkWnPSSSfRSptNmzYZYy655BJXV0ej0VVXXXXVVVfZa4wx9p1DnHzyyfZ1Oeecc9761rfaG2zfvv2ss86iG0\\u002f33z6KuI7nnHNOYoMbNmzYsGGDPvctW7bQAg2g63IbY84880w6nfPOO++888475ZRT7G1owPVTxhhjPvaxj+njiidUPw7+lsVV2LhxozFGbLxu3bq3v\\u002f3tYsdut9vtdu2ejKx7gK7+pk2bNm3adOmll9K\\u002ftE3ivWSM2bZtG\\u002f8koYF\\u002fnn322SeccAL\\u002fFC2Iv45Go2uuuebMM8\\u002fkJ0tsLwaf3kKbN2\\u002fWgwNmCASFesGCwubNm40xmzdvXrdu3bp16\\u002fiva9asodfHmjVrRqPRSSedRO+CjRs3rlmzhmyG9Cdatjc+66yzjDH0lPKbndrnw9lNJb6nRo6vdeJeF198sTHm9NNPX7t27dq1a0ej0WWXXUYS6hlnnDEajVatWrVq1aoTTzyRxVZjDMsH9rLn0MaY1atXkwJELzjqyYYNG4wx9EXRa+zd+S1Gy7rbiZBMYHfJFhRcV3Dt2rWnn346LRDcgu6kHlWS9ubm5rZv3\\u002f6Od7zjHe94B+3Ly8aYVatWnXTSSawM0LKQFei4mzZtGo1GNJdk3wPvfOc7jz32WGPMpIKCMeaoo45661vfaoyhzzzddfyv3X9xFH0dubWjjjrKPgTf6vpOoC8lbUMjSTc\\u002fc+aZZ9pPgTHmlFNOIcscXwV+cDyysi0oiOPyQyf66W9ZXwXeXmzmERS4J\\u002fRk8W0wmhcN165dSwuXXnqpfS3E2dmCwrZt28T1PeGEE4wxZ599tmhB\\u002fJVHm\\u002f\\u002fV2x999NE0+Oeddx6tsZ8XUBMgKNQLFhSMMaxY8DI\\u002frhdeeCEts6Ag1o9GI\\u002fv9Yj\\u002fn9sIHP\\u002fhB8Z0bzesx3Ih+o5nFHHPMMa69jDGslNMyCQq05n3vex8vk6wwGo22bt16\\u002fPHHj0aja6+9NvFLINaceuqprIOy6sObXXDBBaRT6jXMmWeeSfol6Zqj0Yi+5fRXofHbHHnkkb\\u002f3e79H\\u002f45Go\\u002fXr169fv54FBf8VJCnEHpkLLrjA7qTnWpx11llnnXXWyBIORosFBdYjeV9xn4xGo0suuYT+evnll+t7gD7h+pSNYmQJCvRFpy15mRvfvn07fZ65\\u002f\\u002fZRXNeRbQkkedijpI0K9gebrrK9vThHWmB1lr5V9hM0SrrfeL1LUKA19oUzxpCdz9Ny4lUQuxDCQ4i+qUJQsC89L5N8QCvJujCyroU4O1tQ4P6ccMIJfH15mVtI\\u002fCsf8ZprrhFXn+Qz+isvs5AEagWiHurLpZdeSgvr1q0T7ktXXXVV4i5XX301vVyMMbt27aKvURAErkPcd9992jPRLPZmSsS+h7hviXvt2rXrmGOOOeaYY4wxtk+WmZ\\u002fwpmX23\\u002fzsZz\\u002f7rW99yxizY8eOrVu3+rthjHn44YdJBzWWb9qGDRuCICCl+eqrr05cw8zNzd1www3GmN27d5Pqc\\u002frpp1O3N23adPPNN\\u002fs7cOSRR37ta18zxnzta1\\u002f76le\\u002fav+Jr6B2QDPGUGeYhx56yMybGW699VZen3otNKSiZXRxvf\\u002f++xPvgVe84hWJ2wuLgv2nRx55xBhDuuwjjzzy6KOPfvjDH+a\\u002fnnfeeffee6\\u002frKInX0ShnGrp2QRCQrcVzXrSluNYaPihhXwVxgSZFdM\\u002ffsr4KJMQnYlsU7rvvPr3Bt7\\u002f9bbYl2LdBwTN69NFHH330Ubq+tOz\\u002fq+38sW3bNnH1yROCllevXs2+1V\\u002f4wheKdBJUAZwZ20MQBBdeeCHLEPQyPf3006+88kqPrJBIvhdK4l5kZieuuOKKXq+XpanrrrvuW9\\u002f6lvYwz8gtt9xijNm4ceOHPvShW2+99cEHH9RreONt27adf\\u002f7527dvv+GGG+jLd8UVV1xxxRWXXHLJrl272PHNxVe\\u002f+tUgCN773vd6trnvvvvIxp4KWcttCr7cpwx9J2j5uuuuswWFshiNRhdeeOFDDz30oQ99yGQQBXJA9oCCJF647C1feumlF110UfFu2JC8PimnnXYaL5OpwLWl\\u002f6+gucCiUF9YpXDpfDZr167duHEjSwk0y75r164rr7ySlhM59thjWdO94oorSuh0EvTdvfLKK8nczaxaterOO++kZXtOfevWre9\\u002f\\u002f\\u002fuPP\\u002f74LI2vXr36tttuo+XbbruNFEQSjG655ZYLLriANDm9xubMM888\\u002f\\u002fzz5+bm6OcxxxxzySWXXHHFFeQoTt2mqZBEyKhA\\u002fgo2E11BUkCvvvpq+vLRVzAVVihz62G2vcqjxWaBDAnXXXfdddddR+ai8847j\\u002f\\u002f64Q9\\u002f2COwJl5HzcaNG9euXXv11Vffcssta9as0ZeyILt27TLGkH+lKVUK8bf8hS98oayrYIw5+uij2URHE0O5Of\\u002f882+77TZyUzjqqKMeffTRj33sYx\\u002f72Me0RUH\\u002flfZiH2px9cUVnzSAC0wTWBRqyuWXX37ZZZd98YtfvP\\u002f++zdv3sxG7EQuuuiihx566KGHHuJHcTQaXXXVVUEQsP2TzOnGmOOOO45tgJdccsl9990XBAF9LbK\\u002focQz79K5L7744iuvvHLXrl0PPvjg2rVrhUXh2muvvfPOO4MgEOblz372s555B\\u002fvQ7373u7\\u002f85S8HQWCfuDFmzZo1dO4PPfQQe7SJNTbXX3\\u002f9DTfcQPMOxhgyw9jdvvbaa88999z3v\\u002f\\u002f9iV0iQUG8N+0ruG7dOv8VNMZcffXVdAWpkzS57uL666+fm5v7\\u002fOc\\u002fHwQBWe8zWiw0l1566f3338\\u002f3AE2WeyA5gH+eeOKJy5aN9Q26muJa0Bdibm5u9+7dbIum\\u002ftvNJl5HzS233EKb0SiJyazs2E+BYOPGjdw+T+SVgr\\u002flzZs3Z78Kfj7ykY\\u002fcfvvt+slKhK6FLdIZY7Zv384Xi2Mj\\u002f+qv\\u002fmrVqlX6GlELiX+95pprzj\\u002f\\u002f\\u002fBtuuGH37t0cYEnb33bbbVmuOKgFFfo\\u002fgMKIcLVSEB7OhIiNLBdPkOH73vc+mvO2HRtH3gjMRLZt2ybcr7TTol7jxx8bmZEcVzBLJ+2LeMUVV0x6iETKutnOOeccinewEXdd4k04SrqOiUx6KTV2TGwintjIgvhbLusqcJCL7diYiOtauDj77LMpoiGxBf3XkRpte3sKT52oA2D6pMy\\u002fAlApQRBQAp8777xz1apVd9xxx3XXXbdjx47jjz\\u002f+s5\\u002f97Kx7B0BTCYLgpJNOOvroo2+\\u002f\\u002fXb6d9Y9Ag0GPgpglpCcSvPZPKsKKQGAgozmU0+efPLJkBJAQWBRAAAAAIATWBQAAAAA4ASCAgAAAACcQFAAAAAAgBMICgAAAABwAkEBAAAAAE4gKAAAAADACQQFAAAAADiBoAAAAAAAJxAUAAAAAOAEggIAAAAAnEBQAAAAAIATCAoAAAAAcAJBAQAAAABOICgAAAAAwAkEBQAAAAA4gaAAAAAAACcQFAAAAADgBIICAAAAAJwsr\\u002foAURQZY8IwDMPQs00cx2EY0sZMHMdxHCfu7toFAAAAACVSoUUhjuMgCOhj3+12XV\\u002f0MAz7\\u002fb4xpt\\u002fvB0HA66Mo6na7vDtJDNxs4i4AAAAAKJlRZRhjOp0OLfd6vcRjDQYDY8xgMOBder2eXrZ373Q63Kw4CgAAAADKpVpBgSUA\\u002fZPodDq2AMECAQkQia3ZAsTILYIAAAAAoDhVTT2wb4FeaTMcDklWIHh7vSUzGo3sWYx+v2+3AAAAAIASqdyZ0Sbx8+9xctS7i43pp90sXBaycPBHvmWMeeYDx5fbYLltglnxn6P7jTH77f4x\\u002ffz+rtfMtDsAlA\\u002fd5MaYf4vW0cIvnv6\\u002faKGUG340Ghlj9u07pHhTHp73vGfoQFWzbOXKlUEQBEGQ\\u002fYOdmxIPEUURyQR6mGZromkEpQ8UBr9N4IECrUff3iXe8GV95urD8scff3zLli179uwZDofTP3yn03GZGSiuQaykBRIRBoPBFISbVrL33ONq3mA+DvnovbRQk\\u002f40lKd6x8y6C4U49N2PGmMOeHqvWP+9m189w6ZADuiJruJx1jc5rqmHBaU8CIItW7bs2LGjtKaDwP6Wi59EFEX9fp9FsDAMh8PhaDSikEjenn7SZryN66CtFOhAuUCkqCc\\u002f33+AFnjig8F7vOYctukbtOC6Up6L69+xcfBnqD1TD9V5AnY6nW63S8ucdol\\u002fkiGB1rNRYTgcUhQDbclOi1EUcT9pm3gxFZ0CAAAAsMQZWxH8anr+1i3XQmEe4J9kVKBtxEyEvTv1jfbVB+KeN9SioGXt1gjXAKSyBO9\\u002frX\\u002fTNIeZn+lo\\u002fQi0mPZZFJbv2LFj69atIkyxLGgSwSx2YwzD0D63KIo4H3Pq7mJfAAAAAFRKI\\u002fVvDw21KIDZApeFUshtGBDKtI2rhZfdejst\\u002fPT6lyTuUoWVoumWDx7npz99VOKf9HqQg\\u002fZZFJZt3bp15cqVK1eunMLBAAAAANAsFqUnaoEu7km41IKzy0Kq7zHD6gUDfQKUQkMtNPzs7Dt0rAjSE5H9mQKl0ND7h2mhRcHM55cwxmzdunUKh6yapZMEAwAAAKiaYMWKFXv27DEV5FGYCUvQRwHqjobGxDMgGDQPJWa5EVYrmKyWAuTJwRmNqnjW2FlEHMVzCNErhrv33NzzRZtig+z9b6FFAd4JAAAAAHARjEajrVu37ty507RiFn8JWhSaTs3nI4WjeylaEbXZUM950EqmYAbITeO8qVpoUaD\\u002fdTodfF8BAAAAIGib\\u002fg2LAqgJjVODZohrytlk0GirsEiJ\\u002ftRKvQb1p4UWBaoxDU8FAAAAAGgCrjHN4Q+NBhaF5lJdSVlQWxrqrqFTHJaY2bD0B2G2bkBNT2eZgxZaFHbs2BHH8Wg0evzxx9uRRwEAAAAAZbGgf7cmj4LrTw21NBRXL2oeVgAAAG2CLQrPfueISg90wOH\\u002fZzrftYBzMu7cubOhn1KbmUw9NMXXyVMSBrhoqJhVc3tvFUGnYOmQmiVptsxWUKCCzInbR1EUhqEu1JzKsjAMV65cuXPnzhUrVkzeTwAAAADUgjiO+\\u002f1+HMcT\\u002fSmV5cPh0BjT6XTy7d9ictgJipsWdJxY9pZd7lS879OOfZtiEclNEfW6WYYEvpRmXtOq5zUtUf97\\u002fmfGp3zgPWPHMapVzSdeE5sQXRqPBiz6WSRktPVgBDRxHEdRRB\\u002f0RLrdbu7Gl7dgugEAAABY4tC0Qr\\u002ffT\\u002fxTp9PJ3fJ4KmX9+vV33XVXC4SGIj4KqWVFAFiC5LDHVFcLKkdnau6uoalzNuUp09CQ6dn6KARBMBgMbEeEKIr6\\u002ff5oNCJJwuXB4GF5sX4CAAAAoCgHHP5\\u002fKmq53+8PBoMiLUBQWCC3wL6URX7QenL4E1QXVpOjM7Xyh8+C6PBSfquUnnWqzsaJfU++dNJdssgWQRD0er0ckQ42EBQAAACAFkIxCnEck6AwHA6Hw2Ecx5PGLrRQUHDlXKrOA6PmIr\\u002fLfbrm3W46bGfad+gib3yDkQdg6tTZllAdYRj2ej3+ORwOO51ODuvC8he\\u002f+MVl9qsGtMAlEwAAACiO7bpIpoVCzoyHHXZYGb1aQuhEh7VyVtDO3q4NGjeJ2wgqvQeaktmQ+0noW5HNLQRyhk4Hztmw\\u002fzP708IUCmoXSRIDZsvy7373u7PuAwAAAABKwGNTz51WsZzKCGTK8CeRjqIo0e7BjhWJuyfmpnY1ZUqt9dAaOTc1M11NUteBeiKSIhi33o8bCQAz6zwKVbCs4P5xHAdBQB\\u002f7brfrmvzgdFH9ft92NoyiqNvt8u5a3tG5qYMgsJtC5mkAAACgOorq30EQcJ0ITv8ktiEhgHNFUVgniRT2stg9DENKW80b6G3so\\u002fOagmdUxJDQGiPEDIFWOmXYYMBBGcR07uE6ZCFMrarQuHuycR1uGbAoJGB\\u002fxU3SLAhPTNDPXq9HJgEWLxJ3F3EdifR6PU8NDAAAAAAUpJD+TaYCuwXbQmCvtPV+3ktbIHSSat0gtUZuCv1+X\\u002f+1ieGRCEAAoEEgN0ndmHT8K33lts+iUH7CpUSngewZHjiHlAsySFDFTJIYxAauhEseZi5bQD6YCHrIm1LjB8yW4nZ43YJ+YF03YVMCWUtkJtNJkzbO3as0aHPZvx6SvlEhqioPIVgWBMG6detyZGBwUTCntB+yIgwGg9FoNBgMhsOhPtxocqrrMAAAANBogl6vd+ONNz7wwAPGmLe97W1f+tKXsu+cceqBvuV66iFxd\\u002f\\u002fUg6spe3t8+F1MQbmBF9XSAdcagET4M\\u002fTc7mMrPdDy4+6fkjPjAw88QFKCMebGG28kA0PGncVn214p1tguhzqPgr3gN0gkmhAAAAAAUBGBWWxIcIU4uiAhgLYX+9q5kmxTgQiPZD\\u002fHRLFDWBQSQyhhUcgIz7o9N\\u002fd8M4ljhNhxon2nQBWT0AAAYJP9LdE+i8JycZgoim688cbs+1PCJfYfHAwGvL7f79shkeR+aBZ7II5GI3v31HOmYAfbXZGPCAAAAIDSKUf\\u002fzjJrYNwRDRl3z7ILLApZEG7JJYKUUzVBlwSbSQoj4Q1TpFd1SM1UHNiulgIttCicdtpp\\u002fGP16tXXXHNNjlYyfuNdm+VwO4CnAgAAADAFElIObNu2LZ+4UAeablGYbT7dmlM8amMK+txsVfnGgZQYuWGbCpfq5pdGQ4exNc9O+ywKyyiRwKmnnrp69Wpa2L59+xQODAAAAID6s6B\\u002fsxDUaKXck5Zx0pNigZ1pqHjbGpo+vyum1bX16CevH2dKbegJVkp220OJVgq6ZKyy6\\u002fraDXWVyB7HJF6D+jRrMgK1SqHdQouC\\u002feP8888XC00E6RcBAACAshgLPmvWrHn44YdHo9Fpp5122223Nfez2mhzSD6armfPhKZk4H\\u002fZrbcbY354+xr6qTXa4lQ6MVxdfE2liPz\\u002fNVGaG4q2nPEw1soMUCLtsygsZ1v9tm3bjDG33XYbLQAAAAAABOTG2NwwB0EVFoXs+gQ0D01x3X22NbibYnuYIawyMmz5mInKSDa2xhnYYBpsDS20KHz5y1+ewmEAAAAA0ETaNqO\\u002fdHwUWhNz3FCK6H8NVXlnAjKLgMbRPotCcMYZZ\\u002fCPiao81JNaCQqYiagUPbwiBU0Vrn85aKhJOfXuLTIlVGLurP2f2V90Y5rzHakn0tCrrxFBpxxXCUVF0z5BYflNN900hcMAAAAAoInUSP8uhRITLhWhrWE\\u002f9QSzMExr9FcApkMVjwxbFH50z6+V1WYi\\u002f+nX7plSwqWtW7dO4TDTBAmXAAAAgLIIOp2OMWY4HG7ZsmXHjh2z7k9RKvVRKNHnQESUCUetUg4BigArRfsorjt6WiieN5qSaxlj\\u002fmXDycZ6RbCrTVvNRdrZZZreXZ7g3ty00KJgjInjeMWKFTt37pzC8QAAAADQIIJOpxPHsTEmCIIWGBVqFfUwEzzCOKIwAJgOLi25fY8ebG+adloUAAAAAAASGZe1DcPQGNN0c0JzKUUqH8+SujeApN9Wqphn9SBKPWW3VC0dPVvnlij9HEXWEKMyZ1dxUE2JidVdZwRT6MxZPhwOKaRwy5Yts+4MAAAAAOpFsGLFipUrV5KbQgso4qNATsUH3v0f9LNxc\\u002fzUPa1eFGzQWFnYKi3L1IjExq6Mwqaud8UU0M9F9jLNrmABj7o8faYTbtCa2ta5DU6toX0+Csv37NkzhcMAAAAAoIkEL33pS\\u002fnHE088McOulEJNMjOWTrmuxY3Q3UH70D4KZKHxWAuEPlpb9RRqdInkGD3aZTq2z1RaaFGwBYV20GiBAAAAAKgVbcs6gDwKenKXZ9ObrtxknyquzmTS9KjxKfe\\u002feL5CoBHWC6ahZowp+0JNgfZZFJBHAQAAAABOytG\\u002foygyxoRhSPkYXNvEcRyGIW3MxHFMMReJu0dRpNd7diluUdAp1tvK0kkmXwU1GSuRQaGeN+2U0zxMk5rcBqWTel5NN60VQbvaEGwa+f6u18zQohBFkfjIGvf3NyNFnRnjOO52u1xZqtfrJfYjDMPhcNjpdIbDobHcCKIo6vf7vPtgMNAfftGmf5fWTD20JlaqOMVfSVW8zafzooTpHixlRD4ujxZXq8xdM5x6oC+y\\u002fiwaY\\u002fj7q7+zqSx7qUWOjpKUQCp+r9fr9\\u002ft6mziO6YsexzGdFX\\u002f4+\\u002f1+r9fj3bvdLu8VhmFiCEO\\u002f36em4jjudDr2LgAAAMAShAwG+oNIMsFoNKLvb76PZlH9OwgCWzwRP7mjw+FQWBGo391u1+6AvTsJEyRJsGDB+3r60w6LwpJlKZs0Na6gO4ZcVqvwV537yg20sPuEM2nh+Z8ZH\\u002f3H71p0FF5\\u002f8B2LesUdm2bCLtO6WYCmUHz8W5PheyYWBZ6RJ13a\\u002fihP9A1NZDkvvfjFL\\u002f7ud7870c7sKCBWijU06cA\\u002fwzAkw4M\\u002fHSQLCqJxNmCYNK8IAAAAYCnAX0Px0dRzEzkaHwsK69ev\\u002f973vpevf4LEfmT\\u002fnGs5w4amWNgrQtgbCE\\u002fOJRcZxSuXD0vjEHJ6FQ4QudWLpo9tKSyMXm\\u002fR6LkuEM\\u002fdapND7mv6xE2vHbf5qXlDgqOpBQPDu\\u002fIdyoewMHlOZ9I7zaW\\u002f+o8CXBQ35OSopDXpe2bKBst\\u002f2\\u002ffC7Buv6N5ZWUfGkHV\\u002fMBhMuuPy9E0m70rpbQrELIYQFDD1AAAAoFk8Pjhx0l2yyxb0rTS5PBlNFYKChiYL9HqegxAr\\u002fU3pFvxGiBKpp7LrKlP0k9fLi8tCtxCiq5CpubaWOXeyHfl09jtiHy2UOOwziX3NocRMqpzx6ehjMZMmocoxRPpWzH1rWU3JEymLKVSCzgLrxPs\\u002fsz8tpNpOiCxlponmGkhEhm9tMNs74alV8Q6vv6WZDAmumMQsFEq4RJ9nIQTobzb1kn\\u002fqPAr2gv+Tn\\u002fhXuCkAAAAAmiiKKJggt5RgOOph\\u002ffr1d911Vw6jvR3RINwp7VxJdjiD7YQZBAHbGxLFDp1HwW5KxFOY5kc9uLSEmsyeluhYDh91MBGousQstaJuHpW9nrcBf4b+JT6p0gOt6N6pv3c6FLHT6QgpYVLtevn69euNMbk9GeM4DoKA\\u002fQfZSyKO436\\u002fz72xcyTYnR6NRvbuWb7xIt1Co8UCAAAAoFKGw6HInTDpd3NRgEDuj26WWQPjjmjIuHuWXZpuUUid5a1Cgq60KAuf0c\\u002fW\\u002fchYvguu\\u002fnssDdnPPbvKJbas1M5RT+1n6SAUU77WqfdkljYzOhYAm0lNI43LzDgTi0IVLC\\u002flMBm\\u002f8a7NcjgZwC8BAAAAmALN1r81TbcoAI325KeADo8istQmcRvHFEqZND3FZ3Zf+kotVS4bm1buXd1I7V6qC0J1VVRMNbdH+ywKKDMNAAAAACdt0789aRnrfKaeOrypMnVT6mLTiUwn7X8jmHJNyxKtLC+79XZjzA9vX0M\\u002fyfukrMZzU8+Cq1PoVWpChSLHqueoFqfS0uftsyhMI+HSlKmzQAAAAAA0ixZaFKo7I6G7lyhcl5iiP\\u002ftRtP6RSqoSXHzmL8uoipB61wY\\u002fOmLcB1HtEFRN6n2ib3iicXqqCFOqon5Ka2oqMtW5pPBrhy2X4kVUqSGBaZ9FITjjjDP4x4033jiFQ1bKbJ0Zp2mXm45s0VDEW6P1IzPl7FWl5z6qov8uWcTM97NuVvTsg0Dj\\u002f+zBz9JPDu\\u002fkrO0zmQOqbpLCEzSe3VOS0KnNq7j67RMUlt90001TOAwAAAAAmgimHmqBq7CTqY26A5pu750h+vYWlmHt4lo3dZ9A3vEiZJ+XdAVM1vOu0LTPooDwSAAAAAA4aaT+7aGhFgUGKksWSoz0c3kz5L4Qnlg1sU3NtSINbs6G4nKHNOomrDRkd5r5lGZL+ywKy9\\u002f2trfxjxY4MwIAAACgRMopClUfZpJwqVkpj0xdRXiEKgAPKDNdT9oXvTkpegTYonDvXb9R6aGPX\\u002f\\u002f5JhWFqhXtOyMAAABgVgRbtmzZsWPHrLtRGtNMuESJbI0xP73+JbTQLCFal9llmnUimqVWFKrpBZA8iHQIpZwXPcjl2v+EPazElAbTUdmX2iNTKe2zKCzbuXNnEAQrV66cwsEAAAAA0CyC0Wi0devWnTt3mlYY7Zse9aAR2gMrWK2prlRizLTIz1pzlxGgye6fD7KTfQw9ORBFU4xuswqDTUaK3D9zX7lhvOWn1hrvCza1zRZaFIwxO3bsoINt3bp1CocEAAAAQFNY0L+DoA3+Co2zKGSsZVIKLDLvPuHMstosnUpjAVLn8j1Hzz2JW8UZIWJiOlQXalFFdSJXDg\\u002fd7UqdWujm3P+Z\\u002fenndIxDqTUdeEyISg0e7bQomHlbQtOlBAAAAACUS9DpdPbs2fP44493Op04jmfdn6JUYVEoMU1CU6rr1jMSelIXhBxqd45dhHJW6aBV6gAPK0U9aV+igk13\\u002fSkt3P3nv2ZmdCKet3rx4W2hRWE4HBpjtmzZ0gIpAQAAAADl0rAZ\\u002fVRmkplxtrgUwSLTkFUEr5dIbncB12TtdCJHiqvsLc6XUE+QXQAw2Z++9lkUgrm5Of5x7733TuGQldI4Z8ZaUfxL1j7z9TTPSDujUZRaiTMLrbkuM8E1dWisDEsEJzGbgiSXIybQU6jJTxaHRJfwncOZUTSlc8RNOrzTqdnWPkFh+e7du6dwGAAAAAA0kbbp31VYFHJH9TQ9VwzL78vuP0j8KdWR0JUYqiYmh2l6IKZSkzEB7YPu82cPfpZ+TtPOUSKeNFD1fMe2z6KwjJd+6Zd+acOGDflaiaIoiiK\\u002fO2QURWEYRlEk1sdx7Nnd0yztmKe7AAAAAMhGcPjhh9PSk08+edppp916660T7R\\u002fHcbfb7XQ6xpjhcNjr9RI\\u002f3mEYDofDTqdDQRYsBEVR1O\\u002f3effBYBCG4aL+BYGrTfJbFPJUU3wUGqFE6k6y\\u002fC5q3nB9rH\\u002fZcLK\\u002fzSryzJRIpd6CwsrS3Nzbz\\u002f\\u002fMN4wxB98x\\u002fumZ7s1Nai7hEhG5eowxzz1xAC1kt5zRE8G2t+LdTvU8qFSZdo2\\u002fJ3eT8CSYsvWCOqbzLud+6LK8qVx+P222KPzKr\\u002fzKpFKCMYakhDiO4zju9Xr9fl9vE8cxCQFxHNNZ8Ye\\u002f3+\\u002f3ej3evdvt8l5hGHpCGIQ8AQAAAIAqKKp\\u002fB0FgmwHET4LMCcKKMBqNyBphd8DenYQJkiSERYHtEHaz3EJ1PgpMrebDUqmJEl+iL7SLVDuNNhiQIqi3d5kWajKYwINIi86Iie0ihpAcFsHUkOPZxiSnJqvOuIGZpLpbdRmyNVN4\\u002fzBttiiEYThpUSjyHhBigXYpoEkH+0CuLW3IcSHxoCRnwKgAAAAAVM3ylStX0tLjjz\\u002fOy0VI\\u002fPxn\\u002f6jHcezfuNvt9no9zwaeCQsXfqEsu+ZRok5QYpHlmqi8rtlBEYBehFT1LvsMJW\\u002fJehJNzP\\u002f407UwJtXc3WG29b5TR4MGbT+zT6zP7mqTw7XIZbtixJM+5eRaYtD0sSbdwLNlaptV3N7USBWjym1ydAnzL8v+U8HGa8L4HU21HkopClWpoh+GYafT8Qc7NMKZEQAAAGgEy8Mw3LFjx9atW3fu3FnRMVzlpsIw1M6PfjmDgiZoG16mwMtSuppIdn2oRJE\\u002fR1OinzVP98vdO3D32DvanJuy5TRPRB\\u002f0x72Ug1ZRqodU8\\u002f2OGOu+C974i4+i7U\\u002faa11sUCk1MWK5cGmobEjwZGAkcgzjpEYIVk+fclxTj4e\\u002fyziRI3XjTB66p5RpoaxeVWF7020GHyj9IDNm2Z49e8x8gelJfRTo8yyEAP3NJmdG\\u002finsAbx7oseDoNfr9Xq9MAzJtEDbw1kBAAAAqIiFVARBEGzZsmXS2Qc7ooHDGehPpOjTV9wOZ7BTIwRBwPaGRLHDk0dBHI63b9bUQ3UZ+F06pamZaaEKUNfAhSc3RhUFJkpkUg\\u002f5UlKVTNNVvni20BzJJ4TKrv2x6pn6UFOrR54\\u002fQ\\u002f\\u002f9b\\u002f5LpQc69c2fmlKtB2N5\\u002f+XwUYjjOAgCbmEwGPD6fr\\u002fPur6dI8F2MhiNRvbuzfrGAwAAAK0n2LJlCyv0uZ0Zs8waGHdEQ8bds1CiRYHFc9eEq6cCG+2bXa6vuT+B1ip4zWHvedAYs\\u002fuEM+ln7qp0TOqwZ6EKdwGiJik1c3ejlDttJmYw4QDvShKa41jMbF0rUkNFSrz3dBlGsiU0zpDApObGoA1y3y0T0UKLwjQjHVybwckAAAAAqCcL+nfjZvcTKX4WOUTp4tJ3lirpbaVWhRxBFia1KEzHDDPpUXLEAsyEmlg+aHh1MQtmCsU4dHYTV4GJKfTKuP1mvr\\u002frNTO0KCTmKqTyirkjBFsoKLj+NOnZZbei58jxPIX6Lvq9OembtCZvKCa1\\u002f2KDuk3o8HhSuGOO71OJX9zsn8nU7unZouxnNM0kvkxGM3XV3ZgUccnq2UmGs1f99PqXiD9N6mJZyglm90stPrM2w6kHKowgCinQZ5GKHriyFfhZNmlIZP0ZOZh1vwAAAIBKIBdAu7AiQdYFKq40Go2Gw2EOQWEsaFDwQgu+pq6zmLL07ZKIS\\u002fHUmwLZZWpXdddKEVV\\u002filzT4tpDdi2\\u002fikkWPnrGPixlmqKRC1dopm79nD4eK29G\\u002f+XpzDfNxKJARZiNMf1+X1RqtK0IiWkIUlm2ZcuW4XBYSpUHAAAAAEwfSlKcmHPInoYQ+Q8zMo56qC5\\u002fc03wSIup7gIuT0PPFLjrcDUxJJRYs6fSdDcuSrRbFO9e9hZ0Ul4X2W0P2QtqZ1eYSjTYUFN84uxrNhPlOLWsEZPD9kNT8joJdO5c7KIwkk2qGU9EP055tKl82oH3lJ+7yfPgZ3Ss0S3Ux05z6ps\\u002fNesuOFlujNmxYweVe5h1ZwAAAIClyG1\\u002f\\u002fZ5Jd5mabLFQ4beUhAptIlX+rYkvvSCLKplqQihRz86tRkwnZLRE7TmV7KPKxZ\\u002f2Mz9O3CB1VIsYXWg0eNizHzS1G4fdPW5BJFYqZdhLtJPlGD2yJeg0UIzL696FHpOFRzutkwt3mqPQWnE875kfv+vVxpiff+IBsYu20Vb3uOmWsydhm\\u002fRKLQWW2\\u002fGELXBmBAAAAAAh4iHjOKZ6ihPRhkgHm3bEbkyH6aQZcDkrpGoVObJT5O5VEY8KMYw8c6xHVcw68wZTjhnJzTRLV6fenHNfuWG8\\u002flNraSE1O2\\u002f2qyysWdlzsZeCsHKlnlcpnvyTHjS1qZqnscqOp9SWyPLE62ebwtkuwWgWZ1ZIzLKQBWkfAwAAAEA7CMPQLsrY6\\u002fVyJGdclMewBbp49syMOfLQsUZCeUxLmTIncbXE2fccZZmKRyh4WnCNZ5HyUSXORmc8hHH7onP\\u002fc\\u002feqeA7NiRovHX0Izsr3w9vXmPlMlKaubj11IzUvoUj+UWkdtWlWQXO9E7S7EiNCKlIz1mQxbxT3W2KLwscHH5h034k4+40fzf7VdhVlzMLy1772tfn2rC0tEHcAAACAEilSfLFtM\\u002frT9FGYztzbpOKtntpnMfwFJz9EC6TnpeofrEzs\\u002f8z+tFBEys54Ipvu+lNauPkt50x6CBfT1IpYlfnJ68YzmuQEDvIxE8cIUWpI3\\u002f+5uzHb+iM5vBlc2jy\\u002fPVxt1s1o5DL4pUZXZd9A+yjUyqJQhGVTOAYAAAAAGgosCpJKne1z4JqwzN7PIt4AGcliBnApZ0X8q\\u002f1ox3hXbHpNUgfmxmP7KXF4c5jQipfScOEpbTrpQVO1fD7xZ04ar+G0g0zuhBCpE\\u002fPPO+s7tMBpHwk9AsXLQ+QuXJLlWDW3PXD36G3gMaOmPgjtsyggjwIAAAAAnAS2M+Pf\\u002fd3fzbArpVCpj0J2jSp7bi9hGOBpsCnMyHogr3VyZTBKVzMq8eJh73mQfu4+4cypdXK2072pZO\\u002feNF0opkPuM9LO6kKbL+Lwoa8IwQ8dR2dwZsyaFGdJRJ9OcesRt8mIofBM2Dc9X0KJtM+igKkHSd1u91Q7ao6oPFebrfli0VRIDnfImo+Ax96eEZeoZ6xXP7lhHvSEM3NUql9q9mEU4cGpT5\\u002fHHU98Jj1bioRX2Z90Hv+frfuRfayaoD\\u002fzQiRKTe2Vo45z6tTJpBNVJtfEB929OhCXodujeGp5D9zm93e9pmWCwrIgCFauXImKUAAAAADQBJ1OZ8+ePY8\\u002f\\u002frjICN1QciRcEmQXMCu1Pbiq5nAqm\\u002f9778tpgR3xhBjOLbgMqqm+fqJYrUly5yFBfjoW2uzFc11WlmnOVmQ\\u002fVnY7ARXwNZa6L9S4VK9S7lUR6\\u002fqk3oKeXommaj6dVBNSx5+fFCLLlXLNlrrecsWNW0zNzXiaVPfw9k09LCfhYOvWrTt37pzC8aZAyyZTAAAAgBmyMKMfBMGWLVuaXmy6NUWhcqdl1ZYSnrutIvZv0pKsqcmeRcGVxC0z9qo1WmkOPfveu36DFtb\\u002f+R9m3KUReIZC6HmzdTZypfouxWSSveoSvUZ0NSNPJnLClVacstebSRIWufqvDzqFS6bHX49A8aDN9lkUkHAJAAAAAE6C0WjE8w4t0MVbY1Fgsou3xZPbsNfC4w++whSzQOgUQC49L4floLo0PhkPPaujp8IKU+d1f00LX\\u002f\\u002fiibSgs\\u002fEQrpiFUvJ2N4IsibnqQPZ7j7e8Ye7jxphT3vRJ+pndTplqckg9+qSPs7HMFbMNDs8NP33\\u002fFq1rmUVhnHBpxYoVe\\u002fbsyd1KFEXGmDAMPWUnoiii6lW0MRPHMflJJO4eRZFez035jwgAAACAghT1S4jjuNvtdjodY8xwOOz1ekIOIMIwHA6HnU5nOBway3QRRVG\\u002f3+fdB4OB+PAHQSDaJMnGdcQSLQoe19ZJg79Tj1IkuXJqHgWtRpDzvPacd6ksqc72pfRT4In4Jy2H\\u002ffb1FCyRPSONTpf70+tfkthmaofZDCPSEpgMyYIq9fkv7rfhqfZLuC5Ea0hNNzTNE9flsrQLgkge4KF0K50rvZVx15cqXhtav5e4Gz864scm6RmswjGihT4KBb0XSUogq0Cv1+v3+3qbOI5JCIjjmM6KP+39fr\\u002fX6\\u002fHu3W6X9wrDUMc60o6j0ch\\u002fRAAAAACUwqIvcQ7ZJAgC2wwgfhJkThBWBPrYd7td+6D27iQTkCTBggX9ifM9UAuiAxnPInt91ZqrR0J74KllhkRpM3n6W4+CmzpdqkfP5YCdii7Jc\\u002fAdxiTptdkjRKpwNRAq++t\\u002f93\\u002fSwl\\u002ff16EFMevPs7+pKQ5dESJmfhDap8q7Kj5rvxlX1uEcvvdVPPLCWafSYxVh0sSL2cmR7TF7U8WHsQozXvssCsvn5uZy78y+BWKlWEOTDvwzDEMyA\\u002fjzO7GgoI\\u002fo7wAAAAAAymL5vffem77VJCR+\\u002frN\\u002fy7Wc4YIsE71eT6z3JGdMJAiSTSlF5ErhxJCKJ7qX1vj0p3nFeu+5OTMuuBybPTpEqiKuRy+jo7XuTMKFeJe\\u002fpTGe5HGs3OfWabT+QR1mDXIhC+FbjH0sM+8JkcUNwjXO01RDtfVF2E48vcrtgqN3GR\\u002f9XLmlfmQy2hI4pel0lHtxRuwu48JlUzEZMpMylMiV61N7oh5crRWvTZ892yMj+snbP6W2n9QwqV8vxU\\u002fQwz+Pkr15GkfKzZqDKej3NONgjNHTHKYVQZ4AAABATShfUNC4qkjwHIRY6W+NDQmJ4RXF0b7ETHbpNXuY8nythGPE0c0T4\\u002f8\\u002fdXOylr+Qzn3dsxmPxcWgn\\u002fyHVxlj9lNtFscz95\\u002fqVl26Pscl\\u002flas\\u002fSdaOGzT+Jpq1SQjeqzEKesYDR7279185qJdXp+vCwlHrzSpg2489YbJniSRttSFJ1yz0boFVs1XrP0mLRzy0WeNNwuI7L+yUojuZZkRJ92drUTMXsedlnrJnDYVb4cFbEsgitdkKZJfgUm1poh+lvJmyF6PlMidG7eVFMrMKFwL7ZViDUVFEjqPgr3gFxTiOO73+4PBoCIpAQAAAAA2RbMO2BENHM5Af7JzJdnhDHZqhCAI2N6QKHaIPAp0uMFgIPpgb5\\u002f7jCadrtbqRYmTndmbErPmnu1FmzmStDMlRg0ITwI2A+TI7JajM5SVr8SUfFmKEbj8TrL7XYtL6QmpZya1PWTvlSdfBfmCsDdAjlyf2W\\u002fvSfEk6nD1n8kxjESRop2pVJo2lE7EE0LlemVptypxR+kdeRc98oQr+CW7P0QpphEX\\u002fBk67+vVRu\\u002f\\u002fyZui6Uy1l5CeyHYeZGlABC6SDEHbiJkIe3fdGSEoJDoqigDLssIji5ueikcW5aAKi1mlD5WL3KmdJ9pFoN9Q2eM\\u002fJz1KFrEg98yCK2hQk+M+yW6Qrw4dNHvgPcnyrqi5bCYfT1dJepuMlu0sY0VVuYf3vJl+5gjbyy1dpd7\\u002fqbNIpkBRruzFolzCh0fnER6sfF6uuebU5E7cT93C93e9pmWCQgk+CpQRwSzW7MMwtE8giiLOu5xld\\u002fuvnp8AAAAAqJS2lVCaSVEorcRPM59rdfqcVtDJY8sY88Pb19BCjuoyRJH0Jhn17BwGhiL2drEl6YXGSrjElJ7lKUtOLbp22S9ciWiVix08n7jptcaY\\u002fY7YRz9TTcc87FXY8PUNI7KEFa\\u002fYnj1lUPEy6yaDRUEUxPJo5Nnfadm3pOHl2cbso+qyMeQIxUydgfXYM1zD276pB5SZBgAAAICTFloUXH8SZ6rnOFMzHOd2Bsyu9Bf3MMhSM3fS+kya6lzMPGQvf0V1mHjSmhVWnZzHVSqmeGLX1BZy5KPVt9wLTn7IFLMTiEEz86W\\u002fcqjslRa1qo7sF0JPjfMuIsdaEQ+bSXcsEe2j4CoTzzah3SeMg361KyiRPQG5TmpOFLmLintOZIcfpR\\u002f85aqWWRSmkUdhyrRM9AEAAABmSAstCjM8o+xhDqmutq4kpix0s8InZvg8dZsmVVk8KZCrgGwhjzw5NoSwlp\\u002faDe3WTrz52HH2joVsyvOUaBERSlju2WvjviuylI9K7IyxNEK6YfhuWXb\\u002fQeJYIso3uyHK5aPj6Wdx9LPGxdAzlvPW9gMeZx49HiXCNXNvVJyqa3D0BeJDvHHznbTw9S+emHgsF544z+xGLJcLEUMb5HAC0EcXhr0ibdYT+CgAAAAAYAkBi8IEFHcgyJHjKHvM\\u002faQFeHR0uLBGsHKsN2BSfelLnHmd1LUiSxoi\\u002fyH0UUrJ8J2bSjPqcEgL5f315BMjRdBTfJzZd8h\\u002fGEvF1\\u002fprbouOR42etPS21vKFWchzI5VY5pihMckRYZHjBcVmmAP2LjdefwKX9j+pIcdMkqSB1lARNZOtjlodgEUBAAAAAEuIFjozlkUV82TaBSEVmloWpaFstEYyaWc08xPbUpXRaty46swG51Em9fr2bO9S7l3zwTkMP6m7eNzas9t+cuManCyWBrqf2ZTFyjGvMWZsFqKryevZ0vCT1x9BC\\u002fs\\u002fk7d7aVlQKYjDqGpGCW3+8rhs2mGb\\u002fmO+e+O32b5D9hpjnnYruCL5xAEHLxf9P8QsMo147grxROewM7GOzg+yTDZ8d3peSFc\\u002fRTpCbZygCBfD960qN7Vww+xedGr8ejxwfoPD7ljUT08tLvHK8rxpZfKMQw8QuwhE7m2jvDGyZLh3VYF3GZYqtfPVBFgUAAAAAOBk6VoUUg0Gen12DTVVetWah8A1F667LWYNWbzVMrXYxiP\\u002fuhwdaiUyc3YERlwgT1i\\u002fy1ndo9EKg8GB8+sPvZ+v1KLpdp3QgtWd3IYBPqPDf3VcUpmi2FlTZO1T33sU+K6j3l13tbVebkCntrsnm9JlF+ga7e3JuBvh\\u002fvKC+Unof\\u002f13WaZZjIl14cYX6JB\\u002fzqrP8b6iyDiv50tp1iW34IkaeDqzJ4RowTKDJT90uiizKx2nfmk8+\\u002frFngfKYJDq0uS6PRJuMOWAJdbzLhyx9fHBB4wxzzvrjfST3R0OvsPYTf3kdeMz5RCUfUamSKE2956bYvvxvBN4nL+32Eqqrb\\u002fi3Gv1VqwIWBQAAAAA4KSFUQ+uP6WeqZjEndR+YFNibeiZIEwOHk03+5ZTQDhgZ+mMy7jiSnBZJPlgqlN6jkIGxQtR8kFZQ\\u002f2FFy2ao2W0f0PqQQlPtlCR0FD3SuvuAo8DjX0I464okT0lg0tp5sb1NHyJPiupZcpdCQlKeb2k3mni9tZ3u+uaeixtqbZPPgolCNE1IV1PkCf5B\\u002fWHAnaM5caRPYMqRz1wwZeK2LX+fYh6yMnIwaz7BQAAAFRFHMdRFIVhSAWZS6SFFoWCZ5TqS89opYGZVMvUuo6YrstR0521Uk9pPkF2ewBvSdkPh\\u002fe8WRzUFcXuKcWWPbMhDY6W9EVxy9Q8eh5cCRU8+S4nNaLQBK0x5pL\\u002f+l77EMa6+nSOukRFdj01e\\u002fIJMYmu72qh+fH2n339tbTw7k\\u002f8Di0I2wP\\u002f1EU3XGfBoyoySGrtU5cYoD9lz6KhW+CDUv0Ltit4cgYIhdtlctAb8BVhuwv5kejXjvDwyP5O4OdCe\\u002fKn1q8RhRj0jZc9jwKT\\u002fZERFpEidhoRACIylhrl88RvFVfiV25E2\\u002f9mYlGIoqjf73c6HWPMcDjsdDoligsQFCRZkpakWkHFBiXOLOhCz+L+9oRCMS4roniAtVE6+7tA91PYBlPRxYooJwzDJ6i9vQg+Fj+uOpezQHvbueyirvdjlny6Yvw9Hz\\u002fyQHzyH14l+imsoFqAYL9CRkic3H92PHQlxtaXLHsooEgC5hpe\\u002fsndFu5sunsaYdnW73c+ivjmcX0jnhlhRGJj4UOavTNGffNYLOCLy98buuH5bk\\u002fNeybESs9BUz2dPaXy6In+v\\u002fe+XPRWuBMat3SY3XSfSk0iEsXtrYtCTVNQCIKg1+tFUWSMieO42+0OBoMwDEs5UAunHgAAAIClBosFZckHzNINj3RZDjyuNwtW3MV2xewRRNlxicwLYXsb5C4im\\u002fL3bnZqYGR1eEp1j49FOgonotGGBJdX1+feeQ0t\\u002fPD282lh0iLFrOcdML9+P6Un0eBkH16qsmOMOfSLyQ5WbIZhD6a9yjhEsXOsRv\\u002fYER7GYZMciubJPEOwRqhvMCqRdcB89zSuqj8H36HMRXsXadgLmXYckbqsyH78+PEUyR\\u002fvHYex7XfEy40x3\\u002fu0NAhrG\\u002f6+IxZpw2zSf95Z4zBUCkXjqE42JDCpgcQLT0pv0ZPCJcF4XowTiKk5uPkT+Qdp2aZZlVPe9En6+aN73kMLh22StodJH\\u002fYFm8QJ8kTIlqAtgnx7CDuBZX0ZPzR8R5mTjLEukBgijcdF8YCnX2KszG8L13rdvD3MEd7JsJWRQ1szZp335H4WttvUuTlW8e\\u002f+819zHU4YnDxtip4vTD38pf+EKqHT6ZAVwRhDdoUSxYWlKygAAAAANWHX+vcV2T2O4yAIut0u\\u002fSSJoSyWro9C8Xky7S3l8vbK4UXoKjOtc9q4EhtrdCAQcdnZ\\u002f5UW2KuOziiHByV7M+jp0lRo1pbnifUsqcvbzuVjwT853a925hIz2R7HDrGlKEBsJrGdpCbw5mldGs\\u002fsriG66tLPHfe\\u002faYFsUR6\\u002fE+F1oR1xXv+7\\u002f5MWyEKjnQSzl9RybZCKfui026DL7VS4wrl2tCEl+I8O+Tr9vPzPflNsIO4Tzwm6qqPp6E3qHntOPHHTa2mBnXWy3w+E9gHkxtmwQd3IUoU8FeHC4imgJSwKup\\u002fChcUTEUp3L78VGR5\\u002fupRskc0R054KX+JnPnD8THwU2IGRHBvhowAAAAAAY4wh+YDDHNilsaz2Wzj14Mq5JCwNRfLkjGfTj5hv6tNSZKb56ezKtMaV04aFVlYvBKwT6Pg9hlTDR557Ef1kPenpmxedYJYAkHFB6t1jkX\\u002fVr85rKu+SbuGuvLOW5nemMeaQB3mmVh7L5aHtmoK13DvmFzYYsQv1fEFTeUZOt7NqLrbUpAbI8TCmJoHpvO6vaeGv7+uYbBeCSIo7GC8cdv03jDE\\u002fN58s+dl\\u002fHt++fKYH8z7vMsY68cffMp6YP\\u002fwfPkELBz6916iIAJPkTyBURpcDvG5Kx9nSNpQn21ilh5+79\\u002fliFxqu\\u002fY\\u002fY3zgQoYA6asYKTn6JMeb3b\\u002f4I\\u002fbz8z1LqM3kyR9HNqf052BdH+Hywrj9nZLoqukCeSGNB0otI3ic0zq8\\u002fdmw0uuzYv6eF497y32iBNHK2yXmiUegqP+\\u002fk8QVaiHSd38WyuxywaEflFnDg3YsqbmuTgwje0Z2xnp1FSdm1TaV4qBq\\u002fcIIPTLpr+ZQbHtlCiwISLgEAAFg60BQDGRKMMXEcD4dD\\u002flmcpeujkIqebsyeuSV7GhzhDeBKN6sVXFdqI92HBRdoPpG9y401DclGCJG1VIe\\u002fp1Yz4tlEns++84lfS2zT1UiOwGidEkBEcrP1hf3DhSdzarkmoyZB9c0g+u8q68WHcyWsTWyE0CE5rhTg+oYhj3E9Ye+6IqLqrlFJndmJZNXhY+WMUwL03\\u002fBpWiBjlc6OwLiiNlKTmHmSBxClhNoLi4hrVI07CZJIduTJmSHMKjqNjys5Eu+oPYRSE1sx1Bpfaz2XT\\u002fvqbNwMuzpRdAzfLdrZQqRe0I+SyD3lea+6Ur8w2VN7CU8IvnBcqEwX3yK0GWMmCZcodwL\\u002fiXMqlEILpx4AAACAJUUYhqPRiKYbSs+jsHQtCi4p1ZURNgupc8na1VaoEdkVqROPGKvsNI1t5rOtsYrDrv6sHAhzhSvzMaPPwlPdJzcuJVJPgnI\\u002fKT2cxziRWsBGRGazKcXjNe0qf7Vi7T\\u002fRgkv70aYF0rA59R6nyXPFcaTaHjxu7ZSJwbjrG\\u002fEdmF0jT7X9iCAdVnB12lA6ur6Urpo9nmy+4kR0xLwwjWhN15XzO8tNLuob8QmKXMjazsdWFtE9T7AAwY9Dqie\\u002fTnLKN0OqEVS8HK74zbGfCjs2LeTMmH+IRB4IbZFyHUsYEhjPO9n1TnPhOV9hY8sRFjfbqIdKmZJFgfM\\u002feCSdKIriOA7DUBhM4jhmKUnvTjUwShegAAAAAGCmYFGgiROuVOGaOAnDkOpYDIdDY0UoiEIXOjDUTnBtSvVRYFx+Ay75NwtiYkyXYEkV8PXMWUbtM3W9mT\\u002flF5w8Tp+3kA5SIeoz8Swp60niRDw2iewVq0lO17nVhBFCW0q0ccI1c8yIHJTsz+HKuOCpj8yqFaEtPVmqJwiyl5kW6LT\\u002fkzaSJbcHXan\\u002f90fjAgF8IUTqEa0g6qAeUati0sJC+rz0+iJuDa76HcJ2wngqiU96TbOYFgjtgsC4qkKk2n5ceB4E14XQviwuvyvG9exoeySdEd\\u002ftjDbiimPpvJDi2dfdQ5npiSEpgawCvV6v3+\\u002frbchFczAYxHFMp80f\\u002fn6\\u002f3+v1eHfbWSMMQ1ckJAAAAABKoXKLQhAEthlA\\u002fCTInCCsCOSX0e127R7au5MwQZJEdotC6syTJ9+izlYmmkr1RdfdIMlXx5cLM0aW+o1CEdHag6t7roBynXzQlaSB\\u002fSFErUhjzVyybzzBHvJcpPj\\u002fufv9xtK0mFSHDz3Oz37nCGPML146TmL6xs130sJlZhwdvv7P\\u002f9C1r0CkMvyFF41Hde98HgKGz5TIfqV4svx3njcuTvj73Y\\u002f4e5V9AlX4gevhZfTFFbicvT2xACJFZmrUDKOjM6jnupSofiqpG\\u002fzIaF8Qesp0QXZ9arSNR\\u002ftnaHB0oXBG3A\\u002fZg2K4Kde9xwqudkzRYSYuKGbhom9toZ\\u002f6iSY8iSJc1SP1fUWPpzHmpWffajflSbw47pVyDGL\\u002fEhepQWEuZxddV8IVH6Fvb1gUJiPRA1NngaBJB\\u002f7J2\\u002fvzRURRVGL4BwAAAAA0MwiPTPz8Z\\u002fdGJIdHzwYZ5yPsrUgoEzoB4\\u002fJa1x7yTKqel7rBgiD86VcbS+x1pYk0arKNK8c\\u002f\\u002f9\\u002fHQvTeC8fV\\u002f37h439rbHeBm6WPhUt35F0O2ySqLMrUhwyL8E8c+lpjeU3\\u002ffm980B\\u002fdcz8tpAb0i0HzTCLuPfcJY8zT42B+c8hH58XQY+W+go8PZKXEp3rJ\\u002fhlakVp1xt+bpERvLgcITjXBzha9ubGV5S9+Oh5nUpj0PZnd84NHlbbZPT\\u002fsOg\\u002fBfvMKt7j6bO664jfHA8o1QYgF3fFg6cBBZSH3urU36qfPsaa3SJ\\u002fT3jAHzXdvnxl3Yz+zzyTnElhk8sky3U7baIMHYxlsFpklXNkd+K54OrM3iTZNien255011v61IUGo0YwOdZn7yoNmkfY83nKvo0AMs\\u002fDQzVePpFvrF1409nBi+wcP475DbqWFL733L4wx7\\u002f7E74g2uUDJYZsWpTnh+2r3uePb+GU\\u002fud0+ijAa2d12BbCk+oLwJV72xNh29ZPX\\u002f8g+04PvHm\\u002fJRVAZzn7bdGYgKFQdoZDbFCNsgJ5Yx\\u002fl7Tj5CunDzpCy8SR0baCcv\\u002flD93Fn\\u002f21gTDezixMl6ST4wC6+DZB9GPoq2W+rauPT58QSYWZ9J+pM0qq+461O0sN+fJLtTuT4zbGjdb\\u002ff4\\u002fdifT\\u002fky95VX2b3VuZyFDdPq\\u002f7h7vy9P3YgdOeMxvx8\\u002fPviEMebjg\\u002fH0wWHvGX\\u002f1eZJFfPwO+ej8G\\u002fZmbZCf\\u002f7qcoP6ShL4ujDXJ9VpjzGGfmq\\u002f85A4PE4F8vF6n+h7\\u002fVDIrf5Lp6vN99YKTxx+AP3rDuMzSy279jkkKnNOiA83s8ETDwQvvd5kW7OlzjzPW\\u002ff8rrxsflKuNu7wFrS\\u002fZ4lmkc50xjU+p+bvxepfUO3\\u002fTHrbJiKPz6FECb66OrWugH\\u002fTM840xh\\u002f\\u002fq+E67cv\\u002fxc\\u002f3u68dfXJHzmDu5oPPs3isO+uzBrzDGHHrTeIMDn14k6pmklOSEvlKT1Kz6pDHmJ7ulHLbga7lhUSf5vrKs\\u002fYvmVfma8tV\\u002fbm6sL4krsvB6dzwI3FT6W\\u002f1dckX7fOdqkcLZlZU6UaRAJCQAAAAwNWrhzMjei\\u002fSTfRvJmZG3176NJnN4pMf5S\\u002fzJVfXVZIi+E6Vvs1do1emi+eiE9sxiKxzHFBFanOfGjzhj7Mr3+IOvMJZy5pltIdgZ8Oa3nOM\\u002fEU8uZ9KQtKblsuum1nHmTrK3FCPSEHGNJXZmvHv5i2mBtGRtiXVlwtYRgKIbnlEVEYlao2Unr4P\\u002f6tbxwuKYQJ4ZYeXedWu5oh89aXy0uuw6hCuxcWq9b1caIp2050sr\\u002foIWTnnTJ+2jZAndTO2ewFOQmnJRp442w85rbL3glwA9CDzNJJKIG2sQyJHQE+soIhVFfXB9ajzsfAgdJUj2CbZ+6eeUXnc8j6DDPl0un3qSi6Fz13NwYpz5Al11\\u002fE5aYG9fMenmqq7OjXjin1OznGlcU7T8GeLuVcQ\\u002fvfWsNjgzGmM6nQ7HNHLaJf7JxbON5btA6RaMKnQRRZHt8wgAAACAqplGCmfbu1CYB+xYR06xIGYi7N11bydNuJSqXrh8dow1v0hyN88d6upKokKMCIY0SeYKQovn5C7AhgSGDypsDwzL1C888Ae0wHOZO352rDHmjcv30E8Wz4VyzOqdrobCB6Wj8Bwzx2T+ykHjo7OWQJaPD\\u002f\\u002fy2I3gL3461l2E\\u002fx3rZGy9YD179J+foYVDbvi6SVLuWREk9egHP3kh\\u002fWS\\u002fTpf2xrBxiJNN8eiRH0Cq9qYVERFgadTVTNVdtO1E676EPkEBq5JsZdE6rkhhy03dMPdxWhDeZ7zBm48d0oKwPOksYWy0EOHBWQIRCW1ccRU+diWrZj2Vz4sCdI317IhsytkzMv33v\\u002fkvtHDm7rG7Cz1NrkRkRl1K1ul5\\u002fd+87gpaeO0Tf2jc\\u002fpI2riRmOl2YMMPkgK\\u002fyHx3ydZN0Xdi\\u002fSvRc32kiLbp2FxMJ03hffQe6YsJ1lqociEHjY\\u002f1btK5lFoVpODMmVqqgChb8k2IdEyMa\\u002fIUuWlarAgAAAKgVS7colAtX\\u002fhAbUk2074LeUuDJ8iE2YMQsI6vsJLYbY172s\\u002f+PFkgfYl\\u002foVfv9Oy2IQs+8jc48nWpu0flDqHFdY0Z4TvDRWZH93EFfHK9\\u002f3XiGksaE7TSsHHDVK5Ho11PhRqSs0Yqg8G\\u002fXFba0ypXRYMBZcbT2zHz6vX9hjHn742O9nFNRke+IPjprPwyrQaS5sor\\u002ftd\\u002f9E1p40z2X0ALfxqJqji7IyyPvcqHIneGYzTDseSD0bL2eLT0ff8FttCDMGHqOnx8NMgvph\\u002fHJ3jib0CufvMBY8\\u002fE64ZK+tQhPWmLCk82atqRLb5TvhXFbdHj8+ekjdx\\u002fOVPZbnz9fdFuYrLS7D3sdcfyeKGnGJyIKevFT6XG2EC4UHjMGwWo3XxFuiu7n8IuXj9erxHTCF0cX2hZ2X23KTXXBccX0mvnhEsm5TRstCrWIegAAAABAPWmhRcH1p9QzTa1jK2RPTxLW1AIqriQNerpO+CfrwiQMdY+1Nx0fwSoXaWm\\u002f\\u002f8NT6aeepSM5XfteeFz6CaH0GHdiVFYZWfMmXVyH1LPSIPrD53XZfPoEnhalY2mbkE5rTcPFFgXtd+3y2c5Rh4mhq6zn1BeSw8x7w5ADB7uF88yrUKQ82ptI98TGiX9++QW08PbvjWfT+dyFPYYR8SmsXHLNpwd\\u002f8Wpa4NwYdAk8eX\\u002fJG4BdQ7TCJ\\u002fqfvQp8ao7k1LAaJnVqn9EVhrL3U9Rg0zXn+FYkExTbn\\u002fgVwTe8SKCu013rQCFRpF63SYPDvf3cO6+hBX6NMJPO+uu4JxGq4zJaGPUYpl4pbXLQWfMJ\\u002fVTqTBK0jY4wap9FYQYJl6qmZaIPAAAAMENaKCjkRuRROOBp6YLgqji8734ZyyC210qn0HIW8qMp\\u002fYPUiL8\\u002fYjz3\\u002fIb7\\u002fsjVfxJsTzx2rH1+4a3baWH\\u002fc59QWx5hvDPN4wk\\u002fx0yt7jmFmxtjHnlOzjIu+DwfsSh8gy0HB8yf8v994uXGmP2M1MkW1Iv5QTts7YPGmCefGR+LMwpzxsBxvsgnxvkWF8L05zXXTQeNLR8H3nOiMWbrO++jn8O5N4ujp6aZc+WB8HgzUAZJdi552a1jnWzfoePuiUyLz\\u002f9MSuO6WM737l6buCXHwe+3YXzKN3P37hl378C7f2yM+flnpBPDIcc9YTeijUYH3Ty+9yjJppnPFjr3lXH6Cp6EZsiw8fPmVvq54C4wx2e6aKr4s\\u002fNz\\u002fBS5Y4zhbJvicfOYMVas\\u002faax7h\\u002fWMnVIC63hzIzmXNGkLB3kKUl8iFmUd5kVWc5uwoNz6O2PGmN+tm5sMPj5f5jPmHnw\\u002fOv68EUtPzcnkyIsmBsXG4cWPCrmsw4LnwnLYWLcphhGTsF+8U\\u002ffQAvZK1YndMMYY8y+eX8IfjlwfMf63X9oktwFeHgPn7e9GfNqk2RI07nARR8WNvj0okiihQiveesFvcGMcopaxrFsaT5qzQU+CgAAAABw0kIfhYxn5FL3kyoMLXK2NxnqqGY8lnFL36x5UDf0lBtrP+xfTZ7MOkaAEaJ9aq94alxnXBDGFVY7PPWCE\\u002ftgVOJITqvADvwUNW4sQV7ER+hjiQgF7W7CTt3UpnYOYJ1eRMFoPXXfvvH4H37135kkU8r3PzhOOPaST37V7oa+6BqyEHCxHz3ZTI7uOm6CEYOglTOd4I+mbz1lmmnkdZoNdoAQiSt4tDkARDiKa48ElzeMK+OkUUlK9IS9uD24\\u002fzq3gXgJ6Al77X5PpMYN6WAT7daQcd\\u002fsO3qa4iApsmdwUBL7nbAJSiTZ1FffleLW83oUUQN8y7nMeHr0eBeRw9SVeNTjrpH9SWFPLHrZ6lfZD\\u002f5yVct8FGBRAAAAAICTpWtRSEUHJgj3e\\u002fYz0JUCBKl6hj6W8IUWCciMMX977B\\u002fTgstrQQc7iLSDHG6gpWxRP9CDqHjLsKbCqrmo4s1y+uNveQ8tvPxPZJIGgrshLDouz2ejLAr33vUbtLD+z8fGCZFkMzWo2igHbFYuOSRdpJRwlSI08wYAthN4sjiIjB2M0NF11LtOvChOkHUdzl\\u002fJuqPIo+By9mZ0kWtXZpHUO0pnMeFJcVGVw3PJxD3pCYgX6G6LBJepCSQ8eUToxtAWEZ2MkrZhdxNG5DBNfatMBB2UY5F0MlN6ZLjOqo6EYlx5XTWuqhyMK3xM233FTcu4ok50LJUOcyA8CXZF1AM\\u002ftt\\u002ff9ZqWWRQgKEg832zxJLvyhxh3PlRd\\u002fIleSWzk5\\u002fwn7NlET4J+a7CRWXzddfYP\\u002fRyKSMWF8rUqS8m4M7869hbk5EjiTPXLTj\\u002fJdBRPzSp6v2iTMr9z2cD+O8\\u002f7prGSQDM8JhS5p2dMXOi80frj58oRyxZ7gr\\u002f6bLzV3l5i6kSXumFS69NQP8WJm6QixXSfeEpVMULs89jwE8\\u002fLqCA0PUkkMknr3jJivkDXImKRVIQLuhIxMZyeiCfv4s2X0QJn+CGRmq+gFjVEN3S9dTEmPM2hp2OEbMFJqHRiaToRV1YoG5GajM9US0Limuo0UHR0LUBwt12JyVPjzPVt4xoTPlOdIVskXNJZzhIPbaNlONFtrRC6PgQoCgUAAACAJUQLLQquP4kz1WYuFR7pzNJD23BcExtvhcrCeCrciNRGLrShT5hkzbxBjC3hWksTyro2tLqqu3r8IkmaZsGfExjzUIh+6gJCbG8fn4XbxYwhA4AOzxP1avWOOrkNzeloowVbdFwOVrqkEGfSHfdq3t+NVV4yhJj5eM7sHqAaYfBweeEZpdilWuyNO4Wz2FKrjDomUEydeHzNRB9c+cQ8aCOQ3QdjBd0d95b\\u002fZia5vRl+ZPj+EWWX+ViuzEWi1Lt9dK3EE\\u002foOFD6AOt2WyGam\\u002fQ0Zceew0YItBwxdRFfdJk\\u002f\\u002ftQ8g1+BOLf3lQpdEF0m0xANu5l\\u002fj\\u002fF7iC8F3i7DxZMm853qm2KKgk6+XyxMbT0HCpZy0TPQBAAAAZkgLBYVJEVrOz+ZF5ueeGcvF7PQnjA1CcTHGmEPH\\u002fydtUk+4MgupXc5d5JckZgTNvAisi0r\\u002f8d430oKI0mRpXVeI4f48tTjd6TPSWW0sKR+4e6xOce4d7tWKtT+gBcpac+A983lyTv6OaIoNHiIx8Ka7xhYFa82fGsvA8LyzxlqR9hEhg8Fzh44Pygu6UA2hc6oc8tH56fabjzNWzeLe376bFnTFHfOuRU0xC7OkR+wzSfrfvXfNZ4\\u002f5s7Er5X5z+8yiClvSh5GS8zBa5WU17pAHk0Mr2TCzoHvtNiYpe9hCHaP5vGHP0f\\u002fmUx4xvMteh3LP2vP3bl6ULmzVr47tNHNfmU9NffMiNZSvF+d0+undMpO30N50Amx2Dj1osRlDVGc2Rqb00lWwf+GX542I5y7yL+Grz3rq\\u002fvOJifYdepAx5umedE1Q7jvzZiR14VzGFZE73Mwrx9pzYtkT47cEj55ZPMevXXFVPqJ5f6brk80Dlv1jfIMdetP48fzJQshxsk83mwBTDQniKdNGl4P4RBYn5uId2SLy1M2LPLQOMOO3oshpZu\\u002fLd++4BeVq5kriVLX9YIbARwEAAAAATlroo5D7jIQDP8\\u002fci0Quxj3HL4rMegRnUdtGh3IJGwPrqewLzUWKObszuWpr3wU9uety1OeC1GSEEGmkjdtvQE\\u002f3pro6u8pf8fiLGjnG7RjBeNwaiuMKQGA1Qviis7sGI8IfdNIbEf8mDm2SfP4JnbBIB4+ISDOe0deO+gLtT0CnzNO9nmTJFNTAESIaV4BcqmME25m087+I9ON+unxxdFN8I5HuzvYDjTZsJJ6gcWfZ8hRDFwjTmk44rVMDiUHTPgoi6sHVgt4gNRZGF7XSMV90Ivqi62642hQlqj11+FyB3LooFN0GOkIkNV0e0z4fBVgUAAAAAOAEFgWJjnpwub9qr+OFOiJH7DNev3FXNujUQrep\\u002fvAehFt4agFcRrtQsD5B0rdOwKCTHdEMsdZ+GLKa6ITBfKynztlAC1QZWacn0i7ZBCvNGtKHtFaXWoNYp14Q55Xd1V8PL9sYqOfauCJGb6GW0jxsWLroW1towZXHQkM3pyhVbCOyI2iFVZyyjhsS9ozUsCAzyV1KR9c3mEhWrYciR\\u002fiJq3vaYEbDqOP7hZ3GzEdS8F0t7JRGqbwMRzzxPUndEFXLTVLeKtd6YTfVOc71oIkAEFfFcEbnURCXxmNnctkeUvFYdKj\\u002fnseWt6TQLX4R6TLTsCgAAAAAoP0sOYuCS+kx7plLnaJRZDjWSqSoQ+3J4ejKNye0H9YeWLnkmVf2nCDvbl1CyYW2nYhSSSwOv\\u002fDAH9CCrk5EWQQ4NIBPeaHe8eIwZa0GCc8Pj9LAiEJZWdL6EmJG07hLPQnjkJm\\u002fIq5rndiI\\u002f0SyJO4UOWL1qIrocJ2bQaTdzK54pep52fFYBYSPAs+78w0mvF50qobUvKjP7R4XpD7sli\\u002fZZ5TjdHKE1GdvITup+RaF5U\\u002ffmS4tObcFJQvZUzQKn5XUnB9m\\u002fsbw5GMW5esY1xch+3XRLcBHAQAAAABLiBZaFFx\\u002fyn2mWrl06b6puCqRaE03tdiJjsWgiW3dgsdRnGDtjbVPioPQc2\\u002fZ1aDimhMrlxzo8e5P\\u002fM5ER9dJ2lOnS1MVJo9y7yrV46olk53sqlgRPdWFK6RFu+awuYsTEri0dvEgfO6d19DPU970SbElnxrl8OCW2S3GVQ449UJ4gjWEz78OSnL5sqR6yGuToU5oQc+jPihDA65LXYsAHKMsUoyrbD0bJ1w1QVw2IX1GHhcoYe7SN4mOrSCK1+HL4oYirLweXE9Z+ywKLUy41DLRBwAAAJghLbQoVHdGQm\\u002fT5Xc9+oRAZDLQOr12\\u002fie0nYAh6VUknzdqGtIot+Ts89bcbaHPZZm5JBlf15pjnYx8tnVVRq3lUMSBJzrfPqLJdaZMKfEmrjYnbTm75UBHzLu2Tx2l3HEHxq1GFx\\u002fVSo0oLrhoIRu3socOVYer0qlRyQ+yxGERqZVCtQsXk9FdQ1OkcHaqN8M077T2WRTgowAAAAAAJ+Xo31EUGWPCMAzD0LNNHMdhGNLGTBzHcRwn7k67RFGUuF43ZYpZFIRMrYMdXJH0XGJA4BE8s8vOpFhz8kQu5aD7KcieEkD3SqSDZPTEsEBPWOYOdK4CrV4IkV9ngRRJAjzXa1JFSiuCuvagmChNtR943CDocDr5I9\\u002fG7JJSonJMz06qpS2L7YeuCBcd1bVDhSdK6vhn0TVdg+ZqZJreJHzr6sSRYhg9wyv+5EmROanJgWHTIJdmFTd8jjeDK5mjJ7eHyzFFpz0tfslmaFHwfByLUFRQiOO42+12Oh1jzHA47PV6if0Lw3A4HHY6neFwaCw3giiK+v0+7z4YDFgmILdE2qXT6ZAwIdYbY+xdTMVTDwJPYt1Jg9D4FhQBimbyWJ0siPAqVxVaz+m43i\\u002fZ4e\\u002fTI8+9iBZExWSNeGLZvqrHn94XHser1MTSxQdcywFTsI17cmnTNXJNHpkM5579orvyFrvaLDI3lIPctvGyDm28szCpjzxdxFSp3Si3U10QnOc6MwaLZnlAhDOgZ7ZLbFDi06efdHq1elLDpTrDZmdWgoLro1mcolMPJCWQVaDX6\\u002fX7fb1NHMckBMRxTGfFwkS\\u002f3+\\u002f1erx7t9ul9fTtH41GcRwPBoPhcEjnTDvSetEUAAAAsDQJw7DT6eiPZikU1b+DIBBmAKHim3lzgrAi0Pl0u10hENHuQRDYxgn+yfuKpuwWZuie6ZKUU\\u002fGk8SF0\\u002fpDsR9FqhMhRmopObyLiDLPbVHQwGBdPEjWTSiSHOx7jGiWPM1fuozMizs1ziOxFlVx4bAyiTZ2+N5WMaXzKhTqsa7alXkpX1vYstofcWXr0bFGJRkTXULz+d8dTmS6P4Gna3jSu1HY1IdX2MBOLQuLHtywKWRTYt0CvtCEzCP\\u002fk7f3yjt0sW1HYGYJ8F8ggkavvAAAAQBvgb3E0T7ntF9K\\u002fE00CempEmAd4r0R7AG0phCPbJkF70frEY+U4EWqZxNjsyXA8MrUrOE2L9rQmtQBVKTJ1FZF+kx6iFGeuVD21REV2CoNWHFfu54koPkebPQVvKpUqrFUg3DaZ6vrvGu2JDlrc2cjVnylfQWFaY4p3w2M7TC0zffAX\\u002fkf2A\\u002f3wnW\\u002fI0T06EH1VjTHs8GdKTSlUfsKlikwfdP5xHPf7fZIhaGhowd6yZZkhAAAAtJ4XfP5vJ91FyBZivr5E00L5FgUd+ECiA3\\u002fOeS+\\u002fj4KwKNCOrqbsFqYgKNC0rqdibDuoVJmegqY+k5w8s2U69g9Xwivty0IsnfGvG66Q79xkUdBdMbE5nkdX\\u002f4vf55U+KfksCjn44TvfYFsU7G+f+FYWpJCPQmJXtEWBJg74p86jYC8kejAMh0NazwsAAAAAMEnfYvubW5yi+rf2HrBDEjiHkm0hsK0Otk+Dfap2U7asJA4h4inMrKMeipN9jp\\u002fLpRTXEtpHdmf11NLPjJiPbNwk+tKheCTIEmQm8SkuhLtDFlNEbm+YVMcafXTGFQny\\u002fV2vmbJFwSz+gNJHs8QgiKI+CnEcB0HALoSDwYDX9\\u002ft97qWdI6HT6bBRYTQa2bvbQga1LJoV6+0\\u002fAQAAAEsT8S3u9XolWt\\u002fL0b8T4yQTN0vcxrP7pLvU3KKQIwsCWDqkpjRwUYo3RomBNlXE7LSM1Eumq9uzEbHE7ALV1Tyr1Dihs1CUOCbFAyim76PAZPwWT0o5UQ8Zu+XazLN7jl0AAACAJUhFX8Za6985qLlFIRXMp3ooMebb33K5jdeEGRY4AGBJMUOLQkWgzDQAAAAAnDRb\\u002f9Z4MjM260xz58WrrSpcK7fqZtGI7JATMYUz8lRhzm1NqXlmDldJ99bYKaf5IHgKbYtAM0+th9ZYFMrPzDhzmiUQAAAAAHWmhRaFlp0RAPUkS60BOEYsWVzmDdMQC0cR61H7LApt+6wuHUFB28FKrE4LAKgJ7Zt4av0USfsEBTgzAgAAAMBJ2\\u002fTvpWNRAGA6NFSjLaUKMwA5gEUBAAAAAEuItunfNbcozESnqZVGWKvOgDaBWwvUBFgUAAAAALCEqLX+nYNpJlyqSYUnDn8gilSdbpk3cs3T4xQBVZcAqC1sUeAybxXxk99+DRIu5aRlog8AAAAwQ1poUWjZGQEAakKLbVSgRNpnUYCPAgAAAACctHDqoQ40NEmiy28c\\u002fuQtBhc3O56Ka3VIVo1LCSoCFgUAAAAAOGnbjD58FACoD7lNayhlMmVQBb5E4KMAAAAAgCVE2\\u002fTv6VgUaD7SM2FZBxqa\\u002fAAsQTC53mJKDBXRdiYm1eDkemlX8Z6ERQEAAAAAS4gWWhRcf2rZmQIApoNIfmqK5T8VuKpcwhDYXNpnUWihoNCyMwJVgBTIAICKaJ+ggKkHAAAAADhBwqVa4DI\\u002fGii7ZaB95WruiApAKdCkiQgxNc15q9QhjRUwZQkKURQZY8IwDMPQs00cx2EY0sZMHMdxHCfuTrtEUSTWe3YBAAAAQIkUndGP47jb7XY6HWPMcDjs9XpCDiDCMBwOh51OZzgcGsuvMIqifr\\u002fPuw8GA\\u002f7wk1si7dLpdEgy8O9i4KOQBCrZlAgGEwDgBz4KEpISSMXv9Xr9fl9vE8cxfdHjOKazYmGi3+\\u002f3ej3evdvt0nr69o9GoziOB4PBcDhkQaHf71NTcRx3Oh3eBQAAAAClU1T\\u002fDoJAmAGEim\\u002fmzQnCikBCQLfbtTvAuwdBYBsn+Cfv6+lPwTPy5PQARcidIxbZeAAADQIWhUWwo4BeaUNzB\\u002fyTt9db2tjN8tQDWRHIcYE8GPL1HAAAAABZKD\\u002fqIfHjnd3lkBwe9XpybqB\\u002f2SuCZi6EV4Qn55KLXzz9f5n5yWYYEioitz0AhoSZUKIhp9KERWAm6AAKHbqVsZHn5p4\\u002f6Y7ZezVbDthbbVzhTypt3aL806goDMG2SYhZDCEoTGqK4XsLAAAAAIJp5FGwYxZswjDUzo9+OcMWF7gFlxEiI7OVPZGutVbAH4IpcQRgPzCtq+OsX1k57AGlv\\u002ffwIq2IQj4K9HkWQoD+ZpMzI\\u002f\\u002fUeRTshUQPhuFwSOsTBQKkUgAAAAAqomiMgB3RIEISKFESfcXtaAg7oiEIArY32GKH3ZQIjrCbEvEUJlfUQ92mtaojd0DHUo4EaaiNAfkepgw9Iwc8vVesx7AvQfgzxG+PinjmA8dPJ+qh6NRDHMdBELD\\u002f4GAw4PX9fp91fTtHQqfTYaPCaDSyd7eFDGpZNCuaMqgJCQAAAFRJOXkME+MkEzdL3Maz+6S7IDMjAACARKYTgNM+i0LbPqsQFAAAACQCQSEfqB4JlhA6FBZTyAA0F\\u002fHhT\\u002f3qLxEvqzAMy81G2EJBwZVwCZYGME2xAFmGsoA6wqAI4pliH95nD36WFg68+z9oYencWuTjXzBrgKCFggIEAgAAAEsQKsFYerNtm9GHjwLw0NBYR9A4cKdNh3qO8wx9FCj7ANVYLtGiULTMNAAAAABmThiGuvhRKbRw6mGJwFPgIsdLiVNx7PpXYtWW2VKp2oHpdsDUSsFtMW0a52c+cHyR3aMoIteEcnqzGAgKAAAAwIw5+CPfmnQXli0ow2F10+5tm9GHj0L7qOc0JABgIpbOgzx9HwWKdOCiieTP6CrHmANYFAAAAIAGQ0UP+CcJDSU6K7RN\\u002f4ZFoX0sHUUEANACZp6Z0S6dWAqIegAAAACAkxZOPRTMzDidksqcQYziCJZOqescwJAwW7LfnDoSB\\u002fczWMrs\\u002f8z+Mzlu6Wb1FgoKmHoAAAAAyqJtM\\u002frwUQBgKdC+JB+gNfBniC3HFfFv0brpfO\\u002fgowAAAAAAJy2cemgWSOdXcxBzUU\\u002fwpAAwNWBRAAAAAICTts3oN9RHwVW4wUBzAsACBh5Qf9rno4Cph1pQaSgmAJUyzeBeyAcATB9MPQAAAADASQstCgUTLtUTNmHB7RHUDdyKALSbFgoKjRYIAAAAgFrRQkGhlSCZDAAA1JmqS0DNEPgoAAAAAMAJLAoAAABAUTgkJ\\u002fjAbDtSPuVYFKIoiqIojmP\\u002fNmEYRlEk1sdx7NqddnE1Szvm7DEAAAAAMlBUUIjjOAiCOI7jOO52u64vdxiG\\u002fX7fGNPv9+2ohCiKut0u727LBEEQ0C7dbjcMQ91mt9ulDQAAAABQEUUFhW632+l06Evf6\\u002fUSv9xxHA+Hw8FgEMcxhSSwPNHv93u9Hu\\u002fe7XZpPUkGo9EojuPBYDAcDoVdIVF0AAAAAEC5lDD1wF99WkicQTDWp53lCdoycffhcNjr9Wg97Wg3G0XRcDjsdDrFOw8AAAAAD4UEBfp4C+VeCwrio87b+30a7GbJaMF79fv90WgEowIAAABQNeVHPSR+\\u002frN\\u002f1OM4Ttx4OBzSQrfbZWNDIq7MjB6QowkAME2KFMigPK3IrVJ\\u002ffrZ3v1l3oRzKFxQqUvTJJhGGYafT8Qc74KsPAAAAlMU08ijYEwc2HAohVnqaIrsCbcPLFEVZSlcBAGAKFCmQAVsCmDKFfBS0m6FJ+tKHYcgTB8byXiRs5wPj8GAYDoe0vtfr9Xq9MAzJtEDbQ0oAAAAAKiIoaKgnIYCDHsnNkP5Eij59xYMgGAwGvNzr9UhcCIKA7Q222GE3RSkWdD\\u002fF4cbnExQ9oxwUmW4EAADQJvgz9KIPPFzpgZ7+6JrpfO+KTj1QwiX2HxwMBry+3+\\u002fbIZGcI8F2MhiNRvbutpBBLYtm6wnkAwBAg+Cy9TyLQdoOXmUgkXL078Q4ycTNErfx7O7axcVMLAoAANAgIChUSvssCm37rEJQAPUHL2UAWkz7BAWUmQYAAACAkxaWmXYlXIKlAdQE2BIAAA2ihYICBAIAAACgLFooKFQHwiABAAAsNeCjAAAAAAAnsChMwAwNCYe++1FaePrTR82qDy0mu62It9TAzgQAaCWwKAAAAADASduyDiCPQnOhJDD77f4x\\u002fYSCDgBoIsijAAAAAIAlBHwUQF1A8VwAAKghsCgAAAAAwEkLLQrIzAiWLFzsB64eAMyc0TP7zboL5dBCQQECAQAAgKVGPE8YhlEUldhy22IEEPUAAABghvBniPPfVMQP\\u002fnIVf++iKOr3+51OxxgzHA5NqTozfBQASOCQj95L\\u002f826IwAAkE6\\u002f3+\\u002f1emRRIBGhRKMCBAUAAACg8YRhyMudTieO47JabqGPAgDF2XvucbPuAgAAZEVMNAyHw16vV1bjbZvRh48CAACAGZLPR+EHf7kqx7H09y6O4263m\\u002fin3MCiUAsaF9XGk\\u002ffQvAEAoDgv\\u002fO1HJt1FyxZhGA6Hw3LnHQx8FAAAAIAWQDmEBoNBuVKCaeXUg+tPLTtTAAAANWQm4ZFBEJRuSGBaOPUAgQAAAMDSgeSDMAyFoGDHQRShhYJCIzhs0zdoYd+hhxhjDnh6L\\u002f2suWsCAACAukHyQb\\u002ff7\\u002ff7vLJEAwN8FAAAAIAGE0XRSIE8Co0HlgMAAACNoByLQhRFURT55ZcoihIrVcRx7NqddnGtTz0iAAAAAApSVFCI4zgIAsov3e12XcmlwzCkuZN+v28HJkRR1O12eXf7wx8EAe3S7XZtjwxe7z8iAAAAAIpTVFDodrvkMRHHca\\u002fXsz0pmDiOh8MhBXeKYhV2HYter0f5pMy8rybNsgwGg+FwSDIE7UjrPUcEAAAAQCkUzaMQBMFgMGCNX\\u002fwkKFeUqIZJH\\u002ftut2t3gHcPgqDX67E8wT+pZTY8UAuiAwiPBC6QUHI6cFAP+eKIn\\u002fYasR6AFjCTPAqVUsiiwLGbeqUNZZTkn7y938MgsRAWGRL8HQAAAABAWZQf9ZD4+c\\u002f+LY\\u002fjOHHj4XAo1pBlQhfI8iRndFGRUMYVHJ7qHVNF+2BSYEiYDsJCoA0GMCGApQAnyGk65QsKFen3tk2Cq2PpaQ5Tp8yMkA8AAAA0nWkkXHLlh0oUKVLlDAqU6PV6o9EIkw4AAABApRQSFIRrob1SrLEnDkRAo+2ZaBweDMPhkI\\u002fV7\\u002fcHgwGiIgHQHPruR8V\\u002fs+4RaAmHbfqGcEEFS4eiFoVOp8MxjfTx5i89J0Si9fzhHw6H5FhAW\\u002fInP4oinl+w4x7tRnjj2KLgKQAAAADARQnBhLbzIDsNiMBFcjykbcRMhL273RnbDsHtJDoqigDLgmekQ7laj1YUls65AwDqhnADb9w7mT9DVdtgvr\\u002frNdPxySvBmZGLT9iTDmEY2ifASZoTfQ89YZZil\\u002fo4KgIAAABLgbalJ6pnwqXGScQAgCrQIdN4ObSP9lkUUGYaAAAAAE5aWGbalXBphpaG4rqCVjuQzam5UCbpErM\\u002f8e2x79BDaIEzvSxBPZUejbo9F3SNnkLuKdBAWigo1HDqAQAAAGgodZzRL0I9fRQAAAAsEeCjAAAAAIAlBAQFAAAAADiBoAAAAAAAJy10ZiwLxDcDAAAAsCgAAAAAwAksCk48hgQyNsDSAAAAoPW0UFCYQsIliAgAAAD8vPBfq63z\\u002fv1KW7dooaCAPAoAAABAWbRQUCBKdEWEVyMAAIAlC5wZAQAAAOCktRaFErX\\u002fKgwJoorP058+qvRDTBOuULXf7h\\u002fTAqwvAADQDmBRAAAAAICT1loUak7LFO66lfQFAABQFrAoAAAAAMAJBIXZ4Er2UCsa0UmDfpZNI\\u002frZiE4a9LNUGtHJVgJBAQAAAABOWuijMIXMjAAAAMASoYWCAgQCAAAAoCww9QAAAAAAJxAUAAAAAOCkqVMPURQZY8IwDMNwoh2DIPDPTaRuUFYjVR9iCp2cTjfqMJhlNVL1IXDRyz1EI\\u002fqJi17uIaYznhWR+8vop3kWhTiOgyCI4ziO4263S+MCAAAALFkq\\u002fTLWVzJyEQRBp9OJ49gYE0VRv9+3T2E6Um0dhOs6bFCTbuBMS9ygJt2owwY16QbOdJoblHuU1W\\u002f4ov9YBfn2\\u002f3gH98T\\u002fZSxI8ywKZt66wgs0NAAAAMCSpbovY8MEBTpzMfsCQQEAAMCSpeovY1OdGW3EcKSm+Sy+wXSO0ogNatINnGmJG9SkG3XYoCbdwJlOc4OyGjHGPPy3m7NsNlGb2YGgsAhbjGqcywUAAABQ+serxMCHhk09AAAAAGCaNExQIBFJWFTKDRgFAAAAGkTVX8aGCQrGmE6n0+12aZmTS8ywPwAAAMBsqfTL2Lw8Cmax08dgMODhqCgpVRFSuyTWh2FYqxRSURQ1qD+1Hcx4nmZ1qZ7jyT2PoqgmT3qWLtVzMG3CMKxVBJmnP\\u002fUcTLoBxJppdsD1ZSxO8ywKxpjRaDQYDAaDwWg0YpNL3dI1ZuzScDicbr8mII7jfr9fn3dHan\\u002fqOZhRFHW7Xep2v98v3bc5Bxm7VMPxtHve7XbrIChk7FINB9MmDMPhcFifh93fn3oOZhzHs+2Y\\u002fjKW2XQLMMZ0Oh1a7vV6dTivjF2qQ1c1g8Gg0+nQHUK3XSP6U8\\u002fBNMb0ej3Xz5mQsUs1HE+7q\\u002fV50rN0qQ5ddTEYDOrzsI8y9Keeg9npdPid3zIaaVFIpIbpGlO7VIdOugjDkN56NSG1PzUfTF7mNKuzJbVLdeikgNPT0s86POkZu1TDwbTpdru1etj9\\u002fantYA6HwzqYuCph1pJKCZD4aa8xs1baMnaJHgbWlWeuaGpMbZQMwtOf+g8mUcO+NfTmpL7NuheLcHWpzoPZ6XSoPzV52FP7U9vBtHvV6XTqMJhl0R6LgqCGUqfHMWcwGPR6vX6\\u002f31qBdFrUeTDJbcVYCujMSe1SPcczDMMgCIbDIduoZ06WLtVwMKMoGg6H9bkhs\\u002fenhoNJkJeAMYZjENrArCWVEmiuRUFQkzlXG1MPJYPJ3p+6DSapGrWawpyoS3UbT\\u002fpINLRLNem5eE3N\\u002fGHP15+aDKZm5p+hEmmtRaGJJCbNAPmo1WCS1j4YDGrSHzN5l2o1nsaKiKuPNpy9SzUZTDt4m7o020CSfP2pyWBqauKNVAptEBSqTkqVg4xdiqJI30m1MqM1iNoOJteJr0NniCxdquF4RlFUh+BSm4xdquFgGmOiKOr1evaHudPpzFDwytifeg6mfppa5ds4a5NGOdg+RDWxRHm61Ov1yKQmXJ9MzUzToxpYIwW6PzUfTLKmUidtatulmo+nscy5dCIzvz89Xar5YArqMJg2oj\\u002f1H0yjAmVrNZ5FmP0HtSxs6acmlyexS+JVwl6y9bndbeozmIToT\\u002f0HMzHKa7Z983SpceNZhzlgV5fqP5iCOj\\u002fsjRhM4cdah5uzLBqZwtkF2aNqZe3J2KUa9ry5YDDLpYbj2dwu1bDnzaWeg1nPXhWkVYICAAAAAMqlDc6MAAAAAKgICAoAAAAAcAJBAQAAAABOICgAAEB7CIKACtyL9ZRkuj75qUpEZFag5BZMFr9CymWeOGj27okpHLiFVo7tmFmHXQAAACgNerHr2DzX+ulQXQlmkfiZolU56QIHr6a2Y5IiLc3ikFF\\u002fO6Zm8aUlAosCAAC0jX6\\u002fb\\u002f9sTS5hDeVzpOU4jvv9\\u002fmAwiKKILAFRFI1GI5Mhr3av1xsOh6Jlowqy+1torVFh1pIKAACA0jDG6LSAVLvZqHxQhG1moB3tD4RdOpk3S9yd0yLxn+xcinaD9hH552Aw4H7y4URTiedrN5VotxDpUEV\\u002fxLm7Wuv1eiLxou5YWz+p7TwrAABYmtCXW3yM+fvNn+TE5dH8h3lkiQL0J1v48DfV6XR0rmX7o+sSFOgQtBl\\u002fiRPTNjO64GTq3Ao1RaKDPxu0lhtogYcisYVWzj5AUAAAgPZg5mfo+QPGy\\u002fwd1boyb2xUpmS7Zf5sJ+4uEi3bfcguKIgT0U3ZkEike2h3zLZP6HbsXewO6JpBfCAhjrBgpEemNSw3AAAA2gUXsKXi16IgxXA4tNdEUSR8GuxGNMPhsGPVdZxh5V7te2FXceSFOI7J\\u002f4C2F54EvAuNA\\u002f2M49ieoWCnB9Gy6APtmP986gqcGQEAoIXwtzxjvePcX7gwDBMrjU0HcWrisx1FkfjGC6iwNf+0B82WJ1oe\\u002fZgGLAoAANBCoijqdrvadd8Y0+l07A9qjjpG9A22d89NRjnG1Q376L1ej00C9mZsLwnDsN\\u002fv2598IUa4Bk0ERIg+cCOtNCcYWBQAAKCV0Ker3+9rdT+KouFwyF+1brfrD\\u002fwT0PeYf\\u002fKXNTu8e3E13f6EU2vdblfYFcQyr9FzLjxo9oDEcSzcHbrdLrcgZIiW1Y0kICgAAEA7oa+d\\u002fnTRZEG326XchWZCVTiKok6nw6kPhX0ikTAM2XJAn3POIDmRjKJ7ItaMRiP6kNuZGUeLwyyHwyH9KVGKov54rA50snYL\\u002fFcxYdEaUGYaAACWKDkmHXLvLjYueGiGsizrz7O\\u002f\\u002fUl7rrfULcRx3O12W\\u002flJhaAAAACgqdTn8xwEwWAwwNQDAAAAUCPCMMwy91E1NIfSSinBwKIAAAAAAA+wKAAAAADACQQFAAAAADiBoAAAAAAAJxAUAAAAAOAEggIAAAAAnEBQAAAAAIATCAoAAAAAcAJBAQAAAABOICgAAAAAwAkEBQAAAAA4gaAAAAAAACcQFAAAAADg5P8HtkA95OpRr3YAAAAASUVORK5CYII=\",\"x\":-0.625,\"xref\":\"x\",\"y\":0.0022500000000000003,\"yref\":\"y\"}],\"xaxis\":{\"range\":[0,5],\"showgrid\":false,\"title\":{\"text\":\"Momentum (GeV\\u002fc)\"}},\"yaxis\":{\"range\":[0,0.002],\"showgrid\":false,\"title\":{\"text\":\"dE\\u002fdx\"}},\"margin\":{\"l\":30,\"r\":0,\"b\":50,\"t\":50,\"pad\":0},\"showlegend\":false,\"autosize\":false,\"width\":530,\"height\":457,\"title\":{\"text\":\"Ionization Energy Loss vs. Momentum\"}},                        {\"responsive\": true}                    ).then(function(){\n                            \nvar gd = document.getElementById('593151f1-a463-4b78-8e1b-0bf633e7ca76');\nvar x = new MutationObserver(function (mutations, observer) {{\n        var display = window.getComputedStyle(gd).display;\n        if (!display || display === 'none') {{\n            console.log([gd, 'removed!']);\n            Plotly.purge(gd);\n            observer.disconnect();\n        }}\n}});\n\n// Listen for the removal of the full notebook cells\nvar notebookContainer = gd.closest('#notebook-container');\nif (notebookContainer) {{\n    x.observe(notebookContainer, {childList: true});\n}}\n\n// Listen for the clearing of the current output cell\nvar outputEl = gd.closest('.output');\nif (outputEl) {{\n    x.observe(outputEl, {childList: true});\n}}\n\n                        })                };                            </script>        </div>\n</body>\n</html>"
                },
                "metadata": {}
              }
            ]
          }
        },
        "a932e054c4174e9087248ffe9948e454": {
          "model_module": "@jupyter-widgets/base",
          "model_name": "LayoutModel",
          "model_module_version": "1.2.0",
          "state": {
            "_model_module": "@jupyter-widgets/base",
            "_model_module_version": "1.2.0",
            "_model_name": "LayoutModel",
            "_view_count": null,
            "_view_module": "@jupyter-widgets/base",
            "_view_module_version": "1.2.0",
            "_view_name": "LayoutView",
            "align_content": null,
            "align_items": null,
            "align_self": null,
            "border": null,
            "bottom": null,
            "display": null,
            "flex": null,
            "flex_flow": null,
            "grid_area": null,
            "grid_auto_columns": null,
            "grid_auto_flow": null,
            "grid_auto_rows": null,
            "grid_column": null,
            "grid_gap": null,
            "grid_row": null,
            "grid_template_areas": null,
            "grid_template_columns": null,
            "grid_template_rows": null,
            "height": null,
            "justify_content": null,
            "justify_items": null,
            "left": null,
            "margin": null,
            "max_height": null,
            "max_width": null,
            "min_height": null,
            "min_width": null,
            "object_fit": null,
            "object_position": null,
            "order": null,
            "overflow": null,
            "overflow_x": null,
            "overflow_y": null,
            "padding": null,
            "right": null,
            "top": null,
            "visibility": null,
            "width": null
          }
        },
        "bdb91c0f0e3b468bb78fb7350dba9ed2": {
          "model_module": "@jupyter-widgets/controls",
          "model_name": "FloatSliderModel",
          "model_module_version": "1.5.0",
          "state": {
            "_dom_classes": [],
            "_model_module": "@jupyter-widgets/controls",
            "_model_module_version": "1.5.0",
            "_model_name": "FloatSliderModel",
            "_view_count": null,
            "_view_module": "@jupyter-widgets/controls",
            "_view_module_version": "1.5.0",
            "_view_name": "FloatSliderView",
            "continuous_update": true,
            "description": "a",
            "description_tooltip": null,
            "disabled": false,
            "layout": "IPY_MODEL_fe36f1ae48db46dea4b4fa77c2c97198",
            "max": 0,
            "min": -10,
            "orientation": "horizontal",
            "readout": true,
            "readout_format": ".2f",
            "step": 0.01,
            "style": "IPY_MODEL_b5842632b10d441c985e2b9fe94e1d27",
            "value": -0.7300000000000004
          }
        },
        "77f015a735fc4527b2426d1840a7c7b3": {
          "model_module": "@jupyter-widgets/controls",
          "model_name": "FloatSliderModel",
          "model_module_version": "1.5.0",
          "state": {
            "_dom_classes": [],
            "_model_module": "@jupyter-widgets/controls",
            "_model_module_version": "1.5.0",
            "_model_name": "FloatSliderModel",
            "_view_count": null,
            "_view_module": "@jupyter-widgets/controls",
            "_view_module_version": "1.5.0",
            "_view_name": "FloatSliderView",
            "continuous_update": true,
            "description": "b",
            "description_tooltip": null,
            "disabled": false,
            "layout": "IPY_MODEL_03ebbfc5b7b141bfaae6396114e60e0e",
            "max": 10,
            "min": 0,
            "orientation": "horizontal",
            "readout": true,
            "readout_format": ".2f",
            "step": 0.01,
            "style": "IPY_MODEL_bf095bf538fc46bdb089917b1c4596fd",
            "value": 1
          }
        },
        "cc1a8eea8c584366876f2b35a1890407": {
          "model_module": "@jupyter-widgets/controls",
          "model_name": "FloatSliderModel",
          "model_module_version": "1.5.0",
          "state": {
            "_dom_classes": [],
            "_model_module": "@jupyter-widgets/controls",
            "_model_module_version": "1.5.0",
            "_model_name": "FloatSliderModel",
            "_view_count": null,
            "_view_module": "@jupyter-widgets/controls",
            "_view_module_version": "1.5.0",
            "_view_name": "FloatSliderView",
            "continuous_update": true,
            "description": "c",
            "description_tooltip": null,
            "disabled": false,
            "layout": "IPY_MODEL_d8193ea2516648a9a120fc542b0c0e20",
            "max": 10,
            "min": 0,
            "orientation": "horizontal",
            "readout": true,
            "readout_format": ".2f",
            "step": 0.01,
            "style": "IPY_MODEL_445f86cbd9624485b112962a67bbfbb3",
            "value": 6
          }
        },
        "41bff0845ba34ea381e832f6a0d81d31": {
          "model_module": "@jupyter-widgets/base",
          "model_name": "LayoutModel",
          "model_module_version": "1.2.0",
          "state": {
            "_model_module": "@jupyter-widgets/base",
            "_model_module_version": "1.2.0",
            "_model_name": "LayoutModel",
            "_view_count": null,
            "_view_module": "@jupyter-widgets/base",
            "_view_module_version": "1.2.0",
            "_view_name": "LayoutView",
            "align_content": null,
            "align_items": null,
            "align_self": null,
            "border": null,
            "bottom": null,
            "display": null,
            "flex": null,
            "flex_flow": "row wrap",
            "grid_area": null,
            "grid_auto_columns": null,
            "grid_auto_flow": null,
            "grid_auto_rows": null,
            "grid_column": null,
            "grid_gap": null,
            "grid_row": null,
            "grid_template_areas": null,
            "grid_template_columns": null,
            "grid_template_rows": null,
            "height": null,
            "justify_content": null,
            "justify_items": null,
            "left": null,
            "margin": null,
            "max_height": null,
            "max_width": null,
            "min_height": null,
            "min_width": null,
            "object_fit": null,
            "object_position": null,
            "order": null,
            "overflow": null,
            "overflow_x": null,
            "overflow_y": null,
            "padding": null,
            "right": null,
            "top": null,
            "visibility": null,
            "width": null
          }
        },
        "3da449d848da4135a2e598f76415236c": {
          "model_module": "@jupyter-widgets/base",
          "model_name": "LayoutModel",
          "model_module_version": "1.2.0",
          "state": {
            "_model_module": "@jupyter-widgets/base",
            "_model_module_version": "1.2.0",
            "_model_name": "LayoutModel",
            "_view_count": null,
            "_view_module": "@jupyter-widgets/base",
            "_view_module_version": "1.2.0",
            "_view_name": "LayoutView",
            "align_content": null,
            "align_items": null,
            "align_self": null,
            "border": null,
            "bottom": null,
            "display": null,
            "flex": null,
            "flex_flow": null,
            "grid_area": null,
            "grid_auto_columns": null,
            "grid_auto_flow": null,
            "grid_auto_rows": null,
            "grid_column": null,
            "grid_gap": null,
            "grid_row": null,
            "grid_template_areas": null,
            "grid_template_columns": null,
            "grid_template_rows": null,
            "height": null,
            "justify_content": null,
            "justify_items": null,
            "left": null,
            "margin": null,
            "max_height": null,
            "max_width": null,
            "min_height": null,
            "min_width": null,
            "object_fit": null,
            "object_position": null,
            "order": null,
            "overflow": null,
            "overflow_x": null,
            "overflow_y": null,
            "padding": null,
            "right": null,
            "top": null,
            "visibility": null,
            "width": null
          }
        },
        "fe36f1ae48db46dea4b4fa77c2c97198": {
          "model_module": "@jupyter-widgets/base",
          "model_name": "LayoutModel",
          "model_module_version": "1.2.0",
          "state": {
            "_model_module": "@jupyter-widgets/base",
            "_model_module_version": "1.2.0",
            "_model_name": "LayoutModel",
            "_view_count": null,
            "_view_module": "@jupyter-widgets/base",
            "_view_module_version": "1.2.0",
            "_view_name": "LayoutView",
            "align_content": null,
            "align_items": null,
            "align_self": null,
            "border": null,
            "bottom": null,
            "display": null,
            "flex": null,
            "flex_flow": null,
            "grid_area": null,
            "grid_auto_columns": null,
            "grid_auto_flow": null,
            "grid_auto_rows": null,
            "grid_column": null,
            "grid_gap": null,
            "grid_row": null,
            "grid_template_areas": null,
            "grid_template_columns": null,
            "grid_template_rows": null,
            "height": null,
            "justify_content": null,
            "justify_items": null,
            "left": null,
            "margin": null,
            "max_height": null,
            "max_width": null,
            "min_height": null,
            "min_width": null,
            "object_fit": null,
            "object_position": null,
            "order": null,
            "overflow": null,
            "overflow_x": null,
            "overflow_y": null,
            "padding": null,
            "right": null,
            "top": null,
            "visibility": null,
            "width": null
          }
        },
        "b5842632b10d441c985e2b9fe94e1d27": {
          "model_module": "@jupyter-widgets/controls",
          "model_name": "SliderStyleModel",
          "model_module_version": "1.5.0",
          "state": {
            "_model_module": "@jupyter-widgets/controls",
            "_model_module_version": "1.5.0",
            "_model_name": "SliderStyleModel",
            "_view_count": null,
            "_view_module": "@jupyter-widgets/base",
            "_view_module_version": "1.2.0",
            "_view_name": "StyleView",
            "description_width": "",
            "handle_color": null
          }
        },
        "03ebbfc5b7b141bfaae6396114e60e0e": {
          "model_module": "@jupyter-widgets/base",
          "model_name": "LayoutModel",
          "model_module_version": "1.2.0",
          "state": {
            "_model_module": "@jupyter-widgets/base",
            "_model_module_version": "1.2.0",
            "_model_name": "LayoutModel",
            "_view_count": null,
            "_view_module": "@jupyter-widgets/base",
            "_view_module_version": "1.2.0",
            "_view_name": "LayoutView",
            "align_content": null,
            "align_items": null,
            "align_self": null,
            "border": null,
            "bottom": null,
            "display": null,
            "flex": null,
            "flex_flow": null,
            "grid_area": null,
            "grid_auto_columns": null,
            "grid_auto_flow": null,
            "grid_auto_rows": null,
            "grid_column": null,
            "grid_gap": null,
            "grid_row": null,
            "grid_template_areas": null,
            "grid_template_columns": null,
            "grid_template_rows": null,
            "height": null,
            "justify_content": null,
            "justify_items": null,
            "left": null,
            "margin": null,
            "max_height": null,
            "max_width": null,
            "min_height": null,
            "min_width": null,
            "object_fit": null,
            "object_position": null,
            "order": null,
            "overflow": null,
            "overflow_x": null,
            "overflow_y": null,
            "padding": null,
            "right": null,
            "top": null,
            "visibility": null,
            "width": null
          }
        },
        "bf095bf538fc46bdb089917b1c4596fd": {
          "model_module": "@jupyter-widgets/controls",
          "model_name": "SliderStyleModel",
          "model_module_version": "1.5.0",
          "state": {
            "_model_module": "@jupyter-widgets/controls",
            "_model_module_version": "1.5.0",
            "_model_name": "SliderStyleModel",
            "_view_count": null,
            "_view_module": "@jupyter-widgets/base",
            "_view_module_version": "1.2.0",
            "_view_name": "StyleView",
            "description_width": "",
            "handle_color": null
          }
        },
        "d8193ea2516648a9a120fc542b0c0e20": {
          "model_module": "@jupyter-widgets/base",
          "model_name": "LayoutModel",
          "model_module_version": "1.2.0",
          "state": {
            "_model_module": "@jupyter-widgets/base",
            "_model_module_version": "1.2.0",
            "_model_name": "LayoutModel",
            "_view_count": null,
            "_view_module": "@jupyter-widgets/base",
            "_view_module_version": "1.2.0",
            "_view_name": "LayoutView",
            "align_content": null,
            "align_items": null,
            "align_self": null,
            "border": null,
            "bottom": null,
            "display": null,
            "flex": null,
            "flex_flow": null,
            "grid_area": null,
            "grid_auto_columns": null,
            "grid_auto_flow": null,
            "grid_auto_rows": null,
            "grid_column": null,
            "grid_gap": null,
            "grid_row": null,
            "grid_template_areas": null,
            "grid_template_columns": null,
            "grid_template_rows": null,
            "height": null,
            "justify_content": null,
            "justify_items": null,
            "left": null,
            "margin": null,
            "max_height": null,
            "max_width": null,
            "min_height": null,
            "min_width": null,
            "object_fit": null,
            "object_position": null,
            "order": null,
            "overflow": null,
            "overflow_x": null,
            "overflow_y": null,
            "padding": null,
            "right": null,
            "top": null,
            "visibility": null,
            "width": null
          }
        },
        "445f86cbd9624485b112962a67bbfbb3": {
          "model_module": "@jupyter-widgets/controls",
          "model_name": "SliderStyleModel",
          "model_module_version": "1.5.0",
          "state": {
            "_model_module": "@jupyter-widgets/controls",
            "_model_module_version": "1.5.0",
            "_model_name": "SliderStyleModel",
            "_view_count": null,
            "_view_module": "@jupyter-widgets/base",
            "_view_module_version": "1.2.0",
            "_view_name": "StyleView",
            "description_width": "",
            "handle_color": null
          }
        }
      }
    }
  },
  "nbformat": 4,
  "nbformat_minor": 0
}