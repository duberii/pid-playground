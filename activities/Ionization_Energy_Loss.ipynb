{
  "cells": [
    {
      "cell_type": "markdown",
      "metadata": {
        "id": "view-in-github",
        "colab_type": "text"
      },
      "source": [
        "<a href=\"https://colab.research.google.com/github/duberii/pid-playground/blob/main/activities/Ionization_Energy_Loss.ipynb\" target=\"_parent\"><img src=\"https://colab.research.google.com/assets/colab-badge.svg\" alt=\"Open In Colab\"/></a>"
      ]
    },
    {
      "cell_type": "markdown",
      "metadata": {
        "id": "dDsATb300uQz"
      },
      "source": [
        "# **Ionization Energy Loss**\n",
        "---\n",
        "Welcome to Particle Identification Playground! This activity is designed to introduce you to ionization energy loss, how it's calculated, and how it's used to identify particles.\n",
        "**Before attempting this notebook, complete all of the activities in the Getting Started section. Also, be sure to complete the \"Drift Chambers and Tracks\" notebook before this one.**\n",
        "\n",
        "**After completing this notebook, you will be able to:**\n",
        "*   Name the effects that cause different particles to lose different amounts of energy in drift chambers\n",
        "*   Demonstrate the separation power of dE/dx analysis using ROOT’s TH2D class\n",
        "*   Classify different charged particles based on their energy loss at fixed momentum\n",
        "\n",
        "\n",
        "\n",
        "\n"
      ]
    },
    {
      "cell_type": "code",
      "execution_count": 1,
      "metadata": {
        "id": "3BAb7xIS0uQ0",
        "cellView": "form",
        "colab": {
          "base_uri": "https://localhost:8080/"
        },
        "outputId": "0a57577c-3f23-415e-ef64-5d06fd90a370"
      },
      "outputs": [
        {
          "output_type": "stream",
          "name": "stdout",
          "text": [
            "Welcome to JupyROOT 6.28/04\n"
          ]
        }
      ],
      "source": [
        "#@title Run this cell before starting. This may take a few minutes to run.\n",
        "!wget -q https://github.com/MohamedElashri/ROOT/releases/download/ubuntu/root_v6.28.04_Ubuntu_20.04.zip\n",
        "!unzip -o -qq /content/root_v6.28.04_Ubuntu_20.04.zip\n",
        "!apt-get -qq install git dpkg-dev cmake g++ gcc binutils libx11-dev libxpm-dev libxft-dev libxext-dev tar gfortran subversion &> /dev/null 2>&1\n",
        "!rm -f root_v6.28.04_Ubuntu_20.04.zip\n",
        "!wget -q http://archive.ubuntu.com/ubuntu/pool/main/o/openssl/libssl1.1_1.1.1f-1ubuntu2_amd64.deb\n",
        "!sudo dpkg -i libssl1.1_1.1.1f-1ubuntu2_amd64.deb &> /dev/null 2>&1\n",
        "!rm -f libssl1.1_1.1.1f-1ubuntu2_amd64.deb\n",
        "!wget -q -O GlueX_Particle_Gun_Simplified.hdf5 https://github.com/duberii/pid-playground/raw/main/data/GlueX_Particle_Gun_Simplified.hdf5\n",
        "!wget -q -O particle_data.hdf5 https://github.com/duberii/pid-playground/raw/main/data/particle_data.hdf5\n",
        "!wget -q -O CDC_hits.hdf5 https://github.com/duberii/pid-playground/raw/main/data/CDC_hits.hdf5\n",
        "!wget -q -O SC.hdf5 https://github.com/duberii/pid-playground/raw/main/data/SC.hdf5\n",
        "!wget -q -O TOF.hdf5 https://github.com/duberii/pid-playground/raw/main/data/TOF.hdf5\n",
        "import sys\n",
        "sys.path.append(\"/content/root_build/\")\n",
        "sys.path.append(\"/content/root_build/bin/\")\n",
        "sys.path.append(\"/content/root_build/include/\")\n",
        "sys.path.append(\"/content/root_build/lib/\")\n",
        "import ctypes\n",
        "ctypes.cdll.LoadLibrary('/content/root_build/lib//libCore.so')\n",
        "ctypes.cdll.LoadLibrary('/content/root_build/lib//libThread.so')\n",
        "ctypes.cdll.LoadLibrary('/content/root_build/lib//libTreePlayer.so')\n",
        "import pandas\n",
        "from ROOT import *\n",
        "import pandas as pd\n",
        "import numpy as np\n",
        "import plotly.express as pxp\n",
        "import pandas as pd\n",
        "import numpy as np\n",
        "import ipywidgets as widgets\n",
        "from ipywidgets import interactive, fixed, widgets, HBox, VBox, Layout\n",
        "from PIL import Image\n",
        "import plotly as ply\n",
        "import plotly.graph_objects as go\n",
        "import math\n",
        "class interactive_image():\n",
        "  def __init__(self,image_path=\"\",x_max = 1, y_max=2*10**-5):\n",
        "    self.figure = go.FigureWidget()\n",
        "    self.x_max = x_max\n",
        "    self.y_max = y_max\n",
        "    self.figure.add_scatter(x=np.linspace(0,self.x_max,1000), y=np.zeros(1000),mode='lines',name='Cut',marker={\"color\":'red'})\n",
        "    print(\"This equation is rescaled by 10**\" + str(math.floor(math.log(self.y_max,10))-1))\n",
        "    if len(image_path)>0:\n",
        "      self.figure.add_layout_image({\"source\":Image.open(image_path),\"xref\":\"x\", \"yref\":\"y\",\"x\": -0.125*self.x_max,\"y\":1.125*self.y_max, \"sizex\": 1.25*self.x_max,\"sizey\":1.25*self.y_max,\"sizing\":\"stretch\",\"opacity\":1,\"layer\":\"below\"})\n",
        "    self.figure.update_xaxes(range=[0, self.x_max],showgrid=False)\n",
        "    self.figure.update_yaxes(range=[0, self.y_max],showgrid=False)\n",
        "    self.figure.update_layout(template=\"plotly_white\",showlegend=False, autosize=False,width=530,height=457,margin=dict(l=30,r=0,b=50,t=50,pad=0), title=\"Ionization Energy Loss vs. Momentum\", xaxis_title=\"Momentum (GeV/c)\", yaxis_title=\"dE/dx\")\n",
        "  def show(self):\n",
        "    self.figure.show()\n",
        "  def update_layout(self, *args, **kwargs):\n",
        "    self.figure.update_layout(*args, **kwargs)\n",
        "  def update(self, *args, **kwargs):\n",
        "    self.figure.update(*args, **kwargs)\n",
        "  def display(self,*args,**kwargs):\n",
        "    widget=interactive(*args,**kwargs)\n",
        "    controls = HBox(widget.children[:-1], layout = Layout(flex_flow='row wrap'))\n",
        "    output = widget.children[-1]\n",
        "    display(VBox([controls, output]))\n",
        "  def update_figure(self,a=1, b=1, c=1):\n",
        "    with self.figure.batch_update():\n",
        "      self.figure.data[0]['y']=10**(math.floor(math.log(self.y_max,10))-1)*(np.exp(a*np.linspace(0,self.x_max,1000)+b)+c)\n",
        "    self.show()\n",
        "from google.colab import output\n",
        "output.enable_custom_widget_manager()\n",
        "particle_data = pd.read_hdf(\"GlueX_Particle_Gun_Simplified.hdf5\")\n",
        "CDC_hits = pd.read_hdf(\"CDC_hits.hdf5\")\n",
        "SC = pd.read_hdf(\"SC.hdf5\")\n",
        "TOF = pd.read_hdf(\"TOF.hdf5\")"
      ]
    },
    {
      "cell_type": "markdown",
      "metadata": {
        "id": "qGFMaUW_wvia"
      },
      "source": [
        "---\n",
        "##**Ionization Energy Loss**\n",
        "---\n",
        "As mentioned in the previous notebook, drift chambers use the fact that charged particles can strip electrons from atoms as they pass through a gas. This process, known as **Ionization**, transfers some of the energy (and momentum) from the particle to the electrons. Compared to the total energy and momentum of the particle, this loss is small, so it doesn't affect any other measurements that we may want to make. However, we can still measure this energy loss and use it to classify particles.\n",
        "\n",
        "It turns out that different particles will lose energy at different rates in the detector. However, particles also lose different amounts of energy based on the distance they travel in the detector. The greater the distance the particle travels in the detector, the more energy it will lose. To correct for this, we can consider the total energy lost ($dE$) divided by the distance traveled in the detector ($dx$), which yields a quantity called **energy loss per unit length** ($dE/dx$). This quantity should help us distinguish between different particles, which we will explore in later sections."
      ]
    },
    {
      "cell_type": "markdown",
      "metadata": {
        "id": "RmSvyS58yIZd"
      },
      "source": [
        "---\n",
        "##**Calculating Ionization Energy Loss [Optional]**\n",
        "---\n",
        "\n",
        "In this section, we will see how we can calculate the ionization energy loss from individual hits in the CDC. However, the process displayed in this part is done automatically by the detector, so it can be skipped without losing any understanding of the particle identification method that uses ionization energy loss."
      ]
    },
    {
      "cell_type": "markdown",
      "metadata": {
        "id": "jBkvCYfX0l5o"
      },
      "source": [
        "---\n",
        "###**Step 1: Calculating Energy Loss**\n",
        "---\n",
        "\n",
        "To figure out the energy loss per unit length, we first need to find the total energy loss, $dE$. The way $dE$ is calculated is too complex to be worth discussing here (especially since we never calculate it manually), but it is calculated from the timing of the pulses of electricity that we detect and the total charge we detect.\n",
        "\n",
        "\n",
        "We can get an estimate of the total energy lost by assuming that the energy lost is proportional to the charge we detect. Why might we assume this? Recall that a charged particle creates other charged particles in the drift chamber via ionization, which is the process of removing electrons from atoms. If you have taken a chemistry class, you may recall that electrons sit in energy levels. In other words, all electrons in the same energy level take the same amount of energy to remove them from the atom."
      ]
    },
    {
      "cell_type": "markdown",
      "source": [
        "####**Question #1:**\n",
        "---\n",
        "Let's say that it takes an energy of $E_{ionization}$ to remove a single electron from an atom. If we detect a total charge of $Q$ as a particle passes through a straw, how much energy did the particle lose? In other words, what is $dE$? **Hint:** How can we convert the charge we detected into a number of electrons we detected?"
      ],
      "metadata": {
        "id": "P8LND11iytC4"
      }
    },
    {
      "cell_type": "markdown",
      "source": [
        "Double click to edit this cell and answer the following question: How much energy did the particle lose?"
      ],
      "metadata": {
        "id": "9Iqk394WzZ5N"
      }
    },
    {
      "cell_type": "markdown",
      "source": [
        "#####**Solution:**"
      ],
      "metadata": {
        "id": "9OtWNbTI0IZ9"
      }
    },
    {
      "cell_type": "markdown",
      "source": [
        "It must be true that\n",
        "$$dE = N * E_{ionization}$$\n",
        "where $N$ is the number of electrons we detect. This equation simply says that the total energy lost is equal to the energy lost per electron times the number of electrons.\n",
        "\n",
        "All we have left to do is find the relationship between the charge we detect ($Q$) and the total number of electrons we detected ($N$). To do this, we just notice that if we multiply the total number of electrons detected ($N$) by the charge per electron ($e$), we should get the total charge we detected. In other words,\n",
        "$Q = e*N$\n",
        "If we divide by $e$ on both sides, we get:\n",
        "$$N=\\frac{Q}{e}$$\n",
        "Plugging this into our expression for $dE$, we get:\n",
        "$$\n",
        "dE = \\frac{Q}{e}*E_{ionization}\n",
        "$$\n",
        "where $dE$ is the energy lost in the straw, $Q$ is the total charge we detected, $e$ is the charge of an electron, and $E_{ionization}$ is the energy it takes to remove a single electron from an atom of the gas in the drift chamber."
      ],
      "metadata": {
        "id": "EKo2B1Gb0LRL"
      }
    },
    {
      "cell_type": "markdown",
      "source": [
        "####**Question #2:**\n",
        "---\n",
        "The equation from the previous question is only an estimate of the energy lost because it only takes into account the ionization energy of the gas. What other kind of energy might an electron have after it is removed from an atom?"
      ],
      "metadata": {
        "id": "8Rsd4Wz92n7E"
      }
    },
    {
      "cell_type": "markdown",
      "source": [
        "Double click to edit this cell and answer the following question: What other kind of energy might an electron have after it is removed from an atom?"
      ],
      "metadata": {
        "id": "r2zgdJ9_2n7N"
      }
    },
    {
      "cell_type": "markdown",
      "source": [
        "#####**Solution:**"
      ],
      "metadata": {
        "id": "1PevtlvX2n7O"
      }
    },
    {
      "cell_type": "markdown",
      "source": [
        "For an electron to be removed from an atom, it has to move! Kinetic energy is the energy associated with motion. Without further information, it is extremely difficult to find out what the kinetic energy of the ionized electrons would be. It depends on what kind of particle is ionizing the atoms and how fast that particle is moving, which we have no way of finding out (in fact, the whole point of us doing this is to figure out the type of particle that is ionizing the atoms- that's the point of PID!).\n",
        "\n",
        "There are tons of other things that could affect the energy loss, but the main three worth mentioning are:\n",
        "\n",
        "1.   A charged particle ionizing multiple electrons from the same atom, which would change the ionization energy\n",
        "2.   A charged particle ionizing an electron from a lower energy level, which would change the ionization energy\n",
        "3.   An ionized electron moves so fast that it ionizes another electron, which would affect our ability to accurately calculate the number of atoms ionized by a charged particle.\n",
        "\n",
        "In practice, the detector gets around all this by \"guessing\" the type of particle that ionized the atoms. This allows it to calculate the energy loss more accurately for each of its guesses, but it doesn't help us figure out which \"guess\" is correct, which is why we still need PID."
      ],
      "metadata": {
        "id": "i3V1D_t_2n7O"
      }
    },
    {
      "cell_type": "markdown",
      "source": [
        "####**Question #3:**\n",
        "---\n",
        "The GlueX Central Drift Chamber uses mainly argon gas. For argon, the average ionization energy is:\n",
        "$$E_{ionization}\\approx 30 \\mbox{ eV} $$\n",
        " Using this information, along with the equation from Question #1, add a `dE` column to the `CDC_hits` dataframe. You can calculate `dE` using the `N` column of the dataframe, which has the number of electrons detected."
      ],
      "metadata": {
        "id": "lmVVVNVU6Dhc"
      }
    },
    {
      "cell_type": "code",
      "source": [
        "CDC_hits['dE']="
      ],
      "metadata": {
        "id": "aWpDrvwt7gem"
      },
      "execution_count": null,
      "outputs": []
    },
    {
      "cell_type": "markdown",
      "source": [
        "#####**Solution:**"
      ],
      "metadata": {
        "id": "P0SDjuBL6Dhl"
      }
    },
    {
      "cell_type": "markdown",
      "source": [
        "We will use the equation: $$\n",
        "dE = N * E_{ionization}\n",
        "$$ where $N$ is the number of electrons detected and $E_{ionization}$ is the ionization energy. See more about this equation in the solution to Question #1."
      ],
      "metadata": {
        "id": "FSWvhYOU8u-b"
      }
    },
    {
      "cell_type": "code",
      "source": [
        "CDC_hits['dE'] = 30 * CDC_hits['q']"
      ],
      "metadata": {
        "id": "DsLtS0Vs8gra"
      },
      "execution_count": null,
      "outputs": []
    },
    {
      "cell_type": "markdown",
      "metadata": {
        "id": "MGtGdmeQqSQw"
      },
      "source": [
        "---\n",
        "###**Step 2: Calculating Path Length**\n",
        "---\n",
        "\n",
        "The other part of ionization energy loss is $dx$, often called the **path length** of the track. The path length refers to the distance that the particle traveled through the detector. However, we only need to measure the distance that the particle travels inside the straws of the drift chamber. Recall that the Central Drift Chamber (CDC) of the GlueX experiment is actually a straw chamber, meaning it is a bundle of \"straws.\" Each straw is a positive wire surrounded by a negatively charged tube."
      ]
    },
    {
      "cell_type": "markdown",
      "source": [
        "![A figure showing the positive wire surrounded by gas inside of the negative tube](data:image/png;base64,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)"
      ],
      "metadata": {
        "id": "L42Zs5mExWlp"
      }
    },
    {
      "cell_type": "markdown",
      "source": [
        "Over a thousand straws are stacked to form the CDC, but because of the shape of the straws, there are small gaps between them. In these regions, the particles still lose energy, but we can't measure the energy lost. In reality, this isn't an issue because the energy lost while traveling through the drift chamber is so small compared to the total energy of the particle. However, to ensure that we have an accurate rate of energy loss, we only want to consider the distance that the particle travels inside the straw."
      ],
      "metadata": {
        "id": "BWKHzVl0yh-o"
      }
    },
    {
      "cell_type": "markdown",
      "source": [
        "![An image showing a track passing through straws in the GlueX CDC. The parts of the track inside the straw is bolded, while the parts of the track outside of the straws are dashed.](data:image/png;base64,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)"
      ],
      "metadata": {
        "id": "MuPPHVCspXqw"
      }
    },
    {
      "cell_type": "markdown",
      "source": [
        "For example, in the picture above, the dotted portions of the track are outside of all of the straws, so we aren't able to measure the energy lost in those regions.\n",
        "\n",
        "How do we measure the distance the particle traveled inside the straw? Again, this part is a little too complicated to be worth deriving manually. However, we can calculate the distance that the particle travels inside the straw based on the timing of the signal we detect. This is because the majority of the delay in our signal actually comes from the time it takes for the ionized particles to reach the charged wire (the \"drift time\").\n",
        "\n",
        "Run the cell below to add a `dx` column to the `CDC_hits` dataframe, which is calculated based on the timing of the hits. You don't need to modify anything in this cell- just be sure to run it!"
      ],
      "metadata": {
        "id": "o1DkuyWxBWdC"
      }
    },
    {
      "cell_type": "code",
      "source": [
        "CDC_hits['dx']= CDC_hits['t'].apply(lambda t: 1.7*(np.log(0.00033*t+1))**0.5)"
      ],
      "metadata": {
        "id": "_X9pDuHzC7t6"
      },
      "execution_count": null,
      "outputs": []
    },
    {
      "cell_type": "markdown",
      "source": [
        "---\n",
        "###**Step 3: Calculating Ionization Energy Loss**\n",
        "---\n",
        "\n",
        "We are finally ready to calculate the ionization energy loss! Based on the timing information and the total charge we detect, we can calculate the energy loss ($dE$) and the path length ($dx$) for each hit. However, because the distance traveled in each straw is so small, it's difficult to get an accurate measure of ionization energy loss for an individual straw. However, if we consider the total energy loss of the track and the total path length of the track (but again, only the length of the path inside the straws), we can get a much more accurate value. These are the steps we will take to calculate the ionization energy loss:\n",
        "\n",
        "1.  For every hit, calculate the energy loss ($dE$) and the path length ($dx$).\n",
        "2.  Find the total energy losses and path length for the track.\n",
        "3.  Calculate the ionization energy loss ($dE/dx$).\n",
        "\n",
        "In steps 1 and 2, you completed the first item, so we only need to worry about item 2 and item 3."
      ],
      "metadata": {
        "id": "1SXau_POX7xZ"
      }
    },
    {
      "cell_type": "markdown",
      "source": [
        "####**Question #4:**\n",
        "---\n",
        "Each row in the `CDC_hits` dataframe represents a single track. In the `dE` and `dx` columns you calculated, there is a list that contains the $dE$ and $dx$ values for each hit associated with that track.\n",
        "\n",
        "**Note:** The `sum` method of the dataframe will find the sum of the entire column (instead of taking the sum track-by-track). Instead, to calculate the total energy loss and total path length, you should use the `.apply(sum)`. For example, to calculate the total energy lost by each track, you would do something like:\n",
        "```\n",
        "CDC_hits['total dE']= CDC_hits['dE'].apply(sum)\n",
        "```\n",
        "\n",
        "In the cell below, write code that calculates the sum of the $dE$ values and the sum of the $dx$ values, calculates the ionization energy loss value, then stores the result in another column called `dE/dx`."
      ],
      "metadata": {
        "id": "R3m9Ae9duK3I"
      }
    },
    {
      "cell_type": "code",
      "source": [
        "CDC_hits['dE/dx']="
      ],
      "metadata": {
        "id": "xhi23C9ouI9S"
      },
      "execution_count": null,
      "outputs": []
    },
    {
      "cell_type": "markdown",
      "source": [
        "#####**Solution:**"
      ],
      "metadata": {
        "id": "se5XcP_sw-ht"
      }
    },
    {
      "cell_type": "code",
      "source": [
        "CDC_hits['dE/dx']=CDC_hits['dE'].apply(sum)/CDC_hits['dx'].apply(sum)"
      ],
      "metadata": {
        "id": "SaF5xsj6ufdf"
      },
      "execution_count": null,
      "outputs": []
    },
    {
      "cell_type": "markdown",
      "source": [
        "---\n",
        "##**Plotting Ionization Energy Loss**\n",
        "---\n",
        "The best way to see how ionization energy loss helps us identify particles is to visualize the relationship between ionization energy loss and momentum. These next few questions will walk you through creating an ionization energy loss plot. It may be useful to review the \"Introduction to ROOT\" and \"2D Histograms in ROOT\" activities before completing this section."
      ],
      "metadata": {
        "id": "su1P_2twadK0"
      }
    },
    {
      "cell_type": "markdown",
      "source": [
        "####**Question #5:**\n",
        "---\n",
        "\n",
        "In the cell below, create a canvas with the following properties using ROOT's TCanvas constructor:\n",
        "\n",
        "\n",
        "\n",
        "*   Name: \"c1\"\n",
        "*   Title: \"Ionization Energy Loss Plot\"\n",
        "*   Width: 700\n",
        "*   Height: 500"
      ],
      "metadata": {
        "id": "TQzi-iOZ8kpz"
      }
    },
    {
      "cell_type": "code",
      "source": [
        "canvas ="
      ],
      "metadata": {
        "id": "ZC8Umjzo-G8_"
      },
      "execution_count": null,
      "outputs": []
    },
    {
      "cell_type": "markdown",
      "source": [
        "#####**Solution:**"
      ],
      "metadata": {
        "id": "XndUDkOv-I81"
      }
    },
    {
      "cell_type": "code",
      "source": [
        "canvas = TCanvas(\"c1\",\"Ionization Energy Loss Plot\",700,500)"
      ],
      "metadata": {
        "id": "j8HPWxWJ-MiL"
      },
      "execution_count": null,
      "outputs": []
    },
    {
      "cell_type": "markdown",
      "source": [
        "####**Question #6:**\n",
        "---\n",
        "In the cell below, create a 2D Histogram with the following properties using ROOT's TH2D constructor:\n",
        "\n",
        "Write code in the cell below to create a histogram with the following properties:\n",
        "\n",
        "*   Name: \"h1\"\n",
        "*   Title: \"Ionization Energy Loss vs. Momentum\"\n",
        "*   X axis label: \"Momentum (GeV/c)\"\n",
        "*   Y axis label: \"Ionization Energy Loss\"\n",
        "*   Number of bins: 200 (both X and Y)\n",
        "*   Minimum X value: 0\n",
        "*   Maximum X value: 1\n",
        "*   Minimum Y value: 0\n",
        "*   Maximum Y value: 0.00002 $\\left (2 * 10^{-5}\\right )$"
      ],
      "metadata": {
        "id": "tHpBTRZq-eFj"
      }
    },
    {
      "cell_type": "code",
      "source": [
        "h1 ="
      ],
      "metadata": {
        "id": "j7Q1w6BK_D0x"
      },
      "execution_count": null,
      "outputs": []
    },
    {
      "cell_type": "markdown",
      "source": [
        "#####**Solution:**"
      ],
      "metadata": {
        "id": "ikGDulIt_FAx"
      }
    },
    {
      "cell_type": "code",
      "source": [
        "h1 = TH2D(\"h1\",\"Ionization Energy Loss vs. Momentum;Momentum (GeV/c);Ionization Energy Loss\",200,0,1,200,0,2*10**-5)"
      ],
      "metadata": {
        "id": "gmaMBCCB_I97"
      },
      "execution_count": null,
      "outputs": []
    },
    {
      "cell_type": "markdown",
      "source": [
        "####**Question #7**\n",
        "---\n",
        "Complete the loop in the cell below to use the Fill method of the TH2D object to fill in the histogram with the momenta and ionization energy losses stored in the dataframe called `particle_data`, which has a column named \"p\" (magnitude of momentum) and a column named \"dEdxCDC\" (ionization energy loss in the Central Drift Chamber). Finally, draw the filled histogram."
      ],
      "metadata": {
        "id": "nUpWJeV4AThJ"
      }
    },
    {
      "cell_type": "code",
      "source": [
        "for row in #Complete this code\n",
        "  #Complete this code\n",
        "h1.Draw('COLZ')\n",
        "gROOT.GetListOfCanvases().Draw()"
      ],
      "metadata": {
        "id": "Z3y3q8ZlB0Ex"
      },
      "execution_count": null,
      "outputs": []
    },
    {
      "cell_type": "markdown",
      "source": [
        "#####**Solution:**"
      ],
      "metadata": {
        "id": "PP8_4LS0CsxT"
      }
    },
    {
      "cell_type": "code",
      "source": [
        "for row in particle_data.iloc:\n",
        "  h1.Fill(row['p'],row['dEdxCDC'])\n",
        "h1.Draw('COLZ')\n",
        "gROOT.GetListOfCanvases().Draw()"
      ],
      "metadata": {
        "colab": {
          "base_uri": "https://localhost:8080/",
          "height": 489
        },
        "id": "Lcox9iXeCvgg",
        "outputId": "90e5da2c-eb89-4b41-fbdc-09590588ad1d"
      },
      "execution_count": null,
      "outputs": [
        {
          "output_type": "display_data",
          "data": {
            "image/png": "[encoded data removed]",
            "text/plain": [
              "<IPython.core.display.Image object>"
            ]
          },
          "metadata": {}
        }
      ]
    },
    {
      "cell_type": "markdown",
      "source": [
        "####**Question #8:**\n",
        "---\n",
        "\n",
        "You can also save canvases! In Google Colab, you can just right click and select \"Save Image as\". However, in many other situations, it is useful to save an image in your code. Lucky for us, ROOT's TCanvas class has a `SaveAs` method, which allows us to save an image. The syntax is as follows:\n",
        "```\n",
        "canvas.SaveAs(\"filename.png\")\n",
        "```\n",
        "\n",
        "In the cell below, use the TH2D's `SetStats` method to remove the statistics box from the plot. Then, use TCanvas's `SaveAs` method to save your plot as \"dEdxPlot.png\"."
      ],
      "metadata": {
        "id": "HkFauHXDC38e"
      }
    },
    {
      "cell_type": "code",
      "source": [],
      "metadata": {
        "id": "Q3y-EZunEnMj"
      },
      "execution_count": null,
      "outputs": []
    },
    {
      "cell_type": "markdown",
      "source": [
        "#####**Solution:**"
      ],
      "metadata": {
        "id": "l3tYE9KiEnlT"
      }
    },
    {
      "cell_type": "code",
      "source": [
        "h1.SetStats(0)\n",
        "canvas.SaveAs(\"dEdxPlot.png\")"
      ],
      "metadata": {
        "colab": {
          "base_uri": "https://localhost:8080/"
        },
        "id": "TfPxoU2PEqjL",
        "outputId": "4c61951f-e3d0-4c58-bfb6-d7ebaad649c5"
      },
      "execution_count": null,
      "outputs": [
        {
          "output_type": "stream",
          "name": "stderr",
          "text": [
            "Info in <TCanvas::Print>: png file dEdxPlot.png has been created\n"
          ]
        }
      ]
    },
    {
      "cell_type": "markdown",
      "source": [
        "**Note:** To check that your solution worked, you can click the folder icon shown to the left, which should show you all of the files that are saved on the remote computer that this notebook is running on. You should see a file in the menu called \"dEdxPlot.png\". If you'd like, you can right click the file and select \"Download\" to download the image to your computer. Otherwise, the file will be deleted when you close out of the notebook (files are not saved in Google Colab, but the code is saved, so you can come back and recreate the image at any time!)"
      ],
      "metadata": {
        "id": "MvpDaliuExbo"
      }
    },
    {
      "cell_type": "markdown",
      "source": [
        "#### **Question #9:**\n",
        "---\n",
        "If you completed the \"Calculating Ionization Energy Loss\" section, the `CDC_hits` dataframe should also have columns titled `p` and `dE/dx`. Create a 2D histogram of momentum vs. rate of ionization energy loss. Note that because the ionization energy loss is in a different unit than those in previous questions, the y range of your plot should be much larger. Try using these properties:\n",
        "\n",
        "*   Name: \"h1\"\n",
        "*   Title: \"Ionization Energy Loss vs. Momentum\"\n",
        "*   X axis label: \"Momentum (GeV/c)\"\n",
        "*   Y axis label: \"Ionization Energy Loss\"\n",
        "*   Number of bins: 200 (both X and Y)\n",
        "*   Minimum X value: 0\n",
        "*   Maximum X value: 1\n",
        "*   Minimum Y value: 0\n",
        "*   Maximum Y value: 10000000\n",
        "\n",
        "\n",
        "What do you notice about this plot?"
      ],
      "metadata": {
        "id": "1Hjh-q7kxKMz"
      }
    },
    {
      "cell_type": "code",
      "source": [
        "c1 ="
      ],
      "metadata": {
        "id": "uzmKnQwez-xN"
      },
      "execution_count": null,
      "outputs": []
    },
    {
      "cell_type": "markdown",
      "source": [
        "Double click to edit this cell and answer the following question: What do you notice about this plot?"
      ],
      "metadata": {
        "id": "1nKWCcbp3LSL"
      }
    },
    {
      "cell_type": "markdown",
      "source": [
        "#####**Solution:**"
      ],
      "metadata": {
        "id": "tR9c8yBWz_ZH"
      }
    },
    {
      "cell_type": "code",
      "source": [
        "c1 = TCanvas(\"c1\",\"c1\",700,500)\n",
        "h1 = TH2D(\"h1\",\"Ionization Energy Loss vs. Momentum;Momentum (GeV/c);Ionization Energy Loss\",200,0,1,200,0,10000000)\n",
        "for row in CDC_hits.iloc:\n",
        "  h1.Fill(row['p'],row['dE/dx'])\n",
        "h1.SetStats(0)\n",
        "h1.Draw('COLZ')\n",
        "gROOT.GetListOfCanvases().Draw()"
      ],
      "metadata": {
        "colab": {
          "base_uri": "https://localhost:8080/",
          "height": 524
        },
        "id": "BTLETRPuAD7Z",
        "outputId": "84278dea-a13a-4500-8714-cfd47e4763ad"
      },
      "execution_count": null,
      "outputs": [
        {
          "output_type": "stream",
          "name": "stderr",
          "text": [
            "Warning in <TCanvas::Constructor>: Deleting canvas with same name: c1\n",
            "Warning in <TROOT::Append>: Replacing existing TH1: h1 (Potential memory leak).\n"
          ]
        },
        {
          "output_type": "display_data",
          "data": {
            "image/png": "[encoded data removed]",
            "text/plain": [
              "<IPython.core.display.Image object>"
            ]
          },
          "metadata": {}
        }
      ]
    },
    {
      "cell_type": "markdown",
      "source": [
        "Because we only estimated the energy loss, the plot doesn't look as nice as the other ones. However, we can still see one faint stripe (a vertical line around 0.3 GeV/c in momentum), which likely corresponds to a specific particle. However, the vast majority of the points are closer to 1 GeV/c in momentum and have very low energy loss, which is seen in the more accurate plots as well."
      ],
      "metadata": {
        "id": "hh9oEX2P3UQA"
      }
    },
    {
      "cell_type": "markdown",
      "source": [
        "---\n",
        "## **Interpreting Ionization Energy Loss Plots**\n",
        "---\n",
        "In the previous questions, you created a plot that looked something like this one:"
      ],
      "metadata": {
        "id": "K8IX2VS93ULP"
      }
    },
    {
      "cell_type": "code",
      "source": [
        "# @title\n",
        "canvas = TCanvas(\"c1\",\"Ionization Energy Loss Plot\",700,500)\n",
        "h1 = TH2D(\"h1\",\"Ionization Energy Loss vs. Momentum;Momentum (GeV/c);Ionization Energy Loss\",200,0,1,200,0,2*10**-5)\n",
        "for row in particle_data.iloc:\n",
        "  h1.Fill(row['p'],row['dEdxCDC'])\n",
        "h1.SetStats(0)\n",
        "h1.Draw('COLZ')\n",
        "gROOT.GetListOfCanvases().Draw()"
      ],
      "metadata": {
        "colab": {
          "base_uri": "https://localhost:8080/",
          "height": 524
        },
        "cellView": "form",
        "id": "S4ZI8ZbUGwig",
        "outputId": "5bce702a-9ac7-472b-97a1-3e5e822eb52b"
      },
      "execution_count": null,
      "outputs": [
        {
          "output_type": "stream",
          "name": "stderr",
          "text": [
            "Warning in <TCanvas::Constructor>: Deleting canvas with same name: c1\n",
            "Warning in <TROOT::Append>: Replacing existing TH1: h1 (Potential memory leak).\n"
          ]
        },
        {
          "output_type": "display_data",
          "data": {
            "image/png": "[encoded data removed]",
            "text/plain": [
              "<IPython.core.display.Image object>"
            ]
          },
          "metadata": {}
        }
      ]
    },
    {
      "cell_type": "markdown",
      "source": [
        "You may notice that there are a few different stripes on the histogram where the bins are extra full. Each of these stripes corresponds to a different particle we detect! For low momentum (below 0.7 GeV/c), you'll notice that the different stripes are pretty far apart, which makes it pretty easy to tell them apart. However, at higher momentum (above 0.7 GeV/c), all of the stripes start to blend together, which makes high-momentum particles extremely difficult to identify. At lower momentum, ionization energy loss is an extremely powerful method of particle identification."
      ],
      "metadata": {
        "id": "SJjjvyQnLEiC"
      }
    },
    {
      "cell_type": "markdown",
      "source": [
        "###**Question #10:**\n",
        "---\n",
        "The code below plots the ionization energy loss and momentum for particles identified as protons. Use the dropdown menu to change the particle that is plotted. Try to identify all of the stripes in the histogram shown above."
      ],
      "metadata": {
        "id": "6QbMFVDoQCk-"
      }
    },
    {
      "cell_type": "code",
      "source": [
        "# @title { run: \"auto\" }\n",
        "particle_to_plot = \"Proton\" # @param [\"Proton\", \"Kaon+\", \"Pion+\", \"Electron\"]\n",
        "canvas = TCanvas(\"c1\",\"Ionization Energy Loss Plot\",700,500)\n",
        "h1 = TH2D(\"h1\",\"Ionization Energy Loss vs. Momentum for \" + particle_to_plot + \"s;Momentum (GeV/c);Ionization Energy Loss\",200,0,1,200,0,2*10**-5)\n",
        "for row in particle_data.loc[particle_data['Particle']== particle_to_plot].iloc:\n",
        "  h1.Fill(row['p'],row['dEdxCDC'])\n",
        "h1.SetStats(0)\n",
        "h1.Draw('COLZ')\n",
        "gROOT.GetListOfCanvases().Draw()"
      ],
      "metadata": {
        "colab": {
          "base_uri": "https://localhost:8080/",
          "height": 524
        },
        "cellView": "form",
        "id": "x2YApYYiRErv",
        "outputId": "19f01184-11ba-42db-b97c-bb90f27b5c20"
      },
      "execution_count": null,
      "outputs": [
        {
          "output_type": "stream",
          "name": "stderr",
          "text": [
            "Warning in <TCanvas::Constructor>: Deleting canvas with same name: c1\n",
            "Warning in <TROOT::Append>: Replacing existing TH1: h1 (Potential memory leak).\n"
          ]
        },
        {
          "output_type": "display_data",
          "data": {
            "image/png": "[encoded data removed]",
            "text/plain": [
              "<IPython.core.display.Image object>"
            ]
          },
          "metadata": {}
        }
      ]
    },
    {
      "cell_type": "markdown",
      "source": [
        "####**Solution:**"
      ],
      "metadata": {
        "id": "Iuux1yTrUZRN"
      }
    },
    {
      "cell_type": "markdown",
      "source": [
        "![A labelled dE/dx plot](data:image/png;base64,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)"
      ],
      "metadata": {
        "id": "tCBUANuoUmuW"
      }
    },
    {
      "cell_type": "markdown",
      "source": [
        "From top to bottom, we have Protons, Kaons, Electrons, then Pions."
      ],
      "metadata": {
        "id": "OhnP5jFLUsux"
      }
    },
    {
      "cell_type": "markdown",
      "source": [
        "---\n",
        "##**Making Cuts**\n",
        "---\n",
        "\n",
        "To turn these stripes into a classification tool, we use **cuts**. Cuts are conditions that we use to make restrictions on our data. In many cases, our cuts take the form of inequalities. For example, we may say that if the mass of a particle is greater than 0.7 GeV/c^2, then it is a Proton. The corresponding cut would be $m>0.7$, where $m$ is the mass of the particle.\n",
        "\n",
        "\n",
        "For ionization energy loss, our cuts are a little more complicated. The stripes resemble exponential decays, so we use cuts of the form:\n",
        "$$\n",
        "dE/dx * 10^6 > e^{a*p + b}+c\n",
        "$$\n",
        "or $$\n",
        "dE/dx * 10^6 < e^{a*p + b}+c\n",
        "$$\n",
        "where $dE/dx$ is the ionization energy loss, $e$ is Euler's constant, $p$ is the magnitude of momentum, and $a, b,$ and $c$ are constants that we can change to find a good cut. Multiplying the ionization energy loss by $10^6$ makes it so that the constants $a$, $b$, and $c$ don't have to be ridiculous small.\n",
        "\n",
        "Below, you can change the sliders for $a$, $b$, and $c$ to see their effect on the graph."
      ],
      "metadata": {
        "id": "fNYNmvzuU2fE"
      }
    },
    {
      "cell_type": "code",
      "source": [
        "# @title\n",
        "fig = interactive_image()\n",
        "fig.update()\n",
        "fig.display(fig.update_figure, a=(-10,0,0.01),b=(0,10,0.01), c=(0,10,0.01))"
      ],
      "metadata": {
        "colab": {
          "base_uri": "https://localhost:8080/",
          "height": 523,
          "referenced_widgets": [
            "cfc8f8ea6d5a4b83af4d88ea2044ecd4",
            "8aa36192c97540e68fb526ce1c010218",
            "cbf35ef864de4089bac0927195040543",
            "2b88b1c5aa184c4c9597325b51293273",
            "d7530406294242b7898bd76322c8d99d",
            "bc0ab5f460fb44d6be5493032ce80149",
            "52da0ee1ede14176a26d3d5c1f0bc497",
            "30aa002ff36f48e9989c822c3bbe0246",
            "68dfb45084074373898aa349781bbbfc",
            "559523de01794846ae2bd1c92915aec1",
            "533ab7be6c1b4afe8f074f2c220e20bf",
            "4c8d2b1af4424aea847c7c4f85e7e2e9",
            "26a1faaebd454da8a099f57e52c14203",
            "43a0b72eed8847e6b77ecbd57c7e8504",
            "8227cc98f3af4557b0872873a094ea02"
          ]
        },
        "id": "hO3-hK3-ZY7p",
        "outputId": "f08213b1-e9e1-4742-976d-b53d06469101",
        "cellView": "form"
      },
      "execution_count": null,
      "outputs": [
        {
          "output_type": "stream",
          "name": "stdout",
          "text": [
            "This equation is rescaled by 10**-6\n"
          ]
        },
        {
          "output_type": "display_data",
          "data": {
            "text/plain": [
              "VBox(children=(HBox(children=(FloatSlider(value=0.0, description='a', max=0.0, min=-10.0, step=0.01), FloatSli…"
            ],
            "application/vnd.jupyter.widget-view+json": {
              "version_major": 2,
              "version_minor": 0,
              "model_id": "cfc8f8ea6d5a4b83af4d88ea2044ecd4"
            }
          },
          "metadata": {
            "application/vnd.jupyter.widget-view+json": {
              "colab": {
                "custom_widget_manager": {
                  "url": "https://ssl.gstatic.com/colaboratory-static/widgets/colab-cdn-widget-manager/2b70e893a8ba7c0f/manager.min.js"
                }
              }
            }
          }
        }
      ]
    },
    {
      "cell_type": "markdown",
      "source": [
        "Notice that $a$ changes how curved the line is, $b$ stretches it vertically, and $c$ just moves the line up and down. These three constants are enough to get extremely powerful cuts.\n",
        "\n",
        "For example, the interactive plot shown below plots the graph of our cut over the ionization energy loss plot for protons."
      ],
      "metadata": {
        "id": "_K7JawlAZ0Et"
      }
    },
    {
      "cell_type": "code",
      "source": [
        "# @title\n",
        "particle_to_plot=\"Proton\"\n",
        "canvas = TCanvas(\"c1\",\"Ionization Energy Loss Plot\",700,500)\n",
        "h1 = TH2D(\"h1\",\"Ionization Energy Loss vs. Momentum for \" + particle_to_plot + \"s;Momentum (GeV/c);Ionization Energy Loss\",200,0,1,200,0,2*10**-5)\n",
        "for row in particle_data.loc[particle_data['Particle']== particle_to_plot].iloc:\n",
        "  h1.Fill(row['p'],row['dEdxCDC'])\n",
        "h1.SetStats(0)\n",
        "h1.Draw('COLZ')\n",
        "canvas.SaveAs(\"Proton.png\")\n",
        "fig = interactive_image(\"Proton.png\")\n",
        "fig.update()\n",
        "fig.display(fig.update_figure, a=(-10,0,0.01),b=(0,10,0.01), c=(0,10,0.01))"
      ],
      "metadata": {
        "colab": {
          "base_uri": "https://localhost:8080/",
          "height": 575,
          "referenced_widgets": [
            "97acaaa0d30b4f8b9dbe85af7e9e47cb",
            "41c540acb8af47b4a33ee2d25398b5ad",
            "e7ca24bdaa6f4662ababf7cb066c074e",
            "f2f4bd63df90420797f8e704f5749f66",
            "773787b52ba74c86a4c090cb4c13bd05",
            "7bd97baeaa87449d88f23a6df7b1bb56",
            "b7fcfefef86745ff9b886ab8164489ce",
            "85a377c586f24185a032504a1ac118ff",
            "d43e2f86e5794c68b822fb3063d3bd61",
            "dbcb84a74fa04fdd92b07e0a25af2b57",
            "cc4e8b84101742be958bccd3b5c997a8",
            "df748815b64f4691aba700e202af2c83",
            "53502c568a3e45268473493a3e5933ba",
            "3286126dabc646e7af577ef81110879b",
            "31b10d4cbb5a4cbe8817c0e1d489231d"
          ]
        },
        "id": "55zhx63YcVkX",
        "outputId": "0152f073-1423-4748-c04b-080c0577ab27",
        "cellView": "form"
      },
      "execution_count": null,
      "outputs": [
        {
          "output_type": "stream",
          "name": "stdout",
          "text": [
            "This equation is rescaled by 10**-6\n"
          ]
        },
        {
          "output_type": "display_data",
          "data": {
            "text/plain": [
              "VBox(children=(HBox(children=(FloatSlider(value=0.0, description='a', max=0.0, min=-10.0, step=0.01), FloatSli…"
            ],
            "application/vnd.jupyter.widget-view+json": {
              "version_major": 2,
              "version_minor": 0,
              "model_id": "97acaaa0d30b4f8b9dbe85af7e9e47cb"
            }
          },
          "metadata": {
            "application/vnd.jupyter.widget-view+json": {
              "colab": {
                "custom_widget_manager": {
                  "url": "https://ssl.gstatic.com/colaboratory-static/widgets/colab-cdn-widget-manager/2b70e893a8ba7c0f/manager.min.js"
                }
              }
            }
          }
        },
        {
          "output_type": "stream",
          "name": "stderr",
          "text": [
            "Warning in <TCanvas::Constructor>: Deleting canvas with same name: c1\n",
            "Warning in <TROOT::Append>: Replacing existing TH1: h1 (Potential memory leak).\n",
            "Info in <TCanvas::Print>: png file Proton.png has been created\n"
          ]
        }
      ]
    },
    {
      "cell_type": "markdown",
      "source": [
        "If we set $a=-4.8$, $b=3.6$, and $c=1.5$, we get a line that separates the proton curve (displayed above) from all of the other curves. Therefore, when classifying our particles, we could say that a particle is a proton if:\n",
        "$$\n",
        "dE/dx > e^{(-2.5*p+2.3)}+1.4\n",
        "$$\n",
        "We can also find a cut to place as an upper bound. In this case, we might require that:\n",
        "$$\n",
        "dE/dx < e^{(-5.8*p+4.55)} + 3.45\n",
        "$$\n",
        "For protons, this is actually unnecessary, since there are no particles seen in the GlueX experiment that appear above protons in an ionization energy loss plot."
      ],
      "metadata": {
        "id": "eTQjkAgDdbV9"
      }
    },
    {
      "cell_type": "markdown",
      "source": [
        "###**Question #11:**\n",
        "---\n",
        "Repeat the process described above to find cuts (both above and below) that help classify kaons, pions, and electrons.\n",
        "\n",
        "**Note:** To make a horizontal line, you can set $a$ and $b$ to 0. Then, you can change $c$ to get a cut of the form $dE/dx > c + 1$ or $dE/dx < c+1$. The $c+1$ comes from plugging $a=b=0$ into the exponential equation:\n",
        "$$\n",
        "e^{(0*p+0)}+c = e^0 + c = c + 1\n",
        "$$"
      ],
      "metadata": {
        "id": "Dbz0hDlGaZ1M"
      }
    },
    {
      "cell_type": "markdown",
      "source": [
        "Double click to edit this cell and answer the following question: What cuts should be made for protons, kaons, pions, and electrons in the central drift chamber?"
      ],
      "metadata": {
        "id": "ZVAb8xluDm1B"
      }
    },
    {
      "cell_type": "code",
      "source": [
        "# @title { run: \"auto\" }\n",
        "particle_to_plot = \"Proton\" # @param [\"Proton\", \"Kaon+\", \"Pion+\", \"Electron\"]\n",
        "canvas = TCanvas(\"c1\",\"Ionization Energy Loss Plot\",700,500)\n",
        "h1 = TH2D(\"h1\",\"Ionization Energy Loss vs. Momentum for \" + particle_to_plot + \"s;Momentum (GeV/c);Ionization Energy Loss\",200,0,1,200,0,2*10**-5)\n",
        "for row in particle_data.loc[particle_data['Particle']== particle_to_plot].iloc:\n",
        "  h1.Fill(row['p'],row['dEdxCDC'])\n",
        "h1.SetStats(0)\n",
        "h1.Draw('COLZ')\n",
        "canvas.SaveAs(particle_to_plot + \".png\")\n",
        "fig = interactive_image(particle_to_plot + \".png\")\n",
        "fig.update()\n",
        "fig.display(fig.update_figure, a=(-10,0,0.01),b=(0,10,0.01), c=(0,10,0.01))"
      ],
      "metadata": {
        "colab": {
          "base_uri": "https://localhost:8080/",
          "height": 101,
          "referenced_widgets": [
            "d80d1cff50164222be9b6ee574182537",
            "67026cdabdee49ccae4902be27122130",
            "7cf76db6c4454fb5b5b23480af1e46b7",
            "cc32b4f515c44ecf96486cfca1e23e25",
            "82ae7016513146ecb6b3e9623e1710f3",
            "accd5af1b19347c88dcaf3c25c70ab56",
            "924e0261182a4511ae50d71c1d2a3fa6",
            "cfd6bf14c148426bb6e868c4349bb3ef",
            "e81034078d2f4e7ea4da01a352c48943",
            "563c88bc10bf4335b13a243ff7378951",
            "8627adea82ae48a58b96780ff11ea4db",
            "bd8d35ec9a67450bac51dc109b80bb03",
            "523886aedae243b3ac617da44008f54e",
            "ca1ebf7358d5411bb4ff0da4bb91d55e",
            "61602935f68c4d228b479fb8816aff98"
          ]
        },
        "id": "XHZ4Ct9g2jr1",
        "outputId": "b96f8350-28c6-4f05-c307-4f65f5914e2b",
        "cellView": "form"
      },
      "execution_count": null,
      "outputs": [
        {
          "output_type": "display_data",
          "data": {
            "text/plain": [
              "VBox(children=(HBox(children=(FloatSlider(value=0.0, description='a', max=0.0, min=-10.0, step=0.01), FloatSli…"
            ],
            "application/vnd.jupyter.widget-view+json": {
              "version_major": 2,
              "version_minor": 0,
              "model_id": "d80d1cff50164222be9b6ee574182537"
            }
          },
          "metadata": {
            "application/vnd.jupyter.widget-view+json": {
              "colab": {
                "custom_widget_manager": {
                  "url": "https://ssl.gstatic.com/colaboratory-static/widgets/colab-cdn-widget-manager/2b70e893a8ba7c0f/manager.min.js"
                }
              }
            }
          }
        },
        {
          "output_type": "stream",
          "name": "stderr",
          "text": [
            "Warning in <TCanvas::Constructor>: Deleting canvas with same name: c1\n",
            "Warning in <TROOT::Append>: Replacing existing TH1: h1 (Potential memory leak).\n",
            "Info in <TCanvas::Print>: png file Proton.png has been created\n"
          ]
        }
      ]
    },
    {
      "cell_type": "markdown",
      "source": [
        "####**Solution:**"
      ],
      "metadata": {
        "id": "a2HfciCQgJKm"
      }
    },
    {
      "cell_type": "markdown",
      "source": [
        "**Proton:**$$\n",
        "dE/dx > e^{(-2.5*p+2.3)}+1.4\n",
        "$$\n",
        "**Kaon:**$$\n",
        "dE/dx > e^{(-4.9*p+2.3)}+1.45\n",
        "$$\n",
        "and\n",
        "$$\n",
        "dE/dx < e^{(-4.36*p+2.3)}+2.3\n",
        "$$\n",
        "**Pion:** $$\n",
        "dE/dx > 2.25\n",
        "$$\n",
        "and $$\n",
        "dE/dx < 3.14\n",
        "$$\n",
        "**Electron:**$$\n",
        "dE/dx > 1.59\n",
        "$$\n",
        "and\n",
        "$$\n",
        "dE/dx < 2.49\n",
        "$$"
      ],
      "metadata": {
        "id": "W04JYfFPgMv2"
      }
    },
    {
      "cell_type": "markdown",
      "source": [
        "###**Question #12:**\n",
        "---\n",
        "Finally, we will define a function to classify particles! Complete the function definition shown below to apply the cuts and identify particles based on their momentum and ionization energy loss! **Hint:** use `np.exp(a)` to calculate $e^a$."
      ],
      "metadata": {
        "id": "RfwOZzaVg6Ne"
      }
    },
    {
      "cell_type": "code",
      "source": [
        "def identify_particle(p, dEdx):\n",
        "  if #Condition for proton\n",
        "    return \"Proton\"\n",
        "  elif #Condition for kaon\n",
        "    return \"Kaon\"\n",
        "  elif #Condition for pion\n",
        "    return \"Pion\"\n",
        "  elif #Condition for electron\n",
        "    return \"Electron\"\n",
        "  else:\n",
        "    return \"No ID\""
      ],
      "metadata": {
        "id": "E0laz-nGg3NF"
      },
      "execution_count": null,
      "outputs": []
    },
    {
      "cell_type": "markdown",
      "source": [
        "#####**Solution:**"
      ],
      "metadata": {
        "id": "9xgB3nAohr0F"
      }
    },
    {
      "cell_type": "code",
      "source": [
        "def identify_particle(p, dEdx):\n",
        "  if dEdx *10**6> np.exp(-2.5*p+2.3)+1.4:\n",
        "    return \"Proton\"\n",
        "  elif dEdx *10**6> np.exp(-4.9*p+2.3)+1.45 and dEdx *10**6< np.exp(-4.36*p+2.3)+2.3:\n",
        "    return \"Kaon+\"\n",
        "  elif dEdx *10**6> 1.59 and dEdx *10**6 < 2.49:\n",
        "    return \"Pion\"\n",
        "  elif dEdx *10**6> 2.25 and dEdx *10**6< 3.14:\n",
        "    return \"Electron\"\n",
        "  else:\n",
        "    return \"No ID\""
      ],
      "metadata": {
        "id": "WB3vG4aChui5"
      },
      "execution_count": null,
      "outputs": []
    },
    {
      "cell_type": "markdown",
      "source": [
        "###**Question #13:**\n",
        "---\n",
        "We can also measure ionization energy loss in other detectors (not just drift chambers). One such detector is the start counter, which is the first detector that most particles come in contact with. It surrounds the target of the detector, so any charged particle that is created in the target should interact with the start counter. Use the sliders below to find similar cuts for ionization energy loss in the start counter."
      ],
      "metadata": {
        "id": "iXuRP6BU-oVl"
      }
    },
    {
      "cell_type": "markdown",
      "source": [
        "Double click to edit this cell and answer the following question: What cuts should be made for protons, kaons, pions, and electrons in the start counter?"
      ],
      "metadata": {
        "id": "FIfQpj-nDgI4"
      }
    },
    {
      "cell_type": "code",
      "source": [
        "# @title\n",
        "particle_to_plot = \"Electron\" # @param [\"Proton\", \"K+\", \"Pi+\", \"Electron\"]\n",
        "canvas = TCanvas(\"c1\",\"Ionization Energy Loss Plot\",700,500)\n",
        "h1 = TH2D(\"h1\",\"Ionization Energy Loss vs. Momentum for \" + particle_to_plot + \"s in the Start Counter;Momentum (GeV/c);Ionization Energy Loss\",200,0,2,200,0,0.01)\n",
        "SC['p'] = (SC['px']**2 + SC['py']**2 + SC['pz']**2)**0.5\n",
        "for row in SC.loc[(SC['Generated As']== particle_to_plot) & (SC['p'] <= 2)].iloc:\n",
        "  h1.Fill(row['p'],row['SC dEdx'])\n",
        "h1.SetStats(0)\n",
        "h1.Draw('COLZ')\n",
        "canvas.SaveAs(particle_to_plot + \"_SC.png\")\n",
        "fig = interactive_image(particle_to_plot + \"_SC.png\", x_max = 2, y_max = 0.01)\n",
        "fig.update()\n",
        "fig.display(fig.update_figure, a=(-10,0,0.01),b=(0,10,0.01), c=(0,10,0.01))"
      ],
      "metadata": {
        "colab": {
          "base_uri": "https://localhost:8080/",
          "height": 575,
          "referenced_widgets": [
            "20d001cf98d74089bed9c7c9160df1ae",
            "62184984e96d463ba1286eaf041bf814",
            "55c5c98dbe974462b6e2520cbc569f60",
            "149a5502c8814ea5a4677ba5a2cc3835",
            "d37bf50d34f24c059ce66eba5267418a",
            "a74035a4c3a44ece866dc4ab5296e3ff",
            "41cd25f152ef4d0a918c7c2b84c34c93",
            "9a83490ac9374282a7079f52d056438c",
            "4ce2da1d05784206a12d4679620659fa",
            "07e6a0bd9cec419d9abb4f6c9e14b389",
            "a917407d8e414e20bddec9f34d917b49",
            "e5c22dd39b7d4897bcd99acd46a7cd5b",
            "4953db5fcd70480b910eef2579b3f4b8",
            "63921a9b7ca54088a270bb67c4cdd2fa",
            "6a2d0a69e39a4dfc94ab48ec1c3a84fc"
          ]
        },
        "outputId": "b3cffbc2-7a9f-40e8-b4e1-e74dafd2615e",
        "cellView": "form",
        "id": "lGOWs3uJ_JFH"
      },
      "execution_count": null,
      "outputs": [
        {
          "output_type": "stream",
          "name": "stdout",
          "text": [
            "This equation is rescaled by 10**-3\n"
          ]
        },
        {
          "output_type": "display_data",
          "data": {
            "text/plain": [
              "VBox(children=(HBox(children=(FloatSlider(value=0.0, description='a', max=0.0, min=-10.0, step=0.01), FloatSli…"
            ],
            "application/vnd.jupyter.widget-view+json": {
              "version_major": 2,
              "version_minor": 0,
              "model_id": "20d001cf98d74089bed9c7c9160df1ae"
            }
          },
          "metadata": {
            "application/vnd.jupyter.widget-view+json": {
              "colab": {
                "custom_widget_manager": {
                  "url": "https://ssl.gstatic.com/colaboratory-static/widgets/colab-cdn-widget-manager/2b70e893a8ba7c0f/manager.min.js"
                }
              }
            }
          }
        },
        {
          "output_type": "stream",
          "name": "stderr",
          "text": [
            "Warning in <TCanvas::Constructor>: Deleting canvas with same name: c1\n",
            "Warning in <TROOT::Append>: Replacing existing TH1: h1 (Potential memory leak).\n",
            "Info in <TCanvas::Print>: png file Electron_SC.png has been created\n"
          ]
        }
      ]
    },
    {
      "cell_type": "markdown",
      "source": [
        "#####**Solution:**"
      ],
      "metadata": {
        "id": "Ic8wt40Z-oVt"
      }
    },
    {
      "cell_type": "markdown",
      "source": [
        "**Proton:**$$\n",
        "dE/dx > e^{(-4*p+3.2)}+1.6\n",
        "$$\n",
        "**Kaon:**$$\n",
        "dE/dx > e^{(-4.4*p+2.7)}+1.2\n",
        "$$\n",
        "and\n",
        "$$\n",
        "dE/dx < e^{(-4.6*p+3.1)}+2.2\n",
        "$$\n",
        "**Pion:** $$\n",
        "dE/dx > 1.3\n",
        "$$\n",
        "and $$\n",
        "dE/dx < 2.3\n",
        "$$\n",
        "**Electron:**$$\n",
        "dE/dx > 2.3\n",
        "$$\n",
        "and\n",
        "$$\n",
        "dE/dx < 1.3\n",
        "$$"
      ],
      "metadata": {
        "id": "uwBt1Q9VBUuW"
      }
    },
    {
      "cell_type": "markdown",
      "source": [
        "###**Question #14:**\n",
        "---\n",
        "We can also measure ionization energy loss in a detector called the time of flight detector (more on the time of flight detector in later notebooks). Use the sliders below to find similar cuts for ionization energy loss in the time of flight detector."
      ],
      "metadata": {
        "id": "MKOfhNwbDuzv"
      }
    },
    {
      "cell_type": "markdown",
      "source": [
        "Double click to edit this cell and answer the following question: What cuts should be made for protons, kaons, pions, and electrons in the time of flight detector?"
      ],
      "metadata": {
        "id": "d8Bz8SKvDu0E"
      }
    },
    {
      "cell_type": "code",
      "source": [
        "# @title\n",
        "particle_to_plot = \"Electron\" # @param [\"Proton\", \"K+\", \"Pi+\", \"Electron\"]\n",
        "canvas = TCanvas(\"c1\",\"Ionization Energy Loss Plot\",700,500)\n",
        "h1 = TH2D(\"h1\",\"Ionization Energy Loss vs. Momentum for \" + particle_to_plot + \"s in the Time of Flight Detector;Momentum (GeV/c);Ionization Energy Loss\",200,0,5,200,0,0.002)\n",
        "TOF['p'] = (TOF['px']**2 + TOF['py']**2 + TOF['pz']**2)**0.5\n",
        "for row in TOF.loc[TOF['Generated As']== particle_to_plot].iloc:\n",
        "  h1.Fill(row['p'],row['TOF dEdx'])\n",
        "h1.SetStats(0)\n",
        "h1.Draw('COLZ')\n",
        "canvas.SaveAs(particle_to_plot + \"_TOF.png\")\n",
        "fig = interactive_image(particle_to_plot + \"_TOF.png\", x_max = 5, y_max = 0.002)\n",
        "fig.update()\n",
        "fig.display(fig.update_figure, a=(-10,0,0.01),b=(0,10,0.01), c=(0,10,0.01))"
      ],
      "metadata": {
        "colab": {
          "base_uri": "https://localhost:8080/",
          "height": 575,
          "referenced_widgets": [
            "a25911a6a6404ce4b5442e91277a8500",
            "e0a282f68c0a4e84b6206a62d1e0b573",
            "8f6a5defb4ac4371b132afd13e2cabf3",
            "0bb3b26e9b8749fdae74d7417afd5698",
            "445661aa8600418d97dbe1410d2bd7e7",
            "80a32b0d31c34f198b724e06c92cda8a",
            "2e677db51a324e09b1e96fee37c518ce",
            "2cecd7b931864b0aa3e8f453ebb6a3fa",
            "713e498aae054256ad2827fb7e042f91",
            "4015f25ce4c949bb97b92f00e0b622ab",
            "6b2509c4ae654ae480871a6d736c81ea",
            "2d680e4e42cd409c90fbb25a5e04d08c",
            "c285a188d9224aba8adaf248462b9ec7",
            "8699ae857c544a7fbffcd85ffe066342",
            "06a7f38be0bf4dc790ab2c029a21f1bf"
          ]
        },
        "outputId": "578c623a-187e-4e94-f37a-b74552518718",
        "cellView": "form",
        "id": "73sKRoOIDu0E"
      },
      "execution_count": null,
      "outputs": [
        {
          "output_type": "stream",
          "name": "stdout",
          "text": [
            "This equation is rescaled by 10**-4\n"
          ]
        },
        {
          "output_type": "display_data",
          "data": {
            "text/plain": [
              "VBox(children=(HBox(children=(FloatSlider(value=0.0, description='a', max=0.0, min=-10.0, step=0.01), FloatSli…"
            ],
            "application/vnd.jupyter.widget-view+json": {
              "version_major": 2,
              "version_minor": 0,
              "model_id": "a25911a6a6404ce4b5442e91277a8500"
            }
          },
          "metadata": {
            "application/vnd.jupyter.widget-view+json": {
              "colab": {
                "custom_widget_manager": {
                  "url": "https://ssl.gstatic.com/colaboratory-static/widgets/colab-cdn-widget-manager/2b70e893a8ba7c0f/manager.min.js"
                }
              }
            }
          }
        },
        {
          "output_type": "stream",
          "name": "stderr",
          "text": [
            "Warning in <TCanvas::Constructor>: Deleting canvas with same name: c1\n",
            "Warning in <TROOT::Append>: Replacing existing TH1: h1 (Potential memory leak).\n",
            "Info in <TCanvas::Print>: png file Electron_TOF.png has been created\n"
          ]
        }
      ]
    },
    {
      "cell_type": "markdown",
      "source": [
        "#####**Solution:**"
      ],
      "metadata": {
        "id": "Rj47c_0lDu0F"
      }
    },
    {
      "cell_type": "markdown",
      "source": [
        "**Proton:**$$\n",
        "dE/dx > e^{(-2.2*p+3.9)}+8.2\n",
        "$$\n",
        "**Kaon:**$$\n",
        "dE/dx > e^{(-0.4*p+0.8)}+7.6\n",
        "$$\n",
        "and\n",
        "$$\n",
        "dE/dx < e^{(-0.4*p+1.4)}+10\n",
        "$$\n",
        "**Pion:** $$\n",
        "dE/dx > 8.6\n",
        "$$\n",
        "and $$\n",
        "dE/dx < 11\n",
        "$$\n",
        "**Electron:**$$\n",
        "dE/dx > 8.1\n",
        "$$\n",
        "and\n",
        "$$\n",
        "dE/dx < 11\n",
        "$$"
      ],
      "metadata": {
        "id": "HZhMV4DXDu0F"
      }
    }
  ],
  "metadata": {
    "colab": {
      "provenance": [],
      "collapsed_sections": [
        "P8LND11iytC4",
        "9OtWNbTI0IZ9",
        "8Rsd4Wz92n7E",
        "1PevtlvX2n7O",
        "lmVVVNVU6Dhc",
        "P0SDjuBL6Dhl",
        "R3m9Ae9duK3I",
        "se5XcP_sw-ht",
        "TQzi-iOZ8kpz",
        "XndUDkOv-I81",
        "tHpBTRZq-eFj",
        "ikGDulIt_FAx",
        "nUpWJeV4AThJ",
        "PP8_4LS0CsxT",
        "HkFauHXDC38e",
        "l3tYE9KiEnlT",
        "1Hjh-q7kxKMz",
        "tR9c8yBWz_ZH",
        "6QbMFVDoQCk-",
        "Iuux1yTrUZRN",
        "Dbz0hDlGaZ1M",
        "a2HfciCQgJKm",
        "RfwOZzaVg6Ne",
        "9xgB3nAohr0F",
        "Ic8wt40Z-oVt",
        "Rj47c_0lDu0F"
      ],
      "authorship_tag": "ABX9TyPhCtRraJ8TRqUNroh/tOcN",
      "include_colab_link": true
    },
    "kernelspec": {
      "display_name": "Python 3",
      "name": "python3"
    },
    "language_info": {
      "name": "python"
    },
    "widgets": {
      "application/vnd.jupyter.widget-state+json": {
        "d80d1cff50164222be9b6ee574182537": {
          "model_module": "@jupyter-widgets/controls",
          "model_name": "VBoxModel",
          "model_module_version": "1.5.0",
          "state": {
            "_dom_classes": [],
            "_model_module": "@jupyter-widgets/controls",
            "_model_module_version": "1.5.0",
            "_model_name": "VBoxModel",
            "_view_count": null,
            "_view_module": "@jupyter-widgets/controls",
            "_view_module_version": "1.5.0",
            "_view_name": "VBoxView",
            "box_style": "",
            "children": [
              "IPY_MODEL_67026cdabdee49ccae4902be27122130",
              "IPY_MODEL_7cf76db6c4454fb5b5b23480af1e46b7"
            ],
            "layout": "IPY_MODEL_cc32b4f515c44ecf96486cfca1e23e25"
          }
        },
        "67026cdabdee49ccae4902be27122130": {
          "model_module": "@jupyter-widgets/controls",
          "model_name": "HBoxModel",
          "model_module_version": "1.5.0",
          "state": {
            "_dom_classes": [],
            "_model_module": "@jupyter-widgets/controls",
            "_model_module_version": "1.5.0",
            "_model_name": "HBoxModel",
            "_view_count": null,
            "_view_module": "@jupyter-widgets/controls",
            "_view_module_version": "1.5.0",
            "_view_name": "HBoxView",
            "box_style": "",
            "children": [
              "IPY_MODEL_82ae7016513146ecb6b3e9623e1710f3",
              "IPY_MODEL_accd5af1b19347c88dcaf3c25c70ab56",
              "IPY_MODEL_924e0261182a4511ae50d71c1d2a3fa6"
            ],
            "layout": "IPY_MODEL_cfd6bf14c148426bb6e868c4349bb3ef"
          }
        },
        "7cf76db6c4454fb5b5b23480af1e46b7": {
          "model_module": "@jupyter-widgets/output",
          "model_name": "OutputModel",
          "model_module_version": "1.0.0",
          "state": {
            "_dom_classes": [],
            "_model_module": "@jupyter-widgets/output",
            "_model_module_version": "1.0.0",
            "_model_name": "OutputModel",
            "_view_count": null,
            "_view_module": "@jupyter-widgets/output",
            "_view_module_version": "1.0.0",
            "_view_name": "OutputView",
            "layout": "IPY_MODEL_e81034078d2f4e7ea4da01a352c48943",
            "msg_id": "",
            "outputs": []
          }
        },
        "cc32b4f515c44ecf96486cfca1e23e25": {
          "model_module": "@jupyter-widgets/base",
          "model_name": "LayoutModel",
          "model_module_version": "1.2.0",
          "state": {
            "_model_module": "@jupyter-widgets/base",
            "_model_module_version": "1.2.0",
            "_model_name": "LayoutModel",
            "_view_count": null,
            "_view_module": "@jupyter-widgets/base",
            "_view_module_version": "1.2.0",
            "_view_name": "LayoutView",
            "align_content": null,
            "align_items": null,
            "align_self": null,
            "border": null,
            "bottom": null,
            "display": null,
            "flex": null,
            "flex_flow": null,
            "grid_area": null,
            "grid_auto_columns": null,
            "grid_auto_flow": null,
            "grid_auto_rows": null,
            "grid_column": null,
            "grid_gap": null,
            "grid_row": null,
            "grid_template_areas": null,
            "grid_template_columns": null,
            "grid_template_rows": null,
            "height": null,
            "justify_content": null,
            "justify_items": null,
            "left": null,
            "margin": null,
            "max_height": null,
            "max_width": null,
            "min_height": null,
            "min_width": null,
            "object_fit": null,
            "object_position": null,
            "order": null,
            "overflow": null,
            "overflow_x": null,
            "overflow_y": null,
            "padding": null,
            "right": null,
            "top": null,
            "visibility": null,
            "width": null
          }
        },
        "82ae7016513146ecb6b3e9623e1710f3": {
          "model_module": "@jupyter-widgets/controls",
          "model_name": "FloatSliderModel",
          "model_module_version": "1.5.0",
          "state": {
            "_dom_classes": [],
            "_model_module": "@jupyter-widgets/controls",
            "_model_module_version": "1.5.0",
            "_model_name": "FloatSliderModel",
            "_view_count": null,
            "_view_module": "@jupyter-widgets/controls",
            "_view_module_version": "1.5.0",
            "_view_name": "FloatSliderView",
            "continuous_update": true,
            "description": "a",
            "description_tooltip": null,
            "disabled": false,
            "layout": "IPY_MODEL_563c88bc10bf4335b13a243ff7378951",
            "max": 0,
            "min": -10,
            "orientation": "horizontal",
            "readout": true,
            "readout_format": ".2f",
            "step": 0.01,
            "style": "IPY_MODEL_8627adea82ae48a58b96780ff11ea4db",
            "value": 0
          }
        },
        "accd5af1b19347c88dcaf3c25c70ab56": {
          "model_module": "@jupyter-widgets/controls",
          "model_name": "FloatSliderModel",
          "model_module_version": "1.5.0",
          "state": {
            "_dom_classes": [],
            "_model_module": "@jupyter-widgets/controls",
            "_model_module_version": "1.5.0",
            "_model_name": "FloatSliderModel",
            "_view_count": null,
            "_view_module": "@jupyter-widgets/controls",
            "_view_module_version": "1.5.0",
            "_view_name": "FloatSliderView",
            "continuous_update": true,
            "description": "b",
            "description_tooltip": null,
            "disabled": false,
            "layout": "IPY_MODEL_bd8d35ec9a67450bac51dc109b80bb03",
            "max": 10,
            "min": 0,
            "orientation": "horizontal",
            "readout": true,
            "readout_format": ".2f",
            "step": 0.01,
            "style": "IPY_MODEL_523886aedae243b3ac617da44008f54e",
            "value": 1
          }
        },
        "924e0261182a4511ae50d71c1d2a3fa6": {
          "model_module": "@jupyter-widgets/controls",
          "model_name": "FloatSliderModel",
          "model_module_version": "1.5.0",
          "state": {
            "_dom_classes": [],
            "_model_module": "@jupyter-widgets/controls",
            "_model_module_version": "1.5.0",
            "_model_name": "FloatSliderModel",
            "_view_count": null,
            "_view_module": "@jupyter-widgets/controls",
            "_view_module_version": "1.5.0",
            "_view_name": "FloatSliderView",
            "continuous_update": true,
            "description": "c",
            "description_tooltip": null,
            "disabled": false,
            "layout": "IPY_MODEL_ca1ebf7358d5411bb4ff0da4bb91d55e",
            "max": 10,
            "min": 0,
            "orientation": "horizontal",
            "readout": true,
            "readout_format": ".2f",
            "step": 0.01,
            "style": "IPY_MODEL_61602935f68c4d228b479fb8816aff98",
            "value": 1
          }
        },
        "cfd6bf14c148426bb6e868c4349bb3ef": {
          "model_module": "@jupyter-widgets/base",
          "model_name": "LayoutModel",
          "model_module_version": "1.2.0",
          "state": {
            "_model_module": "@jupyter-widgets/base",
            "_model_module_version": "1.2.0",
            "_model_name": "LayoutModel",
            "_view_count": null,
            "_view_module": "@jupyter-widgets/base",
            "_view_module_version": "1.2.0",
            "_view_name": "LayoutView",
            "align_content": null,
            "align_items": null,
            "align_self": null,
            "border": null,
            "bottom": null,
            "display": null,
            "flex": null,
            "flex_flow": "row wrap",
            "grid_area": null,
            "grid_auto_columns": null,
            "grid_auto_flow": null,
            "grid_auto_rows": null,
            "grid_column": null,
            "grid_gap": null,
            "grid_row": null,
            "grid_template_areas": null,
            "grid_template_columns": null,
            "grid_template_rows": null,
            "height": null,
            "justify_content": null,
            "justify_items": null,
            "left": null,
            "margin": null,
            "max_height": null,
            "max_width": null,
            "min_height": null,
            "min_width": null,
            "object_fit": null,
            "object_position": null,
            "order": null,
            "overflow": null,
            "overflow_x": null,
            "overflow_y": null,
            "padding": null,
            "right": null,
            "top": null,
            "visibility": null,
            "width": null
          }
        },
        "e81034078d2f4e7ea4da01a352c48943": {
          "model_module": "@jupyter-widgets/base",
          "model_name": "LayoutModel",
          "model_module_version": "1.2.0",
          "state": {
            "_model_module": "@jupyter-widgets/base",
            "_model_module_version": "1.2.0",
            "_model_name": "LayoutModel",
            "_view_count": null,
            "_view_module": "@jupyter-widgets/base",
            "_view_module_version": "1.2.0",
            "_view_name": "LayoutView",
            "align_content": null,
            "align_items": null,
            "align_self": null,
            "border": null,
            "bottom": null,
            "display": null,
            "flex": null,
            "flex_flow": null,
            "grid_area": null,
            "grid_auto_columns": null,
            "grid_auto_flow": null,
            "grid_auto_rows": null,
            "grid_column": null,
            "grid_gap": null,
            "grid_row": null,
            "grid_template_areas": null,
            "grid_template_columns": null,
            "grid_template_rows": null,
            "height": null,
            "justify_content": null,
            "justify_items": null,
            "left": null,
            "margin": null,
            "max_height": null,
            "max_width": null,
            "min_height": null,
            "min_width": null,
            "object_fit": null,
            "object_position": null,
            "order": null,
            "overflow": null,
            "overflow_x": null,
            "overflow_y": null,
            "padding": null,
            "right": null,
            "top": null,
            "visibility": null,
            "width": null
          }
        },
        "563c88bc10bf4335b13a243ff7378951": {
          "model_module": "@jupyter-widgets/base",
          "model_name": "LayoutModel",
          "model_module_version": "1.2.0",
          "state": {
            "_model_module": "@jupyter-widgets/base",
            "_model_module_version": "1.2.0",
            "_model_name": "LayoutModel",
            "_view_count": null,
            "_view_module": "@jupyter-widgets/base",
            "_view_module_version": "1.2.0",
            "_view_name": "LayoutView",
            "align_content": null,
            "align_items": null,
            "align_self": null,
            "border": null,
            "bottom": null,
            "display": null,
            "flex": null,
            "flex_flow": null,
            "grid_area": null,
            "grid_auto_columns": null,
            "grid_auto_flow": null,
            "grid_auto_rows": null,
            "grid_column": null,
            "grid_gap": null,
            "grid_row": null,
            "grid_template_areas": null,
            "grid_template_columns": null,
            "grid_template_rows": null,
            "height": null,
            "justify_content": null,
            "justify_items": null,
            "left": null,
            "margin": null,
            "max_height": null,
            "max_width": null,
            "min_height": null,
            "min_width": null,
            "object_fit": null,
            "object_position": null,
            "order": null,
            "overflow": null,
            "overflow_x": null,
            "overflow_y": null,
            "padding": null,
            "right": null,
            "top": null,
            "visibility": null,
            "width": null
          }
        },
        "8627adea82ae48a58b96780ff11ea4db": {
          "model_module": "@jupyter-widgets/controls",
          "model_name": "SliderStyleModel",
          "model_module_version": "1.5.0",
          "state": {
            "_model_module": "@jupyter-widgets/controls",
            "_model_module_version": "1.5.0",
            "_model_name": "SliderStyleModel",
            "_view_count": null,
            "_view_module": "@jupyter-widgets/base",
            "_view_module_version": "1.2.0",
            "_view_name": "StyleView",
            "description_width": "",
            "handle_color": null
          }
        },
        "bd8d35ec9a67450bac51dc109b80bb03": {
          "model_module": "@jupyter-widgets/base",
          "model_name": "LayoutModel",
          "model_module_version": "1.2.0",
          "state": {
            "_model_module": "@jupyter-widgets/base",
            "_model_module_version": "1.2.0",
            "_model_name": "LayoutModel",
            "_view_count": null,
            "_view_module": "@jupyter-widgets/base",
            "_view_module_version": "1.2.0",
            "_view_name": "LayoutView",
            "align_content": null,
            "align_items": null,
            "align_self": null,
            "border": null,
            "bottom": null,
            "display": null,
            "flex": null,
            "flex_flow": null,
            "grid_area": null,
            "grid_auto_columns": null,
            "grid_auto_flow": null,
            "grid_auto_rows": null,
            "grid_column": null,
            "grid_gap": null,
            "grid_row": null,
            "grid_template_areas": null,
            "grid_template_columns": null,
            "grid_template_rows": null,
            "height": null,
            "justify_content": null,
            "justify_items": null,
            "left": null,
            "margin": null,
            "max_height": null,
            "max_width": null,
            "min_height": null,
            "min_width": null,
            "object_fit": null,
            "object_position": null,
            "order": null,
            "overflow": null,
            "overflow_x": null,
            "overflow_y": null,
            "padding": null,
            "right": null,
            "top": null,
            "visibility": null,
            "width": null
          }
        },
        "523886aedae243b3ac617da44008f54e": {
          "model_module": "@jupyter-widgets/controls",
          "model_name": "SliderStyleModel",
          "model_module_version": "1.5.0",
          "state": {
            "_model_module": "@jupyter-widgets/controls",
            "_model_module_version": "1.5.0",
            "_model_name": "SliderStyleModel",
            "_view_count": null,
            "_view_module": "@jupyter-widgets/base",
            "_view_module_version": "1.2.0",
            "_view_name": "StyleView",
            "description_width": "",
            "handle_color": null
          }
        },
        "ca1ebf7358d5411bb4ff0da4bb91d55e": {
          "model_module": "@jupyter-widgets/base",
          "model_name": "LayoutModel",
          "model_module_version": "1.2.0",
          "state": {
            "_model_module": "@jupyter-widgets/base",
            "_model_module_version": "1.2.0",
            "_model_name": "LayoutModel",
            "_view_count": null,
            "_view_module": "@jupyter-widgets/base",
            "_view_module_version": "1.2.0",
            "_view_name": "LayoutView",
            "align_content": null,
            "align_items": null,
            "align_self": null,
            "border": null,
            "bottom": null,
            "display": null,
            "flex": null,
            "flex_flow": null,
            "grid_area": null,
            "grid_auto_columns": null,
            "grid_auto_flow": null,
            "grid_auto_rows": null,
            "grid_column": null,
            "grid_gap": null,
            "grid_row": null,
            "grid_template_areas": null,
            "grid_template_columns": null,
            "grid_template_rows": null,
            "height": null,
            "justify_content": null,
            "justify_items": null,
            "left": null,
            "margin": null,
            "max_height": null,
            "max_width": null,
            "min_height": null,
            "min_width": null,
            "object_fit": null,
            "object_position": null,
            "order": null,
            "overflow": null,
            "overflow_x": null,
            "overflow_y": null,
            "padding": null,
            "right": null,
            "top": null,
            "visibility": null,
            "width": null
          }
        },
        "61602935f68c4d228b479fb8816aff98": {
          "model_module": "@jupyter-widgets/controls",
          "model_name": "SliderStyleModel",
          "model_module_version": "1.5.0",
          "state": {
            "_model_module": "@jupyter-widgets/controls",
            "_model_module_version": "1.5.0",
            "_model_name": "SliderStyleModel",
            "_view_count": null,
            "_view_module": "@jupyter-widgets/base",
            "_view_module_version": "1.2.0",
            "_view_name": "StyleView",
            "description_width": "",
            "handle_color": null
          }
        },
        "cfc8f8ea6d5a4b83af4d88ea2044ecd4": {
          "model_module": "@jupyter-widgets/controls",
          "model_name": "VBoxModel",
          "model_module_version": "1.5.0",
          "state": {
            "_dom_classes": [],
            "_model_module": "@jupyter-widgets/controls",
            "_model_module_version": "1.5.0",
            "_model_name": "VBoxModel",
            "_view_count": null,
            "_view_module": "@jupyter-widgets/controls",
            "_view_module_version": "1.5.0",
            "_view_name": "VBoxView",
            "box_style": "",
            "children": [
              "IPY_MODEL_8aa36192c97540e68fb526ce1c010218",
              "IPY_MODEL_cbf35ef864de4089bac0927195040543"
            ],
            "layout": "IPY_MODEL_2b88b1c5aa184c4c9597325b51293273"
          }
        },
        "8aa36192c97540e68fb526ce1c010218": {
          "model_module": "@jupyter-widgets/controls",
          "model_name": "HBoxModel",
          "model_module_version": "1.5.0",
          "state": {
            "_dom_classes": [],
            "_model_module": "@jupyter-widgets/controls",
            "_model_module_version": "1.5.0",
            "_model_name": "HBoxModel",
            "_view_count": null,
            "_view_module": "@jupyter-widgets/controls",
            "_view_module_version": "1.5.0",
            "_view_name": "HBoxView",
            "box_style": "",
            "children": [
              "IPY_MODEL_d7530406294242b7898bd76322c8d99d",
              "IPY_MODEL_bc0ab5f460fb44d6be5493032ce80149",
              "IPY_MODEL_52da0ee1ede14176a26d3d5c1f0bc497"
            ],
            "layout": "IPY_MODEL_30aa002ff36f48e9989c822c3bbe0246"
          }
        },
        "cbf35ef864de4089bac0927195040543": {
          "model_module": "@jupyter-widgets/output",
          "model_name": "OutputModel",
          "model_module_version": "1.0.0",
          "state": {
            "_dom_classes": [],
            "_model_module": "@jupyter-widgets/output",
            "_model_module_version": "1.0.0",
            "_model_name": "OutputModel",
            "_view_count": null,
            "_view_module": "@jupyter-widgets/output",
            "_view_module_version": "1.0.0",
            "_view_name": "OutputView",
            "layout": "IPY_MODEL_68dfb45084074373898aa349781bbbfc",
            "msg_id": "",
            "outputs": [
              {
                "output_type": "display_data",
                "data": {
                  "text/html": "<html>\n<head><meta charset=\"utf-8\" /></head>\n<body>\n    <div>            <script src=\"https://cdnjs.cloudflare.com/ajax/libs/mathjax/2.7.5/MathJax.js?config=TeX-AMS-MML_SVG\"></script><script type=\"text/javascript\">if (window.MathJax && window.MathJax.Hub && window.MathJax.Hub.Config) {window.MathJax.Hub.Config({SVG: {font: \"STIX-Web\"}});}</script>                <script type=\"text/javascript\">window.PlotlyConfig = {MathJaxConfig: 'local'};</script>\n        <script charset=\"utf-8\" src=\"https://cdn.plot.ly/plotly-2.24.1.min.js\"></script>                <div id=\"377a9bff-be4a-4f2b-a0f4-262c8dffd53d\" class=\"plotly-graph-div\" style=\"height:457px; width:530px;\"></div>            <script type=\"text/javascript\">                                    window.PLOTLYENV=window.PLOTLYENV || {};                                    if (document.getElementById(\"377a9bff-be4a-4f2b-a0f4-262c8dffd53d\")) {                    Plotly.newPlot(                        \"377a9bff-be4a-4f2b-a0f4-262c8dffd53d\",                        [{\"marker\":{\"color\":\"red\"},\"mode\":\"lines\",\"name\":\"Cut\",\"x\":[0.0,0.001001001001001001,0.002002002002002002,0.003003003003003003,0.004004004004004004,0.005005005005005005,0.006006006006006006,0.007007007007007007,0.008008008008008008,0.009009009009009009,0.01001001001001001,0.011011011011011011,0.012012012012012012,0.013013013013013013,0.014014014014014014,0.015015015015015015,0.016016016016016016,0.017017017017017015,0.018018018018018018,0.01901901901901902,0.02002002002002002,0.02102102102102102,0.022022022022022022,0.023023023023023025,0.024024024024024024,0.025025025025025023,0.026026026026026026,0.02702702702702703,0.028028028028028028,0.029029029029029027,0.03003003003003003,0.031031031031031032,0.03203203203203203,0.03303303303303303,0.03403403403403403,0.035035035035035036,0.036036036036036036,0.037037037037037035,0.03803803803803804,0.03903903903903904,0.04004004004004004,0.04104104104104104,0.04204204204204204,0.043043043043043044,0.044044044044044044,0.04504504504504504,0.04604604604604605,0.04704704704704705,0.04804804804804805,0.04904904904904905,0.050050050050050046,0.05105105105105105,0.05205205205205205,0.05305305305305305,0.05405405405405406,0.055055055055055056,0.056056056056056056,0.057057057057057055,0.058058058058058054,0.05905905905905906,0.06006006006006006,0.06106106106106106,0.062062062062062065,0.06306306306306306,0.06406406406406406,0.06506506506506507,0.06606606606606606,0.06706706706706707,0.06806806806806806,0.06906906906906907,0.07007007007007007,0.07107107107107107,0.07207207207207207,0.07307307307307308,0.07407407407407407,0.07507507507507508,0.07607607607607608,0.07707707707707707,0.07807807807807808,0.07907907907907907,0.08008008008008008,0.08108108108108109,0.08208208208208208,0.08308308308308308,0.08408408408408408,0.08508508508508508,0.08608608608608609,0.08708708708708708,0.08808808808808809,0.0890890890890891,0.09009009009009009,0.09109109109109109,0.0920920920920921,0.09309309309309309,0.0940940940940941,0.09509509509509509,0.0960960960960961,0.0970970970970971,0.0980980980980981,0.0990990990990991,0.10010010010010009,0.1011011011011011,0.1021021021021021,0.1031031031031031,0.1041041041041041,0.10510510510510511,0.1061061061061061,0.10710710710710711,0.10810810810810811,0.1091091091091091,0.11011011011011011,0.1111111111111111,0.11211211211211211,0.11311311311311312,0.11411411411411411,0.11511511511511512,0.11611611611611611,0.11711711711711711,0.11811811811811812,0.11911911911911911,0.12012012012012012,0.12112112112112113,0.12212212212212212,0.12312312312312312,0.12412412412412413,0.12512512512512514,0.12612612612612611,0.12712712712712712,0.12812812812812813,0.12912912912912913,0.13013013013013014,0.13113113113113112,0.13213213213213212,0.13313313313313313,0.13413413413413414,0.13513513513513514,0.13613613613613612,0.13713713713713713,0.13813813813813813,0.13913913913913914,0.14014014014014015,0.14114114114114115,0.14214214214214213,0.14314314314314314,0.14414414414414414,0.14514514514514515,0.14614614614614616,0.14714714714714713,0.14814814814814814,0.14914914914914915,0.15015015015015015,0.15115115115115116,0.15215215215215216,0.15315315315315314,0.15415415415415415,0.15515515515515516,0.15615615615615616,0.15715715715715717,0.15815815815815815,0.15915915915915915,0.16016016016016016,0.16116116116116116,0.16216216216216217,0.16316316316316315,0.16416416416416416,0.16516516516516516,0.16616616616616617,0.16716716716716717,0.16816816816816815,0.16916916916916916,0.17017017017017017,0.17117117117117117,0.17217217217217218,0.17317317317317318,0.17417417417417416,0.17517517517517517,0.17617617617617617,0.17717717717717718,0.1781781781781782,0.17917917917917917,0.18018018018018017,0.18118118118118118,0.18218218218218218,0.1831831831831832,0.1841841841841842,0.18518518518518517,0.18618618618618618,0.1871871871871872,0.1881881881881882,0.1891891891891892,0.19019019019019018,0.19119119119119118,0.1921921921921922,0.1931931931931932,0.1941941941941942,0.19519519519519518,0.1961961961961962,0.1971971971971972,0.1981981981981982,0.1991991991991992,0.20020020020020018,0.2012012012012012,0.2022022022022022,0.2032032032032032,0.2042042042042042,0.20520520520520522,0.2062062062062062,0.2072072072072072,0.2082082082082082,0.2092092092092092,0.21021021021021022,0.2112112112112112,0.2122122122122122,0.2132132132132132,0.21421421421421422,0.21521521521521522,0.21621621621621623,0.2172172172172172,0.2182182182182182,0.21921921921921922,0.22022022022022023,0.22122122122122123,0.2222222222222222,0.22322322322322322,0.22422422422422422,0.22522522522522523,0.22622622622622623,0.2272272272272272,0.22822822822822822,0.22922922922922923,0.23023023023023023,0.23123123123123124,0.23223223223223222,0.23323323323323322,0.23423423423423423,0.23523523523523523,0.23623623623623624,0.23723723723723725,0.23823823823823823,0.23923923923923923,0.24024024024024024,0.24124124124124124,0.24224224224224225,0.24324324324324323,0.24424424424424424,0.24524524524524524,0.24624624624624625,0.24724724724724725,0.24824824824824826,0.24924924924924924,0.2502502502502503,0.25125125125125125,0.25225225225225223,0.25325325325325326,0.25425425425425424,0.2552552552552553,0.25625625625625625,0.25725725725725723,0.25825825825825827,0.25925925925925924,0.2602602602602603,0.26126126126126126,0.26226226226226224,0.26326326326326327,0.26426426426426425,0.2652652652652653,0.26626626626626626,0.26726726726726724,0.2682682682682683,0.26926926926926925,0.2702702702702703,0.27127127127127126,0.27227227227227224,0.2732732732732733,0.27427427427427425,0.2752752752752753,0.27627627627627627,0.2772772772772773,0.2782782782782783,0.27927927927927926,0.2802802802802803,0.28128128128128127,0.2822822822822823,0.2832832832832833,0.28428428428428426,0.2852852852852853,0.2862862862862863,0.2872872872872873,0.2882882882882883,0.28928928928928926,0.2902902902902903,0.2912912912912913,0.2922922922922923,0.2932932932932933,0.29429429429429427,0.2952952952952953,0.2962962962962963,0.2972972972972973,0.2982982982982983,0.29929929929929927,0.3003003003003003,0.3013013013013013,0.3023023023023023,0.3033033033033033,0.30430430430430433,0.3053053053053053,0.3063063063063063,0.3073073073073073,0.3083083083083083,0.30930930930930933,0.3103103103103103,0.3113113113113113,0.3123123123123123,0.3133133133133133,0.31431431431431434,0.3153153153153153,0.3163163163163163,0.3173173173173173,0.3183183183183183,0.31931931931931934,0.3203203203203203,0.3213213213213213,0.32232232232232233,0.3233233233233233,0.32432432432432434,0.3253253253253253,0.3263263263263263,0.32732732732732733,0.3283283283283283,0.32932932932932935,0.3303303303303303,0.3313313313313313,0.33233233233233234,0.3333333333333333,0.33433433433433435,0.3353353353353353,0.3363363363363363,0.33733733733733734,0.3383383383383383,0.33933933933933935,0.34034034034034033,0.34134134134134136,0.34234234234234234,0.3433433433433433,0.34434434434434436,0.34534534534534533,0.34634634634634637,0.34734734734734735,0.3483483483483483,0.34934934934934936,0.35035035035035034,0.35135135135135137,0.35235235235235235,0.3533533533533533,0.35435435435435436,0.35535535535535534,0.3563563563563564,0.35735735735735735,0.35835835835835833,0.35935935935935936,0.36036036036036034,0.3613613613613614,0.36236236236236236,0.36336336336336333,0.36436436436436437,0.36536536536536535,0.3663663663663664,0.36736736736736736,0.3683683683683684,0.36936936936936937,0.37037037037037035,0.3713713713713714,0.37237237237237236,0.3733733733733734,0.3743743743743744,0.37537537537537535,0.3763763763763764,0.37737737737737737,0.3783783783783784,0.3793793793793794,0.38038038038038036,0.3813813813813814,0.38238238238238237,0.3833833833833834,0.3843843843843844,0.38538538538538536,0.3863863863863864,0.38738738738738737,0.3883883883883884,0.3893893893893894,0.39039039039039036,0.3913913913913914,0.3923923923923924,0.3933933933933934,0.3943943943943944,0.39539539539539537,0.3963963963963964,0.3973973973973974,0.3983983983983984,0.3993993993993994,0.40040040040040037,0.4014014014014014,0.4024024024024024,0.4034034034034034,0.4044044044044044,0.40540540540540543,0.4064064064064064,0.4074074074074074,0.4084084084084084,0.4094094094094094,0.41041041041041043,0.4114114114114114,0.4124124124124124,0.4134134134134134,0.4144144144144144,0.41541541541541543,0.4164164164164164,0.4174174174174174,0.4184184184184184,0.4194194194194194,0.42042042042042044,0.4214214214214214,0.4224224224224224,0.42342342342342343,0.4244244244244244,0.42542542542542544,0.4264264264264264,0.4274274274274274,0.42842842842842843,0.4294294294294294,0.43043043043043044,0.4314314314314314,0.43243243243243246,0.43343343343343343,0.4344344344344344,0.43543543543543545,0.4364364364364364,0.43743743743743746,0.43843843843843844,0.4394394394394394,0.44044044044044045,0.44144144144144143,0.44244244244244246,0.44344344344344344,0.4444444444444444,0.44544544544544545,0.44644644644644643,0.44744744744744747,0.44844844844844844,0.4494494494494494,0.45045045045045046,0.45145145145145144,0.45245245245245247,0.45345345345345345,0.4544544544544544,0.45545545545545546,0.45645645645645644,0.4574574574574575,0.45845845845845845,0.45945945945945943,0.46046046046046046,0.46146146146146144,0.4624624624624625,0.46346346346346345,0.46446446446446443,0.46546546546546547,0.46646646646646645,0.4674674674674675,0.46846846846846846,0.4694694694694695,0.47047047047047047,0.47147147147147145,0.4724724724724725,0.47347347347347346,0.4744744744744745,0.4754754754754755,0.47647647647647645,0.4774774774774775,0.47847847847847846,0.4794794794794795,0.4804804804804805,0.48148148148148145,0.4824824824824825,0.48348348348348347,0.4844844844844845,0.4854854854854855,0.48648648648648646,0.4874874874874875,0.48848848848848847,0.4894894894894895,0.4904904904904905,0.49149149149149146,0.4924924924924925,0.4934934934934935,0.4944944944944945,0.4954954954954955,0.4964964964964965,0.4974974974974975,0.4984984984984985,0.4994994994994995,0.5005005005005005,0.5015015015015015,0.5025025025025025,0.5035035035035035,0.5045045045045045,0.5055055055055055,0.5065065065065065,0.5075075075075075,0.5085085085085085,0.5095095095095095,0.5105105105105106,0.5115115115115115,0.5125125125125125,0.5135135135135135,0.5145145145145145,0.5155155155155156,0.5165165165165165,0.5175175175175175,0.5185185185185185,0.5195195195195195,0.5205205205205206,0.5215215215215215,0.5225225225225225,0.5235235235235235,0.5245245245245245,0.5255255255255256,0.5265265265265265,0.5275275275275275,0.5285285285285285,0.5295295295295295,0.5305305305305306,0.5315315315315315,0.5325325325325325,0.5335335335335335,0.5345345345345345,0.5355355355355356,0.5365365365365365,0.5375375375375375,0.5385385385385385,0.5395395395395395,0.5405405405405406,0.5415415415415415,0.5425425425425425,0.5435435435435435,0.5445445445445445,0.5455455455455456,0.5465465465465466,0.5475475475475475,0.5485485485485485,0.5495495495495496,0.5505505505505506,0.5515515515515516,0.5525525525525525,0.5535535535535535,0.5545545545545546,0.5555555555555556,0.5565565565565566,0.5575575575575575,0.5585585585585585,0.5595595595595596,0.5605605605605606,0.5615615615615616,0.5625625625625625,0.5635635635635635,0.5645645645645646,0.5655655655655656,0.5665665665665666,0.5675675675675675,0.5685685685685685,0.5695695695695696,0.5705705705705706,0.5715715715715716,0.5725725725725725,0.5735735735735735,0.5745745745745746,0.5755755755755756,0.5765765765765766,0.5775775775775776,0.5785785785785785,0.5795795795795796,0.5805805805805806,0.5815815815815816,0.5825825825825826,0.5835835835835835,0.5845845845845846,0.5855855855855856,0.5865865865865866,0.5875875875875876,0.5885885885885885,0.5895895895895896,0.5905905905905906,0.5915915915915916,0.5925925925925926,0.5935935935935935,0.5945945945945946,0.5955955955955956,0.5965965965965966,0.5975975975975976,0.5985985985985985,0.5995995995995996,0.6006006006006006,0.6016016016016016,0.6026026026026026,0.6036036036036035,0.6046046046046046,0.6056056056056056,0.6066066066066066,0.6076076076076076,0.6086086086086087,0.6096096096096096,0.6106106106106106,0.6116116116116116,0.6126126126126126,0.6136136136136137,0.6146146146146146,0.6156156156156156,0.6166166166166166,0.6176176176176176,0.6186186186186187,0.6196196196196196,0.6206206206206206,0.6216216216216216,0.6226226226226226,0.6236236236236237,0.6246246246246246,0.6256256256256256,0.6266266266266266,0.6276276276276276,0.6286286286286287,0.6296296296296297,0.6306306306306306,0.6316316316316316,0.6326326326326326,0.6336336336336337,0.6346346346346347,0.6356356356356356,0.6366366366366366,0.6376376376376376,0.6386386386386387,0.6396396396396397,0.6406406406406406,0.6416416416416416,0.6426426426426426,0.6436436436436437,0.6446446446446447,0.6456456456456456,0.6466466466466466,0.6476476476476476,0.6486486486486487,0.6496496496496497,0.6506506506506506,0.6516516516516516,0.6526526526526526,0.6536536536536537,0.6546546546546547,0.6556556556556556,0.6566566566566566,0.6576576576576576,0.6586586586586587,0.6596596596596597,0.6606606606606606,0.6616616616616616,0.6626626626626626,0.6636636636636637,0.6646646646646647,0.6656656656656657,0.6666666666666666,0.6676676676676676,0.6686686686686687,0.6696696696696697,0.6706706706706707,0.6716716716716716,0.6726726726726726,0.6736736736736737,0.6746746746746747,0.6756756756756757,0.6766766766766766,0.6776776776776777,0.6786786786786787,0.6796796796796797,0.6806806806806807,0.6816816816816816,0.6826826826826827,0.6836836836836837,0.6846846846846847,0.6856856856856857,0.6866866866866866,0.6876876876876877,0.6886886886886887,0.6896896896896897,0.6906906906906907,0.6916916916916916,0.6926926926926927,0.6936936936936937,0.6946946946946947,0.6956956956956957,0.6966966966966966,0.6976976976976977,0.6986986986986987,0.6996996996996997,0.7007007007007007,0.7017017017017017,0.7027027027027027,0.7037037037037037,0.7047047047047047,0.7057057057057057,0.7067067067067067,0.7077077077077077,0.7087087087087087,0.7097097097097097,0.7107107107107107,0.7117117117117117,0.7127127127127127,0.7137137137137137,0.7147147147147147,0.7157157157157157,0.7167167167167167,0.7177177177177178,0.7187187187187187,0.7197197197197197,0.7207207207207207,0.7217217217217217,0.7227227227227228,0.7237237237237237,0.7247247247247247,0.7257257257257257,0.7267267267267267,0.7277277277277278,0.7287287287287287,0.7297297297297297,0.7307307307307307,0.7317317317317317,0.7327327327327328,0.7337337337337337,0.7347347347347347,0.7357357357357357,0.7367367367367368,0.7377377377377378,0.7387387387387387,0.7397397397397397,0.7407407407407407,0.7417417417417418,0.7427427427427428,0.7437437437437437,0.7447447447447447,0.7457457457457457,0.7467467467467468,0.7477477477477478,0.7487487487487487,0.7497497497497497,0.7507507507507507,0.7517517517517518,0.7527527527527528,0.7537537537537538,0.7547547547547547,0.7557557557557557,0.7567567567567568,0.7577577577577578,0.7587587587587588,0.7597597597597597,0.7607607607607607,0.7617617617617618,0.7627627627627628,0.7637637637637638,0.7647647647647647,0.7657657657657657,0.7667667667667668,0.7677677677677678,0.7687687687687688,0.7697697697697697,0.7707707707707707,0.7717717717717718,0.7727727727727728,0.7737737737737738,0.7747747747747747,0.7757757757757757,0.7767767767767768,0.7777777777777778,0.7787787787787788,0.7797797797797797,0.7807807807807807,0.7817817817817818,0.7827827827827828,0.7837837837837838,0.7847847847847848,0.7857857857857857,0.7867867867867868,0.7877877877877878,0.7887887887887888,0.7897897897897898,0.7907907907907907,0.7917917917917918,0.7927927927927928,0.7937937937937938,0.7947947947947948,0.7957957957957957,0.7967967967967968,0.7977977977977978,0.7987987987987988,0.7997997997997998,0.8008008008008007,0.8018018018018018,0.8028028028028028,0.8038038038038038,0.8048048048048048,0.8058058058058059,0.8068068068068068,0.8078078078078078,0.8088088088088088,0.8098098098098098,0.8108108108108109,0.8118118118118118,0.8128128128128128,0.8138138138138138,0.8148148148148148,0.8158158158158159,0.8168168168168168,0.8178178178178178,0.8188188188188188,0.8198198198198198,0.8208208208208209,0.8218218218218218,0.8228228228228228,0.8238238238238238,0.8248248248248248,0.8258258258258259,0.8268268268268268,0.8278278278278278,0.8288288288288288,0.8298298298298298,0.8308308308308309,0.8318318318318318,0.8328328328328328,0.8338338338338338,0.8348348348348348,0.8358358358358359,0.8368368368368369,0.8378378378378378,0.8388388388388388,0.8398398398398398,0.8408408408408409,0.8418418418418419,0.8428428428428428,0.8438438438438438,0.8448448448448448,0.8458458458458459,0.8468468468468469,0.8478478478478478,0.8488488488488488,0.8498498498498498,0.8508508508508509,0.8518518518518519,0.8528528528528528,0.8538538538538538,0.8548548548548548,0.8558558558558559,0.8568568568568569,0.8578578578578578,0.8588588588588588,0.8598598598598598,0.8608608608608609,0.8618618618618619,0.8628628628628628,0.8638638638638638,0.8648648648648649,0.8658658658658659,0.8668668668668669,0.8678678678678678,0.8688688688688688,0.8698698698698699,0.8708708708708709,0.8718718718718719,0.8728728728728729,0.8738738738738738,0.8748748748748749,0.8758758758758759,0.8768768768768769,0.8778778778778779,0.8788788788788788,0.8798798798798799,0.8808808808808809,0.8818818818818819,0.8828828828828829,0.8838838838838838,0.8848848848848849,0.8858858858858859,0.8868868868868869,0.8878878878878879,0.8888888888888888,0.8898898898898899,0.8908908908908909,0.8918918918918919,0.8928928928928929,0.8938938938938938,0.8948948948948949,0.8958958958958959,0.8968968968968969,0.8978978978978979,0.8988988988988988,0.8998998998998999,0.9009009009009009,0.9019019019019019,0.9029029029029029,0.9039039039039038,0.9049049049049049,0.9059059059059059,0.9069069069069069,0.9079079079079079,0.9089089089089089,0.9099099099099099,0.9109109109109109,0.9119119119119119,0.9129129129129129,0.9139139139139139,0.914914914914915,0.9159159159159159,0.9169169169169169,0.9179179179179179,0.9189189189189189,0.91991991991992,0.9209209209209209,0.9219219219219219,0.9229229229229229,0.9239239239239239,0.924924924924925,0.9259259259259259,0.9269269269269269,0.9279279279279279,0.9289289289289289,0.92992992992993,0.9309309309309309,0.9319319319319319,0.9329329329329329,0.933933933933934,0.934934934934935,0.9359359359359359,0.9369369369369369,0.9379379379379379,0.938938938938939,0.93993993993994,0.9409409409409409,0.9419419419419419,0.9429429429429429,0.943943943943944,0.944944944944945,0.9459459459459459,0.9469469469469469,0.9479479479479479,0.948948948948949,0.94994994994995,0.950950950950951,0.9519519519519519,0.9529529529529529,0.953953953953954,0.954954954954955,0.955955955955956,0.9569569569569569,0.9579579579579579,0.958958958958959,0.95995995995996,0.960960960960961,0.9619619619619619,0.9629629629629629,0.963963963963964,0.964964964964965,0.965965965965966,0.9669669669669669,0.9679679679679679,0.968968968968969,0.96996996996997,0.970970970970971,0.9719719719719719,0.9729729729729729,0.973973973973974,0.974974974974975,0.975975975975976,0.9769769769769769,0.9779779779779779,0.978978978978979,0.97997997997998,0.980980980980981,0.9819819819819819,0.9829829829829829,0.983983983983984,0.984984984984985,0.985985985985986,0.986986986986987,0.9879879879879879,0.988988988988989,0.98998998998999,0.990990990990991,0.991991991991992,0.992992992992993,0.993993993993994,0.994994994994995,0.995995995995996,0.996996996996997,0.997997997997998,0.998998998998999,1.0],\"y\":[3.589545195869231e-05,3.5690567071782075e-05,3.54869498051035e-05,3.528459231590613e-05,3.508348680996241e-05,3.488362554126761e-05,3.468500081174146e-05,3.448760497093158e-05,3.429143041571889e-05,3.4096469590024655e-05,3.390271498451953e-05,3.3710159136334306e-05,3.3518794628772444e-05,3.3328614091024406e-05,3.313961019788378e-05,3.2951775669465104e-05,3.276510327092346e-05,3.2579585812175855e-05,3.239521614762422e-05,3.221198717588024e-05,3.202989183949178e-05,3.184892312467108e-05,3.1669074061024604e-05,3.1490337721284544e-05,3.1312707221042e-05,3.1136175718481854e-05,3.096073641411919e-05,3.0786382550537424e-05,3.061310741212804e-05,3.0440904324831876e-05,3.0269766655882124e-05,3.00996878135488e-05,2.993066124688486e-05,2.9762680445473937e-05,2.9595738939179472e-05,2.9429830297895578e-05,2.9264948131299387e-05,2.910108608860483e-05,2.893823785831808e-05,2.8776397167994487e-05,2.8615557783996877e-05,2.845571351125556e-05,2.8296858193029642e-05,2.8138985710669887e-05,2.7982089983383125e-05,2.7826164967997922e-05,2.7671204658731876e-05,2.7517203086960325e-05,2.7364154320986363e-05,2.721205246581247e-05,2.7060891662913354e-05,2.6910666090010363e-05,2.676136996084723e-05,2.6612997524967154e-05,2.6465543067491345e-05,2.6319000908898916e-05,2.617336540480809e-05,2.6028630945758793e-05,2.588479195699665e-05,2.5741842898258176e-05,2.5599778263557474e-05,2.5458592580974076e-05,2.5318280412442222e-05,2.5178836353541424e-05,2.5040255033288247e-05,2.490253111392946e-05,2.4765659290736487e-05,2.4629634291800982e-05,2.4494450877831882e-05,2.4360103841953523e-05,2.4226588009505112e-05,2.409389823784145e-05,2.3962029416134783e-05,2.3830976465177993e-05,2.3700734337188978e-05,2.357129801561617e-05,2.3442662514945353e-05,2.3314822880507638e-05,2.3187774188288588e-05,2.3061511544738587e-05,2.2936030086584376e-05,2.2811324980641666e-05,2.2687391423629056e-05,2.2564224641982956e-05,2.2441819891673777e-05,2.2320172458023153e-05,2.2199277655522413e-05,2.2079130827652053e-05,2.1959727346702386e-05,2.1841062613595305e-05,2.172313205770717e-05,2.1605931136692704e-05,2.1489455336310066e-05,2.1373700170246994e-05,2.1258661179947966e-05,2.1144333934442482e-05,2.103071403017442e-05,2.0917797090832398e-05,2.08055787671812e-05,2.06940547368943e-05,2.0583220704387338e-05,2.0473072400652678e-05,2.0363605583094994e-05,2.0254816035367835e-05,2.014669956721122e-05,2.0039252014290284e-05,1.9932469238034833e-05,1.982634712547995e-05,1.9720881589107584e-05,1.9616068566689117e-05,1.9511904021128877e-05,1.940838394030865e-05,1.9305504336933167e-05,1.9203261248376484e-05,1.910165073652937e-05,1.9000668887647664e-05,1.8900311812201444e-05,1.880057564472528e-05,1.870145654366935e-05,1.8602950691251423e-05,1.8505054293309835e-05,1.840776357915739e-05,1.8311074801436056e-05,1.8214984235972653e-05,1.8119488181635437e-05,1.8024582960191512e-05,1.7930264916165156e-05,1.7836530416697038e-05,1.7743375851404263e-05,1.765079763224136e-05,1.7558792193362023e-05,1.746735599098182e-05,1.7376485503241645e-05,1.728617723007209e-05,1.7196427693058662e-05,1.7107233435307736e-05,1.7018591021313465e-05,1.6930497036825444e-05,1.6842948088717163e-05,1.675594080485537e-05,1.6669471833970152e-05,1.658353784552585e-05,1.6498135529592808e-05,1.6413261596719845e-05,1.6328912777807575e-05,1.6245085823982494e-05,1.6161777506471843e-05,1.6078984616479242e-05,1.5996703965061066e-05,1.5914932383003674e-05,1.5833666720701308e-05,1.5752903848034765e-05,1.567264065425086e-05,1.5592874047842603e-05,1.5513600956430112e-05,1.5434818326642277e-05,1.5356523123999177e-05,1.5278712332795155e-05,1.52013829559827e-05,1.5124532015057e-05,1.504815654994121e-05,1.4972253618872434e-05,1.4896820298288442e-05,1.4821853682715055e-05,1.4747350884654185e-05,1.4673309034472703e-05,1.4599725280291846e-05,1.4526596787877379e-05,1.4453920740530464e-05,1.4381694338979123e-05,1.4309914801270439e-05,1.4238579362663415e-05,1.4167685275522471e-05,1.4097229809211602e-05,1.402721024998922e-05,1.3957623900903627e-05,1.3888468081689128e-05,1.3819740128662785e-05,1.3751437394621864e-05,1.3683557248741812e-05,1.3616097076474964e-05,1.3549054279449838e-05,1.348242627537103e-05,1.3416210497919771e-05,1.3350404396655071e-05,1.3285005436915508e-05,1.3220011099721537e-05,1.315541888167854e-05,1.3091226294880367e-05,1.3027430866813503e-05,1.2964030140261843e-05,1.2901021673212062e-05,1.2838403038759513e-05,1.2776171825014806e-05,1.2714325635010873e-05,1.2652862086610638e-05,1.2591778812415288e-05,1.2531073459673082e-05,1.2470743690188715e-05,1.2410787180233266e-05,1.2351201620454708e-05,1.229198471578893e-05,1.2233134185371366e-05,1.2174647762449127e-05,1.2116523194293696e-05,1.2058758242114153e-05,1.2001350680970966e-05,1.1944298299690253e-05,1.1887598900778652e-05,1.1831250300338664e-05,1.1775250327984539e-05,1.1719596826758666e-05,1.1664287653048508e-05,1.1609320676504041e-05,1.1554693779955679e-05,1.1500404859332735e-05,1.14464518235824e-05,1.1392832594589161e-05,1.1339545107094787e-05,1.1286587308618784e-05,1.1233957159379317e-05,1.1181652632214652e-05,1.1129671712505096e-05,1.1078012398095372e-05,1.1026672699217508e-05,1.0975650638414211e-05,1.0924944250462697e-05,1.0874551582298966e-05,1.0824470692942627e-05,1.0774699653422098e-05,1.0725236546700318e-05,1.0676079467600913e-05,1.0627226522734828e-05,1.0578675830427347e-05,1.0530425520645679e-05,1.04824737349269e-05,1.0434818626306366e-05,1.0387458359246577e-05,1.0340391109566492e-05,1.029361506437125e-05,1.024712842198234e-05,1.0200929391868226e-05,1.0155016194575361e-05,1.0109387061659658e-05,1.0064040235618367e-05,1.001897396982239e-05,9.974186528448999e-06,9.92967618641498e-06,9.885441229310192e-06,9.841479953331518e-06,9.797790665217256e-06,9.754371682181896e-06,9.711221331851293e-06,9.668337952198264e-06,9.62571989147857e-06,9.583365508167286e-06,9.541273170895593e-06,9.499441258387915e-06,9.457868159399499e-06,9.41655227265434e-06,9.375492006783506e-06,9.33468578026385e-06,9.29413202135708e-06,9.253829168049236e-06,9.213775667990517e-06,9.173969978435488e-06,9.134410566183669e-06,9.095095907520465e-06,9.056024488158479e-06,9.017194803179208e-06,8.978605356975044e-06,8.940254663191692e-06,8.902141244670916e-06,8.86426363339363e-06,8.826620370423375e-06,8.7892100058501e-06,8.752031098734346e-06,8.715082217051711e-06,8.678361937637725e-06,8.64186884613301e-06,8.605601536928812e-06,8.569558613112866e-06,8.533738686415578e-06,8.498140377156572e-06,8.462762314191526e-06,8.42760313485937e-06,8.392661484929817e-06,8.35793601855117e-06,8.323425398198502e-06,8.289128294622143e-06,8.255043386796463e-06,8.221169361869016e-06,8.187504915109942e-06,8.154048749861742e-06,8.120799577489309e-06,8.087756117330313e-06,8.054917096645866e-06,8.022281250571491e-06,7.989847322068423e-06,7.957614061875172e-06,7.925580228459419e-06,7.893744587970183e-06,7.862105914190306e-06,7.830662988489232e-06,7.799414599776034e-06,7.768359544452812e-06,7.737496626368295e-06,7.706824656771795e-06,7.676342454267403e-06,7.646048844768498e-06,7.615942661452513e-06,7.586022744715999e-06,7.556287942129959e-06,7.526737108395462e-06,7.497369105299522e-06,7.468182801671272e-06,7.4391770733383744e-06,7.410350803083736e-06,7.3817028806024745e-06,7.353232202459144e-06,7.32493767204525e-06,7.296818199536989e-06,7.26887270185329e-06,7.241100102614093e-06,7.21349933209888e-06,7.186069327205491e-06,7.1588090314091595e-06,7.131717394721823e-06,7.104793373651686e-06,7.078035931163026e-06,7.051444036636237e-06,7.02501666582815e-06,6.998752800832584e-06,6.972651430041118e-06,6.946711548104142e-06,6.9209321558921366e-06,6.895312260457183e-06,6.869850874994714e-06,6.844547018805517e-06,6.819399717257944e-06,6.794408001750392e-06,6.7695709096739746e-06,6.74488748437546e-06,6.7203567751204155e-06,6.6959778370565885e-06,6.671749731177522e-06,6.647671524286373e-06,6.623742288959981e-06,6.599961103513139e-06,6.576327051963092e-06,6.552839223994263e-06,6.529496714923185e-06,6.506298625663658e-06,6.4832440626921115e-06,6.4603321380132e-06,6.437561969125591e-06,6.4149326789879745e-06,6.3924433959852916e-06,6.370093253895149e-06,6.347881391854459e-06,6.325806954326289e-06,6.303869091066898e-06,6.2820669570929964e-06,6.260399712649191e-06,6.238866523175645e-06,6.21746655927594e-06,6.196198996685113e-06,6.175063016237925e-06,6.1540578038372984e-06,6.133182550422967e-06,6.112436451940308e-06,6.0918187093093735e-06,6.071328528394118e-06,6.050965119971799e-06,6.030727699702593e-06,6.010615488099372e-06,5.990627710497683e-06,5.97076359702592e-06,5.951022382575657e-06,5.931403306772183e-06,5.91190561394522e-06,5.892528553099814e-06,5.873271377887402e-06,5.8541333465770726e-06,5.835113722026996e-06,5.816211771656027e-06,5.79742676741549e-06,5.778757985761142e-06,5.760204707625296e-06,5.7417662183891285e-06,5.7234418078551524e-06,5.705230770219865e-06,5.687132404046563e-06,5.669146012238315e-06,5.651270902011133e-06,5.633506384867262e-06,5.61585177656868e-06,5.59830639711074e-06,5.580869570695967e-06,5.563540625708043e-06,5.546318894685931e-06,5.529203714298166e-06,5.512194425317305e-06,5.495290372594542e-06,5.47849090503446e-06,5.461795375569967e-06,5.4452031411373695e-06,5.428713562651595e-06,5.412326004981585e-06,5.3960398369258305e-06,5.379854431188054e-06,5.363769164353058e-06,5.347783416862704e-06,5.331896572992049e-06,5.316108020825637e-06,5.300417152233923e-06,5.284823362849856e-06,5.269326052045589e-06,5.253924622909357e-06,5.23861848222248e-06,5.223407040436514e-06,5.208289711650545e-06,5.193265913588618e-06,5.178335067577315e-06,5.163496598523461e-06,5.148749934891976e-06,5.134094508683861e-06,5.11952975541432e-06,5.105055114091015e-06,5.090670027192463e-06,5.076373940646558e-06,5.062166303809233e-06,5.048046569443245e-06,5.034014193697108e-06,5.020068636084131e-06,5.00620935946161e-06,4.992435830010141e-06,4.978747517213044e-06,4.965143893835948e-06,4.951624435906471e-06,4.9381886226940385e-06,4.924835936689837e-06,4.911565863586867e-06,4.8983778922601435e-06,4.885271514747004e-06,4.872246226227544e-06,4.859301525005173e-06,4.846436912487295e-06,4.833651893166097e-06,4.8209459745994655e-06,4.808318667392022e-06,4.795769485176272e-06,4.783297944593869e-06,4.770903565276999e-06,4.758585869829876e-06,4.74634438381036e-06,4.7341786357116746e-06,4.72208815694425e-06,4.7100724818176795e-06,4.698131147522769e-06,4.686263694113724e-06,4.67446966449043e-06,4.662748604380842e-06,4.651100062323492e-06,4.639523589650098e-06,4.628018740468283e-06,4.616585071644401e-06,4.605222142786468e-06,4.593929516227201e-06,4.582706757007156e-06,4.57155343285798e-06,4.56046911418576e-06,4.549453374054471e-06,4.53850578816954e-06,4.527625934861497e-06,4.5168133950697355e-06,4.506067752326374e-06,4.4953885927402105e-06,4.4847755049807844e-06,4.474228080262527e-06,4.463745912329027e-06,4.453328597437375e-06,4.442975734342609e-06,4.432686924282271e-06,4.422461770961035e-06,4.412299880535457e-06,4.40220086159879e-06,4.39216432516592e-06,4.382189884658378e-06,4.372277155889449e-06,4.362425757049382e-06,4.352635308690673e-06,4.342905433713454e-06,4.333235757350975e-06,4.3236259071551574e-06,4.314075512982259e-06,4.3045842069786084e-06,4.295151623566442e-06,4.285777399429822e-06,4.276461173500639e-06,4.26720258694471e-06,4.258001283147955e-06,4.248856907702658e-06,4.239769108393823e-06,4.230737535185599e-06,4.2217618402078064e-06,4.212841677742533e-06,4.20397670421082e-06,4.195166578159422e-06,4.186410960247669e-06,4.177709513234379e-06,4.169061901964885e-06,4.160467793358112e-06,4.1519268563937534e-06,4.143438762099526e-06,4.135003183538488e-06,4.126619795796458e-06,4.118288275969489e-06,4.110008303151443e-06,4.101779558421618e-06,4.0936017248324724e-06,4.08547448739742e-06,4.077397533078685e-06,4.069370550775257e-06,4.061393231310901e-06,4.053465267422256e-06,4.0455863537469905e-06,4.03775618681205e-06,4.02997446502196e-06,4.022240888647214e-06,4.014555159812734e-06,4.0069169824863855e-06,3.9993260624675815e-06,3.991782107375952e-06,3.9842848266400815e-06,3.976833931486312e-06,3.96942913492763e-06,3.962070151752604e-06,3.954756698514403e-06,3.947488493519877e-06,3.940265256818707e-06,3.933086710192626e-06,3.925952577144701e-06,3.918862582888676e-06,3.9118164543384e-06,3.904813920097298e-06,3.897854710447928e-06,3.890938557341581e-06,3.8840651943879635e-06,3.877234356844937e-06,3.870445781608319e-06,3.863699207201747e-06,3.8569943737666126e-06,3.850331023052046e-06,3.843708898404975e-06,3.8371277447602366e-06,3.83058730863075e-06,3.82408733809776e-06,3.817627582801127e-06,3.811207793929685e-06,3.804827724211664e-06,3.7984871279051573e-06,3.792185760788662e-06,3.7859233801516703e-06,3.7796997447853206e-06,3.7735146149731102e-06,3.767367752481656e-06,3.761258920551524e-06,3.7551878838881063e-06,3.749154408652561e-06,3.743158262452804e-06,3.7371992143345584e-06,3.7312770347724573e-06,3.7253914956612055e-06,3.719542370306792e-06,3.713729433417759e-06,3.7079524610965234e-06,3.7022112308307553e-06,3.6965055214848037e-06,3.6908351132911825e-06,3.685199787842104e-06,3.6795993280810674e-06,3.6740335182944966e-06,3.6685021441034327e-06,3.663004992455276e-06,3.6575418516155846e-06,3.652112511159911e-06,3.6467167619657013e-06,3.6413543962042414e-06,3.6360252073326507e-06,3.6307289900859274e-06,3.62546554046904e-06,3.620234655749074e-06,3.6150361344474186e-06,3.6098697763320094e-06,3.604735382409616e-06,3.5996327549181763e-06,3.5945616973191795e-06,3.589522014290096e-06,3.584513511716854e-06,3.579535996686364e-06,3.574589277479086e-06,3.5696731635616477e-06,3.5647874655795034e-06,3.5599319953496413e-06,3.5551065658533387e-06,3.5503109912289503e-06,3.5455450867647586e-06,3.5408086688918526e-06,3.5361015551770626e-06,3.5314235643159277e-06,3.5267745161257176e-06,3.5221542315384885e-06,3.517562532594189e-06,3.512999242433804e-06,3.5084641852925435e-06,3.5039571864930707e-06,3.4994780724387764e-06,3.495026670607091e-06,3.4906028095428397e-06,3.486206318851639e-06,3.481837029193334e-06,3.4774947722754736e-06,3.4731793808468316e-06,3.4688906886909625e-06,3.4646285306197988e-06,3.4603927424672916e-06,3.4561831610830828e-06,3.451999624326226e-06,3.447841971058937e-06,3.44371004114039e-06,3.4396036754205484e-06,3.4355227157340344e-06,3.431467004894037e-06,3.42743638668626e-06,3.4234307058629017e-06,3.4194498081366756e-06,3.415493540174871e-06,3.4115617495934424e-06,3.4076542849511453e-06,3.4037709957436977e-06,3.399911732397987e-06,3.3960763462663067e-06,3.3922646896206323e-06,3.3884766156469314e-06,3.384711978439508e-06,3.380970632995381e-06,3.377252435208704e-06,3.3735572418652077e-06,3.369884910636693e-06,3.3662353000755378e-06,3.3626082696092594e-06,3.359003679535092e-06,3.3554213910146103e-06,3.351861266068382e-06,3.348323167570651e-06,3.344806959244053e-06,3.341312505654376e-06,3.337839672205334e-06,3.3343883251333866e-06,3.330958331502589e-06,3.3275495591994663e-06,3.324161876927931e-06,3.3207951542042214e-06,3.3174492613518775e-06,3.3141240694967447e-06,3.3108194505620137e-06,3.3075352772632825e-06,3.304271423103657e-06,3.301027762368878e-06,3.297804170122479e-06,3.294600522200973e-06,3.291416695209072e-06,3.288252566514931e-06,3.2851080142454305e-06,3.2819829172814744e-06,3.278877155253332e-06,3.2757906085359964e-06,3.2727231582445803e-06,3.269674686229736e-06,3.2666450750731035e-06,3.263634208082789e-06,3.260641969288869e-06,3.2576682434389277e-06,3.2547129159936106e-06,3.2517758731222196e-06,3.2488570016983237e-06,3.2459561892954046e-06,3.243073324182526e-06,3.240208295320029e-06,3.2373609923552554e-06,3.2345313056182985e-06,3.2317191261177757e-06,3.228924345536636e-06,3.2261468562279807e-06,3.223386551210926e-06,3.2206433241664726e-06,3.217917069433419e-06,3.215207682004286e-06,3.2125150575212764e-06,3.209839092272251e-06,3.2071796831867386e-06,3.204536727831961e-06,3.2019101244088955e-06,3.1992997717483415e-06,3.196705569307037e-06,3.1941274171637767e-06,3.1915652160155673e-06,3.1890188671738025e-06,3.1864882725604602e-06,3.183973334704327e-06,3.1814739567372405e-06,3.1789900423903632e-06,3.17652149599047e-06,3.1740682224562657e-06,3.1716301272947204e-06,3.169207116597433e-06,3.166799097037011e-06,3.1644059758634797e-06,3.1620276609007047e-06,3.159664060542846e-06,3.157315083750826e-06,3.154980640048827e-06,3.152660639520803e-06,3.1503549928070167e-06,3.1480636111005985e-06,3.1457864061441274e-06,3.1435232902262277e-06,3.1412741761781956e-06,3.1390389773706355e-06,3.1368176077101306e-06,3.1346099816359203e-06,3.1324160141166078e-06,3.1302356206468856e-06,3.128068717244278e-06,3.1259152204459092e-06,3.1237750473052854e-06,3.121648115389105e-06,3.1195343427740753e-06,3.117433648043767e-06,3.1153459502854697e-06,3.1132711690870807e-06,3.1112092245340055e-06,3.10916003720608e-06,3.107123528174512e-06,3.1050996189988405e-06,3.103088231723914e-06,3.1010892888768904e-06,3.0991027134642495e-06,3.0971284289688293e-06,3.095166359346879e-06,3.0932164290251294e-06,3.091278562897882e-06,3.089352686324116e-06,3.0874387251246143e-06,3.0855366055791055e-06,3.083646254423425e-06,3.0817675988466906e-06,3.0799005664885035e-06,3.078045085436154e-06,3.07620108422186e-06,3.0743684918200053e-06,3.0725472376444103e-06,3.070737251545611e-06,3.068938463808158e-06,3.0671508051479294e-06,3.0653742067094627e-06,3.0636086000633056e-06,3.061853917203376e-06,3.060110090544345e-06,3.058377052919034e-06,3.0566547375758256e-06,3.054943078176096e-06,3.0532420087916545e-06,3.0515514639022103e-06,3.049871378392844e-06,3.048201687551502e-06,3.046542327066503e-06,3.0448932330240627e-06,3.043254341905828e-06,3.0416255905864353e-06,3.0400069163310757e-06,3.0383982567930804e-06,3.0367995500115185e-06,3.0352107344088102e-06,3.033631748788355e-06,3.0320625323321777e-06,3.0305030245985795e-06,3.028953165519815e-06,3.027412895399779e-06,3.025882154911702e-06,3.0243608850958724e-06,3.0228490273573574e-06,3.0213465234637544e-06,3.0198533155429403e-06,3.0183693460808486e-06,3.0168945579192505e-06,3.0154288942535555e-06,3.0139722986306202e-06,3.0125247149465793e-06,3.0110860874446778e-06,3.0096563607131296e-06,3.0082354796829804e-06,3.006823389625986e-06,3.0054200361525048e-06,3.0040253652094047e-06,3.002639323077979e-06,3.0012618563718776e-06,2.999892912035051e-06,2.9985324373397072e-06,2.997180379884281e-06,2.9958366875914136e-06,2.994501308705949e-06,2.9931741917929402e-06,2.9918552857356667e-06,2.990544539733666e-06,2.9892419033007795e-06,2.9879473262632034e-06,2.986660758757561e-06,2.9853821512289776e-06,2.984111454429175e-06,2.9828486194145726e-06,2.981593597544405e-06,2.980346340478844e-06,2.979106800177142e-06,2.9778749288957763e-06,2.9766506791866146e-06,2.975434003895085e-06,2.974224856158361e-06,2.973023189403554e-06,2.971828957345923e-06,2.97064211398709e-06,2.969462613613268e-06,2.9682904107935e-06,2.96712546037791e-06,2.9659677174959655e-06,2.9648171375547454e-06,2.9636736762372246e-06,2.9625372895005677e-06,2.961407933574432e-06,2.9602855649592796e-06,2.9591701404247054e-06,2.95806161700777e-06,2.956959952011345e-06,2.955865103002468e-06,2.9547770278107095e-06,2.953695684526548e-06,2.9526210314997554e-06,2.9515530273377923e-06,2.950491630904217e-06,2.9494368013170945e-06,2.948388497947429e-06,2.947346680417595e-06,2.9463113085997823e-06,2.945282342614451e-06,2.944259742828796e-06,2.9432434698552196e-06,2.9422334845498153e-06,2.941229748010857e-06,2.9402322215773064e-06,2.9392408668273186e-06,2.9382556455767645e-06,2.93727651987776e-06,2.936303452017204e-06,2.935336404515326e-06,2.9343753401242412e-06,2.933420221826519e-06,2.9324710128337538e-06,2.9315276765851505e-06,2.9305901767461127e-06,2.9296584772068494e-06,2.928732542080977e-06,2.927812335704143e-06,2.9268978226326483e-06,2.925988967642084e-06,2.925085735725974e-06,2.9241880920944275e-06,2.9232960021727974e-06,2.9224094316003505e-06,2.9215283462289416e-06,2.9206527121217015e-06,2.9197824955517265e-06,2.918917663000781e-06,2.918058181158007e-06,2.91720401691864e-06,2.916355137382734e-06,2.9155115098538948e-06,2.914673101838021e-06,2.913839881042051e-06,2.91301181537272e-06,2.9121888729353235e-06,2.9113710220324904e-06,2.9105582311629597e-06,2.9097504690203685e-06,2.908947704492046e-06,2.9081499066578165e-06,2.907357044788805e-06,2.9065690883462556e-06,2.905786006980357e-06,2.905007770529071e-06,2.9042343490169716e-06,2.9034657126540902e-06,2.902701831834768e-06,2.901942677136517e-06,2.901188219318885e-06,2.900438429322331e-06,2.8996932782671037e-06,2.8989527374521306e-06,2.8982167783539146e-06,2.8974853726254306e-06,2.8967584920950364e-06,2.896036108765389e-06,2.8953181948123632e-06,2.8946047225839815e-06,2.89389566459935e-06,2.893190993547597e-06,2.892490682286824e-06,2.8917947038430586e-06,2.891103031409217e-06,2.8904156383440682e-06,2.889732498171213e-06,2.889053584578059e-06,2.8883788714148114e-06,2.887708332693462e-06,2.8870419425867918e-06,2.8863796754273727e-06,2.8857215057065827e-06,2.8850674080736204e-06,2.884417357334528e-06,2.883771328451225e-06,2.8831292965405395e-06,2.882491236873252e-06,2.881857124873142e-06,2.8812269361160426e-06,2.8806006463288982e-06,2.87997823138883e-06,2.879359667322208e-06,2.878744930303727e-06,2.878133996655487e-06,2.8775268428460844e-06,2.8769234454897034e-06,2.8763237813452164e-06,2.875727827315288e-06,2.875135560445486e-06,2.8745469579233965e-06,2.8739619970777466e-06,2.873380655377529e-06,2.872802910431137e-06,2.8722287399854987e-06,2.871658121925224e-06,2.8710910342717474e-06,2.8705274551824882e-06,2.8699673629500013e-06,2.8694107360011494e-06,2.8688575528962654e-06,2.868307792328329e-06,2.867761433122148e-06,2.867218454233539e-06,2.8666788347485197e-06,2.8661425538825025e-06,2.865609590979493e-06,2.8650799255112956e-06,2.864553537076723e-06,2.864030405400808e-06,2.863510510334026e-06,2.8629938318515177e-06,2.8624803500523155e-06,2.8619700451585798e-06,2.8614628975148364e-06,2.86095888758722e-06,2.8604579959627183e-06,2.85996020334843e-06,2.8594654905708183e-06,2.858973838574971e-06,2.85848522842387e-06,2.857999641297661e-06,2.8575170584929257e-06,2.8570374614219645e-06,2.85656083161208e-06,2.8560871507048668e-06,2.8556164004554983e-06,2.855148562732033e-06,2.854683619514709e-06,2.8542215528952524e-06,2.8537623450761895e-06,2.8533059783701565e-06,2.852852435199224e-06,2.852401698094215e-06,2.851953749694035e-06,2.8515085727450014e-06,2.8510661501001815e-06,2.850626464718729e-06,2.8501894996652304e-06,2.84975523810905e-06,2.849323663323684e-06,2.848894758686115e-06,2.848468507676172e-06,2.8480448938758937e-06,2.8476239009688976e-06,2.8472055127397496e-06],\"type\":\"scatter\",\"uid\":\"7555525b-df88-4329-a5e0-88929d3477ee\"}],                        {\"template\":{\"data\":{\"barpolar\":[{\"marker\":{\"line\":{\"color\":\"white\",\"width\":0.5},\"pattern\":{\"fillmode\":\"overlay\",\"size\":10,\"solidity\":0.2}},\"type\":\"barpolar\"}],\"bar\":[{\"error_x\":{\"color\":\"#2a3f5f\"},\"error_y\":{\"color\":\"#2a3f5f\"},\"marker\":{\"line\":{\"color\":\"white\",\"width\":0.5},\"pattern\":{\"fillmode\":\"overlay\",\"size\":10,\"solidity\":0.2}},\"type\":\"bar\"}],\"carpet\":[{\"aaxis\":{\"endlinecolor\":\"#2a3f5f\",\"gridcolor\":\"#C8D4E3\",\"linecolor\":\"#C8D4E3\",\"minorgridcolor\":\"#C8D4E3\",\"startlinecolor\":\"#2a3f5f\"},\"baxis\":{\"endlinecolor\":\"#2a3f5f\",\"gridcolor\":\"#C8D4E3\",\"linecolor\":\"#C8D4E3\",\"minorgridcolor\":\"#C8D4E3\",\"startlinecolor\":\"#2a3f5f\"},\"type\":\"carpet\"}],\"choropleth\":[{\"colorbar\":{\"outlinewidth\":0,\"ticks\":\"\"},\"type\":\"choropleth\"}],\"contourcarpet\":[{\"colorbar\":{\"outlinewidth\":0,\"ticks\":\"\"},\"type\":\"contourcarpet\"}],\"contour\":[{\"colorbar\":{\"outlinewidth\":0,\"ticks\":\"\"},\"colorscale\":[[0.0,\"#0d0887\"],[0.1111111111111111,\"#46039f\"],[0.2222222222222222,\"#7201a8\"],[0.3333333333333333,\"#9c179e\"],[0.4444444444444444,\"#bd3786\"],[0.5555555555555556,\"#d8576b\"],[0.6666666666666666,\"#ed7953\"],[0.7777777777777778,\"#fb9f3a\"],[0.8888888888888888,\"#fdca26\"],[1.0,\"#f0f921\"]],\"type\":\"contour\"}],\"heatmapgl\":[{\"colorbar\":{\"outlinewidth\":0,\"ticks\":\"\"},\"colorscale\":[[0.0,\"#0d0887\"],[0.1111111111111111,\"#46039f\"],[0.2222222222222222,\"#7201a8\"],[0.3333333333333333,\"#9c179e\"],[0.4444444444444444,\"#bd3786\"],[0.5555555555555556,\"#d8576b\"],[0.6666666666666666,\"#ed7953\"],[0.7777777777777778,\"#fb9f3a\"],[0.8888888888888888,\"#fdca26\"],[1.0,\"#f0f921\"]],\"type\":\"heatmapgl\"}],\"heatmap\":[{\"colorbar\":{\"outlinewidth\":0,\"ticks\":\"\"},\"colorscale\":[[0.0,\"#0d0887\"],[0.1111111111111111,\"#46039f\"],[0.2222222222222222,\"#7201a8\"],[0.3333333333333333,\"#9c179e\"],[0.4444444444444444,\"#bd3786\"],[0.5555555555555556,\"#d8576b\"],[0.6666666666666666,\"#ed7953\"],[0.7777777777777778,\"#fb9f3a\"],[0.8888888888888888,\"#fdca26\"],[1.0,\"#f0f921\"]],\"type\":\"heatmap\"}],\"histogram2dcontour\":[{\"colorbar\":{\"outlinewidth\":0,\"ticks\":\"\"},\"colorscale\":[[0.0,\"#0d0887\"],[0.1111111111111111,\"#46039f\"],[0.2222222222222222,\"#7201a8\"],[0.3333333333333333,\"#9c179e\"],[0.4444444444444444,\"#bd3786\"],[0.5555555555555556,\"#d8576b\"],[0.6666666666666666,\"#ed7953\"],[0.7777777777777778,\"#fb9f3a\"],[0.8888888888888888,\"#fdca26\"],[1.0,\"#f0f921\"]],\"type\":\"histogram2dcontour\"}],\"histogram2d\":[{\"colorbar\":{\"outlinewidth\":0,\"ticks\":\"\"},\"colorscale\":[[0.0,\"#0d0887\"],[0.1111111111111111,\"#46039f\"],[0.2222222222222222,\"#7201a8\"],[0.3333333333333333,\"#9c179e\"],[0.4444444444444444,\"#bd3786\"],[0.5555555555555556,\"#d8576b\"],[0.6666666666666666,\"#ed7953\"],[0.7777777777777778,\"#fb9f3a\"],[0.8888888888888888,\"#fdca26\"],[1.0,\"#f0f921\"]],\"type\":\"histogram2d\"}],\"histogram\":[{\"marker\":{\"pattern\":{\"fillmode\":\"overlay\",\"size\":10,\"solidity\":0.2}},\"type\":\"histogram\"}],\"mesh3d\":[{\"colorbar\":{\"outlinewidth\":0,\"ticks\":\"\"},\"type\":\"mesh3d\"}],\"parcoords\":[{\"line\":{\"colorbar\":{\"outlinewidth\":0,\"ticks\":\"\"}},\"type\":\"parcoords\"}],\"pie\":[{\"automargin\":true,\"type\":\"pie\"}],\"scatter3d\":[{\"line\":{\"colorbar\":{\"outlinewidth\":0,\"ticks\":\"\"}},\"marker\":{\"colorbar\":{\"outlinewidth\":0,\"ticks\":\"\"}},\"type\":\"scatter3d\"}],\"scattercarpet\":[{\"marker\":{\"colorbar\":{\"outlinewidth\":0,\"ticks\":\"\"}},\"type\":\"scattercarpet\"}],\"scattergeo\":[{\"marker\":{\"colorbar\":{\"outlinewidth\":0,\"ticks\":\"\"}},\"type\":\"scattergeo\"}],\"scattergl\":[{\"marker\":{\"colorbar\":{\"outlinewidth\":0,\"ticks\":\"\"}},\"type\":\"scattergl\"}],\"scattermapbox\":[{\"marker\":{\"colorbar\":{\"outlinewidth\":0,\"ticks\":\"\"}},\"type\":\"scattermapbox\"}],\"scatterpolargl\":[{\"marker\":{\"colorbar\":{\"outlinewidth\":0,\"ticks\":\"\"}},\"type\":\"scatterpolargl\"}],\"scatterpolar\":[{\"marker\":{\"colorbar\":{\"outlinewidth\":0,\"ticks\":\"\"}},\"type\":\"scatterpolar\"}],\"scatter\":[{\"fillpattern\":{\"fillmode\":\"overlay\",\"size\":10,\"solidity\":0.2},\"type\":\"scatter\"}],\"scatterternary\":[{\"marker\":{\"colorbar\":{\"outlinewidth\":0,\"ticks\":\"\"}},\"type\":\"scatterternary\"}],\"surface\":[{\"colorbar\":{\"outlinewidth\":0,\"ticks\":\"\"},\"colorscale\":[[0.0,\"#0d0887\"],[0.1111111111111111,\"#46039f\"],[0.2222222222222222,\"#7201a8\"],[0.3333333333333333,\"#9c179e\"],[0.4444444444444444,\"#bd3786\"],[0.5555555555555556,\"#d8576b\"],[0.6666666666666666,\"#ed7953\"],[0.7777777777777778,\"#fb9f3a\"],[0.8888888888888888,\"#fdca26\"],[1.0,\"#f0f921\"]],\"type\":\"surface\"}],\"table\":[{\"cells\":{\"fill\":{\"color\":\"#EBF0F8\"},\"line\":{\"color\":\"white\"}},\"header\":{\"fill\":{\"color\":\"#C8D4E3\"},\"line\":{\"color\":\"white\"}},\"type\":\"table\"}]},\"layout\":{\"annotationdefaults\":{\"arrowcolor\":\"#2a3f5f\",\"arrowhead\":0,\"arrowwidth\":1},\"autotypenumbers\":\"strict\",\"coloraxis\":{\"colorbar\":{\"outlinewidth\":0,\"ticks\":\"\"}},\"colorscale\":{\"diverging\":[[0,\"#8e0152\"],[0.1,\"#c51b7d\"],[0.2,\"#de77ae\"],[0.3,\"#f1b6da\"],[0.4,\"#fde0ef\"],[0.5,\"#f7f7f7\"],[0.6,\"#e6f5d0\"],[0.7,\"#b8e186\"],[0.8,\"#7fbc41\"],[0.9,\"#4d9221\"],[1,\"#276419\"]],\"sequential\":[[0.0,\"#0d0887\"],[0.1111111111111111,\"#46039f\"],[0.2222222222222222,\"#7201a8\"],[0.3333333333333333,\"#9c179e\"],[0.4444444444444444,\"#bd3786\"],[0.5555555555555556,\"#d8576b\"],[0.6666666666666666,\"#ed7953\"],[0.7777777777777778,\"#fb9f3a\"],[0.8888888888888888,\"#fdca26\"],[1.0,\"#f0f921\"]],\"sequentialminus\":[[0.0,\"#0d0887\"],[0.1111111111111111,\"#46039f\"],[0.2222222222222222,\"#7201a8\"],[0.3333333333333333,\"#9c179e\"],[0.4444444444444444,\"#bd3786\"],[0.5555555555555556,\"#d8576b\"],[0.6666666666666666,\"#ed7953\"],[0.7777777777777778,\"#fb9f3a\"],[0.8888888888888888,\"#fdca26\"],[1.0,\"#f0f921\"]]},\"colorway\":[\"#636efa\",\"#EF553B\",\"#00cc96\",\"#ab63fa\",\"#FFA15A\",\"#19d3f3\",\"#FF6692\",\"#B6E880\",\"#FF97FF\",\"#FECB52\"],\"font\":{\"color\":\"#2a3f5f\"},\"geo\":{\"bgcolor\":\"white\",\"lakecolor\":\"white\",\"landcolor\":\"white\",\"showlakes\":true,\"showland\":true,\"subunitcolor\":\"#C8D4E3\"},\"hoverlabel\":{\"align\":\"left\"},\"hovermode\":\"closest\",\"mapbox\":{\"style\":\"light\"},\"paper_bgcolor\":\"white\",\"plot_bgcolor\":\"white\",\"polar\":{\"angularaxis\":{\"gridcolor\":\"#EBF0F8\",\"linecolor\":\"#EBF0F8\",\"ticks\":\"\"},\"bgcolor\":\"white\",\"radialaxis\":{\"gridcolor\":\"#EBF0F8\",\"linecolor\":\"#EBF0F8\",\"ticks\":\"\"}},\"scene\":{\"xaxis\":{\"backgroundcolor\":\"white\",\"gridcolor\":\"#DFE8F3\",\"gridwidth\":2,\"linecolor\":\"#EBF0F8\",\"showbackground\":true,\"ticks\":\"\",\"zerolinecolor\":\"#EBF0F8\"},\"yaxis\":{\"backgroundcolor\":\"white\",\"gridcolor\":\"#DFE8F3\",\"gridwidth\":2,\"linecolor\":\"#EBF0F8\",\"showbackground\":true,\"ticks\":\"\",\"zerolinecolor\":\"#EBF0F8\"},\"zaxis\":{\"backgroundcolor\":\"white\",\"gridcolor\":\"#DFE8F3\",\"gridwidth\":2,\"linecolor\":\"#EBF0F8\",\"showbackground\":true,\"ticks\":\"\",\"zerolinecolor\":\"#EBF0F8\"}},\"shapedefaults\":{\"line\":{\"color\":\"#2a3f5f\"}},\"ternary\":{\"aaxis\":{\"gridcolor\":\"#DFE8F3\",\"linecolor\":\"#A2B1C6\",\"ticks\":\"\"},\"baxis\":{\"gridcolor\":\"#DFE8F3\",\"linecolor\":\"#A2B1C6\",\"ticks\":\"\"},\"bgcolor\":\"white\",\"caxis\":{\"gridcolor\":\"#DFE8F3\",\"linecolor\":\"#A2B1C6\",\"ticks\":\"\"}},\"title\":{\"x\":0.05},\"xaxis\":{\"automargin\":true,\"gridcolor\":\"#EBF0F8\",\"linecolor\":\"#EBF0F8\",\"ticks\":\"\",\"title\":{\"standoff\":15},\"zerolinecolor\":\"#EBF0F8\",\"zerolinewidth\":2},\"yaxis\":{\"automargin\":true,\"gridcolor\":\"#EBF0F8\",\"linecolor\":\"#EBF0F8\",\"ticks\":\"\",\"title\":{\"standoff\":15},\"zerolinecolor\":\"#EBF0F8\",\"zerolinewidth\":2}}},\"xaxis\":{\"range\":[0,1],\"showgrid\":false,\"title\":{\"text\":\"Momentum (GeV\\u002fc)\"}},\"yaxis\":{\"range\":[0,2e-05],\"showgrid\":false,\"title\":{\"text\":\"dE\\u002fdx\"}},\"margin\":{\"l\":30,\"r\":0,\"b\":50,\"t\":50,\"pad\":0},\"showlegend\":false,\"autosize\":false,\"width\":530,\"height\":457,\"title\":{\"text\":\"Ionization Energy Loss vs. Momentum\"}},                        {\"responsive\": true}                    ).then(function(){\n                            \nvar gd = document.getElementById('377a9bff-be4a-4f2b-a0f4-262c8dffd53d');\nvar x = new MutationObserver(function (mutations, observer) {{\n        var display = window.getComputedStyle(gd).display;\n        if (!display || display === 'none') {{\n            console.log([gd, 'removed!']);\n            Plotly.purge(gd);\n            observer.disconnect();\n        }}\n}});\n\n// Listen for the removal of the full notebook cells\nvar notebookContainer = gd.closest('#notebook-container');\nif (notebookContainer) {{\n    x.observe(notebookContainer, {childList: true});\n}}\n\n// Listen for the clearing of the current output cell\nvar outputEl = gd.closest('.output');\nif (outputEl) {{\n    x.observe(outputEl, {childList: true});\n}}\n\n                        })                };                            </script>        </div>\n</body>\n</html>"
                },
                "metadata": {}
              }
            ]
          }
        },
        "2b88b1c5aa184c4c9597325b51293273": {
          "model_module": "@jupyter-widgets/base",
          "model_name": "LayoutModel",
          "model_module_version": "1.2.0",
          "state": {
            "_model_module": "@jupyter-widgets/base",
            "_model_module_version": "1.2.0",
            "_model_name": "LayoutModel",
            "_view_count": null,
            "_view_module": "@jupyter-widgets/base",
            "_view_module_version": "1.2.0",
            "_view_name": "LayoutView",
            "align_content": null,
            "align_items": null,
            "align_self": null,
            "border": null,
            "bottom": null,
            "display": null,
            "flex": null,
            "flex_flow": null,
            "grid_area": null,
            "grid_auto_columns": null,
            "grid_auto_flow": null,
            "grid_auto_rows": null,
            "grid_column": null,
            "grid_gap": null,
            "grid_row": null,
            "grid_template_areas": null,
            "grid_template_columns": null,
            "grid_template_rows": null,
            "height": null,
            "justify_content": null,
            "justify_items": null,
            "left": null,
            "margin": null,
            "max_height": null,
            "max_width": null,
            "min_height": null,
            "min_width": null,
            "object_fit": null,
            "object_position": null,
            "order": null,
            "overflow": null,
            "overflow_x": null,
            "overflow_y": null,
            "padding": null,
            "right": null,
            "top": null,
            "visibility": null,
            "width": null
          }
        },
        "d7530406294242b7898bd76322c8d99d": {
          "model_module": "@jupyter-widgets/controls",
          "model_name": "FloatSliderModel",
          "model_module_version": "1.5.0",
          "state": {
            "_dom_classes": [],
            "_model_module": "@jupyter-widgets/controls",
            "_model_module_version": "1.5.0",
            "_model_name": "FloatSliderModel",
            "_view_count": null,
            "_view_module": "@jupyter-widgets/controls",
            "_view_module_version": "1.5.0",
            "_view_name": "FloatSliderView",
            "continuous_update": true,
            "description": "a",
            "description_tooltip": null,
            "disabled": false,
            "layout": "IPY_MODEL_559523de01794846ae2bd1c92915aec1",
            "max": 0,
            "min": -10,
            "orientation": "horizontal",
            "readout": true,
            "readout_format": ".2f",
            "step": 0.01,
            "style": "IPY_MODEL_533ab7be6c1b4afe8f074f2c220e20bf",
            "value": -6.2
          }
        },
        "bc0ab5f460fb44d6be5493032ce80149": {
          "model_module": "@jupyter-widgets/controls",
          "model_name": "FloatSliderModel",
          "model_module_version": "1.5.0",
          "state": {
            "_dom_classes": [],
            "_model_module": "@jupyter-widgets/controls",
            "_model_module_version": "1.5.0",
            "_model_name": "FloatSliderModel",
            "_view_count": null,
            "_view_module": "@jupyter-widgets/controls",
            "_view_module_version": "1.5.0",
            "_view_name": "FloatSliderView",
            "continuous_update": true,
            "description": "b",
            "description_tooltip": null,
            "disabled": false,
            "layout": "IPY_MODEL_4c8d2b1af4424aea847c7c4f85e7e2e9",
            "max": 10,
            "min": 0,
            "orientation": "horizontal",
            "readout": true,
            "readout_format": ".2f",
            "step": 0.01,
            "style": "IPY_MODEL_26a1faaebd454da8a099f57e52c14203",
            "value": 3.5
          }
        },
        "52da0ee1ede14176a26d3d5c1f0bc497": {
          "model_module": "@jupyter-widgets/controls",
          "model_name": "FloatSliderModel",
          "model_module_version": "1.5.0",
          "state": {
            "_dom_classes": [],
            "_model_module": "@jupyter-widgets/controls",
            "_model_module_version": "1.5.0",
            "_model_name": "FloatSliderModel",
            "_view_count": null,
            "_view_module": "@jupyter-widgets/controls",
            "_view_module_version": "1.5.0",
            "_view_name": "FloatSliderView",
            "continuous_update": true,
            "description": "c",
            "description_tooltip": null,
            "disabled": false,
            "layout": "IPY_MODEL_43a0b72eed8847e6b77ecbd57c7e8504",
            "max": 10,
            "min": 0,
            "orientation": "horizontal",
            "readout": true,
            "readout_format": ".2f",
            "step": 0.01,
            "style": "IPY_MODEL_8227cc98f3af4557b0872873a094ea02",
            "value": 2.78
          }
        },
        "30aa002ff36f48e9989c822c3bbe0246": {
          "model_module": "@jupyter-widgets/base",
          "model_name": "LayoutModel",
          "model_module_version": "1.2.0",
          "state": {
            "_model_module": "@jupyter-widgets/base",
            "_model_module_version": "1.2.0",
            "_model_name": "LayoutModel",
            "_view_count": null,
            "_view_module": "@jupyter-widgets/base",
            "_view_module_version": "1.2.0",
            "_view_name": "LayoutView",
            "align_content": null,
            "align_items": null,
            "align_self": null,
            "border": null,
            "bottom": null,
            "display": null,
            "flex": null,
            "flex_flow": "row wrap",
            "grid_area": null,
            "grid_auto_columns": null,
            "grid_auto_flow": null,
            "grid_auto_rows": null,
            "grid_column": null,
            "grid_gap": null,
            "grid_row": null,
            "grid_template_areas": null,
            "grid_template_columns": null,
            "grid_template_rows": null,
            "height": null,
            "justify_content": null,
            "justify_items": null,
            "left": null,
            "margin": null,
            "max_height": null,
            "max_width": null,
            "min_height": null,
            "min_width": null,
            "object_fit": null,
            "object_position": null,
            "order": null,
            "overflow": null,
            "overflow_x": null,
            "overflow_y": null,
            "padding": null,
            "right": null,
            "top": null,
            "visibility": null,
            "width": null
          }
        },
        "68dfb45084074373898aa349781bbbfc": {
          "model_module": "@jupyter-widgets/base",
          "model_name": "LayoutModel",
          "model_module_version": "1.2.0",
          "state": {
            "_model_module": "@jupyter-widgets/base",
            "_model_module_version": "1.2.0",
            "_model_name": "LayoutModel",
            "_view_count": null,
            "_view_module": "@jupyter-widgets/base",
            "_view_module_version": "1.2.0",
            "_view_name": "LayoutView",
            "align_content": null,
            "align_items": null,
            "align_self": null,
            "border": null,
            "bottom": null,
            "display": null,
            "flex": null,
            "flex_flow": null,
            "grid_area": null,
            "grid_auto_columns": null,
            "grid_auto_flow": null,
            "grid_auto_rows": null,
            "grid_column": null,
            "grid_gap": null,
            "grid_row": null,
            "grid_template_areas": null,
            "grid_template_columns": null,
            "grid_template_rows": null,
            "height": null,
            "justify_content": null,
            "justify_items": null,
            "left": null,
            "margin": null,
            "max_height": null,
            "max_width": null,
            "min_height": null,
            "min_width": null,
            "object_fit": null,
            "object_position": null,
            "order": null,
            "overflow": null,
            "overflow_x": null,
            "overflow_y": null,
            "padding": null,
            "right": null,
            "top": null,
            "visibility": null,
            "width": null
          }
        },
        "559523de01794846ae2bd1c92915aec1": {
          "model_module": "@jupyter-widgets/base",
          "model_name": "LayoutModel",
          "model_module_version": "1.2.0",
          "state": {
            "_model_module": "@jupyter-widgets/base",
            "_model_module_version": "1.2.0",
            "_model_name": "LayoutModel",
            "_view_count": null,
            "_view_module": "@jupyter-widgets/base",
            "_view_module_version": "1.2.0",
            "_view_name": "LayoutView",
            "align_content": null,
            "align_items": null,
            "align_self": null,
            "border": null,
            "bottom": null,
            "display": null,
            "flex": null,
            "flex_flow": null,
            "grid_area": null,
            "grid_auto_columns": null,
            "grid_auto_flow": null,
            "grid_auto_rows": null,
            "grid_column": null,
            "grid_gap": null,
            "grid_row": null,
            "grid_template_areas": null,
            "grid_template_columns": null,
            "grid_template_rows": null,
            "height": null,
            "justify_content": null,
            "justify_items": null,
            "left": null,
            "margin": null,
            "max_height": null,
            "max_width": null,
            "min_height": null,
            "min_width": null,
            "object_fit": null,
            "object_position": null,
            "order": null,
            "overflow": null,
            "overflow_x": null,
            "overflow_y": null,
            "padding": null,
            "right": null,
            "top": null,
            "visibility": null,
            "width": null
          }
        },
        "533ab7be6c1b4afe8f074f2c220e20bf": {
          "model_module": "@jupyter-widgets/controls",
          "model_name": "SliderStyleModel",
          "model_module_version": "1.5.0",
          "state": {
            "_model_module": "@jupyter-widgets/controls",
            "_model_module_version": "1.5.0",
            "_model_name": "SliderStyleModel",
            "_view_count": null,
            "_view_module": "@jupyter-widgets/base",
            "_view_module_version": "1.2.0",
            "_view_name": "StyleView",
            "description_width": "",
            "handle_color": null
          }
        },
        "4c8d2b1af4424aea847c7c4f85e7e2e9": {
          "model_module": "@jupyter-widgets/base",
          "model_name": "LayoutModel",
          "model_module_version": "1.2.0",
          "state": {
            "_model_module": "@jupyter-widgets/base",
            "_model_module_version": "1.2.0",
            "_model_name": "LayoutModel",
            "_view_count": null,
            "_view_module": "@jupyter-widgets/base",
            "_view_module_version": "1.2.0",
            "_view_name": "LayoutView",
            "align_content": null,
            "align_items": null,
            "align_self": null,
            "border": null,
            "bottom": null,
            "display": null,
            "flex": null,
            "flex_flow": null,
            "grid_area": null,
            "grid_auto_columns": null,
            "grid_auto_flow": null,
            "grid_auto_rows": null,
            "grid_column": null,
            "grid_gap": null,
            "grid_row": null,
            "grid_template_areas": null,
            "grid_template_columns": null,
            "grid_template_rows": null,
            "height": null,
            "justify_content": null,
            "justify_items": null,
            "left": null,
            "margin": null,
            "max_height": null,
            "max_width": null,
            "min_height": null,
            "min_width": null,
            "object_fit": null,
            "object_position": null,
            "order": null,
            "overflow": null,
            "overflow_x": null,
            "overflow_y": null,
            "padding": null,
            "right": null,
            "top": null,
            "visibility": null,
            "width": null
          }
        },
        "26a1faaebd454da8a099f57e52c14203": {
          "model_module": "@jupyter-widgets/controls",
          "model_name": "SliderStyleModel",
          "model_module_version": "1.5.0",
          "state": {
            "_model_module": "@jupyter-widgets/controls",
            "_model_module_version": "1.5.0",
            "_model_name": "SliderStyleModel",
            "_view_count": null,
            "_view_module": "@jupyter-widgets/base",
            "_view_module_version": "1.2.0",
            "_view_name": "StyleView",
            "description_width": "",
            "handle_color": null
          }
        },
        "43a0b72eed8847e6b77ecbd57c7e8504": {
          "model_module": "@jupyter-widgets/base",
          "model_name": "LayoutModel",
          "model_module_version": "1.2.0",
          "state": {
            "_model_module": "@jupyter-widgets/base",
            "_model_module_version": "1.2.0",
            "_model_name": "LayoutModel",
            "_view_count": null,
            "_view_module": "@jupyter-widgets/base",
            "_view_module_version": "1.2.0",
            "_view_name": "LayoutView",
            "align_content": null,
            "align_items": null,
            "align_self": null,
            "border": null,
            "bottom": null,
            "display": null,
            "flex": null,
            "flex_flow": null,
            "grid_area": null,
            "grid_auto_columns": null,
            "grid_auto_flow": null,
            "grid_auto_rows": null,
            "grid_column": null,
            "grid_gap": null,
            "grid_row": null,
            "grid_template_areas": null,
            "grid_template_columns": null,
            "grid_template_rows": null,
            "height": null,
            "justify_content": null,
            "justify_items": null,
            "left": null,
            "margin": null,
            "max_height": null,
            "max_width": null,
            "min_height": null,
            "min_width": null,
            "object_fit": null,
            "object_position": null,
            "order": null,
            "overflow": null,
            "overflow_x": null,
            "overflow_y": null,
            "padding": null,
            "right": null,
            "top": null,
            "visibility": null,
            "width": null
          }
        },
        "8227cc98f3af4557b0872873a094ea02": {
          "model_module": "@jupyter-widgets/controls",
          "model_name": "SliderStyleModel",
          "model_module_version": "1.5.0",
          "state": {
            "_model_module": "@jupyter-widgets/controls",
            "_model_module_version": "1.5.0",
            "_model_name": "SliderStyleModel",
            "_view_count": null,
            "_view_module": "@jupyter-widgets/base",
            "_view_module_version": "1.2.0",
            "_view_name": "StyleView",
            "description_width": "",
            "handle_color": null
          }
        },
        "97acaaa0d30b4f8b9dbe85af7e9e47cb": {
          "model_module": "@jupyter-widgets/controls",
          "model_name": "VBoxModel",
          "model_module_version": "1.5.0",
          "state": {
            "_dom_classes": [],
            "_model_module": "@jupyter-widgets/controls",
            "_model_module_version": "1.5.0",
            "_model_name": "VBoxModel",
            "_view_count": null,
            "_view_module": "@jupyter-widgets/controls",
            "_view_module_version": "1.5.0",
            "_view_name": "VBoxView",
            "box_style": "",
            "children": [
              "IPY_MODEL_41c540acb8af47b4a33ee2d25398b5ad",
              "IPY_MODEL_e7ca24bdaa6f4662ababf7cb066c074e"
            ],
            "layout": "IPY_MODEL_f2f4bd63df90420797f8e704f5749f66"
          }
        },
        "41c540acb8af47b4a33ee2d25398b5ad": {
          "model_module": "@jupyter-widgets/controls",
          "model_name": "HBoxModel",
          "model_module_version": "1.5.0",
          "state": {
            "_dom_classes": [],
            "_model_module": "@jupyter-widgets/controls",
            "_model_module_version": "1.5.0",
            "_model_name": "HBoxModel",
            "_view_count": null,
            "_view_module": "@jupyter-widgets/controls",
            "_view_module_version": "1.5.0",
            "_view_name": "HBoxView",
            "box_style": "",
            "children": [
              "IPY_MODEL_773787b52ba74c86a4c090cb4c13bd05",
              "IPY_MODEL_7bd97baeaa87449d88f23a6df7b1bb56",
              "IPY_MODEL_b7fcfefef86745ff9b886ab8164489ce"
            ],
            "layout": "IPY_MODEL_85a377c586f24185a032504a1ac118ff"
          }
        },
        "e7ca24bdaa6f4662ababf7cb066c074e": {
          "model_module": "@jupyter-widgets/output",
          "model_name": "OutputModel",
          "model_module_version": "1.0.0",
          "state": {
            "_dom_classes": [],
            "_model_module": "@jupyter-widgets/output",
            "_model_module_version": "1.0.0",
            "_model_name": "OutputModel",
            "_view_count": null,
            "_view_module": "@jupyter-widgets/output",
            "_view_module_version": "1.0.0",
            "_view_name": "OutputView",
            "layout": "IPY_MODEL_d43e2f86e5794c68b822fb3063d3bd61",
            "msg_id": "",
            "outputs": [
              {
                "output_type": "display_data",
                "data": {
                  "text/html": "<html>\n<head><meta charset=\"utf-8\" /></head>\n<body>\n    <div>            <script src=\"https://cdnjs.cloudflare.com/ajax/libs/mathjax/2.7.5/MathJax.js?config=TeX-AMS-MML_SVG\"></script><script type=\"text/javascript\">if (window.MathJax && window.MathJax.Hub && window.MathJax.Hub.Config) {window.MathJax.Hub.Config({SVG: {font: \"STIX-Web\"}});}</script>                <script type=\"text/javascript\">window.PlotlyConfig = {MathJaxConfig: 'local'};</script>\n        <script charset=\"utf-8\" src=\"https://cdn.plot.ly/plotly-2.24.1.min.js\"></script>                <div id=\"99d093a0-3839-436d-80e6-4f04a4e9a868\" class=\"plotly-graph-div\" style=\"height:457px; width:530px;\"></div>            <script type=\"text/javascript\">                                    window.PLOTLYENV=window.PLOTLYENV || {};                                    if (document.getElementById(\"99d093a0-3839-436d-80e6-4f04a4e9a868\")) {                    Plotly.newPlot(                        \"99d093a0-3839-436d-80e6-4f04a4e9a868\",                        [{\"marker\":{\"color\":\"red\"},\"mode\":\"lines\",\"name\":\"Cut\",\"x\":[0.0,0.001001001001001001,0.002002002002002002,0.003003003003003003,0.004004004004004004,0.005005005005005005,0.006006006006006006,0.007007007007007007,0.008008008008008008,0.009009009009009009,0.01001001001001001,0.011011011011011011,0.012012012012012012,0.013013013013013013,0.014014014014014014,0.015015015015015015,0.016016016016016016,0.017017017017017015,0.018018018018018018,0.01901901901901902,0.02002002002002002,0.02102102102102102,0.022022022022022022,0.023023023023023025,0.024024024024024024,0.025025025025025023,0.026026026026026026,0.02702702702702703,0.028028028028028028,0.029029029029029027,0.03003003003003003,0.031031031031031032,0.03203203203203203,0.03303303303303303,0.03403403403403403,0.035035035035035036,0.036036036036036036,0.037037037037037035,0.03803803803803804,0.03903903903903904,0.04004004004004004,0.04104104104104104,0.04204204204204204,0.043043043043043044,0.044044044044044044,0.04504504504504504,0.04604604604604605,0.04704704704704705,0.04804804804804805,0.04904904904904905,0.050050050050050046,0.05105105105105105,0.05205205205205205,0.05305305305305305,0.05405405405405406,0.055055055055055056,0.056056056056056056,0.057057057057057055,0.058058058058058054,0.05905905905905906,0.06006006006006006,0.06106106106106106,0.062062062062062065,0.06306306306306306,0.06406406406406406,0.06506506506506507,0.06606606606606606,0.06706706706706707,0.06806806806806806,0.06906906906906907,0.07007007007007007,0.07107107107107107,0.07207207207207207,0.07307307307307308,0.07407407407407407,0.07507507507507508,0.07607607607607608,0.07707707707707707,0.07807807807807808,0.07907907907907907,0.08008008008008008,0.08108108108108109,0.08208208208208208,0.08308308308308308,0.08408408408408408,0.08508508508508508,0.08608608608608609,0.08708708708708708,0.08808808808808809,0.0890890890890891,0.09009009009009009,0.09109109109109109,0.0920920920920921,0.09309309309309309,0.0940940940940941,0.09509509509509509,0.0960960960960961,0.0970970970970971,0.0980980980980981,0.0990990990990991,0.10010010010010009,0.1011011011011011,0.1021021021021021,0.1031031031031031,0.1041041041041041,0.10510510510510511,0.1061061061061061,0.10710710710710711,0.10810810810810811,0.1091091091091091,0.11011011011011011,0.1111111111111111,0.11211211211211211,0.11311311311311312,0.11411411411411411,0.11511511511511512,0.11611611611611611,0.11711711711711711,0.11811811811811812,0.11911911911911911,0.12012012012012012,0.12112112112112113,0.12212212212212212,0.12312312312312312,0.12412412412412413,0.12512512512512514,0.12612612612612611,0.12712712712712712,0.12812812812812813,0.12912912912912913,0.13013013013013014,0.13113113113113112,0.13213213213213212,0.13313313313313313,0.13413413413413414,0.13513513513513514,0.13613613613613612,0.13713713713713713,0.13813813813813813,0.13913913913913914,0.14014014014014015,0.14114114114114115,0.14214214214214213,0.14314314314314314,0.14414414414414414,0.14514514514514515,0.14614614614614616,0.14714714714714713,0.14814814814814814,0.14914914914914915,0.15015015015015015,0.15115115115115116,0.15215215215215216,0.15315315315315314,0.15415415415415415,0.15515515515515516,0.15615615615615616,0.15715715715715717,0.15815815815815815,0.15915915915915915,0.16016016016016016,0.16116116116116116,0.16216216216216217,0.16316316316316315,0.16416416416416416,0.16516516516516516,0.16616616616616617,0.16716716716716717,0.16816816816816815,0.16916916916916916,0.17017017017017017,0.17117117117117117,0.17217217217217218,0.17317317317317318,0.17417417417417416,0.17517517517517517,0.17617617617617617,0.17717717717717718,0.1781781781781782,0.17917917917917917,0.18018018018018017,0.18118118118118118,0.18218218218218218,0.1831831831831832,0.1841841841841842,0.18518518518518517,0.18618618618618618,0.1871871871871872,0.1881881881881882,0.1891891891891892,0.19019019019019018,0.19119119119119118,0.1921921921921922,0.1931931931931932,0.1941941941941942,0.19519519519519518,0.1961961961961962,0.1971971971971972,0.1981981981981982,0.1991991991991992,0.20020020020020018,0.2012012012012012,0.2022022022022022,0.2032032032032032,0.2042042042042042,0.20520520520520522,0.2062062062062062,0.2072072072072072,0.2082082082082082,0.2092092092092092,0.21021021021021022,0.2112112112112112,0.2122122122122122,0.2132132132132132,0.21421421421421422,0.21521521521521522,0.21621621621621623,0.2172172172172172,0.2182182182182182,0.21921921921921922,0.22022022022022023,0.22122122122122123,0.2222222222222222,0.22322322322322322,0.22422422422422422,0.22522522522522523,0.22622622622622623,0.2272272272272272,0.22822822822822822,0.22922922922922923,0.23023023023023023,0.23123123123123124,0.23223223223223222,0.23323323323323322,0.23423423423423423,0.23523523523523523,0.23623623623623624,0.23723723723723725,0.23823823823823823,0.23923923923923923,0.24024024024024024,0.24124124124124124,0.24224224224224225,0.24324324324324323,0.24424424424424424,0.24524524524524524,0.24624624624624625,0.24724724724724725,0.24824824824824826,0.24924924924924924,0.2502502502502503,0.25125125125125125,0.25225225225225223,0.25325325325325326,0.25425425425425424,0.2552552552552553,0.25625625625625625,0.25725725725725723,0.25825825825825827,0.25925925925925924,0.2602602602602603,0.26126126126126126,0.26226226226226224,0.26326326326326327,0.26426426426426425,0.2652652652652653,0.26626626626626626,0.26726726726726724,0.2682682682682683,0.26926926926926925,0.2702702702702703,0.27127127127127126,0.27227227227227224,0.2732732732732733,0.27427427427427425,0.2752752752752753,0.27627627627627627,0.2772772772772773,0.2782782782782783,0.27927927927927926,0.2802802802802803,0.28128128128128127,0.2822822822822823,0.2832832832832833,0.28428428428428426,0.2852852852852853,0.2862862862862863,0.2872872872872873,0.2882882882882883,0.28928928928928926,0.2902902902902903,0.2912912912912913,0.2922922922922923,0.2932932932932933,0.29429429429429427,0.2952952952952953,0.2962962962962963,0.2972972972972973,0.2982982982982983,0.29929929929929927,0.3003003003003003,0.3013013013013013,0.3023023023023023,0.3033033033033033,0.30430430430430433,0.3053053053053053,0.3063063063063063,0.3073073073073073,0.3083083083083083,0.30930930930930933,0.3103103103103103,0.3113113113113113,0.3123123123123123,0.3133133133133133,0.31431431431431434,0.3153153153153153,0.3163163163163163,0.3173173173173173,0.3183183183183183,0.31931931931931934,0.3203203203203203,0.3213213213213213,0.32232232232232233,0.3233233233233233,0.32432432432432434,0.3253253253253253,0.3263263263263263,0.32732732732732733,0.3283283283283283,0.32932932932932935,0.3303303303303303,0.3313313313313313,0.33233233233233234,0.3333333333333333,0.33433433433433435,0.3353353353353353,0.3363363363363363,0.33733733733733734,0.3383383383383383,0.33933933933933935,0.34034034034034033,0.34134134134134136,0.34234234234234234,0.3433433433433433,0.34434434434434436,0.34534534534534533,0.34634634634634637,0.34734734734734735,0.3483483483483483,0.34934934934934936,0.35035035035035034,0.35135135135135137,0.35235235235235235,0.3533533533533533,0.35435435435435436,0.35535535535535534,0.3563563563563564,0.35735735735735735,0.35835835835835833,0.35935935935935936,0.36036036036036034,0.3613613613613614,0.36236236236236236,0.36336336336336333,0.36436436436436437,0.36536536536536535,0.3663663663663664,0.36736736736736736,0.3683683683683684,0.36936936936936937,0.37037037037037035,0.3713713713713714,0.37237237237237236,0.3733733733733734,0.3743743743743744,0.37537537537537535,0.3763763763763764,0.37737737737737737,0.3783783783783784,0.3793793793793794,0.38038038038038036,0.3813813813813814,0.38238238238238237,0.3833833833833834,0.3843843843843844,0.38538538538538536,0.3863863863863864,0.38738738738738737,0.3883883883883884,0.3893893893893894,0.39039039039039036,0.3913913913913914,0.3923923923923924,0.3933933933933934,0.3943943943943944,0.39539539539539537,0.3963963963963964,0.3973973973973974,0.3983983983983984,0.3993993993993994,0.40040040040040037,0.4014014014014014,0.4024024024024024,0.4034034034034034,0.4044044044044044,0.40540540540540543,0.4064064064064064,0.4074074074074074,0.4084084084084084,0.4094094094094094,0.41041041041041043,0.4114114114114114,0.4124124124124124,0.4134134134134134,0.4144144144144144,0.41541541541541543,0.4164164164164164,0.4174174174174174,0.4184184184184184,0.4194194194194194,0.42042042042042044,0.4214214214214214,0.4224224224224224,0.42342342342342343,0.4244244244244244,0.42542542542542544,0.4264264264264264,0.4274274274274274,0.42842842842842843,0.4294294294294294,0.43043043043043044,0.4314314314314314,0.43243243243243246,0.43343343343343343,0.4344344344344344,0.43543543543543545,0.4364364364364364,0.43743743743743746,0.43843843843843844,0.4394394394394394,0.44044044044044045,0.44144144144144143,0.44244244244244246,0.44344344344344344,0.4444444444444444,0.44544544544544545,0.44644644644644643,0.44744744744744747,0.44844844844844844,0.4494494494494494,0.45045045045045046,0.45145145145145144,0.45245245245245247,0.45345345345345345,0.4544544544544544,0.45545545545545546,0.45645645645645644,0.4574574574574575,0.45845845845845845,0.45945945945945943,0.46046046046046046,0.46146146146146144,0.4624624624624625,0.46346346346346345,0.46446446446446443,0.46546546546546547,0.46646646646646645,0.4674674674674675,0.46846846846846846,0.4694694694694695,0.47047047047047047,0.47147147147147145,0.4724724724724725,0.47347347347347346,0.4744744744744745,0.4754754754754755,0.47647647647647645,0.4774774774774775,0.47847847847847846,0.4794794794794795,0.4804804804804805,0.48148148148148145,0.4824824824824825,0.48348348348348347,0.4844844844844845,0.4854854854854855,0.48648648648648646,0.4874874874874875,0.48848848848848847,0.4894894894894895,0.4904904904904905,0.49149149149149146,0.4924924924924925,0.4934934934934935,0.4944944944944945,0.4954954954954955,0.4964964964964965,0.4974974974974975,0.4984984984984985,0.4994994994994995,0.5005005005005005,0.5015015015015015,0.5025025025025025,0.5035035035035035,0.5045045045045045,0.5055055055055055,0.5065065065065065,0.5075075075075075,0.5085085085085085,0.5095095095095095,0.5105105105105106,0.5115115115115115,0.5125125125125125,0.5135135135135135,0.5145145145145145,0.5155155155155156,0.5165165165165165,0.5175175175175175,0.5185185185185185,0.5195195195195195,0.5205205205205206,0.5215215215215215,0.5225225225225225,0.5235235235235235,0.5245245245245245,0.5255255255255256,0.5265265265265265,0.5275275275275275,0.5285285285285285,0.5295295295295295,0.5305305305305306,0.5315315315315315,0.5325325325325325,0.5335335335335335,0.5345345345345345,0.5355355355355356,0.5365365365365365,0.5375375375375375,0.5385385385385385,0.5395395395395395,0.5405405405405406,0.5415415415415415,0.5425425425425425,0.5435435435435435,0.5445445445445445,0.5455455455455456,0.5465465465465466,0.5475475475475475,0.5485485485485485,0.5495495495495496,0.5505505505505506,0.5515515515515516,0.5525525525525525,0.5535535535535535,0.5545545545545546,0.5555555555555556,0.5565565565565566,0.5575575575575575,0.5585585585585585,0.5595595595595596,0.5605605605605606,0.5615615615615616,0.5625625625625625,0.5635635635635635,0.5645645645645646,0.5655655655655656,0.5665665665665666,0.5675675675675675,0.5685685685685685,0.5695695695695696,0.5705705705705706,0.5715715715715716,0.5725725725725725,0.5735735735735735,0.5745745745745746,0.5755755755755756,0.5765765765765766,0.5775775775775776,0.5785785785785785,0.5795795795795796,0.5805805805805806,0.5815815815815816,0.5825825825825826,0.5835835835835835,0.5845845845845846,0.5855855855855856,0.5865865865865866,0.5875875875875876,0.5885885885885885,0.5895895895895896,0.5905905905905906,0.5915915915915916,0.5925925925925926,0.5935935935935935,0.5945945945945946,0.5955955955955956,0.5965965965965966,0.5975975975975976,0.5985985985985985,0.5995995995995996,0.6006006006006006,0.6016016016016016,0.6026026026026026,0.6036036036036035,0.6046046046046046,0.6056056056056056,0.6066066066066066,0.6076076076076076,0.6086086086086087,0.6096096096096096,0.6106106106106106,0.6116116116116116,0.6126126126126126,0.6136136136136137,0.6146146146146146,0.6156156156156156,0.6166166166166166,0.6176176176176176,0.6186186186186187,0.6196196196196196,0.6206206206206206,0.6216216216216216,0.6226226226226226,0.6236236236236237,0.6246246246246246,0.6256256256256256,0.6266266266266266,0.6276276276276276,0.6286286286286287,0.6296296296296297,0.6306306306306306,0.6316316316316316,0.6326326326326326,0.6336336336336337,0.6346346346346347,0.6356356356356356,0.6366366366366366,0.6376376376376376,0.6386386386386387,0.6396396396396397,0.6406406406406406,0.6416416416416416,0.6426426426426426,0.6436436436436437,0.6446446446446447,0.6456456456456456,0.6466466466466466,0.6476476476476476,0.6486486486486487,0.6496496496496497,0.6506506506506506,0.6516516516516516,0.6526526526526526,0.6536536536536537,0.6546546546546547,0.6556556556556556,0.6566566566566566,0.6576576576576576,0.6586586586586587,0.6596596596596597,0.6606606606606606,0.6616616616616616,0.6626626626626626,0.6636636636636637,0.6646646646646647,0.6656656656656657,0.6666666666666666,0.6676676676676676,0.6686686686686687,0.6696696696696697,0.6706706706706707,0.6716716716716716,0.6726726726726726,0.6736736736736737,0.6746746746746747,0.6756756756756757,0.6766766766766766,0.6776776776776777,0.6786786786786787,0.6796796796796797,0.6806806806806807,0.6816816816816816,0.6826826826826827,0.6836836836836837,0.6846846846846847,0.6856856856856857,0.6866866866866866,0.6876876876876877,0.6886886886886887,0.6896896896896897,0.6906906906906907,0.6916916916916916,0.6926926926926927,0.6936936936936937,0.6946946946946947,0.6956956956956957,0.6966966966966966,0.6976976976976977,0.6986986986986987,0.6996996996996997,0.7007007007007007,0.7017017017017017,0.7027027027027027,0.7037037037037037,0.7047047047047047,0.7057057057057057,0.7067067067067067,0.7077077077077077,0.7087087087087087,0.7097097097097097,0.7107107107107107,0.7117117117117117,0.7127127127127127,0.7137137137137137,0.7147147147147147,0.7157157157157157,0.7167167167167167,0.7177177177177178,0.7187187187187187,0.7197197197197197,0.7207207207207207,0.7217217217217217,0.7227227227227228,0.7237237237237237,0.7247247247247247,0.7257257257257257,0.7267267267267267,0.7277277277277278,0.7287287287287287,0.7297297297297297,0.7307307307307307,0.7317317317317317,0.7327327327327328,0.7337337337337337,0.7347347347347347,0.7357357357357357,0.7367367367367368,0.7377377377377378,0.7387387387387387,0.7397397397397397,0.7407407407407407,0.7417417417417418,0.7427427427427428,0.7437437437437437,0.7447447447447447,0.7457457457457457,0.7467467467467468,0.7477477477477478,0.7487487487487487,0.7497497497497497,0.7507507507507507,0.7517517517517518,0.7527527527527528,0.7537537537537538,0.7547547547547547,0.7557557557557557,0.7567567567567568,0.7577577577577578,0.7587587587587588,0.7597597597597597,0.7607607607607607,0.7617617617617618,0.7627627627627628,0.7637637637637638,0.7647647647647647,0.7657657657657657,0.7667667667667668,0.7677677677677678,0.7687687687687688,0.7697697697697697,0.7707707707707707,0.7717717717717718,0.7727727727727728,0.7737737737737738,0.7747747747747747,0.7757757757757757,0.7767767767767768,0.7777777777777778,0.7787787787787788,0.7797797797797797,0.7807807807807807,0.7817817817817818,0.7827827827827828,0.7837837837837838,0.7847847847847848,0.7857857857857857,0.7867867867867868,0.7877877877877878,0.7887887887887888,0.7897897897897898,0.7907907907907907,0.7917917917917918,0.7927927927927928,0.7937937937937938,0.7947947947947948,0.7957957957957957,0.7967967967967968,0.7977977977977978,0.7987987987987988,0.7997997997997998,0.8008008008008007,0.8018018018018018,0.8028028028028028,0.8038038038038038,0.8048048048048048,0.8058058058058059,0.8068068068068068,0.8078078078078078,0.8088088088088088,0.8098098098098098,0.8108108108108109,0.8118118118118118,0.8128128128128128,0.8138138138138138,0.8148148148148148,0.8158158158158159,0.8168168168168168,0.8178178178178178,0.8188188188188188,0.8198198198198198,0.8208208208208209,0.8218218218218218,0.8228228228228228,0.8238238238238238,0.8248248248248248,0.8258258258258259,0.8268268268268268,0.8278278278278278,0.8288288288288288,0.8298298298298298,0.8308308308308309,0.8318318318318318,0.8328328328328328,0.8338338338338338,0.8348348348348348,0.8358358358358359,0.8368368368368369,0.8378378378378378,0.8388388388388388,0.8398398398398398,0.8408408408408409,0.8418418418418419,0.8428428428428428,0.8438438438438438,0.8448448448448448,0.8458458458458459,0.8468468468468469,0.8478478478478478,0.8488488488488488,0.8498498498498498,0.8508508508508509,0.8518518518518519,0.8528528528528528,0.8538538538538538,0.8548548548548548,0.8558558558558559,0.8568568568568569,0.8578578578578578,0.8588588588588588,0.8598598598598598,0.8608608608608609,0.8618618618618619,0.8628628628628628,0.8638638638638638,0.8648648648648649,0.8658658658658659,0.8668668668668669,0.8678678678678678,0.8688688688688688,0.8698698698698699,0.8708708708708709,0.8718718718718719,0.8728728728728729,0.8738738738738738,0.8748748748748749,0.8758758758758759,0.8768768768768769,0.8778778778778779,0.8788788788788788,0.8798798798798799,0.8808808808808809,0.8818818818818819,0.8828828828828829,0.8838838838838838,0.8848848848848849,0.8858858858858859,0.8868868868868869,0.8878878878878879,0.8888888888888888,0.8898898898898899,0.8908908908908909,0.8918918918918919,0.8928928928928929,0.8938938938938938,0.8948948948948949,0.8958958958958959,0.8968968968968969,0.8978978978978979,0.8988988988988988,0.8998998998998999,0.9009009009009009,0.9019019019019019,0.9029029029029029,0.9039039039039038,0.9049049049049049,0.9059059059059059,0.9069069069069069,0.9079079079079079,0.9089089089089089,0.9099099099099099,0.9109109109109109,0.9119119119119119,0.9129129129129129,0.9139139139139139,0.914914914914915,0.9159159159159159,0.9169169169169169,0.9179179179179179,0.9189189189189189,0.91991991991992,0.9209209209209209,0.9219219219219219,0.9229229229229229,0.9239239239239239,0.924924924924925,0.9259259259259259,0.9269269269269269,0.9279279279279279,0.9289289289289289,0.92992992992993,0.9309309309309309,0.9319319319319319,0.9329329329329329,0.933933933933934,0.934934934934935,0.9359359359359359,0.9369369369369369,0.9379379379379379,0.938938938938939,0.93993993993994,0.9409409409409409,0.9419419419419419,0.9429429429429429,0.943943943943944,0.944944944944945,0.9459459459459459,0.9469469469469469,0.9479479479479479,0.948948948948949,0.94994994994995,0.950950950950951,0.9519519519519519,0.9529529529529529,0.953953953953954,0.954954954954955,0.955955955955956,0.9569569569569569,0.9579579579579579,0.958958958958959,0.95995995995996,0.960960960960961,0.9619619619619619,0.9629629629629629,0.963963963963964,0.964964964964965,0.965965965965966,0.9669669669669669,0.9679679679679679,0.968968968968969,0.96996996996997,0.970970970970971,0.9719719719719719,0.9729729729729729,0.973973973973974,0.974974974974975,0.975975975975976,0.9769769769769769,0.9779779779779779,0.978978978978979,0.97997997997998,0.980980980980981,0.9819819819819819,0.9829829829829829,0.983983983983984,0.984984984984985,0.985985985985986,0.986986986986987,0.9879879879879879,0.988988988988989,0.98998998998999,0.990990990990991,0.991991991991992,0.992992992992993,0.993993993993994,0.994994994994995,0.995995995995996,0.996996996996997,0.997997997997998,0.998998998998999,1.0],\"y\":[9.805240831492406e-05,9.75045827525401e-05,9.695992854394653e-05,9.641842733022479e-05,9.58800608587359e-05,9.534481098250495e-05,9.481265965960994e-05,9.428358895257294e-05,9.375758102775594e-05,9.32346181547596e-05,9.271468270582555e-05,9.219775715524226e-05,9.168382407875426e-05,9.11728661529748e-05,9.066486615480212e-05,9.015980696083857e-05,8.965767154681357e-05,8.915844298700987e-05,8.866210445369289e-05,8.816863921654356e-05,8.76780306420944e-05,8.719026219316866e-05,8.670531742832338e-05,8.622318000129458e-05,8.574383366044662e-05,8.526726224822437e-05,8.479344970060848e-05,8.432238004657404e-05,8.385403740755209e-05,8.338840599689441e-05,8.292547011934171e-05,8.2465214170494e-05,8.200762263628509e-05,8.155268009245942e-05,8.110037120405224e-05,8.065068072487269e-05,8.020359349698984e-05,7.975909445022178e-05,7.931716860162763e-05,7.88778010550027e-05,7.844097700037602e-05,7.800668171351135e-05,7.757490055541086e-05,7.714561897182163e-05,7.671882249274509e-05,7.629449673194922e-05,7.587262738648386e-05,7.545320023619823e-05,7.503620114326181e-05,7.462161605168783e-05,7.420943098685935e-05,7.379963205505832e-05,7.339220544299716e-05,7.298713741735325e-05,7.258441432430587e-05,7.218402258907627e-05,7.178594871546966e-05,7.139017928542062e-05,7.09967009585407e-05,7.060550047166877e-05,7.021656463842383e-05,6.982988034876078e-05,6.944543456852823e-05,6.90632143390295e-05,6.868320677658539e-05,6.830539907210024e-05,6.792977849063001e-05,6.755633237095305e-05,6.718504812514337e-05,6.681591323814623e-05,6.644891526735636e-05,6.608404184219862e-05,6.57212806637109e-05,6.536061950412954e-05,6.500204620647726e-05,6.46455486841533e-05,6.429111492052614e-05,6.393873296852825e-05,6.358839095025347e-05,6.324007705655685e-05,6.28937795466562e-05,6.254948674773663e-05,6.220718705455694e-05,6.186686892905854e-05,6.15285208999765e-05,6.119213156245279e-05,6.085768957765198e-05,6.052518367237904e-05,6.019460263869921e-05,5.986593533356031e-05,5.953917067841711e-05,5.9214297658857956e-05,5.889130532423341e-05,5.857018278728717e-05,5.825091922378915e-05,5.793350387217047e-05,5.761792603316092e-05,5.730417506942815e-05,5.6992240405219155e-05,5.66821115260038e-05,5.637377797812041e-05,5.606722936842339e-05,5.5762455363932954e-05,5.545944569148673e-05,5.515819013739349e-05,5.485867854708901e-05,5.456090082479362e-05,5.4264846933171944e-05,5.397050689299463e-05,5.367787078280191e-05,5.338692873856918e-05,5.309767095337459e-05,5.2810087677068335e-05,5.252416921594409e-05,5.22399059324123e-05,5.1957288244675216e-05,5.167630662640399e-05,5.139695160641753e-05,5.111921376836327e-05,5.0843083750399805e-05,5.0568552244881234e-05,5.029560999804348e-05,5.002424780969243e-05,4.975445653289366e-05,4.948622707366427e-05,4.921955039066624e-05,4.895441749490182e-05,4.8690819449410274e-05,4.8428747368966936e-05,4.816819241978348e-05,4.7909145819210315e-05,4.765159883544042e-05,4.7395542787215066e-05,4.7140969043531256e-05,4.688786902335066e-05,4.663623419531054e-05,4.6386056077436e-05,4.613732623685421e-05,4.589003628951009e-05,4.564417789988377e-05,4.5399742780709536e-05,4.5156722692696525e-05,4.4915109444251025e-05,4.467489489120031e-05,4.44360709365182e-05,4.4198629530052e-05,4.396256266825129e-05,4.3727862393898043e-05,4.3494520795838455e-05,4.3262530008716264e-05,4.303188221270763e-05,4.280256963325761e-05,4.257458454081797e-05,4.234791925058673e-05,4.21225661222491e-05,4.1898517559720034e-05,4.1675766010888004e-05,4.1454303967360586e-05,4.123412396421133e-05,4.101521857972811e-05,4.079758043516301e-05,4.0581202194483544e-05,4.0366076564125394e-05,4.015219629274662e-05,3.993955417098316e-05,3.9728143031205853e-05,3.9517955747278826e-05,3.930898523431929e-05,3.910122444845879e-05,3.8894666386605664e-05,3.868930408620903e-05,3.848513062502415e-05,3.828213912087905e-05,3.80803227314425e-05,3.7879674653993466e-05,3.768018812519174e-05,3.748185642084998e-05,3.728467285570708e-05,3.7088630783202826e-05,3.689372359525381e-05,3.66999447220307e-05,3.650728763173685e-05,3.631574583038805e-05,3.612531286159367e-05,3.5935982306339054e-05,3.574774778276911e-05,3.5560602945973163e-05,3.537454148777122e-05,3.518955713650116e-05,3.5005643656807454e-05,3.4822794849430964e-05,3.4641004550999926e-05,3.446026663382228e-05,3.428057500567907e-05,3.410192360961908e-05,3.3924306423754754e-05,3.374771746105909e-05,3.3572150769163894e-05,3.339760043015918e-05,3.322406056039361e-05,3.305152531027627e-05,3.287998886407935e-05,3.270944543974229e-05,3.253988928867674e-05,3.2371314695572876e-05,3.2203715978206664e-05,3.2037087487248415e-05,3.1871423606072305e-05,3.170671875056708e-05,3.154296736894782e-05,3.1380163941568804e-05,3.121830298073746e-05,3.105737903052938e-05,3.08973866666044e-05,3.0738320496023813e-05,3.0580175157068525e-05,3.042294531905834e-05,3.0266625682172344e-05,3.011121097727016e-05,2.9956695965714366e-05,2.9803075439193994e-05,2.9650344219548863e-05,2.9498497158595085e-05,2.9347529137951546e-05,2.919743506886734e-05,2.904820989205028e-05,2.8899848577496342e-05,2.8752346124320125e-05,2.8605697560586257e-05,2.8459897943141832e-05,2.8314942357449795e-05,2.817082591742324e-05,2.8027543765260773e-05,2.7885091071282715e-05,2.7743463033768356e-05,2.7602654878794047e-05,2.746266186007233e-05,2.7323479258791912e-05,2.7185102383458653e-05,2.7047526569737372e-05,2.691074718029466e-05,2.6774759604642575e-05,2.6639559258983216e-05,2.6505141586054205e-05,2.6371502054975086e-05,2.623863616109463e-05,2.6106539425838924e-05,2.5975207396560478e-05,2.584463564638809e-05,2.5714819774077666e-05,2.5585755403863827e-05,2.5457438185312474e-05,2.5329863793174074e-05,2.5203027927237866e-05,2.507692631218701e-05,2.4951554697454353e-05,2.4826908857079252e-05,2.4702984589565055e-05,2.457977771773752e-05,2.445728408860401e-05,2.433549957321349e-05,2.4214420066517363e-05,2.40940414872311e-05,2.397435977769666e-05,2.3855370903745713e-05,2.373707085456368e-05,2.3619455642554532e-05,2.3502521303206365e-05,2.3386263894957755e-05,2.327067949906495e-05,2.315576421946973e-05,2.3041514182668087e-05,2.292792553757968e-05,2.2814994455418016e-05,2.2702717129561386e-05,2.259108977542452e-05,2.248010863033114e-05,2.2369769953386955e-05,2.2260070025353697e-05,2.2151005148523716e-05,2.2042571646595298e-05,2.193476586454883e-05,2.1827584168523507e-05,2.1721022945694933e-05,2.161507860415326e-05,2.1509747572782175e-05,2.1405026301138492e-05,2.1300911259332487e-05,2.1197398937908906e-05,2.1094485847728705e-05,2.0992168519851368e-05,2.0890443505418075e-05,2.078930737553535e-05,2.0688756721159562e-05,2.0588788152981962e-05,2.0489398301314466e-05,2.039058381597606e-05,2.029234136617987e-05,2.0194667640420915e-05,2.0097559346364447e-05,2.0001013210734986e-05,1.9905025979206044e-05,1.9809594416290315e-05,1.9714715305230712e-05,1.9620385447891905e-05,1.9526601664652517e-05,1.9433360794297953e-05,1.9340659693913816e-05,1.9248495238780045e-05,1.915686432226548e-05,1.9065763855723243e-05,1.8975190768386562e-05,1.8885142007265294e-05,1.8795614537043007e-05,1.8706605339974663e-05,1.8618111415784924e-05,1.8530129781566987e-05,1.8442657471682038e-05,1.835569153765933e-05,1.8269229048096747e-05,1.818326708856201e-05,1.809780276149447e-05,1.8012833186107384e-05,1.7928355498290854e-05,1.784436685051526e-05,1.7760864411735312e-05,1.7677845367294572e-05,1.7595306918830615e-05,1.751324628418069e-05,1.743166069728795e-05,1.7350547408108197e-05,1.7269903682517208e-05,1.7189726802218552e-05,1.7110014064651998e-05,1.703076278290236e-05,1.6951970285609e-05,1.687363391687571e-05,1.679575103618126e-05,1.6718319018290322e-05,1.664133525316503e-05,1.6564797145877006e-05,1.6488702116519837e-05,1.6413047600122188e-05,1.6337831046561265e-05,1.6263049920476922e-05,1.618870170118617e-05,1.611478388259819e-05,1.6041293973129935e-05,1.5968229495622047e-05,1.5895587987255425e-05,1.5823366999468193e-05,1.5751564097873148e-05,1.5680176862175735e-05,1.560920288609244e-05,1.5538639777269678e-05,1.5468485157203177e-05,1.5398736661157785e-05,1.532939193808776e-05,1.526044865055753e-05,1.5191904474662903e-05,1.512375709995274e-05,1.5056004229351056e-05,1.498864357907961e-05,1.4921672878580918e-05,1.4855089870441712e-05,1.4788892310316871e-05,1.4723077966853732e-05,1.4657644621616921e-05,1.4592590069013537e-05,1.4527912116218822e-05,1.4463608583102258e-05,1.4399677302154053e-05,1.4336116118412118e-05,1.4272922889389386e-05,1.4210095485001626e-05,1.4147631787495628e-05,1.4085529691377818e-05,1.402378710334331e-05,1.3962401942205305e-05,1.3901372138824982e-05,1.3840695636041723e-05,1.3780370388603774e-05,1.372039436309933e-05,1.3660765537887957e-05,1.3601481903032489e-05,1.3542541460231234e-05,1.3483942222750649e-05,1.3425682215358354e-05,1.3367759474256565e-05,1.3310172047015897e-05,1.3252917992509541e-05,1.3195995380847836e-05,1.3139402293313244e-05,1.3083136822295632e-05,1.3027197071228001e-05,1.2971581154522553e-05,1.2916287197507116e-05,1.2861313336361988e-05,1.280665771805707e-05,1.2752318500289437e-05,1.2698293851421223e-05,1.2644581950417883e-05,1.2591180986786827e-05,1.253808916051636e-05,1.2485304682015044e-05,1.2432825772051349e-05,1.2380650661693685e-05,1.2328777592250788e-05,1.227720481521243e-05,1.222593059219048e-05,1.2174953194860312e-05,1.2124270904902536e-05,1.2073882013945099e-05,1.2023784823505673e-05,1.1973977644934438e-05,1.192445879935712e-05,1.1875226617618445e-05,1.1826279440225833e-05,1.1777615617293493e-05,1.1729233508486794e-05,1.1681131482966972e-05,1.1633307919336178e-05,1.1585761205582796e-05,1.1538489739027125e-05,1.1491491926267356e-05,1.144476618312585e-05,1.1398310934595762e-05,1.1352124614787924e-05,1.1306205666878081e-05,1.1260552543054414e-05,1.1215163704465358e-05,1.117003762116774e-05,1.1125172772075192e-05,1.1080567644906913e-05,1.1036220736136659e-05,1.0992130550942077e-05,1.094829560315432e-05,1.0904714415207942e-05,1.0861385518091119e-05,1.0818307451296098e-05,1.0775478762769983e-05,1.0732898008865802e-05,1.0690563754293827e-05,1.064847457207319e-05,1.0606629043483809e-05,1.0565025758018543e-05,1.0523663313335657e-05,1.0482540315211549e-05,1.0441655377493759e-05,1.0401007122054243e-05,1.0360594178742907e-05,1.0320415185341459e-05,1.0280468787517441e-05,1.0240753638778632e-05,1.0201268400427605e-05,1.0162011741516654e-05,1.0122982338802901e-05,1.0084178876703695e-05,1.004560004725229e-05,1.0007244550053716e-05,9.969111092240993e-06,9.931198388431507e-06,9.89350516068372e-06,9.85603013845407e-06,9.818772058554156e-06,9.781729665108152e-06,9.744901709510482e-06,9.708286950383726e-06,9.67188415353678e-06,9.635692091923244e-06,9.599709545600091e-06,9.56393530168651e-06,9.528368154323038e-06,9.493006904630924e-06,9.457850360671695e-06,9.422897337407005e-06,9.388146656658669e-06,9.353597147068957e-06,9.319247644061114e-06,9.2850969898001e-06,9.251144033153568e-06,9.217387629653051e-06,9.1838266414554e-06,9.150459937304417e-06,9.117286392492737e-06,9.084304888823897e-06,9.051514314574665e-06,9.018913564457553e-06,8.986501539583571e-06,8.954277147425173e-06,8.922239301779449e-06,8.890386922731486e-06,8.858718936617997e-06,8.827234275991104e-06,8.79593187958237e-06,8.764810692267036e-06,8.73386966502843e-06,8.703107754922628e-06,8.672523925043293e-06,8.642117144486715e-06,8.611886388317084e-06,8.581830637531918e-06,8.551948879027728e-06,8.522240105565859e-06,8.492703315738559e-06,8.463337513935186e-06,8.434141710308704e-06,8.405114920742264e-06,8.376256166816062e-06,8.347564475774352e-06,8.319038880492648e-06,8.290678419445145e-06,8.26248213667229e-06,8.234449081748565e-06,8.206578309750447e-06,8.17886888122457e-06,8.151319862156046e-06,8.123930323936977e-06,8.096699343335175e-06,8.069626002463015e-06,8.04270938874652e-06,8.015948594894588e-06,7.989342718868405e-06,7.962890863851055e-06,7.936592138217275e-06,7.910445655503403e-06,7.884450534377517e-06,7.8586058986097e-06,7.832910877042515e-06,7.80736460356165e-06,7.781966217066704e-06,7.75671486144219e-06,7.731609685528647e-06,7.706649843093967e-06,7.681834492804868e-06,7.657162798198528e-06,7.632633927654403e-06,7.608247054366184e-06,7.584001356313932e-06,7.559896016236367e-06,7.535930221603323e-06,7.51210316458836e-06,7.488414042041532e-06,7.4648620554623135e-06,7.44144641097269e-06,7.4181663192903916e-06,7.395020995702294e-06,7.3720096600379655e-06,7.3491315366433636e-06,7.326385854354699e-06,7.303771846472443e-06,7.2812887507354695e-06,7.258935809295377e-06,7.236712268690933e-06,7.214617379822678e-06,7.192650397927688e-06,7.17081058255445e-06,7.149097197537919e-06,7.127509510974695e-06,7.1060467951983555e-06,7.084708326754933e-06,7.0634933863785184e-06,7.0424012589670234e-06,7.021431233558076e-06,7.00058260330505e-06,6.979854665453251e-06,6.959246721316216e-06,6.938758076252167e-06,6.918388039640598e-06,6.8981359248589926e-06,6.8780010492596875e-06,6.85798273414685e-06,6.838080304753606e-06,6.818293090219303e-06,6.798620423566884e-06,6.779061641680419e-06,6.7596160852827416e-06,6.74028309891323e-06,6.721062030905715e-06,6.701952233366512e-06,6.682953062152588e-06,6.664063876849838e-06,6.645284040751505e-06,6.626612920836722e-06,6.6080498877491645e-06,6.589594315775849e-06,6.571245582826029e-06,6.553003070410234e-06,6.534866163619419e-06,6.5168342511042366e-06,6.498906725054437e-06,6.48108298117837e-06,6.46336241868262e-06,6.445744440251756e-06,6.428228452028197e-06,6.4108138635922e-06,6.393500087941943e-06,6.3762865414737545e-06,6.359172643962435e-06,6.342157818541696e-06,6.3252414916847294e-06,6.3084230931848525e-06,6.29170205613631e-06,6.2750778169151465e-06,6.258549815160225e-06,6.242117493754327e-06,6.225780298805377e-06,6.209537679627772e-06,6.193389088723821e-06,6.177333981765288e-06,6.1613718175750445e-06,6.14550205810883e-06,6.129724168437109e-06,6.114037616727049e-06,6.098441874224592e-06,6.0829364152366215e-06,6.067520717113259e-06,6.052194260230232e-06,6.036956527971364e-06,6.0218070067111704e-06,6.006745185797529e-06,5.991770557534476e-06,5.976882617165092e-06,5.962080862854486e-06,5.947364795672889e-06,5.9327339195788215e-06,5.918187741402381e-06,5.903725770828622e-06,5.889347520381018e-06,5.875052505405047e-06,5.860840244051834e-06,5.846710257261926e-06,5.832662068749135e-06,5.818695204984488e-06,5.804809195180265e-06,5.791003571274126e-06,5.777277867913337e-06,5.763631622439088e-06,5.750064374870888e-06,5.73657566789107e-06,5.723165046829372e-06,5.709832059647608e-06,5.696576256924436e-06,5.683397191840207e-06,5.670294420161908e-06,5.657267500228176e-06,5.644315992934426e-06,5.631439461718041e-06,5.618637472543653e-06,5.605909593888528e-06,5.593255396728002e-06,5.580674454521031e-06,5.568166343195813e-06,5.555730641135485e-06,5.543366929163927e-06,5.531074790531614e-06,5.518853810901582e-06,5.506703578335456e-06,5.494623683279567e-06,5.482613718551147e-06,5.4706732793246e-06,5.458801963117861e-06,5.446999369778826e-06,5.435265101471867e-06,5.42359876266442e-06,5.411999960113652e-06,5.4004683028532085e-06,5.389003402180031e-06,5.377604871641258e-06,5.3662723270212e-06,5.355005386328382e-06,5.343803669782676e-06,5.332666799802493e-06,5.321594400992054e-06,5.310586100128751e-06,5.2996415261505475e-06,5.28876031014348e-06,5.277942085329226e-06,5.267186487052733e-06,5.256493152769936e-06,5.245861722035526e-06,5.235291836490812e-06,5.224783139851631e-06,5.214335277896347e-06,5.203947898453909e-06,5.193620651391973e-06,5.183353188605111e-06,5.17314516400307e-06,5.162996233499109e-06,5.152906054998397e-06,5.1428742883864895e-06,5.132900595517857e-06,5.122984640204485e-06,5.113126088204555e-06,5.1033246072111635e-06,5.093579866841128e-06,5.083891538623847e-06,5.074259295990233e-06,5.064682814261702e-06,5.05516177063923e-06,5.045695844192465e-06,5.036284715848926e-06,5.02692806838323e-06,5.01762558640641e-06,5.008376956355281e-06,4.99918186648187e-06,4.990040006842909e-06,4.9809510692893826e-06,4.971914747456152e-06,4.962930736751618e-06,4.953998734347457e-06,4.945118439168416e-06,4.936289551882158e-06,4.927511774889181e-06,4.918784812312779e-06,4.9101083699890736e-06,4.9014821554570956e-06,4.892905877948926e-06,4.884379248379902e-06,4.875901979338863e-06,4.867473785078467e-06,4.859094381505563e-06,4.8507634861716064e-06,4.842480818263146e-06,4.834246098592353e-06,4.826059049587615e-06,4.8179193952841755e-06,4.8098268613148345e-06,4.801781174900701e-06,4.793782064841995e-06,4.785829261508906e-06,4.777922496832513e-06,4.770061504295732e-06,4.7622460189243516e-06,4.754475777278088e-06,4.746750517441709e-06,4.739069979016205e-06,4.731433903110016e-06,4.723842032330296e-06,4.716294110774245e-06,4.708789884020482e-06,4.701329099120463e-06,4.693911504589966e-06,4.6865368504006e-06,4.67920488797139e-06,4.67191537016039e-06,4.6646680512563535e-06,4.657462686970455e-06,4.650299034428055e-06,4.643176852160506e-06,4.636095900097024e-06,4.629055939556586e-06,4.622056733239898e-06,4.61509804522138e-06,4.608179640941225e-06,4.601301287197488e-06,4.5944627521382275e-06,4.587663805253688e-06,4.580904217368535e-06,4.574183760634122e-06,4.567502208520816e-06,4.560859335810362e-06,4.554254918588289e-06,4.547688734236365e-06,4.541160561425088e-06,4.534670180106234e-06,4.5282173715054285e-06,4.5218019181147865e-06,4.515423603685567e-06,4.509082213220889e-06,4.5027775329684896e-06,4.496509350413512e-06,4.4902774542713425e-06,4.484081634480497e-06,4.477921682195527e-06,4.471797389779992e-06,4.465708550799451e-06,4.459654960014517e-06,4.453636413373922e-06,4.447652708007652e-06,4.441703642220103e-06,4.4357890154832836e-06,4.429908628430059e-06,4.4240622828474225e-06,4.4182497816698256e-06,4.412470928972524e-06,4.406725529964979e-06,4.401013390984295e-06,4.395334319488686e-06,4.389688124050986e-06,4.3840746143522e-06,4.3784936011750864e-06,4.372944896397778e-06,4.367428312987444e-06,4.3619436649939835e-06,4.356490767543756e-06,4.3510694368333545e-06,4.345679490123404e-06,4.3403207457324065e-06,4.334993023030616e-06,4.32969614243395e-06,4.3244299253979315e-06,4.319194194411681e-06,4.313988772991921e-06,4.308813485677036e-06,4.303668158021154e-06,4.2985526165882685e-06,4.29346668894639e-06,4.288410203661737e-06,4.283382990292954e-06,4.278384879385368e-06,4.273415702465277e-06,4.26847529203427e-06,4.263563481563583e-06,4.258680105488484e-06,4.25382499920269e-06,4.248997999052828e-06,4.244198942332904e-06,4.239427667278832e-06,4.2346840130629725e-06,4.229967819788717e-06,4.225278928485095e-06,4.220617181101417e-06,4.215982420501945e-06,4.211374490460599e-06,4.206793235655689e-06,4.202238501664681e-06,4.197710134958989e-06,4.1932079828988005e-06,4.188731893727936e-06,4.184281716568726e-06,4.179857301416935e-06,4.1754584991366954e-06,4.171085161455485e-06,4.166737140959132e-06,4.162414291086839e-06,4.15811646612625e-06,4.153843521208534e-06,4.149595312303505e-06,4.145371696214762e-06,4.141172530574869e-06,4.136997673840554e-06,4.132846985287934e-06,4.128720325007773e-06,4.124617553900773e-06,4.120538533672875e-06,4.116483126830603e-06,4.112451196676432e-06,4.10844260730417e-06,4.104457223594391e-06,4.1004949112098675e-06,4.096555536591055e-06,4.092638966951576e-06,4.088745070273756e-06,4.084873715304167e-06,4.081024771549203e-06,4.077198109270689e-06,4.073393599481498e-06,4.069611113941208e-06,4.065850525151779e-06,4.062111706353257e-06,4.058394531519499e-06,4.05469887535392e-06,4.051024613285283e-06,4.0473716214634895e-06,4.043739776755404e-06,4.040128956740709e-06,4.036539039707777e-06,4.032969904649569e-06,4.029421431259548e-06,4.025893499927635e-06,4.02238599173617e-06,4.018898788455906e-06,4.0154317725420225e-06,4.011984827130165e-06,4.008557836032506e-06,4.005150683733824e-06,4.001763255387617e-06,3.9983954368122255e-06,3.995047114486986e-06,3.991718175548406e-06,3.988408507786358e-06,3.985117999640294e-06,3.981846540195491e-06,3.978594019179312e-06,3.975360326957479e-06,3.972145354530393e-06,3.9689489935294485e-06,3.965771136213384e-06,3.962611675464651e-06,3.959470504785804e-06,3.956347518295908e-06,3.953242610726972e-06,3.9501556774203985e-06,3.947086614323459e-06,3.944035317985782e-06,3.941001685555873e-06,3.937985614777638e-06,3.934987003986945e-06,3.9320057521081935e-06,3.929041758650909e-06,3.926094923706355e-06,3.92316514794416e-06,3.920252332608983e-06,3.917356379517168e-06,3.91447719105345e-06,3.9116146701676516e-06,3.9087687203714195e-06,3.905939245734971e-06,3.903126150883857e-06,3.900329340995752e-06,3.897548721797255e-06,3.894784199560711e-06,3.892035681101054e-06,3.889303073772665e-06,3.886586285466248e-06,3.883885224605728e-06,3.8811998001451615e-06,3.878529921565668e-06,3.875875498872381e-06,3.8732364425914106e-06,3.870612663766832e-06,3.868004073957685e-06,3.865410585234991e-06,3.86283211017879e-06,3.8602685618752e-06,3.857719853913477e-06,3.85518590038311e-06,3.852666615870921e-06,3.850161915458188e-06,3.847671714717784e-06,3.845195929711327e-06,3.842734476986354e-06,3.8402872735735084e-06,3.8378542369837396e-06,3.835435285205525e-06,3.833030336702106e-06,3.830639310408741e-06,3.828262125729967e-06,3.825898702536892e-06,3.823548961164484e-06,3.8212128224088925e-06,3.818890207524779e-06,3.816581038222657e-06,3.814285236666258e-06,3.8120027254699086e-06,3.809733427695916e-06,3.8074772668519816e-06,3.8052341668886177e-06,3.8030040521965884e-06,3.800786847604355e-06,3.7985824783755483e-06,3.7963908702064464e-06,3.7942119492234694e-06,3.7920456419806915e-06,3.7898918754573637e-06,3.787750577055453e-06,3.785621674597196e-06,3.783505096322664e-06,3.781400770887348e-06,3.7793086273597464e-06,3.777228595218985e-06,3.7751606043524285e-06,3.773104585053326e-06,3.7710604680184576e-06,3.7690281843457965e-06,3.7670076655321915e-06,3.7649988434710525e-06,3.7630016504500596e-06,3.7610160191488765e-06,3.759041882636885e-06,3.7570791743709264e-06,3.7551278281930596e-06,3.75318777832833e-06,3.7512589593825547e-06,3.7493413063401154e-06,3.747434754561769e-06,3.7455392397824675e-06,3.743654698109192e-06,3.7417810660188e-06,3.739918280355884e-06,3.738066278330641e-06,3.7362249975167573e-06,3.7343943758493053e-06,3.732574351622649e-06,3.730764863488366e-06,3.7289658504531794e-06,3.7271772518769e-06,3.7253990074703848e-06,3.723631057293505e-06,3.7218733417531216e-06,3.720125801601081e-06,3.718388377932216e-06,3.7166610121823606e-06,3.714943646126375e-06,3.7132362218761856e-06,3.7115386818788297e-06,3.7098509689145197e-06,3.7081730260947124e-06,3.70650479686019e-06],\"type\":\"scatter\",\"uid\":\"c377ddf6-99ee-4bf7-9149-ea8de15ec1ac\"}],                        {\"template\":{\"data\":{\"barpolar\":[{\"marker\":{\"line\":{\"color\":\"white\",\"width\":0.5},\"pattern\":{\"fillmode\":\"overlay\",\"size\":10,\"solidity\":0.2}},\"type\":\"barpolar\"}],\"bar\":[{\"error_x\":{\"color\":\"#2a3f5f\"},\"error_y\":{\"color\":\"#2a3f5f\"},\"marker\":{\"line\":{\"color\":\"white\",\"width\":0.5},\"pattern\":{\"fillmode\":\"overlay\",\"size\":10,\"solidity\":0.2}},\"type\":\"bar\"}],\"carpet\":[{\"aaxis\":{\"endlinecolor\":\"#2a3f5f\",\"gridcolor\":\"#C8D4E3\",\"linecolor\":\"#C8D4E3\",\"minorgridcolor\":\"#C8D4E3\",\"startlinecolor\":\"#2a3f5f\"},\"baxis\":{\"endlinecolor\":\"#2a3f5f\",\"gridcolor\":\"#C8D4E3\",\"linecolor\":\"#C8D4E3\",\"minorgridcolor\":\"#C8D4E3\",\"startlinecolor\":\"#2a3f5f\"},\"type\":\"carpet\"}],\"choropleth\":[{\"colorbar\":{\"outlinewidth\":0,\"ticks\":\"\"},\"type\":\"choropleth\"}],\"contourcarpet\":[{\"colorbar\":{\"outlinewidth\":0,\"ticks\":\"\"},\"type\":\"contourcarpet\"}],\"contour\":[{\"colorbar\":{\"outlinewidth\":0,\"ticks\":\"\"},\"colorscale\":[[0.0,\"#0d0887\"],[0.1111111111111111,\"#46039f\"],[0.2222222222222222,\"#7201a8\"],[0.3333333333333333,\"#9c179e\"],[0.4444444444444444,\"#bd3786\"],[0.5555555555555556,\"#d8576b\"],[0.6666666666666666,\"#ed7953\"],[0.7777777777777778,\"#fb9f3a\"],[0.8888888888888888,\"#fdca26\"],[1.0,\"#f0f921\"]],\"type\":\"contour\"}],\"heatmapgl\":[{\"colorbar\":{\"outlinewidth\":0,\"ticks\":\"\"},\"colorscale\":[[0.0,\"#0d0887\"],[0.1111111111111111,\"#46039f\"],[0.2222222222222222,\"#7201a8\"],[0.3333333333333333,\"#9c179e\"],[0.4444444444444444,\"#bd3786\"],[0.5555555555555556,\"#d8576b\"],[0.6666666666666666,\"#ed7953\"],[0.7777777777777778,\"#fb9f3a\"],[0.8888888888888888,\"#fdca26\"],[1.0,\"#f0f921\"]],\"type\":\"heatmapgl\"}],\"heatmap\":[{\"colorbar\":{\"outlinewidth\":0,\"ticks\":\"\"},\"colorscale\":[[0.0,\"#0d0887\"],[0.1111111111111111,\"#46039f\"],[0.2222222222222222,\"#7201a8\"],[0.3333333333333333,\"#9c179e\"],[0.4444444444444444,\"#bd3786\"],[0.5555555555555556,\"#d8576b\"],[0.6666666666666666,\"#ed7953\"],[0.7777777777777778,\"#fb9f3a\"],[0.8888888888888888,\"#fdca26\"],[1.0,\"#f0f921\"]],\"type\":\"heatmap\"}],\"histogram2dcontour\":[{\"colorbar\":{\"outlinewidth\":0,\"ticks\":\"\"},\"colorscale\":[[0.0,\"#0d0887\"],[0.1111111111111111,\"#46039f\"],[0.2222222222222222,\"#7201a8\"],[0.3333333333333333,\"#9c179e\"],[0.4444444444444444,\"#bd3786\"],[0.5555555555555556,\"#d8576b\"],[0.6666666666666666,\"#ed7953\"],[0.7777777777777778,\"#fb9f3a\"],[0.8888888888888888,\"#fdca26\"],[1.0,\"#f0f921\"]],\"type\":\"histogram2dcontour\"}],\"histogram2d\":[{\"colorbar\":{\"outlinewidth\":0,\"ticks\":\"\"},\"colorscale\":[[0.0,\"#0d0887\"],[0.1111111111111111,\"#46039f\"],[0.2222222222222222,\"#7201a8\"],[0.3333333333333333,\"#9c179e\"],[0.4444444444444444,\"#bd3786\"],[0.5555555555555556,\"#d8576b\"],[0.6666666666666666,\"#ed7953\"],[0.7777777777777778,\"#fb9f3a\"],[0.8888888888888888,\"#fdca26\"],[1.0,\"#f0f921\"]],\"type\":\"histogram2d\"}],\"histogram\":[{\"marker\":{\"pattern\":{\"fillmode\":\"overlay\",\"size\":10,\"solidity\":0.2}},\"type\":\"histogram\"}],\"mesh3d\":[{\"colorbar\":{\"outlinewidth\":0,\"ticks\":\"\"},\"type\":\"mesh3d\"}],\"parcoords\":[{\"line\":{\"colorbar\":{\"outlinewidth\":0,\"ticks\":\"\"}},\"type\":\"parcoords\"}],\"pie\":[{\"automargin\":true,\"type\":\"pie\"}],\"scatter3d\":[{\"line\":{\"colorbar\":{\"outlinewidth\":0,\"ticks\":\"\"}},\"marker\":{\"colorbar\":{\"outlinewidth\":0,\"ticks\":\"\"}},\"type\":\"scatter3d\"}],\"scattercarpet\":[{\"marker\":{\"colorbar\":{\"outlinewidth\":0,\"ticks\":\"\"}},\"type\":\"scattercarpet\"}],\"scattergeo\":[{\"marker\":{\"colorbar\":{\"outlinewidth\":0,\"ticks\":\"\"}},\"type\":\"scattergeo\"}],\"scattergl\":[{\"marker\":{\"colorbar\":{\"outlinewidth\":0,\"ticks\":\"\"}},\"type\":\"scattergl\"}],\"scattermapbox\":[{\"marker\":{\"colorbar\":{\"outlinewidth\":0,\"ticks\":\"\"}},\"type\":\"scattermapbox\"}],\"scatterpolargl\":[{\"marker\":{\"colorbar\":{\"outlinewidth\":0,\"ticks\":\"\"}},\"type\":\"scatterpolargl\"}],\"scatterpolar\":[{\"marker\":{\"colorbar\":{\"outlinewidth\":0,\"ticks\":\"\"}},\"type\":\"scatterpolar\"}],\"scatter\":[{\"fillpattern\":{\"fillmode\":\"overlay\",\"size\":10,\"solidity\":0.2},\"type\":\"scatter\"}],\"scatterternary\":[{\"marker\":{\"colorbar\":{\"outlinewidth\":0,\"ticks\":\"\"}},\"type\":\"scatterternary\"}],\"surface\":[{\"colorbar\":{\"outlinewidth\":0,\"ticks\":\"\"},\"colorscale\":[[0.0,\"#0d0887\"],[0.1111111111111111,\"#46039f\"],[0.2222222222222222,\"#7201a8\"],[0.3333333333333333,\"#9c179e\"],[0.4444444444444444,\"#bd3786\"],[0.5555555555555556,\"#d8576b\"],[0.6666666666666666,\"#ed7953\"],[0.7777777777777778,\"#fb9f3a\"],[0.8888888888888888,\"#fdca26\"],[1.0,\"#f0f921\"]],\"type\":\"surface\"}],\"table\":[{\"cells\":{\"fill\":{\"color\":\"#EBF0F8\"},\"line\":{\"color\":\"white\"}},\"header\":{\"fill\":{\"color\":\"#C8D4E3\"},\"line\":{\"color\":\"white\"}},\"type\":\"table\"}]},\"layout\":{\"annotationdefaults\":{\"arrowcolor\":\"#2a3f5f\",\"arrowhead\":0,\"arrowwidth\":1},\"autotypenumbers\":\"strict\",\"coloraxis\":{\"colorbar\":{\"outlinewidth\":0,\"ticks\":\"\"}},\"colorscale\":{\"diverging\":[[0,\"#8e0152\"],[0.1,\"#c51b7d\"],[0.2,\"#de77ae\"],[0.3,\"#f1b6da\"],[0.4,\"#fde0ef\"],[0.5,\"#f7f7f7\"],[0.6,\"#e6f5d0\"],[0.7,\"#b8e186\"],[0.8,\"#7fbc41\"],[0.9,\"#4d9221\"],[1,\"#276419\"]],\"sequential\":[[0.0,\"#0d0887\"],[0.1111111111111111,\"#46039f\"],[0.2222222222222222,\"#7201a8\"],[0.3333333333333333,\"#9c179e\"],[0.4444444444444444,\"#bd3786\"],[0.5555555555555556,\"#d8576b\"],[0.6666666666666666,\"#ed7953\"],[0.7777777777777778,\"#fb9f3a\"],[0.8888888888888888,\"#fdca26\"],[1.0,\"#f0f921\"]],\"sequentialminus\":[[0.0,\"#0d0887\"],[0.1111111111111111,\"#46039f\"],[0.2222222222222222,\"#7201a8\"],[0.3333333333333333,\"#9c179e\"],[0.4444444444444444,\"#bd3786\"],[0.5555555555555556,\"#d8576b\"],[0.6666666666666666,\"#ed7953\"],[0.7777777777777778,\"#fb9f3a\"],[0.8888888888888888,\"#fdca26\"],[1.0,\"#f0f921\"]]},\"colorway\":[\"#636efa\",\"#EF553B\",\"#00cc96\",\"#ab63fa\",\"#FFA15A\",\"#19d3f3\",\"#FF6692\",\"#B6E880\",\"#FF97FF\",\"#FECB52\"],\"font\":{\"color\":\"#2a3f5f\"},\"geo\":{\"bgcolor\":\"white\",\"lakecolor\":\"white\",\"landcolor\":\"white\",\"showlakes\":true,\"showland\":true,\"subunitcolor\":\"#C8D4E3\"},\"hoverlabel\":{\"align\":\"left\"},\"hovermode\":\"closest\",\"mapbox\":{\"style\":\"light\"},\"paper_bgcolor\":\"white\",\"plot_bgcolor\":\"white\",\"polar\":{\"angularaxis\":{\"gridcolor\":\"#EBF0F8\",\"linecolor\":\"#EBF0F8\",\"ticks\":\"\"},\"bgcolor\":\"white\",\"radialaxis\":{\"gridcolor\":\"#EBF0F8\",\"linecolor\":\"#EBF0F8\",\"ticks\":\"\"}},\"scene\":{\"xaxis\":{\"backgroundcolor\":\"white\",\"gridcolor\":\"#DFE8F3\",\"gridwidth\":2,\"linecolor\":\"#EBF0F8\",\"showbackground\":true,\"ticks\":\"\",\"zerolinecolor\":\"#EBF0F8\"},\"yaxis\":{\"backgroundcolor\":\"white\",\"gridcolor\":\"#DFE8F3\",\"gridwidth\":2,\"linecolor\":\"#EBF0F8\",\"showbackground\":true,\"ticks\":\"\",\"zerolinecolor\":\"#EBF0F8\"},\"zaxis\":{\"backgroundcolor\":\"white\",\"gridcolor\":\"#DFE8F3\",\"gridwidth\":2,\"linecolor\":\"#EBF0F8\",\"showbackground\":true,\"ticks\":\"\",\"zerolinecolor\":\"#EBF0F8\"}},\"shapedefaults\":{\"line\":{\"color\":\"#2a3f5f\"}},\"ternary\":{\"aaxis\":{\"gridcolor\":\"#DFE8F3\",\"linecolor\":\"#A2B1C6\",\"ticks\":\"\"},\"baxis\":{\"gridcolor\":\"#DFE8F3\",\"linecolor\":\"#A2B1C6\",\"ticks\":\"\"},\"bgcolor\":\"white\",\"caxis\":{\"gridcolor\":\"#DFE8F3\",\"linecolor\":\"#A2B1C6\",\"ticks\":\"\"}},\"title\":{\"x\":0.05},\"xaxis\":{\"automargin\":true,\"gridcolor\":\"#EBF0F8\",\"linecolor\":\"#EBF0F8\",\"ticks\":\"\",\"title\":{\"standoff\":15},\"zerolinecolor\":\"#EBF0F8\",\"zerolinewidth\":2},\"yaxis\":{\"automargin\":true,\"gridcolor\":\"#EBF0F8\",\"linecolor\":\"#EBF0F8\",\"ticks\":\"\",\"title\":{\"standoff\":15},\"zerolinecolor\":\"#EBF0F8\",\"zerolinewidth\":2}}},\"images\":[{\"layer\":\"below\",\"opacity\":1,\"sizex\":1.25,\"sizey\":2.5e-05,\"sizing\":\"stretch\",\"source\":\"data:image\\u002fpng;base64,iVBORw0KGgoAAAANSUhEUgAAArgAAAHYCAIAAAApvgy\\u002fAABQDElEQVR4nO3df\\u002fAkZ33g96d3kfjlaCWIIPZFthGr3RUQpAucK4VtdTe2dexqJSRUYPtShqtKyvgP7a61KywtUJmelGOMCySDuD+Sq0ulcBIfULYBUUiF6zw9OOfK2eGCOBD6FTDW2QSpZCQZIUViNfnjM\\u002fPZZ59nuqenf3fP+1Uq7fzo6Xnmx3f66c\\u002fzeT5PsFgsDAAAwDp7um4AAADoLzoKAAAgEx0FAACQiY4CAADIREcBAABkoqMAAAAyvajrBsDs2bNnz549P\\u002frRj+ra4ate9SpjzKOPPlrXDm2XXnqpMeZb3\\u002fpWEzsXhw8ffvjhh7Pufeihh5p76trdfvvtn\\u002fzkJ9\\u002f97nefPHmy67Y07tixY\\u002ffcc4\\u002fJ\\u002fow2brDjbrnllrvuuuvgwYOf\\u002f\\u002fzn69rn29\\u002f+9gceeMC+5eDBg8aYz33uc3U9BcZvga7V\\u002fkHUu8PTp0+fPn1ar1544YVNf23yv7E33XRTo89er49+9KPGmHe\\u002f+91dN6QNb3vb2+Qzetvb3rZ2g\\u002f379w\\u002flQ7z55ptbfsZTp07Jm3PgwIEadyvdgrWuu+66iju\\u002f9dZbb7311lraiT5j6GGELr744osvvriuvX3oQx\\u002f60Ic+pFcvuuii17zmNXXtPEfWV\\u002fbOO+9s4dlRhYQNfDmBol45evToHXfc0XIQ6MEHHzTGnDp1ygkA1OJ973uf\\u002fUd03XXXGWM+\\u002f\\u002fnP\\u002f9Zv\\u002fVaV3d5\\u002f\\u002f\\u002f0f\\u002fvCHa2oj+ouOwgg9+uijDY07GGO+9a1vNTrugKHTsIHj2LFjOfdCfOQjH2lit7\\u002f3e79nX\\u002f3c5z6nfYUmng4jQ0ehp44ePXrgwIEDBw4cPXrUuevqq6\\u002f+jd\\u002f4Dbnw2te+9rWvfe3VV19tb\\u002fCqV71K0hSMMadPn75hHXv7I0eOXLZy5MgR+653vOMdeuH973+\\u002fMeZNb3qTpCnYrr322oMHDx48ePDaa6917rruuutuueUWuSDbyC9UdQX3rK\\u002fuyJEjJ06csO+64YYbTp8+LRcuv\\u002fxyvf348ePyqCNHjhw\\u002fflyuyl3vec973vOe9zhPcfvtt\\u002fs3buWWW27JfxWHDx\\u002fWz0iOuMXvVUmSvOtd7\\u002fJvf9e73pUkiV6t+ElJV+Dw4cPO7RJmWNtRkPf\\u002f8ssv109E\\u002feZv\\u002fuY111xjjLnmmmvkL0Kurr3Fpu\\u002fJ4cOHnfdEPlZz7ndD7z169Kic3H\\u002fhC1\\u002fQv74bb7zxgx\\u002f8oL2TD37wgzfeeKNevfbaa2XsQP8W5OqpU6ecW9a67rrr7rrrLrlgv+32w50\\u002fLvnTlgvy1mXtfC1nSML5a7Lvyvotuv766++\\u002f\\u002f365cP311+vt+V\\u002fmt7\\u002f97XLh0Ireoo4dO6bfZ\\u002f+LhA40P7qBDZwP4uabb\\u002fY\\u002fJnvE1Bhz6aWXytHaPmav3eGhQ4fWfu633XabbLD2h1vucn6yb7jhhoWXo7A2PHvy5Em7MfoDd+DAAb1Q\\u002fA3J2Wzjnv1Xd\\u002fjwYXsP9g+c3OgfaGUnx44dWywWV1xxhd+2nAYXyVHwe1fO3vx77SSA\\u002fHtt73znO40x73znO\\u002f0bJ5PJwhomz2pJPslRuOmmm9Y+UN5J3San\\u002fddff73ee9lllxlj7P9nXch\\u002fx5xn1C+G\\u002fQ1Z+9jFYvGBD3zAGPOOd7zDfgrpWdr71C+h8nv59p9GVoP1O+w\\u002f3H5G+eredtttcvuhQ4fW7lmO+v7t73vf+4wxBw8etNuvL0FuzP8tsm\\u002fU\\u002feR\\u002fmeVJtfegPRJ9+GLd3+z+\\u002ffvXvjS0ho5C95y\\u002fJbl6zTXXyFX9W3U2uPTSS\\u002fUW6S68973vXbtDm\\u002f6syFU5r7L\\u002fDqX\\u002f7hxN7b05HQW5V3\\u002f+tN\\u002fgbGAfv3OaZ29wU4bie9ZT26wN9JdIu03+NnpCIx0F\\u002f8Cf3xUo0lGQ\\u002fZ86dUquyk+tvi45svo9gyL3rn2u173udf6zF2nJRtoJ8HsD0nvw75KOrN0zcD4R7SI4G\\u002fifo16Vz12fwu+4yFX7a2\\u002f3BReLhYQo9IhYsKNg\\u002fyHoMf7o0aP2LTlvprzb9i1Os509aB\\u002fXfvd8azsKcsA2Vj6jvqv66S8K\\u002fBZJMMBvc9ZXyH9e52XKh2V\\u002fNPnfZ7SDD6B79l+C\\u002fCk6p0caevW3F+9973uNMb\\u002f0S7+UtcHa51osFsePH\\u002fd76\\u002fl\\u002fqHZHQX659KdQyEmJ\\u002fmL6jZHfDvv3aG0js2Q1zN+z8c5FpGOkXQd\\u002fD9It0AOGvZneaIy54oor9N61MQa1saOw9t2Q91BudA57i8VCDrdyOf9en\\u002fOSJ5OJsWIMa9\\u002fSnE\\u002fKYXcCzLndF2mns83aZ5S+rJ4fS0fBfwknTpzQW+xt5EjjvAPOjf6TShipYkfB7gT4PWZ\\u002fG4fTUXD+juwb5bJ0FLICCSpn1oN9Hi+32J91kd8ip6Ow8cusHQW\\u002fhXLZ7\\u002fjmf5\\u002fRDnIU+kUGR52Q4xe+8AW9q4ogCIwVqzTGfOxjH3NmtGsstwhpkoytKmm83Vo\\u002fJFtEVkTB3iZnz5KO4Lycj33sYyZ3Er\\u002fc9fGPf9y+0YmFXnHFFffee69evffee6WvUI6kuDspbHb8Vp79E5\\u002f4hI6J3HnnnXfffXeRe30y0KCZCp\\u002f5zGeMMa973evsbQ4ePCjD1caYz3\\u002f+86XT6+y5Dw8\\u002f\\u002fLAfUpaxLXv0xxgjU2xk8Hst+Ux\\u002f\\u002f\\u002fd\\u002ff+29MrHCeS6ZKdP0nAv72ygdxHLffCF\\u002fQbIf5ynsEaKsscV8kj3gv8n2Z13it2jjl1k4iQt2V0Y+uHvuuUcjefnfZ7SDjsJgVKxRIydAt912mz3X0Rhz4sSJyy67LFip\\u002fmMqP23VuzV3Zij4cHm77r777uBc5twDhvM7u\\u002fblO72Nd7\\u002f73cYYyV6U\\u002f8st5eS8UXLX3XffLadZn\\u002fjEJ+Ql2Old+ff6Pv3pTxtjvvGNb8jV++67zxijmYxyBHrwwQc\\u002f+tGPBkFg9xi2Ja3SM3W9xSYHqnKHuizyCeq7YX\\u002futoFOvpCOgv2dKfjuOSeI999\\u002ff5WCS1m\\u002fRRu\\u002fzBvdeeed8j255557inyf0Q4qM+6EG2644f7777\\u002f++uudXsKRI0ekt75\\u002f\\u002f37JMf7Yxz7m\\u002f6oOl6S+17vPkydPnjp1SoIKn\\u002fzkJ+WWep\\u002fCIZ+RFKx8+OGH5Td0sQoX59\\u002fre93rXmf3DyTGID7ykY985CMfueWWWx588MEHHnhAegx33XVXiZn90kWTw7aEFtosgPG2t71toF0ByPdZinjq9\\u002fmmm26igEqH6CgMRukD3unTpz\\u002f72c8eOnToT\\u002f7kT5y75G8y56BSxKlTp+wAqZyVVgm61uKyyy6TVyfDDerEiRPOLbb9+\\u002ff7QQX\\u002f\\u002fElGH26\\u002f\\u002fXa5XKWdBw4c8E+25BbnPdQA7OHDhyU2a4dk8++1vf71r7\\u002fvvvuSJJFxB4kx2OzQcRAEpYND+\\u002ffvly7C2nEHszobzhllKPek8nTOceXYsWPDOtIU\\u002f2K0L+u3qMY264cl3+esEl5oB0MP\\u002fSJDgHfccYd9o2Y7l9jh6dOnf\\u002fd3f9cY881vfrPI9k4dhXzSMGmzkqud\\u002f5ZJb8A5WJ44ceLjH\\u002f94zmuUX0BnA7\\u002frIGMN0iWqMu5gVgO0zqitpH3IAVsGhux77YNu\\u002fr1rSc\\u002fgM5\\u002f5zH333WdnJ9xyyy0y3GBvXOVzlJbIW+qPO5hVOsJnP\\u002ftZ+0apB+AkLmz7pM5x5fDhw3YaRy0K\\u002fkGVJu+8M8Avf1xO4kJDSvwWbfwybyTfZ\\u002fuTIkGhF9rPn4TD+SB0PtjNN9988803azGZrO0XubMe5PKhQ4euP5dMP5N7dRaADgcWnPWg9x49evTkyZMnT56UXxBnyqKT6V1w1sP+DHbuev6e5eXs37\\u002f\\u002f+PHji9WUB6fxftK4\\u002fZ7YP1hrp0Js\\u002fAvS3\\u002fQrPDoVQja49tprF4vFqVOn9Agh98ohdv\\u002f+\\u002fTJTQNM55Wr+vVm0fyDlE5wXpS3Ro5Tcq0WlsnabUyMhaxvtEMgXUq\\u002fq9v6sh423SF9B3xPto9itcqbDrJ31oLn9+kI+8IEPLFaTIPx9OtN\\u002f\\u002fO+nf4sta3qk7Fb\\u002fuPRZtI5C1g5FVh0Fx9pPduNvkcx6sJd7yP8yax0F+1mkYyGX9cPS77N8mkx86BYdhe75f6J+ZC9\\u002f+40dBZ\\u002fMvdZjp7JvkT1ottTagkuL1fQntfHHseL0SP2JL7JnPxNKOg26h7Wzy5ynWztnUkYcNq72lHPyZ8+xdO7SH1bhBwn8mYdZ964lsyKNd2DIL7hUoqOgx+ycbfzggX3wK9FRWPue2PeaTR0Fu9CQ3KIlSsXll18ut9j7rL2jsPC+GPZTtNBRWGz6Lbr11lv9253t7S\\u002fzxo7CotT3GU3LS3pCt06ePPnggw8eOHBAxsKbc+LEiYceekgyGeUWKW2rV9\\u002f\\u002f\\u002fvfff\\u002f\\u002f9hw4d+p3f+Z21ezh16pQ0tZ2g6Lb8F7jR8ePHZahbhiruvvtu5y\\u002flyiuvvPfee2v885EUwgMHDqwN0sqRbO3o+8Z7y7XEGJPVmCacPn1avmNOvm0Vx44dq\\u002fKeSOli+6\\u002fvxhtvvPzyy3\\u002f7t3+7rhYW0Yc\\u002frpzfottuu00+OBniFPlf5iIqfnaoFx0F4Kzjx4\\u002ffeeedx44ds0spSBKA85cSBMEVV1zx1a9+teUWAkDLSGYEzpL+wZ133ilDMMePH5fQqz2Ecfvtt1955ZWmchojAAwCEQXgHBJUsG85fPjwF7\\u002f4Rbl8++23y0A+4QQAO4KOArCGJnU65ZyNMTJM23SRJQDoCToKAAAgEzkKAAAgEx0FAACQiY5CUUmSyGpmaZp23RYAAFrColCFpGmapqnkc0RRRF8BALAj6CgUkqap9g\\u002foJQAAdgcdhaKm06lZ9RLoKwAAdsQuTo9MkiRJEv\\u002fGNE2TJImiyBgji5eot7zlLffee688Kgh28U0DAOymnTvmpWkax\\u002fFsNpMOgZBi\\u002fmEYzufzMAz9gIH0IeR2OgoAgN2xQ7MeJM8gjmPndokTLBYLSVecz+d+R0F6FVEUBUGgS\\u002fQCADB6Yzs5lrEDO1pgVvMUhDFmOp3aEYUgCOwogtxOFgIAAGZ8yYxS7cDpB8xmM2OMdiAkLdFmdyyiKPI3AABgN41w6GGxWMRxrPkETjoCAAAobmwRBbFYLCQ\\u002fkV4CAABVjDCiAAAA6tLrjoIWNlhb9iCnlLKMONhjEDmc+ZBpmoZhWKHVAACMR387CkmS6GF+Op3KUIIIgkDyDeM49kcW7LyEIn2FJEl0SmSapvP53O+XAACwoxZ9ZYyZTCb+VSljYN8uwQMxmUzsqyIMQ2fPzjZ2aQT7SQEA2HH9raPgTFjQ8gbNlT2QikzV9wMAwGj0d+hhsVjYh+35fO50GvTyfD6v5RnpJQAA4BjA9EhZncGsai3ns1MZAABon4Tqn3tuX6PP8uIXP9XOmECdHQWZniAFEOUsfzKZVEwMlF2tXagpS28HUwAAoze+89Xahh6CIJDRAZk4MJvNJpNJxVrIWjSJlRcAAOhEnTkKsqSCHNS1+EHpY7wmLTqpA5Q9AACgNfXnKKRpWn0hZu1tOP0M6X9IaQQ7elHx6QAAwFp1dhTiOJ5MJlqwSP5fbiqB1lmyBy80wDCZTCS90RgzmUyYrQAAQEPqrKMgKQWSwChTFaonM+ZYW\\u002fYgCPpbGQIAMHp6GBrNrIexHVbpKAAAOjS+jkKdyYyaTyDn+owIAAAwdLWdfydJMp1OpeiyPYu05fP7nAmsRBoAAE0jopBpOp1KXqHEFWQlCVPTKgxbyVrWouVmAAAwArVFFLQPZa\\u002fS5Czs1AJyFAAAHSKikEcmONirNwEAgEGrOUdBLi8WC13Jqf0cBSIKAICuEFHIlCSJrO+g7bYvAwCAIRrb+TcRBQBAh4go5EmSJLCQqQAAwNDVttaD5Cjoygtpmk6nU39VJwAAMCB1To\\u002f0Z0IyPRIAsFPGN\\u002fRQ5+qRPRlryCrOSAcCANCa4PELGn6Gpxre\\u002f1L9dRSUDDq033ugMiOw0cGrPiX\\u002fdd0QAH1XW0RhNpvFcaxLP6dpOp\\u002fPwzCsa\\u002f8AAKB9dY7op2maJMl8Pperk8nEiTG0gBwFAECH9DD0\\u002fHcvafSJzv+J\\u002fzi86ZEyx0FD\\u002fe33EgAA2GVrj7xJkqydhCiDABsP1nV2FPwW5Cz6DAAAaiSFCZwOQRAEssBCHMd21mCSJLLSghysc2oZNNhRAAAALZDYgBz4bRItkAWYFovFfD7XDsF0Op3NZmmapmkahmFOXIGOAgAAgxdF0WQycW6cTqf2rALtEMj\\u002fNcBg5xf66CgAADBskmqwNipgDzdEUSQdAmegQacrrt15nQWXeoKCSwCAYTn\\u002fJ\\u002f5jy89YvH5B1Y5CT6ox2ugQAACG5bm\\u002f+8+3fUhrfYtmhx4ouAQAQN\\u002foGITIr6RcNaLA4pAAAPRTGIb2YVomOBhjoiiSOZN6e85O+p7MmFM7goJOAADkkOkM0g+QpRXs+Q56GHUmRzh6XfA4TdM4jp2FqiVXMQxDCZs47aeEMwCgQ92WcA6CwDloJkmiwQN7aQU5wupmOYfOnkYUsmpHyIvX2hEmI+QAAMAOWiwWTqpBkiSLxWI2mzlLK0RRJLfLXTn77GlHwWTUjjDnJkg6oy8AAMCXlagYRdHG2Yu1BeqzSj1U5ERRJFQymUxkfQupQOkMTDD0AADoyvhWj6yt4JKsKhGGYaNphlEUhWE4nU5lxEV6DM42JVaiom8BAKjXnsf2NfwMQ6ujkKbpbDYzxkyn0yAI1q5oWZ0kcMqAymw2m06nfqdksb3a2wkAwDjUmaMgnQM5hBtj4jgOgqDe6MJ0OtUogiQx2DNBAQBAvepPZpQ1K7XkkwYY6tp\\u002fD4tGAwAwVnXmKEh2oVzNmaxZRRiGcRzrYEF+jQgAAFBRbR0F6QrY\\u002fQMlGYi1PIukTGq6ItMjAQBoVG0dhfyUwNKHc3+3Um1JLjMMAQBAo2rrKGQlLRYp5rAt+gcAALSjtvJEzpqVDqcsUnMouAQA6JAehs587Q2NPtGLrvhGO8e72mY9SCKCXZxgMpnILZPJpK5kRgAA0Kbazr\\u002f9FauM1bFq7UQ\\u002fpywjkQYAQNOIKGxNEw9bm55A+UUAAOpSW0dBKhzYvQGtnyh5jmQgAgAwOHUWXIqiyMlF0NUf5AIAABiW2joKZlWc0aw6DRpCIOwPAMBA1dZRsJMZGWUAAGAc6kxmpJoyAAAjU1tEYTabSYKCE04gugAAwHDVWUdh7e0tJyhQmREA0KHx1VFoaVGoNvWkywIA2GXP\\u002fmBf102oR52zHoyVptDhiAMdAgAA6lJnMmMQBHEcS9mlJEmCICC9EQCAQatzUShjjCwBZYxJkkRqNda1fwAA0L7aOgrz+dwpv6jFl+p6CgAA0LLGF4UCAADDVeeiULL4k2ItKAAAhq7OqgP+vEQt6twa6igAADqkh6Gn\\u002f+JnG32iH\\u002fvZvxhYHQVjzGKxkCiCLArlBBgAAMDgjO38m4gCAKBDRBTyrB1laH\\u002fWA5UZAQCoS53LTBtjwjDsPHuRDgEAAHWpM6LQfuoiAABoVJ11FOglAAAwMrV1FCaTSRMdhbVTJ5hVAQBAO+ocepjP50EQhGFo31glmTFN0+l0GkWR3QWJomg+n4dhOJ1Op9MpGQkA0JWDV31KLjzw5V\\u002futiVoTp0dBVkOqhay\\u002fuR8Pvdvn8\\u002fn2jkIgiCKIpaTAACgIT2tOpCmqRz+p9OpnSMpF3J6BtRRAAB0aHx1FKrmKDiJAs4hvHTWgqQg+FkI8\\u002flcQghr7wUAAPWqev4dBIGe8adpGsex7tC5Wn3\\u002fxiqmFIahDEw4czKzqi3lIwgBAKiFRhT+Jr2m0Sf6qfiLw6vM2Bp9a6Io8vsiHPUBAKhLnXUU2mGnTFK5ARiig1d9Sv7ruiEANhtYR8GZewkAABo1sKGHJEniONbKCtPplK4DfHKqWmRid\\u002fEtUSPecGBAaugo6EwHueBcrVcURWEYxnEsV8MwpIgCAADNqWHWQ\\u002f4GDaUWSv\\u002fAz1GgjgIAoEPMenB1dVQmjREAgBYMLJkRAAC0iY4CAADINLBZD0VkpU2QuwAAwLZG2FGgQwAAQF0YegAAAJlqjij4VQ2YngAAwHDV1lFIkmQ6nfq3MxAAAMBw1Tb0INWUF5669g8AANpXZ44C1ZQBABgZOgoAACBTbTkKs9ksjuPJZOJkL5LMCABA09KVJEmcI2+SJGtvL6i2JZR6UuYoZ5EqEiYAAE3TRaHu\\u002fdN\\u002f1ugTXXn1H+pxTeYThGFojJnP5\\u002fbSynJYDMPQub242iIK\\u002fTkM96clAAC0YDqdTiaTJEmMMWmaxnGcpmkURXKLHhaDIJDbt9p5\\u002fQWXJPRR+24BAEAWPfzb\\u002fQANM4gwDKXrsJU6OwpRFAVBEMdxHMdBEJCdAABAC8IwlCiCBgzW9huiKJrP59vuvLahB3l6J\\u002fShQzUAACDLlVf\\u002fYZWHp2kqJ+pydTab1dGopdo6CvP5fDab2V2YxWJRbjgEAICd8tUv\\u002feq2D7H7FkEQaKJikiRxHNtH5IpqHnqocW8AAGAj6R9odqDG9evaf50dBSdFQlpJ7wEAgDZpdMGZD5mmqZ3bWFBtHYXZbDadToMgSJJEqjpI\\u002faW69g8AAHxyQq7n6mmazudzuZokyXw+15CD3r6VOpMZZ7OZriEZhmGNAyQAACCLFEfWNZy1SnIURZPJRJMc\\u002ferJRYxtVgKVGQEAHeqkMqPIGfGvMrGgakRBRhm0\\u002fNPaDSo+xbboEAAAdlBOV6BKgL9qR0H7LzL44W\\u002fQfkcBAADUpZ6OgmGNaQAAxqi2WQ9rkwMk0lBltzkBCVk3s8rOAQBAvhpmPawtKC1K1JS2pWk6nU4lB2LtXWufFAAA1KX+1SNt5WZimFV+ps7o8OXcBQAA6lJDRMHOZ6y+NyWBBJ0V6txVorYUAADYVm0RhbW9hNJpBDLfcm2Cgl1nCgAANKq2yowmI0eh9hyC6XSav4BmTs2lLJReqMvBqz4lFx748i932xIA6Nbf7PmxrptQj9oiClEUSeqiJjDO5\\u002fPSOQpZgiDYuM\\u002fF9mpsIQAAY1JbCecgCGRxBxk1kJSFOI4r7l93a4yRHWp2gvRInKWxtHYmAADt08PQXf\\u002fm1xt9out+8V+2c7yrf+hBugg6p7FKfWl\\u002f\\u002f\\u002fZylPP5PAxDpkcCANCcOjsK9gLTDVVutncrXRBKRAMA0JzaOgqTyUSmMsqRWzMKOeMHAGC4ausoSCxBLs9mM+kuVD\\u002fdzxmAYYYkAABNG1vqH8mMAIAOjS+Zsc5FofxRhhIlDQAAQH\\u002fUmcw4n8\\u002f7cEKf1TvpvGEAAAxOnYtCzWazMAyDIOg2e4CqSgAA1KXm1SPTNJ1MJs1NjwR66+BVn9IK1gAwGnUOPQgtpcCsBAAAhq7+joIxJoqi2WwWx3ETOwf6qbl1sFhqC0CHausoOEkAURQtFguCCgAADFojEQVFWUagOgIJADpUNZlRyycEGWpoIwAA6EjViIKOODD\\u002fEEMkw\\u002f\\u002f+KXtWWoB\\u002fOwkEAMat5umRAABgTGorpJimaZIk8\\u002fncub3lSEPOYAcxDwBA07RC8b+YnWz0iW566x3tHNdqS2aUyZCTyaSuHZZGhwAAgLrUOethNpsxzQE7jpQFACNTZ44CvQQAAEamtojCZDKJoogKSxi0JuIBxBgADFptHYU0TWWZaed2MgYAABiu2joKURQx9ICh23jSvzE84N9OIAHAoNXWUWBdaeyCKj0JxiAADFGdyYxpmkZRJJWbyVcAAGAE6sxRiOM4DEMppSBXJ5NJ+5GGrJpLZEugRlnhgZxoAYEEAENUZ8Elp1sgfYX2Owp0CAAAqEudBZecPoHkNsp4RI3PAgyChhwUEQUAQ1RzjkKNewMAAJ2rs+CSjD7IPEkZdzCUa8RYOAtSFw8PEEgAMGi1RRSSJJlMJtPpNI7jIAgksbF6usDaFIckSaIoYkImAABNq22ZaVtdeQkSlnDWmpJJDWEYypLW\\u002fr0kM6I6MgwAlMMy04VU7yWkaZokiXQF\\u002fD3rWxNFURzH9AwAAGhI1Y5CVtECVfooLrkO0+nUvnE+n0udBt3G70ygIAoF5ij+njhvY5FQhJPuAAB9VrWjYB+2a6QrRzgdBafbwTwLAAAaVbWj0GFGoYQTZrOZc\\u002fvGIIdvNwcvOKPN4YdbnDCAHzlwtgew47692Nd1E+pRZx2F1iRJEgSB9BL8fIjF9rp4EQAADEAjyYyNkkBCJ6tIYHdsDAxUiRw42QwEIQD02cA6CjIVghgAAADtGFhHYTqdhmHo5DBS\\u002fBHN2Xje7yQrZM1xMNnpDgDQZwPrKBhj5vO5FIdWBBh2TZsH2oL9g5zbq7STLgWAzvW9o+B0AugTAADQpr53FABfJ2fYWSf3WRMmcxq5MUpRYukpoEZk2sI2yOmRAACgHSOMKGQVXNrZYQtODqrIykUo8cCNyYx8QOgJvoqwjbCjsLMdAgAAajfCjgIcnBwUn+K48b3KmutYohlEegAMAjkKAACMQZIkURT5ZYvl9tLLKBJRwPiVOGXfGCconbtgqI4AoAGSnxeG4XQ6TdNUuwV6exzHfsXCIogoAAAwbFEUhWG4WCzSNJ3NZvP5XDoEEl2Q2xeLhd6+lWBkqX9BMLZXhJ6oEkJYi4gCMEp6GLrlz6aNPtFHfyHR410QBGuXUw6CwI4iyAbb9hUYegAAYMDkwG9nJ9hpCnbvIYqi6XTr7gsdBWCNJqYklJgoURATKICh++gvJBX3IMEDY8x8Pp9OpzUG1+koAADQsVP\\u002fJtn2IU7fYjKZaCAhCIIkSfzpD+WMsKNAZcY+69u577YrOFR\\u002frpzbs5ao3vhe5WzQtzcc2B3fPnNRm09ndwvKzW7IMsJZD4sMXbcLAID6+SmK8\\u002flcLjg9hjRNZXhiK2ObI8CsB9Si9jSCKjYGDIpECyjeALRDD0M3\\u002funHG32iP776hB7v7L5CmqZxHMskiKzLWz3RCIce0E99OFB1Eod\\u002f4uL9cuHCxx7O39If76gy6NA0BjWK4F1CO9I0DYJAR94nk4n0BqIomkwmcRw7t2+FjgIAAIMnVZXMufMhjTGS1ZimaYkughhboJ6hB9Sr2zGIYZ2GcvYMmI6GHho1wmRGAABQF4Ye0IihnFxmBQxKNzsnI6F4soLqQ2JHcUNpJ4CtEFEAAACZRhhRoOBSH\\u002fT85HJjwKN0akItgQTV87cRwC4YYUeBDgEAAHUZ2xwBZj2gXlmhBY0TKAkYPHrgTXL1\\u002fO8\\u002fad9uqoUWHE6koUpGyFCySYChYNYDAADYISMcesA4tHmm6z9X1i05UQGJJWggQVWpzJi1QcHbiyCQACDfACIKaxfKTJJEKle33RoAAHZJ3yMKaZpOp9MoiuzakzKvIQzDOI7rXUwTFZUIA2Q9pM3h9iLLTMstG2dDaNjAT1ZQTn6DPiQnsJFlWIUWqtidVwr0TX87CmmaJkmia2UqCTBoBkcQBFVKWAMAgBz9nSOQpqmECqbTqb0sZhAEdhTBWYebWQ+oxcbJDv5chuKKz3pwwhjFqz5w5g10ZXyzHvobUdDhhul06t9lX\\u002fY3AAAAtehvR6G0rMqMOQhC9Eejkx2q79wPJDx30T65ILkIRSINWTkKOQ12rjpJDMQPgB566Mwrum5CPUbYUeCoP2iNHvM27jwnhv\\u002fqG79irIP62aTFi95kb685jEqTGbVL8aoHv2Ks7sLG+ZM5uY0FUywNnQkAZQ1geiQAAOjK8CIKznzINE3DMOyuOeivImWUsvgbOKf7WSMLGj94\\u002fqd+TC48Z\\u002fY5d8ljnTGLtfuUJ80JGDh39TNsQJVoYNCGF1GQOZPSV0jTdD6fr63IBAAAqhvAZMIgCOzpkcaYJEl0psNkMrE7CkyPHIqenGVmJQNmZQNIpoLZZnqkRg6UU4LJDy04qtd+Nl2\\u002fz8Du0MPQG+\\u002f5Xxt9ov9w+Nd2fXqk8t+IJEmSJKHOEgAATRtARyELvYRBa\\u002fQE14kT5EQviicryE4uXN3uBxKcyIGGB\\u002fw4gWyZs4GGEFaTGjIjChuXidLXvjGbofgGBctAARiH4eUoAACA1oxtRD+n2tLIXilUjae2JZZlyln8Sfg5Clnb+8kKElpwajmY7YtA+3LetOLxmIIbdKvnzcP4kKMwAHQIAACoywgjCiN7RSiuiXPHIkUPbRpg2HvJc3LhzCPnO9vIXf7tamNwQmo7bmVjYkGbKQjdln+g7jUaNb6IAjkKAAAg0wiHHtBP257GlTijbSJHwdl5ToDBWeVh79eeWV564\\u002fJfDSG88OTetXvImv6gMyxKBBKKc15ylXUxtn2ulhFLALZCRAEAAGQiooCWOKdxGwMGxc9oe3KC6CwzfTbA8Mjy3+CCM3Jhz74zxpgzT+11bjffX\\u002f6ruQhPmPVlHzXG8L0\\u002fepPZPpGiFj1520sr\\u002fv3p2zcNaNnYUv9IZkQRWT\\u002f9VY64WUs96epQ0j8w2UMPi6c2DEn4syLlSZ0CTWabF8LBD6gXyYwAAGCHjHDoIavmEpGG4kY\\u002ff2zjOEjp0IIfSDgbJ1hFFMR53\\u002fmBs2WWsyWbHtvw7LW8kNF\\u002f+kA7nnj2wq6bUI8RdhToEAAAUJexjeiTo7DLSiSdZZUr9m3MZsjKUcgq4Xw2h3Fl4aU3OlkLWYWYfCVWpt4227RRu5w\\u002fSERn6PQw9JOf\\u002fUKjT\\u002fTIDdeSowAAADo2tvNvIgrtaO6EL2eUvYnCzKUXOvI3kBWb1kyPzOCHDV54\\u002fdNyYe8jL3HucmjlJWe16+KLRfmywirMHgS2QkQBAADskLGdfxNRaEevTiLbaUzB6QPOKb7NSVZw6i8Zq8azk76QFVdQfoChSmghSx8+6yIY40e3iCgAAIAdMsLpkWhBr07XSucZ5PAfm7X4cvFCBc48CL+Ogq5MraSGo1+bQR+bxQ9sZMUYaszSaEGvQlnAjiCiAAAAMo0wokBlxg61ecKX81zFR6mzMvw3TgEoUfHwbAXGp4wx5swbXyrX9hh3DQjNWtizb32yglubYVWxUcMGxZMVslaLbmLWSZWVqYt\\u002fpgQbOkGwZ8RG2FGgQwAAQF3GNkeAWQ+7rMaFgzfmImTd7p\\u002fK+wUV\\u002fJqMDieQ4EcadH5EFn\\u002fBSWedyRwF372sQE6RPeTvucoeeq7nL7DnzRsKZj0AAIAdMsjz73QlSZIoiuy7iChAtVPSMStZYWNBBb8Oo3IiCn59BWdVCD\\u002fS4K8KUbyyQnOLPnDCil0wvojC8A6rSZJMp9MwDI0x8\\u002fk8DMM0TfVeOgrYStaiUKUHL7IWizJWBuLGoQd15pJnzbqKzjqRMmsMYuPyUdWLPdcy0LNtuegiKLiEbo2vozC8oYfpdDqZTCSiMJvN5vO53VEAAAA1Gt75dxAEs9lMRxz8q4N7RQNC6NhXfJ6kZjXK6f7Z2ZLZZExBwwY6WnHeU+fZm2m2o9LYQ1ZoYeNEym0nLhZ5SBNbFse3F6rRLwMRhe6FYRjHsUQUpH\\u002fgpCkAAIC6DPL82y6pZIcTTHa1pXxDfBOQo\\u002foodfHSQBsjClnVlDXAsG3Kgk3SF5zkR2PFGDS0IAtH+fGD0utIDXd6JEkMaJRGFC7413\\u002fe6BP9w69eRURhvSAIwjBcLBaLxWIymUh0wd5gsb2OXgoAAH03sIhCmqZxHNttDoJgMpkkSaJXh\\u002fWK0IIaiz3nzI\\u002fYNrSgZ\\u002fCPvflKZ0tndoOGBzSi4Myo9G935k+a7LWqS0+kLDJVpIlJDRtt\\u002fEyJKAzL4JJLiCj0jjM9EgAA1Gh45992CEECDMx66LPBnQ3kK3H2\\u002fOobvyIXnDN1v76CcrIWNAXh+QueXz5k34\\u002fkwku\\u002fvn7qRFaxZ92zv1B16RyFnFBK7R96T75OPWkG+ml8EYXhLQo1m83iOJ5Op3J1Mpkw6wEAgIYM9fxbhhv8LgIRBah6T\\u002fuyzptLLCvlJCv4FRv9DAOhuQhaR0FiDBpgOP\\u002fJZddfkxWy0hr8lAWZFuHbWGihxOLRQzkjJ5sBJXQeUYiiyBmRT5Jk7aIHBQ0voiCIIgAA4IiiSAoW2yPyZlWCqFxW31A7Chi96iedTUz0z9l58YdI1sLZSgZmFWD4\\u002fvJfjTHIef\\u002fZxIJVIOHpS56RCy9\\u002f5KX27f78iD3fePlyV8YYa46D1oXU0ELWKlZZuQtVJjs40Ygin1TtJ\\u002fdFvgwdxhK6Dbr0JORDRGdbaZrO53P7Fsnn08BDEAR2H6Kgwc96AAAAxpg4jieTiX2LrqEowjDUagLFjW1EP6cy48heKVpW8Ny3+NIPOSURnaKNetLvr0wtkQONKDx38HG5cP4Dr1xucO4S1X5qgp8YsXF5iOJKr1i9cXHObssk9OSEG\\u002f3UVY5CFEVRFCVJYi+B5JQakuWXtz0ajnDogQ4BAGBY\\u002fuFXr6ry8CRJmltLeYQdBWQZ6GlQC8PVRWQ9XVby\\u002f8aRe\\u002f8EXWMMek7\\u002fnDmnxMLZRSNXZRL2PHWeseoraCBBkxWefctyV5LN8Lyfu+DNsHCeVBujcY6s+RG+rPjKxq9iiRqaWaGdJr4nw\\u002foLKm6gPxHj8J\\u002f84Ze3fYj2LdI0LREnKI6Owg4Z6B9\\u002fTircIBQfjNCugx6SnRLOSnsGQqdHak9Ckxmlf6A72au7WnUL\\u002fAWl9p5bi0kzK7V\\u002fIB2aEiMRauOAgn\\u002fLxoc4G7T8JRlH2l3P208\\u002fJouMLNgpiqUnOKxFRwEAgAGTMgl6dT6fa9Ki011I09TObSxohMmMI3tFaEL1rLoSz1WcRhTE2ZGI1cm9RBrMKk6g8YPFjz8lF4LvXuDsU6IOGmDwadxCYgx7v\\u002fZM1pbSDG3VxhWri4wXFNyyb6eSnOPC13nBJTuZ0V7owF\\u002f0oCAiCgAAjFMURZPJJI5juVpu0YOxnX8TURic0hPh+nkyV2L5aZ9GFJyZin6xZ+HPn\\u002fRXjZI4gVZq0tuzlqj2l4\\u002fSZ5dWOVdtxdMXmvvs2gwaAbbOIwprlaizpCi4BADAyFVZ92Bs598UXCqhn2dUJVpV+oUUybrf9klLBBJ8WWWV\\u002fWQFd4NV5SVNVpAJERpRULqOlJLQgj8bQjlLV\\u002fvJCk77cwIMWVWqqoSR+pnNAJ\\u002fzSVX5IerVh64RhZf+z0UnEpfz7H\\u002fzZpaZLokOAQAAdRlhRGFkrwiqichHJ+V+iwcbik9\\u002fcGihBWdB6rMlm1b8GIPMjPCLN2iMISuioJx5EFVqP\\u002fchVaXGgFM\\u002fo3eo1\\u002fgiCuQoAACATGM7\\u002fyaigJ4ofhrq3y7rUJvVubifqaCLRAt\\u002f1oPS6Q\\u002fCz0jImh+hEYVn3vAD57GSxOCvL+WTYo5++7NiDDkLZYlaSjI0h4CB6WhB8F4hogAAAHbI2M6\\u002fiSjUaHAd+Y2ay3LI2WdWSn8tuQtOSQOnYqOx4gFZznvZD+XC8z982XKfT77IrMtm0LwHCUJoBEL5C1U7gYGNAQOVFYbJeYvaLLLZ7V9ErzL84SOiAAAAdsjYzr+JKPRN8azv6udJPTnhEyVS5TfGHnxyjq4pC\\u002f6a0TpVIWvByct+4pty4aG\\u002fu9ze4OJXfFcu\\u002fPDeS+WCzo+QkIMuVL2RPy1CbTshIufNbC5HoVffK9VJq\\u002fr5VvQNEQUAALBDxnb+TWXGoejJqUlzw70bIwoligzqQ0pUbHTqImik4WVXfGu5z2eXj5VkBY0oPPntS+SCZi3IQ\\u002fR2Z5EIn79shCpRYkEUn\\u002f7gPyTrQ2d5CNRifBGFEXYURvaKUEKH2V71Vp4umN6o\\u002fYYzb1yuIq2LRDvrSPkjEVkrUzvzKm3OHEvd0l\\u002fDWnon\\u002foCI02PwF6r2lch\\u002fzLp927rRLeukCFg\\u002f97nts5eu\\u002fVzusVnG11Fg6AEAAGQa4VoPcHRS47ZbfWhGlWy70gtKaXHlvWYZUdCTeDmtf0E3XUUUNJCggYHl9MjVtMkLX7JMRdSxiX2veNK+albzKovTOMdyz6Z8ICFL8RzSWlYCq3F9oxa+vU08Rbd\\u002fdKWfvQ+\\u002fFf031IhCkiRRFCVJ0nVDAAAYs0GO6EvGYhiG8\\u002fk8DMM0Te27hviKoKrMKtxYGrnRdlbfssQenNiDP8bvnLtrgEFpRSYNIZz\\u002fwCuNtVC10tDCY3\\u002f\\u002f4\\u002f72Zt1KVA5NqNRUCSeJIWd9qSz6kr\\u002f3R8siVAXjMTWublzusR0aaLOHghyF7kVRFIbhYrFI03Q2m83nc7ujAAAAajS88+8gCGazWRRFWfcO7hVhlGqc\\u002flA8ZSFn1oDImT\\u002fpzIPQis46l0FjDHKXX\\u002ftZb1FOcEJjD5pLIREOf15lidCCo0RhbP+xjk7KhVUPeFSZCFrwKWrZ1WiML6IwsGRGCR7Y2QmkKQAA0JyBnX+naRrHsTEmDENjzHw+N+dWUsopuJRjWG9CH4xmfZ2N2iwMvDGXPqtVOTTGIGWetYCBk7tgrPSFM5c8u3ZXOi1CIgcaSNAi0E88e6FckCQGf0sNTjj1pLVkk\\u002fLb6cQYNMCg62PJktZm9ZL9CETxOMHGD7147KfnX2+1bUSkD1UTunr2jTSisO+Oext9oqdOXkmOQqbJZJKmaZqm8h45QYXF9rp5GQAA9N4gIwp2myVZQfMZyVHoRN86+KVPj9TGk\\u002fhuZ1L4DynosTdfKRf8iQZa1VFO9\\u002fUsXwMMWsNRIgR+IOHClzwhF3R9Kdnmr5\\u002f4KbnqFH80q\\u002fkRToDBWPMmNJvBaW1WpEEVz2nYGDAoESfoZCZOm6rXnCjy2E5UTzchotAxp1tgVqMPAACgCcM7\\u002f7b7ChJgsCdBEFFAFZ1kg5defjpngyw6ou8vu\\u002fDsz52T2uzXQtDJCz994XfMujjBvtc84jzkbPXGc7fU4ITMg\\u002fAjChsXmlJ+jEE4KQumVJHH4hGFgmkNfVgCzQzn5H6gxhdRGNisB2NMmqZBEGjS4mQyyZoqCQAAKhrq+bfOk3RuJ6KAIkpXe8zZ0tHO6n\\u002fOc5UILfhn3nJqriEHraKoJACgkyB0QWonfmCsYo6rq0\\u002fIBY1GSLqDPxtC4xlOMUe9unFFyuJy5kcUn\\u002f6QtYGzZRMlDYYSFRhKO6sjotAXRBEAAGjB2M6\\u002fiSgMVx8GcX1tnvCVXnCy9GqTJnt5CGfZSWMVc3z6kmfMuoqNzmIQZhVsyIk0yF2S9GDWVWJQsqZlTsUFnbWx92vPmALTIs42ZhVRqJLNkKW52TH11jyo\\u002fa9vd+IHvvFFFMZ2WM0puDSyVzp0JeaPbXvErfcXqsNf0uIdiI1bFjkWyjZ+RSaH9ht0vEAHI3TmpAwx\\u002fNIr\\u002f2+5+ldPX+o+17P7jFWRSXoDxsqL1E6GP7VS7PnGy5cbnLvelT\\u002f\\u002fU0pOGS9BUgdfzrbq3IWmivfDcsaAOpwnWUtHoXQRquoG1+cYX0dhqEMPOegQAABQlxFGFEb2itCoPox3VF8+qnrqpc\\u002fJbbQ5Kzm98Pqn5YJmIMrYhPKzHXXoQdMbVxtc6DbDG7YQur6Uv+KURDj8dEgdpJDQQpGVqJaNrG8kIkdzY1udDD3ssvFFFAZWcAkAALRpbOffRBTQleYSI3wl1iIqPqPSSW\\u002fMSlbQnIBn3rA8U\\u002fdnOWphpeXt3oLUElrwIw1ZgQRNd\\u002fjiIz\\u002fr3KX71NCC0IiCY2MpJ1NrfejSCadtnuX3KrWiim7bSUQBAADskBEmM2KgejVKWuKMpHqp5tL7LH7aWuSp3dPlx5b\\u002fOpGG5y9YTiJ46deXF8yqNNPZZIV9LzPWub4TSDDG\\u002fJOXf8sY81fGnQ2hkQPlzJjQXZ1tzypcYQ4+fs7VS4zbTmOMNWtD+dkMWfwEDok9+JGGV9+4nFJxYcausmas6NXqFb2Kf\\u002fH6OT2yiT8cbIWIAgAAyDS2EX1yFIZuKIOgJZR+aTlxgo1DyCVWnNooK4khp+qz0NkQWi9BSi84dRdsTlKCBhL8kMNDZ16RtROHlGTQAgw6a8NficqZ36Gy6l77OQ0tzJjYmI9SZcsW1ssusYp3J4q\\u002fZHIUAADADhnb+TeVGYduY21B08BIaj\\u002fPYHI0EXfZGFrIquqo60v55Iw8a1kp402L8DlloY9c8m\\u002flqsYPLtv7984tTjEGp560+uG9lzqN8UmyxZlHzs9vpPLXvNZb5E0rUSW6SgLKxpWosh5bJTGixr+pfv55bvzr04jCfzq9r9GWPJ68nsqMJdEhAACgLiOMKIzsFY1Vo7kIfTgRKb3Ck7+T5t4iU6B5JSINeotTA1GzAZScsvsBBk1B+NPH\\u002f\\u002fFy5y950niVHM26Yo4yk2IjZ8\\u002fGKt6glRhkHoQfEfFXu14+0MtR2Lg2VSdLUhWJ2+XvKicmUTrvIaudVb7\\u002fneQ8jS+iQI4CAADINLbzbyIK6K1eLa9XYiZFcRtrOzrzI\\u002fwsAT+0ICkImpGglRk1a+G\\u002fM\\u002f+nXPjvzX9ljHnri\\u002f7a2edPvrCsjvC\\u002fvPAGYxVm0ECCll7QfcqzOHM0jFWDUkML8kL8SIMTSPDjB8U1EWkoviZk\\u002fgP9baqsP1I6ENKTbAYiCgAAYIeM7fybiAKqqHJys3GfpU\\u002f3c87zqpdkqH5ypg\\u002fceJYsKQs2OfN+9i3L0+6c1SJ++sLvmHU1EuR2YwUbJFSgmQoaWvizH\\u002f30VhuYVbDBmXlhrBiDM2tDKjQYq0iDxk7klRZPYiiRu1B8y+L5BFlKVOyoUenqIPUmBmVtOb6IwtgOq3QUajSUQihDUWPtmtLLTBffefGSOz7niOUfwB7\\u002fhf9CLmTNPNT6ytpj0LC\\u002fyKoGbVaDFP\\u002fDeV+Wq\\u002f\\u002f1Y78mF3QU4zV7v2+MeU2wfOC3F8tD9Zeee+1yD393uVyQMQjtN2gqpfZXzhaKNsZYHR2l7ZdqTmcueVauak\\u002fCJz2GjVmQuoFWfyouq0tRJSGxV7m6zlM09Cy701Fg6AEAAGQa2\\u002fk3BZfaUT1MTXDCV+NwRoloUHMVpotPsPTTHv2lm4QfadAYgwxGXH3+\\u002f+M85NNPLQtD3brvz9buU7MdP\\u002fD8VfbtOqjh02CDjEpoG\\u002fwFtZ3Yg65QpTEGJbEHPx0ya73vrJCDanQGpiox07Jg3CLnC1n8D6HG7z8Fl8aADgEAAHUZYUcBLSg9yj6+QELpDAN\\u002f+xrzwqrMSduYo7Bttpcvay0l\\u002f+RYF7N25h\\u002fuXV0w+5ZhAD1lf+iHlxtjzE94T7qaBmn2GWPFD\\u002f5mz\\u002fIp5sE\\u002fkgsaQnDmWOpDdMu\\u002fWt2l61otXbj8V7MZpID0k99eLnr9o595VC5o\\u002fqOSWIJmQeo7EJgz\\u002fmYmO9JgVu+nn2SaFVooEXIoMc8zS9ZfRM53ddvYQ5G84I27qnF9taEgRwEAAGQaYY7CyF4RRi8nflDw5F5VSRbZdri3ifMnP1nBiTHo7Zq7oPMm9BRcRv01d8FfR0poEoNOdtBbvn3mIrnwz\\u002fd83Vjxg3Dxt06DNRqhwQbhZDmcfYGrgtMa3tBZG9Y250QINOQg5a6VU+vJpu+JvEt6dWM2g6+FZbJzFJ\\u002fUUzBgsPFvLf9ZChpfjsKwIwpRFHXdBAAAxmzA599RFM3n89lsZncXiCi0o0SycR8Waqpi2\\u002fY3WpGpxLMXH6Mt2KoS53nFZ+crZwhcSzbpCL0GEpREFGTugLGmFfjzIxxOoQWzCjb4K1nrLVo3+g\\u002f2HjRWKEKTGz785FvlQtZUi\\u002f\\u002fx\\u002f\\u002fsv196usQet8uQ0209u0JCDBhuEvlcahtENzvvOOYEQtbEMVN9szGZoAnUU+i5N0\\u002fl83nUrAAAYuaGefwdBMJlMptMpEYVOjL4cQq\\u002fq0fb8STemO5RYkri4Rw8sqyM49Qb8SEPWRAONNOjMBZ2qIDEGDQ9oDUet6qh+7kf\\u002frzHm\\u002f3jRfyZXnZQFs0p08LMclCxVZbypFqe\\u002fd4NccLIZ\\u002fEWxnzv4uHOL8NfcUhp3Ec6q2b4iWQ5Z5TjVxrkVThipeBgj53u17Vex+PwI\\u002fyFEFHohiqLJZJIkSdcNAQBg5IZ3\\u002fp0kyXQ6lWYHQeBHFErsc3BvQr2GfkY7uGfvp22TKkpMSd84hFw8wLBx+n7O2tZOMUSNKEipA+PNO3CWujZWAoGu\\u002fvDeF\\u002f97Yy0rJdMljDUtQugGmgbhLzkht+iWWTTw4IccdNmLP338H5t1ZSJf9Jevkgv6VjhTKpQzgUL5C2orWXvCDxv4H5lTRUM5D\\u002fneHy2DRu0UKqi+fopGFF5x8oF62+b4\\u002fh2H7INXuhJFkXMinSRJmqZJkpSbATCwiEKaptpLyLLYXmvtBwCgdkmSxHGcpqkxZjqd2ufMQRBMp1NjTBzH5ToKA4soyEyHMAzlquQzhmEo744hR6F1ba7\\u002fpppYMrE5jWYDbPvYnqzU10ISg3\\u002f+6s+YEBppeOYNy8QCXUVa+CEHDSQU5ywYoSEHLdKgoQUnv0GvOgkQ+sBfO\\u002fPA6sIRueAHPITmXuja3HqL5G3oqtkahHAW\\u002fs5aPtt4SSH+WhVZ\\u002fBkWOUGIrA1qn46REzDL2lI3ePDPf6X9iILk7WkgQa\\u002faMXizLgxfxMBKOEv8RK9Kp4FkBQDAjrMP\\u002f3r+PJ1O9dRabncOo0UMrKMQRZH9Xkyn09KDLruj9ET5Ilo4m9+YY9zz0EK3rSpema61NphtkhhK808xH73oTWu31HNfXdFRax3KSPz5ZjmQ\\u002f5j5ceeCxh72veYRYyU36Cm7Vnt0J0q8YJzbZd6EWUUOrg2WJ6OvfOkTcuGi55Zbfjz4GfuBmgbxB+aLywsXHJQLUtdBUys02UI98ZILV+04t3k6w2JVzVLKOZz\\u002f+qflqsYeMss5rN7D50xmMU255fyvuctjOp+Uv37mE2ZDhsrGDImNMYlX3\\u002fiVtbf7erLEgxNKn8\\u002fnk8lELtuHyCiKZBhiKwPrKKC4jYeEfh5Wc5Re\\u002frh0oL7lJ83am398La658Y6cw3\\u002fxNmR1X6qnPeoBQFPh9Kdf+IeKs4e0VRmiMxftM9Ycwpc+snysnwO4XO1pdfhUura1Mwpwdt2pPX8tF3RkQdz8\\u002fD9dbrBYbqBjEMf3\\u002fqUx5t4zy6EHHYMwqxEV7UOEe\\u002f7WmDWpaDoV810XnPOe\\u002fE+PLstD+fmb\\u002f+SSbxljvmh+drmpJkh6PQZnNubiF5eTNl9YbbD3gr32ls\\u002f\\u002f3PIwtPcRd0ar9OH8vFT\\u002fFulb+F0K7XPIXX5XY2M\\u002foNG1uW3fv+NQLftJ0zSOY2NMjbH2YXcUSEcAAIzARTffv+1D\\u002fL6FpvFtO7iQb9gdBeTYnbmOVUImG1d8LriHEg8sovb3s8RaOI1GpIq\\u002f\\u002f8XX5hb+nLoLNzVG5vUZ6yRSEvT8GYBn6xSduyCTnlUvl7q2PPGyc0+CvdboubuMVuj8Sb920\\u002fef32eM+UmzCjCc95dy4ccPfk0ufPeBN8oFGaTQKk9X7F1eeGi1ZpWTU\\u002fnrr1rWmdaYhFOjWmtSaUTkr56+dPmCLv+OfZfMzLRpTqiuDO7QIR4lARunIrXxxobMKsZz5qll6mXwpJtruUxlXUV8NLPVDy1sLPfUWoxhW0EQhGFYIldxIzoKAAAMm\\u002fQS\\u002fECCc2OapnZuY9Gdjyx6n1NwaWSvtFFtLuDU81RERzsLOO2aJhI7cmTNydyYAedP5NNb\\u002fIrRQrMZJAjhl5H2514u2+DNwHQmWPorVGkJJg1CSJxAwwO\\u002f8covyYWvf28ZcpA4gVlFHTQvUjMr9RZNa3D4paWkcpQ+qa565a+tJZMztU6UvmSdtOnQN01SR42mhngFo56+5Bm5oNM7JYPSKRtl1i1TnjV79uL\\u002f66tyQauGCw1EqfanR0pewmQycWIJURTJXRJmsC9v9UQjjCjQIQAA7A6dCWnPaJBYgqx4IOmNxhi\\u002fM1HECCMKI3tFzelbEeXmwhjtTH9oNFmhTTUuSF37Z1p8fkTxJXzaqRvtcCINxlsOW7MBtHqSFmaWtAA9\\u002f9Yz9Y0n984MTGNNwpQ5FH4+xEXnrS+XJHkSaznTN\\u002fQplM7XkCiFBkI09vAHe79ob6+FpPSV+gkQEpbQJbl12qpTQkqLWGtwwl+bWxIgdO6G1pjyF+l2Yg8aZ3r0j9\\u002fcSQnnfNJpKPdEAyvhDAAAtlUlw3Fs599EFIC1tj25L35GnvOQ0s9VfcuchxSv3FW9gLST1pATctDT0xdWRY0cTjaDBhi++MiytoEfhHASHb7wkj+UC3ctlqkJerovZRs++fLl633Jjy1Pjv\\u002f275fpAv\\u002foFd+xr77y\\u002fOWeH3\\u002fuQqedcpd\\u002fuwYhNEohzdA26AYak\\u002fjwk281xtz18v9drmpGhb\\u002fMt8ROtA6ETt+QklNmFYbxK2JpPoRWrRZ+9S2NMWgQSO7yAwxP\\u002fKvLehhRqIKIAgAAyDS2828iCsixg\\u002fMLimdODPTN2djsjWv5bNxnibhC1gSKNYWlD6wvLO179i3L02jJ5NcTXB1l11R\\u002fHYnX82aHnkb\\u002fbxf\\u002fgVxw5kfomtdK7vrnL\\u002f53cvXhp5d70PCAhBzMKuqg4QFNmHjrS7+x9rH6QJ2Loft0Mif2v3y5pYYrPv7Cz8iF43vOqVbprO6tdFc6icOZgmFWb5qfD6GzM3SqhdBIj86weDx5PREFAACwK8Z2\\u002fk1EAePT7UpOqrkJKSXiHDVOtchJTSgdpagShBB+NkMWzXLwV6BwaMhBaexBTpdzFrVy6Ni\\u002fzlnQIIQse+1HGvyAgdB0Bz9KoXcJP3NCky1+\\u002fdBnjDHPffsn5aqGHPzECOHHHnTOxXtf\\u002fO\\u002fNupiKvmQtmvkv\\u002fvqovYG+mf\\u002fwq1cRUQAAALtibOffVGbcQQMdXO+JErMbiu+z4B568gmWrplR4iFVqjhIooM\\u002fsULphH5Z0UCz8TX24Gfyn12IwRhjTaB46O+Wi1bIVAsNOSiNPeigvp5wL6+u8h40v2Hy7NVyYfqSLxkrkOCnIOjqFctmP7Z89hcuXl\\u002fdQRe5UBqTOP81f2OMue\\u002frPy9X3\\u002fDq5Z41zqGySkecXc\\u002fz3CDKl557rbPlfzj8a3K4uei\\u002fbXYxCJ1e0TQqMwIAgEwjjCiM7BWhuJ6cmDan+Nh59XegiXqLNU5AqF7FoUhUoHjpiKxdFZ9A0ULxBr9mgxNjcKoTGq94wDNvcEs3OlkOZhV1yIk06Cm41HXQmQu6yqVTIFIjDX\\u002f2zOvlwj\\u002f9+eVbtPf+5QQEyVrQ+MF5b14Wqfzm\\u002fBq5IHECJ0Rh03DFsz\\u002fYZ9bFOfwUCsmQ0GwGTWL446tPjCyiMLbDKh2FvukwEa\\u002fKMtNoU5XDfxNVnjb2Tkq3qsiuCn4nc\\u002foTG9dBLlGLWvgVqf01uM\\u002f84neN128wVkUjXf5K6kH5NaqdLoVkFxpvsStjHZulfLVmJvpFnIRucOTiv5ALTkUpJd0Fs65ylEPzIrVVH\\u002f2FZGQdBZIZAQBAprGdfxNR6MToY\\u002f5oVMvfn+phpBKTNp0NfNXnf5Yes8iRFXsovvyV0tiDVo6SpZt0MqcOczh0UWld8+nIJf\\u002fW2UaCEDqo4SzJbawVs4SGFvwohY6AOHRLrTAtt+gDP\\u002f3UsnbWIzdcS0QBAADsirGdfxNRQDvaSRusUSfZGAXrKTW6\\u002fHeNTzo42+Za5jzQCS1kZT9kbb+WzN5Ufoql0AxKXTw6iy4qnUUzJ9S7LviKXNAFpcSHXv0nckFzFTVgoLkUUv7Zj16ML5mRiAIAAMg0tvNvCi4NDvkNOXbn3DdLH74eRZafLjhJoScVpXwFZ5\\u002fmvAMbp1r4sqpWa8Eo5\\u002facORdyl17de8lzcuHMI+fbtzx38PHlUzzwyuXOV7fopAyJWzgVqIw1WeOH915qP1YfqCtTa2Xl0UQUKLgEAAAyjTCiMLJXhI36cNKJAenDyX0TqpegLh5yyLEx3WFbWWt2l6BZEX75Bw1CyOQLf2EtrUalzvvOD8y6CSB6oj+aiAI5CgAAINPYzr+JKCAHsQf01tC\\u002fnBtXvdpY1nrjsmSlF9Ay2bM2ShSpdFIo\\u002fH0++Oe\\u002fQkShe2maJkkSRVGSJF23BQCAMRve+XeSJNPpNAxDY8x8PjfnZi8SUQBQr76d62+szNj+uioNPWnBOhy+EpUxa0REoXvT6XQymaRpmqapvEfEFQAAaMggp0dGUaSXwzBM07SzpgCoT9\\u002fO3UWvGmOy29NCO\\u002f0PqPqKmjm23TInYJBVB6L42uIb1\\u002flsJ1zRieF1FJxIy3w+n0wmXTUGAIBxG\\u002fCIfpqmcRwbL0ehxK6G+yYAADZqs3iGpsq9+savNPpEj\\u002f7xm6nMmCeKovl8vnbcgaP+tvoZ7wU61+fSTPzZbqX4u7Tth74LH8TwkhnNKmwwm83ITgAAoFHDG3oIgiAngZHpkQCADjH00DHpH0RR5HQU7HkQAACgLoPsKEyn0+l0qjcyQxIAUFwTkzlHbGA5CkmSLDz0EgAAaMjYRvTJUQCAgjhvbsL4chQGFlEAAABtGliOQhFZNZeINACArZ+BhJ7HOXrevCaMsKNAhwAAgLqMbUSfHAUAQIfIUQAAADuEjgIAAMhERwEAAGSiowAAADLRUQAAAJnoKAAAanPwqk9ppQGMwwjrKFBwCQC6sjtliDa68LGHG93\\u002fo43u3TLCjgIdAgAA6sLQAwAAyERHAQAAZKKjAAAAMtFRAAAAmegoAACATHQUAABAJjoK3cgq9tArg2ikoZ11G0Q7B9FIQztrNYhGjhIdBQAAkGmEBZeozAgAQF1G2FGgQwAAQF0YegAAAJnoKAAAgExDHXpIksQYE0VRFEVbPTAIgvyxiY0b1LWTpp+ihUa204w+vJl17aTpp+BDr\\u002fcpBtFOPvR6n6Kd97MhpY+M+YYXUUjTNAiCNE3TNI3jWN4XAAB2VqNHxv72jLIEQRCGYZqmxpgkSabTqf0S2unV9qFz3YcNetIMXmmNG\\u002fSkGX3YoCfN4JW2uUG9z3Lwqk\\u002flP1dFD\\u002f75r2hL8o+MFQ2yozCbzTSu4l8d1jepnxvI99v+Fvazna1t0JNm8Erb3KAnzRjfK3UOnw98+Ze33cCnP1kHfv5f2w\\u002fx2+Bs4B\\u002fL5Xcv5xi\\u002f8Yexq45CzpGxooENPUh3yXnxciMAADuo8SPjYlBms5nTZmNMGIb2VQAAOlTi6FbliTYeGSsa6qwHm92NKv12AwDQldoPXjVOfBjY0AMAAGjTwDoK0kVyhl7qnTAKAMCANH1kHFhHwRgThmEcx3JZi0t02B4AALrV6JFxeNMjjTGBtT6kPQOkoaJU1RVvWJIk7ZeQKtK8JEnSNI1W2mqa2wZTuJ0dVuIq\\u002fnFLdZSumrqxnc7tnbyrRd5MeRs3btao\\u002fHbK19K\\u002fsf3WDuKPaBCNzNfJL3nWkbEGdWVFtmw2m81mM\\u002fuqMSYMwzAMjTGTyaSzlp1rq4bJZi21bLFYFG6efFU6fHu3baf+qbTayu2\\u002fh6bWzOTiir+foaXlz71gIyeTib1ZPz\\u002f0yWQSnqv9pg7ij6hcI9tsYRHyKtr\\u002fKi68I2NdevcWl2P\\u002f4MoPR6fNOatgw\\u002fQb3\\u002fJho0jznNs7eXtLtLOTY\\u002fBW38NOPnF96iLt7PbvqEgjnV9k+Ttqq4FLJX582j8lWAzkj6hII51PuZM3M8tsNuvwRKU5fTmgVuR8Kv35kAo2bDKZ6IlRW01b0561zXP+Dv0Juy0o2E77\\u002fKOr3+KC30P7PLiVpp2jSDs7+aBtRRrZh7OCbX98unpjS7yf7X8\\u002fizTSiTR0\\u002fkW1zWYz\\u002fTHvyTGoFn15f6tYW2uiD6MP2zas5T\\u002fLcu9b+z\\u002fNJdopD+kkVG7fktUG3bKTjkLBdmpXRk6P+vlmyhuov85djTvYt2x8rzocH3Gasbadcru8pS1\\u002f7gUb6dzYh86ib2QdheHNeiiot3Wde9swkd88WWtE\\u002fjK7ldVOWUItjuMwDPuQ5bS2nXEcy29if2S9n1EUyTFjOp12niPsN3I+n8\\u002fn8ziOe7WcbM4fUa8maq1tp3zWcRxPp9M+\\u002fBH5jZQW6lX7MhoyhsqMa\\u002fXkT9HX24aJrObJr7CpPZm2rJxE\\u002fcViIa2NoqjzbpnfziiKwjDsw3to89tjp23LvZ3\\u002fIme9aYtVwod0ZDs\\u002ftuV8uNPptD99RL+daZpKC+Vvpw9\\u002fRGu\\u002fmXI+IFfDMJzP5203a8eMNqKAGiVJEsexhPv6doRbS86D+\\u002fnzISfBMvVLL3feodkoWlfRpXOaHi96\\u002fuVcu3JPr8ifubSwz39EaZpqen\\u002fn\\u002fcJdMIaOwtqfsD78Nfa2YaJg8\\u002fQko6s\\u002fyILtDIKg25+Mgu2U0XR7jnjLs\\u002f8LtnPt1P\\u002fW2lmwkZ3\\u002fNW31N54kid2taVPPf4tE8V8kreliOn1Xd0iXCRL1sSfM9Cq3Jadhfu5V+6ltRZqnc75tbTZyq3bq7aaLmYdbfdyL7mZ2DeL9LNJIf3pknz9002mCW5F2+rMeWv4tLd7ItV+A\\u002fuhnq0rrywG1Orv306tPaG3D1n6\\u002fu5rRl9+8nvQvi7yNnTeyYDtVh1PAi7TTPlHrahrnxkY6qbXtN7JgO\\u002fswi2\\u002fbD33tl7ZvjezDBDdfJ29dcwZZwjlLb4cAe9sw0fPmqSLt1Lhlhy9nTO9n8c0aMohG9qEBBQ3i\\u002fSz+l97\\u002fN3wcRtVRAAAA9RpDMiMAAGgIHQUAAJCJjgIAAMhERwEAxiMIgiAI1tbA6LzWSEOcmh9JkgSWIgmPUupx7ZtmP3xtcRHdwyjf26Wup10AAGojP+xr11Jae3s7mpsJ7Mw71bWs7KILRY50Zt0cYOOtZpm\\u002fhzFNibQRUQCAsXEW5uhb7e0aJUmivQG7jKzWbVwsFma1HFeOyWTi1Kv2V\\u002fDKLwE5mUxGG1TouqcCAKiNMcauXSjCMHSWjbbXprLDDPJA+wChR0f7hHvtw7Uskt5lV\\u002fm0d2g\\u002fo16dzWbaTn06Z1drX6+9q7VxC6eerNMe57Vn7U2Kr+vltQ0b6yF1nK8KAHaTHLmdg7Eev\\u002fWQvPbyYnVgXlhdAbnLL5yctaswDP0q4PZBN6ujIE8hm+mReG1BceWMO5gCYyt2Tfr8OuV+v0Eu6Fuxdg+jHH2gowAA42FWI\\u002fR6ANPLehz1z5V1Y+NVSrb3rIfttQ\\u002fPqVpdvKPgvBB\\u002fVzbpEvkttBtmxyf8\\u002fRivHLh\\u002fWdvpN0xu73a1kRa8yAAAxkVXYoyiyB7FF\\u002fP53L4lSRInp8HeiW8+n4dhqOPxHS5K6edeyEt2WpKmqeQfyPZOJoE+RN4HuZqmqT1CoUkPzp6dNkRDWDK+BJIZAWCE9Fg+n88LThEs90RRFDkdkTY5L805bCdJ4hzjHbLmu1613zS7PzHy2Y+bEFEAgBFKkiSOYz913xgThqF9QC2xwJIcg+2Hl1awH5PVDPvZJ5OJhgTszTReEkXRdDq1D\\u002flONyLrTXMmRDht0J2MMpxgiCgAwCjJoWs6nfqn+0mSzOdzParFcZw\\u002f8c8hx2O9qkfW4vTh1U\\u002fT7UO47C2OYyeu4FzWW\\u002fwxF33T7DckTVMn3SGOY92D04cY5YKWdBQAYJzkaOcfumSwII5jqV1otjwVTpIkDEMtfejEJ9aKokgjB3I41wqSW\\u002fVR\\u002fJY4tywWCzmQ25UZF+dOs5zP53LX2l6UtCcn6iAv1t6D3usMWIwGy0wDwI4qMehQ+uHOxhWfWkmVZf\\u002fwnL\\u002f\\u002fbVvub+nvIU3TOI5HeUilowAAGKr+HJ6DIJjNZgw9AADQI1EUFRn7aJqMoYyyl2CIKAAAgBxEFAAAQCY6CgAAIBMdBQAAkImOAgAAyERHAQAAZKKjAAAAMtFRAAAAmegoAACATHQUAABAJjoKAAAgEx0FAACQiY4CAADI9P8DYihhRxK1CFAAAAAASUVORK5CYII=\",\"x\":-0.125,\"xref\":\"x\",\"y\":2.25e-05,\"yref\":\"y\"}],\"xaxis\":{\"range\":[0,1],\"showgrid\":false,\"title\":{\"text\":\"Momentum (GeV\\u002fc)\"}},\"yaxis\":{\"range\":[0,2e-05],\"showgrid\":false,\"title\":{\"text\":\"dE\\u002fdx\"}},\"margin\":{\"l\":30,\"r\":0,\"b\":50,\"t\":50,\"pad\":0},\"showlegend\":false,\"autosize\":false,\"width\":530,\"height\":457,\"title\":{\"text\":\"Ionization Energy Loss vs. Momentum\"}},                        {\"responsive\": true}                    ).then(function(){\n                            \nvar gd = document.getElementById('99d093a0-3839-436d-80e6-4f04a4e9a868');\nvar x = new MutationObserver(function (mutations, observer) {{\n        var display = window.getComputedStyle(gd).display;\n        if (!display || display === 'none') {{\n            console.log([gd, 'removed!']);\n            Plotly.purge(gd);\n            observer.disconnect();\n        }}\n}});\n\n// Listen for the removal of the full notebook cells\nvar notebookContainer = gd.closest('#notebook-container');\nif (notebookContainer) {{\n    x.observe(notebookContainer, {childList: true});\n}}\n\n// Listen for the clearing of the current output cell\nvar outputEl = gd.closest('.output');\nif (outputEl) {{\n    x.observe(outputEl, {childList: true});\n}}\n\n                        })                };                            </script>        </div>\n</body>\n</html>"
                },
                "metadata": {}
              }
            ]
          }
        },
        "f2f4bd63df90420797f8e704f5749f66": {
          "model_module": "@jupyter-widgets/base",
          "model_name": "LayoutModel",
          "model_module_version": "1.2.0",
          "state": {
            "_model_module": "@jupyter-widgets/base",
            "_model_module_version": "1.2.0",
            "_model_name": "LayoutModel",
            "_view_count": null,
            "_view_module": "@jupyter-widgets/base",
            "_view_module_version": "1.2.0",
            "_view_name": "LayoutView",
            "align_content": null,
            "align_items": null,
            "align_self": null,
            "border": null,
            "bottom": null,
            "display": null,
            "flex": null,
            "flex_flow": null,
            "grid_area": null,
            "grid_auto_columns": null,
            "grid_auto_flow": null,
            "grid_auto_rows": null,
            "grid_column": null,
            "grid_gap": null,
            "grid_row": null,
            "grid_template_areas": null,
            "grid_template_columns": null,
            "grid_template_rows": null,
            "height": null,
            "justify_content": null,
            "justify_items": null,
            "left": null,
            "margin": null,
            "max_height": null,
            "max_width": null,
            "min_height": null,
            "min_width": null,
            "object_fit": null,
            "object_position": null,
            "order": null,
            "overflow": null,
            "overflow_x": null,
            "overflow_y": null,
            "padding": null,
            "right": null,
            "top": null,
            "visibility": null,
            "width": null
          }
        },
        "773787b52ba74c86a4c090cb4c13bd05": {
          "model_module": "@jupyter-widgets/controls",
          "model_name": "FloatSliderModel",
          "model_module_version": "1.5.0",
          "state": {
            "_dom_classes": [],
            "_model_module": "@jupyter-widgets/controls",
            "_model_module_version": "1.5.0",
            "_model_name": "FloatSliderModel",
            "_view_count": null,
            "_view_module": "@jupyter-widgets/controls",
            "_view_module_version": "1.5.0",
            "_view_name": "FloatSliderView",
            "continuous_update": true,
            "description": "a",
            "description_tooltip": null,
            "disabled": false,
            "layout": "IPY_MODEL_dbcb84a74fa04fdd92b07e0a25af2b57",
            "max": 0,
            "min": -10,
            "orientation": "horizontal",
            "readout": true,
            "readout_format": ".2f",
            "step": 0.01,
            "style": "IPY_MODEL_cc4e8b84101742be958bccd3b5c997a8",
            "value": -5.8
          }
        },
        "7bd97baeaa87449d88f23a6df7b1bb56": {
          "model_module": "@jupyter-widgets/controls",
          "model_name": "FloatSliderModel",
          "model_module_version": "1.5.0",
          "state": {
            "_dom_classes": [],
            "_model_module": "@jupyter-widgets/controls",
            "_model_module_version": "1.5.0",
            "_model_name": "FloatSliderModel",
            "_view_count": null,
            "_view_module": "@jupyter-widgets/controls",
            "_view_module_version": "1.5.0",
            "_view_name": "FloatSliderView",
            "continuous_update": true,
            "description": "b",
            "description_tooltip": null,
            "disabled": false,
            "layout": "IPY_MODEL_df748815b64f4691aba700e202af2c83",
            "max": 10,
            "min": 0,
            "orientation": "horizontal",
            "readout": true,
            "readout_format": ".2f",
            "step": 0.01,
            "style": "IPY_MODEL_53502c568a3e45268473493a3e5933ba",
            "value": 4.55
          }
        },
        "b7fcfefef86745ff9b886ab8164489ce": {
          "model_module": "@jupyter-widgets/controls",
          "model_name": "FloatSliderModel",
          "model_module_version": "1.5.0",
          "state": {
            "_dom_classes": [],
            "_model_module": "@jupyter-widgets/controls",
            "_model_module_version": "1.5.0",
            "_model_name": "FloatSliderModel",
            "_view_count": null,
            "_view_module": "@jupyter-widgets/controls",
            "_view_module_version": "1.5.0",
            "_view_name": "FloatSliderView",
            "continuous_update": true,
            "description": "c",
            "description_tooltip": null,
            "disabled": false,
            "layout": "IPY_MODEL_3286126dabc646e7af577ef81110879b",
            "max": 10,
            "min": 0,
            "orientation": "horizontal",
            "readout": true,
            "readout_format": ".2f",
            "step": 0.01,
            "style": "IPY_MODEL_31b10d4cbb5a4cbe8817c0e1d489231d",
            "value": 3.42
          }
        },
        "85a377c586f24185a032504a1ac118ff": {
          "model_module": "@jupyter-widgets/base",
          "model_name": "LayoutModel",
          "model_module_version": "1.2.0",
          "state": {
            "_model_module": "@jupyter-widgets/base",
            "_model_module_version": "1.2.0",
            "_model_name": "LayoutModel",
            "_view_count": null,
            "_view_module": "@jupyter-widgets/base",
            "_view_module_version": "1.2.0",
            "_view_name": "LayoutView",
            "align_content": null,
            "align_items": null,
            "align_self": null,
            "border": null,
            "bottom": null,
            "display": null,
            "flex": null,
            "flex_flow": "row wrap",
            "grid_area": null,
            "grid_auto_columns": null,
            "grid_auto_flow": null,
            "grid_auto_rows": null,
            "grid_column": null,
            "grid_gap": null,
            "grid_row": null,
            "grid_template_areas": null,
            "grid_template_columns": null,
            "grid_template_rows": null,
            "height": null,
            "justify_content": null,
            "justify_items": null,
            "left": null,
            "margin": null,
            "max_height": null,
            "max_width": null,
            "min_height": null,
            "min_width": null,
            "object_fit": null,
            "object_position": null,
            "order": null,
            "overflow": null,
            "overflow_x": null,
            "overflow_y": null,
            "padding": null,
            "right": null,
            "top": null,
            "visibility": null,
            "width": null
          }
        },
        "d43e2f86e5794c68b822fb3063d3bd61": {
          "model_module": "@jupyter-widgets/base",
          "model_name": "LayoutModel",
          "model_module_version": "1.2.0",
          "state": {
            "_model_module": "@jupyter-widgets/base",
            "_model_module_version": "1.2.0",
            "_model_name": "LayoutModel",
            "_view_count": null,
            "_view_module": "@jupyter-widgets/base",
            "_view_module_version": "1.2.0",
            "_view_name": "LayoutView",
            "align_content": null,
            "align_items": null,
            "align_self": null,
            "border": null,
            "bottom": null,
            "display": null,
            "flex": null,
            "flex_flow": null,
            "grid_area": null,
            "grid_auto_columns": null,
            "grid_auto_flow": null,
            "grid_auto_rows": null,
            "grid_column": null,
            "grid_gap": null,
            "grid_row": null,
            "grid_template_areas": null,
            "grid_template_columns": null,
            "grid_template_rows": null,
            "height": null,
            "justify_content": null,
            "justify_items": null,
            "left": null,
            "margin": null,
            "max_height": null,
            "max_width": null,
            "min_height": null,
            "min_width": null,
            "object_fit": null,
            "object_position": null,
            "order": null,
            "overflow": null,
            "overflow_x": null,
            "overflow_y": null,
            "padding": null,
            "right": null,
            "top": null,
            "visibility": null,
            "width": null
          }
        },
        "dbcb84a74fa04fdd92b07e0a25af2b57": {
          "model_module": "@jupyter-widgets/base",
          "model_name": "LayoutModel",
          "model_module_version": "1.2.0",
          "state": {
            "_model_module": "@jupyter-widgets/base",
            "_model_module_version": "1.2.0",
            "_model_name": "LayoutModel",
            "_view_count": null,
            "_view_module": "@jupyter-widgets/base",
            "_view_module_version": "1.2.0",
            "_view_name": "LayoutView",
            "align_content": null,
            "align_items": null,
            "align_self": null,
            "border": null,
            "bottom": null,
            "display": null,
            "flex": null,
            "flex_flow": null,
            "grid_area": null,
            "grid_auto_columns": null,
            "grid_auto_flow": null,
            "grid_auto_rows": null,
            "grid_column": null,
            "grid_gap": null,
            "grid_row": null,
            "grid_template_areas": null,
            "grid_template_columns": null,
            "grid_template_rows": null,
            "height": null,
            "justify_content": null,
            "justify_items": null,
            "left": null,
            "margin": null,
            "max_height": null,
            "max_width": null,
            "min_height": null,
            "min_width": null,
            "object_fit": null,
            "object_position": null,
            "order": null,
            "overflow": null,
            "overflow_x": null,
            "overflow_y": null,
            "padding": null,
            "right": null,
            "top": null,
            "visibility": null,
            "width": null
          }
        },
        "cc4e8b84101742be958bccd3b5c997a8": {
          "model_module": "@jupyter-widgets/controls",
          "model_name": "SliderStyleModel",
          "model_module_version": "1.5.0",
          "state": {
            "_model_module": "@jupyter-widgets/controls",
            "_model_module_version": "1.5.0",
            "_model_name": "SliderStyleModel",
            "_view_count": null,
            "_view_module": "@jupyter-widgets/base",
            "_view_module_version": "1.2.0",
            "_view_name": "StyleView",
            "description_width": "",
            "handle_color": null
          }
        },
        "df748815b64f4691aba700e202af2c83": {
          "model_module": "@jupyter-widgets/base",
          "model_name": "LayoutModel",
          "model_module_version": "1.2.0",
          "state": {
            "_model_module": "@jupyter-widgets/base",
            "_model_module_version": "1.2.0",
            "_model_name": "LayoutModel",
            "_view_count": null,
            "_view_module": "@jupyter-widgets/base",
            "_view_module_version": "1.2.0",
            "_view_name": "LayoutView",
            "align_content": null,
            "align_items": null,
            "align_self": null,
            "border": null,
            "bottom": null,
            "display": null,
            "flex": null,
            "flex_flow": null,
            "grid_area": null,
            "grid_auto_columns": null,
            "grid_auto_flow": null,
            "grid_auto_rows": null,
            "grid_column": null,
            "grid_gap": null,
            "grid_row": null,
            "grid_template_areas": null,
            "grid_template_columns": null,
            "grid_template_rows": null,
            "height": null,
            "justify_content": null,
            "justify_items": null,
            "left": null,
            "margin": null,
            "max_height": null,
            "max_width": null,
            "min_height": null,
            "min_width": null,
            "object_fit": null,
            "object_position": null,
            "order": null,
            "overflow": null,
            "overflow_x": null,
            "overflow_y": null,
            "padding": null,
            "right": null,
            "top": null,
            "visibility": null,
            "width": null
          }
        },
        "53502c568a3e45268473493a3e5933ba": {
          "model_module": "@jupyter-widgets/controls",
          "model_name": "SliderStyleModel",
          "model_module_version": "1.5.0",
          "state": {
            "_model_module": "@jupyter-widgets/controls",
            "_model_module_version": "1.5.0",
            "_model_name": "SliderStyleModel",
            "_view_count": null,
            "_view_module": "@jupyter-widgets/base",
            "_view_module_version": "1.2.0",
            "_view_name": "StyleView",
            "description_width": "",
            "handle_color": null
          }
        },
        "3286126dabc646e7af577ef81110879b": {
          "model_module": "@jupyter-widgets/base",
          "model_name": "LayoutModel",
          "model_module_version": "1.2.0",
          "state": {
            "_model_module": "@jupyter-widgets/base",
            "_model_module_version": "1.2.0",
            "_model_name": "LayoutModel",
            "_view_count": null,
            "_view_module": "@jupyter-widgets/base",
            "_view_module_version": "1.2.0",
            "_view_name": "LayoutView",
            "align_content": null,
            "align_items": null,
            "align_self": null,
            "border": null,
            "bottom": null,
            "display": null,
            "flex": null,
            "flex_flow": null,
            "grid_area": null,
            "grid_auto_columns": null,
            "grid_auto_flow": null,
            "grid_auto_rows": null,
            "grid_column": null,
            "grid_gap": null,
            "grid_row": null,
            "grid_template_areas": null,
            "grid_template_columns": null,
            "grid_template_rows": null,
            "height": null,
            "justify_content": null,
            "justify_items": null,
            "left": null,
            "margin": null,
            "max_height": null,
            "max_width": null,
            "min_height": null,
            "min_width": null,
            "object_fit": null,
            "object_position": null,
            "order": null,
            "overflow": null,
            "overflow_x": null,
            "overflow_y": null,
            "padding": null,
            "right": null,
            "top": null,
            "visibility": null,
            "width": null
          }
        },
        "31b10d4cbb5a4cbe8817c0e1d489231d": {
          "model_module": "@jupyter-widgets/controls",
          "model_name": "SliderStyleModel",
          "model_module_version": "1.5.0",
          "state": {
            "_model_module": "@jupyter-widgets/controls",
            "_model_module_version": "1.5.0",
            "_model_name": "SliderStyleModel",
            "_view_count": null,
            "_view_module": "@jupyter-widgets/base",
            "_view_module_version": "1.2.0",
            "_view_name": "StyleView",
            "description_width": "",
            "handle_color": null
          }
        },
        "20d001cf98d74089bed9c7c9160df1ae": {
          "model_module": "@jupyter-widgets/controls",
          "model_name": "VBoxModel",
          "model_module_version": "1.5.0",
          "state": {
            "_dom_classes": [],
            "_model_module": "@jupyter-widgets/controls",
            "_model_module_version": "1.5.0",
            "_model_name": "VBoxModel",
            "_view_count": null,
            "_view_module": "@jupyter-widgets/controls",
            "_view_module_version": "1.5.0",
            "_view_name": "VBoxView",
            "box_style": "",
            "children": [
              "IPY_MODEL_62184984e96d463ba1286eaf041bf814",
              "IPY_MODEL_55c5c98dbe974462b6e2520cbc569f60"
            ],
            "layout": "IPY_MODEL_149a5502c8814ea5a4677ba5a2cc3835"
          }
        },
        "62184984e96d463ba1286eaf041bf814": {
          "model_module": "@jupyter-widgets/controls",
          "model_name": "HBoxModel",
          "model_module_version": "1.5.0",
          "state": {
            "_dom_classes": [],
            "_model_module": "@jupyter-widgets/controls",
            "_model_module_version": "1.5.0",
            "_model_name": "HBoxModel",
            "_view_count": null,
            "_view_module": "@jupyter-widgets/controls",
            "_view_module_version": "1.5.0",
            "_view_name": "HBoxView",
            "box_style": "",
            "children": [
              "IPY_MODEL_d37bf50d34f24c059ce66eba5267418a",
              "IPY_MODEL_a74035a4c3a44ece866dc4ab5296e3ff",
              "IPY_MODEL_41cd25f152ef4d0a918c7c2b84c34c93"
            ],
            "layout": "IPY_MODEL_9a83490ac9374282a7079f52d056438c"
          }
        },
        "55c5c98dbe974462b6e2520cbc569f60": {
          "model_module": "@jupyter-widgets/output",
          "model_name": "OutputModel",
          "model_module_version": "1.0.0",
          "state": {
            "_dom_classes": [],
            "_model_module": "@jupyter-widgets/output",
            "_model_module_version": "1.0.0",
            "_model_name": "OutputModel",
            "_view_count": null,
            "_view_module": "@jupyter-widgets/output",
            "_view_module_version": "1.0.0",
            "_view_name": "OutputView",
            "layout": "IPY_MODEL_4ce2da1d05784206a12d4679620659fa",
            "msg_id": "",
            "outputs": [
              {
                "output_type": "display_data",
                "data": {
                  "text/html": "<html>\n<head><meta charset=\"utf-8\" /></head>\n<body>\n    <div>            <script src=\"https://cdnjs.cloudflare.com/ajax/libs/mathjax/2.7.5/MathJax.js?config=TeX-AMS-MML_SVG\"></script><script type=\"text/javascript\">if (window.MathJax && window.MathJax.Hub && window.MathJax.Hub.Config) {window.MathJax.Hub.Config({SVG: {font: \"STIX-Web\"}});}</script>                <script type=\"text/javascript\">window.PlotlyConfig = {MathJaxConfig: 'local'};</script>\n        <script charset=\"utf-8\" src=\"https://cdn.plot.ly/plotly-2.24.1.min.js\"></script>                <div id=\"43c4e89d-f598-428f-bef6-162da48fce07\" class=\"plotly-graph-div\" style=\"height:457px; width:530px;\"></div>            <script type=\"text/javascript\">                                    window.PLOTLYENV=window.PLOTLYENV || {};                                    if (document.getElementById(\"43c4e89d-f598-428f-bef6-162da48fce07\")) {                    Plotly.newPlot(                        \"43c4e89d-f598-428f-bef6-162da48fce07\",                        [{\"marker\":{\"color\":\"red\"},\"mode\":\"lines\",\"name\":\"Cut\",\"x\":[0.0,0.002002002002002002,0.004004004004004004,0.006006006006006006,0.008008008008008008,0.01001001001001001,0.012012012012012012,0.014014014014014014,0.016016016016016016,0.018018018018018018,0.02002002002002002,0.022022022022022022,0.024024024024024024,0.026026026026026026,0.028028028028028028,0.03003003003003003,0.03203203203203203,0.03403403403403403,0.036036036036036036,0.03803803803803804,0.04004004004004004,0.04204204204204204,0.044044044044044044,0.04604604604604605,0.04804804804804805,0.050050050050050046,0.05205205205205205,0.05405405405405406,0.056056056056056056,0.058058058058058054,0.06006006006006006,0.062062062062062065,0.06406406406406406,0.06606606606606606,0.06806806806806806,0.07007007007007007,0.07207207207207207,0.07407407407407407,0.07607607607607608,0.07807807807807808,0.08008008008008008,0.08208208208208208,0.08408408408408408,0.08608608608608609,0.08808808808808809,0.09009009009009009,0.0920920920920921,0.0940940940940941,0.0960960960960961,0.0980980980980981,0.10010010010010009,0.1021021021021021,0.1041041041041041,0.1061061061061061,0.10810810810810811,0.11011011011011011,0.11211211211211211,0.11411411411411411,0.11611611611611611,0.11811811811811812,0.12012012012012012,0.12212212212212212,0.12412412412412413,0.12612612612612611,0.12812812812812813,0.13013013013013014,0.13213213213213212,0.13413413413413414,0.13613613613613612,0.13813813813813813,0.14014014014014015,0.14214214214214213,0.14414414414414414,0.14614614614614616,0.14814814814814814,0.15015015015015015,0.15215215215215216,0.15415415415415415,0.15615615615615616,0.15815815815815815,0.16016016016016016,0.16216216216216217,0.16416416416416416,0.16616616616616617,0.16816816816816815,0.17017017017017017,0.17217217217217218,0.17417417417417416,0.17617617617617617,0.1781781781781782,0.18018018018018017,0.18218218218218218,0.1841841841841842,0.18618618618618618,0.1881881881881882,0.19019019019019018,0.1921921921921922,0.1941941941941942,0.1961961961961962,0.1981981981981982,0.20020020020020018,0.2022022022022022,0.2042042042042042,0.2062062062062062,0.2082082082082082,0.21021021021021022,0.2122122122122122,0.21421421421421422,0.21621621621621623,0.2182182182182182,0.22022022022022023,0.2222222222222222,0.22422422422422422,0.22622622622622623,0.22822822822822822,0.23023023023023023,0.23223223223223222,0.23423423423423423,0.23623623623623624,0.23823823823823823,0.24024024024024024,0.24224224224224225,0.24424424424424424,0.24624624624624625,0.24824824824824826,0.2502502502502503,0.25225225225225223,0.25425425425425424,0.25625625625625625,0.25825825825825827,0.2602602602602603,0.26226226226226224,0.26426426426426425,0.26626626626626626,0.2682682682682683,0.2702702702702703,0.27227227227227224,0.27427427427427425,0.27627627627627627,0.2782782782782783,0.2802802802802803,0.2822822822822823,0.28428428428428426,0.2862862862862863,0.2882882882882883,0.2902902902902903,0.2922922922922923,0.29429429429429427,0.2962962962962963,0.2982982982982983,0.3003003003003003,0.3023023023023023,0.30430430430430433,0.3063063063063063,0.3083083083083083,0.3103103103103103,0.3123123123123123,0.31431431431431434,0.3163163163163163,0.3183183183183183,0.3203203203203203,0.32232232232232233,0.32432432432432434,0.3263263263263263,0.3283283283283283,0.3303303303303303,0.33233233233233234,0.33433433433433435,0.3363363363363363,0.3383383383383383,0.34034034034034033,0.34234234234234234,0.34434434434434436,0.34634634634634637,0.3483483483483483,0.35035035035035034,0.35235235235235235,0.35435435435435436,0.3563563563563564,0.35835835835835833,0.36036036036036034,0.36236236236236236,0.36436436436436437,0.3663663663663664,0.3683683683683684,0.37037037037037035,0.37237237237237236,0.3743743743743744,0.3763763763763764,0.3783783783783784,0.38038038038038036,0.38238238238238237,0.3843843843843844,0.3863863863863864,0.3883883883883884,0.39039039039039036,0.3923923923923924,0.3943943943943944,0.3963963963963964,0.3983983983983984,0.40040040040040037,0.4024024024024024,0.4044044044044044,0.4064064064064064,0.4084084084084084,0.41041041041041043,0.4124124124124124,0.4144144144144144,0.4164164164164164,0.4184184184184184,0.42042042042042044,0.4224224224224224,0.4244244244244244,0.4264264264264264,0.42842842842842843,0.43043043043043044,0.43243243243243246,0.4344344344344344,0.4364364364364364,0.43843843843843844,0.44044044044044045,0.44244244244244246,0.4444444444444444,0.44644644644644643,0.44844844844844844,0.45045045045045046,0.45245245245245247,0.4544544544544544,0.45645645645645644,0.45845845845845845,0.46046046046046046,0.4624624624624625,0.46446446446446443,0.46646646646646645,0.46846846846846846,0.47047047047047047,0.4724724724724725,0.4744744744744745,0.47647647647647645,0.47847847847847846,0.4804804804804805,0.4824824824824825,0.4844844844844845,0.48648648648648646,0.48848848848848847,0.4904904904904905,0.4924924924924925,0.4944944944944945,0.4964964964964965,0.4984984984984985,0.5005005005005005,0.5025025025025025,0.5045045045045045,0.5065065065065065,0.5085085085085085,0.5105105105105106,0.5125125125125125,0.5145145145145145,0.5165165165165165,0.5185185185185185,0.5205205205205206,0.5225225225225225,0.5245245245245245,0.5265265265265265,0.5285285285285285,0.5305305305305306,0.5325325325325325,0.5345345345345345,0.5365365365365365,0.5385385385385385,0.5405405405405406,0.5425425425425425,0.5445445445445445,0.5465465465465466,0.5485485485485485,0.5505505505505506,0.5525525525525525,0.5545545545545546,0.5565565565565566,0.5585585585585585,0.5605605605605606,0.5625625625625625,0.5645645645645646,0.5665665665665666,0.5685685685685685,0.5705705705705706,0.5725725725725725,0.5745745745745746,0.5765765765765766,0.5785785785785785,0.5805805805805806,0.5825825825825826,0.5845845845845846,0.5865865865865866,0.5885885885885885,0.5905905905905906,0.5925925925925926,0.5945945945945946,0.5965965965965966,0.5985985985985985,0.6006006006006006,0.6026026026026026,0.6046046046046046,0.6066066066066066,0.6086086086086087,0.6106106106106106,0.6126126126126126,0.6146146146146146,0.6166166166166166,0.6186186186186187,0.6206206206206206,0.6226226226226226,0.6246246246246246,0.6266266266266266,0.6286286286286287,0.6306306306306306,0.6326326326326326,0.6346346346346347,0.6366366366366366,0.6386386386386387,0.6406406406406406,0.6426426426426426,0.6446446446446447,0.6466466466466466,0.6486486486486487,0.6506506506506506,0.6526526526526526,0.6546546546546547,0.6566566566566566,0.6586586586586587,0.6606606606606606,0.6626626626626626,0.6646646646646647,0.6666666666666666,0.6686686686686687,0.6706706706706707,0.6726726726726726,0.6746746746746747,0.6766766766766766,0.6786786786786787,0.6806806806806807,0.6826826826826827,0.6846846846846847,0.6866866866866866,0.6886886886886887,0.6906906906906907,0.6926926926926927,0.6946946946946947,0.6966966966966966,0.6986986986986987,0.7007007007007007,0.7027027027027027,0.7047047047047047,0.7067067067067067,0.7087087087087087,0.7107107107107107,0.7127127127127127,0.7147147147147147,0.7167167167167167,0.7187187187187187,0.7207207207207207,0.7227227227227228,0.7247247247247247,0.7267267267267267,0.7287287287287287,0.7307307307307307,0.7327327327327328,0.7347347347347347,0.7367367367367368,0.7387387387387387,0.7407407407407407,0.7427427427427428,0.7447447447447447,0.7467467467467468,0.7487487487487487,0.7507507507507507,0.7527527527527528,0.7547547547547547,0.7567567567567568,0.7587587587587588,0.7607607607607607,0.7627627627627628,0.7647647647647647,0.7667667667667668,0.7687687687687688,0.7707707707707707,0.7727727727727728,0.7747747747747747,0.7767767767767768,0.7787787787787788,0.7807807807807807,0.7827827827827828,0.7847847847847848,0.7867867867867868,0.7887887887887888,0.7907907907907907,0.7927927927927928,0.7947947947947948,0.7967967967967968,0.7987987987987988,0.8008008008008007,0.8028028028028028,0.8048048048048048,0.8068068068068068,0.8088088088088088,0.8108108108108109,0.8128128128128128,0.8148148148148148,0.8168168168168168,0.8188188188188188,0.8208208208208209,0.8228228228228228,0.8248248248248248,0.8268268268268268,0.8288288288288288,0.8308308308308309,0.8328328328328328,0.8348348348348348,0.8368368368368369,0.8388388388388388,0.8408408408408409,0.8428428428428428,0.8448448448448448,0.8468468468468469,0.8488488488488488,0.8508508508508509,0.8528528528528528,0.8548548548548548,0.8568568568568569,0.8588588588588588,0.8608608608608609,0.8628628628628628,0.8648648648648649,0.8668668668668669,0.8688688688688688,0.8708708708708709,0.8728728728728729,0.8748748748748749,0.8768768768768769,0.8788788788788788,0.8808808808808809,0.8828828828828829,0.8848848848848849,0.8868868868868869,0.8888888888888888,0.8908908908908909,0.8928928928928929,0.8948948948948949,0.8968968968968969,0.8988988988988988,0.9009009009009009,0.9029029029029029,0.9049049049049049,0.9069069069069069,0.9089089089089089,0.9109109109109109,0.9129129129129129,0.914914914914915,0.9169169169169169,0.9189189189189189,0.9209209209209209,0.9229229229229229,0.924924924924925,0.9269269269269269,0.9289289289289289,0.9309309309309309,0.9329329329329329,0.934934934934935,0.9369369369369369,0.938938938938939,0.9409409409409409,0.9429429429429429,0.944944944944945,0.9469469469469469,0.948948948948949,0.950950950950951,0.9529529529529529,0.954954954954955,0.9569569569569569,0.958958958958959,0.960960960960961,0.9629629629629629,0.964964964964965,0.9669669669669669,0.968968968968969,0.970970970970971,0.9729729729729729,0.974974974974975,0.9769769769769769,0.978978978978979,0.980980980980981,0.9829829829829829,0.984984984984985,0.986986986986987,0.988988988988989,0.990990990990991,0.992992992992993,0.994994994994995,0.996996996996997,0.998998998998999,1.001001001001001,1.003003003003003,1.005005005005005,1.007007007007007,1.009009009009009,1.011011011011011,1.013013013013013,1.015015015015015,1.017017017017017,1.019019019019019,1.021021021021021,1.023023023023023,1.025025025025025,1.027027027027027,1.029029029029029,1.031031031031031,1.033033033033033,1.035035035035035,1.037037037037037,1.039039039039039,1.0410410410410411,1.043043043043043,1.045045045045045,1.047047047047047,1.049049049049049,1.0510510510510511,1.053053053053053,1.055055055055055,1.057057057057057,1.059059059059059,1.0610610610610611,1.063063063063063,1.065065065065065,1.067067067067067,1.069069069069069,1.0710710710710711,1.073073073073073,1.075075075075075,1.077077077077077,1.079079079079079,1.0810810810810811,1.083083083083083,1.085085085085085,1.087087087087087,1.089089089089089,1.0910910910910911,1.093093093093093,1.095095095095095,1.097097097097097,1.0990990990990992,1.1011011011011012,1.103103103103103,1.105105105105105,1.107107107107107,1.1091091091091092,1.1111111111111112,1.1131131131131131,1.115115115115115,1.117117117117117,1.1191191191191192,1.1211211211211212,1.1231231231231231,1.125125125125125,1.127127127127127,1.1291291291291292,1.1311311311311312,1.1331331331331331,1.135135135135135,1.137137137137137,1.1391391391391392,1.1411411411411412,1.1431431431431431,1.145145145145145,1.147147147147147,1.1491491491491492,1.1511511511511512,1.1531531531531531,1.155155155155155,1.157157157157157,1.1591591591591592,1.1611611611611612,1.1631631631631631,1.165165165165165,1.167167167167167,1.1691691691691692,1.1711711711711712,1.1731731731731732,1.1751751751751751,1.177177177177177,1.1791791791791792,1.1811811811811812,1.1831831831831832,1.1851851851851851,1.187187187187187,1.1891891891891893,1.1911911911911912,1.1931931931931932,1.1951951951951951,1.197197197197197,1.1991991991991993,1.2012012012012012,1.2032032032032032,1.2052052052052051,1.207207207207207,1.2092092092092093,1.2112112112112112,1.2132132132132132,1.2152152152152151,1.2172172172172173,1.2192192192192193,1.2212212212212212,1.2232232232232232,1.2252252252252251,1.2272272272272273,1.2292292292292293,1.2312312312312312,1.2332332332332332,1.2352352352352352,1.2372372372372373,1.2392392392392393,1.2412412412412412,1.2432432432432432,1.2452452452452452,1.2472472472472473,1.2492492492492493,1.2512512512512513,1.2532532532532532,1.2552552552552552,1.2572572572572573,1.2592592592592593,1.2612612612612613,1.2632632632632632,1.2652652652652652,1.2672672672672673,1.2692692692692693,1.2712712712712713,1.2732732732732732,1.2752752752752752,1.2772772772772774,1.2792792792792793,1.2812812812812813,1.2832832832832832,1.2852852852852852,1.2872872872872874,1.2892892892892893,1.2912912912912913,1.2932932932932932,1.2952952952952952,1.2972972972972974,1.2992992992992993,1.3013013013013013,1.3033033033033032,1.3053053053053052,1.3073073073073074,1.3093093093093093,1.3113113113113113,1.3133133133133132,1.3153153153153152,1.3173173173173174,1.3193193193193193,1.3213213213213213,1.3233233233233233,1.3253253253253252,1.3273273273273274,1.3293293293293293,1.3313313313313313,1.3333333333333333,1.3353353353353352,1.3373373373373374,1.3393393393393394,1.3413413413413413,1.3433433433433433,1.3453453453453452,1.3473473473473474,1.3493493493493494,1.3513513513513513,1.3533533533533533,1.3553553553553555,1.3573573573573574,1.3593593593593594,1.3613613613613613,1.3633633633633633,1.3653653653653655,1.3673673673673674,1.3693693693693694,1.3713713713713713,1.3733733733733733,1.3753753753753755,1.3773773773773774,1.3793793793793794,1.3813813813813813,1.3833833833833833,1.3853853853853855,1.3873873873873874,1.3893893893893894,1.3913913913913913,1.3933933933933933,1.3953953953953955,1.3973973973973974,1.3993993993993994,1.4014014014014013,1.4034034034034033,1.4054054054054055,1.4074074074074074,1.4094094094094094,1.4114114114114114,1.4134134134134133,1.4154154154154155,1.4174174174174174,1.4194194194194194,1.4214214214214214,1.4234234234234233,1.4254254254254255,1.4274274274274275,1.4294294294294294,1.4314314314314314,1.4334334334334333,1.4354354354354355,1.4374374374374375,1.4394394394394394,1.4414414414414414,1.4434434434434433,1.4454454454454455,1.4474474474474475,1.4494494494494494,1.4514514514514514,1.4534534534534533,1.4554554554554555,1.4574574574574575,1.4594594594594594,1.4614614614614614,1.4634634634634633,1.4654654654654655,1.4674674674674675,1.4694694694694694,1.4714714714714714,1.4734734734734736,1.4754754754754755,1.4774774774774775,1.4794794794794794,1.4814814814814814,1.4834834834834836,1.4854854854854855,1.4874874874874875,1.4894894894894894,1.4914914914914914,1.4934934934934936,1.4954954954954955,1.4974974974974975,1.4994994994994995,1.5015015015015014,1.5035035035035036,1.5055055055055055,1.5075075075075075,1.5095095095095095,1.5115115115115114,1.5135135135135136,1.5155155155155156,1.5175175175175175,1.5195195195195195,1.5215215215215214,1.5235235235235236,1.5255255255255256,1.5275275275275275,1.5295295295295295,1.5315315315315314,1.5335335335335336,1.5355355355355356,1.5375375375375375,1.5395395395395395,1.5415415415415414,1.5435435435435436,1.5455455455455456,1.5475475475475475,1.5495495495495495,1.5515515515515514,1.5535535535535536,1.5555555555555556,1.5575575575575575,1.5595595595595595,1.5615615615615615,1.5635635635635636,1.5655655655655656,1.5675675675675675,1.5695695695695695,1.5715715715715715,1.5735735735735736,1.5755755755755756,1.5775775775775776,1.5795795795795795,1.5815815815815815,1.5835835835835836,1.5855855855855856,1.5875875875875876,1.5895895895895895,1.5915915915915915,1.5935935935935936,1.5955955955955956,1.5975975975975976,1.5995995995995995,1.6016016016016015,1.6036036036036037,1.6056056056056056,1.6076076076076076,1.6096096096096095,1.6116116116116117,1.6136136136136137,1.6156156156156156,1.6176176176176176,1.6196196196196195,1.6216216216216217,1.6236236236236237,1.6256256256256256,1.6276276276276276,1.6296296296296295,1.6316316316316317,1.6336336336336337,1.6356356356356356,1.6376376376376376,1.6396396396396395,1.6416416416416417,1.6436436436436437,1.6456456456456456,1.6476476476476476,1.6496496496496496,1.6516516516516517,1.6536536536536537,1.6556556556556556,1.6576576576576576,1.6596596596596596,1.6616616616616617,1.6636636636636637,1.6656656656656657,1.6676676676676676,1.6696696696696696,1.6716716716716717,1.6736736736736737,1.6756756756756757,1.6776776776776776,1.6796796796796796,1.6816816816816818,1.6836836836836837,1.6856856856856857,1.6876876876876876,1.6896896896896896,1.6916916916916918,1.6936936936936937,1.6956956956956957,1.6976976976976976,1.6996996996996996,1.7017017017017018,1.7037037037037037,1.7057057057057057,1.7077077077077076,1.7097097097097096,1.7117117117117118,1.7137137137137137,1.7157157157157157,1.7177177177177176,1.7197197197197196,1.7217217217217218,1.7237237237237237,1.7257257257257257,1.7277277277277276,1.7297297297297298,1.7317317317317318,1.7337337337337337,1.7357357357357357,1.7377377377377377,1.7397397397397398,1.7417417417417418,1.7437437437437437,1.7457457457457457,1.7477477477477477,1.7497497497497498,1.7517517517517518,1.7537537537537538,1.7557557557557557,1.7577577577577577,1.7597597597597598,1.7617617617617618,1.7637637637637638,1.7657657657657657,1.7677677677677677,1.7697697697697699,1.7717717717717718,1.7737737737737738,1.7757757757757757,1.7777777777777777,1.7797797797797799,1.7817817817817818,1.7837837837837838,1.7857857857857857,1.7877877877877877,1.7897897897897899,1.7917917917917918,1.7937937937937938,1.7957957957957957,1.7977977977977977,1.7997997997997999,1.8018018018018018,1.8038038038038038,1.8058058058058057,1.8078078078078077,1.8098098098098099,1.8118118118118118,1.8138138138138138,1.8158158158158157,1.8178178178178177,1.8198198198198199,1.8218218218218218,1.8238238238238238,1.8258258258258258,1.8278278278278277,1.82982982982983,1.8318318318318318,1.8338338338338338,1.8358358358358358,1.8378378378378377,1.83983983983984,1.8418418418418419,1.8438438438438438,1.8458458458458458,1.8478478478478477,1.84984984984985,1.8518518518518519,1.8538538538538538,1.8558558558558558,1.8578578578578577,1.85985985985986,1.8618618618618619,1.8638638638638638,1.8658658658658658,1.867867867867868,1.86986986986987,1.8718718718718719,1.8738738738738738,1.8758758758758758,1.877877877877878,1.87987987987988,1.8818818818818819,1.8838838838838838,1.8858858858858858,1.887887887887888,1.88988988988989,1.8918918918918919,1.8938938938938938,1.8958958958958958,1.897897897897898,1.8998998998999,1.901901901901902,1.9039039039039038,1.9059059059059058,1.907907907907908,1.90990990990991,1.911911911911912,1.9139139139139139,1.9159159159159158,1.917917917917918,1.91991991991992,1.921921921921922,1.9239239239239239,1.9259259259259258,1.927927927927928,1.92992992992993,1.931931931931932,1.9339339339339339,1.9359359359359358,1.937937937937938,1.93993993993994,1.941941941941942,1.9439439439439439,1.9459459459459458,1.947947947947948,1.94994994994995,1.951951951951952,1.9539539539539539,1.9559559559559558,1.957957957957958,1.95995995995996,1.961961961961962,1.9639639639639639,1.9659659659659658,1.967967967967968,1.96996996996997,1.971971971971972,1.973973973973974,1.9759759759759759,1.977977977977978,1.97997997997998,1.981981981981982,1.983983983983984,1.985985985985986,1.987987987987988,1.98998998998999,1.991991991991992,1.993993993993994,1.995995995995996,1.997997997997998,2.0],\"y\":[0.0023,0.0023,0.0023,0.0023,0.0023,0.0023,0.0023,0.0023,0.0023,0.0023,0.0023,0.0023,0.0023,0.0023,0.0023,0.0023,0.0023,0.0023,0.0023,0.0023,0.0023,0.0023,0.0023,0.0023,0.0023,0.0023,0.0023,0.0023,0.0023,0.0023,0.0023,0.0023,0.0023,0.0023,0.0023,0.0023,0.0023,0.0023,0.0023,0.0023,0.0023,0.0023,0.0023,0.0023,0.0023,0.0023,0.0023,0.0023,0.0023,0.0023,0.0023,0.0023,0.0023,0.0023,0.0023,0.0023,0.0023,0.0023,0.0023,0.0023,0.0023,0.0023,0.0023,0.0023,0.0023,0.0023,0.0023,0.0023,0.0023,0.0023,0.0023,0.0023,0.0023,0.0023,0.0023,0.0023,0.0023,0.0023,0.0023,0.0023,0.0023,0.0023,0.0023,0.0023,0.0023,0.0023,0.0023,0.0023,0.0023,0.0023,0.0023,0.0023,0.0023,0.0023,0.0023,0.0023,0.0023,0.0023,0.0023,0.0023,0.0023,0.0023,0.0023,0.0023,0.0023,0.0023,0.0023,0.0023,0.0023,0.0023,0.0023,0.0023,0.0023,0.0023,0.0023,0.0023,0.0023,0.0023,0.0023,0.0023,0.0023,0.0023,0.0023,0.0023,0.0023,0.0023,0.0023,0.0023,0.0023,0.0023,0.0023,0.0023,0.0023,0.0023,0.0023,0.0023,0.0023,0.0023,0.0023,0.0023,0.0023,0.0023,0.0023,0.0023,0.0023,0.0023,0.0023,0.0023,0.0023,0.0023,0.0023,0.0023,0.0023,0.0023,0.0023,0.0023,0.0023,0.0023,0.0023,0.0023,0.0023,0.0023,0.0023,0.0023,0.0023,0.0023,0.0023,0.0023,0.0023,0.0023,0.0023,0.0023,0.0023,0.0023,0.0023,0.0023,0.0023,0.0023,0.0023,0.0023,0.0023,0.0023,0.0023,0.0023,0.0023,0.0023,0.0023,0.0023,0.0023,0.0023,0.0023,0.0023,0.0023,0.0023,0.0023,0.0023,0.0023,0.0023,0.0023,0.0023,0.0023,0.0023,0.0023,0.0023,0.0023,0.0023,0.0023,0.0023,0.0023,0.0023,0.0023,0.0023,0.0023,0.0023,0.0023,0.0023,0.0023,0.0023,0.0023,0.0023,0.0023,0.0023,0.0023,0.0023,0.0023,0.0023,0.0023,0.0023,0.0023,0.0023,0.0023,0.0023,0.0023,0.0023,0.0023,0.0023,0.0023,0.0023,0.0023,0.0023,0.0023,0.0023,0.0023,0.0023,0.0023,0.0023,0.0023,0.0023,0.0023,0.0023,0.0023,0.0023,0.0023,0.0023,0.0023,0.0023,0.0023,0.0023,0.0023,0.0023,0.0023,0.0023,0.0023,0.0023,0.0023,0.0023,0.0023,0.0023,0.0023,0.0023,0.0023,0.0023,0.0023,0.0023,0.0023,0.0023,0.0023,0.0023,0.0023,0.0023,0.0023,0.0023,0.0023,0.0023,0.0023,0.0023,0.0023,0.0023,0.0023,0.0023,0.0023,0.0023,0.0023,0.0023,0.0023,0.0023,0.0023,0.0023,0.0023,0.0023,0.0023,0.0023,0.0023,0.0023,0.0023,0.0023,0.0023,0.0023,0.0023,0.0023,0.0023,0.0023,0.0023,0.0023,0.0023,0.0023,0.0023,0.0023,0.0023,0.0023,0.0023,0.0023,0.0023,0.0023,0.0023,0.0023,0.0023,0.0023,0.0023,0.0023,0.0023,0.0023,0.0023,0.0023,0.0023,0.0023,0.0023,0.0023,0.0023,0.0023,0.0023,0.0023,0.0023,0.0023,0.0023,0.0023,0.0023,0.0023,0.0023,0.0023,0.0023,0.0023,0.0023,0.0023,0.0023,0.0023,0.0023,0.0023,0.0023,0.0023,0.0023,0.0023,0.0023,0.0023,0.0023,0.0023,0.0023,0.0023,0.0023,0.0023,0.0023,0.0023,0.0023,0.0023,0.0023,0.0023,0.0023,0.0023,0.0023,0.0023,0.0023,0.0023,0.0023,0.0023,0.0023,0.0023,0.0023,0.0023,0.0023,0.0023,0.0023,0.0023,0.0023,0.0023,0.0023,0.0023,0.0023,0.0023,0.0023,0.0023,0.0023,0.0023,0.0023,0.0023,0.0023,0.0023,0.0023,0.0023,0.0023,0.0023,0.0023,0.0023,0.0023,0.0023,0.0023,0.0023,0.0023,0.0023,0.0023,0.0023,0.0023,0.0023,0.0023,0.0023,0.0023,0.0023,0.0023,0.0023,0.0023,0.0023,0.0023,0.0023,0.0023,0.0023,0.0023,0.0023,0.0023,0.0023,0.0023,0.0023,0.0023,0.0023,0.0023,0.0023,0.0023,0.0023,0.0023,0.0023,0.0023,0.0023,0.0023,0.0023,0.0023,0.0023,0.0023,0.0023,0.0023,0.0023,0.0023,0.0023,0.0023,0.0023,0.0023,0.0023,0.0023,0.0023,0.0023,0.0023,0.0023,0.0023,0.0023,0.0023,0.0023,0.0023,0.0023,0.0023,0.0023,0.0023,0.0023,0.0023,0.0023,0.0023,0.0023,0.0023,0.0023,0.0023,0.0023,0.0023,0.0023,0.0023,0.0023,0.0023,0.0023,0.0023,0.0023,0.0023,0.0023,0.0023,0.0023,0.0023,0.0023,0.0023,0.0023,0.0023,0.0023,0.0023,0.0023,0.0023,0.0023,0.0023,0.0023,0.0023,0.0023,0.0023,0.0023,0.0023,0.0023,0.0023,0.0023,0.0023,0.0023,0.0023,0.0023,0.0023,0.0023,0.0023,0.0023,0.0023,0.0023,0.0023,0.0023,0.0023,0.0023,0.0023,0.0023,0.0023,0.0023,0.0023,0.0023,0.0023,0.0023,0.0023,0.0023,0.0023,0.0023,0.0023,0.0023,0.0023,0.0023,0.0023,0.0023,0.0023,0.0023,0.0023,0.0023,0.0023,0.0023,0.0023,0.0023,0.0023,0.0023,0.0023,0.0023,0.0023,0.0023,0.0023,0.0023,0.0023,0.0023,0.0023,0.0023,0.0023,0.0023,0.0023,0.0023,0.0023,0.0023,0.0023,0.0023,0.0023,0.0023,0.0023,0.0023,0.0023,0.0023,0.0023,0.0023,0.0023,0.0023,0.0023,0.0023,0.0023,0.0023,0.0023,0.0023,0.0023,0.0023,0.0023,0.0023,0.0023,0.0023,0.0023,0.0023,0.0023,0.0023,0.0023,0.0023,0.0023,0.0023,0.0023,0.0023,0.0023,0.0023,0.0023,0.0023,0.0023,0.0023,0.0023,0.0023,0.0023,0.0023,0.0023,0.0023,0.0023,0.0023,0.0023,0.0023,0.0023,0.0023,0.0023,0.0023,0.0023,0.0023,0.0023,0.0023,0.0023,0.0023,0.0023,0.0023,0.0023,0.0023,0.0023,0.0023,0.0023,0.0023,0.0023,0.0023,0.0023,0.0023,0.0023,0.0023,0.0023,0.0023,0.0023,0.0023,0.0023,0.0023,0.0023,0.0023,0.0023,0.0023,0.0023,0.0023,0.0023,0.0023,0.0023,0.0023,0.0023,0.0023,0.0023,0.0023,0.0023,0.0023,0.0023,0.0023,0.0023,0.0023,0.0023,0.0023,0.0023,0.0023,0.0023,0.0023,0.0023,0.0023,0.0023,0.0023,0.0023,0.0023,0.0023,0.0023,0.0023,0.0023,0.0023,0.0023,0.0023,0.0023,0.0023,0.0023,0.0023,0.0023,0.0023,0.0023,0.0023,0.0023,0.0023,0.0023,0.0023,0.0023,0.0023,0.0023,0.0023,0.0023,0.0023,0.0023,0.0023,0.0023,0.0023,0.0023,0.0023,0.0023,0.0023,0.0023,0.0023,0.0023,0.0023,0.0023,0.0023,0.0023,0.0023,0.0023,0.0023,0.0023,0.0023,0.0023,0.0023,0.0023,0.0023,0.0023,0.0023,0.0023,0.0023,0.0023,0.0023,0.0023,0.0023,0.0023,0.0023,0.0023,0.0023,0.0023,0.0023,0.0023,0.0023,0.0023,0.0023,0.0023,0.0023,0.0023,0.0023,0.0023,0.0023,0.0023,0.0023,0.0023,0.0023,0.0023,0.0023,0.0023,0.0023,0.0023,0.0023,0.0023,0.0023,0.0023,0.0023,0.0023,0.0023,0.0023,0.0023,0.0023,0.0023,0.0023,0.0023,0.0023,0.0023,0.0023,0.0023,0.0023,0.0023,0.0023,0.0023,0.0023,0.0023,0.0023,0.0023,0.0023,0.0023,0.0023,0.0023,0.0023,0.0023,0.0023,0.0023,0.0023,0.0023,0.0023,0.0023,0.0023,0.0023,0.0023,0.0023,0.0023,0.0023,0.0023,0.0023,0.0023,0.0023,0.0023,0.0023,0.0023,0.0023,0.0023,0.0023,0.0023,0.0023,0.0023,0.0023,0.0023,0.0023,0.0023,0.0023,0.0023,0.0023,0.0023,0.0023,0.0023,0.0023,0.0023,0.0023,0.0023,0.0023,0.0023,0.0023,0.0023,0.0023,0.0023,0.0023,0.0023,0.0023,0.0023,0.0023,0.0023,0.0023,0.0023,0.0023,0.0023,0.0023,0.0023,0.0023,0.0023,0.0023,0.0023,0.0023,0.0023,0.0023,0.0023,0.0023,0.0023,0.0023,0.0023,0.0023,0.0023,0.0023,0.0023,0.0023,0.0023,0.0023,0.0023,0.0023,0.0023,0.0023,0.0023,0.0023,0.0023,0.0023,0.0023,0.0023,0.0023,0.0023,0.0023,0.0023,0.0023,0.0023,0.0023,0.0023,0.0023,0.0023,0.0023,0.0023,0.0023,0.0023,0.0023,0.0023,0.0023,0.0023,0.0023,0.0023,0.0023,0.0023,0.0023,0.0023,0.0023,0.0023,0.0023,0.0023,0.0023,0.0023,0.0023,0.0023,0.0023,0.0023,0.0023,0.0023,0.0023,0.0023,0.0023,0.0023,0.0023,0.0023,0.0023,0.0023,0.0023,0.0023,0.0023,0.0023,0.0023,0.0023,0.0023,0.0023,0.0023,0.0023,0.0023,0.0023,0.0023,0.0023,0.0023,0.0023,0.0023,0.0023,0.0023,0.0023,0.0023,0.0023,0.0023,0.0023,0.0023,0.0023,0.0023,0.0023,0.0023,0.0023,0.0023,0.0023,0.0023,0.0023,0.0023,0.0023,0.0023,0.0023,0.0023,0.0023,0.0023,0.0023,0.0023,0.0023,0.0023,0.0023,0.0023,0.0023,0.0023,0.0023,0.0023,0.0023,0.0023,0.0023,0.0023,0.0023,0.0023,0.0023,0.0023,0.0023,0.0023,0.0023,0.0023,0.0023,0.0023,0.0023,0.0023,0.0023],\"type\":\"scatter\",\"uid\":\"682f8522-4691-4cf0-9819-a1bb370acd0a\"}],                        {\"template\":{\"data\":{\"barpolar\":[{\"marker\":{\"line\":{\"color\":\"white\",\"width\":0.5},\"pattern\":{\"fillmode\":\"overlay\",\"size\":10,\"solidity\":0.2}},\"type\":\"barpolar\"}],\"bar\":[{\"error_x\":{\"color\":\"#2a3f5f\"},\"error_y\":{\"color\":\"#2a3f5f\"},\"marker\":{\"line\":{\"color\":\"white\",\"width\":0.5},\"pattern\":{\"fillmode\":\"overlay\",\"size\":10,\"solidity\":0.2}},\"type\":\"bar\"}],\"carpet\":[{\"aaxis\":{\"endlinecolor\":\"#2a3f5f\",\"gridcolor\":\"#C8D4E3\",\"linecolor\":\"#C8D4E3\",\"minorgridcolor\":\"#C8D4E3\",\"startlinecolor\":\"#2a3f5f\"},\"baxis\":{\"endlinecolor\":\"#2a3f5f\",\"gridcolor\":\"#C8D4E3\",\"linecolor\":\"#C8D4E3\",\"minorgridcolor\":\"#C8D4E3\",\"startlinecolor\":\"#2a3f5f\"},\"type\":\"carpet\"}],\"choropleth\":[{\"colorbar\":{\"outlinewidth\":0,\"ticks\":\"\"},\"type\":\"choropleth\"}],\"contourcarpet\":[{\"colorbar\":{\"outlinewidth\":0,\"ticks\":\"\"},\"type\":\"contourcarpet\"}],\"contour\":[{\"colorbar\":{\"outlinewidth\":0,\"ticks\":\"\"},\"colorscale\":[[0.0,\"#0d0887\"],[0.1111111111111111,\"#46039f\"],[0.2222222222222222,\"#7201a8\"],[0.3333333333333333,\"#9c179e\"],[0.4444444444444444,\"#bd3786\"],[0.5555555555555556,\"#d8576b\"],[0.6666666666666666,\"#ed7953\"],[0.7777777777777778,\"#fb9f3a\"],[0.8888888888888888,\"#fdca26\"],[1.0,\"#f0f921\"]],\"type\":\"contour\"}],\"heatmapgl\":[{\"colorbar\":{\"outlinewidth\":0,\"ticks\":\"\"},\"colorscale\":[[0.0,\"#0d0887\"],[0.1111111111111111,\"#46039f\"],[0.2222222222222222,\"#7201a8\"],[0.3333333333333333,\"#9c179e\"],[0.4444444444444444,\"#bd3786\"],[0.5555555555555556,\"#d8576b\"],[0.6666666666666666,\"#ed7953\"],[0.7777777777777778,\"#fb9f3a\"],[0.8888888888888888,\"#fdca26\"],[1.0,\"#f0f921\"]],\"type\":\"heatmapgl\"}],\"heatmap\":[{\"colorbar\":{\"outlinewidth\":0,\"ticks\":\"\"},\"colorscale\":[[0.0,\"#0d0887\"],[0.1111111111111111,\"#46039f\"],[0.2222222222222222,\"#7201a8\"],[0.3333333333333333,\"#9c179e\"],[0.4444444444444444,\"#bd3786\"],[0.5555555555555556,\"#d8576b\"],[0.6666666666666666,\"#ed7953\"],[0.7777777777777778,\"#fb9f3a\"],[0.8888888888888888,\"#fdca26\"],[1.0,\"#f0f921\"]],\"type\":\"heatmap\"}],\"histogram2dcontour\":[{\"colorbar\":{\"outlinewidth\":0,\"ticks\":\"\"},\"colorscale\":[[0.0,\"#0d0887\"],[0.1111111111111111,\"#46039f\"],[0.2222222222222222,\"#7201a8\"],[0.3333333333333333,\"#9c179e\"],[0.4444444444444444,\"#bd3786\"],[0.5555555555555556,\"#d8576b\"],[0.6666666666666666,\"#ed7953\"],[0.7777777777777778,\"#fb9f3a\"],[0.8888888888888888,\"#fdca26\"],[1.0,\"#f0f921\"]],\"type\":\"histogram2dcontour\"}],\"histogram2d\":[{\"colorbar\":{\"outlinewidth\":0,\"ticks\":\"\"},\"colorscale\":[[0.0,\"#0d0887\"],[0.1111111111111111,\"#46039f\"],[0.2222222222222222,\"#7201a8\"],[0.3333333333333333,\"#9c179e\"],[0.4444444444444444,\"#bd3786\"],[0.5555555555555556,\"#d8576b\"],[0.6666666666666666,\"#ed7953\"],[0.7777777777777778,\"#fb9f3a\"],[0.8888888888888888,\"#fdca26\"],[1.0,\"#f0f921\"]],\"type\":\"histogram2d\"}],\"histogram\":[{\"marker\":{\"pattern\":{\"fillmode\":\"overlay\",\"size\":10,\"solidity\":0.2}},\"type\":\"histogram\"}],\"mesh3d\":[{\"colorbar\":{\"outlinewidth\":0,\"ticks\":\"\"},\"type\":\"mesh3d\"}],\"parcoords\":[{\"line\":{\"colorbar\":{\"outlinewidth\":0,\"ticks\":\"\"}},\"type\":\"parcoords\"}],\"pie\":[{\"automargin\":true,\"type\":\"pie\"}],\"scatter3d\":[{\"line\":{\"colorbar\":{\"outlinewidth\":0,\"ticks\":\"\"}},\"marker\":{\"colorbar\":{\"outlinewidth\":0,\"ticks\":\"\"}},\"type\":\"scatter3d\"}],\"scattercarpet\":[{\"marker\":{\"colorbar\":{\"outlinewidth\":0,\"ticks\":\"\"}},\"type\":\"scattercarpet\"}],\"scattergeo\":[{\"marker\":{\"colorbar\":{\"outlinewidth\":0,\"ticks\":\"\"}},\"type\":\"scattergeo\"}],\"scattergl\":[{\"marker\":{\"colorbar\":{\"outlinewidth\":0,\"ticks\":\"\"}},\"type\":\"scattergl\"}],\"scattermapbox\":[{\"marker\":{\"colorbar\":{\"outlinewidth\":0,\"ticks\":\"\"}},\"type\":\"scattermapbox\"}],\"scatterpolargl\":[{\"marker\":{\"colorbar\":{\"outlinewidth\":0,\"ticks\":\"\"}},\"type\":\"scatterpolargl\"}],\"scatterpolar\":[{\"marker\":{\"colorbar\":{\"outlinewidth\":0,\"ticks\":\"\"}},\"type\":\"scatterpolar\"}],\"scatter\":[{\"fillpattern\":{\"fillmode\":\"overlay\",\"size\":10,\"solidity\":0.2},\"type\":\"scatter\"}],\"scatterternary\":[{\"marker\":{\"colorbar\":{\"outlinewidth\":0,\"ticks\":\"\"}},\"type\":\"scatterternary\"}],\"surface\":[{\"colorbar\":{\"outlinewidth\":0,\"ticks\":\"\"},\"colorscale\":[[0.0,\"#0d0887\"],[0.1111111111111111,\"#46039f\"],[0.2222222222222222,\"#7201a8\"],[0.3333333333333333,\"#9c179e\"],[0.4444444444444444,\"#bd3786\"],[0.5555555555555556,\"#d8576b\"],[0.6666666666666666,\"#ed7953\"],[0.7777777777777778,\"#fb9f3a\"],[0.8888888888888888,\"#fdca26\"],[1.0,\"#f0f921\"]],\"type\":\"surface\"}],\"table\":[{\"cells\":{\"fill\":{\"color\":\"#EBF0F8\"},\"line\":{\"color\":\"white\"}},\"header\":{\"fill\":{\"color\":\"#C8D4E3\"},\"line\":{\"color\":\"white\"}},\"type\":\"table\"}]},\"layout\":{\"annotationdefaults\":{\"arrowcolor\":\"#2a3f5f\",\"arrowhead\":0,\"arrowwidth\":1},\"autotypenumbers\":\"strict\",\"coloraxis\":{\"colorbar\":{\"outlinewidth\":0,\"ticks\":\"\"}},\"colorscale\":{\"diverging\":[[0,\"#8e0152\"],[0.1,\"#c51b7d\"],[0.2,\"#de77ae\"],[0.3,\"#f1b6da\"],[0.4,\"#fde0ef\"],[0.5,\"#f7f7f7\"],[0.6,\"#e6f5d0\"],[0.7,\"#b8e186\"],[0.8,\"#7fbc41\"],[0.9,\"#4d9221\"],[1,\"#276419\"]],\"sequential\":[[0.0,\"#0d0887\"],[0.1111111111111111,\"#46039f\"],[0.2222222222222222,\"#7201a8\"],[0.3333333333333333,\"#9c179e\"],[0.4444444444444444,\"#bd3786\"],[0.5555555555555556,\"#d8576b\"],[0.6666666666666666,\"#ed7953\"],[0.7777777777777778,\"#fb9f3a\"],[0.8888888888888888,\"#fdca26\"],[1.0,\"#f0f921\"]],\"sequentialminus\":[[0.0,\"#0d0887\"],[0.1111111111111111,\"#46039f\"],[0.2222222222222222,\"#7201a8\"],[0.3333333333333333,\"#9c179e\"],[0.4444444444444444,\"#bd3786\"],[0.5555555555555556,\"#d8576b\"],[0.6666666666666666,\"#ed7953\"],[0.7777777777777778,\"#fb9f3a\"],[0.8888888888888888,\"#fdca26\"],[1.0,\"#f0f921\"]]},\"colorway\":[\"#636efa\",\"#EF553B\",\"#00cc96\",\"#ab63fa\",\"#FFA15A\",\"#19d3f3\",\"#FF6692\",\"#B6E880\",\"#FF97FF\",\"#FECB52\"],\"font\":{\"color\":\"#2a3f5f\"},\"geo\":{\"bgcolor\":\"white\",\"lakecolor\":\"white\",\"landcolor\":\"white\",\"showlakes\":true,\"showland\":true,\"subunitcolor\":\"#C8D4E3\"},\"hoverlabel\":{\"align\":\"left\"},\"hovermode\":\"closest\",\"mapbox\":{\"style\":\"light\"},\"paper_bgcolor\":\"white\",\"plot_bgcolor\":\"white\",\"polar\":{\"angularaxis\":{\"gridcolor\":\"#EBF0F8\",\"linecolor\":\"#EBF0F8\",\"ticks\":\"\"},\"bgcolor\":\"white\",\"radialaxis\":{\"gridcolor\":\"#EBF0F8\",\"linecolor\":\"#EBF0F8\",\"ticks\":\"\"}},\"scene\":{\"xaxis\":{\"backgroundcolor\":\"white\",\"gridcolor\":\"#DFE8F3\",\"gridwidth\":2,\"linecolor\":\"#EBF0F8\",\"showbackground\":true,\"ticks\":\"\",\"zerolinecolor\":\"#EBF0F8\"},\"yaxis\":{\"backgroundcolor\":\"white\",\"gridcolor\":\"#DFE8F3\",\"gridwidth\":2,\"linecolor\":\"#EBF0F8\",\"showbackground\":true,\"ticks\":\"\",\"zerolinecolor\":\"#EBF0F8\"},\"zaxis\":{\"backgroundcolor\":\"white\",\"gridcolor\":\"#DFE8F3\",\"gridwidth\":2,\"linecolor\":\"#EBF0F8\",\"showbackground\":true,\"ticks\":\"\",\"zerolinecolor\":\"#EBF0F8\"}},\"shapedefaults\":{\"line\":{\"color\":\"#2a3f5f\"}},\"ternary\":{\"aaxis\":{\"gridcolor\":\"#DFE8F3\",\"linecolor\":\"#A2B1C6\",\"ticks\":\"\"},\"baxis\":{\"gridcolor\":\"#DFE8F3\",\"linecolor\":\"#A2B1C6\",\"ticks\":\"\"},\"bgcolor\":\"white\",\"caxis\":{\"gridcolor\":\"#DFE8F3\",\"linecolor\":\"#A2B1C6\",\"ticks\":\"\"}},\"title\":{\"x\":0.05},\"xaxis\":{\"automargin\":true,\"gridcolor\":\"#EBF0F8\",\"linecolor\":\"#EBF0F8\",\"ticks\":\"\",\"title\":{\"standoff\":15},\"zerolinecolor\":\"#EBF0F8\",\"zerolinewidth\":2},\"yaxis\":{\"automargin\":true,\"gridcolor\":\"#EBF0F8\",\"linecolor\":\"#EBF0F8\",\"ticks\":\"\",\"title\":{\"standoff\":15},\"zerolinecolor\":\"#EBF0F8\",\"zerolinewidth\":2}}},\"images\":[{\"layer\":\"below\",\"opacity\":1,\"sizex\":2.5,\"sizey\":0.0125,\"sizing\":\"stretch\",\"source\":\"data:image\\u002fpng;base64,iVBORw0KGgoAAAANSUhEUgAAArgAAAHYCAIAAAApvgy\\u002fAABRqklEQVR4nO3dffQtV1ng+V0QQQYl4kqPa1iDijcv997QN1mjs7pHXVYdGnLTAZKb5IbwkjiCNk4iGEXyQhJSVUkQSKAVFi+6pJ3VmB55CZD4EhNQT5Xt0Paasae5Td6a0C5NL10qdgg0YxoHz\\u002fzx3N\\u002fD\\u002fu1du06dc6pOvZzvZ2Vl1e\\u002fcqjr71HmpvZ\\u002f97L2jxWJhAAAAqjyt7wIAAIDhoqIAAACCqCgAAIAgKgoAACCIigIAAAiiogAAAIKoKAAAgCAqCgAAIOiUvguAHrzuda\\u002f71V\\u002f91Q1P8nM\\u002f93P+g+9+97s3PO3a3v3ud1cWaWh+6qd+6v3vf7\\u002f\\u002foDHGf3ynpGnqPJLneS8lGYvbbrtNNt761rd29yz6pR7F9wudWKAnp5122mmnnbbGgd\\u002f7vd+bJMkaB1577bWyYYx57Wtfu8YZbJUfpze96U0bnnaT8lx55ZV9PXtDBw4cMMZcffXVzuO9fBlvueWWdk944403GmMOHjy4XmH8j9Phw4cXi8XBgwfXuzjvec971jhqVS960Yte8IIXNN\\u002f\\u002frW99q2ycffbZl19++XpPeuutt4Z+yW+88cYbb7xxpbPdeeedlY+\\u002f613vcp7lXe9613oFDtnOe4QNUVHozdoVhR\\u002f7sR9b46gLL7xQf002ryUsFgtjzMte9rLNz9OWEVUUDhw4YD949OjRXioKxph26woHDx5cr5aw2KsohE673sXZ2iX98R\\u002f\\u002f8YZ7StNftjepKBhj7GPPPvvss88+W7YPHjx48cUXNz\\u002fVnXfeWXmhpJZgf6eOHDnS+iWlsToK5CgMRZqml1122WWXXWY\\u002feN111xljLrrooosuuki2xWtf+1pjzFs9usM\\u002f3aOPPProo3pCx\\u002fHjx48fP2436X7yJ39S\\u002fv+Sl7zkJS95yaqvpebwm2666ZJLLrnkkkvsB3\\u002f+53\\u002feGPPqV79aH9FLIeHoO++8U37OlPNnvcpre\\u002f311x87duzYsWPXX399\\u002fYOhJ9U\\u002fr7766qNHjx49evTqq69eWpgDBw588YtftB954IEHpAKhsix7xSte8YpXvMJ+0P4wyCP+B8MYc\\u002fHFF1988cVvectb9JHKt0Mu7EMPPSQbN998s+5\\u002f8803658Nn9QYc9NNNzkbeZ77r+Id73iHMeY1r3lN4PIs95a3vEVeo\\u002fP4lVdeeeWVV+qb8rrXvc4Y8973vtcYc+2118r\\u002fpbospGx274ZERG688cZLLrlEtpV8Km644Yb6sskTXXjhhRdeeKFsO+6++25jjP1du\\u002f3221\\u002f5yle+8pWvrHyN9vuopMfhIx\\u002f5iD5y+eWXy8ZNN930yCOPPPzww\\u002fouXHfddfbbJ+RNl2\\u002fEiRMnjDF+8ODDH\\u002f7wkSNHPvzhD+sjn\\u002fvc58z+7kW5hlmW6SM\\u002f8zM\\u002fY59E\\u002f7TfAr0y9nuk+7\\u002f0pS+1TyKftOuuu67ytwtb0ndNZXfZEYXjx48bYw4fPnz48GGz186Tr9NZZ5114YUXnnXWWcYY6TvQrodLL7300B59N9\\u002fwhjcYY04\\u002f\\u002ffTTTz9dH9Rv5llnnbWwuh6kbqFnOHTokJTHGPN9e2TbL78JRxRCh8uPu7Q7jTESIH3Vq171whe+0Bjzwhe+cLHXstRLIVfjjjvusD+rR44cueKKK\\u002fwnrYwoyHn0hPKg\\u002fOicddZZcmEvuuii0IPOU9xxxx2yrUU677zzjDEHDhyQm\\u002f1VV11VeU3EgQMHJH5g9z7In1o2+fnWAqdputj\\u002fYdAvrxbVPpVeXm3cV74d+pG75ZZb5KaiJ7nkkkvkkyDP5TypbjsvTe+s0px1XkWWZYvF4u1vf3vol6dhROHYsWP2a7Rf+JEjR6TJK5+Nc8891xhz7rnnLhaLM88888wzzzTGnHnmmYvFQm5sWrbLLrvMuXpycnkhUmWs+VRo18Ob3\\u002fxmeQp9uje\\u002f+c32nm9961vtL9rZe\\u002fQ2L7tJdUSLccMNN\\u002fjXxBijIQSb1p+k8FJmLbz8gBw\\u002ffly\\u002fXHfeeadctCNHjvhPUdPRIFWNymt4zTXXyPY111wjLyp0Zez3aLHXAXfGGWfI\\u002f\\u002fVBKfyFF14YKgy6RkWhN1pRkJ9IDQLLd2+xd2+wEwvkq+LnKEj77+abb14sFueff\\u002f7pp58uj0ulQbbtrgezV1GQKoI8KJUG6UC17+4vfvGLK3\\u002fBTRX9p8rDzV7lYLFYXHzxxXIne9WrXmWMedvb3qb7HD9+XLblZiZXxlg3aXvbLo9fUXBuP3pt5adTHpT2VuhBm9yKnO0DBw6cd9558uB5552n25WkonD06FHtfZBtu6Jg9ioHi71azmL\\u002fh0Gbrbq\\u002fPO5E\\u002fvUeU\\u002fN2yLWtryjIg\\u002f6nUbeVHfTWysFir9Kw2KsovP3tb\\u002fevTGWOgnwStE4gd1D76eT12u+LXafUDbk52VdGb2xSadDHtfx6cmmLy4PXX3+9fkKUU1HQyoEx5uUvf7mzs9P1oNsSJNADtXIgFSP\\u002fcmndwhhz+eWX33rrrfZlsd8F+1XLZ8b+Wi3CXQ\\u002f1FQWzl0Gy2Ks06OOhioJeDakuOCW84IILnNLKecxe8wY9YtRD\\u002fx566CFjJXgfP37czlSSHz6zV62udPvtt998883yW\\u002fM7v\\u002fM78uAb3\\u002fjG+++\\u002fv\\u002f6pH374Ye2wuPXWW2+77TYpjDFG7ijGGGmGVjrzzDNf9rKXVf6Tf7h2N8ht6dChQ5\\u002f61Kd0fzvS+\\u002fGPf1w3oiiS7SNHjtx1113XXnvtlVdeafYimUs99NBD2ngy1rU9ePDgvffee+zYsXvuueeee+6Rf6180HbFFVdo\\u002fPPEiRP61nz6058+evToAw888MADDzQp1f3336+v64EHHrA7LCRQr7Hcyy67zI6NyzPecccdd95557333quPS7\\u002fSI488cuzYMTtY\\u002fcgjj8hGk3eznjypvuR6UmYdxfCxj31MX68xpiaAX1ldUPJy9AUePHhQ3ib7vbj22msrPxtSV1Af+9jHZCNN0yzL8jyX0n7yk5+Uxw8dOvTwww\\u002fr\\u002fseOHTt48OA73vEO6TqpoX0fzjNW0vv9zTffLN9EfXWyIZUk30c+8pGPfOQjt91224MPPvjRj37UGPPRj37085\\u002f\\u002fvLPbYrEwxlx33XXyCbFtPqJE+\\u002fLkAr7iFa\\u002fQq1rpN37jN2TjrLPO8stz3333XXDBBdrpcMYZZ9x3332\\u002f+Iu\\u002faGp\\u002f+rAdVBQGwb6Z5XnupzTXiKLo0ksv1YFSb3zjG9\\u002f3vveZvd6Hxx57rPmptAujoTPPPHPV8ZD6Q2ysH0HpeqinN+m77rrriiuuaPh0Wu9x3HPPPceOHbv33nvlBnbddde9853vrHzQPuraa6+97rrr9E4gN6THHnvs6NGjn\\u002f70p+Woq6666gMf+ECTsp1\\u002f\\u002fvlSk3v\\u002f+98vwyOF\\u002fWGQn+CGL1Zel17V0D2mL3meP\\u002fOZz1y6T82\\u002fSkXBrsM1f416s1n1BimfikceeeTee+995zvfedFFF1VWItvV8DVK3UJqDLfccsttt93mjJM8ePDgo48+ql0PmzvnnHPOOeccSVywUxPsD+3a7rvvPul3ELpNRaF3JDMOgn0\\u002f80eT1zh8+PChQ4ckQ0q8733vk66HL3zhCxpdaMhuQrVOaiEPW5yURlV5BeSuLOGEX\\u002fu1X2v4pIcPH66pK0hU7aKLLtL2aOWDNgls2JWVq6+++oEHHpCjDhw48MEPfrBJwY4ePfrYY4+df\\u002f75ThqjU2D7t7iJG264QS\\u002fvsWPH7JhNcx19DFb6YFeS7gD7IySReYd8SFosxj333PPII4\\u002fIp8IO5HSn\\u002fjW+8pWvdOrWlfMoXHTRRY8++uhisZBazqq3WyeTUZw4ceKcc86RbfvD6YTuxBe+8IXmT3fGGWdccMEF\\u002f9Hy27\\u002f92ysVGN2hotA\\u002fibTr79fdd9\\u002fdsHp+\\u002fPjxhx9+2L8RahqjPeqh0qFDhzQUIVFfu87Rrre97W3GSok\\u002fdOiQHV1Qhw8f1jI44xTkJi25Vw051\\u002fbWW2+Va6uZYrbKBx1XXHHFiRMnTpw4oZWVD37wgzq+0b7rO4V33H\\u002f\\u002f\\u002fV\\u002f84hcfeOABPVbIj6+OFPj4xz\\u002fevK2moXhjzFve8palQXJ1++23G2vgw+YVBbng+iqkM775gSGf+tSnHnnkEQ3OR1Ekr\\u002ffIkSPaJXTllVfeddddS59IiySFrHle+1OxhSCNpHFoTuKhQ4f89\\u002fHss89+8MEH7YESsl0\\u002f7ZIf7a\\u002f3oz\\u002f6o3a1wBgj2zLt0uHDh7WL0Okv0\\u002frBfffd1\\u002fzppK9B\\u002f4yiyBlAgT5tPy0Cwh\\u002f14Lwp0obW\\u002fSX5fGElM1a+m+eff77+KdsSYNC0+cX+CZfswy+99FJ98PWvf71sv\\u002f71r6\\u002f8nFR+nGQcROhwZ8iZPCijHirPbI8BWezlqflpjKHySG6jfW01\\u002fcoZamWPenAerHwiO0X8qquuso+SUQ9OgqqSZEbd1otgJzM6Ny150PkwmKoktcVe3p84duyY7lD5dsjllYRBu9dJU1ztZEb\\u002fSeuTGZ1YiD3qofKqhrITFlWjHpyLs9gb4i\\u002fspFdjzHve854zzzzTziusLJvzAjXZ1hkou3TUgz7uPKnQcUYLbx4FPdbJ4agc9eD3Tmo+o1Qy5I2wd9CBD\\u002fKN0FNJV5o\\u002f6mGxbMIl+3FNv5WcRKH5ic6VefnLX24nM8p7tFgsnH4H3cH\\u002fpGHLqCgMyC233NLWBDhveMMb\\u002fG3J8\\u002fJ3ljkYWnneJprMHKfXwf59cQZJrqTy2srg7CYPLnXVVVfVD4xcVZqm+uO7khtuuKHy1lLJviY33XTTTTfdtMYz1siyTG\\u002fDLap8jXfccYdfiayZ+G+lsl1\\u002f\\u002ffXXX3\\u002f9SoUMafh1a\\u002fI+3nrrrfZ4B2V\\u002fxexvfeiOK\\u002fOUhJ7lXXv8f6r8lF5zzTU68KEJ5z1a6VhsR7QINA2BXkhM+MEHHzTGXHbZZXfffbd+RCXyKbO+AAC2g1EPGJYHH3zw7LPPlhEE0lMgj8sj1GsBYMuIKAAAgCBGPQAAgCAqCgAAIIiKAgAACKKiAAAAgqgoAACAICoKAAAgiIoCAAAIoqIAAACCqCgAAIAgKgoAACCIigIAAAiiogAAAIKoKAAAgCAqCgAAIIiKAgAACKKiAAAAgqgoAACAICoKAAAgqOeKQpZlWZYVRVG\\u002fT5IkWZZV\\u002fmuSJB2UCwAAGNNjRaEoiiiKiqIoimI2m9XUA\\u002fI8N8bkeR5FkX+Ssiy7LioAADurt4rCbDaL41gqCmmaSm3AIfWA+XxeFMVisTDGaH2iKIokSWaz2TbLDADArumz60Hv+rLhd0DI49q54NQnkiSJ47jjMgIAsNP6qShIncBJL\\u002fArCmVZ2lUBe3\\u002fJWgh1WAAAgFac0ncBvqkypXHVXEU\\u002fjwEAgG2SvvKvf\\u002f3UTp\\u002flmc\\u002f8ijxR19yKgrTUkyRJkkTyBNM03U7Dva3xC9u5cAAA+KbXXt3X9RBFUVmWSZJoFmEozXA7JNuxr2cHAABujsJ8PjdWDkEozXBDEjxwTutHFDSqIchIAABgy6qTGWXIYqdPHMexDm50RjfoFExONaUsy65LBQAAbG6Owmw2S9O0LEu5STu38BbJhEvalyORDHk8z3N7SKTWJ+I4JqgAAMA2RU7qn9y5JYFR5kzsNJmxcpxk5W4NKytR5L4iAAC2Rm9Dkxn1MLXbak266cReKQBggKZXUXBzFDQhQBrxY1xyaRHQd7kAABiffRGFLMvyPJ\\u002fP50mS2E3zEd1l6XoAAPRo4hGFPM\\u002fTNJV5FMxe09x0MDwSAACMwr72t9aD7HkOoiiSGEMv5VsVEQUAQI8mHlEwe+MhZX7GLTw9AAAYsoocBdleLBYyPNKQowAAQDMTjyhkWSbrO+hz29sAAGDXTK39zTwKAIAeTTyiYIzJsiyyjDFTgXkUAABoy761HiRHQUZIGmvZBYZHAgCwm9zhkf5ISIZHAgDQ0PS6HtzVI8dSIQAAYMiiv3lOx8\\u002fwlY7Pf1L1PAqq4eqOAACgdzWrPcui0Gucc19EYT6fz2YzXdO5KIqyLOM4XuO8AABgmzSz0G\\u002feyz+ZtVr++yIKSZLM53NjTJ7neZ6XZZmm6egyGaOAvssFAEAnpIUvcyRWqvmnpSpyFEZXM3CQzAgA2DUSSNDplZ1\\u002f2qRzwM1RcBRFQVscAIAhS5Iky7LKBIUsy8qy3CQE4EYUAADAlj3jef+5ozPneS5JBWujogAAQM++\\u002fuf\\u002f46qHNKlbRFGkkyiujYoCAAATJN0NOpKxLEvpg1i1G4KKAgAAE5QkSZqm+qfMd7BGdOEUw3xKAABMkZ3eKKGFmhmZQpZHFEY34VJomAbDJgEAWNXUllBiUSgAQI\\u002f0NvR3f\\u002fH8Tp\\u002foGc\\u002f7z9u53y2ZR2FzMrKzPnUiy7LKeEhRFKHD5ZCxzw0FAMDAdVhRkMmaJMFyNpuF+kV0Jqk8z+1egyzLZOEJOVzrBHpaY8xsNiPBAgCA7nQYqI+iKI5juaNnWZbnuf9cUgmYz+dyv5cRn1KlsLftw+3H5U893ND1AADo1fS6HrqtKDi3cPtPkSRJWZZaBq0QSAXCLpse7pxHF7rU3agoAAD6Mr2Kwr6uhzVGTYTIndupFvgpBc4y1ro\\u002fyQcAAAzBvuGR0v0vEzK0WGmwz+8\\u002f2DzJQKeX0vTGoijKsnR2W2MVK4IQAIB2Pe2vT+34GbpaHsKxL6JQFIUsHSF5ha0PK2gl8XA+n5dlGUVRFEWz2cyf5mGxus1LBQDAJLmjHqRysFgspMYwm82iKOoiuiA029EvRujBJEmkePP5XO7xo5sSCgCAsageHimDEjWqrwGG5ud1cgztB51H7L4Dp0ZiD4nUw6XfIUkSXeWCEZIAAHTE7XrIskxC+nmep2mqwXkJ+K906jiOZ7OZbEsNQO\\u002fommQgj2uFoCxLWcFC6wS6v4YNZECEfdruAh4AAOy4fcmMcgO2ZylQSZKsGuGX1EhNLZS+DHk8z3OtNKRpqjf+OI71qReLhX24ZhKETgsAAFrX+awDleMkK3er3Cd0eOhx5lHAlp2WPyQbTz\\u002fxt8aYv\\u002fzE9\\u002fdaHAA909vQN068sNMnOuWcB3uYcKlmluWx5AFQUcCWUVEAYJt4RcFJLXT48yoOUM0kClQgAABdm15FYV8yoyQi2BMMpGkqj9iZBAPHZAkAALRlX0ShcjkGrRyNIqo\\u002fikICAKZq4hGFEGc+AwAAsCP2VRRk5gO7NqCTIToTIQAAgF3gLgqVJImTi6CrPzBjAQAAu+YU52+ZvNnsVRo0hEDHPwAAO2hfRcFOZqSXAQAAuMmME0hXjAL6LhcAAOOzL6Iwn88lQcEJJ4wrukAvCQAAbXHnUajcaUS3XuZRAAD0aHrzKOyLKHCLBQCgFU\\u002f911P7LkI73FEPxkpTGFePAwAAaJ2bzBhF0Ww2k2mXsiyLomgC6Y0AAGA97qJQxhhZAsoYk2WZzNXYS8kAAEDv9nU9lGXpTL9YFIUEFUbUDTGBlEwAk3Ra\\u002fpBsPP3E38rGX37i+\\u002fsrDtBIRY7C2FEhAACgLfsqCnEcZ1lmJyWwFhQAtOVL6eG+iwCszJ11wI\\u002fb66TOo8A8CgCAHult6Guf\\u002faFOn+jbfuizPcyjYIxZLBYSRZC8BNkGAAC7aWrtbyIKAIAeTT+iUNnLwFQKAADsJneZaWNMHMcjSkoAAADdcSMK40pdrMQ8CgCAlThTXDC\\u002fha1R18O4UCEAAKAt+yoKaZomSdJuRoLOxFBTBZHJG\\u002fxBFkVRSGH8w0OHAACwqslMcZFlmX9b3PCO6S4KVZZlFEXJfusU1pr+uSiK2WwWKl+SJHmeG2PyPLd7DbIsk7Wp5HCtvshpKw8BAGBnFUWR57nT2nfumGvEAtyuB1kOqhWz2SyOYylTlmV5nvt1haIoZIEJqY5EUaS1oTzP0zSVbak0SJ+CLFWlL9U+BACAHSQLPpdl6Tyuaz3qn3ozba7DWQeiKLJTI50\\u002fRZIkZVlqGaQ+sVgsJIpgl00Pj6JIKxDyuPMnOQoAgL70Mo+C9tTnee7cee1bpN5kV3qip5m9NALlxCXW63rQ3IKaMxtjyrKM49h\\u002frprYSJqmEpzQNS0JJwAAdpnkH\\u002fh3Q51tWayXg3iKMSbPc81FcJry0jWwxnkrVRaxeUVEczGkG0Y6Xfy+kjWyFghCYKSe+xOP2X8+8aHT+yoJAMfffP07mu\\u002f8PbP7OivISRLCn8\\u002fnqx641WWmWxl7qS9VBmjMZjMn45K7PgBgXP50fsGqhzSvW0iPg1l3qqStVhR8dlqiTYdCOA8aY+zkxyRJ\\u002fKWxgd1BCAFAPWld25kKq3KHR7ZFOzL8B51H7K6NULZEZcZD5RkAAICQoRBOpsKquqooGGPiOJ7NZrKt0y7pnzps0lgVAqn16J52oqad86iPS7JCi0M6AQCYjDzPJXJvW\\u002fUkJ7senLa78+d6ZGYkTS3UBAq5u2ulIU1TrU9IP4JsLxYL+3DNPJjP57PZTB+3DwEAALayLPUmK9aZR2HpMIFN0gNreg2c3WpWuPb\\u002fKfQ48ygAAHqkt6E\\u002fK17a6RN9z+y+7dzvpnZbpaIAAOjR9CoKPY966ALLTAMA0JYJVhSoEAAA0JYORz0AAICxo6IAAACCqCgAAICgihwFf+6EVtZoAAAAo7OvoqDrRjhIDwQAYDft63qQuR4Xnr4Kt54ooO9yAQAwPm7XwwSWYRxdzQYAgMFykxknUFEAAABt2RdRkPWW0jR1shdJZgQAYDftWxlhApMfs9YDAKBHehv63Gde3ekTnXver\\u002few1gO3WAAAYKuecKkoCpIVAACAO+ohSZKyLPXPOI6pMQAAsLP2RRSklpCmqUyfMJ\\u002fPy7Ic3QwEzKMAAEBb9kUUyrKcz+c6xiFJksViEUVRURQjGvhApgUAAG1xcxRGVCEAAABdcysKWZbZf0qCArUHAAB2U8WES3mep2lqjCmKQlIWeiobAADo2b6KQpIk8\\u002flc15CM49hOWQAAALumYngk4yEBAIA4xRiTZVmSJEmSOAkKKvT4ME1gImoAAAbiFGNlLEpSgr\\u002fTuCoKVAgAAGjLNysKhjWmAYzNqb\\u002fwOdl48mfP6bckwFTty1GoXHpRuiTWTmmUaIR0bdTsI3M6+YMzNdphTwPln4EqDgAAXThZUai5DVd2RjRRFMVsNovj2BgjQy4ruzBk3ug4jvM8z\\u002fNcayoy+EIPD42\\u002fWLt4ACaAQALQNXfUgy9N0\\u002fXCCVJLkLa+3PX9ioJkRWglIIqiLMtkN7tukWXZbDaTOoQTPIiiaD6fr1E8AACw1L6+hnbHRsotXCsZzp\\u002f6jGVZOlGExWIh0Qi7bKHDzf6qQ2XvCQAA26G3oc995tWdPtG55\\u002f36du53+6ZwrqwlSALBquetnPvZP490Ouifun+TZ5RoBNkJAAB0p2LCJeeRsizbmpyx8qbe\\u002fOTOIpZZllVOL73GitIEITAu33XpH8vGN448yxjzpfRwr8UBUOHPnvZtfRehHfsiCtIRYKwMQVnroa2KQouzQUs4oTI7crG6tkoFAMDE7IsoaF6hDomUXIHuJlzSbEdHkiSy3oTzoG5nWWb3WQA75S8\\u002f8f19FwHArnCXmZabsWY1+tmCDVUe6EcUNIYhKhe5NlUZD6FwAgAAaJFbUdD5kfwG\\u002fariOJ7NZs5p9U8dNmmsCoGuai17alXAiR9UZkoCAIDW7et6SNNU6gdyh9aswPVuyUVRRFGkJ9HZDoqiyPNcz5mmqdYn4jjWysFisbAPtzMJiCUAALAd7qwD9gJROtnRJm33hq1\\u002fZ0TDqocr5lEAAPRIb0O\\u002f+Xuv7\\u002fSJLnzxr2znfje12yoVBQBAj6ZXUdiXoxBFkd92X2Nagn5FAX2XCwCAblV2zeswxvXO6SYzlmU59nsqkyUAAHaQpAD6KyJJ9uFsNlsvkcCtKMzn8ziOoyhiamQAAEZB8vx0ZICSAIOsoLRYLNZb98CtKMjzyUgEBhcAADAKSZL4yxrkeW5PLmAPLWyueplp6c+YzWbEFQAAGDiZUtkYUz+p8XqTJFVXFOR08\\u002fncj2OgFc\\u002f9icdk44kPnd5vSQAAvbvwxb\\u002fSdxGC9lUUnIy\\u002fJEmkY2OrJQIAYMf8xu\\u002f+s1UP2VrdIhhRUKObKTk0amNQAx\\u002fWDiTo+sIsCwQA2IKnGWv6hGnMQMDwSAAAjLdEc1EUayy8fIqxmtrcTYePQAIAoKEsy2Rcgky4VJalrrvU3PKuBwAAMEYyZlLHJaRpukY6wb6VEWQhqLIsnZ1GFGlgrYexIwkDwKjpbej98zd1+kRveNEvNL\\u002ffhVZebGJfREEqHf6MDQAAYLw2GZfgdj3M5\\u002fPRDXPAqJ2WPyQbX0oPGwIJADAw7hTO1BIAAIDaF1GQNIexz7A0inkUoCSQsMtIywAwZPsqCjJ2wr\\u002fRjusWO67SAgAwZPsqCrqqBICtIZAAYMj2VRRYVxoAANjcZEYZaikzN08gXwEAAGxiX0WhKAqdSkFmU5jNZoQZAADYWe6ES2ma2jUDqTpQVwAAYDe5XQ9OnUByG8fVATGNNTABABiCihyFPorRJpaZBgCgLfsqCrLGVJZlUl0oikIa4oyZBABgN1UMj8zzPM9zeSSO4w1jDHLO+hkapGqSJInT8VEUhTy7f3joEAAA0KLgosybLEmpZ5jNZnEcG2PKsnTSJFWSJGVZxnEsy1trebIsy\\u002fNcD7dXq5I4h3+IYZlp1NIFqJ5+4m9lg8mOALRrmMtMb8LNUVCbdzdILUGiAmmaapTCJpNGz+fzoijkBWtlIs\\u002fzNE31cBm3qTssFgv\\u002fEAAA0K5osVgsHRGwXp0liiInDOCvYS3hBCeKIJWA2WzmhArk8CiKQsEJQ0QBANCr6UUUTjHGyNxK7dLcAudB5xHpdNA\\u002fkySRwEN9YoRMGSn7EE4AAKA7p5gt3msrb\\u002f\\u002fN+zi0niHdEJKjIBEIe7c1pkwgCAEAaNefLE7tuwjtCOYodKGtYZZxHNs5Cs5pQ\\u002fMo1GilVAAATM9WKwq+0PDLyiqFPmiHQNI0lbEPAACgdV1VFCrnfvZv\\u002f5LMqH\\u002f68yjYG3q4fdoJTCUJAMBgdRhRiOPYGdNohwTsVES92ct0C7qn1huyLNOcR3ukpYyu7CIZEwBG6rT8IflP\\u002fvyuS\\u002f9Y\\u002fuu3VBivbgcT2nmFOjZShj7qnzIkUvZxeiLsw+1y2nEI\\u002fxByDgAAfdHb0Jt\\u002fv2L2oBa9+59k27nfdX5brRwnWblb5T41h1ceQkUBANCj6VUUTlm+y2YajnQI7VZzeOifQsMjqUAAADoy4c6dzisK20eFAACAtkywogAAwJbpCnOrz\\u002fk3dD3PowAAAIaMigIAAAiiogAAAILIUQCALdFJkJ5+4m9lQzu2gcEiogAAAIImGFFgHoVR07HItLQwPV9KD\\u002fddBGBlE6woUCEAAKAtE6woYNRqAgnP\\u002fYnHZOOJD52+reKMTM3ccGtHaIjxADuOHAUAABBERAH9WKOdSiBhqS4a\\u002fQQS0C8NJT7jiSdlYyyfyT\\u002f5xnP7LkI7iCgAADB6RVFkWZYkiay63CIiCujHWNoE20Q2AHzanla7Flob+Ov158boRZZleZ7HcWyMmc1mcRy3WF2IJjZGIDQ20jAaAgDQvSg6eWO99DPv7fSJPnneNXpfi6IoTdMsy4wxRVHMZrP5fJ4kSStPNMGIAhUCAMCu0WpBW\\u002fUDNcGKAqbKCfERnwcAEcexRBGMMRJXaLG6QEUBAICeffK8azY5vCiKKIpms5n8KTWGtlBRQM+aZ\\u002fCNffpbchUBhFzy6feseohdt4iiSBMYsyxrN0eB4ZEAAIyY1A90mIOmNLZ1fiIK6NnuNK9355UC6Fe7wyOJKAAAMGLSxSCBBGNMURRlWeqfm5tgRIFlpgEAO2U+n89mszzP5c80TRn1UIcKAQBgpyRJslgspLuBeRQAAECF1qsIovOKgs78UPMCsiwriiJJEqdPpSgKrR\\u002fZhzunkmUw2iowAABQHSYzyvwPcrOfzWahxIokSaRbJc9zO71ARoLq4ZrAKWka3RUbQL3vuvSPv+vSPz4tf0j+67s4ALrVYUTBXsBKFrby6wpy19d5IaIoyrJMdsvzXJe4kEqDJB84A0YBAEB3Olw9Mooie2Yo50+RJElZlloGqU9IRobWDJzD5QyhioIu24WhkXkJmUtgJTqZo+DqTY+\\u002fSHHDd3ntA9G1XlaP7FRXXQ+VuZf+3b0sS1k\\u002fW+j+9QGDsiyjPYQWAADozlZHPVTe1JvnIUrCoyQo6BpZ\\u002fozWoXkUahCE2JDT8DU0blrS42Wkwboda69gMvalT3bBF77xnX0XoR1brSi0MjbBvqnrWAm7CsJdv3XP\\u002fYnHZOMZTzwpG6F7Rs29ZJu3GbnJcYfbBPchAKLnKZxD81FXVilCDzIIAgCAjnQVUdCUw5r5D4w1NlL48yjYqYuynSSJXbcoisLOckAXnvjQ6fU7DK3JTmsYANrSYUQhjuPZbCbbOu2S\\u002fqnDJo2Vu1CWZZqmxlviIssyrQ2UZWnnPNp\\u002fAgCAdnWYoyATLmlqoaQfyuN5nuvdPU1TrU\\u002fEcayVg8ViYR+umQey9IU+rnMtAACA1nU+60DDNSqcToqlh4ceZx4FAECP9DZ05P67On2i\\u002f\\u002fBPr9zO\\u002fW5qt9WasZETe6UYOx1LopbmggAYvulVFCa4eiQVAgAA2jLBigIwCsQPAIxCz\\u002fMoAACAISOiAAwFWQsABoiIAgAACCKiAAwF8YPdoeuofePIs2SD6UQxWEQUAABA0AQjCqGpFEYxbFLbGbp6gvRb09YEpmRoy6OsilXId8oEJ1ya2CsCAIzI9CZcousBAAAETbDrAQB8p\\u002f7C52TjyZ89p9+SYMikt\\u002fcZTzwpf27SpfLlp76jlSL1jogCAAAIIqIAYCcQSEATZI77iCgAAICgCUYURj08EgCAQZlgRYEKAQAAbaHrAQAABFFRAAAAQRPsegAA9Is5nqeEiAIAAAgiooAKzkpU\\u002flJVSv6JtgI2Qetzelg1e0qIKAAAgKCprbUYmkTBMGwSq2BdAADr0dUjv\\u002fue3+r0iR6\\u002f+OXbua9NsOuBCgEAAG3pvKKQZZkxJkmSJElq9imKIkkS2VkVRVEURc3hWZbVnxm7QFMovnHkWbKxef8ogYQacsG\\u002f\\u002ftxT5U\\u002fmxgcGInQz3VCHXQ9FUcxmsziOjTFlWaZpWln0JEnKsozjuCxLY8UDsizL81wPn8\\u002fnToVAdnBOqzEfANhNdJy1aI1M2766HqTnXW6mcRxLM7sVHSYzSi1BogJpmuZ57u9TFIVUAoqikBesd32pBOjhs9nMObbyhAAA7JokSeI4XiwWRVHM5\\u002fOyLFusKHTY\\u002fo6iyA4DOH8KCSc4UQR5qbPZzKkrOWeTygcRhW2SYZPGmGc88aRsSOW6ZvzkZMhrbLF3A8Ak9RJRqLzDtqWriILmFvgP2iRCon\\u002fq\\u002fvVVoSzL4jhutw8GAIAx0htutqfd82911EPl7b95DUhyNIqikKhDaLeaEZIhBCEaCqWtaSBB+\\u002fO0wT2ZYMPYy4\\u002fJCwX8akzm6zlMX37q1OY7f\\u002fVVP7Lh00VRpFl99XfJVW21otBKVGQ2m83n85oduOsDAMbl23\\u002f9D1Y9xKlb2B3xURS1GFroeR6FUGZmkiR+rqIO+bBffJ7nOooSvfN77mmpANuxxjhVvp5TYt8Z2x310FVFQYIH0lngPOjsZlcI\\u002fHkU9DyVh0uKA\\u002fMoAAB2ln\\u002fDdfL\\u002fNtThGAF7RIMOZ5B\\u002fsidKsnM1ZSyDVBeku8WuIvj1I3t\\u002ffYSuhy3Q3lAm2wGwm\\u002fRnUOiPod6GnvORf91pAb76qh\\u002fR+519l5Rhgy0Oguiw66EoiiiKNLVQEwskG1FfgD1Hgj2WYbFY2Idz+wcAoJJzw03TtMVYe+ft71Cvgb9b5T4ND1dEFLASmcNuFyawk\\u002fz2p374ZNvgaQ8+Wzb8mFConQSgiV4iCmLVO2ZDnSczNixxaDfyDwAAaKKjO+bU2t8sMz00zswKjNs2vYYxuP476Mj9d8nGX\\u002f7KoZMbvPtd6jGi0BGWmQYAAEETjChM7BUNAc1QxaVADSe9w5DhsZOmF1HocPVIAAAwdlNrfxNRgG+NFeXHEjnYnVEbGKk1vn1b0OlMMNOLKEzttkpFAZvo4udjmD+UmAypLJqO64vyMeYz3MT0Kgp0PQAAgKCptb8ZHtmFmuVrJUTfS\\u002fPCL5XqojzaGeE8xVg6KYCx6G5M9XbCe9OLKDA8EgAABE0wojCxV9QjvyLvtKqNMd848ixjVc\\u002fVVJvXuxA\\u002fYApnbK6Ltvsm59xmjsX0IgrkKAAAgKCptb+JKGAsNDghURmz1yMLjNqgxkdsZ0iIQ29Dz\\u002fpVNwTbrqd+\\u002fAeIKAAAgJ5Nrf1NRAEA2uKkBUw4NadFRBQAAMAOmeDwyNBUCkQaVI+TH2ANvfSzolNjma9T82akwLsw6ge+CVYUqBAAANCWqfXok6PgCzUCaBxMD++pYaGsXZoJY5gpFOQoAACAHTK19jcRhYFwZms3JEYAa+k0SrRqizz0ve6oeCNFRAEAAOyQqbW\\u002fiSigibGPI3BmdRzIlI5jv6rDVLN2K4ZpehGFqd1WWWZ6DaFfoqEFFVtMXNqdbK9eOIuHff25p8rGhK8zn6i1jWWkaHPTqygwPBIAAARNMKIwsVc0TNpklMZii0FR58ztnnyXSZOXiwl0jYjCyrIsM8YkSZIkSc0+RVEkSSI7q6IoiqLwDy\\u002f2+IcAAIAWddj+LopiNpvFcWyMKcsyTdPKm3qSJGVZxnFclqWxOg6yLMvzXA+fz+dSV3BOa\\u002fb3NRBRGAg\\u002f70EMvCE7unQ8usYnY2gpQVtDjsLapjA8Um7n0vRP0zTPc3+foiikElAUhbxgrUzkeZ6mqR4+m838087nczlJd68CAIBd1mH7O4oiDQP4fwoJJzhRhMViIWEDJ1Qgh\\u002funtWMVY48oaANRm4bMU7Q5p9ltRtvy9j8e9Y\\u002fbJFjyLV\\u002f5FvlTW2++tT9sGo9xLA3PDKRN6Qw6NYMZd9ojQlZL+Z\\u002fev\\u002frkDxBRaERzC\\u002fwHbdLpoH\\u002fq\\u002fjVBgsViobtJ\\u002fYA0BQAAOrLV4ZGVt\\u002f+aJEf\\u002fcLuKIH0ZaZo6u9VMpRAynCCEX2EnlrAGaRpOb9xEqD3392d\\u002fbemxTrO+ix7xtRM7BtJwH\\u002fvHowuDCiEsjTz1MmbK\\u002f\\u002fTqLegZT3Z7h32q07NbtjqFc\\u002fM6wVJZli0WC0l9cOofi9W1VSoAACam5wmXJC3RfzxJEj\\u002f50a9nyLhK+X8n5Zu0pVPD9puGHRo3YRpMHNlj07CX7vbmTXlnzsSBmEwSCTq1NPJETKgjXUUUdCij\\u002f6DziAxxFP48CvZGkiRFUazRswAAANbT4RgBe0SDDmeQf8qyTOdQskcx2EMYoijSeINd7bAfl8ERUxr1MBlLoxFLJ1rYfEHbgeTSAzWWRlNGN7dHyEi\\u002fj2sUW29DoXFAbfnKm84d\\u002fcyM0vrXAIDMeSCP53mu0QV7joQ4jvWWv1gs7MP1cszn89lspo\\u002fbhwAAgHZ13v6uHCdZuVvlPqHDQ48TUVBNxtavym\\u002flizWyGYbZvBhmqdawSTNUjq05UK7S2C8RaoS+0Wt8QXZwxkkiCitrONIhtNuqjwMAgBZNrf1dk+o4hFfaRSt\\u002fqS5q9DvYSlhK3lxnSk0zoUvUxSR9S6MXygljqC5mUVyaQNNi3kAvKQiTiZwNU+8RBUn8b\\u002fGJJlhRmNgrGoKagZTyi7PJb7Rzcp0p5akfPPlc3\\u002frZk488\\u002fflfl42BzM8jQpW\\u002fmmRMubcN6lXsoFYmbO6xOqjTAz\\u002f78ZPl\\u002f8bjz5CNzetwoU8v9Ykm+q0oyDACf8GETWx1wiUAANARWWex9dNOrf1NRGHCnPlZm0\\u002fO2nyk5Xff81uy8dXfOigbocbZdoK3mzfjxj64zrnOY2nR+h8w5630JxtWzkdu87zCzUcaD58T2tzkBa6aq1uzKNT2IwoyxUCe50QUAADAPkmS2LMKtWhq7e\\u002fJRxRqpuAdeONA+vJD8zGPTvPYwxYMfArk5lGNXpLs1rh6\\u002fiuSz8MQPgwdcb6\\u002fYxkV2UtEar0cha+86dw1nsuexlBnNbSnMWxFz2s9AACA5\\u002fzzf7\\u002fqIVq3kGkMu2skT639PfDhkdhBa2QJOOGK5s3TgYcWlqqJKDDLU4v8cUxOqsSgVmbvNM60yclDn8ntj3qQkQ5xHMvjks8YWnNxDROMKFAhAADsDmcJZak0tJisMMGIwsReUYg\\u002ffD+UIb9GZ6Ezd1CNpWn5TnZ3v\\u002fMRDXx0eCsj+xu69DPvlY1PvOSnO3qKJkJtMj8XZyDv0Rg1+a7JPhpX2Px7OvA5nfyfAm39f+sf\\u002fn9ms9L2PuFS6zkKjHoAAABBU2t\\u002fjzSiUDO1cxdN3qXnDEUU\\u002fOZFaGJdNahmhFpjSobWm1yD5bTmVw1E2caVIdGv7ma80JSX\\u002f\\u002fZr\\u002f4NsTOaz2lyLEy0spbchjVt05G+ys7dzvyOiAAAAgkbZ\\u002fq4x0ohCp1qsO4eWmW5ejE3K4KRq99Iq0jLoUhR\\u002f+7ol0+ENqo\\u002fW7zQdwoyNTa5VF0tSjYJ+f5955V\\u002fIxpN\\u002f8nxjvXHNv+DD\\u002fExuYuk0Cb3MTEpEAQAA7JCptb\\u002fHPo\\u002fCJlPEy+KKfrpAqNHQSqQhNF\\u002fb0pMvXclXDaQZJMXQBfr8KSZFKyETDVc857c3PedS2uR62oPPth\\u002ffZpN9jWZfzadCzvYtX\\u002fmW0A5dlCfEGcmihVk6sGVpGTr9XnSxVsLSr3zoFemBL7r8Ptn4w1\\u002f6IedJl5ZTTuJ8s2oObLJAhuzzd8\\u002f5O\\u002flThksYa62HyUQUmEcBAAAETTCiMK5XtLRF7jzuHGgazKOw1Cath7UjCiHP+lV3AL3W\\u002fZW0xrRxP\\u002fDu6pohLaLF9uvS5+r02WtO3t1TrMFJd1hjFkL\\u002f4y3n\\u002fPuzvyZ\\u002fauNyaYPVjzGEutud4ESTPCGnce88hW0I05z4eklMkYv2teefvEQ1sYfQr9\\u002f0chRGdltdanQVBUfzH\\u002frmFYU1zun0YtT8ZoV2aJHf29JiMuPEJgb2bz9P\\u002ffDJqKHcpNdIR11ak6jZQf5pIPWD5rpbSWiNG7AWRmvGUh3RrqKa7\\u002fWqKzk5B9qGUB3XVoRmEG+SXt2d6VUUSGYEAABB425\\u002f+8YeUQgJxQ+M10rwM4bWbg9tEn70wwBScm19hnLN\\u002fGmMh9nc3zxiv53orvMsfshB+XNJta6XsWqbWBr6DsUeNs80XPpNqRHqpBjml6t59MIJeRovuXiNAaL+pQj17DT\\u002fwhJRAAAAO2Rq7e\\u002fRDY9cuijOqklGzSMKNY0eJ92h5pwtzjDdPIeoO0sbgrqDljM04VIoptLEqjlcfkv9yP13ycZf\\u002fsqhkxv7Azbqz9P\\u002fVTZe8J\\u002feIRv\\u002f7+e+z1TlijrP4ncYN+e8QM0B7CXS0EVoZ1Cxk5rghJPC0pyfOTHwQJTz8+J\\u002faNdId9idZEaGRwIAgKAJRhTG+IpCU5Eov+9Tq73OI6GBW8ar+fpdg0oaB9pk\\u002fNbP7htuYLwBCH45fc6ERX4vo\\u002fO4WrqOi7M+rPEmt6mZxEmefZPGkBOEWLuJZhoEITZvWvlvevNcloEMmVvbNlv5nc6GpOEi8fjd\\u002fzi0Z+utfH1d\\u002f905\\u002f0k2JP5kGjTEdW2q7\\u002fjWL8uGlLymkE7A9SsvPfn4sx+vzrHQj+h3\\u002fbOH7acwez8sfvxjk6Su0EJTTLi0sizLjDFJktSsjZ1lWVEUSZLIzqooiqIoKg8PHQIAAFrUYfu7KIrZbBbHsTGmLMs0TStv6kmSlGUZx3FZlsbqOMiyLM9zPXw+n0tdQU5rjPEPMSOMKDRf0Ln+8RYLY\\u002fb6jLWB7nPCFVp+beuEWjkaMFja0qrJzxe6Rk7zxXND7bwmudCrXnD\\u002fnBon+PaXPWKspljNrNvO2tZqjfmUXvzC0hjzu5+P5U9nwmb\\u002fnH7Hdosrga0xMdTmupi95\\u002f3zN8nGre97jf24H88T+vn3m6FLY1Gh77621P\\u002f6v5z8Imh+j5yzJoLinNOPaemsyZ94yU+HTiLWnofb\\u002f9KptQN++u3T+ZW\\u002f59B\\u002fMNbvUotpMXr9\\u002f+zYy2RjejkKHY56kFqCRAXSNM3z3N+nKAqpBBRFIS9YKxN5nqdpqodL5UB2iON4sVjoITWxCgAAsIkO299RFGkYwP9TSDjBiSJIJWA2mzmhAjk8iiI7OKGH6G7DiShs0mxyMg+0pf7lp75DNrQZHZqWtaYF7Ew3G6pTa46C3yPotHH97r1QG71mqRi5Sv5QaeXMTKf8XG4pnu6mrefnH\\u002f+jk8++fyyAap75rM2Ir\\u002f7WQbv8S+dGVDWX11kxyI\\u002fTOMkit7\\u002fmA\\u002fLnjf\\u002f+5BAGvSbaohpCx\\u002fzSy7vGSkh6rfSVytutTeHysy92nlQ+YxLXMdY76KfghL65a6QgNJ8D1Fm+SGmivjN0ZZMJMEIZTn4S0toRNX\\u002fNpM2joaFBPS3aJMuEiEJTmlvgP2iTTgf9U\\u002ff391SLxcLuwtDuCQAA0LqtDo+svP037ziQ7EX\\u002fWOe0NVMphHRUKdukE1Rbz3stbLcpuXQehZpsBqftHsr71RbMN1v5xu1NP9nuf+Lkn006+x3asDv1F75mjHmaeXboDFq8p8wpxooTfMm7ztLcd9r6xhhj9lKd797Xc6zX6uneI6HrrP2Rp33uIfuQL+1f7NiEG8drTD+gL+SbLZXHjTHml\\u002f\\u002fb\\u002fyR\\u002fWWklJze+tL\\u002f8Lc7h779AHaT+rY+7SRWO0OWtCXvshQFOJtt\\u002f9fGTb65cAWPMkx86bBfs9z96gXMGzSd46gdfY4wxex+PD7\\u002fqDtl47R\\u002f+jGw840T14CPlZxg4QrETDS\\u002fVfMDkc\\u002f5E+OPhBOdqMpycp\\u002fCf1CmeHxHUr7bzeE1ERz6EX\\u002fK\\u002fOD9b\\u002fXL8c2r6kXyFNTT49VNPfqqf\\u002ffjJD\\u002fyXPrFv8NfSgU7+r1AoG0l\\u002fgfUpVPNEsb9\\u002f8un1O4zFVmdmbDGZIMsyqRD49\\u002fjF6toqFQAAE9NVj35lkoE\\u002f8MEJCehRNTkKZi9m4Gc8mIHlKNQIpS\\u002f4ddXmeeOhPUONHu2GDGVi+\\u002f2U2h7SLnBpRGqWtVbPnTnYtWDbSXdv3h\\u002fs7KkvWRsxTgKE3zj74f\\u002ft\\u002f5SN\\u002f+tr32eqhmB87jOvlo3zfunnZONDV\\u002f+yMeaKEz8lf\\u002frN6Ob5+ZoqITTOsZTfjNMXcov5I7u0\\u002ftWTHuI\\u002fffgfOo8vTSzwZ9GQZ9fx8Tpjh\\u002frSTx+Tjefl\\u002f7KyMJtrvgJCTQKKWGNdhhbnxvA\\u002ftNLKd+YXMQ1mQfCjjPJK\\u002fdwXf2xUaJqTpS\\u002fQD8PIW6OTInzhz09mJPgzuzRcer4mGOAscK9PoSFP\\u002f1rJt08Hm6infvzkPArf+aZHA6+1HU\\u002f8wsFx5yhUdgr493VJZtQ\\u002f\\u002fXkU7A05XP6\\u002fWCwY7AAAQNc6bH\\u002fbIxqcsQlZlukcSk6oQKMOURTJ6Eqzv9oh+1QmK5iBRRT8pnxoQHzNzIz+IfaBNfzeaG1wSCPAH3fgtPP8Yc3ajFByKm0RfvNxr8ovnHx+E67jN1+Kwm8R5j\\u002fyIWPMzf\\u002fqardYe5xXWnOqpY3L5\\u002f2jfycbJ86\\u002fwlQ175TMZGCM+cNf+iH7hP7wh9BslaGGoJ+srkJvugpN0Oln3T\\u002fjyVPqTxXSPIF8jVEPfre6RLlqUkBCL1mvs\\u002fOeaqmUFs8Pljinch73v+BrT\\u002f4RGnfjH6vfNX8O06WzmNREDoQfZXR+PZZ+05U\\u002fFazzimpe8tIgojOWxPkw24f85u+93hjzU1+9UP7U75peip8\\u002f91\\u002fKRvoHP2Gsb+WTf\\u002fJ82fjKm86dWESh29uqnVfozJikf0odQvbRmoF\\u002fuJRTZ1tyDHN4pG9pKlnN4EDhDPEy4bGCS6NwS6dwVv7tUznJQfqr4c\\u002fnI19RvRd+M\\u002fFtf5WiybgsKU\\u002fzOZH8a6VZUf\\u002fgO\\u002f\\u002fCNJuyKdRJ4dQ5QhU7mxzyv\\u002f\\u002fwL8qfP\\u002frr18mGjuhzpkVaOsdt\\u002fIO\\u002fK39qBp9\\u002fiPQX6HAyfaf8uLQThdZ335nhqqaTq3kdYuk927nJ+XfoThdKlmepGeCn5ZcAdU3Xj\\u002fP58b8pzj1PKys6JtZ5T\\u002f2hd6EqtT9+0n+n5PLedeT98qd+Jp1S1VyK0IrbPqddVDPDulPnWHUwqk1+D\\u002fVz5b8QZ35o\\u002feDpUMx\\u002f85wPysb\\u002f8pWrZOMnn\\u002fnvzF51wT5Eb0OTqSh0O+pBsg3M\\u002fk6HJEns15Zlmc7HvPRw51gAANCpQbe\\u002f1zCoZaabNLBCcx8trXT7QVoJ3GkD3W+TOWFS3UEb99rcl0P0KfxGT6h4oXQks9escZKPjFW1\\u002f4MXvtMY808+e7N3kU4Kzd2kmndehGhsU2MMoZP7nIagTo31Pz\\u002f7ZGTyvsd\\u002fSDbkOmupNFdL\\u002fd8vOpnn+Ly3\\u002fxtTG7yVRzQPUUMRMmGtMebP\\u002f+3JgWTypjeZP8fpMtNAwvWn\\u002fr5syHTFNZ9JDdjIpzG0ULV\\u002foD6ujzhhXv+zGlo4uHkOXajrzX+N\\u002frTWTrtfL6+\\u002ffJHwZ5r62mdPfiqe928\\u002fYBdYP4oa+lZO7MrPYdRrIpqv2L50eHNolmUTDnjUzNDspEKHiuevJqVZjXp55WfED2Q6P4N+eMyf9zo0m7UfpXOiXIqIwghMrOoDAECPJhhRGNcrchZV2mTNp6WdiEqydV7xpz8pfzpLyBiraSL8c2ojWMbI6eP+GbTB4STHaTKR0\\u002fr0ByOFmnd+DqDTkNLgipPQZ6wGn+QoaEtF6dg\\u002fJ8bjN479ayIkD87mtBH9xXP1muiTOtkY2n7VVIOlwRUn\\u002f6tmch4tv1NybXA76wP56QX6FmvjPpRY4Iye1dLqnEg6F7UTzQotKW6quv+FBlec6X6dkaWmweBSP6LgPKnmq37hG99Z+aQ++TIaLy3A72XXr6E8S00+igpFGf1vtJS\\u002f+SzL+u7rtOjOgs6hhAnj5Wf404g1n41+KedXosnCZnLIBc8\\u002fGaXT6+ynJ8sH209a12WmJxNR2OqESwAAYFxG1v5eaiwRhdC8Q36DSdQMN3Dylv1RTNob57TRa2r6wp9cRVv\\u002fzuAip4FurPFL\\u002ftI7QufN1XmHhN\\u002fLuMaIMuGPalPOS\\u002fOTMPyTyCv1BwsoSRTQpqQmB\\u002fhhAOn19Ac9+i1aybj2895DcQJtkWsmtjM8z49d+W55w78yVpteW8nOpMg1p3K6dZcuf6WF1KCF5nNouEs+Y\\u002f6MTGrp8BOnwP4sT\\u002f7llfwSXVYq9Faa2ma9rWbckxNNXNrH7xdG3jhjDQyWa+LHD\\u002fyLI9EgP7jopED50Ts9xBkUE3oKY\\u002f16SLBHEw78X49Vlz7Xi+YPJBZrjNqoCe04ERF9B4koAACAHTKO9ndzY4koOPOZaIs21Hr2IxD++ALZp2bFZ6djODQTgNlrbDmDIEx4PiK\\u002fE11bCWc872TPt7Swl67aorV17VqWwcrGmHc++SLZkIlNnPmLbKElrZ05ecxeb7q2IB\\u002f+798uG4f+6i2yoUnRTh+nviO6xLOTlq\\u002fNJuV01evkB0qb7BqGkWfXRpu+Zdo4c1rY+lb+3g\\u002feLhs\\u002f8vnr7R1qZk1whgnUNM7kPWoy5XBoGpylkyOFJvxZuo658VqEIf7S7X5ER55Fr4COhfEDCU42RmjqESfPwFTFTqTkm0\\u002ft7LwKE14m3ux9cvQzqcNnTn3ByUW35EtXE3tTzgzf2vqXadDM3qgZ4yVG+B9v+WAsDVmZve+jP\\u002f2M85umP0f6AxUac1EzZkp\\u002fLuTr6Ue5vvwvziCiAAAAdsU42t\\u002fNDWoehSacXHql3bpa4RV+x2poWZQmI+ZFKIHfz\\u002fz3B8pLO9sfSx3KTvcnD9C+fGnaahK45i7oSHptiEhvqE6Yqo2z0ISGobkFtVTaZNTOUb8\\u002fVRpGTveksXKh\\u002f\\u002fwfXW2sWdv0dfkpCJd+5r3G6vn2gxBOWoAmlus5ldMi94cwaHNZXrLOuKBhGD\\u002frQj4w2uDWj4HTuPSHkPjrkstl1M+qHwhxpjBXS6deWIOeSoJV+rr8eF5oZkN9I\\u002fwhLcJ54TZnUI9GqvyxOfLlahJlEf6Vcb59zhglUxVYcs7pTF2qBX7XC06mQWgKi\\u002f\\u002fj4IwF8HOhnNlXQyN0lL4v\\u002fuQHevUku0UWZjPWF9wZUhQqrf9IzXTXziwy\\u002frib6eUoMI8CAAAImmBEYTivqPliCjWLL4eWGPBbP6FJHmtWDAqRrj5\\u002fzLHfSnASC\\u002fwMeSeT3F9hRdsuEjvRFkBNAnZofIeSlsf7v\\u002f035M8\\u002fe9q3yYZmgztXT1vP\\u002f8\\u002fz3iEb3\\u002fl7J1tOzmx3fqNfwxihpZL8GInQJAxt9Pvr2DoDN\\u002fyX7Lyn\\u002flBvJdP461I3v\\u002fns\\u002f0M2rvzGBZXF8EciaHNNQiO6fPbLv3Zyw09Wlw+Mv66BXn9J1P\\u002fuv\\u002f+v8udr\\u002f\\u002fBnZCM03t0fvq+N+9ACAaFT+W1KPYN21UvUZ2lijQmnyuux8pnUt9gfNeA07mumNHC+SmrpHKyhRd18oaWemk9p4M8sGUpV8R\\u002fXeKqkFPj5BH5+lby00JwZxvvRCE2dabx5afUQHVTiLO7gf5CmNzMjOQoAACBoQO3vVgwqouAn664932KoreDzx034z+6Mj\\u002fCjFFLd1u5JzQbw51sMLfmonFkcnMkTjdXLKG1Ep0\\u002fdVHUBOukOoR20\\u002feR34oaS0pe2Hf3L3nAAvfHmq3CmpDRW292ZDM4fNe4MSdDsh5rQ1FJOAoozi77xprgIzcPoq+kYdqJu\\u002floJzoewpj\\u002feOadmA4TmW6wZC6CTfEgAJhQpMd7axBoRaT4WQ1veWk4nSidroBhjzvuln7MPrPkxceYb8JfD8F\\u002f7h67+ZWMFvfzYj3yRm6yzKprkKIQ+pc3jNE7AoOaT1lzoM+n\\u002fyoVGV+ltqCao3AodXtE1IgoAAIxeURRZliVJkmVZu2ceUPu7FcOMKPh1auWMmQ6tflazAptylgesWVwuNFufU3I\\u002fy1cbkdrcDC1Eqa1kZ+0Gf5qEM57+X2TDmQ7BaSvY5Crp61o6ttsfC6BdmMLv8vSXqPij57\\u002fbWNMSaDvvHz9+sp3n9Kf68\\u002f05xXCGe9icl6z5EJolsHTqutAyjNq9WhM7cZ7d\\u002f0zKlW\\u002fSVpNTafl\\u002f7Gmflw1d16D5qUKF9OcPdfjrMkjj2F\\u002fgw1lBwzTomHeulb4QGdhi9tbFqBEKbPirvy61dLnU0DwoJtw41u++E9zywzChyT9qBjU4E0dKGo2xMmkkgKFfW3\\u002fRyKULw+obIfNV+KXaZHkd53VpuEVHPWwzopBlWZ7ncRwbY8qyNK3m9Q\\u002fottqK0Q2PFH7EWNN5JFoYml7JVzPhcWjNFX9PZ\\u002fYSf38nh65m8ehQtpT\\u002ftZRvrHZV1ITTQzlQaun6WKEkQX\\u002f8pP+L6RSmOafrwU+8CqVtOtPoGmvemNA4PZ\\u002fM7qyTVvkB+aXR2tD4sTVu804U2q+fKedD2PzXXK+VP\\u002f5Q7nY100A5\\u002f9T8leqe\\u002fnxK8kVe46KFxo6G5qQyG9zzVGi9+Cbr3TuddFrV1g+tU03XH43mK1YrrUPINOf+ClXOqTRtWXdQNYOQnWdfWo\\u002fspeshiqI0TTWW4Py5IYZHAgAwekmS6HYcx0VRtHXmCUYUBviK\\u002fHylVTlTfJhwd4bfPGoeugy18\\u002fwwY2jmWuVERPyn8PtQnFFhKjQj0NJAq1q6p984C61NFQowGK+TqGYgq1wEpzFkW9qhsIbmERGn7eivGSZvhB++9oe2hiYBc8Yu+p8KHaCooXspvzZPQzPvbiI0LXRN7GFpg3spHT2ry74Lja6HptDeJH7gf6L0Cyv8QZtLIzrOr0fzCd98WhgZjez3d+i8Yf4E2PVPWjO1l6PmR8P5ufDfiCEkMxJRAABgUr78L85o5TxFUcxmM2NMiymNQ2x\\u002fb2KYEYUaq8YD\\u002fNQbpwt\\u002f89wcs0F\\u002fvB\\u002f5UGuXJ5QTGhqtZFbvz96E0zjTTlB\\u002fyhfn4jRpnDlnCIUW9MxLxwT6TxFaHWrzKZNrhBagqgkOOREFf4bjhs+1krXjBL7Nc1yaW9rkDR0SyhJoYu3r3GJocKnQNNLG++1tMsuWEw\\u002fTc2pDf\\u002fsRhSRJyrJst9\\u002fBMDwSAIAJkFz++Xzebi3BEFHo1Caz34zLJmGMtbs2\\u002fVFJqsVYQncNQe2I9SeRDa2tPFI10YsunmXsl0s0701fQygbw5\\u002fRa+22+3gtjShU7m8f0svwyCiKWg8kKHIUAAAYMakfJEniVBTscRCbGFD7uxUjnUehC2uMehiL0CwI3XVtbsdYytkLSf7wMz\\u002fWILGcJlkOzgTqvhZXwR6pTa7Aqm1358D1jm3rDDW2P+pBZlty\\u002frXFAMMEcxQWAX2XCwCA9mVZ5t\\u002fymEchaFA5CmjX5jGSpWtB+XMDbKFNv8bEf720X7eZt79NNVd17SbvDnJyRHY5PDaEeRTataUcBRnQmSRJTZdJlmVFUfgLWhRFoR0w\\u002fuGyBkZbPTEAAMDWeftbJn\\u002fQlSpCc0Xp6E9nNQtnoYv5fO7UCfwJrokoNFQz26PYThp5aElZtKvFKQF2VosRnaUT\\u002fw08tajTH4cuYldOcKjTATjTiyh0nqMgtQSJCqRp6idcGGOKopBKQFEUmpoh\\u002f5TneZqmerhMOCWSJKlJXQQAAJvrvP0dRZEdBnD+FBJOcKIIkosxm83sEtqHS2VCahJEFGBb2nreQhhDGxNrrBeMFk1sfgUMHxGF1Whugf+gTTod9E\\u002fdvz5pM8uyFueyBgAAvh4mXKq8\\u002fTfPRpSEx5od1uiPIAgxMUvbjlto3E9mUMDYEUhAX\\u002fwlb0aqh4pC1yMUuOsDANCWQUy4FJpAqrJKwUhIAAC2ptuIgtzUnc4C\\u002f06fJIk9GsKfR0HPU3k4UG87ixJhbTX5hs3X5gbQkc4jCnEc65hGnXZJ\\u002f5R7vzyuQQWZbkH31HpDlmV2ziMAAOha5zkKRVFEUaQJhvP5XB\\u002fP81wrDfYcCXEca+VgsVjYh5N\\u002fgDXQDB24mjeInFCgd1uadaBhr0FoREPzTgfmUQAA9EhvQ9qn1pG\\u002f+uQPbOd+N7XbKstMY3RYqhiYkulVFHoYHtk1KgQAALRlghUFYFwIJAAYskHMowAAAIaJiAIAYNexeFgNIgoAACCIiAIAYNcRSKhBRAEAAARNMKIQmkphFMMm6ScDAAzKBCsKo6gQAAAwChOsKIwagQQAwKBQUQAAoH3f8dePdXr+v+r07BaSGQEAQBAVBQAAEERFAQAABE0wR2HUwyMBABiUCVYUqBAAANAWuh4AAEAQFQUAABBERaEfoUSKQRlFIQ3lbNsoyjmKQhrK2apRFHKSqCgAAIAgKgoAACCIigIAAAia4PBI5lEAAKAtE6woUCEAAKAtY60oZFlmjEmSJEmS9c4QRVHDKkUXezY3inKOopAdPfvOlnMUhezo2Xe2nKMoZEfP3kU5W7f5nbHS+HIUiqKIoqgoiqIoZrOZXBcAAHZWp3fGEVSRHFEUxXFcFIUxJsuyPM\\u002ftl9BvRXJie46ikOzJx4M9t7bnKAo5nD3P+pGPNtl\\u002fbf\\u002fxX79Si1R\\u002fZ9zQ+CIKZi+6ohtyaQAA2Fnd3RlHVlGQV+70vlBRAADsrK7vjGNNZrQ5l6P5NJ\\u002fsOeSnZs\\u002fh7zmKQrJnu3uOopC97yke\\u002fYPLm+\\u002fc+gTVVBT2satRo0u5AACg9ZtXiwMfRtb1AAAAtmlkFQWpIjkRlXYHjAIAMCJd3xlHVlEwxsRxPJvNZFsnl+ixPAAA9KvTO+P4KgpSaYqiKIqiPM\\u002fn87n+U5ZlWZYNahBEkyJlWZYkSY8lb37diqLocYarJuWUEvb7MVjpTd9SmVY0qIItLUzv3yAtRpPd+v0SmQblHMiXaOkOA\\u002fwGyaXrpWA1d8YWLMZpPp\\u002fP53P7T2NMHMdxHBtj0jTtrWQrFknehb5Kvup1k523UbL9GpYzTVN7N\\u002fsTsh2rvumysf1y1pNXMZBSLS1Mv98g1fyi9fUlEkvL2fuXaLHKmz6ob5Bz6Xq5vTp3xraMtaLgsL978m71WpzFolmRnMe3X\\u002fKVrpt+ObdQMP+pl5bT+XGR7+q2CnjSGm96v7cNx3w+H86Pb5PC9P4NWqx40Xr8EjUpZ+9fojXe9OF8g5x66kCarK0YX9dDyACna1xapKIo9Fthekq2aHjd5F\\u002ft0m5Zk4tprGtYFMWij7Gyq34Oe7yklZIkkR\\u002fiIVhamCF8g0zji9b7l6jJ9TR9f4lW\\u002fQQO6htkfwJ1QuUp6Lum0gKpBduPmL6rcusVacvtoeaF1D0lqraV0lU8u6osp5RtPp+naZqmaV\\u002f9DvYjoespj0tRe\\u002f+sVjIDiCio5oXpN5pYX85+v0S2mnL2\\u002fiVS9Rdz+N+gxQBuQy2abEWh36\\u002fiGkXa\\u002fie+eSH1SzucioJfDK379pvw4RSp8nLZDaaBRE0dY6wo9H7PWHpv6\\u002fFLVFmSyn\\u002fq90tkl2RpIsVgv0GaSNh3QVozna4HxwDHTIaKJMuDSp5q70m8fiGTJInjeGjXM1SexWIhC62maZrn+XYLVcEvZ1EU8l4vFov5fF6W5dCu7egM6htUaZhfopChfYkcA\\u002f8GJUkym82k+tJ3WVoz2YrCWGRZNpvNpNo+qI+7KstSvopJkuj2APve7GRjM8iaopC3W4qXJIn80vVdqBEb\\u002fjfI8CVq1ZC\\u002fQbJew3w+H+Cbu4nprPVQFIX9se73I96wSFo17qW0DQtpR\\u002fnkCym\\u002fd52Xb3+Rlpaz91\\u002feAX4OJ6\\u002ffb1BzvX+JGur9SzRqURRNKoHR1k+PR9vsYTwDGR5ZUyTNEtKRyrahFdLZv5cewSbl9Ed2bb+oTcrpPN7LMM6lzLBzFIbzDbLVlNM2wByFQX2JRE0hh\\u002fkNkksnhRzCp7Fd\\u002fV\\u002fftti1n4G8PZVFsr+KQ6i6LS2krd8fjqXldEZVDbaczoCugXxcbYMqlVOYoX2DmpTTNrSKwgC\\u002fRItlhRzgN6hySOcAEy3XEy0mlHDhDAIeggEWyTeKQprG5ez95YylnEDIKD6coyjkNEyqogAAANrFqAcAABBERQEAAARRUQAAAEFUFABgOqIoiqLIH82fJEkURcOcuXJDWZbZrzfLssjSJNtRJvesvGj24c4TOWeY5LU9qe9hFwCA1sgPu79GQ+jx7ehuUKizxoou+WFPutDkTmcCK8jYYy\\u002frz2OGMVCzC0QUAGBqnDUapjldoDHGmCzLtDagM3VmWSaRgCzLFouFsdZ\\u002fD0nT1JkKWg5xVo6uP8Nkgwp911QAAK0xezNG263bOI6d1TV1hUOzP8wgB9o3CL072g3uysN1WiT9J3sCTfuE9jPqn\\u002fP5XMupT+ecqvL12qeqjFs4kyQ65XFee+hssvS2blcWbKq31Gm+KgDYTXLndm7Gev\\u002fWW3Ll9mLvxrywqgLyT3blo\\u002f5UcRzb9QM5rX3TDVUU5ClkN70T+6eyOf0OpkHfij3tt3NapzLk1xtkQy9F5Rkm2ftARQEApsPs9dDrDUy39T7qt5V1Z+PNlGyfWW\\u002fblYc7Ey3bZWheUXBeiH8qm1SJ\\u002fBLaBbPjE\\u002f55jDd9tb+t5fQLJo\\u002fbV2wy0zbbprB6JADAZq9lavfii7Is7UeyLHNyGuyT+MqyjONY++OdBIhtzqns517Yy7fqRlEUkn8g+zuZBHqIXAf5sygKu4dCkx6cMztlmOrymyQzAsAE6b28LMuGQwTXe6IkSSqXRNoO56U5t+0sy5x7vCNNUyddUS+aXZ+Y+OjHZYgoAMAEZVk2m8381H1jTBzH9g11jdWV5B5sH762hvWYUDHsZ0\\u002fTVEMC9m4aL0mSJM9z+5bvVCNCF80ZEOGUQU8yyXCCIaIAAJMkt648z\\u002f3mfpZlZVnqXW02m9UP\\u002fHPI\\u002fVj\\u002f1Dtrc3r45s10+xYuZ5vNZk5cwdnWR\\u002fw+F71o9gUpisJJd5jNZnoGpw4xydUsqSgAwDTJ3c6\\u002fdUlnwWw2k7kLzYpN4SzL4jjWqQ+d+ESlJEk0ciC3c51BcqU6il8S55HFYiE3cntmxsX+YZZlWco\\u002fVdaipDw1UQd5sfYZ9F+dDovJYJlpANhRa3Q6rH24s\\u002fOGT61klmX\\u002f9lx\\u002f\\u002flVL7u\\u002fpn6EoitlsNslbKhUFAMBYDef2HEXRfD6n6wEAgAFJkqRJ30fXpA9lkrUEQ0QBAADUIKIAAACCqCgAAIAgKgoAACCIigIAAAiiogAAAIKoKAAAgCAqCgAAIIiKAgAACKKiAAAAgqgoAACAICoKAAAgiIoCAAAI+v8BQvRIW56nlpwAAAAASUVORK5CYII=\",\"x\":-0.25,\"xref\":\"x\",\"y\":0.01125,\"yref\":\"y\"}],\"xaxis\":{\"range\":[0,2],\"showgrid\":false,\"title\":{\"text\":\"Momentum (GeV\\u002fc)\"}},\"yaxis\":{\"range\":[0,0.01],\"showgrid\":false,\"title\":{\"text\":\"dE\\u002fdx\"}},\"margin\":{\"l\":30,\"r\":0,\"b\":50,\"t\":50,\"pad\":0},\"showlegend\":false,\"autosize\":false,\"width\":530,\"height\":457,\"title\":{\"text\":\"Ionization Energy Loss vs. Momentum\"}},                        {\"responsive\": true}                    ).then(function(){\n                            \nvar gd = document.getElementById('43c4e89d-f598-428f-bef6-162da48fce07');\nvar x = new MutationObserver(function (mutations, observer) {{\n        var display = window.getComputedStyle(gd).display;\n        if (!display || display === 'none') {{\n            console.log([gd, 'removed!']);\n            Plotly.purge(gd);\n            observer.disconnect();\n        }}\n}});\n\n// Listen for the removal of the full notebook cells\nvar notebookContainer = gd.closest('#notebook-container');\nif (notebookContainer) {{\n    x.observe(notebookContainer, {childList: true});\n}}\n\n// Listen for the clearing of the current output cell\nvar outputEl = gd.closest('.output');\nif (outputEl) {{\n    x.observe(outputEl, {childList: true});\n}}\n\n                        })                };                            </script>        </div>\n</body>\n</html>"
                },
                "metadata": {}
              }
            ]
          }
        },
        "149a5502c8814ea5a4677ba5a2cc3835": {
          "model_module": "@jupyter-widgets/base",
          "model_name": "LayoutModel",
          "model_module_version": "1.2.0",
          "state": {
            "_model_module": "@jupyter-widgets/base",
            "_model_module_version": "1.2.0",
            "_model_name": "LayoutModel",
            "_view_count": null,
            "_view_module": "@jupyter-widgets/base",
            "_view_module_version": "1.2.0",
            "_view_name": "LayoutView",
            "align_content": null,
            "align_items": null,
            "align_self": null,
            "border": null,
            "bottom": null,
            "display": null,
            "flex": null,
            "flex_flow": null,
            "grid_area": null,
            "grid_auto_columns": null,
            "grid_auto_flow": null,
            "grid_auto_rows": null,
            "grid_column": null,
            "grid_gap": null,
            "grid_row": null,
            "grid_template_areas": null,
            "grid_template_columns": null,
            "grid_template_rows": null,
            "height": null,
            "justify_content": null,
            "justify_items": null,
            "left": null,
            "margin": null,
            "max_height": null,
            "max_width": null,
            "min_height": null,
            "min_width": null,
            "object_fit": null,
            "object_position": null,
            "order": null,
            "overflow": null,
            "overflow_x": null,
            "overflow_y": null,
            "padding": null,
            "right": null,
            "top": null,
            "visibility": null,
            "width": null
          }
        },
        "d37bf50d34f24c059ce66eba5267418a": {
          "model_module": "@jupyter-widgets/controls",
          "model_name": "FloatSliderModel",
          "model_module_version": "1.5.0",
          "state": {
            "_dom_classes": [],
            "_model_module": "@jupyter-widgets/controls",
            "_model_module_version": "1.5.0",
            "_model_name": "FloatSliderModel",
            "_view_count": null,
            "_view_module": "@jupyter-widgets/controls",
            "_view_module_version": "1.5.0",
            "_view_name": "FloatSliderView",
            "continuous_update": true,
            "description": "a",
            "description_tooltip": null,
            "disabled": false,
            "layout": "IPY_MODEL_07e6a0bd9cec419d9abb4f6c9e14b389",
            "max": 0,
            "min": -10,
            "orientation": "horizontal",
            "readout": true,
            "readout_format": ".2f",
            "step": 0.01,
            "style": "IPY_MODEL_a917407d8e414e20bddec9f34d917b49",
            "value": 0
          }
        },
        "a74035a4c3a44ece866dc4ab5296e3ff": {
          "model_module": "@jupyter-widgets/controls",
          "model_name": "FloatSliderModel",
          "model_module_version": "1.5.0",
          "state": {
            "_dom_classes": [],
            "_model_module": "@jupyter-widgets/controls",
            "_model_module_version": "1.5.0",
            "_model_name": "FloatSliderModel",
            "_view_count": null,
            "_view_module": "@jupyter-widgets/controls",
            "_view_module_version": "1.5.0",
            "_view_name": "FloatSliderView",
            "continuous_update": true,
            "description": "b",
            "description_tooltip": null,
            "disabled": false,
            "layout": "IPY_MODEL_e5c22dd39b7d4897bcd99acd46a7cd5b",
            "max": 10,
            "min": 0,
            "orientation": "horizontal",
            "readout": true,
            "readout_format": ".2f",
            "step": 0.01,
            "style": "IPY_MODEL_4953db5fcd70480b910eef2579b3f4b8",
            "value": 0
          }
        },
        "41cd25f152ef4d0a918c7c2b84c34c93": {
          "model_module": "@jupyter-widgets/controls",
          "model_name": "FloatSliderModel",
          "model_module_version": "1.5.0",
          "state": {
            "_dom_classes": [],
            "_model_module": "@jupyter-widgets/controls",
            "_model_module_version": "1.5.0",
            "_model_name": "FloatSliderModel",
            "_view_count": null,
            "_view_module": "@jupyter-widgets/controls",
            "_view_module_version": "1.5.0",
            "_view_name": "FloatSliderView",
            "continuous_update": true,
            "description": "c",
            "description_tooltip": null,
            "disabled": false,
            "layout": "IPY_MODEL_63921a9b7ca54088a270bb67c4cdd2fa",
            "max": 10,
            "min": 0,
            "orientation": "horizontal",
            "readout": true,
            "readout_format": ".2f",
            "step": 0.01,
            "style": "IPY_MODEL_6a2d0a69e39a4dfc94ab48ec1c3a84fc",
            "value": 1.3
          }
        },
        "9a83490ac9374282a7079f52d056438c": {
          "model_module": "@jupyter-widgets/base",
          "model_name": "LayoutModel",
          "model_module_version": "1.2.0",
          "state": {
            "_model_module": "@jupyter-widgets/base",
            "_model_module_version": "1.2.0",
            "_model_name": "LayoutModel",
            "_view_count": null,
            "_view_module": "@jupyter-widgets/base",
            "_view_module_version": "1.2.0",
            "_view_name": "LayoutView",
            "align_content": null,
            "align_items": null,
            "align_self": null,
            "border": null,
            "bottom": null,
            "display": null,
            "flex": null,
            "flex_flow": "row wrap",
            "grid_area": null,
            "grid_auto_columns": null,
            "grid_auto_flow": null,
            "grid_auto_rows": null,
            "grid_column": null,
            "grid_gap": null,
            "grid_row": null,
            "grid_template_areas": null,
            "grid_template_columns": null,
            "grid_template_rows": null,
            "height": null,
            "justify_content": null,
            "justify_items": null,
            "left": null,
            "margin": null,
            "max_height": null,
            "max_width": null,
            "min_height": null,
            "min_width": null,
            "object_fit": null,
            "object_position": null,
            "order": null,
            "overflow": null,
            "overflow_x": null,
            "overflow_y": null,
            "padding": null,
            "right": null,
            "top": null,
            "visibility": null,
            "width": null
          }
        },
        "4ce2da1d05784206a12d4679620659fa": {
          "model_module": "@jupyter-widgets/base",
          "model_name": "LayoutModel",
          "model_module_version": "1.2.0",
          "state": {
            "_model_module": "@jupyter-widgets/base",
            "_model_module_version": "1.2.0",
            "_model_name": "LayoutModel",
            "_view_count": null,
            "_view_module": "@jupyter-widgets/base",
            "_view_module_version": "1.2.0",
            "_view_name": "LayoutView",
            "align_content": null,
            "align_items": null,
            "align_self": null,
            "border": null,
            "bottom": null,
            "display": null,
            "flex": null,
            "flex_flow": null,
            "grid_area": null,
            "grid_auto_columns": null,
            "grid_auto_flow": null,
            "grid_auto_rows": null,
            "grid_column": null,
            "grid_gap": null,
            "grid_row": null,
            "grid_template_areas": null,
            "grid_template_columns": null,
            "grid_template_rows": null,
            "height": null,
            "justify_content": null,
            "justify_items": null,
            "left": null,
            "margin": null,
            "max_height": null,
            "max_width": null,
            "min_height": null,
            "min_width": null,
            "object_fit": null,
            "object_position": null,
            "order": null,
            "overflow": null,
            "overflow_x": null,
            "overflow_y": null,
            "padding": null,
            "right": null,
            "top": null,
            "visibility": null,
            "width": null
          }
        },
        "07e6a0bd9cec419d9abb4f6c9e14b389": {
          "model_module": "@jupyter-widgets/base",
          "model_name": "LayoutModel",
          "model_module_version": "1.2.0",
          "state": {
            "_model_module": "@jupyter-widgets/base",
            "_model_module_version": "1.2.0",
            "_model_name": "LayoutModel",
            "_view_count": null,
            "_view_module": "@jupyter-widgets/base",
            "_view_module_version": "1.2.0",
            "_view_name": "LayoutView",
            "align_content": null,
            "align_items": null,
            "align_self": null,
            "border": null,
            "bottom": null,
            "display": null,
            "flex": null,
            "flex_flow": null,
            "grid_area": null,
            "grid_auto_columns": null,
            "grid_auto_flow": null,
            "grid_auto_rows": null,
            "grid_column": null,
            "grid_gap": null,
            "grid_row": null,
            "grid_template_areas": null,
            "grid_template_columns": null,
            "grid_template_rows": null,
            "height": null,
            "justify_content": null,
            "justify_items": null,
            "left": null,
            "margin": null,
            "max_height": null,
            "max_width": null,
            "min_height": null,
            "min_width": null,
            "object_fit": null,
            "object_position": null,
            "order": null,
            "overflow": null,
            "overflow_x": null,
            "overflow_y": null,
            "padding": null,
            "right": null,
            "top": null,
            "visibility": null,
            "width": null
          }
        },
        "a917407d8e414e20bddec9f34d917b49": {
          "model_module": "@jupyter-widgets/controls",
          "model_name": "SliderStyleModel",
          "model_module_version": "1.5.0",
          "state": {
            "_model_module": "@jupyter-widgets/controls",
            "_model_module_version": "1.5.0",
            "_model_name": "SliderStyleModel",
            "_view_count": null,
            "_view_module": "@jupyter-widgets/base",
            "_view_module_version": "1.2.0",
            "_view_name": "StyleView",
            "description_width": "",
            "handle_color": null
          }
        },
        "e5c22dd39b7d4897bcd99acd46a7cd5b": {
          "model_module": "@jupyter-widgets/base",
          "model_name": "LayoutModel",
          "model_module_version": "1.2.0",
          "state": {
            "_model_module": "@jupyter-widgets/base",
            "_model_module_version": "1.2.0",
            "_model_name": "LayoutModel",
            "_view_count": null,
            "_view_module": "@jupyter-widgets/base",
            "_view_module_version": "1.2.0",
            "_view_name": "LayoutView",
            "align_content": null,
            "align_items": null,
            "align_self": null,
            "border": null,
            "bottom": null,
            "display": null,
            "flex": null,
            "flex_flow": null,
            "grid_area": null,
            "grid_auto_columns": null,
            "grid_auto_flow": null,
            "grid_auto_rows": null,
            "grid_column": null,
            "grid_gap": null,
            "grid_row": null,
            "grid_template_areas": null,
            "grid_template_columns": null,
            "grid_template_rows": null,
            "height": null,
            "justify_content": null,
            "justify_items": null,
            "left": null,
            "margin": null,
            "max_height": null,
            "max_width": null,
            "min_height": null,
            "min_width": null,
            "object_fit": null,
            "object_position": null,
            "order": null,
            "overflow": null,
            "overflow_x": null,
            "overflow_y": null,
            "padding": null,
            "right": null,
            "top": null,
            "visibility": null,
            "width": null
          }
        },
        "4953db5fcd70480b910eef2579b3f4b8": {
          "model_module": "@jupyter-widgets/controls",
          "model_name": "SliderStyleModel",
          "model_module_version": "1.5.0",
          "state": {
            "_model_module": "@jupyter-widgets/controls",
            "_model_module_version": "1.5.0",
            "_model_name": "SliderStyleModel",
            "_view_count": null,
            "_view_module": "@jupyter-widgets/base",
            "_view_module_version": "1.2.0",
            "_view_name": "StyleView",
            "description_width": "",
            "handle_color": null
          }
        },
        "63921a9b7ca54088a270bb67c4cdd2fa": {
          "model_module": "@jupyter-widgets/base",
          "model_name": "LayoutModel",
          "model_module_version": "1.2.0",
          "state": {
            "_model_module": "@jupyter-widgets/base",
            "_model_module_version": "1.2.0",
            "_model_name": "LayoutModel",
            "_view_count": null,
            "_view_module": "@jupyter-widgets/base",
            "_view_module_version": "1.2.0",
            "_view_name": "LayoutView",
            "align_content": null,
            "align_items": null,
            "align_self": null,
            "border": null,
            "bottom": null,
            "display": null,
            "flex": null,
            "flex_flow": null,
            "grid_area": null,
            "grid_auto_columns": null,
            "grid_auto_flow": null,
            "grid_auto_rows": null,
            "grid_column": null,
            "grid_gap": null,
            "grid_row": null,
            "grid_template_areas": null,
            "grid_template_columns": null,
            "grid_template_rows": null,
            "height": null,
            "justify_content": null,
            "justify_items": null,
            "left": null,
            "margin": null,
            "max_height": null,
            "max_width": null,
            "min_height": null,
            "min_width": null,
            "object_fit": null,
            "object_position": null,
            "order": null,
            "overflow": null,
            "overflow_x": null,
            "overflow_y": null,
            "padding": null,
            "right": null,
            "top": null,
            "visibility": null,
            "width": null
          }
        },
        "6a2d0a69e39a4dfc94ab48ec1c3a84fc": {
          "model_module": "@jupyter-widgets/controls",
          "model_name": "SliderStyleModel",
          "model_module_version": "1.5.0",
          "state": {
            "_model_module": "@jupyter-widgets/controls",
            "_model_module_version": "1.5.0",
            "_model_name": "SliderStyleModel",
            "_view_count": null,
            "_view_module": "@jupyter-widgets/base",
            "_view_module_version": "1.2.0",
            "_view_name": "StyleView",
            "description_width": "",
            "handle_color": null
          }
        },
        "a25911a6a6404ce4b5442e91277a8500": {
          "model_module": "@jupyter-widgets/controls",
          "model_name": "VBoxModel",
          "model_module_version": "1.5.0",
          "state": {
            "_dom_classes": [],
            "_model_module": "@jupyter-widgets/controls",
            "_model_module_version": "1.5.0",
            "_model_name": "VBoxModel",
            "_view_count": null,
            "_view_module": "@jupyter-widgets/controls",
            "_view_module_version": "1.5.0",
            "_view_name": "VBoxView",
            "box_style": "",
            "children": [
              "IPY_MODEL_e0a282f68c0a4e84b6206a62d1e0b573",
              "IPY_MODEL_8f6a5defb4ac4371b132afd13e2cabf3"
            ],
            "layout": "IPY_MODEL_0bb3b26e9b8749fdae74d7417afd5698"
          }
        },
        "e0a282f68c0a4e84b6206a62d1e0b573": {
          "model_module": "@jupyter-widgets/controls",
          "model_name": "HBoxModel",
          "model_module_version": "1.5.0",
          "state": {
            "_dom_classes": [],
            "_model_module": "@jupyter-widgets/controls",
            "_model_module_version": "1.5.0",
            "_model_name": "HBoxModel",
            "_view_count": null,
            "_view_module": "@jupyter-widgets/controls",
            "_view_module_version": "1.5.0",
            "_view_name": "HBoxView",
            "box_style": "",
            "children": [
              "IPY_MODEL_445661aa8600418d97dbe1410d2bd7e7",
              "IPY_MODEL_80a32b0d31c34f198b724e06c92cda8a",
              "IPY_MODEL_2e677db51a324e09b1e96fee37c518ce"
            ],
            "layout": "IPY_MODEL_2cecd7b931864b0aa3e8f453ebb6a3fa"
          }
        },
        "8f6a5defb4ac4371b132afd13e2cabf3": {
          "model_module": "@jupyter-widgets/output",
          "model_name": "OutputModel",
          "model_module_version": "1.0.0",
          "state": {
            "_dom_classes": [],
            "_model_module": "@jupyter-widgets/output",
            "_model_module_version": "1.0.0",
            "_model_name": "OutputModel",
            "_view_count": null,
            "_view_module": "@jupyter-widgets/output",
            "_view_module_version": "1.0.0",
            "_view_name": "OutputView",
            "layout": "IPY_MODEL_713e498aae054256ad2827fb7e042f91",
            "msg_id": "",
            "outputs": [
              {
                "output_type": "display_data",
                "data": {
                  "text/html": "<html>\n<head><meta charset=\"utf-8\" /></head>\n<body>\n    <div>            <script src=\"https://cdnjs.cloudflare.com/ajax/libs/mathjax/2.7.5/MathJax.js?config=TeX-AMS-MML_SVG\"></script><script type=\"text/javascript\">if (window.MathJax && window.MathJax.Hub && window.MathJax.Hub.Config) {window.MathJax.Hub.Config({SVG: {font: \"STIX-Web\"}});}</script>                <script type=\"text/javascript\">window.PlotlyConfig = {MathJaxConfig: 'local'};</script>\n        <script charset=\"utf-8\" src=\"https://cdn.plot.ly/plotly-2.24.1.min.js\"></script>                <div id=\"ef5189ed-c6fa-42bb-a0f8-a442ba9dd335\" class=\"plotly-graph-div\" style=\"height:457px; width:530px;\"></div>            <script type=\"text/javascript\">                                    window.PLOTLYENV=window.PLOTLYENV || {};                                    if (document.getElementById(\"ef5189ed-c6fa-42bb-a0f8-a442ba9dd335\")) {                    Plotly.newPlot(                        \"ef5189ed-c6fa-42bb-a0f8-a442ba9dd335\",                        [{\"marker\":{\"color\":\"red\"},\"mode\":\"lines\",\"name\":\"Cut\",\"x\":[0.0,0.005005005005005005,0.01001001001001001,0.015015015015015015,0.02002002002002002,0.025025025025025023,0.03003003003003003,0.035035035035035036,0.04004004004004004,0.04504504504504504,0.050050050050050046,0.055055055055055056,0.06006006006006006,0.06506506506506507,0.07007007007007007,0.07507507507507508,0.08008008008008008,0.08508508508508508,0.09009009009009009,0.09509509509509509,0.10010010010010009,0.10510510510510511,0.11011011011011011,0.11511511511511512,0.12012012012012012,0.12512512512512514,0.13013013013013014,0.13513513513513514,0.14014014014014015,0.14514514514514515,0.15015015015015015,0.15515515515515516,0.16016016016016016,0.16516516516516516,0.17017017017017017,0.17517517517517517,0.18018018018018017,0.18518518518518517,0.19019019019019018,0.19519519519519518,0.20020020020020018,0.20520520520520522,0.21021021021021022,0.21521521521521522,0.22022022022022023,0.22522522522522523,0.23023023023023023,0.23523523523523523,0.24024024024024024,0.24524524524524524,0.2502502502502503,0.2552552552552553,0.2602602602602603,0.2652652652652653,0.2702702702702703,0.2752752752752753,0.2802802802802803,0.2852852852852853,0.2902902902902903,0.2952952952952953,0.3003003003003003,0.3053053053053053,0.3103103103103103,0.3153153153153153,0.3203203203203203,0.3253253253253253,0.3303303303303303,0.3353353353353353,0.34034034034034033,0.34534534534534533,0.35035035035035034,0.35535535535535534,0.36036036036036034,0.36536536536536535,0.37037037037037035,0.37537537537537535,0.38038038038038036,0.38538538538538536,0.39039039039039036,0.39539539539539537,0.40040040040040037,0.40540540540540543,0.41041041041041043,0.41541541541541543,0.42042042042042044,0.42542542542542544,0.43043043043043044,0.43543543543543545,0.44044044044044045,0.44544544544544545,0.45045045045045046,0.45545545545545546,0.46046046046046046,0.46546546546546547,0.47047047047047047,0.4754754754754755,0.4804804804804805,0.4854854854854855,0.4904904904904905,0.4954954954954955,0.5005005005005005,0.5055055055055055,0.5105105105105106,0.5155155155155156,0.5205205205205206,0.5255255255255256,0.5305305305305306,0.5355355355355356,0.5405405405405406,0.5455455455455456,0.5505505505505506,0.5555555555555556,0.5605605605605606,0.5655655655655656,0.5705705705705706,0.5755755755755756,0.5805805805805806,0.5855855855855856,0.5905905905905906,0.5955955955955956,0.6006006006006006,0.6056056056056056,0.6106106106106106,0.6156156156156156,0.6206206206206206,0.6256256256256256,0.6306306306306306,0.6356356356356356,0.6406406406406406,0.6456456456456456,0.6506506506506506,0.6556556556556556,0.6606606606606606,0.6656656656656657,0.6706706706706707,0.6756756756756757,0.6806806806806807,0.6856856856856857,0.6906906906906907,0.6956956956956957,0.7007007007007007,0.7057057057057057,0.7107107107107107,0.7157157157157157,0.7207207207207207,0.7257257257257257,0.7307307307307307,0.7357357357357357,0.7407407407407407,0.7457457457457457,0.7507507507507507,0.7557557557557557,0.7607607607607607,0.7657657657657657,0.7707707707707707,0.7757757757757757,0.7807807807807807,0.7857857857857857,0.7907907907907907,0.7957957957957957,0.8008008008008007,0.8058058058058059,0.8108108108108109,0.8158158158158159,0.8208208208208209,0.8258258258258259,0.8308308308308309,0.8358358358358359,0.8408408408408409,0.8458458458458459,0.8508508508508509,0.8558558558558559,0.8608608608608609,0.8658658658658659,0.8708708708708709,0.8758758758758759,0.8808808808808809,0.8858858858858859,0.8908908908908909,0.8958958958958959,0.9009009009009009,0.9059059059059059,0.9109109109109109,0.9159159159159159,0.9209209209209209,0.9259259259259259,0.9309309309309309,0.9359359359359359,0.9409409409409409,0.9459459459459459,0.950950950950951,0.955955955955956,0.960960960960961,0.965965965965966,0.970970970970971,0.975975975975976,0.980980980980981,0.985985985985986,0.990990990990991,0.995995995995996,1.001001001001001,1.006006006006006,1.011011011011011,1.016016016016016,1.021021021021021,1.026026026026026,1.031031031031031,1.0360360360360361,1.0410410410410411,1.0460460460460461,1.0510510510510511,1.0560560560560561,1.0610610610610611,1.0660660660660661,1.0710710710710711,1.0760760760760761,1.0810810810810811,1.0860860860860861,1.0910910910910911,1.0960960960960962,1.1011011011011012,1.1061061061061062,1.1111111111111112,1.1161161161161162,1.1211211211211212,1.1261261261261262,1.1311311311311312,1.1361361361361362,1.1411411411411412,1.1461461461461462,1.1511511511511512,1.1561561561561562,1.1611611611611612,1.1661661661661662,1.1711711711711712,1.1761761761761762,1.1811811811811812,1.1861861861861862,1.1911911911911912,1.1961961961961962,1.2012012012012012,1.2062062062062062,1.2112112112112112,1.2162162162162162,1.2212212212212212,1.2262262262262262,1.2312312312312312,1.2362362362362362,1.2412412412412412,1.2462462462462462,1.2512512512512513,1.2562562562562563,1.2612612612612613,1.2662662662662663,1.2712712712712713,1.2762762762762763,1.2812812812812813,1.2862862862862863,1.2912912912912913,1.2962962962962963,1.3013013013013013,1.3063063063063063,1.3113113113113113,1.3163163163163163,1.3213213213213213,1.3263263263263263,1.3313313313313313,1.3363363363363363,1.3413413413413413,1.3463463463463463,1.3513513513513513,1.3563563563563563,1.3613613613613613,1.3663663663663663,1.3713713713713713,1.3763763763763763,1.3813813813813813,1.3863863863863863,1.3913913913913913,1.3963963963963963,1.4014014014014013,1.4064064064064064,1.4114114114114114,1.4164164164164164,1.4214214214214214,1.4264264264264264,1.4314314314314314,1.4364364364364364,1.4414414414414414,1.4464464464464464,1.4514514514514514,1.4564564564564564,1.4614614614614614,1.4664664664664664,1.4714714714714714,1.4764764764764764,1.4814814814814814,1.4864864864864864,1.4914914914914914,1.4964964964964964,1.5015015015015014,1.5065065065065064,1.5115115115115114,1.5165165165165164,1.5215215215215214,1.5265265265265264,1.5315315315315314,1.5365365365365364,1.5415415415415414,1.5465465465465464,1.5515515515515514,1.5565565565565564,1.5615615615615615,1.5665665665665665,1.5715715715715715,1.5765765765765765,1.5815815815815815,1.5865865865865865,1.5915915915915915,1.5965965965965965,1.6016016016016015,1.6066066066066067,1.6116116116116117,1.6166166166166167,1.6216216216216217,1.6266266266266267,1.6316316316316317,1.6366366366366367,1.6416416416416417,1.6466466466466467,1.6516516516516517,1.6566566566566567,1.6616616616616617,1.6666666666666667,1.6716716716716717,1.6766766766766767,1.6816816816816818,1.6866866866866868,1.6916916916916918,1.6966966966966968,1.7017017017017018,1.7067067067067068,1.7117117117117118,1.7167167167167168,1.7217217217217218,1.7267267267267268,1.7317317317317318,1.7367367367367368,1.7417417417417418,1.7467467467467468,1.7517517517517518,1.7567567567567568,1.7617617617617618,1.7667667667667668,1.7717717717717718,1.7767767767767768,1.7817817817817818,1.7867867867867868,1.7917917917917918,1.7967967967967968,1.8018018018018018,1.8068068068068068,1.8118118118118118,1.8168168168168168,1.8218218218218218,1.8268268268268268,1.8318318318318318,1.8368368368368369,1.8418418418418419,1.8468468468468469,1.8518518518518519,1.8568568568568569,1.8618618618618619,1.8668668668668669,1.8718718718718719,1.8768768768768769,1.8818818818818819,1.8868868868868869,1.8918918918918919,1.896896896896897,1.901901901901902,1.906906906906907,1.911911911911912,1.916916916916917,1.921921921921922,1.926926926926927,1.931931931931932,1.936936936936937,1.941941941941942,1.946946946946947,1.951951951951952,1.956956956956957,1.961961961961962,1.966966966966967,1.971971971971972,1.976976976976977,1.981981981981982,1.986986986986987,1.991991991991992,1.996996996996997,2.002002002002002,2.007007007007007,2.012012012012012,2.017017017017017,2.022022022022022,2.027027027027027,2.032032032032032,2.037037037037037,2.042042042042042,2.047047047047047,2.052052052052052,2.057057057057057,2.062062062062062,2.067067067067067,2.0720720720720722,2.0770770770770772,2.0820820820820822,2.0870870870870872,2.0920920920920922,2.0970970970970972,2.1021021021021022,2.1071071071071072,2.1121121121121122,2.1171171171171173,2.1221221221221223,2.1271271271271273,2.1321321321321323,2.1371371371371373,2.1421421421421423,2.1471471471471473,2.1521521521521523,2.1571571571571573,2.1621621621621623,2.1671671671671673,2.1721721721721723,2.1771771771771773,2.1821821821821823,2.1871871871871873,2.1921921921921923,2.1971971971971973,2.2022022022022023,2.2072072072072073,2.2122122122122123,2.2172172172172173,2.2222222222222223,2.2272272272272273,2.2322322322322323,2.2372372372372373,2.2422422422422423,2.2472472472472473,2.2522522522522523,2.2572572572572573,2.2622622622622623,2.2672672672672673,2.2722722722722724,2.2772772772772774,2.2822822822822824,2.2872872872872874,2.2922922922922924,2.2972972972972974,2.3023023023023024,2.3073073073073074,2.3123123123123124,2.3173173173173174,2.3223223223223224,2.3273273273273274,2.3323323323323324,2.3373373373373374,2.3423423423423424,2.3473473473473474,2.3523523523523524,2.3573573573573574,2.3623623623623624,2.3673673673673674,2.3723723723723724,2.3773773773773774,2.3823823823823824,2.3873873873873874,2.3923923923923924,2.3973973973973974,2.4024024024024024,2.4074074074074074,2.4124124124124124,2.4174174174174174,2.4224224224224224,2.4274274274274275,2.4324324324324325,2.4374374374374375,2.4424424424424425,2.4474474474474475,2.4524524524524525,2.4574574574574575,2.4624624624624625,2.4674674674674675,2.4724724724724725,2.4774774774774775,2.4824824824824825,2.4874874874874875,2.4924924924924925,2.4974974974974975,2.5025025025025025,2.5075075075075075,2.5125125125125125,2.5175175175175175,2.5225225225225225,2.5275275275275275,2.5325325325325325,2.5375375375375375,2.5425425425425425,2.5475475475475475,2.5525525525525525,2.5575575575575575,2.5625625625625625,2.5675675675675675,2.5725725725725725,2.5775775775775776,2.5825825825825826,2.5875875875875876,2.5925925925925926,2.5975975975975976,2.6026026026026026,2.6076076076076076,2.6126126126126126,2.6176176176176176,2.6226226226226226,2.6276276276276276,2.6326326326326326,2.6376376376376376,2.6426426426426426,2.6476476476476476,2.6526526526526526,2.6576576576576576,2.6626626626626626,2.6676676676676676,2.6726726726726726,2.6776776776776776,2.6826826826826826,2.6876876876876876,2.6926926926926926,2.6976976976976976,2.7027027027027026,2.7077077077077076,2.7127127127127126,2.7177177177177176,2.7227227227227226,2.7277277277277276,2.7327327327327327,2.7377377377377377,2.7427427427427427,2.7477477477477477,2.7527527527527527,2.7577577577577577,2.7627627627627627,2.7677677677677677,2.7727727727727727,2.7777777777777777,2.7827827827827827,2.7877877877877877,2.7927927927927927,2.7977977977977977,2.8028028028028027,2.8078078078078077,2.8128128128128127,2.8178178178178177,2.8228228228228227,2.8278278278278277,2.8328328328328327,2.8378378378378377,2.8428428428428427,2.8478478478478477,2.8528528528528527,2.8578578578578577,2.8628628628628627,2.8678678678678677,2.8728728728728727,2.8778778778778777,2.8828828828828827,2.8878878878878878,2.8928928928928928,2.8978978978978978,2.9029029029029028,2.9079079079079078,2.9129129129129128,2.9179179179179178,2.9229229229229228,2.9279279279279278,2.932932932932933,2.937937937937938,2.942942942942943,2.947947947947948,2.952952952952953,2.957957957957958,2.962962962962963,2.967967967967968,2.972972972972973,2.977977977977978,2.982982982982983,2.987987987987988,2.992992992992993,2.997997997997998,3.003003003003003,3.008008008008008,3.013013013013013,3.018018018018018,3.023023023023023,3.028028028028028,3.033033033033033,3.038038038038038,3.043043043043043,3.048048048048048,3.053053053053053,3.058058058058058,3.063063063063063,3.068068068068068,3.073073073073073,3.078078078078078,3.083083083083083,3.088088088088088,3.093093093093093,3.098098098098098,3.103103103103103,3.108108108108108,3.113113113113113,3.118118118118118,3.123123123123123,3.128128128128128,3.133133133133133,3.138138138138138,3.143143143143143,3.148148148148148,3.153153153153153,3.158158158158158,3.163163163163163,3.168168168168168,3.173173173173173,3.178178178178178,3.183183183183183,3.188188188188188,3.193193193193193,3.198198198198198,3.203203203203203,3.2082082082082084,3.2132132132132134,3.2182182182182184,3.2232232232232234,3.2282282282282284,3.2332332332332334,3.2382382382382384,3.2432432432432434,3.2482482482482484,3.2532532532532534,3.2582582582582584,3.2632632632632634,3.2682682682682684,3.2732732732732734,3.2782782782782784,3.2832832832832834,3.2882882882882885,3.2932932932932935,3.2982982982982985,3.3033033033033035,3.3083083083083085,3.3133133133133135,3.3183183183183185,3.3233233233233235,3.3283283283283285,3.3333333333333335,3.3383383383383385,3.3433433433433435,3.3483483483483485,3.3533533533533535,3.3583583583583585,3.3633633633633635,3.3683683683683685,3.3733733733733735,3.3783783783783785,3.3833833833833835,3.3883883883883885,3.3933933933933935,3.3983983983983985,3.4034034034034035,3.4084084084084085,3.4134134134134135,3.4184184184184185,3.4234234234234235,3.4284284284284285,3.4334334334334335,3.4384384384384385,3.4434434434434436,3.4484484484484486,3.4534534534534536,3.4584584584584586,3.4634634634634636,3.4684684684684686,3.4734734734734736,3.4784784784784786,3.4834834834834836,3.4884884884884886,3.4934934934934936,3.4984984984984986,3.5035035035035036,3.5085085085085086,3.5135135135135136,3.5185185185185186,3.5235235235235236,3.5285285285285286,3.5335335335335336,3.5385385385385386,3.5435435435435436,3.5485485485485486,3.5535535535535536,3.5585585585585586,3.5635635635635636,3.5685685685685686,3.5735735735735736,3.5785785785785786,3.5835835835835836,3.5885885885885886,3.5935935935935936,3.5985985985985987,3.6036036036036037,3.6086086086086087,3.6136136136136137,3.6186186186186187,3.6236236236236237,3.6286286286286287,3.6336336336336337,3.6386386386386387,3.6436436436436437,3.6486486486486487,3.6536536536536537,3.6586586586586587,3.6636636636636637,3.6686686686686687,3.6736736736736737,3.6786786786786787,3.6836836836836837,3.6886886886886887,3.6936936936936937,3.6986986986986987,3.7037037037037037,3.7087087087087087,3.7137137137137137,3.7187187187187187,3.7237237237237237,3.7287287287287287,3.7337337337337337,3.7387387387387387,3.7437437437437437,3.7487487487487487,3.7537537537537538,3.7587587587587588,3.7637637637637638,3.7687687687687688,3.7737737737737738,3.7787787787787788,3.7837837837837838,3.7887887887887888,3.793793793793794,3.798798798798799,3.803803803803804,3.808808808808809,3.813813813813814,3.818818818818819,3.823823823823824,3.828828828828829,3.833833833833834,3.838838838838839,3.843843843843844,3.848848848848849,3.853853853853854,3.858858858858859,3.863863863863864,3.868868868868869,3.873873873873874,3.878878878878879,3.883883883883884,3.888888888888889,3.893893893893894,3.898898898898899,3.903903903903904,3.908908908908909,3.913913913913914,3.918918918918919,3.923923923923924,3.928928928928929,3.933933933933934,3.938938938938939,3.943943943943944,3.948948948948949,3.953953953953954,3.958958958958959,3.963963963963964,3.968968968968969,3.973973973973974,3.978978978978979,3.983983983983984,3.988988988988989,3.993993993993994,3.998998998998999,4.004004004004004,4.009009009009009,4.014014014014014,4.019019019019019,4.024024024024024,4.029029029029029,4.034034034034034,4.039039039039039,4.044044044044044,4.049049049049049,4.054054054054054,4.059059059059059,4.064064064064064,4.069069069069069,4.074074074074074,4.079079079079079,4.084084084084084,4.089089089089089,4.094094094094094,4.099099099099099,4.104104104104104,4.109109109109109,4.114114114114114,4.119119119119119,4.124124124124124,4.129129129129129,4.134134134134134,4.1391391391391394,4.1441441441441444,4.1491491491491495,4.1541541541541545,4.1591591591591595,4.1641641641641645,4.1691691691691695,4.1741741741741745,4.1791791791791795,4.1841841841841845,4.1891891891891895,4.1941941941941945,4.1991991991991995,4.2042042042042045,4.2092092092092095,4.2142142142142145,4.2192192192192195,4.2242242242242245,4.2292292292292295,4.2342342342342345,4.2392392392392395,4.2442442442442445,4.2492492492492495,4.2542542542542545,4.2592592592592595,4.2642642642642645,4.2692692692692695,4.2742742742742745,4.2792792792792795,4.2842842842842845,4.2892892892892895,4.2942942942942945,4.2992992992992995,4.3043043043043046,4.3093093093093096,4.314314314314315,4.31931931931932,4.324324324324325,4.32932932932933,4.334334334334335,4.33933933933934,4.344344344344345,4.34934934934935,4.354354354354355,4.35935935935936,4.364364364364365,4.36936936936937,4.374374374374375,4.37937937937938,4.384384384384385,4.38938938938939,4.394394394394395,4.3993993993994,4.404404404404405,4.40940940940941,4.414414414414415,4.41941941941942,4.424424424424425,4.42942942942943,4.434434434434435,4.43943943943944,4.444444444444445,4.44944944944945,4.454454454454455,4.45945945945946,4.464464464464465,4.46946946946947,4.474474474474475,4.47947947947948,4.484484484484485,4.48948948948949,4.494494494494495,4.4994994994995,4.504504504504505,4.50950950950951,4.514514514514515,4.51951951951952,4.524524524524525,4.52952952952953,4.534534534534535,4.53953953953954,4.544544544544545,4.54954954954955,4.554554554554555,4.55955955955956,4.564564564564565,4.56956956956957,4.574574574574575,4.57957957957958,4.584584584584585,4.58958958958959,4.594594594594595,4.5995995995996,4.604604604604605,4.60960960960961,4.614614614614615,4.61961961961962,4.624624624624625,4.62962962962963,4.634634634634635,4.63963963963964,4.644644644644645,4.64964964964965,4.654654654654655,4.65965965965966,4.664664664664665,4.66966966966967,4.674674674674675,4.67967967967968,4.684684684684685,4.68968968968969,4.694694694694695,4.6996996996997,4.704704704704705,4.70970970970971,4.714714714714715,4.71971971971972,4.724724724724725,4.72972972972973,4.734734734734735,4.73973973973974,4.744744744744745,4.74974974974975,4.754754754754755,4.75975975975976,4.764764764764765,4.76976976976977,4.774774774774775,4.77977977977978,4.784784784784785,4.78978978978979,4.794794794794795,4.7997997997998,4.804804804804805,4.80980980980981,4.814814814814815,4.81981981981982,4.824824824824825,4.82982982982983,4.834834834834835,4.83983983983984,4.844844844844845,4.84984984984985,4.854854854854855,4.85985985985986,4.864864864864865,4.86986986986987,4.874874874874875,4.87987987987988,4.884884884884885,4.88988988988989,4.894894894894895,4.8998998998999,4.904904904904905,4.90990990990991,4.914914914914915,4.91991991991992,4.924924924924925,4.92992992992993,4.934934934934935,4.93993993993994,4.944944944944945,4.94994994994995,4.954954954954955,4.95995995995996,4.964964964964965,4.96996996996997,4.974974974974975,4.97997997997998,4.984984984984985,4.98998998998999,4.994994994994995,5.0],\"y\":[0.00081,0.00081,0.00081,0.00081,0.00081,0.00081,0.00081,0.00081,0.00081,0.00081,0.00081,0.00081,0.00081,0.00081,0.00081,0.00081,0.00081,0.00081,0.00081,0.00081,0.00081,0.00081,0.00081,0.00081,0.00081,0.00081,0.00081,0.00081,0.00081,0.00081,0.00081,0.00081,0.00081,0.00081,0.00081,0.00081,0.00081,0.00081,0.00081,0.00081,0.00081,0.00081,0.00081,0.00081,0.00081,0.00081,0.00081,0.00081,0.00081,0.00081,0.00081,0.00081,0.00081,0.00081,0.00081,0.00081,0.00081,0.00081,0.00081,0.00081,0.00081,0.00081,0.00081,0.00081,0.00081,0.00081,0.00081,0.00081,0.00081,0.00081,0.00081,0.00081,0.00081,0.00081,0.00081,0.00081,0.00081,0.00081,0.00081,0.00081,0.00081,0.00081,0.00081,0.00081,0.00081,0.00081,0.00081,0.00081,0.00081,0.00081,0.00081,0.00081,0.00081,0.00081,0.00081,0.00081,0.00081,0.00081,0.00081,0.00081,0.00081,0.00081,0.00081,0.00081,0.00081,0.00081,0.00081,0.00081,0.00081,0.00081,0.00081,0.00081,0.00081,0.00081,0.00081,0.00081,0.00081,0.00081,0.00081,0.00081,0.00081,0.00081,0.00081,0.00081,0.00081,0.00081,0.00081,0.00081,0.00081,0.00081,0.00081,0.00081,0.00081,0.00081,0.00081,0.00081,0.00081,0.00081,0.00081,0.00081,0.00081,0.00081,0.00081,0.00081,0.00081,0.00081,0.00081,0.00081,0.00081,0.00081,0.00081,0.00081,0.00081,0.00081,0.00081,0.00081,0.00081,0.00081,0.00081,0.00081,0.00081,0.00081,0.00081,0.00081,0.00081,0.00081,0.00081,0.00081,0.00081,0.00081,0.00081,0.00081,0.00081,0.00081,0.00081,0.00081,0.00081,0.00081,0.00081,0.00081,0.00081,0.00081,0.00081,0.00081,0.00081,0.00081,0.00081,0.00081,0.00081,0.00081,0.00081,0.00081,0.00081,0.00081,0.00081,0.00081,0.00081,0.00081,0.00081,0.00081,0.00081,0.00081,0.00081,0.00081,0.00081,0.00081,0.00081,0.00081,0.00081,0.00081,0.00081,0.00081,0.00081,0.00081,0.00081,0.00081,0.00081,0.00081,0.00081,0.00081,0.00081,0.00081,0.00081,0.00081,0.00081,0.00081,0.00081,0.00081,0.00081,0.00081,0.00081,0.00081,0.00081,0.00081,0.00081,0.00081,0.00081,0.00081,0.00081,0.00081,0.00081,0.00081,0.00081,0.00081,0.00081,0.00081,0.00081,0.00081,0.00081,0.00081,0.00081,0.00081,0.00081,0.00081,0.00081,0.00081,0.00081,0.00081,0.00081,0.00081,0.00081,0.00081,0.00081,0.00081,0.00081,0.00081,0.00081,0.00081,0.00081,0.00081,0.00081,0.00081,0.00081,0.00081,0.00081,0.00081,0.00081,0.00081,0.00081,0.00081,0.00081,0.00081,0.00081,0.00081,0.00081,0.00081,0.00081,0.00081,0.00081,0.00081,0.00081,0.00081,0.00081,0.00081,0.00081,0.00081,0.00081,0.00081,0.00081,0.00081,0.00081,0.00081,0.00081,0.00081,0.00081,0.00081,0.00081,0.00081,0.00081,0.00081,0.00081,0.00081,0.00081,0.00081,0.00081,0.00081,0.00081,0.00081,0.00081,0.00081,0.00081,0.00081,0.00081,0.00081,0.00081,0.00081,0.00081,0.00081,0.00081,0.00081,0.00081,0.00081,0.00081,0.00081,0.00081,0.00081,0.00081,0.00081,0.00081,0.00081,0.00081,0.00081,0.00081,0.00081,0.00081,0.00081,0.00081,0.00081,0.00081,0.00081,0.00081,0.00081,0.00081,0.00081,0.00081,0.00081,0.00081,0.00081,0.00081,0.00081,0.00081,0.00081,0.00081,0.00081,0.00081,0.00081,0.00081,0.00081,0.00081,0.00081,0.00081,0.00081,0.00081,0.00081,0.00081,0.00081,0.00081,0.00081,0.00081,0.00081,0.00081,0.00081,0.00081,0.00081,0.00081,0.00081,0.00081,0.00081,0.00081,0.00081,0.00081,0.00081,0.00081,0.00081,0.00081,0.00081,0.00081,0.00081,0.00081,0.00081,0.00081,0.00081,0.00081,0.00081,0.00081,0.00081,0.00081,0.00081,0.00081,0.00081,0.00081,0.00081,0.00081,0.00081,0.00081,0.00081,0.00081,0.00081,0.00081,0.00081,0.00081,0.00081,0.00081,0.00081,0.00081,0.00081,0.00081,0.00081,0.00081,0.00081,0.00081,0.00081,0.00081,0.00081,0.00081,0.00081,0.00081,0.00081,0.00081,0.00081,0.00081,0.00081,0.00081,0.00081,0.00081,0.00081,0.00081,0.00081,0.00081,0.00081,0.00081,0.00081,0.00081,0.00081,0.00081,0.00081,0.00081,0.00081,0.00081,0.00081,0.00081,0.00081,0.00081,0.00081,0.00081,0.00081,0.00081,0.00081,0.00081,0.00081,0.00081,0.00081,0.00081,0.00081,0.00081,0.00081,0.00081,0.00081,0.00081,0.00081,0.00081,0.00081,0.00081,0.00081,0.00081,0.00081,0.00081,0.00081,0.00081,0.00081,0.00081,0.00081,0.00081,0.00081,0.00081,0.00081,0.00081,0.00081,0.00081,0.00081,0.00081,0.00081,0.00081,0.00081,0.00081,0.00081,0.00081,0.00081,0.00081,0.00081,0.00081,0.00081,0.00081,0.00081,0.00081,0.00081,0.00081,0.00081,0.00081,0.00081,0.00081,0.00081,0.00081,0.00081,0.00081,0.00081,0.00081,0.00081,0.00081,0.00081,0.00081,0.00081,0.00081,0.00081,0.00081,0.00081,0.00081,0.00081,0.00081,0.00081,0.00081,0.00081,0.00081,0.00081,0.00081,0.00081,0.00081,0.00081,0.00081,0.00081,0.00081,0.00081,0.00081,0.00081,0.00081,0.00081,0.00081,0.00081,0.00081,0.00081,0.00081,0.00081,0.00081,0.00081,0.00081,0.00081,0.00081,0.00081,0.00081,0.00081,0.00081,0.00081,0.00081,0.00081,0.00081,0.00081,0.00081,0.00081,0.00081,0.00081,0.00081,0.00081,0.00081,0.00081,0.00081,0.00081,0.00081,0.00081,0.00081,0.00081,0.00081,0.00081,0.00081,0.00081,0.00081,0.00081,0.00081,0.00081,0.00081,0.00081,0.00081,0.00081,0.00081,0.00081,0.00081,0.00081,0.00081,0.00081,0.00081,0.00081,0.00081,0.00081,0.00081,0.00081,0.00081,0.00081,0.00081,0.00081,0.00081,0.00081,0.00081,0.00081,0.00081,0.00081,0.00081,0.00081,0.00081,0.00081,0.00081,0.00081,0.00081,0.00081,0.00081,0.00081,0.00081,0.00081,0.00081,0.00081,0.00081,0.00081,0.00081,0.00081,0.00081,0.00081,0.00081,0.00081,0.00081,0.00081,0.00081,0.00081,0.00081,0.00081,0.00081,0.00081,0.00081,0.00081,0.00081,0.00081,0.00081,0.00081,0.00081,0.00081,0.00081,0.00081,0.00081,0.00081,0.00081,0.00081,0.00081,0.00081,0.00081,0.00081,0.00081,0.00081,0.00081,0.00081,0.00081,0.00081,0.00081,0.00081,0.00081,0.00081,0.00081,0.00081,0.00081,0.00081,0.00081,0.00081,0.00081,0.00081,0.00081,0.00081,0.00081,0.00081,0.00081,0.00081,0.00081,0.00081,0.00081,0.00081,0.00081,0.00081,0.00081,0.00081,0.00081,0.00081,0.00081,0.00081,0.00081,0.00081,0.00081,0.00081,0.00081,0.00081,0.00081,0.00081,0.00081,0.00081,0.00081,0.00081,0.00081,0.00081,0.00081,0.00081,0.00081,0.00081,0.00081,0.00081,0.00081,0.00081,0.00081,0.00081,0.00081,0.00081,0.00081,0.00081,0.00081,0.00081,0.00081,0.00081,0.00081,0.00081,0.00081,0.00081,0.00081,0.00081,0.00081,0.00081,0.00081,0.00081,0.00081,0.00081,0.00081,0.00081,0.00081,0.00081,0.00081,0.00081,0.00081,0.00081,0.00081,0.00081,0.00081,0.00081,0.00081,0.00081,0.00081,0.00081,0.00081,0.00081,0.00081,0.00081,0.00081,0.00081,0.00081,0.00081,0.00081,0.00081,0.00081,0.00081,0.00081,0.00081,0.00081,0.00081,0.00081,0.00081,0.00081,0.00081,0.00081,0.00081,0.00081,0.00081,0.00081,0.00081,0.00081,0.00081,0.00081,0.00081,0.00081,0.00081,0.00081,0.00081,0.00081,0.00081,0.00081,0.00081,0.00081,0.00081,0.00081,0.00081,0.00081,0.00081,0.00081,0.00081,0.00081,0.00081,0.00081,0.00081,0.00081,0.00081,0.00081,0.00081,0.00081,0.00081,0.00081,0.00081,0.00081,0.00081,0.00081,0.00081,0.00081,0.00081,0.00081,0.00081,0.00081,0.00081,0.00081,0.00081,0.00081,0.00081,0.00081,0.00081,0.00081,0.00081,0.00081,0.00081,0.00081,0.00081,0.00081,0.00081,0.00081,0.00081,0.00081,0.00081,0.00081,0.00081,0.00081,0.00081,0.00081,0.00081,0.00081,0.00081,0.00081,0.00081,0.00081,0.00081,0.00081,0.00081,0.00081,0.00081,0.00081,0.00081,0.00081,0.00081,0.00081,0.00081,0.00081,0.00081,0.00081,0.00081,0.00081,0.00081,0.00081,0.00081,0.00081,0.00081,0.00081,0.00081,0.00081,0.00081,0.00081,0.00081,0.00081,0.00081,0.00081,0.00081,0.00081,0.00081,0.00081,0.00081,0.00081,0.00081,0.00081,0.00081,0.00081,0.00081,0.00081,0.00081,0.00081,0.00081,0.00081,0.00081,0.00081,0.00081,0.00081,0.00081,0.00081,0.00081,0.00081,0.00081,0.00081,0.00081,0.00081,0.00081,0.00081,0.00081,0.00081,0.00081,0.00081,0.00081,0.00081,0.00081,0.00081,0.00081,0.00081,0.00081,0.00081,0.00081,0.00081,0.00081,0.00081,0.00081,0.00081,0.00081,0.00081,0.00081,0.00081,0.00081,0.00081,0.00081,0.00081,0.00081,0.00081,0.00081,0.00081,0.00081,0.00081,0.00081,0.00081,0.00081,0.00081,0.00081,0.00081,0.00081,0.00081,0.00081,0.00081,0.00081,0.00081,0.00081,0.00081,0.00081,0.00081,0.00081,0.00081,0.00081,0.00081,0.00081,0.00081,0.00081,0.00081,0.00081,0.00081,0.00081,0.00081,0.00081,0.00081,0.00081,0.00081,0.00081,0.00081,0.00081,0.00081,0.00081,0.00081,0.00081,0.00081,0.00081,0.00081,0.00081],\"type\":\"scatter\",\"uid\":\"967da3be-b188-4f8e-a2ca-1a00c940d33b\"}],                        {\"template\":{\"data\":{\"barpolar\":[{\"marker\":{\"line\":{\"color\":\"white\",\"width\":0.5},\"pattern\":{\"fillmode\":\"overlay\",\"size\":10,\"solidity\":0.2}},\"type\":\"barpolar\"}],\"bar\":[{\"error_x\":{\"color\":\"#2a3f5f\"},\"error_y\":{\"color\":\"#2a3f5f\"},\"marker\":{\"line\":{\"color\":\"white\",\"width\":0.5},\"pattern\":{\"fillmode\":\"overlay\",\"size\":10,\"solidity\":0.2}},\"type\":\"bar\"}],\"carpet\":[{\"aaxis\":{\"endlinecolor\":\"#2a3f5f\",\"gridcolor\":\"#C8D4E3\",\"linecolor\":\"#C8D4E3\",\"minorgridcolor\":\"#C8D4E3\",\"startlinecolor\":\"#2a3f5f\"},\"baxis\":{\"endlinecolor\":\"#2a3f5f\",\"gridcolor\":\"#C8D4E3\",\"linecolor\":\"#C8D4E3\",\"minorgridcolor\":\"#C8D4E3\",\"startlinecolor\":\"#2a3f5f\"},\"type\":\"carpet\"}],\"choropleth\":[{\"colorbar\":{\"outlinewidth\":0,\"ticks\":\"\"},\"type\":\"choropleth\"}],\"contourcarpet\":[{\"colorbar\":{\"outlinewidth\":0,\"ticks\":\"\"},\"type\":\"contourcarpet\"}],\"contour\":[{\"colorbar\":{\"outlinewidth\":0,\"ticks\":\"\"},\"colorscale\":[[0.0,\"#0d0887\"],[0.1111111111111111,\"#46039f\"],[0.2222222222222222,\"#7201a8\"],[0.3333333333333333,\"#9c179e\"],[0.4444444444444444,\"#bd3786\"],[0.5555555555555556,\"#d8576b\"],[0.6666666666666666,\"#ed7953\"],[0.7777777777777778,\"#fb9f3a\"],[0.8888888888888888,\"#fdca26\"],[1.0,\"#f0f921\"]],\"type\":\"contour\"}],\"heatmapgl\":[{\"colorbar\":{\"outlinewidth\":0,\"ticks\":\"\"},\"colorscale\":[[0.0,\"#0d0887\"],[0.1111111111111111,\"#46039f\"],[0.2222222222222222,\"#7201a8\"],[0.3333333333333333,\"#9c179e\"],[0.4444444444444444,\"#bd3786\"],[0.5555555555555556,\"#d8576b\"],[0.6666666666666666,\"#ed7953\"],[0.7777777777777778,\"#fb9f3a\"],[0.8888888888888888,\"#fdca26\"],[1.0,\"#f0f921\"]],\"type\":\"heatmapgl\"}],\"heatmap\":[{\"colorbar\":{\"outlinewidth\":0,\"ticks\":\"\"},\"colorscale\":[[0.0,\"#0d0887\"],[0.1111111111111111,\"#46039f\"],[0.2222222222222222,\"#7201a8\"],[0.3333333333333333,\"#9c179e\"],[0.4444444444444444,\"#bd3786\"],[0.5555555555555556,\"#d8576b\"],[0.6666666666666666,\"#ed7953\"],[0.7777777777777778,\"#fb9f3a\"],[0.8888888888888888,\"#fdca26\"],[1.0,\"#f0f921\"]],\"type\":\"heatmap\"}],\"histogram2dcontour\":[{\"colorbar\":{\"outlinewidth\":0,\"ticks\":\"\"},\"colorscale\":[[0.0,\"#0d0887\"],[0.1111111111111111,\"#46039f\"],[0.2222222222222222,\"#7201a8\"],[0.3333333333333333,\"#9c179e\"],[0.4444444444444444,\"#bd3786\"],[0.5555555555555556,\"#d8576b\"],[0.6666666666666666,\"#ed7953\"],[0.7777777777777778,\"#fb9f3a\"],[0.8888888888888888,\"#fdca26\"],[1.0,\"#f0f921\"]],\"type\":\"histogram2dcontour\"}],\"histogram2d\":[{\"colorbar\":{\"outlinewidth\":0,\"ticks\":\"\"},\"colorscale\":[[0.0,\"#0d0887\"],[0.1111111111111111,\"#46039f\"],[0.2222222222222222,\"#7201a8\"],[0.3333333333333333,\"#9c179e\"],[0.4444444444444444,\"#bd3786\"],[0.5555555555555556,\"#d8576b\"],[0.6666666666666666,\"#ed7953\"],[0.7777777777777778,\"#fb9f3a\"],[0.8888888888888888,\"#fdca26\"],[1.0,\"#f0f921\"]],\"type\":\"histogram2d\"}],\"histogram\":[{\"marker\":{\"pattern\":{\"fillmode\":\"overlay\",\"size\":10,\"solidity\":0.2}},\"type\":\"histogram\"}],\"mesh3d\":[{\"colorbar\":{\"outlinewidth\":0,\"ticks\":\"\"},\"type\":\"mesh3d\"}],\"parcoords\":[{\"line\":{\"colorbar\":{\"outlinewidth\":0,\"ticks\":\"\"}},\"type\":\"parcoords\"}],\"pie\":[{\"automargin\":true,\"type\":\"pie\"}],\"scatter3d\":[{\"line\":{\"colorbar\":{\"outlinewidth\":0,\"ticks\":\"\"}},\"marker\":{\"colorbar\":{\"outlinewidth\":0,\"ticks\":\"\"}},\"type\":\"scatter3d\"}],\"scattercarpet\":[{\"marker\":{\"colorbar\":{\"outlinewidth\":0,\"ticks\":\"\"}},\"type\":\"scattercarpet\"}],\"scattergeo\":[{\"marker\":{\"colorbar\":{\"outlinewidth\":0,\"ticks\":\"\"}},\"type\":\"scattergeo\"}],\"scattergl\":[{\"marker\":{\"colorbar\":{\"outlinewidth\":0,\"ticks\":\"\"}},\"type\":\"scattergl\"}],\"scattermapbox\":[{\"marker\":{\"colorbar\":{\"outlinewidth\":0,\"ticks\":\"\"}},\"type\":\"scattermapbox\"}],\"scatterpolargl\":[{\"marker\":{\"colorbar\":{\"outlinewidth\":0,\"ticks\":\"\"}},\"type\":\"scatterpolargl\"}],\"scatterpolar\":[{\"marker\":{\"colorbar\":{\"outlinewidth\":0,\"ticks\":\"\"}},\"type\":\"scatterpolar\"}],\"scatter\":[{\"fillpattern\":{\"fillmode\":\"overlay\",\"size\":10,\"solidity\":0.2},\"type\":\"scatter\"}],\"scatterternary\":[{\"marker\":{\"colorbar\":{\"outlinewidth\":0,\"ticks\":\"\"}},\"type\":\"scatterternary\"}],\"surface\":[{\"colorbar\":{\"outlinewidth\":0,\"ticks\":\"\"},\"colorscale\":[[0.0,\"#0d0887\"],[0.1111111111111111,\"#46039f\"],[0.2222222222222222,\"#7201a8\"],[0.3333333333333333,\"#9c179e\"],[0.4444444444444444,\"#bd3786\"],[0.5555555555555556,\"#d8576b\"],[0.6666666666666666,\"#ed7953\"],[0.7777777777777778,\"#fb9f3a\"],[0.8888888888888888,\"#fdca26\"],[1.0,\"#f0f921\"]],\"type\":\"surface\"}],\"table\":[{\"cells\":{\"fill\":{\"color\":\"#EBF0F8\"},\"line\":{\"color\":\"white\"}},\"header\":{\"fill\":{\"color\":\"#C8D4E3\"},\"line\":{\"color\":\"white\"}},\"type\":\"table\"}]},\"layout\":{\"annotationdefaults\":{\"arrowcolor\":\"#2a3f5f\",\"arrowhead\":0,\"arrowwidth\":1},\"autotypenumbers\":\"strict\",\"coloraxis\":{\"colorbar\":{\"outlinewidth\":0,\"ticks\":\"\"}},\"colorscale\":{\"diverging\":[[0,\"#8e0152\"],[0.1,\"#c51b7d\"],[0.2,\"#de77ae\"],[0.3,\"#f1b6da\"],[0.4,\"#fde0ef\"],[0.5,\"#f7f7f7\"],[0.6,\"#e6f5d0\"],[0.7,\"#b8e186\"],[0.8,\"#7fbc41\"],[0.9,\"#4d9221\"],[1,\"#276419\"]],\"sequential\":[[0.0,\"#0d0887\"],[0.1111111111111111,\"#46039f\"],[0.2222222222222222,\"#7201a8\"],[0.3333333333333333,\"#9c179e\"],[0.4444444444444444,\"#bd3786\"],[0.5555555555555556,\"#d8576b\"],[0.6666666666666666,\"#ed7953\"],[0.7777777777777778,\"#fb9f3a\"],[0.8888888888888888,\"#fdca26\"],[1.0,\"#f0f921\"]],\"sequentialminus\":[[0.0,\"#0d0887\"],[0.1111111111111111,\"#46039f\"],[0.2222222222222222,\"#7201a8\"],[0.3333333333333333,\"#9c179e\"],[0.4444444444444444,\"#bd3786\"],[0.5555555555555556,\"#d8576b\"],[0.6666666666666666,\"#ed7953\"],[0.7777777777777778,\"#fb9f3a\"],[0.8888888888888888,\"#fdca26\"],[1.0,\"#f0f921\"]]},\"colorway\":[\"#636efa\",\"#EF553B\",\"#00cc96\",\"#ab63fa\",\"#FFA15A\",\"#19d3f3\",\"#FF6692\",\"#B6E880\",\"#FF97FF\",\"#FECB52\"],\"font\":{\"color\":\"#2a3f5f\"},\"geo\":{\"bgcolor\":\"white\",\"lakecolor\":\"white\",\"landcolor\":\"white\",\"showlakes\":true,\"showland\":true,\"subunitcolor\":\"#C8D4E3\"},\"hoverlabel\":{\"align\":\"left\"},\"hovermode\":\"closest\",\"mapbox\":{\"style\":\"light\"},\"paper_bgcolor\":\"white\",\"plot_bgcolor\":\"white\",\"polar\":{\"angularaxis\":{\"gridcolor\":\"#EBF0F8\",\"linecolor\":\"#EBF0F8\",\"ticks\":\"\"},\"bgcolor\":\"white\",\"radialaxis\":{\"gridcolor\":\"#EBF0F8\",\"linecolor\":\"#EBF0F8\",\"ticks\":\"\"}},\"scene\":{\"xaxis\":{\"backgroundcolor\":\"white\",\"gridcolor\":\"#DFE8F3\",\"gridwidth\":2,\"linecolor\":\"#EBF0F8\",\"showbackground\":true,\"ticks\":\"\",\"zerolinecolor\":\"#EBF0F8\"},\"yaxis\":{\"backgroundcolor\":\"white\",\"gridcolor\":\"#DFE8F3\",\"gridwidth\":2,\"linecolor\":\"#EBF0F8\",\"showbackground\":true,\"ticks\":\"\",\"zerolinecolor\":\"#EBF0F8\"},\"zaxis\":{\"backgroundcolor\":\"white\",\"gridcolor\":\"#DFE8F3\",\"gridwidth\":2,\"linecolor\":\"#EBF0F8\",\"showbackground\":true,\"ticks\":\"\",\"zerolinecolor\":\"#EBF0F8\"}},\"shapedefaults\":{\"line\":{\"color\":\"#2a3f5f\"}},\"ternary\":{\"aaxis\":{\"gridcolor\":\"#DFE8F3\",\"linecolor\":\"#A2B1C6\",\"ticks\":\"\"},\"baxis\":{\"gridcolor\":\"#DFE8F3\",\"linecolor\":\"#A2B1C6\",\"ticks\":\"\"},\"bgcolor\":\"white\",\"caxis\":{\"gridcolor\":\"#DFE8F3\",\"linecolor\":\"#A2B1C6\",\"ticks\":\"\"}},\"title\":{\"x\":0.05},\"xaxis\":{\"automargin\":true,\"gridcolor\":\"#EBF0F8\",\"linecolor\":\"#EBF0F8\",\"ticks\":\"\",\"title\":{\"standoff\":15},\"zerolinecolor\":\"#EBF0F8\",\"zerolinewidth\":2},\"yaxis\":{\"automargin\":true,\"gridcolor\":\"#EBF0F8\",\"linecolor\":\"#EBF0F8\",\"ticks\":\"\",\"title\":{\"standoff\":15},\"zerolinecolor\":\"#EBF0F8\",\"zerolinewidth\":2}}},\"images\":[{\"layer\":\"below\",\"opacity\":1,\"sizex\":6.25,\"sizey\":0.0025,\"sizing\":\"stretch\",\"source\":\"data:image\\u002fpng;base64,iVBORw0KGgoAAAANSUhEUgAAArgAAAHYCAIAAAApvgy\\u002fAAB0NklEQVR4nO29fdgkZXXnf2pmGCG6M4tmQ3BDmF0ZZmDIgInJtZdvXW10orzJMOqQCJlZNG\\u002fGqBiGBQS6GhGyYBDW1V82QZ0JuCFBBkQkP9\\u002fS1dGQ376YCAsIgnFG9opClHFGzRBw7N8fp\\u002fs893NO3VXV1VXd1fV8PxfXUF1P1V133VXd9znnPi\\u002fBYDAgAAAAAIAkls26AwAAAACoLxAUAAAAAOAFggIAAAAAvEBQAAAAAIAXCAoAAAAA8AJBAQAAAABeICgAAAAAwAsEBQAAAAB4gaAAAAAAAC8QFAAAAADgZcWsOwAWcfTRR\\u002f\\u002f8z\\u002f\\u002f8pz\\u002f96ZzHn3766ccff\\u002fz1118\\u002f7oWOP\\u002f74r33ta+OexWzYsEHtefDBB4s1NS6\\u002f8Au\\u002f8OUvf3k618rkV37lV77+9a8\\u002f9thj7s7jjjtu06ZNH\\u002f7wh2fVq\\u002fy84Q1veOihhx566KH8pxx\\u002f\\u002fPFqz6mnnnrDDTe88IUv\\u002fMd\\u002f\\u002fMdSe1eENWvW7NmzJ\\u002f\\u002fx69ate+SRR\\u002fIf\\u002f5a3vOXv\\u002f\\u002f7v1c6\\u002f+7u\\u002fG\\u002fe6+Tn77LO\\u002f+tWvfvWrX5U9W7duVV+3N73pTXEcr1mz5qMf\\u002fWhKT6644oqHHnroE5\\u002f4ROZF169fL9vr1q375Cc\\u002fWbD3oClAUKgX3\\u002f72t8c63v5wpxMEAVf3WLt27Vgnujz00ENRFBU+fRL+7u\\u002f+bibXTeTrX\\u002f\\u002f617\\u002f+9be97W0iFrDo8PWvf73S6\\u002f76r\\u002f86Ef3pn\\u002f7phO3cfvvt45Z6efTRR0899VT35bnhhhvOOOOMb33rW\\u002fkbKav\\u002fljVr1uQ5TL4FX\\u002fva13bs2HHdddflbP\\u002fFL37xi1\\u002f8YiL6vd\\u002f7vfPPP5+381+3AHfccYd6RiwlvOlNb5I9V1xxRRzHLB+k9CRRIkx8Fo888siZZ565bt063g6CYMeOHddee21is+M+zeqePqiQAagTRHTqqafy9pVXXrl169Yrr7xS\\u002fnrJJZcMBoPNmzfzhssli+Gdl1566ebNmy+99FL+yD+I11133WAweOc73ynnvve97926det73\\u002fte1eDmzZt9nfT1P\\u002fGss88++z3veY98vOKKK+Rf7gnfMnfphhtukCPd7fRL79ix48wzz3T3XHzxxWedddbFF1+csoe59tpr7fZ73vMe1W3Li170ohe96EWbNm1yu+fusU+QG5SW+Srp3R6YUd24cePGjRt9vbrgggv439NOO433nHbaabzTZcuWLUR02WWX+bo6GAyuvvrqq6++2t1DRO6bw5x++unuc3nHO97xute9zj3guuuuO++88\\u002fjFs\\u002f13r6Ke4zve8Y7EBs8666yzzjrL3vu2bdt4gwfQ97iJ6Nxzz+XbufDCCy+88MIzzjjDPYYH3H7LBCL64Ac\\u002faK+rvqH265DesnoKmzdvJiJ18IYNG970pjepE9vtdrvddnsycN4BfvpbtmzZsmXL5Zdfzv\\u002fyMYnvEhHt2LFDPrLQIB\\u002ff\\u002fva3v\\u002fa1r5WPqgX118FgcO2115577rnyzVLHq8HnX6GtW7fawQEzBIJCvRBBYevWrUS0devWDRs2bNiwQf66fv16\\u002fvlYv379YDA47bTT+Ldg8+bN69evZ5sh\\u002f4m33YPPO+88IuJvqfyyc\\u002ftyObepxN+pgWe2TjzrPe95DxGdffbZJ5xwwgknnDAYDK644gqWUN\\u002fwhjcMBoO1a9euXbv21FNPFbGViEQ+cLdTLk1E69atYwWIf+C4J2eddRYR8Yxi97iny68Yb9tuJ8IygdslV1DwPcETTjjh7LPP5g1GWrCdtKPK0t7GjRuvu+66c84555xzzuFzZZuI1q5de9ppp4kywNtKVuDrbtmyZTAY8FqS+w786q\\u002f+6kknnURE4woKRHTccce97nWvIyKe5vmtk3\\u002fd\\u002fqur2OcorR133HHuJeRVt28Cz5R8DI8kv\\u002fzCueee634LiOiMM85gy5w8BfnipMjKrqCgritfOtXP9JbtU5Dj1WEpgoL0hL9Z8hoMRqLhCSecwBuXX365+yzU3bmCwo4dO9Tzfe1rX0tEb3\\u002f721UL6q8y2vKvPf7444\\u002fnwb\\u002fwwgt5j\\u002ft9ATUBgkK9EEGBiESxkG35ul5yySW8LYKC2j8YDNzfF\\u002fd77m68973vVfPcYKTHSCP2F40Wc+KJJ\\u002frOIiJRynmbBQXe8853vlO2WVYYDAbbt28\\u002f5ZRTBoPBDTfckDgTqD1nnnmm6KCi+shhF198MeuUdo9w7rnnsn7JuuZgMOC5nP+qNH6XF73oRb\\u002fzO7\\u002fD\\u002fw4Gg02bNm3atEkEhfQnyFKIOzIXX3yx28mUZ3Heeeedd955A0c4GCwWFESPlHPVezIYDC677DL+65VXXmnfAZ7C7S2TYeAICjyj85GyLY1fd911PD1L\\u002f92r+J6j2BJY8nBHyRoV3Ambn7J7vLpH3hB1lucq9xs0SHrfZL9PUOA97oMjIrbzpbSc+BTUKYzyEOI5VQkK7qOXbZYPeCdbFwbOs1B35woK0p\\u002fXvva18nxlW1pI\\u002fKtc8dprr1VPn+Uz\\u002fqtsi5AEagWiHurL5ZdfzhsbNmxQ7ktXX3114inXXHMN\\u002f7gQ0e7du3k2CoLAd4kHHnjAeibSYm+mRNx3SPqWeNbu3btPPPHEE088kYhcnywaLXjztvhvfuxjH\\u002fvKV75CRDt37ty+fXt6N4jokUceYR2UHN+0s846KwgCVpqvueaaxD3Cxo0bb7nlFiK6\\u002f\\u002f77WfU5++yzudtbtmy5\\u002ffbb0zvwohe96LOf\\u002fSwRffazn\\u002f3MZz7j\\u002fkmeoHVAIyLujPDwww\\u002fTyMxw5513yv7MZ2FhFS2ni+uDDz6Y+A783M\\u002f9XOLxyqLg\\u002funRRx8lItZlH3300ccee+z973+\\u002f\\u002fPXCCy+87777fFdJfI5knGn42QVBwLaWlPviI9WztshFGfcpqAc0Lqp76S3bp8BCfCKuReGBBx6wB3zta18TW4L7Gkx4R4899thjjz3Gz5e30\\u002f\\u002fqOn\\u002fs2LFDPX32hODtdevWiW\\u002f1rbfeOkknQRXAmbE5BEFwySWXiAzBP6Znn332+973vhRZIZFiPyiJZ7GZnbnqqqs6nU6epm688cavfOUr1sM8J3fccQcRbd68+Q\\u002f+4A\\u002fuvPPOr371q3aPHLxjx46LLrrouuuuu+WWW3jmu+qqq6666qrLLrts9+7d4vjm4zOf+UwQBG9729tSjnnggQfYxp4JW8tdJvxxnzI8T\\u002fD2jTfe6AoKZTEYDC655JKHH374D\\u002f7gDyiHKFAAtgdMSOKDy9\\u002fy5Zdffumll07eDReW18fl9a9\\u002fvWyzqcB3ZPpfwfwCi0J9EZXCp\\u002fO5nHDCCZs3bxYpgVfZd+\\u002fe\\u002fb73vY+3EznppJNE073qqqtK6HQSPO++733vY3O3sHbt2nvuuYe33TX17du3v+td7zrllFPyNL5u3bq77rqLt++66y5WEFkwuuOOOy6++GLW5Owel3PPPfeiiy7auHEjfzzxxBMvu+yyq666ih3Fudu8FJIIGxXYX8FlrCfICug111zDMx\\u002fPgpmIQllYD3PtVSlabB7YkHDjjTfeeOONbC668MIL5a\\u002fvf\\u002f\\u002f7UwTWxOdo2bx58wknnHDNNdfccccd69evt49yQnbv3k1E7F9JpUoh6S3feuutZT0FIjr++OPFRMcLQ4W56KKL7rrrLnZTOO644x577LEPfvCDH\\u002fzgB61Fwf6VzxIfavX01RMfN4ALTBNYFGrKlVdeecUVV\\u002fz5n\\u002f\\u002f5gw8+uHXrVjFiJ3LppZc+\\u002fPDDDz\\u002f8sHwVB4PB1VdfHQSB2D\\u002fZnE5EJ598stgAL7vssgceeCAIAp4t8v9Cqe+8T+d+z3ve8773vW\\u002f37t1f\\u002fepXTzjhBGVRuOGGG+65554gCJR5+WMf+1jKuoN76be+9a2f\\u002fOQngyBwb5yI1q9fz\\u002ff+8MMPi0eb2uNy880333LLLbzuQERshnG7fcMNN1xwwQXvete7ErvEgoL63XSf4IYNG9KfIBFdc801\\u002fAS5k7y47uPmm2\\u002feuHHjn\\u002f3ZnwVBwNb7nBYLy+WXX\\u002f7ggw\\u002fKO8CL5SmwHCAfTz311GXLhvoGP031LHiG2Lhx4\\u002f333y+2aO6\\u002f22zic7TccccdfBiPklrMyo\\u002f7LVBs3rxZ2peFvFJIb3nr1q35n0I6119\\u002f\\u002fd13322\\u002fWYnws3BFOiK67rrr5GFJbORf\\u002fuVfrl271j4jbiHxr9dee+1FF110yy233H\\u002f\\u002f\\u002fRJgycffddddeZ44qAUV+j+AiVHhaqWgPJwZFRtZLilBhu985zt5zdt1bBykRmAmsmPHDuV+ZZ0W7Z500mMjc1LgCebppPsQr7rqqnEvkUhZL9s73vEOjndwUW9d4ks4SHqOiYz7KC1uTGwiKbGRE5LecllPQYJcXMfGRHzPwsfb3\\u002f52jmhIbMH+dWBG2z2ew1PH6gCYPhnrrwBUShAEnMDnnnvuWbt27ac\\u002f\\u002fekbb7xx586dp5xyysc+9rFZ9w6AeSUIgtNOO+3444+\\u002f++67+d9Z9wjMMfBRALOE5VRez5ZVVUgJAEzIYJR68vTTT4eUACYEFgUAAAAAeIFFAQAAAABeICgAAAAAwAsEBQAAAAB4gaAAAAAAAC8QFAAAAADgBYICAAAAALxAUAAAAACAFwgKAAAAAPACQQEAAAAAXiAoAAAAAMALBAUAAAAAeIGgAAAAAAAvEBQAAAAA4AWCAgAAAAC8QFAAAAAAgBcICgAAAADwAkEBAAAAAF4gKAAAAADAS+WCQhRFURTFcZx+TBiGURSp\\u002fXEc+073nQIAAAAsWRKnxUlnzEFl9Ho9Imq1Wq1Wi4g6nU7iYfxX\\u002ftftT6fTcU\\u002fv9Xpus4mnAAAAAEsWnh9lumQmnzErnGW5Z7zNs749Rt2VK0+42+7pLDokXgUAAABYgvR6PREFXEGBd8rHFKU9hWqXHsTQwRuJKwhEFIYhf+x0Ot1uV45MPL3f78vxfEq\\u002f3y+\\u002f6wAAAMD8EIYhK9UKESB4O90TIJEVk3QrBe6KO6PzTrWn3++79xCGoSsoJDIYGVKYbrfrtgAAAAAsNcIw5OmV51AhiqJ2u80+CnEc9\\u002ft9Wb7PT1WCQiKJ078SHdJPVwfzR7fZIAiK9Q1MwguiB3nju9GG2faE+amz\\u002fzcRPXvs8\\u002fjjvg+sn2l3Mqjb6B15wcNEdNjeH\\u002fDHJ3e\\u002fZKbdAaB8+CUn58eBfzSopBeeFdpnnlmd\\u002f5TnPOdA4QulEIZhq9XqdrssQHQ6nfxzrrBizZo1e\\u002ffupaIWibEo0D8fURSxLcEOU+bAgdL5ye5DvFGTwT9qy5fdjzXplY+6jd7z3\\u002f2I+7EmvQKgROQll9dbfjQmf+GL6av\\u002f8i+rxj0lj2wRRRFbEdii0G63yRMZkcKKvXv3btu2bc+ePTNZ6fdJJ7IGoXbyBj8GvvNKuwdy8p3OiVO4ikyovsstHHD7L0yhP2UxndHLz1PXr5t1FybiyLc+RkQr9+1X+58Y\\u002f60o3JTMOmLWmvdRnQn8ja7iC2IfR4HXYy7odrtiRWAnhm63O7agQEQ7d+4koiAItm\\u002ffztuTI4sC7lxu53UlEKjey+muxwP\\u002fCy1nCZL5e5H\\u002fByVT5gAzQfQ8WfgQ8v+O77vpuLL6U7ipms86IsdIP5VIVKD\\u002ftk1FysP1nYivZylMrlEvq84TsNVqsZWDTHSD5FBS0RD9fp+dNvlIN+pB+snHxIup6BYAAACA+cWdiKmo+3+wbdu2nTt3hmHY7\\u002fdLV9PdpRpZKeBlEvnI3gZ8jFqJcE\\u002fnvskSi0J6HgQBjA2gMFbpqblq2AyW4LD7dHoaqfWNH4EGI9PQWM6MBXjOcw7Y+S4IArUu786kBcMjd+7cuX37dhWmWBaDwcDGSYZh6N6bJGm25hF7ujoXAAAAAEKig78IB8WWIZqmf8OiAAoAl4VSKGwYUMq0i6+FIz461MhXfVr\\u002fiU+pwkox75YPGWfre8F\\u002fKtG9YykzW4tCFSzbvn37mjVr1qxZM4WLAQAAAGC+WBTu2QBdPCWAtQF3Vy6iXgjQJ+aUTIdzi1XiS1SO59RCI8P4zJFDRZC\\u002fESnDKzYGDrcr8CAs3OacGi1KocT3ZyaeHw20KNCoXAQRbd++fQqXrBpfWYtZ9wsAAACYP4Jjjz12z549RBQEwwiIGfdoMpagj0IpSkzD4DFJGRAMWgolZrlRViuYrJYCbBGRjEZVfNeUIYdyfOVVr4TM1FgF+t9AiwK8EwAAAADgIxgMBtu3b9+1axc1YhV\\u002fCVoU5p2ZrGcrNSIlva5ydC9FK8IiNKgbUzADFGbuvKkaaFHg\\u002fyVWVwIAAADAEqdp+jcsCqAmWDVo+THP8MZ8xQJMAd+SM+XQaKuwSFURy1BWZyjHevxsaapjin0QjH09GmhRCIIgCAJ4KgAAAADAEkiNaQl\\u002fmGtgUZhfxnW2n\\u002fc0eYDm1l3DpjgsMbNh6bWVZ5vWYgl+TxtoUdi5c2ccx4PBYO\\u002fevc3IowAAAACAsljQvxuTR8H3J1gaAAAAVI1YFJ791jGVXmjlC\\u002f\\u002fvdOa1Ffw\\u002ftiXMu5TAQCDwkVISBviY02zENbf3VhF0CpYOmVmSQLmsCMNwz549e\\u002ffuPfbYY2fdGQAAAADUi6GhvtVqSb3quQbOjMBSc\\u002fW6RJagprX6A\\u002ffxxrIHn8sbqvxPTWxC\\u002fGhSnovq5yQho\\u002fVk7uI8C9PApQdMqwAAAADwMRR8Nm3a9LnPfa4BQgMsCgCUSwF7THUpdwp0Zu7sSdzhZasP8cfl9x\\u002fkjZp3uwpKjxSdDs2zKCybwjUAAAAAMKfAogDqTk3WmAEAVTAdb4xpGidgUQAAAADAEqKBFgXfnxpwd2COEK3omSOHaVzZG5+W5GLzfOEr\\u002fwOWMvntHM2zKKz46Z\\u002f+6SlcZppAIAAAAADKIjjqqKPkw7e\\u002f\\u002fe0ZdqUU4KMAKkLFfM9W6ZyXzIbST0biDgQxtzDIGTodxO\\u002fnx\\u002fuX88YUCmof8dFh4wfPX9R48zLGNtCi0ADhAAAAAAAVUY7+HUUREYVhGIZhyjFxHIdhyAcLcRxzUsjE06Mosvt9TREsCgCUjUqKQH7ND\\u002fEpAFATLQqTRj3EcRwEAU\\u002f27XbbztxMGIbdbpeIut2u628YRVG73ZbTbRrpbrerdgZB4DbVjMzTAAAAQD2ZVP8OgkDqRERR1O12bYMsBPR6PTYMBEHQ6XRYpHC31elhGPb7fSKSA+wx7tVlDywKcw200ikjBgMJymCm4\\u002ffATgyzLWeQGcc\\u002fd+\\u002fk3HW4YcCikIA7ixORVfFlYYI\\u002fdjodNgmIeJF4ehiGnU4n\\u002fdKdToeFCQAAAABUwUT6N5sK3BZcC4G709X75SxrgQiCQAwPvga5NXZT6Ha79q+wKAAAKqUOhRCbV15yEsYd\\u002f0qjlppnUVhReouJTgMpTo729PSD2SDRbreJiCUGdUBKziUfkC3mC\\u002f6Sz0uNHzBbJrfD2xbs7OJ7CasLZM3fhykzk+WkcRuX7vkkhlK6veyfVmcfNBH\\u002f1+6KoshOi3Ecc2SAz48wnWVBEGzYsKHYyYnklwkKwFaEXq83GAx6vV6\\u002f37eXG4xPdR0GAAAApgNPkUpdD8OQVWsVTJCfFZ1O57bbbut2u91u941vfONf\\u002fMVflNJdF+VvKEgohNqZ0lQURa1Wi48Jw7DX6\\u002fH9g5qQX3ubRM9DYt06MC8ec5N3b5IWluC7qm65JnYOH74HVPNuW9hmYJ324jju9\\u002ftuBEAYhuNGCy576KGHHnpo+IW\\u002f7bbb2MCQ82SesK3wYg9ze2\\u002fzKLgb6YJCogkBAAAAWOIkRgCwdi0fB4NBgZwCARG5hgRfiGNKz0RaUee6uZJcL0UVHin2hkSxQzkzJoZQKndILCX4kFW3Z499Ho2j66gTxzo3kyqWkKffAgCg2eT\\u002flZBp6ND9J1XapRUnP2jnOxUTwHOoWBGKuRmsUJeJoui2227Lfz4nXJJlj16vJ\\u002fu73a4bEilrBK4H4mAwcE\\u002fPnOM52MFdZZErAgAAAHPKipMfrKhldi1otVr9fp+d\\u002fMY1zJejf+dZNSB\\u002fREPO0\\u002fOcAosCaDDKhZ5yO9unHFkFPlf\\u002fSXo1BV\\u002f6KRiWYLtaCtTNokCOEm7N8Lku9PrXv14+rFu37tprry3Q3ZxzvO+wAm4H8FQAAAAAMnEdF5TLYE4SIiV27NhRTFyoA7AoNJjJQ9KnoM\\u002fNVpWfO5ASQ1C5tGUofLYT2S+luiUJ95wOY2O+O7WyKLCnoM\\u002fPLyfLOJHAmWeeuW7dOt647rrrJu0+AAAAAGYNSwYSJcDOCuM2Erjhlbw910p5SjaJ+b0pwMz7+q5SDW01pkMbj+CN\\u002fDe4dDRyUTeZFGcFPnJwYDl\\u002f9BXFzgM3Liq7bWpOsybnj2OSIxl7mzUZgemn0E6hVhYFWrzc4EtrlM6iolAXXXSR2phHkH4RAADA0mQwGCgfvjiOOZdxr9crICWQWBTWr1\\u002f\\u002fyCOPDAaD17\\u002f+9Xfdddf8TqtzbQ5pJPU0A1SXgb9cjvjol4no8Hu9Gu3kVLowrEIV5gWV\\u002f78mSvOcYi1nyv2ieaM6W4tCJRcSW\\u002f2OHTuI6K677uINAAAAAICA3RjnN8xBAYtC3Zhcd6+0IGz+q9fc9jBDRGUUxPIxE5WRjVi1smDloZ62N1CABloUPvnJT07hMgAAAACYR5qmf8OiAEohc+V+Ev1vLlTemizM2xVupopeVVrTBCwdmmdRCN7whjfIh7GqPNQTCApLBzuTqRQ0Vbj+FWBOEwNnCgqTLAmVmDvrx\\u002fuXq25Mc70j80Yas6CgAnFFlloKobnj0jxBYcUnPvGJKVwGAAAAAPNI0\\u002fRvJFxagjQm8+vkNEZ\\u002fLRGMyVImM9K1itdDLAo\\u002fvPdlZbWZyPNedu905rVl27dvn8JlpgkSLgEAAABlEXDa536\\u002fv23btp07d866P5MCHwUgTKIrwErRPCbXHVNamDyXNifXIqKD5y\\u002fK8C2uNk01jVhnl2k60qYE9xamgRYFIorj+Nhjj921a9cUrgcAAACAOSKQEhFBEDTAqACLQoowXpOANwAaj09Lbt5Xbya2t5oPbzMtCgAAAAAAiQwtClyGsgG6OCwKU0at8NUkdcFSo5R11vxL4KrUU35LVc0VwflCZQ0hkzmb5m1gfXc0L7cjr\\u002fe+D6xvmEVhRb\\u002ff55DCbdu2TeF6AAAAAJgjgmOPPXbNmjXFalTXEFgUSmTKGW3nIrGxL6Mw1V7dqQ6r8CnLgTV4yOjxq2WXt1PU5cIUTgc5nXCD+aptnRkAMpMQhprQPB+FFXv27JnCZQAAAAAwjwQ\\u002f8zM\\u002fIx8ef\\u002fzxGXalFJCZEQCqax4I66PAxoYUa4HSR0tUT8sN36+zGj13CRgKjB6fUpNqXg20KLiCQjOAQAAAAACURdNW9OGj0GDyK0bVuTvk19RrrtNPp1eT5ysEFmW9EGplxshP86p7N8+igDwKAAAAAPBSjv4dRRERhWEYhmHKMZywgQ8W4jjmmIvE06MosvtTToFFYSmjXOXtyneJKldN1n3nIo9FFen0KyV\\u002fAEJNXoPSybyvehrMCiA3smz1Id7gW0556Na7hZFTntz9koZZFCZ1ZozjuN1uS2WpTqej5ACGEzq1Wq1+v0+OG0EURd1uV07v9Xp24ldtpp8CQaF5TP6TVMWv+XR+KGG6X4LU2S8yP77ZlMa5I5WPyxbK8h05Wxq49PAzDgXOZymBVfxOp9Ptdu0xcRzzjB7HMd+VTPzdbrfT6cjp7XZbzgrDMDGEodvtclNxHLdaLfcUAAAAAJTLpPp3EASuTq8+Mio\\u002fNJsEBoMBWyPcDrinszDBkoQIFnJuSn9gUZhrGmPSLAWfcinwIovkLypxrFbd+kXeOHDOK3hj9Qfu4439F5zsHin7D\\u002f\\u002fSj9xeScemmbCLjN0IeaOnw+R2u8Y8qQZaFGTrp3\\u002f6p8c9WRwF7E4XXnSQj3J8ejrIKIrsKgZbEeI45r82JqEkAAAAUE9W8P82bdr0xBNPlNJi4uSd4uRoT085mF0cxCtC2RuYlJxLPmCESCRllTGTwurFvEdGlYKM3lPXLxo9n2ola7fW5FBYG1v++aOHbd42bHO\\u002fp6kFA8MFxS6VRv68y743zb5R3Ei5CZfA5A5AvieVwri\\u002fM1M2WH73mX9dXePTZEXpLeaXCQqjVjGUoIBZHwAAACiL8gUFCy8W2P1hGFrnx3Q5w13CkBbSjRCgMJMo98vvP1jsRFGOg1WHJu+Gr\\u002fFphucVUGLGVc7kduy1hHGTUBUYIlsxq7C65jSlb6QsCuivVSA68Y\\u002f3L+eNnDWr8pSZZubXQKIyfFuD2XfGvLUqDJaTWF7nhYkSLvH0rIQAO2ezM6N8tHkU3I30KT\\u002fxr5ASAAAAgIoYOmdu2rTpc5\\u002f7XAGjvRvRoEIS3FxJbjiDmxohCAKxNySKHTaPgtuUiqcgRD1UTIkJCZqaqQZURDOyC5TCXBRkL5FSUjJME5mGvhmfVumFjm3fY+e7xDgA+VN6XkQfKzZt2kREhT0Z4zgOgkD8B3u9nuzvdrvSITdHQqvVktsYDAbu6XnmeJVuAWIBAAAAQM7Ma6UB\\u002fhMVssEvChAoPOnmWTUgf0RDztPznAKLQgEqLcoii83Lj3mGHN8FnwaQYmnIrz3kV7nUkZXaOeqp\\u002fSwdlGIqzzrznczTZk7HAuAyrmlk7jIzTtOiwFkDeJXfZjOiUTygL3tyOitKmVZzzvG+wwoIOPBLAAAAAAQ2JCTmRw7DUIUCjEXT9G9YFJqH9eQ\\u002ftPEISlVEGrOI29RaD\\u002fmrLk1+iTkdvfy+9JVaqnw2Nqvc+7qR2b1MF4T8ls78Q1Hp6zFbHwWbH1ncB1mSKGJRmKyfAAAAAJiUY9v3VNQyF0iapIUGCgq+zIywNMyWcZUDoYDDxFzYEvL4Q4x77yl6UolWliM++mUiOvzeYfg+e5+M1bi6r1KUOaWY1sSQUNh2UuC192n5k4yAZHdwGySifaZN31UmudNxe57\\u002f+MGB4X1JFoqZs7d36rin5JEtOHJwwsX6BgoKEAgAAAAA9vqXMIJ+v9\\u002fv97n28ljtNG1FHz4KlZKpBE++8pdH5VIh9b4DDh3zNH9U1Q7zkD\\u002f8YQrL7XNH5ujZFHvM3A2aSkYp\\u002fS\\u002fxNWhMTUXB93pMMmjKm0csl+qHSJ6XUEWS1lr5KLgeCd1ut9VqFXBTCN7whjfIh9tuu61Qb2sEBIV5odJAxPnyAUzJfJxzSphy9qrScx9V0X+fLEKjftZNpBtXNl22epjjXMI72ck3TwtVUJ3EnPkFISMH2KTmrDZIJXShiqdfK0HBpbgz4yc+8YlCPQQAAABA82ma\\u002fg2LwpSZL919Eubd3jtDrEaoLMPWxbVu6j5Tq7zjtepMHvKvS\\u002foCJmf7VuQf8NlaFKpgoqJQAAAAAGg2TdO\\u002fYVFYCpQY6eeziBRW11KK\\u002f6pjaqUr52HuVNj5Qr05mYmM8uNzh7RtVvGIM\\u002fMpzd0XIZPmWRRWvPGNb5QPDXBmBAAAAECJlFMUqj74si1RI+6u2dTK3WEKCYDza292jV\\u002fIv8q7+gP3UaFI0ZowX2WmMw1LNe9\\u002ffpoXvTkudgTEonDf536t0kufsunPpmRRaN702bw7AgAAAGZFsG3btp07d866G6UBHwVADSoKlZPaFkCa\\u002fEGodAh57ivzomyhKTfTjrKHlZjSYDoq+1L7ylRK8ywKy3bt2hUEwZo1a6ZwMQAAAADMF8FgMNi+ffuuXbuoEUb75lkUGr\\u002fgV2LMtMrPWkVy1hRKfFKZFXsVjXk98vvng\\u002fzkH8OUHIiqKcG2WYXBJieTvD+rbv0ibxxx209Qavm6zDYbaFEgop07d\\u002fLFtm\\u002ffPoVLAgAAAGBeWNC\\u002fg6AJ\\u002fgrNsyiUSEpAc32YQg0I8q\\u002flp1y98CKu0lTsRQuAlAbTobpQiyqqE\\u002flCLWy3K3Vq4ZdT6lNPxzgkd8TIfQmqnHSlBo9mWhRoZEuYdykBAAAAAOUStFqtPXv27N27t9VqjVujuobAolAK9XSMGNcFoYDaXeAUpZxVOmiVOsBPwUoBQ0gBmpeo4GfvvJs3\\u002fuXmo2lGN2LrTAqTD28DLQr9fp+Itm3b1gApAQAAAADl0jT9G5kZS4Gz+Ent9pmI\\u002fCnLqIXdBXyLtdNx2phcn65tvoTSqcmdIrsAEPK\\u002fk82zKAQbN26UD\\u002ffdd98ULlkpWHqYhMlnsjq0kEKB6Wea1nLrjMZRaraThVdV5mXOq6e93ReeSk6GJWb5\\u002fQd5YwodLhATWNivOY9Dok\\u002f4LuDMqJqS177w8E6nZlvzBIUV999\\u002f\\u002fxQuAwAAAIB5pGn6NywKJSLy+6HHV6o\\u002fZToSiuSu8pbUxJ1tmh6ImciYCPOi9881NXkVK4Xf82WrD\\u002fHHado58pNpaUhJAzX5F7nEhG9C8ywKy2Tr3\\u002f7bf3vWWWcVayWKoiiK0t0hoygKwzCKIrU\\u002fjuOU01Oa5ROLdBcAAAAA+Qhe+MIX8tY\\u002f\\u002fuM\\u002fvv71r7\\u002fzzjvHOj+O43a73Wq1iKjf73c6ncTJOwzDfr\\u002ffarU4yEKEoCiKut2unN7r9cIwXNS\\u002fIPC1yX6LSp6CRaFErMolUraqeXPER4f7D56fN0esMJNUrz7yOzEU0EeVlaXOaa8SkVt+dtWz5Pi6piz3+shUBDNzCZeIytVDRIMDw2RB+S1n\\u002fI0Q29vk3c70PKg0f5GM\\u002f\\u002fJjnuENfs9tVKHtJ78nU7Ze8GjYvMuFv3R5fql8fj9Ntij84i\\u002f+4rhSAhGxlBDHcRzHnU6n2+3aY+I4ZiEgjmO+K5n4u91up9OR09vttpwVhmFKCIOSJwAAAABQBZPq30EQuGYA9ZFhc4KyIgwGA7ZGuB1wT2dhgiUJZVEQO4TbrLQAi0I9Ucul1krBTKJcZmr51mDwnPO+RUTfPOv0zCP5ojW3iNSTKZd6UhWfBbkWX72AIUSYxJ6kOpP\\u002fgErJTFad8wAyWrv9ysgXWWn5U3grSonFyKTJFoUwDMctCsXeA0ossC4FvOjgXsh3pAs7LiRelOUMGBUAAACAqlmxZs0a3tq7d69sT0Li9J9\\u002fUo\\u002fjOP3gdrvd6XRSDkhZsPABI8QU8K0OKncHS36FL1O9y79CKUeKnsRJqPbfdHLOFirFBpUwNUnEJErkjzf8kIj2Xz8ctOnUjM58yjxoAR1S+\\u002fO72tg3TZkx7A3ye57yiqpTppxySg2avda4Bwj5v7\\u002fK5EOlevNwI1WMqrQp5lLhm8ueZw6fS1bw\\u002f7jWQylFoSpV9MMwbLVa6cEOmPUBAACAslgRhuHOnTu3b9++a9euiq7hKzcVhqF1fkyXMzhogo+RbQ68LKWrYGo4ov3B3EdOT122F33q+oyLVpE6kFXzYNVQUxFv\\u002fGBkSFAr8XJ169ihDqgUUSJ5TI58cNSZCdrMVNnz49NQxZCQkoHRd\\u002fVMrZdtCb78IhZRT33PNMXD32ecSDlSOfBP\\u002fqWzF81sc+EUY1ooq1dVhBrZNoOo9IvMmGV79uyhUYHpcX0UeHpWQoCds9mZUT4qe4CcnujxoOh0Op1OJwxDNi3w8ZASAAAAgIpYSEUQBMG2bdvGXX1wIxoknIH\\u002fxIo+z+JuOIObGiEIArE3JIodKXkU1OXkeCw9gPmqazBNUnJjZBaYqOLqTB5NMdPrPue1xqL0WgOZ16IJkgwWSD6hVHYbCTIvkQi1+srLNPSpL\\u002fxmpRc689V\\u002fMqVaD+R4\\u002fxXwUYjjOAgCaaHX68n+brcrur6bI8F1MhgMBu7pmOMBAACAWhFs27ZNFPrCzox5Vg3IH9GQ8\\u002fQ8wKJQBVbAlz0H3\\u002fjPRHTgnFfwx8JV6QSb+q0A1VUarEmBgMLdKMXhY1ztzecwYa+ecqQv5l6iZn68f+jAkVMjt\\u002fH94guSOThVFLdUyRDFaCFkxgflx5pG2JYwHUNCFWTmxuAD8ozh5HaOBloUphnp4DsMTgYAAABAPVkhW9DFgQ8rQftk6gKGBKXj7itDg5kXNWj6zKTAhNQLeOKmjOdSIOZeEC2Z\\u002f5Tp6m\\u002ftB8+uyhv1bodx8lfOd+8Llo\\u002fH8zaljCW25UybhG94bTGLlFMmhy8qtiIbQCF72FSw8v5hr6z2n797vu9Ifr+Z2ZKYq5DLKybWZczDgnDQDEEhJdtSA+5uytQtXXGmvV0dUGmFJx8pF5XxlCmKyV+CqIp+ZroH5q8CXMBwPa6LYinkNFNX3Y1xUY+snp0UJHvVqk\\u002frP43rYlnKDeZfUJjcL3KGSw9cGEEVUuBpUYoy2jILmSwbNySy\\u002fgw8zLpfAAAAQCWwwcAtrMiwTMDFlQaDQavVssdkMhQ0OHihAbOp7y5qLn3Xjfwyta+6a6UUzr1jX4NhYuYLxk7M7Ku4ncLk8W8WsTHk7MNSwOdXqMpJ5zfkTBm20Iht375g1fnq1pwUX+mcYzKd+mQzsShwEWYi6na7qlKjm2IgMa1AJiu2bdu2a9euUqo8AAAAAGD6SNYile\\u002fYrk0UaDwYDAaSv7nBFgUwZWoSRlgr8o\\u002fJ5LaHScIgS0yWrGqLZ+YpskNUhRkmf8Xk\\u002fBflJXmbBLpwh1OSPfvMeLY6EfseTtlkwla6ZQ8+lz9WGnLp89sQZmJ3KWZROPPVf1LgWna+c9MbKjhBYgEfhRVEtHPnTi73UKCXAAAAAJiQuz7\\u002fG+Oekl+24BUHKuTJSG7UQzOARWEmZK4d0viivXUCkNCsEjWkErXnElF5h1JCAVlHL7fbvqCAErXkKtJFZ8YETgH70ooR5cBpRDkKWKdQhXFl3KsvhJKasmSZlaiEmXiM+aIehBJrW8824ZK1KLAhwVcMIQ8r3HhCTLEAAABAY4iiSOoxFaZp+jcsCnXDtzCfqVVUutyoejWJR4XS81I0LaWyWOVsJtmQ8lNF6Wqfu0Cmwrrq1i\\u002fyxhG3\\u002fQRvZIaf5H\\u002fK0o2nX76CiA7\\u002f0o\\u002fUAZWqwkp3z7wvq7sXMDiNe9HMpqacG0NRoo9USqktvor1vKmVRYErLypbQhEfBQAAAAA0kn6\\u002fr3InjKtOL8pj2ABdHJkZp0zhOP5JykdNYTXal5UyxRe9cK+s9lOiPjSF8BN7CcnKd\\u002fi9q2mcYkuZ5K8vVSJTvmhmXkKV5oSjDCgpHUhmdgHftWwAxRTCl3y\\u002fCda1RVAONDYLqvoa5jFvTO63JBaFD\\u002fXePe65Y\\u002fH2V31gSkWh\\u002fsN\\u002f+A9TuMw0gUAAAAAAlEXTVvTho1AioimqAr40QWR\\u002fZgs\\u002fe+fdvPHNs04f9xI+ppnUQVSZH2\\u002f4IW8USPsIhCocI3z4Fvvt+1+4G6WU+S5MgbyEPm1eNPUqKm5Xgc\\u002fgZ2\\u002fQZ4TIPMD6KDTGorBsCtcAAAAAwJzSNP0bFoWZkMcM4FPOJvGvTsc6xvvy\\u002f\\u002f\\u002fol57kj8s\\u002ffzRv5PcwqDS6PWfRjRTbjwroT+leZvKGAu7rkxfi85FS2nTci2Zq+SoIgpy0g0LhhBDiz2GzOjKcgIFMDgY7ApO7UBROHprnWjW3PSi3jBQzauYXoXkWBeRRAAAAAICXwHVm\\u002fNu\\u002f\\u002fdsZdqUUYFEoBZ9OZhUOFq4PvvGf+eOBc14xpS5Oa7k3U8\\u002f2kb97BeL7a6KE+SjsFGKd1ZU2P4nDh30ijKw9S3RGbQtLutjbmdw4pwpskhmKlAX7eXk5p0DzLApNm1YhKAAaLYUUcIeseS2rFHt7TnyiHjk\\u002f\\u002feyGufzxw\\u002fmjFXQy\\u002fVLzDyPfUf7JJsUdT02TKUeqhFf5JzYZ\\u002f+XHPONeKwU1vCl36qtvVEA2FZRIlJnaq0Ad58yYxnEXqqjQwgcPrw3EFfj1sK\\u002f95GKN\\u002fVZ+7yNrGyYoLAuCYM2aNagIBQAAAABL0Gq19uzZs3fv3larVaxSda1oTMIln8V7JvY9e1GfnlSA\\u002fHmKVGJawQ6Fr81pBqf5lB4yzzS\\u002fnUBS64i6r9S4TK9S6dWhY57mDclPXJ2LYkqvVFOZD6gKk49NoiXMpPxSJpnjXyANmsq77FumKfDSZlJzM54lM1lc85YeVrBwsH379l27dk3helNgvgQCAAAAoM4srOgHQbBt27adO3fOtD+TAh+FKZNZvFWRolyqRdACC5ZKH6pb8ej8KBNOAUOIqDJX\\u002ftc35zxlLkgZChVn6EviWynW6KXcAkqxaeWvusSDYKsZpWQi990IR2ke8YA+PjMfka\\u002f\\u002f9qI+v40Sv8h2\\u002fO0ITB602TyLAhIuAQAAAMBLMBgMZN2hAbo4LAozwWoV4hYueUuUL7fgC61M0b1Kz6iTn5qvp8qdPu+Vj\\u002fLG9+9ezxs2Gw\\u002fji1koJW\\u002f3XJAnMVdOCuRIzk\\u002f+d0+O3P6K24jo\\u002fa\\u002fq8Mf8VpZMk0Pm1fN\\u002fQaS3hx5fyRtTSNddBfL0931gfcMsCsOES8cee+yePXsKt8K1rsMwTKlyHUVRHMdhGKrC2HEcs59E4ulRFNn90lT6FQEAAAAwIZP6JcRx3G63W60WEfX7\\u002fU6no+QAJgzDfr\\u002ffarX6\\u002fT45posoirrdrpze6\\u002fXUxB8EgWqTJRvfFWFRsEy+WJvpbD9WN3J2JiXin7UcSQVjl2CZ\\u002fBlppGVJl7vq05TYZmaHZU1XpSWgHMmCKg3KmHy5N6XaL+N7EJMwuQmnxMzBmemGpqn72nJZ1gVBJQ9IofRk2764CfLXl5q8NrT9XVJhPr5K3OmNj0sDfRQm9F5kKYGtAp1Op9vt2mPiOGYhII5jviuZ2rvdbqfTkdPb7bacFYahjXXkEweDQfoVAQAAAFAKi2biArJJEASuGUB9ZNicoKwIPNm32233ou7pLBOwJCGCBf9J8j1wC6oDsCiURaaXAPlVECun+xywM7EleTj03+q1+U0mVbgasN1FygW9aus9vNG\\u002f99W8oVb9ZfU3M8Wh7aRSbe2ozrac8eT4Kj6LwcbeqcCmpgK+91Uol6peV6XXmoRxEy+qE8lYWfJ4OaiL2qZUxpEqHlmJ35Qm+yhs3Lix8MniW6B2qj286CAfwzBkM0B6ficRFOwV0zsAAAAAgLJYcd9995XbYuL0n38ut3KGD7ZMdDodtT8lOaMPGCESSXFEyFTErVSe09Ha6h8JAv4F6S0NSUkeJ8r9uEvLKfoHL3+KBnn7a94xPOc15F6LRoEeR9xGqgWLz5fC3pEi04kkvypmrS\\u002fK3UHw6aMFPFrsKb5XzgbE57QlcDVhSh2KElfu1R2Ju0x6J8nYVChHxXCBc0tIfeoUdyVfa5nPzndiSvd8A27TPvIeOf4p0+a4hkn781Lg5fQhTQUfGO75xiDZm2fuWFF6i1PQ73nFgYjsMgdh1gcAAADKo3xBweKrIiFrEGpnemtiSEgMrwCzJWXtP1M5K32xVnI5PLPuu7xx1JbhWr5VTQqjbtnGaFzx9o\\u002fzxhO3X++ecmj8Rb8SVd78o20bz1TC8hdC5CNtWWcJtJFSFL6qIqKa\\u002f2jdk7zxs3c+SkT\\u002fcvPRvovmVyLlzWFSboR1dwmWEb5TtFZFfptKCmJLYCZPUjlJfgUh05qi+lnKL0P+eqRMivVFDUKJNonaMlFmRuVa6O5UezgqkrF5FNyNdEEhjuNut9vr9SAlAAAAAFNg0hgBN6JBwhn4T26uJDecwU2NEASB2BsSxQ6VR4Ev1+v1VB\\u002fc47H0MAVKjBpQngRiBiiQ2U2dkqfAHWflmzwln5DixKD+NEmEgq8YhFBiOkur7qsD7EVFZWRfEPEG8FVAyDQ50DiFHHPeaUqiDun\\u002fD485SETPfXz48dlVz\\u002fJGZkoM23\\u002fGN5ilMPm3Ugw5Erwj\\u002feTGU0bA9xBT3hOF\\u002fUb86JeeJKKVj7yAP\\u002fLjcBGTSWZ8kK8MaRUZSGUauvCvqo3e\\u002f8NfjqYz35UwrbrOgyINqMBFliH4GLUS4Z5uO6MEhURHRRVgCUGhdEqxN45Lyq+ezwMx\\u002fw+lFBA6\\u002fN5FBm35hZK5LX\\u002f8Z37y5z4qvLLgCxq0FJix8hclmhyV7MteVIJm7dzGqJrLNL4MYX1ILTkt23nGigun\\u002feCv1\\u002fLHAhOYmu\\u002ftgo5P0Ml8\\u002f\\u002fOIdPnvNL2FlIv6hA8bMi2Rw\\u002fzbJdXVZQRs3qrMbqt+2hae3P2ShgkKJfgocEYEWqzZh2Ho3kAURZJ3Oc\\u002fp7l9TPgIAAACgUpqmf8OiUCJWQVeKOI2UlUztnxxrBDOJoS9Tz2YZ3+ZOztRy8q8CZB4pBbX\\u002f+b5\\u002fr84tPVGu1ZMs\\u002fOzUg5sOVuWSSmDLP380EQWrhvqrNRiotFTysQobvn2NVZYwWZKweZ+Ulcu6wvnC8zJt45PYkzLXayQj0OWf+i13v32rMwOJC0Rv8ijJaqMdVR8+G4Mvp1NKm5llslPsGb7hbd7SA8pMAwAAAMBL0\\u002fTvlGxLDbvT2aJkal+xpQKklLrJLCslB\\u002fyr0x8mZ5VXsMl5fKVirMEgMxRKqYzWg8\\u002fn5JV\\u002fsd9qP0+\\u002fdD8VshPYVV4xS7A3QKbKbp9UisI9LlL6WYqPV1d1yT4I37q1sorZU5TrHxXyyWV8jp8pWF+KcYfL+ij4ysTb6vDWFZRRebrI+U4pl4JDr\\u002f4Wb4hz8bh34UsOJvgsJWNdxYe8Nt\\u002f7yNqGWRSmkUdhykAgAAAAAMqigRaFht1RPSlQxzazqZf\\u002f9t8Q0ecfGJYFkZLW7z3jv\\u002fHGZR9\\u002fG28oxwgfP3HyP\\u002fDGN886Xf2pQNCdD6WETaJMZyqy+T0nrEbIFgJZDz70+Ep1rczVaJ9Fx7cen9LP\\u002fPh86a2enenSr9pM8YeQ0ZNRYjJz74hVRvJEqX7aBySXYDMYEX3\\u002f7vWJ11IXTaljrkwLtpabffo+FyLBZ1HL\\u002f6zzW+lK9CWaCfBRAAAAAEBNScxGyGmN0gsxptA0\\u002fRsWhQJY+V2V9BV8mWtT1siV3j+J7SHTR8F3fP7a1pk5mnxKf57GhcJ5CKqoji1ISAsnsbFLzmrVPKX4uMD5eaymq2wkmXmW7DEp6ZJ8pbd9WC1fmYVSXqQSyxwLyu8nv40qJeuwDzHDHHbgMMoRtWS1\\u002f3ENOTROkgbec+C04QGSIdv3wtTEwDBDi4LKYCT9IaJWq8WVnAuICw30UQAAAACWFHEcR1HkVktg2MAg8kQQBPlLNAtN079hUagUn0ZbiqY7bhZCX90gKiO2voBGO0OdJs\\u002f4s3Jm8xhaePREPeXACnIyGbPfQ\\u002f47zeyevZaqZmQRXe3mDw0dUEQFV2YMi0o+wcq02z1fZkZ5wXwhOZPbmSh3XsI8FilVUNsaJzKddZQ1xZpS7Jj4OuO70\\u002fweCRKJY8eZUbnDyYxSnuLXbMCw1gufYcm+3jOxKMRxzKYCLockooBbJ4E8pRIygUUBAAAAmG+kslJ6TebEos2ZQFAA2Yis\\u002fR2PyvLU9XqduNKqEEPdffVQEXzi9ozE9ZnB0wka7fX6SGUwkMIJjp6xSCeTTAASFK6yTVhFJFPzVsVyaBTFLpqiyo7n9ocD323Uu0+JTLHKcNJJiSVJKbvAKRfl9bDdG544WoReuV\\u002f\\u002fIqkxcVbEO7yx84u6us\\u002f+xWYA+9BVkXHZL49y+TGL+mD17ydu0m3u8yTJ8GUmtTkb9t2U\\u002fE3xFWVeGArjIyJDwbaEFDtT5tfT9xrY18baGNR+OUUMA1s+91+I6MBpL+OPPhvhjzcsyvBBRM\\u002fQ8BKS05Pb3NfxvrSqfJr9TZBxPnj+iURE5w9PtH5L6t7Lchj6w1+OSmmnCiAoAAAAADPm978QjXvK1GSLBgoKvuSM8F0ojE+nIWf5Ux35VGdsQ4JaD06xSfjUIOWALX2z2o9y1N93k9YJxB6wcuMLhhftrKMkndinconuTucM\\u002f69UE6uIiCIoes\\u002fBk35AznKpowqvc488zN+mILV6GWv5CL61ijeeeemPKCnNn7MafTQRHXVzXof\\u002fBePK\\u002fbqcN4\\u002fJwfP1GDrL2IuMVYePDjjqS9rKJY9GjYkMe2DyKjLypu27XldZVJ0RNVT2HBoZUfge5aGr7wX5PQ98vRJ8mQ2ful7bOWSs7FVykmLTynTBUR5CC5YSY48R28lRW15GRM+1eV0vWNSffX53E2sLVPuVP4E15MgQiY1QFdRevmr40hUIU\\u002frGoSPTD5gXGigoQCAAAAAAiEjFQ8Zx3Gq1xm2kgYJCw6guxX1+rHohmgdnP3z+u2VNdHhAgdLyw8yGoyNTVk9Z4ZMFSznymdXDpU1WF4JVy9VFBbm6TwXnqoZE9MOXJvtX2+QBmUuVyvbAC7RE9Fd\\u002ffuroAJ1k8IgHnkdET798uEZrVdunsl4Mx4yxMvEAUYKl8SMe5\\u002f\\u002fr3HyS1ZFX6CXvglQg7Pz1W3lDTCPcz+VHDgfz2WOHerY8keQ+ORr5gmpIRElVRRYerlizrl9HiTrlTcljJYMpj3LZ40MfC34Q+68\\u002f2f1IRPsv0C8nj95Rt42ST4zU60NHrnQPsGUOxIyhylvYpAjWSuHebyL8lsqTsp786vsodrKEfCEey8fCmNy0SO+3ljbp58JXJuvtVb4s9v235grVbXlhVACI\\u002fDhYdwfaTzTydHF7u5AmZHGbVRQyLZEoitrtNodExnHc7\\u002fd7vd64jTQtmBDhkZOg5rwF+2qOKsYKW5Baphn3EinIT5VkqJUwtmGDox8RqU8jxnOVPUYqPvtyOcvvjqR2sd1WHohimRTHK98CjfUrVIKOnQDUra34nz+lDlBWUJvjWfwKBe6n6gM5jofqZy5l0PKHAqpAPptCmOsAib+ndNuGvPKDSHltbD4fhS9hlLw\\u002fqhYRGQ9E5UPqooJ7fRW\\u002f7IqPPFyZb\\u002fiFl7fd5j1T\\u002fZdBs6Kzuqj1dvTJ8dKmfOX5G82Sq9tb5U5IoxdDHlxKDfHC+o9POi\\u002fRmTqz\\u002fDT5hT8pCiXKQEXs3vROO98FQaASLkVRJJEOnU4nMXVjOrAoAAAAAA3Big5RFEVRVCDPkgBBASyg9CFREawhwRcK9ZZf+zhvHH7vm3lj3MLHIp6LUfrZx4fKwXcWK6aZ6ojTyfW8sfobyelmxRiwcv+zqtsqdm7lvqF6t2A1HTle+SrxWNTVrXL\\u002f7MuH3Xj2n3+CiFZ6VGR7FVFkD\\u002f+Sya98YHEV45H2eZgnd82\\u002f3DxcL9jy3KFWdM\\u002fjwzC2I1Y9jxxLvg0FlPE8dMyzbptiSHjV1nt440t\\u002f9DL3ADEkCJkLB6JcKlc+sYhItXFZ1WKTQ4L9439qy\\u002fb5p99KRO9\\u002f1TAU81Nf+EPeOGqLtj1kWtEV1td1wU\\u002f2wGHkjNV3bh\\u002fe18JywF5f7qPhLS44Y758BS2y2A\\u002ff3kOLv7YWeUXloqv2ERE9cbu2Chw6ZrQYlKW7L+QI92SO8pGS+1m\\u002fcqMX77D7f6AOYBvD8175KH\\u002f85\\u002fv+PW9Ygw03JW+LWESsIcTX8+Aj6Tc0GwpLCYSiUAAAAABIARYFkEBm8WX1pwW\\u002ftj3D9ezDXv2t0R8zLAqiSP3ol75LRIMDQ0VWqu4+MVojd\\u002fyVllNSNRq1cil67ateOtRfxW1QUOvZCxrtyE6g1ndFf0ooH5Vbp1TnLiOdTVnU\\u002fZX0NI2T0UUV8CVXjessSjgjficSZeer7iNK\\u002f785b\\u002fhMv39gPSXlL1pwK1k1dCsZjudoMIUF\\u002f83bM14Pmw3JsFIdwNYgURlF7VtQrO\\u002f\\u002fQWKDNuXRhX91NzkrzV\\u002f6o99SB6gvgtPmcnUkv422bpZYDsS9jh\\u002fiM2\\u002f87qjN4ZHirPPEBYse5VPWM\\u002fGCZDvTwkXN15N7vnyjfr19tbVSfhyUC8uCW8bIlVJyGSmsr+JzzvsWER2292jVlL139vkQh49DxrGAsymLcejIu0fJtah4XXjlmJJZ+H5+gUUBAAAAAF4aaFFAwqXJYc+DPFVrWYheuWr4Ig2OPsAb1i1cVeKxfg98yk8+MpTKRSOks4b\\u002f93loP\\u002f9xqRmzSLl00iiNNl6zqDM0WrW1mkpSQeRFR1p8LtCCDKNvPGXA26\\u002f7DG\\u002f8u+X7iOj579be7D5S6jXzHR0chXVIhSe5U8llxAYAufFdpw0X5v\\u002fjl97FG6wsPmvi5RbiIL40\\u002fL86xucAb5tacKEf7eGMOhKNIgl2rB8+D+OhV39XjYBKwGU9KgTxb\\u002fj+3W8m12Hlj3ScrWpcXjmV+ZtGLhRWaV7QaBf7fBw4Z\\u002fjxZw8fdmbhG7G4BUGGUZkQ8nj+87N7zulDS8N\\u002feuVf8cbvtq\\u002fnDTZNiVUgJRaAn\\u002fKBlw4\\u002fLoS6jE4R29Vy56WjJHvYwadXE9HK0QOSpuSbvtDUg0cT0VOmM86PWMfdLzaVJ0xS8+F+fy0oQTmmLBSFiqhhNFBQgEAAAAAAlEXTsg4gj8IkLIjnjx9OiQlSPIvlNrHxc0br2fu\\u002fcUxim4JoP+yQLM72KRq5r9sSNaAiuWVxV1wQVOIBm8bHdxV1CTJODNJCiiLCl0tJY+Vb9ZT9csscbW89t20UOw\\u002fvN43Dh0\\u002fdVFV3yTFC8LK6jKqYkThGg4hOPeZveIN9EcTdxD5cfqZ2Ed0WFFZFfTi5NTkWBXUjpZQ+9xV0lvdHVXC2Fh2V7CglYZS0yVa3hbAUYzlQFhF1IjmZx9gA4\\u002fMzcOHW7LNWubMk54RkJJPGX\\u002f7bf+M2KK4t8lPw\\u002fbuHwUcq9YJKVUKLLDrr3TZ9XzoyqV8ENXp2BHx11OTBSaEyGwnCJNhURtPQTPIoVAF8FAAAAADgpYFLD2BcREAW93u11CeSvqSTE31C1RGeBFE3FSKwi4zPSqToedbdgRULDjcnokMHhuqRFKRecP7feAQ5aRaTPOGHVx9mexx9FKVnoXwUvYCS6g5bgwcHBdg0eRLmrrA6saTtU4qU6E+yBCvZKlWCRdE+faYFXXXXIbNUz1Fbhhv\\u002f6ryHyV1c3zj8\\u002f8r797tXt4EJ4oKw7\\u002fxFS8USmGA9D5RyycnFieioLcNRPbC4mLUYQuRltqqhTx+15gp+7lY9PXxkO3mGywMN02M7loZR42IjYduDzVigtGG5nYPn6yNl5f+J2xfVZ7KBLapiljQlSD8HB1YT0WteMDQbfGmfLp7++QeGFQSGVq6R78U\\u002fPTUc3lViWtsn3fsFtw82GagUHmNsvlGJGcmZksEOpnz7frzYUUa8Yexb4TNtNjjqYUqCAueMDMMwJeeDpI5SCSbjOOaaFomnR1GU3iwAAAAAClP5in4cx+12m8tV9ft9X6LpMAz7\\u002fX6r1er3++Q4JHKSajldpbAmoiAI3Dbho1AieVZ5WUcR5Uz0V\\u002fEGUGrQQsXhUV593xq\\u002fFc\\u002fVEqa1QKiVb1GGhIMj9TRz5VgUVlksZ2Q9VVRGda4vyT85i7WMqE22qoVv9CyZxX99JNkzxmvE1gWwZSP4SYlOKVqarFKzGn1wsdmAnKF49Ul93uA17wK1uHz5Iaxy6WvTGmx80SULFh1P4Q8Z7ZTwH7XQbn0UlI+LrfmUeDwRbX\\u002fFbbwh6QQEXykK+Z6qAhM530xKMhcpvT+lqosqPS9khiTYoAx+uDL+yrnE4qtaR8abwb5I8FEYG5YS2CrQ6XSkNIWLlLSK45hvWyb+brfb6XTk9Ha7LWeFYeiLhAQAAABAKVSuf6tKVrawFY3MCcqKMBgM2Brh9tA9nYUJliRgUagCu2Bv\\u002fZNZTv\\u002fhMaMVWVN0UZSYP37yVW5TkkOt97qh7Nj+yw4ZDZ78K4IpNei+GZ9GRCffciN\\u002fFK\\u002f7\\u002f7R6GB1+5X99s+9cxqoR7Mcg\\u002fuTiFi7wAXlWvpX2KZ7kr3nB3\\u002fPG7a95h3uPthRe\\u002fvp7Sj21wyvYh5vYgjRiy2HYWABVcjMzakbwmXas0imr1KJTcjdEZZcjVclEn9HIvTVV9EQuIQqr2iMnLlRbGKEsBylBMapkqJQnWGjqG8e492XLqP7mTw3f84\\u002f89zeTY7+RMRHbjzz01ks\\u002fT0T9e1\\u002fNH+03mvG9zOSvHmnfK\\u002f56EtHP96+jJJ3eV\\u002ftR3pNn1g2TZKx85AW8wQ\\u002fX1rRUJpCUdK4CN2XrSvjiI+zrDYvCeIhvgd3pwosO8lGOt0e6cEWsSbsIAAAAAD8ziHpInP7zeyNm1sossB6xNI0QKVopawk\\u002f3qCXUW3iQl00z2RxP2rLcCV++ZGrySkbePv1Q6X5U19I1h7kEr5+piwifqfzaSLaFw6P\\u002fMnuUKf5zyfrcxXPfmuY9eHgSXcON87PMDkIg3XfJScl5VG3fXl0de0NwP1ccFkYOVv0jv0V3rhw+dDK8syRbyaifddrNS6\\u002f54eMKh8j3VM5M9zuqdVcQfJFqpIZC7rjau3Awc\\u002fuO+ZJKT3PWhoW7mjvIu\\u002f6YNTbZ0fK8fJRiYRnaOQAQYcW3deoTVE3uVdP5XDF4NGTJ2grWC68BgcW7ZerqxV6WxzVaxM6R7a0J796QD+UaI6Rh9DNtw2\\u002fdFxKQ561+L4cfOPw3ds3eh9W3fpdIjpgtOfvGLuRYuFLN7pTvtwzq4eWErG9SZvPrrqaN37jFbcR0c33D3srQyFeF3xR8bGQ9+pA5xXqyOfSEeQ8a2t74439ZrSVecDimExGD20UvMNX50tT0hA9euj5iW3OHTMQFKqOUFias34BUqzWvigju5+\\u002fKmKfVOZfInreaDp8+hsryDGqC2\\u002f+p\\u002fOGTS12p7K\\u002fDsppSwytMpdIypcL\\u002f+o2IvqT+87ij\\u002fs7YvXVv4Nsw3SWCYbhawc9dWvkxGUji6xMcvd9rktE933u\\u002fxm28Mbf4Y0V\\u002f9NnkB+1cLs1yA99zd7\\u002fKqIcznS2ZrEgP17LjzyaHPHF\\u002fmLKVXjAv2N+tSWFzkpaZC238auHP77I7Cxm9ldt\\u002fYy66Kpb\\u002f5mS5BsxvEuU4PBNG7Xs+HsmpwWTzvyb5+uEP\\u002fxyWt86m2OHkffHzri2IJNqU2ETFgkq85hUx1aLX0S0fP\\u002fhRPSjX3qSP\\u002f7uaKHh5g8NZ1z57vAdHRzViJJk50fcNrroqLL2ytUvoEULIotEPUpKgMbYDGOH7\\u002fsRLQrRTPE2PZmIdn5RG\\u002f8XpPPzidw3c3SAPGsudUZGDhOb\\u002f7Mj4ZufiL0dW8tNNZUiUPKRtr5283znapFwib0d7f5EkQKRkAAAAMDUqNaiwJO6WiywM30Yhm40hM2jIO0kng7GRQUi5jw+8ZSh7H++PvLQqqFl+EP\\u002f6i7e2Pb47yc2Lu5IhzYubmHkpHboyOHG4fcOT+HcNcs\\u002fv3p04tDiLa5Yt3dOJKKP3j1URCSRizgzfuzlQ3Xh1\\u002f\\u002fsInJcnwS73jFM4fy4jgAURWr5MZe53T4gbl8jLV\\u002f00eHGKr3\\u002f\\u002f7z4Ut54+feG1ghWgiXLkOhJktEoMxu0pJHh9FNPGA14wYQj3n97iRw17vADokpqc5FqSpILSbokfj2kM2KTEH3uiH37ydGAZSh+4\\u002fQ7R80PjSujNER62O0qGC9bHDz\\u002fFepIcYTkpTQ5kQsQE9Hh9w5dXOV94NWW1R8g90SihMLZPIzypknmcrE9tH\\u002f7b9wRePbYQ6r\\u002fhxZnExKbxIJP8YZn3QOcVaThm7T\\u002f9kX+kjQaebnEstE4L1RdGmV5YrvLD\\u002fYPzRiSE2khP\\u002fQvfYuILvyrj\\u002fNHdpOkRd+d5e5QCPJMrSMw265+YmR0lNRY6i2Vbt\\u002f0tv\\u002fGG2f88h\\u002fzhgw4l6KW3t7z+HCcDy7OQ6+XSpO+CGzCSamvJo+GF7Mys6E3gMotCq1WS2IaJe2SfOS5n\\u002feLUYHTLciRIjdEUeT6PAIAAACgaqYRTOh6F0pwI4c+urGOYlRQKxHu6ba34yZcyh9XtgRxlONnyFkTTUj4ujhhjmR6kbSysjAsaZE4LY\\u002fkz\\u002fncd1\\u002fMG2p92qZxlWCqF6z8Hm+88H98mJLS+4hoz8u3UqNI6gbZfDhfeOlVRPSK7w41eFk5Fp34sJ8YLiqzAqeqMZGJnkpR7iWp8PeeXu12z3p4qJdTPRdKyhszPMBEyonBRp0oQXfygEQbYz1JRkAW7P\\u002f6pP\\u002fMG5v+6PcpKf5NblCli5a1\\u002f\\u002f\\u002fvmGHF6lc+8J+G\\u002fX\\u002fwuWSqBLmo6EEZGTGuWCuFCuGziaH4fV6wXpx8J298aM+w2\\u002fLQ+eW0GZlsRJ\\u002fKRvzEh0en7B6+z\\u002f\\u002f68P3kjLZtU3mP2jxFXznz3bzxc39\\u002fNRGt\\u002fndDfxrxZrAuLL4kZtaDz1eZOv8Ppnxzf\\u002fG5\\u002f0CLbCcZNasEMfnIrfGLZOvd2xxT\\u002fI22b6CK3lQ\\u002fXOT3Vs6DyhstvXr6LS\\u002fhaWjj\\u002f3tL4cbz8H9ed950fPKm4czIGRFo8apBGIbuHXKsY2JEQ+Lp7l\\u002fL7i8AAAAAhjQtPdF0Ei6pdKdLB1EaBF6LFZODrU0spgXWe0SRFd8FWW5k8VxUZFEOpKSQ8q9WS87u1dXKfUr5ZraaiAYjWM2PV7JladaaMVhhEm1JFHFZpRbO+927yQnKkBxNov37Kt4Koor96a9eS0Rv\\u002ffBv8ccr3j5cQr7wG29WR7LebxMZCfJoOOOyzQcsjXO6qvzvv9Xdd37xjbzB42\\u002f3c\\u002f4fInrVij28cdnH30ZJYTXywqgcQTbZ9v\\u002f6vSt446RvX0xOYIU1Y9hXi0nJz82kZLPmI\\u002fnRk5NE2aarUv75Ms7y7WOLlMqqREnZqBjxmxEkBRk3RSODmXwvZDDFGsfjbL+VNgU4x\\u002f2KTp9ixmAkFFaeiDT12d\\u002f+QyL65XsvU9eySjz7PSwEhozCU1WOKV8iJhf71VCnKJTLDhHt+8D6hlkUahH1AAAAAIB60kCLgu9PDbvTKWCXxkU18aVVVkoPmaIyVv8TzZt1cVFk7SKuXJ37IwqKpE9Qy6I2865TmXfRUvf\\u002f+uFQPbKGBNGGWe+3Sk8Bw5LKja3q1pCToZZHT1IzWS2NdaynFrt2kzNW4mrAKpcM+yP\\u002ffqhef2owPFfSWrNabFMGKf8MUS6l5tNfHDt0St\\u002f26WGEi0r2LIjSxmEFksFJqmPLayM6OhtmZCjEIvUfv\\u002fQudyjIZGj2FVWyenZm+WBbCUw5FsjrLY1f9eYP88bln\\u002fotSoxlGKFCRUTPtjmy+FUU+5NNtyymBfd4clxwrDcAG\\u002fyk\\u002f3Jf8iXiwZFuv+XXhuYlcexIqcucji+JMo2enajs8ijtHpVN2fpX8fsgBgb7eisHLLtfjao0br1MmmdRmEHCpaqBQAAAAACURQMtCg27o5mgpG9bCVcdKcl9bSyD+KKzPG4r2YjKKDI+YxVZWeznhV5ZzxbtTRYgebldMvFZi4is0fIxoh599O5h0gNJe6f8BlJKEquK27YolFKj\\u002f93yYaz6Nw4dyRu9v1yURU6wlWyUuixjKFe3uQ4ZG1QiqJgRqRguz0Ucxdk4kVKfWoXOSxCBoEqChX9+pTpAHqVy\\u002fpcSYmf88Nd4w1Yb99l4REdXfZD3XJBx5huREVDqNRljg60urd5zaUp0d6maJu+eOsAGqrC5zj4ga0JTzjo2xzA7ARDRya\\u002f575Sk3KtzxXon3\\u002fSFrKAjfBWrZcAFfnPESiRpTrY\\u002f53\\u002fwxs98dBcljbYgtjfuhvJSSrwRt5Pukcp9x9aXsr+H3IitEPbk7qZFPcBHAQAAAABemqZ\\u002fw6KQByUI2zVFPkC0DYl6t\\u002fYAVV03RSNRB9gU8bw+Laqw+Kiv+4ehuimOBSzyi4IrqKBquYStmaRC6kW9kPQDoif54rBFjf6H3x9WrzjmEx9198vw3nfuO3njlLuud8+1So+oR6IssoVAPtraymynsXETgtKTbHS+IOPJju4pZZpZtZXkg6JgiQu6cpWXBWOJBVCpMG1+C583jF0PlnOVaUo0Ql9tdOmVUzZCJxXg\\u002fsu17Aq3r6C2r\\u002f922K0LRWZ1IpW8JOWLrE60vizyynFWD4lREh8jeaPUDVonABWmYT2cbIoRVUU904RpR09O4YeYkniUjUP2G2S758uOIL8\\u002fKv+mTTPzvY+shUUBAAAAAEuFpunfjbcolJJXPDMPRP5EEarirSztC7JUz24BNmPartOGdgtJBqCQbjil7faT3\\u002fOZjGGj+8qbeEMc+8VywIqUddi20e18FVv9T9wdlHphdS9B2QnE81xi08Vgo8I3bF45Viutn4dNvMh6p7QgT0oSREoGfn6a1jQiKM3VGmzsqi2T+UYp+w05dck5pCXloQs88mr1mlLjIHzdVlafzPIoyjxGzlNmldeGS\\u002fj8HsR34Y+ffBVvKK+XcpPM8kVt+gQZK37zpQ\\u002fW70fgP0kmDFswVlC6u3Wh4Mdtf+usRYQdIHwRLmSenbV++bphrRTqPbF1bmfloxCPiKKo3KJITZtWGy8ozIRPfeE3eUOSIwkqS5I16Ak8X1qjokqZkmJSFgP7x\\u002f\\u002fNzUT0u98\\u002fkz9aM+nHXn4DEe388Un8MeWnihFbomTDlYlWDOycfFoCKUXiEce94cfRrC9BgzZHrFo6+d01OgmPoFLwWq9GTgNl8xSJX6R6NNY67QtOk+6plE3kny9V7ikygXwiM0laKrZ12ydop3m+d1kmEInBup0qQUdyHEmGKxan5AYlQPfqU3bxBid3olHIolrzoqQ4Pe7Ga17w9\\u002fxRXjk1JrL4otxpyUTfSRIqcXJUT8SXFYqSslYzcnUrCfl8\\u002fVT5KCtA2K8ny0Y+x1vy541W3rJkhGz12pPz5vNDVysRLmqR1OLLpW2ftVrBsYmkZBqapqDAZRC4HFK\\u002f3\\u002ffVZC4Glh4AAACA+abb7XY6HbYo9Hq9fr9foqDQNP0bCZemg8+ubsu9KNOxaDA2F6xq0LqYCWwAsLVwJM6K7e32RLEMS3IbZboXrcjGzim9TUZATMSSSZexRn5RNzm\\u002fUH4PUMuHesP6QCqbstXpVdBppsWejEbuO9JmgxbrhVo6sU35zOZ2KFT5JbsOJdhkTW4fiOi9ZwzzQf1u+3pK8qu13VBXf8bU0VYVk20tLrXEIJ1UToKUpMQP78sTledTcMlkM7P+hoJ6c5RDq4vywLUmH1\\u002f\\u002fpXtitxMjCn9HMrMp2\\u002fdKpeGSjtk8Y6penfwuZab2st8pn0XE7heLgs15Xy6Pbz5D5rUgCKTIov04IUi4BAAAAMw3rVaLCzITEZdTLtFNoYEWhfrcUSmOhzPEt05JTgod1rzFIUsEeVs6mUV+UbDOP\\u002f1W3hBFnG0P9zz+MnUJm7mI8y737301f7RuDcoHymYZUpor+zSQ49Yg2ZBUFSir8opphC0cVpW33pqsd3LdYUryYczvQ+dT7m0SIdaTJIm1aFpqGZuMEUJQPpV27dbCL4xNuKTUUPuC2UzeSnuTG7Hr2dx\\u002fGQHxPLj0K9t4Q2Xe9WUTp9FrbFf0bY4vHhxbB9z6KjIp9gx1gHRPKcfWc8ImXOKHa90FUmJHGVvdjcdZblwuoTKq0Wj8UzwQfbdskyCxuU58d2yZe4EvZ\\u002f0MMl0UrT2Mu+cr1mVvxI6VlJkey6Lw+OYz8h8suPOda1Av0ZxAjbQoAAAAAPPFMXd8atxTXNkiCAJxYIyiiK0LZckKNdK\\u002fS6FWFoVKmTw4yq7yqmSlKpEtOelKVLoVqyukLOypA9SyqE2jJJqTWjkWVVj8w2\\u002f+0OmJ1yoFZUuQO1U1oEUrzQx\\u002fUCmTyYlUVPq0XTJXSrxNWJRpZZGYRmuwUdiFbfYFkZVmUS6tlsbBIzZdtKAC5Gy6bp9GKyhFlkaqoS2VZPvJ2Ko\\u002f6uoqkVdiN7jxlJrFvixbNpuTL92Q9JOfVEpib4GHQnlauKioh5TUTOoAa5NQr5zNXWZ\\u002fcHxxnmrQbISLtCnhDxxEKq5F1p6hsnELvuJPEiFi3R18Vi7ppxSFmpqPQhzH7XZbWRc6nQ6vQUwOoh4AAACARlFueGTT9O+lY1GYnPxLhnYRWvQJlr59GW3J8c\\u002fnFeIU7Yc1KpswWK71nXecxRtveuI3yfFRsMkbxCV7uH+kNAsqZt1mScqsQeyrrpRiSlFLsCnu7qI5cc9VAWIy1gh7gxJsIqOk8likPFxGHqVNGMWPW1JNyAhY1ZD3WH8CyffA3UuJOxAyI0HU1e0LpuwWVnEvcFHfl8gut\\u002fMw2vh+GSuVUMR6+IuOy2+vjTCS3AySZYuvrqqWU6pbCWPTbbHJROwEFl9qKet5o8bKOtaoR2NNEWIcsg4EObEPTtntUiJ05Ej2TxIfI1tmespRD2JCYAMDoh4AAAAAMKTX67Xb7W53uBbT6XQQ9eAFFoX8ZHo52DypNuvwm1Z9mZzQAKvTqzBlqwapHI4perbouLz8nJIvzxc1YCve+ko9iSKl6h2L2if9F1KSvql+ug26+BZxfQlraeTSYZfhfbEM+X3RM\\u002fW8\\u002fKTYrnw+CmJYUl4vNqTe5xYgbd73uWFB6vZfdtw7KnA7BULq87eQH35PxCpm8y3KV4Zfb1\\u002fVNzJacmELSh7y+y2pUIXMnB80ejFsLS6VdznPUORPYO9rYSZ5FBhebig3fzPBogAAAAA0g9JFBKZp+jcyM06C0lzFfiAuCD5VoEDUQyaiu0sphPxBDT5vZLvuzrdmTRF25VKV2bWFprhXPgWFcpQD9lWdyayElGe0c6qMFt\\u002fDtQU+xJdCQj98WrvyBXnLr32cP9pqFyo6Rlq27uvKJV7FCFAO5dLn82+D8q0vCxvG7JH2lhlrORMjEFtTUpriW1O2Lkoyd\\u002fmSf1h7DNtyxDjhqwnii6YhYwbweSSQWeO3Pi7KImKjUfJ\\u002fI1QeC3VpSgrJURUcUvD9EM3QolARDbQoQCAAAAAAyqKBFoWG3VFhyq1Cq9pUakSelUs+V6lN5Ohkqg61LFdbLYfldJ8qQCZmIbPsYQqTLMr64EgQlSgwD\\u002fntNDb5ge\\u002f4lAx0TP4R8FlTMnPbFSBlKKpbbpeofTFupejNZWHtHMpgdtPbhjUsJPWnLztCymuj\\u002fGMyvzLWYKM6XMCUOMlPVk5vBpuoMX\\u002fp8\\u002fx31DyLAvIoAAAAAMBLOUsPUoIixZMiiqI4jsMwVLmiuCxm4ul8ShRFifttU3NEFeq+YvKWrYIeeJRO65qgtB8ieiq7P4tUkxQ925fpr4ASqfIq2iyQai05ZVQzFSmnzeuJ6JInvui2TEm+FLxQKgriYXuTXf2lhZf\\u002f9t+M9r1MHckRH\\u002fbFk5Kbh0bh4MYMkFdXtrfM3gAr9+5X+31ZB1LC4nn09r7mN\\u002fjjstV\\u002fog5wNL\\u002fk1eUCJgQeNInceeL2oQvF+1+l2zR9KO5NorBKMH+V5NUVQ4IgngTMgmuOSZ8gbQaLE3dai5TP5JDSYUZMg1KaVaVzkOMnsT1wU\\u002fYRL2RxOHJRmJJNipASRwMmNdRzYodWq0VE\\u002fX7flzMyDMN+v99qtfr9PjluBFEUdbtdOV1VySQiPsVNMuXuJ1P6AksPpeCzGKsDyHzV8\\u002fOpL\\u002fwmb7z5n87jDVUd2Lr+qa+0zegiHeY6TGf88h+ri2b+TJcowEkophQUnsIvkVzUptbhZyS\\u002f2uIM6DPG2snblw3a4nPc84lfhdPmFKOwbbysS1PqKkymSKqyEacMmooUtQWQVC52i68AUkr3lDNgymqXOiCz8czvrw2blCN50TMlNZx6NJP8FGDpQcNSAlsFOp2OZHtwieOYhYA4jvmuRJjodrudTkdOb7fbvJ\\u002fn\\u002fsFgEMdxr9fr9\\u002ftS60L2q6YAAAAAUDqT6t9BECgzgE0byeYEZUXgyd7WseDTVUEL+SjnqqbcFmBRqA5faiOr0\\u002fu0HBsMJimYVM2kEingjif49IkUZ67CVxd8CyIWpTIWUINSbAyqTVvmJ5OcfoWlpCESuMMqxDSlTXmUvupWeXql3hzfF8HeqS+8sBQ7h28oZL3Jt4o3TdubRT2Ruq0FZNoeYFFYRGISKFuIgtcO5KMcn16ywm3WrZ7Jf2LfBTZIFOo7AAAAALIpP49C4vSfP10Ueyna\\u002feyRQES8wMGLFK1Wyy49pORc8sFCGYuxmQqiMAWHxLqRuYRsU7soRH86\\u002fEtDTWX\\u002f+KOXqaeqA\\u002fKr8qkeiIsayf+eFAicy29c4Sey4Gi22GMrD7ZMl06Yk\\u002fsB2QX4PFlrKNUJpsCXa9xTUh5lfp+JodvmSGUXRbxAgzn770t47LaQ2ZTP2SiznykFtSdf4xdPySduGu\\u002fdK\\u002fdFYqztML\\u002ft53tPj\\u002f19rCflh0dWlEKSbRJxHHe73V6vNxgM2HfBXm4wPlV0GAAAAGgAE63oJzoZ2MAHnsvF0iBnpfsouL4O0oKvKbcFTPxlUUWuoek0zkyy8j2F7lXBdLqdmfBKhef5ciJV3U+gYhrzm8F85FHQ+aI+hw8a5\\u002fvo6\\u002f\\u002fk70+lb6BMQxKFVBHf\\u002f9VXzoGPgpq23Z1qjywckIlTcGd98ngwiOUg0YQAAAAAgIqYVP92IxpsSILkUHItBK7VIQgCcVR0xQ63KddsoC6h4ikIFgVAROM4q2eWfhbUeuQS9FCZFyaPBJkv8jgrZFK4ZlgmKdW5mEx3hzymiMKhIpm1re3VfT2X+3py90saZlGY1JkxjuMgCMR\\u002fsNfryf5utyvav5sjwfVAHAwG7umukMEtq2bVfvdPAAAAACidcvTvxDjJxMMSj0k5fdxTYFEA80tmSgMfpeQhUI1Mon+X2FRTyXxkoohLOWmpmFxidoEqluqrM04IvoLspYzJ5AEUzfNRKCc8MqffgO+wlNMLnAIAAACAsmia\\u002fg2LQoOZvMBEzpbLbbwmzLDAAQBLiuZZFFBmGgAAAABemqZ\\u002fp6RlbNidzh1TWLlsKs3LOjCFO5J6Gas+rf9U2JpSbk2K0rEO\\u002fExj4j6m+UWwg+Yr75JS66ExFoXyUzjPHAgEAAAAQFk00KLQsDsCoJ7kCd+HY8SSxWfeoDmxcExiPWqeRaFp0yoEBQBAk2jewlPjl0iaJyjAmREAAAAAXpqmf8OiAEC5zKlGW0piYwAKAIsCAAAAAJYQTdO\\u002fYVGoOXOqnoL6g1cL1ARYFAAAAACwhGia\\u002fo2ES5PQMG\\u002fkmqfHmQRUXQKgtohFQbJ+VcTTb3kJLAoFGXiYdb8AAACAComiKAzDKIrKbbaBFoWG3REAoCY02EYFSmRWFgU2qLdarX6\\u002f32q14jgu60INtCgAAAAAS4owDFut1mAwiOO41+v1+\\u002f0SBYWm6d+wKFQB\\u002fMlLoZ6OBXi4pVCHZNV4lDVhJhaFIAh6vV4YhlVcqIFFoQAAAIClAxsPXO+Ect0UmqZ\\u002fw6JQW1BmegnC8TIF1Gtb0rdwUyAP+HqWSDGLwtNveUmBa\\u002fGF4jhut9tE1Gq1iKjf71OpgX6wKAAAAAAz5vCP\\u002fO9xT1GyRafTEUNCEARRFJVlV2ia\\u002fg2LgjCnyQ\\u002fAEgSL6w2mxFARa2cSMg1O3I3p1Lyevo8CWxTcuY+dFcryZ0TUAwAAADDHWLGAVx\\u002fKomn6NzIzAgDKRRRZwWq0hfFVuYQhcH6ZSdSDKyuwgaHEIIgGCgoNuyNQBfWMVAQANIDZJlxiXH+FyYEzIwAAADD3cLYlGlkXSqRp+jcsCsACX7kUxJnr2WOfxxvW4WuJM7\\u002fvDy+aqBBTmh8TWh3SWBWgeUWhyrEosIkjDMMUQSaKojiObb2KOI5FCFKn8ylc5SLnKQAAAAAokUn1b3aakCQPvnWRMAy5TIVKBBFFUbfbldNd5wtffYuUUwgWBVAxKAsEAEineRaFScMjWUpgFb\\u002fT6XS7XXtMHMc8o8dxzHclwkS32+10OnI655ai0RJLYn2LbrfLTcVx3Gq15BQAAAAAlM6k+rcqRJFYl4LNCcqKwEKAyhEhpwdBoJJM8Uc5N6U\\u002fsCjUk8I5Yud3hRgAICwdaxwsCotIdLC0qaB47UA+yvHpSaPcZmXpga0I7LjAHgzFeg4AAACAPJQfHpk4eed3OWSHR7ufnRv4X\\u002fGK4JUL5RWRknPJB4wQU6CwPQCGhJlQoiGn0oRFYCbYAAqbOUrhS59cYrhN3cI6Vu6vNgHB05W27lD+bVQUhuDaJNQqhhIUMOsDAAAAZTGNhEtuzIJLGIbW+TFdznDFBWnBZ4QATUVpqCWqp\\u002fCHEEocAdgPqHF1nK3KXsAeULreXxNDQvOYyEchsT6VnbPZmVE+2jwK7kaiB0O\\u002f3+f9iQIBpAQAAACgIiaNEXAjGlRIAidK4lncjYZwIxqCIBB7gyt2uE2p4Ai3KRVPQYh6SCWlSGtFJzaAObUxLB0P85rA35GV+\\u002far\\u002fRj2JYhMQ6s\\u002fcF+lFzrw7lPmIzNjHMdBEIj\\u002fYK\\u002fXk\\u002f3dbld0fTdHQqvVEqPCYDBwT3eFDG5ZNauaIngkAAAAAFVSjv6dsxCFz5kg5fRxT4FFAQBQjDm1HoH8TCcABxaFZHJ6CfgOSzm9wCkAAAAAKAuUmQZLCAmzfvrlwzd\\u002f\\u002fwUnz647oF74DAk2Q0Dd4vWXLOMGQC1BL6tSaJqhPiXbUsPuFNQcZBnKw5zWEQb1RES6ZasP8cby+w\\u002fyxjRfLSw9zAEQCAAAAICyaKBFoWF3BEoE3mp5UJF+k6hibKJfgnYCvGnToZ7j3DyLwqRlpgEAAADQYJqmf8OiUCLisVVi1ZYGg+V2AADBogAAAACAJUUDnRlBWdREJ67nMqQF5hYAUpiXLzKwwKIAAAAAAC+wKAAAAKgcGBLmF1gUAAAAAOClgRYFX3JGREPMKVBEZkv+dMWSjLKUHAwA5GfcXM7T4bADh826C+XQQEEBAgEAAABQFk3LOoA8CgAsBZDkA9QWmYYk0KMivhttQB4FAAAAAMyYBi49AFAiCP6uJ\\u002fB+AGBqwKIAAAAANIcwDMttEBYFANKAIaFWwMADQDphGPb7\\u002fTiOSxQXICiAKcE\\u002f8fh9bx754ycnB+8PACnEcdzv90tvFksPAAAAQBNot9udTqf0ZpsWTOjLtkTIrwAAAKB6ZhUeGYZhGIZRFAVB0Ov1sPSQBgQCAAAA88V3ow2TnB5FEbsmlNSdRTRQUAAAAACmzIT2gxdED457isgWcRx3u93qlGQICgAAAMAcE0URLY6KbLfbrVarLAMDBAUAAABgUiQkJ4imfekoilyZoN\\u002fvt1otlh5KoRxnRhFnUrwn+E7Y1cLdH8cx36E9nU+JoiixWT5RtYZaDwAAAGbIzGs9lO7MOGl4ZBzHQRDwnN1ut30iTBiG3W6XiLrdrhuYEEVRu92W012ZKAgCPqXdbifecLvd5gMAAAAAUBGTCgqyEBLHcafTSZy5OQVEr9eL45jFH5Enut1up9OR09vtNu9nyWAwGMRx3Ov1rDNn6SkqAQAAgAYwGAzKnSJLSLgksz5vWO8J5Wch8gQfmXh6v9+XrBF8otssx4G0Wq3JOw8AAACAFCYSFMS3wO50UZO6HJ\\u002fukOk263pvShwIjAoAAABA1ZQf9ZA4\\u002feef1H2lLCR\\u002fdWaKypTkjD7g\\u002fwgAmCaTFMh4\\u002frsfIaKnrl9Xcp9A2fx4\\u002f\\u002fJZd6EcyhcUKlL02SYRhmFm1AdmfQAAAKAsppFHwZf2QUIh1M6UptiuwMfIti9+EgAA6skklTZhSwBTZiIfBetmSEkzPZfHlo82j4K7kejB0O\\u002f3eX+n0+l0OpxxQWwMkBIAAACAipg0PRELARL06KabZkWfZ3E3\\u002f0MQBJ1Oh8WFIAjE3uCKHW5TnGLB9lNdbng\\u002fSLgEAABgdsg0xN4k1bHvA+unM99NuvTACZfEf7DX68n+brfrhkRKjgTXyWAwGLinu0IGt6yaBWApI4neJFksAAWQCUxWMdi5cpIFEdBgytG\\u002fE+MkEw\\u002fzJWP2ne47xQcsCqDBQFAApQBBoVKaZ1Fo2rQKQQHUH\\u002fwoA9BgmicolJCZEQAAAABNpYFlpn0Jl2BpADUBtgQAwBzRQEEBAgEAAABQFlh6AAAAAIAXCAoAAAAA8NLApYfCSJkWBgvJS4f8FXrUS+KCFwYA0EhgUQAAAACAl6ZlHUAehfmFY44P2\\u002fsD\\u002fggFvW4c+dbHeGPfTcclHjBJ6WQfVbQJQKUgjwIAAAAAlhBN079hUQAAADBDYFEAAAAAwBKigVEPyMwIliyiwcDVA4CZMziwfNZdKIcGCgoQCAAAAICyaKCgAMCSRaoGAwBAWUBQACCBn+w+xBvf6Zw4254AAMBsgTMjAAAAALzAogBAAjAkAAAAA4sCAAAAALzAogCKgCV8AABYIsCiAAAAAAAvDbQoIOHSFIAhAQAAakU8IgzDKIpKbLmBFoWBh1n3CwAAAKiEKIra7XYcx0TU7XZ9CnMxGigoAAAAAEuKbrfb6XTYosCKcYlGBQgKAAAAwNwThqFst1otti6UQgN9FAAAAOThqC1f5g0UD5t31PJ6v9\\u002fvdDplNV6OoMAmjjAMXYnGHpPoZMGmksTT+ZQoihL3hyNKuQUAAABgVnzvI2tLaSeO43a7TaUuPQQTevlxn1qtFo1EmMTOhWHY7\\u002fdbrVa\\u002f3ydH9omiqNvtyum9Xk8mfvbF4FNcK4rsT7xiEEx6RwAAAEBhZBo68q2PVXqh731krZrvZKotcd2BJvdRYCmBrQKdTqfb7dpj4jhmIcA6Wbj+F51Oh+UgGq21DAaDOI57vV6\\u002f3+fb5hN5f8oVAQAAgCUFa9E81Zbc8oT6dxAEygzgfmRYxlFWBJ7s2+222wE5PQgC11QgH7llGQVuQXUAFgXgAwklp4Na+bYL4bJH7QegAczEohAEQemGBGEiHwXxLVA71R62hMjHMAzZDJB+S4kOnOqUxA4AAAAASweZCtUUWdbkWH7UQ+L0n7+7Vs5g2LnBhS0T1rGzQKIJGCGWCDAkTAdlIbAGA5gQwFJg5b7907mQ5Fly1+JLNDCULyhUpN+7Ngnx6rTLHIRZHwAAwFIiiqJyczYrppFwySfXJIoUmXIGJ6rsdDqDwQCLDgAAAEClTCQoKNdCd6fa4y4c2DwK7oac7jbb7\\u002fflWt1ut9frVSo9ATCnHPnWx9R\\u002fs+4RaAhHbfmyckEFS4dJLQqtVktiGiXtknx0Yxpl4peMUXykTPlRFMn6ghv36DYiB8cOE94CAAAAAHyUEEzoOg+K04AKXGTHQz5GrUS4p7udce0Q0k6io6IKsISPAgAAzC\\u002fPf\\u002fcjvPHU9etoDvNMyzRUtQ3myd0vmc58V860mjNM0RfRkHK67xQfEBQAAGCugaCQkzkTFOoDBAUAQG1RUyDN4SwIMmmeoIAy0wAAAADw0sAy076ES7A0gJrAmaRLzP4kisszR67mDcn0sgT1VNbaRWWvCfyMnkLuKTCHNFBQgEAAAAAAlEXTVvThowAAAGCGwEcBAAAAAEsICAoAAAAA8AJBAQAAAABeGujMCAAAoAGoYiX7bjpuVj1Z4sCiAAAAAAAvsCgAAACoIzAh1IQGCgpIuAQAAGDm\\u002fOt\\u002fqrbO+5OVtu7QQEEBAgEAAABQFvBRAAAAAIAXCAoAAAAA8NLApQcwfaR47mF7f8AbKHUDAADNABYFAAAAAHiBRQGUQN1K+gIAACgLWBQAAAAA4AWCwmzwJXuoFXPRSUI\\u002fy2Yu+jkXnST0s1TmopONBIICAAAAALw00EcBmRkBAACAsmigoACBAAAAACgLLD0AAAAAwAsEBQAAAAB4mdelhyiKiCgMwzAMxzoxCIL0tYnMA8pqpOpLTKGT0+lGHQazrEaqvgQeermXmIt+4qGXe4npjGdFFJ4Z05k\\u002fi0Icx0EQxHEcx3G73eZxAQAAAJYslc6M9ZWMfARB0Gq14jgmoiiKut2uewvTkWrrIFzX4YCadAN3WuIBNelGHQ6oSTdwp9M8oNyrrHvln6dfa0K+9sVzpCfpM+OEzJ9FgUbWFdngoQEAAACWLNXNjHMmKPCdq9UXCAoAAACWLFXPjPPqzOiihiMzzefkB0znKnNxQE26gTst8YCadKMOB9SkG7jTaR5QViNE9Mhfb81z2Fht5geCwiJcMWruXC4AAACA0ievEgMf5mzpAQAAAADTZM4EBRaRlEWl3IBRAAAAYI6oemacM0GBiFqtVrvd5m1JLjHD\\u002fgAAAACzpdKZcf7yKNBip49eryfDUVFSqknI7JLaH4ZhrVJIRVE0R\\u002f2p7WDGI+arS\\u002fUcT+l5FEU1+abn6VI9B9MlDMNaRZCl9Keeg8kvgNozzQ74ZsbJmT+LAhENBoNer9fr9QaDgZhc6pauMWeX+v3+dPs1BnEcd7vd+vx2ZPannoMZRVG73eZud7vd0n2bC5CzSzUcT7fn7Xa7DoJCzi7VcDBdwjDs9\\u002fv1+bKn96eegxnH8Ww7ZmfGMptuAETUarV4u9Pp1OG+cnapDl219Hq9VqvFbwi\\u002fdnPRn3oOJhF1Oh3fx5mQs0s1HE+3q\\u002fX5pufpUh266qPX69Xnyz7I0Z96Dmar1ZLf\\u002fIYxlxaFRGqYrjGzS3XopI8wDPlXryZk9qfmgynbkmZ1tmR2qQ6dVEh6Wv5Yh296zi7VcDBd2u12rb7s6f2p7WD2+\\u002f06mLgqYdaSSgmw+OnuoVkrbTm7xF8G0ZVnrmhaqDZKBpPSn\\u002foPJlPDvs3py8l9m3UvFuHrUp0Hs9VqcX9q8mXP7E9tB9PtVavVqsNglkVzLAqKGkqdKY45vV6v0+l0u93GCqTTos6DyW4r5CigMyezS\\u002fUczzAMgyDo9\\u002ftio545ebpUw8GMoqjf79fnhczfnxoOJsNeAkQkMQhNYNaSSgnMr0VBUZM1Vxeqh5Ih5O9P3QaTVY1aLWGO1aW6jSdPEnPapZr0XP1MzfzLXqw\\u002fNRlMy8ynoRJprEVhHklMmgGKUavBZK291+vVpD80fpdqNZ7kRMTVRxvO36WaDKYbvM1dmm0gSbH+1GQwLTXxRiqFJggKVSelKkDOLkVRZN+kWpnR5ojaDqbUia9DZ5g8XarheEZRVIfgUpecXarhYBJRFEWdTsedmFut1gwFr5z9qedg2m9To3wbZ23SKAfXh6gmlqiULnU6HTapKdcnqplpelADa6TC9qfmg8nWVO6kS227VPPxJMecyzcy8\\u002fczpUs1H0xFHQbTRfWn\\u002foNJJlC2VuM5CbOfUMvClX5q8ngSu6R+SsRLtj6vu0t9BpNR\\u002fan\\u002fYCZGec22byldmrvxrMMasK9L9R9MRZ2\\u002f7HMxmMqPtQ4vZ1nMZQpnH2yPqpW1J2eXatjz+QWDWS41HM\\u002f57VINez6\\u002f1HMw69mrCWmUoAAAAACAcmmCMyMAAAAAKgKCAgAAAAC8QFAAAAAAgBcICgAA0ByCIOAC92o\\u002fJ5muT36qElGZFTi5hZDHr5BzmScOmnt6YgoHaaGRYztk1mEXAAAASoN\\u002f2G1snm\\u002f\\u002fdKiuBLNK\\u002fMzRqpJ0QYJXM9uhpEhLWhwymt4O1Sy+tERgUQAAgKbR7Xbdj43JJWzhfI68Hcdxt9vt9XpRFLElIIqiwWBAOfJqdzqdfr+vWiZTkD29hcYaFWYtqQAAACgNIrJpAbl2M5l8UIxrZuAT3QnCLZ0shyWeLmmR5E9uLkW3QfeK8rHX60k\\u002f5XKqqcT7dZtKtFuodKiqP+refa11Oh2VeNF2rKlTajPvCgAAliY8c6vJWOZvmZITtwejiXngiAL8J1f4SG+q1WrZXMvupOsTFPgSfJjMxIlpmwVbcDJzbYWbYtEhPRu0lRt4Q4YisYVGrj5AUAAAgOZAoxV6mcBkW+ZRqyvLwWQyJbsty7SdeLpKtOz2Ib+goG7ENuXCIpHtodsx1z5h23FPcTtgawbJhZQ4IoKRHZnGsIIAAAA0Cylgy8WvVUGKfr\\u002fv7omiSPk0uI1Y+v1+y6nrOMPKvdb3wq3iKBtxHLP\\u002fAR+vPAnkFB4H\\u002fhjHsbtCIU4PqmXVBz6x+P3UFTgzAgBAA5G5PGe948IzXBiGiZXGpoO6NTVtR1Gk5ngFF7aWj+6gufJEw6Mfs4BFAQAAGkgURe1227ruE1Gr1XIn1AJ1jHgOdk8vTE45xtcN9+qdTkdMAu5hYi8Jw7Db7bpTvhIjfIOmAiJUH6SRRpoTCBYFAABoJDx1dbtdq+5HUdTv92VWa7fb6YF\\u002fCp6P5aPMrPmR0ydX090pnFtrt9vKrqC2ZY9dc5FBcwckjmPl7tBut6UFJUM0rG4kA0EBAACaCc92durixYJ2u825C2lMVTiKolarJakPlX0ikTAMxXLA07lkkBxLRrE9UXsGgwFP5G5mxsHiMMt+v89\\u002fSpSiuD8pVge+WbcF+atasGgMKDMNAABLlAKLDoVPVwdPeGmBsyzb6Tm9\\u002fXF7bo+0LcRx3G63GzmlQlAAAAAwr9Rneg6CoNfrYekBAAAAqBFhGOZZ+6gaXkNppJRAsCgAAAAAIAVYFAAAAADgBYICAAAAALxAUAAAAACAFwgKAAAAAPACQQEAAAAAXiAoAAAAAMALBAUAAAAAeIGgAAAAAAAvEBQAAAAA4AWCAgAAAAC8QFAAAAAAgBcICgAAAADw8v8DxoXTXJ+mutwAAAAASUVORK5CYII=\",\"x\":-0.625,\"xref\":\"x\",\"y\":0.0022500000000000003,\"yref\":\"y\"}],\"xaxis\":{\"range\":[0,5],\"showgrid\":false,\"title\":{\"text\":\"Momentum (GeV\\u002fc)\"}},\"yaxis\":{\"range\":[0,0.002],\"showgrid\":false,\"title\":{\"text\":\"dE\\u002fdx\"}},\"margin\":{\"l\":30,\"r\":0,\"b\":50,\"t\":50,\"pad\":0},\"showlegend\":false,\"autosize\":false,\"width\":530,\"height\":457,\"title\":{\"text\":\"Ionization Energy Loss vs. Momentum\"}},                        {\"responsive\": true}                    ).then(function(){\n                            \nvar gd = document.getElementById('ef5189ed-c6fa-42bb-a0f8-a442ba9dd335');\nvar x = new MutationObserver(function (mutations, observer) {{\n        var display = window.getComputedStyle(gd).display;\n        if (!display || display === 'none') {{\n            console.log([gd, 'removed!']);\n            Plotly.purge(gd);\n            observer.disconnect();\n        }}\n}});\n\n// Listen for the removal of the full notebook cells\nvar notebookContainer = gd.closest('#notebook-container');\nif (notebookContainer) {{\n    x.observe(notebookContainer, {childList: true});\n}}\n\n// Listen for the clearing of the current output cell\nvar outputEl = gd.closest('.output');\nif (outputEl) {{\n    x.observe(outputEl, {childList: true});\n}}\n\n                        })                };                            </script>        </div>\n</body>\n</html>"
                },
                "metadata": {}
              }
            ]
          }
        },
        "0bb3b26e9b8749fdae74d7417afd5698": {
          "model_module": "@jupyter-widgets/base",
          "model_name": "LayoutModel",
          "model_module_version": "1.2.0",
          "state": {
            "_model_module": "@jupyter-widgets/base",
            "_model_module_version": "1.2.0",
            "_model_name": "LayoutModel",
            "_view_count": null,
            "_view_module": "@jupyter-widgets/base",
            "_view_module_version": "1.2.0",
            "_view_name": "LayoutView",
            "align_content": null,
            "align_items": null,
            "align_self": null,
            "border": null,
            "bottom": null,
            "display": null,
            "flex": null,
            "flex_flow": null,
            "grid_area": null,
            "grid_auto_columns": null,
            "grid_auto_flow": null,
            "grid_auto_rows": null,
            "grid_column": null,
            "grid_gap": null,
            "grid_row": null,
            "grid_template_areas": null,
            "grid_template_columns": null,
            "grid_template_rows": null,
            "height": null,
            "justify_content": null,
            "justify_items": null,
            "left": null,
            "margin": null,
            "max_height": null,
            "max_width": null,
            "min_height": null,
            "min_width": null,
            "object_fit": null,
            "object_position": null,
            "order": null,
            "overflow": null,
            "overflow_x": null,
            "overflow_y": null,
            "padding": null,
            "right": null,
            "top": null,
            "visibility": null,
            "width": null
          }
        },
        "445661aa8600418d97dbe1410d2bd7e7": {
          "model_module": "@jupyter-widgets/controls",
          "model_name": "FloatSliderModel",
          "model_module_version": "1.5.0",
          "state": {
            "_dom_classes": [],
            "_model_module": "@jupyter-widgets/controls",
            "_model_module_version": "1.5.0",
            "_model_name": "FloatSliderModel",
            "_view_count": null,
            "_view_module": "@jupyter-widgets/controls",
            "_view_module_version": "1.5.0",
            "_view_name": "FloatSliderView",
            "continuous_update": true,
            "description": "a",
            "description_tooltip": null,
            "disabled": false,
            "layout": "IPY_MODEL_4015f25ce4c949bb97b92f00e0b622ab",
            "max": 0,
            "min": -10,
            "orientation": "horizontal",
            "readout": true,
            "readout_format": ".2f",
            "step": 0.01,
            "style": "IPY_MODEL_6b2509c4ae654ae480871a6d736c81ea",
            "value": 0
          }
        },
        "80a32b0d31c34f198b724e06c92cda8a": {
          "model_module": "@jupyter-widgets/controls",
          "model_name": "FloatSliderModel",
          "model_module_version": "1.5.0",
          "state": {
            "_dom_classes": [],
            "_model_module": "@jupyter-widgets/controls",
            "_model_module_version": "1.5.0",
            "_model_name": "FloatSliderModel",
            "_view_count": null,
            "_view_module": "@jupyter-widgets/controls",
            "_view_module_version": "1.5.0",
            "_view_name": "FloatSliderView",
            "continuous_update": true,
            "description": "b",
            "description_tooltip": null,
            "disabled": false,
            "layout": "IPY_MODEL_2d680e4e42cd409c90fbb25a5e04d08c",
            "max": 10,
            "min": 0,
            "orientation": "horizontal",
            "readout": true,
            "readout_format": ".2f",
            "step": 0.01,
            "style": "IPY_MODEL_c285a188d9224aba8adaf248462b9ec7",
            "value": 0
          }
        },
        "2e677db51a324e09b1e96fee37c518ce": {
          "model_module": "@jupyter-widgets/controls",
          "model_name": "FloatSliderModel",
          "model_module_version": "1.5.0",
          "state": {
            "_dom_classes": [],
            "_model_module": "@jupyter-widgets/controls",
            "_model_module_version": "1.5.0",
            "_model_name": "FloatSliderModel",
            "_view_count": null,
            "_view_module": "@jupyter-widgets/controls",
            "_view_module_version": "1.5.0",
            "_view_name": "FloatSliderView",
            "continuous_update": true,
            "description": "c",
            "description_tooltip": null,
            "disabled": false,
            "layout": "IPY_MODEL_8699ae857c544a7fbffcd85ffe066342",
            "max": 10,
            "min": 0,
            "orientation": "horizontal",
            "readout": true,
            "readout_format": ".2f",
            "step": 0.01,
            "style": "IPY_MODEL_06a7f38be0bf4dc790ab2c029a21f1bf",
            "value": 7.1
          }
        },
        "2cecd7b931864b0aa3e8f453ebb6a3fa": {
          "model_module": "@jupyter-widgets/base",
          "model_name": "LayoutModel",
          "model_module_version": "1.2.0",
          "state": {
            "_model_module": "@jupyter-widgets/base",
            "_model_module_version": "1.2.0",
            "_model_name": "LayoutModel",
            "_view_count": null,
            "_view_module": "@jupyter-widgets/base",
            "_view_module_version": "1.2.0",
            "_view_name": "LayoutView",
            "align_content": null,
            "align_items": null,
            "align_self": null,
            "border": null,
            "bottom": null,
            "display": null,
            "flex": null,
            "flex_flow": "row wrap",
            "grid_area": null,
            "grid_auto_columns": null,
            "grid_auto_flow": null,
            "grid_auto_rows": null,
            "grid_column": null,
            "grid_gap": null,
            "grid_row": null,
            "grid_template_areas": null,
            "grid_template_columns": null,
            "grid_template_rows": null,
            "height": null,
            "justify_content": null,
            "justify_items": null,
            "left": null,
            "margin": null,
            "max_height": null,
            "max_width": null,
            "min_height": null,
            "min_width": null,
            "object_fit": null,
            "object_position": null,
            "order": null,
            "overflow": null,
            "overflow_x": null,
            "overflow_y": null,
            "padding": null,
            "right": null,
            "top": null,
            "visibility": null,
            "width": null
          }
        },
        "713e498aae054256ad2827fb7e042f91": {
          "model_module": "@jupyter-widgets/base",
          "model_name": "LayoutModel",
          "model_module_version": "1.2.0",
          "state": {
            "_model_module": "@jupyter-widgets/base",
            "_model_module_version": "1.2.0",
            "_model_name": "LayoutModel",
            "_view_count": null,
            "_view_module": "@jupyter-widgets/base",
            "_view_module_version": "1.2.0",
            "_view_name": "LayoutView",
            "align_content": null,
            "align_items": null,
            "align_self": null,
            "border": null,
            "bottom": null,
            "display": null,
            "flex": null,
            "flex_flow": null,
            "grid_area": null,
            "grid_auto_columns": null,
            "grid_auto_flow": null,
            "grid_auto_rows": null,
            "grid_column": null,
            "grid_gap": null,
            "grid_row": null,
            "grid_template_areas": null,
            "grid_template_columns": null,
            "grid_template_rows": null,
            "height": null,
            "justify_content": null,
            "justify_items": null,
            "left": null,
            "margin": null,
            "max_height": null,
            "max_width": null,
            "min_height": null,
            "min_width": null,
            "object_fit": null,
            "object_position": null,
            "order": null,
            "overflow": null,
            "overflow_x": null,
            "overflow_y": null,
            "padding": null,
            "right": null,
            "top": null,
            "visibility": null,
            "width": null
          }
        },
        "4015f25ce4c949bb97b92f00e0b622ab": {
          "model_module": "@jupyter-widgets/base",
          "model_name": "LayoutModel",
          "model_module_version": "1.2.0",
          "state": {
            "_model_module": "@jupyter-widgets/base",
            "_model_module_version": "1.2.0",
            "_model_name": "LayoutModel",
            "_view_count": null,
            "_view_module": "@jupyter-widgets/base",
            "_view_module_version": "1.2.0",
            "_view_name": "LayoutView",
            "align_content": null,
            "align_items": null,
            "align_self": null,
            "border": null,
            "bottom": null,
            "display": null,
            "flex": null,
            "flex_flow": null,
            "grid_area": null,
            "grid_auto_columns": null,
            "grid_auto_flow": null,
            "grid_auto_rows": null,
            "grid_column": null,
            "grid_gap": null,
            "grid_row": null,
            "grid_template_areas": null,
            "grid_template_columns": null,
            "grid_template_rows": null,
            "height": null,
            "justify_content": null,
            "justify_items": null,
            "left": null,
            "margin": null,
            "max_height": null,
            "max_width": null,
            "min_height": null,
            "min_width": null,
            "object_fit": null,
            "object_position": null,
            "order": null,
            "overflow": null,
            "overflow_x": null,
            "overflow_y": null,
            "padding": null,
            "right": null,
            "top": null,
            "visibility": null,
            "width": null
          }
        },
        "6b2509c4ae654ae480871a6d736c81ea": {
          "model_module": "@jupyter-widgets/controls",
          "model_name": "SliderStyleModel",
          "model_module_version": "1.5.0",
          "state": {
            "_model_module": "@jupyter-widgets/controls",
            "_model_module_version": "1.5.0",
            "_model_name": "SliderStyleModel",
            "_view_count": null,
            "_view_module": "@jupyter-widgets/base",
            "_view_module_version": "1.2.0",
            "_view_name": "StyleView",
            "description_width": "",
            "handle_color": null
          }
        },
        "2d680e4e42cd409c90fbb25a5e04d08c": {
          "model_module": "@jupyter-widgets/base",
          "model_name": "LayoutModel",
          "model_module_version": "1.2.0",
          "state": {
            "_model_module": "@jupyter-widgets/base",
            "_model_module_version": "1.2.0",
            "_model_name": "LayoutModel",
            "_view_count": null,
            "_view_module": "@jupyter-widgets/base",
            "_view_module_version": "1.2.0",
            "_view_name": "LayoutView",
            "align_content": null,
            "align_items": null,
            "align_self": null,
            "border": null,
            "bottom": null,
            "display": null,
            "flex": null,
            "flex_flow": null,
            "grid_area": null,
            "grid_auto_columns": null,
            "grid_auto_flow": null,
            "grid_auto_rows": null,
            "grid_column": null,
            "grid_gap": null,
            "grid_row": null,
            "grid_template_areas": null,
            "grid_template_columns": null,
            "grid_template_rows": null,
            "height": null,
            "justify_content": null,
            "justify_items": null,
            "left": null,
            "margin": null,
            "max_height": null,
            "max_width": null,
            "min_height": null,
            "min_width": null,
            "object_fit": null,
            "object_position": null,
            "order": null,
            "overflow": null,
            "overflow_x": null,
            "overflow_y": null,
            "padding": null,
            "right": null,
            "top": null,
            "visibility": null,
            "width": null
          }
        },
        "c285a188d9224aba8adaf248462b9ec7": {
          "model_module": "@jupyter-widgets/controls",
          "model_name": "SliderStyleModel",
          "model_module_version": "1.5.0",
          "state": {
            "_model_module": "@jupyter-widgets/controls",
            "_model_module_version": "1.5.0",
            "_model_name": "SliderStyleModel",
            "_view_count": null,
            "_view_module": "@jupyter-widgets/base",
            "_view_module_version": "1.2.0",
            "_view_name": "StyleView",
            "description_width": "",
            "handle_color": null
          }
        },
        "8699ae857c544a7fbffcd85ffe066342": {
          "model_module": "@jupyter-widgets/base",
          "model_name": "LayoutModel",
          "model_module_version": "1.2.0",
          "state": {
            "_model_module": "@jupyter-widgets/base",
            "_model_module_version": "1.2.0",
            "_model_name": "LayoutModel",
            "_view_count": null,
            "_view_module": "@jupyter-widgets/base",
            "_view_module_version": "1.2.0",
            "_view_name": "LayoutView",
            "align_content": null,
            "align_items": null,
            "align_self": null,
            "border": null,
            "bottom": null,
            "display": null,
            "flex": null,
            "flex_flow": null,
            "grid_area": null,
            "grid_auto_columns": null,
            "grid_auto_flow": null,
            "grid_auto_rows": null,
            "grid_column": null,
            "grid_gap": null,
            "grid_row": null,
            "grid_template_areas": null,
            "grid_template_columns": null,
            "grid_template_rows": null,
            "height": null,
            "justify_content": null,
            "justify_items": null,
            "left": null,
            "margin": null,
            "max_height": null,
            "max_width": null,
            "min_height": null,
            "min_width": null,
            "object_fit": null,
            "object_position": null,
            "order": null,
            "overflow": null,
            "overflow_x": null,
            "overflow_y": null,
            "padding": null,
            "right": null,
            "top": null,
            "visibility": null,
            "width": null
          }
        },
        "06a7f38be0bf4dc790ab2c029a21f1bf": {
          "model_module": "@jupyter-widgets/controls",
          "model_name": "SliderStyleModel",
          "model_module_version": "1.5.0",
          "state": {
            "_model_module": "@jupyter-widgets/controls",
            "_model_module_version": "1.5.0",
            "_model_name": "SliderStyleModel",
            "_view_count": null,
            "_view_module": "@jupyter-widgets/base",
            "_view_module_version": "1.2.0",
            "_view_name": "StyleView",
            "description_width": "",
            "handle_color": null
          }
        }
      }
    }
  },
  "nbformat": 4,
  "nbformat_minor": 0
}