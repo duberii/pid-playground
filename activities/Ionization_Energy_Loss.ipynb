{
  "cells": [
    {
      "cell_type": "markdown",
      "metadata": {
        "id": "view-in-github",
        "colab_type": "text"
      },
      "source": [
        "<a href=\"https://colab.research.google.com/github/duberii/pid-playground/blob/main/activities/Ionization_Energy_Loss.ipynb\" target=\"_parent\"><img src=\"https://colab.research.google.com/assets/colab-badge.svg\" alt=\"Open In Colab\"/></a>"
      ]
    },
    {
      "cell_type": "markdown",
      "metadata": {
        "id": "dDsATb300uQz"
      },
      "source": [
        "# **Ionization Energy Loss**\n",
        "---\n",
        "Welcome to Particle Identification Playground! This activity is designed to introduce you to ionization energy loss, how it's calculated, and how it's used to identify particles.\n",
        "**Before attempting this notebook, complete all of the activities in the Getting Started section. Also, be sure to complete the \"Drift Chambers and Tracks\" notebook before this one.**\n",
        "\n",
        "**After completing this notebook, you will be able to:**\n",
        "*   Name the effects that cause different particles to lose different amounts of energy in drift chambers\n",
        "*   Demonstrate the separation power of dE/dx analysis using ROOT’s TH2D class\n",
        "*   Classify different charged particles based on their energy loss at fixed momentum\n",
        "\n",
        "\n",
        "\n",
        "\n"
      ]
    },
    {
      "cell_type": "code",
      "execution_count": 1,
      "metadata": {
        "id": "3BAb7xIS0uQ0",
        "cellView": "form",
        "colab": {
          "base_uri": "https://localhost:8080/"
        },
        "outputId": "fbbab47f-ee30-4359-8205-7e4b3a916737"
      },
      "outputs": [
        {
          "output_type": "stream",
          "name": "stdout",
          "text": [
            "\u001b[?25l   \u001b[90m━━━━━━━━━━━━━━━━━━━━━━━━━━━━━━━━━━━━━━━━\u001b[0m \u001b[32m0.0/1.6 MB\u001b[0m \u001b[31m?\u001b[0m eta \u001b[36m-:--:--\u001b[0m\r\u001b[2K   \u001b[91m━━━━━━━━━━━━━━━━━━━━━━━━━━━\u001b[0m\u001b[90m╺\u001b[0m\u001b[90m━━━━━━━━━━━━\u001b[0m \u001b[32m1.1/1.6 MB\u001b[0m \u001b[31m31.0 MB/s\u001b[0m eta \u001b[36m0:00:01\u001b[0m\r\u001b[2K   \u001b[91m━━━━━━━━━━━━━━━━━━━━━━━━━━━━━━━━━━━━━━━\u001b[0m\u001b[91m╸\u001b[0m \u001b[32m1.6/1.6 MB\u001b[0m \u001b[31m32.3 MB/s\u001b[0m eta \u001b[36m0:00:01\u001b[0m\r\u001b[2K   \u001b[90m━━━━━━━━━━━━━━━━━━━━━━━━━━━━━━━━━━━━━━━━\u001b[0m \u001b[32m1.6/1.6 MB\u001b[0m \u001b[31m20.2 MB/s\u001b[0m eta \u001b[36m0:00:00\u001b[0m\n",
            "\u001b[?25hWelcome to JupyROOT 6.30/04\n"
          ]
        }
      ],
      "source": [
        "#@title Run this cell before starting. This may take a few minutes to run.\n",
        "!pip install -qqq pidp_tools\n",
        "from pidp_tools import *\n",
        "install_ROOT()\n",
        "import pandas\n",
        "from ROOT import gROOT, TCanvas, TH1D, TH2D\n",
        "import pandas as pd\n",
        "import numpy as np\n",
        "import plotly.express as pxp\n",
        "import pandas as pd\n",
        "import numpy as np\n",
        "import ipywidgets as widgets\n",
        "from ipywidgets import interactive, fixed, widgets, HBox, VBox, Layout\n",
        "from PIL import Image\n",
        "import plotly as ply\n",
        "import plotly.graph_objects as go\n",
        "import math\n",
        "\n",
        "!wget -q -O GlueX_Particle_Gun_Simplified.hdf5 https://github.com/duberii/pid-playground/raw/main/data/GlueX_Particle_Gun_Simplified.hdf5\n",
        "!wget -q -O particle_data.hdf5 https://github.com/duberii/pid-playground/raw/main/data/particle_data.hdf5\n",
        "!wget -q -O CDC_hits.hdf5 https://github.com/duberii/pid-playground/raw/main/data/CDC_hits.hdf5\n",
        "!wget -q -O SC.hdf5 https://github.com/duberii/pid-playground/raw/main/data/SC.hdf5\n",
        "!wget -q -O TOF.hdf5 https://github.com/duberii/pid-playground/raw/main/data/TOF.hdf5\n",
        "!wget -q -O FDC.hdf5 https://github.com/duberii/pid-playground/raw/main/data/FDC.hdf5\n",
        "\n",
        "from google.colab import output\n",
        "output.enable_custom_widget_manager()\n",
        "particle_data = pd.read_hdf(\"GlueX_Particle_Gun_Simplified.hdf5\")\n",
        "CDC_hits = pd.read_hdf(\"CDC_hits.hdf5\")\n",
        "SC = pd.read_hdf(\"SC.hdf5\")\n",
        "TOF = pd.read_hdf(\"TOF.hdf5\")\n",
        "FDC = pd.read_hdf(\"FDC.hdf5\")\n",
        "CDC_hits['t'] = CDC_hits['t'].apply(np.array)\n",
        "CDC_hits['q'] = CDC_hits['q'].apply(np.array)\n",
        "CDC_hits['p'] = (CDC_hits['px']**2 + CDC_hits['py']**2 + CDC_hits['pz']**2)**0.5"
      ]
    },
    {
      "cell_type": "markdown",
      "metadata": {
        "id": "qGFMaUW_wvia"
      },
      "source": [
        "---\n",
        "##**Ionization Energy Loss**\n",
        "---\n",
        "As mentioned in the previous notebook, drift chambers use the fact that charged particles can strip electrons from atoms as they pass through a gas. This process, known as **Ionization**, transfers some of the energy (and momentum) from the particle to the electrons. Compared to the total energy and momentum of the particle, this loss is small, so it doesn't affect any other measurements that we may want to make. However, we can still measure this energy loss and use it to classify particles.\n",
        "\n",
        "It turns out that different particles will lose energy at different rates in the detector. However, particles also lose different amounts of energy based on the distance they travel in the detector. The greater the distance the particle travels in the detector, the more energy it will lose. To correct for this, we can consider the total energy lost ($dE$) divided by the distance traveled in the detector ($dx$), which yields a quantity called **energy loss per unit length** ($dE/dx$). This quantity should help us distinguish between different particles, which we will explore in later sections."
      ]
    },
    {
      "cell_type": "markdown",
      "metadata": {
        "id": "RmSvyS58yIZd"
      },
      "source": [
        "---\n",
        "##**Calculating Ionization Energy Loss [Optional]**\n",
        "---\n",
        "\n",
        "In this section, we will see how we can calculate the ionization energy loss from individual hits in the CDC. However, the process displayed in this part is done automatically by the detector, so it can be skipped without losing any understanding of the particle identification method that uses ionization energy loss."
      ]
    },
    {
      "cell_type": "markdown",
      "metadata": {
        "id": "jBkvCYfX0l5o"
      },
      "source": [
        "---\n",
        "###**Step 1: Calculating Energy Loss**\n",
        "---\n",
        "\n",
        "To figure out the energy loss per unit length, we first need to find the total energy loss, $dE$. The way $dE$ is calculated is too complex to be worth discussing here (especially since we never calculate it manually), but it is calculated from the timing of the pulses of electricity that we detect and the total charge we detect.\n",
        "\n",
        "\n",
        "We can get an estimate of the total energy lost by assuming that the energy lost is proportional to the charge we detect. Why might we assume this? Recall that a charged particle creates other charged particles in the drift chamber via ionization, which is the process of removing electrons from atoms. If you have taken a chemistry class, you may recall that electrons sit in energy levels. In other words, all electrons in the same energy level take the same amount of energy to remove them from the atom."
      ]
    },
    {
      "cell_type": "markdown",
      "source": [
        "####**Question #1:**\n",
        "---\n",
        "Let's say that it takes an energy of $E_{ionization}$ to remove a single electron from an atom. If we detect a total charge of $Q$ as a particle passes through a straw, how much energy did the particle lose? In other words, what is $dE$? **Hint:** How can we convert the charge we detected into a number of electrons we detected?"
      ],
      "metadata": {
        "id": "P8LND11iytC4"
      }
    },
    {
      "cell_type": "markdown",
      "source": [
        "Double click to edit this cell and answer the following question: How much energy did the particle lose?"
      ],
      "metadata": {
        "id": "9Iqk394WzZ5N"
      }
    },
    {
      "cell_type": "markdown",
      "source": [
        "#####**Solution:**"
      ],
      "metadata": {
        "id": "9OtWNbTI0IZ9"
      }
    },
    {
      "cell_type": "markdown",
      "source": [
        "It must be true that\n",
        "$$dE = N * E_{ionization}$$\n",
        "where $N$ is the number of electrons we detect. This equation simply says that the total energy lost is equal to the energy lost per electron times the number of electrons.\n",
        "\n",
        "All we have left to do is find the relationship between the charge we detect ($Q$) and the total number of electrons we detected ($N$). To do this, we just notice that if we multiply the total number of electrons detected ($N$) by the charge per electron ($e$), we should get the total charge we detected. In other words,\n",
        "$Q = e*N$\n",
        "If we divide by $e$ on both sides, we get:\n",
        "$$N=\\frac{Q}{e}$$\n",
        "Plugging this into our expression for $dE$, we get:\n",
        "$$\n",
        "dE = \\frac{Q}{e}*E_{ionization}\n",
        "$$\n",
        "where $dE$ is the energy lost in the straw, $Q$ is the total charge we detected, $e$ is the charge of an electron, and $E_{ionization}$ is the energy it takes to remove a single electron from an atom of the gas in the drift chamber."
      ],
      "metadata": {
        "id": "EKo2B1Gb0LRL"
      }
    },
    {
      "cell_type": "markdown",
      "source": [
        "####**Question #2:**\n",
        "---\n",
        "The equation from the previous question is only an estimate of the energy lost because it only takes into account the ionization energy of the gas. What other kind of energy might an electron have after it is removed from an atom?"
      ],
      "metadata": {
        "id": "8Rsd4Wz92n7E"
      }
    },
    {
      "cell_type": "markdown",
      "source": [
        "Double click to edit this cell and answer the following question: What other kind of energy might an electron have after it is removed from an atom?"
      ],
      "metadata": {
        "id": "r2zgdJ9_2n7N"
      }
    },
    {
      "cell_type": "markdown",
      "source": [
        "#####**Solution:**"
      ],
      "metadata": {
        "id": "1PevtlvX2n7O"
      }
    },
    {
      "cell_type": "markdown",
      "source": [
        "For an electron to be removed from an atom, it has to move! Kinetic energy is the energy associated with motion. Without further information, it is extremely difficult to find out what the kinetic energy of the ionized electrons would be. It depends on what kind of particle is ionizing the atoms and how fast that particle is moving, which we have no way of finding out (in fact, the whole point of us doing this is to figure out the type of particle that is ionizing the atoms- that's the point of PID!).\n",
        "\n",
        "There are tons of other things that could affect the energy loss, but the main three worth mentioning are:\n",
        "\n",
        "1.   A charged particle ionizing multiple electrons from the same atom, which would change the ionization energy\n",
        "2.   A charged particle ionizing an electron from a lower energy level, which would change the ionization energy\n",
        "3.   An ionized electron moves so fast that it ionizes another electron, which would affect our ability to accurately calculate the number of atoms ionized by a charged particle.\n",
        "\n",
        "In practice, the detector gets around all this by \"guessing\" the type of particle that ionized the atoms. This allows it to calculate the energy loss more accurately for each of its guesses, but it doesn't help us figure out which \"guess\" is correct, which is why we still need PID."
      ],
      "metadata": {
        "id": "i3V1D_t_2n7O"
      }
    },
    {
      "cell_type": "markdown",
      "source": [
        "####**Question #3:**\n",
        "---\n",
        "The GlueX Central Drift Chamber uses mainly argon gas. For argon, the average ionization energy is:\n",
        "$$E_{ionization}\\approx 30 \\mbox{ eV} $$\n",
        " Using this information, along with the equation from Question #1, add a `dE` column to the `CDC_hits` dataframe. You can calculate `dE` using the `N` column of the dataframe, which has the number of electrons detected."
      ],
      "metadata": {
        "id": "lmVVVNVU6Dhc"
      }
    },
    {
      "cell_type": "code",
      "source": [
        "CDC_hits['dE']="
      ],
      "metadata": {
        "id": "aWpDrvwt7gem"
      },
      "execution_count": null,
      "outputs": []
    },
    {
      "cell_type": "markdown",
      "source": [
        "#####**Solution:**"
      ],
      "metadata": {
        "id": "P0SDjuBL6Dhl"
      }
    },
    {
      "cell_type": "markdown",
      "source": [
        "We will use the equation: $$\n",
        "dE = N * E_{ionization}\n",
        "$$ where $N$ is the number of electrons detected and $E_{ionization}$ is the ionization energy. See more about this equation in the solution to Question #1."
      ],
      "metadata": {
        "id": "FSWvhYOU8u-b"
      }
    },
    {
      "cell_type": "code",
      "source": [
        "CDC_hits['dE'] = 30 * CDC_hits['q']"
      ],
      "metadata": {
        "id": "DsLtS0Vs8gra"
      },
      "execution_count": 2,
      "outputs": []
    },
    {
      "cell_type": "markdown",
      "metadata": {
        "id": "MGtGdmeQqSQw"
      },
      "source": [
        "---\n",
        "###**Step 2: Calculating Path Length**\n",
        "---\n",
        "\n",
        "The other part of ionization energy loss is $dx$, often called the **path length** of the track. The path length refers to the distance that the particle traveled through the detector. However, we only need to measure the distance that the particle travels inside the straws of the drift chamber. Recall that the Central Drift Chamber (CDC) of the GlueX experiment is actually a straw chamber, meaning it is a bundle of \"straws.\" Each straw is a positive wire surrounded by a negatively charged tube."
      ]
    },
    {
      "cell_type": "markdown",
      "source": [
        "![A figure showing the positive wire surrounded by gas inside of the negative tube](data:image/png;base64,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)"
      ],
      "metadata": {
        "id": "L42Zs5mExWlp"
      }
    },
    {
      "cell_type": "markdown",
      "source": [
        "Over a thousand straws are stacked to form the CDC, but because of the shape of the straws, there are small gaps between them. In these regions, the particles still lose energy, but we can't measure the energy lost. In reality, this isn't an issue because the energy lost while traveling through the drift chamber is so small compared to the total energy of the particle. However, to ensure that we have an accurate rate of energy loss, we only want to consider the distance that the particle travels inside the straw."
      ],
      "metadata": {
        "id": "BWKHzVl0yh-o"
      }
    },
    {
      "cell_type": "markdown",
      "source": [
        "![An image showing a track passing through straws in the GlueX CDC. The parts of the track inside the straw is bolded, while the parts of the track outside of the straws are dashed.](data:image/png;base64,iVBORw0KGgoAAAANSUhEUgAAAiEAAAHaCAYAAADWqpnAAAAACXBIWXMAAAsTAAALEwEAmpwYAAAAAXNSR0IArs4c6QAAAARnQU1BAACxjwv8YQUAAEHTSURBVHgB7d3hddtImrbhZ/rs/+0vAr8bQXsjECYCeyMQNgJ7IxA3gu6JQNwI3BMB2RHYHYHYEdgTQX+qoTimigUQAKuAqsJ9nYNWQ6YkEnxQfFFVAP4izM2el7fPy4/Py5uX9R/Pvurl648dP38IfHXLt+fl95evXwRMZyKjyJuJjFbhL0IqLvyNjjvI25f/N83H7UCHl6+/vXz9JuA7MorckdHKUYTE43aW98/LnebfUYb68rLsddyhDsKakFHkjowCIzTPy8/Py9Pz8meBy+eX598ItWpERpG3RmR0tegJGa95Xt49L626xxv7HPS9S++g7+OQp3XnH+ru8nvz8tXOvoaWKc9r/7z838tXlKsRGUXeGpFRiCJkKLeTfHxePmjcDnPqsnNf3WSng+YZT3TP8Scdx1BN38dShzo8L78+L38TXY2lIKPIHRkFRmqel52Gd8u5xz7oOJ45pbpPyT0f97zc8xv7mu6FXDUio2Q0b43IKBnFYC5kGw0bn/z6vDzqGK7cdpZr3PN13aHu+bvXce21uu3BTpQHMkpGc0dGyShGOu0014J02mHuVBf3eobsSG4n2ijPWeu1W3tGhzb2ZHQ5tKNkFCMN3Wl2Gj+WWSL3+lpd72o87URIj4y+RkbzQ0ZfI6MYxE2S6ttp3L+5U6/utE6mY1V/bSe6F1Iho/1MZHRpZLSfiYzC0+h4bnffTvOg+qv1oUzH7eF2lL6d6J0QSyMyOoaJjM6tERkdw0RGV8/tDJ/ETjOV6fpO9CjGOW9BRm9jIqOpkdHbmMjoKvV1GbLTjGM6bi+6FuMio/GYyGgKZDQeExldBVP/5KBHsdNMZeof69yJan4IExlNxURGYzCR0VRMZLRarbqrdvfG3gkxmLq7Fqnm+7Uio3MwkdGpWpHROZjIaDVcRf6LursMPwgp9HXVutnxHCl9R0aXQUaHI6PLIKOFM3VXkzvRrZWaqbvb9klsf8dERpdkIqPXmMjokkxktEitwhUkVfv8XDXfdQR1r/VqRUZzQUbDWpHRXJDRgmxE1ZgbU/fR1EbrsxEZzY2JjJ7biIzmxkRGs7cV42e5ctvfvQ9d789abEVGc0VGj7Yio7kio5lyb8xnhd8Yug3z0tWt6N6/mhs4MloOMkpGc7fWjGbJFO6ict97K+TIvS9d75mpPiYyWhoySkZzt7aMZsnEm1Aq0zreOxMZLZWJjJqQMxPv3WJM4Y1Pd1Q5TOHu31p2IBMZLZ2JjCJvprozmiVTeMd5FDtOadz7tVV9O5CJjNaCjCJ3tWY0S6buHQfl2qqeHchERmu0FRlF3raiEEnKVXvsOPXaKrwDlXRURkbrthUZRd62Kj+j2QqNe7Hj1GWr8Ph0Kcho/bYio8jbVmVnNEuhGyix49RpqzLfazK6HluRUSzHXpbmeXmv4yX23bVcHnR8P93yp3ivo9koXNXRvVSnrosmbZSvjcjompBRxOK2v+lYULQviysm3BVQXdGw0/F9elL3XXXHLJuzv30qXNCjFRNt1qhr3Ppe+WlFRteIjKKLX1i4D/tTUfFJ34uKPxdaThk9PQd0MF1Wfuw462G63FG/Kq/330RG18xERtfGdLxaaavXxcVO8XorUi+njD6JIqRT11EGlxBeF/d+h47gcuhCJqNwyGg9Tj0Yp3kWD3pdYPxZ0fL08voehKDQBCpuorROH3WZhRzuGElGcUJGy2H6PkxyKjKWHh6ZUkC4Zafj8M6jjnl70HGoxS3vnpe75+XNy5JrRrPUio2F10K3r77XclqRUbxGRvNh+t6b4V6z+6B2H9o5DpV81WVB8aBjsXivYzHheq7e6Pbetdwy+i9/UT5MxzfDzr53eF7+83n5JqzV6WwEO/uey4PLxUHzMpFRXCKj8zoNnZw+oE//b8pjKOyg47b+crZ++t4fOhYff2heOWU0W27H8Ss1ExCeYLfT/MgoupjIaGzug/M0EfS8V+PPhRb3/n7W616Lex17LN4o/1OeTXlkNEutLt9wxthxLjSu+VHzaUVG0Y+MTmc6DqO45+s+4J80f5Hh/uZOZRYYQy2d0SyZLgNHdYYQlwv/yGSOxsFERjEMGb3uvHfDPce55mucejIeX/72vb4XGWuyVEaz5QLhbxATcMl02WB9UnpkFEOZyOjJaTjl1LvhCoDUBcd5ofGgY6HxVlwd9pxpmYxmyXW/+SGiixt9Qt2JjdIhoxhrrRk97+EIXdo+5vKk4wen+1vuta6xR+MWc2c0Wy5IfrCAa3Z6nZvPSoeMYoraM+p6Flzxk3pI5bzYuBe9GjHNmdEstboMnAm4rtFldlJMrmpFRjFNo7oyej6s8qT4xcb5MIr7O3ei2Eit0TwZzZYf5EcBw7m8+I1Y7EaLjOIWpWbUPcdGx7uu7hS/l8P9vvPejTfCUubIaJY24ggTt3E7it84PiiejcgoblNKRs+HVmLP5XjSseBg3kaeUmc0S6bL6r36F40kXG5SVPEmMoo4csyo+/utjkWH/ztu7eHYvfzed2I4pRSpMpqtjS4rZRMwXqoqfiMyijhyyGiqno7PYkilBqvrDXE7y2peLJJLUcWTUcQ0d0ZPczpOZ67EKDhO8ziYNFqnFBnNUiuOMBFX7Cq+FRlFXHNk9F7HAmGnOBNJ3e98FL0ca7Ga3hAX7OpfJGbnV/FPmo6MIoWUGY2xuN95Glqhl2OdYmY0S60ug28Cbheq4huN14qMIo2UGZ2ynOZzMIEUJ7Eymq2dXr+4RwHxuAb1PF87jUdGkVKKjNLTgZhiZDRLJo4wkVajy4yNaWxNZBRpNboto281vOhwR7SPoujAOI1uy2i2qq2ukBWXq/OcPYz4WTKKOYzNaKPj6bhPul50uN/tJqe+FTDdLe1otvwd6F5AfK4B9hvmocgo5hDKaNeRZqNh8zruRG8H4rmlHc1So+E7HXCLqROrGpFRzCOUUdfoNy9ffV2n25JRpFLdBNVHMdkP8/Hz9vOEnyGjSKHRMY991/F44/3Mg4559K90SkaR0pR2NFtPev1i3glIp9H4rkQ/o3cC4nBHlaeLiP05YHno+D20o5hTo/HtaJYaVfJCUJQxXYmNyCjia3S918PPnXv8247fRUYxtyqGZPwzDh4FpOdyNrQrkYwilrG9HufLp57fS0axhDHtaLb8cUy6EDGHVq9z99TzWDKKWzUa1+sRWsgoctNqeEazZLrc0ZjNjTm4nA3JnomMYpqpvR67l58zkVHkbWg7mq1WlzsfMBf/w+E+8JhWZBTjNBrf63Ga73Hn/S4yitwNyehNflA6/g63FzCfvbfeBB5DRjHUex0bZLd81LAjwv3LY//jefmf5+W3wL+fawK/g4xiSXtvvVFB/HHMOwHzaXR9PJOMoo8rNDaK0+sR0oiMIm+Nrmc0S8WPJaF41zJIRtGl0fS5HmMyREaRu2Iz2OhyBwXm1ndWQSMyiu+mTDQd0+vRhYwid0nPzvo3peHvlF8EzG+v1xd/srP/J6NwXPHh5m2M6cXYPy+/Pi//97x80232IqPI217dGb1ZqiLEv+rfQcD8fvfW33b8v3MQ1qTR8RLpzYifcYXHL7qcYHoLMorc9WU0W0ymQg7cztI1qYqMrlOr8UMurlhJNQ5ORpG7voxmi8lUyEFoUtUJGV2PKWe57DTPhz4ZRe76MpqlIqsmVMvl7zyPb0RG18I07SZycxQf58gochfKaBQp5oT41fpBwHLcZD47W3eN+z+8xxyEmjQaN9/DTS51cz3+ptsnmk5BRpG7UEb/UAQpipCfvPWDgOX4HyquSDbvewehBo3GFR97HYuPv2tZZBS5C2U0CnpCULuDt24DHoNyuPbmvY7Fhw38mb2Oc0RinuVyi4O3bgMeA8zp4K2bIklRhJi3fhCwHL/L0AKPOQilGXt9j6WHXPqQUeRuSEYnoQhB7ULdiPTWlaum4uOEjCJ3RQ3HADnxdx5Tvh9G6Da2+Ng/L1sdr2qaOzKK3IUymq1kp/IAE5guT3Uko+Ww5+VR+V3fIyYTGUXeTIlOGacnBECOTMfJpu3Ax++V12RTAAvxj0wwnul4RHe6yNInZd79lTH/an+hC1dhPFOajDYafln108XFTGUjo2mYaEdjCWU0W+w8tzGFG6GvYgea6tqHGcYxxc9oo3HFx4Pquow5GY3LRDsaWzGZZOe5javW+8a7MR4NfFwxM9po3cXHCRmNi3Y0PoqQlbjWCGM8Gvi4YmT0rSg+zpHRuGhH46MIWYlrN9vCeDTwcd2SUdPws13WUHyckNG4aEfjowhZiZ26d5xPwhQ08HFNyaiJ4qMPGY2LdjS+YjLpV6BrakhiMDGhKrbQtiSj05mGZ9Rt242uH5mutfg4IaNxmWhHYyumCHnS6yf6RhjL9H1ildtpdmLHmcr0Oo9PIqMxmPozSvExnImMpmCiHY3FdJnRbLHzICcmGvg5UXyMZyKjyJspURGS4oqpoWvM/yFgGeatH3T5oeceQ0Zv1+pYVNiVx5VwU7k5mbd+EBlFXsxbPyiSHxTfwVtnLBO5OXjrZPQ2jY5d3Y/qL0BcwbF5Xv7jeflfUYD0OXjrZBRVmqMnhJ0HSzJv/RB4DBmdptGx56O58jh6PvqZt34IPIaMYknmrR8USYoi5OCtm4Dl+GPph8BjTBjDfSD+rGE3l9vq2OtxELqQUeRuSEYnSVGE+OOWJmA55q27I/F/XHkMwlzx8fF5+aDrR+b75+W/RfExhHnrZBS5MW89Wo8mwzGonXnrX56X/+d9j4xe917D7li713Hex2/CUOatk1Hkxrz1L8qYqaDziVE9/1THtyKjYzQado8Xtw3vhCnIKHIXymjW/AaKKh5LcLnzs3hCRvu57eEmkw691gemIaPIXV9Gs1Vc1YQqNXqdw89n/0ZGu7l5H0MuNuaKDz4Yb9OIjCJvjbozerMU1wlx9t76TwLm5+fucPb/+yuPXaNGxwbGzf3oKy724lofsZBR5K4vozdLVYT4k1ao4LEE89a/dPy/s+aMuoLjUce5H33b4aBjofJXcdZLLOatk1Hkxrz1rCelnriZ9Mm6b4CB3IfqeQ7vzv6NjB4NGXpx//5BSIGMInd9Gc1WaCILY8eY07UMrj2j7qjab1xCy7WhGUxHRpG7ojP4pNdPvBEwn0bXjyLXmNGhZ724AuVOSKkRGUXeGl3P6E1SzQlx9t46DRrm5OctNI65v/IztWl0bET6hlbcRFM3ROPmfXDBsbTIKHI3JKPZanV5ZAXMxeXtPH/3gce0WkdGTxNPGXrJCxlF7oZkNFuMZ2IpoezZwMfVltFW1yeeut6RO2FOZBS5G5rRrD2p4CoKxRpzVkGtGTVdn3jK1U6XQ0aRu1nOzko5J8T51VtvBKT3zlvf9zy2xoy6OR2uwWh6HrN/Xv5TxwuOYX5rzyjyNyaj2Wp0eeQFpOYPP9z1PLZRPRk1Dev94Jofy1trRlGOMRnNmv9CGgHp+F2ITwN+poaMtro+9+OTmE+Qg7VmFOWYktFJUg/HOFtv/V5AOlO6ELfeekkZdUWFKy4e1V1gHHT80Povca+XHKwtoyhPFUMxJ40uuxI5GkMKLldTuhAblZnRRpeTFv2F027zsraMojxTM5o1/wUxJo0UWk3vQiwpo0Oueupee/ENR4VarSOjKFermYZi5vSg1y9qJyA+lyu/F2CoUjL6Vtd7P5j7ka81ZBRluyWj2Qpd9KQREI/pMmM24udLyOi1O966f3sv5MpUf0ZRNtNtGc1aldUVsvGo248Sc83oafJpX++He+4m5KzmjKIOMTKarUZMrEIapssP5XuN1yi/jDbqH37huh9lMNWbUdTBFCejWfMb0wcBt9so3kSqnDL6Uf29H59F70cpNqozo6jHRvEymi23s1DFIyZT3Htr5JDRIcMvnHpbDlN9GUVdTCu5R1Ho/GOqeNxio7jV+9IZvXb2C5NPy7NRXRlFfTZaQS/ICVU8YjGl6ZpeKqPXzn7ZieGX0pjqyijqY1rZEB9VPGLZ6LJ6N91uiYxeu/gYZ0GUaaN6Moo6bZQmo1mjisetTJcf1DEb4bkyajpOMGX4pT6mOjKKepnSZjRboSr+UcBwLi9+9R7THBm9Nv+Ds1/KVkNGUbfUGc1a6PTDRsB1psvs3Cu+lBlt1T//g7NfymYqP6Oom2mejGbN74beCbjOVetzVe8pMrpR//wPLj5WvtIzivrNmdFsNbpsgD8K6BY68nundBrFy6jr2diqu/hwjcBboXQlZxTrMHdGs+ZflMl1UZuAS6ZlxsBjZNTUPwGV+R91MJWbUayDiblEr4QmV+0EXHK58HsOTOndmlFT/wTURzH/oxalZhTrsVRGsxbqGqI7EedCGbnXfKZm1A2v9E1AfRBqUWpGsR5LZzRrfnVGdyJOTJc7zhJHeWMz2qq7+HA/y85fD1OZGcV6mPLIaLZMl0eMT6Kbeu3c++9ykEP3oWl4RjfqLkDczzABtR6lZhTrkVNGs9bqssHmctXrFrqc+b2W0+p6RjfqL0BMqEmJGcW65JbRrLmdhXFNOKHxyxwa076MbtRdgLgzYDgirUuJGcW65JrRbIW6jdxC9/W6uPc71IuQw4d4V0Yf1V2APIoCpDYlZpR2dF1yzmjWTOFxTRPWwHTZgOY2wc7Uf9YLRx11M5WZUdrR9TDln9GstaKCWyNT+AjuXvlpdb0AeRBqYyo7o7Sj9TOVk9GsuQbc34iMq9fLva+hq4rm/EG+EwXImpSYUdrRdSkxo1nbKjy+jvpsVc5QxrX7wHwWarRVORk9txXt6FpsVWZGsxaq6tiB6rJVWR/kfiZD80PIaF22KrvYpB2t31YcECXRdzYCyrdVeePWD3rdzUlG67ZVeRn1kdG6bVV+RrNmYgeq0VbhHceUv61ej7OayGiNtio3oz4TGa3RVvVkNGum7h2Iaq8sXXMqct1xGg3LmImM1qK0jA5lIqO1qDWjWTOFd6DPYqOXomv2dq47Tqvj89sNfLyJjJautIyOZSKjpas9o1kzhXcgNn7+TGW9dxu9fp5DZ5mbyGipTOt470xktFQm3rvFmbrfBC5NnCf3vpS04/gT+cY+TxMZLU1pGb2ViYyWpqqM/kVlcx8SO4V3lv/R8c6ByMNHhXsRvjwvf31evmk60zEDLg9vXtZ/PPuql69d492HwNfDy3Nyy/aG50lGy1FqRn9/+fpF05DRcqTMKG4QumPkqeuciVbLcts/dBtptzxqHPe73j8vH15+9qnj96Za3PjrJx3PiGk0LltkNF9k9IiM5itmRpGI2+lCb9CTGCNbiqm7EX4Y8PNux2u1TGM+ptF3z+9e13P2IDKaGxMZPfcgMpob020ZxYxadd/Z9KMwJ7e9Q++F+959z881Oh55de10uS+fX55/0/H6WpHRXJDRsFZkNBdTM4oFmbobh52o5lMzdd/U7Unh7d/o2Ch2NXzXFvd7XRf0o45HBm7nfPe83Ok4/u6WHzuea1dWvr78vp2mf9g8vfyOZsTfJaPpmcrJ6MnpMXcvy/3L7yGjdTKNzygy4nbmrvFN14hQzafRVbW7xR9Xdv+/0fhG/XQUd6/vE/2mMPU33B+8x7u/c/fyfff3dyOf99PLz9nZ7yOj8yspo2OR0TqMySgy16r7g4ZqMp5G3Q2e323Y99iuo64HHRvXWDvfW3Xv5GO6OU+N/oPGv6bT32hFRufQqKyMxkJGy9FoeEZREFP/zvcodqKpXAPntl9fQ2b6fkT5pOuN32kY5F5pGvS+AuRJt10bwT1f18X+qGFHz+7vuddpIqOplJjRlMhofoZmFIVr1d/AbMQbPdS1bmr3/Q8a3p19atTvlNa1AsQUl3s9Qxp797c3Oh6tktE4Ss3o3IYWJGQ0vqEZRUVM/RXnaUczIWRIg/1Jx+137XGnCv/0QZDa3AXIudNpnDtdb+gfRUZvUXJGl0RG5zM0o8z9qJir/t2Owk40zJCd5rOOR4kfrzzO/dvPmveIcskCxGfqb8BPz+mTyOgYpWc0JyYymsKYjGIlWl0fA3Y7o2mdGl0/LfHUZege+/nK4x40f3XfV4B81nJHG6brXdtDGnoyWn5Gc2UiozE0Gp5RrNS1Hc0tO5U5EW0s9/rczuBeb9/2ODXYpmMjlGPDnmsBcs50PX+PGnZFTjJaXkZLYCKjY43NKNnDoB3tFBq3s71XXRoNm6B2vtP0dWsvvXOVUICcM3VfMtstTy//TkbryWhpTGT0mkbjMwpcaDXuVD23I5V4ql6rcafqnXYa0/XT9ZbcHqayCpBzpmGn67UioyVntGQmMnpyS0aBq1pNu2hRozwvWtToODFq7Gu6O/s9rbp3Nv+xSzB1N3y5FyDnTP0XiLp/eVwrMlpaRmthIqNTMwqMYpp2w6rdy8+dJsXNeflmNxzRvvz9vsl4oSXUVdh3K+lcJlWZ+hvFEo8++oYT3Ht7ek0mMlpCRmtERodnFJ6/CGPd6RjKRtNmex+85Y+Xrwp89f2o1zv0af3N2fpbTXte356X7fPy6/Pym/dvpu6r9u2fl/9W93Oei6n7OR6el79q+ec4lSl8kzHnoMvXRkZf2yuPjNbMREadvowC0bkdaUqFnMvypOvXQ2jVfSvpXI4sXaPhXkvXazTVwR1xdh1x3Xf8DBnFnMgosBDT9wlKue5MTxp3z4tNz+8x5aNre+f2PGMwdRdcmwE/24qMIi0TGQUW58J5p+OY4CfNv0OddhR3JPhO43eWbcfv/Vl57Xhbre9DyG1/9z50vT9jfs+dyCjiI6MYhDkh83Njjf/+8vV0KqG9/Jv/1fftZTn9/+Hs6+n/v+g4PjqVe047he8m67pa/6Z8bHRsnHxuO7gx6C+qm3s/Qg26e93u9X/TNGQUsaw1owAmMIW7Ud333iovG3UfvbzXerj3pes9M9XHVE5GcbS2jAKYwFROQ9GquwBZ40RE0zoaeRMfZqUy8d4B6GAKNxA5XtzLHVV1FSAPWi9TeLy8lkbeVE5GEWaqO6MAJjCFG/dH5Xl/ldBzXXsBcuLer63qa+RN5WQU/WrNKIAJTN2Ne25M3QVIjs93SVvV08ibyskohtuKQgRYta4LfOXauHedmkd3fNhW4Ua+pG1VWkYxzlblZxTARKEP9Vwb918ULkA4cuq3VbhoK0VJGcU0W5WdUQAThD7Uc23cN6IAucVWZX6Ql5RR3GYr3mtgNTYqZ0jDXe/jz46Fa0IM497XUI/CRvnaqJyM4nYlZhTABK3K6VEwdd8enJuSjdM1t+Je+WlFr9calZRRABOYLj/Ucy5AQg2SWx6EKUyX2/Sr8nr/TeVkFPGZ8s8ogAm6jjJyHdLoOhPmk3CL0IXeXC5yGOYoLaNII+eMApgoNMkv1yGNvjNhaIhu91GX23bMXU1TKSmjSCvXjAKYoFU5O/RG4kyYGYRusX6v5bTiQwev5ZZRABOYLru4c+1R6LsnDF3ycYWGPpYaezeVk1HMJ6eMAphop8sPdFN+TN0TUemST8N0OQl0p/mVklHMz5RHRgFM0KqcD/SuAoQu+bRCY+8fNZ9WFJ3ot3RGAUxguvxgz/UIomsiKpdunoffE+GOPOcYCjGVk1Esa6mMApjoUWWMpYaOcpiIOi/TZZf3HKdCl5JRLM+0TEYBTBC61HmOXdym7omoJswpVAw2SqeUjCIfc2cUwESuF8HvVciNiYmoudlpvuGwEjKK/MyZUQATtCqjV8F1pTIRNS+N5pkA2IqeL0zTaJ6MApjIP8J8VH426p4HgmW5vKSeAFhCRpGvOTIKYIKN8j/CDM0FYCJqPlxj7k8AfFA8G9ELgtukziiACUyXR5i57Zim7nkg74VcuNykONI05Z9RlCFVRgFMtFH+PQtdd8blgygvqY40N6L3C3HQGwJkJvcjzI3CBQjn+ucpxZEmvSCIid4QIBOt8j7CbMU8kNLEPtJsxXuPuOgNATKR8xGmqXseCHfGzZt/pPmk6egFQQoxMwpgglZ5n23APJByhY40G43XKu+MolyxMgpgop2U7TUXNgoXIDk9R/RzF487f+92Gi/njKJ8MTIKYAJTvkeYjZgHUoNGl+/hmMl/JnpBkFaj2zIKYKJcjwBMzAOpid+T8TDiZzlKxRxuySiAifwP+nvloeu+MDQMZXI3FDx/H7+O+NlcM4q63JJRABM0utzpcuiC3ChcgHAEXK6pk/8a5ZlR1IcJqsDMHpXfZD8T80Bq5edtyN2Oc8wo6jUlowAm8ru532lZ7kikax4I94UpX6Px3d1+Hu4EpNNofEYBTNAov53tFzEPpHZjursb8YGA+TEkA8zAP+PgUctq1T0Mg3qM6e7OLaNYhzEZBTCRfxXSJYdiTOFhmK9iHkhtWg0vMnPKKNajFQdCQFKmyw/8Jc848I88TssHoTYuZ0OyZ8oro1iPoRkFMFGrfE59/ahwAULXe71c3s7f6/vAY1rlk1Gsz5CMIiM/CCW589b3WoYpPOn08Lz8r1CrvbfeBB6TS0axTntvvRGAaPyx9jst40nhXhCOOurW6PqYey4ZxTo1up5RABPkMt65UbgAYSZ6/a5lkDF5LI0MAok0Wn6s3dR9Oi47+jr0nfnSaPmMApydVRDmhJTjzlv/ovl1faj89Xn5JqzB3lu3s//PIaPA3ls3IVsUIeV4660fNK+Nwjuz+/5BWIvfvfW3Hf/vHATMry+jACZacsKfqXsYBuviGvSuDDApFTnoyyiAiZacbPWkcBFiwtqEJv6dLJlR4KQvowAmWLKy3yhcgDwIa+UXpW/E0SfyEsooMsSckDL4R5QHzcPERclwyZ9w6gqQpTIKhIQyigz9m1CCn7z1g+ax6/j+X4U188+EcgWIed87CFhOKKPIEEVIGZY4ytyIs2EQdvDWbcBjgDkdvHUTskQRUgbz1g9Ky8QwDLr94a1b4DEHAcsZklFkgCKkDOatH5QWwzDoE+rqZk4IcsJwTCGYmArfRzEMg35+A28C8kJGgYjmOt3Mnpev4qJk6Ge6zAenRCInJtqwItATgnNuHkio25JhGAAAVmqOq/+1Cl+U7GfVwXSc63Lq6fkkumin8q9IGeo9w3gmMhpLKKMAJkrdwJvCl2Z/Uh2NoCn8QflVNPJT/XllwTgmMhobmQQiSb0z/aLwB8m96uCOKLs+LHfCFBQhcZHR+MgkEEnKnckUbvgeVY++D0u6aaehCImLjMZHJoFIUu5MT6q/CzjUzU3jdBuKkLjIaHxsQyCSVDtTq3CD90F12am7cf8kTEEREhcZjY9MApH4R0kxrv5n6p6MWhsTk/5iC23L2BldExMZjY0iBIjELxbe6HaPCh91mepk+j75zzXsO9G4T2W6LFxTZHRtTGQ0FlP9B1fAbGI38KZwAfIo4DoTRQjyZqIIKQJXTC1D7Psg7ALfO4g75GIY89YP4l4dyIt56wchSxQhZTh467eMt7fiBnWI7+CtMycEwFX/JpQg1m2pTcf7w/gOz8v/CRjGvPVD4DEUIViSeesHIUsUIWU4eOumadqOn30vYDh/vsch8BgTsJwhGUUGKELK8Ie3bhrPFO4F2T4vvwsYzrx111P3jyuPAeZk3vo3IUvMCSlDjOGYh47vMxkVY5m3/kXxhgyBGMxb/yIAk5luO93srcKn5D4IGM8/Hdfly8QpkchHKKMAbuAXEGOONJ+0jiujIj2XOz9LJ7dkFIilL6PIDMMx5Th466ZhWnWfkguM5R9RnndzH7x/MwHz68soMkMRUo69t/6ThuGUXMTk5+5w9v/7K48F5tCXUWSGIqQcfjU/ZIyzVfho9KOAacxb/9Lx/w7j8FiCeev0hAARuGt5nI9xfh7wM6G5INwWHLfY6XWe7s7+bUpGgdj6MgpgotBkq76Jf63WdZdcpHctg2MzCsRGBoGE/J6NpuNxpnAvyKOA6Rpd7+kYmlEghUb0xhWFOSFl2XvrXd2MrcI9HlyYDLfw8xYaa99f+RkgpSEZRUYoQsrym7feBB5jz8t94PtbMUsct2m89X3gMUMyCqTSeOt7AYhmyHjnRswFQXyh7NnAxzEmjzkMzSiAG/hj7vdX/p25IIhhzJkv1zIKpMDZWQViOKY8v3rrzdn/t2IuCNJ4563vex7bl1EglTEZBTBRo9fV/tezf6MXBKm4nA299kKj7owCqYzJKIAb+DtbI64LgnT8bu6nAT8TyiiQypSMIgMMx5Rp6627MfeHjscdBNxmSjf31ltnXghSYigGmFGjcK+Hv9AdiVu5Mw6mdHM3uhyS4SwZpDA1owBu4O90/rITcLtW07u5/Yx+EBBfK4ZiisVwTLl+ufLvWwG384dRftVwfkbfC4jvlowCmCh0YR6OBBCT6baJzqGMNgLiMd2WUQA3cEMuoSLkQcDtHnX7EJ+f0Z8FxBMjowAmasRpuUjDdJmre43XiAmqSMMUJ6MAbuDvhJ8E3G6jeEN8T6KnDvFtFC+jACZodVmEcKSJW5ni3v/lQWQUcZm4RxGwOH8n5EgTMWwU9wgzdB0HMopbbEQvCLCoVt1nx3CkialMaYZP6A1BLCaG+IDFuWsunHZENw+EI03EsNHlEabpdvSGIJaN0mQUwAR3Ou6AHGniVqa0Q3tkFLcyMfwMZCl0pPkoYDiXl5Tj7GQUt0qdUQA3+KjLo4RGwHWmea65QEYxlWmejALo4Y4EdupuuD9LXEEQo7kjyrmOMMkoppgzowACTK93wrvAYxpdHi18FNAt1DvxTuk0IqMYZ+6MAghwvSBDjh4/6XICoAm4ZFpmngYZxVAm5hIBWTgvQu57HheaALgTcMnlwu/iNqVHRjHUUhkFEPBWw+5EGuq+pMsb50IZudd8yCiuWTqjAG7gH0HQ5Y0T02XjvkRPBBlFF1MeGQUwkemyy9t1ZXKBqHVz77/LQQ5d3CYyiks5ZRRYPTf80miaVpdHE0OGc1CvX5RXF3crMorXcssosFqm10cCU/wsxt5xFBpjz+EDn4ziJNeMAqv0qNtPSwt1bbrlrbAm7v32M5DL0AcZhZNzRoHVMb3eGe80nSk89m7CGpguP+RzmwRqIqNrZso/o8DquMLD9YB81u1acZSxRqZwL8O98tOKjK6RqZyMArjBgy53dFfg0MjXyb2v/r1a3PKgfJHRdSkxowBusNXlDv8o1GirMif5bUVG12KrMjMKVC31UV/oyINGvi5bhXsUSkFG67dV2RkFqmQ67ow7pRsT7TobgUa+DluVP7eCjNZtq/IzClTJNbJzNLgmGvkabRVu3E3lMZHRGm1VT0aB6pw3undKy9TdyHNEUhb3fm1VX+NuIqO1qDWjQDVM3xvcJ83DFG7kP4uGoRRdZxjU0ribyGjpas8oUJU7Tb9fzBSmcCNPA5E/0zreOxMZLZWJ9w7AFabuhoLLZ+fJvS9ratxNZLQ0a8sogBt0dZm6hRuK5SV0o6/TEEXNcyXIaDnWmlGgSO4CPY3yELqr6Z8v36fxWJbb/r8o/P48aj3IaL7IKFCYVt930p3y8KBwI/IkulGXYgp3bbvlQetDRvNjIqNAcVzhcdpR75WPVpd3NqXrexlue4feC/e9nDIzt1ZkNBdkFCiQ67o832FNeTF1H9nsxBFnaqbXRSpH/JdMZHRJJjIKFM3NIH9UvjducoVS1xi8O8rhiDONriNL5j5cIqPLIKMAZtOq+4iTI554GnUfWdK13a8VGZ1DIzIKYAGm7sbHLY+ioZ/KHTW67de1bRlaGMZERlMho0BFGpWrVfcRp1s2ojEayjXsG3V3a7vvfxDGakVGYyGjQGVM37uIH1UmU/9RkXttG9HQd7nWsLvlkxhXv4WJjN6CjCKZvwjXmI6TRt0O9uZl/cezr3r52rUDHgJf3fLtefl/+n7e/Jfn5T9Vrnc6XpzIOv798Lz8n4530DwILi9uQt8HdWfny8tjftN8TOny/vvL1y9aBhkdJ9eMoiIUId+5nazRseF9+/L/pvkcdNyh3fLby9dvKk+rY2FlPY/ZPi//q3U29I2OH4atuht2975vnpe/KZ2l8+7yfdAyeW9FRvs0yiOjczDVW3Qjcy5UrY7dtK479s8Ml88vz+9e5XUVu0b+2nbd6fjaflTd3OtzR5Pu9fZtD9fd/aA024O8X3Lb+tq22ImMzpXRlNzzfa/ja1xiH3DZdkNWbts1YuhqtRodz1ufO4Axg5zT/WWuMQ1r6F3D9qhjI1GTRsfX1TeWnrJhb0TerzGR0SUzmgpFdyHWMBzT6HrXYp+DvncVH/S9q+207vxD3V3Jb16+2svXjeI0qofnZa/jGPZe+Wt1vQvccdvx1+fl7zq+rpKGpE5HW3cvX6/l7aBjt7/r0o71OhvllXfrWKY8r73S5r0VGfUdFD+jqTQ6Zt+9LlN53H631/dcrUKtRciQCVUhpxC4r24876D4O96TLneQjy9/862+j1E2Gu6gY6P4N+U/ht3qWPk3Ax+/f1lynCfjsnV6r+407jVtFG8yX855D3HP8Sflm/dWZHSvuBlNpRFFNzLS6PqY5vniHuuOfNzOOSXAY73teB4WeOyPL8/rQeNf073yZ5o2VLB7+Tn3gdtovu7hU2Pevvz9zxr3vFN0ZzfKO+9j5Jh3ExnNkXt+G10fQvKX0/Cey8tpMupcz/dOxzy4v7/TuOf99PJzpgrV0BNyOgp0wbIrjz11o+517PKa+4jFBemj97398/LX6z/6ryC/1/Bu1I2OlXTu3OtqNf0MjYO3/KHwrPWQ85nvdrb+5mz9dMQ+lsvXVsfMxe71KCHvt8gt72R0eY2+T+wcYn+2nM5UycWpN7A5W4bY6/h+ldCuV29oNXyaUHan5bmK1n9+U4/i3Otxr+va63d/c6Nyqmj3uqYcxeWyPL08/zvFVWLeY8op72R0Pqfcu+d87XWdsn+vMs/eccNKQzJ+eg/vhUUMbYx3Gj9GntKYoZgx3Otrdb2Lz4V2o7KYvs9wz7XBf1Lahq/UvKeSW95NZDSFtRfdQwuSU85NmIXrhu57U9y/5Vrhh24xvlNcpv7LU59Ce68ync8b+KT5G3237dz2dR/275S+QS8573Mw5Zf3tWU0Noru12o+yPynUuaENDo2tm87/t2N9f2ivE8jc42R//xbpRnbMx0b3lb9l6h2H3J/V/ncdv13fZ9sZno9W/38q+80E/70/wddzpT/ouMY/lwalZ/3OZnyz3ttGU3BvT8P6r9K61ZlzF9JwXTcPm3PYw4qZy5gEVwY3dFE35FgX2hzYQo/f1NapusXYnoUXXm5qCXvSzGR9xI16u8xIvevma7n3P3bO+EmfV3RpYXSdRuGuhPnYjpur77A3gtLqinvSzOR9xJQdN/GRNGdhKl//Mtt1NJCGXo9HzQ/U/8Y+k4Edm6m+vKeCxN5zxVFdzwmiu5oWnUH0zUYdyqPSYsMxejKc3oSgV1aq/ryniMTec+FiaI7FRNF92QudG6iXVdVvESvQSytLl/TZ+Wh72jETYykMUij5rznjLwvqxVF9xxMFN2jmLo3WA2VW2jM82flw9R9ZPIkKufYTHXnPXcm8j43iu5lUHQP0Cq8kWoJpnuTQwG4U35cYLsaiXshhlZ1570k5H0eJoruJZkoujttVP+Gea/w68uVqbvB2Ai32IiGIDcm8p5SK4ruXFB0e7ZaRxfRoy5f46Py5rZ/6Oqup/cH4221jryXiLynsRFFd25MFN3/3OG7LkpTY2UcesPfqQxdlbN7//jgHGZteS8ZeY9nK4ruXK266DaFP5Td996qPl03rCtpJ3Svoes9M6GPaV15rwF5vw1FdzlWV3Sb1rdzP+jy9e5UHhMN81gmtlmpTLx3U5goukuzmqLbFH6htXdzuoLDf833KpMpfIRDw3zJtM6818RE3scwUbiVylT5e2cKv8BH1d0gm8JdXaZyufdrKxqaPqZ15r1G5H0YE0V36UyVFt2m7ga5dq3CO2UNtqJhDjGtN+8124q8dzFRdNeiuqLbvaA1N8ifdPnaa5p5vFU4rGtteNae99ptRd59JjJfo60qKURCXTtrCmfoAj13qstW9fb2jLX2vK/BVuT9hKK7blsVXnT/onWHs9Hl6/+qOm1FQ7T2vK/JVrzXDkV3/bYqtOjeSKufoBS6EMwn1anrugAbrcNG5H1N1p53h6J7PbYq7L1uVclY0o12utwO96pXV9dsza/ZaUXe12iteXc2ouhek6KKbtPlPIg1NsimyzfsT9W/HUyXDfNX1fu6TeR9zUzryrvTiqJ7jYoourue5Bqvkvde4SOFNQhdpt7lorajJPIOZy15d0wU3WtmyrzoDo0RrvU+AY+63BZruhNn6H4Etb1+8o6TNeSdohtOtkV3q3V/6PpCO+ud1iU0MfdedWhF3vFazXl3KLpxkl3Rbbr80M2iMlpI111z1yZ05FTDeLmJvONSrXl3WlF047Wsiu6dLp+Mab3c0YG/PXZaJ9PlGHLp24K8o4upvrybKLpxKZuiuxVddL7Qh9Sat0mo6+6jytSK9xb9asq7Q9GNLqaFi27TZSU06xPIVGgoZu2Tt/yGzAW3tCMpE3nHMDXk3WlF0Y1+ixbdj8qgKyYzjS7fkCfBdFkxl3b1WPKOoUzl591E0Y1hFim6Q9fBoEJe16XaxwpVzI3KQN4xVsl5dyi6MZRpgaLbr5A52j/yK0K33Asn/vYp5QJu5B1TlJp3im6MNWvR3YqJSiGu+yk0H8SEk0YLjh9O1Ir3FNM0Ki/vDkU3ppit6PYD+ig4a75U+xguL7OPH96AvOMWpeW9FUU3pmk0Q9G9EQHt4jc2fGCFuQbYHz98UJ42Iu+4TUl5dyi6cYukRbfpMqA570xzC93q+J0Q4nKTLKiRmMg74igh785GFN24TdKie6PLcUITHFN4PghXFQwr4ehwI/KOOErIu4miG3EkK7oJaDfmg4yXLKiRkHfElHveN6LoRhxJiu5WBLTPoy6LEG7w1C/no8NW5B1x5d4bQtGNmKIX3QS0n799mA8yjB/UJ+WBvCOFXPPeiqIbcUUtulsxWamPifkgU4WC2mhZrcg70sgx7w5FN1KIVnTvvF/0KJxrdfmhtROG8i91v/S2I+9IKbe8t6LoRhpRim4TAb3GfUj524j5IMM1yqcXyUTekVajfPLuUHQjpZuL7tyq9hw96bJRuRPG8BvCBy2DvGMOueTdRNGNtBrdWHT7H7D3wjkT80FicDfHOt9+X7UM8o455JJ3im7MYXLR3ehyR+HD9bXQ9UHYkcfLYcJeI/KOeeQyQZWiG3OYXHQ/irHCa5gPEo+/LefejuQdc1o6740oujGPyUW3XyVz3YtL3C8mnkYTq+VIyDvm1GjZvFN0Y06ji+5Gy+4gJTAxHyS2pbqoG5F3zG/JIRm/6L4TkE6jK23sD966fxT4q+B7G/jel+flmzCVn7O5eiPIO5awVN4bvT4LxrVZvwlIZ6/Xn43uYL05f4BfhDTeOo3ypdCRw164hd8Qvtc8Gm+dvGMOS+WdohtLGFx0mxhiGIL5IPG5nM2dPRN5xzKWyLvjt120W5hDq9e5exr6wJ3gCzUebjHhVi5v59v0Xmm1Iu9Yztx5N1F0Yxm9Rff5cMyd94N7wReaD3J4WXCbvbfeKC3yjiXtvfVGaTW6/PvMY8McXM723vf+1Qt3XoT4H7D+D4H5ICn54+SN0iLvWNLceafoxpL23nrjP2CpMcrS+F2oc3SjrsWcGSTvWNrcGfTng9wJmE+jK/NC/AcwPh7mn9/vlrdCLHNNnGtE3rG8ufJO0Y2ldWbwNBzjV8VfBJ8rNvwd1411sa3i2XvrpjTIO3Kw99ZNaYSGHpkPgjmFPiv/2Q6fihA/pAfBF+q+5MMrrt+99VS9TOQdOZgr7xTdyMHeWzf3nx/OV84Q0ktN4Hu/CjH5uWuUhqn/7wJzmCvvFN3IQW/RzXjhdW4ijb+d7oSYQuOGKZB35GCuvDMpFTlwRUdwcmrnP+BfTOGLlPHhFZ9f7L1RXOQdOUmdd4l2C3kIFt0/6DKQB8HHTevm43dRxx4nJ+/ISeq8h4ZiaLewBJe7g/e9N64I+cn75kHwhbov90IKfgMZ+6iNvCMnqfNO0Y2cXBTd9IQMEzo62QspHLx1U1zkHTk5eOumuCi6kZOLotsVIeZ98yD4QkXIH0IK/nY1xWXe+kHAclLnnaIbOTl460YRch0XKZtX6u5p89YPApZD3rEmF0X3D8I1XZNSkYbfKJuAeqXOu3nrBwHLYThmAialzuvgrXNkiJodvHVOn0XNLopuekKuY1IqgFKZt34QsJyDt/7PonuOK/aVKnRxldDFfkzHO7Ge7rL7SQwjTOVv86+Ki7zfzkTeY0md9zkuhgYMZQpcLJJGuVujy+3z2XuM6Xtj7DcmJkyRMpPk/TYm8h4bec+biaI7lmDRTUi7fdDl9vnkPeaTwr0lbtkJU9Ao54u8x0fe82Wi6I7tIpOEtFuowf3gPebPniV21+pa0Cjni7zHR97zRdEdH0XICP7dJ91y5z0mVCWzPW9Do5wv8h4fec8XRXd8FCEDDZ2UulN3SD8JU9Ao54u8x0fe80XRHd/FNvQ3MuepHzW63FifA48zMWYYW8odnbzfxkTeY6MIyddOFN2xXWTyyfvGG8EZMin1xPR97NA1xjvRIE9ler3NnxQXeb+dibzHYkqbd4ru25goumOjCBloyKRUxGeiCMF6mMh77kwU3bGYvLz/m8L3LuAOseGQcc+Y9MxbPygu8o6cmLd+EHJzeF7+S0jCXbb94H2P7rrjNghdrv13oXQHb528o2bcEBI5MW/94IqQ1LeSLlHXnXO/CamZt35QXOQdOTFv/aC4Dt46eUdWQj0hJvwU+N5BmIM/Zn1QXAdv3QQsJ3XeKbqRE/PW/9kT8seVB61RE/jeXpiDeeuxe5/IO3Ji3nrsvB/U//eAOV0U3QzHhFnge0xKnYd567G3O3lHTsxbj513im7kxLz1b64I8UP/VmBS6nLMW/+H4iLvyIl567HzTtGNnJi3/q/22L8expqD6j6UQhemQXqhS+WnQN6Rgznybkp7HRJgDP+6NW9/ePmHg/dA03pZ4HsMxczD75VItd0P3roJmN8ceT946yaKbizD5c687305FSF77x9CZ4esxV3gexQh8/Bzd1Aae/X/XWAOc+X94K2bgPkFi+4fzld6Hrwmode+F+Zg3nqq4o+8IwfmrafK+95bp+jGEoJF96kI8WdQN1qv0AcSl/Weh7/t90qDvCMHc+Wdohs5MG/9VS5DE6TWOG4Y2g6pJkfitTkzSN6xtDkz+N77O58FzG+n1zm8mPrgz1pttD6NLhsGdth5NJp3u5N3LKnRfHmn6MbSOjP4w9mD9t4P3Wl9uFz7cvy8pZ4MvFf/3wdSmjPv33TZjjEkgzmFJqX+8xo250XIb96DGq2PBb7HmTHzaLz1vdIi71hS463vldbeW6foxpwGFd102V2OWbnlnZBaKHumtMg7lrJE3lvv7+0EzMf/bL3veuDT0AdWyl0Z1W8c6LZMb6mJc2vPO5axRN4purGU3qL7B+/Bv3rrjdbjR4V3SoZj0vN7m/aax5rzjuUskffQvBB6eTGHxlt3n6mHvgefVytrumdKI86MWYrfA3WneTRab96xnKXy/rP3dx8FpOdydp67n6/9gL+DNFqHD7osQj4Jqfld00+a11rzjmUsmfdGFN2YX2/R/UPgB7be+r3WwQLfYygmvaWGYk623vpa8o5lLJn3vV5Oi3zhhp8bAem4ovt8msNBl2cmXmh0WS2vYQLTTpwZMzeXq6W6pk8arTPvmF8OeWdIBnPyh2IG583fUT6ofpwZM79Wyw7FnKwx75hfq+Xz3oiiG/O4qeh+0LrOKeeeMcvwe5+uTlhKZG15xzJyyTtFN+bQ6oaiO/Sh3KhejTgzZm4mdZ87PrO15R3zM+WTd4puzOHmojuXqn0O/ox1dsz0HpXX9l5T3jG/nPJO0Y3UTBGK7kbrGTv0jwz4EErLdLm977WsRuvJO+Zlyi/vFN1IKVrR/eT9ogfVyV0PxG8kGCdNZ6MbxgoTWkveMa+N8st7I4pupGGKWHT7PQS1BtU/KnDLnZCCKd97tqwl75iPKd+8U3QjhY0iFt2hU2xqDCqn585nozx7QZy15B3z2SjfvFN0IzZTgqK79qByeu58TPkffdEwIxZT3nmn6EZsGyUoumsPaqPLAoTTc9PY6DKgprzQMCOWjfLPO0U3YjElLLprDiqn587DdLmdc/1wp2HGrUxl5J2iG7FslLDoDgX1UXXwP3Dcwulq8bm8+AHNVc15xzxKyjtFN25lmqHo/hj4I43K59/QyS2cnhuX6XIb3ytvteYd6ZnKyjtFN241W9H9WfUNW7jX4DcY74SYXCBnCWhkNeYd6ZWYd4puTGWasehuAn/so8rmf9C4hdNz4wk1bqUUeY3qyzvSKjnvFN2YYvai27+6qOvGM5Xrz8DCeGgcpvK7eWvLO9IxlZ33RhTdGGeRojs0flhqxRy6RshXIRaXC79CNpWlprwjrRryTtGNoUwLFt2h6qfEirnR5evgGiFxhDJyrzLVknekU0veKbox1OJFt/8ESqyYuUZIGqb6tmsNeUcaprryTtGNa7Iouk2XFbOrhEqaT+FOxfU3JNcIuY17/10OFq2QEzCVn3fEV2veKbrRxZRR0d2q7A/x0DVCHoRb/KIMKuREWlG04rVa826i6MalLIvu0Ad5KV13/iSsmj4wlxDqoqvtQ7rkvCOu2vPeiqIbr2VZdIcqI7eUcK2NnS6f950whXu//W1Z45FTyXlHPGvJO0U3TrIuuk3hrjtT3vgwicN0uS1rHkM2lZl3xGFaT94puuEUUXS3Ku/I4M/AwpjnOKZwI3WvurVax5EwXjOtL+8miu41MxVUdD/ocud0193IsWEOXajsT2EMtw1Dl71/0DqUlHfcbs15b0XRvUamAovurS6f8KPy09W9hOG2yniMcCZblZF33G6rdeedontdii66Q088t4a50eVz3AlDbRVukNaohLzjNluRd2crsr4WWxVcdHdNZsoprO91+fw+CUNsRdfsuRLyjum2Iu/nKLrrt1UFRbcp74Y5dLVUdqTrtgo3yKZ1M1GI1Ggr8u6j6K7bVhUV3abusC79gh5U6FjXQtz7tRUNch9TvnnHOOS9n4lCpEZbVZh5Uzisn7XsC3vU5XP6IIR0TVCiQb5kyjPvGI68D2Oi6K5F9UW3KRzWJV8gl2wfxpTfe5c7E9usVCbeuzFMFN2lW03RbereuZe4+t4u8FzuhHPufaFBnsaUV95xHXmfxsR2K5VpZe9dV8XllrnvRxB6HhQh34XuE3A6wqGrdZic8o5+5P02Joru0qy66A7dFOnPl+/PtcOHNv4bwW3/XxR+fx6FKXLIO8LIezwU3eWg6Fb47JQ5q7Cvgb+99g8EU7g4c8uDcIul845LJvKeAkV3vii6Pa3CxcAclXPob66Z296h98J9716IodVyecdr5D0tV8RRdOfFRNEdZOreMDulCWzo5nVftU6m8CRdGow0TPPnHd+ZyPtcWlF054Ki+wpXFHR14bmNFDuwpnADtDZdwaTrNK25844j8j4/E0X3kkwU3aO06g5szA0WuoPumm5G1ag7mFTG82k1T97XrhF5XxJF9zIouicydTcYbnnU7Y1zo3BVXjsXOrf9urYtRybzM6XP+1qR97y0ouieQyOK7ihadQfWLRtND22jdRUhrjHeqLsqdt//ICypVbq8rw15z5eJojsViu4ETP0b1TXaG43fsI3WUYRca4zd8kl0y+XClCbva0Hey9GKojsWiu4ZvFN/YMc2zq3CFXgthjTGbg7MnZCj2HmvHXkvk4mi+xYU3Qto1d84D+3Oa1VnEdLoOOGoL5RUxeVoFSfvtWpE3mtA0T0ORXcGHnS9cd7pOAEnVAW2qqcIca/PNbLu9fZtDxfYB1EVl+jWvNeEvNerFUV3n0YU3VkxDWuc3Zvigvv+7Gc/BB73s8rS6Pi6+gJJY1wP0/S816AReV8Liu7vKLoL0ep6aM8b6E+Bf3tQ3ly4Wg1riN3itgehrFOrcXl3BUlpOSDv62ai6KboLlCr6xVj15JbEeJC1eg49jfmNbnH3glr0Gp8NlzOG+XXaJF3dGlF0U3RXRjTcXhlSHD9Bs39nOv+ajTfG+z+zlsdQ+j+/meNe95Uw+tmIu+oXyuK7uqK7r+ofu4Na3V8w03jHbzlj5evCnz1/ajv4bez9Tdn62817Xl9e162z8uvz8tvAo7IO2pnOhbO7zUuS/vn5YuO+f395f+/KT2Xe9Mx+z/puG++HfHz7jn+8rz8TfM831mtoQg55xro9xof3lwcdGyEaYgxxCnvjcY1erk4iLyjH0V34dZWhJwzHYPrQvxWeTbSBx2rd7f8XRVWwZiNibyjbhTdBVpzEeJzVet5V5lp3iAf9Lq70IWQRhipkHfUzETRXQSKkOtceP/95etpbM9e/s3/6vum78FyXw9nX0//7xrhPwTkgbyjRhTdmaIIAQCsFUX3wv4/whH80xtDROgAAAAASUVORK5CYII=)"
      ],
      "metadata": {
        "id": "MuPPHVCspXqw"
      }
    },
    {
      "cell_type": "markdown",
      "source": [
        "For example, in the picture above, the dotted portions of the track are outside of all of the straws, so we aren't able to measure the energy lost in those regions.\n",
        "\n",
        "How do we measure the distance the particle traveled inside the straw? Again, this part is a little too complicated to be worth deriving manually. However, we can calculate the distance that the particle travels inside the straw based on the timing of the signal we detect. This is because the majority of the delay in our signal actually comes from the time it takes for the ionized particles to reach the charged wire (the \"drift time\").\n",
        "\n",
        "Run the cell below to add a `dx` column to the `CDC_hits` dataframe, which is calculated based on the timing of the hits. You don't need to modify anything in this cell- just be sure to run it!"
      ],
      "metadata": {
        "id": "o1DkuyWxBWdC"
      }
    },
    {
      "cell_type": "code",
      "source": [
        "CDC_hits['dx']= CDC_hits['t'].apply(lambda t: 1.7*(np.log(0.00033*t+1))**0.5)"
      ],
      "metadata": {
        "id": "_X9pDuHzC7t6",
        "colab": {
          "base_uri": "https://localhost:8080/"
        },
        "outputId": "8882a418-de7b-41db-e363-8a290a3b016d"
      },
      "execution_count": 3,
      "outputs": [
        {
          "output_type": "stream",
          "name": "stderr",
          "text": [
            "<ipython-input-3-cfb514eb471e>:1: RuntimeWarning: invalid value encountered in sqrt\n",
            "  CDC_hits['dx']= CDC_hits['t'].apply(lambda t: 1.7*(np.log(0.00033*t+1))**0.5)\n"
          ]
        }
      ]
    },
    {
      "cell_type": "markdown",
      "source": [
        "---\n",
        "###**Step 3: Calculating Ionization Energy Loss**\n",
        "---\n",
        "\n",
        "We are finally ready to calculate the ionization energy loss! Based on the timing information and the total charge we detect, we can calculate the energy loss ($dE$) and the path length ($dx$) for each hit. However, because the distance traveled in each straw is so small, it's difficult to get an accurate measure of ionization energy loss for an individual straw. However, if we consider the total energy loss of the track and the total path length of the track (but again, only the length of the path inside the straws), we can get a much more accurate value. These are the steps we will take to calculate the ionization energy loss:\n",
        "\n",
        "1.  For every hit, calculate the energy loss ($dE$) and the path length ($dx$).\n",
        "2.  Find the total energy losses and path length for the track.\n",
        "3.  Calculate the ionization energy loss ($dE/dx$).\n",
        "\n",
        "In steps 1 and 2, you completed the first item, so we only need to worry about item 2 and item 3."
      ],
      "metadata": {
        "id": "1SXau_POX7xZ"
      }
    },
    {
      "cell_type": "markdown",
      "source": [
        "####**Question #4:**\n",
        "---\n",
        "Each row in the `CDC_hits` dataframe represents a single track. In the `dE` and `dx` columns you calculated, there is a list that contains the $dE$ and $dx$ values for each hit associated with that track.\n",
        "\n",
        "**Note:** The `sum` method of the dataframe will find the sum of the entire column (instead of taking the sum track-by-track). Instead, to calculate the total energy loss and total path length, you should use the `.apply(sum)`. For example, to calculate the total energy lost by each track, you would do something like:\n",
        "```\n",
        "CDC_hits['total dE']= CDC_hits['dE'].apply(sum)\n",
        "```\n",
        "\n",
        "In the cell below, write code that calculates the sum of the $dE$ values and the sum of the $dx$ values, calculates the ionization energy loss value, then stores the result in another column called `dE/dx`."
      ],
      "metadata": {
        "id": "R3m9Ae9duK3I"
      }
    },
    {
      "cell_type": "code",
      "source": [
        "CDC_hits['dE/dx']="
      ],
      "metadata": {
        "id": "xhi23C9ouI9S"
      },
      "execution_count": null,
      "outputs": []
    },
    {
      "cell_type": "markdown",
      "source": [
        "#####**Solution:**"
      ],
      "metadata": {
        "id": "se5XcP_sw-ht"
      }
    },
    {
      "cell_type": "code",
      "source": [
        "CDC_hits['dE/dx']=CDC_hits['dE'].apply(sum)/CDC_hits['dx'].apply(sum)"
      ],
      "metadata": {
        "id": "SaF5xsj6ufdf"
      },
      "execution_count": 4,
      "outputs": []
    },
    {
      "cell_type": "markdown",
      "source": [
        "---\n",
        "##**Plotting Ionization Energy Loss**\n",
        "---\n",
        "The best way to see how ionization energy loss helps us identify particles is to visualize the relationship between ionization energy loss and momentum. These next few questions will walk you through creating an ionization energy loss plot. It may be useful to review the \"Introduction to ROOT\" and \"2D Histograms in ROOT\" activities before completing this section."
      ],
      "metadata": {
        "id": "su1P_2twadK0"
      }
    },
    {
      "cell_type": "markdown",
      "source": [
        "####**Question #5:**\n",
        "---\n",
        "\n",
        "In the cell below, create a canvas with the following properties using ROOT's TCanvas constructor:\n",
        "\n",
        "\n",
        "\n",
        "*   Name: \"c1\"\n",
        "*   Title: \"Ionization Energy Loss Plot\"\n",
        "*   Width: 700\n",
        "*   Height: 500"
      ],
      "metadata": {
        "id": "TQzi-iOZ8kpz"
      }
    },
    {
      "cell_type": "code",
      "source": [
        "canvas ="
      ],
      "metadata": {
        "id": "ZC8Umjzo-G8_"
      },
      "execution_count": null,
      "outputs": []
    },
    {
      "cell_type": "markdown",
      "source": [
        "#####**Solution:**"
      ],
      "metadata": {
        "id": "XndUDkOv-I81"
      }
    },
    {
      "cell_type": "code",
      "source": [
        "canvas = TCanvas(\"c1\",\"Ionization Energy Loss Plot\",700,500)"
      ],
      "metadata": {
        "id": "j8HPWxWJ-MiL"
      },
      "execution_count": 5,
      "outputs": []
    },
    {
      "cell_type": "markdown",
      "source": [
        "####**Question #6:**\n",
        "---\n",
        "In the cell below, create a 2D Histogram with the following properties using ROOT's TH2D constructor:\n",
        "\n",
        "Write code in the cell below to create a histogram with the following properties:\n",
        "\n",
        "*   Name: \"h1\"\n",
        "*   Title: \"Ionization Energy Loss vs. Momentum\"\n",
        "*   X axis label: \"Momentum (GeV/c)\"\n",
        "*   Y axis label: \"Ionization Energy Loss\"\n",
        "*   Number of bins: 200 (both X and Y)\n",
        "*   Minimum X value: 0\n",
        "*   Maximum X value: 1\n",
        "*   Minimum Y value: 0\n",
        "*   Maximum Y value: 0.00002 $\\left (2 * 10^{-5}\\right )$"
      ],
      "metadata": {
        "id": "tHpBTRZq-eFj"
      }
    },
    {
      "cell_type": "code",
      "source": [
        "h1 ="
      ],
      "metadata": {
        "id": "j7Q1w6BK_D0x"
      },
      "execution_count": null,
      "outputs": []
    },
    {
      "cell_type": "markdown",
      "source": [
        "#####**Solution:**"
      ],
      "metadata": {
        "id": "ikGDulIt_FAx"
      }
    },
    {
      "cell_type": "code",
      "source": [
        "h1 = TH2D(\"h1\",\"Ionization Energy Loss vs. Momentum;Momentum (GeV/c);Ionization Energy Loss\",200,0,1,200,0,2*10**-5)"
      ],
      "metadata": {
        "id": "gmaMBCCB_I97"
      },
      "execution_count": 6,
      "outputs": []
    },
    {
      "cell_type": "markdown",
      "source": [
        "####**Question #7**\n",
        "---\n",
        "Complete the loop in the cell below to use the Fill method of the TH2D object to fill in the histogram with the momenta and ionization energy losses stored in the dataframe called `particle_data`, which has a column named \"p\" (magnitude of momentum) and a column named \"dEdxCDC\" (ionization energy loss in the Central Drift Chamber). Finally, draw the filled histogram."
      ],
      "metadata": {
        "id": "nUpWJeV4AThJ"
      }
    },
    {
      "cell_type": "code",
      "source": [
        "for row in #Complete this code\n",
        "  #Complete this code\n",
        "h1.Draw('COLZ')\n",
        "gROOT.GetListOfCanvases().Draw()"
      ],
      "metadata": {
        "id": "Z3y3q8ZlB0Ex"
      },
      "execution_count": null,
      "outputs": []
    },
    {
      "cell_type": "markdown",
      "source": [
        "#####**Solution:**"
      ],
      "metadata": {
        "id": "PP8_4LS0CsxT"
      }
    },
    {
      "cell_type": "code",
      "source": [
        "for row in particle_data.iloc:\n",
        "  h1.Fill(row['p'],row['dEdxCDC'])\n",
        "h1.Draw('COLZ')\n",
        "gROOT.GetListOfCanvases().Draw()"
      ],
      "metadata": {
        "colab": {
          "base_uri": "https://localhost:8080/",
          "height": 54
        },
        "id": "Lcox9iXeCvgg",
        "outputId": "8c2650cc-f07a-4b38-bc7f-ddb73b987a35"
      },
      "execution_count": 7,
      "outputs": [
        {
          "output_type": "display_data",
          "data": {
            "image/png": "[encoded data removed]",
            "text/plain": [
              "<IPython.core.display.Image object>"
            ]
          },
          "metadata": {}
        }
      ]
    },
    {
      "cell_type": "markdown",
      "source": [
        "####**Question #8:**\n",
        "---\n",
        "\n",
        "You can also save canvases! In Google Colab, you can just right click and select \"Save Image as\". However, in many other situations, it is useful to save an image in your code. Lucky for us, ROOT's TCanvas class has a `SaveAs` method, which allows us to save an image. The syntax is as follows:\n",
        "```\n",
        "canvas.SaveAs(\"filename.png\")\n",
        "```\n",
        "\n",
        "In the cell below, use the TH2D's `SetStats` method to remove the statistics box from the plot. Then, use TCanvas's `SaveAs` method to save your plot as \"dEdxPlot.png\"."
      ],
      "metadata": {
        "id": "HkFauHXDC38e"
      }
    },
    {
      "cell_type": "code",
      "source": [],
      "metadata": {
        "id": "Q3y-EZunEnMj"
      },
      "execution_count": null,
      "outputs": []
    },
    {
      "cell_type": "markdown",
      "source": [
        "#####**Solution:**"
      ],
      "metadata": {
        "id": "l3tYE9KiEnlT"
      }
    },
    {
      "cell_type": "code",
      "source": [
        "h1.SetStats(0)\n",
        "canvas.SaveAs(\"dEdxPlot.png\")"
      ],
      "metadata": {
        "colab": {
          "base_uri": "https://localhost:8080/"
        },
        "id": "TfPxoU2PEqjL",
        "outputId": "26ba75a9-8744-417f-ce33-42f9f11aebb7"
      },
      "execution_count": 8,
      "outputs": [
        {
          "output_type": "stream",
          "name": "stderr",
          "text": [
            "Info in <TCanvas::Print>: png file dEdxPlot.png has been created\n"
          ]
        }
      ]
    },
    {
      "cell_type": "markdown",
      "source": [
        "**Note:** To check that your solution worked, you can click the folder icon shown to the left, which should show you all of the files that are saved on the remote computer that this notebook is running on. You should see a file in the menu called \"dEdxPlot.png\". If you'd like, you can right click the file and select \"Download\" to download the image to your computer. Otherwise, the file will be deleted when you close out of the notebook (files are not saved in Google Colab, but the code is saved, so you can come back and recreate the image at any time!)"
      ],
      "metadata": {
        "id": "MvpDaliuExbo"
      }
    },
    {
      "cell_type": "markdown",
      "source": [
        "#### **Question #9:**\n",
        "---\n",
        "If you completed the \"Calculating Ionization Energy Loss\" section, the `CDC_hits` dataframe should also have columns titled `p` and `dE/dx`. Create a 2D histogram of momentum vs. rate of ionization energy loss. Note that because the ionization energy loss is in a different unit than those in previous questions, the y range of your plot should be much larger. Try using these properties:\n",
        "\n",
        "*   Name: \"h1\"\n",
        "*   Title: \"Ionization Energy Loss vs. Momentum\"\n",
        "*   X axis label: \"Momentum (GeV/c)\"\n",
        "*   Y axis label: \"Ionization Energy Loss\"\n",
        "*   Number of bins: 200 (both X and Y)\n",
        "*   Minimum X value: 0\n",
        "*   Maximum X value: 1\n",
        "*   Minimum Y value: 0\n",
        "*   Maximum Y value: 10000000\n",
        "\n",
        "\n",
        "What do you notice about this plot?"
      ],
      "metadata": {
        "id": "1Hjh-q7kxKMz"
      }
    },
    {
      "cell_type": "code",
      "source": [
        "c1 ="
      ],
      "metadata": {
        "id": "uzmKnQwez-xN"
      },
      "execution_count": null,
      "outputs": []
    },
    {
      "cell_type": "markdown",
      "source": [
        "Double click to edit this cell and answer the following question: What do you notice about this plot?"
      ],
      "metadata": {
        "id": "1nKWCcbp3LSL"
      }
    },
    {
      "cell_type": "markdown",
      "source": [
        "#####**Solution:**"
      ],
      "metadata": {
        "id": "tR9c8yBWz_ZH"
      }
    },
    {
      "cell_type": "code",
      "source": [
        "c1 = TCanvas(\"c1\",\"c1\",700,500)\n",
        "h1 = TH2D(\"h1\",\"Ionization Energy Loss vs. Momentum;Momentum (GeV/c);Ionization Energy Loss\",200,0,1,200,0,10000000)\n",
        "for row in CDC_hits.iloc:\n",
        "  h1.Fill(row['p'],row['dE/dx'])\n",
        "h1.SetStats(0)\n",
        "h1.Draw('COLZ')\n",
        "gROOT.GetListOfCanvases().Draw()"
      ],
      "metadata": {
        "colab": {
          "base_uri": "https://localhost:8080/",
          "height": 89
        },
        "id": "BTLETRPuAD7Z",
        "outputId": "4bc1160c-5b24-44b1-d5e0-33404c4f0186"
      },
      "execution_count": 9,
      "outputs": [
        {
          "output_type": "stream",
          "name": "stderr",
          "text": [
            "Warning in <TCanvas::Constructor>: Deleting canvas with same name: c1\n",
            "Warning in <TROOT::Append>: Replacing existing TH1: h1 (Potential memory leak).\n"
          ]
        },
        {
          "output_type": "display_data",
          "data": {
            "image/png": "[encoded data removed]",
            "text/plain": [
              "<IPython.core.display.Image object>"
            ]
          },
          "metadata": {}
        }
      ]
    },
    {
      "cell_type": "markdown",
      "source": [
        "Because we only estimated the energy loss, the plot doesn't look as nice as the other ones. However, we can still see one faint stripe (a vertical line around 0.3 GeV/c in momentum), which likely corresponds to a specific particle. However, the vast majority of the points are closer to 1 GeV/c in momentum and have very low energy loss, which is seen in the more accurate plots as well."
      ],
      "metadata": {
        "id": "hh9oEX2P3UQA"
      }
    },
    {
      "cell_type": "markdown",
      "source": [
        "---\n",
        "## **Interpreting Ionization Energy Loss Plots**\n",
        "---\n",
        "In the previous questions, you created a plot that looked something like this one:"
      ],
      "metadata": {
        "id": "K8IX2VS93ULP"
      }
    },
    {
      "cell_type": "code",
      "source": [
        "# @title\n",
        "canvas = TCanvas(\"c1\",\"Ionization Energy Loss Plot\",700,500)\n",
        "h1 = TH2D(\"h1\",\"Ionization Energy Loss vs. Momentum;Momentum (GeV/c);Ionization Energy Loss\",200,0,1,200,0,2*10**-5)\n",
        "for row in particle_data.iloc:\n",
        "  h1.Fill(row['p'],row['dEdxCDC'])\n",
        "h1.SetStats(0)\n",
        "h1.Draw('COLZ')\n",
        "gROOT.GetListOfCanvases().Draw()"
      ],
      "metadata": {
        "colab": {
          "base_uri": "https://localhost:8080/",
          "height": 524
        },
        "cellView": "form",
        "id": "S4ZI8ZbUGwig",
        "outputId": "d8e76e9e-600a-4872-bc5c-5ce20be50d39"
      },
      "execution_count": 10,
      "outputs": [
        {
          "output_type": "stream",
          "name": "stderr",
          "text": [
            "Warning in <TCanvas::Constructor>: Deleting canvas with same name: c1\n",
            "Warning in <TROOT::Append>: Replacing existing TH1: h1 (Potential memory leak).\n"
          ]
        },
        {
          "output_type": "display_data",
          "data": {
            "image/png": "[encoded data removed]",
            "text/plain": [
              "<IPython.core.display.Image object>"
            ]
          },
          "metadata": {}
        }
      ]
    },
    {
      "cell_type": "markdown",
      "source": [
        "You may notice that there are a few different stripes on the histogram where the bins are extra full. Each of these stripes corresponds to a different particle we detect! For low momentum (below 0.7 GeV/c), you'll notice that the different stripes are pretty far apart, which makes it pretty easy to tell them apart. However, at higher momentum (above 0.7 GeV/c), all of the stripes start to blend together, which makes high-momentum particles extremely difficult to identify. At lower momentum, ionization energy loss is an extremely powerful method of particle identification."
      ],
      "metadata": {
        "id": "SJjjvyQnLEiC"
      }
    },
    {
      "cell_type": "markdown",
      "source": [
        "###**Question #10:**\n",
        "---\n",
        "The code below plots the ionization energy loss and momentum for particles identified as protons. Use the dropdown menu to change the particle that is plotted. Try to identify all of the stripes in the histogram shown above."
      ],
      "metadata": {
        "id": "6QbMFVDoQCk-"
      }
    },
    {
      "cell_type": "code",
      "source": [
        "# @title { run: \"auto\" }\n",
        "particle_to_plot = \"Proton\" # @param [\"Proton\", \"Kaon+\", \"Pion+\", \"Electron\"]\n",
        "canvas = TCanvas(\"c1\",\"Ionization Energy Loss Plot\",700,500)\n",
        "h1 = TH2D(\"h1\",\"Ionization Energy Loss vs. Momentum for \" + particle_to_plot + \"s;Momentum (GeV/c);Ionization Energy Loss\",200,0,1,200,0,2*10**-5)\n",
        "for row in particle_data.loc[particle_data['Particle']== particle_to_plot].iloc:\n",
        "  h1.Fill(row['p'],row['dEdxCDC'])\n",
        "h1.SetStats(0)\n",
        "h1.Draw('COLZ')\n",
        "gROOT.GetListOfCanvases().Draw()"
      ],
      "metadata": {
        "colab": {
          "base_uri": "https://localhost:8080/",
          "height": 89
        },
        "cellView": "form",
        "id": "x2YApYYiRErv",
        "outputId": "d4d673fb-2e90-42be-d2f7-5d476660b30d"
      },
      "execution_count": 11,
      "outputs": [
        {
          "output_type": "stream",
          "name": "stderr",
          "text": [
            "Warning in <TCanvas::Constructor>: Deleting canvas with same name: c1\n",
            "Warning in <TROOT::Append>: Replacing existing TH1: h1 (Potential memory leak).\n"
          ]
        },
        {
          "output_type": "display_data",
          "data": {
            "image/png": "[encoded data removed]",
            "text/plain": [
              "<IPython.core.display.Image object>"
            ]
          },
          "metadata": {}
        }
      ]
    },
    {
      "cell_type": "markdown",
      "source": [
        "####**Solution:**"
      ],
      "metadata": {
        "id": "Iuux1yTrUZRN"
      }
    },
    {
      "cell_type": "markdown",
      "source": [
        "![A labelled dE/dx plot](data:image/png;base64,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)"
      ],
      "metadata": {
        "id": "tCBUANuoUmuW"
      }
    },
    {
      "cell_type": "markdown",
      "source": [
        "From top to bottom, we have Protons, Kaons, Electrons, then Pions."
      ],
      "metadata": {
        "id": "OhnP5jFLUsux"
      }
    },
    {
      "cell_type": "markdown",
      "source": [
        "---\n",
        "##**Making Cuts**\n",
        "---\n",
        "\n",
        "To turn these stripes into a classification tool, we use **cuts**. Cuts are conditions that we use to make restrictions on our data. In many cases, our cuts take the form of inequalities. For example, we may say that if the mass of a particle is greater than 0.7 GeV/c^2, then it is a Proton. The corresponding cut would be $m>0.7$, where $m$ is the mass of the particle.\n",
        "\n",
        "\n",
        "For ionization energy loss, our cuts are a little more complicated. The stripes resemble exponential decays, so we use cuts of the form:\n",
        "$$\n",
        "dE/dx * 10^6 > e^{a*p + b}+c\n",
        "$$\n",
        "or $$\n",
        "dE/dx * 10^6 < e^{a*p + b}+c\n",
        "$$\n",
        "where $dE/dx$ is the ionization energy loss, $e$ is Euler's constant, $p$ is the magnitude of momentum, and $a, b,$ and $c$ are constants that we can change to find a good cut. Multiplying the ionization energy loss by $10^6$ makes it so that the constants $a$, $b$, and $c$ don't have to be ridiculous small.\n",
        "\n",
        "Below, you can change the sliders for $a$, $b$, and $c$ to see their effect on the graph."
      ],
      "metadata": {
        "id": "fNYNmvzuU2fE"
      }
    },
    {
      "cell_type": "code",
      "source": [
        "# @title\n",
        "fig = interactive_image()\n",
        "fig.update()\n",
        "fig.display(a=(-10,0,0.01),b=(0,10,0.01), c=(0,10,0.01))"
      ],
      "metadata": {
        "colab": {
          "base_uri": "https://localhost:8080/",
          "height": 66,
          "referenced_widgets": [
            "abc49950d444466d8f36b476cdc54e44",
            "4e48180474dc4c5e9fdbbabdf8538d21",
            "6917c6bfd1fb4f108dfd88e3fef49d24",
            "4e0bbc4692944fa097aff38752dafea2",
            "d0e6dfea88264ccf95e13f4de7da95f9",
            "a65d6866f3e24279833a2a1ccd889d8c",
            "ee753eab86ce47d19e1cd661c94f355b",
            "49dddc96b27249f4b16fa2ca4beb193f",
            "41fac87ea88240da88c7c928aee540f2",
            "28c6eec2b0eb414da7c44dabdb8e58e0",
            "3b486b46b9864c5abedcf35f0dcc281d",
            "2c6b14d585464b28aca89592e704b0bb",
            "928d3d678b2c4a3591bbd553c47acc54",
            "965620f3ebd043b58565b8e97502c3b4",
            "a182aeef66c04fbba40ff04190b38cf7"
          ]
        },
        "id": "hO3-hK3-ZY7p",
        "outputId": "6877bf4c-5e16-4060-d735-0413c0e8ac0a",
        "cellView": "form"
      },
      "execution_count": 12,
      "outputs": [
        {
          "output_type": "stream",
          "name": "stdout",
          "text": [
            "This equation is rescaled by 10**-6\n"
          ]
        },
        {
          "output_type": "display_data",
          "data": {
            "text/plain": [
              "VBox(children=(HBox(children=(FloatSlider(value=0.0, description='a', max=0.0, min=-10.0, step=0.01), FloatSli…"
            ],
            "application/vnd.jupyter.widget-view+json": {
              "version_major": 2,
              "version_minor": 0,
              "model_id": "abc49950d444466d8f36b476cdc54e44"
            }
          },
          "metadata": {
            "application/vnd.jupyter.widget-view+json": {
              "colab": {
                "custom_widget_manager": {
                  "url": "https://ssl.gstatic.com/colaboratory-static/widgets/colab-cdn-widget-manager/2b70e893a8ba7c0f/manager.min.js"
                }
              }
            }
          }
        }
      ]
    },
    {
      "cell_type": "markdown",
      "source": [
        "Notice that $a$ changes how curved the line is, $b$ stretches it vertically, and $c$ just moves the line up and down. These three constants are enough to get extremely powerful cuts.\n",
        "\n",
        "For example, the interactive plot shown below plots the graph of our cut over the ionization energy loss plot for protons."
      ],
      "metadata": {
        "id": "_K7JawlAZ0Et"
      }
    },
    {
      "cell_type": "code",
      "source": [
        "# @title\n",
        "particle_to_plot=\"Proton\"\n",
        "canvas = TCanvas(\"c1\",\"Ionization Energy Loss Plot\",700,500)\n",
        "h1 = TH2D(\"h1\",\"Ionization Energy Loss vs. Momentum for \" + particle_to_plot + \"s;Momentum (GeV/c);Ionization Energy Loss\",200,0,1,200,0,2*10**-5)\n",
        "for row in particle_data.loc[particle_data['Particle']== particle_to_plot].iloc:\n",
        "  h1.Fill(row['p'],row['dEdxCDC'])\n",
        "h1.SetStats(0)\n",
        "h1.Draw('COLZ')\n",
        "canvas.SaveAs(\"Proton.png\")\n",
        "fig = interactive_image(\"Proton.png\")\n",
        "fig.update()\n",
        "fig.display(a=(-10,0,0.01),b=(0,10,0.01), c=(0,10,0.01))"
      ],
      "metadata": {
        "colab": {
          "base_uri": "https://localhost:8080/",
          "height": 118,
          "referenced_widgets": [
            "1a1535cc665c4cca9122b47c44f4db21",
            "42ddb659167e4309a30b5585c40adb3e",
            "87c52fc2ee7249469e478985cc55a5e8",
            "4771334dce044c759e216468daea68eb",
            "1cb58059567e468bb9b2548c8f67f9a7",
            "9598ef91ccd34b6bbb6fee3d05dce191",
            "54052b9a62cb4f11977435875d37de4f",
            "dd3c38f7023741d3aa1ddd0f9efaa7d5",
            "7d89b9a88302462db69b173d67c56999",
            "02a6d1e6274b44858d4942f487183aa1",
            "57a819e2e2dc4d298fa1cf035efa107a",
            "866a3ef38b8146daa534d2a650f73f73",
            "5411b8ec5ab746559e57191dba689b0e",
            "88160a4d01274cdc940671cc5b142f37",
            "6a8a2afbd2954eba8114cd776d0c9592"
          ]
        },
        "id": "55zhx63YcVkX",
        "outputId": "3cd76689-3ea5-4e5b-a96f-1cd5ca7e081b",
        "cellView": "form"
      },
      "execution_count": 13,
      "outputs": [
        {
          "output_type": "stream",
          "name": "stdout",
          "text": [
            "This equation is rescaled by 10**-6\n"
          ]
        },
        {
          "output_type": "display_data",
          "data": {
            "text/plain": [
              "VBox(children=(HBox(children=(FloatSlider(value=0.0, description='a', max=0.0, min=-10.0, step=0.01), FloatSli…"
            ],
            "application/vnd.jupyter.widget-view+json": {
              "version_major": 2,
              "version_minor": 0,
              "model_id": "1a1535cc665c4cca9122b47c44f4db21"
            }
          },
          "metadata": {
            "application/vnd.jupyter.widget-view+json": {
              "colab": {
                "custom_widget_manager": {
                  "url": "https://ssl.gstatic.com/colaboratory-static/widgets/colab-cdn-widget-manager/2b70e893a8ba7c0f/manager.min.js"
                }
              }
            }
          }
        },
        {
          "output_type": "stream",
          "name": "stderr",
          "text": [
            "Warning in <TCanvas::Constructor>: Deleting canvas with same name: c1\n",
            "Warning in <TROOT::Append>: Replacing existing TH1: h1 (Potential memory leak).\n",
            "Info in <TCanvas::Print>: png file Proton.png has been created\n"
          ]
        }
      ]
    },
    {
      "cell_type": "markdown",
      "source": [
        "If we set $a=-4.8$, $b=3.6$, and $c=1.5$, we get a line that separates the proton curve (displayed above) from all of the other curves. Therefore, when classifying our particles, we could say that a particle is a proton if:\n",
        "$$\n",
        "dE/dx * 10^6> e^{(-2.5*p+2.3)}+1.4\n",
        "$$\n",
        "We can also find a cut to place as an upper bound. In this case, we might require that:\n",
        "$$\n",
        "dE/dx * 10^6< e^{(-5.8*p+4.55)} + 3.45\n",
        "$$\n",
        "For protons, this is actually unnecessary, since there are no particles seen in the GlueX experiment that appear above protons in an ionization energy loss plot."
      ],
      "metadata": {
        "id": "eTQjkAgDdbV9"
      }
    },
    {
      "cell_type": "markdown",
      "source": [
        "###**Question #11:**\n",
        "---\n",
        "Repeat the process described above to find cuts (both above and below) that help classify kaons, pions, and electrons.\n",
        "\n",
        "**Note:** To make a horizontal line, you can set $a$ and $b$ to 0. Then, you can change $c$ to get a cut of the form $dE/dx * 10^6> c + 1$ or $dE/dx * 10^6 < c+1$. The $c+1$ comes from plugging $a=b=0$ into the exponential equation:\n",
        "$$\n",
        "e^{(0*p+0)}+c = e^0 + c = c + 1\n",
        "$$"
      ],
      "metadata": {
        "id": "Dbz0hDlGaZ1M"
      }
    },
    {
      "cell_type": "markdown",
      "source": [
        "Double click to edit this cell and answer the following question: What cuts should be made for protons, kaons, pions, and electrons in the central drift chamber?"
      ],
      "metadata": {
        "id": "ZVAb8xluDm1B"
      }
    },
    {
      "cell_type": "code",
      "source": [
        "# @title { run: \"auto\" }\n",
        "particle_to_plot = \"Proton\" # @param [\"Proton\", \"Kaon+\", \"Pion+\", \"Electron\"]\n",
        "canvas = TCanvas(\"c1\",\"Ionization Energy Loss Plot\",700,500)\n",
        "h1 = TH2D(\"h1\",\"Ionization Energy Loss vs. Momentum for \" + particle_to_plot + \"s;Momentum (GeV/c);Ionization Energy Loss\",200,0,1,200,0,2*10**-5)\n",
        "for row in particle_data.loc[particle_data['Particle']== particle_to_plot].iloc:\n",
        "  h1.Fill(row['p'],row['dEdxCDC'])\n",
        "h1.SetStats(0)\n",
        "h1.Draw('COLZ')\n",
        "canvas.SaveAs(particle_to_plot + \".png\")\n",
        "fig = interactive_image(particle_to_plot + \".png\")\n",
        "fig.update()\n",
        "fig.display(a=(-10,0,0.01),b=(0,10,0.01), c=(0,10,0.01))"
      ],
      "metadata": {
        "colab": {
          "base_uri": "https://localhost:8080/",
          "referenced_widgets": [
            "629eaef893d84900b33eca15434c49f5",
            "f0482d79a3a042c2a85530134228c8db",
            "de087dc4f13a4366818940b29415706a",
            "5026c6a5eae1410182876271c9b5e390",
            "7e1cf194da624cb2aee154d6089d8198",
            "1d74a537015a4a97be7efded2f0bef91",
            "5ca5d26695fd4dd1aa68d6f3e2beb31e",
            "60a2d595d0a7460eac46a999acfcb620",
            "7945ccb75a1a4ac9bacddc41afe3150d",
            "4e8ba50687464ff3b8ff9ba5bc1d0723",
            "115e6ec05c34449daaa512815949f463",
            "e7ca68bd04b24afcbc51252ebbc4ba78",
            "0f24e2a170a042d59ea16eb19996ddad",
            "a72a6266caf246f297fc29a79cb1c9c5",
            "4335130baeb24c1ba33b61a5815830b7"
          ],
          "height": 202
        },
        "id": "XHZ4Ct9g2jr1",
        "outputId": "df2ec586-6758-473b-acd6-9079dbd18bc6",
        "cellView": "form"
      },
      "execution_count": 14,
      "outputs": [
        {
          "output_type": "stream",
          "name": "stdout",
          "text": [
            "This equation is rescaled by 10**-6\n"
          ]
        },
        {
          "output_type": "display_data",
          "data": {
            "text/plain": [
              "VBox(children=(HBox(children=(FloatSlider(value=0.0, description='a', max=0.0, min=-10.0, step=0.01), FloatSli…"
            ],
            "application/vnd.jupyter.widget-view+json": {
              "version_major": 2,
              "version_minor": 0,
              "model_id": "629eaef893d84900b33eca15434c49f5"
            }
          },
          "metadata": {
            "application/vnd.jupyter.widget-view+json": {
              "colab": {
                "custom_widget_manager": {
                  "url": "https://ssl.gstatic.com/colaboratory-static/widgets/colab-cdn-widget-manager/2b70e893a8ba7c0f/manager.min.js"
                }
              }
            }
          }
        },
        {
          "output_type": "stream",
          "name": "stderr",
          "text": [
            "Warning in <TCanvas::Constructor>: Deleting canvas with same name: c1\n",
            "Warning in <TROOT::Append>: Replacing existing TH1: h1 (Potential memory leak).\n",
            "Info in <TCanvas::Print>: png file Proton.png has been created\n"
          ]
        }
      ]
    },
    {
      "cell_type": "markdown",
      "source": [
        "####**Solution:**"
      ],
      "metadata": {
        "id": "a2HfciCQgJKm"
      }
    },
    {
      "cell_type": "markdown",
      "source": [
        "**Proton:**\n",
        "\n",
        "---\n",
        "$$\n",
        "dE/dx * 10^6> e^{(-2.5*p+2.3)}+1.4\n",
        "$$\n",
        "**Kaon:**\n",
        "\n",
        "---\n",
        "$$\n",
        "dE/dx * 10^6 > e^{(-4.9*p+2.3)}+1.45\n",
        "$$\n",
        "and\n",
        "$$\n",
        "dE/dx * 10^6 < e^{(-4.36*p+2.3)}+2.3\n",
        "$$\n",
        "**Pion:**\n",
        "\n",
        "---\n",
        "$$\n",
        "dE/dx * 10^6 > 2.25\n",
        "$$\n",
        "and $$\n",
        "dE/dx * 10^6 < 3.14\n",
        "$$\n",
        "**Electron:**\n",
        "\n",
        "---\n",
        "$$\n",
        "dE/dx * 10^6 > 1.59\n",
        "$$\n",
        "and\n",
        "$$\n",
        "dE/dx * 10^6 < 2.49\n",
        "$$"
      ],
      "metadata": {
        "id": "W04JYfFPgMv2"
      }
    },
    {
      "cell_type": "markdown",
      "source": [
        "###**Question #12:**\n",
        "---\n",
        "Finally, we will define a function to classify particles! Complete the function definition shown below to apply the cuts and identify particles based on their momentum and ionization energy loss! **Hint:** use `np.exp(a)` to calculate $e^a$."
      ],
      "metadata": {
        "id": "RfwOZzaVg6Ne"
      }
    },
    {
      "cell_type": "code",
      "source": [
        "def identify_particle(p, dEdx):\n",
        "  if #Condition for proton\n",
        "    return \"Proton\"\n",
        "  elif #Condition for kaon\n",
        "    return \"Kaon\"\n",
        "  elif #Condition for pion\n",
        "    return \"Pion\"\n",
        "  elif #Condition for electron\n",
        "    return \"Electron\"\n",
        "  else:\n",
        "    return \"No ID\""
      ],
      "metadata": {
        "id": "E0laz-nGg3NF"
      },
      "execution_count": null,
      "outputs": []
    },
    {
      "cell_type": "markdown",
      "source": [
        "#####**Solution:**"
      ],
      "metadata": {
        "id": "9xgB3nAohr0F"
      }
    },
    {
      "cell_type": "code",
      "source": [
        "def identify_particle(p, dEdx):\n",
        "  if dEdx *10**6> np.exp(-2.5*p+2.3)+1.4:\n",
        "    return \"Proton\"\n",
        "  elif dEdx *10**6> np.exp(-4.9*p+2.3)+1.45 and dEdx *10**6< np.exp(-4.36*p+2.3)+2.3:\n",
        "    return \"Kaon+\"\n",
        "  elif dEdx *10**6> 1.59 and dEdx *10**6 < 2.49:\n",
        "    return \"Pion\"\n",
        "  elif dEdx *10**6> 2.25 and dEdx *10**6< 3.14:\n",
        "    return \"Electron\"\n",
        "  else:\n",
        "    return \"No ID\""
      ],
      "metadata": {
        "id": "WB3vG4aChui5"
      },
      "execution_count": 15,
      "outputs": []
    },
    {
      "cell_type": "markdown",
      "source": [
        "###**Question #13:**\n",
        "---\n",
        "The forward drift chamber (FDC) measures the momentum of particles traveling in the positive z direction. Use the sliders below to find similar cuts for ionization energy loss in the forward drift chamber (FDC).\n",
        "\n",
        "**Note:** The equation you find in this question is rescaled by $10^{-6}$. In other words, your cuts should use $dE/dx * 10^6$."
      ],
      "metadata": {
        "id": "EUdPeAskEFs7"
      }
    },
    {
      "cell_type": "markdown",
      "source": [
        "Double click to edit this cell and answer the following question: What cuts should be made for protons, kaons, pions, and electrons in the forward drift chamber (FDC)?"
      ],
      "metadata": {
        "id": "6RXfjmqeEFtN"
      }
    },
    {
      "cell_type": "code",
      "source": [
        "# @title\n",
        "particle_to_plot = \"Electron\" # @param [\"Proton\", \"K+\", \"Pi+\", \"Electron\"]\n",
        "canvas = TCanvas(\"c1\",\"Ionization Energy Loss Plot\",700,500)\n",
        "h1 = TH2D(\"h1\",\"Ionization Energy Loss vs. Momentum for \" + particle_to_plot + \"s in the FDC;Momentum (GeV/c);Ionization Energy Loss\",200,0,5,200,0,0.00001)\n",
        "FDC['p'] = (FDC['px']**2 + FDC['py']**2 + FDC['pz']**2)**0.5\n",
        "for row in FDC.loc[(FDC['Generated As']== particle_to_plot)].iloc:\n",
        "  h1.Fill(row['p'],row['FDC dEdx'])\n",
        "h1.SetStats(0)\n",
        "h1.Draw('COLZ')\n",
        "canvas.SaveAs(particle_to_plot + \"_FDC.png\")\n",
        "fig = interactive_image(particle_to_plot + \"_FDC.png\", x_max = 5, y_max = 0.00001)\n",
        "fig.update()\n",
        "fig.display(a=(-10,0,0.01),b=(0,10,0.01), c=(0,10,0.01))"
      ],
      "metadata": {
        "colab": {
          "base_uri": "https://localhost:8080/",
          "referenced_widgets": [
            "aec1e6cd089b4addbf1bbda710ce5108",
            "bf0539c3f6324588b9c913c896e00fa9",
            "daf73fe3debf458b9b2bf5bcd3b1c009",
            "94225ebedf0042a78c5e322ff0e4c579",
            "86ef89201513484b8f56dca957017bb8",
            "f4354c6bf4434d29accde174fab3ce7a",
            "f389e26cfc2c4d768368f532d1ae137d",
            "e7f0bb82fe8248078db7419aa07b8005",
            "7718dbdc2c2c47f68818b7760f74d02d",
            "e5da220647b048248ff860fc919ea3d4",
            "7346f96567d248499e3fa685aa1c8a1c",
            "6b3e960711344cb4afc231a16c472967",
            "f4e2fc97f8aa4b68a16971f4ca5328a8",
            "4151b21563b94ab596de4b0e9f1d6abc",
            "bbe2d517ec44467db906ec1c2172cc50"
          ],
          "height": 202
        },
        "outputId": "e1e133f5-a6ee-4c69-9d9a-54de5fc097dc",
        "cellView": "form",
        "id": "7VzlnfbtEFtN"
      },
      "execution_count": 16,
      "outputs": [
        {
          "output_type": "stream",
          "name": "stdout",
          "text": [
            "This equation is rescaled by 10**-6\n"
          ]
        },
        {
          "output_type": "display_data",
          "data": {
            "text/plain": [
              "VBox(children=(HBox(children=(FloatSlider(value=0.0, description='a', max=0.0, min=-10.0, step=0.01), FloatSli…"
            ],
            "application/vnd.jupyter.widget-view+json": {
              "version_major": 2,
              "version_minor": 0,
              "model_id": "aec1e6cd089b4addbf1bbda710ce5108"
            }
          },
          "metadata": {
            "application/vnd.jupyter.widget-view+json": {
              "colab": {
                "custom_widget_manager": {
                  "url": "https://ssl.gstatic.com/colaboratory-static/widgets/colab-cdn-widget-manager/2b70e893a8ba7c0f/manager.min.js"
                }
              }
            }
          }
        },
        {
          "output_type": "stream",
          "name": "stderr",
          "text": [
            "Warning in <TCanvas::Constructor>: Deleting canvas with same name: c1\n",
            "Warning in <TROOT::Append>: Replacing existing TH1: h1 (Potential memory leak).\n",
            "Info in <TCanvas::Print>: png file Electron_FDC.png has been created\n"
          ]
        }
      ]
    },
    {
      "cell_type": "markdown",
      "source": [
        "#####**Solution:**"
      ],
      "metadata": {
        "id": "BasXd2c8EFtO"
      }
    },
    {
      "cell_type": "markdown",
      "source": [
        "**Proton:**\n",
        "\n",
        "---\n",
        "$$\n",
        "dE/dx * 10^6> e^{(-3.55*p+3.7)}+1.3\n",
        "$$\n",
        "**Kaon:**\n",
        "\n",
        "---\n",
        "$$\n",
        "dE/dx * 10^3> e^{(-4.4*p+2)}+1.3\n",
        "$$\n",
        "and\n",
        "$$\n",
        "dE/dx * 10^3< e^{(-4.4*p+2)}+2.3\n",
        "$$\n",
        "**Pion:**\n",
        "\n",
        "---\n",
        "$$\n",
        "dE/dx * 10^3> 1.45\n",
        "$$\n",
        "and $$\n",
        "dE/dx * 10^3< 2.6\n",
        "$$\n",
        "**Electron:**\n",
        "\n",
        "---\n",
        "$$\n",
        "dE/dx * 10^3> 2\n",
        "$$\n",
        "and\n",
        "$$\n",
        "dE/dx * 10^3< 3\n",
        "$$"
      ],
      "metadata": {
        "id": "bCZ8J88sEFtP"
      }
    },
    {
      "cell_type": "markdown",
      "source": [
        "###**Question #14:**\n",
        "---\n",
        "We can also measure ionization energy loss in other detectors (not just drift chambers). One such detector is the start counter, which is the first detector that most particles come in contact with. It surrounds the target of the detector, so any charged particle that is created in the target should interact with the start counter. Use the sliders below to find similar cuts for ionization energy loss in the start counter.\n",
        "\n",
        "**Note:** The equation you find in this question is rescaled by $10^{-3}$. In other words, your cuts should use $dE/dx * 10^3$."
      ],
      "metadata": {
        "id": "iXuRP6BU-oVl"
      }
    },
    {
      "cell_type": "markdown",
      "source": [
        "Double click to edit this cell and answer the following question: What cuts should be made for protons, kaons, pions, and electrons in the start counter?"
      ],
      "metadata": {
        "id": "FIfQpj-nDgI4"
      }
    },
    {
      "cell_type": "code",
      "source": [
        "# @title\n",
        "particle_to_plot = \"Electron\" # @param [\"Proton\", \"K+\", \"Pi+\", \"Electron\"]\n",
        "canvas = TCanvas(\"c1\",\"Ionization Energy Loss Plot\",700,500)\n",
        "h1 = TH2D(\"h1\",\"Ionization Energy Loss vs. Momentum for \" + particle_to_plot + \"s in the Start Counter;Momentum (GeV/c);Ionization Energy Loss\",200,0,2,200,0,0.01)\n",
        "SC['p'] = (SC['px']**2 + SC['py']**2 + SC['pz']**2)**0.5\n",
        "for row in SC.loc[(SC['Generated As']== particle_to_plot) & (SC['p'] <= 2)].iloc:\n",
        "  h1.Fill(row['p'],row['SC dEdx'])\n",
        "h1.SetStats(0)\n",
        "h1.Draw('COLZ')\n",
        "canvas.SaveAs(particle_to_plot + \"_SC.png\")\n",
        "fig = interactive_image(particle_to_plot + \"_SC.png\", x_max = 2, y_max = 0.01)\n",
        "fig.update()\n",
        "fig.display(a=(-10,0,0.01),b=(0,10,0.01), c=(0,10,0.01))"
      ],
      "metadata": {
        "colab": {
          "base_uri": "https://localhost:8080/",
          "referenced_widgets": [
            "cad9fb4b726e46c3936f9b067f80da8d",
            "efc39bed29324b1eb3853cc26c136e90",
            "4c53af0d9c6f4c8fb01da0aacdb15b7b",
            "fa050ec2316b4cd8a5b39422581ee99a",
            "0d5f9859d4074250a0687d20040bdb9a",
            "5c9880800a7244d4a4a2651da37b44b6",
            "e35a3200de864a3b9738e2050c3a8167",
            "36b1fcb0be8e45f58077f4f6d24768b6",
            "fcbff5bbab95401980a0ee1269855bc7",
            "5a23980590e043f5af86785ecf601931",
            "fdee50e6b75e49b69a1419f0c68351b4",
            "975fffeda66d4723bbcc4fe4108ea2c9",
            "131a6222d2cd492d9d4a467f9ed8354e",
            "f45a76e0331d4bc489186e9302a2088b",
            "4b52ac641351463fb395c5d268a60ae5"
          ],
          "height": 202
        },
        "outputId": "3aeafa6d-0252-457a-e653-7d3538a4e2d5",
        "cellView": "form",
        "id": "lGOWs3uJ_JFH"
      },
      "execution_count": 17,
      "outputs": [
        {
          "output_type": "stream",
          "name": "stdout",
          "text": [
            "This equation is rescaled by 10**-3\n"
          ]
        },
        {
          "output_type": "display_data",
          "data": {
            "text/plain": [
              "VBox(children=(HBox(children=(FloatSlider(value=0.0, description='a', max=0.0, min=-10.0, step=0.01), FloatSli…"
            ],
            "application/vnd.jupyter.widget-view+json": {
              "version_major": 2,
              "version_minor": 0,
              "model_id": "cad9fb4b726e46c3936f9b067f80da8d"
            }
          },
          "metadata": {
            "application/vnd.jupyter.widget-view+json": {
              "colab": {
                "custom_widget_manager": {
                  "url": "https://ssl.gstatic.com/colaboratory-static/widgets/colab-cdn-widget-manager/2b70e893a8ba7c0f/manager.min.js"
                }
              }
            }
          }
        },
        {
          "output_type": "stream",
          "name": "stderr",
          "text": [
            "Warning in <TCanvas::Constructor>: Deleting canvas with same name: c1\n",
            "Warning in <TROOT::Append>: Replacing existing TH1: h1 (Potential memory leak).\n",
            "Info in <TCanvas::Print>: png file Electron_SC.png has been created\n"
          ]
        }
      ]
    },
    {
      "cell_type": "markdown",
      "source": [
        "#####**Solution:**"
      ],
      "metadata": {
        "id": "Ic8wt40Z-oVt"
      }
    },
    {
      "cell_type": "markdown",
      "source": [
        "**Proton:**\n",
        "\n",
        "---\n",
        "$$\n",
        "dE/dx * 10^3> e^{(-4*p+3.2)}+1.6\n",
        "$$\n",
        "**Kaon:**\n",
        "\n",
        "---\n",
        "$$\n",
        "dE/dx * 10^3> e^{(-4.4*p+2.7)}+1.2\n",
        "$$\n",
        "and\n",
        "$$\n",
        "dE/dx * 10^3< e^{(-4.6*p+3.1)}+2.2\n",
        "$$\n",
        "**Pion:**\n",
        "\n",
        "---\n",
        "$$\n",
        "dE/dx * 10^3> 1.3\n",
        "$$\n",
        "and $$\n",
        "dE/dx * 10^3< 2.3\n",
        "$$\n",
        "**Electron:**\n",
        "\n",
        "---\n",
        "$$\n",
        "dE/dx * 10^3> 2.3\n",
        "$$\n",
        "and\n",
        "$$\n",
        "dE/dx * 10^3< 1.3\n",
        "$$"
      ],
      "metadata": {
        "id": "uwBt1Q9VBUuW"
      }
    },
    {
      "cell_type": "markdown",
      "source": [
        "###**Question #15:**\n",
        "---\n",
        "We can also measure ionization energy loss in a detector called the time of flight detector (more on the time of flight detector in later notebooks). Use the sliders below to find similar cuts for ionization energy loss in the time of flight detector.\n",
        "\n",
        "**Note:** The equation you find in this question is rescaled by $10^{-4}$. In other words, your cuts should use $dE/dx * 10^4$."
      ],
      "metadata": {
        "id": "MKOfhNwbDuzv"
      }
    },
    {
      "cell_type": "markdown",
      "source": [
        "Double click to edit this cell and answer the following question: What cuts should be made for protons, kaons, pions, and electrons in the time of flight detector?"
      ],
      "metadata": {
        "id": "d8Bz8SKvDu0E"
      }
    },
    {
      "cell_type": "code",
      "source": [
        "# @title\n",
        "particle_to_plot = \"Electron\" # @param [\"Proton\", \"K+\", \"Pi+\", \"Electron\"]\n",
        "canvas = TCanvas(\"c1\",\"Ionization Energy Loss Plot\",700,500)\n",
        "h1 = TH2D(\"h1\",\"Ionization Energy Loss vs. Momentum for \" + particle_to_plot + \"s in the Time of Flight Detector;Momentum (GeV/c);Ionization Energy Loss\",200,0,5,200,0,0.002)\n",
        "TOF['p'] = (TOF['px']**2 + TOF['py']**2 + TOF['pz']**2)**0.5\n",
        "for row in TOF.loc[TOF['Generated As']== particle_to_plot].iloc:\n",
        "  h1.Fill(row['p'],row['TOF dEdx'])\n",
        "h1.SetStats(0)\n",
        "h1.Draw('COLZ')\n",
        "canvas.SaveAs(particle_to_plot + \"_TOF.png\")\n",
        "fig = interactive_image(particle_to_plot + \"_TOF.png\", x_max = 5, y_max = 0.002)\n",
        "fig.update()\n",
        "fig.display(a=(-10,0,0.01),b=(0,10,0.01), c=(0,10,0.01))"
      ],
      "metadata": {
        "colab": {
          "base_uri": "https://localhost:8080/",
          "height": 202,
          "referenced_widgets": [
            "88ea9432c9694efdb018845f5d800a79",
            "0ab8631115c94c71a541de0592effdb1",
            "59b21cecd2864533b4313b801cd02039",
            "771c91dba8254f9796457e0e0022aeca",
            "dc0aa32a1e984d9b9ab18f0c0c237ca7",
            "3e576406a8d54e90a8ee2aecaf7de07f",
            "bcb6d563db964a608a3bcc8876d58039",
            "2e2be5aaa27d4c25b086b3970de8a4b5",
            "8e340bb23d5d4efdae03d411379e8726",
            "21c3698badb14fa0a9b9216e8b8df22e",
            "b53081223707453496648f82175d6d3c",
            "77bde538eee242fa92157ef8de8dae4a",
            "25b2da78185141618136c154a66db650",
            "b3cfc562dc3740f39f1ff70636234c03",
            "af14b7ed3da44052a18fd673d2a5771a"
          ]
        },
        "outputId": "1fccade2-786a-477a-c0f5-e4a33c554bb1",
        "cellView": "form",
        "id": "73sKRoOIDu0E"
      },
      "execution_count": 18,
      "outputs": [
        {
          "output_type": "stream",
          "name": "stdout",
          "text": [
            "This equation is rescaled by 10**-4\n"
          ]
        },
        {
          "output_type": "display_data",
          "data": {
            "text/plain": [
              "VBox(children=(HBox(children=(FloatSlider(value=0.0, description='a', max=0.0, min=-10.0, step=0.01), FloatSli…"
            ],
            "application/vnd.jupyter.widget-view+json": {
              "version_major": 2,
              "version_minor": 0,
              "model_id": "88ea9432c9694efdb018845f5d800a79"
            }
          },
          "metadata": {
            "application/vnd.jupyter.widget-view+json": {
              "colab": {
                "custom_widget_manager": {
                  "url": "https://ssl.gstatic.com/colaboratory-static/widgets/colab-cdn-widget-manager/2b70e893a8ba7c0f/manager.min.js"
                }
              }
            }
          }
        },
        {
          "output_type": "stream",
          "name": "stderr",
          "text": [
            "Warning in <TCanvas::Constructor>: Deleting canvas with same name: c1\n",
            "Warning in <TROOT::Append>: Replacing existing TH1: h1 (Potential memory leak).\n",
            "Info in <TCanvas::Print>: png file Electron_TOF.png has been created\n"
          ]
        }
      ]
    },
    {
      "cell_type": "markdown",
      "source": [
        "#####**Solution:**"
      ],
      "metadata": {
        "id": "Rj47c_0lDu0F"
      }
    },
    {
      "cell_type": "markdown",
      "source": [
        "**Proton:**\n",
        "\n",
        "---\n",
        "$$\n",
        "dE/dx * 10^4> e^{(-2.2*p+3.9)}+8.2\n",
        "$$\n",
        "**Kaon:**\n",
        "\n",
        "---\n",
        "$$\n",
        "dE/dx * 10^4> e^{(-0.4*p+0.8)}+7.6\n",
        "$$\n",
        "and\n",
        "$$\n",
        "dE/dx * 10^4< e^{(-0.4*p+1.4)}+10\n",
        "$$\n",
        "**Pion:**\n",
        "\n",
        "---\n",
        "$$\n",
        "dE/dx * 10^4> 8.6\n",
        "$$\n",
        "and $$\n",
        "dE/dx * 10^4< 11\n",
        "$$\n",
        "**Electron:**\n",
        "\n",
        "---\n",
        "$$\n",
        "dE/dx * 10^4> 8.1\n",
        "$$\n",
        "and\n",
        "$$\n",
        "dE/dx * 10^4< 11\n",
        "$$"
      ],
      "metadata": {
        "id": "HZhMV4DXDu0F"
      }
    }
  ],
  "metadata": {
    "colab": {
      "provenance": [],
      "collapsed_sections": [
        "P8LND11iytC4",
        "9OtWNbTI0IZ9",
        "8Rsd4Wz92n7E",
        "1PevtlvX2n7O",
        "lmVVVNVU6Dhc",
        "P0SDjuBL6Dhl",
        "R3m9Ae9duK3I",
        "se5XcP_sw-ht",
        "TQzi-iOZ8kpz",
        "XndUDkOv-I81",
        "tHpBTRZq-eFj",
        "ikGDulIt_FAx",
        "nUpWJeV4AThJ",
        "PP8_4LS0CsxT",
        "HkFauHXDC38e",
        "l3tYE9KiEnlT",
        "1Hjh-q7kxKMz",
        "tR9c8yBWz_ZH",
        "6QbMFVDoQCk-",
        "Iuux1yTrUZRN",
        "Dbz0hDlGaZ1M",
        "a2HfciCQgJKm",
        "RfwOZzaVg6Ne",
        "9xgB3nAohr0F",
        "EUdPeAskEFs7",
        "BasXd2c8EFtO",
        "iXuRP6BU-oVl",
        "Ic8wt40Z-oVt",
        "MKOfhNwbDuzv",
        "Rj47c_0lDu0F"
      ],
      "include_colab_link": true
    },
    "kernelspec": {
      "display_name": "Python 3",
      "name": "python3"
    },
    "language_info": {
      "name": "python"
    },
    "widgets": {
      "application/vnd.jupyter.widget-state+json": {
        "abc49950d444466d8f36b476cdc54e44": {
          "model_module": "@jupyter-widgets/controls",
          "model_name": "VBoxModel",
          "model_module_version": "1.5.0",
          "state": {
            "_dom_classes": [],
            "_model_module": "@jupyter-widgets/controls",
            "_model_module_version": "1.5.0",
            "_model_name": "VBoxModel",
            "_view_count": null,
            "_view_module": "@jupyter-widgets/controls",
            "_view_module_version": "1.5.0",
            "_view_name": "VBoxView",
            "box_style": "",
            "children": [
              "IPY_MODEL_4e48180474dc4c5e9fdbbabdf8538d21",
              "IPY_MODEL_6917c6bfd1fb4f108dfd88e3fef49d24"
            ],
            "layout": "IPY_MODEL_4e0bbc4692944fa097aff38752dafea2"
          }
        },
        "4e48180474dc4c5e9fdbbabdf8538d21": {
          "model_module": "@jupyter-widgets/controls",
          "model_name": "HBoxModel",
          "model_module_version": "1.5.0",
          "state": {
            "_dom_classes": [],
            "_model_module": "@jupyter-widgets/controls",
            "_model_module_version": "1.5.0",
            "_model_name": "HBoxModel",
            "_view_count": null,
            "_view_module": "@jupyter-widgets/controls",
            "_view_module_version": "1.5.0",
            "_view_name": "HBoxView",
            "box_style": "",
            "children": [
              "IPY_MODEL_d0e6dfea88264ccf95e13f4de7da95f9",
              "IPY_MODEL_a65d6866f3e24279833a2a1ccd889d8c",
              "IPY_MODEL_ee753eab86ce47d19e1cd661c94f355b"
            ],
            "layout": "IPY_MODEL_49dddc96b27249f4b16fa2ca4beb193f"
          }
        },
        "6917c6bfd1fb4f108dfd88e3fef49d24": {
          "model_module": "@jupyter-widgets/output",
          "model_name": "OutputModel",
          "model_module_version": "1.0.0",
          "state": {
            "_dom_classes": [],
            "_model_module": "@jupyter-widgets/output",
            "_model_module_version": "1.0.0",
            "_model_name": "OutputModel",
            "_view_count": null,
            "_view_module": "@jupyter-widgets/output",
            "_view_module_version": "1.0.0",
            "_view_name": "OutputView",
            "layout": "IPY_MODEL_41fac87ea88240da88c7c928aee540f2",
            "msg_id": "",
            "outputs": []
          }
        },
        "4e0bbc4692944fa097aff38752dafea2": {
          "model_module": "@jupyter-widgets/base",
          "model_name": "LayoutModel",
          "model_module_version": "1.2.0",
          "state": {
            "_model_module": "@jupyter-widgets/base",
            "_model_module_version": "1.2.0",
            "_model_name": "LayoutModel",
            "_view_count": null,
            "_view_module": "@jupyter-widgets/base",
            "_view_module_version": "1.2.0",
            "_view_name": "LayoutView",
            "align_content": null,
            "align_items": null,
            "align_self": null,
            "border": null,
            "bottom": null,
            "display": null,
            "flex": null,
            "flex_flow": null,
            "grid_area": null,
            "grid_auto_columns": null,
            "grid_auto_flow": null,
            "grid_auto_rows": null,
            "grid_column": null,
            "grid_gap": null,
            "grid_row": null,
            "grid_template_areas": null,
            "grid_template_columns": null,
            "grid_template_rows": null,
            "height": null,
            "justify_content": null,
            "justify_items": null,
            "left": null,
            "margin": null,
            "max_height": null,
            "max_width": null,
            "min_height": null,
            "min_width": null,
            "object_fit": null,
            "object_position": null,
            "order": null,
            "overflow": null,
            "overflow_x": null,
            "overflow_y": null,
            "padding": null,
            "right": null,
            "top": null,
            "visibility": null,
            "width": null
          }
        },
        "d0e6dfea88264ccf95e13f4de7da95f9": {
          "model_module": "@jupyter-widgets/controls",
          "model_name": "FloatSliderModel",
          "model_module_version": "1.5.0",
          "state": {
            "_dom_classes": [],
            "_model_module": "@jupyter-widgets/controls",
            "_model_module_version": "1.5.0",
            "_model_name": "FloatSliderModel",
            "_view_count": null,
            "_view_module": "@jupyter-widgets/controls",
            "_view_module_version": "1.5.0",
            "_view_name": "FloatSliderView",
            "continuous_update": true,
            "description": "a",
            "description_tooltip": null,
            "disabled": false,
            "layout": "IPY_MODEL_28c6eec2b0eb414da7c44dabdb8e58e0",
            "max": 0,
            "min": -10,
            "orientation": "horizontal",
            "readout": true,
            "readout_format": ".2f",
            "step": 0.01,
            "style": "IPY_MODEL_3b486b46b9864c5abedcf35f0dcc281d",
            "value": 0
          }
        },
        "a65d6866f3e24279833a2a1ccd889d8c": {
          "model_module": "@jupyter-widgets/controls",
          "model_name": "FloatSliderModel",
          "model_module_version": "1.5.0",
          "state": {
            "_dom_classes": [],
            "_model_module": "@jupyter-widgets/controls",
            "_model_module_version": "1.5.0",
            "_model_name": "FloatSliderModel",
            "_view_count": null,
            "_view_module": "@jupyter-widgets/controls",
            "_view_module_version": "1.5.0",
            "_view_name": "FloatSliderView",
            "continuous_update": true,
            "description": "b",
            "description_tooltip": null,
            "disabled": false,
            "layout": "IPY_MODEL_2c6b14d585464b28aca89592e704b0bb",
            "max": 10,
            "min": 0,
            "orientation": "horizontal",
            "readout": true,
            "readout_format": ".2f",
            "step": 0.01,
            "style": "IPY_MODEL_928d3d678b2c4a3591bbd553c47acc54",
            "value": 1
          }
        },
        "ee753eab86ce47d19e1cd661c94f355b": {
          "model_module": "@jupyter-widgets/controls",
          "model_name": "FloatSliderModel",
          "model_module_version": "1.5.0",
          "state": {
            "_dom_classes": [],
            "_model_module": "@jupyter-widgets/controls",
            "_model_module_version": "1.5.0",
            "_model_name": "FloatSliderModel",
            "_view_count": null,
            "_view_module": "@jupyter-widgets/controls",
            "_view_module_version": "1.5.0",
            "_view_name": "FloatSliderView",
            "continuous_update": true,
            "description": "c",
            "description_tooltip": null,
            "disabled": false,
            "layout": "IPY_MODEL_965620f3ebd043b58565b8e97502c3b4",
            "max": 10,
            "min": 0,
            "orientation": "horizontal",
            "readout": true,
            "readout_format": ".2f",
            "step": 0.01,
            "style": "IPY_MODEL_a182aeef66c04fbba40ff04190b38cf7",
            "value": 1
          }
        },
        "49dddc96b27249f4b16fa2ca4beb193f": {
          "model_module": "@jupyter-widgets/base",
          "model_name": "LayoutModel",
          "model_module_version": "1.2.0",
          "state": {
            "_model_module": "@jupyter-widgets/base",
            "_model_module_version": "1.2.0",
            "_model_name": "LayoutModel",
            "_view_count": null,
            "_view_module": "@jupyter-widgets/base",
            "_view_module_version": "1.2.0",
            "_view_name": "LayoutView",
            "align_content": null,
            "align_items": null,
            "align_self": null,
            "border": null,
            "bottom": null,
            "display": null,
            "flex": null,
            "flex_flow": "row wrap",
            "grid_area": null,
            "grid_auto_columns": null,
            "grid_auto_flow": null,
            "grid_auto_rows": null,
            "grid_column": null,
            "grid_gap": null,
            "grid_row": null,
            "grid_template_areas": null,
            "grid_template_columns": null,
            "grid_template_rows": null,
            "height": null,
            "justify_content": null,
            "justify_items": null,
            "left": null,
            "margin": null,
            "max_height": null,
            "max_width": null,
            "min_height": null,
            "min_width": null,
            "object_fit": null,
            "object_position": null,
            "order": null,
            "overflow": null,
            "overflow_x": null,
            "overflow_y": null,
            "padding": null,
            "right": null,
            "top": null,
            "visibility": null,
            "width": null
          }
        },
        "41fac87ea88240da88c7c928aee540f2": {
          "model_module": "@jupyter-widgets/base",
          "model_name": "LayoutModel",
          "model_module_version": "1.2.0",
          "state": {
            "_model_module": "@jupyter-widgets/base",
            "_model_module_version": "1.2.0",
            "_model_name": "LayoutModel",
            "_view_count": null,
            "_view_module": "@jupyter-widgets/base",
            "_view_module_version": "1.2.0",
            "_view_name": "LayoutView",
            "align_content": null,
            "align_items": null,
            "align_self": null,
            "border": null,
            "bottom": null,
            "display": null,
            "flex": null,
            "flex_flow": null,
            "grid_area": null,
            "grid_auto_columns": null,
            "grid_auto_flow": null,
            "grid_auto_rows": null,
            "grid_column": null,
            "grid_gap": null,
            "grid_row": null,
            "grid_template_areas": null,
            "grid_template_columns": null,
            "grid_template_rows": null,
            "height": null,
            "justify_content": null,
            "justify_items": null,
            "left": null,
            "margin": null,
            "max_height": null,
            "max_width": null,
            "min_height": null,
            "min_width": null,
            "object_fit": null,
            "object_position": null,
            "order": null,
            "overflow": null,
            "overflow_x": null,
            "overflow_y": null,
            "padding": null,
            "right": null,
            "top": null,
            "visibility": null,
            "width": null
          }
        },
        "28c6eec2b0eb414da7c44dabdb8e58e0": {
          "model_module": "@jupyter-widgets/base",
          "model_name": "LayoutModel",
          "model_module_version": "1.2.0",
          "state": {
            "_model_module": "@jupyter-widgets/base",
            "_model_module_version": "1.2.0",
            "_model_name": "LayoutModel",
            "_view_count": null,
            "_view_module": "@jupyter-widgets/base",
            "_view_module_version": "1.2.0",
            "_view_name": "LayoutView",
            "align_content": null,
            "align_items": null,
            "align_self": null,
            "border": null,
            "bottom": null,
            "display": null,
            "flex": null,
            "flex_flow": null,
            "grid_area": null,
            "grid_auto_columns": null,
            "grid_auto_flow": null,
            "grid_auto_rows": null,
            "grid_column": null,
            "grid_gap": null,
            "grid_row": null,
            "grid_template_areas": null,
            "grid_template_columns": null,
            "grid_template_rows": null,
            "height": null,
            "justify_content": null,
            "justify_items": null,
            "left": null,
            "margin": null,
            "max_height": null,
            "max_width": null,
            "min_height": null,
            "min_width": null,
            "object_fit": null,
            "object_position": null,
            "order": null,
            "overflow": null,
            "overflow_x": null,
            "overflow_y": null,
            "padding": null,
            "right": null,
            "top": null,
            "visibility": null,
            "width": null
          }
        },
        "3b486b46b9864c5abedcf35f0dcc281d": {
          "model_module": "@jupyter-widgets/controls",
          "model_name": "SliderStyleModel",
          "model_module_version": "1.5.0",
          "state": {
            "_model_module": "@jupyter-widgets/controls",
            "_model_module_version": "1.5.0",
            "_model_name": "SliderStyleModel",
            "_view_count": null,
            "_view_module": "@jupyter-widgets/base",
            "_view_module_version": "1.2.0",
            "_view_name": "StyleView",
            "description_width": "",
            "handle_color": null
          }
        },
        "2c6b14d585464b28aca89592e704b0bb": {
          "model_module": "@jupyter-widgets/base",
          "model_name": "LayoutModel",
          "model_module_version": "1.2.0",
          "state": {
            "_model_module": "@jupyter-widgets/base",
            "_model_module_version": "1.2.0",
            "_model_name": "LayoutModel",
            "_view_count": null,
            "_view_module": "@jupyter-widgets/base",
            "_view_module_version": "1.2.0",
            "_view_name": "LayoutView",
            "align_content": null,
            "align_items": null,
            "align_self": null,
            "border": null,
            "bottom": null,
            "display": null,
            "flex": null,
            "flex_flow": null,
            "grid_area": null,
            "grid_auto_columns": null,
            "grid_auto_flow": null,
            "grid_auto_rows": null,
            "grid_column": null,
            "grid_gap": null,
            "grid_row": null,
            "grid_template_areas": null,
            "grid_template_columns": null,
            "grid_template_rows": null,
            "height": null,
            "justify_content": null,
            "justify_items": null,
            "left": null,
            "margin": null,
            "max_height": null,
            "max_width": null,
            "min_height": null,
            "min_width": null,
            "object_fit": null,
            "object_position": null,
            "order": null,
            "overflow": null,
            "overflow_x": null,
            "overflow_y": null,
            "padding": null,
            "right": null,
            "top": null,
            "visibility": null,
            "width": null
          }
        },
        "928d3d678b2c4a3591bbd553c47acc54": {
          "model_module": "@jupyter-widgets/controls",
          "model_name": "SliderStyleModel",
          "model_module_version": "1.5.0",
          "state": {
            "_model_module": "@jupyter-widgets/controls",
            "_model_module_version": "1.5.0",
            "_model_name": "SliderStyleModel",
            "_view_count": null,
            "_view_module": "@jupyter-widgets/base",
            "_view_module_version": "1.2.0",
            "_view_name": "StyleView",
            "description_width": "",
            "handle_color": null
          }
        },
        "965620f3ebd043b58565b8e97502c3b4": {
          "model_module": "@jupyter-widgets/base",
          "model_name": "LayoutModel",
          "model_module_version": "1.2.0",
          "state": {
            "_model_module": "@jupyter-widgets/base",
            "_model_module_version": "1.2.0",
            "_model_name": "LayoutModel",
            "_view_count": null,
            "_view_module": "@jupyter-widgets/base",
            "_view_module_version": "1.2.0",
            "_view_name": "LayoutView",
            "align_content": null,
            "align_items": null,
            "align_self": null,
            "border": null,
            "bottom": null,
            "display": null,
            "flex": null,
            "flex_flow": null,
            "grid_area": null,
            "grid_auto_columns": null,
            "grid_auto_flow": null,
            "grid_auto_rows": null,
            "grid_column": null,
            "grid_gap": null,
            "grid_row": null,
            "grid_template_areas": null,
            "grid_template_columns": null,
            "grid_template_rows": null,
            "height": null,
            "justify_content": null,
            "justify_items": null,
            "left": null,
            "margin": null,
            "max_height": null,
            "max_width": null,
            "min_height": null,
            "min_width": null,
            "object_fit": null,
            "object_position": null,
            "order": null,
            "overflow": null,
            "overflow_x": null,
            "overflow_y": null,
            "padding": null,
            "right": null,
            "top": null,
            "visibility": null,
            "width": null
          }
        },
        "a182aeef66c04fbba40ff04190b38cf7": {
          "model_module": "@jupyter-widgets/controls",
          "model_name": "SliderStyleModel",
          "model_module_version": "1.5.0",
          "state": {
            "_model_module": "@jupyter-widgets/controls",
            "_model_module_version": "1.5.0",
            "_model_name": "SliderStyleModel",
            "_view_count": null,
            "_view_module": "@jupyter-widgets/base",
            "_view_module_version": "1.2.0",
            "_view_name": "StyleView",
            "description_width": "",
            "handle_color": null
          }
        },
        "1a1535cc665c4cca9122b47c44f4db21": {
          "model_module": "@jupyter-widgets/controls",
          "model_name": "VBoxModel",
          "model_module_version": "1.5.0",
          "state": {
            "_dom_classes": [],
            "_model_module": "@jupyter-widgets/controls",
            "_model_module_version": "1.5.0",
            "_model_name": "VBoxModel",
            "_view_count": null,
            "_view_module": "@jupyter-widgets/controls",
            "_view_module_version": "1.5.0",
            "_view_name": "VBoxView",
            "box_style": "",
            "children": [
              "IPY_MODEL_42ddb659167e4309a30b5585c40adb3e",
              "IPY_MODEL_87c52fc2ee7249469e478985cc55a5e8"
            ],
            "layout": "IPY_MODEL_4771334dce044c759e216468daea68eb"
          }
        },
        "42ddb659167e4309a30b5585c40adb3e": {
          "model_module": "@jupyter-widgets/controls",
          "model_name": "HBoxModel",
          "model_module_version": "1.5.0",
          "state": {
            "_dom_classes": [],
            "_model_module": "@jupyter-widgets/controls",
            "_model_module_version": "1.5.0",
            "_model_name": "HBoxModel",
            "_view_count": null,
            "_view_module": "@jupyter-widgets/controls",
            "_view_module_version": "1.5.0",
            "_view_name": "HBoxView",
            "box_style": "",
            "children": [
              "IPY_MODEL_1cb58059567e468bb9b2548c8f67f9a7",
              "IPY_MODEL_9598ef91ccd34b6bbb6fee3d05dce191",
              "IPY_MODEL_54052b9a62cb4f11977435875d37de4f"
            ],
            "layout": "IPY_MODEL_dd3c38f7023741d3aa1ddd0f9efaa7d5"
          }
        },
        "87c52fc2ee7249469e478985cc55a5e8": {
          "model_module": "@jupyter-widgets/output",
          "model_name": "OutputModel",
          "model_module_version": "1.0.0",
          "state": {
            "_dom_classes": [],
            "_model_module": "@jupyter-widgets/output",
            "_model_module_version": "1.0.0",
            "_model_name": "OutputModel",
            "_view_count": null,
            "_view_module": "@jupyter-widgets/output",
            "_view_module_version": "1.0.0",
            "_view_name": "OutputView",
            "layout": "IPY_MODEL_7d89b9a88302462db69b173d67c56999",
            "msg_id": "",
            "outputs": []
          }
        },
        "4771334dce044c759e216468daea68eb": {
          "model_module": "@jupyter-widgets/base",
          "model_name": "LayoutModel",
          "model_module_version": "1.2.0",
          "state": {
            "_model_module": "@jupyter-widgets/base",
            "_model_module_version": "1.2.0",
            "_model_name": "LayoutModel",
            "_view_count": null,
            "_view_module": "@jupyter-widgets/base",
            "_view_module_version": "1.2.0",
            "_view_name": "LayoutView",
            "align_content": null,
            "align_items": null,
            "align_self": null,
            "border": null,
            "bottom": null,
            "display": null,
            "flex": null,
            "flex_flow": null,
            "grid_area": null,
            "grid_auto_columns": null,
            "grid_auto_flow": null,
            "grid_auto_rows": null,
            "grid_column": null,
            "grid_gap": null,
            "grid_row": null,
            "grid_template_areas": null,
            "grid_template_columns": null,
            "grid_template_rows": null,
            "height": null,
            "justify_content": null,
            "justify_items": null,
            "left": null,
            "margin": null,
            "max_height": null,
            "max_width": null,
            "min_height": null,
            "min_width": null,
            "object_fit": null,
            "object_position": null,
            "order": null,
            "overflow": null,
            "overflow_x": null,
            "overflow_y": null,
            "padding": null,
            "right": null,
            "top": null,
            "visibility": null,
            "width": null
          }
        },
        "1cb58059567e468bb9b2548c8f67f9a7": {
          "model_module": "@jupyter-widgets/controls",
          "model_name": "FloatSliderModel",
          "model_module_version": "1.5.0",
          "state": {
            "_dom_classes": [],
            "_model_module": "@jupyter-widgets/controls",
            "_model_module_version": "1.5.0",
            "_model_name": "FloatSliderModel",
            "_view_count": null,
            "_view_module": "@jupyter-widgets/controls",
            "_view_module_version": "1.5.0",
            "_view_name": "FloatSliderView",
            "continuous_update": true,
            "description": "a",
            "description_tooltip": null,
            "disabled": false,
            "layout": "IPY_MODEL_02a6d1e6274b44858d4942f487183aa1",
            "max": 0,
            "min": -10,
            "orientation": "horizontal",
            "readout": true,
            "readout_format": ".2f",
            "step": 0.01,
            "style": "IPY_MODEL_57a819e2e2dc4d298fa1cf035efa107a",
            "value": 0
          }
        },
        "9598ef91ccd34b6bbb6fee3d05dce191": {
          "model_module": "@jupyter-widgets/controls",
          "model_name": "FloatSliderModel",
          "model_module_version": "1.5.0",
          "state": {
            "_dom_classes": [],
            "_model_module": "@jupyter-widgets/controls",
            "_model_module_version": "1.5.0",
            "_model_name": "FloatSliderModel",
            "_view_count": null,
            "_view_module": "@jupyter-widgets/controls",
            "_view_module_version": "1.5.0",
            "_view_name": "FloatSliderView",
            "continuous_update": true,
            "description": "b",
            "description_tooltip": null,
            "disabled": false,
            "layout": "IPY_MODEL_866a3ef38b8146daa534d2a650f73f73",
            "max": 10,
            "min": 0,
            "orientation": "horizontal",
            "readout": true,
            "readout_format": ".2f",
            "step": 0.01,
            "style": "IPY_MODEL_5411b8ec5ab746559e57191dba689b0e",
            "value": 1
          }
        },
        "54052b9a62cb4f11977435875d37de4f": {
          "model_module": "@jupyter-widgets/controls",
          "model_name": "FloatSliderModel",
          "model_module_version": "1.5.0",
          "state": {
            "_dom_classes": [],
            "_model_module": "@jupyter-widgets/controls",
            "_model_module_version": "1.5.0",
            "_model_name": "FloatSliderModel",
            "_view_count": null,
            "_view_module": "@jupyter-widgets/controls",
            "_view_module_version": "1.5.0",
            "_view_name": "FloatSliderView",
            "continuous_update": true,
            "description": "c",
            "description_tooltip": null,
            "disabled": false,
            "layout": "IPY_MODEL_88160a4d01274cdc940671cc5b142f37",
            "max": 10,
            "min": 0,
            "orientation": "horizontal",
            "readout": true,
            "readout_format": ".2f",
            "step": 0.01,
            "style": "IPY_MODEL_6a8a2afbd2954eba8114cd776d0c9592",
            "value": 1
          }
        },
        "dd3c38f7023741d3aa1ddd0f9efaa7d5": {
          "model_module": "@jupyter-widgets/base",
          "model_name": "LayoutModel",
          "model_module_version": "1.2.0",
          "state": {
            "_model_module": "@jupyter-widgets/base",
            "_model_module_version": "1.2.0",
            "_model_name": "LayoutModel",
            "_view_count": null,
            "_view_module": "@jupyter-widgets/base",
            "_view_module_version": "1.2.0",
            "_view_name": "LayoutView",
            "align_content": null,
            "align_items": null,
            "align_self": null,
            "border": null,
            "bottom": null,
            "display": null,
            "flex": null,
            "flex_flow": "row wrap",
            "grid_area": null,
            "grid_auto_columns": null,
            "grid_auto_flow": null,
            "grid_auto_rows": null,
            "grid_column": null,
            "grid_gap": null,
            "grid_row": null,
            "grid_template_areas": null,
            "grid_template_columns": null,
            "grid_template_rows": null,
            "height": null,
            "justify_content": null,
            "justify_items": null,
            "left": null,
            "margin": null,
            "max_height": null,
            "max_width": null,
            "min_height": null,
            "min_width": null,
            "object_fit": null,
            "object_position": null,
            "order": null,
            "overflow": null,
            "overflow_x": null,
            "overflow_y": null,
            "padding": null,
            "right": null,
            "top": null,
            "visibility": null,
            "width": null
          }
        },
        "7d89b9a88302462db69b173d67c56999": {
          "model_module": "@jupyter-widgets/base",
          "model_name": "LayoutModel",
          "model_module_version": "1.2.0",
          "state": {
            "_model_module": "@jupyter-widgets/base",
            "_model_module_version": "1.2.0",
            "_model_name": "LayoutModel",
            "_view_count": null,
            "_view_module": "@jupyter-widgets/base",
            "_view_module_version": "1.2.0",
            "_view_name": "LayoutView",
            "align_content": null,
            "align_items": null,
            "align_self": null,
            "border": null,
            "bottom": null,
            "display": null,
            "flex": null,
            "flex_flow": null,
            "grid_area": null,
            "grid_auto_columns": null,
            "grid_auto_flow": null,
            "grid_auto_rows": null,
            "grid_column": null,
            "grid_gap": null,
            "grid_row": null,
            "grid_template_areas": null,
            "grid_template_columns": null,
            "grid_template_rows": null,
            "height": null,
            "justify_content": null,
            "justify_items": null,
            "left": null,
            "margin": null,
            "max_height": null,
            "max_width": null,
            "min_height": null,
            "min_width": null,
            "object_fit": null,
            "object_position": null,
            "order": null,
            "overflow": null,
            "overflow_x": null,
            "overflow_y": null,
            "padding": null,
            "right": null,
            "top": null,
            "visibility": null,
            "width": null
          }
        },
        "02a6d1e6274b44858d4942f487183aa1": {
          "model_module": "@jupyter-widgets/base",
          "model_name": "LayoutModel",
          "model_module_version": "1.2.0",
          "state": {
            "_model_module": "@jupyter-widgets/base",
            "_model_module_version": "1.2.0",
            "_model_name": "LayoutModel",
            "_view_count": null,
            "_view_module": "@jupyter-widgets/base",
            "_view_module_version": "1.2.0",
            "_view_name": "LayoutView",
            "align_content": null,
            "align_items": null,
            "align_self": null,
            "border": null,
            "bottom": null,
            "display": null,
            "flex": null,
            "flex_flow": null,
            "grid_area": null,
            "grid_auto_columns": null,
            "grid_auto_flow": null,
            "grid_auto_rows": null,
            "grid_column": null,
            "grid_gap": null,
            "grid_row": null,
            "grid_template_areas": null,
            "grid_template_columns": null,
            "grid_template_rows": null,
            "height": null,
            "justify_content": null,
            "justify_items": null,
            "left": null,
            "margin": null,
            "max_height": null,
            "max_width": null,
            "min_height": null,
            "min_width": null,
            "object_fit": null,
            "object_position": null,
            "order": null,
            "overflow": null,
            "overflow_x": null,
            "overflow_y": null,
            "padding": null,
            "right": null,
            "top": null,
            "visibility": null,
            "width": null
          }
        },
        "57a819e2e2dc4d298fa1cf035efa107a": {
          "model_module": "@jupyter-widgets/controls",
          "model_name": "SliderStyleModel",
          "model_module_version": "1.5.0",
          "state": {
            "_model_module": "@jupyter-widgets/controls",
            "_model_module_version": "1.5.0",
            "_model_name": "SliderStyleModel",
            "_view_count": null,
            "_view_module": "@jupyter-widgets/base",
            "_view_module_version": "1.2.0",
            "_view_name": "StyleView",
            "description_width": "",
            "handle_color": null
          }
        },
        "866a3ef38b8146daa534d2a650f73f73": {
          "model_module": "@jupyter-widgets/base",
          "model_name": "LayoutModel",
          "model_module_version": "1.2.0",
          "state": {
            "_model_module": "@jupyter-widgets/base",
            "_model_module_version": "1.2.0",
            "_model_name": "LayoutModel",
            "_view_count": null,
            "_view_module": "@jupyter-widgets/base",
            "_view_module_version": "1.2.0",
            "_view_name": "LayoutView",
            "align_content": null,
            "align_items": null,
            "align_self": null,
            "border": null,
            "bottom": null,
            "display": null,
            "flex": null,
            "flex_flow": null,
            "grid_area": null,
            "grid_auto_columns": null,
            "grid_auto_flow": null,
            "grid_auto_rows": null,
            "grid_column": null,
            "grid_gap": null,
            "grid_row": null,
            "grid_template_areas": null,
            "grid_template_columns": null,
            "grid_template_rows": null,
            "height": null,
            "justify_content": null,
            "justify_items": null,
            "left": null,
            "margin": null,
            "max_height": null,
            "max_width": null,
            "min_height": null,
            "min_width": null,
            "object_fit": null,
            "object_position": null,
            "order": null,
            "overflow": null,
            "overflow_x": null,
            "overflow_y": null,
            "padding": null,
            "right": null,
            "top": null,
            "visibility": null,
            "width": null
          }
        },
        "5411b8ec5ab746559e57191dba689b0e": {
          "model_module": "@jupyter-widgets/controls",
          "model_name": "SliderStyleModel",
          "model_module_version": "1.5.0",
          "state": {
            "_model_module": "@jupyter-widgets/controls",
            "_model_module_version": "1.5.0",
            "_model_name": "SliderStyleModel",
            "_view_count": null,
            "_view_module": "@jupyter-widgets/base",
            "_view_module_version": "1.2.0",
            "_view_name": "StyleView",
            "description_width": "",
            "handle_color": null
          }
        },
        "88160a4d01274cdc940671cc5b142f37": {
          "model_module": "@jupyter-widgets/base",
          "model_name": "LayoutModel",
          "model_module_version": "1.2.0",
          "state": {
            "_model_module": "@jupyter-widgets/base",
            "_model_module_version": "1.2.0",
            "_model_name": "LayoutModel",
            "_view_count": null,
            "_view_module": "@jupyter-widgets/base",
            "_view_module_version": "1.2.0",
            "_view_name": "LayoutView",
            "align_content": null,
            "align_items": null,
            "align_self": null,
            "border": null,
            "bottom": null,
            "display": null,
            "flex": null,
            "flex_flow": null,
            "grid_area": null,
            "grid_auto_columns": null,
            "grid_auto_flow": null,
            "grid_auto_rows": null,
            "grid_column": null,
            "grid_gap": null,
            "grid_row": null,
            "grid_template_areas": null,
            "grid_template_columns": null,
            "grid_template_rows": null,
            "height": null,
            "justify_content": null,
            "justify_items": null,
            "left": null,
            "margin": null,
            "max_height": null,
            "max_width": null,
            "min_height": null,
            "min_width": null,
            "object_fit": null,
            "object_position": null,
            "order": null,
            "overflow": null,
            "overflow_x": null,
            "overflow_y": null,
            "padding": null,
            "right": null,
            "top": null,
            "visibility": null,
            "width": null
          }
        },
        "6a8a2afbd2954eba8114cd776d0c9592": {
          "model_module": "@jupyter-widgets/controls",
          "model_name": "SliderStyleModel",
          "model_module_version": "1.5.0",
          "state": {
            "_model_module": "@jupyter-widgets/controls",
            "_model_module_version": "1.5.0",
            "_model_name": "SliderStyleModel",
            "_view_count": null,
            "_view_module": "@jupyter-widgets/base",
            "_view_module_version": "1.2.0",
            "_view_name": "StyleView",
            "description_width": "",
            "handle_color": null
          }
        },
        "629eaef893d84900b33eca15434c49f5": {
          "model_module": "@jupyter-widgets/controls",
          "model_name": "VBoxModel",
          "model_module_version": "1.5.0",
          "state": {
            "_dom_classes": [],
            "_model_module": "@jupyter-widgets/controls",
            "_model_module_version": "1.5.0",
            "_model_name": "VBoxModel",
            "_view_count": null,
            "_view_module": "@jupyter-widgets/controls",
            "_view_module_version": "1.5.0",
            "_view_name": "VBoxView",
            "box_style": "",
            "children": [
              "IPY_MODEL_f0482d79a3a042c2a85530134228c8db",
              "IPY_MODEL_de087dc4f13a4366818940b29415706a"
            ],
            "layout": "IPY_MODEL_5026c6a5eae1410182876271c9b5e390"
          }
        },
        "f0482d79a3a042c2a85530134228c8db": {
          "model_module": "@jupyter-widgets/controls",
          "model_name": "HBoxModel",
          "model_module_version": "1.5.0",
          "state": {
            "_dom_classes": [],
            "_model_module": "@jupyter-widgets/controls",
            "_model_module_version": "1.5.0",
            "_model_name": "HBoxModel",
            "_view_count": null,
            "_view_module": "@jupyter-widgets/controls",
            "_view_module_version": "1.5.0",
            "_view_name": "HBoxView",
            "box_style": "",
            "children": [
              "IPY_MODEL_7e1cf194da624cb2aee154d6089d8198",
              "IPY_MODEL_1d74a537015a4a97be7efded2f0bef91",
              "IPY_MODEL_5ca5d26695fd4dd1aa68d6f3e2beb31e"
            ],
            "layout": "IPY_MODEL_60a2d595d0a7460eac46a999acfcb620"
          }
        },
        "de087dc4f13a4366818940b29415706a": {
          "model_module": "@jupyter-widgets/output",
          "model_name": "OutputModel",
          "model_module_version": "1.0.0",
          "state": {
            "_dom_classes": [],
            "_model_module": "@jupyter-widgets/output",
            "_model_module_version": "1.0.0",
            "_model_name": "OutputModel",
            "_view_count": null,
            "_view_module": "@jupyter-widgets/output",
            "_view_module_version": "1.0.0",
            "_view_name": "OutputView",
            "layout": "IPY_MODEL_7945ccb75a1a4ac9bacddc41afe3150d",
            "msg_id": "",
            "outputs": []
          }
        },
        "5026c6a5eae1410182876271c9b5e390": {
          "model_module": "@jupyter-widgets/base",
          "model_name": "LayoutModel",
          "model_module_version": "1.2.0",
          "state": {
            "_model_module": "@jupyter-widgets/base",
            "_model_module_version": "1.2.0",
            "_model_name": "LayoutModel",
            "_view_count": null,
            "_view_module": "@jupyter-widgets/base",
            "_view_module_version": "1.2.0",
            "_view_name": "LayoutView",
            "align_content": null,
            "align_items": null,
            "align_self": null,
            "border": null,
            "bottom": null,
            "display": null,
            "flex": null,
            "flex_flow": null,
            "grid_area": null,
            "grid_auto_columns": null,
            "grid_auto_flow": null,
            "grid_auto_rows": null,
            "grid_column": null,
            "grid_gap": null,
            "grid_row": null,
            "grid_template_areas": null,
            "grid_template_columns": null,
            "grid_template_rows": null,
            "height": null,
            "justify_content": null,
            "justify_items": null,
            "left": null,
            "margin": null,
            "max_height": null,
            "max_width": null,
            "min_height": null,
            "min_width": null,
            "object_fit": null,
            "object_position": null,
            "order": null,
            "overflow": null,
            "overflow_x": null,
            "overflow_y": null,
            "padding": null,
            "right": null,
            "top": null,
            "visibility": null,
            "width": null
          }
        },
        "7e1cf194da624cb2aee154d6089d8198": {
          "model_module": "@jupyter-widgets/controls",
          "model_name": "FloatSliderModel",
          "model_module_version": "1.5.0",
          "state": {
            "_dom_classes": [],
            "_model_module": "@jupyter-widgets/controls",
            "_model_module_version": "1.5.0",
            "_model_name": "FloatSliderModel",
            "_view_count": null,
            "_view_module": "@jupyter-widgets/controls",
            "_view_module_version": "1.5.0",
            "_view_name": "FloatSliderView",
            "continuous_update": true,
            "description": "a",
            "description_tooltip": null,
            "disabled": false,
            "layout": "IPY_MODEL_4e8ba50687464ff3b8ff9ba5bc1d0723",
            "max": 0,
            "min": -10,
            "orientation": "horizontal",
            "readout": true,
            "readout_format": ".2f",
            "step": 0.01,
            "style": "IPY_MODEL_115e6ec05c34449daaa512815949f463",
            "value": 0
          }
        },
        "1d74a537015a4a97be7efded2f0bef91": {
          "model_module": "@jupyter-widgets/controls",
          "model_name": "FloatSliderModel",
          "model_module_version": "1.5.0",
          "state": {
            "_dom_classes": [],
            "_model_module": "@jupyter-widgets/controls",
            "_model_module_version": "1.5.0",
            "_model_name": "FloatSliderModel",
            "_view_count": null,
            "_view_module": "@jupyter-widgets/controls",
            "_view_module_version": "1.5.0",
            "_view_name": "FloatSliderView",
            "continuous_update": true,
            "description": "b",
            "description_tooltip": null,
            "disabled": false,
            "layout": "IPY_MODEL_e7ca68bd04b24afcbc51252ebbc4ba78",
            "max": 10,
            "min": 0,
            "orientation": "horizontal",
            "readout": true,
            "readout_format": ".2f",
            "step": 0.01,
            "style": "IPY_MODEL_0f24e2a170a042d59ea16eb19996ddad",
            "value": 1
          }
        },
        "5ca5d26695fd4dd1aa68d6f3e2beb31e": {
          "model_module": "@jupyter-widgets/controls",
          "model_name": "FloatSliderModel",
          "model_module_version": "1.5.0",
          "state": {
            "_dom_classes": [],
            "_model_module": "@jupyter-widgets/controls",
            "_model_module_version": "1.5.0",
            "_model_name": "FloatSliderModel",
            "_view_count": null,
            "_view_module": "@jupyter-widgets/controls",
            "_view_module_version": "1.5.0",
            "_view_name": "FloatSliderView",
            "continuous_update": true,
            "description": "c",
            "description_tooltip": null,
            "disabled": false,
            "layout": "IPY_MODEL_a72a6266caf246f297fc29a79cb1c9c5",
            "max": 10,
            "min": 0,
            "orientation": "horizontal",
            "readout": true,
            "readout_format": ".2f",
            "step": 0.01,
            "style": "IPY_MODEL_4335130baeb24c1ba33b61a5815830b7",
            "value": 1
          }
        },
        "60a2d595d0a7460eac46a999acfcb620": {
          "model_module": "@jupyter-widgets/base",
          "model_name": "LayoutModel",
          "model_module_version": "1.2.0",
          "state": {
            "_model_module": "@jupyter-widgets/base",
            "_model_module_version": "1.2.0",
            "_model_name": "LayoutModel",
            "_view_count": null,
            "_view_module": "@jupyter-widgets/base",
            "_view_module_version": "1.2.0",
            "_view_name": "LayoutView",
            "align_content": null,
            "align_items": null,
            "align_self": null,
            "border": null,
            "bottom": null,
            "display": null,
            "flex": null,
            "flex_flow": "row wrap",
            "grid_area": null,
            "grid_auto_columns": null,
            "grid_auto_flow": null,
            "grid_auto_rows": null,
            "grid_column": null,
            "grid_gap": null,
            "grid_row": null,
            "grid_template_areas": null,
            "grid_template_columns": null,
            "grid_template_rows": null,
            "height": null,
            "justify_content": null,
            "justify_items": null,
            "left": null,
            "margin": null,
            "max_height": null,
            "max_width": null,
            "min_height": null,
            "min_width": null,
            "object_fit": null,
            "object_position": null,
            "order": null,
            "overflow": null,
            "overflow_x": null,
            "overflow_y": null,
            "padding": null,
            "right": null,
            "top": null,
            "visibility": null,
            "width": null
          }
        },
        "7945ccb75a1a4ac9bacddc41afe3150d": {
          "model_module": "@jupyter-widgets/base",
          "model_name": "LayoutModel",
          "model_module_version": "1.2.0",
          "state": {
            "_model_module": "@jupyter-widgets/base",
            "_model_module_version": "1.2.0",
            "_model_name": "LayoutModel",
            "_view_count": null,
            "_view_module": "@jupyter-widgets/base",
            "_view_module_version": "1.2.0",
            "_view_name": "LayoutView",
            "align_content": null,
            "align_items": null,
            "align_self": null,
            "border": null,
            "bottom": null,
            "display": null,
            "flex": null,
            "flex_flow": null,
            "grid_area": null,
            "grid_auto_columns": null,
            "grid_auto_flow": null,
            "grid_auto_rows": null,
            "grid_column": null,
            "grid_gap": null,
            "grid_row": null,
            "grid_template_areas": null,
            "grid_template_columns": null,
            "grid_template_rows": null,
            "height": null,
            "justify_content": null,
            "justify_items": null,
            "left": null,
            "margin": null,
            "max_height": null,
            "max_width": null,
            "min_height": null,
            "min_width": null,
            "object_fit": null,
            "object_position": null,
            "order": null,
            "overflow": null,
            "overflow_x": null,
            "overflow_y": null,
            "padding": null,
            "right": null,
            "top": null,
            "visibility": null,
            "width": null
          }
        },
        "4e8ba50687464ff3b8ff9ba5bc1d0723": {
          "model_module": "@jupyter-widgets/base",
          "model_name": "LayoutModel",
          "model_module_version": "1.2.0",
          "state": {
            "_model_module": "@jupyter-widgets/base",
            "_model_module_version": "1.2.0",
            "_model_name": "LayoutModel",
            "_view_count": null,
            "_view_module": "@jupyter-widgets/base",
            "_view_module_version": "1.2.0",
            "_view_name": "LayoutView",
            "align_content": null,
            "align_items": null,
            "align_self": null,
            "border": null,
            "bottom": null,
            "display": null,
            "flex": null,
            "flex_flow": null,
            "grid_area": null,
            "grid_auto_columns": null,
            "grid_auto_flow": null,
            "grid_auto_rows": null,
            "grid_column": null,
            "grid_gap": null,
            "grid_row": null,
            "grid_template_areas": null,
            "grid_template_columns": null,
            "grid_template_rows": null,
            "height": null,
            "justify_content": null,
            "justify_items": null,
            "left": null,
            "margin": null,
            "max_height": null,
            "max_width": null,
            "min_height": null,
            "min_width": null,
            "object_fit": null,
            "object_position": null,
            "order": null,
            "overflow": null,
            "overflow_x": null,
            "overflow_y": null,
            "padding": null,
            "right": null,
            "top": null,
            "visibility": null,
            "width": null
          }
        },
        "115e6ec05c34449daaa512815949f463": {
          "model_module": "@jupyter-widgets/controls",
          "model_name": "SliderStyleModel",
          "model_module_version": "1.5.0",
          "state": {
            "_model_module": "@jupyter-widgets/controls",
            "_model_module_version": "1.5.0",
            "_model_name": "SliderStyleModel",
            "_view_count": null,
            "_view_module": "@jupyter-widgets/base",
            "_view_module_version": "1.2.0",
            "_view_name": "StyleView",
            "description_width": "",
            "handle_color": null
          }
        },
        "e7ca68bd04b24afcbc51252ebbc4ba78": {
          "model_module": "@jupyter-widgets/base",
          "model_name": "LayoutModel",
          "model_module_version": "1.2.0",
          "state": {
            "_model_module": "@jupyter-widgets/base",
            "_model_module_version": "1.2.0",
            "_model_name": "LayoutModel",
            "_view_count": null,
            "_view_module": "@jupyter-widgets/base",
            "_view_module_version": "1.2.0",
            "_view_name": "LayoutView",
            "align_content": null,
            "align_items": null,
            "align_self": null,
            "border": null,
            "bottom": null,
            "display": null,
            "flex": null,
            "flex_flow": null,
            "grid_area": null,
            "grid_auto_columns": null,
            "grid_auto_flow": null,
            "grid_auto_rows": null,
            "grid_column": null,
            "grid_gap": null,
            "grid_row": null,
            "grid_template_areas": null,
            "grid_template_columns": null,
            "grid_template_rows": null,
            "height": null,
            "justify_content": null,
            "justify_items": null,
            "left": null,
            "margin": null,
            "max_height": null,
            "max_width": null,
            "min_height": null,
            "min_width": null,
            "object_fit": null,
            "object_position": null,
            "order": null,
            "overflow": null,
            "overflow_x": null,
            "overflow_y": null,
            "padding": null,
            "right": null,
            "top": null,
            "visibility": null,
            "width": null
          }
        },
        "0f24e2a170a042d59ea16eb19996ddad": {
          "model_module": "@jupyter-widgets/controls",
          "model_name": "SliderStyleModel",
          "model_module_version": "1.5.0",
          "state": {
            "_model_module": "@jupyter-widgets/controls",
            "_model_module_version": "1.5.0",
            "_model_name": "SliderStyleModel",
            "_view_count": null,
            "_view_module": "@jupyter-widgets/base",
            "_view_module_version": "1.2.0",
            "_view_name": "StyleView",
            "description_width": "",
            "handle_color": null
          }
        },
        "a72a6266caf246f297fc29a79cb1c9c5": {
          "model_module": "@jupyter-widgets/base",
          "model_name": "LayoutModel",
          "model_module_version": "1.2.0",
          "state": {
            "_model_module": "@jupyter-widgets/base",
            "_model_module_version": "1.2.0",
            "_model_name": "LayoutModel",
            "_view_count": null,
            "_view_module": "@jupyter-widgets/base",
            "_view_module_version": "1.2.0",
            "_view_name": "LayoutView",
            "align_content": null,
            "align_items": null,
            "align_self": null,
            "border": null,
            "bottom": null,
            "display": null,
            "flex": null,
            "flex_flow": null,
            "grid_area": null,
            "grid_auto_columns": null,
            "grid_auto_flow": null,
            "grid_auto_rows": null,
            "grid_column": null,
            "grid_gap": null,
            "grid_row": null,
            "grid_template_areas": null,
            "grid_template_columns": null,
            "grid_template_rows": null,
            "height": null,
            "justify_content": null,
            "justify_items": null,
            "left": null,
            "margin": null,
            "max_height": null,
            "max_width": null,
            "min_height": null,
            "min_width": null,
            "object_fit": null,
            "object_position": null,
            "order": null,
            "overflow": null,
            "overflow_x": null,
            "overflow_y": null,
            "padding": null,
            "right": null,
            "top": null,
            "visibility": null,
            "width": null
          }
        },
        "4335130baeb24c1ba33b61a5815830b7": {
          "model_module": "@jupyter-widgets/controls",
          "model_name": "SliderStyleModel",
          "model_module_version": "1.5.0",
          "state": {
            "_model_module": "@jupyter-widgets/controls",
            "_model_module_version": "1.5.0",
            "_model_name": "SliderStyleModel",
            "_view_count": null,
            "_view_module": "@jupyter-widgets/base",
            "_view_module_version": "1.2.0",
            "_view_name": "StyleView",
            "description_width": "",
            "handle_color": null
          }
        },
        "aec1e6cd089b4addbf1bbda710ce5108": {
          "model_module": "@jupyter-widgets/controls",
          "model_name": "VBoxModel",
          "model_module_version": "1.5.0",
          "state": {
            "_dom_classes": [],
            "_model_module": "@jupyter-widgets/controls",
            "_model_module_version": "1.5.0",
            "_model_name": "VBoxModel",
            "_view_count": null,
            "_view_module": "@jupyter-widgets/controls",
            "_view_module_version": "1.5.0",
            "_view_name": "VBoxView",
            "box_style": "",
            "children": [
              "IPY_MODEL_bf0539c3f6324588b9c913c896e00fa9",
              "IPY_MODEL_daf73fe3debf458b9b2bf5bcd3b1c009"
            ],
            "layout": "IPY_MODEL_94225ebedf0042a78c5e322ff0e4c579"
          }
        },
        "bf0539c3f6324588b9c913c896e00fa9": {
          "model_module": "@jupyter-widgets/controls",
          "model_name": "HBoxModel",
          "model_module_version": "1.5.0",
          "state": {
            "_dom_classes": [],
            "_model_module": "@jupyter-widgets/controls",
            "_model_module_version": "1.5.0",
            "_model_name": "HBoxModel",
            "_view_count": null,
            "_view_module": "@jupyter-widgets/controls",
            "_view_module_version": "1.5.0",
            "_view_name": "HBoxView",
            "box_style": "",
            "children": [
              "IPY_MODEL_86ef89201513484b8f56dca957017bb8",
              "IPY_MODEL_f4354c6bf4434d29accde174fab3ce7a",
              "IPY_MODEL_f389e26cfc2c4d768368f532d1ae137d"
            ],
            "layout": "IPY_MODEL_e7f0bb82fe8248078db7419aa07b8005"
          }
        },
        "daf73fe3debf458b9b2bf5bcd3b1c009": {
          "model_module": "@jupyter-widgets/output",
          "model_name": "OutputModel",
          "model_module_version": "1.0.0",
          "state": {
            "_dom_classes": [],
            "_model_module": "@jupyter-widgets/output",
            "_model_module_version": "1.0.0",
            "_model_name": "OutputModel",
            "_view_count": null,
            "_view_module": "@jupyter-widgets/output",
            "_view_module_version": "1.0.0",
            "_view_name": "OutputView",
            "layout": "IPY_MODEL_7718dbdc2c2c47f68818b7760f74d02d",
            "msg_id": "",
            "outputs": []
          }
        },
        "94225ebedf0042a78c5e322ff0e4c579": {
          "model_module": "@jupyter-widgets/base",
          "model_name": "LayoutModel",
          "model_module_version": "1.2.0",
          "state": {
            "_model_module": "@jupyter-widgets/base",
            "_model_module_version": "1.2.0",
            "_model_name": "LayoutModel",
            "_view_count": null,
            "_view_module": "@jupyter-widgets/base",
            "_view_module_version": "1.2.0",
            "_view_name": "LayoutView",
            "align_content": null,
            "align_items": null,
            "align_self": null,
            "border": null,
            "bottom": null,
            "display": null,
            "flex": null,
            "flex_flow": null,
            "grid_area": null,
            "grid_auto_columns": null,
            "grid_auto_flow": null,
            "grid_auto_rows": null,
            "grid_column": null,
            "grid_gap": null,
            "grid_row": null,
            "grid_template_areas": null,
            "grid_template_columns": null,
            "grid_template_rows": null,
            "height": null,
            "justify_content": null,
            "justify_items": null,
            "left": null,
            "margin": null,
            "max_height": null,
            "max_width": null,
            "min_height": null,
            "min_width": null,
            "object_fit": null,
            "object_position": null,
            "order": null,
            "overflow": null,
            "overflow_x": null,
            "overflow_y": null,
            "padding": null,
            "right": null,
            "top": null,
            "visibility": null,
            "width": null
          }
        },
        "86ef89201513484b8f56dca957017bb8": {
          "model_module": "@jupyter-widgets/controls",
          "model_name": "FloatSliderModel",
          "model_module_version": "1.5.0",
          "state": {
            "_dom_classes": [],
            "_model_module": "@jupyter-widgets/controls",
            "_model_module_version": "1.5.0",
            "_model_name": "FloatSliderModel",
            "_view_count": null,
            "_view_module": "@jupyter-widgets/controls",
            "_view_module_version": "1.5.0",
            "_view_name": "FloatSliderView",
            "continuous_update": true,
            "description": "a",
            "description_tooltip": null,
            "disabled": false,
            "layout": "IPY_MODEL_e5da220647b048248ff860fc919ea3d4",
            "max": 0,
            "min": -10,
            "orientation": "horizontal",
            "readout": true,
            "readout_format": ".2f",
            "step": 0.01,
            "style": "IPY_MODEL_7346f96567d248499e3fa685aa1c8a1c",
            "value": 0
          }
        },
        "f4354c6bf4434d29accde174fab3ce7a": {
          "model_module": "@jupyter-widgets/controls",
          "model_name": "FloatSliderModel",
          "model_module_version": "1.5.0",
          "state": {
            "_dom_classes": [],
            "_model_module": "@jupyter-widgets/controls",
            "_model_module_version": "1.5.0",
            "_model_name": "FloatSliderModel",
            "_view_count": null,
            "_view_module": "@jupyter-widgets/controls",
            "_view_module_version": "1.5.0",
            "_view_name": "FloatSliderView",
            "continuous_update": true,
            "description": "b",
            "description_tooltip": null,
            "disabled": false,
            "layout": "IPY_MODEL_6b3e960711344cb4afc231a16c472967",
            "max": 10,
            "min": 0,
            "orientation": "horizontal",
            "readout": true,
            "readout_format": ".2f",
            "step": 0.01,
            "style": "IPY_MODEL_f4e2fc97f8aa4b68a16971f4ca5328a8",
            "value": 1
          }
        },
        "f389e26cfc2c4d768368f532d1ae137d": {
          "model_module": "@jupyter-widgets/controls",
          "model_name": "FloatSliderModel",
          "model_module_version": "1.5.0",
          "state": {
            "_dom_classes": [],
            "_model_module": "@jupyter-widgets/controls",
            "_model_module_version": "1.5.0",
            "_model_name": "FloatSliderModel",
            "_view_count": null,
            "_view_module": "@jupyter-widgets/controls",
            "_view_module_version": "1.5.0",
            "_view_name": "FloatSliderView",
            "continuous_update": true,
            "description": "c",
            "description_tooltip": null,
            "disabled": false,
            "layout": "IPY_MODEL_4151b21563b94ab596de4b0e9f1d6abc",
            "max": 10,
            "min": 0,
            "orientation": "horizontal",
            "readout": true,
            "readout_format": ".2f",
            "step": 0.01,
            "style": "IPY_MODEL_bbe2d517ec44467db906ec1c2172cc50",
            "value": 1
          }
        },
        "e7f0bb82fe8248078db7419aa07b8005": {
          "model_module": "@jupyter-widgets/base",
          "model_name": "LayoutModel",
          "model_module_version": "1.2.0",
          "state": {
            "_model_module": "@jupyter-widgets/base",
            "_model_module_version": "1.2.0",
            "_model_name": "LayoutModel",
            "_view_count": null,
            "_view_module": "@jupyter-widgets/base",
            "_view_module_version": "1.2.0",
            "_view_name": "LayoutView",
            "align_content": null,
            "align_items": null,
            "align_self": null,
            "border": null,
            "bottom": null,
            "display": null,
            "flex": null,
            "flex_flow": "row wrap",
            "grid_area": null,
            "grid_auto_columns": null,
            "grid_auto_flow": null,
            "grid_auto_rows": null,
            "grid_column": null,
            "grid_gap": null,
            "grid_row": null,
            "grid_template_areas": null,
            "grid_template_columns": null,
            "grid_template_rows": null,
            "height": null,
            "justify_content": null,
            "justify_items": null,
            "left": null,
            "margin": null,
            "max_height": null,
            "max_width": null,
            "min_height": null,
            "min_width": null,
            "object_fit": null,
            "object_position": null,
            "order": null,
            "overflow": null,
            "overflow_x": null,
            "overflow_y": null,
            "padding": null,
            "right": null,
            "top": null,
            "visibility": null,
            "width": null
          }
        },
        "7718dbdc2c2c47f68818b7760f74d02d": {
          "model_module": "@jupyter-widgets/base",
          "model_name": "LayoutModel",
          "model_module_version": "1.2.0",
          "state": {
            "_model_module": "@jupyter-widgets/base",
            "_model_module_version": "1.2.0",
            "_model_name": "LayoutModel",
            "_view_count": null,
            "_view_module": "@jupyter-widgets/base",
            "_view_module_version": "1.2.0",
            "_view_name": "LayoutView",
            "align_content": null,
            "align_items": null,
            "align_self": null,
            "border": null,
            "bottom": null,
            "display": null,
            "flex": null,
            "flex_flow": null,
            "grid_area": null,
            "grid_auto_columns": null,
            "grid_auto_flow": null,
            "grid_auto_rows": null,
            "grid_column": null,
            "grid_gap": null,
            "grid_row": null,
            "grid_template_areas": null,
            "grid_template_columns": null,
            "grid_template_rows": null,
            "height": null,
            "justify_content": null,
            "justify_items": null,
            "left": null,
            "margin": null,
            "max_height": null,
            "max_width": null,
            "min_height": null,
            "min_width": null,
            "object_fit": null,
            "object_position": null,
            "order": null,
            "overflow": null,
            "overflow_x": null,
            "overflow_y": null,
            "padding": null,
            "right": null,
            "top": null,
            "visibility": null,
            "width": null
          }
        },
        "e5da220647b048248ff860fc919ea3d4": {
          "model_module": "@jupyter-widgets/base",
          "model_name": "LayoutModel",
          "model_module_version": "1.2.0",
          "state": {
            "_model_module": "@jupyter-widgets/base",
            "_model_module_version": "1.2.0",
            "_model_name": "LayoutModel",
            "_view_count": null,
            "_view_module": "@jupyter-widgets/base",
            "_view_module_version": "1.2.0",
            "_view_name": "LayoutView",
            "align_content": null,
            "align_items": null,
            "align_self": null,
            "border": null,
            "bottom": null,
            "display": null,
            "flex": null,
            "flex_flow": null,
            "grid_area": null,
            "grid_auto_columns": null,
            "grid_auto_flow": null,
            "grid_auto_rows": null,
            "grid_column": null,
            "grid_gap": null,
            "grid_row": null,
            "grid_template_areas": null,
            "grid_template_columns": null,
            "grid_template_rows": null,
            "height": null,
            "justify_content": null,
            "justify_items": null,
            "left": null,
            "margin": null,
            "max_height": null,
            "max_width": null,
            "min_height": null,
            "min_width": null,
            "object_fit": null,
            "object_position": null,
            "order": null,
            "overflow": null,
            "overflow_x": null,
            "overflow_y": null,
            "padding": null,
            "right": null,
            "top": null,
            "visibility": null,
            "width": null
          }
        },
        "7346f96567d248499e3fa685aa1c8a1c": {
          "model_module": "@jupyter-widgets/controls",
          "model_name": "SliderStyleModel",
          "model_module_version": "1.5.0",
          "state": {
            "_model_module": "@jupyter-widgets/controls",
            "_model_module_version": "1.5.0",
            "_model_name": "SliderStyleModel",
            "_view_count": null,
            "_view_module": "@jupyter-widgets/base",
            "_view_module_version": "1.2.0",
            "_view_name": "StyleView",
            "description_width": "",
            "handle_color": null
          }
        },
        "6b3e960711344cb4afc231a16c472967": {
          "model_module": "@jupyter-widgets/base",
          "model_name": "LayoutModel",
          "model_module_version": "1.2.0",
          "state": {
            "_model_module": "@jupyter-widgets/base",
            "_model_module_version": "1.2.0",
            "_model_name": "LayoutModel",
            "_view_count": null,
            "_view_module": "@jupyter-widgets/base",
            "_view_module_version": "1.2.0",
            "_view_name": "LayoutView",
            "align_content": null,
            "align_items": null,
            "align_self": null,
            "border": null,
            "bottom": null,
            "display": null,
            "flex": null,
            "flex_flow": null,
            "grid_area": null,
            "grid_auto_columns": null,
            "grid_auto_flow": null,
            "grid_auto_rows": null,
            "grid_column": null,
            "grid_gap": null,
            "grid_row": null,
            "grid_template_areas": null,
            "grid_template_columns": null,
            "grid_template_rows": null,
            "height": null,
            "justify_content": null,
            "justify_items": null,
            "left": null,
            "margin": null,
            "max_height": null,
            "max_width": null,
            "min_height": null,
            "min_width": null,
            "object_fit": null,
            "object_position": null,
            "order": null,
            "overflow": null,
            "overflow_x": null,
            "overflow_y": null,
            "padding": null,
            "right": null,
            "top": null,
            "visibility": null,
            "width": null
          }
        },
        "f4e2fc97f8aa4b68a16971f4ca5328a8": {
          "model_module": "@jupyter-widgets/controls",
          "model_name": "SliderStyleModel",
          "model_module_version": "1.5.0",
          "state": {
            "_model_module": "@jupyter-widgets/controls",
            "_model_module_version": "1.5.0",
            "_model_name": "SliderStyleModel",
            "_view_count": null,
            "_view_module": "@jupyter-widgets/base",
            "_view_module_version": "1.2.0",
            "_view_name": "StyleView",
            "description_width": "",
            "handle_color": null
          }
        },
        "4151b21563b94ab596de4b0e9f1d6abc": {
          "model_module": "@jupyter-widgets/base",
          "model_name": "LayoutModel",
          "model_module_version": "1.2.0",
          "state": {
            "_model_module": "@jupyter-widgets/base",
            "_model_module_version": "1.2.0",
            "_model_name": "LayoutModel",
            "_view_count": null,
            "_view_module": "@jupyter-widgets/base",
            "_view_module_version": "1.2.0",
            "_view_name": "LayoutView",
            "align_content": null,
            "align_items": null,
            "align_self": null,
            "border": null,
            "bottom": null,
            "display": null,
            "flex": null,
            "flex_flow": null,
            "grid_area": null,
            "grid_auto_columns": null,
            "grid_auto_flow": null,
            "grid_auto_rows": null,
            "grid_column": null,
            "grid_gap": null,
            "grid_row": null,
            "grid_template_areas": null,
            "grid_template_columns": null,
            "grid_template_rows": null,
            "height": null,
            "justify_content": null,
            "justify_items": null,
            "left": null,
            "margin": null,
            "max_height": null,
            "max_width": null,
            "min_height": null,
            "min_width": null,
            "object_fit": null,
            "object_position": null,
            "order": null,
            "overflow": null,
            "overflow_x": null,
            "overflow_y": null,
            "padding": null,
            "right": null,
            "top": null,
            "visibility": null,
            "width": null
          }
        },
        "bbe2d517ec44467db906ec1c2172cc50": {
          "model_module": "@jupyter-widgets/controls",
          "model_name": "SliderStyleModel",
          "model_module_version": "1.5.0",
          "state": {
            "_model_module": "@jupyter-widgets/controls",
            "_model_module_version": "1.5.0",
            "_model_name": "SliderStyleModel",
            "_view_count": null,
            "_view_module": "@jupyter-widgets/base",
            "_view_module_version": "1.2.0",
            "_view_name": "StyleView",
            "description_width": "",
            "handle_color": null
          }
        },
        "cad9fb4b726e46c3936f9b067f80da8d": {
          "model_module": "@jupyter-widgets/controls",
          "model_name": "VBoxModel",
          "model_module_version": "1.5.0",
          "state": {
            "_dom_classes": [],
            "_model_module": "@jupyter-widgets/controls",
            "_model_module_version": "1.5.0",
            "_model_name": "VBoxModel",
            "_view_count": null,
            "_view_module": "@jupyter-widgets/controls",
            "_view_module_version": "1.5.0",
            "_view_name": "VBoxView",
            "box_style": "",
            "children": [
              "IPY_MODEL_efc39bed29324b1eb3853cc26c136e90",
              "IPY_MODEL_4c53af0d9c6f4c8fb01da0aacdb15b7b"
            ],
            "layout": "IPY_MODEL_fa050ec2316b4cd8a5b39422581ee99a"
          }
        },
        "efc39bed29324b1eb3853cc26c136e90": {
          "model_module": "@jupyter-widgets/controls",
          "model_name": "HBoxModel",
          "model_module_version": "1.5.0",
          "state": {
            "_dom_classes": [],
            "_model_module": "@jupyter-widgets/controls",
            "_model_module_version": "1.5.0",
            "_model_name": "HBoxModel",
            "_view_count": null,
            "_view_module": "@jupyter-widgets/controls",
            "_view_module_version": "1.5.0",
            "_view_name": "HBoxView",
            "box_style": "",
            "children": [
              "IPY_MODEL_0d5f9859d4074250a0687d20040bdb9a",
              "IPY_MODEL_5c9880800a7244d4a4a2651da37b44b6",
              "IPY_MODEL_e35a3200de864a3b9738e2050c3a8167"
            ],
            "layout": "IPY_MODEL_36b1fcb0be8e45f58077f4f6d24768b6"
          }
        },
        "4c53af0d9c6f4c8fb01da0aacdb15b7b": {
          "model_module": "@jupyter-widgets/output",
          "model_name": "OutputModel",
          "model_module_version": "1.0.0",
          "state": {
            "_dom_classes": [],
            "_model_module": "@jupyter-widgets/output",
            "_model_module_version": "1.0.0",
            "_model_name": "OutputModel",
            "_view_count": null,
            "_view_module": "@jupyter-widgets/output",
            "_view_module_version": "1.0.0",
            "_view_name": "OutputView",
            "layout": "IPY_MODEL_fcbff5bbab95401980a0ee1269855bc7",
            "msg_id": "",
            "outputs": []
          }
        },
        "fa050ec2316b4cd8a5b39422581ee99a": {
          "model_module": "@jupyter-widgets/base",
          "model_name": "LayoutModel",
          "model_module_version": "1.2.0",
          "state": {
            "_model_module": "@jupyter-widgets/base",
            "_model_module_version": "1.2.0",
            "_model_name": "LayoutModel",
            "_view_count": null,
            "_view_module": "@jupyter-widgets/base",
            "_view_module_version": "1.2.0",
            "_view_name": "LayoutView",
            "align_content": null,
            "align_items": null,
            "align_self": null,
            "border": null,
            "bottom": null,
            "display": null,
            "flex": null,
            "flex_flow": null,
            "grid_area": null,
            "grid_auto_columns": null,
            "grid_auto_flow": null,
            "grid_auto_rows": null,
            "grid_column": null,
            "grid_gap": null,
            "grid_row": null,
            "grid_template_areas": null,
            "grid_template_columns": null,
            "grid_template_rows": null,
            "height": null,
            "justify_content": null,
            "justify_items": null,
            "left": null,
            "margin": null,
            "max_height": null,
            "max_width": null,
            "min_height": null,
            "min_width": null,
            "object_fit": null,
            "object_position": null,
            "order": null,
            "overflow": null,
            "overflow_x": null,
            "overflow_y": null,
            "padding": null,
            "right": null,
            "top": null,
            "visibility": null,
            "width": null
          }
        },
        "0d5f9859d4074250a0687d20040bdb9a": {
          "model_module": "@jupyter-widgets/controls",
          "model_name": "FloatSliderModel",
          "model_module_version": "1.5.0",
          "state": {
            "_dom_classes": [],
            "_model_module": "@jupyter-widgets/controls",
            "_model_module_version": "1.5.0",
            "_model_name": "FloatSliderModel",
            "_view_count": null,
            "_view_module": "@jupyter-widgets/controls",
            "_view_module_version": "1.5.0",
            "_view_name": "FloatSliderView",
            "continuous_update": true,
            "description": "a",
            "description_tooltip": null,
            "disabled": false,
            "layout": "IPY_MODEL_5a23980590e043f5af86785ecf601931",
            "max": 0,
            "min": -10,
            "orientation": "horizontal",
            "readout": true,
            "readout_format": ".2f",
            "step": 0.01,
            "style": "IPY_MODEL_fdee50e6b75e49b69a1419f0c68351b4",
            "value": 0
          }
        },
        "5c9880800a7244d4a4a2651da37b44b6": {
          "model_module": "@jupyter-widgets/controls",
          "model_name": "FloatSliderModel",
          "model_module_version": "1.5.0",
          "state": {
            "_dom_classes": [],
            "_model_module": "@jupyter-widgets/controls",
            "_model_module_version": "1.5.0",
            "_model_name": "FloatSliderModel",
            "_view_count": null,
            "_view_module": "@jupyter-widgets/controls",
            "_view_module_version": "1.5.0",
            "_view_name": "FloatSliderView",
            "continuous_update": true,
            "description": "b",
            "description_tooltip": null,
            "disabled": false,
            "layout": "IPY_MODEL_975fffeda66d4723bbcc4fe4108ea2c9",
            "max": 10,
            "min": 0,
            "orientation": "horizontal",
            "readout": true,
            "readout_format": ".2f",
            "step": 0.01,
            "style": "IPY_MODEL_131a6222d2cd492d9d4a467f9ed8354e",
            "value": 1
          }
        },
        "e35a3200de864a3b9738e2050c3a8167": {
          "model_module": "@jupyter-widgets/controls",
          "model_name": "FloatSliderModel",
          "model_module_version": "1.5.0",
          "state": {
            "_dom_classes": [],
            "_model_module": "@jupyter-widgets/controls",
            "_model_module_version": "1.5.0",
            "_model_name": "FloatSliderModel",
            "_view_count": null,
            "_view_module": "@jupyter-widgets/controls",
            "_view_module_version": "1.5.0",
            "_view_name": "FloatSliderView",
            "continuous_update": true,
            "description": "c",
            "description_tooltip": null,
            "disabled": false,
            "layout": "IPY_MODEL_f45a76e0331d4bc489186e9302a2088b",
            "max": 10,
            "min": 0,
            "orientation": "horizontal",
            "readout": true,
            "readout_format": ".2f",
            "step": 0.01,
            "style": "IPY_MODEL_4b52ac641351463fb395c5d268a60ae5",
            "value": 1
          }
        },
        "36b1fcb0be8e45f58077f4f6d24768b6": {
          "model_module": "@jupyter-widgets/base",
          "model_name": "LayoutModel",
          "model_module_version": "1.2.0",
          "state": {
            "_model_module": "@jupyter-widgets/base",
            "_model_module_version": "1.2.0",
            "_model_name": "LayoutModel",
            "_view_count": null,
            "_view_module": "@jupyter-widgets/base",
            "_view_module_version": "1.2.0",
            "_view_name": "LayoutView",
            "align_content": null,
            "align_items": null,
            "align_self": null,
            "border": null,
            "bottom": null,
            "display": null,
            "flex": null,
            "flex_flow": "row wrap",
            "grid_area": null,
            "grid_auto_columns": null,
            "grid_auto_flow": null,
            "grid_auto_rows": null,
            "grid_column": null,
            "grid_gap": null,
            "grid_row": null,
            "grid_template_areas": null,
            "grid_template_columns": null,
            "grid_template_rows": null,
            "height": null,
            "justify_content": null,
            "justify_items": null,
            "left": null,
            "margin": null,
            "max_height": null,
            "max_width": null,
            "min_height": null,
            "min_width": null,
            "object_fit": null,
            "object_position": null,
            "order": null,
            "overflow": null,
            "overflow_x": null,
            "overflow_y": null,
            "padding": null,
            "right": null,
            "top": null,
            "visibility": null,
            "width": null
          }
        },
        "fcbff5bbab95401980a0ee1269855bc7": {
          "model_module": "@jupyter-widgets/base",
          "model_name": "LayoutModel",
          "model_module_version": "1.2.0",
          "state": {
            "_model_module": "@jupyter-widgets/base",
            "_model_module_version": "1.2.0",
            "_model_name": "LayoutModel",
            "_view_count": null,
            "_view_module": "@jupyter-widgets/base",
            "_view_module_version": "1.2.0",
            "_view_name": "LayoutView",
            "align_content": null,
            "align_items": null,
            "align_self": null,
            "border": null,
            "bottom": null,
            "display": null,
            "flex": null,
            "flex_flow": null,
            "grid_area": null,
            "grid_auto_columns": null,
            "grid_auto_flow": null,
            "grid_auto_rows": null,
            "grid_column": null,
            "grid_gap": null,
            "grid_row": null,
            "grid_template_areas": null,
            "grid_template_columns": null,
            "grid_template_rows": null,
            "height": null,
            "justify_content": null,
            "justify_items": null,
            "left": null,
            "margin": null,
            "max_height": null,
            "max_width": null,
            "min_height": null,
            "min_width": null,
            "object_fit": null,
            "object_position": null,
            "order": null,
            "overflow": null,
            "overflow_x": null,
            "overflow_y": null,
            "padding": null,
            "right": null,
            "top": null,
            "visibility": null,
            "width": null
          }
        },
        "5a23980590e043f5af86785ecf601931": {
          "model_module": "@jupyter-widgets/base",
          "model_name": "LayoutModel",
          "model_module_version": "1.2.0",
          "state": {
            "_model_module": "@jupyter-widgets/base",
            "_model_module_version": "1.2.0",
            "_model_name": "LayoutModel",
            "_view_count": null,
            "_view_module": "@jupyter-widgets/base",
            "_view_module_version": "1.2.0",
            "_view_name": "LayoutView",
            "align_content": null,
            "align_items": null,
            "align_self": null,
            "border": null,
            "bottom": null,
            "display": null,
            "flex": null,
            "flex_flow": null,
            "grid_area": null,
            "grid_auto_columns": null,
            "grid_auto_flow": null,
            "grid_auto_rows": null,
            "grid_column": null,
            "grid_gap": null,
            "grid_row": null,
            "grid_template_areas": null,
            "grid_template_columns": null,
            "grid_template_rows": null,
            "height": null,
            "justify_content": null,
            "justify_items": null,
            "left": null,
            "margin": null,
            "max_height": null,
            "max_width": null,
            "min_height": null,
            "min_width": null,
            "object_fit": null,
            "object_position": null,
            "order": null,
            "overflow": null,
            "overflow_x": null,
            "overflow_y": null,
            "padding": null,
            "right": null,
            "top": null,
            "visibility": null,
            "width": null
          }
        },
        "fdee50e6b75e49b69a1419f0c68351b4": {
          "model_module": "@jupyter-widgets/controls",
          "model_name": "SliderStyleModel",
          "model_module_version": "1.5.0",
          "state": {
            "_model_module": "@jupyter-widgets/controls",
            "_model_module_version": "1.5.0",
            "_model_name": "SliderStyleModel",
            "_view_count": null,
            "_view_module": "@jupyter-widgets/base",
            "_view_module_version": "1.2.0",
            "_view_name": "StyleView",
            "description_width": "",
            "handle_color": null
          }
        },
        "975fffeda66d4723bbcc4fe4108ea2c9": {
          "model_module": "@jupyter-widgets/base",
          "model_name": "LayoutModel",
          "model_module_version": "1.2.0",
          "state": {
            "_model_module": "@jupyter-widgets/base",
            "_model_module_version": "1.2.0",
            "_model_name": "LayoutModel",
            "_view_count": null,
            "_view_module": "@jupyter-widgets/base",
            "_view_module_version": "1.2.0",
            "_view_name": "LayoutView",
            "align_content": null,
            "align_items": null,
            "align_self": null,
            "border": null,
            "bottom": null,
            "display": null,
            "flex": null,
            "flex_flow": null,
            "grid_area": null,
            "grid_auto_columns": null,
            "grid_auto_flow": null,
            "grid_auto_rows": null,
            "grid_column": null,
            "grid_gap": null,
            "grid_row": null,
            "grid_template_areas": null,
            "grid_template_columns": null,
            "grid_template_rows": null,
            "height": null,
            "justify_content": null,
            "justify_items": null,
            "left": null,
            "margin": null,
            "max_height": null,
            "max_width": null,
            "min_height": null,
            "min_width": null,
            "object_fit": null,
            "object_position": null,
            "order": null,
            "overflow": null,
            "overflow_x": null,
            "overflow_y": null,
            "padding": null,
            "right": null,
            "top": null,
            "visibility": null,
            "width": null
          }
        },
        "131a6222d2cd492d9d4a467f9ed8354e": {
          "model_module": "@jupyter-widgets/controls",
          "model_name": "SliderStyleModel",
          "model_module_version": "1.5.0",
          "state": {
            "_model_module": "@jupyter-widgets/controls",
            "_model_module_version": "1.5.0",
            "_model_name": "SliderStyleModel",
            "_view_count": null,
            "_view_module": "@jupyter-widgets/base",
            "_view_module_version": "1.2.0",
            "_view_name": "StyleView",
            "description_width": "",
            "handle_color": null
          }
        },
        "f45a76e0331d4bc489186e9302a2088b": {
          "model_module": "@jupyter-widgets/base",
          "model_name": "LayoutModel",
          "model_module_version": "1.2.0",
          "state": {
            "_model_module": "@jupyter-widgets/base",
            "_model_module_version": "1.2.0",
            "_model_name": "LayoutModel",
            "_view_count": null,
            "_view_module": "@jupyter-widgets/base",
            "_view_module_version": "1.2.0",
            "_view_name": "LayoutView",
            "align_content": null,
            "align_items": null,
            "align_self": null,
            "border": null,
            "bottom": null,
            "display": null,
            "flex": null,
            "flex_flow": null,
            "grid_area": null,
            "grid_auto_columns": null,
            "grid_auto_flow": null,
            "grid_auto_rows": null,
            "grid_column": null,
            "grid_gap": null,
            "grid_row": null,
            "grid_template_areas": null,
            "grid_template_columns": null,
            "grid_template_rows": null,
            "height": null,
            "justify_content": null,
            "justify_items": null,
            "left": null,
            "margin": null,
            "max_height": null,
            "max_width": null,
            "min_height": null,
            "min_width": null,
            "object_fit": null,
            "object_position": null,
            "order": null,
            "overflow": null,
            "overflow_x": null,
            "overflow_y": null,
            "padding": null,
            "right": null,
            "top": null,
            "visibility": null,
            "width": null
          }
        },
        "4b52ac641351463fb395c5d268a60ae5": {
          "model_module": "@jupyter-widgets/controls",
          "model_name": "SliderStyleModel",
          "model_module_version": "1.5.0",
          "state": {
            "_model_module": "@jupyter-widgets/controls",
            "_model_module_version": "1.5.0",
            "_model_name": "SliderStyleModel",
            "_view_count": null,
            "_view_module": "@jupyter-widgets/base",
            "_view_module_version": "1.2.0",
            "_view_name": "StyleView",
            "description_width": "",
            "handle_color": null
          }
        },
        "88ea9432c9694efdb018845f5d800a79": {
          "model_module": "@jupyter-widgets/controls",
          "model_name": "VBoxModel",
          "model_module_version": "1.5.0",
          "state": {
            "_dom_classes": [],
            "_model_module": "@jupyter-widgets/controls",
            "_model_module_version": "1.5.0",
            "_model_name": "VBoxModel",
            "_view_count": null,
            "_view_module": "@jupyter-widgets/controls",
            "_view_module_version": "1.5.0",
            "_view_name": "VBoxView",
            "box_style": "",
            "children": [
              "IPY_MODEL_0ab8631115c94c71a541de0592effdb1",
              "IPY_MODEL_59b21cecd2864533b4313b801cd02039"
            ],
            "layout": "IPY_MODEL_771c91dba8254f9796457e0e0022aeca"
          }
        },
        "0ab8631115c94c71a541de0592effdb1": {
          "model_module": "@jupyter-widgets/controls",
          "model_name": "HBoxModel",
          "model_module_version": "1.5.0",
          "state": {
            "_dom_classes": [],
            "_model_module": "@jupyter-widgets/controls",
            "_model_module_version": "1.5.0",
            "_model_name": "HBoxModel",
            "_view_count": null,
            "_view_module": "@jupyter-widgets/controls",
            "_view_module_version": "1.5.0",
            "_view_name": "HBoxView",
            "box_style": "",
            "children": [
              "IPY_MODEL_dc0aa32a1e984d9b9ab18f0c0c237ca7",
              "IPY_MODEL_3e576406a8d54e90a8ee2aecaf7de07f",
              "IPY_MODEL_bcb6d563db964a608a3bcc8876d58039"
            ],
            "layout": "IPY_MODEL_2e2be5aaa27d4c25b086b3970de8a4b5"
          }
        },
        "59b21cecd2864533b4313b801cd02039": {
          "model_module": "@jupyter-widgets/output",
          "model_name": "OutputModel",
          "model_module_version": "1.0.0",
          "state": {
            "_dom_classes": [],
            "_model_module": "@jupyter-widgets/output",
            "_model_module_version": "1.0.0",
            "_model_name": "OutputModel",
            "_view_count": null,
            "_view_module": "@jupyter-widgets/output",
            "_view_module_version": "1.0.0",
            "_view_name": "OutputView",
            "layout": "IPY_MODEL_8e340bb23d5d4efdae03d411379e8726",
            "msg_id": "",
            "outputs": []
          }
        },
        "771c91dba8254f9796457e0e0022aeca": {
          "model_module": "@jupyter-widgets/base",
          "model_name": "LayoutModel",
          "model_module_version": "1.2.0",
          "state": {
            "_model_module": "@jupyter-widgets/base",
            "_model_module_version": "1.2.0",
            "_model_name": "LayoutModel",
            "_view_count": null,
            "_view_module": "@jupyter-widgets/base",
            "_view_module_version": "1.2.0",
            "_view_name": "LayoutView",
            "align_content": null,
            "align_items": null,
            "align_self": null,
            "border": null,
            "bottom": null,
            "display": null,
            "flex": null,
            "flex_flow": null,
            "grid_area": null,
            "grid_auto_columns": null,
            "grid_auto_flow": null,
            "grid_auto_rows": null,
            "grid_column": null,
            "grid_gap": null,
            "grid_row": null,
            "grid_template_areas": null,
            "grid_template_columns": null,
            "grid_template_rows": null,
            "height": null,
            "justify_content": null,
            "justify_items": null,
            "left": null,
            "margin": null,
            "max_height": null,
            "max_width": null,
            "min_height": null,
            "min_width": null,
            "object_fit": null,
            "object_position": null,
            "order": null,
            "overflow": null,
            "overflow_x": null,
            "overflow_y": null,
            "padding": null,
            "right": null,
            "top": null,
            "visibility": null,
            "width": null
          }
        },
        "dc0aa32a1e984d9b9ab18f0c0c237ca7": {
          "model_module": "@jupyter-widgets/controls",
          "model_name": "FloatSliderModel",
          "model_module_version": "1.5.0",
          "state": {
            "_dom_classes": [],
            "_model_module": "@jupyter-widgets/controls",
            "_model_module_version": "1.5.0",
            "_model_name": "FloatSliderModel",
            "_view_count": null,
            "_view_module": "@jupyter-widgets/controls",
            "_view_module_version": "1.5.0",
            "_view_name": "FloatSliderView",
            "continuous_update": true,
            "description": "a",
            "description_tooltip": null,
            "disabled": false,
            "layout": "IPY_MODEL_21c3698badb14fa0a9b9216e8b8df22e",
            "max": 0,
            "min": -10,
            "orientation": "horizontal",
            "readout": true,
            "readout_format": ".2f",
            "step": 0.01,
            "style": "IPY_MODEL_b53081223707453496648f82175d6d3c",
            "value": 0
          }
        },
        "3e576406a8d54e90a8ee2aecaf7de07f": {
          "model_module": "@jupyter-widgets/controls",
          "model_name": "FloatSliderModel",
          "model_module_version": "1.5.0",
          "state": {
            "_dom_classes": [],
            "_model_module": "@jupyter-widgets/controls",
            "_model_module_version": "1.5.0",
            "_model_name": "FloatSliderModel",
            "_view_count": null,
            "_view_module": "@jupyter-widgets/controls",
            "_view_module_version": "1.5.0",
            "_view_name": "FloatSliderView",
            "continuous_update": true,
            "description": "b",
            "description_tooltip": null,
            "disabled": false,
            "layout": "IPY_MODEL_77bde538eee242fa92157ef8de8dae4a",
            "max": 10,
            "min": 0,
            "orientation": "horizontal",
            "readout": true,
            "readout_format": ".2f",
            "step": 0.01,
            "style": "IPY_MODEL_25b2da78185141618136c154a66db650",
            "value": 1
          }
        },
        "bcb6d563db964a608a3bcc8876d58039": {
          "model_module": "@jupyter-widgets/controls",
          "model_name": "FloatSliderModel",
          "model_module_version": "1.5.0",
          "state": {
            "_dom_classes": [],
            "_model_module": "@jupyter-widgets/controls",
            "_model_module_version": "1.5.0",
            "_model_name": "FloatSliderModel",
            "_view_count": null,
            "_view_module": "@jupyter-widgets/controls",
            "_view_module_version": "1.5.0",
            "_view_name": "FloatSliderView",
            "continuous_update": true,
            "description": "c",
            "description_tooltip": null,
            "disabled": false,
            "layout": "IPY_MODEL_b3cfc562dc3740f39f1ff70636234c03",
            "max": 10,
            "min": 0,
            "orientation": "horizontal",
            "readout": true,
            "readout_format": ".2f",
            "step": 0.01,
            "style": "IPY_MODEL_af14b7ed3da44052a18fd673d2a5771a",
            "value": 1
          }
        },
        "2e2be5aaa27d4c25b086b3970de8a4b5": {
          "model_module": "@jupyter-widgets/base",
          "model_name": "LayoutModel",
          "model_module_version": "1.2.0",
          "state": {
            "_model_module": "@jupyter-widgets/base",
            "_model_module_version": "1.2.0",
            "_model_name": "LayoutModel",
            "_view_count": null,
            "_view_module": "@jupyter-widgets/base",
            "_view_module_version": "1.2.0",
            "_view_name": "LayoutView",
            "align_content": null,
            "align_items": null,
            "align_self": null,
            "border": null,
            "bottom": null,
            "display": null,
            "flex": null,
            "flex_flow": "row wrap",
            "grid_area": null,
            "grid_auto_columns": null,
            "grid_auto_flow": null,
            "grid_auto_rows": null,
            "grid_column": null,
            "grid_gap": null,
            "grid_row": null,
            "grid_template_areas": null,
            "grid_template_columns": null,
            "grid_template_rows": null,
            "height": null,
            "justify_content": null,
            "justify_items": null,
            "left": null,
            "margin": null,
            "max_height": null,
            "max_width": null,
            "min_height": null,
            "min_width": null,
            "object_fit": null,
            "object_position": null,
            "order": null,
            "overflow": null,
            "overflow_x": null,
            "overflow_y": null,
            "padding": null,
            "right": null,
            "top": null,
            "visibility": null,
            "width": null
          }
        },
        "8e340bb23d5d4efdae03d411379e8726": {
          "model_module": "@jupyter-widgets/base",
          "model_name": "LayoutModel",
          "model_module_version": "1.2.0",
          "state": {
            "_model_module": "@jupyter-widgets/base",
            "_model_module_version": "1.2.0",
            "_model_name": "LayoutModel",
            "_view_count": null,
            "_view_module": "@jupyter-widgets/base",
            "_view_module_version": "1.2.0",
            "_view_name": "LayoutView",
            "align_content": null,
            "align_items": null,
            "align_self": null,
            "border": null,
            "bottom": null,
            "display": null,
            "flex": null,
            "flex_flow": null,
            "grid_area": null,
            "grid_auto_columns": null,
            "grid_auto_flow": null,
            "grid_auto_rows": null,
            "grid_column": null,
            "grid_gap": null,
            "grid_row": null,
            "grid_template_areas": null,
            "grid_template_columns": null,
            "grid_template_rows": null,
            "height": null,
            "justify_content": null,
            "justify_items": null,
            "left": null,
            "margin": null,
            "max_height": null,
            "max_width": null,
            "min_height": null,
            "min_width": null,
            "object_fit": null,
            "object_position": null,
            "order": null,
            "overflow": null,
            "overflow_x": null,
            "overflow_y": null,
            "padding": null,
            "right": null,
            "top": null,
            "visibility": null,
            "width": null
          }
        },
        "21c3698badb14fa0a9b9216e8b8df22e": {
          "model_module": "@jupyter-widgets/base",
          "model_name": "LayoutModel",
          "model_module_version": "1.2.0",
          "state": {
            "_model_module": "@jupyter-widgets/base",
            "_model_module_version": "1.2.0",
            "_model_name": "LayoutModel",
            "_view_count": null,
            "_view_module": "@jupyter-widgets/base",
            "_view_module_version": "1.2.0",
            "_view_name": "LayoutView",
            "align_content": null,
            "align_items": null,
            "align_self": null,
            "border": null,
            "bottom": null,
            "display": null,
            "flex": null,
            "flex_flow": null,
            "grid_area": null,
            "grid_auto_columns": null,
            "grid_auto_flow": null,
            "grid_auto_rows": null,
            "grid_column": null,
            "grid_gap": null,
            "grid_row": null,
            "grid_template_areas": null,
            "grid_template_columns": null,
            "grid_template_rows": null,
            "height": null,
            "justify_content": null,
            "justify_items": null,
            "left": null,
            "margin": null,
            "max_height": null,
            "max_width": null,
            "min_height": null,
            "min_width": null,
            "object_fit": null,
            "object_position": null,
            "order": null,
            "overflow": null,
            "overflow_x": null,
            "overflow_y": null,
            "padding": null,
            "right": null,
            "top": null,
            "visibility": null,
            "width": null
          }
        },
        "b53081223707453496648f82175d6d3c": {
          "model_module": "@jupyter-widgets/controls",
          "model_name": "SliderStyleModel",
          "model_module_version": "1.5.0",
          "state": {
            "_model_module": "@jupyter-widgets/controls",
            "_model_module_version": "1.5.0",
            "_model_name": "SliderStyleModel",
            "_view_count": null,
            "_view_module": "@jupyter-widgets/base",
            "_view_module_version": "1.2.0",
            "_view_name": "StyleView",
            "description_width": "",
            "handle_color": null
          }
        },
        "77bde538eee242fa92157ef8de8dae4a": {
          "model_module": "@jupyter-widgets/base",
          "model_name": "LayoutModel",
          "model_module_version": "1.2.0",
          "state": {
            "_model_module": "@jupyter-widgets/base",
            "_model_module_version": "1.2.0",
            "_model_name": "LayoutModel",
            "_view_count": null,
            "_view_module": "@jupyter-widgets/base",
            "_view_module_version": "1.2.0",
            "_view_name": "LayoutView",
            "align_content": null,
            "align_items": null,
            "align_self": null,
            "border": null,
            "bottom": null,
            "display": null,
            "flex": null,
            "flex_flow": null,
            "grid_area": null,
            "grid_auto_columns": null,
            "grid_auto_flow": null,
            "grid_auto_rows": null,
            "grid_column": null,
            "grid_gap": null,
            "grid_row": null,
            "grid_template_areas": null,
            "grid_template_columns": null,
            "grid_template_rows": null,
            "height": null,
            "justify_content": null,
            "justify_items": null,
            "left": null,
            "margin": null,
            "max_height": null,
            "max_width": null,
            "min_height": null,
            "min_width": null,
            "object_fit": null,
            "object_position": null,
            "order": null,
            "overflow": null,
            "overflow_x": null,
            "overflow_y": null,
            "padding": null,
            "right": null,
            "top": null,
            "visibility": null,
            "width": null
          }
        },
        "25b2da78185141618136c154a66db650": {
          "model_module": "@jupyter-widgets/controls",
          "model_name": "SliderStyleModel",
          "model_module_version": "1.5.0",
          "state": {
            "_model_module": "@jupyter-widgets/controls",
            "_model_module_version": "1.5.0",
            "_model_name": "SliderStyleModel",
            "_view_count": null,
            "_view_module": "@jupyter-widgets/base",
            "_view_module_version": "1.2.0",
            "_view_name": "StyleView",
            "description_width": "",
            "handle_color": null
          }
        },
        "b3cfc562dc3740f39f1ff70636234c03": {
          "model_module": "@jupyter-widgets/base",
          "model_name": "LayoutModel",
          "model_module_version": "1.2.0",
          "state": {
            "_model_module": "@jupyter-widgets/base",
            "_model_module_version": "1.2.0",
            "_model_name": "LayoutModel",
            "_view_count": null,
            "_view_module": "@jupyter-widgets/base",
            "_view_module_version": "1.2.0",
            "_view_name": "LayoutView",
            "align_content": null,
            "align_items": null,
            "align_self": null,
            "border": null,
            "bottom": null,
            "display": null,
            "flex": null,
            "flex_flow": null,
            "grid_area": null,
            "grid_auto_columns": null,
            "grid_auto_flow": null,
            "grid_auto_rows": null,
            "grid_column": null,
            "grid_gap": null,
            "grid_row": null,
            "grid_template_areas": null,
            "grid_template_columns": null,
            "grid_template_rows": null,
            "height": null,
            "justify_content": null,
            "justify_items": null,
            "left": null,
            "margin": null,
            "max_height": null,
            "max_width": null,
            "min_height": null,
            "min_width": null,
            "object_fit": null,
            "object_position": null,
            "order": null,
            "overflow": null,
            "overflow_x": null,
            "overflow_y": null,
            "padding": null,
            "right": null,
            "top": null,
            "visibility": null,
            "width": null
          }
        },
        "af14b7ed3da44052a18fd673d2a5771a": {
          "model_module": "@jupyter-widgets/controls",
          "model_name": "SliderStyleModel",
          "model_module_version": "1.5.0",
          "state": {
            "_model_module": "@jupyter-widgets/controls",
            "_model_module_version": "1.5.0",
            "_model_name": "SliderStyleModel",
            "_view_count": null,
            "_view_module": "@jupyter-widgets/base",
            "_view_module_version": "1.2.0",
            "_view_name": "StyleView",
            "description_width": "",
            "handle_color": null
          }
        }
      }
    }
  },
  "nbformat": 4,
  "nbformat_minor": 0
}