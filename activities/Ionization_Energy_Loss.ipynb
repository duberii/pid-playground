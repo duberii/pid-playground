{
  "cells": [
    {
      "cell_type": "markdown",
      "metadata": {
        "id": "view-in-github",
        "colab_type": "text"
      },
      "source": [
        "<a href=\"https://colab.research.google.com/github/duberii/pid-playground/blob/main/activities/Ionization_Energy_Loss.ipynb\" target=\"_parent\"><img src=\"https://colab.research.google.com/assets/colab-badge.svg\" alt=\"Open In Colab\"/></a>"
      ]
    },
    {
      "cell_type": "markdown",
      "metadata": {
        "id": "dDsATb300uQz"
      },
      "source": [
        "# **Ionization Energy Loss**\n",
        "---\n",
        "Welcome to Particle Identification Playground! This activity is designed to introduce you to ionization energy loss, how it's calculaed, and how it's used to identify particles.\n",
        "**Before attempting this notebook, complete all of the activities in the Getting Started section. Also, be sure to complete the \"Drift Chambers and Tracks\" notebook before this one.**\n",
        "\n",
        "**After completing this notebook, you will be able to:**\n",
        "*   Name the effects that cause different particles to lose different amounts of energy in drift chambers\n",
        "*   Demonstrate the separation power of dE/dx analysis using ROOT’s TH2D class\n",
        "*   Classify different charged particles based on their energy loss at fixed momentum\n",
        "\n",
        "\n",
        "\n",
        "\n"
      ]
    },
    {
      "cell_type": "code",
      "execution_count": 1,
      "metadata": {
        "id": "3BAb7xIS0uQ0",
        "cellView": "form",
        "colab": {
          "base_uri": "https://localhost:8080/"
        },
        "outputId": "e349cc00-0109-44bb-b67b-b0e381af91a5"
      },
      "outputs": [
        {
          "output_type": "stream",
          "name": "stdout",
          "text": [
            "Welcome to JupyROOT 6.28/04\n"
          ]
        }
      ],
      "source": [
        "#@title Run this cell before starting. This may take a few minutes to run.\n",
        "!wget -q https://github.com/MohamedElashri/ROOT/releases/download/ubuntu/root_v6.28.04_Ubuntu_20.04.zip\n",
        "!unzip -o -qq /content/root_v6.28.04_Ubuntu_20.04.zip\n",
        "!apt-get -qq install git dpkg-dev cmake g++ gcc binutils libx11-dev libxpm-dev libxft-dev libxext-dev tar gfortran subversion &> /dev/null 2>&1\n",
        "!rm -f root_v6.28.04_Ubuntu_20.04.zip\n",
        "!wget -q http://archive.ubuntu.com/ubuntu/pool/main/o/openssl/libssl1.1_1.1.1f-1ubuntu2_amd64.deb\n",
        "!sudo dpkg -i libssl1.1_1.1.1f-1ubuntu2_amd64.deb &> /dev/null 2>&1\n",
        "!rm -f libssl1.1_1.1.1f-1ubuntu2_amd64.deb\n",
        "!wget -q -O GlueX_Particle_Gun_Simplified.hdf5 https://github.com/duberii/pid-playground/raw/main/data/GlueX_Particle_Gun_Simplified.hdf5\n",
        "!wget -q -O dEdx_events.hdf5 https://github.com/duberii/pid-playground/raw/main/data/dEdx_events.hdf5\n",
        "import sys\n",
        "sys.path.append(\"/content/root_build/\")\n",
        "sys.path.append(\"/content/root_build/bin/\")\n",
        "sys.path.append(\"/content/root_build/include/\")\n",
        "sys.path.append(\"/content/root_build/lib/\")\n",
        "import ctypes\n",
        "ctypes.cdll.LoadLibrary('/content/root_build/lib//libCore.so')\n",
        "ctypes.cdll.LoadLibrary('/content/root_build/lib//libThread.so')\n",
        "ctypes.cdll.LoadLibrary('/content/root_build/lib//libTreePlayer.so')\n",
        "import pandas\n",
        "from ROOT import *\n",
        "import pandas as pd\n",
        "import numpy as np\n",
        "import plotly.express as pxp\n",
        "import pandas as pd\n",
        "import numpy as np\n",
        "import ipywidgets as widgets\n",
        "from ipywidgets import interactive, fixed, widgets, HBox, VBox, Layout\n",
        "from PIL import Image\n",
        "import plotly as ply\n",
        "import plotly.graph_objects as go\n",
        "class interactive_image():\n",
        "  def __init__(self,image_path=\"\"):\n",
        "    self.figure = go.FigureWidget()\n",
        "    self.figure.add_scatter(x=np.linspace(0,1,1000), y=np.zeros(1000),mode='lines',name='Cut',marker={\"color\":'red'})\n",
        "    if len(image_path)>0:\n",
        "      self.figure.add_layout_image({\"source\":Image.open(image_path),\"xref\":\"x\", \"yref\":\"y\",\"x\": -0.125,\"y\":2.25*10**-5, \"sizex\": 1.25,\"sizey\":2.5*10**-5,\"sizing\":\"stretch\",\"opacity\":1,\"layer\":\"below\"})\n",
        "    self.figure.update_xaxes(range=[0, 1],showgrid=False)\n",
        "    self.figure.update_yaxes(range=[0, 2*10**-5],showgrid=False)\n",
        "    self.figure.update_layout(template=\"plotly_white\",showlegend=False, autosize=False,width=530,height=457,margin=dict(l=30,r=0,b=50,t=50,pad=0), title=\"Ionization Energy Loss vs. Momentum\", xaxis_title=\"Momentum (GeV/c)\", yaxis_title=\"dE/dx\")\n",
        "  def show(self):\n",
        "    self.figure.show()\n",
        "  def update_layout(self, *args, **kwargs):\n",
        "    self.figure.update_layout(*args, **kwargs)\n",
        "  def update(self, *args, **kwargs):\n",
        "    self.figure.update(*args, **kwargs)\n",
        "  def display(self,*args,**kwargs):\n",
        "    widget=interactive(*args,**kwargs)\n",
        "    controls = HBox(widget.children[:-1], layout = Layout(flex_flow='row wrap'))\n",
        "    output = widget.children[-1]\n",
        "    display(VBox([controls, output]))\n",
        "  def update_figure(self,a=1, b=1, c=1):\n",
        "    with self.figure.batch_update():\n",
        "      self.figure.data[0]['y']=10**-6*(np.exp(a*np.linspace(0,1,1000)+b)+c)\n",
        "    self.show()\n",
        "from google.colab import output\n",
        "output.enable_custom_widget_manager()\n",
        "particle_data = pd.read_hdf(\"GlueX_Particle_Gun_Simplified.hdf5\")\n",
        "CDC_hits = pd.read_hdf(\"dEdx_events.hdf5\")"
      ]
    },
    {
      "cell_type": "markdown",
      "metadata": {
        "id": "qGFMaUW_wvia"
      },
      "source": [
        "---\n",
        "##**Ionization Energy Loss**\n",
        "---\n",
        "As mentioned in the previous notebook, drift chambers use the fact that charged particles can strip electrons from atoms as it passes through a gas. This process, known as **Ionization**, transfers some of the energy (and momentum) from the particle to the electrons. Compared to the total energy and momentum of the particle, this loss is small, so it doesn't affect any other measurements that we may want to make. However, we can still measure this energy loss and use it to classify particles.\n",
        "\n",
        "It turns out that different particles will lose energy at different rates in the detector. However, particles also lose different amounts of energy based on the distance they travel in the detector. The greater the distance the particle travels in the detector, the more energy it will lose. To correct for this, we can consider the total energy lost ($dE$) divided by the distance travelled in the detector ($dx$), which yields a quantity called **energy loss per unit length** ($dE/dx$). This quantity should help us distinguish between different particles, which we will explore in later sections."
      ]
    },
    {
      "cell_type": "markdown",
      "metadata": {
        "id": "RmSvyS58yIZd"
      },
      "source": [
        "---\n",
        "##**Calculating Ionization Energy Loss [Optional]**\n",
        "---\n",
        "\n",
        "In this section, we will see how we can calculate the ionization energy loss from individual hits in the CDC. However, the process displayed in this part is done automatically by the detector, so it can be skipped without losing any understanding of the particle identification method that uses ionization energy loss."
      ]
    },
    {
      "cell_type": "markdown",
      "metadata": {
        "id": "jBkvCYfX0l5o"
      },
      "source": [
        "---\n",
        "###**Step 1: Calculating Energy Loss**\n",
        "---\n",
        "\n",
        "To figure out the energy loss per unit length, we first need to find the total energy loss, $dE$. The way $dE$ is calculated is too complex to be worth discussing here (especially since we never calculate it manually), but it is calculated from the timing of the pulses of electricity that we detect and the total charge we detect.\n",
        "\n",
        "\n",
        "We can get an estimate of the total energy lost by assuming that the energy lost is proportional to the charge we detect. Why might we assume this? Recall that a charged particle creates other changed particles in the dirft chamber via ionization, which is the process of removing electrons from atoms. If you have taken a chemistry class, you may recall that electrons sit in energy levels. In other words, all electrons in the same energy level take the same amount of energy to remove them from the atom."
      ]
    },
    {
      "cell_type": "markdown",
      "source": [
        "####**Question #1:**\n",
        "---\n",
        "Let's say that it takes an energy of $E_{ionization}$ to remove a single electron from an atom. If we detect a total charge of $Q$ as a particle passes through a straw, how much energy did the particle lose? In other words, what is $dE$? **Hint:** How can we convert the charge we detected into a number of electrons we detected?"
      ],
      "metadata": {
        "id": "P8LND11iytC4"
      }
    },
    {
      "cell_type": "markdown",
      "source": [
        "Double click to edit this cell and answer the following question: How much energy did the particle lose?"
      ],
      "metadata": {
        "id": "9Iqk394WzZ5N"
      }
    },
    {
      "cell_type": "markdown",
      "source": [
        "#####**Solution:**"
      ],
      "metadata": {
        "id": "9OtWNbTI0IZ9"
      }
    },
    {
      "cell_type": "markdown",
      "source": [
        "It must be true that\n",
        "$$dE = N * E_{ionization}$$\n",
        "where $N$ is the number of electrons we detect. This equation simply says that the total energy lost is equal to the energy lost per electron times the number of electrons.\n",
        "\n",
        "All we have left to do is find the relationship between the charge we detect ($Q$) and the total number of electrons we detected ($N$). To do this, we just notice that if we multiply the total number of electrons detected ($N$) by the charge per electron ($e$), we should get the total charge we detected. In other words,\n",
        "$Q = e*N$\n",
        "If we divide by $e$ on both sides, we get:\n",
        "$$N=\\frac{Q}{e}$$\n",
        "Plugging this into our expression for $dE$, we get:\n",
        "$$\n",
        "dE = \\frac{Q}{e}*E_{ionization}\n",
        "$$\n",
        "where $dE$ is the energy lost in the straw, $Q$ is the total charge we detected, $e$ is the charge of an electron, and $E_{ionization}$ is the energy it takes to remove a single electron from an atom of the gas in the drift chamber."
      ],
      "metadata": {
        "id": "EKo2B1Gb0LRL"
      }
    },
    {
      "cell_type": "markdown",
      "source": [
        "####**Question #2:**\n",
        "---\n",
        "The equation from the previous question is only an estimate of the energy lost, since it only takes into account the ionization energy of the gas. What other kind of energy might an electron have after it is removed from an atom?"
      ],
      "metadata": {
        "id": "8Rsd4Wz92n7E"
      }
    },
    {
      "cell_type": "markdown",
      "source": [
        "Double click to edit this cell and answer the following question: What other kind of energy might an electron have after it is removed from an atom?"
      ],
      "metadata": {
        "id": "r2zgdJ9_2n7N"
      }
    },
    {
      "cell_type": "markdown",
      "source": [
        "#####**Solution:**"
      ],
      "metadata": {
        "id": "1PevtlvX2n7O"
      }
    },
    {
      "cell_type": "markdown",
      "source": [
        "For an electron to be removed from an atom, it has to move! Kinetic energy is the energy associated with motion. Without further information, it is extremely difficult to find out what the kinetic energy of the ionized electrons would be. It depends on what kind of particle is ionizing the atoms and how fast that particle is moving, which we have no way of finding out (in fact, the whole point of us doing this is to figure out the type of particle that is ionizing the atoms- that's the point of PID!).\n",
        "\n",
        "There are tons of other things that could affect the energy loss, but the main three worth mentioning are:\n",
        "\n",
        "1.   A charged particle ionizing multiple electrons from the same atom, which would change the ionization energy\n",
        "2.   A charged particle ionizing an electron from a lower energy level, which would change the ionization energy\n",
        "3.   An ionized electron moves so fast that it ionizes another electron, which would affect our ability to accurately calculate the number of atoms ionized by a charged particle.\n",
        "\n",
        "In practice, the detector gets around all this by \"guessing\" the type of particle that ionized the atoms. This allows it to calculate the energy loss more accurately for each of its guesses, but it doesn't help us figure out which \"guess\" is correct, which is why we still need PID."
      ],
      "metadata": {
        "id": "i3V1D_t_2n7O"
      }
    },
    {
      "cell_type": "markdown",
      "source": [
        "####**Question #3:**\n",
        "---\n",
        "The GlueX Central Drift Chamber uses mainly argon gas. For argon, the average ionization energy is:\n",
        "$$E_{ionization}\\approx 30 \\mbox{ eV} $$\n",
        " Using this information, along with the equation from Question #1, add a `dE` column to the `CDC_hits` dataframe. You can calculate `dE` using the `N` column of the dataframe, which has the number of electrons detected."
      ],
      "metadata": {
        "id": "lmVVVNVU6Dhc"
      }
    },
    {
      "cell_type": "code",
      "source": [
        "CDC_hits['dE']="
      ],
      "metadata": {
        "id": "aWpDrvwt7gem"
      },
      "execution_count": null,
      "outputs": []
    },
    {
      "cell_type": "markdown",
      "source": [
        "#####**Solution:**"
      ],
      "metadata": {
        "id": "P0SDjuBL6Dhl"
      }
    },
    {
      "cell_type": "markdown",
      "source": [
        "We will use the equation: $$\n",
        "dE = N * E_{ionization}\n",
        "$$ where $N$ is the number of electrons detected and $E_{ionization}$ is the ionization energy. See more about this equation in the solution to Question #1."
      ],
      "metadata": {
        "id": "FSWvhYOU8u-b"
      }
    },
    {
      "cell_type": "code",
      "source": [
        "CDC_hits['dE'] = 30 * CDC_hits['q']"
      ],
      "metadata": {
        "id": "DsLtS0Vs8gra"
      },
      "execution_count": 2,
      "outputs": []
    },
    {
      "cell_type": "markdown",
      "metadata": {
        "id": "MGtGdmeQqSQw"
      },
      "source": [
        "---\n",
        "###**Step 2: Calculating Path Length**\n",
        "---\n",
        "\n",
        "The other part of ionization energy loss is $dx$, often called the **path length** of the track. The path length refers to the distance that the particle travelled through the detector. However, we only need to measure the distance that the particle travels inside the straws of the drift chamber. Recall that the Central Drift Chamber (CDC) of the GlueX experiment is actually a straw chamber, meaning it is a bundle of \"straws.\" Each straw is a positive wire surrounded by a negatively charged tube."
      ]
    },
    {
      "cell_type": "markdown",
      "source": [
        "![A figure showing the positive wire surrounded by gas inside of the negative tube](data:image/png;base64,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)"
      ],
      "metadata": {
        "id": "L42Zs5mExWlp"
      }
    },
    {
      "cell_type": "markdown",
      "source": [
        "Over a thousand straws are stacked to form the CDC, but because of the shape of the straws, there are small gaps between them. In these regions, the particles still lose energy, but we can't measure the energy lost. In reality, this isn't an issue because the energy lost while travelling through the drift chamber is so small compared to the total energy of the particle. However, to ensure that we have an accurate rate of energy loss, we only want to consider the distance that the particle travels inside the straw."
      ],
      "metadata": {
        "id": "BWKHzVl0yh-o"
      }
    },
    {
      "cell_type": "markdown",
      "source": [
        "![An image showing a track passing through straws in the GlueX CDC. The parts of the track inside the straw is bolded, while the parts of the track outside of the straws are dashed.](data:image/png;base64,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)"
      ],
      "metadata": {
        "id": "MuPPHVCspXqw"
      }
    },
    {
      "cell_type": "markdown",
      "source": [
        "For example, in the picture above, the dotted portions of the track are outside of all of the straws, so we aren't able to measure the energy lost in those regions.\n",
        "\n",
        "How do we measure the distance the particle travelled inside the straw? Again, this part is a little too complicated to be worth deriving manually. However, we can calculate the distance that the particle travels inside the straw based on the timing of the signal we detect. This is because the majority of the delay in our signal actually comes from the time it takes for the ionized particles to reach the charged wire (the \"drift time\").\n",
        "\n",
        "Run the cell below to add a `dx` column to the `CDC_hits` dataframe, which is calculated based on the timing of the hits. You don't need to modify anything in this cell- just be sure to run it!"
      ],
      "metadata": {
        "id": "o1DkuyWxBWdC"
      }
    },
    {
      "cell_type": "code",
      "source": [
        "CDC_hits['dx']= CDC_hits['t'].apply(lambda t: 1.7*(np.log(0.00033*t+1))**0.5)"
      ],
      "metadata": {
        "id": "_X9pDuHzC7t6"
      },
      "execution_count": 3,
      "outputs": []
    },
    {
      "cell_type": "markdown",
      "source": [
        "---\n",
        "###**Step 3: Calculating Ionization Energy Loss**\n",
        "---\n",
        "\n",
        "We are finally ready to calculate the ionization energy loss! Based on the timing information and the total charge we detect, we can calculate the energy loss ($dE$) and the path length ($dx$) for each hit. However, because the distance travelled in each straw is so small, it's difficult to get an accurate measure of ionization energy loss for an individual straw. However, if we consider the total energy loss of the track and the total path length of the track (but again, only the length of the path inside the straws), we can get a much more accurate value. These are the steps we will take to calculate the ionization energy loss:\n",
        "\n",
        "1.  For every hit, calculate the energy loss ($dE$) and the path length ($dx$).\n",
        "2.  Find the total energy losses and path length for the track.\n",
        "3.  Calculate the ionization energy loss ($dE/dx$).\n",
        "\n",
        "In steps 1 and 2, you completed the first item, so we only need to worry about item 2 and item 3."
      ],
      "metadata": {
        "id": "1SXau_POX7xZ"
      }
    },
    {
      "cell_type": "markdown",
      "source": [
        "####**Question #4:**\n",
        "---\n",
        "Each row in the `CDC_hits` dataframe represents a single track. In the `dE` and `dx` columns you calculated, there is a list that contains the $dE$ and $dx$ values for each hit associated with that track.\n",
        "\n",
        "**Note:** The `sum` method of the dataframe will find the sum of the entire column (instead of taking the sum track-by-track). Instead, to calculate the total energy loss and total path length, you should use the `.apply(sum)`. For example, to calculate the total energy lost by each track, you would do something like:\n",
        "```\n",
        "CDC_hits['total dE']= CDC_hits['dE'].apply(sum)\n",
        "```\n",
        "\n",
        "In the cell below, write code that calculates the sum of the $dE$ values and the sum of the $dx$ values, calculates the ionization energy loss value, then stores the result in another column called `dE/dx`."
      ],
      "metadata": {
        "id": "R3m9Ae9duK3I"
      }
    },
    {
      "cell_type": "code",
      "source": [
        "CDC_hits['dE/dx']="
      ],
      "metadata": {
        "id": "xhi23C9ouI9S"
      },
      "execution_count": null,
      "outputs": []
    },
    {
      "cell_type": "markdown",
      "source": [
        "#####**Solution:**"
      ],
      "metadata": {
        "id": "se5XcP_sw-ht"
      }
    },
    {
      "cell_type": "code",
      "source": [
        "CDC_hits['dE/dx']=CDC_hits['dE'].apply(sum)/CDC_hits['dx'].apply(sum)"
      ],
      "metadata": {
        "id": "SaF5xsj6ufdf"
      },
      "execution_count": 4,
      "outputs": []
    },
    {
      "cell_type": "markdown",
      "source": [
        "---\n",
        "##**Plotting Ionization Energy Loss**\n",
        "---\n",
        "The best way to see how ionization energy loss helps us identify particles is to visualize the relationship between ionization energy loss and momentum. These next few questions will walk you through creating an ionization energy loss plot. It may be useful to review the \"Introduction to ROOT\" and \"2D Histograms in ROOT\" activities before completing this section."
      ],
      "metadata": {
        "id": "su1P_2twadK0"
      }
    },
    {
      "cell_type": "markdown",
      "source": [
        "####**Question #5:**\n",
        "---\n",
        "\n",
        "In the cell below, create a canvas with the following properties using ROOT's TCanvas constructor:\n",
        "\n",
        "\n",
        "\n",
        "*   Name: \"c1\"\n",
        "*   Title: \"Ionization Energy Loss Plot\"\n",
        "*   Width: 700\n",
        "*   Height: 500"
      ],
      "metadata": {
        "id": "TQzi-iOZ8kpz"
      }
    },
    {
      "cell_type": "code",
      "source": [
        "canvas ="
      ],
      "metadata": {
        "id": "ZC8Umjzo-G8_"
      },
      "execution_count": null,
      "outputs": []
    },
    {
      "cell_type": "markdown",
      "source": [
        "#####**Solution:**"
      ],
      "metadata": {
        "id": "XndUDkOv-I81"
      }
    },
    {
      "cell_type": "code",
      "source": [
        "canvas = TCanvas(\"c1\",\"Ionization Energy Loss Plot\",700,500)"
      ],
      "metadata": {
        "id": "j8HPWxWJ-MiL"
      },
      "execution_count": null,
      "outputs": []
    },
    {
      "cell_type": "markdown",
      "source": [
        "####**Question #6:**\n",
        "---\n",
        "In the cell below, create a 2D Histogram with the following properties using ROOT's TH2D constructor:\n",
        "\n",
        "Write code in the cell below to create a histogram with the following properties:\n",
        "\n",
        "*   Name: \"h1\"\n",
        "*   Title: \"Ionization Energy Loss vs. Momentum\"\n",
        "*   X axis label: \"Momentum (GeV/c)\"\n",
        "*   Y axis label: \"Ionization Energy Loss\"\n",
        "*   Number of bins: 200 (both X and Y)\n",
        "*   Minimum X value: 0\n",
        "*   Maximum X value: 1\n",
        "*   Minimum Y value: 0\n",
        "*   Maximum Y value: 0.00002 $\\left (2 * 10^{-5}\\right )$"
      ],
      "metadata": {
        "id": "tHpBTRZq-eFj"
      }
    },
    {
      "cell_type": "code",
      "source": [
        "h1 ="
      ],
      "metadata": {
        "id": "j7Q1w6BK_D0x"
      },
      "execution_count": null,
      "outputs": []
    },
    {
      "cell_type": "markdown",
      "source": [
        "#####**Solution:**"
      ],
      "metadata": {
        "id": "ikGDulIt_FAx"
      }
    },
    {
      "cell_type": "code",
      "source": [
        "h1 = TH2D(\"h1\",\"Ionization Energy Loss vs. Momentum;Momentum (GeV/c);Ionization Energy Loss\",200,0,1,200,0,2*10**-5)"
      ],
      "metadata": {
        "id": "gmaMBCCB_I97"
      },
      "execution_count": null,
      "outputs": []
    },
    {
      "cell_type": "markdown",
      "source": [
        "####**Question #7**\n",
        "---\n",
        "Complete the loop in the cell below to use the Fill method of the TH2D object to fill in the histogram with the momenta and ionization energy losses stored in the dataframe called `particle_data`, which has a column named \"p\" (magnitude of momentum) and a column named \"dEdxCDC\" (ionization energy loss in the Central Drift Chamber). Finally, draw the filled histogram."
      ],
      "metadata": {
        "id": "nUpWJeV4AThJ"
      }
    },
    {
      "cell_type": "code",
      "source": [
        "for row in #Complete this code\n",
        "  #Complete this code\n",
        "h1.Draw('COLZ')\n",
        "gROOT.GetListOfCanvases().Draw()"
      ],
      "metadata": {
        "id": "Z3y3q8ZlB0Ex"
      },
      "execution_count": null,
      "outputs": []
    },
    {
      "cell_type": "markdown",
      "source": [
        "#####**Solution:**"
      ],
      "metadata": {
        "id": "PP8_4LS0CsxT"
      }
    },
    {
      "cell_type": "code",
      "source": [
        "for row in particle_data.iloc:\n",
        "  h1.Fill(row['p'],row['dEdxCDC'])\n",
        "h1.Draw('COLZ')\n",
        "gROOT.GetListOfCanvases().Draw()"
      ],
      "metadata": {
        "colab": {
          "base_uri": "https://localhost:8080/",
          "height": 489
        },
        "id": "Lcox9iXeCvgg",
        "outputId": "801a01fe-95f4-46bb-dcb9-f0beafcb9f4e"
      },
      "execution_count": null,
      "outputs": [
        {
          "output_type": "display_data",
          "data": {
            "image/png": "[encoded data removed]",
            "text/plain": [
              "<IPython.core.display.Image object>"
            ]
          },
          "metadata": {}
        }
      ]
    },
    {
      "cell_type": "markdown",
      "source": [
        "####**Question #8:**\n",
        "---\n",
        "\n",
        "You can also save canvases! In Google Colab, you can just right click and select \"Save Image as\". However, in many other situations, it is useful to save an image in your code. Lucky for us, ROOT's TCanvas class has a `SaveAs` method, which allows us to save an image. The syntax is as follows:\n",
        "```\n",
        "canvas.SaveAs(\"filename.png\")\n",
        "```\n",
        "\n",
        "In the cell below, use the TH2D's `SetStats` method to remove the statistics box from the plot. Then, use TCanvas's `SaveAs` method to save your plot as \"dEdxPlot.png\"."
      ],
      "metadata": {
        "id": "HkFauHXDC38e"
      }
    },
    {
      "cell_type": "code",
      "source": [],
      "metadata": {
        "id": "Q3y-EZunEnMj"
      },
      "execution_count": null,
      "outputs": []
    },
    {
      "cell_type": "markdown",
      "source": [
        "#####**Solution:**"
      ],
      "metadata": {
        "id": "l3tYE9KiEnlT"
      }
    },
    {
      "cell_type": "code",
      "source": [
        "h1.SetStats(0)\n",
        "canvas.SaveAs(\"dEdxPlot.png\")"
      ],
      "metadata": {
        "colab": {
          "base_uri": "https://localhost:8080/"
        },
        "id": "TfPxoU2PEqjL",
        "outputId": "3009ba9c-30ce-4ad6-b1f9-07de7a92ff07"
      },
      "execution_count": null,
      "outputs": [
        {
          "output_type": "stream",
          "name": "stderr",
          "text": [
            "Info in <TCanvas::Print>: png file dEdxPlot.png has been created\n"
          ]
        }
      ]
    },
    {
      "cell_type": "markdown",
      "source": [
        "**Note:** To check that your solution worked, you can click the folder icon shown to the left, which should show you all of the files that are saved on the remote computer that this notebook is running on. You should see a file in the menu called \"dEdxPlot.png\". If you'd like, you can right click the file and select \"Download\" to download the image to your computer. Otherwise, the file will be deleted when you close out of the notebook (files are not saved in Google Colab, but the code is saved, so you can come back and recreate the image at any time!)"
      ],
      "metadata": {
        "id": "MvpDaliuExbo"
      }
    },
    {
      "cell_type": "markdown",
      "source": [
        "#### **Question #9:**\n",
        "---\n",
        "If you completed the \"Calculating Ionization Energy Loss\" section, the `CDC_hits` dataframe should also have columns titled `p` and `dE/dx`. Create a 2D histogram of momentum vs. rate of ionization energy loss. Note that because the ionization energy loss is in a different unit than those in previous questions, the y range of your plot should be much larger. Try using these properties:\n",
        "\n",
        "*   Name: \"h1\"\n",
        "*   Title: \"Ionization Energy Loss vs. Momentum\"\n",
        "*   X axis label: \"Momentum (GeV/c)\"\n",
        "*   Y axis label: \"Ionization Energy Loss\"\n",
        "*   Number of bins: 200 (both X and Y)\n",
        "*   Minimum X value: 0\n",
        "*   Maximum X value: 1\n",
        "*   Minimum Y value: 0\n",
        "*   Maximum Y value: 10000000\n",
        "\n",
        "\n",
        "What do you notice about this plot?"
      ],
      "metadata": {
        "id": "1Hjh-q7kxKMz"
      }
    },
    {
      "cell_type": "code",
      "source": [
        "c1 ="
      ],
      "metadata": {
        "id": "uzmKnQwez-xN"
      },
      "execution_count": null,
      "outputs": []
    },
    {
      "cell_type": "markdown",
      "source": [
        "Double click to edit this cell and answer the following question: What do you notice about this plot?"
      ],
      "metadata": {
        "id": "1nKWCcbp3LSL"
      }
    },
    {
      "cell_type": "markdown",
      "source": [
        "#####**Solution:**"
      ],
      "metadata": {
        "id": "tR9c8yBWz_ZH"
      }
    },
    {
      "cell_type": "code",
      "source": [
        "c1 = TCanvas(\"c1\",\"c1\",700,500)\n",
        "h1 = TH2D(\"h1\",\"Ionization Energy Loss vs. Momentum;Momentum (GeV/c);Ionization Energy Loss\",200,0,1,200,0,10000000)\n",
        "for row in CDC_hits.iloc:\n",
        "  h1.Fill(row['p'],row['dE/dx'])\n",
        "h1.SetStats(0)\n",
        "h1.Draw('COLZ')\n",
        "gROOT.GetListOfCanvases().Draw()"
      ],
      "metadata": {
        "colab": {
          "base_uri": "https://localhost:8080/",
          "height": 489
        },
        "id": "BTLETRPuAD7Z",
        "outputId": "57d87100-24e0-4fa5-ff52-26a0cafb3744"
      },
      "execution_count": 5,
      "outputs": [
        {
          "output_type": "display_data",
          "data": {
            "image/png": "[encoded data removed]",
            "text/plain": [
              "<IPython.core.display.Image object>"
            ]
          },
          "metadata": {}
        }
      ]
    },
    {
      "cell_type": "markdown",
      "source": [
        "Because we only estimated the energy loss, the plot doesn't look as nice as the other ones. However, we can still see one faint stripe (a vertical line around 0.3 GeV/c in momentum), which likely corresponds to a specific particle. However, the vast majority of the points are closer to 1 GeV/c in momentum and have very low energy loss, which is seen in the more accurate plots as well."
      ],
      "metadata": {
        "id": "hh9oEX2P3UQA"
      }
    },
    {
      "cell_type": "markdown",
      "source": [
        "---\n",
        "## **Interpreting Ionization Energy Loss Plots**\n",
        "---\n",
        "In the previous questions, you created a plot that looked something like this one:"
      ],
      "metadata": {
        "id": "K8IX2VS93ULP"
      }
    },
    {
      "cell_type": "code",
      "source": [
        "# @title\n",
        "canvas = TCanvas(\"c1\",\"Ionization Energy Loss Plot\",700,500)\n",
        "h1 = TH2D(\"h1\",\"Ionization Energy Loss vs. Momentum;Momentum (GeV/c);Ionization Energy Loss\",200,0,1,200,0,2*10**-5)\n",
        "for row in particle_data.iloc:\n",
        "  h1.Fill(row['p'],row['dEdxCDC'])\n",
        "h1.SetStats(0)\n",
        "h1.Draw('COLZ')\n",
        "gROOT.GetListOfCanvases().Draw()"
      ],
      "metadata": {
        "colab": {
          "base_uri": "https://localhost:8080/",
          "height": 524
        },
        "cellView": "form",
        "id": "S4ZI8ZbUGwig",
        "outputId": "cc538d97-735e-4f81-875e-41193e7b4b93"
      },
      "execution_count": null,
      "outputs": [
        {
          "output_type": "stream",
          "name": "stderr",
          "text": [
            "Warning in <TCanvas::Constructor>: Deleting canvas with same name: c1\n",
            "Warning in <TROOT::Append>: Replacing existing TH1: h1 (Potential memory leak).\n"
          ]
        },
        {
          "output_type": "display_data",
          "data": {
            "image/png": "[encoded data removed]",
            "text/plain": [
              "<IPython.core.display.Image object>"
            ]
          },
          "metadata": {}
        }
      ]
    },
    {
      "cell_type": "markdown",
      "source": [
        "You may notice that there are a few different stripes on the histogram where the bins are extra full. Each of these stripes correspond to a different particle we detect! For low momentum (below 0.7 GeV/c), you'll notice that the different stripes are pretty far apart, which makes it pretty easy to tell them apart. However, at higher momentum (above 0.7 GeV/c), all of the stripes start to blend together, which makes high-momentum particles extremely difficult to identify. However, at lower momentum, ionization energy loss is an extremely powerful method of particle identification."
      ],
      "metadata": {
        "id": "SJjjvyQnLEiC"
      }
    },
    {
      "cell_type": "markdown",
      "source": [
        "###**Question #10:**\n",
        "---\n",
        "The code below plots the ionization energy loss and momentum for particles identified as protons. Use the dropdown menu to change the particle that is plotted. Try to identify all of the stripes in the histogram shown above."
      ],
      "metadata": {
        "id": "6QbMFVDoQCk-"
      }
    },
    {
      "cell_type": "code",
      "source": [
        "# @title { run: \"auto\" }\n",
        "particle_to_plot = \"Proton\" # @param [\"Proton\", \"Kaon+\", \"Pion+\", \"Electron\"]\n",
        "canvas = TCanvas(\"c1\",\"Ionization Energy Loss Plot\",700,500)\n",
        "h1 = TH2D(\"h1\",\"Ionization Energy Loss vs. Momentum for \" + particle_to_plot + \"s;Momentum (GeV/c);Ionization Energy Loss\",200,0,1,200,0,2*10**-5)\n",
        "for row in particle_data.loc[particle_data['Particle']== particle_to_plot].iloc:\n",
        "  h1.Fill(row['p'],row['dEdxCDC'])\n",
        "h1.SetStats(0)\n",
        "h1.Draw('COLZ')\n",
        "gROOT.GetListOfCanvases().Draw()"
      ],
      "metadata": {
        "colab": {
          "base_uri": "https://localhost:8080/",
          "height": 524
        },
        "cellView": "form",
        "id": "x2YApYYiRErv",
        "outputId": "e64dcd9a-1e46-41ea-d7b7-c1017f839a81"
      },
      "execution_count": null,
      "outputs": [
        {
          "output_type": "stream",
          "name": "stderr",
          "text": [
            "Warning in <TCanvas::Constructor>: Deleting canvas with same name: c1\n",
            "Warning in <TROOT::Append>: Replacing existing TH1: h1 (Potential memory leak).\n"
          ]
        },
        {
          "output_type": "display_data",
          "data": {
            "image/png": "[encoded data removed]",
            "text/plain": [
              "<IPython.core.display.Image object>"
            ]
          },
          "metadata": {}
        }
      ]
    },
    {
      "cell_type": "markdown",
      "source": [
        "####**Solution:**"
      ],
      "metadata": {
        "id": "Iuux1yTrUZRN"
      }
    },
    {
      "cell_type": "markdown",
      "source": [
        "![A labelled dE/dx plot](data:image/png;base64,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)"
      ],
      "metadata": {
        "id": "tCBUANuoUmuW"
      }
    },
    {
      "cell_type": "markdown",
      "source": [
        "From top to bottom, we have Protons, Kaons, Electrons, then Pions."
      ],
      "metadata": {
        "id": "OhnP5jFLUsux"
      }
    },
    {
      "cell_type": "markdown",
      "source": [
        "---\n",
        "##**Making Cuts**\n",
        "---\n",
        "\n",
        "In order to turn these stripes into a classification tool, we use **cuts**. Cuts are conditions that we use to make restrictions on our data. In many cases, our cuts take the form of inequalities. For example, we may say that if the mass of a particle is greater than 0.7 GeV/c^2, then it is a Proton. The corresponding cut would be $m>0.7$, where $m$ is the mass of the particle.\n",
        "\n",
        "\n",
        "For ionization energy loss, our cuts are a little more complicated. The stripes resemble exponential decays, so we use cuts of the form:\n",
        "$$\n",
        "dE/dx * 10^6 > e^{a*p + b}+c\n",
        "$$\n",
        "or $$\n",
        "dE/dx * 10^6 < e^{a*p + b}+c\n",
        "$$\n",
        "where $dE/dx$ is the ionization energy loss, $e$ is Euler's constant, $p$ is the magnitude of momentum, and $a, b,$ and $c$ are constants that we can change to find a good cut. Multiplying the ionization energy loss by $10^6$ makes it so that the constants $a$, $b$, and $c$ don't have to be rediculously small.\n",
        "\n",
        "Below, you can change the sliders for $a$, $b$, and $c$ to see their effect on the graph."
      ],
      "metadata": {
        "id": "fNYNmvzuU2fE"
      }
    },
    {
      "cell_type": "code",
      "source": [
        "# @title\n",
        "fig = interactive_image()\n",
        "fig.update()\n",
        "fig.display(fig.update_figure, a=(-10,0,0.01),b=(0,10,0.01), c=(0,10,0.01))"
      ],
      "metadata": {
        "colab": {
          "base_uri": "https://localhost:8080/",
          "height": 506,
          "referenced_widgets": [
            "641179d79cc04119a3fce1a52ef634d0",
            "999d58df290c4a8f9ddf4b90afb299a1",
            "6ff05b7719974d90a4e000bce70c2b61",
            "760e9c3de5a943958d2f8e44114905de",
            "e5a3a8e39ae644a8810dea7230b5fe45",
            "03d18882dde44246bb856dc4c98cb226",
            "d016bffdd8a04c5ea17511ffeaa79441",
            "ee2ea98d2c9b4515a1bad4a441d7f8c4",
            "22351212d8e2463ca8a09023172865ca",
            "e26f551951324fa489e06f9971f12eb9",
            "c1966c271b79475c94f08205cdea334b",
            "867ca80a417b4423adc894942b7a6b33",
            "4f553b9c0b9f42acb7fafc4954a87911",
            "9339fcb2d6f845e1a625cfd2449647d7",
            "071a1372553f48619ea0cd410c95e647"
          ]
        },
        "cellView": "form",
        "id": "hO3-hK3-ZY7p",
        "outputId": "a2d08e01-9ce5-48c6-b422-169cb45a0cf7"
      },
      "execution_count": null,
      "outputs": [
        {
          "output_type": "display_data",
          "data": {
            "text/plain": [
              "VBox(children=(HBox(children=(FloatSlider(value=0.0, description='a', max=0.0, min=-10.0, step=0.01), FloatSli…"
            ],
            "application/vnd.jupyter.widget-view+json": {
              "version_major": 2,
              "version_minor": 0,
              "model_id": "641179d79cc04119a3fce1a52ef634d0"
            }
          },
          "metadata": {
            "application/vnd.jupyter.widget-view+json": {
              "colab": {
                "custom_widget_manager": {
                  "url": "https://ssl.gstatic.com/colaboratory-static/widgets/colab-cdn-widget-manager/2b70e893a8ba7c0f/manager.min.js"
                }
              }
            }
          }
        }
      ]
    },
    {
      "cell_type": "markdown",
      "source": [
        "Notice that $a$ changes how curved the line is, $b$ stretches it vertically, and $c$ just moves the line up and down. These three constants are enough to get extremely powerful cuts.\n",
        "\n",
        "For example, the interactive plot shown below plots the graph of our cut over the ionization energy loss plot for protons."
      ],
      "metadata": {
        "id": "_K7JawlAZ0Et"
      }
    },
    {
      "cell_type": "code",
      "source": [
        "# @title\n",
        "particle_to_plot=\"Proton\"\n",
        "canvas = TCanvas(\"c1\",\"Ionization Energy Loss Plot\",700,500)\n",
        "h1 = TH2D(\"h1\",\"Ionization Energy Loss vs. Momentum for \" + particle_to_plot + \"s;Momentum (GeV/c);Ionization Energy Loss\",200,0,1,200,0,2*10**-5)\n",
        "for row in particle_data.loc[particle_data['Particle']== particle_to_plot].iloc:\n",
        "  h1.Fill(row['p'],row['dEdxCDC'])\n",
        "h1.SetStats(0)\n",
        "h1.Draw('COLZ')\n",
        "canvas.SaveAs(\"Proton.png\")\n",
        "fig = interactive_image(\"Proton.png\")\n",
        "fig.update()\n",
        "fig.display(fig.update_figure, a=(-10,0,0.01),b=(0,10,0.01), c=(0,10,0.01))"
      ],
      "metadata": {
        "colab": {
          "base_uri": "https://localhost:8080/",
          "height": 558,
          "referenced_widgets": [
            "efdb6ad81339404eba2c7ebd6f25b0de",
            "e6300ac329f746eda0eb71c24eccd22c",
            "d147da13efaa4a0fa7bcee78af4e4850",
            "cd0dd5afb2044d8a820ffd0dbdd30a14",
            "234168a0152344acbb9f31164ebe108c",
            "4f52288facf0472e91a7e279b443dc54",
            "56a93ade2ba446b0ad62510b7b3c79dc",
            "1726232a2b954ddd943bcf8bf3f6479f",
            "6b7d0e418830424ea93c6b256744611a",
            "1b18600fe81e4f39ac592d21cc11b3f5",
            "a5adfc2a5dec4165a630ecf62a30e347",
            "9b7c448d7e75431a9dd8b35b0112f269",
            "b758ed8df42543378c3efbb27eaf6d79",
            "80e1059e0ffb4fab85c145ac1cee9ad8",
            "953dfa13144f45b9bd599ae76e8ef5b7"
          ]
        },
        "cellView": "form",
        "id": "55zhx63YcVkX",
        "outputId": "e3cbb774-80b8-4be1-af1e-927406f07ba7"
      },
      "execution_count": null,
      "outputs": [
        {
          "output_type": "display_data",
          "data": {
            "text/plain": [
              "VBox(children=(HBox(children=(FloatSlider(value=0.0, description='a', max=0.0, min=-10.0, step=0.01), FloatSli…"
            ],
            "application/vnd.jupyter.widget-view+json": {
              "version_major": 2,
              "version_minor": 0,
              "model_id": "efdb6ad81339404eba2c7ebd6f25b0de"
            }
          },
          "metadata": {
            "application/vnd.jupyter.widget-view+json": {
              "colab": {
                "custom_widget_manager": {
                  "url": "https://ssl.gstatic.com/colaboratory-static/widgets/colab-cdn-widget-manager/2b70e893a8ba7c0f/manager.min.js"
                }
              }
            }
          }
        },
        {
          "output_type": "stream",
          "name": "stderr",
          "text": [
            "Warning in <TCanvas::Constructor>: Deleting canvas with same name: c1\n",
            "Warning in <TROOT::Append>: Replacing existing TH1: h1 (Potential memory leak).\n",
            "Info in <TCanvas::Print>: png file Proton.png has been created\n"
          ]
        }
      ]
    },
    {
      "cell_type": "markdown",
      "source": [
        "If we set $a=-4.8$, $b=3.6$, and $c=1.5$, we get a line that seperates the proton curve (displayed above) from all of the other curves. Therefore, when classifying our particles, we could say that a particle is a proton if:\n",
        "$$\n",
        "dE/dx > e^{(-4.8*p+3.6)}+1.5\n",
        "$$"
      ],
      "metadata": {
        "id": "eTQjkAgDdbV9"
      }
    },
    {
      "cell_type": "markdown",
      "source": [
        "###**Question #11:**\n",
        "---\n",
        "Repeat the process described above to find cuts that help classify kaons and electrons. Having a cut for pions is not necessary, since if a particle is not a proton, kaon, or electron, then it must be a pion."
      ],
      "metadata": {
        "id": "Dbz0hDlGaZ1M"
      }
    },
    {
      "cell_type": "code",
      "source": [
        "# @title { run: \"auto\" }\n",
        "particle_to_plot = \"Proton\" # @param [\"Proton\", \"Kaon+\", \"Pion+\", \"Electron\"]\n",
        "canvas = TCanvas(\"c1\",\"Ionization Energy Loss Plot\",700,500)\n",
        "h1 = TH2D(\"h1\",\"Ionization Energy Loss vs. Momentum for \" + particle_to_plot + \"s;Momentum (GeV/c);Ionization Energy Loss\",200,0,1,200,0,2*10**-5)\n",
        "for row in particle_data.loc[particle_data['Particle']== particle_to_plot].iloc:\n",
        "  h1.Fill(row['p'],row['dEdxCDC'])\n",
        "h1.SetStats(0)\n",
        "h1.Draw('COLZ')\n",
        "canvas.SaveAs(particle_to_plot + \".png\")\n",
        "fig = interactive_image(particle_to_plot + \".png\")\n",
        "fig.update()\n",
        "fig.display(fig.update_figure, a=(-10,0,0.01),b=(0,10,0.01), c=(0,10,0.01))"
      ],
      "metadata": {
        "colab": {
          "base_uri": "https://localhost:8080/",
          "height": 558,
          "referenced_widgets": [
            "579c815131414326a81c0a46f5a7ae3a",
            "880ffab5b1f54bf38beb81a74d2292b3",
            "7bb275a6c540452282499b42ed56472d",
            "cbbd855f7b4c412ca228304e8e275957",
            "7e8d265c225e4fdea04aee146d32e51d",
            "d764206e06bd4d2e85c165f77be0b6ec",
            "f699990756b64ae5b4cce535801f3564",
            "2f03eca3029f41dab17997008f6b112c",
            "15c3a45ac57e47bf860ff5b5ed0917e5",
            "37d400353ea143a7a28af9323da10885",
            "7e11861123b24ce88705b72c158fab6d",
            "5bf7d51cf7e24abc812ae60dd4a4de0e",
            "d706c986b0e646b2a785d11cae9fa425",
            "7580b0affe5d4ad49fa17016e98abe32",
            "7fc10a9ae86045c2b9f385b37f856f23"
          ]
        },
        "id": "XHZ4Ct9g2jr1",
        "outputId": "96323eee-0066-4111-d0a7-59da7925ebd8",
        "cellView": "form"
      },
      "execution_count": null,
      "outputs": [
        {
          "output_type": "display_data",
          "data": {
            "text/plain": [
              "VBox(children=(HBox(children=(FloatSlider(value=0.0, description='a', max=0.0, min=-10.0, step=0.01), FloatSli…"
            ],
            "application/vnd.jupyter.widget-view+json": {
              "version_major": 2,
              "version_minor": 0,
              "model_id": "579c815131414326a81c0a46f5a7ae3a"
            }
          },
          "metadata": {
            "application/vnd.jupyter.widget-view+json": {
              "colab": {
                "custom_widget_manager": {
                  "url": "https://ssl.gstatic.com/colaboratory-static/widgets/colab-cdn-widget-manager/2b70e893a8ba7c0f/manager.min.js"
                }
              }
            }
          }
        },
        {
          "output_type": "stream",
          "name": "stderr",
          "text": [
            "Warning in <TCanvas::Constructor>: Deleting canvas with same name: c1\n",
            "Warning in <TROOT::Append>: Replacing existing TH1: h1 (Potential memory leak).\n",
            "Info in <TCanvas::Print>: png file Proton.png has been created\n"
          ]
        }
      ]
    },
    {
      "cell_type": "markdown",
      "source": [
        "####**Solution:**"
      ],
      "metadata": {
        "id": "a2HfciCQgJKm"
      }
    },
    {
      "cell_type": "markdown",
      "source": [
        "**Proton:**$$\n",
        "dE/dx > e^{(-4.8*p+3.6)}+1.5\n",
        "$$\n",
        "**Kaon:**$$\n",
        "dE/dx > e^{(-6.8*p+3.2)}+1.1\n",
        "$$\n",
        "**Electron:**$$\n",
        "dE/dx > e^{(0*p+0)}+1.1\n",
        "$$\n",
        "or\n",
        "$$\n",
        "dE/dx > 2.1\n",
        "$$"
      ],
      "metadata": {
        "id": "W04JYfFPgMv2"
      }
    },
    {
      "cell_type": "markdown",
      "source": [
        "###**Question #12:**\n",
        "---\n",
        "Finally, we will define a function to classify particles! Complete the function definition shown below to apply the cuts and identify particles based on their momentum and ionization energy loss! **Hint:** use `np.exp(a)` to calculate $e^a$."
      ],
      "metadata": {
        "id": "RfwOZzaVg6Ne"
      }
    },
    {
      "cell_type": "code",
      "source": [
        "def identify_particle(p, dEdx):\n",
        "  if #Condition for proton\n",
        "    return \"Proton\"\n",
        "  elif #Condition for kaon\n",
        "    return \"Kaon\"\n",
        "  elif #Condition for electron\n",
        "    return \"Electron\"\n",
        "  else:\n",
        "    return \"Pion\""
      ],
      "metadata": {
        "id": "E0laz-nGg3NF"
      },
      "execution_count": null,
      "outputs": []
    },
    {
      "cell_type": "markdown",
      "source": [
        "####**Solution:**"
      ],
      "metadata": {
        "id": "9xgB3nAohr0F"
      }
    },
    {
      "cell_type": "code",
      "source": [
        "def identify_particle(p, dEdx):\n",
        "  if dEdx *10**6> np.exp(-4.8*p+3.6)+1.5:\n",
        "    return \"Proton\"\n",
        "  elif dEdx *10**6> np.exp(-6.8*p+3.2)+1.1:\n",
        "    return \"Kaon+\"\n",
        "  elif dEdx *10**6> 2.1:\n",
        "    return \"Electron\"\n",
        "  else:\n",
        "    return \"Pion+\""
      ],
      "metadata": {
        "id": "WB3vG4aChui5"
      },
      "execution_count": null,
      "outputs": []
    }
  ],
  "metadata": {
    "colab": {
      "provenance": [],
      "collapsed_sections": [
        "P8LND11iytC4",
        "9OtWNbTI0IZ9",
        "8Rsd4Wz92n7E",
        "1PevtlvX2n7O",
        "lmVVVNVU6Dhc",
        "P0SDjuBL6Dhl",
        "R3m9Ae9duK3I",
        "se5XcP_sw-ht",
        "TQzi-iOZ8kpz",
        "XndUDkOv-I81",
        "tHpBTRZq-eFj",
        "ikGDulIt_FAx",
        "nUpWJeV4AThJ",
        "PP8_4LS0CsxT",
        "HkFauHXDC38e",
        "l3tYE9KiEnlT",
        "1Hjh-q7kxKMz",
        "tR9c8yBWz_ZH",
        "6QbMFVDoQCk-",
        "Iuux1yTrUZRN",
        "Dbz0hDlGaZ1M",
        "a2HfciCQgJKm",
        "RfwOZzaVg6Ne",
        "9xgB3nAohr0F"
      ],
      "authorship_tag": "ABX9TyM1iYxdjUA6QAuchcBPBcpd",
      "include_colab_link": true
    },
    "kernelspec": {
      "display_name": "Python 3",
      "name": "python3"
    },
    "language_info": {
      "name": "python"
    },
    "widgets": {
      "application/vnd.jupyter.widget-state+json": {
        "641179d79cc04119a3fce1a52ef634d0": {
          "model_module": "@jupyter-widgets/controls",
          "model_name": "VBoxModel",
          "model_module_version": "1.5.0",
          "state": {
            "_dom_classes": [],
            "_model_module": "@jupyter-widgets/controls",
            "_model_module_version": "1.5.0",
            "_model_name": "VBoxModel",
            "_view_count": null,
            "_view_module": "@jupyter-widgets/controls",
            "_view_module_version": "1.5.0",
            "_view_name": "VBoxView",
            "box_style": "",
            "children": [
              "IPY_MODEL_999d58df290c4a8f9ddf4b90afb299a1",
              "IPY_MODEL_6ff05b7719974d90a4e000bce70c2b61"
            ],
            "layout": "IPY_MODEL_760e9c3de5a943958d2f8e44114905de"
          }
        },
        "999d58df290c4a8f9ddf4b90afb299a1": {
          "model_module": "@jupyter-widgets/controls",
          "model_name": "HBoxModel",
          "model_module_version": "1.5.0",
          "state": {
            "_dom_classes": [],
            "_model_module": "@jupyter-widgets/controls",
            "_model_module_version": "1.5.0",
            "_model_name": "HBoxModel",
            "_view_count": null,
            "_view_module": "@jupyter-widgets/controls",
            "_view_module_version": "1.5.0",
            "_view_name": "HBoxView",
            "box_style": "",
            "children": [
              "IPY_MODEL_e5a3a8e39ae644a8810dea7230b5fe45",
              "IPY_MODEL_03d18882dde44246bb856dc4c98cb226",
              "IPY_MODEL_d016bffdd8a04c5ea17511ffeaa79441"
            ],
            "layout": "IPY_MODEL_ee2ea98d2c9b4515a1bad4a441d7f8c4"
          }
        },
        "6ff05b7719974d90a4e000bce70c2b61": {
          "model_module": "@jupyter-widgets/output",
          "model_name": "OutputModel",
          "model_module_version": "1.0.0",
          "state": {
            "_dom_classes": [],
            "_model_module": "@jupyter-widgets/output",
            "_model_module_version": "1.0.0",
            "_model_name": "OutputModel",
            "_view_count": null,
            "_view_module": "@jupyter-widgets/output",
            "_view_module_version": "1.0.0",
            "_view_name": "OutputView",
            "layout": "IPY_MODEL_22351212d8e2463ca8a09023172865ca",
            "msg_id": "",
            "outputs": [
              {
                "output_type": "display_data",
                "data": {
                  "text/html": "<html>\n<head><meta charset=\"utf-8\" /></head>\n<body>\n    <div>            <script src=\"https://cdnjs.cloudflare.com/ajax/libs/mathjax/2.7.5/MathJax.js?config=TeX-AMS-MML_SVG\"></script><script type=\"text/javascript\">if (window.MathJax && window.MathJax.Hub && window.MathJax.Hub.Config) {window.MathJax.Hub.Config({SVG: {font: \"STIX-Web\"}});}</script>                <script type=\"text/javascript\">window.PlotlyConfig = {MathJaxConfig: 'local'};</script>\n        <script charset=\"utf-8\" src=\"https://cdn.plot.ly/plotly-2.24.1.min.js\"></script>                <div id=\"98ce43c2-8a4f-4ce3-a520-2b0622894e71\" class=\"plotly-graph-div\" style=\"height:457px; width:530px;\"></div>            <script type=\"text/javascript\">                                    window.PLOTLYENV=window.PLOTLYENV || {};                                    if (document.getElementById(\"98ce43c2-8a4f-4ce3-a520-2b0622894e71\")) {                    Plotly.newPlot(                        \"98ce43c2-8a4f-4ce3-a520-2b0622894e71\",                        [{\"marker\":{\"color\":\"red\"},\"mode\":\"lines\",\"name\":\"Cut\",\"x\":[0.0,0.001001001001001001,0.002002002002002002,0.003003003003003003,0.004004004004004004,0.005005005005005005,0.006006006006006006,0.007007007007007007,0.008008008008008008,0.009009009009009009,0.01001001001001001,0.011011011011011011,0.012012012012012012,0.013013013013013013,0.014014014014014014,0.015015015015015015,0.016016016016016016,0.017017017017017015,0.018018018018018018,0.01901901901901902,0.02002002002002002,0.02102102102102102,0.022022022022022022,0.023023023023023025,0.024024024024024024,0.025025025025025023,0.026026026026026026,0.02702702702702703,0.028028028028028028,0.029029029029029027,0.03003003003003003,0.031031031031031032,0.03203203203203203,0.03303303303303303,0.03403403403403403,0.035035035035035036,0.036036036036036036,0.037037037037037035,0.03803803803803804,0.03903903903903904,0.04004004004004004,0.04104104104104104,0.04204204204204204,0.043043043043043044,0.044044044044044044,0.04504504504504504,0.04604604604604605,0.04704704704704705,0.04804804804804805,0.04904904904904905,0.050050050050050046,0.05105105105105105,0.05205205205205205,0.05305305305305305,0.05405405405405406,0.055055055055055056,0.056056056056056056,0.057057057057057055,0.058058058058058054,0.05905905905905906,0.06006006006006006,0.06106106106106106,0.062062062062062065,0.06306306306306306,0.06406406406406406,0.06506506506506507,0.06606606606606606,0.06706706706706707,0.06806806806806806,0.06906906906906907,0.07007007007007007,0.07107107107107107,0.07207207207207207,0.07307307307307308,0.07407407407407407,0.07507507507507508,0.07607607607607608,0.07707707707707707,0.07807807807807808,0.07907907907907907,0.08008008008008008,0.08108108108108109,0.08208208208208208,0.08308308308308308,0.08408408408408408,0.08508508508508508,0.08608608608608609,0.08708708708708708,0.08808808808808809,0.0890890890890891,0.09009009009009009,0.09109109109109109,0.0920920920920921,0.09309309309309309,0.0940940940940941,0.09509509509509509,0.0960960960960961,0.0970970970970971,0.0980980980980981,0.0990990990990991,0.10010010010010009,0.1011011011011011,0.1021021021021021,0.1031031031031031,0.1041041041041041,0.10510510510510511,0.1061061061061061,0.10710710710710711,0.10810810810810811,0.1091091091091091,0.11011011011011011,0.1111111111111111,0.11211211211211211,0.11311311311311312,0.11411411411411411,0.11511511511511512,0.11611611611611611,0.11711711711711711,0.11811811811811812,0.11911911911911911,0.12012012012012012,0.12112112112112113,0.12212212212212212,0.12312312312312312,0.12412412412412413,0.12512512512512514,0.12612612612612611,0.12712712712712712,0.12812812812812813,0.12912912912912913,0.13013013013013014,0.13113113113113112,0.13213213213213212,0.13313313313313313,0.13413413413413414,0.13513513513513514,0.13613613613613612,0.13713713713713713,0.13813813813813813,0.13913913913913914,0.14014014014014015,0.14114114114114115,0.14214214214214213,0.14314314314314314,0.14414414414414414,0.14514514514514515,0.14614614614614616,0.14714714714714713,0.14814814814814814,0.14914914914914915,0.15015015015015015,0.15115115115115116,0.15215215215215216,0.15315315315315314,0.15415415415415415,0.15515515515515516,0.15615615615615616,0.15715715715715717,0.15815815815815815,0.15915915915915915,0.16016016016016016,0.16116116116116116,0.16216216216216217,0.16316316316316315,0.16416416416416416,0.16516516516516516,0.16616616616616617,0.16716716716716717,0.16816816816816815,0.16916916916916916,0.17017017017017017,0.17117117117117117,0.17217217217217218,0.17317317317317318,0.17417417417417416,0.17517517517517517,0.17617617617617617,0.17717717717717718,0.1781781781781782,0.17917917917917917,0.18018018018018017,0.18118118118118118,0.18218218218218218,0.1831831831831832,0.1841841841841842,0.18518518518518517,0.18618618618618618,0.1871871871871872,0.1881881881881882,0.1891891891891892,0.19019019019019018,0.19119119119119118,0.1921921921921922,0.1931931931931932,0.1941941941941942,0.19519519519519518,0.1961961961961962,0.1971971971971972,0.1981981981981982,0.1991991991991992,0.20020020020020018,0.2012012012012012,0.2022022022022022,0.2032032032032032,0.2042042042042042,0.20520520520520522,0.2062062062062062,0.2072072072072072,0.2082082082082082,0.2092092092092092,0.21021021021021022,0.2112112112112112,0.2122122122122122,0.2132132132132132,0.21421421421421422,0.21521521521521522,0.21621621621621623,0.2172172172172172,0.2182182182182182,0.21921921921921922,0.22022022022022023,0.22122122122122123,0.2222222222222222,0.22322322322322322,0.22422422422422422,0.22522522522522523,0.22622622622622623,0.2272272272272272,0.22822822822822822,0.22922922922922923,0.23023023023023023,0.23123123123123124,0.23223223223223222,0.23323323323323322,0.23423423423423423,0.23523523523523523,0.23623623623623624,0.23723723723723725,0.23823823823823823,0.23923923923923923,0.24024024024024024,0.24124124124124124,0.24224224224224225,0.24324324324324323,0.24424424424424424,0.24524524524524524,0.24624624624624625,0.24724724724724725,0.24824824824824826,0.24924924924924924,0.2502502502502503,0.25125125125125125,0.25225225225225223,0.25325325325325326,0.25425425425425424,0.2552552552552553,0.25625625625625625,0.25725725725725723,0.25825825825825827,0.25925925925925924,0.2602602602602603,0.26126126126126126,0.26226226226226224,0.26326326326326327,0.26426426426426425,0.2652652652652653,0.26626626626626626,0.26726726726726724,0.2682682682682683,0.26926926926926925,0.2702702702702703,0.27127127127127126,0.27227227227227224,0.2732732732732733,0.27427427427427425,0.2752752752752753,0.27627627627627627,0.2772772772772773,0.2782782782782783,0.27927927927927926,0.2802802802802803,0.28128128128128127,0.2822822822822823,0.2832832832832833,0.28428428428428426,0.2852852852852853,0.2862862862862863,0.2872872872872873,0.2882882882882883,0.28928928928928926,0.2902902902902903,0.2912912912912913,0.2922922922922923,0.2932932932932933,0.29429429429429427,0.2952952952952953,0.2962962962962963,0.2972972972972973,0.2982982982982983,0.29929929929929927,0.3003003003003003,0.3013013013013013,0.3023023023023023,0.3033033033033033,0.30430430430430433,0.3053053053053053,0.3063063063063063,0.3073073073073073,0.3083083083083083,0.30930930930930933,0.3103103103103103,0.3113113113113113,0.3123123123123123,0.3133133133133133,0.31431431431431434,0.3153153153153153,0.3163163163163163,0.3173173173173173,0.3183183183183183,0.31931931931931934,0.3203203203203203,0.3213213213213213,0.32232232232232233,0.3233233233233233,0.32432432432432434,0.3253253253253253,0.3263263263263263,0.32732732732732733,0.3283283283283283,0.32932932932932935,0.3303303303303303,0.3313313313313313,0.33233233233233234,0.3333333333333333,0.33433433433433435,0.3353353353353353,0.3363363363363363,0.33733733733733734,0.3383383383383383,0.33933933933933935,0.34034034034034033,0.34134134134134136,0.34234234234234234,0.3433433433433433,0.34434434434434436,0.34534534534534533,0.34634634634634637,0.34734734734734735,0.3483483483483483,0.34934934934934936,0.35035035035035034,0.35135135135135137,0.35235235235235235,0.3533533533533533,0.35435435435435436,0.35535535535535534,0.3563563563563564,0.35735735735735735,0.35835835835835833,0.35935935935935936,0.36036036036036034,0.3613613613613614,0.36236236236236236,0.36336336336336333,0.36436436436436437,0.36536536536536535,0.3663663663663664,0.36736736736736736,0.3683683683683684,0.36936936936936937,0.37037037037037035,0.3713713713713714,0.37237237237237236,0.3733733733733734,0.3743743743743744,0.37537537537537535,0.3763763763763764,0.37737737737737737,0.3783783783783784,0.3793793793793794,0.38038038038038036,0.3813813813813814,0.38238238238238237,0.3833833833833834,0.3843843843843844,0.38538538538538536,0.3863863863863864,0.38738738738738737,0.3883883883883884,0.3893893893893894,0.39039039039039036,0.3913913913913914,0.3923923923923924,0.3933933933933934,0.3943943943943944,0.39539539539539537,0.3963963963963964,0.3973973973973974,0.3983983983983984,0.3993993993993994,0.40040040040040037,0.4014014014014014,0.4024024024024024,0.4034034034034034,0.4044044044044044,0.40540540540540543,0.4064064064064064,0.4074074074074074,0.4084084084084084,0.4094094094094094,0.41041041041041043,0.4114114114114114,0.4124124124124124,0.4134134134134134,0.4144144144144144,0.41541541541541543,0.4164164164164164,0.4174174174174174,0.4184184184184184,0.4194194194194194,0.42042042042042044,0.4214214214214214,0.4224224224224224,0.42342342342342343,0.4244244244244244,0.42542542542542544,0.4264264264264264,0.4274274274274274,0.42842842842842843,0.4294294294294294,0.43043043043043044,0.4314314314314314,0.43243243243243246,0.43343343343343343,0.4344344344344344,0.43543543543543545,0.4364364364364364,0.43743743743743746,0.43843843843843844,0.4394394394394394,0.44044044044044045,0.44144144144144143,0.44244244244244246,0.44344344344344344,0.4444444444444444,0.44544544544544545,0.44644644644644643,0.44744744744744747,0.44844844844844844,0.4494494494494494,0.45045045045045046,0.45145145145145144,0.45245245245245247,0.45345345345345345,0.4544544544544544,0.45545545545545546,0.45645645645645644,0.4574574574574575,0.45845845845845845,0.45945945945945943,0.46046046046046046,0.46146146146146144,0.4624624624624625,0.46346346346346345,0.46446446446446443,0.46546546546546547,0.46646646646646645,0.4674674674674675,0.46846846846846846,0.4694694694694695,0.47047047047047047,0.47147147147147145,0.4724724724724725,0.47347347347347346,0.4744744744744745,0.4754754754754755,0.47647647647647645,0.4774774774774775,0.47847847847847846,0.4794794794794795,0.4804804804804805,0.48148148148148145,0.4824824824824825,0.48348348348348347,0.4844844844844845,0.4854854854854855,0.48648648648648646,0.4874874874874875,0.48848848848848847,0.4894894894894895,0.4904904904904905,0.49149149149149146,0.4924924924924925,0.4934934934934935,0.4944944944944945,0.4954954954954955,0.4964964964964965,0.4974974974974975,0.4984984984984985,0.4994994994994995,0.5005005005005005,0.5015015015015015,0.5025025025025025,0.5035035035035035,0.5045045045045045,0.5055055055055055,0.5065065065065065,0.5075075075075075,0.5085085085085085,0.5095095095095095,0.5105105105105106,0.5115115115115115,0.5125125125125125,0.5135135135135135,0.5145145145145145,0.5155155155155156,0.5165165165165165,0.5175175175175175,0.5185185185185185,0.5195195195195195,0.5205205205205206,0.5215215215215215,0.5225225225225225,0.5235235235235235,0.5245245245245245,0.5255255255255256,0.5265265265265265,0.5275275275275275,0.5285285285285285,0.5295295295295295,0.5305305305305306,0.5315315315315315,0.5325325325325325,0.5335335335335335,0.5345345345345345,0.5355355355355356,0.5365365365365365,0.5375375375375375,0.5385385385385385,0.5395395395395395,0.5405405405405406,0.5415415415415415,0.5425425425425425,0.5435435435435435,0.5445445445445445,0.5455455455455456,0.5465465465465466,0.5475475475475475,0.5485485485485485,0.5495495495495496,0.5505505505505506,0.5515515515515516,0.5525525525525525,0.5535535535535535,0.5545545545545546,0.5555555555555556,0.5565565565565566,0.5575575575575575,0.5585585585585585,0.5595595595595596,0.5605605605605606,0.5615615615615616,0.5625625625625625,0.5635635635635635,0.5645645645645646,0.5655655655655656,0.5665665665665666,0.5675675675675675,0.5685685685685685,0.5695695695695696,0.5705705705705706,0.5715715715715716,0.5725725725725725,0.5735735735735735,0.5745745745745746,0.5755755755755756,0.5765765765765766,0.5775775775775776,0.5785785785785785,0.5795795795795796,0.5805805805805806,0.5815815815815816,0.5825825825825826,0.5835835835835835,0.5845845845845846,0.5855855855855856,0.5865865865865866,0.5875875875875876,0.5885885885885885,0.5895895895895896,0.5905905905905906,0.5915915915915916,0.5925925925925926,0.5935935935935935,0.5945945945945946,0.5955955955955956,0.5965965965965966,0.5975975975975976,0.5985985985985985,0.5995995995995996,0.6006006006006006,0.6016016016016016,0.6026026026026026,0.6036036036036035,0.6046046046046046,0.6056056056056056,0.6066066066066066,0.6076076076076076,0.6086086086086087,0.6096096096096096,0.6106106106106106,0.6116116116116116,0.6126126126126126,0.6136136136136137,0.6146146146146146,0.6156156156156156,0.6166166166166166,0.6176176176176176,0.6186186186186187,0.6196196196196196,0.6206206206206206,0.6216216216216216,0.6226226226226226,0.6236236236236237,0.6246246246246246,0.6256256256256256,0.6266266266266266,0.6276276276276276,0.6286286286286287,0.6296296296296297,0.6306306306306306,0.6316316316316316,0.6326326326326326,0.6336336336336337,0.6346346346346347,0.6356356356356356,0.6366366366366366,0.6376376376376376,0.6386386386386387,0.6396396396396397,0.6406406406406406,0.6416416416416416,0.6426426426426426,0.6436436436436437,0.6446446446446447,0.6456456456456456,0.6466466466466466,0.6476476476476476,0.6486486486486487,0.6496496496496497,0.6506506506506506,0.6516516516516516,0.6526526526526526,0.6536536536536537,0.6546546546546547,0.6556556556556556,0.6566566566566566,0.6576576576576576,0.6586586586586587,0.6596596596596597,0.6606606606606606,0.6616616616616616,0.6626626626626626,0.6636636636636637,0.6646646646646647,0.6656656656656657,0.6666666666666666,0.6676676676676676,0.6686686686686687,0.6696696696696697,0.6706706706706707,0.6716716716716716,0.6726726726726726,0.6736736736736737,0.6746746746746747,0.6756756756756757,0.6766766766766766,0.6776776776776777,0.6786786786786787,0.6796796796796797,0.6806806806806807,0.6816816816816816,0.6826826826826827,0.6836836836836837,0.6846846846846847,0.6856856856856857,0.6866866866866866,0.6876876876876877,0.6886886886886887,0.6896896896896897,0.6906906906906907,0.6916916916916916,0.6926926926926927,0.6936936936936937,0.6946946946946947,0.6956956956956957,0.6966966966966966,0.6976976976976977,0.6986986986986987,0.6996996996996997,0.7007007007007007,0.7017017017017017,0.7027027027027027,0.7037037037037037,0.7047047047047047,0.7057057057057057,0.7067067067067067,0.7077077077077077,0.7087087087087087,0.7097097097097097,0.7107107107107107,0.7117117117117117,0.7127127127127127,0.7137137137137137,0.7147147147147147,0.7157157157157157,0.7167167167167167,0.7177177177177178,0.7187187187187187,0.7197197197197197,0.7207207207207207,0.7217217217217217,0.7227227227227228,0.7237237237237237,0.7247247247247247,0.7257257257257257,0.7267267267267267,0.7277277277277278,0.7287287287287287,0.7297297297297297,0.7307307307307307,0.7317317317317317,0.7327327327327328,0.7337337337337337,0.7347347347347347,0.7357357357357357,0.7367367367367368,0.7377377377377378,0.7387387387387387,0.7397397397397397,0.7407407407407407,0.7417417417417418,0.7427427427427428,0.7437437437437437,0.7447447447447447,0.7457457457457457,0.7467467467467468,0.7477477477477478,0.7487487487487487,0.7497497497497497,0.7507507507507507,0.7517517517517518,0.7527527527527528,0.7537537537537538,0.7547547547547547,0.7557557557557557,0.7567567567567568,0.7577577577577578,0.7587587587587588,0.7597597597597597,0.7607607607607607,0.7617617617617618,0.7627627627627628,0.7637637637637638,0.7647647647647647,0.7657657657657657,0.7667667667667668,0.7677677677677678,0.7687687687687688,0.7697697697697697,0.7707707707707707,0.7717717717717718,0.7727727727727728,0.7737737737737738,0.7747747747747747,0.7757757757757757,0.7767767767767768,0.7777777777777778,0.7787787787787788,0.7797797797797797,0.7807807807807807,0.7817817817817818,0.7827827827827828,0.7837837837837838,0.7847847847847848,0.7857857857857857,0.7867867867867868,0.7877877877877878,0.7887887887887888,0.7897897897897898,0.7907907907907907,0.7917917917917918,0.7927927927927928,0.7937937937937938,0.7947947947947948,0.7957957957957957,0.7967967967967968,0.7977977977977978,0.7987987987987988,0.7997997997997998,0.8008008008008007,0.8018018018018018,0.8028028028028028,0.8038038038038038,0.8048048048048048,0.8058058058058059,0.8068068068068068,0.8078078078078078,0.8088088088088088,0.8098098098098098,0.8108108108108109,0.8118118118118118,0.8128128128128128,0.8138138138138138,0.8148148148148148,0.8158158158158159,0.8168168168168168,0.8178178178178178,0.8188188188188188,0.8198198198198198,0.8208208208208209,0.8218218218218218,0.8228228228228228,0.8238238238238238,0.8248248248248248,0.8258258258258259,0.8268268268268268,0.8278278278278278,0.8288288288288288,0.8298298298298298,0.8308308308308309,0.8318318318318318,0.8328328328328328,0.8338338338338338,0.8348348348348348,0.8358358358358359,0.8368368368368369,0.8378378378378378,0.8388388388388388,0.8398398398398398,0.8408408408408409,0.8418418418418419,0.8428428428428428,0.8438438438438438,0.8448448448448448,0.8458458458458459,0.8468468468468469,0.8478478478478478,0.8488488488488488,0.8498498498498498,0.8508508508508509,0.8518518518518519,0.8528528528528528,0.8538538538538538,0.8548548548548548,0.8558558558558559,0.8568568568568569,0.8578578578578578,0.8588588588588588,0.8598598598598598,0.8608608608608609,0.8618618618618619,0.8628628628628628,0.8638638638638638,0.8648648648648649,0.8658658658658659,0.8668668668668669,0.8678678678678678,0.8688688688688688,0.8698698698698699,0.8708708708708709,0.8718718718718719,0.8728728728728729,0.8738738738738738,0.8748748748748749,0.8758758758758759,0.8768768768768769,0.8778778778778779,0.8788788788788788,0.8798798798798799,0.8808808808808809,0.8818818818818819,0.8828828828828829,0.8838838838838838,0.8848848848848849,0.8858858858858859,0.8868868868868869,0.8878878878878879,0.8888888888888888,0.8898898898898899,0.8908908908908909,0.8918918918918919,0.8928928928928929,0.8938938938938938,0.8948948948948949,0.8958958958958959,0.8968968968968969,0.8978978978978979,0.8988988988988988,0.8998998998998999,0.9009009009009009,0.9019019019019019,0.9029029029029029,0.9039039039039038,0.9049049049049049,0.9059059059059059,0.9069069069069069,0.9079079079079079,0.9089089089089089,0.9099099099099099,0.9109109109109109,0.9119119119119119,0.9129129129129129,0.9139139139139139,0.914914914914915,0.9159159159159159,0.9169169169169169,0.9179179179179179,0.9189189189189189,0.91991991991992,0.9209209209209209,0.9219219219219219,0.9229229229229229,0.9239239239239239,0.924924924924925,0.9259259259259259,0.9269269269269269,0.9279279279279279,0.9289289289289289,0.92992992992993,0.9309309309309309,0.9319319319319319,0.9329329329329329,0.933933933933934,0.934934934934935,0.9359359359359359,0.9369369369369369,0.9379379379379379,0.938938938938939,0.93993993993994,0.9409409409409409,0.9419419419419419,0.9429429429429429,0.943943943943944,0.944944944944945,0.9459459459459459,0.9469469469469469,0.9479479479479479,0.948948948948949,0.94994994994995,0.950950950950951,0.9519519519519519,0.9529529529529529,0.953953953953954,0.954954954954955,0.955955955955956,0.9569569569569569,0.9579579579579579,0.958958958958959,0.95995995995996,0.960960960960961,0.9619619619619619,0.9629629629629629,0.963963963963964,0.964964964964965,0.965965965965966,0.9669669669669669,0.9679679679679679,0.968968968968969,0.96996996996997,0.970970970970971,0.9719719719719719,0.9729729729729729,0.973973973973974,0.974974974974975,0.975975975975976,0.9769769769769769,0.9779779779779779,0.978978978978979,0.97997997997998,0.980980980980981,0.9819819819819819,0.9829829829829829,0.983983983983984,0.984984984984985,0.985985985985986,0.986986986986987,0.9879879879879879,0.988988988988989,0.98998998998999,0.990990990990991,0.991991991991992,0.992992992992993,0.993993993993994,0.994994994994995,0.995995995995996,0.996996996996997,0.997997997997998,0.998998998998999,1.0],\"y\":[3.718281828459045e-06,3.7139045420908607e-06,3.7095343045267225e-06,3.705171104415844e-06,3.700814930425718e-06,3.696465771242087e-06,3.6921236155689114e-06,3.6877884521283434e-06,3.6834602696606948e-06,3.6791390569244097e-06,3.6748248026960344e-06,3.670517495770189e-06,3.6662171249595363e-06,3.6619236790947564e-06,3.6576371470245137e-06,3.6533575176154304e-06,3.649084779752057e-06,3.644818922336843e-06,3.6405599342901093e-06,3.636307804550018e-06,3.6320625220725434e-06,3.627824075831446e-06,3.62359245481824e-06,3.6193676480421682e-06,3.6151496445301715e-06,3.6109384333268603e-06,3.606734003494488e-06,3.6025363441129196e-06,3.5983454442796056e-06,3.5941612931095535e-06,3.5899838797352983e-06,3.5858131933068757e-06,3.5816492229917928e-06,3.5774919579750006e-06,3.5733413874588653e-06,3.5691975006631416e-06,3.5650602868249424e-06,3.560929735198714e-06,3.5568058350562045e-06,3.5526885756864394e-06,3.548577946395692e-06,3.544473936507454e-06,3.5403765353624125e-06,3.5362857323184177e-06,3.532201516750457e-06,3.5281238780506277e-06,3.5240528056281097e-06,3.519988288909136e-06,3.515930317336969e-06,3.5118788803718685e-06,3.5078339674910675e-06,3.503795568188744e-06,3.4997636719759937e-06,3.495738268380802e-06,3.4917193469480192e-06,3.48770689723933e-06,3.483700908833228e-06,3.4797013713249908e-06,3.4757082743266487e-06,3.4717216074669607e-06,3.467741360391386e-06,3.4637675227620594e-06,3.459800084257762e-06,3.455839034573895e-06,3.451884363422453e-06,3.447936060532e-06,3.443994115647636e-06,3.4400585185309783e-06,3.436129258960129e-06,3.4322063267296526e-06,3.4282897116505458e-06,3.4243794035502137e-06,3.4204753922724416e-06,3.4165776676773706e-06,3.4126862196414695e-06,3.4088010380575098e-06,3.4049221128345375e-06,3.4010494338978496e-06,3.397182991188966e-06,3.393322774665603e-06,3.3894687743016495e-06,3.3856209800871395e-06,3.381779382028226e-06,3.3779439701471537e-06,3.3741147344822373e-06,3.37029166508783e-06,3.3664747520343033e-06,3.362663985408017e-06,3.3588593553112962e-06,3.355060851862402e-06,3.3512684651955107e-06,3.3474821854606845e-06,3.343702002823847e-06,3.3399279074667576e-06,3.3361598895869875e-06,3.3323979393978915e-06,3.3286420471285846e-06,3.3248922030239155e-06,3.321148397344442e-06,3.3174106203664063e-06,3.3136788623817073e-06,3.3099531136978774e-06,3.306233364638058e-06,3.302519605540973e-06,3.2988118267609024e-06,3.2951100186676607e-06,3.2914141716465697e-06,3.2877242760984327e-06,3.284040322439512e-06,3.280362301101502e-06,3.2766902025315057e-06,3.2730240171920076e-06,3.2693637355608534e-06,3.2657093481312198e-06,3.262060845411594e-06,3.258418217925747e-06,3.25478145621271e-06,3.251150550826748e-06,3.2475254923373385e-06,3.243906271329143e-06,3.240292878401986e-06,3.2366853041708304e-06,3.233083539265749e-06,3.229487574331905e-06,3.2258974000295252e-06,3.222313007033877e-06,3.2187343860352436e-06,3.2151615277388986e-06,3.2115944228650843e-06,3.208033062148986e-06,3.2044774363407066e-06,3.200927536205247e-06,3.1973833525224786e-06,3.1938448760871177e-06,3.1903120977087073e-06,3.1867850082115875e-06,3.1832635984348756e-06,3.17974785923244e-06,3.1762377814728777e-06,3.17273335603949e-06,3.1692345738302583e-06,3.1657414257578216e-06,3.162253902749453e-06,3.1587719957470347e-06,3.1552956957070356e-06,3.151824993600487e-06,3.148359880412961e-06,3.144900347144545e-06,3.1414463848098188e-06,3.137997984437831e-06,3.134555137072078e-06,3.1311178337704774e-06,3.1276860656053472e-06,3.1242598236633817e-06,3.120839099045628e-06,3.117423882867463e-06,3.114014166258572e-06,3.1106099403629235e-06,3.1072111963387463e-06,3.1038179253585088e-06,3.100430118608892e-06,3.097047767290772e-06,3.093670862619192e-06,3.0902993958233447e-06,3.086933358146542e-06,3.0835727408462005e-06,3.0802175351938134e-06,3.076867732474931e-06,3.073523323989135e-06,3.070184301050018e-06,3.066850654985161e-06,3.063522377136109e-06,3.0601994588583526e-06,3.0568818915212996e-06,3.0535696665082568e-06,3.050262775216408e-06,3.0469612090567876e-06,3.043664959454264e-06,3.0403740178475118e-06,3.037088375688993e-06,3.0338080244449337e-06,3.0305329555953018e-06,3.0272631606337856e-06,3.0239986310677715e-06,3.0207393584183203e-06,3.017485334220148e-06,3.014236550021602e-06,3.0109929973846385e-06,3.0077546678848032e-06,3.004521553111207e-06,3.001293644666504e-06,2.9980709341668726e-06,2.9948534132419907e-06,2.991641073535015e-06,2.9884339067025596e-06,2.9852319044146734e-06,2.982035058354821e-06,2.9788433602198566e-06,2.9756568017200073e-06,2.9724753745788485e-06,2.9692990705332825e-06,2.966127881333519e-06,2.962961798743052e-06,2.959800814538638e-06,2.956644920510277e-06,2.9534941084611887e-06,2.9503483702077927e-06,2.947207697579686e-06,2.9440720824196236e-06,2.9409415165834955e-06,2.9378159919403054e-06,2.934695500372153e-06,2.9315800337742075e-06,2.928469584054691e-06,2.9253641431348557e-06,2.922263702948964e-06,2.9191682554442646e-06,2.9160777925809746e-06,2.912992306332259e-06,2.909911788684206e-06,2.906836231635811e-06,2.903765627198952e-06,2.9006999673983715e-06,2.897639244271654e-06,2.894583449869206e-06,2.891532576254235e-06,2.8884866155027308e-06,2.8854455597034415e-06,2.882409400957856e-06,2.879378131380181e-06,2.876351743097323e-06,2.8733302282488664e-06,2.8703135789870536e-06,2.867301787476763e-06,2.864294845895492e-06,2.8612927464333325e-06,2.8582954812929546e-06,2.855303042689584e-06,2.8523154228509823e-06,2.849332614017426e-06,2.8463546084416888e-06,2.8433813983890183e-06,2.840412976137118e-06,2.8374493339761287e-06,2.834490464208603e-06,2.8315363591494905e-06,2.8285870111261163e-06,2.8256424124781617e-06,2.8227025555576418e-06,2.8197674327288876e-06,2.8168370363685275e-06,2.8139113588654646e-06,2.810990392620858e-06,2.808074130048104e-06,2.8051625635728163e-06,2.8022556856328043e-06,2.799353488678055e-06,2.7964559651707157e-06,2.7935631075850685e-06,2.7906749084075163e-06,2.7877913601365614e-06,2.784912455282785e-06,2.7820381863688287e-06,2.779168545929376e-06,2.776303526511131e-06,2.7734431206727992e-06,2.7705873209850713e-06,2.767736120030599e-06,2.764889510403979e-06,2.7620474847117345e-06,2.759210035572292e-06,2.7563771556159677e-06,2.753548837484942e-06,2.750725073833246e-06,2.74790585732674e-06,2.745091180643093e-06,2.7422810364717662e-06,2.7394754175139934e-06,2.7366743164827613e-06,2.733877726102792e-06,2.7310856391105205e-06,2.728298048254081e-06,2.7255149462932845e-06,2.722736325999601e-06,2.7199621801561406e-06,2.717192501557635e-06,2.714427283010419e-06,2.71166651733241e-06,2.7089101973530934e-06,2.706158315913498e-06,2.703410865866184e-06,2.70066784007522e-06,2.6979292314161645e-06,2.695195032776051e-06,2.692465237053365e-06,2.689739837158027e-06,2.6870188260113784e-06,2.684302196546157e-06,2.6815899417064794e-06,2.6788820544478287e-06,2.6761785277370275e-06,2.6734793545522275e-06,2.6707845278828855e-06,2.6680940407297484e-06,2.6654078861048342e-06,2.6627260570314134e-06,2.6600485465439913e-06,2.6573753476882903e-06,2.65470645352123e-06,2.6520418571109116e-06,2.6493815515365993e-06,2.6467255298887016e-06,2.6440737852687516e-06,2.641426310789395e-06,2.638783099574364e-06,2.6361441447584673e-06,2.6335094394875665e-06,2.6308789769185607e-06,2.6282527502193703e-06,2.6256307525689153e-06,2.6230129771571014e-06,2.6203994171848e-06,2.6177900658638305e-06,2.615184916416945e-06,2.6125839620778074e-06,2.609987196090979e-06,2.6073946117118993e-06,2.604806202206867e-06,2.602221960853027e-06,2.599641880938347e-06,2.5970659557616045e-06,2.5944941786323695e-06,2.591926542870984e-06,2.5893630418085465e-06,2.586803668786895e-06,2.5842484171585882e-06,2.5816972802868914e-06,2.579150251545755e-06,2.5766073243198006e-06,2.5740684920043026e-06,2.5715337480051693e-06,2.5690030857389303e-06,2.5664764986327154e-06,2.563953980124238e-06,2.56143552366178e-06,2.5589211227041727e-06,2.556410770720782e-06,2.553904461191489e-06,2.5514021876066745e-06,2.548903943467202e-06,2.5464097222844017e-06,2.5439195175800497e-06,2.5414333228863568e-06,2.538951131745948e-06,2.5364729377118467e-06,2.533998734347458e-06,2.5315285152265517e-06,2.5290622739332472e-06,2.526600004061993e-06,2.5241416992175543e-06,2.5216873530149943e-06,2.5192369590796582e-06,2.5167905110471558e-06,2.514348002563346e-06,2.511909427284319e-06,2.5094747788763827e-06,2.507044051016042e-06,2.5046172373899853e-06,2.5021943316950687e-06,2.499775327638297e-06,2.4973602189368086e-06,2.4949489993178593e-06,2.492541662518807e-06,2.4901382022870937e-06,2.48773861238023e-06,2.4853428865657787e-06,2.482951018621339e-06,2.480563002334531e-06,2.4781788315029764e-06,2.4757984999342865e-06,2.473422001446044e-06,2.4710493298657878e-06,2.4686804790309953e-06,2.4663154427890666e-06,2.4639542149973124e-06,2.4615967895229323e-06,2.4592431602430036e-06,2.456893321044461e-06,2.4545472658240866e-06,2.4522049884884876e-06,2.4498664829540837e-06,2.4475317431470935e-06,2.4452007630035137e-06,2.4428735364691073e-06,2.440550057499386e-06,2.4382303200595956e-06,2.435914318124699e-06,2.433602045679361e-06,2.4312934967179354e-06,2.428988665244443e-06,2.426687545272564e-06,2.424390130825615e-06,2.42209641593654e-06,2.41980639464789e-06,2.4175200610118085e-06,2.415237409090021e-06,2.4129584329538095e-06,2.410683126684009e-06,2.4084114843709808e-06,2.4061435001146073e-06,2.40387916802427e-06,2.4016184822188343e-06,2.399361436826639e-06,2.397108025985477e-06,2.3948582438425805e-06,2.3926120845546075e-06,2.390369542287625e-06,2.388130611217095e-06,2.3858952855278587e-06,2.3836635594141205e-06,2.3814354270794357e-06,2.379210882736692e-06,2.3769899206080974e-06,2.374772534925163e-06,2.3725587199286905e-06,2.3703484698687538e-06,2.3681417790046878e-06,2.3659386416050695e-06,2.3637390519477073e-06,2.361543004319624e-06,2.3593504930170394e-06,2.3571615123453626e-06,2.3549760566191695e-06,2.3527941201621916e-06,2.350615697307302e-06,2.3484407823964997e-06,2.346269369780894e-06,2.3441014538206913e-06,2.341937028885179e-06,2.339776089352713e-06,2.337618629610702e-06,2.33546464405559e-06,2.333314127092847e-06,2.331167073136952e-06,2.329023476611377e-06,2.3268833319485756e-06,2.324746633589965e-06,2.322613375985915e-06,2.3204835535957314e-06,2.3183571608876424e-06,2.3162341923387843e-06,2.314114642435187e-06,2.3119985056717577e-06,2.3098857765522716e-06,2.307776449589353e-06,2.3056705193044627e-06,2.303567980227883e-06,2.3014688268987055e-06,2.2993730538648142e-06,2.297280655682875e-06,2.2951916269183154e-06,2.2931059621453178e-06,2.291023655946801e-06,2.2889447029144055e-06,2.2868690976484843e-06,2.2847968347580804e-06,2.282727908860922e-06,2.280662314583404e-06,2.2786000465605736e-06,2.2765410994361163e-06,2.2744854678623455e-06,2.2724331465001838e-06,2.270384130019153e-06,2.268338413097356e-06,2.2662959904214695e-06,2.2642568566867233e-06,2.2622210065968913e-06,2.260188434864274e-06,2.2581591362096888e-06,2.256133105362454e-06,2.2541103370603734e-06,2.252090826049727e-06,2.250074567085254e-06,2.248061554930139e-06,2.246051784356001e-06,2.2440452501428784e-06,2.2420419470792146e-06,2.2400418699618443e-06,2.2380450135959844e-06,2.236051372795212e-06,2.234060942381461e-06,2.232073717185001e-06,2.2300896920444255e-06,2.2281088618066415e-06,2.2261312213268537e-06,2.224156765468551e-06,2.222185489103494e-06,2.2202173871117008e-06,2.218252454381435e-06,2.2162906858091924e-06,2.2143320762996845e-06,2.2123766207658305e-06,2.2104243141287396e-06,2.208475151317701e-06,2.2065291272701686e-06,2.2045862369317478e-06,2.202646475256185e-06,2.2007098372053517e-06,2.198776317749232e-06,2.196845911865909e-06,2.1949186145415555e-06,2.1929944207704164e-06,2.191073325554797e-06,2.1891553239050513e-06,2.187240410839568e-06,2.1853285813847565e-06,2.183419830575038e-06,2.1815141534528274e-06,2.179611545068524e-06,2.177712000480497e-06,2.175815514755074e-06,2.1739220829665263e-06,2.172031700197057e-06,2.1701443615367903e-06,2.168260062083754e-06,2.1663787969438724e-06,2.16450056123095e-06,2.162625350066658e-06,2.1607531585805244e-06,2.158883981909921e-06,2.1570178152000486e-06,2.155154653603926e-06,2.153294492282379e-06,2.1514373264040224e-06,2.1495831511452552e-06,2.1477319616902395e-06,2.1458837532308973e-06,2.1440385209668882e-06,2.1421962601056055e-06,2.1403569658621588e-06,2.138520633459362e-06,2.1366872581277236e-06,2.1348568351054314e-06,2.133029359638341e-06,2.131204826979963e-06,2.129383232391454e-06,2.1275645711415994e-06,2.1257488385068037e-06,2.123936029771078e-06,2.1221261402260277e-06,2.120319165170841e-06,2.1185150999122735e-06,2.116713939764641e-06,2.114915680049803e-06,2.113120316097154e-06,2.1113278432436074e-06,2.1095382568335877e-06,2.1077515522190156e-06,2.1059677247592956e-06,2.1041867698213063e-06,2.102408682779387e-06,2.1006334590153256e-06,2.0988610939183452e-06,2.0970915828850973e-06,2.0953249213196424e-06,2.0935611046334444e-06,2.091800128245355e-06,2.090041987581604e-06,2.088286678075785e-06,2.0865341951688458e-06,2.084784534309076e-06,2.0830376909520946e-06,2.0812936605608376e-06,2.0795524386055477e-06,2.0778140205637634e-06,2.076078401920304e-06,2.0743455781672595e-06,2.07261554480398e-06,2.0708882973370625e-06,2.069163831280341e-06,2.0674421421548716e-06,2.0657232254889246e-06,2.06400707681797e-06,2.062293691684668e-06,2.060583065638856e-06,2.0588751942375376e-06,2.0571700730448717e-06,2.0554676976321594e-06,2.053768063577834e-06,2.0520711664674474e-06,2.050377001893663e-06,2.048685565456239e-06,2.0469968527620206e-06,2.045310859424926e-06,2.043627581065938e-06,2.0419470133130897e-06,2.040269151801456e-06,2.0385939921731387e-06,2.036921530077259e-06,2.0352517611699424e-06,2.033584681114312e-06,2.0319202855804714e-06,2.0302585702455003e-06,2.0285995307934375e-06,2.026943162915271e-06,2.0252894623089294e-06,2.0236384246792696e-06,2.021990045738062e-06,2.0203443212039855e-06,2.018701246802612e-06,2.017060818266396e-06,2.0154230313346657e-06,2.0137878817536074e-06,2.0121553652762617e-06,2.0105254776625035e-06,2.0088982146790392e-06,2.007273572099391e-06,2.0056515457038857e-06,2.0040321312796466e-06,2.002415324620581e-06,2.0008011215273696e-06,1.999189517807453e-06,1.9975805092750266e-06,1.9959740917510236e-06,1.9943702610631077e-06,1.992769013045662e-06,1.9911703435397766e-06,1.9895742483932386e-06,1.987980723460523e-06,1.9863897646027786e-06,1.98480136768782e-06,1.983215528590116e-06,1.981632243190778e-06,1.9800515073775512e-06,1.978473317044802e-06,1.9768976680935087e-06,1.975324556431249e-06,1.973753977972193e-06,1.972185928637088e-06,1.970620404353252e-06,1.9690574010545594e-06,1.967496914681434e-06,1.9659389411808367e-06,1.9643834765062534e-06,1.9628305166176884e-06,1.9612800574816498e-06,1.959732095071142e-06,1.958186625365653e-06,1.9566436443511468e-06,1.9551031480200502e-06,1.953565132371243e-06,1.952029593410049e-06,1.9504965271482244e-06,1.9489659296039475e-06,1.9474377968018082e-06,1.9459121247728e-06,1.9443889095543046e-06,1.942868147190087e-06,1.9413498337302828e-06,1.9398339652313877e-06,1.938320537756248e-06,1.936809547374049e-06,1.9353009901603072e-06,1.933794862196858e-06,1.9322911595718467e-06,1.9307898783797174e-06,1.9292910147212038e-06,1.9277945647033187e-06,1.9263005244393427e-06,1.9248088900488175e-06,1.923319657657531e-06,1.921832823397512e-06,1.920348383407016e-06,1.9188663338305185e-06,1.9173866708187037e-06,1.915909390528453e-06,1.9144344891228383e-06,1.9129619627711083e-06,1.9114918076486814e-06,1.910024019937135e-06,1.908558595824195e-06,1.9070955315037257e-06,1.905634823175722e-06,1.9041764670462963e-06,1.9027204593276713e-06,1.9012667962381687e-06,1.8998154740022008e-06,1.8983664888502588e-06,1.8969198370189044e-06,1.8954755147507598e-06,1.8940335182944969e-06,1.89259384390483e-06,1.8911564878425026e-06,1.8897214463742812e-06,1.8882887157729428e-06,1.8868582923172672e-06,1.885430172292026e-06,1.8840043519879738e-06,1.8825808277018384e-06,1.8811595957363102e-06,1.8797406524000347e-06,1.8783239940076005e-06,1.8769096168795312e-06,1.8754975173422761e-06,1.8740876917281994e-06,1.872680136375571e-06,1.8712748476285587e-06,1.8698718218372159e-06,1.8684710553574745e-06,1.867072544551134e-06,1.8656762857858533e-06,1.8642822754351389e-06,1.8628905098783382e-06,1.8615009855006299e-06,1.860113698693012e-06,1.8587286458522949e-06,1.8573458233810908e-06,1.8559652276878054e-06,1.8545868551866283e-06,1.8532107022975228e-06,1.8518367654462166e-06,1.8504650410641941e-06,1.849095525588686e-06,1.8477282154626594e-06,1.846363107134811e-06,1.8450001970595537e-06,1.8436394816970122e-06,1.8422809575130104e-06,1.8409246209790633e-06,1.839570468572369e-06,1.8382184967757968e-06,1.8368687020778801e-06,1.8355210809728079e-06,1.8341756299604138e-06,1.8328323455461679e-06,1.8314912242411675e-06,1.8301522625621282e-06,1.828815457031375e-06,1.8274808041768324e-06,1.8261483005320168e-06,1.8248179426360268e-06,1.823489727033533e-06,1.8221636502747715e-06,1.8208397089155328e-06,1.8195178995171536e-06,1.8181982186465086e-06,1.8168806628760005e-06,1.8155652287835511e-06,1.8142519129525938e-06,1.8129407119720629e-06,1.8116316224363855e-06,1.8103246409454735e-06,1.8090197641047139e-06,1.8077169885249593e-06,1.8064163108225205e-06,1.8051177276191573e-06,1.8038212355420687e-06,1.802526831223886e-06,1.8012345113026624e-06,1.7999442724218645e-06,1.7986561112303652e-06,1.7973700243824325e-06,1.7960860085377227e-06,1.794804060361271e-06,1.7935241765234834e-06,1.7922463537001268e-06,1.7909705885723212e-06,1.789696877826532e-06,1.7884252181545595e-06,1.787155606253531e-06,1.7858880388258937e-06,1.7846225125794037e-06,1.7833590242271196e-06,1.7820975704873918e-06,1.7808381480838563e-06,1.779580753745425e-06,1.7783253842062762e-06,1.7770720362058486e-06,1.775820706488831e-06,1.774571391805153e-06,1.7733240889099797e-06,1.7720787945637e-06,1.770835505531921e-06,1.7695942185854568e-06,1.7683549305003223e-06,1.7671176380577232e-06,1.76588233804405e-06,1.7646490272508663e-06,1.7634177024749038e-06,1.7621883605180517e-06,1.760960998187349e-06,1.7597356122949768e-06,1.7585121996582495e-06,1.7572907570996068e-06,1.7560712814466046e-06,1.7548537695319081e-06,1.7536382181932827e-06,1.752424624273586e-06,1.7512129846207593e-06,1.7500032960878204e-06,1.7487955555328542e-06,1.7475897598190046e-06,1.7463859058144678e-06,1.745183990392483e-06,1.7439840104313238e-06,1.7427859628142913e-06,1.7415898444297055e-06,1.7403956521708967e-06,1.7392033829361988e-06,1.7380130336289394e-06,1.736824601157433e-06,1.7356380824349733e-06,1.7344534743798236e-06,1.7332707739152102e-06,1.7320899779693143e-06,1.7309110834752633e-06,1.7297340873711233e-06,1.7285589865998911e-06,1.727385778109486e-06,1.7262144588527428e-06,1.725045025787402e-06,1.7238774758761049e-06,1.7227118060863816e-06,1.7215480133906475e-06,1.7203860947661922e-06,1.719226047195173e-06,1.7180678676646072e-06,1.7169115531663633e-06,1.715757100697155e-06,1.7146045072585312e-06,1.7134537698568692e-06,1.712304885503368e-06,1.711157851214038e-06,1.7100126640096961e-06,1.708869320915956e-06,1.7077278189632212e-06,1.7065881551866774e-06,1.7054503266262841e-06,1.7043143303267678e-06,1.7031801633376133e-06,1.7020478227130578e-06,1.700917305512081e-06,1.6997886087983995e-06,1.6986617296404572e-06,1.6975366651114195e-06,1.6964134122891645e-06,1.6952919682562764e-06,1.6941723301000365e-06,1.6930544949124171e-06,1.691938459790074e-06,1.6908242218343358e-06,1.689711778151202e-06,1.6886011258513303e-06,1.687492262050032e-06,1.6863851838672635e-06,1.6852798884276183e-06,1.6841763728603214e-06,1.6830746342992196e-06,1.6819746698827761e-06,1.680876476754061e-06,1.6797800520607457e-06,1.6786853929550943e-06,1.6775924965939574e-06,1.6765013601387627e-06,1.6754119807555103e-06,1.674324355614763e-06,1.6732384818916395e-06,1.672154356765809e-06,1.6710719774214807e-06,1.6699913410473993e-06,1.668912444836836e-06,1.6678352859875813e-06,1.6667598617019386e-06,1.6656861691867165e-06,1.6646142056532217e-06,1.6635439683172512e-06,1.6624754543990854e-06,1.661408661123481e-06,1.660343585719664e-06,1.6592802254213217e-06,1.6582185774665964e-06,1.6571586390980781e-06,1.6561004075627964e-06,1.6550438801122147e-06,1.6539890540022218e-06,1.652935926493126e-06,1.6518844948496468e-06,1.6508347563409092e-06,1.6497867082404345e-06,1.648740347826135e-06,1.6476956723803077e-06,1.646652679189624e-06,1.6456113655451256e-06,1.6445717287422163e-06,1.6435337660806554e-06,1.64249747486455e-06,1.641462852402349e-06,1.6404298960068343e-06,1.6393986029951167e-06,1.6383689706886265e-06,1.6373409964131075e-06,1.6363146774986096e-06,1.635290011279482e-06,1.6342669950943673e-06,1.6332456262861927e-06,1.632225902202165e-06,1.6312078201937621e-06,1.6301913776167275e-06,1.6291765718310622e-06,1.6281634002010189e-06,1.6271518600950944e-06,1.6261419488860233e-06,1.6251336639507703e-06,1.6241270026705248e-06,1.6231219624306928e-06,1.622118540620891e-06,1.621116734634939e-06,1.6201165418708542e-06,1.6191179597308428e-06,1.6181209856212949e-06,1.6171256169527773e-06,1.6161318511400265e-06,1.615139685601942e-06,1.6141491177615789e-06,1.6131601450461432e-06,1.6121727648869836e-06,1.6111869747195849e-06,1.610202771983562e-06,1.6092201541226515e-06,1.6082391185847083e-06,1.6072596628216953e-06,1.6062817842896802e-06,1.6053054804488255e-06,1.6043307487633852e-06,1.6033575867016955e-06,1.6023859917361703e-06,1.601415961343293e-06,1.6004474930036107e-06,1.5994805842017279e-06,1.5985152324262996e-06,1.597551435170025e-06,1.5965891899296402e-06,1.5956284942059135e-06,1.5946693455036365e-06,1.5937117413316198e-06,1.5927556792026847e-06,1.5918011566336587e-06,1.590848171145367e-06,1.589896720262628e-06,1.5889468015142451e-06,1.5879984124330012e-06,1.5870515505556528e-06,1.5861062134229224e-06,1.5851623985794928e-06,1.584220103574001e-06,1.5832793259590313e-06,1.5823400632911085e-06,1.5814023131306932e-06,1.5804660730421736e-06,1.5795313405938604e-06,1.5785981133579803e-06,1.5776663889106682e-06,1.576736164831964e-06,1.5758074387058032e-06,1.5748802081200126e-06,1.5739544706663033e-06,1.5730302239402638e-06,1.572107465541355e-06,1.5711861930729038e-06,1.5702664041420958e-06,1.5693480963599703e-06,1.5684312673414133e-06,1.567515914705151e-06,1.5666020360737456e-06,1.5656896290735867e-06,1.5647786913348863e-06,1.5638692204916727e-06,1.5629612141817839e-06,1.5620546700468618e-06,1.5611495857323465e-06,1.560245958887469e-06,1.5593437871652461e-06,1.5584430682224738e-06,1.5575437997197214e-06,1.5566459793213258e-06,1.5557496046953845e-06,1.5548546735137506e-06,1.553961183452026e-06,1.5530691321895554e-06,1.5521785174094208e-06,1.5512893367984354e-06,1.5504015880471364e-06,1.549515268849781e-06,1.548630376904339e-06,1.5477469099124866e-06,1.5468648655796023e-06,1.5459842416147585e-06,1.5451050357307173e-06,1.5442272456439236e-06,1.5433508690745e-06],\"type\":\"scatter\",\"uid\":\"cbab8642-ace8-49bc-9c31-b310eca6a2b8\"}],                        {\"template\":{\"data\":{\"barpolar\":[{\"marker\":{\"line\":{\"color\":\"white\",\"width\":0.5},\"pattern\":{\"fillmode\":\"overlay\",\"size\":10,\"solidity\":0.2}},\"type\":\"barpolar\"}],\"bar\":[{\"error_x\":{\"color\":\"#2a3f5f\"},\"error_y\":{\"color\":\"#2a3f5f\"},\"marker\":{\"line\":{\"color\":\"white\",\"width\":0.5},\"pattern\":{\"fillmode\":\"overlay\",\"size\":10,\"solidity\":0.2}},\"type\":\"bar\"}],\"carpet\":[{\"aaxis\":{\"endlinecolor\":\"#2a3f5f\",\"gridcolor\":\"#C8D4E3\",\"linecolor\":\"#C8D4E3\",\"minorgridcolor\":\"#C8D4E3\",\"startlinecolor\":\"#2a3f5f\"},\"baxis\":{\"endlinecolor\":\"#2a3f5f\",\"gridcolor\":\"#C8D4E3\",\"linecolor\":\"#C8D4E3\",\"minorgridcolor\":\"#C8D4E3\",\"startlinecolor\":\"#2a3f5f\"},\"type\":\"carpet\"}],\"choropleth\":[{\"colorbar\":{\"outlinewidth\":0,\"ticks\":\"\"},\"type\":\"choropleth\"}],\"contourcarpet\":[{\"colorbar\":{\"outlinewidth\":0,\"ticks\":\"\"},\"type\":\"contourcarpet\"}],\"contour\":[{\"colorbar\":{\"outlinewidth\":0,\"ticks\":\"\"},\"colorscale\":[[0.0,\"#0d0887\"],[0.1111111111111111,\"#46039f\"],[0.2222222222222222,\"#7201a8\"],[0.3333333333333333,\"#9c179e\"],[0.4444444444444444,\"#bd3786\"],[0.5555555555555556,\"#d8576b\"],[0.6666666666666666,\"#ed7953\"],[0.7777777777777778,\"#fb9f3a\"],[0.8888888888888888,\"#fdca26\"],[1.0,\"#f0f921\"]],\"type\":\"contour\"}],\"heatmapgl\":[{\"colorbar\":{\"outlinewidth\":0,\"ticks\":\"\"},\"colorscale\":[[0.0,\"#0d0887\"],[0.1111111111111111,\"#46039f\"],[0.2222222222222222,\"#7201a8\"],[0.3333333333333333,\"#9c179e\"],[0.4444444444444444,\"#bd3786\"],[0.5555555555555556,\"#d8576b\"],[0.6666666666666666,\"#ed7953\"],[0.7777777777777778,\"#fb9f3a\"],[0.8888888888888888,\"#fdca26\"],[1.0,\"#f0f921\"]],\"type\":\"heatmapgl\"}],\"heatmap\":[{\"colorbar\":{\"outlinewidth\":0,\"ticks\":\"\"},\"colorscale\":[[0.0,\"#0d0887\"],[0.1111111111111111,\"#46039f\"],[0.2222222222222222,\"#7201a8\"],[0.3333333333333333,\"#9c179e\"],[0.4444444444444444,\"#bd3786\"],[0.5555555555555556,\"#d8576b\"],[0.6666666666666666,\"#ed7953\"],[0.7777777777777778,\"#fb9f3a\"],[0.8888888888888888,\"#fdca26\"],[1.0,\"#f0f921\"]],\"type\":\"heatmap\"}],\"histogram2dcontour\":[{\"colorbar\":{\"outlinewidth\":0,\"ticks\":\"\"},\"colorscale\":[[0.0,\"#0d0887\"],[0.1111111111111111,\"#46039f\"],[0.2222222222222222,\"#7201a8\"],[0.3333333333333333,\"#9c179e\"],[0.4444444444444444,\"#bd3786\"],[0.5555555555555556,\"#d8576b\"],[0.6666666666666666,\"#ed7953\"],[0.7777777777777778,\"#fb9f3a\"],[0.8888888888888888,\"#fdca26\"],[1.0,\"#f0f921\"]],\"type\":\"histogram2dcontour\"}],\"histogram2d\":[{\"colorbar\":{\"outlinewidth\":0,\"ticks\":\"\"},\"colorscale\":[[0.0,\"#0d0887\"],[0.1111111111111111,\"#46039f\"],[0.2222222222222222,\"#7201a8\"],[0.3333333333333333,\"#9c179e\"],[0.4444444444444444,\"#bd3786\"],[0.5555555555555556,\"#d8576b\"],[0.6666666666666666,\"#ed7953\"],[0.7777777777777778,\"#fb9f3a\"],[0.8888888888888888,\"#fdca26\"],[1.0,\"#f0f921\"]],\"type\":\"histogram2d\"}],\"histogram\":[{\"marker\":{\"pattern\":{\"fillmode\":\"overlay\",\"size\":10,\"solidity\":0.2}},\"type\":\"histogram\"}],\"mesh3d\":[{\"colorbar\":{\"outlinewidth\":0,\"ticks\":\"\"},\"type\":\"mesh3d\"}],\"parcoords\":[{\"line\":{\"colorbar\":{\"outlinewidth\":0,\"ticks\":\"\"}},\"type\":\"parcoords\"}],\"pie\":[{\"automargin\":true,\"type\":\"pie\"}],\"scatter3d\":[{\"line\":{\"colorbar\":{\"outlinewidth\":0,\"ticks\":\"\"}},\"marker\":{\"colorbar\":{\"outlinewidth\":0,\"ticks\":\"\"}},\"type\":\"scatter3d\"}],\"scattercarpet\":[{\"marker\":{\"colorbar\":{\"outlinewidth\":0,\"ticks\":\"\"}},\"type\":\"scattercarpet\"}],\"scattergeo\":[{\"marker\":{\"colorbar\":{\"outlinewidth\":0,\"ticks\":\"\"}},\"type\":\"scattergeo\"}],\"scattergl\":[{\"marker\":{\"colorbar\":{\"outlinewidth\":0,\"ticks\":\"\"}},\"type\":\"scattergl\"}],\"scattermapbox\":[{\"marker\":{\"colorbar\":{\"outlinewidth\":0,\"ticks\":\"\"}},\"type\":\"scattermapbox\"}],\"scatterpolargl\":[{\"marker\":{\"colorbar\":{\"outlinewidth\":0,\"ticks\":\"\"}},\"type\":\"scatterpolargl\"}],\"scatterpolar\":[{\"marker\":{\"colorbar\":{\"outlinewidth\":0,\"ticks\":\"\"}},\"type\":\"scatterpolar\"}],\"scatter\":[{\"fillpattern\":{\"fillmode\":\"overlay\",\"size\":10,\"solidity\":0.2},\"type\":\"scatter\"}],\"scatterternary\":[{\"marker\":{\"colorbar\":{\"outlinewidth\":0,\"ticks\":\"\"}},\"type\":\"scatterternary\"}],\"surface\":[{\"colorbar\":{\"outlinewidth\":0,\"ticks\":\"\"},\"colorscale\":[[0.0,\"#0d0887\"],[0.1111111111111111,\"#46039f\"],[0.2222222222222222,\"#7201a8\"],[0.3333333333333333,\"#9c179e\"],[0.4444444444444444,\"#bd3786\"],[0.5555555555555556,\"#d8576b\"],[0.6666666666666666,\"#ed7953\"],[0.7777777777777778,\"#fb9f3a\"],[0.8888888888888888,\"#fdca26\"],[1.0,\"#f0f921\"]],\"type\":\"surface\"}],\"table\":[{\"cells\":{\"fill\":{\"color\":\"#EBF0F8\"},\"line\":{\"color\":\"white\"}},\"header\":{\"fill\":{\"color\":\"#C8D4E3\"},\"line\":{\"color\":\"white\"}},\"type\":\"table\"}]},\"layout\":{\"annotationdefaults\":{\"arrowcolor\":\"#2a3f5f\",\"arrowhead\":0,\"arrowwidth\":1},\"autotypenumbers\":\"strict\",\"coloraxis\":{\"colorbar\":{\"outlinewidth\":0,\"ticks\":\"\"}},\"colorscale\":{\"diverging\":[[0,\"#8e0152\"],[0.1,\"#c51b7d\"],[0.2,\"#de77ae\"],[0.3,\"#f1b6da\"],[0.4,\"#fde0ef\"],[0.5,\"#f7f7f7\"],[0.6,\"#e6f5d0\"],[0.7,\"#b8e186\"],[0.8,\"#7fbc41\"],[0.9,\"#4d9221\"],[1,\"#276419\"]],\"sequential\":[[0.0,\"#0d0887\"],[0.1111111111111111,\"#46039f\"],[0.2222222222222222,\"#7201a8\"],[0.3333333333333333,\"#9c179e\"],[0.4444444444444444,\"#bd3786\"],[0.5555555555555556,\"#d8576b\"],[0.6666666666666666,\"#ed7953\"],[0.7777777777777778,\"#fb9f3a\"],[0.8888888888888888,\"#fdca26\"],[1.0,\"#f0f921\"]],\"sequentialminus\":[[0.0,\"#0d0887\"],[0.1111111111111111,\"#46039f\"],[0.2222222222222222,\"#7201a8\"],[0.3333333333333333,\"#9c179e\"],[0.4444444444444444,\"#bd3786\"],[0.5555555555555556,\"#d8576b\"],[0.6666666666666666,\"#ed7953\"],[0.7777777777777778,\"#fb9f3a\"],[0.8888888888888888,\"#fdca26\"],[1.0,\"#f0f921\"]]},\"colorway\":[\"#636efa\",\"#EF553B\",\"#00cc96\",\"#ab63fa\",\"#FFA15A\",\"#19d3f3\",\"#FF6692\",\"#B6E880\",\"#FF97FF\",\"#FECB52\"],\"font\":{\"color\":\"#2a3f5f\"},\"geo\":{\"bgcolor\":\"white\",\"lakecolor\":\"white\",\"landcolor\":\"white\",\"showlakes\":true,\"showland\":true,\"subunitcolor\":\"#C8D4E3\"},\"hoverlabel\":{\"align\":\"left\"},\"hovermode\":\"closest\",\"mapbox\":{\"style\":\"light\"},\"paper_bgcolor\":\"white\",\"plot_bgcolor\":\"white\",\"polar\":{\"angularaxis\":{\"gridcolor\":\"#EBF0F8\",\"linecolor\":\"#EBF0F8\",\"ticks\":\"\"},\"bgcolor\":\"white\",\"radialaxis\":{\"gridcolor\":\"#EBF0F8\",\"linecolor\":\"#EBF0F8\",\"ticks\":\"\"}},\"scene\":{\"xaxis\":{\"backgroundcolor\":\"white\",\"gridcolor\":\"#DFE8F3\",\"gridwidth\":2,\"linecolor\":\"#EBF0F8\",\"showbackground\":true,\"ticks\":\"\",\"zerolinecolor\":\"#EBF0F8\"},\"yaxis\":{\"backgroundcolor\":\"white\",\"gridcolor\":\"#DFE8F3\",\"gridwidth\":2,\"linecolor\":\"#EBF0F8\",\"showbackground\":true,\"ticks\":\"\",\"zerolinecolor\":\"#EBF0F8\"},\"zaxis\":{\"backgroundcolor\":\"white\",\"gridcolor\":\"#DFE8F3\",\"gridwidth\":2,\"linecolor\":\"#EBF0F8\",\"showbackground\":true,\"ticks\":\"\",\"zerolinecolor\":\"#EBF0F8\"}},\"shapedefaults\":{\"line\":{\"color\":\"#2a3f5f\"}},\"ternary\":{\"aaxis\":{\"gridcolor\":\"#DFE8F3\",\"linecolor\":\"#A2B1C6\",\"ticks\":\"\"},\"baxis\":{\"gridcolor\":\"#DFE8F3\",\"linecolor\":\"#A2B1C6\",\"ticks\":\"\"},\"bgcolor\":\"white\",\"caxis\":{\"gridcolor\":\"#DFE8F3\",\"linecolor\":\"#A2B1C6\",\"ticks\":\"\"}},\"title\":{\"x\":0.05},\"xaxis\":{\"automargin\":true,\"gridcolor\":\"#EBF0F8\",\"linecolor\":\"#EBF0F8\",\"ticks\":\"\",\"title\":{\"standoff\":15},\"zerolinecolor\":\"#EBF0F8\",\"zerolinewidth\":2},\"yaxis\":{\"automargin\":true,\"gridcolor\":\"#EBF0F8\",\"linecolor\":\"#EBF0F8\",\"ticks\":\"\",\"title\":{\"standoff\":15},\"zerolinecolor\":\"#EBF0F8\",\"zerolinewidth\":2}}},\"xaxis\":{\"range\":[0,1],\"showgrid\":false,\"title\":{\"text\":\"Momentum (GeV\\u002fc)\"}},\"yaxis\":{\"range\":[0,2e-05],\"showgrid\":false,\"title\":{\"text\":\"dE\\u002fdx\"}},\"margin\":{\"l\":30,\"r\":0,\"b\":50,\"t\":50,\"pad\":0},\"showlegend\":false,\"autosize\":false,\"width\":530,\"height\":457,\"title\":{\"text\":\"Ionization Energy Loss vs. Momentum\"}},                        {\"responsive\": true}                    ).then(function(){\n                            \nvar gd = document.getElementById('98ce43c2-8a4f-4ce3-a520-2b0622894e71');\nvar x = new MutationObserver(function (mutations, observer) {{\n        var display = window.getComputedStyle(gd).display;\n        if (!display || display === 'none') {{\n            console.log([gd, 'removed!']);\n            Plotly.purge(gd);\n            observer.disconnect();\n        }}\n}});\n\n// Listen for the removal of the full notebook cells\nvar notebookContainer = gd.closest('#notebook-container');\nif (notebookContainer) {{\n    x.observe(notebookContainer, {childList: true});\n}}\n\n// Listen for the clearing of the current output cell\nvar outputEl = gd.closest('.output');\nif (outputEl) {{\n    x.observe(outputEl, {childList: true});\n}}\n\n                        })                };                            </script>        </div>\n</body>\n</html>"
                },
                "metadata": {}
              }
            ]
          }
        },
        "760e9c3de5a943958d2f8e44114905de": {
          "model_module": "@jupyter-widgets/base",
          "model_name": "LayoutModel",
          "model_module_version": "1.2.0",
          "state": {
            "_model_module": "@jupyter-widgets/base",
            "_model_module_version": "1.2.0",
            "_model_name": "LayoutModel",
            "_view_count": null,
            "_view_module": "@jupyter-widgets/base",
            "_view_module_version": "1.2.0",
            "_view_name": "LayoutView",
            "align_content": null,
            "align_items": null,
            "align_self": null,
            "border": null,
            "bottom": null,
            "display": null,
            "flex": null,
            "flex_flow": null,
            "grid_area": null,
            "grid_auto_columns": null,
            "grid_auto_flow": null,
            "grid_auto_rows": null,
            "grid_column": null,
            "grid_gap": null,
            "grid_row": null,
            "grid_template_areas": null,
            "grid_template_columns": null,
            "grid_template_rows": null,
            "height": null,
            "justify_content": null,
            "justify_items": null,
            "left": null,
            "margin": null,
            "max_height": null,
            "max_width": null,
            "min_height": null,
            "min_width": null,
            "object_fit": null,
            "object_position": null,
            "order": null,
            "overflow": null,
            "overflow_x": null,
            "overflow_y": null,
            "padding": null,
            "right": null,
            "top": null,
            "visibility": null,
            "width": null
          }
        },
        "e5a3a8e39ae644a8810dea7230b5fe45": {
          "model_module": "@jupyter-widgets/controls",
          "model_name": "FloatSliderModel",
          "model_module_version": "1.5.0",
          "state": {
            "_dom_classes": [],
            "_model_module": "@jupyter-widgets/controls",
            "_model_module_version": "1.5.0",
            "_model_name": "FloatSliderModel",
            "_view_count": null,
            "_view_module": "@jupyter-widgets/controls",
            "_view_module_version": "1.5.0",
            "_view_name": "FloatSliderView",
            "continuous_update": true,
            "description": "a",
            "description_tooltip": null,
            "disabled": false,
            "layout": "IPY_MODEL_e26f551951324fa489e06f9971f12eb9",
            "max": 0,
            "min": -10,
            "orientation": "horizontal",
            "readout": true,
            "readout_format": ".2f",
            "step": 0.01,
            "style": "IPY_MODEL_c1966c271b79475c94f08205cdea334b",
            "value": -1.6099999999999994
          }
        },
        "03d18882dde44246bb856dc4c98cb226": {
          "model_module": "@jupyter-widgets/controls",
          "model_name": "FloatSliderModel",
          "model_module_version": "1.5.0",
          "state": {
            "_dom_classes": [],
            "_model_module": "@jupyter-widgets/controls",
            "_model_module_version": "1.5.0",
            "_model_name": "FloatSliderModel",
            "_view_count": null,
            "_view_module": "@jupyter-widgets/controls",
            "_view_module_version": "1.5.0",
            "_view_name": "FloatSliderView",
            "continuous_update": true,
            "description": "b",
            "description_tooltip": null,
            "disabled": false,
            "layout": "IPY_MODEL_867ca80a417b4423adc894942b7a6b33",
            "max": 10,
            "min": 0,
            "orientation": "horizontal",
            "readout": true,
            "readout_format": ".2f",
            "step": 0.01,
            "style": "IPY_MODEL_4f553b9c0b9f42acb7fafc4954a87911",
            "value": 1
          }
        },
        "d016bffdd8a04c5ea17511ffeaa79441": {
          "model_module": "@jupyter-widgets/controls",
          "model_name": "FloatSliderModel",
          "model_module_version": "1.5.0",
          "state": {
            "_dom_classes": [],
            "_model_module": "@jupyter-widgets/controls",
            "_model_module_version": "1.5.0",
            "_model_name": "FloatSliderModel",
            "_view_count": null,
            "_view_module": "@jupyter-widgets/controls",
            "_view_module_version": "1.5.0",
            "_view_name": "FloatSliderView",
            "continuous_update": true,
            "description": "c",
            "description_tooltip": null,
            "disabled": false,
            "layout": "IPY_MODEL_9339fcb2d6f845e1a625cfd2449647d7",
            "max": 10,
            "min": 0,
            "orientation": "horizontal",
            "readout": true,
            "readout_format": ".2f",
            "step": 0.01,
            "style": "IPY_MODEL_071a1372553f48619ea0cd410c95e647",
            "value": 1
          }
        },
        "ee2ea98d2c9b4515a1bad4a441d7f8c4": {
          "model_module": "@jupyter-widgets/base",
          "model_name": "LayoutModel",
          "model_module_version": "1.2.0",
          "state": {
            "_model_module": "@jupyter-widgets/base",
            "_model_module_version": "1.2.0",
            "_model_name": "LayoutModel",
            "_view_count": null,
            "_view_module": "@jupyter-widgets/base",
            "_view_module_version": "1.2.0",
            "_view_name": "LayoutView",
            "align_content": null,
            "align_items": null,
            "align_self": null,
            "border": null,
            "bottom": null,
            "display": null,
            "flex": null,
            "flex_flow": "row wrap",
            "grid_area": null,
            "grid_auto_columns": null,
            "grid_auto_flow": null,
            "grid_auto_rows": null,
            "grid_column": null,
            "grid_gap": null,
            "grid_row": null,
            "grid_template_areas": null,
            "grid_template_columns": null,
            "grid_template_rows": null,
            "height": null,
            "justify_content": null,
            "justify_items": null,
            "left": null,
            "margin": null,
            "max_height": null,
            "max_width": null,
            "min_height": null,
            "min_width": null,
            "object_fit": null,
            "object_position": null,
            "order": null,
            "overflow": null,
            "overflow_x": null,
            "overflow_y": null,
            "padding": null,
            "right": null,
            "top": null,
            "visibility": null,
            "width": null
          }
        },
        "22351212d8e2463ca8a09023172865ca": {
          "model_module": "@jupyter-widgets/base",
          "model_name": "LayoutModel",
          "model_module_version": "1.2.0",
          "state": {
            "_model_module": "@jupyter-widgets/base",
            "_model_module_version": "1.2.0",
            "_model_name": "LayoutModel",
            "_view_count": null,
            "_view_module": "@jupyter-widgets/base",
            "_view_module_version": "1.2.0",
            "_view_name": "LayoutView",
            "align_content": null,
            "align_items": null,
            "align_self": null,
            "border": null,
            "bottom": null,
            "display": null,
            "flex": null,
            "flex_flow": null,
            "grid_area": null,
            "grid_auto_columns": null,
            "grid_auto_flow": null,
            "grid_auto_rows": null,
            "grid_column": null,
            "grid_gap": null,
            "grid_row": null,
            "grid_template_areas": null,
            "grid_template_columns": null,
            "grid_template_rows": null,
            "height": null,
            "justify_content": null,
            "justify_items": null,
            "left": null,
            "margin": null,
            "max_height": null,
            "max_width": null,
            "min_height": null,
            "min_width": null,
            "object_fit": null,
            "object_position": null,
            "order": null,
            "overflow": null,
            "overflow_x": null,
            "overflow_y": null,
            "padding": null,
            "right": null,
            "top": null,
            "visibility": null,
            "width": null
          }
        },
        "e26f551951324fa489e06f9971f12eb9": {
          "model_module": "@jupyter-widgets/base",
          "model_name": "LayoutModel",
          "model_module_version": "1.2.0",
          "state": {
            "_model_module": "@jupyter-widgets/base",
            "_model_module_version": "1.2.0",
            "_model_name": "LayoutModel",
            "_view_count": null,
            "_view_module": "@jupyter-widgets/base",
            "_view_module_version": "1.2.0",
            "_view_name": "LayoutView",
            "align_content": null,
            "align_items": null,
            "align_self": null,
            "border": null,
            "bottom": null,
            "display": null,
            "flex": null,
            "flex_flow": null,
            "grid_area": null,
            "grid_auto_columns": null,
            "grid_auto_flow": null,
            "grid_auto_rows": null,
            "grid_column": null,
            "grid_gap": null,
            "grid_row": null,
            "grid_template_areas": null,
            "grid_template_columns": null,
            "grid_template_rows": null,
            "height": null,
            "justify_content": null,
            "justify_items": null,
            "left": null,
            "margin": null,
            "max_height": null,
            "max_width": null,
            "min_height": null,
            "min_width": null,
            "object_fit": null,
            "object_position": null,
            "order": null,
            "overflow": null,
            "overflow_x": null,
            "overflow_y": null,
            "padding": null,
            "right": null,
            "top": null,
            "visibility": null,
            "width": null
          }
        },
        "c1966c271b79475c94f08205cdea334b": {
          "model_module": "@jupyter-widgets/controls",
          "model_name": "SliderStyleModel",
          "model_module_version": "1.5.0",
          "state": {
            "_model_module": "@jupyter-widgets/controls",
            "_model_module_version": "1.5.0",
            "_model_name": "SliderStyleModel",
            "_view_count": null,
            "_view_module": "@jupyter-widgets/base",
            "_view_module_version": "1.2.0",
            "_view_name": "StyleView",
            "description_width": "",
            "handle_color": null
          }
        },
        "867ca80a417b4423adc894942b7a6b33": {
          "model_module": "@jupyter-widgets/base",
          "model_name": "LayoutModel",
          "model_module_version": "1.2.0",
          "state": {
            "_model_module": "@jupyter-widgets/base",
            "_model_module_version": "1.2.0",
            "_model_name": "LayoutModel",
            "_view_count": null,
            "_view_module": "@jupyter-widgets/base",
            "_view_module_version": "1.2.0",
            "_view_name": "LayoutView",
            "align_content": null,
            "align_items": null,
            "align_self": null,
            "border": null,
            "bottom": null,
            "display": null,
            "flex": null,
            "flex_flow": null,
            "grid_area": null,
            "grid_auto_columns": null,
            "grid_auto_flow": null,
            "grid_auto_rows": null,
            "grid_column": null,
            "grid_gap": null,
            "grid_row": null,
            "grid_template_areas": null,
            "grid_template_columns": null,
            "grid_template_rows": null,
            "height": null,
            "justify_content": null,
            "justify_items": null,
            "left": null,
            "margin": null,
            "max_height": null,
            "max_width": null,
            "min_height": null,
            "min_width": null,
            "object_fit": null,
            "object_position": null,
            "order": null,
            "overflow": null,
            "overflow_x": null,
            "overflow_y": null,
            "padding": null,
            "right": null,
            "top": null,
            "visibility": null,
            "width": null
          }
        },
        "4f553b9c0b9f42acb7fafc4954a87911": {
          "model_module": "@jupyter-widgets/controls",
          "model_name": "SliderStyleModel",
          "model_module_version": "1.5.0",
          "state": {
            "_model_module": "@jupyter-widgets/controls",
            "_model_module_version": "1.5.0",
            "_model_name": "SliderStyleModel",
            "_view_count": null,
            "_view_module": "@jupyter-widgets/base",
            "_view_module_version": "1.2.0",
            "_view_name": "StyleView",
            "description_width": "",
            "handle_color": null
          }
        },
        "9339fcb2d6f845e1a625cfd2449647d7": {
          "model_module": "@jupyter-widgets/base",
          "model_name": "LayoutModel",
          "model_module_version": "1.2.0",
          "state": {
            "_model_module": "@jupyter-widgets/base",
            "_model_module_version": "1.2.0",
            "_model_name": "LayoutModel",
            "_view_count": null,
            "_view_module": "@jupyter-widgets/base",
            "_view_module_version": "1.2.0",
            "_view_name": "LayoutView",
            "align_content": null,
            "align_items": null,
            "align_self": null,
            "border": null,
            "bottom": null,
            "display": null,
            "flex": null,
            "flex_flow": null,
            "grid_area": null,
            "grid_auto_columns": null,
            "grid_auto_flow": null,
            "grid_auto_rows": null,
            "grid_column": null,
            "grid_gap": null,
            "grid_row": null,
            "grid_template_areas": null,
            "grid_template_columns": null,
            "grid_template_rows": null,
            "height": null,
            "justify_content": null,
            "justify_items": null,
            "left": null,
            "margin": null,
            "max_height": null,
            "max_width": null,
            "min_height": null,
            "min_width": null,
            "object_fit": null,
            "object_position": null,
            "order": null,
            "overflow": null,
            "overflow_x": null,
            "overflow_y": null,
            "padding": null,
            "right": null,
            "top": null,
            "visibility": null,
            "width": null
          }
        },
        "071a1372553f48619ea0cd410c95e647": {
          "model_module": "@jupyter-widgets/controls",
          "model_name": "SliderStyleModel",
          "model_module_version": "1.5.0",
          "state": {
            "_model_module": "@jupyter-widgets/controls",
            "_model_module_version": "1.5.0",
            "_model_name": "SliderStyleModel",
            "_view_count": null,
            "_view_module": "@jupyter-widgets/base",
            "_view_module_version": "1.2.0",
            "_view_name": "StyleView",
            "description_width": "",
            "handle_color": null
          }
        },
        "efdb6ad81339404eba2c7ebd6f25b0de": {
          "model_module": "@jupyter-widgets/controls",
          "model_name": "VBoxModel",
          "model_module_version": "1.5.0",
          "state": {
            "_dom_classes": [],
            "_model_module": "@jupyter-widgets/controls",
            "_model_module_version": "1.5.0",
            "_model_name": "VBoxModel",
            "_view_count": null,
            "_view_module": "@jupyter-widgets/controls",
            "_view_module_version": "1.5.0",
            "_view_name": "VBoxView",
            "box_style": "",
            "children": [
              "IPY_MODEL_e6300ac329f746eda0eb71c24eccd22c",
              "IPY_MODEL_d147da13efaa4a0fa7bcee78af4e4850"
            ],
            "layout": "IPY_MODEL_cd0dd5afb2044d8a820ffd0dbdd30a14"
          }
        },
        "e6300ac329f746eda0eb71c24eccd22c": {
          "model_module": "@jupyter-widgets/controls",
          "model_name": "HBoxModel",
          "model_module_version": "1.5.0",
          "state": {
            "_dom_classes": [],
            "_model_module": "@jupyter-widgets/controls",
            "_model_module_version": "1.5.0",
            "_model_name": "HBoxModel",
            "_view_count": null,
            "_view_module": "@jupyter-widgets/controls",
            "_view_module_version": "1.5.0",
            "_view_name": "HBoxView",
            "box_style": "",
            "children": [
              "IPY_MODEL_234168a0152344acbb9f31164ebe108c",
              "IPY_MODEL_4f52288facf0472e91a7e279b443dc54",
              "IPY_MODEL_56a93ade2ba446b0ad62510b7b3c79dc"
            ],
            "layout": "IPY_MODEL_1726232a2b954ddd943bcf8bf3f6479f"
          }
        },
        "d147da13efaa4a0fa7bcee78af4e4850": {
          "model_module": "@jupyter-widgets/output",
          "model_name": "OutputModel",
          "model_module_version": "1.0.0",
          "state": {
            "_dom_classes": [],
            "_model_module": "@jupyter-widgets/output",
            "_model_module_version": "1.0.0",
            "_model_name": "OutputModel",
            "_view_count": null,
            "_view_module": "@jupyter-widgets/output",
            "_view_module_version": "1.0.0",
            "_view_name": "OutputView",
            "layout": "IPY_MODEL_6b7d0e418830424ea93c6b256744611a",
            "msg_id": "",
            "outputs": [
              {
                "output_type": "display_data",
                "data": {
                  "text/html": "<html>\n<head><meta charset=\"utf-8\" /></head>\n<body>\n    <div>            <script src=\"https://cdnjs.cloudflare.com/ajax/libs/mathjax/2.7.5/MathJax.js?config=TeX-AMS-MML_SVG\"></script><script type=\"text/javascript\">if (window.MathJax && window.MathJax.Hub && window.MathJax.Hub.Config) {window.MathJax.Hub.Config({SVG: {font: \"STIX-Web\"}});}</script>                <script type=\"text/javascript\">window.PlotlyConfig = {MathJaxConfig: 'local'};</script>\n        <script charset=\"utf-8\" src=\"https://cdn.plot.ly/plotly-2.24.1.min.js\"></script>                <div id=\"5c2a71e5-3b28-4d45-bb57-cb9ae1999665\" class=\"plotly-graph-div\" style=\"height:457px; width:530px;\"></div>            <script type=\"text/javascript\">                                    window.PLOTLYENV=window.PLOTLYENV || {};                                    if (document.getElementById(\"5c2a71e5-3b28-4d45-bb57-cb9ae1999665\")) {                    Plotly.newPlot(                        \"5c2a71e5-3b28-4d45-bb57-cb9ae1999665\",                        [{\"marker\":{\"color\":\"red\"},\"mode\":\"lines\",\"name\":\"Cut\",\"x\":[0.0,0.001001001001001001,0.002002002002002002,0.003003003003003003,0.004004004004004004,0.005005005005005005,0.006006006006006006,0.007007007007007007,0.008008008008008008,0.009009009009009009,0.01001001001001001,0.011011011011011011,0.012012012012012012,0.013013013013013013,0.014014014014014014,0.015015015015015015,0.016016016016016016,0.017017017017017015,0.018018018018018018,0.01901901901901902,0.02002002002002002,0.02102102102102102,0.022022022022022022,0.023023023023023025,0.024024024024024024,0.025025025025025023,0.026026026026026026,0.02702702702702703,0.028028028028028028,0.029029029029029027,0.03003003003003003,0.031031031031031032,0.03203203203203203,0.03303303303303303,0.03403403403403403,0.035035035035035036,0.036036036036036036,0.037037037037037035,0.03803803803803804,0.03903903903903904,0.04004004004004004,0.04104104104104104,0.04204204204204204,0.043043043043043044,0.044044044044044044,0.04504504504504504,0.04604604604604605,0.04704704704704705,0.04804804804804805,0.04904904904904905,0.050050050050050046,0.05105105105105105,0.05205205205205205,0.05305305305305305,0.05405405405405406,0.055055055055055056,0.056056056056056056,0.057057057057057055,0.058058058058058054,0.05905905905905906,0.06006006006006006,0.06106106106106106,0.062062062062062065,0.06306306306306306,0.06406406406406406,0.06506506506506507,0.06606606606606606,0.06706706706706707,0.06806806806806806,0.06906906906906907,0.07007007007007007,0.07107107107107107,0.07207207207207207,0.07307307307307308,0.07407407407407407,0.07507507507507508,0.07607607607607608,0.07707707707707707,0.07807807807807808,0.07907907907907907,0.08008008008008008,0.08108108108108109,0.08208208208208208,0.08308308308308308,0.08408408408408408,0.08508508508508508,0.08608608608608609,0.08708708708708708,0.08808808808808809,0.0890890890890891,0.09009009009009009,0.09109109109109109,0.0920920920920921,0.09309309309309309,0.0940940940940941,0.09509509509509509,0.0960960960960961,0.0970970970970971,0.0980980980980981,0.0990990990990991,0.10010010010010009,0.1011011011011011,0.1021021021021021,0.1031031031031031,0.1041041041041041,0.10510510510510511,0.1061061061061061,0.10710710710710711,0.10810810810810811,0.1091091091091091,0.11011011011011011,0.1111111111111111,0.11211211211211211,0.11311311311311312,0.11411411411411411,0.11511511511511512,0.11611611611611611,0.11711711711711711,0.11811811811811812,0.11911911911911911,0.12012012012012012,0.12112112112112113,0.12212212212212212,0.12312312312312312,0.12412412412412413,0.12512512512512514,0.12612612612612611,0.12712712712712712,0.12812812812812813,0.12912912912912913,0.13013013013013014,0.13113113113113112,0.13213213213213212,0.13313313313313313,0.13413413413413414,0.13513513513513514,0.13613613613613612,0.13713713713713713,0.13813813813813813,0.13913913913913914,0.14014014014014015,0.14114114114114115,0.14214214214214213,0.14314314314314314,0.14414414414414414,0.14514514514514515,0.14614614614614616,0.14714714714714713,0.14814814814814814,0.14914914914914915,0.15015015015015015,0.15115115115115116,0.15215215215215216,0.15315315315315314,0.15415415415415415,0.15515515515515516,0.15615615615615616,0.15715715715715717,0.15815815815815815,0.15915915915915915,0.16016016016016016,0.16116116116116116,0.16216216216216217,0.16316316316316315,0.16416416416416416,0.16516516516516516,0.16616616616616617,0.16716716716716717,0.16816816816816815,0.16916916916916916,0.17017017017017017,0.17117117117117117,0.17217217217217218,0.17317317317317318,0.17417417417417416,0.17517517517517517,0.17617617617617617,0.17717717717717718,0.1781781781781782,0.17917917917917917,0.18018018018018017,0.18118118118118118,0.18218218218218218,0.1831831831831832,0.1841841841841842,0.18518518518518517,0.18618618618618618,0.1871871871871872,0.1881881881881882,0.1891891891891892,0.19019019019019018,0.19119119119119118,0.1921921921921922,0.1931931931931932,0.1941941941941942,0.19519519519519518,0.1961961961961962,0.1971971971971972,0.1981981981981982,0.1991991991991992,0.20020020020020018,0.2012012012012012,0.2022022022022022,0.2032032032032032,0.2042042042042042,0.20520520520520522,0.2062062062062062,0.2072072072072072,0.2082082082082082,0.2092092092092092,0.21021021021021022,0.2112112112112112,0.2122122122122122,0.2132132132132132,0.21421421421421422,0.21521521521521522,0.21621621621621623,0.2172172172172172,0.2182182182182182,0.21921921921921922,0.22022022022022023,0.22122122122122123,0.2222222222222222,0.22322322322322322,0.22422422422422422,0.22522522522522523,0.22622622622622623,0.2272272272272272,0.22822822822822822,0.22922922922922923,0.23023023023023023,0.23123123123123124,0.23223223223223222,0.23323323323323322,0.23423423423423423,0.23523523523523523,0.23623623623623624,0.23723723723723725,0.23823823823823823,0.23923923923923923,0.24024024024024024,0.24124124124124124,0.24224224224224225,0.24324324324324323,0.24424424424424424,0.24524524524524524,0.24624624624624625,0.24724724724724725,0.24824824824824826,0.24924924924924924,0.2502502502502503,0.25125125125125125,0.25225225225225223,0.25325325325325326,0.25425425425425424,0.2552552552552553,0.25625625625625625,0.25725725725725723,0.25825825825825827,0.25925925925925924,0.2602602602602603,0.26126126126126126,0.26226226226226224,0.26326326326326327,0.26426426426426425,0.2652652652652653,0.26626626626626626,0.26726726726726724,0.2682682682682683,0.26926926926926925,0.2702702702702703,0.27127127127127126,0.27227227227227224,0.2732732732732733,0.27427427427427425,0.2752752752752753,0.27627627627627627,0.2772772772772773,0.2782782782782783,0.27927927927927926,0.2802802802802803,0.28128128128128127,0.2822822822822823,0.2832832832832833,0.28428428428428426,0.2852852852852853,0.2862862862862863,0.2872872872872873,0.2882882882882883,0.28928928928928926,0.2902902902902903,0.2912912912912913,0.2922922922922923,0.2932932932932933,0.29429429429429427,0.2952952952952953,0.2962962962962963,0.2972972972972973,0.2982982982982983,0.29929929929929927,0.3003003003003003,0.3013013013013013,0.3023023023023023,0.3033033033033033,0.30430430430430433,0.3053053053053053,0.3063063063063063,0.3073073073073073,0.3083083083083083,0.30930930930930933,0.3103103103103103,0.3113113113113113,0.3123123123123123,0.3133133133133133,0.31431431431431434,0.3153153153153153,0.3163163163163163,0.3173173173173173,0.3183183183183183,0.31931931931931934,0.3203203203203203,0.3213213213213213,0.32232232232232233,0.3233233233233233,0.32432432432432434,0.3253253253253253,0.3263263263263263,0.32732732732732733,0.3283283283283283,0.32932932932932935,0.3303303303303303,0.3313313313313313,0.33233233233233234,0.3333333333333333,0.33433433433433435,0.3353353353353353,0.3363363363363363,0.33733733733733734,0.3383383383383383,0.33933933933933935,0.34034034034034033,0.34134134134134136,0.34234234234234234,0.3433433433433433,0.34434434434434436,0.34534534534534533,0.34634634634634637,0.34734734734734735,0.3483483483483483,0.34934934934934936,0.35035035035035034,0.35135135135135137,0.35235235235235235,0.3533533533533533,0.35435435435435436,0.35535535535535534,0.3563563563563564,0.35735735735735735,0.35835835835835833,0.35935935935935936,0.36036036036036034,0.3613613613613614,0.36236236236236236,0.36336336336336333,0.36436436436436437,0.36536536536536535,0.3663663663663664,0.36736736736736736,0.3683683683683684,0.36936936936936937,0.37037037037037035,0.3713713713713714,0.37237237237237236,0.3733733733733734,0.3743743743743744,0.37537537537537535,0.3763763763763764,0.37737737737737737,0.3783783783783784,0.3793793793793794,0.38038038038038036,0.3813813813813814,0.38238238238238237,0.3833833833833834,0.3843843843843844,0.38538538538538536,0.3863863863863864,0.38738738738738737,0.3883883883883884,0.3893893893893894,0.39039039039039036,0.3913913913913914,0.3923923923923924,0.3933933933933934,0.3943943943943944,0.39539539539539537,0.3963963963963964,0.3973973973973974,0.3983983983983984,0.3993993993993994,0.40040040040040037,0.4014014014014014,0.4024024024024024,0.4034034034034034,0.4044044044044044,0.40540540540540543,0.4064064064064064,0.4074074074074074,0.4084084084084084,0.4094094094094094,0.41041041041041043,0.4114114114114114,0.4124124124124124,0.4134134134134134,0.4144144144144144,0.41541541541541543,0.4164164164164164,0.4174174174174174,0.4184184184184184,0.4194194194194194,0.42042042042042044,0.4214214214214214,0.4224224224224224,0.42342342342342343,0.4244244244244244,0.42542542542542544,0.4264264264264264,0.4274274274274274,0.42842842842842843,0.4294294294294294,0.43043043043043044,0.4314314314314314,0.43243243243243246,0.43343343343343343,0.4344344344344344,0.43543543543543545,0.4364364364364364,0.43743743743743746,0.43843843843843844,0.4394394394394394,0.44044044044044045,0.44144144144144143,0.44244244244244246,0.44344344344344344,0.4444444444444444,0.44544544544544545,0.44644644644644643,0.44744744744744747,0.44844844844844844,0.4494494494494494,0.45045045045045046,0.45145145145145144,0.45245245245245247,0.45345345345345345,0.4544544544544544,0.45545545545545546,0.45645645645645644,0.4574574574574575,0.45845845845845845,0.45945945945945943,0.46046046046046046,0.46146146146146144,0.4624624624624625,0.46346346346346345,0.46446446446446443,0.46546546546546547,0.46646646646646645,0.4674674674674675,0.46846846846846846,0.4694694694694695,0.47047047047047047,0.47147147147147145,0.4724724724724725,0.47347347347347346,0.4744744744744745,0.4754754754754755,0.47647647647647645,0.4774774774774775,0.47847847847847846,0.4794794794794795,0.4804804804804805,0.48148148148148145,0.4824824824824825,0.48348348348348347,0.4844844844844845,0.4854854854854855,0.48648648648648646,0.4874874874874875,0.48848848848848847,0.4894894894894895,0.4904904904904905,0.49149149149149146,0.4924924924924925,0.4934934934934935,0.4944944944944945,0.4954954954954955,0.4964964964964965,0.4974974974974975,0.4984984984984985,0.4994994994994995,0.5005005005005005,0.5015015015015015,0.5025025025025025,0.5035035035035035,0.5045045045045045,0.5055055055055055,0.5065065065065065,0.5075075075075075,0.5085085085085085,0.5095095095095095,0.5105105105105106,0.5115115115115115,0.5125125125125125,0.5135135135135135,0.5145145145145145,0.5155155155155156,0.5165165165165165,0.5175175175175175,0.5185185185185185,0.5195195195195195,0.5205205205205206,0.5215215215215215,0.5225225225225225,0.5235235235235235,0.5245245245245245,0.5255255255255256,0.5265265265265265,0.5275275275275275,0.5285285285285285,0.5295295295295295,0.5305305305305306,0.5315315315315315,0.5325325325325325,0.5335335335335335,0.5345345345345345,0.5355355355355356,0.5365365365365365,0.5375375375375375,0.5385385385385385,0.5395395395395395,0.5405405405405406,0.5415415415415415,0.5425425425425425,0.5435435435435435,0.5445445445445445,0.5455455455455456,0.5465465465465466,0.5475475475475475,0.5485485485485485,0.5495495495495496,0.5505505505505506,0.5515515515515516,0.5525525525525525,0.5535535535535535,0.5545545545545546,0.5555555555555556,0.5565565565565566,0.5575575575575575,0.5585585585585585,0.5595595595595596,0.5605605605605606,0.5615615615615616,0.5625625625625625,0.5635635635635635,0.5645645645645646,0.5655655655655656,0.5665665665665666,0.5675675675675675,0.5685685685685685,0.5695695695695696,0.5705705705705706,0.5715715715715716,0.5725725725725725,0.5735735735735735,0.5745745745745746,0.5755755755755756,0.5765765765765766,0.5775775775775776,0.5785785785785785,0.5795795795795796,0.5805805805805806,0.5815815815815816,0.5825825825825826,0.5835835835835835,0.5845845845845846,0.5855855855855856,0.5865865865865866,0.5875875875875876,0.5885885885885885,0.5895895895895896,0.5905905905905906,0.5915915915915916,0.5925925925925926,0.5935935935935935,0.5945945945945946,0.5955955955955956,0.5965965965965966,0.5975975975975976,0.5985985985985985,0.5995995995995996,0.6006006006006006,0.6016016016016016,0.6026026026026026,0.6036036036036035,0.6046046046046046,0.6056056056056056,0.6066066066066066,0.6076076076076076,0.6086086086086087,0.6096096096096096,0.6106106106106106,0.6116116116116116,0.6126126126126126,0.6136136136136137,0.6146146146146146,0.6156156156156156,0.6166166166166166,0.6176176176176176,0.6186186186186187,0.6196196196196196,0.6206206206206206,0.6216216216216216,0.6226226226226226,0.6236236236236237,0.6246246246246246,0.6256256256256256,0.6266266266266266,0.6276276276276276,0.6286286286286287,0.6296296296296297,0.6306306306306306,0.6316316316316316,0.6326326326326326,0.6336336336336337,0.6346346346346347,0.6356356356356356,0.6366366366366366,0.6376376376376376,0.6386386386386387,0.6396396396396397,0.6406406406406406,0.6416416416416416,0.6426426426426426,0.6436436436436437,0.6446446446446447,0.6456456456456456,0.6466466466466466,0.6476476476476476,0.6486486486486487,0.6496496496496497,0.6506506506506506,0.6516516516516516,0.6526526526526526,0.6536536536536537,0.6546546546546547,0.6556556556556556,0.6566566566566566,0.6576576576576576,0.6586586586586587,0.6596596596596597,0.6606606606606606,0.6616616616616616,0.6626626626626626,0.6636636636636637,0.6646646646646647,0.6656656656656657,0.6666666666666666,0.6676676676676676,0.6686686686686687,0.6696696696696697,0.6706706706706707,0.6716716716716716,0.6726726726726726,0.6736736736736737,0.6746746746746747,0.6756756756756757,0.6766766766766766,0.6776776776776777,0.6786786786786787,0.6796796796796797,0.6806806806806807,0.6816816816816816,0.6826826826826827,0.6836836836836837,0.6846846846846847,0.6856856856856857,0.6866866866866866,0.6876876876876877,0.6886886886886887,0.6896896896896897,0.6906906906906907,0.6916916916916916,0.6926926926926927,0.6936936936936937,0.6946946946946947,0.6956956956956957,0.6966966966966966,0.6976976976976977,0.6986986986986987,0.6996996996996997,0.7007007007007007,0.7017017017017017,0.7027027027027027,0.7037037037037037,0.7047047047047047,0.7057057057057057,0.7067067067067067,0.7077077077077077,0.7087087087087087,0.7097097097097097,0.7107107107107107,0.7117117117117117,0.7127127127127127,0.7137137137137137,0.7147147147147147,0.7157157157157157,0.7167167167167167,0.7177177177177178,0.7187187187187187,0.7197197197197197,0.7207207207207207,0.7217217217217217,0.7227227227227228,0.7237237237237237,0.7247247247247247,0.7257257257257257,0.7267267267267267,0.7277277277277278,0.7287287287287287,0.7297297297297297,0.7307307307307307,0.7317317317317317,0.7327327327327328,0.7337337337337337,0.7347347347347347,0.7357357357357357,0.7367367367367368,0.7377377377377378,0.7387387387387387,0.7397397397397397,0.7407407407407407,0.7417417417417418,0.7427427427427428,0.7437437437437437,0.7447447447447447,0.7457457457457457,0.7467467467467468,0.7477477477477478,0.7487487487487487,0.7497497497497497,0.7507507507507507,0.7517517517517518,0.7527527527527528,0.7537537537537538,0.7547547547547547,0.7557557557557557,0.7567567567567568,0.7577577577577578,0.7587587587587588,0.7597597597597597,0.7607607607607607,0.7617617617617618,0.7627627627627628,0.7637637637637638,0.7647647647647647,0.7657657657657657,0.7667667667667668,0.7677677677677678,0.7687687687687688,0.7697697697697697,0.7707707707707707,0.7717717717717718,0.7727727727727728,0.7737737737737738,0.7747747747747747,0.7757757757757757,0.7767767767767768,0.7777777777777778,0.7787787787787788,0.7797797797797797,0.7807807807807807,0.7817817817817818,0.7827827827827828,0.7837837837837838,0.7847847847847848,0.7857857857857857,0.7867867867867868,0.7877877877877878,0.7887887887887888,0.7897897897897898,0.7907907907907907,0.7917917917917918,0.7927927927927928,0.7937937937937938,0.7947947947947948,0.7957957957957957,0.7967967967967968,0.7977977977977978,0.7987987987987988,0.7997997997997998,0.8008008008008007,0.8018018018018018,0.8028028028028028,0.8038038038038038,0.8048048048048048,0.8058058058058059,0.8068068068068068,0.8078078078078078,0.8088088088088088,0.8098098098098098,0.8108108108108109,0.8118118118118118,0.8128128128128128,0.8138138138138138,0.8148148148148148,0.8158158158158159,0.8168168168168168,0.8178178178178178,0.8188188188188188,0.8198198198198198,0.8208208208208209,0.8218218218218218,0.8228228228228228,0.8238238238238238,0.8248248248248248,0.8258258258258259,0.8268268268268268,0.8278278278278278,0.8288288288288288,0.8298298298298298,0.8308308308308309,0.8318318318318318,0.8328328328328328,0.8338338338338338,0.8348348348348348,0.8358358358358359,0.8368368368368369,0.8378378378378378,0.8388388388388388,0.8398398398398398,0.8408408408408409,0.8418418418418419,0.8428428428428428,0.8438438438438438,0.8448448448448448,0.8458458458458459,0.8468468468468469,0.8478478478478478,0.8488488488488488,0.8498498498498498,0.8508508508508509,0.8518518518518519,0.8528528528528528,0.8538538538538538,0.8548548548548548,0.8558558558558559,0.8568568568568569,0.8578578578578578,0.8588588588588588,0.8598598598598598,0.8608608608608609,0.8618618618618619,0.8628628628628628,0.8638638638638638,0.8648648648648649,0.8658658658658659,0.8668668668668669,0.8678678678678678,0.8688688688688688,0.8698698698698699,0.8708708708708709,0.8718718718718719,0.8728728728728729,0.8738738738738738,0.8748748748748749,0.8758758758758759,0.8768768768768769,0.8778778778778779,0.8788788788788788,0.8798798798798799,0.8808808808808809,0.8818818818818819,0.8828828828828829,0.8838838838838838,0.8848848848848849,0.8858858858858859,0.8868868868868869,0.8878878878878879,0.8888888888888888,0.8898898898898899,0.8908908908908909,0.8918918918918919,0.8928928928928929,0.8938938938938938,0.8948948948948949,0.8958958958958959,0.8968968968968969,0.8978978978978979,0.8988988988988988,0.8998998998998999,0.9009009009009009,0.9019019019019019,0.9029029029029029,0.9039039039039038,0.9049049049049049,0.9059059059059059,0.9069069069069069,0.9079079079079079,0.9089089089089089,0.9099099099099099,0.9109109109109109,0.9119119119119119,0.9129129129129129,0.9139139139139139,0.914914914914915,0.9159159159159159,0.9169169169169169,0.9179179179179179,0.9189189189189189,0.91991991991992,0.9209209209209209,0.9219219219219219,0.9229229229229229,0.9239239239239239,0.924924924924925,0.9259259259259259,0.9269269269269269,0.9279279279279279,0.9289289289289289,0.92992992992993,0.9309309309309309,0.9319319319319319,0.9329329329329329,0.933933933933934,0.934934934934935,0.9359359359359359,0.9369369369369369,0.9379379379379379,0.938938938938939,0.93993993993994,0.9409409409409409,0.9419419419419419,0.9429429429429429,0.943943943943944,0.944944944944945,0.9459459459459459,0.9469469469469469,0.9479479479479479,0.948948948948949,0.94994994994995,0.950950950950951,0.9519519519519519,0.9529529529529529,0.953953953953954,0.954954954954955,0.955955955955956,0.9569569569569569,0.9579579579579579,0.958958958958959,0.95995995995996,0.960960960960961,0.9619619619619619,0.9629629629629629,0.963963963963964,0.964964964964965,0.965965965965966,0.9669669669669669,0.9679679679679679,0.968968968968969,0.96996996996997,0.970970970970971,0.9719719719719719,0.9729729729729729,0.973973973973974,0.974974974974975,0.975975975975976,0.9769769769769769,0.9779779779779779,0.978978978978979,0.97997997997998,0.980980980980981,0.9819819819819819,0.9829829829829829,0.983983983983984,0.984984984984985,0.985985985985986,0.986986986986987,0.9879879879879879,0.988988988988989,0.98998998998999,0.990990990990991,0.991991991991992,0.992992992992993,0.993993993993994,0.994994994994995,0.995995995995996,0.996996996996997,0.997997997997998,0.998998998998999,1.0],\"y\":[3.8526052814822506e-05,3.8362123803290824e-05,3.819892174848769e-05,3.8036443426663524e-05,3.787468562836468e-05,3.7713645158370164e-05,3.755331883562838e-05,3.739370349319444e-05,3.723479597816749e-05,3.707659315162847e-05,3.691909188857816e-05,3.676228907787535e-05,3.66061816221755e-05,3.6450766437869434e-05,3.629604045502257e-05,3.6142000617314136e-05,3.598864388197693e-05,3.58359672197371e-05,3.568396761475436e-05,3.553264206456247e-05,3.538198758000981e-05,3.5232001185200454e-05,3.508267991743527e-05,3.493402082715355e-05,3.4786020977874564e-05,3.463867744613968e-05,3.449198732145462e-05,3.434594770623188e-05,3.42005557157336e-05,3.405580847801446e-05,3.3911703133865105e-05,3.376823683675548e-05,3.362540675277881e-05,3.348321006059542e-05,3.3341643951377144e-05,3.3200705628751794e-05,3.306039230874792e-05,3.2920701219739836e-05,3.278162960239283e-05,3.2643174709608704e-05,3.250533380647151e-05,3.2368104170193466e-05,3.223148309006127e-05,3.209546786738247e-05,3.196005581543219e-05,3.1825244259400074e-05,3.1691030536337414e-05,3.1557411995104566e-05,3.1424385996318624e-05,3.1291949912301185e-05,3.1160101127026525e-05,3.1028837036069934e-05,3.089815504655619e-05,3.076805257710842e-05,3.0638527057797065e-05,3.0509575930089147e-05,3.03811966467977e-05,3.0253386672031464e-05,3.0126143481144818e-05,2.9999464560687863e-05,2.987334740835684e-05,2.974778953294462e-05,2.9622788454291563e-05,2.9498341703236505e-05,2.9374446821567946e-05,2.925110136197558e-05,2.9128302888001853e-05,2.900604897399392e-05,2.8884337205055664e-05,2.8763165177000054e-05,2.8642530496301586e-05,2.8522430780049082e-05,2.8402863655898564e-05,2.8283826762026384e-05,2.8165317747082652e-05,2.8047334270144673e-05,2.7929874000670817e-05,2.781293461845439e-05,2.769651381357789e-05,2.7580609286367297e-05,2.7465218747346695e-05,2.735033991719306e-05,2.7235970526691174e-05,2.712210831668889e-05,2.7008751038052407e-05,2.6895896451621942e-05,2.678354232816741e-05,2.667168644834445e-05,2.6560326602650567e-05,2.644946059138148e-05,2.633908622458769e-05,2.6229201322031192e-05,2.6119803713142454e-05,2.6010891236977475e-05,2.590246174217518e-05,2.5794513086914854e-05,2.5687043138873855e-05,2.5580049775185546e-05,2.5473530882397262e-05,2.536748435642867e-05,2.5261908102530097e-05,2.5156800035241286e-05,2.505215807835004e-05,2.4947980164851376e-05,2.4844264236906557e-05,2.4741008245802518e-05,2.4638210151911407e-05,2.4535867924650225e-05,2.4433979542440803e-05,2.433254299266981e-05,2.4231556271648992e-05,2.4131017384575665e-05,2.403092434549321e-05,2.3931275177251948e-05,2.383206791146998e-05,2.373330058849441e-05,2.363497125736254e-05,2.3537077975763414e-05,2.3439618809999394e-05,2.334259183494797e-05,2.3245995134023787e-05,2.3149826799140706e-05,2.3054084930674188e-05,2.2958767637423698e-05,2.2863873036575424e-05,2.276939925366501e-05,2.2675344422540607e-05,2.2581706685325935e-05,2.2488484192383635e-05,2.2395675102278725e-05,2.2303277581742195e-05,2.2211289805634854e-05,2.211970995691121e-05,2.20285362265836e-05,2.1937766813686506e-05,2.1847399925240923e-05,2.1757433776218953e-05,2.1667866589508534e-05,2.15786965958784e-05,2.1489922033943045e-05,2.1401541150127998e-05,2.1313552198635143e-05,2.1225953441408267e-05,2.113874314809869e-05,2.105191959603111e-05,2.0965481070169594e-05,2.0879425863083643e-05,2.079375227491453e-05,2.0708458613341665e-05,2.0623543193549225e-05,2.053900433819281e-05,2.0454840377366346e-05,2.0371049648569122e-05,2.028763049667291e-05,2.0204581273889267e-05,2.012190033973702e-05,2.003958606100985e-05,1.9957636811744008e-05,1.9876050973186244e-05,1.9794826933761776e-05,1.9713963089042482e-05,1.963345784171524e-05,1.9553309601550306e-05,1.9473516785369975e-05,1.9394077817017256e-05,1.9314991127324745e-05,1.9236255154083663e-05,1.915786834201298e-05,1.9079829142728656e-05,1.9002136014713105e-05,1.8924787423284742e-05,1.884778184056763e-05,1.8771117745461348e-05,1.8694793623610898e-05,1.8618807967376818e-05,1.854315927580541e-05,1.846784605459907e-05,1.839286681608679e-05,1.831822007919474e-05,1.8243904369417066e-05,1.816991821878669e-05,1.8096260165846404e-05,1.8022928755619918e-05,1.794992253958315e-05,1.787724007563565e-05,1.780487992807206e-05,1.773284066755378e-05,1.766112087108072e-05,1.7589719121963218e-05,1.751863400979402e-05,1.744786413042047e-05,1.7377408085916716e-05,1.730726448455612e-05,1.7237431940783797e-05,1.716790907518919e-05,1.709869451447888e-05,1.7029786891449416e-05,1.696118484496031e-05,1.689288701990719e-05,1.6824892067195e-05,1.675719864371134e-05,1.668980541229998e-05,1.662271104173438e-05,1.6555914206691476e-05,1.6489413587725443e-05,1.642320787124164e-05,1.6357295749470676e-05,1.629167592044257e-05,1.6226347087961027e-05,1.6161307961577866e-05,1.6096557256567472e-05,1.603209369390148e-05,1.5967916000223458e-05,1.5904022907823803e-05,1.5840413154614654e-05,1.5777085484104985e-05,1.5714038645375795e-05,1.5651271393055388e-05,1.558878248729475e-05,1.5526570693743104e-05,1.5464634783523478e-05,1.540297353320848e-05,1.5341585724796106e-05,1.528047014568567e-05,1.5219625588653864e-05,1.5159050851830923e-05,1.509874473867686e-05,1.5038706057957855e-05,1.4978933623722708e-05,1.4919426255279406e-05,1.4860182777171831e-05,1.4801202019156516e-05,1.474248281617953e-05,1.4684024008353474e-05,1.4625824440934555e-05,1.4567882964299806e-05,1.4510198433924349e-05,1.445276971035879e-05,1.4395595659206728e-05,1.4338675151102316e-05,1.4282007061687999e-05,1.4225590271592269e-05,1.4169423666407559e-05,1.4113506136668228e-05,1.405783657782867e-05,1.400241389024147e-05,1.3947236979135683e-05,1.389230475459522e-05,1.3837616131537318e-05,1.3783170029691105e-05,1.3728965373576256e-05,1.3675001092481749e-05,1.3621276120444714e-05,1.3567789396229398e-05,1.3514539863306177e-05,1.3461526469830693e-05,1.3408748168623074e-05,1.3356203917147259e-05,1.3303892677490404e-05,1.3251813416342372e-05,1.3199965104975322e-05,1.3148346719223387e-05,1.3096957239462461e-05,1.3045795650590033e-05,1.2994860942005158e-05,1.2944152107588476e-05,1.2893668145682354e-05,1.2843408059071085e-05,1.2793370854961196e-05,1.2743555544961852e-05,1.2693961145065301e-05,1.2644586675627473e-05,1.259543116134859e-05,1.2546493631253943e-05,1.2497773118674673e-05,1.24492686612287e-05,1.2400979300801706e-05,1.235290408352822e-05,1.2305042059772752e-05,1.2257392284111053e-05,1.220995381531143e-05,1.2162725716316183e-05,1.2115707054223045e-05,1.2068896900266796e-05,1.2022294329800896e-05,1.1975898422279215e-05,1.1929708261237897e-05,1.1883722934277186e-05,1.1837941533043447e-05,1.1792363153211217e-05,1.1746986894465338e-05,1.1701811860483182e-05,1.1656837158916923e-05,1.1612061901375928e-05,1.156748520340922e-05,1.1523106184487972e-05,1.1478923967988153e-05,1.1434937681173179e-05,1.1391146455176703e-05,1.1347549424985424e-05,1.1304145729422016e-05,1.1260934511128126e-05,1.1217914916547415e-05,1.1175086095908716e-05,1.1132447203209242e-05,1.1089997396197875e-05,1.1047735836358526e-05,1.1005661688893575e-05,1.0963774122707383e-05,1.0922072310389884e-05,1.088055542820021e-05,1.083922265605045e-05,1.0798073177489432e-05,1.0757106179686632e-05,1.0716320853416054e-05,1.0675716393040305e-05,1.0635291996494647e-05,1.0595046865271158e-05,1.055498020440299e-05,1.051509122244862e-05,1.0475379131476243e-05,1.0435843147048198e-05,1.0396482488205483e-05,1.0357296377452334e-05,1.0318284040740835e-05,1.0279444707455654e-05,1.0240777610398834e-05,1.0202281985774598e-05,1.01639570731743e-05,1.0125802115561385e-05,1.0087816359256428e-05,1.0049999053922276e-05,1.0012349452549192e-05,9.97486681144013e-06,9.937550390196011e-06,9.90039945170114e-06,9.863413262108603e-06,9.826591090825802e-06,9.789932210500007e-06,9.753435897003991e-06,9.717101429421735e-06,9.680928090034184e-06,9.644915164305058e-06,9.609061940866755e-06,9.573367711506282e-06,9.537831771151286e-06,9.502453417856112e-06,9.467231952787941e-06,9.43216668021298e-06,9.397256907482723e-06,9.362501945020288e-06,9.32790110630677e-06,9.29345370786768e-06,9.259159069259457e-06,9.22501651305603e-06,9.191025364835428e-06,9.157184953166454e-06,9.123494609595431e-06,9.089953668632998e-06,9.056561467740956e-06,9.023317347319193e-06,8.990220650692642e-06,8.957270724098317e-06,8.9244669166724e-06,8.891808580437383e-06,8.859295070289267e-06,8.826925743984811e-06,8.794699962128876e-06,8.762617088161748e-06,8.730676488346612e-06,8.69887753175699e-06,8.667219590264319e-06,8.635702038525513e-06,8.604324253970624e-06,8.57308561679054e-06,8.54198550992475e-06,8.511023319049137e-06,8.480198432563866e-06,8.449510241581291e-06,8.418958139913922e-06,8.388541524062462e-06,8.358259793203877e-06,8.328112349179544e-06,8.298098596483407e-06,8.268217942250247e-06,8.23846979624394e-06,8.208853570845824e-06,8.179368681043076e-06,8.150014544417159e-06,8.120790581132323e-06,8.091696213924144e-06,8.062730868088127e-06,8.03389397146835e-06,8.005184954446166e-06,7.976603249928946e-06,7.948148293338881e-06,7.919819522601829e-06,7.891616378136214e-06,7.863538302841969e-06,7.835584742089532e-06,7.807755143708893e-06,7.780048957978681e-06,7.752465637615325e-06,7.725004637762206e-06,7.697665415978936e-06,7.670447432230607e-06,7.643350148877157e-06,7.616373030662723e-06,7.589515544705077e-06,7.5627771604851085e-06,7.536157349836332e-06,7.50965558693446e-06,7.483271348287022e-06,7.457004112723011e-06,7.430853361382599e-06,7.404818577706885e-06,7.3788992474276925e-06,7.353094858557407e-06,7.327404901378862e-06,7.301828868435283e-06,7.276366254520246e-06,7.251016556667713e-06,7.225779274142086e-06,7.20065390842832e-06,7.175639963222078e-06,7.150736944419929e-06,7.125944360109576e-06,7.101261720560158e-06,7.076688538212552e-06,7.052224327669774e-06,7.027868605687356e-06,7.00362089116383e-06,6.979480705131203e-06,6.955447570745514e-06,6.931521013277397e-06,6.907700560102716e-06,6.883985740693232e-06,6.860376086607289e-06,6.836871131480588e-06,6.813470411016952e-06,6.790173462979167e-06,6.766979827179847e-06,6.743889045472347e-06,6.720900661741709e-06,6.698014221895654e-06,6.675229273855615e-06,6.6525453675478035e-06,6.6299620548943175e-06,6.607478889804302e-06,6.585095428165118e-06,6.5628112278335866e-06,6.5406258486272485e-06,6.51853885231567e-06,6.496549802611784e-06,6.474658265163283e-06,6.452863807544014e-06,6.431165999245472e-06,6.409564411668265e-06,6.388058618113665e-06,6.3666481937751766e-06,6.345332715730137e-06,6.3241117629313765e-06,6.30298491619889e-06,6.28195175821156e-06,6.261011873498915e-06,6.240164848432924e-06,6.219410271219819e-06,6.19874773189197e-06,6.178176822299781e-06,6.157697136103621e-06,6.137308268765822e-06,6.1170098175426605e-06,6.09680138147641e-06,6.076682561387436e-06,6.056652959866285e-06,6.036712181265866e-06,6.016859831693599e-06,5.997095519003663e-06,5.977418852789243e-06,5.9578294443748074e-06,5.938326906808443e-06,5.918910854854206e-06,5.899580904984512e-06,5.880336675372563e-06,5.861177785884804e-06,5.8421038580734095e-06,5.823114515168816e-06,5.8042093820722746e-06,5.7853880853484435e-06,5.7666502532180085e-06,5.747995515550345e-06,5.729423503856201e-06,5.710933851280417e-06,5.692526192594691e-06,5.674200164190349e-06,5.655955404071175e-06,5.637791551846249e-06,5.61970824872284e-06,5.60170513749931e-06,5.58378186255806e-06,5.565938069858512e-06,5.548173406930106e-06,5.530487522865339e-06,5.512880068312844e-06,5.495350695470471e-06,5.477899058078439e-06,5.460524811412478e-06,5.443227612277025e-06,5.426007118998452e-06,5.408862991418301e-06,5.391794890886586e-06,5.374802480255086e-06,5.357885423870694e-06,5.341043387568779e-06,5.324276038666599e-06,5.307583045956714e-06,5.290964079700459e-06,5.274418811621408e-06,5.257946914898923e-06,5.241548064161662e-06,5.2252219354811766e-06,5.208968206365505e-06,5.192786555752807e-06,5.176676664005011e-06,5.160638212901509e-06,5.144670885632868e-06,5.128774366794573e-06,5.112948342380799e-06,5.097192499778204e-06,5.081506527759753e-06,5.065890116478573e-06,5.05034295746184e-06,5.03486474360467e-06,5.019455169164065e-06,5.004113929752866e-06,4.988840722333744e-06,4.973635245213225e-06,4.958497198035704e-06,4.943426281777539e-06,4.928422198741122e-06,4.9134846525490225e-06,4.898613348138112e-06,4.883807991753746e-06,4.869068290943958e-06,4.854393954553686e-06,4.839784692719018e-06,4.8252402168614666e-06,4.81076023968227e-06,4.796344475156719e-06,4.7819926385284985e-06,4.767704446304077e-06,4.75347961624709e-06,4.739317867372782e-06,4.72521891994244e-06,4.71118249545788e-06,4.697208316655939e-06,4.683296107503e-06,4.669445593189543e-06,4.655656500124711e-06,4.641928555930907e-06,4.628261489438419e-06,4.614655030680055e-06,4.60110891088582e-06,4.587622862477595e-06,4.574196619063862e-06,4.560829915434441e-06,4.547522487555244e-06,4.534274072563064e-06,4.521084408760387e-06,4.507953235610209e-06,4.4948802937309135e-06,4.481865324891119e-06,4.4689080720046e-06,4.456008279125198e-06,4.44316569144177e-06,4.430380055273156e-06,4.417651118063164e-06,4.404978628375579e-06,4.392362335889211e-06,4.3798019913929285e-06,4.367297346780759e-06,4.354848155046964e-06,4.342454170281183e-06,4.330115147663559e-06,4.317830843459911e-06,4.305601015016916e-06,4.293425420757318e-06,4.281303820175159e-06,4.269235973831018e-06,4.257221643347291e-06,4.245260591403478e-06,4.2333525817315e-06,4.221497379111027e-06,4.2096947493648264e-06,4.197944459354151e-06,4.186246276974127e-06,4.174599971149165e-06,4.163005311828401e-06,4.151462069981152e-06,4.139970017592384e-06,4.128528927658223e-06,4.11713857418146e-06,4.105798732167088e-06,4.094509177617854e-06,4.083269687529847e-06,4.0720800398880874e-06,4.060940013662128e-06,4.049849388801708e-06,4.038807946232395e-06,4.027815467851263e-06,4.016871736522577e-06,4.005976536073511e-06,3.9951296512898735e-06,3.984330867911861e-06,3.973579972629821e-06,3.962876753080039e-06,3.952220997840547e-06,3.941612496426946e-06,3.931051039288243e-06,3.920536417802721e-06,3.91006842427381e-06,3.8996468519259905e-06,3.889271494900702e-06,3.878942148252285e-06,3.868658607943925e-06,3.85842067084363e-06,3.84822813472021e-06,3.838080798239285e-06,3.8279784609593095e-06,3.817920923327618e-06,3.80790798667647e-06,3.7979394532191392e-06,3.7880151260459973e-06,3.7781348091206275e-06,3.7682983072759586e-06,3.758505426210397e-06,3.748755972483999e-06,3.739049753514645e-06,3.7293865775742377e-06,3.7197662537849143e-06,3.7101885921152738e-06,3.7006534033766265e-06,3.6911604992192544e-06,3.6817096921286925e-06,3.6723007954220265e-06,3.6629336232441994e-06,3.6536079905643438e-06,3.6443237131721306e-06,3.6350806076741215e-06,3.625878491490157e-06,3.6167171828497395e-06,3.607596500788452e-06,3.598516265144376e-06,3.5894762965545348e-06,3.580476416451356e-06,3.571516447059138e-06,3.562596211390539e-06,3.553715533243082e-06,3.5448742371956754e-06,3.5360721486051475e-06,3.5273090936027964e-06,3.518584899090953e-06,3.5098993927395665e-06,3.5012524029827947e-06,3.492643759015623e-06,3.484073290790483e-06,3.475540829013896e-06,3.4670462051431285e-06,3.4585892513828664e-06,3.450169800681896e-06,3.441787686729807e-06,3.433442743953704e-06,3.425134807514939e-06,3.416863713305858e-06,3.408629297946553e-06,3.400431398781637e-06,3.3922698538770327e-06,3.3841445020167727e-06,3.3760551826998174e-06,3.3680017361368785e-06,3.3599840032472677e-06,3.3520018256557547e-06,3.3440550456894354e-06,3.3361435063746217e-06,3.328267051433734e-06,3.320425525282223e-06,3.3126187730254903e-06,3.3048466404558273e-06,3.297108974049378e-06,3.2894056209630954e-06,3.281736429031732e-06,3.274101246764826e-06,3.2664999233437135e-06,3.2589323086185493e-06,3.251398253105341e-06,3.243897607982993e-06,3.2364302250903707e-06,3.2289959569233685e-06,3.221594656632008e-06,3.2142261780175217e-06,3.206890375529475e-06,3.19958710426289e-06,3.1923162199553778e-06,3.1850775789843e-06,3.1778710383639187e-06,3.1706964557425797e-06,3.163553689399899e-06,3.156442598243964e-06,3.1493630418085454e-06,3.142314880250323e-06,3.135297974346122e-06,3.128312185490168e-06,3.1213573756913406e-06,3.1144334075704563e-06,3.1075401443575473e-06,3.100677449889168e-06,3.0938451886056963e-06,3.087043225548663e-06,3.0802714263580835e-06,3.073529657269802e-06,3.066817785112853e-06,3.0601356773068274e-06,3.053483201859253e-06,3.046860227362993e-06,3.040266622993645e-06,3.033702258506956e-06,3.027167004236255e-06,3.0206607310898847e-06,3.014183310548661e-06,3.007734614663324e-06,3.001314516052017e-06,2.9949228878977686e-06,2.988559603945986e-06,2.9822245385019673e-06,2.9759175664284108e-06,2.9696385631429454e-06,2.9633874046156726e-06,2.9571639673667166e-06,2.9509681284637795e-06,2.944799765519719e-06,2.938658756690128e-06,2.9325449806709284e-06,2.926458316695977e-06,2.920398644534675e-06,2.9143658444895962e-06,2.9083597973941275e-06,2.902380384610102e-06,2.8964274880254717e-06,2.8905009900519596e-06,2.8846007736227476e-06,2.8787267221901587e-06,2.8728787197233556e-06,2.8670566507060504e-06,2.861260400134222e-06,2.855489853513844e-06,2.8497448968586206e-06,2.844025416687741e-06,2.8383313000236327e-06,2.832662434389733e-06,2.827018707808264e-06,2.821400008798023e-06,2.8158062263721796e-06,2.8102372500360866e-06,2.804692969785091e-06,2.799173276102365e-06,2.7936780599567434e-06,2.788207212800566e-06,2.7827606265675413e-06,2.777338193670603e-06,2.7719398069997884e-06,2.7665653599201227e-06,2.7612147462695147e-06,2.7558878603566574e-06,2.7505845969589383e-06,2.7453048513203654e-06,2.7400485191494945e-06,2.7348154966173713e-06,2.7296056803554806e-06,2.724418967453701e-06,2.7192552554582757e-06,2.714114442369788e-06,2.7089964266411444e-06,2.7039011071755734e-06,2.698828383324621e-06,2.6937781548861723e-06,2.688750322102463e-06,2.6837447856581136e-06,2.6787614466781687e-06,2.67380020672614e-06,2.6688609678020648e-06,2.663943632340569e-06,2.6590481032089397e-06,2.6541742837052095e-06,2.649322077556241e-06,2.6444913889158297e-06,2.6396821223628076e-06,2.6348941828991588e-06,2.6301274759481495e-06,2.6253819073524483e-06,2.6206573833722738e-06,2.6159538106835424e-06,2.6112710963760234e-06,2.6066091479515047e-06,2.601967873321964e-06,2.597347180807752e-06,2.5927469791357777e-06,2.5881671774377135e-06,2.583607685248191e-06,2.579068412503018e-06,2.574549269537399e-06,2.570050167084167e-06,2.565571016272017e-06,2.561111728623749e-06,2.5566722160545227e-06,2.5522523908701205e-06,2.5478521657652085e-06,2.543471453821617e-06,2.5391101685066223e-06,2.5347682236712367e-06,2.530445533548508e-06,2.526142012751823e-06,2.5218575762732234e-06,2.5175921394817278e-06,2.513345618121655e-06,2.5091179283109624e-06,2.5049089865395915e-06,2.5007187096678144e-06,2.496547014924594e-06,2.4923938199059477e-06,2.488259042573321e-06,2.4841426012519634e-06,2.4800444146293225e-06,2.4759644017534295e-06,2.4719024820313045e-06,2.4678585752273643e-06,2.4638326014618363e-06,2.4598244812091827e-06,2.455834135296528e-06,2.4518614849020937e-06,2.4479064515536433e-06,2.4439689571269344e-06,2.440048923844171e-06,2.4361462742724687e-06,2.432260931322326e-06,2.428392818246103e-06,2.424541858636501e-06,2.4207079764250573e-06,2.41689109588064e-06,2.4130911416079547e-06,2.4093080385460517e-06,2.4055417119668465e-06,2.401792087473643e-06,2.398059090999661e-06,2.394342648806579e-06,2.3906426874830713e-06,2.3869591339433623e-06,2.38329191542578e-06,2.3796409594913215e-06,2.3760061940222207e-06,2.372387547220522e-06,2.368784947606664e-06,2.36519832401807e-06,2.3616276056077365e-06,2.358072721842839e-06,2.3545336025033334e-06,2.351010177680577e-06,2.347502377775939e-06,2.3440101334994315e-06,2.3405333758683366e-06,2.337072036205848e-06,2.333626046139712e-06,2.330195337600877e-06,2.326779842822149e-06,2.3233794943368527e-06,2.319994224977501e-06,2.3166239678744656e-06,2.3132686564546565e-06,2.309928224440208e-06,2.3066026058471707e-06,2.3032917349842035e-06,2.299995546451281e-06,2.2967139751383988e-06,2.293446956224289e-06,2.290194425175138e-06,2.286956317743313e-06,2.2837325699660933e-06,2.2805231181644055e-06,2.277327898941566e-06,2.2741468491820303e-06,2.2709799060501428e-06,2.2678270069889004e-06,2.264688089718713e-06,2.261563092236174e-06,2.258451952812836e-06,2.2553546099939923e-06,2.252271002597462e-06,2.2492010697123818e-06,2.2461447506980016e-06,2.2431019851824887e-06,2.240072713061733e-06,2.2370568744981644e-06,2.2340544099195627e-06,2.2310652600178892e-06,2.2280893657481107e-06,2.225126668327032e-06,2.22217710923214e-06,2.219240630200443e-06,2.2163171732273214e-06,2.2134066805653817e-06,2.2105090947233157e-06,2.207624358464767e-06,2.2047524148071957e-06,2.2018932070207583e-06,2.1990466786271827e-06,2.1962127733986543e-06,2.193391435356708e-06,2.1905826087711166e-06,2.1877862381587944e-06,2.1850022682827006e-06,2.1822306441507467e-06,2.1794713110147115e-06,2.1767242143691605e-06,2.1739892999503656e-06,2.171266513735238e-06,2.1685558019402565e-06,2.1658571110204095e-06,2.163170387668135e-06,2.160495578812266e-06,2.157832631616985e-06,2.1551814934807795e-06,2.1525421120354026e-06,2.1499144351448396e-06,2.147298410904275e-06,2.144693987639071e-06,2.142101113903746e-06,2.1395197384809566e-06,2.1369498103804867e-06,2.1343912788382405e-06,2.13184409331524e-06,2.1293082034966276e-06,2.12678355929067e-06,2.1242701108277692e-06,2.121767808459479e-06,2.119276602757523e-06,2.116796444512819e-06,2.114327284734507e-06,2.1118690746489788e-06,2.109421765698919e-06,2.106985309542342e-06,2.1045596580516403e-06,2.102144763312632e-06,2.0997405776236125e-06,2.097347053494418e-06,2.0949641436454797e-06,2.092591801006897e-06,2.090229978717504e-06,2.087878630123943e-06,2.0855377087797465e-06,2.0832071684444166e-06,2.080886963082512e-06,2.078577046862742e-06,2.0762773741570545e-06,2.0739878995397427e-06,2.071708577786542e-06,2.069439363873739e-06,2.0671802129772796e-06,2.0649310804718893e-06,2.0626919219301853e-06,2.060462693121804e-06,2.0582433500125212e-06,2.0560338487633904e-06,2.05383414572987e-06,2.0516441974609648e-06,2.0494639606983653e-06,2.047293392375596e-06,2.045132449617163e-06,2.0429810897377065e-06,2.040839270241159e-06,2.038706948819905e-06,2.0365840833539464e-06,2.0344706319100688e-06,2.0323665527410145e-06,2.0302718042846573e-06,2.0281863451631824e-06,2.026110134182267e-06,2.024043130330269e-06,2.0219852927774156e-06,2.019936580874997e-06,2.017896954154562e-06,2.0158663723271233e-06,2.0138447952823555e-06,2.011832183087807e-06,2.0098284959881096e-06,2.007833694404194e-06,2.0058477389325076e-06,2.003870590344235e-06,2.001902209584525e-06,1.999942557771719e-06,1.997991596196581e-06,1.9960492863215353e-06],\"type\":\"scatter\",\"uid\":\"ec5dc5cd-02ee-4364-a7e0-f65f2526759a\"}],                        {\"template\":{\"data\":{\"barpolar\":[{\"marker\":{\"line\":{\"color\":\"white\",\"width\":0.5},\"pattern\":{\"fillmode\":\"overlay\",\"size\":10,\"solidity\":0.2}},\"type\":\"barpolar\"}],\"bar\":[{\"error_x\":{\"color\":\"#2a3f5f\"},\"error_y\":{\"color\":\"#2a3f5f\"},\"marker\":{\"line\":{\"color\":\"white\",\"width\":0.5},\"pattern\":{\"fillmode\":\"overlay\",\"size\":10,\"solidity\":0.2}},\"type\":\"bar\"}],\"carpet\":[{\"aaxis\":{\"endlinecolor\":\"#2a3f5f\",\"gridcolor\":\"#C8D4E3\",\"linecolor\":\"#C8D4E3\",\"minorgridcolor\":\"#C8D4E3\",\"startlinecolor\":\"#2a3f5f\"},\"baxis\":{\"endlinecolor\":\"#2a3f5f\",\"gridcolor\":\"#C8D4E3\",\"linecolor\":\"#C8D4E3\",\"minorgridcolor\":\"#C8D4E3\",\"startlinecolor\":\"#2a3f5f\"},\"type\":\"carpet\"}],\"choropleth\":[{\"colorbar\":{\"outlinewidth\":0,\"ticks\":\"\"},\"type\":\"choropleth\"}],\"contourcarpet\":[{\"colorbar\":{\"outlinewidth\":0,\"ticks\":\"\"},\"type\":\"contourcarpet\"}],\"contour\":[{\"colorbar\":{\"outlinewidth\":0,\"ticks\":\"\"},\"colorscale\":[[0.0,\"#0d0887\"],[0.1111111111111111,\"#46039f\"],[0.2222222222222222,\"#7201a8\"],[0.3333333333333333,\"#9c179e\"],[0.4444444444444444,\"#bd3786\"],[0.5555555555555556,\"#d8576b\"],[0.6666666666666666,\"#ed7953\"],[0.7777777777777778,\"#fb9f3a\"],[0.8888888888888888,\"#fdca26\"],[1.0,\"#f0f921\"]],\"type\":\"contour\"}],\"heatmapgl\":[{\"colorbar\":{\"outlinewidth\":0,\"ticks\":\"\"},\"colorscale\":[[0.0,\"#0d0887\"],[0.1111111111111111,\"#46039f\"],[0.2222222222222222,\"#7201a8\"],[0.3333333333333333,\"#9c179e\"],[0.4444444444444444,\"#bd3786\"],[0.5555555555555556,\"#d8576b\"],[0.6666666666666666,\"#ed7953\"],[0.7777777777777778,\"#fb9f3a\"],[0.8888888888888888,\"#fdca26\"],[1.0,\"#f0f921\"]],\"type\":\"heatmapgl\"}],\"heatmap\":[{\"colorbar\":{\"outlinewidth\":0,\"ticks\":\"\"},\"colorscale\":[[0.0,\"#0d0887\"],[0.1111111111111111,\"#46039f\"],[0.2222222222222222,\"#7201a8\"],[0.3333333333333333,\"#9c179e\"],[0.4444444444444444,\"#bd3786\"],[0.5555555555555556,\"#d8576b\"],[0.6666666666666666,\"#ed7953\"],[0.7777777777777778,\"#fb9f3a\"],[0.8888888888888888,\"#fdca26\"],[1.0,\"#f0f921\"]],\"type\":\"heatmap\"}],\"histogram2dcontour\":[{\"colorbar\":{\"outlinewidth\":0,\"ticks\":\"\"},\"colorscale\":[[0.0,\"#0d0887\"],[0.1111111111111111,\"#46039f\"],[0.2222222222222222,\"#7201a8\"],[0.3333333333333333,\"#9c179e\"],[0.4444444444444444,\"#bd3786\"],[0.5555555555555556,\"#d8576b\"],[0.6666666666666666,\"#ed7953\"],[0.7777777777777778,\"#fb9f3a\"],[0.8888888888888888,\"#fdca26\"],[1.0,\"#f0f921\"]],\"type\":\"histogram2dcontour\"}],\"histogram2d\":[{\"colorbar\":{\"outlinewidth\":0,\"ticks\":\"\"},\"colorscale\":[[0.0,\"#0d0887\"],[0.1111111111111111,\"#46039f\"],[0.2222222222222222,\"#7201a8\"],[0.3333333333333333,\"#9c179e\"],[0.4444444444444444,\"#bd3786\"],[0.5555555555555556,\"#d8576b\"],[0.6666666666666666,\"#ed7953\"],[0.7777777777777778,\"#fb9f3a\"],[0.8888888888888888,\"#fdca26\"],[1.0,\"#f0f921\"]],\"type\":\"histogram2d\"}],\"histogram\":[{\"marker\":{\"pattern\":{\"fillmode\":\"overlay\",\"size\":10,\"solidity\":0.2}},\"type\":\"histogram\"}],\"mesh3d\":[{\"colorbar\":{\"outlinewidth\":0,\"ticks\":\"\"},\"type\":\"mesh3d\"}],\"parcoords\":[{\"line\":{\"colorbar\":{\"outlinewidth\":0,\"ticks\":\"\"}},\"type\":\"parcoords\"}],\"pie\":[{\"automargin\":true,\"type\":\"pie\"}],\"scatter3d\":[{\"line\":{\"colorbar\":{\"outlinewidth\":0,\"ticks\":\"\"}},\"marker\":{\"colorbar\":{\"outlinewidth\":0,\"ticks\":\"\"}},\"type\":\"scatter3d\"}],\"scattercarpet\":[{\"marker\":{\"colorbar\":{\"outlinewidth\":0,\"ticks\":\"\"}},\"type\":\"scattercarpet\"}],\"scattergeo\":[{\"marker\":{\"colorbar\":{\"outlinewidth\":0,\"ticks\":\"\"}},\"type\":\"scattergeo\"}],\"scattergl\":[{\"marker\":{\"colorbar\":{\"outlinewidth\":0,\"ticks\":\"\"}},\"type\":\"scattergl\"}],\"scattermapbox\":[{\"marker\":{\"colorbar\":{\"outlinewidth\":0,\"ticks\":\"\"}},\"type\":\"scattermapbox\"}],\"scatterpolargl\":[{\"marker\":{\"colorbar\":{\"outlinewidth\":0,\"ticks\":\"\"}},\"type\":\"scatterpolargl\"}],\"scatterpolar\":[{\"marker\":{\"colorbar\":{\"outlinewidth\":0,\"ticks\":\"\"}},\"type\":\"scatterpolar\"}],\"scatter\":[{\"fillpattern\":{\"fillmode\":\"overlay\",\"size\":10,\"solidity\":0.2},\"type\":\"scatter\"}],\"scatterternary\":[{\"marker\":{\"colorbar\":{\"outlinewidth\":0,\"ticks\":\"\"}},\"type\":\"scatterternary\"}],\"surface\":[{\"colorbar\":{\"outlinewidth\":0,\"ticks\":\"\"},\"colorscale\":[[0.0,\"#0d0887\"],[0.1111111111111111,\"#46039f\"],[0.2222222222222222,\"#7201a8\"],[0.3333333333333333,\"#9c179e\"],[0.4444444444444444,\"#bd3786\"],[0.5555555555555556,\"#d8576b\"],[0.6666666666666666,\"#ed7953\"],[0.7777777777777778,\"#fb9f3a\"],[0.8888888888888888,\"#fdca26\"],[1.0,\"#f0f921\"]],\"type\":\"surface\"}],\"table\":[{\"cells\":{\"fill\":{\"color\":\"#EBF0F8\"},\"line\":{\"color\":\"white\"}},\"header\":{\"fill\":{\"color\":\"#C8D4E3\"},\"line\":{\"color\":\"white\"}},\"type\":\"table\"}]},\"layout\":{\"annotationdefaults\":{\"arrowcolor\":\"#2a3f5f\",\"arrowhead\":0,\"arrowwidth\":1},\"autotypenumbers\":\"strict\",\"coloraxis\":{\"colorbar\":{\"outlinewidth\":0,\"ticks\":\"\"}},\"colorscale\":{\"diverging\":[[0,\"#8e0152\"],[0.1,\"#c51b7d\"],[0.2,\"#de77ae\"],[0.3,\"#f1b6da\"],[0.4,\"#fde0ef\"],[0.5,\"#f7f7f7\"],[0.6,\"#e6f5d0\"],[0.7,\"#b8e186\"],[0.8,\"#7fbc41\"],[0.9,\"#4d9221\"],[1,\"#276419\"]],\"sequential\":[[0.0,\"#0d0887\"],[0.1111111111111111,\"#46039f\"],[0.2222222222222222,\"#7201a8\"],[0.3333333333333333,\"#9c179e\"],[0.4444444444444444,\"#bd3786\"],[0.5555555555555556,\"#d8576b\"],[0.6666666666666666,\"#ed7953\"],[0.7777777777777778,\"#fb9f3a\"],[0.8888888888888888,\"#fdca26\"],[1.0,\"#f0f921\"]],\"sequentialminus\":[[0.0,\"#0d0887\"],[0.1111111111111111,\"#46039f\"],[0.2222222222222222,\"#7201a8\"],[0.3333333333333333,\"#9c179e\"],[0.4444444444444444,\"#bd3786\"],[0.5555555555555556,\"#d8576b\"],[0.6666666666666666,\"#ed7953\"],[0.7777777777777778,\"#fb9f3a\"],[0.8888888888888888,\"#fdca26\"],[1.0,\"#f0f921\"]]},\"colorway\":[\"#636efa\",\"#EF553B\",\"#00cc96\",\"#ab63fa\",\"#FFA15A\",\"#19d3f3\",\"#FF6692\",\"#B6E880\",\"#FF97FF\",\"#FECB52\"],\"font\":{\"color\":\"#2a3f5f\"},\"geo\":{\"bgcolor\":\"white\",\"lakecolor\":\"white\",\"landcolor\":\"white\",\"showlakes\":true,\"showland\":true,\"subunitcolor\":\"#C8D4E3\"},\"hoverlabel\":{\"align\":\"left\"},\"hovermode\":\"closest\",\"mapbox\":{\"style\":\"light\"},\"paper_bgcolor\":\"white\",\"plot_bgcolor\":\"white\",\"polar\":{\"angularaxis\":{\"gridcolor\":\"#EBF0F8\",\"linecolor\":\"#EBF0F8\",\"ticks\":\"\"},\"bgcolor\":\"white\",\"radialaxis\":{\"gridcolor\":\"#EBF0F8\",\"linecolor\":\"#EBF0F8\",\"ticks\":\"\"}},\"scene\":{\"xaxis\":{\"backgroundcolor\":\"white\",\"gridcolor\":\"#DFE8F3\",\"gridwidth\":2,\"linecolor\":\"#EBF0F8\",\"showbackground\":true,\"ticks\":\"\",\"zerolinecolor\":\"#EBF0F8\"},\"yaxis\":{\"backgroundcolor\":\"white\",\"gridcolor\":\"#DFE8F3\",\"gridwidth\":2,\"linecolor\":\"#EBF0F8\",\"showbackground\":true,\"ticks\":\"\",\"zerolinecolor\":\"#EBF0F8\"},\"zaxis\":{\"backgroundcolor\":\"white\",\"gridcolor\":\"#DFE8F3\",\"gridwidth\":2,\"linecolor\":\"#EBF0F8\",\"showbackground\":true,\"ticks\":\"\",\"zerolinecolor\":\"#EBF0F8\"}},\"shapedefaults\":{\"line\":{\"color\":\"#2a3f5f\"}},\"ternary\":{\"aaxis\":{\"gridcolor\":\"#DFE8F3\",\"linecolor\":\"#A2B1C6\",\"ticks\":\"\"},\"baxis\":{\"gridcolor\":\"#DFE8F3\",\"linecolor\":\"#A2B1C6\",\"ticks\":\"\"},\"bgcolor\":\"white\",\"caxis\":{\"gridcolor\":\"#DFE8F3\",\"linecolor\":\"#A2B1C6\",\"ticks\":\"\"}},\"title\":{\"x\":0.05},\"xaxis\":{\"automargin\":true,\"gridcolor\":\"#EBF0F8\",\"linecolor\":\"#EBF0F8\",\"ticks\":\"\",\"title\":{\"standoff\":15},\"zerolinecolor\":\"#EBF0F8\",\"zerolinewidth\":2},\"yaxis\":{\"automargin\":true,\"gridcolor\":\"#EBF0F8\",\"linecolor\":\"#EBF0F8\",\"ticks\":\"\",\"title\":{\"standoff\":15},\"zerolinecolor\":\"#EBF0F8\",\"zerolinewidth\":2}}},\"images\":[{\"layer\":\"below\",\"opacity\":1,\"sizex\":1.25,\"sizey\":2.5e-05,\"sizing\":\"stretch\",\"source\":\"data:image\\u002fpng;base64,iVBORw0KGgoAAAANSUhEUgAAArgAAAHYCAIAAAApvgy\\u002fAABQDElEQVR4nO3df\\u002fAkZ33g96d3kfjlaCWIIPZFthGr3RUQpAucK4VtdTe2dexqJSRUYPtShqtKyvgP7a61KywtUJmelGOMCySDuD+Sq0ulcBIfULYBUUiF6zw9OOfK2eGCOBD6FTDW2QSpZCQZIUViNfnjM\\u002fPZZ59nuqenf3fP+1Uq7fzo6Xnmx3f66c\\u002fzeT5PsFgsDAAAwDp7um4AAADoLzoKAAAgEx0FAACQiY4CAADIREcBAABkoqMAAAAyvajrBsDs2bNnz549P\\u002frRj+ra4ate9SpjzKOPPlrXDm2XXnqpMeZb3\\u002fpWEzsXhw8ffvjhh7Pufeihh5p76trdfvvtn\\u002fzkJ9\\u002f97nefPHmy67Y07tixY\\u002ffcc4\\u002fJ\\u002fow2brDjbrnllrvuuuvgwYOf\\u002f\\u002fzn69rn29\\u002f+9gceeMC+5eDBg8aYz33uc3U9BcZvga7V\\u002fkHUu8PTp0+fPn1ar1544YVNf23yv7E33XRTo89er49+9KPGmHe\\u002f+91dN6QNb3vb2+Qzetvb3rZ2g\\u002f379w\\u002flQ7z55ptbfsZTp07Jm3PgwIEadyvdgrWuu+66iju\\u002f9dZbb7311lraiT5j6GGELr744osvvriuvX3oQx\\u002f60Ic+pFcvuuii17zmNXXtPEfWV\\u002fbOO+9s4dlRhYQNfDmBol45evToHXfc0XIQ6MEHHzTGnDp1ygkA1OJ973uf\\u002fUd03XXXGWM+\\u002f\\u002fnP\\u002f9Zv\\u002fVaV3d5\\u002f\\u002f\\u002f0f\\u002fvCHa2oj+ouOwgg9+uijDY07GGO+9a1vNTrugKHTsIHj2LFjOfdCfOQjH2lit7\\u002f3e79nX\\u002f3c5z6nfYUmng4jQ0ehp44ePXrgwIEDBw4cPXrUuevqq6\\u002f+jd\\u002f4Dbnw2te+9rWvfe3VV19tb\\u002fCqV71K0hSMMadPn75hHXv7I0eOXLZy5MgR+653vOMdeuH973+\\u002fMeZNb3qTpCnYrr322oMHDx48ePDaa6917rruuutuueUWuSDbyC9UdQX3rK\\u002fuyJEjJ06csO+64YYbTp8+LRcuv\\u002fxyvf348ePyqCNHjhw\\u002fflyuyl3vec973vOe9zhPcfvtt\\u002fs3buWWW27JfxWHDx\\u002fWz0iOuMXvVUmSvOtd7\\u002fJvf9e73pUkiV6t+ElJV+Dw4cPO7RJmWNtRkPf\\u002f8ssv109E\\u002feZv\\u002fuY111xjjLnmmmvkL0Kurr3Fpu\\u002fJ4cOHnfdEPlZz7ndD7z169Kic3H\\u002fhC1\\u002fQv74bb7zxgx\\u002f8oL2TD37wgzfeeKNevfbaa2XsQP8W5OqpU6ecW9a67rrr7rrrLrlgv+32w50\\u002fLvnTlgvy1mXtfC1nSML5a7Lvyvotuv766++\\u002f\\u002f365cP311+vt+V\\u002fmt7\\u002f97XLh0Ireoo4dO6bfZ\\u002f+LhA40P7qBDZwP4uabb\\u002fY\\u002fJnvE1Bhz6aWXytHaPmav3eGhQ4fWfu633XabbLD2h1vucn6yb7jhhoWXo7A2PHvy5Em7MfoDd+DAAb1Q\\u002fA3J2Wzjnv1Xd\\u002fjwYXsP9g+c3OgfaGUnx44dWywWV1xxhd+2nAYXyVHwe1fO3vx77SSA\\u002fHtt73znO40x73znO\\u002f0bJ5PJwhomz2pJPslRuOmmm9Y+UN5J3San\\u002fddff73ee9lllxlj7P9nXch\\u002fx5xn1C+G\\u002fQ1Z+9jFYvGBD3zAGPOOd7zDfgrpWdr71C+h8nv59p9GVoP1O+w\\u002f3H5G+eredtttcvuhQ4fW7lmO+v7t73vf+4wxBw8etNuvL0FuzP8tsm\\u002fU\\u002feR\\u002fmeVJtfegPRJ9+GLd3+z+\\u002ffvXvjS0ho5C95y\\u002fJbl6zTXXyFX9W3U2uPTSS\\u002fUW6S68973vXbtDm\\u002f6syFU5r7L\\u002fDqX\\u002f7hxN7b05HQW5V3\\u002f+tN\\u002fgbGAfv3OaZ29wU4bie9ZT26wN9JdIu03+NnpCIx0F\\u002f8Cf3xUo0lGQ\\u002fZ86dUquyk+tvi45svo9gyL3rn2u173udf6zF2nJRtoJ8HsD0nvw75KOrN0zcD4R7SI4G\\u002fifo16Vz12fwu+4yFX7a2\\u002f3BReLhYQo9IhYsKNg\\u002fyHoMf7o0aP2LTlvprzb9i1Os509aB\\u002fXfvd8azsKcsA2Vj6jvqv66S8K\\u002fBZJMMBvc9ZXyH9e52XKh2V\\u002fNPnfZ7SDD6B79l+C\\u002fCk6p0caevW3F+9973uNMb\\u002f0S7+UtcHa51osFsePH\\u002fd76\\u002fl\\u002fqHZHQX659KdQyEmJ\\u002fmL6jZHfDvv3aG0js2Q1zN+z8c5FpGOkXQd\\u002fD9It0AOGvZneaIy54oor9N61MQa1saOw9t2Q91BudA57i8VCDrdyOf9en\\u002fOSJ5OJsWIMa9\\u002fSnE\\u002fKYXcCzLndF2mns83aZ5S+rJ4fS0fBfwknTpzQW+xt5EjjvAPOjf6TShipYkfB7gT4PWZ\\u002fG4fTUXD+juwb5bJ0FLICCSpn1oN9Hi+32J91kd8ip6Ow8cusHQW\\u002fhXLZ7\\u002fjmf5\\u002fRDnIU+kUGR52Q4xe+8AW9q4ogCIwVqzTGfOxjH3NmtGsstwhpkoytKmm83Vo\\u002fJFtEVkTB3iZnz5KO4Lycj33sYyZ3Er\\u002fc9fGPf9y+0YmFXnHFFffee69evffee6WvUI6kuDspbHb8Vp79E5\\u002f4hI6J3HnnnXfffXeRe30y0KCZCp\\u002f5zGeMMa973evsbQ4ePCjD1caYz3\\u002f+86XT6+y5Dw8\\u002f\\u002fLAfUpaxLXv0xxgjU2xk8Hst+Ux\\u002f\\u002f\\u002fd\\u002ff+29MrHCeS6ZKdP0nAv72ygdxHLffCF\\u002fQbIf5ynsEaKsscV8kj3gv8n2Z13it2jjl1k4iQt2V0Y+uHvuuUcjefnfZ7SDjsJgVKxRIydAt912mz3X0Rhz4sSJyy67LFip\\u002fmMqP23VuzV3Zij4cHm77r777uBc5twDhvM7u\\u002fblO72Nd7\\u002f73cYYyV6U\\u002f8st5eS8UXLX3XffLadZn\\u002fjEJ+Ql2Old+ff6Pv3pTxtjvvGNb8jV++67zxijmYxyBHrwwQc\\u002f+tGPBkFg9xi2Ja3SM3W9xSYHqnKHuizyCeq7YX\\u002futoFOvpCOgv2dKfjuOSeI999\\u002ff5WCS1m\\u002fRRu\\u002fzBvdeeed8j255557inyf0Q4qM+6EG2644f7777\\u002f++uudXsKRI0ekt75\\u002f\\u002f37JMf7Yxz7m\\u002f6oOl6S+17vPkydPnjp1SoIKn\\u002fzkJ+WWep\\u002fCIZ+RFKx8+OGH5Td0sQoX59\\u002fre93rXmf3DyTGID7ykY985CMfueWWWx588MEHHnhAegx33XVXiZn90kWTw7aEFtosgPG2t71toF0ByPdZinjq9\\u002fmmm26igEqH6CgMRukD3unTpz\\u002f72c8eOnToT\\u002f7kT5y75G8y56BSxKlTp+wAqZyVVgm61uKyyy6TVyfDDerEiRPOLbb9+\\u002ff7QQX\\u002f\\u002fElGH26\\u002f\\u002fXa5XKWdBw4c8E+25BbnPdQA7OHDhyU2a4dk8++1vf71r7\\u002fvvvuSJJFxB4kx2OzQcRAEpYND+\\u002ffvly7C2nEHszobzhllKPek8nTOceXYsWPDOtIU\\u002f2K0L+u3qMY264cl3+esEl5oB0MP\\u002fSJDgHfccYd9o2Y7l9jh6dOnf\\u002fd3f9cY881vfrPI9k4dhXzSMGmzkqud\\u002f5ZJb8A5WJ44ceLjH\\u002f94zmuUX0BnA7\\u002frIGMN0iWqMu5gVgO0zqitpH3IAVsGhux77YNu\\u002fr1rSc\\u002fgM5\\u002f5zH333WdnJ9xyyy0y3GBvXOVzlJbIW+qPO5hVOsJnP\\u002ftZ+0apB+AkLmz7pM5x5fDhw3YaRy0K\\u002fkGVJu+8M8Avf1xO4kJDSvwWbfwybyTfZ\\u002fuTIkGhF9rPn4TD+SB0PtjNN9988803azGZrO0XubMe5PKhQ4euP5dMP5N7dRaADgcWnPWg9x49evTkyZMnT56UXxBnyqKT6V1w1sP+DHbuev6e5eXs37\\u002f\\u002f+PHji9WUB6fxftK4\\u002fZ7YP1hrp0Js\\u002fAvS3\\u002fQrPDoVQja49tprF4vFqVOn9Agh98ohdv\\u002f+\\u002fTJTQNM55Wr+vVm0fyDlE5wXpS3Ro5Tcq0WlsnabUyMhaxvtEMgXUq\\u002fq9v6sh423SF9B3xPto9itcqbDrJ31oLn9+kI+8IEPLFaTIPx9OtN\\u002f\\u002fO+nf4sta3qk7Fb\\u002fuPRZtI5C1g5FVh0Fx9pPduNvkcx6sJd7yP8yax0F+1mkYyGX9cPS77N8mkx86BYdhe75f6J+ZC9\\u002f+40dBZ\\u002fMvdZjp7JvkT1ottTagkuL1fQntfHHseL0SP2JL7JnPxNKOg26h7Wzy5ynWztnUkYcNq72lHPyZ8+xdO7SH1bhBwn8mYdZ964lsyKNd2DIL7hUoqOgx+ycbfzggX3wK9FRWPue2PeaTR0Fu9CQ3KIlSsXll18ut9j7rL2jsPC+GPZTtNBRWGz6Lbr11lv9253t7S\\u002fzxo7CotT3GU3LS3pCt06ePPnggw8eOHBAxsKbc+LEiYceekgyGeUWKW2rV9\\u002f\\u002f\\u002fvfff\\u002f\\u002f9hw4d+p3f+Z21ezh16pQ0tZ2g6Lb8F7jR8ePHZahbhiruvvtu5y\\u002flyiuvvPfee2v885EUwgMHDqwN0sqRbO3o+8Z7y7XEGJPVmCacPn1avmNOvm0Vx44dq\\u002fKeSOli+6\\u002fvxhtvvPzyy3\\u002f7t3+7rhYW0Yc\\u002frpzfottuu00+OBniFPlf5iIqfnaoFx0F4Kzjx4\\u002ffeeedx44ds0spSBKA85cSBMEVV1zx1a9+teUWAkDLSGYEzpL+wZ133ilDMMePH5fQqz2Ecfvtt1955ZWmchojAAwCEQXgHBJUsG85fPjwF7\\u002f4Rbl8++23y0A+4QQAO4KOArCGJnU65ZyNMTJM23SRJQDoCToKAAAgEzkKAAAgEx0FAACQiY5CUUmSyGpmaZp23RYAAFrColCFpGmapqnkc0RRRF8BALAj6CgUkqap9g\\u002foJQAAdgcdhaKm06lZ9RLoKwAAdsQuTo9MkiRJEv\\u002fGNE2TJImiyBgji5eot7zlLffee688Kgh28U0DAOymnTvmpWkax\\u002fFsNpMOgZBi\\u002fmEYzufzMAz9gIH0IeR2OgoAgN2xQ7MeJM8gjmPndokTLBYLSVecz+d+R0F6FVEUBUGgS\\u002fQCADB6Yzs5lrEDO1pgVvMUhDFmOp3aEYUgCOwogtxOFgIAAGZ8yYxS7cDpB8xmM2OMdiAkLdFmdyyiKPI3AABgN41w6GGxWMRxrPkETjoCAAAobmwRBbFYLCQ\\u002fkV4CAABVjDCiAAAA6tLrjoIWNlhb9iCnlLKMONhjEDmc+ZBpmoZhWKHVAACMR387CkmS6GF+Op3KUIIIgkDyDeM49kcW7LyEIn2FJEl0SmSapvP53O+XAACwoxZ9ZYyZTCb+VSljYN8uwQMxmUzsqyIMQ2fPzjZ2aQT7SQEA2HH9raPgTFjQ8gbNlT2QikzV9wMAwGj0d+hhsVjYh+35fO50GvTyfD6v5RnpJQAA4BjA9EhZncGsai3ns1MZAABon4Tqn3tuX6PP8uIXP9XOmECdHQWZniAFEOUsfzKZVEwMlF2tXagpS28HUwAAoze+89Xahh6CIJDRAZk4MJvNJpNJxVrIWjSJlRcAAOhEnTkKsqSCHNS1+EHpY7wmLTqpA5Q9AACgNfXnKKRpWn0hZu1tOP0M6X9IaQQ7elHx6QAAwFp1dhTiOJ5MJlqwSP5fbiqB1lmyBy80wDCZTCS90RgzmUyYrQAAQEPqrKMgKQWSwChTFaonM+ZYW\\u002fYgCPpbGQIAMHp6GBrNrIexHVbpKAAAOjS+jkKdyYyaTyDn+owIAAAwdLWdfydJMp1OpeiyPYu05fP7nAmsRBoAAE0jopBpOp1KXqHEFWQlCVPTKgxbyVrWouVmAAAwArVFFLQPZa\\u002fS5Czs1AJyFAAAHSKikEcmONirNwEAgEGrOUdBLi8WC13Jqf0cBSIKAICuEFHIlCSJrO+g7bYvAwCAIRrb+TcRBQBAh4go5EmSJLCQqQAAwNDVttaD5Cjoygtpmk6nU39VJwAAMCB1To\\u002f0Z0IyPRIAsFPGN\\u002fRQ5+qRPRlryCrOSAcCANCa4PELGn6Gpxre\\u002f1L9dRSUDDq033ugMiOw0cGrPiX\\u002fdd0QAH1XW0RhNpvFcaxLP6dpOp\\u002fPwzCsa\\u002f8AAKB9dY7op2maJMl8Pperk8nEiTG0gBwFAECH9DD0\\u002fHcvafSJzv+J\\u002fzi86ZEyx0FD\\u002fe33EgAA2GVrj7xJkqydhCiDABsP1nV2FPwW5Cz6DAAAaiSFCZwOQRAEssBCHMd21mCSJLLSghysc2oZNNhRAAAALZDYgBz4bRItkAWYFovFfD7XDsF0Op3NZmmapmkahmFOXIGOAgAAgxdF0WQycW6cTqf2rALtEMj\\u002fNcBg5xf66CgAADBskmqwNipgDzdEUSQdAmegQacrrt15nQWXeoKCSwCAYTn\\u002fJ\\u002f5jy89YvH5B1Y5CT6ox2ugQAACG5bm\\u002f+8+3fUhrfYtmhx4ouAQAQN\\u002foGITIr6RcNaLA4pAAAPRTGIb2YVomOBhjoiiSOZN6e85O+p7MmFM7goJOAADkkOkM0g+QpRXs+Q56GHUmRzh6XfA4TdM4jp2FqiVXMQxDCZs47aeEMwCgQ92WcA6CwDloJkmiwQN7aQU5wupmOYfOnkYUsmpHyIvX2hEmI+QAAMAOWiwWTqpBkiSLxWI2mzlLK0RRJLfLXTn77GlHwWTUjjDnJkg6oy8AAMCXlagYRdHG2Yu1BeqzSj1U5ERRJFQymUxkfQupQOkMTDD0AADoyvhWj6yt4JKsKhGGYaNphlEUhWE4nU5lxEV6DM42JVaiom8BAKjXnsf2NfwMQ6ujkKbpbDYzxkyn0yAI1q5oWZ0kcMqAymw2m06nfqdksb3a2wkAwDjUmaMgnQM5hBtj4jgOgqDe6MJ0OtUogiQx2DNBAQBAvepPZpQ1K7XkkwYY6tp\\u002fD4tGAwAwVnXmKEh2oVzNmaxZRRiGcRzrYEF+jQgAAFBRbR0F6QrY\\u002fQMlGYi1PIukTGq6ItMjAQBoVG0dhfyUwNKHc3+3Um1JLjMMAQBAo2rrKGQlLRYp5rAt+gcAALSjtvJEzpqVDqcsUnMouAQA6JAehs587Q2NPtGLrvhGO8e72mY9SCKCXZxgMpnILZPJpK5kRgAA0Kbazr\\u002f9FauM1bFq7UQ\\u002fpywjkQYAQNOIKGxNEw9bm55A+UUAAOpSW0dBKhzYvQGtnyh5jmQgAgAwOHUWXIqiyMlF0NUf5AIAABiW2joKZlWc0aw6DRpCIOwPAMBA1dZRsJMZGWUAAGAc6kxmpJoyAAAjU1tEYTabSYKCE04gugAAwHDVWUdh7e0tJyhQmREA0KHx1VFoaVGoNvWkywIA2GXP\\u002fmBf102oR52zHoyVptDhiAMdAgAA6lJnMmMQBHEcS9mlJEmCICC9EQCAQatzUShjjCwBZYxJkkRqNda1fwAA0L7aOgrz+dwpv6jFl+p6CgAA0LLGF4UCAADDVeeiULL4k2ItKAAAhq7OqgP+vEQt6twa6igAADqkh6Gn\\u002f+JnG32iH\\u002fvZvxhYHQVjzGKxkCiCLArlBBgAAMDgjO38m4gCAKBDRBTyrB1laH\\u002fWA5UZAQCoS53LTBtjwjDsPHuRDgEAAHWpM6LQfuoiAABoVJ11FOglAAAwMrV1FCaTSRMdhbVTJ5hVAQBAO+ocepjP50EQhGFo31glmTFN0+l0GkWR3QWJomg+n4dhOJ1Op9MpGQkA0JWDV31KLjzw5V\\u002futiVoTp0dBVkOqhay\\u002fuR8Pvdvn8\\u002fn2jkIgiCKIpaTAACgIT2tOpCmqRz+p9OpnSMpF3J6BtRRAAB0aHx1FKrmKDiJAs4hvHTWgqQg+FkI8\\u002flcQghr7wUAAPWqev4dBIGe8adpGsex7tC5Wn3\\u002fxiqmFIahDEw4czKzqi3lIwgBAKiFRhT+Jr2m0Sf6qfiLw6vM2Bp9a6Io8vsiHPUBAKhLnXUU2mGnTFK5ARiig1d9Sv7ruiEANhtYR8GZewkAABo1sKGHJEniONbKCtPplK4DfHKqWmRid\\u002fEtUSPecGBAaugo6EwHueBcrVcURWEYxnEsV8MwpIgCAADNqWHWQ\\u002f4GDaUWSv\\u002fAz1GgjgIAoEPMenB1dVQmjREAgBYMLJkRAAC0iY4CAADINLBZD0VkpU2QuwAAwLZG2FGgQwAAQF0YegAAAJlqjij4VQ2YngAAwHDV1lFIkmQ6nfq3MxAAAMBw1Tb0INWUF5669g8AANpXZ44C1ZQBABgZOgoAACBTbTkKs9ksjuPJZOJkL5LMCABA09KVJEmcI2+SJGtvL6i2JZR6UuYoZ5EqEiYAAE3TRaHu\\u002fdN\\u002f1ugTXXn1H+pxTeYThGFojJnP5\\u002fbSynJYDMPQub242iIK\\u002fTkM96clAAC0YDqdTiaTJEmMMWmaxnGcpmkURXKLHhaDIJDbt9p5\\u002fQWXJPRR+24BAEAWPfzb\\u002fQANM4gwDKXrsJU6OwpRFAVBEMdxHMdBEJCdAABAC8IwlCiCBgzW9huiKJrP59vuvLahB3l6J\\u002fShQzUAACDLlVf\\u002fYZWHp2kqJ+pydTab1dGopdo6CvP5fDab2V2YxWJRbjgEAICd8tUv\\u002feq2D7H7FkEQaKJikiRxHNtH5IpqHnqocW8AAGAj6R9odqDG9evaf50dBSdFQlpJ7wEAgDZpdMGZD5mmqZ3bWFBtHYXZbDadToMgSJJEqjpI\\u002faW69g8AAHxyQq7n6mmazudzuZokyXw+15CD3r6VOpMZZ7OZriEZhmGNAyQAACCLFEfWNZy1SnIURZPJRJMc\\u002ferJRYxtVgKVGQEAHeqkMqPIGfGvMrGgakRBRhm0\\u002fNPaDSo+xbboEAAAdlBOV6BKgL9qR0H7LzL44W\\u002fQfkcBAADUpZ6OgmGNaQAAxqi2WQ9rkwMk0lBltzkBCVk3s8rOAQBAvhpmPawtKC1K1JS2pWk6nU4lB2LtXWufFAAA1KX+1SNt5WZimFV+ps7o8OXcBQAA6lJDRMHOZ6y+NyWBBJ0V6txVorYUAADYVm0RhbW9hNJpBDLfcm2Cgl1nCgAANKq2yowmI0eh9hyC6XSav4BmTs2lLJReqMvBqz4lFx748i932xIA6Nbf7PmxrptQj9oiClEUSeqiJjDO5\\u002fPSOQpZgiDYuM\\u002fF9mpsIQAAY1JbCecgCGRxBxk1kJSFOI4r7l93a4yRHWp2gvRInKWxtHYmAADt08PQXf\\u002fm1xt9out+8V+2c7yrf+hBugg6p7FKfWl\\u002f\\u002f\\u002fZylPP5PAxDpkcCANCcOjsK9gLTDVVutncrXRBKRAMA0JzaOgqTyUSmMsqRWzMKOeMHAGC4ausoSCxBLs9mM+kuVD\\u002fdzxmAYYYkAABNG1vqH8mMAIAOjS+Zsc5FofxRhhIlDQAAQH\\u002fUmcw4n8\\u002f7cEKf1TvpvGEAAAxOnYtCzWazMAyDIOg2e4CqSgAA1KXm1SPTNJ1MJs1NjwR66+BVn9IK1gAwGnUOPQgtpcCsBAAAhq7+joIxJoqi2WwWx3ETOwf6qbl1sFhqC0CHausoOEkAURQtFguCCgAADFojEQVFWUagOgIJADpUNZlRyycEGWpoIwAA6EjViIKOODD\\u002fEEMkw\\u002f\\u002f+KXtWWoB\\u002fOwkEAMat5umRAABgTGorpJimaZIk8\\u002fncub3lSEPOYAcxDwBA07RC8b+YnWz0iW566x3tHNdqS2aUyZCTyaSuHZZGhwAAgLrUOethNpsxzQE7jpQFACNTZ44CvQQAAEamtojCZDKJoogKSxi0JuIBxBgADFptHYU0TWWZaed2MgYAABiu2joKURQx9ICh23jSvzE84N9OIAHAoNXWUWBdaeyCKj0JxiAADFGdyYxpmkZRJJWbyVcAAGAE6sxRiOM4DEMppSBXJ5NJ+5GGrJpLZEugRlnhgZxoAYEEAENUZ8Elp1sgfYX2Owp0CAAAqEudBZecPoHkNsp4RI3PAgyChhwUEQUAQ1RzjkKNewMAAJ2rs+CSjD7IPEkZdzCUa8RYOAtSFw8PEEgAMGi1RRSSJJlMJtPpNI7jIAgksbF6usDaFIckSaIoYkImAABNq22ZaVtdeQkSlnDWmpJJDWEYypLW\\u002fr0kM6I6MgwAlMMy04VU7yWkaZokiXQF\\u002fD3rWxNFURzH9AwAAGhI1Y5CVtECVfooLrkO0+nUvnE+n0udBt3G70ygIAoF5ij+njhvY5FQhJPuAAB9VrWjYB+2a6QrRzgdBafbwTwLAAAaVbWj0GFGoYQTZrOZc\\u002fvGIIdvNwcvOKPN4YdbnDCAHzlwtgew47692Nd1E+pRZx2F1iRJEgSB9BL8fIjF9rp4EQAADEAjyYyNkkBCJ6tIYHdsDAxUiRw42QwEIQD02cA6CjIVghgAAADtGFhHYTqdhmHo5DBS\\u002fBHN2Xje7yQrZM1xMNnpDgDQZwPrKBhj5vO5FIdWBBh2TZsH2oL9g5zbq7STLgWAzvW9o+B0AugTAADQpr53FABfJ2fYWSf3WRMmcxq5MUpRYukpoEZk2sI2yOmRAACgHSOMKGQVXNrZYQtODqrIykUo8cCNyYx8QOgJvoqwjbCjsLMdAgAAajfCjgIcnBwUn+K48b3KmutYohlEegAMAjkKAACMQZIkURT5ZYvl9tLLKBJRwPiVOGXfGCconbtgqI4AoAGSnxeG4XQ6TdNUuwV6exzHfsXCIogoAAAwbFEUhWG4WCzSNJ3NZvP5XDoEEl2Q2xeLhd6+lWBkqX9BMLZXhJ6oEkJYi4gCMEp6GLrlz6aNPtFHfyHR410QBGuXUw6CwI4iyAbb9hUYegAAYMDkwG9nJ9hpCnbvIYqi6XTr7gsdBWCNJqYklJgoURATKICh++gvJBX3IMEDY8x8Pp9OpzUG1+koAADQsVP\\u002fJtn2IU7fYjKZaCAhCIIkSfzpD+WMsKNAZcY+69u577YrOFR\\u002frpzbs5ao3vhe5WzQtzcc2B3fPnNRm09ndwvKzW7IMsJZD4sMXbcLAID6+SmK8\\u002flcLjg9hjRNZXhiK2ObI8CsB9Si9jSCKjYGDIpECyjeALRDD0M3\\u002funHG32iP776hB7v7L5CmqZxHMskiKzLWz3RCIce0E99OFB1Eod\\u002f4uL9cuHCxx7O39If76gy6NA0BjWK4F1CO9I0DYJAR94nk4n0BqIomkwmcRw7t2+FjgIAAIMnVZXMufMhjTGS1ZimaYkughhboJ6hB9Sr2zGIYZ2GcvYMmI6GHho1wmRGAABQF4Ye0IihnFxmBQxKNzsnI6F4soLqQ2JHcUNpJ4CtEFEAAACZRhhRoOBSH\\u002fT85HJjwKN0akItgQTV87cRwC4YYUeBDgEAAHUZ2xwBZj2gXlmhBY0TKAkYPHrgTXL1\\u002fO8\\u002fad9uqoUWHE6koUpGyFCySYChYNYDAADYISMcesA4tHmm6z9X1i05UQGJJWggQVWpzJi1QcHbiyCQACDfACIKaxfKTJJEKle33RoAAHZJ3yMKaZpOp9MoiuzakzKvIQzDOI7rXUwTFZUIA2Q9pM3h9iLLTMstG2dDaNjAT1ZQTn6DPiQnsJFlWIUWqtidVwr0TX87CmmaJkmia2UqCTBoBkcQBFVKWAMAgBz9nSOQpqmECqbTqb0sZhAEdhTBWYebWQ+oxcbJDv5chuKKz3pwwhjFqz5w5g10ZXyzHvobUdDhhul06t9lX\\u002fY3AAAAtehvR6G0rMqMOQhC9Eejkx2q79wPJDx30T65ILkIRSINWTkKOQ12rjpJDMQPgB566Mwrum5CPUbYUeCoP2iNHvM27jwnhv\\u002fqG79irIP62aTFi95kb685jEqTGbVL8aoHv2Ks7sLG+ZM5uY0FUywNnQkAZQ1geiQAAOjK8CIKznzINE3DMOyuOeivImWUsvgbOKf7WSMLGj94\\u002fqd+TC48Z\\u002fY5d8ljnTGLtfuUJ80JGDh39TNsQJVoYNCGF1GQOZPSV0jTdD6fr63IBAAAqhvAZMIgCOzpkcaYJEl0psNkMrE7CkyPHIqenGVmJQNmZQNIpoLZZnqkRg6UU4LJDy04qtd+Nl2\\u002fz8Du0MPQG+\\u002f5Xxt9ov9w+Nd2fXqk8t+IJEmSJKHOEgAATRtARyELvYRBa\\u002fQE14kT5EQviicryE4uXN3uBxKcyIGGB\\u002fw4gWyZs4GGEFaTGjIjChuXidLXvjGbofgGBctAARiH4eUoAACA1oxtRD+n2tLIXilUjae2JZZlyln8Sfg5Clnb+8kKElpwajmY7YtA+3LetOLxmIIbdKvnzcP4kKMwAHQIAACoywgjCiN7RSiuiXPHIkUPbRpg2HvJc3LhzCPnO9vIXf7tamNwQmo7bmVjYkGbKQjdln+g7jUaNb6IAjkKAAAg0wiHHtBP257GlTijbSJHwdl5ToDBWeVh79eeWV564\\u002fJfDSG88OTetXvImv6gMyxKBBKKc15ylXUxtn2ulhFLALZCRAEAAGQiooCWOKdxGwMGxc9oe3KC6CwzfTbA8Mjy3+CCM3Jhz74zxpgzT+11bjffX\\u002f6ruQhPmPVlHzXG8L0\\u002fepPZPpGiFj1520sr\\u002fv3p2zcNaNnYUv9IZkQRWT\\u002f9VY64WUs96epQ0j8w2UMPi6c2DEn4syLlSZ0CTWabF8LBD6gXyYwAAGCHjHDoIavmEpGG4kY\\u002ff2zjOEjp0IIfSDgbJ1hFFMR53\\u002fmBs2WWsyWbHtvw7LW8kNF\\u002f+kA7nnj2wq6bUI8RdhToEAAAUJexjeiTo7DLSiSdZZUr9m3MZsjKUcgq4Xw2h3Fl4aU3OlkLWYWYfCVWpt4227RRu5w\\u002fSERn6PQw9JOf\\u002fUKjT\\u002fTIDdeSowAAADo2tvNvIgrtaO6EL2eUvYnCzKUXOvI3kBWb1kyPzOCHDV54\\u002fdNyYe8jL3HucmjlJWe16+KLRfmywirMHgS2QkQBAADskLGdfxNRaEevTiLbaUzB6QPOKb7NSVZw6i8Zq8azk76QFVdQfoChSmghSx8+6yIY40e3iCgAAIAdMsLpkWhBr07XSucZ5PAfm7X4cvFCBc48CL+Ogq5MraSGo1+bQR+bxQ9sZMUYaszSaEGvQlnAjiCiAAAAMo0wokBlxg61ecKX81zFR6mzMvw3TgEoUfHwbAXGp4wx5swbXyrX9hh3DQjNWtizb32yglubYVWxUcMGxZMVslaLbmLWSZWVqYt\\u002fpgQbOkGwZ8RG2FGgQwAAQF3GNkeAWQ+7rMaFgzfmImTd7p\\u002fK+wUV\\u002fJqMDieQ4EcadH5EFn\\u002fBSWedyRwF372sQE6RPeTvucoeeq7nL7DnzRsKZj0AAIAdMsjz73QlSZIoiuy7iChAtVPSMStZYWNBBb8Oo3IiCn59BWdVCD\\u002fS4K8KUbyyQnOLPnDCil0wvojC8A6rSZJMp9MwDI0x8\\u002fk8DMM0TfVeOgrYStaiUKUHL7IWizJWBuLGoQd15pJnzbqKzjqRMmsMYuPyUdWLPdcy0LNtuegiKLiEbo2vozC8oYfpdDqZTCSiMJvN5vO53VEAAAA1Gt75dxAEs9lMRxz8q4N7RQNC6NhXfJ6kZjXK6f7Z2ZLZZExBwwY6WnHeU+fZm2m2o9LYQ1ZoYeNEym0nLhZ5SBNbFse3F6rRLwMRhe6FYRjHsUQUpH\\u002fgpCkAAIC6DPL82y6pZIcTTHa1pXxDfBOQo\\u002foodfHSQBsjClnVlDXAsG3Kgk3SF5zkR2PFGDS0IAtH+fGD0utIDXd6JEkMaJRGFC7413\\u002fe6BP9w69eRURhvSAIwjBcLBaLxWIymUh0wd5gsb2OXgoAAH03sIhCmqZxHNttDoJgMpkkSaJXh\\u002fWK0IIaiz3nzI\\u002fYNrSgZ\\u002fCPvflKZ0tndoOGBzSi4Myo9G935k+a7LWqS0+kLDJVpIlJDRtt\\u002fEyJKAzL4JJLiCj0jjM9EgAA1Gh45992CEECDMx66LPBnQ3kK3H2\\u002fOobvyIXnDN1v76CcrIWNAXh+QueXz5k34\\u002fkwku\\u002fvn7qRFaxZ92zv1B16RyFnFBK7R96T75OPWkG+ml8EYXhLQo1m83iOJ5Op3J1Mpkw6wEAgIYM9fxbhhv8LgIRBah6T\\u002fuyzptLLCvlJCv4FRv9DAOhuQhaR0FiDBpgOP\\u002fJZddfkxWy0hr8lAWZFuHbWGihxOLRQzkjJ5sBJXQeUYiiyBmRT5Jk7aIHBQ0voiCIIgAA4IiiSAoW2yPyZlWCqFxW31A7Chi96iedTUz0z9l58YdI1sLZSgZmFWD4\\u002fvJfjTHIef\\u002fZxIJVIOHpS56RCy9\\u002f5KX27f78iD3fePlyV8YYa46D1oXU0ELWKlZZuQtVJjs40Ygin1TtJ\\u002fdFvgwdxhK6Dbr0JORDRGdbaZrO53P7Fsnn08BDEAR2H6Kgwc96AAAAxpg4jieTiX2LrqEowjDUagLFjW1EP6cy48heKVpW8Ny3+NIPOSURnaKNetLvr0wtkQONKDx38HG5cP4Dr1xucO4S1X5qgp8YsXF5iOJKr1i9cXHObssk9OSEG\\u002f3UVY5CFEVRFCVJYi+B5JQakuWXtz0ajnDogQ4BAGBY\\u002fuFXr6ry8CRJmltLeYQdBWQZ6GlQC8PVRWQ9XVby\\u002f8aRe\\u002f8EXWMMek7\\u002fnDmnxMLZRSNXZRL2PHWeseoraCBBkxWefctyV5LN8Lyfu+DNsHCeVBujcY6s+RG+rPjKxq9iiRqaWaGdJr4nw\\u002foLKm6gPxHj8J\\u002f84Ze3fYj2LdI0LREnKI6Owg4Z6B9\\u002fTircIBQfjNCugx6SnRLOSnsGQqdHak9Ckxmlf6A72au7WnUL\\u002fAWl9p5bi0kzK7V\\u002fIB2aEiMRauOAgn\\u002fLxoc4G7T8JRlH2l3P208\\u002fJouMLNgpiqUnOKxFRwEAgAGTMgl6dT6fa9Ki011I09TObSxohMmMI3tFaEL1rLoSz1WcRhTE2ZGI1cm9RBrMKk6g8YPFjz8lF4LvXuDsU6IOGmDwadxCYgx7v\\u002fZM1pbSDG3VxhWri4wXFNyyb6eSnOPC13nBJTuZ0V7owF\\u002f0oCAiCgAAjFMURZPJJI5juVpu0YOxnX8TURic0hPh+nkyV2L5aZ9GFJyZin6xZ+HPn\\u002fRXjZI4gVZq0tuzlqj2l4\\u002fSZ5dWOVdtxdMXmvvs2gwaAbbOIwprlaizpCi4BADAyFVZ92Bs598UXCqhn2dUJVpV+oUUybrf9klLBBJ8WWWV\\u002fWQFd4NV5SVNVpAJERpRULqOlJLQgj8bQjlLV\\u002fvJCk77cwIMWVWqqoSR+pnNAJ\\u002fzSVX5IerVh64RhZf+z0UnEpfz7H\\u002fzZpaZLokOAQAAdRlhRGFkrwiqichHJ+V+iwcbik9\\u002fcGihBWdB6rMlm1b8GIPMjPCLN2iMISuioJx5EFVqP\\u002fchVaXGgFM\\u002fo3eo1\\u002fgiCuQoAACATGM7\\u002fyaigJ4ofhrq3y7rUJvVubifqaCLRAt\\u002f1oPS6Q\\u002fCz0jImh+hEYVn3vAD57GSxOCvL+WTYo5++7NiDDkLZYlaSjI0h4CB6WhB8F4hogAAAHbI2M6\\u002fiSjUaHAd+Y2ay3LI2WdWSn8tuQtOSQOnYqOx4gFZznvZD+XC8z982XKfT77IrMtm0LwHCUJoBEL5C1U7gYGNAQOVFYbJeYvaLLLZ7V9ErzL84SOiAAAAdsjYzr+JKPRN8azv6udJPTnhEyVS5TfGHnxyjq4pC\\u002f6a0TpVIWvByct+4pty4aG\\u002fu9ze4OJXfFcu\\u002fPDeS+WCzo+QkIMuVL2RPy1CbTshIufNbC5HoVffK9VJq\\u002fr5VvQNEQUAALBDxnb+TWXGoejJqUlzw70bIwoligzqQ0pUbHTqImik4WVXfGu5z2eXj5VkBY0oPPntS+SCZi3IQ\\u002fR2Z5EIn79shCpRYkEUn\\u002f7gPyTrQ2d5CNRifBGFEXYURvaKUEKH2V71Vp4umN6o\\u002fYYzb1yuIq2LRDvrSPkjEVkrUzvzKm3OHEvd0l\\u002fDWnon\\u002foCI02PwF6r2lch\\u002fzLp927rRLeukCFg\\u002f97nts5eu\\u002fVzusVnG11Fg6AEAAGQa4VoPcHRS47ZbfWhGlWy70gtKaXHlvWYZUdCTeDmtf0E3XUUUNJCggYHl9MjVtMkLX7JMRdSxiX2veNK+albzKovTOMdyz6Z8ICFL8RzSWlYCq3F9oxa+vU08Rbd\\u002fdKWfvQ+\\u002fFf031IhCkiRRFCVJ0nVDAAAYs0GO6EvGYhiG8\\u002fk8DMM0Te27hviKoKrMKtxYGrnRdlbfssQenNiDP8bvnLtrgEFpRSYNIZz\\u002fwCuNtVC10tDCY3\\u002f\\u002f4\\u002f72Zt1KVA5NqNRUCSeJIWd9qSz6kr\\u002f3R8siVAXjMTWublzusR0aaLOHghyF7kVRFIbhYrFI03Q2m83nc7ujAAAAajS88+8gCGazWRRFWfcO7hVhlGqc\\u002flA8ZSFn1oDImT\\u002fpzIPQis46l0FjDHKXX\\u002ftZb1FOcEJjD5pLIREOf15lidCCo0RhbP+xjk7KhVUPeFSZCFrwKWrZ1WiML6IwsGRGCR7Y2QmkKQAA0JyBnX+naRrHsTEmDENjzHw+N+dWUsopuJRjWG9CH4xmfZ2N2iwMvDGXPqtVOTTGIGWetYCBk7tgrPSFM5c8u3ZXOi1CIgcaSNAi0E88e6FckCQGf0sNTjj1pLVkk\\u002fLb6cQYNMCg62PJktZm9ZL9CETxOMHGD7147KfnX2+1bUSkD1UTunr2jTSisO+Oext9oqdOXkmOQqbJZJKmaZqm8h45QYXF9rp5GQAA9N4gIwp2myVZQfMZyVHoRN86+KVPj9TGk\\u002fhuZ1L4DynosTdfKRf8iQZa1VFO9\\u002fUsXwMMWsNRIgR+IOHClzwhF3R9Kdnmr5\\u002f4KbnqFH80q\\u002fkRToDBWPMmNJvBaW1WpEEVz2nYGDAoESfoZCZOm6rXnCjy2E5UTzchotAxp1tgVqMPAACgCcM7\\u002f7b7ChJgsCdBEFFAFZ1kg5defjpngyw6ou8vu\\u002fDsz52T2uzXQtDJCz994XfMujjBvtc84jzkbPXGc7fU4ITMg\\u002fAjChsXmlJ+jEE4KQumVJHH4hGFgmkNfVgCzQzn5H6gxhdRGNisB2NMmqZBEGjS4mQyyZoqCQAAKhrq+bfOk3RuJ6KAIkpXe8zZ0tHO6n\\u002fOc5UILfhn3nJqriEHraKoJACgkyB0QWonfmCsYo6rq0\\u002fIBY1GSLqDPxtC4xlOMUe9unFFyuJy5kcUn\\u002f6QtYGzZRMlDYYSFRhKO6sjotAXRBEAAGjB2M6\\u002fiSgMVx8GcX1tnvCVXnCy9GqTJnt5CGfZSWMVc3z6kmfMuoqNzmIQZhVsyIk0yF2S9GDWVWJQsqZlTsUFnbWx92vPmALTIs42ZhVRqJLNkKW52TH11jyo\\u002fa9vd+IHvvFFFMZ2WM0puDSyVzp0JeaPbXvErfcXqsNf0uIdiI1bFjkWyjZ+RSaH9ht0vEAHI3TmpAwx\\u002fNIr\\u002f2+5+ldPX+o+17P7jFWRSXoDxsqL1E6GP7VS7PnGy5cbnLvelT\\u002f\\u002fU0pOGS9BUgdfzrbq3IWmivfDcsaAOpwnWUtHoXQRquoG1+cYX0dhqEMPOegQAABQlxFGFEb2itCoPox3VF8+qnrqpc\\u002fJbbQ5Kzm98Pqn5YJmIMrYhPKzHXXoQdMbVxtc6DbDG7YQur6Uv+KURDj8dEgdpJDQQpGVqJaNrG8kIkdzY1udDD3ssvFFFAZWcAkAALRpbOffRBTQleYSI3wl1iIqPqPSSW\\u002fMSlbQnIBn3rA8U\\u002fdnOWphpeXt3oLUElrwIw1ZgQRNd\\u002fjiIz\\u002fr3KX71NCC0IiCY2MpJ1NrfejSCadtnuX3KrWiim7bSUQBAADskBEmM2KgejVKWuKMpHqp5tL7LH7aWuSp3dPlx5b\\u002fOpGG5y9YTiJ46deXF8yqNNPZZIV9LzPWub4TSDDG\\u002fJOXf8sY81fGnQ2hkQPlzJjQXZ1tzypcYQ4+fs7VS4zbTmOMNWtD+dkMWfwEDok9+JGGV9+4nFJxYcausmas6NXqFb2Kf\\u002fH6OT2yiT8cbIWIAgAAyDS2EX1yFIZuKIOgJZR+aTlxgo1DyCVWnNooK4khp+qz0NkQWi9BSi84dRdsTlKCBhL8kMNDZ16RtROHlGTQAgw6a8NficqZ36Gy6l77OQ0tzJjYmI9SZcsW1ssusYp3J4q\\u002fZHIUAADADhnb+TeVGYduY21B08BIaj\\u002fPYHI0EXfZGFrIquqo60v55Iw8a1kp402L8DlloY9c8m\\u002flqsYPLtv7984tTjEGp560+uG9lzqN8UmyxZlHzs9vpPLXvNZb5E0rUSW6SgLKxpWosh5bJTGixr+pfv55bvzr04jCfzq9r9GWPJ68nsqMJdEhAACgLiOMKIzsFY1Vo7kIfTgRKb3Ck7+T5t4iU6B5JSINeotTA1GzAZScsvsBBk1B+NPH\\u002f\\u002fFy5y950niVHM26Yo4yk2IjZ8\\u002fGKt6glRhkHoQfEfFXu14+0MtR2Lg2VSdLUhWJ2+XvKicmUTrvIaudVb7\\u002fneQ8jS+iQI4CAADINLbzbyIK6K1eLa9XYiZFcRtrOzrzI\\u002fwsAT+0ICkImpGglRk1a+G\\u002fM\\u002f+nXPjvzX9ljHnri\\u002f7a2edPvrCsjvC\\u002fvPAGYxVm0ECCll7QfcqzOHM0jFWDUkML8kL8SIMTSPDjB8U1EWkoviZk\\u002fgP9baqsP1I6ENKTbAYiCgAAYIeM7fybiAKqqHJys3GfpU\\u002f3c87zqpdkqH5ypg\\u002fceJYsKQs2OfN+9i3L0+6c1SJ++sLvmHU1EuR2YwUbJFSgmQoaWvizH\\u002f30VhuYVbDBmXlhrBiDM2tDKjQYq0iDxk7klRZPYiiRu1B8y+L5BFlKVOyoUenqIPUmBmVtOb6IwtgOq3QUajSUQihDUWPtmtLLTBffefGSOz7niOUfwB7\\u002fhf9CLmTNPNT6ytpj0LC\\u002fyKoGbVaDFP\\u002fDeV+Wq\\u002f\\u002f1Y78mF3QU4zV7v2+MeU2wfOC3F8tD9Zeee+1yD393uVyQMQjtN2gqpfZXzhaKNsZYHR2l7ZdqTmcueVauak\\u002fCJz2GjVmQuoFWfyouq0tRJSGxV7m6zlM09Cy701Fg6AEAAGQa2\\u002fk3BZfaUT1MTXDCV+NwRoloUHMVpotPsPTTHv2lm4QfadAYgwxGXH3+\\u002f+M85NNPLQtD3brvz9buU7MdP\\u002fD8VfbtOqjh02CDjEpoG\\u002fwFtZ3Yg65QpTEGJbEHPx0ya73vrJCDanQGpiox07Jg3CLnC1n8D6HG7z8Fl8aADgEAAHUZYUcBLSg9yj6+QELpDAN\\u002f+xrzwqrMSduYo7Bttpcvay0l\\u002f+RYF7N25h\\u002fuXV0w+5ZhAD1lf+iHlxtjzE94T7qaBmn2GWPFD\\u002f5mz\\u002fIp5sE\\u002fkgsaQnDmWOpDdMu\\u002fWt2l61otXbj8V7MZpID0k99eLnr9o595VC5o\\u002fqOSWIJmQeo7EJgz\\u002fmYmO9JgVu+nn2SaFVooEXIoMc8zS9ZfRM53ddvYQ5G84I27qnF9taEgRwEAAGQaYY7CyF4RRi8nflDw5F5VSRbZdri3ifMnP1nBiTHo7Zq7oPMm9BRcRv01d8FfR0poEoNOdtBbvn3mIrnwz\\u002fd83Vjxg3Dxt06DNRqhwQbhZDmcfYGrgtMa3tBZG9Y250QINOQg5a6VU+vJpu+JvEt6dWM2g6+FZbJzFJ\\u002fUUzBgsPFvLf9ZChpfjsKwIwpRFHXdBAAAxmzA599RFM3n89lsZncXiCi0o0SycR8Waqpi2\\u002fY3WpGpxLMXH6Mt2KoS53nFZ+crZwhcSzbpCL0GEpREFGTugLGmFfjzIxxOoQWzCjb4K1nrLVo3+g\\u002f2HjRWKEKTGz785FvlQtZUi\\u002f\\u002fx\\u002f\\u002fsv196usQet8uQ0209u0JCDBhuEvlcahtENzvvOOYEQtbEMVN9szGZoAnUU+i5N0\\u002fl83nUrAAAYuaGefwdBMJlMptMpEYVOjL4cQq\\u002fq0fb8STemO5RYkri4Rw8sqyM49Qb8SEPWRAONNOjMBZ2qIDEGDQ9oDUet6qh+7kf\\u002frzHm\\u002f3jRfyZXnZQFs0p08LMclCxVZbypFqe\\u002fd4NccLIZ\\u002fEWxnzv4uHOL8NfcUhp3Ec6q2b4iWQ5Z5TjVxrkVThipeBgj53u17Vex+PwI\\u002fyFEFHohiqLJZJIkSdcNAQBg5IZ3\\u002fp0kyXQ6lWYHQeBHFErsc3BvQr2GfkY7uGfvp22TKkpMSd84hFw8wLBx+n7O2tZOMUSNKEipA+PNO3CWujZWAoGu\\u002fvDeF\\u002f97Yy0rJdMljDUtQugGmgbhLzkht+iWWTTw4IccdNmLP338H5t1ZSJf9Jevkgv6VjhTKpQzgUL5C2orWXvCDxv4H5lTRUM5D\\u002fneHy2DRu0UKqi+fopGFF5x8oF62+b4\\u002fh2H7INXuhJFkXMinSRJmqZJkpSbATCwiEKaptpLyLLYXmvtBwCgdkmSxHGcpqkxZjqd2ufMQRBMp1NjTBzH5ToKA4soyEyHMAzlquQzhmEo744hR6F1ba7\\u002fpppYMrE5jWYDbPvYnqzU10ISg3\\u002f+6s+YEBppeOYNy8QCXUVa+CEHDSQU5ywYoSEHLdKgoQUnv0GvOgkQ+sBfO\\u002fPA6sIRueAHPITmXuja3HqL5G3oqtkahHAW\\u002fs5aPtt4SSH+WhVZ\\u002fBkWOUGIrA1qn46REzDL2lI3ePDPf6X9iILk7WkgQa\\u002faMXizLgxfxMBKOEv8RK9Kp4FkBQDAjrMP\\u002f3r+PJ1O9dRabncOo0UMrKMQRZH9Xkyn09KDLruj9ET5Ilo4m9+YY9zz0EK3rSpema61NphtkhhK808xH73oTWu31HNfXdFRax3KSPz5ZjmQ\\u002f5j5ceeCxh72veYRYyU36Cm7Vnt0J0q8YJzbZd6EWUUOrg2WJ6OvfOkTcuGi55Zbfjz4GfuBmgbxB+aLywsXHJQLUtdBUys02UI98ZILV+04t3k6w2JVzVLKOZz\\u002f+qflqsYeMss5rN7D50xmMU255fyvuctjOp+Uv37mE2ZDhsrGDImNMYlX3\\u002fiVtbf7erLEgxNKn8\\u002fnk8lELtuHyCiKZBhiKwPrKKC4jYeEfh5Wc5Re\\u002frh0oL7lJ83am398La658Y6cw3\\u002fxNmR1X6qnPeoBQFPh9Kdf+IeKs4e0VRmiMxftM9Ycwpc+snysnwO4XO1pdfhUura1Mwpwdt2pPX8tF3RkQdz8\\u002fD9dbrBYbqBjEMf3\\u002fqUx5t4zy6EHHYMwqxEV7UOEe\\u002f7WmDWpaDoV810XnPOe\\u002fE+PLstD+fmb\\u002f+SSbxljvmh+drmpJkh6PQZnNubiF5eTNl9YbbD3gr32ls\\u002f\\u002f3PIwtPcRd0ar9OH8vFT\\u002fFulb+F0K7XPIXX5XY2M\\u002foNG1uW3fv+NQLftJ0zSOY2NMjbH2YXcUSEcAAIzARTffv+1D\\u002fL6FpvFtO7iQb9gdBeTYnbmOVUImG1d8LriHEg8sovb3s8RaOI1GpIq\\u002f\\u002f8XX5hb+nLoLNzVG5vUZ6yRSEvT8GYBn6xSduyCTnlUvl7q2PPGyc0+CvdboubuMVuj8Sb920\\u002fef32eM+UmzCjCc95dy4ccPfk0ufPeBN8oFGaTQKk9X7F1eeGi1ZpWTU\\u002fnrr1rWmdaYhFOjWmtSaUTkr56+dPmCLv+OfZfMzLRpTqiuDO7QIR4lARunIrXxxobMKsZz5qll6mXwpJtruUxlXUV8NLPVDy1sLPfUWoxhW0EQhGFYIldxIzoKAAAMm\\u002fQS\\u002fECCc2OapnZuY9Gdjyx6n1NwaWSvtFFtLuDU81RERzsLOO2aJhI7cmTNydyYAedP5NNb\\u002fIrRQrMZJAjhl5H2514u2+DNwHQmWPorVGkJJg1CSJxAwwO\\u002f8covyYWvf28ZcpA4gVlFHTQvUjMr9RZNa3D4paWkcpQ+qa565a+tJZMztU6UvmSdtOnQN01SR42mhngFo56+5Bm5oNM7JYPSKRtl1i1TnjV79uL\\u002f66tyQauGCw1EqfanR0pewmQycWIJURTJXRJmsC9v9UQjjCjQIQAA7A6dCWnPaJBYgqx4IOmNxhi\\u002fM1HECCMKI3tFzelbEeXmwhjtTH9oNFmhTTUuSF37Z1p8fkTxJXzaqRvtcCINxlsOW7MBtHqSFmaWtAA9\\u002f9Yz9Y0n984MTGNNwpQ5FH4+xEXnrS+XJHkSaznTN\\u002fQplM7XkCiFBkI09vAHe79ob6+FpPSV+gkQEpbQJbl12qpTQkqLWGtwwl+bWxIgdO6G1pjyF+l2Yg8aZ3r0j9\\u002fcSQnnfNJpKPdEAyvhDAAAtlUlw3Fs599EFIC1tj25L35GnvOQ0s9VfcuchxSv3FW9gLST1pATctDT0xdWRY0cTjaDBhi++MiytoEfhHASHb7wkj+UC3ctlqkJerovZRs++fLl633Jjy1Pjv\\u002f275fpAv\\u002foFd+xr77y\\u002fOWeH3\\u002fuQqedcpd\\u002fuwYhNEohzdA26AYak\\u002fjwk281xtz18v9drmpGhb\\u002fMt8ROtA6ETt+QklNmFYbxK2JpPoRWrRZ+9S2NMWgQSO7yAwxP\\u002fKvLehhRqIKIAgAAyDS2828iCsixg\\u002fMLimdODPTN2djsjWv5bNxnibhC1gSKNYWlD6wvLO179i3L02jJ5NcTXB1l11R\\u002fHYnX82aHnkb\\u002fbxf\\u002fgVxw5kfomtdK7vrnL\\u002f53cvXhp5d70PCAhBzMKuqg4QFNmHjrS7+x9rH6QJ2Loft0Mif2v3y5pYYrPv7Cz8iF43vOqVbprO6tdFc6icOZgmFWb5qfD6GzM3SqhdBIj86weDx5PREFAACwK8Z2\\u002fk1EAePT7UpOqrkJKSXiHDVOtchJTSgdpagShBB+NkMWzXLwV6BwaMhBaexBTpdzFrVy6Ni\\u002fzlnQIIQse+1HGvyAgdB0Bz9KoXcJP3NCky1+\\u002fdBnjDHPffsn5aqGHPzECOHHHnTOxXtf\\u002fO\\u002fNupiKvmQtmvkv\\u002fvqovYG+mf\\u002fwq1cRUQAAALtibOffVGbcQQMdXO+JErMbiu+z4B568gmWrplR4iFVqjhIooM\\u002fsULphH5Z0UCz8TX24Gfyn12IwRhjTaB46O+Wi1bIVAsNOSiNPeigvp5wL6+u8h40v2Hy7NVyYfqSLxkrkOCnIOjqFctmP7Z89hcuXl\\u002fdQRe5UBqTOP81f2OMue\\u002frPy9X3\\u002fDq5Z41zqGySkecXc\\u002fz3CDKl557rbPlfzj8a3K4uei\\u002fbXYxCJ1e0TQqMwIAgEwjjCiM7BWhuJ6cmDan+Nh59XegiXqLNU5AqF7FoUhUoHjpiKxdFZ9A0ULxBr9mgxNjcKoTGq94wDNvcEs3OlkOZhV1yIk06Cm41HXQmQu6yqVTIFIjDX\\u002f2zOvlwj\\u002f9+eVbtPf+5QQEyVrQ+MF5b14Wqfzm\\u002fBq5IHECJ0Rh03DFsz\\u002fYZ9bFOfwUCsmQ0GwGTWL446tPjCyiMLbDKh2FvukwEa\\u002fKMtNoU5XDfxNVnjb2Tkq3qsiuCn4nc\\u002foTG9dBLlGLWvgVqf01uM\\u002f84neN128wVkUjXf5K6kH5NaqdLoVkFxpvsStjHZulfLVmJvpFnIRucOTiv5ALTkUpJd0Fs65ylEPzIrVVH\\u002f2FZGQdBZIZAQBAprGdfxNR6MToY\\u002f5oVMvfn+phpBKTNp0NfNXnf5Yes8iRFXsovvyV0tiDVo6SpZt0MqcOczh0UWld8+nIJf\\u002fW2UaCEDqo4SzJbawVs4SGFvwohY6AOHRLrTAtt+gDP\\u002f3UsnbWIzdcS0QBAADsirGdfxNRQDvaSRusUSfZGAXrKTW6\\u002fHeNTzo42+Za5jzQCS1kZT9kbb+WzN5Ufoql0AxKXTw6iy4qnUUzJ9S7LviKXNAFpcSHXv0nckFzFTVgoLkUUv7Zj16ML5mRiAIAAMg0tvNvCi4NDvkNOXbn3DdLH74eRZafLjhJoScVpXwFZ5\\u002fmvAMbp1r4sqpWa8Eo5\\u002facORdyl17de8lzcuHMI+fbtzx38PHlUzzwyuXOV7fopAyJWzgVqIw1WeOH915qP1YfqCtTa2Xl0UQUKLgEAAAyjTCiMLJXhI36cNKJAenDyX0TqpegLh5yyLEx3WFbWWt2l6BZEX75Bw1CyOQLf2EtrUalzvvOD8y6CSB6oj+aiAI5CgAAINPYzr+JKCAHsQf01tC\\u002fnBtXvdpY1nrjsmSlF9Ay2bM2ShSpdFIo\\u002fH0++Oe\\u002fQkShe2maJkkSRVGSJF23BQCAMRve+XeSJNPpNAxDY8x8PjfnZi8SUQBQr76d62+szNj+uioNPWnBOhy+EpUxa0REoXvT6XQymaRpmqapvEfEFQAAaMggp0dGUaSXwzBM07SzpgCoT9\\u002fO3UWvGmOy29NCO\\u002f0PqPqKmjm23TInYJBVB6L42uIb1\\u002flsJ1zRieF1FJxIy3w+n0wmXTUGAIBxG\\u002fCIfpqmcRwbL0ehxK6G+yYAADZqs3iGpsq9+savNPpEj\\u002f7xm6nMmCeKovl8vnbcgaP+tvoZ7wU61+fSTPzZbqX4u7Tth74LH8TwkhnNKmwwm83ITgAAoFHDG3oIgiAngZHpkQCADjH00DHpH0RR5HQU7HkQAACgLoPsKEyn0+l0qjcyQxIAUFwTkzlHbGA5CkmSLDz0EgAAaMjYRvTJUQCAgjhvbsL4chQGFlEAAABtGliOQhFZNZeINACArZ+BhJ7HOXrevCaMsKNAhwAAgLqMbUSfHAUAQIfIUQAAADuEjgIAAMhERwEAAGSiowAAADLRUQAAAJnoKAAAanPwqk9ppQGMwwjrKFBwCQC6sjtliDa68LGHG93\\u002fo43u3TLCjgIdAgAA6sLQAwAAyERHAQAAZKKjAAAAMtFRAAAAmegoAACATHQUAABAJjoK3cgq9tArg2ikoZ11G0Q7B9FIQztrNYhGjhIdBQAAkGmEBZeozAgAQF1G2FGgQwAAQF0YegAAAJnoKAAAgExDHXpIksQYE0VRFEVbPTAIgvyxiY0b1LWTpp+ihUa204w+vJl17aTpp+BDr\\u002fcpBtFOPvR6n6Kd97MhpY+M+YYXUUjTNAiCNE3TNI3jWN4XAAB2VqNHxv72jLIEQRCGYZqmxpgkSabTqf0S2unV9qFz3YcNetIMXmmNG\\u002fSkGX3YoCfN4JW2uUG9z3Lwqk\\u002flP1dFD\\u002f75r2hL8o+MFQ2yozCbzTSu4l8d1jepnxvI99v+Fvazna1t0JNm8Erb3KAnzRjfK3UOnw98+Ze33cCnP1kHfv5f2w\\u002fx2+Bs4B\\u002fL5Xcv5xi\\u002f8Yexq45CzpGxooENPUh3yXnxciMAADuo8SPjYlBms5nTZmNMGIb2VQAAOlTi6FbliTYeGSsa6qwHm92NKv12AwDQldoPXjVOfBjY0AMAAGjTwDoK0kVyhl7qnTAKAMCANH1kHFhHwRgThmEcx3JZi0t02B4AALrV6JFxeNMjjTGBtT6kPQOkoaJU1RVvWJIk7ZeQKtK8JEnSNI1W2mqa2wZTuJ0dVuIq\\u002fnFLdZSumrqxnc7tnbyrRd5MeRs3btao\\u002fHbK19K\\u002fsf3WDuKPaBCNzNfJL3nWkbEGdWVFtmw2m81mM\\u002fuqMSYMwzAMjTGTyaSzlp1rq4bJZi21bLFYFG6efFU6fHu3baf+qbTayu2\\u002fh6bWzOTiir+foaXlz71gIyeTib1ZPz\\u002f0yWQSnqv9pg7ij6hcI9tsYRHyKtr\\u002fKi68I2NdevcWl2P\\u002f4MoPR6fNOatgw\\u002fQb3\\u002fJho0jznNs7eXtLtLOTY\\u002fBW38NOPnF96iLt7PbvqEgjnV9k+Ttqq4FLJX582j8lWAzkj6hII51PuZM3M8tsNuvwRKU5fTmgVuR8Kv35kAo2bDKZ6IlRW01b0561zXP+Dv0Juy0o2E77\\u002fKOr3+KC30P7PLiVpp2jSDs7+aBtRRrZh7OCbX98unpjS7yf7X8\\u002fizTSiTR0\\u002fkW1zWYz\\u002fTHvyTGoFn15f6tYW2uiD6MP2zas5T\\u002fLcu9b+z\\u002fNJdopD+kkVG7fktUG3bKTjkLBdmpXRk6P+vlmyhuov85djTvYt2x8rzocH3Gasbadcru8pS1\\u002f7gUb6dzYh86ib2QdheHNeiiot3Wde9swkd88WWtE\\u002fjK7ldVOWUItjuMwDPuQ5bS2nXEcy29if2S9n1EUyTFjOp12niPsN3I+n8\\u002fn8ziOe7WcbM4fUa8maq1tp3zWcRxPp9M+\\u002fBH5jZQW6lX7MhoyhsqMa\\u002fXkT9HX24aJrObJr7CpPZm2rJxE\\u002fcViIa2NoqjzbpnfziiKwjDsw3to89tjp23LvZ3\\u002fIme9aYtVwod0ZDs\\u002ftuV8uNPptD99RL+daZpKC+Vvpw9\\u002fRGu\\u002fmXI+IFfDMJzP5203a8eMNqKAGiVJEsexhPv6doRbS86D+\\u002fnzISfBMvVLL3feodkoWlfRpXOaHi96\\u002fuVcu3JPr8ifubSwz39EaZpqen\\u002fn\\u002fcJdMIaOwtqfsD78Nfa2YaJg8\\u002fQko6s\\u002fyILtDIKg25+Mgu2U0XR7jnjLs\\u002f8LtnPt1P\\u002fW2lmwkZ3\\u002fNW31N54kid2taVPPf4tE8V8kreliOn1Xd0iXCRL1sSfM9Cq3Jadhfu5V+6ltRZqnc75tbTZyq3bq7aaLmYdbfdyL7mZ2DeL9LNJIf3pknz9002mCW5F2+rMeWv4tLd7ItV+A\\u002fuhnq0rrywG1Orv306tPaG3D1n6\\u002fu5rRl9+8nvQvi7yNnTeyYDtVh1PAi7TTPlHrahrnxkY6qbXtN7JgO\\u002fswi2\\u002fbD33tl7ZvjezDBDdfJ29dcwZZwjlLb4cAe9sw0fPmqSLt1Lhlhy9nTO9n8c0aMohG9qEBBQ3i\\u002fSz+l97\\u002fN3wcRtVRAAAA9RpDMiMAAGgIHQUAAJCJjgIAAMhERwEAxiMIgiAI1tbA6LzWSEOcmh9JkgSWIgmPUupx7ZtmP3xtcRHdwyjf26Wup10AAGojP+xr11Jae3s7mpsJ7Mw71bWs7KILRY50Zt0cYOOtZpm\\u002fhzFNibQRUQCAsXEW5uhb7e0aJUmivQG7jKzWbVwsFma1HFeOyWTi1Kv2V\\u002fDKLwE5mUxGG1TouqcCAKiNMcauXSjCMHSWjbbXprLDDPJA+wChR0f7hHvtw7Uskt5lV\\u002fm0d2g\\u002fo16dzWbaTn06Z1drX6+9q7VxC6eerNMe57Vn7U2Kr+vltQ0b6yF1nK8KAHaTHLmdg7Eev\\u002fWQvPbyYnVgXlhdAbnLL5yctaswDP0q4PZBN6ujIE8hm+mReG1BceWMO5gCYyt2Tfr8OuV+v0Eu6Fuxdg+jHH2gowAA42FWI\\u002fR6ANPLehz1z5V1Y+NVSrb3rIfttQ\\u002fPqVpdvKPgvBB\\u002fVzbpEvkttBtmxyf8\\u002fRivHLh\\u002fWdvpN0xu73a1kRa8yAAAxkVXYoyiyB7FF\\u002fP53L4lSRInp8HeiW8+n4dhqOPxHS5K6edeyEt2WpKmqeQfyPZOJoE+RN4HuZqmqT1CoUkPzp6dNkRDWDK+BJIZAWCE9Fg+n88LThEs90RRFDkdkTY5L805bCdJ4hzjHbLmu1613zS7PzHy2Y+bEFEAgBFKkiSOYz913xgThqF9QC2xwJIcg+2Hl1awH5PVDPvZJ5OJhgTszTReEkXRdDq1D\\u002flONyLrTXMmRDht0J2MMpxgiCgAwCjJoWs6nfqn+0mSzOdzParFcZw\\u002f8c8hx2O9qkfW4vTh1U\\u002fT7UO47C2OYyeu4FzWW\\u002fwxF33T7DckTVMn3SGOY92D04cY5YKWdBQAYJzkaOcfumSwII5jqV1otjwVTpIkDEMtfejEJ9aKokgjB3I41wqSW\\u002fVR\\u002fJY4tywWCzmQ25UZF+dOs5zP53LX2l6UtCcn6iAv1t6D3usMWIwGy0wDwI4qMehQ+uHOxhWfWkmVZf\\u002fwnL\\u002f\\u002fbVvub+nvIU3TOI5HeUilowAAGKr+HJ6DIJjNZgw9AADQI1EUFRn7aJqMoYyyl2CIKAAAgBxEFAAAQCY6CgAAIBMdBQAAkImOAgAAyERHAQAAZKKjAAAAMtFRAAAAmegoAACATHQUAABAJjoKAAAgEx0FAACQiY4CAADI9P8DYihhRxK1CFAAAAAASUVORK5CYII=\",\"x\":-0.125,\"xref\":\"x\",\"y\":2.25e-05,\"yref\":\"y\"}],\"xaxis\":{\"range\":[0,1],\"showgrid\":false,\"title\":{\"text\":\"Momentum (GeV\\u002fc)\"}},\"yaxis\":{\"range\":[0,2e-05],\"showgrid\":false,\"title\":{\"text\":\"dE\\u002fdx\"}},\"margin\":{\"l\":30,\"r\":0,\"b\":50,\"t\":50,\"pad\":0},\"showlegend\":false,\"autosize\":false,\"width\":530,\"height\":457,\"title\":{\"text\":\"Ionization Energy Loss vs. Momentum\"}},                        {\"responsive\": true}                    ).then(function(){\n                            \nvar gd = document.getElementById('5c2a71e5-3b28-4d45-bb57-cb9ae1999665');\nvar x = new MutationObserver(function (mutations, observer) {{\n        var display = window.getComputedStyle(gd).display;\n        if (!display || display === 'none') {{\n            console.log([gd, 'removed!']);\n            Plotly.purge(gd);\n            observer.disconnect();\n        }}\n}});\n\n// Listen for the removal of the full notebook cells\nvar notebookContainer = gd.closest('#notebook-container');\nif (notebookContainer) {{\n    x.observe(notebookContainer, {childList: true});\n}}\n\n// Listen for the clearing of the current output cell\nvar outputEl = gd.closest('.output');\nif (outputEl) {{\n    x.observe(outputEl, {childList: true});\n}}\n\n                        })                };                            </script>        </div>\n</body>\n</html>"
                },
                "metadata": {}
              }
            ]
          }
        },
        "cd0dd5afb2044d8a820ffd0dbdd30a14": {
          "model_module": "@jupyter-widgets/base",
          "model_name": "LayoutModel",
          "model_module_version": "1.2.0",
          "state": {
            "_model_module": "@jupyter-widgets/base",
            "_model_module_version": "1.2.0",
            "_model_name": "LayoutModel",
            "_view_count": null,
            "_view_module": "@jupyter-widgets/base",
            "_view_module_version": "1.2.0",
            "_view_name": "LayoutView",
            "align_content": null,
            "align_items": null,
            "align_self": null,
            "border": null,
            "bottom": null,
            "display": null,
            "flex": null,
            "flex_flow": null,
            "grid_area": null,
            "grid_auto_columns": null,
            "grid_auto_flow": null,
            "grid_auto_rows": null,
            "grid_column": null,
            "grid_gap": null,
            "grid_row": null,
            "grid_template_areas": null,
            "grid_template_columns": null,
            "grid_template_rows": null,
            "height": null,
            "justify_content": null,
            "justify_items": null,
            "left": null,
            "margin": null,
            "max_height": null,
            "max_width": null,
            "min_height": null,
            "min_width": null,
            "object_fit": null,
            "object_position": null,
            "order": null,
            "overflow": null,
            "overflow_x": null,
            "overflow_y": null,
            "padding": null,
            "right": null,
            "top": null,
            "visibility": null,
            "width": null
          }
        },
        "234168a0152344acbb9f31164ebe108c": {
          "model_module": "@jupyter-widgets/controls",
          "model_name": "FloatSliderModel",
          "model_module_version": "1.5.0",
          "state": {
            "_dom_classes": [],
            "_model_module": "@jupyter-widgets/controls",
            "_model_module_version": "1.5.0",
            "_model_name": "FloatSliderModel",
            "_view_count": null,
            "_view_module": "@jupyter-widgets/controls",
            "_view_module_version": "1.5.0",
            "_view_name": "FloatSliderView",
            "continuous_update": true,
            "description": "a",
            "description_tooltip": null,
            "disabled": false,
            "layout": "IPY_MODEL_1b18600fe81e4f39ac592d21cc11b3f5",
            "max": 0,
            "min": -10,
            "orientation": "horizontal",
            "readout": true,
            "readout_format": ".2f",
            "step": 0.01,
            "style": "IPY_MODEL_a5adfc2a5dec4165a630ecf62a30e347",
            "value": -4.44
          }
        },
        "4f52288facf0472e91a7e279b443dc54": {
          "model_module": "@jupyter-widgets/controls",
          "model_name": "FloatSliderModel",
          "model_module_version": "1.5.0",
          "state": {
            "_dom_classes": [],
            "_model_module": "@jupyter-widgets/controls",
            "_model_module_version": "1.5.0",
            "_model_name": "FloatSliderModel",
            "_view_count": null,
            "_view_module": "@jupyter-widgets/controls",
            "_view_module_version": "1.5.0",
            "_view_name": "FloatSliderView",
            "continuous_update": true,
            "description": "b",
            "description_tooltip": null,
            "disabled": false,
            "layout": "IPY_MODEL_9b7c448d7e75431a9dd8b35b0112f269",
            "max": 10,
            "min": 0,
            "orientation": "horizontal",
            "readout": true,
            "readout_format": ".2f",
            "step": 0.01,
            "style": "IPY_MODEL_b758ed8df42543378c3efbb27eaf6d79",
            "value": 3.61
          }
        },
        "56a93ade2ba446b0ad62510b7b3c79dc": {
          "model_module": "@jupyter-widgets/controls",
          "model_name": "FloatSliderModel",
          "model_module_version": "1.5.0",
          "state": {
            "_dom_classes": [],
            "_model_module": "@jupyter-widgets/controls",
            "_model_module_version": "1.5.0",
            "_model_name": "FloatSliderModel",
            "_view_count": null,
            "_view_module": "@jupyter-widgets/controls",
            "_view_module_version": "1.5.0",
            "_view_name": "FloatSliderView",
            "continuous_update": true,
            "description": "c",
            "description_tooltip": null,
            "disabled": false,
            "layout": "IPY_MODEL_80e1059e0ffb4fab85c145ac1cee9ad8",
            "max": 10,
            "min": 0,
            "orientation": "horizontal",
            "readout": true,
            "readout_format": ".2f",
            "step": 0.01,
            "style": "IPY_MODEL_953dfa13144f45b9bd599ae76e8ef5b7",
            "value": 1.56
          }
        },
        "1726232a2b954ddd943bcf8bf3f6479f": {
          "model_module": "@jupyter-widgets/base",
          "model_name": "LayoutModel",
          "model_module_version": "1.2.0",
          "state": {
            "_model_module": "@jupyter-widgets/base",
            "_model_module_version": "1.2.0",
            "_model_name": "LayoutModel",
            "_view_count": null,
            "_view_module": "@jupyter-widgets/base",
            "_view_module_version": "1.2.0",
            "_view_name": "LayoutView",
            "align_content": null,
            "align_items": null,
            "align_self": null,
            "border": null,
            "bottom": null,
            "display": null,
            "flex": null,
            "flex_flow": "row wrap",
            "grid_area": null,
            "grid_auto_columns": null,
            "grid_auto_flow": null,
            "grid_auto_rows": null,
            "grid_column": null,
            "grid_gap": null,
            "grid_row": null,
            "grid_template_areas": null,
            "grid_template_columns": null,
            "grid_template_rows": null,
            "height": null,
            "justify_content": null,
            "justify_items": null,
            "left": null,
            "margin": null,
            "max_height": null,
            "max_width": null,
            "min_height": null,
            "min_width": null,
            "object_fit": null,
            "object_position": null,
            "order": null,
            "overflow": null,
            "overflow_x": null,
            "overflow_y": null,
            "padding": null,
            "right": null,
            "top": null,
            "visibility": null,
            "width": null
          }
        },
        "6b7d0e418830424ea93c6b256744611a": {
          "model_module": "@jupyter-widgets/base",
          "model_name": "LayoutModel",
          "model_module_version": "1.2.0",
          "state": {
            "_model_module": "@jupyter-widgets/base",
            "_model_module_version": "1.2.0",
            "_model_name": "LayoutModel",
            "_view_count": null,
            "_view_module": "@jupyter-widgets/base",
            "_view_module_version": "1.2.0",
            "_view_name": "LayoutView",
            "align_content": null,
            "align_items": null,
            "align_self": null,
            "border": null,
            "bottom": null,
            "display": null,
            "flex": null,
            "flex_flow": null,
            "grid_area": null,
            "grid_auto_columns": null,
            "grid_auto_flow": null,
            "grid_auto_rows": null,
            "grid_column": null,
            "grid_gap": null,
            "grid_row": null,
            "grid_template_areas": null,
            "grid_template_columns": null,
            "grid_template_rows": null,
            "height": null,
            "justify_content": null,
            "justify_items": null,
            "left": null,
            "margin": null,
            "max_height": null,
            "max_width": null,
            "min_height": null,
            "min_width": null,
            "object_fit": null,
            "object_position": null,
            "order": null,
            "overflow": null,
            "overflow_x": null,
            "overflow_y": null,
            "padding": null,
            "right": null,
            "top": null,
            "visibility": null,
            "width": null
          }
        },
        "1b18600fe81e4f39ac592d21cc11b3f5": {
          "model_module": "@jupyter-widgets/base",
          "model_name": "LayoutModel",
          "model_module_version": "1.2.0",
          "state": {
            "_model_module": "@jupyter-widgets/base",
            "_model_module_version": "1.2.0",
            "_model_name": "LayoutModel",
            "_view_count": null,
            "_view_module": "@jupyter-widgets/base",
            "_view_module_version": "1.2.0",
            "_view_name": "LayoutView",
            "align_content": null,
            "align_items": null,
            "align_self": null,
            "border": null,
            "bottom": null,
            "display": null,
            "flex": null,
            "flex_flow": null,
            "grid_area": null,
            "grid_auto_columns": null,
            "grid_auto_flow": null,
            "grid_auto_rows": null,
            "grid_column": null,
            "grid_gap": null,
            "grid_row": null,
            "grid_template_areas": null,
            "grid_template_columns": null,
            "grid_template_rows": null,
            "height": null,
            "justify_content": null,
            "justify_items": null,
            "left": null,
            "margin": null,
            "max_height": null,
            "max_width": null,
            "min_height": null,
            "min_width": null,
            "object_fit": null,
            "object_position": null,
            "order": null,
            "overflow": null,
            "overflow_x": null,
            "overflow_y": null,
            "padding": null,
            "right": null,
            "top": null,
            "visibility": null,
            "width": null
          }
        },
        "a5adfc2a5dec4165a630ecf62a30e347": {
          "model_module": "@jupyter-widgets/controls",
          "model_name": "SliderStyleModel",
          "model_module_version": "1.5.0",
          "state": {
            "_model_module": "@jupyter-widgets/controls",
            "_model_module_version": "1.5.0",
            "_model_name": "SliderStyleModel",
            "_view_count": null,
            "_view_module": "@jupyter-widgets/base",
            "_view_module_version": "1.2.0",
            "_view_name": "StyleView",
            "description_width": "",
            "handle_color": null
          }
        },
        "9b7c448d7e75431a9dd8b35b0112f269": {
          "model_module": "@jupyter-widgets/base",
          "model_name": "LayoutModel",
          "model_module_version": "1.2.0",
          "state": {
            "_model_module": "@jupyter-widgets/base",
            "_model_module_version": "1.2.0",
            "_model_name": "LayoutModel",
            "_view_count": null,
            "_view_module": "@jupyter-widgets/base",
            "_view_module_version": "1.2.0",
            "_view_name": "LayoutView",
            "align_content": null,
            "align_items": null,
            "align_self": null,
            "border": null,
            "bottom": null,
            "display": null,
            "flex": null,
            "flex_flow": null,
            "grid_area": null,
            "grid_auto_columns": null,
            "grid_auto_flow": null,
            "grid_auto_rows": null,
            "grid_column": null,
            "grid_gap": null,
            "grid_row": null,
            "grid_template_areas": null,
            "grid_template_columns": null,
            "grid_template_rows": null,
            "height": null,
            "justify_content": null,
            "justify_items": null,
            "left": null,
            "margin": null,
            "max_height": null,
            "max_width": null,
            "min_height": null,
            "min_width": null,
            "object_fit": null,
            "object_position": null,
            "order": null,
            "overflow": null,
            "overflow_x": null,
            "overflow_y": null,
            "padding": null,
            "right": null,
            "top": null,
            "visibility": null,
            "width": null
          }
        },
        "b758ed8df42543378c3efbb27eaf6d79": {
          "model_module": "@jupyter-widgets/controls",
          "model_name": "SliderStyleModel",
          "model_module_version": "1.5.0",
          "state": {
            "_model_module": "@jupyter-widgets/controls",
            "_model_module_version": "1.5.0",
            "_model_name": "SliderStyleModel",
            "_view_count": null,
            "_view_module": "@jupyter-widgets/base",
            "_view_module_version": "1.2.0",
            "_view_name": "StyleView",
            "description_width": "",
            "handle_color": null
          }
        },
        "80e1059e0ffb4fab85c145ac1cee9ad8": {
          "model_module": "@jupyter-widgets/base",
          "model_name": "LayoutModel",
          "model_module_version": "1.2.0",
          "state": {
            "_model_module": "@jupyter-widgets/base",
            "_model_module_version": "1.2.0",
            "_model_name": "LayoutModel",
            "_view_count": null,
            "_view_module": "@jupyter-widgets/base",
            "_view_module_version": "1.2.0",
            "_view_name": "LayoutView",
            "align_content": null,
            "align_items": null,
            "align_self": null,
            "border": null,
            "bottom": null,
            "display": null,
            "flex": null,
            "flex_flow": null,
            "grid_area": null,
            "grid_auto_columns": null,
            "grid_auto_flow": null,
            "grid_auto_rows": null,
            "grid_column": null,
            "grid_gap": null,
            "grid_row": null,
            "grid_template_areas": null,
            "grid_template_columns": null,
            "grid_template_rows": null,
            "height": null,
            "justify_content": null,
            "justify_items": null,
            "left": null,
            "margin": null,
            "max_height": null,
            "max_width": null,
            "min_height": null,
            "min_width": null,
            "object_fit": null,
            "object_position": null,
            "order": null,
            "overflow": null,
            "overflow_x": null,
            "overflow_y": null,
            "padding": null,
            "right": null,
            "top": null,
            "visibility": null,
            "width": null
          }
        },
        "953dfa13144f45b9bd599ae76e8ef5b7": {
          "model_module": "@jupyter-widgets/controls",
          "model_name": "SliderStyleModel",
          "model_module_version": "1.5.0",
          "state": {
            "_model_module": "@jupyter-widgets/controls",
            "_model_module_version": "1.5.0",
            "_model_name": "SliderStyleModel",
            "_view_count": null,
            "_view_module": "@jupyter-widgets/base",
            "_view_module_version": "1.2.0",
            "_view_name": "StyleView",
            "description_width": "",
            "handle_color": null
          }
        },
        "579c815131414326a81c0a46f5a7ae3a": {
          "model_module": "@jupyter-widgets/controls",
          "model_name": "VBoxModel",
          "model_module_version": "1.5.0",
          "state": {
            "_dom_classes": [],
            "_model_module": "@jupyter-widgets/controls",
            "_model_module_version": "1.5.0",
            "_model_name": "VBoxModel",
            "_view_count": null,
            "_view_module": "@jupyter-widgets/controls",
            "_view_module_version": "1.5.0",
            "_view_name": "VBoxView",
            "box_style": "",
            "children": [
              "IPY_MODEL_880ffab5b1f54bf38beb81a74d2292b3",
              "IPY_MODEL_7bb275a6c540452282499b42ed56472d"
            ],
            "layout": "IPY_MODEL_cbbd855f7b4c412ca228304e8e275957"
          }
        },
        "880ffab5b1f54bf38beb81a74d2292b3": {
          "model_module": "@jupyter-widgets/controls",
          "model_name": "HBoxModel",
          "model_module_version": "1.5.0",
          "state": {
            "_dom_classes": [],
            "_model_module": "@jupyter-widgets/controls",
            "_model_module_version": "1.5.0",
            "_model_name": "HBoxModel",
            "_view_count": null,
            "_view_module": "@jupyter-widgets/controls",
            "_view_module_version": "1.5.0",
            "_view_name": "HBoxView",
            "box_style": "",
            "children": [
              "IPY_MODEL_7e8d265c225e4fdea04aee146d32e51d",
              "IPY_MODEL_d764206e06bd4d2e85c165f77be0b6ec",
              "IPY_MODEL_f699990756b64ae5b4cce535801f3564"
            ],
            "layout": "IPY_MODEL_2f03eca3029f41dab17997008f6b112c"
          }
        },
        "7bb275a6c540452282499b42ed56472d": {
          "model_module": "@jupyter-widgets/output",
          "model_name": "OutputModel",
          "model_module_version": "1.0.0",
          "state": {
            "_dom_classes": [],
            "_model_module": "@jupyter-widgets/output",
            "_model_module_version": "1.0.0",
            "_model_name": "OutputModel",
            "_view_count": null,
            "_view_module": "@jupyter-widgets/output",
            "_view_module_version": "1.0.0",
            "_view_name": "OutputView",
            "layout": "IPY_MODEL_15c3a45ac57e47bf860ff5b5ed0917e5",
            "msg_id": "",
            "outputs": [
              {
                "output_type": "display_data",
                "data": {
                  "text/html": "<html>\n<head><meta charset=\"utf-8\" /></head>\n<body>\n    <div>            <script src=\"https://cdnjs.cloudflare.com/ajax/libs/mathjax/2.7.5/MathJax.js?config=TeX-AMS-MML_SVG\"></script><script type=\"text/javascript\">if (window.MathJax && window.MathJax.Hub && window.MathJax.Hub.Config) {window.MathJax.Hub.Config({SVG: {font: \"STIX-Web\"}});}</script>                <script type=\"text/javascript\">window.PlotlyConfig = {MathJaxConfig: 'local'};</script>\n        <script charset=\"utf-8\" src=\"https://cdn.plot.ly/plotly-2.24.1.min.js\"></script>                <div id=\"9cf6f41a-ddfc-4cff-86ce-3d957601c0cc\" class=\"plotly-graph-div\" style=\"height:457px; width:530px;\"></div>            <script type=\"text/javascript\">                                    window.PLOTLYENV=window.PLOTLYENV || {};                                    if (document.getElementById(\"9cf6f41a-ddfc-4cff-86ce-3d957601c0cc\")) {                    Plotly.newPlot(                        \"9cf6f41a-ddfc-4cff-86ce-3d957601c0cc\",                        [{\"marker\":{\"color\":\"red\"},\"mode\":\"lines\",\"name\":\"Cut\",\"x\":[0.0,0.001001001001001001,0.002002002002002002,0.003003003003003003,0.004004004004004004,0.005005005005005005,0.006006006006006006,0.007007007007007007,0.008008008008008008,0.009009009009009009,0.01001001001001001,0.011011011011011011,0.012012012012012012,0.013013013013013013,0.014014014014014014,0.015015015015015015,0.016016016016016016,0.017017017017017015,0.018018018018018018,0.01901901901901902,0.02002002002002002,0.02102102102102102,0.022022022022022022,0.023023023023023025,0.024024024024024024,0.025025025025025023,0.026026026026026026,0.02702702702702703,0.028028028028028028,0.029029029029029027,0.03003003003003003,0.031031031031031032,0.03203203203203203,0.03303303303303303,0.03403403403403403,0.035035035035035036,0.036036036036036036,0.037037037037037035,0.03803803803803804,0.03903903903903904,0.04004004004004004,0.04104104104104104,0.04204204204204204,0.043043043043043044,0.044044044044044044,0.04504504504504504,0.04604604604604605,0.04704704704704705,0.04804804804804805,0.04904904904904905,0.050050050050050046,0.05105105105105105,0.05205205205205205,0.05305305305305305,0.05405405405405406,0.055055055055055056,0.056056056056056056,0.057057057057057055,0.058058058058058054,0.05905905905905906,0.06006006006006006,0.06106106106106106,0.062062062062062065,0.06306306306306306,0.06406406406406406,0.06506506506506507,0.06606606606606606,0.06706706706706707,0.06806806806806806,0.06906906906906907,0.07007007007007007,0.07107107107107107,0.07207207207207207,0.07307307307307308,0.07407407407407407,0.07507507507507508,0.07607607607607608,0.07707707707707707,0.07807807807807808,0.07907907907907907,0.08008008008008008,0.08108108108108109,0.08208208208208208,0.08308308308308308,0.08408408408408408,0.08508508508508508,0.08608608608608609,0.08708708708708708,0.08808808808808809,0.0890890890890891,0.09009009009009009,0.09109109109109109,0.0920920920920921,0.09309309309309309,0.0940940940940941,0.09509509509509509,0.0960960960960961,0.0970970970970971,0.0980980980980981,0.0990990990990991,0.10010010010010009,0.1011011011011011,0.1021021021021021,0.1031031031031031,0.1041041041041041,0.10510510510510511,0.1061061061061061,0.10710710710710711,0.10810810810810811,0.1091091091091091,0.11011011011011011,0.1111111111111111,0.11211211211211211,0.11311311311311312,0.11411411411411411,0.11511511511511512,0.11611611611611611,0.11711711711711711,0.11811811811811812,0.11911911911911911,0.12012012012012012,0.12112112112112113,0.12212212212212212,0.12312312312312312,0.12412412412412413,0.12512512512512514,0.12612612612612611,0.12712712712712712,0.12812812812812813,0.12912912912912913,0.13013013013013014,0.13113113113113112,0.13213213213213212,0.13313313313313313,0.13413413413413414,0.13513513513513514,0.13613613613613612,0.13713713713713713,0.13813813813813813,0.13913913913913914,0.14014014014014015,0.14114114114114115,0.14214214214214213,0.14314314314314314,0.14414414414414414,0.14514514514514515,0.14614614614614616,0.14714714714714713,0.14814814814814814,0.14914914914914915,0.15015015015015015,0.15115115115115116,0.15215215215215216,0.15315315315315314,0.15415415415415415,0.15515515515515516,0.15615615615615616,0.15715715715715717,0.15815815815815815,0.15915915915915915,0.16016016016016016,0.16116116116116116,0.16216216216216217,0.16316316316316315,0.16416416416416416,0.16516516516516516,0.16616616616616617,0.16716716716716717,0.16816816816816815,0.16916916916916916,0.17017017017017017,0.17117117117117117,0.17217217217217218,0.17317317317317318,0.17417417417417416,0.17517517517517517,0.17617617617617617,0.17717717717717718,0.1781781781781782,0.17917917917917917,0.18018018018018017,0.18118118118118118,0.18218218218218218,0.1831831831831832,0.1841841841841842,0.18518518518518517,0.18618618618618618,0.1871871871871872,0.1881881881881882,0.1891891891891892,0.19019019019019018,0.19119119119119118,0.1921921921921922,0.1931931931931932,0.1941941941941942,0.19519519519519518,0.1961961961961962,0.1971971971971972,0.1981981981981982,0.1991991991991992,0.20020020020020018,0.2012012012012012,0.2022022022022022,0.2032032032032032,0.2042042042042042,0.20520520520520522,0.2062062062062062,0.2072072072072072,0.2082082082082082,0.2092092092092092,0.21021021021021022,0.2112112112112112,0.2122122122122122,0.2132132132132132,0.21421421421421422,0.21521521521521522,0.21621621621621623,0.2172172172172172,0.2182182182182182,0.21921921921921922,0.22022022022022023,0.22122122122122123,0.2222222222222222,0.22322322322322322,0.22422422422422422,0.22522522522522523,0.22622622622622623,0.2272272272272272,0.22822822822822822,0.22922922922922923,0.23023023023023023,0.23123123123123124,0.23223223223223222,0.23323323323323322,0.23423423423423423,0.23523523523523523,0.23623623623623624,0.23723723723723725,0.23823823823823823,0.23923923923923923,0.24024024024024024,0.24124124124124124,0.24224224224224225,0.24324324324324323,0.24424424424424424,0.24524524524524524,0.24624624624624625,0.24724724724724725,0.24824824824824826,0.24924924924924924,0.2502502502502503,0.25125125125125125,0.25225225225225223,0.25325325325325326,0.25425425425425424,0.2552552552552553,0.25625625625625625,0.25725725725725723,0.25825825825825827,0.25925925925925924,0.2602602602602603,0.26126126126126126,0.26226226226226224,0.26326326326326327,0.26426426426426425,0.2652652652652653,0.26626626626626626,0.26726726726726724,0.2682682682682683,0.26926926926926925,0.2702702702702703,0.27127127127127126,0.27227227227227224,0.2732732732732733,0.27427427427427425,0.2752752752752753,0.27627627627627627,0.2772772772772773,0.2782782782782783,0.27927927927927926,0.2802802802802803,0.28128128128128127,0.2822822822822823,0.2832832832832833,0.28428428428428426,0.2852852852852853,0.2862862862862863,0.2872872872872873,0.2882882882882883,0.28928928928928926,0.2902902902902903,0.2912912912912913,0.2922922922922923,0.2932932932932933,0.29429429429429427,0.2952952952952953,0.2962962962962963,0.2972972972972973,0.2982982982982983,0.29929929929929927,0.3003003003003003,0.3013013013013013,0.3023023023023023,0.3033033033033033,0.30430430430430433,0.3053053053053053,0.3063063063063063,0.3073073073073073,0.3083083083083083,0.30930930930930933,0.3103103103103103,0.3113113113113113,0.3123123123123123,0.3133133133133133,0.31431431431431434,0.3153153153153153,0.3163163163163163,0.3173173173173173,0.3183183183183183,0.31931931931931934,0.3203203203203203,0.3213213213213213,0.32232232232232233,0.3233233233233233,0.32432432432432434,0.3253253253253253,0.3263263263263263,0.32732732732732733,0.3283283283283283,0.32932932932932935,0.3303303303303303,0.3313313313313313,0.33233233233233234,0.3333333333333333,0.33433433433433435,0.3353353353353353,0.3363363363363363,0.33733733733733734,0.3383383383383383,0.33933933933933935,0.34034034034034033,0.34134134134134136,0.34234234234234234,0.3433433433433433,0.34434434434434436,0.34534534534534533,0.34634634634634637,0.34734734734734735,0.3483483483483483,0.34934934934934936,0.35035035035035034,0.35135135135135137,0.35235235235235235,0.3533533533533533,0.35435435435435436,0.35535535535535534,0.3563563563563564,0.35735735735735735,0.35835835835835833,0.35935935935935936,0.36036036036036034,0.3613613613613614,0.36236236236236236,0.36336336336336333,0.36436436436436437,0.36536536536536535,0.3663663663663664,0.36736736736736736,0.3683683683683684,0.36936936936936937,0.37037037037037035,0.3713713713713714,0.37237237237237236,0.3733733733733734,0.3743743743743744,0.37537537537537535,0.3763763763763764,0.37737737737737737,0.3783783783783784,0.3793793793793794,0.38038038038038036,0.3813813813813814,0.38238238238238237,0.3833833833833834,0.3843843843843844,0.38538538538538536,0.3863863863863864,0.38738738738738737,0.3883883883883884,0.3893893893893894,0.39039039039039036,0.3913913913913914,0.3923923923923924,0.3933933933933934,0.3943943943943944,0.39539539539539537,0.3963963963963964,0.3973973973973974,0.3983983983983984,0.3993993993993994,0.40040040040040037,0.4014014014014014,0.4024024024024024,0.4034034034034034,0.4044044044044044,0.40540540540540543,0.4064064064064064,0.4074074074074074,0.4084084084084084,0.4094094094094094,0.41041041041041043,0.4114114114114114,0.4124124124124124,0.4134134134134134,0.4144144144144144,0.41541541541541543,0.4164164164164164,0.4174174174174174,0.4184184184184184,0.4194194194194194,0.42042042042042044,0.4214214214214214,0.4224224224224224,0.42342342342342343,0.4244244244244244,0.42542542542542544,0.4264264264264264,0.4274274274274274,0.42842842842842843,0.4294294294294294,0.43043043043043044,0.4314314314314314,0.43243243243243246,0.43343343343343343,0.4344344344344344,0.43543543543543545,0.4364364364364364,0.43743743743743746,0.43843843843843844,0.4394394394394394,0.44044044044044045,0.44144144144144143,0.44244244244244246,0.44344344344344344,0.4444444444444444,0.44544544544544545,0.44644644644644643,0.44744744744744747,0.44844844844844844,0.4494494494494494,0.45045045045045046,0.45145145145145144,0.45245245245245247,0.45345345345345345,0.4544544544544544,0.45545545545545546,0.45645645645645644,0.4574574574574575,0.45845845845845845,0.45945945945945943,0.46046046046046046,0.46146146146146144,0.4624624624624625,0.46346346346346345,0.46446446446446443,0.46546546546546547,0.46646646646646645,0.4674674674674675,0.46846846846846846,0.4694694694694695,0.47047047047047047,0.47147147147147145,0.4724724724724725,0.47347347347347346,0.4744744744744745,0.4754754754754755,0.47647647647647645,0.4774774774774775,0.47847847847847846,0.4794794794794795,0.4804804804804805,0.48148148148148145,0.4824824824824825,0.48348348348348347,0.4844844844844845,0.4854854854854855,0.48648648648648646,0.4874874874874875,0.48848848848848847,0.4894894894894895,0.4904904904904905,0.49149149149149146,0.4924924924924925,0.4934934934934935,0.4944944944944945,0.4954954954954955,0.4964964964964965,0.4974974974974975,0.4984984984984985,0.4994994994994995,0.5005005005005005,0.5015015015015015,0.5025025025025025,0.5035035035035035,0.5045045045045045,0.5055055055055055,0.5065065065065065,0.5075075075075075,0.5085085085085085,0.5095095095095095,0.5105105105105106,0.5115115115115115,0.5125125125125125,0.5135135135135135,0.5145145145145145,0.5155155155155156,0.5165165165165165,0.5175175175175175,0.5185185185185185,0.5195195195195195,0.5205205205205206,0.5215215215215215,0.5225225225225225,0.5235235235235235,0.5245245245245245,0.5255255255255256,0.5265265265265265,0.5275275275275275,0.5285285285285285,0.5295295295295295,0.5305305305305306,0.5315315315315315,0.5325325325325325,0.5335335335335335,0.5345345345345345,0.5355355355355356,0.5365365365365365,0.5375375375375375,0.5385385385385385,0.5395395395395395,0.5405405405405406,0.5415415415415415,0.5425425425425425,0.5435435435435435,0.5445445445445445,0.5455455455455456,0.5465465465465466,0.5475475475475475,0.5485485485485485,0.5495495495495496,0.5505505505505506,0.5515515515515516,0.5525525525525525,0.5535535535535535,0.5545545545545546,0.5555555555555556,0.5565565565565566,0.5575575575575575,0.5585585585585585,0.5595595595595596,0.5605605605605606,0.5615615615615616,0.5625625625625625,0.5635635635635635,0.5645645645645646,0.5655655655655656,0.5665665665665666,0.5675675675675675,0.5685685685685685,0.5695695695695696,0.5705705705705706,0.5715715715715716,0.5725725725725725,0.5735735735735735,0.5745745745745746,0.5755755755755756,0.5765765765765766,0.5775775775775776,0.5785785785785785,0.5795795795795796,0.5805805805805806,0.5815815815815816,0.5825825825825826,0.5835835835835835,0.5845845845845846,0.5855855855855856,0.5865865865865866,0.5875875875875876,0.5885885885885885,0.5895895895895896,0.5905905905905906,0.5915915915915916,0.5925925925925926,0.5935935935935935,0.5945945945945946,0.5955955955955956,0.5965965965965966,0.5975975975975976,0.5985985985985985,0.5995995995995996,0.6006006006006006,0.6016016016016016,0.6026026026026026,0.6036036036036035,0.6046046046046046,0.6056056056056056,0.6066066066066066,0.6076076076076076,0.6086086086086087,0.6096096096096096,0.6106106106106106,0.6116116116116116,0.6126126126126126,0.6136136136136137,0.6146146146146146,0.6156156156156156,0.6166166166166166,0.6176176176176176,0.6186186186186187,0.6196196196196196,0.6206206206206206,0.6216216216216216,0.6226226226226226,0.6236236236236237,0.6246246246246246,0.6256256256256256,0.6266266266266266,0.6276276276276276,0.6286286286286287,0.6296296296296297,0.6306306306306306,0.6316316316316316,0.6326326326326326,0.6336336336336337,0.6346346346346347,0.6356356356356356,0.6366366366366366,0.6376376376376376,0.6386386386386387,0.6396396396396397,0.6406406406406406,0.6416416416416416,0.6426426426426426,0.6436436436436437,0.6446446446446447,0.6456456456456456,0.6466466466466466,0.6476476476476476,0.6486486486486487,0.6496496496496497,0.6506506506506506,0.6516516516516516,0.6526526526526526,0.6536536536536537,0.6546546546546547,0.6556556556556556,0.6566566566566566,0.6576576576576576,0.6586586586586587,0.6596596596596597,0.6606606606606606,0.6616616616616616,0.6626626626626626,0.6636636636636637,0.6646646646646647,0.6656656656656657,0.6666666666666666,0.6676676676676676,0.6686686686686687,0.6696696696696697,0.6706706706706707,0.6716716716716716,0.6726726726726726,0.6736736736736737,0.6746746746746747,0.6756756756756757,0.6766766766766766,0.6776776776776777,0.6786786786786787,0.6796796796796797,0.6806806806806807,0.6816816816816816,0.6826826826826827,0.6836836836836837,0.6846846846846847,0.6856856856856857,0.6866866866866866,0.6876876876876877,0.6886886886886887,0.6896896896896897,0.6906906906906907,0.6916916916916916,0.6926926926926927,0.6936936936936937,0.6946946946946947,0.6956956956956957,0.6966966966966966,0.6976976976976977,0.6986986986986987,0.6996996996996997,0.7007007007007007,0.7017017017017017,0.7027027027027027,0.7037037037037037,0.7047047047047047,0.7057057057057057,0.7067067067067067,0.7077077077077077,0.7087087087087087,0.7097097097097097,0.7107107107107107,0.7117117117117117,0.7127127127127127,0.7137137137137137,0.7147147147147147,0.7157157157157157,0.7167167167167167,0.7177177177177178,0.7187187187187187,0.7197197197197197,0.7207207207207207,0.7217217217217217,0.7227227227227228,0.7237237237237237,0.7247247247247247,0.7257257257257257,0.7267267267267267,0.7277277277277278,0.7287287287287287,0.7297297297297297,0.7307307307307307,0.7317317317317317,0.7327327327327328,0.7337337337337337,0.7347347347347347,0.7357357357357357,0.7367367367367368,0.7377377377377378,0.7387387387387387,0.7397397397397397,0.7407407407407407,0.7417417417417418,0.7427427427427428,0.7437437437437437,0.7447447447447447,0.7457457457457457,0.7467467467467468,0.7477477477477478,0.7487487487487487,0.7497497497497497,0.7507507507507507,0.7517517517517518,0.7527527527527528,0.7537537537537538,0.7547547547547547,0.7557557557557557,0.7567567567567568,0.7577577577577578,0.7587587587587588,0.7597597597597597,0.7607607607607607,0.7617617617617618,0.7627627627627628,0.7637637637637638,0.7647647647647647,0.7657657657657657,0.7667667667667668,0.7677677677677678,0.7687687687687688,0.7697697697697697,0.7707707707707707,0.7717717717717718,0.7727727727727728,0.7737737737737738,0.7747747747747747,0.7757757757757757,0.7767767767767768,0.7777777777777778,0.7787787787787788,0.7797797797797797,0.7807807807807807,0.7817817817817818,0.7827827827827828,0.7837837837837838,0.7847847847847848,0.7857857857857857,0.7867867867867868,0.7877877877877878,0.7887887887887888,0.7897897897897898,0.7907907907907907,0.7917917917917918,0.7927927927927928,0.7937937937937938,0.7947947947947948,0.7957957957957957,0.7967967967967968,0.7977977977977978,0.7987987987987988,0.7997997997997998,0.8008008008008007,0.8018018018018018,0.8028028028028028,0.8038038038038038,0.8048048048048048,0.8058058058058059,0.8068068068068068,0.8078078078078078,0.8088088088088088,0.8098098098098098,0.8108108108108109,0.8118118118118118,0.8128128128128128,0.8138138138138138,0.8148148148148148,0.8158158158158159,0.8168168168168168,0.8178178178178178,0.8188188188188188,0.8198198198198198,0.8208208208208209,0.8218218218218218,0.8228228228228228,0.8238238238238238,0.8248248248248248,0.8258258258258259,0.8268268268268268,0.8278278278278278,0.8288288288288288,0.8298298298298298,0.8308308308308309,0.8318318318318318,0.8328328328328328,0.8338338338338338,0.8348348348348348,0.8358358358358359,0.8368368368368369,0.8378378378378378,0.8388388388388388,0.8398398398398398,0.8408408408408409,0.8418418418418419,0.8428428428428428,0.8438438438438438,0.8448448448448448,0.8458458458458459,0.8468468468468469,0.8478478478478478,0.8488488488488488,0.8498498498498498,0.8508508508508509,0.8518518518518519,0.8528528528528528,0.8538538538538538,0.8548548548548548,0.8558558558558559,0.8568568568568569,0.8578578578578578,0.8588588588588588,0.8598598598598598,0.8608608608608609,0.8618618618618619,0.8628628628628628,0.8638638638638638,0.8648648648648649,0.8658658658658659,0.8668668668668669,0.8678678678678678,0.8688688688688688,0.8698698698698699,0.8708708708708709,0.8718718718718719,0.8728728728728729,0.8738738738738738,0.8748748748748749,0.8758758758758759,0.8768768768768769,0.8778778778778779,0.8788788788788788,0.8798798798798799,0.8808808808808809,0.8818818818818819,0.8828828828828829,0.8838838838838838,0.8848848848848849,0.8858858858858859,0.8868868868868869,0.8878878878878879,0.8888888888888888,0.8898898898898899,0.8908908908908909,0.8918918918918919,0.8928928928928929,0.8938938938938938,0.8948948948948949,0.8958958958958959,0.8968968968968969,0.8978978978978979,0.8988988988988988,0.8998998998998999,0.9009009009009009,0.9019019019019019,0.9029029029029029,0.9039039039039038,0.9049049049049049,0.9059059059059059,0.9069069069069069,0.9079079079079079,0.9089089089089089,0.9099099099099099,0.9109109109109109,0.9119119119119119,0.9129129129129129,0.9139139139139139,0.914914914914915,0.9159159159159159,0.9169169169169169,0.9179179179179179,0.9189189189189189,0.91991991991992,0.9209209209209209,0.9219219219219219,0.9229229229229229,0.9239239239239239,0.924924924924925,0.9259259259259259,0.9269269269269269,0.9279279279279279,0.9289289289289289,0.92992992992993,0.9309309309309309,0.9319319319319319,0.9329329329329329,0.933933933933934,0.934934934934935,0.9359359359359359,0.9369369369369369,0.9379379379379379,0.938938938938939,0.93993993993994,0.9409409409409409,0.9419419419419419,0.9429429429429429,0.943943943943944,0.944944944944945,0.9459459459459459,0.9469469469469469,0.9479479479479479,0.948948948948949,0.94994994994995,0.950950950950951,0.9519519519519519,0.9529529529529529,0.953953953953954,0.954954954954955,0.955955955955956,0.9569569569569569,0.9579579579579579,0.958958958958959,0.95995995995996,0.960960960960961,0.9619619619619619,0.9629629629629629,0.963963963963964,0.964964964964965,0.965965965965966,0.9669669669669669,0.9679679679679679,0.968968968968969,0.96996996996997,0.970970970970971,0.9719719719719719,0.9729729729729729,0.973973973973974,0.974974974974975,0.975975975975976,0.9769769769769769,0.9779779779779779,0.978978978978979,0.97997997997998,0.980980980980981,0.9819819819819819,0.9829829829829829,0.983983983983984,0.984984984984985,0.985985985985986,0.986986986986987,0.9879879879879879,0.988988988988989,0.98998998998999,0.990990990990991,0.991991991991992,0.992992992992993,0.993993993993994,0.994994994994995,0.995995995995996,0.996996996996997,0.997997997997998,0.998998998998999,1.0],\"y\":[3.718281828459045e-06,3.711704970787224e-06,3.7051440257615388e-06,3.6985989548814905e-06,3.692069719739731e-06,3.6855562820218377e-06,3.6790586035060907e-06,3.6725766460632467e-06,3.666110371656315e-06,3.6596597423403363e-06,3.6532247202621575e-06,3.6468052676602123e-06,3.640401346864297e-06,3.6340129202953504e-06,3.6276399504652346e-06,3.6212823999765135e-06,3.614940231522233e-06,3.6086134078857043e-06,3.6023018919402824e-06,3.5960056466491516e-06,3.5897246350651045e-06,3.5834588203303282e-06,3.5772081656761874e-06,3.5709726344230072e-06,3.564752189979859e-06,3.558546795844347e-06,3.5523564156023904e-06,3.5461810129280124e-06,3.540020551583129e-06,3.5338749954173312e-06,3.5277443083676757e-06,3.5216284544584748e-06,3.5155273978010825e-06,3.509441102593686e-06,3.5033695331210924e-06,3.497312653754524e-06,3.491270428951405e-06,3.4852428232551557e-06,3.4792298012949823e-06,3.4732313277856708e-06,3.4672473675273784e-06,3.4612778854054297e-06,3.4553228463901085e-06,3.4493822155364513e-06,3.4434559579840456e-06,3.437544038956821e-06,3.4316464237628496e-06,3.42576307779414e-06,3.4198939665264335e-06,3.4140390555190022e-06,3.4081983104144497e-06,3.4023716969385045e-06,3.3965591808998225e-06,3.3907607281897846e-06,3.384976304782298e-06,3.379205876733595e-06,3.3734494101820346e-06,3.367706871347905e-06,3.361978226533222e-06,3.3562634421215345e-06,3.350562484577727e-06,3.3448753204478197e-06,3.3392019163587764e-06,3.3335422390183056e-06,3.327896255214666e-06,3.3222639318164733e-06,3.316645235772502e-06,3.3110401341114956e-06,3.3054485939419707e-06,3.2998705824520244e-06,3.2943060669091418e-06,3.2887550146600037e-06,3.2832173931302966e-06,3.2776931698245193e-06,3.272182312325793e-06,3.266684788295671e-06,3.2612005654739506e-06,3.2557296116784806e-06,3.250271894804976e-06,3.2448273828268264e-06,3.2393960437949095e-06,3.2339778458374046e-06,3.2285727571596044e-06,3.223180746043728e-06,3.2178017808487347e-06,3.2124358300101408e-06,3.207082862039831e-06,3.2017428455258775e-06,3.19641574913235e-06,3.191101541599138e-06,3.1858001917417633e-06,3.180511668451198e-06,3.1752359406936836e-06,3.1699729775105456e-06,3.164722748018015e-06,3.1594852214070456e-06,3.1542603669431335e-06,3.149048153966136e-06,3.1438485518900926e-06,3.138661530203046e-06,3.133487058466862e-06,3.12832510631705e-06,3.1231756434625866e-06,3.118038639685739e-06,3.1129140648418826e-06,3.1078018888593316e-06,3.102702081739154e-06,3.0976146135550033e-06,3.092539454452937e-06,3.087476574651247e-06,3.082425944440278e-06,3.0773875341822606e-06,3.07236131431113e-06,3.06734725533236e-06,3.0623453278227833e-06,3.0573555024304226e-06,3.0523777498743187e-06,3.0474120409443552e-06,3.0424583465010907e-06,3.037516637475586e-06,3.032586884869234e-06,3.02766905975359e-06,3.0227631332701994e-06,3.0178690766304335e-06,3.0129868611153145e-06,3.0081164580753523e-06,3.003257838930372e-06,2.9984109751693486e-06,2.9935758383502403e-06,2.9887524000998205e-06,2.9839406321135095e-06,2.979140506155212e-06,2.97435199405715e-06,2.9695750677196953e-06,2.964809699111208e-06,2.9600558602678697e-06,2.955313523293521e-06,2.9505826603594964e-06,2.9458632437044623e-06,2.9411552456342516e-06,2.9364586385217057e-06,2.931773394806507e-06,2.927099486995021e-06,2.922436887660136e-06,2.9177855694410944e-06,2.913145505043343e-06,2.9085166672383654e-06,2.9038990288635244e-06,2.8992925628219026e-06,2.894697242082143e-06,2.890113039678292e-06,2.8855399287096384e-06,2.8809778823405577e-06,2.876426873800354e-06,2.8718868763831022e-06,2.867357863447493e-06,2.862839808416675e-06,2.8583326847780995e-06,2.8538364660833633e-06,2.8493511259480563e-06,2.844876638051605e-06,2.840412976137118e-06,2.8359601140112333e-06,2.8315180255439616e-06,2.8270866846685356e-06,2.8226660653812564e-06,2.8182561417413425e-06,2.8138568878707726e-06,2.8094682779541394e-06,2.805090286238495e-06,2.800722887033201e-06,2.796366054709776e-06,2.7920197637017477e-06,2.787683988504502e-06,2.783358703675131e-06,2.779043883832288e-06,2.7747395036560343e-06,2.7704455378876944e-06,2.7661619613297036e-06,2.761888748845465e-06,2.7576258753591975e-06,2.7533733158557917e-06,2.749131045380663e-06,2.7448990390396002e-06,2.7406772719986287e-06,2.736465719483855e-06,2.732264356781329e-06,2.728073159236894e-06,2.7238921022560443e-06,2.71972116130378e-06,2.7155603119044648e-06,2.7114095296416784e-06,2.7072687901580783e-06,2.703138069155254e-06,2.699017342393583e-06,2.6949065856920927e-06,2.6908057749283135e-06,2.686714886038142e-06,2.682633895015698e-06,2.6785627779131803e-06,2.6745015108407333e-06,2.6704500699663e-06,2.6664084315154845e-06,2.6623765717714144e-06,2.6583544670746002e-06,2.6543420938227945e-06,2.650339428470857e-06,2.6463464475306128e-06,2.6423631275707186e-06,2.638389445216522e-06,2.6344253771499263e-06,2.63047090010925e-06,2.626525990889096e-06,2.6225906263402114e-06,2.618664783369352e-06,2.6147484389391477e-06,2.6108415700679683e-06,2.6069441538297873e-06,2.6030561673540454e-06,2.5991775878255197e-06,2.59530839248419e-06,2.591448558625102e-06,2.587598063598236e-06,2.583756884808373e-06,2.579924999714966e-06,2.5761023858320014e-06,2.5722890207278723e-06,2.568484882025243e-06,2.5646899474009213e-06,2.560904194585725e-06,2.557127601364352e-06,2.55336014557525e-06,2.5496018051104876e-06,2.54585255791562e-06,2.542112381989566e-06,2.538381255384475e-06,2.534659156205599e-06,2.5309460626111633e-06,2.5272419528122405e-06,2.5235468050726207e-06,2.5198605977086836e-06,2.5161833090892744e-06,2.512514917635573e-06,2.508855401820969e-06,2.5052047401709368e-06,2.5015629112629065e-06,2.4979298937261416e-06,2.49430566624161e-06,2.4906902075418625e-06,2.4870834964109064e-06,2.483485511684078e-06,2.4798962322479258e-06,2.476315637040078e-06,2.472743705049126e-06,2.4691804153144964e-06,2.4656257469263294e-06,2.4620796790253587e-06,2.458542190802784e-06,2.4550132615001534e-06,2.4514928704092405e-06,2.4479809968719194e-06,2.4444776202800496e-06,2.44098272007535e-06,2.43749627574928e-06,2.43401826684292e-06,2.430548672946851e-06,2.427087473701032e-06,2.4236346487946866e-06,2.4201901779661766e-06,2.4167540410028887e-06,2.4133262177411127e-06,2.4099066880659264e-06,2.406495431911072e-06,2.403092429258845e-06,2.3996976601399727e-06,2.3963111046334962e-06,2.392932742866658e-06,2.3895625550147796e-06,2.38620052130115e-06,2.382846621996909e-06,2.3795008374209256e-06,2.3761631479396925e-06,2.372833533967201e-06,2.3695119759648348e-06,2.3661984544412474e-06,2.362892949952253e-06,2.3595954431007117e-06,2.3563059145364127e-06,2.353024344955965e-06,2.3497507151026803e-06,2.3464850057664628e-06,2.3432271977836945e-06,2.3399772720371244e-06,2.3367352094557547e-06,2.3335009910147304e-06,2.330274597735227e-06,2.3270560106843383e-06,2.323845210974967e-06,2.3206421797657124e-06,2.31744689826076e-06,2.3142593477097726e-06,2.311079509407779e-06,2.3079073646950634e-06,2.304742894957059e-06,2.301586081624235e-06,2.2984369061719898e-06,2.2952953501205435e-06,2.292161395034825e-06,2.289035022524369e-06,2.2859162142432045e-06,2.28280495188975e-06,2.2797012172067023e-06,2.276604991980933e-06,2.27351625804338e-06,2.270434997268941e-06,2.2673611915763666e-06,2.264294822928156e-06,2.2612358733304488e-06,2.2581843248329215e-06,2.2551401595286806e-06,2.252103359554159e-06,2.2490739070890093e-06,2.246051784356001e-06,2.2430369736209147e-06,2.2400294571924393e-06,2.2370292174220676e-06,2.234036236703994e-06,2.2310504974750068e-06,2.2280719822143914e-06,2.2251006734438236e-06,2.2221365537272674e-06,2.219179605670873e-06,2.216229811922875e-06,2.213287155173491e-06,2.210351618154819e-06,2.207423183640736e-06,2.204501834446799e-06,2.201587553430141e-06,2.1986803234893734e-06,2.1957801275644816e-06,2.1928869486367315e-06,2.190000769728563e-06,2.1871215739034928e-06,2.184249344266017e-06,2.1813840639615093e-06,2.1785257161761224e-06,2.1756742841366913e-06,2.1728297511106325e-06,2.1699921004058466e-06,2.1671613153706224e-06,2.164337379393535e-06,2.161520275903352e-06,2.158709988368935e-06,2.155906500299142e-06,2.153109795242731e-06,2.150319856788265e-06,2.1475366685640128e-06,2.1447602142378546e-06,2.1419904775171874e-06,2.139227442148826e-06,2.1364710919189114e-06,2.1337214106528125e-06,2.130978382215034e-06,2.128241990509119e-06,2.125512219477556e-06,2.1227890531016857e-06,2.1200724754016038e-06,2.1173624704360715e-06,2.114659022302417e-06,2.1119621151364483e-06,2.1092717331123535e-06,2.1065878604426127e-06,2.103910481377903e-06,2.1012395802070084e-06,2.098575141256723e-06,2.095917148891766e-06,2.0932655875146828e-06,2.0906204415657577e-06,2.087981695522923e-06,2.0853493339016635e-06,2.082723341254932e-06,2.0801037021730534e-06,2.0774904012836356e-06,2.0748834232514815e-06,2.0722827527784967e-06,2.0696883746035997e-06,2.0671002735026337e-06,2.064518434288277e-06,2.0619428418099532e-06,2.0593734809537414e-06,2.0568103366422913e-06,2.0542533938347283e-06,2.051702637526573e-06,2.0491580527496475e-06,2.046619624571988e-06,2.0440873380977604e-06,2.0415611784671705e-06,2.0390411308563764e-06,2.0365271804774033e-06,2.0340193125780548e-06,2.0315175124418284e-06,2.0290217653878276e-06,2.0265320567706757e-06,2.0240483719804303e-06,2.0215706964424996e-06,2.0190990156175516e-06,2.016633315001435e-06,2.01417358012509e-06,2.0117197965544635e-06,2.009271949890428e-06,2.0068300257686917e-06,2.00439400985972e-06,2.0019638878686446e-06,1.999539645535188e-06,1.9971212686335717e-06,1.9947087429724386e-06,1.9923020543947665e-06,1.989901188777786e-06,1.9875061320328977e-06,1.9851168701055893e-06,1.982733388975354e-06,1.9803556746556057e-06,1.9779837131936013e-06,1.9756174906703536e-06,1.973256993200555e-06,1.97090220693249e-06,1.9685531180479603e-06,1.966209712762199e-06,1.9638719773237913e-06,1.9615398980145942e-06,1.9592134611496557e-06,1.956892653077134e-06,1.954577460178218e-06,1.952267868867048e-06,1.949963865590634e-06,1.947665436828777e-06,1.945372569093992e-06,1.943085248931424e-06,1.940803462918775e-06,1.93852719766622e-06,1.9362564398163306e-06,1.933991176043998e-06,1.931731393056352e-06,1.9294770775926856e-06,1.9272282164243743e-06,1.9249847963548015e-06,1.9227468042192792e-06,1.9205142268849714e-06,1.918287051250817e-06,1.916065264247452e-06,1.913848852837135e-06,1.9116378040136673e-06,1.909432104802321e-06,1.9072317422597584e-06,1.905036703473959e-06,1.902846975564143e-06,1.9006625456806948e-06,1.8984834010050891e-06,1.8963095287498145e-06,1.8941409161582986e-06,1.891977550504834e-06,1.8898194190945028e-06,1.887666509263102e-06,1.8855188083770703e-06,1.8833763038334122e-06,1.8812389830596256e-06,1.8791068335136275e-06,1.87697984268368e-06,1.8748579980883182e-06,1.8727412872762742e-06,1.8706296978264075e-06,1.86852321734763e-06,1.866421833478833e-06,1.864325533888816e-06,1.8622343062762141e-06,1.8601481383694246e-06,1.8580670179265362e-06,1.8559909327352572e-06,1.8539198706128428e-06,1.851853819406024e-06,1.8497927669909376e-06,1.847736701273053e-06,1.8456856101871033e-06,1.8436394816970117e-06,1.8415983037958243e-06,1.8395620645056367e-06,1.8375307518775251e-06,1.8355043539914771e-06,1.8334828589563199e-06,1.8314662549096502e-06,1.8294545300177678e-06,1.8274476724756024e-06,1.8254456705066464e-06,1.8234485123628858e-06,1.8214561863247301e-06,1.8194686807009454e-06,1.8174859838285827e-06,1.8155080840729136e-06,1.813534969827358e-06,1.8115666295134192e-06,1.8096030515806129e-06,1.807644224506403e-06,1.8056901367961315e-06,1.8037407769829503e-06,1.801796133627757e-06,1.7998561953191245e-06,1.7979209506732372e-06,1.7959903883338207e-06,1.794064496972079e-06,1.7921432652866244e-06,1.7902266820034125e-06,1.7883147358756786e-06,1.7864074156838674e-06,1.7845047102355696e-06,1.7826066083654565e-06,1.780713098935213e-06,1.7788241708334737e-06,1.7769398129757568e-06,1.7750600143043992e-06,1.7731847637884917e-06,1.7713140504238142e-06,1.7694478632327719e-06,1.7675861912643294e-06,1.7657290235939476e-06,1.7638763493235186e-06,1.7620281575813035e-06,1.7601844375218666e-06,1.7583451783260128e-06,1.7565103692007246e-06,1.754679999379097e-06,1.752854058120276e-06,1.7510325347093953e-06,1.7492154184575125e-06,1.7474026987015468e-06,1.7455943648042183e-06,1.7437904061539816e-06,1.7419908121649676e-06,1.740195572276919e-06,1.7384046759551284e-06,1.7366181126903775e-06,1.7348358719988753e-06,1.733057943422196e-06,1.7312843165272178e-06,1.7295149809060614e-06,1.7277499261760298e-06,1.7259891419795466e-06,1.7242326179840952e-06,1.7224803438821592e-06,1.7207323093911605e-06,1.7189885042533994e-06,1.7172489182359957e-06,1.7155135411308264e-06,1.7137823627544675e-06,1.7120553729481329e-06,1.710332561577617e-06,1.7086139185332332e-06,1.7068994337297547e-06,1.7051890971063566e-06,1.703482898626555e-06,1.7017808282781502e-06,1.7000828760731669e-06,1.6983890320477946e-06,1.696699286262332e-06,1.6950136288011244e-06,1.6933320497725094e-06,1.691654539308758e-06,1.6899810875660145e-06,1.6883116847242412e-06,1.68664632098716e-06,1.6849849865821936e-06,1.683327671760412e-06,1.6816743667964699e-06,1.6800250619885535e-06,1.6783797476583223e-06,1.676738414150853e-06,1.6751010518345815e-06,1.6734676511012478e-06,1.6718382023658383e-06,1.6702126960665313e-06,1.6685911226646386e-06,1.6669734726445516e-06,1.6653597365136846e-06,1.663749904802419e-06,1.6621439680640473e-06,1.6605419168747189e-06,1.658943741833384e-06,1.6573494335617388e-06,1.6557589827041692e-06,1.6541723799276985e-06,1.6525896159219293e-06,1.651010681398992e-06,1.649435567093488e-06,1.6478642637624374e-06,1.6462967621852223e-06,1.6447330531635344e-06,1.6431731275213213e-06,1.6416169761047312e-06,1.6400645897820602e-06,1.6385159594436981e-06,1.6369710760020764e-06,1.6354299303916128e-06,1.6338925135686594e-06,1.6323588165114499e-06,1.6308288302200453e-06,1.6293025457162814e-06,1.6277799540437188e-06,1.6262610462675857e-06,1.6247458134747287e-06,1.6232342467735602e-06,1.6217263372940056e-06,1.620222076187451e-06,1.6187214546266915e-06,1.61722446380588e-06,1.6157310949404746e-06,1.6142413392671884e-06,1.612755188043936e-06,1.6112726325497839e-06,1.6097936640848995e-06,1.6083182739704982e-06,1.6068464535487944e-06,1.60537819418295e-06,1.603913487257023e-06,1.6024523241759181e-06,1.6009946963653353e-06,1.5995405952717208e-06,1.598090012362216e-06,1.596642939124606e-06,1.595199367067273e-06,1.5937592877191436e-06,1.59232269262964e-06,1.590889573368631e-06,1.589459921526382e-06,1.5880337287135052e-06,1.586610986560911e-06,1.5851916867197593e-06,1.583775820861409e-06,1.5823633806773708e-06,1.5809543578792576e-06,1.5795487441987356e-06,1.5781465313874766e-06,1.5767477112171088e-06,1.5753522754791693e-06,1.573960215985055e-06,1.572571524565975e-06,1.5711861930729036e-06,1.5698042133765306e-06,1.568425577367215e-06,1.5670502769549372e-06,1.565678304069251e-06,1.5643096506592363e-06,1.5629443086934533e-06,1.5615822701598928e-06,1.5602235270659312e-06,1.5588680714382831e-06,1.557515895322954e-06,1.5561669907851948e-06,1.5548213499094533e-06,1.5534789647993303e-06,1.55213982757753e-06,1.5508039303858175e-06,1.54947126538497e-06,1.5481418247547313e-06,1.5468156006937672e-06,1.5454925854196175e-06,1.544172771168653e-06,1.5428561501960272e-06,1.5415427147756329e-06,1.540232457200056e-06,1.538925369780531e-06,1.5376214448468936e-06,1.5363206747475397e-06,1.5350230518493765e-06,1.5337285685377794e-06,1.532437217216549e-06,1.5311489903078627e-06,1.5298638802522335e-06,1.5285818795084646e-06,1.5273029805536046e-06,1.5260271758829042e-06,1.5247544580097715e-06,1.523484819465728e-06,1.5222182528003662e-06,1.5209547505813038e-06,1.5196943053941412e-06,1.5184369098424184e-06,1.5171825565475707e-06,1.5159312381488855e-06,1.51468294730346e-06,1.5134376766861571e-06,1.512195418989563e-06,1.5109561669239436e-06,1.5097199132172032e-06,1.5084866506148395e-06,1.5072563718799042e-06,1.5060290697929566e-06,1.5048047371520256e-06,1.5035833667725634e-06,1.502364951487406e-06,1.5011494841467305e-06,1.4999369576180121e-06,1.4987273647859838e-06,1.4975206985525935e-06,1.4963169518369627e-06,1.4951161175753459e-06,1.4939181887210875e-06,1.4927231582445812e-06,1.4915310191332283e-06,1.4903417643913987e-06,1.4891553870403867e-06,1.4879718801183712e-06,1.4867912366803768e-06,1.4856134497982303e-06,1.4844385125605207e-06,1.4832664180725604e-06,1.4820971594563427e-06,1.4809307298505018e-06,1.4797671224102737e-06,1.4786063303074545e-06,1.477448346730362e-06,1.476293164883794e-06,1.475140777988989e-06,1.473991179283588e-06,1.472844362021592e-06,1.4717003194733244e-06,1.4705590449253918e-06,1.4694205316806423e-06,1.4682847730581286e-06,1.467151762393068e-06,1.466021493036803e-06,1.4648939583567619e-06,1.4637691517364215e-06,1.462647066575266e-06,1.4615276962887508e-06,1.4604110343082618e-06,1.4592970740810773e-06,1.4581858090703306e-06,1.4570772327549702e-06,1.455971338629723e-06,1.4548681202050546e-06,1.4537675710071322e-06,1.4526696845777866e-06,1.4515744544744736e-06,1.4504818742702376e-06,1.4493919375536721e-06,1.4483046379288828e-06,1.4472199690154514e-06,1.4461379244483953e-06,1.4450584978781333e-06,1.4439816829704464e-06,1.4429074734064412e-06,1.4418358628825126e-06,1.4407668451103076e-06,1.4397004138166872e-06,1.4386365627436908e-06,1.437575285648498e-06,1.4365165763033938e-06,1.4354604284957304e-06,1.4344068360278917e-06,1.4333557927172572e-06,1.432307292396164e-06,1.4312613289118732e-06,1.430217896126531e-06,1.429176987917135e-06,1.4281385981754974e-06,1.4271027208082085e-06,1.4260693497366022e-06,1.4250384788967186e-06,1.4240101022392712e-06,1.422984213729608e-06,1.4219608073476788e-06,1.4209398770879988e-06,1.4199214169596124e-06,1.4189054209860612e-06,1.4178918832053442e-06,1.4168807976698869e-06,1.415872158446505e-06,1.4148659596163688e-06,1.4138621952749697e-06,1.4128608595320846e-06,1.4118619465117422e-06,1.4108654503521873e-06,1.4098713652058479e-06,1.4088796852392998e-06,1.4078904046332334e-06,1.4069035175824175e-06,1.4059190182956678e-06,1.4049369009958108e-06,1.4039571599196518e-06,1.4029797893179393e-06,1.4020047834553327e-06,1.4010321366103676e-06,1.4000618430754223e-06,1.3990938971566855e-06,1.3981282931741212e-06,1.3971650254614367e-06,1.3962040883660488e-06,1.3952454762490503e-06,1.394289183485178e-06,1.3933352044627782e-06,1.392383533583775e-06,1.3914341652636366e-06,1.3904870939313434e-06,1.3895423140293543e-06,1.3885998200135755e-06,1.3876596063533263e-06,1.3867216675313073e-06,1.3857859980435688e-06,1.3848525923994777e-06,1.3839214451216851e-06,1.3829925507460946e-06,1.3820659038218305e-06,1.3811414989112048e-06,1.3802193305896865e-06,1.3792993934458691e-06,1.3783816820814387e-06,1.3774661911111424e-06,1.3765529151627579e-06,1.37564184887706e-06,1.37473298690779e-06,1.3738263239216247e-06,1.3729218545981453e-06,1.3720195736298053e-06,1.3711194757218992e-06,1.3702215555925328e-06,1.3693258079725913e-06,1.3684322276057082e-06,1.3675408092482346e-06,1.3666515476692093e-06,1.3657644376503262e-06,1.3648794739859061e-06,1.3639966514828638e-06,1.3631159649606798e-06,1.3622374092513673e-06,1.3613609791994451e-06,1.3604866696619048e-06,1.3596144755081808e-06,1.3587443916201228e-06,1.3578764128919616e-06,1.3570105342302824e-06,1.3561467505539943e-06,1.3552850567942992e-06,1.354425447894664e-06,1.3535679188107881e-06,1.3527124645105772e-06,1.351859079974111e-06,1.351007760193616e-06,1.3501585001734336e-06,1.349311294929993e-06,1.3484661394917816e-06,1.3476230288993139e-06,1.3467819582051045e-06,1.3459429224736392e-06,1.3451059167813438e-06,1.3442709362165578e-06,1.3434379758795039e-06,1.3426070308822595e-06,1.3417780963487291e-06,1.340951167414614e-06,1.3401262392273855e-06,1.3393033069462548e-06,1.3384823657421453e-06,1.337663410797665e-06,1.3368464373070772e-06,1.3360314404762721e-06,1.3352184155227402e-06,1.3344073576755426e-06,1.3335982621752834e-06,1.332791124274083e-06,1.3319859392355483e-06,1.3311827023347461e-06,1.3303814088581756e-06,1.3295820541037394e-06,1.3287846333807175e-06,1.327989142009739e-06,1.3271955753227544e-06,1.3264039286630084e-06,1.3256141973850135e-06,1.3248263768545207e-06,1.3240404624484942e-06,1.3232564495550838e-06,1.3224743335735974e-06,1.321694109914474e-06,1.3209157739992571e-06,1.3201393212605682e-06,1.3193647471420787e-06,1.318592047098485e-06,1.3178212165954798e-06,1.3170522511097272e-06,1.3162851461288353e-06,1.3155198971513292e-06,1.314756499686627e-06,1.31399494925501e-06,1.313235241387599e-06,1.312477371626327e-06,1.3117213355239126e-06,1.310967128643836e-06,1.3102147465603107e-06,1.3094641848582578e-06,1.308715439133282e-06,1.3079685049916428e-06,1.3072233780502312e-06,1.3064800539365436e-06,1.305738528288655e-06,1.3049987967551933e-06,1.3042608549953158e-06,1.303524698678682e-06,1.3027903234854284e-06,1.3020577251061437e-06,1.3013268992418427e-06,1.300597841603942e-06,1.2998705479142342e-06,1.299145013904863e-06,1.298421235318298e-06,1.2976992079073102e-06,1.2969789274349463e-06,1.2962603896745048e-06,1.2955435904095102e-06,1.2948285254336888e-06,1.2941151905509444e-06,1.2934035815753325e-06,1.292693694331037e-06,1.2919855246523446e-06,1.2912790683836218e-06,1.2905743213792885e-06,1.2898712795037957e-06,1.2891699386316002e-06,1.2884702946471398e-06,1.2877723434448104e-06,1.2870760809289419e-06,1.2863815030137723e-06,1.2856886056234267e-06,1.28499738469189e-06,1.284307836162986e-06,1.2836199559903523e-06,1.2829337401374163e-06,1.2822491845773718e-06,1.2815662852931553e-06,1.2808850382774232e-06,1.280205439532527e-06,1.279527485070491e-06,1.2788511709129876e-06,1.2781764930913155e-06,1.2775034476463755e-06,1.2768320306286466e-06,1.2761622380981652e-06,1.2754940661244986e-06,1.274827510786725e-06,1.274162568173409e-06,1.2734992343825782e-06,1.2728375055217023e-06,1.2721773777076677e-06,1.2715188470667562e-06,1.2708619097346228e-06,1.270206561856271e-06,1.2695527995860327e-06,1.2689006190875435e-06,1.2682500165337215e-06,1.2676009881067443e-06,1.266953529998026e-06,1.2663076384081968e-06,1.2656633095470785e-06,1.2650205396336637e-06,1.2643793248960923e-06,1.2637396615716315e-06,1.2631015459066512e-06,1.2624649741566039e-06,1.2618299425860012e-06,1.2611964474683942e-06,1.260564485086348e-06,1.2599340517314243e-06,1.2593051437041553e-06,1.258677757314025e-06,1.2580518888794466e-06,1.257427534727741e-06,1.2568046911951142e-06,1.256183354626638e-06,1.2555635213762262e-06,1.2549451878066148e-06,1.2543283502893398e-06,1.253713005204717e-06,1.2530991489418191e-06,1.2524867778984555e-06,1.2518758884811518e-06,1.251266477105127e-06,1.250658540194274e-06,1.2500520741811387e-06,1.2494470755068972e-06,1.2488435406213366e-06,1.2482414659828332e-06,1.247640848058334e-06,1.2470416833233322e-06,1.2464439682618495e-06,1.2458476993664143e-06,1.2452528731380412e-06,1.2446594860862103e-06,1.2440675347288478e-06,1.2434770155923043e-06,1.2428879252113342e-06,1.2423002601290775e-06,1.2417140168970364e-06],\"type\":\"scatter\",\"uid\":\"a36863fc-c565-4d32-a95e-0199b1e23698\"}],                        {\"template\":{\"data\":{\"barpolar\":[{\"marker\":{\"line\":{\"color\":\"white\",\"width\":0.5},\"pattern\":{\"fillmode\":\"overlay\",\"size\":10,\"solidity\":0.2}},\"type\":\"barpolar\"}],\"bar\":[{\"error_x\":{\"color\":\"#2a3f5f\"},\"error_y\":{\"color\":\"#2a3f5f\"},\"marker\":{\"line\":{\"color\":\"white\",\"width\":0.5},\"pattern\":{\"fillmode\":\"overlay\",\"size\":10,\"solidity\":0.2}},\"type\":\"bar\"}],\"carpet\":[{\"aaxis\":{\"endlinecolor\":\"#2a3f5f\",\"gridcolor\":\"#C8D4E3\",\"linecolor\":\"#C8D4E3\",\"minorgridcolor\":\"#C8D4E3\",\"startlinecolor\":\"#2a3f5f\"},\"baxis\":{\"endlinecolor\":\"#2a3f5f\",\"gridcolor\":\"#C8D4E3\",\"linecolor\":\"#C8D4E3\",\"minorgridcolor\":\"#C8D4E3\",\"startlinecolor\":\"#2a3f5f\"},\"type\":\"carpet\"}],\"choropleth\":[{\"colorbar\":{\"outlinewidth\":0,\"ticks\":\"\"},\"type\":\"choropleth\"}],\"contourcarpet\":[{\"colorbar\":{\"outlinewidth\":0,\"ticks\":\"\"},\"type\":\"contourcarpet\"}],\"contour\":[{\"colorbar\":{\"outlinewidth\":0,\"ticks\":\"\"},\"colorscale\":[[0.0,\"#0d0887\"],[0.1111111111111111,\"#46039f\"],[0.2222222222222222,\"#7201a8\"],[0.3333333333333333,\"#9c179e\"],[0.4444444444444444,\"#bd3786\"],[0.5555555555555556,\"#d8576b\"],[0.6666666666666666,\"#ed7953\"],[0.7777777777777778,\"#fb9f3a\"],[0.8888888888888888,\"#fdca26\"],[1.0,\"#f0f921\"]],\"type\":\"contour\"}],\"heatmapgl\":[{\"colorbar\":{\"outlinewidth\":0,\"ticks\":\"\"},\"colorscale\":[[0.0,\"#0d0887\"],[0.1111111111111111,\"#46039f\"],[0.2222222222222222,\"#7201a8\"],[0.3333333333333333,\"#9c179e\"],[0.4444444444444444,\"#bd3786\"],[0.5555555555555556,\"#d8576b\"],[0.6666666666666666,\"#ed7953\"],[0.7777777777777778,\"#fb9f3a\"],[0.8888888888888888,\"#fdca26\"],[1.0,\"#f0f921\"]],\"type\":\"heatmapgl\"}],\"heatmap\":[{\"colorbar\":{\"outlinewidth\":0,\"ticks\":\"\"},\"colorscale\":[[0.0,\"#0d0887\"],[0.1111111111111111,\"#46039f\"],[0.2222222222222222,\"#7201a8\"],[0.3333333333333333,\"#9c179e\"],[0.4444444444444444,\"#bd3786\"],[0.5555555555555556,\"#d8576b\"],[0.6666666666666666,\"#ed7953\"],[0.7777777777777778,\"#fb9f3a\"],[0.8888888888888888,\"#fdca26\"],[1.0,\"#f0f921\"]],\"type\":\"heatmap\"}],\"histogram2dcontour\":[{\"colorbar\":{\"outlinewidth\":0,\"ticks\":\"\"},\"colorscale\":[[0.0,\"#0d0887\"],[0.1111111111111111,\"#46039f\"],[0.2222222222222222,\"#7201a8\"],[0.3333333333333333,\"#9c179e\"],[0.4444444444444444,\"#bd3786\"],[0.5555555555555556,\"#d8576b\"],[0.6666666666666666,\"#ed7953\"],[0.7777777777777778,\"#fb9f3a\"],[0.8888888888888888,\"#fdca26\"],[1.0,\"#f0f921\"]],\"type\":\"histogram2dcontour\"}],\"histogram2d\":[{\"colorbar\":{\"outlinewidth\":0,\"ticks\":\"\"},\"colorscale\":[[0.0,\"#0d0887\"],[0.1111111111111111,\"#46039f\"],[0.2222222222222222,\"#7201a8\"],[0.3333333333333333,\"#9c179e\"],[0.4444444444444444,\"#bd3786\"],[0.5555555555555556,\"#d8576b\"],[0.6666666666666666,\"#ed7953\"],[0.7777777777777778,\"#fb9f3a\"],[0.8888888888888888,\"#fdca26\"],[1.0,\"#f0f921\"]],\"type\":\"histogram2d\"}],\"histogram\":[{\"marker\":{\"pattern\":{\"fillmode\":\"overlay\",\"size\":10,\"solidity\":0.2}},\"type\":\"histogram\"}],\"mesh3d\":[{\"colorbar\":{\"outlinewidth\":0,\"ticks\":\"\"},\"type\":\"mesh3d\"}],\"parcoords\":[{\"line\":{\"colorbar\":{\"outlinewidth\":0,\"ticks\":\"\"}},\"type\":\"parcoords\"}],\"pie\":[{\"automargin\":true,\"type\":\"pie\"}],\"scatter3d\":[{\"line\":{\"colorbar\":{\"outlinewidth\":0,\"ticks\":\"\"}},\"marker\":{\"colorbar\":{\"outlinewidth\":0,\"ticks\":\"\"}},\"type\":\"scatter3d\"}],\"scattercarpet\":[{\"marker\":{\"colorbar\":{\"outlinewidth\":0,\"ticks\":\"\"}},\"type\":\"scattercarpet\"}],\"scattergeo\":[{\"marker\":{\"colorbar\":{\"outlinewidth\":0,\"ticks\":\"\"}},\"type\":\"scattergeo\"}],\"scattergl\":[{\"marker\":{\"colorbar\":{\"outlinewidth\":0,\"ticks\":\"\"}},\"type\":\"scattergl\"}],\"scattermapbox\":[{\"marker\":{\"colorbar\":{\"outlinewidth\":0,\"ticks\":\"\"}},\"type\":\"scattermapbox\"}],\"scatterpolargl\":[{\"marker\":{\"colorbar\":{\"outlinewidth\":0,\"ticks\":\"\"}},\"type\":\"scatterpolargl\"}],\"scatterpolar\":[{\"marker\":{\"colorbar\":{\"outlinewidth\":0,\"ticks\":\"\"}},\"type\":\"scatterpolar\"}],\"scatter\":[{\"fillpattern\":{\"fillmode\":\"overlay\",\"size\":10,\"solidity\":0.2},\"type\":\"scatter\"}],\"scatterternary\":[{\"marker\":{\"colorbar\":{\"outlinewidth\":0,\"ticks\":\"\"}},\"type\":\"scatterternary\"}],\"surface\":[{\"colorbar\":{\"outlinewidth\":0,\"ticks\":\"\"},\"colorscale\":[[0.0,\"#0d0887\"],[0.1111111111111111,\"#46039f\"],[0.2222222222222222,\"#7201a8\"],[0.3333333333333333,\"#9c179e\"],[0.4444444444444444,\"#bd3786\"],[0.5555555555555556,\"#d8576b\"],[0.6666666666666666,\"#ed7953\"],[0.7777777777777778,\"#fb9f3a\"],[0.8888888888888888,\"#fdca26\"],[1.0,\"#f0f921\"]],\"type\":\"surface\"}],\"table\":[{\"cells\":{\"fill\":{\"color\":\"#EBF0F8\"},\"line\":{\"color\":\"white\"}},\"header\":{\"fill\":{\"color\":\"#C8D4E3\"},\"line\":{\"color\":\"white\"}},\"type\":\"table\"}]},\"layout\":{\"annotationdefaults\":{\"arrowcolor\":\"#2a3f5f\",\"arrowhead\":0,\"arrowwidth\":1},\"autotypenumbers\":\"strict\",\"coloraxis\":{\"colorbar\":{\"outlinewidth\":0,\"ticks\":\"\"}},\"colorscale\":{\"diverging\":[[0,\"#8e0152\"],[0.1,\"#c51b7d\"],[0.2,\"#de77ae\"],[0.3,\"#f1b6da\"],[0.4,\"#fde0ef\"],[0.5,\"#f7f7f7\"],[0.6,\"#e6f5d0\"],[0.7,\"#b8e186\"],[0.8,\"#7fbc41\"],[0.9,\"#4d9221\"],[1,\"#276419\"]],\"sequential\":[[0.0,\"#0d0887\"],[0.1111111111111111,\"#46039f\"],[0.2222222222222222,\"#7201a8\"],[0.3333333333333333,\"#9c179e\"],[0.4444444444444444,\"#bd3786\"],[0.5555555555555556,\"#d8576b\"],[0.6666666666666666,\"#ed7953\"],[0.7777777777777778,\"#fb9f3a\"],[0.8888888888888888,\"#fdca26\"],[1.0,\"#f0f921\"]],\"sequentialminus\":[[0.0,\"#0d0887\"],[0.1111111111111111,\"#46039f\"],[0.2222222222222222,\"#7201a8\"],[0.3333333333333333,\"#9c179e\"],[0.4444444444444444,\"#bd3786\"],[0.5555555555555556,\"#d8576b\"],[0.6666666666666666,\"#ed7953\"],[0.7777777777777778,\"#fb9f3a\"],[0.8888888888888888,\"#fdca26\"],[1.0,\"#f0f921\"]]},\"colorway\":[\"#636efa\",\"#EF553B\",\"#00cc96\",\"#ab63fa\",\"#FFA15A\",\"#19d3f3\",\"#FF6692\",\"#B6E880\",\"#FF97FF\",\"#FECB52\"],\"font\":{\"color\":\"#2a3f5f\"},\"geo\":{\"bgcolor\":\"white\",\"lakecolor\":\"white\",\"landcolor\":\"white\",\"showlakes\":true,\"showland\":true,\"subunitcolor\":\"#C8D4E3\"},\"hoverlabel\":{\"align\":\"left\"},\"hovermode\":\"closest\",\"mapbox\":{\"style\":\"light\"},\"paper_bgcolor\":\"white\",\"plot_bgcolor\":\"white\",\"polar\":{\"angularaxis\":{\"gridcolor\":\"#EBF0F8\",\"linecolor\":\"#EBF0F8\",\"ticks\":\"\"},\"bgcolor\":\"white\",\"radialaxis\":{\"gridcolor\":\"#EBF0F8\",\"linecolor\":\"#EBF0F8\",\"ticks\":\"\"}},\"scene\":{\"xaxis\":{\"backgroundcolor\":\"white\",\"gridcolor\":\"#DFE8F3\",\"gridwidth\":2,\"linecolor\":\"#EBF0F8\",\"showbackground\":true,\"ticks\":\"\",\"zerolinecolor\":\"#EBF0F8\"},\"yaxis\":{\"backgroundcolor\":\"white\",\"gridcolor\":\"#DFE8F3\",\"gridwidth\":2,\"linecolor\":\"#EBF0F8\",\"showbackground\":true,\"ticks\":\"\",\"zerolinecolor\":\"#EBF0F8\"},\"zaxis\":{\"backgroundcolor\":\"white\",\"gridcolor\":\"#DFE8F3\",\"gridwidth\":2,\"linecolor\":\"#EBF0F8\",\"showbackground\":true,\"ticks\":\"\",\"zerolinecolor\":\"#EBF0F8\"}},\"shapedefaults\":{\"line\":{\"color\":\"#2a3f5f\"}},\"ternary\":{\"aaxis\":{\"gridcolor\":\"#DFE8F3\",\"linecolor\":\"#A2B1C6\",\"ticks\":\"\"},\"baxis\":{\"gridcolor\":\"#DFE8F3\",\"linecolor\":\"#A2B1C6\",\"ticks\":\"\"},\"bgcolor\":\"white\",\"caxis\":{\"gridcolor\":\"#DFE8F3\",\"linecolor\":\"#A2B1C6\",\"ticks\":\"\"}},\"title\":{\"x\":0.05},\"xaxis\":{\"automargin\":true,\"gridcolor\":\"#EBF0F8\",\"linecolor\":\"#EBF0F8\",\"ticks\":\"\",\"title\":{\"standoff\":15},\"zerolinecolor\":\"#EBF0F8\",\"zerolinewidth\":2},\"yaxis\":{\"automargin\":true,\"gridcolor\":\"#EBF0F8\",\"linecolor\":\"#EBF0F8\",\"ticks\":\"\",\"title\":{\"standoff\":15},\"zerolinecolor\":\"#EBF0F8\",\"zerolinewidth\":2}}},\"images\":[{\"layer\":\"below\",\"opacity\":1,\"sizex\":1.25,\"sizey\":2.5e-05,\"sizing\":\"stretch\",\"source\":\"data:image\\u002fpng;base64,iVBORw0KGgoAAAANSUhEUgAAArgAAAHYCAIAAAApvgy\\u002fAABQDElEQVR4nO3df\\u002fAkZ33g96d3kfjlaCWIIPZFthGr3RUQpAucK4VtdTe2dexqJSRUYPtShqtKyvgP7a61KywtUJmelGOMCySDuD+Sq0ulcBIfULYBUUiF6zw9OOfK2eGCOBD6FTDW2QSpZCQZIUViNfnjM\\u002fPZZ59nuqenf3fP+1Uq7fzo6Xnmx3f66c\\u002fzeT5PsFgsDAAAwDp7um4AAADoLzoKAAAgEx0FAACQiY4CAADIREcBAABkoqMAAAAyvajrBsDs2bNnz549P\\u002frRj+ra4ate9SpjzKOPPlrXDm2XXnqpMeZb3\\u002fpWEzsXhw8ffvjhh7Pufeihh5p76trdfvvtn\\u002fzkJ9\\u002f97nefPHmy67Y07tixY\\u002ffcc4\\u002fJ\\u002fow2brDjbrnllrvuuuvgwYOf\\u002f\\u002fzn69rn29\\u002f+9gceeMC+5eDBg8aYz33uc3U9BcZvga7V\\u002fkHUu8PTp0+fPn1ar1544YVNf23yv7E33XRTo89er49+9KPGmHe\\u002f+91dN6QNb3vb2+Qzetvb3rZ2g\\u002f379w\\u002flQ7z55ptbfsZTp07Jm3PgwIEadyvdgrWuu+66iju\\u002f9dZbb7311lraiT5j6GGELr744osvvriuvX3oQx\\u002f60Ic+pFcvuuii17zmNXXtPEfWV\\u002fbOO+9s4dlRhYQNfDmBol45evToHXfc0XIQ6MEHHzTGnDp1ygkA1OJ973uf\\u002fUd03XXXGWM+\\u002f\\u002fnP\\u002f9Zv\\u002fVaV3d5\\u002f\\u002f\\u002f0f\\u002fvCHa2oj+ouOwgg9+uijDY07GGO+9a1vNTrugKHTsIHj2LFjOfdCfOQjH2lit7\\u002f3e79nX\\u002f3c5z6nfYUmng4jQ0ehp44ePXrgwIEDBw4cPXrUuevqq6\\u002f+jd\\u002f4Dbnw2te+9rWvfe3VV19tb\\u002fCqV71K0hSMMadPn75hHXv7I0eOXLZy5MgR+653vOMdeuH973+\\u002fMeZNb3qTpCnYrr322oMHDx48ePDaa6917rruuutuueUWuSDbyC9UdQX3rK\\u002fuyJEjJ06csO+64YYbTp8+LRcuv\\u002fxyvf348ePyqCNHjhw\\u002fflyuyl3vec973vOe9zhPcfvtt\\u002fs3buWWW27JfxWHDx\\u002fWz0iOuMXvVUmSvOtd7\\u002fJvf9e73pUkiV6t+ElJV+Dw4cPO7RJmWNtRkPf\\u002f8ssv109E\\u002feZv\\u002fuY111xjjLnmmmvkL0Kurr3Fpu\\u002fJ4cOHnfdEPlZz7ndD7z169Kic3H\\u002fhC1\\u002fQv74bb7zxgx\\u002f8oL2TD37wgzfeeKNevfbaa2XsQP8W5OqpU6ecW9a67rrr7rrrLrlgv+32w50\\u002fLvnTlgvy1mXtfC1nSML5a7Lvyvotuv766++\\u002f\\u002f365cP311+vt+V\\u002fmt7\\u002f97XLh0Ireoo4dO6bfZ\\u002f+LhA40P7qBDZwP4uabb\\u002fY\\u002fJnvE1Bhz6aWXytHaPmav3eGhQ4fWfu633XabbLD2h1vucn6yb7jhhoWXo7A2PHvy5Em7MfoDd+DAAb1Q\\u002fA3J2Wzjnv1Xd\\u002fjwYXsP9g+c3OgfaGUnx44dWywWV1xxhd+2nAYXyVHwe1fO3vx77SSA\\u002fHtt73znO40x73znO\\u002f0bJ5PJwhomz2pJPslRuOmmm9Y+UN5J3San\\u002fddff73ee9lllxlj7P9nXch\\u002fx5xn1C+G\\u002fQ1Z+9jFYvGBD3zAGPOOd7zDfgrpWdr71C+h8nv59p9GVoP1O+w\\u002f3H5G+eredtttcvuhQ4fW7lmO+v7t73vf+4wxBw8etNuvL0FuzP8tsm\\u002fU\\u002feR\\u002fmeVJtfegPRJ9+GLd3+z+\\u002ffvXvjS0ho5C95y\\u002fJbl6zTXXyFX9W3U2uPTSS\\u002fUW6S68973vXbtDm\\u002f6syFU5r7L\\u002fDqX\\u002f7hxN7b05HQW5V3\\u002f+tN\\u002fgbGAfv3OaZ29wU4bie9ZT26wN9JdIu03+NnpCIx0F\\u002f8Cf3xUo0lGQ\\u002fZ86dUquyk+tvi45svo9gyL3rn2u173udf6zF2nJRtoJ8HsD0nvw75KOrN0zcD4R7SI4G\\u002fifo16Vz12fwu+4yFX7a2\\u002f3BReLhYQo9IhYsKNg\\u002fyHoMf7o0aP2LTlvprzb9i1Os509aB\\u002fXfvd8azsKcsA2Vj6jvqv66S8K\\u002fBZJMMBvc9ZXyH9e52XKh2V\\u002fNPnfZ7SDD6B79l+C\\u002fCk6p0caevW3F+9973uNMb\\u002f0S7+UtcHa51osFsePH\\u002fd76\\u002fl\\u002fqHZHQX659KdQyEmJ\\u002fmL6jZHfDvv3aG0js2Q1zN+z8c5FpGOkXQd\\u002fD9It0AOGvZneaIy54oor9N61MQa1saOw9t2Q91BudA57i8VCDrdyOf9en\\u002fOSJ5OJsWIMa9\\u002fSnE\\u002fKYXcCzLndF2mns83aZ5S+rJ4fS0fBfwknTpzQW+xt5EjjvAPOjf6TShipYkfB7gT4PWZ\\u002fG4fTUXD+juwb5bJ0FLICCSpn1oN9Hi+32J91kd8ip6Ow8cusHQW\\u002fhXLZ7\\u002fjmf5\\u002fRDnIU+kUGR52Q4xe+8AW9q4ogCIwVqzTGfOxjH3NmtGsstwhpkoytKmm83Vo\\u002fJFtEVkTB3iZnz5KO4Lycj33sYyZ3Er\\u002fc9fGPf9y+0YmFXnHFFffee69evffee6WvUI6kuDspbHb8Vp79E5\\u002f4hI6J3HnnnXfffXeRe30y0KCZCp\\u002f5zGeMMa973evsbQ4ePCjD1caYz3\\u002f+86XT6+y5Dw8\\u002f\\u002fLAfUpaxLXv0xxgjU2xk8Hst+Ux\\u002f\\u002f\\u002fd\\u002ff+29MrHCeS6ZKdP0nAv72ygdxHLffCF\\u002fQbIf5ynsEaKsscV8kj3gv8n2Z13it2jjl1k4iQt2V0Y+uHvuuUcjefnfZ7SDjsJgVKxRIydAt912mz3X0Rhz4sSJyy67LFip\\u002fmMqP23VuzV3Zij4cHm77r777uBc5twDhvM7u\\u002fblO72Nd7\\u002f73cYYyV6U\\u002f8st5eS8UXLX3XffLadZn\\u002fjEJ+Ql2Old+ff6Pv3pTxtjvvGNb8jV++67zxijmYxyBHrwwQc\\u002f+tGPBkFg9xi2Ja3SM3W9xSYHqnKHuizyCeq7YX\\u002futoFOvpCOgv2dKfjuOSeI999\\u002ff5WCS1m\\u002fRRu\\u002fzBvdeeed8j255557inyf0Q4qM+6EG2644f7777\\u002f++uudXsKRI0ekt75\\u002f\\u002f37JMf7Yxz7m\\u002f6oOl6S+17vPkydPnjp1SoIKn\\u002fzkJ+WWep\\u002fCIZ+RFKx8+OGH5Td0sQoX59\\u002fre93rXmf3DyTGID7ykY985CMfueWWWx588MEHHnhAegx33XVXiZn90kWTw7aEFtosgPG2t71toF0ByPdZinjq9\\u002fmmm26igEqH6CgMRukD3unTpz\\u002f72c8eOnToT\\u002f7kT5y75G8y56BSxKlTp+wAqZyVVgm61uKyyy6TVyfDDerEiRPOLbb9+\\u002ff7QQX\\u002f\\u002fElGH26\\u002f\\u002fXa5XKWdBw4c8E+25BbnPdQA7OHDhyU2a4dk8++1vf71r7\\u002fvvvuSJJFxB4kx2OzQcRAEpYND+\\u002ffvly7C2nEHszobzhllKPek8nTOceXYsWPDOtIU\\u002f2K0L+u3qMY264cl3+esEl5oB0MP\\u002fSJDgHfccYd9o2Y7l9jh6dOnf\\u002fd3f9cY881vfrPI9k4dhXzSMGmzkqud\\u002f5ZJb8A5WJ44ceLjH\\u002f94zmuUX0BnA7\\u002frIGMN0iWqMu5gVgO0zqitpH3IAVsGhux77YNu\\u002fr1rSc\\u002fgM5\\u002f5zH333WdnJ9xyyy0y3GBvXOVzlJbIW+qPO5hVOsJnP\\u002ftZ+0apB+AkLmz7pM5x5fDhw3YaRy0K\\u002fkGVJu+8M8Avf1xO4kJDSvwWbfwybyTfZ\\u002fuTIkGhF9rPn4TD+SB0PtjNN9988803azGZrO0XubMe5PKhQ4euP5dMP5N7dRaADgcWnPWg9x49evTkyZMnT56UXxBnyqKT6V1w1sP+DHbuev6e5eXs37\\u002f\\u002f+PHji9WUB6fxftK4\\u002fZ7YP1hrp0Js\\u002fAvS3\\u002fQrPDoVQja49tprF4vFqVOn9Agh98ohdv\\u002f+\\u002fTJTQNM55Wr+vVm0fyDlE5wXpS3Ro5Tcq0WlsnabUyMhaxvtEMgXUq\\u002fq9v6sh423SF9B3xPto9itcqbDrJ31oLn9+kI+8IEPLFaTIPx9OtN\\u002f\\u002fO+nf4sta3qk7Fb\\u002fuPRZtI5C1g5FVh0Fx9pPduNvkcx6sJd7yP8yax0F+1mkYyGX9cPS77N8mkx86BYdhe75f6J+ZC9\\u002f+40dBZ\\u002fMvdZjp7JvkT1ottTagkuL1fQntfHHseL0SP2JL7JnPxNKOg26h7Wzy5ynWztnUkYcNq72lHPyZ8+xdO7SH1bhBwn8mYdZ964lsyKNd2DIL7hUoqOgx+ycbfzggX3wK9FRWPue2PeaTR0Fu9CQ3KIlSsXll18ut9j7rL2jsPC+GPZTtNBRWGz6Lbr11lv9253t7S\\u002fzxo7CotT3GU3LS3pCt06ePPnggw8eOHBAxsKbc+LEiYceekgyGeUWKW2rV9\\u002f\\u002f\\u002fvfff\\u002f\\u002f9hw4d+p3f+Z21ezh16pQ0tZ2g6Lb8F7jR8ePHZahbhiruvvtu5y\\u002flyiuvvPfee2v885EUwgMHDqwN0sqRbO3o+8Z7y7XEGJPVmCacPn1avmNOvm0Vx44dq\\u002fKeSOli+6\\u002fvxhtvvPzyy3\\u002f7t3+7rhYW0Yc\\u002frpzfottuu00+OBniFPlf5iIqfnaoFx0F4Kzjx4\\u002ffeeedx44ds0spSBKA85cSBMEVV1zx1a9+teUWAkDLSGYEzpL+wZ133ilDMMePH5fQqz2Ecfvtt1955ZWmchojAAwCEQXgHBJUsG85fPjwF7\\u002f4Rbl8++23y0A+4QQAO4KOArCGJnU65ZyNMTJM23SRJQDoCToKAAAgEzkKAAAgEx0FAACQiY5CUUmSyGpmaZp23RYAAFrColCFpGmapqnkc0RRRF8BALAj6CgUkqap9g\\u002foJQAAdgcdhaKm06lZ9RLoKwAAdsQuTo9MkiRJEv\\u002fGNE2TJImiyBgji5eot7zlLffee688Kgh28U0DAOymnTvmpWkax\\u002fFsNpMOgZBi\\u002fmEYzufzMAz9gIH0IeR2OgoAgN2xQ7MeJM8gjmPndokTLBYLSVecz+d+R0F6FVEUBUGgS\\u002fQCADB6Yzs5lrEDO1pgVvMUhDFmOp3aEYUgCOwogtxOFgIAAGZ8yYxS7cDpB8xmM2OMdiAkLdFmdyyiKPI3AABgN41w6GGxWMRxrPkETjoCAAAobmwRBbFYLCQ\\u002fkV4CAABVjDCiAAAA6tLrjoIWNlhb9iCnlLKMONhjEDmc+ZBpmoZhWKHVAACMR387CkmS6GF+Op3KUIIIgkDyDeM49kcW7LyEIn2FJEl0SmSapvP53O+XAACwoxZ9ZYyZTCb+VSljYN8uwQMxmUzsqyIMQ2fPzjZ2aQT7SQEA2HH9raPgTFjQ8gbNlT2QikzV9wMAwGj0d+hhsVjYh+35fO50GvTyfD6v5RnpJQAA4BjA9EhZncGsai3ns1MZAABon4Tqn3tuX6PP8uIXP9XOmECdHQWZniAFEOUsfzKZVEwMlF2tXagpS28HUwAAoze+89Xahh6CIJDRAZk4MJvNJpNJxVrIWjSJlRcAAOhEnTkKsqSCHNS1+EHpY7wmLTqpA5Q9AACgNfXnKKRpWn0hZu1tOP0M6X9IaQQ7elHx6QAAwFp1dhTiOJ5MJlqwSP5fbiqB1lmyBy80wDCZTCS90RgzmUyYrQAAQEPqrKMgKQWSwChTFaonM+ZYW\\u002fYgCPpbGQIAMHp6GBrNrIexHVbpKAAAOjS+jkKdyYyaTyDn+owIAAAwdLWdfydJMp1OpeiyPYu05fP7nAmsRBoAAE0jopBpOp1KXqHEFWQlCVPTKgxbyVrWouVmAAAwArVFFLQPZa\\u002fS5Czs1AJyFAAAHSKikEcmONirNwEAgEGrOUdBLi8WC13Jqf0cBSIKAICuEFHIlCSJrO+g7bYvAwCAIRrb+TcRBQBAh4go5EmSJLCQqQAAwNDVttaD5Cjoygtpmk6nU39VJwAAMCB1To\\u002f0Z0IyPRIAsFPGN\\u002fRQ5+qRPRlryCrOSAcCANCa4PELGn6Gpxre\\u002f1L9dRSUDDq033ugMiOw0cGrPiX\\u002fdd0QAH1XW0RhNpvFcaxLP6dpOp\\u002fPwzCsa\\u002f8AAKB9dY7op2maJMl8Pperk8nEiTG0gBwFAECH9DD0\\u002fHcvafSJzv+J\\u002fzi86ZEyx0FD\\u002fe33EgAA2GVrj7xJkqydhCiDABsP1nV2FPwW5Cz6DAAAaiSFCZwOQRAEssBCHMd21mCSJLLSghysc2oZNNhRAAAALZDYgBz4bRItkAWYFovFfD7XDsF0Op3NZmmapmkahmFOXIGOAgAAgxdF0WQycW6cTqf2rALtEMj\\u002fNcBg5xf66CgAADBskmqwNipgDzdEUSQdAmegQacrrt15nQWXeoKCSwCAYTn\\u002fJ\\u002f5jy89YvH5B1Y5CT6ox2ugQAACG5bm\\u002f+8+3fUhrfYtmhx4ouAQAQN\\u002foGITIr6RcNaLA4pAAAPRTGIb2YVomOBhjoiiSOZN6e85O+p7MmFM7goJOAADkkOkM0g+QpRXs+Q56GHUmRzh6XfA4TdM4jp2FqiVXMQxDCZs47aeEMwCgQ92WcA6CwDloJkmiwQN7aQU5wupmOYfOnkYUsmpHyIvX2hEmI+QAAMAOWiwWTqpBkiSLxWI2mzlLK0RRJLfLXTn77GlHwWTUjjDnJkg6oy8AAMCXlagYRdHG2Yu1BeqzSj1U5ERRJFQymUxkfQupQOkMTDD0AADoyvhWj6yt4JKsKhGGYaNphlEUhWE4nU5lxEV6DM42JVaiom8BAKjXnsf2NfwMQ6ujkKbpbDYzxkyn0yAI1q5oWZ0kcMqAymw2m06nfqdksb3a2wkAwDjUmaMgnQM5hBtj4jgOgqDe6MJ0OtUogiQx2DNBAQBAvepPZpQ1K7XkkwYY6tp\\u002fD4tGAwAwVnXmKEh2oVzNmaxZRRiGcRzrYEF+jQgAAFBRbR0F6QrY\\u002fQMlGYi1PIukTGq6ItMjAQBoVG0dhfyUwNKHc3+3Um1JLjMMAQBAo2rrKGQlLRYp5rAt+gcAALSjtvJEzpqVDqcsUnMouAQA6JAehs587Q2NPtGLrvhGO8e72mY9SCKCXZxgMpnILZPJpK5kRgAA0Kbazr\\u002f9FauM1bFq7UQ\\u002fpywjkQYAQNOIKGxNEw9bm55A+UUAAOpSW0dBKhzYvQGtnyh5jmQgAgAwOHUWXIqiyMlF0NUf5AIAABiW2joKZlWc0aw6DRpCIOwPAMBA1dZRsJMZGWUAAGAc6kxmpJoyAAAjU1tEYTabSYKCE04gugAAwHDVWUdh7e0tJyhQmREA0KHx1VFoaVGoNvWkywIA2GXP\\u002fmBf102oR52zHoyVptDhiAMdAgAA6lJnMmMQBHEcS9mlJEmCICC9EQCAQatzUShjjCwBZYxJkkRqNda1fwAA0L7aOgrz+dwpv6jFl+p6CgAA0LLGF4UCAADDVeeiULL4k2ItKAAAhq7OqgP+vEQt6twa6igAADqkh6Gn\\u002f+JnG32iH\\u002fvZvxhYHQVjzGKxkCiCLArlBBgAAMDgjO38m4gCAKBDRBTyrB1laH\\u002fWA5UZAQCoS53LTBtjwjDsPHuRDgEAAHWpM6LQfuoiAABoVJ11FOglAAAwMrV1FCaTSRMdhbVTJ5hVAQBAO+ocepjP50EQhGFo31glmTFN0+l0GkWR3QWJomg+n4dhOJ1Op9MpGQkA0JWDV31KLjzw5V\\u002futiVoTp0dBVkOqhay\\u002fuR8Pvdvn8\\u002fn2jkIgiCKIpaTAACgIT2tOpCmqRz+p9OpnSMpF3J6BtRRAAB0aHx1FKrmKDiJAs4hvHTWgqQg+FkI8\\u002flcQghr7wUAAPWqev4dBIGe8adpGsex7tC5Wn3\\u002fxiqmFIahDEw4czKzqi3lIwgBAKiFRhT+Jr2m0Sf6qfiLw6vM2Bp9a6Io8vsiHPUBAKhLnXUU2mGnTFK5ARiig1d9Sv7ruiEANhtYR8GZewkAABo1sKGHJEniONbKCtPplK4DfHKqWmRid\\u002fEtUSPecGBAaugo6EwHueBcrVcURWEYxnEsV8MwpIgCAADNqWHWQ\\u002f4GDaUWSv\\u002fAz1GgjgIAoEPMenB1dVQmjREAgBYMLJkRAAC0iY4CAADINLBZD0VkpU2QuwAAwLZG2FGgQwAAQF0YegAAAJlqjij4VQ2YngAAwHDV1lFIkmQ6nfq3MxAAAMBw1Tb0INWUF5669g8AANpXZ44C1ZQBABgZOgoAACBTbTkKs9ksjuPJZOJkL5LMCABA09KVJEmcI2+SJGtvL6i2JZR6UuYoZ5EqEiYAAE3TRaHu\\u002fdN\\u002f1ugTXXn1H+pxTeYThGFojJnP5\\u002fbSynJYDMPQub242iIK\\u002fTkM96clAAC0YDqdTiaTJEmMMWmaxnGcpmkURXKLHhaDIJDbt9p5\\u002fQWXJPRR+24BAEAWPfzb\\u002fQANM4gwDKXrsJU6OwpRFAVBEMdxHMdBEJCdAABAC8IwlCiCBgzW9huiKJrP59vuvLahB3l6J\\u002fShQzUAACDLlVf\\u002fYZWHp2kqJ+pydTab1dGopdo6CvP5fDab2V2YxWJRbjgEAICd8tUv\\u002feq2D7H7FkEQaKJikiRxHNtH5IpqHnqocW8AAGAj6R9odqDG9evaf50dBSdFQlpJ7wEAgDZpdMGZD5mmqZ3bWFBtHYXZbDadToMgSJJEqjpI\\u002faW69g8AAHxyQq7n6mmazudzuZokyXw+15CD3r6VOpMZZ7OZriEZhmGNAyQAACCLFEfWNZy1SnIURZPJRJMc\\u002ferJRYxtVgKVGQEAHeqkMqPIGfGvMrGgakRBRhm0\\u002fNPaDSo+xbboEAAAdlBOV6BKgL9qR0H7LzL44W\\u002fQfkcBAADUpZ6OgmGNaQAAxqi2WQ9rkwMk0lBltzkBCVk3s8rOAQBAvhpmPawtKC1K1JS2pWk6nU4lB2LtXWufFAAA1KX+1SNt5WZimFV+ps7o8OXcBQAA6lJDRMHOZ6y+NyWBBJ0V6txVorYUAADYVm0RhbW9hNJpBDLfcm2Cgl1nCgAANKq2yowmI0eh9hyC6XSav4BmTs2lLJReqMvBqz4lFx748i932xIA6Nbf7PmxrptQj9oiClEUSeqiJjDO5\\u002fPSOQpZgiDYuM\\u002fF9mpsIQAAY1JbCecgCGRxBxk1kJSFOI4r7l93a4yRHWp2gvRInKWxtHYmAADt08PQXf\\u002fm1xt9out+8V+2c7yrf+hBugg6p7FKfWl\\u002f\\u002f\\u002fZylPP5PAxDpkcCANCcOjsK9gLTDVVutncrXRBKRAMA0JzaOgqTyUSmMsqRWzMKOeMHAGC4ausoSCxBLs9mM+kuVD\\u002fdzxmAYYYkAABNG1vqH8mMAIAOjS+Zsc5FofxRhhIlDQAAQH\\u002fUmcw4n8\\u002f7cEKf1TvpvGEAAAxOnYtCzWazMAyDIOg2e4CqSgAA1KXm1SPTNJ1MJs1NjwR66+BVn9IK1gAwGnUOPQgtpcCsBAAAhq7+joIxJoqi2WwWx3ETOwf6qbl1sFhqC0CHausoOEkAURQtFguCCgAADFojEQVFWUagOgIJADpUNZlRyycEGWpoIwAA6EjViIKOODD\\u002fEEMkw\\u002f\\u002f+KXtWWoB\\u002fOwkEAMat5umRAABgTGorpJimaZIk8\\u002fncub3lSEPOYAcxDwBA07RC8b+YnWz0iW566x3tHNdqS2aUyZCTyaSuHZZGhwAAgLrUOethNpsxzQE7jpQFACNTZ44CvQQAAEamtojCZDKJoogKSxi0JuIBxBgADFptHYU0TWWZaed2MgYAABiu2joKURQx9ICh23jSvzE84N9OIAHAoNXWUWBdaeyCKj0JxiAADFGdyYxpmkZRJJWbyVcAAGAE6sxRiOM4DEMppSBXJ5NJ+5GGrJpLZEugRlnhgZxoAYEEAENUZ8Elp1sgfYX2Owp0CAAAqEudBZecPoHkNsp4RI3PAgyChhwUEQUAQ1RzjkKNewMAAJ2rs+CSjD7IPEkZdzCUa8RYOAtSFw8PEEgAMGi1RRSSJJlMJtPpNI7jIAgksbF6usDaFIckSaIoYkImAABNq22ZaVtdeQkSlnDWmpJJDWEYypLW\\u002fr0kM6I6MgwAlMMy04VU7yWkaZokiXQF\\u002fD3rWxNFURzH9AwAAGhI1Y5CVtECVfooLrkO0+nUvnE+n0udBt3G70ygIAoF5ij+njhvY5FQhJPuAAB9VrWjYB+2a6QrRzgdBafbwTwLAAAaVbWj0GFGoYQTZrOZc\\u002fvGIIdvNwcvOKPN4YdbnDCAHzlwtgew47692Nd1E+pRZx2F1iRJEgSB9BL8fIjF9rp4EQAADEAjyYyNkkBCJ6tIYHdsDAxUiRw42QwEIQD02cA6CjIVghgAAADtGFhHYTqdhmHo5DBS\\u002fBHN2Xje7yQrZM1xMNnpDgDQZwPrKBhj5vO5FIdWBBh2TZsH2oL9g5zbq7STLgWAzvW9o+B0AugTAADQpr53FABfJ2fYWSf3WRMmcxq5MUpRYukpoEZk2sI2yOmRAACgHSOMKGQVXNrZYQtODqrIykUo8cCNyYx8QOgJvoqwjbCjsLMdAgAAajfCjgIcnBwUn+K48b3KmutYohlEegAMAjkKAACMQZIkURT5ZYvl9tLLKBJRwPiVOGXfGCconbtgqI4AoAGSnxeG4XQ6TdNUuwV6exzHfsXCIogoAAAwbFEUhWG4WCzSNJ3NZvP5XDoEEl2Q2xeLhd6+lWBkqX9BMLZXhJ6oEkJYi4gCMEp6GLrlz6aNPtFHfyHR410QBGuXUw6CwI4iyAbb9hUYegAAYMDkwG9nJ9hpCnbvIYqi6XTr7gsdBWCNJqYklJgoURATKICh++gvJBX3IMEDY8x8Pp9OpzUG1+koAADQsVP\\u002fJtn2IU7fYjKZaCAhCIIkSfzpD+WMsKNAZcY+69u577YrOFR\\u002frpzbs5ao3vhe5WzQtzcc2B3fPnNRm09ndwvKzW7IMsJZD4sMXbcLAID6+SmK8\\u002flcLjg9hjRNZXhiK2ObI8CsB9Si9jSCKjYGDIpECyjeALRDD0M3\\u002funHG32iP776hB7v7L5CmqZxHMskiKzLWz3RCIce0E99OFB1Eod\\u002f4uL9cuHCxx7O39If76gy6NA0BjWK4F1CO9I0DYJAR94nk4n0BqIomkwmcRw7t2+FjgIAAIMnVZXMufMhjTGS1ZimaYkughhboJ6hB9Sr2zGIYZ2GcvYMmI6GHho1wmRGAABQF4Ye0IihnFxmBQxKNzsnI6F4soLqQ2JHcUNpJ4CtEFEAAACZRhhRoOBSH\\u002fT85HJjwKN0akItgQTV87cRwC4YYUeBDgEAAHUZ2xwBZj2gXlmhBY0TKAkYPHrgTXL1\\u002fO8\\u002fad9uqoUWHE6koUpGyFCySYChYNYDAADYISMcesA4tHmm6z9X1i05UQGJJWggQVWpzJi1QcHbiyCQACDfACIKaxfKTJJEKle33RoAAHZJ3yMKaZpOp9MoiuzakzKvIQzDOI7rXUwTFZUIA2Q9pM3h9iLLTMstG2dDaNjAT1ZQTn6DPiQnsJFlWIUWqtidVwr0TX87CmmaJkmia2UqCTBoBkcQBFVKWAMAgBz9nSOQpqmECqbTqb0sZhAEdhTBWYebWQ+oxcbJDv5chuKKz3pwwhjFqz5w5g10ZXyzHvobUdDhhul06t9lX\\u002fY3AAAAtehvR6G0rMqMOQhC9Eejkx2q79wPJDx30T65ILkIRSINWTkKOQ12rjpJDMQPgB566Mwrum5CPUbYUeCoP2iNHvM27jwnhv\\u002fqG79irIP62aTFi95kb685jEqTGbVL8aoHv2Ks7sLG+ZM5uY0FUywNnQkAZQ1geiQAAOjK8CIKznzINE3DMOyuOeivImWUsvgbOKf7WSMLGj94\\u002fqd+TC48Z\\u002fY5d8ljnTGLtfuUJ80JGDh39TNsQJVoYNCGF1GQOZPSV0jTdD6fr63IBAAAqhvAZMIgCOzpkcaYJEl0psNkMrE7CkyPHIqenGVmJQNmZQNIpoLZZnqkRg6UU4LJDy04qtd+Nl2\\u002fz8Du0MPQG+\\u002f5Xxt9ov9w+Nd2fXqk8t+IJEmSJKHOEgAATRtARyELvYRBa\\u002fQE14kT5EQviicryE4uXN3uBxKcyIGGB\\u002fw4gWyZs4GGEFaTGjIjChuXidLXvjGbofgGBctAARiH4eUoAACA1oxtRD+n2tLIXilUjae2JZZlyln8Sfg5Clnb+8kKElpwajmY7YtA+3LetOLxmIIbdKvnzcP4kKMwAHQIAACoywgjCiN7RSiuiXPHIkUPbRpg2HvJc3LhzCPnO9vIXf7tamNwQmo7bmVjYkGbKQjdln+g7jUaNb6IAjkKAAAg0wiHHtBP257GlTijbSJHwdl5ToDBWeVh79eeWV564\\u002fJfDSG88OTetXvImv6gMyxKBBKKc15ylXUxtn2ulhFLALZCRAEAAGQiooCWOKdxGwMGxc9oe3KC6CwzfTbA8Mjy3+CCM3Jhz74zxpgzT+11bjffX\\u002f6ruQhPmPVlHzXG8L0\\u002fepPZPpGiFj1520sr\\u002fv3p2zcNaNnYUv9IZkQRWT\\u002f9VY64WUs96epQ0j8w2UMPi6c2DEn4syLlSZ0CTWabF8LBD6gXyYwAAGCHjHDoIavmEpGG4kY\\u002ff2zjOEjp0IIfSDgbJ1hFFMR53\\u002fmBs2WWsyWbHtvw7LW8kNF\\u002f+kA7nnj2wq6bUI8RdhToEAAAUJexjeiTo7DLSiSdZZUr9m3MZsjKUcgq4Xw2h3Fl4aU3OlkLWYWYfCVWpt4227RRu5w\\u002fSERn6PQw9JOf\\u002fUKjT\\u002fTIDdeSowAAADo2tvNvIgrtaO6EL2eUvYnCzKUXOvI3kBWb1kyPzOCHDV54\\u002fdNyYe8jL3HucmjlJWe16+KLRfmywirMHgS2QkQBAADskLGdfxNRaEevTiLbaUzB6QPOKb7NSVZw6i8Zq8azk76QFVdQfoChSmghSx8+6yIY40e3iCgAAIAdMsLpkWhBr07XSucZ5PAfm7X4cvFCBc48CL+Ogq5MraSGo1+bQR+bxQ9sZMUYaszSaEGvQlnAjiCiAAAAMo0wokBlxg61ecKX81zFR6mzMvw3TgEoUfHwbAXGp4wx5swbXyrX9hh3DQjNWtizb32yglubYVWxUcMGxZMVslaLbmLWSZWVqYt\\u002fpgQbOkGwZ8RG2FGgQwAAQF3GNkeAWQ+7rMaFgzfmImTd7p\\u002fK+wUV\\u002fJqMDieQ4EcadH5EFn\\u002fBSWedyRwF372sQE6RPeTvucoeeq7nL7DnzRsKZj0AAIAdMsjz73QlSZIoiuy7iChAtVPSMStZYWNBBb8Oo3IiCn59BWdVCD\\u002fS4K8KUbyyQnOLPnDCil0wvojC8A6rSZJMp9MwDI0x8\\u002fk8DMM0TfVeOgrYStaiUKUHL7IWizJWBuLGoQd15pJnzbqKzjqRMmsMYuPyUdWLPdcy0LNtuegiKLiEbo2vozC8oYfpdDqZTCSiMJvN5vO53VEAAAA1Gt75dxAEs9lMRxz8q4N7RQNC6NhXfJ6kZjXK6f7Z2ZLZZExBwwY6WnHeU+fZm2m2o9LYQ1ZoYeNEym0nLhZ5SBNbFse3F6rRLwMRhe6FYRjHsUQUpH\\u002fgpCkAAIC6DPL82y6pZIcTTHa1pXxDfBOQo\\u002foodfHSQBsjClnVlDXAsG3Kgk3SF5zkR2PFGDS0IAtH+fGD0utIDXd6JEkMaJRGFC7413\\u002fe6BP9w69eRURhvSAIwjBcLBaLxWIymUh0wd5gsb2OXgoAAH03sIhCmqZxHNttDoJgMpkkSaJXh\\u002fWK0IIaiz3nzI\\u002fYNrSgZ\\u002fCPvflKZ0tndoOGBzSi4Myo9G935k+a7LWqS0+kLDJVpIlJDRtt\\u002fEyJKAzL4JJLiCj0jjM9EgAA1Gh45992CEECDMx66LPBnQ3kK3H2\\u002fOobvyIXnDN1v76CcrIWNAXh+QueXz5k34\\u002fkwku\\u002fvn7qRFaxZ92zv1B16RyFnFBK7R96T75OPWkG+ml8EYXhLQo1m83iOJ5Op3J1Mpkw6wEAgIYM9fxbhhv8LgIRBah6T\\u002fuyzptLLCvlJCv4FRv9DAOhuQhaR0FiDBpgOP\\u002fJZddfkxWy0hr8lAWZFuHbWGihxOLRQzkjJ5sBJXQeUYiiyBmRT5Jk7aIHBQ0voiCIIgAA4IiiSAoW2yPyZlWCqFxW31A7Chi96iedTUz0z9l58YdI1sLZSgZmFWD4\\u002fvJfjTHIef\\u002fZxIJVIOHpS56RCy9\\u002f5KX27f78iD3fePlyV8YYa46D1oXU0ELWKlZZuQtVJjs40Ygin1TtJ\\u002fdFvgwdxhK6Dbr0JORDRGdbaZrO53P7Fsnn08BDEAR2H6Kgwc96AAAAxpg4jieTiX2LrqEowjDUagLFjW1EP6cy48heKVpW8Ny3+NIPOSURnaKNetLvr0wtkQONKDx38HG5cP4Dr1xucO4S1X5qgp8YsXF5iOJKr1i9cXHObssk9OSEG\\u002f3UVY5CFEVRFCVJYi+B5JQakuWXtz0ajnDogQ4BAGBY\\u002fuFXr6ry8CRJmltLeYQdBWQZ6GlQC8PVRWQ9XVby\\u002f8aRe\\u002f8EXWMMek7\\u002fnDmnxMLZRSNXZRL2PHWeseoraCBBkxWefctyV5LN8Lyfu+DNsHCeVBujcY6s+RG+rPjKxq9iiRqaWaGdJr4nw\\u002foLKm6gPxHj8J\\u002f84Ze3fYj2LdI0LREnKI6Owg4Z6B9\\u002fTircIBQfjNCugx6SnRLOSnsGQqdHak9Ckxmlf6A72au7WnUL\\u002fAWl9p5bi0kzK7V\\u002fIB2aEiMRauOAgn\\u002fLxoc4G7T8JRlH2l3P208\\u002fJouMLNgpiqUnOKxFRwEAgAGTMgl6dT6fa9Ki011I09TObSxohMmMI3tFaEL1rLoSz1WcRhTE2ZGI1cm9RBrMKk6g8YPFjz8lF4LvXuDsU6IOGmDwadxCYgx7v\\u002fZM1pbSDG3VxhWri4wXFNyyb6eSnOPC13nBJTuZ0V7owF\\u002f0oCAiCgAAjFMURZPJJI5juVpu0YOxnX8TURic0hPh+nkyV2L5aZ9GFJyZin6xZ+HPn\\u002fRXjZI4gVZq0tuzlqj2l4\\u002fSZ5dWOVdtxdMXmvvs2gwaAbbOIwprlaizpCi4BADAyFVZ92Bs598UXCqhn2dUJVpV+oUUybrf9klLBBJ8WWWV\\u002fWQFd4NV5SVNVpAJERpRULqOlJLQgj8bQjlLV\\u002fvJCk77cwIMWVWqqoSR+pnNAJ\\u002fzSVX5IerVh64RhZf+z0UnEpfz7H\\u002fzZpaZLokOAQAAdRlhRGFkrwiqichHJ+V+iwcbik9\\u002fcGihBWdB6rMlm1b8GIPMjPCLN2iMISuioJx5EFVqP\\u002fchVaXGgFM\\u002fo3eo1\\u002fgiCuQoAACATGM7\\u002fyaigJ4ofhrq3y7rUJvVubifqaCLRAt\\u002f1oPS6Q\\u002fCz0jImh+hEYVn3vAD57GSxOCvL+WTYo5++7NiDDkLZYlaSjI0h4CB6WhB8F4hogAAAHbI2M6\\u002fiSjUaHAd+Y2ay3LI2WdWSn8tuQtOSQOnYqOx4gFZznvZD+XC8z982XKfT77IrMtm0LwHCUJoBEL5C1U7gYGNAQOVFYbJeYvaLLLZ7V9ErzL84SOiAAAAdsjYzr+JKPRN8azv6udJPTnhEyVS5TfGHnxyjq4pC\\u002f6a0TpVIWvByct+4pty4aG\\u002fu9ze4OJXfFcu\\u002fPDeS+WCzo+QkIMuVL2RPy1CbTshIufNbC5HoVffK9VJq\\u002fr5VvQNEQUAALBDxnb+TWXGoejJqUlzw70bIwoligzqQ0pUbHTqImik4WVXfGu5z2eXj5VkBY0oPPntS+SCZi3IQ\\u002fR2Z5EIn79shCpRYkEUn\\u002f7gPyTrQ2d5CNRifBGFEXYURvaKUEKH2V71Vp4umN6o\\u002fYYzb1yuIq2LRDvrSPkjEVkrUzvzKm3OHEvd0l\\u002fDWnon\\u002foCI02PwF6r2lch\\u002fzLp927rRLeukCFg\\u002f97nts5eu\\u002fVzusVnG11Fg6AEAAGQa4VoPcHRS47ZbfWhGlWy70gtKaXHlvWYZUdCTeDmtf0E3XUUUNJCggYHl9MjVtMkLX7JMRdSxiX2veNK+albzKovTOMdyz6Z8ICFL8RzSWlYCq3F9oxa+vU08Rbd\\u002fdKWfvQ+\\u002fFf031IhCkiRRFCVJ0nVDAAAYs0GO6EvGYhiG8\\u002fk8DMM0Te27hviKoKrMKtxYGrnRdlbfssQenNiDP8bvnLtrgEFpRSYNIZz\\u002fwCuNtVC10tDCY3\\u002f\\u002f4\\u002f72Zt1KVA5NqNRUCSeJIWd9qSz6kr\\u002f3R8siVAXjMTWublzusR0aaLOHghyF7kVRFIbhYrFI03Q2m83nc7ujAAAAajS88+8gCGazWRRFWfcO7hVhlGqc\\u002flA8ZSFn1oDImT\\u002fpzIPQis46l0FjDHKXX\\u002ftZb1FOcEJjD5pLIREOf15lidCCo0RhbP+xjk7KhVUPeFSZCFrwKWrZ1WiML6IwsGRGCR7Y2QmkKQAA0JyBnX+naRrHsTEmDENjzHw+N+dWUsopuJRjWG9CH4xmfZ2N2iwMvDGXPqtVOTTGIGWetYCBk7tgrPSFM5c8u3ZXOi1CIgcaSNAi0E88e6FckCQGf0sNTjj1pLVkk\\u002fLb6cQYNMCg62PJktZm9ZL9CETxOMHGD7147KfnX2+1bUSkD1UTunr2jTSisO+Oext9oqdOXkmOQqbJZJKmaZqm8h45QYXF9rp5GQAA9N4gIwp2myVZQfMZyVHoRN86+KVPj9TGk\\u002fhuZ1L4DynosTdfKRf8iQZa1VFO9\\u002fUsXwMMWsNRIgR+IOHClzwhF3R9Kdnmr5\\u002f4KbnqFH80q\\u002fkRToDBWPMmNJvBaW1WpEEVz2nYGDAoESfoZCZOm6rXnCjy2E5UTzchotAxp1tgVqMPAACgCcM7\\u002f7b7ChJgsCdBEFFAFZ1kg5defjpngyw6ou8vu\\u002fDsz52T2uzXQtDJCz994XfMujjBvtc84jzkbPXGc7fU4ITMg\\u002fAjChsXmlJ+jEE4KQumVJHH4hGFgmkNfVgCzQzn5H6gxhdRGNisB2NMmqZBEGjS4mQyyZoqCQAAKhrq+bfOk3RuJ6KAIkpXe8zZ0tHO6n\\u002fOc5UILfhn3nJqriEHraKoJACgkyB0QWonfmCsYo6rq0\\u002fIBY1GSLqDPxtC4xlOMUe9unFFyuJy5kcUn\\u002f6QtYGzZRMlDYYSFRhKO6sjotAXRBEAAGjB2M6\\u002fiSgMVx8GcX1tnvCVXnCy9GqTJnt5CGfZSWMVc3z6kmfMuoqNzmIQZhVsyIk0yF2S9GDWVWJQsqZlTsUFnbWx92vPmALTIs42ZhVRqJLNkKW52TH11jyo\\u002fa9vd+IHvvFFFMZ2WM0puDSyVzp0JeaPbXvErfcXqsNf0uIdiI1bFjkWyjZ+RSaH9ht0vEAHI3TmpAwx\\u002fNIr\\u002f2+5+ldPX+o+17P7jFWRSXoDxsqL1E6GP7VS7PnGy5cbnLvelT\\u002f\\u002fU0pOGS9BUgdfzrbq3IWmivfDcsaAOpwnWUtHoXQRquoG1+cYX0dhqEMPOegQAABQlxFGFEb2itCoPox3VF8+qnrqpc\\u002fJbbQ5Kzm98Pqn5YJmIMrYhPKzHXXoQdMbVxtc6DbDG7YQur6Uv+KURDj8dEgdpJDQQpGVqJaNrG8kIkdzY1udDD3ssvFFFAZWcAkAALRpbOffRBTQleYSI3wl1iIqPqPSSW\\u002fMSlbQnIBn3rA8U\\u002fdnOWphpeXt3oLUElrwIw1ZgQRNd\\u002fjiIz\\u002fr3KX71NCC0IiCY2MpJ1NrfejSCadtnuX3KrWiim7bSUQBAADskBEmM2KgejVKWuKMpHqp5tL7LH7aWuSp3dPlx5b\\u002fOpGG5y9YTiJ46deXF8yqNNPZZIV9LzPWub4TSDDG\\u002fJOXf8sY81fGnQ2hkQPlzJjQXZ1tzypcYQ4+fs7VS4zbTmOMNWtD+dkMWfwEDok9+JGGV9+4nFJxYcausmas6NXqFb2Kf\\u002fH6OT2yiT8cbIWIAgAAyDS2EX1yFIZuKIOgJZR+aTlxgo1DyCVWnNooK4khp+qz0NkQWi9BSi84dRdsTlKCBhL8kMNDZ16RtROHlGTQAgw6a8NficqZ36Gy6l77OQ0tzJjYmI9SZcsW1ssusYp3J4q\\u002fZHIUAADADhnb+TeVGYduY21B08BIaj\\u002fPYHI0EXfZGFrIquqo60v55Iw8a1kp402L8DlloY9c8m\\u002flqsYPLtv7984tTjEGp560+uG9lzqN8UmyxZlHzs9vpPLXvNZb5E0rUSW6SgLKxpWosh5bJTGixr+pfv55bvzr04jCfzq9r9GWPJ68nsqMJdEhAACgLiOMKIzsFY1Vo7kIfTgRKb3Ck7+T5t4iU6B5JSINeotTA1GzAZScsvsBBk1B+NPH\\u002f\\u002fFy5y950niVHM26Yo4yk2IjZ8\\u002fGKt6glRhkHoQfEfFXu14+0MtR2Lg2VSdLUhWJ2+XvKicmUTrvIaudVb7\\u002fneQ8jS+iQI4CAADINLbzbyIK6K1eLa9XYiZFcRtrOzrzI\\u002fwsAT+0ICkImpGglRk1a+G\\u002fM\\u002f+nXPjvzX9ljHnri\\u002f7a2edPvrCsjvC\\u002fvPAGYxVm0ECCll7QfcqzOHM0jFWDUkML8kL8SIMTSPDjB8U1EWkoviZk\\u002fgP9baqsP1I6ENKTbAYiCgAAYIeM7fybiAKqqHJys3GfpU\\u002f3c87zqpdkqH5ypg\\u002fceJYsKQs2OfN+9i3L0+6c1SJ++sLvmHU1EuR2YwUbJFSgmQoaWvizH\\u002f30VhuYVbDBmXlhrBiDM2tDKjQYq0iDxk7klRZPYiiRu1B8y+L5BFlKVOyoUenqIPUmBmVtOb6IwtgOq3QUajSUQihDUWPtmtLLTBffefGSOz7niOUfwB7\\u002fhf9CLmTNPNT6ytpj0LC\\u002fyKoGbVaDFP\\u002fDeV+Wq\\u002f\\u002f1Y78mF3QU4zV7v2+MeU2wfOC3F8tD9Zeee+1yD393uVyQMQjtN2gqpfZXzhaKNsZYHR2l7ZdqTmcueVauak\\u002fCJz2GjVmQuoFWfyouq0tRJSGxV7m6zlM09Cy701Fg6AEAAGQa2\\u002fk3BZfaUT1MTXDCV+NwRoloUHMVpotPsPTTHv2lm4QfadAYgwxGXH3+\\u002f+M85NNPLQtD3brvz9buU7MdP\\u002fD8VfbtOqjh02CDjEpoG\\u002fwFtZ3Yg65QpTEGJbEHPx0ya73vrJCDanQGpiox07Jg3CLnC1n8D6HG7z8Fl8aADgEAAHUZYUcBLSg9yj6+QELpDAN\\u002f+xrzwqrMSduYo7Bttpcvay0l\\u002f+RYF7N25h\\u002fuXV0w+5ZhAD1lf+iHlxtjzE94T7qaBmn2GWPFD\\u002f5mz\\u002fIp5sE\\u002fkgsaQnDmWOpDdMu\\u002fWt2l61otXbj8V7MZpID0k99eLnr9o595VC5o\\u002fqOSWIJmQeo7EJgz\\u002fmYmO9JgVu+nn2SaFVooEXIoMc8zS9ZfRM53ddvYQ5G84I27qnF9taEgRwEAAGQaYY7CyF4RRi8nflDw5F5VSRbZdri3ifMnP1nBiTHo7Zq7oPMm9BRcRv01d8FfR0poEoNOdtBbvn3mIrnwz\\u002fd83Vjxg3Dxt06DNRqhwQbhZDmcfYGrgtMa3tBZG9Y250QINOQg5a6VU+vJpu+JvEt6dWM2g6+FZbJzFJ\\u002fUUzBgsPFvLf9ZChpfjsKwIwpRFHXdBAAAxmzA599RFM3n89lsZncXiCi0o0SycR8Waqpi2\\u002fY3WpGpxLMXH6Mt2KoS53nFZ+crZwhcSzbpCL0GEpREFGTugLGmFfjzIxxOoQWzCjb4K1nrLVo3+g\\u002f2HjRWKEKTGz785FvlQtZUi\\u002f\\u002fx\\u002f\\u002fsv196usQet8uQ0209u0JCDBhuEvlcahtENzvvOOYEQtbEMVN9szGZoAnUU+i5N0\\u002fl83nUrAAAYuaGefwdBMJlMptMpEYVOjL4cQq\\u002fq0fb8STemO5RYkri4Rw8sqyM49Qb8SEPWRAONNOjMBZ2qIDEGDQ9oDUet6qh+7kf\\u002frzHm\\u002f3jRfyZXnZQFs0p08LMclCxVZbypFqe\\u002fd4NccLIZ\\u002fEWxnzv4uHOL8NfcUhp3Ec6q2b4iWQ5Z5TjVxrkVThipeBgj53u17Vex+PwI\\u002fyFEFHohiqLJZJIkSdcNAQBg5IZ3\\u002fp0kyXQ6lWYHQeBHFErsc3BvQr2GfkY7uGfvp22TKkpMSd84hFw8wLBx+n7O2tZOMUSNKEipA+PNO3CWujZWAoGu\\u002fvDeF\\u002f97Yy0rJdMljDUtQugGmgbhLzkht+iWWTTw4IccdNmLP338H5t1ZSJf9Jevkgv6VjhTKpQzgUL5C2orWXvCDxv4H5lTRUM5D\\u002fneHy2DRu0UKqi+fopGFF5x8oF62+b4\\u002fh2H7INXuhJFkXMinSRJmqZJkpSbATCwiEKaptpLyLLYXmvtBwCgdkmSxHGcpqkxZjqd2ufMQRBMp1NjTBzH5ToKA4soyEyHMAzlquQzhmEo744hR6F1ba7\\u002fpppYMrE5jWYDbPvYnqzU10ISg3\\u002f+6s+YEBppeOYNy8QCXUVa+CEHDSQU5ywYoSEHLdKgoQUnv0GvOgkQ+sBfO\\u002fPA6sIRueAHPITmXuja3HqL5G3oqtkahHAW\\u002fs5aPtt4SSH+WhVZ\\u002fBkWOUGIrA1qn46REzDL2lI3ePDPf6X9iILk7WkgQa\\u002faMXizLgxfxMBKOEv8RK9Kp4FkBQDAjrMP\\u002f3r+PJ1O9dRabncOo0UMrKMQRZH9Xkyn09KDLruj9ET5Ilo4m9+YY9zz0EK3rSpema61NphtkhhK808xH73oTWu31HNfXdFRax3KSPz5ZjmQ\\u002f5j5ceeCxh72veYRYyU36Cm7Vnt0J0q8YJzbZd6EWUUOrg2WJ6OvfOkTcuGi55Zbfjz4GfuBmgbxB+aLywsXHJQLUtdBUys02UI98ZILV+04t3k6w2JVzVLKOZz\\u002f+qflqsYeMss5rN7D50xmMU255fyvuctjOp+Uv37mE2ZDhsrGDImNMYlX3\\u002fiVtbf7erLEgxNKn8\\u002fnk8lELtuHyCiKZBhiKwPrKKC4jYeEfh5Wc5Re\\u002frh0oL7lJ83am398La658Y6cw3\\u002fxNmR1X6qnPeoBQFPh9Kdf+IeKs4e0VRmiMxftM9Ycwpc+snysnwO4XO1pdfhUura1Mwpwdt2pPX8tF3RkQdz8\\u002fD9dbrBYbqBjEMf3\\u002fqUx5t4zy6EHHYMwqxEV7UOEe\\u002f7WmDWpaDoV810XnPOe\\u002fE+PLstD+fmb\\u002f+SSbxljvmh+drmpJkh6PQZnNubiF5eTNl9YbbD3gr32ls\\u002f\\u002f3PIwtPcRd0ar9OH8vFT\\u002fFulb+F0K7XPIXX5XY2M\\u002foNG1uW3fv+NQLftJ0zSOY2NMjbH2YXcUSEcAAIzARTffv+1D\\u002fL6FpvFtO7iQb9gdBeTYnbmOVUImG1d8LriHEg8sovb3s8RaOI1GpIq\\u002f\\u002f8XX5hb+nLoLNzVG5vUZ6yRSEvT8GYBn6xSduyCTnlUvl7q2PPGyc0+CvdboubuMVuj8Sb920\\u002fef32eM+UmzCjCc95dy4ccPfk0ufPeBN8oFGaTQKk9X7F1eeGi1ZpWTU\\u002fnrr1rWmdaYhFOjWmtSaUTkr56+dPmCLv+OfZfMzLRpTqiuDO7QIR4lARunIrXxxobMKsZz5qll6mXwpJtruUxlXUV8NLPVDy1sLPfUWoxhW0EQhGFYIldxIzoKAAAMm\\u002fQS\\u002fECCc2OapnZuY9Gdjyx6n1NwaWSvtFFtLuDU81RERzsLOO2aJhI7cmTNydyYAedP5NNb\\u002fIrRQrMZJAjhl5H2514u2+DNwHQmWPorVGkJJg1CSJxAwwO\\u002f8covyYWvf28ZcpA4gVlFHTQvUjMr9RZNa3D4paWkcpQ+qa565a+tJZMztU6UvmSdtOnQN01SR42mhngFo56+5Bm5oNM7JYPSKRtl1i1TnjV79uL\\u002f66tyQauGCw1EqfanR0pewmQycWIJURTJXRJmsC9v9UQjjCjQIQAA7A6dCWnPaJBYgqx4IOmNxhi\\u002fM1HECCMKI3tFzelbEeXmwhjtTH9oNFmhTTUuSF37Z1p8fkTxJXzaqRvtcCINxlsOW7MBtHqSFmaWtAA9\\u002f9Yz9Y0n984MTGNNwpQ5FH4+xEXnrS+XJHkSaznTN\\u002fQplM7XkCiFBkI09vAHe79ob6+FpPSV+gkQEpbQJbl12qpTQkqLWGtwwl+bWxIgdO6G1pjyF+l2Yg8aZ3r0j9\\u002fcSQnnfNJpKPdEAyvhDAAAtlUlw3Fs599EFIC1tj25L35GnvOQ0s9VfcuchxSv3FW9gLST1pATctDT0xdWRY0cTjaDBhi++MiytoEfhHASHb7wkj+UC3ctlqkJerovZRs++fLl633Jjy1Pjv\\u002f275fpAv\\u002foFd+xr77y\\u002fOWeH3\\u002fuQqedcpd\\u002fuwYhNEohzdA26AYak\\u002fjwk281xtz18v9drmpGhb\\u002fMt8ROtA6ETt+QklNmFYbxK2JpPoRWrRZ+9S2NMWgQSO7yAwxP\\u002fKvLehhRqIKIAgAAyDS2828iCsixg\\u002fMLimdODPTN2djsjWv5bNxnibhC1gSKNYWlD6wvLO179i3L02jJ5NcTXB1l11R\\u002fHYnX82aHnkb\\u002fbxf\\u002fgVxw5kfomtdK7vrnL\\u002f53cvXhp5d70PCAhBzMKuqg4QFNmHjrS7+x9rH6QJ2Loft0Mif2v3y5pYYrPv7Cz8iF43vOqVbprO6tdFc6icOZgmFWb5qfD6GzM3SqhdBIj86weDx5PREFAACwK8Z2\\u002fk1EAePT7UpOqrkJKSXiHDVOtchJTSgdpagShBB+NkMWzXLwV6BwaMhBaexBTpdzFrVy6Ni\\u002fzlnQIIQse+1HGvyAgdB0Bz9KoXcJP3NCky1+\\u002fdBnjDHPffsn5aqGHPzECOHHHnTOxXtf\\u002fO\\u002fNupiKvmQtmvkv\\u002fvqovYG+mf\\u002fwq1cRUQAAALtibOffVGbcQQMdXO+JErMbiu+z4B568gmWrplR4iFVqjhIooM\\u002fsULphH5Z0UCz8TX24Gfyn12IwRhjTaB46O+Wi1bIVAsNOSiNPeigvp5wL6+u8h40v2Hy7NVyYfqSLxkrkOCnIOjqFctmP7Z89hcuXl\\u002fdQRe5UBqTOP81f2OMue\\u002frPy9X3\\u002fDq5Z41zqGySkecXc\\u002fz3CDKl557rbPlfzj8a3K4uei\\u002fbXYxCJ1e0TQqMwIAgEwjjCiM7BWhuJ6cmDan+Nh59XegiXqLNU5AqF7FoUhUoHjpiKxdFZ9A0ULxBr9mgxNjcKoTGq94wDNvcEs3OlkOZhV1yIk06Cm41HXQmQu6yqVTIFIjDX\\u002f2zOvlwj\\u002f9+eVbtPf+5QQEyVrQ+MF5b14Wqfzm\\u002fBq5IHECJ0Rh03DFsz\\u002fYZ9bFOfwUCsmQ0GwGTWL446tPjCyiMLbDKh2FvukwEa\\u002fKMtNoU5XDfxNVnjb2Tkq3qsiuCn4nc\\u002foTG9dBLlGLWvgVqf01uM\\u002f84neN128wVkUjXf5K6kH5NaqdLoVkFxpvsStjHZulfLVmJvpFnIRucOTiv5ALTkUpJd0Fs65ylEPzIrVVH\\u002f2FZGQdBZIZAQBAprGdfxNR6MToY\\u002f5oVMvfn+phpBKTNp0NfNXnf5Yes8iRFXsovvyV0tiDVo6SpZt0MqcOczh0UWld8+nIJf\\u002fW2UaCEDqo4SzJbawVs4SGFvwohY6AOHRLrTAtt+gDP\\u002f3UsnbWIzdcS0QBAADsirGdfxNRQDvaSRusUSfZGAXrKTW6\\u002fHeNTzo42+Za5jzQCS1kZT9kbb+WzN5Ufoql0AxKXTw6iy4qnUUzJ9S7LviKXNAFpcSHXv0nckFzFTVgoLkUUv7Zj16ML5mRiAIAAMg0tvNvCi4NDvkNOXbn3DdLH74eRZafLjhJoScVpXwFZ5\\u002fmvAMbp1r4sqpWa8Eo5\\u002facORdyl17de8lzcuHMI+fbtzx38PHlUzzwyuXOV7fopAyJWzgVqIw1WeOH915qP1YfqCtTa2Xl0UQUKLgEAAAyjTCiMLJXhI36cNKJAenDyX0TqpegLh5yyLEx3WFbWWt2l6BZEX75Bw1CyOQLf2EtrUalzvvOD8y6CSB6oj+aiAI5CgAAINPYzr+JKCAHsQf01tC\\u002fnBtXvdpY1nrjsmSlF9Ay2bM2ShSpdFIo\\u002fH0++Oe\\u002fQkShe2maJkkSRVGSJF23BQCAMRve+XeSJNPpNAxDY8x8PjfnZi8SUQBQr76d62+szNj+uioNPWnBOhy+EpUxa0REoXvT6XQymaRpmqapvEfEFQAAaMggp0dGUaSXwzBM07SzpgCoT9\\u002fO3UWvGmOy29NCO\\u002f0PqPqKmjm23TInYJBVB6L42uIb1\\u002flsJ1zRieF1FJxIy3w+n0wmXTUGAIBxG\\u002fCIfpqmcRwbL0ehxK6G+yYAADZqs3iGpsq9+savNPpEj\\u002f7xm6nMmCeKovl8vnbcgaP+tvoZ7wU61+fSTPzZbqX4u7Tth74LH8TwkhnNKmwwm83ITgAAoFHDG3oIgiAngZHpkQCADjH00DHpH0RR5HQU7HkQAACgLoPsKEyn0+l0qjcyQxIAUFwTkzlHbGA5CkmSLDz0EgAAaMjYRvTJUQCAgjhvbsL4chQGFlEAAABtGliOQhFZNZeINACArZ+BhJ7HOXrevCaMsKNAhwAAgLqMbUSfHAUAQIfIUQAAADuEjgIAAMhERwEAAGSiowAAADLRUQAAAJnoKAAAanPwqk9ppQGMwwjrKFBwCQC6sjtliDa68LGHG93\\u002fo43u3TLCjgIdAgAA6sLQAwAAyERHAQAAZKKjAAAAMtFRAAAAmegoAACATHQUAABAJjoK3cgq9tArg2ikoZ11G0Q7B9FIQztrNYhGjhIdBQAAkGmEBZeozAgAQF1G2FGgQwAAQF0YegAAAJnoKAAAgExDHXpIksQYE0VRFEVbPTAIgvyxiY0b1LWTpp+ihUa204w+vJl17aTpp+BDr\\u002fcpBtFOPvR6n6Kd97MhpY+M+YYXUUjTNAiCNE3TNI3jWN4XAAB2VqNHxv72jLIEQRCGYZqmxpgkSabTqf0S2unV9qFz3YcNetIMXmmNG\\u002fSkGX3YoCfN4JW2uUG9z3Lwqk\\u002flP1dFD\\u002f75r2hL8o+MFQ2yozCbzTSu4l8d1jepnxvI99v+Fvazna1t0JNm8Erb3KAnzRjfK3UOnw98+Ze33cCnP1kHfv5f2w\\u002fx2+Bs4B\\u002fL5Xcv5xi\\u002f8Yexq45CzpGxooENPUh3yXnxciMAADuo8SPjYlBms5nTZmNMGIb2VQAAOlTi6FbliTYeGSsa6qwHm92NKv12AwDQldoPXjVOfBjY0AMAAGjTwDoK0kVyhl7qnTAKAMCANH1kHFhHwRgThmEcx3JZi0t02B4AALrV6JFxeNMjjTGBtT6kPQOkoaJU1RVvWJIk7ZeQKtK8JEnSNI1W2mqa2wZTuJ0dVuIq\\u002fnFLdZSumrqxnc7tnbyrRd5MeRs3btao\\u002fHbK19K\\u002fsf3WDuKPaBCNzNfJL3nWkbEGdWVFtmw2m81mM\\u002fuqMSYMwzAMjTGTyaSzlp1rq4bJZi21bLFYFG6efFU6fHu3baf+qbTayu2\\u002fh6bWzOTiir+foaXlz71gIyeTib1ZPz\\u002f0yWQSnqv9pg7ij6hcI9tsYRHyKtr\\u002fKi68I2NdevcWl2P\\u002f4MoPR6fNOatgw\\u002fQb3\\u002fJho0jznNs7eXtLtLOTY\\u002fBW38NOPnF96iLt7PbvqEgjnV9k+Ttqq4FLJX582j8lWAzkj6hII51PuZM3M8tsNuvwRKU5fTmgVuR8Kv35kAo2bDKZ6IlRW01b0561zXP+Dv0Juy0o2E77\\u002fKOr3+KC30P7PLiVpp2jSDs7+aBtRRrZh7OCbX98unpjS7yf7X8\\u002fizTSiTR0\\u002fkW1zWYz\\u002fTHvyTGoFn15f6tYW2uiD6MP2zas5T\\u002fLcu9b+z\\u002fNJdopD+kkVG7fktUG3bKTjkLBdmpXRk6P+vlmyhuov85djTvYt2x8rzocH3Gasbadcru8pS1\\u002f7gUb6dzYh86ib2QdheHNeiiot3Wde9swkd88WWtE\\u002fjK7ldVOWUItjuMwDPuQ5bS2nXEcy29if2S9n1EUyTFjOp12niPsN3I+n8\\u002fn8ziOe7WcbM4fUa8maq1tp3zWcRxPp9M+\\u002fBH5jZQW6lX7MhoyhsqMa\\u002fXkT9HX24aJrObJr7CpPZm2rJxE\\u002fcViIa2NoqjzbpnfziiKwjDsw3to89tjp23LvZ3\\u002fIme9aYtVwod0ZDs\\u002ftuV8uNPptD99RL+daZpKC+Vvpw9\\u002fRGu\\u002fmXI+IFfDMJzP5203a8eMNqKAGiVJEsexhPv6doRbS86D+\\u002fnzISfBMvVLL3feodkoWlfRpXOaHi96\\u002fuVcu3JPr8ifubSwz39EaZpqen\\u002fn\\u002fcJdMIaOwtqfsD78Nfa2YaJg8\\u002fQko6s\\u002fyILtDIKg25+Mgu2U0XR7jnjLs\\u002f8LtnPt1P\\u002fW2lmwkZ3\\u002fNW31N54kid2taVPPf4tE8V8kreliOn1Xd0iXCRL1sSfM9Cq3Jadhfu5V+6ltRZqnc75tbTZyq3bq7aaLmYdbfdyL7mZ2DeL9LNJIf3pknz9002mCW5F2+rMeWv4tLd7ItV+A\\u002fuhnq0rrywG1Orv306tPaG3D1n6\\u002fu5rRl9+8nvQvi7yNnTeyYDtVh1PAi7TTPlHrahrnxkY6qbXtN7JgO\\u002fswi2\\u002fbD33tl7ZvjezDBDdfJ29dcwZZwjlLb4cAe9sw0fPmqSLt1Lhlhy9nTO9n8c0aMohG9qEBBQ3i\\u002fSz+l97\\u002fN3wcRtVRAAAA9RpDMiMAAGgIHQUAAJCJjgIAAMhERwEAxiMIgiAI1tbA6LzWSEOcmh9JkgSWIgmPUupx7ZtmP3xtcRHdwyjf26Wup10AAGojP+xr11Jae3s7mpsJ7Mw71bWs7KILRY50Zt0cYOOtZpm\\u002fhzFNibQRUQCAsXEW5uhb7e0aJUmivQG7jKzWbVwsFma1HFeOyWTi1Kv2V\\u002fDKLwE5mUxGG1TouqcCAKiNMcauXSjCMHSWjbbXprLDDPJA+wChR0f7hHvtw7Uskt5lV\\u002fm0d2g\\u002fo16dzWbaTn06Z1drX6+9q7VxC6eerNMe57Vn7U2Kr+vltQ0b6yF1nK8KAHaTHLmdg7Eev\\u002fWQvPbyYnVgXlhdAbnLL5yctaswDP0q4PZBN6ujIE8hm+mReG1BceWMO5gCYyt2Tfr8OuV+v0Eu6Fuxdg+jHH2gowAA42FWI\\u002fR6ANPLehz1z5V1Y+NVSrb3rIfttQ\\u002fPqVpdvKPgvBB\\u002fVzbpEvkttBtmxyf8\\u002fRivHLh\\u002fWdvpN0xu73a1kRa8yAAAxkVXYoyiyB7FF\\u002fP53L4lSRInp8HeiW8+n4dhqOPxHS5K6edeyEt2WpKmqeQfyPZOJoE+RN4HuZqmqT1CoUkPzp6dNkRDWDK+BJIZAWCE9Fg+n88LThEs90RRFDkdkTY5L805bCdJ4hzjHbLmu1613zS7PzHy2Y+bEFEAgBFKkiSOYz913xgThqF9QC2xwJIcg+2Hl1awH5PVDPvZJ5OJhgTszTReEkXRdDq1D\\u002flONyLrTXMmRDht0J2MMpxgiCgAwCjJoWs6nfqn+0mSzOdzParFcZw\\u002f8c8hx2O9qkfW4vTh1U\\u002fT7UO47C2OYyeu4FzWW\\u002fwxF33T7DckTVMn3SGOY92D04cY5YKWdBQAYJzkaOcfumSwII5jqV1otjwVTpIkDEMtfejEJ9aKokgjB3I41wqSW\\u002fVR\\u002fJY4tywWCzmQ25UZF+dOs5zP53LX2l6UtCcn6iAv1t6D3usMWIwGy0wDwI4qMehQ+uHOxhWfWkmVZf\\u002fwnL\\u002f\\u002fbVvub+nvIU3TOI5HeUilowAAGKr+HJ6DIJjNZgw9AADQI1EUFRn7aJqMoYyyl2CIKAAAgBxEFAAAQCY6CgAAIBMdBQAAkImOAgAAyERHAQAAZKKjAAAAMtFRAAAAmegoAACATHQUAABAJjoKAAAgEx0FAACQiY4CAADI9P8DYihhRxK1CFAAAAAASUVORK5CYII=\",\"x\":-0.125,\"xref\":\"x\",\"y\":2.25e-05,\"yref\":\"y\"}],\"xaxis\":{\"range\":[0,1],\"showgrid\":false,\"title\":{\"text\":\"Momentum (GeV\\u002fc)\"}},\"yaxis\":{\"range\":[0,2e-05],\"showgrid\":false,\"title\":{\"text\":\"dE\\u002fdx\"}},\"margin\":{\"l\":30,\"r\":0,\"b\":50,\"t\":50,\"pad\":0},\"showlegend\":false,\"autosize\":false,\"width\":530,\"height\":457,\"title\":{\"text\":\"Ionization Energy Loss vs. Momentum\"}},                        {\"responsive\": true}                    ).then(function(){\n                            \nvar gd = document.getElementById('9cf6f41a-ddfc-4cff-86ce-3d957601c0cc');\nvar x = new MutationObserver(function (mutations, observer) {{\n        var display = window.getComputedStyle(gd).display;\n        if (!display || display === 'none') {{\n            console.log([gd, 'removed!']);\n            Plotly.purge(gd);\n            observer.disconnect();\n        }}\n}});\n\n// Listen for the removal of the full notebook cells\nvar notebookContainer = gd.closest('#notebook-container');\nif (notebookContainer) {{\n    x.observe(notebookContainer, {childList: true});\n}}\n\n// Listen for the clearing of the current output cell\nvar outputEl = gd.closest('.output');\nif (outputEl) {{\n    x.observe(outputEl, {childList: true});\n}}\n\n                        })                };                            </script>        </div>\n</body>\n</html>"
                },
                "metadata": {}
              }
            ]
          }
        },
        "cbbd855f7b4c412ca228304e8e275957": {
          "model_module": "@jupyter-widgets/base",
          "model_name": "LayoutModel",
          "model_module_version": "1.2.0",
          "state": {
            "_model_module": "@jupyter-widgets/base",
            "_model_module_version": "1.2.0",
            "_model_name": "LayoutModel",
            "_view_count": null,
            "_view_module": "@jupyter-widgets/base",
            "_view_module_version": "1.2.0",
            "_view_name": "LayoutView",
            "align_content": null,
            "align_items": null,
            "align_self": null,
            "border": null,
            "bottom": null,
            "display": null,
            "flex": null,
            "flex_flow": null,
            "grid_area": null,
            "grid_auto_columns": null,
            "grid_auto_flow": null,
            "grid_auto_rows": null,
            "grid_column": null,
            "grid_gap": null,
            "grid_row": null,
            "grid_template_areas": null,
            "grid_template_columns": null,
            "grid_template_rows": null,
            "height": null,
            "justify_content": null,
            "justify_items": null,
            "left": null,
            "margin": null,
            "max_height": null,
            "max_width": null,
            "min_height": null,
            "min_width": null,
            "object_fit": null,
            "object_position": null,
            "order": null,
            "overflow": null,
            "overflow_x": null,
            "overflow_y": null,
            "padding": null,
            "right": null,
            "top": null,
            "visibility": null,
            "width": null
          }
        },
        "7e8d265c225e4fdea04aee146d32e51d": {
          "model_module": "@jupyter-widgets/controls",
          "model_name": "FloatSliderModel",
          "model_module_version": "1.5.0",
          "state": {
            "_dom_classes": [],
            "_model_module": "@jupyter-widgets/controls",
            "_model_module_version": "1.5.0",
            "_model_name": "FloatSliderModel",
            "_view_count": null,
            "_view_module": "@jupyter-widgets/controls",
            "_view_module_version": "1.5.0",
            "_view_name": "FloatSliderView",
            "continuous_update": true,
            "description": "a",
            "description_tooltip": null,
            "disabled": false,
            "layout": "IPY_MODEL_37d400353ea143a7a28af9323da10885",
            "max": 0,
            "min": -10,
            "orientation": "horizontal",
            "readout": true,
            "readout_format": ".2f",
            "step": 0.01,
            "style": "IPY_MODEL_7e11861123b24ce88705b72c158fab6d",
            "value": -2.42
          }
        },
        "d764206e06bd4d2e85c165f77be0b6ec": {
          "model_module": "@jupyter-widgets/controls",
          "model_name": "FloatSliderModel",
          "model_module_version": "1.5.0",
          "state": {
            "_dom_classes": [],
            "_model_module": "@jupyter-widgets/controls",
            "_model_module_version": "1.5.0",
            "_model_name": "FloatSliderModel",
            "_view_count": null,
            "_view_module": "@jupyter-widgets/controls",
            "_view_module_version": "1.5.0",
            "_view_name": "FloatSliderView",
            "continuous_update": true,
            "description": "b",
            "description_tooltip": null,
            "disabled": false,
            "layout": "IPY_MODEL_5bf7d51cf7e24abc812ae60dd4a4de0e",
            "max": 10,
            "min": 0,
            "orientation": "horizontal",
            "readout": true,
            "readout_format": ".2f",
            "step": 0.01,
            "style": "IPY_MODEL_d706c986b0e646b2a785d11cae9fa425",
            "value": 1
          }
        },
        "f699990756b64ae5b4cce535801f3564": {
          "model_module": "@jupyter-widgets/controls",
          "model_name": "FloatSliderModel",
          "model_module_version": "1.5.0",
          "state": {
            "_dom_classes": [],
            "_model_module": "@jupyter-widgets/controls",
            "_model_module_version": "1.5.0",
            "_model_name": "FloatSliderModel",
            "_view_count": null,
            "_view_module": "@jupyter-widgets/controls",
            "_view_module_version": "1.5.0",
            "_view_name": "FloatSliderView",
            "continuous_update": true,
            "description": "c",
            "description_tooltip": null,
            "disabled": false,
            "layout": "IPY_MODEL_7580b0affe5d4ad49fa17016e98abe32",
            "max": 10,
            "min": 0,
            "orientation": "horizontal",
            "readout": true,
            "readout_format": ".2f",
            "step": 0.01,
            "style": "IPY_MODEL_7fc10a9ae86045c2b9f385b37f856f23",
            "value": 1
          }
        },
        "2f03eca3029f41dab17997008f6b112c": {
          "model_module": "@jupyter-widgets/base",
          "model_name": "LayoutModel",
          "model_module_version": "1.2.0",
          "state": {
            "_model_module": "@jupyter-widgets/base",
            "_model_module_version": "1.2.0",
            "_model_name": "LayoutModel",
            "_view_count": null,
            "_view_module": "@jupyter-widgets/base",
            "_view_module_version": "1.2.0",
            "_view_name": "LayoutView",
            "align_content": null,
            "align_items": null,
            "align_self": null,
            "border": null,
            "bottom": null,
            "display": null,
            "flex": null,
            "flex_flow": "row wrap",
            "grid_area": null,
            "grid_auto_columns": null,
            "grid_auto_flow": null,
            "grid_auto_rows": null,
            "grid_column": null,
            "grid_gap": null,
            "grid_row": null,
            "grid_template_areas": null,
            "grid_template_columns": null,
            "grid_template_rows": null,
            "height": null,
            "justify_content": null,
            "justify_items": null,
            "left": null,
            "margin": null,
            "max_height": null,
            "max_width": null,
            "min_height": null,
            "min_width": null,
            "object_fit": null,
            "object_position": null,
            "order": null,
            "overflow": null,
            "overflow_x": null,
            "overflow_y": null,
            "padding": null,
            "right": null,
            "top": null,
            "visibility": null,
            "width": null
          }
        },
        "15c3a45ac57e47bf860ff5b5ed0917e5": {
          "model_module": "@jupyter-widgets/base",
          "model_name": "LayoutModel",
          "model_module_version": "1.2.0",
          "state": {
            "_model_module": "@jupyter-widgets/base",
            "_model_module_version": "1.2.0",
            "_model_name": "LayoutModel",
            "_view_count": null,
            "_view_module": "@jupyter-widgets/base",
            "_view_module_version": "1.2.0",
            "_view_name": "LayoutView",
            "align_content": null,
            "align_items": null,
            "align_self": null,
            "border": null,
            "bottom": null,
            "display": null,
            "flex": null,
            "flex_flow": null,
            "grid_area": null,
            "grid_auto_columns": null,
            "grid_auto_flow": null,
            "grid_auto_rows": null,
            "grid_column": null,
            "grid_gap": null,
            "grid_row": null,
            "grid_template_areas": null,
            "grid_template_columns": null,
            "grid_template_rows": null,
            "height": null,
            "justify_content": null,
            "justify_items": null,
            "left": null,
            "margin": null,
            "max_height": null,
            "max_width": null,
            "min_height": null,
            "min_width": null,
            "object_fit": null,
            "object_position": null,
            "order": null,
            "overflow": null,
            "overflow_x": null,
            "overflow_y": null,
            "padding": null,
            "right": null,
            "top": null,
            "visibility": null,
            "width": null
          }
        },
        "37d400353ea143a7a28af9323da10885": {
          "model_module": "@jupyter-widgets/base",
          "model_name": "LayoutModel",
          "model_module_version": "1.2.0",
          "state": {
            "_model_module": "@jupyter-widgets/base",
            "_model_module_version": "1.2.0",
            "_model_name": "LayoutModel",
            "_view_count": null,
            "_view_module": "@jupyter-widgets/base",
            "_view_module_version": "1.2.0",
            "_view_name": "LayoutView",
            "align_content": null,
            "align_items": null,
            "align_self": null,
            "border": null,
            "bottom": null,
            "display": null,
            "flex": null,
            "flex_flow": null,
            "grid_area": null,
            "grid_auto_columns": null,
            "grid_auto_flow": null,
            "grid_auto_rows": null,
            "grid_column": null,
            "grid_gap": null,
            "grid_row": null,
            "grid_template_areas": null,
            "grid_template_columns": null,
            "grid_template_rows": null,
            "height": null,
            "justify_content": null,
            "justify_items": null,
            "left": null,
            "margin": null,
            "max_height": null,
            "max_width": null,
            "min_height": null,
            "min_width": null,
            "object_fit": null,
            "object_position": null,
            "order": null,
            "overflow": null,
            "overflow_x": null,
            "overflow_y": null,
            "padding": null,
            "right": null,
            "top": null,
            "visibility": null,
            "width": null
          }
        },
        "7e11861123b24ce88705b72c158fab6d": {
          "model_module": "@jupyter-widgets/controls",
          "model_name": "SliderStyleModel",
          "model_module_version": "1.5.0",
          "state": {
            "_model_module": "@jupyter-widgets/controls",
            "_model_module_version": "1.5.0",
            "_model_name": "SliderStyleModel",
            "_view_count": null,
            "_view_module": "@jupyter-widgets/base",
            "_view_module_version": "1.2.0",
            "_view_name": "StyleView",
            "description_width": "",
            "handle_color": null
          }
        },
        "5bf7d51cf7e24abc812ae60dd4a4de0e": {
          "model_module": "@jupyter-widgets/base",
          "model_name": "LayoutModel",
          "model_module_version": "1.2.0",
          "state": {
            "_model_module": "@jupyter-widgets/base",
            "_model_module_version": "1.2.0",
            "_model_name": "LayoutModel",
            "_view_count": null,
            "_view_module": "@jupyter-widgets/base",
            "_view_module_version": "1.2.0",
            "_view_name": "LayoutView",
            "align_content": null,
            "align_items": null,
            "align_self": null,
            "border": null,
            "bottom": null,
            "display": null,
            "flex": null,
            "flex_flow": null,
            "grid_area": null,
            "grid_auto_columns": null,
            "grid_auto_flow": null,
            "grid_auto_rows": null,
            "grid_column": null,
            "grid_gap": null,
            "grid_row": null,
            "grid_template_areas": null,
            "grid_template_columns": null,
            "grid_template_rows": null,
            "height": null,
            "justify_content": null,
            "justify_items": null,
            "left": null,
            "margin": null,
            "max_height": null,
            "max_width": null,
            "min_height": null,
            "min_width": null,
            "object_fit": null,
            "object_position": null,
            "order": null,
            "overflow": null,
            "overflow_x": null,
            "overflow_y": null,
            "padding": null,
            "right": null,
            "top": null,
            "visibility": null,
            "width": null
          }
        },
        "d706c986b0e646b2a785d11cae9fa425": {
          "model_module": "@jupyter-widgets/controls",
          "model_name": "SliderStyleModel",
          "model_module_version": "1.5.0",
          "state": {
            "_model_module": "@jupyter-widgets/controls",
            "_model_module_version": "1.5.0",
            "_model_name": "SliderStyleModel",
            "_view_count": null,
            "_view_module": "@jupyter-widgets/base",
            "_view_module_version": "1.2.0",
            "_view_name": "StyleView",
            "description_width": "",
            "handle_color": null
          }
        },
        "7580b0affe5d4ad49fa17016e98abe32": {
          "model_module": "@jupyter-widgets/base",
          "model_name": "LayoutModel",
          "model_module_version": "1.2.0",
          "state": {
            "_model_module": "@jupyter-widgets/base",
            "_model_module_version": "1.2.0",
            "_model_name": "LayoutModel",
            "_view_count": null,
            "_view_module": "@jupyter-widgets/base",
            "_view_module_version": "1.2.0",
            "_view_name": "LayoutView",
            "align_content": null,
            "align_items": null,
            "align_self": null,
            "border": null,
            "bottom": null,
            "display": null,
            "flex": null,
            "flex_flow": null,
            "grid_area": null,
            "grid_auto_columns": null,
            "grid_auto_flow": null,
            "grid_auto_rows": null,
            "grid_column": null,
            "grid_gap": null,
            "grid_row": null,
            "grid_template_areas": null,
            "grid_template_columns": null,
            "grid_template_rows": null,
            "height": null,
            "justify_content": null,
            "justify_items": null,
            "left": null,
            "margin": null,
            "max_height": null,
            "max_width": null,
            "min_height": null,
            "min_width": null,
            "object_fit": null,
            "object_position": null,
            "order": null,
            "overflow": null,
            "overflow_x": null,
            "overflow_y": null,
            "padding": null,
            "right": null,
            "top": null,
            "visibility": null,
            "width": null
          }
        },
        "7fc10a9ae86045c2b9f385b37f856f23": {
          "model_module": "@jupyter-widgets/controls",
          "model_name": "SliderStyleModel",
          "model_module_version": "1.5.0",
          "state": {
            "_model_module": "@jupyter-widgets/controls",
            "_model_module_version": "1.5.0",
            "_model_name": "SliderStyleModel",
            "_view_count": null,
            "_view_module": "@jupyter-widgets/base",
            "_view_module_version": "1.2.0",
            "_view_name": "StyleView",
            "description_width": "",
            "handle_color": null
          }
        }
      }
    }
  },
  "nbformat": 4,
  "nbformat_minor": 0
}