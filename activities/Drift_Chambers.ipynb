{
  "nbformat": 4,
  "nbformat_minor": 0,
  "metadata": {
    "colab": {
      "provenance": [],
      "collapsed_sections": [
        "Nw2lfeLNQXVm",
        "9iwBnEgGQeBD",
        "9lVBhsmTUZ4D",
        "O3Op721ZUZ4W",
        "Q3MD_YFeqzeE",
        "tyyYO4kLqzeG",
        "RIR54FwWrSg3",
        "TOaC6UORrShV",
        "Gbyz0nBDhQLU",
        "0ukTcNNnhQLp",
        "nZhO8QMiQvya",
        "pjqbuej9Q1GO",
        "E08XOn__LQzL",
        "-dQtQwaeLQzO",
        "5n2wqsBURxgq",
        "qV6c3E6tP4y1",
        "UREJhI9qalbL",
        "MplKFBOMalbb"
      ],
      "mount_file_id": "1NMxjXctcvn0JulkgLVRnRqs3SWKHNGrY",
      "authorship_tag": "ABX9TyMC59bWPUHAQNh+ElAntD2I",
      "include_colab_link": true
    },
    "kernelspec": {
      "name": "python3",
      "display_name": "Python 3"
    },
    "language_info": {
      "name": "python"
    },
    "widgets": {
      "application/vnd.jupyter.widget-state+json": {
        "38c1a3632aa342c382eb4b0d78ef5b0d": {
          "model_module": "@jupyter-widgets/controls",
          "model_name": "VBoxModel",
          "model_module_version": "1.5.0",
          "state": {
            "_dom_classes": [
              "widget-interact"
            ],
            "_model_module": "@jupyter-widgets/controls",
            "_model_module_version": "1.5.0",
            "_model_name": "VBoxModel",
            "_view_count": null,
            "_view_module": "@jupyter-widgets/controls",
            "_view_module_version": "1.5.0",
            "_view_name": "VBoxView",
            "box_style": "",
            "children": [
              "IPY_MODEL_549e7f999ea048d1897e541c2e62ac78",
              "IPY_MODEL_44c3194699fb486bba1d922367489d19"
            ],
            "layout": "IPY_MODEL_ea9cfebce09742c0a487529449f6544a"
          }
        },
        "549e7f999ea048d1897e541c2e62ac78": {
          "model_module": "@jupyter-widgets/controls",
          "model_name": "FloatSliderModel",
          "model_module_version": "1.5.0",
          "state": {
            "_dom_classes": [],
            "_model_module": "@jupyter-widgets/controls",
            "_model_module_version": "1.5.0",
            "_model_name": "FloatSliderModel",
            "_view_count": null,
            "_view_module": "@jupyter-widgets/controls",
            "_view_module_version": "1.5.0",
            "_view_name": "FloatSliderView",
            "continuous_update": true,
            "description": "z",
            "description_tooltip": null,
            "disabled": false,
            "layout": "IPY_MODEL_030b09e59d3448ff8c63a804d178b422",
            "max": 175,
            "min": 0,
            "orientation": "horizontal",
            "readout": true,
            "readout_format": ".2f",
            "step": 0.1,
            "style": "IPY_MODEL_1c62dd361a644dd1819dfa24186f1caf",
            "value": 129.39999999999998
          }
        },
        "44c3194699fb486bba1d922367489d19": {
          "model_module": "@jupyter-widgets/output",
          "model_name": "OutputModel",
          "model_module_version": "1.0.0",
          "state": {
            "_dom_classes": [],
            "_model_module": "@jupyter-widgets/output",
            "_model_module_version": "1.0.0",
            "_model_name": "OutputModel",
            "_view_count": null,
            "_view_module": "@jupyter-widgets/output",
            "_view_module_version": "1.0.0",
            "_view_name": "OutputView",
            "layout": "IPY_MODEL_caa82cabdf064526bdb1d0e6aabc3491",
            "msg_id": "",
            "outputs": [
              {
                "output_type": "display_data",
                "data": {
                  "text/html": "<html>\n<head><meta charset=\"utf-8\" /></head>\n<body>\n    <div>            <script src=\"https://cdnjs.cloudflare.com/ajax/libs/mathjax/2.7.5/MathJax.js?config=TeX-AMS-MML_SVG\"></script><script type=\"text/javascript\">if (window.MathJax && window.MathJax.Hub && window.MathJax.Hub.Config) {window.MathJax.Hub.Config({SVG: {font: \"STIX-Web\"}});}</script>                <script type=\"text/javascript\">window.PlotlyConfig = {MathJaxConfig: 'local'};</script>\n        <script charset=\"utf-8\" src=\"https://cdn.plot.ly/plotly-2.24.1.min.js\"></script>                <div id=\"1a79d089-f08e-4986-a44a-1236a0b8e254\" class=\"plotly-graph-div\" style=\"height:500px; width:520px;\"></div>            <script type=\"text/javascript\">                                    window.PLOTLYENV=window.PLOTLYENV || {};                                    if (document.getElementById(\"1a79d089-f08e-4986-a44a-1236a0b8e254\")) {                    Plotly.newPlot(                        \"1a79d089-f08e-4986-a44a-1236a0b8e254\",                        [{\"marker\":{\"size\":3},\"mode\":\"markers\",\"name\":\"Ring 5\",\"x\":[17.12205629348769,17.309603176772267,17.34039161322963,17.21414277801152,16.932000000119782,16.4965184082419,15.911641791109904,15.182666881938935,14.316195390390995,13.32007421646998,12.203324387780093,10.976059363702936,9.649393446343247,8.235341127687938,6.746708284506161,5.1969762063462746,3.6001795068900413,1.9707790243178225,0.3235308617187038,-1.3266472464641361,-2.9648110317465846,-4.576125029213195,-6.145996929784756,-7.66020973042902,-9.105050485541698,-10.467434493505364,-11.735023793773507,-12.896338901351857,-13.940862766792081,-14.859136020220234,-15.64284263685513,-16.28488524821656,-16.779449416993284,-17.122056293487695,-17.309603176772267,-17.340391613229635,-17.21414277801152,-16.932000000119785,-16.4965184082419,-15.911641791109908,-15.182666881938935,-14.316195390391,-13.32007421646998,-12.203324387780091,-10.97605936370294,-9.649393446343247,-8.235341127687938,-6.74670828450617,-5.196976206346273,-3.600179506890046,-1.9707790243178205,-0.3235308617187065,1.3266472464641268,2.964811031746587,4.576125029213189,6.145996929784745,7.660209730429018,9.105050485541689,10.467434493505362,11.735023793773507,12.896338901351848,13.94086276679208,14.859136020220229,15.642842636855132,16.28488524821656,16.77944941699328],\"y\":[-2.7886378464253587,-1.148455753850698,0.5021269318736059,2.1481622783465846,3.7747435345756988,5.367140128822198,6.910931070939877,8.39213555109497,9.797339552145012,11.113817329055262,12.329646655216402,13.43381679197489,14.416328203587259,15.26828311456429,15.981966089303697,16.5509139042697,16.969974079946216,17.23535154248924,17.344642992503275,17.29685866969279,17.09243131628474,16.733212258047942,16.22245463840025,15.564783957437955,14.766156182690683,13.83380381095711,12.776170369694004,11.602833951124017,10.324420471549367,8.952507441408304,7.499519117547782,5.978613987229475,4.40356560283154,2.7886378464253596,1.148455753850698,-0.5021269318736006,-2.148162278346581,-3.7747435345756974,-5.367140128822198,-6.9109310709398715,-8.392135551094965,-9.797339552145008,-11.113817329055262,-12.329646655216404,-13.433816791974884,-14.416328203587259,-15.268283114564287,-15.981966089303695,-16.5509139042697,-16.969974079946212,-17.235351542489244,-17.344642992503275,-17.296858669692785,-17.09243131628474,-16.733212258047942,-16.22245463840025,-15.564783957437957,-14.766156182690688,-13.833803810957113,-12.776170369694004,-11.602833951124023,-10.324420471549368,-8.952507441408311,-7.499519117547775,-5.978613987229476,-4.4035656028315495],\"type\":\"scatter\",\"uid\":\"5177a7c1-b6f8-49a5-8aea-9dd08dc1a9a2\"},{\"marker\":{\"size\":3},\"mode\":\"markers\",\"name\":\"Ring 9\",\"x\":[23.75726531565106,23.409779436103157,22.955480102258633,22.396440177779674,21.73521043362019,20.97480790944303,20.118702147559997,19.170799362206015,18.13542461637954,17.017302087572084,15.82153351242985,14.55357490869956,13.219211680670874,11.824532221703553,10.375900134284974,8.879925194371575,7.3434331924971685,5.773434789256261,4.1770935272677985,2.561693145573186,0.9346043456056132,-0.6967488396299717,-2.3249229197167276,-3.9424889097654763,-5.542066227168778,-7.116356367506593,-8.658176205947989,-10.160490772202165,-11.616445349474368,-13.019396750966482,-14.362943631214616,-15.64095569396029,-16.847601663286245,-17.977375890390924,-19.02512347460122,-19.986063784001928,-20.855812268362648,-21.630400464834878,-22.30629410513778,-22.880409241613716,-23.350126318574063,-23.713302124731026,-23.968279572179178,-24.11389525730747,-24.14948476914309,-24.074885720906355,-23.89043849094432,-23.596984669662458,-23.195863219540662,-22.688904365754578,-22.07842124527787,-21.367199352568775,-20.558483829997773,-19.65596466100726,-18.663759833563397,-17.58639655072157,-16.42879057403722,-15.196223794073264,-13.894320130344978,-12.52901987066517,-11.106552566973273,-9.633408611318762,-8.116309621690766,-6.562177772816897,-4.9781042118677075,-3.371316703178451,-1.7491466496182468,-0.11899564108037897,1.5116983172748826,3.1354947429317797,4.744984625234174,6.332824231001973,7.891768612301188,9.41470466347962,10.894683576636588,12.324952547439548,13.698985586621381,15.010513296572736,16.253551477165296,17.422428430284405,18.51181083848678,19.516728099704686,20.43259500696316,21.25523266962775,21.980887580723987,22.60624874332887,23.12846277789036,23.54514694154382,23.85440000002125,24.054810902547146,24.14546522013955,24.12594931793977,23.99635224253338],\"y\":[4.344356435381476,5.938292251891884,7.505133002864456,9.037729553323327,10.529089016725308,11.972406661897327,13.361096961463987,14.688823640098576,15.949528585494065,17.137459490140074,18.247196097782705,19.27367493481064,20.212212413723837,21.05852620326911,21.808754767735422,22.45947498625563,23.00771777172191,23.450981618049234,23.787244013973854,24.01497067130836,24.133122525546764,24.141160476877484,24.039047849972206,23.827250561326913,23.506734993391838,23.078963585189992,22.54588815954327,21.909941017352647,21.174023839567024,20.34149444747855,19.416151481754273,18.402217070110016,17.304317562709944,16.127462423191954,14.877021371634006,13.558699883753015,12.178513158127778,10.742758670227515,9.257987438475642,7.730974133455312,6.168686166641347,4.57825189969974,2.9669281194082955,1.342066926603045,-0.28891780977162584,-1.9185842804465494,-3.5394966910965566,-5.144259190164539,-6.725549614435829,-8.27615289838946,-9.788993994887328,-11.257170156991585,-12.673982433615624,-14.032966235301469,-15.327920830658769,-16.552937638879868,-17.70242718923886,-18.771144624564556,-19.754213632320766,-20.64714869410192,-21.44587555202484,-22.14674979863291,-22.746573505491487,-23.242609814601828,-23.632595426056408,-23.91475092495733,-24.087788900478323,-24.150919820025102,-24.10385563169149,-23.946811078574207,-23.68050271894937,-23.306145656781425,-22.82544799748244,-22.240603054218933,-21.554279340326886,-20.769608393497474,-19.890170487288866,-18.919978295159076,-17.863458581557357,-16.725432003613392,-15.511091115584378,-14.225976676421018,-12.875952368555172,-11.467178043261848,-10.006081614670716,-8.499329730668139,-6.95379735451197,-5.376536395951127,-3.774743534978709,-2.1557273850318732,-0.526875145465096,1.1043811045462815,2.730598316878641],\"type\":\"scatter\",\"uid\":\"f97ef4ef-f37d-48c9-956a-b04d77f869ed\"},{\"marker\":{\"size\":3},\"mode\":\"markers\",\"name\":\"Ring 4\",\"x\":[15.074704446570042,14.803810517179931,14.332720444243654,13.667804912913876,12.818055765189774,11.79496440067813,10.612366375125411,9.286254298259108,7.834561561174073,6.276919817979971,4.634393501354607,2.9291949622247797,1.184384085821943,-0.5764435537098088,-2.329475782979397,-4.051005848147691,-5.717753008107831,-7.307177366574107,-8.797784685515436,-10.169417057854623,-11.403525508583733,-12.483420837833108,-13.394499313671817,-14.124440162531517,-14.663372186534541,-15.004007254512652,-15.141738861479407,-15.074704423708326,-14.80381046698282,-14.332720367389975,-13.667804810442947,-12.818055638487337,-11.794964251457616,-10.612366205404774,-9.286254110333529,-7.834561357584915,-6.276919601480431,-4.63439327487248,-2.929194728822835,-1.1843838486565537,0.5764437914313999,2.3294760180423997,4.0510060773732945,5.71775322839614,7.307177574946111,8.797784879153252,10.16941723413964,11.40352566513199,12.483420972527567,13.39449942469096,14.124440248374002,14.663372246039497,15.004007286875376,15.141738866262248],\"y\":[1.4554218936656849,3.1956472288775637,4.892656916968531,6.523501812870699,8.066127536834834,9.499672722085515,10.80475112902225,11.963713810855904,12.960887785339926,13.782787984970613,14.41829961939348,14.858828483877085,15.098417181189944,15.133825685179092,14.964575156566006,14.592954418426489,14.023989003784688,13.265373193899487,12.327365966308863,11.2226522597564,9.966171432153882,8.574915231391746,7.067698011095638,5.4649022987668046,3.788203157060782,2.060275065745273,0.3044852882559333,-1.4554221304585924,-3.195647461415279,-4.892657142106381,-6.523502027564079,-8.066127738180384,-9.499672907360384,-10.80475129572091,-11.963713956724044,-12.960887908404935,-13.782788083568242,-14.418299692190363,-14.858828529888772,-15.098417199794202,-15.133825676124335,-14.964575119974684,-14.592954354793433,-14.02398891397043,-13.265373079118607,-12.32736582811358,-11.222652100015559,-9.966171253027715,-8.574915035302618,-7.067697800695328,-5.4649020769006045,-3.788202926729063,-2.060274830062865,-0.304485050410049],\"type\":\"scatter\",\"uid\":\"e6d5886c-b1f7-4fde-8bde-4f6af0942fe0\"}],                        {\"template\":{\"data\":{\"barpolar\":[{\"marker\":{\"line\":{\"color\":\"#E5ECF6\",\"width\":0.5},\"pattern\":{\"fillmode\":\"overlay\",\"size\":10,\"solidity\":0.2}},\"type\":\"barpolar\"}],\"bar\":[{\"error_x\":{\"color\":\"#2a3f5f\"},\"error_y\":{\"color\":\"#2a3f5f\"},\"marker\":{\"line\":{\"color\":\"#E5ECF6\",\"width\":0.5},\"pattern\":{\"fillmode\":\"overlay\",\"size\":10,\"solidity\":0.2}},\"type\":\"bar\"}],\"carpet\":[{\"aaxis\":{\"endlinecolor\":\"#2a3f5f\",\"gridcolor\":\"white\",\"linecolor\":\"white\",\"minorgridcolor\":\"white\",\"startlinecolor\":\"#2a3f5f\"},\"baxis\":{\"endlinecolor\":\"#2a3f5f\",\"gridcolor\":\"white\",\"linecolor\":\"white\",\"minorgridcolor\":\"white\",\"startlinecolor\":\"#2a3f5f\"},\"type\":\"carpet\"}],\"choropleth\":[{\"colorbar\":{\"outlinewidth\":0,\"ticks\":\"\"},\"type\":\"choropleth\"}],\"contourcarpet\":[{\"colorbar\":{\"outlinewidth\":0,\"ticks\":\"\"},\"type\":\"contourcarpet\"}],\"contour\":[{\"colorbar\":{\"outlinewidth\":0,\"ticks\":\"\"},\"colorscale\":[[0.0,\"#0d0887\"],[0.1111111111111111,\"#46039f\"],[0.2222222222222222,\"#7201a8\"],[0.3333333333333333,\"#9c179e\"],[0.4444444444444444,\"#bd3786\"],[0.5555555555555556,\"#d8576b\"],[0.6666666666666666,\"#ed7953\"],[0.7777777777777778,\"#fb9f3a\"],[0.8888888888888888,\"#fdca26\"],[1.0,\"#f0f921\"]],\"type\":\"contour\"}],\"heatmapgl\":[{\"colorbar\":{\"outlinewidth\":0,\"ticks\":\"\"},\"colorscale\":[[0.0,\"#0d0887\"],[0.1111111111111111,\"#46039f\"],[0.2222222222222222,\"#7201a8\"],[0.3333333333333333,\"#9c179e\"],[0.4444444444444444,\"#bd3786\"],[0.5555555555555556,\"#d8576b\"],[0.6666666666666666,\"#ed7953\"],[0.7777777777777778,\"#fb9f3a\"],[0.8888888888888888,\"#fdca26\"],[1.0,\"#f0f921\"]],\"type\":\"heatmapgl\"}],\"heatmap\":[{\"colorbar\":{\"outlinewidth\":0,\"ticks\":\"\"},\"colorscale\":[[0.0,\"#0d0887\"],[0.1111111111111111,\"#46039f\"],[0.2222222222222222,\"#7201a8\"],[0.3333333333333333,\"#9c179e\"],[0.4444444444444444,\"#bd3786\"],[0.5555555555555556,\"#d8576b\"],[0.6666666666666666,\"#ed7953\"],[0.7777777777777778,\"#fb9f3a\"],[0.8888888888888888,\"#fdca26\"],[1.0,\"#f0f921\"]],\"type\":\"heatmap\"}],\"histogram2dcontour\":[{\"colorbar\":{\"outlinewidth\":0,\"ticks\":\"\"},\"colorscale\":[[0.0,\"#0d0887\"],[0.1111111111111111,\"#46039f\"],[0.2222222222222222,\"#7201a8\"],[0.3333333333333333,\"#9c179e\"],[0.4444444444444444,\"#bd3786\"],[0.5555555555555556,\"#d8576b\"],[0.6666666666666666,\"#ed7953\"],[0.7777777777777778,\"#fb9f3a\"],[0.8888888888888888,\"#fdca26\"],[1.0,\"#f0f921\"]],\"type\":\"histogram2dcontour\"}],\"histogram2d\":[{\"colorbar\":{\"outlinewidth\":0,\"ticks\":\"\"},\"colorscale\":[[0.0,\"#0d0887\"],[0.1111111111111111,\"#46039f\"],[0.2222222222222222,\"#7201a8\"],[0.3333333333333333,\"#9c179e\"],[0.4444444444444444,\"#bd3786\"],[0.5555555555555556,\"#d8576b\"],[0.6666666666666666,\"#ed7953\"],[0.7777777777777778,\"#fb9f3a\"],[0.8888888888888888,\"#fdca26\"],[1.0,\"#f0f921\"]],\"type\":\"histogram2d\"}],\"histogram\":[{\"marker\":{\"pattern\":{\"fillmode\":\"overlay\",\"size\":10,\"solidity\":0.2}},\"type\":\"histogram\"}],\"mesh3d\":[{\"colorbar\":{\"outlinewidth\":0,\"ticks\":\"\"},\"type\":\"mesh3d\"}],\"parcoords\":[{\"line\":{\"colorbar\":{\"outlinewidth\":0,\"ticks\":\"\"}},\"type\":\"parcoords\"}],\"pie\":[{\"automargin\":true,\"type\":\"pie\"}],\"scatter3d\":[{\"line\":{\"colorbar\":{\"outlinewidth\":0,\"ticks\":\"\"}},\"marker\":{\"colorbar\":{\"outlinewidth\":0,\"ticks\":\"\"}},\"type\":\"scatter3d\"}],\"scattercarpet\":[{\"marker\":{\"colorbar\":{\"outlinewidth\":0,\"ticks\":\"\"}},\"type\":\"scattercarpet\"}],\"scattergeo\":[{\"marker\":{\"colorbar\":{\"outlinewidth\":0,\"ticks\":\"\"}},\"type\":\"scattergeo\"}],\"scattergl\":[{\"marker\":{\"colorbar\":{\"outlinewidth\":0,\"ticks\":\"\"}},\"type\":\"scattergl\"}],\"scattermapbox\":[{\"marker\":{\"colorbar\":{\"outlinewidth\":0,\"ticks\":\"\"}},\"type\":\"scattermapbox\"}],\"scatterpolargl\":[{\"marker\":{\"colorbar\":{\"outlinewidth\":0,\"ticks\":\"\"}},\"type\":\"scatterpolargl\"}],\"scatterpolar\":[{\"marker\":{\"colorbar\":{\"outlinewidth\":0,\"ticks\":\"\"}},\"type\":\"scatterpolar\"}],\"scatter\":[{\"fillpattern\":{\"fillmode\":\"overlay\",\"size\":10,\"solidity\":0.2},\"type\":\"scatter\"}],\"scatterternary\":[{\"marker\":{\"colorbar\":{\"outlinewidth\":0,\"ticks\":\"\"}},\"type\":\"scatterternary\"}],\"surface\":[{\"colorbar\":{\"outlinewidth\":0,\"ticks\":\"\"},\"colorscale\":[[0.0,\"#0d0887\"],[0.1111111111111111,\"#46039f\"],[0.2222222222222222,\"#7201a8\"],[0.3333333333333333,\"#9c179e\"],[0.4444444444444444,\"#bd3786\"],[0.5555555555555556,\"#d8576b\"],[0.6666666666666666,\"#ed7953\"],[0.7777777777777778,\"#fb9f3a\"],[0.8888888888888888,\"#fdca26\"],[1.0,\"#f0f921\"]],\"type\":\"surface\"}],\"table\":[{\"cells\":{\"fill\":{\"color\":\"#EBF0F8\"},\"line\":{\"color\":\"white\"}},\"header\":{\"fill\":{\"color\":\"#C8D4E3\"},\"line\":{\"color\":\"white\"}},\"type\":\"table\"}]},\"layout\":{\"annotationdefaults\":{\"arrowcolor\":\"#2a3f5f\",\"arrowhead\":0,\"arrowwidth\":1},\"autotypenumbers\":\"strict\",\"coloraxis\":{\"colorbar\":{\"outlinewidth\":0,\"ticks\":\"\"}},\"colorscale\":{\"diverging\":[[0,\"#8e0152\"],[0.1,\"#c51b7d\"],[0.2,\"#de77ae\"],[0.3,\"#f1b6da\"],[0.4,\"#fde0ef\"],[0.5,\"#f7f7f7\"],[0.6,\"#e6f5d0\"],[0.7,\"#b8e186\"],[0.8,\"#7fbc41\"],[0.9,\"#4d9221\"],[1,\"#276419\"]],\"sequential\":[[0.0,\"#0d0887\"],[0.1111111111111111,\"#46039f\"],[0.2222222222222222,\"#7201a8\"],[0.3333333333333333,\"#9c179e\"],[0.4444444444444444,\"#bd3786\"],[0.5555555555555556,\"#d8576b\"],[0.6666666666666666,\"#ed7953\"],[0.7777777777777778,\"#fb9f3a\"],[0.8888888888888888,\"#fdca26\"],[1.0,\"#f0f921\"]],\"sequentialminus\":[[0.0,\"#0d0887\"],[0.1111111111111111,\"#46039f\"],[0.2222222222222222,\"#7201a8\"],[0.3333333333333333,\"#9c179e\"],[0.4444444444444444,\"#bd3786\"],[0.5555555555555556,\"#d8576b\"],[0.6666666666666666,\"#ed7953\"],[0.7777777777777778,\"#fb9f3a\"],[0.8888888888888888,\"#fdca26\"],[1.0,\"#f0f921\"]]},\"colorway\":[\"#636efa\",\"#EF553B\",\"#00cc96\",\"#ab63fa\",\"#FFA15A\",\"#19d3f3\",\"#FF6692\",\"#B6E880\",\"#FF97FF\",\"#FECB52\"],\"font\":{\"color\":\"#2a3f5f\"},\"geo\":{\"bgcolor\":\"white\",\"lakecolor\":\"white\",\"landcolor\":\"#E5ECF6\",\"showlakes\":true,\"showland\":true,\"subunitcolor\":\"white\"},\"hoverlabel\":{\"align\":\"left\"},\"hovermode\":\"closest\",\"mapbox\":{\"style\":\"light\"},\"paper_bgcolor\":\"white\",\"plot_bgcolor\":\"#E5ECF6\",\"polar\":{\"angularaxis\":{\"gridcolor\":\"white\",\"linecolor\":\"white\",\"ticks\":\"\"},\"bgcolor\":\"#E5ECF6\",\"radialaxis\":{\"gridcolor\":\"white\",\"linecolor\":\"white\",\"ticks\":\"\"}},\"scene\":{\"xaxis\":{\"backgroundcolor\":\"#E5ECF6\",\"gridcolor\":\"white\",\"gridwidth\":2,\"linecolor\":\"white\",\"showbackground\":true,\"ticks\":\"\",\"zerolinecolor\":\"white\"},\"yaxis\":{\"backgroundcolor\":\"#E5ECF6\",\"gridcolor\":\"white\",\"gridwidth\":2,\"linecolor\":\"white\",\"showbackground\":true,\"ticks\":\"\",\"zerolinecolor\":\"white\"},\"zaxis\":{\"backgroundcolor\":\"#E5ECF6\",\"gridcolor\":\"white\",\"gridwidth\":2,\"linecolor\":\"white\",\"showbackground\":true,\"ticks\":\"\",\"zerolinecolor\":\"white\"}},\"shapedefaults\":{\"line\":{\"color\":\"#2a3f5f\"}},\"ternary\":{\"aaxis\":{\"gridcolor\":\"white\",\"linecolor\":\"white\",\"ticks\":\"\"},\"baxis\":{\"gridcolor\":\"white\",\"linecolor\":\"white\",\"ticks\":\"\"},\"bgcolor\":\"#E5ECF6\",\"caxis\":{\"gridcolor\":\"white\",\"linecolor\":\"white\",\"ticks\":\"\"}},\"title\":{\"x\":0.05},\"xaxis\":{\"automargin\":true,\"gridcolor\":\"white\",\"linecolor\":\"white\",\"ticks\":\"\",\"title\":{\"standoff\":15},\"zerolinecolor\":\"white\",\"zerolinewidth\":2},\"yaxis\":{\"automargin\":true,\"gridcolor\":\"white\",\"linecolor\":\"white\",\"ticks\":\"\",\"title\":{\"standoff\":15},\"zerolinecolor\":\"white\",\"zerolinewidth\":2}}},\"xaxis\":{\"range\":[-60,60]},\"yaxis\":{\"range\":[-60,60]},\"width\":520,\"height\":500,\"shapes\":[{\"line\":{\"color\":\"black\"},\"type\":\"circle\",\"x0\":-10.5,\"x1\":10.5,\"xref\":\"x\",\"y0\":-10.5,\"y1\":10.5,\"yref\":\"y\"},{\"line\":{\"color\":\"black\"},\"type\":\"circle\",\"x0\":-55,\"x1\":55,\"xref\":\"x\",\"y0\":-55,\"y1\":55,\"yref\":\"y\"}]},                        {\"responsive\": true}                    ).then(function(){\n                            \nvar gd = document.getElementById('1a79d089-f08e-4986-a44a-1236a0b8e254');\nvar x = new MutationObserver(function (mutations, observer) {{\n        var display = window.getComputedStyle(gd).display;\n        if (!display || display === 'none') {{\n            console.log([gd, 'removed!']);\n            Plotly.purge(gd);\n            observer.disconnect();\n        }}\n}});\n\n// Listen for the removal of the full notebook cells\nvar notebookContainer = gd.closest('#notebook-container');\nif (notebookContainer) {{\n    x.observe(notebookContainer, {childList: true});\n}}\n\n// Listen for the clearing of the current output cell\nvar outputEl = gd.closest('.output');\nif (outputEl) {{\n    x.observe(outputEl, {childList: true});\n}}\n\n                        })                };                            </script>        </div>\n</body>\n</html>"
                },
                "metadata": {}
              }
            ]
          }
        },
        "ea9cfebce09742c0a487529449f6544a": {
          "model_module": "@jupyter-widgets/base",
          "model_name": "LayoutModel",
          "model_module_version": "1.2.0",
          "state": {
            "_model_module": "@jupyter-widgets/base",
            "_model_module_version": "1.2.0",
            "_model_name": "LayoutModel",
            "_view_count": null,
            "_view_module": "@jupyter-widgets/base",
            "_view_module_version": "1.2.0",
            "_view_name": "LayoutView",
            "align_content": null,
            "align_items": null,
            "align_self": null,
            "border": null,
            "bottom": null,
            "display": null,
            "flex": null,
            "flex_flow": null,
            "grid_area": null,
            "grid_auto_columns": null,
            "grid_auto_flow": null,
            "grid_auto_rows": null,
            "grid_column": null,
            "grid_gap": null,
            "grid_row": null,
            "grid_template_areas": null,
            "grid_template_columns": null,
            "grid_template_rows": null,
            "height": null,
            "justify_content": null,
            "justify_items": null,
            "left": null,
            "margin": null,
            "max_height": null,
            "max_width": null,
            "min_height": null,
            "min_width": null,
            "object_fit": null,
            "object_position": null,
            "order": null,
            "overflow": null,
            "overflow_x": null,
            "overflow_y": null,
            "padding": null,
            "right": null,
            "top": null,
            "visibility": null,
            "width": null
          }
        },
        "030b09e59d3448ff8c63a804d178b422": {
          "model_module": "@jupyter-widgets/base",
          "model_name": "LayoutModel",
          "model_module_version": "1.2.0",
          "state": {
            "_model_module": "@jupyter-widgets/base",
            "_model_module_version": "1.2.0",
            "_model_name": "LayoutModel",
            "_view_count": null,
            "_view_module": "@jupyter-widgets/base",
            "_view_module_version": "1.2.0",
            "_view_name": "LayoutView",
            "align_content": null,
            "align_items": null,
            "align_self": null,
            "border": null,
            "bottom": null,
            "display": null,
            "flex": null,
            "flex_flow": null,
            "grid_area": null,
            "grid_auto_columns": null,
            "grid_auto_flow": null,
            "grid_auto_rows": null,
            "grid_column": null,
            "grid_gap": null,
            "grid_row": null,
            "grid_template_areas": null,
            "grid_template_columns": null,
            "grid_template_rows": null,
            "height": null,
            "justify_content": null,
            "justify_items": null,
            "left": null,
            "margin": null,
            "max_height": null,
            "max_width": null,
            "min_height": null,
            "min_width": null,
            "object_fit": null,
            "object_position": null,
            "order": null,
            "overflow": null,
            "overflow_x": null,
            "overflow_y": null,
            "padding": null,
            "right": null,
            "top": null,
            "visibility": null,
            "width": null
          }
        },
        "1c62dd361a644dd1819dfa24186f1caf": {
          "model_module": "@jupyter-widgets/controls",
          "model_name": "SliderStyleModel",
          "model_module_version": "1.5.0",
          "state": {
            "_model_module": "@jupyter-widgets/controls",
            "_model_module_version": "1.5.0",
            "_model_name": "SliderStyleModel",
            "_view_count": null,
            "_view_module": "@jupyter-widgets/base",
            "_view_module_version": "1.2.0",
            "_view_name": "StyleView",
            "description_width": "",
            "handle_color": null
          }
        },
        "caa82cabdf064526bdb1d0e6aabc3491": {
          "model_module": "@jupyter-widgets/base",
          "model_name": "LayoutModel",
          "model_module_version": "1.2.0",
          "state": {
            "_model_module": "@jupyter-widgets/base",
            "_model_module_version": "1.2.0",
            "_model_name": "LayoutModel",
            "_view_count": null,
            "_view_module": "@jupyter-widgets/base",
            "_view_module_version": "1.2.0",
            "_view_name": "LayoutView",
            "align_content": null,
            "align_items": null,
            "align_self": null,
            "border": null,
            "bottom": null,
            "display": null,
            "flex": null,
            "flex_flow": null,
            "grid_area": null,
            "grid_auto_columns": null,
            "grid_auto_flow": null,
            "grid_auto_rows": null,
            "grid_column": null,
            "grid_gap": null,
            "grid_row": null,
            "grid_template_areas": null,
            "grid_template_columns": null,
            "grid_template_rows": null,
            "height": null,
            "justify_content": null,
            "justify_items": null,
            "left": null,
            "margin": null,
            "max_height": null,
            "max_width": null,
            "min_height": null,
            "min_width": null,
            "object_fit": null,
            "object_position": null,
            "order": null,
            "overflow": null,
            "overflow_x": null,
            "overflow_y": null,
            "padding": null,
            "right": null,
            "top": null,
            "visibility": null,
            "width": null
          }
        },
        "c1b707ea90aa4dd0932f63fe9a5726c3": {
          "model_module": "@jupyter-widgets/controls",
          "model_name": "VBoxModel",
          "model_module_version": "1.5.0",
          "state": {
            "_dom_classes": [
              "widget-interact"
            ],
            "_model_module": "@jupyter-widgets/controls",
            "_model_module_version": "1.5.0",
            "_model_name": "VBoxModel",
            "_view_count": null,
            "_view_module": "@jupyter-widgets/controls",
            "_view_module_version": "1.5.0",
            "_view_name": "VBoxView",
            "box_style": "",
            "children": [
              "IPY_MODEL_9840747c2f6d4180b95c4e8e5cbc0dd9",
              "IPY_MODEL_882c411272954d73bac6090d53aef6a5",
              "IPY_MODEL_32754266d8e14dd28dd07a4e30df6383",
              "IPY_MODEL_dabd0902751341188157ec309df31116",
              "IPY_MODEL_b8073f0d4d16478a9c67da2ce2fbc4d7"
            ],
            "layout": "IPY_MODEL_355a5301ba664298a19a0294ac8320c2"
          }
        },
        "9840747c2f6d4180b95c4e8e5cbc0dd9": {
          "model_module": "@jupyter-widgets/controls",
          "model_name": "IntSliderModel",
          "model_module_version": "1.5.0",
          "state": {
            "_dom_classes": [],
            "_model_module": "@jupyter-widgets/controls",
            "_model_module_version": "1.5.0",
            "_model_name": "IntSliderModel",
            "_view_count": null,
            "_view_module": "@jupyter-widgets/controls",
            "_view_module_version": "1.5.0",
            "_view_name": "IntSliderView",
            "continuous_update": true,
            "description": "charge",
            "description_tooltip": null,
            "disabled": false,
            "layout": "IPY_MODEL_95096592a18544e69968aeadff367236",
            "max": 1,
            "min": -1,
            "orientation": "horizontal",
            "readout": true,
            "readout_format": "d",
            "step": 2,
            "style": "IPY_MODEL_e9d6a3c9ec90425bbfaed4fd5bdc237e",
            "value": 1
          }
        },
        "882c411272954d73bac6090d53aef6a5": {
          "model_module": "@jupyter-widgets/controls",
          "model_name": "FloatSliderModel",
          "model_module_version": "1.5.0",
          "state": {
            "_dom_classes": [],
            "_model_module": "@jupyter-widgets/controls",
            "_model_module_version": "1.5.0",
            "_model_name": "FloatSliderModel",
            "_view_count": null,
            "_view_module": "@jupyter-widgets/controls",
            "_view_module_version": "1.5.0",
            "_view_name": "FloatSliderView",
            "continuous_update": true,
            "description": "px",
            "description_tooltip": null,
            "disabled": false,
            "layout": "IPY_MODEL_54d139eb381746e186bd009904310010",
            "max": 1,
            "min": -1,
            "orientation": "horizontal",
            "readout": true,
            "readout_format": ".2f",
            "step": 0.0001,
            "style": "IPY_MODEL_cae049f661ee4ec688ff89ae47873349",
            "value": 0.19999999999999996
          }
        },
        "32754266d8e14dd28dd07a4e30df6383": {
          "model_module": "@jupyter-widgets/controls",
          "model_name": "FloatSliderModel",
          "model_module_version": "1.5.0",
          "state": {
            "_dom_classes": [],
            "_model_module": "@jupyter-widgets/controls",
            "_model_module_version": "1.5.0",
            "_model_name": "FloatSliderModel",
            "_view_count": null,
            "_view_module": "@jupyter-widgets/controls",
            "_view_module_version": "1.5.0",
            "_view_name": "FloatSliderView",
            "continuous_update": true,
            "description": "py",
            "description_tooltip": null,
            "disabled": false,
            "layout": "IPY_MODEL_f7ddd5df7862484587c27a1cabcd1ebd",
            "max": 1,
            "min": -1,
            "orientation": "horizontal",
            "readout": true,
            "readout_format": ".2f",
            "step": 0.0001,
            "style": "IPY_MODEL_cca28332986548498b613de4ee3fdc51",
            "value": 0.19999999999999996
          }
        },
        "dabd0902751341188157ec309df31116": {
          "model_module": "@jupyter-widgets/controls",
          "model_name": "FloatSliderModel",
          "model_module_version": "1.5.0",
          "state": {
            "_dom_classes": [],
            "_model_module": "@jupyter-widgets/controls",
            "_model_module_version": "1.5.0",
            "_model_name": "FloatSliderModel",
            "_view_count": null,
            "_view_module": "@jupyter-widgets/controls",
            "_view_module_version": "1.5.0",
            "_view_name": "FloatSliderView",
            "continuous_update": true,
            "description": "t_max",
            "description_tooltip": null,
            "disabled": false,
            "layout": "IPY_MODEL_ccd649984249471aa8ff7a00d1607cc6",
            "max": 6.283185307179586,
            "min": 0,
            "orientation": "horizontal",
            "readout": true,
            "readout_format": ".2f",
            "step": 0.0001,
            "style": "IPY_MODEL_9d2ee65360a348678f0f260d4aa186db",
            "value": 3.1416000000000004
          }
        },
        "b8073f0d4d16478a9c67da2ce2fbc4d7": {
          "model_module": "@jupyter-widgets/output",
          "model_name": "OutputModel",
          "model_module_version": "1.0.0",
          "state": {
            "_dom_classes": [],
            "_model_module": "@jupyter-widgets/output",
            "_model_module_version": "1.0.0",
            "_model_name": "OutputModel",
            "_view_count": null,
            "_view_module": "@jupyter-widgets/output",
            "_view_module_version": "1.0.0",
            "_view_name": "OutputView",
            "layout": "IPY_MODEL_5cd16feed88443ce98f6db9f58e4b3a9",
            "msg_id": "",
            "outputs": [
              {
                "output_type": "display_data",
                "data": {
                  "text/html": "<html>\n<head><meta charset=\"utf-8\" /></head>\n<body>\n    <div>            <script src=\"https://cdnjs.cloudflare.com/ajax/libs/mathjax/2.7.5/MathJax.js?config=TeX-AMS-MML_SVG\"></script><script type=\"text/javascript\">if (window.MathJax && window.MathJax.Hub && window.MathJax.Hub.Config) {window.MathJax.Hub.Config({SVG: {font: \"STIX-Web\"}});}</script>                <script type=\"text/javascript\">window.PlotlyConfig = {MathJaxConfig: 'local'};</script>\n        <script charset=\"utf-8\" src=\"https://cdn.plot.ly/plotly-2.24.1.min.js\"></script>                <div id=\"35646388-d4f5-4fb9-af9f-469e732b684e\" class=\"plotly-graph-div\" style=\"height:500px; width:500px;\"></div>            <script type=\"text/javascript\">                                    window.PLOTLYENV=window.PLOTLYENV || {};                                    if (document.getElementById(\"35646388-d4f5-4fb9-af9f-469e732b684e\")) {                    Plotly.newPlot(                        \"35646388-d4f5-4fb9-af9f-469e732b684e\",                        [{\"type\":\"scatter\",\"uid\":\"d5094a26-d73f-4dbe-96d9-369bcdee2bf5\",\"x\":[0.0,0.12189791793044691,0.24341068850944936,0.36453711004725164,0.48527598467482136,0.6056261183557865,0.7255863208981523,0.8451554059661248,0.9643321910918488,1.0831154976870678,1.2015041510547846,1.3194969804009347,1.437092818845862,1.5542905034359649,1.671088875155128,1.7874867789361986,1.9034830636724323,2.0190765822288483,2.134266191453591,2.249050752189241,2.36342912928405,2.477400191603195,2.5909628120399546,2.7041158675268804,2.81685823904683,2.9291888116441456,3.0411064744355656,3.152610120621283,3.263698647495879,3.3743709564592166,3.4846259530273045,3.5944625468431255,3.703879651687423,3.8128761854894364,3.9214510703376035,4.029603232490224,4.137331602386084,4.244635114655011,4.351512708128446,4.457963325849882,4.563985915085382,4.669579427333943,4.7747428183378915,4.879475048093191,4.983775080859743,5.087641885171607,5.191074433847241,5.29407170399962,5.396632677046362,5.498756338719822,5.6004416790771,5.701687692510049,5.802493377755162,5.902857737903574,6.00277978041084,6.102258517106783,6.20129296420523,6.2998821423138125,6.398025076443595,6.495720796018723,6.592968334886045,6.689766731324639,6.786115028055335,6.882012272250215,6.977457515541964,7.07244981403332,7.1669882283063515,7.261071823431813,7.354699668978313,7.447870839021583,7.540584412153592,7.632839471491664,7.724635104687593,7.815970403936582,7.906844465986282,7.997256392145729,8.087205288294179,8.176690264889999,8.265710436979447,8.354264924205431,8.442352850816178,8.529973345673966,8.617125542263672,8.703808578701363,8.79002159774285,8.87576374679211,8.961034177909767,9.045832047821456,9.130156517926139,9.214006754304464,9.297381927726946,9.380281213662187,9.462703792285062,9.544648848484776,9.626115571872965,9.707103156791682,9.787610802321389,9.867637712288868,9.94718309527508,10.02624616462301,10.10482613844544,10.182922239632688,10.260533695860289,10.337659739596617,10.414299608110504,10.49045254347876,10.566117792593687,10.6412946071705,10.715982243754766,10.79017996372972,10.863887033323586,10.937102723616832,11.009826310549379,11.082057074927768,11.153794302432246,11.225037283623863,11.295785313951477,11.366037693758706,11.435793728290875,11.505052727701859,11.573814007060918,11.642076886359483,11.70984069051785,11.777104749391896,11.843868397779673,11.910130975427982,11.975891827038957,12.04115030227647,12.105905755772625,12.170157547134096,12.233905040948478,12.29714760679061,12.359884619228716,12.4221154578307,12.483839507170167,12.545056156832622,12.60576480142143,12.66596484056383,12.72565567891688,12.784836726173317,12.84350739706742,12.901667111380789,12.959315293948094,13.01645137466273,13.0730747884825,13.129184975435173,13.184781380624024,13.239863454233337,13.294430651533816,13.348482432888012,13.402018263755622,13.455037614698789,13.507539961387344,13.559524784603987,13.610991570249404,13.661939809347395,13.712368998049854,13.762278637641806,13.811668234546268,13.860537300329227,13.90888535170437,13.95671191053794,14.004016503853407,14.050798663836211,14.097057927838307,14.142793838382815,14.188005943168498,14.232693795074255,14.276856952163534,14.320494977688718,14.3636074400954,14.406193913026726,14.448253975327539,14.489787211048572,14.530793209450586,14.571271565008388,14.61122187741487,14.650643751584958,14.689536797659521,14.727900631009227,14.765734872238347,14.803039147188514,14.839813086942392,14.876056327827378,14.91176851141914,14.946949284545212,14.981598299288464,15.015715212990521,15.049299688255203,15.082351392951807,15.114870000218438,15.14685518846521,15.178306641377425,15.209224047918752,15.239607102334219,15.26945550415332,15.298768958192916,15.327547174560202,15.35578986865557,15.383496761175394,15.410667578114811,15.437302050770448,15.463399915743032,15.488960914940051,15.513984795578274,15.538471310186239,15.56242021660674,15.585831277999183,15.608704262841954,15.631038944934694,15.652835103400562,15.674092522688355,15.694810992574723,15.714990308166193,15.734630269901217,15.75373068355212,15.772291360227065,15.790312116371894,15.807792773771915,15.824733159553723,15.841133106186888,15.856992451485581,15.872311038610214,15.887088716068973,15.901325337719328,15.91502076276948,15.92817485577973,15.940787486663837,15.952858530690314,15.96438786848364,15.97537538602544,15.985820974655653,15.995724531073542,16.005085957338757,16.013905160872326,16.022182054457495,16.02991655624067,16.037108589732178,16.04375808380705,16.049864972705684,16.05542919603456,16.060450698766772,16.064929431242632,16.068865349170096,16.072258413625256,16.07510859105271,16.077415853265876,16.079180177447284,16.080401546148806,16.08107994729184,16.08121537416738,16.08080782543614,16.07985730512854,16.07836382264467,16.076327392754173,16.073748035596168,16.07062577667896,16.066960646879856,16.062752682444838,16.058001924988204,16.052708421492127,16.04687222430625,16.040493391147137,16.033571985097687,16.026108074606526,16.01810173348735,16.009553040918135,16.000462081440446,15.990828944958494,15.980653726738353,15.969936527406936,15.958677452951022,15.946876614716238,15.934534129405932,15.921650119080013,15.908224711153771,15.894258038396565,15.879750238930583,15.864701456229419,15.849111839116674,15.83298154176449,15.816310723692013,15.799099549763802,15.781348190188268,15.763056820515871,15.744225621637518,15.724854779782682,15.704944486517569,15.684494938743264,15.663506338693765,15.64197889393396,15.619912817357623,15.597308327185246,15.574165646961944,15.550485005555188,15.526266637152588,15.501510781259555,15.476217682696927,15.45038759159857,15.424020763408869,15.397117458880238,15.369677944070517,15.34170249034036,15.313191374350545,15.284144878059216,15.254563288719126,15.224446898874781,15.193796006359548,15.162610914292713,15.130891931076476,15.098639370392924,15.065853551200881,15.0325347977328,14.998683439491543,14.964299811247123,14.929384253033383,14.893937110144634,14.857958733132257,14.821449477801217,14.78440970520657,14.746839781649854,14.708740078675511,14.670110973067153,14.630952846843925,14.591266087256614,14.551051086783929,14.510308243128563,14.469037959213232,14.427240643176766,14.384916708370021,14.34206657335178,14.298690661884677,14.254789402930925,14.210363230648142,14.165412584385017,14.119937908676995,14.073939653241837,14.027418272975211,13.980374227946193,13.932807983392692,13.884720009716858,13.836110782480468,13.786980782400143,13.737330495342668,13.687160412320168,13.636471029485215,13.585262848125986,13.533536374661239,13.481292120635345,13.42853060271323,13.375252342675253,13.321457867412043,13.267147708919282,13.212322404292479,13.156982495721621,13.101128530485838,13.044761060947948,12.987880644549065,12.930487843803014,12.872583226290814,12.814167364655042,12.755240836594204,12.695804224856943,12.635858117236388,12.575403106564245,12.51443979070499,12.452968772549923,12.390990660011234,12.328506066015976,12.265515608500003,12.202019910401852,12.138019599656609,12.073515309189666,12.008507676910504,11.942997345706317,11.876984963435739,11.810471182922363,11.743456661948322,11.675942063247788,11.607928054500391,11.539415308324656,11.470404502271307,11.400896318816585,11.330891445355519,11.2603905741951,11.189394402547435,11.11790363252289,11.045918971123072,10.973441130233923,10.900470826618623,10.827008781910529,10.753055722606014,10.678612380057295,10.603679490465225,10.528257794871969,10.452348039153698,10.375950974013207,10.2990673549725,10.221697942365331,10.14384350132962,10.065504801799982,9.98668261850004,9.907377730934776,9.827590923382857,9.74732298488884,9.666574709255386,9.585346895035421,9.50364034552419,9.421455868751394,9.338794277473127,9.255656389163853,9.172043026008382,9.087955014893623,9.003393187400519,8.918358379795777,8.832851433023585,8.7468731926973,8.66042450909113,8.573506237131653,8.486119236389435,8.39826437107044,8.309942510007602,8.221154526652121,8.1319012990649,8.04218370990781,7.952002646434998,7.8613590004841,7.770253668467426,7.678687551363069,7.586661554706033,7.494176588579251,7.4012335676046135,7.307833410933867,7.213977042239584,7.1196653897060145,7.024899386019889,6.929679968361185,6.8340080783939,6.737884662256704,6.641310670553615,6.544287058344565,6.446814785135949,6.34889481487118,6.250528115921128,6.15171566107454,6.052458427528428,5.952757396878411,5.852613555108981,5.752027892583811,5.65100140403586,5.549535088557654,5.447629949591317,5.345286994918702,5.24250723665137,5.139291691220642,5.03564137936749,4.931557326132506,4.827040560845688,4.72209211711634,4.61671303282278,4.5109043501021375,4.404667115339983,4.298002379160039,4.190911196413758,4.0833946261699055,3.9754537317040786,3.8670895804881624,3.758303244179835,3.6490957986119383,3.5394683237818185,3.4294219038406624,3.3189576270827885,3.208076585934876,3.096779876945156,2.98506860077255,2.8729438621758376,2.7604067700026746,2.6474584371786634,2.5340999806963325,2.420332521604074,2.3061571849950937,2.1915750999962853,2.0765873997570026,1.9611952214379045,1.8453997061997285,1.7292019991919574,1.6126032495415075,1.4956046103413811,1.3782072386392414,1.2604122954260077,1.1422209456243166,1.0236343580770466,0.9046537055357433,0.7852801646490306,0.6655149159509506,0.5453591438493248,0.42481403661399497,0.30388078636512716,0.1825605890613815,0.06085464448808153,-0.06123584375460922,-0.18370966826363855,-0.30656561784496006,-0.42980247752556977,-0.5534190285654574,-0.6774140484697,-0.8017863110005266,-0.9265345861894971,-1.051657640349589,-1.1771542360874463,-1.3030231323156087,-1.4292630842647895,-1.555872843496175,-1.6828511579137668,-1.8101967717767877,-1.9379084257120596,-2.06598485672653,-2.1944247982196643,-2.3232269799960577,-2.4523901282779406,-2.5819129657178266,-2.7117942114110747,-2.8420325809086293,-2.972626786229668,-3.103575535874384,-3.234877534836734,-3.3665314846172123,-3.49853608323577,-3.630890025244632,-3.763592001741223,-3.8966407003810914,-4.030034805390933,-4.1637729975815745,-4.297853954361031,-4.432276349747539,-4.567038854382744,-4.702140135544816,-4.837578857161596,-4.973353679823859,-5.109463260798535,-5.245906254041962,-5.382681310213286,-5.519787076687692,-5.657222197569865,-5.794985313707343,-5.933075062704027,-6.071490078933579,-6.2102289935529456,-6.349290434515943,-6.488673026586774,-6.628375391353657,-6.768396147242427,-6.908733909530227,-7.049387290359213,-7.190354898750236,-7.331635340616629,-7.473227218777968,-7.615129132973955,-7.757339679878168,-7.899857453112016,-8.042681043258604,-8.185809037876705,-8.32924002151471,-8.472972575724608,-8.617005279076054,-8.761336707170376,-8.905965432654735,-9.05089002523616,-9.196109051695736,-9.341621075902765,-9.487424658829003,-9.633518358562831,-9.779900730323554,-9.92657032647567,-10.073525696543228,-10.220765387224116,-10.368287942404471,-10.51609190317303,-10.664175807835665,-10.8125381919297,-10.961177588238506,-11.110092526805921,-11.25928153495089,-11.408743137281935,-11.55847585571178,-11.70847820947197,-11.858748715127547,-12.009285886591648,-12.160088235140268,-12.311154269426947,-12.462482495497511,-12.614071416804915,-12.76591953422394,-12.918025346066088,-13.07038734809441,-13.223004033538409,-13.3758738931089,-13.528995415012943,-13.682367084968824,-13.835987386221017,-13.989854799555168,-14.143967803313128,-14.298324873408,-14.452924483339235,-14.607765104207687,-14.762845204730766,-14.918163251257546,-15.073717707784002,-15.229507035968112,-15.38552969514512,-15.54178414234276,-15.698268832296549,-15.854982217465004,-16.011922748044995,-16.169088871987046,-16.326479035010728,-16.484091680619958,-16.641925250118454,-16.79997818262512,-16.95824891508948,-17.11673588230717,-17.275437516935376,-17.434352249508336,-17.59347850845289,-17.75281472010402,-17.912359308720376,-18.07211069649989,-18.232067303595365,-18.39222754813013,-18.55258984621364,-18.713152611957153,-18.873914257489425,-19.034873192972434,-19.196027826617044,-19.35737656469879,-19.51891781157362,-19.680649969693718,-19.842571439623192,-20.004680620054074,-20.166975907821975,-20.329455697922022,-20.49211838352474,-20.65496235599192,-20.817986004892525,-20.981187718018635,-21.144565881401373,-21.308118879326845,-21.471845094352233,-21.635742907321614,-21.799810697382096,-21.964046841999817,-22.12844971697598,-22.293017696462922,-22.457749152980202,-22.62264245743066,-22.78769597911662,-22.952908085755887,-23.118277143497984,-23.28380151694026,-23.44947956914411,-23.61530966165111,-23.78129015449927,-23.94741940623919,-24.113695773950408,-24.280117613257502,-24.44668327834644,-24.613391121980847,-24.780239495518273,-24.947226748926525,-25.114351230799958,-25.281611288375828,-25.44900526755059,-25.616531512896376,-25.78418836767721,-25.951974173865487,-26.11988727215835,-26.287926001994094,-26.456088701568596,-26.62437370785175,-26.792779356603873,-26.96130398239228,-27.129945918607596,-27.298703497480343,-27.467575050097405,-27.63655890641853,-27.80565339529285,-27.974856844475404,-28.144167580643657,-28.31358392941414,-28.483104215358864,-28.65272676202199,-28.822449891936373,-28.99227192664017,-29.162191186693416,-29.332205991694657,-29.502314660297543,-29.672515510227452,-29.842806858298218,-30.013187020428617,-30.183654311659147,-30.354207046168632,-30.524843537290934,-30.695562097531585,-30.86636103858453,-31.037238671348746,-31.20819330594508,-31.379223251732814,-31.550326817326443,-31.721502310612436,-31.892748038765916,-32.06406230826744,-32.235443424919715,-32.40688969386437,-32.57839941959876,-32.74997090599264,-32.921602456304996,-33.09329237320083,-33.265038958767924,-33.43684051453365,-33.60869534148175,-33.78060174006913,-33.9525580102427,-34.1245624514562,-34.296613362686934,-34.468709042452666,-34.64084778882843,-34.81302789946335,-34.985247671597484,-35.157505402078655,-35.329799387379296,-35.502127923613344,-35.674489306553006,-35.846881831645646,-36.019303794030684,-36.1917534885564,-36.36422920979683,-36.53672925206861,-36.70925190944784,-36.88179547578705,-37.0543582447319,-37.22693850973819,-37.399534564088675,-37.57214470090999,-37.744767213189476,-37.9174003937921,-38.09004253547733,-38.262691930915985,-38.435346872707214,-38.60800565339526,-38.780666565486406,-38.95332790146587,-39.12598795381468,-39.298645015026544,-39.471297377624765,-39.643943334179085,-39.81658117732266,-39.98920919976883,-40.16182569432806,-40.33442895392483,-40.50701727161451,-40.67958894060021,-40.852142254249735,-41.024675506112345,-41.19718698993579,-41.36967499968301,-41.54213782954914,-41.7145737739783,-41.8869811276805,-42.059358185648506,-42.23170324317467,-42.404014595867835,-42.576290539670126,-42.748529370873904,-42.92072938613851,-43.09288888250714,-43.26500615742373,-43.43707950874973,-43.60910723478099,-43.78108763426458,-43.95301900641553,-44.12489965093385,-44.2967278680211,-44.46850195839736,-44.640220223317996,-44.81188096459045,-44.98348248459103,-45.15502308628171,-45.32650107322691,-45.4979147496103,-45.66926242025152,-45.840542390622964,-46.01175296686654,-46.18289245581044,-46.35395916498585,-46.524951402643715,-46.69586747777146,-46.86670570010969,-47.037464380168984,-47.2081418292465,-47.378736359442726,-47.54924628367817,-47.71966991571008,-47.89000557014903,-48.060251562475656,-48.23040620905731,-48.40046782716472,-48.57043473498858,-48.74030525165621,-48.91007769724821,-49.07975039281501,-49.249321660393534,-49.418789823023765,-49.5881532047653,-49.75741013071404,-49.9265589270186,-50.095597920896935,-50.26452544065292,-50.433339815692804,-50.6020393765418,-50.77062245486056,-50.939087383461654,-51.1074324963261,-51.275656128619865,-51.443756616710225,-51.611732298182304,-51.77958151185548,-51.947302597799855,-52.1148938973526,-52.282353753134416,-52.449680509065885,-52.61687251038393,-52.78392810365804,-52.95084563680675,-53.1176234591139,-53.28425992124501,-53.450753375263545,-53.61710217464726,-53.78330467430442,-53.94935923059019,-54.115264201322724,-54.28101794579952,-54.44661882481362,-54.61206520066981,-54.77735543720082,-54.9424878997835,-55.10746095535501,-55.27227297242891,-55.43692232111141,-55.601407373117354,-55.76572650178639,-55.92987808209908,-56.093860490692904,-56.25767210587837,-56.42131130765504,-56.5847764777275,-56.748065999521486,-56.91117825819973,-57.074111640678005,-57.23686453564106,-57.399435333558586,-57.56182242670107,-57.72402420915574,-57.88603907684245,-58.047865427529565,-58.209501660849696,-58.37094617831565,-58.5321973833362,-58.69325368123181,-58.85411347925053,-59.01477518658362,-59.17523721438137,-59.33549797576882,-59.49555588586133,-59.655409361780414,-59.81505682266927,-59.9744966897085,-60.13372738613167,-60.29274733724091,-60.45155497042252,-60.61014871516247,-60.768527003062005,-60.92668826785308,-61.084630945413885,-61.242353473784306,-61.39985429318138,-61.55713184601471,-61.71418457690189,-61.87101093268383,-62.02760936244023,-62.183978317504774,-62.340116251480545,-62.49602162025529,-62.651692882016675,-62.80712849726756,-62.96232692884121,-63.117286641916465,-63.272006104033025,-63.426483785106456,-63.58071815744343,-63.734707695756796,-63.88845087718066,-64.04194618128545,-64.19519209009297,-64.34818708809141,-64.50092966225023,-64.65341830203536,-64.80565149942389,-64.9576277489191,-65.10934554756533,-65.26080339496288,-65.41199979328277,-65.56293324728166,-65.71360226431648,-65.86400535435939,-66.01414103001235,-66.1640078065219,-66.31360420179384,-66.46292873640786,-66.61197993363226,-66.76075631943837,-66.90925642251534,-67.05747877428459,-67.20542190891429,-67.35308436333392,-67.50046467724873,-67.64756139315418,-67.7943730563503,-67.94089821495619,-68.0871354199243,-68.23308322505468,-68.37874018700956,-68.52410486532723,-68.66917582243664,-68.8139516236714,-68.95843083728406,-69.10261203446024,-69.24649378933279,-69.39007467899579,-69.53335328351884,-69.67632818596083,-69.81899797238415,-69.96136123186861,-70.10341655652533,-70.24516254151081,-70.38659778504068,-70.52772088840362,-70.66853045597523,-70.80902509523179,-70.94920341676399,-71.08906403429074,-71.22860556467288,-71.36782662792682,-71.50672584723816,-71.64530184897541,-71.78355326270346,-71.92147872119726,-72.05907686045518,-72.1963463197126,-72.3332857414554,-72.4698937714333,-72.60616905867329,-72.742110255493,-72.87771601751402,-73.01298500367517,-73.14791587624583,-73.28250730083906,-73.41675794642492,-73.55066648534356,-73.68423159331832,-73.81745194946893,-73.95032623632447,-74.08285313983649,-74.2150313493919,-74.34685955782601,-74.47833646143545,-74.60946075999102,-74.74023115675061,-74.87064635847197,-75.00070507542551,-75.13040602140708,-75.25974791375069,-75.38872947334113,-75.51734942462673,-75.64560649563188,-75.77349941796962,-75.90102692685426,-76.02818776111377,-76.15498066320237,-76.28140437921292,-76.40745765888923,-76.53313925563862,-76.65844792654406,-76.78338243237654,-76.90794153760736,-77.03212401042028,-77.1559286227237,-77.27935415016299,-77.40239937213224,-77.52506307178666,-77.64734403605448],\"y\":[7.105427357601002e-15,0.1222818597832358,0.24494645212363508,0.36799256394058943,0.4914189783804801,0.6152244748287288,0.7394078289218484,0.8639678125595722,0.9889031939169755,1.1142127374566826,1.2398952039410744,1.3659493504445237,1.492373930365737,1.6191676934400405,1.7463293857517428,1.8738577497465556,2.0017515242440425,2.130009444450046,2.258630241969236,2.3876126448176365,2.5169553774352096,2.64665716069846,2.776716711933105,2.9071327449267415,3.037903969941567,3.169029093727147,3.30050681953319,3.4323358471223813,3.564514872783242,3.697042589343006,3.829917686180579,3.9631388492394635,4.096704761040769,4.230614100696258,4.36486554392139,4.4994577630484045,4.634389427039494,4.769659201499913,4.905265748691235,5.04120772754451,5.177483793673616,5.314092599388452,5.451032793708357,5.588303022375413,5.7259019278678664,5.863828149413521,6.002080323003256,6.1406570814044485,6.279557054174518,6.418778867674504,6.558321145082637,6.6981825064079175,6.838361568503803,6.978856945081905,7.119667246725637,7.26079108090401,7.4022270519853635,7.543973761251209,7.686029806910025,7.828393784111146,7.971064284958626,8.114039898525206,8.257319210866221,8.400900805033622,8.544783261089943,8.688965156122414,8.833445064256935,8.978221556672288,9.123293201614167,9.268658564409403,9.414316207480127,9.560264690357993,9.706502569698412,9.853028399294839,9.999840730093059,10.146938110205564,10.294319084925842,10.4419821967428,10.589925985355183,10.738148987686017,10.88664973789706,11.03542676740329,11.184478604887477,11.333803776314678,11.483400804946857,11.633268211357443,11.783404513446015,11.933808226452925,12.084477862973976,12.235411932975158,12.386608943807364,12.53806740022116,12.689785804381561,12.84176265588286,12.993996451763458,13.146485686520716,13.299228852125879,13.452224438038936,13.605470931223607,13.758966816162282,13.912710574871014,14.066700686914523,14.220935629421252,14.37541387709841,14.530133902247051,14.685094174777209,14.840293162223002,14.995729329757797,15.151401140209398,15.307307054075231,15.463445529537584,15.61981502247884,15.776413986496763,15.933240872919775,16.09029413082229,16.24757220704003,16.405073546185406,16.56279659066288,16.720739780684383,16.878901554284745,17.037280347337123,17.19587459356848,17.354682724575078,17.513703169837978,17.672934356738587,17.832374710574193,17.99202265457355,18.15187660991247,18.311934995729427,18.472196229141208,18.632658725258544,18.79332089720181,18.95418115611669,19.11523791118992,19.27648956966499,19.43793453685792,19.59957121617302,19.761398009118672,19.92341331532316,20.08561553255046,20.248003056716136,20.410574281903163,20.57332760037781,20.736261402605564,20.89937407726703,21.06266401127387,21.22612958978476,21.389769196221348,21.553581212284254,21.717564017969057,21.881715991582343,22.04603550975772,22.210520947471874,22.375170678060652,22.53998307323514,22.70495650309776,22.870089336158397,23.03537993935055,23.200826678047434,23.36642791607821,23.532182015744095,23.698087337834625,23.864142241643815,24.030345084986422,24.19669422421415,24.36318801423194,24.529824808514206,24.696602959121147,24.863520816715024,25.03057673057648,25.197769048620863,25.365096117414566,25.53255628219137,25.700147886868823,25.8678692740646,26.03571878511292,26.203694760080907,26.37179553778506,26.540019455807624,26.708364850513092,26.876830057064595,27.0454134094404,27.214113240450395,27.382927881752547,27.55185566386944,27.720894916204728,27.890043967059718,28.05930114364987,28.228664772121327,28.398133177567505,28.567704684045633,28.73737761459332,28.907150291245173,29.077021035049334,29.246988166084165,29.417050003474763,29.587204865409685,29.75745106915749,29.927786931083446,30.098210766666142,30.26872089051416,30.43931561638275,30.60999325719049,30.78075212503597,30.951590531214524,31.12250678623486,31.29349919983583,31.464566081003113,31.63570573798595,31.806916478313887,31.978196608813466,32.14954443562503,32.32095826421943,32.4924363994148,32.663977145393325,32.83557880571801,33.007239683349425,33.17895808066257,33.35073229946354,33.52256064100645,33.69444140601013,33.866372894675,34.03835340669985,34.210381241298634,34.38245469721734,34.55457207275078,34.72673166575942,34.89893177368622,35.07117069357349,35.243446722079696,35.41575815549631,35.58810328976471,35.760480420492954,35.932887842972676,36.10532385219598,36.27778674287221,36.45027480944491,36.62278634610863,36.79531964682583,36.96787300534371,37.140444715211146,37.313033069795495,37.48563636229953,37.65825288577828,37.830880933155946,38.00351879724275,38.176164770751846,38.34881714631617,38.52147421650537,38.69413427384264,38.86679561082167,39.03945651992345,39.21211529363324,39.38477022445739,39.55741960494027,39.73006172768114,39.90269488535103,40.075317370709634,40.24792747662216,40.42052349607629,40.59310372219898,40.76566644827339,40.938209967755725,41.11073257429215,41.28323256173563,41.45570822416285,41.628157855891004,41.80057975149478,41.9729722058231,42.14533351401608,42.31766197152184,42.48995587411336,42.662213517905386,42.834433199371205,43.006613215359536,43.178751863111394,43.35084744027686,43.52289824493199,43.69490257559559,43.8668587312461,44.03876501133834,44.21061971582041,44.382421145150424,44.55416760031338,44.72585738283794,44.89748879481321,45.06906013890557,45.2405697183754,45.41201583709393,45.58339679955997,45.75471091091667,45.92595647696832,46.09713180419707,46.268235199779696,46.43926497160433,46.61021942828721,46.78109687918939,46.951895634433455,47.12261400492027,47.29325030234563,47.46380283921701,47.6342699288702,47.80464988548604,47.97494102410704,48.14514166065409,48.31525011194307,48.485264695701545,48.65518373058534,48.82500553619524,48.99472843309354,49.1643507428207,49.33387078791192,49.50328689191374,49.67259737940063,49.8418005759915,50.010894808366366,50.179878404282796,50.3487496925925,50.51750700325783,50.68614866736833,50.85467301715721,51.02307838601786,51.19136310852029,51.35952552042767,51.527563958712726,51.69547676157423,51.86326226845339,52.0309188200503,52.19844475834038,52.3658384265907,52.53309816937641,52.70022233259711,52.86720926349321,53.03405731066225,53.200764824075264,53.36733015509308,53.53375165648259,53.70002768243316,53.86615658857273,54.032136731984224,54.19796647122171,54.36364416632671,54.529168178844316,54.6945368718395,54.859748609913204,55.02480175921862,55.18969468747724,55.354425763995074,55.51899335967873,55.68339584705157,55.847631600269764,56.011698995138396,56.175596409127486,56.339322221388116,56.502874812768354,56.66625256582936,56.82945386486131,56.992477095899446,57.15532064673996,57.31798290695599,57.480462267913545,57.64275712278736,57.80486586657689,57.96678689612206,58.12851861011921,58.290059409136866,58.45140769563165,58.61256187396397,58.77352035041386,58.93428153319674,59.09484383247914,59.25520566039444,59.41536543105855,59.57532156058561,59.73507246710366,59.89461657077028,60.0539522937882,60.213078060420884,60.371992297008205,60.530693431981874,60.68917989588111,60.84745012136805,61.00550254324335,61.163335598461586,61.320947726146755,61.47833736760768,61.63550296635345,61.79244296810882,61.94915582082956,62.10563997471779,62.26189388223733,62.41791599812904,62.57370477942602,62.72925868546893,62.88457617792119,63.039655720784246,63.1944957804127,63.349094825529505,63.503451327241095,63.65756375905255,63.81143059688263,63.965050319078884,64.11842140643266,64.27154234219422,64.42441161208764,64.5770277043258,64.72938910962539,64.88149432122181,65.03334183488406,65.1849301489296,65.33625776423922,65.4873231842719,65.63812491507956,65.78866146532187,65.93893134628091,66.08893307187604,66.2386651586785,66.38812612592608,66.5373144955378,66.68622879212849,66.83486754302342,66.98322927827283,67.13131253066652,67.27911583574824,67.42663773183037,67.57387676000815,67.72083146417427,67.8675003910332,68.01388209011562,68.15997511379265,68.30577801729034,68.45128935870373,68.59650769901137,68.7414316020893,68.88605963472548,69.03039036663377,69.17442237046819,69.31815422183703,69.46158449931686,69.60471178446666,69.74753466184185,69.89005171900823,70.03226154655601,70.17416273811372,70.31575389036205,70.4570336030479,70.59800047899806,70.7386531241331,70.87899014748115,71.01901016119167,71.15871178054914,71.29809362398679,71.43715431310021,71.57589247266105,71.7143067306306,71.8523957181733,71.99015806967034,72.1275924227332,72.264697418217,72.40147170023403,72.53791391616716,72.67402271668318,72.8097967557462,72.94523469063088,73.08033518193577,73.21509689359652,73.34951849289916,73.48359865049318,73.61733604040474,73.75072934004979,73.88377723024709,74.01647839523137,74.1488315226662,74.28083530365703,74.4124884327642,74.54378960801577,74.6747375309204,74.80533090648015,74.93556844320351,75.06544885311784,75.19497085178236,75.32413315830073,75.45293449533378,75.5813735891121,75.70944916944867,75.83715996975138,75.96450472703559,76.09148218193661,76.21809107872217,76.34433016530478,76.47019819325419,76.59569391780973,76.72081609789251,76.84556349611785,76.96993487880738,77.0939290160014,77.2175446814708,77.34078065272948,77.46363571104618,77.58610864145672,77.70819823277589,77.82990327760953,77.95122257236633,78.07215491726996,78.19269911637063,78.31285397755722,78.43261831256888,78.55199093700682,78.67097067034604,78.78955633594704,78.90774676106737,79.02554077687333,79.1429372184514,79.2599349248199,79.37653273894037,79.49272950772908,79.60852408206839,79.7239153168181,79.83890207082682,79.95348320694325,80.06765759202742,80.18142409696183,80.29478159666274,80.4077289700912,80.52026510026417,80.63238887426556,80.74409918325725,80.85539492249005,80.9662749913146,81.0767382931923,81.18678373570611,81.29641023057137,81.4056166936466,81.51440204494415,81.62276520864093,81.73070511308904,81.83822069082635,81.94531087858712,82.0519746173124,82.15821085216061,82.26401853251791,82.36939661200864,82.47434404850563,82.57885980414048,82.6829428453139,82.78659214270591,82.88980667128595,82.99258541032307,83.09492734339607,83.19683145840345,83.29829674757352,83.39932220747428,83.4999068390234,83.60004964749808,83.69974964254493,83.79900583818963,83.89781725284686,83.9961829093299,84.0941018348603,84.19157306107752,84.28859562404853,84.38516856427725,84.4812909267142,84.57696176076576,84.67218012030371,84.76694506367451,84.86125565370868,84.95511095773,85.04851004756472,85.14145199955085,85.2339358945472,85.32596081794247,85.41752585966435,85.50863011418846,85.59927268054737,85.68945266233945,85.77916916773776,85.86842130949887,85.95720820497164,86.04552897610593,86.1333827494613,86.22076865621565,86.30768583217383,86.39413341777609,86.48011055810673,86.5656164029024,86.65065010656068,86.73521082814824,86.81929773140935,86.90290998477403,86.98604676136631,87.06870723901241,87.15089060024887,87.2325960323306,87.313822727239,87.39456988168986,87.47483669714134,87.55462237980191,87.63392614063811,87.71274719538243,87.79108476454105,87.86893807340152,87.94630635204042,88.02318883533104,88.09958476295088,88.17549337938917,88.25091393395437,88.32584568078163,88.40028787884003,88.4742397919401,88.54770068874089,88.62066984275745,88.69314653236773,88.76513004081998,88.83661965623963,88.90761467163652,88.97811438491169,89.0481180988645,89.11762512119944,89.18663476453293,89.25514634640024,89.32315918926216,89.39067262051168,89.45768597248076,89.52419858244676,89.59020979263914,89.65571895024587,89.72072540741993,89.78522852128575,89.84922765394549,89.91272217248542,89.9757114489821,90.03819486050867,90.100171789141,90.1616416219637,90.22260375107633,90.28305757359934,90.34300249167997,90.40243791249829,90.46136324827296,90.51977791626713,90.57768133879408,90.63507294322305,90.69195216198489,90.74831843257755,90.80417119757183,90.85950990461677,90.91433400644512,90.96864296087878,91.02243623083416,91.07571328432749,91.12847359448006,91.18071663952347,91.23244190280477,91.28364887279153,91.33433704307697,91.38450591238491,91.43415498457479,91.48328376864649,91.53189177874526,91.57997853416651,91.6275435593605,91.67458638393717,91.72110654267064,91.76710357550394,91.8125770275535,91.85752644911364,91.90195139566102,91.94585142785908,91.98922611156237,92.03207501782077,92.07439772288382,92.11619380820488,92.15746286044529,92.19820447147842,92.23841823839368,92.27810376350062,92.31726065433274,92.35588852365144,92.39398698944984,92.43155567495654,92.46859420863935,92.50510222420897,92.54107936062262,92.5765252620876,92.6114395780648,92.6458219632722,92.67967207768825,92.71298958655524,92.74577416038261,92.77802547495023,92.80974321131158,92.84092705579693,92.8715767000164,92.90169184086307,92.93127218051589,92.96031742644274,92.98882729140323,93.01680149345157,93.04423975593939,93.07114180751839,93.09750738214316,93.12333621907364,93.14862806287786,93.17338266343438,93.19759977593475,93.22127916088601,93.24442058411296,93.26702381676054,93.28908863529612,93.3106148215116,93.33160216252568,93.35205045078592,93.37195948407077,93.39132906549162,93.4101590034947,93.42844911186302,93.44619920971819,93.46340912152215,93.48007867707904,93.49620771153673,93.51179606538858,93.52684358447497,93.54135011998477,93.5553155284569,93.56873967178167,93.58162241720221,93.59396363731577,93.60576321007491,93.61702101878883,93.62773695212442,93.63791090410743,93.64754277412342,93.6566324669189,93.66517989260214,93.67318496664413,93.68064760987943,93.68756774850685,93.69394531409031,93.69978024355947,93.70507247921026,93.70982196870563,93.71402866507589,93.71769252671929,93.72081351740242,93.7233916062605,93.72542676779777,93.72691898188766,93.72786823377305,93.72827451406641,93.72813781874987,93.72745814917525,93.72623551206411,93.72446991950757,93.72216138896633,93.71930994327039,93.71591561061885,93.71197842457971,93.70749842408938,93.70247565345245,93.69691016234117,93.69080200579492,93.68415124421983,93.67695794338802,93.66922217443695,93.66094401386887,93.65212354354989,93.64276085070927,93.63285602793854,93.62240917319056,93.61142038977857,93.59988978637519,93.58781747701127,93.57520358107487,93.56204822331,93.54835153381536,93.53411364804319,93.51933470679779,93.50401485623419,93.48815424785668,93.47175303851736,93.45481139041452,93.43732947109109,93.41930745343296,93.4007455156673,93.38164384136071,93.36200261941754,93.3418220440779,93.32110231491578,93.29984363683714,93.27804622007777,93.2557102802013,93.23283603809702,93.20942371997772,93.18547355737746,93.16098578714923,93.13596065146268,93.11039839780166,93.08429927896181,93.05766355304806,93.03049148347206,93.00278333894958,92.97453939349786,92.9457599264329,92.91644522236669,92.88659557120437,92.85621126814145,92.82529261366079,92.7938399135297,92.76185347879685,92.72933362578925,92.69628067610911,92.66269495663065,92.62857679949687,92.59392654211624,92.55874452715942,92.52303110255583,92.48678662149023,92.45001144239919,92.41270592896755,92.37487045012494,92.33650538004196,92.29761109812654,92.25818798902023,92.21823644259442,92.17775685394635,92.13674962339533,92.09521515647873,92.053153863948,92.01056616176454,91.96745247109567,91.92381321831039,91.87964883497524,91.83495975784999,91.78974642888328,91.74400929520831,91.69774880913846,91.65096542816266,91.60365961494102,91.55583183730019,91.50748256822874,91.45861228587248,91.40922147352974,91.35931061964656,91.30888021781192,91.25793076675282,91.20646277032934,91.15447673752963,91.101973182465,91.04895262436467,90.99541558757078,90.94136260153309,90.88679420080379,90.8317109250323,90.77611331895976,90.72000193241377,90.66337732030291,90.60624004261126,90.54859066439288,90.49042975576617,90.43175789190828,90.37257565304941,90.31288362446708,90.25268239648031,90.19197256444377,90.13075472874202,90.06902949478338,90.0067974729941,89.94405927881223,89.8808155326816,89.8170668600456,89.7528138913411,89.68805726199216,89.62279761240367,89.55703558795517,89.49077183899442,89.42400702083081,89.35674179372916,89.28897682290295,89.22071277850785,89.15195033563505,89.08269017430467,89.01293297945892,88.9426794409554,88.87193025356025,88.80068611694129,88.72894773566108,88.65671581917002,88.58399108179921,88.5107742427535,88.43706602610433,88.36286716078259,88.28817838057135,88.21300042409871,88.1373340348304,88.06117996106249,87.9845389559139,87.90741177731908,87.82979918802042,87.75170195556073,87.6731208522757,87.59405665528617,87.51451014649051,87.43448211255685,87.35397334491537,87.27298463975038,87.19151679799246,87.10957062531067,87.02714693210439,86.94424653349543,86.86087024931993,86.77701890412027,86.69269332713691,86.60789435230015,86.52262281822192,86.43687956818754,86.35066545014723,86.26398131670791,86.17682802512462,86.08920643729212,86.00111741973632,85.91256184360574,85.82354058466294,85.73405452327574,85.64410454440862,85.55369153761393,85.46281639702306,85.37148002133767,85.27968331382078,85.18742718228779,85.09471253909749,85.00154030114314,84.90791138984335,84.81382673113293,84.71928725545376,84.62429389774564,84.52884759743691,84.43294929843535,84.33659994911864,84.23980050232515,84.14255191534443,84.04485514990776,83.94671117217865,83.84812095274324,83.7490854666008,83.649605693154,83.54968261619919,83.44931722391681,83.34851050886152,83.24726346795237,83.14557710246302,83.04345241801177,82.94089042455161,82.8378921363603,82.73445857203029,82.63059075445862,82.52628971083689,82.421556472641,82.31639207562105,82.210797559791,82.10477396941849,81.99832235301437,81.89144376332251,81.78413925730922,81.67640989615292,81.56825674523355,81.45968087412214,81.35068335657013,81.24126527049881,81.13142769798864,81.02117172526857,80.91049844270526,80.7994089447923,80.68790433013947,80.57598570146178,80.46365416556856,80.35091083335257,80.23775681977904,80.12419324387452,80.01022122871595,79.89584190141946,79.78105639312926,79.66586583900649,79.55027137821789,79.43427415392466,79.31787531327105,79.20107600737308,79.08387739130717,78.96628062409857,78.84828686871015,78.72989729203066,78.61111306486333,78.49193536191427,78.3723653617808,78.25240424693979,78.13205320373613,78.01131342237073,77.89018609688901,77.76867242516886,77.646773608909]}],                        {\"template\":{\"data\":{\"barpolar\":[{\"marker\":{\"line\":{\"color\":\"#E5ECF6\",\"width\":0.5},\"pattern\":{\"fillmode\":\"overlay\",\"size\":10,\"solidity\":0.2}},\"type\":\"barpolar\"}],\"bar\":[{\"error_x\":{\"color\":\"#2a3f5f\"},\"error_y\":{\"color\":\"#2a3f5f\"},\"marker\":{\"line\":{\"color\":\"#E5ECF6\",\"width\":0.5},\"pattern\":{\"fillmode\":\"overlay\",\"size\":10,\"solidity\":0.2}},\"type\":\"bar\"}],\"carpet\":[{\"aaxis\":{\"endlinecolor\":\"#2a3f5f\",\"gridcolor\":\"white\",\"linecolor\":\"white\",\"minorgridcolor\":\"white\",\"startlinecolor\":\"#2a3f5f\"},\"baxis\":{\"endlinecolor\":\"#2a3f5f\",\"gridcolor\":\"white\",\"linecolor\":\"white\",\"minorgridcolor\":\"white\",\"startlinecolor\":\"#2a3f5f\"},\"type\":\"carpet\"}],\"choropleth\":[{\"colorbar\":{\"outlinewidth\":0,\"ticks\":\"\"},\"type\":\"choropleth\"}],\"contourcarpet\":[{\"colorbar\":{\"outlinewidth\":0,\"ticks\":\"\"},\"type\":\"contourcarpet\"}],\"contour\":[{\"colorbar\":{\"outlinewidth\":0,\"ticks\":\"\"},\"colorscale\":[[0.0,\"#0d0887\"],[0.1111111111111111,\"#46039f\"],[0.2222222222222222,\"#7201a8\"],[0.3333333333333333,\"#9c179e\"],[0.4444444444444444,\"#bd3786\"],[0.5555555555555556,\"#d8576b\"],[0.6666666666666666,\"#ed7953\"],[0.7777777777777778,\"#fb9f3a\"],[0.8888888888888888,\"#fdca26\"],[1.0,\"#f0f921\"]],\"type\":\"contour\"}],\"heatmapgl\":[{\"colorbar\":{\"outlinewidth\":0,\"ticks\":\"\"},\"colorscale\":[[0.0,\"#0d0887\"],[0.1111111111111111,\"#46039f\"],[0.2222222222222222,\"#7201a8\"],[0.3333333333333333,\"#9c179e\"],[0.4444444444444444,\"#bd3786\"],[0.5555555555555556,\"#d8576b\"],[0.6666666666666666,\"#ed7953\"],[0.7777777777777778,\"#fb9f3a\"],[0.8888888888888888,\"#fdca26\"],[1.0,\"#f0f921\"]],\"type\":\"heatmapgl\"}],\"heatmap\":[{\"colorbar\":{\"outlinewidth\":0,\"ticks\":\"\"},\"colorscale\":[[0.0,\"#0d0887\"],[0.1111111111111111,\"#46039f\"],[0.2222222222222222,\"#7201a8\"],[0.3333333333333333,\"#9c179e\"],[0.4444444444444444,\"#bd3786\"],[0.5555555555555556,\"#d8576b\"],[0.6666666666666666,\"#ed7953\"],[0.7777777777777778,\"#fb9f3a\"],[0.8888888888888888,\"#fdca26\"],[1.0,\"#f0f921\"]],\"type\":\"heatmap\"}],\"histogram2dcontour\":[{\"colorbar\":{\"outlinewidth\":0,\"ticks\":\"\"},\"colorscale\":[[0.0,\"#0d0887\"],[0.1111111111111111,\"#46039f\"],[0.2222222222222222,\"#7201a8\"],[0.3333333333333333,\"#9c179e\"],[0.4444444444444444,\"#bd3786\"],[0.5555555555555556,\"#d8576b\"],[0.6666666666666666,\"#ed7953\"],[0.7777777777777778,\"#fb9f3a\"],[0.8888888888888888,\"#fdca26\"],[1.0,\"#f0f921\"]],\"type\":\"histogram2dcontour\"}],\"histogram2d\":[{\"colorbar\":{\"outlinewidth\":0,\"ticks\":\"\"},\"colorscale\":[[0.0,\"#0d0887\"],[0.1111111111111111,\"#46039f\"],[0.2222222222222222,\"#7201a8\"],[0.3333333333333333,\"#9c179e\"],[0.4444444444444444,\"#bd3786\"],[0.5555555555555556,\"#d8576b\"],[0.6666666666666666,\"#ed7953\"],[0.7777777777777778,\"#fb9f3a\"],[0.8888888888888888,\"#fdca26\"],[1.0,\"#f0f921\"]],\"type\":\"histogram2d\"}],\"histogram\":[{\"marker\":{\"pattern\":{\"fillmode\":\"overlay\",\"size\":10,\"solidity\":0.2}},\"type\":\"histogram\"}],\"mesh3d\":[{\"colorbar\":{\"outlinewidth\":0,\"ticks\":\"\"},\"type\":\"mesh3d\"}],\"parcoords\":[{\"line\":{\"colorbar\":{\"outlinewidth\":0,\"ticks\":\"\"}},\"type\":\"parcoords\"}],\"pie\":[{\"automargin\":true,\"type\":\"pie\"}],\"scatter3d\":[{\"line\":{\"colorbar\":{\"outlinewidth\":0,\"ticks\":\"\"}},\"marker\":{\"colorbar\":{\"outlinewidth\":0,\"ticks\":\"\"}},\"type\":\"scatter3d\"}],\"scattercarpet\":[{\"marker\":{\"colorbar\":{\"outlinewidth\":0,\"ticks\":\"\"}},\"type\":\"scattercarpet\"}],\"scattergeo\":[{\"marker\":{\"colorbar\":{\"outlinewidth\":0,\"ticks\":\"\"}},\"type\":\"scattergeo\"}],\"scattergl\":[{\"marker\":{\"colorbar\":{\"outlinewidth\":0,\"ticks\":\"\"}},\"type\":\"scattergl\"}],\"scattermapbox\":[{\"marker\":{\"colorbar\":{\"outlinewidth\":0,\"ticks\":\"\"}},\"type\":\"scattermapbox\"}],\"scatterpolargl\":[{\"marker\":{\"colorbar\":{\"outlinewidth\":0,\"ticks\":\"\"}},\"type\":\"scatterpolargl\"}],\"scatterpolar\":[{\"marker\":{\"colorbar\":{\"outlinewidth\":0,\"ticks\":\"\"}},\"type\":\"scatterpolar\"}],\"scatter\":[{\"fillpattern\":{\"fillmode\":\"overlay\",\"size\":10,\"solidity\":0.2},\"type\":\"scatter\"}],\"scatterternary\":[{\"marker\":{\"colorbar\":{\"outlinewidth\":0,\"ticks\":\"\"}},\"type\":\"scatterternary\"}],\"surface\":[{\"colorbar\":{\"outlinewidth\":0,\"ticks\":\"\"},\"colorscale\":[[0.0,\"#0d0887\"],[0.1111111111111111,\"#46039f\"],[0.2222222222222222,\"#7201a8\"],[0.3333333333333333,\"#9c179e\"],[0.4444444444444444,\"#bd3786\"],[0.5555555555555556,\"#d8576b\"],[0.6666666666666666,\"#ed7953\"],[0.7777777777777778,\"#fb9f3a\"],[0.8888888888888888,\"#fdca26\"],[1.0,\"#f0f921\"]],\"type\":\"surface\"}],\"table\":[{\"cells\":{\"fill\":{\"color\":\"#EBF0F8\"},\"line\":{\"color\":\"white\"}},\"header\":{\"fill\":{\"color\":\"#C8D4E3\"},\"line\":{\"color\":\"white\"}},\"type\":\"table\"}]},\"layout\":{\"annotationdefaults\":{\"arrowcolor\":\"#2a3f5f\",\"arrowhead\":0,\"arrowwidth\":1},\"autotypenumbers\":\"strict\",\"coloraxis\":{\"colorbar\":{\"outlinewidth\":0,\"ticks\":\"\"}},\"colorscale\":{\"diverging\":[[0,\"#8e0152\"],[0.1,\"#c51b7d\"],[0.2,\"#de77ae\"],[0.3,\"#f1b6da\"],[0.4,\"#fde0ef\"],[0.5,\"#f7f7f7\"],[0.6,\"#e6f5d0\"],[0.7,\"#b8e186\"],[0.8,\"#7fbc41\"],[0.9,\"#4d9221\"],[1,\"#276419\"]],\"sequential\":[[0.0,\"#0d0887\"],[0.1111111111111111,\"#46039f\"],[0.2222222222222222,\"#7201a8\"],[0.3333333333333333,\"#9c179e\"],[0.4444444444444444,\"#bd3786\"],[0.5555555555555556,\"#d8576b\"],[0.6666666666666666,\"#ed7953\"],[0.7777777777777778,\"#fb9f3a\"],[0.8888888888888888,\"#fdca26\"],[1.0,\"#f0f921\"]],\"sequentialminus\":[[0.0,\"#0d0887\"],[0.1111111111111111,\"#46039f\"],[0.2222222222222222,\"#7201a8\"],[0.3333333333333333,\"#9c179e\"],[0.4444444444444444,\"#bd3786\"],[0.5555555555555556,\"#d8576b\"],[0.6666666666666666,\"#ed7953\"],[0.7777777777777778,\"#fb9f3a\"],[0.8888888888888888,\"#fdca26\"],[1.0,\"#f0f921\"]]},\"colorway\":[\"#636efa\",\"#EF553B\",\"#00cc96\",\"#ab63fa\",\"#FFA15A\",\"#19d3f3\",\"#FF6692\",\"#B6E880\",\"#FF97FF\",\"#FECB52\"],\"font\":{\"color\":\"#2a3f5f\"},\"geo\":{\"bgcolor\":\"white\",\"lakecolor\":\"white\",\"landcolor\":\"#E5ECF6\",\"showlakes\":true,\"showland\":true,\"subunitcolor\":\"white\"},\"hoverlabel\":{\"align\":\"left\"},\"hovermode\":\"closest\",\"mapbox\":{\"style\":\"light\"},\"paper_bgcolor\":\"white\",\"plot_bgcolor\":\"#E5ECF6\",\"polar\":{\"angularaxis\":{\"gridcolor\":\"white\",\"linecolor\":\"white\",\"ticks\":\"\"},\"bgcolor\":\"#E5ECF6\",\"radialaxis\":{\"gridcolor\":\"white\",\"linecolor\":\"white\",\"ticks\":\"\"}},\"scene\":{\"xaxis\":{\"backgroundcolor\":\"#E5ECF6\",\"gridcolor\":\"white\",\"gridwidth\":2,\"linecolor\":\"white\",\"showbackground\":true,\"ticks\":\"\",\"zerolinecolor\":\"white\"},\"yaxis\":{\"backgroundcolor\":\"#E5ECF6\",\"gridcolor\":\"white\",\"gridwidth\":2,\"linecolor\":\"white\",\"showbackground\":true,\"ticks\":\"\",\"zerolinecolor\":\"white\"},\"zaxis\":{\"backgroundcolor\":\"#E5ECF6\",\"gridcolor\":\"white\",\"gridwidth\":2,\"linecolor\":\"white\",\"showbackground\":true,\"ticks\":\"\",\"zerolinecolor\":\"white\"}},\"shapedefaults\":{\"line\":{\"color\":\"#2a3f5f\"}},\"ternary\":{\"aaxis\":{\"gridcolor\":\"white\",\"linecolor\":\"white\",\"ticks\":\"\"},\"baxis\":{\"gridcolor\":\"white\",\"linecolor\":\"white\",\"ticks\":\"\"},\"bgcolor\":\"#E5ECF6\",\"caxis\":{\"gridcolor\":\"white\",\"linecolor\":\"white\",\"ticks\":\"\"}},\"title\":{\"x\":0.05},\"xaxis\":{\"automargin\":true,\"gridcolor\":\"white\",\"linecolor\":\"white\",\"ticks\":\"\",\"title\":{\"standoff\":15},\"zerolinecolor\":\"white\",\"zerolinewidth\":2},\"yaxis\":{\"automargin\":true,\"gridcolor\":\"white\",\"linecolor\":\"white\",\"ticks\":\"\",\"title\":{\"standoff\":15},\"zerolinecolor\":\"white\",\"zerolinewidth\":2}}},\"xaxis\":{\"range\":[-60,60],\"title\":{\"text\":\"X\"}},\"yaxis\":{\"range\":[-60,60],\"title\":{\"text\":\"Y\"}},\"width\":500,\"height\":500,\"showlegend\":false,\"title\":{\"text\":\"Track in the GlueX Detector\"},\"shapes\":[{\"line\":{\"color\":\"black\"},\"type\":\"circle\",\"x0\":-10.5,\"x1\":10.5,\"xref\":\"x\",\"y0\":-10.5,\"y1\":10.5,\"yref\":\"y\"},{\"line\":{\"color\":\"black\"},\"type\":\"circle\",\"x0\":-55,\"x1\":55,\"xref\":\"x\",\"y0\":-55,\"y1\":55,\"yref\":\"y\"}]},                        {\"responsive\": true}                    ).then(function(){\n                            \nvar gd = document.getElementById('35646388-d4f5-4fb9-af9f-469e732b684e');\nvar x = new MutationObserver(function (mutations, observer) {{\n        var display = window.getComputedStyle(gd).display;\n        if (!display || display === 'none') {{\n            console.log([gd, 'removed!']);\n            Plotly.purge(gd);\n            observer.disconnect();\n        }}\n}});\n\n// Listen for the removal of the full notebook cells\nvar notebookContainer = gd.closest('#notebook-container');\nif (notebookContainer) {{\n    x.observe(notebookContainer, {childList: true});\n}}\n\n// Listen for the clearing of the current output cell\nvar outputEl = gd.closest('.output');\nif (outputEl) {{\n    x.observe(outputEl, {childList: true});\n}}\n\n                        })                };                            </script>        </div>\n</body>\n</html>"
                },
                "metadata": {}
              }
            ]
          }
        },
        "355a5301ba664298a19a0294ac8320c2": {
          "model_module": "@jupyter-widgets/base",
          "model_name": "LayoutModel",
          "model_module_version": "1.2.0",
          "state": {
            "_model_module": "@jupyter-widgets/base",
            "_model_module_version": "1.2.0",
            "_model_name": "LayoutModel",
            "_view_count": null,
            "_view_module": "@jupyter-widgets/base",
            "_view_module_version": "1.2.0",
            "_view_name": "LayoutView",
            "align_content": null,
            "align_items": null,
            "align_self": null,
            "border": null,
            "bottom": null,
            "display": null,
            "flex": null,
            "flex_flow": null,
            "grid_area": null,
            "grid_auto_columns": null,
            "grid_auto_flow": null,
            "grid_auto_rows": null,
            "grid_column": null,
            "grid_gap": null,
            "grid_row": null,
            "grid_template_areas": null,
            "grid_template_columns": null,
            "grid_template_rows": null,
            "height": null,
            "justify_content": null,
            "justify_items": null,
            "left": null,
            "margin": null,
            "max_height": null,
            "max_width": null,
            "min_height": null,
            "min_width": null,
            "object_fit": null,
            "object_position": null,
            "order": null,
            "overflow": null,
            "overflow_x": null,
            "overflow_y": null,
            "padding": null,
            "right": null,
            "top": null,
            "visibility": null,
            "width": null
          }
        },
        "95096592a18544e69968aeadff367236": {
          "model_module": "@jupyter-widgets/base",
          "model_name": "LayoutModel",
          "model_module_version": "1.2.0",
          "state": {
            "_model_module": "@jupyter-widgets/base",
            "_model_module_version": "1.2.0",
            "_model_name": "LayoutModel",
            "_view_count": null,
            "_view_module": "@jupyter-widgets/base",
            "_view_module_version": "1.2.0",
            "_view_name": "LayoutView",
            "align_content": null,
            "align_items": null,
            "align_self": null,
            "border": null,
            "bottom": null,
            "display": null,
            "flex": null,
            "flex_flow": null,
            "grid_area": null,
            "grid_auto_columns": null,
            "grid_auto_flow": null,
            "grid_auto_rows": null,
            "grid_column": null,
            "grid_gap": null,
            "grid_row": null,
            "grid_template_areas": null,
            "grid_template_columns": null,
            "grid_template_rows": null,
            "height": null,
            "justify_content": null,
            "justify_items": null,
            "left": null,
            "margin": null,
            "max_height": null,
            "max_width": null,
            "min_height": null,
            "min_width": null,
            "object_fit": null,
            "object_position": null,
            "order": null,
            "overflow": null,
            "overflow_x": null,
            "overflow_y": null,
            "padding": null,
            "right": null,
            "top": null,
            "visibility": null,
            "width": null
          }
        },
        "e9d6a3c9ec90425bbfaed4fd5bdc237e": {
          "model_module": "@jupyter-widgets/controls",
          "model_name": "SliderStyleModel",
          "model_module_version": "1.5.0",
          "state": {
            "_model_module": "@jupyter-widgets/controls",
            "_model_module_version": "1.5.0",
            "_model_name": "SliderStyleModel",
            "_view_count": null,
            "_view_module": "@jupyter-widgets/base",
            "_view_module_version": "1.2.0",
            "_view_name": "StyleView",
            "description_width": "",
            "handle_color": null
          }
        },
        "54d139eb381746e186bd009904310010": {
          "model_module": "@jupyter-widgets/base",
          "model_name": "LayoutModel",
          "model_module_version": "1.2.0",
          "state": {
            "_model_module": "@jupyter-widgets/base",
            "_model_module_version": "1.2.0",
            "_model_name": "LayoutModel",
            "_view_count": null,
            "_view_module": "@jupyter-widgets/base",
            "_view_module_version": "1.2.0",
            "_view_name": "LayoutView",
            "align_content": null,
            "align_items": null,
            "align_self": null,
            "border": null,
            "bottom": null,
            "display": null,
            "flex": null,
            "flex_flow": null,
            "grid_area": null,
            "grid_auto_columns": null,
            "grid_auto_flow": null,
            "grid_auto_rows": null,
            "grid_column": null,
            "grid_gap": null,
            "grid_row": null,
            "grid_template_areas": null,
            "grid_template_columns": null,
            "grid_template_rows": null,
            "height": null,
            "justify_content": null,
            "justify_items": null,
            "left": null,
            "margin": null,
            "max_height": null,
            "max_width": null,
            "min_height": null,
            "min_width": null,
            "object_fit": null,
            "object_position": null,
            "order": null,
            "overflow": null,
            "overflow_x": null,
            "overflow_y": null,
            "padding": null,
            "right": null,
            "top": null,
            "visibility": null,
            "width": null
          }
        },
        "cae049f661ee4ec688ff89ae47873349": {
          "model_module": "@jupyter-widgets/controls",
          "model_name": "SliderStyleModel",
          "model_module_version": "1.5.0",
          "state": {
            "_model_module": "@jupyter-widgets/controls",
            "_model_module_version": "1.5.0",
            "_model_name": "SliderStyleModel",
            "_view_count": null,
            "_view_module": "@jupyter-widgets/base",
            "_view_module_version": "1.2.0",
            "_view_name": "StyleView",
            "description_width": "",
            "handle_color": null
          }
        },
        "f7ddd5df7862484587c27a1cabcd1ebd": {
          "model_module": "@jupyter-widgets/base",
          "model_name": "LayoutModel",
          "model_module_version": "1.2.0",
          "state": {
            "_model_module": "@jupyter-widgets/base",
            "_model_module_version": "1.2.0",
            "_model_name": "LayoutModel",
            "_view_count": null,
            "_view_module": "@jupyter-widgets/base",
            "_view_module_version": "1.2.0",
            "_view_name": "LayoutView",
            "align_content": null,
            "align_items": null,
            "align_self": null,
            "border": null,
            "bottom": null,
            "display": null,
            "flex": null,
            "flex_flow": null,
            "grid_area": null,
            "grid_auto_columns": null,
            "grid_auto_flow": null,
            "grid_auto_rows": null,
            "grid_column": null,
            "grid_gap": null,
            "grid_row": null,
            "grid_template_areas": null,
            "grid_template_columns": null,
            "grid_template_rows": null,
            "height": null,
            "justify_content": null,
            "justify_items": null,
            "left": null,
            "margin": null,
            "max_height": null,
            "max_width": null,
            "min_height": null,
            "min_width": null,
            "object_fit": null,
            "object_position": null,
            "order": null,
            "overflow": null,
            "overflow_x": null,
            "overflow_y": null,
            "padding": null,
            "right": null,
            "top": null,
            "visibility": null,
            "width": null
          }
        },
        "cca28332986548498b613de4ee3fdc51": {
          "model_module": "@jupyter-widgets/controls",
          "model_name": "SliderStyleModel",
          "model_module_version": "1.5.0",
          "state": {
            "_model_module": "@jupyter-widgets/controls",
            "_model_module_version": "1.5.0",
            "_model_name": "SliderStyleModel",
            "_view_count": null,
            "_view_module": "@jupyter-widgets/base",
            "_view_module_version": "1.2.0",
            "_view_name": "StyleView",
            "description_width": "",
            "handle_color": null
          }
        },
        "ccd649984249471aa8ff7a00d1607cc6": {
          "model_module": "@jupyter-widgets/base",
          "model_name": "LayoutModel",
          "model_module_version": "1.2.0",
          "state": {
            "_model_module": "@jupyter-widgets/base",
            "_model_module_version": "1.2.0",
            "_model_name": "LayoutModel",
            "_view_count": null,
            "_view_module": "@jupyter-widgets/base",
            "_view_module_version": "1.2.0",
            "_view_name": "LayoutView",
            "align_content": null,
            "align_items": null,
            "align_self": null,
            "border": null,
            "bottom": null,
            "display": null,
            "flex": null,
            "flex_flow": null,
            "grid_area": null,
            "grid_auto_columns": null,
            "grid_auto_flow": null,
            "grid_auto_rows": null,
            "grid_column": null,
            "grid_gap": null,
            "grid_row": null,
            "grid_template_areas": null,
            "grid_template_columns": null,
            "grid_template_rows": null,
            "height": null,
            "justify_content": null,
            "justify_items": null,
            "left": null,
            "margin": null,
            "max_height": null,
            "max_width": null,
            "min_height": null,
            "min_width": null,
            "object_fit": null,
            "object_position": null,
            "order": null,
            "overflow": null,
            "overflow_x": null,
            "overflow_y": null,
            "padding": null,
            "right": null,
            "top": null,
            "visibility": null,
            "width": null
          }
        },
        "9d2ee65360a348678f0f260d4aa186db": {
          "model_module": "@jupyter-widgets/controls",
          "model_name": "SliderStyleModel",
          "model_module_version": "1.5.0",
          "state": {
            "_model_module": "@jupyter-widgets/controls",
            "_model_module_version": "1.5.0",
            "_model_name": "SliderStyleModel",
            "_view_count": null,
            "_view_module": "@jupyter-widgets/base",
            "_view_module_version": "1.2.0",
            "_view_name": "StyleView",
            "description_width": "",
            "handle_color": null
          }
        },
        "5cd16feed88443ce98f6db9f58e4b3a9": {
          "model_module": "@jupyter-widgets/base",
          "model_name": "LayoutModel",
          "model_module_version": "1.2.0",
          "state": {
            "_model_module": "@jupyter-widgets/base",
            "_model_module_version": "1.2.0",
            "_model_name": "LayoutModel",
            "_view_count": null,
            "_view_module": "@jupyter-widgets/base",
            "_view_module_version": "1.2.0",
            "_view_name": "LayoutView",
            "align_content": null,
            "align_items": null,
            "align_self": null,
            "border": null,
            "bottom": null,
            "display": null,
            "flex": null,
            "flex_flow": null,
            "grid_area": null,
            "grid_auto_columns": null,
            "grid_auto_flow": null,
            "grid_auto_rows": null,
            "grid_column": null,
            "grid_gap": null,
            "grid_row": null,
            "grid_template_areas": null,
            "grid_template_columns": null,
            "grid_template_rows": null,
            "height": null,
            "justify_content": null,
            "justify_items": null,
            "left": null,
            "margin": null,
            "max_height": null,
            "max_width": null,
            "min_height": null,
            "min_width": null,
            "object_fit": null,
            "object_position": null,
            "order": null,
            "overflow": null,
            "overflow_x": null,
            "overflow_y": null,
            "padding": null,
            "right": null,
            "top": null,
            "visibility": null,
            "width": null
          }
        },
        "4b51454d17464318a0b75c9e1cdff425": {
          "model_module": "@jupyter-widgets/controls",
          "model_name": "VBoxModel",
          "model_module_version": "1.5.0",
          "state": {
            "_dom_classes": [
              "widget-interact"
            ],
            "_model_module": "@jupyter-widgets/controls",
            "_model_module_version": "1.5.0",
            "_model_name": "VBoxModel",
            "_view_count": null,
            "_view_module": "@jupyter-widgets/controls",
            "_view_module_version": "1.5.0",
            "_view_name": "VBoxView",
            "box_style": "",
            "children": [
              "IPY_MODEL_ea51ad4afd2e4b20849c0d941c09c843",
              "IPY_MODEL_52fdf5df8c4d4ce890926c2c6d53e9ce"
            ],
            "layout": "IPY_MODEL_538b8a44c62642a795342135b471a108"
          }
        },
        "ea51ad4afd2e4b20849c0d941c09c843": {
          "model_module": "@jupyter-widgets/controls",
          "model_name": "FloatSliderModel",
          "model_module_version": "1.5.0",
          "state": {
            "_dom_classes": [],
            "_model_module": "@jupyter-widgets/controls",
            "_model_module_version": "1.5.0",
            "_model_name": "FloatSliderModel",
            "_view_count": null,
            "_view_module": "@jupyter-widgets/controls",
            "_view_module_version": "1.5.0",
            "_view_name": "FloatSliderView",
            "continuous_update": true,
            "description": "z",
            "description_tooltip": null,
            "disabled": false,
            "layout": "IPY_MODEL_7a5e53d9352a49dba7e01f1c2db5df93",
            "max": 150,
            "min": 0,
            "orientation": "horizontal",
            "readout": true,
            "readout_format": ".2f",
            "step": 0.1,
            "style": "IPY_MODEL_540d83298e2342e2b920f2aabc30e4d6",
            "value": 75
          }
        },
        "52fdf5df8c4d4ce890926c2c6d53e9ce": {
          "model_module": "@jupyter-widgets/output",
          "model_name": "OutputModel",
          "model_module_version": "1.0.0",
          "state": {
            "_dom_classes": [],
            "_model_module": "@jupyter-widgets/output",
            "_model_module_version": "1.0.0",
            "_model_name": "OutputModel",
            "_view_count": null,
            "_view_module": "@jupyter-widgets/output",
            "_view_module_version": "1.0.0",
            "_view_name": "OutputView",
            "layout": "IPY_MODEL_4fb3bf10edff46aa8157c8b7e3df76b0",
            "msg_id": "",
            "outputs": [
              {
                "output_type": "display_data",
                "data": {
                  "text/html": "<html>\n<head><meta charset=\"utf-8\" /></head>\n<body>\n    <div>            <script src=\"https://cdnjs.cloudflare.com/ajax/libs/mathjax/2.7.5/MathJax.js?config=TeX-AMS-MML_SVG\"></script><script type=\"text/javascript\">if (window.MathJax && window.MathJax.Hub && window.MathJax.Hub.Config) {window.MathJax.Hub.Config({SVG: {font: \"STIX-Web\"}});}</script>                <script type=\"text/javascript\">window.PlotlyConfig = {MathJaxConfig: 'local'};</script>\n        <script charset=\"utf-8\" src=\"https://cdn.plot.ly/plotly-2.24.1.min.js\"></script>                <div id=\"8f689bd7-8ea1-4434-ae4f-4d84a41391e9\" class=\"plotly-graph-div\" style=\"height:500px; width:520px;\"></div>            <script type=\"text/javascript\">                                    window.PLOTLYENV=window.PLOTLYENV || {};                                    if (document.getElementById(\"8f689bd7-8ea1-4434-ae4f-4d84a41391e9\")) {                    Plotly.newPlot(                        \"8f689bd7-8ea1-4434-ae4f-4d84a41391e9\",                        [{\"customdata\":[[1,1],[2,42],[3,1],[4,54],[6,5],[7,5],[8,6],[9,91],[10,91],[11,105],[12,105],[13,4],[14,5],[15,6],[16,6],[17,2],[18,3],[19,4],[20,4],[21,15],[22,15],[23,16],[24,17],[25,13],[25,14],[26,14],[26,15],[27,16],[28,16]],\"hovertemplate\":\"x=%{x}\\u003cbr\\u003ey=%{y}\\u003cbr\\u003ering=%{customdata[0]}\\u003cbr\\u003ewire=%{customdata[1]}\\u003cextra\\u003e\\u003c\\u002fextra\\u003e\",\"legendgroup\":\"\",\"marker\":{\"color\":\"#636efa\",\"symbol\":\"circle\",\"size\":3},\"mode\":\"markers\",\"name\":\"\",\"orientation\":\"v\",\"showlegend\":false,\"x\":[10.602145437630725,12.07969999982988,13.687023374583951,15.144699999786717,18.345901361978836,20.536777560597187,21.867294053551117,23.788664840611766,25.077349606305596,26.989583523013295,28.242790074299368,30.727102066817306,31.69500183158087,33.10037585522371,34.42547519269902,36.36375228946843,37.50082103788563,38.9210397866031,40.011534083890005,40.741046642392035,41.733298090819815,43.15211067073986,44.11173074972214,46.10630118542729,45.43572017591582,46.684928060898635,45.94842403183104,47.307911045767966,48.534245972891966],\"xaxis\":\"x\",\"y\":[1.5980149340121983,-6.410913725330024e-05,1.5997822300527451,-8.037564268649521e-05,0.34513654482039335,0.7953993828567176,1.7086895006067637,2.0976090013962727,3.067839402373634,3.4635406849041166,4.4787000583708965,6.367363864692493,8.276096192413751,9.491371593870046,9.87133737630645,9.00242898621683,10.145052549681363,11.386525160528784,12.57434268948053,15.611563937803727,16.88265481439352,17.85084616263093,19.146042032444694,20.29333366129542,21.75329244472835,22.351376602766987,23.828740484571394,24.68971433807417,25.329731163255953],\"yaxis\":\"y\",\"type\":\"scatter\",\"uid\":\"18baf39a-9cea-4ef0-9d2c-2d5ce8e53699\"}],                        {\"legend\":{\"tracegroupgap\":0},\"margin\":{\"t\":60},\"template\":{\"data\":{\"barpolar\":[{\"marker\":{\"line\":{\"color\":\"#E5ECF6\",\"width\":0.5},\"pattern\":{\"fillmode\":\"overlay\",\"size\":10,\"solidity\":0.2}},\"type\":\"barpolar\"}],\"bar\":[{\"error_x\":{\"color\":\"#2a3f5f\"},\"error_y\":{\"color\":\"#2a3f5f\"},\"marker\":{\"line\":{\"color\":\"#E5ECF6\",\"width\":0.5},\"pattern\":{\"fillmode\":\"overlay\",\"size\":10,\"solidity\":0.2}},\"type\":\"bar\"}],\"carpet\":[{\"aaxis\":{\"endlinecolor\":\"#2a3f5f\",\"gridcolor\":\"white\",\"linecolor\":\"white\",\"minorgridcolor\":\"white\",\"startlinecolor\":\"#2a3f5f\"},\"baxis\":{\"endlinecolor\":\"#2a3f5f\",\"gridcolor\":\"white\",\"linecolor\":\"white\",\"minorgridcolor\":\"white\",\"startlinecolor\":\"#2a3f5f\"},\"type\":\"carpet\"}],\"choropleth\":[{\"colorbar\":{\"outlinewidth\":0,\"ticks\":\"\"},\"type\":\"choropleth\"}],\"contourcarpet\":[{\"colorbar\":{\"outlinewidth\":0,\"ticks\":\"\"},\"type\":\"contourcarpet\"}],\"contour\":[{\"colorbar\":{\"outlinewidth\":0,\"ticks\":\"\"},\"colorscale\":[[0.0,\"#0d0887\"],[0.1111111111111111,\"#46039f\"],[0.2222222222222222,\"#7201a8\"],[0.3333333333333333,\"#9c179e\"],[0.4444444444444444,\"#bd3786\"],[0.5555555555555556,\"#d8576b\"],[0.6666666666666666,\"#ed7953\"],[0.7777777777777778,\"#fb9f3a\"],[0.8888888888888888,\"#fdca26\"],[1.0,\"#f0f921\"]],\"type\":\"contour\"}],\"heatmapgl\":[{\"colorbar\":{\"outlinewidth\":0,\"ticks\":\"\"},\"colorscale\":[[0.0,\"#0d0887\"],[0.1111111111111111,\"#46039f\"],[0.2222222222222222,\"#7201a8\"],[0.3333333333333333,\"#9c179e\"],[0.4444444444444444,\"#bd3786\"],[0.5555555555555556,\"#d8576b\"],[0.6666666666666666,\"#ed7953\"],[0.7777777777777778,\"#fb9f3a\"],[0.8888888888888888,\"#fdca26\"],[1.0,\"#f0f921\"]],\"type\":\"heatmapgl\"}],\"heatmap\":[{\"colorbar\":{\"outlinewidth\":0,\"ticks\":\"\"},\"colorscale\":[[0.0,\"#0d0887\"],[0.1111111111111111,\"#46039f\"],[0.2222222222222222,\"#7201a8\"],[0.3333333333333333,\"#9c179e\"],[0.4444444444444444,\"#bd3786\"],[0.5555555555555556,\"#d8576b\"],[0.6666666666666666,\"#ed7953\"],[0.7777777777777778,\"#fb9f3a\"],[0.8888888888888888,\"#fdca26\"],[1.0,\"#f0f921\"]],\"type\":\"heatmap\"}],\"histogram2dcontour\":[{\"colorbar\":{\"outlinewidth\":0,\"ticks\":\"\"},\"colorscale\":[[0.0,\"#0d0887\"],[0.1111111111111111,\"#46039f\"],[0.2222222222222222,\"#7201a8\"],[0.3333333333333333,\"#9c179e\"],[0.4444444444444444,\"#bd3786\"],[0.5555555555555556,\"#d8576b\"],[0.6666666666666666,\"#ed7953\"],[0.7777777777777778,\"#fb9f3a\"],[0.8888888888888888,\"#fdca26\"],[1.0,\"#f0f921\"]],\"type\":\"histogram2dcontour\"}],\"histogram2d\":[{\"colorbar\":{\"outlinewidth\":0,\"ticks\":\"\"},\"colorscale\":[[0.0,\"#0d0887\"],[0.1111111111111111,\"#46039f\"],[0.2222222222222222,\"#7201a8\"],[0.3333333333333333,\"#9c179e\"],[0.4444444444444444,\"#bd3786\"],[0.5555555555555556,\"#d8576b\"],[0.6666666666666666,\"#ed7953\"],[0.7777777777777778,\"#fb9f3a\"],[0.8888888888888888,\"#fdca26\"],[1.0,\"#f0f921\"]],\"type\":\"histogram2d\"}],\"histogram\":[{\"marker\":{\"pattern\":{\"fillmode\":\"overlay\",\"size\":10,\"solidity\":0.2}},\"type\":\"histogram\"}],\"mesh3d\":[{\"colorbar\":{\"outlinewidth\":0,\"ticks\":\"\"},\"type\":\"mesh3d\"}],\"parcoords\":[{\"line\":{\"colorbar\":{\"outlinewidth\":0,\"ticks\":\"\"}},\"type\":\"parcoords\"}],\"pie\":[{\"automargin\":true,\"type\":\"pie\"}],\"scatter3d\":[{\"line\":{\"colorbar\":{\"outlinewidth\":0,\"ticks\":\"\"}},\"marker\":{\"colorbar\":{\"outlinewidth\":0,\"ticks\":\"\"}},\"type\":\"scatter3d\"}],\"scattercarpet\":[{\"marker\":{\"colorbar\":{\"outlinewidth\":0,\"ticks\":\"\"}},\"type\":\"scattercarpet\"}],\"scattergeo\":[{\"marker\":{\"colorbar\":{\"outlinewidth\":0,\"ticks\":\"\"}},\"type\":\"scattergeo\"}],\"scattergl\":[{\"marker\":{\"colorbar\":{\"outlinewidth\":0,\"ticks\":\"\"}},\"type\":\"scattergl\"}],\"scattermapbox\":[{\"marker\":{\"colorbar\":{\"outlinewidth\":0,\"ticks\":\"\"}},\"type\":\"scattermapbox\"}],\"scatterpolargl\":[{\"marker\":{\"colorbar\":{\"outlinewidth\":0,\"ticks\":\"\"}},\"type\":\"scatterpolargl\"}],\"scatterpolar\":[{\"marker\":{\"colorbar\":{\"outlinewidth\":0,\"ticks\":\"\"}},\"type\":\"scatterpolar\"}],\"scatter\":[{\"fillpattern\":{\"fillmode\":\"overlay\",\"size\":10,\"solidity\":0.2},\"type\":\"scatter\"}],\"scatterternary\":[{\"marker\":{\"colorbar\":{\"outlinewidth\":0,\"ticks\":\"\"}},\"type\":\"scatterternary\"}],\"surface\":[{\"colorbar\":{\"outlinewidth\":0,\"ticks\":\"\"},\"colorscale\":[[0.0,\"#0d0887\"],[0.1111111111111111,\"#46039f\"],[0.2222222222222222,\"#7201a8\"],[0.3333333333333333,\"#9c179e\"],[0.4444444444444444,\"#bd3786\"],[0.5555555555555556,\"#d8576b\"],[0.6666666666666666,\"#ed7953\"],[0.7777777777777778,\"#fb9f3a\"],[0.8888888888888888,\"#fdca26\"],[1.0,\"#f0f921\"]],\"type\":\"surface\"}],\"table\":[{\"cells\":{\"fill\":{\"color\":\"#EBF0F8\"},\"line\":{\"color\":\"white\"}},\"header\":{\"fill\":{\"color\":\"#C8D4E3\"},\"line\":{\"color\":\"white\"}},\"type\":\"table\"}]},\"layout\":{\"annotationdefaults\":{\"arrowcolor\":\"#2a3f5f\",\"arrowhead\":0,\"arrowwidth\":1},\"autotypenumbers\":\"strict\",\"coloraxis\":{\"colorbar\":{\"outlinewidth\":0,\"ticks\":\"\"}},\"colorscale\":{\"diverging\":[[0,\"#8e0152\"],[0.1,\"#c51b7d\"],[0.2,\"#de77ae\"],[0.3,\"#f1b6da\"],[0.4,\"#fde0ef\"],[0.5,\"#f7f7f7\"],[0.6,\"#e6f5d0\"],[0.7,\"#b8e186\"],[0.8,\"#7fbc41\"],[0.9,\"#4d9221\"],[1,\"#276419\"]],\"sequential\":[[0.0,\"#0d0887\"],[0.1111111111111111,\"#46039f\"],[0.2222222222222222,\"#7201a8\"],[0.3333333333333333,\"#9c179e\"],[0.4444444444444444,\"#bd3786\"],[0.5555555555555556,\"#d8576b\"],[0.6666666666666666,\"#ed7953\"],[0.7777777777777778,\"#fb9f3a\"],[0.8888888888888888,\"#fdca26\"],[1.0,\"#f0f921\"]],\"sequentialminus\":[[0.0,\"#0d0887\"],[0.1111111111111111,\"#46039f\"],[0.2222222222222222,\"#7201a8\"],[0.3333333333333333,\"#9c179e\"],[0.4444444444444444,\"#bd3786\"],[0.5555555555555556,\"#d8576b\"],[0.6666666666666666,\"#ed7953\"],[0.7777777777777778,\"#fb9f3a\"],[0.8888888888888888,\"#fdca26\"],[1.0,\"#f0f921\"]]},\"colorway\":[\"#636efa\",\"#EF553B\",\"#00cc96\",\"#ab63fa\",\"#FFA15A\",\"#19d3f3\",\"#FF6692\",\"#B6E880\",\"#FF97FF\",\"#FECB52\"],\"font\":{\"color\":\"#2a3f5f\"},\"geo\":{\"bgcolor\":\"white\",\"lakecolor\":\"white\",\"landcolor\":\"#E5ECF6\",\"showlakes\":true,\"showland\":true,\"subunitcolor\":\"white\"},\"hoverlabel\":{\"align\":\"left\"},\"hovermode\":\"closest\",\"mapbox\":{\"style\":\"light\"},\"paper_bgcolor\":\"white\",\"plot_bgcolor\":\"#E5ECF6\",\"polar\":{\"angularaxis\":{\"gridcolor\":\"white\",\"linecolor\":\"white\",\"ticks\":\"\"},\"bgcolor\":\"#E5ECF6\",\"radialaxis\":{\"gridcolor\":\"white\",\"linecolor\":\"white\",\"ticks\":\"\"}},\"scene\":{\"xaxis\":{\"backgroundcolor\":\"#E5ECF6\",\"gridcolor\":\"white\",\"gridwidth\":2,\"linecolor\":\"white\",\"showbackground\":true,\"ticks\":\"\",\"zerolinecolor\":\"white\"},\"yaxis\":{\"backgroundcolor\":\"#E5ECF6\",\"gridcolor\":\"white\",\"gridwidth\":2,\"linecolor\":\"white\",\"showbackground\":true,\"ticks\":\"\",\"zerolinecolor\":\"white\"},\"zaxis\":{\"backgroundcolor\":\"#E5ECF6\",\"gridcolor\":\"white\",\"gridwidth\":2,\"linecolor\":\"white\",\"showbackground\":true,\"ticks\":\"\",\"zerolinecolor\":\"white\"}},\"shapedefaults\":{\"line\":{\"color\":\"#2a3f5f\"}},\"ternary\":{\"aaxis\":{\"gridcolor\":\"white\",\"linecolor\":\"white\",\"ticks\":\"\"},\"baxis\":{\"gridcolor\":\"white\",\"linecolor\":\"white\",\"ticks\":\"\"},\"bgcolor\":\"#E5ECF6\",\"caxis\":{\"gridcolor\":\"white\",\"linecolor\":\"white\",\"ticks\":\"\"}},\"title\":{\"x\":0.05},\"xaxis\":{\"automargin\":true,\"gridcolor\":\"white\",\"linecolor\":\"white\",\"ticks\":\"\",\"title\":{\"standoff\":15},\"zerolinecolor\":\"white\",\"zerolinewidth\":2},\"yaxis\":{\"automargin\":true,\"gridcolor\":\"white\",\"linecolor\":\"white\",\"ticks\":\"\",\"title\":{\"standoff\":15},\"zerolinecolor\":\"white\",\"zerolinewidth\":2}}},\"xaxis\":{\"anchor\":\"y\",\"domain\":[0.0,1.0],\"title\":{\"text\":\"x\"},\"range\":[-60,60]},\"yaxis\":{\"anchor\":\"x\",\"domain\":[0.0,1.0],\"title\":{\"text\":\"y\"},\"range\":[-60,60]},\"width\":520,\"height\":500,\"showlegend\":false,\"shapes\":[{\"line\":{\"color\":\"black\"},\"type\":\"circle\",\"x0\":-10.5,\"x1\":10.5,\"xref\":\"x\",\"y0\":-10.5,\"y1\":10.5,\"yref\":\"y\"},{\"line\":{\"color\":\"black\"},\"type\":\"circle\",\"x0\":-55,\"x1\":55,\"xref\":\"x\",\"y0\":-55,\"y1\":55,\"yref\":\"y\"}]},                        {\"responsive\": true}                    ).then(function(){\n                            \nvar gd = document.getElementById('8f689bd7-8ea1-4434-ae4f-4d84a41391e9');\nvar x = new MutationObserver(function (mutations, observer) {{\n        var display = window.getComputedStyle(gd).display;\n        if (!display || display === 'none') {{\n            console.log([gd, 'removed!']);\n            Plotly.purge(gd);\n            observer.disconnect();\n        }}\n}});\n\n// Listen for the removal of the full notebook cells\nvar notebookContainer = gd.closest('#notebook-container');\nif (notebookContainer) {{\n    x.observe(notebookContainer, {childList: true});\n}}\n\n// Listen for the clearing of the current output cell\nvar outputEl = gd.closest('.output');\nif (outputEl) {{\n    x.observe(outputEl, {childList: true});\n}}\n\n                        })                };                            </script>        </div>\n</body>\n</html>"
                },
                "metadata": {}
              }
            ]
          }
        },
        "538b8a44c62642a795342135b471a108": {
          "model_module": "@jupyter-widgets/base",
          "model_name": "LayoutModel",
          "model_module_version": "1.2.0",
          "state": {
            "_model_module": "@jupyter-widgets/base",
            "_model_module_version": "1.2.0",
            "_model_name": "LayoutModel",
            "_view_count": null,
            "_view_module": "@jupyter-widgets/base",
            "_view_module_version": "1.2.0",
            "_view_name": "LayoutView",
            "align_content": null,
            "align_items": null,
            "align_self": null,
            "border": null,
            "bottom": null,
            "display": null,
            "flex": null,
            "flex_flow": null,
            "grid_area": null,
            "grid_auto_columns": null,
            "grid_auto_flow": null,
            "grid_auto_rows": null,
            "grid_column": null,
            "grid_gap": null,
            "grid_row": null,
            "grid_template_areas": null,
            "grid_template_columns": null,
            "grid_template_rows": null,
            "height": null,
            "justify_content": null,
            "justify_items": null,
            "left": null,
            "margin": null,
            "max_height": null,
            "max_width": null,
            "min_height": null,
            "min_width": null,
            "object_fit": null,
            "object_position": null,
            "order": null,
            "overflow": null,
            "overflow_x": null,
            "overflow_y": null,
            "padding": null,
            "right": null,
            "top": null,
            "visibility": null,
            "width": null
          }
        },
        "7a5e53d9352a49dba7e01f1c2db5df93": {
          "model_module": "@jupyter-widgets/base",
          "model_name": "LayoutModel",
          "model_module_version": "1.2.0",
          "state": {
            "_model_module": "@jupyter-widgets/base",
            "_model_module_version": "1.2.0",
            "_model_name": "LayoutModel",
            "_view_count": null,
            "_view_module": "@jupyter-widgets/base",
            "_view_module_version": "1.2.0",
            "_view_name": "LayoutView",
            "align_content": null,
            "align_items": null,
            "align_self": null,
            "border": null,
            "bottom": null,
            "display": null,
            "flex": null,
            "flex_flow": null,
            "grid_area": null,
            "grid_auto_columns": null,
            "grid_auto_flow": null,
            "grid_auto_rows": null,
            "grid_column": null,
            "grid_gap": null,
            "grid_row": null,
            "grid_template_areas": null,
            "grid_template_columns": null,
            "grid_template_rows": null,
            "height": null,
            "justify_content": null,
            "justify_items": null,
            "left": null,
            "margin": null,
            "max_height": null,
            "max_width": null,
            "min_height": null,
            "min_width": null,
            "object_fit": null,
            "object_position": null,
            "order": null,
            "overflow": null,
            "overflow_x": null,
            "overflow_y": null,
            "padding": null,
            "right": null,
            "top": null,
            "visibility": null,
            "width": null
          }
        },
        "540d83298e2342e2b920f2aabc30e4d6": {
          "model_module": "@jupyter-widgets/controls",
          "model_name": "SliderStyleModel",
          "model_module_version": "1.5.0",
          "state": {
            "_model_module": "@jupyter-widgets/controls",
            "_model_module_version": "1.5.0",
            "_model_name": "SliderStyleModel",
            "_view_count": null,
            "_view_module": "@jupyter-widgets/base",
            "_view_module_version": "1.2.0",
            "_view_name": "StyleView",
            "description_width": "",
            "handle_color": null
          }
        },
        "4fb3bf10edff46aa8157c8b7e3df76b0": {
          "model_module": "@jupyter-widgets/base",
          "model_name": "LayoutModel",
          "model_module_version": "1.2.0",
          "state": {
            "_model_module": "@jupyter-widgets/base",
            "_model_module_version": "1.2.0",
            "_model_name": "LayoutModel",
            "_view_count": null,
            "_view_module": "@jupyter-widgets/base",
            "_view_module_version": "1.2.0",
            "_view_name": "LayoutView",
            "align_content": null,
            "align_items": null,
            "align_self": null,
            "border": null,
            "bottom": null,
            "display": null,
            "flex": null,
            "flex_flow": null,
            "grid_area": null,
            "grid_auto_columns": null,
            "grid_auto_flow": null,
            "grid_auto_rows": null,
            "grid_column": null,
            "grid_gap": null,
            "grid_row": null,
            "grid_template_areas": null,
            "grid_template_columns": null,
            "grid_template_rows": null,
            "height": null,
            "justify_content": null,
            "justify_items": null,
            "left": null,
            "margin": null,
            "max_height": null,
            "max_width": null,
            "min_height": null,
            "min_width": null,
            "object_fit": null,
            "object_position": null,
            "order": null,
            "overflow": null,
            "overflow_x": null,
            "overflow_y": null,
            "padding": null,
            "right": null,
            "top": null,
            "visibility": null,
            "width": null
          }
        },
        "a0a45d630f3e4c2686e56349ff0aefbe": {
          "model_module": "@jupyter-widgets/controls",
          "model_name": "VBoxModel",
          "model_module_version": "1.5.0",
          "state": {
            "_dom_classes": [
              "widget-interact"
            ],
            "_model_module": "@jupyter-widgets/controls",
            "_model_module_version": "1.5.0",
            "_model_name": "VBoxModel",
            "_view_count": null,
            "_view_module": "@jupyter-widgets/controls",
            "_view_module_version": "1.5.0",
            "_view_name": "VBoxView",
            "box_style": "",
            "children": [
              "IPY_MODEL_fcbb307736f84782ad88e7e4230a7f06",
              "IPY_MODEL_de5b9d22ca0e44dd8be5758afbe640b4"
            ],
            "layout": "IPY_MODEL_6b268dcb94514995b12b09ec26455c87"
          }
        },
        "fcbb307736f84782ad88e7e4230a7f06": {
          "model_module": "@jupyter-widgets/controls",
          "model_name": "FloatSliderModel",
          "model_module_version": "1.5.0",
          "state": {
            "_dom_classes": [],
            "_model_module": "@jupyter-widgets/controls",
            "_model_module_version": "1.5.0",
            "_model_name": "FloatSliderModel",
            "_view_count": null,
            "_view_module": "@jupyter-widgets/controls",
            "_view_module_version": "1.5.0",
            "_view_name": "FloatSliderView",
            "continuous_update": true,
            "description": "z",
            "description_tooltip": null,
            "disabled": false,
            "layout": "IPY_MODEL_d2b18ef901de480691066c256f028385",
            "max": 150,
            "min": 0,
            "orientation": "horizontal",
            "readout": true,
            "readout_format": ".2f",
            "step": 0.1,
            "style": "IPY_MODEL_09b7985034a846c1bb42e8b8f3a7982b",
            "value": 48
          }
        },
        "de5b9d22ca0e44dd8be5758afbe640b4": {
          "model_module": "@jupyter-widgets/output",
          "model_name": "OutputModel",
          "model_module_version": "1.0.0",
          "state": {
            "_dom_classes": [],
            "_model_module": "@jupyter-widgets/output",
            "_model_module_version": "1.0.0",
            "_model_name": "OutputModel",
            "_view_count": null,
            "_view_module": "@jupyter-widgets/output",
            "_view_module_version": "1.0.0",
            "_view_name": "OutputView",
            "layout": "IPY_MODEL_2e31ce05d24f4b0da4b51bbe56a92218",
            "msg_id": "",
            "outputs": [
              {
                "output_type": "display_data",
                "data": {
                  "text/html": "<html>\n<head><meta charset=\"utf-8\" /></head>\n<body>\n    <div>            <script src=\"https://cdnjs.cloudflare.com/ajax/libs/mathjax/2.7.5/MathJax.js?config=TeX-AMS-MML_SVG\"></script><script type=\"text/javascript\">if (window.MathJax && window.MathJax.Hub && window.MathJax.Hub.Config) {window.MathJax.Hub.Config({SVG: {font: \"STIX-Web\"}});}</script>                <script type=\"text/javascript\">window.PlotlyConfig = {MathJaxConfig: 'local'};</script>\n        <script charset=\"utf-8\" src=\"https://cdn.plot.ly/plotly-2.24.1.min.js\"></script>                <div id=\"cf5b90b6-e22b-4863-af42-e9f4b701f1ba\" class=\"plotly-graph-div\" style=\"height:500px; width:520px;\"></div>            <script type=\"text/javascript\">                                    window.PLOTLYENV=window.PLOTLYENV || {};                                    if (document.getElementById(\"cf5b90b6-e22b-4863-af42-e9f4b701f1ba\")) {                    Plotly.newPlot(                        \"cf5b90b6-e22b-4863-af42-e9f4b701f1ba\",                        [{\"customdata\":[[1,7],[2,7],[3,9],[4,8],[5,13],[6,14],[7,16],[8,16],[9,13],[12,15],[13,21],[14,21],[15,24],[17,23],[18,24],[19,26],[20,26],[21,34],[22,34],[23,36],[24,37],[25,37],[26,38],[27,41],[28,40]],\"hovertemplate\":\"x=%{x}\\u003cbr\\u003ey=%{y}\\u003cbr\\u003ering=%{customdata[0]}\\u003cbr\\u003ewire=%{customdata[1]}\\u003cextra\\u003e\\u003c\\u002fextra\\u003e\",\"legendgroup\":\"\",\"marker\":{\"color\":\"#636efa\",\"symbol\":\"circle\",\"size\":3},\"mode\":\"markers\",\"name\":\"\",\"orientation\":\"v\",\"showlegend\":false,\"x\":[5.360958213245541,6.039859253354551,6.890110555980396,9.04379727504241,9.798598484274851,9.849631177737667,10.908810150069488,12.376670188284958,13.021988173751602,15.156202902087408,14.990825112058891,15.649028574765744,15.095032780534774,17.670220598893827,17.579474127648403,18.46898766698853,18.351994443638034,18.917079554292798,18.763625122245337,19.778960848571828,19.609956587402856,19.184798315507056,18.176064798551426,17.705863799088984,19.70900766150679],\"xaxis\":\"x\",\"y\":[9.285433034912005,10.461321727662686,11.933997174725974,12.147908006646063,14.259846463354648,15.905945852419125,17.74217416818532,18.463334408775914,20.30082148035283,24.506888331956116,27.56761299912752,28.77802658203243,30.949329586350988,33.204284400675014,34.820258626748796,36.260057614558576,37.873870596399605,39.460016492533796,41.070072203330206,42.43754307408883,44.04484349825869,46.57847049531916,48.46335948455142,50.3400717990957,51.07566279509906],\"yaxis\":\"y\",\"type\":\"scatter\",\"uid\":\"7055e630-41fb-43dd-a1a3-f4c763c3a147\"}],                        {\"legend\":{\"tracegroupgap\":0},\"margin\":{\"t\":60},\"template\":{\"data\":{\"barpolar\":[{\"marker\":{\"line\":{\"color\":\"#E5ECF6\",\"width\":0.5},\"pattern\":{\"fillmode\":\"overlay\",\"size\":10,\"solidity\":0.2}},\"type\":\"barpolar\"}],\"bar\":[{\"error_x\":{\"color\":\"#2a3f5f\"},\"error_y\":{\"color\":\"#2a3f5f\"},\"marker\":{\"line\":{\"color\":\"#E5ECF6\",\"width\":0.5},\"pattern\":{\"fillmode\":\"overlay\",\"size\":10,\"solidity\":0.2}},\"type\":\"bar\"}],\"carpet\":[{\"aaxis\":{\"endlinecolor\":\"#2a3f5f\",\"gridcolor\":\"white\",\"linecolor\":\"white\",\"minorgridcolor\":\"white\",\"startlinecolor\":\"#2a3f5f\"},\"baxis\":{\"endlinecolor\":\"#2a3f5f\",\"gridcolor\":\"white\",\"linecolor\":\"white\",\"minorgridcolor\":\"white\",\"startlinecolor\":\"#2a3f5f\"},\"type\":\"carpet\"}],\"choropleth\":[{\"colorbar\":{\"outlinewidth\":0,\"ticks\":\"\"},\"type\":\"choropleth\"}],\"contourcarpet\":[{\"colorbar\":{\"outlinewidth\":0,\"ticks\":\"\"},\"type\":\"contourcarpet\"}],\"contour\":[{\"colorbar\":{\"outlinewidth\":0,\"ticks\":\"\"},\"colorscale\":[[0.0,\"#0d0887\"],[0.1111111111111111,\"#46039f\"],[0.2222222222222222,\"#7201a8\"],[0.3333333333333333,\"#9c179e\"],[0.4444444444444444,\"#bd3786\"],[0.5555555555555556,\"#d8576b\"],[0.6666666666666666,\"#ed7953\"],[0.7777777777777778,\"#fb9f3a\"],[0.8888888888888888,\"#fdca26\"],[1.0,\"#f0f921\"]],\"type\":\"contour\"}],\"heatmapgl\":[{\"colorbar\":{\"outlinewidth\":0,\"ticks\":\"\"},\"colorscale\":[[0.0,\"#0d0887\"],[0.1111111111111111,\"#46039f\"],[0.2222222222222222,\"#7201a8\"],[0.3333333333333333,\"#9c179e\"],[0.4444444444444444,\"#bd3786\"],[0.5555555555555556,\"#d8576b\"],[0.6666666666666666,\"#ed7953\"],[0.7777777777777778,\"#fb9f3a\"],[0.8888888888888888,\"#fdca26\"],[1.0,\"#f0f921\"]],\"type\":\"heatmapgl\"}],\"heatmap\":[{\"colorbar\":{\"outlinewidth\":0,\"ticks\":\"\"},\"colorscale\":[[0.0,\"#0d0887\"],[0.1111111111111111,\"#46039f\"],[0.2222222222222222,\"#7201a8\"],[0.3333333333333333,\"#9c179e\"],[0.4444444444444444,\"#bd3786\"],[0.5555555555555556,\"#d8576b\"],[0.6666666666666666,\"#ed7953\"],[0.7777777777777778,\"#fb9f3a\"],[0.8888888888888888,\"#fdca26\"],[1.0,\"#f0f921\"]],\"type\":\"heatmap\"}],\"histogram2dcontour\":[{\"colorbar\":{\"outlinewidth\":0,\"ticks\":\"\"},\"colorscale\":[[0.0,\"#0d0887\"],[0.1111111111111111,\"#46039f\"],[0.2222222222222222,\"#7201a8\"],[0.3333333333333333,\"#9c179e\"],[0.4444444444444444,\"#bd3786\"],[0.5555555555555556,\"#d8576b\"],[0.6666666666666666,\"#ed7953\"],[0.7777777777777778,\"#fb9f3a\"],[0.8888888888888888,\"#fdca26\"],[1.0,\"#f0f921\"]],\"type\":\"histogram2dcontour\"}],\"histogram2d\":[{\"colorbar\":{\"outlinewidth\":0,\"ticks\":\"\"},\"colorscale\":[[0.0,\"#0d0887\"],[0.1111111111111111,\"#46039f\"],[0.2222222222222222,\"#7201a8\"],[0.3333333333333333,\"#9c179e\"],[0.4444444444444444,\"#bd3786\"],[0.5555555555555556,\"#d8576b\"],[0.6666666666666666,\"#ed7953\"],[0.7777777777777778,\"#fb9f3a\"],[0.8888888888888888,\"#fdca26\"],[1.0,\"#f0f921\"]],\"type\":\"histogram2d\"}],\"histogram\":[{\"marker\":{\"pattern\":{\"fillmode\":\"overlay\",\"size\":10,\"solidity\":0.2}},\"type\":\"histogram\"}],\"mesh3d\":[{\"colorbar\":{\"outlinewidth\":0,\"ticks\":\"\"},\"type\":\"mesh3d\"}],\"parcoords\":[{\"line\":{\"colorbar\":{\"outlinewidth\":0,\"ticks\":\"\"}},\"type\":\"parcoords\"}],\"pie\":[{\"automargin\":true,\"type\":\"pie\"}],\"scatter3d\":[{\"line\":{\"colorbar\":{\"outlinewidth\":0,\"ticks\":\"\"}},\"marker\":{\"colorbar\":{\"outlinewidth\":0,\"ticks\":\"\"}},\"type\":\"scatter3d\"}],\"scattercarpet\":[{\"marker\":{\"colorbar\":{\"outlinewidth\":0,\"ticks\":\"\"}},\"type\":\"scattercarpet\"}],\"scattergeo\":[{\"marker\":{\"colorbar\":{\"outlinewidth\":0,\"ticks\":\"\"}},\"type\":\"scattergeo\"}],\"scattergl\":[{\"marker\":{\"colorbar\":{\"outlinewidth\":0,\"ticks\":\"\"}},\"type\":\"scattergl\"}],\"scattermapbox\":[{\"marker\":{\"colorbar\":{\"outlinewidth\":0,\"ticks\":\"\"}},\"type\":\"scattermapbox\"}],\"scatterpolargl\":[{\"marker\":{\"colorbar\":{\"outlinewidth\":0,\"ticks\":\"\"}},\"type\":\"scatterpolargl\"}],\"scatterpolar\":[{\"marker\":{\"colorbar\":{\"outlinewidth\":0,\"ticks\":\"\"}},\"type\":\"scatterpolar\"}],\"scatter\":[{\"fillpattern\":{\"fillmode\":\"overlay\",\"size\":10,\"solidity\":0.2},\"type\":\"scatter\"}],\"scatterternary\":[{\"marker\":{\"colorbar\":{\"outlinewidth\":0,\"ticks\":\"\"}},\"type\":\"scatterternary\"}],\"surface\":[{\"colorbar\":{\"outlinewidth\":0,\"ticks\":\"\"},\"colorscale\":[[0.0,\"#0d0887\"],[0.1111111111111111,\"#46039f\"],[0.2222222222222222,\"#7201a8\"],[0.3333333333333333,\"#9c179e\"],[0.4444444444444444,\"#bd3786\"],[0.5555555555555556,\"#d8576b\"],[0.6666666666666666,\"#ed7953\"],[0.7777777777777778,\"#fb9f3a\"],[0.8888888888888888,\"#fdca26\"],[1.0,\"#f0f921\"]],\"type\":\"surface\"}],\"table\":[{\"cells\":{\"fill\":{\"color\":\"#EBF0F8\"},\"line\":{\"color\":\"white\"}},\"header\":{\"fill\":{\"color\":\"#C8D4E3\"},\"line\":{\"color\":\"white\"}},\"type\":\"table\"}]},\"layout\":{\"annotationdefaults\":{\"arrowcolor\":\"#2a3f5f\",\"arrowhead\":0,\"arrowwidth\":1},\"autotypenumbers\":\"strict\",\"coloraxis\":{\"colorbar\":{\"outlinewidth\":0,\"ticks\":\"\"}},\"colorscale\":{\"diverging\":[[0,\"#8e0152\"],[0.1,\"#c51b7d\"],[0.2,\"#de77ae\"],[0.3,\"#f1b6da\"],[0.4,\"#fde0ef\"],[0.5,\"#f7f7f7\"],[0.6,\"#e6f5d0\"],[0.7,\"#b8e186\"],[0.8,\"#7fbc41\"],[0.9,\"#4d9221\"],[1,\"#276419\"]],\"sequential\":[[0.0,\"#0d0887\"],[0.1111111111111111,\"#46039f\"],[0.2222222222222222,\"#7201a8\"],[0.3333333333333333,\"#9c179e\"],[0.4444444444444444,\"#bd3786\"],[0.5555555555555556,\"#d8576b\"],[0.6666666666666666,\"#ed7953\"],[0.7777777777777778,\"#fb9f3a\"],[0.8888888888888888,\"#fdca26\"],[1.0,\"#f0f921\"]],\"sequentialminus\":[[0.0,\"#0d0887\"],[0.1111111111111111,\"#46039f\"],[0.2222222222222222,\"#7201a8\"],[0.3333333333333333,\"#9c179e\"],[0.4444444444444444,\"#bd3786\"],[0.5555555555555556,\"#d8576b\"],[0.6666666666666666,\"#ed7953\"],[0.7777777777777778,\"#fb9f3a\"],[0.8888888888888888,\"#fdca26\"],[1.0,\"#f0f921\"]]},\"colorway\":[\"#636efa\",\"#EF553B\",\"#00cc96\",\"#ab63fa\",\"#FFA15A\",\"#19d3f3\",\"#FF6692\",\"#B6E880\",\"#FF97FF\",\"#FECB52\"],\"font\":{\"color\":\"#2a3f5f\"},\"geo\":{\"bgcolor\":\"white\",\"lakecolor\":\"white\",\"landcolor\":\"#E5ECF6\",\"showlakes\":true,\"showland\":true,\"subunitcolor\":\"white\"},\"hoverlabel\":{\"align\":\"left\"},\"hovermode\":\"closest\",\"mapbox\":{\"style\":\"light\"},\"paper_bgcolor\":\"white\",\"plot_bgcolor\":\"#E5ECF6\",\"polar\":{\"angularaxis\":{\"gridcolor\":\"white\",\"linecolor\":\"white\",\"ticks\":\"\"},\"bgcolor\":\"#E5ECF6\",\"radialaxis\":{\"gridcolor\":\"white\",\"linecolor\":\"white\",\"ticks\":\"\"}},\"scene\":{\"xaxis\":{\"backgroundcolor\":\"#E5ECF6\",\"gridcolor\":\"white\",\"gridwidth\":2,\"linecolor\":\"white\",\"showbackground\":true,\"ticks\":\"\",\"zerolinecolor\":\"white\"},\"yaxis\":{\"backgroundcolor\":\"#E5ECF6\",\"gridcolor\":\"white\",\"gridwidth\":2,\"linecolor\":\"white\",\"showbackground\":true,\"ticks\":\"\",\"zerolinecolor\":\"white\"},\"zaxis\":{\"backgroundcolor\":\"#E5ECF6\",\"gridcolor\":\"white\",\"gridwidth\":2,\"linecolor\":\"white\",\"showbackground\":true,\"ticks\":\"\",\"zerolinecolor\":\"white\"}},\"shapedefaults\":{\"line\":{\"color\":\"#2a3f5f\"}},\"ternary\":{\"aaxis\":{\"gridcolor\":\"white\",\"linecolor\":\"white\",\"ticks\":\"\"},\"baxis\":{\"gridcolor\":\"white\",\"linecolor\":\"white\",\"ticks\":\"\"},\"bgcolor\":\"#E5ECF6\",\"caxis\":{\"gridcolor\":\"white\",\"linecolor\":\"white\",\"ticks\":\"\"}},\"title\":{\"x\":0.05},\"xaxis\":{\"automargin\":true,\"gridcolor\":\"white\",\"linecolor\":\"white\",\"ticks\":\"\",\"title\":{\"standoff\":15},\"zerolinecolor\":\"white\",\"zerolinewidth\":2},\"yaxis\":{\"automargin\":true,\"gridcolor\":\"white\",\"linecolor\":\"white\",\"ticks\":\"\",\"title\":{\"standoff\":15},\"zerolinecolor\":\"white\",\"zerolinewidth\":2}}},\"xaxis\":{\"anchor\":\"y\",\"domain\":[0.0,1.0],\"title\":{\"text\":\"x\"},\"range\":[-60,60]},\"yaxis\":{\"anchor\":\"x\",\"domain\":[0.0,1.0],\"title\":{\"text\":\"y\"},\"range\":[-60,60]},\"width\":520,\"height\":500,\"showlegend\":false,\"shapes\":[{\"line\":{\"color\":\"black\"},\"type\":\"circle\",\"x0\":-10.5,\"x1\":10.5,\"xref\":\"x\",\"y0\":-10.5,\"y1\":10.5,\"yref\":\"y\"},{\"line\":{\"color\":\"black\"},\"type\":\"circle\",\"x0\":-55,\"x1\":55,\"xref\":\"x\",\"y0\":-55,\"y1\":55,\"yref\":\"y\"}]},                        {\"responsive\": true}                    ).then(function(){\n                            \nvar gd = document.getElementById('cf5b90b6-e22b-4863-af42-e9f4b701f1ba');\nvar x = new MutationObserver(function (mutations, observer) {{\n        var display = window.getComputedStyle(gd).display;\n        if (!display || display === 'none') {{\n            console.log([gd, 'removed!']);\n            Plotly.purge(gd);\n            observer.disconnect();\n        }}\n}});\n\n// Listen for the removal of the full notebook cells\nvar notebookContainer = gd.closest('#notebook-container');\nif (notebookContainer) {{\n    x.observe(notebookContainer, {childList: true});\n}}\n\n// Listen for the clearing of the current output cell\nvar outputEl = gd.closest('.output');\nif (outputEl) {{\n    x.observe(outputEl, {childList: true});\n}}\n\n                        })                };                            </script>        </div>\n</body>\n</html>"
                },
                "metadata": {}
              }
            ]
          }
        },
        "6b268dcb94514995b12b09ec26455c87": {
          "model_module": "@jupyter-widgets/base",
          "model_name": "LayoutModel",
          "model_module_version": "1.2.0",
          "state": {
            "_model_module": "@jupyter-widgets/base",
            "_model_module_version": "1.2.0",
            "_model_name": "LayoutModel",
            "_view_count": null,
            "_view_module": "@jupyter-widgets/base",
            "_view_module_version": "1.2.0",
            "_view_name": "LayoutView",
            "align_content": null,
            "align_items": null,
            "align_self": null,
            "border": null,
            "bottom": null,
            "display": null,
            "flex": null,
            "flex_flow": null,
            "grid_area": null,
            "grid_auto_columns": null,
            "grid_auto_flow": null,
            "grid_auto_rows": null,
            "grid_column": null,
            "grid_gap": null,
            "grid_row": null,
            "grid_template_areas": null,
            "grid_template_columns": null,
            "grid_template_rows": null,
            "height": null,
            "justify_content": null,
            "justify_items": null,
            "left": null,
            "margin": null,
            "max_height": null,
            "max_width": null,
            "min_height": null,
            "min_width": null,
            "object_fit": null,
            "object_position": null,
            "order": null,
            "overflow": null,
            "overflow_x": null,
            "overflow_y": null,
            "padding": null,
            "right": null,
            "top": null,
            "visibility": null,
            "width": null
          }
        },
        "d2b18ef901de480691066c256f028385": {
          "model_module": "@jupyter-widgets/base",
          "model_name": "LayoutModel",
          "model_module_version": "1.2.0",
          "state": {
            "_model_module": "@jupyter-widgets/base",
            "_model_module_version": "1.2.0",
            "_model_name": "LayoutModel",
            "_view_count": null,
            "_view_module": "@jupyter-widgets/base",
            "_view_module_version": "1.2.0",
            "_view_name": "LayoutView",
            "align_content": null,
            "align_items": null,
            "align_self": null,
            "border": null,
            "bottom": null,
            "display": null,
            "flex": null,
            "flex_flow": null,
            "grid_area": null,
            "grid_auto_columns": null,
            "grid_auto_flow": null,
            "grid_auto_rows": null,
            "grid_column": null,
            "grid_gap": null,
            "grid_row": null,
            "grid_template_areas": null,
            "grid_template_columns": null,
            "grid_template_rows": null,
            "height": null,
            "justify_content": null,
            "justify_items": null,
            "left": null,
            "margin": null,
            "max_height": null,
            "max_width": null,
            "min_height": null,
            "min_width": null,
            "object_fit": null,
            "object_position": null,
            "order": null,
            "overflow": null,
            "overflow_x": null,
            "overflow_y": null,
            "padding": null,
            "right": null,
            "top": null,
            "visibility": null,
            "width": null
          }
        },
        "09b7985034a846c1bb42e8b8f3a7982b": {
          "model_module": "@jupyter-widgets/controls",
          "model_name": "SliderStyleModel",
          "model_module_version": "1.5.0",
          "state": {
            "_model_module": "@jupyter-widgets/controls",
            "_model_module_version": "1.5.0",
            "_model_name": "SliderStyleModel",
            "_view_count": null,
            "_view_module": "@jupyter-widgets/base",
            "_view_module_version": "1.2.0",
            "_view_name": "StyleView",
            "description_width": "",
            "handle_color": null
          }
        },
        "2e31ce05d24f4b0da4b51bbe56a92218": {
          "model_module": "@jupyter-widgets/base",
          "model_name": "LayoutModel",
          "model_module_version": "1.2.0",
          "state": {
            "_model_module": "@jupyter-widgets/base",
            "_model_module_version": "1.2.0",
            "_model_name": "LayoutModel",
            "_view_count": null,
            "_view_module": "@jupyter-widgets/base",
            "_view_module_version": "1.2.0",
            "_view_name": "LayoutView",
            "align_content": null,
            "align_items": null,
            "align_self": null,
            "border": null,
            "bottom": null,
            "display": null,
            "flex": null,
            "flex_flow": null,
            "grid_area": null,
            "grid_auto_columns": null,
            "grid_auto_flow": null,
            "grid_auto_rows": null,
            "grid_column": null,
            "grid_gap": null,
            "grid_row": null,
            "grid_template_areas": null,
            "grid_template_columns": null,
            "grid_template_rows": null,
            "height": null,
            "justify_content": null,
            "justify_items": null,
            "left": null,
            "margin": null,
            "max_height": null,
            "max_width": null,
            "min_height": null,
            "min_width": null,
            "object_fit": null,
            "object_position": null,
            "order": null,
            "overflow": null,
            "overflow_x": null,
            "overflow_y": null,
            "padding": null,
            "right": null,
            "top": null,
            "visibility": null,
            "width": null
          }
        },
        "9226f9afe7b043bb9b836112b4fff704": {
          "model_module": "@jupyter-widgets/controls",
          "model_name": "VBoxModel",
          "model_module_version": "1.5.0",
          "state": {
            "_dom_classes": [
              "widget-interact"
            ],
            "_model_module": "@jupyter-widgets/controls",
            "_model_module_version": "1.5.0",
            "_model_name": "VBoxModel",
            "_view_count": null,
            "_view_module": "@jupyter-widgets/controls",
            "_view_module_version": "1.5.0",
            "_view_name": "VBoxView",
            "box_style": "",
            "children": [
              "IPY_MODEL_a5926dffa5c04515acab084a4db20dd2",
              "IPY_MODEL_617ab59d78764b82a697d3d490544456",
              "IPY_MODEL_3720c789aef44d5aa797ac1e746f3603",
              "IPY_MODEL_37058390c07d4a378fda4ad0ebfd73c2",
              "IPY_MODEL_4cc50e7f78094a1597ce62d7178ff7d6",
              "IPY_MODEL_153b35caccd24dc0a9836ae4cd0b1b5d"
            ],
            "layout": "IPY_MODEL_ae99c64c83e243b1bb5ded30b3c1ecb8"
          }
        },
        "a5926dffa5c04515acab084a4db20dd2": {
          "model_module": "@jupyter-widgets/controls",
          "model_name": "IntSliderModel",
          "model_module_version": "1.5.0",
          "state": {
            "_dom_classes": [],
            "_model_module": "@jupyter-widgets/controls",
            "_model_module_version": "1.5.0",
            "_model_name": "IntSliderModel",
            "_view_count": null,
            "_view_module": "@jupyter-widgets/controls",
            "_view_module_version": "1.5.0",
            "_view_name": "IntSliderView",
            "continuous_update": true,
            "description": "charge",
            "description_tooltip": null,
            "disabled": false,
            "layout": "IPY_MODEL_c6a7874f0b4141d58b34a3164026c94a",
            "max": 1,
            "min": -1,
            "orientation": "horizontal",
            "readout": true,
            "readout_format": "d",
            "step": 2,
            "style": "IPY_MODEL_14f242f422de4bea8e74315c13aa2112",
            "value": 1
          }
        },
        "617ab59d78764b82a697d3d490544456": {
          "model_module": "@jupyter-widgets/controls",
          "model_name": "FloatSliderModel",
          "model_module_version": "1.5.0",
          "state": {
            "_dom_classes": [],
            "_model_module": "@jupyter-widgets/controls",
            "_model_module_version": "1.5.0",
            "_model_name": "FloatSliderModel",
            "_view_count": null,
            "_view_module": "@jupyter-widgets/controls",
            "_view_module_version": "1.5.0",
            "_view_name": "FloatSliderView",
            "continuous_update": true,
            "description": "px",
            "description_tooltip": null,
            "disabled": false,
            "layout": "IPY_MODEL_5496c9360cc440fe8ad4b2e0f567a94d",
            "max": 1,
            "min": -1,
            "orientation": "horizontal",
            "readout": true,
            "readout_format": ".2f",
            "step": 0.0001,
            "style": "IPY_MODEL_02f73a688c5f457d836e5acb09eb0eea",
            "value": 0
          }
        },
        "3720c789aef44d5aa797ac1e746f3603": {
          "model_module": "@jupyter-widgets/controls",
          "model_name": "FloatSliderModel",
          "model_module_version": "1.5.0",
          "state": {
            "_dom_classes": [],
            "_model_module": "@jupyter-widgets/controls",
            "_model_module_version": "1.5.0",
            "_model_name": "FloatSliderModel",
            "_view_count": null,
            "_view_module": "@jupyter-widgets/controls",
            "_view_module_version": "1.5.0",
            "_view_name": "FloatSliderView",
            "continuous_update": true,
            "description": "py",
            "description_tooltip": null,
            "disabled": false,
            "layout": "IPY_MODEL_09904e71c510451bbfb2429963d4b845",
            "max": 1,
            "min": -1,
            "orientation": "horizontal",
            "readout": true,
            "readout_format": ".2f",
            "step": 0.0001,
            "style": "IPY_MODEL_efbb753b2e624e04ba452b0d1fdc0375",
            "value": 0
          }
        },
        "37058390c07d4a378fda4ad0ebfd73c2": {
          "model_module": "@jupyter-widgets/controls",
          "model_name": "FloatSliderModel",
          "model_module_version": "1.5.0",
          "state": {
            "_dom_classes": [],
            "_model_module": "@jupyter-widgets/controls",
            "_model_module_version": "1.5.0",
            "_model_name": "FloatSliderModel",
            "_view_count": null,
            "_view_module": "@jupyter-widgets/controls",
            "_view_module_version": "1.5.0",
            "_view_name": "FloatSliderView",
            "continuous_update": true,
            "description": "t_max",
            "description_tooltip": null,
            "disabled": false,
            "layout": "IPY_MODEL_fc3ab6cace05499cb871a84812a020b4",
            "max": 6.283185307179586,
            "min": 0,
            "orientation": "horizontal",
            "readout": true,
            "readout_format": ".2f",
            "step": 0.0001,
            "style": "IPY_MODEL_7cbc35953a24422692ad42baa709b2c7",
            "value": 3.1416000000000004
          }
        },
        "4cc50e7f78094a1597ce62d7178ff7d6": {
          "model_module": "@jupyter-widgets/controls",
          "model_name": "FloatSliderModel",
          "model_module_version": "1.5.0",
          "state": {
            "_dom_classes": [],
            "_model_module": "@jupyter-widgets/controls",
            "_model_module_version": "1.5.0",
            "_model_name": "FloatSliderModel",
            "_view_count": null,
            "_view_module": "@jupyter-widgets/controls",
            "_view_module_version": "1.5.0",
            "_view_name": "FloatSliderView",
            "continuous_update": true,
            "description": "z",
            "description_tooltip": null,
            "disabled": false,
            "layout": "IPY_MODEL_d52b6536c01d455188962ff8019db45b",
            "max": 150,
            "min": 0,
            "orientation": "horizontal",
            "readout": true,
            "readout_format": ".2f",
            "step": 0.1,
            "style": "IPY_MODEL_15ae0ade9b624b169be61cc17a8ed90d",
            "value": 75
          }
        },
        "153b35caccd24dc0a9836ae4cd0b1b5d": {
          "model_module": "@jupyter-widgets/output",
          "model_name": "OutputModel",
          "model_module_version": "1.0.0",
          "state": {
            "_dom_classes": [],
            "_model_module": "@jupyter-widgets/output",
            "_model_module_version": "1.0.0",
            "_model_name": "OutputModel",
            "_view_count": null,
            "_view_module": "@jupyter-widgets/output",
            "_view_module_version": "1.0.0",
            "_view_name": "OutputView",
            "layout": "IPY_MODEL_abbb212e20d747b68db1c1e55d9842c9",
            "msg_id": "",
            "outputs": [
              {
                "output_type": "display_data",
                "data": {
                  "text/html": "<html>\n<head><meta charset=\"utf-8\" /></head>\n<body>\n    <div>            <script src=\"https://cdnjs.cloudflare.com/ajax/libs/mathjax/2.7.5/MathJax.js?config=TeX-AMS-MML_SVG\"></script><script type=\"text/javascript\">if (window.MathJax && window.MathJax.Hub && window.MathJax.Hub.Config) {window.MathJax.Hub.Config({SVG: {font: \"STIX-Web\"}});}</script>                <script type=\"text/javascript\">window.PlotlyConfig = {MathJaxConfig: 'local'};</script>\n        <script charset=\"utf-8\" src=\"https://cdn.plot.ly/plotly-2.24.1.min.js\"></script>                <div id=\"b6a5c26c-5725-4b1e-b7af-09a57bf829a3\" class=\"plotly-graph-div\" style=\"height:500px; width:510px;\"></div>            <script type=\"text/javascript\">                                    window.PLOTLYENV=window.PLOTLYENV || {};                                    if (document.getElementById(\"b6a5c26c-5725-4b1e-b7af-09a57bf829a3\")) {                    Plotly.newPlot(                        \"b6a5c26c-5725-4b1e-b7af-09a57bf829a3\",                        [{\"customdata\":[[1,8],[1,9],[2,8],[2,25],[3,10],[3,11],[3,32],[4,10],[4,11],[4,31],[5,15],[5,16],[5,39],[6,16],[6,40],[7,19],[7,20],[7,47],[8,20],[8,21],[8,47],[9,19],[9,21],[9,49],[10,19],[10,21],[10,48],[11,23],[11,25],[11,55],[12,24],[12,26],[12,54],[13,31],[13,32],[13,63],[14,33],[14,34],[14,60],[14,61],[14,63],[15,37],[15,38],[15,65],[15,66],[15,68],[16,38],[16,39],[16,64],[16,66],[16,67],[17,40],[17,42],[17,43],[17,66],[17,67],[17,68],[17,69],[18,41],[18,42],[18,44],[18,45],[18,65],[18,66],[18,67],[18,68],[19,46],[19,47],[19,50],[19,51],[19,68],[19,69],[19,70],[19,71],[19,72],[20,47],[20,48],[20,51],[20,52],[20,53],[20,54],[20,65],[20,66],[20,67],[20,69],[20,70],[21,59],[21,60],[21,61],[21,62],[21,63],[21,64],[21,65],[21,66],[21,67],[21,68],[21,69],[21,70],[21,76],[21,77],[21,78],[22,61],[22,62],[22,63],[22,64],[22,72],[22,73],[22,74],[22,75],[23,70],[23,71],[23,72],[23,73],[23,74],[23,75]],\"hovertemplate\":\"x=%{x}\\u003cbr\\u003ey=%{y}\\u003cbr\\u003ering=%{customdata[0]}\\u003cbr\\u003ewire=%{customdata[1]}\\u003cextra\\u003e\\u003c\\u002fextra\\u003e\",\"legendgroup\":\"\",\"marker\":{\"color\":\"#636efa\",\"symbol\":\"circle\",\"size\":3},\"mode\":\"markers\",\"name\":\"\",\"orientation\":\"v\",\"showlegend\":false,\"x\":[3.917160018590975,2.3858590895783576,4.413221339181805,-9.980738018461622,5.458070827676303,3.9522201792107263,-11.513212953760782,5.998522899806193,4.343564603423222,-13.533818956143145,8.90421592361014,7.490754238496632,-16.748286385177682,8.874053665400574,-17.94904950389649,8.614795868314692,7.124231316614258,-20.159507873047176,8.405090262470502,6.78962788792214,-21.665822250727196,1.5288445919093663,-1.6955316244339622,-22.069752200336282,0.7649452432161059,-2.6438584186359932,-23.660815919638885,0.5593383432354049,-2.662228447953176,-25.951306724769402,-1.953164657195983,-5.313661033712642,-27.51484658494823,-0.4006904841895051,-2.0023121567442272,-31.287831664127577,-3.756718908965023,-5.4134091329332374,-32.66157590353989,-32.74701341816302,-32.66158921169258,-5.188707506444825,-6.766861450229103,-34.20145736683533,-34.35041354342648,-34.4249787513619,-7.037757577321591,-8.663847186058199,-35.33867878410878,-35.725555337208064,-35.80310117346104,-11.32944765117044,-14.357077131433082,-15.832403466838848,-37.070388370835545,-37.26835569464206,-37.3973106030438,-37.45701430123639,-12.54304185543853,-14.113281575333286,-17.172498042193872,-18.655809824508356,-38.00196222605467,-38.313858595835576,-38.55480651951813,-38.72435981701494,-15.193361269485674,-16.676142547564265,-20.957109710162527,-22.320784933835363,-38.59596409833844,-39.06017803948882,-39.462629810518976,-39.80268305245683,-40.07980007123048,-18.00376355374287,-19.49551022075064,-23.776604103188962,-25.131398195180804,-26.44645438098287,-27.719693286461638,-38.44289547094537,-39.0791573407714,-39.65362703030078,-40.613655592268216,-40.99769646222034,-17.845099876982808,-19.30407729479764,-20.736687665038904,-22.14097421426389,-23.515018855962445,-24.856944810432374,-26.16491916823485,-27.437155393728187,-28.671915765260618,-29.867513748689085,-31.022316300981963,-32.13474610075946,-37.83871400817468,-38.61548208828091,-39.33950606475822,-22.12515784976942,-23.55879606014737,-24.960255788901602,-26.32762281061865,-35.82602790095948,-36.80891319357866,-37.74152193837403,-38.62258030398001,-29.569614633045198,-30.79954973814847,-31.99278043778323,-33.14788473637524,-34.263486074302854,-35.33825496836919],\"xaxis\":\"x\",\"y\":[9.980731285770213,10.4530768683042,11.244671160215864,-6.804705775919689,12.653196231785426,13.201282804903451,-7.572307410648023,13.906101578461906,14.50845907137932,-6.796887710735,14.445611854380711,15.226600539849386,-2.7305065870216927,16.0605849072074,-3.810884139501074,18.659506555613014,19.277894617905492,-3.9982665079063833,20.25963046833973,20.856632570420036,-3.4191102985791777,23.8319779421576,23.8206992116571,-9.122860090862336,25.252721846377526,25.125586849620834,-8.857250808947155,27.205162624757154,27.08036691982968,-8.18311750487766,28.52891679008642,28.097668084960326,-7.787628830430799,31.377341683862895,31.315952325243984,-2.4020228490203315,32.541572984860835,32.307304295615175,2.5076620161621452,0.8366728635798261,-2.507488675277911,34.041127051003514,33.762858329877865,3.997665628156676,2.4021044701642746,-0.8011581980368072,35.11447866796334,34.74902006930025,5.808134436596705,2.498267337192832,0.8334207838258895,35.70727970794031,34.601163917761184,33.95145370503193,5.399306831169866,3.7994568084579377,2.192571066388645,0.5816251874440406,36.76827125068622,36.19459839432784,34.84736691261148,34.07630304981893,8.067498789639542,6.425099940828747,4.7708032860142,3.1076722017741485,37.598697672081535,36.964936940768794,34.71742856114071,33.85679921727932,12.443948273014751,10.899669023650796,9.33815515718366,7.761875747998234,6.173323217837377,37.88009307960718,37.134378075462514,34.55010927824978,33.577518946075315,32.55183565474266,31.474681220359912,16.768444818430588,15.226832085303123,13.661142600843572,10.467470241247616,8.844537218556399,39.8133924764294,39.12679912666222,38.38676327569596,37.59429572348708,36.750478885389064,35.85646531370341,34.91347612343168,33.922799324379305,32.88578806188924,31.80385876860802,30.678489229809312,29.511216564916836,21.720624583774338,20.307593485968553,18.866824658181052,39.20675443392345,38.36242082188731,37.46568875747239,36.51778306881432,27.261473327002363,25.91902993220965,24.541184260227155,23.129818282507205,36.144090174119704,35.10192444851158,34.017927096186966,32.89338993727583,31.72965310396178,30.52810344342123],\"yaxis\":\"y\",\"type\":\"scatter\",\"uid\":\"e4b37f73-82e0-44bd-a9ed-6a0281348456\"},{\"type\":\"scatter\",\"uid\":\"2e8d2ff5-4d49-4d05-a109-5d1ef63728c5\",\"x\":[0.0,0.0,0.0,0.0,0.0,0.0,0.0,0.0,0.0,0.0,0.0,0.0,0.0,0.0,0.0,0.0,0.0,0.0,0.0,0.0,0.0,0.0,0.0,0.0,0.0,0.0,0.0,0.0,0.0,0.0,0.0,0.0,0.0,0.0,0.0,0.0,0.0,0.0,0.0,0.0,0.0,0.0,0.0,0.0,0.0,0.0,0.0,0.0,0.0,0.0,0.0,0.0,0.0,0.0,0.0,0.0,0.0,0.0,0.0,0.0,0.0,0.0,0.0,0.0,0.0,0.0,0.0,0.0,0.0,0.0,0.0,0.0,0.0,0.0,0.0,0.0,0.0,0.0,0.0,0.0,0.0,0.0,0.0,0.0,0.0,0.0,0.0,0.0,0.0,0.0,0.0,0.0,0.0,0.0,0.0,0.0,0.0,0.0,0.0,0.0,0.0,0.0,0.0,0.0,0.0,0.0,0.0,0.0,0.0,0.0,0.0,0.0,0.0,0.0,0.0,0.0,0.0,0.0,0.0,0.0,0.0,0.0,0.0,0.0,0.0,0.0,0.0,0.0,0.0,0.0,0.0,0.0,0.0,0.0,0.0,0.0,0.0,0.0,0.0,0.0,0.0,0.0,0.0,0.0,0.0,0.0,0.0,0.0,0.0,0.0,0.0,0.0,0.0,0.0,0.0,0.0,0.0,0.0,0.0,0.0,0.0,0.0,0.0,0.0,0.0,0.0,0.0,0.0,0.0,0.0,0.0,0.0,0.0,0.0,0.0,0.0,0.0,0.0,0.0,0.0,0.0,0.0,0.0,0.0,0.0,0.0,0.0,0.0,0.0,0.0,0.0,0.0,0.0,0.0,0.0,0.0,0.0,0.0,0.0,0.0,0.0,0.0,0.0,0.0,0.0,0.0,0.0,0.0,0.0,0.0,0.0,0.0,0.0,0.0,0.0,0.0,0.0,0.0,0.0,0.0,0.0,0.0,0.0,0.0,0.0,0.0,0.0,0.0,0.0,0.0,0.0,0.0,0.0,0.0,0.0,0.0,0.0,0.0,0.0,0.0,0.0,0.0,0.0,0.0,0.0,0.0,0.0,0.0,0.0,0.0,0.0,0.0,0.0,0.0,0.0,0.0,0.0,0.0,0.0,0.0,0.0,0.0,0.0,0.0,0.0,0.0,0.0,0.0,0.0,0.0,0.0,0.0,0.0,0.0,0.0,0.0,0.0,0.0,0.0,0.0,0.0,0.0,0.0,0.0,0.0,0.0,0.0,0.0,0.0,0.0,0.0,0.0,0.0,0.0,0.0,0.0,0.0,0.0,0.0,0.0,0.0,0.0,0.0,0.0,0.0,0.0,0.0,0.0,0.0,0.0,0.0,0.0,0.0,0.0,0.0,0.0,0.0,0.0,0.0,0.0,0.0,0.0,0.0,0.0,0.0,0.0,0.0,0.0,0.0,0.0,0.0,0.0,0.0,0.0,0.0,0.0,0.0,0.0,0.0,0.0,0.0,0.0,0.0,0.0,0.0,0.0,0.0,0.0,0.0,0.0,0.0,0.0,0.0,0.0,0.0,0.0,0.0,0.0,0.0,0.0,0.0,0.0,0.0,0.0,0.0,0.0,0.0,0.0,0.0,0.0,0.0,0.0,0.0,0.0,0.0,0.0,0.0,0.0,0.0,0.0,0.0,0.0,0.0,0.0,0.0,0.0,0.0,0.0,0.0,0.0,0.0,0.0,0.0,0.0,0.0,0.0,0.0,0.0,0.0,0.0,0.0,0.0,0.0,0.0,0.0,0.0,0.0,0.0,0.0,0.0,0.0,0.0,0.0,0.0,0.0,0.0,0.0,0.0,0.0,0.0,0.0,0.0,0.0,0.0,0.0,0.0,0.0,0.0,0.0,0.0,0.0,0.0,0.0,0.0,0.0,0.0,0.0,0.0,0.0,0.0,0.0,0.0,0.0,0.0,0.0,0.0,0.0,0.0,0.0,0.0,0.0,0.0,0.0,0.0,0.0,0.0,0.0,0.0,0.0,0.0,0.0,0.0,0.0,0.0,0.0,0.0,0.0,0.0,0.0,0.0,0.0,0.0,0.0,0.0,0.0,0.0,0.0,0.0,0.0,0.0,0.0,0.0,0.0,0.0,0.0,0.0,0.0,0.0,0.0,0.0,0.0,0.0,0.0,0.0,0.0,0.0,0.0,0.0,0.0,0.0,-0.0,-0.0,-0.0,-0.0,-0.0,-0.0,-0.0,-0.0,-0.0,-0.0,-0.0,-0.0,-0.0,-0.0,-0.0,-0.0,-0.0,-0.0,-0.0,-0.0,-0.0,-0.0,-0.0,-0.0,-0.0,-0.0,-0.0,-0.0,-0.0,-0.0,-0.0,-0.0,-0.0,-0.0,-0.0,-0.0,-0.0,-0.0,-0.0,-0.0,-0.0,-0.0,-0.0,-0.0,-0.0,-0.0,-0.0,-0.0,-0.0,-0.0,-0.0,-0.0,-0.0,-0.0,-0.0,-0.0,-0.0,-0.0,-0.0,-0.0,-0.0,-0.0,-0.0,-0.0,-0.0,-0.0,-0.0,-0.0,-0.0,-0.0,-0.0,-0.0,-0.0,-0.0,-0.0,-0.0,-0.0,-0.0,-0.0,-0.0,-0.0,-0.0,-0.0,-0.0,-0.0,-0.0,-0.0,-0.0,-0.0,-0.0,-0.0,-0.0,-0.0,-0.0,-0.0,-0.0,-0.0,-0.0,-0.0,-0.0,-0.0,-0.0,-0.0,-0.0,-0.0,-0.0,-0.0,-0.0,-0.0,-0.0,-0.0,-0.0,-0.0,-0.0,-0.0,-0.0,-0.0,-0.0,-0.0,-0.0,-0.0,-0.0,-0.0,-0.0,-0.0,-0.0,-0.0,-0.0,-0.0,-0.0,-0.0,-0.0,-0.0,-0.0,-0.0,-0.0,-0.0,-0.0,-0.0,-0.0,-0.0,-0.0,-0.0,-0.0,-0.0,-0.0,-0.0,-0.0,-0.0,-0.0,-0.0,-0.0,-0.0,-0.0,-0.0,-0.0,-0.0,-0.0,-0.0,-0.0,-0.0,-0.0,-0.0,-0.0,-0.0,-0.0,-0.0,-0.0,-0.0,-0.0,-0.0,-0.0,-0.0,-0.0,-0.0,-0.0,-0.0,-0.0,-0.0,-0.0,-0.0,-0.0,-0.0,-0.0,-0.0,-0.0,-0.0,-0.0,-0.0,-0.0,-0.0,-0.0,-0.0,-0.0,-0.0,-0.0,-0.0,-0.0,-0.0,-0.0,-0.0,-0.0,-0.0,-0.0,-0.0,-0.0,-0.0,-0.0,-0.0,-0.0,-0.0,-0.0,-0.0,-0.0,-0.0,-0.0,-0.0,-0.0,-0.0,-0.0,-0.0,-0.0,-0.0,-0.0,-0.0,-0.0,-0.0,-0.0,-0.0,-0.0,-0.0,-0.0,-0.0,-0.0,-0.0,-0.0,-0.0,-0.0,-0.0,-0.0,-0.0,-0.0,-0.0,-0.0,-0.0,-0.0,-0.0,-0.0,-0.0,-0.0,-0.0,-0.0,-0.0,-0.0,-0.0,-0.0,-0.0,-0.0,-0.0,-0.0,-0.0,-0.0,-0.0,-0.0,-0.0,-0.0,-0.0,-0.0,-0.0,-0.0,-0.0,-0.0,-0.0,-0.0,-0.0,-0.0,-0.0,-0.0,-0.0,-0.0,-0.0,-0.0,-0.0,-0.0,-0.0,-0.0,-0.0,-0.0,-0.0,-0.0,-0.0,-0.0,-0.0,-0.0,-0.0,-0.0,-0.0,-0.0,-0.0,-0.0,-0.0,-0.0,-0.0,-0.0,-0.0,-0.0,-0.0,-0.0,-0.0,-0.0,-0.0,-0.0,-0.0,-0.0,-0.0,-0.0,-0.0,-0.0,-0.0,-0.0,-0.0,-0.0,-0.0,-0.0,-0.0,-0.0,-0.0,-0.0,-0.0,-0.0,-0.0,-0.0,-0.0,-0.0,-0.0,-0.0,-0.0,-0.0,-0.0,-0.0,-0.0,-0.0,-0.0,-0.0,-0.0,-0.0,-0.0,-0.0,-0.0,-0.0,-0.0,-0.0,-0.0,-0.0,-0.0,-0.0,-0.0,-0.0,-0.0,-0.0,-0.0,-0.0,-0.0,-0.0,-0.0,-0.0,-0.0,-0.0,-0.0,-0.0,-0.0,-0.0,-0.0,-0.0,-0.0,-0.0,-0.0,-0.0,-0.0,-0.0,-0.0,-0.0,-0.0,-0.0,-0.0,-0.0,-0.0,-0.0,-0.0,-0.0,-0.0,-0.0,-0.0,-0.0,-0.0,-0.0,-0.0,-0.0,-0.0,-0.0,-0.0,-0.0,-0.0,-0.0,-0.0,-0.0,-0.0,-0.0,-0.0,-0.0,-0.0,-0.0,-0.0,-0.0,-0.0,-0.0,-0.0,-0.0,-0.0,-0.0,-0.0,-0.0,-0.0,-0.0,-0.0,-0.0,-0.0,-0.0,-0.0,-0.0,-0.0,-0.0,-0.0,-0.0,-0.0,-0.0,-0.0,-0.0,-0.0,-0.0,-0.0,-0.0,-0.0,-0.0,-0.0,-0.0,-0.0,-0.0,-0.0,-0.0,-0.0,-0.0,-0.0,-0.0,-0.0,-0.0,-0.0,-0.0,-0.0,-0.0,-0.0,-0.0,-0.0,-0.0,-0.0,-0.0,-0.0,-0.0,-0.0,-0.0,-0.0,-0.0,-0.0,-0.0,-0.0,-0.0,-0.0,-0.0,-0.0,-0.0,-0.0,-0.0,-0.0,-0.0,-0.0,-0.0,-0.0,-0.0,-0.0,-0.0,-0.0,-0.0,-0.0,-0.0,-0.0,-0.0,-0.0,-0.0,-0.0,-0.0],\"y\":[0.0,0.0,0.0,0.0,0.0,0.0,0.0,0.0,0.0,0.0,0.0,0.0,0.0,0.0,0.0,0.0,0.0,0.0,0.0,0.0,0.0,0.0,0.0,0.0,0.0,0.0,0.0,0.0,0.0,0.0,0.0,0.0,0.0,0.0,0.0,0.0,0.0,0.0,0.0,0.0,0.0,0.0,0.0,0.0,0.0,0.0,0.0,0.0,0.0,0.0,0.0,0.0,0.0,0.0,0.0,0.0,0.0,0.0,0.0,0.0,0.0,0.0,0.0,0.0,0.0,0.0,0.0,0.0,0.0,0.0,0.0,0.0,0.0,0.0,0.0,0.0,0.0,0.0,0.0,0.0,0.0,0.0,0.0,0.0,0.0,0.0,0.0,0.0,0.0,0.0,0.0,0.0,0.0,0.0,0.0,0.0,0.0,0.0,0.0,0.0,0.0,0.0,0.0,0.0,0.0,0.0,0.0,0.0,0.0,0.0,0.0,0.0,0.0,0.0,0.0,0.0,0.0,0.0,0.0,0.0,0.0,0.0,0.0,0.0,0.0,0.0,0.0,0.0,0.0,0.0,0.0,0.0,0.0,0.0,0.0,0.0,0.0,0.0,0.0,0.0,0.0,0.0,0.0,0.0,0.0,0.0,0.0,0.0,0.0,0.0,0.0,0.0,0.0,0.0,0.0,0.0,0.0,0.0,0.0,0.0,0.0,0.0,0.0,0.0,0.0,0.0,0.0,0.0,0.0,0.0,0.0,0.0,0.0,0.0,0.0,0.0,0.0,0.0,0.0,0.0,0.0,0.0,0.0,0.0,0.0,0.0,0.0,0.0,0.0,0.0,0.0,0.0,0.0,0.0,0.0,0.0,0.0,0.0,0.0,0.0,0.0,0.0,0.0,0.0,0.0,0.0,0.0,0.0,0.0,0.0,0.0,0.0,0.0,0.0,0.0,0.0,0.0,0.0,0.0,0.0,0.0,0.0,0.0,0.0,0.0,0.0,0.0,0.0,0.0,0.0,0.0,0.0,0.0,0.0,0.0,0.0,0.0,0.0,0.0,0.0,0.0,0.0,0.0,0.0,0.0,0.0,0.0,0.0,0.0,0.0,0.0,0.0,0.0,0.0,0.0,0.0,0.0,0.0,0.0,0.0,0.0,0.0,0.0,0.0,0.0,0.0,0.0,0.0,0.0,0.0,0.0,0.0,0.0,0.0,0.0,0.0,0.0,0.0,0.0,0.0,0.0,0.0,0.0,0.0,0.0,0.0,0.0,0.0,0.0,0.0,0.0,0.0,0.0,0.0,0.0,0.0,0.0,0.0,0.0,0.0,0.0,0.0,0.0,0.0,0.0,0.0,0.0,0.0,0.0,0.0,0.0,0.0,0.0,0.0,0.0,0.0,0.0,0.0,0.0,0.0,0.0,0.0,0.0,0.0,0.0,0.0,0.0,0.0,0.0,0.0,0.0,0.0,0.0,0.0,0.0,0.0,0.0,0.0,0.0,0.0,0.0,0.0,0.0,0.0,0.0,0.0,0.0,0.0,0.0,0.0,0.0,0.0,0.0,0.0,0.0,0.0,0.0,0.0,0.0,0.0,0.0,0.0,0.0,0.0,0.0,0.0,0.0,0.0,0.0,0.0,0.0,0.0,0.0,0.0,0.0,0.0,0.0,0.0,0.0,0.0,0.0,0.0,0.0,0.0,0.0,0.0,0.0,0.0,0.0,0.0,0.0,0.0,0.0,0.0,0.0,0.0,0.0,0.0,0.0,0.0,0.0,0.0,0.0,0.0,0.0,0.0,0.0,0.0,0.0,0.0,0.0,0.0,0.0,0.0,0.0,0.0,0.0,0.0,0.0,0.0,0.0,0.0,0.0,0.0,0.0,0.0,0.0,0.0,0.0,0.0,0.0,0.0,0.0,0.0,0.0,0.0,0.0,0.0,0.0,0.0,0.0,0.0,0.0,0.0,0.0,0.0,0.0,0.0,0.0,0.0,0.0,0.0,0.0,0.0,0.0,0.0,0.0,0.0,0.0,0.0,0.0,0.0,0.0,0.0,0.0,0.0,0.0,0.0,0.0,0.0,0.0,0.0,0.0,0.0,0.0,0.0,0.0,0.0,0.0,0.0,0.0,0.0,0.0,0.0,0.0,0.0,0.0,0.0,0.0,0.0,0.0,0.0,0.0,0.0,0.0,0.0,0.0,0.0,0.0,0.0,0.0,0.0,0.0,0.0,0.0,0.0,0.0,0.0,0.0,0.0,0.0,0.0,0.0,0.0,0.0,0.0,0.0,0.0,0.0,0.0,0.0,0.0,0.0,0.0,0.0,0.0,0.0,0.0,0.0,0.0,0.0,0.0,0.0,0.0,0.0,0.0,0.0,0.0,0.0,0.0,0.0,0.0,0.0,0.0,0.0,0.0,0.0,0.0,0.0,0.0,0.0,0.0,0.0,0.0,0.0,0.0,0.0,0.0,0.0,0.0,0.0,0.0,0.0,0.0,0.0,0.0,0.0,0.0,0.0,0.0,0.0,0.0,0.0,0.0,0.0,0.0,0.0,0.0,0.0,0.0,0.0,0.0,0.0,0.0,0.0,0.0,0.0,0.0,0.0,0.0,0.0,0.0,0.0,0.0,0.0,0.0,0.0,0.0,0.0,0.0,0.0,0.0,0.0,0.0,0.0,0.0,0.0,0.0,0.0,0.0,0.0,0.0,0.0,0.0,0.0,0.0,0.0,0.0,0.0,0.0,0.0,0.0,0.0,0.0,0.0,0.0,0.0,0.0,0.0,0.0,0.0,0.0,0.0,0.0,0.0,0.0,0.0,0.0,0.0,0.0,0.0,0.0,0.0,0.0,0.0,0.0,0.0,0.0,0.0,0.0,0.0,0.0,0.0,0.0,0.0,0.0,0.0,0.0,0.0,0.0,0.0,0.0,0.0,0.0,0.0,0.0,0.0,0.0,0.0,0.0,0.0,0.0,0.0,0.0,0.0,0.0,0.0,0.0,0.0,0.0,0.0,0.0,0.0,0.0,0.0,0.0,0.0,0.0,0.0,0.0,0.0,0.0,0.0,0.0,0.0,0.0,0.0,0.0,0.0,0.0,0.0,0.0,0.0,0.0,0.0,0.0,0.0,0.0,0.0,0.0,0.0,0.0,0.0,0.0,0.0,0.0,0.0,0.0,0.0,0.0,0.0,0.0,0.0,0.0,0.0,0.0,0.0,0.0,0.0,0.0,0.0,0.0,0.0,0.0,0.0,0.0,0.0,0.0,0.0,0.0,0.0,0.0,0.0,0.0,0.0,0.0,0.0,0.0,0.0,0.0,0.0,0.0,0.0,0.0,0.0,0.0,0.0,0.0,0.0,0.0,0.0,0.0,0.0,0.0,0.0,0.0,0.0,0.0,0.0,0.0,0.0,0.0,0.0,0.0,0.0,0.0,0.0,0.0,0.0,0.0,0.0,0.0,0.0,0.0,0.0,0.0,0.0,0.0,0.0,0.0,0.0,0.0,0.0,0.0,0.0,0.0,0.0,0.0,0.0,0.0,0.0,0.0,0.0,0.0,0.0,0.0,0.0,0.0,0.0,0.0,0.0,0.0,0.0,0.0,0.0,0.0,0.0,0.0,0.0,0.0,0.0,0.0,0.0,0.0,0.0,0.0,0.0,0.0,0.0,0.0,0.0,0.0,0.0,0.0,0.0,0.0,0.0,0.0,0.0,0.0,0.0,0.0,0.0,0.0,0.0,0.0,0.0,0.0,0.0,0.0,0.0,0.0,0.0,0.0,0.0,0.0,0.0,0.0,0.0,0.0,0.0,0.0,0.0,0.0,0.0,0.0,0.0,0.0,0.0,0.0,0.0,0.0,0.0,0.0,0.0,0.0,0.0,0.0,0.0,0.0,0.0,0.0,0.0,0.0,0.0,0.0,0.0,0.0,0.0,0.0,0.0,0.0,0.0,0.0,0.0,0.0,0.0,0.0,0.0,0.0,0.0,0.0,0.0,0.0,0.0,0.0,0.0,0.0,0.0,0.0,0.0,0.0,0.0,0.0,0.0,0.0,0.0,0.0,0.0,0.0,0.0,0.0,0.0,0.0,0.0,0.0,0.0,0.0,0.0,0.0,0.0,0.0,0.0,0.0,0.0,0.0,0.0,0.0,0.0,0.0,0.0,0.0,0.0,0.0,0.0,0.0,0.0,0.0,0.0,0.0,0.0,0.0,0.0,0.0,0.0,0.0,0.0,0.0,0.0,0.0,0.0,0.0,0.0,0.0,0.0,0.0,0.0,0.0,0.0,0.0,0.0,0.0,0.0,0.0,0.0,0.0,0.0,0.0,0.0,0.0,0.0,0.0,0.0,0.0,0.0,0.0,0.0,0.0,0.0,0.0,0.0,0.0,0.0,0.0,0.0,0.0,0.0,0.0,0.0,0.0]}],                        {\"legend\":{\"tracegroupgap\":0},\"margin\":{\"t\":60},\"template\":{\"data\":{\"barpolar\":[{\"marker\":{\"line\":{\"color\":\"#E5ECF6\",\"width\":0.5},\"pattern\":{\"fillmode\":\"overlay\",\"size\":10,\"solidity\":0.2}},\"type\":\"barpolar\"}],\"bar\":[{\"error_x\":{\"color\":\"#2a3f5f\"},\"error_y\":{\"color\":\"#2a3f5f\"},\"marker\":{\"line\":{\"color\":\"#E5ECF6\",\"width\":0.5},\"pattern\":{\"fillmode\":\"overlay\",\"size\":10,\"solidity\":0.2}},\"type\":\"bar\"}],\"carpet\":[{\"aaxis\":{\"endlinecolor\":\"#2a3f5f\",\"gridcolor\":\"white\",\"linecolor\":\"white\",\"minorgridcolor\":\"white\",\"startlinecolor\":\"#2a3f5f\"},\"baxis\":{\"endlinecolor\":\"#2a3f5f\",\"gridcolor\":\"white\",\"linecolor\":\"white\",\"minorgridcolor\":\"white\",\"startlinecolor\":\"#2a3f5f\"},\"type\":\"carpet\"}],\"choropleth\":[{\"colorbar\":{\"outlinewidth\":0,\"ticks\":\"\"},\"type\":\"choropleth\"}],\"contourcarpet\":[{\"colorbar\":{\"outlinewidth\":0,\"ticks\":\"\"},\"type\":\"contourcarpet\"}],\"contour\":[{\"colorbar\":{\"outlinewidth\":0,\"ticks\":\"\"},\"colorscale\":[[0.0,\"#0d0887\"],[0.1111111111111111,\"#46039f\"],[0.2222222222222222,\"#7201a8\"],[0.3333333333333333,\"#9c179e\"],[0.4444444444444444,\"#bd3786\"],[0.5555555555555556,\"#d8576b\"],[0.6666666666666666,\"#ed7953\"],[0.7777777777777778,\"#fb9f3a\"],[0.8888888888888888,\"#fdca26\"],[1.0,\"#f0f921\"]],\"type\":\"contour\"}],\"heatmapgl\":[{\"colorbar\":{\"outlinewidth\":0,\"ticks\":\"\"},\"colorscale\":[[0.0,\"#0d0887\"],[0.1111111111111111,\"#46039f\"],[0.2222222222222222,\"#7201a8\"],[0.3333333333333333,\"#9c179e\"],[0.4444444444444444,\"#bd3786\"],[0.5555555555555556,\"#d8576b\"],[0.6666666666666666,\"#ed7953\"],[0.7777777777777778,\"#fb9f3a\"],[0.8888888888888888,\"#fdca26\"],[1.0,\"#f0f921\"]],\"type\":\"heatmapgl\"}],\"heatmap\":[{\"colorbar\":{\"outlinewidth\":0,\"ticks\":\"\"},\"colorscale\":[[0.0,\"#0d0887\"],[0.1111111111111111,\"#46039f\"],[0.2222222222222222,\"#7201a8\"],[0.3333333333333333,\"#9c179e\"],[0.4444444444444444,\"#bd3786\"],[0.5555555555555556,\"#d8576b\"],[0.6666666666666666,\"#ed7953\"],[0.7777777777777778,\"#fb9f3a\"],[0.8888888888888888,\"#fdca26\"],[1.0,\"#f0f921\"]],\"type\":\"heatmap\"}],\"histogram2dcontour\":[{\"colorbar\":{\"outlinewidth\":0,\"ticks\":\"\"},\"colorscale\":[[0.0,\"#0d0887\"],[0.1111111111111111,\"#46039f\"],[0.2222222222222222,\"#7201a8\"],[0.3333333333333333,\"#9c179e\"],[0.4444444444444444,\"#bd3786\"],[0.5555555555555556,\"#d8576b\"],[0.6666666666666666,\"#ed7953\"],[0.7777777777777778,\"#fb9f3a\"],[0.8888888888888888,\"#fdca26\"],[1.0,\"#f0f921\"]],\"type\":\"histogram2dcontour\"}],\"histogram2d\":[{\"colorbar\":{\"outlinewidth\":0,\"ticks\":\"\"},\"colorscale\":[[0.0,\"#0d0887\"],[0.1111111111111111,\"#46039f\"],[0.2222222222222222,\"#7201a8\"],[0.3333333333333333,\"#9c179e\"],[0.4444444444444444,\"#bd3786\"],[0.5555555555555556,\"#d8576b\"],[0.6666666666666666,\"#ed7953\"],[0.7777777777777778,\"#fb9f3a\"],[0.8888888888888888,\"#fdca26\"],[1.0,\"#f0f921\"]],\"type\":\"histogram2d\"}],\"histogram\":[{\"marker\":{\"pattern\":{\"fillmode\":\"overlay\",\"size\":10,\"solidity\":0.2}},\"type\":\"histogram\"}],\"mesh3d\":[{\"colorbar\":{\"outlinewidth\":0,\"ticks\":\"\"},\"type\":\"mesh3d\"}],\"parcoords\":[{\"line\":{\"colorbar\":{\"outlinewidth\":0,\"ticks\":\"\"}},\"type\":\"parcoords\"}],\"pie\":[{\"automargin\":true,\"type\":\"pie\"}],\"scatter3d\":[{\"line\":{\"colorbar\":{\"outlinewidth\":0,\"ticks\":\"\"}},\"marker\":{\"colorbar\":{\"outlinewidth\":0,\"ticks\":\"\"}},\"type\":\"scatter3d\"}],\"scattercarpet\":[{\"marker\":{\"colorbar\":{\"outlinewidth\":0,\"ticks\":\"\"}},\"type\":\"scattercarpet\"}],\"scattergeo\":[{\"marker\":{\"colorbar\":{\"outlinewidth\":0,\"ticks\":\"\"}},\"type\":\"scattergeo\"}],\"scattergl\":[{\"marker\":{\"colorbar\":{\"outlinewidth\":0,\"ticks\":\"\"}},\"type\":\"scattergl\"}],\"scattermapbox\":[{\"marker\":{\"colorbar\":{\"outlinewidth\":0,\"ticks\":\"\"}},\"type\":\"scattermapbox\"}],\"scatterpolargl\":[{\"marker\":{\"colorbar\":{\"outlinewidth\":0,\"ticks\":\"\"}},\"type\":\"scatterpolargl\"}],\"scatterpolar\":[{\"marker\":{\"colorbar\":{\"outlinewidth\":0,\"ticks\":\"\"}},\"type\":\"scatterpolar\"}],\"scatter\":[{\"fillpattern\":{\"fillmode\":\"overlay\",\"size\":10,\"solidity\":0.2},\"type\":\"scatter\"}],\"scatterternary\":[{\"marker\":{\"colorbar\":{\"outlinewidth\":0,\"ticks\":\"\"}},\"type\":\"scatterternary\"}],\"surface\":[{\"colorbar\":{\"outlinewidth\":0,\"ticks\":\"\"},\"colorscale\":[[0.0,\"#0d0887\"],[0.1111111111111111,\"#46039f\"],[0.2222222222222222,\"#7201a8\"],[0.3333333333333333,\"#9c179e\"],[0.4444444444444444,\"#bd3786\"],[0.5555555555555556,\"#d8576b\"],[0.6666666666666666,\"#ed7953\"],[0.7777777777777778,\"#fb9f3a\"],[0.8888888888888888,\"#fdca26\"],[1.0,\"#f0f921\"]],\"type\":\"surface\"}],\"table\":[{\"cells\":{\"fill\":{\"color\":\"#EBF0F8\"},\"line\":{\"color\":\"white\"}},\"header\":{\"fill\":{\"color\":\"#C8D4E3\"},\"line\":{\"color\":\"white\"}},\"type\":\"table\"}]},\"layout\":{\"annotationdefaults\":{\"arrowcolor\":\"#2a3f5f\",\"arrowhead\":0,\"arrowwidth\":1},\"autotypenumbers\":\"strict\",\"coloraxis\":{\"colorbar\":{\"outlinewidth\":0,\"ticks\":\"\"}},\"colorscale\":{\"diverging\":[[0,\"#8e0152\"],[0.1,\"#c51b7d\"],[0.2,\"#de77ae\"],[0.3,\"#f1b6da\"],[0.4,\"#fde0ef\"],[0.5,\"#f7f7f7\"],[0.6,\"#e6f5d0\"],[0.7,\"#b8e186\"],[0.8,\"#7fbc41\"],[0.9,\"#4d9221\"],[1,\"#276419\"]],\"sequential\":[[0.0,\"#0d0887\"],[0.1111111111111111,\"#46039f\"],[0.2222222222222222,\"#7201a8\"],[0.3333333333333333,\"#9c179e\"],[0.4444444444444444,\"#bd3786\"],[0.5555555555555556,\"#d8576b\"],[0.6666666666666666,\"#ed7953\"],[0.7777777777777778,\"#fb9f3a\"],[0.8888888888888888,\"#fdca26\"],[1.0,\"#f0f921\"]],\"sequentialminus\":[[0.0,\"#0d0887\"],[0.1111111111111111,\"#46039f\"],[0.2222222222222222,\"#7201a8\"],[0.3333333333333333,\"#9c179e\"],[0.4444444444444444,\"#bd3786\"],[0.5555555555555556,\"#d8576b\"],[0.6666666666666666,\"#ed7953\"],[0.7777777777777778,\"#fb9f3a\"],[0.8888888888888888,\"#fdca26\"],[1.0,\"#f0f921\"]]},\"colorway\":[\"#636efa\",\"#EF553B\",\"#00cc96\",\"#ab63fa\",\"#FFA15A\",\"#19d3f3\",\"#FF6692\",\"#B6E880\",\"#FF97FF\",\"#FECB52\"],\"font\":{\"color\":\"#2a3f5f\"},\"geo\":{\"bgcolor\":\"white\",\"lakecolor\":\"white\",\"landcolor\":\"#E5ECF6\",\"showlakes\":true,\"showland\":true,\"subunitcolor\":\"white\"},\"hoverlabel\":{\"align\":\"left\"},\"hovermode\":\"closest\",\"mapbox\":{\"style\":\"light\"},\"paper_bgcolor\":\"white\",\"plot_bgcolor\":\"#E5ECF6\",\"polar\":{\"angularaxis\":{\"gridcolor\":\"white\",\"linecolor\":\"white\",\"ticks\":\"\"},\"bgcolor\":\"#E5ECF6\",\"radialaxis\":{\"gridcolor\":\"white\",\"linecolor\":\"white\",\"ticks\":\"\"}},\"scene\":{\"xaxis\":{\"backgroundcolor\":\"#E5ECF6\",\"gridcolor\":\"white\",\"gridwidth\":2,\"linecolor\":\"white\",\"showbackground\":true,\"ticks\":\"\",\"zerolinecolor\":\"white\"},\"yaxis\":{\"backgroundcolor\":\"#E5ECF6\",\"gridcolor\":\"white\",\"gridwidth\":2,\"linecolor\":\"white\",\"showbackground\":true,\"ticks\":\"\",\"zerolinecolor\":\"white\"},\"zaxis\":{\"backgroundcolor\":\"#E5ECF6\",\"gridcolor\":\"white\",\"gridwidth\":2,\"linecolor\":\"white\",\"showbackground\":true,\"ticks\":\"\",\"zerolinecolor\":\"white\"}},\"shapedefaults\":{\"line\":{\"color\":\"#2a3f5f\"}},\"ternary\":{\"aaxis\":{\"gridcolor\":\"white\",\"linecolor\":\"white\",\"ticks\":\"\"},\"baxis\":{\"gridcolor\":\"white\",\"linecolor\":\"white\",\"ticks\":\"\"},\"bgcolor\":\"#E5ECF6\",\"caxis\":{\"gridcolor\":\"white\",\"linecolor\":\"white\",\"ticks\":\"\"}},\"title\":{\"x\":0.05},\"xaxis\":{\"automargin\":true,\"gridcolor\":\"white\",\"linecolor\":\"white\",\"ticks\":\"\",\"title\":{\"standoff\":15},\"zerolinecolor\":\"white\",\"zerolinewidth\":2},\"yaxis\":{\"automargin\":true,\"gridcolor\":\"white\",\"linecolor\":\"white\",\"ticks\":\"\",\"title\":{\"standoff\":15},\"zerolinecolor\":\"white\",\"zerolinewidth\":2}}},\"xaxis\":{\"anchor\":\"y\",\"domain\":[0.0,1.0],\"title\":{\"text\":\"x\"},\"range\":[-60,60]},\"yaxis\":{\"anchor\":\"x\",\"domain\":[0.0,1.0],\"title\":{\"text\":\"y\"},\"range\":[-60,60]},\"width\":510,\"height\":500,\"showlegend\":false,\"shapes\":[{\"line\":{\"color\":\"black\"},\"type\":\"circle\",\"x0\":-16,\"x1\":16,\"xref\":\"x\",\"y0\":-16,\"y1\":16,\"yref\":\"y\"},{\"line\":{\"color\":\"black\"},\"type\":\"circle\",\"x0\":-58,\"x1\":58,\"xref\":\"x\",\"y0\":-58,\"y1\":58,\"yref\":\"y\"}]},                        {\"responsive\": true}                    ).then(function(){\n                            \nvar gd = document.getElementById('b6a5c26c-5725-4b1e-b7af-09a57bf829a3');\nvar x = new MutationObserver(function (mutations, observer) {{\n        var display = window.getComputedStyle(gd).display;\n        if (!display || display === 'none') {{\n            console.log([gd, 'removed!']);\n            Plotly.purge(gd);\n            observer.disconnect();\n        }}\n}});\n\n// Listen for the removal of the full notebook cells\nvar notebookContainer = gd.closest('#notebook-container');\nif (notebookContainer) {{\n    x.observe(notebookContainer, {childList: true});\n}}\n\n// Listen for the clearing of the current output cell\nvar outputEl = gd.closest('.output');\nif (outputEl) {{\n    x.observe(outputEl, {childList: true});\n}}\n\n                        })                };                            </script>        </div>\n</body>\n</html>"
                },
                "metadata": {}
              }
            ]
          }
        },
        "ae99c64c83e243b1bb5ded30b3c1ecb8": {
          "model_module": "@jupyter-widgets/base",
          "model_name": "LayoutModel",
          "model_module_version": "1.2.0",
          "state": {
            "_model_module": "@jupyter-widgets/base",
            "_model_module_version": "1.2.0",
            "_model_name": "LayoutModel",
            "_view_count": null,
            "_view_module": "@jupyter-widgets/base",
            "_view_module_version": "1.2.0",
            "_view_name": "LayoutView",
            "align_content": null,
            "align_items": null,
            "align_self": null,
            "border": null,
            "bottom": null,
            "display": null,
            "flex": null,
            "flex_flow": null,
            "grid_area": null,
            "grid_auto_columns": null,
            "grid_auto_flow": null,
            "grid_auto_rows": null,
            "grid_column": null,
            "grid_gap": null,
            "grid_row": null,
            "grid_template_areas": null,
            "grid_template_columns": null,
            "grid_template_rows": null,
            "height": null,
            "justify_content": null,
            "justify_items": null,
            "left": null,
            "margin": null,
            "max_height": null,
            "max_width": null,
            "min_height": null,
            "min_width": null,
            "object_fit": null,
            "object_position": null,
            "order": null,
            "overflow": null,
            "overflow_x": null,
            "overflow_y": null,
            "padding": null,
            "right": null,
            "top": null,
            "visibility": null,
            "width": null
          }
        },
        "c6a7874f0b4141d58b34a3164026c94a": {
          "model_module": "@jupyter-widgets/base",
          "model_name": "LayoutModel",
          "model_module_version": "1.2.0",
          "state": {
            "_model_module": "@jupyter-widgets/base",
            "_model_module_version": "1.2.0",
            "_model_name": "LayoutModel",
            "_view_count": null,
            "_view_module": "@jupyter-widgets/base",
            "_view_module_version": "1.2.0",
            "_view_name": "LayoutView",
            "align_content": null,
            "align_items": null,
            "align_self": null,
            "border": null,
            "bottom": null,
            "display": null,
            "flex": null,
            "flex_flow": null,
            "grid_area": null,
            "grid_auto_columns": null,
            "grid_auto_flow": null,
            "grid_auto_rows": null,
            "grid_column": null,
            "grid_gap": null,
            "grid_row": null,
            "grid_template_areas": null,
            "grid_template_columns": null,
            "grid_template_rows": null,
            "height": null,
            "justify_content": null,
            "justify_items": null,
            "left": null,
            "margin": null,
            "max_height": null,
            "max_width": null,
            "min_height": null,
            "min_width": null,
            "object_fit": null,
            "object_position": null,
            "order": null,
            "overflow": null,
            "overflow_x": null,
            "overflow_y": null,
            "padding": null,
            "right": null,
            "top": null,
            "visibility": null,
            "width": null
          }
        },
        "14f242f422de4bea8e74315c13aa2112": {
          "model_module": "@jupyter-widgets/controls",
          "model_name": "SliderStyleModel",
          "model_module_version": "1.5.0",
          "state": {
            "_model_module": "@jupyter-widgets/controls",
            "_model_module_version": "1.5.0",
            "_model_name": "SliderStyleModel",
            "_view_count": null,
            "_view_module": "@jupyter-widgets/base",
            "_view_module_version": "1.2.0",
            "_view_name": "StyleView",
            "description_width": "",
            "handle_color": null
          }
        },
        "5496c9360cc440fe8ad4b2e0f567a94d": {
          "model_module": "@jupyter-widgets/base",
          "model_name": "LayoutModel",
          "model_module_version": "1.2.0",
          "state": {
            "_model_module": "@jupyter-widgets/base",
            "_model_module_version": "1.2.0",
            "_model_name": "LayoutModel",
            "_view_count": null,
            "_view_module": "@jupyter-widgets/base",
            "_view_module_version": "1.2.0",
            "_view_name": "LayoutView",
            "align_content": null,
            "align_items": null,
            "align_self": null,
            "border": null,
            "bottom": null,
            "display": null,
            "flex": null,
            "flex_flow": null,
            "grid_area": null,
            "grid_auto_columns": null,
            "grid_auto_flow": null,
            "grid_auto_rows": null,
            "grid_column": null,
            "grid_gap": null,
            "grid_row": null,
            "grid_template_areas": null,
            "grid_template_columns": null,
            "grid_template_rows": null,
            "height": null,
            "justify_content": null,
            "justify_items": null,
            "left": null,
            "margin": null,
            "max_height": null,
            "max_width": null,
            "min_height": null,
            "min_width": null,
            "object_fit": null,
            "object_position": null,
            "order": null,
            "overflow": null,
            "overflow_x": null,
            "overflow_y": null,
            "padding": null,
            "right": null,
            "top": null,
            "visibility": null,
            "width": null
          }
        },
        "02f73a688c5f457d836e5acb09eb0eea": {
          "model_module": "@jupyter-widgets/controls",
          "model_name": "SliderStyleModel",
          "model_module_version": "1.5.0",
          "state": {
            "_model_module": "@jupyter-widgets/controls",
            "_model_module_version": "1.5.0",
            "_model_name": "SliderStyleModel",
            "_view_count": null,
            "_view_module": "@jupyter-widgets/base",
            "_view_module_version": "1.2.0",
            "_view_name": "StyleView",
            "description_width": "",
            "handle_color": null
          }
        },
        "09904e71c510451bbfb2429963d4b845": {
          "model_module": "@jupyter-widgets/base",
          "model_name": "LayoutModel",
          "model_module_version": "1.2.0",
          "state": {
            "_model_module": "@jupyter-widgets/base",
            "_model_module_version": "1.2.0",
            "_model_name": "LayoutModel",
            "_view_count": null,
            "_view_module": "@jupyter-widgets/base",
            "_view_module_version": "1.2.0",
            "_view_name": "LayoutView",
            "align_content": null,
            "align_items": null,
            "align_self": null,
            "border": null,
            "bottom": null,
            "display": null,
            "flex": null,
            "flex_flow": null,
            "grid_area": null,
            "grid_auto_columns": null,
            "grid_auto_flow": null,
            "grid_auto_rows": null,
            "grid_column": null,
            "grid_gap": null,
            "grid_row": null,
            "grid_template_areas": null,
            "grid_template_columns": null,
            "grid_template_rows": null,
            "height": null,
            "justify_content": null,
            "justify_items": null,
            "left": null,
            "margin": null,
            "max_height": null,
            "max_width": null,
            "min_height": null,
            "min_width": null,
            "object_fit": null,
            "object_position": null,
            "order": null,
            "overflow": null,
            "overflow_x": null,
            "overflow_y": null,
            "padding": null,
            "right": null,
            "top": null,
            "visibility": null,
            "width": null
          }
        },
        "efbb753b2e624e04ba452b0d1fdc0375": {
          "model_module": "@jupyter-widgets/controls",
          "model_name": "SliderStyleModel",
          "model_module_version": "1.5.0",
          "state": {
            "_model_module": "@jupyter-widgets/controls",
            "_model_module_version": "1.5.0",
            "_model_name": "SliderStyleModel",
            "_view_count": null,
            "_view_module": "@jupyter-widgets/base",
            "_view_module_version": "1.2.0",
            "_view_name": "StyleView",
            "description_width": "",
            "handle_color": null
          }
        },
        "fc3ab6cace05499cb871a84812a020b4": {
          "model_module": "@jupyter-widgets/base",
          "model_name": "LayoutModel",
          "model_module_version": "1.2.0",
          "state": {
            "_model_module": "@jupyter-widgets/base",
            "_model_module_version": "1.2.0",
            "_model_name": "LayoutModel",
            "_view_count": null,
            "_view_module": "@jupyter-widgets/base",
            "_view_module_version": "1.2.0",
            "_view_name": "LayoutView",
            "align_content": null,
            "align_items": null,
            "align_self": null,
            "border": null,
            "bottom": null,
            "display": null,
            "flex": null,
            "flex_flow": null,
            "grid_area": null,
            "grid_auto_columns": null,
            "grid_auto_flow": null,
            "grid_auto_rows": null,
            "grid_column": null,
            "grid_gap": null,
            "grid_row": null,
            "grid_template_areas": null,
            "grid_template_columns": null,
            "grid_template_rows": null,
            "height": null,
            "justify_content": null,
            "justify_items": null,
            "left": null,
            "margin": null,
            "max_height": null,
            "max_width": null,
            "min_height": null,
            "min_width": null,
            "object_fit": null,
            "object_position": null,
            "order": null,
            "overflow": null,
            "overflow_x": null,
            "overflow_y": null,
            "padding": null,
            "right": null,
            "top": null,
            "visibility": null,
            "width": null
          }
        },
        "7cbc35953a24422692ad42baa709b2c7": {
          "model_module": "@jupyter-widgets/controls",
          "model_name": "SliderStyleModel",
          "model_module_version": "1.5.0",
          "state": {
            "_model_module": "@jupyter-widgets/controls",
            "_model_module_version": "1.5.0",
            "_model_name": "SliderStyleModel",
            "_view_count": null,
            "_view_module": "@jupyter-widgets/base",
            "_view_module_version": "1.2.0",
            "_view_name": "StyleView",
            "description_width": "",
            "handle_color": null
          }
        },
        "d52b6536c01d455188962ff8019db45b": {
          "model_module": "@jupyter-widgets/base",
          "model_name": "LayoutModel",
          "model_module_version": "1.2.0",
          "state": {
            "_model_module": "@jupyter-widgets/base",
            "_model_module_version": "1.2.0",
            "_model_name": "LayoutModel",
            "_view_count": null,
            "_view_module": "@jupyter-widgets/base",
            "_view_module_version": "1.2.0",
            "_view_name": "LayoutView",
            "align_content": null,
            "align_items": null,
            "align_self": null,
            "border": null,
            "bottom": null,
            "display": null,
            "flex": null,
            "flex_flow": null,
            "grid_area": null,
            "grid_auto_columns": null,
            "grid_auto_flow": null,
            "grid_auto_rows": null,
            "grid_column": null,
            "grid_gap": null,
            "grid_row": null,
            "grid_template_areas": null,
            "grid_template_columns": null,
            "grid_template_rows": null,
            "height": null,
            "justify_content": null,
            "justify_items": null,
            "left": null,
            "margin": null,
            "max_height": null,
            "max_width": null,
            "min_height": null,
            "min_width": null,
            "object_fit": null,
            "object_position": null,
            "order": null,
            "overflow": null,
            "overflow_x": null,
            "overflow_y": null,
            "padding": null,
            "right": null,
            "top": null,
            "visibility": null,
            "width": null
          }
        },
        "15ae0ade9b624b169be61cc17a8ed90d": {
          "model_module": "@jupyter-widgets/controls",
          "model_name": "SliderStyleModel",
          "model_module_version": "1.5.0",
          "state": {
            "_model_module": "@jupyter-widgets/controls",
            "_model_module_version": "1.5.0",
            "_model_name": "SliderStyleModel",
            "_view_count": null,
            "_view_module": "@jupyter-widgets/base",
            "_view_module_version": "1.2.0",
            "_view_name": "StyleView",
            "description_width": "",
            "handle_color": null
          }
        },
        "abbb212e20d747b68db1c1e55d9842c9": {
          "model_module": "@jupyter-widgets/base",
          "model_name": "LayoutModel",
          "model_module_version": "1.2.0",
          "state": {
            "_model_module": "@jupyter-widgets/base",
            "_model_module_version": "1.2.0",
            "_model_name": "LayoutModel",
            "_view_count": null,
            "_view_module": "@jupyter-widgets/base",
            "_view_module_version": "1.2.0",
            "_view_name": "LayoutView",
            "align_content": null,
            "align_items": null,
            "align_self": null,
            "border": null,
            "bottom": null,
            "display": null,
            "flex": null,
            "flex_flow": null,
            "grid_area": null,
            "grid_auto_columns": null,
            "grid_auto_flow": null,
            "grid_auto_rows": null,
            "grid_column": null,
            "grid_gap": null,
            "grid_row": null,
            "grid_template_areas": null,
            "grid_template_columns": null,
            "grid_template_rows": null,
            "height": null,
            "justify_content": null,
            "justify_items": null,
            "left": null,
            "margin": null,
            "max_height": null,
            "max_width": null,
            "min_height": null,
            "min_width": null,
            "object_fit": null,
            "object_position": null,
            "order": null,
            "overflow": null,
            "overflow_x": null,
            "overflow_y": null,
            "padding": null,
            "right": null,
            "top": null,
            "visibility": null,
            "width": null
          }
        }
      }
    }
  },
  "cells": [
    {
      "cell_type": "markdown",
      "metadata": {
        "id": "view-in-github",
        "colab_type": "text"
      },
      "source": [
        "<a href=\"https://colab.research.google.com/github/duberii/pid-playground/blob/main/activities/Drift_Chambers.ipynb\" target=\"_parent\"><img src=\"https://colab.research.google.com/assets/colab-badge.svg\" alt=\"Open In Colab\"/></a>"
      ]
    },
    {
      "cell_type": "markdown",
      "source": [
        "# **Drift Chambers and Tracks**\n",
        "---\n",
        "Welcome to Particle Identification Playground! In this activity, you will get a brief introduction to drift chambers and tacks.\n",
        "\n",
        "**Before attempting this notebook, complete all of the activities in the Getting Started section.**\n",
        "\n",
        "**After completing this notebook, you will be able to:**\n",
        "*   Describe the role of drift chambers in a particle detector\n",
        "*   Define a track and what kinds of particle leave tracks\n",
        "*   Use individual hits to determine the position of a track\n",
        "*   Find the momentum of a particle based on the curvature of a track"
      ],
      "metadata": {
        "id": "c121h0MmoXoe"
      }
    },
    {
      "cell_type": "code",
      "source": [
        "#@title Run this cell before starting\n",
        "from IPython.display import YouTubeVideo\n",
        "import plotly.express as px\n",
        "import pandas as pd\n",
        "import numpy as np\n",
        "import ipywidgets as widgets\n",
        "import plotly\n",
        "from ipywidgets import interact, interactive, fixed, interact_manual, widgets\n",
        "import plotly.graph_objects as go\n",
        "import matplotlib.pyplot as plt\n",
        "from google.colab import output\n",
        "import xml.etree.ElementTree as ET\n",
        "output.enable_custom_widget_manager()\n",
        "!wget -q https://github.com/JeffersonLab/hdds/raw/master/CentralDC_HDDS.xml\n",
        "!wget -q https://github.com/duberii/pid-playground/raw/main/data/CDChits.hdf5\n",
        "track_fitting_events = pd.read_hdf(\"content/CDChits.hdf5\",\"event1\")\n",
        "B = 1.7\n",
        "ar = []\n",
        "def to_center_of_orbit(r, theta, centerx,centery):\n",
        "  tempx = r*np.cos(theta)\n",
        "  tempy = r * np.sin(theta)\n",
        "  new_r = ((tempx-centerx)**2+ (tempy-centery)**2)**0.5\n",
        "  return new_r\n",
        "def to_beam_axis(r, theta, centerx, centery):\n",
        "  new_x = r* np.cos(theta) - centerx\n",
        "  new_y = r* np.sin(theta) - centery\n",
        "  new_r = (new_x**2 + new_y**2)**0.5\n",
        "  new_theta = np.arctan2(new_y,new_x)\n",
        "  return new_r, new_theta\n",
        "def polar_coords(xs, ys):\n",
        "  rs = (xs**2 + ys**2)**0.5\n",
        "  thetas = np.arctan2(ys,xs)\n",
        "  return rs, thetas\n",
        "def x_coord(r_curvature, theta_curvature,center_x, t,q):\n",
        "  return r_curvature*np.cos(theta_curvature+q*t) + center_x\n",
        "def y_coord(r_curvature,theta_curvature,center_y, t,q):\n",
        "  return r_curvature*np.sin(theta_curvature+q*t)+ center_y\n",
        "def degrees_to_radians(degrees):\n",
        "  return degrees*np.pi/180\n",
        "tree =ET.parse(\"CentralDC_HDDS.xml\")\n",
        "root = tree.getroot()\n",
        "n_wires_per_ring = [0]\n",
        "wire_to_ring = [0]\n",
        "positionsMatrix = []\n",
        "ar = []\n",
        "\n",
        "for tag in [j for j in root.findall(\"composition\") if j.get(\"name\")==\"CDClayers\"][0]:\n",
        "  if tag.tag == \"mposPhi\":\n",
        "    positionsMatrix.append([])\n",
        "    n_wires_per_ring.append(int(tag.get('ncopy')))\n",
        "    R_Z = float(tag.get(\"R_Z\").split()[0])\n",
        "    Phi0 = degrees_to_radians(float(tag.get(\"Phi0\")))\n",
        "    if tag.get(\"volume\") == 'CDCstrawShort':\n",
        "      dPhi = degrees_to_radians(float(tag.get(\"dPhi\")))\n",
        "      for i in range(int(tag.get(\"ncopy\"))):\n",
        "        ar.append({'pos':[[R_Z*np.cos(Phi0+i*dPhi),R_Z*np.sin(Phi0+i*dPhi),0],[R_Z*np.cos(Phi0+i*dPhi),R_Z*np.sin(Phi0+i*dPhi),150]],'ring':int(tag.find(\"ring\").get(\"value\")),'straw':i+1})\n",
        "        positionsMatrix[-1].append(ar[-1]['pos'])\n",
        "    if tag.get(\"volume\") == 'CDCstrawLong':\n",
        "      n_wires_per_ring.append(int(tag.get('ncopy')))\n",
        "      dPhi = 2*np.pi/int(tag.get(\"ncopy\"))\n",
        "      rot = degrees_to_radians(float(tag.get('rot').split()[0]))\n",
        "      for i in range(int(tag.get(\"ncopy\"))):\n",
        "        ar.append({'pos':[[R_Z*np.cos(Phi0+i*dPhi)+75*np.tan(rot)*np.sin(Phi0+i*dPhi),R_Z*np.sin(Phi0+i*dPhi)-75*np.tan(rot)*np.cos(Phi0+i*dPhi),0],[R_Z*np.cos(Phi0+i*dPhi)-75*np.tan(rot)*np.sin(Phi0+i*dPhi),R_Z*np.sin(Phi0+i*dPhi)+75*np.tan(rot)*np.cos(Phi0+i*dPhi),150]],'ring':int(tag.find(\"ring\").get(\"value\")),'straw':i+1})\n",
        "        positionsMatrix[-1].append(ar[-1]['pos'])\n",
        "wire_positions_df = pd.DataFrame.from_records(ar)"
      ],
      "metadata": {
        "id": "_1LEQqSP7Khd",
        "cellView": "form"
      },
      "execution_count": 2,
      "outputs": []
    },
    {
      "cell_type": "markdown",
      "source": [
        "---\n",
        "##**Tracking Detectors**\n",
        "---\n",
        "**Silicon Trackers** and **Drift Chambers** are the two most common detectors that are able to measure momentum. Both of these detectors use the fact that charged particles can ionize atoms, . In this activity, we will explore drift chambers.\n",
        "\n",
        "The most important concept for momentum detectors is the idea of a **track**. A track is the path left as a charged particle passes through a momentum detector. When we observe a track in a detector, we know that there must be some particle that left that track, and our goal is to use information from the various detectors to identify the properties of that particle.\n",
        "\n",
        "Any detector that relies on the production of tracks is called a **Tracking Detector**."
      ],
      "metadata": {
        "id": "P7AK2ICKUAK6"
      }
    },
    {
      "cell_type": "code",
      "source": [
        "# @title\n",
        "YouTubeVideo(width = 560, height = 315, id=\"i15ef618DP0\")"
      ],
      "metadata": {
        "colab": {
          "base_uri": "https://localhost:8080/",
          "height": 337
        },
        "cellView": "form",
        "id": "3m1nN-qBjiUD",
        "outputId": "3f6adbe8-ab1e-4ed2-97be-16d82a3c4364"
      },
      "execution_count": null,
      "outputs": [
        {
          "output_type": "execute_result",
          "data": {
            "text/plain": [
              "<IPython.lib.display.YouTubeVideo at 0x78aa6997f850>"
            ],
            "text/html": [
              "\n",
              "        <iframe\n",
              "            width=\"560\"\n",
              "            height=\"315\"\n",
              "            src=\"https://www.youtube.com/embed/i15ef618DP0\"\n",
              "            frameborder=\"0\"\n",
              "            allowfullscreen\n",
              "            \n",
              "        ></iframe>\n",
              "        "
            ],
            "image/jpeg": "[encoded data removed]"
          },
          "metadata": {},
          "execution_count": 2
        }
      ]
    },
    {
      "cell_type": "markdown",
      "source": [
        "This video is a recording of one of the first types of tracking detectors called a **cloud chamber**. Each of those puffs of smoke is a track left by a charged particle passing through the detector. This type of detector was the inspiration for the background of the [PID Playground homepage](https://duberii.github.io/pid-playground)!\n"
      ],
      "metadata": {
        "id": "BZmgZxMFHx-h"
      }
    },
    {
      "cell_type": "markdown",
      "source": [
        "---\n",
        "##**Drift Chambers**\n",
        "---\n",
        "Drift Chambers (as well as cloud chambers and silicon trackers) at their core are just boxes of gas with a grid of wires in them. These wires are extremely close to each other, often to the point where it looks like they touch (even though they do not). The GlueX detector uses a slightly modified detector called a **Straw Chamber**, which has a slightly different layout, with positively charged wires inside negatively charged tubes."
      ],
      "metadata": {
        "id": "1kuztL0OgRkX"
      }
    },
    {
      "cell_type": "markdown",
      "source": [
        "<img width=\"512\" alt=\"An image of a small piece of a drift chamber\" src=\"https://upload.wikimedia.org/wikipedia/commons/thumb/6/60/Chambre-a-derive-IMG_0524.jpg/512px-Chambre-a-derive-IMG_0524.jpg\"><br>\n",
        "<a href=\"https://commons.wikimedia.org/wiki/File:Chambre-a-derive-IMG_0524.jpg\">Rama</a>, <a href=\"https://creativecommons.org/licenses/by-sa/2.0/fr/deed.en\">CC BY-SA 2.0 FR</a>, via Wikimedia Commons"
      ],
      "metadata": {
        "id": "vNL_K7psneJt"
      }
    },
    {
      "cell_type": "markdown",
      "source": [
        "The image show above is a cross section of a drift chamber. You may notice that it seems like the wires in the drift chamber touch, but they actually don't! The reason that these wires are so close together is to ensure that our measurements of the position of the track are as precise as possible.\n",
        "\n",
        "As a charged particle passes through the gas of the dirft chamber, it knocks electrons off the atoms in the gas. The wires in a drift chamber are positively charged, so these electrons are attracted to the nearest wire. Once the electrons reach the wire, they will produce a small pulse of current in the wire, which can be detected. Each of these pulses of current are called a **hit**, and we can use the path traced out by these hits to determine the shape of the track.\n",
        "\n",
        "---"
      ],
      "metadata": {
        "id": "IEWpUeC1oqS5"
      }
    },
    {
      "cell_type": "markdown",
      "source": [
        "####**Question #1:**\n",
        "---\n",
        "Which of the following particles would leave a track in a drift chamber?\n",
        "\n",
        "\n",
        "*   Photon\n",
        "*   Muon\n",
        "*   Neutron\n",
        "*   Neutrino\n",
        "*   Gluon\n",
        "*   Positive pion\n",
        "*   Neutral Kaon\n",
        "*   W boson\n"
      ],
      "metadata": {
        "id": "Nw2lfeLNQXVm"
      }
    },
    {
      "cell_type": "markdown",
      "source": [
        "Double click to edit this cell and answer the following question: Which of the following particles would leave a track in a drift chamber?"
      ],
      "metadata": {
        "id": "cmSVsKaSrq5X"
      }
    },
    {
      "cell_type": "markdown",
      "source": [
        "#####**Solution:**"
      ],
      "metadata": {
        "id": "9iwBnEgGQeBD"
      }
    },
    {
      "cell_type": "markdown",
      "source": [
        "Any charged particle would leave a track in a cloud chamber. There particles include:\n",
        "*   Muons\n",
        "*   Positive pions\n",
        "*   W bosons\n",
        "\n",
        "The remaining particles are neutral, and would not leave a track in the drift chamber."
      ],
      "metadata": {
        "id": "FkAVNc0_Qg46"
      }
    },
    {
      "cell_type": "markdown",
      "source": [
        "####**Question #2:**\n",
        "---\n",
        "In most particle detectors, particles must pass through a drift chamber (or another tracking detector) to reach other detectors. If we detect a particle in one of the other detectors, but don't see any track in the drift chamber, what could we say about the charge of the particle we detected?"
      ],
      "metadata": {
        "id": "9lVBhsmTUZ4D"
      }
    },
    {
      "cell_type": "markdown",
      "source": [
        "Double click to edit this cell and answer the following question: If we detect a particle in one of the other detectors, but don't see any track in the drift chamber, what could we say about the charge of the particle we detected?"
      ],
      "metadata": {
        "id": "5fTxZz04UZ4W"
      }
    },
    {
      "cell_type": "markdown",
      "source": [
        "#####**Solution:**"
      ],
      "metadata": {
        "id": "O3Op721ZUZ4W"
      }
    },
    {
      "cell_type": "markdown",
      "source": [
        "The particle we detected must have passed through a drift chamber. If it were charged, it would have left a track in the dirft chamber, which we would have been able to detect. Because we didn't see any tracks, the particle must have been neutral."
      ],
      "metadata": {
        "id": "9WytjAXfUZ4X"
      }
    },
    {
      "cell_type": "markdown",
      "source": [
        "---\n",
        "### **Detecting Tracks**\n",
        "---\n",
        "\n",
        "We can determine the position of a track based on the location of the wire it left a signal in. For example, in the GlueX detector, the wires are arranged in rings around the center of the detector. Based on which ring we see a signal in, we can determine the radial coordinate of the hit. A **hit** is an interaction between a particle and the drift chamber, which is detected as a pulse of electricity in one wire (or possibly several wires) in the drift chamber. Based on which wire in that ring has the biggest current pulse, we can determine the angular coordinate of the hit. If you are not familiar with polar coordinates, it will be useful to read about them here: [Click here to read about polar coordinates](https://mathinsight.org/polar_coordinates).\n",
        "\n",
        "The interactive figure below can be adjusted to plot up to three layers of the wires in GlueX's central drift chamber. Setting a slider to 0 hides that ring, which allows you to plot fewer than three rings at a time. Be sure to run the cell after you change the sliders."
      ],
      "metadata": {
        "id": "zFMMblk4qSjd"
      }
    },
    {
      "cell_type": "code",
      "source": [
        "Ring_1 = 4 # @param {type:\"slider\", min:0, max:28, step:1}\n",
        "Ring_2 = 5 # @param {type:\"slider\", min:0, max:28, step:1}\n",
        "Ring_3 = 6 # @param {type:\"slider\", min:0, max:28, step:1}\n",
        "xs = []\n",
        "ys = []\n",
        "zs = []\n",
        "ring_wires = []\n",
        "rings = []\n",
        "for i in wire_positions_df.iloc:\n",
        "  if i['ring'] in [Ring_1,Ring_2,Ring_3]:\n",
        "    xs.append(i['pos'][0][0]);\n",
        "    xs.append(i['pos'][1][0]);\n",
        "    ys.append(i['pos'][0][1]);\n",
        "    ys.append(i['pos'][1][1]);\n",
        "    zs.append(i['pos'][0][2]);\n",
        "    zs.append(i['pos'][1][2]);\n",
        "    ring_wires.append(\"Ring: \"+ str(i['ring']) + \" Wire: \" + str(i['straw']))\n",
        "    ring_wires.append(\"Ring: \"+ str(i['ring']) + \" Wire: \" + str(i['straw']))\n",
        "    rings.append(i['ring'])\n",
        "    rings.append(i['ring'])\n",
        "data_to_plot = pd.DataFrame()\n",
        "data_to_plot['x'] = xs\n",
        "data_to_plot['y'] = ys\n",
        "data_to_plot['z'] = zs\n",
        "data_to_plot['Ring and Wire']=ring_wires\n",
        "data_to_plot['ring']=rings\n",
        "fig = px.line_3d(data_frame=data_to_plot,x='x',y='z',z='y',line_group='Ring and Wire',color='ring')\n",
        "fig.update_traces(line=dict(width=5))\n",
        "fig.update_layout(title=\"Rings of the GlueX Central Drift Chamber\",legend_title=\"Ring Number\",scene={'aspectmode':'cube','xaxis':{'range':[-60,60],\"title\":\"X\"},'yaxis':{'range':[0,175],\"title\":\"Z\"},'zaxis':{'range':[-60,60],'title':'Y'}})\n",
        "fig.show()\n"
      ],
      "metadata": {
        "colab": {
          "base_uri": "https://localhost:8080/",
          "height": 542
        },
        "id": "_mfvMeyDLsF-",
        "outputId": "5d0af4f0-6521-42b5-d3d6-e7adcf5a5d9d",
        "cellView": "form"
      },
      "execution_count": null,
      "outputs": [
        {
          "output_type": "display_data",
          "data": {
            "text/html": [
              "<html>\n",
              "<head><meta charset=\"utf-8\" /></head>\n",
              "<body>\n",
              "    <div>            <script src=\"https://cdnjs.cloudflare.com/ajax/libs/mathjax/2.7.5/MathJax.js?config=TeX-AMS-MML_SVG\"></script><script type=\"text/javascript\">if (window.MathJax && window.MathJax.Hub && window.MathJax.Hub.Config) {window.MathJax.Hub.Config({SVG: {font: \"STIX-Web\"}});}</script>                <script type=\"text/javascript\">window.PlotlyConfig = {MathJaxConfig: 'local'};</script>\n",
              "        <script charset=\"utf-8\" src=\"https://cdn.plot.ly/plotly-2.24.1.min.js\"></script>                <div id=\"2f5d0142-9313-405e-a3a8-05c3f75b33f6\" class=\"plotly-graph-div\" style=\"height:525px; width:100%;\"></div>            <script type=\"text/javascript\">                                    window.PLOTLYENV=window.PLOTLYENV || {};                                    if (document.getElementById(\"2f5d0142-9313-405e-a3a8-05c3f75b33f6\")) {                    Plotly.newPlot(                        \"2f5d0142-9313-405e-a3a8-05c3f75b33f6\",                        [{\"hovertemplate\":\"ring=4\\u003cbr\\u003eRing and Wire=Ring: 4 Wire: 1\\u003cbr\\u003ex=%{x}\\u003cbr\\u003ez=%{y}\\u003cbr\\u003ey=%{z}\\u003cextra\\u003e\\u003c\\u002fextra\\u003e\",\"legendgroup\":\"4\",\"line\":{\"color\":\"#636efa\",\"dash\":\"solid\",\"width\":5},\"marker\":{\"symbol\":\"circle\"},\"mode\":\"lines\",\"name\":\"4\",\"scene\":\"scene\",\"showlegend\":true,\"x\":[15.074704446570042,15.074704446570042],\"y\":[0,150],\"z\":[1.4554218936656849,1.4554218936656849],\"type\":\"scatter3d\"},{\"hovertemplate\":\"ring=4\\u003cbr\\u003eRing and Wire=Ring: 4 Wire: 2\\u003cbr\\u003ex=%{x}\\u003cbr\\u003ez=%{y}\\u003cbr\\u003ey=%{z}\\u003cextra\\u003e\\u003c\\u002fextra\\u003e\",\"legendgroup\":\"4\",\"line\":{\"color\":\"#636efa\",\"dash\":\"solid\",\"width\":5},\"marker\":{\"symbol\":\"circle\"},\"mode\":\"lines\",\"name\":\"4\",\"scene\":\"scene\",\"showlegend\":false,\"x\":[14.803810517179931,14.803810517179931],\"y\":[0,150],\"z\":[3.1956472288775637,3.1956472288775637],\"type\":\"scatter3d\"},{\"hovertemplate\":\"ring=4\\u003cbr\\u003eRing and Wire=Ring: 4 Wire: 3\\u003cbr\\u003ex=%{x}\\u003cbr\\u003ez=%{y}\\u003cbr\\u003ey=%{z}\\u003cextra\\u003e\\u003c\\u002fextra\\u003e\",\"legendgroup\":\"4\",\"line\":{\"color\":\"#636efa\",\"dash\":\"solid\",\"width\":5},\"marker\":{\"symbol\":\"circle\"},\"mode\":\"lines\",\"name\":\"4\",\"scene\":\"scene\",\"showlegend\":false,\"x\":[14.332720444243654,14.332720444243654],\"y\":[0,150],\"z\":[4.892656916968531,4.892656916968531],\"type\":\"scatter3d\"},{\"hovertemplate\":\"ring=4\\u003cbr\\u003eRing and Wire=Ring: 4 Wire: 4\\u003cbr\\u003ex=%{x}\\u003cbr\\u003ez=%{y}\\u003cbr\\u003ey=%{z}\\u003cextra\\u003e\\u003c\\u002fextra\\u003e\",\"legendgroup\":\"4\",\"line\":{\"color\":\"#636efa\",\"dash\":\"solid\",\"width\":5},\"marker\":{\"symbol\":\"circle\"},\"mode\":\"lines\",\"name\":\"4\",\"scene\":\"scene\",\"showlegend\":false,\"x\":[13.667804912913876,13.667804912913876],\"y\":[0,150],\"z\":[6.523501812870699,6.523501812870699],\"type\":\"scatter3d\"},{\"hovertemplate\":\"ring=4\\u003cbr\\u003eRing and Wire=Ring: 4 Wire: 5\\u003cbr\\u003ex=%{x}\\u003cbr\\u003ez=%{y}\\u003cbr\\u003ey=%{z}\\u003cextra\\u003e\\u003c\\u002fextra\\u003e\",\"legendgroup\":\"4\",\"line\":{\"color\":\"#636efa\",\"dash\":\"solid\",\"width\":5},\"marker\":{\"symbol\":\"circle\"},\"mode\":\"lines\",\"name\":\"4\",\"scene\":\"scene\",\"showlegend\":false,\"x\":[12.818055765189774,12.818055765189774],\"y\":[0,150],\"z\":[8.066127536834834,8.066127536834834],\"type\":\"scatter3d\"},{\"hovertemplate\":\"ring=4\\u003cbr\\u003eRing and Wire=Ring: 4 Wire: 6\\u003cbr\\u003ex=%{x}\\u003cbr\\u003ez=%{y}\\u003cbr\\u003ey=%{z}\\u003cextra\\u003e\\u003c\\u002fextra\\u003e\",\"legendgroup\":\"4\",\"line\":{\"color\":\"#636efa\",\"dash\":\"solid\",\"width\":5},\"marker\":{\"symbol\":\"circle\"},\"mode\":\"lines\",\"name\":\"4\",\"scene\":\"scene\",\"showlegend\":false,\"x\":[11.79496440067813,11.79496440067813],\"y\":[0,150],\"z\":[9.499672722085515,9.499672722085515],\"type\":\"scatter3d\"},{\"hovertemplate\":\"ring=4\\u003cbr\\u003eRing and Wire=Ring: 4 Wire: 7\\u003cbr\\u003ex=%{x}\\u003cbr\\u003ez=%{y}\\u003cbr\\u003ey=%{z}\\u003cextra\\u003e\\u003c\\u002fextra\\u003e\",\"legendgroup\":\"4\",\"line\":{\"color\":\"#636efa\",\"dash\":\"solid\",\"width\":5},\"marker\":{\"symbol\":\"circle\"},\"mode\":\"lines\",\"name\":\"4\",\"scene\":\"scene\",\"showlegend\":false,\"x\":[10.612366375125411,10.612366375125411],\"y\":[0,150],\"z\":[10.80475112902225,10.80475112902225],\"type\":\"scatter3d\"},{\"hovertemplate\":\"ring=4\\u003cbr\\u003eRing and Wire=Ring: 4 Wire: 8\\u003cbr\\u003ex=%{x}\\u003cbr\\u003ez=%{y}\\u003cbr\\u003ey=%{z}\\u003cextra\\u003e\\u003c\\u002fextra\\u003e\",\"legendgroup\":\"4\",\"line\":{\"color\":\"#636efa\",\"dash\":\"solid\",\"width\":5},\"marker\":{\"symbol\":\"circle\"},\"mode\":\"lines\",\"name\":\"4\",\"scene\":\"scene\",\"showlegend\":false,\"x\":[9.286254298259108,9.286254298259108],\"y\":[0,150],\"z\":[11.963713810855902,11.963713810855902],\"type\":\"scatter3d\"},{\"hovertemplate\":\"ring=4\\u003cbr\\u003eRing and Wire=Ring: 4 Wire: 9\\u003cbr\\u003ex=%{x}\\u003cbr\\u003ez=%{y}\\u003cbr\\u003ey=%{z}\\u003cextra\\u003e\\u003c\\u002fextra\\u003e\",\"legendgroup\":\"4\",\"line\":{\"color\":\"#636efa\",\"dash\":\"solid\",\"width\":5},\"marker\":{\"symbol\":\"circle\"},\"mode\":\"lines\",\"name\":\"4\",\"scene\":\"scene\",\"showlegend\":false,\"x\":[7.834561561174072,7.834561561174072],\"y\":[0,150],\"z\":[12.960887785339926,12.960887785339926],\"type\":\"scatter3d\"},{\"hovertemplate\":\"ring=4\\u003cbr\\u003eRing and Wire=Ring: 4 Wire: 10\\u003cbr\\u003ex=%{x}\\u003cbr\\u003ez=%{y}\\u003cbr\\u003ey=%{z}\\u003cextra\\u003e\\u003c\\u002fextra\\u003e\",\"legendgroup\":\"4\",\"line\":{\"color\":\"#636efa\",\"dash\":\"solid\",\"width\":5},\"marker\":{\"symbol\":\"circle\"},\"mode\":\"lines\",\"name\":\"4\",\"scene\":\"scene\",\"showlegend\":false,\"x\":[6.276919817979971,6.276919817979971],\"y\":[0,150],\"z\":[13.782787984970613,13.782787984970613],\"type\":\"scatter3d\"},{\"hovertemplate\":\"ring=4\\u003cbr\\u003eRing and Wire=Ring: 4 Wire: 11\\u003cbr\\u003ex=%{x}\\u003cbr\\u003ez=%{y}\\u003cbr\\u003ey=%{z}\\u003cextra\\u003e\\u003c\\u002fextra\\u003e\",\"legendgroup\":\"4\",\"line\":{\"color\":\"#636efa\",\"dash\":\"solid\",\"width\":5},\"marker\":{\"symbol\":\"circle\"},\"mode\":\"lines\",\"name\":\"4\",\"scene\":\"scene\",\"showlegend\":false,\"x\":[4.634393501354607,4.634393501354607],\"y\":[0,150],\"z\":[14.41829961939348,14.41829961939348],\"type\":\"scatter3d\"},{\"hovertemplate\":\"ring=4\\u003cbr\\u003eRing and Wire=Ring: 4 Wire: 12\\u003cbr\\u003ex=%{x}\\u003cbr\\u003ez=%{y}\\u003cbr\\u003ey=%{z}\\u003cextra\\u003e\\u003c\\u002fextra\\u003e\",\"legendgroup\":\"4\",\"line\":{\"color\":\"#636efa\",\"dash\":\"solid\",\"width\":5},\"marker\":{\"symbol\":\"circle\"},\"mode\":\"lines\",\"name\":\"4\",\"scene\":\"scene\",\"showlegend\":false,\"x\":[2.9291949622247797,2.9291949622247797],\"y\":[0,150],\"z\":[14.858828483877085,14.858828483877085],\"type\":\"scatter3d\"},{\"hovertemplate\":\"ring=4\\u003cbr\\u003eRing and Wire=Ring: 4 Wire: 13\\u003cbr\\u003ex=%{x}\\u003cbr\\u003ez=%{y}\\u003cbr\\u003ey=%{z}\\u003cextra\\u003e\\u003c\\u002fextra\\u003e\",\"legendgroup\":\"4\",\"line\":{\"color\":\"#636efa\",\"dash\":\"solid\",\"width\":5},\"marker\":{\"symbol\":\"circle\"},\"mode\":\"lines\",\"name\":\"4\",\"scene\":\"scene\",\"showlegend\":false,\"x\":[1.184384085821943,1.184384085821943],\"y\":[0,150],\"z\":[15.098417181189944,15.098417181189944],\"type\":\"scatter3d\"},{\"hovertemplate\":\"ring=4\\u003cbr\\u003eRing and Wire=Ring: 4 Wire: 14\\u003cbr\\u003ex=%{x}\\u003cbr\\u003ez=%{y}\\u003cbr\\u003ey=%{z}\\u003cextra\\u003e\\u003c\\u002fextra\\u003e\",\"legendgroup\":\"4\",\"line\":{\"color\":\"#636efa\",\"dash\":\"solid\",\"width\":5},\"marker\":{\"symbol\":\"circle\"},\"mode\":\"lines\",\"name\":\"4\",\"scene\":\"scene\",\"showlegend\":false,\"x\":[-0.5764435537098088,-0.5764435537098088],\"y\":[0,150],\"z\":[15.133825685179092,15.133825685179092],\"type\":\"scatter3d\"},{\"hovertemplate\":\"ring=4\\u003cbr\\u003eRing and Wire=Ring: 4 Wire: 15\\u003cbr\\u003ex=%{x}\\u003cbr\\u003ez=%{y}\\u003cbr\\u003ey=%{z}\\u003cextra\\u003e\\u003c\\u002fextra\\u003e\",\"legendgroup\":\"4\",\"line\":{\"color\":\"#636efa\",\"dash\":\"solid\",\"width\":5},\"marker\":{\"symbol\":\"circle\"},\"mode\":\"lines\",\"name\":\"4\",\"scene\":\"scene\",\"showlegend\":false,\"x\":[-2.329475782979397,-2.329475782979397],\"y\":[0,150],\"z\":[14.964575156566006,14.964575156566006],\"type\":\"scatter3d\"},{\"hovertemplate\":\"ring=4\\u003cbr\\u003eRing and Wire=Ring: 4 Wire: 16\\u003cbr\\u003ex=%{x}\\u003cbr\\u003ez=%{y}\\u003cbr\\u003ey=%{z}\\u003cextra\\u003e\\u003c\\u002fextra\\u003e\",\"legendgroup\":\"4\",\"line\":{\"color\":\"#636efa\",\"dash\":\"solid\",\"width\":5},\"marker\":{\"symbol\":\"circle\"},\"mode\":\"lines\",\"name\":\"4\",\"scene\":\"scene\",\"showlegend\":false,\"x\":[-4.051005848147691,-4.051005848147691],\"y\":[0,150],\"z\":[14.592954418426489,14.592954418426489],\"type\":\"scatter3d\"},{\"hovertemplate\":\"ring=4\\u003cbr\\u003eRing and Wire=Ring: 4 Wire: 17\\u003cbr\\u003ex=%{x}\\u003cbr\\u003ez=%{y}\\u003cbr\\u003ey=%{z}\\u003cextra\\u003e\\u003c\\u002fextra\\u003e\",\"legendgroup\":\"4\",\"line\":{\"color\":\"#636efa\",\"dash\":\"solid\",\"width\":5},\"marker\":{\"symbol\":\"circle\"},\"mode\":\"lines\",\"name\":\"4\",\"scene\":\"scene\",\"showlegend\":false,\"x\":[-5.717753008107831,-5.717753008107831],\"y\":[0,150],\"z\":[14.023989003784688,14.023989003784688],\"type\":\"scatter3d\"},{\"hovertemplate\":\"ring=4\\u003cbr\\u003eRing and Wire=Ring: 4 Wire: 18\\u003cbr\\u003ex=%{x}\\u003cbr\\u003ez=%{y}\\u003cbr\\u003ey=%{z}\\u003cextra\\u003e\\u003c\\u002fextra\\u003e\",\"legendgroup\":\"4\",\"line\":{\"color\":\"#636efa\",\"dash\":\"solid\",\"width\":5},\"marker\":{\"symbol\":\"circle\"},\"mode\":\"lines\",\"name\":\"4\",\"scene\":\"scene\",\"showlegend\":false,\"x\":[-7.307177366574106,-7.307177366574106],\"y\":[0,150],\"z\":[13.265373193899487,13.265373193899487],\"type\":\"scatter3d\"},{\"hovertemplate\":\"ring=4\\u003cbr\\u003eRing and Wire=Ring: 4 Wire: 19\\u003cbr\\u003ex=%{x}\\u003cbr\\u003ez=%{y}\\u003cbr\\u003ey=%{z}\\u003cextra\\u003e\\u003c\\u002fextra\\u003e\",\"legendgroup\":\"4\",\"line\":{\"color\":\"#636efa\",\"dash\":\"solid\",\"width\":5},\"marker\":{\"symbol\":\"circle\"},\"mode\":\"lines\",\"name\":\"4\",\"scene\":\"scene\",\"showlegend\":false,\"x\":[-8.797784685515436,-8.797784685515436],\"y\":[0,150],\"z\":[12.327365966308863,12.327365966308863],\"type\":\"scatter3d\"},{\"hovertemplate\":\"ring=4\\u003cbr\\u003eRing and Wire=Ring: 4 Wire: 20\\u003cbr\\u003ex=%{x}\\u003cbr\\u003ez=%{y}\\u003cbr\\u003ey=%{z}\\u003cextra\\u003e\\u003c\\u002fextra\\u003e\",\"legendgroup\":\"4\",\"line\":{\"color\":\"#636efa\",\"dash\":\"solid\",\"width\":5},\"marker\":{\"symbol\":\"circle\"},\"mode\":\"lines\",\"name\":\"4\",\"scene\":\"scene\",\"showlegend\":false,\"x\":[-10.169417057854623,-10.169417057854623],\"y\":[0,150],\"z\":[11.2226522597564,11.2226522597564],\"type\":\"scatter3d\"},{\"hovertemplate\":\"ring=4\\u003cbr\\u003eRing and Wire=Ring: 4 Wire: 21\\u003cbr\\u003ex=%{x}\\u003cbr\\u003ez=%{y}\\u003cbr\\u003ey=%{z}\\u003cextra\\u003e\\u003c\\u002fextra\\u003e\",\"legendgroup\":\"4\",\"line\":{\"color\":\"#636efa\",\"dash\":\"solid\",\"width\":5},\"marker\":{\"symbol\":\"circle\"},\"mode\":\"lines\",\"name\":\"4\",\"scene\":\"scene\",\"showlegend\":false,\"x\":[-11.403525508583733,-11.403525508583733],\"y\":[0,150],\"z\":[9.966171432153882,9.966171432153882],\"type\":\"scatter3d\"},{\"hovertemplate\":\"ring=4\\u003cbr\\u003eRing and Wire=Ring: 4 Wire: 22\\u003cbr\\u003ex=%{x}\\u003cbr\\u003ez=%{y}\\u003cbr\\u003ey=%{z}\\u003cextra\\u003e\\u003c\\u002fextra\\u003e\",\"legendgroup\":\"4\",\"line\":{\"color\":\"#636efa\",\"dash\":\"solid\",\"width\":5},\"marker\":{\"symbol\":\"circle\"},\"mode\":\"lines\",\"name\":\"4\",\"scene\":\"scene\",\"showlegend\":false,\"x\":[-12.483420837833108,-12.483420837833108],\"y\":[0,150],\"z\":[8.574915231391746,8.574915231391746],\"type\":\"scatter3d\"},{\"hovertemplate\":\"ring=4\\u003cbr\\u003eRing and Wire=Ring: 4 Wire: 23\\u003cbr\\u003ex=%{x}\\u003cbr\\u003ez=%{y}\\u003cbr\\u003ey=%{z}\\u003cextra\\u003e\\u003c\\u002fextra\\u003e\",\"legendgroup\":\"4\",\"line\":{\"color\":\"#636efa\",\"dash\":\"solid\",\"width\":5},\"marker\":{\"symbol\":\"circle\"},\"mode\":\"lines\",\"name\":\"4\",\"scene\":\"scene\",\"showlegend\":false,\"x\":[-13.394499313671817,-13.394499313671817],\"y\":[0,150],\"z\":[7.067698011095638,7.067698011095638],\"type\":\"scatter3d\"},{\"hovertemplate\":\"ring=4\\u003cbr\\u003eRing and Wire=Ring: 4 Wire: 24\\u003cbr\\u003ex=%{x}\\u003cbr\\u003ez=%{y}\\u003cbr\\u003ey=%{z}\\u003cextra\\u003e\\u003c\\u002fextra\\u003e\",\"legendgroup\":\"4\",\"line\":{\"color\":\"#636efa\",\"dash\":\"solid\",\"width\":5},\"marker\":{\"symbol\":\"circle\"},\"mode\":\"lines\",\"name\":\"4\",\"scene\":\"scene\",\"showlegend\":false,\"x\":[-14.124440162531515,-14.124440162531515],\"y\":[0,150],\"z\":[5.4649022987668046,5.4649022987668046],\"type\":\"scatter3d\"},{\"hovertemplate\":\"ring=4\\u003cbr\\u003eRing and Wire=Ring: 4 Wire: 25\\u003cbr\\u003ex=%{x}\\u003cbr\\u003ez=%{y}\\u003cbr\\u003ey=%{z}\\u003cextra\\u003e\\u003c\\u002fextra\\u003e\",\"legendgroup\":\"4\",\"line\":{\"color\":\"#636efa\",\"dash\":\"solid\",\"width\":5},\"marker\":{\"symbol\":\"circle\"},\"mode\":\"lines\",\"name\":\"4\",\"scene\":\"scene\",\"showlegend\":false,\"x\":[-14.66337218653454,-14.66337218653454],\"y\":[0,150],\"z\":[3.788203157060782,3.788203157060782],\"type\":\"scatter3d\"},{\"hovertemplate\":\"ring=4\\u003cbr\\u003eRing and Wire=Ring: 4 Wire: 26\\u003cbr\\u003ex=%{x}\\u003cbr\\u003ez=%{y}\\u003cbr\\u003ey=%{z}\\u003cextra\\u003e\\u003c\\u002fextra\\u003e\",\"legendgroup\":\"4\",\"line\":{\"color\":\"#636efa\",\"dash\":\"solid\",\"width\":5},\"marker\":{\"symbol\":\"circle\"},\"mode\":\"lines\",\"name\":\"4\",\"scene\":\"scene\",\"showlegend\":false,\"x\":[-15.004007254512652,-15.004007254512652],\"y\":[0,150],\"z\":[2.060275065745273,2.060275065745273],\"type\":\"scatter3d\"},{\"hovertemplate\":\"ring=4\\u003cbr\\u003eRing and Wire=Ring: 4 Wire: 27\\u003cbr\\u003ex=%{x}\\u003cbr\\u003ez=%{y}\\u003cbr\\u003ey=%{z}\\u003cextra\\u003e\\u003c\\u002fextra\\u003e\",\"legendgroup\":\"4\",\"line\":{\"color\":\"#636efa\",\"dash\":\"solid\",\"width\":5},\"marker\":{\"symbol\":\"circle\"},\"mode\":\"lines\",\"name\":\"4\",\"scene\":\"scene\",\"showlegend\":false,\"x\":[-15.141738861479407,-15.141738861479407],\"y\":[0,150],\"z\":[0.3044852882559333,0.3044852882559333],\"type\":\"scatter3d\"},{\"hovertemplate\":\"ring=4\\u003cbr\\u003eRing and Wire=Ring: 4 Wire: 28\\u003cbr\\u003ex=%{x}\\u003cbr\\u003ez=%{y}\\u003cbr\\u003ey=%{z}\\u003cextra\\u003e\\u003c\\u002fextra\\u003e\",\"legendgroup\":\"4\",\"line\":{\"color\":\"#636efa\",\"dash\":\"solid\",\"width\":5},\"marker\":{\"symbol\":\"circle\"},\"mode\":\"lines\",\"name\":\"4\",\"scene\":\"scene\",\"showlegend\":false,\"x\":[-15.074704423708326,-15.074704423708326],\"y\":[0,150],\"z\":[-1.4554221304585924,-1.4554221304585924],\"type\":\"scatter3d\"},{\"hovertemplate\":\"ring=4\\u003cbr\\u003eRing and Wire=Ring: 4 Wire: 29\\u003cbr\\u003ex=%{x}\\u003cbr\\u003ez=%{y}\\u003cbr\\u003ey=%{z}\\u003cextra\\u003e\\u003c\\u002fextra\\u003e\",\"legendgroup\":\"4\",\"line\":{\"color\":\"#636efa\",\"dash\":\"solid\",\"width\":5},\"marker\":{\"symbol\":\"circle\"},\"mode\":\"lines\",\"name\":\"4\",\"scene\":\"scene\",\"showlegend\":false,\"x\":[-14.80381046698282,-14.80381046698282],\"y\":[0,150],\"z\":[-3.195647461415279,-3.195647461415279],\"type\":\"scatter3d\"},{\"hovertemplate\":\"ring=4\\u003cbr\\u003eRing and Wire=Ring: 4 Wire: 30\\u003cbr\\u003ex=%{x}\\u003cbr\\u003ez=%{y}\\u003cbr\\u003ey=%{z}\\u003cextra\\u003e\\u003c\\u002fextra\\u003e\",\"legendgroup\":\"4\",\"line\":{\"color\":\"#636efa\",\"dash\":\"solid\",\"width\":5},\"marker\":{\"symbol\":\"circle\"},\"mode\":\"lines\",\"name\":\"4\",\"scene\":\"scene\",\"showlegend\":false,\"x\":[-14.332720367389975,-14.332720367389975],\"y\":[0,150],\"z\":[-4.892657142106381,-4.892657142106381],\"type\":\"scatter3d\"},{\"hovertemplate\":\"ring=4\\u003cbr\\u003eRing and Wire=Ring: 4 Wire: 31\\u003cbr\\u003ex=%{x}\\u003cbr\\u003ez=%{y}\\u003cbr\\u003ey=%{z}\\u003cextra\\u003e\\u003c\\u002fextra\\u003e\",\"legendgroup\":\"4\",\"line\":{\"color\":\"#636efa\",\"dash\":\"solid\",\"width\":5},\"marker\":{\"symbol\":\"circle\"},\"mode\":\"lines\",\"name\":\"4\",\"scene\":\"scene\",\"showlegend\":false,\"x\":[-13.667804810442947,-13.667804810442947],\"y\":[0,150],\"z\":[-6.523502027564079,-6.523502027564079],\"type\":\"scatter3d\"},{\"hovertemplate\":\"ring=4\\u003cbr\\u003eRing and Wire=Ring: 4 Wire: 32\\u003cbr\\u003ex=%{x}\\u003cbr\\u003ez=%{y}\\u003cbr\\u003ey=%{z}\\u003cextra\\u003e\\u003c\\u002fextra\\u003e\",\"legendgroup\":\"4\",\"line\":{\"color\":\"#636efa\",\"dash\":\"solid\",\"width\":5},\"marker\":{\"symbol\":\"circle\"},\"mode\":\"lines\",\"name\":\"4\",\"scene\":\"scene\",\"showlegend\":false,\"x\":[-12.818055638487337,-12.818055638487337],\"y\":[0,150],\"z\":[-8.066127738180384,-8.066127738180384],\"type\":\"scatter3d\"},{\"hovertemplate\":\"ring=4\\u003cbr\\u003eRing and Wire=Ring: 4 Wire: 33\\u003cbr\\u003ex=%{x}\\u003cbr\\u003ez=%{y}\\u003cbr\\u003ey=%{z}\\u003cextra\\u003e\\u003c\\u002fextra\\u003e\",\"legendgroup\":\"4\",\"line\":{\"color\":\"#636efa\",\"dash\":\"solid\",\"width\":5},\"marker\":{\"symbol\":\"circle\"},\"mode\":\"lines\",\"name\":\"4\",\"scene\":\"scene\",\"showlegend\":false,\"x\":[-11.794964251457616,-11.794964251457616],\"y\":[0,150],\"z\":[-9.499672907360384,-9.499672907360384],\"type\":\"scatter3d\"},{\"hovertemplate\":\"ring=4\\u003cbr\\u003eRing and Wire=Ring: 4 Wire: 34\\u003cbr\\u003ex=%{x}\\u003cbr\\u003ez=%{y}\\u003cbr\\u003ey=%{z}\\u003cextra\\u003e\\u003c\\u002fextra\\u003e\",\"legendgroup\":\"4\",\"line\":{\"color\":\"#636efa\",\"dash\":\"solid\",\"width\":5},\"marker\":{\"symbol\":\"circle\"},\"mode\":\"lines\",\"name\":\"4\",\"scene\":\"scene\",\"showlegend\":false,\"x\":[-10.612366205404774,-10.612366205404774],\"y\":[0,150],\"z\":[-10.80475129572091,-10.80475129572091],\"type\":\"scatter3d\"},{\"hovertemplate\":\"ring=4\\u003cbr\\u003eRing and Wire=Ring: 4 Wire: 35\\u003cbr\\u003ex=%{x}\\u003cbr\\u003ez=%{y}\\u003cbr\\u003ey=%{z}\\u003cextra\\u003e\\u003c\\u002fextra\\u003e\",\"legendgroup\":\"4\",\"line\":{\"color\":\"#636efa\",\"dash\":\"solid\",\"width\":5},\"marker\":{\"symbol\":\"circle\"},\"mode\":\"lines\",\"name\":\"4\",\"scene\":\"scene\",\"showlegend\":false,\"x\":[-9.286254110333529,-9.286254110333529],\"y\":[0,150],\"z\":[-11.963713956724044,-11.963713956724044],\"type\":\"scatter3d\"},{\"hovertemplate\":\"ring=4\\u003cbr\\u003eRing and Wire=Ring: 4 Wire: 36\\u003cbr\\u003ex=%{x}\\u003cbr\\u003ez=%{y}\\u003cbr\\u003ey=%{z}\\u003cextra\\u003e\\u003c\\u002fextra\\u003e\",\"legendgroup\":\"4\",\"line\":{\"color\":\"#636efa\",\"dash\":\"solid\",\"width\":5},\"marker\":{\"symbol\":\"circle\"},\"mode\":\"lines\",\"name\":\"4\",\"scene\":\"scene\",\"showlegend\":false,\"x\":[-7.8345613575849145,-7.8345613575849145],\"y\":[0,150],\"z\":[-12.960887908404935,-12.960887908404935],\"type\":\"scatter3d\"},{\"hovertemplate\":\"ring=4\\u003cbr\\u003eRing and Wire=Ring: 4 Wire: 37\\u003cbr\\u003ex=%{x}\\u003cbr\\u003ez=%{y}\\u003cbr\\u003ey=%{z}\\u003cextra\\u003e\\u003c\\u002fextra\\u003e\",\"legendgroup\":\"4\",\"line\":{\"color\":\"#636efa\",\"dash\":\"solid\",\"width\":5},\"marker\":{\"symbol\":\"circle\"},\"mode\":\"lines\",\"name\":\"4\",\"scene\":\"scene\",\"showlegend\":false,\"x\":[-6.276919601480431,-6.276919601480431],\"y\":[0,150],\"z\":[-13.782788083568242,-13.782788083568242],\"type\":\"scatter3d\"},{\"hovertemplate\":\"ring=4\\u003cbr\\u003eRing and Wire=Ring: 4 Wire: 38\\u003cbr\\u003ex=%{x}\\u003cbr\\u003ez=%{y}\\u003cbr\\u003ey=%{z}\\u003cextra\\u003e\\u003c\\u002fextra\\u003e\",\"legendgroup\":\"4\",\"line\":{\"color\":\"#636efa\",\"dash\":\"solid\",\"width\":5},\"marker\":{\"symbol\":\"circle\"},\"mode\":\"lines\",\"name\":\"4\",\"scene\":\"scene\",\"showlegend\":false,\"x\":[-4.63439327487248,-4.63439327487248],\"y\":[0,150],\"z\":[-14.418299692190363,-14.418299692190363],\"type\":\"scatter3d\"},{\"hovertemplate\":\"ring=4\\u003cbr\\u003eRing and Wire=Ring: 4 Wire: 39\\u003cbr\\u003ex=%{x}\\u003cbr\\u003ez=%{y}\\u003cbr\\u003ey=%{z}\\u003cextra\\u003e\\u003c\\u002fextra\\u003e\",\"legendgroup\":\"4\",\"line\":{\"color\":\"#636efa\",\"dash\":\"solid\",\"width\":5},\"marker\":{\"symbol\":\"circle\"},\"mode\":\"lines\",\"name\":\"4\",\"scene\":\"scene\",\"showlegend\":false,\"x\":[-2.929194728822835,-2.929194728822835],\"y\":[0,150],\"z\":[-14.858828529888772,-14.858828529888772],\"type\":\"scatter3d\"},{\"hovertemplate\":\"ring=4\\u003cbr\\u003eRing and Wire=Ring: 4 Wire: 40\\u003cbr\\u003ex=%{x}\\u003cbr\\u003ez=%{y}\\u003cbr\\u003ey=%{z}\\u003cextra\\u003e\\u003c\\u002fextra\\u003e\",\"legendgroup\":\"4\",\"line\":{\"color\":\"#636efa\",\"dash\":\"solid\",\"width\":5},\"marker\":{\"symbol\":\"circle\"},\"mode\":\"lines\",\"name\":\"4\",\"scene\":\"scene\",\"showlegend\":false,\"x\":[-1.1843838486565537,-1.1843838486565537],\"y\":[0,150],\"z\":[-15.098417199794204,-15.098417199794204],\"type\":\"scatter3d\"},{\"hovertemplate\":\"ring=4\\u003cbr\\u003eRing and Wire=Ring: 4 Wire: 41\\u003cbr\\u003ex=%{x}\\u003cbr\\u003ez=%{y}\\u003cbr\\u003ey=%{z}\\u003cextra\\u003e\\u003c\\u002fextra\\u003e\",\"legendgroup\":\"4\",\"line\":{\"color\":\"#636efa\",\"dash\":\"solid\",\"width\":5},\"marker\":{\"symbol\":\"circle\"},\"mode\":\"lines\",\"name\":\"4\",\"scene\":\"scene\",\"showlegend\":false,\"x\":[0.5764437914313999,0.5764437914313999],\"y\":[0,150],\"z\":[-15.133825676124335,-15.133825676124335],\"type\":\"scatter3d\"},{\"hovertemplate\":\"ring=4\\u003cbr\\u003eRing and Wire=Ring: 4 Wire: 42\\u003cbr\\u003ex=%{x}\\u003cbr\\u003ez=%{y}\\u003cbr\\u003ey=%{z}\\u003cextra\\u003e\\u003c\\u002fextra\\u003e\",\"legendgroup\":\"4\",\"line\":{\"color\":\"#636efa\",\"dash\":\"solid\",\"width\":5},\"marker\":{\"symbol\":\"circle\"},\"mode\":\"lines\",\"name\":\"4\",\"scene\":\"scene\",\"showlegend\":false,\"x\":[2.3294760180423997,2.3294760180423997],\"y\":[0,150],\"z\":[-14.964575119974684,-14.964575119974684],\"type\":\"scatter3d\"},{\"hovertemplate\":\"ring=4\\u003cbr\\u003eRing and Wire=Ring: 4 Wire: 43\\u003cbr\\u003ex=%{x}\\u003cbr\\u003ez=%{y}\\u003cbr\\u003ey=%{z}\\u003cextra\\u003e\\u003c\\u002fextra\\u003e\",\"legendgroup\":\"4\",\"line\":{\"color\":\"#636efa\",\"dash\":\"solid\",\"width\":5},\"marker\":{\"symbol\":\"circle\"},\"mode\":\"lines\",\"name\":\"4\",\"scene\":\"scene\",\"showlegend\":false,\"x\":[4.0510060773732945,4.0510060773732945],\"y\":[0,150],\"z\":[-14.592954354793433,-14.592954354793433],\"type\":\"scatter3d\"},{\"hovertemplate\":\"ring=4\\u003cbr\\u003eRing and Wire=Ring: 4 Wire: 44\\u003cbr\\u003ex=%{x}\\u003cbr\\u003ez=%{y}\\u003cbr\\u003ey=%{z}\\u003cextra\\u003e\\u003c\\u002fextra\\u003e\",\"legendgroup\":\"4\",\"line\":{\"color\":\"#636efa\",\"dash\":\"solid\",\"width\":5},\"marker\":{\"symbol\":\"circle\"},\"mode\":\"lines\",\"name\":\"4\",\"scene\":\"scene\",\"showlegend\":false,\"x\":[5.71775322839614,5.71775322839614],\"y\":[0,150],\"z\":[-14.02398891397043,-14.02398891397043],\"type\":\"scatter3d\"},{\"hovertemplate\":\"ring=4\\u003cbr\\u003eRing and Wire=Ring: 4 Wire: 45\\u003cbr\\u003ex=%{x}\\u003cbr\\u003ez=%{y}\\u003cbr\\u003ey=%{z}\\u003cextra\\u003e\\u003c\\u002fextra\\u003e\",\"legendgroup\":\"4\",\"line\":{\"color\":\"#636efa\",\"dash\":\"solid\",\"width\":5},\"marker\":{\"symbol\":\"circle\"},\"mode\":\"lines\",\"name\":\"4\",\"scene\":\"scene\",\"showlegend\":false,\"x\":[7.307177574946111,7.307177574946111],\"y\":[0,150],\"z\":[-13.265373079118607,-13.265373079118607],\"type\":\"scatter3d\"},{\"hovertemplate\":\"ring=4\\u003cbr\\u003eRing and Wire=Ring: 4 Wire: 46\\u003cbr\\u003ex=%{x}\\u003cbr\\u003ez=%{y}\\u003cbr\\u003ey=%{z}\\u003cextra\\u003e\\u003c\\u002fextra\\u003e\",\"legendgroup\":\"4\",\"line\":{\"color\":\"#636efa\",\"dash\":\"solid\",\"width\":5},\"marker\":{\"symbol\":\"circle\"},\"mode\":\"lines\",\"name\":\"4\",\"scene\":\"scene\",\"showlegend\":false,\"x\":[8.797784879153252,8.797784879153252],\"y\":[0,150],\"z\":[-12.32736582811358,-12.32736582811358],\"type\":\"scatter3d\"},{\"hovertemplate\":\"ring=4\\u003cbr\\u003eRing and Wire=Ring: 4 Wire: 47\\u003cbr\\u003ex=%{x}\\u003cbr\\u003ez=%{y}\\u003cbr\\u003ey=%{z}\\u003cextra\\u003e\\u003c\\u002fextra\\u003e\",\"legendgroup\":\"4\",\"line\":{\"color\":\"#636efa\",\"dash\":\"solid\",\"width\":5},\"marker\":{\"symbol\":\"circle\"},\"mode\":\"lines\",\"name\":\"4\",\"scene\":\"scene\",\"showlegend\":false,\"x\":[10.16941723413964,10.16941723413964],\"y\":[0,150],\"z\":[-11.222652100015559,-11.222652100015559],\"type\":\"scatter3d\"},{\"hovertemplate\":\"ring=4\\u003cbr\\u003eRing and Wire=Ring: 4 Wire: 48\\u003cbr\\u003ex=%{x}\\u003cbr\\u003ez=%{y}\\u003cbr\\u003ey=%{z}\\u003cextra\\u003e\\u003c\\u002fextra\\u003e\",\"legendgroup\":\"4\",\"line\":{\"color\":\"#636efa\",\"dash\":\"solid\",\"width\":5},\"marker\":{\"symbol\":\"circle\"},\"mode\":\"lines\",\"name\":\"4\",\"scene\":\"scene\",\"showlegend\":false,\"x\":[11.40352566513199,11.40352566513199],\"y\":[0,150],\"z\":[-9.966171253027715,-9.966171253027715],\"type\":\"scatter3d\"},{\"hovertemplate\":\"ring=4\\u003cbr\\u003eRing and Wire=Ring: 4 Wire: 49\\u003cbr\\u003ex=%{x}\\u003cbr\\u003ez=%{y}\\u003cbr\\u003ey=%{z}\\u003cextra\\u003e\\u003c\\u002fextra\\u003e\",\"legendgroup\":\"4\",\"line\":{\"color\":\"#636efa\",\"dash\":\"solid\",\"width\":5},\"marker\":{\"symbol\":\"circle\"},\"mode\":\"lines\",\"name\":\"4\",\"scene\":\"scene\",\"showlegend\":false,\"x\":[12.483420972527567,12.483420972527567],\"y\":[0,150],\"z\":[-8.574915035302618,-8.574915035302618],\"type\":\"scatter3d\"},{\"hovertemplate\":\"ring=4\\u003cbr\\u003eRing and Wire=Ring: 4 Wire: 50\\u003cbr\\u003ex=%{x}\\u003cbr\\u003ez=%{y}\\u003cbr\\u003ey=%{z}\\u003cextra\\u003e\\u003c\\u002fextra\\u003e\",\"legendgroup\":\"4\",\"line\":{\"color\":\"#636efa\",\"dash\":\"solid\",\"width\":5},\"marker\":{\"symbol\":\"circle\"},\"mode\":\"lines\",\"name\":\"4\",\"scene\":\"scene\",\"showlegend\":false,\"x\":[13.39449942469096,13.39449942469096],\"y\":[0,150],\"z\":[-7.067697800695328,-7.067697800695328],\"type\":\"scatter3d\"},{\"hovertemplate\":\"ring=4\\u003cbr\\u003eRing and Wire=Ring: 4 Wire: 51\\u003cbr\\u003ex=%{x}\\u003cbr\\u003ez=%{y}\\u003cbr\\u003ey=%{z}\\u003cextra\\u003e\\u003c\\u002fextra\\u003e\",\"legendgroup\":\"4\",\"line\":{\"color\":\"#636efa\",\"dash\":\"solid\",\"width\":5},\"marker\":{\"symbol\":\"circle\"},\"mode\":\"lines\",\"name\":\"4\",\"scene\":\"scene\",\"showlegend\":false,\"x\":[14.124440248374002,14.124440248374002],\"y\":[0,150],\"z\":[-5.4649020769006045,-5.4649020769006045],\"type\":\"scatter3d\"},{\"hovertemplate\":\"ring=4\\u003cbr\\u003eRing and Wire=Ring: 4 Wire: 52\\u003cbr\\u003ex=%{x}\\u003cbr\\u003ez=%{y}\\u003cbr\\u003ey=%{z}\\u003cextra\\u003e\\u003c\\u002fextra\\u003e\",\"legendgroup\":\"4\",\"line\":{\"color\":\"#636efa\",\"dash\":\"solid\",\"width\":5},\"marker\":{\"symbol\":\"circle\"},\"mode\":\"lines\",\"name\":\"4\",\"scene\":\"scene\",\"showlegend\":false,\"x\":[14.663372246039497,14.663372246039497],\"y\":[0,150],\"z\":[-3.788202926729063,-3.788202926729063],\"type\":\"scatter3d\"},{\"hovertemplate\":\"ring=4\\u003cbr\\u003eRing and Wire=Ring: 4 Wire: 53\\u003cbr\\u003ex=%{x}\\u003cbr\\u003ez=%{y}\\u003cbr\\u003ey=%{z}\\u003cextra\\u003e\\u003c\\u002fextra\\u003e\",\"legendgroup\":\"4\",\"line\":{\"color\":\"#636efa\",\"dash\":\"solid\",\"width\":5},\"marker\":{\"symbol\":\"circle\"},\"mode\":\"lines\",\"name\":\"4\",\"scene\":\"scene\",\"showlegend\":false,\"x\":[15.004007286875376,15.004007286875376],\"y\":[0,150],\"z\":[-2.060274830062865,-2.060274830062865],\"type\":\"scatter3d\"},{\"hovertemplate\":\"ring=4\\u003cbr\\u003eRing and Wire=Ring: 4 Wire: 54\\u003cbr\\u003ex=%{x}\\u003cbr\\u003ez=%{y}\\u003cbr\\u003ey=%{z}\\u003cextra\\u003e\\u003c\\u002fextra\\u003e\",\"legendgroup\":\"4\",\"line\":{\"color\":\"#636efa\",\"dash\":\"solid\",\"width\":5},\"marker\":{\"symbol\":\"circle\"},\"mode\":\"lines\",\"name\":\"4\",\"scene\":\"scene\",\"showlegend\":false,\"x\":[15.14173886626225,15.14173886626225],\"y\":[0,150],\"z\":[-0.304485050410049,-0.304485050410049],\"type\":\"scatter3d\"},{\"hovertemplate\":\"ring=5\\u003cbr\\u003eRing and Wire=Ring: 5 Wire: 1\\u003cbr\\u003ex=%{x}\\u003cbr\\u003ez=%{y}\\u003cbr\\u003ey=%{z}\\u003cextra\\u003e\\u003c\\u002fextra\\u003e\",\"legendgroup\":\"5\",\"line\":{\"color\":\"#EF553B\",\"dash\":\"solid\",\"width\":5},\"marker\":{\"symbol\":\"circle\"},\"mode\":\"lines\",\"name\":\"5\",\"scene\":\"scene\",\"showlegend\":true,\"x\":[12.789378477960556,18.64887320529633],\"y\":[0,150],\"z\":[-13.611143823008844,1.0251664235298747],\"type\":\"scatter3d\"},{\"hovertemplate\":\"ring=5\\u003cbr\\u003eRing and Wire=Ring: 5 Wire: 2\\u003cbr\\u003ex=%{x}\\u003cbr\\u003ez=%{y}\\u003cbr\\u003ey=%{z}\\u003cextra\\u003e\\u003c\\u002fextra\\u003e\",\"legendgroup\":\"5\",\"line\":{\"color\":\"#EF553B\",\"dash\":\"solid\",\"width\":5},\"marker\":{\"symbol\":\"circle\"},\"mode\":\"lines\",\"name\":\"5\",\"scene\":\"scene\",\"showlegend\":false,\"x\":[14.025288658629613,18.46698139954897],\"y\":[0,150],\"z\":[-12.333803795474777,2.7932124895655175],\"type\":\"scatter3d\"},{\"hovertemplate\":\"ring=5\\u003cbr\\u003eRing and Wire=Ring: 5 Wire: 3\\u003cbr\\u003ex=%{x}\\u003cbr\\u003ez=%{y}\\u003cbr\\u003ey=%{z}\\u003cextra\\u003e\\u003c\\u002fextra\\u003e\",\"legendgroup\":\"5\",\"line\":{\"color\":\"#EF553B\",\"dash\":\"solid\",\"width\":5},\"marker\":{\"symbol\":\"circle\"},\"mode\":\"lines\",\"name\":\"5\",\"scene\":\"scene\",\"showlegend\":false,\"x\":[15.134183653336441,18.11784975056448],\"y\":[0,150],\"z\":[-10.944766930832127,4.535962790756],\"type\":\"scatter3d\"},{\"hovertemplate\":\"ring=5\\u003cbr\\u003eRing and Wire=Ring: 5 Wire: 4\\u003cbr\\u003ex=%{x}\\u003cbr\\u003ez=%{y}\\u003cbr\\u003ey=%{z}\\u003cextra\\u003e\\u003c\\u002fextra\\u003e\",\"legendgroup\":\"5\",\"line\":{\"color\":\"#EF553B\",\"dash\":\"solid\",\"width\":5},\"marker\":{\"symbol\":\"circle\"},\"mode\":\"lines\",\"name\":\"5\",\"scene\":\"scene\",\"showlegend\":false,\"x\":[16.10602113729234,17.604640048620443],\"y\":[0,150],\"z\":[-9.456612562024773,6.237634710502181],\"type\":\"scatter3d\"},{\"hovertemplate\":\"ring=5\\u003cbr\\u003eRing and Wire=Ring: 5 Wire: 5\\u003cbr\\u003ex=%{x}\\u003cbr\\u003ez=%{y}\\u003cbr\\u003ey=%{z}\\u003cextra\\u003e\\u003c\\u002fextra\\u003e\",\"legendgroup\":\"5\",\"line\":{\"color\":\"#EF553B\",\"dash\":\"solid\",\"width\":5},\"marker\":{\"symbol\":\"circle\"},\"mode\":\"lines\",\"name\":\"5\",\"scene\":\"scene\",\"showlegend\":false,\"x\":[16.931999999749852,16.932000000250145],\"y\":[0,150],\"z\":[-7.882817645463042,7.882817644388426],\"type\":\"scatter3d\"},{\"hovertemplate\":\"ring=5\\u003cbr\\u003eRing and Wire=Ring: 5 Wire: 6\\u003cbr\\u003ex=%{x}\\u003cbr\\u003ez=%{y}\\u003cbr\\u003ey=%{z}\\u003cextra\\u003e\\u003c\\u002fextra\\u003e\",\"legendgroup\":\"5\",\"line\":{\"color\":\"#EF553B\",\"dash\":\"solid\",\"width\":5},\"marker\":{\"symbol\":\"circle\"},\"mode\":\"lines\",\"name\":\"5\",\"scene\":\"scene\",\"showlegend\":false,\"x\":[17.604640048224564,16.106021137892522],\"y\":[0,150],\"z\":[-6.237634711619489,9.45661256100258],\"type\":\"scatter3d\"},{\"hovertemplate\":\"ring=5\\u003cbr\\u003eRing and Wire=Ring: 5 Wire: 7\\u003cbr\\u003ex=%{x}\\u003cbr\\u003ez=%{y}\\u003cbr\\u003ey=%{z}\\u003cextra\\u003e\\u003c\\u002fextra\\u003e\",\"legendgroup\":\"5\",\"line\":{\"color\":\"#EF553B\",\"dash\":\"solid\",\"width\":5},\"marker\":{\"symbol\":\"circle\"},\"mode\":\"lines\",\"name\":\"5\",\"scene\":\"scene\",\"showlegend\":false,\"x\":[18.1178497502766,15.134183654031068],\"y\":[0,150],\"z\":[-4.535962791905877,10.944766929871612],\"type\":\"scatter3d\"},{\"hovertemplate\":\"ring=5\\u003cbr\\u003eRing and Wire=Ring: 5 Wire: 8\\u003cbr\\u003ex=%{x}\\u003cbr\\u003ez=%{y}\\u003cbr\\u003ey=%{z}\\u003cextra\\u003e\\u003c\\u002fextra\\u003e\",\"legendgroup\":\"5\",\"line\":{\"color\":\"#EF553B\",\"dash\":\"solid\",\"width\":5},\"marker\":{\"symbol\":\"circle\"},\"mode\":\"lines\",\"name\":\"5\",\"scene\":\"scene\",\"showlegend\":false,\"x\":[18.466981399371697,14.025288659412396],\"y\":[0,150],\"z\":[-2.7932124907375533,12.33380379458464],\"type\":\"scatter3d\"},{\"hovertemplate\":\"ring=5\\u003cbr\\u003eRing and Wire=Ring: 5 Wire: 9\\u003cbr\\u003ex=%{x}\\u003cbr\\u003ez=%{y}\\u003cbr\\u003ey=%{z}\\u003cextra\\u003e\\u003c\\u002fextra\\u003e\",\"legendgroup\":\"5\",\"line\":{\"color\":\"#EF553B\",\"dash\":\"solid\",\"width\":5},\"marker\":{\"symbol\":\"circle\"},\"mode\":\"lines\",\"name\":\"5\",\"scene\":\"scene\",\"showlegend\":false,\"x\":[18.648873205231265,12.789378478824409],\"y\":[0,150],\"z\":[-1.025166424713455,13.611143822197146],\"type\":\"scatter3d\"},{\"hovertemplate\":\"ring=5\\u003cbr\\u003eRing and Wire=Ring: 5 Wire: 10\\u003cbr\\u003ex=%{x}\\u003cbr\\u003ez=%{y}\\u003cbr\\u003ey=%{z}\\u003cextra\\u003e\\u003c\\u002fextra\\u003e\",\"legendgroup\":\"5\",\"line\":{\"color\":\"#EF553B\",\"dash\":\"solid\",\"width\":5},\"marker\":{\"symbol\":\"circle\"},\"mode\":\"lines\",\"name\":\"5\",\"scene\":\"scene\",\"showlegend\":false,\"x\":[18.661877927494807,11.437645706247936],\"y\":[0,150],\"z\":[0.7521637072037972,14.76521922361807],\"type\":\"scatter3d\"},{\"hovertemplate\":\"ring=5\\u003cbr\\u003eRing and Wire=Ring: 5 Wire: 11\\u003cbr\\u003ex=%{x}\\u003cbr\\u003ez=%{y}\\u003cbr\\u003ey=%{z}\\u003cextra\\u003e\\u003c\\u002fextra\\u003e\",\"legendgroup\":\"5\",\"line\":{\"color\":\"#EF553B\",\"dash\":\"solid\",\"width\":5},\"marker\":{\"symbol\":\"circle\"},\"mode\":\"lines\",\"name\":\"5\",\"scene\":\"scene\",\"showlegend\":false,\"x\":[18.505877793383668,9.982331842992432],\"y\":[0,150],\"z\":[2.5226821281131757,15.78557851329915],\"type\":\"scatter3d\"},{\"hovertemplate\":\"ring=5\\u003cbr\\u003eRing and Wire=Ring: 5 Wire: 12\\u003cbr\\u003ex=%{x}\\u003cbr\\u003ez=%{y}\\u003cbr\\u003ey=%{z}\\u003cextra\\u003e\\u003c\\u002fextra\\u003e\",\"legendgroup\":\"5\",\"line\":{\"color\":\"#EF553B\",\"dash\":\"solid\",\"width\":5},\"marker\":{\"symbol\":\"circle\"},\"mode\":\"lines\",\"name\":\"5\",\"scene\":\"scene\",\"showlegend\":false,\"x\":[18.18228556426958,8.436616436764456],\"y\":[0,150],\"z\":[4.270354749023377,16.66298115950649],\"type\":\"scatter3d\"},{\"hovertemplate\":\"ring=5\\u003cbr\\u003eRing and Wire=Ring: 5 Wire: 13\\u003cbr\\u003ex=%{x}\\u003cbr\\u003ez=%{y}\\u003cbr\\u003ey=%{z}\\u003cextra\\u003e\\u003c\\u002fextra\\u003e\",\"legendgroup\":\"5\",\"line\":{\"color\":\"#EF553B\",\"dash\":\"solid\",\"width\":5},\"marker\":{\"symbol\":\"circle\"},\"mode\":\"lines\",\"name\":\"5\",\"scene\":\"scene\",\"showlegend\":false,\"x\":[17.694031741488892,6.814497725642771],\"y\":[0,150],\"z\":[5.979354376045629,17.389481268006875],\"type\":\"scatter3d\"},{\"hovertemplate\":\"ring=5\\u003cbr\\u003eRing and Wire=Ring: 5 Wire: 14\\u003cbr\\u003ex=%{x}\\u003cbr\\u003ez=%{y}\\u003cbr\\u003ey=%{z}\\u003cextra\\u003e\\u003c\\u002fextra\\u003e\",\"legendgroup\":\"5\",\"line\":{\"color\":\"#EF553B\",\"dash\":\"solid\",\"width\":5},\"marker\":{\"symbol\":\"circle\"},\"mode\":\"lines\",\"name\":\"5\",\"scene\":\"scene\",\"showlegend\":false,\"x\":[17.045538027268687,5.130665867866591],\"y\":[0,150],\"z\":[7.634204043912478,17.9584995413164],\"type\":\"scatter3d\"},{\"hovertemplate\":\"ring=5\\u003cbr\\u003eRing and Wire=Ring: 5 Wire: 15\\u003cbr\\u003ex=%{x}\\u003cbr\\u003ez=%{y}\\u003cbr\\u003ey=%{z}\\u003cextra\\u003e\\u003c\\u002fextra\\u003e\",\"legendgroup\":\"5\",\"line\":{\"color\":\"#EF553B\",\"dash\":\"solid\",\"width\":5},\"marker\":{\"symbol\":\"circle\"},\"mode\":\"lines\",\"name\":\"5\",\"scene\":\"scene\",\"showlegend\":false,\"x\":[16.242677281106673,3.400369905487741],\"y\":[0,150],\"z\":[9.219917177771917,18.36488286183731],\"type\":\"scatter3d\"},{\"hovertemplate\":\"ring=5\\u003cbr\\u003eRing and Wire=Ring: 5 Wire: 16\\u003cbr\\u003ex=%{x}\\u003cbr\\u003ez=%{y}\\u003cbr\\u003ey=%{z}\\u003cextra\\u003e\\u003c\\u002fextra\\u003e\",\"legendgroup\":\"5\",\"line\":{\"color\":\"#EF553B\",\"dash\":\"solid\",\"width\":5},\"marker\":{\"symbol\":\"circle\"},\"mode\":\"lines\",\"name\":\"5\",\"scene\":\"scene\",\"showlegend\":false,\"x\":[15.292720334246155,1.6392796666844909],\"y\":[0,150],\"z\":[10.722133313929957,18.60495095928896],\"type\":\"scatter3d\"},{\"hovertemplate\":\"ring=5\\u003cbr\\u003eRing and Wire=Ring: 5 Wire: 17\\u003cbr\\u003ex=%{x}\\u003cbr\\u003ez=%{y}\\u003cbr\\u003ey=%{z}\\u003cextra\\u003e\\u003c\\u002fextra\\u003e\",\"legendgroup\":\"5\",\"line\":{\"color\":\"#EF553B\",\"dash\":\"solid\",\"width\":5},\"marker\":{\"symbol\":\"circle\"},\"mode\":\"lines\",\"name\":\"5\",\"scene\":\"scene\",\"showlegend\":false,\"x\":[14.20427014390238,-0.1366561426289925],\"y\":[0,150],\"z\":[12.12724815043363,18.676529739805364],\"type\":\"scatter3d\"},{\"hovertemplate\":\"ring=5\\u003cbr\\u003eRing and Wire=Ring: 5 Wire: 18\\u003cbr\\u003ex=%{x}\\u003cbr\\u003ez=%{y}\\u003cbr\\u003ey=%{z}\\u003cextra\\u003e\\u003c\\u002fextra\\u003e\",\"legendgroup\":\"5\",\"line\":{\"color\":\"#EF553B\",\"dash\":\"solid\",\"width\":5},\"marker\":{\"symbol\":\"circle\"},\"mode\":\"lines\",\"name\":\"5\",\"scene\":\"scene\",\"showlegend\":false,\"x\":[12.987183883549775,-1.9113543727530997],\"y\":[0,150],\"z\":[13.422536749736144,18.57897097486591],\"type\":\"scatter3d\"},{\"hovertemplate\":\"ring=5\\u003cbr\\u003eRing and Wire=Ring: 5 Wire: 19\\u003cbr\\u003ex=%{x}\\u003cbr\\u003ez=%{y}\\u003cbr\\u003ey=%{z}\\u003cextra\\u003e\\u003c\\u002fextra\\u003e\",\"legendgroup\":\"5\",\"line\":{\"color\":\"#EF553B\",\"dash\":\"solid\",\"width\":5},\"marker\":{\"symbol\":\"circle\"},\"mode\":\"lines\",\"name\":\"5\",\"scene\":\"scene\",\"showlegend\":false,\"x\":[11.652483674832576,-3.668743081697006],\"y\":[0,150],\"z\":[14.596268777701813,18.313158171753248],\"type\":\"scatter3d\"},{\"hovertemplate\":\"ring=5\\u003cbr\\u003eRing and Wire=Ring: 5 Wire: 20\\u003cbr\\u003ex=%{x}\\u003cbr\\u003ez=%{y}\\u003cbr\\u003ey=%{z}\\u003cextra\\u003e\\u003c\\u002fextra\\u003e\",\"legendgroup\":\"5\",\"line\":{\"color\":\"#EF553B\",\"dash\":\"solid\",\"width\":5},\"marker\":{\"symbol\":\"circle\"},\"mode\":\"lines\",\"name\":\"5\",\"scene\":\"scene\",\"showlegend\":false,\"x\":[10.212256769524352,-5.392907085174146],\"y\":[0,150],\"z\":[15.637814735328481,17.881498572374493],\"type\":\"scatter3d\"},{\"hovertemplate\":\"ring=5\\u003cbr\\u003eRing and Wire=Ring: 5 Wire: 21\\u003cbr\\u003ex=%{x}\\u003cbr\\u003ez=%{y}\\u003cbr\\u003ey=%{z}\\u003cextra\\u003e\\u003c\\u002fextra\\u003e\",\"legendgroup\":\"5\",\"line\":{\"color\":\"#EF553B\",\"dash\":\"solid\",\"width\":5},\"marker\":{\"symbol\":\"circle\"},\"mode\":\"lines\",\"name\":\"5\",\"scene\":\"scene\",\"showlegend\":false,\"x\":[8.679546085504237,-7.068232086975625],\"y\":[0,150],\"z\":[16.53774222113649,17.287901352905756],\"type\":\"scatter3d\"},{\"hovertemplate\":\"ring=5\\u003cbr\\u003eRing and Wire=Ring: 5 Wire: 22\\u003cbr\\u003ex=%{x}\\u003cbr\\u003ez=%{y}\\u003cbr\\u003ey=%{z}\\u003cextra\\u003e\\u003c\\u002fextra\\u003e\",\"legendgroup\":\"5\",\"line\":{\"color\":\"#EF553B\",\"dash\":\"solid\",\"width\":5},\"marker\":{\"symbol\":\"circle\"},\"mode\":\"lines\",\"name\":\"5\",\"scene\":\"scene\",\"showlegend\":false,\"x\":[7.068232088072831,-8.67954608445464],\"y\":[0,150],\"z\":[17.287901352457155,16.537742221687353],\"type\":\"scatter3d\"},{\"hovertemplate\":\"ring=5\\u003cbr\\u003eRing and Wire=Ring: 5 Wire: 23\\u003cbr\\u003ex=%{x}\\u003cbr\\u003ez=%{y}\\u003cbr\\u003ey=%{z}\\u003cextra\\u003e\\u003c\\u002fextra\\u003e\",\"legendgroup\":\"5\",\"line\":{\"color\":\"#EF553B\",\"dash\":\"solid\",\"width\":5},\"marker\":{\"symbol\":\"circle\"},\"mode\":\"lines\",\"name\":\"5\",\"scene\":\"scene\",\"showlegend\":false,\"x\":[5.392907086309027,-10.212256768531871],\"y\":[0,150],\"z\":[17.88149857203222,15.637814735976619],\"type\":\"scatter3d\"},{\"hovertemplate\":\"ring=5\\u003cbr\\u003eRing and Wire=Ring: 5 Wire: 24\\u003cbr\\u003ex=%{x}\\u003cbr\\u003ez=%{y}\\u003cbr\\u003ey=%{z}\\u003cextra\\u003e\\u003c\\u002fextra\\u003e\",\"legendgroup\":\"5\",\"line\":{\"color\":\"#EF553B\",\"dash\":\"solid\",\"width\":5},\"marker\":{\"symbol\":\"circle\"},\"mode\":\"lines\",\"name\":\"5\",\"scene\":\"scene\",\"showlegend\":false,\"x\":[3.6687430828592817,-11.652483673906199],\"y\":[0,150],\"z\":[18.313158171520406,14.596268778441356],\"type\":\"scatter3d\"},{\"hovertemplate\":\"ring=5\\u003cbr\\u003eRing and Wire=Ring: 5 Wire: 25\\u003cbr\\u003ex=%{x}\\u003cbr\\u003ez=%{y}\\u003cbr\\u003ey=%{z}\\u003cextra\\u003e\\u003c\\u002fextra\\u003e\",\"legendgroup\":\"5\",\"line\":{\"color\":\"#EF553B\",\"dash\":\"solid\",\"width\":5},\"marker\":{\"symbol\":\"circle\"},\"mode\":\"lines\",\"name\":\"5\",\"scene\":\"scene\",\"showlegend\":false,\"x\":[1.9113543739322418,-12.987183882697895],\"y\":[0,150],\"z\":[18.578970974744607,13.422536750560397],\"type\":\"scatter3d\"},{\"hovertemplate\":\"ring=5\\u003cbr\\u003eRing and Wire=Ring: 5 Wire: 26\\u003cbr\\u003ex=%{x}\\u003cbr\\u003ez=%{y}\\u003cbr\\u003ey=%{z}\\u003cextra\\u003e\\u003c\\u002fextra\\u003e\",\"legendgroup\":\"5\",\"line\":{\"color\":\"#EF553B\",\"dash\":\"solid\",\"width\":5},\"marker\":{\"symbol\":\"circle\"},\"mode\":\"lines\",\"name\":\"5\",\"scene\":\"scene\",\"showlegend\":false,\"x\":[0.13665614381432611,-14.204270143132705],\"y\":[0,150],\"z\":[18.676529739796692,12.127248151335126],\"type\":\"scatter3d\"},{\"hovertemplate\":\"ring=5\\u003cbr\\u003eRing and Wire=Ring: 5 Wire: 27\\u003cbr\\u003ex=%{x}\\u003cbr\\u003ez=%{y}\\u003cbr\\u003ey=%{z}\\u003cextra\\u003e\\u003c\\u002fextra\\u003e\",\"legendgroup\":\"5\",\"line\":{\"color\":\"#EF553B\",\"dash\":\"solid\",\"width\":5},\"marker\":{\"symbol\":\"circle\"},\"mode\":\"lines\",\"name\":\"5\",\"scene\":\"scene\",\"showlegend\":false,\"x\":[-1.6392796655036923,-15.292720333565654],\"y\":[0,150],\"z\":[18.604950959393,10.722133314900537],\"type\":\"scatter3d\"},{\"hovertemplate\":\"ring=5\\u003cbr\\u003eRing and Wire=Ring: 5 Wire: 28\\u003cbr\\u003ex=%{x}\\u003cbr\\u003ez=%{y}\\u003cbr\\u003ey=%{z}\\u003cextra\\u003e\\u003c\\u002fextra\\u003e\",\"legendgroup\":\"5\",\"line\":{\"color\":\"#EF553B\",\"dash\":\"solid\",\"width\":5},\"marker\":{\"symbol\":\"circle\"},\"mode\":\"lines\",\"name\":\"5\",\"scene\":\"scene\",\"showlegend\":false,\"x\":[-3.400369904322182,-16.242677280521512],\"y\":[0,150],\"z\":[18.364882862053122,9.219917178802786],\"type\":\"scatter3d\"},{\"hovertemplate\":\"ring=5\\u003cbr\\u003eRing and Wire=Ring: 5 Wire: 29\\u003cbr\\u003ex=%{x}\\u003cbr\\u003ez=%{y}\\u003cbr\\u003ey=%{z}\\u003cextra\\u003e\\u003c\\u002fextra\\u003e\",\"legendgroup\":\"5\",\"line\":{\"color\":\"#EF553B\",\"dash\":\"solid\",\"width\":5},\"marker\":{\"symbol\":\"circle\"},\"mode\":\"lines\",\"name\":\"5\",\"scene\":\"scene\",\"showlegend\":false,\"x\":[-5.130665866726822,-17.04553802678417],\"y\":[0,150],\"z\":[17.958499541642023,7.634204044994302],\"type\":\"scatter3d\"},{\"hovertemplate\":\"ring=5\\u003cbr\\u003eRing and Wire=Ring: 5 Wire: 30\\u003cbr\\u003ex=%{x}\\u003cbr\\u003ez=%{y}\\u003cbr\\u003ey=%{z}\\u003cextra\\u003e\\u003c\\u002fextra\\u003e\",\"legendgroup\":\"5\",\"line\":{\"color\":\"#EF553B\",\"dash\":\"solid\",\"width\":5},\"marker\":{\"symbol\":\"circle\"},\"mode\":\"lines\",\"name\":\"5\",\"scene\":\"scene\",\"showlegend\":false,\"x\":[-6.814497724539121,-17.694031741109406],\"y\":[0,150],\"z\":[17.389481268439365,5.979354377168607],\"type\":\"scatter3d\"},{\"hovertemplate\":\"ring=5\\u003cbr\\u003eRing and Wire=Ring: 5 Wire: 31\\u003cbr\\u003ex=%{x}\\u003cbr\\u003ez=%{y}\\u003cbr\\u003ey=%{z}\\u003cextra\\u003e\\u003c\\u002fextra\\u003e\",\"legendgroup\":\"5\",\"line\":{\"color\":\"#EF553B\",\"dash\":\"solid\",\"width\":5},\"marker\":{\"symbol\":\"circle\"},\"mode\":\"lines\",\"name\":\"5\",\"scene\":\"scene\",\"showlegend\":false,\"x\":[-8.43661643570691,-18.182285563998555],\"y\":[0,150],\"z\":[16.662981160041937,4.2703547501773516],\"type\":\"scatter3d\"},{\"hovertemplate\":\"ring=5\\u003cbr\\u003eRing and Wire=Ring: 5 Wire: 32\\u003cbr\\u003ex=%{x}\\u003cbr\\u003ez=%{y}\\u003cbr\\u003ey=%{z}\\u003cextra\\u003e\\u003c\\u002fextra\\u003e\",\"legendgroup\":\"5\",\"line\":{\"color\":\"#EF553B\",\"dash\":\"solid\",\"width\":5},\"marker\":{\"symbol\":\"circle\"},\"mode\":\"lines\",\"name\":\"5\",\"scene\":\"scene\",\"showlegend\":false,\"x\":[-9.982331841990568,-18.50587779322356],\"y\":[0,150],\"z\":[15.785578513932698,2.5226821292876886],\"type\":\"scatter3d\"},{\"hovertemplate\":\"ring=5\\u003cbr\\u003eRing and Wire=Ring: 5 Wire: 33\\u003cbr\\u003ex=%{x}\\u003cbr\\u003ez=%{y}\\u003cbr\\u003ey=%{z}\\u003cextra\\u003e\\u003c\\u002fextra\\u003e\",\"legendgroup\":\"5\",\"line\":{\"color\":\"#EF553B\",\"dash\":\"solid\",\"width\":5},\"marker\":{\"symbol\":\"circle\"},\"mode\":\"lines\",\"name\":\"5\",\"scene\":\"scene\",\"showlegend\":false,\"x\":[-11.437645705310835,-18.66187792744707],\"y\":[0,150],\"z\":[14.76521922434398,0.7521637083882053],\"type\":\"scatter3d\"},{\"hovertemplate\":\"ring=5\\u003cbr\\u003eRing and Wire=Ring: 5 Wire: 34\\u003cbr\\u003ex=%{x}\\u003cbr\\u003ez=%{y}\\u003cbr\\u003ey=%{z}\\u003cextra\\u003e\\u003c\\u002fextra\\u003e\",\"legendgroup\":\"5\",\"line\":{\"color\":\"#EF553B\",\"dash\":\"solid\",\"width\":5},\"marker\":{\"symbol\":\"circle\"},\"mode\":\"lines\",\"name\":\"5\",\"scene\":\"scene\",\"showlegend\":false,\"x\":[-12.789378477960556,-18.648873205296333],\"y\":[0,150],\"z\":[13.611143823008845,-1.0251664235298739],\"type\":\"scatter3d\"},{\"hovertemplate\":\"ring=5\\u003cbr\\u003eRing and Wire=Ring: 5 Wire: 35\\u003cbr\\u003ex=%{x}\\u003cbr\\u003ez=%{y}\\u003cbr\\u003ey=%{z}\\u003cextra\\u003e\\u003c\\u002fextra\\u003e\",\"legendgroup\":\"5\",\"line\":{\"color\":\"#EF553B\",\"dash\":\"solid\",\"width\":5},\"marker\":{\"symbol\":\"circle\"},\"mode\":\"lines\",\"name\":\"5\",\"scene\":\"scene\",\"showlegend\":false,\"x\":[-14.025288658629613,-18.46698139954897],\"y\":[0,150],\"z\":[12.333803795474777,-2.7932124895655175],\"type\":\"scatter3d\"},{\"hovertemplate\":\"ring=5\\u003cbr\\u003eRing and Wire=Ring: 5 Wire: 36\\u003cbr\\u003ex=%{x}\\u003cbr\\u003ez=%{y}\\u003cbr\\u003ey=%{z}\\u003cextra\\u003e\\u003c\\u002fextra\\u003e\",\"legendgroup\":\"5\",\"line\":{\"color\":\"#EF553B\",\"dash\":\"solid\",\"width\":5},\"marker\":{\"symbol\":\"circle\"},\"mode\":\"lines\",\"name\":\"5\",\"scene\":\"scene\",\"showlegend\":false,\"x\":[-15.13418365333644,-18.117849750564485],\"y\":[0,150],\"z\":[10.944766930832131,-4.535962790755994],\"type\":\"scatter3d\"},{\"hovertemplate\":\"ring=5\\u003cbr\\u003eRing and Wire=Ring: 5 Wire: 37\\u003cbr\\u003ex=%{x}\\u003cbr\\u003ez=%{y}\\u003cbr\\u003ey=%{z}\\u003cextra\\u003e\\u003c\\u002fextra\\u003e\",\"legendgroup\":\"5\",\"line\":{\"color\":\"#EF553B\",\"dash\":\"solid\",\"width\":5},\"marker\":{\"symbol\":\"circle\"},\"mode\":\"lines\",\"name\":\"5\",\"scene\":\"scene\",\"showlegend\":false,\"x\":[-16.106021137292338,-17.604640048620446],\"y\":[0,150],\"z\":[9.456612562024777,-6.237634710502178],\"type\":\"scatter3d\"},{\"hovertemplate\":\"ring=5\\u003cbr\\u003eRing and Wire=Ring: 5 Wire: 38\\u003cbr\\u003ex=%{x}\\u003cbr\\u003ez=%{y}\\u003cbr\\u003ey=%{z}\\u003cextra\\u003e\\u003c\\u002fextra\\u003e\",\"legendgroup\":\"5\",\"line\":{\"color\":\"#EF553B\",\"dash\":\"solid\",\"width\":5},\"marker\":{\"symbol\":\"circle\"},\"mode\":\"lines\",\"name\":\"5\",\"scene\":\"scene\",\"showlegend\":false,\"x\":[-16.93199999974985,-16.93200000025015],\"y\":[0,150],\"z\":[7.882817645463044,-7.882817644388425],\"type\":\"scatter3d\"},{\"hovertemplate\":\"ring=5\\u003cbr\\u003eRing and Wire=Ring: 5 Wire: 39\\u003cbr\\u003ex=%{x}\\u003cbr\\u003ez=%{y}\\u003cbr\\u003ey=%{z}\\u003cextra\\u003e\\u003c\\u002fextra\\u003e\",\"legendgroup\":\"5\",\"line\":{\"color\":\"#EF553B\",\"dash\":\"solid\",\"width\":5},\"marker\":{\"symbol\":\"circle\"},\"mode\":\"lines\",\"name\":\"5\",\"scene\":\"scene\",\"showlegend\":false,\"x\":[-17.604640048224564,-16.106021137892522],\"y\":[0,150],\"z\":[6.237634711619489,-9.45661256100258],\"type\":\"scatter3d\"},{\"hovertemplate\":\"ring=5\\u003cbr\\u003eRing and Wire=Ring: 5 Wire: 40\\u003cbr\\u003ex=%{x}\\u003cbr\\u003ez=%{y}\\u003cbr\\u003ey=%{z}\\u003cextra\\u003e\\u003c\\u002fextra\\u003e\",\"legendgroup\":\"5\",\"line\":{\"color\":\"#EF553B\",\"dash\":\"solid\",\"width\":5},\"marker\":{\"symbol\":\"circle\"},\"mode\":\"lines\",\"name\":\"5\",\"scene\":\"scene\",\"showlegend\":false,\"x\":[-18.1178497502766,-15.134183654031073],\"y\":[0,150],\"z\":[4.5359627919058845,-10.944766929871607],\"type\":\"scatter3d\"},{\"hovertemplate\":\"ring=5\\u003cbr\\u003eRing and Wire=Ring: 5 Wire: 41\\u003cbr\\u003ex=%{x}\\u003cbr\\u003ez=%{y}\\u003cbr\\u003ey=%{z}\\u003cextra\\u003e\\u003c\\u002fextra\\u003e\",\"legendgroup\":\"5\",\"line\":{\"color\":\"#EF553B\",\"dash\":\"solid\",\"width\":5},\"marker\":{\"symbol\":\"circle\"},\"mode\":\"lines\",\"name\":\"5\",\"scene\":\"scene\",\"showlegend\":false,\"x\":[-18.466981399371694,-14.0252886594124],\"y\":[0,150],\"z\":[2.7932124907375586,-12.333803794584636],\"type\":\"scatter3d\"},{\"hovertemplate\":\"ring=5\\u003cbr\\u003eRing and Wire=Ring: 5 Wire: 42\\u003cbr\\u003ex=%{x}\\u003cbr\\u003ez=%{y}\\u003cbr\\u003ey=%{z}\\u003cextra\\u003e\\u003c\\u002fextra\\u003e\",\"legendgroup\":\"5\",\"line\":{\"color\":\"#EF553B\",\"dash\":\"solid\",\"width\":5},\"marker\":{\"symbol\":\"circle\"},\"mode\":\"lines\",\"name\":\"5\",\"scene\":\"scene\",\"showlegend\":false,\"x\":[-18.64887320523127,-12.789378478824412],\"y\":[0,150],\"z\":[1.0251664247134586,-13.611143822197143],\"type\":\"scatter3d\"},{\"hovertemplate\":\"ring=5\\u003cbr\\u003eRing and Wire=Ring: 5 Wire: 43\\u003cbr\\u003ex=%{x}\\u003cbr\\u003ez=%{y}\\u003cbr\\u003ey=%{z}\\u003cextra\\u003e\\u003c\\u002fextra\\u003e\",\"legendgroup\":\"5\",\"line\":{\"color\":\"#EF553B\",\"dash\":\"solid\",\"width\":5},\"marker\":{\"symbol\":\"circle\"},\"mode\":\"lines\",\"name\":\"5\",\"scene\":\"scene\",\"showlegend\":false,\"x\":[-18.661877927494807,-11.437645706247938],\"y\":[0,150],\"z\":[-0.7521637072037963,-14.765219223618068],\"type\":\"scatter3d\"},{\"hovertemplate\":\"ring=5\\u003cbr\\u003eRing and Wire=Ring: 5 Wire: 44\\u003cbr\\u003ex=%{x}\\u003cbr\\u003ez=%{y}\\u003cbr\\u003ey=%{z}\\u003cextra\\u003e\\u003c\\u002fextra\\u003e\",\"legendgroup\":\"5\",\"line\":{\"color\":\"#EF553B\",\"dash\":\"solid\",\"width\":5},\"marker\":{\"symbol\":\"circle\"},\"mode\":\"lines\",\"name\":\"5\",\"scene\":\"scene\",\"showlegend\":false,\"x\":[-18.505877793383668,-9.98233184299243],\"y\":[0,150],\"z\":[-2.5226821281131784,-15.78557851329915],\"type\":\"scatter3d\"},{\"hovertemplate\":\"ring=5\\u003cbr\\u003eRing and Wire=Ring: 5 Wire: 45\\u003cbr\\u003ex=%{x}\\u003cbr\\u003ez=%{y}\\u003cbr\\u003ey=%{z}\\u003cextra\\u003e\\u003c\\u002fextra\\u003e\",\"legendgroup\":\"5\",\"line\":{\"color\":\"#EF553B\",\"dash\":\"solid\",\"width\":5},\"marker\":{\"symbol\":\"circle\"},\"mode\":\"lines\",\"name\":\"5\",\"scene\":\"scene\",\"showlegend\":false,\"x\":[-18.18228556426958,-8.436616436764464],\"y\":[0,150],\"z\":[-4.2703547490233715,-16.662981159506487],\"type\":\"scatter3d\"},{\"hovertemplate\":\"ring=5\\u003cbr\\u003eRing and Wire=Ring: 5 Wire: 46\\u003cbr\\u003ex=%{x}\\u003cbr\\u003ez=%{y}\\u003cbr\\u003ey=%{z}\\u003cextra\\u003e\\u003c\\u002fextra\\u003e\",\"legendgroup\":\"5\",\"line\":{\"color\":\"#EF553B\",\"dash\":\"solid\",\"width\":5},\"marker\":{\"symbol\":\"circle\"},\"mode\":\"lines\",\"name\":\"5\",\"scene\":\"scene\",\"showlegend\":false,\"x\":[-17.694031741488892,-6.81449772564277],\"y\":[0,150],\"z\":[-5.979354376045631,-17.389481268006875],\"type\":\"scatter3d\"},{\"hovertemplate\":\"ring=5\\u003cbr\\u003eRing and Wire=Ring: 5 Wire: 47\\u003cbr\\u003ex=%{x}\\u003cbr\\u003ez=%{y}\\u003cbr\\u003ey=%{z}\\u003cextra\\u003e\\u003c\\u002fextra\\u003e\",\"legendgroup\":\"5\",\"line\":{\"color\":\"#EF553B\",\"dash\":\"solid\",\"width\":5},\"marker\":{\"symbol\":\"circle\"},\"mode\":\"lines\",\"name\":\"5\",\"scene\":\"scene\",\"showlegend\":false,\"x\":[-17.045538027268684,-5.1306658678665915],\"y\":[0,150],\"z\":[-7.634204043912476,-17.958499541316396],\"type\":\"scatter3d\"},{\"hovertemplate\":\"ring=5\\u003cbr\\u003eRing and Wire=Ring: 5 Wire: 48\\u003cbr\\u003ex=%{x}\\u003cbr\\u003ez=%{y}\\u003cbr\\u003ey=%{z}\\u003cextra\\u003e\\u003c\\u002fextra\\u003e\",\"legendgroup\":\"5\",\"line\":{\"color\":\"#EF553B\",\"dash\":\"solid\",\"width\":5},\"marker\":{\"symbol\":\"circle\"},\"mode\":\"lines\",\"name\":\"5\",\"scene\":\"scene\",\"showlegend\":false,\"x\":[-16.242677281106676,-3.400369905487751],\"y\":[0,150],\"z\":[-9.219917177771908,-18.36488286183731],\"type\":\"scatter3d\"},{\"hovertemplate\":\"ring=5\\u003cbr\\u003eRing and Wire=Ring: 5 Wire: 49\\u003cbr\\u003ex=%{x}\\u003cbr\\u003ez=%{y}\\u003cbr\\u003ey=%{z}\\u003cextra\\u003e\\u003c\\u002fextra\\u003e\",\"legendgroup\":\"5\",\"line\":{\"color\":\"#EF553B\",\"dash\":\"solid\",\"width\":5},\"marker\":{\"symbol\":\"circle\"},\"mode\":\"lines\",\"name\":\"5\",\"scene\":\"scene\",\"showlegend\":false,\"x\":[-15.292720334246154,-1.639279666684489],\"y\":[0,150],\"z\":[-10.722133313929959,-18.60495095928896],\"type\":\"scatter3d\"},{\"hovertemplate\":\"ring=5\\u003cbr\\u003eRing and Wire=Ring: 5 Wire: 50\\u003cbr\\u003ex=%{x}\\u003cbr\\u003ez=%{y}\\u003cbr\\u003ey=%{z}\\u003cextra\\u003e\\u003c\\u002fextra\\u003e\",\"legendgroup\":\"5\",\"line\":{\"color\":\"#EF553B\",\"dash\":\"solid\",\"width\":5},\"marker\":{\"symbol\":\"circle\"},\"mode\":\"lines\",\"name\":\"5\",\"scene\":\"scene\",\"showlegend\":false,\"x\":[-14.204270143902384,0.13665614262898718],\"y\":[0,150],\"z\":[-12.127248150433626,-18.676529739805364],\"type\":\"scatter3d\"},{\"hovertemplate\":\"ring=5\\u003cbr\\u003eRing and Wire=Ring: 5 Wire: 51\\u003cbr\\u003ex=%{x}\\u003cbr\\u003ez=%{y}\\u003cbr\\u003ey=%{z}\\u003cextra\\u003e\\u003c\\u002fextra\\u003e\",\"legendgroup\":\"5\",\"line\":{\"color\":\"#EF553B\",\"dash\":\"solid\",\"width\":5},\"marker\":{\"symbol\":\"circle\"},\"mode\":\"lines\",\"name\":\"5\",\"scene\":\"scene\",\"showlegend\":false,\"x\":[-12.987183883549775,1.9113543727531024],\"y\":[0,150],\"z\":[-13.42253674973615,-18.578970974865914],\"type\":\"scatter3d\"},{\"hovertemplate\":\"ring=5\\u003cbr\\u003eRing and Wire=Ring: 5 Wire: 52\\u003cbr\\u003ex=%{x}\\u003cbr\\u003ez=%{y}\\u003cbr\\u003ey=%{z}\\u003cextra\\u003e\\u003c\\u002fextra\\u003e\",\"legendgroup\":\"5\",\"line\":{\"color\":\"#EF553B\",\"dash\":\"solid\",\"width\":5},\"marker\":{\"symbol\":\"circle\"},\"mode\":\"lines\",\"name\":\"5\",\"scene\":\"scene\",\"showlegend\":false,\"x\":[-11.652483674832578,3.668743081697003],\"y\":[0,150],\"z\":[-14.59626877770181,-18.313158171753248],\"type\":\"scatter3d\"},{\"hovertemplate\":\"ring=5\\u003cbr\\u003eRing and Wire=Ring: 5 Wire: 53\\u003cbr\\u003ex=%{x}\\u003cbr\\u003ez=%{y}\\u003cbr\\u003ey=%{z}\\u003cextra\\u003e\\u003c\\u002fextra\\u003e\",\"legendgroup\":\"5\",\"line\":{\"color\":\"#EF553B\",\"dash\":\"solid\",\"width\":5},\"marker\":{\"symbol\":\"circle\"},\"mode\":\"lines\",\"name\":\"5\",\"scene\":\"scene\",\"showlegend\":false,\"x\":[-10.212256769524359,5.392907085174136],\"y\":[0,150],\"z\":[-15.637814735328472,-17.881498572374493],\"type\":\"scatter3d\"},{\"hovertemplate\":\"ring=5\\u003cbr\\u003eRing and Wire=Ring: 5 Wire: 54\\u003cbr\\u003ex=%{x}\\u003cbr\\u003ez=%{y}\\u003cbr\\u003ey=%{z}\\u003cextra\\u003e\\u003c\\u002fextra\\u003e\",\"legendgroup\":\"5\",\"line\":{\"color\":\"#EF553B\",\"dash\":\"solid\",\"width\":5},\"marker\":{\"symbol\":\"circle\"},\"mode\":\"lines\",\"name\":\"5\",\"scene\":\"scene\",\"showlegend\":false,\"x\":[-8.679546085504235,7.068232086975627],\"y\":[0,150],\"z\":[-16.53774222113649,-17.287901352905756],\"type\":\"scatter3d\"},{\"hovertemplate\":\"ring=5\\u003cbr\\u003eRing and Wire=Ring: 5 Wire: 55\\u003cbr\\u003ex=%{x}\\u003cbr\\u003ez=%{y}\\u003cbr\\u003ey=%{z}\\u003cextra\\u003e\\u003c\\u002fextra\\u003e\",\"legendgroup\":\"5\",\"line\":{\"color\":\"#EF553B\",\"dash\":\"solid\",\"width\":5},\"marker\":{\"symbol\":\"circle\"},\"mode\":\"lines\",\"name\":\"5\",\"scene\":\"scene\",\"showlegend\":false,\"x\":[-7.068232088072838,8.679546084454635],\"y\":[0,150],\"z\":[-17.28790135245716,-16.537742221687356],\"type\":\"scatter3d\"},{\"hovertemplate\":\"ring=5\\u003cbr\\u003eRing and Wire=Ring: 5 Wire: 56\\u003cbr\\u003ex=%{x}\\u003cbr\\u003ez=%{y}\\u003cbr\\u003ey=%{z}\\u003cextra\\u003e\\u003c\\u002fextra\\u003e\",\"legendgroup\":\"5\",\"line\":{\"color\":\"#EF553B\",\"dash\":\"solid\",\"width\":5},\"marker\":{\"symbol\":\"circle\"},\"mode\":\"lines\",\"name\":\"5\",\"scene\":\"scene\",\"showlegend\":false,\"x\":[-5.392907086309037,10.212256768531862],\"y\":[0,150],\"z\":[-17.881498572032218,-15.637814735976622],\"type\":\"scatter3d\"},{\"hovertemplate\":\"ring=5\\u003cbr\\u003eRing and Wire=Ring: 5 Wire: 57\\u003cbr\\u003ex=%{x}\\u003cbr\\u003ez=%{y}\\u003cbr\\u003ey=%{z}\\u003cextra\\u003e\\u003c\\u002fextra\\u003e\",\"legendgroup\":\"5\",\"line\":{\"color\":\"#EF553B\",\"dash\":\"solid\",\"width\":5},\"marker\":{\"symbol\":\"circle\"},\"mode\":\"lines\",\"name\":\"5\",\"scene\":\"scene\",\"showlegend\":false,\"x\":[-3.6687430828592835,11.652483673906197],\"y\":[0,150],\"z\":[-18.313158171520406,-14.596268778441358],\"type\":\"scatter3d\"},{\"hovertemplate\":\"ring=5\\u003cbr\\u003eRing and Wire=Ring: 5 Wire: 58\\u003cbr\\u003ex=%{x}\\u003cbr\\u003ez=%{y}\\u003cbr\\u003ey=%{z}\\u003cextra\\u003e\\u003c\\u002fextra\\u003e\",\"legendgroup\":\"5\",\"line\":{\"color\":\"#EF553B\",\"dash\":\"solid\",\"width\":5},\"marker\":{\"symbol\":\"circle\"},\"mode\":\"lines\",\"name\":\"5\",\"scene\":\"scene\",\"showlegend\":false,\"x\":[-1.9113543739322534,12.987183882697888],\"y\":[0,150],\"z\":[-18.578970974744607,-13.422536750560404],\"type\":\"scatter3d\"},{\"hovertemplate\":\"ring=5\\u003cbr\\u003eRing and Wire=Ring: 5 Wire: 59\\u003cbr\\u003ex=%{x}\\u003cbr\\u003ez=%{y}\\u003cbr\\u003ey=%{z}\\u003cextra\\u003e\\u003c\\u002fextra\\u003e\",\"legendgroup\":\"5\",\"line\":{\"color\":\"#EF553B\",\"dash\":\"solid\",\"width\":5},\"marker\":{\"symbol\":\"circle\"},\"mode\":\"lines\",\"name\":\"5\",\"scene\":\"scene\",\"showlegend\":false,\"x\":[-0.13665614381432878,14.204270143132703],\"y\":[0,150],\"z\":[-18.676529739796692,-12.127248151335127],\"type\":\"scatter3d\"},{\"hovertemplate\":\"ring=5\\u003cbr\\u003eRing and Wire=Ring: 5 Wire: 60\\u003cbr\\u003ex=%{x}\\u003cbr\\u003ez=%{y}\\u003cbr\\u003ey=%{z}\\u003cextra\\u003e\\u003c\\u002fextra\\u003e\",\"legendgroup\":\"5\",\"line\":{\"color\":\"#EF553B\",\"dash\":\"solid\",\"width\":5},\"marker\":{\"symbol\":\"circle\"},\"mode\":\"lines\",\"name\":\"5\",\"scene\":\"scene\",\"showlegend\":false,\"x\":[1.6392796655036896,15.292720333565654],\"y\":[0,150],\"z\":[-18.604950959393,-10.722133314900539],\"type\":\"scatter3d\"},{\"hovertemplate\":\"ring=5\\u003cbr\\u003eRing and Wire=Ring: 5 Wire: 61\\u003cbr\\u003ex=%{x}\\u003cbr\\u003ez=%{y}\\u003cbr\\u003ey=%{z}\\u003cextra\\u003e\\u003c\\u002fextra\\u003e\",\"legendgroup\":\"5\",\"line\":{\"color\":\"#EF553B\",\"dash\":\"solid\",\"width\":5},\"marker\":{\"symbol\":\"circle\"},\"mode\":\"lines\",\"name\":\"5\",\"scene\":\"scene\",\"showlegend\":false,\"x\":[3.4003699043221705,16.242677280521505],\"y\":[0,150],\"z\":[-18.364882862053122,-9.219917178802795],\"type\":\"scatter3d\"},{\"hovertemplate\":\"ring=5\\u003cbr\\u003eRing and Wire=Ring: 5 Wire: 62\\u003cbr\\u003ex=%{x}\\u003cbr\\u003ez=%{y}\\u003cbr\\u003ey=%{z}\\u003cextra\\u003e\\u003c\\u002fextra\\u003e\",\"legendgroup\":\"5\",\"line\":{\"color\":\"#EF553B\",\"dash\":\"solid\",\"width\":5},\"marker\":{\"symbol\":\"circle\"},\"mode\":\"lines\",\"name\":\"5\",\"scene\":\"scene\",\"showlegend\":false,\"x\":[5.13066586672682,17.04553802678417],\"y\":[0,150],\"z\":[-17.958499541642023,-7.634204044994305],\"type\":\"scatter3d\"},{\"hovertemplate\":\"ring=5\\u003cbr\\u003eRing and Wire=Ring: 5 Wire: 63\\u003cbr\\u003ex=%{x}\\u003cbr\\u003ez=%{y}\\u003cbr\\u003ey=%{z}\\u003cextra\\u003e\\u003c\\u002fextra\\u003e\",\"legendgroup\":\"5\",\"line\":{\"color\":\"#EF553B\",\"dash\":\"solid\",\"width\":5},\"marker\":{\"symbol\":\"circle\"},\"mode\":\"lines\",\"name\":\"5\",\"scene\":\"scene\",\"showlegend\":false,\"x\":[6.814497724539113,17.694031741109402],\"y\":[0,150],\"z\":[-17.38948126843937,-5.979354377168617],\"type\":\"scatter3d\"},{\"hovertemplate\":\"ring=5\\u003cbr\\u003eRing and Wire=Ring: 5 Wire: 64\\u003cbr\\u003ex=%{x}\\u003cbr\\u003ez=%{y}\\u003cbr\\u003ey=%{z}\\u003cextra\\u003e\\u003c\\u002fextra\\u003e\",\"legendgroup\":\"5\",\"line\":{\"color\":\"#EF553B\",\"dash\":\"solid\",\"width\":5},\"marker\":{\"symbol\":\"circle\"},\"mode\":\"lines\",\"name\":\"5\",\"scene\":\"scene\",\"showlegend\":false,\"x\":[8.436616435706917,18.182285563998555],\"y\":[0,150],\"z\":[-16.662981160041934,-4.2703547501773444],\"type\":\"scatter3d\"},{\"hovertemplate\":\"ring=5\\u003cbr\\u003eRing and Wire=Ring: 5 Wire: 65\\u003cbr\\u003ex=%{x}\\u003cbr\\u003ez=%{y}\\u003cbr\\u003ey=%{z}\\u003cextra\\u003e\\u003c\\u002fextra\\u003e\",\"legendgroup\":\"5\",\"line\":{\"color\":\"#EF553B\",\"dash\":\"solid\",\"width\":5},\"marker\":{\"symbol\":\"circle\"},\"mode\":\"lines\",\"name\":\"5\",\"scene\":\"scene\",\"showlegend\":false,\"x\":[9.982331841990568,18.50587779322356],\"y\":[0,150],\"z\":[-15.785578513932698,-2.5226821292876904],\"type\":\"scatter3d\"},{\"hovertemplate\":\"ring=5\\u003cbr\\u003eRing and Wire=Ring: 5 Wire: 66\\u003cbr\\u003ex=%{x}\\u003cbr\\u003ez=%{y}\\u003cbr\\u003ey=%{z}\\u003cextra\\u003e\\u003c\\u002fextra\\u003e\",\"legendgroup\":\"5\",\"line\":{\"color\":\"#EF553B\",\"dash\":\"solid\",\"width\":5},\"marker\":{\"symbol\":\"circle\"},\"mode\":\"lines\",\"name\":\"5\",\"scene\":\"scene\",\"showlegend\":false,\"x\":[11.437645705310828,18.66187792744707],\"y\":[0,150],\"z\":[-14.765219224343987,-0.752163708388216],\"type\":\"scatter3d\"},{\"hovertemplate\":\"ring=6\\u003cbr\\u003eRing and Wire=Ring: 6 Wire: 1\\u003cbr\\u003ex=%{x}\\u003cbr\\u003ez=%{y}\\u003cbr\\u003ey=%{z}\\u003cextra\\u003e\\u003c\\u002fextra\\u003e\",\"legendgroup\":\"6\",\"line\":{\"color\":\"#00cc96\",\"dash\":\"solid\",\"width\":5},\"marker\":{\"symbol\":\"circle\"},\"mode\":\"lines\",\"name\":\"6\",\"scene\":\"scene\",\"showlegend\":true,\"x\":[13.113317714469108,20.195048153563615],\"y\":[0,150],\"z\":[-15.359124007661903,0.1477221668954556],\"type\":\"scatter3d\"},{\"hovertemplate\":\"ring=6\\u003cbr\\u003eRing and Wire=Ring: 6 Wire: 2\\u003cbr\\u003ex=%{x}\\u003cbr\\u003ez=%{y}\\u003cbr\\u003ey=%{z}\\u003cextra\\u003e\\u003c\\u002fextra\\u003e\",\"legendgroup\":\"6\",\"line\":{\"color\":\"#00cc96\",\"dash\":\"solid\",\"width\":5},\"marker\":{\"symbol\":\"circle\"},\"mode\":\"lines\",\"name\":\"6\",\"scene\":\"scene\",\"showlegend\":false,\"x\":[14.513917153320872,20.089561527190593],\"y\":[0,150],\"z\":[-14.043076608417536,2.066714641301279],\"type\":\"scatter3d\"},{\"hovertemplate\":\"ring=6\\u003cbr\\u003eRing and Wire=Ring: 6 Wire: 3\\u003cbr\\u003ex=%{x}\\u003cbr\\u003ez=%{y}\\u003cbr\\u003ey=%{z}\\u003cextra\\u003e\\u003c\\u002fextra\\u003e\",\"legendgroup\":\"6\",\"line\":{\"color\":\"#00cc96\",\"dash\":\"solid\",\"width\":5},\"marker\":{\"symbol\":\"circle\"},\"mode\":\"lines\",\"name\":\"6\",\"scene\":\"scene\",\"showlegend\":false,\"x\":[15.783076310896494,19.802140720681773],\"y\":[0,150],\"z\":[-12.599852932783126,3.966990627876797],\"type\":\"scatter3d\"},{\"hovertemplate\":\"ring=6\\u003cbr\\u003eRing and Wire=Ring: 6 Wire: 4\\u003cbr\\u003ex=%{x}\\u003cbr\\u003ez=%{y}\\u003cbr\\u003ey=%{z}\\u003cextra\\u003e\\u003c\\u002fextra\\u003e\",\"legendgroup\":\"6\",\"line\":{\"color\":\"#00cc96\",\"dash\":\"solid\",\"width\":5},\"marker\":{\"symbol\":\"circle\"},\"mode\":\"lines\",\"name\":\"6\",\"scene\":\"scene\",\"showlegend\":false,\"x\":[16.909301485330804,19.335388661369105],\"y\":[0,150],\"z\":[-11.042523037853941,5.8313409330225685],\"type\":\"scatter3d\"},{\"hovertemplate\":\"ring=6\\u003cbr\\u003eRing and Wire=Ring: 6 Wire: 5\\u003cbr\\u003ex=%{x}\\u003cbr\\u003ez=%{y}\\u003cbr\\u003ey=%{z}\\u003cextra\\u003e\\u003c\\u002fextra\\u003e\",\"legendgroup\":\"6\",\"line\":{\"color\":\"#00cc96\",\"dash\":\"solid\",\"width\":5},\"marker\":{\"symbol\":\"circle\"},\"mode\":\"lines\",\"name\":\"6\",\"scene\":\"scene\",\"showlegend\":false,\"x\":[17.882393407043846,18.69353232818008],\"y\":[0,150],\"z\":[-9.385190344316957,7.642881711673405],\"type\":\"scatter3d\"},{\"hovertemplate\":\"ring=6\\u003cbr\\u003eRing and Wire=Ring: 6 Wire: 6\\u003cbr\\u003ex=%{x}\\u003cbr\\u003ez=%{y}\\u003cbr\\u003ey=%{z}\\u003cextra\\u003e\\u003c\\u002fextra\\u003e\",\"legendgroup\":\"6\",\"line\":{\"color\":\"#00cc96\",\"dash\":\"solid\",\"width\":5},\"marker\":{\"symbol\":\"circle\"},\"mode\":\"lines\",\"name\":\"6\",\"scene\":\"scene\",\"showlegend\":false,\"x\":[18.69353960490558,17.88238447146196],\"y\":[0,150],\"z\":[-7.642863913689159,9.385207370013815],\"type\":\"scatter3d\"},{\"hovertemplate\":\"ring=6\\u003cbr\\u003eRing and Wire=Ring: 6 Wire: 7\\u003cbr\\u003ex=%{x}\\u003cbr\\u003ez=%{y}\\u003cbr\\u003ey=%{z}\\u003cextra\\u003e\\u003c\\u002fextra\\u003e\",\"legendgroup\":\"6\",\"line\":{\"color\":\"#00cc96\",\"dash\":\"solid\",\"width\":5},\"marker\":{\"symbol\":\"circle\"},\"mode\":\"lines\",\"name\":\"6\",\"scene\":\"scene\",\"showlegend\":false,\"x\":[19.335394213339075,16.909290971814546],\"y\":[0,150],\"z\":[-5.83132252393224,11.04253913707607],\"type\":\"scatter3d\"},{\"hovertemplate\":\"ring=6\\u003cbr\\u003eRing and Wire=Ring: 6 Wire: 8\\u003cbr\\u003ex=%{x}\\u003cbr\\u003ez=%{y}\\u003cbr\\u003ey=%{z}\\u003cextra\\u003e\\u003c\\u002fextra\\u003e\",\"legendgroup\":\"6\",\"line\":{\"color\":\"#00cc96\",\"dash\":\"solid\",\"width\":5},\"marker\":{\"symbol\":\"circle\"},\"mode\":\"lines\",\"name\":\"6\",\"scene\":\"scene\",\"showlegend\":false,\"x\":[19.8021444976167,15.783064314657889],\"y\":[0,150],\"z\":[-3.9669717743959554,12.599867959733473],\"type\":\"scatter3d\"},{\"hovertemplate\":\"ring=6\\u003cbr\\u003eRing and Wire=Ring: 6 Wire: 9\\u003cbr\\u003ex=%{x}\\u003cbr\\u003ez=%{y}\\u003cbr\\u003ey=%{z}\\u003cextra\\u003e\\u003c\\u002fextra\\u003e\",\"legendgroup\":\"6\",\"line\":{\"color\":\"#00cc96\",\"dash\":\"solid\",\"width\":5},\"marker\":{\"symbol\":\"circle\"},\"mode\":\"lines\",\"name\":\"6\",\"scene\":\"scene\",\"showlegend\":false,\"x\":[20.08956349488598,14.513903782999728],\"y\":[0,150],\"z\":[-2.066695514169968,14.043090427009709],\"type\":\"scatter3d\"},{\"hovertemplate\":\"ring=6\\u003cbr\\u003eRing and Wire=Ring: 6 Wire: 10\\u003cbr\\u003ex=%{x}\\u003cbr\\u003ez=%{y}\\u003cbr\\u003ey=%{z}\\u003cextra\\u003e\\u003c\\u002fextra\\u003e\",\"legendgroup\":\"6\",\"line\":{\"color\":\"#00cc96\",\"dash\":\"solid\",\"width\":5},\"marker\":{\"symbol\":\"circle\"},\"mode\":\"lines\",\"name\":\"6\",\"scene\":\"scene\",\"showlegend\":false,\"x\":[20.1950482941997,13.113303091149119],\"y\":[0,150],\"z\":[-0.1477029393319409,15.359136492752597],\"type\":\"scatter3d\"},{\"hovertemplate\":\"ring=6\\u003cbr\\u003eRing and Wire=Ring: 6 Wire: 11\\u003cbr\\u003ex=%{x}\\u003cbr\\u003ez=%{y}\\u003cbr\\u003ey=%{z}\\u003cextra\\u003e\\u003c\\u002fextra\\u003e\",\"legendgroup\":\"6\",\"line\":{\"color\":\"#00cc96\",\"dash\":\"solid\",\"width\":5},\"marker\":{\"symbol\":\"circle\"},\"mode\":\"lines\",\"name\":\"6\",\"scene\":\"scene\",\"showlegend\":false,\"x\":[20.11764360888056,11.59394629585984],\"y\":[0,150],\"z\":[1.7726272561970458,16.536087839995993],\"type\":\"scatter3d\"},{\"hovertemplate\":\"ring=6\\u003cbr\\u003eRing and Wire=Ring: 6 Wire: 12\\u003cbr\\u003ex=%{x}\\u003cbr\\u003ez=%{y}\\u003cbr\\u003ey=%{z}\\u003cextra\\u003e\\u003c\\u002fextra\\u003e\",\"legendgroup\":\"6\",\"line\":{\"color\":\"#00cc96\",\"dash\":\"solid\",\"width\":5},\"marker\":{\"symbol\":\"circle\"},\"mode\":\"lines\",\"name\":\"6\",\"scene\":\"scene\",\"showlegend\":false,\"x\":[19.85805042774522,9.969592927548263],\"y\":[0,150],\"z\":[3.6769042647957884,17.56328581508384],\"type\":\"scatter3d\"},{\"hovertemplate\":\"ring=6\\u003cbr\\u003eRing and Wire=Ring: 6 Wire: 13\\u003cbr\\u003ex=%{x}\\u003cbr\\u003ez=%{y}\\u003cbr\\u003ey=%{z}\\u003cextra\\u003e\\u003c\\u002fextra\\u003e\",\"legendgroup\":\"6\",\"line\":{\"color\":\"#00cc96\",\"dash\":\"solid\",\"width\":5},\"marker\":{\"symbol\":\"circle\"},\"mode\":\"lines\",\"name\":\"6\",\"scene\":\"scene\",\"showlegend\":false,\"x\":[19.418619666841035,8.254953381855149],\"y\":[0,150],\"z\":[5.54788265898983,18.431427954088196],\"type\":\"scatter3d\"},{\"hovertemplate\":\"ring=6\\u003cbr\\u003eRing and Wire=Ring: 6 Wire: 14\\u003cbr\\u003ex=%{x}\\u003cbr\\u003ez=%{y}\\u003cbr\\u003ey=%{z}\\u003cextra\\u003e\\u003c\\u002fextra\\u003e\",\"legendgroup\":\"6\",\"line\":{\"color\":\"#00cc96\",\"dash\":\"solid\",\"width\":5},\"marker\":{\"symbol\":\"circle\"},\"mode\":\"lines\",\"name\":\"6\",\"scene\":\"scene\",\"showlegend\":false,\"x\":[18.803330879186294,6.4655557000248],\"y\":[0,150],\"z\":[7.368618568713175,19.132652227363103],\"type\":\"scatter3d\"},{\"hovertemplate\":\"ring=6\\u003cbr\\u003eRing and Wire=Ring: 6 Wire: 15\\u003cbr\\u003ex=%{x}\\u003cbr\\u003ez=%{y}\\u003cbr\\u003ey=%{z}\\u003cextra\\u003e\\u003c\\u002fextra\\u003e\",\"legendgroup\":\"6\",\"line\":{\"color\":\"#00cc96\",\"dash\":\"solid\",\"width\":5},\"marker\":{\"symbol\":\"circle\"},\"mode\":\"lines\",\"name\":\"6\",\"scene\":\"scene\",\"showlegend\":false,\"x\":[18.01775621532183,4.61760494455896],\"y\":[0,150],\"z\":[9.122623127619445,19.66060823930252],\"type\":\"scatter3d\"},{\"hovertemplate\":\"ring=6\\u003cbr\\u003eRing and Wire=Ring: 6 Wire: 16\\u003cbr\\u003ex=%{x}\\u003cbr\\u003ez=%{y}\\u003cbr\\u003ey=%{z}\\u003cextra\\u003e\\u003c\\u002fextra\\u003e\",\"legendgroup\":\"6\",\"line\":{\"color\":\"#00cc96\",\"dash\":\"solid\",\"width\":5},\"marker\":{\"symbol\":\"circle\"},\"mode\":\"lines\",\"name\":\"6\",\"scene\":\"scene\",\"showlegend\":false,\"x\":[17.069009961052835,2.7278364436613796],\"y\":[0,150],\"z\":[10.794011798808853,20.010514738506313],\"type\":\"scatter3d\"},{\"hovertemplate\":\"ring=6\\u003cbr\\u003eRing and Wire=Ring: 6 Wire: 17\\u003cbr\\u003ex=%{x}\\u003cbr\\u003ez=%{y}\\u003cbr\\u003ey=%{z}\\u003cextra\\u003e\\u003c\\u002fextra\\u003e\",\"legendgroup\":\"6\",\"line\":{\"color\":\"#00cc96\",\"dash\":\"solid\",\"width\":5},\"marker\":{\"symbol\":\"circle\"},\"mode\":\"lines\",\"name\":\"6\",\"scene\":\"scene\",\"showlegend\":false,\"x\":[15.965684109374962,0.8133642335140783],\"y\":[0,150],\"z\":[12.367648227654168,20.179202917533328],\"type\":\"scatter3d\"},{\"hovertemplate\":\"ring=6\\u003cbr\\u003eRing and Wire=Ring: 6 Wire: 18\\u003cbr\\u003ex=%{x}\\u003cbr\\u003ez=%{y}\\u003cbr\\u003ey=%{z}\\u003cextra\\u003e\\u003c\\u002fextra\\u003e\",\"legendgroup\":\"6\",\"line\":{\"color\":\"#00cc96\",\"dash\":\"solid\",\"width\":5},\"marker\":{\"symbol\":\"circle\"},\"mode\":\"lines\",\"name\":\"6\",\"scene\":\"scene\",\"showlegend\":false,\"x\":[14.717770550055247,-1.1084739290844947],\"y\":[0,150],\"z\":[13.829281318972146,20.165145110112288],\"type\":\"scatter3d\"},{\"hovertemplate\":\"ring=6\\u003cbr\\u003eRing and Wire=Ring: 6 Wire: 19\\u003cbr\\u003ex=%{x}\\u003cbr\\u003ez=%{y}\\u003cbr\\u003ey=%{z}\\u003cextra\\u003e\\u003c\\u002fextra\\u003e\",\"legendgroup\":\"6\",\"line\":{\"color\":\"#00cc96\",\"dash\":\"solid\",\"width\":5},\"marker\":{\"symbol\":\"circle\"},\"mode\":\"lines\",\"name\":\"6\",\"scene\":\"scene\",\"showlegend\":false,\"x\":[13.336570581531078,-3.020273580129845],\"y\":[0,150],\"z\":[15.165674297148323,19.9684686259241],\"type\":\"scatter3d\"},{\"hovertemplate\":\"ring=6\\u003cbr\\u003eRing and Wire=Ring: 6 Wire: 20\\u003cbr\\u003ex=%{x}\\u003cbr\\u003ez=%{y}\\u003cbr\\u003ey=%{z}\\u003cextra\\u003e\\u003c\\u002fextra\\u003e\",\"legendgroup\":\"6\",\"line\":{\"color\":\"#00cc96\",\"dash\":\"solid\",\"width\":5},\"marker\":{\"symbol\":\"circle\"},\"mode\":\"lines\",\"name\":\"6\",\"scene\":\"scene\",\"showlegend\":false,\"x\":[11.834592564601522,-4.904721165932607],\"y\":[0,150],\"z\":[16.364724580426763,19.590954597665682],\"type\":\"scatter3d\"},{\"hovertemplate\":\"ring=6\\u003cbr\\u003eRing and Wire=Ring: 6 Wire: 21\\u003cbr\\u003ex=%{x}\\u003cbr\\u003ez=%{y}\\u003cbr\\u003ey=%{z}\\u003cextra\\u003e\\u003c\\u002fextra\\u003e\",\"legendgroup\":\"6\",\"line\":{\"color\":\"#00cc96\",\"dash\":\"solid\",\"width\":5},\"marker\":{\"symbol\":\"circle\"},\"mode\":\"lines\",\"name\":\"6\",\"scene\":\"scene\",\"showlegend\":false,\"x\":[10.225438644774947,-6.744750837341813],\"y\":[0,150],\"z\":[17.41557338376456,19.03602185083644],\"type\":\"scatter3d\"},{\"hovertemplate\":\"ring=6\\u003cbr\\u003eRing and Wire=Ring: 6 Wire: 22\\u003cbr\\u003ex=%{x}\\u003cbr\\u003ez=%{y}\\u003cbr\\u003ey=%{z}\\u003cextra\\u003e\\u003c\\u002fextra\\u003e\",\"legendgroup\":\"6\",\"line\":{\"color\":\"#00cc96\",\"dash\":\"solid\",\"width\":5},\"marker\":{\"symbol\":\"circle\"},\"mode\":\"lines\",\"name\":\"6\",\"scene\":\"scene\",\"showlegend\":false,\"x\":[8.523681569132934,-8.523699000717555],\"y\":[0,150],\"z\":[18.30870405767074,18.308695942325112],\"type\":\"scatter3d\"},{\"hovertemplate\":\"ring=6\\u003cbr\\u003eRing and Wire=Ring: 6 Wire: 23\\u003cbr\\u003ex=%{x}\\u003cbr\\u003ez=%{y}\\u003cbr\\u003ey=%{z}\\u003cextra\\u003e\\u003c\\u002fextra\\u003e\",\"legendgroup\":\"6\",\"line\":{\"color\":\"#00cc96\",\"dash\":\"solid\",\"width\":5},\"marker\":{\"symbol\":\"circle\"},\"mode\":\"lines\",\"name\":\"6\",\"scene\":\"scene\",\"showlegend\":false,\"x\":[6.744732713276113,-10.225455226015354],\"y\":[0,150],\"z\":[19.036028272457692,17.41556364818839],\"type\":\"scatter3d\"},{\"hovertemplate\":\"ring=6\\u003cbr\\u003eRing and Wire=Ring: 6 Wire: 24\\u003cbr\\u003ex=%{x}\\u003cbr\\u003ez=%{y}\\u003cbr\\u003ey=%{z}\\u003cextra\\u003e\\u003c\\u002fextra\\u003e\",\"legendgroup\":\"6\",\"line\":{\"color\":\"#00cc96\",\"dash\":\"solid\",\"width\":5},\"marker\":{\"symbol\":\"circle\"},\"mode\":\"lines\",\"name\":\"6\",\"scene\":\"scene\",\"showlegend\":false,\"x\":[4.9047025135201645,-11.834608145335448],\"y\":[0,150],\"z\":[19.590959267407364,16.364713312786918],\"type\":\"scatter3d\"},{\"hovertemplate\":\"ring=6\\u003cbr\\u003eRing and Wire=Ring: 6 Wire: 25\\u003cbr\\u003ex=%{x}\\u003cbr\\u003ez=%{y}\\u003cbr\\u003ey=%{z}\\u003cextra\\u003e\\u003c\\u002fextra\\u003e\",\"legendgroup\":\"6\",\"line\":{\"color\":\"#00cc96\",\"dash\":\"solid\",\"width\":5},\"marker\":{\"symbol\":\"circle\"},\"mode\":\"lines\",\"name\":\"6\",\"scene\":\"scene\",\"showlegend\":false,\"x\":[3.0202545682898023,-13.336585020656974],\"y\":[0,150],\"z\":[19.968471501496303,15.165661599486306],\"type\":\"scatter3d\"},{\"hovertemplate\":\"ring=6\\u003cbr\\u003eRing and Wire=Ring: 6 Wire: 26\\u003cbr\\u003ex=%{x}\\u003cbr\\u003ez=%{y}\\u003cbr\\u003ey=%{z}\\u003cextra\\u003e\\u003c\\u002fextra\\u003e\",\"legendgroup\":\"6\",\"line\":{\"color\":\"#00cc96\",\"dash\":\"solid\",\"width\":5},\"marker\":{\"symbol\":\"circle\"},\"mode\":\"lines\",\"name\":\"6\",\"scene\":\"scene\",\"showlegend\":false,\"x\":[1.1084547299910206,-14.717783716810152],\"y\":[0,150],\"z\":[20.165146165473388,13.829267306279952],\"type\":\"scatter3d\"},{\"hovertemplate\":\"ring=6\\u003cbr\\u003eRing and Wire=Ring: 6 Wire: 27\\u003cbr\\u003ex=%{x}\\u003cbr\\u003ez=%{y}\\u003cbr\\u003ey=%{z}\\u003cextra\\u003e\\u003c\\u002fextra\\u003e\",\"legendgroup\":\"6\",\"line\":{\"color\":\"#00cc96\",\"dash\":\"solid\",\"width\":5},\"marker\":{\"symbol\":\"circle\"},\"mode\":\"lines\",\"name\":\"6\",\"scene\":\"scene\",\"showlegend\":false,\"x\":[-0.8133834459910139,-15.965695884518698],\"y\":[0,150],\"z\":[20.17920214312581,12.367633026832909],\"type\":\"scatter3d\"},{\"hovertemplate\":\"ring=6\\u003cbr\\u003eRing and Wire=Ring: 6 Wire: 28\\u003cbr\\u003ex=%{x}\\u003cbr\\u003ez=%{y}\\u003cbr\\u003ey=%{z}\\u003cextra\\u003e\\u003c\\u002fextra\\u003e\",\"legendgroup\":\"6\",\"line\":{\"color\":\"#00cc96\",\"dash\":\"solid\",\"width\":5},\"marker\":{\"symbol\":\"circle\"},\"mode\":\"lines\",\"name\":\"6\",\"scene\":\"scene\",\"showlegend\":false,\"x\":[-2.72785549553062,-17.069020237947885],\"y\":[0,150],\"z\":[20.010512141343334,10.793995547519513],\"type\":\"scatter3d\"},{\"hovertemplate\":\"ring=6\\u003cbr\\u003eRing and Wire=Ring: 6 Wire: 29\\u003cbr\\u003ex=%{x}\\u003cbr\\u003ez=%{y}\\u003cbr\\u003ey=%{z}\\u003cextra\\u003e\\u003c\\u002fextra\\u003e\",\"legendgroup\":\"6\",\"line\":{\"color\":\"#00cc96\",\"dash\":\"solid\",\"width\":5},\"marker\":{\"symbol\":\"circle\"},\"mode\":\"lines\",\"name\":\"6\",\"scene\":\"scene\",\"showlegend\":false,\"x\":[-4.617623663283827,-18.017764900899042],\"y\":[0,150],\"z\":[19.660603842904386,9.122605973036219],\"type\":\"scatter3d\"},{\"hovertemplate\":\"ring=6\\u003cbr\\u003eRing and Wire=Ring: 6 Wire: 30\\u003cbr\\u003ex=%{x}\\u003cbr\\u003ez=%{y}\\u003cbr\\u003ey=%{z}\\u003cextra\\u003e\\u003c\\u002fextra\\u003e\",\"legendgroup\":\"6\",\"line\":{\"color\":\"#00cc96\",\"dash\":\"solid\",\"width\":5},\"marker\":{\"symbol\":\"circle\"},\"mode\":\"lines\",\"name\":\"6\",\"scene\":\"scene\",\"showlegend\":false,\"x\":[-6.465573916085623,-18.803337894787738],\"y\":[0,150],\"z\":[19.13264607154428,7.368600666190626],\"type\":\"scatter3d\"},{\"hovertemplate\":\"ring=6\\u003cbr\\u003eRing and Wire=Ring: 6 Wire: 31\\u003cbr\\u003ex=%{x}\\u003cbr\\u003ez=%{y}\\u003cbr\\u003ey=%{z}\\u003cextra\\u003e\\u003c\\u002fextra\\u003e\",\"legendgroup\":\"6\",\"line\":{\"color\":\"#00cc96\",\"dash\":\"solid\",\"width\":5},\"marker\":{\"symbol\":\"circle\"},\"mode\":\"lines\",\"name\":\"6\",\"scene\":\"scene\",\"showlegend\":false,\"x\":[-8.254970930284447,-19.41862494893233],\"y\":[0,150],\"z\":[18.43142009459673,5.54786417065598],\"type\":\"scatter3d\"},{\"hovertemplate\":\"ring=6\\u003cbr\\u003eRing and Wire=Ring: 6 Wire: 32\\u003cbr\\u003ex=%{x}\\u003cbr\\u003ez=%{y}\\u003cbr\\u003ey=%{z}\\u003cextra\\u003e\\u003c\\u002fextra\\u003e\",\"legendgroup\":\"6\",\"line\":{\"color\":\"#00cc96\",\"dash\":\"solid\",\"width\":5},\"marker\":{\"symbol\":\"circle\"},\"mode\":\"lines\",\"name\":\"6\",\"scene\":\"scene\",\"showlegend\":false,\"x\":[-9.969609649424754,-19.858053928490932],\"y\":[0,150],\"z\":[17.563276323096506,3.6768853580838448],\"type\":\"scatter3d\"},{\"hovertemplate\":\"ring=6\\u003cbr\\u003eRing and Wire=Ring: 6 Wire: 33\\u003cbr\\u003ex=%{x}\\u003cbr\\u003ez=%{y}\\u003cbr\\u003ey=%{z}\\u003cextra\\u003e\\u003c\\u002fextra\\u003e\",\"legendgroup\":\"6\",\"line\":{\"color\":\"#00cc96\",\"dash\":\"solid\",\"width\":5},\"marker\":{\"symbol\":\"circle\"},\"mode\":\"lines\",\"name\":\"6\",\"scene\":\"scene\",\"showlegend\":false,\"x\":[-11.593962039747629,-20.1176452965774],\"y\":[0,150],\"z\":[16.536076801473698,1.7726081023291194],\"type\":\"scatter3d\"},{\"hovertemplate\":\"ring=6\\u003cbr\\u003eRing and Wire=Ring: 6 Wire: 34\\u003cbr\\u003ex=%{x}\\u003cbr\\u003ez=%{y}\\u003cbr\\u003ey=%{z}\\u003cextra\\u003e\\u003c\\u002fextra\\u003e\",\"legendgroup\":\"6\",\"line\":{\"color\":\"#00cc96\",\"dash\":\"solid\",\"width\":5},\"marker\":{\"symbol\":\"circle\"},\"mode\":\"lines\",\"name\":\"6\",\"scene\":\"scene\",\"showlegend\":false,\"x\":[-13.113317714469106,-20.195048153563615],\"y\":[0,150],\"z\":[15.359124007661904,-0.1477221668954547],\"type\":\"scatter3d\"},{\"hovertemplate\":\"ring=6\\u003cbr\\u003eRing and Wire=Ring: 6 Wire: 35\\u003cbr\\u003ex=%{x}\\u003cbr\\u003ez=%{y}\\u003cbr\\u003ey=%{z}\\u003cextra\\u003e\\u003c\\u002fextra\\u003e\",\"legendgroup\":\"6\",\"line\":{\"color\":\"#00cc96\",\"dash\":\"solid\",\"width\":5},\"marker\":{\"symbol\":\"circle\"},\"mode\":\"lines\",\"name\":\"6\",\"scene\":\"scene\",\"showlegend\":false,\"x\":[-14.513917153320872,-20.089561527190593],\"y\":[0,150],\"z\":[14.043076608417532,-2.0667146413012807],\"type\":\"scatter3d\"},{\"hovertemplate\":\"ring=6\\u003cbr\\u003eRing and Wire=Ring: 6 Wire: 36\\u003cbr\\u003ex=%{x}\\u003cbr\\u003ez=%{y}\\u003cbr\\u003ey=%{z}\\u003cextra\\u003e\\u003c\\u002fextra\\u003e\",\"legendgroup\":\"6\",\"line\":{\"color\":\"#00cc96\",\"dash\":\"solid\",\"width\":5},\"marker\":{\"symbol\":\"circle\"},\"mode\":\"lines\",\"name\":\"6\",\"scene\":\"scene\",\"showlegend\":false,\"x\":[-15.783076310896487,-19.802140720681773],\"y\":[0,150],\"z\":[12.59985293278313,-3.9669906278767924],\"type\":\"scatter3d\"},{\"hovertemplate\":\"ring=6\\u003cbr\\u003eRing and Wire=Ring: 6 Wire: 37\\u003cbr\\u003ex=%{x}\\u003cbr\\u003ez=%{y}\\u003cbr\\u003ey=%{z}\\u003cextra\\u003e\\u003c\\u002fextra\\u003e\",\"legendgroup\":\"6\",\"line\":{\"color\":\"#00cc96\",\"dash\":\"solid\",\"width\":5},\"marker\":{\"symbol\":\"circle\"},\"mode\":\"lines\",\"name\":\"6\",\"scene\":\"scene\",\"showlegend\":false,\"x\":[-16.9093014853308,-19.33538866136911],\"y\":[0,150],\"z\":[11.042523037853943,-5.831340933022566],\"type\":\"scatter3d\"},{\"hovertemplate\":\"ring=6\\u003cbr\\u003eRing and Wire=Ring: 6 Wire: 38\\u003cbr\\u003ex=%{x}\\u003cbr\\u003ez=%{y}\\u003cbr\\u003ey=%{z}\\u003cextra\\u003e\\u003c\\u002fextra\\u003e\",\"legendgroup\":\"6\",\"line\":{\"color\":\"#00cc96\",\"dash\":\"solid\",\"width\":5},\"marker\":{\"symbol\":\"circle\"},\"mode\":\"lines\",\"name\":\"6\",\"scene\":\"scene\",\"showlegend\":false,\"x\":[-17.882393407043846,-18.69353232818008],\"y\":[0,150],\"z\":[9.385190344316957,-7.642881711673404],\"type\":\"scatter3d\"},{\"hovertemplate\":\"ring=6\\u003cbr\\u003eRing and Wire=Ring: 6 Wire: 39\\u003cbr\\u003ex=%{x}\\u003cbr\\u003ez=%{y}\\u003cbr\\u003ey=%{z}\\u003cextra\\u003e\\u003c\\u002fextra\\u003e\",\"legendgroup\":\"6\",\"line\":{\"color\":\"#00cc96\",\"dash\":\"solid\",\"width\":5},\"marker\":{\"symbol\":\"circle\"},\"mode\":\"lines\",\"name\":\"6\",\"scene\":\"scene\",\"showlegend\":false,\"x\":[-18.69353960490558,-17.88238447146196],\"y\":[0,150],\"z\":[7.642863913689158,-9.385207370013816],\"type\":\"scatter3d\"},{\"hovertemplate\":\"ring=6\\u003cbr\\u003eRing and Wire=Ring: 6 Wire: 40\\u003cbr\\u003ex=%{x}\\u003cbr\\u003ez=%{y}\\u003cbr\\u003ey=%{z}\\u003cextra\\u003e\\u003c\\u002fextra\\u003e\",\"legendgroup\":\"6\",\"line\":{\"color\":\"#00cc96\",\"dash\":\"solid\",\"width\":5},\"marker\":{\"symbol\":\"circle\"},\"mode\":\"lines\",\"name\":\"6\",\"scene\":\"scene\",\"showlegend\":false,\"x\":[-19.33539421333907,-16.90929097181455],\"y\":[0,150],\"z\":[5.831322523932245,-11.042539137076064],\"type\":\"scatter3d\"},{\"hovertemplate\":\"ring=6\\u003cbr\\u003eRing and Wire=Ring: 6 Wire: 41\\u003cbr\\u003ex=%{x}\\u003cbr\\u003ez=%{y}\\u003cbr\\u003ey=%{z}\\u003cextra\\u003e\\u003c\\u002fextra\\u003e\",\"legendgroup\":\"6\",\"line\":{\"color\":\"#00cc96\",\"dash\":\"solid\",\"width\":5},\"marker\":{\"symbol\":\"circle\"},\"mode\":\"lines\",\"name\":\"6\",\"scene\":\"scene\",\"showlegend\":false,\"x\":[-19.8021444976167,-15.783064314657896],\"y\":[0,150],\"z\":[3.9669717743959616,-12.59986795973347],\"type\":\"scatter3d\"},{\"hovertemplate\":\"ring=6\\u003cbr\\u003eRing and Wire=Ring: 6 Wire: 42\\u003cbr\\u003ex=%{x}\\u003cbr\\u003ez=%{y}\\u003cbr\\u003ey=%{z}\\u003cextra\\u003e\\u003c\\u002fextra\\u003e\",\"legendgroup\":\"6\",\"line\":{\"color\":\"#00cc96\",\"dash\":\"solid\",\"width\":5},\"marker\":{\"symbol\":\"circle\"},\"mode\":\"lines\",\"name\":\"6\",\"scene\":\"scene\",\"showlegend\":false,\"x\":[-20.089563494885976,-14.51390378299973],\"y\":[0,150],\"z\":[2.0666955141699717,-14.043090427009709],\"type\":\"scatter3d\"},{\"hovertemplate\":\"ring=6\\u003cbr\\u003eRing and Wire=Ring: 6 Wire: 43\\u003cbr\\u003ex=%{x}\\u003cbr\\u003ez=%{y}\\u003cbr\\u003ey=%{z}\\u003cextra\\u003e\\u003c\\u002fextra\\u003e\",\"legendgroup\":\"6\",\"line\":{\"color\":\"#00cc96\",\"dash\":\"solid\",\"width\":5},\"marker\":{\"symbol\":\"circle\"},\"mode\":\"lines\",\"name\":\"6\",\"scene\":\"scene\",\"showlegend\":false,\"x\":[-20.1950482941997,-13.113303091149119],\"y\":[0,150],\"z\":[0.1477029393319409,-15.359136492752597],\"type\":\"scatter3d\"},{\"hovertemplate\":\"ring=6\\u003cbr\\u003eRing and Wire=Ring: 6 Wire: 44\\u003cbr\\u003ex=%{x}\\u003cbr\\u003ez=%{y}\\u003cbr\\u003ey=%{z}\\u003cextra\\u003e\\u003c\\u002fextra\\u003e\",\"legendgroup\":\"6\",\"line\":{\"color\":\"#00cc96\",\"dash\":\"solid\",\"width\":5},\"marker\":{\"symbol\":\"circle\"},\"mode\":\"lines\",\"name\":\"6\",\"scene\":\"scene\",\"showlegend\":false,\"x\":[-20.11764360888056,-11.59394629585984],\"y\":[0,150],\"z\":[-1.7726272561970458,-16.536087839995993],\"type\":\"scatter3d\"},{\"hovertemplate\":\"ring=6\\u003cbr\\u003eRing and Wire=Ring: 6 Wire: 45\\u003cbr\\u003ex=%{x}\\u003cbr\\u003ez=%{y}\\u003cbr\\u003ey=%{z}\\u003cextra\\u003e\\u003c\\u002fextra\\u003e\",\"legendgroup\":\"6\",\"line\":{\"color\":\"#00cc96\",\"dash\":\"solid\",\"width\":5},\"marker\":{\"symbol\":\"circle\"},\"mode\":\"lines\",\"name\":\"6\",\"scene\":\"scene\",\"showlegend\":false,\"x\":[-19.85805042774522,-9.969592927548266],\"y\":[0,150],\"z\":[-3.676904264795784,-17.563285815083837],\"type\":\"scatter3d\"},{\"hovertemplate\":\"ring=6\\u003cbr\\u003eRing and Wire=Ring: 6 Wire: 46\\u003cbr\\u003ex=%{x}\\u003cbr\\u003ez=%{y}\\u003cbr\\u003ey=%{z}\\u003cextra\\u003e\\u003c\\u002fextra\\u003e\",\"legendgroup\":\"6\",\"line\":{\"color\":\"#00cc96\",\"dash\":\"solid\",\"width\":5},\"marker\":{\"symbol\":\"circle\"},\"mode\":\"lines\",\"name\":\"6\",\"scene\":\"scene\",\"showlegend\":false,\"x\":[-19.418619666841032,-8.254953381855143],\"y\":[0,150],\"z\":[-5.547882658989834,-18.431427954088196],\"type\":\"scatter3d\"},{\"hovertemplate\":\"ring=6\\u003cbr\\u003eRing and Wire=Ring: 6 Wire: 47\\u003cbr\\u003ex=%{x}\\u003cbr\\u003ez=%{y}\\u003cbr\\u003ey=%{z}\\u003cextra\\u003e\\u003c\\u002fextra\\u003e\",\"legendgroup\":\"6\",\"line\":{\"color\":\"#00cc96\",\"dash\":\"solid\",\"width\":5},\"marker\":{\"symbol\":\"circle\"},\"mode\":\"lines\",\"name\":\"6\",\"scene\":\"scene\",\"showlegend\":false,\"x\":[-18.803330879186294,-6.4655557000248],\"y\":[0,150],\"z\":[-7.368618568713175,-19.132652227363103],\"type\":\"scatter3d\"},{\"hovertemplate\":\"ring=6\\u003cbr\\u003eRing and Wire=Ring: 6 Wire: 48\\u003cbr\\u003ex=%{x}\\u003cbr\\u003ez=%{y}\\u003cbr\\u003ey=%{z}\\u003cextra\\u003e\\u003c\\u002fextra\\u003e\",\"legendgroup\":\"6\",\"line\":{\"color\":\"#00cc96\",\"dash\":\"solid\",\"width\":5},\"marker\":{\"symbol\":\"circle\"},\"mode\":\"lines\",\"name\":\"6\",\"scene\":\"scene\",\"showlegend\":false,\"x\":[-18.017756215321832,-4.617604944558969],\"y\":[0,150],\"z\":[-9.122623127619438,-19.66060823930252],\"type\":\"scatter3d\"},{\"hovertemplate\":\"ring=6\\u003cbr\\u003eRing and Wire=Ring: 6 Wire: 49\\u003cbr\\u003ex=%{x}\\u003cbr\\u003ez=%{y}\\u003cbr\\u003ey=%{z}\\u003cextra\\u003e\\u003c\\u002fextra\\u003e\",\"legendgroup\":\"6\",\"line\":{\"color\":\"#00cc96\",\"dash\":\"solid\",\"width\":5},\"marker\":{\"symbol\":\"circle\"},\"mode\":\"lines\",\"name\":\"6\",\"scene\":\"scene\",\"showlegend\":false,\"x\":[-17.06900996105283,-2.727836443661377],\"y\":[0,150],\"z\":[-10.794011798808855,-20.010514738506316],\"type\":\"scatter3d\"},{\"hovertemplate\":\"ring=6\\u003cbr\\u003eRing and Wire=Ring: 6 Wire: 50\\u003cbr\\u003ex=%{x}\\u003cbr\\u003ez=%{y}\\u003cbr\\u003ey=%{z}\\u003cextra\\u003e\\u003c\\u002fextra\\u003e\",\"legendgroup\":\"6\",\"line\":{\"color\":\"#00cc96\",\"dash\":\"solid\",\"width\":5},\"marker\":{\"symbol\":\"circle\"},\"mode\":\"lines\",\"name\":\"6\",\"scene\":\"scene\",\"showlegend\":false,\"x\":[-15.965684109374966,-0.81336423351408],\"y\":[0,150],\"z\":[-12.367648227654168,-20.179202917533328],\"type\":\"scatter3d\"},{\"hovertemplate\":\"ring=6\\u003cbr\\u003eRing and Wire=Ring: 6 Wire: 51\\u003cbr\\u003ex=%{x}\\u003cbr\\u003ez=%{y}\\u003cbr\\u003ey=%{z}\\u003cextra\\u003e\\u003c\\u002fextra\\u003e\",\"legendgroup\":\"6\",\"line\":{\"color\":\"#00cc96\",\"dash\":\"solid\",\"width\":5},\"marker\":{\"symbol\":\"circle\"},\"mode\":\"lines\",\"name\":\"6\",\"scene\":\"scene\",\"showlegend\":false,\"x\":[-14.717770550055242,1.1084739290845018],\"y\":[0,150],\"z\":[-13.829281318972154,-20.165145110112288],\"type\":\"scatter3d\"},{\"hovertemplate\":\"ring=6\\u003cbr\\u003eRing and Wire=Ring: 6 Wire: 52\\u003cbr\\u003ex=%{x}\\u003cbr\\u003ez=%{y}\\u003cbr\\u003ey=%{z}\\u003cextra\\u003e\\u003c\\u002fextra\\u003e\",\"legendgroup\":\"6\",\"line\":{\"color\":\"#00cc96\",\"dash\":\"solid\",\"width\":5},\"marker\":{\"symbol\":\"circle\"},\"mode\":\"lines\",\"name\":\"6\",\"scene\":\"scene\",\"showlegend\":false,\"x\":[-13.336570581531081,3.0202735801298433],\"y\":[0,150],\"z\":[-15.165674297148323,-19.968468625924103],\"type\":\"scatter3d\"},{\"hovertemplate\":\"ring=6\\u003cbr\\u003eRing and Wire=Ring: 6 Wire: 53\\u003cbr\\u003ex=%{x}\\u003cbr\\u003ez=%{y}\\u003cbr\\u003ey=%{z}\\u003cextra\\u003e\\u003c\\u002fextra\\u003e\",\"legendgroup\":\"6\",\"line\":{\"color\":\"#00cc96\",\"dash\":\"solid\",\"width\":5},\"marker\":{\"symbol\":\"circle\"},\"mode\":\"lines\",\"name\":\"6\",\"scene\":\"scene\",\"showlegend\":false,\"x\":[-11.834592564601532,4.904721165932596],\"y\":[0,150],\"z\":[-16.364724580426756,-19.59095459766569],\"type\":\"scatter3d\"},{\"hovertemplate\":\"ring=6\\u003cbr\\u003eRing and Wire=Ring: 6 Wire: 54\\u003cbr\\u003ex=%{x}\\u003cbr\\u003ez=%{y}\\u003cbr\\u003ey=%{z}\\u003cextra\\u003e\\u003c\\u002fextra\\u003e\",\"legendgroup\":\"6\",\"line\":{\"color\":\"#00cc96\",\"dash\":\"solid\",\"width\":5},\"marker\":{\"symbol\":\"circle\"},\"mode\":\"lines\",\"name\":\"6\",\"scene\":\"scene\",\"showlegend\":false,\"x\":[-10.225438644774941,6.744750837341821],\"y\":[0,150],\"z\":[-17.415573383764567,-19.03602185083644],\"type\":\"scatter3d\"},{\"hovertemplate\":\"ring=6\\u003cbr\\u003eRing and Wire=Ring: 6 Wire: 55\\u003cbr\\u003ex=%{x}\\u003cbr\\u003ez=%{y}\\u003cbr\\u003ey=%{z}\\u003cextra\\u003e\\u003c\\u002fextra\\u003e\",\"legendgroup\":\"6\",\"line\":{\"color\":\"#00cc96\",\"dash\":\"solid\",\"width\":5},\"marker\":{\"symbol\":\"circle\"},\"mode\":\"lines\",\"name\":\"6\",\"scene\":\"scene\",\"showlegend\":false,\"x\":[-8.523681569132938,8.523699000717551],\"y\":[0,150],\"z\":[-18.308704057670738,-18.308695942325116],\"type\":\"scatter3d\"},{\"hovertemplate\":\"ring=6\\u003cbr\\u003eRing and Wire=Ring: 6 Wire: 56\\u003cbr\\u003ex=%{x}\\u003cbr\\u003ez=%{y}\\u003cbr\\u003ey=%{z}\\u003cextra\\u003e\\u003c\\u002fextra\\u003e\",\"legendgroup\":\"6\",\"line\":{\"color\":\"#00cc96\",\"dash\":\"solid\",\"width\":5},\"marker\":{\"symbol\":\"circle\"},\"mode\":\"lines\",\"name\":\"6\",\"scene\":\"scene\",\"showlegend\":false,\"x\":[-6.7447327132761234,10.225455226015344],\"y\":[0,150],\"z\":[-19.03602827245769,-17.415563648188392],\"type\":\"scatter3d\"},{\"hovertemplate\":\"ring=6\\u003cbr\\u003eRing and Wire=Ring: 6 Wire: 57\\u003cbr\\u003ex=%{x}\\u003cbr\\u003ez=%{y}\\u003cbr\\u003ey=%{z}\\u003cextra\\u003e\\u003c\\u002fextra\\u003e\",\"legendgroup\":\"6\",\"line\":{\"color\":\"#00cc96\",\"dash\":\"solid\",\"width\":5},\"marker\":{\"symbol\":\"circle\"},\"mode\":\"lines\",\"name\":\"6\",\"scene\":\"scene\",\"showlegend\":false,\"x\":[-4.904702513520167,11.834608145335444],\"y\":[0,150],\"z\":[-19.590959267407364,-16.364713312786918],\"type\":\"scatter3d\"},{\"hovertemplate\":\"ring=6\\u003cbr\\u003eRing and Wire=Ring: 6 Wire: 58\\u003cbr\\u003ex=%{x}\\u003cbr\\u003ez=%{y}\\u003cbr\\u003ey=%{z}\\u003cextra\\u003e\\u003c\\u002fextra\\u003e\",\"legendgroup\":\"6\",\"line\":{\"color\":\"#00cc96\",\"dash\":\"solid\",\"width\":5},\"marker\":{\"symbol\":\"circle\"},\"mode\":\"lines\",\"name\":\"6\",\"scene\":\"scene\",\"showlegend\":false,\"x\":[-3.0202545682898148,13.336585020656965],\"y\":[0,150],\"z\":[-19.968471501496303,-15.165661599486313],\"type\":\"scatter3d\"},{\"hovertemplate\":\"ring=6\\u003cbr\\u003eRing and Wire=Ring: 6 Wire: 59\\u003cbr\\u003ex=%{x}\\u003cbr\\u003ez=%{y}\\u003cbr\\u003ey=%{z}\\u003cextra\\u003e\\u003c\\u002fextra\\u003e\",\"legendgroup\":\"6\",\"line\":{\"color\":\"#00cc96\",\"dash\":\"solid\",\"width\":5},\"marker\":{\"symbol\":\"circle\"},\"mode\":\"lines\",\"name\":\"6\",\"scene\":\"scene\",\"showlegend\":false,\"x\":[-1.1084547299910223,14.71778371681015],\"y\":[0,150],\"z\":[-20.165146165473388,-13.829267306279952],\"type\":\"scatter3d\"},{\"hovertemplate\":\"ring=6\\u003cbr\\u003eRing and Wire=Ring: 6 Wire: 60\\u003cbr\\u003ex=%{x}\\u003cbr\\u003ez=%{y}\\u003cbr\\u003ey=%{z}\\u003cextra\\u003e\\u003c\\u002fextra\\u003e\",\"legendgroup\":\"6\",\"line\":{\"color\":\"#00cc96\",\"dash\":\"solid\",\"width\":5},\"marker\":{\"symbol\":\"circle\"},\"mode\":\"lines\",\"name\":\"6\",\"scene\":\"scene\",\"showlegend\":false,\"x\":[0.8133834459910112,15.965695884518698],\"y\":[0,150],\"z\":[-20.179202143125814,-12.367633026832914],\"type\":\"scatter3d\"},{\"hovertemplate\":\"ring=6\\u003cbr\\u003eRing and Wire=Ring: 6 Wire: 61\\u003cbr\\u003ex=%{x}\\u003cbr\\u003ez=%{y}\\u003cbr\\u003ey=%{z}\\u003cextra\\u003e\\u003c\\u002fextra\\u003e\",\"legendgroup\":\"6\",\"line\":{\"color\":\"#00cc96\",\"dash\":\"solid\",\"width\":5},\"marker\":{\"symbol\":\"circle\"},\"mode\":\"lines\",\"name\":\"6\",\"scene\":\"scene\",\"showlegend\":false,\"x\":[2.7278554955306085,17.06902023794788],\"y\":[0,150],\"z\":[-20.010512141343334,-10.793995547519522],\"type\":\"scatter3d\"},{\"hovertemplate\":\"ring=6\\u003cbr\\u003eRing and Wire=Ring: 6 Wire: 62\\u003cbr\\u003ex=%{x}\\u003cbr\\u003ez=%{y}\\u003cbr\\u003ey=%{z}\\u003cextra\\u003e\\u003c\\u002fextra\\u003e\",\"legendgroup\":\"6\",\"line\":{\"color\":\"#00cc96\",\"dash\":\"solid\",\"width\":5},\"marker\":{\"symbol\":\"circle\"},\"mode\":\"lines\",\"name\":\"6\",\"scene\":\"scene\",\"showlegend\":false,\"x\":[4.617623663283824,18.01776490089904],\"y\":[0,150],\"z\":[-19.660603842904386,-9.12260597303622],\"type\":\"scatter3d\"},{\"hovertemplate\":\"ring=6\\u003cbr\\u003eRing and Wire=Ring: 6 Wire: 63\\u003cbr\\u003ex=%{x}\\u003cbr\\u003ez=%{y}\\u003cbr\\u003ey=%{z}\\u003cextra\\u003e\\u003c\\u002fextra\\u003e\",\"legendgroup\":\"6\",\"line\":{\"color\":\"#00cc96\",\"dash\":\"solid\",\"width\":5},\"marker\":{\"symbol\":\"circle\"},\"mode\":\"lines\",\"name\":\"6\",\"scene\":\"scene\",\"showlegend\":false,\"x\":[6.465573916085611,18.803337894787735],\"y\":[0,150],\"z\":[-19.132646071544283,-7.368600666190637],\"type\":\"scatter3d\"},{\"hovertemplate\":\"ring=6\\u003cbr\\u003eRing and Wire=Ring: 6 Wire: 64\\u003cbr\\u003ex=%{x}\\u003cbr\\u003ez=%{y}\\u003cbr\\u003ey=%{z}\\u003cextra\\u003e\\u003c\\u002fextra\\u003e\",\"legendgroup\":\"6\",\"line\":{\"color\":\"#00cc96\",\"dash\":\"solid\",\"width\":5},\"marker\":{\"symbol\":\"circle\"},\"mode\":\"lines\",\"name\":\"6\",\"scene\":\"scene\",\"showlegend\":false,\"x\":[8.254970930284454,19.418624948932333],\"y\":[0,150],\"z\":[-18.431420094596728,-5.547864170655973],\"type\":\"scatter3d\"},{\"hovertemplate\":\"ring=6\\u003cbr\\u003eRing and Wire=Ring: 6 Wire: 65\\u003cbr\\u003ex=%{x}\\u003cbr\\u003ez=%{y}\\u003cbr\\u003ey=%{z}\\u003cextra\\u003e\\u003c\\u002fextra\\u003e\",\"legendgroup\":\"6\",\"line\":{\"color\":\"#00cc96\",\"dash\":\"solid\",\"width\":5},\"marker\":{\"symbol\":\"circle\"},\"mode\":\"lines\",\"name\":\"6\",\"scene\":\"scene\",\"showlegend\":false,\"x\":[9.969609649424754,19.858053928490932],\"y\":[0,150],\"z\":[-17.563276323096506,-3.6768853580838465],\"type\":\"scatter3d\"},{\"hovertemplate\":\"ring=6\\u003cbr\\u003eRing and Wire=Ring: 6 Wire: 66\\u003cbr\\u003ex=%{x}\\u003cbr\\u003ez=%{y}\\u003cbr\\u003ey=%{z}\\u003cextra\\u003e\\u003c\\u002fextra\\u003e\",\"legendgroup\":\"6\",\"line\":{\"color\":\"#00cc96\",\"dash\":\"solid\",\"width\":5},\"marker\":{\"symbol\":\"circle\"},\"mode\":\"lines\",\"name\":\"6\",\"scene\":\"scene\",\"showlegend\":false,\"x\":[11.593962039747616,20.117645296577397],\"y\":[0,150],\"z\":[-16.536076801473705,-1.772608102329131],\"type\":\"scatter3d\"}],                        {\"template\":{\"data\":{\"histogram2dcontour\":[{\"type\":\"histogram2dcontour\",\"colorbar\":{\"outlinewidth\":0,\"ticks\":\"\"},\"colorscale\":[[0.0,\"#0d0887\"],[0.1111111111111111,\"#46039f\"],[0.2222222222222222,\"#7201a8\"],[0.3333333333333333,\"#9c179e\"],[0.4444444444444444,\"#bd3786\"],[0.5555555555555556,\"#d8576b\"],[0.6666666666666666,\"#ed7953\"],[0.7777777777777778,\"#fb9f3a\"],[0.8888888888888888,\"#fdca26\"],[1.0,\"#f0f921\"]]}],\"choropleth\":[{\"type\":\"choropleth\",\"colorbar\":{\"outlinewidth\":0,\"ticks\":\"\"}}],\"histogram2d\":[{\"type\":\"histogram2d\",\"colorbar\":{\"outlinewidth\":0,\"ticks\":\"\"},\"colorscale\":[[0.0,\"#0d0887\"],[0.1111111111111111,\"#46039f\"],[0.2222222222222222,\"#7201a8\"],[0.3333333333333333,\"#9c179e\"],[0.4444444444444444,\"#bd3786\"],[0.5555555555555556,\"#d8576b\"],[0.6666666666666666,\"#ed7953\"],[0.7777777777777778,\"#fb9f3a\"],[0.8888888888888888,\"#fdca26\"],[1.0,\"#f0f921\"]]}],\"heatmap\":[{\"type\":\"heatmap\",\"colorbar\":{\"outlinewidth\":0,\"ticks\":\"\"},\"colorscale\":[[0.0,\"#0d0887\"],[0.1111111111111111,\"#46039f\"],[0.2222222222222222,\"#7201a8\"],[0.3333333333333333,\"#9c179e\"],[0.4444444444444444,\"#bd3786\"],[0.5555555555555556,\"#d8576b\"],[0.6666666666666666,\"#ed7953\"],[0.7777777777777778,\"#fb9f3a\"],[0.8888888888888888,\"#fdca26\"],[1.0,\"#f0f921\"]]}],\"heatmapgl\":[{\"type\":\"heatmapgl\",\"colorbar\":{\"outlinewidth\":0,\"ticks\":\"\"},\"colorscale\":[[0.0,\"#0d0887\"],[0.1111111111111111,\"#46039f\"],[0.2222222222222222,\"#7201a8\"],[0.3333333333333333,\"#9c179e\"],[0.4444444444444444,\"#bd3786\"],[0.5555555555555556,\"#d8576b\"],[0.6666666666666666,\"#ed7953\"],[0.7777777777777778,\"#fb9f3a\"],[0.8888888888888888,\"#fdca26\"],[1.0,\"#f0f921\"]]}],\"contourcarpet\":[{\"type\":\"contourcarpet\",\"colorbar\":{\"outlinewidth\":0,\"ticks\":\"\"}}],\"contour\":[{\"type\":\"contour\",\"colorbar\":{\"outlinewidth\":0,\"ticks\":\"\"},\"colorscale\":[[0.0,\"#0d0887\"],[0.1111111111111111,\"#46039f\"],[0.2222222222222222,\"#7201a8\"],[0.3333333333333333,\"#9c179e\"],[0.4444444444444444,\"#bd3786\"],[0.5555555555555556,\"#d8576b\"],[0.6666666666666666,\"#ed7953\"],[0.7777777777777778,\"#fb9f3a\"],[0.8888888888888888,\"#fdca26\"],[1.0,\"#f0f921\"]]}],\"surface\":[{\"type\":\"surface\",\"colorbar\":{\"outlinewidth\":0,\"ticks\":\"\"},\"colorscale\":[[0.0,\"#0d0887\"],[0.1111111111111111,\"#46039f\"],[0.2222222222222222,\"#7201a8\"],[0.3333333333333333,\"#9c179e\"],[0.4444444444444444,\"#bd3786\"],[0.5555555555555556,\"#d8576b\"],[0.6666666666666666,\"#ed7953\"],[0.7777777777777778,\"#fb9f3a\"],[0.8888888888888888,\"#fdca26\"],[1.0,\"#f0f921\"]]}],\"mesh3d\":[{\"type\":\"mesh3d\",\"colorbar\":{\"outlinewidth\":0,\"ticks\":\"\"}}],\"scatter\":[{\"fillpattern\":{\"fillmode\":\"overlay\",\"size\":10,\"solidity\":0.2},\"type\":\"scatter\"}],\"parcoords\":[{\"type\":\"parcoords\",\"line\":{\"colorbar\":{\"outlinewidth\":0,\"ticks\":\"\"}}}],\"scatterpolargl\":[{\"type\":\"scatterpolargl\",\"marker\":{\"colorbar\":{\"outlinewidth\":0,\"ticks\":\"\"}}}],\"bar\":[{\"error_x\":{\"color\":\"#2a3f5f\"},\"error_y\":{\"color\":\"#2a3f5f\"},\"marker\":{\"line\":{\"color\":\"#E5ECF6\",\"width\":0.5},\"pattern\":{\"fillmode\":\"overlay\",\"size\":10,\"solidity\":0.2}},\"type\":\"bar\"}],\"scattergeo\":[{\"type\":\"scattergeo\",\"marker\":{\"colorbar\":{\"outlinewidth\":0,\"ticks\":\"\"}}}],\"scatterpolar\":[{\"type\":\"scatterpolar\",\"marker\":{\"colorbar\":{\"outlinewidth\":0,\"ticks\":\"\"}}}],\"histogram\":[{\"marker\":{\"pattern\":{\"fillmode\":\"overlay\",\"size\":10,\"solidity\":0.2}},\"type\":\"histogram\"}],\"scattergl\":[{\"type\":\"scattergl\",\"marker\":{\"colorbar\":{\"outlinewidth\":0,\"ticks\":\"\"}}}],\"scatter3d\":[{\"type\":\"scatter3d\",\"line\":{\"colorbar\":{\"outlinewidth\":0,\"ticks\":\"\"}},\"marker\":{\"colorbar\":{\"outlinewidth\":0,\"ticks\":\"\"}}}],\"scattermapbox\":[{\"type\":\"scattermapbox\",\"marker\":{\"colorbar\":{\"outlinewidth\":0,\"ticks\":\"\"}}}],\"scatterternary\":[{\"type\":\"scatterternary\",\"marker\":{\"colorbar\":{\"outlinewidth\":0,\"ticks\":\"\"}}}],\"scattercarpet\":[{\"type\":\"scattercarpet\",\"marker\":{\"colorbar\":{\"outlinewidth\":0,\"ticks\":\"\"}}}],\"carpet\":[{\"aaxis\":{\"endlinecolor\":\"#2a3f5f\",\"gridcolor\":\"white\",\"linecolor\":\"white\",\"minorgridcolor\":\"white\",\"startlinecolor\":\"#2a3f5f\"},\"baxis\":{\"endlinecolor\":\"#2a3f5f\",\"gridcolor\":\"white\",\"linecolor\":\"white\",\"minorgridcolor\":\"white\",\"startlinecolor\":\"#2a3f5f\"},\"type\":\"carpet\"}],\"table\":[{\"cells\":{\"fill\":{\"color\":\"#EBF0F8\"},\"line\":{\"color\":\"white\"}},\"header\":{\"fill\":{\"color\":\"#C8D4E3\"},\"line\":{\"color\":\"white\"}},\"type\":\"table\"}],\"barpolar\":[{\"marker\":{\"line\":{\"color\":\"#E5ECF6\",\"width\":0.5},\"pattern\":{\"fillmode\":\"overlay\",\"size\":10,\"solidity\":0.2}},\"type\":\"barpolar\"}],\"pie\":[{\"automargin\":true,\"type\":\"pie\"}]},\"layout\":{\"autotypenumbers\":\"strict\",\"colorway\":[\"#636efa\",\"#EF553B\",\"#00cc96\",\"#ab63fa\",\"#FFA15A\",\"#19d3f3\",\"#FF6692\",\"#B6E880\",\"#FF97FF\",\"#FECB52\"],\"font\":{\"color\":\"#2a3f5f\"},\"hovermode\":\"closest\",\"hoverlabel\":{\"align\":\"left\"},\"paper_bgcolor\":\"white\",\"plot_bgcolor\":\"#E5ECF6\",\"polar\":{\"bgcolor\":\"#E5ECF6\",\"angularaxis\":{\"gridcolor\":\"white\",\"linecolor\":\"white\",\"ticks\":\"\"},\"radialaxis\":{\"gridcolor\":\"white\",\"linecolor\":\"white\",\"ticks\":\"\"}},\"ternary\":{\"bgcolor\":\"#E5ECF6\",\"aaxis\":{\"gridcolor\":\"white\",\"linecolor\":\"white\",\"ticks\":\"\"},\"baxis\":{\"gridcolor\":\"white\",\"linecolor\":\"white\",\"ticks\":\"\"},\"caxis\":{\"gridcolor\":\"white\",\"linecolor\":\"white\",\"ticks\":\"\"}},\"coloraxis\":{\"colorbar\":{\"outlinewidth\":0,\"ticks\":\"\"}},\"colorscale\":{\"sequential\":[[0.0,\"#0d0887\"],[0.1111111111111111,\"#46039f\"],[0.2222222222222222,\"#7201a8\"],[0.3333333333333333,\"#9c179e\"],[0.4444444444444444,\"#bd3786\"],[0.5555555555555556,\"#d8576b\"],[0.6666666666666666,\"#ed7953\"],[0.7777777777777778,\"#fb9f3a\"],[0.8888888888888888,\"#fdca26\"],[1.0,\"#f0f921\"]],\"sequentialminus\":[[0.0,\"#0d0887\"],[0.1111111111111111,\"#46039f\"],[0.2222222222222222,\"#7201a8\"],[0.3333333333333333,\"#9c179e\"],[0.4444444444444444,\"#bd3786\"],[0.5555555555555556,\"#d8576b\"],[0.6666666666666666,\"#ed7953\"],[0.7777777777777778,\"#fb9f3a\"],[0.8888888888888888,\"#fdca26\"],[1.0,\"#f0f921\"]],\"diverging\":[[0,\"#8e0152\"],[0.1,\"#c51b7d\"],[0.2,\"#de77ae\"],[0.3,\"#f1b6da\"],[0.4,\"#fde0ef\"],[0.5,\"#f7f7f7\"],[0.6,\"#e6f5d0\"],[0.7,\"#b8e186\"],[0.8,\"#7fbc41\"],[0.9,\"#4d9221\"],[1,\"#276419\"]]},\"xaxis\":{\"gridcolor\":\"white\",\"linecolor\":\"white\",\"ticks\":\"\",\"title\":{\"standoff\":15},\"zerolinecolor\":\"white\",\"automargin\":true,\"zerolinewidth\":2},\"yaxis\":{\"gridcolor\":\"white\",\"linecolor\":\"white\",\"ticks\":\"\",\"title\":{\"standoff\":15},\"zerolinecolor\":\"white\",\"automargin\":true,\"zerolinewidth\":2},\"scene\":{\"xaxis\":{\"backgroundcolor\":\"#E5ECF6\",\"gridcolor\":\"white\",\"linecolor\":\"white\",\"showbackground\":true,\"ticks\":\"\",\"zerolinecolor\":\"white\",\"gridwidth\":2},\"yaxis\":{\"backgroundcolor\":\"#E5ECF6\",\"gridcolor\":\"white\",\"linecolor\":\"white\",\"showbackground\":true,\"ticks\":\"\",\"zerolinecolor\":\"white\",\"gridwidth\":2},\"zaxis\":{\"backgroundcolor\":\"#E5ECF6\",\"gridcolor\":\"white\",\"linecolor\":\"white\",\"showbackground\":true,\"ticks\":\"\",\"zerolinecolor\":\"white\",\"gridwidth\":2}},\"shapedefaults\":{\"line\":{\"color\":\"#2a3f5f\"}},\"annotationdefaults\":{\"arrowcolor\":\"#2a3f5f\",\"arrowhead\":0,\"arrowwidth\":1},\"geo\":{\"bgcolor\":\"white\",\"landcolor\":\"#E5ECF6\",\"subunitcolor\":\"white\",\"showland\":true,\"showlakes\":true,\"lakecolor\":\"white\"},\"title\":{\"x\":0.05},\"mapbox\":{\"style\":\"light\"}}},\"scene\":{\"domain\":{\"x\":[0.0,1.0],\"y\":[0.0,1.0]},\"xaxis\":{\"title\":{\"text\":\"X\"},\"range\":[-60,60]},\"yaxis\":{\"title\":{\"text\":\"Z\"},\"range\":[0,175]},\"zaxis\":{\"title\":{\"text\":\"Y\"},\"range\":[-60,60]},\"aspectmode\":\"cube\"},\"legend\":{\"title\":{\"text\":\"Ring Number\"},\"tracegroupgap\":0},\"margin\":{\"t\":60},\"title\":{\"text\":\"Rings of the GlueX Central Drift Chamber\"}},                        {\"responsive\": true}                    ).then(function(){\n",
              "                            \n",
              "var gd = document.getElementById('2f5d0142-9313-405e-a3a8-05c3f75b33f6');\n",
              "var x = new MutationObserver(function (mutations, observer) {{\n",
              "        var display = window.getComputedStyle(gd).display;\n",
              "        if (!display || display === 'none') {{\n",
              "            console.log([gd, 'removed!']);\n",
              "            Plotly.purge(gd);\n",
              "            observer.disconnect();\n",
              "        }}\n",
              "}});\n",
              "\n",
              "// Listen for the removal of the full notebook cells\n",
              "var notebookContainer = gd.closest('#notebook-container');\n",
              "if (notebookContainer) {{\n",
              "    x.observe(notebookContainer, {childList: true});\n",
              "}}\n",
              "\n",
              "// Listen for the clearing of the current output cell\n",
              "var outputEl = gd.closest('.output');\n",
              "if (outputEl) {{\n",
              "    x.observe(outputEl, {childList: true});\n",
              "}}\n",
              "\n",
              "                        })                };                            </script>        </div>\n",
              "</body>\n",
              "</html>"
            ]
          },
          "metadata": {}
        }
      ]
    },
    {
      "cell_type": "markdown",
      "source": [
        "Based on the position of the wire we detect a signal in, we can determine the x and y corrdinates of the hit. In later sections, we will see how we can use the layout of the detector to estimate the z coordinate of the hit as well.\n",
        "\n",
        "Once we have coordinates for all of the hits that are left by a track, we can use the path of the particle to gain information about its momentum.\n",
        "\n",
        "---"
      ],
      "metadata": {
        "id": "uEv_E5Enpnq6"
      }
    },
    {
      "cell_type": "markdown",
      "source": [
        "####**Question #3:**\n",
        "---\n",
        "Based on the interactive plot shown above, how many \"rings\" are there in the GlueX central drift chamber (CDC)?"
      ],
      "metadata": {
        "id": "Q3MD_YFeqzeE"
      }
    },
    {
      "cell_type": "markdown",
      "source": [
        "Double click to edit this cell and answer the following question: How many rings are there in the GlueX central drift chamber?"
      ],
      "metadata": {
        "id": "qsLN-VNNqzeG"
      }
    },
    {
      "cell_type": "markdown",
      "source": [
        "#####**Solution:**"
      ],
      "metadata": {
        "id": "tyyYO4kLqzeG"
      }
    },
    {
      "cell_type": "markdown",
      "source": [
        "There are a total of 28 layers in the GlueX central drift chamber."
      ],
      "metadata": {
        "id": "Sldbd8zQqzeG"
      }
    },
    {
      "cell_type": "markdown",
      "source": [
        "####**Question #4:**\n",
        "---\n",
        "Using the interactive plot shown above, plot rings 4, 5, and 9. What differences do you notice between these three rings? **Note:** It may be easier to see the differences if you plot these rings one at a time."
      ],
      "metadata": {
        "id": "RIR54FwWrSg3"
      }
    },
    {
      "cell_type": "markdown",
      "source": [
        "Double click to edit this cell and answer the following question: What differences do you notice between these three rings?"
      ],
      "metadata": {
        "id": "wiayDGcIrShV"
      }
    },
    {
      "cell_type": "markdown",
      "source": [
        "#####**Solution:**"
      ],
      "metadata": {
        "id": "TOaC6UORrShV"
      }
    },
    {
      "cell_type": "markdown",
      "source": [
        "One observation is that as you increase the ring number, the radius of the ring increases. This is due to the fact that the rings are numbered from the smallest radius to the largest radius.\n",
        "\n",
        "Another observation is that ring 4 has wires that run parallel to the z axis, while rings 5 and 9 have wires that are slightly tilted. Ring 5 and ring 9 (and around 16 other rings in the detector) have wires that are tilted by 6 degrees. These layers are called **stereo layers**, and they actually allow us to more accurately find the z coordinate of a hit based on the timing of the pulse of electricity. Ring 4 is what we call an **axial layer**, meaning its wires are lined up straight in the z direction."
      ],
      "metadata": {
        "id": "Z-SSJs6DrShV"
      }
    },
    {
      "cell_type": "markdown",
      "source": [
        "####**Question #5:**\n",
        "---\n",
        "The cell below creates a plot of the $x$ and $y$ coordinates of the wires of the drift chamber. There is a z slider, which allows you to change the point along the detector you are looking at. What do you notice about the wire positions as you change the z coordinate? Compare the behavior of ring 4, ring 5, and ring 9."
      ],
      "metadata": {
        "id": "Gbyz0nBDhQLU"
      }
    },
    {
      "cell_type": "code",
      "source": [
        "Ring_1 = 5 # @param {type:\"slider\", min:0, max:28, step:1}\n",
        "Ring_2 = 9 # @param {type:\"slider\", min:0, max:28, step:1}\n",
        "Ring_3 = 4 # @param {type:\"slider\", min:0, max:28, step:1}\n",
        "rings = [Ring_1,Ring_2,Ring_3]\n",
        "import warnings\n",
        "warnings.filterwarnings(\"ignore\")\n",
        "included = [[row['ring']==rings[j] for row in wire_positions_df.iloc] for j in range(3)]\n",
        "x0 = [np.array([row['pos'][0][0] for row in wire_positions_df.loc[included[j]].iloc]) for j in range(3)]\n",
        "y0 = [np.array([row['pos'][0][1] for row in wire_positions_df.loc[included[j]].iloc]) for j in range(3)]\n",
        "x1 = [np.array([row['pos'][1][0] for row in wire_positions_df.loc[included[j]].iloc]) for j in range(3)]\n",
        "y1 = [np.array([row['pos'][1][1] for row in wire_positions_df.loc[included[j]].iloc]) for j in range(3)]\n",
        "\n",
        "temp_df = pd.DataFrame()\n",
        "fig = go.FigureWidget()\n",
        "for j in range(3):\n",
        "  fig.add_scatter(x=x0[j],y=y0[j],mode='markers',name=\"Ring \" + str(rings[j]),marker={\"size\":3})\n",
        "fig.update_layout(xaxis_range=[-60,60], yaxis_range=[-60,60],width=520,height=500)\n",
        "fig.add_shape(type=\"circle\",\n",
        "    xref=\"x\", yref=\"y\",\n",
        "    x0=-10.5, y0=-10.5, x1=10.5, y1=10.5,\n",
        "    line_color=\"black\")\n",
        "fig.add_shape(type=\"circle\",\n",
        "    xref=\"x\", yref=\"y\",\n",
        "    x0=-55, y0=-55, x1=55, y1=55,\n",
        "    line_color=\"black\")\n",
        "fig.update()\n",
        "def update(z=1):\n",
        "  global fig\n",
        "  s= z/175\n",
        "  with fig.batch_update():\n",
        "    for j in range(3):\n",
        "      fig.data[j]['x']=s*x1[j]+(1-s)*x0[j]\n",
        "      fig.data[j]['y']=s*y1[j]+(1-s)*y0[j]\n",
        "    fig.update_layout(width=520,height=500)\n",
        "  fig.show()\n",
        "interact(update, z=(0,175,0.1))\n",
        "print(\"\")"
      ],
      "metadata": {
        "colab": {
          "base_uri": "https://localhost:8080/",
          "height": 566,
          "referenced_widgets": [
            "38c1a3632aa342c382eb4b0d78ef5b0d",
            "549e7f999ea048d1897e541c2e62ac78",
            "44c3194699fb486bba1d922367489d19",
            "ea9cfebce09742c0a487529449f6544a",
            "030b09e59d3448ff8c63a804d178b422",
            "1c62dd361a644dd1819dfa24186f1caf",
            "caa82cabdf064526bdb1d0e6aabc3491"
          ]
        },
        "cellView": "form",
        "id": "76RvDscdh9GT",
        "outputId": "03a217d4-be60-4d6e-c0b3-1909713fe88f"
      },
      "execution_count": 18,
      "outputs": [
        {
          "output_type": "display_data",
          "data": {
            "text/plain": [
              "interactive(children=(FloatSlider(value=1.0, description='z', max=175.0), Output()), _dom_classes=('widget-int…"
            ],
            "application/vnd.jupyter.widget-view+json": {
              "version_major": 2,
              "version_minor": 0,
              "model_id": "38c1a3632aa342c382eb4b0d78ef5b0d"
            }
          },
          "metadata": {
            "application/vnd.jupyter.widget-view+json": {
              "colab": {
                "custom_widget_manager": {
                  "url": "https://ssl.gstatic.com/colaboratory-static/widgets/colab-cdn-widget-manager/b3e629b1971e1542/manager.min.js"
                }
              }
            }
          }
        },
        {
          "output_type": "stream",
          "name": "stdout",
          "text": [
            "\n"
          ]
        }
      ]
    },
    {
      "cell_type": "markdown",
      "source": [
        "Double click to edit this cell and answer the following question: What do you notice about the wire positions as you change the the z coordinate?"
      ],
      "metadata": {
        "id": "1RWfhqwghQLo"
      }
    },
    {
      "cell_type": "markdown",
      "source": [
        "#####**Solution:**"
      ],
      "metadata": {
        "id": "0ukTcNNnhQLp"
      }
    },
    {
      "cell_type": "markdown",
      "source": [
        "As you change the z coordinate, the positions of the stereo rings (the rings whose wires are not straight ) change. Ring 5 is a stereo ring, so as we increase the z coordinate, the tilt of the wire affects its corrdinates more and more, which we interpret as a \"moving\" of the wire positions. Ring 9 is also a stereo ring, though it is tilted in the other direction, so as we increase the slider, the wires seem to move in the opposite direction of the ring 5 wires. Wire 4, however, is an **axial layer**, so the x and y coordinates of the wire does not change as we change the z coordinate."
      ],
      "metadata": {
        "id": "lOwddXoAhQLp"
      }
    },
    {
      "cell_type": "markdown",
      "source": [
        "---\n",
        "###**Curvature of Tracks**\n",
        "---\n",
        "\n",
        "So far, we haven't talked about how we can actually use these tracks to find the momentum of the particles that leave them. On its own, information about the track doesn't give us the ability to determine the momentum of the particle. Instead, we use a magnetic field to make the path of the particle of the particle curve. Based on the curvature of the track, we are able to infer the momentum of the particle.\n",
        "\n",
        "This method relies on the fact that charged particles moving in a magnetic field will travel in a circle.\n"
      ],
      "metadata": {
        "id": "0xPF-dRBRL3z"
      }
    },
    {
      "cell_type": "markdown",
      "source": [
        "<img src=\"data:image/png;base64,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\" alt=\"A diagram of a charged particle's path through a magnetic field pointing into the screen\" width=300>"
      ],
      "metadata": {
        "id": "E-JCYw00VGrC"
      }
    },
    {
      "cell_type": "markdown",
      "source": [
        "In the image shown above, there is a particle (at the top of the circle), moving with velocity $v$ through a magnetic field with strength $B$. The $\\otimes$ symbol tells us that the magnetic field is pointing into the screen. The particle travels in the path given by the dotted line, which is a circle of radius $r$. At every point of the circle, the magnetic force, labelled $F_{magnetic}$ is pointed towards the center of the circle, as is shown above.\n",
        "\n",
        "We can express the radius of the path as follows:\n",
        "\n",
        "$$\n",
        "r_{path} = \\frac{|p_\\perp|}{|q|B}\n",
        "$$\n",
        "where $r_{path}$ is the radius of the path, $|q|$ is the absolute value of the charge of the particle, and $B$ is the stregth of the magnetic field. $p_\\perp$ refers to the magnitude of the momentum components that are perpendicular to the direction of the magnetic field. In the GlueX detector, the magnetic field points along the z axis, meaning:\n",
        "$$\n",
        "|p_\\perp| = \\sqrt{p_x^2+p_y^2}\n",
        "$$\n",
        "where $p_x$ is the x component of the momentum vector and $p_y$ is the y component of the momentum vector.\n",
        "\n",
        "Since we know that the particle starts in the center of the detector, the path a particle takes can be entirely expressed in terms of $p_x$ and $p_y$.\n",
        "\n",
        "Run the cell below to create a plot below of a cross section of the GlueX detector (as if you were looking in the z direction). The black circles represent the boundaries of the central drift chamber. You can modify the sliders to change the values of $p_x$ and $p_y$ to modify the track of the particle, shown in blue. You can also change the slider labelled t_max, which will change how long the track is. t_max is not a property of the track- it is only used for the visualization."
      ],
      "metadata": {
        "id": "R7mSAJR1WngJ"
      }
    },
    {
      "cell_type": "code",
      "source": [
        "# @title\n",
        "fig = go.FigureWidget()\n",
        "fig.update_layout(xaxis_range=[-60,60], yaxis_range=[-60,60],width=500,height=500,showlegend=False,title=\"Track in the GlueX Detector\",xaxis_title=\"X\", yaxis_title=\"Y\")\n",
        "fig.add_scatter()\n",
        "fig.add_shape(type=\"circle\",\n",
        "    xref=\"x\", yref=\"y\",\n",
        "    x0=-10.5, y0=-10.5, x1=10.5, y1=10.5,\n",
        "    line_color=\"black\")\n",
        "fig.add_shape(type=\"circle\",\n",
        "    xref=\"x\", yref=\"y\",\n",
        "    x0=-55, y0=-55, x1=55, y1=55,\n",
        "    line_color=\"black\")\n",
        "fig.update()\n",
        "def update(charge=1,px=0.2,py=0.2,t_max = np.pi):\n",
        "  global fig\n",
        "  center_x = -1*charge*330*py/B\n",
        "  center_y = charge*330*px/B\n",
        "  t_curve = np.linspace(0,t_max,1000)\n",
        "  r_curvature = (center_x**2 + center_y**2)**0.5\n",
        "  theta_curvature = np.arctan2(-1*center_y,-1*center_x)\n",
        "  x_track = x_coord(r_curvature,theta_curvature,center_x,t_curve, charge)\n",
        "  y_track = y_coord(r_curvature,theta_curvature,center_y,t_curve,charge)\n",
        "  with fig.batch_update():\n",
        "    fig.data[0]['x']=x_track\n",
        "    fig.data[0]['y']=y_track\n",
        "    fig.update_layout(width=500,height=500)\n",
        "  fig.show()\n",
        "interact(update, px=(-1,1,0.0001),py=(-1,1,0.0001),t_max=(0,2*np.pi,0.0001),charge = (-1,1,2))\n",
        "print(\"\")"
      ],
      "metadata": {
        "colab": {
          "base_uri": "https://localhost:8080/",
          "height": 662,
          "referenced_widgets": [
            "c1b707ea90aa4dd0932f63fe9a5726c3",
            "9840747c2f6d4180b95c4e8e5cbc0dd9",
            "882c411272954d73bac6090d53aef6a5",
            "32754266d8e14dd28dd07a4e30df6383",
            "dabd0902751341188157ec309df31116",
            "b8073f0d4d16478a9c67da2ce2fbc4d7",
            "355a5301ba664298a19a0294ac8320c2",
            "95096592a18544e69968aeadff367236",
            "e9d6a3c9ec90425bbfaed4fd5bdc237e",
            "54d139eb381746e186bd009904310010",
            "cae049f661ee4ec688ff89ae47873349",
            "f7ddd5df7862484587c27a1cabcd1ebd",
            "cca28332986548498b613de4ee3fdc51",
            "ccd649984249471aa8ff7a00d1607cc6",
            "9d2ee65360a348678f0f260d4aa186db",
            "5cd16feed88443ce98f6db9f58e4b3a9"
          ]
        },
        "id": "ri1rauPlNpBC",
        "outputId": "f95d9cd8-eac5-4c1c-8565-def7539e3486",
        "cellView": "form"
      },
      "execution_count": 27,
      "outputs": [
        {
          "output_type": "display_data",
          "data": {
            "text/plain": [
              "interactive(children=(IntSlider(value=1, description='charge', max=1, min=-1, step=2), FloatSlider(value=0.2, …"
            ],
            "application/vnd.jupyter.widget-view+json": {
              "version_major": 2,
              "version_minor": 0,
              "model_id": "c1b707ea90aa4dd0932f63fe9a5726c3"
            }
          },
          "metadata": {
            "application/vnd.jupyter.widget-view+json": {
              "colab": {
                "custom_widget_manager": {
                  "url": "https://ssl.gstatic.com/colaboratory-static/widgets/colab-cdn-widget-manager/b3e629b1971e1542/manager.min.js"
                }
              }
            }
          }
        },
        {
          "output_type": "stream",
          "name": "stdout",
          "text": [
            "\n"
          ]
        }
      ]
    },
    {
      "cell_type": "markdown",
      "source": [
        "#### **Question #6a:**\n",
        "---\n",
        "Change the charge of the simulated particle in the plot above. What about the path of the particle changes when you change the charge?"
      ],
      "metadata": {
        "id": "nZhO8QMiQvya"
      }
    },
    {
      "cell_type": "markdown",
      "source": [
        "Double click to edit this cell and answer the following question: What about the path of the particle changes when you change the charge?"
      ],
      "metadata": {
        "id": "zTY0ZQbqhAOA"
      }
    },
    {
      "cell_type": "markdown",
      "source": [
        "#####**Solution:**"
      ],
      "metadata": {
        "id": "pjqbuej9Q1GO"
      }
    },
    {
      "cell_type": "markdown",
      "source": [
        "Positively charged particles curve counterclockwise, while negatively charged particles curve clockwise. This is reflected in the equation for the magnetic force:\n",
        "$$\n",
        "F_{magnetic} = q*v\\times B\n",
        "$$\n",
        "where $q$ is the charge, $v$ is the velocity vector, $B$ is the magnetic field vector, and $F_{magnetic}$ is the force vector. Particles with opposite charges experience forces in opposite directions, which cause them to curve in opposite directions. Note that $\\times$ denotes the cross product, which is an operation between two vectors, not multiplication (which is an operation between two numbers)."
      ],
      "metadata": {
        "id": "SOv7_d_JQ1GP"
      }
    },
    {
      "cell_type": "markdown",
      "source": [
        "#### **Question #6b:**\n",
        "---\n",
        "Based on your answer to the previous question, how can we determine the charge of a particle based on its track?"
      ],
      "metadata": {
        "id": "E08XOn__LQzL"
      }
    },
    {
      "cell_type": "markdown",
      "source": [
        "Double click to edit this cell and answer the following question: How can we determine the charge of a particle based on its track?"
      ],
      "metadata": {
        "id": "IkEJkv2dLQzO"
      }
    },
    {
      "cell_type": "markdown",
      "source": [
        "#####**Solution:**"
      ],
      "metadata": {
        "id": "-dQtQwaeLQzO"
      }
    },
    {
      "cell_type": "markdown",
      "source": [
        "We can determine the charge of a particle based on the direction it curves. If the particle's track curves counterclockwise, we know the particle must be positively charged. If it curves clockwise, we know the particle must be negatively charged. A neutral particle's track would not curve at all, but neutral particles do not leave tracks."
      ],
      "metadata": {
        "id": "GIa49iWGLQzP"
      }
    },
    {
      "cell_type": "markdown",
      "source": [
        "---\n",
        "##**Track Fitting**\n",
        "---\n",
        "\n",
        "Track fitting is the process of figuring out the momentum vector of the particle pased on individual signals in the detector. There are several values that we need to find to adjust to get a good measurement of the momentum. In this section, we will explore how we can obtain 2 components ($p_x$ and $p_y$) of the momentum vector. While it is possible to obtain the z component of the momentum vector as well, that process is far more tedious. Because track fitting is automated, it is likely not worth your time to spend time figuring out how to find $p_z$, the z component of the momentum vector."
      ],
      "metadata": {
        "id": "2OYxaMnJMdWL"
      }
    },
    {
      "cell_type": "markdown",
      "source": [
        "---\n",
        "###**Step 1: Estimating Z Coordinate**\n",
        "---\n",
        "\n",
        "We can find the x coordinate and the y coordinate of a hit based on the ring number and the wire number, but we need to find the z coordinate. The x and y coordinate of the hit also depend on the z coordinate (see question #4).\n",
        "\n",
        "Below, we plotted the x and y coordinates of several hits left by a track in the GlueX CDC. However, you'll notice that the hits don't seem to line up to produce a smooth track. However, when you adjust the z coordinate using the slider, you'll notice that you can update our estimate of the x and y coordinate of the hits in stereo rings (tilted rings). To find the best estimate of the z coordinate of the hits, we can adjust the slider until the points line up to form a smooth path."
      ],
      "metadata": {
        "id": "LeZV2BDSiHK_"
      }
    },
    {
      "cell_type": "code",
      "source": [
        "# @title\n",
        "import warnings\n",
        "warnings.filterwarnings(\"ignore\")\n",
        "i = 4\n",
        "row = track_fitting_events.iloc[i]\n",
        "x = row['r']*np.cos(row['theta'])\n",
        "y = row['r']*np.sin(row['theta'])\n",
        "temp_df = pd.DataFrame()\n",
        "temp_df['x']=row['r']*np.cos(row['theta'])\n",
        "temp_df['y']=row['r']*np.sin(row['theta'])\n",
        "temp_df['ring'] = row['ring']\n",
        "temp_df['wire'] = row['straw']\n",
        "fig = go.FigureWidget(px.scatter(data_frame=temp_df,x='x',y='y',hover_data=['ring','wire']))\n",
        "fig.update_traces(marker={\"size\":3})\n",
        "fig.update_layout(xaxis_range=[-60,60], yaxis_range=[-60,60],width=520,height=500,showlegend=False)\n",
        "fig.add_shape(type=\"circle\",\n",
        "    xref=\"x\", yref=\"y\",\n",
        "    x0=-10.5, y0=-10.5, x1=10.5, y1=10.5,\n",
        "    line_color=\"black\")\n",
        "fig.add_shape(type=\"circle\",\n",
        "    xref=\"x\", yref=\"y\",\n",
        "    x0=-55, y0=-55, x1=55, y1=55,\n",
        "    line_color=\"black\")\n",
        "fig.update()\n",
        "def update(z=0):\n",
        "  global fig\n",
        "  global temp_df\n",
        "  new_x = temp_df['x'].to_numpy()\n",
        "  new_y = temp_df['y'].to_numpy()\n",
        "  for i in range(len(temp_df['ring'])):\n",
        "    hit = temp_df.iloc[i]\n",
        "    if hit['ring'] in [5,6,7,8,9,10,11,12,17,18,19,20,21,22,23,24]:\n",
        "      strawPos = positionsMatrix[int(hit['ring']-1)][int(hit['wire']-1)]\n",
        "      s = z/175\n",
        "      new_x[i]= strawPos[0][0]*s + (1-s)*strawPos[1][0]\n",
        "      new_y[i]= strawPos[0][1]*s + (1-s)*strawPos[1][1]\n",
        "  with fig.batch_update():\n",
        "    fig.update_layout(width=520,height=500)\n",
        "    fig.data[0]['x']=new_x\n",
        "    fig.data[0]['y']=new_y\n",
        "  fig.show()\n",
        "interact(update, px=(-1,1,0.0001),py=(-1,1,0.0001),pz=(-1,1,0.0001),t_max=(0,2*np.pi,0.0001),charge = (-1,1,2),z=(0,150,0.1))\n",
        "print(\"\")"
      ],
      "metadata": {
        "colab": {
          "base_uri": "https://localhost:8080/",
          "height": 566,
          "referenced_widgets": [
            "4b51454d17464318a0b75c9e1cdff425",
            "ea51ad4afd2e4b20849c0d941c09c843",
            "52fdf5df8c4d4ce890926c2c6d53e9ce",
            "538b8a44c62642a795342135b471a108",
            "7a5e53d9352a49dba7e01f1c2db5df93",
            "540d83298e2342e2b920f2aabc30e4d6",
            "4fb3bf10edff46aa8157c8b7e3df76b0"
          ]
        },
        "cellView": "form",
        "id": "IhXkyK3CvxCn",
        "outputId": "def792bc-5348-46e0-cb63-7ec14dce8c41"
      },
      "execution_count": 11,
      "outputs": [
        {
          "output_type": "display_data",
          "data": {
            "text/plain": [
              "interactive(children=(FloatSlider(value=0.0, description='z', max=150.0), Output()), _dom_classes=('widget-int…"
            ],
            "application/vnd.jupyter.widget-view+json": {
              "version_major": 2,
              "version_minor": 0,
              "model_id": "4b51454d17464318a0b75c9e1cdff425"
            }
          },
          "metadata": {
            "application/vnd.jupyter.widget-view+json": {
              "colab": {
                "custom_widget_manager": {
                  "url": "https://ssl.gstatic.com/colaboratory-static/widgets/colab-cdn-widget-manager/b3e629b1971e1542/manager.min.js"
                }
              }
            }
          }
        },
        {
          "output_type": "stream",
          "name": "stdout",
          "text": [
            "\n"
          ]
        }
      ]
    },
    {
      "cell_type": "markdown",
      "source": [
        "For example, the z coordinates for the hits shown above are around 80. Note that these z coordinates are just estimates, so any z coordinate between 75 and 85 should allow you to get a good estimate of the momentum."
      ],
      "metadata": {
        "id": "8G1lD6FXN5dU"
      }
    },
    {
      "cell_type": "markdown",
      "source": [
        "#### **Question #7:**\n",
        "---\n",
        "Every time you run the following cell, it will plot a new collection of hits with different z coordinates. Run the cell below and use the slider to find a good estimate of the z coordinate of the hits. Feel free to run this cell as many times as you need to practice finding the z values of hits in the CDC."
      ],
      "metadata": {
        "id": "5n2wqsBURxgq"
      }
    },
    {
      "cell_type": "code",
      "source": [
        "# @title\n",
        "import warnings\n",
        "warnings.filterwarnings(\"ignore\")\n",
        "i = np.random.randint(0,len(track_fitting_events['ring']))\n",
        "row = track_fitting_events.iloc[i]\n",
        "x = row['r']*np.cos(row['theta'])\n",
        "y = row['r']*np.sin(row['theta'])\n",
        "temp_df = pd.DataFrame()\n",
        "temp_df['x']=row['r']*np.cos(row['theta'])\n",
        "temp_df['y']=row['r']*np.sin(row['theta'])\n",
        "temp_df['ring'] = row['ring']\n",
        "temp_df['wire'] = row['straw']\n",
        "fig = go.FigureWidget(px.scatter(data_frame=temp_df,x='x',y='y',hover_data=['ring','wire']))\n",
        "fig.update_traces(marker={\"size\":3})\n",
        "fig.update_layout(xaxis_range=[-60,60], yaxis_range=[-60,60],width=520,height=500,showlegend=False)\n",
        "fig.add_shape(type=\"circle\",\n",
        "    xref=\"x\", yref=\"y\",\n",
        "    x0=-10.5, y0=-10.5, x1=10.5, y1=10.5,\n",
        "    line_color=\"black\")\n",
        "fig.add_shape(type=\"circle\",\n",
        "    xref=\"x\", yref=\"y\",\n",
        "    x0=-55, y0=-55, x1=55, y1=55,\n",
        "    line_color=\"black\")\n",
        "fig.update()\n",
        "def update(z=0):\n",
        "  global fig\n",
        "  global temp_df\n",
        "  new_x = temp_df['x'].to_numpy()\n",
        "  new_y = temp_df['y'].to_numpy()\n",
        "  for i in range(len(temp_df['ring'])):\n",
        "    hit = temp_df.iloc[i]\n",
        "    if hit['ring'] in [5,6,7,8,9,10,11,12,17,18,19,20,21,22,23,24]:\n",
        "      strawPos = positionsMatrix[int(hit['ring']-1)][int(hit['wire']-1)]\n",
        "      s = z/175\n",
        "      new_x[i]= strawPos[0][0]*s + (1-s)*strawPos[1][0]\n",
        "      new_y[i]= strawPos[0][1]*s + (1-s)*strawPos[1][1]\n",
        "  with fig.batch_update():\n",
        "    fig.update_layout(width=520,height=500)\n",
        "    fig.data[0]['x']=new_x\n",
        "    fig.data[0]['y']=new_y\n",
        "  fig.show()\n",
        "interact(update, px=(-1,1,0.0001),py=(-1,1,0.0001),pz=(-1,1,0.0001),t_max=(0,2*np.pi,0.0001),charge = (-1,1,2),z=(0,150,0.1))\n",
        "print(\"\")"
      ],
      "metadata": {
        "colab": {
          "base_uri": "https://localhost:8080/",
          "height": 566,
          "referenced_widgets": [
            "a0a45d630f3e4c2686e56349ff0aefbe",
            "fcbb307736f84782ad88e7e4230a7f06",
            "de5b9d22ca0e44dd8be5758afbe640b4",
            "6b268dcb94514995b12b09ec26455c87",
            "d2b18ef901de480691066c256f028385",
            "09b7985034a846c1bb42e8b8f3a7982b",
            "2e31ce05d24f4b0da4b51bbe56a92218"
          ]
        },
        "cellView": "form",
        "outputId": "e9c728da-f9c6-4877-b172-3eaa512edae6",
        "id": "hsY1rH18PdHs"
      },
      "execution_count": 50,
      "outputs": [
        {
          "output_type": "display_data",
          "data": {
            "text/plain": [
              "interactive(children=(FloatSlider(value=0.0, description='z', max=150.0), Output()), _dom_classes=('widget-int…"
            ],
            "application/vnd.jupyter.widget-view+json": {
              "version_major": 2,
              "version_minor": 0,
              "model_id": "a0a45d630f3e4c2686e56349ff0aefbe"
            }
          },
          "metadata": {
            "application/vnd.jupyter.widget-view+json": {
              "colab": {
                "custom_widget_manager": {
                  "url": "https://ssl.gstatic.com/colaboratory-static/widgets/colab-cdn-widget-manager/b3e629b1971e1542/manager.min.js"
                }
              }
            }
          }
        },
        {
          "output_type": "stream",
          "name": "stdout",
          "text": [
            "\n"
          ]
        }
      ]
    },
    {
      "cell_type": "markdown",
      "source": [
        "#####**Solution:**"
      ],
      "metadata": {
        "id": "qV6c3E6tP4y1"
      }
    },
    {
      "cell_type": "markdown",
      "source": [
        "Run the cell below to calculate the z coordinate for the hits shown above. Note that your value may be more accurate than the value produced by the following cell if there are multiple tracks (you can tell if there are multiple track if there are two different paths traced out by the hits). Things like this are easier for you to see than a computer to see!"
      ],
      "metadata": {
        "id": "E8fZnPTjP4y1"
      }
    },
    {
      "cell_type": "code",
      "source": [
        "# @title\n",
        "def updated_coordinates(z):\n",
        "  global temp_df\n",
        "  global positionsMatrix\n",
        "  new_x = temp_df['x'].to_numpy()\n",
        "  new_y = temp_df['y'].to_numpy()\n",
        "  for i in range(len(temp_df['ring'])):\n",
        "    hit = temp_df.iloc[i]\n",
        "    if hit['ring'] in [5,6,7,8,9,10,11,12,17,18,19,20,21,22,23,24]:\n",
        "      strawPos = positionsMatrix[int(hit['ring']-1)][int(hit['wire']-1)]\n",
        "      s = z/175\n",
        "      new_x[i]= strawPos[0][0]*s + (1-s)*strawPos[1][0]\n",
        "      new_y[i]= strawPos[0][1]*s + (1-s)*strawPos[1][1]\n",
        "  return new_x, new_y\n",
        "\n",
        "def parametric_curve(t):\n",
        "  global row\n",
        "  global B\n",
        "  center_x = -1*330*row['py']/B\n",
        "  center_y = 330*row['px']/B\n",
        "  r_curvature = (center_x**2 + center_y**2)**0.5\n",
        "  theta_curvature = np.arctan2(-1*center_y,-1*center_x)\n",
        "  x_track = x_coord(r_curvature,theta_curvature,center_x,t, 1)\n",
        "  y_track = y_coord(r_curvature,theta_curvature,center_y,t,1)\n",
        "  return x_track, y_track\n",
        "def distance(point1, point2):\n",
        "    return np.sqrt((point1[0] - point2[0])**2 + (point1[1] - point2[1])**2)\n",
        "\n",
        "def distance_to_curve(x,y):\n",
        "  curve = parametric_curve(np.linspace(0,6.28,100))\n",
        "  distance_to_nearest_curve_point = min([((x-curve[0][j])**2 + (y-curve[1][j])**2)**0.5 for j in range(100)])\n",
        "  return distance_to_nearest_curve_point\n",
        "\n",
        "def calculate_rmse(x_points, y_points):\n",
        "    mse = sum([distance_to_curve(x_points[j],y_points[j])**2 for j in range(len(x_points))])/len(x_points)\n",
        "    rmse = mse/len(x_points)\n",
        "    return rmse\n",
        "rmses = {}\n",
        "for z in np.linspace(0,150,151):\n",
        "  new_x, new_y = updated_coordinates(z)\n",
        "  rmses[z] = calculate_rmse(new_x,new_y)\n",
        "print(\"True z value is about \" + str(min(rmses, key=rmses.get)))"
      ],
      "metadata": {
        "colab": {
          "base_uri": "https://localhost:8080/"
        },
        "cellView": "form",
        "id": "XTA7woglRDLv",
        "outputId": "e6317f7e-a13d-4fb0-da94-2d3bfa169e2b"
      },
      "execution_count": 51,
      "outputs": [
        {
          "output_type": "stream",
          "name": "stdout",
          "text": [
            "True z value is about 48.0\n"
          ]
        }
      ]
    },
    {
      "cell_type": "markdown",
      "source": [
        "---\n",
        "###**Step 2: Finding Track Momentum and Charge**\n",
        "---\n",
        "\n",
        "After our hits are lined up, we can fit the hits to a curve, which we calculate based on $p_x$ and $p_y$. Also, based on the direction of the curvature, we can find the charge of the particle as well.\n",
        "\n",
        "The cell below creates an interactive plot with sliders for every property of the track. First, use the slider below to adjust the z value until the track hits are lined up. Then, based on the direction the track curves, determine the charge of the particle. Finally, use the sliders to adjust $p_x$ and $p_y$ until the fitted track (the red line) passes through as many hit points as possible. Remember that you can use the t_max slider to increase or decrease the length of the track if necessary."
      ],
      "metadata": {
        "id": "G8jDPEgDZL3v"
      }
    },
    {
      "cell_type": "code",
      "source": [
        "# @title\n",
        "import warnings\n",
        "warnings.filterwarnings(\"ignore\")\n",
        "i = 10432\n",
        "row = track_fitting_events.iloc[i]\n",
        "x = row['r']*np.cos(row['theta'])\n",
        "y = row['r']*np.sin(row['theta'])\n",
        "temp_df = pd.DataFrame()\n",
        "temp_df['x']=row['r']*np.cos(row['theta'])\n",
        "temp_df['y']=row['r']*np.sin(row['theta'])\n",
        "temp_df['ring'] = row['ring']\n",
        "temp_df['wire'] = row['straw']\n",
        "fig = go.FigureWidget(px.scatter(data_frame=temp_df,x='x',y='y',hover_data=['ring','wire']))\n",
        "fig.update_traces(marker={\"size\":3})\n",
        "fig.update_layout(xaxis_range=[-60,60], yaxis_range=[-60,60],width=510,height=500,showlegend=False)\n",
        "fig.add_scatter()\n",
        "fig.add_shape(type=\"circle\",\n",
        "    xref=\"x\", yref=\"y\",\n",
        "    x0=-16, y0=-16, x1=16, y1=16,\n",
        "    line_color=\"black\")\n",
        "fig.add_shape(type=\"circle\",\n",
        "    xref=\"x\", yref=\"y\",\n",
        "    x0=-58, y0=-58, x1=58, y1=58,\n",
        "    line_color=\"black\")\n",
        "fig.update()\n",
        "def update(charge=1,px=0,py=0,t_max = np.pi,z=75):\n",
        "  global fig\n",
        "  global temp_df\n",
        "  m=0.000511\n",
        "  new_x = temp_df['x'].to_numpy()\n",
        "  new_y = temp_df['y'].to_numpy()\n",
        "  for i in range(len(temp_df['ring'])):\n",
        "    hit = temp_df.iloc[i]\n",
        "    if hit['ring'] in [5,6,7,8,9,10,11,12,17,18,19,20,21,22,23,24]:\n",
        "      strawPos = positionsMatrix[int(hit['ring']-1)][int(hit['wire']-1)]\n",
        "      s = z/175\n",
        "      new_x[i]= strawPos[0][0]*s + (1-s)*strawPos[1][0]\n",
        "      new_y[i]= strawPos[0][1]*s + (1-s)*strawPos[1][1]\n",
        "  center_x = -1*charge*330*py/B\n",
        "  center_y = charge*330*px/B\n",
        "  t_curve = np.linspace(0,t_max,1000)\n",
        "  r_curvature = (center_x**2 + center_y**2)**0.5\n",
        "  theta_curvature = np.arctan2(-1*center_y,-1*center_x)\n",
        "  x_track = x_coord(r_curvature,theta_curvature,center_x,t_curve, charge)\n",
        "  y_track = y_coord(r_curvature,theta_curvature,center_y,t_curve,charge)\n",
        "  with fig.batch_update():\n",
        "    fig.data[1]['x']=x_track\n",
        "    fig.data[1]['y']=y_track\n",
        "    fig.update_layout(width=510,height=500,showlegend=False)\n",
        "    fig.data[0]['x']=new_x\n",
        "    fig.data[0]['y']=new_y\n",
        "  fig.show()\n",
        "interact(update, px=(-1,1,0.0001),py=(-1,1,0.0001),t_max=(0,2*np.pi,0.0001),charge = (-1,1,2),z=(0,150,0.1))\n",
        "print(\"\")"
      ],
      "metadata": {
        "colab": {
          "base_uri": "https://localhost:8080/",
          "height": 694,
          "referenced_widgets": [
            "9226f9afe7b043bb9b836112b4fff704",
            "a5926dffa5c04515acab084a4db20dd2",
            "617ab59d78764b82a697d3d490544456",
            "3720c789aef44d5aa797ac1e746f3603",
            "37058390c07d4a378fda4ad0ebfd73c2",
            "4cc50e7f78094a1597ce62d7178ff7d6",
            "153b35caccd24dc0a9836ae4cd0b1b5d",
            "ae99c64c83e243b1bb5ded30b3c1ecb8",
            "c6a7874f0b4141d58b34a3164026c94a",
            "14f242f422de4bea8e74315c13aa2112",
            "5496c9360cc440fe8ad4b2e0f567a94d",
            "02f73a688c5f457d836e5acb09eb0eea",
            "09904e71c510451bbfb2429963d4b845",
            "efbb753b2e624e04ba452b0d1fdc0375",
            "fc3ab6cace05499cb871a84812a020b4",
            "7cbc35953a24422692ad42baa709b2c7",
            "d52b6536c01d455188962ff8019db45b",
            "15ae0ade9b624b169be61cc17a8ed90d",
            "abbb212e20d747b68db1c1e55d9842c9"
          ]
        },
        "id": "5Ca9cx06a8yk",
        "outputId": "156074ef-4c73-4899-a910-4f18a53f47c2",
        "cellView": "form"
      },
      "execution_count": 88,
      "outputs": [
        {
          "output_type": "display_data",
          "data": {
            "text/plain": [
              "interactive(children=(IntSlider(value=1, description='charge', max=1, min=-1, step=2), FloatSlider(value=0.0, …"
            ],
            "application/vnd.jupyter.widget-view+json": {
              "version_major": 2,
              "version_minor": 0,
              "model_id": "9226f9afe7b043bb9b836112b4fff704"
            }
          },
          "metadata": {
            "application/vnd.jupyter.widget-view+json": {
              "colab": {
                "custom_widget_manager": {
                  "url": "https://ssl.gstatic.com/colaboratory-static/widgets/colab-cdn-widget-manager/b3e629b1971e1542/manager.min.js"
                }
              }
            }
          }
        },
        {
          "output_type": "stream",
          "name": "stdout",
          "text": [
            "\n"
          ]
        }
      ]
    },
    {
      "cell_type": "markdown",
      "source": [
        "In this case, we find that the z coordinate of the hits is $z=37$, the x component of the momentum is $p_x=0.08$, the y component of the momentum is $p_y=0.09$, and the charge is +1. Note that we needed to turn t_max all the way up to see the full track. With this, congratulations! You have just fit your first track in GlueX's CDC!"
      ],
      "metadata": {
        "id": "-EqdYA-SdlDo"
      }
    },
    {
      "cell_type": "markdown",
      "source": [
        "#### **Question #8:**\n",
        "---\n",
        "Every time you run the following cell, it will plot a new collection of hits with different z coordinates for track with random momenta. Run the cell below and use the slider to find a good estimate of the z coordinate of the hits, the x component of momentum, the y component of the momentum, and the charge. Feel free to run this cell as many times as you need to practice fitting tracks in the CDC."
      ],
      "metadata": {
        "id": "UREJhI9qalbL"
      }
    },
    {
      "cell_type": "code",
      "source": [
        "# @title\n",
        "import warnings\n",
        "warnings.filterwarnings(\"ignore\")\n",
        "i = np.random.randint(0,len(track_fitting_events['ring']))\n",
        "row = track_fitting_events.iloc[i]\n",
        "x = row['r']*np.cos(row['theta'])\n",
        "y = row['r']*np.sin(row['theta'])\n",
        "temp_df = pd.DataFrame()\n",
        "temp_df['x']=row['r']*np.cos(row['theta'])\n",
        "temp_df['y']=row['r']*np.sin(row['theta'])\n",
        "temp_df['ring'] = row['ring']\n",
        "temp_df['wire'] = row['straw']\n",
        "fig = go.FigureWidget(px.scatter(data_frame=temp_df,x='x',y='y',hover_data=['ring','wire']))\n",
        "fig.update_layout(xaxis_range=[-60,60], yaxis_range=[-60,60],width=510,height=500,showlegend=False)\n",
        "fig.add_scatter()\n",
        "fig.add_shape(type=\"circle\",\n",
        "    xref=\"x\", yref=\"y\",\n",
        "    x0=-16, y0=-16, x1=16, y1=16,\n",
        "    line_color=\"black\")\n",
        "fig.add_shape(type=\"circle\",\n",
        "    xref=\"x\", yref=\"y\",\n",
        "    x0=-58, y0=-58, x1=58, y1=58,\n",
        "    line_color=\"black\")\n",
        "fig.update()\n",
        "def update(charge=1,px=0,py=0,t_max = np.pi,z=75):\n",
        "  global fig\n",
        "  global temp_df\n",
        "  m=0.000511\n",
        "  new_x = temp_df['x'].to_numpy()\n",
        "  new_y = temp_df['y'].to_numpy()\n",
        "  for i in range(len(temp_df['ring'])):\n",
        "    hit = temp_df.iloc[i]\n",
        "    if hit['ring'] in [5,6,7,8,9,10,11,12,17,18,19,20,21,22,23,24]:\n",
        "      strawPos = positionsMatrix[int(hit['ring']-1)][int(hit['wire']-1)]\n",
        "      s = z/175\n",
        "      new_x[i]= strawPos[0][0]*s + (1-s)*strawPos[1][0]\n",
        "      new_y[i]= strawPos[0][1]*s + (1-s)*strawPos[1][1]\n",
        "  center_x = -1*charge*330*py/B\n",
        "  center_y = charge*330*px/B\n",
        "  t_curve = np.linspace(0,t_max,1000)\n",
        "  r_curvature = (center_x**2 + center_y**2)**0.5\n",
        "  theta_curvature = np.arctan2(-1*center_y,-1*center_x)\n",
        "  x_track = x_coord(r_curvature,theta_curvature,center_x,t_curve, charge)\n",
        "  y_track = y_coord(r_curvature,theta_curvature,center_y,t_curve,charge)\n",
        "  with fig.batch_update():\n",
        "    fig.data[1]['x']=x_track\n",
        "    fig.data[1]['y']=y_track\n",
        "    fig.update_layout(width=510,height=500,showlegend=False)\n",
        "    fig.data[0]['x']=new_x\n",
        "    fig.data[0]['y']=new_y\n",
        "  fig.show()\n",
        "interact(update, px=(-1,1,0.0001),py=(-1,1,0.0001),t_max=(0,2*np.pi,0.0001),charge = (-1,1,2),z=(0,150,0.1))\n",
        "print(\"\")"
      ],
      "metadata": {
        "cellView": "form",
        "id": "La9N7PRMcho_"
      },
      "execution_count": null,
      "outputs": []
    },
    {
      "cell_type": "markdown",
      "source": [
        "#####**Solution:**"
      ],
      "metadata": {
        "id": "MplKFBOMalbb"
      }
    },
    {
      "cell_type": "markdown",
      "source": [
        "Run the cell below to see the true z coordinate, momentum, and charge of the particle that left the hits shown above. Note that your values may be more accurate than the value produced by the following cell if there are multiple tracks (you can tell if there are multiple track if there are two different paths traced out by the hits). Things like this are easier for you to see than a computer to see!"
      ],
      "metadata": {
        "id": "3l2E6qYufCxa"
      }
    },
    {
      "cell_type": "code",
      "source": [
        "# @title\n",
        "def updated_coordinates(z):\n",
        "  global temp_df\n",
        "  global positionsMatrix\n",
        "  new_x = temp_df['x'].to_numpy()\n",
        "  new_y = temp_df['y'].to_numpy()\n",
        "  for i in range(len(temp_df['ring'])):\n",
        "    hit = temp_df.iloc[i]\n",
        "    if hit['ring'] in [5,6,7,8,9,10,11,12,17,18,19,20,21,22,23,24]:\n",
        "      strawPos = positionsMatrix[int(hit['ring']-1)][int(hit['wire']-1)]\n",
        "      s = z/175\n",
        "      new_x[i]= strawPos[0][0]*s + (1-s)*strawPos[1][0]\n",
        "      new_y[i]= strawPos[0][1]*s + (1-s)*strawPos[1][1]\n",
        "  return new_x, new_y\n",
        "\n",
        "def parametric_curve(t):\n",
        "  global row\n",
        "  global B\n",
        "  center_x = -1*330*row['py']/B\n",
        "  center_y = 330*row['px']/B\n",
        "  r_curvature = (center_x**2 + center_y**2)**0.5\n",
        "  theta_curvature = np.arctan2(-1*center_y,-1*center_x)\n",
        "  x_track = x_coord(r_curvature,theta_curvature,center_x,t, 1)\n",
        "  y_track = y_coord(r_curvature,theta_curvature,center_y,t,1)\n",
        "  return x_track, y_track\n",
        "def distance(point1, point2):\n",
        "    return np.sqrt((point1[0] - point2[0])**2 + (point1[1] - point2[1])**2)\n",
        "\n",
        "def distance_to_curve(x,y):\n",
        "  curve = parametric_curve(np.linspace(0,6.28,100))\n",
        "  distance_to_nearest_curve_point = min([((x-curve[0][j])**2 + (y-curve[1][j])**2)**0.5 for j in range(100)])\n",
        "  return distance_to_nearest_curve_point\n",
        "\n",
        "def calculate_rmse(x_points, y_points):\n",
        "    mse = sum([distance_to_curve(x_points[j],y_points[j])**2 for j in range(len(x_points))])/len(x_points)\n",
        "    rmse = mse/len(x_points)\n",
        "    return rmse\n",
        "rmses = {}\n",
        "for z in np.linspace(0,150,151):\n",
        "  new_x, new_y = updated_coordinates(z)\n",
        "  rmses[z] = calculate_rmse(new_x,new_y)\n",
        "print('The true px value is: ' + str(row['px']) + \" GeV/c\")\n",
        "print('The true py value is: ' + str(row['py']) + \" GeV/c\")\n",
        "print(\"The true z value is about \" + str(min(rmses, key=rmses.get)))\n",
        "print(\"The charge of the particle is 1\")"
      ],
      "metadata": {
        "colab": {
          "base_uri": "https://localhost:8080/"
        },
        "id": "AiqEhV57HP-c",
        "outputId": "c3387a42-1acc-4383-cb85-78adc8e46ab4",
        "cellView": "form"
      },
      "execution_count": 85,
      "outputs": [
        {
          "output_type": "stream",
          "name": "stdout",
          "text": [
            "The true px value is: 0.07811249047517776 GeV/c\n",
            "The true py value is: 0.08721448481082916 GeV/c\n",
            "The true z value is about 37.0\n",
            "The charge of the particle is -1\n"
          ]
        }
      ]
    }
  ]
}