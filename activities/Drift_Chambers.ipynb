{
  "nbformat": 4,
  "nbformat_minor": 0,
  "metadata": {
    "colab": {
      "provenance": [],
      "collapsed_sections": [
        "Nw2lfeLNQXVm",
        "9iwBnEgGQeBD",
        "9lVBhsmTUZ4D",
        "O3Op721ZUZ4W",
        "Q3MD_YFeqzeE",
        "tyyYO4kLqzeG",
        "RIR54FwWrSg3",
        "TOaC6UORrShV",
        "Gbyz0nBDhQLU",
        "0ukTcNNnhQLp",
        "nZhO8QMiQvya",
        "pjqbuej9Q1GO",
        "E08XOn__LQzL",
        "-dQtQwaeLQzO",
        "5n2wqsBURxgq",
        "qV6c3E6tP4y1",
        "UREJhI9qalbL",
        "MplKFBOMalbb",
        "MygdGYcDSh-n",
        "J6lXGMwUSh-z",
        "NT2iD52Lv4-8",
        "3DChbK-bv4-9"
      ],
      "authorship_tag": "ABX9TyPfnGZeUzAFQoMYjEd79lS7",
      "include_colab_link": true
    },
    "kernelspec": {
      "name": "python3",
      "display_name": "Python 3"
    },
    "language_info": {
      "name": "python"
    },
    "widgets": {
      "application/vnd.jupyter.widget-state+json": {
        "4360358b04d347fbae2e47bbac94034a": {
          "model_module": "@jupyter-widgets/controls",
          "model_name": "VBoxModel",
          "model_module_version": "1.5.0",
          "state": {
            "_dom_classes": [],
            "_model_module": "@jupyter-widgets/controls",
            "_model_module_version": "1.5.0",
            "_model_name": "VBoxModel",
            "_view_count": null,
            "_view_module": "@jupyter-widgets/controls",
            "_view_module_version": "1.5.0",
            "_view_name": "VBoxView",
            "box_style": "",
            "children": [
              "IPY_MODEL_acbb87fe29df4d1a892fb1ebc7240378",
              "IPY_MODEL_40338e9ddd7e419293d64c1468442045"
            ],
            "layout": "IPY_MODEL_26e72aefe2014504ad57879574bf0fd1"
          }
        },
        "acbb87fe29df4d1a892fb1ebc7240378": {
          "model_module": "@jupyter-widgets/controls",
          "model_name": "HBoxModel",
          "model_module_version": "1.5.0",
          "state": {
            "_dom_classes": [],
            "_model_module": "@jupyter-widgets/controls",
            "_model_module_version": "1.5.0",
            "_model_name": "HBoxModel",
            "_view_count": null,
            "_view_module": "@jupyter-widgets/controls",
            "_view_module_version": "1.5.0",
            "_view_name": "HBoxView",
            "box_style": "",
            "children": [
              "IPY_MODEL_f4cf5db1934344cb966acc0057fef880"
            ],
            "layout": "IPY_MODEL_788faf3eed864381b537db5938ea39ef"
          }
        },
        "40338e9ddd7e419293d64c1468442045": {
          "model_module": "@jupyter-widgets/output",
          "model_name": "OutputModel",
          "model_module_version": "1.0.0",
          "state": {
            "_dom_classes": [],
            "_model_module": "@jupyter-widgets/output",
            "_model_module_version": "1.0.0",
            "_model_name": "OutputModel",
            "_view_count": null,
            "_view_module": "@jupyter-widgets/output",
            "_view_module_version": "1.0.0",
            "_view_name": "OutputView",
            "layout": "IPY_MODEL_defd27745200454899aa0460880d6ff9",
            "msg_id": "",
            "outputs": [
              {
                "output_type": "display_data",
                "data": {
                  "text/html": "<html>\n<head><meta charset=\"utf-8\" /></head>\n<body>\n    <div>            <script src=\"https://cdnjs.cloudflare.com/ajax/libs/mathjax/2.7.5/MathJax.js?config=TeX-AMS-MML_SVG\"></script><script type=\"text/javascript\">if (window.MathJax && window.MathJax.Hub && window.MathJax.Hub.Config) {window.MathJax.Hub.Config({SVG: {font: \"STIX-Web\"}});}</script>                <script type=\"text/javascript\">window.PlotlyConfig = {MathJaxConfig: 'local'};</script>\n        <script charset=\"utf-8\" src=\"https://cdn.plot.ly/plotly-2.24.1.min.js\"></script>                <div id=\"428290e5-7157-4bdc-812a-209a6bb24252\" class=\"plotly-graph-div\" style=\"height:500px; width:500px;\"></div>            <script type=\"text/javascript\">                                    window.PLOTLYENV=window.PLOTLYENV || {};                                    if (document.getElementById(\"428290e5-7157-4bdc-812a-209a6bb24252\")) {                    Plotly.newPlot(                        \"428290e5-7157-4bdc-812a-209a6bb24252\",                        [{\"hoverinfo\":\"text\",\"marker\":{\"size\":3},\"mode\":\"markers\",\"name\":\"Ring 4\",\"text\":[\"Ring: 4\\n Wire: 0\",\"Ring: 4\\n Wire: 1\",\"Ring: 4\\n Wire: 2\",\"Ring: 4\\n Wire: 3\",\"Ring: 4\\n Wire: 4\",\"Ring: 4\\n Wire: 5\",\"Ring: 4\\n Wire: 6\",\"Ring: 4\\n Wire: 7\",\"Ring: 4\\n Wire: 8\",\"Ring: 4\\n Wire: 9\",\"Ring: 4\\n Wire: 10\",\"Ring: 4\\n Wire: 11\",\"Ring: 4\\n Wire: 12\",\"Ring: 4\\n Wire: 13\",\"Ring: 4\\n Wire: 14\",\"Ring: 4\\n Wire: 15\",\"Ring: 4\\n Wire: 16\",\"Ring: 4\\n Wire: 17\",\"Ring: 4\\n Wire: 18\",\"Ring: 4\\n Wire: 19\",\"Ring: 4\\n Wire: 20\",\"Ring: 4\\n Wire: 21\",\"Ring: 4\\n Wire: 22\",\"Ring: 4\\n Wire: 23\",\"Ring: 4\\n Wire: 24\",\"Ring: 4\\n Wire: 25\",\"Ring: 4\\n Wire: 26\",\"Ring: 4\\n Wire: 27\",\"Ring: 4\\n Wire: 28\",\"Ring: 4\\n Wire: 29\",\"Ring: 4\\n Wire: 30\",\"Ring: 4\\n Wire: 31\",\"Ring: 4\\n Wire: 32\",\"Ring: 4\\n Wire: 33\",\"Ring: 4\\n Wire: 34\",\"Ring: 4\\n Wire: 35\",\"Ring: 4\\n Wire: 36\",\"Ring: 4\\n Wire: 37\",\"Ring: 4\\n Wire: 38\",\"Ring: 4\\n Wire: 39\",\"Ring: 4\\n Wire: 40\",\"Ring: 4\\n Wire: 41\",\"Ring: 4\\n Wire: 42\",\"Ring: 4\\n Wire: 43\",\"Ring: 4\\n Wire: 44\",\"Ring: 4\\n Wire: 45\",\"Ring: 4\\n Wire: 46\",\"Ring: 4\\n Wire: 47\",\"Ring: 4\\n Wire: 48\",\"Ring: 4\\n Wire: 49\",\"Ring: 4\\n Wire: 50\",\"Ring: 4\\n Wire: 51\",\"Ring: 4\\n Wire: 52\",\"Ring: 4\\n Wire: 53\"],\"type\":\"scatter\",\"uid\":\"c81f1ea5-57ed-41f0-958d-850178f17ed7\",\"x\":[15.074704446570042,14.803810517179931,14.332720444243652,13.667804912913876,12.818055765189772,11.79496440067813,10.612366375125411,9.286254298259108,7.834561561174073,6.276919817979971,4.634393501354607,2.9291949622247797,1.184384085821943,-0.5764435537098088,-2.329475782979397,-4.051005848147691,-5.717753008107831,-7.307177366574106,-8.797784685515436,-10.169417057854623,-11.403525508583733,-12.483420837833108,-13.394499313671819,-14.124440162531515,-14.663372186534538,-15.004007254512652,-15.141738861479407,-15.074704423708326,-14.80381046698282,-14.332720367389975,-13.667804810442947,-12.818055638487337,-11.794964251457616,-10.612366205404774,-9.286254110333529,-7.8345613575849145,-6.276919601480431,-4.63439327487248,-2.929194728822835,-1.1843838486565537,0.5764437914313999,2.3294760180423997,4.0510060773732945,5.71775322839614,7.307177574946111,8.797784879153252,10.16941723413964,11.40352566513199,12.483420972527567,13.39449942469096,14.124440248374002,14.663372246039497,15.004007286875376,15.14173886626225],\"y\":[1.4554218936656849,3.1956472288775637,4.892656916968531,6.523501812870699,8.066127536834834,9.499672722085515,10.80475112902225,11.963713810855902,12.960887785339926,13.782787984970613,14.41829961939348,14.858828483877085,15.098417181189944,15.13382568517909,14.964575156566006,14.592954418426489,14.023989003784688,13.265373193899487,12.327365966308863,11.222652259756398,9.966171432153882,8.574915231391746,7.067698011095638,5.4649022987668046,3.788203157060782,2.060275065745273,0.3044852882559333,-1.4554221304585924,-3.195647461415279,-4.892657142106381,-6.523502027564079,-8.066127738180384,-9.499672907360384,-10.80475129572091,-11.963713956724044,-12.960887908404935,-13.782788083568242,-14.418299692190363,-14.858828529888772,-15.098417199794206,-15.133825676124335,-14.964575119974684,-14.592954354793434,-14.023988913970427,-13.265373079118607,-12.327365828113582,-11.222652100015559,-9.966171253027715,-8.574915035302618,-7.067697800695328,-5.4649020769006045,-3.7882029267290633,-2.060274830062865,-0.304485050410049]},{\"hoverinfo\":\"text\",\"marker\":{\"size\":3},\"mode\":\"markers\",\"name\":\"Ring 5\",\"text\":[\"Ring: 5\\n Wire: 0\",\"Ring: 5\\n Wire: 1\",\"Ring: 5\\n Wire: 2\",\"Ring: 5\\n Wire: 3\",\"Ring: 5\\n Wire: 4\",\"Ring: 5\\n Wire: 5\",\"Ring: 5\\n Wire: 6\",\"Ring: 5\\n Wire: 7\",\"Ring: 5\\n Wire: 8\",\"Ring: 5\\n Wire: 9\",\"Ring: 5\\n Wire: 10\",\"Ring: 5\\n Wire: 11\",\"Ring: 5\\n Wire: 12\",\"Ring: 5\\n Wire: 13\",\"Ring: 5\\n Wire: 14\",\"Ring: 5\\n Wire: 15\",\"Ring: 5\\n Wire: 16\",\"Ring: 5\\n Wire: 17\",\"Ring: 5\\n Wire: 18\",\"Ring: 5\\n Wire: 19\",\"Ring: 5\\n Wire: 20\",\"Ring: 5\\n Wire: 21\",\"Ring: 5\\n Wire: 22\",\"Ring: 5\\n Wire: 23\",\"Ring: 5\\n Wire: 24\",\"Ring: 5\\n Wire: 25\",\"Ring: 5\\n Wire: 26\",\"Ring: 5\\n Wire: 27\",\"Ring: 5\\n Wire: 28\",\"Ring: 5\\n Wire: 29\",\"Ring: 5\\n Wire: 30\",\"Ring: 5\\n Wire: 31\",\"Ring: 5\\n Wire: 32\",\"Ring: 5\\n Wire: 33\",\"Ring: 5\\n Wire: 34\",\"Ring: 5\\n Wire: 35\",\"Ring: 5\\n Wire: 36\",\"Ring: 5\\n Wire: 37\",\"Ring: 5\\n Wire: 38\",\"Ring: 5\\n Wire: 39\",\"Ring: 5\\n Wire: 40\",\"Ring: 5\\n Wire: 41\",\"Ring: 5\\n Wire: 42\",\"Ring: 5\\n Wire: 43\",\"Ring: 5\\n Wire: 44\",\"Ring: 5\\n Wire: 45\",\"Ring: 5\\n Wire: 46\",\"Ring: 5\\n Wire: 47\",\"Ring: 5\\n Wire: 48\",\"Ring: 5\\n Wire: 49\",\"Ring: 5\\n Wire: 50\",\"Ring: 5\\n Wire: 51\",\"Ring: 5\\n Wire: 52\",\"Ring: 5\\n Wire: 53\",\"Ring: 5\\n Wire: 54\",\"Ring: 5\\n Wire: 55\",\"Ring: 5\\n Wire: 56\",\"Ring: 5\\n Wire: 57\",\"Ring: 5\\n Wire: 58\",\"Ring: 5\\n Wire: 59\",\"Ring: 5\\n Wire: 60\",\"Ring: 5\\n Wire: 61\",\"Ring: 5\\n Wire: 62\",\"Ring: 5\\n Wire: 63\",\"Ring: 5\\n Wire: 64\",\"Ring: 5\\n Wire: 65\"],\"type\":\"scatter\",\"uid\":\"0615923c-4c0d-4e71-905e-7aea7246b0f0\",\"x\":[14.443430132419909,15.279115066637704,15.976429968782528,16.529059847118674,16.931999999891076,17.181601338679403,17.27560343510786,17.213154991634617,16.99482155103413,16.622580374754264,16.09980253653037,15.431222393419564,14.622894710730044,13.682139829128896,12.617477370503387,11.438549082945892,10.156031523590096,8.78153937005628,7.3275202361322265,5.807141944255177,4.234173275672779,2.6228592782279336,0.9877922609996541,-0.6562203559076591,-2.2942901396536364,-3.9115824766152927,-5.493450916945183,-7.025569815089307,-8.494064065051582,-9.885634755502391,-11.18767960677895,-12.38840709908148,-13.476943258302434,-14.443430132419913,-15.279115066637704,-15.97642996878253,-16.529059847118674,-16.931999999891076,-17.181601338679403,-17.275603435107865,-17.213154991634614,-16.994821551034132,-16.622580374754264,-16.09980253653037,-15.431222393419565,-14.622894710730044,-13.682139829128893,-12.61747737050339,-11.43854908294589,-10.156031523590102,-8.781539370056278,-7.327520236132228,-5.807141944255184,-4.234173275672777,-2.6228592782279407,-0.9877922609996639,0.6562203559076574,2.2942901396536257,3.9115824766152896,5.49345091694518,7.0255698150892965,8.494064065051578,9.885634755502384,11.187679606778957,12.38840709908148,13.476943258302429],\"y\":[-9.479522530557343,-8.063663198440548,-6.574778083709536,-5.026350760522879,-3.4324040264992566,-1.8073729100907459,-0.1659739447298323,1.4769281063762536,3.1064548678430226,4.707849092980169,6.266608307702816,7.768616147182609,9.200270195833546,10.548605172893927,11.801410348016661,12.947340123534154,13.976016781947706,14.878124468144204,15.645493555222618,16.271174629900326,16.749501427475927,17.07614214639985,17.248138677739956,17.26393339427409,17.123383256603464,16.82776110853954,16.379744150033414,15.783389692038455,15.044098412874039,14.168565448846364,13.164719762057306,12.041652334495765,10.809533838697037,9.479522530557343,8.063663198440548,6.574778083709541,5.026350760522883,3.432404026499259,1.8073729100907459,0.16597394472983895,-1.4769281063762492,-3.106454867843019,-4.707849092980167,-6.266608307702818,-7.7686161471826045,-9.200270195833546,-10.548605172893925,-11.801410348016654,-12.947340123534158,-13.976016781947706,-14.87812446814421,-15.645493555222615,-16.27117462990032,-16.749501427475927,-17.076142146399853,-17.248138677739952,-17.26393339427409,-17.123383256603468,-16.82776110853954,-16.379744150033417,-15.783389692038458,-15.044098412874039,-14.168565448846369,-13.164719762057302,-12.041652334495765,-10.809533838697044]},{\"hoverinfo\":\"text\",\"marker\":{\"size\":3},\"mode\":\"markers\",\"name\":\"Ring 9\",\"text\":[\"Ring: 9\\n Wire: 0\",\"Ring: 9\\n Wire: 1\",\"Ring: 9\\n Wire: 2\",\"Ring: 9\\n Wire: 3\",\"Ring: 9\\n Wire: 4\",\"Ring: 9\\n Wire: 5\",\"Ring: 9\\n Wire: 6\",\"Ring: 9\\n Wire: 7\",\"Ring: 9\\n Wire: 8\",\"Ring: 9\\n Wire: 9\",\"Ring: 9\\n Wire: 10\",\"Ring: 9\\n Wire: 11\",\"Ring: 9\\n Wire: 12\",\"Ring: 9\\n Wire: 13\",\"Ring: 9\\n Wire: 14\",\"Ring: 9\\n Wire: 15\",\"Ring: 9\\n Wire: 16\",\"Ring: 9\\n Wire: 17\",\"Ring: 9\\n Wire: 18\",\"Ring: 9\\n Wire: 19\",\"Ring: 9\\n Wire: 20\",\"Ring: 9\\n Wire: 21\",\"Ring: 9\\n Wire: 22\",\"Ring: 9\\n Wire: 23\",\"Ring: 9\\n Wire: 24\",\"Ring: 9\\n Wire: 25\",\"Ring: 9\\n Wire: 26\",\"Ring: 9\\n Wire: 27\",\"Ring: 9\\n Wire: 28\",\"Ring: 9\\n Wire: 29\",\"Ring: 9\\n Wire: 30\",\"Ring: 9\\n Wire: 31\",\"Ring: 9\\n Wire: 32\",\"Ring: 9\\n Wire: 33\",\"Ring: 9\\n Wire: 34\",\"Ring: 9\\n Wire: 35\",\"Ring: 9\\n Wire: 36\",\"Ring: 9\\n Wire: 37\",\"Ring: 9\\n Wire: 38\",\"Ring: 9\\n Wire: 39\",\"Ring: 9\\n Wire: 40\",\"Ring: 9\\n Wire: 41\",\"Ring: 9\\n Wire: 42\",\"Ring: 9\\n Wire: 43\",\"Ring: 9\\n Wire: 44\",\"Ring: 9\\n Wire: 45\",\"Ring: 9\\n Wire: 46\",\"Ring: 9\\n Wire: 47\",\"Ring: 9\\n Wire: 48\",\"Ring: 9\\n Wire: 49\",\"Ring: 9\\n Wire: 50\",\"Ring: 9\\n Wire: 51\",\"Ring: 9\\n Wire: 52\",\"Ring: 9\\n Wire: 53\",\"Ring: 9\\n Wire: 54\",\"Ring: 9\\n Wire: 55\",\"Ring: 9\\n Wire: 56\",\"Ring: 9\\n Wire: 57\",\"Ring: 9\\n Wire: 58\",\"Ring: 9\\n Wire: 59\",\"Ring: 9\\n Wire: 60\",\"Ring: 9\\n Wire: 61\",\"Ring: 9\\n Wire: 62\",\"Ring: 9\\n Wire: 63\",\"Ring: 9\\n Wire: 64\",\"Ring: 9\\n Wire: 65\",\"Ring: 9\\n Wire: 66\",\"Ring: 9\\n Wire: 67\",\"Ring: 9\\n Wire: 68\",\"Ring: 9\\n Wire: 69\",\"Ring: 9\\n Wire: 70\",\"Ring: 9\\n Wire: 71\",\"Ring: 9\\n Wire: 72\",\"Ring: 9\\n Wire: 73\",\"Ring: 9\\n Wire: 74\",\"Ring: 9\\n Wire: 75\",\"Ring: 9\\n Wire: 76\",\"Ring: 9\\n Wire: 77\",\"Ring: 9\\n Wire: 78\",\"Ring: 9\\n Wire: 79\",\"Ring: 9\\n Wire: 80\",\"Ring: 9\\n Wire: 81\",\"Ring: 9\\n Wire: 82\",\"Ring: 9\\n Wire: 83\",\"Ring: 9\\n Wire: 84\",\"Ring: 9\\n Wire: 85\",\"Ring: 9\\n Wire: 86\",\"Ring: 9\\n Wire: 87\",\"Ring: 9\\n Wire: 88\",\"Ring: 9\\n Wire: 89\",\"Ring: 9\\n Wire: 90\",\"Ring: 9\\n Wire: 91\",\"Ring: 9\\n Wire: 92\"],\"type\":\"scatter\",\"uid\":\"1982db23-3317-4764-a4ed-1e875ee1a577\",\"x\":[21.368689997128442,20.56759859669029,19.672661961242753,18.687963481390597,17.617996110446807,16.467641864117127,15.242149544982148,13.94711079341499,12.588434574208783,11.172320215325596,9.705229121784829,8.193855293754073,6.645094783361729,5.066014229592789,3.463818614835952,1.8458183902015455,0.21939611960982708,-1.4080272051549576,-3.0290260247279384,-4.636204093287911,-6.222228225930651,-7.779861758309614,-9.301997565875594,-10.781690492055969,-12.212189037411148,-13.58696616517802,-14.899749082641671,-16.14454786244979,-17.31568277327732,-18.40781019513784,-19.415947001095905,-20.335493294132306,-21.162253395419214,-21.892454988240253,-22.522766330206515,-23.050311455232922,-23.472683295911793,-23.787954666409384,-23.994687055772793,-24.091937191525535,-24.07926134360346,-23.956717348993312,-23.72486434783579,-23.384760232197333,-22.937956819151278,-22.38649277019245,-21.732884289292382,-20.980113642037697,-20.13161554823622,-19.19126151007833,-18.163342147360414,-17.052547620370806,-15.863946229764181,-14.602961291068109,-13.275346389338143,-11.887159126868946,-10.444733483744365,-8.954650917339006,-7.423710332637811,-5.858897060392062,-4.26735098465718,-2.6563339651395563,-1.0331967029961344,0.5946547987289392,2.2197930269975004,3.8348028488159143,5.432315344786126,7.005041431794673,8.545805121427236,10.047576262357817,11.503502617316752,12.906941128277861,14.251488227208496,15.531009054081718,16.7396654488356,17.871942589558493,18.922674155356496,19.887065899090835,20.760717522427875,21.539642753391174,22.220287534806268,22.799546240648322,23.274775846301452,23.643807988073792,23.904958856943693,24.057036881394108,24.0993481642801,24.03169964892239,23.85439999998067,23.5682581950876,23.174579833669384,22.67516117979504,22.07228096623546],\"y\":[11.144186132870471,12.561356802625408,13.92121288236453,15.217549660692786,16.44445225021864,17.596322575828644,18.667904917420174,19.654309890546827,20.551036755558215,21.353993953442682,22.059517774672667,22.664389075870943,23.1658479680235,23.56160640922013,23.849858644464874,24.02928944492187,24.099080109002912,24.058912197915006,23.908968988623506,23.649934637601437,23.28299105918034,22.809812532746324,22.232558063387227,21.553861530847545,20.776819671739336,19.904977949843286,18.942314378970654,17.89322137219868,16.76248570029716,15.555266650791268,14.27707248731597,12.933735316672427,11.53138447826226,10.076418577317757,8.57547628953375,7.03540607031305,5.463234906835241,3.8661362555258836,2.251397311220111,0.6263857573640448,-1.0014838510349473,-2.6247839183221324,-4.236107698610837,-5.8281030910650395,-7.393506185849251,-8.92517440768307,-10.416119105773895,-11.859537441427612,-13.248843427841292,-14.577697980450335,-15.840037840717445,-17.03010324139069,-18.142464187000353,-19.172045229682883,-20.114148627285385,-20.964475778085557,-21.719146834325443,-22.374718405066897,-22.928199267594614,-23.37706401567932,-23.719264582427193,-23.95323958513933,-24.077921449542888,-24.09274128088766,-23.997631459682285,-23.793025950226532,-23.479858320531683,-23.05955748266388,-22.534041172946047,-21.905707201766923,-21.177422512922252,-20.352510102407738,-19.434733856350526,-18.4282813772601,-17.33774487695846,-16.168100223370864,-14.924684236781795,-13.613170339147977,-12.239542667575286,-10.810068770073704,-9.331271008173161,-7.809896796883976,-6.252887817789646,-4.667348345745958,-3.060512833704326,-1.4397129035621594,0.1876561063462283,1.814168884482168,3.4324040260962465,5.034977895395944,6.614578315382169,8.163997931635924,9.676167097823367]}],                        {\"template\":{\"data\":{\"barpolar\":[{\"marker\":{\"line\":{\"color\":\"#E5ECF6\",\"width\":0.5},\"pattern\":{\"fillmode\":\"overlay\",\"size\":10,\"solidity\":0.2}},\"type\":\"barpolar\"}],\"bar\":[{\"error_x\":{\"color\":\"#2a3f5f\"},\"error_y\":{\"color\":\"#2a3f5f\"},\"marker\":{\"line\":{\"color\":\"#E5ECF6\",\"width\":0.5},\"pattern\":{\"fillmode\":\"overlay\",\"size\":10,\"solidity\":0.2}},\"type\":\"bar\"}],\"carpet\":[{\"aaxis\":{\"endlinecolor\":\"#2a3f5f\",\"gridcolor\":\"white\",\"linecolor\":\"white\",\"minorgridcolor\":\"white\",\"startlinecolor\":\"#2a3f5f\"},\"baxis\":{\"endlinecolor\":\"#2a3f5f\",\"gridcolor\":\"white\",\"linecolor\":\"white\",\"minorgridcolor\":\"white\",\"startlinecolor\":\"#2a3f5f\"},\"type\":\"carpet\"}],\"choropleth\":[{\"colorbar\":{\"outlinewidth\":0,\"ticks\":\"\"},\"type\":\"choropleth\"}],\"contourcarpet\":[{\"colorbar\":{\"outlinewidth\":0,\"ticks\":\"\"},\"type\":\"contourcarpet\"}],\"contour\":[{\"colorbar\":{\"outlinewidth\":0,\"ticks\":\"\"},\"colorscale\":[[0.0,\"#0d0887\"],[0.1111111111111111,\"#46039f\"],[0.2222222222222222,\"#7201a8\"],[0.3333333333333333,\"#9c179e\"],[0.4444444444444444,\"#bd3786\"],[0.5555555555555556,\"#d8576b\"],[0.6666666666666666,\"#ed7953\"],[0.7777777777777778,\"#fb9f3a\"],[0.8888888888888888,\"#fdca26\"],[1.0,\"#f0f921\"]],\"type\":\"contour\"}],\"heatmapgl\":[{\"colorbar\":{\"outlinewidth\":0,\"ticks\":\"\"},\"colorscale\":[[0.0,\"#0d0887\"],[0.1111111111111111,\"#46039f\"],[0.2222222222222222,\"#7201a8\"],[0.3333333333333333,\"#9c179e\"],[0.4444444444444444,\"#bd3786\"],[0.5555555555555556,\"#d8576b\"],[0.6666666666666666,\"#ed7953\"],[0.7777777777777778,\"#fb9f3a\"],[0.8888888888888888,\"#fdca26\"],[1.0,\"#f0f921\"]],\"type\":\"heatmapgl\"}],\"heatmap\":[{\"colorbar\":{\"outlinewidth\":0,\"ticks\":\"\"},\"colorscale\":[[0.0,\"#0d0887\"],[0.1111111111111111,\"#46039f\"],[0.2222222222222222,\"#7201a8\"],[0.3333333333333333,\"#9c179e\"],[0.4444444444444444,\"#bd3786\"],[0.5555555555555556,\"#d8576b\"],[0.6666666666666666,\"#ed7953\"],[0.7777777777777778,\"#fb9f3a\"],[0.8888888888888888,\"#fdca26\"],[1.0,\"#f0f921\"]],\"type\":\"heatmap\"}],\"histogram2dcontour\":[{\"colorbar\":{\"outlinewidth\":0,\"ticks\":\"\"},\"colorscale\":[[0.0,\"#0d0887\"],[0.1111111111111111,\"#46039f\"],[0.2222222222222222,\"#7201a8\"],[0.3333333333333333,\"#9c179e\"],[0.4444444444444444,\"#bd3786\"],[0.5555555555555556,\"#d8576b\"],[0.6666666666666666,\"#ed7953\"],[0.7777777777777778,\"#fb9f3a\"],[0.8888888888888888,\"#fdca26\"],[1.0,\"#f0f921\"]],\"type\":\"histogram2dcontour\"}],\"histogram2d\":[{\"colorbar\":{\"outlinewidth\":0,\"ticks\":\"\"},\"colorscale\":[[0.0,\"#0d0887\"],[0.1111111111111111,\"#46039f\"],[0.2222222222222222,\"#7201a8\"],[0.3333333333333333,\"#9c179e\"],[0.4444444444444444,\"#bd3786\"],[0.5555555555555556,\"#d8576b\"],[0.6666666666666666,\"#ed7953\"],[0.7777777777777778,\"#fb9f3a\"],[0.8888888888888888,\"#fdca26\"],[1.0,\"#f0f921\"]],\"type\":\"histogram2d\"}],\"histogram\":[{\"marker\":{\"pattern\":{\"fillmode\":\"overlay\",\"size\":10,\"solidity\":0.2}},\"type\":\"histogram\"}],\"mesh3d\":[{\"colorbar\":{\"outlinewidth\":0,\"ticks\":\"\"},\"type\":\"mesh3d\"}],\"parcoords\":[{\"line\":{\"colorbar\":{\"outlinewidth\":0,\"ticks\":\"\"}},\"type\":\"parcoords\"}],\"pie\":[{\"automargin\":true,\"type\":\"pie\"}],\"scatter3d\":[{\"line\":{\"colorbar\":{\"outlinewidth\":0,\"ticks\":\"\"}},\"marker\":{\"colorbar\":{\"outlinewidth\":0,\"ticks\":\"\"}},\"type\":\"scatter3d\"}],\"scattercarpet\":[{\"marker\":{\"colorbar\":{\"outlinewidth\":0,\"ticks\":\"\"}},\"type\":\"scattercarpet\"}],\"scattergeo\":[{\"marker\":{\"colorbar\":{\"outlinewidth\":0,\"ticks\":\"\"}},\"type\":\"scattergeo\"}],\"scattergl\":[{\"marker\":{\"colorbar\":{\"outlinewidth\":0,\"ticks\":\"\"}},\"type\":\"scattergl\"}],\"scattermapbox\":[{\"marker\":{\"colorbar\":{\"outlinewidth\":0,\"ticks\":\"\"}},\"type\":\"scattermapbox\"}],\"scatterpolargl\":[{\"marker\":{\"colorbar\":{\"outlinewidth\":0,\"ticks\":\"\"}},\"type\":\"scatterpolargl\"}],\"scatterpolar\":[{\"marker\":{\"colorbar\":{\"outlinewidth\":0,\"ticks\":\"\"}},\"type\":\"scatterpolar\"}],\"scatter\":[{\"fillpattern\":{\"fillmode\":\"overlay\",\"size\":10,\"solidity\":0.2},\"type\":\"scatter\"}],\"scatterternary\":[{\"marker\":{\"colorbar\":{\"outlinewidth\":0,\"ticks\":\"\"}},\"type\":\"scatterternary\"}],\"surface\":[{\"colorbar\":{\"outlinewidth\":0,\"ticks\":\"\"},\"colorscale\":[[0.0,\"#0d0887\"],[0.1111111111111111,\"#46039f\"],[0.2222222222222222,\"#7201a8\"],[0.3333333333333333,\"#9c179e\"],[0.4444444444444444,\"#bd3786\"],[0.5555555555555556,\"#d8576b\"],[0.6666666666666666,\"#ed7953\"],[0.7777777777777778,\"#fb9f3a\"],[0.8888888888888888,\"#fdca26\"],[1.0,\"#f0f921\"]],\"type\":\"surface\"}],\"table\":[{\"cells\":{\"fill\":{\"color\":\"#EBF0F8\"},\"line\":{\"color\":\"white\"}},\"header\":{\"fill\":{\"color\":\"#C8D4E3\"},\"line\":{\"color\":\"white\"}},\"type\":\"table\"}]},\"layout\":{\"annotationdefaults\":{\"arrowcolor\":\"#2a3f5f\",\"arrowhead\":0,\"arrowwidth\":1},\"autotypenumbers\":\"strict\",\"coloraxis\":{\"colorbar\":{\"outlinewidth\":0,\"ticks\":\"\"}},\"colorscale\":{\"diverging\":[[0,\"#8e0152\"],[0.1,\"#c51b7d\"],[0.2,\"#de77ae\"],[0.3,\"#f1b6da\"],[0.4,\"#fde0ef\"],[0.5,\"#f7f7f7\"],[0.6,\"#e6f5d0\"],[0.7,\"#b8e186\"],[0.8,\"#7fbc41\"],[0.9,\"#4d9221\"],[1,\"#276419\"]],\"sequential\":[[0.0,\"#0d0887\"],[0.1111111111111111,\"#46039f\"],[0.2222222222222222,\"#7201a8\"],[0.3333333333333333,\"#9c179e\"],[0.4444444444444444,\"#bd3786\"],[0.5555555555555556,\"#d8576b\"],[0.6666666666666666,\"#ed7953\"],[0.7777777777777778,\"#fb9f3a\"],[0.8888888888888888,\"#fdca26\"],[1.0,\"#f0f921\"]],\"sequentialminus\":[[0.0,\"#0d0887\"],[0.1111111111111111,\"#46039f\"],[0.2222222222222222,\"#7201a8\"],[0.3333333333333333,\"#9c179e\"],[0.4444444444444444,\"#bd3786\"],[0.5555555555555556,\"#d8576b\"],[0.6666666666666666,\"#ed7953\"],[0.7777777777777778,\"#fb9f3a\"],[0.8888888888888888,\"#fdca26\"],[1.0,\"#f0f921\"]]},\"colorway\":[\"#636efa\",\"#EF553B\",\"#00cc96\",\"#ab63fa\",\"#FFA15A\",\"#19d3f3\",\"#FF6692\",\"#B6E880\",\"#FF97FF\",\"#FECB52\"],\"font\":{\"color\":\"#2a3f5f\"},\"geo\":{\"bgcolor\":\"white\",\"lakecolor\":\"white\",\"landcolor\":\"#E5ECF6\",\"showlakes\":true,\"showland\":true,\"subunitcolor\":\"white\"},\"hoverlabel\":{\"align\":\"left\"},\"hovermode\":\"closest\",\"mapbox\":{\"style\":\"light\"},\"paper_bgcolor\":\"white\",\"plot_bgcolor\":\"#E5ECF6\",\"polar\":{\"angularaxis\":{\"gridcolor\":\"white\",\"linecolor\":\"white\",\"ticks\":\"\"},\"bgcolor\":\"#E5ECF6\",\"radialaxis\":{\"gridcolor\":\"white\",\"linecolor\":\"white\",\"ticks\":\"\"}},\"scene\":{\"xaxis\":{\"backgroundcolor\":\"#E5ECF6\",\"gridcolor\":\"white\",\"gridwidth\":2,\"linecolor\":\"white\",\"showbackground\":true,\"ticks\":\"\",\"zerolinecolor\":\"white\"},\"yaxis\":{\"backgroundcolor\":\"#E5ECF6\",\"gridcolor\":\"white\",\"gridwidth\":2,\"linecolor\":\"white\",\"showbackground\":true,\"ticks\":\"\",\"zerolinecolor\":\"white\"},\"zaxis\":{\"backgroundcolor\":\"#E5ECF6\",\"gridcolor\":\"white\",\"gridwidth\":2,\"linecolor\":\"white\",\"showbackground\":true,\"ticks\":\"\",\"zerolinecolor\":\"white\"}},\"shapedefaults\":{\"line\":{\"color\":\"#2a3f5f\"}},\"ternary\":{\"aaxis\":{\"gridcolor\":\"white\",\"linecolor\":\"white\",\"ticks\":\"\"},\"baxis\":{\"gridcolor\":\"white\",\"linecolor\":\"white\",\"ticks\":\"\"},\"bgcolor\":\"#E5ECF6\",\"caxis\":{\"gridcolor\":\"white\",\"linecolor\":\"white\",\"ticks\":\"\"}},\"title\":{\"x\":0.05},\"xaxis\":{\"automargin\":true,\"gridcolor\":\"white\",\"linecolor\":\"white\",\"ticks\":\"\",\"title\":{\"standoff\":15},\"zerolinecolor\":\"white\",\"zerolinewidth\":2},\"yaxis\":{\"automargin\":true,\"gridcolor\":\"white\",\"linecolor\":\"white\",\"ticks\":\"\",\"title\":{\"standoff\":15},\"zerolinecolor\":\"white\",\"zerolinewidth\":2}}},\"xaxis\":{\"range\":[-60,60],\"title\":{\"text\":\"X\"}},\"yaxis\":{\"range\":[-60,60],\"title\":{\"text\":\"Y\"}},\"width\":500,\"height\":500,\"showlegend\":true,\"title\":{\"text\":\"Wire Positions\"},\"shapes\":[{\"line\":{\"color\":\"black\"},\"type\":\"circle\",\"x0\":-10.5,\"x1\":10.5,\"xref\":\"x\",\"y0\":-10.5,\"y1\":10.5,\"yref\":\"y\"},{\"line\":{\"color\":\"black\"},\"type\":\"circle\",\"x0\":-55,\"x1\":55,\"xref\":\"x\",\"y0\":-55,\"y1\":55,\"yref\":\"y\"}]},                        {\"responsive\": true}                    ).then(function(){\n                            \nvar gd = document.getElementById('428290e5-7157-4bdc-812a-209a6bb24252');\nvar x = new MutationObserver(function (mutations, observer) {{\n        var display = window.getComputedStyle(gd).display;\n        if (!display || display === 'none') {{\n            console.log([gd, 'removed!']);\n            Plotly.purge(gd);\n            observer.disconnect();\n        }}\n}});\n\n// Listen for the removal of the full notebook cells\nvar notebookContainer = gd.closest('#notebook-container');\nif (notebookContainer) {{\n    x.observe(notebookContainer, {childList: true});\n}}\n\n// Listen for the clearing of the current output cell\nvar outputEl = gd.closest('.output');\nif (outputEl) {{\n    x.observe(outputEl, {childList: true});\n}}\n\n                        })                };                            </script>        </div>\n</body>\n</html>"
                },
                "metadata": {}
              }
            ]
          }
        },
        "26e72aefe2014504ad57879574bf0fd1": {
          "model_module": "@jupyter-widgets/base",
          "model_name": "LayoutModel",
          "model_module_version": "1.2.0",
          "state": {
            "_model_module": "@jupyter-widgets/base",
            "_model_module_version": "1.2.0",
            "_model_name": "LayoutModel",
            "_view_count": null,
            "_view_module": "@jupyter-widgets/base",
            "_view_module_version": "1.2.0",
            "_view_name": "LayoutView",
            "align_content": null,
            "align_items": null,
            "align_self": null,
            "border": null,
            "bottom": null,
            "display": null,
            "flex": null,
            "flex_flow": null,
            "grid_area": null,
            "grid_auto_columns": null,
            "grid_auto_flow": null,
            "grid_auto_rows": null,
            "grid_column": null,
            "grid_gap": null,
            "grid_row": null,
            "grid_template_areas": null,
            "grid_template_columns": null,
            "grid_template_rows": null,
            "height": null,
            "justify_content": null,
            "justify_items": null,
            "left": null,
            "margin": null,
            "max_height": null,
            "max_width": null,
            "min_height": null,
            "min_width": null,
            "object_fit": null,
            "object_position": null,
            "order": null,
            "overflow": null,
            "overflow_x": null,
            "overflow_y": null,
            "padding": null,
            "right": null,
            "top": null,
            "visibility": null,
            "width": null
          }
        },
        "f4cf5db1934344cb966acc0057fef880": {
          "model_module": "@jupyter-widgets/controls",
          "model_name": "FloatSliderModel",
          "model_module_version": "1.5.0",
          "state": {
            "_dom_classes": [],
            "_model_module": "@jupyter-widgets/controls",
            "_model_module_version": "1.5.0",
            "_model_name": "FloatSliderModel",
            "_view_count": null,
            "_view_module": "@jupyter-widgets/controls",
            "_view_module_version": "1.5.0",
            "_view_name": "FloatSliderView",
            "continuous_update": true,
            "description": "z",
            "description_tooltip": null,
            "disabled": false,
            "layout": "IPY_MODEL_9cd5c975b2c54510a720c44f2eb1a49e",
            "max": 175,
            "min": 0,
            "orientation": "horizontal",
            "readout": true,
            "readout_format": ".2f",
            "step": 0.1,
            "style": "IPY_MODEL_73d916afe153454aa1df335b36f62687",
            "value": 49.4
          }
        },
        "788faf3eed864381b537db5938ea39ef": {
          "model_module": "@jupyter-widgets/base",
          "model_name": "LayoutModel",
          "model_module_version": "1.2.0",
          "state": {
            "_model_module": "@jupyter-widgets/base",
            "_model_module_version": "1.2.0",
            "_model_name": "LayoutModel",
            "_view_count": null,
            "_view_module": "@jupyter-widgets/base",
            "_view_module_version": "1.2.0",
            "_view_name": "LayoutView",
            "align_content": null,
            "align_items": null,
            "align_self": null,
            "border": null,
            "bottom": null,
            "display": null,
            "flex": null,
            "flex_flow": "row wrap",
            "grid_area": null,
            "grid_auto_columns": null,
            "grid_auto_flow": null,
            "grid_auto_rows": null,
            "grid_column": null,
            "grid_gap": null,
            "grid_row": null,
            "grid_template_areas": null,
            "grid_template_columns": null,
            "grid_template_rows": null,
            "height": null,
            "justify_content": null,
            "justify_items": null,
            "left": null,
            "margin": null,
            "max_height": null,
            "max_width": null,
            "min_height": null,
            "min_width": null,
            "object_fit": null,
            "object_position": null,
            "order": null,
            "overflow": null,
            "overflow_x": null,
            "overflow_y": null,
            "padding": null,
            "right": null,
            "top": null,
            "visibility": null,
            "width": null
          }
        },
        "defd27745200454899aa0460880d6ff9": {
          "model_module": "@jupyter-widgets/base",
          "model_name": "LayoutModel",
          "model_module_version": "1.2.0",
          "state": {
            "_model_module": "@jupyter-widgets/base",
            "_model_module_version": "1.2.0",
            "_model_name": "LayoutModel",
            "_view_count": null,
            "_view_module": "@jupyter-widgets/base",
            "_view_module_version": "1.2.0",
            "_view_name": "LayoutView",
            "align_content": null,
            "align_items": null,
            "align_self": null,
            "border": null,
            "bottom": null,
            "display": null,
            "flex": null,
            "flex_flow": null,
            "grid_area": null,
            "grid_auto_columns": null,
            "grid_auto_flow": null,
            "grid_auto_rows": null,
            "grid_column": null,
            "grid_gap": null,
            "grid_row": null,
            "grid_template_areas": null,
            "grid_template_columns": null,
            "grid_template_rows": null,
            "height": null,
            "justify_content": null,
            "justify_items": null,
            "left": null,
            "margin": null,
            "max_height": null,
            "max_width": null,
            "min_height": null,
            "min_width": null,
            "object_fit": null,
            "object_position": null,
            "order": null,
            "overflow": null,
            "overflow_x": null,
            "overflow_y": null,
            "padding": null,
            "right": null,
            "top": null,
            "visibility": null,
            "width": null
          }
        },
        "9cd5c975b2c54510a720c44f2eb1a49e": {
          "model_module": "@jupyter-widgets/base",
          "model_name": "LayoutModel",
          "model_module_version": "1.2.0",
          "state": {
            "_model_module": "@jupyter-widgets/base",
            "_model_module_version": "1.2.0",
            "_model_name": "LayoutModel",
            "_view_count": null,
            "_view_module": "@jupyter-widgets/base",
            "_view_module_version": "1.2.0",
            "_view_name": "LayoutView",
            "align_content": null,
            "align_items": null,
            "align_self": null,
            "border": null,
            "bottom": null,
            "display": null,
            "flex": null,
            "flex_flow": null,
            "grid_area": null,
            "grid_auto_columns": null,
            "grid_auto_flow": null,
            "grid_auto_rows": null,
            "grid_column": null,
            "grid_gap": null,
            "grid_row": null,
            "grid_template_areas": null,
            "grid_template_columns": null,
            "grid_template_rows": null,
            "height": null,
            "justify_content": null,
            "justify_items": null,
            "left": null,
            "margin": null,
            "max_height": null,
            "max_width": null,
            "min_height": null,
            "min_width": null,
            "object_fit": null,
            "object_position": null,
            "order": null,
            "overflow": null,
            "overflow_x": null,
            "overflow_y": null,
            "padding": null,
            "right": null,
            "top": null,
            "visibility": null,
            "width": null
          }
        },
        "73d916afe153454aa1df335b36f62687": {
          "model_module": "@jupyter-widgets/controls",
          "model_name": "SliderStyleModel",
          "model_module_version": "1.5.0",
          "state": {
            "_model_module": "@jupyter-widgets/controls",
            "_model_module_version": "1.5.0",
            "_model_name": "SliderStyleModel",
            "_view_count": null,
            "_view_module": "@jupyter-widgets/base",
            "_view_module_version": "1.2.0",
            "_view_name": "StyleView",
            "description_width": "",
            "handle_color": null
          }
        },
        "900f1cba1192436b9618779df7343dc2": {
          "model_module": "@jupyter-widgets/controls",
          "model_name": "VBoxModel",
          "model_module_version": "1.5.0",
          "state": {
            "_dom_classes": [],
            "_model_module": "@jupyter-widgets/controls",
            "_model_module_version": "1.5.0",
            "_model_name": "VBoxModel",
            "_view_count": null,
            "_view_module": "@jupyter-widgets/controls",
            "_view_module_version": "1.5.0",
            "_view_name": "VBoxView",
            "box_style": "",
            "children": [
              "IPY_MODEL_e5bad0a33148487da5ab9083b29fdd8f",
              "IPY_MODEL_9438ff62d15846158ab407d5ee7c445a"
            ],
            "layout": "IPY_MODEL_42d76c00c92640119124ddfd56ae183e"
          }
        },
        "e5bad0a33148487da5ab9083b29fdd8f": {
          "model_module": "@jupyter-widgets/controls",
          "model_name": "HBoxModel",
          "model_module_version": "1.5.0",
          "state": {
            "_dom_classes": [],
            "_model_module": "@jupyter-widgets/controls",
            "_model_module_version": "1.5.0",
            "_model_name": "HBoxModel",
            "_view_count": null,
            "_view_module": "@jupyter-widgets/controls",
            "_view_module_version": "1.5.0",
            "_view_name": "HBoxView",
            "box_style": "",
            "children": [
              "IPY_MODEL_966c9d53019643cbbbac5fe308889b1e"
            ],
            "layout": "IPY_MODEL_aabafdc05ddc46ff85b25fa3dc441683"
          }
        },
        "9438ff62d15846158ab407d5ee7c445a": {
          "model_module": "@jupyter-widgets/output",
          "model_name": "OutputModel",
          "model_module_version": "1.0.0",
          "state": {
            "_dom_classes": [],
            "_model_module": "@jupyter-widgets/output",
            "_model_module_version": "1.0.0",
            "_model_name": "OutputModel",
            "_view_count": null,
            "_view_module": "@jupyter-widgets/output",
            "_view_module_version": "1.0.0",
            "_view_name": "OutputView",
            "layout": "IPY_MODEL_332f694626d9403b887cf77670eab08f",
            "msg_id": "",
            "outputs": [
              {
                "output_type": "display_data",
                "data": {
                  "text/html": "<html>\n<head><meta charset=\"utf-8\" /></head>\n<body>\n    <div>            <script src=\"https://cdnjs.cloudflare.com/ajax/libs/mathjax/2.7.5/MathJax.js?config=TeX-AMS-MML_SVG\"></script><script type=\"text/javascript\">if (window.MathJax && window.MathJax.Hub && window.MathJax.Hub.Config) {window.MathJax.Hub.Config({SVG: {font: \"STIX-Web\"}});}</script>                <script type=\"text/javascript\">window.PlotlyConfig = {MathJaxConfig: 'local'};</script>\n        <script charset=\"utf-8\" src=\"https://cdn.plot.ly/plotly-2.24.1.min.js\"></script>                <div id=\"793c1b76-30da-41a0-9ef4-ce802a58376a\" class=\"plotly-graph-div\" style=\"height:500px; width:500px;\"></div>            <script type=\"text/javascript\">                                    window.PLOTLYENV=window.PLOTLYENV || {};                                    if (document.getElementById(\"793c1b76-30da-41a0-9ef4-ce802a58376a\")) {                    Plotly.newPlot(                        \"793c1b76-30da-41a0-9ef4-ce802a58376a\",                        [{\"hoverinfo\":\"text\",\"marker\":{\"size\":3},\"mode\":\"markers\",\"text\":[\"Ring: 1.0\\n Wire: 9.0\",\"Ring: 2.0\\n Wire: 8.0\",\"Ring: 3.0\\n Wire: 11.0\",\"Ring: 4.0\\n Wire: 11.0\",\"Ring: 5.0\\n Wire: 17.0\",\"Ring: 6.0\\n Wire: 18.0\",\"Ring: 7.0\\n Wire: 21.0\",\"Ring: 8.0\\n Wire: 22.0\",\"Ring: 9.0\\n Wire: 15.0\",\"Ring: 10.0\\n Wire: 15.0\",\"Ring: 11.0\\n Wire: 18.0\",\"Ring: 12.0\\n Wire: 18.0\",\"Ring: 13.0\\n Wire: 28.0\",\"Ring: 14.0\\n Wire: 28.0\",\"Ring: 15.0\\n Wire: 32.0\",\"Ring: 16.0\\n Wire: 32.0\",\"Ring: 17.0\\n Wire: 28.0\",\"Ring: 18.0\\n Wire: 29.0\",\"Ring: 19.0\\n Wire: 32.0\",\"Ring: 20.0\\n Wire: 32.0\",\"Ring: 21.0\\n Wire: 50.0\",\"Ring: 21.0\\n Wire: 51.0\",\"Ring: 22.0\\n Wire: 51.0\",\"Ring: 23.0\\n Wire: 55.0\",\"Ring: 24.0\\n Wire: 56.0\",\"Ring: 25.0\\n Wire: 52.0\",\"Ring: 26.0\\n Wire: 53.0\",\"Ring: 27.0\\n Wire: 57.0\",\"Ring: 28.0\\n Wire: 57.0\"],\"x\":[3.91711419137191,5.241186217497287,4.9725307231610785,4.634393501354607,4.608141754457673,4.1277521014423115,4.132473152079968,3.5573383711245805,9.313167600669688,9.05656612139105,9.962821506799516,9.673096006047736,4.7161311307455644,5.748559554033667,4.16464326544913,3.502994375095473,9.295294548765709,8.825758919283073,8.493352778503057,7.965566786617352,-5.403765396602652,-7.002337293056833,-8.046444451246119,-9.325685040659057,-10.416064510537577,-3.881582021789426,-4.810730472872297,-6.320380040810326,-7.300563884657071],\"y\":[9.980641845680706,10.88343324156107,12.85187170404448,14.41829961939348,16.509653145378945,18.068879318643635,20.277016860160558,21.796750415870754,22.122574488782575,23.723471110621837,25.436563737925574,27.029571686812076,31.023478708352688,32.24925457764455,34.18152663298626,35.64096676155193,36.37040777639953,37.916003223678416,39.726642272281104,41.25332223317693,43.361226735280184,43.13193639154359,44.36403753646894,45.82173956685107,47.01188052507007,50.22493127021799,51.53555146185377,52.98748189666807,54.25744262242777],\"type\":\"scatter\",\"uid\":\"c97fa61d-ba89-4254-9e67-88cc86cf20b9\"}],                        {\"template\":{\"data\":{\"barpolar\":[{\"marker\":{\"line\":{\"color\":\"#E5ECF6\",\"width\":0.5},\"pattern\":{\"fillmode\":\"overlay\",\"size\":10,\"solidity\":0.2}},\"type\":\"barpolar\"}],\"bar\":[{\"error_x\":{\"color\":\"#2a3f5f\"},\"error_y\":{\"color\":\"#2a3f5f\"},\"marker\":{\"line\":{\"color\":\"#E5ECF6\",\"width\":0.5},\"pattern\":{\"fillmode\":\"overlay\",\"size\":10,\"solidity\":0.2}},\"type\":\"bar\"}],\"carpet\":[{\"aaxis\":{\"endlinecolor\":\"#2a3f5f\",\"gridcolor\":\"white\",\"linecolor\":\"white\",\"minorgridcolor\":\"white\",\"startlinecolor\":\"#2a3f5f\"},\"baxis\":{\"endlinecolor\":\"#2a3f5f\",\"gridcolor\":\"white\",\"linecolor\":\"white\",\"minorgridcolor\":\"white\",\"startlinecolor\":\"#2a3f5f\"},\"type\":\"carpet\"}],\"choropleth\":[{\"colorbar\":{\"outlinewidth\":0,\"ticks\":\"\"},\"type\":\"choropleth\"}],\"contourcarpet\":[{\"colorbar\":{\"outlinewidth\":0,\"ticks\":\"\"},\"type\":\"contourcarpet\"}],\"contour\":[{\"colorbar\":{\"outlinewidth\":0,\"ticks\":\"\"},\"colorscale\":[[0.0,\"#0d0887\"],[0.1111111111111111,\"#46039f\"],[0.2222222222222222,\"#7201a8\"],[0.3333333333333333,\"#9c179e\"],[0.4444444444444444,\"#bd3786\"],[0.5555555555555556,\"#d8576b\"],[0.6666666666666666,\"#ed7953\"],[0.7777777777777778,\"#fb9f3a\"],[0.8888888888888888,\"#fdca26\"],[1.0,\"#f0f921\"]],\"type\":\"contour\"}],\"heatmapgl\":[{\"colorbar\":{\"outlinewidth\":0,\"ticks\":\"\"},\"colorscale\":[[0.0,\"#0d0887\"],[0.1111111111111111,\"#46039f\"],[0.2222222222222222,\"#7201a8\"],[0.3333333333333333,\"#9c179e\"],[0.4444444444444444,\"#bd3786\"],[0.5555555555555556,\"#d8576b\"],[0.6666666666666666,\"#ed7953\"],[0.7777777777777778,\"#fb9f3a\"],[0.8888888888888888,\"#fdca26\"],[1.0,\"#f0f921\"]],\"type\":\"heatmapgl\"}],\"heatmap\":[{\"colorbar\":{\"outlinewidth\":0,\"ticks\":\"\"},\"colorscale\":[[0.0,\"#0d0887\"],[0.1111111111111111,\"#46039f\"],[0.2222222222222222,\"#7201a8\"],[0.3333333333333333,\"#9c179e\"],[0.4444444444444444,\"#bd3786\"],[0.5555555555555556,\"#d8576b\"],[0.6666666666666666,\"#ed7953\"],[0.7777777777777778,\"#fb9f3a\"],[0.8888888888888888,\"#fdca26\"],[1.0,\"#f0f921\"]],\"type\":\"heatmap\"}],\"histogram2dcontour\":[{\"colorbar\":{\"outlinewidth\":0,\"ticks\":\"\"},\"colorscale\":[[0.0,\"#0d0887\"],[0.1111111111111111,\"#46039f\"],[0.2222222222222222,\"#7201a8\"],[0.3333333333333333,\"#9c179e\"],[0.4444444444444444,\"#bd3786\"],[0.5555555555555556,\"#d8576b\"],[0.6666666666666666,\"#ed7953\"],[0.7777777777777778,\"#fb9f3a\"],[0.8888888888888888,\"#fdca26\"],[1.0,\"#f0f921\"]],\"type\":\"histogram2dcontour\"}],\"histogram2d\":[{\"colorbar\":{\"outlinewidth\":0,\"ticks\":\"\"},\"colorscale\":[[0.0,\"#0d0887\"],[0.1111111111111111,\"#46039f\"],[0.2222222222222222,\"#7201a8\"],[0.3333333333333333,\"#9c179e\"],[0.4444444444444444,\"#bd3786\"],[0.5555555555555556,\"#d8576b\"],[0.6666666666666666,\"#ed7953\"],[0.7777777777777778,\"#fb9f3a\"],[0.8888888888888888,\"#fdca26\"],[1.0,\"#f0f921\"]],\"type\":\"histogram2d\"}],\"histogram\":[{\"marker\":{\"pattern\":{\"fillmode\":\"overlay\",\"size\":10,\"solidity\":0.2}},\"type\":\"histogram\"}],\"mesh3d\":[{\"colorbar\":{\"outlinewidth\":0,\"ticks\":\"\"},\"type\":\"mesh3d\"}],\"parcoords\":[{\"line\":{\"colorbar\":{\"outlinewidth\":0,\"ticks\":\"\"}},\"type\":\"parcoords\"}],\"pie\":[{\"automargin\":true,\"type\":\"pie\"}],\"scatter3d\":[{\"line\":{\"colorbar\":{\"outlinewidth\":0,\"ticks\":\"\"}},\"marker\":{\"colorbar\":{\"outlinewidth\":0,\"ticks\":\"\"}},\"type\":\"scatter3d\"}],\"scattercarpet\":[{\"marker\":{\"colorbar\":{\"outlinewidth\":0,\"ticks\":\"\"}},\"type\":\"scattercarpet\"}],\"scattergeo\":[{\"marker\":{\"colorbar\":{\"outlinewidth\":0,\"ticks\":\"\"}},\"type\":\"scattergeo\"}],\"scattergl\":[{\"marker\":{\"colorbar\":{\"outlinewidth\":0,\"ticks\":\"\"}},\"type\":\"scattergl\"}],\"scattermapbox\":[{\"marker\":{\"colorbar\":{\"outlinewidth\":0,\"ticks\":\"\"}},\"type\":\"scattermapbox\"}],\"scatterpolargl\":[{\"marker\":{\"colorbar\":{\"outlinewidth\":0,\"ticks\":\"\"}},\"type\":\"scatterpolargl\"}],\"scatterpolar\":[{\"marker\":{\"colorbar\":{\"outlinewidth\":0,\"ticks\":\"\"}},\"type\":\"scatterpolar\"}],\"scatter\":[{\"fillpattern\":{\"fillmode\":\"overlay\",\"size\":10,\"solidity\":0.2},\"type\":\"scatter\"}],\"scatterternary\":[{\"marker\":{\"colorbar\":{\"outlinewidth\":0,\"ticks\":\"\"}},\"type\":\"scatterternary\"}],\"surface\":[{\"colorbar\":{\"outlinewidth\":0,\"ticks\":\"\"},\"colorscale\":[[0.0,\"#0d0887\"],[0.1111111111111111,\"#46039f\"],[0.2222222222222222,\"#7201a8\"],[0.3333333333333333,\"#9c179e\"],[0.4444444444444444,\"#bd3786\"],[0.5555555555555556,\"#d8576b\"],[0.6666666666666666,\"#ed7953\"],[0.7777777777777778,\"#fb9f3a\"],[0.8888888888888888,\"#fdca26\"],[1.0,\"#f0f921\"]],\"type\":\"surface\"}],\"table\":[{\"cells\":{\"fill\":{\"color\":\"#EBF0F8\"},\"line\":{\"color\":\"white\"}},\"header\":{\"fill\":{\"color\":\"#C8D4E3\"},\"line\":{\"color\":\"white\"}},\"type\":\"table\"}]},\"layout\":{\"annotationdefaults\":{\"arrowcolor\":\"#2a3f5f\",\"arrowhead\":0,\"arrowwidth\":1},\"autotypenumbers\":\"strict\",\"coloraxis\":{\"colorbar\":{\"outlinewidth\":0,\"ticks\":\"\"}},\"colorscale\":{\"diverging\":[[0,\"#8e0152\"],[0.1,\"#c51b7d\"],[0.2,\"#de77ae\"],[0.3,\"#f1b6da\"],[0.4,\"#fde0ef\"],[0.5,\"#f7f7f7\"],[0.6,\"#e6f5d0\"],[0.7,\"#b8e186\"],[0.8,\"#7fbc41\"],[0.9,\"#4d9221\"],[1,\"#276419\"]],\"sequential\":[[0.0,\"#0d0887\"],[0.1111111111111111,\"#46039f\"],[0.2222222222222222,\"#7201a8\"],[0.3333333333333333,\"#9c179e\"],[0.4444444444444444,\"#bd3786\"],[0.5555555555555556,\"#d8576b\"],[0.6666666666666666,\"#ed7953\"],[0.7777777777777778,\"#fb9f3a\"],[0.8888888888888888,\"#fdca26\"],[1.0,\"#f0f921\"]],\"sequentialminus\":[[0.0,\"#0d0887\"],[0.1111111111111111,\"#46039f\"],[0.2222222222222222,\"#7201a8\"],[0.3333333333333333,\"#9c179e\"],[0.4444444444444444,\"#bd3786\"],[0.5555555555555556,\"#d8576b\"],[0.6666666666666666,\"#ed7953\"],[0.7777777777777778,\"#fb9f3a\"],[0.8888888888888888,\"#fdca26\"],[1.0,\"#f0f921\"]]},\"colorway\":[\"#636efa\",\"#EF553B\",\"#00cc96\",\"#ab63fa\",\"#FFA15A\",\"#19d3f3\",\"#FF6692\",\"#B6E880\",\"#FF97FF\",\"#FECB52\"],\"font\":{\"color\":\"#2a3f5f\"},\"geo\":{\"bgcolor\":\"white\",\"lakecolor\":\"white\",\"landcolor\":\"#E5ECF6\",\"showlakes\":true,\"showland\":true,\"subunitcolor\":\"white\"},\"hoverlabel\":{\"align\":\"left\"},\"hovermode\":\"closest\",\"mapbox\":{\"style\":\"light\"},\"paper_bgcolor\":\"white\",\"plot_bgcolor\":\"#E5ECF6\",\"polar\":{\"angularaxis\":{\"gridcolor\":\"white\",\"linecolor\":\"white\",\"ticks\":\"\"},\"bgcolor\":\"#E5ECF6\",\"radialaxis\":{\"gridcolor\":\"white\",\"linecolor\":\"white\",\"ticks\":\"\"}},\"scene\":{\"xaxis\":{\"backgroundcolor\":\"#E5ECF6\",\"gridcolor\":\"white\",\"gridwidth\":2,\"linecolor\":\"white\",\"showbackground\":true,\"ticks\":\"\",\"zerolinecolor\":\"white\"},\"yaxis\":{\"backgroundcolor\":\"#E5ECF6\",\"gridcolor\":\"white\",\"gridwidth\":2,\"linecolor\":\"white\",\"showbackground\":true,\"ticks\":\"\",\"zerolinecolor\":\"white\"},\"zaxis\":{\"backgroundcolor\":\"#E5ECF6\",\"gridcolor\":\"white\",\"gridwidth\":2,\"linecolor\":\"white\",\"showbackground\":true,\"ticks\":\"\",\"zerolinecolor\":\"white\"}},\"shapedefaults\":{\"line\":{\"color\":\"#2a3f5f\"}},\"ternary\":{\"aaxis\":{\"gridcolor\":\"white\",\"linecolor\":\"white\",\"ticks\":\"\"},\"baxis\":{\"gridcolor\":\"white\",\"linecolor\":\"white\",\"ticks\":\"\"},\"bgcolor\":\"#E5ECF6\",\"caxis\":{\"gridcolor\":\"white\",\"linecolor\":\"white\",\"ticks\":\"\"}},\"title\":{\"x\":0.05},\"xaxis\":{\"automargin\":true,\"gridcolor\":\"white\",\"linecolor\":\"white\",\"ticks\":\"\",\"title\":{\"standoff\":15},\"zerolinecolor\":\"white\",\"zerolinewidth\":2},\"yaxis\":{\"automargin\":true,\"gridcolor\":\"white\",\"linecolor\":\"white\",\"ticks\":\"\",\"title\":{\"standoff\":15},\"zerolinecolor\":\"white\",\"zerolinewidth\":2}}},\"xaxis\":{\"range\":[-60,60],\"title\":{\"text\":\"X\"}},\"yaxis\":{\"range\":[-60,60],\"title\":{\"text\":\"Y\"}},\"width\":500,\"height\":500,\"showlegend\":false,\"title\":{\"text\":\"Positions of Hits\"},\"shapes\":[{\"line\":{\"color\":\"black\"},\"type\":\"circle\",\"x0\":-10.5,\"x1\":10.5,\"xref\":\"x\",\"y0\":-10.5,\"y1\":10.5,\"yref\":\"y\"},{\"line\":{\"color\":\"black\"},\"type\":\"circle\",\"x0\":-55,\"x1\":55,\"xref\":\"x\",\"y0\":-55,\"y1\":55,\"yref\":\"y\"}]},                        {\"responsive\": true}                    ).then(function(){\n                            \nvar gd = document.getElementById('793c1b76-30da-41a0-9ef4-ce802a58376a');\nvar x = new MutationObserver(function (mutations, observer) {{\n        var display = window.getComputedStyle(gd).display;\n        if (!display || display === 'none') {{\n            console.log([gd, 'removed!']);\n            Plotly.purge(gd);\n            observer.disconnect();\n        }}\n}});\n\n// Listen for the removal of the full notebook cells\nvar notebookContainer = gd.closest('#notebook-container');\nif (notebookContainer) {{\n    x.observe(notebookContainer, {childList: true});\n}}\n\n// Listen for the clearing of the current output cell\nvar outputEl = gd.closest('.output');\nif (outputEl) {{\n    x.observe(outputEl, {childList: true});\n}}\n\n                        })                };                            </script>        </div>\n</body>\n</html>"
                },
                "metadata": {}
              }
            ]
          }
        },
        "42d76c00c92640119124ddfd56ae183e": {
          "model_module": "@jupyter-widgets/base",
          "model_name": "LayoutModel",
          "model_module_version": "1.2.0",
          "state": {
            "_model_module": "@jupyter-widgets/base",
            "_model_module_version": "1.2.0",
            "_model_name": "LayoutModel",
            "_view_count": null,
            "_view_module": "@jupyter-widgets/base",
            "_view_module_version": "1.2.0",
            "_view_name": "LayoutView",
            "align_content": null,
            "align_items": null,
            "align_self": null,
            "border": null,
            "bottom": null,
            "display": null,
            "flex": null,
            "flex_flow": null,
            "grid_area": null,
            "grid_auto_columns": null,
            "grid_auto_flow": null,
            "grid_auto_rows": null,
            "grid_column": null,
            "grid_gap": null,
            "grid_row": null,
            "grid_template_areas": null,
            "grid_template_columns": null,
            "grid_template_rows": null,
            "height": null,
            "justify_content": null,
            "justify_items": null,
            "left": null,
            "margin": null,
            "max_height": null,
            "max_width": null,
            "min_height": null,
            "min_width": null,
            "object_fit": null,
            "object_position": null,
            "order": null,
            "overflow": null,
            "overflow_x": null,
            "overflow_y": null,
            "padding": null,
            "right": null,
            "top": null,
            "visibility": null,
            "width": null
          }
        },
        "966c9d53019643cbbbac5fe308889b1e": {
          "model_module": "@jupyter-widgets/controls",
          "model_name": "FloatSliderModel",
          "model_module_version": "1.5.0",
          "state": {
            "_dom_classes": [],
            "_model_module": "@jupyter-widgets/controls",
            "_model_module_version": "1.5.0",
            "_model_name": "FloatSliderModel",
            "_view_count": null,
            "_view_module": "@jupyter-widgets/controls",
            "_view_module_version": "1.5.0",
            "_view_name": "FloatSliderView",
            "continuous_update": true,
            "description": "z0",
            "description_tooltip": null,
            "disabled": false,
            "layout": "IPY_MODEL_7bea58130ae44cd2add778d4ba6f0675",
            "max": 175,
            "min": 0,
            "orientation": "horizontal",
            "readout": true,
            "readout_format": ".2f",
            "step": 0.1,
            "style": "IPY_MODEL_a48a57735ea44682afb6c00ba42443e9",
            "value": 117.1
          }
        },
        "aabafdc05ddc46ff85b25fa3dc441683": {
          "model_module": "@jupyter-widgets/base",
          "model_name": "LayoutModel",
          "model_module_version": "1.2.0",
          "state": {
            "_model_module": "@jupyter-widgets/base",
            "_model_module_version": "1.2.0",
            "_model_name": "LayoutModel",
            "_view_count": null,
            "_view_module": "@jupyter-widgets/base",
            "_view_module_version": "1.2.0",
            "_view_name": "LayoutView",
            "align_content": null,
            "align_items": null,
            "align_self": null,
            "border": null,
            "bottom": null,
            "display": null,
            "flex": null,
            "flex_flow": "row wrap",
            "grid_area": null,
            "grid_auto_columns": null,
            "grid_auto_flow": null,
            "grid_auto_rows": null,
            "grid_column": null,
            "grid_gap": null,
            "grid_row": null,
            "grid_template_areas": null,
            "grid_template_columns": null,
            "grid_template_rows": null,
            "height": null,
            "justify_content": null,
            "justify_items": null,
            "left": null,
            "margin": null,
            "max_height": null,
            "max_width": null,
            "min_height": null,
            "min_width": null,
            "object_fit": null,
            "object_position": null,
            "order": null,
            "overflow": null,
            "overflow_x": null,
            "overflow_y": null,
            "padding": null,
            "right": null,
            "top": null,
            "visibility": null,
            "width": null
          }
        },
        "332f694626d9403b887cf77670eab08f": {
          "model_module": "@jupyter-widgets/base",
          "model_name": "LayoutModel",
          "model_module_version": "1.2.0",
          "state": {
            "_model_module": "@jupyter-widgets/base",
            "_model_module_version": "1.2.0",
            "_model_name": "LayoutModel",
            "_view_count": null,
            "_view_module": "@jupyter-widgets/base",
            "_view_module_version": "1.2.0",
            "_view_name": "LayoutView",
            "align_content": null,
            "align_items": null,
            "align_self": null,
            "border": null,
            "bottom": null,
            "display": null,
            "flex": null,
            "flex_flow": null,
            "grid_area": null,
            "grid_auto_columns": null,
            "grid_auto_flow": null,
            "grid_auto_rows": null,
            "grid_column": null,
            "grid_gap": null,
            "grid_row": null,
            "grid_template_areas": null,
            "grid_template_columns": null,
            "grid_template_rows": null,
            "height": null,
            "justify_content": null,
            "justify_items": null,
            "left": null,
            "margin": null,
            "max_height": null,
            "max_width": null,
            "min_height": null,
            "min_width": null,
            "object_fit": null,
            "object_position": null,
            "order": null,
            "overflow": null,
            "overflow_x": null,
            "overflow_y": null,
            "padding": null,
            "right": null,
            "top": null,
            "visibility": null,
            "width": null
          }
        },
        "7bea58130ae44cd2add778d4ba6f0675": {
          "model_module": "@jupyter-widgets/base",
          "model_name": "LayoutModel",
          "model_module_version": "1.2.0",
          "state": {
            "_model_module": "@jupyter-widgets/base",
            "_model_module_version": "1.2.0",
            "_model_name": "LayoutModel",
            "_view_count": null,
            "_view_module": "@jupyter-widgets/base",
            "_view_module_version": "1.2.0",
            "_view_name": "LayoutView",
            "align_content": null,
            "align_items": null,
            "align_self": null,
            "border": null,
            "bottom": null,
            "display": null,
            "flex": null,
            "flex_flow": null,
            "grid_area": null,
            "grid_auto_columns": null,
            "grid_auto_flow": null,
            "grid_auto_rows": null,
            "grid_column": null,
            "grid_gap": null,
            "grid_row": null,
            "grid_template_areas": null,
            "grid_template_columns": null,
            "grid_template_rows": null,
            "height": null,
            "justify_content": null,
            "justify_items": null,
            "left": null,
            "margin": null,
            "max_height": null,
            "max_width": null,
            "min_height": null,
            "min_width": null,
            "object_fit": null,
            "object_position": null,
            "order": null,
            "overflow": null,
            "overflow_x": null,
            "overflow_y": null,
            "padding": null,
            "right": null,
            "top": null,
            "visibility": null,
            "width": null
          }
        },
        "a48a57735ea44682afb6c00ba42443e9": {
          "model_module": "@jupyter-widgets/controls",
          "model_name": "SliderStyleModel",
          "model_module_version": "1.5.0",
          "state": {
            "_model_module": "@jupyter-widgets/controls",
            "_model_module_version": "1.5.0",
            "_model_name": "SliderStyleModel",
            "_view_count": null,
            "_view_module": "@jupyter-widgets/base",
            "_view_module_version": "1.2.0",
            "_view_name": "StyleView",
            "description_width": "",
            "handle_color": null
          }
        },
        "e0d2f57488fd44459d02689ee1790ad3": {
          "model_module": "@jupyter-widgets/base",
          "model_name": "LayoutModel",
          "model_module_version": "1.2.0",
          "state": {
            "_model_module": "@jupyter-widgets/base",
            "_model_module_version": "1.2.0",
            "_model_name": "LayoutModel",
            "_view_count": null,
            "_view_module": "@jupyter-widgets/base",
            "_view_module_version": "1.2.0",
            "_view_name": "LayoutView",
            "align_content": null,
            "align_items": null,
            "align_self": null,
            "border": null,
            "bottom": null,
            "display": null,
            "flex": null,
            "flex_flow": null,
            "grid_area": null,
            "grid_auto_columns": null,
            "grid_auto_flow": null,
            "grid_auto_rows": null,
            "grid_column": null,
            "grid_gap": null,
            "grid_row": null,
            "grid_template_areas": null,
            "grid_template_columns": null,
            "grid_template_rows": null,
            "height": null,
            "justify_content": null,
            "justify_items": null,
            "left": null,
            "margin": null,
            "max_height": null,
            "max_width": null,
            "min_height": null,
            "min_width": null,
            "object_fit": null,
            "object_position": null,
            "order": null,
            "overflow": null,
            "overflow_x": null,
            "overflow_y": null,
            "padding": null,
            "right": null,
            "top": null,
            "visibility": null,
            "width": null
          }
        },
        "c7ccf3c4ecde4622b8baad38e1d943da": {
          "model_module": "@jupyter-widgets/controls",
          "model_name": "VBoxModel",
          "model_module_version": "1.5.0",
          "state": {
            "_dom_classes": [],
            "_model_module": "@jupyter-widgets/controls",
            "_model_module_version": "1.5.0",
            "_model_name": "VBoxModel",
            "_view_count": null,
            "_view_module": "@jupyter-widgets/controls",
            "_view_module_version": "1.5.0",
            "_view_name": "VBoxView",
            "box_style": "",
            "children": [
              "IPY_MODEL_e053db47e85d4baca3c4a94462440abd",
              "IPY_MODEL_3cc78e4eaf9149ce9bd82baca1d95ede"
            ],
            "layout": "IPY_MODEL_9652cfd60dd847fd969bccd351e1ad1d"
          }
        },
        "e053db47e85d4baca3c4a94462440abd": {
          "model_module": "@jupyter-widgets/controls",
          "model_name": "HBoxModel",
          "model_module_version": "1.5.0",
          "state": {
            "_dom_classes": [],
            "_model_module": "@jupyter-widgets/controls",
            "_model_module_version": "1.5.0",
            "_model_name": "HBoxModel",
            "_view_count": null,
            "_view_module": "@jupyter-widgets/controls",
            "_view_module_version": "1.5.0",
            "_view_name": "HBoxView",
            "box_style": "",
            "children": [
              "IPY_MODEL_58670a2ed6204708b3f1b3e42a685bcc"
            ],
            "layout": "IPY_MODEL_6fa15bd75e6e4468ab2312be91adffaa"
          }
        },
        "3cc78e4eaf9149ce9bd82baca1d95ede": {
          "model_module": "@jupyter-widgets/output",
          "model_name": "OutputModel",
          "model_module_version": "1.0.0",
          "state": {
            "_dom_classes": [],
            "_model_module": "@jupyter-widgets/output",
            "_model_module_version": "1.0.0",
            "_model_name": "OutputModel",
            "_view_count": null,
            "_view_module": "@jupyter-widgets/output",
            "_view_module_version": "1.0.0",
            "_view_name": "OutputView",
            "layout": "IPY_MODEL_8ab59932395a44948cb7ef9f0f8a7ef7",
            "msg_id": "",
            "outputs": [
              {
                "output_type": "display_data",
                "data": {
                  "text/html": "<html>\n<head><meta charset=\"utf-8\" /></head>\n<body>\n    <div>            <script src=\"https://cdnjs.cloudflare.com/ajax/libs/mathjax/2.7.5/MathJax.js?config=TeX-AMS-MML_SVG\"></script><script type=\"text/javascript\">if (window.MathJax && window.MathJax.Hub && window.MathJax.Hub.Config) {window.MathJax.Hub.Config({SVG: {font: \"STIX-Web\"}});}</script>                <script type=\"text/javascript\">window.PlotlyConfig = {MathJaxConfig: 'local'};</script>\n        <script charset=\"utf-8\" src=\"https://cdn.plot.ly/plotly-2.24.1.min.js\"></script>                <div id=\"1f119660-808d-4a86-a89d-bb1b34ecfd0a\" class=\"plotly-graph-div\" style=\"height:500px; width:500px;\"></div>            <script type=\"text/javascript\">                                    window.PLOTLYENV=window.PLOTLYENV || {};                                    if (document.getElementById(\"1f119660-808d-4a86-a89d-bb1b34ecfd0a\")) {                    Plotly.newPlot(                        \"1f119660-808d-4a86-a89d-bb1b34ecfd0a\",                        [{\"hoverinfo\":\"text\",\"marker\":{\"size\":3},\"mode\":\"markers\",\"text\":[\"Ring: 1.0\\n Wire: 14.0\",\"Ring: 2.0\\n Wire: 14.0\",\"Ring: 3.0\\n Wire: 18.0\",\"Ring: 4.0\\n Wire: 17.0\",\"Ring: 5.0\\n Wire: 24.0\",\"Ring: 7.0\\n Wire: 29.0\",\"Ring: 8.0\\n Wire: 29.0\",\"Ring: 9.0\\n Wire: 28.0\",\"Ring: 10.0\\n Wire: 27.0\",\"Ring: 11.0\\n Wire: 32.0\",\"Ring: 12.0\\n Wire: 32.0\",\"Ring: 13.0\\n Wire: 40.0\",\"Ring: 14.0\\n Wire: 41.0\",\"Ring: 15.0\\n Wire: 45.0\",\"Ring: 16.0\\n Wire: 45.0\",\"Ring: 17.0\\n Wire: 45.0\",\"Ring: 18.0\\n Wire: 46.0\",\"Ring: 19.0\\n Wire: 50.0\",\"Ring: 21.0\\n Wire: 61.0\",\"Ring: 22.0\\n Wire: 61.0\",\"Ring: 23.0\\n Wire: 65.0\",\"Ring: 24.0\\n Wire: 66.0\",\"Ring: 25.0\\n Wire: 67.0\",\"Ring: 26.0\\n Wire: 67.0\",\"Ring: 27.0\\n Wire: 72.0\",\"Ring: 28.0\\n Wire: 71.0\"],\"x\":[-3.91711210103108,-5.241183938076241,-5.935755145232136,-5.717753008107831,-6.487041510196693,-8.480561329775849,-8.253402696441421,-11.16282033481864,-11.04389701477402,-12.127467359052709,-13.501025547213914,-13.990922506435904,-15.349338680833501,-16.017175602192932,-17.391496526790466,-17.465444729692027,-18.84932790614311,-19.744246428553453,-22.022161320822363,-23.438904736249704,-24.194637216799528,-25.62167959720909,-26.567973253617712,-26.593662489201208,-28.781432307893063,-28.831219280932455],\"y\":[9.980642666078968,10.883434339272307,12.436377243628879,14.023989003784688,15.849391488108008,18.86255887519602,20.47055318544396,21.23714047678936,22.853364691748446,24.46798772505489,25.324217911155365,28.088293138403856,28.93886935975675,30.48230801987467,31.3063145363461,33.22120713719473,34.053815166578175,35.49632630719523,37.73463098929154,38.50946091592181,40.008762153380665,40.762615607172926,42.798985937578635,44.405329720321326,44.936061197174034,46.53954348438314],\"type\":\"scatter\",\"uid\":\"56eb3fea-3a0b-41bd-b7d5-30e14bd54e26\"}],                        {\"template\":{\"data\":{\"barpolar\":[{\"marker\":{\"line\":{\"color\":\"#E5ECF6\",\"width\":0.5},\"pattern\":{\"fillmode\":\"overlay\",\"size\":10,\"solidity\":0.2}},\"type\":\"barpolar\"}],\"bar\":[{\"error_x\":{\"color\":\"#2a3f5f\"},\"error_y\":{\"color\":\"#2a3f5f\"},\"marker\":{\"line\":{\"color\":\"#E5ECF6\",\"width\":0.5},\"pattern\":{\"fillmode\":\"overlay\",\"size\":10,\"solidity\":0.2}},\"type\":\"bar\"}],\"carpet\":[{\"aaxis\":{\"endlinecolor\":\"#2a3f5f\",\"gridcolor\":\"white\",\"linecolor\":\"white\",\"minorgridcolor\":\"white\",\"startlinecolor\":\"#2a3f5f\"},\"baxis\":{\"endlinecolor\":\"#2a3f5f\",\"gridcolor\":\"white\",\"linecolor\":\"white\",\"minorgridcolor\":\"white\",\"startlinecolor\":\"#2a3f5f\"},\"type\":\"carpet\"}],\"choropleth\":[{\"colorbar\":{\"outlinewidth\":0,\"ticks\":\"\"},\"type\":\"choropleth\"}],\"contourcarpet\":[{\"colorbar\":{\"outlinewidth\":0,\"ticks\":\"\"},\"type\":\"contourcarpet\"}],\"contour\":[{\"colorbar\":{\"outlinewidth\":0,\"ticks\":\"\"},\"colorscale\":[[0.0,\"#0d0887\"],[0.1111111111111111,\"#46039f\"],[0.2222222222222222,\"#7201a8\"],[0.3333333333333333,\"#9c179e\"],[0.4444444444444444,\"#bd3786\"],[0.5555555555555556,\"#d8576b\"],[0.6666666666666666,\"#ed7953\"],[0.7777777777777778,\"#fb9f3a\"],[0.8888888888888888,\"#fdca26\"],[1.0,\"#f0f921\"]],\"type\":\"contour\"}],\"heatmapgl\":[{\"colorbar\":{\"outlinewidth\":0,\"ticks\":\"\"},\"colorscale\":[[0.0,\"#0d0887\"],[0.1111111111111111,\"#46039f\"],[0.2222222222222222,\"#7201a8\"],[0.3333333333333333,\"#9c179e\"],[0.4444444444444444,\"#bd3786\"],[0.5555555555555556,\"#d8576b\"],[0.6666666666666666,\"#ed7953\"],[0.7777777777777778,\"#fb9f3a\"],[0.8888888888888888,\"#fdca26\"],[1.0,\"#f0f921\"]],\"type\":\"heatmapgl\"}],\"heatmap\":[{\"colorbar\":{\"outlinewidth\":0,\"ticks\":\"\"},\"colorscale\":[[0.0,\"#0d0887\"],[0.1111111111111111,\"#46039f\"],[0.2222222222222222,\"#7201a8\"],[0.3333333333333333,\"#9c179e\"],[0.4444444444444444,\"#bd3786\"],[0.5555555555555556,\"#d8576b\"],[0.6666666666666666,\"#ed7953\"],[0.7777777777777778,\"#fb9f3a\"],[0.8888888888888888,\"#fdca26\"],[1.0,\"#f0f921\"]],\"type\":\"heatmap\"}],\"histogram2dcontour\":[{\"colorbar\":{\"outlinewidth\":0,\"ticks\":\"\"},\"colorscale\":[[0.0,\"#0d0887\"],[0.1111111111111111,\"#46039f\"],[0.2222222222222222,\"#7201a8\"],[0.3333333333333333,\"#9c179e\"],[0.4444444444444444,\"#bd3786\"],[0.5555555555555556,\"#d8576b\"],[0.6666666666666666,\"#ed7953\"],[0.7777777777777778,\"#fb9f3a\"],[0.8888888888888888,\"#fdca26\"],[1.0,\"#f0f921\"]],\"type\":\"histogram2dcontour\"}],\"histogram2d\":[{\"colorbar\":{\"outlinewidth\":0,\"ticks\":\"\"},\"colorscale\":[[0.0,\"#0d0887\"],[0.1111111111111111,\"#46039f\"],[0.2222222222222222,\"#7201a8\"],[0.3333333333333333,\"#9c179e\"],[0.4444444444444444,\"#bd3786\"],[0.5555555555555556,\"#d8576b\"],[0.6666666666666666,\"#ed7953\"],[0.7777777777777778,\"#fb9f3a\"],[0.8888888888888888,\"#fdca26\"],[1.0,\"#f0f921\"]],\"type\":\"histogram2d\"}],\"histogram\":[{\"marker\":{\"pattern\":{\"fillmode\":\"overlay\",\"size\":10,\"solidity\":0.2}},\"type\":\"histogram\"}],\"mesh3d\":[{\"colorbar\":{\"outlinewidth\":0,\"ticks\":\"\"},\"type\":\"mesh3d\"}],\"parcoords\":[{\"line\":{\"colorbar\":{\"outlinewidth\":0,\"ticks\":\"\"}},\"type\":\"parcoords\"}],\"pie\":[{\"automargin\":true,\"type\":\"pie\"}],\"scatter3d\":[{\"line\":{\"colorbar\":{\"outlinewidth\":0,\"ticks\":\"\"}},\"marker\":{\"colorbar\":{\"outlinewidth\":0,\"ticks\":\"\"}},\"type\":\"scatter3d\"}],\"scattercarpet\":[{\"marker\":{\"colorbar\":{\"outlinewidth\":0,\"ticks\":\"\"}},\"type\":\"scattercarpet\"}],\"scattergeo\":[{\"marker\":{\"colorbar\":{\"outlinewidth\":0,\"ticks\":\"\"}},\"type\":\"scattergeo\"}],\"scattergl\":[{\"marker\":{\"colorbar\":{\"outlinewidth\":0,\"ticks\":\"\"}},\"type\":\"scattergl\"}],\"scattermapbox\":[{\"marker\":{\"colorbar\":{\"outlinewidth\":0,\"ticks\":\"\"}},\"type\":\"scattermapbox\"}],\"scatterpolargl\":[{\"marker\":{\"colorbar\":{\"outlinewidth\":0,\"ticks\":\"\"}},\"type\":\"scatterpolargl\"}],\"scatterpolar\":[{\"marker\":{\"colorbar\":{\"outlinewidth\":0,\"ticks\":\"\"}},\"type\":\"scatterpolar\"}],\"scatter\":[{\"fillpattern\":{\"fillmode\":\"overlay\",\"size\":10,\"solidity\":0.2},\"type\":\"scatter\"}],\"scatterternary\":[{\"marker\":{\"colorbar\":{\"outlinewidth\":0,\"ticks\":\"\"}},\"type\":\"scatterternary\"}],\"surface\":[{\"colorbar\":{\"outlinewidth\":0,\"ticks\":\"\"},\"colorscale\":[[0.0,\"#0d0887\"],[0.1111111111111111,\"#46039f\"],[0.2222222222222222,\"#7201a8\"],[0.3333333333333333,\"#9c179e\"],[0.4444444444444444,\"#bd3786\"],[0.5555555555555556,\"#d8576b\"],[0.6666666666666666,\"#ed7953\"],[0.7777777777777778,\"#fb9f3a\"],[0.8888888888888888,\"#fdca26\"],[1.0,\"#f0f921\"]],\"type\":\"surface\"}],\"table\":[{\"cells\":{\"fill\":{\"color\":\"#EBF0F8\"},\"line\":{\"color\":\"white\"}},\"header\":{\"fill\":{\"color\":\"#C8D4E3\"},\"line\":{\"color\":\"white\"}},\"type\":\"table\"}]},\"layout\":{\"annotationdefaults\":{\"arrowcolor\":\"#2a3f5f\",\"arrowhead\":0,\"arrowwidth\":1},\"autotypenumbers\":\"strict\",\"coloraxis\":{\"colorbar\":{\"outlinewidth\":0,\"ticks\":\"\"}},\"colorscale\":{\"diverging\":[[0,\"#8e0152\"],[0.1,\"#c51b7d\"],[0.2,\"#de77ae\"],[0.3,\"#f1b6da\"],[0.4,\"#fde0ef\"],[0.5,\"#f7f7f7\"],[0.6,\"#e6f5d0\"],[0.7,\"#b8e186\"],[0.8,\"#7fbc41\"],[0.9,\"#4d9221\"],[1,\"#276419\"]],\"sequential\":[[0.0,\"#0d0887\"],[0.1111111111111111,\"#46039f\"],[0.2222222222222222,\"#7201a8\"],[0.3333333333333333,\"#9c179e\"],[0.4444444444444444,\"#bd3786\"],[0.5555555555555556,\"#d8576b\"],[0.6666666666666666,\"#ed7953\"],[0.7777777777777778,\"#fb9f3a\"],[0.8888888888888888,\"#fdca26\"],[1.0,\"#f0f921\"]],\"sequentialminus\":[[0.0,\"#0d0887\"],[0.1111111111111111,\"#46039f\"],[0.2222222222222222,\"#7201a8\"],[0.3333333333333333,\"#9c179e\"],[0.4444444444444444,\"#bd3786\"],[0.5555555555555556,\"#d8576b\"],[0.6666666666666666,\"#ed7953\"],[0.7777777777777778,\"#fb9f3a\"],[0.8888888888888888,\"#fdca26\"],[1.0,\"#f0f921\"]]},\"colorway\":[\"#636efa\",\"#EF553B\",\"#00cc96\",\"#ab63fa\",\"#FFA15A\",\"#19d3f3\",\"#FF6692\",\"#B6E880\",\"#FF97FF\",\"#FECB52\"],\"font\":{\"color\":\"#2a3f5f\"},\"geo\":{\"bgcolor\":\"white\",\"lakecolor\":\"white\",\"landcolor\":\"#E5ECF6\",\"showlakes\":true,\"showland\":true,\"subunitcolor\":\"white\"},\"hoverlabel\":{\"align\":\"left\"},\"hovermode\":\"closest\",\"mapbox\":{\"style\":\"light\"},\"paper_bgcolor\":\"white\",\"plot_bgcolor\":\"#E5ECF6\",\"polar\":{\"angularaxis\":{\"gridcolor\":\"white\",\"linecolor\":\"white\",\"ticks\":\"\"},\"bgcolor\":\"#E5ECF6\",\"radialaxis\":{\"gridcolor\":\"white\",\"linecolor\":\"white\",\"ticks\":\"\"}},\"scene\":{\"xaxis\":{\"backgroundcolor\":\"#E5ECF6\",\"gridcolor\":\"white\",\"gridwidth\":2,\"linecolor\":\"white\",\"showbackground\":true,\"ticks\":\"\",\"zerolinecolor\":\"white\"},\"yaxis\":{\"backgroundcolor\":\"#E5ECF6\",\"gridcolor\":\"white\",\"gridwidth\":2,\"linecolor\":\"white\",\"showbackground\":true,\"ticks\":\"\",\"zerolinecolor\":\"white\"},\"zaxis\":{\"backgroundcolor\":\"#E5ECF6\",\"gridcolor\":\"white\",\"gridwidth\":2,\"linecolor\":\"white\",\"showbackground\":true,\"ticks\":\"\",\"zerolinecolor\":\"white\"}},\"shapedefaults\":{\"line\":{\"color\":\"#2a3f5f\"}},\"ternary\":{\"aaxis\":{\"gridcolor\":\"white\",\"linecolor\":\"white\",\"ticks\":\"\"},\"baxis\":{\"gridcolor\":\"white\",\"linecolor\":\"white\",\"ticks\":\"\"},\"bgcolor\":\"#E5ECF6\",\"caxis\":{\"gridcolor\":\"white\",\"linecolor\":\"white\",\"ticks\":\"\"}},\"title\":{\"x\":0.05},\"xaxis\":{\"automargin\":true,\"gridcolor\":\"white\",\"linecolor\":\"white\",\"ticks\":\"\",\"title\":{\"standoff\":15},\"zerolinecolor\":\"white\",\"zerolinewidth\":2},\"yaxis\":{\"automargin\":true,\"gridcolor\":\"white\",\"linecolor\":\"white\",\"ticks\":\"\",\"title\":{\"standoff\":15},\"zerolinecolor\":\"white\",\"zerolinewidth\":2}}},\"xaxis\":{\"range\":[-60,60],\"title\":{\"text\":\"X\"}},\"yaxis\":{\"range\":[-60,60],\"title\":{\"text\":\"Y\"}},\"width\":500,\"height\":500,\"showlegend\":false,\"title\":{\"text\":\"Positions of Hits\"},\"shapes\":[{\"line\":{\"color\":\"black\"},\"type\":\"circle\",\"x0\":-10.5,\"x1\":10.5,\"xref\":\"x\",\"y0\":-10.5,\"y1\":10.5,\"yref\":\"y\"},{\"line\":{\"color\":\"black\"},\"type\":\"circle\",\"x0\":-55,\"x1\":55,\"xref\":\"x\",\"y0\":-55,\"y1\":55,\"yref\":\"y\"}]},                        {\"responsive\": true}                    ).then(function(){\n                            \nvar gd = document.getElementById('1f119660-808d-4a86-a89d-bb1b34ecfd0a');\nvar x = new MutationObserver(function (mutations, observer) {{\n        var display = window.getComputedStyle(gd).display;\n        if (!display || display === 'none') {{\n            console.log([gd, 'removed!']);\n            Plotly.purge(gd);\n            observer.disconnect();\n        }}\n}});\n\n// Listen for the removal of the full notebook cells\nvar notebookContainer = gd.closest('#notebook-container');\nif (notebookContainer) {{\n    x.observe(notebookContainer, {childList: true});\n}}\n\n// Listen for the clearing of the current output cell\nvar outputEl = gd.closest('.output');\nif (outputEl) {{\n    x.observe(outputEl, {childList: true});\n}}\n\n                        })                };                            </script>        </div>\n</body>\n</html>"
                },
                "metadata": {}
              }
            ]
          }
        },
        "9652cfd60dd847fd969bccd351e1ad1d": {
          "model_module": "@jupyter-widgets/base",
          "model_name": "LayoutModel",
          "model_module_version": "1.2.0",
          "state": {
            "_model_module": "@jupyter-widgets/base",
            "_model_module_version": "1.2.0",
            "_model_name": "LayoutModel",
            "_view_count": null,
            "_view_module": "@jupyter-widgets/base",
            "_view_module_version": "1.2.0",
            "_view_name": "LayoutView",
            "align_content": null,
            "align_items": null,
            "align_self": null,
            "border": null,
            "bottom": null,
            "display": null,
            "flex": null,
            "flex_flow": null,
            "grid_area": null,
            "grid_auto_columns": null,
            "grid_auto_flow": null,
            "grid_auto_rows": null,
            "grid_column": null,
            "grid_gap": null,
            "grid_row": null,
            "grid_template_areas": null,
            "grid_template_columns": null,
            "grid_template_rows": null,
            "height": null,
            "justify_content": null,
            "justify_items": null,
            "left": null,
            "margin": null,
            "max_height": null,
            "max_width": null,
            "min_height": null,
            "min_width": null,
            "object_fit": null,
            "object_position": null,
            "order": null,
            "overflow": null,
            "overflow_x": null,
            "overflow_y": null,
            "padding": null,
            "right": null,
            "top": null,
            "visibility": null,
            "width": null
          }
        },
        "58670a2ed6204708b3f1b3e42a685bcc": {
          "model_module": "@jupyter-widgets/controls",
          "model_name": "FloatSliderModel",
          "model_module_version": "1.5.0",
          "state": {
            "_dom_classes": [],
            "_model_module": "@jupyter-widgets/controls",
            "_model_module_version": "1.5.0",
            "_model_name": "FloatSliderModel",
            "_view_count": null,
            "_view_module": "@jupyter-widgets/controls",
            "_view_module_version": "1.5.0",
            "_view_name": "FloatSliderView",
            "continuous_update": true,
            "description": "z0",
            "description_tooltip": null,
            "disabled": false,
            "layout": "IPY_MODEL_b3cbd602ffe94d20b310bdbe3b9d4b61",
            "max": 175,
            "min": 0,
            "orientation": "horizontal",
            "readout": true,
            "readout_format": ".2f",
            "step": 0.1,
            "style": "IPY_MODEL_20ee27d401a0407bbaeb4935ca1eb99f",
            "value": 116
          }
        },
        "6fa15bd75e6e4468ab2312be91adffaa": {
          "model_module": "@jupyter-widgets/base",
          "model_name": "LayoutModel",
          "model_module_version": "1.2.0",
          "state": {
            "_model_module": "@jupyter-widgets/base",
            "_model_module_version": "1.2.0",
            "_model_name": "LayoutModel",
            "_view_count": null,
            "_view_module": "@jupyter-widgets/base",
            "_view_module_version": "1.2.0",
            "_view_name": "LayoutView",
            "align_content": null,
            "align_items": null,
            "align_self": null,
            "border": null,
            "bottom": null,
            "display": null,
            "flex": null,
            "flex_flow": "row wrap",
            "grid_area": null,
            "grid_auto_columns": null,
            "grid_auto_flow": null,
            "grid_auto_rows": null,
            "grid_column": null,
            "grid_gap": null,
            "grid_row": null,
            "grid_template_areas": null,
            "grid_template_columns": null,
            "grid_template_rows": null,
            "height": null,
            "justify_content": null,
            "justify_items": null,
            "left": null,
            "margin": null,
            "max_height": null,
            "max_width": null,
            "min_height": null,
            "min_width": null,
            "object_fit": null,
            "object_position": null,
            "order": null,
            "overflow": null,
            "overflow_x": null,
            "overflow_y": null,
            "padding": null,
            "right": null,
            "top": null,
            "visibility": null,
            "width": null
          }
        },
        "8ab59932395a44948cb7ef9f0f8a7ef7": {
          "model_module": "@jupyter-widgets/base",
          "model_name": "LayoutModel",
          "model_module_version": "1.2.0",
          "state": {
            "_model_module": "@jupyter-widgets/base",
            "_model_module_version": "1.2.0",
            "_model_name": "LayoutModel",
            "_view_count": null,
            "_view_module": "@jupyter-widgets/base",
            "_view_module_version": "1.2.0",
            "_view_name": "LayoutView",
            "align_content": null,
            "align_items": null,
            "align_self": null,
            "border": null,
            "bottom": null,
            "display": null,
            "flex": null,
            "flex_flow": null,
            "grid_area": null,
            "grid_auto_columns": null,
            "grid_auto_flow": null,
            "grid_auto_rows": null,
            "grid_column": null,
            "grid_gap": null,
            "grid_row": null,
            "grid_template_areas": null,
            "grid_template_columns": null,
            "grid_template_rows": null,
            "height": null,
            "justify_content": null,
            "justify_items": null,
            "left": null,
            "margin": null,
            "max_height": null,
            "max_width": null,
            "min_height": null,
            "min_width": null,
            "object_fit": null,
            "object_position": null,
            "order": null,
            "overflow": null,
            "overflow_x": null,
            "overflow_y": null,
            "padding": null,
            "right": null,
            "top": null,
            "visibility": null,
            "width": null
          }
        },
        "b3cbd602ffe94d20b310bdbe3b9d4b61": {
          "model_module": "@jupyter-widgets/base",
          "model_name": "LayoutModel",
          "model_module_version": "1.2.0",
          "state": {
            "_model_module": "@jupyter-widgets/base",
            "_model_module_version": "1.2.0",
            "_model_name": "LayoutModel",
            "_view_count": null,
            "_view_module": "@jupyter-widgets/base",
            "_view_module_version": "1.2.0",
            "_view_name": "LayoutView",
            "align_content": null,
            "align_items": null,
            "align_self": null,
            "border": null,
            "bottom": null,
            "display": null,
            "flex": null,
            "flex_flow": null,
            "grid_area": null,
            "grid_auto_columns": null,
            "grid_auto_flow": null,
            "grid_auto_rows": null,
            "grid_column": null,
            "grid_gap": null,
            "grid_row": null,
            "grid_template_areas": null,
            "grid_template_columns": null,
            "grid_template_rows": null,
            "height": null,
            "justify_content": null,
            "justify_items": null,
            "left": null,
            "margin": null,
            "max_height": null,
            "max_width": null,
            "min_height": null,
            "min_width": null,
            "object_fit": null,
            "object_position": null,
            "order": null,
            "overflow": null,
            "overflow_x": null,
            "overflow_y": null,
            "padding": null,
            "right": null,
            "top": null,
            "visibility": null,
            "width": null
          }
        },
        "20ee27d401a0407bbaeb4935ca1eb99f": {
          "model_module": "@jupyter-widgets/controls",
          "model_name": "SliderStyleModel",
          "model_module_version": "1.5.0",
          "state": {
            "_model_module": "@jupyter-widgets/controls",
            "_model_module_version": "1.5.0",
            "_model_name": "SliderStyleModel",
            "_view_count": null,
            "_view_module": "@jupyter-widgets/base",
            "_view_module_version": "1.2.0",
            "_view_name": "StyleView",
            "description_width": "",
            "handle_color": null
          }
        },
        "1f0abd4c28b24851b439020d7056ace9": {
          "model_module": "@jupyter-widgets/controls",
          "model_name": "VBoxModel",
          "model_module_version": "1.5.0",
          "state": {
            "_dom_classes": [],
            "_model_module": "@jupyter-widgets/controls",
            "_model_module_version": "1.5.0",
            "_model_name": "VBoxModel",
            "_view_count": null,
            "_view_module": "@jupyter-widgets/controls",
            "_view_module_version": "1.5.0",
            "_view_name": "VBoxView",
            "box_style": "",
            "children": [
              "IPY_MODEL_070b04ad004d4ae0b423f074deda0d19",
              "IPY_MODEL_895e05e2087c409eab48b8d23ca63478"
            ],
            "layout": "IPY_MODEL_12caa73e7d2e4bcba17b324166b36d1b"
          }
        },
        "070b04ad004d4ae0b423f074deda0d19": {
          "model_module": "@jupyter-widgets/controls",
          "model_name": "HBoxModel",
          "model_module_version": "1.5.0",
          "state": {
            "_dom_classes": [],
            "_model_module": "@jupyter-widgets/controls",
            "_model_module_version": "1.5.0",
            "_model_name": "HBoxModel",
            "_view_count": null,
            "_view_module": "@jupyter-widgets/controls",
            "_view_module_version": "1.5.0",
            "_view_name": "HBoxView",
            "box_style": "",
            "children": [
              "IPY_MODEL_5c0e925e1c5a481fba90d9e67f187230",
              "IPY_MODEL_03e8fcf7954c4ccaaa6a3e40ce517805",
              "IPY_MODEL_40a0c2fbf5df459e87c3d63429bcf3aa",
              "IPY_MODEL_21d278226b6940a6b666077d2b19ccdf",
              "IPY_MODEL_7d6834e3a38f49c0b4b6dc2102ce1c72"
            ],
            "layout": "IPY_MODEL_73fb9ac054f24eceaa72e075a94bfbb8"
          }
        },
        "895e05e2087c409eab48b8d23ca63478": {
          "model_module": "@jupyter-widgets/output",
          "model_name": "OutputModel",
          "model_module_version": "1.0.0",
          "state": {
            "_dom_classes": [],
            "_model_module": "@jupyter-widgets/output",
            "_model_module_version": "1.0.0",
            "_model_name": "OutputModel",
            "_view_count": null,
            "_view_module": "@jupyter-widgets/output",
            "_view_module_version": "1.0.0",
            "_view_name": "OutputView",
            "layout": "IPY_MODEL_94ec8f0e30dd401dbdebd07a2901f5ab",
            "msg_id": "",
            "outputs": [
              {
                "output_type": "display_data",
                "data": {
                  "text/html": "<html>\n<head><meta charset=\"utf-8\" /></head>\n<body>\n    <div>            <script src=\"https://cdnjs.cloudflare.com/ajax/libs/mathjax/2.7.5/MathJax.js?config=TeX-AMS-MML_SVG\"></script><script type=\"text/javascript\">if (window.MathJax && window.MathJax.Hub && window.MathJax.Hub.Config) {window.MathJax.Hub.Config({SVG: {font: \"STIX-Web\"}});}</script>                <script type=\"text/javascript\">window.PlotlyConfig = {MathJaxConfig: 'local'};</script>\n        <script charset=\"utf-8\" src=\"https://cdn.plot.ly/plotly-2.24.1.min.js\"></script>                <div id=\"e81d253b-3d97-4f96-a235-030712b12702\" class=\"plotly-graph-div\" style=\"height:500px; width:500px;\"></div>            <script type=\"text/javascript\">                                    window.PLOTLYENV=window.PLOTLYENV || {};                                    if (document.getElementById(\"e81d253b-3d97-4f96-a235-030712b12702\")) {                    Plotly.newPlot(                        \"e81d253b-3d97-4f96-a235-030712b12702\",                        [{\"hoverinfo\":\"text\",\"marker\":{\"size\":3},\"mode\":\"markers\",\"text\":[\"Ring: 1.0\\n Wire: 29.0\",\"Ring: 4.0\\n Wire: 36.0\",\"Ring: 6.0\\n Wire: 47.0\",\"Ring: 7.0\\n Wire: 56.0\",\"Ring: 8.0\\n Wire: 56.0\",\"Ring: 9.0\\n Wire: 59.0\",\"Ring: 10.0\\n Wire: 59.0\",\"Ring: 11.0\\n Wire: 68.0\",\"Ring: 12.0\\n Wire: 67.0\",\"Ring: 13.0\\n Wire: 81.0\",\"Ring: 14.0\\n Wire: 81.0\",\"Ring: 15.0\\n Wire: 89.0\",\"Ring: 16.0\\n Wire: 88.0\",\"Ring: 17.0\\n Wire: 92.0\",\"Ring: 18.0\\n Wire: 93.0\",\"Ring: 19.0\\n Wire: 100.0\",\"Ring: 21.0\\n Wire: 114.0\",\"Ring: 22.0\\n Wire: 113.0\",\"Ring: 24.0\\n Wire: 121.0\",\"Ring: 25.0\\n Wire: 126.0\",\"Ring: 26.0\\n Wire: 127.0\",\"Ring: 27.0\\n Wire: 134.0\",\"Ring: 28.0\\n Wire: 133.0\"],\"x\":[-5.360902592959,-7.8345613575849145,-10.244439983470834,-11.287107472713895,-12.766101611470752,-13.247259150574262,-13.289453634902264,-14.65344462381651,-16.11186599981163,-17.32971917606608,-18.782013371454376,-19.724415537153146,-21.191507675069563,-22.671017319625886,-22.836712558410916,-24.846116172511625,-26.227265803756907,-27.724667978188204,-29.965569900764983,-32.616905436545196,-32.88033045789082,-34.703482555727376,-36.22418862789197],\"y\":[-9.285349677249934,-12.960887908404935,-15.529496775342324,-17.40839022920844,-18.091536602807945,-20.07161219584815,-21.69551033401647,-23.103446630313343,-23.812216731283513,-26.16063755508813,-26.83833697296665,-28.22531573264879,-28.869871557515943,-29.957472100232636,-31.565569309647735,-32.174986513828564,-34.98204241152992,-35.58954006536326,-37.723014434943806,-38.38942406227877,-39.974242471120036,-40.537497950839615,-41.04846490687444],\"type\":\"scatter\",\"uid\":\"082938d3-74ae-4149-b31f-2511cc62c1b8\"},{\"marker\":{\"color\":\"red\"},\"mode\":\"lines\",\"name\":\"track\",\"type\":\"scatter\",\"uid\":\"978d611f-c37b-4916-970b-f1611bb369d4\",\"x\":[0.0,0.0,0.0,0.0,0.0,0.0,0.0,0.0,0.0,0.0,0.0,0.0,0.0,0.0,0.0,0.0,0.0,0.0,0.0,0.0,0.0,0.0,0.0,0.0,0.0,0.0,0.0,0.0,0.0,0.0,0.0,0.0,0.0,0.0,0.0,0.0,0.0,0.0,0.0,0.0,0.0,0.0,0.0,0.0,0.0,0.0,0.0,0.0,0.0,0.0,0.0,0.0,0.0,0.0,0.0,0.0,0.0,0.0,0.0,0.0,0.0,0.0,0.0,0.0,0.0,0.0,0.0,0.0,0.0,0.0,0.0,0.0,0.0,0.0,0.0,0.0,0.0,0.0,0.0,0.0,0.0,0.0,0.0,0.0,0.0,0.0,0.0,0.0,0.0,0.0,0.0,0.0,0.0,0.0,0.0,0.0,0.0,0.0,0.0,0.0,0.0,0.0,0.0,0.0,0.0,0.0,0.0,0.0,0.0,0.0,0.0,0.0,0.0,0.0,0.0,0.0,0.0,0.0,0.0,0.0,0.0,0.0,0.0,0.0,0.0,0.0,0.0,0.0,0.0,0.0,0.0,0.0,0.0,0.0,0.0,0.0,0.0,0.0,0.0,0.0,0.0,0.0,0.0,0.0,0.0,0.0,0.0,0.0,0.0,0.0,0.0,0.0,0.0,0.0,0.0,0.0,0.0,0.0,0.0,0.0,0.0,0.0,0.0,0.0,0.0,0.0,0.0,0.0,0.0,0.0,0.0,0.0,0.0,0.0,0.0,0.0,0.0,0.0,0.0,0.0,0.0,0.0,0.0,0.0,0.0,0.0,0.0,0.0,0.0,0.0,0.0,0.0,0.0,0.0,0.0,0.0,0.0,0.0,0.0,0.0,0.0,0.0,0.0,0.0,0.0,0.0,0.0,0.0,0.0,0.0,0.0,0.0,0.0,0.0,0.0,0.0,0.0,0.0,0.0,0.0,0.0,0.0,0.0,0.0,0.0,0.0,0.0,0.0,0.0,0.0,0.0,0.0,0.0,0.0,0.0,0.0,0.0,0.0,0.0,0.0,0.0,0.0,0.0,0.0,0.0,0.0,0.0,0.0,0.0,0.0,0.0,0.0,0.0,0.0,0.0,0.0,0.0,0.0,0.0,0.0,0.0,0.0,0.0,0.0,0.0,0.0,0.0,0.0,0.0,0.0,0.0,0.0,0.0,0.0,0.0,0.0,0.0,0.0,0.0,0.0,0.0,0.0,0.0,0.0,0.0,0.0,0.0,0.0,0.0,0.0,0.0,0.0,0.0,0.0,0.0,0.0,0.0,0.0,0.0,0.0,0.0,0.0,0.0,0.0,0.0,0.0,0.0,0.0,0.0,0.0,0.0,0.0,0.0,0.0,0.0,0.0,0.0,0.0,0.0,0.0,0.0,0.0,0.0,0.0,0.0,0.0,0.0,0.0,0.0,0.0,0.0,0.0,0.0,0.0,0.0,0.0,0.0,0.0,0.0,0.0,0.0,0.0,0.0,0.0,0.0,0.0,0.0,0.0,0.0,0.0,0.0,0.0,0.0,0.0,0.0,0.0,0.0,0.0,0.0,0.0,0.0,0.0,0.0,0.0,0.0,0.0,0.0,0.0,0.0,0.0,0.0,0.0,0.0,0.0,0.0,0.0,0.0,0.0,0.0,0.0,0.0,0.0,0.0,0.0,0.0,0.0,0.0,0.0,0.0,0.0,0.0,0.0,0.0,0.0,0.0,0.0,0.0,0.0,0.0,0.0,0.0,0.0,0.0,0.0,0.0,0.0,0.0,0.0,0.0,0.0,0.0,0.0,0.0,0.0,0.0,0.0,0.0,0.0,0.0,0.0,0.0,0.0,0.0,0.0,0.0,0.0,0.0,0.0,0.0,0.0,0.0,0.0,0.0,0.0,0.0,0.0,0.0,0.0,0.0,0.0,0.0,0.0,0.0,0.0,0.0,0.0,0.0,0.0,0.0,0.0,0.0,0.0,0.0,0.0,0.0,0.0,0.0,0.0,0.0,0.0,0.0,0.0,0.0,0.0,0.0,0.0,0.0,0.0,0.0,0.0,0.0,0.0,0.0,0.0,0.0,0.0,0.0,0.0,0.0,0.0,0.0,0.0,0.0,0.0,0.0,0.0,0.0,0.0,0.0,0.0,0.0,0.0,0.0,0.0,0.0,0.0,0.0,0.0,0.0,0.0,0.0,0.0,0.0,0.0,0.0,0.0,0.0,0.0,0.0,0.0,0.0,0.0,0.0,0.0,0.0,0.0,0.0,0.0,0.0,0.0,0.0,0.0,0.0,0.0,0.0,0.0,0.0,0.0,0.0,0.0,0.0,0.0,0.0,0.0,0.0,0.0,0.0,0.0,0.0,0.0,0.0,0.0,0.0,0.0,0.0,0.0,0.0,0.0,0.0,0.0,0.0,0.0,0.0,0.0,0.0,0.0,0.0,0.0,0.0,0.0,0.0,0.0,0.0,0.0,0.0,0.0,0.0,0.0,0.0,0.0,0.0,0.0,0.0,0.0,0.0,0.0,0.0,0.0,0.0,0.0,0.0,0.0,0.0,0.0,0.0,0.0,0.0,0.0,0.0,0.0,0.0,0.0,0.0,0.0,0.0,0.0,0.0,0.0,0.0,0.0,0.0,0.0,0.0,0.0,0.0,0.0,0.0,0.0,0.0,0.0,0.0,0.0,0.0,0.0,0.0,0.0,0.0,0.0,0.0,0.0,0.0,0.0,0.0,0.0,0.0,0.0,0.0,0.0,0.0,0.0,0.0,0.0,0.0,0.0,0.0,0.0,0.0,0.0,0.0,0.0,0.0,0.0,0.0,0.0,0.0,0.0,0.0,0.0,0.0,0.0,0.0,0.0,0.0,0.0,0.0,0.0,0.0,0.0,0.0,0.0,0.0,0.0,0.0,0.0,0.0,0.0,0.0,0.0,0.0,0.0,0.0,0.0,0.0,0.0,0.0,0.0,0.0,0.0,0.0,0.0,0.0,0.0,0.0,0.0,0.0,0.0,0.0,0.0,0.0,0.0,0.0,0.0,0.0,0.0,0.0,0.0,0.0,0.0,0.0,0.0,0.0,0.0,0.0,0.0,0.0,0.0,0.0,0.0,0.0,0.0,0.0,0.0,0.0,0.0,0.0,0.0,0.0,0.0,0.0,0.0,0.0,0.0,0.0,0.0,0.0,0.0,0.0,0.0,0.0,0.0,0.0,0.0,0.0,0.0,0.0,0.0,0.0,0.0,0.0,0.0,0.0,0.0,0.0,0.0,0.0,0.0,0.0,0.0,0.0,0.0,0.0,0.0,0.0,0.0,0.0,0.0,0.0,0.0,0.0,0.0,0.0,0.0,0.0,0.0,0.0,0.0,0.0,0.0,0.0,0.0,0.0,0.0,0.0,0.0,0.0,0.0,0.0,0.0,0.0,0.0,0.0,0.0,0.0,0.0,0.0,0.0,0.0,0.0,0.0,0.0,0.0,0.0,0.0,0.0,0.0,0.0,0.0,0.0,0.0,0.0,0.0,0.0,0.0,0.0,0.0,0.0,0.0,0.0,0.0,0.0,0.0,0.0,0.0,0.0,0.0,0.0,0.0,0.0,0.0,0.0,0.0,0.0,0.0,0.0,0.0,0.0,0.0,0.0,0.0,0.0,0.0,0.0,0.0,0.0,0.0,0.0,0.0,0.0,0.0,0.0,0.0,0.0,0.0,0.0,0.0,0.0,0.0,0.0,0.0,0.0,0.0,0.0,0.0,0.0,0.0,0.0,0.0,0.0,0.0,0.0,0.0,0.0,0.0,0.0,0.0,0.0,0.0,0.0,0.0,0.0,0.0,0.0,0.0,0.0,0.0,0.0,0.0,0.0,0.0,0.0,0.0,0.0,0.0,0.0,0.0,0.0,0.0,0.0,0.0,0.0,0.0,0.0,0.0,0.0,0.0,0.0,0.0,0.0,0.0,0.0,0.0,0.0,0.0,0.0,0.0,0.0,0.0,0.0,0.0,0.0,0.0,0.0,0.0,0.0,0.0,0.0,0.0,0.0,0.0,0.0,0.0,0.0,0.0,0.0,0.0,0.0,0.0,0.0,0.0,0.0,0.0,0.0,0.0,0.0,0.0,0.0,0.0,0.0,0.0,0.0,0.0,0.0,0.0,0.0,0.0,0.0,0.0,0.0,0.0,0.0,0.0,0.0,0.0,0.0,0.0,0.0,0.0,0.0,0.0,0.0,0.0,0.0,0.0,0.0,0.0,0.0,0.0,0.0,0.0,0.0,0.0,0.0,0.0,0.0,0.0,0.0,0.0,0.0,0.0,0.0,0.0,0.0,0.0,0.0,0.0,0.0,0.0,0.0,0.0,0.0,0.0,0.0,0.0,0.0,0.0,0.0,0.0,0.0,0.0,0.0],\"y\":[0.0,0.0,0.0,0.0,0.0,0.0,0.0,0.0,0.0,0.0,0.0,0.0,0.0,0.0,0.0,0.0,0.0,0.0,0.0,0.0,0.0,0.0,0.0,0.0,0.0,0.0,0.0,0.0,0.0,0.0,0.0,0.0,0.0,0.0,0.0,0.0,0.0,0.0,0.0,0.0,0.0,0.0,0.0,0.0,0.0,0.0,0.0,0.0,0.0,0.0,0.0,0.0,0.0,0.0,0.0,0.0,0.0,0.0,0.0,0.0,0.0,0.0,0.0,0.0,0.0,0.0,0.0,0.0,0.0,0.0,0.0,0.0,0.0,0.0,0.0,0.0,0.0,0.0,0.0,0.0,0.0,0.0,0.0,0.0,0.0,0.0,0.0,0.0,0.0,0.0,0.0,0.0,0.0,0.0,0.0,0.0,0.0,0.0,0.0,0.0,0.0,0.0,0.0,0.0,0.0,0.0,0.0,0.0,0.0,0.0,0.0,0.0,0.0,0.0,0.0,0.0,0.0,0.0,0.0,0.0,0.0,0.0,0.0,0.0,0.0,0.0,0.0,0.0,0.0,0.0,0.0,0.0,0.0,0.0,0.0,0.0,0.0,0.0,0.0,0.0,0.0,0.0,0.0,0.0,0.0,0.0,0.0,0.0,0.0,0.0,0.0,0.0,0.0,0.0,0.0,0.0,0.0,0.0,0.0,0.0,0.0,0.0,0.0,0.0,0.0,0.0,0.0,0.0,0.0,0.0,0.0,0.0,0.0,0.0,0.0,0.0,0.0,0.0,0.0,0.0,0.0,0.0,0.0,0.0,0.0,0.0,0.0,0.0,0.0,0.0,0.0,0.0,0.0,0.0,0.0,0.0,0.0,0.0,0.0,0.0,0.0,0.0,0.0,0.0,0.0,0.0,0.0,0.0,0.0,0.0,0.0,0.0,0.0,0.0,0.0,0.0,0.0,0.0,0.0,0.0,0.0,0.0,0.0,0.0,0.0,0.0,0.0,0.0,0.0,0.0,0.0,0.0,0.0,0.0,0.0,0.0,0.0,0.0,0.0,0.0,0.0,0.0,0.0,0.0,0.0,0.0,0.0,0.0,0.0,0.0,0.0,0.0,0.0,0.0,0.0,0.0,0.0,0.0,0.0,0.0,0.0,0.0,0.0,0.0,0.0,0.0,0.0,0.0,0.0,0.0,0.0,0.0,0.0,0.0,0.0,0.0,0.0,0.0,0.0,0.0,0.0,0.0,0.0,0.0,0.0,0.0,0.0,0.0,0.0,0.0,0.0,0.0,0.0,0.0,0.0,0.0,0.0,0.0,0.0,0.0,0.0,0.0,0.0,0.0,0.0,0.0,0.0,0.0,0.0,0.0,0.0,0.0,0.0,0.0,0.0,0.0,0.0,0.0,0.0,0.0,0.0,0.0,0.0,0.0,0.0,0.0,0.0,0.0,0.0,0.0,0.0,0.0,0.0,0.0,0.0,0.0,0.0,0.0,0.0,0.0,0.0,0.0,0.0,0.0,0.0,0.0,0.0,0.0,0.0,0.0,0.0,0.0,0.0,0.0,0.0,0.0,0.0,0.0,0.0,0.0,0.0,0.0,0.0,0.0,0.0,0.0,0.0,0.0,0.0,0.0,0.0,0.0,0.0,0.0,0.0,0.0,0.0,0.0,0.0,0.0,0.0,0.0,0.0,0.0,0.0,0.0,0.0,0.0,0.0,0.0,0.0,0.0,0.0,0.0,0.0,0.0,0.0,0.0,0.0,0.0,0.0,0.0,0.0,0.0,0.0,0.0,0.0,0.0,0.0,0.0,0.0,0.0,0.0,0.0,0.0,0.0,0.0,0.0,0.0,0.0,0.0,0.0,0.0,0.0,0.0,0.0,0.0,0.0,0.0,0.0,0.0,0.0,0.0,0.0,0.0,0.0,0.0,0.0,0.0,0.0,0.0,0.0,0.0,0.0,0.0,0.0,0.0,0.0,0.0,0.0,0.0,0.0,0.0,0.0,0.0,0.0,0.0,0.0,0.0,0.0,0.0,0.0,0.0,0.0,0.0,0.0,0.0,0.0,0.0,0.0,0.0,0.0,0.0,0.0,0.0,0.0,0.0,0.0,0.0,0.0,0.0,0.0,0.0,0.0,0.0,0.0,0.0,0.0,0.0,0.0,0.0,0.0,0.0,0.0,0.0,0.0,0.0,0.0,0.0,0.0,0.0,0.0,0.0,0.0,0.0,0.0,0.0,0.0,0.0,0.0,0.0,0.0,0.0,0.0,0.0,0.0,0.0,0.0,0.0,0.0,0.0,0.0,0.0,0.0,0.0,0.0,0.0,0.0,0.0,0.0,0.0,0.0,0.0,0.0,0.0,0.0,0.0,0.0,0.0,0.0,0.0,0.0,0.0,0.0,0.0,0.0,0.0,0.0,0.0,0.0,0.0,0.0,0.0,0.0,0.0,0.0,0.0,0.0,0.0,0.0,0.0,0.0,0.0,0.0,0.0,0.0,0.0,0.0,0.0,0.0,0.0,0.0,0.0,0.0,0.0,0.0,0.0,0.0,0.0,0.0,0.0,0.0,0.0,0.0,0.0,0.0,0.0,0.0,0.0,0.0,0.0,0.0,0.0,0.0,0.0,0.0,0.0,0.0,0.0,0.0,0.0,0.0,0.0,0.0,0.0,0.0,0.0,0.0,0.0,0.0,0.0,0.0,0.0,0.0,0.0,0.0,0.0,0.0,0.0,0.0,0.0,0.0,0.0,0.0,0.0,0.0,0.0,0.0,0.0,0.0,0.0,0.0,0.0,0.0,0.0,0.0,0.0,0.0,0.0,0.0,0.0,0.0,0.0,0.0,0.0,0.0,0.0,0.0,0.0,0.0,0.0,0.0,0.0,0.0,0.0,0.0,0.0,0.0,0.0,0.0,0.0,0.0,0.0,0.0,0.0,0.0,0.0,0.0,0.0,0.0,0.0,0.0,0.0,0.0,0.0,0.0,0.0,0.0,0.0,0.0,0.0,0.0,0.0,0.0,0.0,0.0,0.0,0.0,0.0,0.0,0.0,0.0,0.0,0.0,0.0,0.0,0.0,0.0,0.0,0.0,0.0,0.0,0.0,0.0,0.0,0.0,0.0,0.0,0.0,0.0,0.0,0.0,0.0,0.0,0.0,0.0,0.0,0.0,0.0,0.0,0.0,0.0,0.0,0.0,0.0,0.0,0.0,0.0,0.0,0.0,0.0,0.0,0.0,0.0,0.0,0.0,0.0,0.0,0.0,0.0,0.0,0.0,0.0,0.0,0.0,0.0,0.0,0.0,0.0,0.0,0.0,0.0,0.0,0.0,0.0,0.0,0.0,0.0,0.0,0.0,0.0,0.0,0.0,0.0,0.0,0.0,0.0,0.0,0.0,0.0,0.0,0.0,0.0,0.0,0.0,0.0,0.0,0.0,0.0,0.0,0.0,0.0,0.0,0.0,0.0,0.0,0.0,0.0,0.0,0.0,0.0,0.0,0.0,0.0,0.0,0.0,0.0,0.0,0.0,0.0,0.0,0.0,0.0,0.0,0.0,0.0,0.0,0.0,0.0,0.0,0.0,0.0,0.0,0.0,0.0,0.0,0.0,0.0,0.0,0.0,0.0,0.0,0.0,0.0,0.0,0.0,0.0,0.0,0.0,0.0,0.0,0.0,0.0,0.0,0.0,0.0,0.0,0.0,0.0,0.0,0.0,0.0,0.0,0.0,0.0,0.0,0.0,0.0,0.0,0.0,0.0,0.0,0.0,0.0,0.0,0.0,0.0,0.0,0.0,0.0,0.0,0.0,0.0,0.0,0.0,0.0,0.0,0.0,0.0,0.0,0.0,0.0,0.0,0.0,0.0,0.0,0.0,0.0,0.0,0.0,0.0,0.0,0.0,0.0,0.0,0.0,0.0,0.0,0.0,0.0,0.0,0.0,0.0,0.0,0.0,0.0,0.0,0.0,0.0,0.0,0.0,0.0,0.0,0.0,0.0,0.0,0.0,0.0,0.0,0.0,0.0,0.0,0.0,0.0,0.0,0.0,0.0,0.0,0.0,0.0,0.0,0.0,0.0,0.0,0.0,0.0,0.0,0.0,0.0,0.0,0.0,0.0,0.0,0.0,0.0,0.0,0.0,0.0,0.0,0.0,0.0,0.0,0.0,0.0,0.0,0.0,0.0,0.0,0.0,0.0,0.0,0.0,0.0,0.0,0.0,0.0,0.0,0.0,0.0,0.0,0.0,0.0,0.0,0.0,0.0,0.0,0.0,0.0,0.0,0.0,0.0,0.0,0.0,0.0,0.0,0.0,0.0,0.0,0.0,0.0,0.0,0.0,0.0,0.0,0.0,0.0,0.0,0.0,0.0,0.0,0.0,0.0,0.0,0.0,0.0,0.0,0.0,0.0,0.0,0.0]}],                        {\"template\":{\"data\":{\"barpolar\":[{\"marker\":{\"line\":{\"color\":\"#E5ECF6\",\"width\":0.5},\"pattern\":{\"fillmode\":\"overlay\",\"size\":10,\"solidity\":0.2}},\"type\":\"barpolar\"}],\"bar\":[{\"error_x\":{\"color\":\"#2a3f5f\"},\"error_y\":{\"color\":\"#2a3f5f\"},\"marker\":{\"line\":{\"color\":\"#E5ECF6\",\"width\":0.5},\"pattern\":{\"fillmode\":\"overlay\",\"size\":10,\"solidity\":0.2}},\"type\":\"bar\"}],\"carpet\":[{\"aaxis\":{\"endlinecolor\":\"#2a3f5f\",\"gridcolor\":\"white\",\"linecolor\":\"white\",\"minorgridcolor\":\"white\",\"startlinecolor\":\"#2a3f5f\"},\"baxis\":{\"endlinecolor\":\"#2a3f5f\",\"gridcolor\":\"white\",\"linecolor\":\"white\",\"minorgridcolor\":\"white\",\"startlinecolor\":\"#2a3f5f\"},\"type\":\"carpet\"}],\"choropleth\":[{\"colorbar\":{\"outlinewidth\":0,\"ticks\":\"\"},\"type\":\"choropleth\"}],\"contourcarpet\":[{\"colorbar\":{\"outlinewidth\":0,\"ticks\":\"\"},\"type\":\"contourcarpet\"}],\"contour\":[{\"colorbar\":{\"outlinewidth\":0,\"ticks\":\"\"},\"colorscale\":[[0.0,\"#0d0887\"],[0.1111111111111111,\"#46039f\"],[0.2222222222222222,\"#7201a8\"],[0.3333333333333333,\"#9c179e\"],[0.4444444444444444,\"#bd3786\"],[0.5555555555555556,\"#d8576b\"],[0.6666666666666666,\"#ed7953\"],[0.7777777777777778,\"#fb9f3a\"],[0.8888888888888888,\"#fdca26\"],[1.0,\"#f0f921\"]],\"type\":\"contour\"}],\"heatmapgl\":[{\"colorbar\":{\"outlinewidth\":0,\"ticks\":\"\"},\"colorscale\":[[0.0,\"#0d0887\"],[0.1111111111111111,\"#46039f\"],[0.2222222222222222,\"#7201a8\"],[0.3333333333333333,\"#9c179e\"],[0.4444444444444444,\"#bd3786\"],[0.5555555555555556,\"#d8576b\"],[0.6666666666666666,\"#ed7953\"],[0.7777777777777778,\"#fb9f3a\"],[0.8888888888888888,\"#fdca26\"],[1.0,\"#f0f921\"]],\"type\":\"heatmapgl\"}],\"heatmap\":[{\"colorbar\":{\"outlinewidth\":0,\"ticks\":\"\"},\"colorscale\":[[0.0,\"#0d0887\"],[0.1111111111111111,\"#46039f\"],[0.2222222222222222,\"#7201a8\"],[0.3333333333333333,\"#9c179e\"],[0.4444444444444444,\"#bd3786\"],[0.5555555555555556,\"#d8576b\"],[0.6666666666666666,\"#ed7953\"],[0.7777777777777778,\"#fb9f3a\"],[0.8888888888888888,\"#fdca26\"],[1.0,\"#f0f921\"]],\"type\":\"heatmap\"}],\"histogram2dcontour\":[{\"colorbar\":{\"outlinewidth\":0,\"ticks\":\"\"},\"colorscale\":[[0.0,\"#0d0887\"],[0.1111111111111111,\"#46039f\"],[0.2222222222222222,\"#7201a8\"],[0.3333333333333333,\"#9c179e\"],[0.4444444444444444,\"#bd3786\"],[0.5555555555555556,\"#d8576b\"],[0.6666666666666666,\"#ed7953\"],[0.7777777777777778,\"#fb9f3a\"],[0.8888888888888888,\"#fdca26\"],[1.0,\"#f0f921\"]],\"type\":\"histogram2dcontour\"}],\"histogram2d\":[{\"colorbar\":{\"outlinewidth\":0,\"ticks\":\"\"},\"colorscale\":[[0.0,\"#0d0887\"],[0.1111111111111111,\"#46039f\"],[0.2222222222222222,\"#7201a8\"],[0.3333333333333333,\"#9c179e\"],[0.4444444444444444,\"#bd3786\"],[0.5555555555555556,\"#d8576b\"],[0.6666666666666666,\"#ed7953\"],[0.7777777777777778,\"#fb9f3a\"],[0.8888888888888888,\"#fdca26\"],[1.0,\"#f0f921\"]],\"type\":\"histogram2d\"}],\"histogram\":[{\"marker\":{\"pattern\":{\"fillmode\":\"overlay\",\"size\":10,\"solidity\":0.2}},\"type\":\"histogram\"}],\"mesh3d\":[{\"colorbar\":{\"outlinewidth\":0,\"ticks\":\"\"},\"type\":\"mesh3d\"}],\"parcoords\":[{\"line\":{\"colorbar\":{\"outlinewidth\":0,\"ticks\":\"\"}},\"type\":\"parcoords\"}],\"pie\":[{\"automargin\":true,\"type\":\"pie\"}],\"scatter3d\":[{\"line\":{\"colorbar\":{\"outlinewidth\":0,\"ticks\":\"\"}},\"marker\":{\"colorbar\":{\"outlinewidth\":0,\"ticks\":\"\"}},\"type\":\"scatter3d\"}],\"scattercarpet\":[{\"marker\":{\"colorbar\":{\"outlinewidth\":0,\"ticks\":\"\"}},\"type\":\"scattercarpet\"}],\"scattergeo\":[{\"marker\":{\"colorbar\":{\"outlinewidth\":0,\"ticks\":\"\"}},\"type\":\"scattergeo\"}],\"scattergl\":[{\"marker\":{\"colorbar\":{\"outlinewidth\":0,\"ticks\":\"\"}},\"type\":\"scattergl\"}],\"scattermapbox\":[{\"marker\":{\"colorbar\":{\"outlinewidth\":0,\"ticks\":\"\"}},\"type\":\"scattermapbox\"}],\"scatterpolargl\":[{\"marker\":{\"colorbar\":{\"outlinewidth\":0,\"ticks\":\"\"}},\"type\":\"scatterpolargl\"}],\"scatterpolar\":[{\"marker\":{\"colorbar\":{\"outlinewidth\":0,\"ticks\":\"\"}},\"type\":\"scatterpolar\"}],\"scatter\":[{\"fillpattern\":{\"fillmode\":\"overlay\",\"size\":10,\"solidity\":0.2},\"type\":\"scatter\"}],\"scatterternary\":[{\"marker\":{\"colorbar\":{\"outlinewidth\":0,\"ticks\":\"\"}},\"type\":\"scatterternary\"}],\"surface\":[{\"colorbar\":{\"outlinewidth\":0,\"ticks\":\"\"},\"colorscale\":[[0.0,\"#0d0887\"],[0.1111111111111111,\"#46039f\"],[0.2222222222222222,\"#7201a8\"],[0.3333333333333333,\"#9c179e\"],[0.4444444444444444,\"#bd3786\"],[0.5555555555555556,\"#d8576b\"],[0.6666666666666666,\"#ed7953\"],[0.7777777777777778,\"#fb9f3a\"],[0.8888888888888888,\"#fdca26\"],[1.0,\"#f0f921\"]],\"type\":\"surface\"}],\"table\":[{\"cells\":{\"fill\":{\"color\":\"#EBF0F8\"},\"line\":{\"color\":\"white\"}},\"header\":{\"fill\":{\"color\":\"#C8D4E3\"},\"line\":{\"color\":\"white\"}},\"type\":\"table\"}]},\"layout\":{\"annotationdefaults\":{\"arrowcolor\":\"#2a3f5f\",\"arrowhead\":0,\"arrowwidth\":1},\"autotypenumbers\":\"strict\",\"coloraxis\":{\"colorbar\":{\"outlinewidth\":0,\"ticks\":\"\"}},\"colorscale\":{\"diverging\":[[0,\"#8e0152\"],[0.1,\"#c51b7d\"],[0.2,\"#de77ae\"],[0.3,\"#f1b6da\"],[0.4,\"#fde0ef\"],[0.5,\"#f7f7f7\"],[0.6,\"#e6f5d0\"],[0.7,\"#b8e186\"],[0.8,\"#7fbc41\"],[0.9,\"#4d9221\"],[1,\"#276419\"]],\"sequential\":[[0.0,\"#0d0887\"],[0.1111111111111111,\"#46039f\"],[0.2222222222222222,\"#7201a8\"],[0.3333333333333333,\"#9c179e\"],[0.4444444444444444,\"#bd3786\"],[0.5555555555555556,\"#d8576b\"],[0.6666666666666666,\"#ed7953\"],[0.7777777777777778,\"#fb9f3a\"],[0.8888888888888888,\"#fdca26\"],[1.0,\"#f0f921\"]],\"sequentialminus\":[[0.0,\"#0d0887\"],[0.1111111111111111,\"#46039f\"],[0.2222222222222222,\"#7201a8\"],[0.3333333333333333,\"#9c179e\"],[0.4444444444444444,\"#bd3786\"],[0.5555555555555556,\"#d8576b\"],[0.6666666666666666,\"#ed7953\"],[0.7777777777777778,\"#fb9f3a\"],[0.8888888888888888,\"#fdca26\"],[1.0,\"#f0f921\"]]},\"colorway\":[\"#636efa\",\"#EF553B\",\"#00cc96\",\"#ab63fa\",\"#FFA15A\",\"#19d3f3\",\"#FF6692\",\"#B6E880\",\"#FF97FF\",\"#FECB52\"],\"font\":{\"color\":\"#2a3f5f\"},\"geo\":{\"bgcolor\":\"white\",\"lakecolor\":\"white\",\"landcolor\":\"#E5ECF6\",\"showlakes\":true,\"showland\":true,\"subunitcolor\":\"white\"},\"hoverlabel\":{\"align\":\"left\"},\"hovermode\":\"closest\",\"mapbox\":{\"style\":\"light\"},\"paper_bgcolor\":\"white\",\"plot_bgcolor\":\"#E5ECF6\",\"polar\":{\"angularaxis\":{\"gridcolor\":\"white\",\"linecolor\":\"white\",\"ticks\":\"\"},\"bgcolor\":\"#E5ECF6\",\"radialaxis\":{\"gridcolor\":\"white\",\"linecolor\":\"white\",\"ticks\":\"\"}},\"scene\":{\"xaxis\":{\"backgroundcolor\":\"#E5ECF6\",\"gridcolor\":\"white\",\"gridwidth\":2,\"linecolor\":\"white\",\"showbackground\":true,\"ticks\":\"\",\"zerolinecolor\":\"white\"},\"yaxis\":{\"backgroundcolor\":\"#E5ECF6\",\"gridcolor\":\"white\",\"gridwidth\":2,\"linecolor\":\"white\",\"showbackground\":true,\"ticks\":\"\",\"zerolinecolor\":\"white\"},\"zaxis\":{\"backgroundcolor\":\"#E5ECF6\",\"gridcolor\":\"white\",\"gridwidth\":2,\"linecolor\":\"white\",\"showbackground\":true,\"ticks\":\"\",\"zerolinecolor\":\"white\"}},\"shapedefaults\":{\"line\":{\"color\":\"#2a3f5f\"}},\"ternary\":{\"aaxis\":{\"gridcolor\":\"white\",\"linecolor\":\"white\",\"ticks\":\"\"},\"baxis\":{\"gridcolor\":\"white\",\"linecolor\":\"white\",\"ticks\":\"\"},\"bgcolor\":\"#E5ECF6\",\"caxis\":{\"gridcolor\":\"white\",\"linecolor\":\"white\",\"ticks\":\"\"}},\"title\":{\"x\":0.05},\"xaxis\":{\"automargin\":true,\"gridcolor\":\"white\",\"linecolor\":\"white\",\"ticks\":\"\",\"title\":{\"standoff\":15},\"zerolinecolor\":\"white\",\"zerolinewidth\":2},\"yaxis\":{\"automargin\":true,\"gridcolor\":\"white\",\"linecolor\":\"white\",\"ticks\":\"\",\"title\":{\"standoff\":15},\"zerolinecolor\":\"white\",\"zerolinewidth\":2}}},\"xaxis\":{\"range\":[-60,60],\"title\":{\"text\":\"X\"}},\"yaxis\":{\"range\":[-60,60],\"title\":{\"text\":\"Y\"}},\"width\":500,\"height\":500,\"showlegend\":false,\"title\":{\"text\":\"Hits in the Central Drift Chamber\"},\"shapes\":[{\"line\":{\"color\":\"black\"},\"type\":\"circle\",\"x0\":-10.5,\"x1\":10.5,\"xref\":\"x\",\"y0\":-10.5,\"y1\":10.5,\"yref\":\"y\"},{\"line\":{\"color\":\"black\"},\"type\":\"circle\",\"x0\":-55,\"x1\":55,\"xref\":\"x\",\"y0\":-55,\"y1\":55,\"yref\":\"y\"}]},                        {\"responsive\": true}                    ).then(function(){\n                            \nvar gd = document.getElementById('e81d253b-3d97-4f96-a235-030712b12702');\nvar x = new MutationObserver(function (mutations, observer) {{\n        var display = window.getComputedStyle(gd).display;\n        if (!display || display === 'none') {{\n            console.log([gd, 'removed!']);\n            Plotly.purge(gd);\n            observer.disconnect();\n        }}\n}});\n\n// Listen for the removal of the full notebook cells\nvar notebookContainer = gd.closest('#notebook-container');\nif (notebookContainer) {{\n    x.observe(notebookContainer, {childList: true});\n}}\n\n// Listen for the clearing of the current output cell\nvar outputEl = gd.closest('.output');\nif (outputEl) {{\n    x.observe(outputEl, {childList: true});\n}}\n\n                        })                };                            </script>        </div>\n</body>\n</html>"
                },
                "metadata": {}
              }
            ]
          }
        },
        "12caa73e7d2e4bcba17b324166b36d1b": {
          "model_module": "@jupyter-widgets/base",
          "model_name": "LayoutModel",
          "model_module_version": "1.2.0",
          "state": {
            "_model_module": "@jupyter-widgets/base",
            "_model_module_version": "1.2.0",
            "_model_name": "LayoutModel",
            "_view_count": null,
            "_view_module": "@jupyter-widgets/base",
            "_view_module_version": "1.2.0",
            "_view_name": "LayoutView",
            "align_content": null,
            "align_items": null,
            "align_self": null,
            "border": null,
            "bottom": null,
            "display": null,
            "flex": null,
            "flex_flow": null,
            "grid_area": null,
            "grid_auto_columns": null,
            "grid_auto_flow": null,
            "grid_auto_rows": null,
            "grid_column": null,
            "grid_gap": null,
            "grid_row": null,
            "grid_template_areas": null,
            "grid_template_columns": null,
            "grid_template_rows": null,
            "height": null,
            "justify_content": null,
            "justify_items": null,
            "left": null,
            "margin": null,
            "max_height": null,
            "max_width": null,
            "min_height": null,
            "min_width": null,
            "object_fit": null,
            "object_position": null,
            "order": null,
            "overflow": null,
            "overflow_x": null,
            "overflow_y": null,
            "padding": null,
            "right": null,
            "top": null,
            "visibility": null,
            "width": null
          }
        },
        "5c0e925e1c5a481fba90d9e67f187230": {
          "model_module": "@jupyter-widgets/controls",
          "model_name": "FloatSliderModel",
          "model_module_version": "1.5.0",
          "state": {
            "_dom_classes": [],
            "_model_module": "@jupyter-widgets/controls",
            "_model_module_version": "1.5.0",
            "_model_name": "FloatSliderModel",
            "_view_count": null,
            "_view_module": "@jupyter-widgets/controls",
            "_view_module_version": "1.5.0",
            "_view_name": "FloatSliderView",
            "continuous_update": true,
            "description": "z0",
            "description_tooltip": null,
            "disabled": false,
            "layout": "IPY_MODEL_402e240fda6b4df4823b2342e068dcf9",
            "max": 175,
            "min": 0,
            "orientation": "horizontal",
            "readout": true,
            "readout_format": ".2f",
            "step": 0.1,
            "style": "IPY_MODEL_6c6a28697ce44d47aecd5385252ab549",
            "value": 121.4
          }
        },
        "03e8fcf7954c4ccaaa6a3e40ce517805": {
          "model_module": "@jupyter-widgets/controls",
          "model_name": "FloatSliderModel",
          "model_module_version": "1.5.0",
          "state": {
            "_dom_classes": [],
            "_model_module": "@jupyter-widgets/controls",
            "_model_module_version": "1.5.0",
            "_model_name": "FloatSliderModel",
            "_view_count": null,
            "_view_module": "@jupyter-widgets/controls",
            "_view_module_version": "1.5.0",
            "_view_name": "FloatSliderView",
            "continuous_update": true,
            "description": "px",
            "description_tooltip": null,
            "disabled": false,
            "layout": "IPY_MODEL_4593f62df4534ff69a76d536196b565f",
            "max": 1,
            "min": -1,
            "orientation": "horizontal",
            "readout": true,
            "readout_format": ".2f",
            "step": 0.01,
            "style": "IPY_MODEL_8bf4e8481d1d4a16b91a0fb4900fc54b",
            "value": 0
          }
        },
        "40a0c2fbf5df459e87c3d63429bcf3aa": {
          "model_module": "@jupyter-widgets/controls",
          "model_name": "FloatSliderModel",
          "model_module_version": "1.5.0",
          "state": {
            "_dom_classes": [],
            "_model_module": "@jupyter-widgets/controls",
            "_model_module_version": "1.5.0",
            "_model_name": "FloatSliderModel",
            "_view_count": null,
            "_view_module": "@jupyter-widgets/controls",
            "_view_module_version": "1.5.0",
            "_view_name": "FloatSliderView",
            "continuous_update": true,
            "description": "py",
            "description_tooltip": null,
            "disabled": false,
            "layout": "IPY_MODEL_8e6432a542d94cbaa47102e458e8f3fd",
            "max": 1,
            "min": -1,
            "orientation": "horizontal",
            "readout": true,
            "readout_format": ".2f",
            "step": 0.01,
            "style": "IPY_MODEL_d0459334ed884c2f99e6d6335e8d3410",
            "value": 0
          }
        },
        "21d278226b6940a6b666077d2b19ccdf": {
          "model_module": "@jupyter-widgets/controls",
          "model_name": "IntSliderModel",
          "model_module_version": "1.5.0",
          "state": {
            "_dom_classes": [],
            "_model_module": "@jupyter-widgets/controls",
            "_model_module_version": "1.5.0",
            "_model_name": "IntSliderModel",
            "_view_count": null,
            "_view_module": "@jupyter-widgets/controls",
            "_view_module_version": "1.5.0",
            "_view_name": "IntSliderView",
            "continuous_update": true,
            "description": "charge",
            "description_tooltip": null,
            "disabled": false,
            "layout": "IPY_MODEL_d665642649c244ca9a74e7b06c724f4a",
            "max": 1,
            "min": -1,
            "orientation": "horizontal",
            "readout": true,
            "readout_format": "d",
            "step": 2,
            "style": "IPY_MODEL_453b25b88f0e444b8916b617a976e62f",
            "value": 1
          }
        },
        "7d6834e3a38f49c0b4b6dc2102ce1c72": {
          "model_module": "@jupyter-widgets/controls",
          "model_name": "FloatSliderModel",
          "model_module_version": "1.5.0",
          "state": {
            "_dom_classes": [],
            "_model_module": "@jupyter-widgets/controls",
            "_model_module_version": "1.5.0",
            "_model_name": "FloatSliderModel",
            "_view_count": null,
            "_view_module": "@jupyter-widgets/controls",
            "_view_module_version": "1.5.0",
            "_view_name": "FloatSliderView",
            "continuous_update": true,
            "description": "t_max",
            "description_tooltip": null,
            "disabled": false,
            "layout": "IPY_MODEL_1e4c227e62ae4d7f9e1428e10e85e871",
            "max": 6.283185307179586,
            "min": 0,
            "orientation": "horizontal",
            "readout": true,
            "readout_format": ".2f",
            "step": 0.01,
            "style": "IPY_MODEL_04eb6b412d4f473c87bd1466f53552aa",
            "value": 3.14
          }
        },
        "73fb9ac054f24eceaa72e075a94bfbb8": {
          "model_module": "@jupyter-widgets/base",
          "model_name": "LayoutModel",
          "model_module_version": "1.2.0",
          "state": {
            "_model_module": "@jupyter-widgets/base",
            "_model_module_version": "1.2.0",
            "_model_name": "LayoutModel",
            "_view_count": null,
            "_view_module": "@jupyter-widgets/base",
            "_view_module_version": "1.2.0",
            "_view_name": "LayoutView",
            "align_content": null,
            "align_items": null,
            "align_self": null,
            "border": null,
            "bottom": null,
            "display": null,
            "flex": null,
            "flex_flow": "row wrap",
            "grid_area": null,
            "grid_auto_columns": null,
            "grid_auto_flow": null,
            "grid_auto_rows": null,
            "grid_column": null,
            "grid_gap": null,
            "grid_row": null,
            "grid_template_areas": null,
            "grid_template_columns": null,
            "grid_template_rows": null,
            "height": null,
            "justify_content": null,
            "justify_items": null,
            "left": null,
            "margin": null,
            "max_height": null,
            "max_width": null,
            "min_height": null,
            "min_width": null,
            "object_fit": null,
            "object_position": null,
            "order": null,
            "overflow": null,
            "overflow_x": null,
            "overflow_y": null,
            "padding": null,
            "right": null,
            "top": null,
            "visibility": null,
            "width": null
          }
        },
        "94ec8f0e30dd401dbdebd07a2901f5ab": {
          "model_module": "@jupyter-widgets/base",
          "model_name": "LayoutModel",
          "model_module_version": "1.2.0",
          "state": {
            "_model_module": "@jupyter-widgets/base",
            "_model_module_version": "1.2.0",
            "_model_name": "LayoutModel",
            "_view_count": null,
            "_view_module": "@jupyter-widgets/base",
            "_view_module_version": "1.2.0",
            "_view_name": "LayoutView",
            "align_content": null,
            "align_items": null,
            "align_self": null,
            "border": null,
            "bottom": null,
            "display": null,
            "flex": null,
            "flex_flow": null,
            "grid_area": null,
            "grid_auto_columns": null,
            "grid_auto_flow": null,
            "grid_auto_rows": null,
            "grid_column": null,
            "grid_gap": null,
            "grid_row": null,
            "grid_template_areas": null,
            "grid_template_columns": null,
            "grid_template_rows": null,
            "height": null,
            "justify_content": null,
            "justify_items": null,
            "left": null,
            "margin": null,
            "max_height": null,
            "max_width": null,
            "min_height": null,
            "min_width": null,
            "object_fit": null,
            "object_position": null,
            "order": null,
            "overflow": null,
            "overflow_x": null,
            "overflow_y": null,
            "padding": null,
            "right": null,
            "top": null,
            "visibility": null,
            "width": null
          }
        },
        "402e240fda6b4df4823b2342e068dcf9": {
          "model_module": "@jupyter-widgets/base",
          "model_name": "LayoutModel",
          "model_module_version": "1.2.0",
          "state": {
            "_model_module": "@jupyter-widgets/base",
            "_model_module_version": "1.2.0",
            "_model_name": "LayoutModel",
            "_view_count": null,
            "_view_module": "@jupyter-widgets/base",
            "_view_module_version": "1.2.0",
            "_view_name": "LayoutView",
            "align_content": null,
            "align_items": null,
            "align_self": null,
            "border": null,
            "bottom": null,
            "display": null,
            "flex": null,
            "flex_flow": null,
            "grid_area": null,
            "grid_auto_columns": null,
            "grid_auto_flow": null,
            "grid_auto_rows": null,
            "grid_column": null,
            "grid_gap": null,
            "grid_row": null,
            "grid_template_areas": null,
            "grid_template_columns": null,
            "grid_template_rows": null,
            "height": null,
            "justify_content": null,
            "justify_items": null,
            "left": null,
            "margin": null,
            "max_height": null,
            "max_width": null,
            "min_height": null,
            "min_width": null,
            "object_fit": null,
            "object_position": null,
            "order": null,
            "overflow": null,
            "overflow_x": null,
            "overflow_y": null,
            "padding": null,
            "right": null,
            "top": null,
            "visibility": null,
            "width": null
          }
        },
        "6c6a28697ce44d47aecd5385252ab549": {
          "model_module": "@jupyter-widgets/controls",
          "model_name": "SliderStyleModel",
          "model_module_version": "1.5.0",
          "state": {
            "_model_module": "@jupyter-widgets/controls",
            "_model_module_version": "1.5.0",
            "_model_name": "SliderStyleModel",
            "_view_count": null,
            "_view_module": "@jupyter-widgets/base",
            "_view_module_version": "1.2.0",
            "_view_name": "StyleView",
            "description_width": "",
            "handle_color": null
          }
        },
        "4593f62df4534ff69a76d536196b565f": {
          "model_module": "@jupyter-widgets/base",
          "model_name": "LayoutModel",
          "model_module_version": "1.2.0",
          "state": {
            "_model_module": "@jupyter-widgets/base",
            "_model_module_version": "1.2.0",
            "_model_name": "LayoutModel",
            "_view_count": null,
            "_view_module": "@jupyter-widgets/base",
            "_view_module_version": "1.2.0",
            "_view_name": "LayoutView",
            "align_content": null,
            "align_items": null,
            "align_self": null,
            "border": null,
            "bottom": null,
            "display": null,
            "flex": null,
            "flex_flow": null,
            "grid_area": null,
            "grid_auto_columns": null,
            "grid_auto_flow": null,
            "grid_auto_rows": null,
            "grid_column": null,
            "grid_gap": null,
            "grid_row": null,
            "grid_template_areas": null,
            "grid_template_columns": null,
            "grid_template_rows": null,
            "height": null,
            "justify_content": null,
            "justify_items": null,
            "left": null,
            "margin": null,
            "max_height": null,
            "max_width": null,
            "min_height": null,
            "min_width": null,
            "object_fit": null,
            "object_position": null,
            "order": null,
            "overflow": null,
            "overflow_x": null,
            "overflow_y": null,
            "padding": null,
            "right": null,
            "top": null,
            "visibility": null,
            "width": null
          }
        },
        "8bf4e8481d1d4a16b91a0fb4900fc54b": {
          "model_module": "@jupyter-widgets/controls",
          "model_name": "SliderStyleModel",
          "model_module_version": "1.5.0",
          "state": {
            "_model_module": "@jupyter-widgets/controls",
            "_model_module_version": "1.5.0",
            "_model_name": "SliderStyleModel",
            "_view_count": null,
            "_view_module": "@jupyter-widgets/base",
            "_view_module_version": "1.2.0",
            "_view_name": "StyleView",
            "description_width": "",
            "handle_color": null
          }
        },
        "8e6432a542d94cbaa47102e458e8f3fd": {
          "model_module": "@jupyter-widgets/base",
          "model_name": "LayoutModel",
          "model_module_version": "1.2.0",
          "state": {
            "_model_module": "@jupyter-widgets/base",
            "_model_module_version": "1.2.0",
            "_model_name": "LayoutModel",
            "_view_count": null,
            "_view_module": "@jupyter-widgets/base",
            "_view_module_version": "1.2.0",
            "_view_name": "LayoutView",
            "align_content": null,
            "align_items": null,
            "align_self": null,
            "border": null,
            "bottom": null,
            "display": null,
            "flex": null,
            "flex_flow": null,
            "grid_area": null,
            "grid_auto_columns": null,
            "grid_auto_flow": null,
            "grid_auto_rows": null,
            "grid_column": null,
            "grid_gap": null,
            "grid_row": null,
            "grid_template_areas": null,
            "grid_template_columns": null,
            "grid_template_rows": null,
            "height": null,
            "justify_content": null,
            "justify_items": null,
            "left": null,
            "margin": null,
            "max_height": null,
            "max_width": null,
            "min_height": null,
            "min_width": null,
            "object_fit": null,
            "object_position": null,
            "order": null,
            "overflow": null,
            "overflow_x": null,
            "overflow_y": null,
            "padding": null,
            "right": null,
            "top": null,
            "visibility": null,
            "width": null
          }
        },
        "d0459334ed884c2f99e6d6335e8d3410": {
          "model_module": "@jupyter-widgets/controls",
          "model_name": "SliderStyleModel",
          "model_module_version": "1.5.0",
          "state": {
            "_model_module": "@jupyter-widgets/controls",
            "_model_module_version": "1.5.0",
            "_model_name": "SliderStyleModel",
            "_view_count": null,
            "_view_module": "@jupyter-widgets/base",
            "_view_module_version": "1.2.0",
            "_view_name": "StyleView",
            "description_width": "",
            "handle_color": null
          }
        },
        "d665642649c244ca9a74e7b06c724f4a": {
          "model_module": "@jupyter-widgets/base",
          "model_name": "LayoutModel",
          "model_module_version": "1.2.0",
          "state": {
            "_model_module": "@jupyter-widgets/base",
            "_model_module_version": "1.2.0",
            "_model_name": "LayoutModel",
            "_view_count": null,
            "_view_module": "@jupyter-widgets/base",
            "_view_module_version": "1.2.0",
            "_view_name": "LayoutView",
            "align_content": null,
            "align_items": null,
            "align_self": null,
            "border": null,
            "bottom": null,
            "display": null,
            "flex": null,
            "flex_flow": null,
            "grid_area": null,
            "grid_auto_columns": null,
            "grid_auto_flow": null,
            "grid_auto_rows": null,
            "grid_column": null,
            "grid_gap": null,
            "grid_row": null,
            "grid_template_areas": null,
            "grid_template_columns": null,
            "grid_template_rows": null,
            "height": null,
            "justify_content": null,
            "justify_items": null,
            "left": null,
            "margin": null,
            "max_height": null,
            "max_width": null,
            "min_height": null,
            "min_width": null,
            "object_fit": null,
            "object_position": null,
            "order": null,
            "overflow": null,
            "overflow_x": null,
            "overflow_y": null,
            "padding": null,
            "right": null,
            "top": null,
            "visibility": null,
            "width": null
          }
        },
        "453b25b88f0e444b8916b617a976e62f": {
          "model_module": "@jupyter-widgets/controls",
          "model_name": "SliderStyleModel",
          "model_module_version": "1.5.0",
          "state": {
            "_model_module": "@jupyter-widgets/controls",
            "_model_module_version": "1.5.0",
            "_model_name": "SliderStyleModel",
            "_view_count": null,
            "_view_module": "@jupyter-widgets/base",
            "_view_module_version": "1.2.0",
            "_view_name": "StyleView",
            "description_width": "",
            "handle_color": null
          }
        },
        "1e4c227e62ae4d7f9e1428e10e85e871": {
          "model_module": "@jupyter-widgets/base",
          "model_name": "LayoutModel",
          "model_module_version": "1.2.0",
          "state": {
            "_model_module": "@jupyter-widgets/base",
            "_model_module_version": "1.2.0",
            "_model_name": "LayoutModel",
            "_view_count": null,
            "_view_module": "@jupyter-widgets/base",
            "_view_module_version": "1.2.0",
            "_view_name": "LayoutView",
            "align_content": null,
            "align_items": null,
            "align_self": null,
            "border": null,
            "bottom": null,
            "display": null,
            "flex": null,
            "flex_flow": null,
            "grid_area": null,
            "grid_auto_columns": null,
            "grid_auto_flow": null,
            "grid_auto_rows": null,
            "grid_column": null,
            "grid_gap": null,
            "grid_row": null,
            "grid_template_areas": null,
            "grid_template_columns": null,
            "grid_template_rows": null,
            "height": null,
            "justify_content": null,
            "justify_items": null,
            "left": null,
            "margin": null,
            "max_height": null,
            "max_width": null,
            "min_height": null,
            "min_width": null,
            "object_fit": null,
            "object_position": null,
            "order": null,
            "overflow": null,
            "overflow_x": null,
            "overflow_y": null,
            "padding": null,
            "right": null,
            "top": null,
            "visibility": null,
            "width": null
          }
        },
        "04eb6b412d4f473c87bd1466f53552aa": {
          "model_module": "@jupyter-widgets/controls",
          "model_name": "SliderStyleModel",
          "model_module_version": "1.5.0",
          "state": {
            "_model_module": "@jupyter-widgets/controls",
            "_model_module_version": "1.5.0",
            "_model_name": "SliderStyleModel",
            "_view_count": null,
            "_view_module": "@jupyter-widgets/base",
            "_view_module_version": "1.2.0",
            "_view_name": "StyleView",
            "description_width": "",
            "handle_color": null
          }
        },
        "36527c138ae7483eaae303eb0adb9b2a": {
          "model_module": "@jupyter-widgets/controls",
          "model_name": "VBoxModel",
          "model_module_version": "1.5.0",
          "state": {
            "_dom_classes": [],
            "_model_module": "@jupyter-widgets/controls",
            "_model_module_version": "1.5.0",
            "_model_name": "VBoxModel",
            "_view_count": null,
            "_view_module": "@jupyter-widgets/controls",
            "_view_module_version": "1.5.0",
            "_view_name": "VBoxView",
            "box_style": "",
            "children": [
              "IPY_MODEL_6d8bdbcc3df24debb10c7cb4afeb8bd5",
              "IPY_MODEL_6de5f116b0024c71ae4b1d5cd5fce560"
            ],
            "layout": "IPY_MODEL_f5da2fc362b1409d9988797a2079e25f"
          }
        },
        "6d8bdbcc3df24debb10c7cb4afeb8bd5": {
          "model_module": "@jupyter-widgets/controls",
          "model_name": "HBoxModel",
          "model_module_version": "1.5.0",
          "state": {
            "_dom_classes": [],
            "_model_module": "@jupyter-widgets/controls",
            "_model_module_version": "1.5.0",
            "_model_name": "HBoxModel",
            "_view_count": null,
            "_view_module": "@jupyter-widgets/controls",
            "_view_module_version": "1.5.0",
            "_view_name": "HBoxView",
            "box_style": "",
            "children": [
              "IPY_MODEL_a671ec721cae4ff9aaa9c9f9d547749e",
              "IPY_MODEL_9518696f163549b3a7a1f1caa5b431b3",
              "IPY_MODEL_f065b81557514acd9edd198136e781e3",
              "IPY_MODEL_1ec989e4f1be407b9415788639ebf39f",
              "IPY_MODEL_b52694f2f8fa40cca0f8c95023bdbf0c",
              "IPY_MODEL_b925fde218854264bc45106bf335bf9b"
            ],
            "layout": "IPY_MODEL_da7c63eede8f4c83b87418503a5f8e92"
          }
        },
        "6de5f116b0024c71ae4b1d5cd5fce560": {
          "model_module": "@jupyter-widgets/output",
          "model_name": "OutputModel",
          "model_module_version": "1.0.0",
          "state": {
            "_dom_classes": [],
            "_model_module": "@jupyter-widgets/output",
            "_model_module_version": "1.0.0",
            "_model_name": "OutputModel",
            "_view_count": null,
            "_view_module": "@jupyter-widgets/output",
            "_view_module_version": "1.0.0",
            "_view_name": "OutputView",
            "layout": "IPY_MODEL_1f0663382c2b42a0ac761f3f5207b25b",
            "msg_id": "",
            "outputs": [
              {
                "output_type": "display_data",
                "data": {
                  "text/html": "<html>\n<head><meta charset=\"utf-8\" /></head>\n<body>\n    <div>            <script src=\"https://cdnjs.cloudflare.com/ajax/libs/mathjax/2.7.5/MathJax.js?config=TeX-AMS-MML_SVG\"></script><script type=\"text/javascript\">if (window.MathJax && window.MathJax.Hub && window.MathJax.Hub.Config) {window.MathJax.Hub.Config({SVG: {font: \"STIX-Web\"}});}</script>                <script type=\"text/javascript\">window.PlotlyConfig = {MathJaxConfig: 'local'};</script>\n        <script charset=\"utf-8\" src=\"https://cdn.plot.ly/plotly-2.24.1.min.js\"></script>                <div id=\"04d4290a-7123-4cff-8343-a070719fb45d\" class=\"plotly-graph-div\" style=\"height:500px; width:500px;\"></div>            <script type=\"text/javascript\">                                    window.PLOTLYENV=window.PLOTLYENV || {};                                    if (document.getElementById(\"04d4290a-7123-4cff-8343-a070719fb45d\")) {                    Plotly.newPlot(                        \"04d4290a-7123-4cff-8343-a070719fb45d\",                        [{\"hoverinfo\":\"text\",\"marker\":{\"size\":3},\"mode\":\"markers\",\"text\":[\"Ring: 1.0\\n Wire: 36.0\",\"Ring: 2.0\\n Wire: 36.0\",\"Ring: 3.0\\n Wire: 45.0\",\"Ring: 4.0\\n Wire: 44.0\",\"Ring: 5.0\\n Wire: 62.0\",\"Ring: 6.0\\n Wire: 62.0\"],\"x\":[5.360896758800665,6.804733771693012,5.935755340582298,5.71775322839614,9.842146743732355,9.916422369815098],\"y\":[-9.285353045602548,-9.980718931338593,-12.436377150390252,-14.02398891397043,-13.875978122396182,-15.493578399505088],\"type\":\"scatter\",\"uid\":\"b435f1c3-6fc8-460c-91f1-3107846f4537\"},{\"marker\":{\"color\":\"red\"},\"mode\":\"lines\",\"name\":\"track\",\"type\":\"scatter\",\"uid\":\"fd0e6b93-2c48-40b4-80f7-606d76dc7a86\",\"x\":[4.041334437186266e-15,0.2074471058733438,0.4148921623060359,0.6223331198777238,0.8297679292084863,1.0371945409792016,1.2446109059516899,1.4520149749890037,1.6594046990757145,1.866778029338055,2.074132917064275,2.281467313724782,2.4887791709924203,2.696066440762754,2.9033270751741957,3.1105590266283567,3.3177602478101593,3.5249286917081775,3.7320623116347607,3.9391590612462957,4.146216894563467,4.353233765991369,4.560207630339832,4.76713644284352,4.974018159182184,5.180850735500896,5.387632128430139,5.594360295106116,5.8010331931908095,6.0076487808922785,6.214205016984725,6.420699860828709,6.627131272391348,6.833497212266369,7.0397956416943765,7.246024522582887,7.452181817526514,7.658265489827136,7.864273503513913,8.070203823363526,8.276054414920171,8.481823244515711,8.687508279289805,8.893107487209889,9.098618837091376,9.30404029861761,9.509369842359973,9.71460543979798,9.919745063339217,10.124786686339476,10.329728283122705,10.534567829001025,10.73930330029481,10.94393267435256,11.148453929571001,11.352865045414966,11.55716400243738,11.761348782299281,11.965417367789632,12.169367742845386,12.373197892571277,12.576905803259837,12.780489462411207,12.983946858753045,13.187275982260447,13.3904748241757,13.593541377028247,13.796473634654403,13.999269592217289,14.201927246226532,14.404444594558116,14.606819636474189,14.809050372642735,15.011134805157447,15.213070937557351,15.414856774846589,15.616490323514153,15.817969591553497,16.019292588482315,16.220457325362123,16.421461814817935,16.622304071057954,16.82298210989307,17.023493948756602,17.223837606723766,17.424011104531303,17.624012464597055,17.823839711039422,18.023490869696985,18.222963968147916,18.422257035729505,18.621368103557668,18.820295204546305,19.01903637342684,19.217589646767546,19.415953062992976,19.614124662403377,19.812102487194014,20.0098845814745,20.207468991288142,20.404853764631227,20.602036951472346,20.799016603771634,20.99579077549998,21.1923575226583,21.388714903296748,21.584860977533847,21.780793807575723,21.976511457735192,22.17201199445089,22.36729348630644,22.56235400404943,22.757191620610573,22.951804411122666,23.14619045293964,23.340347825655584,23.534274611123642,23.727968893475058,23.92142875913802,24.11465229685659,24.307637597709636,24.500382755129596,24.692885864921422,24.8851450252813,25.07715833681547,25.26892390255903,25.460439827994605,25.65170422107115,25.84271519222255,26.033470854386326,26.223969323022338,26.41420871613129,26.604187154273426,26.793902760587024,26.98335366080696,27.172537983283274,27.361453858999564,27.550099421591565,27.73847280736548,27.92657215531644,28.114395607146918,28.301941307285052,28.489207402902977,28.676192043935114,28.862893383096516,29.049309575901024,29.235438780679587,29.421279158598367,29.60682887367694,29.792086092806485,29.97704898576779,30.16171572524946,30.346084486865838,30.530153449175106,30.713920793697305,30.8973847049322,31.08054337037734,31.263394980545854,31.445937728984376,31.628169812290935,31.810089430132667,31.991694785263718,32.17298408354289,32.353955533951456,32.53460734861079,32.7149377428001,32.894944934973964,33.07462714678,33.253982603076416,33.43300953194958,33.611706164731466,33.79007073601715,33.968101483682275,34.1457966489004,34.32315447616049,34.500173213284135,34.67685111144292,34.85318642517571,35.02917741240583,35.204822334458385,35.38011945607737,35.55506704544276,35.729663374187744,35.903906717415694,36.07779535371728,36.251327565187395,36.42450163744221,36.5973158596361,36.769768524478444,36.941857928250634,37.11358237082282,37.284940155670725,37.45592958989243,37.626548984225046,37.796796653061456,37.96667091446693,38.136170090195776,38.305292505707875,38.47403649018529,38.64240037654869,38.810382501473896,38.977981205408256,39.14519483258708,39.31202173104998,39.4784602526572,39.64450875310587,39.810165591946266,39.97542913259807,40.14029774236646,40.30476979245826,40.46884365799805,40.63251771804423,40.795790355604986,40.958659957654305,41.12112491514792,41.28318362303915,41.44483448029481,41.60607588991102,41.76690625892895,41.92732399845059,42.08732752365446,42.2469152538112,42.40608561229927,42.56483702662047,42.72316792841547,42.88107675347939,43.03856194177713,43.19562193745885,43.35225518887536,43.508460148593414,43.66423527341097,43.81957902437254,43.974489866784246,44.128966270229114,44.283006708582136,44.43660966002533,44.589773607062824,44.742497036535795,44.89477843963744,45.04661631192792,45.19800915334915,45.34895546823968,45.49945376534943,45.64950255785447,45.79910036337164,45.94824570397327,46.09693710620172,46.245173101083964,46.39295222414612,46.540273015427864,46.68713401949694,46.83353378546344,46.979470866994184,47.12494382232704,47.26995121428514,47.41449161029103,47.558563582380906,47.70216570721866,47.845296566109994,47.987954745016395,48.13013883456909,48.27184743008303,48.413079131570726,48.55383254375607,48.69410627608818,48.833898942755035,48.973209162697266,49.112035559621745,49.25037676201521,49.38823140315778,49.52559812113651,49.66247555885877,49.798862364065734,49.93475718934569,50.07015869214736,50.205065534793164,50.33947638449244,50.47338991335463,50.60680479840233,50.73971972158447,50.872133369789225,51.00404443485706,51.13545161359361,51.2663536077826,51.39674912419863,51.52663687461997,51.65601557584128,51.7848839496863,51.91324072302046,52.041084627763446,52.168414400901796,52.2952287845013,52.42152652571944,52.54730637681782,52.67256709517443,52.79730744329596,52.92152618883002,53.045222104577306,53.168393968503715,53.29104056375243,53.413160678655984,53.53475310674813,53.65581664677586,53.77635010271122,53.89635228376312,54.01582200438914,54.13475808430721,54.25315934850727,54.3710246272629,54.48835275614286,54.60514257602258,54.72139293309565,54.83710267888518,54.952270670255174,55.066895769421826,55.18097684396471,55.29451276683803,55.407502416381725,55.51994467633255,55.631838435835114,55.74318258945285,55.85397603717893,55.964217684447135,56.07390644214268,56.18304122661294,56.29162095967823,56.39964456864234,56.50711098630327,56.61401915096364,56.720368006441284,56.82615650207963,56.93138359275807,57.03604823890234,57.14014940649475,57.24368606708438,57.34665719779731,57.44906178134664,57.55089880604261,57.652167265802554,57.75286616016086,57.85299449427885,57.95255127895459,58.05153553063269,58.14994627141401,58.247782529065304,58.345043337028855,58.441727734432014,58.53783476609669,58.63336348254873,58.72831294002745,58.822682200494775,58.91647033164466,59.00967640691218,59.102299505482776,59.1943387123013,59.28579311808108,59.37666181931287,59.46694391827383,59.55663852303632,59.6457447474768,59.73426171128452,59.82218853997024,59.90952436487487,59.99626832317802,60.0824195579066,60.16797721794318,60.25294045803452,60.33730843879981,60.42108032673903,60.504255294241155,60.58683251959234,60.66881118698406,60.750190486521106,60.83096961422968,60.91114777206525,60.99072416792046,61.069698015633016,61.14806853499334,61.225834951752404,61.302996497629266,61.37955241031871,61.45550193349883,61.530844316838376,61.6055788160043,61.679704692669006,61.75322121451772,61.826127655255675,61.89842329461529,61.970107418363334,62.041179318307904,62.1116382923055,62.18148364426793,62.25071468416913,62.31933072805211,62.38733109803556,62.454715122320685,62.52148213519774,62.58763147705267,62.65316249437356,62.718074539757204,62.78236697191537,62.846039155681225,62.909090462015556,62.97152026801305,63.033327956908366,63.09451291808231,63.15507454706778,63.215012245555826,63.274325421401514,63.333013488629746,63.39107586744114,63.44851198421765,63.50532127152833,63.56150316813487,63.61705711899717,63.67198257527882,63.72627899435253,63.77994583980549,63.83298258144463,63.88538869530192,63.93716366363951,63.98830697495484,64.03881812398572,64.0886966117153,64.13794194537701,64.18655363845942,64.23453121071104,64.2818741881451,64.3285821030442,64.37465449396494,64.42009090574246,64.46489088949497,64.50905400262818,64.55257980883962,64.59546787812307,64.63771778677265,64.67932911738711,64.72030145887398,64.76063440645349,64.80032756166274,64.83938053235953,64.87779293272622,64.91556438327368,64.95269451084484,64.9891829486185,65.02502933611302,65.06023331918968,65.09479455005633,65.12871268727082,65.16198739574432,65.19461834674462,65.22660521789946,65.25794769319964,65.28864546300217,65.31869822403331,65.34810567939161,65.3768675385508,65.40498351736267,65.43245333805987,65.4592767292587,65.48545342596175,65.51098316956052,65.53586570783793,65.56010079497095,65.58368819153289,65.6066276644958,65.62891898723285,65.65056193952044,65.67155630754048,65.69190188388245,65.71159846754549,65.73064586394031,65.74904388489121,65.76679234863788,65.78389107983718,65.80033990956491,65.81613867531752,65.83128722101358,65.84578539699548,65.85963306003077,65.8728300733137,65.88537630646644,65.89727163554052,65.9085159430179,65.91910911781224,65.92905105526998,65.9383416571713,65.94698083173122,65.95496849360035,65.96230456386589,65.96898897005227,65.97502164612199,65.98040253247618,65.98513157595521,65.98920872983929,65.9926339538488,65.99540721414479,65.99752848332928,65.99899774044552,65.99981497097824,65.9999801668537,65.99949332643992,65.99835445454653,65.99656356242485,65.99412066776772,65.9910257947093,65.98727897382493,65.9828802421307,65.9778296430832,65.972127226579,65.96577304895423,65.95876717298397,65.95110966788167,65.94280060929839,65.93384007932221,65.9242281664772,65.91396496572277,65.90305057845255,65.8914851124935,65.87926868210478,65.8664014079767,65.8528834172294,65.83871484341178,65.82389582649995,65.80842651289603,65.79230705542669,65.77553761334148,65.75811835231148,65.74004944442748,65.72133106819838,65.70196340854939,65.68194665682024,65.6612810107632,65.63996667454127,65.61800385872603,65.5953927802956,65.57213366263254,65.5482267355216,65.52367223514743,65.49847040409236,65.47262149133381,65.44612575224203,65.41898344857744,65.3911948484881,65.36276022650706,65.33367986354965,65.30395404691068,65.2735830702616,65.24256723364766,65.21090684348485,65.178602212557,65.1456536600125,65.11206151136136,65.07782609847187,65.04294775956733,65.00742683922272,64.9712636883613,64.93445866425121,64.89701213050178,64.85892445706007,64.82019602020722,64.78082720255462,64.74081839304024,64.70016998692473,64.65888238578758,64.61695599752302,64.57439123633614,64.53118852273873,64.48734828354512,64.44287095186793,64.39775696711392,64.35200677497947,64.30562082744636,64.25859958277714,64.2109435055107,64.16265306645768,64.11372874269577,64.06417101756504,64.01398038066314,63.96315732784048,63.91170236119529,63.859615989068715,63.8068987260398,63.75355109292032,63.69957361674972,63.64496683078988,63.58973127451985,63.53386749363051,63.47737604001916,63.42025747178415,63.36251235321924,63.30414125480815,63.245144753218845,63.18552343129786,63.12527787806455,63.06440868870526,63.00291646456744,62.94080181315373,62.878065348115946,62.814707689248976,62.75072946248471,62.686131299885886,62.62091383963973,62.55507772605175,62.48862360953935,62.42155214662539,62.3538639999317,62.28555983817253,62.216640336147975,62.147106174737274,62.0769580408921,62.00619662762976,61.93482263402637,61.86283676520992,61.790239732353335,61.71703225266744,61.64321504939386,61.5687888517979,61.49375439516132,61.41811242077509,61.34186367593202,61.265008913919466,61.18754889401179,61.10948438146292,61.03081614749877,60.95154496930962,60.871671630042464,60.79119691879321,60.71012163059897,60.62844656643011,60.54617253318242,60.46330034366913,60.37983081661281,60.29576477663736,60.21110305425983,60.125846485882214,60.03999591378321,59.95355218610985,59.86651615686918,59.77888868591978,59.69067063896329,59.601862887535844,59.51246630899951,59.42248178653349,59.331910209125574,59.24075247156321,59.14900947442476,59.05668212407055,58.96377133263391,58.87027801801221,58.77620310385777,58.6815475195687,58.58631220027978,58.49049808685315,58.3941061258691,58.29713726961665,58.19959247608416,58.101472708949885,58.00277893757242,57.90351213698117,57.803673287866665,57.70326337657093,57.60228339507766,57.500734341002506,57.398617217583165,57.2959330336695,57.192682803713545,57.088867547759484,56.98448829143361,56.87954606593415,56.774041908021104,56.66797686000602,56.56135196974159,56.45416829061146,56.346426881519704,56.23812880688042,56.129275136607184,56.01986694610247,55.90990531624708,55.79939133338941,55.688326089334744,55.576710681334504,55.46454621207528,55.35183378966809,55.23857452763737,55.124769544909945,55.010419965804026,54.895526920018035,54.78009154261953,54.66411497403393,54.54759836003328,54.43054285172487,54.312949605539984,54.19481978322233,54.07615455181669,53.95695508365733,53.83722255635636,53.71695815279223,53.59616306109796,53.4748384746494,53.352985592053514,53.23060561713639,53.10769975893151,52.98426923166772,52.86031525475726,52.73583905278371,52.61084185548984,52.48532489776556,52.359289419635665,52.232736666247575,52.10566788785907,51.978084339825884,51.84998728258935,51.721377981663956,51.59225770762478,51.462627736095044,51.33248934773334,51.20184382822117,51.07069246825014,50.93903656350919,50.8068774146719,50.674216327383476,50.54105461224802,50.40739358481547,50.27323456556867,50.13857887991029,50.00342785814968,49.86778283548984,49.73164515201418,49.59501615267327,49.45789718727149,49.32028961045385,49.182194781692466,49.04361406527321,48.90454883028221,48.765000450592254,48.62497030484935,48.48445977645902,48.34347025357263,48.20200312907374,48.06005980056423,47.91764167035062,47.77475014543013,47.63138663747683,47.48755256282765,47.343249342468404,47.198478402019774,47.053241171723215,46.90753908642678,46.76137358557106,46.61474611317477,46.46765811782068,46.320111052641224,46.17210637530413,46.02364554799802,45.874730037417976,45.725361314751076,45.57554085566179,45.42527014027751,45.27455065317383,45.12338388335988,44.971771324263685,44.81971447371738,44.667214833942396,44.514273911534644,44.36089321744956,44.20707426698729,44.05281857977767,43.89812767976519,43.74300309519391,43.58744635859248,43.43145900675889,43.27504258074533,43.11819862584299,42.96092869156669,42.80323433163971,42.64511710397834,42.48657857067658,42.32762029799059,42.168243856323286,42.008450820208836,41.8482427682971,41.68762128333798,41.5265879521659,41.36514436568393,41.20329211884831,41.041032810652496,40.87836804411149,40.71529942624596,40.55182856806629,40.3879570845568,40.223686594659725,40.059018721259164,39.89395509116518,39.728497335097565,39.56264708766989,39.39640598737323,39.22977567656007,39.06275780142802,38.89535401200355,38.72756596212574,38.55939530942989,38.39084371533118,38.221912845008255,38.05260436738668,37.88291995512261,37.712861284586175,37.54243003584491,37.371627892647204,37.200456542405576,37.02891767618014,36.857012988661786,36.68474417815552,36.512112946563555,36.33912099936867,36.16577004561724,35.9920617979024,35.817997972347136,35.64358028858724,35.46881046975443,35.29369024245931,35.11822133677426,34.94240548621641,34.76624442773038,34.589739901671315,34.41289365178757,34.235707425203486,34.058182972402186,33.88032204720817,33.70212640677014,33.52359781154353,33.344738025273166,33.16554881497582,32.98603195092271,32.806189206622115,32.626022358801784,32.44553318739137,32.26472347550493,32.08359500942314,31.902149578575862,31.720388975524322,31.538314995943434,31.3559294386041,31.17323410535533,30.990230801106584,30.806921333809854,30.623307514441812,30.43939115698597,30.25517407841462,30.07065809867107,29.88584504065155,29.70073673018724,29.515334996026162,29.329641669815224,29.143658586082072,28.957387582216946,28.770830498454576,28.5839891778559,28.396865466290006,28.20946121241579,28.02177826766372,27.833818486217574,27.64558372499602,27.45707584363441,27.268296704466334,27.079248172505224,26.88993211542595,26.70035040354629,26.510504909808592,26.32039750976116,26.130030081539772,25.939404505849126,25.74852266594418,25.557386447611687,25.365997739151464,25.174358431357767,24.98247041750063,24.790335593307063,24.597955856942477,24.405333108991833,24.212469252440876,24.019366192657383,23.826025837372207,23.63245009666062,23.438640882923316,23.244600110867534,23.050329697488202,22.855831562048866,22.661107626062897,22.466159813274388,22.27099004963923,22.07560026330596,21.879992384596864,21.684168345988823,21.488130082094223,21.29187952964189,21.095418627457835,20.898749316446267,20.70187353957032,20.504793241832857,20.307510370257322,20.110026873868343,19.912344703672698,19.71446581263989,19.5163921556829,19.318125689638897,19.119668373249784,18.92102216714303,18.722189033812178,18.5231709375975,18.323969844666593,18.12458772299486,17.925026542346245,17.725288274253632,17.525374891999423,17.325288370596052,17.125030686766376,16.92460381892431,16.724009747155158,16.5232504531961,16.32232792041662,16.121244133798818,15.920001079917954,15.71860074692272,15.517045124515617,15.315336203933336,15.113475977926965,14.911466440742476,14.709309588100908,14.50700741717871,14.304561926587892,14.101975116356453,13.899248987908512,13.696385544044555,13.493386788921686,13.290254728033709,13.086991368191486,12.883598717502997,12.68007878535353,12.476433582385862,12.272665120480275,12.068775412734848,11.864766473445473,11.660640318085958,11.45639896328817,11.25204442682197,11.047578727575479,10.843003885534994,10.638321921765078,10.43353485838861,10.2286447185667,10.023653526478872,9.818563307302949,9.613376087195077,9.408093893269738,9.202718753579603,8.997252697095675,8.791697753687124,8.586055954101267,8.38032932994353,8.174519913657262,7.968629738503833,7.762660838542424,7.556615248609972,7.3504950043010835,7.144302141947816,6.938038698599732,6.731706712003661,6.5253082205836215,6.318845263420567,6.112319880232421,5.905734111353803,5.699089997715905,5.492389580826356,5.285634902748935,5.078828006083574,4.871970933946061,4.665065729947885,4.458114438176074,4.251119103172889,4.04408176991579,3.83700448379713,3.629889290603965,3.4227382364978793,3.21555336799465,3.008336731944209,2.8010903755102987,2.5938163461502795,2.386516691594932,2.179193459828108,1.9718486990666775,1.7644844577401697,1.5571027844705705,1.3497057280521114,1.1422953374309117,0.9348736616849106,0.7274427500035086,0.5200046516673504,0.3125614160281101,0.10511509248812663],\"y\":[0.0,-0.0003260182426032543,-0.0013040697495512177,-0.0029341448583579677,-0.0052162274649418805,-0.008150295023824583,-0.011736318548386748,-0.015974262611052836,-0.02086408534373163,-0.026405738438185722,-0.03259916714658573,-0.03944431028187978,-0.04694110021860354,-0.055089462893405994,-0.06388931780583107,-0.07334057801911342,-0.08344315016104531,-0.09419693442487187,-0.10560182457027167,-0.11765770792449359,-0.13036446538332314,-0.14372197141237564,-0.1577300940483184,-0.1723886949001212,-0.1876976291504775,-0.20365674555721114,-0.22026588645475442,-0.2375248877557823,-0.2554335789527187,-0.2739917831194987,-0.29319931691330225,-0.31305599057637323,-0.3335616079378667,-0.3547159664157675,-0.37651885701900767,-0.39897006434938476,-0.4220693666037647,-0.44581653557629863,-0.4702113366605687,-0.49525352885206075,-0.5209428647504097,-0.5472790905619149,-0.5742619461020411,-0.6018911647979621,-0.6301664736912045,-0.6590875934403613,-0.688654238323835,-0.7188661162426797,-0.7497229287234575,-0.7812243709211941,-0.8133701316224347,-0.8461598932482275,-0.8795933318573645,-0.9136701171494934,-0.9483899124684712,-0.9837523748056185,-1.0197571548030737,-1.056403896757402,-1.0936922386229213,-1.1316218120154105,-1.1701922422157054,-1.209403148173351,-1.2492541425104804,-1.2897448315255247,-1.3308748151971912,-1.3726436871883436,-1.415051034850066,-1.4580964392257272,-1.501779475055116,-1.5460997107786483,-1.5910567085415863,-1.6366500241984596,-1.682879207317356,-1.7297438011844264,-1.7772433428084042,-1.8253773629250958,-1.874145386002155,-1.9235469302436456,-1.9735815075948864,-2.0242486237472406,-2.0755477781430187,-2.127478463980381,-2.1800401682183974,-2.2332323715820834,-2.2870545485675464,-2.341506167447143,-2.396586690274809,-2.4522955728912734,-2.508632264929517,-2.565596209820157,-2.623186844796976,-2.6814036009024846,-2.740245902993493,-2.799713169746873,-2.859804813665228,-2.920520241082727,-2.981858852170994,-3.043820040944979,-3.106403195269003,-3.169607696862748,-3.2334329213074184,-3.2978782380518723,-3.3629430104188884,-3.428626595611391,-3.494928344718872,-3.561847602723766,-3.6293837085079232,-3.6975359948591517,-3.766303788477792,-3.8356864099833743,-3.9056831739213536,-3.9762933887698537,-4.047516356946495,-4.119351374815324,-4.191797732693715,-4.264854714859425,-4.33852159955763,-4.412797659008085,-4.487682159412294,-4.563174360960765,-4.639273517840316,-4.715978878241444,-4.7932896843657815,-4.871205172433527,-4.949724572691018,-5.028847109418365,-5.108572000937059,-5.1888984596177465,-5.269825691887974,-5.35135289824003,-5.433479273238888,-5.516204005530092,-5.599526277847843,-5.683445267023018,-5.767960143991338,-5.85307007380154,-5.938774215623624,-6.025071722757183,-6.111961742639743,-6.199443416855182,-6.287515881142255,-6.376178265403084,-6.465429693711755,-6.555269284322996,-6.645696149680916,-6.736709396427663,-6.828308125412406,-6.920491431700057,-7.013258404580355,-7.10660812757677,-7.200539678455563,-7.295052129234975,-7.390144546194271,-7.485815989883086,-7.582065515130644,-7.678892171055068,-7.77629500107286,-7.874273042908271,-7.9728253286028306,-8.07195088452496,-8.171648731379499,-8.271917884217473,-8.372757352445745,-8.474166139836854,-8.576143244538855,-8.678687659085185,-8.781798370404623,-8.885474359831335,-8.989714603114898,-9.094518070430432,-9.19988372638879,-9.305810530046749,-9.412297434917342,-9.519343388980133,-9.626947334691685,-9.735108208995975,-9.843824943334866,-9.953096463658689,-10.062921690436873,-10.173299538668594,-10.284228917893486,-10.395708732202415,-10.507737880248328,-10.620315255257076,-10.733439745038446,-10.84711023199705,-10.961325593143421,-11.076084700105106,-11.191386419137778,-11.307229611136485,-11.423613131646853,-11.540535830876443,-11.657996553706077,-11.775994139701247,-11.894527423123613,-12.013595232942478,-12.13319639284638,-12.253329721254723,-12.373994031329438,-12.49518813098667,-12.616910822908629,-12.73916090455539,-12.86193716817673,-12.985238400824109,-13.10906338436267,-13.233410895483182,-13.358279705714232,-13.483668581434316,-13.609576283883996,-13.736001569178192,-13.862943188318432,-13.990399887205221,-14.118370406650406,-14.246853482389625,-14.37584784509481,-14.505352220386705,-14.635365328847449,-14.76588588603326,-14.896912602487092,-15.028444183751368,-15.160479330380795,-15.29301673795517,-15.426055097092288,-15.559593093460876,-15.693629407793573,-15.828162715899971,-15.963191688679679,-16.098714992135477,-16.234731287386488,-16.37123923068137,-16.50823747341166,-16.645724662125055,-16.783699438538754,-16.922160439552954,-17.06110629726424,-17.200535638979154,-17.340447087227737,-17.480839259777113,-17.621710769645176,-17.763060225114295,-17.904886229745053,-18.047187382390014,-18.18996227720762,-18.33320950367606,-18.47692764660715,-18.62111528616041,-18.765770997857032,-18.910893352593945,-19.056480916657982,-19.20253225173998,-19.349045914949045,-19.4960204588268,-19.643454431361633,-19.791346376003112,-19.93969483167634,-20.088498332796362,-20.237755409282713,-20.38746458657387,-20.537624385641884,-20.688233323006934,-20.839289910752008,-20.99079265653763,-21.142740063616557,-21.29513063084857,-21.447962852715364,-21.60123521933533,-21.754946216478558,-21.90909432558172,-22.063678023763153,-22.218695783837823,-22.37414607433248,-22.53002735950072,-22.68633809933825,-22.84307674959799,-23.00024176180544,-23.157831583273882,-23.315844657119797,-23.474279422278187,-23.633134313518035,-23.79240776145774,-23.952098192580664,-24.11220402925062,-24.272723689727513,-24.433655588182923,-24.5949981347158,-24.756749735368153,-24.918908792140833,-25.08147370300926,-25.244442861939284,-25.407814658903085,-25.571587479895,-25.735759706947555,-25.90032971814739,-26.06529588765128,-26.230656585702242,-26.39641017864561,-26.562555028945162,-26.729089495199325,-26.89601193215737,-27.063320690735665,-27.231014118033997,-27.39909055735186,-27.56754834820486,-27.736385826341078,-27.905601323757544,-28.075193168716716,-28.245159685762985,-28.415499195739223,-28.586210015803374,-28.75729045944508,-28.928738836502376,-29.100553453178314,-29.272732612057773,-29.44527461212418,-29.618177748776333,-29.791440313845243,-29.965060595611,-30.139036878819688,-30.31336744470034,-30.48805057098189,-30.66308453191025,-30.838467598265247,-31.01419803737786,-31.190274113147197,-31.36669408605769,-31.54345621319637,-31.72055874826993,-31.89799994162211,-32.075778040250896,-32.253891287825894,-32.43233792470566,-32.611116187955034,-32.790224311362685,-32.96966052545842,-33.14942305753078,-33.32951013164445,-33.50991996865785,-33.69065078624077,-33.871700798891865,-34.05306821795641,-34.23475125164386,-34.41674810504561,-34.599056980152795,-34.78167607587388,-34.96460358805263,-35.14783770948581,-35.33137662994115,-35.51521853617508,-35.69936161195078,-35.8838040380561,-36.06854399232145,-36.2535796496379,-36.43890918197515,-36.6245307583996,-36.810442545092464,-36.996642705367854,-37.18312939969098,-37.36990078569623,-37.55695501820546,-37.74429024924618,-37.93190462806981,-38.11979630117,-38.3079634123009,-38.49640410249549,-38.68511651008403,-38.87409877071231,-39.06334901736024,-39.25286538036011,-39.442645987415254,-39.63268896361838,-39.822992431470155,-40.01355451089782,-40.20437331927366,-40.39544697143366,-40.58677357969611,-40.77835125388025,-40.97017810132501,-41.16225222690757,-41.35457173306224,-41.547134719799075,-41.73993928472273,-41.932983523051234,-42.12626552763477,-42.319783388974585,-42.513535195241786,-42.70751903229629,-42.90173298370566,-43.0961751307641,-43.29084355251143,-43.48573632575196,-43.68085152507359,-43.87618722286682,-44.071741489343694,-44.26751239255704,-44.46349799841938,-44.65969637072216,-44.856105571154814,-45.05272365932392,-45.24954869277242,-45.446578726998744,-45.64381181547608,-45.84124600967152,-46.03887935906542,-46.23670991117058,-46.434735711551575,-46.63295480384407,-46.831365229774114,-47.02996502917752,-47.22875224001921,-47.42772489841259,-47.626881038639,-47.82621869316706,-48.02573589267219,-48.225430666056,-48.425301040465776,-48.62534504131402,-48.82556069229786,-49.02594601541871,-49.22649903100168,-49.427217757715184,-49.62810021259057,-49.8291444110416,-50.03034836688417,-50.23171009235584,-50.43322759813551,-50.634898893363115,-50.8367219856592,-51.0386948811447,-51.24081558446055,-51.44308209878748,-51.645492425865676,-51.84804456601454,-52.05073651815252,-52.25356627981672,-52.45653184718286,-52.65963121508493,-52.86286237703507,-53.066223325243435,-53.26971205063789,-53.47332654288403,-53.6770647904049,-53.88092478040093,-54.084904498869854,-54.28900193062651,-54.493215059322864,-54.69754186746783,-54.90198033644727,-55.10652844654389,-55.31118417695722,-55.515945505823595,-55.720810410236055,-55.92577686626446,-56.130842848975334,-56.33600633245196,-56.54126528981442,-56.746617693239514,-56.95206151398092,-57.15759472238912,-57.363215287931524,-57.56892117921253,-57.774710363993535,-57.980580809213095,-58.18653048100694,-58.392557344728075,-58.598659364966956,-58.804834505571485,-59.01108072966723,-59.21739599967745,-59.42377827734333,-59.63022552374404,-59.83673569931686,-60.04330676387745,-60.24993667663987,-60.45662339623683,-60.663364880739806,-60.87015908767922,-61.077003974064674,-61.283897496405054,-61.490837610728775,-61.69782227260395,-61.90484943715857,-62.11191705910076,-62.31902309273893,-62.52616549200203,-62.733342210459696,-62.940551201342586,-63.14779041756247,-63.3550578117325,-63.562351336187525,-63.76966894300415,-63.977008584021135,-64.18436821085953,-64.3917457749429,-64.5991392275177,-64.8065465196733,-65.01396560236245,-65.22139442642133,-65.42883094258991,-65.63627310153221,-65.84371885385646,-66.05116615013539,-66.2586129409265,-66.46605717679225,-66.67349680832038,-66.88092978614408,-67.08835406096232,-67.29576758355998,-67.50316830482826,-67.71055417578475,-67.91792314759375,-68.1252731715866,-68.33260219928172,-68.53990818240504,-68.74718907291012,-68.9544428229984,-69.16166738513952,-69.3688607120914,-69.5760207569206,-69.78314547302244,-69.99023281414128,-70.19728073439076,-70.40428718827388,-70.61125013070343,-70.81816751702193,-71.02503730302207,-71.23185744496674,-71.43862589960928,-71.64534062421372,-71.85199957657483,-72.05860071503845,-72.26514199852153,-72.47162138653236,-72.67803683919075,-72.88438631724807,-73.09066778210759,-73.29687919584438,-73.50301852122567,-73.70908372173082,-73.91507276157151,-74.12098360571186,-74.32681421988848,-74.53256257063057,-74.73822662528013,-74.94380435201187,-75.1492937198534,-75.35469269870524,-75.55999925936092,-75.76521137352697,-75.97032701384299,-76.17534415390172,-76.38026076826894,-76.58507483250366,-76.78978432317793,-76.99438721789694,-77.19888149531903,-77.4032651351755,-77.60753611829081,-77.81169242660229,-78.01573204318022,-78.21965295224773,-78.42345313920066,-78.62713059062754,-78.83068329432945,-79.03410923933988,-79.23740641594463,-79.44057281570159,-79.64360643146071,-79.84650525738371,-80.04926728896399,-80.25189052304636,-80.45437295784683,-80.65671259297248,-80.85890742944109,-81.06095546970101,-81.26285471765081,-81.46460317865902,-81.66619885958389,-81.86763976879297,-82.06892391618292,-82.27004931319907,-82.47101397285508,-82.67181590975264,-82.87245314010097,-83.07292368173657,-83.27322555414261,-83.47335677846868,-83.67331537755025,-83.87309937592815,-84.07270679986823,-84.27213567738073,-84.47138403823985,-84.67044991400313,-84.86933133803095,-85.06802634550601,-85.2665329734526,-85.46484926075614,-85.66297324818245,-85.86090297839716,-86.05863649598506,-86.25617184746932,-86.45350708133094,-86.65064024802788,-86.84756940001449,-87.04429259176052,-87.24080787977057,-87.43711332260317,-87.63320698088992,-87.82908691735483,-88.02475119683325,-88.22019788629107,-88.41542505484391,-88.61043077377603,-88.80521311655951,-88.99977015887322,-89.19409997862184,-89.38820065595492,-89.5820702732857,-89.7757069153102,-89.96910866902607,-90.16227362375146,-90.35519987114402,-90.5478855052196,-90.7403286223712,-90.93252732138765,-91.12447970347259,-91.316183872263,-91.50763793384809,-91.69883999678798,-91.88978817213231,-92.08048057343906,-92.270915316793,-92.4610905208244,-92.65100430672767,-92.84065479827979,-93.03004012185896,-93.21915840646305,-93.40800778372807,-93.5965863879467,-93.78489235608669,-93.97292382780918,-94.16067894548725,-94.34815585422409,-94.53535270187143,-94.7222676390479,-94.90889881915712,-95.09524439840607,-95.28130253582331,-95.46707139327708,-95.6525491354936,-95.83773393007503,-96.0226239475177,-96.20721736123014,-96.39151234755111,-96.5755070857677,-96.75919975813318,-96.94258854988504,-97.12567164926293,-97.30844724752657,-97.49091353897356,-97.67306872095719,-97.85491099390441,-98.03643856133341,-98.21764962987156,-98.39854240927295,-98.5791151124362,-98.75936595542203,-98.93929315747093,-99.11889494102086,-99.29816953172454,-99.47711515846726,-99.65573005338416,-99.83401245187784,-100.01196059263583,-100.18957271764774,-100.3668470722229,-100.54378190500759,-100.72037546800226,-100.896626016579,-101.07253180949857,-101.24809110892772,-101.42330218045632,-101.59816329311447,-101.77267271938972,-101.94682873524395,-102.12062962013059,-102.29407365701144,-102.46715913237378,-102.63988433624726,-102.81224756222075,-102.98424710745917,-103.15588127272045,-103.32714836237218,-103.49804668440848,-103.66857455046656,-103.83873027584353,-104.008512179513,-104.17791858414176,-104.3469478161062,-104.51559820550892,-104.6838680861953,-104.8517557957698,-105.01925967561264,-105.18637807089587,-105.35310933059993,-105.51945180752992,-105.6854038583318,-105.85096384350875,-106.01613012743728,-106.1809010783834,-106.34527506851873,-106.50925047393662,-106.67282567466822,-106.83599905469836,-106.99876900198163,-107.16113390845828,-107.32309217007004,-107.48464218677614,-107.64578236256887,-107.80651110548956,-107.96682682764421,-108.12672794521913,-108.28621287849677,-108.4452800518711,-108.60392789386334,-108.76215483713742,-108.9199593185154,-109.07733977899312,-109.23429466375538,-109.39082242219139,-109.54692150791007,-109.70259037875542,-109.85782749682161,-110.01263132846825,-110.16700034433558,-110.32093301935944,-110.47442783278657,-110.62748326818937,-110.78009781348106,-110.93226996093054,-111.08399820717733,-111.23528105324641,-111.38611700456298,-111.53650457096731,-111.68644226672939,-111.8359286105636,-111.9849621256435,-112.13354133961619,-112.28166478461698,-112.4293309972839,-112.5765385187721,-112.72328589476838,-112.86957167550538,-113.01539441577606,-113.16075267494787,-113.30564501697705,-113.45007001042279,-113.59402622846137,-113.73751224890029,-113.88052665419227,-114.02306803144921,-114.16513497245639,-114.30672607368604,-114.44783993631142,-114.58847516622063,-114.72863037403032,-114.86830417509944,-115.00749518954292,-115.14620204224533,-115.28442336287436,-115.42215778589457,-115.55940395058062,-115.6961605010309,-115.83242608618089,-115.9681993598164,-116.10347898058701,-116.23826361201931,-116.37255192252996,-116.506342585439,-116.63963427898288,-116.77242568632758,-116.90471549558154,-117.03650239980864,-117.16778509704118,-117.29856229029264,-117.4288326875706,-117.55859500188942,-117.68784795128298,-117.81659025881737,-117.94482065260345,-118.07253786580952,-118.19974063667368,-118.32642770851643,-118.45259782975302,-118.57824975390584,-118.70338223961673,-118.82799405065924,-118.95208395595083,-119.07565072956507,-119.19869315074364,-119.3212100039086,-119.44320007867421,-119.56466216985896,-119.68559507749747,-119.80599760685232,-119.92586856842593,-120.04520677797224,-120.1640110565084,-120.28228023032648,-120.40001313100501,-120.51720859542056,-120.63386546575921,-120.749982589528,-120.86555881956629,-120.98059301405715,-121.09508403653857,-121.20903075591472,-121.32243204646717,-121.43528678786589,-121.54759386518052,-121.6593521688911,-121.77056059489931,-121.88121804453922,-121.99132342458819,-122.10087564727765,-122.20987363030387,-122.31831629683865,-122.42620257553995,-122.53353140056242,-122.6403017115681,-122.74651245373667,-122.85216257777603,-122.95725103993263,-123.0617768020017,-123.16573883133769,-123.26913610086426,-123.37196758908456,-123.4742322800913,-123.57592916357672,-123.6770572348427,-123.77761549481058,-123.87760295003102,-123.97701861269388,-124.07586150063797,-124.17413063736075,-124.2718250520279,-124.36894377948306,-124.4654858602572,-124.5614503405782,-124.65683627238033,-124.7516427133134,-124.84586872675231,-124.93951338180618,-125.03257575332756,-125.12505492192156,-125.216949973955,-125.30826000156532,-125.39898410266963,-125.48912138097367,-125.57867094598058,-125.66763191299964,-125.75600340315518,-125.84378454339512,-125.93097446649969,-126.01757231108995,-126.10357722163627,-126.18898834846684,-126.273804847776,-126.35802588163276,-126.44165061798873,-126.5246782306867,-126.60710789946862,-126.68893880998363,-126.77017015379636,-126.85080112839466,-126.93083093719768,-127.01025878956366,-127.08908390079777,-127.16730549215993,-127.24492279087232,-127.32193503012728,-127.3983414490946,-127.47414129292926,-127.5493338127788,-127.62391826579066,-127.69789391511966,-127.77126002993512,-127.8440158854282,-127.91616076281906,-127.98769394936383,-128.05861473836183,-128.12892242916237,-128.19861632717186,-128.26769574386054,-128.3361599967693,-128.40400840951645,-128.47124031180442,-128.5378550394264,-128.6038519342727,-128.66923034433756,-128.73398962372542,-128.79812913265727,-128.86164823747703,-128.92454631065783,-128.9868227308082,-129.04847688267816,-129.10950815716532,-129.16991595132097,-129.2296996683559,-129.2888587176464,-129.34739251474008,-129.4053004813616,-129.46258204541846,-129.51923664100653,-129.5752637084158,-129.63066269413576,-129.68543305086095,-129.73957423749638,-129.79308571916283,-129.84596696720212,-129.89821745918238,-129.94983667890318,-130.00082411640074,-130.0511792679527,-130.10090163608345,-130.14999072956869,-130.1984460634406,-130.24626715899242,-130.29345354378324,-130.3400047516427,-130.38592032267556,-130.43119980326622,-130.47584274608334,-130.51984871008398,-130.56321726051834,-130.6059479689336,-130.64804041317865,-130.68949417740788,-130.73030885208533,-130.77048403398905,-130.81001932621467,-130.84891433817955,-130.88716868562665,-130.92478199062828,-130.9617538815897,-130.99808399325303,-131.03377196670073,-131.06881744935913,-131.10322009500203,-131.13697956375393,-131.1700955220935,-131.202567642857,-131.2343956052412,-131.26557909480684,-131.29611780348162,-131.3260114295632,-131.35525967772233,-131.38386225900553,-131.4118188908382,-131.43912929702722,-131.4657932077638,-131.49181035962607,-131.51718049558173,-131.5419033649906,-131.56597872360695,-131.58940633358216,-131.6121859634669,-131.63431738821345,-131.65580038917787,-131.67663475412232,-131.696820277217,-131.71635675904224,-131.73524400659053,-131.75348183326827,-131.77107005889775,-131.7880085097189,-131.80429701839103,-131.81993542399437,-131.8349235720318,-131.84926131443032,-131.86294850954246,-131.87598502214777,-131.8883707234541,-131.90010549109888,-131.91118920915036,-131.9216217681087,-131.93140306490707,-131.94053300291276,-131.949011491928,-131.9568384481908,-131.96401379437614,-131.97053745959624,-131.97640937940164,-131.9816294957816,-131.98619775716486,-131.99011411841994,-131.99337854085582,-131.99599099222218,-131.9979514467097,-131.99925988495033,-131.99991629401762]}],                        {\"template\":{\"data\":{\"barpolar\":[{\"marker\":{\"line\":{\"color\":\"#E5ECF6\",\"width\":0.5},\"pattern\":{\"fillmode\":\"overlay\",\"size\":10,\"solidity\":0.2}},\"type\":\"barpolar\"}],\"bar\":[{\"error_x\":{\"color\":\"#2a3f5f\"},\"error_y\":{\"color\":\"#2a3f5f\"},\"marker\":{\"line\":{\"color\":\"#E5ECF6\",\"width\":0.5},\"pattern\":{\"fillmode\":\"overlay\",\"size\":10,\"solidity\":0.2}},\"type\":\"bar\"}],\"carpet\":[{\"aaxis\":{\"endlinecolor\":\"#2a3f5f\",\"gridcolor\":\"white\",\"linecolor\":\"white\",\"minorgridcolor\":\"white\",\"startlinecolor\":\"#2a3f5f\"},\"baxis\":{\"endlinecolor\":\"#2a3f5f\",\"gridcolor\":\"white\",\"linecolor\":\"white\",\"minorgridcolor\":\"white\",\"startlinecolor\":\"#2a3f5f\"},\"type\":\"carpet\"}],\"choropleth\":[{\"colorbar\":{\"outlinewidth\":0,\"ticks\":\"\"},\"type\":\"choropleth\"}],\"contourcarpet\":[{\"colorbar\":{\"outlinewidth\":0,\"ticks\":\"\"},\"type\":\"contourcarpet\"}],\"contour\":[{\"colorbar\":{\"outlinewidth\":0,\"ticks\":\"\"},\"colorscale\":[[0.0,\"#0d0887\"],[0.1111111111111111,\"#46039f\"],[0.2222222222222222,\"#7201a8\"],[0.3333333333333333,\"#9c179e\"],[0.4444444444444444,\"#bd3786\"],[0.5555555555555556,\"#d8576b\"],[0.6666666666666666,\"#ed7953\"],[0.7777777777777778,\"#fb9f3a\"],[0.8888888888888888,\"#fdca26\"],[1.0,\"#f0f921\"]],\"type\":\"contour\"}],\"heatmapgl\":[{\"colorbar\":{\"outlinewidth\":0,\"ticks\":\"\"},\"colorscale\":[[0.0,\"#0d0887\"],[0.1111111111111111,\"#46039f\"],[0.2222222222222222,\"#7201a8\"],[0.3333333333333333,\"#9c179e\"],[0.4444444444444444,\"#bd3786\"],[0.5555555555555556,\"#d8576b\"],[0.6666666666666666,\"#ed7953\"],[0.7777777777777778,\"#fb9f3a\"],[0.8888888888888888,\"#fdca26\"],[1.0,\"#f0f921\"]],\"type\":\"heatmapgl\"}],\"heatmap\":[{\"colorbar\":{\"outlinewidth\":0,\"ticks\":\"\"},\"colorscale\":[[0.0,\"#0d0887\"],[0.1111111111111111,\"#46039f\"],[0.2222222222222222,\"#7201a8\"],[0.3333333333333333,\"#9c179e\"],[0.4444444444444444,\"#bd3786\"],[0.5555555555555556,\"#d8576b\"],[0.6666666666666666,\"#ed7953\"],[0.7777777777777778,\"#fb9f3a\"],[0.8888888888888888,\"#fdca26\"],[1.0,\"#f0f921\"]],\"type\":\"heatmap\"}],\"histogram2dcontour\":[{\"colorbar\":{\"outlinewidth\":0,\"ticks\":\"\"},\"colorscale\":[[0.0,\"#0d0887\"],[0.1111111111111111,\"#46039f\"],[0.2222222222222222,\"#7201a8\"],[0.3333333333333333,\"#9c179e\"],[0.4444444444444444,\"#bd3786\"],[0.5555555555555556,\"#d8576b\"],[0.6666666666666666,\"#ed7953\"],[0.7777777777777778,\"#fb9f3a\"],[0.8888888888888888,\"#fdca26\"],[1.0,\"#f0f921\"]],\"type\":\"histogram2dcontour\"}],\"histogram2d\":[{\"colorbar\":{\"outlinewidth\":0,\"ticks\":\"\"},\"colorscale\":[[0.0,\"#0d0887\"],[0.1111111111111111,\"#46039f\"],[0.2222222222222222,\"#7201a8\"],[0.3333333333333333,\"#9c179e\"],[0.4444444444444444,\"#bd3786\"],[0.5555555555555556,\"#d8576b\"],[0.6666666666666666,\"#ed7953\"],[0.7777777777777778,\"#fb9f3a\"],[0.8888888888888888,\"#fdca26\"],[1.0,\"#f0f921\"]],\"type\":\"histogram2d\"}],\"histogram\":[{\"marker\":{\"pattern\":{\"fillmode\":\"overlay\",\"size\":10,\"solidity\":0.2}},\"type\":\"histogram\"}],\"mesh3d\":[{\"colorbar\":{\"outlinewidth\":0,\"ticks\":\"\"},\"type\":\"mesh3d\"}],\"parcoords\":[{\"line\":{\"colorbar\":{\"outlinewidth\":0,\"ticks\":\"\"}},\"type\":\"parcoords\"}],\"pie\":[{\"automargin\":true,\"type\":\"pie\"}],\"scatter3d\":[{\"line\":{\"colorbar\":{\"outlinewidth\":0,\"ticks\":\"\"}},\"marker\":{\"colorbar\":{\"outlinewidth\":0,\"ticks\":\"\"}},\"type\":\"scatter3d\"}],\"scattercarpet\":[{\"marker\":{\"colorbar\":{\"outlinewidth\":0,\"ticks\":\"\"}},\"type\":\"scattercarpet\"}],\"scattergeo\":[{\"marker\":{\"colorbar\":{\"outlinewidth\":0,\"ticks\":\"\"}},\"type\":\"scattergeo\"}],\"scattergl\":[{\"marker\":{\"colorbar\":{\"outlinewidth\":0,\"ticks\":\"\"}},\"type\":\"scattergl\"}],\"scattermapbox\":[{\"marker\":{\"colorbar\":{\"outlinewidth\":0,\"ticks\":\"\"}},\"type\":\"scattermapbox\"}],\"scatterpolargl\":[{\"marker\":{\"colorbar\":{\"outlinewidth\":0,\"ticks\":\"\"}},\"type\":\"scatterpolargl\"}],\"scatterpolar\":[{\"marker\":{\"colorbar\":{\"outlinewidth\":0,\"ticks\":\"\"}},\"type\":\"scatterpolar\"}],\"scatter\":[{\"fillpattern\":{\"fillmode\":\"overlay\",\"size\":10,\"solidity\":0.2},\"type\":\"scatter\"}],\"scatterternary\":[{\"marker\":{\"colorbar\":{\"outlinewidth\":0,\"ticks\":\"\"}},\"type\":\"scatterternary\"}],\"surface\":[{\"colorbar\":{\"outlinewidth\":0,\"ticks\":\"\"},\"colorscale\":[[0.0,\"#0d0887\"],[0.1111111111111111,\"#46039f\"],[0.2222222222222222,\"#7201a8\"],[0.3333333333333333,\"#9c179e\"],[0.4444444444444444,\"#bd3786\"],[0.5555555555555556,\"#d8576b\"],[0.6666666666666666,\"#ed7953\"],[0.7777777777777778,\"#fb9f3a\"],[0.8888888888888888,\"#fdca26\"],[1.0,\"#f0f921\"]],\"type\":\"surface\"}],\"table\":[{\"cells\":{\"fill\":{\"color\":\"#EBF0F8\"},\"line\":{\"color\":\"white\"}},\"header\":{\"fill\":{\"color\":\"#C8D4E3\"},\"line\":{\"color\":\"white\"}},\"type\":\"table\"}]},\"layout\":{\"annotationdefaults\":{\"arrowcolor\":\"#2a3f5f\",\"arrowhead\":0,\"arrowwidth\":1},\"autotypenumbers\":\"strict\",\"coloraxis\":{\"colorbar\":{\"outlinewidth\":0,\"ticks\":\"\"}},\"colorscale\":{\"diverging\":[[0,\"#8e0152\"],[0.1,\"#c51b7d\"],[0.2,\"#de77ae\"],[0.3,\"#f1b6da\"],[0.4,\"#fde0ef\"],[0.5,\"#f7f7f7\"],[0.6,\"#e6f5d0\"],[0.7,\"#b8e186\"],[0.8,\"#7fbc41\"],[0.9,\"#4d9221\"],[1,\"#276419\"]],\"sequential\":[[0.0,\"#0d0887\"],[0.1111111111111111,\"#46039f\"],[0.2222222222222222,\"#7201a8\"],[0.3333333333333333,\"#9c179e\"],[0.4444444444444444,\"#bd3786\"],[0.5555555555555556,\"#d8576b\"],[0.6666666666666666,\"#ed7953\"],[0.7777777777777778,\"#fb9f3a\"],[0.8888888888888888,\"#fdca26\"],[1.0,\"#f0f921\"]],\"sequentialminus\":[[0.0,\"#0d0887\"],[0.1111111111111111,\"#46039f\"],[0.2222222222222222,\"#7201a8\"],[0.3333333333333333,\"#9c179e\"],[0.4444444444444444,\"#bd3786\"],[0.5555555555555556,\"#d8576b\"],[0.6666666666666666,\"#ed7953\"],[0.7777777777777778,\"#fb9f3a\"],[0.8888888888888888,\"#fdca26\"],[1.0,\"#f0f921\"]]},\"colorway\":[\"#636efa\",\"#EF553B\",\"#00cc96\",\"#ab63fa\",\"#FFA15A\",\"#19d3f3\",\"#FF6692\",\"#B6E880\",\"#FF97FF\",\"#FECB52\"],\"font\":{\"color\":\"#2a3f5f\"},\"geo\":{\"bgcolor\":\"white\",\"lakecolor\":\"white\",\"landcolor\":\"#E5ECF6\",\"showlakes\":true,\"showland\":true,\"subunitcolor\":\"white\"},\"hoverlabel\":{\"align\":\"left\"},\"hovermode\":\"closest\",\"mapbox\":{\"style\":\"light\"},\"paper_bgcolor\":\"white\",\"plot_bgcolor\":\"#E5ECF6\",\"polar\":{\"angularaxis\":{\"gridcolor\":\"white\",\"linecolor\":\"white\",\"ticks\":\"\"},\"bgcolor\":\"#E5ECF6\",\"radialaxis\":{\"gridcolor\":\"white\",\"linecolor\":\"white\",\"ticks\":\"\"}},\"scene\":{\"xaxis\":{\"backgroundcolor\":\"#E5ECF6\",\"gridcolor\":\"white\",\"gridwidth\":2,\"linecolor\":\"white\",\"showbackground\":true,\"ticks\":\"\",\"zerolinecolor\":\"white\"},\"yaxis\":{\"backgroundcolor\":\"#E5ECF6\",\"gridcolor\":\"white\",\"gridwidth\":2,\"linecolor\":\"white\",\"showbackground\":true,\"ticks\":\"\",\"zerolinecolor\":\"white\"},\"zaxis\":{\"backgroundcolor\":\"#E5ECF6\",\"gridcolor\":\"white\",\"gridwidth\":2,\"linecolor\":\"white\",\"showbackground\":true,\"ticks\":\"\",\"zerolinecolor\":\"white\"}},\"shapedefaults\":{\"line\":{\"color\":\"#2a3f5f\"}},\"ternary\":{\"aaxis\":{\"gridcolor\":\"white\",\"linecolor\":\"white\",\"ticks\":\"\"},\"baxis\":{\"gridcolor\":\"white\",\"linecolor\":\"white\",\"ticks\":\"\"},\"bgcolor\":\"#E5ECF6\",\"caxis\":{\"gridcolor\":\"white\",\"linecolor\":\"white\",\"ticks\":\"\"}},\"title\":{\"x\":0.05},\"xaxis\":{\"automargin\":true,\"gridcolor\":\"white\",\"linecolor\":\"white\",\"ticks\":\"\",\"title\":{\"standoff\":15},\"zerolinecolor\":\"white\",\"zerolinewidth\":2},\"yaxis\":{\"automargin\":true,\"gridcolor\":\"white\",\"linecolor\":\"white\",\"ticks\":\"\",\"title\":{\"standoff\":15},\"zerolinecolor\":\"white\",\"zerolinewidth\":2}}},\"xaxis\":{\"range\":[-60,60],\"title\":{\"text\":\"X\"}},\"yaxis\":{\"range\":[-60,60],\"title\":{\"text\":\"Y\"}},\"width\":500,\"height\":500,\"showlegend\":false,\"title\":{\"text\":\"Hits in the Central Drift Chamber\"},\"shapes\":[{\"line\":{\"color\":\"black\"},\"type\":\"circle\",\"x0\":-10.5,\"x1\":10.5,\"xref\":\"x\",\"y0\":-10.5,\"y1\":10.5,\"yref\":\"y\"},{\"line\":{\"color\":\"black\"},\"type\":\"circle\",\"x0\":-55,\"x1\":55,\"xref\":\"x\",\"y0\":-55,\"y1\":55,\"yref\":\"y\"}]},                        {\"responsive\": true}                    ).then(function(){\n                            \nvar gd = document.getElementById('04d4290a-7123-4cff-8343-a070719fb45d');\nvar x = new MutationObserver(function (mutations, observer) {{\n        var display = window.getComputedStyle(gd).display;\n        if (!display || display === 'none') {{\n            console.log([gd, 'removed!']);\n            Plotly.purge(gd);\n            observer.disconnect();\n        }}\n}});\n\n// Listen for the removal of the full notebook cells\nvar notebookContainer = gd.closest('#notebook-container');\nif (notebookContainer) {{\n    x.observe(notebookContainer, {childList: true});\n}}\n\n// Listen for the clearing of the current output cell\nvar outputEl = gd.closest('.output');\nif (outputEl) {{\n    x.observe(outputEl, {childList: true});\n}}\n\n                        })                };                            </script>        </div>\n</body>\n</html>"
                },
                "metadata": {}
              }
            ]
          }
        },
        "f5da2fc362b1409d9988797a2079e25f": {
          "model_module": "@jupyter-widgets/base",
          "model_name": "LayoutModel",
          "model_module_version": "1.2.0",
          "state": {
            "_model_module": "@jupyter-widgets/base",
            "_model_module_version": "1.2.0",
            "_model_name": "LayoutModel",
            "_view_count": null,
            "_view_module": "@jupyter-widgets/base",
            "_view_module_version": "1.2.0",
            "_view_name": "LayoutView",
            "align_content": null,
            "align_items": null,
            "align_self": null,
            "border": null,
            "bottom": null,
            "display": null,
            "flex": null,
            "flex_flow": null,
            "grid_area": null,
            "grid_auto_columns": null,
            "grid_auto_flow": null,
            "grid_auto_rows": null,
            "grid_column": null,
            "grid_gap": null,
            "grid_row": null,
            "grid_template_areas": null,
            "grid_template_columns": null,
            "grid_template_rows": null,
            "height": null,
            "justify_content": null,
            "justify_items": null,
            "left": null,
            "margin": null,
            "max_height": null,
            "max_width": null,
            "min_height": null,
            "min_width": null,
            "object_fit": null,
            "object_position": null,
            "order": null,
            "overflow": null,
            "overflow_x": null,
            "overflow_y": null,
            "padding": null,
            "right": null,
            "top": null,
            "visibility": null,
            "width": null
          }
        },
        "a671ec721cae4ff9aaa9c9f9d547749e": {
          "model_module": "@jupyter-widgets/controls",
          "model_name": "FloatSliderModel",
          "model_module_version": "1.5.0",
          "state": {
            "_dom_classes": [],
            "_model_module": "@jupyter-widgets/controls",
            "_model_module_version": "1.5.0",
            "_model_name": "FloatSliderModel",
            "_view_count": null,
            "_view_module": "@jupyter-widgets/controls",
            "_view_module_version": "1.5.0",
            "_view_name": "FloatSliderView",
            "continuous_update": true,
            "description": "z0",
            "description_tooltip": null,
            "disabled": false,
            "layout": "IPY_MODEL_0ec96aec863e406d947bd52e32cf314e",
            "max": 175,
            "min": 0,
            "orientation": "horizontal",
            "readout": true,
            "readout_format": ".2f",
            "step": 0.1,
            "style": "IPY_MODEL_71f109a1ab3a48089bd8c34bd14715a4",
            "value": 69.2
          }
        },
        "9518696f163549b3a7a1f1caa5b431b3": {
          "model_module": "@jupyter-widgets/controls",
          "model_name": "FloatSliderModel",
          "model_module_version": "1.5.0",
          "state": {
            "_dom_classes": [],
            "_model_module": "@jupyter-widgets/controls",
            "_model_module_version": "1.5.0",
            "_model_name": "FloatSliderModel",
            "_view_count": null,
            "_view_module": "@jupyter-widgets/controls",
            "_view_module_version": "1.5.0",
            "_view_name": "FloatSliderView",
            "continuous_update": true,
            "description": "px",
            "description_tooltip": null,
            "disabled": false,
            "layout": "IPY_MODEL_0338cb0714f6439db48b01f81f96a120",
            "max": 1,
            "min": -1,
            "orientation": "horizontal",
            "readout": true,
            "readout_format": ".2f",
            "step": 0.01,
            "style": "IPY_MODEL_b95be6eb407044c08f42861a44a00027",
            "value": 0.3400000000000001
          }
        },
        "f065b81557514acd9edd198136e781e3": {
          "model_module": "@jupyter-widgets/controls",
          "model_name": "FloatSliderModel",
          "model_module_version": "1.5.0",
          "state": {
            "_dom_classes": [],
            "_model_module": "@jupyter-widgets/controls",
            "_model_module_version": "1.5.0",
            "_model_name": "FloatSliderModel",
            "_view_count": null,
            "_view_module": "@jupyter-widgets/controls",
            "_view_module_version": "1.5.0",
            "_view_name": "FloatSliderView",
            "continuous_update": true,
            "description": "py",
            "description_tooltip": null,
            "disabled": false,
            "layout": "IPY_MODEL_fd1df4f2cf694d849ca646a2dc68ed98",
            "max": 1,
            "min": -1,
            "orientation": "horizontal",
            "readout": true,
            "readout_format": ".2f",
            "step": 0.01,
            "style": "IPY_MODEL_bb9eda67c4124aa4b990dd248958e3bf",
            "value": 0
          }
        },
        "1ec989e4f1be407b9415788639ebf39f": {
          "model_module": "@jupyter-widgets/controls",
          "model_name": "IntSliderModel",
          "model_module_version": "1.5.0",
          "state": {
            "_dom_classes": [],
            "_model_module": "@jupyter-widgets/controls",
            "_model_module_version": "1.5.0",
            "_model_name": "IntSliderModel",
            "_view_count": null,
            "_view_module": "@jupyter-widgets/controls",
            "_view_module_version": "1.5.0",
            "_view_name": "IntSliderView",
            "continuous_update": true,
            "description": "charge",
            "description_tooltip": null,
            "disabled": false,
            "layout": "IPY_MODEL_f6f521cf01db4aff86f260ea2b95f08b",
            "max": 1,
            "min": -1,
            "orientation": "horizontal",
            "readout": true,
            "readout_format": "d",
            "step": 2,
            "style": "IPY_MODEL_94b09c4372fc41f4a2b7be787c9640f6",
            "value": 1
          }
        },
        "b52694f2f8fa40cca0f8c95023bdbf0c": {
          "model_module": "@jupyter-widgets/controls",
          "model_name": "FloatSliderModel",
          "model_module_version": "1.5.0",
          "state": {
            "_dom_classes": [],
            "_model_module": "@jupyter-widgets/controls",
            "_model_module_version": "1.5.0",
            "_model_name": "FloatSliderModel",
            "_view_count": null,
            "_view_module": "@jupyter-widgets/controls",
            "_view_module_version": "1.5.0",
            "_view_name": "FloatSliderView",
            "continuous_update": true,
            "description": "pz",
            "description_tooltip": null,
            "disabled": false,
            "layout": "IPY_MODEL_766d6f35346d42ca8d076d4d15b7e14d",
            "max": 1,
            "min": -1,
            "orientation": "horizontal",
            "readout": true,
            "readout_format": ".2f",
            "step": 0.01,
            "style": "IPY_MODEL_a019b9619646496c8dcae430c85fed58",
            "value": 0
          }
        },
        "b925fde218854264bc45106bf335bf9b": {
          "model_module": "@jupyter-widgets/controls",
          "model_name": "FloatSliderModel",
          "model_module_version": "1.5.0",
          "state": {
            "_dom_classes": [],
            "_model_module": "@jupyter-widgets/controls",
            "_model_module_version": "1.5.0",
            "_model_name": "FloatSliderModel",
            "_view_count": null,
            "_view_module": "@jupyter-widgets/controls",
            "_view_module_version": "1.5.0",
            "_view_name": "FloatSliderView",
            "continuous_update": true,
            "description": "t_max",
            "description_tooltip": null,
            "disabled": false,
            "layout": "IPY_MODEL_90b15584d4004790a0c7a8aeaadf4d95",
            "max": 6.283185307179586,
            "min": 0,
            "orientation": "horizontal",
            "readout": true,
            "readout_format": ".2f",
            "step": 0.01,
            "style": "IPY_MODEL_0a887cd31045462785e782b58e676f9a",
            "value": 3.14
          }
        },
        "da7c63eede8f4c83b87418503a5f8e92": {
          "model_module": "@jupyter-widgets/base",
          "model_name": "LayoutModel",
          "model_module_version": "1.2.0",
          "state": {
            "_model_module": "@jupyter-widgets/base",
            "_model_module_version": "1.2.0",
            "_model_name": "LayoutModel",
            "_view_count": null,
            "_view_module": "@jupyter-widgets/base",
            "_view_module_version": "1.2.0",
            "_view_name": "LayoutView",
            "align_content": null,
            "align_items": null,
            "align_self": null,
            "border": null,
            "bottom": null,
            "display": null,
            "flex": null,
            "flex_flow": "row wrap",
            "grid_area": null,
            "grid_auto_columns": null,
            "grid_auto_flow": null,
            "grid_auto_rows": null,
            "grid_column": null,
            "grid_gap": null,
            "grid_row": null,
            "grid_template_areas": null,
            "grid_template_columns": null,
            "grid_template_rows": null,
            "height": null,
            "justify_content": null,
            "justify_items": null,
            "left": null,
            "margin": null,
            "max_height": null,
            "max_width": null,
            "min_height": null,
            "min_width": null,
            "object_fit": null,
            "object_position": null,
            "order": null,
            "overflow": null,
            "overflow_x": null,
            "overflow_y": null,
            "padding": null,
            "right": null,
            "top": null,
            "visibility": null,
            "width": null
          }
        },
        "1f0663382c2b42a0ac761f3f5207b25b": {
          "model_module": "@jupyter-widgets/base",
          "model_name": "LayoutModel",
          "model_module_version": "1.2.0",
          "state": {
            "_model_module": "@jupyter-widgets/base",
            "_model_module_version": "1.2.0",
            "_model_name": "LayoutModel",
            "_view_count": null,
            "_view_module": "@jupyter-widgets/base",
            "_view_module_version": "1.2.0",
            "_view_name": "LayoutView",
            "align_content": null,
            "align_items": null,
            "align_self": null,
            "border": null,
            "bottom": null,
            "display": null,
            "flex": null,
            "flex_flow": null,
            "grid_area": null,
            "grid_auto_columns": null,
            "grid_auto_flow": null,
            "grid_auto_rows": null,
            "grid_column": null,
            "grid_gap": null,
            "grid_row": null,
            "grid_template_areas": null,
            "grid_template_columns": null,
            "grid_template_rows": null,
            "height": null,
            "justify_content": null,
            "justify_items": null,
            "left": null,
            "margin": null,
            "max_height": null,
            "max_width": null,
            "min_height": null,
            "min_width": null,
            "object_fit": null,
            "object_position": null,
            "order": null,
            "overflow": null,
            "overflow_x": null,
            "overflow_y": null,
            "padding": null,
            "right": null,
            "top": null,
            "visibility": null,
            "width": null
          }
        },
        "0ec96aec863e406d947bd52e32cf314e": {
          "model_module": "@jupyter-widgets/base",
          "model_name": "LayoutModel",
          "model_module_version": "1.2.0",
          "state": {
            "_model_module": "@jupyter-widgets/base",
            "_model_module_version": "1.2.0",
            "_model_name": "LayoutModel",
            "_view_count": null,
            "_view_module": "@jupyter-widgets/base",
            "_view_module_version": "1.2.0",
            "_view_name": "LayoutView",
            "align_content": null,
            "align_items": null,
            "align_self": null,
            "border": null,
            "bottom": null,
            "display": null,
            "flex": null,
            "flex_flow": null,
            "grid_area": null,
            "grid_auto_columns": null,
            "grid_auto_flow": null,
            "grid_auto_rows": null,
            "grid_column": null,
            "grid_gap": null,
            "grid_row": null,
            "grid_template_areas": null,
            "grid_template_columns": null,
            "grid_template_rows": null,
            "height": null,
            "justify_content": null,
            "justify_items": null,
            "left": null,
            "margin": null,
            "max_height": null,
            "max_width": null,
            "min_height": null,
            "min_width": null,
            "object_fit": null,
            "object_position": null,
            "order": null,
            "overflow": null,
            "overflow_x": null,
            "overflow_y": null,
            "padding": null,
            "right": null,
            "top": null,
            "visibility": null,
            "width": null
          }
        },
        "71f109a1ab3a48089bd8c34bd14715a4": {
          "model_module": "@jupyter-widgets/controls",
          "model_name": "SliderStyleModel",
          "model_module_version": "1.5.0",
          "state": {
            "_model_module": "@jupyter-widgets/controls",
            "_model_module_version": "1.5.0",
            "_model_name": "SliderStyleModel",
            "_view_count": null,
            "_view_module": "@jupyter-widgets/base",
            "_view_module_version": "1.2.0",
            "_view_name": "StyleView",
            "description_width": "",
            "handle_color": null
          }
        },
        "0338cb0714f6439db48b01f81f96a120": {
          "model_module": "@jupyter-widgets/base",
          "model_name": "LayoutModel",
          "model_module_version": "1.2.0",
          "state": {
            "_model_module": "@jupyter-widgets/base",
            "_model_module_version": "1.2.0",
            "_model_name": "LayoutModel",
            "_view_count": null,
            "_view_module": "@jupyter-widgets/base",
            "_view_module_version": "1.2.0",
            "_view_name": "LayoutView",
            "align_content": null,
            "align_items": null,
            "align_self": null,
            "border": null,
            "bottom": null,
            "display": null,
            "flex": null,
            "flex_flow": null,
            "grid_area": null,
            "grid_auto_columns": null,
            "grid_auto_flow": null,
            "grid_auto_rows": null,
            "grid_column": null,
            "grid_gap": null,
            "grid_row": null,
            "grid_template_areas": null,
            "grid_template_columns": null,
            "grid_template_rows": null,
            "height": null,
            "justify_content": null,
            "justify_items": null,
            "left": null,
            "margin": null,
            "max_height": null,
            "max_width": null,
            "min_height": null,
            "min_width": null,
            "object_fit": null,
            "object_position": null,
            "order": null,
            "overflow": null,
            "overflow_x": null,
            "overflow_y": null,
            "padding": null,
            "right": null,
            "top": null,
            "visibility": null,
            "width": null
          }
        },
        "b95be6eb407044c08f42861a44a00027": {
          "model_module": "@jupyter-widgets/controls",
          "model_name": "SliderStyleModel",
          "model_module_version": "1.5.0",
          "state": {
            "_model_module": "@jupyter-widgets/controls",
            "_model_module_version": "1.5.0",
            "_model_name": "SliderStyleModel",
            "_view_count": null,
            "_view_module": "@jupyter-widgets/base",
            "_view_module_version": "1.2.0",
            "_view_name": "StyleView",
            "description_width": "",
            "handle_color": null
          }
        },
        "fd1df4f2cf694d849ca646a2dc68ed98": {
          "model_module": "@jupyter-widgets/base",
          "model_name": "LayoutModel",
          "model_module_version": "1.2.0",
          "state": {
            "_model_module": "@jupyter-widgets/base",
            "_model_module_version": "1.2.0",
            "_model_name": "LayoutModel",
            "_view_count": null,
            "_view_module": "@jupyter-widgets/base",
            "_view_module_version": "1.2.0",
            "_view_name": "LayoutView",
            "align_content": null,
            "align_items": null,
            "align_self": null,
            "border": null,
            "bottom": null,
            "display": null,
            "flex": null,
            "flex_flow": null,
            "grid_area": null,
            "grid_auto_columns": null,
            "grid_auto_flow": null,
            "grid_auto_rows": null,
            "grid_column": null,
            "grid_gap": null,
            "grid_row": null,
            "grid_template_areas": null,
            "grid_template_columns": null,
            "grid_template_rows": null,
            "height": null,
            "justify_content": null,
            "justify_items": null,
            "left": null,
            "margin": null,
            "max_height": null,
            "max_width": null,
            "min_height": null,
            "min_width": null,
            "object_fit": null,
            "object_position": null,
            "order": null,
            "overflow": null,
            "overflow_x": null,
            "overflow_y": null,
            "padding": null,
            "right": null,
            "top": null,
            "visibility": null,
            "width": null
          }
        },
        "bb9eda67c4124aa4b990dd248958e3bf": {
          "model_module": "@jupyter-widgets/controls",
          "model_name": "SliderStyleModel",
          "model_module_version": "1.5.0",
          "state": {
            "_model_module": "@jupyter-widgets/controls",
            "_model_module_version": "1.5.0",
            "_model_name": "SliderStyleModel",
            "_view_count": null,
            "_view_module": "@jupyter-widgets/base",
            "_view_module_version": "1.2.0",
            "_view_name": "StyleView",
            "description_width": "",
            "handle_color": null
          }
        },
        "f6f521cf01db4aff86f260ea2b95f08b": {
          "model_module": "@jupyter-widgets/base",
          "model_name": "LayoutModel",
          "model_module_version": "1.2.0",
          "state": {
            "_model_module": "@jupyter-widgets/base",
            "_model_module_version": "1.2.0",
            "_model_name": "LayoutModel",
            "_view_count": null,
            "_view_module": "@jupyter-widgets/base",
            "_view_module_version": "1.2.0",
            "_view_name": "LayoutView",
            "align_content": null,
            "align_items": null,
            "align_self": null,
            "border": null,
            "bottom": null,
            "display": null,
            "flex": null,
            "flex_flow": null,
            "grid_area": null,
            "grid_auto_columns": null,
            "grid_auto_flow": null,
            "grid_auto_rows": null,
            "grid_column": null,
            "grid_gap": null,
            "grid_row": null,
            "grid_template_areas": null,
            "grid_template_columns": null,
            "grid_template_rows": null,
            "height": null,
            "justify_content": null,
            "justify_items": null,
            "left": null,
            "margin": null,
            "max_height": null,
            "max_width": null,
            "min_height": null,
            "min_width": null,
            "object_fit": null,
            "object_position": null,
            "order": null,
            "overflow": null,
            "overflow_x": null,
            "overflow_y": null,
            "padding": null,
            "right": null,
            "top": null,
            "visibility": null,
            "width": null
          }
        },
        "94b09c4372fc41f4a2b7be787c9640f6": {
          "model_module": "@jupyter-widgets/controls",
          "model_name": "SliderStyleModel",
          "model_module_version": "1.5.0",
          "state": {
            "_model_module": "@jupyter-widgets/controls",
            "_model_module_version": "1.5.0",
            "_model_name": "SliderStyleModel",
            "_view_count": null,
            "_view_module": "@jupyter-widgets/base",
            "_view_module_version": "1.2.0",
            "_view_name": "StyleView",
            "description_width": "",
            "handle_color": null
          }
        },
        "766d6f35346d42ca8d076d4d15b7e14d": {
          "model_module": "@jupyter-widgets/base",
          "model_name": "LayoutModel",
          "model_module_version": "1.2.0",
          "state": {
            "_model_module": "@jupyter-widgets/base",
            "_model_module_version": "1.2.0",
            "_model_name": "LayoutModel",
            "_view_count": null,
            "_view_module": "@jupyter-widgets/base",
            "_view_module_version": "1.2.0",
            "_view_name": "LayoutView",
            "align_content": null,
            "align_items": null,
            "align_self": null,
            "border": null,
            "bottom": null,
            "display": null,
            "flex": null,
            "flex_flow": null,
            "grid_area": null,
            "grid_auto_columns": null,
            "grid_auto_flow": null,
            "grid_auto_rows": null,
            "grid_column": null,
            "grid_gap": null,
            "grid_row": null,
            "grid_template_areas": null,
            "grid_template_columns": null,
            "grid_template_rows": null,
            "height": null,
            "justify_content": null,
            "justify_items": null,
            "left": null,
            "margin": null,
            "max_height": null,
            "max_width": null,
            "min_height": null,
            "min_width": null,
            "object_fit": null,
            "object_position": null,
            "order": null,
            "overflow": null,
            "overflow_x": null,
            "overflow_y": null,
            "padding": null,
            "right": null,
            "top": null,
            "visibility": null,
            "width": null
          }
        },
        "a019b9619646496c8dcae430c85fed58": {
          "model_module": "@jupyter-widgets/controls",
          "model_name": "SliderStyleModel",
          "model_module_version": "1.5.0",
          "state": {
            "_model_module": "@jupyter-widgets/controls",
            "_model_module_version": "1.5.0",
            "_model_name": "SliderStyleModel",
            "_view_count": null,
            "_view_module": "@jupyter-widgets/base",
            "_view_module_version": "1.2.0",
            "_view_name": "StyleView",
            "description_width": "",
            "handle_color": null
          }
        },
        "90b15584d4004790a0c7a8aeaadf4d95": {
          "model_module": "@jupyter-widgets/base",
          "model_name": "LayoutModel",
          "model_module_version": "1.2.0",
          "state": {
            "_model_module": "@jupyter-widgets/base",
            "_model_module_version": "1.2.0",
            "_model_name": "LayoutModel",
            "_view_count": null,
            "_view_module": "@jupyter-widgets/base",
            "_view_module_version": "1.2.0",
            "_view_name": "LayoutView",
            "align_content": null,
            "align_items": null,
            "align_self": null,
            "border": null,
            "bottom": null,
            "display": null,
            "flex": null,
            "flex_flow": null,
            "grid_area": null,
            "grid_auto_columns": null,
            "grid_auto_flow": null,
            "grid_auto_rows": null,
            "grid_column": null,
            "grid_gap": null,
            "grid_row": null,
            "grid_template_areas": null,
            "grid_template_columns": null,
            "grid_template_rows": null,
            "height": null,
            "justify_content": null,
            "justify_items": null,
            "left": null,
            "margin": null,
            "max_height": null,
            "max_width": null,
            "min_height": null,
            "min_width": null,
            "object_fit": null,
            "object_position": null,
            "order": null,
            "overflow": null,
            "overflow_x": null,
            "overflow_y": null,
            "padding": null,
            "right": null,
            "top": null,
            "visibility": null,
            "width": null
          }
        },
        "0a887cd31045462785e782b58e676f9a": {
          "model_module": "@jupyter-widgets/controls",
          "model_name": "SliderStyleModel",
          "model_module_version": "1.5.0",
          "state": {
            "_model_module": "@jupyter-widgets/controls",
            "_model_module_version": "1.5.0",
            "_model_name": "SliderStyleModel",
            "_view_count": null,
            "_view_module": "@jupyter-widgets/base",
            "_view_module_version": "1.2.0",
            "_view_name": "StyleView",
            "description_width": "",
            "handle_color": null
          }
        },
        "2bfc2eb3355c445caf0bc406b6cf2ef5": {
          "model_module": "@jupyter-widgets/base",
          "model_name": "LayoutModel",
          "model_module_version": "1.2.0",
          "state": {
            "_model_module": "@jupyter-widgets/base",
            "_model_module_version": "1.2.0",
            "_model_name": "LayoutModel",
            "_view_count": null,
            "_view_module": "@jupyter-widgets/base",
            "_view_module_version": "1.2.0",
            "_view_name": "LayoutView",
            "align_content": null,
            "align_items": null,
            "align_self": null,
            "border": null,
            "bottom": null,
            "display": null,
            "flex": null,
            "flex_flow": null,
            "grid_area": null,
            "grid_auto_columns": null,
            "grid_auto_flow": null,
            "grid_auto_rows": null,
            "grid_column": null,
            "grid_gap": null,
            "grid_row": null,
            "grid_template_areas": null,
            "grid_template_columns": null,
            "grid_template_rows": null,
            "height": null,
            "justify_content": null,
            "justify_items": null,
            "left": null,
            "margin": null,
            "max_height": null,
            "max_width": null,
            "min_height": null,
            "min_width": null,
            "object_fit": null,
            "object_position": null,
            "order": null,
            "overflow": null,
            "overflow_x": null,
            "overflow_y": null,
            "padding": null,
            "right": null,
            "top": null,
            "visibility": null,
            "width": null
          }
        },
        "d1e9563803f9408ba6e2346b1b009ce8": {
          "model_module": "@jupyter-widgets/controls",
          "model_name": "VBoxModel",
          "model_module_version": "1.5.0",
          "state": {
            "_dom_classes": [],
            "_model_module": "@jupyter-widgets/controls",
            "_model_module_version": "1.5.0",
            "_model_name": "VBoxModel",
            "_view_count": null,
            "_view_module": "@jupyter-widgets/controls",
            "_view_module_version": "1.5.0",
            "_view_name": "VBoxView",
            "box_style": "",
            "children": [
              "IPY_MODEL_1d306d6fb4914e14b3014e54a367d51e",
              "IPY_MODEL_b9eb53f170b748e2ae2fd12067424b9a"
            ],
            "layout": "IPY_MODEL_b7414e2359c94dd7a64314cfa3112e23"
          }
        },
        "1d306d6fb4914e14b3014e54a367d51e": {
          "model_module": "@jupyter-widgets/controls",
          "model_name": "HBoxModel",
          "model_module_version": "1.5.0",
          "state": {
            "_dom_classes": [],
            "_model_module": "@jupyter-widgets/controls",
            "_model_module_version": "1.5.0",
            "_model_name": "HBoxModel",
            "_view_count": null,
            "_view_module": "@jupyter-widgets/controls",
            "_view_module_version": "1.5.0",
            "_view_name": "HBoxView",
            "box_style": "",
            "children": [
              "IPY_MODEL_520fa689da5c43898927d04fd340183a"
            ],
            "layout": "IPY_MODEL_bcb04ab4b808467ca99f1f6c26ccb89d"
          }
        },
        "b9eb53f170b748e2ae2fd12067424b9a": {
          "model_module": "@jupyter-widgets/output",
          "model_name": "OutputModel",
          "model_module_version": "1.0.0",
          "state": {
            "_dom_classes": [],
            "_model_module": "@jupyter-widgets/output",
            "_model_module_version": "1.0.0",
            "_model_name": "OutputModel",
            "_view_count": null,
            "_view_module": "@jupyter-widgets/output",
            "_view_module_version": "1.0.0",
            "_view_name": "OutputView",
            "layout": "IPY_MODEL_74e5d5fd763941e5ab51bcc3277a3842",
            "msg_id": "",
            "outputs": [
              {
                "output_type": "display_data",
                "data": {
                  "text/html": "<html>\n<head><meta charset=\"utf-8\" /></head>\n<body>\n    <div>            <script src=\"https://cdnjs.cloudflare.com/ajax/libs/mathjax/2.7.5/MathJax.js?config=TeX-AMS-MML_SVG\"></script><script type=\"text/javascript\">if (window.MathJax && window.MathJax.Hub && window.MathJax.Hub.Config) {window.MathJax.Hub.Config({SVG: {font: \"STIX-Web\"}});}</script>                <script type=\"text/javascript\">window.PlotlyConfig = {MathJaxConfig: 'local'};</script>\n        <script charset=\"utf-8\" src=\"https://cdn.plot.ly/plotly-2.24.1.min.js\"></script>                <div id=\"5cd766cf-0de5-4e20-a180-35309b45909d\" class=\"plotly-graph-div\" style=\"height:500px; width:500px;\"></div>            <script type=\"text/javascript\">                                    window.PLOTLYENV=window.PLOTLYENV || {};                                    if (document.getElementById(\"5cd766cf-0de5-4e20-a180-35309b45909d\")) {                    Plotly.newPlot(                        \"5cd766cf-0de5-4e20-a180-35309b45909d\",                        [{\"hoverinfo\":\"text\",\"marker\":{\"size\":3},\"mode\":\"markers\",\"text\":[\"Ring: 1.0\\n Wire: 17.0\",\"Ring: 2.0\\n Wire: 17.0\",\"Ring: 3.0\\n Wire: 22.0\",\"Ring: 4.0\\n Wire: 22.0\",\"Ring: 5.0\\n Wire: 30.0\",\"Ring: 6.0\\n Wire: 30.0\",\"Ring: 7.0\\n Wire: 36.0\",\"Ring: 8.0\\n Wire: 37.0\",\"Ring: 9.0\\n Wire: 36.0\",\"Ring: 10.0\\n Wire: 36.0\",\"Ring: 11.0\\n Wire: 42.0\",\"Ring: 12.0\\n Wire: 42.0\",\"Ring: 13.0\\n Wire: 52.0\",\"Ring: 14.0\\n Wire: 53.0\",\"Ring: 15.0\\n Wire: 59.0\",\"Ring: 16.0\\n Wire: 59.0\",\"Ring: 17.0\\n Wire: 61.0\",\"Ring: 18.0\\n Wire: 62.0\",\"Ring: 19.0\\n Wire: 67.0\",\"Ring: 20.0\\n Wire: 67.0\",\"Ring: 21.0\\n Wire: 80.0\",\"Ring: 22.0\\n Wire: 80.0\",\"Ring: 23.0\\n Wire: 85.0\",\"Ring: 23.0\\n Wire: 86.0\",\"Ring: 24.0\\n Wire: 86.0\",\"Ring: 25.0\\n Wire: 90.0\",\"Ring: 26.0\\n Wire: 91.0\",\"Ring: 27.0\\n Wire: 97.0\",\"Ring: 28.0\\n Wire: 97.0\"],\"x\":[-7.859634395671023,-9.444288519376707,-10.88582047401449,-12.483420837833108,-14.181496472902428,-14.820002667378198,-17.235537832238283,-18.86126143655943,-20.403567529207148,-22.025864778702584,-23.634949892639206,-25.254241314845817,-27.6033046397881,-29.203745489872666,-31.22161832481931,-32.81408911786262,-34.52295840040564,-36.12267029650279,-37.540303582767876,-39.13764074762915,-41.27305250517588,-42.85389089338426,-44.22010195431314,-44.71934139107654,-45.79924978212141,-48.38941353574472,-49.94284793029554,-51.710064770333005,-53.24774600455672],\"y\":[7.292677314017466,7.531571313661536,8.449590563898758,8.574915231391746,9.66319534492174,11.166706754204807,11.483011443369024,11.523456910918636,12.669901101671819,12.667138755220913,13.724223104332545,13.680286998369288,14.925002411157347,14.839191592628676,14.52348324849472,14.345209536809485,14.766955506431332,14.539963127233438,15.548547316025605,15.305831056333753,14.374295475954856,14.042444594528538,15.227323160529998,13.691942631833156,14.891949794486779,14.002680377580765,13.59294422747971,13.179136658293107,12.72186536614089],\"type\":\"scatter\",\"uid\":\"24f17408-c740-44ae-bba6-c872663d77f4\"}],                        {\"template\":{\"data\":{\"barpolar\":[{\"marker\":{\"line\":{\"color\":\"#E5ECF6\",\"width\":0.5},\"pattern\":{\"fillmode\":\"overlay\",\"size\":10,\"solidity\":0.2}},\"type\":\"barpolar\"}],\"bar\":[{\"error_x\":{\"color\":\"#2a3f5f\"},\"error_y\":{\"color\":\"#2a3f5f\"},\"marker\":{\"line\":{\"color\":\"#E5ECF6\",\"width\":0.5},\"pattern\":{\"fillmode\":\"overlay\",\"size\":10,\"solidity\":0.2}},\"type\":\"bar\"}],\"carpet\":[{\"aaxis\":{\"endlinecolor\":\"#2a3f5f\",\"gridcolor\":\"white\",\"linecolor\":\"white\",\"minorgridcolor\":\"white\",\"startlinecolor\":\"#2a3f5f\"},\"baxis\":{\"endlinecolor\":\"#2a3f5f\",\"gridcolor\":\"white\",\"linecolor\":\"white\",\"minorgridcolor\":\"white\",\"startlinecolor\":\"#2a3f5f\"},\"type\":\"carpet\"}],\"choropleth\":[{\"colorbar\":{\"outlinewidth\":0,\"ticks\":\"\"},\"type\":\"choropleth\"}],\"contourcarpet\":[{\"colorbar\":{\"outlinewidth\":0,\"ticks\":\"\"},\"type\":\"contourcarpet\"}],\"contour\":[{\"colorbar\":{\"outlinewidth\":0,\"ticks\":\"\"},\"colorscale\":[[0.0,\"#0d0887\"],[0.1111111111111111,\"#46039f\"],[0.2222222222222222,\"#7201a8\"],[0.3333333333333333,\"#9c179e\"],[0.4444444444444444,\"#bd3786\"],[0.5555555555555556,\"#d8576b\"],[0.6666666666666666,\"#ed7953\"],[0.7777777777777778,\"#fb9f3a\"],[0.8888888888888888,\"#fdca26\"],[1.0,\"#f0f921\"]],\"type\":\"contour\"}],\"heatmapgl\":[{\"colorbar\":{\"outlinewidth\":0,\"ticks\":\"\"},\"colorscale\":[[0.0,\"#0d0887\"],[0.1111111111111111,\"#46039f\"],[0.2222222222222222,\"#7201a8\"],[0.3333333333333333,\"#9c179e\"],[0.4444444444444444,\"#bd3786\"],[0.5555555555555556,\"#d8576b\"],[0.6666666666666666,\"#ed7953\"],[0.7777777777777778,\"#fb9f3a\"],[0.8888888888888888,\"#fdca26\"],[1.0,\"#f0f921\"]],\"type\":\"heatmapgl\"}],\"heatmap\":[{\"colorbar\":{\"outlinewidth\":0,\"ticks\":\"\"},\"colorscale\":[[0.0,\"#0d0887\"],[0.1111111111111111,\"#46039f\"],[0.2222222222222222,\"#7201a8\"],[0.3333333333333333,\"#9c179e\"],[0.4444444444444444,\"#bd3786\"],[0.5555555555555556,\"#d8576b\"],[0.6666666666666666,\"#ed7953\"],[0.7777777777777778,\"#fb9f3a\"],[0.8888888888888888,\"#fdca26\"],[1.0,\"#f0f921\"]],\"type\":\"heatmap\"}],\"histogram2dcontour\":[{\"colorbar\":{\"outlinewidth\":0,\"ticks\":\"\"},\"colorscale\":[[0.0,\"#0d0887\"],[0.1111111111111111,\"#46039f\"],[0.2222222222222222,\"#7201a8\"],[0.3333333333333333,\"#9c179e\"],[0.4444444444444444,\"#bd3786\"],[0.5555555555555556,\"#d8576b\"],[0.6666666666666666,\"#ed7953\"],[0.7777777777777778,\"#fb9f3a\"],[0.8888888888888888,\"#fdca26\"],[1.0,\"#f0f921\"]],\"type\":\"histogram2dcontour\"}],\"histogram2d\":[{\"colorbar\":{\"outlinewidth\":0,\"ticks\":\"\"},\"colorscale\":[[0.0,\"#0d0887\"],[0.1111111111111111,\"#46039f\"],[0.2222222222222222,\"#7201a8\"],[0.3333333333333333,\"#9c179e\"],[0.4444444444444444,\"#bd3786\"],[0.5555555555555556,\"#d8576b\"],[0.6666666666666666,\"#ed7953\"],[0.7777777777777778,\"#fb9f3a\"],[0.8888888888888888,\"#fdca26\"],[1.0,\"#f0f921\"]],\"type\":\"histogram2d\"}],\"histogram\":[{\"marker\":{\"pattern\":{\"fillmode\":\"overlay\",\"size\":10,\"solidity\":0.2}},\"type\":\"histogram\"}],\"mesh3d\":[{\"colorbar\":{\"outlinewidth\":0,\"ticks\":\"\"},\"type\":\"mesh3d\"}],\"parcoords\":[{\"line\":{\"colorbar\":{\"outlinewidth\":0,\"ticks\":\"\"}},\"type\":\"parcoords\"}],\"pie\":[{\"automargin\":true,\"type\":\"pie\"}],\"scatter3d\":[{\"line\":{\"colorbar\":{\"outlinewidth\":0,\"ticks\":\"\"}},\"marker\":{\"colorbar\":{\"outlinewidth\":0,\"ticks\":\"\"}},\"type\":\"scatter3d\"}],\"scattercarpet\":[{\"marker\":{\"colorbar\":{\"outlinewidth\":0,\"ticks\":\"\"}},\"type\":\"scattercarpet\"}],\"scattergeo\":[{\"marker\":{\"colorbar\":{\"outlinewidth\":0,\"ticks\":\"\"}},\"type\":\"scattergeo\"}],\"scattergl\":[{\"marker\":{\"colorbar\":{\"outlinewidth\":0,\"ticks\":\"\"}},\"type\":\"scattergl\"}],\"scattermapbox\":[{\"marker\":{\"colorbar\":{\"outlinewidth\":0,\"ticks\":\"\"}},\"type\":\"scattermapbox\"}],\"scatterpolargl\":[{\"marker\":{\"colorbar\":{\"outlinewidth\":0,\"ticks\":\"\"}},\"type\":\"scatterpolargl\"}],\"scatterpolar\":[{\"marker\":{\"colorbar\":{\"outlinewidth\":0,\"ticks\":\"\"}},\"type\":\"scatterpolar\"}],\"scatter\":[{\"fillpattern\":{\"fillmode\":\"overlay\",\"size\":10,\"solidity\":0.2},\"type\":\"scatter\"}],\"scatterternary\":[{\"marker\":{\"colorbar\":{\"outlinewidth\":0,\"ticks\":\"\"}},\"type\":\"scatterternary\"}],\"surface\":[{\"colorbar\":{\"outlinewidth\":0,\"ticks\":\"\"},\"colorscale\":[[0.0,\"#0d0887\"],[0.1111111111111111,\"#46039f\"],[0.2222222222222222,\"#7201a8\"],[0.3333333333333333,\"#9c179e\"],[0.4444444444444444,\"#bd3786\"],[0.5555555555555556,\"#d8576b\"],[0.6666666666666666,\"#ed7953\"],[0.7777777777777778,\"#fb9f3a\"],[0.8888888888888888,\"#fdca26\"],[1.0,\"#f0f921\"]],\"type\":\"surface\"}],\"table\":[{\"cells\":{\"fill\":{\"color\":\"#EBF0F8\"},\"line\":{\"color\":\"white\"}},\"header\":{\"fill\":{\"color\":\"#C8D4E3\"},\"line\":{\"color\":\"white\"}},\"type\":\"table\"}]},\"layout\":{\"annotationdefaults\":{\"arrowcolor\":\"#2a3f5f\",\"arrowhead\":0,\"arrowwidth\":1},\"autotypenumbers\":\"strict\",\"coloraxis\":{\"colorbar\":{\"outlinewidth\":0,\"ticks\":\"\"}},\"colorscale\":{\"diverging\":[[0,\"#8e0152\"],[0.1,\"#c51b7d\"],[0.2,\"#de77ae\"],[0.3,\"#f1b6da\"],[0.4,\"#fde0ef\"],[0.5,\"#f7f7f7\"],[0.6,\"#e6f5d0\"],[0.7,\"#b8e186\"],[0.8,\"#7fbc41\"],[0.9,\"#4d9221\"],[1,\"#276419\"]],\"sequential\":[[0.0,\"#0d0887\"],[0.1111111111111111,\"#46039f\"],[0.2222222222222222,\"#7201a8\"],[0.3333333333333333,\"#9c179e\"],[0.4444444444444444,\"#bd3786\"],[0.5555555555555556,\"#d8576b\"],[0.6666666666666666,\"#ed7953\"],[0.7777777777777778,\"#fb9f3a\"],[0.8888888888888888,\"#fdca26\"],[1.0,\"#f0f921\"]],\"sequentialminus\":[[0.0,\"#0d0887\"],[0.1111111111111111,\"#46039f\"],[0.2222222222222222,\"#7201a8\"],[0.3333333333333333,\"#9c179e\"],[0.4444444444444444,\"#bd3786\"],[0.5555555555555556,\"#d8576b\"],[0.6666666666666666,\"#ed7953\"],[0.7777777777777778,\"#fb9f3a\"],[0.8888888888888888,\"#fdca26\"],[1.0,\"#f0f921\"]]},\"colorway\":[\"#636efa\",\"#EF553B\",\"#00cc96\",\"#ab63fa\",\"#FFA15A\",\"#19d3f3\",\"#FF6692\",\"#B6E880\",\"#FF97FF\",\"#FECB52\"],\"font\":{\"color\":\"#2a3f5f\"},\"geo\":{\"bgcolor\":\"white\",\"lakecolor\":\"white\",\"landcolor\":\"#E5ECF6\",\"showlakes\":true,\"showland\":true,\"subunitcolor\":\"white\"},\"hoverlabel\":{\"align\":\"left\"},\"hovermode\":\"closest\",\"mapbox\":{\"style\":\"light\"},\"paper_bgcolor\":\"white\",\"plot_bgcolor\":\"#E5ECF6\",\"polar\":{\"angularaxis\":{\"gridcolor\":\"white\",\"linecolor\":\"white\",\"ticks\":\"\"},\"bgcolor\":\"#E5ECF6\",\"radialaxis\":{\"gridcolor\":\"white\",\"linecolor\":\"white\",\"ticks\":\"\"}},\"scene\":{\"xaxis\":{\"backgroundcolor\":\"#E5ECF6\",\"gridcolor\":\"white\",\"gridwidth\":2,\"linecolor\":\"white\",\"showbackground\":true,\"ticks\":\"\",\"zerolinecolor\":\"white\"},\"yaxis\":{\"backgroundcolor\":\"#E5ECF6\",\"gridcolor\":\"white\",\"gridwidth\":2,\"linecolor\":\"white\",\"showbackground\":true,\"ticks\":\"\",\"zerolinecolor\":\"white\"},\"zaxis\":{\"backgroundcolor\":\"#E5ECF6\",\"gridcolor\":\"white\",\"gridwidth\":2,\"linecolor\":\"white\",\"showbackground\":true,\"ticks\":\"\",\"zerolinecolor\":\"white\"}},\"shapedefaults\":{\"line\":{\"color\":\"#2a3f5f\"}},\"ternary\":{\"aaxis\":{\"gridcolor\":\"white\",\"linecolor\":\"white\",\"ticks\":\"\"},\"baxis\":{\"gridcolor\":\"white\",\"linecolor\":\"white\",\"ticks\":\"\"},\"bgcolor\":\"#E5ECF6\",\"caxis\":{\"gridcolor\":\"white\",\"linecolor\":\"white\",\"ticks\":\"\"}},\"title\":{\"x\":0.05},\"xaxis\":{\"automargin\":true,\"gridcolor\":\"white\",\"linecolor\":\"white\",\"ticks\":\"\",\"title\":{\"standoff\":15},\"zerolinecolor\":\"white\",\"zerolinewidth\":2},\"yaxis\":{\"automargin\":true,\"gridcolor\":\"white\",\"linecolor\":\"white\",\"ticks\":\"\",\"title\":{\"standoff\":15},\"zerolinecolor\":\"white\",\"zerolinewidth\":2}}},\"xaxis\":{\"range\":[-60,60],\"title\":{\"text\":\"X\"}},\"yaxis\":{\"range\":[-60,60],\"title\":{\"text\":\"Y\"}},\"width\":500,\"height\":500,\"showlegend\":false,\"title\":{\"text\":\"Positions of Hits\"},\"shapes\":[{\"line\":{\"color\":\"black\"},\"type\":\"circle\",\"x0\":-10.5,\"x1\":10.5,\"xref\":\"x\",\"y0\":-10.5,\"y1\":10.5,\"yref\":\"y\"},{\"line\":{\"color\":\"black\"},\"type\":\"circle\",\"x0\":-55,\"x1\":55,\"xref\":\"x\",\"y0\":-55,\"y1\":55,\"yref\":\"y\"}]},                        {\"responsive\": true}                    ).then(function(){\n                            \nvar gd = document.getElementById('5cd766cf-0de5-4e20-a180-35309b45909d');\nvar x = new MutationObserver(function (mutations, observer) {{\n        var display = window.getComputedStyle(gd).display;\n        if (!display || display === 'none') {{\n            console.log([gd, 'removed!']);\n            Plotly.purge(gd);\n            observer.disconnect();\n        }}\n}});\n\n// Listen for the removal of the full notebook cells\nvar notebookContainer = gd.closest('#notebook-container');\nif (notebookContainer) {{\n    x.observe(notebookContainer, {childList: true});\n}}\n\n// Listen for the clearing of the current output cell\nvar outputEl = gd.closest('.output');\nif (outputEl) {{\n    x.observe(outputEl, {childList: true});\n}}\n\n                        })                };                            </script>        </div>\n</body>\n</html>"
                },
                "metadata": {}
              }
            ]
          }
        },
        "b7414e2359c94dd7a64314cfa3112e23": {
          "model_module": "@jupyter-widgets/base",
          "model_name": "LayoutModel",
          "model_module_version": "1.2.0",
          "state": {
            "_model_module": "@jupyter-widgets/base",
            "_model_module_version": "1.2.0",
            "_model_name": "LayoutModel",
            "_view_count": null,
            "_view_module": "@jupyter-widgets/base",
            "_view_module_version": "1.2.0",
            "_view_name": "LayoutView",
            "align_content": null,
            "align_items": null,
            "align_self": null,
            "border": null,
            "bottom": null,
            "display": null,
            "flex": null,
            "flex_flow": null,
            "grid_area": null,
            "grid_auto_columns": null,
            "grid_auto_flow": null,
            "grid_auto_rows": null,
            "grid_column": null,
            "grid_gap": null,
            "grid_row": null,
            "grid_template_areas": null,
            "grid_template_columns": null,
            "grid_template_rows": null,
            "height": null,
            "justify_content": null,
            "justify_items": null,
            "left": null,
            "margin": null,
            "max_height": null,
            "max_width": null,
            "min_height": null,
            "min_width": null,
            "object_fit": null,
            "object_position": null,
            "order": null,
            "overflow": null,
            "overflow_x": null,
            "overflow_y": null,
            "padding": null,
            "right": null,
            "top": null,
            "visibility": null,
            "width": null
          }
        },
        "520fa689da5c43898927d04fd340183a": {
          "model_module": "@jupyter-widgets/controls",
          "model_name": "FloatSliderModel",
          "model_module_version": "1.5.0",
          "state": {
            "_dom_classes": [],
            "_model_module": "@jupyter-widgets/controls",
            "_model_module_version": "1.5.0",
            "_model_name": "FloatSliderModel",
            "_view_count": null,
            "_view_module": "@jupyter-widgets/controls",
            "_view_module_version": "1.5.0",
            "_view_name": "FloatSliderView",
            "continuous_update": true,
            "description": "z0",
            "description_tooltip": null,
            "disabled": false,
            "layout": "IPY_MODEL_6a0c351f151640b3a6c0956159007fb2",
            "max": 175,
            "min": 0,
            "orientation": "horizontal",
            "readout": true,
            "readout_format": ".2f",
            "step": 0.1,
            "style": "IPY_MODEL_ed6a59b7e8544695a61f34a2527b541e",
            "value": 118.49999999999999
          }
        },
        "bcb04ab4b808467ca99f1f6c26ccb89d": {
          "model_module": "@jupyter-widgets/base",
          "model_name": "LayoutModel",
          "model_module_version": "1.2.0",
          "state": {
            "_model_module": "@jupyter-widgets/base",
            "_model_module_version": "1.2.0",
            "_model_name": "LayoutModel",
            "_view_count": null,
            "_view_module": "@jupyter-widgets/base",
            "_view_module_version": "1.2.0",
            "_view_name": "LayoutView",
            "align_content": null,
            "align_items": null,
            "align_self": null,
            "border": null,
            "bottom": null,
            "display": null,
            "flex": null,
            "flex_flow": "row wrap",
            "grid_area": null,
            "grid_auto_columns": null,
            "grid_auto_flow": null,
            "grid_auto_rows": null,
            "grid_column": null,
            "grid_gap": null,
            "grid_row": null,
            "grid_template_areas": null,
            "grid_template_columns": null,
            "grid_template_rows": null,
            "height": null,
            "justify_content": null,
            "justify_items": null,
            "left": null,
            "margin": null,
            "max_height": null,
            "max_width": null,
            "min_height": null,
            "min_width": null,
            "object_fit": null,
            "object_position": null,
            "order": null,
            "overflow": null,
            "overflow_x": null,
            "overflow_y": null,
            "padding": null,
            "right": null,
            "top": null,
            "visibility": null,
            "width": null
          }
        },
        "74e5d5fd763941e5ab51bcc3277a3842": {
          "model_module": "@jupyter-widgets/base",
          "model_name": "LayoutModel",
          "model_module_version": "1.2.0",
          "state": {
            "_model_module": "@jupyter-widgets/base",
            "_model_module_version": "1.2.0",
            "_model_name": "LayoutModel",
            "_view_count": null,
            "_view_module": "@jupyter-widgets/base",
            "_view_module_version": "1.2.0",
            "_view_name": "LayoutView",
            "align_content": null,
            "align_items": null,
            "align_self": null,
            "border": null,
            "bottom": null,
            "display": null,
            "flex": null,
            "flex_flow": null,
            "grid_area": null,
            "grid_auto_columns": null,
            "grid_auto_flow": null,
            "grid_auto_rows": null,
            "grid_column": null,
            "grid_gap": null,
            "grid_row": null,
            "grid_template_areas": null,
            "grid_template_columns": null,
            "grid_template_rows": null,
            "height": null,
            "justify_content": null,
            "justify_items": null,
            "left": null,
            "margin": null,
            "max_height": null,
            "max_width": null,
            "min_height": null,
            "min_width": null,
            "object_fit": null,
            "object_position": null,
            "order": null,
            "overflow": null,
            "overflow_x": null,
            "overflow_y": null,
            "padding": null,
            "right": null,
            "top": null,
            "visibility": null,
            "width": null
          }
        },
        "6a0c351f151640b3a6c0956159007fb2": {
          "model_module": "@jupyter-widgets/base",
          "model_name": "LayoutModel",
          "model_module_version": "1.2.0",
          "state": {
            "_model_module": "@jupyter-widgets/base",
            "_model_module_version": "1.2.0",
            "_model_name": "LayoutModel",
            "_view_count": null,
            "_view_module": "@jupyter-widgets/base",
            "_view_module_version": "1.2.0",
            "_view_name": "LayoutView",
            "align_content": null,
            "align_items": null,
            "align_self": null,
            "border": null,
            "bottom": null,
            "display": null,
            "flex": null,
            "flex_flow": null,
            "grid_area": null,
            "grid_auto_columns": null,
            "grid_auto_flow": null,
            "grid_auto_rows": null,
            "grid_column": null,
            "grid_gap": null,
            "grid_row": null,
            "grid_template_areas": null,
            "grid_template_columns": null,
            "grid_template_rows": null,
            "height": null,
            "justify_content": null,
            "justify_items": null,
            "left": null,
            "margin": null,
            "max_height": null,
            "max_width": null,
            "min_height": null,
            "min_width": null,
            "object_fit": null,
            "object_position": null,
            "order": null,
            "overflow": null,
            "overflow_x": null,
            "overflow_y": null,
            "padding": null,
            "right": null,
            "top": null,
            "visibility": null,
            "width": null
          }
        },
        "ed6a59b7e8544695a61f34a2527b541e": {
          "model_module": "@jupyter-widgets/controls",
          "model_name": "SliderStyleModel",
          "model_module_version": "1.5.0",
          "state": {
            "_model_module": "@jupyter-widgets/controls",
            "_model_module_version": "1.5.0",
            "_model_name": "SliderStyleModel",
            "_view_count": null,
            "_view_module": "@jupyter-widgets/base",
            "_view_module_version": "1.2.0",
            "_view_name": "StyleView",
            "description_width": "",
            "handle_color": null
          }
        },
        "98d3fafc672148448f99d7cbcbe41aff": {
          "model_module": "@jupyter-widgets/controls",
          "model_name": "VBoxModel",
          "model_module_version": "1.5.0",
          "state": {
            "_dom_classes": [],
            "_model_module": "@jupyter-widgets/controls",
            "_model_module_version": "1.5.0",
            "_model_name": "VBoxModel",
            "_view_count": null,
            "_view_module": "@jupyter-widgets/controls",
            "_view_module_version": "1.5.0",
            "_view_name": "VBoxView",
            "box_style": "",
            "children": [
              "IPY_MODEL_709b38056f8c4756ab4443d852930c29",
              "IPY_MODEL_ee395579246f49ceb00249383e4c490c"
            ],
            "layout": "IPY_MODEL_bef7f61611884d458c84bfa3f0eb31fc"
          }
        },
        "709b38056f8c4756ab4443d852930c29": {
          "model_module": "@jupyter-widgets/controls",
          "model_name": "HBoxModel",
          "model_module_version": "1.5.0",
          "state": {
            "_dom_classes": [],
            "_model_module": "@jupyter-widgets/controls",
            "_model_module_version": "1.5.0",
            "_model_name": "HBoxModel",
            "_view_count": null,
            "_view_module": "@jupyter-widgets/controls",
            "_view_module_version": "1.5.0",
            "_view_name": "HBoxView",
            "box_style": "",
            "children": [
              "IPY_MODEL_2c96fadb6ef84c72a42179a61e9f8870",
              "IPY_MODEL_748ecb5521d040668a45ce132fbe287c",
              "IPY_MODEL_ac63f41e2fb445848dee9a752aa7f9c5",
              "IPY_MODEL_8f3cb7c88fd3437a8ce12fba9fc77ea7"
            ],
            "layout": "IPY_MODEL_373153516bad44b4a56bf175f72839ae"
          }
        },
        "ee395579246f49ceb00249383e4c490c": {
          "model_module": "@jupyter-widgets/output",
          "model_name": "OutputModel",
          "model_module_version": "1.0.0",
          "state": {
            "_dom_classes": [],
            "_model_module": "@jupyter-widgets/output",
            "_model_module_version": "1.0.0",
            "_model_name": "OutputModel",
            "_view_count": null,
            "_view_module": "@jupyter-widgets/output",
            "_view_module_version": "1.0.0",
            "_view_name": "OutputView",
            "layout": "IPY_MODEL_c2797aef4f18430f9a96faa1407e41fc",
            "msg_id": "",
            "outputs": [
              {
                "output_type": "display_data",
                "data": {
                  "text/html": "<html>\n<head><meta charset=\"utf-8\" /></head>\n<body>\n    <div>            <script src=\"https://cdnjs.cloudflare.com/ajax/libs/mathjax/2.7.5/MathJax.js?config=TeX-AMS-MML_SVG\"></script><script type=\"text/javascript\">if (window.MathJax && window.MathJax.Hub && window.MathJax.Hub.Config) {window.MathJax.Hub.Config({SVG: {font: \"STIX-Web\"}});}</script>                <script type=\"text/javascript\">window.PlotlyConfig = {MathJaxConfig: 'local'};</script>\n        <script charset=\"utf-8\" src=\"https://cdn.plot.ly/plotly-2.24.1.min.js\"></script>                <div id=\"27da8c2d-8bcf-4013-a470-6b7c68c20ebf\" class=\"plotly-graph-div\" style=\"height:500px; width:500px;\"></div>            <script type=\"text/javascript\">                                    window.PLOTLYENV=window.PLOTLYENV || {};                                    if (document.getElementById(\"27da8c2d-8bcf-4013-a470-6b7c68c20ebf\")) {                    Plotly.newPlot(                        \"27da8c2d-8bcf-4013-a470-6b7c68c20ebf\",                        [{\"marker\":{\"color\":\"red\"},\"mode\":\"lines\",\"name\":\"track\",\"type\":\"scatter\",\"uid\":\"59e0186d-bb80-462e-a38d-2d7c36d4a4c5\",\"x\":[1.0658141036401503e-14,0.21674228738417511,0.43379208041897144,0.6511472326096914,0.8688055944418593,1.0867650134023812,1.3050233340009036,1.5235783977910984,1.74242804339206,1.9615701065096083,2.1810024199577285,2.400722813679998,2.620729114771084,2.841019147498166,3.061590733322486,3.2824416909208765,3.503569836207415,3.7249729823548847,3.9466489398164946,4.1685955163475015,4.390810517026935,4.613291744279238,4.836036997896031,5.059044075057869,5.28231077035602,5.505834875814312,5.729614180910911,5.953646472600198,6.177929535334709,6.402461151086971,6.627239099371462,6.8522611572665895,7.077525099436642,7.303028698153867,7.528769723320391,7.754745942490359,7.98095512089197,8.207395021449631,8.434063404806004,8.6609580293442,8.888076651209936,9.115417024333755,9.342976900453177,9.570754029134974,9.79874615779741,10.026951031732569,10.255366394128561,10.48398998609191,10.712819546669863,10.941852812872753,11.171087519696432,11.400521400144559,11.630152185251099,11.859977604102788,12.089995383861506,12.320203249786807,12.55059892525841,12.781180131798681,13.011944589095258,13.24289001502347,13.474014125669008,13.70531463535044,13.93678925664192,14.16843570039568,14.400251675764746,14.632234890225558,14.864383049600722,15.096693858081569,15.329165018250954,15.561794231105926,15.79457919608054,16.027517611068504,16.260607172446008,16.493845575094497,16.727230512423446,16.960759676393238,17.194430757537887,17.428241444987933,17.66218942649334,17.89627238844627,18.13048801590402,18.3648339926119,18.599308001026124,18.833907722336814,19.068630836490797,19.303475022214627,19.53843795703758,19.77351731731452,20.008710778248954,20.244016013916,20.47943069728538,20.714952500244443,20.950579093621215,21.186308147207384,21.422137329781346,21.65806430913134,21.8940867520784,22.130202324499493,22.3664086913506,22.602703516689772,22.839084463700317,23.075549194713794,23.31209537123319,23.548720653956092,23.785422702797725,24.02219917691416,24.259047734725442,24.495966033938736,24.732951731571557,24.970002483974838,25.207115946856156,25.444289775302977,25.681521623805725,25.918809146281063,26.156149996095078,26.393541826086448,26.630982288589752,26.868469035458567,27.105999718088754,27.34357198744167,27.58118349406745,27.81883188812814,28.056514819421018,28.294229937401802,28.531974891207884,28.76974732968165,29.007544901393636,29.24536525466581,29.483206037594908,29.72106489807557,29.958939483823684,30.196827442399613,30.43472642123146,30.672634067638402,30.910548028853835,31.148465952048717,31.386385484354864,31.624304272888136,31.86221996477176,32.100130207159594,32.338032647259375,32.575924932356024,32.813804709834876,33.051669627204944,33.2895173321222,33.52734547241289,33.76515169609667,34.00293365140999,34.24068898682926,34.478415351094164,34.71611039323091,34.95377176257546,35.19139710879672,35.42898408191994,35.6665303323498,35.904033510893704,36.14149126878502,36.378901257706275,36.61626112981248,36.853568537754185,37.09082113470081,37.32801657436386,37.56515251102003,37.802226599534514,38.03923649538411,38.27617985468047,38.51305433419323,38.74985759137325,38.98658728437567,39.223241072083226,39.45981661412924,39.69631157092084,39.93272360366213,40.16905037437727,40.405289545933584,40.64143878206477,40.87749574739384,41.11345810745641,41.3493235287236,41.58508967862525,41.82075422557291,42.05631483898294,42.29176918929953,42.52711494801773,42.76234978770657,42.997471382031904,43.232477405779605,43.467365534878425,43.70213344642302,43.936778818696936,44.17129933119558,44.405692664649095,44.63995650104543,44.874088523653114,45.108086417044284,45.3419478671175,45.57567056112069,45.80925218767398,46.042690436792576,46.2759829999096,46.50912756989896,46.742121841098054,46.97496350933073,47.20765027192993,47.440179827760545,47.67254987724214,47.90475812237171,48.1368022667464,48.36868001558619,48.600389075756674,48.831927155791604,49.063291965915695,49.29448121806716,49.525492625920364,49.75632390490848,49.98697277224603,50.217436946951466,50.447714149869796,50.677802103695,50.9076985329927,51.137401164222496,51.3669077257606,51.5962159479222,51.82532356298396,52.054228305206415,52.28292791085645,52.51142011822954,52.73970266767229,52.96777330160466,53.19562976454231,53.423269803118956,53.650691166108615,53.87789160444789,54.10486887125815,54.331620721867864,54.558144913834695,54.78443920696773,55.01050136334962,55.23632914735871,55.46192032569113,55.68727266738293,55.91238394383208,56.1372519288206,56.36187439853647,56.58624913159569,56.810373909064225,57.03424651447996,57.25786473387459,57.48122635579557,57.70432917132792,57.92717097411615,58.14974956038598,58.37206272896623,58.594108281310525,58.81588402151905,59.037387756360275,59.25861729529265,59.479570450486264,59.700245036844464,59.920638872025506,60.14074977646407,60.36057557339291,60.58011408886428,60.79936315177147,61.018320593870335,61.23698424980064,61.45535195710754,61.67342155626298,61.89119089068694,62.108657806768946,62.32582015388917,62.54267578443985,62.759222553846435,62.97545832058884,63.19138094622262,63.406988295400126,63.62227823589157,63.837248638606184,64.05189737761322,64.266222330163,64.4802213767079,64.69389240092332,64.90723328972861,65.12024193330794,65.33291622513123,65.54525406197492,65.7572533439428,65.96891197448676,66.18022786042752,66.39119891197538,66.60182304275082,66.81209816980515,67.02202221364115,67.2315930982336,67.44080875104983,67.64966710307016,67.85816608880845,68.06630364633244,68.27407771728421,68.48148624690052,68.68852718403309,68.8951984811689,69.10149809445053,69.30742398369622,69.51297411242012,69.71814644785246,69.92293896095963,70.1273496264642,70.33137642286505,70.53501733245722,70.738270341352,70.9411334394968,71.14360462069497,71.34568188262571,71.54736322686387,71.74864665889964,71.94953018815836,72.15001182802021,72.35008959583979,72.54976151296569,72.74902560476023,72.94787990061884,73.14632243398957,73.34435124239256,73.5419643674395,73.7391598548529,73.93593575448546,74.13229012033933,74.32822101058547,74.52372648758268,74.71880461789686,74.91345347232016,75.10767112588996,75.30145565790804,75.4948051519594,75.68771769593137,75.88019138203244,76.07222430681117,76.26381457117496,76.4549602804089,76.64565954419437,76.83591047662799,77.02571119623997,77.21505982601295,77.40395449340042,77.59239333034532,77.78037447329848,77.96789606323705,78.15495624568285,78.34155317072084,78.52768499301725,78.71334987183792,78.89854597106647,79.08327145922253,79.26752450947973,79.45130329968387,79.63460601237091,79.8174308347849,79.99977595889597,80.18163958141818,80.36301990382736,80.54391513237886,80.7243234781254,80.90424315693463,81.08367238950679,81.26260940139241,81.44105242300978,81.61899968966247,81.79644944155675,81.97339992381899,82.14984938651313,82.32579608465784,82.50123827824382,82.67617423225106,82.85060221666596,83.02452050649843,83.19792738179895,83.37082112767558,83.54320003431098,83.7150623969792,83.88640651606268,84.05723069706889,84.22753325064728,84.39731249260583,84.56656674392775,84.73529433078816,84.90349358457051,85.07116284188322,85.23830044457603,85.40490473975642,85.57097407980596,85.73650682239668,85.90150133050717,86.06595597243887,86.22986912183215,86.3932391576825,86.55606446435641,86.71834343160742,86.88007445459208,87.0412559338858,87.2018862754986,87.36196389089095,87.52148719698948,87.68045461620258,87.83886457643608,87.99671551110868,88.15400585916757,88.3107340651038,88.46689857896766,88.62249785638406,88.7775303585677,88.9319945523384,89.08588891013622,89.23921191003654,89.39196203576518,89.54413777671326,89.6957376279523,89.84676009024899,89.99720367008013,90.1470668796472,90.29634823689133,90.44504626550774,90.59315949496047,90.74068646049685,90.88762570316206,91.03397576981348,91.17973521313506,91.32490259165172,91.46947646974358,91.61345541766005,91.75683801153409,91.89962283339625,92.0418084711887,92.18339351877916,92.32437657597487,92.46475624853637,92.60453114819134,92.7436998926483,92.8822611056103,93.02021341678847,93.15755546191566,93.29428588275992,93.43040332713787,93.5659064489281,93.70079390808448,93.83506437064946,93.9687165087672,94.10174900069674,94.234160530825,94.36594978967995,94.49711547394332,94.62765628646379,94.7575709362695,94.88685813858106,95.01551661482415,95.14354509264216,95.2709423059088,95.39770699474066,95.52383790550954,95.649333790855,95.77419340969661,95.89841552724623,96.02199891502025,96.14494235085168,96.26724461890235,96.3889045096748,96.50992082002432,96.63029235317084,96.75001791871077,96.86909633262871,96.98752641730927,97.10530700154861,97.22243692056608,97.33891501601573,97.45474013599777,97.56991113506994,97.68442687425885,97.79828622107124,97.91148804950521,98.02403124006129,98.1359146797536,98.24713726212076,98.3576978872369,98.46759546172252,98.57682889875531,98.68539711808087,98.7932990460234,98.90053361549639,99.00709976601304,99.11299644369686,99.21822260129203,99.32277719817381,99.42665920035877,99.52986758051505,99.63240131797254,99.73425939873293,99.83544081547976,99.93594456758836,100.0357696611358,100.13491510891066,100.23337993042284,100.33116315191317,100.42826380636319,100.52468093350458,100.6204135798287,100.71546079859603,100.80982164984552,100.9034952004039,100.9964805238949,101.0887767007484,101.18038281820954,101.27129797034775,101.36152125806568,101.45105178910812,101.53988867807084,101.62803104640928,101.71547802244731,101.80222874138582,101.88828234531125,101.97363798320411,102.0582948109474,102.14225199133493,102.2255086940796,102.30806409582159,102.38991738013664,102.4710677375439,102.55151436551414,102.6312564684775,102.71029325783161,102.78862395194908,102.86624777618549,102.94316396288689,103.01937175139747,103.09487038806708,103.16965912625862,103.2437372263555,103.31710395576894,103.38975858894514,103.46170040737256,103.53292869958896,103.60344276118846,103.67324189482851,103.74232541023675,103.81069262421786,103.87834286066038,103.94527545054326,104.0114897319426,104.07698505003815,104.14176075711971,104.20581621259373,104.26915078298943,104.3317638419652,104.39365477031473,104.45482295597319,104.5152677940232,104.57498868670092,104.63398504340186,104.69225628068679,104.74980182228748,104.80662109911238,104.86271354925229,104.9180786179859,104.97271575778528,105.02662442832127,105.07980409646885,105.1322542363124,105.18397432915094,105.23496386350317,105.2852223351126,105.33474924695255,105.38354410923102,105.43160643939554,105.47893576213795,105.5255316093991,105.5713935203735,105.61652104151385,105.66091372653551,105.704571136421,105.74749283942418,105.78967841107472,105.83112743418211,105.87183949883993,105.91181420242982,105.95105114962551,105.98954995239666,106.02731023001279,106.06433160904699,106.10061372337958,106.13615621420185,106.17095873001944,106.20502092665599,106.23834246725643,106.2709230222903,106.30276226955515,106.33385989417948,106.36421558862617,106.39382905269522,106.42269999352693,106.45082812560469,106.4782131707578,106.50485485816431,106.5307529243536,106.55590711320907,106.58031717597055,106.60398287123694,106.6269039649684,106.64908023048883,106.67051144848801,106.69119740702382,106.7111379015243,106.73033273478967,106.74878171699437,106.76648466568881,106.78344140580126,106.79965176963951,106.81511559689261,106.82983273463245,106.84380303731517,106.85702636678269,106.8695025922641,106.88123159037683,106.89221324512803,106.90244744791559,106.91193409752925,106.92067310015165,106.9286643693592,106.93590782612293,106.94240339880933,106.94815102318103,106.95315064239738,106.95740220701508,106.96090567498868,106.96366101167094,106.9656681898132,106.96692718956565,106.96743799847754,106.96720061149725,106.96621503097239,106.9644812666498,106.96199933567536,106.95876926259392,106.954791079349,106.95006482528248,106.94459054713425,106.93836829904171,106.9313981425392,106.92368014655746,106.91521438742295,106.90600094885704,106.8960399219752,106.88533140528615,106.8738755046908,106.86167233348125,106.8487220123397,106.83502466933722,106.82058043993241,106.80538946697025,106.7894519006805,106.77276789867632,106.75533762595266,106.73716125488465,106.71823896522591,106.69857094410675,106.67815738603232,106.65699849288069,106.63509447390085,106.61244554571066,106.5890519322947,106.56491386500201,106.54003158254389,106.51440533099147,106.48803536377328,106.46092194167277,106.43306533282573,106.40446581271763,106.37512366418088,106.34503917739207,106.31421264986905,106.28264438646804,106.25033469938057,106.21728390813044,106.18349233957053,106.14896032787954,106.11368821455875,106.0776763484286,106.04092508562523,106.00343478959702,105.96520583110093,105.92623858819884,105.88653344625384,105.84609079792642,105.80491104317059,105.76299458922983,105.72034185063326,105.67695324919131,105.63282921399173,105.58797018139525,105.54237659503129,105.49604890579359,105.44898757183572,105.40119305856656,105.35266583864575,105.30340639197888,105.25341520571293,105.20269277423128,105.15123959914891,105.09905618930745,105.0461430607701,104.99250073681657,104.93812974793784,104.883030631831,104.82720393339389,104.77065020471969,104.71337000509145,104.65536390097665,104.59663246602153,104.5371762810454,104.47699593403493,104.41609202013832,104.35446514165946,104.29211590805184,104.22904493591275,104.16525284897693,104.10074027811059,104.03550786130506,103.96955624367057,103.9028860774298,103.8354980219114,103.76739274354362,103.69857091584758,103.62903321943061,103.55878034197961,103.48781297825418,103.41613183007979,103.34373760634077,103.2706310229734,103.19681280295877,103.1222836763156,103.04704438009308,102.97109565836358,102.89443826221522,102.81707294974456,102.73900048604898,102.66022164321919,102.58073720033158,102.5005479434405,102.4196546655705,102.33805816670848,102.25575925379576,102.17275874072018,102.08905744830794,102.00465620431555,101.91955584342165,101.83375720721868,101.7472611442047,101.6600685097748,101.57218016621285,101.48359698268281,101.39431983522022,101.30434960672353,101.21368718694535,101.12233347248363,101.03028936677283,100.93755578007499,100.84413362947065,100.75002383884994,100.65522733890326,100.55974506711222,100.46357796774026,100.3667269918234,100.26919309716077,100.17097724830519,100.07208041655358,99.97250357993738,99.87224772321292,99.77131383785158,99.66970292203008,99.56741598062058,99.4644540251807,99.3608180739436,99.2565091518078,99.15152829032715,99.04587652770059,98.93955490876183,98.83256448496913,98.72490631439479,98.61658146171473,98.50759099819803,98.39793600169614,98.28761755663247,98.17663675399152,98.06499469130806,97.95269247265641,97.83973120863938,97.7261120163774,97.61183601949737,97.49690434812169,97.38131813885687,97.26507853478252,97.14818668543987,97.03064374682053,96.91245088135497,96.79360925790105,96.67412005173247,96.55398444452717,96.43320362435554,96.3117787856688,96.18971112928718,96.0670018623879,95.9436521984934,95.81966335745923,95.69503656546206,95.56977305498752,95.44387406481795,95.31734084002025,95.19017463193359,95.06237669815684,94.9339483025364,94.80489071515348,94.67520521231162,94.54489307652416,94.41395559650141,94.28239406713791,94.15020978949983,94.01740407081178,93.8839782244442,93.74993356990016,93.61527143280239,93.47999314488015,93.3441000439561,93.20759347393297,93.07047478478043,92.93274533252156,92.79440647921962,92.6554595929644,92.51590604785882,92.37574722400531,92.23498450749213,92.09361929037968,91.95165297068674,91.80908695237665,91.66592264534341,91.52216146539774,91.37780483425311,91.2328541795116,91.08731093464988,90.94117653900497,90.79445243775999,90.64714008192996,90.49924092834738,90.3507564396478,90.20168808425538,90.05203733636847,89.90180567594481,89.75099458868718,89.59960556602837,89.44764010511673,89.29509970880122,89.14198588561656,88.98830014976835,88.83404402111805,88.67921902516794,88.52382669304615,88.3678685614913,88.21134617283758,88.05426107499922,87.8966148214554,87.73840897123478,87.57964508890007,87.42032474453262,87.26044951371688,87.10002097752474,86.93904072249998,86.77751034064258,86.61543142939294,86.45280559161608,86.2896344355858,86.12591957496879,85.96166262880865,85.79686522150993,85.6315289828219,85.4656555478227,85.29924655690294,85.13230365574958,84.96482849532964,84.7968227318739,84.62828802686046,84.45922604699834,84.289638464211,84.11952695561979,83.94889320352743,83.77773889540126,83.60606572385664,83.43387538664021,83.26116958661302,83.08795003173381,82.91421843504196,82.73997651464072,82.56522599368009,82.38996860033991,82.21420606781261,82.03794013428616,81.86117254292691,81.68390504186229,81.50613938416353,81.32787732782833,81.1491206357635,80.9698710757675,80.79013042051298,80.60990044752921,80.42918293918453,80.2479796826687,80.06629246997534,79.88412309788393,79.70147336794238,79.51834508644902,79.33474006443473,79.15066011764512,78.96610706652247,78.78108273618786,78.59558895642301,78.40962756165217,78.22320039092409,78.03630928789377,77.84895610080417,77.66114268246805,77.47287089024957,77.28414258604592,77.09495963626892,76.90532391182663,76.71523728810469,76.52470164494792,76.33371886664169,76.14229084189326,75.95041946381309,75.75810662989619,75.56535424200327,75.372164206342,75.17853843344811,74.9844788381665,74.78998733963235,74.59506586125208,74.39971633068438,74.20394067982113,74.00774084476828,73.8111187658267,73.614076387473,73.4166156583403,73.21873853119902,73.02044696293743,72.82174291454243,72.6226283510801,72.42310524167627,72.22317555949704,72.0228412817293,71.82210438956108,71.62096686816213,71.4194307066641,71.21749789814102,71.0151704395895,70.812450331909,70.60933957988206,70.4058401921545,70.2019541812154,69.99768356337742,69.79303035875672,69.58799659125307,69.3825842885297,69.17679548199337,68.97063220677427,68.76409650170584,68.55719040930458,68.34991597574997,68.14227525086415,67.93427028809168,67.72590314447919,67.51717588065506,67.30809056080909,67.098649252672,66.8888540274951,66.67870696002959,66.46821012850629,66.25736561461494,66.04617550348372,65.83464188365849,65.62276684708223,65.41055248907435,65.19800090830994,64.98511420679895,64.77189448986562,64.55834386612739,64.34446444747425,64.13025834904775,63.91572768922011,63.70087458957328,63.48570117487797,63.27020957307252,63.054401915242074,62.83828033559733,62.62184697145348],\"y\":[0.0,0.09812493893961971,0.19556779463452756,0.29232760343221287,0.38840340843513843,0.4837942595101623,0.5784992132979028,0.6725173332221033,0.7658476894989263,0.8584893591460627,0.9504414259919542,1.0417029806847609,1.1322731207014414,1.2221509503566352,1.3113355808115017,1.3998261300825305,1.487621723050296,1.5747214914680683,1.6611245739703975,1.7468301160816395,1.8318372702244687,1.9161451957281486,1.99975305883693,2.082660032718252,2.1648652974709535,2.2463680401333477,2.327167454691306,2.4072627420861608,2.4866531102226617,2.5653377739768217,2.643315955203633,2.7205868827447546,2.7971497924362296,2.8730039271159313,2.9481485366311233,3.0225828778458492,3.096306214648294,3.16931781795806,3.2416169657333427,3.313202942978151,3.3840750417492984,3.454232561163465,3.5236748074040634,3.5924010937281423,3.6604107404732105,3.7277030750638858,3.794277432018589,3.8601331529561094,3.9252695866021554,3.9896860887957217,4.053382022495512,4.116356757786264,4.178609671884885,4.240140149146725,4.3009475810715685,4.361031366309717,4.420390910667891,4.479025627115135,4.536934935788622,4.594118263999405,4.650575046237989,4.706304724180043,4.761306746691872,4.815580569835831,4.869125656875767,4.921941478282278,4.974027511737987,5.025383242142681,5.076008161618418,5.125901769514556,5.175063572412668,5.223493084131448,5.271189825731568,5.318153325520299,5.364383119056285,5.409878749154089,5.454639765888686,5.498665726599995,5.541956195897171,5.584510745662939,5.626328955057886,5.6674104105244965,5.7077547057913876,5.747361441877217,5.786230227094677,5.824360677054358,5.861752414668572,5.898405070155022,5.934318281040547,5.96949169216461,6.003924955682876,6.037617731070668,6.07056968512623,6.102780491974158,6.134249833068523,6.164977397196068,6.194962880479295,6.224205986379374,6.252706425699259,6.280463916586328,6.307478184535384,6.333748962391184,6.3592759903512075,6.384059015968177,6.408097794152567,6.4313920871749986,6.453941664668633,6.475746303631411,6.49680578842829,6.517119910793383,6.536688469831958,6.5555112720224855,6.5735881312185285,6.590918868650618,6.607503312927918,6.623341300040082,6.638432673358707,6.652777283639011,6.666374989021222,6.67922565503207,6.691329154586015,6.702685367986575,6.71329418292747,6.723155494493781,6.732269205162936,6.7406352248057,6.748253470687075,6.755123867467063,6.761246347201521,6.766620849342715,6.771247320739974,6.775125715640215,6.778255995688411,6.780638129927937,6.782272094800874,6.783157874148273,6.783295459210308,6.782684848626332,6.781326048434934,6.779219072073843,6.7763639403798095,6.772760681588423,6.768409331333771,6.763309932648156,6.757462535961622,6.750867199101506,6.743523987291766,6.735432973152484,6.726594236699,6.71700786534123,6.706673953882742,6.695592604519817,6.6837639268404985,6.671188037823455,6.657865061836802,6.643795130636931,6.628978383367198,6.613414966556519,6.597105034117888,6.580048747346964,6.562246274920369,6.543697792894079,6.524403484701665,6.504363541152486,6.483578160429786,6.462047548088734,6.439771917054415,6.416751487619706,6.39298648744311,6.3684771515465,6.343223722312757,6.317226449483442,6.29048559015628,6.263001408782628,6.23477417716488,6.205804174453704,6.1760916871454015,6.145637009078982,6.11444044143326,6.0825022927239445,6.049822878800541,6.01640252284318,5.9822415553595505,5.947340314181474,5.911699144461707,5.87531839867043,5.83819843659181,5.8003396253204045,5.76174233925758,5.72240696010779,5.682333876874765,5.641523485857718,5.599976190647382,5.557692402122058,5.51467253844352,5.4709170250528985,5.42642629466647,5.381200787271368,5.335240950121232,5.288547237731805,5.241120111876413,5.192960041581415,5.144067503121548,5.094442980015259,5.044086963019836,4.992999950126688,4.941182446556269,4.888634964753194,4.835358024381122,4.781352152317652,4.726617882649066,4.671155756665044,4.614966322853391,4.558050136894522,4.500407761656021,4.44203976718704,4.382946730712689,4.3231292366283185,4.2625878764937255,4.20132324902734,4.13933596010024,4.076626622730245,4.013195857075772,3.949044290429768,3.884172557213475,3.8185812989701304,3.752271164358689,3.6852428091473115,3.617496896207001,3.5490340955049646,3.4798550840979914,3.409960546125774,3.3393511728041716,3.268027662418305,3.19599072031572,3.1232410588993673,3.0497793976205543,2.9756064629718963,2.900722988480041,2.825129714698477,2.748827389200187,2.6718167665702595,2.5940986083984114,2.515673683271473,2.436542766765797,2.3567066414395867,2.2761660968250936,2.1949219294209144,2.1129749426840334,2.0303259470219217,1.946975759784479,1.862925205256019,1.778175114647027,1.6927263260860173,1.6065796846112192,1.5197360421621937,1.4321962575714622,1.3439611965559521,1.2550317317084847,1.1654087424891202,1.0750931152164611,0.9840857430588841,0.8923875260257716,0.7999993709584743,0.706922191521457,0.6131569081932611,0.5187044482573526,0.42356574579292783,0.3277417416657755,0.23123338351888378,0.13404162576311762,0.036167429567711906,-0.062388237149107795,-0.16162439972981701,-0.2615400767871847,-0.3621342802139935,-0.4634060151927599,-0.5653542802056677,-0.6679780670443591,-0.7712763608200106,-0.8752481399732943,-0.9798923762845106,-1.0852080348837774,-1.1911940742611904,-1.2978494462772545,-1.4051730961730726,-1.5131639625809612,-1.62182097753481,-1.7311430664806977,-1.8411291482875072,-1.9517781352576407,-2.063088933137749,-2.1750604411295598,-2.287691551900778,-2.4009811515960138,-2.5149281198478093,-2.6295313297877243,-2.744789648057477,-2.8607019348201277,-2.9772670437714055,-3.0944838221510054,-3.2123511107539713,-3.330867743942207,-3.4500325496559867,-3.569844349425523,-3.6903019583826193,-3.811404185272437,-3.9331498324652614,-4.055537695968283,-4.178566565437578,-4.302235224190042,-4.426542449215461,-4.551487011188527,-4.67706767448108,-4.803283197174295,-4.930132331070915,-5.05761382170769,-5.185726408367728,-5.314468824092955,-5.443839795696654,-5.573838043776078,-5.704462282725068,-5.835711220746795,-5.967583559866519,-6.100077995944432,-6.2331932186885695,-6.366927911667702,-6.501280752324455,-6.636250411988335,-6.771835555888835,-6.908034843168707,-7.044846926897151,-7.182270454083216,-7.3203040656891005,-7.45894639664364,-7.598196075855789,-7.7380517262281785,-7.878511964670778,-8.01957540211449,-8.161240643524955,-8.303506287916328,-8.446370928365127,-8.58983315202417,-8.733891540136483,-8.878544668049415,-9.023791105228703,-9.169629415272567,-9.316058155925965,-9.46307587909483,-9.61068113086045,-9.758872451493758,-9.907648375469819,-10.057007431482319,-10.206948142458131,-10.357469025571874,-10.508568592260616,-10.660245348238568,-10.812497793511923,-10.965324422393621,-11.118723723518244,-11.272694179857012,-11.427234268732725,-11.582342461834905,-11.738017225234799,-11.894257019400655,-12.051060299212857,-12.208425513979279,-12.366351107450576,-12.524835517835605,-12.683877177816797,-12.843474514565798,-13.003625949758877,-13.164329899592602,-13.325584774799509,-13.487388980663816,-13.649740917037164,-13.812638978354471,-13.976081553649784,-14.140067026572268,-14.304593775402104,-14.469660173066607,-14.635264587156243,-14.801405379940874,-14.968080908385836,-15.135289524168265,-15.303029573693387,-15.471299398110837,-15.640097333331106,-15.809421710041988,-15.979270853725062,-16.149643084672256,-16.320536718002522,-16.491950063678416,-16.663881426522842,-16.836329106235816,-17.00929139741133,-17.18276658955412,-17.356752967096632,-17.53124880941602,-17.706252390851134,-17.881761980719553,-18.057775843334746,-18.234292238023208,-18.41130941914173,-18.588825636094576,-18.76683913335085,-18.94534815046184,-19.12435092207847,-19.30384567796868,-19.48383064303499,-19.66430403733206,-19.845264076084227,-20.02670896970325,-20.208636923805933,-20.391046139231896,-20.57393481206136,-20.757301133633035,-20.941143290561918,-21.1254594647573,-21.310247833440698,-21.495506569163943,-21.68123383982718,-21.867427808697038,-22.054086634424742,-22.241208471064397,-22.428791468091198,-22.616833770419696,-22.805333518422216,-22.99428884794723,-23.183697890337747,-23.373558772449826,-23.56386961667109,-23.754628540939336,-23.945833658761096,-24.13748307923028,-24.32957490704694,-24.522107242535988,-24.715078181665945,-24.908485816067817,-25.102328233053953,-25.296603515636924,-25.491309742548587,-25.68644498825895,-25.882007322995292,-26.077994812761226,-26.274405519355874,-26.471237500392952,-26.66848880932003,-26.866157495437754,-27.064241603919207,-27.262739175829147,-27.461648248143412,-27.66096685376838,-27.860693021560365,-28.060824776345136,-28.26136013893744,-28.46229712616058,-28.66363375086604,-28.865368021953117,-29.067497944388627,-29.27002151922659,-29.47293674362809,-29.676241610881,-29.879934110419846,-30.08401222784572,-30.288473944946148,-30.493317239715125,-30.69854008637305,-30.904140455386752,-31.1101163134896,-31.31646562370163,-31.52318634534962,-31.73027643408731,-31.93773384191561,-32.14555651720291,-32.353742404705265,-32.5622894455868,-32.77119557744001,-32.980458734306275,-33.190076846696115,-33.400047841609805,-33.61036964255778,-33.821040169581266,-34.03205733927274,-34.24341906479661,-34.45512325590982,-34.66716781898255,-34.87955065701889,-35.09226966967758,-35.3053227532928,-35.51870780089495,-35.73242270223155,-35.94646534378802,-36.160833608808616,-36.375525377317366,-36.5905385261391,-36.80587092892031,-37.0215204561503,-37.237484975182156,-37.45376235025395,-37.670350442509736,-37.88724711002078,-38.104450207806686,-38.321957587856716,-38.539767099150886,-38.75787658768135,-38.976283896473646,-39.19498686560806,-39.413983332240974,-39.63327113062623,-39.85284809213657,-40.07271204528513,-40.29286081574681,-40.513292226379875,-40.73400409724742,-40.95499424563894,-41.176260486092,-41.39780063041369,-41.61961248770241,-41.84169386436943,-42.0640425641607,-42.286656388178436,-42.509533134902966,-42.732670600214455,-42.95606657741473,-43.17971885724907,-43.403625227928075,-43.62778347514953,-43.85219138212034,-44.0768467295784,-44.30174729581455,-44.526890856694564,-44.752275185681185,-44.977898053856066,-45.20375722994183,-45.42985048032417,-45.656175569073966,-45.882730257969286,-46.10951230651762,-46.33651947197801,-46.563749509383186,-46.79120017156188,-47.018869209160904,-47.246754370667496,-47.47485340243153,-47.70316404868788,-47.93168405157864,-48.160411151175495,-48.389343085502055,-48.61847759055627,-48.847812400332764,-49.07734524684524,-49.30707386014896,-49.5369959683632,-49.76710929769362,-49.99741157245486,-50.22790051509297,-50.458573846208004,-50.6894292845765,-50.92046454717405,-51.1516773491979,-51.383065404089564,-51.61462642355737,-51.84635811759913,-52.078258194524814,-52.310324360979145,-52.54255432196437,-52.77494578086286,-53.00749643945988,-53.24020399796629,-53.47306615504135,-53.70608060781538,-53.939245051912614,-54.17255718147392,-54.40601468917971,-54.63961526627265,-54.87335660258053,-55.1072363865391,-55.34125230521501,-55.57540204432856,-55.80968328827666,-56.044093720155686,-56.278631021784506,-56.513292873727224,-56.74807695531627,-56.98298094467526,-57.218002518742054,-57.453139353291604,-57.68838912295902,-57.92374950126258,-58.15921816062664,-58.39479277240482,-58.63047100690285,-58.866250533401725,-59.1021290201807,-59.33810413454043,-59.5741735428259,-59.81033491044965,-60.046585901914725,-60.28292418083794,-60.51934740997281,-60.755853251232764,-60.99243936571424,-61.22910341371986,-61.46584305478147,-61.702655947683404,-61.9395397504855,-62.17649212054644,-62.413510714546746,-62.65059318851203,-62.88773719783618,-63.124940397304556,-63.36220044111714,-63.59951498291174,-63.83688167578724,-64.07429817232678,-64.31176212462096,-64.54927118429107,-64.7868230025123,-65.02441523003702,-65.26204551721796,-65.49971151403145,-65.73741087010069,-65.97514123471893,-66.21290025687286,-66.45068558526567,-66.68849486834044,-66.92632575430333,-67.16417589114691,-67.4020429266733,-67.63992450851757,-67.87781828417084,-68.11572190100378,-68.35363300628963,-68.59154924722758,-68.82946827096606,-69.06738772462603,-69.30530525532403,-69.54321851019584,-69.78112513641938,-70.01902278123814,-70.25690909198445,-70.49478171610275,-70.73263830117278,-70.97047649493295,-71.20829394530352,-71.44608830040985,-71.68385720860582,-71.92159831849685,-72.1593092789633,-72.39698773918371,-72.63463134865802,-72.87223775723079,-73.10980461511454,-73.34732957291283,-73.58481028164373,-73.82224439276277,-74.05962955818636,-74.29696343031495,-74.53424366205624,-74.77146790684843,-75.00863381868336,-75.24573905212975,-75.48278126235647,-75.71975810515555,-75.95666723696552,-76.19350631489452,-76.4302729967435,-76.6669649410293,-76.90357980700797,-77.14011525469773,-77.37656894490222,-77.6129385392337,-77.84922170013596,-78.08541609090766,-78.32151937572527,-78.55752921966634,-78.79344328873238,-79.02925924987213,-79.26497477100453,-79.5005875210419,-79.73609516991276,-79.97149538858513,-80.2067858490894,-80.44196422454141,-80.67702818916547,-80.91197541831735,-81.1468035885072,-81.38151037742271,-81.61609346395188,-81.85055052820607,-82.08487925154292,-82.31907731658927,-82.55314240726415,-82.78707220880156,-83.0208644077735,-83.25451669211267,-83.48802675113562,-83.72139227556525,-83.95461095755392,-84.18768049070613,-84.4205985701014,-84.65336289231703,-84.88597115545087,-85.11842105914413,-85.3507103046041,-85.5828365946269,-85.81479763362012,-86.04659112762565,-86.27821478434225,-86.50966631314833,-86.7409434251245,-86.97204383307621,-87.20296525155656,-87.4337053968886,-87.66426198718811,-87.89463274238614,-88.12481538425152,-88.35480763641341,-88.58460722438383,-88.81421187558013,-89.0436193193474,-89.27282728698117,-89.50183351174948,-89.73063572891562,-89.9592316757603,-90.18761909160419,-90.41579571783018,-90.64375929790576,-90.87150757740527,-91.09903830403235,-91.32634922764201,-91.55343810026304,-91.78030267612014,-92.00694071165621,-92.2333499655545,-92.45952819876072,-92.6854731745053,-92.91118265832546,-93.13665441808726,-93.36188622400769,-93.58687584867678,-93.8116210670796,-94.03611965661821,-94.26036939713372,-94.48436807092818,-94.70811346278656,-94.93160335999868,-95.15483555238099,-95.3778078322985,-95.60051799468663,-95.82296383707295,-96.04514315959904,-96.26705376504216,-96.48869345883705,-96.71006004909765,-96.93115134663864,-97.15196516499725,-97.37249932045478,-97.59275163205827,-97.81271992164199,-98.03240201384905,-98.25179573615284,-98.47089891887863,-98.68970939522492,-98.90822500128488,-99.1264435760678,-99.3443629615204,-99.56198100254828,-99.77929554703708,-99.99630444587389,-100.21300555296841,-100.4293967252743,-100.64547582281021,-100.86124070868108,-101.07668924909919,-101.29181931340527,-101.50662877408965,-101.72111550681319,-101.93527739042835,-102.1491123070002,-102.36261814182728,-102.57579278346255,-102.78863412373428,-103.00114005776692,-103.21330848400186,-103.42513730421825,-103.63662442355374,-103.84776775052524,-104.05856519704953,-104.26901467846393,-104.47911411354697,-104.68886142453889,-104.89825453716225,-105.10729138064244,-105.3159698877281,-105.52428799471163,-105.73224364144961,-105.9398347713831,-106.14705933155801,-106.35391527264541,-106.56040054896182,-106.7665131184894,-106.97225094289617,-107.1776119875561,-107.38259422156943,-107.58719561778247,-107.79141415280787,-107.99524780704454,-108.19869456469758,-108.40175241379833,-108.60441934622423,-108.80669335771854,-109.00857244791044,-109.21005462033452,-109.41113788245067,-109.61182024566385,-109.81209972534359,-110.0119743408437,-110.21144211552192,-110.41050107675937,-110.60914925598007,-110.80738468867052,-111.00520541439894,-111.2026094768348,-111.39959492376812,-111.5961598071288,-111.79230218300583,-111.98802011166657,-112.1833116575759,-112.37817488941542,-112.57260788010248,-112.76660870680922,-112.96017545098168,-113.15330619835869,-113.34599903899085,-113.53825206725939,-113.73006338189501,-113.92143108599674,-114.11235328705064,-114.30282809694853,-114.49285363200661,-114.68242801298427,-114.87154936510241,-115.06021581806222,-115.24842550606351,-115.43617656782325,-115.62346714659398,-115.81029539018215,-115.99665945096635,-116.18255748591574,-116.3679876566082,-116.55294812924845,-116.73743707468634,-116.92145266843474,-117.1049930906878,-117.28805652633878,-117.47064116499803,-117.65274520101097,-117.83436683347588,-118.01550426626171,-118.1961557080259,-118.37631937223196,-118.5559934771674,-118.73517624596104,-118.91386590660076,-119.09206069195102,-119.26975883977028,-119.44695859272844,-119.62365819842428,-119.79985590940267,-119.97554998317202,-120.15073868222132,-120.32542027403748,-120.49959303112239,-120.67325523100997,-120.84640515628334,-121.01904109459161,-121.191161338667,-121.3627641863416,-121.53384794056424,-121.70441090941736,-121.87445140613357,-122.04396774911243,-122.21295826193709,-122.38142127339087,-122.54935511747375,-122.71675813341885,-122.88362866570891,-123.04996506409258,-123.21576568360078,-123.381028884563,-123.54575303262345,-123.70993649875726,-123.87357765928661,-124.03667489589674,-124.199226595652,-124.36123115101175,-124.52268695984631,-124.68359242545276,-124.84394595657076,-125.00374596739829,-125.16299087760729,-125.32167911235936,-125.47980910232121,-125.63737928368042,-125.79438809816057,-125.95083399303692,-126.1067154211517,-126.2620308409293,-126.41677871639166,-126.57095751717338,-126.72456571853687,-126.87760180138744,-127.03006425228833,-127.18195156347565,-127.33326223287327,-127.48399476410775,-127.63414766652309,-127.78371945519547,-127.93270865094792,-128.081113780365,-128.2289333758074,-128.37616597542626,-128.5228101231779,-128.66886436883794,-128.81432726801592,-128.95919738216938,-129.10347327861817,-129.24715353055856,-129.39023671707753,-129.5327214231665,-129.67460623973562,-129.81588976362764,-129.95657059763155,-130.09664735049682,-130.23611863694677,-130.37498307769246,-130.51323929944635,-130.6508859349358,-130.78792162291657,-130.92434500818638,-131.06015474159827,-131.1953494800739,-131.32992788661693,-131.46388863032607,-131.59723038640846,-131.7299518361926,-131.86205166714154,-131.99352857286564,-132.1243812531357,-132.25460841389582,-132.38420876727594,-132.51318103160486,-132.64152393142285,-132.76923619749417,-132.89631656681968,-133.0227637826493,-133.14857659449456,-133.27375375814074,-133.39829403565946,-133.5221961954206,-133.64545901210477,-133.76808126671528,-133.8900617465902,-134.01139924541437,-134.1320925632314,-134.25214050645536,-134.3715418878828,-134.49029552670436,-134.60840024851638,-134.72585488533275,-134.84265827559622,-134.95880926419002,-135.07430670244926,-135.18914944817226,-135.30333636563182,-135.41686632558662,-135.52973820529212,-135.64195088851187,-135.75350326552854,-135.8643942331547,-135.97462269474408,-136.084187560202,-136.1930877459964,-136.3013221751686,-136.4088897773438,-136.51578948874175,-136.62202025218718,-136.72758101712043,-136.83247073960763,-136.93668838235115,-137.0402329146999,-137.14310331265938,-137.24529855890194,-137.34681764277667,-137.44765956031966,-137.54782331426372,-137.6473079140482,-137.74611237582906]}],                        {\"template\":{\"data\":{\"barpolar\":[{\"marker\":{\"line\":{\"color\":\"#E5ECF6\",\"width\":0.5},\"pattern\":{\"fillmode\":\"overlay\",\"size\":10,\"solidity\":0.2}},\"type\":\"barpolar\"}],\"bar\":[{\"error_x\":{\"color\":\"#2a3f5f\"},\"error_y\":{\"color\":\"#2a3f5f\"},\"marker\":{\"line\":{\"color\":\"#E5ECF6\",\"width\":0.5},\"pattern\":{\"fillmode\":\"overlay\",\"size\":10,\"solidity\":0.2}},\"type\":\"bar\"}],\"carpet\":[{\"aaxis\":{\"endlinecolor\":\"#2a3f5f\",\"gridcolor\":\"white\",\"linecolor\":\"white\",\"minorgridcolor\":\"white\",\"startlinecolor\":\"#2a3f5f\"},\"baxis\":{\"endlinecolor\":\"#2a3f5f\",\"gridcolor\":\"white\",\"linecolor\":\"white\",\"minorgridcolor\":\"white\",\"startlinecolor\":\"#2a3f5f\"},\"type\":\"carpet\"}],\"choropleth\":[{\"colorbar\":{\"outlinewidth\":0,\"ticks\":\"\"},\"type\":\"choropleth\"}],\"contourcarpet\":[{\"colorbar\":{\"outlinewidth\":0,\"ticks\":\"\"},\"type\":\"contourcarpet\"}],\"contour\":[{\"colorbar\":{\"outlinewidth\":0,\"ticks\":\"\"},\"colorscale\":[[0.0,\"#0d0887\"],[0.1111111111111111,\"#46039f\"],[0.2222222222222222,\"#7201a8\"],[0.3333333333333333,\"#9c179e\"],[0.4444444444444444,\"#bd3786\"],[0.5555555555555556,\"#d8576b\"],[0.6666666666666666,\"#ed7953\"],[0.7777777777777778,\"#fb9f3a\"],[0.8888888888888888,\"#fdca26\"],[1.0,\"#f0f921\"]],\"type\":\"contour\"}],\"heatmapgl\":[{\"colorbar\":{\"outlinewidth\":0,\"ticks\":\"\"},\"colorscale\":[[0.0,\"#0d0887\"],[0.1111111111111111,\"#46039f\"],[0.2222222222222222,\"#7201a8\"],[0.3333333333333333,\"#9c179e\"],[0.4444444444444444,\"#bd3786\"],[0.5555555555555556,\"#d8576b\"],[0.6666666666666666,\"#ed7953\"],[0.7777777777777778,\"#fb9f3a\"],[0.8888888888888888,\"#fdca26\"],[1.0,\"#f0f921\"]],\"type\":\"heatmapgl\"}],\"heatmap\":[{\"colorbar\":{\"outlinewidth\":0,\"ticks\":\"\"},\"colorscale\":[[0.0,\"#0d0887\"],[0.1111111111111111,\"#46039f\"],[0.2222222222222222,\"#7201a8\"],[0.3333333333333333,\"#9c179e\"],[0.4444444444444444,\"#bd3786\"],[0.5555555555555556,\"#d8576b\"],[0.6666666666666666,\"#ed7953\"],[0.7777777777777778,\"#fb9f3a\"],[0.8888888888888888,\"#fdca26\"],[1.0,\"#f0f921\"]],\"type\":\"heatmap\"}],\"histogram2dcontour\":[{\"colorbar\":{\"outlinewidth\":0,\"ticks\":\"\"},\"colorscale\":[[0.0,\"#0d0887\"],[0.1111111111111111,\"#46039f\"],[0.2222222222222222,\"#7201a8\"],[0.3333333333333333,\"#9c179e\"],[0.4444444444444444,\"#bd3786\"],[0.5555555555555556,\"#d8576b\"],[0.6666666666666666,\"#ed7953\"],[0.7777777777777778,\"#fb9f3a\"],[0.8888888888888888,\"#fdca26\"],[1.0,\"#f0f921\"]],\"type\":\"histogram2dcontour\"}],\"histogram2d\":[{\"colorbar\":{\"outlinewidth\":0,\"ticks\":\"\"},\"colorscale\":[[0.0,\"#0d0887\"],[0.1111111111111111,\"#46039f\"],[0.2222222222222222,\"#7201a8\"],[0.3333333333333333,\"#9c179e\"],[0.4444444444444444,\"#bd3786\"],[0.5555555555555556,\"#d8576b\"],[0.6666666666666666,\"#ed7953\"],[0.7777777777777778,\"#fb9f3a\"],[0.8888888888888888,\"#fdca26\"],[1.0,\"#f0f921\"]],\"type\":\"histogram2d\"}],\"histogram\":[{\"marker\":{\"pattern\":{\"fillmode\":\"overlay\",\"size\":10,\"solidity\":0.2}},\"type\":\"histogram\"}],\"mesh3d\":[{\"colorbar\":{\"outlinewidth\":0,\"ticks\":\"\"},\"type\":\"mesh3d\"}],\"parcoords\":[{\"line\":{\"colorbar\":{\"outlinewidth\":0,\"ticks\":\"\"}},\"type\":\"parcoords\"}],\"pie\":[{\"automargin\":true,\"type\":\"pie\"}],\"scatter3d\":[{\"line\":{\"colorbar\":{\"outlinewidth\":0,\"ticks\":\"\"}},\"marker\":{\"colorbar\":{\"outlinewidth\":0,\"ticks\":\"\"}},\"type\":\"scatter3d\"}],\"scattercarpet\":[{\"marker\":{\"colorbar\":{\"outlinewidth\":0,\"ticks\":\"\"}},\"type\":\"scattercarpet\"}],\"scattergeo\":[{\"marker\":{\"colorbar\":{\"outlinewidth\":0,\"ticks\":\"\"}},\"type\":\"scattergeo\"}],\"scattergl\":[{\"marker\":{\"colorbar\":{\"outlinewidth\":0,\"ticks\":\"\"}},\"type\":\"scattergl\"}],\"scattermapbox\":[{\"marker\":{\"colorbar\":{\"outlinewidth\":0,\"ticks\":\"\"}},\"type\":\"scattermapbox\"}],\"scatterpolargl\":[{\"marker\":{\"colorbar\":{\"outlinewidth\":0,\"ticks\":\"\"}},\"type\":\"scatterpolargl\"}],\"scatterpolar\":[{\"marker\":{\"colorbar\":{\"outlinewidth\":0,\"ticks\":\"\"}},\"type\":\"scatterpolar\"}],\"scatter\":[{\"fillpattern\":{\"fillmode\":\"overlay\",\"size\":10,\"solidity\":0.2},\"type\":\"scatter\"}],\"scatterternary\":[{\"marker\":{\"colorbar\":{\"outlinewidth\":0,\"ticks\":\"\"}},\"type\":\"scatterternary\"}],\"surface\":[{\"colorbar\":{\"outlinewidth\":0,\"ticks\":\"\"},\"colorscale\":[[0.0,\"#0d0887\"],[0.1111111111111111,\"#46039f\"],[0.2222222222222222,\"#7201a8\"],[0.3333333333333333,\"#9c179e\"],[0.4444444444444444,\"#bd3786\"],[0.5555555555555556,\"#d8576b\"],[0.6666666666666666,\"#ed7953\"],[0.7777777777777778,\"#fb9f3a\"],[0.8888888888888888,\"#fdca26\"],[1.0,\"#f0f921\"]],\"type\":\"surface\"}],\"table\":[{\"cells\":{\"fill\":{\"color\":\"#EBF0F8\"},\"line\":{\"color\":\"white\"}},\"header\":{\"fill\":{\"color\":\"#C8D4E3\"},\"line\":{\"color\":\"white\"}},\"type\":\"table\"}]},\"layout\":{\"annotationdefaults\":{\"arrowcolor\":\"#2a3f5f\",\"arrowhead\":0,\"arrowwidth\":1},\"autotypenumbers\":\"strict\",\"coloraxis\":{\"colorbar\":{\"outlinewidth\":0,\"ticks\":\"\"}},\"colorscale\":{\"diverging\":[[0,\"#8e0152\"],[0.1,\"#c51b7d\"],[0.2,\"#de77ae\"],[0.3,\"#f1b6da\"],[0.4,\"#fde0ef\"],[0.5,\"#f7f7f7\"],[0.6,\"#e6f5d0\"],[0.7,\"#b8e186\"],[0.8,\"#7fbc41\"],[0.9,\"#4d9221\"],[1,\"#276419\"]],\"sequential\":[[0.0,\"#0d0887\"],[0.1111111111111111,\"#46039f\"],[0.2222222222222222,\"#7201a8\"],[0.3333333333333333,\"#9c179e\"],[0.4444444444444444,\"#bd3786\"],[0.5555555555555556,\"#d8576b\"],[0.6666666666666666,\"#ed7953\"],[0.7777777777777778,\"#fb9f3a\"],[0.8888888888888888,\"#fdca26\"],[1.0,\"#f0f921\"]],\"sequentialminus\":[[0.0,\"#0d0887\"],[0.1111111111111111,\"#46039f\"],[0.2222222222222222,\"#7201a8\"],[0.3333333333333333,\"#9c179e\"],[0.4444444444444444,\"#bd3786\"],[0.5555555555555556,\"#d8576b\"],[0.6666666666666666,\"#ed7953\"],[0.7777777777777778,\"#fb9f3a\"],[0.8888888888888888,\"#fdca26\"],[1.0,\"#f0f921\"]]},\"colorway\":[\"#636efa\",\"#EF553B\",\"#00cc96\",\"#ab63fa\",\"#FFA15A\",\"#19d3f3\",\"#FF6692\",\"#B6E880\",\"#FF97FF\",\"#FECB52\"],\"font\":{\"color\":\"#2a3f5f\"},\"geo\":{\"bgcolor\":\"white\",\"lakecolor\":\"white\",\"landcolor\":\"#E5ECF6\",\"showlakes\":true,\"showland\":true,\"subunitcolor\":\"white\"},\"hoverlabel\":{\"align\":\"left\"},\"hovermode\":\"closest\",\"mapbox\":{\"style\":\"light\"},\"paper_bgcolor\":\"white\",\"plot_bgcolor\":\"#E5ECF6\",\"polar\":{\"angularaxis\":{\"gridcolor\":\"white\",\"linecolor\":\"white\",\"ticks\":\"\"},\"bgcolor\":\"#E5ECF6\",\"radialaxis\":{\"gridcolor\":\"white\",\"linecolor\":\"white\",\"ticks\":\"\"}},\"scene\":{\"xaxis\":{\"backgroundcolor\":\"#E5ECF6\",\"gridcolor\":\"white\",\"gridwidth\":2,\"linecolor\":\"white\",\"showbackground\":true,\"ticks\":\"\",\"zerolinecolor\":\"white\"},\"yaxis\":{\"backgroundcolor\":\"#E5ECF6\",\"gridcolor\":\"white\",\"gridwidth\":2,\"linecolor\":\"white\",\"showbackground\":true,\"ticks\":\"\",\"zerolinecolor\":\"white\"},\"zaxis\":{\"backgroundcolor\":\"#E5ECF6\",\"gridcolor\":\"white\",\"gridwidth\":2,\"linecolor\":\"white\",\"showbackground\":true,\"ticks\":\"\",\"zerolinecolor\":\"white\"}},\"shapedefaults\":{\"line\":{\"color\":\"#2a3f5f\"}},\"ternary\":{\"aaxis\":{\"gridcolor\":\"white\",\"linecolor\":\"white\",\"ticks\":\"\"},\"baxis\":{\"gridcolor\":\"white\",\"linecolor\":\"white\",\"ticks\":\"\"},\"bgcolor\":\"#E5ECF6\",\"caxis\":{\"gridcolor\":\"white\",\"linecolor\":\"white\",\"ticks\":\"\"}},\"title\":{\"x\":0.05},\"xaxis\":{\"automargin\":true,\"gridcolor\":\"white\",\"linecolor\":\"white\",\"ticks\":\"\",\"title\":{\"standoff\":15},\"zerolinecolor\":\"white\",\"zerolinewidth\":2},\"yaxis\":{\"automargin\":true,\"gridcolor\":\"white\",\"linecolor\":\"white\",\"ticks\":\"\",\"title\":{\"standoff\":15},\"zerolinecolor\":\"white\",\"zerolinewidth\":2}}},\"xaxis\":{\"range\":[-60,60],\"title\":{\"text\":\"X\"}},\"yaxis\":{\"range\":[-60,60],\"title\":{\"text\":\"Y\"}},\"width\":500,\"height\":500,\"showlegend\":false,\"title\":{\"text\":\"Track in the Gluex Detector\"},\"shapes\":[{\"line\":{\"color\":\"black\"},\"type\":\"circle\",\"x0\":-10.5,\"x1\":10.5,\"xref\":\"x\",\"y0\":-10.5,\"y1\":10.5,\"yref\":\"y\"},{\"line\":{\"color\":\"black\"},\"type\":\"circle\",\"x0\":-55,\"x1\":55,\"xref\":\"x\",\"y0\":-55,\"y1\":55,\"yref\":\"y\"}]},                        {\"responsive\": true}                    ).then(function(){\n                            \nvar gd = document.getElementById('27da8c2d-8bcf-4013-a470-6b7c68c20ebf');\nvar x = new MutationObserver(function (mutations, observer) {{\n        var display = window.getComputedStyle(gd).display;\n        if (!display || display === 'none') {{\n            console.log([gd, 'removed!']);\n            Plotly.purge(gd);\n            observer.disconnect();\n        }}\n}});\n\n// Listen for the removal of the full notebook cells\nvar notebookContainer = gd.closest('#notebook-container');\nif (notebookContainer) {{\n    x.observe(notebookContainer, {childList: true});\n}}\n\n// Listen for the clearing of the current output cell\nvar outputEl = gd.closest('.output');\nif (outputEl) {{\n    x.observe(outputEl, {childList: true});\n}}\n\n                        })                };                            </script>        </div>\n</body>\n</html>"
                },
                "metadata": {}
              }
            ]
          }
        },
        "bef7f61611884d458c84bfa3f0eb31fc": {
          "model_module": "@jupyter-widgets/base",
          "model_name": "LayoutModel",
          "model_module_version": "1.2.0",
          "state": {
            "_model_module": "@jupyter-widgets/base",
            "_model_module_version": "1.2.0",
            "_model_name": "LayoutModel",
            "_view_count": null,
            "_view_module": "@jupyter-widgets/base",
            "_view_module_version": "1.2.0",
            "_view_name": "LayoutView",
            "align_content": null,
            "align_items": null,
            "align_self": null,
            "border": null,
            "bottom": null,
            "display": null,
            "flex": null,
            "flex_flow": null,
            "grid_area": null,
            "grid_auto_columns": null,
            "grid_auto_flow": null,
            "grid_auto_rows": null,
            "grid_column": null,
            "grid_gap": null,
            "grid_row": null,
            "grid_template_areas": null,
            "grid_template_columns": null,
            "grid_template_rows": null,
            "height": null,
            "justify_content": null,
            "justify_items": null,
            "left": null,
            "margin": null,
            "max_height": null,
            "max_width": null,
            "min_height": null,
            "min_width": null,
            "object_fit": null,
            "object_position": null,
            "order": null,
            "overflow": null,
            "overflow_x": null,
            "overflow_y": null,
            "padding": null,
            "right": null,
            "top": null,
            "visibility": null,
            "width": null
          }
        },
        "2c96fadb6ef84c72a42179a61e9f8870": {
          "model_module": "@jupyter-widgets/controls",
          "model_name": "FloatSliderModel",
          "model_module_version": "1.5.0",
          "state": {
            "_dom_classes": [],
            "_model_module": "@jupyter-widgets/controls",
            "_model_module_version": "1.5.0",
            "_model_name": "FloatSliderModel",
            "_view_count": null,
            "_view_module": "@jupyter-widgets/controls",
            "_view_module_version": "1.5.0",
            "_view_name": "FloatSliderView",
            "continuous_update": true,
            "description": "px",
            "description_tooltip": null,
            "disabled": false,
            "layout": "IPY_MODEL_306488c791494d20bcd5faeb723e48cc",
            "max": 1,
            "min": -1,
            "orientation": "horizontal",
            "readout": true,
            "readout_format": ".2f",
            "step": 0.0001,
            "style": "IPY_MODEL_a0f1dd3e1930407fa66b8fdf475d4a9d",
            "value": 0.3548
          }
        },
        "748ecb5521d040668a45ce132fbe287c": {
          "model_module": "@jupyter-widgets/controls",
          "model_name": "FloatSliderModel",
          "model_module_version": "1.5.0",
          "state": {
            "_dom_classes": [],
            "_model_module": "@jupyter-widgets/controls",
            "_model_module_version": "1.5.0",
            "_model_name": "FloatSliderModel",
            "_view_count": null,
            "_view_module": "@jupyter-widgets/controls",
            "_view_module_version": "1.5.0",
            "_view_name": "FloatSliderView",
            "continuous_update": true,
            "description": "py",
            "description_tooltip": null,
            "disabled": false,
            "layout": "IPY_MODEL_5ea17954dc2c4e30932d115f7af363df",
            "max": 1,
            "min": -1,
            "orientation": "horizontal",
            "readout": true,
            "readout_format": ".2f",
            "step": 0.0001,
            "style": "IPY_MODEL_2a2d49bc40b7484085948eacf15c1b17",
            "value": 0.1613
          }
        },
        "ac63f41e2fb445848dee9a752aa7f9c5": {
          "model_module": "@jupyter-widgets/controls",
          "model_name": "IntSliderModel",
          "model_module_version": "1.5.0",
          "state": {
            "_dom_classes": [],
            "_model_module": "@jupyter-widgets/controls",
            "_model_module_version": "1.5.0",
            "_model_name": "IntSliderModel",
            "_view_count": null,
            "_view_module": "@jupyter-widgets/controls",
            "_view_module_version": "1.5.0",
            "_view_name": "IntSliderView",
            "continuous_update": true,
            "description": "charge",
            "description_tooltip": null,
            "disabled": false,
            "layout": "IPY_MODEL_93158903119245a3a155e4e17106a2e3",
            "max": 1,
            "min": -1,
            "orientation": "horizontal",
            "readout": true,
            "readout_format": "d",
            "step": 2,
            "style": "IPY_MODEL_e47c89ae9a7c43c79ea8e80e75d15523",
            "value": 1
          }
        },
        "8f3cb7c88fd3437a8ce12fba9fc77ea7": {
          "model_module": "@jupyter-widgets/controls",
          "model_name": "FloatSliderModel",
          "model_module_version": "1.5.0",
          "state": {
            "_dom_classes": [],
            "_model_module": "@jupyter-widgets/controls",
            "_model_module_version": "1.5.0",
            "_model_name": "FloatSliderModel",
            "_view_count": null,
            "_view_module": "@jupyter-widgets/controls",
            "_view_module_version": "1.5.0",
            "_view_name": "FloatSliderView",
            "continuous_update": true,
            "description": "t_max",
            "description_tooltip": null,
            "disabled": false,
            "layout": "IPY_MODEL_b57d0b0cd97241bf92d755864249754e",
            "max": 6.283185307179586,
            "min": 0,
            "orientation": "horizontal",
            "readout": true,
            "readout_format": ".2f",
            "step": 0.0001,
            "style": "IPY_MODEL_dd596d5ee9a2495f8fb48e10e65ef52f",
            "value": 3.1416000000000004
          }
        },
        "373153516bad44b4a56bf175f72839ae": {
          "model_module": "@jupyter-widgets/base",
          "model_name": "LayoutModel",
          "model_module_version": "1.2.0",
          "state": {
            "_model_module": "@jupyter-widgets/base",
            "_model_module_version": "1.2.0",
            "_model_name": "LayoutModel",
            "_view_count": null,
            "_view_module": "@jupyter-widgets/base",
            "_view_module_version": "1.2.0",
            "_view_name": "LayoutView",
            "align_content": null,
            "align_items": null,
            "align_self": null,
            "border": null,
            "bottom": null,
            "display": null,
            "flex": null,
            "flex_flow": "row wrap",
            "grid_area": null,
            "grid_auto_columns": null,
            "grid_auto_flow": null,
            "grid_auto_rows": null,
            "grid_column": null,
            "grid_gap": null,
            "grid_row": null,
            "grid_template_areas": null,
            "grid_template_columns": null,
            "grid_template_rows": null,
            "height": null,
            "justify_content": null,
            "justify_items": null,
            "left": null,
            "margin": null,
            "max_height": null,
            "max_width": null,
            "min_height": null,
            "min_width": null,
            "object_fit": null,
            "object_position": null,
            "order": null,
            "overflow": null,
            "overflow_x": null,
            "overflow_y": null,
            "padding": null,
            "right": null,
            "top": null,
            "visibility": null,
            "width": null
          }
        },
        "c2797aef4f18430f9a96faa1407e41fc": {
          "model_module": "@jupyter-widgets/base",
          "model_name": "LayoutModel",
          "model_module_version": "1.2.0",
          "state": {
            "_model_module": "@jupyter-widgets/base",
            "_model_module_version": "1.2.0",
            "_model_name": "LayoutModel",
            "_view_count": null,
            "_view_module": "@jupyter-widgets/base",
            "_view_module_version": "1.2.0",
            "_view_name": "LayoutView",
            "align_content": null,
            "align_items": null,
            "align_self": null,
            "border": null,
            "bottom": null,
            "display": null,
            "flex": null,
            "flex_flow": null,
            "grid_area": null,
            "grid_auto_columns": null,
            "grid_auto_flow": null,
            "grid_auto_rows": null,
            "grid_column": null,
            "grid_gap": null,
            "grid_row": null,
            "grid_template_areas": null,
            "grid_template_columns": null,
            "grid_template_rows": null,
            "height": null,
            "justify_content": null,
            "justify_items": null,
            "left": null,
            "margin": null,
            "max_height": null,
            "max_width": null,
            "min_height": null,
            "min_width": null,
            "object_fit": null,
            "object_position": null,
            "order": null,
            "overflow": null,
            "overflow_x": null,
            "overflow_y": null,
            "padding": null,
            "right": null,
            "top": null,
            "visibility": null,
            "width": null
          }
        },
        "306488c791494d20bcd5faeb723e48cc": {
          "model_module": "@jupyter-widgets/base",
          "model_name": "LayoutModel",
          "model_module_version": "1.2.0",
          "state": {
            "_model_module": "@jupyter-widgets/base",
            "_model_module_version": "1.2.0",
            "_model_name": "LayoutModel",
            "_view_count": null,
            "_view_module": "@jupyter-widgets/base",
            "_view_module_version": "1.2.0",
            "_view_name": "LayoutView",
            "align_content": null,
            "align_items": null,
            "align_self": null,
            "border": null,
            "bottom": null,
            "display": null,
            "flex": null,
            "flex_flow": null,
            "grid_area": null,
            "grid_auto_columns": null,
            "grid_auto_flow": null,
            "grid_auto_rows": null,
            "grid_column": null,
            "grid_gap": null,
            "grid_row": null,
            "grid_template_areas": null,
            "grid_template_columns": null,
            "grid_template_rows": null,
            "height": null,
            "justify_content": null,
            "justify_items": null,
            "left": null,
            "margin": null,
            "max_height": null,
            "max_width": null,
            "min_height": null,
            "min_width": null,
            "object_fit": null,
            "object_position": null,
            "order": null,
            "overflow": null,
            "overflow_x": null,
            "overflow_y": null,
            "padding": null,
            "right": null,
            "top": null,
            "visibility": null,
            "width": null
          }
        },
        "a0f1dd3e1930407fa66b8fdf475d4a9d": {
          "model_module": "@jupyter-widgets/controls",
          "model_name": "SliderStyleModel",
          "model_module_version": "1.5.0",
          "state": {
            "_model_module": "@jupyter-widgets/controls",
            "_model_module_version": "1.5.0",
            "_model_name": "SliderStyleModel",
            "_view_count": null,
            "_view_module": "@jupyter-widgets/base",
            "_view_module_version": "1.2.0",
            "_view_name": "StyleView",
            "description_width": "",
            "handle_color": null
          }
        },
        "5ea17954dc2c4e30932d115f7af363df": {
          "model_module": "@jupyter-widgets/base",
          "model_name": "LayoutModel",
          "model_module_version": "1.2.0",
          "state": {
            "_model_module": "@jupyter-widgets/base",
            "_model_module_version": "1.2.0",
            "_model_name": "LayoutModel",
            "_view_count": null,
            "_view_module": "@jupyter-widgets/base",
            "_view_module_version": "1.2.0",
            "_view_name": "LayoutView",
            "align_content": null,
            "align_items": null,
            "align_self": null,
            "border": null,
            "bottom": null,
            "display": null,
            "flex": null,
            "flex_flow": null,
            "grid_area": null,
            "grid_auto_columns": null,
            "grid_auto_flow": null,
            "grid_auto_rows": null,
            "grid_column": null,
            "grid_gap": null,
            "grid_row": null,
            "grid_template_areas": null,
            "grid_template_columns": null,
            "grid_template_rows": null,
            "height": null,
            "justify_content": null,
            "justify_items": null,
            "left": null,
            "margin": null,
            "max_height": null,
            "max_width": null,
            "min_height": null,
            "min_width": null,
            "object_fit": null,
            "object_position": null,
            "order": null,
            "overflow": null,
            "overflow_x": null,
            "overflow_y": null,
            "padding": null,
            "right": null,
            "top": null,
            "visibility": null,
            "width": null
          }
        },
        "2a2d49bc40b7484085948eacf15c1b17": {
          "model_module": "@jupyter-widgets/controls",
          "model_name": "SliderStyleModel",
          "model_module_version": "1.5.0",
          "state": {
            "_model_module": "@jupyter-widgets/controls",
            "_model_module_version": "1.5.0",
            "_model_name": "SliderStyleModel",
            "_view_count": null,
            "_view_module": "@jupyter-widgets/base",
            "_view_module_version": "1.2.0",
            "_view_name": "StyleView",
            "description_width": "",
            "handle_color": null
          }
        },
        "93158903119245a3a155e4e17106a2e3": {
          "model_module": "@jupyter-widgets/base",
          "model_name": "LayoutModel",
          "model_module_version": "1.2.0",
          "state": {
            "_model_module": "@jupyter-widgets/base",
            "_model_module_version": "1.2.0",
            "_model_name": "LayoutModel",
            "_view_count": null,
            "_view_module": "@jupyter-widgets/base",
            "_view_module_version": "1.2.0",
            "_view_name": "LayoutView",
            "align_content": null,
            "align_items": null,
            "align_self": null,
            "border": null,
            "bottom": null,
            "display": null,
            "flex": null,
            "flex_flow": null,
            "grid_area": null,
            "grid_auto_columns": null,
            "grid_auto_flow": null,
            "grid_auto_rows": null,
            "grid_column": null,
            "grid_gap": null,
            "grid_row": null,
            "grid_template_areas": null,
            "grid_template_columns": null,
            "grid_template_rows": null,
            "height": null,
            "justify_content": null,
            "justify_items": null,
            "left": null,
            "margin": null,
            "max_height": null,
            "max_width": null,
            "min_height": null,
            "min_width": null,
            "object_fit": null,
            "object_position": null,
            "order": null,
            "overflow": null,
            "overflow_x": null,
            "overflow_y": null,
            "padding": null,
            "right": null,
            "top": null,
            "visibility": null,
            "width": null
          }
        },
        "e47c89ae9a7c43c79ea8e80e75d15523": {
          "model_module": "@jupyter-widgets/controls",
          "model_name": "SliderStyleModel",
          "model_module_version": "1.5.0",
          "state": {
            "_model_module": "@jupyter-widgets/controls",
            "_model_module_version": "1.5.0",
            "_model_name": "SliderStyleModel",
            "_view_count": null,
            "_view_module": "@jupyter-widgets/base",
            "_view_module_version": "1.2.0",
            "_view_name": "StyleView",
            "description_width": "",
            "handle_color": null
          }
        },
        "b57d0b0cd97241bf92d755864249754e": {
          "model_module": "@jupyter-widgets/base",
          "model_name": "LayoutModel",
          "model_module_version": "1.2.0",
          "state": {
            "_model_module": "@jupyter-widgets/base",
            "_model_module_version": "1.2.0",
            "_model_name": "LayoutModel",
            "_view_count": null,
            "_view_module": "@jupyter-widgets/base",
            "_view_module_version": "1.2.0",
            "_view_name": "LayoutView",
            "align_content": null,
            "align_items": null,
            "align_self": null,
            "border": null,
            "bottom": null,
            "display": null,
            "flex": null,
            "flex_flow": null,
            "grid_area": null,
            "grid_auto_columns": null,
            "grid_auto_flow": null,
            "grid_auto_rows": null,
            "grid_column": null,
            "grid_gap": null,
            "grid_row": null,
            "grid_template_areas": null,
            "grid_template_columns": null,
            "grid_template_rows": null,
            "height": null,
            "justify_content": null,
            "justify_items": null,
            "left": null,
            "margin": null,
            "max_height": null,
            "max_width": null,
            "min_height": null,
            "min_width": null,
            "object_fit": null,
            "object_position": null,
            "order": null,
            "overflow": null,
            "overflow_x": null,
            "overflow_y": null,
            "padding": null,
            "right": null,
            "top": null,
            "visibility": null,
            "width": null
          }
        },
        "dd596d5ee9a2495f8fb48e10e65ef52f": {
          "model_module": "@jupyter-widgets/controls",
          "model_name": "SliderStyleModel",
          "model_module_version": "1.5.0",
          "state": {
            "_model_module": "@jupyter-widgets/controls",
            "_model_module_version": "1.5.0",
            "_model_name": "SliderStyleModel",
            "_view_count": null,
            "_view_module": "@jupyter-widgets/base",
            "_view_module_version": "1.2.0",
            "_view_name": "StyleView",
            "description_width": "",
            "handle_color": null
          }
        },
        "b2255b411d10456398f56eb7bfe8ecd7": {
          "model_module": "@jupyter-widgets/controls",
          "model_name": "VBoxModel",
          "model_module_version": "1.5.0",
          "state": {
            "_dom_classes": [],
            "_model_module": "@jupyter-widgets/controls",
            "_model_module_version": "1.5.0",
            "_model_name": "VBoxModel",
            "_view_count": null,
            "_view_module": "@jupyter-widgets/controls",
            "_view_module_version": "1.5.0",
            "_view_name": "VBoxView",
            "box_style": "",
            "children": [
              "IPY_MODEL_934554635030490388d7cfcbd2576325",
              "IPY_MODEL_dd1cc9f6fc014ed2b4128434bf5b1b1d"
            ],
            "layout": "IPY_MODEL_cb26af220be6412092261b5fc0cfc99e"
          }
        },
        "934554635030490388d7cfcbd2576325": {
          "model_module": "@jupyter-widgets/controls",
          "model_name": "HBoxModel",
          "model_module_version": "1.5.0",
          "state": {
            "_dom_classes": [],
            "_model_module": "@jupyter-widgets/controls",
            "_model_module_version": "1.5.0",
            "_model_name": "HBoxModel",
            "_view_count": null,
            "_view_module": "@jupyter-widgets/controls",
            "_view_module_version": "1.5.0",
            "_view_name": "HBoxView",
            "box_style": "",
            "children": [
              "IPY_MODEL_e7103be744c040048542af703c4d317f",
              "IPY_MODEL_104868aa19f64fdca97ff24a0a4c1546",
              "IPY_MODEL_3fe451447cc6448bade80b258cd988bf",
              "IPY_MODEL_4e05f5f645c74a009fc9bb920d59f0db",
              "IPY_MODEL_9c97fca068814ab98a0f3d7dd11b8e30"
            ],
            "layout": "IPY_MODEL_787cf2e96d114531809d58d7deb571c4"
          }
        },
        "dd1cc9f6fc014ed2b4128434bf5b1b1d": {
          "model_module": "@jupyter-widgets/output",
          "model_name": "OutputModel",
          "model_module_version": "1.0.0",
          "state": {
            "_dom_classes": [],
            "_model_module": "@jupyter-widgets/output",
            "_model_module_version": "1.0.0",
            "_model_name": "OutputModel",
            "_view_count": null,
            "_view_module": "@jupyter-widgets/output",
            "_view_module_version": "1.0.0",
            "_view_name": "OutputView",
            "layout": "IPY_MODEL_0cf381aa448d4231940bcaa2e71b5242",
            "msg_id": "",
            "outputs": [
              {
                "output_type": "display_data",
                "data": {
                  "text/html": "<html>\n<head><meta charset=\"utf-8\" /></head>\n<body>\n    <div>            <script src=\"https://cdnjs.cloudflare.com/ajax/libs/mathjax/2.7.5/MathJax.js?config=TeX-AMS-MML_SVG\"></script><script type=\"text/javascript\">if (window.MathJax && window.MathJax.Hub && window.MathJax.Hub.Config) {window.MathJax.Hub.Config({SVG: {font: \"STIX-Web\"}});}</script>                <script type=\"text/javascript\">window.PlotlyConfig = {MathJaxConfig: 'local'};</script>\n        <script charset=\"utf-8\" src=\"https://cdn.plot.ly/plotly-2.24.1.min.js\"></script>                <div id=\"1fb387a9-007f-4934-8bc6-e339c27d538b\" class=\"plotly-graph-div\" style=\"height:500px; width:500px;\"></div>            <script type=\"text/javascript\">                                    window.PLOTLYENV=window.PLOTLYENV || {};                                    if (document.getElementById(\"1fb387a9-007f-4934-8bc6-e339c27d538b\")) {                    Plotly.newPlot(                        \"1fb387a9-007f-4934-8bc6-e339c27d538b\",                        [{\"hoverinfo\":\"text\",\"marker\":{\"size\":3},\"mode\":\"markers\",\"text\":[\"Ring: 1.0\\n Wire: 22.0\",\"Ring: 3.0\\n Wire: 28.0\",\"Ring: 4.0\\n Wire: 28.0\",\"Ring: 5.0\\n Wire: 37.0\",\"Ring: 6.0\\n Wire: 38.0\",\"Ring: 7.0\\n Wire: 45.0\",\"Ring: 8.0\\n Wire: 46.0\",\"Ring: 9.0\\n Wire: 49.0\",\"Ring: 10.0\\n Wire: 49.0\",\"Ring: 11.0\\n Wire: 58.0\",\"Ring: 12.0\\n Wire: 58.0\",\"Ring: 13.0\\n Wire: 71.0\",\"Ring: 14.0\\n Wire: 72.0\",\"Ring: 15.0\\n Wire: 80.0\",\"Ring: 16.0\\n Wire: 80.0\",\"Ring: 16.0\\n Wire: 81.0\",\"Ring: 17.0\\n Wire: 87.0\",\"Ring: 18.0\\n Wire: 88.0\",\"Ring: 18.0\\n Wire: 89.0\",\"Ring: 19.0\\n Wire: 97.0\",\"Ring: 19.0\\n Wire: 98.0\",\"Ring: 20.0\\n Wire: 98.0\",\"Ring: 20.0\\n Wire: 99.0\",\"Ring: 21.0\\n Wire: 111.0\",\"Ring: 21.0\\n Wire: 112.0\",\"Ring: 22.0\\n Wire: 112.0\",\"Ring: 22.0\\n Wire: 113.0\",\"Ring: 23.0\\n Wire: 122.0\",\"Ring: 23.0\\n Wire: 123.0\",\"Ring: 23.0\\n Wire: 124.0\",\"Ring: 24.0\\n Wire: 126.0\",\"Ring: 24.0\\n Wire: 127.0\",\"Ring: 24.0\\n Wire: 128.0\",\"Ring: 24.0\\n Wire: 129.0\",\"Ring: 24.0\\n Wire: 130.0\",\"Ring: 24.0\\n Wire: 131.0\",\"Ring: 24.0\\n Wire: 132.0\",\"Ring: 24.0\\n Wire: 133.0\"],\"x\":[-10.721799999999764,-13.77031440247714,-15.074704423708326,-17.29035825407335,-18.52342490871894,-20.592359345001604,-21.782016023741615,-23.536760772973285,-24.671575632633488,-25.822995893884592,-26.824442535446586,-27.90733573769316,-28.74049534174945,-29.499420482477607,-30.24212322639851,-29.316908433023826,-29.625374900870007,-30.194304686070243,-29.096228115633377,-29.661757513053722,-28.524871002276946,-28.89603954309224,-27.65097837438541,-28.902970338861547,-27.66447662821839,-27.89154602631512,-26.55580871698441,-25.985582882178594,-24.622119756758288,-23.229313985918463,-21.716002564664105,-20.213782309200603,-18.687472907361986,-17.138893290906466,-15.569888931427789,-13.982329641071924,-12.378107344246734,-10.759133822979642],\"y\":[2.2455685463145116e-06,-0.5245086719308351,-1.4554221304585924,-2.946326853920812,-4.071851743359998,-4.24537357374622,-5.390074215593932,-5.9998331776944696,-7.184749833365142,-9.658321971686224,-10.9495729323606,-14.348475042096773,-15.717642484510133,-17.7624662614171,-19.182373785570125,-20.568625652184355,-23.353371012066738,-24.873653573878364,-26.149649845295844,-28.006374309452095,-29.16348050263887,-30.742530544850737,-31.867031247298527,-32.98255119173207,-34.02803418375937,-35.63289941255902,-36.63919873128421,-39.05359668145515,-39.92724821682795,-40.75331769596127,-43.14736858167704,-43.871211376799685,-44.54277202025264,-45.16125020052601,-45.72590886548448,-46.23607510072617,-46.69114093150749,-47.090564047278136],\"type\":\"scatter\",\"uid\":\"9c5b8aeb-d870-451e-9112-bdc1100b72f4\"},{\"marker\":{\"color\":\"red\"},\"mode\":\"lines\",\"name\":\"track\",\"type\":\"scatter\",\"uid\":\"9cec512c-9442-4192-a41f-1ea6465ca3e5\",\"x\":[0.0,0.0,0.0,0.0,0.0,0.0,0.0,0.0,0.0,0.0,0.0,0.0,0.0,0.0,0.0,0.0,0.0,0.0,0.0,0.0,0.0,0.0,0.0,0.0,0.0,0.0,0.0,0.0,0.0,0.0,0.0,0.0,0.0,0.0,0.0,0.0,0.0,0.0,0.0,0.0,0.0,0.0,0.0,0.0,0.0,0.0,0.0,0.0,0.0,0.0,0.0,0.0,0.0,0.0,0.0,0.0,0.0,0.0,0.0,0.0,0.0,0.0,0.0,0.0,0.0,0.0,0.0,0.0,0.0,0.0,0.0,0.0,0.0,0.0,0.0,0.0,0.0,0.0,0.0,0.0,0.0,0.0,0.0,0.0,0.0,0.0,0.0,0.0,0.0,0.0,0.0,0.0,0.0,0.0,0.0,0.0,0.0,0.0,0.0,0.0,0.0,0.0,0.0,0.0,0.0,0.0,0.0,0.0,0.0,0.0,0.0,0.0,0.0,0.0,0.0,0.0,0.0,0.0,0.0,0.0,0.0,0.0,0.0,0.0,0.0,0.0,0.0,0.0,0.0,0.0,0.0,0.0,0.0,0.0,0.0,0.0,0.0,0.0,0.0,0.0,0.0,0.0,0.0,0.0,0.0,0.0,0.0,0.0,0.0,0.0,0.0,0.0,0.0,0.0,0.0,0.0,0.0,0.0,0.0,0.0,0.0,0.0,0.0,0.0,0.0,0.0,0.0,0.0,0.0,0.0,0.0,0.0,0.0,0.0,0.0,0.0,0.0,0.0,0.0,0.0,0.0,0.0,0.0,0.0,0.0,0.0,0.0,0.0,0.0,0.0,0.0,0.0,0.0,0.0,0.0,0.0,0.0,0.0,0.0,0.0,0.0,0.0,0.0,0.0,0.0,0.0,0.0,0.0,0.0,0.0,0.0,0.0,0.0,0.0,0.0,0.0,0.0,0.0,0.0,0.0,0.0,0.0,0.0,0.0,0.0,0.0,0.0,0.0,0.0,0.0,0.0,0.0,0.0,0.0,0.0,0.0,0.0,0.0,0.0,0.0,0.0,0.0,0.0,0.0,0.0,0.0,0.0,0.0,0.0,0.0,0.0,0.0,0.0,0.0,0.0,0.0,0.0,0.0,0.0,0.0,0.0,0.0,0.0,0.0,0.0,0.0,0.0,0.0,0.0,0.0,0.0,0.0,0.0,0.0,0.0,0.0,0.0,0.0,0.0,0.0,0.0,0.0,0.0,0.0,0.0,0.0,0.0,0.0,0.0,0.0,0.0,0.0,0.0,0.0,0.0,0.0,0.0,0.0,0.0,0.0,0.0,0.0,0.0,0.0,0.0,0.0,0.0,0.0,0.0,0.0,0.0,0.0,0.0,0.0,0.0,0.0,0.0,0.0,0.0,0.0,0.0,0.0,0.0,0.0,0.0,0.0,0.0,0.0,0.0,0.0,0.0,0.0,0.0,0.0,0.0,0.0,0.0,0.0,0.0,0.0,0.0,0.0,0.0,0.0,0.0,0.0,0.0,0.0,0.0,0.0,0.0,0.0,0.0,0.0,0.0,0.0,0.0,0.0,0.0,0.0,0.0,0.0,0.0,0.0,0.0,0.0,0.0,0.0,0.0,0.0,0.0,0.0,0.0,0.0,0.0,0.0,0.0,0.0,0.0,0.0,0.0,0.0,0.0,0.0,0.0,0.0,0.0,0.0,0.0,0.0,0.0,0.0,0.0,0.0,0.0,0.0,0.0,0.0,0.0,0.0,0.0,0.0,0.0,0.0,0.0,0.0,0.0,0.0,0.0,0.0,0.0,0.0,0.0,0.0,0.0,0.0,0.0,0.0,0.0,0.0,0.0,0.0,0.0,0.0,0.0,0.0,0.0,0.0,0.0,0.0,0.0,0.0,0.0,0.0,0.0,0.0,0.0,0.0,0.0,0.0,0.0,0.0,0.0,0.0,0.0,0.0,0.0,0.0,0.0,0.0,0.0,0.0,0.0,0.0,0.0,0.0,0.0,0.0,0.0,0.0,0.0,0.0,0.0,0.0,0.0,0.0,0.0,0.0,0.0,0.0,0.0,0.0,0.0,0.0,0.0,0.0,0.0,0.0,0.0,0.0,0.0,0.0,0.0,0.0,0.0,0.0,0.0,0.0,0.0,0.0,0.0,0.0,0.0,0.0,0.0,0.0,0.0,0.0,0.0,0.0,0.0,0.0,0.0,0.0,0.0,0.0,0.0,0.0,0.0,0.0,0.0,0.0,0.0,0.0,0.0,0.0,0.0,0.0,0.0,0.0,0.0,0.0,0.0,0.0,0.0,0.0,0.0,0.0,0.0,0.0,0.0,0.0,0.0,0.0,0.0,0.0,0.0,0.0,0.0,0.0,0.0,0.0,0.0,0.0,0.0,0.0,0.0,0.0,0.0,0.0,0.0,0.0,0.0,0.0,0.0,0.0,0.0,0.0,0.0,0.0,0.0,0.0,0.0,0.0,0.0,0.0,0.0,0.0,0.0,0.0,0.0,0.0,0.0,0.0,0.0,0.0,0.0,0.0,0.0,0.0,0.0,0.0,0.0,0.0,0.0,0.0,0.0,0.0,0.0,0.0,0.0,0.0,0.0,0.0,0.0,0.0,0.0,0.0,0.0,0.0,0.0,0.0,0.0,0.0,0.0,0.0,0.0,0.0,0.0,0.0,0.0,0.0,0.0,0.0,0.0,0.0,0.0,0.0,0.0,0.0,0.0,0.0,0.0,0.0,0.0,0.0,0.0,0.0,0.0,0.0,0.0,0.0,0.0,0.0,0.0,0.0,0.0,0.0,0.0,0.0,0.0,0.0,0.0,0.0,0.0,0.0,0.0,0.0,0.0,0.0,0.0,0.0,0.0,0.0,0.0,0.0,0.0,0.0,0.0,0.0,0.0,0.0,0.0,0.0,0.0,0.0,0.0,0.0,0.0,0.0,0.0,0.0,0.0,0.0,0.0,0.0,0.0,0.0,0.0,0.0,0.0,0.0,0.0,0.0,0.0,0.0,0.0,0.0,0.0,0.0,0.0,0.0,0.0,0.0,0.0,0.0,0.0,0.0,0.0,0.0,0.0,0.0,0.0,0.0,0.0,0.0,0.0,0.0,0.0,0.0,0.0,0.0,0.0,0.0,0.0,0.0,0.0,0.0,0.0,0.0,0.0,0.0,0.0,0.0,0.0,0.0,0.0,0.0,0.0,0.0,0.0,0.0,0.0,0.0,0.0,0.0,0.0,0.0,0.0,0.0,0.0,0.0,0.0,0.0,0.0,0.0,0.0,0.0,0.0,0.0,0.0,0.0,0.0,0.0,0.0,0.0,0.0,0.0,0.0,0.0,0.0,0.0,0.0,0.0,0.0,0.0,0.0,0.0,0.0,0.0,0.0,0.0,0.0,0.0,0.0,0.0,0.0,0.0,0.0,0.0,0.0,0.0,0.0,0.0,0.0,0.0,0.0,0.0,0.0,0.0,0.0,0.0,0.0,0.0,0.0,0.0,0.0,0.0,0.0,0.0,0.0,0.0,0.0,0.0,0.0,0.0,0.0,0.0,0.0,0.0,0.0,0.0,0.0,0.0,0.0,0.0,0.0,0.0,0.0,0.0,0.0,0.0,0.0,0.0,0.0,0.0,0.0,0.0,0.0,0.0,0.0,0.0,0.0,0.0,0.0,0.0,0.0,0.0,0.0,0.0,0.0,0.0,0.0,0.0,0.0,0.0,0.0,0.0,0.0,0.0,0.0,0.0,0.0,0.0,0.0,0.0,0.0,0.0,0.0,0.0,0.0,0.0,0.0,0.0,0.0,0.0,0.0,0.0,0.0,0.0,0.0,0.0,0.0,0.0,0.0,0.0,0.0,0.0,0.0,0.0,0.0,0.0,0.0,0.0,0.0,0.0,0.0,0.0,0.0,0.0,0.0,0.0,0.0,0.0,0.0,0.0,0.0,0.0,0.0,0.0,0.0,0.0,0.0,0.0,0.0,0.0,0.0,0.0,0.0,0.0,0.0,0.0,0.0,0.0,0.0,0.0,0.0,0.0,0.0,0.0,0.0,0.0,0.0,0.0,0.0,0.0,0.0,0.0,0.0,0.0,0.0,0.0,0.0,0.0,0.0,0.0,0.0,0.0,0.0,0.0,0.0,0.0,0.0,0.0,0.0,0.0,0.0,0.0,0.0,0.0,0.0,0.0,0.0,0.0,0.0,0.0,0.0,0.0,0.0,0.0,0.0,0.0,0.0,0.0,0.0,0.0,0.0,0.0,0.0,0.0,0.0,0.0,0.0,0.0,0.0,0.0,0.0,0.0,0.0,0.0,0.0,0.0,0.0,0.0,0.0,0.0,0.0,0.0,0.0,0.0,0.0,0.0,0.0,0.0,0.0,0.0,0.0,0.0,0.0,0.0],\"y\":[0.0,0.0,0.0,0.0,0.0,0.0,0.0,0.0,0.0,0.0,0.0,0.0,0.0,0.0,0.0,0.0,0.0,0.0,0.0,0.0,0.0,0.0,0.0,0.0,0.0,0.0,0.0,0.0,0.0,0.0,0.0,0.0,0.0,0.0,0.0,0.0,0.0,0.0,0.0,0.0,0.0,0.0,0.0,0.0,0.0,0.0,0.0,0.0,0.0,0.0,0.0,0.0,0.0,0.0,0.0,0.0,0.0,0.0,0.0,0.0,0.0,0.0,0.0,0.0,0.0,0.0,0.0,0.0,0.0,0.0,0.0,0.0,0.0,0.0,0.0,0.0,0.0,0.0,0.0,0.0,0.0,0.0,0.0,0.0,0.0,0.0,0.0,0.0,0.0,0.0,0.0,0.0,0.0,0.0,0.0,0.0,0.0,0.0,0.0,0.0,0.0,0.0,0.0,0.0,0.0,0.0,0.0,0.0,0.0,0.0,0.0,0.0,0.0,0.0,0.0,0.0,0.0,0.0,0.0,0.0,0.0,0.0,0.0,0.0,0.0,0.0,0.0,0.0,0.0,0.0,0.0,0.0,0.0,0.0,0.0,0.0,0.0,0.0,0.0,0.0,0.0,0.0,0.0,0.0,0.0,0.0,0.0,0.0,0.0,0.0,0.0,0.0,0.0,0.0,0.0,0.0,0.0,0.0,0.0,0.0,0.0,0.0,0.0,0.0,0.0,0.0,0.0,0.0,0.0,0.0,0.0,0.0,0.0,0.0,0.0,0.0,0.0,0.0,0.0,0.0,0.0,0.0,0.0,0.0,0.0,0.0,0.0,0.0,0.0,0.0,0.0,0.0,0.0,0.0,0.0,0.0,0.0,0.0,0.0,0.0,0.0,0.0,0.0,0.0,0.0,0.0,0.0,0.0,0.0,0.0,0.0,0.0,0.0,0.0,0.0,0.0,0.0,0.0,0.0,0.0,0.0,0.0,0.0,0.0,0.0,0.0,0.0,0.0,0.0,0.0,0.0,0.0,0.0,0.0,0.0,0.0,0.0,0.0,0.0,0.0,0.0,0.0,0.0,0.0,0.0,0.0,0.0,0.0,0.0,0.0,0.0,0.0,0.0,0.0,0.0,0.0,0.0,0.0,0.0,0.0,0.0,0.0,0.0,0.0,0.0,0.0,0.0,0.0,0.0,0.0,0.0,0.0,0.0,0.0,0.0,0.0,0.0,0.0,0.0,0.0,0.0,0.0,0.0,0.0,0.0,0.0,0.0,0.0,0.0,0.0,0.0,0.0,0.0,0.0,0.0,0.0,0.0,0.0,0.0,0.0,0.0,0.0,0.0,0.0,0.0,0.0,0.0,0.0,0.0,0.0,0.0,0.0,0.0,0.0,0.0,0.0,0.0,0.0,0.0,0.0,0.0,0.0,0.0,0.0,0.0,0.0,0.0,0.0,0.0,0.0,0.0,0.0,0.0,0.0,0.0,0.0,0.0,0.0,0.0,0.0,0.0,0.0,0.0,0.0,0.0,0.0,0.0,0.0,0.0,0.0,0.0,0.0,0.0,0.0,0.0,0.0,0.0,0.0,0.0,0.0,0.0,0.0,0.0,0.0,0.0,0.0,0.0,0.0,0.0,0.0,0.0,0.0,0.0,0.0,0.0,0.0,0.0,0.0,0.0,0.0,0.0,0.0,0.0,0.0,0.0,0.0,0.0,0.0,0.0,0.0,0.0,0.0,0.0,0.0,0.0,0.0,0.0,0.0,0.0,0.0,0.0,0.0,0.0,0.0,0.0,0.0,0.0,0.0,0.0,0.0,0.0,0.0,0.0,0.0,0.0,0.0,0.0,0.0,0.0,0.0,0.0,0.0,0.0,0.0,0.0,0.0,0.0,0.0,0.0,0.0,0.0,0.0,0.0,0.0,0.0,0.0,0.0,0.0,0.0,0.0,0.0,0.0,0.0,0.0,0.0,0.0,0.0,0.0,0.0,0.0,0.0,0.0,0.0,0.0,0.0,0.0,0.0,0.0,0.0,0.0,0.0,0.0,0.0,0.0,0.0,0.0,0.0,0.0,0.0,0.0,0.0,0.0,0.0,0.0,0.0,0.0,0.0,0.0,0.0,0.0,0.0,0.0,0.0,0.0,0.0,0.0,0.0,0.0,0.0,0.0,0.0,0.0,0.0,0.0,0.0,0.0,0.0,0.0,0.0,0.0,0.0,0.0,0.0,0.0,0.0,0.0,0.0,0.0,0.0,0.0,0.0,0.0,0.0,0.0,0.0,0.0,0.0,0.0,0.0,0.0,0.0,0.0,0.0,0.0,0.0,0.0,0.0,0.0,0.0,0.0,0.0,0.0,0.0,0.0,0.0,0.0,0.0,0.0,0.0,0.0,0.0,0.0,0.0,0.0,0.0,0.0,0.0,0.0,0.0,0.0,0.0,0.0,0.0,0.0,0.0,0.0,0.0,0.0,0.0,0.0,0.0,0.0,0.0,0.0,0.0,0.0,0.0,0.0,0.0,0.0,0.0,0.0,0.0,0.0,0.0,0.0,0.0,0.0,0.0,0.0,0.0,0.0,0.0,0.0,0.0,0.0,0.0,0.0,0.0,0.0,0.0,0.0,0.0,0.0,0.0,0.0,0.0,0.0,0.0,0.0,0.0,0.0,0.0,0.0,0.0,0.0,0.0,0.0,0.0,0.0,0.0,0.0,0.0,0.0,0.0,0.0,0.0,0.0,0.0,0.0,0.0,0.0,0.0,0.0,0.0,0.0,0.0,0.0,0.0,0.0,0.0,0.0,0.0,0.0,0.0,0.0,0.0,0.0,0.0,0.0,0.0,0.0,0.0,0.0,0.0,0.0,0.0,0.0,0.0,0.0,0.0,0.0,0.0,0.0,0.0,0.0,0.0,0.0,0.0,0.0,0.0,0.0,0.0,0.0,0.0,0.0,0.0,0.0,0.0,0.0,0.0,0.0,0.0,0.0,0.0,0.0,0.0,0.0,0.0,0.0,0.0,0.0,0.0,0.0,0.0,0.0,0.0,0.0,0.0,0.0,0.0,0.0,0.0,0.0,0.0,0.0,0.0,0.0,0.0,0.0,0.0,0.0,0.0,0.0,0.0,0.0,0.0,0.0,0.0,0.0,0.0,0.0,0.0,0.0,0.0,0.0,0.0,0.0,0.0,0.0,0.0,0.0,0.0,0.0,0.0,0.0,0.0,0.0,0.0,0.0,0.0,0.0,0.0,0.0,0.0,0.0,0.0,0.0,0.0,0.0,0.0,0.0,0.0,0.0,0.0,0.0,0.0,0.0,0.0,0.0,0.0,0.0,0.0,0.0,0.0,0.0,0.0,0.0,0.0,0.0,0.0,0.0,0.0,0.0,0.0,0.0,0.0,0.0,0.0,0.0,0.0,0.0,0.0,0.0,0.0,0.0,0.0,0.0,0.0,0.0,0.0,0.0,0.0,0.0,0.0,0.0,0.0,0.0,0.0,0.0,0.0,0.0,0.0,0.0,0.0,0.0,0.0,0.0,0.0,0.0,0.0,0.0,0.0,0.0,0.0,0.0,0.0,0.0,0.0,0.0,0.0,0.0,0.0,0.0,0.0,0.0,0.0,0.0,0.0,0.0,0.0,0.0,0.0,0.0,0.0,0.0,0.0,0.0,0.0,0.0,0.0,0.0,0.0,0.0,0.0,0.0,0.0,0.0,0.0,0.0,0.0,0.0,0.0,0.0,0.0,0.0,0.0,0.0,0.0,0.0,0.0,0.0,0.0,0.0,0.0,0.0,0.0,0.0,0.0,0.0,0.0,0.0,0.0,0.0,0.0,0.0,0.0,0.0,0.0,0.0,0.0,0.0,0.0,0.0,0.0,0.0,0.0,0.0,0.0,0.0,0.0,0.0,0.0,0.0,0.0,0.0,0.0,0.0,0.0,0.0,0.0,0.0,0.0,0.0,0.0,0.0,0.0,0.0,0.0,0.0,0.0,0.0,0.0,0.0,0.0,0.0,0.0,0.0,0.0,0.0,0.0,0.0,0.0,0.0,0.0,0.0,0.0,0.0,0.0,0.0,0.0,0.0,0.0,0.0,0.0,0.0,0.0,0.0,0.0,0.0,0.0,0.0,0.0,0.0,0.0,0.0,0.0,0.0,0.0,0.0,0.0,0.0,0.0,0.0,0.0,0.0,0.0,0.0,0.0,0.0,0.0,0.0,0.0,0.0,0.0,0.0,0.0,0.0,0.0,0.0,0.0,0.0,0.0,0.0,0.0,0.0,0.0,0.0,0.0,0.0,0.0,0.0,0.0,0.0,0.0,0.0,0.0,0.0,0.0,0.0,0.0,0.0,0.0,0.0,0.0,0.0,0.0,0.0,0.0,0.0,0.0,0.0,0.0,0.0,0.0,0.0,0.0,0.0,0.0,0.0]}],                        {\"template\":{\"data\":{\"barpolar\":[{\"marker\":{\"line\":{\"color\":\"#E5ECF6\",\"width\":0.5},\"pattern\":{\"fillmode\":\"overlay\",\"size\":10,\"solidity\":0.2}},\"type\":\"barpolar\"}],\"bar\":[{\"error_x\":{\"color\":\"#2a3f5f\"},\"error_y\":{\"color\":\"#2a3f5f\"},\"marker\":{\"line\":{\"color\":\"#E5ECF6\",\"width\":0.5},\"pattern\":{\"fillmode\":\"overlay\",\"size\":10,\"solidity\":0.2}},\"type\":\"bar\"}],\"carpet\":[{\"aaxis\":{\"endlinecolor\":\"#2a3f5f\",\"gridcolor\":\"white\",\"linecolor\":\"white\",\"minorgridcolor\":\"white\",\"startlinecolor\":\"#2a3f5f\"},\"baxis\":{\"endlinecolor\":\"#2a3f5f\",\"gridcolor\":\"white\",\"linecolor\":\"white\",\"minorgridcolor\":\"white\",\"startlinecolor\":\"#2a3f5f\"},\"type\":\"carpet\"}],\"choropleth\":[{\"colorbar\":{\"outlinewidth\":0,\"ticks\":\"\"},\"type\":\"choropleth\"}],\"contourcarpet\":[{\"colorbar\":{\"outlinewidth\":0,\"ticks\":\"\"},\"type\":\"contourcarpet\"}],\"contour\":[{\"colorbar\":{\"outlinewidth\":0,\"ticks\":\"\"},\"colorscale\":[[0.0,\"#0d0887\"],[0.1111111111111111,\"#46039f\"],[0.2222222222222222,\"#7201a8\"],[0.3333333333333333,\"#9c179e\"],[0.4444444444444444,\"#bd3786\"],[0.5555555555555556,\"#d8576b\"],[0.6666666666666666,\"#ed7953\"],[0.7777777777777778,\"#fb9f3a\"],[0.8888888888888888,\"#fdca26\"],[1.0,\"#f0f921\"]],\"type\":\"contour\"}],\"heatmapgl\":[{\"colorbar\":{\"outlinewidth\":0,\"ticks\":\"\"},\"colorscale\":[[0.0,\"#0d0887\"],[0.1111111111111111,\"#46039f\"],[0.2222222222222222,\"#7201a8\"],[0.3333333333333333,\"#9c179e\"],[0.4444444444444444,\"#bd3786\"],[0.5555555555555556,\"#d8576b\"],[0.6666666666666666,\"#ed7953\"],[0.7777777777777778,\"#fb9f3a\"],[0.8888888888888888,\"#fdca26\"],[1.0,\"#f0f921\"]],\"type\":\"heatmapgl\"}],\"heatmap\":[{\"colorbar\":{\"outlinewidth\":0,\"ticks\":\"\"},\"colorscale\":[[0.0,\"#0d0887\"],[0.1111111111111111,\"#46039f\"],[0.2222222222222222,\"#7201a8\"],[0.3333333333333333,\"#9c179e\"],[0.4444444444444444,\"#bd3786\"],[0.5555555555555556,\"#d8576b\"],[0.6666666666666666,\"#ed7953\"],[0.7777777777777778,\"#fb9f3a\"],[0.8888888888888888,\"#fdca26\"],[1.0,\"#f0f921\"]],\"type\":\"heatmap\"}],\"histogram2dcontour\":[{\"colorbar\":{\"outlinewidth\":0,\"ticks\":\"\"},\"colorscale\":[[0.0,\"#0d0887\"],[0.1111111111111111,\"#46039f\"],[0.2222222222222222,\"#7201a8\"],[0.3333333333333333,\"#9c179e\"],[0.4444444444444444,\"#bd3786\"],[0.5555555555555556,\"#d8576b\"],[0.6666666666666666,\"#ed7953\"],[0.7777777777777778,\"#fb9f3a\"],[0.8888888888888888,\"#fdca26\"],[1.0,\"#f0f921\"]],\"type\":\"histogram2dcontour\"}],\"histogram2d\":[{\"colorbar\":{\"outlinewidth\":0,\"ticks\":\"\"},\"colorscale\":[[0.0,\"#0d0887\"],[0.1111111111111111,\"#46039f\"],[0.2222222222222222,\"#7201a8\"],[0.3333333333333333,\"#9c179e\"],[0.4444444444444444,\"#bd3786\"],[0.5555555555555556,\"#d8576b\"],[0.6666666666666666,\"#ed7953\"],[0.7777777777777778,\"#fb9f3a\"],[0.8888888888888888,\"#fdca26\"],[1.0,\"#f0f921\"]],\"type\":\"histogram2d\"}],\"histogram\":[{\"marker\":{\"pattern\":{\"fillmode\":\"overlay\",\"size\":10,\"solidity\":0.2}},\"type\":\"histogram\"}],\"mesh3d\":[{\"colorbar\":{\"outlinewidth\":0,\"ticks\":\"\"},\"type\":\"mesh3d\"}],\"parcoords\":[{\"line\":{\"colorbar\":{\"outlinewidth\":0,\"ticks\":\"\"}},\"type\":\"parcoords\"}],\"pie\":[{\"automargin\":true,\"type\":\"pie\"}],\"scatter3d\":[{\"line\":{\"colorbar\":{\"outlinewidth\":0,\"ticks\":\"\"}},\"marker\":{\"colorbar\":{\"outlinewidth\":0,\"ticks\":\"\"}},\"type\":\"scatter3d\"}],\"scattercarpet\":[{\"marker\":{\"colorbar\":{\"outlinewidth\":0,\"ticks\":\"\"}},\"type\":\"scattercarpet\"}],\"scattergeo\":[{\"marker\":{\"colorbar\":{\"outlinewidth\":0,\"ticks\":\"\"}},\"type\":\"scattergeo\"}],\"scattergl\":[{\"marker\":{\"colorbar\":{\"outlinewidth\":0,\"ticks\":\"\"}},\"type\":\"scattergl\"}],\"scattermapbox\":[{\"marker\":{\"colorbar\":{\"outlinewidth\":0,\"ticks\":\"\"}},\"type\":\"scattermapbox\"}],\"scatterpolargl\":[{\"marker\":{\"colorbar\":{\"outlinewidth\":0,\"ticks\":\"\"}},\"type\":\"scatterpolargl\"}],\"scatterpolar\":[{\"marker\":{\"colorbar\":{\"outlinewidth\":0,\"ticks\":\"\"}},\"type\":\"scatterpolar\"}],\"scatter\":[{\"fillpattern\":{\"fillmode\":\"overlay\",\"size\":10,\"solidity\":0.2},\"type\":\"scatter\"}],\"scatterternary\":[{\"marker\":{\"colorbar\":{\"outlinewidth\":0,\"ticks\":\"\"}},\"type\":\"scatterternary\"}],\"surface\":[{\"colorbar\":{\"outlinewidth\":0,\"ticks\":\"\"},\"colorscale\":[[0.0,\"#0d0887\"],[0.1111111111111111,\"#46039f\"],[0.2222222222222222,\"#7201a8\"],[0.3333333333333333,\"#9c179e\"],[0.4444444444444444,\"#bd3786\"],[0.5555555555555556,\"#d8576b\"],[0.6666666666666666,\"#ed7953\"],[0.7777777777777778,\"#fb9f3a\"],[0.8888888888888888,\"#fdca26\"],[1.0,\"#f0f921\"]],\"type\":\"surface\"}],\"table\":[{\"cells\":{\"fill\":{\"color\":\"#EBF0F8\"},\"line\":{\"color\":\"white\"}},\"header\":{\"fill\":{\"color\":\"#C8D4E3\"},\"line\":{\"color\":\"white\"}},\"type\":\"table\"}]},\"layout\":{\"annotationdefaults\":{\"arrowcolor\":\"#2a3f5f\",\"arrowhead\":0,\"arrowwidth\":1},\"autotypenumbers\":\"strict\",\"coloraxis\":{\"colorbar\":{\"outlinewidth\":0,\"ticks\":\"\"}},\"colorscale\":{\"diverging\":[[0,\"#8e0152\"],[0.1,\"#c51b7d\"],[0.2,\"#de77ae\"],[0.3,\"#f1b6da\"],[0.4,\"#fde0ef\"],[0.5,\"#f7f7f7\"],[0.6,\"#e6f5d0\"],[0.7,\"#b8e186\"],[0.8,\"#7fbc41\"],[0.9,\"#4d9221\"],[1,\"#276419\"]],\"sequential\":[[0.0,\"#0d0887\"],[0.1111111111111111,\"#46039f\"],[0.2222222222222222,\"#7201a8\"],[0.3333333333333333,\"#9c179e\"],[0.4444444444444444,\"#bd3786\"],[0.5555555555555556,\"#d8576b\"],[0.6666666666666666,\"#ed7953\"],[0.7777777777777778,\"#fb9f3a\"],[0.8888888888888888,\"#fdca26\"],[1.0,\"#f0f921\"]],\"sequentialminus\":[[0.0,\"#0d0887\"],[0.1111111111111111,\"#46039f\"],[0.2222222222222222,\"#7201a8\"],[0.3333333333333333,\"#9c179e\"],[0.4444444444444444,\"#bd3786\"],[0.5555555555555556,\"#d8576b\"],[0.6666666666666666,\"#ed7953\"],[0.7777777777777778,\"#fb9f3a\"],[0.8888888888888888,\"#fdca26\"],[1.0,\"#f0f921\"]]},\"colorway\":[\"#636efa\",\"#EF553B\",\"#00cc96\",\"#ab63fa\",\"#FFA15A\",\"#19d3f3\",\"#FF6692\",\"#B6E880\",\"#FF97FF\",\"#FECB52\"],\"font\":{\"color\":\"#2a3f5f\"},\"geo\":{\"bgcolor\":\"white\",\"lakecolor\":\"white\",\"landcolor\":\"#E5ECF6\",\"showlakes\":true,\"showland\":true,\"subunitcolor\":\"white\"},\"hoverlabel\":{\"align\":\"left\"},\"hovermode\":\"closest\",\"mapbox\":{\"style\":\"light\"},\"paper_bgcolor\":\"white\",\"plot_bgcolor\":\"#E5ECF6\",\"polar\":{\"angularaxis\":{\"gridcolor\":\"white\",\"linecolor\":\"white\",\"ticks\":\"\"},\"bgcolor\":\"#E5ECF6\",\"radialaxis\":{\"gridcolor\":\"white\",\"linecolor\":\"white\",\"ticks\":\"\"}},\"scene\":{\"xaxis\":{\"backgroundcolor\":\"#E5ECF6\",\"gridcolor\":\"white\",\"gridwidth\":2,\"linecolor\":\"white\",\"showbackground\":true,\"ticks\":\"\",\"zerolinecolor\":\"white\"},\"yaxis\":{\"backgroundcolor\":\"#E5ECF6\",\"gridcolor\":\"white\",\"gridwidth\":2,\"linecolor\":\"white\",\"showbackground\":true,\"ticks\":\"\",\"zerolinecolor\":\"white\"},\"zaxis\":{\"backgroundcolor\":\"#E5ECF6\",\"gridcolor\":\"white\",\"gridwidth\":2,\"linecolor\":\"white\",\"showbackground\":true,\"ticks\":\"\",\"zerolinecolor\":\"white\"}},\"shapedefaults\":{\"line\":{\"color\":\"#2a3f5f\"}},\"ternary\":{\"aaxis\":{\"gridcolor\":\"white\",\"linecolor\":\"white\",\"ticks\":\"\"},\"baxis\":{\"gridcolor\":\"white\",\"linecolor\":\"white\",\"ticks\":\"\"},\"bgcolor\":\"#E5ECF6\",\"caxis\":{\"gridcolor\":\"white\",\"linecolor\":\"white\",\"ticks\":\"\"}},\"title\":{\"x\":0.05},\"xaxis\":{\"automargin\":true,\"gridcolor\":\"white\",\"linecolor\":\"white\",\"ticks\":\"\",\"title\":{\"standoff\":15},\"zerolinecolor\":\"white\",\"zerolinewidth\":2},\"yaxis\":{\"automargin\":true,\"gridcolor\":\"white\",\"linecolor\":\"white\",\"ticks\":\"\",\"title\":{\"standoff\":15},\"zerolinecolor\":\"white\",\"zerolinewidth\":2}}},\"xaxis\":{\"range\":[-60,60],\"title\":{\"text\":\"X\"}},\"yaxis\":{\"range\":[-60,60],\"title\":{\"text\":\"Y\"}},\"width\":500,\"height\":500,\"showlegend\":false,\"title\":{\"text\":\"Hits in the Central Drift Chamber\"},\"shapes\":[{\"line\":{\"color\":\"black\"},\"type\":\"circle\",\"x0\":-10.5,\"x1\":10.5,\"xref\":\"x\",\"y0\":-10.5,\"y1\":10.5,\"yref\":\"y\"},{\"line\":{\"color\":\"black\"},\"type\":\"circle\",\"x0\":-55,\"x1\":55,\"xref\":\"x\",\"y0\":-55,\"y1\":55,\"yref\":\"y\"}]},                        {\"responsive\": true}                    ).then(function(){\n                            \nvar gd = document.getElementById('1fb387a9-007f-4934-8bc6-e339c27d538b');\nvar x = new MutationObserver(function (mutations, observer) {{\n        var display = window.getComputedStyle(gd).display;\n        if (!display || display === 'none') {{\n            console.log([gd, 'removed!']);\n            Plotly.purge(gd);\n            observer.disconnect();\n        }}\n}});\n\n// Listen for the removal of the full notebook cells\nvar notebookContainer = gd.closest('#notebook-container');\nif (notebookContainer) {{\n    x.observe(notebookContainer, {childList: true});\n}}\n\n// Listen for the clearing of the current output cell\nvar outputEl = gd.closest('.output');\nif (outputEl) {{\n    x.observe(outputEl, {childList: true});\n}}\n\n                        })                };                            </script>        </div>\n</body>\n</html>"
                },
                "metadata": {}
              }
            ]
          }
        },
        "cb26af220be6412092261b5fc0cfc99e": {
          "model_module": "@jupyter-widgets/base",
          "model_name": "LayoutModel",
          "model_module_version": "1.2.0",
          "state": {
            "_model_module": "@jupyter-widgets/base",
            "_model_module_version": "1.2.0",
            "_model_name": "LayoutModel",
            "_view_count": null,
            "_view_module": "@jupyter-widgets/base",
            "_view_module_version": "1.2.0",
            "_view_name": "LayoutView",
            "align_content": null,
            "align_items": null,
            "align_self": null,
            "border": null,
            "bottom": null,
            "display": null,
            "flex": null,
            "flex_flow": null,
            "grid_area": null,
            "grid_auto_columns": null,
            "grid_auto_flow": null,
            "grid_auto_rows": null,
            "grid_column": null,
            "grid_gap": null,
            "grid_row": null,
            "grid_template_areas": null,
            "grid_template_columns": null,
            "grid_template_rows": null,
            "height": null,
            "justify_content": null,
            "justify_items": null,
            "left": null,
            "margin": null,
            "max_height": null,
            "max_width": null,
            "min_height": null,
            "min_width": null,
            "object_fit": null,
            "object_position": null,
            "order": null,
            "overflow": null,
            "overflow_x": null,
            "overflow_y": null,
            "padding": null,
            "right": null,
            "top": null,
            "visibility": null,
            "width": null
          }
        },
        "e7103be744c040048542af703c4d317f": {
          "model_module": "@jupyter-widgets/controls",
          "model_name": "FloatSliderModel",
          "model_module_version": "1.5.0",
          "state": {
            "_dom_classes": [],
            "_model_module": "@jupyter-widgets/controls",
            "_model_module_version": "1.5.0",
            "_model_name": "FloatSliderModel",
            "_view_count": null,
            "_view_module": "@jupyter-widgets/controls",
            "_view_module_version": "1.5.0",
            "_view_name": "FloatSliderView",
            "continuous_update": true,
            "description": "z0",
            "description_tooltip": null,
            "disabled": false,
            "layout": "IPY_MODEL_b245572b68534116a2458a5b29d2b82d",
            "max": 175,
            "min": 0,
            "orientation": "horizontal",
            "readout": true,
            "readout_format": ".2f",
            "step": 0.1,
            "style": "IPY_MODEL_9ca9ba1ef5444e948a541b93b984b52d",
            "value": 138.3
          }
        },
        "104868aa19f64fdca97ff24a0a4c1546": {
          "model_module": "@jupyter-widgets/controls",
          "model_name": "FloatSliderModel",
          "model_module_version": "1.5.0",
          "state": {
            "_dom_classes": [],
            "_model_module": "@jupyter-widgets/controls",
            "_model_module_version": "1.5.0",
            "_model_name": "FloatSliderModel",
            "_view_count": null,
            "_view_module": "@jupyter-widgets/controls",
            "_view_module_version": "1.5.0",
            "_view_name": "FloatSliderView",
            "continuous_update": true,
            "description": "px",
            "description_tooltip": null,
            "disabled": false,
            "layout": "IPY_MODEL_40963a901a60432f9232fc66f785269d",
            "max": 1,
            "min": -1,
            "orientation": "horizontal",
            "readout": true,
            "readout_format": ".2f",
            "step": 0.01,
            "style": "IPY_MODEL_83b3fd57461c4d69b3912403f7a31173",
            "value": 0
          }
        },
        "3fe451447cc6448bade80b258cd988bf": {
          "model_module": "@jupyter-widgets/controls",
          "model_name": "FloatSliderModel",
          "model_module_version": "1.5.0",
          "state": {
            "_dom_classes": [],
            "_model_module": "@jupyter-widgets/controls",
            "_model_module_version": "1.5.0",
            "_model_name": "FloatSliderModel",
            "_view_count": null,
            "_view_module": "@jupyter-widgets/controls",
            "_view_module_version": "1.5.0",
            "_view_name": "FloatSliderView",
            "continuous_update": true,
            "description": "py",
            "description_tooltip": null,
            "disabled": false,
            "layout": "IPY_MODEL_b0c0a960d58b4960a548f482fbc6f351",
            "max": 1,
            "min": -1,
            "orientation": "horizontal",
            "readout": true,
            "readout_format": ".2f",
            "step": 0.01,
            "style": "IPY_MODEL_5fe823b491454318ad0ba805c4c9dd01",
            "value": 0
          }
        },
        "4e05f5f645c74a009fc9bb920d59f0db": {
          "model_module": "@jupyter-widgets/controls",
          "model_name": "IntSliderModel",
          "model_module_version": "1.5.0",
          "state": {
            "_dom_classes": [],
            "_model_module": "@jupyter-widgets/controls",
            "_model_module_version": "1.5.0",
            "_model_name": "IntSliderModel",
            "_view_count": null,
            "_view_module": "@jupyter-widgets/controls",
            "_view_module_version": "1.5.0",
            "_view_name": "IntSliderView",
            "continuous_update": true,
            "description": "charge",
            "description_tooltip": null,
            "disabled": false,
            "layout": "IPY_MODEL_efbbe7908ec14258a680c26d38845f5e",
            "max": 1,
            "min": -1,
            "orientation": "horizontal",
            "readout": true,
            "readout_format": "d",
            "step": 2,
            "style": "IPY_MODEL_c67ed583be4c4aba833b707514f6a18a",
            "value": 1
          }
        },
        "9c97fca068814ab98a0f3d7dd11b8e30": {
          "model_module": "@jupyter-widgets/controls",
          "model_name": "FloatSliderModel",
          "model_module_version": "1.5.0",
          "state": {
            "_dom_classes": [],
            "_model_module": "@jupyter-widgets/controls",
            "_model_module_version": "1.5.0",
            "_model_name": "FloatSliderModel",
            "_view_count": null,
            "_view_module": "@jupyter-widgets/controls",
            "_view_module_version": "1.5.0",
            "_view_name": "FloatSliderView",
            "continuous_update": true,
            "description": "t_max",
            "description_tooltip": null,
            "disabled": false,
            "layout": "IPY_MODEL_8deea130a1d1417199c0973ea99034ae",
            "max": 6.283185307179586,
            "min": 0,
            "orientation": "horizontal",
            "readout": true,
            "readout_format": ".2f",
            "step": 0.01,
            "style": "IPY_MODEL_92e427a99e0345ac942e07606db75176",
            "value": 3.14
          }
        },
        "787cf2e96d114531809d58d7deb571c4": {
          "model_module": "@jupyter-widgets/base",
          "model_name": "LayoutModel",
          "model_module_version": "1.2.0",
          "state": {
            "_model_module": "@jupyter-widgets/base",
            "_model_module_version": "1.2.0",
            "_model_name": "LayoutModel",
            "_view_count": null,
            "_view_module": "@jupyter-widgets/base",
            "_view_module_version": "1.2.0",
            "_view_name": "LayoutView",
            "align_content": null,
            "align_items": null,
            "align_self": null,
            "border": null,
            "bottom": null,
            "display": null,
            "flex": null,
            "flex_flow": "row wrap",
            "grid_area": null,
            "grid_auto_columns": null,
            "grid_auto_flow": null,
            "grid_auto_rows": null,
            "grid_column": null,
            "grid_gap": null,
            "grid_row": null,
            "grid_template_areas": null,
            "grid_template_columns": null,
            "grid_template_rows": null,
            "height": null,
            "justify_content": null,
            "justify_items": null,
            "left": null,
            "margin": null,
            "max_height": null,
            "max_width": null,
            "min_height": null,
            "min_width": null,
            "object_fit": null,
            "object_position": null,
            "order": null,
            "overflow": null,
            "overflow_x": null,
            "overflow_y": null,
            "padding": null,
            "right": null,
            "top": null,
            "visibility": null,
            "width": null
          }
        },
        "0cf381aa448d4231940bcaa2e71b5242": {
          "model_module": "@jupyter-widgets/base",
          "model_name": "LayoutModel",
          "model_module_version": "1.2.0",
          "state": {
            "_model_module": "@jupyter-widgets/base",
            "_model_module_version": "1.2.0",
            "_model_name": "LayoutModel",
            "_view_count": null,
            "_view_module": "@jupyter-widgets/base",
            "_view_module_version": "1.2.0",
            "_view_name": "LayoutView",
            "align_content": null,
            "align_items": null,
            "align_self": null,
            "border": null,
            "bottom": null,
            "display": null,
            "flex": null,
            "flex_flow": null,
            "grid_area": null,
            "grid_auto_columns": null,
            "grid_auto_flow": null,
            "grid_auto_rows": null,
            "grid_column": null,
            "grid_gap": null,
            "grid_row": null,
            "grid_template_areas": null,
            "grid_template_columns": null,
            "grid_template_rows": null,
            "height": null,
            "justify_content": null,
            "justify_items": null,
            "left": null,
            "margin": null,
            "max_height": null,
            "max_width": null,
            "min_height": null,
            "min_width": null,
            "object_fit": null,
            "object_position": null,
            "order": null,
            "overflow": null,
            "overflow_x": null,
            "overflow_y": null,
            "padding": null,
            "right": null,
            "top": null,
            "visibility": null,
            "width": null
          }
        },
        "b245572b68534116a2458a5b29d2b82d": {
          "model_module": "@jupyter-widgets/base",
          "model_name": "LayoutModel",
          "model_module_version": "1.2.0",
          "state": {
            "_model_module": "@jupyter-widgets/base",
            "_model_module_version": "1.2.0",
            "_model_name": "LayoutModel",
            "_view_count": null,
            "_view_module": "@jupyter-widgets/base",
            "_view_module_version": "1.2.0",
            "_view_name": "LayoutView",
            "align_content": null,
            "align_items": null,
            "align_self": null,
            "border": null,
            "bottom": null,
            "display": null,
            "flex": null,
            "flex_flow": null,
            "grid_area": null,
            "grid_auto_columns": null,
            "grid_auto_flow": null,
            "grid_auto_rows": null,
            "grid_column": null,
            "grid_gap": null,
            "grid_row": null,
            "grid_template_areas": null,
            "grid_template_columns": null,
            "grid_template_rows": null,
            "height": null,
            "justify_content": null,
            "justify_items": null,
            "left": null,
            "margin": null,
            "max_height": null,
            "max_width": null,
            "min_height": null,
            "min_width": null,
            "object_fit": null,
            "object_position": null,
            "order": null,
            "overflow": null,
            "overflow_x": null,
            "overflow_y": null,
            "padding": null,
            "right": null,
            "top": null,
            "visibility": null,
            "width": null
          }
        },
        "9ca9ba1ef5444e948a541b93b984b52d": {
          "model_module": "@jupyter-widgets/controls",
          "model_name": "SliderStyleModel",
          "model_module_version": "1.5.0",
          "state": {
            "_model_module": "@jupyter-widgets/controls",
            "_model_module_version": "1.5.0",
            "_model_name": "SliderStyleModel",
            "_view_count": null,
            "_view_module": "@jupyter-widgets/base",
            "_view_module_version": "1.2.0",
            "_view_name": "StyleView",
            "description_width": "",
            "handle_color": null
          }
        },
        "40963a901a60432f9232fc66f785269d": {
          "model_module": "@jupyter-widgets/base",
          "model_name": "LayoutModel",
          "model_module_version": "1.2.0",
          "state": {
            "_model_module": "@jupyter-widgets/base",
            "_model_module_version": "1.2.0",
            "_model_name": "LayoutModel",
            "_view_count": null,
            "_view_module": "@jupyter-widgets/base",
            "_view_module_version": "1.2.0",
            "_view_name": "LayoutView",
            "align_content": null,
            "align_items": null,
            "align_self": null,
            "border": null,
            "bottom": null,
            "display": null,
            "flex": null,
            "flex_flow": null,
            "grid_area": null,
            "grid_auto_columns": null,
            "grid_auto_flow": null,
            "grid_auto_rows": null,
            "grid_column": null,
            "grid_gap": null,
            "grid_row": null,
            "grid_template_areas": null,
            "grid_template_columns": null,
            "grid_template_rows": null,
            "height": null,
            "justify_content": null,
            "justify_items": null,
            "left": null,
            "margin": null,
            "max_height": null,
            "max_width": null,
            "min_height": null,
            "min_width": null,
            "object_fit": null,
            "object_position": null,
            "order": null,
            "overflow": null,
            "overflow_x": null,
            "overflow_y": null,
            "padding": null,
            "right": null,
            "top": null,
            "visibility": null,
            "width": null
          }
        },
        "83b3fd57461c4d69b3912403f7a31173": {
          "model_module": "@jupyter-widgets/controls",
          "model_name": "SliderStyleModel",
          "model_module_version": "1.5.0",
          "state": {
            "_model_module": "@jupyter-widgets/controls",
            "_model_module_version": "1.5.0",
            "_model_name": "SliderStyleModel",
            "_view_count": null,
            "_view_module": "@jupyter-widgets/base",
            "_view_module_version": "1.2.0",
            "_view_name": "StyleView",
            "description_width": "",
            "handle_color": null
          }
        },
        "b0c0a960d58b4960a548f482fbc6f351": {
          "model_module": "@jupyter-widgets/base",
          "model_name": "LayoutModel",
          "model_module_version": "1.2.0",
          "state": {
            "_model_module": "@jupyter-widgets/base",
            "_model_module_version": "1.2.0",
            "_model_name": "LayoutModel",
            "_view_count": null,
            "_view_module": "@jupyter-widgets/base",
            "_view_module_version": "1.2.0",
            "_view_name": "LayoutView",
            "align_content": null,
            "align_items": null,
            "align_self": null,
            "border": null,
            "bottom": null,
            "display": null,
            "flex": null,
            "flex_flow": null,
            "grid_area": null,
            "grid_auto_columns": null,
            "grid_auto_flow": null,
            "grid_auto_rows": null,
            "grid_column": null,
            "grid_gap": null,
            "grid_row": null,
            "grid_template_areas": null,
            "grid_template_columns": null,
            "grid_template_rows": null,
            "height": null,
            "justify_content": null,
            "justify_items": null,
            "left": null,
            "margin": null,
            "max_height": null,
            "max_width": null,
            "min_height": null,
            "min_width": null,
            "object_fit": null,
            "object_position": null,
            "order": null,
            "overflow": null,
            "overflow_x": null,
            "overflow_y": null,
            "padding": null,
            "right": null,
            "top": null,
            "visibility": null,
            "width": null
          }
        },
        "5fe823b491454318ad0ba805c4c9dd01": {
          "model_module": "@jupyter-widgets/controls",
          "model_name": "SliderStyleModel",
          "model_module_version": "1.5.0",
          "state": {
            "_model_module": "@jupyter-widgets/controls",
            "_model_module_version": "1.5.0",
            "_model_name": "SliderStyleModel",
            "_view_count": null,
            "_view_module": "@jupyter-widgets/base",
            "_view_module_version": "1.2.0",
            "_view_name": "StyleView",
            "description_width": "",
            "handle_color": null
          }
        },
        "efbbe7908ec14258a680c26d38845f5e": {
          "model_module": "@jupyter-widgets/base",
          "model_name": "LayoutModel",
          "model_module_version": "1.2.0",
          "state": {
            "_model_module": "@jupyter-widgets/base",
            "_model_module_version": "1.2.0",
            "_model_name": "LayoutModel",
            "_view_count": null,
            "_view_module": "@jupyter-widgets/base",
            "_view_module_version": "1.2.0",
            "_view_name": "LayoutView",
            "align_content": null,
            "align_items": null,
            "align_self": null,
            "border": null,
            "bottom": null,
            "display": null,
            "flex": null,
            "flex_flow": null,
            "grid_area": null,
            "grid_auto_columns": null,
            "grid_auto_flow": null,
            "grid_auto_rows": null,
            "grid_column": null,
            "grid_gap": null,
            "grid_row": null,
            "grid_template_areas": null,
            "grid_template_columns": null,
            "grid_template_rows": null,
            "height": null,
            "justify_content": null,
            "justify_items": null,
            "left": null,
            "margin": null,
            "max_height": null,
            "max_width": null,
            "min_height": null,
            "min_width": null,
            "object_fit": null,
            "object_position": null,
            "order": null,
            "overflow": null,
            "overflow_x": null,
            "overflow_y": null,
            "padding": null,
            "right": null,
            "top": null,
            "visibility": null,
            "width": null
          }
        },
        "c67ed583be4c4aba833b707514f6a18a": {
          "model_module": "@jupyter-widgets/controls",
          "model_name": "SliderStyleModel",
          "model_module_version": "1.5.0",
          "state": {
            "_model_module": "@jupyter-widgets/controls",
            "_model_module_version": "1.5.0",
            "_model_name": "SliderStyleModel",
            "_view_count": null,
            "_view_module": "@jupyter-widgets/base",
            "_view_module_version": "1.2.0",
            "_view_name": "StyleView",
            "description_width": "",
            "handle_color": null
          }
        },
        "8deea130a1d1417199c0973ea99034ae": {
          "model_module": "@jupyter-widgets/base",
          "model_name": "LayoutModel",
          "model_module_version": "1.2.0",
          "state": {
            "_model_module": "@jupyter-widgets/base",
            "_model_module_version": "1.2.0",
            "_model_name": "LayoutModel",
            "_view_count": null,
            "_view_module": "@jupyter-widgets/base",
            "_view_module_version": "1.2.0",
            "_view_name": "LayoutView",
            "align_content": null,
            "align_items": null,
            "align_self": null,
            "border": null,
            "bottom": null,
            "display": null,
            "flex": null,
            "flex_flow": null,
            "grid_area": null,
            "grid_auto_columns": null,
            "grid_auto_flow": null,
            "grid_auto_rows": null,
            "grid_column": null,
            "grid_gap": null,
            "grid_row": null,
            "grid_template_areas": null,
            "grid_template_columns": null,
            "grid_template_rows": null,
            "height": null,
            "justify_content": null,
            "justify_items": null,
            "left": null,
            "margin": null,
            "max_height": null,
            "max_width": null,
            "min_height": null,
            "min_width": null,
            "object_fit": null,
            "object_position": null,
            "order": null,
            "overflow": null,
            "overflow_x": null,
            "overflow_y": null,
            "padding": null,
            "right": null,
            "top": null,
            "visibility": null,
            "width": null
          }
        },
        "92e427a99e0345ac942e07606db75176": {
          "model_module": "@jupyter-widgets/controls",
          "model_name": "SliderStyleModel",
          "model_module_version": "1.5.0",
          "state": {
            "_model_module": "@jupyter-widgets/controls",
            "_model_module_version": "1.5.0",
            "_model_name": "SliderStyleModel",
            "_view_count": null,
            "_view_module": "@jupyter-widgets/base",
            "_view_module_version": "1.2.0",
            "_view_name": "StyleView",
            "description_width": "",
            "handle_color": null
          }
        },
        "35db598067ae487e97cce3ca80502f39": {
          "model_module": "@jupyter-widgets/controls",
          "model_name": "VBoxModel",
          "model_module_version": "1.5.0",
          "state": {
            "_dom_classes": [],
            "_model_module": "@jupyter-widgets/controls",
            "_model_module_version": "1.5.0",
            "_model_name": "VBoxModel",
            "_view_count": null,
            "_view_module": "@jupyter-widgets/controls",
            "_view_module_version": "1.5.0",
            "_view_name": "VBoxView",
            "box_style": "",
            "children": [
              "IPY_MODEL_65a3a4b8d3034c419460c9eafbae13cb",
              "IPY_MODEL_5059247a7a5e4c4d9571d1ecf8f8ada8"
            ],
            "layout": "IPY_MODEL_792a3fdc16004419987894986d9d72d3"
          }
        },
        "65a3a4b8d3034c419460c9eafbae13cb": {
          "model_module": "@jupyter-widgets/controls",
          "model_name": "HBoxModel",
          "model_module_version": "1.5.0",
          "state": {
            "_dom_classes": [],
            "_model_module": "@jupyter-widgets/controls",
            "_model_module_version": "1.5.0",
            "_model_name": "HBoxModel",
            "_view_count": null,
            "_view_module": "@jupyter-widgets/controls",
            "_view_module_version": "1.5.0",
            "_view_name": "HBoxView",
            "box_style": "",
            "children": [
              "IPY_MODEL_52852f83581a4589a225d8e62a4876de"
            ],
            "layout": "IPY_MODEL_0e64a2645b7d48368caf8fba3b0d0a61"
          }
        },
        "5059247a7a5e4c4d9571d1ecf8f8ada8": {
          "model_module": "@jupyter-widgets/output",
          "model_name": "OutputModel",
          "model_module_version": "1.0.0",
          "state": {
            "_dom_classes": [],
            "_model_module": "@jupyter-widgets/output",
            "_model_module_version": "1.0.0",
            "_model_name": "OutputModel",
            "_view_count": null,
            "_view_module": "@jupyter-widgets/output",
            "_view_module_version": "1.0.0",
            "_view_name": "OutputView",
            "layout": "IPY_MODEL_0d85cfa8e61344ccb6361d788f89a23b",
            "msg_id": "",
            "outputs": [
              {
                "output_type": "display_data",
                "data": {
                  "text/html": "<html>\n<head><meta charset=\"utf-8\" /></head>\n<body>\n    <div>            <script src=\"https://cdnjs.cloudflare.com/ajax/libs/mathjax/2.7.5/MathJax.js?config=TeX-AMS-MML_SVG\"></script><script type=\"text/javascript\">if (window.MathJax && window.MathJax.Hub && window.MathJax.Hub.Config) {window.MathJax.Hub.Config({SVG: {font: \"STIX-Web\"}});}</script>                <script type=\"text/javascript\">window.PlotlyConfig = {MathJaxConfig: 'local'};</script>\n        <script charset=\"utf-8\" src=\"https://cdn.plot.ly/plotly-2.24.1.min.js\"></script>                <div id=\"b526b422-cc06-464b-9bc7-15c1ed738d0f\" class=\"plotly-graph-div\" style=\"height:500px; width:500px;\"></div>            <script type=\"text/javascript\">                                    window.PLOTLYENV=window.PLOTLYENV || {};                                    if (document.getElementById(\"b526b422-cc06-464b-9bc7-15c1ed738d0f\")) {                    Plotly.newPlot(                        \"b526b422-cc06-464b-9bc7-15c1ed738d0f\",                        [{\"hoverinfo\":\"text\",\"marker\":{\"size\":3},\"mode\":\"markers\",\"text\":[\"Ring: 1.0\\n Wire: 7.0\",\"Ring: 2.0\\n Wire: 7.0\",\"Ring: 3.0\\n Wire: 9.0\",\"Ring: 4.0\\n Wire: 9.0\",\"Ring: 5.0\\n Wire: 15.0\",\"Ring: 6.0\\n Wire: 16.0\",\"Ring: 7.0\\n Wire: 18.0\",\"Ring: 8.0\\n Wire: 19.0\",\"Ring: 9.0\\n Wire: 11.0\",\"Ring: 10.0\\n Wire: 11.0\",\"Ring: 11.0\\n Wire: 14.0\",\"Ring: 12.0\\n Wire: 13.0\",\"Ring: 13.0\\n Wire: 22.0\",\"Ring: 14.0\\n Wire: 23.0\",\"Ring: 15.0\\n Wire: 25.0\",\"Ring: 16.0\\n Wire: 25.0\",\"Ring: 17.0\\n Wire: 21.0\",\"Ring: 18.0\\n Wire: 21.0\",\"Ring: 19.0\\n Wire: 24.0\",\"Ring: 20.0\\n Wire: 23.0\",\"Ring: 21.0\\n Wire: 41.0\",\"Ring: 23.0\\n Wire: 43.0\",\"Ring: 24.0\\n Wire: 44.0\",\"Ring: 25.0\\n Wire: 40.0\",\"Ring: 26.0\\n Wire: 40.0\",\"Ring: 27.0\\n Wire: 43.0\",\"Ring: 28.0\\n Wire: 43.0\"],\"x\":[6.68493345918501,6.804737952406192,7.802341110887268,7.834561561174072,8.216982909714908,8.169553247176767,9.488071917648764,9.41708365720973,14.050768981911203,14.09851935581661,14.66178147250109,16.072611534908113,13.856764179877995,13.709714847086978,14.885772567072005,14.726039775586823,18.238772004907368,19.60027489010187,18.92276712526924,20.26521304404933,11.050459513830978,12.057194691633592,11.692179122133888,15.1560753848373,16.357894334983843,15.880132610163209,15.504354662036851],\"y\":[8.382640388700253,9.980716080977496,11.358703327376697,12.960887785339924,14.934988268229851,16.51333936050955,18.284430806161566,19.858440356591384,19.3509220690881,21.000470337062822,22.945936305626056,23.672478238228877,28.154719151027773,29.75069875770253,31.050519988744256,32.64495724944106,32.71937811248478,33.53801782574887,35.860716083546535,36.712508890303894,42.19626043670009,45.103252366927734,46.631515785691306,48.04064715445795,49.10677636625625,50.94547899366176,52.505078796948546],\"type\":\"scatter\",\"uid\":\"79d261cc-8b1e-41df-a3f8-ea67202b45a2\"},{\"marker\":{\"color\":\"red\"},\"mode\":\"lines\",\"name\":\"track\",\"type\":\"scatter\",\"uid\":\"86342c0e-7795-431d-8213-286191a90b42\",\"x\":[-7.105427357601002e-15,0.035098300562921736,0.07016254203747962,0.1051927046604888,0.14018876868804142,0.1751507143954143,0.21007852207711863,0.24497217204692134,0.27983164463782373,0.314656920202097,0.34944797911128234,0.3842048017562263,0.4189273685470525,0.45361565991318287,0.4882696563033875,0.5228893381857489,0.5574746860476836,0.5920256803959703,0.6265423017567358,0.6610245306755189,0.6954723477171854,0.7298857334660553,0.7642646685258043,0.7986091335195624,0.8329191090898647,0.8671945758987007,0.9014355146275008,0.9356419059771568,0.9698137306680366,1.0039509694399982,1.0380536030523544,1.0721216122839792,1.1061549779332296,1.1401536808179884,1.1741177017756925,1.2080470216632904,1.241941621357327,1.2758014817538879,1.309626583768683,1.3434169083369625,1.3771724364135949,1.4108931489730807,1.4445790270095102,1.4782300515366344,1.5118462035878366,1.5454274642161607,1.5789738144943044,1.6124852355146473,1.6459617083892724,1.6794032142499518,1.7128097342481396,1.7461812495550362,1.7795177413615733,1.8128191908784146,1.846085579335984,1.879316887984423,1.9125130980937257,1.9456741909535964,1.9788001478735566,2.011890950182945,2.0449465792309027,2.0779670163863955,2.1109522430382057,2.143902240595011,2.1768169904852996,2.2096964741574254,2.2425406730796666,2.2753495687401255,2.3081231426468563,2.340861376327794,2.3735642513307837,2.406231749223629,2.438863851594057,2.4714605400497263,2.5040217962182965,2.5365476017473583,2.5690379383045254,2.6014927875773424,2.633912131273412,2.6662959511203326,2.698644228865703,2.730956946277189,2.7632340851424644,2.7954756272692833,2.8276815544854585,2.859851848638854,2.89198649159745,2.9240854652492914,2.9561487515025533,2.988176332285505,3.0201681895465455,3.0521243052542246,3.084044661397215,3.1159292399843395,3.14777802304463,3.179590992627233,3.2113681308015316,3.243109419657074,3.274814841303616,3.3064843778711506,3.338118011509877,3.3697157243902396,3.4012774987029175,3.4328033166588483,3.4642931604892695,3.4957470124456265,3.5271648547997216,3.5585466698435937,3.5898924398896312,3.6212021472705374,3.652475774339294,3.6837133034692755,3.7149147170541568,3.746079997508005,3.7772091272652375,3.8083020887806356,3.8393588645293875,3.8703794370070597,3.9013637887296397,3.932311902233508,3.9632237600754934,3.994099344832833,4.02493863910324,4.055741625504865,4.08650828667632,4.117238605276697,4.147932563985563,4.17859014550298,4.209211332549529,4.239796107866297,4.2703444542148645,4.300856354377402,4.331331791156558,4.361770747375587,4.392173205878265,4.422539149528973,4.4528685612126395,4.483161423834815,4.513417720321613,4.543637433619793,4.573820546696723,4.60396704254039,4.634076904159414,4.66415011458308,4.694186656861348,4.724186514064783,4.7541496692847005,4.784076105633048,4.813965806242479,4.843818754266394,4.8736349328788435,4.903414325274653,4.933156914669354,4.962862684299239,4.992531617421335,5.022163697313431,5.05175890727412,5.081317230622744,5.110838650699435,5.140323150865143,5.16977071450161,5.199181325011409,5.228554965817935,5.257891620365427,5.28719127211896,5.3164539045644545,5.345679501208721,5.374868045579447,5.40401952122518,5.433133911715373,5.462211200640368,5.491251371611455,5.520254408260783,5.549220294241493,5.578149013227645,5.607040548914213,5.635894885017194,5.664712005273486,5.693491893440992,5.722234533298618,5.750939908646231,5.77960800330473,5.808238801115991,5.836832285942961,5.865388441669566,5.893907252200819,5.922388701462722,5.9508327734023965,5.979239451988008,6.007608721208783,6.035940565075052,6.064234967618219,6.0924919128908215,6.120711384966484,6.148893367939962,6.1770378459271456,6.205144803065039,6.233214223511808,6.261246091446807,6.289240391070521,6.3171971066045955,6.345116222291892,6.372997722396448,6.40084159120353,6.428647813019566,6.456416372172228,6.48414725301042,6.511840439904276,6.539495917245205,6.567113669445803,6.594693680939983,6.622235936182918,6.649740419651067,6.677207115842151,6.704636009275234,6.732027084490625,6.759380326050007,6.7866957185363646,6.813973246553999,6.841212894728585,6.868414647707127,6.895578490157973,6.92270440677089,6.949792382256959,6.976842401348691,7.00385444879997,7.030828509386083,7.057764567903732,7.084662609171033,7.111522618027536,7.13834457933423,7.165128477973539,7.191874298849328,7.218582026886963,7.245251647033243,7.2718831442564635,7.2984765035463965,7.325031709914313,7.351548748393014,7.37802760403676,7.40446826192138,7.430870707144209,7.457234924824121,7.483560900101551,7.509848618138463,7.53609806411842,7.562309223246501,7.588482080749429,7.614616621875456,7.64071283189449,7.666770696097984,7.692790199799049,7.718771328332394,7.74471406705436,7.770618401342915,7.796484316597699,7.822311798240008,7.848100831712756,7.873851402480568,7.899563496029728,7.925237097868234,7.950872193525754,7.976468768553644,8.002026808525017,8.027546299034654,8.053027225699111,8.07846957415667,8.103873330067316,8.129238479112814,8.15456500699672,8.179852899444299,8.205102142202634,8.230312721040576,8.255484621748778,8.280617830139661,8.305712332047506,8.33076811332836,8.355785159860147,8.380763457542571,8.405702992297194,8.430603750067434,8.455465716818566,8.48028887853772,8.5050732212339,8.52981873093799,8.554525393702747,8.579193195602855,8.603822122734883,8.628412161217298,8.65296329719051,8.677475516816841,8.70194880628054,8.726383151787829,8.750778539566852,8.775134955867713,8.799452386962486,8.823730819145212,8.847970238731946,8.872170632060673,8.896331985491415,8.920454285406208,8.944537518209046,8.968581670326017,8.992586728205168,9.016552678316614,9.040479507152511,9.064367201227057,9.088215747076518,9.112025131259216,9.135795340355529,9.159526360967945,9.183218179721038,9.20687078326145,9.230484158257951,9.254058291401435,9.277593169404852,9.301088779003337,9.324545106954147,9.347962140036671,9.37133986505242,9.39467826882509,9.417977338200558,9.44123706004683,9.46445742125411,9.487638408734782,9.510780009423414,9.5338822102768,9.55694499827392,9.579968360415975,9.602952283726367,9.625896755250764,9.648801762057033,9.671667291235309,9.694493329897966,9.717279865179663,9.740026884237267,9.762734374249973,9.785402322419216,9.80803071596877,9.830619542144632,9.853168788215157,9.875678441470981,9.898148489225065,9.920578918812694,9.942969717591481,9.965320872941362,9.987632372264642,10.009904202985979,10.032136352552342,10.054328808433127,10.076481558120065,10.09859458912726,10.120667888991235,10.142701445270902,10.164695245547534,10.186649277424848,10.20856352852897,10.230437986508448,10.252272639034246,10.274067473799775,10.29582247852089,10.317537640935868,10.339212948805496,10.36084838991296,10.382443952063994,10.403999623086705,10.42551539083179,10.446991243172377,10.468427168004084,10.48982315324507,10.511179186835989,10.532495256740006,10.55377135094281,10.575007457452628,10.596203564300225,10.61735965953892,10.638475731244554,10.659551767515566,10.680587756472931,10.701583686260221,10.722539545043546,10.743455321011623,10.764331002375783,10.785166577369921,10.805962034250555,10.82671736129683,10.847432546810467,10.86810757911583,10.888742446559945,10.909337137512424,10.929891640365568,10.950405943534307,10.970880035456233,10.991313904591593,11.011707539423327,11.032060928457028,11.052374060220998,11.072646923266191,11.092879506166298,11.113071797517705,11.133223785939478,11.153335460073407,11.173406808584062,11.19343782015865,11.213428483507187,11.233378787362398,11.253288720479745,11.273158271637456,11.292987429636554,11.31277618330077,11.332524521476657,11.352232433033507,11.371899906863405,11.391526931881245,11.411113497024743,11.430659591254354,11.450165203553382,11.46963032292797,11.489054938407023,11.508439039042344,11.5277826139085,11.547085652102965,11.566348142746023,11.585570074980808,11.604751437973349,11.623892220912495,11.64299241301002,11.66205200350052,11.681070981641511,11.700049336713406,11.718987058019465,11.737884134885903,11.756740556661825,11.775556312719246,11.794331392453088,11.813065785281253,11.831759480644507,11.850412468006596,11.869024736854186,11.887596276696925,11.906127077067381,11.924617127521117,11.94306641763663,11.961474937015424,11.979842675281958,11.998169622083694,12.01645576709106,12.03470109999752,12.052905610519488,12.071069288396444,12.089192123390845,12.10727410528817,12.125315223896934,12.143315469048702,12.161274830598032,12.179193298422547,12.197070862422947,12.214907512522927,12.232703238669302,12.250458030831922,12.268171879003702,12.285844773200651,12.303476703461854,12.321067659849476,12.338617632448802,12.356126611368197,12.373594586739117,12.391021548716168,12.408407487477035,12.425752393222524,12.443056256176618,12.46031906658638,12.477540814722033,12.494721490876955,12.511861085367627,12.528959588533723,12.546016990738096,12.563033282366717,12.580008453828754,12.596942495556561,12.613835398005648,12.630687151654726,12.647497747005701,12.66426717458367,12.680995424936938,12.697682488637014,12.714328356278628,12.730933018479718,12.747496465881468,12.764018689148259,12.780499678967743,12.796939426050784,12.813337921131506,12.829695154967283,12.846011118338723,12.862285802049755,12.878519196927485,12.894711293822368,12.910862083608095,12.926971557181659,12.943039705463335,12.959066519396671,12.975051989948525,12.990996108109087,13.006898864891795,13.022760251333452,13.03858025849415,13.054358877457304,13.070096099329675,13.085791915241344,13.101446316345744,13.117059293819594,13.13263083886305,13.148160942699548,13.163649596575908,13.179096791762333,13.194502519552358,13.209866771262895,13.225189538234247,13.240470811830107,13.25571058343752,13.270908844466959,13.28606558635228,13.301180800550739,13.316254478542987,13.331286611833107,13.346277191948602,13.361226210440336,13.376133658882694,13.390999528873408,13.405823812033688,13.42060650000819,13.435347584464964,13.45004705709556,13.464704909614966,13.479321133761616,13.493895721297434,13.508428664007766,13.522919953701475,13.537369582210886,13.551777541391786,13.566143823123497,13.580468419308772,13.5947513218739,13.608992522768645,13.623192013966289,13.63734978746362,13.651465835280959,13.665540149462103,13.679572722074397,13.693563545208718,13.70751261097945,13.721419911524535,13.735285439005466,13.749109185607239,13.762891143538411,13.776631305031131,13.790329662341065,13.803986207747457,13.81760093355311,13.831173832084403,13.844704895691294,13.858194116747299,13.871641487649555,13.885047000818744,13.898410648699183,13.911732423758735,13.925012318488925,13.938250325404823,13.951446437045163,13.964600645972226,13.977712944771994,13.990783326054,14.003811782451422,14.016798306621084,14.029742891243458,14.042645529022579,14.055506212686225,14.068324934985753,14.081101688696165,14.093836466616182,14.106529261568141,14.119180066398016,14.131788873975495,14.144355677193914,14.156880468970272,14.169363242245296,14.181803989983337,14.194202705172472,14.206559380824444,14.218874009974698,14.231146585682396,14.243377101030376,14.255565549125194,14.26771192309711,14.27981621610013,14.291878421311921,14.30389853193391,14.315876541191258,14.327812442332814,14.3397062286312,14.351557893382775,14.363367429907598,14.37513483154953,14.386860091676112,14.398543203678699,14.410184160972378,14.421782956995997,14.433339585212138,14.444854039107213,14.45632631219135,14.467756397998471,14.479144290086282,14.490489982036252,14.501793467453666,14.513054739967558,14.524273793230776,14.53545062091996,14.54658521673558,14.55767757440185,14.568727687666836,14.579735550302402,14.590701156104217,14.601624498891766,14.612505572508368,14.623344370821158,14.634140887721117,14.644895117123014,14.655607052965507,14.666276689211031,14.676904019845907,14.687489038880301,14.698031740348213,14.708532118307474,14.718990166839816,14.729405880050777,14.739779252069809,14.750110277050197,14.760398949169087,14.770645262627525,14.780849211650406,14.79101079048651,14.801129993408509,14.811206814712946,14.821241248720256,14.831233289774744,14.841182932244678,14.851090170522141,14.86095499902315,14.870777412187621,14.88055740447939,14.890294970386194,14.899990104419672,14.90964280111541,14.919253055032854,14.928820860755451,14.938346212890494,14.94782910606925,14.957269534946917,14.966667494202625,14.976022978539419,14.985335982684276,14.99460650138819,15.00383452942603,15.013020061596606,15.022163092722735,15.031263617651149,15.040321631252567,15.049337128421627,15.058310104076966,15.067240553161184,15.076128470640825,15.084973851506433,15.093776690772515,15.102536983477549,15.111254724684002,15.11992990947833,15.12856253297096,15.137152590296324,15.145700076612826,15.154204987102887,15.1626673169729,15.171087061453264,15.179464215798419,15.187798775286751,15.196090735220679,15.20434009092665,15.212546837755085,15.220710971080464,15.228832486301243,15.236911378839949,15.244947644143068,15.252941277681174,15.26089227494883,15.268800631464643,15.27666634277125,15.284489404435334,15.292269812047593,15.300007561222799,15.30770264759974,15.315355066841278,15.322964814634275,15.330531886689698,15.338056278742542,15.345537986551847,15.352977005900726,15.360373332596367,15.367726962469987,15.375037891376877,15.382306115196414,15.389531629832021,15.396714431211223,15.403854515285587,15.4109518780308,15.41800651544655,15.425018423556693,15.431987598409123,15.438914036075829,15.445797732652878,15.452638684260435,15.459436887042756,15.466192337168195,15.472905030829224,15.479574964242346,15.486202133648234,15.492786535311637,15.499328165521419,15.50582702059053,15.512283096856038,15.518696390679139,15.525066898445104,15.53139461656339,15.537679541467497,15.543921669615074,15.550120997487895,15.556277521591852,15.562391238456968,15.56846214463738,15.574490236711384,15.580475511281364,15.586417964973862,15.592317594439564,15.598174396353272,15.603988367413947,15.60975950434468,15.615487803892691,15.621173262829359,15.626815877950222,15.632415646074932,15.637972564047331,15.643486628735374,15.648957837031205,15.654386185851095,15.659771672135477,15.665114292848955,15.670414044980276,15.675670925542377,15.680884931572322,15.686056060131378,15.691184308304926,15.696269673202579,15.701312151958078,15.706311741729351,15.711268439698486,15.71618224307177,15.721053149079637,15.725881154976733,15.73066625804185,15.735408455577982,15.740107744912308,15.744764123396166,15.74937758840511,15.753948137338867,15.758475767621348,15.762960476700655,15.767402262049103,15.771801121163165,15.776157051563558,15.780470050795117,15.78474011642696,15.788967246052351,15.793151437288742,15.797292687777855,15.801390995185557,15.805446357201916,15.80945877154123,15.813428235941998,15.81735474816692,15.821238306002925,15.825078907261116,15.828876549776837,15.832631231409621,15.83634295004326,15.840011703585702,15.843637489969154,15.847220307150025,15.850760153108936,15.854257025850742,15.857710923404511,15.861121843823526,15.864489785185327,15.867814745591616,15.871096723168392,15.87433571606583,15.877531722458329,15.880684740544552,15.88379476854739,15.886861804713917,15.889885847315483,15.892866894647668,15.895804945030264,15.898699996807295,15.901552048347057,15.904361098042045,15.907127144309001,15.909850185588908,15.912530220346994,15.915167247072716,15.917761264279775,15.920312270506116,15.922820264313927,15.925285244289626,15.927707209043888,15.930086157211633,15.932422087452025,15.93471499844847,15.93696488890862,15.939171757564353,15.941335603171865,15.943456424511524,15.945534220387984,15.947568989630156,15.949560731091168,15.951509443648433,15.953415126203609,15.955277777682596,15.957097397035568,15.958873983236913,15.960607535285334,15.962298052203707,15.963945533039265,15.9655499768634,15.967111382771833,15.9686297498845,15.970105077345622,15.971537364323638,15.9729266100113,15.97427281362559,15.975575974407732,15.976836091623255,15.9780531645619,15.979227192537707,15.980358174888963,15.981446110978212,15.982491000192255,15.98349284194218,15.98445163566332,15.985367380815262,15.986240076881884,15.987069723371292,15.98785631981589,15.98859986577233,15.989300360821517,15.989957804568647,15.990572196643157,15.991143536698772,15.991671824413459,15.992157059489472,15.992599241653295,15.99299837065574,15.993354446271809,15.993667468300842,15.993937436566384,15.994164350916279,15.994348211222658,15.994489017381852,15.994586769314537,15.994641466965575,15.994653110304185,15.994621699323773,15.99454723404206,15.994429714500995,15.994269140766832,15.994065512930064,15.993818831105472,15.993529095432095,15.993196306073216,15.992820463216432,15.992401567073557,15.991939617880703,15.991434615898214,15.990886561410761,15.990295454727203,15.989661296180742,15.988984086128767,15.988263824953009,15.987500513059388,15.986694150878165,15.985844738863804,15.984952277495069,15.984016767274952,15.983038208730761,15.98201660241402,15.98095194890054,15.979844248790386,15.978693502707884,15.977499711301633,15.976262875244473,15.974982995233532,15.973660071990182,15.972294106260051,15.970885098813028,15.969433050443286,15.967937961969227,15.966399834233528,15.964818668103106,15.963194464469154,15.961527224247135,15.959816948376726,15.958063637821894,15.956267293570846,15.954427916636064,15.952545508054243,15.950620068886394,15.948651600217715,15.946640103157705,15.94458557884009,15.942488028422858,15.940347453088236,15.938163854042728,15.935937232517048,15.933667589766202,15.931354927069393,15.928999245730125,15.926600547076106,15.924158832459312,15.921674103255953,15.919146360866506,15.916575606715654,15.913961842252348,15.911305068949787,15.908605288305381,15.90586250184083,15.903076711102003,15.900247917659058,15.897376123106383,15.894461329062608,15.891503537170564,15.88850274909737,15.88545896653433,15.882372191197007,15.879242424825193,15.876069669182911,15.872853926058383,15.869595197264118,15.866293484636827,15.862948790037422,15.85956111535107,15.856130462487144,15.852656833379271,15.849140229985267,15.845580654287204,15.841978108291315,15.838332594028131,15.83464411355233,15.830912668942858,15.827138262302853,15.823320895759679,15.819460571464887,15.81555729159426,15.811611058347808,15.807621873949714,15.803589740648391,15.799514660716483,15.79539663645079,15.791235670172341,15.78703176422637,15.782784920982309,15.77849514283379,15.774162432198665,15.76978679151894,15.765368223260865,15.76090672991485,15.756402313995508,15.751854978041663,15.747264724616286,15.742631556306605,15.737955475723965,15.733236485503951,15.728474588306284,15.723669786814938,15.71882208373799,15.713931481807762,15.708997983780705,15.704021592437485,15.699002310582927,15.693940141046014,15.688835086679958,15.683687150362061,15.678496334993866],\"y\":[0.0,0.045353534957513375,0.09073340720681244,0.13613959117059693,0.18157206125673042,0.2270307918582617,0.272515757353446,0.31802693210573096,0.3635642904638061,0.4091278067616173,0.4547174553183311,0.5003332104384128,0.5459750464116198,0.5916429375129795,0.6373368580028682,0.683056782126954,0.7288026841162747,0.7745745381872382,0.8203723185415797,0.8661959993664681,0.9120455548344424,0.9579209591034754,1.003822186316988,1.0497492106037853,1.0957020060781986,1.1416805468399929,1.1876848069744455,1.2337147605523313,1.2797703816299304,1.3258516442490844,1.371958522437133,1.418090990207041,1.4642490215573147,1.5104325904720497,1.5566416709209534,1.602876236859359,1.6491362622282395,1.6954217209541937,1.7417325869495173,1.788068834112174,1.8344304363258033,1.880817367459791,1.9272296013692127,1.9736671118948834,2.0201298728634143,2.0666178580871275,2.113131041364184,2.1596693964784777,2.2062328971997758,2.2528215172836497,2.299435230471488,2.3460740104905824,2.392737831054056,2.4394266658609425,2.4861404885961775,2.532879272930593,2.5796429925209736,2.6264316210100276,2.6732451320264516,2.720083499184888,2.766946696085995,2.813834696316434,2.860747473448839,2.907685001041955,2.954647252640534,3.0016342017753956,3.048645821963433,3.0956820867076615,3.1427429694971636,3.189828443807201,3.2369384830991237,3.284073060820461,3.331232150404908,3.3784157252723475,3.4256237588288627,3.4728562244667387,3.5201130955645112,3.5673943454869317,3.6146999475850237,3.6620298751961116,3.7093841016437707,3.7567626002379058,3.8041653442747005,3.8515923070367535,3.8990434617929353,3.9465187817985026,3.9940182402951265,4.0415418105108145,4.089089465660038,4.136661178943669,4.184256923548993,4.2318766726498325,4.27952039940638,4.327188076965378,4.374879678460054,4.422595177010145,4.470334545721933,4.518097757688224,4.565884785988409,4.613695603688441,4.66153018384086,4.709388499484838,4.757270523646142,4.805176229337178,4.853105589557039,4.901058577291437,4.9490351655127895,4.997035327180221,5.045059035239554,5.093106262623358,5.141176982250926,5.189271167028323,5.237388789848367,5.285529823590707,5.333694241121762,5.381882015294771,5.4300931189498485,5.478327524913901,5.526585206000739,5.574866135011064,5.6231702847324385,5.671497627939367,5.719848137393257,5.768221785842478,5.816618546022362,5.865038390655187,5.913481292450264,5.961947224103852,6.010436158299271,6.058948067706879,6.1074829249840406,6.156040702775243,6.204621373712023,6.253224910412996,6.301851285483956,6.350500471517741,6.3991724410944,6.44786716678108,6.496584621132179,6.545324776689206,6.594087605980931,6.642873081523305,6.6916811758195465,6.740511861360112,6.789365110622718,6.838240896072371,6.887139190161385,6.936059965329363,6.985003194003269,7.033968848597382,7.082956901513356,7.131967325140224,7.181000091854386,7.2300551740196894,7.279132543987366,7.328232174096115,7.377354036672067,7.4264981040288305,7.475664348467511,7.5248527422766855,7.574063257732462,7.623295867098506,7.672550542625977,7.721827256553645,7.771125981107836,7.820446688502479,7.869789350939101,7.919153940606847,7.968540429682548,8.017948790330657,8.067378994703283,8.116831014940267,8.166304823169106,8.215800391505077,8.265317692051141,8.314856696898026,8.364417378124216,8.413999707796009,8.463603657967475,8.513229200680506,8.562876307964821,8.61254495183799,8.66223510430543,8.711946737360464,8.761679822984284,8.81143433314599,8.86121023980261,8.911007514899126,8.960826130368474,9.010666058131527,9.060527270097204,9.110409738162375,9.16031343421195,9.210238330118898,9.260184397744183,9.310151608936906,9.360139935534185,9.410149349361276,9.460179822231552,9.510231325946485,9.56030383229573,9.61039731305707,9.660511739996494,9.710647084868178,9.7608033194145,9.810980415366068,9.861178344441733,9.911397078348607,9.96163658878207,10.011896847425795,10.062177825951764,10.112479496020264,10.162801829279942,10.213144797367796,10.263508371909175,10.313892524517833,10.364297226795912,10.414722450333983,10.465168166711045,10.51563434749454,10.566120964240397,10.616627988493,10.667155391785244,10.717703145638545,10.768271221562834,10.8188595910566,10.869468225606894,10.920097096689325,10.970746175768127,11.021415434296117,11.072104843714754,11.122814375454134,11.173544000933013,11.224293691558834,11.275063418727697,11.325853153824447,11.376662868222624,11.427492533284521,11.47834212036119,11.529211600792436,11.580100945906878,11.631010127021916,11.681939115443768,11.732887882467523,11.783856399377079,11.834844637445222,11.885852567933625,11.936880162092862,11.987927391162415,12.038994226370704,12.090080638935099,12.141186600061943,12.192312080946543,12.24345705277323,12.294621486715315,12.345805353935177,12.397008625584206,12.448231272802886,12.499473266720763,12.550734578456485,12.602015179117807,12.653315039801612,12.704634131593942,12.75597242556998,12.807329892794094,12.85870650431984,12.91010223119001,12.96151704443659,13.012950915080822,13.064403814133193,13.115875712593493,13.167366581450779,13.218876391683438,13.270405114259148,13.321952720134952,13.373519180257261,13.425104465561823,13.47670854697381,13.528331395407776,13.57997298176771,13.63163327694705,13.683312251828653,13.735009877284881,13.786726124177576,13.83846096335808,13.89021436566727,13.941986301935529,13.993776742982824,14.04558565961868,14.097413022642208,14.149258802842134,14.201122970996778,14.25300549787412,14.30490635423179,14.356825510817075,14.408762938366955,14.460718607608108,14.512692489256935,14.564684554019578,14.616694772591913,14.66872311565961,14.72076955389808,14.772834057972588,14.82491659853818,14.877017146239748,14.92913567171204,14.981272145579656,15.033426538457093,15.08559882094875,15.137788963648926,15.189996937141885,15.242222712001798,15.294466258792841,15.346727548069154,15.399006550374871,15.451303236244176,15.503617576201233,15.555949540760306,15.608299100425704,15.660666225691806,15.713050887043114,15.765453054954236,15.817872699889907,15.870309792305026,15.922764302644637,15.975236201343996,16.027725458828527,16.080232045513895,16.13275593180598,16.18529708810092,16.237855484785133,16.29043109223528,16.34302388081837,16.395633820891696,16.448260882802888,16.500905036889936,16.553566253481183,16.60624450289538,16.658939755441647,16.711651981419543,16.764381151119046,16.81712723482059,16.869890202795077,16.922670025303894,16.97546667259893,17.028280114922573,17.08111032250777,17.133957265578005,17.186820914347326,17.23970123902038,17.292598209792402,17.345511796849244,17.39844197036741,17.45138870051403,17.504351957446925,17.55733171131458,17.6103279322562,17.663340590401706,17.716369655871745,17.769415098777724,17.822476889221814,17.875554997296973,17.928649393086975,17.98176004666639,18.034886928100644,18.08803000744601,18.141189254749634,18.194364640049535,18.24755613337467,18.300763704744874,18.353987324170948,18.407226961654644,18.460482587188675,18.513754170756762,18.567041682333613,18.620345091884968,18.6736643693676,18.726999484729344,18.780350407909115,18.833717108836897,18.887099557433807,18.940497723612065,18.993911577275043,19.047341088317268,19.100786226624447,19.154246962073472,19.207723264532447,19.261215103860696,19.314722449908807,19.3682452725186,19.421783541523194,19.475337226746984,19.52890629800569,19.58249072510636,19.63609047784737,19.689705526018486,19.743335839400824,19.796981387766913,19.85064214088069,19.90431806849753,19.958009140364247,20.011715326219118,20.06543659579191,20.119172918803873,20.172924264967794,20.226690603987976,20.280471905560276,20.334268139372117,20.38807927510251,20.441905282422063,20.49574613099301,20.549601790469204,20.60347223049616,20.65735742071106,20.711257330742786,20.7651719302119,20.819101188730702,20.873045075903217,20.927003561325236,20.98097661458433,21.034964205259826,21.088966302922888,21.142982877136497,21.197013897455466,21.251059333426472,21.305119154588073,21.359193330470706,21.413281830596723,21.467384624480403,21.521501681627974,21.57563297153762,21.629778463699495,21.683938127595763,21.738111932700587,21.792299848480173,21.846501844392762,21.900717889888664,21.954947954410276,22.009192007392073,22.063450018260678,22.117721956434824,22.172007791325395,22.22630749233545,22.280621028860228,22.334948370287172,22.38928948599595,22.44364434535845,22.498012917738833,22.55239517249351,22.60679107897121,22.661200606512935,22.71562372445203,22.770060402114172,22.824510608817405,22.87897431387213,22.933451486581163,22.987942096239706,23.042446112135405,23.096963503548338,23.151494239751052,23.206038290008575,23.26059562357842,23.315166209710625,23.369750017647743,23.42434701662489,23.47895717586975,23.533580464602565,23.588216852036204,23.64286630737614,23.69752879982047,23.75220429855998,23.806892772778088,23.861594191650916,23.916308524347276,23.971035740028718,24.025775807849524,24.080528696956737,24.135294376490155,24.190072815582397,24.24486398335886,24.299667848937794,24.35448438143027,24.409313549940233,24.4641553235645,24.51900967139278,24.57387656250771,24.62875596598484,24.683647850892683,24.738552186292697,24.793468941239343,24.848398084780072,24.903339585955358,24.958293413798696,25.01325953733665,25.06823792558885,25.123228547568004,25.178231372279935,25.233246368723584,25.28827350589103,25.343312752767517,25.398364078331447,25.453427451554436,25.50850284140129,25.563590216830065,25.618689546792034,25.673800800231746,25.728923946087036,25.784058953289023,25.83920579076215,25.894364427424193,25.949534832186263,26.00471697395286,26.059910821621852,26.115116344084512,26.170333510225543,26.225562288923065,26.280802649048685,26.336054559467453,26.391317989037912,26.446592906612132,26.501879281035684,26.557177081147703,26.61248627578087,26.667806833761453,26.723138723909305,26.778481915037894,26.83383637595433,26.889202075459362,26.9445789823474,26.99996706540655,27.0553662934186,27.110776635159084,27.166198059397242,27.22163053489609,27.277074030412404,27.332528514696747,27.3879939564935,27.443470324540858,27.498957587570867,27.554455714309412,27.60996467347628,27.665484433785142,27.721014963943574,27.776556232653096,27.832108208609164,27.887670860501203,27.943244157012614,27.99882806682082,28.054422558597242,28.11002760100734,28.165643162710627,28.22126921236069,28.27690571860521,28.332552650085965,28.388209975438862,28.443877663293947,28.49955568227542,28.55524400100168,28.610942588085297,28.66665141213306,28.722370441745998,28.77809964551937,28.83383899204272,28.88958844989986,28.945347987668914,29.00111757392232,29.056897177226844,29.11268676614362,29.168486309228154,29.224295775030328,29.280115132094437,29.335944348959206,29.391783394157805,29.447632236217853,29.50349084366146,29.559359185005217,29.615237228760243,29.671124943432176,29.727022297521216,29.782929259522124,29.838845797924247,29.894771881211526,29.95070747786253,30.006652556350474,30.062607085143217,30.118571032703287,30.17454436748792,30.230527057949043,30.286519072533327,30.342520379682178,30.398530947831766,30.45455074541304,30.510579740851746,30.566617902568453,30.62266519897856,30.67872159849231,30.734787069514827,30.790861580446112,30.84694509968108,30.90303759560956,30.95913903661633,31.01524939108112,31.071368627378636,31.127496713878585,31.183633618945677,31.23977931093966,31.29593375821532,31.35209692912251,31.408268792006176,31.46444931520636,31.520638467058216,31.576836215892044,31.633042530033286,31.689257377802573,31.74548072751572,31.80171254748374,31.857952806012882,31.91420147140464,31.970458511955762,32.026723895958284,32.08299759169954,32.13927956746216,32.195569791524136,32.251868232158785,32.30817485763482,32.36448963621631,32.42081253616276,32.47714352572906,32.53348257316558,32.58982964671812,32.646184714627985,32.70254774513194,32.758918706462275,32.81529756684682,32.87168429450895,32.9280788576676,32.98448122453729,33.040891363328136,33.097309242245885,33.15373482949191,33.21016809326326,33.266609001752634,33.32305752314843,33.37951362563475,33.435977277391444,33.49244844659408,33.54892710141401,33.605413210018355,33.66190674057003,33.718407661227786,33.7749159401462,33.83143154547569,33.88795444536255,33.94448460794898,34.00102200137307,34.05756659376883,34.11411835326623,34.17067724799118,34.22724324606558,34.28381631560734,34.34039642473035,34.396983541544564,34.45357763415598,34.51017867066663,34.56678661917469,34.6234014477744,34.68002312455613,34.736651617606405,34.79328689500789,34.84992892483942,34.90657767517606,34.963233114089036,35.01989520964585,35.07656392991025,35.133239242942196,35.189921116798004,35.24660951953024,35.30330441918781,35.36000578381597,35.4167135814563,35.47342778014679,35.530148347921795,35.58687525281209,35.643608462844895,35.700347946043834,35.75709367042905,35.81384560401711,35.87060371482113,35.92736797085073,35.98413834011205,36.0409147906078,36.09769729033725,36.15448580729628,36.211280309477374,36.26808076486962,36.32488714145878,36.38169940722726,36.438517530154144,36.49534147821524,36.552171219383034,36.60900672162679,36.66584795291249,36.722694881202905,36.7795474744576,36.836405700632916,36.893269527682065,36.95013892355506,37.007013856198796,37.063894293557055,37.12078020357049,37.1776715541767,37.23456831331019,37.29147044890244,37.34837792888189,37.405290721173955,37.46220879370108,37.519132114382714,37.57606065113535,37.63299437187257,37.68993324450499,37.74687723694035,37.8038263170835,37.86078045283641,37.917739612098224,37.97470376276523,38.03167287273092,38.08864690988598,38.145625842118335,38.202609637313124,38.259598263352764,38.31659168811696,38.37358987948268,38.43059280532424,38.48760043351325,38.54461273191871,38.601629668406964,38.65865121084174,38.71567732708419,38.77270798499285,38.82974315242374,38.88678279723032,38.94382688726351,39.00087539037176,39.05792827440099,39.114985507194696,39.17204705659389,39.22911289043715,39.286182976560674,39.34325728279822,39.400335776981194,39.45741842693864,39.51450520049724,39.57159606548139,39.62869098971313,39.68578994101225,39.74289288719627,39.79999979608043,39.85711063547776,39.914225373199066,39.97134397705296,40.02846641484588,40.08559265438208,40.14272266346372,40.19985640989077,40.25699386146114,40.31413498597065,40.37127975121301,40.42842812497994,40.485580075061065,40.542735569244044,40.59989457531451,40.65705706105611,40.71422299425056,40.77139234267761,40.828565074115076,40.885741156338916,40.94292055712313,41.00010324423991,41.05728918545955,41.114478348550534,41.17167070127954,41.22886621141141,41.286064846709245,41.343266574934354,41.400471363846336,41.45767918120304,41.5148899947606,41.57210377227351,41.62932048149452,41.68654009017479,41.74376256606382,41.800987876909495,41.85821599045811,41.91544687445436,41.97268049664141,42.02991682476085,42.08715582655277,42.14439746975574,42.20164172210683,42.25888855134167,42.31613792519442,42.37338981139779,42.430644177683114,42.487900991780286,42.545160221417845,42.60242183432297,42.659685798221474,42.71695208083788,42.774220649895355,42.83149147311583,42.88876451821994,42.946039752927064,43.00331714495536,43.06059666202175,43.11787827184198,43.17516194213061,43.232447640601016,43.289735334965485,43.34702499293511,43.40431658221994,43.461610070528884,43.51890542556983,43.57620261504957,43.633501606673875,43.69080236814753,43.74810486717428,43.8054090714569,43.86271494869724,43.92002246659615,43.977331592853616,44.03464229516866,44.091954541239446,44.14926829876328,44.20658353543658,44.26390021895497,44.321218317013226,44.378537797305334,44.43585862752453,44.49318077536324,44.550504208513196,44.60782889466536,44.66515480151002,44.722481896736774,44.77981014803453,44.83713952309157,44.89446998959552,44.9518015152334,45.00913406769165,45.066467614656084,45.12380212381201,45.181137562844164,45.23847389943676,45.29581110127352,45.35314913603766,45.41048797141194,45.46782757507865,45.525167914719674,45.582508958016476,45.639850672650084,45.697193026301214,45.75453598665016,45.811879521376916,45.869223598161135,45.926568184682154,45.983913248619054,46.04125875765062,46.09860467945538,46.15595098171166,46.21329763209756,46.270644598290964,46.32799184796959,46.385339348811016,46.44268706849266,46.50003497469179,46.55738303508564,46.614731217351284,46.67207948916576,46.72942781820607,46.786776172149146,46.84412451867194,46.901472825451386,46.95882106016445,47.01616919048816,47.07351718409954,47.13086500867577,47.18821263189406,47.24556002143177,47.3029071449664,47.36025397017555,47.41760046473705,47.474946596328856,47.53229233262918,47.58963764131644,47.64698249006928,47.704326846566616,47.76167067848763,47.819013953511835,47.87635663931901,47.9336987035893,47.991040114003184,48.048380838241506,48.10572084398553,48.163060098916866,48.220398570717606,48.27773622707025,48.335073035657764,48.39240896416361,48.4497439802717,48.50707805166651,48.56441114603303,48.62174323105679,48.67907427442391,48.73640424382108,48.79373310693558,48.85106083145538,48.908387385069,48.965712735465694,49.02303685033535,49.08035969736858,49.1376812442567,49.19500145869174,49.25232030836652,49.309637760974596,49.366953784210324,49.42426834576887,49.48158141334621,49.538892954639195,49.59620293734548,49.65351132916364,49.71081809779316,49.76812321093439,49.825426636288654,49.882728341558206,49.94002829444628,49.9973264626571,50.05462281389588,50.11191731586888,50.16920993628339,50.22650064284774,50.2837894032714,50.34107618526486,50.39836095653978,50.45564368480893,50.512924337786245,50.570202883186816,50.627479288726924,50.684753522124076,50.74202555109696,50.79929534336554,50.85656286665107,50.91382808867599,50.971090977164145,51.02835149984061,51.08560962443184,51.142865318665635,51.20011855027114,51.257369286978935,51.31461749652096,51.371863146630595,51.42910620504268,51.48634663949348,51.54358441772079,51.60081950746384,51.65805187646342,51.715281492461855,51.772508323202985,51.829732336432265,51.886953499896684,51.9441717813449,52.00138714852715,52.05859956919532,52.11580901110299,52.173015442005365,52.230218829659385,52.287419141823705,52.34461634625868,52.401810410726476,52.45900130299096,52.51618899081784,52.5733734419746,52.63055462423056,52.6877325053569,52.74490705312661,52.80207823531462,52.85924601969769,52.91641037405457,52.9735712661659,53.03072866381425,53.08788253478422,53.14503284686234,53.20217956783718,53.25932266549933,53.31646210764141,53.37359786205811,53.43072989654618,53.4878581789045,53.544982676934055,53.60210335843793,53.65922019122141,53.716333143091894]}],                        {\"template\":{\"data\":{\"barpolar\":[{\"marker\":{\"line\":{\"color\":\"#E5ECF6\",\"width\":0.5},\"pattern\":{\"fillmode\":\"overlay\",\"size\":10,\"solidity\":0.2}},\"type\":\"barpolar\"}],\"bar\":[{\"error_x\":{\"color\":\"#2a3f5f\"},\"error_y\":{\"color\":\"#2a3f5f\"},\"marker\":{\"line\":{\"color\":\"#E5ECF6\",\"width\":0.5},\"pattern\":{\"fillmode\":\"overlay\",\"size\":10,\"solidity\":0.2}},\"type\":\"bar\"}],\"carpet\":[{\"aaxis\":{\"endlinecolor\":\"#2a3f5f\",\"gridcolor\":\"white\",\"linecolor\":\"white\",\"minorgridcolor\":\"white\",\"startlinecolor\":\"#2a3f5f\"},\"baxis\":{\"endlinecolor\":\"#2a3f5f\",\"gridcolor\":\"white\",\"linecolor\":\"white\",\"minorgridcolor\":\"white\",\"startlinecolor\":\"#2a3f5f\"},\"type\":\"carpet\"}],\"choropleth\":[{\"colorbar\":{\"outlinewidth\":0,\"ticks\":\"\"},\"type\":\"choropleth\"}],\"contourcarpet\":[{\"colorbar\":{\"outlinewidth\":0,\"ticks\":\"\"},\"type\":\"contourcarpet\"}],\"contour\":[{\"colorbar\":{\"outlinewidth\":0,\"ticks\":\"\"},\"colorscale\":[[0.0,\"#0d0887\"],[0.1111111111111111,\"#46039f\"],[0.2222222222222222,\"#7201a8\"],[0.3333333333333333,\"#9c179e\"],[0.4444444444444444,\"#bd3786\"],[0.5555555555555556,\"#d8576b\"],[0.6666666666666666,\"#ed7953\"],[0.7777777777777778,\"#fb9f3a\"],[0.8888888888888888,\"#fdca26\"],[1.0,\"#f0f921\"]],\"type\":\"contour\"}],\"heatmapgl\":[{\"colorbar\":{\"outlinewidth\":0,\"ticks\":\"\"},\"colorscale\":[[0.0,\"#0d0887\"],[0.1111111111111111,\"#46039f\"],[0.2222222222222222,\"#7201a8\"],[0.3333333333333333,\"#9c179e\"],[0.4444444444444444,\"#bd3786\"],[0.5555555555555556,\"#d8576b\"],[0.6666666666666666,\"#ed7953\"],[0.7777777777777778,\"#fb9f3a\"],[0.8888888888888888,\"#fdca26\"],[1.0,\"#f0f921\"]],\"type\":\"heatmapgl\"}],\"heatmap\":[{\"colorbar\":{\"outlinewidth\":0,\"ticks\":\"\"},\"colorscale\":[[0.0,\"#0d0887\"],[0.1111111111111111,\"#46039f\"],[0.2222222222222222,\"#7201a8\"],[0.3333333333333333,\"#9c179e\"],[0.4444444444444444,\"#bd3786\"],[0.5555555555555556,\"#d8576b\"],[0.6666666666666666,\"#ed7953\"],[0.7777777777777778,\"#fb9f3a\"],[0.8888888888888888,\"#fdca26\"],[1.0,\"#f0f921\"]],\"type\":\"heatmap\"}],\"histogram2dcontour\":[{\"colorbar\":{\"outlinewidth\":0,\"ticks\":\"\"},\"colorscale\":[[0.0,\"#0d0887\"],[0.1111111111111111,\"#46039f\"],[0.2222222222222222,\"#7201a8\"],[0.3333333333333333,\"#9c179e\"],[0.4444444444444444,\"#bd3786\"],[0.5555555555555556,\"#d8576b\"],[0.6666666666666666,\"#ed7953\"],[0.7777777777777778,\"#fb9f3a\"],[0.8888888888888888,\"#fdca26\"],[1.0,\"#f0f921\"]],\"type\":\"histogram2dcontour\"}],\"histogram2d\":[{\"colorbar\":{\"outlinewidth\":0,\"ticks\":\"\"},\"colorscale\":[[0.0,\"#0d0887\"],[0.1111111111111111,\"#46039f\"],[0.2222222222222222,\"#7201a8\"],[0.3333333333333333,\"#9c179e\"],[0.4444444444444444,\"#bd3786\"],[0.5555555555555556,\"#d8576b\"],[0.6666666666666666,\"#ed7953\"],[0.7777777777777778,\"#fb9f3a\"],[0.8888888888888888,\"#fdca26\"],[1.0,\"#f0f921\"]],\"type\":\"histogram2d\"}],\"histogram\":[{\"marker\":{\"pattern\":{\"fillmode\":\"overlay\",\"size\":10,\"solidity\":0.2}},\"type\":\"histogram\"}],\"mesh3d\":[{\"colorbar\":{\"outlinewidth\":0,\"ticks\":\"\"},\"type\":\"mesh3d\"}],\"parcoords\":[{\"line\":{\"colorbar\":{\"outlinewidth\":0,\"ticks\":\"\"}},\"type\":\"parcoords\"}],\"pie\":[{\"automargin\":true,\"type\":\"pie\"}],\"scatter3d\":[{\"line\":{\"colorbar\":{\"outlinewidth\":0,\"ticks\":\"\"}},\"marker\":{\"colorbar\":{\"outlinewidth\":0,\"ticks\":\"\"}},\"type\":\"scatter3d\"}],\"scattercarpet\":[{\"marker\":{\"colorbar\":{\"outlinewidth\":0,\"ticks\":\"\"}},\"type\":\"scattercarpet\"}],\"scattergeo\":[{\"marker\":{\"colorbar\":{\"outlinewidth\":0,\"ticks\":\"\"}},\"type\":\"scattergeo\"}],\"scattergl\":[{\"marker\":{\"colorbar\":{\"outlinewidth\":0,\"ticks\":\"\"}},\"type\":\"scattergl\"}],\"scattermapbox\":[{\"marker\":{\"colorbar\":{\"outlinewidth\":0,\"ticks\":\"\"}},\"type\":\"scattermapbox\"}],\"scatterpolargl\":[{\"marker\":{\"colorbar\":{\"outlinewidth\":0,\"ticks\":\"\"}},\"type\":\"scatterpolargl\"}],\"scatterpolar\":[{\"marker\":{\"colorbar\":{\"outlinewidth\":0,\"ticks\":\"\"}},\"type\":\"scatterpolar\"}],\"scatter\":[{\"fillpattern\":{\"fillmode\":\"overlay\",\"size\":10,\"solidity\":0.2},\"type\":\"scatter\"}],\"scatterternary\":[{\"marker\":{\"colorbar\":{\"outlinewidth\":0,\"ticks\":\"\"}},\"type\":\"scatterternary\"}],\"surface\":[{\"colorbar\":{\"outlinewidth\":0,\"ticks\":\"\"},\"colorscale\":[[0.0,\"#0d0887\"],[0.1111111111111111,\"#46039f\"],[0.2222222222222222,\"#7201a8\"],[0.3333333333333333,\"#9c179e\"],[0.4444444444444444,\"#bd3786\"],[0.5555555555555556,\"#d8576b\"],[0.6666666666666666,\"#ed7953\"],[0.7777777777777778,\"#fb9f3a\"],[0.8888888888888888,\"#fdca26\"],[1.0,\"#f0f921\"]],\"type\":\"surface\"}],\"table\":[{\"cells\":{\"fill\":{\"color\":\"#EBF0F8\"},\"line\":{\"color\":\"white\"}},\"header\":{\"fill\":{\"color\":\"#C8D4E3\"},\"line\":{\"color\":\"white\"}},\"type\":\"table\"}]},\"layout\":{\"annotationdefaults\":{\"arrowcolor\":\"#2a3f5f\",\"arrowhead\":0,\"arrowwidth\":1},\"autotypenumbers\":\"strict\",\"coloraxis\":{\"colorbar\":{\"outlinewidth\":0,\"ticks\":\"\"}},\"colorscale\":{\"diverging\":[[0,\"#8e0152\"],[0.1,\"#c51b7d\"],[0.2,\"#de77ae\"],[0.3,\"#f1b6da\"],[0.4,\"#fde0ef\"],[0.5,\"#f7f7f7\"],[0.6,\"#e6f5d0\"],[0.7,\"#b8e186\"],[0.8,\"#7fbc41\"],[0.9,\"#4d9221\"],[1,\"#276419\"]],\"sequential\":[[0.0,\"#0d0887\"],[0.1111111111111111,\"#46039f\"],[0.2222222222222222,\"#7201a8\"],[0.3333333333333333,\"#9c179e\"],[0.4444444444444444,\"#bd3786\"],[0.5555555555555556,\"#d8576b\"],[0.6666666666666666,\"#ed7953\"],[0.7777777777777778,\"#fb9f3a\"],[0.8888888888888888,\"#fdca26\"],[1.0,\"#f0f921\"]],\"sequentialminus\":[[0.0,\"#0d0887\"],[0.1111111111111111,\"#46039f\"],[0.2222222222222222,\"#7201a8\"],[0.3333333333333333,\"#9c179e\"],[0.4444444444444444,\"#bd3786\"],[0.5555555555555556,\"#d8576b\"],[0.6666666666666666,\"#ed7953\"],[0.7777777777777778,\"#fb9f3a\"],[0.8888888888888888,\"#fdca26\"],[1.0,\"#f0f921\"]]},\"colorway\":[\"#636efa\",\"#EF553B\",\"#00cc96\",\"#ab63fa\",\"#FFA15A\",\"#19d3f3\",\"#FF6692\",\"#B6E880\",\"#FF97FF\",\"#FECB52\"],\"font\":{\"color\":\"#2a3f5f\"},\"geo\":{\"bgcolor\":\"white\",\"lakecolor\":\"white\",\"landcolor\":\"#E5ECF6\",\"showlakes\":true,\"showland\":true,\"subunitcolor\":\"white\"},\"hoverlabel\":{\"align\":\"left\"},\"hovermode\":\"closest\",\"mapbox\":{\"style\":\"light\"},\"paper_bgcolor\":\"white\",\"plot_bgcolor\":\"#E5ECF6\",\"polar\":{\"angularaxis\":{\"gridcolor\":\"white\",\"linecolor\":\"white\",\"ticks\":\"\"},\"bgcolor\":\"#E5ECF6\",\"radialaxis\":{\"gridcolor\":\"white\",\"linecolor\":\"white\",\"ticks\":\"\"}},\"scene\":{\"xaxis\":{\"backgroundcolor\":\"#E5ECF6\",\"gridcolor\":\"white\",\"gridwidth\":2,\"linecolor\":\"white\",\"showbackground\":true,\"ticks\":\"\",\"zerolinecolor\":\"white\"},\"yaxis\":{\"backgroundcolor\":\"#E5ECF6\",\"gridcolor\":\"white\",\"gridwidth\":2,\"linecolor\":\"white\",\"showbackground\":true,\"ticks\":\"\",\"zerolinecolor\":\"white\"},\"zaxis\":{\"backgroundcolor\":\"#E5ECF6\",\"gridcolor\":\"white\",\"gridwidth\":2,\"linecolor\":\"white\",\"showbackground\":true,\"ticks\":\"\",\"zerolinecolor\":\"white\"}},\"shapedefaults\":{\"line\":{\"color\":\"#2a3f5f\"}},\"ternary\":{\"aaxis\":{\"gridcolor\":\"white\",\"linecolor\":\"white\",\"ticks\":\"\"},\"baxis\":{\"gridcolor\":\"white\",\"linecolor\":\"white\",\"ticks\":\"\"},\"bgcolor\":\"#E5ECF6\",\"caxis\":{\"gridcolor\":\"white\",\"linecolor\":\"white\",\"ticks\":\"\"}},\"title\":{\"x\":0.05},\"xaxis\":{\"automargin\":true,\"gridcolor\":\"white\",\"linecolor\":\"white\",\"ticks\":\"\",\"title\":{\"standoff\":15},\"zerolinecolor\":\"white\",\"zerolinewidth\":2},\"yaxis\":{\"automargin\":true,\"gridcolor\":\"white\",\"linecolor\":\"white\",\"ticks\":\"\",\"title\":{\"standoff\":15},\"zerolinecolor\":\"white\",\"zerolinewidth\":2}}},\"xaxis\":{\"range\":[-60,60],\"title\":{\"text\":\"X\"}},\"yaxis\":{\"range\":[-60,60],\"title\":{\"text\":\"Y\"}},\"width\":500,\"height\":500,\"showlegend\":false,\"title\":{\"text\":\"Hits in the Central Drift Chamber\"},\"shapes\":[{\"line\":{\"color\":\"black\"},\"type\":\"circle\",\"x0\":-10.5,\"x1\":10.5,\"xref\":\"x\",\"y0\":-10.5,\"y1\":10.5,\"yref\":\"y\"},{\"line\":{\"color\":\"black\"},\"type\":\"circle\",\"x0\":-55,\"x1\":55,\"xref\":\"x\",\"y0\":-55,\"y1\":55,\"yref\":\"y\"}]},                        {\"responsive\": true}                    ).then(function(){\n                            \nvar gd = document.getElementById('b526b422-cc06-464b-9bc7-15c1ed738d0f');\nvar x = new MutationObserver(function (mutations, observer) {{\n        var display = window.getComputedStyle(gd).display;\n        if (!display || display === 'none') {{\n            console.log([gd, 'removed!']);\n            Plotly.purge(gd);\n            observer.disconnect();\n        }}\n}});\n\n// Listen for the removal of the full notebook cells\nvar notebookContainer = gd.closest('#notebook-container');\nif (notebookContainer) {{\n    x.observe(notebookContainer, {childList: true});\n}}\n\n// Listen for the clearing of the current output cell\nvar outputEl = gd.closest('.output');\nif (outputEl) {{\n    x.observe(outputEl, {childList: true});\n}}\n\n                        })                };                            </script>        </div>\n</body>\n</html>"
                },
                "metadata": {}
              }
            ]
          }
        },
        "792a3fdc16004419987894986d9d72d3": {
          "model_module": "@jupyter-widgets/base",
          "model_name": "LayoutModel",
          "model_module_version": "1.2.0",
          "state": {
            "_model_module": "@jupyter-widgets/base",
            "_model_module_version": "1.2.0",
            "_model_name": "LayoutModel",
            "_view_count": null,
            "_view_module": "@jupyter-widgets/base",
            "_view_module_version": "1.2.0",
            "_view_name": "LayoutView",
            "align_content": null,
            "align_items": null,
            "align_self": null,
            "border": null,
            "bottom": null,
            "display": null,
            "flex": null,
            "flex_flow": null,
            "grid_area": null,
            "grid_auto_columns": null,
            "grid_auto_flow": null,
            "grid_auto_rows": null,
            "grid_column": null,
            "grid_gap": null,
            "grid_row": null,
            "grid_template_areas": null,
            "grid_template_columns": null,
            "grid_template_rows": null,
            "height": null,
            "justify_content": null,
            "justify_items": null,
            "left": null,
            "margin": null,
            "max_height": null,
            "max_width": null,
            "min_height": null,
            "min_width": null,
            "object_fit": null,
            "object_position": null,
            "order": null,
            "overflow": null,
            "overflow_x": null,
            "overflow_y": null,
            "padding": null,
            "right": null,
            "top": null,
            "visibility": null,
            "width": null
          }
        },
        "52852f83581a4589a225d8e62a4876de": {
          "model_module": "@jupyter-widgets/controls",
          "model_name": "FloatSliderModel",
          "model_module_version": "1.5.0",
          "state": {
            "_dom_classes": [],
            "_model_module": "@jupyter-widgets/controls",
            "_model_module_version": "1.5.0",
            "_model_name": "FloatSliderModel",
            "_view_count": null,
            "_view_module": "@jupyter-widgets/controls",
            "_view_module_version": "1.5.0",
            "_view_name": "FloatSliderView",
            "continuous_update": true,
            "description": "pz",
            "description_tooltip": null,
            "disabled": false,
            "layout": "IPY_MODEL_f37e1b56209449a29669208bb7031ed3",
            "max": 1,
            "min": -1,
            "orientation": "horizontal",
            "readout": true,
            "readout_format": ".2f",
            "step": 0.01,
            "style": "IPY_MODEL_ac19f82296ad4178bd0ac2615c9d1a8e",
            "value": -0.24
          }
        },
        "0e64a2645b7d48368caf8fba3b0d0a61": {
          "model_module": "@jupyter-widgets/base",
          "model_name": "LayoutModel",
          "model_module_version": "1.2.0",
          "state": {
            "_model_module": "@jupyter-widgets/base",
            "_model_module_version": "1.2.0",
            "_model_name": "LayoutModel",
            "_view_count": null,
            "_view_module": "@jupyter-widgets/base",
            "_view_module_version": "1.2.0",
            "_view_name": "LayoutView",
            "align_content": null,
            "align_items": null,
            "align_self": null,
            "border": null,
            "bottom": null,
            "display": null,
            "flex": null,
            "flex_flow": "row wrap",
            "grid_area": null,
            "grid_auto_columns": null,
            "grid_auto_flow": null,
            "grid_auto_rows": null,
            "grid_column": null,
            "grid_gap": null,
            "grid_row": null,
            "grid_template_areas": null,
            "grid_template_columns": null,
            "grid_template_rows": null,
            "height": null,
            "justify_content": null,
            "justify_items": null,
            "left": null,
            "margin": null,
            "max_height": null,
            "max_width": null,
            "min_height": null,
            "min_width": null,
            "object_fit": null,
            "object_position": null,
            "order": null,
            "overflow": null,
            "overflow_x": null,
            "overflow_y": null,
            "padding": null,
            "right": null,
            "top": null,
            "visibility": null,
            "width": null
          }
        },
        "0d85cfa8e61344ccb6361d788f89a23b": {
          "model_module": "@jupyter-widgets/base",
          "model_name": "LayoutModel",
          "model_module_version": "1.2.0",
          "state": {
            "_model_module": "@jupyter-widgets/base",
            "_model_module_version": "1.2.0",
            "_model_name": "LayoutModel",
            "_view_count": null,
            "_view_module": "@jupyter-widgets/base",
            "_view_module_version": "1.2.0",
            "_view_name": "LayoutView",
            "align_content": null,
            "align_items": null,
            "align_self": null,
            "border": null,
            "bottom": null,
            "display": null,
            "flex": null,
            "flex_flow": null,
            "grid_area": null,
            "grid_auto_columns": null,
            "grid_auto_flow": null,
            "grid_auto_rows": null,
            "grid_column": null,
            "grid_gap": null,
            "grid_row": null,
            "grid_template_areas": null,
            "grid_template_columns": null,
            "grid_template_rows": null,
            "height": null,
            "justify_content": null,
            "justify_items": null,
            "left": null,
            "margin": null,
            "max_height": null,
            "max_width": null,
            "min_height": null,
            "min_width": null,
            "object_fit": null,
            "object_position": null,
            "order": null,
            "overflow": null,
            "overflow_x": null,
            "overflow_y": null,
            "padding": null,
            "right": null,
            "top": null,
            "visibility": null,
            "width": null
          }
        },
        "f37e1b56209449a29669208bb7031ed3": {
          "model_module": "@jupyter-widgets/base",
          "model_name": "LayoutModel",
          "model_module_version": "1.2.0",
          "state": {
            "_model_module": "@jupyter-widgets/base",
            "_model_module_version": "1.2.0",
            "_model_name": "LayoutModel",
            "_view_count": null,
            "_view_module": "@jupyter-widgets/base",
            "_view_module_version": "1.2.0",
            "_view_name": "LayoutView",
            "align_content": null,
            "align_items": null,
            "align_self": null,
            "border": null,
            "bottom": null,
            "display": null,
            "flex": null,
            "flex_flow": null,
            "grid_area": null,
            "grid_auto_columns": null,
            "grid_auto_flow": null,
            "grid_auto_rows": null,
            "grid_column": null,
            "grid_gap": null,
            "grid_row": null,
            "grid_template_areas": null,
            "grid_template_columns": null,
            "grid_template_rows": null,
            "height": null,
            "justify_content": null,
            "justify_items": null,
            "left": null,
            "margin": null,
            "max_height": null,
            "max_width": null,
            "min_height": null,
            "min_width": null,
            "object_fit": null,
            "object_position": null,
            "order": null,
            "overflow": null,
            "overflow_x": null,
            "overflow_y": null,
            "padding": null,
            "right": null,
            "top": null,
            "visibility": null,
            "width": null
          }
        },
        "ac19f82296ad4178bd0ac2615c9d1a8e": {
          "model_module": "@jupyter-widgets/controls",
          "model_name": "SliderStyleModel",
          "model_module_version": "1.5.0",
          "state": {
            "_model_module": "@jupyter-widgets/controls",
            "_model_module_version": "1.5.0",
            "_model_name": "SliderStyleModel",
            "_view_count": null,
            "_view_module": "@jupyter-widgets/base",
            "_view_module_version": "1.2.0",
            "_view_name": "StyleView",
            "description_width": "",
            "handle_color": null
          }
        },
        "52f9cbd1bd5d4b81abd96371f405c8cf": {
          "model_module": "@jupyter-widgets/controls",
          "model_name": "VBoxModel",
          "model_module_version": "1.5.0",
          "state": {
            "_dom_classes": [],
            "_model_module": "@jupyter-widgets/controls",
            "_model_module_version": "1.5.0",
            "_model_name": "VBoxModel",
            "_view_count": null,
            "_view_module": "@jupyter-widgets/controls",
            "_view_module_version": "1.5.0",
            "_view_name": "VBoxView",
            "box_style": "",
            "children": [
              "IPY_MODEL_9560b6bcc20147aa8ce0ea5ad5177696",
              "IPY_MODEL_dfe0a53db3ad4cccbf70ee1ab386c43e"
            ],
            "layout": "IPY_MODEL_ed531c138f2849f7a8bf5a0cad148635"
          }
        },
        "9560b6bcc20147aa8ce0ea5ad5177696": {
          "model_module": "@jupyter-widgets/controls",
          "model_name": "HBoxModel",
          "model_module_version": "1.5.0",
          "state": {
            "_dom_classes": [],
            "_model_module": "@jupyter-widgets/controls",
            "_model_module_version": "1.5.0",
            "_model_name": "HBoxModel",
            "_view_count": null,
            "_view_module": "@jupyter-widgets/controls",
            "_view_module_version": "1.5.0",
            "_view_name": "HBoxView",
            "box_style": "",
            "children": [
              "IPY_MODEL_cbb9eca0621f4b349a50d8bf87795112",
              "IPY_MODEL_4e7652d488ce4832be951d7e66ae8219"
            ],
            "layout": "IPY_MODEL_851d4d669a174315bc41e2c56bbea669"
          }
        },
        "dfe0a53db3ad4cccbf70ee1ab386c43e": {
          "model_module": "@jupyter-widgets/output",
          "model_name": "OutputModel",
          "model_module_version": "1.0.0",
          "state": {
            "_dom_classes": [],
            "_model_module": "@jupyter-widgets/output",
            "_model_module_version": "1.0.0",
            "_model_name": "OutputModel",
            "_view_count": null,
            "_view_module": "@jupyter-widgets/output",
            "_view_module_version": "1.0.0",
            "_view_name": "OutputView",
            "layout": "IPY_MODEL_aafa04ca217e48b89054d8f901b870c5",
            "msg_id": "",
            "outputs": [
              {
                "output_type": "display_data",
                "data": {
                  "text/html": "<html>\n<head><meta charset=\"utf-8\" /></head>\n<body>\n    <div>            <script src=\"https://cdnjs.cloudflare.com/ajax/libs/mathjax/2.7.5/MathJax.js?config=TeX-AMS-MML_SVG\"></script><script type=\"text/javascript\">if (window.MathJax && window.MathJax.Hub && window.MathJax.Hub.Config) {window.MathJax.Hub.Config({SVG: {font: \"STIX-Web\"}});}</script>                <script type=\"text/javascript\">window.PlotlyConfig = {MathJaxConfig: 'local'};</script>\n        <script charset=\"utf-8\" src=\"https://cdn.plot.ly/plotly-2.24.1.min.js\"></script>                <div id=\"3ee9613c-7765-44cf-9775-2fba2f517683\" class=\"plotly-graph-div\" style=\"height:500px; width:500px;\"></div>            <script type=\"text/javascript\">                                    window.PLOTLYENV=window.PLOTLYENV || {};                                    if (document.getElementById(\"3ee9613c-7765-44cf-9775-2fba2f517683\")) {                    Plotly.newPlot(                        \"3ee9613c-7765-44cf-9775-2fba2f517683\",                        [{\"hoverinfo\":\"text\",\"marker\":{\"size\":3},\"mode\":\"markers\",\"text\":[\"Ring: 1.0\\n Wire: 28.0\",\"Ring: 2.0\\n Wire: 28.0\",\"Ring: 3.0\\n Wire: 36.0\",\"Ring: 4.0\\n Wire: 35.0\",\"Ring: 5.0\\n Wire: 46.0\",\"Ring: 7.0\\n Wire: 55.0\",\"Ring: 8.0\\n Wire: 56.0\",\"Ring: 9.0\\n Wire: 57.0\",\"Ring: 10.0\\n Wire: 56.0\",\"Ring: 11.0\\n Wire: 65.0\",\"Ring: 12.0\\n Wire: 64.0\",\"Ring: 13.0\\n Wire: 78.0\",\"Ring: 14.0\\n Wire: 79.0\",\"Ring: 15.0\\n Wire: 86.0\",\"Ring: 16.0\\n Wire: 86.0\",\"Ring: 17.0\\n Wire: 88.0\",\"Ring: 18.0\\n Wire: 89.0\",\"Ring: 19.0\\n Wire: 96.0\",\"Ring: 20.0\\n Wire: 95.0\",\"Ring: 21.0\\n Wire: 112.0\",\"Ring: 22.0\\n Wire: 112.0\",\"Ring: 23.0\\n Wire: 119.0\",\"Ring: 24.0\\n Wire: 120.0\",\"Ring: 25.0\\n Wire: 123.0\",\"Ring: 26.0\\n Wire: 123.0\",\"Ring: 27.0\\n Wire: 131.0\",\"Ring: 28.0\\n Wire: 130.0\"],\"x\":[-6.684935214840962,-6.804740042762335,-7.802340932465173,-9.286254110333529,-10.762214354249792,-13.23857632933646,-13.454560734602754,-15.089857800084193,-16.619476155055796,-17.789101457454304,-19.32998319339193,-21.12002448278045,-21.42126448247115,-23.46066364111446,-23.783215779372707,-26.807971479072936,-27.209009990930966,-28.97113492929558,-30.54187718562183,-29.36870180365075,-29.682348253959947,-31.585956247733805,-31.908376842069366,-36.13532541902561,-37.69909908954667,-38.21352990013363,-39.77407665622432],\"y\":[-8.382638988610879,-9.980714655796291,-11.358703449935584,-11.963713956724044,-13.249235224352367,-15.82841490166884,-17.434251195828885,-18.60116820982698,-19.128276253960923,-20.67337250990841,-21.16194541480658,-23.208677038055278,-24.78285265525379,-25.2055207843141,-26.77514012067532,-26.231767042543126,-27.795092811744222,-28.435547523928378,-28.807546748832706,-32.317795302979455,-33.90099632927629,-34.44548534646138,-36.02615161266989,-35.09770159071846,-35.46595719836899,-37.24710155410208,-37.61902629129032],\"type\":\"scatter\",\"uid\":\"5d7c81fc-f5f6-4949-b68f-4cf7e71a9fe6\"},{\"marker\":{\"color\":\"red\"},\"mode\":\"lines\",\"name\":\"track\",\"type\":\"scatter\",\"uid\":\"97b16ec7-98a1-4f7d-8589-6730a0e16d2c\",\"x\":[0.0,-0.05137666638225369,-0.1028102209812971,-0.15430063480778244,-0.20584787884038747,-0.2574519240256734,-0.30911274127821287,-0.36083030148064665,-0.41260457548352747,-0.46443553410551885,-0.5163231481332957,-0.5682673883216154,-0.620268225393346,-0.6723256300393956,-0.724439572918854,-0.7766100246588792,-0.8288369558548254,-0.8811203370702145,-0.9334601388367361,-0.9858563316542899,-1.0383088859909577,-1.0908177722830885,-1.1433829609352983,-1.1960044223204136,-1.248682126779613,-1.301416044622286,-1.3542061461262307,-1.4070524015375412,-1.4599547810706355,-1.5129132549083266,-1.5659277932018227,-1.6189983660706986,-1.6721249436029666,-1.725307495855077,-1.7785459928519316,-1.8318404045868846,-1.8851907010217843,-1.9385968520869739,-1.9920588276813334,-2.04557659767228,-2.0991501318957546,-2.152779400156277,-2.206464372226975,-2.260205017849586,-2.314001306734397,-2.367853208560433,-2.4217606929753117,-2.4757237295953303,-2.5297422880054796,-2.5838163377594867,-2.6379458483797436,-2.692130789357435,-2.746371130152454,-2.800666840193557,-2.85501788887818,-2.909424245572623,-2.96388587961205,-3.018402760300404,-3.0729748569105197,-3.127602138684125,-3.182284574831826,-3.2370221345331203,-3.2918147869364702,-3.3466625011592726,-3.401565246287916,-3.4565229913777245,-3.5115357054530563,-3.56660335750729,-3.621725916502797,-3.676903351371081,-3.732135631012625,-3.787422724297059,-3.8427646000631057,-3.8981612271186066,-3.9536125742405517,-4.009118610175065,-4.06467930363749,-4.1202946233123185,-4.175964537853275,-4.231689015883333,-4.287468025994656,-4.34330153674874,-4.3991895166763015,-4.455131934277404,-4.511128758021414,-4.567179956347005,-4.623285497662238,-4.679445350344551,-4.735659482740729,-4.791927863167004,-4.848250459908996,-4.904627241221817,-4.961058175329981,-5.017543230427535,-5.074082374677971,-5.130675576214344,-5.187322803139196,-5.244024023524659,-5.300779205412383,-5.3575883168136755,-5.414451325709393,-5.471368200050009,-5.528338907755639,-5.585363416716135,-5.642441694790918,-5.699573709809158,-5.75675942956974,-5.813998821841238,-5.871291854362028,-5.928638494840243,-5.98603871095375,-6.043492470350273,-6.100999740647353,-6.158560489432347,-6.216174684262498,-6.273842292664881,-6.331563282136514,-6.389337620144303,-6.447165274125098,-6.505046211485691,-6.5629803996028215,-6.6209678058232555,-6.679008397463747,-6.73710214181105,-6.79524900612202,-6.853448957623499,-6.911701963512442,-6.970007990955935,-7.028367007091106,-7.086778979025283,-7.145243873835909,-7.2037616585706274,-7.262332300247223,-7.320955765853753,-7.37963202234846,-7.438361036659842,-7.4971427756866404,-7.555977206297939,-7.614864295333035,-7.673804009601639,-7.732796315883718,-7.791841180929666,-7.850938571460219,-7.910088454166484,-7.969290795710052,-8.028545562722869,-8.087852721807394,-8.147212239536515,-8.20662408245363,-8.26608821707265,-8.325604609877985,-8.385173227324614,-8.444794035838072,-8.504467001814504,-8.564192091620612,-8.623969271593765,-8.683798508041932,-8.743679767243748,-8.803613015448576,-8.863598218876405,-8.92363534371799,-8.983724356134815,-9.043865222259086,-9.104057908193838,-9.164302380012842,-9.224598603760711,-9.284946545452911,-9.345346171075704,-9.405797446586263,-9.466300337912642,-9.526854810953793,-9.587460831579577,-9.64811836563085,-9.708827378919409,-9.769587837228045,-9.83039970631053,-9.891262951891662,-9.952177539667304,-10.013143435304372,-10.074160604440877,-10.135229012685897,-10.19634862561962,-10.257519408793456,-10.318741327729896,-10.380014347922625,-10.441338434836553,-10.502713553907782,-10.564139670543668,-10.625616750122788,-10.687144757995043,-10.748723659481612,-10.810353419874957,-10.87203400443893,-10.933765378408708,-10.995547506990803,-11.057380355363208,-11.119263888675249,-11.18119807204775,-11.243182870572923,-11.305218249314493,-11.367304173307673,-11.429440607559172,-11.491627517047235,-11.553864866721682,-11.616152621503858,-11.67849074628674,-11.740879205934888,-11.803317965284506,-11.865806989143465,-11.92834624229124,-11.990935689479102,-12.053575295429908,-12.116265024838341,-12.179004842370787,-12.241794712665424,-12.304634600332207,-12.367524469952869,-12.430464286081019,-12.493454013242129,-12.556493615933462,-12.619583058624272,-12.68272230575559,-12.745911321740522,-12.809150070964037,-12.872438517783067,-12.935776626526575,-12.999164361495502,-13.06260168696285,-13.126088567173639,-13.189624966344951,-13.25321084866603,-13.316846178298107,-13.380530919374678,-13.444265036001298,-13.508048492255696,-13.571881252187865,-13.635763279819912,-13.69969453914625,-13.76367499413351,-13.827704608720595,-13.891783346818741,-13.955911172311403,-14.020088049054479,-14.084313940876157,-14.148588811576985,-14.21291262492997,-14.277285344680493,-14.341706934546337,-14.406177358217818,-14.470696579357664,-14.53526456160111,-14.599881268555947,-14.664546663802469,-14.729260710893513,-14.794023373354548,-14.858834614683587,-14.923694398351302,-14.988602687800977,-15.053559446448588,-15.118564637682738,-15.183618224864816,-15.248720171328841,-15.313870440381635,-15.379068995302816,-15.44431579934465,-15.509610815732387,-15.574954007663948,-15.640345338310198,-15.70578477081483,-15.771272268294453,-15.83680779383856,-15.902391310509572,-15.968022781342867,-16.033702169346824,-16.09942943750275,-16.165204548765033,-16.23102746606105,-16.296898152291263,-16.3628165703292,-16.42878268302148,-16.49479645318783,-16.560857843621136,-16.62696681708742,-16.693123336325954,-16.759327364049113,-16.82557886294255,-16.891877795665167,-16.95822412484908,-17.024617813099795,-17.091058822996004,-17.157547117089806,-17.224082657906607,-17.290665407945227,-17.35729532967784,-17.423972385550044,-17.49069653798088,-17.55746774936283,-17.624285982061835,-17.691151198417415,-17.75806336074251,-17.82502243132366,-17.89202837242091,-17.959081146267962,-18.0261807150721,-18.093327041014163,-18.160520086248738,-18.22775981290401,-18.295046183081894,-18.36237915885799,-18.429758702281617,-18.497184775375885,-18.56465734013767,-18.63217635853762,-18.699741792520243,-18.767353604003816,-18.835011754880554,-18.90271620701651,-18.97046692225163,-19.038263862399845,-19.106106989248943,-19.17399626456077,-19.241931650071095,-19.309913107489734,-19.37794059850053,-19.44601408476136,-19.51413352790422,-19.58229888953514,-19.650510131234313,-19.71876721455608,-19.78707010102893,-19.85541875215553,-19.923813129412736,-19.992253194251674,-20.06073890809772,-20.129270232350464,-20.197847128383827,-20.266469557546046,-20.335137481159705,-20.403850860521715,-20.472609656903415,-20.54141383155047,-20.61026334568301,-20.67915816049566,-20.748098237157436,-20.817083536811893,-20.88611402057704,-20.955189649545474,-21.02431038478433,-21.09347618733534,-21.162687018214783,-21.2319428384136,-21.30124360889735,-21.37058929060629,-21.43997984445535,-21.509415231334145,-21.578895412107045,-21.64842034761317,-21.717989998666425,-21.787604326055487,-21.85726329054387,-21.926966852869896,-21.996714973746805,-22.06650761386271,-22.13634473388059,-22.20622629443841,-22.276152256149032,-22.34612257960032,-22.416137225355143,-22.486196153951397,-22.556299325902003,-22.62644670169489,-22.696638241793195,-22.76687390663504,-22.837153656633774,-22.907477452177844,-22.977845253630846,-23.048257021331665,-23.1187127155943,-23.189212296708092,-23.25975572493759,-23.330342960522614,-23.40097396367831,-23.47164869459519,-23.542367113439084,-23.613129180351194,-23.683934855448143,-23.754784098821943,-23.82567687054008,-23.896613130645534,-23.96759283915671,-24.03861595606753,-24.109682441347502,-24.18079225494165,-24.25194535677059,-24.32314170673054,-24.394381264693322,-24.465663990506428,-24.536989843993013,-24.60835878495196,-24.67977077315777,-24.751225768360783,-24.822723730287052,-24.894264618638402,-24.9658483930925,-25.037475013302824,-25.10914443889868,-25.18085662948529,-25.252611544643756,-25.32440914393105,-25.396249386880186,-25.46813223300005,-25.540057641775576,-25.612025572667676,-25.684035985113297,-25.75608883852547,-25.82818409229327,-25.90032170578189,-25.97250163833266,-26.044723849263036,-26.11698829786667,-26.189294943413373,-26.261643745149172,-26.334034662296403,-26.406467654053586,-26.478942679595548,-26.551459698073458,-26.624018668614767,-26.69661955032332,-26.769262302279316,-26.84194688353938,-26.914673253136513,-26.987441370080205,-27.060251193356436,-27.133102681927582,-27.205995794732686,-27.278930490687188,-27.351906728683147,-27.424924467589236,-27.497983666250704,-27.571084283489427,-27.644226278103957,-27.717409608869517,-27.790634234538032,-27.863900113838156,-27.93720720547526,-28.010555468131543,-28.08394486046592,-28.157375341114246,-28.2308468686891,-28.304359401779962,-28.377912898953213,-28.451507318752164,-28.525142619697036,-28.598818760284985,-28.672535698990174,-28.746293394263787,-28.820091804534016,-28.89393088820613,-28.96781060366243,-29.0417309092623,-29.11569176334237,-29.189693124216262,-29.263734950174864,-29.337817199486224,-29.41193983039561,-29.48610280112554,-29.560306069875764,-29.634549594823383,-29.70883333412273,-29.7831572459055,-29.85752128828078,-29.931925419335002,-30.006369597132036,-30.080853779713138,-30.155377925097028,-30.22994199127993,-30.304545936235527,-30.379189717915068,-30.453873294247316,-30.528596623138625,-30.603359662472926,-30.678162370111764,-30.753004703894376,-30.827886621637603,-30.902808081135987,-30.977769040161817,-31.05276945646507,-31.127809287773573,-31.20288849179282,-31.278007026206154,-31.353164848674837,-31.428361916837844,-31.503598188312154,-31.578873620692605,-31.65418817155188,-31.729541798440764,-31.804934458887914,-31.880366110400033,-31.955836710461824,-32.031346216536036,-32.106894586063504,-32.182481776463135,-32.25810774513201,-32.333772449445306,-32.40947584675634,-32.4852178943967,-32.560998549676114,-32.63681776988264,-32.7126755122825,-32.788571734120254,-32.86450639261878,-32.940479444979246,-33.01649084838127,-33.092540559982766,-33.16862853692005,-33.24475473630798,-33.320919115239775,-33.39712163078714,-33.47336224000034,-33.5496408999081,-33.625957567517744,-33.70231219981517,-33.778704753764885,-33.855135186309994,-33.93160345437224,-34.00810951485211,-34.08465332462873,-34.161234840559985,-34.237854019482484,-34.31451081821159,-34.391205193541495,-34.467937102245216,-34.544706501074614,-34.62151334676041,-34.69835759601217,-34.775239205518474,-34.85215813194678,-34.92911433194355,-35.00610776213421,-35.08313837912317,-35.160206139493965,-35.237310999809125,-35.31445291661032,-35.391631846418306,-35.468847745732944,-35.546100571033335,-35.623390278777705,-35.70071682540352,-35.7780801673275,-35.85548026094557,-35.93291706263297,-36.01039052874427,-36.087900615613364,-36.165447279553504,-36.2430304768573,-36.320650163796785,-36.398306296623474,-36.475998831568276,-36.553727724841636,-36.63149293263341,-36.709294411113106,-36.78713211642972,-36.86500600471186,-36.94291603206774,-37.020862154585146,-37.09884432833158,-37.17686250935422,-37.25491665367994,-37.33300671731536,-37.4111326562468,-37.48929442644041,-37.56749198384214,-37.64572528437774,-37.7239942839529,-37.80229893845305,-37.88063920374363,-37.95901503566999,-38.03742639005737,-38.11587322271113,-38.19435548941645,-38.27287314593869,-38.3514261480232,-38.430014451395365,-38.5086380117608,-38.5872967848051,-38.66599072619412,-38.744719791573864,-38.82348393657048,-38.90228311679047,-38.98111728782045,-39.05998640522741,-39.13889042455864,-39.217829301341645,-39.29680299108446,-39.37581144927536,-39.45485463138308,-39.5339324928568,-39.61304498912606,-39.692192075601035,-39.77137370767226,-39.850589840710875,-39.92984043006857,-40.00912543107753,-40.08844479905072,-40.167798489281545,-40.24718645704419,-40.32660865759348,-40.40606504616489,-40.48555557797478,-40.56508020822009,-40.64463889207863,-40.72423158470904,-40.80385824125069,-40.88351881682395,-40.96321326652995,-41.04294154545078,-41.12270360864947,-41.20249941116995,-41.28232890803725,-41.362192054257285,-41.44208880481706,-41.522019114684674,-41.60198293880923,-41.681980232120985,-41.76201094953135,-41.84207504593289,-41.922172476199336,-42.00230319518562,-42.08246715772794,-42.16266431864376,-42.242894632731826,-42.32315805477221,-42.40345453952625,-42.48378404173674,-42.56414651612784,-42.64454191740511,-42.72497020025556,-42.805431319347655,-42.88592522933136,-42.96645188483818,-43.047011240481126,-43.127603250854825,-43.20822787053544,-43.28888505408079,-43.36957475603034,-43.45029693090524,-43.53105153320831,-43.61183851742409,-43.69265783801888,-43.77350944944078,-43.85439330611964,-43.93530936246721,-44.016257572876974,-44.0972378917244,-44.178250273366814,-44.259294672143476,-44.34037104237564,-44.42147933836644,-44.502619514401104,-44.58379152474687,-44.664995323653024,-44.74623086535097,-44.827498104054136,-44.90879699395816,-44.99012748924084,-45.07148954406211,-45.1528831125642,-45.234308148871435,-45.315764607090586,-45.39725244131057,-45.478771605602674,-45.56032205402056,-45.641903740600135,-45.7235166193599,-45.80516064430058,-45.88683576940544,-45.96854194864024,-46.05027913595311,-46.132047285274915,-46.21384635051886,-46.29567628558082,-46.3775370443393,-46.45942858065532,-46.54135084837272,-46.62330380131787,-46.7052873932999,-46.787301578110714,-46.86934630952484,-46.951421541299794,-47.03352722717571,-47.11566332087565,-47.19782977610556,-47.28002654655415,-47.36225358589323,-47.44451084777737,-47.52679828584422,-47.6091158537144,-47.69146350499146,-47.77384119326218,-47.85624887209622,-47.93868649504642,-48.02115401564878,-48.10365138742233,-48.186178563869454,-48.26873549847556,-48.35132214470937,-48.43393845602289,-48.516584385851274,-48.59925988761319,-48.681964914710434,-48.76469942052827,-48.847463358435355,-48.93025668178365,-49.01307934390874,-49.09593129812947,-49.17881249774831,-49.26172289605123,-49.34466244630764,-49.42763110177069,-49.51062881567698,-49.59365554124679,-49.67671123168407,-49.75979584017635,-49.84290931989504,-49.92605162399508,-50.009222705615265,-50.09242251787819,-50.17565101389018,-50.25890814674146,-50.342193869506076,-50.42550813524199,-50.50885089699108,-50.59222210777908,-50.675621720615794,-50.759049688494976,-50.842505964394384,-50.925990501275884,-51.009503252085295,-51.09304416975264,-51.17661320719202,-51.26021031730171,-51.343835452964164,-51.42748856704598,-51.51116961239806,-51.59487854185553,-51.67861530823781,-51.762379864348645,-51.84617216297606,-51.929992156892496,-52.013839798854775,-52.09771504160412,-52.18161783786625,-52.26554814035124,-52.34950590175377,-52.43349107475303,-52.517503612012696,-52.601543466181106,-52.68561058989111,-52.76970493576026,-52.853826456390735,-52.937975104369414,-53.02215083226788,-53.10635359264242,-53.19058333803413,-53.27484002096887,-53.35912359395734,-53.44343400949509,-53.52777122006248,-53.61213517812483,-53.69652583613235,-53.78094314652023,-53.86538706170865,-53.94985753410271,-54.03435451609263,-54.11887796005365,-54.20342781834612,-54.28800404331549,-54.3726065872923,-54.45723540259233,-54.54189044151653,-54.62657165635105,-54.71127899936732,-54.796012422821995,-54.88077187895706,-54.96555731999985,-55.05036869816301,-55.135205965644616,-55.22006907462807,-55.30495797728229,-55.389872625761626,-55.47481297220592,-55.55977896874055,-55.644770567476364,-55.72978772050987,-55.81483037992311,-55.89989849778379,-55.98499202614526,-56.0701109170465,-56.155255122512266,-56.240424594553005,-56.325619285164926,-56.41083914633006,-56.49608413001618,-56.58135418817695,-56.666649272751904,-56.751969335666445,-56.83731432883195,-56.922684204145646,-57.00807891349082,-57.09349840873675,-57.17894264173871,-57.26441156433809,-57.34990512836228,-57.435423285624836,-57.520965987925486,-57.60653318705,-57.69212483477052,-57.77774088284525,-57.86338128301871,-57.94904598702172,-58.03473494657129,-58.120448113370955,-58.206185439110385,-58.29194687546579,-58.37773237409974,-58.46354188666118,-58.54937536478568,-58.635232760095114,-58.72111402419801,-58.80701910868941,-58.892947965150846,-58.97890054515062,-59.0648768002435,-59.15087668197099,-59.236900141861305,-59.32294713142923,-59.409017602176505,-59.495111505591446,-59.58122879314924,-59.667369416311935,-59.753533326528284,-59.839720475234124,-59.92593081385199,-60.01216429379148,-60.098420866449125,-60.18470048320833,-60.271003095439724,-60.35732865450077,-60.4436771117361,-60.53004841847745,-60.61644252604358,-60.70285938574057,-60.78929894886147,-60.875761166686694,-60.96224599048385,-61.04875337150771,-61.135283261000495,-61.22183561019158,-61.30841037029779,-61.39500749252331,-61.4816269280596,-61.56826862808575,-61.6549325437681,-61.74161862626059,-61.828326826704654,-61.91505709622918,-62.00180938595075,-62.0885836469734,-62.17537983038886,-62.26219788727652,-62.34903776870333,-62.43589942572412,-62.52278280938126,-62.609687870705,-62.696614560713336,-62.783562830412,-62.87053263079474,-62.957523912842966,-63.04453662752611,-63.131570725801495,-63.21862615861433,-63.30570287689793,-63.392800831573474,-63.47991997355025,-63.56706025372562,-63.65422162298491,-63.741404032201764,-63.82860743223777,-63.915831773942784,-64.00307700815488,-64.09034308570023,-64.17762995739345,-64.26493757403726,-64.3522658864228,-64.43961484532949,-64.52698440152507,-64.61437450576585,-64.70178510879634,-64.78921616134963,-64.87666761414727,-64.96413941789919,-65.0516315233041,-65.139143881049,-65.22667644180962,-65.31422915625032,-65.40180197502396,-65.48939484877226,-65.57700772812552,-65.66464056370273,-65.75229330611177,-65.83996590594913,-65.9276583138003,-66.01537048023938,-66.10310235582955,-66.19085389112274,-66.27862503665983,-66.36641574297073,-66.45422596057419,-66.54205563997806,-66.6299047316792,-66.71777318616347,-66.80566095390594,-66.89356798537065,-66.9814942310109,-67.06943964126911,-67.15740416657685,-67.24538775735506,-67.33339036401377,-67.42141193695237,-67.50945242655959,-67.59751178321342,-67.68558995728131,-67.77368689912001,-67.86180255907574,-67.9499368874842,-68.03808983467046,-68.12626135094925,-68.21445138662472,-68.30265989199059,-68.39088681733023,-68.47913211291655,-68.56739572901222,-68.65567761586944,-68.74397772373021,-68.83229600282627,-68.920632403379,-69.00898687559976,-69.09735936968951,-69.18574983583922,-69.27415822422967,-69.36258448503145,-69.45102856840528,-69.53949042450162,-69.62797000346107,-69.71646725541419,-69.80498213048148,-69.89351457877369,-69.98206455039153,-70.07063199542587,-70.15921686395778,-70.24781910605839,-70.33643867178918,-70.42507551120178,-70.5137295743381,-70.60240081123037,-70.69108917190104,-70.77979460636308,-70.8685170646197,-70.95725649666454,-71.04601285248175,-71.13478608204578,-71.22357613532179,-71.31238296226525,-71.40120651282228,-71.49004673692961,-71.57890358451444,-71.66777700549477,-71.75666694977909,-71.84557336726671,-71.93449620784759,-72.02343542140241,-72.11239095780273,-72.20136276691078,-72.29035079857968,-72.37935500265344,-72.46837532896686,-72.55741172734578,-72.64646414760685,-72.73553253955778,-72.82461685299727,-72.91371703771495,-73.00283304349169,-73.09196482009924,-73.1811123173006,-73.27027548484988,-73.35945427249224,-73.44864862996428,-73.53785850699359,-73.62708385329913,-73.71632461859113],\"y\":[0.0,-0.07579439741138572,-0.15155020239566852,-0.2272673722548575,-0.30294586431273274,-0.3785856359148738,-0.4541866444287024,-0.5297488472434679,-0.6052722017702763,-0.680756665442189,-0.7562021957141098,-0.8316087500629692,-0.9069762859875965,-0.9823047610088338,-1.0575941326695784,-1.1328443585346832,-1.208055396191142,-1.2832272032480034,-1.3583597373364569,-1.4334529561097753,-1.5085068172434006,-1.5835212784350148,-1.6584962974044544,-1.7334318318938102,-1.8083278396673848,-1.8831842785118056,-1.9580011062359972,-2.0327782806712094,-2.107515759671017,-2.1822135011113772,-2.2568714628906577,-2.3314896029296506,-2.406067879171573,-2.4806062495821237,-2.555104672149497,-2.629563104884383,-2.7039815058200105,-2.7783598330122175,-2.8526980445393804,-2.9269960985024994,-3.0012539530252127,-3.075471566253796,-3.149648896357263,-3.2237859015272505,-3.297882539978204,-3.371938769947235,-3.445954549694335,-3.5199298375021897,-3.593864591676379,-3.6677587705452908,-3.741612332460207,-3.8154252357952885,-3.889197438947619,-3.9629289003372037,-4.036619578407041,-4.110269431623067,-4.183878418474308,-4.257446497472756,-4.330973627153469,-4.404459766074609,-4.477904872817419,-4.551308905986289,-4.624671824208733,-4.697993586135482,-4.771274150440419,-4.844513475820662,-4.917711520996562,-4.990868244711791,-5.063983605733213,-5.137057562851112,-5.2100900748790195,-5.283081100653888,-5.356030599036018,-5.4289385289091285,-5.501804849180374,-5.574629518780341,-5.647412496663122,-5.720153741806257,-5.79285321321089,-5.8655108699016125,-5.93812667092665,-6.010700575357831,-6.083232542290517,-6.155722530843789,-6.228170500160331,-6.300576409406574,-6.3729402177725945,-6.4452618844722025,-6.517541368743011,-6.5897786298463785,-6.661973627067425,-6.734126319715145,-6.806236667122349,-6.878304628645736,-6.950330163665882,-7.022313231587248,-7.094253791838284,-7.166151803871372,-7.2380072271628535,-7.309820021213113,-7.381590145546554,-7.453317559711607,-7.525002223280765,-7.596644095850692,-7.668243137042097,-7.739799306499819,-7.811312563892955,-7.882782868914674,-7.95421018128242,-8.025594460737864,-8.096935667046921,-8.168233759999794,-8.239488699410941,-8.310700445119224,-8.381868956987773,-8.452994194904122,-8.5240761187802,-8.595114688552343,-8.666109864181294,-8.737061605652315,-8.807969872975079,-8.878834626183831,-8.949655825337274,-9.020433430518679,-9.09116740183596,-9.161857699421518,-9.232504283432448,-9.303107114050405,-9.373666151481785,-9.444181355957625,-9.514652687733687,-9.585080107090434,-9.655463574333098,-9.72580304979168,-9.796098493820992,-9.866349866800633,-9.936557129135053,-10.00672024125356,-10.076839163610373,-10.146913856684591,-10.216944280980243,-10.286930397026325,-10.356872165376785,-10.426769546610572,-10.496622501331686,-10.56643099016911,-10.636194973776924,-10.705914412834304,-10.775589268045508,-10.845219500139919,-10.914805069872074,-10.984345938021733,-11.053842065393752,-11.123293412818313,-11.19269994115075,-11.26206161127169,-11.331378384087088,-11.400650220528107,-11.469877081551331,-11.539058928138658,-11.608195721297307,-11.677287422060004,-11.746333991484775,-11.815335390655164,-11.884291580680127,-11.953202522694113,-12.02206817785708,-12.09088850735452,-12.15966347239744,-12.228393034222464,-12.297077154091753,-12.36571579329312,-12.434308913139972,-12.502856474971423,-12.571358440152252,-12.639814770072917,-12.708225426149568,-12.776590369824191,-12.844909562564425,-12.913182965863797,-12.981410541241573,-13.049592250242895,-13.117728054438686,-13.185817915425844,-13.253861794827074,-13.321859654291046,-13.38981145549235,-13.457717160131551,-13.525576729935153,-13.59339012665572,-13.661157312071808,-13.728878247988007,-13.796552896235013,-13.864181218669586,-13.931763177174602,-13.999298733659046,-14.066787850058105,-14.134230488333102,-14.201626610471578,-14.26897617848725,-14.33627915442014,-14.403535500336488,-14.470745178328812,-14.537908150515946,-14.605024379043073,-14.672093826081678,-14.73911645382961,-14.806092224511175,-14.873021100377017,-14.939903043704234,-15.00673801679639,-15.073525981983522,-15.140266901622127,-15.206960738095248,-15.27360745381246,-15.340207011209927,-15.406759372750315,-15.473264500922994,-15.53972235824385,-15.606132907255486,-15.672496110527135,-15.738811930654748,-15.805080330260921,-15.871301271995065,-15.937474718533252,-16.003600632578397,-16.06967897686016,-16.13570971413499,-16.201692807186262,-16.267628218824086,-16.333515911885556,-16.39935584923458,-16.46514799376203,-16.530892308385702,-16.596588756050323,-16.66223729972765,-16.727837902416383,-16.793390527142307,-16.85889513695821,-16.92435169494391,-16.989760164206402,-17.05512050787968,-17.12043268912494,-17.185696671130486,-17.250912417111792,-17.316079890311556,-17.381199053999595,-17.446269871473064,-17.51129230605629,-17.576266321100903,-17.641191879985826,-17.706068946117256,-17.77089748292876,-17.835677453881246,-17.90040882246302,-17.96509155218972,-18.029725606604444,-18.09431094927774,-18.158847543807568,-18.223335353819365,-18.28777434296613,-18.35216447492826,-18.416505713413827,-18.480798022158368,-18.545041364925027,-18.609235705504517,-18.67338100771522,-18.737477235403134,-18.80152435244193,-18.865522322732915,-18.929471110205142,-18.993370678815367,-19.057220992548082,-19.121022015415576,-19.18477371145785,-19.248476044742773,-19.31212897936601,-19.37573247945106,-19.439286509149312,-19.502791032640005,-19.5662460141303,-19.62965141785527,-19.693007208077958,-19.75631334908934,-19.81956980520839,-19.88277654078209,-19.945933520185392,-20.009040707821413,-20.072098068121207,-20.13510556554398,-20.19806316457702,-20.260970829735754,-20.32382852556374,-20.386636216632724,-20.449393867542597,-20.512101442921463,-20.57475890742566,-20.63736622573981,-20.699923362576712,-20.762430282677528,-20.824886950811674,-20.887293331776917,-20.949649390399358,-21.011955091533437,-21.07421040006203,-21.136415280896372,-21.198569698976115,-21.26067361926941,-21.32272700677281,-21.38472982651136,-21.446682043538644,-21.508583622936712,-21.57043452981621,-21.63223472931631,-21.693984186604737,-21.755682866877905,-21.81733073536077,-21.87892775730694,-21.940473897998714,-22.001969122747028,-22.063413396891534,-22.124806685800593,-22.186148954871314,-22.247440169529597,-22.308680295230033,-22.369869297456077,-22.431007141719945,-22.49209379356276,-22.553129218554446,-22.61411338229378,-22.675046250408485,-22.735927788555173,-22.796757962419377,-22.85753673771562,-22.918264080187313,-22.978939955606947,-23.039564329775942,-23.10013716852484,-23.16065843771311,-23.221128103229418,-23.281546130991387,-23.34191248694583,-23.402227137068664,-23.462490047364966,-23.522701183868904,-23.582860512643904,-23.642967999782556,-23.703023611406678,-23.763027313667337,-23.822979072744843,-23.882878854848784,-23.942726626218032,-24.002522353120796,-24.06226600185464,-24.1219575387464,-24.181596930152352,-24.241184142458167,-24.300719142078876,-24.360201895458985,-24.41963236907243,-24.479010529422595,-24.53833634304236,-24.59760977649414,-24.65683079636983,-24.7159993692909,-24.775115461908328,-24.834179040902754,-24.893190072984325,-24.952148524892905,-25.011054363397903,-25.0699075552984,-25.12870806742319,-25.187455866630756,-25.246150919809253,-25.30479319387659,-25.3633826557804,-25.4219192724981,-25.480403011036913,-25.53883383843383,-25.5972117217557,-25.655536628099156,-25.71380852459076,-25.772027378386895,-25.83019315667387,-25.888305826667917,-25.946365355615157,-26.004371710791702,-26.062324859503633,-26.120224769086988,-26.178071406907875,-26.235864740362345,-26.29360473687656,-26.351291363906697,-26.408924588939044,-26.466504379490004,-26.524030703106035,-26.58150352736378,-26.638922819870018,-26.69628854826172,-26.753600680206034,-26.810859183400282,-26.868064025572068,-26.925215174479234,-26.98231259790984,-27.03935626368228,-27.096346139645178,-27.15328219367757,-27.210164393688757,-27.266992707618428,-27.323767103436595,-27.38048754914375,-27.437154012770677,-27.493766462378687,-27.550324866059483,-27.606829191935248,-27.663279408158616,-27.71967548291275,-27.776017384411333,-27.83230508089855,-27.88853854064918,-27.944717731968495,-28.00084262319244,-28.056913182687552,-28.112929378850907,-28.168891180110364,-28.224798554924263,-28.280651471781795,-28.336449899202748,-28.392193805737605,-28.447883159967674,-28.5035179305049,-28.559098085992048,-28.6146235951027,-28.670094426541155,-28.725510549042596,-28.780871931373,-28.83617854232925,-28.891430350739043,-28.946627325460966,-29.001769435384574,-29.05685664943026,-29.111888936549434,-29.166866265724437,-29.221788605968555,-29.2766559263261,-29.331468195872404,-29.38622538371378,-29.440927458987645,-29.49557439086243,-29.550166148537684,-29.604702701244037,-29.659184018243195,-29.713610068828118,-29.76798082232274,-29.82229624808231,-29.87655631549319,-29.930760993972967,-29.984910252970423,-30.039004061965613,-30.093042390469805,-30.147025208025553,-30.200952484206724,-30.25482418861847,-30.30864029089723,-30.36240076071084,-30.416105567758436,-30.469754681770596,-30.523348072509236,-30.576885709767694,-30.63036756337071,-30.683793603174493,-30.73716379906672,-30.790478120966497,-30.8437365388245,-30.896939022622803,-30.950085542375106,-31.003176068126592,-31.056210569954047,-31.109189017965804,-31.162111382301802,-31.214977633133557,-31.26778774066429,-31.320541675128766,-31.373239406793488,-31.425880905956603,-31.478466142947966,-31.530995088129117,-31.583467711893363,-31.635883984665725,-31.688243876902987,-31.740547359093725,-31.792794401758314,-31.84498497544891,-31.897119050749524,-31.94919659827599,-32.00121758867603,-32.05318199262919,-32.105089780846995,-32.15694092407281,-32.20873539308195,-32.26047315868166,-32.31215419171117,-32.363778463041655,-32.41534594357634,-32.46685660425035,-32.51831041603097,-32.56970734991744,-32.62104737694105,-32.67233046816523,-32.72355659468542,-32.774725727629246,-32.82583783815639,-32.876892897458745,-32.9278908767603,-32.978831747317216,-33.02971548041786,-33.08054204738282,-33.131311419564895,-33.18202356834911,-33.23267846515273,-33.2832760814253,-33.33381638864867,-33.38429935833699,-33.43472496203667,-33.48509317132654,-33.53540395781769,-33.58565729315366,-33.63585314901033,-33.68599149709594,-33.7360723091512,-33.78609555694922,-33.836061212295576,-33.885969247028314,-33.9358196330179,-33.98561234216733,-34.03534734641211,-34.085024617720265,-34.134644128092376,-34.184205849561565,-34.2337097541935,-34.283155814086456,-34.33254400137133,-34.38187428821165,-34.431146646803526,-34.48036104937573,-34.52951746818971,-34.578615875539626,-34.6276562437523,-34.67663854518726,-34.72556275223678,-34.77442883732587,-34.82323677291231,-34.87198653148663,-34.92067808557219,-34.9693114077251,-35.017886470534364,-35.06640324662173,-35.1148617086419,-35.163261829282376,-35.211603581263546,-35.259886937338706,-35.3081118702941,-35.35627835294885,-35.40438635815504,-35.4524358587977,-35.50042682779488,-35.54835923809759,-35.59623306268982,-35.644048274588656,-35.69180484684411,-35.73950275253932,-35.78714196479048,-35.83472245674689,-35.88224420159088,-35.92970717253792,-35.97711134283665,-36.0244566857688,-36.07174317464924,-36.118970782826096,-36.16613948368061,-36.21324925062723,-36.26030005711365,-36.307291876620766,-36.354224682662775,-36.40109844878704,-36.44791314857429,-36.49466875563853,-36.541365243626984,-36.58800258622034,-36.63458075713251,-36.6810997301108,-36.7275594789359,-36.77395997742181,-36.82030119941602,-36.86658311879938,-36.91280570948612,-36.95896894542399,-37.005072800594135,-37.05111724901124,-37.09710226472339,-37.1430278218122,-37.18889389439282,-37.23470045661388,-37.280447482657635,-37.326134946739785,-37.37176282310968,-37.417331086050254,-37.462839709877954,-37.50828866894298,-37.55367793762905,-37.59900749035357,-37.644277301567584,-37.689487345755836,-37.73463759743673,-37.77972803116238,-37.82475862151861,-37.869729343125,-37.914640170634826,-37.959491078735184,-38.004282042146855,-38.0490130356245,-38.093684033956535,-38.138295011965155,-38.18284594450647,-38.22733680647036,-38.271767572780604,-38.316138218394826,-38.36044871830455,-38.4046990475352,-38.448889181146114,-38.49301909423055,-38.53708876191571,-38.58109815936275,-38.625047261766824,-38.66893604435701,-38.71276448239644,-38.75653255118225,-38.80024022604556,-38.843887482351576,-38.88747429549953,-38.93100064092275,-38.97446649408863,-39.017871830498635,-39.06121662568836,-39.10450085522754,-39.14772449472002,-39.19088751980381,-39.23398990615108,-39.277031629468155,-39.32001266549558,-39.36293299000812,-39.405792578814726,-39.44859140775857,-39.49132945271711,-39.53400668960204,-39.57662309435932,-39.61917864296923,-39.66167331144631,-39.704107075839445,-39.74647991223182,-39.78879179674098,-39.831042705518854,-39.87323261475163,-39.91536150066001,-39.957429339499,-39.999436107558054,-40.041381781161064,-40.08326633666627,-40.125089750466486,-40.166851998988875,-40.20855305869513,-40.25019290608145,-40.291771517678455,-40.333288870051376,-40.374744939799896,-40.41613970355829,-40.457473137995365,-40.49874521981447,-40.53995592575359,-40.58110523258526,-40.62219311711664,-40.66321955618949,-40.704184526680194,-40.745088005499866,-40.785929969594164,-40.826710395943465,-40.86742926156289,-40.90808654350211,-40.94868221884569,-40.989216264712766,-41.029688658257285,-41.07009937666794,-41.11044839716814,-41.15073569701613,-41.19096125350491,-41.231125043962265,-41.27122704575086,-41.311267236268066,-41.35124559294621,-41.39116209325242,-41.431016714688695,-41.47080943479189,-41.51054023113376,-41.55020908132103,-41.5898159629952,-41.62936085383281,-41.66884373154532,-41.708264573879106,-41.74762335861554,-41.786920063570946,-41.82615466659668,-41.86532714557907,-41.904437478439405,-41.94348564313414,-41.98247161765465,-42.0213953800274,-42.06025690831393,-42.099056180610816,-42.13779317504981,-42.17646786979765,-42.21508024305629,-42.25363027306274,-42.29211793808918,-42.33054321644296,-42.36890608646654,-42.40720652653758,-42.44544451506896,-42.48362003050872,-42.52173305134009,-42.5597835560816,-42.59777152328695,-42.63569693154511,-42.6735597594803,-42.71135998575204,-42.7490975890551,-42.78677254811956,-42.824384841710824,-42.8619344486296,-42.89942134771189,-42.93684551782911,-42.97420693788801,-43.011505586830694,-43.048741443634626,-43.08591448731269,-43.12302469691318,-43.16007205151979,-43.19705653025164,-43.2339781122633,-43.27083677674476,-43.30763250292149,-43.34436527005448,-43.381035057440144,-43.4176418444104,-43.45418561033269,-43.49066633460997,-43.527083996680744,-43.56343857601905,-43.59973005213445,-43.63595840457212,-43.67212361291281,-43.70822565677281,-43.744264515804076,-43.78024016969411,-43.81615259816611,-43.85200178097887,-43.88778769792681,-43.92351032884008,-43.95916965358438,-43.99476565206123,-44.03029830420775,-44.06576758999678,-44.1011734894369,-44.13651598257239,-44.17179504948329,-44.207010670285385,-44.242162825130194,-44.27725149420503,-44.312276657732966,-44.34723829597293,-44.38213638921957,-44.41697091780341,-44.451741862090785,-44.48644920248384,-44.52109291942061,-44.55567299337498,-44.59018940485667,-44.624642134411346,-44.65903116262051,-44.69335647010159,-44.72761803750792,-44.76181584552877,-44.79594987488939,-44.83002010635086,-44.86402652071031,-44.89796909880086,-44.9318478214915,-44.96566266968735,-44.99941362432941,-45.033100666394745,-45.06672377689647,-45.10028293688366,-45.13377812744153,-45.16720932969126,-45.20057652479014,-45.23387969393154,-45.26711881834488,-45.30029387929575,-45.33340485808574,-45.36645173605268,-45.39943449457043,-45.43235311504904,-45.465207578934695,-45.49799786770974,-45.53072396289271,-45.56338584603829,-45.595983498737354,-45.62851690261705,-45.66098603934064,-45.69339089060766,-45.725731438153886,-45.75800766375127,-45.79021954920816,-45.82236707636902,-45.854450227114654,-45.88646898336215,-45.91842332706487,-45.95031324021252,-45.98213870483107,-46.013899702982854,-46.04559621676654,-46.07722822831708,-46.10879571980587,-46.14029867344061,-46.1717370714654,-46.20311089616074,-46.23442012984347,-46.26566475486692,-46.29684475362073,-46.32796010853106,-46.35901080206045,-46.38999681670791,-46.42091813500889,-46.45177473953531,-46.48256661289558,-46.51329373773456,-46.54395609673362,-46.57455367261066,-46.60508644812005,-46.635554406052705,-46.665957529236096,-46.69629580053417,-46.726569202847514,-46.7567777191132,-46.786921332304914,-46.817000025432904,-46.84701378154402,-46.87696258372172,-46.90684641508604,-46.93666525879368,-46.96641909803793,-46.99610791604873,-47.02573169609268,-47.05529042147302,-47.084784075529655,-47.11421264163921,-47.143576103214926,-47.1728744437068,-47.202107646601476,-47.231275695422354,-47.26037857372957,-47.28941626511991,-47.31838875322701,-47.34729602172118,-47.37613805430951,-47.40491483473588,-47.4336263467809,-47.462272574262016,-47.49085350103344,-47.51936911098622,-47.54781938804818,-47.57620431618399,-47.604523879395146,-47.63277806171999,-47.66096684723371,-47.68909022004836,-47.71714816431282,-47.745140664212954,-47.77306770397139,-47.80092926784772,-47.82872534013843,-47.85645590517689,-47.88412094733344,-47.91172045101531,-47.939254400666684,-47.96672278076872,-47.99412557583945,-48.021462770433985,-48.04873434914431,-48.07594029659947,-48.103080597465464,-48.13015523644526,-48.15716419827892,-48.18410746774343,-48.21098502965286,-48.237796868858325,-48.264542970247916,-48.291223318746844,-48.317837899317325,-48.34438669695871,-48.37086969670737,-48.39728688363677,-48.42363824285749,-48.44992375951722,-48.4761434188007,-48.50229720592988,-48.528385106163725,-48.55440710479846,-48.580363187167364,-48.60625333864088,-48.63207754462668,-48.65783579056951,-48.68352806195135,-48.70915434429135,-48.73471462314585,-48.76020888410842,-48.785637112809766,-48.81099929491789,-48.836295416138,-48.8615254622125,-48.886689418921094,-48.91178727208067,-48.93681900754545,-48.96178461120684,-48.98668406899358,-49.0115173668717,-49.03628449084442,-49.0609854269524,-49.08562016127348,-49.11018867992291,-49.13469096905321,-49.15912701485419,-49.1834968035531,-49.20780032141447,-49.232037554740145,-49.25620848986941,-49.28031311317888,-49.30435141108255,-49.32832337003178,-49.352228976515335,-49.3760682170594,-49.399841078227496,-49.42354754662068,-49.44718760887727,-49.47076125167317,-49.49426846172159,-49.517709225773274,-49.54108353061636,-49.56439136307648,-49.58763271001672,-49.610807558337655,-49.633915894977264,-49.65695770691113,-49.67993298115225,-49.70284170475115,-49.725683864795855,-49.74845944841191,-49.771168442762416,-49.793810835047964,-49.81638661250669,-49.83889576241431,-49.86133827208401,-49.88371412886667,-49.90602332015061,-49.92826583336176,-49.9504416559637,-49.97255077545749,-49.99459317938191,-50.016568855313196,-50.038477790865315,-50.060319973689815,-50.08209539147582,-50.10380403195016,-50.125445882877244,-50.147020932059164,-50.16852916733565,-50.18997057658406,-50.21134514771947,-50.2326528686946,-50.25389372749983,-50.27506771216326,-50.29617481075067,-50.31721501136553,-50.338188302149035,-50.35909467128005,-50.37993410697523,-50.40070659748886,-50.42141213111307,-50.44205069617763,-50.4626222810501,-50.483126874135806]}],                        {\"template\":{\"data\":{\"barpolar\":[{\"marker\":{\"line\":{\"color\":\"#E5ECF6\",\"width\":0.5},\"pattern\":{\"fillmode\":\"overlay\",\"size\":10,\"solidity\":0.2}},\"type\":\"barpolar\"}],\"bar\":[{\"error_x\":{\"color\":\"#2a3f5f\"},\"error_y\":{\"color\":\"#2a3f5f\"},\"marker\":{\"line\":{\"color\":\"#E5ECF6\",\"width\":0.5},\"pattern\":{\"fillmode\":\"overlay\",\"size\":10,\"solidity\":0.2}},\"type\":\"bar\"}],\"carpet\":[{\"aaxis\":{\"endlinecolor\":\"#2a3f5f\",\"gridcolor\":\"white\",\"linecolor\":\"white\",\"minorgridcolor\":\"white\",\"startlinecolor\":\"#2a3f5f\"},\"baxis\":{\"endlinecolor\":\"#2a3f5f\",\"gridcolor\":\"white\",\"linecolor\":\"white\",\"minorgridcolor\":\"white\",\"startlinecolor\":\"#2a3f5f\"},\"type\":\"carpet\"}],\"choropleth\":[{\"colorbar\":{\"outlinewidth\":0,\"ticks\":\"\"},\"type\":\"choropleth\"}],\"contourcarpet\":[{\"colorbar\":{\"outlinewidth\":0,\"ticks\":\"\"},\"type\":\"contourcarpet\"}],\"contour\":[{\"colorbar\":{\"outlinewidth\":0,\"ticks\":\"\"},\"colorscale\":[[0.0,\"#0d0887\"],[0.1111111111111111,\"#46039f\"],[0.2222222222222222,\"#7201a8\"],[0.3333333333333333,\"#9c179e\"],[0.4444444444444444,\"#bd3786\"],[0.5555555555555556,\"#d8576b\"],[0.6666666666666666,\"#ed7953\"],[0.7777777777777778,\"#fb9f3a\"],[0.8888888888888888,\"#fdca26\"],[1.0,\"#f0f921\"]],\"type\":\"contour\"}],\"heatmapgl\":[{\"colorbar\":{\"outlinewidth\":0,\"ticks\":\"\"},\"colorscale\":[[0.0,\"#0d0887\"],[0.1111111111111111,\"#46039f\"],[0.2222222222222222,\"#7201a8\"],[0.3333333333333333,\"#9c179e\"],[0.4444444444444444,\"#bd3786\"],[0.5555555555555556,\"#d8576b\"],[0.6666666666666666,\"#ed7953\"],[0.7777777777777778,\"#fb9f3a\"],[0.8888888888888888,\"#fdca26\"],[1.0,\"#f0f921\"]],\"type\":\"heatmapgl\"}],\"heatmap\":[{\"colorbar\":{\"outlinewidth\":0,\"ticks\":\"\"},\"colorscale\":[[0.0,\"#0d0887\"],[0.1111111111111111,\"#46039f\"],[0.2222222222222222,\"#7201a8\"],[0.3333333333333333,\"#9c179e\"],[0.4444444444444444,\"#bd3786\"],[0.5555555555555556,\"#d8576b\"],[0.6666666666666666,\"#ed7953\"],[0.7777777777777778,\"#fb9f3a\"],[0.8888888888888888,\"#fdca26\"],[1.0,\"#f0f921\"]],\"type\":\"heatmap\"}],\"histogram2dcontour\":[{\"colorbar\":{\"outlinewidth\":0,\"ticks\":\"\"},\"colorscale\":[[0.0,\"#0d0887\"],[0.1111111111111111,\"#46039f\"],[0.2222222222222222,\"#7201a8\"],[0.3333333333333333,\"#9c179e\"],[0.4444444444444444,\"#bd3786\"],[0.5555555555555556,\"#d8576b\"],[0.6666666666666666,\"#ed7953\"],[0.7777777777777778,\"#fb9f3a\"],[0.8888888888888888,\"#fdca26\"],[1.0,\"#f0f921\"]],\"type\":\"histogram2dcontour\"}],\"histogram2d\":[{\"colorbar\":{\"outlinewidth\":0,\"ticks\":\"\"},\"colorscale\":[[0.0,\"#0d0887\"],[0.1111111111111111,\"#46039f\"],[0.2222222222222222,\"#7201a8\"],[0.3333333333333333,\"#9c179e\"],[0.4444444444444444,\"#bd3786\"],[0.5555555555555556,\"#d8576b\"],[0.6666666666666666,\"#ed7953\"],[0.7777777777777778,\"#fb9f3a\"],[0.8888888888888888,\"#fdca26\"],[1.0,\"#f0f921\"]],\"type\":\"histogram2d\"}],\"histogram\":[{\"marker\":{\"pattern\":{\"fillmode\":\"overlay\",\"size\":10,\"solidity\":0.2}},\"type\":\"histogram\"}],\"mesh3d\":[{\"colorbar\":{\"outlinewidth\":0,\"ticks\":\"\"},\"type\":\"mesh3d\"}],\"parcoords\":[{\"line\":{\"colorbar\":{\"outlinewidth\":0,\"ticks\":\"\"}},\"type\":\"parcoords\"}],\"pie\":[{\"automargin\":true,\"type\":\"pie\"}],\"scatter3d\":[{\"line\":{\"colorbar\":{\"outlinewidth\":0,\"ticks\":\"\"}},\"marker\":{\"colorbar\":{\"outlinewidth\":0,\"ticks\":\"\"}},\"type\":\"scatter3d\"}],\"scattercarpet\":[{\"marker\":{\"colorbar\":{\"outlinewidth\":0,\"ticks\":\"\"}},\"type\":\"scattercarpet\"}],\"scattergeo\":[{\"marker\":{\"colorbar\":{\"outlinewidth\":0,\"ticks\":\"\"}},\"type\":\"scattergeo\"}],\"scattergl\":[{\"marker\":{\"colorbar\":{\"outlinewidth\":0,\"ticks\":\"\"}},\"type\":\"scattergl\"}],\"scattermapbox\":[{\"marker\":{\"colorbar\":{\"outlinewidth\":0,\"ticks\":\"\"}},\"type\":\"scattermapbox\"}],\"scatterpolargl\":[{\"marker\":{\"colorbar\":{\"outlinewidth\":0,\"ticks\":\"\"}},\"type\":\"scatterpolargl\"}],\"scatterpolar\":[{\"marker\":{\"colorbar\":{\"outlinewidth\":0,\"ticks\":\"\"}},\"type\":\"scatterpolar\"}],\"scatter\":[{\"fillpattern\":{\"fillmode\":\"overlay\",\"size\":10,\"solidity\":0.2},\"type\":\"scatter\"}],\"scatterternary\":[{\"marker\":{\"colorbar\":{\"outlinewidth\":0,\"ticks\":\"\"}},\"type\":\"scatterternary\"}],\"surface\":[{\"colorbar\":{\"outlinewidth\":0,\"ticks\":\"\"},\"colorscale\":[[0.0,\"#0d0887\"],[0.1111111111111111,\"#46039f\"],[0.2222222222222222,\"#7201a8\"],[0.3333333333333333,\"#9c179e\"],[0.4444444444444444,\"#bd3786\"],[0.5555555555555556,\"#d8576b\"],[0.6666666666666666,\"#ed7953\"],[0.7777777777777778,\"#fb9f3a\"],[0.8888888888888888,\"#fdca26\"],[1.0,\"#f0f921\"]],\"type\":\"surface\"}],\"table\":[{\"cells\":{\"fill\":{\"color\":\"#EBF0F8\"},\"line\":{\"color\":\"white\"}},\"header\":{\"fill\":{\"color\":\"#C8D4E3\"},\"line\":{\"color\":\"white\"}},\"type\":\"table\"}]},\"layout\":{\"annotationdefaults\":{\"arrowcolor\":\"#2a3f5f\",\"arrowhead\":0,\"arrowwidth\":1},\"autotypenumbers\":\"strict\",\"coloraxis\":{\"colorbar\":{\"outlinewidth\":0,\"ticks\":\"\"}},\"colorscale\":{\"diverging\":[[0,\"#8e0152\"],[0.1,\"#c51b7d\"],[0.2,\"#de77ae\"],[0.3,\"#f1b6da\"],[0.4,\"#fde0ef\"],[0.5,\"#f7f7f7\"],[0.6,\"#e6f5d0\"],[0.7,\"#b8e186\"],[0.8,\"#7fbc41\"],[0.9,\"#4d9221\"],[1,\"#276419\"]],\"sequential\":[[0.0,\"#0d0887\"],[0.1111111111111111,\"#46039f\"],[0.2222222222222222,\"#7201a8\"],[0.3333333333333333,\"#9c179e\"],[0.4444444444444444,\"#bd3786\"],[0.5555555555555556,\"#d8576b\"],[0.6666666666666666,\"#ed7953\"],[0.7777777777777778,\"#fb9f3a\"],[0.8888888888888888,\"#fdca26\"],[1.0,\"#f0f921\"]],\"sequentialminus\":[[0.0,\"#0d0887\"],[0.1111111111111111,\"#46039f\"],[0.2222222222222222,\"#7201a8\"],[0.3333333333333333,\"#9c179e\"],[0.4444444444444444,\"#bd3786\"],[0.5555555555555556,\"#d8576b\"],[0.6666666666666666,\"#ed7953\"],[0.7777777777777778,\"#fb9f3a\"],[0.8888888888888888,\"#fdca26\"],[1.0,\"#f0f921\"]]},\"colorway\":[\"#636efa\",\"#EF553B\",\"#00cc96\",\"#ab63fa\",\"#FFA15A\",\"#19d3f3\",\"#FF6692\",\"#B6E880\",\"#FF97FF\",\"#FECB52\"],\"font\":{\"color\":\"#2a3f5f\"},\"geo\":{\"bgcolor\":\"white\",\"lakecolor\":\"white\",\"landcolor\":\"#E5ECF6\",\"showlakes\":true,\"showland\":true,\"subunitcolor\":\"white\"},\"hoverlabel\":{\"align\":\"left\"},\"hovermode\":\"closest\",\"mapbox\":{\"style\":\"light\"},\"paper_bgcolor\":\"white\",\"plot_bgcolor\":\"#E5ECF6\",\"polar\":{\"angularaxis\":{\"gridcolor\":\"white\",\"linecolor\":\"white\",\"ticks\":\"\"},\"bgcolor\":\"#E5ECF6\",\"radialaxis\":{\"gridcolor\":\"white\",\"linecolor\":\"white\",\"ticks\":\"\"}},\"scene\":{\"xaxis\":{\"backgroundcolor\":\"#E5ECF6\",\"gridcolor\":\"white\",\"gridwidth\":2,\"linecolor\":\"white\",\"showbackground\":true,\"ticks\":\"\",\"zerolinecolor\":\"white\"},\"yaxis\":{\"backgroundcolor\":\"#E5ECF6\",\"gridcolor\":\"white\",\"gridwidth\":2,\"linecolor\":\"white\",\"showbackground\":true,\"ticks\":\"\",\"zerolinecolor\":\"white\"},\"zaxis\":{\"backgroundcolor\":\"#E5ECF6\",\"gridcolor\":\"white\",\"gridwidth\":2,\"linecolor\":\"white\",\"showbackground\":true,\"ticks\":\"\",\"zerolinecolor\":\"white\"}},\"shapedefaults\":{\"line\":{\"color\":\"#2a3f5f\"}},\"ternary\":{\"aaxis\":{\"gridcolor\":\"white\",\"linecolor\":\"white\",\"ticks\":\"\"},\"baxis\":{\"gridcolor\":\"white\",\"linecolor\":\"white\",\"ticks\":\"\"},\"bgcolor\":\"#E5ECF6\",\"caxis\":{\"gridcolor\":\"white\",\"linecolor\":\"white\",\"ticks\":\"\"}},\"title\":{\"x\":0.05},\"xaxis\":{\"automargin\":true,\"gridcolor\":\"white\",\"linecolor\":\"white\",\"ticks\":\"\",\"title\":{\"standoff\":15},\"zerolinecolor\":\"white\",\"zerolinewidth\":2},\"yaxis\":{\"automargin\":true,\"gridcolor\":\"white\",\"linecolor\":\"white\",\"ticks\":\"\",\"title\":{\"standoff\":15},\"zerolinecolor\":\"white\",\"zerolinewidth\":2}}},\"xaxis\":{\"range\":[-60,60],\"title\":{\"text\":\"X\"}},\"yaxis\":{\"range\":[-60,60],\"title\":{\"text\":\"Y\"}},\"width\":500,\"height\":500,\"showlegend\":false,\"title\":{\"text\":\"Hits in the Central Drift Chamber\"},\"shapes\":[{\"line\":{\"color\":\"black\"},\"type\":\"circle\",\"x0\":-10.5,\"x1\":10.5,\"xref\":\"x\",\"y0\":-10.5,\"y1\":10.5,\"yref\":\"y\"},{\"line\":{\"color\":\"black\"},\"type\":\"circle\",\"x0\":-55,\"x1\":55,\"xref\":\"x\",\"y0\":-55,\"y1\":55,\"yref\":\"y\"}]},                        {\"responsive\": true}                    ).then(function(){\n                            \nvar gd = document.getElementById('3ee9613c-7765-44cf-9775-2fba2f517683');\nvar x = new MutationObserver(function (mutations, observer) {{\n        var display = window.getComputedStyle(gd).display;\n        if (!display || display === 'none') {{\n            console.log([gd, 'removed!']);\n            Plotly.purge(gd);\n            observer.disconnect();\n        }}\n}});\n\n// Listen for the removal of the full notebook cells\nvar notebookContainer = gd.closest('#notebook-container');\nif (notebookContainer) {{\n    x.observe(notebookContainer, {childList: true});\n}}\n\n// Listen for the clearing of the current output cell\nvar outputEl = gd.closest('.output');\nif (outputEl) {{\n    x.observe(outputEl, {childList: true});\n}}\n\n                        })                };                            </script>        </div>\n</body>\n</html>"
                },
                "metadata": {}
              }
            ]
          }
        },
        "ed531c138f2849f7a8bf5a0cad148635": {
          "model_module": "@jupyter-widgets/base",
          "model_name": "LayoutModel",
          "model_module_version": "1.2.0",
          "state": {
            "_model_module": "@jupyter-widgets/base",
            "_model_module_version": "1.2.0",
            "_model_name": "LayoutModel",
            "_view_count": null,
            "_view_module": "@jupyter-widgets/base",
            "_view_module_version": "1.2.0",
            "_view_name": "LayoutView",
            "align_content": null,
            "align_items": null,
            "align_self": null,
            "border": null,
            "bottom": null,
            "display": null,
            "flex": null,
            "flex_flow": null,
            "grid_area": null,
            "grid_auto_columns": null,
            "grid_auto_flow": null,
            "grid_auto_rows": null,
            "grid_column": null,
            "grid_gap": null,
            "grid_row": null,
            "grid_template_areas": null,
            "grid_template_columns": null,
            "grid_template_rows": null,
            "height": null,
            "justify_content": null,
            "justify_items": null,
            "left": null,
            "margin": null,
            "max_height": null,
            "max_width": null,
            "min_height": null,
            "min_width": null,
            "object_fit": null,
            "object_position": null,
            "order": null,
            "overflow": null,
            "overflow_x": null,
            "overflow_y": null,
            "padding": null,
            "right": null,
            "top": null,
            "visibility": null,
            "width": null
          }
        },
        "cbb9eca0621f4b349a50d8bf87795112": {
          "model_module": "@jupyter-widgets/controls",
          "model_name": "FloatSliderModel",
          "model_module_version": "1.5.0",
          "state": {
            "_dom_classes": [],
            "_model_module": "@jupyter-widgets/controls",
            "_model_module_version": "1.5.0",
            "_model_name": "FloatSliderModel",
            "_view_count": null,
            "_view_module": "@jupyter-widgets/controls",
            "_view_module_version": "1.5.0",
            "_view_name": "FloatSliderView",
            "continuous_update": true,
            "description": "z0",
            "description_tooltip": null,
            "disabled": false,
            "layout": "IPY_MODEL_ea82227c00204597ab7558521b631bbb",
            "max": 175,
            "min": 0,
            "orientation": "horizontal",
            "readout": true,
            "readout_format": ".2f",
            "step": 0.1,
            "style": "IPY_MODEL_9d1ef0a5087a422291e87745fb97a598",
            "value": 111.5
          }
        },
        "4e7652d488ce4832be951d7e66ae8219": {
          "model_module": "@jupyter-widgets/controls",
          "model_name": "FloatSliderModel",
          "model_module_version": "1.5.0",
          "state": {
            "_dom_classes": [],
            "_model_module": "@jupyter-widgets/controls",
            "_model_module_version": "1.5.0",
            "_model_name": "FloatSliderModel",
            "_view_count": null,
            "_view_module": "@jupyter-widgets/controls",
            "_view_module_version": "1.5.0",
            "_view_name": "FloatSliderView",
            "continuous_update": true,
            "description": "pz",
            "description_tooltip": null,
            "disabled": false,
            "layout": "IPY_MODEL_a6329ea866ef467b9225ae99d13e1e3f",
            "max": 1,
            "min": -1,
            "orientation": "horizontal",
            "readout": true,
            "readout_format": ".2f",
            "step": 0.01,
            "style": "IPY_MODEL_75a19db2bedf46db9e6bfbaec2b7986f",
            "value": 0
          }
        },
        "851d4d669a174315bc41e2c56bbea669": {
          "model_module": "@jupyter-widgets/base",
          "model_name": "LayoutModel",
          "model_module_version": "1.2.0",
          "state": {
            "_model_module": "@jupyter-widgets/base",
            "_model_module_version": "1.2.0",
            "_model_name": "LayoutModel",
            "_view_count": null,
            "_view_module": "@jupyter-widgets/base",
            "_view_module_version": "1.2.0",
            "_view_name": "LayoutView",
            "align_content": null,
            "align_items": null,
            "align_self": null,
            "border": null,
            "bottom": null,
            "display": null,
            "flex": null,
            "flex_flow": "row wrap",
            "grid_area": null,
            "grid_auto_columns": null,
            "grid_auto_flow": null,
            "grid_auto_rows": null,
            "grid_column": null,
            "grid_gap": null,
            "grid_row": null,
            "grid_template_areas": null,
            "grid_template_columns": null,
            "grid_template_rows": null,
            "height": null,
            "justify_content": null,
            "justify_items": null,
            "left": null,
            "margin": null,
            "max_height": null,
            "max_width": null,
            "min_height": null,
            "min_width": null,
            "object_fit": null,
            "object_position": null,
            "order": null,
            "overflow": null,
            "overflow_x": null,
            "overflow_y": null,
            "padding": null,
            "right": null,
            "top": null,
            "visibility": null,
            "width": null
          }
        },
        "aafa04ca217e48b89054d8f901b870c5": {
          "model_module": "@jupyter-widgets/base",
          "model_name": "LayoutModel",
          "model_module_version": "1.2.0",
          "state": {
            "_model_module": "@jupyter-widgets/base",
            "_model_module_version": "1.2.0",
            "_model_name": "LayoutModel",
            "_view_count": null,
            "_view_module": "@jupyter-widgets/base",
            "_view_module_version": "1.2.0",
            "_view_name": "LayoutView",
            "align_content": null,
            "align_items": null,
            "align_self": null,
            "border": null,
            "bottom": null,
            "display": null,
            "flex": null,
            "flex_flow": null,
            "grid_area": null,
            "grid_auto_columns": null,
            "grid_auto_flow": null,
            "grid_auto_rows": null,
            "grid_column": null,
            "grid_gap": null,
            "grid_row": null,
            "grid_template_areas": null,
            "grid_template_columns": null,
            "grid_template_rows": null,
            "height": null,
            "justify_content": null,
            "justify_items": null,
            "left": null,
            "margin": null,
            "max_height": null,
            "max_width": null,
            "min_height": null,
            "min_width": null,
            "object_fit": null,
            "object_position": null,
            "order": null,
            "overflow": null,
            "overflow_x": null,
            "overflow_y": null,
            "padding": null,
            "right": null,
            "top": null,
            "visibility": null,
            "width": null
          }
        },
        "ea82227c00204597ab7558521b631bbb": {
          "model_module": "@jupyter-widgets/base",
          "model_name": "LayoutModel",
          "model_module_version": "1.2.0",
          "state": {
            "_model_module": "@jupyter-widgets/base",
            "_model_module_version": "1.2.0",
            "_model_name": "LayoutModel",
            "_view_count": null,
            "_view_module": "@jupyter-widgets/base",
            "_view_module_version": "1.2.0",
            "_view_name": "LayoutView",
            "align_content": null,
            "align_items": null,
            "align_self": null,
            "border": null,
            "bottom": null,
            "display": null,
            "flex": null,
            "flex_flow": null,
            "grid_area": null,
            "grid_auto_columns": null,
            "grid_auto_flow": null,
            "grid_auto_rows": null,
            "grid_column": null,
            "grid_gap": null,
            "grid_row": null,
            "grid_template_areas": null,
            "grid_template_columns": null,
            "grid_template_rows": null,
            "height": null,
            "justify_content": null,
            "justify_items": null,
            "left": null,
            "margin": null,
            "max_height": null,
            "max_width": null,
            "min_height": null,
            "min_width": null,
            "object_fit": null,
            "object_position": null,
            "order": null,
            "overflow": null,
            "overflow_x": null,
            "overflow_y": null,
            "padding": null,
            "right": null,
            "top": null,
            "visibility": null,
            "width": null
          }
        },
        "9d1ef0a5087a422291e87745fb97a598": {
          "model_module": "@jupyter-widgets/controls",
          "model_name": "SliderStyleModel",
          "model_module_version": "1.5.0",
          "state": {
            "_model_module": "@jupyter-widgets/controls",
            "_model_module_version": "1.5.0",
            "_model_name": "SliderStyleModel",
            "_view_count": null,
            "_view_module": "@jupyter-widgets/base",
            "_view_module_version": "1.2.0",
            "_view_name": "StyleView",
            "description_width": "",
            "handle_color": null
          }
        },
        "a6329ea866ef467b9225ae99d13e1e3f": {
          "model_module": "@jupyter-widgets/base",
          "model_name": "LayoutModel",
          "model_module_version": "1.2.0",
          "state": {
            "_model_module": "@jupyter-widgets/base",
            "_model_module_version": "1.2.0",
            "_model_name": "LayoutModel",
            "_view_count": null,
            "_view_module": "@jupyter-widgets/base",
            "_view_module_version": "1.2.0",
            "_view_name": "LayoutView",
            "align_content": null,
            "align_items": null,
            "align_self": null,
            "border": null,
            "bottom": null,
            "display": null,
            "flex": null,
            "flex_flow": null,
            "grid_area": null,
            "grid_auto_columns": null,
            "grid_auto_flow": null,
            "grid_auto_rows": null,
            "grid_column": null,
            "grid_gap": null,
            "grid_row": null,
            "grid_template_areas": null,
            "grid_template_columns": null,
            "grid_template_rows": null,
            "height": null,
            "justify_content": null,
            "justify_items": null,
            "left": null,
            "margin": null,
            "max_height": null,
            "max_width": null,
            "min_height": null,
            "min_width": null,
            "object_fit": null,
            "object_position": null,
            "order": null,
            "overflow": null,
            "overflow_x": null,
            "overflow_y": null,
            "padding": null,
            "right": null,
            "top": null,
            "visibility": null,
            "width": null
          }
        },
        "75a19db2bedf46db9e6bfbaec2b7986f": {
          "model_module": "@jupyter-widgets/controls",
          "model_name": "SliderStyleModel",
          "model_module_version": "1.5.0",
          "state": {
            "_model_module": "@jupyter-widgets/controls",
            "_model_module_version": "1.5.0",
            "_model_name": "SliderStyleModel",
            "_view_count": null,
            "_view_module": "@jupyter-widgets/base",
            "_view_module_version": "1.2.0",
            "_view_name": "StyleView",
            "description_width": "",
            "handle_color": null
          }
        }
      }
    }
  },
  "cells": [
    {
      "cell_type": "markdown",
      "metadata": {
        "id": "view-in-github",
        "colab_type": "text"
      },
      "source": [
        "<a href=\"https://colab.research.google.com/github/duberii/pid-playground/blob/main/activities/Drift_Chambers.ipynb\" target=\"_parent\"><img src=\"https://colab.research.google.com/assets/colab-badge.svg\" alt=\"Open In Colab\"/></a>"
      ]
    },
    {
      "cell_type": "markdown",
      "source": [
        "# **Drift Chambers and Tracks**\n",
        "---\n",
        "Welcome to Particle Identification Playground! In this activity, you will get a brief introduction to drift chambers and tracks.\n",
        "\n",
        "**Before attempting this notebook, complete all of the activities in the Getting Started section.**\n",
        "\n",
        "**After completing this notebook, you will be able to:**\n",
        "*   Describe the role of drift chambers in a particle detector\n",
        "*   Define tracks and hits\n",
        "*   Identify which particles leave tracks\n",
        "*   Use individual hits to determine the position of a track\n",
        "*   Find the momentum and charge of a particle based on the curvature of a track"
      ],
      "metadata": {
        "id": "c121h0MmoXoe"
      }
    },
    {
      "cell_type": "code",
      "source": [
        "#@title Run this cell before starting\n",
        "from IPython.display import YouTubeVideo\n",
        "import plotly.express as pxp\n",
        "import pandas as pd\n",
        "import numpy as np\n",
        "import ipywidgets as widgets\n",
        "import plotly\n",
        "from ipywidgets import interact, interactive, fixed, interact_manual, widgets, HBox, VBox, Layout\n",
        "import plotly.graph_objects as go\n",
        "import matplotlib.pyplot as plt\n",
        "from google.colab import output\n",
        "import xml.etree.ElementTree as ET\n",
        "import warnings\n",
        "data =pd.DataFrame()\n",
        "warnings.filterwarnings(\"ignore\")\n",
        "output.enable_custom_widget_manager()\n",
        "!wget -q https://github.com/JeffersonLab/hdds/raw/master/CentralDC_HDDS.xml\n",
        "!wget -q https://github.com/duberii/pid-playground/raw/main/data/track_fitting_events.hdf5\n",
        "track_fitting_events = pd.read_hdf(\"track_fitting_events.hdf5\",\"event1\")\n",
        "B = 1.7\n",
        "tree =ET.parse(\"CentralDC_HDDS.xml\")\n",
        "root = tree.getroot()\n",
        "n_wires_per_ring = [0]\n",
        "wire_to_ring = [0]\n",
        "positionsMatrix = []\n",
        "ar = []\n",
        "\n",
        "def degrees_to_radians(degrees):\n",
        "  return degrees*np.pi/180\n",
        "\n",
        "for tag in [j for j in root.findall(\"composition\") if j.get(\"name\")==\"CDClayers\"][0]:\n",
        "  if tag.tag == \"mposPhi\":\n",
        "    positionsMatrix.append([])\n",
        "    n_wires_per_ring.append(int(tag.get('ncopy')))\n",
        "    R_Z = float(tag.get(\"R_Z\").split()[0])\n",
        "    Phi0 = degrees_to_radians(float(tag.get(\"Phi0\")))\n",
        "    if tag.get(\"volume\") == 'CDCstrawShort':\n",
        "      dPhi = degrees_to_radians(float(tag.get(\"dPhi\")))\n",
        "      for i in range(int(tag.get(\"ncopy\"))):\n",
        "        ar.append({'pos':[[R_Z*np.cos(Phi0+i*dPhi),R_Z*np.sin(Phi0+i*dPhi),0],[R_Z*np.cos(Phi0+i*dPhi),R_Z*np.sin(Phi0+i*dPhi),150]],'ring':int(tag.find(\"ring\").get(\"value\")),'straw':i+1})\n",
        "        positionsMatrix[-1].append(ar[-1]['pos'])\n",
        "    if tag.get(\"volume\") == 'CDCstrawLong':\n",
        "      n_wires_per_ring.append(int(tag.get('ncopy')))\n",
        "      dPhi = 2*np.pi/int(tag.get(\"ncopy\"))\n",
        "      rot = degrees_to_radians(float(tag.get('rot').split()[0]))\n",
        "      for i in range(int(tag.get(\"ncopy\"))):\n",
        "        ar.append({'pos':[[R_Z*np.cos(Phi0+i*dPhi)+75*np.tan(rot)*np.sin(Phi0+i*dPhi),R_Z*np.sin(Phi0+i*dPhi)-75*np.tan(rot)*np.cos(Phi0+i*dPhi),0],[R_Z*np.cos(Phi0+i*dPhi)-75*np.tan(rot)*np.sin(Phi0+i*dPhi),R_Z*np.sin(Phi0+i*dPhi)+75*np.tan(rot)*np.cos(Phi0+i*dPhi),150]],'ring':int(tag.find(\"ring\").get(\"value\")),'straw':i+1})\n",
        "        positionsMatrix[-1].append(ar[-1]['pos'])\n",
        "wire_positions_df = pd.DataFrame.from_records(ar)\n",
        "\n",
        "def x_coord(r_curvature, theta_curvature,center_x, t,q):\n",
        "  return r_curvature*np.cos(theta_curvature-q*t) + center_x\n",
        "\n",
        "def y_coord(r_curvature,theta_curvature,center_y, t,q):\n",
        "  return r_curvature*np.sin(theta_curvature-q*t)+ center_y\n",
        "\n",
        "def ring_wire_to_x_y(rings, wires,s, dataframe=False):\n",
        "  if dataframe:\n",
        "    df = pd.DataFrame()\n",
        "    df['ring'] = rings\n",
        "    df['wire'] = wires\n",
        "    if not isinstance(s,float) and not isinstance(s, int):\n",
        "      df['x'] = [positionsMatrix[int(rings[i]-1)][int(wires[i]-1)][0][0]*(1-s[i]) + s[i]* positionsMatrix[int(rings[i]-1)][int(wires[i]-1)][1][0] for i in range(len(wires))]\n",
        "      df['y'] = [positionsMatrix[int(rings[i]-1)][int(wires[i]-1)][0][1]*(1-s[i]) + s[i]* positionsMatrix[int(rings[i]-1)][int(wires[i]-1)][1][1] for i in range(len(wires))]\n",
        "    else:\n",
        "      df['x'] = [positionsMatrix[int(rings[i]-1)][int(wires[i]-1)][0][0]*(1-s) + s* positionsMatrix[int(rings[i]-1)][int(wires[i]-1)][1][0] for i in range(len(wires))]\n",
        "      df['y'] = [positionsMatrix[int(rings[i]-1)][int(wires[i]-1)][0][1]*(1-s) + s* positionsMatrix[int(rings[i]-1)][int(wires[i]-1)][1][1] for i in range(len(wires))]\n",
        "    return df\n",
        "  else:\n",
        "    if not isinstance(s,float) and not isinstance(s, int):\n",
        "      new_x = np.array([positionsMatrix[int(rings[i]-1)][int(wires[i]-1)][0][0]*(1-s[i]) + s[i]* positionsMatrix[int(rings[i]-1)][int(wires[i]-1)][1][0] for i in range(len(wires))])\n",
        "      new_y = np.array([positionsMatrix[int(rings[i]-1)][int(wires[i]-1)][0][1]*(1-s[i]) + s[i]* positionsMatrix[int(rings[i]-1)][int(wires[i]-1)][1][1] for i in range(len(wires))])\n",
        "    else:\n",
        "      new_x = np.array([positionsMatrix[int(rings[i]-1)][int(wires[i]-1)][0][0]*(1-s) + s* positionsMatrix[int(rings[i]-1)][int(wires[i]-1)][1][0] for i in range(len(wires))])\n",
        "      new_y = np.array([positionsMatrix[int(rings[i]-1)][int(wires[i]-1)][0][1]*(1-s) + s* positionsMatrix[int(rings[i]-1)][int(wires[i]-1)][1][1] for i in range(len(wires))])\n",
        "    return new_x, new_y\n",
        "\n",
        "def get_charge(ptype):\n",
        "  if ptype in [\"Electron\", \"Muon\", \"Pi-\", \"K-\",'AntiProton']:\n",
        "    return -1\n",
        "  else:\n",
        "    return 1\n",
        "\n",
        "class CDC_plot():\n",
        "  def __init__(self, title, event=0, showTrack = False, showHits = False, showlegend=False):\n",
        "    self.figure = go.FigureWidget()\n",
        "    self.figure.update_layout(xaxis_range=[-60,60], yaxis_range=[-60,60],width=500,height=500,showlegend=showlegend,title=title,xaxis_title=\"X\", yaxis_title=\"Y\")\n",
        "    self.figure.add_shape(type=\"circle\", xref=\"x\", yref=\"y\", x0=-10.5, y0=-10.5, x1=10.5, y1=10.5, line_color=\"black\")\n",
        "    self.figure.add_shape(type=\"circle\", xref=\"x\", yref=\"y\", x0=-55, y0=-55, x1=55, y1=55, line_color=\"black\")\n",
        "    if not isinstance(event, int):\n",
        "      showHits = True\n",
        "      self.charge = get_charge(event[\"particle\"])\n",
        "      self.px = event['px']\n",
        "      self.py = event['py']\n",
        "      self.pz = event['pz']\n",
        "      self.vz = event['vz']\n",
        "      self.ring = event['ring']\n",
        "      self.straw = event['straw']\n",
        "      df = ring_wire_to_x_y(self.ring,self.straw,75,dataframe=True)\n",
        "      self.figure.add_scatter(x=df['x'].to_numpy(),y=df['y'].to_numpy(),mode='markers',text = [\"Ring: \" + str(row['ring']) + \"\\n Wire: \" + str(row['wire']) for row in df.iloc],hoverinfo='text',marker={\"size\":3})\n",
        "    if showTrack:\n",
        "      self.figure.add_scatter(mode='lines',name='track',marker={\"color\":'red'})\n",
        "  def show(self):\n",
        "    self.figure.show()\n",
        "  def update_layout(self, *args, **kwargs):\n",
        "    self.figure.update_layout(*args, **kwargs)\n",
        "  def update(self, *args, **kwargs):\n",
        "    self.figure.update(*args, **kwargs)\n",
        "  def display(self,*args,**kwargs):\n",
        "    widget=interactive(*args,**kwargs)\n",
        "    controls = HBox(widget.children[:-1], layout = Layout(flex_flow='row wrap'))\n",
        "    output = widget.children[-1]\n",
        "    display(VBox([controls, output]))\n",
        "  def update_figure(self, z0=0,px=0,py=0,charge=1,pz=0,t_max = np.pi, show_track = True, show_hits = True):\n",
        "    B=1.7\n",
        "    p = (px**2 + py**2 + pz**2)**0.5\n",
        "    try:\n",
        "      z_angle = np.arcsin(pz/p)\n",
        "    except:\n",
        "      z_angle = 0\n",
        "    center_x = charge*330*py/B\n",
        "    center_y = -1*charge*330*px/B\n",
        "    r_curvature = (center_x**2 + center_y**2)**0.5\n",
        "    theta_curvature = np.arctan2(-1*center_y,-1*center_x)\n",
        "    if show_hits:\n",
        "      new_x,new_y = ring_wire_to_x_y(self.ring,self.straw,z0/175)\n",
        "      theta_hits= np.arctan2(new_y-center_y,new_x-center_x)\n",
        "      for i in range(len(theta_hits)):\n",
        "        theta_hits[i]-= theta_curvature\n",
        "        theta_hits[i] = theta_hits[i] * -1 * charge\n",
        "        if theta_hits[i] <0:\n",
        "          theta_hits[i] += 2*np.pi\n",
        "      for i in range(len(self.ring)):\n",
        "        new_x,new_y = ring_wire_to_x_y(self.ring,self.straw,[(z0 +r_curvature*theta_hits[i]*np.tan(z_angle))/175 for i in range(len(self.ring))])\n",
        "    if show_track:\n",
        "      t_curve = np.linspace(0,t_max,1000)\n",
        "      x_track = x_coord(r_curvature,theta_curvature,center_x,t_curve,charge)\n",
        "      y_track = y_coord(r_curvature,theta_curvature,center_y,t_curve,charge)\n",
        "    with fig.figure.batch_update():\n",
        "      if show_track:\n",
        "        fig.figure.data[len(fig.figure.data)-1]['x']=x_track\n",
        "        fig.figure.data[len(fig.figure.data)-1]['y']=y_track\n",
        "      fig.update_layout(width=500,height=500,showlegend=False)\n",
        "      if show_hits:\n",
        "        fig.figure.data[0]['x']=new_x\n",
        "        fig.figure.data[0]['y']=new_y\n",
        "    fig.show()\n",
        "  def distance_to_curve(self,x,y):\n",
        "    center_x = self.charge*330*self.py/1.7\n",
        "    center_y = -330*self.charge*self.px/1.7\n",
        "    r_curvature = (center_x**2 + center_y**2)**0.5\n",
        "    distance_to_nearest_curve_point = abs(r_curvature-((x-center_x)**2+(y-center_y)**2)**0.5)\n",
        "    return distance_to_nearest_curve_point\n",
        "  def calculate_rmse(self,x_points, y_points):\n",
        "    mse = sum([self.distance_to_curve(x_points[j],y_points[j])**2 for j in range(len(x_points))])/len(x_points)\n",
        "    rmse = mse**0.5\n",
        "    return rmse\n",
        "  def calc_z0(self, quiet=False, return_rmse=False):\n",
        "    rmses = {}\n",
        "    center_x = self.charge*330*self.py/B\n",
        "    center_y = -330*self.charge*self.px/B\n",
        "    for z in np.linspace(0,150,151):\n",
        "      new_x, new_y = ring_wire_to_x_y(self.ring, self.straw,z/175)\n",
        "      rmses[z] = self.calculate_rmse(new_x,new_y)\n",
        "    if quiet and return_rmse:\n",
        "      return min(rmses, key=rmses.get), min(list(rmses.values()))\n",
        "    elif quiet:\n",
        "      return min(rmses, key=rmses.get)\n",
        "    elif return_rmse:\n",
        "      min(list(rmses.values()))\n",
        "    else:\n",
        "      print(\"The true z value is about \" + str(min(rmses, key=rmses.get)))\n",
        "\n",
        "  def show_answer(self, charge=True,px=True,py=True,pz=False,z0=False,but=\"\", every=False):\n",
        "    if z0 or all([every,but != \"z0\"]):\n",
        "      self.calc_z0()\n",
        "    if charge or all([every,but != \"charge\"]):\n",
        "      print(\"The charge of the particle is \" + str(self.charge))\n",
        "    if px or all([every,but != \"px\"]):\n",
        "      print(\"The x component of momentum is \" + str(round(self.px, 2)))\n",
        "    if py or all([every,but != \"py\"]):\n",
        "      print(\"The y component of momentum is \" + str(round(self.py, 2)))\n",
        "    if pz or all([every,but != \"pz\"]):\n",
        "      print(\"The z component of momentum is \" + str(round(self.pz, 2)))\n",
        "\n",
        "class wire_plot():\n",
        "  def __init__(self,rings,title, showlegend=True):\n",
        "    self.figure = go.FigureWidget()\n",
        "    self.figure.update_layout(xaxis_range=[-60,60], yaxis_range=[-60,60],width=500,height=500,showlegend=showlegend,title=title,xaxis_title=\"X\", yaxis_title=\"Y\")\n",
        "    self.figure.add_shape(type=\"circle\", xref=\"x\", yref=\"y\", x0=-10.5, y0=-10.5, x1=10.5, y1=10.5, line_color=\"black\")\n",
        "    self.figure.add_shape(type=\"circle\", xref=\"x\", yref=\"y\", x0=-55, y0=-55, x1=55, y1=55, line_color=\"black\")\n",
        "    for ring in rings:\n",
        "      self.figure.add_scatter(mode='markers',name=\"Ring \" + str(ring),marker={\"size\":3},hoverinfo='text',text = ['Ring: ' + str(ring) + \"\\n Wire: \" + str(k) for k in range(len(positionsMatrix[int(ring)-1]))])\n",
        "    self.data = []\n",
        "  def show(self):\n",
        "    self.figure.show()\n",
        "  def update_layout(self, *args, **kwargs):\n",
        "    self.figure.update_layout(*args, **kwargs)\n",
        "  def update(self, *args, **kwargs):\n",
        "    self.figure.update(*args, **kwargs)\n",
        "  def display(self,*args,**kwargs):\n",
        "    widget=interactive(*args,**kwargs)\n",
        "    controls = HBox(widget.children[:-1], layout = Layout(flex_flow='row wrap'))\n",
        "    output = widget.children[-1]\n",
        "    display(VBox([controls, output]))\n",
        "  def update_figure(self,z=0, rings=[]):\n",
        "    s= z/175\n",
        "    with fig.figure.batch_update():\n",
        "      for i in range(len(rings)):\n",
        "        fig.figure.data[i]['x']=[(1-s)*wire[0][0]+ s*wire[1][0] for wire in positionsMatrix[int(rings[i])-1]]\n",
        "        fig.figure.data[i]['y']=[(1-s)*wire[0][1]+ s*wire[1][1] for wire in positionsMatrix[int(rings[i])-1]]\n",
        "    fig.show()"
      ],
      "metadata": {
        "id": "_1LEQqSP7Khd",
        "cellView": "form"
      },
      "execution_count": null,
      "outputs": []
    },
    {
      "cell_type": "markdown",
      "source": [
        "---\n",
        "##**Tracking Detectors**\n",
        "---\n",
        "**Silicon Trackers** and **Drift Chambers** are the two most common detectors that are able to measure momentum. Both of these detectors use the fact that charged particles can ionize atoms, . In this activity, we will explore drift chambers.\n",
        "\n",
        "The most important concept for momentum detectors is the idea of a **track**. A track is the path left as a charged particle passes through a momentum detector. When we observe a track in a detector, we know that there must be some particle that left that track, and our goal is to use information from the various detectors to identify the properties of that particle.\n",
        "\n",
        "Any detector that relies on the production of tracks is called a **Tracking Detector**."
      ],
      "metadata": {
        "id": "P7AK2ICKUAK6"
      }
    },
    {
      "cell_type": "code",
      "source": [
        "# @title\n",
        "YouTubeVideo(width = 560, height = 315, id=\"i15ef618DP0\")"
      ],
      "metadata": {
        "colab": {
          "base_uri": "https://localhost:8080/",
          "height": 337
        },
        "id": "3m1nN-qBjiUD",
        "outputId": "a6375a16-05fd-4294-bfaa-92fc46e0b954"
      },
      "execution_count": null,
      "outputs": [
        {
          "output_type": "execute_result",
          "data": {
            "text/plain": [
              "<IPython.lib.display.YouTubeVideo at 0x78a296d6c310>"
            ],
            "text/html": [
              "\n",
              "        <iframe\n",
              "            width=\"560\"\n",
              "            height=\"315\"\n",
              "            src=\"https://www.youtube.com/embed/i15ef618DP0\"\n",
              "            frameborder=\"0\"\n",
              "            allowfullscreen\n",
              "            \n",
              "        ></iframe>\n",
              "        "
            ],
            "image/jpeg": "[encoded data removed]"
          },
          "metadata": {},
          "execution_count": 2
        }
      ]
    },
    {
      "cell_type": "markdown",
      "source": [
        "This video is a recording of one of the first types of tracking detectors called a **cloud chamber**. Each of those puffs of smoke is a track left by a charged particle passing through the detector. This type of detector was the inspiration for the background of the [PID Playground homepage](https://duberii.github.io/pid-playground)!\n"
      ],
      "metadata": {
        "id": "BZmgZxMFHx-h"
      }
    },
    {
      "cell_type": "markdown",
      "source": [
        "---\n",
        "##**Drift Chambers**\n",
        "---\n",
        "Drift Chambers (as well as cloud chambers and silicon trackers) at their core are just boxes of gas with a grid of wires in them. These wires are extremely close to each other, often to the point where it looks like they touch (even though they do not). The GlueX detector uses a slightly modified detector called a **Straw Chamber**, which has a slightly different layout, with positively charged wires inside negatively charged tubes."
      ],
      "metadata": {
        "id": "1kuztL0OgRkX"
      }
    },
    {
      "cell_type": "markdown",
      "source": [
        "<img width=\"512\" alt=\"An image of a small piece of a drift chamber\" src=\"https://upload.wikimedia.org/wikipedia/commons/thumb/6/60/Chambre-a-derive-IMG_0524.jpg/512px-Chambre-a-derive-IMG_0524.jpg\"><br>\n",
        "<a href=\"https://commons.wikimedia.org/wiki/File:Chambre-a-derive-IMG_0524.jpg\">Rama</a>, <a href=\"https://creativecommons.org/licenses/by-sa/2.0/fr/deed.en\">CC BY-SA 2.0 FR</a>, via Wikimedia Commons"
      ],
      "metadata": {
        "id": "vNL_K7psneJt"
      }
    },
    {
      "cell_type": "markdown",
      "source": [
        "The image shown above is a cross section of a drift chamber. You may notice that it seems like the wires in the drift chamber touch, but they actually don't! The reason that these wires are so close together is to ensure that our measurements of the position of the track are as precise as possible.\n",
        "\n",
        "As a charged particle passes through the gas of the drift chamber, it knocks electrons off the atoms in the gas. The wires in a drift chamber are positively charged, so these electrons are attracted to the nearest wire. Once the electrons reach the wire, they will produce a small pulse of current in the wire, which can be detected. Each of these pulses of current is called a **hit**, and we can use the path traced out by these hits to determine the shape of the track."
      ],
      "metadata": {
        "id": "IEWpUeC1oqS5"
      }
    },
    {
      "cell_type": "markdown",
      "source": [
        "####**Question #1:**\n",
        "---\n",
        "Which of the following particles would leave a track in a drift chamber?\n",
        "\n",
        "\n",
        "*   Photon\n",
        "*   Muon\n",
        "*   Neutron\n",
        "*   Neutrino\n",
        "*   Gluon\n",
        "*   Positive pion\n",
        "*   Neutral Kaon\n",
        "*   W boson\n"
      ],
      "metadata": {
        "id": "Nw2lfeLNQXVm"
      }
    },
    {
      "cell_type": "markdown",
      "source": [
        "Double click to edit this cell and answer the following question: Which of the following particles would leave a track in a drift chamber?"
      ],
      "metadata": {
        "id": "cmSVsKaSrq5X"
      }
    },
    {
      "cell_type": "markdown",
      "source": [
        "#####**Solution:**"
      ],
      "metadata": {
        "id": "9iwBnEgGQeBD"
      }
    },
    {
      "cell_type": "markdown",
      "source": [
        "Any charged particle would leave a track in a cloud chamber. These particles include:\n",
        "*   Muons\n",
        "*   Positive pions\n",
        "*   W bosons\n",
        "\n",
        "The remaining particles are neutral, and would not leave a track in the drift chamber."
      ],
      "metadata": {
        "id": "FkAVNc0_Qg46"
      }
    },
    {
      "cell_type": "markdown",
      "source": [
        "####**Question #2:**\n",
        "---\n",
        "In most particle detectors, particles must pass through a drift chamber (or another tracking detector) to reach other detectors. If we detect a particle in one of the other detectors, but don't see any track in the drift chamber, what could we say about the charge of the particle we detected?"
      ],
      "metadata": {
        "id": "9lVBhsmTUZ4D"
      }
    },
    {
      "cell_type": "markdown",
      "source": [
        "Double click to edit this cell and answer the following question: If we detect a particle in one of the other detectors, but don't see any track in the drift chamber, what could we say about the charge of the particle we detected?"
      ],
      "metadata": {
        "id": "5fTxZz04UZ4W"
      }
    },
    {
      "cell_type": "markdown",
      "source": [
        "#####**Solution:**"
      ],
      "metadata": {
        "id": "O3Op721ZUZ4W"
      }
    },
    {
      "cell_type": "markdown",
      "source": [
        "The particle we detected must have passed through a drift chamber. If it were charged, it would have left a track in the drift chamber, which we would have been able to detect. Because we didn't see any tracks, the particle must have been neutral."
      ],
      "metadata": {
        "id": "9WytjAXfUZ4X"
      }
    },
    {
      "cell_type": "markdown",
      "source": [
        "---\n",
        "### **Detecting Tracks**\n",
        "---\n",
        "\n",
        "We can determine the position of a track based on the location of the wire it left a signal in. For example, in the GlueX detector, the wires are arranged in rings around the center of the detector. Based on which ring we see a signal in, we can determine the radial coordinate of the hit. A **hit** is an interaction between a particle and the drift chamber, which is detected as a pulse of electricity in one wire (or possibly several wires) in the drift chamber. Based on which wire in that ring has the biggest current pulse, we can determine the angular coordinate of the hit. If you are not familiar with polar coordinates, it will be useful to read about them here: [Click here to read about polar coordinates](https://mathinsight.org/polar_coordinates).\n",
        "\n",
        "The interactive figure below can be adjusted to plot up to three layers of the wires in GlueX's central drift chamber. Setting a slider to 0 hides that ring, which allows you to plot fewer than three rings at a time. Be sure to run the cell after you change the sliders."
      ],
      "metadata": {
        "id": "zFMMblk4qSjd"
      }
    },
    {
      "cell_type": "code",
      "source": [
        "Ring_1 = 9 # @param {type:\"slider\", min:0, max:28, step:1}\n",
        "Ring_2 = 5 # @param {type:\"slider\", min:0, max:28, step:1}\n",
        "Ring_3 = 6 # @param {type:\"slider\", min:0, max:28, step:1}\n",
        "xs = []\n",
        "ys = []\n",
        "zs = []\n",
        "ring_wires = []\n",
        "rings = []\n",
        "for i in wire_positions_df.iloc:\n",
        "  if i['ring'] in [Ring_1,Ring_2,Ring_3]:\n",
        "    xs.append(i['pos'][0][0]);\n",
        "    xs.append(i['pos'][1][0]);\n",
        "    ys.append(i['pos'][0][1]);\n",
        "    ys.append(i['pos'][1][1]);\n",
        "    zs.append(i['pos'][0][2]);\n",
        "    zs.append(i['pos'][1][2]);\n",
        "    ring_wires.append(\"Ring: \"+ str(i['ring']) + \" Wire: \" + str(i['straw']))\n",
        "    ring_wires.append(\"Ring: \"+ str(i['ring']) + \" Wire: \" + str(i['straw']))\n",
        "    rings.append(i['ring'])\n",
        "    rings.append(i['ring'])\n",
        "data_to_plot = pd.DataFrame()\n",
        "data_to_plot['x'] = xs\n",
        "data_to_plot['y'] = ys\n",
        "data_to_plot['z'] = zs\n",
        "data_to_plot['Ring and Wire']=ring_wires\n",
        "data_to_plot['ring']=rings\n",
        "fig = pxp.line_3d(data_frame=data_to_plot,x='x',y='z',z='y',line_group='Ring and Wire',color='ring')\n",
        "fig.update_traces(line=dict(width=5))\n",
        "fig.update_layout(title=\"Rings of the GlueX Central Drift Chamber\",legend_title=\"Ring Number\",scene={'aspectmode':'cube','xaxis':{'range':[-60,60],\"title\":\"X\"},'yaxis':{'range':[0,175],\"title\":\"Z\"},'zaxis':{'range':[-60,60],'title':'Y'}})\n",
        "fig.show()\n"
      ],
      "metadata": {
        "colab": {
          "base_uri": "https://localhost:8080/",
          "height": 542
        },
        "id": "_mfvMeyDLsF-",
        "outputId": "dfec9cce-b18b-47cd-89d9-b2ddb8585d8e",
        "cellView": "form"
      },
      "execution_count": null,
      "outputs": [
        {
          "output_type": "display_data",
          "data": {
            "text/html": [
              "<html>\n",
              "<head><meta charset=\"utf-8\" /></head>\n",
              "<body>\n",
              "    <div>            <script src=\"https://cdnjs.cloudflare.com/ajax/libs/mathjax/2.7.5/MathJax.js?config=TeX-AMS-MML_SVG\"></script><script type=\"text/javascript\">if (window.MathJax && window.MathJax.Hub && window.MathJax.Hub.Config) {window.MathJax.Hub.Config({SVG: {font: \"STIX-Web\"}});}</script>                <script type=\"text/javascript\">window.PlotlyConfig = {MathJaxConfig: 'local'};</script>\n",
              "        <script charset=\"utf-8\" src=\"https://cdn.plot.ly/plotly-2.24.1.min.js\"></script>                <div id=\"07a36527-b844-42dc-abd0-4e2b499408ad\" class=\"plotly-graph-div\" style=\"height:525px; width:100%;\"></div>            <script type=\"text/javascript\">                                    window.PLOTLYENV=window.PLOTLYENV || {};                                    if (document.getElementById(\"07a36527-b844-42dc-abd0-4e2b499408ad\")) {                    Plotly.newPlot(                        \"07a36527-b844-42dc-abd0-4e2b499408ad\",                        [{\"hovertemplate\":\"ring=5\\u003cbr\\u003eRing and Wire=Ring: 5 Wire: 1\\u003cbr\\u003ex=%{x}\\u003cbr\\u003ez=%{y}\\u003cbr\\u003ey=%{z}\\u003cextra\\u003e\\u003c\\u002fextra\\u003e\",\"legendgroup\":\"5\",\"line\":{\"color\":\"#636efa\",\"dash\":\"solid\",\"width\":5},\"marker\":{\"symbol\":\"circle\"},\"mode\":\"lines\",\"name\":\"5\",\"scene\":\"scene\",\"showlegend\":true,\"x\":[12.789378477960556,18.64887320529633],\"y\":[0,150],\"z\":[-13.611143823008844,1.0251664235298747],\"type\":\"scatter3d\"},{\"hovertemplate\":\"ring=5\\u003cbr\\u003eRing and Wire=Ring: 5 Wire: 2\\u003cbr\\u003ex=%{x}\\u003cbr\\u003ez=%{y}\\u003cbr\\u003ey=%{z}\\u003cextra\\u003e\\u003c\\u002fextra\\u003e\",\"legendgroup\":\"5\",\"line\":{\"color\":\"#636efa\",\"dash\":\"solid\",\"width\":5},\"marker\":{\"symbol\":\"circle\"},\"mode\":\"lines\",\"name\":\"5\",\"scene\":\"scene\",\"showlegend\":false,\"x\":[14.025288658629613,18.46698139954897],\"y\":[0,150],\"z\":[-12.333803795474777,2.7932124895655175],\"type\":\"scatter3d\"},{\"hovertemplate\":\"ring=5\\u003cbr\\u003eRing and Wire=Ring: 5 Wire: 3\\u003cbr\\u003ex=%{x}\\u003cbr\\u003ez=%{y}\\u003cbr\\u003ey=%{z}\\u003cextra\\u003e\\u003c\\u002fextra\\u003e\",\"legendgroup\":\"5\",\"line\":{\"color\":\"#636efa\",\"dash\":\"solid\",\"width\":5},\"marker\":{\"symbol\":\"circle\"},\"mode\":\"lines\",\"name\":\"5\",\"scene\":\"scene\",\"showlegend\":false,\"x\":[15.134183653336441,18.11784975056448],\"y\":[0,150],\"z\":[-10.944766930832127,4.535962790756],\"type\":\"scatter3d\"},{\"hovertemplate\":\"ring=5\\u003cbr\\u003eRing and Wire=Ring: 5 Wire: 4\\u003cbr\\u003ex=%{x}\\u003cbr\\u003ez=%{y}\\u003cbr\\u003ey=%{z}\\u003cextra\\u003e\\u003c\\u002fextra\\u003e\",\"legendgroup\":\"5\",\"line\":{\"color\":\"#636efa\",\"dash\":\"solid\",\"width\":5},\"marker\":{\"symbol\":\"circle\"},\"mode\":\"lines\",\"name\":\"5\",\"scene\":\"scene\",\"showlegend\":false,\"x\":[16.10602113729234,17.604640048620443],\"y\":[0,150],\"z\":[-9.456612562024773,6.237634710502181],\"type\":\"scatter3d\"},{\"hovertemplate\":\"ring=5\\u003cbr\\u003eRing and Wire=Ring: 5 Wire: 5\\u003cbr\\u003ex=%{x}\\u003cbr\\u003ez=%{y}\\u003cbr\\u003ey=%{z}\\u003cextra\\u003e\\u003c\\u002fextra\\u003e\",\"legendgroup\":\"5\",\"line\":{\"color\":\"#636efa\",\"dash\":\"solid\",\"width\":5},\"marker\":{\"symbol\":\"circle\"},\"mode\":\"lines\",\"name\":\"5\",\"scene\":\"scene\",\"showlegend\":false,\"x\":[16.931999999749852,16.932000000250145],\"y\":[0,150],\"z\":[-7.882817645463042,7.882817644388426],\"type\":\"scatter3d\"},{\"hovertemplate\":\"ring=5\\u003cbr\\u003eRing and Wire=Ring: 5 Wire: 6\\u003cbr\\u003ex=%{x}\\u003cbr\\u003ez=%{y}\\u003cbr\\u003ey=%{z}\\u003cextra\\u003e\\u003c\\u002fextra\\u003e\",\"legendgroup\":\"5\",\"line\":{\"color\":\"#636efa\",\"dash\":\"solid\",\"width\":5},\"marker\":{\"symbol\":\"circle\"},\"mode\":\"lines\",\"name\":\"5\",\"scene\":\"scene\",\"showlegend\":false,\"x\":[17.604640048224564,16.106021137892522],\"y\":[0,150],\"z\":[-6.237634711619489,9.45661256100258],\"type\":\"scatter3d\"},{\"hovertemplate\":\"ring=5\\u003cbr\\u003eRing and Wire=Ring: 5 Wire: 7\\u003cbr\\u003ex=%{x}\\u003cbr\\u003ez=%{y}\\u003cbr\\u003ey=%{z}\\u003cextra\\u003e\\u003c\\u002fextra\\u003e\",\"legendgroup\":\"5\",\"line\":{\"color\":\"#636efa\",\"dash\":\"solid\",\"width\":5},\"marker\":{\"symbol\":\"circle\"},\"mode\":\"lines\",\"name\":\"5\",\"scene\":\"scene\",\"showlegend\":false,\"x\":[18.1178497502766,15.134183654031068],\"y\":[0,150],\"z\":[-4.535962791905877,10.944766929871612],\"type\":\"scatter3d\"},{\"hovertemplate\":\"ring=5\\u003cbr\\u003eRing and Wire=Ring: 5 Wire: 8\\u003cbr\\u003ex=%{x}\\u003cbr\\u003ez=%{y}\\u003cbr\\u003ey=%{z}\\u003cextra\\u003e\\u003c\\u002fextra\\u003e\",\"legendgroup\":\"5\",\"line\":{\"color\":\"#636efa\",\"dash\":\"solid\",\"width\":5},\"marker\":{\"symbol\":\"circle\"},\"mode\":\"lines\",\"name\":\"5\",\"scene\":\"scene\",\"showlegend\":false,\"x\":[18.466981399371697,14.025288659412396],\"y\":[0,150],\"z\":[-2.7932124907375533,12.33380379458464],\"type\":\"scatter3d\"},{\"hovertemplate\":\"ring=5\\u003cbr\\u003eRing and Wire=Ring: 5 Wire: 9\\u003cbr\\u003ex=%{x}\\u003cbr\\u003ez=%{y}\\u003cbr\\u003ey=%{z}\\u003cextra\\u003e\\u003c\\u002fextra\\u003e\",\"legendgroup\":\"5\",\"line\":{\"color\":\"#636efa\",\"dash\":\"solid\",\"width\":5},\"marker\":{\"symbol\":\"circle\"},\"mode\":\"lines\",\"name\":\"5\",\"scene\":\"scene\",\"showlegend\":false,\"x\":[18.648873205231265,12.789378478824409],\"y\":[0,150],\"z\":[-1.025166424713455,13.611143822197146],\"type\":\"scatter3d\"},{\"hovertemplate\":\"ring=5\\u003cbr\\u003eRing and Wire=Ring: 5 Wire: 10\\u003cbr\\u003ex=%{x}\\u003cbr\\u003ez=%{y}\\u003cbr\\u003ey=%{z}\\u003cextra\\u003e\\u003c\\u002fextra\\u003e\",\"legendgroup\":\"5\",\"line\":{\"color\":\"#636efa\",\"dash\":\"solid\",\"width\":5},\"marker\":{\"symbol\":\"circle\"},\"mode\":\"lines\",\"name\":\"5\",\"scene\":\"scene\",\"showlegend\":false,\"x\":[18.661877927494807,11.437645706247936],\"y\":[0,150],\"z\":[0.7521637072037972,14.76521922361807],\"type\":\"scatter3d\"},{\"hovertemplate\":\"ring=5\\u003cbr\\u003eRing and Wire=Ring: 5 Wire: 11\\u003cbr\\u003ex=%{x}\\u003cbr\\u003ez=%{y}\\u003cbr\\u003ey=%{z}\\u003cextra\\u003e\\u003c\\u002fextra\\u003e\",\"legendgroup\":\"5\",\"line\":{\"color\":\"#636efa\",\"dash\":\"solid\",\"width\":5},\"marker\":{\"symbol\":\"circle\"},\"mode\":\"lines\",\"name\":\"5\",\"scene\":\"scene\",\"showlegend\":false,\"x\":[18.505877793383668,9.982331842992432],\"y\":[0,150],\"z\":[2.5226821281131757,15.78557851329915],\"type\":\"scatter3d\"},{\"hovertemplate\":\"ring=5\\u003cbr\\u003eRing and Wire=Ring: 5 Wire: 12\\u003cbr\\u003ex=%{x}\\u003cbr\\u003ez=%{y}\\u003cbr\\u003ey=%{z}\\u003cextra\\u003e\\u003c\\u002fextra\\u003e\",\"legendgroup\":\"5\",\"line\":{\"color\":\"#636efa\",\"dash\":\"solid\",\"width\":5},\"marker\":{\"symbol\":\"circle\"},\"mode\":\"lines\",\"name\":\"5\",\"scene\":\"scene\",\"showlegend\":false,\"x\":[18.18228556426958,8.436616436764456],\"y\":[0,150],\"z\":[4.270354749023377,16.66298115950649],\"type\":\"scatter3d\"},{\"hovertemplate\":\"ring=5\\u003cbr\\u003eRing and Wire=Ring: 5 Wire: 13\\u003cbr\\u003ex=%{x}\\u003cbr\\u003ez=%{y}\\u003cbr\\u003ey=%{z}\\u003cextra\\u003e\\u003c\\u002fextra\\u003e\",\"legendgroup\":\"5\",\"line\":{\"color\":\"#636efa\",\"dash\":\"solid\",\"width\":5},\"marker\":{\"symbol\":\"circle\"},\"mode\":\"lines\",\"name\":\"5\",\"scene\":\"scene\",\"showlegend\":false,\"x\":[17.694031741488892,6.814497725642771],\"y\":[0,150],\"z\":[5.979354376045629,17.389481268006875],\"type\":\"scatter3d\"},{\"hovertemplate\":\"ring=5\\u003cbr\\u003eRing and Wire=Ring: 5 Wire: 14\\u003cbr\\u003ex=%{x}\\u003cbr\\u003ez=%{y}\\u003cbr\\u003ey=%{z}\\u003cextra\\u003e\\u003c\\u002fextra\\u003e\",\"legendgroup\":\"5\",\"line\":{\"color\":\"#636efa\",\"dash\":\"solid\",\"width\":5},\"marker\":{\"symbol\":\"circle\"},\"mode\":\"lines\",\"name\":\"5\",\"scene\":\"scene\",\"showlegend\":false,\"x\":[17.045538027268687,5.130665867866591],\"y\":[0,150],\"z\":[7.634204043912478,17.9584995413164],\"type\":\"scatter3d\"},{\"hovertemplate\":\"ring=5\\u003cbr\\u003eRing and Wire=Ring: 5 Wire: 15\\u003cbr\\u003ex=%{x}\\u003cbr\\u003ez=%{y}\\u003cbr\\u003ey=%{z}\\u003cextra\\u003e\\u003c\\u002fextra\\u003e\",\"legendgroup\":\"5\",\"line\":{\"color\":\"#636efa\",\"dash\":\"solid\",\"width\":5},\"marker\":{\"symbol\":\"circle\"},\"mode\":\"lines\",\"name\":\"5\",\"scene\":\"scene\",\"showlegend\":false,\"x\":[16.242677281106673,3.400369905487741],\"y\":[0,150],\"z\":[9.219917177771917,18.36488286183731],\"type\":\"scatter3d\"},{\"hovertemplate\":\"ring=5\\u003cbr\\u003eRing and Wire=Ring: 5 Wire: 16\\u003cbr\\u003ex=%{x}\\u003cbr\\u003ez=%{y}\\u003cbr\\u003ey=%{z}\\u003cextra\\u003e\\u003c\\u002fextra\\u003e\",\"legendgroup\":\"5\",\"line\":{\"color\":\"#636efa\",\"dash\":\"solid\",\"width\":5},\"marker\":{\"symbol\":\"circle\"},\"mode\":\"lines\",\"name\":\"5\",\"scene\":\"scene\",\"showlegend\":false,\"x\":[15.292720334246155,1.6392796666844909],\"y\":[0,150],\"z\":[10.722133313929957,18.60495095928896],\"type\":\"scatter3d\"},{\"hovertemplate\":\"ring=5\\u003cbr\\u003eRing and Wire=Ring: 5 Wire: 17\\u003cbr\\u003ex=%{x}\\u003cbr\\u003ez=%{y}\\u003cbr\\u003ey=%{z}\\u003cextra\\u003e\\u003c\\u002fextra\\u003e\",\"legendgroup\":\"5\",\"line\":{\"color\":\"#636efa\",\"dash\":\"solid\",\"width\":5},\"marker\":{\"symbol\":\"circle\"},\"mode\":\"lines\",\"name\":\"5\",\"scene\":\"scene\",\"showlegend\":false,\"x\":[14.20427014390238,-0.1366561426289925],\"y\":[0,150],\"z\":[12.12724815043363,18.676529739805364],\"type\":\"scatter3d\"},{\"hovertemplate\":\"ring=5\\u003cbr\\u003eRing and Wire=Ring: 5 Wire: 18\\u003cbr\\u003ex=%{x}\\u003cbr\\u003ez=%{y}\\u003cbr\\u003ey=%{z}\\u003cextra\\u003e\\u003c\\u002fextra\\u003e\",\"legendgroup\":\"5\",\"line\":{\"color\":\"#636efa\",\"dash\":\"solid\",\"width\":5},\"marker\":{\"symbol\":\"circle\"},\"mode\":\"lines\",\"name\":\"5\",\"scene\":\"scene\",\"showlegend\":false,\"x\":[12.987183883549775,-1.9113543727530997],\"y\":[0,150],\"z\":[13.422536749736144,18.57897097486591],\"type\":\"scatter3d\"},{\"hovertemplate\":\"ring=5\\u003cbr\\u003eRing and Wire=Ring: 5 Wire: 19\\u003cbr\\u003ex=%{x}\\u003cbr\\u003ez=%{y}\\u003cbr\\u003ey=%{z}\\u003cextra\\u003e\\u003c\\u002fextra\\u003e\",\"legendgroup\":\"5\",\"line\":{\"color\":\"#636efa\",\"dash\":\"solid\",\"width\":5},\"marker\":{\"symbol\":\"circle\"},\"mode\":\"lines\",\"name\":\"5\",\"scene\":\"scene\",\"showlegend\":false,\"x\":[11.652483674832576,-3.668743081697006],\"y\":[0,150],\"z\":[14.596268777701813,18.313158171753248],\"type\":\"scatter3d\"},{\"hovertemplate\":\"ring=5\\u003cbr\\u003eRing and Wire=Ring: 5 Wire: 20\\u003cbr\\u003ex=%{x}\\u003cbr\\u003ez=%{y}\\u003cbr\\u003ey=%{z}\\u003cextra\\u003e\\u003c\\u002fextra\\u003e\",\"legendgroup\":\"5\",\"line\":{\"color\":\"#636efa\",\"dash\":\"solid\",\"width\":5},\"marker\":{\"symbol\":\"circle\"},\"mode\":\"lines\",\"name\":\"5\",\"scene\":\"scene\",\"showlegend\":false,\"x\":[10.212256769524352,-5.392907085174146],\"y\":[0,150],\"z\":[15.637814735328481,17.881498572374493],\"type\":\"scatter3d\"},{\"hovertemplate\":\"ring=5\\u003cbr\\u003eRing and Wire=Ring: 5 Wire: 21\\u003cbr\\u003ex=%{x}\\u003cbr\\u003ez=%{y}\\u003cbr\\u003ey=%{z}\\u003cextra\\u003e\\u003c\\u002fextra\\u003e\",\"legendgroup\":\"5\",\"line\":{\"color\":\"#636efa\",\"dash\":\"solid\",\"width\":5},\"marker\":{\"symbol\":\"circle\"},\"mode\":\"lines\",\"name\":\"5\",\"scene\":\"scene\",\"showlegend\":false,\"x\":[8.679546085504237,-7.068232086975625],\"y\":[0,150],\"z\":[16.53774222113649,17.287901352905756],\"type\":\"scatter3d\"},{\"hovertemplate\":\"ring=5\\u003cbr\\u003eRing and Wire=Ring: 5 Wire: 22\\u003cbr\\u003ex=%{x}\\u003cbr\\u003ez=%{y}\\u003cbr\\u003ey=%{z}\\u003cextra\\u003e\\u003c\\u002fextra\\u003e\",\"legendgroup\":\"5\",\"line\":{\"color\":\"#636efa\",\"dash\":\"solid\",\"width\":5},\"marker\":{\"symbol\":\"circle\"},\"mode\":\"lines\",\"name\":\"5\",\"scene\":\"scene\",\"showlegend\":false,\"x\":[7.068232088072831,-8.67954608445464],\"y\":[0,150],\"z\":[17.287901352457155,16.537742221687353],\"type\":\"scatter3d\"},{\"hovertemplate\":\"ring=5\\u003cbr\\u003eRing and Wire=Ring: 5 Wire: 23\\u003cbr\\u003ex=%{x}\\u003cbr\\u003ez=%{y}\\u003cbr\\u003ey=%{z}\\u003cextra\\u003e\\u003c\\u002fextra\\u003e\",\"legendgroup\":\"5\",\"line\":{\"color\":\"#636efa\",\"dash\":\"solid\",\"width\":5},\"marker\":{\"symbol\":\"circle\"},\"mode\":\"lines\",\"name\":\"5\",\"scene\":\"scene\",\"showlegend\":false,\"x\":[5.392907086309027,-10.212256768531871],\"y\":[0,150],\"z\":[17.88149857203222,15.637814735976619],\"type\":\"scatter3d\"},{\"hovertemplate\":\"ring=5\\u003cbr\\u003eRing and Wire=Ring: 5 Wire: 24\\u003cbr\\u003ex=%{x}\\u003cbr\\u003ez=%{y}\\u003cbr\\u003ey=%{z}\\u003cextra\\u003e\\u003c\\u002fextra\\u003e\",\"legendgroup\":\"5\",\"line\":{\"color\":\"#636efa\",\"dash\":\"solid\",\"width\":5},\"marker\":{\"symbol\":\"circle\"},\"mode\":\"lines\",\"name\":\"5\",\"scene\":\"scene\",\"showlegend\":false,\"x\":[3.6687430828592817,-11.652483673906199],\"y\":[0,150],\"z\":[18.313158171520406,14.596268778441356],\"type\":\"scatter3d\"},{\"hovertemplate\":\"ring=5\\u003cbr\\u003eRing and Wire=Ring: 5 Wire: 25\\u003cbr\\u003ex=%{x}\\u003cbr\\u003ez=%{y}\\u003cbr\\u003ey=%{z}\\u003cextra\\u003e\\u003c\\u002fextra\\u003e\",\"legendgroup\":\"5\",\"line\":{\"color\":\"#636efa\",\"dash\":\"solid\",\"width\":5},\"marker\":{\"symbol\":\"circle\"},\"mode\":\"lines\",\"name\":\"5\",\"scene\":\"scene\",\"showlegend\":false,\"x\":[1.9113543739322418,-12.987183882697895],\"y\":[0,150],\"z\":[18.578970974744607,13.422536750560397],\"type\":\"scatter3d\"},{\"hovertemplate\":\"ring=5\\u003cbr\\u003eRing and Wire=Ring: 5 Wire: 26\\u003cbr\\u003ex=%{x}\\u003cbr\\u003ez=%{y}\\u003cbr\\u003ey=%{z}\\u003cextra\\u003e\\u003c\\u002fextra\\u003e\",\"legendgroup\":\"5\",\"line\":{\"color\":\"#636efa\",\"dash\":\"solid\",\"width\":5},\"marker\":{\"symbol\":\"circle\"},\"mode\":\"lines\",\"name\":\"5\",\"scene\":\"scene\",\"showlegend\":false,\"x\":[0.13665614381432611,-14.204270143132705],\"y\":[0,150],\"z\":[18.676529739796692,12.127248151335126],\"type\":\"scatter3d\"},{\"hovertemplate\":\"ring=5\\u003cbr\\u003eRing and Wire=Ring: 5 Wire: 27\\u003cbr\\u003ex=%{x}\\u003cbr\\u003ez=%{y}\\u003cbr\\u003ey=%{z}\\u003cextra\\u003e\\u003c\\u002fextra\\u003e\",\"legendgroup\":\"5\",\"line\":{\"color\":\"#636efa\",\"dash\":\"solid\",\"width\":5},\"marker\":{\"symbol\":\"circle\"},\"mode\":\"lines\",\"name\":\"5\",\"scene\":\"scene\",\"showlegend\":false,\"x\":[-1.6392796655036923,-15.292720333565654],\"y\":[0,150],\"z\":[18.604950959393,10.722133314900537],\"type\":\"scatter3d\"},{\"hovertemplate\":\"ring=5\\u003cbr\\u003eRing and Wire=Ring: 5 Wire: 28\\u003cbr\\u003ex=%{x}\\u003cbr\\u003ez=%{y}\\u003cbr\\u003ey=%{z}\\u003cextra\\u003e\\u003c\\u002fextra\\u003e\",\"legendgroup\":\"5\",\"line\":{\"color\":\"#636efa\",\"dash\":\"solid\",\"width\":5},\"marker\":{\"symbol\":\"circle\"},\"mode\":\"lines\",\"name\":\"5\",\"scene\":\"scene\",\"showlegend\":false,\"x\":[-3.400369904322182,-16.242677280521512],\"y\":[0,150],\"z\":[18.364882862053122,9.219917178802786],\"type\":\"scatter3d\"},{\"hovertemplate\":\"ring=5\\u003cbr\\u003eRing and Wire=Ring: 5 Wire: 29\\u003cbr\\u003ex=%{x}\\u003cbr\\u003ez=%{y}\\u003cbr\\u003ey=%{z}\\u003cextra\\u003e\\u003c\\u002fextra\\u003e\",\"legendgroup\":\"5\",\"line\":{\"color\":\"#636efa\",\"dash\":\"solid\",\"width\":5},\"marker\":{\"symbol\":\"circle\"},\"mode\":\"lines\",\"name\":\"5\",\"scene\":\"scene\",\"showlegend\":false,\"x\":[-5.130665866726822,-17.04553802678417],\"y\":[0,150],\"z\":[17.958499541642023,7.634204044994302],\"type\":\"scatter3d\"},{\"hovertemplate\":\"ring=5\\u003cbr\\u003eRing and Wire=Ring: 5 Wire: 30\\u003cbr\\u003ex=%{x}\\u003cbr\\u003ez=%{y}\\u003cbr\\u003ey=%{z}\\u003cextra\\u003e\\u003c\\u002fextra\\u003e\",\"legendgroup\":\"5\",\"line\":{\"color\":\"#636efa\",\"dash\":\"solid\",\"width\":5},\"marker\":{\"symbol\":\"circle\"},\"mode\":\"lines\",\"name\":\"5\",\"scene\":\"scene\",\"showlegend\":false,\"x\":[-6.814497724539121,-17.694031741109406],\"y\":[0,150],\"z\":[17.389481268439365,5.979354377168607],\"type\":\"scatter3d\"},{\"hovertemplate\":\"ring=5\\u003cbr\\u003eRing and Wire=Ring: 5 Wire: 31\\u003cbr\\u003ex=%{x}\\u003cbr\\u003ez=%{y}\\u003cbr\\u003ey=%{z}\\u003cextra\\u003e\\u003c\\u002fextra\\u003e\",\"legendgroup\":\"5\",\"line\":{\"color\":\"#636efa\",\"dash\":\"solid\",\"width\":5},\"marker\":{\"symbol\":\"circle\"},\"mode\":\"lines\",\"name\":\"5\",\"scene\":\"scene\",\"showlegend\":false,\"x\":[-8.43661643570691,-18.182285563998555],\"y\":[0,150],\"z\":[16.662981160041937,4.2703547501773516],\"type\":\"scatter3d\"},{\"hovertemplate\":\"ring=5\\u003cbr\\u003eRing and Wire=Ring: 5 Wire: 32\\u003cbr\\u003ex=%{x}\\u003cbr\\u003ez=%{y}\\u003cbr\\u003ey=%{z}\\u003cextra\\u003e\\u003c\\u002fextra\\u003e\",\"legendgroup\":\"5\",\"line\":{\"color\":\"#636efa\",\"dash\":\"solid\",\"width\":5},\"marker\":{\"symbol\":\"circle\"},\"mode\":\"lines\",\"name\":\"5\",\"scene\":\"scene\",\"showlegend\":false,\"x\":[-9.982331841990568,-18.50587779322356],\"y\":[0,150],\"z\":[15.785578513932698,2.5226821292876886],\"type\":\"scatter3d\"},{\"hovertemplate\":\"ring=5\\u003cbr\\u003eRing and Wire=Ring: 5 Wire: 33\\u003cbr\\u003ex=%{x}\\u003cbr\\u003ez=%{y}\\u003cbr\\u003ey=%{z}\\u003cextra\\u003e\\u003c\\u002fextra\\u003e\",\"legendgroup\":\"5\",\"line\":{\"color\":\"#636efa\",\"dash\":\"solid\",\"width\":5},\"marker\":{\"symbol\":\"circle\"},\"mode\":\"lines\",\"name\":\"5\",\"scene\":\"scene\",\"showlegend\":false,\"x\":[-11.437645705310835,-18.66187792744707],\"y\":[0,150],\"z\":[14.76521922434398,0.7521637083882053],\"type\":\"scatter3d\"},{\"hovertemplate\":\"ring=5\\u003cbr\\u003eRing and Wire=Ring: 5 Wire: 34\\u003cbr\\u003ex=%{x}\\u003cbr\\u003ez=%{y}\\u003cbr\\u003ey=%{z}\\u003cextra\\u003e\\u003c\\u002fextra\\u003e\",\"legendgroup\":\"5\",\"line\":{\"color\":\"#636efa\",\"dash\":\"solid\",\"width\":5},\"marker\":{\"symbol\":\"circle\"},\"mode\":\"lines\",\"name\":\"5\",\"scene\":\"scene\",\"showlegend\":false,\"x\":[-12.789378477960556,-18.648873205296333],\"y\":[0,150],\"z\":[13.611143823008845,-1.0251664235298739],\"type\":\"scatter3d\"},{\"hovertemplate\":\"ring=5\\u003cbr\\u003eRing and Wire=Ring: 5 Wire: 35\\u003cbr\\u003ex=%{x}\\u003cbr\\u003ez=%{y}\\u003cbr\\u003ey=%{z}\\u003cextra\\u003e\\u003c\\u002fextra\\u003e\",\"legendgroup\":\"5\",\"line\":{\"color\":\"#636efa\",\"dash\":\"solid\",\"width\":5},\"marker\":{\"symbol\":\"circle\"},\"mode\":\"lines\",\"name\":\"5\",\"scene\":\"scene\",\"showlegend\":false,\"x\":[-14.025288658629613,-18.46698139954897],\"y\":[0,150],\"z\":[12.333803795474777,-2.7932124895655175],\"type\":\"scatter3d\"},{\"hovertemplate\":\"ring=5\\u003cbr\\u003eRing and Wire=Ring: 5 Wire: 36\\u003cbr\\u003ex=%{x}\\u003cbr\\u003ez=%{y}\\u003cbr\\u003ey=%{z}\\u003cextra\\u003e\\u003c\\u002fextra\\u003e\",\"legendgroup\":\"5\",\"line\":{\"color\":\"#636efa\",\"dash\":\"solid\",\"width\":5},\"marker\":{\"symbol\":\"circle\"},\"mode\":\"lines\",\"name\":\"5\",\"scene\":\"scene\",\"showlegend\":false,\"x\":[-15.13418365333644,-18.117849750564485],\"y\":[0,150],\"z\":[10.944766930832131,-4.535962790755994],\"type\":\"scatter3d\"},{\"hovertemplate\":\"ring=5\\u003cbr\\u003eRing and Wire=Ring: 5 Wire: 37\\u003cbr\\u003ex=%{x}\\u003cbr\\u003ez=%{y}\\u003cbr\\u003ey=%{z}\\u003cextra\\u003e\\u003c\\u002fextra\\u003e\",\"legendgroup\":\"5\",\"line\":{\"color\":\"#636efa\",\"dash\":\"solid\",\"width\":5},\"marker\":{\"symbol\":\"circle\"},\"mode\":\"lines\",\"name\":\"5\",\"scene\":\"scene\",\"showlegend\":false,\"x\":[-16.106021137292338,-17.604640048620446],\"y\":[0,150],\"z\":[9.456612562024777,-6.237634710502178],\"type\":\"scatter3d\"},{\"hovertemplate\":\"ring=5\\u003cbr\\u003eRing and Wire=Ring: 5 Wire: 38\\u003cbr\\u003ex=%{x}\\u003cbr\\u003ez=%{y}\\u003cbr\\u003ey=%{z}\\u003cextra\\u003e\\u003c\\u002fextra\\u003e\",\"legendgroup\":\"5\",\"line\":{\"color\":\"#636efa\",\"dash\":\"solid\",\"width\":5},\"marker\":{\"symbol\":\"circle\"},\"mode\":\"lines\",\"name\":\"5\",\"scene\":\"scene\",\"showlegend\":false,\"x\":[-16.93199999974985,-16.93200000025015],\"y\":[0,150],\"z\":[7.882817645463044,-7.882817644388425],\"type\":\"scatter3d\"},{\"hovertemplate\":\"ring=5\\u003cbr\\u003eRing and Wire=Ring: 5 Wire: 39\\u003cbr\\u003ex=%{x}\\u003cbr\\u003ez=%{y}\\u003cbr\\u003ey=%{z}\\u003cextra\\u003e\\u003c\\u002fextra\\u003e\",\"legendgroup\":\"5\",\"line\":{\"color\":\"#636efa\",\"dash\":\"solid\",\"width\":5},\"marker\":{\"symbol\":\"circle\"},\"mode\":\"lines\",\"name\":\"5\",\"scene\":\"scene\",\"showlegend\":false,\"x\":[-17.604640048224564,-16.106021137892522],\"y\":[0,150],\"z\":[6.237634711619489,-9.45661256100258],\"type\":\"scatter3d\"},{\"hovertemplate\":\"ring=5\\u003cbr\\u003eRing and Wire=Ring: 5 Wire: 40\\u003cbr\\u003ex=%{x}\\u003cbr\\u003ez=%{y}\\u003cbr\\u003ey=%{z}\\u003cextra\\u003e\\u003c\\u002fextra\\u003e\",\"legendgroup\":\"5\",\"line\":{\"color\":\"#636efa\",\"dash\":\"solid\",\"width\":5},\"marker\":{\"symbol\":\"circle\"},\"mode\":\"lines\",\"name\":\"5\",\"scene\":\"scene\",\"showlegend\":false,\"x\":[-18.1178497502766,-15.134183654031073],\"y\":[0,150],\"z\":[4.5359627919058845,-10.944766929871607],\"type\":\"scatter3d\"},{\"hovertemplate\":\"ring=5\\u003cbr\\u003eRing and Wire=Ring: 5 Wire: 41\\u003cbr\\u003ex=%{x}\\u003cbr\\u003ez=%{y}\\u003cbr\\u003ey=%{z}\\u003cextra\\u003e\\u003c\\u002fextra\\u003e\",\"legendgroup\":\"5\",\"line\":{\"color\":\"#636efa\",\"dash\":\"solid\",\"width\":5},\"marker\":{\"symbol\":\"circle\"},\"mode\":\"lines\",\"name\":\"5\",\"scene\":\"scene\",\"showlegend\":false,\"x\":[-18.466981399371694,-14.0252886594124],\"y\":[0,150],\"z\":[2.7932124907375586,-12.333803794584636],\"type\":\"scatter3d\"},{\"hovertemplate\":\"ring=5\\u003cbr\\u003eRing and Wire=Ring: 5 Wire: 42\\u003cbr\\u003ex=%{x}\\u003cbr\\u003ez=%{y}\\u003cbr\\u003ey=%{z}\\u003cextra\\u003e\\u003c\\u002fextra\\u003e\",\"legendgroup\":\"5\",\"line\":{\"color\":\"#636efa\",\"dash\":\"solid\",\"width\":5},\"marker\":{\"symbol\":\"circle\"},\"mode\":\"lines\",\"name\":\"5\",\"scene\":\"scene\",\"showlegend\":false,\"x\":[-18.64887320523127,-12.789378478824412],\"y\":[0,150],\"z\":[1.0251664247134586,-13.611143822197143],\"type\":\"scatter3d\"},{\"hovertemplate\":\"ring=5\\u003cbr\\u003eRing and Wire=Ring: 5 Wire: 43\\u003cbr\\u003ex=%{x}\\u003cbr\\u003ez=%{y}\\u003cbr\\u003ey=%{z}\\u003cextra\\u003e\\u003c\\u002fextra\\u003e\",\"legendgroup\":\"5\",\"line\":{\"color\":\"#636efa\",\"dash\":\"solid\",\"width\":5},\"marker\":{\"symbol\":\"circle\"},\"mode\":\"lines\",\"name\":\"5\",\"scene\":\"scene\",\"showlegend\":false,\"x\":[-18.661877927494807,-11.437645706247938],\"y\":[0,150],\"z\":[-0.7521637072037963,-14.765219223618068],\"type\":\"scatter3d\"},{\"hovertemplate\":\"ring=5\\u003cbr\\u003eRing and Wire=Ring: 5 Wire: 44\\u003cbr\\u003ex=%{x}\\u003cbr\\u003ez=%{y}\\u003cbr\\u003ey=%{z}\\u003cextra\\u003e\\u003c\\u002fextra\\u003e\",\"legendgroup\":\"5\",\"line\":{\"color\":\"#636efa\",\"dash\":\"solid\",\"width\":5},\"marker\":{\"symbol\":\"circle\"},\"mode\":\"lines\",\"name\":\"5\",\"scene\":\"scene\",\"showlegend\":false,\"x\":[-18.505877793383668,-9.98233184299243],\"y\":[0,150],\"z\":[-2.5226821281131784,-15.78557851329915],\"type\":\"scatter3d\"},{\"hovertemplate\":\"ring=5\\u003cbr\\u003eRing and Wire=Ring: 5 Wire: 45\\u003cbr\\u003ex=%{x}\\u003cbr\\u003ez=%{y}\\u003cbr\\u003ey=%{z}\\u003cextra\\u003e\\u003c\\u002fextra\\u003e\",\"legendgroup\":\"5\",\"line\":{\"color\":\"#636efa\",\"dash\":\"solid\",\"width\":5},\"marker\":{\"symbol\":\"circle\"},\"mode\":\"lines\",\"name\":\"5\",\"scene\":\"scene\",\"showlegend\":false,\"x\":[-18.18228556426958,-8.436616436764464],\"y\":[0,150],\"z\":[-4.2703547490233715,-16.662981159506487],\"type\":\"scatter3d\"},{\"hovertemplate\":\"ring=5\\u003cbr\\u003eRing and Wire=Ring: 5 Wire: 46\\u003cbr\\u003ex=%{x}\\u003cbr\\u003ez=%{y}\\u003cbr\\u003ey=%{z}\\u003cextra\\u003e\\u003c\\u002fextra\\u003e\",\"legendgroup\":\"5\",\"line\":{\"color\":\"#636efa\",\"dash\":\"solid\",\"width\":5},\"marker\":{\"symbol\":\"circle\"},\"mode\":\"lines\",\"name\":\"5\",\"scene\":\"scene\",\"showlegend\":false,\"x\":[-17.694031741488892,-6.81449772564277],\"y\":[0,150],\"z\":[-5.979354376045631,-17.389481268006875],\"type\":\"scatter3d\"},{\"hovertemplate\":\"ring=5\\u003cbr\\u003eRing and Wire=Ring: 5 Wire: 47\\u003cbr\\u003ex=%{x}\\u003cbr\\u003ez=%{y}\\u003cbr\\u003ey=%{z}\\u003cextra\\u003e\\u003c\\u002fextra\\u003e\",\"legendgroup\":\"5\",\"line\":{\"color\":\"#636efa\",\"dash\":\"solid\",\"width\":5},\"marker\":{\"symbol\":\"circle\"},\"mode\":\"lines\",\"name\":\"5\",\"scene\":\"scene\",\"showlegend\":false,\"x\":[-17.045538027268684,-5.1306658678665915],\"y\":[0,150],\"z\":[-7.634204043912476,-17.958499541316396],\"type\":\"scatter3d\"},{\"hovertemplate\":\"ring=5\\u003cbr\\u003eRing and Wire=Ring: 5 Wire: 48\\u003cbr\\u003ex=%{x}\\u003cbr\\u003ez=%{y}\\u003cbr\\u003ey=%{z}\\u003cextra\\u003e\\u003c\\u002fextra\\u003e\",\"legendgroup\":\"5\",\"line\":{\"color\":\"#636efa\",\"dash\":\"solid\",\"width\":5},\"marker\":{\"symbol\":\"circle\"},\"mode\":\"lines\",\"name\":\"5\",\"scene\":\"scene\",\"showlegend\":false,\"x\":[-16.242677281106676,-3.400369905487751],\"y\":[0,150],\"z\":[-9.219917177771908,-18.36488286183731],\"type\":\"scatter3d\"},{\"hovertemplate\":\"ring=5\\u003cbr\\u003eRing and Wire=Ring: 5 Wire: 49\\u003cbr\\u003ex=%{x}\\u003cbr\\u003ez=%{y}\\u003cbr\\u003ey=%{z}\\u003cextra\\u003e\\u003c\\u002fextra\\u003e\",\"legendgroup\":\"5\",\"line\":{\"color\":\"#636efa\",\"dash\":\"solid\",\"width\":5},\"marker\":{\"symbol\":\"circle\"},\"mode\":\"lines\",\"name\":\"5\",\"scene\":\"scene\",\"showlegend\":false,\"x\":[-15.292720334246154,-1.639279666684489],\"y\":[0,150],\"z\":[-10.722133313929959,-18.60495095928896],\"type\":\"scatter3d\"},{\"hovertemplate\":\"ring=5\\u003cbr\\u003eRing and Wire=Ring: 5 Wire: 50\\u003cbr\\u003ex=%{x}\\u003cbr\\u003ez=%{y}\\u003cbr\\u003ey=%{z}\\u003cextra\\u003e\\u003c\\u002fextra\\u003e\",\"legendgroup\":\"5\",\"line\":{\"color\":\"#636efa\",\"dash\":\"solid\",\"width\":5},\"marker\":{\"symbol\":\"circle\"},\"mode\":\"lines\",\"name\":\"5\",\"scene\":\"scene\",\"showlegend\":false,\"x\":[-14.204270143902384,0.13665614262898718],\"y\":[0,150],\"z\":[-12.127248150433626,-18.676529739805364],\"type\":\"scatter3d\"},{\"hovertemplate\":\"ring=5\\u003cbr\\u003eRing and Wire=Ring: 5 Wire: 51\\u003cbr\\u003ex=%{x}\\u003cbr\\u003ez=%{y}\\u003cbr\\u003ey=%{z}\\u003cextra\\u003e\\u003c\\u002fextra\\u003e\",\"legendgroup\":\"5\",\"line\":{\"color\":\"#636efa\",\"dash\":\"solid\",\"width\":5},\"marker\":{\"symbol\":\"circle\"},\"mode\":\"lines\",\"name\":\"5\",\"scene\":\"scene\",\"showlegend\":false,\"x\":[-12.987183883549775,1.9113543727531024],\"y\":[0,150],\"z\":[-13.42253674973615,-18.578970974865914],\"type\":\"scatter3d\"},{\"hovertemplate\":\"ring=5\\u003cbr\\u003eRing and Wire=Ring: 5 Wire: 52\\u003cbr\\u003ex=%{x}\\u003cbr\\u003ez=%{y}\\u003cbr\\u003ey=%{z}\\u003cextra\\u003e\\u003c\\u002fextra\\u003e\",\"legendgroup\":\"5\",\"line\":{\"color\":\"#636efa\",\"dash\":\"solid\",\"width\":5},\"marker\":{\"symbol\":\"circle\"},\"mode\":\"lines\",\"name\":\"5\",\"scene\":\"scene\",\"showlegend\":false,\"x\":[-11.652483674832578,3.668743081697003],\"y\":[0,150],\"z\":[-14.59626877770181,-18.313158171753248],\"type\":\"scatter3d\"},{\"hovertemplate\":\"ring=5\\u003cbr\\u003eRing and Wire=Ring: 5 Wire: 53\\u003cbr\\u003ex=%{x}\\u003cbr\\u003ez=%{y}\\u003cbr\\u003ey=%{z}\\u003cextra\\u003e\\u003c\\u002fextra\\u003e\",\"legendgroup\":\"5\",\"line\":{\"color\":\"#636efa\",\"dash\":\"solid\",\"width\":5},\"marker\":{\"symbol\":\"circle\"},\"mode\":\"lines\",\"name\":\"5\",\"scene\":\"scene\",\"showlegend\":false,\"x\":[-10.212256769524359,5.392907085174136],\"y\":[0,150],\"z\":[-15.637814735328472,-17.881498572374493],\"type\":\"scatter3d\"},{\"hovertemplate\":\"ring=5\\u003cbr\\u003eRing and Wire=Ring: 5 Wire: 54\\u003cbr\\u003ex=%{x}\\u003cbr\\u003ez=%{y}\\u003cbr\\u003ey=%{z}\\u003cextra\\u003e\\u003c\\u002fextra\\u003e\",\"legendgroup\":\"5\",\"line\":{\"color\":\"#636efa\",\"dash\":\"solid\",\"width\":5},\"marker\":{\"symbol\":\"circle\"},\"mode\":\"lines\",\"name\":\"5\",\"scene\":\"scene\",\"showlegend\":false,\"x\":[-8.679546085504235,7.068232086975627],\"y\":[0,150],\"z\":[-16.53774222113649,-17.287901352905756],\"type\":\"scatter3d\"},{\"hovertemplate\":\"ring=5\\u003cbr\\u003eRing and Wire=Ring: 5 Wire: 55\\u003cbr\\u003ex=%{x}\\u003cbr\\u003ez=%{y}\\u003cbr\\u003ey=%{z}\\u003cextra\\u003e\\u003c\\u002fextra\\u003e\",\"legendgroup\":\"5\",\"line\":{\"color\":\"#636efa\",\"dash\":\"solid\",\"width\":5},\"marker\":{\"symbol\":\"circle\"},\"mode\":\"lines\",\"name\":\"5\",\"scene\":\"scene\",\"showlegend\":false,\"x\":[-7.068232088072838,8.679546084454635],\"y\":[0,150],\"z\":[-17.28790135245716,-16.537742221687356],\"type\":\"scatter3d\"},{\"hovertemplate\":\"ring=5\\u003cbr\\u003eRing and Wire=Ring: 5 Wire: 56\\u003cbr\\u003ex=%{x}\\u003cbr\\u003ez=%{y}\\u003cbr\\u003ey=%{z}\\u003cextra\\u003e\\u003c\\u002fextra\\u003e\",\"legendgroup\":\"5\",\"line\":{\"color\":\"#636efa\",\"dash\":\"solid\",\"width\":5},\"marker\":{\"symbol\":\"circle\"},\"mode\":\"lines\",\"name\":\"5\",\"scene\":\"scene\",\"showlegend\":false,\"x\":[-5.392907086309037,10.212256768531862],\"y\":[0,150],\"z\":[-17.881498572032218,-15.637814735976622],\"type\":\"scatter3d\"},{\"hovertemplate\":\"ring=5\\u003cbr\\u003eRing and Wire=Ring: 5 Wire: 57\\u003cbr\\u003ex=%{x}\\u003cbr\\u003ez=%{y}\\u003cbr\\u003ey=%{z}\\u003cextra\\u003e\\u003c\\u002fextra\\u003e\",\"legendgroup\":\"5\",\"line\":{\"color\":\"#636efa\",\"dash\":\"solid\",\"width\":5},\"marker\":{\"symbol\":\"circle\"},\"mode\":\"lines\",\"name\":\"5\",\"scene\":\"scene\",\"showlegend\":false,\"x\":[-3.6687430828592835,11.652483673906197],\"y\":[0,150],\"z\":[-18.313158171520406,-14.596268778441358],\"type\":\"scatter3d\"},{\"hovertemplate\":\"ring=5\\u003cbr\\u003eRing and Wire=Ring: 5 Wire: 58\\u003cbr\\u003ex=%{x}\\u003cbr\\u003ez=%{y}\\u003cbr\\u003ey=%{z}\\u003cextra\\u003e\\u003c\\u002fextra\\u003e\",\"legendgroup\":\"5\",\"line\":{\"color\":\"#636efa\",\"dash\":\"solid\",\"width\":5},\"marker\":{\"symbol\":\"circle\"},\"mode\":\"lines\",\"name\":\"5\",\"scene\":\"scene\",\"showlegend\":false,\"x\":[-1.9113543739322534,12.987183882697888],\"y\":[0,150],\"z\":[-18.578970974744607,-13.422536750560404],\"type\":\"scatter3d\"},{\"hovertemplate\":\"ring=5\\u003cbr\\u003eRing and Wire=Ring: 5 Wire: 59\\u003cbr\\u003ex=%{x}\\u003cbr\\u003ez=%{y}\\u003cbr\\u003ey=%{z}\\u003cextra\\u003e\\u003c\\u002fextra\\u003e\",\"legendgroup\":\"5\",\"line\":{\"color\":\"#636efa\",\"dash\":\"solid\",\"width\":5},\"marker\":{\"symbol\":\"circle\"},\"mode\":\"lines\",\"name\":\"5\",\"scene\":\"scene\",\"showlegend\":false,\"x\":[-0.13665614381432878,14.204270143132703],\"y\":[0,150],\"z\":[-18.676529739796692,-12.127248151335127],\"type\":\"scatter3d\"},{\"hovertemplate\":\"ring=5\\u003cbr\\u003eRing and Wire=Ring: 5 Wire: 60\\u003cbr\\u003ex=%{x}\\u003cbr\\u003ez=%{y}\\u003cbr\\u003ey=%{z}\\u003cextra\\u003e\\u003c\\u002fextra\\u003e\",\"legendgroup\":\"5\",\"line\":{\"color\":\"#636efa\",\"dash\":\"solid\",\"width\":5},\"marker\":{\"symbol\":\"circle\"},\"mode\":\"lines\",\"name\":\"5\",\"scene\":\"scene\",\"showlegend\":false,\"x\":[1.6392796655036896,15.292720333565654],\"y\":[0,150],\"z\":[-18.604950959393,-10.722133314900539],\"type\":\"scatter3d\"},{\"hovertemplate\":\"ring=5\\u003cbr\\u003eRing and Wire=Ring: 5 Wire: 61\\u003cbr\\u003ex=%{x}\\u003cbr\\u003ez=%{y}\\u003cbr\\u003ey=%{z}\\u003cextra\\u003e\\u003c\\u002fextra\\u003e\",\"legendgroup\":\"5\",\"line\":{\"color\":\"#636efa\",\"dash\":\"solid\",\"width\":5},\"marker\":{\"symbol\":\"circle\"},\"mode\":\"lines\",\"name\":\"5\",\"scene\":\"scene\",\"showlegend\":false,\"x\":[3.4003699043221705,16.242677280521505],\"y\":[0,150],\"z\":[-18.364882862053122,-9.219917178802795],\"type\":\"scatter3d\"},{\"hovertemplate\":\"ring=5\\u003cbr\\u003eRing and Wire=Ring: 5 Wire: 62\\u003cbr\\u003ex=%{x}\\u003cbr\\u003ez=%{y}\\u003cbr\\u003ey=%{z}\\u003cextra\\u003e\\u003c\\u002fextra\\u003e\",\"legendgroup\":\"5\",\"line\":{\"color\":\"#636efa\",\"dash\":\"solid\",\"width\":5},\"marker\":{\"symbol\":\"circle\"},\"mode\":\"lines\",\"name\":\"5\",\"scene\":\"scene\",\"showlegend\":false,\"x\":[5.13066586672682,17.04553802678417],\"y\":[0,150],\"z\":[-17.958499541642023,-7.634204044994305],\"type\":\"scatter3d\"},{\"hovertemplate\":\"ring=5\\u003cbr\\u003eRing and Wire=Ring: 5 Wire: 63\\u003cbr\\u003ex=%{x}\\u003cbr\\u003ez=%{y}\\u003cbr\\u003ey=%{z}\\u003cextra\\u003e\\u003c\\u002fextra\\u003e\",\"legendgroup\":\"5\",\"line\":{\"color\":\"#636efa\",\"dash\":\"solid\",\"width\":5},\"marker\":{\"symbol\":\"circle\"},\"mode\":\"lines\",\"name\":\"5\",\"scene\":\"scene\",\"showlegend\":false,\"x\":[6.814497724539113,17.694031741109402],\"y\":[0,150],\"z\":[-17.38948126843937,-5.979354377168617],\"type\":\"scatter3d\"},{\"hovertemplate\":\"ring=5\\u003cbr\\u003eRing and Wire=Ring: 5 Wire: 64\\u003cbr\\u003ex=%{x}\\u003cbr\\u003ez=%{y}\\u003cbr\\u003ey=%{z}\\u003cextra\\u003e\\u003c\\u002fextra\\u003e\",\"legendgroup\":\"5\",\"line\":{\"color\":\"#636efa\",\"dash\":\"solid\",\"width\":5},\"marker\":{\"symbol\":\"circle\"},\"mode\":\"lines\",\"name\":\"5\",\"scene\":\"scene\",\"showlegend\":false,\"x\":[8.436616435706917,18.182285563998555],\"y\":[0,150],\"z\":[-16.662981160041934,-4.2703547501773444],\"type\":\"scatter3d\"},{\"hovertemplate\":\"ring=5\\u003cbr\\u003eRing and Wire=Ring: 5 Wire: 65\\u003cbr\\u003ex=%{x}\\u003cbr\\u003ez=%{y}\\u003cbr\\u003ey=%{z}\\u003cextra\\u003e\\u003c\\u002fextra\\u003e\",\"legendgroup\":\"5\",\"line\":{\"color\":\"#636efa\",\"dash\":\"solid\",\"width\":5},\"marker\":{\"symbol\":\"circle\"},\"mode\":\"lines\",\"name\":\"5\",\"scene\":\"scene\",\"showlegend\":false,\"x\":[9.982331841990568,18.50587779322356],\"y\":[0,150],\"z\":[-15.785578513932698,-2.5226821292876904],\"type\":\"scatter3d\"},{\"hovertemplate\":\"ring=5\\u003cbr\\u003eRing and Wire=Ring: 5 Wire: 66\\u003cbr\\u003ex=%{x}\\u003cbr\\u003ez=%{y}\\u003cbr\\u003ey=%{z}\\u003cextra\\u003e\\u003c\\u002fextra\\u003e\",\"legendgroup\":\"5\",\"line\":{\"color\":\"#636efa\",\"dash\":\"solid\",\"width\":5},\"marker\":{\"symbol\":\"circle\"},\"mode\":\"lines\",\"name\":\"5\",\"scene\":\"scene\",\"showlegend\":false,\"x\":[11.437645705310828,18.66187792744707],\"y\":[0,150],\"z\":[-14.765219224343987,-0.752163708388216],\"type\":\"scatter3d\"},{\"hovertemplate\":\"ring=6\\u003cbr\\u003eRing and Wire=Ring: 6 Wire: 1\\u003cbr\\u003ex=%{x}\\u003cbr\\u003ez=%{y}\\u003cbr\\u003ey=%{z}\\u003cextra\\u003e\\u003c\\u002fextra\\u003e\",\"legendgroup\":\"6\",\"line\":{\"color\":\"#EF553B\",\"dash\":\"solid\",\"width\":5},\"marker\":{\"symbol\":\"circle\"},\"mode\":\"lines\",\"name\":\"6\",\"scene\":\"scene\",\"showlegend\":true,\"x\":[13.113317714469108,20.195048153563615],\"y\":[0,150],\"z\":[-15.359124007661903,0.1477221668954556],\"type\":\"scatter3d\"},{\"hovertemplate\":\"ring=6\\u003cbr\\u003eRing and Wire=Ring: 6 Wire: 2\\u003cbr\\u003ex=%{x}\\u003cbr\\u003ez=%{y}\\u003cbr\\u003ey=%{z}\\u003cextra\\u003e\\u003c\\u002fextra\\u003e\",\"legendgroup\":\"6\",\"line\":{\"color\":\"#EF553B\",\"dash\":\"solid\",\"width\":5},\"marker\":{\"symbol\":\"circle\"},\"mode\":\"lines\",\"name\":\"6\",\"scene\":\"scene\",\"showlegend\":false,\"x\":[14.513917153320872,20.089561527190593],\"y\":[0,150],\"z\":[-14.043076608417536,2.066714641301279],\"type\":\"scatter3d\"},{\"hovertemplate\":\"ring=6\\u003cbr\\u003eRing and Wire=Ring: 6 Wire: 3\\u003cbr\\u003ex=%{x}\\u003cbr\\u003ez=%{y}\\u003cbr\\u003ey=%{z}\\u003cextra\\u003e\\u003c\\u002fextra\\u003e\",\"legendgroup\":\"6\",\"line\":{\"color\":\"#EF553B\",\"dash\":\"solid\",\"width\":5},\"marker\":{\"symbol\":\"circle\"},\"mode\":\"lines\",\"name\":\"6\",\"scene\":\"scene\",\"showlegend\":false,\"x\":[15.783076310896494,19.802140720681773],\"y\":[0,150],\"z\":[-12.599852932783126,3.966990627876797],\"type\":\"scatter3d\"},{\"hovertemplate\":\"ring=6\\u003cbr\\u003eRing and Wire=Ring: 6 Wire: 4\\u003cbr\\u003ex=%{x}\\u003cbr\\u003ez=%{y}\\u003cbr\\u003ey=%{z}\\u003cextra\\u003e\\u003c\\u002fextra\\u003e\",\"legendgroup\":\"6\",\"line\":{\"color\":\"#EF553B\",\"dash\":\"solid\",\"width\":5},\"marker\":{\"symbol\":\"circle\"},\"mode\":\"lines\",\"name\":\"6\",\"scene\":\"scene\",\"showlegend\":false,\"x\":[16.909301485330804,19.335388661369105],\"y\":[0,150],\"z\":[-11.042523037853941,5.8313409330225685],\"type\":\"scatter3d\"},{\"hovertemplate\":\"ring=6\\u003cbr\\u003eRing and Wire=Ring: 6 Wire: 5\\u003cbr\\u003ex=%{x}\\u003cbr\\u003ez=%{y}\\u003cbr\\u003ey=%{z}\\u003cextra\\u003e\\u003c\\u002fextra\\u003e\",\"legendgroup\":\"6\",\"line\":{\"color\":\"#EF553B\",\"dash\":\"solid\",\"width\":5},\"marker\":{\"symbol\":\"circle\"},\"mode\":\"lines\",\"name\":\"6\",\"scene\":\"scene\",\"showlegend\":false,\"x\":[17.882393407043846,18.69353232818008],\"y\":[0,150],\"z\":[-9.385190344316957,7.642881711673405],\"type\":\"scatter3d\"},{\"hovertemplate\":\"ring=6\\u003cbr\\u003eRing and Wire=Ring: 6 Wire: 6\\u003cbr\\u003ex=%{x}\\u003cbr\\u003ez=%{y}\\u003cbr\\u003ey=%{z}\\u003cextra\\u003e\\u003c\\u002fextra\\u003e\",\"legendgroup\":\"6\",\"line\":{\"color\":\"#EF553B\",\"dash\":\"solid\",\"width\":5},\"marker\":{\"symbol\":\"circle\"},\"mode\":\"lines\",\"name\":\"6\",\"scene\":\"scene\",\"showlegend\":false,\"x\":[18.69353960490558,17.88238447146196],\"y\":[0,150],\"z\":[-7.642863913689159,9.385207370013815],\"type\":\"scatter3d\"},{\"hovertemplate\":\"ring=6\\u003cbr\\u003eRing and Wire=Ring: 6 Wire: 7\\u003cbr\\u003ex=%{x}\\u003cbr\\u003ez=%{y}\\u003cbr\\u003ey=%{z}\\u003cextra\\u003e\\u003c\\u002fextra\\u003e\",\"legendgroup\":\"6\",\"line\":{\"color\":\"#EF553B\",\"dash\":\"solid\",\"width\":5},\"marker\":{\"symbol\":\"circle\"},\"mode\":\"lines\",\"name\":\"6\",\"scene\":\"scene\",\"showlegend\":false,\"x\":[19.335394213339075,16.909290971814546],\"y\":[0,150],\"z\":[-5.83132252393224,11.04253913707607],\"type\":\"scatter3d\"},{\"hovertemplate\":\"ring=6\\u003cbr\\u003eRing and Wire=Ring: 6 Wire: 8\\u003cbr\\u003ex=%{x}\\u003cbr\\u003ez=%{y}\\u003cbr\\u003ey=%{z}\\u003cextra\\u003e\\u003c\\u002fextra\\u003e\",\"legendgroup\":\"6\",\"line\":{\"color\":\"#EF553B\",\"dash\":\"solid\",\"width\":5},\"marker\":{\"symbol\":\"circle\"},\"mode\":\"lines\",\"name\":\"6\",\"scene\":\"scene\",\"showlegend\":false,\"x\":[19.8021444976167,15.783064314657889],\"y\":[0,150],\"z\":[-3.9669717743959554,12.599867959733473],\"type\":\"scatter3d\"},{\"hovertemplate\":\"ring=6\\u003cbr\\u003eRing and Wire=Ring: 6 Wire: 9\\u003cbr\\u003ex=%{x}\\u003cbr\\u003ez=%{y}\\u003cbr\\u003ey=%{z}\\u003cextra\\u003e\\u003c\\u002fextra\\u003e\",\"legendgroup\":\"6\",\"line\":{\"color\":\"#EF553B\",\"dash\":\"solid\",\"width\":5},\"marker\":{\"symbol\":\"circle\"},\"mode\":\"lines\",\"name\":\"6\",\"scene\":\"scene\",\"showlegend\":false,\"x\":[20.08956349488598,14.513903782999728],\"y\":[0,150],\"z\":[-2.066695514169968,14.043090427009709],\"type\":\"scatter3d\"},{\"hovertemplate\":\"ring=6\\u003cbr\\u003eRing and Wire=Ring: 6 Wire: 10\\u003cbr\\u003ex=%{x}\\u003cbr\\u003ez=%{y}\\u003cbr\\u003ey=%{z}\\u003cextra\\u003e\\u003c\\u002fextra\\u003e\",\"legendgroup\":\"6\",\"line\":{\"color\":\"#EF553B\",\"dash\":\"solid\",\"width\":5},\"marker\":{\"symbol\":\"circle\"},\"mode\":\"lines\",\"name\":\"6\",\"scene\":\"scene\",\"showlegend\":false,\"x\":[20.1950482941997,13.113303091149119],\"y\":[0,150],\"z\":[-0.1477029393319409,15.359136492752597],\"type\":\"scatter3d\"},{\"hovertemplate\":\"ring=6\\u003cbr\\u003eRing and Wire=Ring: 6 Wire: 11\\u003cbr\\u003ex=%{x}\\u003cbr\\u003ez=%{y}\\u003cbr\\u003ey=%{z}\\u003cextra\\u003e\\u003c\\u002fextra\\u003e\",\"legendgroup\":\"6\",\"line\":{\"color\":\"#EF553B\",\"dash\":\"solid\",\"width\":5},\"marker\":{\"symbol\":\"circle\"},\"mode\":\"lines\",\"name\":\"6\",\"scene\":\"scene\",\"showlegend\":false,\"x\":[20.11764360888056,11.59394629585984],\"y\":[0,150],\"z\":[1.7726272561970458,16.536087839995993],\"type\":\"scatter3d\"},{\"hovertemplate\":\"ring=6\\u003cbr\\u003eRing and Wire=Ring: 6 Wire: 12\\u003cbr\\u003ex=%{x}\\u003cbr\\u003ez=%{y}\\u003cbr\\u003ey=%{z}\\u003cextra\\u003e\\u003c\\u002fextra\\u003e\",\"legendgroup\":\"6\",\"line\":{\"color\":\"#EF553B\",\"dash\":\"solid\",\"width\":5},\"marker\":{\"symbol\":\"circle\"},\"mode\":\"lines\",\"name\":\"6\",\"scene\":\"scene\",\"showlegend\":false,\"x\":[19.85805042774522,9.969592927548263],\"y\":[0,150],\"z\":[3.6769042647957884,17.56328581508384],\"type\":\"scatter3d\"},{\"hovertemplate\":\"ring=6\\u003cbr\\u003eRing and Wire=Ring: 6 Wire: 13\\u003cbr\\u003ex=%{x}\\u003cbr\\u003ez=%{y}\\u003cbr\\u003ey=%{z}\\u003cextra\\u003e\\u003c\\u002fextra\\u003e\",\"legendgroup\":\"6\",\"line\":{\"color\":\"#EF553B\",\"dash\":\"solid\",\"width\":5},\"marker\":{\"symbol\":\"circle\"},\"mode\":\"lines\",\"name\":\"6\",\"scene\":\"scene\",\"showlegend\":false,\"x\":[19.418619666841035,8.254953381855149],\"y\":[0,150],\"z\":[5.54788265898983,18.431427954088196],\"type\":\"scatter3d\"},{\"hovertemplate\":\"ring=6\\u003cbr\\u003eRing and Wire=Ring: 6 Wire: 14\\u003cbr\\u003ex=%{x}\\u003cbr\\u003ez=%{y}\\u003cbr\\u003ey=%{z}\\u003cextra\\u003e\\u003c\\u002fextra\\u003e\",\"legendgroup\":\"6\",\"line\":{\"color\":\"#EF553B\",\"dash\":\"solid\",\"width\":5},\"marker\":{\"symbol\":\"circle\"},\"mode\":\"lines\",\"name\":\"6\",\"scene\":\"scene\",\"showlegend\":false,\"x\":[18.803330879186294,6.4655557000248],\"y\":[0,150],\"z\":[7.368618568713175,19.132652227363103],\"type\":\"scatter3d\"},{\"hovertemplate\":\"ring=6\\u003cbr\\u003eRing and Wire=Ring: 6 Wire: 15\\u003cbr\\u003ex=%{x}\\u003cbr\\u003ez=%{y}\\u003cbr\\u003ey=%{z}\\u003cextra\\u003e\\u003c\\u002fextra\\u003e\",\"legendgroup\":\"6\",\"line\":{\"color\":\"#EF553B\",\"dash\":\"solid\",\"width\":5},\"marker\":{\"symbol\":\"circle\"},\"mode\":\"lines\",\"name\":\"6\",\"scene\":\"scene\",\"showlegend\":false,\"x\":[18.01775621532183,4.61760494455896],\"y\":[0,150],\"z\":[9.122623127619445,19.66060823930252],\"type\":\"scatter3d\"},{\"hovertemplate\":\"ring=6\\u003cbr\\u003eRing and Wire=Ring: 6 Wire: 16\\u003cbr\\u003ex=%{x}\\u003cbr\\u003ez=%{y}\\u003cbr\\u003ey=%{z}\\u003cextra\\u003e\\u003c\\u002fextra\\u003e\",\"legendgroup\":\"6\",\"line\":{\"color\":\"#EF553B\",\"dash\":\"solid\",\"width\":5},\"marker\":{\"symbol\":\"circle\"},\"mode\":\"lines\",\"name\":\"6\",\"scene\":\"scene\",\"showlegend\":false,\"x\":[17.069009961052835,2.7278364436613796],\"y\":[0,150],\"z\":[10.794011798808853,20.010514738506313],\"type\":\"scatter3d\"},{\"hovertemplate\":\"ring=6\\u003cbr\\u003eRing and Wire=Ring: 6 Wire: 17\\u003cbr\\u003ex=%{x}\\u003cbr\\u003ez=%{y}\\u003cbr\\u003ey=%{z}\\u003cextra\\u003e\\u003c\\u002fextra\\u003e\",\"legendgroup\":\"6\",\"line\":{\"color\":\"#EF553B\",\"dash\":\"solid\",\"width\":5},\"marker\":{\"symbol\":\"circle\"},\"mode\":\"lines\",\"name\":\"6\",\"scene\":\"scene\",\"showlegend\":false,\"x\":[15.965684109374962,0.8133642335140783],\"y\":[0,150],\"z\":[12.367648227654168,20.179202917533328],\"type\":\"scatter3d\"},{\"hovertemplate\":\"ring=6\\u003cbr\\u003eRing and Wire=Ring: 6 Wire: 18\\u003cbr\\u003ex=%{x}\\u003cbr\\u003ez=%{y}\\u003cbr\\u003ey=%{z}\\u003cextra\\u003e\\u003c\\u002fextra\\u003e\",\"legendgroup\":\"6\",\"line\":{\"color\":\"#EF553B\",\"dash\":\"solid\",\"width\":5},\"marker\":{\"symbol\":\"circle\"},\"mode\":\"lines\",\"name\":\"6\",\"scene\":\"scene\",\"showlegend\":false,\"x\":[14.717770550055247,-1.1084739290844947],\"y\":[0,150],\"z\":[13.829281318972146,20.165145110112288],\"type\":\"scatter3d\"},{\"hovertemplate\":\"ring=6\\u003cbr\\u003eRing and Wire=Ring: 6 Wire: 19\\u003cbr\\u003ex=%{x}\\u003cbr\\u003ez=%{y}\\u003cbr\\u003ey=%{z}\\u003cextra\\u003e\\u003c\\u002fextra\\u003e\",\"legendgroup\":\"6\",\"line\":{\"color\":\"#EF553B\",\"dash\":\"solid\",\"width\":5},\"marker\":{\"symbol\":\"circle\"},\"mode\":\"lines\",\"name\":\"6\",\"scene\":\"scene\",\"showlegend\":false,\"x\":[13.336570581531078,-3.020273580129845],\"y\":[0,150],\"z\":[15.165674297148323,19.9684686259241],\"type\":\"scatter3d\"},{\"hovertemplate\":\"ring=6\\u003cbr\\u003eRing and Wire=Ring: 6 Wire: 20\\u003cbr\\u003ex=%{x}\\u003cbr\\u003ez=%{y}\\u003cbr\\u003ey=%{z}\\u003cextra\\u003e\\u003c\\u002fextra\\u003e\",\"legendgroup\":\"6\",\"line\":{\"color\":\"#EF553B\",\"dash\":\"solid\",\"width\":5},\"marker\":{\"symbol\":\"circle\"},\"mode\":\"lines\",\"name\":\"6\",\"scene\":\"scene\",\"showlegend\":false,\"x\":[11.834592564601522,-4.904721165932607],\"y\":[0,150],\"z\":[16.364724580426763,19.590954597665682],\"type\":\"scatter3d\"},{\"hovertemplate\":\"ring=6\\u003cbr\\u003eRing and Wire=Ring: 6 Wire: 21\\u003cbr\\u003ex=%{x}\\u003cbr\\u003ez=%{y}\\u003cbr\\u003ey=%{z}\\u003cextra\\u003e\\u003c\\u002fextra\\u003e\",\"legendgroup\":\"6\",\"line\":{\"color\":\"#EF553B\",\"dash\":\"solid\",\"width\":5},\"marker\":{\"symbol\":\"circle\"},\"mode\":\"lines\",\"name\":\"6\",\"scene\":\"scene\",\"showlegend\":false,\"x\":[10.225438644774947,-6.744750837341813],\"y\":[0,150],\"z\":[17.41557338376456,19.03602185083644],\"type\":\"scatter3d\"},{\"hovertemplate\":\"ring=6\\u003cbr\\u003eRing and Wire=Ring: 6 Wire: 22\\u003cbr\\u003ex=%{x}\\u003cbr\\u003ez=%{y}\\u003cbr\\u003ey=%{z}\\u003cextra\\u003e\\u003c\\u002fextra\\u003e\",\"legendgroup\":\"6\",\"line\":{\"color\":\"#EF553B\",\"dash\":\"solid\",\"width\":5},\"marker\":{\"symbol\":\"circle\"},\"mode\":\"lines\",\"name\":\"6\",\"scene\":\"scene\",\"showlegend\":false,\"x\":[8.523681569132934,-8.523699000717555],\"y\":[0,150],\"z\":[18.30870405767074,18.308695942325112],\"type\":\"scatter3d\"},{\"hovertemplate\":\"ring=6\\u003cbr\\u003eRing and Wire=Ring: 6 Wire: 23\\u003cbr\\u003ex=%{x}\\u003cbr\\u003ez=%{y}\\u003cbr\\u003ey=%{z}\\u003cextra\\u003e\\u003c\\u002fextra\\u003e\",\"legendgroup\":\"6\",\"line\":{\"color\":\"#EF553B\",\"dash\":\"solid\",\"width\":5},\"marker\":{\"symbol\":\"circle\"},\"mode\":\"lines\",\"name\":\"6\",\"scene\":\"scene\",\"showlegend\":false,\"x\":[6.744732713276113,-10.225455226015354],\"y\":[0,150],\"z\":[19.036028272457692,17.41556364818839],\"type\":\"scatter3d\"},{\"hovertemplate\":\"ring=6\\u003cbr\\u003eRing and Wire=Ring: 6 Wire: 24\\u003cbr\\u003ex=%{x}\\u003cbr\\u003ez=%{y}\\u003cbr\\u003ey=%{z}\\u003cextra\\u003e\\u003c\\u002fextra\\u003e\",\"legendgroup\":\"6\",\"line\":{\"color\":\"#EF553B\",\"dash\":\"solid\",\"width\":5},\"marker\":{\"symbol\":\"circle\"},\"mode\":\"lines\",\"name\":\"6\",\"scene\":\"scene\",\"showlegend\":false,\"x\":[4.9047025135201645,-11.834608145335448],\"y\":[0,150],\"z\":[19.590959267407364,16.364713312786918],\"type\":\"scatter3d\"},{\"hovertemplate\":\"ring=6\\u003cbr\\u003eRing and Wire=Ring: 6 Wire: 25\\u003cbr\\u003ex=%{x}\\u003cbr\\u003ez=%{y}\\u003cbr\\u003ey=%{z}\\u003cextra\\u003e\\u003c\\u002fextra\\u003e\",\"legendgroup\":\"6\",\"line\":{\"color\":\"#EF553B\",\"dash\":\"solid\",\"width\":5},\"marker\":{\"symbol\":\"circle\"},\"mode\":\"lines\",\"name\":\"6\",\"scene\":\"scene\",\"showlegend\":false,\"x\":[3.0202545682898023,-13.336585020656974],\"y\":[0,150],\"z\":[19.968471501496303,15.165661599486306],\"type\":\"scatter3d\"},{\"hovertemplate\":\"ring=6\\u003cbr\\u003eRing and Wire=Ring: 6 Wire: 26\\u003cbr\\u003ex=%{x}\\u003cbr\\u003ez=%{y}\\u003cbr\\u003ey=%{z}\\u003cextra\\u003e\\u003c\\u002fextra\\u003e\",\"legendgroup\":\"6\",\"line\":{\"color\":\"#EF553B\",\"dash\":\"solid\",\"width\":5},\"marker\":{\"symbol\":\"circle\"},\"mode\":\"lines\",\"name\":\"6\",\"scene\":\"scene\",\"showlegend\":false,\"x\":[1.1084547299910206,-14.717783716810152],\"y\":[0,150],\"z\":[20.165146165473388,13.829267306279952],\"type\":\"scatter3d\"},{\"hovertemplate\":\"ring=6\\u003cbr\\u003eRing and Wire=Ring: 6 Wire: 27\\u003cbr\\u003ex=%{x}\\u003cbr\\u003ez=%{y}\\u003cbr\\u003ey=%{z}\\u003cextra\\u003e\\u003c\\u002fextra\\u003e\",\"legendgroup\":\"6\",\"line\":{\"color\":\"#EF553B\",\"dash\":\"solid\",\"width\":5},\"marker\":{\"symbol\":\"circle\"},\"mode\":\"lines\",\"name\":\"6\",\"scene\":\"scene\",\"showlegend\":false,\"x\":[-0.8133834459910139,-15.965695884518698],\"y\":[0,150],\"z\":[20.17920214312581,12.367633026832909],\"type\":\"scatter3d\"},{\"hovertemplate\":\"ring=6\\u003cbr\\u003eRing and Wire=Ring: 6 Wire: 28\\u003cbr\\u003ex=%{x}\\u003cbr\\u003ez=%{y}\\u003cbr\\u003ey=%{z}\\u003cextra\\u003e\\u003c\\u002fextra\\u003e\",\"legendgroup\":\"6\",\"line\":{\"color\":\"#EF553B\",\"dash\":\"solid\",\"width\":5},\"marker\":{\"symbol\":\"circle\"},\"mode\":\"lines\",\"name\":\"6\",\"scene\":\"scene\",\"showlegend\":false,\"x\":[-2.72785549553062,-17.069020237947885],\"y\":[0,150],\"z\":[20.010512141343334,10.793995547519513],\"type\":\"scatter3d\"},{\"hovertemplate\":\"ring=6\\u003cbr\\u003eRing and Wire=Ring: 6 Wire: 29\\u003cbr\\u003ex=%{x}\\u003cbr\\u003ez=%{y}\\u003cbr\\u003ey=%{z}\\u003cextra\\u003e\\u003c\\u002fextra\\u003e\",\"legendgroup\":\"6\",\"line\":{\"color\":\"#EF553B\",\"dash\":\"solid\",\"width\":5},\"marker\":{\"symbol\":\"circle\"},\"mode\":\"lines\",\"name\":\"6\",\"scene\":\"scene\",\"showlegend\":false,\"x\":[-4.617623663283827,-18.017764900899042],\"y\":[0,150],\"z\":[19.660603842904386,9.122605973036219],\"type\":\"scatter3d\"},{\"hovertemplate\":\"ring=6\\u003cbr\\u003eRing and Wire=Ring: 6 Wire: 30\\u003cbr\\u003ex=%{x}\\u003cbr\\u003ez=%{y}\\u003cbr\\u003ey=%{z}\\u003cextra\\u003e\\u003c\\u002fextra\\u003e\",\"legendgroup\":\"6\",\"line\":{\"color\":\"#EF553B\",\"dash\":\"solid\",\"width\":5},\"marker\":{\"symbol\":\"circle\"},\"mode\":\"lines\",\"name\":\"6\",\"scene\":\"scene\",\"showlegend\":false,\"x\":[-6.465573916085623,-18.803337894787738],\"y\":[0,150],\"z\":[19.13264607154428,7.368600666190626],\"type\":\"scatter3d\"},{\"hovertemplate\":\"ring=6\\u003cbr\\u003eRing and Wire=Ring: 6 Wire: 31\\u003cbr\\u003ex=%{x}\\u003cbr\\u003ez=%{y}\\u003cbr\\u003ey=%{z}\\u003cextra\\u003e\\u003c\\u002fextra\\u003e\",\"legendgroup\":\"6\",\"line\":{\"color\":\"#EF553B\",\"dash\":\"solid\",\"width\":5},\"marker\":{\"symbol\":\"circle\"},\"mode\":\"lines\",\"name\":\"6\",\"scene\":\"scene\",\"showlegend\":false,\"x\":[-8.254970930284447,-19.41862494893233],\"y\":[0,150],\"z\":[18.43142009459673,5.54786417065598],\"type\":\"scatter3d\"},{\"hovertemplate\":\"ring=6\\u003cbr\\u003eRing and Wire=Ring: 6 Wire: 32\\u003cbr\\u003ex=%{x}\\u003cbr\\u003ez=%{y}\\u003cbr\\u003ey=%{z}\\u003cextra\\u003e\\u003c\\u002fextra\\u003e\",\"legendgroup\":\"6\",\"line\":{\"color\":\"#EF553B\",\"dash\":\"solid\",\"width\":5},\"marker\":{\"symbol\":\"circle\"},\"mode\":\"lines\",\"name\":\"6\",\"scene\":\"scene\",\"showlegend\":false,\"x\":[-9.969609649424754,-19.858053928490932],\"y\":[0,150],\"z\":[17.563276323096506,3.6768853580838448],\"type\":\"scatter3d\"},{\"hovertemplate\":\"ring=6\\u003cbr\\u003eRing and Wire=Ring: 6 Wire: 33\\u003cbr\\u003ex=%{x}\\u003cbr\\u003ez=%{y}\\u003cbr\\u003ey=%{z}\\u003cextra\\u003e\\u003c\\u002fextra\\u003e\",\"legendgroup\":\"6\",\"line\":{\"color\":\"#EF553B\",\"dash\":\"solid\",\"width\":5},\"marker\":{\"symbol\":\"circle\"},\"mode\":\"lines\",\"name\":\"6\",\"scene\":\"scene\",\"showlegend\":false,\"x\":[-11.593962039747629,-20.1176452965774],\"y\":[0,150],\"z\":[16.536076801473698,1.7726081023291194],\"type\":\"scatter3d\"},{\"hovertemplate\":\"ring=6\\u003cbr\\u003eRing and Wire=Ring: 6 Wire: 34\\u003cbr\\u003ex=%{x}\\u003cbr\\u003ez=%{y}\\u003cbr\\u003ey=%{z}\\u003cextra\\u003e\\u003c\\u002fextra\\u003e\",\"legendgroup\":\"6\",\"line\":{\"color\":\"#EF553B\",\"dash\":\"solid\",\"width\":5},\"marker\":{\"symbol\":\"circle\"},\"mode\":\"lines\",\"name\":\"6\",\"scene\":\"scene\",\"showlegend\":false,\"x\":[-13.113317714469106,-20.195048153563615],\"y\":[0,150],\"z\":[15.359124007661904,-0.1477221668954547],\"type\":\"scatter3d\"},{\"hovertemplate\":\"ring=6\\u003cbr\\u003eRing and Wire=Ring: 6 Wire: 35\\u003cbr\\u003ex=%{x}\\u003cbr\\u003ez=%{y}\\u003cbr\\u003ey=%{z}\\u003cextra\\u003e\\u003c\\u002fextra\\u003e\",\"legendgroup\":\"6\",\"line\":{\"color\":\"#EF553B\",\"dash\":\"solid\",\"width\":5},\"marker\":{\"symbol\":\"circle\"},\"mode\":\"lines\",\"name\":\"6\",\"scene\":\"scene\",\"showlegend\":false,\"x\":[-14.513917153320872,-20.089561527190593],\"y\":[0,150],\"z\":[14.043076608417532,-2.0667146413012807],\"type\":\"scatter3d\"},{\"hovertemplate\":\"ring=6\\u003cbr\\u003eRing and Wire=Ring: 6 Wire: 36\\u003cbr\\u003ex=%{x}\\u003cbr\\u003ez=%{y}\\u003cbr\\u003ey=%{z}\\u003cextra\\u003e\\u003c\\u002fextra\\u003e\",\"legendgroup\":\"6\",\"line\":{\"color\":\"#EF553B\",\"dash\":\"solid\",\"width\":5},\"marker\":{\"symbol\":\"circle\"},\"mode\":\"lines\",\"name\":\"6\",\"scene\":\"scene\",\"showlegend\":false,\"x\":[-15.783076310896487,-19.802140720681773],\"y\":[0,150],\"z\":[12.59985293278313,-3.9669906278767924],\"type\":\"scatter3d\"},{\"hovertemplate\":\"ring=6\\u003cbr\\u003eRing and Wire=Ring: 6 Wire: 37\\u003cbr\\u003ex=%{x}\\u003cbr\\u003ez=%{y}\\u003cbr\\u003ey=%{z}\\u003cextra\\u003e\\u003c\\u002fextra\\u003e\",\"legendgroup\":\"6\",\"line\":{\"color\":\"#EF553B\",\"dash\":\"solid\",\"width\":5},\"marker\":{\"symbol\":\"circle\"},\"mode\":\"lines\",\"name\":\"6\",\"scene\":\"scene\",\"showlegend\":false,\"x\":[-16.9093014853308,-19.33538866136911],\"y\":[0,150],\"z\":[11.042523037853943,-5.831340933022566],\"type\":\"scatter3d\"},{\"hovertemplate\":\"ring=6\\u003cbr\\u003eRing and Wire=Ring: 6 Wire: 38\\u003cbr\\u003ex=%{x}\\u003cbr\\u003ez=%{y}\\u003cbr\\u003ey=%{z}\\u003cextra\\u003e\\u003c\\u002fextra\\u003e\",\"legendgroup\":\"6\",\"line\":{\"color\":\"#EF553B\",\"dash\":\"solid\",\"width\":5},\"marker\":{\"symbol\":\"circle\"},\"mode\":\"lines\",\"name\":\"6\",\"scene\":\"scene\",\"showlegend\":false,\"x\":[-17.882393407043846,-18.69353232818008],\"y\":[0,150],\"z\":[9.385190344316957,-7.642881711673404],\"type\":\"scatter3d\"},{\"hovertemplate\":\"ring=6\\u003cbr\\u003eRing and Wire=Ring: 6 Wire: 39\\u003cbr\\u003ex=%{x}\\u003cbr\\u003ez=%{y}\\u003cbr\\u003ey=%{z}\\u003cextra\\u003e\\u003c\\u002fextra\\u003e\",\"legendgroup\":\"6\",\"line\":{\"color\":\"#EF553B\",\"dash\":\"solid\",\"width\":5},\"marker\":{\"symbol\":\"circle\"},\"mode\":\"lines\",\"name\":\"6\",\"scene\":\"scene\",\"showlegend\":false,\"x\":[-18.69353960490558,-17.88238447146196],\"y\":[0,150],\"z\":[7.642863913689158,-9.385207370013816],\"type\":\"scatter3d\"},{\"hovertemplate\":\"ring=6\\u003cbr\\u003eRing and Wire=Ring: 6 Wire: 40\\u003cbr\\u003ex=%{x}\\u003cbr\\u003ez=%{y}\\u003cbr\\u003ey=%{z}\\u003cextra\\u003e\\u003c\\u002fextra\\u003e\",\"legendgroup\":\"6\",\"line\":{\"color\":\"#EF553B\",\"dash\":\"solid\",\"width\":5},\"marker\":{\"symbol\":\"circle\"},\"mode\":\"lines\",\"name\":\"6\",\"scene\":\"scene\",\"showlegend\":false,\"x\":[-19.33539421333907,-16.90929097181455],\"y\":[0,150],\"z\":[5.831322523932245,-11.042539137076064],\"type\":\"scatter3d\"},{\"hovertemplate\":\"ring=6\\u003cbr\\u003eRing and Wire=Ring: 6 Wire: 41\\u003cbr\\u003ex=%{x}\\u003cbr\\u003ez=%{y}\\u003cbr\\u003ey=%{z}\\u003cextra\\u003e\\u003c\\u002fextra\\u003e\",\"legendgroup\":\"6\",\"line\":{\"color\":\"#EF553B\",\"dash\":\"solid\",\"width\":5},\"marker\":{\"symbol\":\"circle\"},\"mode\":\"lines\",\"name\":\"6\",\"scene\":\"scene\",\"showlegend\":false,\"x\":[-19.8021444976167,-15.783064314657896],\"y\":[0,150],\"z\":[3.9669717743959616,-12.59986795973347],\"type\":\"scatter3d\"},{\"hovertemplate\":\"ring=6\\u003cbr\\u003eRing and Wire=Ring: 6 Wire: 42\\u003cbr\\u003ex=%{x}\\u003cbr\\u003ez=%{y}\\u003cbr\\u003ey=%{z}\\u003cextra\\u003e\\u003c\\u002fextra\\u003e\",\"legendgroup\":\"6\",\"line\":{\"color\":\"#EF553B\",\"dash\":\"solid\",\"width\":5},\"marker\":{\"symbol\":\"circle\"},\"mode\":\"lines\",\"name\":\"6\",\"scene\":\"scene\",\"showlegend\":false,\"x\":[-20.089563494885976,-14.51390378299973],\"y\":[0,150],\"z\":[2.0666955141699717,-14.043090427009709],\"type\":\"scatter3d\"},{\"hovertemplate\":\"ring=6\\u003cbr\\u003eRing and Wire=Ring: 6 Wire: 43\\u003cbr\\u003ex=%{x}\\u003cbr\\u003ez=%{y}\\u003cbr\\u003ey=%{z}\\u003cextra\\u003e\\u003c\\u002fextra\\u003e\",\"legendgroup\":\"6\",\"line\":{\"color\":\"#EF553B\",\"dash\":\"solid\",\"width\":5},\"marker\":{\"symbol\":\"circle\"},\"mode\":\"lines\",\"name\":\"6\",\"scene\":\"scene\",\"showlegend\":false,\"x\":[-20.1950482941997,-13.113303091149119],\"y\":[0,150],\"z\":[0.1477029393319409,-15.359136492752597],\"type\":\"scatter3d\"},{\"hovertemplate\":\"ring=6\\u003cbr\\u003eRing and Wire=Ring: 6 Wire: 44\\u003cbr\\u003ex=%{x}\\u003cbr\\u003ez=%{y}\\u003cbr\\u003ey=%{z}\\u003cextra\\u003e\\u003c\\u002fextra\\u003e\",\"legendgroup\":\"6\",\"line\":{\"color\":\"#EF553B\",\"dash\":\"solid\",\"width\":5},\"marker\":{\"symbol\":\"circle\"},\"mode\":\"lines\",\"name\":\"6\",\"scene\":\"scene\",\"showlegend\":false,\"x\":[-20.11764360888056,-11.59394629585984],\"y\":[0,150],\"z\":[-1.7726272561970458,-16.536087839995993],\"type\":\"scatter3d\"},{\"hovertemplate\":\"ring=6\\u003cbr\\u003eRing and Wire=Ring: 6 Wire: 45\\u003cbr\\u003ex=%{x}\\u003cbr\\u003ez=%{y}\\u003cbr\\u003ey=%{z}\\u003cextra\\u003e\\u003c\\u002fextra\\u003e\",\"legendgroup\":\"6\",\"line\":{\"color\":\"#EF553B\",\"dash\":\"solid\",\"width\":5},\"marker\":{\"symbol\":\"circle\"},\"mode\":\"lines\",\"name\":\"6\",\"scene\":\"scene\",\"showlegend\":false,\"x\":[-19.85805042774522,-9.969592927548266],\"y\":[0,150],\"z\":[-3.676904264795784,-17.563285815083837],\"type\":\"scatter3d\"},{\"hovertemplate\":\"ring=6\\u003cbr\\u003eRing and Wire=Ring: 6 Wire: 46\\u003cbr\\u003ex=%{x}\\u003cbr\\u003ez=%{y}\\u003cbr\\u003ey=%{z}\\u003cextra\\u003e\\u003c\\u002fextra\\u003e\",\"legendgroup\":\"6\",\"line\":{\"color\":\"#EF553B\",\"dash\":\"solid\",\"width\":5},\"marker\":{\"symbol\":\"circle\"},\"mode\":\"lines\",\"name\":\"6\",\"scene\":\"scene\",\"showlegend\":false,\"x\":[-19.418619666841032,-8.254953381855143],\"y\":[0,150],\"z\":[-5.547882658989834,-18.431427954088196],\"type\":\"scatter3d\"},{\"hovertemplate\":\"ring=6\\u003cbr\\u003eRing and Wire=Ring: 6 Wire: 47\\u003cbr\\u003ex=%{x}\\u003cbr\\u003ez=%{y}\\u003cbr\\u003ey=%{z}\\u003cextra\\u003e\\u003c\\u002fextra\\u003e\",\"legendgroup\":\"6\",\"line\":{\"color\":\"#EF553B\",\"dash\":\"solid\",\"width\":5},\"marker\":{\"symbol\":\"circle\"},\"mode\":\"lines\",\"name\":\"6\",\"scene\":\"scene\",\"showlegend\":false,\"x\":[-18.803330879186294,-6.4655557000248],\"y\":[0,150],\"z\":[-7.368618568713175,-19.132652227363103],\"type\":\"scatter3d\"},{\"hovertemplate\":\"ring=6\\u003cbr\\u003eRing and Wire=Ring: 6 Wire: 48\\u003cbr\\u003ex=%{x}\\u003cbr\\u003ez=%{y}\\u003cbr\\u003ey=%{z}\\u003cextra\\u003e\\u003c\\u002fextra\\u003e\",\"legendgroup\":\"6\",\"line\":{\"color\":\"#EF553B\",\"dash\":\"solid\",\"width\":5},\"marker\":{\"symbol\":\"circle\"},\"mode\":\"lines\",\"name\":\"6\",\"scene\":\"scene\",\"showlegend\":false,\"x\":[-18.017756215321832,-4.617604944558969],\"y\":[0,150],\"z\":[-9.122623127619438,-19.66060823930252],\"type\":\"scatter3d\"},{\"hovertemplate\":\"ring=6\\u003cbr\\u003eRing and Wire=Ring: 6 Wire: 49\\u003cbr\\u003ex=%{x}\\u003cbr\\u003ez=%{y}\\u003cbr\\u003ey=%{z}\\u003cextra\\u003e\\u003c\\u002fextra\\u003e\",\"legendgroup\":\"6\",\"line\":{\"color\":\"#EF553B\",\"dash\":\"solid\",\"width\":5},\"marker\":{\"symbol\":\"circle\"},\"mode\":\"lines\",\"name\":\"6\",\"scene\":\"scene\",\"showlegend\":false,\"x\":[-17.06900996105283,-2.727836443661377],\"y\":[0,150],\"z\":[-10.794011798808855,-20.010514738506316],\"type\":\"scatter3d\"},{\"hovertemplate\":\"ring=6\\u003cbr\\u003eRing and Wire=Ring: 6 Wire: 50\\u003cbr\\u003ex=%{x}\\u003cbr\\u003ez=%{y}\\u003cbr\\u003ey=%{z}\\u003cextra\\u003e\\u003c\\u002fextra\\u003e\",\"legendgroup\":\"6\",\"line\":{\"color\":\"#EF553B\",\"dash\":\"solid\",\"width\":5},\"marker\":{\"symbol\":\"circle\"},\"mode\":\"lines\",\"name\":\"6\",\"scene\":\"scene\",\"showlegend\":false,\"x\":[-15.965684109374966,-0.81336423351408],\"y\":[0,150],\"z\":[-12.367648227654168,-20.179202917533328],\"type\":\"scatter3d\"},{\"hovertemplate\":\"ring=6\\u003cbr\\u003eRing and Wire=Ring: 6 Wire: 51\\u003cbr\\u003ex=%{x}\\u003cbr\\u003ez=%{y}\\u003cbr\\u003ey=%{z}\\u003cextra\\u003e\\u003c\\u002fextra\\u003e\",\"legendgroup\":\"6\",\"line\":{\"color\":\"#EF553B\",\"dash\":\"solid\",\"width\":5},\"marker\":{\"symbol\":\"circle\"},\"mode\":\"lines\",\"name\":\"6\",\"scene\":\"scene\",\"showlegend\":false,\"x\":[-14.717770550055242,1.1084739290845018],\"y\":[0,150],\"z\":[-13.829281318972154,-20.165145110112288],\"type\":\"scatter3d\"},{\"hovertemplate\":\"ring=6\\u003cbr\\u003eRing and Wire=Ring: 6 Wire: 52\\u003cbr\\u003ex=%{x}\\u003cbr\\u003ez=%{y}\\u003cbr\\u003ey=%{z}\\u003cextra\\u003e\\u003c\\u002fextra\\u003e\",\"legendgroup\":\"6\",\"line\":{\"color\":\"#EF553B\",\"dash\":\"solid\",\"width\":5},\"marker\":{\"symbol\":\"circle\"},\"mode\":\"lines\",\"name\":\"6\",\"scene\":\"scene\",\"showlegend\":false,\"x\":[-13.336570581531081,3.0202735801298433],\"y\":[0,150],\"z\":[-15.165674297148323,-19.968468625924103],\"type\":\"scatter3d\"},{\"hovertemplate\":\"ring=6\\u003cbr\\u003eRing and Wire=Ring: 6 Wire: 53\\u003cbr\\u003ex=%{x}\\u003cbr\\u003ez=%{y}\\u003cbr\\u003ey=%{z}\\u003cextra\\u003e\\u003c\\u002fextra\\u003e\",\"legendgroup\":\"6\",\"line\":{\"color\":\"#EF553B\",\"dash\":\"solid\",\"width\":5},\"marker\":{\"symbol\":\"circle\"},\"mode\":\"lines\",\"name\":\"6\",\"scene\":\"scene\",\"showlegend\":false,\"x\":[-11.834592564601532,4.904721165932596],\"y\":[0,150],\"z\":[-16.364724580426756,-19.59095459766569],\"type\":\"scatter3d\"},{\"hovertemplate\":\"ring=6\\u003cbr\\u003eRing and Wire=Ring: 6 Wire: 54\\u003cbr\\u003ex=%{x}\\u003cbr\\u003ez=%{y}\\u003cbr\\u003ey=%{z}\\u003cextra\\u003e\\u003c\\u002fextra\\u003e\",\"legendgroup\":\"6\",\"line\":{\"color\":\"#EF553B\",\"dash\":\"solid\",\"width\":5},\"marker\":{\"symbol\":\"circle\"},\"mode\":\"lines\",\"name\":\"6\",\"scene\":\"scene\",\"showlegend\":false,\"x\":[-10.225438644774941,6.744750837341821],\"y\":[0,150],\"z\":[-17.415573383764567,-19.03602185083644],\"type\":\"scatter3d\"},{\"hovertemplate\":\"ring=6\\u003cbr\\u003eRing and Wire=Ring: 6 Wire: 55\\u003cbr\\u003ex=%{x}\\u003cbr\\u003ez=%{y}\\u003cbr\\u003ey=%{z}\\u003cextra\\u003e\\u003c\\u002fextra\\u003e\",\"legendgroup\":\"6\",\"line\":{\"color\":\"#EF553B\",\"dash\":\"solid\",\"width\":5},\"marker\":{\"symbol\":\"circle\"},\"mode\":\"lines\",\"name\":\"6\",\"scene\":\"scene\",\"showlegend\":false,\"x\":[-8.523681569132938,8.523699000717551],\"y\":[0,150],\"z\":[-18.308704057670738,-18.308695942325116],\"type\":\"scatter3d\"},{\"hovertemplate\":\"ring=6\\u003cbr\\u003eRing and Wire=Ring: 6 Wire: 56\\u003cbr\\u003ex=%{x}\\u003cbr\\u003ez=%{y}\\u003cbr\\u003ey=%{z}\\u003cextra\\u003e\\u003c\\u002fextra\\u003e\",\"legendgroup\":\"6\",\"line\":{\"color\":\"#EF553B\",\"dash\":\"solid\",\"width\":5},\"marker\":{\"symbol\":\"circle\"},\"mode\":\"lines\",\"name\":\"6\",\"scene\":\"scene\",\"showlegend\":false,\"x\":[-6.7447327132761234,10.225455226015344],\"y\":[0,150],\"z\":[-19.03602827245769,-17.415563648188392],\"type\":\"scatter3d\"},{\"hovertemplate\":\"ring=6\\u003cbr\\u003eRing and Wire=Ring: 6 Wire: 57\\u003cbr\\u003ex=%{x}\\u003cbr\\u003ez=%{y}\\u003cbr\\u003ey=%{z}\\u003cextra\\u003e\\u003c\\u002fextra\\u003e\",\"legendgroup\":\"6\",\"line\":{\"color\":\"#EF553B\",\"dash\":\"solid\",\"width\":5},\"marker\":{\"symbol\":\"circle\"},\"mode\":\"lines\",\"name\":\"6\",\"scene\":\"scene\",\"showlegend\":false,\"x\":[-4.904702513520167,11.834608145335444],\"y\":[0,150],\"z\":[-19.590959267407364,-16.364713312786918],\"type\":\"scatter3d\"},{\"hovertemplate\":\"ring=6\\u003cbr\\u003eRing and Wire=Ring: 6 Wire: 58\\u003cbr\\u003ex=%{x}\\u003cbr\\u003ez=%{y}\\u003cbr\\u003ey=%{z}\\u003cextra\\u003e\\u003c\\u002fextra\\u003e\",\"legendgroup\":\"6\",\"line\":{\"color\":\"#EF553B\",\"dash\":\"solid\",\"width\":5},\"marker\":{\"symbol\":\"circle\"},\"mode\":\"lines\",\"name\":\"6\",\"scene\":\"scene\",\"showlegend\":false,\"x\":[-3.0202545682898148,13.336585020656965],\"y\":[0,150],\"z\":[-19.968471501496303,-15.165661599486313],\"type\":\"scatter3d\"},{\"hovertemplate\":\"ring=6\\u003cbr\\u003eRing and Wire=Ring: 6 Wire: 59\\u003cbr\\u003ex=%{x}\\u003cbr\\u003ez=%{y}\\u003cbr\\u003ey=%{z}\\u003cextra\\u003e\\u003c\\u002fextra\\u003e\",\"legendgroup\":\"6\",\"line\":{\"color\":\"#EF553B\",\"dash\":\"solid\",\"width\":5},\"marker\":{\"symbol\":\"circle\"},\"mode\":\"lines\",\"name\":\"6\",\"scene\":\"scene\",\"showlegend\":false,\"x\":[-1.1084547299910223,14.71778371681015],\"y\":[0,150],\"z\":[-20.165146165473388,-13.829267306279952],\"type\":\"scatter3d\"},{\"hovertemplate\":\"ring=6\\u003cbr\\u003eRing and Wire=Ring: 6 Wire: 60\\u003cbr\\u003ex=%{x}\\u003cbr\\u003ez=%{y}\\u003cbr\\u003ey=%{z}\\u003cextra\\u003e\\u003c\\u002fextra\\u003e\",\"legendgroup\":\"6\",\"line\":{\"color\":\"#EF553B\",\"dash\":\"solid\",\"width\":5},\"marker\":{\"symbol\":\"circle\"},\"mode\":\"lines\",\"name\":\"6\",\"scene\":\"scene\",\"showlegend\":false,\"x\":[0.8133834459910112,15.965695884518698],\"y\":[0,150],\"z\":[-20.179202143125814,-12.367633026832914],\"type\":\"scatter3d\"},{\"hovertemplate\":\"ring=6\\u003cbr\\u003eRing and Wire=Ring: 6 Wire: 61\\u003cbr\\u003ex=%{x}\\u003cbr\\u003ez=%{y}\\u003cbr\\u003ey=%{z}\\u003cextra\\u003e\\u003c\\u002fextra\\u003e\",\"legendgroup\":\"6\",\"line\":{\"color\":\"#EF553B\",\"dash\":\"solid\",\"width\":5},\"marker\":{\"symbol\":\"circle\"},\"mode\":\"lines\",\"name\":\"6\",\"scene\":\"scene\",\"showlegend\":false,\"x\":[2.7278554955306085,17.06902023794788],\"y\":[0,150],\"z\":[-20.010512141343334,-10.793995547519522],\"type\":\"scatter3d\"},{\"hovertemplate\":\"ring=6\\u003cbr\\u003eRing and Wire=Ring: 6 Wire: 62\\u003cbr\\u003ex=%{x}\\u003cbr\\u003ez=%{y}\\u003cbr\\u003ey=%{z}\\u003cextra\\u003e\\u003c\\u002fextra\\u003e\",\"legendgroup\":\"6\",\"line\":{\"color\":\"#EF553B\",\"dash\":\"solid\",\"width\":5},\"marker\":{\"symbol\":\"circle\"},\"mode\":\"lines\",\"name\":\"6\",\"scene\":\"scene\",\"showlegend\":false,\"x\":[4.617623663283824,18.01776490089904],\"y\":[0,150],\"z\":[-19.660603842904386,-9.12260597303622],\"type\":\"scatter3d\"},{\"hovertemplate\":\"ring=6\\u003cbr\\u003eRing and Wire=Ring: 6 Wire: 63\\u003cbr\\u003ex=%{x}\\u003cbr\\u003ez=%{y}\\u003cbr\\u003ey=%{z}\\u003cextra\\u003e\\u003c\\u002fextra\\u003e\",\"legendgroup\":\"6\",\"line\":{\"color\":\"#EF553B\",\"dash\":\"solid\",\"width\":5},\"marker\":{\"symbol\":\"circle\"},\"mode\":\"lines\",\"name\":\"6\",\"scene\":\"scene\",\"showlegend\":false,\"x\":[6.465573916085611,18.803337894787735],\"y\":[0,150],\"z\":[-19.132646071544283,-7.368600666190637],\"type\":\"scatter3d\"},{\"hovertemplate\":\"ring=6\\u003cbr\\u003eRing and Wire=Ring: 6 Wire: 64\\u003cbr\\u003ex=%{x}\\u003cbr\\u003ez=%{y}\\u003cbr\\u003ey=%{z}\\u003cextra\\u003e\\u003c\\u002fextra\\u003e\",\"legendgroup\":\"6\",\"line\":{\"color\":\"#EF553B\",\"dash\":\"solid\",\"width\":5},\"marker\":{\"symbol\":\"circle\"},\"mode\":\"lines\",\"name\":\"6\",\"scene\":\"scene\",\"showlegend\":false,\"x\":[8.254970930284454,19.418624948932333],\"y\":[0,150],\"z\":[-18.431420094596728,-5.547864170655973],\"type\":\"scatter3d\"},{\"hovertemplate\":\"ring=6\\u003cbr\\u003eRing and Wire=Ring: 6 Wire: 65\\u003cbr\\u003ex=%{x}\\u003cbr\\u003ez=%{y}\\u003cbr\\u003ey=%{z}\\u003cextra\\u003e\\u003c\\u002fextra\\u003e\",\"legendgroup\":\"6\",\"line\":{\"color\":\"#EF553B\",\"dash\":\"solid\",\"width\":5},\"marker\":{\"symbol\":\"circle\"},\"mode\":\"lines\",\"name\":\"6\",\"scene\":\"scene\",\"showlegend\":false,\"x\":[9.969609649424754,19.858053928490932],\"y\":[0,150],\"z\":[-17.563276323096506,-3.6768853580838465],\"type\":\"scatter3d\"},{\"hovertemplate\":\"ring=6\\u003cbr\\u003eRing and Wire=Ring: 6 Wire: 66\\u003cbr\\u003ex=%{x}\\u003cbr\\u003ez=%{y}\\u003cbr\\u003ey=%{z}\\u003cextra\\u003e\\u003c\\u002fextra\\u003e\",\"legendgroup\":\"6\",\"line\":{\"color\":\"#EF553B\",\"dash\":\"solid\",\"width\":5},\"marker\":{\"symbol\":\"circle\"},\"mode\":\"lines\",\"name\":\"6\",\"scene\":\"scene\",\"showlegend\":false,\"x\":[11.593962039747616,20.117645296577397],\"y\":[0,150],\"z\":[-16.536076801473705,-1.772608102329131],\"type\":\"scatter3d\"},{\"hovertemplate\":\"ring=9\\u003cbr\\u003eRing and Wire=Ring: 9 Wire: 1\\u003cbr\\u003ex=%{x}\\u003cbr\\u003ez=%{y}\\u003cbr\\u003ey=%{z}\\u003cextra\\u003e\\u003c\\u002fextra\\u003e\",\"legendgroup\":\"9\",\"line\":{\"color\":\"#00cc96\",\"dash\":\"solid\",\"width\":5},\"marker\":{\"symbol\":\"circle\"},\"mode\":\"lines\",\"name\":\"9\",\"scene\":\"scene\",\"showlegend\":true,\"x\":[19.893744737940725,25.118753247208954],\"y\":[0,150],\"z\":[15.343080971069924,0.46845350781274764],\"type\":\"scatter3d\"},{\"hovertemplate\":\"ring=9\\u003cbr\\u003eRing and Wire=Ring: 9 Wire: 2\\u003cbr\\u003ex=%{x}\\u003cbr\\u003ez=%{y}\\u003cbr\\u003ey=%{z}\\u003cextra\\u003e\\u003c\\u002fextra\\u003e\",\"legendgroup\":\"9\",\"line\":{\"color\":\"#00cc96\",\"dash\":\"solid\",\"width\":5},\"marker\":{\"symbol\":\"circle\"},\"mode\":\"lines\",\"name\":\"9\",\"scene\":\"scene\",\"showlegend\":false,\"x\":[18.81255192835284,25.029822514568494],\"y\":[0,150],\"z\":[16.651099162703357,2.1631454579737737],\"type\":\"scatter3d\"},{\"hovertemplate\":\"ring=9\\u003cbr\\u003eRing and Wire=Ring: 9 Wire: 3\\u003cbr\\u003ex=%{x}\\u003cbr\\u003ez=%{y}\\u003cbr\\u003ey=%{z}\\u003cextra\\u003e\\u003c\\u002fextra\\u003e\",\"legendgroup\":\"9\",\"line\":{\"color\":\"#00cc96\",\"dash\":\"solid\",\"width\":5},\"marker\":{\"symbol\":\"circle\"},\"mode\":\"lines\",\"name\":\"9\",\"scene\":\"scene\",\"showlegend\":false,\"x\":[17.645521759165444,24.82668644263769],\"y\":[0,150],\"z\":[17.883142207955828,3.8479674715494117],\"type\":\"scatter3d\"},{\"hovertemplate\":\"ring=9\\u003cbr\\u003eRing and Wire=Ring: 9 Wire: 4\\u003cbr\\u003ex=%{x}\\u003cbr\\u003ez=%{y}\\u003cbr\\u003ey=%{z}\\u003cextra\\u003e\\u003c\\u002fextra\\u003e\",\"legendgroup\":\"9\",\"line\":{\"color\":\"#00cc96\",\"dash\":\"solid\",\"width\":5},\"marker\":{\"symbol\":\"circle\"},\"mode\":\"lines\",\"name\":\"9\",\"scene\":\"scene\",\"showlegend\":false,\"x\":[16.397979121370344,24.510271894721445],\"y\":[0,150],\"z\":[19.033588576993427,5.515232092122733],\"type\":\"scatter3d\"},{\"hovertemplate\":\"ring=9\\u003cbr\\u003eRing and Wire=Ring: 9 Wire: 5\\u003cbr\\u003ex=%{x}\\u003cbr\\u003ez=%{y}\\u003cbr\\u003ey=%{z}\\u003cextra\\u003e\\u003c\\u002fextra\\u003e\",\"legendgroup\":\"9\",\"line\":{\"color\":\"#00cc96\",\"dash\":\"solid\",\"width\":5},\"marker\":{\"symbol\":\"circle\"},\"mode\":\"lines\",\"name\":\"9\",\"scene\":\"scene\",\"showlegend\":false,\"x\":[15.075616265887245,24.082022597829013],\"y\":[0,150],\"z\":[20.09718904690077,7.15733197363411],\"type\":\"scatter3d\"},{\"hovertemplate\":\"ring=9\\u003cbr\\u003eRing and Wire=Ring: 9 Wire: 6\\u003cbr\\u003ex=%{x}\\u003cbr\\u003ez=%{y}\\u003cbr\\u003ey=%{z}\\u003cextra\\u003e\\u003c\\u002fextra\\u003e\",\"legendgroup\":\"9\",\"line\":{\"color\":\"#00cc96\",\"dash\":\"solid\",\"width\":5},\"marker\":{\"symbol\":\"circle\"},\"mode\":\"lines\",\"name\":\"9\",\"scene\":\"scene\",\"showlegend\":false,\"x\":[13.684466831128379,23.5438925552788],\"y\":[0,150],\"z\":[21.069090652681233,8.766774590956473],\"type\":\"scatter3d\"},{\"hovertemplate\":\"ring=9\\u003cbr\\u003eRing and Wire=Ring: 9 Wire: 7\\u003cbr\\u003ex=%{x}\\u003cbr\\u003ez=%{y}\\u003cbr\\u003ey=%{z}\\u003cextra\\u003e\\u003c\\u002fextra\\u003e\",\"legendgroup\":\"9\",\"line\":{\"color\":\"#00cc96\",\"dash\":\"solid\",\"width\":5},\"marker\":{\"symbol\":\"circle\"},\"mode\":\"lines\",\"name\":\"9\",\"scene\":\"scene\",\"showlegend\":false,\"x\":[12.230878312890324,22.898337131029372],\"y\":[0,150],\"z\":[21.94485883022312,10.33621642656896],\"type\":\"scatter3d\"},{\"hovertemplate\":\"ring=9\\u003cbr\\u003eRing and Wire=Ring: 9 Wire: 8\\u003cbr\\u003ex=%{x}\\u003cbr\\u003ez=%{y}\\u003cbr\\u003ey=%{z}\\u003cextra\\u003e\\u003c\\u002fextra\\u003e\",\"legendgroup\":\"9\",\"line\":{\"color\":\"#00cc96\",\"dash\":\"solid\",\"width\":5},\"marker\":{\"symbol\":\"circle\"},\"mode\":\"lines\",\"name\":\"9\",\"scene\":\"scene\",\"showlegend\":false,\"x\":[10.721483102186529,22.148301846416903],\"y\":[0,150],\"z\":[22.720497650198624,11.858496477343072],\"type\":\"scatter3d\"},{\"hovertemplate\":\"ring=9\\u003cbr\\u003eRing and Wire=Ring: 9 Wire: 9\\u003cbr\\u003ex=%{x}\\u003cbr\\u003ez=%{y}\\u003cbr\\u003ey=%{z}\\u003cextra\\u003e\\u003c\\u002fextra\\u003e\",\"legendgroup\":\"9\",\"line\":{\"color\":\"#00cc96\",\"dash\":\"solid\",\"width\":5},\"marker\":{\"symbol\":\"circle\"},\"mode\":\"lines\",\"name\":\"9\",\"scene\":\"scene\",\"showlegend\":false,\"x\":[9.163168223168338,21.297208940416876],\"y\":[0,150],\"z\":[23.392468050572827,13.326668928557499],\"type\":\"scatter3d\"},{\"hovertemplate\":\"ring=9\\u003cbr\\u003eRing and Wire=Ring: 9 Wire: 10\\u003cbr\\u003ex=%{x}\\u003cbr\\u003ez=%{y}\\u003cbr\\u003ey=%{z}\\u003cextra\\u003e\\u003c\\u002fextra\\u003e\",\"legendgroup\":\"9\",\"line\":{\"color\":\"#00cc96\",\"dash\":\"solid\",\"width\":5},\"marker\":{\"symbol\":\"circle\"},\"mode\":\"lines\",\"name\":\"9\",\"scene\":\"scene\",\"showlegend\":false,\"x\":[7.56304390921339,20.348941754752584],\"y\":[0,150],\"z\":[23.957703984532046,14.734034846057584],\"type\":\"scatter3d\"},{\"hovertemplate\":\"ring=9\\u003cbr\\u003eRing and Wire=Ring: 9 Wire: 11\\u003cbr\\u003ex=%{x}\\u003cbr\\u003ez=%{y}\\u003cbr\\u003ey=%{z}\\u003cextra\\u003e\\u003c\\u002fextra\\u003e\",\"legendgroup\":\"9\",\"line\":{\"color\":\"#00cc96\",\"dash\":\"solid\",\"width\":5},\"marker\":{\"symbol\":\"circle\"},\"mode\":\"lines\",\"name\":\"9\",\"scene\":\"scene\",\"showlegend\":false,\"x\":[5.9284111605615255,19.307827015097516],\"y\":[0,150],\"z\":[24.41362641015222,16.07417274195543],\"type\":\"scatter3d\"},{\"hovertemplate\":\"ring=9\\u003cbr\\u003eRing and Wire=Ring: 9 Wire: 12\\u003cbr\\u003ex=%{x}\\u003cbr\\u003ez=%{y}\\u003cbr\\u003ey=%{z}\\u003cextra\\u003e\\u003c\\u002fextra\\u003e\",\"legendgroup\":\"9\",\"line\":{\"color\":\"#00cc96\",\"dash\":\"solid\",\"width\":5},\"marker\":{\"symbol\":\"circle\"},\"mode\":\"lines\",\"name\":\"9\",\"scene\":\"scene\",\"showlegend\":false,\"x\":[4.266728431525233,18.17861508921849],\"y\":[0,150],\"z\":[24.758155057975678,17.340967874406267],\"type\":\"scatter3d\"},{\"hovertemplate\":\"ring=9\\u003cbr\\u003eRing and Wire=Ring: 9 Wire: 13\\u003cbr\\u003ex=%{x}\\u003cbr\\u003ez=%{y}\\u003cbr\\u003ey=%{z}\\u003cextra\\u003e\\u003c\\u002fextra\\u003e\",\"legendgroup\":\"9\",\"line\":{\"color\":\"#00cc96\",\"dash\":\"solid\",\"width\":5},\"marker\":{\"symbol\":\"circle\"},\"mode\":\"lines\",\"name\":\"9\",\"scene\":\"scene\",\"showlegend\":false,\"x\":[2.585577599273331,16.96645831213709],\"y\":[0,150],\"z\":[24.989717922803536,18.528640147773032],\"type\":\"scatter3d\"},{\"hovertemplate\":\"ring=9\\u003cbr\\u003eRing and Wire=Ring: 9 Wire: 14\\u003cbr\\u003ex=%{x}\\u003cbr\\u003ez=%{y}\\u003cbr\\u003ey=%{z}\\u003cextra\\u003e\\u003c\\u002fextra\\u003e\",\"legendgroup\":\"9\",\"line\":{\"color\":\"#00cc96\",\"dash\":\"solid\",\"width\":5},\"marker\":{\"symbol\":\"circle\"},\"mode\":\"lines\",\"name\":\"9\",\"scene\":\"scene\",\"showlegend\":false,\"x\":[0.8926293694643928,15.676887477206689],\"y\":[0,150],\"z\":[25.107258436394883,19.63177048587703],\"type\":\"scatter3d\"},{\"hovertemplate\":\"ring=9\\u003cbr\\u003eRing and Wire=Ring: 9 Wire: 15\\u003cbr\\u003ex=%{x}\\u003cbr\\u003ez=%{y}\\u003cbr\\u003ey=%{z}\\u003cextra\\u003e\\u003c\\u002fextra\\u003e\",\"legendgroup\":\"9\",\"line\":{\"color\":\"#00cc96\",\"dash\":\"solid\",\"width\":5},\"marker\":{\"symbol\":\"circle\"},\"mode\":\"lines\",\"name\":\"9\",\"scene\":\"scene\",\"showlegend\":false,\"x\":[-0.8043917234238194,14.315786600370918],\"y\":[0,150],\"z\":[25.110240288345306,20.645325557999637],\"type\":\"scatter3d\"},{\"hovertemplate\":\"ring=9\\u003cbr\\u003eRing and Wire=Ring: 9 Wire: 16\\u003cbr\\u003ex=%{x}\\u003cbr\\u003ez=%{y}\\u003cbr\\u003ey=%{z}\\u003cextra\\u003e\\u003c\\u002fextra\\u003e\",\"legendgroup\":\"9\",\"line\":{\"color\":\"#00cc96\",\"dash\":\"solid\",\"width\":5},\"marker\":{\"symbol\":\"circle\"},\"mode\":\"lines\",\"name\":\"9\",\"scene\":\"scene\",\"showlegend\":false,\"x\":[-2.497742561373448,12.889366072748494],\"y\":[0,150],\"z\":[24.99864987314827,21.56468074481587],\"type\":\"scatter3d\"},{\"hovertemplate\":\"ring=9\\u003cbr\\u003eRing and Wire=Ring: 9 Wire: 17\\u003cbr\\u003ex=%{x}\\u003cbr\\u003ez=%{y}\\u003cbr\\u003ey=%{z}\\u003cextra\\u003e\\u003c\\u002fextra\\u003e\",\"legendgroup\":\"9\",\"line\":{\"color\":\"#00cc96\",\"dash\":\"solid\",\"width\":5},\"marker\":{\"symbol\":\"circle\"},\"mode\":\"lines\",\"name\":\"9\",\"scene\":\"scene\",\"showlegend\":false,\"x\":[-4.179696772898106,11.404134324042955],\"y\":[0,150],\"z\":[24.772996352273935,22.385641239471738],\"type\":\"scatter3d\"},{\"hovertemplate\":\"ring=9\\u003cbr\\u003eRing and Wire=Ring: 9 Wire: 18\\u003cbr\\u003ex=%{x}\\u003cbr\\u003ez=%{y}\\u003cbr\\u003ey=%{z}\\u003cextra\\u003e\\u003c\\u002fextra\\u003e\",\"legendgroup\":\"9\",\"line\":{\"color\":\"#00cc96\",\"dash\":\"solid\",\"width\":5},\"marker\":{\"symbol\":\"circle\"},\"mode\":\"lines\",\"name\":\"9\",\"scene\":\"scene\",\"showlegend\":false,\"x\":[-5.8425799867038855,9.866868126070658],\"y\":[0,150],\"z\":[24.434309330982117,23.104461187525743],\"type\":\"scatter3d\"},{\"hovertemplate\":\"ring=9\\u003cbr\\u003eRing and Wire=Ring: 9 Wire: 19\\u003cbr\\u003ex=%{x}\\u003cbr\\u003ez=%{y}\\u003cbr\\u003ey=%{z}\\u003cextra\\u003e\\u003c\\u002fextra\\u003e\",\"legendgroup\":\"9\",\"line\":{\"color\":\"#00cc96\",\"dash\":\"solid\",\"width\":5},\"marker\":{\"symbol\":\"circle\"},\"mode\":\"lines\",\"name\":\"9\",\"scene\":\"scene\",\"showlegend\":false,\"x\":[-7.478804848085305,8.28458167190537],\"y\":[0,150],\"z\":[23.984134160469672,23.71786077842355],\"type\":\"scatter3d\"},{\"hovertemplate\":\"ring=9\\u003cbr\\u003eRing and Wire=Ring: 9 Wire: 20\\u003cbr\\u003ex=%{x}\\u003cbr\\u003ez=%{y}\\u003cbr\\u003ey=%{z}\\u003cextra\\u003e\\u003c\\u002fextra\\u003e\",\"legendgroup\":\"9\",\"line\":{\"color\":\"#00cc96\",\"dash\":\"solid\",\"width\":5},\"marker\":{\"symbol\":\"circle\"},\"mode\":\"lines\",\"name\":\"9\",\"scene\":\"scene\",\"showlegend\":false,\"x\":[-9.080905638284639,6.664494571724013],\"y\":[0,150],\"z\":[23.42452488678741,24.22304121052131],\"type\":\"scatter3d\"},{\"hovertemplate\":\"ring=9\\u003cbr\\u003eRing and Wire=Ring: 9 Wire: 21\\u003cbr\\u003ex=%{x}\\u003cbr\\u003ez=%{y}\\u003cbr\\u003ey=%{z}\\u003cextra\\u003e\\u003c\\u002fextra\\u003e\",\"legendgroup\":\"9\",\"line\":{\"color\":\"#00cc96\",\"dash\":\"solid\",\"width\":5},\"marker\":{\"symbol\":\"circle\"},\"mode\":\"lines\",\"name\":\"9\",\"scene\":\"scene\",\"showlegend\":false,\"x\":[-10.641572338854294,5.013998911381286],\"y\":[0,150],\"z\":[22.758034878699075,24.617697461375624],\"type\":\"scatter3d\"},{\"hovertemplate\":\"ring=9\\u003cbr\\u003eRing and Wire=Ring: 9 Wire: 22\\u003cbr\\u003ex=%{x}\\u003cbr\\u003ez=%{y}\\u003cbr\\u003ey=%{z}\\u003cextra\\u003e\\u003c\\u002fextra\\u003e\",\"legendgroup\":\"9\",\"line\":{\"color\":\"#00cc96\",\"dash\":\"solid\",\"width\":5},\"marker\":{\"symbol\":\"circle\"},\"mode\":\"lines\",\"name\":\"9\",\"scene\":\"scene\",\"showlegend\":false,\"x\":[-12.153683985594292,3.340625524017426],\"y\":[0,150],\"z\":[21.987705177245335,24.900028805032246],\"type\":\"scatter3d\"},{\"hovertemplate\":\"ring=9\\u003cbr\\u003eRing and Wire=Ring: 9 Wire: 23\\u003cbr\\u003ex=%{x}\\u003cbr\\u003ez=%{y}\\u003cbr\\u003ey=%{z}\\u003cextra\\u003e\\u003c\\u002fextra\\u003e\",\"legendgroup\":\"9\",\"line\":{\"color\":\"#00cc96\",\"dash\":\"solid\",\"width\":5},\"marker\":{\"symbol\":\"circle\"},\"mode\":\"lines\",\"name\":\"9\",\"scene\":\"scene\",\"showlegend\":false,\"x\":[-13.610341159878692,1.6520096285938273],\"y\":[0,150],\"z\":[21.117050620171,25.068747028325646],\"type\":\"scatter3d\"},{\"hovertemplate\":\"ring=9\\u003cbr\\u003eRing and Wire=Ring: 9 Wire: 24\\u003cbr\\u003ex=%{x}\\u003cbr\\u003ez=%{y}\\u003cbr\\u003ey=%{z}\\u003cextra\\u003e\\u003c\\u002fextra\\u003e\",\"legendgroup\":\"9\",\"line\":{\"color\":\"#00cc96\",\"dash\":\"solid\",\"width\":5},\"marker\":{\"symbol\":\"circle\"},\"mode\":\"lines\",\"name\":\"9\",\"scene\":\"scene\",\"showlegend\":false,\"x\":[-15.004897469120348,-0.044144007859893364],\"y\":[0,150],\"z\":[20.150043804526536,25.123082308700152],\"type\":\"scatter3d\"},{\"hovertemplate\":\"ring=9\\u003cbr\\u003eRing and Wire=Ring: 9 Wire: 25\\u003cbr\\u003ex=%{x}\\u003cbr\\u003ez=%{y}\\u003cbr\\u003ey=%{z}\\u003cextra\\u003e\\u003c\\u002fextra\\u003e\",\"legendgroup\":\"9\",\"line\":{\"color\":\"#00cc96\",\"dash\":\"solid\",\"width\":5},\"marker\":{\"symbol\":\"circle\"},\"mode\":\"lines\",\"name\":\"9\",\"scene\":\"scene\",\"showlegend\":false,\"x\":[-16.330989872735813,-1.7400962253306256],\"y\":[0,150],\"z\":[19.091096960618913,25.06278672673377],\"type\":\"scatter3d\"},{\"hovertemplate\":\"ring=9\\u003cbr\\u003eRing and Wire=Ring: 9 Wire: 26\\u003cbr\\u003ex=%{x}\\u003cbr\\u003ez=%{y}\\u003cbr\\u003ey=%{z}\\u003cextra\\u003e\\u003c\\u002fextra\\u003e\",\"legendgroup\":\"9\",\"line\":{\"color\":\"#00cc96\",\"dash\":\"solid\",\"width\":5},\"marker\":{\"symbol\":\"circle\"},\"mode\":\"lines\",\"name\":\"9\",\"scene\":\"scene\",\"showlegend\":false,\"x\":[-17.582567715240124,-3.4281087828338777],\"y\":[0,150],\"z\":[17.945041820016694,24.888135397337617],\"type\":\"scatter3d\"},{\"hovertemplate\":\"ring=9\\u003cbr\\u003eRing and Wire=Ring: 9 Wire: 27\\u003cbr\\u003ex=%{x}\\u003cbr\\u003ez=%{y}\\u003cbr\\u003ey=%{z}\\u003cextra\\u003e\\u003c\\u002fextra\\u003e\",\"legendgroup\":\"9\",\"line\":{\"color\":\"#00cc96\",\"dash\":\"solid\",\"width\":5},\"marker\":{\"symbol\":\"circle\"},\"mode\":\"lines\",\"name\":\"9\",\"scene\":\"scene\",\"showlegend\":false,\"x\":[-18.75392033400002,-5.100479666232588],\"y\":[0,150],\"z\":[16.71710756946706,24.599925214469664],\"type\":\"scatter3d\"},{\"hovertemplate\":\"ring=9\\u003cbr\\u003eRing and Wire=Ring: 9 Wire: 28\\u003cbr\\u003ex=%{x}\\u003cbr\\u003ez=%{y}\\u003cbr\\u003ey=%{z}\\u003cextra\\u003e\\u003c\\u002fextra\\u003e\",\"legendgroup\":\"9\",\"line\":{\"color\":\"#00cc96\",\"dash\":\"solid\",\"width\":5},\"marker\":{\"symbol\":\"circle\"},\"mode\":\"lines\",\"name\":\"9\",\"scene\":\"scene\",\"showlegend\":false,\"x\":[-19.839703115677697,-6.749578230761016],\"y\":[0,150],\"z\":[15.412896991316105,24.199471215090412],\"type\":\"scatter3d\"},{\"hovertemplate\":\"ring=9\\u003cbr\\u003eRing and Wire=Ring: 9 Wire: 29\\u003cbr\\u003ex=%{x}\\u003cbr\\u003ez=%{y}\\u003cbr\\u003ey=%{z}\\u003cextra\\u003e\\u003c\\u002fextra\\u003e\",\"legendgroup\":\"9\",\"line\":{\"color\":\"#00cc96\",\"dash\":\"solid\",\"width\":5},\"marker\":{\"symbol\":\"circle\"},\"mode\":\"lines\",\"name\":\"9\",\"scene\":\"scene\",\"showlegend\":false,\"x\":[-20.834961882475643,-8.367880017906685],\"y\":[0,150],\"z\":[14.03836089929802,23.688600578950847],\"type\":\"scatter3d\"},{\"hovertemplate\":\"ring=9\\u003cbr\\u003eRing and Wire=Ring: 9 Wire: 30\\u003cbr\\u003ex=%{x}\\u003cbr\\u003ez=%{y}\\u003cbr\\u003ey=%{z}\\u003cextra\\u003e\\u003c\\u002fextra\\u003e\",\"legendgroup\":\"9\",\"line\":{\"color\":\"#00cc96\",\"dash\":\"solid\",\"width\":5},\"marker\":{\"symbol\":\"circle\"},\"mode\":\"lines\",\"name\":\"9\",\"scene\":\"scene\",\"showlegend\":false,\"x\":[-21.73515549691366,-9.948001087788803],\"y\":[0,150],\"z\":[12.599770986336868,23.069644291590304],\"type\":\"scatter3d\"},{\"hovertemplate\":\"ring=9\\u003cbr\\u003eRing and Wire=Ring: 9 Wire: 31\\u003cbr\\u003ex=%{x}\\u003cbr\\u003ez=%{y}\\u003cbr\\u003ey=%{z}\\u003cextra\\u003e\\u003c\\u002fextra\\u003e\",\"legendgroup\":\"9\",\"line\":{\"color\":\"#00cc96\",\"dash\":\"solid\",\"width\":5},\"marker\":{\"symbol\":\"circle\"},\"mode\":\"lines\",\"name\":\"9\",\"scene\":\"scene\",\"showlegend\":false,\"x\":[-22.5361765819976,-11.482731710382282],\"y\":[0,150],\"z\":[11.103691208250316,22.34542650858411],\"type\":\"scatter3d\"},{\"hovertemplate\":\"ring=9\\u003cbr\\u003eRing and Wire=Ring: 9 Wire: 32\\u003cbr\\u003ex=%{x}\\u003cbr\\u003ez=%{y}\\u003cbr\\u003ey=%{z}\\u003cextra\\u003e\\u003c\\u002fextra\\u003e\",\"legendgroup\":\"9\",\"line\":{\"color\":\"#00cc96\",\"dash\":\"solid\",\"width\":5},\"marker\":{\"symbol\":\"circle\"},\"mode\":\"lines\",\"name\":\"9\",\"scene\":\"scene\",\"showlegend\":false,\"x\":[-23.234370262238528,-12.96506926186224],\"y\":[0,150],\"z\":[9.556947833924717,21.519251669569442],\"type\":\"scatter3d\"},{\"hovertemplate\":\"ring=9\\u003cbr\\u003eRing and Wire=Ring: 9 Wire: 33\\u003cbr\\u003ex=%{x}\\u003cbr\\u003ez=%{y}\\u003cbr\\u003ey=%{z}\\u003cextra\\u003e\\u003c\\u002fextra\\u003e\",\"legendgroup\":\"9\",\"line\":{\"color\":\"#00cc96\",\"dash\":\"solid\",\"width\":5},\"marker\":{\"symbol\":\"circle\"},\"mode\":\"lines\",\"name\":\"9\",\"scene\":\"scene\",\"showlegend\":false,\"x\":[-23.82655084001132,-14.388250175970452],\"y\":[0,150],\"z\":[7.966598298615812,20.594889420845128],\"type\":\"scatter3d\"},{\"hovertemplate\":\"ring=9\\u003cbr\\u003eRing and Wire=Ring: 9 Wire: 34\\u003cbr\\u003ex=%{x}\\u003cbr\\u003ez=%{y}\\u003cbr\\u003ey=%{z}\\u003cextra\\u003e\\u003c\\u002fextra\\u003e\",\"legendgroup\":\"9\",\"line\":{\"color\":\"#00cc96\",\"dash\":\"solid\",\"width\":5},\"marker\":{\"symbol\":\"circle\"},\"mode\":\"lines\",\"name\":\"9\",\"scene\":\"scene\",\"showlegend\":false,\"x\":[-24.31001633116221,-15.745780804616809],\"y\":[0,150],\"z\":[6.33989900249044,19.57655741534025],\"type\":\"scatter3d\"},{\"hovertemplate\":\"ring=9\\u003cbr\\u003eRing and Wire=Ring: 9 Wire: 35\\u003cbr\\u003ex=%{x}\\u003cbr\\u003ez=%{y}\\u003cbr\\u003ey=%{z}\\u003cextra\\u003e\\u003c\\u002fextra\\u003e\",\"legendgroup\":\"9\",\"line\":{\"color\":\"#00cc96\",\"dash\":\"solid\",\"width\":5},\"marker\":{\"symbol\":\"circle\"},\"mode\":\"lines\",\"name\":\"9\",\"scene\":\"scene\",\"showlegend\":false,\"x\":[-24.682560793542784,-17.0314670469062],\"y\":[0,150],\"z\":[4.684272201336842,18.468902068431156],\"type\":\"scatter3d\"},{\"hovertemplate\":\"ring=9\\u003cbr\\u003eRing and Wire=Ring: 9 Wire: 36\\u003cbr\\u003ex=%{x}\\u003cbr\\u003ez=%{y}\\u003cbr\\u003ey=%{z}\\u003cextra\\u003e\\u003c\\u002fextra\\u003e\",\"legendgroup\":\"9\",\"line\":{\"color\":\"#00cc96\",\"dash\":\"solid\",\"width\":5},\"marker\":{\"symbol\":\"circle\"},\"mode\":\"lines\",\"name\":\"9\",\"scene\":\"scene\",\"showlegend\":false,\"x\":[-24.942484392218063,-18.239442611400257],\"y\":[0,150],\"z\":[3.007272140513872,17.276977357413795],\"type\":\"scatter3d\"},{\"hovertemplate\":\"ring=9\\u003cbr\\u003eRing and Wire=Ring: 9 Wire: 37\\u003cbr\\u003ex=%{x}\\u003cbr\\u003ez=%{y}\\u003cbr\\u003ey=%{z}\\u003cextra\\u003e\\u003c\\u002fextra\\u003e\",\"legendgroup\":\"9\",\"line\":{\"color\":\"#00cc96\",\"dash\":\"solid\",\"width\":5},\"marker\":{\"symbol\":\"circle\"},\"mode\":\"lines\",\"name\":\"9\",\"scene\":\"scene\",\"showlegend\":false,\"x\":[-25.088601155423394,-19.364195782659632],\"y\":[0,150],\"z\":[1.3165505866620988,16.006221761364525],\"type\":\"scatter3d\"},{\"hovertemplate\":\"ring=9\\u003cbr\\u003eRing and Wire=Ring: 9 Wire: 38\\u003cbr\\u003ex=%{x}\\u003cbr\\u003ez=%{y}\\u003cbr\\u003ey=%{z}\\u003cextra\\u003e\\u003c\\u002fextra\\u003e\",\"legendgroup\":\"9\",\"line\":{\"color\":\"#00cc96\",\"dash\":\"solid\",\"width\":5},\"marker\":{\"symbol\":\"circle\"},\"mode\":\"lines\",\"name\":\"9\",\"scene\":\"scene\",\"showlegend\":false,\"x\":[-25.12024438588164,-20.40059456993741],\"y\":[0,150],\"z\":[-0.3801780855523731,14.662433446607446],\"type\":\"scatter3d\"},{\"hovertemplate\":\"ring=9\\u003cbr\\u003eRing and Wire=Ring: 9 Wire: 39\\u003cbr\\u003ex=%{x}\\u003cbr\\u003ez=%{y}\\u003cbr\\u003ey=%{z}\\u003cextra\\u003e\\u003c\\u002fextra\\u003e\",\"legendgroup\":\"9\",\"line\":{\"color\":\"#00cc96\",\"dash\":\"solid\",\"width\":5},\"marker\":{\"symbol\":\"circle\"},\"mode\":\"lines\",\"name\":\"9\",\"scene\":\"scene\",\"showlegend\":false,\"x\":[-25.037269702789917,-21.343910123275823],\"y\":[0,150],\"z\":[-2.07517209236018,13.251743811011297],\"type\":\"scatter3d\"},{\"hovertemplate\":\"ring=9\\u003cbr\\u003eRing and Wire=Ring: 9 Wire: 40\\u003cbr\\u003ex=%{x}\\u003cbr\\u003ez=%{y}\\u003cbr\\u003ey=%{z}\\u003cextra\\u003e\\u003c\\u002fextra\\u003e\",\"legendgroup\":\"9\",\"line\":{\"color\":\"#00cc96\",\"dash\":\"solid\",\"width\":5},\"marker\":{\"symbol\":\"circle\"},\"mode\":\"lines\",\"name\":\"9\",\"scene\":\"scene\",\"showlegend\":false,\"x\":[-24.840055700596082,-22.189838310163978],\"y\":[0,150],\"z\":[-3.760697564872313,11.780589507827337],\"type\":\"scatter3d\"},{\"hovertemplate\":\"ring=9\\u003cbr\\u003eRing and Wire=Ring: 9 Wire: 41\\u003cbr\\u003ex=%{x}\\u003cbr\\u003ez=%{y}\\u003cbr\\u003ey=%{z}\\u003cextra\\u003e\\u003c\\u002fextra\\u003e\",\"legendgroup\":\"9\",\"line\":{\"color\":\"#00cc96\",\"dash\":\"solid\",\"width\":5},\"marker\":{\"symbol\":\"circle\"},\"mode\":\"lines\",\"name\":\"9\",\"scene\":\"scene\",\"showlegend\":false,\"x\":[-24.529502221559113,-22.934519354307305],\"y\":[0,150],\"z\":[-5.429063836950059,10.255683076716837],\"type\":\"scatter3d\"},{\"hovertemplate\":\"ring=9\\u003cbr\\u003eRing and Wire=Ring: 9 Wire: 42\\u003cbr\\u003ex=%{x}\\u003cbr\\u003ez=%{y}\\u003cbr\\u003ey=%{z}\\u003cextra\\u003e\\u003c\\u002fextra\\u003e\",\"legendgroup\":\"9\",\"line\":{\"color\":\"#00cc96\",\"dash\":\"solid\",\"width\":5},\"marker\":{\"symbol\":\"circle\"},\"mode\":\"lines\",\"name\":\"9\",\"scene\":\"scene\",\"showlegend\":false,\"x\":[-24.107026249975274,-23.574555446901524],\"y\":[0,150],\"z\":[-7.07265853595064,8.68398231597221],\"type\":\"scatter3d\"},{\"hovertemplate\":\"ring=9\\u003cbr\\u003eRing and Wire=Ring: 9 Wire: 43\\u003cbr\\u003ex=%{x}\\u003cbr\\u003ez=%{y}\\u003cbr\\u003ey=%{z}\\u003cextra\\u003e\\u003c\\u002fextra\\u003e\",\"legendgroup\":\"9\",\"line\":{\"color\":\"#00cc96\",\"dash\":\"solid\",\"width\":5},\"marker\":{\"symbol\":\"circle\"},\"mode\":\"lines\",\"name\":\"9\",\"scene\":\"scene\",\"showlegend\":false,\"x\":[-23.574555446803746,-24.10702625005491],\"y\":[0,150],\"z\":[-8.683982316237651,7.072658535679204],\"type\":\"scatter3d\"},{\"hovertemplate\":\"ring=9\\u003cbr\\u003eRing and Wire=Ring: 9 Wire: 44\\u003cbr\\u003ex=%{x}\\u003cbr\\u003ez=%{y}\\u003cbr\\u003ey=%{z}\\u003cextra\\u003e\\u003c\\u002fextra\\u003e\",\"legendgroup\":\"9\",\"line\":{\"color\":\"#00cc96\",\"dash\":\"solid\",\"width\":5},\"marker\":{\"symbol\":\"circle\"},\"mode\":\"lines\",\"name\":\"9\",\"scene\":\"scene\",\"showlegend\":false,\"x\":[-22.934519354191824,-24.529502221620245],\"y\":[0,150],\"z\":[-10.255683076975082,5.429063836673855],\"type\":\"scatter3d\"},{\"hovertemplate\":\"ring=9\\u003cbr\\u003eRing and Wire=Ring: 9 Wire: 45\\u003cbr\\u003ex=%{x}\\u003cbr\\u003ez=%{y}\\u003cbr\\u003ey=%{z}\\u003cextra\\u003e\\u003c\\u002fextra\\u003e\",\"legendgroup\":\"9\",\"line\":{\"color\":\"#00cc96\",\"dash\":\"solid\",\"width\":5},\"marker\":{\"symbol\":\"circle\"},\"mode\":\"lines\",\"name\":\"9\",\"scene\":\"scene\",\"showlegend\":false,\"x\":[-22.18983831003133,-24.840055700638427],\"y\":[0,150],\"z\":[-11.780589508077187,3.7606975645926237],\"type\":\"scatter3d\"},{\"hovertemplate\":\"ring=9\\u003cbr\\u003eRing and Wire=Ring: 9 Wire: 46\\u003cbr\\u003ex=%{x}\\u003cbr\\u003ez=%{y}\\u003cbr\\u003ey=%{z}\\u003cextra\\u003e\\u003c\\u002fextra\\u003e\",\"legendgroup\":\"9\",\"line\":{\"color\":\"#00cc96\",\"dash\":\"solid\",\"width\":5},\"marker\":{\"symbol\":\"circle\"},\"mode\":\"lines\",\"name\":\"9\",\"scene\":\"scene\",\"showlegend\":false,\"x\":[-21.343910123126612,-25.037269702813283],\"y\":[0,150],\"z\":[-13.251743811251622,2.0751720920782697],\"type\":\"scatter3d\"},{\"hovertemplate\":\"ring=9\\u003cbr\\u003eRing and Wire=Ring: 9 Wire: 47\\u003cbr\\u003ex=%{x}\\u003cbr\\u003ez=%{y}\\u003cbr\\u003ey=%{z}\\u003cextra\\u003e\\u003c\\u002fextra\\u003e\",\"legendgroup\":\"9\",\"line\":{\"color\":\"#00cc96\",\"dash\":\"solid\",\"width\":5},\"marker\":{\"symbol\":\"circle\"},\"mode\":\"lines\",\"name\":\"9\",\"scene\":\"scene\",\"showlegend\":false,\"x\":[-20.400594569772313,-25.120244385885922],\"y\":[0,150],\"z\":[-14.662433446837149,0.38017808526952734],\"type\":\"scatter3d\"},{\"hovertemplate\":\"ring=9\\u003cbr\\u003eRing and Wire=Ring: 9 Wire: 48\\u003cbr\\u003ex=%{x}\\u003cbr\\u003ez=%{y}\\u003cbr\\u003ey=%{z}\\u003cextra\\u003e\\u003c\\u002fextra\\u003e\",\"legendgroup\":\"9\",\"line\":{\"color\":\"#00cc96\",\"dash\":\"solid\",\"width\":5},\"marker\":{\"symbol\":\"circle\"},\"mode\":\"lines\",\"name\":\"9\",\"scene\":\"scene\",\"showlegend\":false,\"x\":[-19.36419578247941,-25.088601155408572],\"y\":[0,150],\"z\":[-16.00622176158256,-1.3165505869445866],\"type\":\"scatter3d\"},{\"hovertemplate\":\"ring=9\\u003cbr\\u003eRing and Wire=Ring: 9 Wire: 49\\u003cbr\\u003ex=%{x}\\u003cbr\\u003ez=%{y}\\u003cbr\\u003ey=%{z}\\u003cextra\\u003e\\u003c\\u002fextra\\u003e\",\"legendgroup\":\"9\",\"line\":{\"color\":\"#00cc96\",\"dash\":\"solid\",\"width\":5},\"marker\":{\"symbol\":\"circle\"},\"mode\":\"lines\",\"name\":\"9\",\"scene\":\"scene\",\"showlegend\":false,\"x\":[-18.239442611205725,-24.9424843921842],\"y\":[0,150],\"z\":[-17.276977357619163,-3.007272140794715],\"type\":\"scatter3d\"},{\"hovertemplate\":\"ring=9\\u003cbr\\u003eRing and Wire=Ring: 9 Wire: 50\\u003cbr\\u003ex=%{x}\\u003cbr\\u003ez=%{y}\\u003cbr\\u003ey=%{z}\\u003cextra\\u003e\\u003c\\u002fextra\\u003e\",\"legendgroup\":\"9\",\"line\":{\"color\":\"#00cc96\",\"dash\":\"solid\",\"width\":5},\"marker\":{\"symbol\":\"circle\"},\"mode\":\"lines\",\"name\":\"9\",\"scene\":\"scene\",\"showlegend\":false,\"x\":[-17.031467046698246,-24.68256079349004],\"y\":[0,150],\"z\":[-18.468902068622924,-4.6842722016147595],\"type\":\"scatter3d\"},{\"hovertemplate\":\"ring=9\\u003cbr\\u003eRing and Wire=Ring: 9 Wire: 51\\u003cbr\\u003ex=%{x}\\u003cbr\\u003ez=%{y}\\u003cbr\\u003ey=%{z}\\u003cextra\\u003e\\u003c\\u002fextra\\u003e\",\"legendgroup\":\"9\",\"line\":{\"color\":\"#00cc96\",\"dash\":\"solid\",\"width\":5},\"marker\":{\"symbol\":\"circle\"},\"mode\":\"lines\",\"name\":\"9\",\"scene\":\"scene\",\"showlegend\":false,\"x\":[-15.745780804396382,-24.31001633109082],\"y\":[0,150],\"z\":[-19.57655741551754,-6.33989900276416],\"type\":\"scatter3d\"},{\"hovertemplate\":\"ring=9\\u003cbr\\u003eRing and Wire=Ring: 9 Wire: 52\\u003cbr\\u003ex=%{x}\\u003cbr\\u003ez=%{y}\\u003cbr\\u003ey=%{z}\\u003cextra\\u003e\\u003c\\u002fextra\\u003e\",\"legendgroup\":\"9\",\"line\":{\"color\":\"#00cc96\",\"dash\":\"solid\",\"width\":5},\"marker\":{\"symbol\":\"circle\"},\"mode\":\"lines\",\"name\":\"9\",\"scene\":\"scene\",\"showlegend\":false,\"x\":[-14.388250175738563,-23.826550839921616],\"y\":[0,150],\"z\":[-20.59488942100714,-7.966598298884092],\"type\":\"scatter3d\"},{\"hovertemplate\":\"ring=9\\u003cbr\\u003eRing and Wire=Ring: 9 Wire: 53\\u003cbr\\u003ex=%{x}\\u003cbr\\u003ez=%{y}\\u003cbr\\u003ey=%{z}\\u003cextra\\u003e\\u003c\\u002fextra\\u003e\",\"legendgroup\":\"9\",\"line\":{\"color\":\"#00cc96\",\"dash\":\"solid\",\"width\":5},\"marker\":{\"symbol\":\"circle\"},\"mode\":\"lines\",\"name\":\"9\",\"scene\":\"scene\",\"showlegend\":false,\"x\":[-12.965069261619941,-23.23437026213092],\"y\":[0,150],\"z\":[-21.519251669715423,-9.556947834186326],\"type\":\"scatter3d\"},{\"hovertemplate\":\"ring=9\\u003cbr\\u003eRing and Wire=Ring: 9 Wire: 54\\u003cbr\\u003ex=%{x}\\u003cbr\\u003ez=%{y}\\u003cbr\\u003ey=%{z}\\u003cextra\\u003e\\u003c\\u002fextra\\u003e\",\"legendgroup\":\"9\",\"line\":{\"color\":\"#00cc96\",\"dash\":\"solid\",\"width\":5},\"marker\":{\"symbol\":\"circle\"},\"mode\":\"lines\",\"name\":\"9\",\"scene\":\"scene\",\"showlegend\":false,\"x\":[-11.482731710130683,-22.536176581872578],\"y\":[0,150],\"z\":[-22.345426508713405,-11.103691208504063],\"type\":\"scatter3d\"},{\"hovertemplate\":\"ring=9\\u003cbr\\u003eRing and Wire=Ring: 9 Wire: 55\\u003cbr\\u003ex=%{x}\\u003cbr\\u003ez=%{y}\\u003cbr\\u003ey=%{z}\\u003cextra\\u003e\\u003c\\u002fextra\\u003e\",\"legendgroup\":\"9\",\"line\":{\"color\":\"#00cc96\",\"dash\":\"solid\",\"width\":5},\"marker\":{\"symbol\":\"circle\"},\"mode\":\"lines\",\"name\":\"9\",\"scene\":\"scene\",\"showlegend\":false,\"x\":[-9.94800108752905,-21.735155496771792],\"y\":[0,150],\"z\":[-23.069644291702318,-12.599770986581598],\"type\":\"scatter3d\"},{\"hovertemplate\":\"ring=9\\u003cbr\\u003eRing and Wire=Ring: 9 Wire: 56\\u003cbr\\u003ex=%{x}\\u003cbr\\u003ez=%{y}\\u003cbr\\u003ey=%{z}\\u003cextra\\u003e\\u003c\\u002fextra\\u003e\",\"legendgroup\":\"9\",\"line\":{\"color\":\"#00cc96\",\"dash\":\"solid\",\"width\":5},\"marker\":{\"symbol\":\"circle\"},\"mode\":\"lines\",\"name\":\"9\",\"scene\":\"scene\",\"showlegend\":false,\"x\":[-8.367880017639951,-20.834961882317565],\"y\":[0,150],\"z\":[-23.68860057904507,-14.038360899532623],\"type\":\"scatter3d\"},{\"hovertemplate\":\"ring=9\\u003cbr\\u003eRing and Wire=Ring: 9 Wire: 57\\u003cbr\\u003ex=%{x}\\u003cbr\\u003ez=%{y}\\u003cbr\\u003ey=%{z}\\u003cextra\\u003e\\u003c\\u002fextra\\u003e\",\"legendgroup\":\"9\",\"line\":{\"color\":\"#00cc96\",\"dash\":\"solid\",\"width\":5},\"marker\":{\"symbol\":\"circle\"},\"mode\":\"lines\",\"name\":\"9\",\"scene\":\"scene\",\"showlegend\":false,\"x\":[-6.7495782304885275,-19.839703115504147],\"y\":[0,150],\"z\":[-24.19947121516641,-15.412896991539505],\"type\":\"scatter3d\"},{\"hovertemplate\":\"ring=9\\u003cbr\\u003eRing and Wire=Ring: 9 Wire: 58\\u003cbr\\u003ex=%{x}\\u003cbr\\u003ez=%{y}\\u003cbr\\u003ey=%{z}\\u003cextra\\u003e\\u003c\\u002fextra\\u003e\",\"legendgroup\":\"9\",\"line\":{\"color\":\"#00cc96\",\"dash\":\"solid\",\"width\":5},\"marker\":{\"symbol\":\"circle\"},\"mode\":\"lines\",\"name\":\"9\",\"scene\":\"scene\",\"showlegend\":false,\"x\":[-5.100479665955602,-18.75392033381179],\"y\":[0,150],\"z\":[-24.599925214527094,-16.717107569678223],\"type\":\"scatter3d\"},{\"hovertemplate\":\"ring=9\\u003cbr\\u003eRing and Wire=Ring: 9 Wire: 59\\u003cbr\\u003ex=%{x}\\u003cbr\\u003ez=%{y}\\u003cbr\\u003ey=%{z}\\u003cextra\\u003e\\u003c\\u002fextra\\u003e\",\"legendgroup\":\"9\",\"line\":{\"color\":\"#00cc96\",\"dash\":\"solid\",\"width\":5},\"marker\":{\"symbol\":\"circle\"},\"mode\":\"lines\",\"name\":\"9\",\"scene\":\"scene\",\"showlegend\":false,\"x\":[-3.428108782553637,-17.582567715038063],\"y\":[0,150],\"z\":[-24.888135397376214,-17.945041820214673],\"type\":\"scatter3d\"},{\"hovertemplate\":\"ring=9\\u003cbr\\u003eRing and Wire=Ring: 9 Wire: 60\\u003cbr\\u003ex=%{x}\\u003cbr\\u003ez=%{y}\\u003cbr\\u003ey=%{z}\\u003cextra\\u003e\\u003c\\u002fextra\\u003e\",\"legendgroup\":\"9\",\"line\":{\"color\":\"#00cc96\",\"dash\":\"solid\",\"width\":5},\"marker\":{\"symbol\":\"circle\"},\"mode\":\"lines\",\"name\":\"9\",\"scene\":\"scene\",\"showlegend\":false,\"x\":[-1.7400962250484167,-16.330989872520846],\"y\":[0,150],\"z\":[-25.062786726753366,-19.0910969608028],\"type\":\"scatter3d\"},{\"hovertemplate\":\"ring=9\\u003cbr\\u003eRing and Wire=Ring: 9 Wire: 61\\u003cbr\\u003ex=%{x}\\u003cbr\\u003ez=%{y}\\u003cbr\\u003ey=%{z}\\u003cextra\\u003e\\u003c\\u002fextra\\u003e\",\"legendgroup\":\"9\",\"line\":{\"color\":\"#00cc96\",\"dash\":\"solid\",\"width\":5},\"marker\":{\"symbol\":\"circle\"},\"mode\":\"lines\",\"name\":\"9\",\"scene\":\"scene\",\"showlegend\":false,\"x\":[-0.044144007576994326,-15.004897468893446],\"y\":[0,150],\"z\":[-25.123082308700646,-20.1500438046955],\"type\":\"scatter3d\"},{\"hovertemplate\":\"ring=9\\u003cbr\\u003eRing and Wire=Ring: 9 Wire: 62\\u003cbr\\u003ex=%{x}\\u003cbr\\u003ez=%{y}\\u003cbr\\u003ey=%{z}\\u003cextra\\u003e\\u003c\\u002fextra\\u003e\",\"legendgroup\":\"9\",\"line\":{\"color\":\"#00cc96\",\"dash\":\"solid\",\"width\":5},\"marker\":{\"symbol\":\"circle\"},\"mode\":\"lines\",\"name\":\"9\",\"scene\":\"scene\",\"showlegend\":false,\"x\":[1.6520096288761028,-13.61034115964091],\"y\":[0,150],\"z\":[-25.06874702830704,-21.117050620324253],\"type\":\"scatter3d\"},{\"hovertemplate\":\"ring=9\\u003cbr\\u003eRing and Wire=Ring: 9 Wire: 63\\u003cbr\\u003ex=%{x}\\u003cbr\\u003ez=%{y}\\u003cbr\\u003ey=%{z}\\u003cextra\\u003e\\u003c\\u002fextra\\u003e\",\"legendgroup\":\"9\",\"line\":{\"color\":\"#00cc96\",\"dash\":\"solid\",\"width\":5},\"marker\":{\"symbol\":\"circle\"},\"mode\":\"lines\",\"name\":\"9\",\"scene\":\"scene\",\"showlegend\":false,\"x\":[3.340625524297801,-12.153683985346708],\"y\":[0,150],\"z\":[-24.90002880499463,-21.987705177382185],\"type\":\"scatter3d\"},{\"hovertemplate\":\"ring=9\\u003cbr\\u003eRing and Wire=Ring: 9 Wire: 64\\u003cbr\\u003ex=%{x}\\u003cbr\\u003ez=%{y}\\u003cbr\\u003ey=%{z}\\u003cextra\\u003e\\u003c\\u002fextra\\u003e\",\"legendgroup\":\"9\",\"line\":{\"color\":\"#00cc96\",\"dash\":\"solid\",\"width\":5},\"marker\":{\"symbol\":\"circle\"},\"mode\":\"lines\",\"name\":\"9\",\"scene\":\"scene\",\"showlegend\":false,\"x\":[5.0139989116584935,-10.641572338598026],\"y\":[0,150],\"z\":[-24.61769746131916,-22.758034878818904],\"type\":\"scatter3d\"},{\"hovertemplate\":\"ring=9\\u003cbr\\u003eRing and Wire=Ring: 9 Wire: 65\\u003cbr\\u003ex=%{x}\\u003cbr\\u003ez=%{y}\\u003cbr\\u003ey=%{z}\\u003cextra\\u003e\\u003c\\u002fextra\\u003e\",\"legendgroup\":\"9\",\"line\":{\"color\":\"#00cc96\",\"dash\":\"solid\",\"width\":5},\"marker\":{\"symbol\":\"circle\"},\"mode\":\"lines\",\"name\":\"9\",\"scene\":\"scene\",\"showlegend\":false,\"x\":[6.664494571996767,-9.080905638020878],\"y\":[0,150],\"z\":[-24.223041210446265,-23.42452488688966],\"type\":\"scatter3d\"},{\"hovertemplate\":\"ring=9\\u003cbr\\u003eRing and Wire=Ring: 9 Wire: 66\\u003cbr\\u003ex=%{x}\\u003cbr\\u003ez=%{y}\\u003cbr\\u003ey=%{z}\\u003cextra\\u003e\\u003c\\u002fextra\\u003e\",\"legendgroup\":\"9\",\"line\":{\"color\":\"#00cc96\",\"dash\":\"solid\",\"width\":5},\"marker\":{\"symbol\":\"circle\"},\"mode\":\"lines\",\"name\":\"9\",\"scene\":\"scene\",\"showlegend\":false,\"x\":[8.284581672172434,-7.478804847815241],\"y\":[0,150],\"z\":[-23.717860778330266,-23.984134160553882],\"type\":\"scatter3d\"},{\"hovertemplate\":\"ring=9\\u003cbr\\u003eRing and Wire=Ring: 9 Wire: 67\\u003cbr\\u003ex=%{x}\\u003cbr\\u003ez=%{y}\\u003cbr\\u003ey=%{z}\\u003cextra\\u003e\\u003c\\u002fextra\\u003e\",\"legendgroup\":\"9\",\"line\":{\"color\":\"#00cc96\",\"dash\":\"solid\",\"width\":5},\"marker\":{\"symbol\":\"circle\"},\"mode\":\"lines\",\"name\":\"9\",\"scene\":\"scene\",\"showlegend\":false,\"x\":[9.866868126330825,-5.842579986428741],\"y\":[0,150],\"z\":[-23.104461187414636,-24.434309331047906],\"type\":\"scatter3d\"},{\"hovertemplate\":\"ring=9\\u003cbr\\u003eRing and Wire=Ring: 9 Wire: 68\\u003cbr\\u003ex=%{x}\\u003cbr\\u003ez=%{y}\\u003cbr\\u003ey=%{z}\\u003cextra\\u003e\\u003c\\u002fextra\\u003e\",\"legendgroup\":\"9\",\"line\":{\"color\":\"#00cc96\",\"dash\":\"solid\",\"width\":5},\"marker\":{\"symbol\":\"circle\"},\"mode\":\"lines\",\"name\":\"9\",\"scene\":\"scene\",\"showlegend\":false,\"x\":[11.404134324295018,-4.179696772619161],\"y\":[0,150],\"z\":[-22.385641239343325,-24.772996352320998],\"type\":\"scatter3d\"},{\"hovertemplate\":\"ring=9\\u003cbr\\u003eRing and Wire=Ring: 9 Wire: 69\\u003cbr\\u003ex=%{x}\\u003cbr\\u003ez=%{y}\\u003cbr\\u003ey=%{z}\\u003cextra\\u003e\\u003c\\u002fextra\\u003e\",\"legendgroup\":\"9\",\"line\":{\"color\":\"#00cc96\",\"dash\":\"solid\",\"width\":5},\"marker\":{\"symbol\":\"circle\"},\"mode\":\"lines\",\"name\":\"9\",\"scene\":\"scene\",\"showlegend\":false,\"x\":[12.889366072991315,-2.497742561091961],\"y\":[0,150],\"z\":[-21.564680744670735,-24.998649873176394],\"type\":\"scatter3d\"},{\"hovertemplate\":\"ring=9\\u003cbr\\u003eRing and Wire=Ring: 9 Wire: 70\\u003cbr\\u003ex=%{x}\\u003cbr\\u003ez=%{y}\\u003cbr\\u003ey=%{z}\\u003cextra\\u003e\\u003c\\u002fextra\\u003e\",\"legendgroup\":\"9\",\"line\":{\"color\":\"#00cc96\",\"dash\":\"solid\",\"width\":5},\"marker\":{\"symbol\":\"circle\"},\"mode\":\"lines\",\"name\":\"9\",\"scene\":\"scene\",\"showlegend\":false,\"x\":[14.315786600603396,-0.8043917231410642],\"y\":[0,150],\"z\":[-20.645325557838426,-25.110240288354362],\"type\":\"scatter3d\"},{\"hovertemplate\":\"ring=9\\u003cbr\\u003eRing and Wire=Ring: 9 Wire: 71\\u003cbr\\u003ex=%{x}\\u003cbr\\u003ez=%{y}\\u003cbr\\u003ey=%{z}\\u003cextra\\u003e\\u003c\\u002fextra\\u003e\",\"legendgroup\":\"9\",\"line\":{\"color\":\"#00cc96\",\"dash\":\"solid\",\"width\":5},\"marker\":{\"symbol\":\"circle\"},\"mode\":\"lines\",\"name\":\"9\",\"scene\":\"scene\",\"showlegend\":false,\"x\":[15.676887477427744,0.8926293697471017],\"y\":[0,150],\"z\":[-19.631770485700507,-25.107258436384832],\"type\":\"scatter3d\"},{\"hovertemplate\":\"ring=9\\u003cbr\\u003eRing and Wire=Ring: 9 Wire: 72\\u003cbr\\u003ex=%{x}\\u003cbr\\u003ez=%{y}\\u003cbr\\u003ey=%{z}\\u003cextra\\u003e\\u003c\\u002fextra\\u003e\",\"legendgroup\":\"9\",\"line\":{\"color\":\"#00cc96\",\"dash\":\"solid\",\"width\":5},\"marker\":{\"symbol\":\"circle\"},\"mode\":\"lines\",\"name\":\"9\",\"scene\":\"scene\",\"showlegend\":false,\"x\":[16.966458312345722,2.585577599554714],\"y\":[0,150],\"z\":[-18.52864014758199,-24.989717922774425],\"type\":\"scatter3d\"},{\"hovertemplate\":\"ring=9\\u003cbr\\u003eRing and Wire=Ring: 9 Wire: 73\\u003cbr\\u003ex=%{x}\\u003cbr\\u003ez=%{y}\\u003cbr\\u003ey=%{z}\\u003cextra\\u003e\\u003c\\u002fextra\\u003e\",\"legendgroup\":\"9\",\"line\":{\"color\":\"#00cc96\",\"dash\":\"solid\",\"width\":5},\"marker\":{\"symbol\":\"circle\"},\"mode\":\"lines\",\"name\":\"9\",\"scene\":\"scene\",\"showlegend\":false,\"x\":[18.178615089413757,4.2667284318040215],\"y\":[0,150],\"z\":[-17.340967874201567,-24.75815505792763],\"type\":\"scatter3d\"},{\"hovertemplate\":\"ring=9\\u003cbr\\u003eRing and Wire=Ring: 9 Wire: 74\\u003cbr\\u003ex=%{x}\\u003cbr\\u003ez=%{y}\\u003cbr\\u003ey=%{z}\\u003cextra\\u003e\\u003c\\u002fextra\\u003e\",\"legendgroup\":\"9\",\"line\":{\"color\":\"#00cc96\",\"dash\":\"solid\",\"width\":5},\"marker\":{\"symbol\":\"circle\"},\"mode\":\"lines\",\"name\":\"9\",\"scene\":\"scene\",\"showlegend\":false,\"x\":[19.307827015278512,5.928411160836424],\"y\":[0,150],\"z\":[-16.07417274173802,-24.413626410085467],\"type\":\"scatter3d\"},{\"hovertemplate\":\"ring=9\\u003cbr\\u003eRing and Wire=Ring: 9 Wire: 75\\u003cbr\\u003ex=%{x}\\u003cbr\\u003ez=%{y}\\u003cbr\\u003ey=%{z}\\u003cextra\\u003e\\u003c\\u002fextra\\u003e\",\"legendgroup\":\"9\",\"line\":{\"color\":\"#00cc96\",\"dash\":\"solid\",\"width\":5},\"marker\":{\"symbol\":\"circle\"},\"mode\":\"lines\",\"name\":\"9\",\"scene\":\"scene\",\"showlegend\":false,\"x\":[20.34894175491849,7.56304390948315],\"y\":[0,150],\"z\":[-14.734034845828461,-23.957703984446887],\"type\":\"scatter3d\"},{\"hovertemplate\":\"ring=9\\u003cbr\\u003eRing and Wire=Ring: 9 Wire: 76\\u003cbr\\u003ex=%{x}\\u003cbr\\u003ez=%{y}\\u003cbr\\u003ey=%{z}\\u003cextra\\u003e\\u003c\\u002fextra\\u003e\",\"legendgroup\":\"9\",\"line\":{\"color\":\"#00cc96\",\"dash\":\"solid\",\"width\":5},\"marker\":{\"symbol\":\"circle\"},\"mode\":\"lines\",\"name\":\"9\",\"scene\":\"scene\",\"showlegend\":false,\"x\":[21.297208940566943,9.163168223431747],\"y\":[0,150],\"z\":[-13.32666892831768,-23.392468050469645],\"type\":\"scatter3d\"},{\"hovertemplate\":\"ring=9\\u003cbr\\u003eRing and Wire=Ring: 9 Wire: 77\\u003cbr\\u003ex=%{x}\\u003cbr\\u003ez=%{y}\\u003cbr\\u003ey=%{z}\\u003cextra\\u003e\\u003c\\u002fextra\\u003e\",\"legendgroup\":\"9\",\"line\":{\"color\":\"#00cc96\",\"dash\":\"solid\",\"width\":5},\"marker\":{\"symbol\":\"circle\"},\"mode\":\"lines\",\"name\":\"9\",\"scene\":\"scene\",\"showlegend\":false,\"x\":[22.14830184655043,10.721483102442363],\"y\":[0,150],\"z\":[-11.858496477093679,-22.720497650077895],\"type\":\"scatter3d\"},{\"hovertemplate\":\"ring=9\\u003cbr\\u003eRing and Wire=Ring: 9 Wire: 78\\u003cbr\\u003ex=%{x}\\u003cbr\\u003ez=%{y}\\u003cbr\\u003ey=%{z}\\u003cextra\\u003e\\u003c\\u002fextra\\u003e\",\"legendgroup\":\"9\",\"line\":{\"color\":\"#00cc96\",\"dash\":\"solid\",\"width\":5},\"marker\":{\"symbol\":\"circle\"},\"mode\":\"lines\",\"name\":\"9\",\"scene\":\"scene\",\"showlegend\":false,\"x\":[22.89833713114576,12.230878313137419],\"y\":[0,150],\"z\":[-10.336216426311125,-21.9448588300854],\"type\":\"scatter3d\"},{\"hovertemplate\":\"ring=9\\u003cbr\\u003eRing and Wire=Ring: 9 Wire: 79\\u003cbr\\u003ex=%{x}\\u003cbr\\u003ez=%{y}\\u003cbr\\u003ey=%{z}\\u003cextra\\u003e\\u003c\\u002fextra\\u003e\",\"legendgroup\":\"9\",\"line\":{\"color\":\"#00cc96\",\"dash\":\"solid\",\"width\":5},\"marker\":{\"symbol\":\"circle\"},\"mode\":\"lines\",\"name\":\"9\",\"scene\":\"scene\",\"showlegend\":false,\"x\":[23.543892555377518,13.684466831365627],\"y\":[0,150],\"z\":[-8.766774590691359,-21.069090652527137],\"type\":\"scatter3d\"},{\"hovertemplate\":\"ring=9\\u003cbr\\u003eRing and Wire=Ring: 9 Wire: 80\\u003cbr\\u003ex=%{x}\\u003cbr\\u003ez=%{y}\\u003cbr\\u003ey=%{z}\\u003cextra\\u003e\\u003c\\u002fextra\\u003e\",\"legendgroup\":\"9\",\"line\":{\"color\":\"#00cc96\",\"dash\":\"solid\",\"width\":5},\"marker\":{\"symbol\":\"circle\"},\"mode\":\"lines\",\"name\":\"9\",\"scene\":\"scene\",\"showlegend\":false,\"x\":[24.082022597909607,15.075616266113542],\"y\":[0,150],\"z\":[-7.157331973362945,-20.097189046731017],\"type\":\"scatter3d\"},{\"hovertemplate\":\"ring=9\\u003cbr\\u003eRing and Wire=Ring: 9 Wire: 81\\u003cbr\\u003ex=%{x}\\u003cbr\\u003ez=%{y}\\u003cbr\\u003ey=%{z}\\u003cextra\\u003e\\u003c\\u002fextra\\u003e\",\"legendgroup\":\"9\",\"line\":{\"color\":\"#00cc96\",\"dash\":\"solid\",\"width\":5},\"marker\":{\"symbol\":\"circle\"},\"mode\":\"lines\",\"name\":\"9\",\"scene\":\"scene\",\"showlegend\":false,\"x\":[24.51027189478355,16.397979121584676],\"y\":[0,150],\"z\":[-5.515232091846733,-19.033588576808775],\"type\":\"scatter3d\"},{\"hovertemplate\":\"ring=9\\u003cbr\\u003eRing and Wire=Ring: 9 Wire: 82\\u003cbr\\u003ex=%{x}\\u003cbr\\u003ez=%{y}\\u003cbr\\u003ey=%{z}\\u003cextra\\u003e\\u003c\\u002fextra\\u003e\",\"legendgroup\":\"9\",\"line\":{\"color\":\"#00cc96\",\"dash\":\"solid\",\"width\":5},\"marker\":{\"symbol\":\"circle\"},\"mode\":\"lines\",\"name\":\"9\",\"scene\":\"scene\",\"showlegend\":false,\"x\":[24.826686442681016,17.645521759366815],\"y\":[0,150],\"z\":[-3.847967471269853,-17.883142207757132],\"type\":\"scatter3d\"},{\"hovertemplate\":\"ring=9\\u003cbr\\u003eRing and Wire=Ring: 9 Wire: 83\\u003cbr\\u003ex=%{x}\\u003cbr\\u003ez=%{y}\\u003cbr\\u003ey=%{z}\\u003cextra\\u003e\\u003c\\u002fextra\\u003e\",\"legendgroup\":\"9\",\"line\":{\"color\":\"#00cc96\",\"dash\":\"solid\",\"width\":5},\"marker\":{\"symbol\":\"circle\"},\"mode\":\"lines\",\"name\":\"9\",\"scene\":\"scene\",\"showlegend\":false,\"x\":[25.02982251459285,18.81255192854033],\"y\":[0,150],\"z\":[-2.163145457691935,-16.651099162491523],\"type\":\"scatter3d\"},{\"hovertemplate\":\"ring=9\\u003cbr\\u003eRing and Wire=Ring: 9 Wire: 84\\u003cbr\\u003ex=%{x}\\u003cbr\\u003ez=%{y}\\u003cbr\\u003ey=%{z}\\u003cextra\\u003e\\u003c\\u002fextra\\u003e\",\"legendgroup\":\"9\",\"line\":{\"color\":\"#00cc96\",\"dash\":\"solid\",\"width\":5},\"marker\":{\"symbol\":\"circle\"},\"mode\":\"lines\",\"name\":\"9\",\"scene\":\"scene\",\"showlegend\":false,\"x\":[25.118753247214226,19.8937447381135],\"y\":[0,150],\"z\":[-0.4684535075298948,-15.343080970845907],\"type\":\"scatter3d\"},{\"hovertemplate\":\"ring=9\\u003cbr\\u003eRing and Wire=Ring: 9 Wire: 85\\u003cbr\\u003ex=%{x}\\u003cbr\\u003ez=%{y}\\u003cbr\\u003ey=%{z}\\u003cextra\\u003e\\u003c\\u002fextra\\u003e\",\"legendgroup\":\"9\",\"line\":{\"color\":\"#00cc96\",\"dash\":\"solid\",\"width\":5},\"marker\":{\"symbol\":\"circle\"},\"mode\":\"lines\",\"name\":\"9\",\"scene\":\"scene\",\"showlegend\":false,\"x\":[25.093072870009365,20.88416695327875],\"y\":[0,150],\"z\":[1.2283758885424199,-13.965055819821561],\"type\":\"scatter3d\"},{\"hovertemplate\":\"ring=9\\u003cbr\\u003eRing and Wire=Ring: 9 Wire: 86\\u003cbr\\u003ex=%{x}\\u003cbr\\u003ez=%{y}\\u003cbr\\u003ey=%{z}\\u003cextra\\u003e\\u003c\\u002fextra\\u003e\",\"legendgroup\":\"9\",\"line\":{\"color\":\"#00cc96\",\"dash\":\"solid\",\"width\":5},\"marker\":{\"symbol\":\"circle\"},\"mode\":\"lines\",\"name\":\"9\",\"scene\":\"scene\",\"showlegend\":false,\"x\":[24.952898556649394,21.77929950463168],\"y\":[0,150],\"z\":[2.9196004871757824,-12.523311322118548],\"type\":\"scatter3d\"},{\"hovertemplate\":\"ring=9\\u003cbr\\u003eRing and Wire=Ring: 9 Wire: 87\\u003cbr\\u003ex=%{x}\\u003cbr\\u003ez=%{y}\\u003cbr\\u003ey=%{z}\\u003cextra\\u003e\\u003c\\u002fextra\\u003e\",\"legendgroup\":\"9\",\"line\":{\"color\":\"#00cc96\",\"dash\":\"solid\",\"width\":5},\"marker\":{\"symbol\":\"circle\"},\"mode\":\"lines\",\"name\":\"9\",\"scene\":\"scene\",\"showlegend\":false,\"x\":[24.698869890375768,22.575058107648204],\"y\":[0,150],\"z\":[4.597503618426165,-11.024425827201144],\"type\":\"scatter3d\"},{\"hovertemplate\":\"ring=9\\u003cbr\\u003eRing and Wire=Ring: 9 Wire: 88\\u003cbr\\u003ex=%{x}\\u003cbr\\u003ez=%{y}\\u003cbr\\u003ey=%{z}\\u003cextra\\u003e\\u003c\\u002fextra\\u003e\",\"legendgroup\":\"9\",\"line\":{\"color\":\"#00cc96\",\"dash\":\"solid\",\"width\":5},\"marker\":{\"symbol\":\"circle\"},\"mode\":\"lines\",\"name\":\"9\",\"scene\":\"scene\",\"showlegend\":false,\"x\":[24.33214594572866,23.267811898338035],\"y\":[0,150],\"z\":[6.254429395149728,-9.475238405798107],\"type\":\"scatter3d\"},{\"hovertemplate\":\"ring=9\\u003cbr\\u003eRing and Wire=Ring: 9 Wire: 89\\u003cbr\\u003ex=%{x}\\u003cbr\\u003ez=%{y}\\u003cbr\\u003ey=%{z}\\u003cextra\\u003e\\u003c\\u002fextra\\u003e\",\"legendgroup\":\"9\",\"line\":{\"color\":\"#00cc96\",\"dash\":\"solid\",\"width\":5},\"marker\":{\"symbol\":\"circle\"},\"mode\":\"lines\",\"name\":\"9\",\"scene\":\"scene\",\"showlegend\":false,\"x\":[23.854399999955618,23.85440000004438],\"y\":[0,150],\"z\":[7.882817645060032,-7.882817644791436],\"type\":\"scatter3d\"},{\"hovertemplate\":\"ring=9\\u003cbr\\u003eRing and Wire=Ring: 9 Wire: 90\\u003cbr\\u003ex=%{x}\\u003cbr\\u003ez=%{y}\\u003cbr\\u003ey=%{z}\\u003cextra\\u003e\\u003c\\u002fextra\\u003e\",\"legendgroup\":\"9\",\"line\":{\"color\":\"#00cc96\",\"dash\":\"solid\",\"width\":5},\"marker\":{\"symbol\":\"circle\"},\"mode\":\"lines\",\"name\":\"9\",\"scene\":\"scene\",\"showlegend\":false,\"x\":[23.267811898231336,24.332145945799084],\"y\":[0,150],\"z\":[9.47523840606012,-6.25442939487573],\"type\":\"scatter3d\"},{\"hovertemplate\":\"ring=9\\u003cbr\\u003eRing and Wire=Ring: 9 Wire: 91\\u003cbr\\u003ex=%{x}\\u003cbr\\u003ez=%{y}\\u003cbr\\u003ey=%{z}\\u003cextra\\u003e\\u003c\\u002fextra\\u003e\",\"legendgroup\":\"9\",\"line\":{\"color\":\"#00cc96\",\"dash\":\"solid\",\"width\":5},\"marker\":{\"symbol\":\"circle\"},\"mode\":\"lines\",\"name\":\"9\",\"scene\":\"scene\",\"showlegend\":false,\"x\":[22.57505810752406,24.69886989042754],\"y\":[0,150],\"z\":[11.024425827455355,-4.597503618148039],\"type\":\"scatter3d\"},{\"hovertemplate\":\"ring=9\\u003cbr\\u003eRing and Wire=Ring: 9 Wire: 92\\u003cbr\\u003ex=%{x}\\u003cbr\\u003ez=%{y}\\u003cbr\\u003ey=%{z}\\u003cextra\\u003e\\u003c\\u002fextra\\u003e\",\"legendgroup\":\"9\",\"line\":{\"color\":\"#00cc96\",\"dash\":\"solid\",\"width\":5},\"marker\":{\"symbol\":\"circle\"},\"mode\":\"lines\",\"name\":\"9\",\"scene\":\"scene\",\"showlegend\":false,\"x\":[21.77929950449067,24.952898556682268],\"y\":[0,150],\"z\":[12.523311322363778,-2.919600486894817],\"type\":\"scatter3d\"},{\"hovertemplate\":\"ring=9\\u003cbr\\u003eRing and Wire=Ring: 9 Wire: 93\\u003cbr\\u003ex=%{x}\\u003cbr\\u003ez=%{y}\\u003cbr\\u003ey=%{z}\\u003cextra\\u003e\\u003c\\u002fextra\\u003e\",\"legendgroup\":\"9\",\"line\":{\"color\":\"#00cc96\",\"dash\":\"solid\",\"width\":5},\"marker\":{\"symbol\":\"circle\"},\"mode\":\"lines\",\"name\":\"9\",\"scene\":\"scene\",\"showlegend\":false,\"x\":[20.884166953121497,25.093072870023196],\"y\":[0,150],\"z\":[13.965055820056733,-1.2283758882598539],\"type\":\"scatter3d\"}],                        {\"template\":{\"data\":{\"histogram2dcontour\":[{\"type\":\"histogram2dcontour\",\"colorbar\":{\"outlinewidth\":0,\"ticks\":\"\"},\"colorscale\":[[0.0,\"#0d0887\"],[0.1111111111111111,\"#46039f\"],[0.2222222222222222,\"#7201a8\"],[0.3333333333333333,\"#9c179e\"],[0.4444444444444444,\"#bd3786\"],[0.5555555555555556,\"#d8576b\"],[0.6666666666666666,\"#ed7953\"],[0.7777777777777778,\"#fb9f3a\"],[0.8888888888888888,\"#fdca26\"],[1.0,\"#f0f921\"]]}],\"choropleth\":[{\"type\":\"choropleth\",\"colorbar\":{\"outlinewidth\":0,\"ticks\":\"\"}}],\"histogram2d\":[{\"type\":\"histogram2d\",\"colorbar\":{\"outlinewidth\":0,\"ticks\":\"\"},\"colorscale\":[[0.0,\"#0d0887\"],[0.1111111111111111,\"#46039f\"],[0.2222222222222222,\"#7201a8\"],[0.3333333333333333,\"#9c179e\"],[0.4444444444444444,\"#bd3786\"],[0.5555555555555556,\"#d8576b\"],[0.6666666666666666,\"#ed7953\"],[0.7777777777777778,\"#fb9f3a\"],[0.8888888888888888,\"#fdca26\"],[1.0,\"#f0f921\"]]}],\"heatmap\":[{\"type\":\"heatmap\",\"colorbar\":{\"outlinewidth\":0,\"ticks\":\"\"},\"colorscale\":[[0.0,\"#0d0887\"],[0.1111111111111111,\"#46039f\"],[0.2222222222222222,\"#7201a8\"],[0.3333333333333333,\"#9c179e\"],[0.4444444444444444,\"#bd3786\"],[0.5555555555555556,\"#d8576b\"],[0.6666666666666666,\"#ed7953\"],[0.7777777777777778,\"#fb9f3a\"],[0.8888888888888888,\"#fdca26\"],[1.0,\"#f0f921\"]]}],\"heatmapgl\":[{\"type\":\"heatmapgl\",\"colorbar\":{\"outlinewidth\":0,\"ticks\":\"\"},\"colorscale\":[[0.0,\"#0d0887\"],[0.1111111111111111,\"#46039f\"],[0.2222222222222222,\"#7201a8\"],[0.3333333333333333,\"#9c179e\"],[0.4444444444444444,\"#bd3786\"],[0.5555555555555556,\"#d8576b\"],[0.6666666666666666,\"#ed7953\"],[0.7777777777777778,\"#fb9f3a\"],[0.8888888888888888,\"#fdca26\"],[1.0,\"#f0f921\"]]}],\"contourcarpet\":[{\"type\":\"contourcarpet\",\"colorbar\":{\"outlinewidth\":0,\"ticks\":\"\"}}],\"contour\":[{\"type\":\"contour\",\"colorbar\":{\"outlinewidth\":0,\"ticks\":\"\"},\"colorscale\":[[0.0,\"#0d0887\"],[0.1111111111111111,\"#46039f\"],[0.2222222222222222,\"#7201a8\"],[0.3333333333333333,\"#9c179e\"],[0.4444444444444444,\"#bd3786\"],[0.5555555555555556,\"#d8576b\"],[0.6666666666666666,\"#ed7953\"],[0.7777777777777778,\"#fb9f3a\"],[0.8888888888888888,\"#fdca26\"],[1.0,\"#f0f921\"]]}],\"surface\":[{\"type\":\"surface\",\"colorbar\":{\"outlinewidth\":0,\"ticks\":\"\"},\"colorscale\":[[0.0,\"#0d0887\"],[0.1111111111111111,\"#46039f\"],[0.2222222222222222,\"#7201a8\"],[0.3333333333333333,\"#9c179e\"],[0.4444444444444444,\"#bd3786\"],[0.5555555555555556,\"#d8576b\"],[0.6666666666666666,\"#ed7953\"],[0.7777777777777778,\"#fb9f3a\"],[0.8888888888888888,\"#fdca26\"],[1.0,\"#f0f921\"]]}],\"mesh3d\":[{\"type\":\"mesh3d\",\"colorbar\":{\"outlinewidth\":0,\"ticks\":\"\"}}],\"scatter\":[{\"fillpattern\":{\"fillmode\":\"overlay\",\"size\":10,\"solidity\":0.2},\"type\":\"scatter\"}],\"parcoords\":[{\"type\":\"parcoords\",\"line\":{\"colorbar\":{\"outlinewidth\":0,\"ticks\":\"\"}}}],\"scatterpolargl\":[{\"type\":\"scatterpolargl\",\"marker\":{\"colorbar\":{\"outlinewidth\":0,\"ticks\":\"\"}}}],\"bar\":[{\"error_x\":{\"color\":\"#2a3f5f\"},\"error_y\":{\"color\":\"#2a3f5f\"},\"marker\":{\"line\":{\"color\":\"#E5ECF6\",\"width\":0.5},\"pattern\":{\"fillmode\":\"overlay\",\"size\":10,\"solidity\":0.2}},\"type\":\"bar\"}],\"scattergeo\":[{\"type\":\"scattergeo\",\"marker\":{\"colorbar\":{\"outlinewidth\":0,\"ticks\":\"\"}}}],\"scatterpolar\":[{\"type\":\"scatterpolar\",\"marker\":{\"colorbar\":{\"outlinewidth\":0,\"ticks\":\"\"}}}],\"histogram\":[{\"marker\":{\"pattern\":{\"fillmode\":\"overlay\",\"size\":10,\"solidity\":0.2}},\"type\":\"histogram\"}],\"scattergl\":[{\"type\":\"scattergl\",\"marker\":{\"colorbar\":{\"outlinewidth\":0,\"ticks\":\"\"}}}],\"scatter3d\":[{\"type\":\"scatter3d\",\"line\":{\"colorbar\":{\"outlinewidth\":0,\"ticks\":\"\"}},\"marker\":{\"colorbar\":{\"outlinewidth\":0,\"ticks\":\"\"}}}],\"scattermapbox\":[{\"type\":\"scattermapbox\",\"marker\":{\"colorbar\":{\"outlinewidth\":0,\"ticks\":\"\"}}}],\"scatterternary\":[{\"type\":\"scatterternary\",\"marker\":{\"colorbar\":{\"outlinewidth\":0,\"ticks\":\"\"}}}],\"scattercarpet\":[{\"type\":\"scattercarpet\",\"marker\":{\"colorbar\":{\"outlinewidth\":0,\"ticks\":\"\"}}}],\"carpet\":[{\"aaxis\":{\"endlinecolor\":\"#2a3f5f\",\"gridcolor\":\"white\",\"linecolor\":\"white\",\"minorgridcolor\":\"white\",\"startlinecolor\":\"#2a3f5f\"},\"baxis\":{\"endlinecolor\":\"#2a3f5f\",\"gridcolor\":\"white\",\"linecolor\":\"white\",\"minorgridcolor\":\"white\",\"startlinecolor\":\"#2a3f5f\"},\"type\":\"carpet\"}],\"table\":[{\"cells\":{\"fill\":{\"color\":\"#EBF0F8\"},\"line\":{\"color\":\"white\"}},\"header\":{\"fill\":{\"color\":\"#C8D4E3\"},\"line\":{\"color\":\"white\"}},\"type\":\"table\"}],\"barpolar\":[{\"marker\":{\"line\":{\"color\":\"#E5ECF6\",\"width\":0.5},\"pattern\":{\"fillmode\":\"overlay\",\"size\":10,\"solidity\":0.2}},\"type\":\"barpolar\"}],\"pie\":[{\"automargin\":true,\"type\":\"pie\"}]},\"layout\":{\"autotypenumbers\":\"strict\",\"colorway\":[\"#636efa\",\"#EF553B\",\"#00cc96\",\"#ab63fa\",\"#FFA15A\",\"#19d3f3\",\"#FF6692\",\"#B6E880\",\"#FF97FF\",\"#FECB52\"],\"font\":{\"color\":\"#2a3f5f\"},\"hovermode\":\"closest\",\"hoverlabel\":{\"align\":\"left\"},\"paper_bgcolor\":\"white\",\"plot_bgcolor\":\"#E5ECF6\",\"polar\":{\"bgcolor\":\"#E5ECF6\",\"angularaxis\":{\"gridcolor\":\"white\",\"linecolor\":\"white\",\"ticks\":\"\"},\"radialaxis\":{\"gridcolor\":\"white\",\"linecolor\":\"white\",\"ticks\":\"\"}},\"ternary\":{\"bgcolor\":\"#E5ECF6\",\"aaxis\":{\"gridcolor\":\"white\",\"linecolor\":\"white\",\"ticks\":\"\"},\"baxis\":{\"gridcolor\":\"white\",\"linecolor\":\"white\",\"ticks\":\"\"},\"caxis\":{\"gridcolor\":\"white\",\"linecolor\":\"white\",\"ticks\":\"\"}},\"coloraxis\":{\"colorbar\":{\"outlinewidth\":0,\"ticks\":\"\"}},\"colorscale\":{\"sequential\":[[0.0,\"#0d0887\"],[0.1111111111111111,\"#46039f\"],[0.2222222222222222,\"#7201a8\"],[0.3333333333333333,\"#9c179e\"],[0.4444444444444444,\"#bd3786\"],[0.5555555555555556,\"#d8576b\"],[0.6666666666666666,\"#ed7953\"],[0.7777777777777778,\"#fb9f3a\"],[0.8888888888888888,\"#fdca26\"],[1.0,\"#f0f921\"]],\"sequentialminus\":[[0.0,\"#0d0887\"],[0.1111111111111111,\"#46039f\"],[0.2222222222222222,\"#7201a8\"],[0.3333333333333333,\"#9c179e\"],[0.4444444444444444,\"#bd3786\"],[0.5555555555555556,\"#d8576b\"],[0.6666666666666666,\"#ed7953\"],[0.7777777777777778,\"#fb9f3a\"],[0.8888888888888888,\"#fdca26\"],[1.0,\"#f0f921\"]],\"diverging\":[[0,\"#8e0152\"],[0.1,\"#c51b7d\"],[0.2,\"#de77ae\"],[0.3,\"#f1b6da\"],[0.4,\"#fde0ef\"],[0.5,\"#f7f7f7\"],[0.6,\"#e6f5d0\"],[0.7,\"#b8e186\"],[0.8,\"#7fbc41\"],[0.9,\"#4d9221\"],[1,\"#276419\"]]},\"xaxis\":{\"gridcolor\":\"white\",\"linecolor\":\"white\",\"ticks\":\"\",\"title\":{\"standoff\":15},\"zerolinecolor\":\"white\",\"automargin\":true,\"zerolinewidth\":2},\"yaxis\":{\"gridcolor\":\"white\",\"linecolor\":\"white\",\"ticks\":\"\",\"title\":{\"standoff\":15},\"zerolinecolor\":\"white\",\"automargin\":true,\"zerolinewidth\":2},\"scene\":{\"xaxis\":{\"backgroundcolor\":\"#E5ECF6\",\"gridcolor\":\"white\",\"linecolor\":\"white\",\"showbackground\":true,\"ticks\":\"\",\"zerolinecolor\":\"white\",\"gridwidth\":2},\"yaxis\":{\"backgroundcolor\":\"#E5ECF6\",\"gridcolor\":\"white\",\"linecolor\":\"white\",\"showbackground\":true,\"ticks\":\"\",\"zerolinecolor\":\"white\",\"gridwidth\":2},\"zaxis\":{\"backgroundcolor\":\"#E5ECF6\",\"gridcolor\":\"white\",\"linecolor\":\"white\",\"showbackground\":true,\"ticks\":\"\",\"zerolinecolor\":\"white\",\"gridwidth\":2}},\"shapedefaults\":{\"line\":{\"color\":\"#2a3f5f\"}},\"annotationdefaults\":{\"arrowcolor\":\"#2a3f5f\",\"arrowhead\":0,\"arrowwidth\":1},\"geo\":{\"bgcolor\":\"white\",\"landcolor\":\"#E5ECF6\",\"subunitcolor\":\"white\",\"showland\":true,\"showlakes\":true,\"lakecolor\":\"white\"},\"title\":{\"x\":0.05},\"mapbox\":{\"style\":\"light\"}}},\"scene\":{\"domain\":{\"x\":[0.0,1.0],\"y\":[0.0,1.0]},\"xaxis\":{\"title\":{\"text\":\"X\"},\"range\":[-60,60]},\"yaxis\":{\"title\":{\"text\":\"Z\"},\"range\":[0,175]},\"zaxis\":{\"title\":{\"text\":\"Y\"},\"range\":[-60,60]},\"aspectmode\":\"cube\"},\"legend\":{\"title\":{\"text\":\"Ring Number\"},\"tracegroupgap\":0},\"margin\":{\"t\":60},\"title\":{\"text\":\"Rings of the GlueX Central Drift Chamber\"}},                        {\"responsive\": true}                    ).then(function(){\n",
              "                            \n",
              "var gd = document.getElementById('07a36527-b844-42dc-abd0-4e2b499408ad');\n",
              "var x = new MutationObserver(function (mutations, observer) {{\n",
              "        var display = window.getComputedStyle(gd).display;\n",
              "        if (!display || display === 'none') {{\n",
              "            console.log([gd, 'removed!']);\n",
              "            Plotly.purge(gd);\n",
              "            observer.disconnect();\n",
              "        }}\n",
              "}});\n",
              "\n",
              "// Listen for the removal of the full notebook cells\n",
              "var notebookContainer = gd.closest('#notebook-container');\n",
              "if (notebookContainer) {{\n",
              "    x.observe(notebookContainer, {childList: true});\n",
              "}}\n",
              "\n",
              "// Listen for the clearing of the current output cell\n",
              "var outputEl = gd.closest('.output');\n",
              "if (outputEl) {{\n",
              "    x.observe(outputEl, {childList: true});\n",
              "}}\n",
              "\n",
              "                        })                };                            </script>        </div>\n",
              "</body>\n",
              "</html>"
            ]
          },
          "metadata": {}
        }
      ]
    },
    {
      "cell_type": "markdown",
      "source": [
        "Based on the position of the wire we detect a signal in, we can determine the x and y coordinates of the hit. In later sections, we will see how we can use the layout of the detector to estimate the z coordinate of the hit as well.\n",
        "\n",
        "Once we have coordinates for all of the hits that are left by a track, we can use the path of the particle to gain information about its momentum."
      ],
      "metadata": {
        "id": "uEv_E5Enpnq6"
      }
    },
    {
      "cell_type": "markdown",
      "source": [
        "####**Question #3:**\n",
        "---\n",
        "Based on the interactive plot shown above, how many \"rings\" are there in the GlueX central drift chamber (CDC)?"
      ],
      "metadata": {
        "id": "Q3MD_YFeqzeE"
      }
    },
    {
      "cell_type": "markdown",
      "source": [
        "Double click to edit this cell and answer the following question: How many rings are there in the GlueX central drift chamber?"
      ],
      "metadata": {
        "id": "qsLN-VNNqzeG"
      }
    },
    {
      "cell_type": "markdown",
      "source": [
        "#####**Solution:**"
      ],
      "metadata": {
        "id": "tyyYO4kLqzeG"
      }
    },
    {
      "cell_type": "markdown",
      "source": [
        "There are a total of 28 layers in the GlueX central drift chamber."
      ],
      "metadata": {
        "id": "Sldbd8zQqzeG"
      }
    },
    {
      "cell_type": "markdown",
      "source": [
        "####**Question #4:**\n",
        "---\n",
        "Using the interactive plot shown above, plot rings 4, 5, and 9. What differences do you notice between these three rings? **Note:** It may be easier to see the differences if you plot these rings one at a time."
      ],
      "metadata": {
        "id": "RIR54FwWrSg3"
      }
    },
    {
      "cell_type": "markdown",
      "source": [
        "Double click to edit this cell and answer the following question: What differences do you notice between these three rings?"
      ],
      "metadata": {
        "id": "wiayDGcIrShV"
      }
    },
    {
      "cell_type": "markdown",
      "source": [
        "#####**Solution:**"
      ],
      "metadata": {
        "id": "TOaC6UORrShV"
      }
    },
    {
      "cell_type": "markdown",
      "source": [
        "One observation is that as you increase the ring number, the radius of the ring increases. This is due to the fact that the rings are numbered from the smallest radius to the largest radius.\n",
        "\n",
        "Another observation is that ring 4 has wires that run parallel to the z axis, while rings 5 and 9 have wires that are slightly tilted. Ring 5 and ring 9 (and around 16 other rings in the detector) have wires that are tilted by 6 degrees. These layers are called **stereo layers**, and they actually allow us to more accurately find the z coordinate of a hit based on the timing of the pulse of electricity. Ring 4 is what we call an **axial layer**, meaning its wires are lined up straight in the z direction."
      ],
      "metadata": {
        "id": "Z-SSJs6DrShV"
      }
    },
    {
      "cell_type": "markdown",
      "source": [
        "####**Question #5:**\n",
        "---\n",
        "The cell below creates a plot of the $x$ and $y$ coordinates of the wires of the drift chamber. There is a z slider, which allows you to change the point along the detector you are looking at. What do you notice about the wire positions as you change the z coordinate? Compare the behavior of ring 4, ring 5, and ring 9."
      ],
      "metadata": {
        "id": "Gbyz0nBDhQLU"
      }
    },
    {
      "cell_type": "code",
      "source": [
        "Ring_1 = 4 # @param {type:\"slider\", min:0, max:28, step:1}\n",
        "Ring_2 = 5 # @param {type:\"slider\", min:0, max:28, step:1}\n",
        "Ring_3 = 9 # @param {type:\"slider\", min:0, max:28, step:1}\n",
        "rings = [Ring_1,Ring_2,Ring_3]\n",
        "rings = [ring for ring in rings if int(ring) != 0]\n",
        "fig = wire_plot(rings,\"Wire Positions\",showlegend=True)\n",
        "fig.update()\n",
        "fig.display(fig.update_figure, z=(0,175,0.1),rings=fixed(rings))"
      ],
      "metadata": {
        "colab": {
          "base_uri": "https://localhost:8080/",
          "height": 549,
          "referenced_widgets": [
            "4360358b04d347fbae2e47bbac94034a",
            "acbb87fe29df4d1a892fb1ebc7240378",
            "40338e9ddd7e419293d64c1468442045",
            "26e72aefe2014504ad57879574bf0fd1",
            "f4cf5db1934344cb966acc0057fef880",
            "788faf3eed864381b537db5938ea39ef",
            "defd27745200454899aa0460880d6ff9",
            "9cd5c975b2c54510a720c44f2eb1a49e",
            "73d916afe153454aa1df335b36f62687"
          ]
        },
        "cellView": "form",
        "id": "76RvDscdh9GT",
        "outputId": "0b66a967-b414-475a-e641-5b0f20439f01"
      },
      "execution_count": null,
      "outputs": [
        {
          "output_type": "display_data",
          "data": {
            "text/plain": [
              "VBox(children=(HBox(children=(FloatSlider(value=0.0, description='z', max=175.0),), layout=Layout(flex_flow='r…"
            ],
            "application/vnd.jupyter.widget-view+json": {
              "version_major": 2,
              "version_minor": 0,
              "model_id": "4360358b04d347fbae2e47bbac94034a"
            }
          },
          "metadata": {
            "application/vnd.jupyter.widget-view+json": {
              "colab": {
                "custom_widget_manager": {
                  "url": "https://ssl.gstatic.com/colaboratory-static/widgets/colab-cdn-widget-manager/b3e629b1971e1542/manager.min.js"
                }
              }
            }
          }
        }
      ]
    },
    {
      "cell_type": "markdown",
      "source": [
        "Double click to edit this cell and answer the following question: What do you notice about the wire positions as you change the z coordinate?"
      ],
      "metadata": {
        "id": "1RWfhqwghQLo"
      }
    },
    {
      "cell_type": "markdown",
      "source": [
        "#####**Solution:**"
      ],
      "metadata": {
        "id": "0ukTcNNnhQLp"
      }
    },
    {
      "cell_type": "markdown",
      "source": [
        "As you change the z coordinate, the positions of the **stereo** rings (the rings whose wires are not straight ) change. Ring 5 is a stereo ring, so as we increase the z coordinate, the tilt of the wire affects its coordinates more and more, which we interpret as a \"moving\" of the wire positions. Ring 9 is also a stereo ring, though it is tilted in the other direction, so as we increase the slider, the wires seem to move in the opposite direction of the ring 5 wires. Wire 4, however, is an **axial layer**, so the x and y coordinates of the wire do not change as we change the z coordinate."
      ],
      "metadata": {
        "id": "lOwddXoAhQLp"
      }
    },
    {
      "cell_type": "markdown",
      "source": [
        "---\n",
        "###**Curvature of Tracks**\n",
        "---\n",
        "\n",
        "So far, we haven't talked about how we can actually use these tracks to find the momentum of the particles that leave them. On its own, information about the track doesn't give us the ability to determine the momentum of the particle. Instead, we use a magnetic field to make the path of the particle of the particle curve. Based on the curvature of the track, we are able to infer the momentum of the particle.\n",
        "\n",
        "This method relies on the fact that charged particles moving in a magnetic field will travel in a circle.\n"
      ],
      "metadata": {
        "id": "0xPF-dRBRL3z"
      }
    },
    {
      "cell_type": "markdown",
      "source": [
        "<img src=\"data:image/png;base64,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\" alt=\"A diagram of a charged particle's path through a magnetic field pointing into the screen\" width=300>"
      ],
      "metadata": {
        "id": "E-JCYw00VGrC"
      }
    },
    {
      "cell_type": "markdown",
      "source": [
        "In the image shown above, there is a particle (at the top of the circle), moving with velocity $v$ through a magnetic field with strength $B$. The $\\otimes$ symbol tells us that the magnetic field is pointing into the screen. The particle travels in the path given by the dotted line, which is a circle of radius $r$. At every point of the circle, the magnetic force (labeled $F_{magnetic}$) is pointed towards the center of the circle, as is shown above. The force is always perpendicular to both the velocity $v$ and the magnetic field $B$. This means it is possible for the force to point towards the center of the circle or away from the center of the circle, and this depends on the charge of the particle.\n",
        "\n",
        "We can express the radius of the path as follows:\n",
        "\n",
        "$$\n",
        "r_{path} = \\frac{|p_\\perp|}{|q|B}\n",
        "$$\n",
        "where $r_{path}$ is the radius of the path, $|q|$ is the absolute value of the charge of the particle, and $B$ is the strength of the magnetic field. $p_\\perp$ is called the **transverse momentum**, and it refers to the components of the momentum that are perpendicular to the direction of the magnetic field. In the GlueX detector, the magnetic field points along the z axis, meaning:\n",
        "$$\n",
        "|p_\\perp| = \\sqrt{p_x^2+p_y^2}\n",
        "$$\n",
        "where $p_x$ is the x component of the momentum vector and $p_y$ is the y component of the momentum vector.\n",
        "\n",
        "Since we know that the particle starts in the center of the detector, the path a particle takes can be entirely expressed in terms of $p_x$ and $p_y$.\n",
        "\n",
        "Run the cell below to create a plot below of a cross section of the GlueX detector (as if you were looking in the z direction). The black circles represent the boundaries of the central drift chamber. You can modify the sliders to change the values of $p_x$ and $p_y$ to modify the track of the particle, shown in blue. You can also change the slider labeled t_max, which will change how long the track is. t_max is not a property of the track- it is only used for the visualization."
      ],
      "metadata": {
        "id": "R7mSAJR1WngJ"
      }
    },
    {
      "cell_type": "code",
      "source": [
        "# @title\n",
        "fig = CDC_plot(\"Track in the Gluex Detector\",showTrack=True)\n",
        "fig.update()\n",
        "fig.display(fig.update_figure, px=(-1,1,0.0001),py=(-1,1,0.0001),t_max=(0,2*np.pi,0.0001),charge = (-1,1,2),show_track=fixed(True),show_hits=fixed(False),pz=fixed(0),z0=fixed(75))"
      ],
      "metadata": {
        "colab": {
          "base_uri": "https://localhost:8080/",
          "height": 549,
          "referenced_widgets": [
            "98d3fafc672148448f99d7cbcbe41aff",
            "709b38056f8c4756ab4443d852930c29",
            "ee395579246f49ceb00249383e4c490c",
            "bef7f61611884d458c84bfa3f0eb31fc",
            "2c96fadb6ef84c72a42179a61e9f8870",
            "748ecb5521d040668a45ce132fbe287c",
            "ac63f41e2fb445848dee9a752aa7f9c5",
            "8f3cb7c88fd3437a8ce12fba9fc77ea7",
            "373153516bad44b4a56bf175f72839ae",
            "c2797aef4f18430f9a96faa1407e41fc",
            "306488c791494d20bcd5faeb723e48cc",
            "a0f1dd3e1930407fa66b8fdf475d4a9d",
            "5ea17954dc2c4e30932d115f7af363df",
            "2a2d49bc40b7484085948eacf15c1b17",
            "93158903119245a3a155e4e17106a2e3",
            "e47c89ae9a7c43c79ea8e80e75d15523",
            "b57d0b0cd97241bf92d755864249754e",
            "dd596d5ee9a2495f8fb48e10e65ef52f"
          ]
        },
        "id": "ri1rauPlNpBC",
        "outputId": "f45d3fb6-7fd0-4d54-8edb-ae6152a1fd7f",
        "cellView": "form"
      },
      "execution_count": null,
      "outputs": [
        {
          "output_type": "display_data",
          "data": {
            "text/plain": [
              "VBox(children=(HBox(children=(FloatSlider(value=0.0, description='px', max=1.0, min=-1.0, step=0.0001), FloatS…"
            ],
            "application/vnd.jupyter.widget-view+json": {
              "version_major": 2,
              "version_minor": 0,
              "model_id": "98d3fafc672148448f99d7cbcbe41aff"
            }
          },
          "metadata": {
            "application/vnd.jupyter.widget-view+json": {
              "colab": {
                "custom_widget_manager": {
                  "url": "https://ssl.gstatic.com/colaboratory-static/widgets/colab-cdn-widget-manager/b3e629b1971e1542/manager.min.js"
                }
              }
            }
          }
        }
      ]
    },
    {
      "cell_type": "markdown",
      "source": [
        "#### **Question #6a:**\n",
        "---\n",
        "Change the charge of the simulated particle in the plot above. What about the path of the particle changes when you change the charge?"
      ],
      "metadata": {
        "id": "nZhO8QMiQvya"
      }
    },
    {
      "cell_type": "markdown",
      "source": [
        "Double click to edit this cell and answer the following question: What about the path of the particle changes when you change the charge?"
      ],
      "metadata": {
        "id": "zTY0ZQbqhAOA"
      }
    },
    {
      "cell_type": "markdown",
      "source": [
        "#####**Solution:**"
      ],
      "metadata": {
        "id": "pjqbuej9Q1GO"
      }
    },
    {
      "cell_type": "markdown",
      "source": [
        "Positively charged particles curve counterclockwise, while negatively charged particles curve clockwise. This is reflected in the equation for the magnetic force:\n",
        "$$\n",
        "F_{magnetic} = q*v\\times B\n",
        "$$\n",
        "where $q$ is the charge, $v$ is the velocity vector, $B$ is the magnetic field vector, and $F_{magnetic}$ is the force vector. Particles with opposite charges experience forces in opposite directions, which cause them to curve in opposite directions. Note that $\\times$ denotes the cross product, which is an operation between two vectors, not multiplication (which is an operation between two numbers)."
      ],
      "metadata": {
        "id": "SOv7_d_JQ1GP"
      }
    },
    {
      "cell_type": "markdown",
      "source": [
        "#### **Question #6b:**\n",
        "---\n",
        "Based on your answer to the previous question, how can we determine the charge of a particle based on its track?"
      ],
      "metadata": {
        "id": "E08XOn__LQzL"
      }
    },
    {
      "cell_type": "markdown",
      "source": [
        "Double click to edit this cell and answer the following question: How can we determine the charge of a particle based on its track?"
      ],
      "metadata": {
        "id": "IkEJkv2dLQzO"
      }
    },
    {
      "cell_type": "markdown",
      "source": [
        "#####**Solution:**"
      ],
      "metadata": {
        "id": "-dQtQwaeLQzO"
      }
    },
    {
      "cell_type": "markdown",
      "source": [
        "We can determine the charge of a particle based on the direction it curves. If the particle's track curves counterclockwise, we know the particle must be positively charged. If it curves clockwise, we know the particle must be negatively charged. A neutral particle's track would not curve at all, but neutral particles do not leave tracks."
      ],
      "metadata": {
        "id": "GIa49iWGLQzP"
      }
    },
    {
      "cell_type": "markdown",
      "source": [
        "---\n",
        "##**Track Fitting**\n",
        "---\n",
        "\n",
        "Track fitting is the process of figuring out the momentum vector of the particle based on individual hits in the detector. There are several values that we need to find to adjust to get a good measurement of the momentum. In this section, we will explore how we can obtain the components of the momentum vector ($p_x$, $p_y$, and $p_z$), the charge of the particle, and the z coordinate of the vertex ($z_0$). While it is possible to obtain the other coordinates of the vertex ($x_0$ and $y_0$), it is very difficult to do manually, since they are usually smaller than a centimeter."
      ],
      "metadata": {
        "id": "2OYxaMnJMdWL"
      }
    },
    {
      "cell_type": "markdown",
      "source": [
        "---\n",
        "###**Step 1: Finding the Vertex**\n",
        "---\n",
        "\n",
        "In particle physics, a **vertex** is a place where particles are created. Whether the particles were created intentionally (by doing something to create them inside the \"target\") or through decays, the first step is to figure out where the particles came from. In other words, we want to find the coordinates of the vertex. Knowing the z coordinate of the vertex (often called $z_0$) is important because we can use it to estimate the z coordinate of the hits in the CDC, which is important because the x and y coordinates of the hit depend on the z coordinate (see question #4).\n",
        "\n",
        "For this activity, we will assume that the vertex is somewhere along the beam axis (the z axis), so the x and y coordinates of the vertex are both 0.\n",
        "\n",
        "Below, we plotted the x and y coordinates of several hits left by a track in the GlueX CDC. However, you'll notice that the hits don't seem to line up to produce a smooth track. However, when you adjust the z coordinate of the vertex using the slider, you'll notice that you can update our estimate of the x and y coordinate of the hits in stereo rings (tilted rings). To find the best estimate of the z coordinate of the vertex (which gives us an estimate of the z coordinates of the hits as well), we can adjust the slider until the points line up to form a smooth path."
      ],
      "metadata": {
        "id": "LeZV2BDSiHK_"
      }
    },
    {
      "cell_type": "code",
      "source": [
        "# @title\n",
        "i = 67223\n",
        "fig = CDC_plot(\"Positions of Hits\",track_fitting_events.iloc[i])\n",
        "fig.update()\n",
        "fig.display(fig.update_figure, z0=(0,175,0.1),px=fixed(0),py=fixed(0),pz=fixed(0),show_hits=fixed(True),show_track=fixed(False),charge=fixed(1),t_max=fixed(1))"
      ],
      "metadata": {
        "colab": {
          "base_uri": "https://localhost:8080/",
          "height": 549,
          "referenced_widgets": [
            "d1e9563803f9408ba6e2346b1b009ce8",
            "1d306d6fb4914e14b3014e54a367d51e",
            "b9eb53f170b748e2ae2fd12067424b9a",
            "b7414e2359c94dd7a64314cfa3112e23",
            "520fa689da5c43898927d04fd340183a",
            "bcb04ab4b808467ca99f1f6c26ccb89d",
            "74e5d5fd763941e5ab51bcc3277a3842",
            "6a0c351f151640b3a6c0956159007fb2",
            "ed6a59b7e8544695a61f34a2527b541e"
          ]
        },
        "id": "IhXkyK3CvxCn",
        "outputId": "910512bd-e52c-44ed-b613-4179df37b6e2",
        "cellView": "form"
      },
      "execution_count": null,
      "outputs": [
        {
          "output_type": "display_data",
          "data": {
            "text/plain": [
              "VBox(children=(HBox(children=(FloatSlider(value=0.0, description='z0', max=175.0),), layout=Layout(flex_flow='…"
            ],
            "application/vnd.jupyter.widget-view+json": {
              "version_major": 2,
              "version_minor": 0,
              "model_id": "d1e9563803f9408ba6e2346b1b009ce8"
            }
          },
          "metadata": {
            "application/vnd.jupyter.widget-view+json": {
              "colab": {
                "custom_widget_manager": {
                  "url": "https://ssl.gstatic.com/colaboratory-static/widgets/colab-cdn-widget-manager/b3e629b1971e1542/manager.min.js"
                }
              }
            }
          }
        }
      ]
    },
    {
      "cell_type": "markdown",
      "source": [
        "For example, the z coordinate of the vertex for the hits shown above is around 118. Note that this is just an estimate, so any z coordinate between 110 and 130 should allow you to get a good estimate of the momentum.\n",
        "\n",
        "If the particle was moving in the z direction, the z coordinates of the hits could change as the particle moves through the detector. In these cases, it is impossible to find a $z_0$ value that lines up all of the points. This is the case in the example shown below. Try changing the value of $z_0$ to see that there is no \"perfect\" value for $z_0$! In these cases, just try your best to find a value of $z_0$ that allows you to estimate the path of the particle."
      ],
      "metadata": {
        "id": "8G1lD6FXN5dU"
      }
    },
    {
      "cell_type": "code",
      "source": [
        "# @title\n",
        "i = 70484\n",
        "fig = CDC_plot(\"Positions of Hits\",track_fitting_events.iloc[i])\n",
        "fig.update()\n",
        "fig.display(fig.update_figure, z0=(0,175,0.1),px=fixed(0),py=fixed(0),pz=fixed(0),show_hits=fixed(True),show_track=fixed(False),charge=fixed(0),t_max=fixed(1))"
      ],
      "metadata": {
        "colab": {
          "base_uri": "https://localhost:8080/",
          "height": 549,
          "referenced_widgets": [
            "900f1cba1192436b9618779df7343dc2",
            "e5bad0a33148487da5ab9083b29fdd8f",
            "9438ff62d15846158ab407d5ee7c445a",
            "42d76c00c92640119124ddfd56ae183e",
            "966c9d53019643cbbbac5fe308889b1e",
            "aabafdc05ddc46ff85b25fa3dc441683",
            "332f694626d9403b887cf77670eab08f",
            "7bea58130ae44cd2add778d4ba6f0675",
            "a48a57735ea44682afb6c00ba42443e9",
            "e0d2f57488fd44459d02689ee1790ad3"
          ]
        },
        "outputId": "29bf1b73-246c-4a0d-b8fb-7d56e4327151",
        "id": "sJmnpkWbqXJs",
        "cellView": "form"
      },
      "execution_count": null,
      "outputs": [
        {
          "output_type": "display_data",
          "data": {
            "text/plain": [
              "VBox(children=(HBox(children=(FloatSlider(value=0.0, description='z0', max=175.0),), layout=Layout(flex_flow='…"
            ],
            "application/vnd.jupyter.widget-view+json": {
              "version_major": 2,
              "version_minor": 0,
              "model_id": "900f1cba1192436b9618779df7343dc2"
            }
          },
          "metadata": {
            "application/vnd.jupyter.widget-view+json": {
              "colab": {
                "custom_widget_manager": {
                  "url": "https://ssl.gstatic.com/colaboratory-static/widgets/colab-cdn-widget-manager/b3e629b1971e1542/manager.min.js"
                }
              }
            }
          }
        }
      ]
    },
    {
      "cell_type": "markdown",
      "source": [
        "In the example shown above, a $z_0$ value of about 63 should allow us to estimate the momentum. Again, this is just an estimate, so any value that is close to 63 should work just as well."
      ],
      "metadata": {
        "id": "xe98np8Q0kVb"
      }
    },
    {
      "cell_type": "markdown",
      "source": [
        "#### **Question #7:**\n",
        "---\n",
        "Every time you run the following cell, it will plot a new collection of hits with different z coordinates. Run the cell below and use the slider to find a good estimate of the z coordinate of the vertex of the track. Remember: if there is no value for $z_0$ that makes the hits perfectly line up, prioritize the hits closest to the center of the detector. Feel free to run this cell as many times as you need to practice finding the z values of the vertex in the CDC."
      ],
      "metadata": {
        "id": "5n2wqsBURxgq"
      }
    },
    {
      "cell_type": "code",
      "source": [
        "# @title\n",
        "i = np.random.randint(0,len(track_fitting_events['ring']))\n",
        "fig = CDC_plot(\"Positions of Hits\",track_fitting_events.iloc[i])\n",
        "fig.update()\n",
        "fig.display(fig.update_figure, z0=(0,175,0.1),px=fixed(0),py=fixed(0),pz=fixed(0),show_hits=fixed(True),show_track=fixed(False),charge=fixed(0),t_max=fixed(1))"
      ],
      "metadata": {
        "colab": {
          "base_uri": "https://localhost:8080/",
          "height": 549,
          "referenced_widgets": [
            "c7ccf3c4ecde4622b8baad38e1d943da",
            "e053db47e85d4baca3c4a94462440abd",
            "3cc78e4eaf9149ce9bd82baca1d95ede",
            "9652cfd60dd847fd969bccd351e1ad1d",
            "58670a2ed6204708b3f1b3e42a685bcc",
            "6fa15bd75e6e4468ab2312be91adffaa",
            "8ab59932395a44948cb7ef9f0f8a7ef7",
            "b3cbd602ffe94d20b310bdbe3b9d4b61",
            "20ee27d401a0407bbaeb4935ca1eb99f"
          ]
        },
        "cellView": "form",
        "outputId": "391e7d55-86a2-4989-8993-f54cdaf0725f",
        "id": "hsY1rH18PdHs"
      },
      "execution_count": null,
      "outputs": [
        {
          "output_type": "display_data",
          "data": {
            "text/plain": [
              "VBox(children=(HBox(children=(FloatSlider(value=0.0, description='z0', max=175.0),), layout=Layout(flex_flow='…"
            ],
            "application/vnd.jupyter.widget-view+json": {
              "version_major": 2,
              "version_minor": 0,
              "model_id": "c7ccf3c4ecde4622b8baad38e1d943da"
            }
          },
          "metadata": {
            "application/vnd.jupyter.widget-view+json": {
              "colab": {
                "custom_widget_manager": {
                  "url": "https://ssl.gstatic.com/colaboratory-static/widgets/colab-cdn-widget-manager/b3e629b1971e1542/manager.min.js"
                }
              }
            }
          }
        }
      ]
    },
    {
      "cell_type": "markdown",
      "source": [
        "#####**Solution:**"
      ],
      "metadata": {
        "id": "qV6c3E6tP4y1"
      }
    },
    {
      "cell_type": "markdown",
      "source": [
        "Run the cell below to calculate the z coordinate of the vertex for the hits shown above. Note that your value may be more accurate than the value produced by the following cell if there are multiple tracks (you can tell if there are multiple tracks if there are two different paths traced out by the hits) or if the hits don't form a line (sometimes, tracks just look like blobs, and we can't get much information from them). Things like this are easier for you to see than a computer to see!"
      ],
      "metadata": {
        "id": "E8fZnPTjP4y1"
      }
    },
    {
      "cell_type": "code",
      "source": [
        "# @title\n",
        "fig.calc_z0()"
      ],
      "metadata": {
        "colab": {
          "base_uri": "https://localhost:8080/"
        },
        "id": "hfxoDmNlu4-B",
        "outputId": "85aa92ee-4538-4f3f-e4fa-fa589905f0ef",
        "cellView": "form"
      },
      "execution_count": null,
      "outputs": [
        {
          "output_type": "stream",
          "name": "stdout",
          "text": [
            "The true z value is about 116.0\n"
          ]
        }
      ]
    },
    {
      "cell_type": "markdown",
      "source": [
        "---\n",
        "###**Step 2: Finding Charge and Transverse Momentum**\n",
        "---\n",
        "\n",
        "After our hits are lined up, we can fit the hits to a curve, which we calculate based on $p_x$ and $p_y$. Based on the direction of the curvature, we can find the charge of the particle as well.\n",
        "\n",
        "The cell below creates an interactive plot with sliders for the following values:\n",
        "*   $z_0$: The z coordinate of the vertex\n",
        "*   $p_x$: The x component of the momentum\n",
        "*   $p_y$: The y component of the momentum\n",
        "*   The charge of the particle\n",
        "*   $t_{max}$: the length of the track\n",
        "\n",
        "First, use the slider below to adjust the z value until the track hits are lined up. Then, based on the direction the track curves, determine the charge of the particle. Finally, use the sliders to adjust $p_x$ and $p_y$ until the fitted track (the red line) passes through as many hit points as possible. Remember that you can use the t_max slider to increase or decrease the length of the track if necessary."
      ],
      "metadata": {
        "id": "G8jDPEgDZL3v"
      }
    },
    {
      "cell_type": "code",
      "source": [
        "# @title\n",
        "i = 87672\n",
        "fig = CDC_plot(\"Hits in the Central Drift Chamber\",track_fitting_events.iloc[i],showTrack=True)\n",
        "fig.update()\n",
        "fig.display(fig.update_figure, z0=(0,175,0.1),px=(-1,1,0.01),py=(-1,1,0.01),pz=fixed(0),show_hits=fixed(True),show_track=fixed(True),charge=(-1,1,2),t_max=(0,2*np.pi,0.01))"
      ],
      "metadata": {
        "colab": {
          "base_uri": "https://localhost:8080/",
          "height": 581,
          "referenced_widgets": [
            "b2255b411d10456398f56eb7bfe8ecd7",
            "934554635030490388d7cfcbd2576325",
            "dd1cc9f6fc014ed2b4128434bf5b1b1d",
            "cb26af220be6412092261b5fc0cfc99e",
            "e7103be744c040048542af703c4d317f",
            "104868aa19f64fdca97ff24a0a4c1546",
            "3fe451447cc6448bade80b258cd988bf",
            "4e05f5f645c74a009fc9bb920d59f0db",
            "9c97fca068814ab98a0f3d7dd11b8e30",
            "787cf2e96d114531809d58d7deb571c4",
            "0cf381aa448d4231940bcaa2e71b5242",
            "b245572b68534116a2458a5b29d2b82d",
            "9ca9ba1ef5444e948a541b93b984b52d",
            "40963a901a60432f9232fc66f785269d",
            "83b3fd57461c4d69b3912403f7a31173",
            "b0c0a960d58b4960a548f482fbc6f351",
            "5fe823b491454318ad0ba805c4c9dd01",
            "efbbe7908ec14258a680c26d38845f5e",
            "c67ed583be4c4aba833b707514f6a18a",
            "8deea130a1d1417199c0973ea99034ae",
            "92e427a99e0345ac942e07606db75176"
          ]
        },
        "id": "5Ca9cx06a8yk",
        "outputId": "40841f3e-f173-468a-b431-4bd01b2c1339",
        "cellView": "form"
      },
      "execution_count": null,
      "outputs": [
        {
          "output_type": "display_data",
          "data": {
            "text/plain": [
              "VBox(children=(HBox(children=(FloatSlider(value=0.0, description='z0', max=175.0), FloatSlider(value=0.0, desc…"
            ],
            "application/vnd.jupyter.widget-view+json": {
              "version_major": 2,
              "version_minor": 0,
              "model_id": "b2255b411d10456398f56eb7bfe8ecd7"
            }
          },
          "metadata": {
            "application/vnd.jupyter.widget-view+json": {
              "colab": {
                "custom_widget_manager": {
                  "url": "https://ssl.gstatic.com/colaboratory-static/widgets/colab-cdn-widget-manager/b3e629b1971e1542/manager.min.js"
                }
              }
            }
          }
        }
      ]
    },
    {
      "cell_type": "markdown",
      "source": [
        "In this case, we find that the z coordinate of the hits is $z=136$, the x component of the momentum is $p_x=-0.12$, the y component of the momentum is $p_y=0.03$, and the charge is -1. Note that we could turn t_max all the way up to 6.28 to see a longer track, which would be helpful if the hits formed a full circle instead of a semicircle."
      ],
      "metadata": {
        "id": "-EqdYA-SdlDo"
      }
    },
    {
      "cell_type": "markdown",
      "source": [
        "#### **Question #8:**\n",
        "---\n",
        "Every time you run the following cell, it will plot a new collection of hits with different z coordinates for tracks with random momenta. Run the cell below and use the slider to find a good estimate of the z coordinate of the vertex, the x component of momentum, the y component of the momentum, and the charge. Feel free to run this cell as many times as you need to practice fitting tracks in the CDC."
      ],
      "metadata": {
        "id": "UREJhI9qalbL"
      }
    },
    {
      "cell_type": "code",
      "source": [
        "# @title\n",
        "i = np.random.randint(0,100000)\n",
        "fig = CDC_plot(\"Hits in the Central Drift Chamber\",track_fitting_events.iloc[i],showTrack=True)\n",
        "fig.update()\n",
        "fig.display(fig.update_figure, z0=(0,175,0.1),px=(-1,1,0.01),py=(-1,1,0.01),pz=fixed(0),show_hits=fixed(True),show_track=fixed(True),charge=(-1,1,2),t_max=(0,2*np.pi,0.01))"
      ],
      "metadata": {
        "id": "La9N7PRMcho_",
        "colab": {
          "base_uri": "https://localhost:8080/",
          "height": 581,
          "referenced_widgets": [
            "1f0abd4c28b24851b439020d7056ace9",
            "070b04ad004d4ae0b423f074deda0d19",
            "895e05e2087c409eab48b8d23ca63478",
            "12caa73e7d2e4bcba17b324166b36d1b",
            "5c0e925e1c5a481fba90d9e67f187230",
            "03e8fcf7954c4ccaaa6a3e40ce517805",
            "40a0c2fbf5df459e87c3d63429bcf3aa",
            "21d278226b6940a6b666077d2b19ccdf",
            "7d6834e3a38f49c0b4b6dc2102ce1c72",
            "73fb9ac054f24eceaa72e075a94bfbb8",
            "94ec8f0e30dd401dbdebd07a2901f5ab",
            "402e240fda6b4df4823b2342e068dcf9",
            "6c6a28697ce44d47aecd5385252ab549",
            "4593f62df4534ff69a76d536196b565f",
            "8bf4e8481d1d4a16b91a0fb4900fc54b",
            "8e6432a542d94cbaa47102e458e8f3fd",
            "d0459334ed884c2f99e6d6335e8d3410",
            "d665642649c244ca9a74e7b06c724f4a",
            "453b25b88f0e444b8916b617a976e62f",
            "1e4c227e62ae4d7f9e1428e10e85e871",
            "04eb6b412d4f473c87bd1466f53552aa"
          ]
        },
        "cellView": "form",
        "outputId": "b3b16a8f-c204-486b-ddf1-34f90b2de4a3"
      },
      "execution_count": null,
      "outputs": [
        {
          "output_type": "display_data",
          "data": {
            "text/plain": [
              "VBox(children=(HBox(children=(FloatSlider(value=0.0, description='z0', max=175.0), FloatSlider(value=0.0, desc…"
            ],
            "application/vnd.jupyter.widget-view+json": {
              "version_major": 2,
              "version_minor": 0,
              "model_id": "1f0abd4c28b24851b439020d7056ace9"
            }
          },
          "metadata": {
            "application/vnd.jupyter.widget-view+json": {
              "colab": {
                "custom_widget_manager": {
                  "url": "https://ssl.gstatic.com/colaboratory-static/widgets/colab-cdn-widget-manager/b3e629b1971e1542/manager.min.js"
                }
              }
            }
          }
        }
      ]
    },
    {
      "cell_type": "markdown",
      "source": [
        "#####**Solution:**"
      ],
      "metadata": {
        "id": "MplKFBOMalbb"
      }
    },
    {
      "cell_type": "markdown",
      "source": [
        "Run the cell below to calculate the z coordinate of the vertex, and the x and y coordinates of momentum ($p_x$ and $p_y$) for the hits shown above. Note that your value may be more accurate than the value produced by the following cell if there are multiple tracks (you can tell if there are multiple track if there are two different paths traced out by the hits) or if the hits don't form a line (sometimes, tracks just look like blobs, and we can't get much information from them). Things like this are easier for you to see than a computer to see!\n",
        "\n",
        "Also, some of the tracks can't be fit using just the sliders shown above. Do your best to find a decent fit, but the next step will give you the tools to get almost perfect fits for every track."
      ],
      "metadata": {
        "id": "3l2E6qYufCxa"
      }
    },
    {
      "cell_type": "code",
      "source": [
        "# @title\n",
        "fig.show_answer(every=True, but=\"pz\")"
      ],
      "metadata": {
        "colab": {
          "base_uri": "https://localhost:8080/"
        },
        "id": "AiqEhV57HP-c",
        "outputId": "a67b0c3d-dfcf-4145-9fdc-26e81a3da568",
        "cellView": "form"
      },
      "execution_count": null,
      "outputs": [
        {
          "output_type": "stream",
          "name": "stdout",
          "text": [
            "The true z value is about 123.0\n",
            "The charge of the particle is 1\n",
            "The x component of momentum is -0.25\n",
            "The y component of momentum is -0.5\n"
          ]
        }
      ]
    },
    {
      "cell_type": "markdown",
      "source": [
        "---\n",
        "###**Step 3: Finding Momentum in Z direction**\n",
        "---\n",
        "\n",
        "So far, we have not provided any information about the $z$ component of the momentum ($p_z$). If the $z$ component of the momentum vector is 0, that means that the particle is not moving in the z direction at all, which means that all of the hits should have the same z coordinate. However, if $p_z$ is not zero then the particle is moving in the z direction, which means the z coordinates of the hits should change as the particle passes through the detector. For example, the first hit may have a z coordinate of 70, while the last hit has a z coordinate of 80. This is what may cause a track to not line up, even if we have the correct z coordinate of the vertex. To fix, this, we adjust the z coordinate of hits that occur later in the track based on the momentum in the z direction.\n",
        "\n",
        "The plot below shows the correct track for the hits shown below. Change the value of $p_z$ in the plot below to see its effect on the track hits. Try to find the value of $p_z$ that causes the points to align."
      ],
      "metadata": {
        "id": "AdfGTl7nv4-e"
      }
    },
    {
      "cell_type": "code",
      "source": [
        "# @title\n",
        "i = 75602\n",
        "fig = CDC_plot(\"Hits in the Central Drift Chamber\",track_fitting_events.iloc[i],showTrack=True)\n",
        "fig.update()\n",
        "fig.display(fig.update_figure, z0=fixed(118.6),px=fixed(fig.px),py=fixed(fig.py),pz=(-1,1,0.01),show_hits=fixed(True),show_track=fixed(True),charge=fixed(fig.charge),t_max=fixed(0.75))"
      ],
      "metadata": {
        "colab": {
          "base_uri": "https://localhost:8080/",
          "height": 549,
          "referenced_widgets": [
            "35db598067ae487e97cce3ca80502f39",
            "65a3a4b8d3034c419460c9eafbae13cb",
            "5059247a7a5e4c4d9571d1ecf8f8ada8",
            "792a3fdc16004419987894986d9d72d3",
            "52852f83581a4589a225d8e62a4876de",
            "0e64a2645b7d48368caf8fba3b0d0a61",
            "0d85cfa8e61344ccb6361d788f89a23b",
            "f37e1b56209449a29669208bb7031ed3",
            "ac19f82296ad4178bd0ac2615c9d1a8e"
          ]
        },
        "outputId": "70519ad4-eeee-4c18-b71f-af42768e2107",
        "id": "QldYsTn58_4M",
        "cellView": "form"
      },
      "execution_count": null,
      "outputs": [
        {
          "output_type": "display_data",
          "data": {
            "text/plain": [
              "VBox(children=(HBox(children=(FloatSlider(value=0.0, description='pz', max=1.0, min=-1.0, step=0.01),), layout…"
            ],
            "application/vnd.jupyter.widget-view+json": {
              "version_major": 2,
              "version_minor": 0,
              "model_id": "35db598067ae487e97cce3ca80502f39"
            }
          },
          "metadata": {
            "application/vnd.jupyter.widget-view+json": {
              "colab": {
                "custom_widget_manager": {
                  "url": "https://ssl.gstatic.com/colaboratory-static/widgets/colab-cdn-widget-manager/b3e629b1971e1542/manager.min.js"
                }
              }
            }
          }
        }
      ]
    },
    {
      "cell_type": "markdown",
      "source": [
        "The hits shown above have a z momentum of about -0.59. Notice how the hits furthest from the center of the detector are affected the most by the $p_z$ slider. This is because the hits that are further from the center of the detector happen after the hits close to the center of the detector (since the particle moves from the center of the detector outward). Also, the z component of the momentum of the particle causes the z component of the hits to change over time. Since the hits furthest from the center of the detector occur much later than the hits near the center, their z coordinates have the most time to change. This change in z coordinates makes the hits seem like they are moving (see problem 5).\n",
        "\n",
        "Even though we only changed the value of $p_z$ above, we usually have to go back and forth, slightly modifying both the $z_0$ slider and the $p_z$ slider, to find their true values- this is why we only estimated the z coordinate of the vertex ($z_0$) in step 1. Try to find the true $z_0$ value and $p_z$ value in the example below. To do this, first estimate the z coordinate of the vertex ($z_0$), then go back and forth between changing the z coordinate of the vertex ($z_0$) and the z component of the momentum ($p_z$)."
      ],
      "metadata": {
        "id": "YZG4GV8VBpfh"
      }
    },
    {
      "cell_type": "code",
      "source": [
        "# @title\n",
        "i = 22699\n",
        "fig = CDC_plot(\"Hits in the Central Drift Chamber\",track_fitting_events.iloc[i],showTrack=True)\n",
        "fig.update()\n",
        "fig.display(fig.update_figure, z0=(0,175,0.1),px=fixed(fig.px),py=fixed(fig.py),pz=(-1,1,0.01),show_hits=fixed(True),show_track=fixed(True),charge=fixed(fig.charge),t_max=fixed(0.75))"
      ],
      "metadata": {
        "colab": {
          "base_uri": "https://localhost:8080/",
          "height": 549,
          "referenced_widgets": [
            "52f9cbd1bd5d4b81abd96371f405c8cf",
            "9560b6bcc20147aa8ce0ea5ad5177696",
            "dfe0a53db3ad4cccbf70ee1ab386c43e",
            "ed531c138f2849f7a8bf5a0cad148635",
            "cbb9eca0621f4b349a50d8bf87795112",
            "4e7652d488ce4832be951d7e66ae8219",
            "851d4d669a174315bc41e2c56bbea669",
            "aafa04ca217e48b89054d8f901b870c5",
            "ea82227c00204597ab7558521b631bbb",
            "9d1ef0a5087a422291e87745fb97a598",
            "a6329ea866ef467b9225ae99d13e1e3f",
            "75a19db2bedf46db9e6bfbaec2b7986f"
          ]
        },
        "outputId": "6356b2de-9770-4f50-c803-0686fe03084b",
        "cellView": "form",
        "id": "RMiHNH3rCmqM"
      },
      "execution_count": null,
      "outputs": [
        {
          "output_type": "display_data",
          "data": {
            "text/plain": [
              "VBox(children=(HBox(children=(FloatSlider(value=0.0, description='z0', max=175.0), FloatSlider(value=0.0, desc…"
            ],
            "application/vnd.jupyter.widget-view+json": {
              "version_major": 2,
              "version_minor": 0,
              "model_id": "52f9cbd1bd5d4b81abd96371f405c8cf"
            }
          },
          "metadata": {
            "application/vnd.jupyter.widget-view+json": {
              "colab": {
                "custom_widget_manager": {
                  "url": "https://ssl.gstatic.com/colaboratory-static/widgets/colab-cdn-widget-manager/b3e629b1971e1542/manager.min.js"
                }
              }
            }
          }
        }
      ]
    },
    {
      "cell_type": "markdown",
      "source": [
        "For the example above, setting the z coordinate of the vertex ($z_0$) to 123 and the z component of the momentum ($p_z$) to -0.42 will create a very smooth track. This step is substantially harder than the other two steps: There seem to be multiple values that seem to produce similar results! For example, setting the z coordinate of the vertex ($z_0$) to 126 and the z component of the momentum ($p_z$) to -0.52 seems to yield almost the exact same results. It's almost impossible to pick which one is correct, which limits our ability to make extremely precise measurements of the vertex coordinates and z component of momentum."
      ],
      "metadata": {
        "id": "F63rBw3mEGvP"
      }
    },
    {
      "cell_type": "markdown",
      "source": [
        "####**Question #9:**\n",
        "---\n",
        "When you adjust the $p_z$ and $z_0$ sliders, there are certain hits that do not move. What is special about these wires? **Hint:** You can hover your mouse over hits to see what ring they belong to in the interactive plots.\n"
      ],
      "metadata": {
        "id": "MygdGYcDSh-n"
      }
    },
    {
      "cell_type": "markdown",
      "source": [
        "Double click to edit this cell and answer the following question: What is special about these wires?"
      ],
      "metadata": {
        "id": "Tl76hsBRSh-z"
      }
    },
    {
      "cell_type": "markdown",
      "source": [
        "#####**Solution:**"
      ],
      "metadata": {
        "id": "J6lXGMwUSh-z"
      }
    },
    {
      "cell_type": "markdown",
      "source": [
        "The hits that do not move are hits in axial (not tilted) wires. See questions 4 and 5 for more information about axial and stereo wires. Because the axial wires are lined up with the z axis, their x and y coordinates do not change for different z coordinates. The hits that do move are in stereo wires, whose x and y coordinates do change as we change the z coordinate changes (when we move the $z_0$ or the $p_z$ slider)."
      ],
      "metadata": {
        "id": "eylvvPiCSh-0"
      }
    },
    {
      "cell_type": "markdown",
      "source": [
        "#### **Question #10:**\n",
        "---\n",
        "Every time you run the following cell, it will plot a new collection of hits with different z coordinates for tracks with random momenta. Run the cell below and use the slider to find a good estimate of the z coordinate of the hits, the x component of momentum, the y component of the momentum, and the charge. Feel free to run this cell as many times as you need to practice fitting tracks in the CDC."
      ],
      "metadata": {
        "id": "NT2iD52Lv4-8"
      }
    },
    {
      "cell_type": "code",
      "source": [
        "# @title\n",
        "i = np.random.randint(0,100000)\n",
        "fig = CDC_plot(\"Hits in the Central Drift Chamber\",track_fitting_events.iloc[i],showTrack=True)\n",
        "fig.update()\n",
        "fig.display(fig.update_figure, z0=(0,175,0.1),px=(-1,1,0.01),py=(-1,1,0.01),pz=(-1,1,0.01),show_hits=fixed(True),show_track=fixed(True),charge=(-1,1,2),t_max=(0,2*np.pi,0.01))"
      ],
      "metadata": {
        "colab": {
          "base_uri": "https://localhost:8080/",
          "height": 581,
          "referenced_widgets": [
            "36527c138ae7483eaae303eb0adb9b2a",
            "6d8bdbcc3df24debb10c7cb4afeb8bd5",
            "6de5f116b0024c71ae4b1d5cd5fce560",
            "f5da2fc362b1409d9988797a2079e25f",
            "a671ec721cae4ff9aaa9c9f9d547749e",
            "9518696f163549b3a7a1f1caa5b431b3",
            "f065b81557514acd9edd198136e781e3",
            "1ec989e4f1be407b9415788639ebf39f",
            "b52694f2f8fa40cca0f8c95023bdbf0c",
            "b925fde218854264bc45106bf335bf9b",
            "da7c63eede8f4c83b87418503a5f8e92",
            "1f0663382c2b42a0ac761f3f5207b25b",
            "0ec96aec863e406d947bd52e32cf314e",
            "71f109a1ab3a48089bd8c34bd14715a4",
            "0338cb0714f6439db48b01f81f96a120",
            "b95be6eb407044c08f42861a44a00027",
            "fd1df4f2cf694d849ca646a2dc68ed98",
            "bb9eda67c4124aa4b990dd248958e3bf",
            "f6f521cf01db4aff86f260ea2b95f08b",
            "94b09c4372fc41f4a2b7be787c9640f6",
            "766d6f35346d42ca8d076d4d15b7e14d",
            "a019b9619646496c8dcae430c85fed58",
            "90b15584d4004790a0c7a8aeaadf4d95",
            "0a887cd31045462785e782b58e676f9a",
            "2bfc2eb3355c445caf0bc406b6cf2ef5"
          ]
        },
        "id": "Uhv9ajybv4-8",
        "outputId": "01fa4be0-6513-484e-8ad2-a3d974e7d8b4",
        "cellView": "form"
      },
      "execution_count": null,
      "outputs": [
        {
          "output_type": "display_data",
          "data": {
            "text/plain": [
              "VBox(children=(HBox(children=(FloatSlider(value=0.0, description='z0', max=175.0), FloatSlider(value=0.0, desc…"
            ],
            "application/vnd.jupyter.widget-view+json": {
              "version_major": 2,
              "version_minor": 0,
              "model_id": "36527c138ae7483eaae303eb0adb9b2a"
            }
          },
          "metadata": {
            "application/vnd.jupyter.widget-view+json": {
              "colab": {
                "custom_widget_manager": {
                  "url": "https://ssl.gstatic.com/colaboratory-static/widgets/colab-cdn-widget-manager/b3e629b1971e1542/manager.min.js"
                }
              }
            }
          }
        }
      ]
    },
    {
      "cell_type": "markdown",
      "source": [
        "#####**Solution:**"
      ],
      "metadata": {
        "id": "3DChbK-bv4-9"
      }
    },
    {
      "cell_type": "markdown",
      "source": [
        "Run the cell below to see the best values for the z coordinate of the vertex ($z_0$), the components of the momentum ($p_x$, $p_y$, and $p_z$), and the charge. If the hits are just a blob (instead of a line) or there are multiple tracks (meaning there seem to be multiple lines of hits), these values may not be accurate."
      ],
      "metadata": {
        "id": "_a-K01Wqv4-9"
      }
    },
    {
      "cell_type": "code",
      "source": [
        "# @title\n",
        "fig.show_answer(every=True)"
      ],
      "metadata": {
        "colab": {
          "base_uri": "https://localhost:8080/"
        },
        "outputId": "5b11ff3c-a4b2-4f72-e8f1-0f6144df5cfe",
        "cellView": "form",
        "id": "z-Rwb-rjv4-9"
      },
      "execution_count": null,
      "outputs": [
        {
          "output_type": "stream",
          "name": "stdout",
          "text": [
            "The true z value is about 16.0\n",
            "The charge of the particle is 1\n",
            "The x component of momentum is 0.07\n",
            "The y component of momentum is -0.06\n",
            "The z component of momentum is 0.45\n"
          ]
        }
      ]
    }
  ]
}