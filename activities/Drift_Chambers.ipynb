{
  "nbformat": 4,
  "nbformat_minor": 0,
  "metadata": {
    "colab": {
      "provenance": [],
      "collapsed_sections": [
        "Nw2lfeLNQXVm",
        "9iwBnEgGQeBD",
        "9lVBhsmTUZ4D",
        "O3Op721ZUZ4W",
        "Q3MD_YFeqzeE",
        "tyyYO4kLqzeG",
        "RIR54FwWrSg3",
        "TOaC6UORrShV",
        "Gbyz0nBDhQLU",
        "0ukTcNNnhQLp",
        "nZhO8QMiQvya",
        "pjqbuej9Q1GO",
        "E08XOn__LQzL",
        "-dQtQwaeLQzO",
        "5n2wqsBURxgq",
        "qV6c3E6tP4y1",
        "UREJhI9qalbL",
        "MplKFBOMalbb",
        "MygdGYcDSh-n",
        "J6lXGMwUSh-z",
        "NT2iD52Lv4-8",
        "3DChbK-bv4-9"
      ],
      "toc_visible": true,
      "authorship_tag": "ABX9TyMydji4avIZljuPWRkjhFyh",
      "include_colab_link": true
    },
    "kernelspec": {
      "name": "python3",
      "display_name": "Python 3"
    },
    "language_info": {
      "name": "python"
    },
    "widgets": {
      "application/vnd.jupyter.widget-state+json": {
        "4360358b04d347fbae2e47bbac94034a": {
          "model_module": "@jupyter-widgets/controls",
          "model_name": "VBoxModel",
          "model_module_version": "1.5.0",
          "state": {
            "_dom_classes": [],
            "_model_module": "@jupyter-widgets/controls",
            "_model_module_version": "1.5.0",
            "_model_name": "VBoxModel",
            "_view_count": null,
            "_view_module": "@jupyter-widgets/controls",
            "_view_module_version": "1.5.0",
            "_view_name": "VBoxView",
            "box_style": "",
            "children": [
              "IPY_MODEL_acbb87fe29df4d1a892fb1ebc7240378",
              "IPY_MODEL_40338e9ddd7e419293d64c1468442045"
            ],
            "layout": "IPY_MODEL_26e72aefe2014504ad57879574bf0fd1"
          }
        },
        "acbb87fe29df4d1a892fb1ebc7240378": {
          "model_module": "@jupyter-widgets/controls",
          "model_name": "HBoxModel",
          "model_module_version": "1.5.0",
          "state": {
            "_dom_classes": [],
            "_model_module": "@jupyter-widgets/controls",
            "_model_module_version": "1.5.0",
            "_model_name": "HBoxModel",
            "_view_count": null,
            "_view_module": "@jupyter-widgets/controls",
            "_view_module_version": "1.5.0",
            "_view_name": "HBoxView",
            "box_style": "",
            "children": [
              "IPY_MODEL_f4cf5db1934344cb966acc0057fef880"
            ],
            "layout": "IPY_MODEL_788faf3eed864381b537db5938ea39ef"
          }
        },
        "40338e9ddd7e419293d64c1468442045": {
          "model_module": "@jupyter-widgets/output",
          "model_name": "OutputModel",
          "model_module_version": "1.0.0",
          "state": {
            "_dom_classes": [],
            "_model_module": "@jupyter-widgets/output",
            "_model_module_version": "1.0.0",
            "_model_name": "OutputModel",
            "_view_count": null,
            "_view_module": "@jupyter-widgets/output",
            "_view_module_version": "1.0.0",
            "_view_name": "OutputView",
            "layout": "IPY_MODEL_defd27745200454899aa0460880d6ff9",
            "msg_id": "",
            "outputs": [
              {
                "output_type": "display_data",
                "data": {
                  "text/html": "<html>\n<head><meta charset=\"utf-8\" /></head>\n<body>\n    <div>            <script src=\"https://cdnjs.cloudflare.com/ajax/libs/mathjax/2.7.5/MathJax.js?config=TeX-AMS-MML_SVG\"></script><script type=\"text/javascript\">if (window.MathJax && window.MathJax.Hub && window.MathJax.Hub.Config) {window.MathJax.Hub.Config({SVG: {font: \"STIX-Web\"}});}</script>                <script type=\"text/javascript\">window.PlotlyConfig = {MathJaxConfig: 'local'};</script>\n        <script charset=\"utf-8\" src=\"https://cdn.plot.ly/plotly-2.24.1.min.js\"></script>                <div id=\"428290e5-7157-4bdc-812a-209a6bb24252\" class=\"plotly-graph-div\" style=\"height:500px; width:500px;\"></div>            <script type=\"text/javascript\">                                    window.PLOTLYENV=window.PLOTLYENV || {};                                    if (document.getElementById(\"428290e5-7157-4bdc-812a-209a6bb24252\")) {                    Plotly.newPlot(                        \"428290e5-7157-4bdc-812a-209a6bb24252\",                        [{\"hoverinfo\":\"text\",\"marker\":{\"size\":3},\"mode\":\"markers\",\"name\":\"Ring 4\",\"text\":[\"Ring: 4\\n Wire: 0\",\"Ring: 4\\n Wire: 1\",\"Ring: 4\\n Wire: 2\",\"Ring: 4\\n Wire: 3\",\"Ring: 4\\n Wire: 4\",\"Ring: 4\\n Wire: 5\",\"Ring: 4\\n Wire: 6\",\"Ring: 4\\n Wire: 7\",\"Ring: 4\\n Wire: 8\",\"Ring: 4\\n Wire: 9\",\"Ring: 4\\n Wire: 10\",\"Ring: 4\\n Wire: 11\",\"Ring: 4\\n Wire: 12\",\"Ring: 4\\n Wire: 13\",\"Ring: 4\\n Wire: 14\",\"Ring: 4\\n Wire: 15\",\"Ring: 4\\n Wire: 16\",\"Ring: 4\\n Wire: 17\",\"Ring: 4\\n Wire: 18\",\"Ring: 4\\n Wire: 19\",\"Ring: 4\\n Wire: 20\",\"Ring: 4\\n Wire: 21\",\"Ring: 4\\n Wire: 22\",\"Ring: 4\\n Wire: 23\",\"Ring: 4\\n Wire: 24\",\"Ring: 4\\n Wire: 25\",\"Ring: 4\\n Wire: 26\",\"Ring: 4\\n Wire: 27\",\"Ring: 4\\n Wire: 28\",\"Ring: 4\\n Wire: 29\",\"Ring: 4\\n Wire: 30\",\"Ring: 4\\n Wire: 31\",\"Ring: 4\\n Wire: 32\",\"Ring: 4\\n Wire: 33\",\"Ring: 4\\n Wire: 34\",\"Ring: 4\\n Wire: 35\",\"Ring: 4\\n Wire: 36\",\"Ring: 4\\n Wire: 37\",\"Ring: 4\\n Wire: 38\",\"Ring: 4\\n Wire: 39\",\"Ring: 4\\n Wire: 40\",\"Ring: 4\\n Wire: 41\",\"Ring: 4\\n Wire: 42\",\"Ring: 4\\n Wire: 43\",\"Ring: 4\\n Wire: 44\",\"Ring: 4\\n Wire: 45\",\"Ring: 4\\n Wire: 46\",\"Ring: 4\\n Wire: 47\",\"Ring: 4\\n Wire: 48\",\"Ring: 4\\n Wire: 49\",\"Ring: 4\\n Wire: 50\",\"Ring: 4\\n Wire: 51\",\"Ring: 4\\n Wire: 52\",\"Ring: 4\\n Wire: 53\"],\"type\":\"scatter\",\"uid\":\"c81f1ea5-57ed-41f0-958d-850178f17ed7\",\"x\":[15.074704446570042,14.803810517179931,14.332720444243652,13.667804912913876,12.818055765189772,11.79496440067813,10.612366375125411,9.286254298259108,7.834561561174073,6.276919817979971,4.634393501354607,2.9291949622247797,1.184384085821943,-0.5764435537098088,-2.329475782979397,-4.051005848147691,-5.717753008107831,-7.307177366574106,-8.797784685515436,-10.169417057854623,-11.403525508583733,-12.483420837833108,-13.394499313671819,-14.124440162531515,-14.663372186534538,-15.004007254512652,-15.141738861479407,-15.074704423708326,-14.80381046698282,-14.332720367389975,-13.667804810442947,-12.818055638487337,-11.794964251457616,-10.612366205404774,-9.286254110333529,-7.8345613575849145,-6.276919601480431,-4.63439327487248,-2.929194728822835,-1.1843838486565537,0.5764437914313999,2.3294760180423997,4.0510060773732945,5.71775322839614,7.307177574946111,8.797784879153252,10.16941723413964,11.40352566513199,12.483420972527567,13.39449942469096,14.124440248374002,14.663372246039497,15.004007286875376,15.14173886626225],\"y\":[1.4554218936656849,3.1956472288775637,4.892656916968531,6.523501812870699,8.066127536834834,9.499672722085515,10.80475112902225,11.963713810855902,12.960887785339926,13.782787984970613,14.41829961939348,14.858828483877085,15.098417181189944,15.13382568517909,14.964575156566006,14.592954418426489,14.023989003784688,13.265373193899487,12.327365966308863,11.222652259756398,9.966171432153882,8.574915231391746,7.067698011095638,5.4649022987668046,3.788203157060782,2.060275065745273,0.3044852882559333,-1.4554221304585924,-3.195647461415279,-4.892657142106381,-6.523502027564079,-8.066127738180384,-9.499672907360384,-10.80475129572091,-11.963713956724044,-12.960887908404935,-13.782788083568242,-14.418299692190363,-14.858828529888772,-15.098417199794206,-15.133825676124335,-14.964575119974684,-14.592954354793434,-14.023988913970427,-13.265373079118607,-12.327365828113582,-11.222652100015559,-9.966171253027715,-8.574915035302618,-7.067697800695328,-5.4649020769006045,-3.7882029267290633,-2.060274830062865,-0.304485050410049]},{\"hoverinfo\":\"text\",\"marker\":{\"size\":3},\"mode\":\"markers\",\"name\":\"Ring 5\",\"text\":[\"Ring: 5\\n Wire: 0\",\"Ring: 5\\n Wire: 1\",\"Ring: 5\\n Wire: 2\",\"Ring: 5\\n Wire: 3\",\"Ring: 5\\n Wire: 4\",\"Ring: 5\\n Wire: 5\",\"Ring: 5\\n Wire: 6\",\"Ring: 5\\n Wire: 7\",\"Ring: 5\\n Wire: 8\",\"Ring: 5\\n Wire: 9\",\"Ring: 5\\n Wire: 10\",\"Ring: 5\\n Wire: 11\",\"Ring: 5\\n Wire: 12\",\"Ring: 5\\n Wire: 13\",\"Ring: 5\\n Wire: 14\",\"Ring: 5\\n Wire: 15\",\"Ring: 5\\n Wire: 16\",\"Ring: 5\\n Wire: 17\",\"Ring: 5\\n Wire: 18\",\"Ring: 5\\n Wire: 19\",\"Ring: 5\\n Wire: 20\",\"Ring: 5\\n Wire: 21\",\"Ring: 5\\n Wire: 22\",\"Ring: 5\\n Wire: 23\",\"Ring: 5\\n Wire: 24\",\"Ring: 5\\n Wire: 25\",\"Ring: 5\\n Wire: 26\",\"Ring: 5\\n Wire: 27\",\"Ring: 5\\n Wire: 28\",\"Ring: 5\\n Wire: 29\",\"Ring: 5\\n Wire: 30\",\"Ring: 5\\n Wire: 31\",\"Ring: 5\\n Wire: 32\",\"Ring: 5\\n Wire: 33\",\"Ring: 5\\n Wire: 34\",\"Ring: 5\\n Wire: 35\",\"Ring: 5\\n Wire: 36\",\"Ring: 5\\n Wire: 37\",\"Ring: 5\\n Wire: 38\",\"Ring: 5\\n Wire: 39\",\"Ring: 5\\n Wire: 40\",\"Ring: 5\\n Wire: 41\",\"Ring: 5\\n Wire: 42\",\"Ring: 5\\n Wire: 43\",\"Ring: 5\\n Wire: 44\",\"Ring: 5\\n Wire: 45\",\"Ring: 5\\n Wire: 46\",\"Ring: 5\\n Wire: 47\",\"Ring: 5\\n Wire: 48\",\"Ring: 5\\n Wire: 49\",\"Ring: 5\\n Wire: 50\",\"Ring: 5\\n Wire: 51\",\"Ring: 5\\n Wire: 52\",\"Ring: 5\\n Wire: 53\",\"Ring: 5\\n Wire: 54\",\"Ring: 5\\n Wire: 55\",\"Ring: 5\\n Wire: 56\",\"Ring: 5\\n Wire: 57\",\"Ring: 5\\n Wire: 58\",\"Ring: 5\\n Wire: 59\",\"Ring: 5\\n Wire: 60\",\"Ring: 5\\n Wire: 61\",\"Ring: 5\\n Wire: 62\",\"Ring: 5\\n Wire: 63\",\"Ring: 5\\n Wire: 64\",\"Ring: 5\\n Wire: 65\"],\"type\":\"scatter\",\"uid\":\"0615923c-4c0d-4e71-905e-7aea7246b0f0\",\"x\":[14.443430132419909,15.279115066637704,15.976429968782528,16.529059847118674,16.931999999891076,17.181601338679403,17.27560343510786,17.213154991634617,16.99482155103413,16.622580374754264,16.09980253653037,15.431222393419564,14.622894710730044,13.682139829128896,12.617477370503387,11.438549082945892,10.156031523590096,8.78153937005628,7.3275202361322265,5.807141944255177,4.234173275672779,2.6228592782279336,0.9877922609996541,-0.6562203559076591,-2.2942901396536364,-3.9115824766152927,-5.493450916945183,-7.025569815089307,-8.494064065051582,-9.885634755502391,-11.18767960677895,-12.38840709908148,-13.476943258302434,-14.443430132419913,-15.279115066637704,-15.97642996878253,-16.529059847118674,-16.931999999891076,-17.181601338679403,-17.275603435107865,-17.213154991634614,-16.994821551034132,-16.622580374754264,-16.09980253653037,-15.431222393419565,-14.622894710730044,-13.682139829128893,-12.61747737050339,-11.43854908294589,-10.156031523590102,-8.781539370056278,-7.327520236132228,-5.807141944255184,-4.234173275672777,-2.6228592782279407,-0.9877922609996639,0.6562203559076574,2.2942901396536257,3.9115824766152896,5.49345091694518,7.0255698150892965,8.494064065051578,9.885634755502384,11.187679606778957,12.38840709908148,13.476943258302429],\"y\":[-9.479522530557343,-8.063663198440548,-6.574778083709536,-5.026350760522879,-3.4324040264992566,-1.8073729100907459,-0.1659739447298323,1.4769281063762536,3.1064548678430226,4.707849092980169,6.266608307702816,7.768616147182609,9.200270195833546,10.548605172893927,11.801410348016661,12.947340123534154,13.976016781947706,14.878124468144204,15.645493555222618,16.271174629900326,16.749501427475927,17.07614214639985,17.248138677739956,17.26393339427409,17.123383256603464,16.82776110853954,16.379744150033414,15.783389692038455,15.044098412874039,14.168565448846364,13.164719762057306,12.041652334495765,10.809533838697037,9.479522530557343,8.063663198440548,6.574778083709541,5.026350760522883,3.432404026499259,1.8073729100907459,0.16597394472983895,-1.4769281063762492,-3.106454867843019,-4.707849092980167,-6.266608307702818,-7.7686161471826045,-9.200270195833546,-10.548605172893925,-11.801410348016654,-12.947340123534158,-13.976016781947706,-14.87812446814421,-15.645493555222615,-16.27117462990032,-16.749501427475927,-17.076142146399853,-17.248138677739952,-17.26393339427409,-17.123383256603468,-16.82776110853954,-16.379744150033417,-15.783389692038458,-15.044098412874039,-14.168565448846369,-13.164719762057302,-12.041652334495765,-10.809533838697044]},{\"hoverinfo\":\"text\",\"marker\":{\"size\":3},\"mode\":\"markers\",\"name\":\"Ring 9\",\"text\":[\"Ring: 9\\n Wire: 0\",\"Ring: 9\\n Wire: 1\",\"Ring: 9\\n Wire: 2\",\"Ring: 9\\n Wire: 3\",\"Ring: 9\\n Wire: 4\",\"Ring: 9\\n Wire: 5\",\"Ring: 9\\n Wire: 6\",\"Ring: 9\\n Wire: 7\",\"Ring: 9\\n Wire: 8\",\"Ring: 9\\n Wire: 9\",\"Ring: 9\\n Wire: 10\",\"Ring: 9\\n Wire: 11\",\"Ring: 9\\n Wire: 12\",\"Ring: 9\\n Wire: 13\",\"Ring: 9\\n Wire: 14\",\"Ring: 9\\n Wire: 15\",\"Ring: 9\\n Wire: 16\",\"Ring: 9\\n Wire: 17\",\"Ring: 9\\n Wire: 18\",\"Ring: 9\\n Wire: 19\",\"Ring: 9\\n Wire: 20\",\"Ring: 9\\n Wire: 21\",\"Ring: 9\\n Wire: 22\",\"Ring: 9\\n Wire: 23\",\"Ring: 9\\n Wire: 24\",\"Ring: 9\\n Wire: 25\",\"Ring: 9\\n Wire: 26\",\"Ring: 9\\n Wire: 27\",\"Ring: 9\\n Wire: 28\",\"Ring: 9\\n Wire: 29\",\"Ring: 9\\n Wire: 30\",\"Ring: 9\\n Wire: 31\",\"Ring: 9\\n Wire: 32\",\"Ring: 9\\n Wire: 33\",\"Ring: 9\\n Wire: 34\",\"Ring: 9\\n Wire: 35\",\"Ring: 9\\n Wire: 36\",\"Ring: 9\\n Wire: 37\",\"Ring: 9\\n Wire: 38\",\"Ring: 9\\n Wire: 39\",\"Ring: 9\\n Wire: 40\",\"Ring: 9\\n Wire: 41\",\"Ring: 9\\n Wire: 42\",\"Ring: 9\\n Wire: 43\",\"Ring: 9\\n Wire: 44\",\"Ring: 9\\n Wire: 45\",\"Ring: 9\\n Wire: 46\",\"Ring: 9\\n Wire: 47\",\"Ring: 9\\n Wire: 48\",\"Ring: 9\\n Wire: 49\",\"Ring: 9\\n Wire: 50\",\"Ring: 9\\n Wire: 51\",\"Ring: 9\\n Wire: 52\",\"Ring: 9\\n Wire: 53\",\"Ring: 9\\n Wire: 54\",\"Ring: 9\\n Wire: 55\",\"Ring: 9\\n Wire: 56\",\"Ring: 9\\n Wire: 57\",\"Ring: 9\\n Wire: 58\",\"Ring: 9\\n Wire: 59\",\"Ring: 9\\n Wire: 60\",\"Ring: 9\\n Wire: 61\",\"Ring: 9\\n Wire: 62\",\"Ring: 9\\n Wire: 63\",\"Ring: 9\\n Wire: 64\",\"Ring: 9\\n Wire: 65\",\"Ring: 9\\n Wire: 66\",\"Ring: 9\\n Wire: 67\",\"Ring: 9\\n Wire: 68\",\"Ring: 9\\n Wire: 69\",\"Ring: 9\\n Wire: 70\",\"Ring: 9\\n Wire: 71\",\"Ring: 9\\n Wire: 72\",\"Ring: 9\\n Wire: 73\",\"Ring: 9\\n Wire: 74\",\"Ring: 9\\n Wire: 75\",\"Ring: 9\\n Wire: 76\",\"Ring: 9\\n Wire: 77\",\"Ring: 9\\n Wire: 78\",\"Ring: 9\\n Wire: 79\",\"Ring: 9\\n Wire: 80\",\"Ring: 9\\n Wire: 81\",\"Ring: 9\\n Wire: 82\",\"Ring: 9\\n Wire: 83\",\"Ring: 9\\n Wire: 84\",\"Ring: 9\\n Wire: 85\",\"Ring: 9\\n Wire: 86\",\"Ring: 9\\n Wire: 87\",\"Ring: 9\\n Wire: 88\",\"Ring: 9\\n Wire: 89\",\"Ring: 9\\n Wire: 90\",\"Ring: 9\\n Wire: 91\",\"Ring: 9\\n Wire: 92\"],\"type\":\"scatter\",\"uid\":\"1982db23-3317-4764-a4ed-1e875ee1a577\",\"x\":[21.368689997128442,20.56759859669029,19.672661961242753,18.687963481390597,17.617996110446807,16.467641864117127,15.242149544982148,13.94711079341499,12.588434574208783,11.172320215325596,9.705229121784829,8.193855293754073,6.645094783361729,5.066014229592789,3.463818614835952,1.8458183902015455,0.21939611960982708,-1.4080272051549576,-3.0290260247279384,-4.636204093287911,-6.222228225930651,-7.779861758309614,-9.301997565875594,-10.781690492055969,-12.212189037411148,-13.58696616517802,-14.899749082641671,-16.14454786244979,-17.31568277327732,-18.40781019513784,-19.415947001095905,-20.335493294132306,-21.162253395419214,-21.892454988240253,-22.522766330206515,-23.050311455232922,-23.472683295911793,-23.787954666409384,-23.994687055772793,-24.091937191525535,-24.07926134360346,-23.956717348993312,-23.72486434783579,-23.384760232197333,-22.937956819151278,-22.38649277019245,-21.732884289292382,-20.980113642037697,-20.13161554823622,-19.19126151007833,-18.163342147360414,-17.052547620370806,-15.863946229764181,-14.602961291068109,-13.275346389338143,-11.887159126868946,-10.444733483744365,-8.954650917339006,-7.423710332637811,-5.858897060392062,-4.26735098465718,-2.6563339651395563,-1.0331967029961344,0.5946547987289392,2.2197930269975004,3.8348028488159143,5.432315344786126,7.005041431794673,8.545805121427236,10.047576262357817,11.503502617316752,12.906941128277861,14.251488227208496,15.531009054081718,16.7396654488356,17.871942589558493,18.922674155356496,19.887065899090835,20.760717522427875,21.539642753391174,22.220287534806268,22.799546240648322,23.274775846301452,23.643807988073792,23.904958856943693,24.057036881394108,24.0993481642801,24.03169964892239,23.85439999998067,23.5682581950876,23.174579833669384,22.67516117979504,22.07228096623546],\"y\":[11.144186132870471,12.561356802625408,13.92121288236453,15.217549660692786,16.44445225021864,17.596322575828644,18.667904917420174,19.654309890546827,20.551036755558215,21.353993953442682,22.059517774672667,22.664389075870943,23.1658479680235,23.56160640922013,23.849858644464874,24.02928944492187,24.099080109002912,24.058912197915006,23.908968988623506,23.649934637601437,23.28299105918034,22.809812532746324,22.232558063387227,21.553861530847545,20.776819671739336,19.904977949843286,18.942314378970654,17.89322137219868,16.76248570029716,15.555266650791268,14.27707248731597,12.933735316672427,11.53138447826226,10.076418577317757,8.57547628953375,7.03540607031305,5.463234906835241,3.8661362555258836,2.251397311220111,0.6263857573640448,-1.0014838510349473,-2.6247839183221324,-4.236107698610837,-5.8281030910650395,-7.393506185849251,-8.92517440768307,-10.416119105773895,-11.859537441427612,-13.248843427841292,-14.577697980450335,-15.840037840717445,-17.03010324139069,-18.142464187000353,-19.172045229682883,-20.114148627285385,-20.964475778085557,-21.719146834325443,-22.374718405066897,-22.928199267594614,-23.37706401567932,-23.719264582427193,-23.95323958513933,-24.077921449542888,-24.09274128088766,-23.997631459682285,-23.793025950226532,-23.479858320531683,-23.05955748266388,-22.534041172946047,-21.905707201766923,-21.177422512922252,-20.352510102407738,-19.434733856350526,-18.4282813772601,-17.33774487695846,-16.168100223370864,-14.924684236781795,-13.613170339147977,-12.239542667575286,-10.810068770073704,-9.331271008173161,-7.809896796883976,-6.252887817789646,-4.667348345745958,-3.060512833704326,-1.4397129035621594,0.1876561063462283,1.814168884482168,3.4324040260962465,5.034977895395944,6.614578315382169,8.163997931635924,9.676167097823367]}],                        {\"template\":{\"data\":{\"barpolar\":[{\"marker\":{\"line\":{\"color\":\"#E5ECF6\",\"width\":0.5},\"pattern\":{\"fillmode\":\"overlay\",\"size\":10,\"solidity\":0.2}},\"type\":\"barpolar\"}],\"bar\":[{\"error_x\":{\"color\":\"#2a3f5f\"},\"error_y\":{\"color\":\"#2a3f5f\"},\"marker\":{\"line\":{\"color\":\"#E5ECF6\",\"width\":0.5},\"pattern\":{\"fillmode\":\"overlay\",\"size\":10,\"solidity\":0.2}},\"type\":\"bar\"}],\"carpet\":[{\"aaxis\":{\"endlinecolor\":\"#2a3f5f\",\"gridcolor\":\"white\",\"linecolor\":\"white\",\"minorgridcolor\":\"white\",\"startlinecolor\":\"#2a3f5f\"},\"baxis\":{\"endlinecolor\":\"#2a3f5f\",\"gridcolor\":\"white\",\"linecolor\":\"white\",\"minorgridcolor\":\"white\",\"startlinecolor\":\"#2a3f5f\"},\"type\":\"carpet\"}],\"choropleth\":[{\"colorbar\":{\"outlinewidth\":0,\"ticks\":\"\"},\"type\":\"choropleth\"}],\"contourcarpet\":[{\"colorbar\":{\"outlinewidth\":0,\"ticks\":\"\"},\"type\":\"contourcarpet\"}],\"contour\":[{\"colorbar\":{\"outlinewidth\":0,\"ticks\":\"\"},\"colorscale\":[[0.0,\"#0d0887\"],[0.1111111111111111,\"#46039f\"],[0.2222222222222222,\"#7201a8\"],[0.3333333333333333,\"#9c179e\"],[0.4444444444444444,\"#bd3786\"],[0.5555555555555556,\"#d8576b\"],[0.6666666666666666,\"#ed7953\"],[0.7777777777777778,\"#fb9f3a\"],[0.8888888888888888,\"#fdca26\"],[1.0,\"#f0f921\"]],\"type\":\"contour\"}],\"heatmapgl\":[{\"colorbar\":{\"outlinewidth\":0,\"ticks\":\"\"},\"colorscale\":[[0.0,\"#0d0887\"],[0.1111111111111111,\"#46039f\"],[0.2222222222222222,\"#7201a8\"],[0.3333333333333333,\"#9c179e\"],[0.4444444444444444,\"#bd3786\"],[0.5555555555555556,\"#d8576b\"],[0.6666666666666666,\"#ed7953\"],[0.7777777777777778,\"#fb9f3a\"],[0.8888888888888888,\"#fdca26\"],[1.0,\"#f0f921\"]],\"type\":\"heatmapgl\"}],\"heatmap\":[{\"colorbar\":{\"outlinewidth\":0,\"ticks\":\"\"},\"colorscale\":[[0.0,\"#0d0887\"],[0.1111111111111111,\"#46039f\"],[0.2222222222222222,\"#7201a8\"],[0.3333333333333333,\"#9c179e\"],[0.4444444444444444,\"#bd3786\"],[0.5555555555555556,\"#d8576b\"],[0.6666666666666666,\"#ed7953\"],[0.7777777777777778,\"#fb9f3a\"],[0.8888888888888888,\"#fdca26\"],[1.0,\"#f0f921\"]],\"type\":\"heatmap\"}],\"histogram2dcontour\":[{\"colorbar\":{\"outlinewidth\":0,\"ticks\":\"\"},\"colorscale\":[[0.0,\"#0d0887\"],[0.1111111111111111,\"#46039f\"],[0.2222222222222222,\"#7201a8\"],[0.3333333333333333,\"#9c179e\"],[0.4444444444444444,\"#bd3786\"],[0.5555555555555556,\"#d8576b\"],[0.6666666666666666,\"#ed7953\"],[0.7777777777777778,\"#fb9f3a\"],[0.8888888888888888,\"#fdca26\"],[1.0,\"#f0f921\"]],\"type\":\"histogram2dcontour\"}],\"histogram2d\":[{\"colorbar\":{\"outlinewidth\":0,\"ticks\":\"\"},\"colorscale\":[[0.0,\"#0d0887\"],[0.1111111111111111,\"#46039f\"],[0.2222222222222222,\"#7201a8\"],[0.3333333333333333,\"#9c179e\"],[0.4444444444444444,\"#bd3786\"],[0.5555555555555556,\"#d8576b\"],[0.6666666666666666,\"#ed7953\"],[0.7777777777777778,\"#fb9f3a\"],[0.8888888888888888,\"#fdca26\"],[1.0,\"#f0f921\"]],\"type\":\"histogram2d\"}],\"histogram\":[{\"marker\":{\"pattern\":{\"fillmode\":\"overlay\",\"size\":10,\"solidity\":0.2}},\"type\":\"histogram\"}],\"mesh3d\":[{\"colorbar\":{\"outlinewidth\":0,\"ticks\":\"\"},\"type\":\"mesh3d\"}],\"parcoords\":[{\"line\":{\"colorbar\":{\"outlinewidth\":0,\"ticks\":\"\"}},\"type\":\"parcoords\"}],\"pie\":[{\"automargin\":true,\"type\":\"pie\"}],\"scatter3d\":[{\"line\":{\"colorbar\":{\"outlinewidth\":0,\"ticks\":\"\"}},\"marker\":{\"colorbar\":{\"outlinewidth\":0,\"ticks\":\"\"}},\"type\":\"scatter3d\"}],\"scattercarpet\":[{\"marker\":{\"colorbar\":{\"outlinewidth\":0,\"ticks\":\"\"}},\"type\":\"scattercarpet\"}],\"scattergeo\":[{\"marker\":{\"colorbar\":{\"outlinewidth\":0,\"ticks\":\"\"}},\"type\":\"scattergeo\"}],\"scattergl\":[{\"marker\":{\"colorbar\":{\"outlinewidth\":0,\"ticks\":\"\"}},\"type\":\"scattergl\"}],\"scattermapbox\":[{\"marker\":{\"colorbar\":{\"outlinewidth\":0,\"ticks\":\"\"}},\"type\":\"scattermapbox\"}],\"scatterpolargl\":[{\"marker\":{\"colorbar\":{\"outlinewidth\":0,\"ticks\":\"\"}},\"type\":\"scatterpolargl\"}],\"scatterpolar\":[{\"marker\":{\"colorbar\":{\"outlinewidth\":0,\"ticks\":\"\"}},\"type\":\"scatterpolar\"}],\"scatter\":[{\"fillpattern\":{\"fillmode\":\"overlay\",\"size\":10,\"solidity\":0.2},\"type\":\"scatter\"}],\"scatterternary\":[{\"marker\":{\"colorbar\":{\"outlinewidth\":0,\"ticks\":\"\"}},\"type\":\"scatterternary\"}],\"surface\":[{\"colorbar\":{\"outlinewidth\":0,\"ticks\":\"\"},\"colorscale\":[[0.0,\"#0d0887\"],[0.1111111111111111,\"#46039f\"],[0.2222222222222222,\"#7201a8\"],[0.3333333333333333,\"#9c179e\"],[0.4444444444444444,\"#bd3786\"],[0.5555555555555556,\"#d8576b\"],[0.6666666666666666,\"#ed7953\"],[0.7777777777777778,\"#fb9f3a\"],[0.8888888888888888,\"#fdca26\"],[1.0,\"#f0f921\"]],\"type\":\"surface\"}],\"table\":[{\"cells\":{\"fill\":{\"color\":\"#EBF0F8\"},\"line\":{\"color\":\"white\"}},\"header\":{\"fill\":{\"color\":\"#C8D4E3\"},\"line\":{\"color\":\"white\"}},\"type\":\"table\"}]},\"layout\":{\"annotationdefaults\":{\"arrowcolor\":\"#2a3f5f\",\"arrowhead\":0,\"arrowwidth\":1},\"autotypenumbers\":\"strict\",\"coloraxis\":{\"colorbar\":{\"outlinewidth\":0,\"ticks\":\"\"}},\"colorscale\":{\"diverging\":[[0,\"#8e0152\"],[0.1,\"#c51b7d\"],[0.2,\"#de77ae\"],[0.3,\"#f1b6da\"],[0.4,\"#fde0ef\"],[0.5,\"#f7f7f7\"],[0.6,\"#e6f5d0\"],[0.7,\"#b8e186\"],[0.8,\"#7fbc41\"],[0.9,\"#4d9221\"],[1,\"#276419\"]],\"sequential\":[[0.0,\"#0d0887\"],[0.1111111111111111,\"#46039f\"],[0.2222222222222222,\"#7201a8\"],[0.3333333333333333,\"#9c179e\"],[0.4444444444444444,\"#bd3786\"],[0.5555555555555556,\"#d8576b\"],[0.6666666666666666,\"#ed7953\"],[0.7777777777777778,\"#fb9f3a\"],[0.8888888888888888,\"#fdca26\"],[1.0,\"#f0f921\"]],\"sequentialminus\":[[0.0,\"#0d0887\"],[0.1111111111111111,\"#46039f\"],[0.2222222222222222,\"#7201a8\"],[0.3333333333333333,\"#9c179e\"],[0.4444444444444444,\"#bd3786\"],[0.5555555555555556,\"#d8576b\"],[0.6666666666666666,\"#ed7953\"],[0.7777777777777778,\"#fb9f3a\"],[0.8888888888888888,\"#fdca26\"],[1.0,\"#f0f921\"]]},\"colorway\":[\"#636efa\",\"#EF553B\",\"#00cc96\",\"#ab63fa\",\"#FFA15A\",\"#19d3f3\",\"#FF6692\",\"#B6E880\",\"#FF97FF\",\"#FECB52\"],\"font\":{\"color\":\"#2a3f5f\"},\"geo\":{\"bgcolor\":\"white\",\"lakecolor\":\"white\",\"landcolor\":\"#E5ECF6\",\"showlakes\":true,\"showland\":true,\"subunitcolor\":\"white\"},\"hoverlabel\":{\"align\":\"left\"},\"hovermode\":\"closest\",\"mapbox\":{\"style\":\"light\"},\"paper_bgcolor\":\"white\",\"plot_bgcolor\":\"#E5ECF6\",\"polar\":{\"angularaxis\":{\"gridcolor\":\"white\",\"linecolor\":\"white\",\"ticks\":\"\"},\"bgcolor\":\"#E5ECF6\",\"radialaxis\":{\"gridcolor\":\"white\",\"linecolor\":\"white\",\"ticks\":\"\"}},\"scene\":{\"xaxis\":{\"backgroundcolor\":\"#E5ECF6\",\"gridcolor\":\"white\",\"gridwidth\":2,\"linecolor\":\"white\",\"showbackground\":true,\"ticks\":\"\",\"zerolinecolor\":\"white\"},\"yaxis\":{\"backgroundcolor\":\"#E5ECF6\",\"gridcolor\":\"white\",\"gridwidth\":2,\"linecolor\":\"white\",\"showbackground\":true,\"ticks\":\"\",\"zerolinecolor\":\"white\"},\"zaxis\":{\"backgroundcolor\":\"#E5ECF6\",\"gridcolor\":\"white\",\"gridwidth\":2,\"linecolor\":\"white\",\"showbackground\":true,\"ticks\":\"\",\"zerolinecolor\":\"white\"}},\"shapedefaults\":{\"line\":{\"color\":\"#2a3f5f\"}},\"ternary\":{\"aaxis\":{\"gridcolor\":\"white\",\"linecolor\":\"white\",\"ticks\":\"\"},\"baxis\":{\"gridcolor\":\"white\",\"linecolor\":\"white\",\"ticks\":\"\"},\"bgcolor\":\"#E5ECF6\",\"caxis\":{\"gridcolor\":\"white\",\"linecolor\":\"white\",\"ticks\":\"\"}},\"title\":{\"x\":0.05},\"xaxis\":{\"automargin\":true,\"gridcolor\":\"white\",\"linecolor\":\"white\",\"ticks\":\"\",\"title\":{\"standoff\":15},\"zerolinecolor\":\"white\",\"zerolinewidth\":2},\"yaxis\":{\"automargin\":true,\"gridcolor\":\"white\",\"linecolor\":\"white\",\"ticks\":\"\",\"title\":{\"standoff\":15},\"zerolinecolor\":\"white\",\"zerolinewidth\":2}}},\"xaxis\":{\"range\":[-60,60],\"title\":{\"text\":\"X\"}},\"yaxis\":{\"range\":[-60,60],\"title\":{\"text\":\"Y\"}},\"width\":500,\"height\":500,\"showlegend\":true,\"title\":{\"text\":\"Wire Positions\"},\"shapes\":[{\"line\":{\"color\":\"black\"},\"type\":\"circle\",\"x0\":-10.5,\"x1\":10.5,\"xref\":\"x\",\"y0\":-10.5,\"y1\":10.5,\"yref\":\"y\"},{\"line\":{\"color\":\"black\"},\"type\":\"circle\",\"x0\":-55,\"x1\":55,\"xref\":\"x\",\"y0\":-55,\"y1\":55,\"yref\":\"y\"}]},                        {\"responsive\": true}                    ).then(function(){\n                            \nvar gd = document.getElementById('428290e5-7157-4bdc-812a-209a6bb24252');\nvar x = new MutationObserver(function (mutations, observer) {{\n        var display = window.getComputedStyle(gd).display;\n        if (!display || display === 'none') {{\n            console.log([gd, 'removed!']);\n            Plotly.purge(gd);\n            observer.disconnect();\n        }}\n}});\n\n// Listen for the removal of the full notebook cells\nvar notebookContainer = gd.closest('#notebook-container');\nif (notebookContainer) {{\n    x.observe(notebookContainer, {childList: true});\n}}\n\n// Listen for the clearing of the current output cell\nvar outputEl = gd.closest('.output');\nif (outputEl) {{\n    x.observe(outputEl, {childList: true});\n}}\n\n                        })                };                            </script>        </div>\n</body>\n</html>"
                },
                "metadata": {}
              }
            ]
          }
        },
        "26e72aefe2014504ad57879574bf0fd1": {
          "model_module": "@jupyter-widgets/base",
          "model_name": "LayoutModel",
          "model_module_version": "1.2.0",
          "state": {
            "_model_module": "@jupyter-widgets/base",
            "_model_module_version": "1.2.0",
            "_model_name": "LayoutModel",
            "_view_count": null,
            "_view_module": "@jupyter-widgets/base",
            "_view_module_version": "1.2.0",
            "_view_name": "LayoutView",
            "align_content": null,
            "align_items": null,
            "align_self": null,
            "border": null,
            "bottom": null,
            "display": null,
            "flex": null,
            "flex_flow": null,
            "grid_area": null,
            "grid_auto_columns": null,
            "grid_auto_flow": null,
            "grid_auto_rows": null,
            "grid_column": null,
            "grid_gap": null,
            "grid_row": null,
            "grid_template_areas": null,
            "grid_template_columns": null,
            "grid_template_rows": null,
            "height": null,
            "justify_content": null,
            "justify_items": null,
            "left": null,
            "margin": null,
            "max_height": null,
            "max_width": null,
            "min_height": null,
            "min_width": null,
            "object_fit": null,
            "object_position": null,
            "order": null,
            "overflow": null,
            "overflow_x": null,
            "overflow_y": null,
            "padding": null,
            "right": null,
            "top": null,
            "visibility": null,
            "width": null
          }
        },
        "f4cf5db1934344cb966acc0057fef880": {
          "model_module": "@jupyter-widgets/controls",
          "model_name": "FloatSliderModel",
          "model_module_version": "1.5.0",
          "state": {
            "_dom_classes": [],
            "_model_module": "@jupyter-widgets/controls",
            "_model_module_version": "1.5.0",
            "_model_name": "FloatSliderModel",
            "_view_count": null,
            "_view_module": "@jupyter-widgets/controls",
            "_view_module_version": "1.5.0",
            "_view_name": "FloatSliderView",
            "continuous_update": true,
            "description": "z",
            "description_tooltip": null,
            "disabled": false,
            "layout": "IPY_MODEL_9cd5c975b2c54510a720c44f2eb1a49e",
            "max": 175,
            "min": 0,
            "orientation": "horizontal",
            "readout": true,
            "readout_format": ".2f",
            "step": 0.1,
            "style": "IPY_MODEL_73d916afe153454aa1df335b36f62687",
            "value": 49.4
          }
        },
        "788faf3eed864381b537db5938ea39ef": {
          "model_module": "@jupyter-widgets/base",
          "model_name": "LayoutModel",
          "model_module_version": "1.2.0",
          "state": {
            "_model_module": "@jupyter-widgets/base",
            "_model_module_version": "1.2.0",
            "_model_name": "LayoutModel",
            "_view_count": null,
            "_view_module": "@jupyter-widgets/base",
            "_view_module_version": "1.2.0",
            "_view_name": "LayoutView",
            "align_content": null,
            "align_items": null,
            "align_self": null,
            "border": null,
            "bottom": null,
            "display": null,
            "flex": null,
            "flex_flow": "row wrap",
            "grid_area": null,
            "grid_auto_columns": null,
            "grid_auto_flow": null,
            "grid_auto_rows": null,
            "grid_column": null,
            "grid_gap": null,
            "grid_row": null,
            "grid_template_areas": null,
            "grid_template_columns": null,
            "grid_template_rows": null,
            "height": null,
            "justify_content": null,
            "justify_items": null,
            "left": null,
            "margin": null,
            "max_height": null,
            "max_width": null,
            "min_height": null,
            "min_width": null,
            "object_fit": null,
            "object_position": null,
            "order": null,
            "overflow": null,
            "overflow_x": null,
            "overflow_y": null,
            "padding": null,
            "right": null,
            "top": null,
            "visibility": null,
            "width": null
          }
        },
        "defd27745200454899aa0460880d6ff9": {
          "model_module": "@jupyter-widgets/base",
          "model_name": "LayoutModel",
          "model_module_version": "1.2.0",
          "state": {
            "_model_module": "@jupyter-widgets/base",
            "_model_module_version": "1.2.0",
            "_model_name": "LayoutModel",
            "_view_count": null,
            "_view_module": "@jupyter-widgets/base",
            "_view_module_version": "1.2.0",
            "_view_name": "LayoutView",
            "align_content": null,
            "align_items": null,
            "align_self": null,
            "border": null,
            "bottom": null,
            "display": null,
            "flex": null,
            "flex_flow": null,
            "grid_area": null,
            "grid_auto_columns": null,
            "grid_auto_flow": null,
            "grid_auto_rows": null,
            "grid_column": null,
            "grid_gap": null,
            "grid_row": null,
            "grid_template_areas": null,
            "grid_template_columns": null,
            "grid_template_rows": null,
            "height": null,
            "justify_content": null,
            "justify_items": null,
            "left": null,
            "margin": null,
            "max_height": null,
            "max_width": null,
            "min_height": null,
            "min_width": null,
            "object_fit": null,
            "object_position": null,
            "order": null,
            "overflow": null,
            "overflow_x": null,
            "overflow_y": null,
            "padding": null,
            "right": null,
            "top": null,
            "visibility": null,
            "width": null
          }
        },
        "9cd5c975b2c54510a720c44f2eb1a49e": {
          "model_module": "@jupyter-widgets/base",
          "model_name": "LayoutModel",
          "model_module_version": "1.2.0",
          "state": {
            "_model_module": "@jupyter-widgets/base",
            "_model_module_version": "1.2.0",
            "_model_name": "LayoutModel",
            "_view_count": null,
            "_view_module": "@jupyter-widgets/base",
            "_view_module_version": "1.2.0",
            "_view_name": "LayoutView",
            "align_content": null,
            "align_items": null,
            "align_self": null,
            "border": null,
            "bottom": null,
            "display": null,
            "flex": null,
            "flex_flow": null,
            "grid_area": null,
            "grid_auto_columns": null,
            "grid_auto_flow": null,
            "grid_auto_rows": null,
            "grid_column": null,
            "grid_gap": null,
            "grid_row": null,
            "grid_template_areas": null,
            "grid_template_columns": null,
            "grid_template_rows": null,
            "height": null,
            "justify_content": null,
            "justify_items": null,
            "left": null,
            "margin": null,
            "max_height": null,
            "max_width": null,
            "min_height": null,
            "min_width": null,
            "object_fit": null,
            "object_position": null,
            "order": null,
            "overflow": null,
            "overflow_x": null,
            "overflow_y": null,
            "padding": null,
            "right": null,
            "top": null,
            "visibility": null,
            "width": null
          }
        },
        "73d916afe153454aa1df335b36f62687": {
          "model_module": "@jupyter-widgets/controls",
          "model_name": "SliderStyleModel",
          "model_module_version": "1.5.0",
          "state": {
            "_model_module": "@jupyter-widgets/controls",
            "_model_module_version": "1.5.0",
            "_model_name": "SliderStyleModel",
            "_view_count": null,
            "_view_module": "@jupyter-widgets/base",
            "_view_module_version": "1.2.0",
            "_view_name": "StyleView",
            "description_width": "",
            "handle_color": null
          }
        },
        "1f0abd4c28b24851b439020d7056ace9": {
          "model_module": "@jupyter-widgets/controls",
          "model_name": "VBoxModel",
          "model_module_version": "1.5.0",
          "state": {
            "_dom_classes": [],
            "_model_module": "@jupyter-widgets/controls",
            "_model_module_version": "1.5.0",
            "_model_name": "VBoxModel",
            "_view_count": null,
            "_view_module": "@jupyter-widgets/controls",
            "_view_module_version": "1.5.0",
            "_view_name": "VBoxView",
            "box_style": "",
            "children": [
              "IPY_MODEL_070b04ad004d4ae0b423f074deda0d19",
              "IPY_MODEL_895e05e2087c409eab48b8d23ca63478"
            ],
            "layout": "IPY_MODEL_12caa73e7d2e4bcba17b324166b36d1b"
          }
        },
        "070b04ad004d4ae0b423f074deda0d19": {
          "model_module": "@jupyter-widgets/controls",
          "model_name": "HBoxModel",
          "model_module_version": "1.5.0",
          "state": {
            "_dom_classes": [],
            "_model_module": "@jupyter-widgets/controls",
            "_model_module_version": "1.5.0",
            "_model_name": "HBoxModel",
            "_view_count": null,
            "_view_module": "@jupyter-widgets/controls",
            "_view_module_version": "1.5.0",
            "_view_name": "HBoxView",
            "box_style": "",
            "children": [
              "IPY_MODEL_5c0e925e1c5a481fba90d9e67f187230",
              "IPY_MODEL_03e8fcf7954c4ccaaa6a3e40ce517805",
              "IPY_MODEL_40a0c2fbf5df459e87c3d63429bcf3aa",
              "IPY_MODEL_21d278226b6940a6b666077d2b19ccdf",
              "IPY_MODEL_7d6834e3a38f49c0b4b6dc2102ce1c72"
            ],
            "layout": "IPY_MODEL_73fb9ac054f24eceaa72e075a94bfbb8"
          }
        },
        "895e05e2087c409eab48b8d23ca63478": {
          "model_module": "@jupyter-widgets/output",
          "model_name": "OutputModel",
          "model_module_version": "1.0.0",
          "state": {
            "_dom_classes": [],
            "_model_module": "@jupyter-widgets/output",
            "_model_module_version": "1.0.0",
            "_model_name": "OutputModel",
            "_view_count": null,
            "_view_module": "@jupyter-widgets/output",
            "_view_module_version": "1.0.0",
            "_view_name": "OutputView",
            "layout": "IPY_MODEL_94ec8f0e30dd401dbdebd07a2901f5ab",
            "msg_id": "",
            "outputs": [
              {
                "output_type": "display_data",
                "data": {
                  "text/html": "<html>\n<head><meta charset=\"utf-8\" /></head>\n<body>\n    <div>            <script src=\"https://cdnjs.cloudflare.com/ajax/libs/mathjax/2.7.5/MathJax.js?config=TeX-AMS-MML_SVG\"></script><script type=\"text/javascript\">if (window.MathJax && window.MathJax.Hub && window.MathJax.Hub.Config) {window.MathJax.Hub.Config({SVG: {font: \"STIX-Web\"}});}</script>                <script type=\"text/javascript\">window.PlotlyConfig = {MathJaxConfig: 'local'};</script>\n        <script charset=\"utf-8\" src=\"https://cdn.plot.ly/plotly-2.24.1.min.js\"></script>                <div id=\"e81d253b-3d97-4f96-a235-030712b12702\" class=\"plotly-graph-div\" style=\"height:500px; width:500px;\"></div>            <script type=\"text/javascript\">                                    window.PLOTLYENV=window.PLOTLYENV || {};                                    if (document.getElementById(\"e81d253b-3d97-4f96-a235-030712b12702\")) {                    Plotly.newPlot(                        \"e81d253b-3d97-4f96-a235-030712b12702\",                        [{\"hoverinfo\":\"text\",\"marker\":{\"size\":3},\"mode\":\"markers\",\"text\":[\"Ring: 1.0\\n Wire: 29.0\",\"Ring: 4.0\\n Wire: 36.0\",\"Ring: 6.0\\n Wire: 47.0\",\"Ring: 7.0\\n Wire: 56.0\",\"Ring: 8.0\\n Wire: 56.0\",\"Ring: 9.0\\n Wire: 59.0\",\"Ring: 10.0\\n Wire: 59.0\",\"Ring: 11.0\\n Wire: 68.0\",\"Ring: 12.0\\n Wire: 67.0\",\"Ring: 13.0\\n Wire: 81.0\",\"Ring: 14.0\\n Wire: 81.0\",\"Ring: 15.0\\n Wire: 89.0\",\"Ring: 16.0\\n Wire: 88.0\",\"Ring: 17.0\\n Wire: 92.0\",\"Ring: 18.0\\n Wire: 93.0\",\"Ring: 19.0\\n Wire: 100.0\",\"Ring: 21.0\\n Wire: 114.0\",\"Ring: 22.0\\n Wire: 113.0\",\"Ring: 24.0\\n Wire: 121.0\",\"Ring: 25.0\\n Wire: 126.0\",\"Ring: 26.0\\n Wire: 127.0\",\"Ring: 27.0\\n Wire: 134.0\",\"Ring: 28.0\\n Wire: 133.0\"],\"x\":[-5.360902592959,-7.8345613575849145,-10.244439983470834,-11.287107472713895,-12.766101611470752,-13.247259150574262,-13.289453634902264,-14.65344462381651,-16.11186599981163,-17.32971917606608,-18.782013371454376,-19.724415537153146,-21.191507675069563,-22.671017319625886,-22.836712558410916,-24.846116172511625,-26.227265803756907,-27.724667978188204,-29.965569900764983,-32.616905436545196,-32.88033045789082,-34.703482555727376,-36.22418862789197],\"y\":[-9.285349677249934,-12.960887908404935,-15.529496775342324,-17.40839022920844,-18.091536602807945,-20.07161219584815,-21.69551033401647,-23.103446630313343,-23.812216731283513,-26.16063755508813,-26.83833697296665,-28.22531573264879,-28.869871557515943,-29.957472100232636,-31.565569309647735,-32.174986513828564,-34.98204241152992,-35.58954006536326,-37.723014434943806,-38.38942406227877,-39.974242471120036,-40.537497950839615,-41.04846490687444],\"type\":\"scatter\",\"uid\":\"082938d3-74ae-4149-b31f-2511cc62c1b8\"},{\"marker\":{\"color\":\"red\"},\"mode\":\"lines\",\"name\":\"track\",\"type\":\"scatter\",\"uid\":\"978d611f-c37b-4916-970b-f1611bb369d4\",\"x\":[0.0,0.0,0.0,0.0,0.0,0.0,0.0,0.0,0.0,0.0,0.0,0.0,0.0,0.0,0.0,0.0,0.0,0.0,0.0,0.0,0.0,0.0,0.0,0.0,0.0,0.0,0.0,0.0,0.0,0.0,0.0,0.0,0.0,0.0,0.0,0.0,0.0,0.0,0.0,0.0,0.0,0.0,0.0,0.0,0.0,0.0,0.0,0.0,0.0,0.0,0.0,0.0,0.0,0.0,0.0,0.0,0.0,0.0,0.0,0.0,0.0,0.0,0.0,0.0,0.0,0.0,0.0,0.0,0.0,0.0,0.0,0.0,0.0,0.0,0.0,0.0,0.0,0.0,0.0,0.0,0.0,0.0,0.0,0.0,0.0,0.0,0.0,0.0,0.0,0.0,0.0,0.0,0.0,0.0,0.0,0.0,0.0,0.0,0.0,0.0,0.0,0.0,0.0,0.0,0.0,0.0,0.0,0.0,0.0,0.0,0.0,0.0,0.0,0.0,0.0,0.0,0.0,0.0,0.0,0.0,0.0,0.0,0.0,0.0,0.0,0.0,0.0,0.0,0.0,0.0,0.0,0.0,0.0,0.0,0.0,0.0,0.0,0.0,0.0,0.0,0.0,0.0,0.0,0.0,0.0,0.0,0.0,0.0,0.0,0.0,0.0,0.0,0.0,0.0,0.0,0.0,0.0,0.0,0.0,0.0,0.0,0.0,0.0,0.0,0.0,0.0,0.0,0.0,0.0,0.0,0.0,0.0,0.0,0.0,0.0,0.0,0.0,0.0,0.0,0.0,0.0,0.0,0.0,0.0,0.0,0.0,0.0,0.0,0.0,0.0,0.0,0.0,0.0,0.0,0.0,0.0,0.0,0.0,0.0,0.0,0.0,0.0,0.0,0.0,0.0,0.0,0.0,0.0,0.0,0.0,0.0,0.0,0.0,0.0,0.0,0.0,0.0,0.0,0.0,0.0,0.0,0.0,0.0,0.0,0.0,0.0,0.0,0.0,0.0,0.0,0.0,0.0,0.0,0.0,0.0,0.0,0.0,0.0,0.0,0.0,0.0,0.0,0.0,0.0,0.0,0.0,0.0,0.0,0.0,0.0,0.0,0.0,0.0,0.0,0.0,0.0,0.0,0.0,0.0,0.0,0.0,0.0,0.0,0.0,0.0,0.0,0.0,0.0,0.0,0.0,0.0,0.0,0.0,0.0,0.0,0.0,0.0,0.0,0.0,0.0,0.0,0.0,0.0,0.0,0.0,0.0,0.0,0.0,0.0,0.0,0.0,0.0,0.0,0.0,0.0,0.0,0.0,0.0,0.0,0.0,0.0,0.0,0.0,0.0,0.0,0.0,0.0,0.0,0.0,0.0,0.0,0.0,0.0,0.0,0.0,0.0,0.0,0.0,0.0,0.0,0.0,0.0,0.0,0.0,0.0,0.0,0.0,0.0,0.0,0.0,0.0,0.0,0.0,0.0,0.0,0.0,0.0,0.0,0.0,0.0,0.0,0.0,0.0,0.0,0.0,0.0,0.0,0.0,0.0,0.0,0.0,0.0,0.0,0.0,0.0,0.0,0.0,0.0,0.0,0.0,0.0,0.0,0.0,0.0,0.0,0.0,0.0,0.0,0.0,0.0,0.0,0.0,0.0,0.0,0.0,0.0,0.0,0.0,0.0,0.0,0.0,0.0,0.0,0.0,0.0,0.0,0.0,0.0,0.0,0.0,0.0,0.0,0.0,0.0,0.0,0.0,0.0,0.0,0.0,0.0,0.0,0.0,0.0,0.0,0.0,0.0,0.0,0.0,0.0,0.0,0.0,0.0,0.0,0.0,0.0,0.0,0.0,0.0,0.0,0.0,0.0,0.0,0.0,0.0,0.0,0.0,0.0,0.0,0.0,0.0,0.0,0.0,0.0,0.0,0.0,0.0,0.0,0.0,0.0,0.0,0.0,0.0,0.0,0.0,0.0,0.0,0.0,0.0,0.0,0.0,0.0,0.0,0.0,0.0,0.0,0.0,0.0,0.0,0.0,0.0,0.0,0.0,0.0,0.0,0.0,0.0,0.0,0.0,0.0,0.0,0.0,0.0,0.0,0.0,0.0,0.0,0.0,0.0,0.0,0.0,0.0,0.0,0.0,0.0,0.0,0.0,0.0,0.0,0.0,0.0,0.0,0.0,0.0,0.0,0.0,0.0,0.0,0.0,0.0,0.0,0.0,0.0,0.0,0.0,0.0,0.0,0.0,0.0,0.0,0.0,0.0,0.0,0.0,0.0,0.0,0.0,0.0,0.0,0.0,0.0,0.0,0.0,0.0,0.0,0.0,0.0,0.0,0.0,0.0,0.0,0.0,0.0,0.0,0.0,0.0,0.0,0.0,0.0,0.0,0.0,0.0,0.0,0.0,0.0,0.0,0.0,0.0,0.0,0.0,0.0,0.0,0.0,0.0,0.0,0.0,0.0,0.0,0.0,0.0,0.0,0.0,0.0,0.0,0.0,0.0,0.0,0.0,0.0,0.0,0.0,0.0,0.0,0.0,0.0,0.0,0.0,0.0,0.0,0.0,0.0,0.0,0.0,0.0,0.0,0.0,0.0,0.0,0.0,0.0,0.0,0.0,0.0,0.0,0.0,0.0,0.0,0.0,0.0,0.0,0.0,0.0,0.0,0.0,0.0,0.0,0.0,0.0,0.0,0.0,0.0,0.0,0.0,0.0,0.0,0.0,0.0,0.0,0.0,0.0,0.0,0.0,0.0,0.0,0.0,0.0,0.0,0.0,0.0,0.0,0.0,0.0,0.0,0.0,0.0,0.0,0.0,0.0,0.0,0.0,0.0,0.0,0.0,0.0,0.0,0.0,0.0,0.0,0.0,0.0,0.0,0.0,0.0,0.0,0.0,0.0,0.0,0.0,0.0,0.0,0.0,0.0,0.0,0.0,0.0,0.0,0.0,0.0,0.0,0.0,0.0,0.0,0.0,0.0,0.0,0.0,0.0,0.0,0.0,0.0,0.0,0.0,0.0,0.0,0.0,0.0,0.0,0.0,0.0,0.0,0.0,0.0,0.0,0.0,0.0,0.0,0.0,0.0,0.0,0.0,0.0,0.0,0.0,0.0,0.0,0.0,0.0,0.0,0.0,0.0,0.0,0.0,0.0,0.0,0.0,0.0,0.0,0.0,0.0,0.0,0.0,0.0,0.0,0.0,0.0,0.0,0.0,0.0,0.0,0.0,0.0,0.0,0.0,0.0,0.0,0.0,0.0,0.0,0.0,0.0,0.0,0.0,0.0,0.0,0.0,0.0,0.0,0.0,0.0,0.0,0.0,0.0,0.0,0.0,0.0,0.0,0.0,0.0,0.0,0.0,0.0,0.0,0.0,0.0,0.0,0.0,0.0,0.0,0.0,0.0,0.0,0.0,0.0,0.0,0.0,0.0,0.0,0.0,0.0,0.0,0.0,0.0,0.0,0.0,0.0,0.0,0.0,0.0,0.0,0.0,0.0,0.0,0.0,0.0,0.0,0.0,0.0,0.0,0.0,0.0,0.0,0.0,0.0,0.0,0.0,0.0,0.0,0.0,0.0,0.0,0.0,0.0,0.0,0.0,0.0,0.0,0.0,0.0,0.0,0.0,0.0,0.0,0.0,0.0,0.0,0.0,0.0,0.0,0.0,0.0,0.0,0.0,0.0,0.0,0.0,0.0,0.0,0.0,0.0,0.0,0.0,0.0,0.0,0.0,0.0,0.0,0.0,0.0,0.0,0.0,0.0,0.0,0.0,0.0,0.0,0.0,0.0,0.0,0.0,0.0,0.0,0.0,0.0,0.0,0.0,0.0,0.0,0.0,0.0,0.0,0.0,0.0,0.0,0.0,0.0,0.0,0.0,0.0,0.0,0.0,0.0,0.0,0.0,0.0,0.0,0.0,0.0,0.0,0.0,0.0,0.0,0.0,0.0,0.0,0.0,0.0,0.0,0.0,0.0,0.0,0.0,0.0,0.0,0.0,0.0,0.0,0.0,0.0,0.0,0.0,0.0,0.0,0.0,0.0,0.0,0.0,0.0,0.0,0.0,0.0,0.0,0.0,0.0,0.0,0.0,0.0,0.0,0.0,0.0,0.0,0.0,0.0,0.0,0.0,0.0,0.0,0.0,0.0,0.0,0.0,0.0,0.0,0.0,0.0,0.0,0.0,0.0,0.0,0.0,0.0,0.0,0.0,0.0,0.0,0.0,0.0,0.0,0.0,0.0,0.0,0.0,0.0,0.0,0.0,0.0,0.0,0.0,0.0,0.0,0.0,0.0,0.0,0.0,0.0,0.0,0.0,0.0,0.0,0.0,0.0,0.0,0.0,0.0,0.0,0.0,0.0,0.0,0.0,0.0,0.0,0.0,0.0,0.0,0.0,0.0,0.0,0.0,0.0,0.0,0.0,0.0],\"y\":[0.0,0.0,0.0,0.0,0.0,0.0,0.0,0.0,0.0,0.0,0.0,0.0,0.0,0.0,0.0,0.0,0.0,0.0,0.0,0.0,0.0,0.0,0.0,0.0,0.0,0.0,0.0,0.0,0.0,0.0,0.0,0.0,0.0,0.0,0.0,0.0,0.0,0.0,0.0,0.0,0.0,0.0,0.0,0.0,0.0,0.0,0.0,0.0,0.0,0.0,0.0,0.0,0.0,0.0,0.0,0.0,0.0,0.0,0.0,0.0,0.0,0.0,0.0,0.0,0.0,0.0,0.0,0.0,0.0,0.0,0.0,0.0,0.0,0.0,0.0,0.0,0.0,0.0,0.0,0.0,0.0,0.0,0.0,0.0,0.0,0.0,0.0,0.0,0.0,0.0,0.0,0.0,0.0,0.0,0.0,0.0,0.0,0.0,0.0,0.0,0.0,0.0,0.0,0.0,0.0,0.0,0.0,0.0,0.0,0.0,0.0,0.0,0.0,0.0,0.0,0.0,0.0,0.0,0.0,0.0,0.0,0.0,0.0,0.0,0.0,0.0,0.0,0.0,0.0,0.0,0.0,0.0,0.0,0.0,0.0,0.0,0.0,0.0,0.0,0.0,0.0,0.0,0.0,0.0,0.0,0.0,0.0,0.0,0.0,0.0,0.0,0.0,0.0,0.0,0.0,0.0,0.0,0.0,0.0,0.0,0.0,0.0,0.0,0.0,0.0,0.0,0.0,0.0,0.0,0.0,0.0,0.0,0.0,0.0,0.0,0.0,0.0,0.0,0.0,0.0,0.0,0.0,0.0,0.0,0.0,0.0,0.0,0.0,0.0,0.0,0.0,0.0,0.0,0.0,0.0,0.0,0.0,0.0,0.0,0.0,0.0,0.0,0.0,0.0,0.0,0.0,0.0,0.0,0.0,0.0,0.0,0.0,0.0,0.0,0.0,0.0,0.0,0.0,0.0,0.0,0.0,0.0,0.0,0.0,0.0,0.0,0.0,0.0,0.0,0.0,0.0,0.0,0.0,0.0,0.0,0.0,0.0,0.0,0.0,0.0,0.0,0.0,0.0,0.0,0.0,0.0,0.0,0.0,0.0,0.0,0.0,0.0,0.0,0.0,0.0,0.0,0.0,0.0,0.0,0.0,0.0,0.0,0.0,0.0,0.0,0.0,0.0,0.0,0.0,0.0,0.0,0.0,0.0,0.0,0.0,0.0,0.0,0.0,0.0,0.0,0.0,0.0,0.0,0.0,0.0,0.0,0.0,0.0,0.0,0.0,0.0,0.0,0.0,0.0,0.0,0.0,0.0,0.0,0.0,0.0,0.0,0.0,0.0,0.0,0.0,0.0,0.0,0.0,0.0,0.0,0.0,0.0,0.0,0.0,0.0,0.0,0.0,0.0,0.0,0.0,0.0,0.0,0.0,0.0,0.0,0.0,0.0,0.0,0.0,0.0,0.0,0.0,0.0,0.0,0.0,0.0,0.0,0.0,0.0,0.0,0.0,0.0,0.0,0.0,0.0,0.0,0.0,0.0,0.0,0.0,0.0,0.0,0.0,0.0,0.0,0.0,0.0,0.0,0.0,0.0,0.0,0.0,0.0,0.0,0.0,0.0,0.0,0.0,0.0,0.0,0.0,0.0,0.0,0.0,0.0,0.0,0.0,0.0,0.0,0.0,0.0,0.0,0.0,0.0,0.0,0.0,0.0,0.0,0.0,0.0,0.0,0.0,0.0,0.0,0.0,0.0,0.0,0.0,0.0,0.0,0.0,0.0,0.0,0.0,0.0,0.0,0.0,0.0,0.0,0.0,0.0,0.0,0.0,0.0,0.0,0.0,0.0,0.0,0.0,0.0,0.0,0.0,0.0,0.0,0.0,0.0,0.0,0.0,0.0,0.0,0.0,0.0,0.0,0.0,0.0,0.0,0.0,0.0,0.0,0.0,0.0,0.0,0.0,0.0,0.0,0.0,0.0,0.0,0.0,0.0,0.0,0.0,0.0,0.0,0.0,0.0,0.0,0.0,0.0,0.0,0.0,0.0,0.0,0.0,0.0,0.0,0.0,0.0,0.0,0.0,0.0,0.0,0.0,0.0,0.0,0.0,0.0,0.0,0.0,0.0,0.0,0.0,0.0,0.0,0.0,0.0,0.0,0.0,0.0,0.0,0.0,0.0,0.0,0.0,0.0,0.0,0.0,0.0,0.0,0.0,0.0,0.0,0.0,0.0,0.0,0.0,0.0,0.0,0.0,0.0,0.0,0.0,0.0,0.0,0.0,0.0,0.0,0.0,0.0,0.0,0.0,0.0,0.0,0.0,0.0,0.0,0.0,0.0,0.0,0.0,0.0,0.0,0.0,0.0,0.0,0.0,0.0,0.0,0.0,0.0,0.0,0.0,0.0,0.0,0.0,0.0,0.0,0.0,0.0,0.0,0.0,0.0,0.0,0.0,0.0,0.0,0.0,0.0,0.0,0.0,0.0,0.0,0.0,0.0,0.0,0.0,0.0,0.0,0.0,0.0,0.0,0.0,0.0,0.0,0.0,0.0,0.0,0.0,0.0,0.0,0.0,0.0,0.0,0.0,0.0,0.0,0.0,0.0,0.0,0.0,0.0,0.0,0.0,0.0,0.0,0.0,0.0,0.0,0.0,0.0,0.0,0.0,0.0,0.0,0.0,0.0,0.0,0.0,0.0,0.0,0.0,0.0,0.0,0.0,0.0,0.0,0.0,0.0,0.0,0.0,0.0,0.0,0.0,0.0,0.0,0.0,0.0,0.0,0.0,0.0,0.0,0.0,0.0,0.0,0.0,0.0,0.0,0.0,0.0,0.0,0.0,0.0,0.0,0.0,0.0,0.0,0.0,0.0,0.0,0.0,0.0,0.0,0.0,0.0,0.0,0.0,0.0,0.0,0.0,0.0,0.0,0.0,0.0,0.0,0.0,0.0,0.0,0.0,0.0,0.0,0.0,0.0,0.0,0.0,0.0,0.0,0.0,0.0,0.0,0.0,0.0,0.0,0.0,0.0,0.0,0.0,0.0,0.0,0.0,0.0,0.0,0.0,0.0,0.0,0.0,0.0,0.0,0.0,0.0,0.0,0.0,0.0,0.0,0.0,0.0,0.0,0.0,0.0,0.0,0.0,0.0,0.0,0.0,0.0,0.0,0.0,0.0,0.0,0.0,0.0,0.0,0.0,0.0,0.0,0.0,0.0,0.0,0.0,0.0,0.0,0.0,0.0,0.0,0.0,0.0,0.0,0.0,0.0,0.0,0.0,0.0,0.0,0.0,0.0,0.0,0.0,0.0,0.0,0.0,0.0,0.0,0.0,0.0,0.0,0.0,0.0,0.0,0.0,0.0,0.0,0.0,0.0,0.0,0.0,0.0,0.0,0.0,0.0,0.0,0.0,0.0,0.0,0.0,0.0,0.0,0.0,0.0,0.0,0.0,0.0,0.0,0.0,0.0,0.0,0.0,0.0,0.0,0.0,0.0,0.0,0.0,0.0,0.0,0.0,0.0,0.0,0.0,0.0,0.0,0.0,0.0,0.0,0.0,0.0,0.0,0.0,0.0,0.0,0.0,0.0,0.0,0.0,0.0,0.0,0.0,0.0,0.0,0.0,0.0,0.0,0.0,0.0,0.0,0.0,0.0,0.0,0.0,0.0,0.0,0.0,0.0,0.0,0.0,0.0,0.0,0.0,0.0,0.0,0.0,0.0,0.0,0.0,0.0,0.0,0.0,0.0,0.0,0.0,0.0,0.0,0.0,0.0,0.0,0.0,0.0,0.0,0.0,0.0,0.0,0.0,0.0,0.0,0.0,0.0,0.0,0.0,0.0,0.0,0.0,0.0,0.0,0.0,0.0,0.0,0.0,0.0,0.0,0.0,0.0,0.0,0.0,0.0,0.0,0.0,0.0,0.0,0.0,0.0,0.0,0.0,0.0,0.0,0.0,0.0,0.0,0.0,0.0,0.0,0.0,0.0,0.0,0.0,0.0,0.0,0.0,0.0,0.0,0.0,0.0,0.0,0.0,0.0,0.0,0.0,0.0,0.0,0.0,0.0,0.0,0.0,0.0,0.0,0.0,0.0,0.0,0.0,0.0,0.0,0.0,0.0,0.0,0.0,0.0,0.0,0.0,0.0,0.0,0.0,0.0,0.0,0.0,0.0,0.0,0.0,0.0,0.0,0.0,0.0,0.0,0.0,0.0,0.0,0.0,0.0,0.0,0.0,0.0,0.0,0.0,0.0,0.0,0.0,0.0,0.0,0.0,0.0,0.0,0.0,0.0,0.0,0.0,0.0,0.0,0.0,0.0,0.0,0.0,0.0,0.0,0.0,0.0,0.0,0.0,0.0,0.0,0.0,0.0,0.0,0.0,0.0,0.0,0.0,0.0,0.0,0.0,0.0,0.0,0.0,0.0,0.0]}],                        {\"template\":{\"data\":{\"barpolar\":[{\"marker\":{\"line\":{\"color\":\"#E5ECF6\",\"width\":0.5},\"pattern\":{\"fillmode\":\"overlay\",\"size\":10,\"solidity\":0.2}},\"type\":\"barpolar\"}],\"bar\":[{\"error_x\":{\"color\":\"#2a3f5f\"},\"error_y\":{\"color\":\"#2a3f5f\"},\"marker\":{\"line\":{\"color\":\"#E5ECF6\",\"width\":0.5},\"pattern\":{\"fillmode\":\"overlay\",\"size\":10,\"solidity\":0.2}},\"type\":\"bar\"}],\"carpet\":[{\"aaxis\":{\"endlinecolor\":\"#2a3f5f\",\"gridcolor\":\"white\",\"linecolor\":\"white\",\"minorgridcolor\":\"white\",\"startlinecolor\":\"#2a3f5f\"},\"baxis\":{\"endlinecolor\":\"#2a3f5f\",\"gridcolor\":\"white\",\"linecolor\":\"white\",\"minorgridcolor\":\"white\",\"startlinecolor\":\"#2a3f5f\"},\"type\":\"carpet\"}],\"choropleth\":[{\"colorbar\":{\"outlinewidth\":0,\"ticks\":\"\"},\"type\":\"choropleth\"}],\"contourcarpet\":[{\"colorbar\":{\"outlinewidth\":0,\"ticks\":\"\"},\"type\":\"contourcarpet\"}],\"contour\":[{\"colorbar\":{\"outlinewidth\":0,\"ticks\":\"\"},\"colorscale\":[[0.0,\"#0d0887\"],[0.1111111111111111,\"#46039f\"],[0.2222222222222222,\"#7201a8\"],[0.3333333333333333,\"#9c179e\"],[0.4444444444444444,\"#bd3786\"],[0.5555555555555556,\"#d8576b\"],[0.6666666666666666,\"#ed7953\"],[0.7777777777777778,\"#fb9f3a\"],[0.8888888888888888,\"#fdca26\"],[1.0,\"#f0f921\"]],\"type\":\"contour\"}],\"heatmapgl\":[{\"colorbar\":{\"outlinewidth\":0,\"ticks\":\"\"},\"colorscale\":[[0.0,\"#0d0887\"],[0.1111111111111111,\"#46039f\"],[0.2222222222222222,\"#7201a8\"],[0.3333333333333333,\"#9c179e\"],[0.4444444444444444,\"#bd3786\"],[0.5555555555555556,\"#d8576b\"],[0.6666666666666666,\"#ed7953\"],[0.7777777777777778,\"#fb9f3a\"],[0.8888888888888888,\"#fdca26\"],[1.0,\"#f0f921\"]],\"type\":\"heatmapgl\"}],\"heatmap\":[{\"colorbar\":{\"outlinewidth\":0,\"ticks\":\"\"},\"colorscale\":[[0.0,\"#0d0887\"],[0.1111111111111111,\"#46039f\"],[0.2222222222222222,\"#7201a8\"],[0.3333333333333333,\"#9c179e\"],[0.4444444444444444,\"#bd3786\"],[0.5555555555555556,\"#d8576b\"],[0.6666666666666666,\"#ed7953\"],[0.7777777777777778,\"#fb9f3a\"],[0.8888888888888888,\"#fdca26\"],[1.0,\"#f0f921\"]],\"type\":\"heatmap\"}],\"histogram2dcontour\":[{\"colorbar\":{\"outlinewidth\":0,\"ticks\":\"\"},\"colorscale\":[[0.0,\"#0d0887\"],[0.1111111111111111,\"#46039f\"],[0.2222222222222222,\"#7201a8\"],[0.3333333333333333,\"#9c179e\"],[0.4444444444444444,\"#bd3786\"],[0.5555555555555556,\"#d8576b\"],[0.6666666666666666,\"#ed7953\"],[0.7777777777777778,\"#fb9f3a\"],[0.8888888888888888,\"#fdca26\"],[1.0,\"#f0f921\"]],\"type\":\"histogram2dcontour\"}],\"histogram2d\":[{\"colorbar\":{\"outlinewidth\":0,\"ticks\":\"\"},\"colorscale\":[[0.0,\"#0d0887\"],[0.1111111111111111,\"#46039f\"],[0.2222222222222222,\"#7201a8\"],[0.3333333333333333,\"#9c179e\"],[0.4444444444444444,\"#bd3786\"],[0.5555555555555556,\"#d8576b\"],[0.6666666666666666,\"#ed7953\"],[0.7777777777777778,\"#fb9f3a\"],[0.8888888888888888,\"#fdca26\"],[1.0,\"#f0f921\"]],\"type\":\"histogram2d\"}],\"histogram\":[{\"marker\":{\"pattern\":{\"fillmode\":\"overlay\",\"size\":10,\"solidity\":0.2}},\"type\":\"histogram\"}],\"mesh3d\":[{\"colorbar\":{\"outlinewidth\":0,\"ticks\":\"\"},\"type\":\"mesh3d\"}],\"parcoords\":[{\"line\":{\"colorbar\":{\"outlinewidth\":0,\"ticks\":\"\"}},\"type\":\"parcoords\"}],\"pie\":[{\"automargin\":true,\"type\":\"pie\"}],\"scatter3d\":[{\"line\":{\"colorbar\":{\"outlinewidth\":0,\"ticks\":\"\"}},\"marker\":{\"colorbar\":{\"outlinewidth\":0,\"ticks\":\"\"}},\"type\":\"scatter3d\"}],\"scattercarpet\":[{\"marker\":{\"colorbar\":{\"outlinewidth\":0,\"ticks\":\"\"}},\"type\":\"scattercarpet\"}],\"scattergeo\":[{\"marker\":{\"colorbar\":{\"outlinewidth\":0,\"ticks\":\"\"}},\"type\":\"scattergeo\"}],\"scattergl\":[{\"marker\":{\"colorbar\":{\"outlinewidth\":0,\"ticks\":\"\"}},\"type\":\"scattergl\"}],\"scattermapbox\":[{\"marker\":{\"colorbar\":{\"outlinewidth\":0,\"ticks\":\"\"}},\"type\":\"scattermapbox\"}],\"scatterpolargl\":[{\"marker\":{\"colorbar\":{\"outlinewidth\":0,\"ticks\":\"\"}},\"type\":\"scatterpolargl\"}],\"scatterpolar\":[{\"marker\":{\"colorbar\":{\"outlinewidth\":0,\"ticks\":\"\"}},\"type\":\"scatterpolar\"}],\"scatter\":[{\"fillpattern\":{\"fillmode\":\"overlay\",\"size\":10,\"solidity\":0.2},\"type\":\"scatter\"}],\"scatterternary\":[{\"marker\":{\"colorbar\":{\"outlinewidth\":0,\"ticks\":\"\"}},\"type\":\"scatterternary\"}],\"surface\":[{\"colorbar\":{\"outlinewidth\":0,\"ticks\":\"\"},\"colorscale\":[[0.0,\"#0d0887\"],[0.1111111111111111,\"#46039f\"],[0.2222222222222222,\"#7201a8\"],[0.3333333333333333,\"#9c179e\"],[0.4444444444444444,\"#bd3786\"],[0.5555555555555556,\"#d8576b\"],[0.6666666666666666,\"#ed7953\"],[0.7777777777777778,\"#fb9f3a\"],[0.8888888888888888,\"#fdca26\"],[1.0,\"#f0f921\"]],\"type\":\"surface\"}],\"table\":[{\"cells\":{\"fill\":{\"color\":\"#EBF0F8\"},\"line\":{\"color\":\"white\"}},\"header\":{\"fill\":{\"color\":\"#C8D4E3\"},\"line\":{\"color\":\"white\"}},\"type\":\"table\"}]},\"layout\":{\"annotationdefaults\":{\"arrowcolor\":\"#2a3f5f\",\"arrowhead\":0,\"arrowwidth\":1},\"autotypenumbers\":\"strict\",\"coloraxis\":{\"colorbar\":{\"outlinewidth\":0,\"ticks\":\"\"}},\"colorscale\":{\"diverging\":[[0,\"#8e0152\"],[0.1,\"#c51b7d\"],[0.2,\"#de77ae\"],[0.3,\"#f1b6da\"],[0.4,\"#fde0ef\"],[0.5,\"#f7f7f7\"],[0.6,\"#e6f5d0\"],[0.7,\"#b8e186\"],[0.8,\"#7fbc41\"],[0.9,\"#4d9221\"],[1,\"#276419\"]],\"sequential\":[[0.0,\"#0d0887\"],[0.1111111111111111,\"#46039f\"],[0.2222222222222222,\"#7201a8\"],[0.3333333333333333,\"#9c179e\"],[0.4444444444444444,\"#bd3786\"],[0.5555555555555556,\"#d8576b\"],[0.6666666666666666,\"#ed7953\"],[0.7777777777777778,\"#fb9f3a\"],[0.8888888888888888,\"#fdca26\"],[1.0,\"#f0f921\"]],\"sequentialminus\":[[0.0,\"#0d0887\"],[0.1111111111111111,\"#46039f\"],[0.2222222222222222,\"#7201a8\"],[0.3333333333333333,\"#9c179e\"],[0.4444444444444444,\"#bd3786\"],[0.5555555555555556,\"#d8576b\"],[0.6666666666666666,\"#ed7953\"],[0.7777777777777778,\"#fb9f3a\"],[0.8888888888888888,\"#fdca26\"],[1.0,\"#f0f921\"]]},\"colorway\":[\"#636efa\",\"#EF553B\",\"#00cc96\",\"#ab63fa\",\"#FFA15A\",\"#19d3f3\",\"#FF6692\",\"#B6E880\",\"#FF97FF\",\"#FECB52\"],\"font\":{\"color\":\"#2a3f5f\"},\"geo\":{\"bgcolor\":\"white\",\"lakecolor\":\"white\",\"landcolor\":\"#E5ECF6\",\"showlakes\":true,\"showland\":true,\"subunitcolor\":\"white\"},\"hoverlabel\":{\"align\":\"left\"},\"hovermode\":\"closest\",\"mapbox\":{\"style\":\"light\"},\"paper_bgcolor\":\"white\",\"plot_bgcolor\":\"#E5ECF6\",\"polar\":{\"angularaxis\":{\"gridcolor\":\"white\",\"linecolor\":\"white\",\"ticks\":\"\"},\"bgcolor\":\"#E5ECF6\",\"radialaxis\":{\"gridcolor\":\"white\",\"linecolor\":\"white\",\"ticks\":\"\"}},\"scene\":{\"xaxis\":{\"backgroundcolor\":\"#E5ECF6\",\"gridcolor\":\"white\",\"gridwidth\":2,\"linecolor\":\"white\",\"showbackground\":true,\"ticks\":\"\",\"zerolinecolor\":\"white\"},\"yaxis\":{\"backgroundcolor\":\"#E5ECF6\",\"gridcolor\":\"white\",\"gridwidth\":2,\"linecolor\":\"white\",\"showbackground\":true,\"ticks\":\"\",\"zerolinecolor\":\"white\"},\"zaxis\":{\"backgroundcolor\":\"#E5ECF6\",\"gridcolor\":\"white\",\"gridwidth\":2,\"linecolor\":\"white\",\"showbackground\":true,\"ticks\":\"\",\"zerolinecolor\":\"white\"}},\"shapedefaults\":{\"line\":{\"color\":\"#2a3f5f\"}},\"ternary\":{\"aaxis\":{\"gridcolor\":\"white\",\"linecolor\":\"white\",\"ticks\":\"\"},\"baxis\":{\"gridcolor\":\"white\",\"linecolor\":\"white\",\"ticks\":\"\"},\"bgcolor\":\"#E5ECF6\",\"caxis\":{\"gridcolor\":\"white\",\"linecolor\":\"white\",\"ticks\":\"\"}},\"title\":{\"x\":0.05},\"xaxis\":{\"automargin\":true,\"gridcolor\":\"white\",\"linecolor\":\"white\",\"ticks\":\"\",\"title\":{\"standoff\":15},\"zerolinecolor\":\"white\",\"zerolinewidth\":2},\"yaxis\":{\"automargin\":true,\"gridcolor\":\"white\",\"linecolor\":\"white\",\"ticks\":\"\",\"title\":{\"standoff\":15},\"zerolinecolor\":\"white\",\"zerolinewidth\":2}}},\"xaxis\":{\"range\":[-60,60],\"title\":{\"text\":\"X\"}},\"yaxis\":{\"range\":[-60,60],\"title\":{\"text\":\"Y\"}},\"width\":500,\"height\":500,\"showlegend\":false,\"title\":{\"text\":\"Hits in the Central Drift Chamber\"},\"shapes\":[{\"line\":{\"color\":\"black\"},\"type\":\"circle\",\"x0\":-10.5,\"x1\":10.5,\"xref\":\"x\",\"y0\":-10.5,\"y1\":10.5,\"yref\":\"y\"},{\"line\":{\"color\":\"black\"},\"type\":\"circle\",\"x0\":-55,\"x1\":55,\"xref\":\"x\",\"y0\":-55,\"y1\":55,\"yref\":\"y\"}]},                        {\"responsive\": true}                    ).then(function(){\n                            \nvar gd = document.getElementById('e81d253b-3d97-4f96-a235-030712b12702');\nvar x = new MutationObserver(function (mutations, observer) {{\n        var display = window.getComputedStyle(gd).display;\n        if (!display || display === 'none') {{\n            console.log([gd, 'removed!']);\n            Plotly.purge(gd);\n            observer.disconnect();\n        }}\n}});\n\n// Listen for the removal of the full notebook cells\nvar notebookContainer = gd.closest('#notebook-container');\nif (notebookContainer) {{\n    x.observe(notebookContainer, {childList: true});\n}}\n\n// Listen for the clearing of the current output cell\nvar outputEl = gd.closest('.output');\nif (outputEl) {{\n    x.observe(outputEl, {childList: true});\n}}\n\n                        })                };                            </script>        </div>\n</body>\n</html>"
                },
                "metadata": {}
              }
            ]
          }
        },
        "12caa73e7d2e4bcba17b324166b36d1b": {
          "model_module": "@jupyter-widgets/base",
          "model_name": "LayoutModel",
          "model_module_version": "1.2.0",
          "state": {
            "_model_module": "@jupyter-widgets/base",
            "_model_module_version": "1.2.0",
            "_model_name": "LayoutModel",
            "_view_count": null,
            "_view_module": "@jupyter-widgets/base",
            "_view_module_version": "1.2.0",
            "_view_name": "LayoutView",
            "align_content": null,
            "align_items": null,
            "align_self": null,
            "border": null,
            "bottom": null,
            "display": null,
            "flex": null,
            "flex_flow": null,
            "grid_area": null,
            "grid_auto_columns": null,
            "grid_auto_flow": null,
            "grid_auto_rows": null,
            "grid_column": null,
            "grid_gap": null,
            "grid_row": null,
            "grid_template_areas": null,
            "grid_template_columns": null,
            "grid_template_rows": null,
            "height": null,
            "justify_content": null,
            "justify_items": null,
            "left": null,
            "margin": null,
            "max_height": null,
            "max_width": null,
            "min_height": null,
            "min_width": null,
            "object_fit": null,
            "object_position": null,
            "order": null,
            "overflow": null,
            "overflow_x": null,
            "overflow_y": null,
            "padding": null,
            "right": null,
            "top": null,
            "visibility": null,
            "width": null
          }
        },
        "5c0e925e1c5a481fba90d9e67f187230": {
          "model_module": "@jupyter-widgets/controls",
          "model_name": "FloatSliderModel",
          "model_module_version": "1.5.0",
          "state": {
            "_dom_classes": [],
            "_model_module": "@jupyter-widgets/controls",
            "_model_module_version": "1.5.0",
            "_model_name": "FloatSliderModel",
            "_view_count": null,
            "_view_module": "@jupyter-widgets/controls",
            "_view_module_version": "1.5.0",
            "_view_name": "FloatSliderView",
            "continuous_update": true,
            "description": "z0",
            "description_tooltip": null,
            "disabled": false,
            "layout": "IPY_MODEL_402e240fda6b4df4823b2342e068dcf9",
            "max": 175,
            "min": 0,
            "orientation": "horizontal",
            "readout": true,
            "readout_format": ".2f",
            "step": 0.1,
            "style": "IPY_MODEL_6c6a28697ce44d47aecd5385252ab549",
            "value": 121.4
          }
        },
        "03e8fcf7954c4ccaaa6a3e40ce517805": {
          "model_module": "@jupyter-widgets/controls",
          "model_name": "FloatSliderModel",
          "model_module_version": "1.5.0",
          "state": {
            "_dom_classes": [],
            "_model_module": "@jupyter-widgets/controls",
            "_model_module_version": "1.5.0",
            "_model_name": "FloatSliderModel",
            "_view_count": null,
            "_view_module": "@jupyter-widgets/controls",
            "_view_module_version": "1.5.0",
            "_view_name": "FloatSliderView",
            "continuous_update": true,
            "description": "px",
            "description_tooltip": null,
            "disabled": false,
            "layout": "IPY_MODEL_4593f62df4534ff69a76d536196b565f",
            "max": 1,
            "min": -1,
            "orientation": "horizontal",
            "readout": true,
            "readout_format": ".2f",
            "step": 0.01,
            "style": "IPY_MODEL_8bf4e8481d1d4a16b91a0fb4900fc54b",
            "value": 0
          }
        },
        "40a0c2fbf5df459e87c3d63429bcf3aa": {
          "model_module": "@jupyter-widgets/controls",
          "model_name": "FloatSliderModel",
          "model_module_version": "1.5.0",
          "state": {
            "_dom_classes": [],
            "_model_module": "@jupyter-widgets/controls",
            "_model_module_version": "1.5.0",
            "_model_name": "FloatSliderModel",
            "_view_count": null,
            "_view_module": "@jupyter-widgets/controls",
            "_view_module_version": "1.5.0",
            "_view_name": "FloatSliderView",
            "continuous_update": true,
            "description": "py",
            "description_tooltip": null,
            "disabled": false,
            "layout": "IPY_MODEL_8e6432a542d94cbaa47102e458e8f3fd",
            "max": 1,
            "min": -1,
            "orientation": "horizontal",
            "readout": true,
            "readout_format": ".2f",
            "step": 0.01,
            "style": "IPY_MODEL_d0459334ed884c2f99e6d6335e8d3410",
            "value": 0
          }
        },
        "21d278226b6940a6b666077d2b19ccdf": {
          "model_module": "@jupyter-widgets/controls",
          "model_name": "IntSliderModel",
          "model_module_version": "1.5.0",
          "state": {
            "_dom_classes": [],
            "_model_module": "@jupyter-widgets/controls",
            "_model_module_version": "1.5.0",
            "_model_name": "IntSliderModel",
            "_view_count": null,
            "_view_module": "@jupyter-widgets/controls",
            "_view_module_version": "1.5.0",
            "_view_name": "IntSliderView",
            "continuous_update": true,
            "description": "charge",
            "description_tooltip": null,
            "disabled": false,
            "layout": "IPY_MODEL_d665642649c244ca9a74e7b06c724f4a",
            "max": 1,
            "min": -1,
            "orientation": "horizontal",
            "readout": true,
            "readout_format": "d",
            "step": 2,
            "style": "IPY_MODEL_453b25b88f0e444b8916b617a976e62f",
            "value": 1
          }
        },
        "7d6834e3a38f49c0b4b6dc2102ce1c72": {
          "model_module": "@jupyter-widgets/controls",
          "model_name": "FloatSliderModel",
          "model_module_version": "1.5.0",
          "state": {
            "_dom_classes": [],
            "_model_module": "@jupyter-widgets/controls",
            "_model_module_version": "1.5.0",
            "_model_name": "FloatSliderModel",
            "_view_count": null,
            "_view_module": "@jupyter-widgets/controls",
            "_view_module_version": "1.5.0",
            "_view_name": "FloatSliderView",
            "continuous_update": true,
            "description": "t_max",
            "description_tooltip": null,
            "disabled": false,
            "layout": "IPY_MODEL_1e4c227e62ae4d7f9e1428e10e85e871",
            "max": 6.283185307179586,
            "min": 0,
            "orientation": "horizontal",
            "readout": true,
            "readout_format": ".2f",
            "step": 0.01,
            "style": "IPY_MODEL_04eb6b412d4f473c87bd1466f53552aa",
            "value": 3.14
          }
        },
        "73fb9ac054f24eceaa72e075a94bfbb8": {
          "model_module": "@jupyter-widgets/base",
          "model_name": "LayoutModel",
          "model_module_version": "1.2.0",
          "state": {
            "_model_module": "@jupyter-widgets/base",
            "_model_module_version": "1.2.0",
            "_model_name": "LayoutModel",
            "_view_count": null,
            "_view_module": "@jupyter-widgets/base",
            "_view_module_version": "1.2.0",
            "_view_name": "LayoutView",
            "align_content": null,
            "align_items": null,
            "align_self": null,
            "border": null,
            "bottom": null,
            "display": null,
            "flex": null,
            "flex_flow": "row wrap",
            "grid_area": null,
            "grid_auto_columns": null,
            "grid_auto_flow": null,
            "grid_auto_rows": null,
            "grid_column": null,
            "grid_gap": null,
            "grid_row": null,
            "grid_template_areas": null,
            "grid_template_columns": null,
            "grid_template_rows": null,
            "height": null,
            "justify_content": null,
            "justify_items": null,
            "left": null,
            "margin": null,
            "max_height": null,
            "max_width": null,
            "min_height": null,
            "min_width": null,
            "object_fit": null,
            "object_position": null,
            "order": null,
            "overflow": null,
            "overflow_x": null,
            "overflow_y": null,
            "padding": null,
            "right": null,
            "top": null,
            "visibility": null,
            "width": null
          }
        },
        "94ec8f0e30dd401dbdebd07a2901f5ab": {
          "model_module": "@jupyter-widgets/base",
          "model_name": "LayoutModel",
          "model_module_version": "1.2.0",
          "state": {
            "_model_module": "@jupyter-widgets/base",
            "_model_module_version": "1.2.0",
            "_model_name": "LayoutModel",
            "_view_count": null,
            "_view_module": "@jupyter-widgets/base",
            "_view_module_version": "1.2.0",
            "_view_name": "LayoutView",
            "align_content": null,
            "align_items": null,
            "align_self": null,
            "border": null,
            "bottom": null,
            "display": null,
            "flex": null,
            "flex_flow": null,
            "grid_area": null,
            "grid_auto_columns": null,
            "grid_auto_flow": null,
            "grid_auto_rows": null,
            "grid_column": null,
            "grid_gap": null,
            "grid_row": null,
            "grid_template_areas": null,
            "grid_template_columns": null,
            "grid_template_rows": null,
            "height": null,
            "justify_content": null,
            "justify_items": null,
            "left": null,
            "margin": null,
            "max_height": null,
            "max_width": null,
            "min_height": null,
            "min_width": null,
            "object_fit": null,
            "object_position": null,
            "order": null,
            "overflow": null,
            "overflow_x": null,
            "overflow_y": null,
            "padding": null,
            "right": null,
            "top": null,
            "visibility": null,
            "width": null
          }
        },
        "402e240fda6b4df4823b2342e068dcf9": {
          "model_module": "@jupyter-widgets/base",
          "model_name": "LayoutModel",
          "model_module_version": "1.2.0",
          "state": {
            "_model_module": "@jupyter-widgets/base",
            "_model_module_version": "1.2.0",
            "_model_name": "LayoutModel",
            "_view_count": null,
            "_view_module": "@jupyter-widgets/base",
            "_view_module_version": "1.2.0",
            "_view_name": "LayoutView",
            "align_content": null,
            "align_items": null,
            "align_self": null,
            "border": null,
            "bottom": null,
            "display": null,
            "flex": null,
            "flex_flow": null,
            "grid_area": null,
            "grid_auto_columns": null,
            "grid_auto_flow": null,
            "grid_auto_rows": null,
            "grid_column": null,
            "grid_gap": null,
            "grid_row": null,
            "grid_template_areas": null,
            "grid_template_columns": null,
            "grid_template_rows": null,
            "height": null,
            "justify_content": null,
            "justify_items": null,
            "left": null,
            "margin": null,
            "max_height": null,
            "max_width": null,
            "min_height": null,
            "min_width": null,
            "object_fit": null,
            "object_position": null,
            "order": null,
            "overflow": null,
            "overflow_x": null,
            "overflow_y": null,
            "padding": null,
            "right": null,
            "top": null,
            "visibility": null,
            "width": null
          }
        },
        "6c6a28697ce44d47aecd5385252ab549": {
          "model_module": "@jupyter-widgets/controls",
          "model_name": "SliderStyleModel",
          "model_module_version": "1.5.0",
          "state": {
            "_model_module": "@jupyter-widgets/controls",
            "_model_module_version": "1.5.0",
            "_model_name": "SliderStyleModel",
            "_view_count": null,
            "_view_module": "@jupyter-widgets/base",
            "_view_module_version": "1.2.0",
            "_view_name": "StyleView",
            "description_width": "",
            "handle_color": null
          }
        },
        "4593f62df4534ff69a76d536196b565f": {
          "model_module": "@jupyter-widgets/base",
          "model_name": "LayoutModel",
          "model_module_version": "1.2.0",
          "state": {
            "_model_module": "@jupyter-widgets/base",
            "_model_module_version": "1.2.0",
            "_model_name": "LayoutModel",
            "_view_count": null,
            "_view_module": "@jupyter-widgets/base",
            "_view_module_version": "1.2.0",
            "_view_name": "LayoutView",
            "align_content": null,
            "align_items": null,
            "align_self": null,
            "border": null,
            "bottom": null,
            "display": null,
            "flex": null,
            "flex_flow": null,
            "grid_area": null,
            "grid_auto_columns": null,
            "grid_auto_flow": null,
            "grid_auto_rows": null,
            "grid_column": null,
            "grid_gap": null,
            "grid_row": null,
            "grid_template_areas": null,
            "grid_template_columns": null,
            "grid_template_rows": null,
            "height": null,
            "justify_content": null,
            "justify_items": null,
            "left": null,
            "margin": null,
            "max_height": null,
            "max_width": null,
            "min_height": null,
            "min_width": null,
            "object_fit": null,
            "object_position": null,
            "order": null,
            "overflow": null,
            "overflow_x": null,
            "overflow_y": null,
            "padding": null,
            "right": null,
            "top": null,
            "visibility": null,
            "width": null
          }
        },
        "8bf4e8481d1d4a16b91a0fb4900fc54b": {
          "model_module": "@jupyter-widgets/controls",
          "model_name": "SliderStyleModel",
          "model_module_version": "1.5.0",
          "state": {
            "_model_module": "@jupyter-widgets/controls",
            "_model_module_version": "1.5.0",
            "_model_name": "SliderStyleModel",
            "_view_count": null,
            "_view_module": "@jupyter-widgets/base",
            "_view_module_version": "1.2.0",
            "_view_name": "StyleView",
            "description_width": "",
            "handle_color": null
          }
        },
        "8e6432a542d94cbaa47102e458e8f3fd": {
          "model_module": "@jupyter-widgets/base",
          "model_name": "LayoutModel",
          "model_module_version": "1.2.0",
          "state": {
            "_model_module": "@jupyter-widgets/base",
            "_model_module_version": "1.2.0",
            "_model_name": "LayoutModel",
            "_view_count": null,
            "_view_module": "@jupyter-widgets/base",
            "_view_module_version": "1.2.0",
            "_view_name": "LayoutView",
            "align_content": null,
            "align_items": null,
            "align_self": null,
            "border": null,
            "bottom": null,
            "display": null,
            "flex": null,
            "flex_flow": null,
            "grid_area": null,
            "grid_auto_columns": null,
            "grid_auto_flow": null,
            "grid_auto_rows": null,
            "grid_column": null,
            "grid_gap": null,
            "grid_row": null,
            "grid_template_areas": null,
            "grid_template_columns": null,
            "grid_template_rows": null,
            "height": null,
            "justify_content": null,
            "justify_items": null,
            "left": null,
            "margin": null,
            "max_height": null,
            "max_width": null,
            "min_height": null,
            "min_width": null,
            "object_fit": null,
            "object_position": null,
            "order": null,
            "overflow": null,
            "overflow_x": null,
            "overflow_y": null,
            "padding": null,
            "right": null,
            "top": null,
            "visibility": null,
            "width": null
          }
        },
        "d0459334ed884c2f99e6d6335e8d3410": {
          "model_module": "@jupyter-widgets/controls",
          "model_name": "SliderStyleModel",
          "model_module_version": "1.5.0",
          "state": {
            "_model_module": "@jupyter-widgets/controls",
            "_model_module_version": "1.5.0",
            "_model_name": "SliderStyleModel",
            "_view_count": null,
            "_view_module": "@jupyter-widgets/base",
            "_view_module_version": "1.2.0",
            "_view_name": "StyleView",
            "description_width": "",
            "handle_color": null
          }
        },
        "d665642649c244ca9a74e7b06c724f4a": {
          "model_module": "@jupyter-widgets/base",
          "model_name": "LayoutModel",
          "model_module_version": "1.2.0",
          "state": {
            "_model_module": "@jupyter-widgets/base",
            "_model_module_version": "1.2.0",
            "_model_name": "LayoutModel",
            "_view_count": null,
            "_view_module": "@jupyter-widgets/base",
            "_view_module_version": "1.2.0",
            "_view_name": "LayoutView",
            "align_content": null,
            "align_items": null,
            "align_self": null,
            "border": null,
            "bottom": null,
            "display": null,
            "flex": null,
            "flex_flow": null,
            "grid_area": null,
            "grid_auto_columns": null,
            "grid_auto_flow": null,
            "grid_auto_rows": null,
            "grid_column": null,
            "grid_gap": null,
            "grid_row": null,
            "grid_template_areas": null,
            "grid_template_columns": null,
            "grid_template_rows": null,
            "height": null,
            "justify_content": null,
            "justify_items": null,
            "left": null,
            "margin": null,
            "max_height": null,
            "max_width": null,
            "min_height": null,
            "min_width": null,
            "object_fit": null,
            "object_position": null,
            "order": null,
            "overflow": null,
            "overflow_x": null,
            "overflow_y": null,
            "padding": null,
            "right": null,
            "top": null,
            "visibility": null,
            "width": null
          }
        },
        "453b25b88f0e444b8916b617a976e62f": {
          "model_module": "@jupyter-widgets/controls",
          "model_name": "SliderStyleModel",
          "model_module_version": "1.5.0",
          "state": {
            "_model_module": "@jupyter-widgets/controls",
            "_model_module_version": "1.5.0",
            "_model_name": "SliderStyleModel",
            "_view_count": null,
            "_view_module": "@jupyter-widgets/base",
            "_view_module_version": "1.2.0",
            "_view_name": "StyleView",
            "description_width": "",
            "handle_color": null
          }
        },
        "1e4c227e62ae4d7f9e1428e10e85e871": {
          "model_module": "@jupyter-widgets/base",
          "model_name": "LayoutModel",
          "model_module_version": "1.2.0",
          "state": {
            "_model_module": "@jupyter-widgets/base",
            "_model_module_version": "1.2.0",
            "_model_name": "LayoutModel",
            "_view_count": null,
            "_view_module": "@jupyter-widgets/base",
            "_view_module_version": "1.2.0",
            "_view_name": "LayoutView",
            "align_content": null,
            "align_items": null,
            "align_self": null,
            "border": null,
            "bottom": null,
            "display": null,
            "flex": null,
            "flex_flow": null,
            "grid_area": null,
            "grid_auto_columns": null,
            "grid_auto_flow": null,
            "grid_auto_rows": null,
            "grid_column": null,
            "grid_gap": null,
            "grid_row": null,
            "grid_template_areas": null,
            "grid_template_columns": null,
            "grid_template_rows": null,
            "height": null,
            "justify_content": null,
            "justify_items": null,
            "left": null,
            "margin": null,
            "max_height": null,
            "max_width": null,
            "min_height": null,
            "min_width": null,
            "object_fit": null,
            "object_position": null,
            "order": null,
            "overflow": null,
            "overflow_x": null,
            "overflow_y": null,
            "padding": null,
            "right": null,
            "top": null,
            "visibility": null,
            "width": null
          }
        },
        "04eb6b412d4f473c87bd1466f53552aa": {
          "model_module": "@jupyter-widgets/controls",
          "model_name": "SliderStyleModel",
          "model_module_version": "1.5.0",
          "state": {
            "_model_module": "@jupyter-widgets/controls",
            "_model_module_version": "1.5.0",
            "_model_name": "SliderStyleModel",
            "_view_count": null,
            "_view_module": "@jupyter-widgets/base",
            "_view_module_version": "1.2.0",
            "_view_name": "StyleView",
            "description_width": "",
            "handle_color": null
          }
        },
        "c886d08b429346e89d2d191f44c056b2": {
          "model_module": "@jupyter-widgets/controls",
          "model_name": "VBoxModel",
          "model_module_version": "1.5.0",
          "state": {
            "_dom_classes": [],
            "_model_module": "@jupyter-widgets/controls",
            "_model_module_version": "1.5.0",
            "_model_name": "VBoxModel",
            "_view_count": null,
            "_view_module": "@jupyter-widgets/controls",
            "_view_module_version": "1.5.0",
            "_view_name": "VBoxView",
            "box_style": "",
            "children": [
              "IPY_MODEL_d9be6c8c83c0478085600a551b61ffbf",
              "IPY_MODEL_67523231a1eb42b180911635a11a49c7"
            ],
            "layout": "IPY_MODEL_66a46102054749a1a21c8f75637f0d67"
          }
        },
        "d9be6c8c83c0478085600a551b61ffbf": {
          "model_module": "@jupyter-widgets/controls",
          "model_name": "HBoxModel",
          "model_module_version": "1.5.0",
          "state": {
            "_dom_classes": [],
            "_model_module": "@jupyter-widgets/controls",
            "_model_module_version": "1.5.0",
            "_model_name": "HBoxModel",
            "_view_count": null,
            "_view_module": "@jupyter-widgets/controls",
            "_view_module_version": "1.5.0",
            "_view_name": "HBoxView",
            "box_style": "",
            "children": [
              "IPY_MODEL_a2c4bf64d5e14a2abcd5cf8446a070a8",
              "IPY_MODEL_ab3bd8e5f95e45b1a2fcbe868827c730",
              "IPY_MODEL_6bae07c5d3394e1b8f994e21a01f502f",
              "IPY_MODEL_2f7a6c1be4914687886a84626834b9af"
            ],
            "layout": "IPY_MODEL_eb8063b4f943444282557b5350b14d27"
          }
        },
        "67523231a1eb42b180911635a11a49c7": {
          "model_module": "@jupyter-widgets/output",
          "model_name": "OutputModel",
          "model_module_version": "1.0.0",
          "state": {
            "_dom_classes": [],
            "_model_module": "@jupyter-widgets/output",
            "_model_module_version": "1.0.0",
            "_model_name": "OutputModel",
            "_view_count": null,
            "_view_module": "@jupyter-widgets/output",
            "_view_module_version": "1.0.0",
            "_view_name": "OutputView",
            "layout": "IPY_MODEL_0537dc87ea6e408281e5779169840558",
            "msg_id": "",
            "outputs": [
              {
                "output_type": "display_data",
                "data": {
                  "text/html": "<html>\n<head><meta charset=\"utf-8\" /></head>\n<body>\n    <div>            <script src=\"https://cdnjs.cloudflare.com/ajax/libs/mathjax/2.7.5/MathJax.js?config=TeX-AMS-MML_SVG\"></script><script type=\"text/javascript\">if (window.MathJax && window.MathJax.Hub && window.MathJax.Hub.Config) {window.MathJax.Hub.Config({SVG: {font: \"STIX-Web\"}});}</script>                <script type=\"text/javascript\">window.PlotlyConfig = {MathJaxConfig: 'local'};</script>\n        <script charset=\"utf-8\" src=\"https://cdn.plot.ly/plotly-2.24.1.min.js\"></script>                <div id=\"988db878-3d43-451f-8a97-0c56c97d7c97\" class=\"plotly-graph-div\" style=\"height:500px; width:500px;\"></div>            <script type=\"text/javascript\">                                    window.PLOTLYENV=window.PLOTLYENV || {};                                    if (document.getElementById(\"988db878-3d43-451f-8a97-0c56c97d7c97\")) {                    Plotly.newPlot(                        \"988db878-3d43-451f-8a97-0c56c97d7c97\",                        [{\"marker\":{\"color\":\"red\"},\"mode\":\"lines\",\"name\":\"track\",\"type\":\"scatter\",\"uid\":\"35730d35-f477-464f-a02b-4a19cd526eb8\",\"x\":[4.985104891046823e-15,0.2560224969327954,0.5120424619537963,0.7680573631762393,1.0240646687634882,1.2800618469539689,1.5360463660862795,1.7920156946241905,2.0479673011817523,2.303898654548222,2.559807223713167,2.815690477891456,3.0715458865483667,3.327370919424496,3.583163046560857,3.838919738323864,4.09463846543042,4.350316698972824,4.605951910443847,4.861541571761706,5.11708315529514,5.37257413388829,5.62801198088577,5.883394170157616,6.138718176124341,6.393981473781802,6.6491815387262445,6.904315847179245,7.1593818760126595,7.414377102773639,7.669299005709476,7.924145063792604,8.178912756745508,8.433599565065702,8.688202970050556,8.942720453822265,9.197149499352713,9.451487590488446,9.705732211975436,9.959880849484037,10.213930989633806,10.46788012001844,10.721725729230505,10.975465306886347,11.229096343650891,11.482616331262514,11.736022762557754,11.989313131496168,12.24248493318509,12.49553566390446,12.748462821131493,13.001263903565489,13.253936411152544,13.50647784511028,13.758885707952606,14.011157503514317,14.263290736975833,14.515282914887928,14.767131545196278,15.018834137266177,15.270388201907151,15.521791251397559,15.77304079950926,16.024134361532106,16.27506945429857,16.52584359620828,16.776454307252617,17.026899109039157,17.277175524816233,17.527281079497392,17.777213299685958,18.02696971369938,18.276547851593733,18.525945245188137,18.7751594280892,19.024187935715336,19.273028305321198,19.521678076022003,19.770134788817867,20.01839598661819,20.266459214265844,20.514322018561504,20.761981948287985,21.009436554234334,21.256683389220168,21.503720008119828,21.750543967886546,21.99715282757669,22.243544148373783,22.48971549361268,22.735664428803727,22.981388521656694,23.226885342104964,23.472152462329483,23.717187456782803,23.96198790221306,24.206551377687973,24.45087546461872,24.694957746783874,24.938795810353383,25.182387243912313,25.42572963848477,25.668820587557715,25.91165768710474,26.154238535609906,26.3965607340914,26.638621886125296,26.880419597869327,27.121951478086437,27.363215138168506,27.604208192159952,27.84492825678132,28.085372951452893,28.32553989831816,28.56542672226738,28.805031050961095,29.044350514853527,29.28338274721604,29.52212538416057,29.76057606466297,29.998732430586347,30.236592126704476,30.47415280072495,30.711412103312526,30.9483676881124,31.185017211773292,31.42135833397073,31.657388717430127,31.893106027949905,32.12850793442466,32.36359210886808,32.59835622643605,32.83279796544967,33.06691500741812,33.300705037061675,33.53416574233455,33.76729481444779,34.000089947892114,34.232548840460694,34.46466919327188,34.69644871079207,34.927885100858234,35.15897607470072,35.389719346965826,35.6201126357384,35.85015366256444,36.07984015247362,36.30916983400175,36.53814043921325,36.76674970372364,36.99499536672187,37.22287517099266,37.450386862938906,37.67752819260388,37.90429691369356,38.13069078359876,38.35670756341736,38.582345017976486,38.807600915854515,39.03247302940321,39.25695913476974,39.48105701191865,39.70476444465385,39.92807922064054,40.15099913142701,40.37352197246658,40.59564554313933,40.81736764677389,41.038686090669195,41.25959868611608,41.48010324841901,41.70019759691771,41.91987955500858,42.1391469501664,42.357997613965686,42.576429382102205,42.79444009441434,43.01202759490448,43.229189731760314,43.44592435737617,43.662229328374146,43.87810250562542,44.09354175427136,44.30854494374456,44.52310994779009,44.73723464448633,44.95091691626608,45.164154649937466,45.376945736704805,45.58928807218951,45.80117955645089,46.01261809400688,46.223601593854816,46.43412796949205,46.64419513893669,46.85380102474805,47.06294355404734,47.27162065853801,47.47983027452638,47.68757034294187,47.894838809357495,48.10163362401014,48.30795274182081,48.51379412241488,48.719155730142255,48.924035534097534,49.128431508140046,49.332341630913916,49.53576388586807,49.73869626127616,49.94113675025642,50.1430833507916,50.34453406574868,50.545486902898695,50.74593987493634,50.945890999499746,51.14533829918997,51.34427980159064,51.542713539287384,51.74063754988736,51.93804987603859,52.13494856544939,52.33133167090761,52.52719725029995,52.722543366631115,52.91736808804301,53.11166948783381,53.305445644477054,53.49869464164062,53.69141456820567,53.88360351828558,54.075259591244766,54.26638089171748,54.456965529626565,54.64701162020213,54.83651728400021,55.02548064692135,55.21389984022911,55.40177300056858,55.5890982699848,55.775873795941145,55.96209773133756,56.14776823452897,56.332883469343386,56.51744160510012,56.70144081662781,56.8848792842826,57.06775519396599,57.25006673714293,57.43181211085952,57.61298951776104,57.79359716610955,57.97363326980174,58.153096048386516,58.331983727082644,58.51029453679627,58.688026714138466,58.8651785014426,59.04174814678177,59.21773390398614,59.39313403266015,59.56794679819978,59.742170471809665,59.915803330520255,60.08884365720478,60.26128974059624,60.433139875304406,60.604392361832595,60.77504550659452,60.94509762193104,61.11454702612683,61.28339204342702,61.451631004053795,61.619262244222845,61.78628410615989,61.952694938117034,62.118493094389095,62.28367693532993,62.44824482736855,62.61219514302539,62.77552626092834,62.93823656582878,63.10032444861759,63.26178830634098,63.42262654221649,63.58283756564861,63.74241979224464,63.901371643830295,64.05969154846532,64.21737794045906,64.37442926038591,64.53084395510076,64.68662047775437,64.84175728780862,64.99625285105178,65.15010563961364,65.30331413198074,65.45587681301123,65.60779217395003,65.7590587124436,65.90967493255498,66.05963934477836,66.208950466054,66.3576068197828,66.50560693584092,66.65294935059434,66.7996326069133,66.94565525418673,67.09101584833664,67.2357129518323,67.3797451337045,67.5231109695598,67.66580904159441,67.80783793860846,67.94919625601972,68.08988259587765,68.22989556687718,68.36923378437243,68.50789587039043,68.64588045364479,68.78318616954923,68.91981166023102,69.05575557454446,69.19101656808428,69.32559330319887,69.45948444900355,69.5926886813937,69.72520468305784,69.85703114349074,69.98816675900633,70.11861023275053,70.24836027471416,70.37741560174571,70.50577493756397,70.63343701277064,70.76040056486293,70.88666433824609,71.0122270842457,71.13708756112011,71.2612445340727,71.38469677526412,71.50744306382434,71.62948218586483,71.75081293449053,71.87143410981172,71.991344518956,72.11054297608,72.22902830238117,72.34679932610932,72.46385488257842,72.58019381417787,72.69581497038415,72.81071720777206,72.92489939002613,73.03836038795177,73.1510990794865,73.26311434971103,73.37440509086028,73.48497020233434,73.5948085907093,73.70391916974819,73.81230086041158,73.91995259086839,74.02687329650635,74.13306191994262,74.2385174110342,74.3432387268884,74.44722483187303,74.5504746976267,74.65298730306905,74.75476163441074,74.85579668516354,74.95609145615028,75.0556449555147,75.1544561987313,75.25252420861504,75.34984801533103,75.44642665640414,75.54225917672842,75.63734462857668,75.73168207160977,75.82527057288588,75.91810920686986,76.01019705544226,76.10153320790846,76.19211676100765,76.28194681892187,76.37102249328467,76.45934290319008,76.54690717520126,76.63371444335905,76.71976384919071,76.80505454171828,76.88958567746698,76.97335642047365,77.05636594229495,77.13861342201558,77.22009804625637,77.30081900918236,77.38077551251074,77.45996676551874,77.53839198505152,77.61605039552978,77.6929412289576,77.76906372492985,77.8444171306399,77.91900070088687,77.99281369808321,78.0658553922618,78.13812506108327,78.20962198984314,78.2803454714789,78.35029480657691,78.41946930337943,78.48786827779142,78.55549105338727,78.62233696141756,78.68840534081558,78.75369553820394,78.81820690790106,78.88193881192743,78.94489062001207,79.00706170959862,79.06845146585161,79.12905928166249,79.18888455765565,79.24792670219432,79.30618513138643,79.36365926909042,79.4203485469209,79.47625240425428,79.53137028823431,79.58570165377759,79.63924596357887,79.69200268811645,79.74397130565738,79.79515130226262,79.84554217179215,79.8951434159099,79.94395454408878,79.99197507361546,80.0392045295952,80.08564244495643,80.13128836045556,80.1761418246813,80.2202023940593,80.2634696328565,80.30594311318535,80.34762241500813,80.38850712614109,80.4285968422585,80.46789116689666,80.50638971145786,80.5440920952141,80.58099794531104,80.61710689677155,80.65241859249932,80.68693268328249,80.72064882779702,80.7535666926101,80.78568595218337,80.81700628887631,80.84752739294922,80.87724896256633,80.90617070379882,80.9342923306277,80.96161356494662,80.98813413656467,81.013853783209,81.03877225052744,81.06288929209103,81.08620466939641,81.10871815186825,81.13042951686141,81.15133854966332,81.17144504349592,81.19074879951785,81.2092496268263,81.226947342459,81.24384177139595,81.25993274656118,81.27522010882444,81.2897037070027,81.30338339786171,81.31625904611738,81.32833052443712,81.33959771344111,81.3500605017035,81.35971878575346,81.36857247007624,81.37662146711415,81.3838656972673,81.39030508889455,81.39593957831408,81.40076910980414,81.40479363560348,81.40801311591193,81.41042751889071,81.41203682066279,81.41284100531314,81.41284006488884,81.41203399939917,81.41042281681568,81.408006533072,81.40478517206375,81.4007587656483,81.39592735364442,81.39029098383197,81.3838497119513,81.37660360170281,81.36855272474625,81.35969716070007,81.35003699714058,81.3395723296011,81.32830326157105,81.31622990449486,81.30335237777096,81.28967080875047,81.27518533273607,81.2598960929806,81.24380324068562,81.22690693499999,81.2092073430182,81.19070463977883,81.17139900826271,81.15129063939115,81.1303797320241,81.10866649295812,81.08615113692439,81.06283388658647,81.0387149725383,81.01379463330171,80.9880731153242,80.96155067297641,80.93422756854973,80.90610407225357,80.87718046221272,80.84745702446467,80.81693405295675,80.78561184954316,80.75349072398205,80.72057099393245,80.68685298495113,80.6523370304893,80.61702347188951,80.58091265838199,80.54400494708148,80.5063007029835,80.46780029896084,80.42850411575981,80.38841254199654,80.34752597415311,80.30584481657361,80.26336948146013,80.22010038886874,80.17603796670532,80.13118265072126,80.08553488450924,80.0390951194988,79.99186381495186,79.94384143795826,79.89502846343099,79.84542537410168,79.79503266051566,79.74385082102721,79.69188036179462,79.63912179677509,79.5855756477198,79.53124244416865,79.47612272344503,79.42021703065055,79.36352591865958,79.30604994811384,79.24778968741688,79.18874571272836,79.12891860795845,79.06830896476198,79.00691738253266,78.94474446839708,78.8817908372088,78.81805711154213,78.75354392168613,78.68825190563827,78.62218170909814,78.55533398546112,78.48770939581183,78.41930860891765,78.3501323012221,78.28018115683815,78.20945586754144,78.13795713276346,78.06568565958459,77.99264216272717,77.91882736454836,77.84424199503313,77.76888679178681,77.69276250002804,77.61586987258124,77.53820966986927,77.45978265990576,77.38058961828771,77.30063132818769,77.21990858034611,77.13842217306343,77.05617291219225,76.97316161112936,76.88938909080764,76.80485617968802,76.71956371375123,76.63351253648955,76.54670349889847,76.45913745946827,76.37081528417553,76.28173784647458,76.19190602728887,76.10132071500217,76.00998280544991,75.91789320191026,75.82505281509518,75.73146256314145,75.63712337160159,75.54203617343464,75.44620190899704,75.34962152603325,75.25229597966639,75.15422623238884,75.05541325405267,74.95585802186007,74.85556152035369,74.75452474140687,74.6527486842139,74.55023435528008,74.44698276841177,74.34299494470638,74.23827191254227,74.13281470756863,74.02662437269505,73.91970195808155,73.81204852112778,73.7036651264629,73.59455284593486,73.48471275859991,73.37414595071186,73.26285351571136,73.15083655421503,73.03809617400475,72.9246334900165,72.81044962432941,72.6955457061547,72.5799228718245,72.46358226478057,72.34652503556305,72.22875234179901,72.11026534819106,71.99106522650588,71.87115315556244,71.75053032122055,71.62919791636905,71.507157140914,71.38440920176684,71.26095531283242,71.13679669499703,71.01193457611635,70.88637019100318,70.76010478141542,70.63313959604362,70.50547589049874,70.37711492729967,70.2480579758608,70.11830631247939,69.98786122032303,69.8567239894169,69.724895916631,69.59237830566735,69.45917246704717,69.32527971809776,69.19070138293961,69.05543879247323,68.919493284366,68.78286620303902,68.64555889965365,68.50757273209831,68.36890906497499,68.2295692695857,68.08955472391904,67.94886681263641,67.80750692705847,67.66547646515127,67.52277683151246,67.37940943735741,67.23537570050527,67.09067704536493,66.94531490292088,66.79929071071918,66.65260591285309,66.50526195994895,66.35726030915175,66.20860242411062,66.0592897749646,65.90932383832785,65.75870609727525,65.60743804132757,65.45552116643687,65.30295697497158,65.1497469757018,64.99589268378419,64.84139562074714,64.68625731447568,64.53047929919632,64.37406311546194,64.21701031013653,64.05932243637987,63.901001053632264,63.742047727598916,63.582464030234696,63.42225153972842,63.261411840487334,63.09994652312136,62.93785718442746,62.775145427373765,62.611812861083784,62.44786110082048,62.2832917679702,62.118106490026804,61.95230690057545,61.785894639276485,61.61887135184921,61.451238690055625,61.28299831168409,61.114151880532916,60.94470106639388,60.77464754503582,60.603992998187955,60.432739113523304,60.26088758464197,60.08844011105442,59.91539839816465,59.741764157253385,59.567539105460995,59.39272496577072,59.21732346699148,59.04133634374087,58.86476533642794,58.68761219123603,58.509878660105436,58.33156650071617,58.152677476470565,57.97321335647571,57.79317591552614,57.61256693408616,57.431388198272295,57.24964149983558,57.067328636143884,56.884451410164125,56.70101163044443,56.517011111096195,56.33245167177626,56.14733513766886,55.96166333946754,55.7754381133571,55.58866130099538,55.40133474949514,55.213460311405726,55.02503984469467,54.83607521272952,54.646568284259246,54.45652093339582,54.265935039595675,54.07481248764111,53.883155167621666,53.690964974915424,53.49824381017027,53.304993579285046,53.11121619339079,52.9169135688318,52.72208762714664,52.52674029504921,52.330873504409624,52.13448919223515,51.93758930065106,51.74017577688132,51.54225057322951,51.34381564705939,51.14487296077556,50.945424481804096,50.74547218257303,50.545018040492934,50.34406403793727,50.142612162222804,49.940664405590034,49.73822276518338,49.5352892430315,49.33186584602748,49.12795458590899,48.92355747923833,48.71867654738259,48.51331381649362,48.30747131748787,48.10115108602652,47.8943551624952,47.6870855919839,47.47934442426663,47.27113371378127,47.06245551960917,46.853311905454895,46.643704939625586,46.433636695010804,46.22310924906182,46.012124683771155,45.80068508565197,45.58879254571741,45.376449159459995,45.16365702683083,44.9504182522188,44.736734944429884,44.522609216666226,44.308043186505216,44.0930389758786,43.87759871105146,43.6617245226012,43.44541854539647,43.22868291857608,43.011519785527746,42.793931293867054,42.57591959541611,42.357486846182276,42.138635206336865,41.91936684019376,41.69968391618804,41.47958860685455,41.259083088806264,41.03816954271299,40.816850153279674,40.59512710922479,40.373002603258726,40.150478832062106,39.92755799626403,39.704242300420375,39.480533952991856,39.25643516632239,39.03194815661705,38.80707514392022,38.581818352093634,38.35618000879437,38.13016234545282,37.90376759725062,37.67699800309861,37.449855805614526,37.222343251101016,36.99446258952334,36.766216074487076,36.53760596321593,36.30863451652932,36.079303998820066,35.849616678032035,35.619574825637564,35.389180716615186,35.15843662942703,34.92734484599628,34.69590765168466,34.464127335269765,34.23200618892252,33.99954650818443,33.766750591944856,33.5336207424184,33.300159265122055,33.06636846885239,32.83225066566277,32.59780817084046,32.363043302883725,32.12795838347896,31.89255573747756,31.656837692873168,31.42080658077849,31.18446473540228,30.94781449402628,30.71085819698207,30.473598187627942,30.23603681232573,29.998176420417632,29.760019364202844,29.521567998914495,29.282824682696226,29.0437917765789,28.80447164445725,28.56486665306652,28.324979171959026,28.08481157348078,27.8443662327479,27.603645527623296,27.362651838693044,27.121387549242872,26.879855045234585,26.63805671528247,26.395994950629678,26.15367214512461,25.9110906951971,25.668252999834934,25.425161460559966,25.181818481404434,24.93822646888716,24.694387831989754,24.450304982132806,24.205980333152024,23.961416301274404,23.716615305094184,23.47157976554916,23.22631210589657,22.980814751689202,22.73509013075138,22.48914067315496,22.242968811195293,21.996576979367237,21.74996761434089,21.503143154937746,21.25610604210642,21.008858718898548,20.761403630444605,20.51374322392976,20.26587994856965,20.0178162555862,19.76955459818324,19.521097431522467,19.272447212699003,19.02360640071715,18.774577456466055,18.525362842695394,18.27596502399099,18.02638646675048,17.776629639158905,17.526697011164206,17.27659105445299,17.026314242425947,16.775869050173423,16.525257954450947,16.274483433654737,16.02354796779719,15.772454038482381,15.521204128881402,15.269800723707998,15.018246309193858,14.766543373064067,14.514694404512504,14.262701894177212,14.010568334115794,13.75829621778077,13.50588803999481,13.253346296926244,13.00067348606426,12.747872106194219,12.49494465737296,12.241893640904072,11.988721559313149,11.735430916323049,11.482024216829172,11.22850396687454,10.974872673625226,10.721132845345423,10.467286991372674,10.213337622093048,9.959287248916324,9.705138384251146,9.450893541480221,9.196555234935314,8.942125979872596,8.687608292447637,8.433004689690542,8.178317689481073,7.9235498105237445,7.6687035723229116,7.4137814951578935,7.158786100057903,6.903719908777335,6.648585443770678,6.393385228167608,6.138121785748036,5.882797640917151,5.627415318680449,5.37197734461877,5.116486244863352,4.860944546070708,4.60535477539785,4.3497194604771625,4.094041129391432,3.838322310648849,3.582565533158006,3.326773326202883,3.070948219417873,2.815092742762622,2.5592094264972216,2.3033008011570484,2.047369397527767,1.7914177466203083,1.535448379645837,1.2794638279907176,1.0234666231915202,0.7674592969098366,0.5114443809074645,0.255424407021222,-0.0005980928620528371],\"y\":[0.0,-0.00040256303265095994,-0.001610248149461313,-0.0036230434071597983,-0.006440928900360632,-0.010063876761876145,-0.014491851162844682,-0.01972480831321377,-0.025762696462138024,-0.0326054558984481,-0.040253018951261765,-0.048705309990708656,-0.05796224542858397,-0.06802373371927217,-0.07888967536054281,-0.09055996289465895,-0.10303448090932932,-0.1163131060389162,-0.1303957069656434,-0.14528214442086096,-0.1609722711864805,-0.17746593209638206,-0.19476296403796312,-0.21286319595374437,-0.2317664488431177,-0.25147253576402306,-0.2719812618348527,-0.2932924242363981,-0.3154058122137968,-0.3383212070786499,-0.3620383822111961,-0.3865571030625574,-0.4118771271569841,-0.43799820409435597,-0.4649200755525982,-0.4926424752902534,-0.5211651291490824,-0.5504877550568636,-0.580610063030079,-0.6115317551768129,-0.6432525256997508,-0.6757720608991491,-0.7090900391759192,-0.7432061310349098,-0.7781199990880054,-0.8138312980576359,-0.8503396747800736,-0.8876447682089577,-0.9257462094188611,-0.9646436216089853,-1.0043366201067983,-1.044824812371914,-1.0861077979999436,-1.1281851687264748,-1.1710565084310502,-1.2147213931413887,-1.2591793910374633,-1.3044300624558502,-1.3504729598940486,-1.397307628014886,-1.4449336036510942,-1.4933504158098003,-1.5425575856772014,-1.5925546266233965,-1.6433410442070624,-1.6949163361804125,-1.7472799924941853,-1.8004314953026324,-1.8543703189686767,-1.909095930069114,-1.9646077873998706,-2.020905341981333,-2.0779880370638466,-2.135855308133131,-2.194506582915949,-2.2539412813857354,-2.3141588157682946,-2.375158590547656,-2.4369400024719567,-2.4995024405593966,-2.5628452861042916,-2.626967912683199,-2.6918696861610556,-2.757549964697546,-2.8240080987533958,-2.89124343109674,-2.959255296809758,-3.0280430232950977,-3.097605930282654,-3.1679433298362056,-3.23905452636032,-3.3109388166070772,-3.3835954896831737,-3.4570238270568865,-3.5312231025651784,-3.6061925824208885,-3.6819315252199942,-3.758439181948944,-3.8357147959920184,-3.9137576031389187,-3.992566831592214,-4.072141701974999,-4.152481427338671,-4.2335852131706275,-4.315452257402157,-4.398081750416424,-4.481472875056326,-4.565624806632769,-4.650536712932677,-4.736207754227266,-4.8226370832803696,-4.9098238453568115,-4.997767178230831,-5.0864662121946225,-5.175920070066951,-5.2661278672018454,-5.357088711497269,-5.44880170340403,-5.541265935934604,-5.634480494672161,-5.728444457779602,-5.823156896008641,-5.918616872708995,-6.014823443837713,-6.111775657968408,-6.209472556300781,-6.307913172670013,-6.4070965335563415,-6.5070216580947005,-6.607687558084464,-6.709093237999099,-6.811237694996137,-6.914119918927028,-7.01773889234714,-7.122093590525822,-7.227182981456522,-7.333006025867036,-7.439561677229747,-7.546848881771979,-7.654866578486434,-7.763613699141672,-7.873089168292708,-7.983291903291558,-8.094220814298055,-8.205874804290588,-8.318252769076864,-8.431353597305034,-8.545176170474434,-8.65971936294683,-8.774982041957472,-8.890963067626316,-9.007661292969289,-9.125075563909633,-9.24320471928931,-9.362047590880536,-9.481603003397254,-9.601869774506795,-9.722846714841623,-9.844532628010967,-9.966926310612806,-10.090026552245646,-10.213832135520576,-10.33834183607324,-10.463554422575996,-10.589468656750057,-10.716083293377807,-10.843397080314972,-10.97140875850316,-11.100117061982232,-11.22952071790283,-11.359618446538946,-11.490408961300645,-11.621890968746712,-11.754063168597526,-11.886924253747793,-12.020472910279594,-12.154707817475341,-12.289627647830812,-12.425231067068282,-12.56151673414979,-12.69848330129031,-12.836129413971094,-12.974453710953142,-13.113454824290542,-13.25313137934414,-13.393481994794996,-13.53450528265816,-13.676199848296307,-13.818564290433628,-13.961597201169553,-14.105297165992809,-14.249662763795328,-14.39469256688632,-14.54038514100641,-14.68673904534181,-14.833752832538536,-14.981425048716773,-15.129754233485244,-15.278738919955629,-15.428377634757041,-15.578668898050708,-15.729611223544495,-15.881203118507656,-16.03344308378557,-16.186329613814607,-16.339861196636974,-16.4940363139157,-16.648853440949622,-16.804311046688483,-16.960407593748073,-17.11714153842543,-17.274511330714105,-17.432515414319475,-17.59115222667416,-17.750420198953478,-17.910317756090933,-18.07084331679379,-18.231995293558782,-18.39377209268767,-18.556172114303173,-18.719193752364667,-18.882835394684115,-19.047095422941986,-19.2119722127033,-19.37746413343367,-19.543569548515393,-19.7102868152637,-19.877614284942972,-20.045550302783013,-20.21409320799546,-20.38324133379021,-20.552993007391848,-20.723346550056256,-20.89430027708717,-21.065852497852852,-21.23800151580283,-21.410745628484648,-21.584083127560717,-21.758012298825193,-21.932531422220976,-22.107638771856656,-22.283332616023614,-22.45961121721316,-22.636472832133677,-22.81391571172793,-22.991938101190257,-23.17053823998404,-23.34971436185903,-23.52946469486885,-23.709787461388515,-23.890680878132024,-24.072143156169943,-24.25417250094717,-24.436767112300643,-24.619925184477125,-24.8036449061511,-24.98792446044267,-25.172762024935516,-25.358155771694925,-25.54410386728587,-25.730604472791143,-25.917655743829542,-26.10525583057411,-26.293402877770397,-26.482095024754862,-26.67133040547327,-26.86110714849906,-27.051423377051975,-27.242277209016535,-27.433666756960697,-27.625590128154478,-27.818045424588725,-28.011030742993817,-28.204544174858583,-28.398583806449082,-28.593147718827574,-28.788233987871493,-28.98384068429248,-29.179965873655433,-29.3766076163977,-29.573763967848187,-29.771432978246622,-29.969612692762865,-30.168301151516182,-30.36749638959469,-30.567196437074713,-30.767399319040358,-30.968103055602946,-31.16930566192069,-31.371005148218217,-31.573199519806373,-31.775886777101817,-31.979064915646894,-32.182731926129414,-32.38688579440253,-32.59152450150465,-32.79664602367943,-33.00224833239575,-33.20832939436781,-33.4148871715752,-33.62191962128312,-33.829424696062475,-34.03740034381025,-34.24584450776969,-34.45475512655074,-34.66413013415031,-34.873967459972874,-35.084265028850744,-35.29502076106481,-35.5062325723649,-35.71789837399053,-35.93001607269154,-36.14258357074873,-36.35559876599468,-36.56905955183448,-36.78296381726665,-36.99730944690387,-37.21209432099407,-37.42731631544127,-37.64297330182661,-37.85906314742946,-38.075583715248456,-38.29253286402262,-38.50990844825256,-38.727708318221744,-38.94593032001764,-39.164572295553086,-39.383632082587674,-39.603107514749055,-39.82299642155439,-40.043296628431825,-40.26400595674199,-40.485122223799564,-40.7066432428948,-40.92856682331523,-41.150890770367276,-41.37361288539795,-41.59673096581666,-41.82024280511693,-42.04414619289823,-42.26843891488784,-42.49311875296279,-42.71818348517173,-42.94363088575693,-43.169458725176305,-43.39566477012548,-43.622246783559795,-43.84920252471654,-44.07652974913699,-44.30422620868875,-44.53228965158785,-44.76071782242109,-44.98950846216831,-45.21865930822478,-45.44816809442351,-45.6780325510577,-45.908250404903164,-46.13881937924088,-46.369737193879395,-46.60100156517745,-46.83261020606654,-47.06456082607354,-47.296851131343374,-47.52947882466164,-47.762441605477385,-47.99573716992583,-48.2293632108512,-48.46331741782945,-48.697597477191195,-48.932201072044535,-49.167125882298045,-49.40236958468362,-49.63792985277953,-49.87380435703335,-50.109990764785124,-50.34648674029028,-50.583289944742845,-50.820398036298485,-51.0578086700978,-51.29551949828934,-51.533528170052946,-51.771832331622946,-52.01042962631146,-52.24931769453172,-52.48849417382132,-52.727956698865675,-52.967702901521356,-53.207730410839574,-53.44803685308953,-53.688619851781986,-53.929477027692656,-54.170605998885904,-54.41200438073811,-54.65366978596139,-54.89559982462711,-55.13779210418964,-55.38024422950988,-55.622953802879024,-55.86591842404225,-56.1091356902225,-56.352603196144166,-56.596318534056934,-56.840279293759544,-57.08448306262373,-57.32892742561795,-57.57360996533134,-57.81852826199759,-58.063679893518966,-58.309062435490105,-58.55467346122211,-58.80051054176653,-59.046571245939305,-59.292853140344974,-59.539353789400536,-59.786070755359674,-60.03300159833681,-60.280143876331294,-60.527495145251464,-60.77505295893886,-61.02281486919241,-61.2707784257927,-61.51894117652611,-61.76730066720911,-62.015854441712506,-62.264600041985815,-62.51353500808146,-62.76265687817914,-63.011963188610224,-63.261451473882055,-63.51111926670234,-63.76096409800358,-64.01098349696744,-64.26117499104927,-64.51153610600245,-64.76206436590293,-65.01275729317368,-65.26361240860922,-65.51462723140014,-65.76579927915758,-66.01712606793784,-66.26860511226691,-66.52023392516512,-66.77201001817157,-67.02393090136894,-67.27599408340797,-67.52819707153218,-67.78053737160246,-68.0330124881218,-68.28561992425988,-68.53835718187788,-68.79122176155309,-69.04421116260366,-69.29732288311331,-69.55055441995617,-69.80390326882136,-70.05736692423791,-70.31094287959944,-70.56462862718907,-70.81842165820404,-71.0723194627807,-71.32631953001918,-71.58041934800836,-71.83461640385062,-72.08890818368667,-72.34329217272052,-72.59776585524425,-72.85232671466295,-73.10697223351954,-73.36169989351977,-73.61650717555696,-73.87139155973716,-74.12635052540381,-74.3813815511628,-74.63648211490741,-74.89164969384326,-75.14688176451318,-75.40217580282224,-75.65752928406263,-75.9129396829388,-76.1684044735922,-76.42392112962646,-76.67948712413222,-76.93509992971228,-77.19075701850642,-77.44645586221654,-77.70219393213156,-77.95796869915256,-78.21377763381761,-78.46961820632696,-78.72548788656792,-78.98138414413994,-79.23730444837973,-79.49324626838609,-79.74920707304507,-80.00518433105499,-80.26117551095146,-80.51717808113239,-80.77318950988304,-81.02920726540107,-81.28522881582163,-81.54125162924225,-81.79727317374802,-82.05329091743656,-82.30930232844311,-82.5653048749655,-82.82129602528926,-83.07727324781254,-83.33323401107135,-83.58917578376439,-83.84509603477818,-84.10099223321207,-84.35686184840333,-84.61270234995204,-84.86851120774627,-85.12428589198696,-85.38002387321306,-85.63572262232648,-85.89137961061711,-86.1469923097878,-86.40255819197944,-86.6580747297959,-86.91353939632901,-87.1689496651836,-87.42430301050244,-87.67959690699129,-87.93482882994377,-88.18999625526641,-88.44509665950355,-88.70012751986238,-88.95508631423782,-89.20997052123745,-89.46477762020649,-89.71950509125276,-89.9741504152715,-90.22871107397033,-90.48318454989418,-90.7375683264502,-90.99185988793255,-91.24605671954738,-91.50015630743768,-91.75415613870804,-92.00805370144971,-92.26184648476521,-92.51553197879332,-92.76910767473382,-93.02257106487235,-93.27591964260519,-93.52915090246404,-93.78226234014076,-94.03525145251227,-94.28811573766517,-94.54085269492049,-94.7934598248585,-95.0459346293434,-95.298274611548,-95.5504772759784,-95.80254012849866,-96.05446067635562,-96.3062364282033,-96.55786489412776,-96.80934358567153,-97.06067001585845,-97.31184169921802,-97.56285615181017,-97.8137108912497,-98.06440343673088,-98.31493130905207,-98.56529203064002,-98.81548312557462,-99.06550211961314,-99.31534654021497,-99.56501391656583,-99.81450177960234,-100.06380766203637,-100.31292909837953,-100.56186362496743,-100.81060877998415,-101.0591621034865,-101.30752113742847,-101.55568342568537,-101.80364651407828,-102.05140795039816,-102.2989652844303,-102.54631606797838,-102.79345785488873,-103.04038820107455,-103.28710466454011,-103.53360480540479,-103.7798861859273,-104.02594637052975,-104.27178292582175,-104.5173934206245,-104.76277542599476,-105.00792651524897,-105.25284426398711,-105.49752625011686,-105.74197005387741,-105.9861732578634,-106.23013344704889,-106.47384820881125,-106.71731513295491,-106.96053181173532,-107.20349583988269,-107.44620481462582,-107.68865633571578,-107.93084800544977,-108.17277742869473,-108.41444221291108,-108.65583996817637,-108.89696830720888,-109.13782484539125,-109.37840720079413,-109.61871299419965,-109.85873984912496,-110.09848539184571,-110.33794725141966,-110.57712305970998,-110.81601045140866,-111.05460706406006,-111.2929105380841,-111.53091851679973,-111.76862864644812,-112.00603857621603,-112.24314595825896,-112.47994844772452,-112.71644370277548,-112.95262938461295,-113.18850315749955,-113.42406268878258,-113.65930564891687,-113.89422971148807,-114.12883255323541,-114.36311185407497,-114.59706529712233,-114.83069056871565,-115.0639853584385,-115.29694735914279,-115.5295742669714,-115.76186378138118,-115.99381360516557,-116.22542144447735,-116.45668500885131,-116.68760201122693,-116.91817016797098,-117.14838719890014,-117.37825082730345,-117.60775877996491,-117.83690878718605,-118.06569858280812,-118.29412590423476,-118.5221884924542,-118.74988409206168,-118.97721045128176,-119.20416532199057,-119.43074645973797,-119.65695162377,-119.88277857705066,-120.10822508628434,-120.33328892193774,-120.55796785826205,-120.78225967331481,-121.00616214898201,-121.22967307099994,-121.4527902289772,-121.6755114164164,-121.89783443073611,-122.11975707329258,-122.3412771494015,-122.56239246835975,-122.78310084346691,-123.00340009204714,-123.22328803547049,-123.4427624991747,-123.66182131268647,-123.88046230964311,-124.09868332781383,-124.31648220912123,-124.53385679966257,-124.75080494973113,-124.96732451383735,-125.18341335073026,-125.39906932341844,-125.61429029919127,-125.82907414963998,-126.04341875067871,-126.25732198256553,-126.4707817299234,-126.68379588176103,-126.89636233149392,-127.10847897696496,-127.32014372046541,-127.53135446875551,-127.74210913308532,-127.95240562921526,-128.1622418774368,-128.3716158025929,-128.58052533409872,-128.788968405962,-128.99694295680342,-129.2044469298771,-129.4114782730909,-129.61803493902667,-129.8241148849606,-130.02971607288333,-130.23483646952013,-130.43947404635105,-130.64362677963086,-130.84729265040926,-131.05046964455062,-131.25315575275408,-131.45534897057337,-131.65704729843654,-131.85824874166588,-132.05895131049755,-132.25915302010128,-132.45885189060002,-132.65804594708948,-132.8567332196577,-133.05491174340455,-133.25257955846098,-133.44973471000878,-133.64637524829945,-133.84249922867386,-134.03810471158133,-134.23318976259873,-134.42775245244974,-134.62179085702388,-134.81530305739557,-135.00828713984305,-135.2007411958673,-135.3926633222111,-135.5840516208775,-135.7749041991489,-135.96521916960566,-136.15499465014477,-136.3442287639984,-136.53291963975255,-136.72106541136554,-136.90866421818646,-137.09571420497352,-137.28221352191247,-137.46816032463485,-137.65355277423623,-137.83838903729438,-138.0226672858875,-138.20638569761215,-138.3895424556014,-138.57213574854276,-138.754163770696,-138.93562472191115,-139.11651680764624,-139.29683823898498,-139.47658723265457,-139.6557620110433,-139.834360802218,-140.01238183994184,-140.18982336369152,-140.3666836186748,-140.54296085584792,-140.71865333193273,-140.89375930943407,-141.06827705665688,-141.24220484772334,-141.41554096259006,-141.58828368706483,-141.7604313128238,-141.93198213742835,-142.1029344643417,-142.27328660294603,-142.44303686855898,-142.61218358245029,-142.78072507185854,-142.94865967000766,-143.11598571612328,-143.2827015554493,-143.4488055392642,-143.6142960248974,-143.7791713757454,-143.943429961288,-144.10707015710446,-144.2700903448896,-144.43248891246978,-144.59426425381866,-144.7554147690734,-144.9159388645503,-145.07583495276043,-145.2351014524257,-145.39373678849412,-145.55173939215564,-145.7091077008575,-145.86584015831977,-146.02193521455067,-146.177391325862,-146.33220695488433,-146.48638057058224,-146.6399106482694,-146.79279566962367,-146.94503412270225,-147.09662450195646,-147.24756530824664,-147.39785504885705,-147.54749223751068,-147.6964753943838,-147.84480304612066,-147.99247372584807,-148.13948597319,-148.2858383342819,-148.43152936178492,-148.57655761490065,-148.72092165938506,-148.86462006756267,-149.00765141834086,-149.1500142972237,-149.29170729632617,-149.43272901438792,-149.57307805678712,-149.7127530355544,-149.85175256938646,-149.99007528365965,-150.1277198104438,-150.26468478851558,-150.40096886337193,-150.53657068724362,-150.6714889191084,-150.80572222470443,-150.93926927654326,-151.07212875392318,-151.2042993429422,-151.33577973651094,-151.46656863436573,-151.5966647430814,-151.72606677608394,-151.85477345366346,-151.98278350298668,-152.11009565810954,-152.2367086599898,-152.36262125649935,-152.48783220243678,-152.6123402595395,-152.73614419649616,-152.85924278895868,-152.98163481955442,-153.10331907789828,-153.22429436060452,-153.34455947129885,-153.4641132206301,-153.58295442628204,-153.70108191298516,-153.81849451252813,-153.93519106376942,-154.05117041264887,-154.16643141219896,-154.2809729225563,-154.39479381097271,-154.50789295182665,-154.62026922663415,-154.73192152406006,-154.84284873992883,-154.9530497772356,-155.06252354615702,-155.17126896406194,-155.27928495552214,-155.3865704523231,-155.49312439347437,-155.59894572522023,-155.70403340105,-155.8083863817084,-155.9120036352059,-156.01488413682884,-156.1170268691496,-156.21843082203674,-156.3190949926648,-156.4190183855244,-156.51820001243203,-156.61663889253975,-156.71433405234504,-156.81128452570022,-156.90748935382214,-157.0029475853018,-157.09765827611335,-157.19162048962392,-157.28483329660244,-157.3772957752292,-157.46900701110462,-157.55996609725864,-157.6501721341594,-157.73962422972232,-157.8283214993188,-157.91626306578507,-158.00344805943084,-158.08987561804778,-158.17554488691826,-158.26045501882356,-158.34460517405256,-158.42799452040973,-158.51062223322347,-158.59248749535436,-158.6735894972032,-158.75392743671887,-158.83350051940647,-158.91230795833502,-158.99034897414538,-159.06762279505782,-159.14412865687973,-159.2198658030132,-159.2948334844624,-159.3690309598411,-159.44245749537993,-159.5151123649337,-159.58699484998857,-159.658104239669,-159.72843983074495,-159.79800092763892,-159.86678684243256,-159.93479689487367,-160.00203041238288,-160.06848673006027,-160.13416519069193,-160.19906514475662,-160.26318595043193,-160.3265269736009,-160.38908758785806,-160.45086717451576,-160.51186512261026,-160.57208082890776,-160.63151369791038,-160.690163141862,-160.74802858075418,-160.80510944233174,-160.8614051620986,-160.91691518332328,-160.9716389570442,-161.02557594207562,-161.07872560501238,-161.13108742023564,-161.1826608699179,-161.23344544402806,-161.28344064033658,-161.3326459644204,-161.3810609296679,-161.42868505728347,-161.47551787629254,-161.52155892354617,-161.5668077437254,-161.61126388934613,-161.6549269207632,-161.69779640617492,-161.73987192162735,-161.78115305101838,-161.82163938610194,-161.86133052649205,-161.90022607966665,-161.9383256609716,-161.97562889362453,-162.0121354087184,-162.04784484522523,-162.08275684999975,-162.11687107778278,-162.15018719120468,-162.1827048607887,-162.21442376495426,-162.24534359002,-162.27546403020713,-162.30478478764218,-162.33330557236013,-162.36102610230716,-162.38794610334364,-162.41406530924655,-162.4393834617123,-162.4639003103593,-162.48761561273034,-162.51052913429504,-162.53264064845217,-162.55394993653186,-162.57445678779777,-162.59416099944926,-162.61306237662322,-162.6311607323962,-162.6484558877861,-162.66494767175402,-162.68063592120592,-162.69552048099425,-162.70960120391948,-162.72287795073152,-162.7353505901312,-162.7470189987714,-162.7578830612585,-162.76794267015327,-162.77719772597214,-162.785648137188,-162.79329382023127,-162.80013469949068,-162.80617070731395,-162.81140178400852,-162.81582787784208,-162.81944894504318,-162.82226494980165,-162.8242758642688,-162.8254816685579,-162.82588235074425]}],                        {\"template\":{\"data\":{\"barpolar\":[{\"marker\":{\"line\":{\"color\":\"#E5ECF6\",\"width\":0.5},\"pattern\":{\"fillmode\":\"overlay\",\"size\":10,\"solidity\":0.2}},\"type\":\"barpolar\"}],\"bar\":[{\"error_x\":{\"color\":\"#2a3f5f\"},\"error_y\":{\"color\":\"#2a3f5f\"},\"marker\":{\"line\":{\"color\":\"#E5ECF6\",\"width\":0.5},\"pattern\":{\"fillmode\":\"overlay\",\"size\":10,\"solidity\":0.2}},\"type\":\"bar\"}],\"carpet\":[{\"aaxis\":{\"endlinecolor\":\"#2a3f5f\",\"gridcolor\":\"white\",\"linecolor\":\"white\",\"minorgridcolor\":\"white\",\"startlinecolor\":\"#2a3f5f\"},\"baxis\":{\"endlinecolor\":\"#2a3f5f\",\"gridcolor\":\"white\",\"linecolor\":\"white\",\"minorgridcolor\":\"white\",\"startlinecolor\":\"#2a3f5f\"},\"type\":\"carpet\"}],\"choropleth\":[{\"colorbar\":{\"outlinewidth\":0,\"ticks\":\"\"},\"type\":\"choropleth\"}],\"contourcarpet\":[{\"colorbar\":{\"outlinewidth\":0,\"ticks\":\"\"},\"type\":\"contourcarpet\"}],\"contour\":[{\"colorbar\":{\"outlinewidth\":0,\"ticks\":\"\"},\"colorscale\":[[0.0,\"#0d0887\"],[0.1111111111111111,\"#46039f\"],[0.2222222222222222,\"#7201a8\"],[0.3333333333333333,\"#9c179e\"],[0.4444444444444444,\"#bd3786\"],[0.5555555555555556,\"#d8576b\"],[0.6666666666666666,\"#ed7953\"],[0.7777777777777778,\"#fb9f3a\"],[0.8888888888888888,\"#fdca26\"],[1.0,\"#f0f921\"]],\"type\":\"contour\"}],\"heatmapgl\":[{\"colorbar\":{\"outlinewidth\":0,\"ticks\":\"\"},\"colorscale\":[[0.0,\"#0d0887\"],[0.1111111111111111,\"#46039f\"],[0.2222222222222222,\"#7201a8\"],[0.3333333333333333,\"#9c179e\"],[0.4444444444444444,\"#bd3786\"],[0.5555555555555556,\"#d8576b\"],[0.6666666666666666,\"#ed7953\"],[0.7777777777777778,\"#fb9f3a\"],[0.8888888888888888,\"#fdca26\"],[1.0,\"#f0f921\"]],\"type\":\"heatmapgl\"}],\"heatmap\":[{\"colorbar\":{\"outlinewidth\":0,\"ticks\":\"\"},\"colorscale\":[[0.0,\"#0d0887\"],[0.1111111111111111,\"#46039f\"],[0.2222222222222222,\"#7201a8\"],[0.3333333333333333,\"#9c179e\"],[0.4444444444444444,\"#bd3786\"],[0.5555555555555556,\"#d8576b\"],[0.6666666666666666,\"#ed7953\"],[0.7777777777777778,\"#fb9f3a\"],[0.8888888888888888,\"#fdca26\"],[1.0,\"#f0f921\"]],\"type\":\"heatmap\"}],\"histogram2dcontour\":[{\"colorbar\":{\"outlinewidth\":0,\"ticks\":\"\"},\"colorscale\":[[0.0,\"#0d0887\"],[0.1111111111111111,\"#46039f\"],[0.2222222222222222,\"#7201a8\"],[0.3333333333333333,\"#9c179e\"],[0.4444444444444444,\"#bd3786\"],[0.5555555555555556,\"#d8576b\"],[0.6666666666666666,\"#ed7953\"],[0.7777777777777778,\"#fb9f3a\"],[0.8888888888888888,\"#fdca26\"],[1.0,\"#f0f921\"]],\"type\":\"histogram2dcontour\"}],\"histogram2d\":[{\"colorbar\":{\"outlinewidth\":0,\"ticks\":\"\"},\"colorscale\":[[0.0,\"#0d0887\"],[0.1111111111111111,\"#46039f\"],[0.2222222222222222,\"#7201a8\"],[0.3333333333333333,\"#9c179e\"],[0.4444444444444444,\"#bd3786\"],[0.5555555555555556,\"#d8576b\"],[0.6666666666666666,\"#ed7953\"],[0.7777777777777778,\"#fb9f3a\"],[0.8888888888888888,\"#fdca26\"],[1.0,\"#f0f921\"]],\"type\":\"histogram2d\"}],\"histogram\":[{\"marker\":{\"pattern\":{\"fillmode\":\"overlay\",\"size\":10,\"solidity\":0.2}},\"type\":\"histogram\"}],\"mesh3d\":[{\"colorbar\":{\"outlinewidth\":0,\"ticks\":\"\"},\"type\":\"mesh3d\"}],\"parcoords\":[{\"line\":{\"colorbar\":{\"outlinewidth\":0,\"ticks\":\"\"}},\"type\":\"parcoords\"}],\"pie\":[{\"automargin\":true,\"type\":\"pie\"}],\"scatter3d\":[{\"line\":{\"colorbar\":{\"outlinewidth\":0,\"ticks\":\"\"}},\"marker\":{\"colorbar\":{\"outlinewidth\":0,\"ticks\":\"\"}},\"type\":\"scatter3d\"}],\"scattercarpet\":[{\"marker\":{\"colorbar\":{\"outlinewidth\":0,\"ticks\":\"\"}},\"type\":\"scattercarpet\"}],\"scattergeo\":[{\"marker\":{\"colorbar\":{\"outlinewidth\":0,\"ticks\":\"\"}},\"type\":\"scattergeo\"}],\"scattergl\":[{\"marker\":{\"colorbar\":{\"outlinewidth\":0,\"ticks\":\"\"}},\"type\":\"scattergl\"}],\"scattermapbox\":[{\"marker\":{\"colorbar\":{\"outlinewidth\":0,\"ticks\":\"\"}},\"type\":\"scattermapbox\"}],\"scatterpolargl\":[{\"marker\":{\"colorbar\":{\"outlinewidth\":0,\"ticks\":\"\"}},\"type\":\"scatterpolargl\"}],\"scatterpolar\":[{\"marker\":{\"colorbar\":{\"outlinewidth\":0,\"ticks\":\"\"}},\"type\":\"scatterpolar\"}],\"scatter\":[{\"fillpattern\":{\"fillmode\":\"overlay\",\"size\":10,\"solidity\":0.2},\"type\":\"scatter\"}],\"scatterternary\":[{\"marker\":{\"colorbar\":{\"outlinewidth\":0,\"ticks\":\"\"}},\"type\":\"scatterternary\"}],\"surface\":[{\"colorbar\":{\"outlinewidth\":0,\"ticks\":\"\"},\"colorscale\":[[0.0,\"#0d0887\"],[0.1111111111111111,\"#46039f\"],[0.2222222222222222,\"#7201a8\"],[0.3333333333333333,\"#9c179e\"],[0.4444444444444444,\"#bd3786\"],[0.5555555555555556,\"#d8576b\"],[0.6666666666666666,\"#ed7953\"],[0.7777777777777778,\"#fb9f3a\"],[0.8888888888888888,\"#fdca26\"],[1.0,\"#f0f921\"]],\"type\":\"surface\"}],\"table\":[{\"cells\":{\"fill\":{\"color\":\"#EBF0F8\"},\"line\":{\"color\":\"white\"}},\"header\":{\"fill\":{\"color\":\"#C8D4E3\"},\"line\":{\"color\":\"white\"}},\"type\":\"table\"}]},\"layout\":{\"annotationdefaults\":{\"arrowcolor\":\"#2a3f5f\",\"arrowhead\":0,\"arrowwidth\":1},\"autotypenumbers\":\"strict\",\"coloraxis\":{\"colorbar\":{\"outlinewidth\":0,\"ticks\":\"\"}},\"colorscale\":{\"diverging\":[[0,\"#8e0152\"],[0.1,\"#c51b7d\"],[0.2,\"#de77ae\"],[0.3,\"#f1b6da\"],[0.4,\"#fde0ef\"],[0.5,\"#f7f7f7\"],[0.6,\"#e6f5d0\"],[0.7,\"#b8e186\"],[0.8,\"#7fbc41\"],[0.9,\"#4d9221\"],[1,\"#276419\"]],\"sequential\":[[0.0,\"#0d0887\"],[0.1111111111111111,\"#46039f\"],[0.2222222222222222,\"#7201a8\"],[0.3333333333333333,\"#9c179e\"],[0.4444444444444444,\"#bd3786\"],[0.5555555555555556,\"#d8576b\"],[0.6666666666666666,\"#ed7953\"],[0.7777777777777778,\"#fb9f3a\"],[0.8888888888888888,\"#fdca26\"],[1.0,\"#f0f921\"]],\"sequentialminus\":[[0.0,\"#0d0887\"],[0.1111111111111111,\"#46039f\"],[0.2222222222222222,\"#7201a8\"],[0.3333333333333333,\"#9c179e\"],[0.4444444444444444,\"#bd3786\"],[0.5555555555555556,\"#d8576b\"],[0.6666666666666666,\"#ed7953\"],[0.7777777777777778,\"#fb9f3a\"],[0.8888888888888888,\"#fdca26\"],[1.0,\"#f0f921\"]]},\"colorway\":[\"#636efa\",\"#EF553B\",\"#00cc96\",\"#ab63fa\",\"#FFA15A\",\"#19d3f3\",\"#FF6692\",\"#B6E880\",\"#FF97FF\",\"#FECB52\"],\"font\":{\"color\":\"#2a3f5f\"},\"geo\":{\"bgcolor\":\"white\",\"lakecolor\":\"white\",\"landcolor\":\"#E5ECF6\",\"showlakes\":true,\"showland\":true,\"subunitcolor\":\"white\"},\"hoverlabel\":{\"align\":\"left\"},\"hovermode\":\"closest\",\"mapbox\":{\"style\":\"light\"},\"paper_bgcolor\":\"white\",\"plot_bgcolor\":\"#E5ECF6\",\"polar\":{\"angularaxis\":{\"gridcolor\":\"white\",\"linecolor\":\"white\",\"ticks\":\"\"},\"bgcolor\":\"#E5ECF6\",\"radialaxis\":{\"gridcolor\":\"white\",\"linecolor\":\"white\",\"ticks\":\"\"}},\"scene\":{\"xaxis\":{\"backgroundcolor\":\"#E5ECF6\",\"gridcolor\":\"white\",\"gridwidth\":2,\"linecolor\":\"white\",\"showbackground\":true,\"ticks\":\"\",\"zerolinecolor\":\"white\"},\"yaxis\":{\"backgroundcolor\":\"#E5ECF6\",\"gridcolor\":\"white\",\"gridwidth\":2,\"linecolor\":\"white\",\"showbackground\":true,\"ticks\":\"\",\"zerolinecolor\":\"white\"},\"zaxis\":{\"backgroundcolor\":\"#E5ECF6\",\"gridcolor\":\"white\",\"gridwidth\":2,\"linecolor\":\"white\",\"showbackground\":true,\"ticks\":\"\",\"zerolinecolor\":\"white\"}},\"shapedefaults\":{\"line\":{\"color\":\"#2a3f5f\"}},\"ternary\":{\"aaxis\":{\"gridcolor\":\"white\",\"linecolor\":\"white\",\"ticks\":\"\"},\"baxis\":{\"gridcolor\":\"white\",\"linecolor\":\"white\",\"ticks\":\"\"},\"bgcolor\":\"#E5ECF6\",\"caxis\":{\"gridcolor\":\"white\",\"linecolor\":\"white\",\"ticks\":\"\"}},\"title\":{\"x\":0.05},\"xaxis\":{\"automargin\":true,\"gridcolor\":\"white\",\"linecolor\":\"white\",\"ticks\":\"\",\"title\":{\"standoff\":15},\"zerolinecolor\":\"white\",\"zerolinewidth\":2},\"yaxis\":{\"automargin\":true,\"gridcolor\":\"white\",\"linecolor\":\"white\",\"ticks\":\"\",\"title\":{\"standoff\":15},\"zerolinecolor\":\"white\",\"zerolinewidth\":2}}},\"xaxis\":{\"range\":[-60,60],\"title\":{\"text\":\"X\"}},\"yaxis\":{\"range\":[-60,60],\"title\":{\"text\":\"Y\"}},\"width\":500,\"height\":500,\"showlegend\":false,\"title\":{\"text\":\"Track in the Gluex Detector\"},\"shapes\":[{\"line\":{\"color\":\"black\"},\"type\":\"circle\",\"x0\":-10.5,\"x1\":10.5,\"xref\":\"x\",\"y0\":-10.5,\"y1\":10.5,\"yref\":\"y\"},{\"line\":{\"color\":\"black\"},\"type\":\"circle\",\"x0\":-55,\"x1\":55,\"xref\":\"x\",\"y0\":-55,\"y1\":55,\"yref\":\"y\"}]},                        {\"responsive\": true}                    ).then(function(){\n                            \nvar gd = document.getElementById('988db878-3d43-451f-8a97-0c56c97d7c97');\nvar x = new MutationObserver(function (mutations, observer) {{\n        var display = window.getComputedStyle(gd).display;\n        if (!display || display === 'none') {{\n            console.log([gd, 'removed!']);\n            Plotly.purge(gd);\n            observer.disconnect();\n        }}\n}});\n\n// Listen for the removal of the full notebook cells\nvar notebookContainer = gd.closest('#notebook-container');\nif (notebookContainer) {{\n    x.observe(notebookContainer, {childList: true});\n}}\n\n// Listen for the clearing of the current output cell\nvar outputEl = gd.closest('.output');\nif (outputEl) {{\n    x.observe(outputEl, {childList: true});\n}}\n\n                        })                };                            </script>        </div>\n</body>\n</html>"
                },
                "metadata": {}
              }
            ]
          }
        },
        "66a46102054749a1a21c8f75637f0d67": {
          "model_module": "@jupyter-widgets/base",
          "model_name": "LayoutModel",
          "model_module_version": "1.2.0",
          "state": {
            "_model_module": "@jupyter-widgets/base",
            "_model_module_version": "1.2.0",
            "_model_name": "LayoutModel",
            "_view_count": null,
            "_view_module": "@jupyter-widgets/base",
            "_view_module_version": "1.2.0",
            "_view_name": "LayoutView",
            "align_content": null,
            "align_items": null,
            "align_self": null,
            "border": null,
            "bottom": null,
            "display": null,
            "flex": null,
            "flex_flow": null,
            "grid_area": null,
            "grid_auto_columns": null,
            "grid_auto_flow": null,
            "grid_auto_rows": null,
            "grid_column": null,
            "grid_gap": null,
            "grid_row": null,
            "grid_template_areas": null,
            "grid_template_columns": null,
            "grid_template_rows": null,
            "height": null,
            "justify_content": null,
            "justify_items": null,
            "left": null,
            "margin": null,
            "max_height": null,
            "max_width": null,
            "min_height": null,
            "min_width": null,
            "object_fit": null,
            "object_position": null,
            "order": null,
            "overflow": null,
            "overflow_x": null,
            "overflow_y": null,
            "padding": null,
            "right": null,
            "top": null,
            "visibility": null,
            "width": null
          }
        },
        "a2c4bf64d5e14a2abcd5cf8446a070a8": {
          "model_module": "@jupyter-widgets/controls",
          "model_name": "FloatSliderModel",
          "model_module_version": "1.5.0",
          "state": {
            "_dom_classes": [],
            "_model_module": "@jupyter-widgets/controls",
            "_model_module_version": "1.5.0",
            "_model_name": "FloatSliderModel",
            "_view_count": null,
            "_view_module": "@jupyter-widgets/controls",
            "_view_module_version": "1.5.0",
            "_view_name": "FloatSliderView",
            "continuous_update": true,
            "description": "px",
            "description_tooltip": null,
            "disabled": false,
            "layout": "IPY_MODEL_f4798a0550f544488a2c5306c4fd0c16",
            "max": 1,
            "min": -1,
            "orientation": "horizontal",
            "readout": true,
            "readout_format": ".2f",
            "step": 0.0001,
            "style": "IPY_MODEL_09c4c220e8234e1ab117819d02f06655",
            "value": 0.4194
          }
        },
        "ab3bd8e5f95e45b1a2fcbe868827c730": {
          "model_module": "@jupyter-widgets/controls",
          "model_name": "FloatSliderModel",
          "model_module_version": "1.5.0",
          "state": {
            "_dom_classes": [],
            "_model_module": "@jupyter-widgets/controls",
            "_model_module_version": "1.5.0",
            "_model_name": "FloatSliderModel",
            "_view_count": null,
            "_view_module": "@jupyter-widgets/controls",
            "_view_module_version": "1.5.0",
            "_view_name": "FloatSliderView",
            "continuous_update": true,
            "description": "py",
            "description_tooltip": null,
            "disabled": false,
            "layout": "IPY_MODEL_e81d1fb167e94fbd8927f30a06531015",
            "max": 1,
            "min": -1,
            "orientation": "horizontal",
            "readout": true,
            "readout_format": ".2f",
            "step": 0.0001,
            "style": "IPY_MODEL_53562b20c620416d84448488129e7132",
            "value": 0
          }
        },
        "6bae07c5d3394e1b8f994e21a01f502f": {
          "model_module": "@jupyter-widgets/controls",
          "model_name": "IntSliderModel",
          "model_module_version": "1.5.0",
          "state": {
            "_dom_classes": [],
            "_model_module": "@jupyter-widgets/controls",
            "_model_module_version": "1.5.0",
            "_model_name": "IntSliderModel",
            "_view_count": null,
            "_view_module": "@jupyter-widgets/controls",
            "_view_module_version": "1.5.0",
            "_view_name": "IntSliderView",
            "continuous_update": true,
            "description": "charge",
            "description_tooltip": null,
            "disabled": false,
            "layout": "IPY_MODEL_66cc8ed096d0471f95cd80781d0a7742",
            "max": 1,
            "min": -1,
            "orientation": "horizontal",
            "readout": true,
            "readout_format": "d",
            "step": 2,
            "style": "IPY_MODEL_0b784054da0543ecb6dd9f92acd52afe",
            "value": 1
          }
        },
        "2f7a6c1be4914687886a84626834b9af": {
          "model_module": "@jupyter-widgets/controls",
          "model_name": "FloatSliderModel",
          "model_module_version": "1.5.0",
          "state": {
            "_dom_classes": [],
            "_model_module": "@jupyter-widgets/controls",
            "_model_module_version": "1.5.0",
            "_model_name": "FloatSliderModel",
            "_view_count": null,
            "_view_module": "@jupyter-widgets/controls",
            "_view_module_version": "1.5.0",
            "_view_name": "FloatSliderView",
            "continuous_update": true,
            "description": "t_max",
            "description_tooltip": null,
            "disabled": false,
            "layout": "IPY_MODEL_57503d761fbc48bc8a2c9adc742c1560",
            "max": 6.283185307179586,
            "min": 0,
            "orientation": "horizontal",
            "readout": true,
            "readout_format": ".2f",
            "step": 0.0001,
            "style": "IPY_MODEL_9be035bc2eba410bade69e3b8d23c7ff",
            "value": 3.1416000000000004
          }
        },
        "eb8063b4f943444282557b5350b14d27": {
          "model_module": "@jupyter-widgets/base",
          "model_name": "LayoutModel",
          "model_module_version": "1.2.0",
          "state": {
            "_model_module": "@jupyter-widgets/base",
            "_model_module_version": "1.2.0",
            "_model_name": "LayoutModel",
            "_view_count": null,
            "_view_module": "@jupyter-widgets/base",
            "_view_module_version": "1.2.0",
            "_view_name": "LayoutView",
            "align_content": null,
            "align_items": null,
            "align_self": null,
            "border": null,
            "bottom": null,
            "display": null,
            "flex": null,
            "flex_flow": "row wrap",
            "grid_area": null,
            "grid_auto_columns": null,
            "grid_auto_flow": null,
            "grid_auto_rows": null,
            "grid_column": null,
            "grid_gap": null,
            "grid_row": null,
            "grid_template_areas": null,
            "grid_template_columns": null,
            "grid_template_rows": null,
            "height": null,
            "justify_content": null,
            "justify_items": null,
            "left": null,
            "margin": null,
            "max_height": null,
            "max_width": null,
            "min_height": null,
            "min_width": null,
            "object_fit": null,
            "object_position": null,
            "order": null,
            "overflow": null,
            "overflow_x": null,
            "overflow_y": null,
            "padding": null,
            "right": null,
            "top": null,
            "visibility": null,
            "width": null
          }
        },
        "0537dc87ea6e408281e5779169840558": {
          "model_module": "@jupyter-widgets/base",
          "model_name": "LayoutModel",
          "model_module_version": "1.2.0",
          "state": {
            "_model_module": "@jupyter-widgets/base",
            "_model_module_version": "1.2.0",
            "_model_name": "LayoutModel",
            "_view_count": null,
            "_view_module": "@jupyter-widgets/base",
            "_view_module_version": "1.2.0",
            "_view_name": "LayoutView",
            "align_content": null,
            "align_items": null,
            "align_self": null,
            "border": null,
            "bottom": null,
            "display": null,
            "flex": null,
            "flex_flow": null,
            "grid_area": null,
            "grid_auto_columns": null,
            "grid_auto_flow": null,
            "grid_auto_rows": null,
            "grid_column": null,
            "grid_gap": null,
            "grid_row": null,
            "grid_template_areas": null,
            "grid_template_columns": null,
            "grid_template_rows": null,
            "height": null,
            "justify_content": null,
            "justify_items": null,
            "left": null,
            "margin": null,
            "max_height": null,
            "max_width": null,
            "min_height": null,
            "min_width": null,
            "object_fit": null,
            "object_position": null,
            "order": null,
            "overflow": null,
            "overflow_x": null,
            "overflow_y": null,
            "padding": null,
            "right": null,
            "top": null,
            "visibility": null,
            "width": null
          }
        },
        "f4798a0550f544488a2c5306c4fd0c16": {
          "model_module": "@jupyter-widgets/base",
          "model_name": "LayoutModel",
          "model_module_version": "1.2.0",
          "state": {
            "_model_module": "@jupyter-widgets/base",
            "_model_module_version": "1.2.0",
            "_model_name": "LayoutModel",
            "_view_count": null,
            "_view_module": "@jupyter-widgets/base",
            "_view_module_version": "1.2.0",
            "_view_name": "LayoutView",
            "align_content": null,
            "align_items": null,
            "align_self": null,
            "border": null,
            "bottom": null,
            "display": null,
            "flex": null,
            "flex_flow": null,
            "grid_area": null,
            "grid_auto_columns": null,
            "grid_auto_flow": null,
            "grid_auto_rows": null,
            "grid_column": null,
            "grid_gap": null,
            "grid_row": null,
            "grid_template_areas": null,
            "grid_template_columns": null,
            "grid_template_rows": null,
            "height": null,
            "justify_content": null,
            "justify_items": null,
            "left": null,
            "margin": null,
            "max_height": null,
            "max_width": null,
            "min_height": null,
            "min_width": null,
            "object_fit": null,
            "object_position": null,
            "order": null,
            "overflow": null,
            "overflow_x": null,
            "overflow_y": null,
            "padding": null,
            "right": null,
            "top": null,
            "visibility": null,
            "width": null
          }
        },
        "09c4c220e8234e1ab117819d02f06655": {
          "model_module": "@jupyter-widgets/controls",
          "model_name": "SliderStyleModel",
          "model_module_version": "1.5.0",
          "state": {
            "_model_module": "@jupyter-widgets/controls",
            "_model_module_version": "1.5.0",
            "_model_name": "SliderStyleModel",
            "_view_count": null,
            "_view_module": "@jupyter-widgets/base",
            "_view_module_version": "1.2.0",
            "_view_name": "StyleView",
            "description_width": "",
            "handle_color": null
          }
        },
        "e81d1fb167e94fbd8927f30a06531015": {
          "model_module": "@jupyter-widgets/base",
          "model_name": "LayoutModel",
          "model_module_version": "1.2.0",
          "state": {
            "_model_module": "@jupyter-widgets/base",
            "_model_module_version": "1.2.0",
            "_model_name": "LayoutModel",
            "_view_count": null,
            "_view_module": "@jupyter-widgets/base",
            "_view_module_version": "1.2.0",
            "_view_name": "LayoutView",
            "align_content": null,
            "align_items": null,
            "align_self": null,
            "border": null,
            "bottom": null,
            "display": null,
            "flex": null,
            "flex_flow": null,
            "grid_area": null,
            "grid_auto_columns": null,
            "grid_auto_flow": null,
            "grid_auto_rows": null,
            "grid_column": null,
            "grid_gap": null,
            "grid_row": null,
            "grid_template_areas": null,
            "grid_template_columns": null,
            "grid_template_rows": null,
            "height": null,
            "justify_content": null,
            "justify_items": null,
            "left": null,
            "margin": null,
            "max_height": null,
            "max_width": null,
            "min_height": null,
            "min_width": null,
            "object_fit": null,
            "object_position": null,
            "order": null,
            "overflow": null,
            "overflow_x": null,
            "overflow_y": null,
            "padding": null,
            "right": null,
            "top": null,
            "visibility": null,
            "width": null
          }
        },
        "53562b20c620416d84448488129e7132": {
          "model_module": "@jupyter-widgets/controls",
          "model_name": "SliderStyleModel",
          "model_module_version": "1.5.0",
          "state": {
            "_model_module": "@jupyter-widgets/controls",
            "_model_module_version": "1.5.0",
            "_model_name": "SliderStyleModel",
            "_view_count": null,
            "_view_module": "@jupyter-widgets/base",
            "_view_module_version": "1.2.0",
            "_view_name": "StyleView",
            "description_width": "",
            "handle_color": null
          }
        },
        "66cc8ed096d0471f95cd80781d0a7742": {
          "model_module": "@jupyter-widgets/base",
          "model_name": "LayoutModel",
          "model_module_version": "1.2.0",
          "state": {
            "_model_module": "@jupyter-widgets/base",
            "_model_module_version": "1.2.0",
            "_model_name": "LayoutModel",
            "_view_count": null,
            "_view_module": "@jupyter-widgets/base",
            "_view_module_version": "1.2.0",
            "_view_name": "LayoutView",
            "align_content": null,
            "align_items": null,
            "align_self": null,
            "border": null,
            "bottom": null,
            "display": null,
            "flex": null,
            "flex_flow": null,
            "grid_area": null,
            "grid_auto_columns": null,
            "grid_auto_flow": null,
            "grid_auto_rows": null,
            "grid_column": null,
            "grid_gap": null,
            "grid_row": null,
            "grid_template_areas": null,
            "grid_template_columns": null,
            "grid_template_rows": null,
            "height": null,
            "justify_content": null,
            "justify_items": null,
            "left": null,
            "margin": null,
            "max_height": null,
            "max_width": null,
            "min_height": null,
            "min_width": null,
            "object_fit": null,
            "object_position": null,
            "order": null,
            "overflow": null,
            "overflow_x": null,
            "overflow_y": null,
            "padding": null,
            "right": null,
            "top": null,
            "visibility": null,
            "width": null
          }
        },
        "0b784054da0543ecb6dd9f92acd52afe": {
          "model_module": "@jupyter-widgets/controls",
          "model_name": "SliderStyleModel",
          "model_module_version": "1.5.0",
          "state": {
            "_model_module": "@jupyter-widgets/controls",
            "_model_module_version": "1.5.0",
            "_model_name": "SliderStyleModel",
            "_view_count": null,
            "_view_module": "@jupyter-widgets/base",
            "_view_module_version": "1.2.0",
            "_view_name": "StyleView",
            "description_width": "",
            "handle_color": null
          }
        },
        "57503d761fbc48bc8a2c9adc742c1560": {
          "model_module": "@jupyter-widgets/base",
          "model_name": "LayoutModel",
          "model_module_version": "1.2.0",
          "state": {
            "_model_module": "@jupyter-widgets/base",
            "_model_module_version": "1.2.0",
            "_model_name": "LayoutModel",
            "_view_count": null,
            "_view_module": "@jupyter-widgets/base",
            "_view_module_version": "1.2.0",
            "_view_name": "LayoutView",
            "align_content": null,
            "align_items": null,
            "align_self": null,
            "border": null,
            "bottom": null,
            "display": null,
            "flex": null,
            "flex_flow": null,
            "grid_area": null,
            "grid_auto_columns": null,
            "grid_auto_flow": null,
            "grid_auto_rows": null,
            "grid_column": null,
            "grid_gap": null,
            "grid_row": null,
            "grid_template_areas": null,
            "grid_template_columns": null,
            "grid_template_rows": null,
            "height": null,
            "justify_content": null,
            "justify_items": null,
            "left": null,
            "margin": null,
            "max_height": null,
            "max_width": null,
            "min_height": null,
            "min_width": null,
            "object_fit": null,
            "object_position": null,
            "order": null,
            "overflow": null,
            "overflow_x": null,
            "overflow_y": null,
            "padding": null,
            "right": null,
            "top": null,
            "visibility": null,
            "width": null
          }
        },
        "9be035bc2eba410bade69e3b8d23c7ff": {
          "model_module": "@jupyter-widgets/controls",
          "model_name": "SliderStyleModel",
          "model_module_version": "1.5.0",
          "state": {
            "_model_module": "@jupyter-widgets/controls",
            "_model_module_version": "1.5.0",
            "_model_name": "SliderStyleModel",
            "_view_count": null,
            "_view_module": "@jupyter-widgets/base",
            "_view_module_version": "1.2.0",
            "_view_name": "StyleView",
            "description_width": "",
            "handle_color": null
          }
        },
        "a1b12c89a2cc4c94be171358c0dc8e14": {
          "model_module": "@jupyter-widgets/controls",
          "model_name": "VBoxModel",
          "model_module_version": "1.5.0",
          "state": {
            "_dom_classes": [],
            "_model_module": "@jupyter-widgets/controls",
            "_model_module_version": "1.5.0",
            "_model_name": "VBoxModel",
            "_view_count": null,
            "_view_module": "@jupyter-widgets/controls",
            "_view_module_version": "1.5.0",
            "_view_name": "VBoxView",
            "box_style": "",
            "children": [
              "IPY_MODEL_93e75c81e9fb4a25b8579861e9337160",
              "IPY_MODEL_0cac4688b8c64fa7b754ca240d07fd3d"
            ],
            "layout": "IPY_MODEL_e26d92d962e846d0b5d67d95dae8f1fe"
          }
        },
        "93e75c81e9fb4a25b8579861e9337160": {
          "model_module": "@jupyter-widgets/controls",
          "model_name": "HBoxModel",
          "model_module_version": "1.5.0",
          "state": {
            "_dom_classes": [],
            "_model_module": "@jupyter-widgets/controls",
            "_model_module_version": "1.5.0",
            "_model_name": "HBoxModel",
            "_view_count": null,
            "_view_module": "@jupyter-widgets/controls",
            "_view_module_version": "1.5.0",
            "_view_name": "HBoxView",
            "box_style": "",
            "children": [
              "IPY_MODEL_645927c7fba04e5583875c36952d6179"
            ],
            "layout": "IPY_MODEL_14cb1538079d402ab4092d54f8286a37"
          }
        },
        "0cac4688b8c64fa7b754ca240d07fd3d": {
          "model_module": "@jupyter-widgets/output",
          "model_name": "OutputModel",
          "model_module_version": "1.0.0",
          "state": {
            "_dom_classes": [],
            "_model_module": "@jupyter-widgets/output",
            "_model_module_version": "1.0.0",
            "_model_name": "OutputModel",
            "_view_count": null,
            "_view_module": "@jupyter-widgets/output",
            "_view_module_version": "1.0.0",
            "_view_name": "OutputView",
            "layout": "IPY_MODEL_59f63e5e1c01407bac92f93e87da811b",
            "msg_id": "",
            "outputs": [
              {
                "output_type": "display_data",
                "data": {
                  "text/html": "<html>\n<head><meta charset=\"utf-8\" /></head>\n<body>\n    <div>            <script src=\"https://cdnjs.cloudflare.com/ajax/libs/mathjax/2.7.5/MathJax.js?config=TeX-AMS-MML_SVG\"></script><script type=\"text/javascript\">if (window.MathJax && window.MathJax.Hub && window.MathJax.Hub.Config) {window.MathJax.Hub.Config({SVG: {font: \"STIX-Web\"}});}</script>                <script type=\"text/javascript\">window.PlotlyConfig = {MathJaxConfig: 'local'};</script>\n        <script charset=\"utf-8\" src=\"https://cdn.plot.ly/plotly-2.24.1.min.js\"></script>                <div id=\"138b01bd-cc2e-4ed8-a218-47dbcffa70e7\" class=\"plotly-graph-div\" style=\"height:500px; width:500px;\"></div>            <script type=\"text/javascript\">                                    window.PLOTLYENV=window.PLOTLYENV || {};                                    if (document.getElementById(\"138b01bd-cc2e-4ed8-a218-47dbcffa70e7\")) {                    Plotly.newPlot(                        \"138b01bd-cc2e-4ed8-a218-47dbcffa70e7\",                        [{\"hoverinfo\":\"text\",\"marker\":{\"size\":3},\"mode\":\"markers\",\"text\":[\"Ring: 1.0\\n Wire: 31.0\",\"Ring: 2.0\\n Wire: 31.0\",\"Ring: 3.0\\n Wire: 39.0\",\"Ring: 4.0\\n Wire: 39.0\",\"Ring: 5.0\\n Wire: 50.0\",\"Ring: 6.0\\n Wire: 51.0\",\"Ring: 7.0\\n Wire: 60.0\",\"Ring: 8.0\\n Wire: 61.0\",\"Ring: 9.0\\n Wire: 64.0\",\"Ring: 10.0\\n Wire: 63.0\",\"Ring: 11.0\\n Wire: 73.0\",\"Ring: 12.0\\n Wire: 72.0\",\"Ring: 13.0\\n Wire: 87.0\",\"Ring: 14.0\\n Wire: 87.0\",\"Ring: 15.0\\n Wire: 95.0\",\"Ring: 16.0\\n Wire: 95.0\",\"Ring: 17.0\\n Wire: 100.0\",\"Ring: 18.0\\n Wire: 100.0\",\"Ring: 19.0\\n Wire: 108.0\",\"Ring: 20.0\\n Wire: 108.0\",\"Ring: 21.0\\n Wire: 122.0\",\"Ring: 22.0\\n Wire: 121.0\",\"Ring: 23.0\\n Wire: 129.0\",\"Ring: 24.0\\n Wire: 130.0\",\"Ring: 25.0\\n Wire: 136.0\",\"Ring: 26.0\\n Wire: 137.0\",\"Ring: 27.0\\n Wire: 145.0\",\"Ring: 28.0\\n Wire: 144.0\"],\"x\":[-2.38582807721764,-1.8003894961624967,-3.4468967938660087,-2.929194728822835,-3.5510106167647937,-2.9611317941228603,-4.644265012732695,-4.099974771502273,-6.615854017103493,-7.825329961672032,-8.03229180631788,-9.254938828781057,-8.628889362681427,-9.809025565201113,-11.180373621302508,-10.83661795408791,-11.985016414954362,-13.222118485395816,-14.282992605085195,-13.98509031018138,-14.187508818906052,-15.426475976391295,-16.559859015273926,-16.271083443185866,-18.934425500591818,-18.68762416439307,-19.66064844530691,-20.93304777569354],\"y\":[-10.45298137499345,-11.944779183899037,-13.34224758361335,-14.858828529888772,-16.992428759681204,-18.53592299239054,-20.352254020985594,-21.898422371156673,-23.236233828604686,-24.33181541987493,-26.254667578382627,-27.328539637920358,-30.17019045973365,-31.254493680449066,-32.56870065228398,-34.133813039376946,-35.68076706359452,-36.726163518083844,-38.12988282222093,-39.721262203142686,-41.42052573431052,-42.46144173860857,-43.81689151397516,-45.40779198231653,-46.68080902311503,-48.268301143197405,-49.60926671822565,-50.5863205202803],\"type\":\"scatter\",\"uid\":\"33c41c19-7026-4091-bea8-d5322d0d5c04\"}],                        {\"template\":{\"data\":{\"barpolar\":[{\"marker\":{\"line\":{\"color\":\"#E5ECF6\",\"width\":0.5},\"pattern\":{\"fillmode\":\"overlay\",\"size\":10,\"solidity\":0.2}},\"type\":\"barpolar\"}],\"bar\":[{\"error_x\":{\"color\":\"#2a3f5f\"},\"error_y\":{\"color\":\"#2a3f5f\"},\"marker\":{\"line\":{\"color\":\"#E5ECF6\",\"width\":0.5},\"pattern\":{\"fillmode\":\"overlay\",\"size\":10,\"solidity\":0.2}},\"type\":\"bar\"}],\"carpet\":[{\"aaxis\":{\"endlinecolor\":\"#2a3f5f\",\"gridcolor\":\"white\",\"linecolor\":\"white\",\"minorgridcolor\":\"white\",\"startlinecolor\":\"#2a3f5f\"},\"baxis\":{\"endlinecolor\":\"#2a3f5f\",\"gridcolor\":\"white\",\"linecolor\":\"white\",\"minorgridcolor\":\"white\",\"startlinecolor\":\"#2a3f5f\"},\"type\":\"carpet\"}],\"choropleth\":[{\"colorbar\":{\"outlinewidth\":0,\"ticks\":\"\"},\"type\":\"choropleth\"}],\"contourcarpet\":[{\"colorbar\":{\"outlinewidth\":0,\"ticks\":\"\"},\"type\":\"contourcarpet\"}],\"contour\":[{\"colorbar\":{\"outlinewidth\":0,\"ticks\":\"\"},\"colorscale\":[[0.0,\"#0d0887\"],[0.1111111111111111,\"#46039f\"],[0.2222222222222222,\"#7201a8\"],[0.3333333333333333,\"#9c179e\"],[0.4444444444444444,\"#bd3786\"],[0.5555555555555556,\"#d8576b\"],[0.6666666666666666,\"#ed7953\"],[0.7777777777777778,\"#fb9f3a\"],[0.8888888888888888,\"#fdca26\"],[1.0,\"#f0f921\"]],\"type\":\"contour\"}],\"heatmapgl\":[{\"colorbar\":{\"outlinewidth\":0,\"ticks\":\"\"},\"colorscale\":[[0.0,\"#0d0887\"],[0.1111111111111111,\"#46039f\"],[0.2222222222222222,\"#7201a8\"],[0.3333333333333333,\"#9c179e\"],[0.4444444444444444,\"#bd3786\"],[0.5555555555555556,\"#d8576b\"],[0.6666666666666666,\"#ed7953\"],[0.7777777777777778,\"#fb9f3a\"],[0.8888888888888888,\"#fdca26\"],[1.0,\"#f0f921\"]],\"type\":\"heatmapgl\"}],\"heatmap\":[{\"colorbar\":{\"outlinewidth\":0,\"ticks\":\"\"},\"colorscale\":[[0.0,\"#0d0887\"],[0.1111111111111111,\"#46039f\"],[0.2222222222222222,\"#7201a8\"],[0.3333333333333333,\"#9c179e\"],[0.4444444444444444,\"#bd3786\"],[0.5555555555555556,\"#d8576b\"],[0.6666666666666666,\"#ed7953\"],[0.7777777777777778,\"#fb9f3a\"],[0.8888888888888888,\"#fdca26\"],[1.0,\"#f0f921\"]],\"type\":\"heatmap\"}],\"histogram2dcontour\":[{\"colorbar\":{\"outlinewidth\":0,\"ticks\":\"\"},\"colorscale\":[[0.0,\"#0d0887\"],[0.1111111111111111,\"#46039f\"],[0.2222222222222222,\"#7201a8\"],[0.3333333333333333,\"#9c179e\"],[0.4444444444444444,\"#bd3786\"],[0.5555555555555556,\"#d8576b\"],[0.6666666666666666,\"#ed7953\"],[0.7777777777777778,\"#fb9f3a\"],[0.8888888888888888,\"#fdca26\"],[1.0,\"#f0f921\"]],\"type\":\"histogram2dcontour\"}],\"histogram2d\":[{\"colorbar\":{\"outlinewidth\":0,\"ticks\":\"\"},\"colorscale\":[[0.0,\"#0d0887\"],[0.1111111111111111,\"#46039f\"],[0.2222222222222222,\"#7201a8\"],[0.3333333333333333,\"#9c179e\"],[0.4444444444444444,\"#bd3786\"],[0.5555555555555556,\"#d8576b\"],[0.6666666666666666,\"#ed7953\"],[0.7777777777777778,\"#fb9f3a\"],[0.8888888888888888,\"#fdca26\"],[1.0,\"#f0f921\"]],\"type\":\"histogram2d\"}],\"histogram\":[{\"marker\":{\"pattern\":{\"fillmode\":\"overlay\",\"size\":10,\"solidity\":0.2}},\"type\":\"histogram\"}],\"mesh3d\":[{\"colorbar\":{\"outlinewidth\":0,\"ticks\":\"\"},\"type\":\"mesh3d\"}],\"parcoords\":[{\"line\":{\"colorbar\":{\"outlinewidth\":0,\"ticks\":\"\"}},\"type\":\"parcoords\"}],\"pie\":[{\"automargin\":true,\"type\":\"pie\"}],\"scatter3d\":[{\"line\":{\"colorbar\":{\"outlinewidth\":0,\"ticks\":\"\"}},\"marker\":{\"colorbar\":{\"outlinewidth\":0,\"ticks\":\"\"}},\"type\":\"scatter3d\"}],\"scattercarpet\":[{\"marker\":{\"colorbar\":{\"outlinewidth\":0,\"ticks\":\"\"}},\"type\":\"scattercarpet\"}],\"scattergeo\":[{\"marker\":{\"colorbar\":{\"outlinewidth\":0,\"ticks\":\"\"}},\"type\":\"scattergeo\"}],\"scattergl\":[{\"marker\":{\"colorbar\":{\"outlinewidth\":0,\"ticks\":\"\"}},\"type\":\"scattergl\"}],\"scattermapbox\":[{\"marker\":{\"colorbar\":{\"outlinewidth\":0,\"ticks\":\"\"}},\"type\":\"scattermapbox\"}],\"scatterpolargl\":[{\"marker\":{\"colorbar\":{\"outlinewidth\":0,\"ticks\":\"\"}},\"type\":\"scatterpolargl\"}],\"scatterpolar\":[{\"marker\":{\"colorbar\":{\"outlinewidth\":0,\"ticks\":\"\"}},\"type\":\"scatterpolar\"}],\"scatter\":[{\"fillpattern\":{\"fillmode\":\"overlay\",\"size\":10,\"solidity\":0.2},\"type\":\"scatter\"}],\"scatterternary\":[{\"marker\":{\"colorbar\":{\"outlinewidth\":0,\"ticks\":\"\"}},\"type\":\"scatterternary\"}],\"surface\":[{\"colorbar\":{\"outlinewidth\":0,\"ticks\":\"\"},\"colorscale\":[[0.0,\"#0d0887\"],[0.1111111111111111,\"#46039f\"],[0.2222222222222222,\"#7201a8\"],[0.3333333333333333,\"#9c179e\"],[0.4444444444444444,\"#bd3786\"],[0.5555555555555556,\"#d8576b\"],[0.6666666666666666,\"#ed7953\"],[0.7777777777777778,\"#fb9f3a\"],[0.8888888888888888,\"#fdca26\"],[1.0,\"#f0f921\"]],\"type\":\"surface\"}],\"table\":[{\"cells\":{\"fill\":{\"color\":\"#EBF0F8\"},\"line\":{\"color\":\"white\"}},\"header\":{\"fill\":{\"color\":\"#C8D4E3\"},\"line\":{\"color\":\"white\"}},\"type\":\"table\"}]},\"layout\":{\"annotationdefaults\":{\"arrowcolor\":\"#2a3f5f\",\"arrowhead\":0,\"arrowwidth\":1},\"autotypenumbers\":\"strict\",\"coloraxis\":{\"colorbar\":{\"outlinewidth\":0,\"ticks\":\"\"}},\"colorscale\":{\"diverging\":[[0,\"#8e0152\"],[0.1,\"#c51b7d\"],[0.2,\"#de77ae\"],[0.3,\"#f1b6da\"],[0.4,\"#fde0ef\"],[0.5,\"#f7f7f7\"],[0.6,\"#e6f5d0\"],[0.7,\"#b8e186\"],[0.8,\"#7fbc41\"],[0.9,\"#4d9221\"],[1,\"#276419\"]],\"sequential\":[[0.0,\"#0d0887\"],[0.1111111111111111,\"#46039f\"],[0.2222222222222222,\"#7201a8\"],[0.3333333333333333,\"#9c179e\"],[0.4444444444444444,\"#bd3786\"],[0.5555555555555556,\"#d8576b\"],[0.6666666666666666,\"#ed7953\"],[0.7777777777777778,\"#fb9f3a\"],[0.8888888888888888,\"#fdca26\"],[1.0,\"#f0f921\"]],\"sequentialminus\":[[0.0,\"#0d0887\"],[0.1111111111111111,\"#46039f\"],[0.2222222222222222,\"#7201a8\"],[0.3333333333333333,\"#9c179e\"],[0.4444444444444444,\"#bd3786\"],[0.5555555555555556,\"#d8576b\"],[0.6666666666666666,\"#ed7953\"],[0.7777777777777778,\"#fb9f3a\"],[0.8888888888888888,\"#fdca26\"],[1.0,\"#f0f921\"]]},\"colorway\":[\"#636efa\",\"#EF553B\",\"#00cc96\",\"#ab63fa\",\"#FFA15A\",\"#19d3f3\",\"#FF6692\",\"#B6E880\",\"#FF97FF\",\"#FECB52\"],\"font\":{\"color\":\"#2a3f5f\"},\"geo\":{\"bgcolor\":\"white\",\"lakecolor\":\"white\",\"landcolor\":\"#E5ECF6\",\"showlakes\":true,\"showland\":true,\"subunitcolor\":\"white\"},\"hoverlabel\":{\"align\":\"left\"},\"hovermode\":\"closest\",\"mapbox\":{\"style\":\"light\"},\"paper_bgcolor\":\"white\",\"plot_bgcolor\":\"#E5ECF6\",\"polar\":{\"angularaxis\":{\"gridcolor\":\"white\",\"linecolor\":\"white\",\"ticks\":\"\"},\"bgcolor\":\"#E5ECF6\",\"radialaxis\":{\"gridcolor\":\"white\",\"linecolor\":\"white\",\"ticks\":\"\"}},\"scene\":{\"xaxis\":{\"backgroundcolor\":\"#E5ECF6\",\"gridcolor\":\"white\",\"gridwidth\":2,\"linecolor\":\"white\",\"showbackground\":true,\"ticks\":\"\",\"zerolinecolor\":\"white\"},\"yaxis\":{\"backgroundcolor\":\"#E5ECF6\",\"gridcolor\":\"white\",\"gridwidth\":2,\"linecolor\":\"white\",\"showbackground\":true,\"ticks\":\"\",\"zerolinecolor\":\"white\"},\"zaxis\":{\"backgroundcolor\":\"#E5ECF6\",\"gridcolor\":\"white\",\"gridwidth\":2,\"linecolor\":\"white\",\"showbackground\":true,\"ticks\":\"\",\"zerolinecolor\":\"white\"}},\"shapedefaults\":{\"line\":{\"color\":\"#2a3f5f\"}},\"ternary\":{\"aaxis\":{\"gridcolor\":\"white\",\"linecolor\":\"white\",\"ticks\":\"\"},\"baxis\":{\"gridcolor\":\"white\",\"linecolor\":\"white\",\"ticks\":\"\"},\"bgcolor\":\"#E5ECF6\",\"caxis\":{\"gridcolor\":\"white\",\"linecolor\":\"white\",\"ticks\":\"\"}},\"title\":{\"x\":0.05},\"xaxis\":{\"automargin\":true,\"gridcolor\":\"white\",\"linecolor\":\"white\",\"ticks\":\"\",\"title\":{\"standoff\":15},\"zerolinecolor\":\"white\",\"zerolinewidth\":2},\"yaxis\":{\"automargin\":true,\"gridcolor\":\"white\",\"linecolor\":\"white\",\"ticks\":\"\",\"title\":{\"standoff\":15},\"zerolinecolor\":\"white\",\"zerolinewidth\":2}}},\"xaxis\":{\"range\":[-60,60],\"title\":{\"text\":\"X\"}},\"yaxis\":{\"range\":[-60,60],\"title\":{\"text\":\"Y\"}},\"width\":500,\"height\":500,\"showlegend\":false,\"title\":{\"text\":\"Positions of Hits\"},\"shapes\":[{\"line\":{\"color\":\"black\"},\"type\":\"circle\",\"x0\":-10.5,\"x1\":10.5,\"xref\":\"x\",\"y0\":-10.5,\"y1\":10.5,\"yref\":\"y\"},{\"line\":{\"color\":\"black\"},\"type\":\"circle\",\"x0\":-55,\"x1\":55,\"xref\":\"x\",\"y0\":-55,\"y1\":55,\"yref\":\"y\"}]},                        {\"responsive\": true}                    ).then(function(){\n                            \nvar gd = document.getElementById('138b01bd-cc2e-4ed8-a218-47dbcffa70e7');\nvar x = new MutationObserver(function (mutations, observer) {{\n        var display = window.getComputedStyle(gd).display;\n        if (!display || display === 'none') {{\n            console.log([gd, 'removed!']);\n            Plotly.purge(gd);\n            observer.disconnect();\n        }}\n}});\n\n// Listen for the removal of the full notebook cells\nvar notebookContainer = gd.closest('#notebook-container');\nif (notebookContainer) {{\n    x.observe(notebookContainer, {childList: true});\n}}\n\n// Listen for the clearing of the current output cell\nvar outputEl = gd.closest('.output');\nif (outputEl) {{\n    x.observe(outputEl, {childList: true});\n}}\n\n                        })                };                            </script>        </div>\n</body>\n</html>"
                },
                "metadata": {}
              }
            ]
          }
        },
        "e26d92d962e846d0b5d67d95dae8f1fe": {
          "model_module": "@jupyter-widgets/base",
          "model_name": "LayoutModel",
          "model_module_version": "1.2.0",
          "state": {
            "_model_module": "@jupyter-widgets/base",
            "_model_module_version": "1.2.0",
            "_model_name": "LayoutModel",
            "_view_count": null,
            "_view_module": "@jupyter-widgets/base",
            "_view_module_version": "1.2.0",
            "_view_name": "LayoutView",
            "align_content": null,
            "align_items": null,
            "align_self": null,
            "border": null,
            "bottom": null,
            "display": null,
            "flex": null,
            "flex_flow": null,
            "grid_area": null,
            "grid_auto_columns": null,
            "grid_auto_flow": null,
            "grid_auto_rows": null,
            "grid_column": null,
            "grid_gap": null,
            "grid_row": null,
            "grid_template_areas": null,
            "grid_template_columns": null,
            "grid_template_rows": null,
            "height": null,
            "justify_content": null,
            "justify_items": null,
            "left": null,
            "margin": null,
            "max_height": null,
            "max_width": null,
            "min_height": null,
            "min_width": null,
            "object_fit": null,
            "object_position": null,
            "order": null,
            "overflow": null,
            "overflow_x": null,
            "overflow_y": null,
            "padding": null,
            "right": null,
            "top": null,
            "visibility": null,
            "width": null
          }
        },
        "645927c7fba04e5583875c36952d6179": {
          "model_module": "@jupyter-widgets/controls",
          "model_name": "FloatSliderModel",
          "model_module_version": "1.5.0",
          "state": {
            "_dom_classes": [],
            "_model_module": "@jupyter-widgets/controls",
            "_model_module_version": "1.5.0",
            "_model_name": "FloatSliderModel",
            "_view_count": null,
            "_view_module": "@jupyter-widgets/controls",
            "_view_module_version": "1.5.0",
            "_view_name": "FloatSliderView",
            "continuous_update": true,
            "description": "z0",
            "description_tooltip": null,
            "disabled": false,
            "layout": "IPY_MODEL_b10a12a55b2840db855af3aefd4f027c",
            "max": 175,
            "min": 0,
            "orientation": "horizontal",
            "readout": true,
            "readout_format": ".2f",
            "step": 0.1,
            "style": "IPY_MODEL_bcae90f1a9504169800c9314b017ccb3",
            "value": 130
          }
        },
        "14cb1538079d402ab4092d54f8286a37": {
          "model_module": "@jupyter-widgets/base",
          "model_name": "LayoutModel",
          "model_module_version": "1.2.0",
          "state": {
            "_model_module": "@jupyter-widgets/base",
            "_model_module_version": "1.2.0",
            "_model_name": "LayoutModel",
            "_view_count": null,
            "_view_module": "@jupyter-widgets/base",
            "_view_module_version": "1.2.0",
            "_view_name": "LayoutView",
            "align_content": null,
            "align_items": null,
            "align_self": null,
            "border": null,
            "bottom": null,
            "display": null,
            "flex": null,
            "flex_flow": "row wrap",
            "grid_area": null,
            "grid_auto_columns": null,
            "grid_auto_flow": null,
            "grid_auto_rows": null,
            "grid_column": null,
            "grid_gap": null,
            "grid_row": null,
            "grid_template_areas": null,
            "grid_template_columns": null,
            "grid_template_rows": null,
            "height": null,
            "justify_content": null,
            "justify_items": null,
            "left": null,
            "margin": null,
            "max_height": null,
            "max_width": null,
            "min_height": null,
            "min_width": null,
            "object_fit": null,
            "object_position": null,
            "order": null,
            "overflow": null,
            "overflow_x": null,
            "overflow_y": null,
            "padding": null,
            "right": null,
            "top": null,
            "visibility": null,
            "width": null
          }
        },
        "59f63e5e1c01407bac92f93e87da811b": {
          "model_module": "@jupyter-widgets/base",
          "model_name": "LayoutModel",
          "model_module_version": "1.2.0",
          "state": {
            "_model_module": "@jupyter-widgets/base",
            "_model_module_version": "1.2.0",
            "_model_name": "LayoutModel",
            "_view_count": null,
            "_view_module": "@jupyter-widgets/base",
            "_view_module_version": "1.2.0",
            "_view_name": "LayoutView",
            "align_content": null,
            "align_items": null,
            "align_self": null,
            "border": null,
            "bottom": null,
            "display": null,
            "flex": null,
            "flex_flow": null,
            "grid_area": null,
            "grid_auto_columns": null,
            "grid_auto_flow": null,
            "grid_auto_rows": null,
            "grid_column": null,
            "grid_gap": null,
            "grid_row": null,
            "grid_template_areas": null,
            "grid_template_columns": null,
            "grid_template_rows": null,
            "height": null,
            "justify_content": null,
            "justify_items": null,
            "left": null,
            "margin": null,
            "max_height": null,
            "max_width": null,
            "min_height": null,
            "min_width": null,
            "object_fit": null,
            "object_position": null,
            "order": null,
            "overflow": null,
            "overflow_x": null,
            "overflow_y": null,
            "padding": null,
            "right": null,
            "top": null,
            "visibility": null,
            "width": null
          }
        },
        "b10a12a55b2840db855af3aefd4f027c": {
          "model_module": "@jupyter-widgets/base",
          "model_name": "LayoutModel",
          "model_module_version": "1.2.0",
          "state": {
            "_model_module": "@jupyter-widgets/base",
            "_model_module_version": "1.2.0",
            "_model_name": "LayoutModel",
            "_view_count": null,
            "_view_module": "@jupyter-widgets/base",
            "_view_module_version": "1.2.0",
            "_view_name": "LayoutView",
            "align_content": null,
            "align_items": null,
            "align_self": null,
            "border": null,
            "bottom": null,
            "display": null,
            "flex": null,
            "flex_flow": null,
            "grid_area": null,
            "grid_auto_columns": null,
            "grid_auto_flow": null,
            "grid_auto_rows": null,
            "grid_column": null,
            "grid_gap": null,
            "grid_row": null,
            "grid_template_areas": null,
            "grid_template_columns": null,
            "grid_template_rows": null,
            "height": null,
            "justify_content": null,
            "justify_items": null,
            "left": null,
            "margin": null,
            "max_height": null,
            "max_width": null,
            "min_height": null,
            "min_width": null,
            "object_fit": null,
            "object_position": null,
            "order": null,
            "overflow": null,
            "overflow_x": null,
            "overflow_y": null,
            "padding": null,
            "right": null,
            "top": null,
            "visibility": null,
            "width": null
          }
        },
        "bcae90f1a9504169800c9314b017ccb3": {
          "model_module": "@jupyter-widgets/controls",
          "model_name": "SliderStyleModel",
          "model_module_version": "1.5.0",
          "state": {
            "_model_module": "@jupyter-widgets/controls",
            "_model_module_version": "1.5.0",
            "_model_name": "SliderStyleModel",
            "_view_count": null,
            "_view_module": "@jupyter-widgets/base",
            "_view_module_version": "1.2.0",
            "_view_name": "StyleView",
            "description_width": "",
            "handle_color": null
          }
        },
        "9394c0b232f947e281fad2c1b0e819d6": {
          "model_module": "@jupyter-widgets/controls",
          "model_name": "VBoxModel",
          "model_module_version": "1.5.0",
          "state": {
            "_dom_classes": [],
            "_model_module": "@jupyter-widgets/controls",
            "_model_module_version": "1.5.0",
            "_model_name": "VBoxModel",
            "_view_count": null,
            "_view_module": "@jupyter-widgets/controls",
            "_view_module_version": "1.5.0",
            "_view_name": "VBoxView",
            "box_style": "",
            "children": [
              "IPY_MODEL_d293111887e34bb0845c630c939d9095",
              "IPY_MODEL_ba7afb5e999b40378610f95cd9a5e885"
            ],
            "layout": "IPY_MODEL_49cd94346c1e4285962586d05a14249b"
          }
        },
        "d293111887e34bb0845c630c939d9095": {
          "model_module": "@jupyter-widgets/controls",
          "model_name": "HBoxModel",
          "model_module_version": "1.5.0",
          "state": {
            "_dom_classes": [],
            "_model_module": "@jupyter-widgets/controls",
            "_model_module_version": "1.5.0",
            "_model_name": "HBoxModel",
            "_view_count": null,
            "_view_module": "@jupyter-widgets/controls",
            "_view_module_version": "1.5.0",
            "_view_name": "HBoxView",
            "box_style": "",
            "children": [
              "IPY_MODEL_f9422fb8adb54fc1a19c3f1f1cfe2d1c"
            ],
            "layout": "IPY_MODEL_83756d05f0a94677a2e449f6edf2bdce"
          }
        },
        "ba7afb5e999b40378610f95cd9a5e885": {
          "model_module": "@jupyter-widgets/output",
          "model_name": "OutputModel",
          "model_module_version": "1.0.0",
          "state": {
            "_dom_classes": [],
            "_model_module": "@jupyter-widgets/output",
            "_model_module_version": "1.0.0",
            "_model_name": "OutputModel",
            "_view_count": null,
            "_view_module": "@jupyter-widgets/output",
            "_view_module_version": "1.0.0",
            "_view_name": "OutputView",
            "layout": "IPY_MODEL_5d1b5f0364ea420d9aae0aff52e964ad",
            "msg_id": "",
            "outputs": [
              {
                "output_type": "display_data",
                "data": {
                  "text/html": "<html>\n<head><meta charset=\"utf-8\" /></head>\n<body>\n    <div>            <script src=\"https://cdnjs.cloudflare.com/ajax/libs/mathjax/2.7.5/MathJax.js?config=TeX-AMS-MML_SVG\"></script><script type=\"text/javascript\">if (window.MathJax && window.MathJax.Hub && window.MathJax.Hub.Config) {window.MathJax.Hub.Config({SVG: {font: \"STIX-Web\"}});}</script>                <script type=\"text/javascript\">window.PlotlyConfig = {MathJaxConfig: 'local'};</script>\n        <script charset=\"utf-8\" src=\"https://cdn.plot.ly/plotly-2.24.1.min.js\"></script>                <div id=\"5a2b51ab-516d-458e-8a60-78c5b534289e\" class=\"plotly-graph-div\" style=\"height:500px; width:500px;\"></div>            <script type=\"text/javascript\">                                    window.PLOTLYENV=window.PLOTLYENV || {};                                    if (document.getElementById(\"5a2b51ab-516d-458e-8a60-78c5b534289e\")) {                    Plotly.newPlot(                        \"5a2b51ab-516d-458e-8a60-78c5b534289e\",                        [{\"hoverinfo\":\"text\",\"marker\":{\"size\":3},\"mode\":\"markers\",\"text\":[\"Ring: 1.0\\n Wire: 20.0\",\"Ring: 2.0\\n Wire: 19.0\",\"Ring: 3.0\\n Wire: 25.0\",\"Ring: 4.0\\n Wire: 24.0\",\"Ring: 5.0\\n Wire: 33.0\",\"Ring: 6.0\\n Wire: 34.0\",\"Ring: 7.0\\n Wire: 39.0\",\"Ring: 8.0\\n Wire: 40.0\",\"Ring: 9.0\\n Wire: 37.0\",\"Ring: 10.0\\n Wire: 37.0\",\"Ring: 11.0\\n Wire: 43.0\",\"Ring: 12.0\\n Wire: 42.0\",\"Ring: 13.0\\n Wire: 53.0\",\"Ring: 14.0\\n Wire: 53.0\",\"Ring: 15.0\\n Wire: 58.0\",\"Ring: 16.0\\n Wire: 58.0\",\"Ring: 17.0\\n Wire: 58.0\",\"Ring: 18.0\\n Wire: 59.0\",\"Ring: 19.0\\n Wire: 63.0\",\"Ring: 20.0\\n Wire: 63.0\",\"Ring: 21.0\\n Wire: 76.0\",\"Ring: 22.0\\n Wire: 75.0\",\"Ring: 23.0\\n Wire: 80.0\",\"Ring: 24.0\\n Wire: 80.0\",\"Ring: 25.0\\n Wire: 81.0\",\"Ring: 26.0\\n Wire: 82.0\",\"Ring: 27.0\\n Wire: 86.0\",\"Ring: 28.0\\n Wire: 85.0\"],\"x\":[-9.660009121379511,-11.2446766558334,-12.760470289680093,-14.332720367389975,-16.5394551037248,-18.082325998606926,-19.89494976390197,-20.985957145361994,-22.673519571813813,-24.249570686160943,-25.982589798201033,-27.551451392559585,-30.238259383117445,-31.77911830445207,-33.25266222648745,-34.790832500337125,-37.033557127460774,-38.52905880502631,-40.26380429186096,-41.74083750797821,-42.28520449474748,-43.415917009143044,-45.26295235015386,-46.80930697974604],\"y\":[-4.652012361856386,-4.413207336592672,-5.202601856397597,-4.892657142106381,-4.243905264174358,-3.7328274246547126,-5.494216104343917,-6.692689140567847,-7.73405408605286,-7.367261281372302,-8.303150255043853,-7.912715338461439,-8.387239920814821,-7.946571433746713,-8.943236066499335,-8.493965812474537,-5.9569622011990555,-5.349831774962445,-5.189402779331557,-4.538063696672322,-10.914157544071028,-12.065945861190364,-11.645859889553737,-11.185955031385628],\"type\":\"scatter\",\"uid\":\"30d33362-6899-433f-821c-5708b941cd07\"},{\"marker\":{\"color\":\"red\"},\"mode\":\"lines\",\"name\":\"track\",\"type\":\"scatter\",\"uid\":\"22cdeb99-aa4c-4c3b-a852-2929b448b54d\",\"x\":[0.0,0.0,0.0,0.0,0.0,0.0,0.0,0.0,0.0,0.0,0.0,0.0,0.0,0.0,0.0,0.0,0.0,0.0,0.0,0.0,0.0,0.0,0.0,0.0,0.0,0.0,0.0,0.0,0.0,0.0,0.0,0.0,0.0,0.0,0.0,0.0,0.0,0.0,0.0,0.0,0.0,0.0,0.0,0.0,0.0,0.0,0.0,0.0,0.0,0.0,0.0,0.0,0.0,0.0,0.0,0.0,0.0,0.0,0.0,0.0,0.0,0.0,0.0,0.0,0.0,0.0,0.0,0.0,0.0,0.0,0.0,0.0,0.0,0.0,0.0,0.0,0.0,0.0,0.0,0.0,0.0,0.0,0.0,0.0,0.0,0.0,0.0,0.0,0.0,0.0,0.0,0.0,0.0,0.0,0.0,0.0,0.0,0.0,0.0,0.0,0.0,0.0,0.0,0.0,0.0,0.0,0.0,0.0,0.0,0.0,0.0,0.0,0.0,0.0,0.0,0.0,0.0,0.0,0.0,0.0,0.0,0.0,0.0,0.0,0.0,0.0,0.0,0.0,0.0,0.0,0.0,0.0,0.0,0.0,0.0,0.0,0.0,0.0,0.0,0.0,0.0,0.0,0.0,0.0,0.0,0.0,0.0,0.0,0.0,0.0,0.0,0.0,0.0,0.0,0.0,0.0,0.0,0.0,0.0,0.0,0.0,0.0,0.0,0.0,0.0,0.0,0.0,0.0,0.0,0.0,0.0,0.0,0.0,0.0,0.0,0.0,0.0,0.0,0.0,0.0,0.0,0.0,0.0,0.0,0.0,0.0,0.0,0.0,0.0,0.0,0.0,0.0,0.0,0.0,0.0,0.0,0.0,0.0,0.0,0.0,0.0,0.0,0.0,0.0,0.0,0.0,0.0,0.0,0.0,0.0,0.0,0.0,0.0,0.0,0.0,0.0,0.0,0.0,0.0,0.0,0.0,0.0,0.0,0.0,0.0,0.0,0.0,0.0,0.0,0.0,0.0,0.0,0.0,0.0,0.0,0.0,0.0,0.0,0.0,0.0,0.0,0.0,0.0,0.0,0.0,0.0,0.0,0.0,0.0,0.0,0.0,0.0,0.0,0.0,0.0,0.0,0.0,0.0,0.0,0.0,0.0,0.0,0.0,0.0,0.0,0.0,0.0,0.0,0.0,0.0,0.0,0.0,0.0,0.0,0.0,0.0,0.0,0.0,0.0,0.0,0.0,0.0,0.0,0.0,0.0,0.0,0.0,0.0,0.0,0.0,0.0,0.0,0.0,0.0,0.0,0.0,0.0,0.0,0.0,0.0,0.0,0.0,0.0,0.0,0.0,0.0,0.0,0.0,0.0,0.0,0.0,0.0,0.0,0.0,0.0,0.0,0.0,0.0,0.0,0.0,0.0,0.0,0.0,0.0,0.0,0.0,0.0,0.0,0.0,0.0,0.0,0.0,0.0,0.0,0.0,0.0,0.0,0.0,0.0,0.0,0.0,0.0,0.0,0.0,0.0,0.0,0.0,0.0,0.0,0.0,0.0,0.0,0.0,0.0,0.0,0.0,0.0,0.0,0.0,0.0,0.0,0.0,0.0,0.0,0.0,0.0,0.0,0.0,0.0,0.0,0.0,0.0,0.0,0.0,0.0,0.0,0.0,0.0,0.0,0.0,0.0,0.0,0.0,0.0,0.0,0.0,0.0,0.0,0.0,0.0,0.0,0.0,0.0,0.0,0.0,0.0,0.0,0.0,0.0,0.0,0.0,0.0,0.0,0.0,0.0,0.0,0.0,0.0,0.0,0.0,0.0,0.0,0.0,0.0,0.0,0.0,0.0,0.0,0.0,0.0,0.0,0.0,0.0,0.0,0.0,0.0,0.0,0.0,0.0,0.0,0.0,0.0,0.0,0.0,0.0,0.0,0.0,0.0,0.0,0.0,0.0,0.0,0.0,0.0,0.0,0.0,0.0,0.0,0.0,0.0,0.0,0.0,0.0,0.0,0.0,0.0,0.0,0.0,0.0,0.0,0.0,0.0,0.0,0.0,0.0,0.0,0.0,0.0,0.0,0.0,0.0,0.0,0.0,0.0,0.0,0.0,0.0,0.0,0.0,0.0,0.0,0.0,0.0,0.0,0.0,0.0,0.0,0.0,0.0,0.0,0.0,0.0,0.0,0.0,0.0,0.0,0.0,0.0,0.0,0.0,0.0,0.0,0.0,0.0,0.0,0.0,0.0,0.0,0.0,0.0,0.0,0.0,0.0,0.0,0.0,0.0,0.0,0.0,0.0,0.0,0.0,0.0,0.0,0.0,0.0,0.0,0.0,0.0,0.0,0.0,0.0,0.0,0.0,0.0,0.0,0.0,0.0,0.0,0.0,0.0,0.0,0.0,0.0,0.0,0.0,0.0,0.0,0.0,0.0,0.0,0.0,0.0,0.0,0.0,0.0,0.0,0.0,0.0,0.0,0.0,0.0,0.0,0.0,0.0,0.0,0.0,0.0,0.0,0.0,0.0,0.0,0.0,0.0,0.0,0.0,0.0,0.0,0.0,0.0,0.0,0.0,0.0,0.0,0.0,0.0,0.0,0.0,0.0,0.0,0.0,0.0,0.0,0.0,0.0,0.0,0.0,0.0,0.0,0.0,0.0,0.0,0.0,0.0,0.0,0.0,0.0,0.0,0.0,0.0,0.0,0.0,0.0,0.0,0.0,0.0,0.0,0.0,0.0,0.0,0.0,0.0,0.0,0.0,0.0,0.0,0.0,0.0,0.0,0.0,0.0,0.0,0.0,0.0,0.0,0.0,0.0,0.0,0.0,0.0,0.0,0.0,0.0,0.0,0.0,0.0,0.0,0.0,0.0,0.0,0.0,0.0,0.0,0.0,0.0,0.0,0.0,0.0,0.0,0.0,0.0,0.0,0.0,0.0,0.0,0.0,0.0,0.0,0.0,0.0,0.0,0.0,0.0,0.0,0.0,0.0,0.0,0.0,0.0,0.0,0.0,0.0,0.0,0.0,0.0,0.0,0.0,0.0,0.0,0.0,0.0,0.0,0.0,0.0,0.0,0.0,0.0,0.0,0.0,0.0,0.0,0.0,0.0,0.0,0.0,0.0,0.0,0.0,0.0,0.0,0.0,0.0,0.0,0.0,0.0,0.0,0.0,0.0,0.0,0.0,0.0,0.0,0.0,0.0,0.0,0.0,0.0,0.0,0.0,0.0,0.0,0.0,0.0,0.0,0.0,0.0,0.0,0.0,0.0,0.0,0.0,0.0,0.0,0.0,0.0,0.0,0.0,0.0,0.0,0.0,0.0,0.0,0.0,0.0,0.0,0.0,0.0,0.0,0.0,0.0,0.0,0.0,0.0,0.0,0.0,0.0,0.0,0.0,0.0,0.0,0.0,0.0,0.0,0.0,0.0,0.0,0.0,0.0,0.0,0.0,0.0,0.0,0.0,0.0,0.0,0.0,0.0,0.0,0.0,0.0,0.0,0.0,0.0,0.0,0.0,0.0,0.0,0.0,0.0,0.0,0.0,0.0,0.0,0.0,0.0,0.0,0.0,0.0,0.0,0.0,0.0,0.0,0.0,0.0,0.0,0.0,0.0,0.0,0.0,0.0,0.0,0.0,0.0,0.0,0.0,0.0,0.0,0.0,0.0,0.0,0.0,0.0,0.0,0.0,0.0,0.0,0.0,0.0,0.0,0.0,0.0,0.0,0.0,0.0,0.0,0.0,0.0,0.0,0.0,0.0,0.0,0.0,0.0,0.0,0.0,0.0,0.0,0.0,0.0,0.0,0.0,0.0,0.0,0.0,0.0,0.0,0.0,0.0,0.0,0.0,0.0,0.0,0.0,0.0,0.0,0.0,0.0,0.0,0.0,0.0,0.0,0.0,0.0,0.0,0.0,0.0,0.0,0.0,0.0,0.0,0.0,0.0,0.0,0.0,0.0,0.0,0.0,0.0,0.0,0.0,0.0,0.0,0.0,0.0,0.0,0.0,0.0,0.0,0.0,0.0,0.0,0.0,0.0,0.0,0.0,0.0,0.0,0.0,0.0,0.0,0.0,0.0,0.0,0.0,0.0,0.0,0.0,0.0,0.0,0.0,0.0,0.0,0.0,0.0,0.0,0.0,0.0,0.0,0.0,0.0,0.0,0.0,0.0,0.0,0.0,0.0,0.0,0.0,0.0,0.0,0.0,0.0,0.0,0.0,0.0,0.0,0.0,0.0,0.0,0.0,0.0,0.0,0.0,0.0,0.0,0.0,0.0,0.0,0.0,0.0,0.0,0.0,0.0,0.0,0.0,0.0,0.0,0.0,0.0,0.0,0.0,0.0,0.0,0.0,0.0,0.0,0.0,0.0,0.0,0.0,0.0,0.0,0.0,0.0,0.0,0.0,0.0,0.0,0.0,0.0,0.0],\"y\":[0.0,0.0,0.0,0.0,0.0,0.0,0.0,0.0,0.0,0.0,0.0,0.0,0.0,0.0,0.0,0.0,0.0,0.0,0.0,0.0,0.0,0.0,0.0,0.0,0.0,0.0,0.0,0.0,0.0,0.0,0.0,0.0,0.0,0.0,0.0,0.0,0.0,0.0,0.0,0.0,0.0,0.0,0.0,0.0,0.0,0.0,0.0,0.0,0.0,0.0,0.0,0.0,0.0,0.0,0.0,0.0,0.0,0.0,0.0,0.0,0.0,0.0,0.0,0.0,0.0,0.0,0.0,0.0,0.0,0.0,0.0,0.0,0.0,0.0,0.0,0.0,0.0,0.0,0.0,0.0,0.0,0.0,0.0,0.0,0.0,0.0,0.0,0.0,0.0,0.0,0.0,0.0,0.0,0.0,0.0,0.0,0.0,0.0,0.0,0.0,0.0,0.0,0.0,0.0,0.0,0.0,0.0,0.0,0.0,0.0,0.0,0.0,0.0,0.0,0.0,0.0,0.0,0.0,0.0,0.0,0.0,0.0,0.0,0.0,0.0,0.0,0.0,0.0,0.0,0.0,0.0,0.0,0.0,0.0,0.0,0.0,0.0,0.0,0.0,0.0,0.0,0.0,0.0,0.0,0.0,0.0,0.0,0.0,0.0,0.0,0.0,0.0,0.0,0.0,0.0,0.0,0.0,0.0,0.0,0.0,0.0,0.0,0.0,0.0,0.0,0.0,0.0,0.0,0.0,0.0,0.0,0.0,0.0,0.0,0.0,0.0,0.0,0.0,0.0,0.0,0.0,0.0,0.0,0.0,0.0,0.0,0.0,0.0,0.0,0.0,0.0,0.0,0.0,0.0,0.0,0.0,0.0,0.0,0.0,0.0,0.0,0.0,0.0,0.0,0.0,0.0,0.0,0.0,0.0,0.0,0.0,0.0,0.0,0.0,0.0,0.0,0.0,0.0,0.0,0.0,0.0,0.0,0.0,0.0,0.0,0.0,0.0,0.0,0.0,0.0,0.0,0.0,0.0,0.0,0.0,0.0,0.0,0.0,0.0,0.0,0.0,0.0,0.0,0.0,0.0,0.0,0.0,0.0,0.0,0.0,0.0,0.0,0.0,0.0,0.0,0.0,0.0,0.0,0.0,0.0,0.0,0.0,0.0,0.0,0.0,0.0,0.0,0.0,0.0,0.0,0.0,0.0,0.0,0.0,0.0,0.0,0.0,0.0,0.0,0.0,0.0,0.0,0.0,0.0,0.0,0.0,0.0,0.0,0.0,0.0,0.0,0.0,0.0,0.0,0.0,0.0,0.0,0.0,0.0,0.0,0.0,0.0,0.0,0.0,0.0,0.0,0.0,0.0,0.0,0.0,0.0,0.0,0.0,0.0,0.0,0.0,0.0,0.0,0.0,0.0,0.0,0.0,0.0,0.0,0.0,0.0,0.0,0.0,0.0,0.0,0.0,0.0,0.0,0.0,0.0,0.0,0.0,0.0,0.0,0.0,0.0,0.0,0.0,0.0,0.0,0.0,0.0,0.0,0.0,0.0,0.0,0.0,0.0,0.0,0.0,0.0,0.0,0.0,0.0,0.0,0.0,0.0,0.0,0.0,0.0,0.0,0.0,0.0,0.0,0.0,0.0,0.0,0.0,0.0,0.0,0.0,0.0,0.0,0.0,0.0,0.0,0.0,0.0,0.0,0.0,0.0,0.0,0.0,0.0,0.0,0.0,0.0,0.0,0.0,0.0,0.0,0.0,0.0,0.0,0.0,0.0,0.0,0.0,0.0,0.0,0.0,0.0,0.0,0.0,0.0,0.0,0.0,0.0,0.0,0.0,0.0,0.0,0.0,0.0,0.0,0.0,0.0,0.0,0.0,0.0,0.0,0.0,0.0,0.0,0.0,0.0,0.0,0.0,0.0,0.0,0.0,0.0,0.0,0.0,0.0,0.0,0.0,0.0,0.0,0.0,0.0,0.0,0.0,0.0,0.0,0.0,0.0,0.0,0.0,0.0,0.0,0.0,0.0,0.0,0.0,0.0,0.0,0.0,0.0,0.0,0.0,0.0,0.0,0.0,0.0,0.0,0.0,0.0,0.0,0.0,0.0,0.0,0.0,0.0,0.0,0.0,0.0,0.0,0.0,0.0,0.0,0.0,0.0,0.0,0.0,0.0,0.0,0.0,0.0,0.0,0.0,0.0,0.0,0.0,0.0,0.0,0.0,0.0,0.0,0.0,0.0,0.0,0.0,0.0,0.0,0.0,0.0,0.0,0.0,0.0,0.0,0.0,0.0,0.0,0.0,0.0,0.0,0.0,0.0,0.0,0.0,0.0,0.0,0.0,0.0,0.0,0.0,0.0,0.0,0.0,0.0,0.0,0.0,0.0,0.0,0.0,0.0,0.0,0.0,0.0,0.0,0.0,0.0,0.0,0.0,0.0,0.0,0.0,0.0,0.0,0.0,0.0,0.0,0.0,0.0,0.0,0.0,0.0,0.0,0.0,0.0,0.0,0.0,0.0,0.0,0.0,0.0,0.0,0.0,0.0,0.0,0.0,0.0,0.0,0.0,0.0,0.0,0.0,0.0,0.0,0.0,0.0,0.0,0.0,0.0,0.0,0.0,0.0,0.0,0.0,0.0,0.0,0.0,0.0,0.0,0.0,0.0,0.0,0.0,0.0,0.0,0.0,0.0,0.0,0.0,0.0,0.0,0.0,0.0,0.0,0.0,0.0,0.0,0.0,0.0,0.0,0.0,0.0,0.0,0.0,0.0,0.0,0.0,0.0,0.0,0.0,0.0,0.0,0.0,0.0,0.0,0.0,0.0,0.0,0.0,0.0,0.0,0.0,0.0,0.0,0.0,0.0,0.0,0.0,0.0,0.0,0.0,0.0,0.0,0.0,0.0,0.0,0.0,0.0,0.0,0.0,0.0,0.0,0.0,0.0,0.0,0.0,0.0,0.0,0.0,0.0,0.0,0.0,0.0,0.0,0.0,0.0,0.0,0.0,0.0,0.0,0.0,0.0,0.0,0.0,0.0,0.0,0.0,0.0,0.0,0.0,0.0,0.0,0.0,0.0,0.0,0.0,0.0,0.0,0.0,0.0,0.0,0.0,0.0,0.0,0.0,0.0,0.0,0.0,0.0,0.0,0.0,0.0,0.0,0.0,0.0,0.0,0.0,0.0,0.0,0.0,0.0,0.0,0.0,0.0,0.0,0.0,0.0,0.0,0.0,0.0,0.0,0.0,0.0,0.0,0.0,0.0,0.0,0.0,0.0,0.0,0.0,0.0,0.0,0.0,0.0,0.0,0.0,0.0,0.0,0.0,0.0,0.0,0.0,0.0,0.0,0.0,0.0,0.0,0.0,0.0,0.0,0.0,0.0,0.0,0.0,0.0,0.0,0.0,0.0,0.0,0.0,0.0,0.0,0.0,0.0,0.0,0.0,0.0,0.0,0.0,0.0,0.0,0.0,0.0,0.0,0.0,0.0,0.0,0.0,0.0,0.0,0.0,0.0,0.0,0.0,0.0,0.0,0.0,0.0,0.0,0.0,0.0,0.0,0.0,0.0,0.0,0.0,0.0,0.0,0.0,0.0,0.0,0.0,0.0,0.0,0.0,0.0,0.0,0.0,0.0,0.0,0.0,0.0,0.0,0.0,0.0,0.0,0.0,0.0,0.0,0.0,0.0,0.0,0.0,0.0,0.0,0.0,0.0,0.0,0.0,0.0,0.0,0.0,0.0,0.0,0.0,0.0,0.0,0.0,0.0,0.0,0.0,0.0,0.0,0.0,0.0,0.0,0.0,0.0,0.0,0.0,0.0,0.0,0.0,0.0,0.0,0.0,0.0,0.0,0.0,0.0,0.0,0.0,0.0,0.0,0.0,0.0,0.0,0.0,0.0,0.0,0.0,0.0,0.0,0.0,0.0,0.0,0.0,0.0,0.0,0.0,0.0,0.0,0.0,0.0,0.0,0.0,0.0,0.0,0.0,0.0,0.0,0.0,0.0,0.0,0.0,0.0,0.0,0.0,0.0,0.0,0.0,0.0,0.0,0.0,0.0,0.0,0.0,0.0,0.0,0.0,0.0,0.0,0.0,0.0,0.0,0.0,0.0,0.0,0.0,0.0,0.0,0.0,0.0,0.0,0.0,0.0,0.0,0.0,0.0,0.0,0.0,0.0,0.0,0.0,0.0,0.0,0.0,0.0,0.0,0.0,0.0,0.0,0.0,0.0,0.0,0.0,0.0,0.0,0.0,0.0,0.0,0.0,0.0,0.0,0.0,0.0,0.0,0.0,0.0,0.0,0.0,0.0,0.0,0.0,0.0,0.0,0.0,0.0,0.0,0.0,0.0,0.0,0.0,0.0,0.0,0.0,0.0,0.0,0.0,0.0,0.0,0.0,0.0,0.0,0.0,0.0,0.0,0.0]}],                        {\"template\":{\"data\":{\"barpolar\":[{\"marker\":{\"line\":{\"color\":\"#E5ECF6\",\"width\":0.5},\"pattern\":{\"fillmode\":\"overlay\",\"size\":10,\"solidity\":0.2}},\"type\":\"barpolar\"}],\"bar\":[{\"error_x\":{\"color\":\"#2a3f5f\"},\"error_y\":{\"color\":\"#2a3f5f\"},\"marker\":{\"line\":{\"color\":\"#E5ECF6\",\"width\":0.5},\"pattern\":{\"fillmode\":\"overlay\",\"size\":10,\"solidity\":0.2}},\"type\":\"bar\"}],\"carpet\":[{\"aaxis\":{\"endlinecolor\":\"#2a3f5f\",\"gridcolor\":\"white\",\"linecolor\":\"white\",\"minorgridcolor\":\"white\",\"startlinecolor\":\"#2a3f5f\"},\"baxis\":{\"endlinecolor\":\"#2a3f5f\",\"gridcolor\":\"white\",\"linecolor\":\"white\",\"minorgridcolor\":\"white\",\"startlinecolor\":\"#2a3f5f\"},\"type\":\"carpet\"}],\"choropleth\":[{\"colorbar\":{\"outlinewidth\":0,\"ticks\":\"\"},\"type\":\"choropleth\"}],\"contourcarpet\":[{\"colorbar\":{\"outlinewidth\":0,\"ticks\":\"\"},\"type\":\"contourcarpet\"}],\"contour\":[{\"colorbar\":{\"outlinewidth\":0,\"ticks\":\"\"},\"colorscale\":[[0.0,\"#0d0887\"],[0.1111111111111111,\"#46039f\"],[0.2222222222222222,\"#7201a8\"],[0.3333333333333333,\"#9c179e\"],[0.4444444444444444,\"#bd3786\"],[0.5555555555555556,\"#d8576b\"],[0.6666666666666666,\"#ed7953\"],[0.7777777777777778,\"#fb9f3a\"],[0.8888888888888888,\"#fdca26\"],[1.0,\"#f0f921\"]],\"type\":\"contour\"}],\"heatmapgl\":[{\"colorbar\":{\"outlinewidth\":0,\"ticks\":\"\"},\"colorscale\":[[0.0,\"#0d0887\"],[0.1111111111111111,\"#46039f\"],[0.2222222222222222,\"#7201a8\"],[0.3333333333333333,\"#9c179e\"],[0.4444444444444444,\"#bd3786\"],[0.5555555555555556,\"#d8576b\"],[0.6666666666666666,\"#ed7953\"],[0.7777777777777778,\"#fb9f3a\"],[0.8888888888888888,\"#fdca26\"],[1.0,\"#f0f921\"]],\"type\":\"heatmapgl\"}],\"heatmap\":[{\"colorbar\":{\"outlinewidth\":0,\"ticks\":\"\"},\"colorscale\":[[0.0,\"#0d0887\"],[0.1111111111111111,\"#46039f\"],[0.2222222222222222,\"#7201a8\"],[0.3333333333333333,\"#9c179e\"],[0.4444444444444444,\"#bd3786\"],[0.5555555555555556,\"#d8576b\"],[0.6666666666666666,\"#ed7953\"],[0.7777777777777778,\"#fb9f3a\"],[0.8888888888888888,\"#fdca26\"],[1.0,\"#f0f921\"]],\"type\":\"heatmap\"}],\"histogram2dcontour\":[{\"colorbar\":{\"outlinewidth\":0,\"ticks\":\"\"},\"colorscale\":[[0.0,\"#0d0887\"],[0.1111111111111111,\"#46039f\"],[0.2222222222222222,\"#7201a8\"],[0.3333333333333333,\"#9c179e\"],[0.4444444444444444,\"#bd3786\"],[0.5555555555555556,\"#d8576b\"],[0.6666666666666666,\"#ed7953\"],[0.7777777777777778,\"#fb9f3a\"],[0.8888888888888888,\"#fdca26\"],[1.0,\"#f0f921\"]],\"type\":\"histogram2dcontour\"}],\"histogram2d\":[{\"colorbar\":{\"outlinewidth\":0,\"ticks\":\"\"},\"colorscale\":[[0.0,\"#0d0887\"],[0.1111111111111111,\"#46039f\"],[0.2222222222222222,\"#7201a8\"],[0.3333333333333333,\"#9c179e\"],[0.4444444444444444,\"#bd3786\"],[0.5555555555555556,\"#d8576b\"],[0.6666666666666666,\"#ed7953\"],[0.7777777777777778,\"#fb9f3a\"],[0.8888888888888888,\"#fdca26\"],[1.0,\"#f0f921\"]],\"type\":\"histogram2d\"}],\"histogram\":[{\"marker\":{\"pattern\":{\"fillmode\":\"overlay\",\"size\":10,\"solidity\":0.2}},\"type\":\"histogram\"}],\"mesh3d\":[{\"colorbar\":{\"outlinewidth\":0,\"ticks\":\"\"},\"type\":\"mesh3d\"}],\"parcoords\":[{\"line\":{\"colorbar\":{\"outlinewidth\":0,\"ticks\":\"\"}},\"type\":\"parcoords\"}],\"pie\":[{\"automargin\":true,\"type\":\"pie\"}],\"scatter3d\":[{\"line\":{\"colorbar\":{\"outlinewidth\":0,\"ticks\":\"\"}},\"marker\":{\"colorbar\":{\"outlinewidth\":0,\"ticks\":\"\"}},\"type\":\"scatter3d\"}],\"scattercarpet\":[{\"marker\":{\"colorbar\":{\"outlinewidth\":0,\"ticks\":\"\"}},\"type\":\"scattercarpet\"}],\"scattergeo\":[{\"marker\":{\"colorbar\":{\"outlinewidth\":0,\"ticks\":\"\"}},\"type\":\"scattergeo\"}],\"scattergl\":[{\"marker\":{\"colorbar\":{\"outlinewidth\":0,\"ticks\":\"\"}},\"type\":\"scattergl\"}],\"scattermapbox\":[{\"marker\":{\"colorbar\":{\"outlinewidth\":0,\"ticks\":\"\"}},\"type\":\"scattermapbox\"}],\"scatterpolargl\":[{\"marker\":{\"colorbar\":{\"outlinewidth\":0,\"ticks\":\"\"}},\"type\":\"scatterpolargl\"}],\"scatterpolar\":[{\"marker\":{\"colorbar\":{\"outlinewidth\":0,\"ticks\":\"\"}},\"type\":\"scatterpolar\"}],\"scatter\":[{\"fillpattern\":{\"fillmode\":\"overlay\",\"size\":10,\"solidity\":0.2},\"type\":\"scatter\"}],\"scatterternary\":[{\"marker\":{\"colorbar\":{\"outlinewidth\":0,\"ticks\":\"\"}},\"type\":\"scatterternary\"}],\"surface\":[{\"colorbar\":{\"outlinewidth\":0,\"ticks\":\"\"},\"colorscale\":[[0.0,\"#0d0887\"],[0.1111111111111111,\"#46039f\"],[0.2222222222222222,\"#7201a8\"],[0.3333333333333333,\"#9c179e\"],[0.4444444444444444,\"#bd3786\"],[0.5555555555555556,\"#d8576b\"],[0.6666666666666666,\"#ed7953\"],[0.7777777777777778,\"#fb9f3a\"],[0.8888888888888888,\"#fdca26\"],[1.0,\"#f0f921\"]],\"type\":\"surface\"}],\"table\":[{\"cells\":{\"fill\":{\"color\":\"#EBF0F8\"},\"line\":{\"color\":\"white\"}},\"header\":{\"fill\":{\"color\":\"#C8D4E3\"},\"line\":{\"color\":\"white\"}},\"type\":\"table\"}]},\"layout\":{\"annotationdefaults\":{\"arrowcolor\":\"#2a3f5f\",\"arrowhead\":0,\"arrowwidth\":1},\"autotypenumbers\":\"strict\",\"coloraxis\":{\"colorbar\":{\"outlinewidth\":0,\"ticks\":\"\"}},\"colorscale\":{\"diverging\":[[0,\"#8e0152\"],[0.1,\"#c51b7d\"],[0.2,\"#de77ae\"],[0.3,\"#f1b6da\"],[0.4,\"#fde0ef\"],[0.5,\"#f7f7f7\"],[0.6,\"#e6f5d0\"],[0.7,\"#b8e186\"],[0.8,\"#7fbc41\"],[0.9,\"#4d9221\"],[1,\"#276419\"]],\"sequential\":[[0.0,\"#0d0887\"],[0.1111111111111111,\"#46039f\"],[0.2222222222222222,\"#7201a8\"],[0.3333333333333333,\"#9c179e\"],[0.4444444444444444,\"#bd3786\"],[0.5555555555555556,\"#d8576b\"],[0.6666666666666666,\"#ed7953\"],[0.7777777777777778,\"#fb9f3a\"],[0.8888888888888888,\"#fdca26\"],[1.0,\"#f0f921\"]],\"sequentialminus\":[[0.0,\"#0d0887\"],[0.1111111111111111,\"#46039f\"],[0.2222222222222222,\"#7201a8\"],[0.3333333333333333,\"#9c179e\"],[0.4444444444444444,\"#bd3786\"],[0.5555555555555556,\"#d8576b\"],[0.6666666666666666,\"#ed7953\"],[0.7777777777777778,\"#fb9f3a\"],[0.8888888888888888,\"#fdca26\"],[1.0,\"#f0f921\"]]},\"colorway\":[\"#636efa\",\"#EF553B\",\"#00cc96\",\"#ab63fa\",\"#FFA15A\",\"#19d3f3\",\"#FF6692\",\"#B6E880\",\"#FF97FF\",\"#FECB52\"],\"font\":{\"color\":\"#2a3f5f\"},\"geo\":{\"bgcolor\":\"white\",\"lakecolor\":\"white\",\"landcolor\":\"#E5ECF6\",\"showlakes\":true,\"showland\":true,\"subunitcolor\":\"white\"},\"hoverlabel\":{\"align\":\"left\"},\"hovermode\":\"closest\",\"mapbox\":{\"style\":\"light\"},\"paper_bgcolor\":\"white\",\"plot_bgcolor\":\"#E5ECF6\",\"polar\":{\"angularaxis\":{\"gridcolor\":\"white\",\"linecolor\":\"white\",\"ticks\":\"\"},\"bgcolor\":\"#E5ECF6\",\"radialaxis\":{\"gridcolor\":\"white\",\"linecolor\":\"white\",\"ticks\":\"\"}},\"scene\":{\"xaxis\":{\"backgroundcolor\":\"#E5ECF6\",\"gridcolor\":\"white\",\"gridwidth\":2,\"linecolor\":\"white\",\"showbackground\":true,\"ticks\":\"\",\"zerolinecolor\":\"white\"},\"yaxis\":{\"backgroundcolor\":\"#E5ECF6\",\"gridcolor\":\"white\",\"gridwidth\":2,\"linecolor\":\"white\",\"showbackground\":true,\"ticks\":\"\",\"zerolinecolor\":\"white\"},\"zaxis\":{\"backgroundcolor\":\"#E5ECF6\",\"gridcolor\":\"white\",\"gridwidth\":2,\"linecolor\":\"white\",\"showbackground\":true,\"ticks\":\"\",\"zerolinecolor\":\"white\"}},\"shapedefaults\":{\"line\":{\"color\":\"#2a3f5f\"}},\"ternary\":{\"aaxis\":{\"gridcolor\":\"white\",\"linecolor\":\"white\",\"ticks\":\"\"},\"baxis\":{\"gridcolor\":\"white\",\"linecolor\":\"white\",\"ticks\":\"\"},\"bgcolor\":\"#E5ECF6\",\"caxis\":{\"gridcolor\":\"white\",\"linecolor\":\"white\",\"ticks\":\"\"}},\"title\":{\"x\":0.05},\"xaxis\":{\"automargin\":true,\"gridcolor\":\"white\",\"linecolor\":\"white\",\"ticks\":\"\",\"title\":{\"standoff\":15},\"zerolinecolor\":\"white\",\"zerolinewidth\":2},\"yaxis\":{\"automargin\":true,\"gridcolor\":\"white\",\"linecolor\":\"white\",\"ticks\":\"\",\"title\":{\"standoff\":15},\"zerolinecolor\":\"white\",\"zerolinewidth\":2}}},\"xaxis\":{\"range\":[-60,60],\"title\":{\"text\":\"X\"}},\"yaxis\":{\"range\":[-60,60],\"title\":{\"text\":\"Y\"}},\"width\":500,\"height\":500,\"showlegend\":false,\"title\":{\"text\":\"Hits in the Central Drift Chamber\"},\"shapes\":[{\"line\":{\"color\":\"black\"},\"type\":\"circle\",\"x0\":-10.5,\"x1\":10.5,\"xref\":\"x\",\"y0\":-10.5,\"y1\":10.5,\"yref\":\"y\"},{\"line\":{\"color\":\"black\"},\"type\":\"circle\",\"x0\":-55,\"x1\":55,\"xref\":\"x\",\"y0\":-55,\"y1\":55,\"yref\":\"y\"}]},                        {\"responsive\": true}                    ).then(function(){\n                            \nvar gd = document.getElementById('5a2b51ab-516d-458e-8a60-78c5b534289e');\nvar x = new MutationObserver(function (mutations, observer) {{\n        var display = window.getComputedStyle(gd).display;\n        if (!display || display === 'none') {{\n            console.log([gd, 'removed!']);\n            Plotly.purge(gd);\n            observer.disconnect();\n        }}\n}});\n\n// Listen for the removal of the full notebook cells\nvar notebookContainer = gd.closest('#notebook-container');\nif (notebookContainer) {{\n    x.observe(notebookContainer, {childList: true});\n}}\n\n// Listen for the clearing of the current output cell\nvar outputEl = gd.closest('.output');\nif (outputEl) {{\n    x.observe(outputEl, {childList: true});\n}}\n\n                        })                };                            </script>        </div>\n</body>\n</html>"
                },
                "metadata": {}
              }
            ]
          }
        },
        "49cd94346c1e4285962586d05a14249b": {
          "model_module": "@jupyter-widgets/base",
          "model_name": "LayoutModel",
          "model_module_version": "1.2.0",
          "state": {
            "_model_module": "@jupyter-widgets/base",
            "_model_module_version": "1.2.0",
            "_model_name": "LayoutModel",
            "_view_count": null,
            "_view_module": "@jupyter-widgets/base",
            "_view_module_version": "1.2.0",
            "_view_name": "LayoutView",
            "align_content": null,
            "align_items": null,
            "align_self": null,
            "border": null,
            "bottom": null,
            "display": null,
            "flex": null,
            "flex_flow": null,
            "grid_area": null,
            "grid_auto_columns": null,
            "grid_auto_flow": null,
            "grid_auto_rows": null,
            "grid_column": null,
            "grid_gap": null,
            "grid_row": null,
            "grid_template_areas": null,
            "grid_template_columns": null,
            "grid_template_rows": null,
            "height": null,
            "justify_content": null,
            "justify_items": null,
            "left": null,
            "margin": null,
            "max_height": null,
            "max_width": null,
            "min_height": null,
            "min_width": null,
            "object_fit": null,
            "object_position": null,
            "order": null,
            "overflow": null,
            "overflow_x": null,
            "overflow_y": null,
            "padding": null,
            "right": null,
            "top": null,
            "visibility": null,
            "width": null
          }
        },
        "f9422fb8adb54fc1a19c3f1f1cfe2d1c": {
          "model_module": "@jupyter-widgets/controls",
          "model_name": "FloatSliderModel",
          "model_module_version": "1.5.0",
          "state": {
            "_dom_classes": [],
            "_model_module": "@jupyter-widgets/controls",
            "_model_module_version": "1.5.0",
            "_model_name": "FloatSliderModel",
            "_view_count": null,
            "_view_module": "@jupyter-widgets/controls",
            "_view_module_version": "1.5.0",
            "_view_name": "FloatSliderView",
            "continuous_update": true,
            "description": "z0",
            "description_tooltip": null,
            "disabled": false,
            "layout": "IPY_MODEL_1e8740e11ca642dba127b0e750022701",
            "max": 175,
            "min": 0,
            "orientation": "horizontal",
            "readout": true,
            "readout_format": ".2f",
            "step": 0.1,
            "style": "IPY_MODEL_e028e56eec0440aaa00ee77c6de1eb9c",
            "value": 63
          }
        },
        "83756d05f0a94677a2e449f6edf2bdce": {
          "model_module": "@jupyter-widgets/base",
          "model_name": "LayoutModel",
          "model_module_version": "1.2.0",
          "state": {
            "_model_module": "@jupyter-widgets/base",
            "_model_module_version": "1.2.0",
            "_model_name": "LayoutModel",
            "_view_count": null,
            "_view_module": "@jupyter-widgets/base",
            "_view_module_version": "1.2.0",
            "_view_name": "LayoutView",
            "align_content": null,
            "align_items": null,
            "align_self": null,
            "border": null,
            "bottom": null,
            "display": null,
            "flex": null,
            "flex_flow": "row wrap",
            "grid_area": null,
            "grid_auto_columns": null,
            "grid_auto_flow": null,
            "grid_auto_rows": null,
            "grid_column": null,
            "grid_gap": null,
            "grid_row": null,
            "grid_template_areas": null,
            "grid_template_columns": null,
            "grid_template_rows": null,
            "height": null,
            "justify_content": null,
            "justify_items": null,
            "left": null,
            "margin": null,
            "max_height": null,
            "max_width": null,
            "min_height": null,
            "min_width": null,
            "object_fit": null,
            "object_position": null,
            "order": null,
            "overflow": null,
            "overflow_x": null,
            "overflow_y": null,
            "padding": null,
            "right": null,
            "top": null,
            "visibility": null,
            "width": null
          }
        },
        "5d1b5f0364ea420d9aae0aff52e964ad": {
          "model_module": "@jupyter-widgets/base",
          "model_name": "LayoutModel",
          "model_module_version": "1.2.0",
          "state": {
            "_model_module": "@jupyter-widgets/base",
            "_model_module_version": "1.2.0",
            "_model_name": "LayoutModel",
            "_view_count": null,
            "_view_module": "@jupyter-widgets/base",
            "_view_module_version": "1.2.0",
            "_view_name": "LayoutView",
            "align_content": null,
            "align_items": null,
            "align_self": null,
            "border": null,
            "bottom": null,
            "display": null,
            "flex": null,
            "flex_flow": null,
            "grid_area": null,
            "grid_auto_columns": null,
            "grid_auto_flow": null,
            "grid_auto_rows": null,
            "grid_column": null,
            "grid_gap": null,
            "grid_row": null,
            "grid_template_areas": null,
            "grid_template_columns": null,
            "grid_template_rows": null,
            "height": null,
            "justify_content": null,
            "justify_items": null,
            "left": null,
            "margin": null,
            "max_height": null,
            "max_width": null,
            "min_height": null,
            "min_width": null,
            "object_fit": null,
            "object_position": null,
            "order": null,
            "overflow": null,
            "overflow_x": null,
            "overflow_y": null,
            "padding": null,
            "right": null,
            "top": null,
            "visibility": null,
            "width": null
          }
        },
        "1e8740e11ca642dba127b0e750022701": {
          "model_module": "@jupyter-widgets/base",
          "model_name": "LayoutModel",
          "model_module_version": "1.2.0",
          "state": {
            "_model_module": "@jupyter-widgets/base",
            "_model_module_version": "1.2.0",
            "_model_name": "LayoutModel",
            "_view_count": null,
            "_view_module": "@jupyter-widgets/base",
            "_view_module_version": "1.2.0",
            "_view_name": "LayoutView",
            "align_content": null,
            "align_items": null,
            "align_self": null,
            "border": null,
            "bottom": null,
            "display": null,
            "flex": null,
            "flex_flow": null,
            "grid_area": null,
            "grid_auto_columns": null,
            "grid_auto_flow": null,
            "grid_auto_rows": null,
            "grid_column": null,
            "grid_gap": null,
            "grid_row": null,
            "grid_template_areas": null,
            "grid_template_columns": null,
            "grid_template_rows": null,
            "height": null,
            "justify_content": null,
            "justify_items": null,
            "left": null,
            "margin": null,
            "max_height": null,
            "max_width": null,
            "min_height": null,
            "min_width": null,
            "object_fit": null,
            "object_position": null,
            "order": null,
            "overflow": null,
            "overflow_x": null,
            "overflow_y": null,
            "padding": null,
            "right": null,
            "top": null,
            "visibility": null,
            "width": null
          }
        },
        "e028e56eec0440aaa00ee77c6de1eb9c": {
          "model_module": "@jupyter-widgets/controls",
          "model_name": "SliderStyleModel",
          "model_module_version": "1.5.0",
          "state": {
            "_model_module": "@jupyter-widgets/controls",
            "_model_module_version": "1.5.0",
            "_model_name": "SliderStyleModel",
            "_view_count": null,
            "_view_module": "@jupyter-widgets/base",
            "_view_module_version": "1.2.0",
            "_view_name": "StyleView",
            "description_width": "",
            "handle_color": null
          }
        },
        "2b14fba9da564ecdb92d2c347a01c54f": {
          "model_module": "@jupyter-widgets/base",
          "model_name": "LayoutModel",
          "model_module_version": "1.2.0",
          "state": {
            "_model_module": "@jupyter-widgets/base",
            "_model_module_version": "1.2.0",
            "_model_name": "LayoutModel",
            "_view_count": null,
            "_view_module": "@jupyter-widgets/base",
            "_view_module_version": "1.2.0",
            "_view_name": "LayoutView",
            "align_content": null,
            "align_items": null,
            "align_self": null,
            "border": null,
            "bottom": null,
            "display": null,
            "flex": null,
            "flex_flow": null,
            "grid_area": null,
            "grid_auto_columns": null,
            "grid_auto_flow": null,
            "grid_auto_rows": null,
            "grid_column": null,
            "grid_gap": null,
            "grid_row": null,
            "grid_template_areas": null,
            "grid_template_columns": null,
            "grid_template_rows": null,
            "height": null,
            "justify_content": null,
            "justify_items": null,
            "left": null,
            "margin": null,
            "max_height": null,
            "max_width": null,
            "min_height": null,
            "min_width": null,
            "object_fit": null,
            "object_position": null,
            "order": null,
            "overflow": null,
            "overflow_x": null,
            "overflow_y": null,
            "padding": null,
            "right": null,
            "top": null,
            "visibility": null,
            "width": null
          }
        },
        "0e6918b5a33f4209bbb043be7eec8a51": {
          "model_module": "@jupyter-widgets/controls",
          "model_name": "VBoxModel",
          "model_module_version": "1.5.0",
          "state": {
            "_dom_classes": [],
            "_model_module": "@jupyter-widgets/controls",
            "_model_module_version": "1.5.0",
            "_model_name": "VBoxModel",
            "_view_count": null,
            "_view_module": "@jupyter-widgets/controls",
            "_view_module_version": "1.5.0",
            "_view_name": "VBoxView",
            "box_style": "",
            "children": [
              "IPY_MODEL_f2e8a2f6218b40f6a5291ab6d0d3565a",
              "IPY_MODEL_d7e945c9e4134ef7b62ce85ab2f8e9b4"
            ],
            "layout": "IPY_MODEL_ec6ca55bae9b45899c8072f7ad479193"
          }
        },
        "f2e8a2f6218b40f6a5291ab6d0d3565a": {
          "model_module": "@jupyter-widgets/controls",
          "model_name": "HBoxModel",
          "model_module_version": "1.5.0",
          "state": {
            "_dom_classes": [],
            "_model_module": "@jupyter-widgets/controls",
            "_model_module_version": "1.5.0",
            "_model_name": "HBoxModel",
            "_view_count": null,
            "_view_module": "@jupyter-widgets/controls",
            "_view_module_version": "1.5.0",
            "_view_name": "HBoxView",
            "box_style": "",
            "children": [
              "IPY_MODEL_9885d8b8fef040e1922174519c68ceac"
            ],
            "layout": "IPY_MODEL_bcfa1c8156bd4498921b3fa3edc9e537"
          }
        },
        "d7e945c9e4134ef7b62ce85ab2f8e9b4": {
          "model_module": "@jupyter-widgets/output",
          "model_name": "OutputModel",
          "model_module_version": "1.0.0",
          "state": {
            "_dom_classes": [],
            "_model_module": "@jupyter-widgets/output",
            "_model_module_version": "1.0.0",
            "_model_name": "OutputModel",
            "_view_count": null,
            "_view_module": "@jupyter-widgets/output",
            "_view_module_version": "1.0.0",
            "_view_name": "OutputView",
            "layout": "IPY_MODEL_7443a217e5fb4ab1b31af525062ada21",
            "msg_id": "",
            "outputs": [
              {
                "output_type": "display_data",
                "data": {
                  "text/html": "<html>\n<head><meta charset=\"utf-8\" /></head>\n<body>\n    <div>            <script src=\"https://cdnjs.cloudflare.com/ajax/libs/mathjax/2.7.5/MathJax.js?config=TeX-AMS-MML_SVG\"></script><script type=\"text/javascript\">if (window.MathJax && window.MathJax.Hub && window.MathJax.Hub.Config) {window.MathJax.Hub.Config({SVG: {font: \"STIX-Web\"}});}</script>                <script type=\"text/javascript\">window.PlotlyConfig = {MathJaxConfig: 'local'};</script>\n        <script charset=\"utf-8\" src=\"https://cdn.plot.ly/plotly-2.24.1.min.js\"></script>                <div id=\"e7a8d38e-6df0-4a05-9986-d9741e6d3873\" class=\"plotly-graph-div\" style=\"height:500px; width:500px;\"></div>            <script type=\"text/javascript\">                                    window.PLOTLYENV=window.PLOTLYENV || {};                                    if (document.getElementById(\"e7a8d38e-6df0-4a05-9986-d9741e6d3873\")) {                    Plotly.newPlot(                        \"e7a8d38e-6df0-4a05-9986-d9741e6d3873\",                        [{\"hoverinfo\":\"text\",\"marker\":{\"size\":3},\"mode\":\"markers\",\"text\":[\"Ring: 1.0\\n Wire: 4.0\",\"Ring: 4.0\\n Wire: 4.0\",\"Ring: 6.0\\n Wire: 8.0\",\"Ring: 8.0\\n Wire: 9.0\",\"Ring: 9.0\\n Wire: 4.0\",\"Ring: 11.0\\n Wire: 5.0\",\"Ring: 12.0\\n Wire: 4.0\",\"Ring: 13.0\\n Wire: 8.0\",\"Ring: 14.0\\n Wire: 8.0\",\"Ring: 15.0\\n Wire: 9.0\",\"Ring: 16.0\\n Wire: 8.0\",\"Ring: 17.0\\n Wire: 6.0\",\"Ring: 18.0\\n Wire: 6.0\",\"Ring: 19.0\\n Wire: 7.0\",\"Ring: 20.0\\n Wire: 6.0\",\"Ring: 21.0\\n Wire: 13.0\",\"Ring: 22.0\\n Wire: 13.0\",\"Ring: 23.0\\n Wire: 13.0\",\"Ring: 24.0\\n Wire: 14.0\",\"Ring: 25.0\\n Wire: 10.0\",\"Ring: 26.0\\n Wire: 11.0\",\"Ring: 27.0\\n Wire: 11.0\"],\"x\":[9.660008147064108,13.667804912913876,17.02323762825661,20.347534388402018,22.007050124658818,25.0422644267491,26.647900592854548,28.923811519805948,30.508246191408148,31.98957376560283,33.56950056522652,35.09843714123049,36.68860315261222,38.08075459949047,39.6691948724521,41.28505620861999,42.317909192287985,44.2716911041374,45.31297791782321,47.99858488495082,49.061380892285655,50.87429984175538],\"y\":[4.652014385043868,6.523501812870699,7.487814556059249,8.718123323277911,9.686610664597119,11.0072189102202,10.782469194200146,12.170096596853321,11.929261170937194,12.743162354182545,12.475500514658979,13.390521326663297,13.100064419099997,14.219583867684666,13.920425891295011,14.385342779642764,15.627993191791354,15.120015667206614,16.354302496124443,15.288762184433711,16.49354713523043,16.106708453969393],\"type\":\"scatter\",\"uid\":\"3b9d8594-7154-4b03-9228-8094de25f644\"}],                        {\"template\":{\"data\":{\"barpolar\":[{\"marker\":{\"line\":{\"color\":\"#E5ECF6\",\"width\":0.5},\"pattern\":{\"fillmode\":\"overlay\",\"size\":10,\"solidity\":0.2}},\"type\":\"barpolar\"}],\"bar\":[{\"error_x\":{\"color\":\"#2a3f5f\"},\"error_y\":{\"color\":\"#2a3f5f\"},\"marker\":{\"line\":{\"color\":\"#E5ECF6\",\"width\":0.5},\"pattern\":{\"fillmode\":\"overlay\",\"size\":10,\"solidity\":0.2}},\"type\":\"bar\"}],\"carpet\":[{\"aaxis\":{\"endlinecolor\":\"#2a3f5f\",\"gridcolor\":\"white\",\"linecolor\":\"white\",\"minorgridcolor\":\"white\",\"startlinecolor\":\"#2a3f5f\"},\"baxis\":{\"endlinecolor\":\"#2a3f5f\",\"gridcolor\":\"white\",\"linecolor\":\"white\",\"minorgridcolor\":\"white\",\"startlinecolor\":\"#2a3f5f\"},\"type\":\"carpet\"}],\"choropleth\":[{\"colorbar\":{\"outlinewidth\":0,\"ticks\":\"\"},\"type\":\"choropleth\"}],\"contourcarpet\":[{\"colorbar\":{\"outlinewidth\":0,\"ticks\":\"\"},\"type\":\"contourcarpet\"}],\"contour\":[{\"colorbar\":{\"outlinewidth\":0,\"ticks\":\"\"},\"colorscale\":[[0.0,\"#0d0887\"],[0.1111111111111111,\"#46039f\"],[0.2222222222222222,\"#7201a8\"],[0.3333333333333333,\"#9c179e\"],[0.4444444444444444,\"#bd3786\"],[0.5555555555555556,\"#d8576b\"],[0.6666666666666666,\"#ed7953\"],[0.7777777777777778,\"#fb9f3a\"],[0.8888888888888888,\"#fdca26\"],[1.0,\"#f0f921\"]],\"type\":\"contour\"}],\"heatmapgl\":[{\"colorbar\":{\"outlinewidth\":0,\"ticks\":\"\"},\"colorscale\":[[0.0,\"#0d0887\"],[0.1111111111111111,\"#46039f\"],[0.2222222222222222,\"#7201a8\"],[0.3333333333333333,\"#9c179e\"],[0.4444444444444444,\"#bd3786\"],[0.5555555555555556,\"#d8576b\"],[0.6666666666666666,\"#ed7953\"],[0.7777777777777778,\"#fb9f3a\"],[0.8888888888888888,\"#fdca26\"],[1.0,\"#f0f921\"]],\"type\":\"heatmapgl\"}],\"heatmap\":[{\"colorbar\":{\"outlinewidth\":0,\"ticks\":\"\"},\"colorscale\":[[0.0,\"#0d0887\"],[0.1111111111111111,\"#46039f\"],[0.2222222222222222,\"#7201a8\"],[0.3333333333333333,\"#9c179e\"],[0.4444444444444444,\"#bd3786\"],[0.5555555555555556,\"#d8576b\"],[0.6666666666666666,\"#ed7953\"],[0.7777777777777778,\"#fb9f3a\"],[0.8888888888888888,\"#fdca26\"],[1.0,\"#f0f921\"]],\"type\":\"heatmap\"}],\"histogram2dcontour\":[{\"colorbar\":{\"outlinewidth\":0,\"ticks\":\"\"},\"colorscale\":[[0.0,\"#0d0887\"],[0.1111111111111111,\"#46039f\"],[0.2222222222222222,\"#7201a8\"],[0.3333333333333333,\"#9c179e\"],[0.4444444444444444,\"#bd3786\"],[0.5555555555555556,\"#d8576b\"],[0.6666666666666666,\"#ed7953\"],[0.7777777777777778,\"#fb9f3a\"],[0.8888888888888888,\"#fdca26\"],[1.0,\"#f0f921\"]],\"type\":\"histogram2dcontour\"}],\"histogram2d\":[{\"colorbar\":{\"outlinewidth\":0,\"ticks\":\"\"},\"colorscale\":[[0.0,\"#0d0887\"],[0.1111111111111111,\"#46039f\"],[0.2222222222222222,\"#7201a8\"],[0.3333333333333333,\"#9c179e\"],[0.4444444444444444,\"#bd3786\"],[0.5555555555555556,\"#d8576b\"],[0.6666666666666666,\"#ed7953\"],[0.7777777777777778,\"#fb9f3a\"],[0.8888888888888888,\"#fdca26\"],[1.0,\"#f0f921\"]],\"type\":\"histogram2d\"}],\"histogram\":[{\"marker\":{\"pattern\":{\"fillmode\":\"overlay\",\"size\":10,\"solidity\":0.2}},\"type\":\"histogram\"}],\"mesh3d\":[{\"colorbar\":{\"outlinewidth\":0,\"ticks\":\"\"},\"type\":\"mesh3d\"}],\"parcoords\":[{\"line\":{\"colorbar\":{\"outlinewidth\":0,\"ticks\":\"\"}},\"type\":\"parcoords\"}],\"pie\":[{\"automargin\":true,\"type\":\"pie\"}],\"scatter3d\":[{\"line\":{\"colorbar\":{\"outlinewidth\":0,\"ticks\":\"\"}},\"marker\":{\"colorbar\":{\"outlinewidth\":0,\"ticks\":\"\"}},\"type\":\"scatter3d\"}],\"scattercarpet\":[{\"marker\":{\"colorbar\":{\"outlinewidth\":0,\"ticks\":\"\"}},\"type\":\"scattercarpet\"}],\"scattergeo\":[{\"marker\":{\"colorbar\":{\"outlinewidth\":0,\"ticks\":\"\"}},\"type\":\"scattergeo\"}],\"scattergl\":[{\"marker\":{\"colorbar\":{\"outlinewidth\":0,\"ticks\":\"\"}},\"type\":\"scattergl\"}],\"scattermapbox\":[{\"marker\":{\"colorbar\":{\"outlinewidth\":0,\"ticks\":\"\"}},\"type\":\"scattermapbox\"}],\"scatterpolargl\":[{\"marker\":{\"colorbar\":{\"outlinewidth\":0,\"ticks\":\"\"}},\"type\":\"scatterpolargl\"}],\"scatterpolar\":[{\"marker\":{\"colorbar\":{\"outlinewidth\":0,\"ticks\":\"\"}},\"type\":\"scatterpolar\"}],\"scatter\":[{\"fillpattern\":{\"fillmode\":\"overlay\",\"size\":10,\"solidity\":0.2},\"type\":\"scatter\"}],\"scatterternary\":[{\"marker\":{\"colorbar\":{\"outlinewidth\":0,\"ticks\":\"\"}},\"type\":\"scatterternary\"}],\"surface\":[{\"colorbar\":{\"outlinewidth\":0,\"ticks\":\"\"},\"colorscale\":[[0.0,\"#0d0887\"],[0.1111111111111111,\"#46039f\"],[0.2222222222222222,\"#7201a8\"],[0.3333333333333333,\"#9c179e\"],[0.4444444444444444,\"#bd3786\"],[0.5555555555555556,\"#d8576b\"],[0.6666666666666666,\"#ed7953\"],[0.7777777777777778,\"#fb9f3a\"],[0.8888888888888888,\"#fdca26\"],[1.0,\"#f0f921\"]],\"type\":\"surface\"}],\"table\":[{\"cells\":{\"fill\":{\"color\":\"#EBF0F8\"},\"line\":{\"color\":\"white\"}},\"header\":{\"fill\":{\"color\":\"#C8D4E3\"},\"line\":{\"color\":\"white\"}},\"type\":\"table\"}]},\"layout\":{\"annotationdefaults\":{\"arrowcolor\":\"#2a3f5f\",\"arrowhead\":0,\"arrowwidth\":1},\"autotypenumbers\":\"strict\",\"coloraxis\":{\"colorbar\":{\"outlinewidth\":0,\"ticks\":\"\"}},\"colorscale\":{\"diverging\":[[0,\"#8e0152\"],[0.1,\"#c51b7d\"],[0.2,\"#de77ae\"],[0.3,\"#f1b6da\"],[0.4,\"#fde0ef\"],[0.5,\"#f7f7f7\"],[0.6,\"#e6f5d0\"],[0.7,\"#b8e186\"],[0.8,\"#7fbc41\"],[0.9,\"#4d9221\"],[1,\"#276419\"]],\"sequential\":[[0.0,\"#0d0887\"],[0.1111111111111111,\"#46039f\"],[0.2222222222222222,\"#7201a8\"],[0.3333333333333333,\"#9c179e\"],[0.4444444444444444,\"#bd3786\"],[0.5555555555555556,\"#d8576b\"],[0.6666666666666666,\"#ed7953\"],[0.7777777777777778,\"#fb9f3a\"],[0.8888888888888888,\"#fdca26\"],[1.0,\"#f0f921\"]],\"sequentialminus\":[[0.0,\"#0d0887\"],[0.1111111111111111,\"#46039f\"],[0.2222222222222222,\"#7201a8\"],[0.3333333333333333,\"#9c179e\"],[0.4444444444444444,\"#bd3786\"],[0.5555555555555556,\"#d8576b\"],[0.6666666666666666,\"#ed7953\"],[0.7777777777777778,\"#fb9f3a\"],[0.8888888888888888,\"#fdca26\"],[1.0,\"#f0f921\"]]},\"colorway\":[\"#636efa\",\"#EF553B\",\"#00cc96\",\"#ab63fa\",\"#FFA15A\",\"#19d3f3\",\"#FF6692\",\"#B6E880\",\"#FF97FF\",\"#FECB52\"],\"font\":{\"color\":\"#2a3f5f\"},\"geo\":{\"bgcolor\":\"white\",\"lakecolor\":\"white\",\"landcolor\":\"#E5ECF6\",\"showlakes\":true,\"showland\":true,\"subunitcolor\":\"white\"},\"hoverlabel\":{\"align\":\"left\"},\"hovermode\":\"closest\",\"mapbox\":{\"style\":\"light\"},\"paper_bgcolor\":\"white\",\"plot_bgcolor\":\"#E5ECF6\",\"polar\":{\"angularaxis\":{\"gridcolor\":\"white\",\"linecolor\":\"white\",\"ticks\":\"\"},\"bgcolor\":\"#E5ECF6\",\"radialaxis\":{\"gridcolor\":\"white\",\"linecolor\":\"white\",\"ticks\":\"\"}},\"scene\":{\"xaxis\":{\"backgroundcolor\":\"#E5ECF6\",\"gridcolor\":\"white\",\"gridwidth\":2,\"linecolor\":\"white\",\"showbackground\":true,\"ticks\":\"\",\"zerolinecolor\":\"white\"},\"yaxis\":{\"backgroundcolor\":\"#E5ECF6\",\"gridcolor\":\"white\",\"gridwidth\":2,\"linecolor\":\"white\",\"showbackground\":true,\"ticks\":\"\",\"zerolinecolor\":\"white\"},\"zaxis\":{\"backgroundcolor\":\"#E5ECF6\",\"gridcolor\":\"white\",\"gridwidth\":2,\"linecolor\":\"white\",\"showbackground\":true,\"ticks\":\"\",\"zerolinecolor\":\"white\"}},\"shapedefaults\":{\"line\":{\"color\":\"#2a3f5f\"}},\"ternary\":{\"aaxis\":{\"gridcolor\":\"white\",\"linecolor\":\"white\",\"ticks\":\"\"},\"baxis\":{\"gridcolor\":\"white\",\"linecolor\":\"white\",\"ticks\":\"\"},\"bgcolor\":\"#E5ECF6\",\"caxis\":{\"gridcolor\":\"white\",\"linecolor\":\"white\",\"ticks\":\"\"}},\"title\":{\"x\":0.05},\"xaxis\":{\"automargin\":true,\"gridcolor\":\"white\",\"linecolor\":\"white\",\"ticks\":\"\",\"title\":{\"standoff\":15},\"zerolinecolor\":\"white\",\"zerolinewidth\":2},\"yaxis\":{\"automargin\":true,\"gridcolor\":\"white\",\"linecolor\":\"white\",\"ticks\":\"\",\"title\":{\"standoff\":15},\"zerolinecolor\":\"white\",\"zerolinewidth\":2}}},\"xaxis\":{\"range\":[-60,60],\"title\":{\"text\":\"X\"}},\"yaxis\":{\"range\":[-60,60],\"title\":{\"text\":\"Y\"}},\"width\":500,\"height\":500,\"showlegend\":false,\"title\":{\"text\":\"Positions of Hits\"},\"shapes\":[{\"line\":{\"color\":\"black\"},\"type\":\"circle\",\"x0\":-10.5,\"x1\":10.5,\"xref\":\"x\",\"y0\":-10.5,\"y1\":10.5,\"yref\":\"y\"},{\"line\":{\"color\":\"black\"},\"type\":\"circle\",\"x0\":-55,\"x1\":55,\"xref\":\"x\",\"y0\":-55,\"y1\":55,\"yref\":\"y\"}]},                        {\"responsive\": true}                    ).then(function(){\n                            \nvar gd = document.getElementById('e7a8d38e-6df0-4a05-9986-d9741e6d3873');\nvar x = new MutationObserver(function (mutations, observer) {{\n        var display = window.getComputedStyle(gd).display;\n        if (!display || display === 'none') {{\n            console.log([gd, 'removed!']);\n            Plotly.purge(gd);\n            observer.disconnect();\n        }}\n}});\n\n// Listen for the removal of the full notebook cells\nvar notebookContainer = gd.closest('#notebook-container');\nif (notebookContainer) {{\n    x.observe(notebookContainer, {childList: true});\n}}\n\n// Listen for the clearing of the current output cell\nvar outputEl = gd.closest('.output');\nif (outputEl) {{\n    x.observe(outputEl, {childList: true});\n}}\n\n                        })                };                            </script>        </div>\n</body>\n</html>"
                },
                "metadata": {}
              }
            ]
          }
        },
        "ec6ca55bae9b45899c8072f7ad479193": {
          "model_module": "@jupyter-widgets/base",
          "model_name": "LayoutModel",
          "model_module_version": "1.2.0",
          "state": {
            "_model_module": "@jupyter-widgets/base",
            "_model_module_version": "1.2.0",
            "_model_name": "LayoutModel",
            "_view_count": null,
            "_view_module": "@jupyter-widgets/base",
            "_view_module_version": "1.2.0",
            "_view_name": "LayoutView",
            "align_content": null,
            "align_items": null,
            "align_self": null,
            "border": null,
            "bottom": null,
            "display": null,
            "flex": null,
            "flex_flow": null,
            "grid_area": null,
            "grid_auto_columns": null,
            "grid_auto_flow": null,
            "grid_auto_rows": null,
            "grid_column": null,
            "grid_gap": null,
            "grid_row": null,
            "grid_template_areas": null,
            "grid_template_columns": null,
            "grid_template_rows": null,
            "height": null,
            "justify_content": null,
            "justify_items": null,
            "left": null,
            "margin": null,
            "max_height": null,
            "max_width": null,
            "min_height": null,
            "min_width": null,
            "object_fit": null,
            "object_position": null,
            "order": null,
            "overflow": null,
            "overflow_x": null,
            "overflow_y": null,
            "padding": null,
            "right": null,
            "top": null,
            "visibility": null,
            "width": null
          }
        },
        "9885d8b8fef040e1922174519c68ceac": {
          "model_module": "@jupyter-widgets/controls",
          "model_name": "FloatSliderModel",
          "model_module_version": "1.5.0",
          "state": {
            "_dom_classes": [],
            "_model_module": "@jupyter-widgets/controls",
            "_model_module_version": "1.5.0",
            "_model_name": "FloatSliderModel",
            "_view_count": null,
            "_view_module": "@jupyter-widgets/controls",
            "_view_module_version": "1.5.0",
            "_view_name": "FloatSliderView",
            "continuous_update": true,
            "description": "z0",
            "description_tooltip": null,
            "disabled": false,
            "layout": "IPY_MODEL_2472a9b76ed74896ab9cdfdbc1614ce2",
            "max": 175,
            "min": 0,
            "orientation": "horizontal",
            "readout": true,
            "readout_format": ".2f",
            "step": 0.1,
            "style": "IPY_MODEL_788f9daf655c452cabc1f1372189a342",
            "value": 121
          }
        },
        "bcfa1c8156bd4498921b3fa3edc9e537": {
          "model_module": "@jupyter-widgets/base",
          "model_name": "LayoutModel",
          "model_module_version": "1.2.0",
          "state": {
            "_model_module": "@jupyter-widgets/base",
            "_model_module_version": "1.2.0",
            "_model_name": "LayoutModel",
            "_view_count": null,
            "_view_module": "@jupyter-widgets/base",
            "_view_module_version": "1.2.0",
            "_view_name": "LayoutView",
            "align_content": null,
            "align_items": null,
            "align_self": null,
            "border": null,
            "bottom": null,
            "display": null,
            "flex": null,
            "flex_flow": "row wrap",
            "grid_area": null,
            "grid_auto_columns": null,
            "grid_auto_flow": null,
            "grid_auto_rows": null,
            "grid_column": null,
            "grid_gap": null,
            "grid_row": null,
            "grid_template_areas": null,
            "grid_template_columns": null,
            "grid_template_rows": null,
            "height": null,
            "justify_content": null,
            "justify_items": null,
            "left": null,
            "margin": null,
            "max_height": null,
            "max_width": null,
            "min_height": null,
            "min_width": null,
            "object_fit": null,
            "object_position": null,
            "order": null,
            "overflow": null,
            "overflow_x": null,
            "overflow_y": null,
            "padding": null,
            "right": null,
            "top": null,
            "visibility": null,
            "width": null
          }
        },
        "7443a217e5fb4ab1b31af525062ada21": {
          "model_module": "@jupyter-widgets/base",
          "model_name": "LayoutModel",
          "model_module_version": "1.2.0",
          "state": {
            "_model_module": "@jupyter-widgets/base",
            "_model_module_version": "1.2.0",
            "_model_name": "LayoutModel",
            "_view_count": null,
            "_view_module": "@jupyter-widgets/base",
            "_view_module_version": "1.2.0",
            "_view_name": "LayoutView",
            "align_content": null,
            "align_items": null,
            "align_self": null,
            "border": null,
            "bottom": null,
            "display": null,
            "flex": null,
            "flex_flow": null,
            "grid_area": null,
            "grid_auto_columns": null,
            "grid_auto_flow": null,
            "grid_auto_rows": null,
            "grid_column": null,
            "grid_gap": null,
            "grid_row": null,
            "grid_template_areas": null,
            "grid_template_columns": null,
            "grid_template_rows": null,
            "height": null,
            "justify_content": null,
            "justify_items": null,
            "left": null,
            "margin": null,
            "max_height": null,
            "max_width": null,
            "min_height": null,
            "min_width": null,
            "object_fit": null,
            "object_position": null,
            "order": null,
            "overflow": null,
            "overflow_x": null,
            "overflow_y": null,
            "padding": null,
            "right": null,
            "top": null,
            "visibility": null,
            "width": null
          }
        },
        "2472a9b76ed74896ab9cdfdbc1614ce2": {
          "model_module": "@jupyter-widgets/base",
          "model_name": "LayoutModel",
          "model_module_version": "1.2.0",
          "state": {
            "_model_module": "@jupyter-widgets/base",
            "_model_module_version": "1.2.0",
            "_model_name": "LayoutModel",
            "_view_count": null,
            "_view_module": "@jupyter-widgets/base",
            "_view_module_version": "1.2.0",
            "_view_name": "LayoutView",
            "align_content": null,
            "align_items": null,
            "align_self": null,
            "border": null,
            "bottom": null,
            "display": null,
            "flex": null,
            "flex_flow": null,
            "grid_area": null,
            "grid_auto_columns": null,
            "grid_auto_flow": null,
            "grid_auto_rows": null,
            "grid_column": null,
            "grid_gap": null,
            "grid_row": null,
            "grid_template_areas": null,
            "grid_template_columns": null,
            "grid_template_rows": null,
            "height": null,
            "justify_content": null,
            "justify_items": null,
            "left": null,
            "margin": null,
            "max_height": null,
            "max_width": null,
            "min_height": null,
            "min_width": null,
            "object_fit": null,
            "object_position": null,
            "order": null,
            "overflow": null,
            "overflow_x": null,
            "overflow_y": null,
            "padding": null,
            "right": null,
            "top": null,
            "visibility": null,
            "width": null
          }
        },
        "788f9daf655c452cabc1f1372189a342": {
          "model_module": "@jupyter-widgets/controls",
          "model_name": "SliderStyleModel",
          "model_module_version": "1.5.0",
          "state": {
            "_model_module": "@jupyter-widgets/controls",
            "_model_module_version": "1.5.0",
            "_model_name": "SliderStyleModel",
            "_view_count": null,
            "_view_module": "@jupyter-widgets/base",
            "_view_module_version": "1.2.0",
            "_view_name": "StyleView",
            "description_width": "",
            "handle_color": null
          }
        },
        "ea026015c5a14162bf2554dfe91f28f3": {
          "model_module": "@jupyter-widgets/base",
          "model_name": "LayoutModel",
          "model_module_version": "1.2.0",
          "state": {
            "_model_module": "@jupyter-widgets/base",
            "_model_module_version": "1.2.0",
            "_model_name": "LayoutModel",
            "_view_count": null,
            "_view_module": "@jupyter-widgets/base",
            "_view_module_version": "1.2.0",
            "_view_name": "LayoutView",
            "align_content": null,
            "align_items": null,
            "align_self": null,
            "border": null,
            "bottom": null,
            "display": null,
            "flex": null,
            "flex_flow": null,
            "grid_area": null,
            "grid_auto_columns": null,
            "grid_auto_flow": null,
            "grid_auto_rows": null,
            "grid_column": null,
            "grid_gap": null,
            "grid_row": null,
            "grid_template_areas": null,
            "grid_template_columns": null,
            "grid_template_rows": null,
            "height": null,
            "justify_content": null,
            "justify_items": null,
            "left": null,
            "margin": null,
            "max_height": null,
            "max_width": null,
            "min_height": null,
            "min_width": null,
            "object_fit": null,
            "object_position": null,
            "order": null,
            "overflow": null,
            "overflow_x": null,
            "overflow_y": null,
            "padding": null,
            "right": null,
            "top": null,
            "visibility": null,
            "width": null
          }
        },
        "f8e7d3996fda4796a4ca2718abd5afbe": {
          "model_module": "@jupyter-widgets/controls",
          "model_name": "VBoxModel",
          "model_module_version": "1.5.0",
          "state": {
            "_dom_classes": [],
            "_model_module": "@jupyter-widgets/controls",
            "_model_module_version": "1.5.0",
            "_model_name": "VBoxModel",
            "_view_count": null,
            "_view_module": "@jupyter-widgets/controls",
            "_view_module_version": "1.5.0",
            "_view_name": "VBoxView",
            "box_style": "",
            "children": [
              "IPY_MODEL_fa9da14740ea44a9890349e07c417650",
              "IPY_MODEL_1445197f60fc4e8890368a7872761278"
            ],
            "layout": "IPY_MODEL_2fb857a2f4e948e19ac3227db9f0a7f3"
          }
        },
        "fa9da14740ea44a9890349e07c417650": {
          "model_module": "@jupyter-widgets/controls",
          "model_name": "HBoxModel",
          "model_module_version": "1.5.0",
          "state": {
            "_dom_classes": [],
            "_model_module": "@jupyter-widgets/controls",
            "_model_module_version": "1.5.0",
            "_model_name": "HBoxModel",
            "_view_count": null,
            "_view_module": "@jupyter-widgets/controls",
            "_view_module_version": "1.5.0",
            "_view_name": "HBoxView",
            "box_style": "",
            "children": [
              "IPY_MODEL_6e3e1480e4294aea972679ea1f3c48ae",
              "IPY_MODEL_2e8f59d6ae5c4762ad0d347ffe610e09",
              "IPY_MODEL_4542d1de86b04a70836e0da49f6aadd9",
              "IPY_MODEL_74ed8687caab4e50aa97d72c0123a676",
              "IPY_MODEL_e5427aa901f74f099b6629d6dbafd31a"
            ],
            "layout": "IPY_MODEL_51117fb74eac4b1ea39c13b41efe063e"
          }
        },
        "1445197f60fc4e8890368a7872761278": {
          "model_module": "@jupyter-widgets/output",
          "model_name": "OutputModel",
          "model_module_version": "1.0.0",
          "state": {
            "_dom_classes": [],
            "_model_module": "@jupyter-widgets/output",
            "_model_module_version": "1.0.0",
            "_model_name": "OutputModel",
            "_view_count": null,
            "_view_module": "@jupyter-widgets/output",
            "_view_module_version": "1.0.0",
            "_view_name": "OutputView",
            "layout": "IPY_MODEL_f6b18db960c544619effd60e106f7376",
            "msg_id": "",
            "outputs": [
              {
                "output_type": "display_data",
                "data": {
                  "text/html": "<html>\n<head><meta charset=\"utf-8\" /></head>\n<body>\n    <div>            <script src=\"https://cdnjs.cloudflare.com/ajax/libs/mathjax/2.7.5/MathJax.js?config=TeX-AMS-MML_SVG\"></script><script type=\"text/javascript\">if (window.MathJax && window.MathJax.Hub && window.MathJax.Hub.Config) {window.MathJax.Hub.Config({SVG: {font: \"STIX-Web\"}});}</script>                <script type=\"text/javascript\">window.PlotlyConfig = {MathJaxConfig: 'local'};</script>\n        <script charset=\"utf-8\" src=\"https://cdn.plot.ly/plotly-2.24.1.min.js\"></script>                <div id=\"80096ceb-b336-474c-ac16-9c55e028efe5\" class=\"plotly-graph-div\" style=\"height:500px; width:500px;\"></div>            <script type=\"text/javascript\">                                    window.PLOTLYENV=window.PLOTLYENV || {};                                    if (document.getElementById(\"80096ceb-b336-474c-ac16-9c55e028efe5\")) {                    Plotly.newPlot(                        \"80096ceb-b336-474c-ac16-9c55e028efe5\",                        [{\"hoverinfo\":\"text\",\"marker\":{\"size\":3},\"mode\":\"markers\",\"text\":[\"Ring: 1.0\\n Wire: 8.0\",\"Ring: 2.0\\n Wire: 7.0\",\"Ring: 3.0\\n Wire: 9.0\",\"Ring: 4.0\\n Wire: 9.0\",\"Ring: 5.0\\n Wire: 15.0\",\"Ring: 6.0\\n Wire: 15.0\",\"Ring: 7.0\\n Wire: 17.0\",\"Ring: 8.0\\n Wire: 17.0\",\"Ring: 9.0\\n Wire: 10.0\",\"Ring: 10.0\\n Wire: 9.0\",\"Ring: 11.0\\n Wire: 11.0\",\"Ring: 12.0\\n Wire: 11.0\",\"Ring: 13.0\\n Wire: 17.0\",\"Ring: 15.0\\n Wire: 19.0\",\"Ring: 16.0\\n Wire: 18.0\",\"Ring: 17.0\\n Wire: 14.0\",\"Ring: 18.0\\n Wire: 14.0\",\"Ring: 19.0\\n Wire: 16.0\",\"Ring: 20.0\\n Wire: 15.0\",\"Ring: 21.0\\n Wire: 28.0\",\"Ring: 22.0\\n Wire: 27.0\",\"Ring: 23.0\\n Wire: 28.0\",\"Ring: 24.0\\n Wire: 28.0\",\"Ring: 25.0\\n Wire: 23.0\",\"Ring: 26.0\\n Wire: 23.0\",\"Ring: 27.0\\n Wire: 24.0\",\"Ring: 28.0\\n Wire: 23.0\"],\"x\":[5.360900648239789,6.804737952406192,7.802341110887268,7.8345615611740715,10.078369740809585,11.585683605355651,12.580064916739694,14.094950486361792,13.700274875072203,15.183438247374443,17.072566548253693,17.274545525914192,20.52041137180547,22.867806299481686,24.399806868362607,26.153264076690284,27.71348881275772,28.31957561236435,29.87985405522188,29.96684451947852,31.5199251666552,33.33251623256095,34.89985744048344,37.77246654991497,39.352062156688305,40.902422633894986,42.486490635459575],\"y\":[9.285350800034548,9.980716080977496,11.358703327376697,12.960887785339926,13.609500706123306,14.18085598122732,16.216200001327444,16.766019510929585,19.530342798064304,20.16036377262872,21.161107894386955,22.7599064942696,23.740489488253537,25.744600434642326,26.21447893963573,26.7993333759879,27.201825678140803,29.00574449101445,29.41056170923937,31.69184946777068,32.1238569714302,32.688407864386704,33.06321811226802,33.3294340009781,33.6224834920941,34.27261682871963,34.526314984993775],\"type\":\"scatter\",\"uid\":\"6493739e-f6d9-4daf-a22b-54b2601849bd\"},{\"marker\":{\"color\":\"red\"},\"mode\":\"lines\",\"name\":\"track\",\"type\":\"scatter\",\"uid\":\"9fad4afe-c294-4772-855f-58bc5aeac9b5\",\"x\":[0.0,0.026229839938181954,0.052493984374223146,0.07879242004182174,0.10512513365742393,0.1314921119200676,0.1578933415115955,0.1843288090964279,0.2107985013218041,0.2373024048175978,0.26384050619644484,0.2904127920536723,0.31701924896739797,0.3436598634984165,0.370334622190299,0.39704351156935047,0.4237865181446949,0.45056362840813335,0.47737482883432847,0.5042201058806484,0.5310994459873086,0.5580128355772587,0.584960261056338,0.6119417088130916,0.6389571652189687,0.6660066166281666,0.693090049377787,0.7202074497876652,0.7473588041605979,0.7745440987821297,0.8017633199207239,0.829016453827677,0.8563034867372039,0.8836244048663104,0.9109791944149777,0.9383678415659915,0.9657903324851276,0.9932466533209947,1.0207367902051345,1.0482607292520214,1.0758184565590625,1.1034099582065409,1.1310352202577576,1.1586942287589181,1.1863869697391891,1.214113429210684,1.2418735931685063,1.2696674475907486,1.2974949784384364,1.325356171655642,1.3532510131693698,1.381179488889714,1.4091415847096727,1.4371372865053758,1.4651665801358718,1.493229451443355,1.5213258862529386,1.5494558703728671,1.5776193895944033,1.6058164296918989,1.6340469764227379,1.6623110155274077,1.6906085327294562,1.718939513735549,1.7473039442354121,1.775701809901932,1.804133096391027,1.8325977893418042,1.861095874376474,1.8896273371003645,1.9181921631019634,1.946790337952919,1.9754218472079685,2.004086676405123,2.032784811065426,2.0615162366932367,2.09028093877599,2.119078902784395,2.1479101141722765,2.1767745583767493,2.205672220818073,2.2346030868997815,2.263567142008597,2.2925643715145014,2.321594760770722,2.3506582951137034,2.3797549598631917,2.408884740322165,2.4380476217769314,2.4672435894969738,2.4964726287351766,2.5257347247276414,2.5550298626938144,2.58435802783643,2.613719205341539,2.643113380378537,2.672540538100151,2.7020006636424228,2.731493742124769,2.7610197586499226,2.7905786983040315,2.8201705461565894,2.849795287260463,2.879452906651892,2.909143389350561,2.938866720359485,2.9686228846651517,2.998411867237394,3.0282336530295595,3.058088226978313,3.0879755740038917,3.117895679009834,3.1478485268832657,3.177834102494657,3.207852390698065,3.2379033763309195,3.2679870442141805,3.298103379152309,3.3282523659332384,3.3584339893284323,3.388648234092855,3.4188950849650013,3.4491745266669085,3.479486543904102,3.509831121365721,3.5402082437244076,3.5706178956364027,3.6010600617414497,3.631534726662977,3.662041875007887,3.6925814913667523,3.7231535603137047,3.7537580664064905,3.784394994186499,3.8150643281786927,3.845766052891719,3.876500152817812,3.9072666124329203,3.938065416196565,3.968896548551996,3.999759993926091,4.030655736729457,4.06158376135631,4.09254405218465,4.123536593576098,4.154561369876049,4.185618365413561,4.216707564501476,4.247828951436304,4.278982510498359,4.310168225951642,4.3413860820439965,4.3726360630069365,4.40391815305582,4.435232336389731,4.466578597191614,4.49795691962813,4.529367287849816,4.560809685990961,4.592284098169728,4.623790508488057,4.655328901031801,4.6868992598705645,4.718501569057892,4.7501358126311075,4.781801974611504,4.813500039004147,4.845229989798064,4.876991810966132,4.908785486465177,4.9406110002358545,4.9724683362028514,5.004357478274663,5.03627841034379,5.0682311162866895,5.100215579963724,5.132231785219204,5.164279715881449,5.196359355762773,5.228470688659392,5.260613698351591,5.2927883686035955,5.324994683163709,5.357232625764162,5.389502180121305,5.421803329935422,5.4541360588909455,5.486500350656243,5.518896188883851,5.551323557210274,5.5837824392561615,5.616272818626193,5.648794678909198,5.681348003678039,5.7139327764897345,5.746548980885379,5.779196600390236,5.811875618513653,5.844586018749169,5.877327784574419,5.91010089945123,5.942905346825576,5.975741110127636,6.008608172771716,6.041506518156375,6.074436129664299,6.1073969906624725,6.14038908450199,6.173412394518294,6.206466904030918,6.239552596343771,6.272669454744886,6.305817462506681,6.338996602885729,6.372206859122954,6.405448214443503,6.438720652056887,6.472024155156824,6.505358706921427,6.538724290513102,6.572120889078555,6.605548485748805,6.639007063639291,6.672496605849759,6.706017095464297,6.739568515551412,6.773150849163912,6.806764079339075,6.840408189098497,6.8740831614482545,6.907788979378751,6.941525625864891,6.975293083865914,7.009091336325611,7.042920366172105,7.076780156318073,7.110670689660559,7.1445919490811605,7.178543917445893,7.212526577605331,7.246539912394454,7.280583904632827,7.314658537124487,7.348763792658019,7.382899654006508,7.417066103927631,7.451263125163543,7.485490700441034,7.5197488124713985,7.554037443950548,7.588356577558947,7.62270619596169,7.657086281808425,7.691496817733473,7.7259377863556935,7.760409170278663,7.794910952090504,7.829443114364089,7.864005639656838,7.898598510510901,7.933221709453122,7.967875218994934,8.002559021632528,8.037273099846772,8.07201743610328,8.106792012852324,8.141596812528945,8.176431817552881,8.211297010328657,8.246192373245492,8.281117888677443,8.316073538983261,8.351059306506528,8.38607517357557,8.421121122503571,8.456197135588432,8.49130319511297,8.526439283344736,8.561605382536186,8.596801474924533,8.63202754273194,8.667283568165338,8.702569533416614,8.73788542066243,8.773231212064438,8.808606889769095,8.844012435907842,8.879447832596952,8.914913061937717,8.950408106016248,8.985932946903695,9.021487566656084,9.057071947314476,9.092686070904804,9.12832991943808,9.164003474910203,9.199706719302156,9.235439634579848,9.271202202694269,9.306994405581364,9.342816225162196,9.378667643342752,9.414548642014196,9.450459203052624,9.486399308319307,9.52236893966056,9.558368078907755,9.594396707877351,9.63045480837097,9.666542362175328,9.702659351062216,9.73880575678863,9.774981561096624,9.8111867457135,9.84742129235162,9.883685182708618,9.919978398467187,9.95630092129533,9.992652732846146,10.029033814758009,10.065444148654471,10.101883716144329,10.138352498821583,10.174850478265526,10.211377636040645,10.247933953696752,10.284519412768852,10.321133994777327,10.357777681227752,10.394450453611078,10.431152293403507,10.467883182066615,10.504643101047229,10.54143203177761,10.578249955675268,10.61509685414314,10.651972708569481,10.688877500327969,10.725811210777593,10.762773821262819,10.799765313113447,10.836785667644733,10.87383486615731,10.910912889937322,10.948019720256234,10.98515533837108,11.022319725524262,11.059512862943727,11.096734731842815,11.133985313420418,11.171264588860929,11.208572539334213,11.245909145995626,11.283274389986119,11.320668252432156,11.358090714445709,11.395541757124363,11.433021361551177,11.470529508794904,11.508066179909761,11.545631355935654,11.583225017898009,11.620847146807947,11.65849772366213,11.69617672944291,11.733884145118225,11.771619951641732,11.809384129952669,11.84717666097604,11.884997525622403,11.922846704788135,11.960724179355196,11.998629930191356,12.036563938150003,12.07452618407035,12.112516648777259,12.150535313081413,12.188582157779166,12.22665716365276,12.264760311470056,12.302891581984866,12.341050955936652,12.37923841405079,12.417453937038388,12.455697505596454,12.493969100407746,12.532268702140954,12.570596291450535,12.608951848976908,12.647335355346236,12.685746791170686,12.724186137048285,12.762653373562927,12.8011484812844,12.839671440768491,12.878222232556901,12.916800837177227,12.955407235143007,12.994041406953812,13.03270333309517,13.071392994038511,13.110110370241372,13.14885544214718,13.187628190185457,13.22642859477169,13.265256636307434,13.304112295180254,13.342995551763806,13.38190638641774,13.420844779487872,13.459810711305977,13.49880416219004,13.537825112444061,13.576873542358193,13.615949432208673,13.655052762257938,13.69418351275445,13.733341663932961,13.772527196014238,13.811740089205351,13.850980323699439,13.890247879675925,13.92954273730033,13.96886487672451,14.008214278086399,14.047590921510292,14.086994787106605,14.126425854972133,14.165884105189804,14.205369517828913,14.244882072944954,14.284421750579781,14.32398853076154,14.363582393504636,14.403203318809815,14.442851286664173,14.482526277041174,14.522228269900559,14.561957245188452,14.601713182837386,14.641496062766272,14.681305864880365,14.721142569071326,14.76100615521728,14.800896603182764,14.840813892818673,14.880758003962455,14.920728916437895,14.960726610055346,15.00075106461155,15.040802259889794,15.0808801756598,15.120984791677863,15.1611160876867,15.20127404341568,15.241458638580553,15.281669852883745,15.321907666014141,15.362172057647278,15.402463007445164,15.44278049505651,15.48312450011651,15.52349500224706,15.563891981056592,15.604315416140231,15.644765287079665,15.685241573443335,15.725744254786214,15.76627331065005,15.806828720563189,15.847410464040742,15.888018520584424,15.928652869682772,15.969313490810919,16.010000363430848,16.050713466991184,16.091452780927348,16.13221828466157,16.173009957602744,16.213827779146598,16.25467172867568,16.295541785559323,16.336437929153647,16.3773601388016,16.418308393832987,16.45928267356448,16.500282957299518,16.541309224328522,16.582361453928662,16.623439625364114,16.664543717885856,16.70567371073185,16.74682958312689,16.788011314282798,16.829218883398234,16.870452269658905,16.91171145223737,16.95299641029328,16.99430712297314,17.035643569410567,17.077005728726064,17.11839358002726,17.159807102408692,17.20124627495204,17.24271107672594,17.28420148678616,17.325717484175435,17.36725904792369,17.40882615704782,17.450418790551936,17.492036927427144,17.533680546651766,17.57534962719115,17.617044147997902,17.658764088011658,17.70050942615933,17.742280141354875,17.784076212499563,17.825897618481747,17.867744338177076,17.909616350448317,17.951513634145527,17.993436168106015,18.03538393115428,18.077356902102068,18.11935505974845,18.161378382879782,18.20342685026965,18.24550044067893,18.287599132855874,18.32972290553606,18.371871737442298,18.414045607284862,18.456244493761268,18.4984683755565,18.54071723134281,18.582991039779962,18.625289779514972,18.667613429182403,18.709961967404112,18.75233537278949,18.794733623935265,18.837156699425734,18.879604577832538,18.92207723771488,18.96457465761936,19.007096816080185,19.049643691618925,19.092215262744823,19.13481150795448,19.177432405732205,19.220077934549685,19.262748072866323,19.30544279912897,19.348162091772146,19.390905929217865,19.433674289875867,19.476467152143385,19.51928449440537,19.562126295034318,19.604992532390483,19.64788318482166,19.690798230663376,19.733737648238865,19.776701415858987,19.819689511822276,19.86270191441509,19.905738601911445,19.948799552573085,19.991884744649475,20.034994156377877,20.078127765983368,20.12128555167866,20.164467491664404,20.207673564128932,20.250903747248486,20.29415801918703,20.33743635809647,20.380738742116442,20.424065149374528,20.467415557986115,20.51078994605453,20.554188291670897,20.59761057291435,20.6410567678518,20.684526854538234,20.72802081101642,20.771538615317198,20.815080245459242,20.858645679449317,20.902234895282042,20.945847870940142,20.989484584394212,21.033145013602983,21.076829136513098,21.120536931059334,21.16426837516442,21.20802344673922,21.251802123682566,21.29560438388149,21.339430205210988,21.38327956553426,21.42715244270252,21.47104881455521,21.51496865891979,21.558911953611975,21.602878676435523,21.64686880518245,21.69088231763294,21.734919191555306,21.778979404706092,21.823062934830048,21.867169759660214,21.911299856917772,21.955453204312143,21.99962977954108,22.043829560290597,22.088052524234897,22.132298649036585,22.176567912346457,22.22086029180374,22.26517576503587,22.309514309658717,22.35387590327641,22.398260523481525,22.44266814785491,22.48709875396589,22.531552319372096,22.576028821619644,22.62052823824296,22.665050546765023,22.709595724697138,22.75416374953914,22.79875459877924,22.843368249894226,22.888004680349248,22.932663867598073,22.977345789082854,23.022050422234393,23.066777744471864,23.111527733203125,23.15630036582447,23.201095619720874,23.245913472265755,23.29075390082123,23.335616882737924,23.38050239535515,23.42541041600076,23.470340921991323,23.51529389063196,23.56026929921653,23.605267125027467,23.650287345335975,23.695329937401915,23.740394878473822,23.785482145788926,23.83059171657323,23.875723568041494,23.920877677397137,23.966054021832377,24.011252578528214,24.056473324654448,24.1017162373696,24.14698129382107,24.192268471145006,24.237577746466457,24.282909096899218,24.328262499546035,24.373637931498415,24.41903536983684,24.46445479163058,24.509896173937875,24.555359493805817,24.600844728270474,24.646351854356766,24.691880849078657,24.73743168943897,24.783004352429565,24.828598815031206,24.874215054213735,24.919853046935906,24.965512770145573,25.01119420077952,25.056897315763656,25.102622092012837,25.14836850643111,25.19413653591144,25.239926157336022,25.285737347576024,25.331570083491805,25.377424341932766,25.42330009973753,25.469197333733753,25.51511602073832,25.561056137557273,25.607017660985818,25.653000567808284,25.69900483479831,25.7450304387187,25.79107735632148,25.837145564347836,25.88323503952833,25.92934575858274,25.97547769822004,26.021630835138588,26.06780514602594,26.114000607559056,26.160217196404133,26.206454889216694,26.252713662641668,26.298993493313326,26.34529435785521,26.391616232880367,26.437959094991122,26.48432292077929,26.530707686826005,26.57711336970192,26.623539945967025,26.669987392170867,26.71645568485232,26.76294480053987,26.809454715751343,26.8559854069942,26.90253685076528,26.949109023551046,26.995701901827395,27.042315462059854,27.088949680703422,27.13560453420275,27.182279998991966,27.228976051494868,27.275692668124854,27.322429825284893,27.369187499367534,27.415965666755085,27.462764303819455,27.50958338692216,27.556422892414425,27.60328279663716,27.65016307592102,27.697063706586285,27.743984664942978,27.79092592729088,27.83788746991953,27.884869269108194,27.931871301125852,27.97889354223137,28.025935968673373,28.072998556690266,28.12008128251022,28.167184122351358,28.21430705242159,28.26145004891861,28.308613088030093,28.355796145933468,28.40299919879618,28.450222222775444,28.497465194018524,28.544728088662467,28.592010882834394,28.639313552651238,28.68663607422002,28.73397842363763,28.78134057699104,28.828722510357117,28.876124199802824,28.923545621385074,28.970986751150896,29.01844756513725,29.065928039371286,29.113428149870096,29.160947872640968,29.20848718368118,29.256046058978214,29.30362447450957,29.351222406242954,29.398839830136218,29.44647672213732,29.494133058184353,29.541808814205694,29.58950396611987,29.637218489835575,29.68495236125171,29.732705556257457,29.780478050732263,29.82826982054572,29.876080841557737,29.923911089618514,29.971760540568575,30.01962917023866,30.06751695444983,30.115423869013533,30.163349889731556,30.21129499239597,30.2592591527892,30.30724234668412,30.355244549843988,30.403265738022355,30.451305886963333,30.499364972401295,30.547442970061205,30.59553985565833,30.643655604898534,30.691790193478028,30.739943597083617,30.788115791392492,30.83630675207248,30.88451645478179,30.9327448751693,30.980991988874294,31.029257771526765,31.077542198747125,31.12584524614651,31.17416688932652,31.222507103879487,31.27086586538823,31.31924314942634,31.36763893155792,31.41605318733785,31.464485892311565,31.512937022015258,31.56140655197582,31.60989445771081,31.658400714728472,31.706925298527857,31.75546818459876,31.804029348421672,31.85260876546785,31.901206411199375,31.949822261069144,31.998456290520792,32.04710847498877,32.09577878989842,32.144467210665916,32.19317371269823,32.241898271393225,32.29064086213967,32.33940146031725,32.388180041296465,32.436976580438774,32.48579105309659,32.53462343461328,32.583473700323076,32.6323418255513,32.68122778561412,32.73013155581882,32.77905311146359,32.82799242783772,32.87694948022144,32.92592424388612,32.97491669409407,33.0239268060988,33.07295455514476,33.121999916467615,33.171062865294026,33.220143376841875,33.269241426320065,33.318356988928755,33.36749003985913,33.41664055429368,33.46580850740593,33.51499387436073,33.564196630314065,33.613416750413144,33.662654209796365,33.711908983593446,33.76118104692535,33.810470374904256,33.85977694263361,33.90910072520821,33.958441697714186,34.00779983522889,34.057175112821014,34.106567505550665,34.1559769884693,34.20540353661967,34.25484712503592,34.30430772874365,34.353785322759855,34.403279882092896,34.45279138174256,34.50231979670013,34.551865101948366,34.601427272461386,34.65100628320492,34.70060210913607,34.75021472520356,34.79984410634753,34.849490227499736,34.8991530635834,34.948832589513394,34.99852878019605,35.048241610529395,35.09797105540294,35.14771708969792,35.19747968828708,35.2472588260349,35.297054477797396,35.34686661842236,35.39669522274914,35.44654026560888,35.49640172182431,35.54627956620999,35.59617377357207,35.64608431870856,35.69601117640911,35.7459543214552,35.7959137286201,35.84588937266878,35.89588122835807,35.94588927043661,35.99591347364485,36.04595381271507,36.09601026237142,36.1460827973299,36.19617139229839,36.24627602197664,36.296396661056335,36.34653328422105,36.39668586614628,36.44685438149948,36.49703880494004,36.547239111119325,36.597455274680684,36.647687270259425,36.69793507248289,36.74819865597041,36.79847799533342,36.848773065175266,36.89908384009148,36.94941029466954,36.99975240348914,37.05011014112191,37.10048348213175,37.15087240107453,37.201276872498376,37.25169687094344,37.30213237094216,37.35258334701901,37.40304977369077,37.453531625466304,37.5040288768468,37.55454150232554,37.60506947638818,37.65561277351247,37.70617136816858,37.75674523481881,37.807334347917866,37.857938681912636,37.90855821124242,37.9591929103388,38.0098427536257,38.06050771551938,38.11118777042848,38.16188289275402,38.212593056889396,38.26331823722042,38.314058408125305,38.3648135439747,38.415583619131695,38.466368607951836,38.51716848478312,38.56798322396605,38.618812799833606,38.66965718671128,38.72051635891707,38.77139029076152,38.82227895654771,38.8731823305713,38.924100387120475,38.97503310047605,39.02598044491139,39.07694239469255,39.1279189240781,39.17891000731935,39.22991561866016,39.280935732337156,39.33197032257952,39.38301936360925,39.43408282964093,39.48516069488195,39.53625293353233,39.587359519784954,39.63848042782533,39.68961563183184,39.74076510597555,39.79192882442041,39.843106761323085,39.894298890833156,39.94550518709292,39.99672562423764,40.04796017639533,40.09920881768694,40.150471522226304,40.201748264120106,40.25303901746798,40.30434375636245,40.35566245488902,40.406995087126106,40.458341627145096],\"y\":[1.4210854715202004e-14,0.04827720293394577,0.0965357518486556,0.14477562236821484,0.1929967901262586,0.24119923076575134,0.2893829199392357,0.33754783330859794,0.38569394654533085,0.43382123533030637,0.4819296753540314,0.5300192423164063,0.5780899119269733,0.6261416599047251,0.6741744619783105,0.7221882938858357,0.7701831313751057,0.8181589502034186,0.8661157261377639,0.9140534349546598,0.9619720524403661,1.0098715543906494,1.0577519166110818,1.1056131149167712,1.1534551251326164,1.2012779230930875,1.2490814846425025,1.2968657856347434,1.3446308019335547,1.3923765094123155,1.4401028839542676,1.4878099014522874,1.5354975378091567,1.5831657689373415,1.630814570759199,1.6784439192068064,1.7260537902221813,1.7736441597570547,1.8212150037731192,1.8687662982418303,1.9162980191446408,1.963810142472731,2.0113026442273423,2.058775500419486,2.106228687070228,2.153662180210439,2.2010759558810378,2.2484699901328895,2.295844259026751,2.3431987386334825,2.390533405033814,2.437848234318608,2.485143202588624,2.532418285954769,2.5796734605379044,2.6269087024690094,2.6741239878890823,2.7213192929492536,2.768494593810665,2.8156498666446836,2.862785087632659,2.909900232966187,2.956995278846911,3.004070201486705,3.051124977107527,3.0981595819415944,3.1451739922312214,3.192168184229047,3.2391421341977704,3.286095818410466,3.333029213150297,3.3799422947108297,3.4268350393957476,3.473707423519116,3.520559423405203,3.567391015388644,3.61420217581432,3.6609928810374797,3.707763107423659,3.754512831348805,3.8012420291991234,3.8479506773713084,3.8946387522723,3.9413062303195687,3.987953087940845,4.034579301574425,4.081184847668887,4.127769702683352,4.174333843087382,4.220877245360924,4.267399885994514,4.313901741489055,4.3603827883560555,4.406843003117459,4.453282362305792,4.499700842464044,4.546098420145832,4.5924750719152385,4.638830774347035,4.685165504026436,4.731479237549387,4.777771951522297,4.824043622562357,4.870294227297201,4.9165237423652925,4.96273214441559,5.008919410107822,5.0550855161123,5.101230439110147,5.147354155793053,5.193456642863538,5.239537877034728,5.2855978350306,5.331636493585776,5.377653829445727,5.423649819366609,5.469624440115446,5.515577668469959,5.561509481218785,5.607419855161261,5.653308767107674,5.699176193879026,5.745022112307296,5.790846499235201,5.836649331516476,5.882430586015587,5.92819023960805,5.973928269180163,6.01964465162925,6.0653393638634725,6.111012382802052,6.156663685375037,6.202293248523546,6.247901049199662,6.29348706436641,6.339051270997878,6.384593646079111,6.430114166606266,6.475612809586416,6.521089552037836,6.566544370989696,6.611977243482414,6.657388146567328,6.702777057307017,6.748143952775031,6.793488810056196,6.838811606246303,6.884112318452431,6.929390923792695,6.974647399396503,7.0198817224042855,7.065093869967832,7.110283819249986,7.15545154742491,7.200597031677894,7.24572024920559,7.29082117721574,7.335899792927506,7.38095607357117,7.425989996388438,7.471001538632173,7.51599067756667,7.560957390467422,7.605901654621363,7.650823447326651,7.695722745892915,7.740599527641017,7.78545376990332,7.830285450023467,7.875094545356575,7.919881033269107,7.9646448911390095,8.009386096355577,8.054104626319614,8.0988004584434,8.14347357015059,8.188123938876345,8.232751542067362,8.277356357181816,8.321938361689355,8.366497533071204,8.411033848820054,8.455547286440236,8.500037823447528,8.544505437369367,8.5889501057447,8.633371806124124,8.67777051606977,8.722146213155462,8.766498874966565,8.81082847910016,8.85513500316489,8.899418424781139,8.943678721580888,8.987915871207882,9.032129851317436,9.076320639576714,9.120488213664458,9.164632551271254,9.208753630099316,9.252851427862716,9.296925922287166,9.340977091110268,9.3850049120813,9.429009362961438,9.472990421523548,9.516948065552427,9.560882272844587,9.6047930212085,9.648680288464355,9.692544052444312,9.736384290992333,9.78020098196432,9.823994103227996,9.86776363266307,9.911509548161092,9.955231827625617,9.998930448972054,10.042605390127818,10.08625662903232,10.12988414363685,10.173487911904715,10.217067911811249,10.260624121343803,10.30415651850165,10.34766508129622,10.391149787750855,10.434610615901057,10.478047543794297,10.521460549490214,10.564849611060424,10.608214706588747,10.651555814170983,10.69487291191519,10.738165977941428,10.781434990381996,10.824679927381247,10.86790076709579,10.911097487694313,10.95427006735779,10.997418484279272,11.040542716664135,11.08364274272985,11.126718540706243,11.169770088835243,11.21279736537116,11.255800348580436,11.298779016741904,11.341733348146583,11.384663321097854,11.42756891391133,11.470450104915038,11.513306872449213,11.556139194866539,11.59894705053194,11.64173041782282,11.684489275128819,11.727223600852078,11.769933373407014,11.812618571220554,11.855279172732011,11.897915156393054,11.940526500667836,11.983113184032966,12.02567518497753,12.068212482002991,12.110725053623398,12.153212878365203,12.195675934767422,12.238114201381514,12.28052765677156,12.322916279514047,12.365280048198123,12.407618941425397,12.449932937810118,12.492222015979038,12.534486154571589,12.576725332239683,12.61893952764796,12.661128719473567,12.70329288640638,12.745432007148828,12.787546060416076,12.829635024935854,12.87169887944868,12.913737602707641,12.955751173478617,12.99773957054009,13.039702772683377,13.081640758712396,13.123553507443908,13.165440997707357,13.207303208344982,13.249140118211749,13.29095170617547,13.332737951116648,13.374498831928705,13.416234327517756,13.457944416802874,13.499629078715806,13.541288292201294,13.582922036216807,13.624530289732796,13.666113031732472,13.707670241212014,13.749201897180512,13.790707978659874,13.832188464684961,13.873643334303615,13.91507256657659,13.956476140577536,13.997854035393146,14.039206230123007,14.080532703879769,14.121833435788986,14.163108404989295,14.20435759063227,14.245580971882603,14.286778527917896,14.327950237928924,14.369096081119402,14.410216036706231,14.451310083919253,14.492378202001532,14.533420370209107,14.574436567811226,14.615426774090167,14.656390968341427,14.697329129873552,14.738241238008321,14.779127272080586,14.819987211438452,14.860821035443138,14.901628723469123,14.942410254903997,14.983165609148664,15.02389476561715,15.064597703736816,15.105274402948154,15.145924842705035,15.186549002474472,15.227146861736848,15.267718399985753,15.308263596728153,15.348782431484231,15.389274883787579,15.429740933185002,15.47018055923678,15.51059374151641,15.55098045961082,15.591340693120308,15.631674421658523,15.671981624852464,15.7122622823426,15.75251637378281,15.79274387884032,15.832944777195856,15.873119048543522,15.91326667259095,15.953387629059137,15.993481897682642,16.03354945820942,16.073590290401008,16.113604374032334,16.15359168889195,16.193552214781832,16.233485931517585,16.27339281892823,16.31327285685648,16.35312602515848,16.392952303704078,16.43275167237656,16.472524111072943,16.512269599703735,16.551988118193144,16.591679646478916,16.631344164512534,16.670981652259,16.710592089697094,16.75017545681915,16.789731733631264,16.82926090015315,16.86876293641828,16.908237822473737,16.947685538380426,16.98710606421288,17.026499380059455,17.065865466022167,17.105204302216855,17.14451586877305,17.18380014583412,17.223057113557225,17.262286752113262,17.301489041686942,17.34066396247683,17.379811494695318,17.41893161856858,17.45802431433664,17.49708956225343,17.53612734258673,17.575137635618134,17.614120421643207,17.653075680971334,17.69200339392586,17.730903540843997,17.769776102076925,17.80862105798971,17.84743838896143,17.886228075385027,17.924990097667504,17.963724436229732,18.002431071506678,18.041109983947194,18.079761154014236,18.118384562184666,18.15698018894949,18.195548014813625,18.234088020296127,18.272600185930038,18.311084492262523,18.349540919854753,18.387969449282046,18.42637006113374,18.464742736013356,18.50308745453843,18.541404197340746,18.57969294506608,18.617953678374455,18.656186377939974,18.694391024450958,18.73256759860984,18.770716081133273,18.808836452752118,18.846928694211385,18.88499278627029,18.923028709702315,18.961036445295157,18.99901597385074,19.03696727618518,19.074890333128963,19.11278512552679,19.15065163423762,19.18848984013468,19.22629972410556,19.264081267052127,19.301834449890535,19.3395592535513,19.377255658979244,19.414923647133577,19.452563198987782,19.49017429552982,19.527756917761906,19.565311046700735,19.60283666337731,19.640333748837122,19.677802284139993,19.715242250360234,19.752653628586522,19.79003639992205,19.827390545484363,19.864716046405576,19.90201288383217,19.939281038925195,19.976520492860097,20.01373122682692,20.050913222030097,20.088066459688704,20.125190921036236,20.162286587320814,20.199353439804995,20.23639145976601,20.27340062849556,20.31038092729998,20.347332337500134,20.384254840431552,20.421148417444257,20.458013049902974,20.49484871918707,20.531655406690433,20.56843309382164,20.605181762003937,20.641901392675265,20.678591967288135,20.715253467309772,20.75188587422211,20.788489169521803,20.8250633347201,20.861608351343108,20.898124200931527,20.934610865040895,20.971068325241404,21.007496563118067,21.0438955602706,21.080265298313556,21.116605758876176,21.15291692360259,21.189198774151635,21.22545129219705,21.261674459427276,21.297868257545694,21.33403266827041,21.370167673334485,21.406273254485733,21.442349393486914,21.478396072115586,21.514413272164255,21.550400975440233,21.58635916376585,21.622287818978215,21.658186922929474,21.69405645748659,21.729896404531544,21.765706745961204,21.801487463687465,21.837238539637077,21.872959955751895,21.908651693988624,21.94431373631906,21.979946064729937,22.015548661223043,22.05112150781514,22.086664586538035,22.122177879438617,22.157661368578736,22.193115036035337,22.22853886390044,22.263932834281142,22.2992969292996,22.334631131093026,22.369935421813807,22.405209783629424,22.440454198722406,22.475668649290512,22.510853117546517,22.546007585718478,22.581132036049453,22.616226450797818,22.651290812236986,22.68632510265566,22.72132930435761,22.756303399661952,22.791247370902873,22.826161200429873,22.861044870607607,22.895898363816023,22.930721662450253,22.965514748920754,23.000277605653146,23.035010215088427,23.069712559682777,23.104384621907755,23.1390263842501,23.173637829211984,23.208218939310783,23.242769697079275,23.277290085065516,23.31178008583295,23.346239681960306,23.38066885604176,23.41506759068674,23.449435868520162,23.483773672182238,23.518080984328627,23.5523577876304,23.586604064773987,23.62081979846124,23.655004971409483,23.68915956635147,23.72328356603537,23.757376953224785,23.79143971069886,23.825471821252165,23.859473267694717,23.893444032852102,23.927384099565316,23.96129345069093,23.995172069100967,24.02901993768306,24.062837039340273,24.0966233569913,24.130378873570308,24.164103572027088,24.197797435326947,24.231460446450818,24.265092588395134,24.298693844172043,24.332264196809156,24.365803629349827,24.399312124852905,24.43278966639297,24.46623623706016,24.49965181996032,24.533036398214875,24.566389954960982,24.59971247335141,24.63300393655468,24.666264327754888,24.69949363015195,24.732691826961357,24.765858901414447,24.798994836758148,24.83209961625522,24.865173223184094,24.89821564083899,24.931226852529846,24.964206841582396,24.9971555913381,25.030073085154243,25.062959306403897,25.095814238475903,25.128637864774888,25.16143016872133,25.19419113375156,25.226920743317656,25.259618980887574,25.292285829945122,25.324921273989993,25.357525296537645,25.390097881119537,25.422639011282882,25.455148670590887,25.487626842622568,25.520073510972928,25.552488659252795,25.584872271088997,25.617224330124245,25.649544820017198,25.681833724442455,25.71409102709061,25.74631671166815,25.778510761897607,25.810673161517407,25.84280389428205,25.874902943961963,25.906970294343644,25.939005929229502,25.9710098324381,26.002981987803892,26.03492237917748,26.066830990425423,26.098707805430415,26.13055280809113,26.16236598232237,26.194147312054973,26.22589678123591,26.25761437382819,26.289300073810978,26.32095386517947,26.352575731945088,26.384165658135274,26.41572362779369,26.44724962498006,26.478743633770307,26.510205638256544,26.54163562254697,26.57303357076598,26.604399467054186,26.635733295568386,26.66703504048155,26.698304685982833,26.72954221627765,26.76074761558766,26.79192086815066,26.823061958220784,26.85417087006831,26.88524758797989,26.916292096258317,26.947304379222743,26.97828442120855,27.009232206567418,27.040147719667324,27.07103094489255,27.10188186664365,27.13270046933757,27.16348673740749,27.194240655303012,27.224962207489973,27.2556513784507,27.28630815268371,27.316932514704057,27.347524449043,27.378083940248295,27.40861097288404,27.43910553153075,27.46956760078529,27.499997165261014,27.530394209587634,27.56075871841133,27.591090676394636,27.621390068216662,27.65165687857283,27.681891092175128,27.71209269375192,27.742261668048094,27.772397999825053,27.802501673860597,27.832572674949084,27.862610987901327,27.892616597544766,27.922589488723197,27.95252964629703,27.98243705514323,28.012311700155287,28.04215356624318,28.071962638333524,28.101738901369465,28.131482340310733,28.161192940133624,28.190870685830994,28.220515562412352,28.250127554903806,28.279706648348004,28.309252827804293,28.338766078348606,28.368246385073526,28.39769373308821,28.427108107518585,28.456489493507128,28.48583787621302,28.51515324081212,28.544435572496944,28.573684856476696,28.6029010779773,28.632084222241325,28.661234274528134,28.69035122011369,28.719435044290798,28.7484857323689,28.777503269674234,28.806487641549758,28.83543883335515,28.86435683046694,28.89324161827833,28.922093182199326,28.950911507656734,28.979696580094178,29.00844838497199,29.03716690776735,29.065852133974282,29.094504049103612,29.123122638682936,29.15170788825676,29.18025978338637,29.208778309649965,29.23726345264253,29.265715197975958,29.29413353127898,29.322518438197243,29.350869904393257,29.37918791554639,29.407472457352945,29.43572351552617,29.463941075796136,29.492125123909908,29.520275645631422,29.54839262674161,29.57647605303827,29.604525910336243,29.632542184467233,29.660524861279974,29.688473926640107,29.71638936643034,29.74427116655027,29.772119312916566,29.799933791462827,29.82771458813972,29.85546168891485,29.883175079772947,29.910854746715664,29.938500675761752,29.96611285294697,29.993691264324163,30.02123589596318,30.048746733951,30.076223764391564,30.10366697340603,30.13107634713254,30.158451871726363,30.185793533359806,30.213101318222378,30.240375212520668,30.267615202478346,30.294821274336194,30.321993414352214,30.34913160880148,30.37623584397621,30.403306106185802,30.43034238175681,30.45734465703294,30.484312918375103,30.51124715216134,30.5381473447869,30.565013482664277,30.5918455522231,30.61864353991023,30.645407432189735,30.67213721554294,30.69883287646835,30.725494401481747,30.75212177711611,30.778714989921717,30.80527402646606,30.83179887333393,30.858289517127368,30.88474594446567,30.911168141985463,30.937556096340636,30.96390979420236,30.990229222259153,31.01651436721678,31.042765215798404,31.068981754744435,31.095163970812656,31.121311850778163,31.147425381433443,31.17350454958825,31.19954934206981,31.225559745722556,31.25153574740846,31.277477334006754,31.30338449241409,31.32925720954453,31.355095472329516,31.380899267717858,31.406668582675827,31.43240340418712,31.458103719252797,31.48376951489137,31.509400778138804,31.534997496048554,31.5605596556914,31.586087244155657,31.61158024854712,31.637038655989024,31.662462453622076,31.687851628604427,31.713206168111817,31.738526059337396,31.763811289491862,31.789061845803367,31.814277715517612,31.839458885897862,31.86460534422482,31.88971707779678,31.914794073929563,31.939836319956548,31.96484380322861,31.98981651111429,32.01475443099957,32.03965755028812,32.06452585640107,32.08935933677726,32.11415797887302,32.13892177016235,32.16365069813677,32.1883447503055,32.213003914195305,32.23762817735062,32.26221752733348,32.2867719517236,32.31129143811825,32.33577597413244,32.36022554739878,32.384640145567566,32.40901975630671,32.433364367301856,32.457673966256344,32.4819485408911,32.506188078944824,32.53039256817389,32.5545619963524,32.57869635127209,32.602795620742505,32.62685979259084,32.65088885466211,32.674882794818934,32.698841600941755,32.72276526092876,32.74665376269589,32.770507094176814,32.794325243322966,32.818108198103594,32.841855946505696,32.865568476534044,32.88924577621123,32.91288783357758,32.9364946366913,32.96006617362834,32.98360243248252,33.00710340136539,33.03056906840646,33.05399942175293,33.07739444956993,33.10075414004039,33.124078481365125,33.14736746176276,33.170621069469824,33.193839292740684,33.217022119847606,33.24016953908069,33.26328153874798,33.28635810717537,33.309399232706646,33.33240490370354,33.35537510854565,33.378309835630496,33.40120907337353,33.42407281020814,33.4469010345856,33.4696937349752,33.492450899864075,33.515172517757385,33.537858577178234,33.56050906666764,33.58312397478465,33.60570329010624,33.628247001227386,33.650755096761024,33.67322756533813,33.695664395607615,33.718065576236434,33.74043109590951,33.762760943329816,33.78505510721835,33.80731357631408,33.829536339374066,33.85172338517335,33.87387470250507,33.895990280180335,33.918070107028406,33.940114171896504,33.96212246365,33.98409497117225,34.006031683364746,34.02793258914705,34.0497976774568,34.07162693724971,34.093420357499646,34.115177927198495,34.13689963535632,34.15858547100128,34.180235423179646,34.20184948095581,34.22342763341231,34.244969869649815,34.26647617878712,34.287946549961184,34.309380972327126,34.3307794350582,34.35214192734583,34.373468438399634,34.39475895744736,34.416013473734985,34.437231976526625,34.458414455104624,34.4795608987695,34.500671296839975,34.521745638652995,34.54278391356369,34.56378611094545,34.58475222018982,34.605682230706655,34.626576131923976,34.64743391328809,34.66825556426351,34.68904107433304,34.709790432997714,34.73050362977681,34.75118065420791,34.771821495846844,34.792426144267715,34.81299458906292,34.83352681984315,34.85402282623736,34.87448259789283,34.89490612447512,34.91529339566812,34.93564440117401,34.95595913071333,34.97623757402486,34.996479720865814,35.01668556101165,35.036855084256224,35.056988280411694,35.077085139308615,35.09714565079586,35.11716980474065,35.137157591028604,35.15710899956371,35.1770240202683,35.196902643083114,35.216744857967264,35.23655065489826,35.256320023871986,35.27605295490276,35.295749438023286,35.31540946328466,35.335033020756434,35.35462010052655,35.37417069270138]}],                        {\"template\":{\"data\":{\"barpolar\":[{\"marker\":{\"line\":{\"color\":\"#E5ECF6\",\"width\":0.5},\"pattern\":{\"fillmode\":\"overlay\",\"size\":10,\"solidity\":0.2}},\"type\":\"barpolar\"}],\"bar\":[{\"error_x\":{\"color\":\"#2a3f5f\"},\"error_y\":{\"color\":\"#2a3f5f\"},\"marker\":{\"line\":{\"color\":\"#E5ECF6\",\"width\":0.5},\"pattern\":{\"fillmode\":\"overlay\",\"size\":10,\"solidity\":0.2}},\"type\":\"bar\"}],\"carpet\":[{\"aaxis\":{\"endlinecolor\":\"#2a3f5f\",\"gridcolor\":\"white\",\"linecolor\":\"white\",\"minorgridcolor\":\"white\",\"startlinecolor\":\"#2a3f5f\"},\"baxis\":{\"endlinecolor\":\"#2a3f5f\",\"gridcolor\":\"white\",\"linecolor\":\"white\",\"minorgridcolor\":\"white\",\"startlinecolor\":\"#2a3f5f\"},\"type\":\"carpet\"}],\"choropleth\":[{\"colorbar\":{\"outlinewidth\":0,\"ticks\":\"\"},\"type\":\"choropleth\"}],\"contourcarpet\":[{\"colorbar\":{\"outlinewidth\":0,\"ticks\":\"\"},\"type\":\"contourcarpet\"}],\"contour\":[{\"colorbar\":{\"outlinewidth\":0,\"ticks\":\"\"},\"colorscale\":[[0.0,\"#0d0887\"],[0.1111111111111111,\"#46039f\"],[0.2222222222222222,\"#7201a8\"],[0.3333333333333333,\"#9c179e\"],[0.4444444444444444,\"#bd3786\"],[0.5555555555555556,\"#d8576b\"],[0.6666666666666666,\"#ed7953\"],[0.7777777777777778,\"#fb9f3a\"],[0.8888888888888888,\"#fdca26\"],[1.0,\"#f0f921\"]],\"type\":\"contour\"}],\"heatmapgl\":[{\"colorbar\":{\"outlinewidth\":0,\"ticks\":\"\"},\"colorscale\":[[0.0,\"#0d0887\"],[0.1111111111111111,\"#46039f\"],[0.2222222222222222,\"#7201a8\"],[0.3333333333333333,\"#9c179e\"],[0.4444444444444444,\"#bd3786\"],[0.5555555555555556,\"#d8576b\"],[0.6666666666666666,\"#ed7953\"],[0.7777777777777778,\"#fb9f3a\"],[0.8888888888888888,\"#fdca26\"],[1.0,\"#f0f921\"]],\"type\":\"heatmapgl\"}],\"heatmap\":[{\"colorbar\":{\"outlinewidth\":0,\"ticks\":\"\"},\"colorscale\":[[0.0,\"#0d0887\"],[0.1111111111111111,\"#46039f\"],[0.2222222222222222,\"#7201a8\"],[0.3333333333333333,\"#9c179e\"],[0.4444444444444444,\"#bd3786\"],[0.5555555555555556,\"#d8576b\"],[0.6666666666666666,\"#ed7953\"],[0.7777777777777778,\"#fb9f3a\"],[0.8888888888888888,\"#fdca26\"],[1.0,\"#f0f921\"]],\"type\":\"heatmap\"}],\"histogram2dcontour\":[{\"colorbar\":{\"outlinewidth\":0,\"ticks\":\"\"},\"colorscale\":[[0.0,\"#0d0887\"],[0.1111111111111111,\"#46039f\"],[0.2222222222222222,\"#7201a8\"],[0.3333333333333333,\"#9c179e\"],[0.4444444444444444,\"#bd3786\"],[0.5555555555555556,\"#d8576b\"],[0.6666666666666666,\"#ed7953\"],[0.7777777777777778,\"#fb9f3a\"],[0.8888888888888888,\"#fdca26\"],[1.0,\"#f0f921\"]],\"type\":\"histogram2dcontour\"}],\"histogram2d\":[{\"colorbar\":{\"outlinewidth\":0,\"ticks\":\"\"},\"colorscale\":[[0.0,\"#0d0887\"],[0.1111111111111111,\"#46039f\"],[0.2222222222222222,\"#7201a8\"],[0.3333333333333333,\"#9c179e\"],[0.4444444444444444,\"#bd3786\"],[0.5555555555555556,\"#d8576b\"],[0.6666666666666666,\"#ed7953\"],[0.7777777777777778,\"#fb9f3a\"],[0.8888888888888888,\"#fdca26\"],[1.0,\"#f0f921\"]],\"type\":\"histogram2d\"}],\"histogram\":[{\"marker\":{\"pattern\":{\"fillmode\":\"overlay\",\"size\":10,\"solidity\":0.2}},\"type\":\"histogram\"}],\"mesh3d\":[{\"colorbar\":{\"outlinewidth\":0,\"ticks\":\"\"},\"type\":\"mesh3d\"}],\"parcoords\":[{\"line\":{\"colorbar\":{\"outlinewidth\":0,\"ticks\":\"\"}},\"type\":\"parcoords\"}],\"pie\":[{\"automargin\":true,\"type\":\"pie\"}],\"scatter3d\":[{\"line\":{\"colorbar\":{\"outlinewidth\":0,\"ticks\":\"\"}},\"marker\":{\"colorbar\":{\"outlinewidth\":0,\"ticks\":\"\"}},\"type\":\"scatter3d\"}],\"scattercarpet\":[{\"marker\":{\"colorbar\":{\"outlinewidth\":0,\"ticks\":\"\"}},\"type\":\"scattercarpet\"}],\"scattergeo\":[{\"marker\":{\"colorbar\":{\"outlinewidth\":0,\"ticks\":\"\"}},\"type\":\"scattergeo\"}],\"scattergl\":[{\"marker\":{\"colorbar\":{\"outlinewidth\":0,\"ticks\":\"\"}},\"type\":\"scattergl\"}],\"scattermapbox\":[{\"marker\":{\"colorbar\":{\"outlinewidth\":0,\"ticks\":\"\"}},\"type\":\"scattermapbox\"}],\"scatterpolargl\":[{\"marker\":{\"colorbar\":{\"outlinewidth\":0,\"ticks\":\"\"}},\"type\":\"scatterpolargl\"}],\"scatterpolar\":[{\"marker\":{\"colorbar\":{\"outlinewidth\":0,\"ticks\":\"\"}},\"type\":\"scatterpolar\"}],\"scatter\":[{\"fillpattern\":{\"fillmode\":\"overlay\",\"size\":10,\"solidity\":0.2},\"type\":\"scatter\"}],\"scatterternary\":[{\"marker\":{\"colorbar\":{\"outlinewidth\":0,\"ticks\":\"\"}},\"type\":\"scatterternary\"}],\"surface\":[{\"colorbar\":{\"outlinewidth\":0,\"ticks\":\"\"},\"colorscale\":[[0.0,\"#0d0887\"],[0.1111111111111111,\"#46039f\"],[0.2222222222222222,\"#7201a8\"],[0.3333333333333333,\"#9c179e\"],[0.4444444444444444,\"#bd3786\"],[0.5555555555555556,\"#d8576b\"],[0.6666666666666666,\"#ed7953\"],[0.7777777777777778,\"#fb9f3a\"],[0.8888888888888888,\"#fdca26\"],[1.0,\"#f0f921\"]],\"type\":\"surface\"}],\"table\":[{\"cells\":{\"fill\":{\"color\":\"#EBF0F8\"},\"line\":{\"color\":\"white\"}},\"header\":{\"fill\":{\"color\":\"#C8D4E3\"},\"line\":{\"color\":\"white\"}},\"type\":\"table\"}]},\"layout\":{\"annotationdefaults\":{\"arrowcolor\":\"#2a3f5f\",\"arrowhead\":0,\"arrowwidth\":1},\"autotypenumbers\":\"strict\",\"coloraxis\":{\"colorbar\":{\"outlinewidth\":0,\"ticks\":\"\"}},\"colorscale\":{\"diverging\":[[0,\"#8e0152\"],[0.1,\"#c51b7d\"],[0.2,\"#de77ae\"],[0.3,\"#f1b6da\"],[0.4,\"#fde0ef\"],[0.5,\"#f7f7f7\"],[0.6,\"#e6f5d0\"],[0.7,\"#b8e186\"],[0.8,\"#7fbc41\"],[0.9,\"#4d9221\"],[1,\"#276419\"]],\"sequential\":[[0.0,\"#0d0887\"],[0.1111111111111111,\"#46039f\"],[0.2222222222222222,\"#7201a8\"],[0.3333333333333333,\"#9c179e\"],[0.4444444444444444,\"#bd3786\"],[0.5555555555555556,\"#d8576b\"],[0.6666666666666666,\"#ed7953\"],[0.7777777777777778,\"#fb9f3a\"],[0.8888888888888888,\"#fdca26\"],[1.0,\"#f0f921\"]],\"sequentialminus\":[[0.0,\"#0d0887\"],[0.1111111111111111,\"#46039f\"],[0.2222222222222222,\"#7201a8\"],[0.3333333333333333,\"#9c179e\"],[0.4444444444444444,\"#bd3786\"],[0.5555555555555556,\"#d8576b\"],[0.6666666666666666,\"#ed7953\"],[0.7777777777777778,\"#fb9f3a\"],[0.8888888888888888,\"#fdca26\"],[1.0,\"#f0f921\"]]},\"colorway\":[\"#636efa\",\"#EF553B\",\"#00cc96\",\"#ab63fa\",\"#FFA15A\",\"#19d3f3\",\"#FF6692\",\"#B6E880\",\"#FF97FF\",\"#FECB52\"],\"font\":{\"color\":\"#2a3f5f\"},\"geo\":{\"bgcolor\":\"white\",\"lakecolor\":\"white\",\"landcolor\":\"#E5ECF6\",\"showlakes\":true,\"showland\":true,\"subunitcolor\":\"white\"},\"hoverlabel\":{\"align\":\"left\"},\"hovermode\":\"closest\",\"mapbox\":{\"style\":\"light\"},\"paper_bgcolor\":\"white\",\"plot_bgcolor\":\"#E5ECF6\",\"polar\":{\"angularaxis\":{\"gridcolor\":\"white\",\"linecolor\":\"white\",\"ticks\":\"\"},\"bgcolor\":\"#E5ECF6\",\"radialaxis\":{\"gridcolor\":\"white\",\"linecolor\":\"white\",\"ticks\":\"\"}},\"scene\":{\"xaxis\":{\"backgroundcolor\":\"#E5ECF6\",\"gridcolor\":\"white\",\"gridwidth\":2,\"linecolor\":\"white\",\"showbackground\":true,\"ticks\":\"\",\"zerolinecolor\":\"white\"},\"yaxis\":{\"backgroundcolor\":\"#E5ECF6\",\"gridcolor\":\"white\",\"gridwidth\":2,\"linecolor\":\"white\",\"showbackground\":true,\"ticks\":\"\",\"zerolinecolor\":\"white\"},\"zaxis\":{\"backgroundcolor\":\"#E5ECF6\",\"gridcolor\":\"white\",\"gridwidth\":2,\"linecolor\":\"white\",\"showbackground\":true,\"ticks\":\"\",\"zerolinecolor\":\"white\"}},\"shapedefaults\":{\"line\":{\"color\":\"#2a3f5f\"}},\"ternary\":{\"aaxis\":{\"gridcolor\":\"white\",\"linecolor\":\"white\",\"ticks\":\"\"},\"baxis\":{\"gridcolor\":\"white\",\"linecolor\":\"white\",\"ticks\":\"\"},\"bgcolor\":\"#E5ECF6\",\"caxis\":{\"gridcolor\":\"white\",\"linecolor\":\"white\",\"ticks\":\"\"}},\"title\":{\"x\":0.05},\"xaxis\":{\"automargin\":true,\"gridcolor\":\"white\",\"linecolor\":\"white\",\"ticks\":\"\",\"title\":{\"standoff\":15},\"zerolinecolor\":\"white\",\"zerolinewidth\":2},\"yaxis\":{\"automargin\":true,\"gridcolor\":\"white\",\"linecolor\":\"white\",\"ticks\":\"\",\"title\":{\"standoff\":15},\"zerolinecolor\":\"white\",\"zerolinewidth\":2}}},\"xaxis\":{\"range\":[-60,60],\"title\":{\"text\":\"X\"}},\"yaxis\":{\"range\":[-60,60],\"title\":{\"text\":\"Y\"}},\"width\":500,\"height\":500,\"showlegend\":false,\"title\":{\"text\":\"Hits in the Central Drift Chamber\"},\"shapes\":[{\"line\":{\"color\":\"black\"},\"type\":\"circle\",\"x0\":-10.5,\"x1\":10.5,\"xref\":\"x\",\"y0\":-10.5,\"y1\":10.5,\"yref\":\"y\"},{\"line\":{\"color\":\"black\"},\"type\":\"circle\",\"x0\":-55,\"x1\":55,\"xref\":\"x\",\"y0\":-55,\"y1\":55,\"yref\":\"y\"}]},                        {\"responsive\": true}                    ).then(function(){\n                            \nvar gd = document.getElementById('80096ceb-b336-474c-ac16-9c55e028efe5');\nvar x = new MutationObserver(function (mutations, observer) {{\n        var display = window.getComputedStyle(gd).display;\n        if (!display || display === 'none') {{\n            console.log([gd, 'removed!']);\n            Plotly.purge(gd);\n            observer.disconnect();\n        }}\n}});\n\n// Listen for the removal of the full notebook cells\nvar notebookContainer = gd.closest('#notebook-container');\nif (notebookContainer) {{\n    x.observe(notebookContainer, {childList: true});\n}}\n\n// Listen for the clearing of the current output cell\nvar outputEl = gd.closest('.output');\nif (outputEl) {{\n    x.observe(outputEl, {childList: true});\n}}\n\n                        })                };                            </script>        </div>\n</body>\n</html>"
                },
                "metadata": {}
              }
            ]
          }
        },
        "2fb857a2f4e948e19ac3227db9f0a7f3": {
          "model_module": "@jupyter-widgets/base",
          "model_name": "LayoutModel",
          "model_module_version": "1.2.0",
          "state": {
            "_model_module": "@jupyter-widgets/base",
            "_model_module_version": "1.2.0",
            "_model_name": "LayoutModel",
            "_view_count": null,
            "_view_module": "@jupyter-widgets/base",
            "_view_module_version": "1.2.0",
            "_view_name": "LayoutView",
            "align_content": null,
            "align_items": null,
            "align_self": null,
            "border": null,
            "bottom": null,
            "display": null,
            "flex": null,
            "flex_flow": null,
            "grid_area": null,
            "grid_auto_columns": null,
            "grid_auto_flow": null,
            "grid_auto_rows": null,
            "grid_column": null,
            "grid_gap": null,
            "grid_row": null,
            "grid_template_areas": null,
            "grid_template_columns": null,
            "grid_template_rows": null,
            "height": null,
            "justify_content": null,
            "justify_items": null,
            "left": null,
            "margin": null,
            "max_height": null,
            "max_width": null,
            "min_height": null,
            "min_width": null,
            "object_fit": null,
            "object_position": null,
            "order": null,
            "overflow": null,
            "overflow_x": null,
            "overflow_y": null,
            "padding": null,
            "right": null,
            "top": null,
            "visibility": null,
            "width": null
          }
        },
        "6e3e1480e4294aea972679ea1f3c48ae": {
          "model_module": "@jupyter-widgets/controls",
          "model_name": "FloatSliderModel",
          "model_module_version": "1.5.0",
          "state": {
            "_dom_classes": [],
            "_model_module": "@jupyter-widgets/controls",
            "_model_module_version": "1.5.0",
            "_model_name": "FloatSliderModel",
            "_view_count": null,
            "_view_module": "@jupyter-widgets/controls",
            "_view_module_version": "1.5.0",
            "_view_name": "FloatSliderView",
            "continuous_update": true,
            "description": "z0",
            "description_tooltip": null,
            "disabled": false,
            "layout": "IPY_MODEL_fd1c3d30746f48a5bf1be2cd220deafd",
            "max": 175,
            "min": 0,
            "orientation": "horizontal",
            "readout": true,
            "readout_format": ".2f",
            "step": 0.1,
            "style": "IPY_MODEL_c7fcefbddb914b9299ada35fa00f90da",
            "value": 84
          }
        },
        "2e8f59d6ae5c4762ad0d347ffe610e09": {
          "model_module": "@jupyter-widgets/controls",
          "model_name": "FloatSliderModel",
          "model_module_version": "1.5.0",
          "state": {
            "_dom_classes": [],
            "_model_module": "@jupyter-widgets/controls",
            "_model_module_version": "1.5.0",
            "_model_name": "FloatSliderModel",
            "_view_count": null,
            "_view_module": "@jupyter-widgets/controls",
            "_view_module_version": "1.5.0",
            "_view_name": "FloatSliderView",
            "continuous_update": true,
            "description": "px",
            "description_tooltip": null,
            "disabled": false,
            "layout": "IPY_MODEL_30476a2b715e43159cde2627e86b227a",
            "max": 1,
            "min": -1,
            "orientation": "horizontal",
            "readout": true,
            "readout_format": ".2f",
            "step": 0.01,
            "style": "IPY_MODEL_6c1c9ef3ac9d4a249ce023264dc0cacd",
            "value": 0.19
          }
        },
        "4542d1de86b04a70836e0da49f6aadd9": {
          "model_module": "@jupyter-widgets/controls",
          "model_name": "FloatSliderModel",
          "model_module_version": "1.5.0",
          "state": {
            "_dom_classes": [],
            "_model_module": "@jupyter-widgets/controls",
            "_model_module_version": "1.5.0",
            "_model_name": "FloatSliderModel",
            "_view_count": null,
            "_view_module": "@jupyter-widgets/controls",
            "_view_module_version": "1.5.0",
            "_view_name": "FloatSliderView",
            "continuous_update": true,
            "description": "py",
            "description_tooltip": null,
            "disabled": false,
            "layout": "IPY_MODEL_fb70d38be8eb44c7b7019f3b0d1d4348",
            "max": 1,
            "min": -1,
            "orientation": "horizontal",
            "readout": true,
            "readout_format": ".2f",
            "step": 0.01,
            "style": "IPY_MODEL_4bafe485ab5846caadd6642ea08aca70",
            "value": 0.35
          }
        },
        "74ed8687caab4e50aa97d72c0123a676": {
          "model_module": "@jupyter-widgets/controls",
          "model_name": "IntSliderModel",
          "model_module_version": "1.5.0",
          "state": {
            "_dom_classes": [],
            "_model_module": "@jupyter-widgets/controls",
            "_model_module_version": "1.5.0",
            "_model_name": "IntSliderModel",
            "_view_count": null,
            "_view_module": "@jupyter-widgets/controls",
            "_view_module_version": "1.5.0",
            "_view_name": "IntSliderView",
            "continuous_update": true,
            "description": "charge",
            "description_tooltip": null,
            "disabled": false,
            "layout": "IPY_MODEL_41a2fe66c4404b5fba27c5df6dad6a83",
            "max": 1,
            "min": -1,
            "orientation": "horizontal",
            "readout": true,
            "readout_format": "d",
            "step": 2,
            "style": "IPY_MODEL_2e1ca3bd878946cf942fce302a9943fe",
            "value": 1
          }
        },
        "e5427aa901f74f099b6629d6dbafd31a": {
          "model_module": "@jupyter-widgets/controls",
          "model_name": "FloatSliderModel",
          "model_module_version": "1.5.0",
          "state": {
            "_dom_classes": [],
            "_model_module": "@jupyter-widgets/controls",
            "_model_module_version": "1.5.0",
            "_model_name": "FloatSliderModel",
            "_view_count": null,
            "_view_module": "@jupyter-widgets/controls",
            "_view_module_version": "1.5.0",
            "_view_name": "FloatSliderView",
            "continuous_update": true,
            "description": "t_max",
            "description_tooltip": null,
            "disabled": false,
            "layout": "IPY_MODEL_0b75f65a45c042059871f521cf6d5fd2",
            "max": 6.283185307179586,
            "min": 0,
            "orientation": "horizontal",
            "readout": true,
            "readout_format": ".2f",
            "step": 0.01,
            "style": "IPY_MODEL_72acce4b6a3c41cf8b129e5b3d21860e",
            "value": 0.71
          }
        },
        "51117fb74eac4b1ea39c13b41efe063e": {
          "model_module": "@jupyter-widgets/base",
          "model_name": "LayoutModel",
          "model_module_version": "1.2.0",
          "state": {
            "_model_module": "@jupyter-widgets/base",
            "_model_module_version": "1.2.0",
            "_model_name": "LayoutModel",
            "_view_count": null,
            "_view_module": "@jupyter-widgets/base",
            "_view_module_version": "1.2.0",
            "_view_name": "LayoutView",
            "align_content": null,
            "align_items": null,
            "align_self": null,
            "border": null,
            "bottom": null,
            "display": null,
            "flex": null,
            "flex_flow": "row wrap",
            "grid_area": null,
            "grid_auto_columns": null,
            "grid_auto_flow": null,
            "grid_auto_rows": null,
            "grid_column": null,
            "grid_gap": null,
            "grid_row": null,
            "grid_template_areas": null,
            "grid_template_columns": null,
            "grid_template_rows": null,
            "height": null,
            "justify_content": null,
            "justify_items": null,
            "left": null,
            "margin": null,
            "max_height": null,
            "max_width": null,
            "min_height": null,
            "min_width": null,
            "object_fit": null,
            "object_position": null,
            "order": null,
            "overflow": null,
            "overflow_x": null,
            "overflow_y": null,
            "padding": null,
            "right": null,
            "top": null,
            "visibility": null,
            "width": null
          }
        },
        "f6b18db960c544619effd60e106f7376": {
          "model_module": "@jupyter-widgets/base",
          "model_name": "LayoutModel",
          "model_module_version": "1.2.0",
          "state": {
            "_model_module": "@jupyter-widgets/base",
            "_model_module_version": "1.2.0",
            "_model_name": "LayoutModel",
            "_view_count": null,
            "_view_module": "@jupyter-widgets/base",
            "_view_module_version": "1.2.0",
            "_view_name": "LayoutView",
            "align_content": null,
            "align_items": null,
            "align_self": null,
            "border": null,
            "bottom": null,
            "display": null,
            "flex": null,
            "flex_flow": null,
            "grid_area": null,
            "grid_auto_columns": null,
            "grid_auto_flow": null,
            "grid_auto_rows": null,
            "grid_column": null,
            "grid_gap": null,
            "grid_row": null,
            "grid_template_areas": null,
            "grid_template_columns": null,
            "grid_template_rows": null,
            "height": null,
            "justify_content": null,
            "justify_items": null,
            "left": null,
            "margin": null,
            "max_height": null,
            "max_width": null,
            "min_height": null,
            "min_width": null,
            "object_fit": null,
            "object_position": null,
            "order": null,
            "overflow": null,
            "overflow_x": null,
            "overflow_y": null,
            "padding": null,
            "right": null,
            "top": null,
            "visibility": null,
            "width": null
          }
        },
        "fd1c3d30746f48a5bf1be2cd220deafd": {
          "model_module": "@jupyter-widgets/base",
          "model_name": "LayoutModel",
          "model_module_version": "1.2.0",
          "state": {
            "_model_module": "@jupyter-widgets/base",
            "_model_module_version": "1.2.0",
            "_model_name": "LayoutModel",
            "_view_count": null,
            "_view_module": "@jupyter-widgets/base",
            "_view_module_version": "1.2.0",
            "_view_name": "LayoutView",
            "align_content": null,
            "align_items": null,
            "align_self": null,
            "border": null,
            "bottom": null,
            "display": null,
            "flex": null,
            "flex_flow": null,
            "grid_area": null,
            "grid_auto_columns": null,
            "grid_auto_flow": null,
            "grid_auto_rows": null,
            "grid_column": null,
            "grid_gap": null,
            "grid_row": null,
            "grid_template_areas": null,
            "grid_template_columns": null,
            "grid_template_rows": null,
            "height": null,
            "justify_content": null,
            "justify_items": null,
            "left": null,
            "margin": null,
            "max_height": null,
            "max_width": null,
            "min_height": null,
            "min_width": null,
            "object_fit": null,
            "object_position": null,
            "order": null,
            "overflow": null,
            "overflow_x": null,
            "overflow_y": null,
            "padding": null,
            "right": null,
            "top": null,
            "visibility": null,
            "width": null
          }
        },
        "c7fcefbddb914b9299ada35fa00f90da": {
          "model_module": "@jupyter-widgets/controls",
          "model_name": "SliderStyleModel",
          "model_module_version": "1.5.0",
          "state": {
            "_model_module": "@jupyter-widgets/controls",
            "_model_module_version": "1.5.0",
            "_model_name": "SliderStyleModel",
            "_view_count": null,
            "_view_module": "@jupyter-widgets/base",
            "_view_module_version": "1.2.0",
            "_view_name": "StyleView",
            "description_width": "",
            "handle_color": null
          }
        },
        "30476a2b715e43159cde2627e86b227a": {
          "model_module": "@jupyter-widgets/base",
          "model_name": "LayoutModel",
          "model_module_version": "1.2.0",
          "state": {
            "_model_module": "@jupyter-widgets/base",
            "_model_module_version": "1.2.0",
            "_model_name": "LayoutModel",
            "_view_count": null,
            "_view_module": "@jupyter-widgets/base",
            "_view_module_version": "1.2.0",
            "_view_name": "LayoutView",
            "align_content": null,
            "align_items": null,
            "align_self": null,
            "border": null,
            "bottom": null,
            "display": null,
            "flex": null,
            "flex_flow": null,
            "grid_area": null,
            "grid_auto_columns": null,
            "grid_auto_flow": null,
            "grid_auto_rows": null,
            "grid_column": null,
            "grid_gap": null,
            "grid_row": null,
            "grid_template_areas": null,
            "grid_template_columns": null,
            "grid_template_rows": null,
            "height": null,
            "justify_content": null,
            "justify_items": null,
            "left": null,
            "margin": null,
            "max_height": null,
            "max_width": null,
            "min_height": null,
            "min_width": null,
            "object_fit": null,
            "object_position": null,
            "order": null,
            "overflow": null,
            "overflow_x": null,
            "overflow_y": null,
            "padding": null,
            "right": null,
            "top": null,
            "visibility": null,
            "width": null
          }
        },
        "6c1c9ef3ac9d4a249ce023264dc0cacd": {
          "model_module": "@jupyter-widgets/controls",
          "model_name": "SliderStyleModel",
          "model_module_version": "1.5.0",
          "state": {
            "_model_module": "@jupyter-widgets/controls",
            "_model_module_version": "1.5.0",
            "_model_name": "SliderStyleModel",
            "_view_count": null,
            "_view_module": "@jupyter-widgets/base",
            "_view_module_version": "1.2.0",
            "_view_name": "StyleView",
            "description_width": "",
            "handle_color": null
          }
        },
        "fb70d38be8eb44c7b7019f3b0d1d4348": {
          "model_module": "@jupyter-widgets/base",
          "model_name": "LayoutModel",
          "model_module_version": "1.2.0",
          "state": {
            "_model_module": "@jupyter-widgets/base",
            "_model_module_version": "1.2.0",
            "_model_name": "LayoutModel",
            "_view_count": null,
            "_view_module": "@jupyter-widgets/base",
            "_view_module_version": "1.2.0",
            "_view_name": "LayoutView",
            "align_content": null,
            "align_items": null,
            "align_self": null,
            "border": null,
            "bottom": null,
            "display": null,
            "flex": null,
            "flex_flow": null,
            "grid_area": null,
            "grid_auto_columns": null,
            "grid_auto_flow": null,
            "grid_auto_rows": null,
            "grid_column": null,
            "grid_gap": null,
            "grid_row": null,
            "grid_template_areas": null,
            "grid_template_columns": null,
            "grid_template_rows": null,
            "height": null,
            "justify_content": null,
            "justify_items": null,
            "left": null,
            "margin": null,
            "max_height": null,
            "max_width": null,
            "min_height": null,
            "min_width": null,
            "object_fit": null,
            "object_position": null,
            "order": null,
            "overflow": null,
            "overflow_x": null,
            "overflow_y": null,
            "padding": null,
            "right": null,
            "top": null,
            "visibility": null,
            "width": null
          }
        },
        "4bafe485ab5846caadd6642ea08aca70": {
          "model_module": "@jupyter-widgets/controls",
          "model_name": "SliderStyleModel",
          "model_module_version": "1.5.0",
          "state": {
            "_model_module": "@jupyter-widgets/controls",
            "_model_module_version": "1.5.0",
            "_model_name": "SliderStyleModel",
            "_view_count": null,
            "_view_module": "@jupyter-widgets/base",
            "_view_module_version": "1.2.0",
            "_view_name": "StyleView",
            "description_width": "",
            "handle_color": null
          }
        },
        "41a2fe66c4404b5fba27c5df6dad6a83": {
          "model_module": "@jupyter-widgets/base",
          "model_name": "LayoutModel",
          "model_module_version": "1.2.0",
          "state": {
            "_model_module": "@jupyter-widgets/base",
            "_model_module_version": "1.2.0",
            "_model_name": "LayoutModel",
            "_view_count": null,
            "_view_module": "@jupyter-widgets/base",
            "_view_module_version": "1.2.0",
            "_view_name": "LayoutView",
            "align_content": null,
            "align_items": null,
            "align_self": null,
            "border": null,
            "bottom": null,
            "display": null,
            "flex": null,
            "flex_flow": null,
            "grid_area": null,
            "grid_auto_columns": null,
            "grid_auto_flow": null,
            "grid_auto_rows": null,
            "grid_column": null,
            "grid_gap": null,
            "grid_row": null,
            "grid_template_areas": null,
            "grid_template_columns": null,
            "grid_template_rows": null,
            "height": null,
            "justify_content": null,
            "justify_items": null,
            "left": null,
            "margin": null,
            "max_height": null,
            "max_width": null,
            "min_height": null,
            "min_width": null,
            "object_fit": null,
            "object_position": null,
            "order": null,
            "overflow": null,
            "overflow_x": null,
            "overflow_y": null,
            "padding": null,
            "right": null,
            "top": null,
            "visibility": null,
            "width": null
          }
        },
        "2e1ca3bd878946cf942fce302a9943fe": {
          "model_module": "@jupyter-widgets/controls",
          "model_name": "SliderStyleModel",
          "model_module_version": "1.5.0",
          "state": {
            "_model_module": "@jupyter-widgets/controls",
            "_model_module_version": "1.5.0",
            "_model_name": "SliderStyleModel",
            "_view_count": null,
            "_view_module": "@jupyter-widgets/base",
            "_view_module_version": "1.2.0",
            "_view_name": "StyleView",
            "description_width": "",
            "handle_color": null
          }
        },
        "0b75f65a45c042059871f521cf6d5fd2": {
          "model_module": "@jupyter-widgets/base",
          "model_name": "LayoutModel",
          "model_module_version": "1.2.0",
          "state": {
            "_model_module": "@jupyter-widgets/base",
            "_model_module_version": "1.2.0",
            "_model_name": "LayoutModel",
            "_view_count": null,
            "_view_module": "@jupyter-widgets/base",
            "_view_module_version": "1.2.0",
            "_view_name": "LayoutView",
            "align_content": null,
            "align_items": null,
            "align_self": null,
            "border": null,
            "bottom": null,
            "display": null,
            "flex": null,
            "flex_flow": null,
            "grid_area": null,
            "grid_auto_columns": null,
            "grid_auto_flow": null,
            "grid_auto_rows": null,
            "grid_column": null,
            "grid_gap": null,
            "grid_row": null,
            "grid_template_areas": null,
            "grid_template_columns": null,
            "grid_template_rows": null,
            "height": null,
            "justify_content": null,
            "justify_items": null,
            "left": null,
            "margin": null,
            "max_height": null,
            "max_width": null,
            "min_height": null,
            "min_width": null,
            "object_fit": null,
            "object_position": null,
            "order": null,
            "overflow": null,
            "overflow_x": null,
            "overflow_y": null,
            "padding": null,
            "right": null,
            "top": null,
            "visibility": null,
            "width": null
          }
        },
        "72acce4b6a3c41cf8b129e5b3d21860e": {
          "model_module": "@jupyter-widgets/controls",
          "model_name": "SliderStyleModel",
          "model_module_version": "1.5.0",
          "state": {
            "_model_module": "@jupyter-widgets/controls",
            "_model_module_version": "1.5.0",
            "_model_name": "SliderStyleModel",
            "_view_count": null,
            "_view_module": "@jupyter-widgets/base",
            "_view_module_version": "1.2.0",
            "_view_name": "StyleView",
            "description_width": "",
            "handle_color": null
          }
        },
        "23b4cf9abbb84a4d8ccc98c24ef3def4": {
          "model_module": "@jupyter-widgets/controls",
          "model_name": "VBoxModel",
          "model_module_version": "1.5.0",
          "state": {
            "_dom_classes": [],
            "_model_module": "@jupyter-widgets/controls",
            "_model_module_version": "1.5.0",
            "_model_name": "VBoxModel",
            "_view_count": null,
            "_view_module": "@jupyter-widgets/controls",
            "_view_module_version": "1.5.0",
            "_view_name": "VBoxView",
            "box_style": "",
            "children": [
              "IPY_MODEL_ba37230e5a264532aace76d4cc8f8f31",
              "IPY_MODEL_8ff1298803854bdb9030149ac6c1112d"
            ],
            "layout": "IPY_MODEL_c67bc2c48036409b86b2ad781260ba5a"
          }
        },
        "ba37230e5a264532aace76d4cc8f8f31": {
          "model_module": "@jupyter-widgets/controls",
          "model_name": "HBoxModel",
          "model_module_version": "1.5.0",
          "state": {
            "_dom_classes": [],
            "_model_module": "@jupyter-widgets/controls",
            "_model_module_version": "1.5.0",
            "_model_name": "HBoxModel",
            "_view_count": null,
            "_view_module": "@jupyter-widgets/controls",
            "_view_module_version": "1.5.0",
            "_view_name": "HBoxView",
            "box_style": "",
            "children": [
              "IPY_MODEL_da79205f050f4e6f9a34f2c0f34c8693"
            ],
            "layout": "IPY_MODEL_2036629da513458cbc065dc397ad5ae2"
          }
        },
        "8ff1298803854bdb9030149ac6c1112d": {
          "model_module": "@jupyter-widgets/output",
          "model_name": "OutputModel",
          "model_module_version": "1.0.0",
          "state": {
            "_dom_classes": [],
            "_model_module": "@jupyter-widgets/output",
            "_model_module_version": "1.0.0",
            "_model_name": "OutputModel",
            "_view_count": null,
            "_view_module": "@jupyter-widgets/output",
            "_view_module_version": "1.0.0",
            "_view_name": "OutputView",
            "layout": "IPY_MODEL_8db5785021164e5db620b2535e8e26a0",
            "msg_id": "",
            "outputs": [
              {
                "output_type": "display_data",
                "data": {
                  "text/html": "<html>\n<head><meta charset=\"utf-8\" /></head>\n<body>\n    <div>            <script src=\"https://cdnjs.cloudflare.com/ajax/libs/mathjax/2.7.5/MathJax.js?config=TeX-AMS-MML_SVG\"></script><script type=\"text/javascript\">if (window.MathJax && window.MathJax.Hub && window.MathJax.Hub.Config) {window.MathJax.Hub.Config({SVG: {font: \"STIX-Web\"}});}</script>                <script type=\"text/javascript\">window.PlotlyConfig = {MathJaxConfig: 'local'};</script>\n        <script charset=\"utf-8\" src=\"https://cdn.plot.ly/plotly-2.24.1.min.js\"></script>                <div id=\"f3508a9a-ab8a-4f61-be05-df8ae778db39\" class=\"plotly-graph-div\" style=\"height:500px; width:500px;\"></div>            <script type=\"text/javascript\">                                    window.PLOTLYENV=window.PLOTLYENV || {};                                    if (document.getElementById(\"f3508a9a-ab8a-4f61-be05-df8ae778db39\")) {                    Plotly.newPlot(                        \"f3508a9a-ab8a-4f61-be05-df8ae778db39\",                        [{\"hoverinfo\":\"text\",\"marker\":{\"size\":3},\"mode\":\"markers\",\"text\":[\"Ring: 1.0\\n Wire: 25.0\",\"Ring: 2.0\\n Wire: 25.0\",\"Ring: 3.0\\n Wire: 32.0\",\"Ring: 4.0\\n Wire: 31.0\",\"Ring: 5.0\\n Wire: 42.0\",\"Ring: 6.0\\n Wire: 42.0\",\"Ring: 7.0\\n Wire: 50.0\",\"Ring: 8.0\\n Wire: 51.0\",\"Ring: 9.0\\n Wire: 49.0\",\"Ring: 10.0\\n Wire: 48.0\",\"Ring: 11.0\\n Wire: 56.0\",\"Ring: 12.0\\n Wire: 55.0\",\"Ring: 13.0\\n Wire: 69.0\",\"Ring: 13.0\\n Wire: 70.0\",\"Ring: 14.0\\n Wire: 70.0\",\"Ring: 15.0\\n Wire: 77.0\",\"Ring: 16.0\\n Wire: 76.0\",\"Ring: 17.0\\n Wire: 76.0\",\"Ring: 19.0\\n Wire: 83.0\",\"Ring: 20.0\\n Wire: 82.0\",\"Ring: 21.0\\n Wire: 101.0\",\"Ring: 22.0\\n Wire: 101.0\",\"Ring: 23.0\\n Wire: 107.0\",\"Ring: 24.0\\n Wire: 108.0\",\"Ring: 25.0\\n Wire: 108.0\",\"Ring: 26.0\\n Wire: 109.0\",\"Ring: 27.0\\n Wire: 115.0\",\"Ring: 28.0\\n Wire: 114.0\"],\"x\":[-9.660009121379511,-10.46132854590834,-12.07020334012605,-13.667804810442947,-15.278301922555471,-16.933152102154345,-18.774011163056684,-19.722113305170947,-21.799226396401288,-23.33795702483765,-25.03899034571476,-26.57773235677407,-29.225188434484217,-28.60357380832665,-30.193642242404053,-31.68439168401273,-33.27011892531815,-35.32100575747798,-38.20974353057248,-39.74567085611079,-41.04219372754557,-42.0992315056441,-44.14179320086021,-45.21467540771461,-48.23628385633974,-49.3181568216108,-51.11065313657973,-52.6662020899691],\"y\":[-4.652012361856386,-6.039847443815391,-6.648823912393075,-6.523502027564079,-7.3941136166600145,-7.053142228224306,-8.328707655743012,-9.554553411098965,-9.698766314011863,-9.609600416819005,-10.594334218084214,-10.485134473733613,-11.42744437653888,-12.90479327233139,-12.704500222272156,-13.484077280409847,-13.253251223197529,-12.461617853744368,-13.588957857849636,-13.411571125828715,-14.819030327999023,-15.974640095293525,-15.284922838823805,-16.4271956047147,-14.52140901636676,-15.709092904397902,-15.340194834559114,-14.947891837263708],\"type\":\"scatter\",\"uid\":\"bdbe6fb1-4207-4629-a8f2-bc2af00b2ec8\"},{\"marker\":{\"color\":\"red\"},\"mode\":\"lines\",\"name\":\"track\",\"type\":\"scatter\",\"uid\":\"33f1199c-67d5-48a7-b82b-7500167e5de8\",\"x\":[-7.105427357601002e-15,-0.06920407015071817,-0.1384401099523842,-0.2077080803817637,-0.2770079423975389,-0.3463396569404864,-0.41570318493337766,-0.48509848728111393,-0.5545255248706411,-0.6239842585710207,-0.6934746492334511,-0.7629966576913105,-0.8325502447601281,-0.9021353712376907,-0.9717519979039011,-1.0414000855209977,-1.1110795948334768,-1.1807904865680996,-1.2505327214339559,-1.3203062601224431,-1.3901110633073372,-1.459947091644814,-1.5298143057733924,-1.5997126663140904,-1.6696421338702905,-1.7396026690278887,-1.8095942323552592,-1.8796167844033107,-1.9496702857054657,-2.0197546967776674,-2.0898699781185,-2.160016090209112,-2.230192993513299,-2.300400648477492,-2.370639015530756,-2.4409080550848827,-2.5112077275343765,-2.581537993256461,-2.651898812611144,-2.722290145941166,-2.792711953572102,-2.863164195812338,-2.933646832953123,-3.00415982526858,-3.0747031330156673,-3.14527671643431,-3.2158805357473597,-3.2865145511606215,-3.357178722862905,-3.4278730110259445,-3.498597375804593,-3.569351777336692,-3.6401361757432014,-3.710950531128134,-3.78179480357862,-3.852668953164944,-3.9235729399405486,-3.9945067239420524,-4.065470265189319,-4.136463523685336,-4.207486459416451,-4.278539032352242,-4.349621202445583,-4.420732929632685,-4.491874173833047,-4.563044894949577,-4.634245052868572,-4.705474607459713,-4.776733518576151,-4.848021746054428,-4.9193392497145965,-4.990685989360237,-5.062061924778426,-5.133467015739761,-5.204901221998426,-5.276364503292221,-5.3478568193425104,-5.4193781298543655,-5.490928394516409,-5.562507573001021,-5.634115624964295,-5.705752510045997,-5.777418187869692,-5.849112618042668,-5.920835760156038,-5.992587573784732,-6.064368018487514,-6.136177053807032,-6.208014639269763,-6.279880734386147,-6.351775298650523,-6.423698291541214,-6.495649672520521,-6.567629401034679,-6.639637436514022,-6.711673738372895,-6.783738266009728,-6.855830978807042,-6.92795183613142,-7.000100797333651,-7.072277821748656,-7.144482868695533,-7.21671589747762,-7.288976867382409,-7.361265737681727,-7.4335824676316165,-7.505927016472448,-7.578299343428938,-7.65069940771005,-7.723127168509222,-7.795582585004219,-7.868065616357242,-7.940576221714949,-8.013114360208377,-8.085679990953118,-8.158273073049259,-8.23089356558139,-8.303541427618697,-8.376216618214869,-8.44891909640824,-8.521648821221753,-8.594405751663004,-8.667189846724277,-8.740001065382451,-8.81283936659922,-8.885704709320969,-8.95859705247885,-9.03151635498881,-9.104462575751555,-9.177435673652667,-9.250435607562544,-9.323462336336505,-9.396515818814748,-9.46959601382234,-9.542702880169351,-9.615836376650805,-9.688996462046717,-9.762183095122133,-9.83539623462707,-9.908635839296664,-9.981901867851136,-10.055194278995792,-10.1285130314211,-10.201858083802598,-10.275229394801102,-10.348626923062575,-10.422050627218212,-10.495500465884483,-10.568976397663043,-10.642478381140933,-10.716006374890469,-10.789560337469318,-10.863140227420516,-10.936746003272447,-11.01037762353895,-11.08403504671928,-11.15771823129814,-11.231427135745761,-11.30516171851778,-11.378921938055456,-11.452707752785557,-11.526519121120423,-11.600356001458024,-11.674218352181882,-11.748106131661238,-11.822019298250957,-11.89595781029162,-11.969921626109517,-12.043910704016639,-12.117925002310784,-12.19196447927552,-12.26602909318023,-12.34011880228013,-12.414233564816257,-12.488373339015567,-12.562538083090914,-12.636727755241061,-12.710942313650754,-12.785181716490655,-12.85944592191747,-12.933734888073921,-13.00804857308875,-13.08238693507682,-13.156749932139,-13.231137522362346,-13.305549663820024,-13.379986314571369,-13.454447432661922,-13.528932976123365,-13.603442902973683,-13.677977171217101,-13.75253573884411,-13.82711856383154,-13.90172560414247,-13.976356817726412,-14.051012162519228,-14.125691596443168,-14.200395077406938,-14.275122563305615,-14.34987401202082,-14.42464938142065,-14.499448629359705,-14.574271713679153,-14.649118592206676,-14.723989222756593,-14.79888356312982,-14.873801571113908,-14.948743204483101,-15.023708420998247,-15.098697178406972,-15.173709434443609,-15.248745146829265,-15.323804273271811,-15.398886771465897,-15.473992599093037,-15.549121713821592,-15.624274073306786,-15.699449635190767,-15.774648357102535,-15.849870196658124,-15.925115111460478,-16.000383059099562,-16.075673997152393,-16.15098788318293,-16.22632467474228,-16.30168432936862,-16.37706680458725,-16.45247205791061,-16.527900046838248,-16.603350728856952,-16.67882406144072,-16.75432000205076,-16.829838508135573,-16.905379537130862,-16.98094304645973,-17.056528993532545,-17.132137335747068,-17.207768030488438,-17.283421035129138,-17.359096307029134,-17.434793803535825,-17.51051348198409,-17.58625529969632,-17.662019213982354,-17.737805182139667,-17.813613161453254,-17.889443109195724,-17.965294982627313,-18.041168738995843,-18.11706433553686,-18.192981729473587,-18.26892087801695,-18.344881738365643,-18.420864267706065,-18.496868423212455,-18.572894162046836,-18.648941441359078,-18.725010218286933,-18.801100449955968,-18.877212093479713,-18.95334510595962,-19.029499444485097,-19.10567506613355,-19.181871927970313,-19.258089987048834,-19.334329200410586,-19.410589525085115,-19.486870918090084,-19.56317333643122,-19.63949673710247,-19.71584107708594,-19.79220631335191,-19.86859240285893,-19.944999302553718,-20.021426969371326,-20.09787536023508,-20.174344432056635,-20.250834141736,-20.327344446161497,-20.403875302209897,-20.480426666746375,-20.55699849662453,-20.633590748686466,-20.710203379762696,-20.78683634667233,-20.863489606222984,-20.94016311521083,-21.016856830420664,-21.09357070862582,-21.17030470658831,-21.24705878105884,-21.32383288877675,-21.400626986470122,-21.477441030855722,-21.55427497863913,-21.63112878651468,-21.70800241116551,-21.78489580926363,-21.86180893746981,-21.9387417524338,-22.01569421079421,-22.092666269178572,-22.16965788420341,-22.246669012474158,-22.3236996105853,-22.400749635120363,-22.477819042651866,-22.554907789741485,-22.632015832939885,-22.70914312878694,-22.786289633811656,-22.86345530453223,-22.940640097455983,-23.017843969079536,-23.09506687588872,-23.172308774358648,-23.24956962095375,-23.32684937212771,-23.40414798432362,-23.481465413973922,-23.558801617500457,-23.636156551314485,-23.71353017181668,-23.790922435397206,-23.868333298435736,-23.945762717301434,-24.023210648353043,-24.100677047938802,-24.178161872396593,-24.255665078053916,-24.33318662122789,-24.410726458225334,-24.48828454534268,-24.565860838866143,-24.64345529507166,-24.721067870224942,-24.798698520581414,-24.87634720238646,-24.954013871875137,-25.031698485272468,-25.109400998793358,-25.187121368642526,-25.264859551014794,-25.342615502094777,-25.42038917805717,-25.49818053506669,-25.57598952927797,-25.653816116835884,-25.731660253875223,-25.809521896520987,-25.887401000888286,-25.965297523082324,-26.043211419198627,-26.121142645322784,-26.1990911575307,-26.277056911888526,-26.355039864452635,-26.433039971269835,-26.51105718837712,-26.58909147180193,-26.667142777562074,-26.74521106166571,-26.823296280111542,-26.9013983888886,-26.97951734397647,-27.05765310134526,-27.135805616955516,-27.213974846758425,-27.292160746695718,-27.370363272699745,-27.4485823806935,-27.526818026590565,-27.605070166295256,-27.68333875570259,-27.761623750698295,-27.83992510715889,-27.9182427809516,-27.996576727934507,-28.07492690395652,-28.153293264857382,-28.23167576646776,-28.31007436460913,-28.38848901509397,-28.4669196737257,-28.545366296298702,-28.623828838598406,-28.702307256401173,-28.780801505474496,-28.859311541576933,-28.937837320458126,-29.016378797858874,-29.094935929511063,-29.173508671137824,-29.252096978453473,-29.330700807163524,-29.4093201129648,-29.487954851545318,-29.566604978584458,-29.645270449752925,-29.72395122071275,-29.802647247117374,-29.88135848461158,-29.960084888831638,-30.03882641540525,-30.117583019951578,-30.19635465808134,-30.275141285396682,-30.35394285749139,-30.432759329950795,-30.51159065835183,-30.590436798263084,-30.66929770524472,-30.74817333484865,-30.827063642618473,-30.905968584089504,-30.98488811478883,-31.063822190235264,-31.142770765939474,-31.22173379740394,-31.300711240122993,-31.379703049582854,-31.458709181261604,-31.53772959062929,-31.616764233147904,-31.69581306427142,-31.77487603944583,-31.853953114109082,-31.933044243691256,-32.012149383614485,-32.09126848929299,-32.17040151613318,-32.2495484195335,-32.328709154884685,-32.40788367756963,-32.48707194296345,-32.566273906433565,-32.64548952333959,-32.724718749033514,-32.803961538859625,-32.88321784815459,-32.96248763224743,-33.04177084645957,-33.12106744610489,-33.200377386489706,-33.27970062291281,-33.35903711066556,-33.43838680503173,-33.51774966128775,-33.59712563470259,-33.67651468053785,-33.75591675404776,-33.83533181047914,-33.91475980507158,-33.994200693057344,-34.07365442966143,-34.15312097010161,-34.232600269588374,-34.312092283325114,-34.39159696650799,-34.47111427432605,-34.550644161961245,-34.63018658458836,-34.709741497375184,-34.78930885548246,-34.868888614063884,-34.94848072826622,-35.028085153229185,-35.10770184408562,-35.18733075596143,-35.266971843975654,-35.34662506324045,-35.42629036886112,-35.50596771593618,-35.585657059557356,-35.66535835480961,-35.745071556771194,-35.82479662051357,-35.90453350110158,-35.98428215359342,-36.0640425330406,-36.14381459448807,-36.22359829297413,-36.30339358353058,-36.38320042118266,-36.46301876094911,-36.54284855784222,-36.62268976686774,-36.702542343025044,-36.7824062413071,-36.8622814167005,-36.94216782418546,-37.02206541873585,-37.101974155319255,-37.181893988897,-37.26182487442412,-37.34176676684949,-37.42171962111564,-37.50168339215906,-37.58165803491002,-37.6616435042927,-37.741639755225165,-37.82164674261935,-37.90166442138121,-37.98169274641066,-38.06173167260157,-38.14178115484191,-38.22184114801362,-38.30191160699276,-38.381992486649494,-38.46208374184809,-38.54218532744703,-38.62229719829885,-38.7024193092504,-38.78255161514272,-38.862694070811116,-38.942846631085175,-39.02300925078873,-39.10318188474002,-39.183364487751604,-39.26355701463043,-39.343759420177875,-39.42397165918969,-39.504193686456134,-39.58442545676192,-39.664666924886305,-39.74491804560307,-39.8251787736805,-39.90544906388152,-39.985728870963676,-40.06601814967911,-40.14631685477468,-40.22662494099184,-40.30694236306684,-40.38726907573062,-40.467605033708935,-40.54795019172229,-40.628304504485996,-40.70866792671022,-40.7890404131,-40.86942191835526,-40.94981239717087,-41.03021180423655,-41.11062009423709,-41.19103722185223,-41.271463141756726,-41.351897808620414,-41.43234117710813,-41.51279320187985,-41.593253837590694,-41.673723038890884,-41.75420076042587,-41.834686956836194,-41.91518158275773,-41.99568459282156,-42.07619594165404,-42.156715583876846,-42.23724347410692,-42.3177795669566,-42.39832381703363,-42.4788761789411,-42.559436607277576,-42.640005056637015,-42.72058148160891,-42.80116583677823,-42.8817580767255,-42.962358156026795,-43.042966029253726,-43.123581650973556,-43.20420497574918,-43.28483595813914,-43.36547455269769,-43.44612071397472,-43.52677439651593,-43.607435554862754,-43.6881041435524,-43.76878011711794,-43.849463430088186,-43.9301540369879,-44.0108518923377,-44.09155695065413,-44.172269166449695,-44.252988494232774,-44.33371488850784,-44.41444830377534,-44.49518869453176,-44.575936015269704,-44.65669022047777,-44.73745126464076,-44.818219102239595,-44.89899368775137,-44.979774975649406,-45.06056292040316,-45.14135747647841,-45.2221585983372,-45.30296624043786,-45.383780357235075,-45.4646009031798,-45.54542783271945,-45.6262611002978,-45.70710066035509,-45.78794646732799,-45.86879847564961,-45.94965663974962,-46.03052091405421,-46.11139125298611,-46.19226761096468,-46.27314994240578,-46.354038201722005,-46.434932343322586,-46.51583232161341,-46.59673809099713,-46.677649605873036,-46.75856682063728,-46.83948968968274,-46.92041816739916,-47.00135220817309,-47.08229176638791,-47.16323679642395,-47.244187252658435,-47.32514308946553,-47.40610426121637,-47.487070722279064,-47.56804242701877,-47.64901932979765,-47.730001384975,-47.81098854690718,-47.891980769947615,-47.972978008446965,-48.05398021675302,-48.13498734921077,-48.21599936016246,-48.29701620394752,-48.37803783490273,-48.45906420736211,-48.54009527565706,-48.62113099411633,-48.70217131706596,-48.78321619882952,-48.86426559372793,-48.945319456079595,-49.026377740200424,-49.10744040040376,-49.18850739100055,-49.26957866629927,-49.35065418060599,-49.431733888224414,-49.51281774345582,-49.59390570059919,-49.6749977139512,-49.756093737806225,-49.83719372645641,-49.918297634191596,-49.99940541529948,-50.08051702406554,-50.16163241477312,-50.24275154170346,-50.323874359135594,-50.40500082134656,-50.486130882611334,-50.56726449720284,-50.64840161939205,-50.72954220344784,-50.81068620363727,-50.891833574225416,-50.9729842694754,-51.054138243648616,-51.13529545100445,-51.21645584580057,-51.297619382292815,-51.3787860147352,-51.459955697380124,-51.54112838447814,-51.622304030278165,-51.70348258902747,-51.78466401497159,-51.86584826235459,-51.9470352854188,-52.02822503840507,-52.10941747555272,-52.19061255109945,-52.27181021928165,-52.353010434334074,-52.43421315049014,-52.51541832198186,-52.59662590303976,-52.67783584789317,-52.759048110769946,-52.8402626458967,-52.92147940749878,-53.00269834980019,-53.08391942702386,-53.165142593391344,-53.24636780312314,-53.32759501043857,-53.40882416955574,-53.49005523469183,-53.57128816006277,-53.65252289988355,-53.733759408368115,-53.81499763972934,-53.89623754817929,-53.97747908792891,-54.058722213188325,-54.13996687816677,-54.22121303707251,-54.30246064411314,-54.38370965349528,-54.46496001942483,-54.54621169610696,-54.627464637745966,-54.70871879854563,-54.78997413270888,-54.87123059443804,-54.95248813793485,-55.03374671740031,-55.115006287035015,-55.19626680103883,-55.27752821361119,-55.35879047895102,-55.440053551256675,-55.5213173847262,-55.602581933557076,-55.68384715194645,-55.76511299409111,-55.84637941418739,-55.92764636643145,-56.008913805019006,-56.09018168414559,-56.171449958006484,-56.25271858079664,-56.333987506711004,-56.41525668994416,-56.49652608469065,-56.57779564514491,-56.65906532550118,-56.74033507995379,-56.821604862696866,-56.90287462792462,-56.98414432983126,-57.06541392261096,-57.14668336045809,-57.22795259756697,-57.309221588132104,-57.39049028634815,-57.47175864640983,-57.55302662251223,-57.634294168850474,-57.71556123962003,-57.79682778901664,-57.87809377123623,-57.95935914047523,-58.04062385093023,-58.12188785679831,-58.20315111227692,-58.28441357156385,-58.36567518885752,-58.44693591835664,-58.528195714260505,-58.60945453076897,-58.69071232208232,-58.771969042401594,-58.85322464592826,-58.93447908686453,-59.015732319413246,-59.09698429777785,-59.17823497616266,-59.259484308772564,-59.34073224981328,-59.42197875349133,-59.503223774013954,-59.58446726558938,-59.66570918242654,-59.74694947873535,-59.828188108726636,-59.90942502661207,-59.990660186604444,-60.0718935429174,-60.15312504976566,-60.234354661365025,-60.31558233193223,-60.396808015685295,-60.478031666843194,-60.55925323962612,-60.64047268825547,-60.72168996695372,-60.80290502994474,-60.88411783145348,-60.96532832570627,-61.046536466930725,-61.12774220935571,-61.208945507211595,-61.29014631472997,-61.3713445861439,-61.452540275687916,-61.53373333759789,-61.614923726111336,-61.69611139546711,-61.777296299905714,-61.858478393669195,-61.939657631001076,-62.020833966146675,-62.10200735335278,-62.18317774686792,-62.26434510094233,-62.345509369827845,-62.42667050777822,-62.5078284690488,-62.58898320789682,-62.67013467858132,-62.751282835363114,-62.832427632505016,-62.91356902427159,-62.99470696492941,-63.07584140874698,-63.156972309994735,-63.23809962294515,-63.319223301872704,-63.40034330105394,-63.48145957476748,-63.56257207729398,-63.643680762916304,-63.72478558591942,-63.8058865005905,-63.886983461218925,-63.96807642209624,-64.0491653375163,-64.13025016177525,-64.21133084917152,-64.29240735400589,-64.37347963058141,-64.45454763320366,-64.5356113161805,-64.61667063382231,-64.6977255404419,-64.77877599035453,-64.85982193787802,-64.94086333733273,-65.02190014304153,-65.10293230932999,-65.18395979052613,-65.26498254096074,-65.34600051496724,-65.42701366688175,-65.50802195104309,-65.58902532179282,-65.67002373347528,-65.75101714043761,-65.83200549702977,-65.9129887576046,-65.99396687651769,-66.07493980812768,-66.15590750679603,-66.23686992688721,-66.31782702276865,-66.39877874881076,-66.47972505938695,-66.56066590887377,-66.6416012516508,-66.72253104210071,-66.8034552346093,-66.88437378356554,-66.9652866433616,-67.0461937683928,-67.12709511305778,-67.20799063175832,-67.2888802788996,-67.36976400889003,-67.4506417761414,-67.53151353506885,-67.61237924009086,-67.69323884562941,-67.77409230610984,-67.85493957596098,-67.93578060961521,-68.01661536150829,-68.09744378607962,-68.17826583777219,-68.25908147103249,-68.3398906403107,-68.42069330006059,-68.50148940473966,-68.58227890880903,-68.66306176673362,-68.74383793298206,-68.82460736202671,-68.9053700083438,-68.98612582641333,-69.06687477071917,-69.14761679574909,-69.22835185599469,-69.30907990595155,-69.3898009001192,-69.47051479300113,-69.55122153910486,-69.63192109294187,-69.71261340902777,-69.7932984418822,-69.87397614602894,-69.95464647599592,-70.0353093863151,-70.11596483152279,-70.19661276615943,-70.27725314476962,-70.35788592190238,-70.43851105211087,-70.51912848995265,-70.59973818998958,-70.68034010678782,-70.7609341949181,-70.84152040895533,-70.92209870347904,-71.00266903307313,-71.08323135232598,-71.1637856158306,-71.2443317781844,-71.32486979398944,-71.40539961785234,-71.48592120438428,-71.56643450820128,-71.64693948392379,-71.7274360861771,-71.80792426959118,-71.88840398880069,-71.9688751984452,-72.04933785316894,-72.12979190762101,-72.2102373164554,-72.29067403433086,-72.37110201591119,-72.451521215865,-72.53193158886586,-72.6123330895924,-72.6927256727281,-72.77310929296166,-72.85348390498666,-72.93384946350184,-73.01420592321108,-73.09455323882321,-73.17489136505249,-73.25522025661812,-73.3355398682446,-73.4158501546617,-73.49615107060433,-73.57644257081284,-73.65672461003273,-73.73699714301493,-73.81726012451571,-73.89751350929667,-73.97775725212493,-74.05799130777292,-74.13821563101861,-74.21843017664544,-74.2986348994423,-74.37882975420378,-74.4590146957298,-74.53918967882606,-74.61935465830382,-74.69950958897986,-74.77965442567684,-74.85978912322292,-74.93991363645208,-75.020027920204,-75.10013192932409,-75.18022561866368,-75.26030894307978,-75.34038185743529,-75.42044431659902,-75.50049627544554,-75.58053768885556,-75.66056851171551,-75.74058869891792,-75.82059820536128,-75.90059698595007,-75.9805849955949,-76.06056218921233,-76.14052852172513,-76.22048394806214,-76.3004284231583,-76.38036190195484,-76.46028433939908,-76.5401956904446,-76.62009591005128,-76.69998495318512,-76.77986277481865,-76.85972932993053,-76.93958457350585,-77.01942846053609,-77.09926094601904,-77.17908198495908,-77.25889153236687,-77.33868954325965,-77.41847597266113,-77.49825077560152,-77.57801390711768,-77.65776532225291,-77.73750497605724,-77.81723282358728,-77.89694881990621,-77.97665292008406,-78.05634507919744],\"y\":[0.0,-0.042609556594527476,-0.08516714617836385,-0.1276727447649506,-0.17012632839696096,-0.21252787314642774,-0.2548773551147292,-0.2971747504325606,-0.3394200352600052,-0.3816131857864349,-0.42375417823069483,-0.46584298884101827,-0.5078795938950122,-0.5498639696997287,-0.5917960925916361,-0.6336759389367046,-0.6755034851303066,-0.7172787075973446,-0.7590015827921803,-0.8006720871986772,-0.842290197330243,-0.8838558897298014,-0.9253691409697922,-0.9668299276522987,-1.0082382264088494,-1.0495940139006734,-1.0908972668185157,-1.1321479618827652,-1.1733460758434688,-1.2144915854802179,-1.2555844676023185,-1.296624699048749,-1.337612256688118,-1.3785471174187762,-1.4194292581687051,-1.4602586558956574,-1.5010352875871007,-1.541759130260246,-1.5824301609620335,-1.623048356769175,-1.6636136947881965,-1.7041261521553963,-1.7445857060368297,-1.7849923336284803,-1.8253460121560323,-1.8656467188751122,-1.905894431071161,-1.9460891260594906,-1.9862307811853128,-2.0263193738236964,-2.066354881379638,-2.1063372812880914,-2.1462665510138947,-2.186142668051829,-2.225965609926675,-2.265735354193154,-2.3054518784359885,-2.345115160269856,-2.3847251773395044,-2.424281907319653,-2.463785327915076,-2.5032354168605906,-2.5426321519210973,-2.5819755108915246,-2.6212654715969137,-2.6605020118923903,-2.699685109663193,-2.7388147428246725,-2.7778908893223644,-2.8169135271318737,-2.855882634259004,-2.894798188739742,-2.9336601686402446,-2.972468552056853,-3.0112233171161336,-3.049924441974852,-3.0885719048200286,-3.1271656838689523,-3.1657057573690963,-3.204192103598274,-3.2426247008645674,-3.2810035275063,-3.3193285618921777,-3.3575997824211754,-3.39581716752258,-3.4339806956561176,-3.47209034531177,-3.5101460950099295,-3.5481479233013573,-3.5860958087672117,-3.6239897300190336,-3.661829665698832,-3.6996155944790132,-3.73734749506238,-3.7750253461822467,-3.8126491266023805,-3.850218815117003,-3.887734390550861,-3.9251958317591544,-3.9626031176276086,-3.999956227072488,-4.03725513904061,-4.074499832509275,-4.111690286486393,-4.148826480010442,-4.185908392150452,-4.222936002006094,-4.259909288707618,-4.296828231415873,-4.333692809322372,-4.370503001649254,-4.407258787649312,-4.443960146606003,-4.480607057833481,-4.51719950067654,-4.553737454510724,-4.5902208987422455,-4.626649812808111,-4.663024176175966,-4.699343968344266,-4.735609168842203,-4.771819757229736,-4.8079757130976475,-4.8440770160674305,-4.880123645791457,-4.916115581952866,-4.952052804265676,-4.987935292474688,-5.023763026355553,-5.059535985714845,-5.095254150389948,-5.130917500249154,-5.16652601519165,-5.202079675147544,-5.237578460077813,-5.273022349974411,-5.308411324860231,-5.343745364789086,-5.379024449845758,-5.414248560146035,-5.449417675836656,-5.484531777095398,-5.519590844130988,-5.554594857183204,-5.589543796522847,-5.624437642451781,-5.659276375302895,-5.694059975440169,-5.728788423258592,-5.763461699184319,-5.798079783674567,-5.832642657217633,-5.867150300333009,-5.901602693571235,-5.935999817514016,-5.970341652774238,-6.004628179995905,-6.0388593798542445,-6.073035233055606,-6.1071557203375875,-6.141220822468981,-6.175230520249755,-6.209184794511174,-6.243083626115677,-6.276926995956998,-6.310714884960078,-6.344447274081219,-6.37812414430789,-6.41174547665895,-6.4453112521844815,-6.478821451965956,-6.512276057116097,-6.545675048779032,-6.579018408130182,-6.612306116376331,-6.645538154755641,-6.678714504537666,-6.711835147023322,-6.744900063544932,-6.777909235466211,-6.810862644182336,-6.843760271119876,-6.876602097736864,-6.909388105522737,-6.942118275998453,-6.974792590716419,-7.007411031260503,-7.0399735792460945,-7.0724802163200735,-7.104930924160811,-7.137325684478242,-7.169664479013818,-7.201947289540556,-7.234174097862947,-7.266344885817119,-7.298459635270788,-7.3305183281231905,-7.362520946305239,-7.39446747177935,-7.426357886539648,-7.458192172611817,-7.489970312053217,-7.52169228695287,-7.553358079431376,-7.584967671641081,-7.61652104576595,-7.648018184021694,-7.67945906865566,-7.710843681946955,-7.7421720062063315,-7.773444023776335,-7.804659717031228,-7.83581906837702,-7.866922060251454,-7.897968675124048,-7.928958895496109,-7.959892703900735,-7.990770082902813,-8.021591015098977,-8.052355483117779,-8.083063469619532,-8.113714957296395,-8.144309928872389,-8.174848367103323,-8.205330254776953,-8.235755574712883,-8.266124309762588,-8.296436442809423,-8.326691956768656,-8.356890834587489,-8.387033059245041,-8.417118613752322,-8.447147481152356,-8.477119644520016,-8.507035086962219,-8.536893791617814,-8.566695741657654,-8.596440920284579,-8.626129310733361,-8.655760896270877,-8.68533566019596,-8.714853585839492,-8.744314656564384,-8.77371885576558,-8.803066166870082,-8.83235657333698,-8.861590058657413,-8.890766606354632,-8.919886199983921,-8.948948823132696,-8.97795445942053,-9.006903092499044,-9.035794706052016,-9.06462928379537,-9.093406809477173,-9.12212726687764,-9.15079063980916,-9.179396912116275,-9.20794606767575,-9.23643809039649,-9.264872964219663,-9.293250673118592,-9.321571201098877,-9.349834532198273,-9.378040650486824,-9.406189540066833,-9.43428118507282,-9.462315569671574,-9.490292678062161,-9.518212494475975,-9.54607500317664,-9.573880188460095,-9.601628034654624,-9.629318526120755,-9.656951647251432,-9.68452738247187,-9.712045716239658,-9.73950663304474,-9.766910117409381,-9.79425615388827,-9.821544727068442,-9.848775821569333,-9.87594942204278,-9.903065513173004,-9.930124079676645,-9.957125106302797,-9.984068577832943,-10.010954479081036,-10.03778279489346,-10.064553510149068,-10.091266609759145,-10.117922078667505,-10.14451990185043,-10.171060064316634,-10.197542551107375,-10.223967347296451,-10.250334437990134,-10.276643808327222,-10.302895443479045,-10.329089328649488,-10.355225449074965,-10.38130379002449,-10.407324336799618,-10.433287074734437,-10.45919198919566,-10.485039065582626,-10.510828289327193,-10.536559645893902,-10.562233120779851,-10.587848699514794,-10.6134063676611,-10.638906110813792,-10.664347914600526,-10.689731764681639,-10.715057646750097,-10.740325546531565,-10.765535449784394,-10.790687342299591,-10.815781209900905,-10.84081703844474,-10.86579481382023,-10.890714521949263,-10.9155761487864,-10.940379680318955,-10.965125102567043,-10.98981240158345,-11.014441563453772,-11.03901257429635,-11.063525420262295,-11.087980087535527,-11.112376562332727,-11.13671483090343,-11.160994879529909,-11.18521669452727,-11.20938026224347,-11.233485569059297,-11.25753260138832,-11.281521345677021,-11.305451788404682,-11.329323916083482,-11.353137715258427,-11.376893172507451,-11.400590274441356,-11.4242290077038,-11.447809358971355,-11.471331314953531,-11.494794862392709,-11.518199988064225,-11.541546678776314,-11.564834921370164,-11.58806470271989,-11.611236009732565,-11.63434882934824,-11.657403148539899,-11.680398954313546,-11.703336233708086,-11.726214973795464,-11.749035161680652,-11.771796784501547,-11.7944998294291,-11.817144283667261,-11.839730134453006,-11.862257369056394,-11.884725974780437,-11.907135938961233,-11.92948724896793,-11.951779892202723,-11.97401385610091,-11.996189128130823,-12.01830569579387,-12.040363546624604,-12.062362668190602,-12.084303048092565,-12.106184673964336,-12.12800753347284,-12.149771614318126,-12.171476904233359,-12.193123390984908,-12.214711062372174,-12.236239906227823,-12.257709910417603,-12.279121062840446,-12.300473351428437,-12.3217667641469,-12.343001288994273,-12.364176914002215,-12.385293627235583,-12.406351416792418,-12.427350270804013,-12.448290177434842,-12.469171124882607,-12.489993101378275,-12.510756095185982,-12.531460094603204,-12.55210508796057,-12.572691063622045,-12.593218009984795,-12.613685915479309,-12.634094768569312,-12.65444455775183,-12.67473527155721,-12.694966898549026,-12.715139427324203,-12.735252846512978,-12.755307144778897,-12.775302310818802,-12.795238333362903,-12.815115201174706,-12.834932903051097,-12.854691427822274,-12.87439076435183,-12.894030901536667,-12.913611828307097,-12.933133533626773,-12.952596006492769,-12.971999235935485,-12.991343211018759,-13.01062792083981,-13.029853354529251,-13.049019501251138,-13.068126350202903,-13.087173890615418,-13.10616211175298,-13.125091002913308,-13.143960553427604,-13.162770752660478,-13.181521590009993,-13.200213054907664,-13.218845136818516,-13.237417825240968,-13.255931109707006,-13.274384979782013,-13.292779425064907,-13.311114435188102,-13.329389999817465,-13.347606108652428,-13.365762751425905,-13.383859917904317,-13.401897597887611,-13.4198757812093,-13.437794457736373,-13.455653617369407,-13.473453250042468,-13.491193345723246,-13.508873894412929,-13.52649488614631,-13.544056310991692,-13.561558159051032,-13.579000420459778,-13.596383085387032,-13.613706144035476,-13.630969586641328,-13.648173403474487,-13.665317584838405,-13.682402121070169,-13.699427002540489,-13.716392219653684,-13.733297762847698,-13.75014362259411,-13.766929789398162,-13.78365625379871,-13.800323006368274,-13.816930037713036,-13.833477338472832,-13.849964899321137,-13.866392710965158,-13.882760764145715,-13.899069049637347,-13.915317558248262,-13.931506280820372,-13.947635208229315,-13.963704331384335,-13.9797136412285,-13.995663128738485,-14.011552784924774,-14.02738260083153,-14.043152567536623,-14.058862676151705,-14.074512917822119,-14.09010328372699,-14.105633765079148,-14.121104353125219,-14.136515039145578,-14.151865814454311,-14.167156670399365,-14.182387598362368,-14.197558589758756,-14.212669636037788,-14.227720728682456,-14.242711859209564,-14.257643019169706,-14.272514200147285,-14.287325393760526,-14.302076591661418,-14.316767785535802,-14.33139896710334,-14.345970128117486,-14.36048126036556,-14.374932355668705,-14.389323405881896,-14.403654402893935,-14.417925338627526,-14.432136205039157,-14.44628699411922,-14.460377697891943,-14.47440830841542,-14.488378817781665,-14.502289218116502,-14.516139501579644,-14.529929660364715,-14.543659686699229,-14.557329572844552,-14.570939311095984,-14.58448889378272,-14.59797831326783,-14.611407561948354,-14.624776632255177,-14.638085516653149,-14.651334207641028,-14.66452269775148,-14.67765097955116,-14.690719045640577,-14.70372688865426,-14.716674501260584,-14.729561876161995,-14.742389006094797,-14.75515588382926,-14.767862502169649,-14.780508853954174,-14.793094932055013,-14.805620729378333,-14.818086238864225,-14.830491453486815,-14.842836366254204,-14.855120970208446,-14.867345258425644,-14.87950922401582,-14.891612860123075,-14.903656159925461,-14.915639116635063,-14.927561723497945,-14.939423973794234,-14.951225860838036,-14.962967377977492,-14.974648518594776,-14.986269276106086,-14.997829643961651,-15.009329615645726,-15.020769184676638,-15.032148344606739,-15.043467089022428,-15.054725411544155,-15.065923305826445,-15.077060765557832,-15.088137784460983,-15.099154356292587,-15.110110474843395,-15.121006133938252,-15.131841327436078,-15.142616049229872,-15.15333029324671,-15.163984053447749,-15.17457732382826,-15.185110098417596,-15.195582371279187,-15.205994136510597,-15.216345388243468,-15.226636120643562,-15.236866327910747,-15.24703600427901,-15.257145144016448,-15.267193741425274,-15.277181790841823,-15.287109286636579,-15.296976223214145,-15.30678259501326,-15.316528396506754,-15.326213622201664,-15.33583826663913,-15.345402324394442,-15.354905790077055,-15.364348658330542,-15.373730923832667,-15.383052581295345,-15.39231362546461,-15.401514051120714,-15.410653853078045,-15.419733026185156,-15.428751565324802,-15.437709465413874,-15.446606721403498,-15.455443328278903,-15.464219281059542,-15.472934574799098,-15.481589204585347,-15.49018316554033,-15.498716452820275,-15.507189061615577,-15.515600987150862,-15.523952224684919,-15.532242769510788,-15.540472616955697,-15.54864176238108,-15.556750201182581,-15.564797928790085,-15.572784940667674,-15.580711232313632,-15.588576799260522,-15.596381637075083,-15.604125741358303,-15.611809107745387,-15.619431731905806,-15.626993609543248,-15.63449473639561,-15.641935108235089,-15.649314720868063,-15.656633570135199,-15.663891651911399,-15.671088962105827,-15.678225496661852,-15.685301251557178,-15.692316222803683,-15.699270406447567,-15.70616379856925,-15.71299639528344,-15.719768192739096,-15.72647918711948,-15.733129374642061,-15.739718751558627,-15.74624731415524,-15.75271505875223,-15.759121981704183,-15.765468079399994,-15.771753348262834,-15.777977784750178,-15.784141385353735,-15.790244146599562,-15.796286065047966,-15.802267137293569,-15.80818735996526,-15.814046729726272,-15.819845243274102,-15.825582897340524,-15.831259688691674,-15.836875614127948,-15.842430670484063,-15.847924854629056,-15.853358163466226,-15.858730593933231,-15.864042143002038,-15.869292807678903,-15.87448258500443,-15.879611472053497,-15.884679465935335,-15.889686563793475,-15.894632762805813,-15.899518060184533,-15.904342453176127,-15.909105939061462,-15.913808515155694,-15.918450178808342,-15.923030927403232,-15.927550758358521,-15.932009669126742,-15.936407657194692,-15.940744720083586,-15.945020855348915,-15.949236060580546,-15.95339033340268,-15.957483671473852,-15.961516072486944,-15.965487534169199,-15.969398054282195,-15.973247630621842,-15.977036261018426,-15.98076394333657,-15.984430675475252,-15.988036455367833,-15.991581280981961,-15.99506515031969,-15.998488061417419,-16.001850012345912,-16.00515100121028,-16.00839102614998,-16.011570085338874,-16.014688176985146,-16.017745299331352,-16.02074145065444,-16.023676629265665,-16.02655083351071,-16.02936406176957,-16.032116312456665,-16.034807584020726,-16.037437874944914,-16.040007183746695,-16.042515508977942,-16.044962849224902,-16.047349203108197,-16.049674569282814,-16.0519389464381,-16.054142333297804,-16.056284728620028,-16.05836613119726,-16.06038653985638,-16.06234595345863,-16.064244370899615,-16.06608179110937,-16.067858213052233,-16.069573635726996,-16.07122805816678,-16.072821479439142,-16.07435389864594,-16.075825314923506,-16.07723572744247,-16.07858513540792,-16.079873538059275,-16.081100934670374,-16.082267324549406,-16.083372707038976,-16.08441708151605,-16.08540044739199,-16.086322804112555,-16.087184151157857,-16.087984488042466,-16.088723814315244,-16.08940212955949,-16.09001943339291,-16.090575725467573,-16.091071005469928,-16.09150527312083,-16.0918785281755,-16.09219077042357,-16.092441999689058,-16.09263221583035,-16.09276141874024,-16.092829608345937,-16.09283678460895,-16.092782947525265,-16.09266809712524,-16.092492233473592,-16.09225535666944,-16.09195746684631,-16.09159856417206,-16.091178648849024,-16.09069772111387,-16.090155781237627,-16.089552829525786,-16.088888866318158,-16.088163891988998,-16.087377906946898,-16.08653091163488,-16.085622906530304,-16.08465389214497,-16.083623869025033,-16.082532837751046,-16.081380798937943,-16.08016775323503,-16.078893701326024,-16.07755864392901,-16.076162581796467,-16.074705515715266,-16.07318744650661,-16.07160837502616,-16.069968302163915,-16.06826722884425,-16.06650515602594,-16.06468208470214,-16.062798015900384,-16.060852950682587,-16.05884689014502,-16.056779835418368,-16.05465178766768,-16.052462748092367,-16.050212717926257,-16.0479016984375,-16.045529690928646,-16.04309669673664,-16.040602717232773,-16.038047753822724,-16.035431807946537,-16.03275488107863,-16.030016974727786,-16.02721809043716,-16.02435822978427,-16.021437394381024,-16.018455585873696,-16.015412805942873,-16.012309056303593,-16.00914433870517,-16.005918654931364,-16.002632006800226,-15.9992843961642,-15.995875824910087,-15.992406294959068,-15.98887580826667,-15.98528436682274,-15.981631972651499,-15.97791862781159,-15.974144334395902,-15.970309094531743,-15.966412910380768,-15.962455784138953,-15.958437718036649,-15.954358714338554,-15.950218775343686,-15.946017903385425,-15.941756100831512,-15.937433370083994,-15.933049713579294,-15.928605133788139,-15.924099633215633,-15.91953321440117,-15.914905879918535,-15.910217632375804,-15.9054684744154,-15.900658408714051,-15.89578743798289,-15.890855564967282,-15.885862792446972,-15.88080912323602,-15.875694560182836,-15.870519106170079,-15.865282764114795,-15.859985536968338,-15.854627427716352,-15.849208439378813,-15.84372857500999,-15.838187837698513,-15.832586230567273,-15.826923756773482,-15.82120041950867,-15.81541622199866,-15.809571167503563,-15.803665259317839,-15.797698500770181,-15.791670895223632,-15.785582446075523,-15.779433156757449,-15.77322303073531,-15.766952071509323,-15.760620282613928,-15.754227667617926,-15.74777423012435,-15.741259973770525,-15.734684902228082,-15.728049019202885,-15.721352328435088,-15.714594833699152,-15.707776538803756,-15.700897447591885,-15.693957563940785,-15.686956891761938,-15.679895435001129,-15.672773197638364,-15.665590183687954,-15.658346397198414,-15.651041842252553,-15.643676522967397,-15.63625044349422,-15.628763608018616,-15.621216020760315,-15.61360768597335,-15.605938607945987,-15.598208791000715,-15.59041823949427,-15.582566957817619,-15.574654950395953,-15.56668222168868,-15.558648776189443,-15.55055461842612,-15.54239975296079,-15.534184184389744,-15.525907917343503,-15.517570956486779,-15.50917330651852,-15.500714972171878,-15.492195958214168,-15.48361626944694,-15.474975910705936,-15.4662748868611,-15.457513202816557,-15.448690863510635,-15.439807873915825,-15.430864239038812,-15.421859963920497,-15.41279505363589,-15.403669513294247,-15.39448334803896,-15.38523656304757,-15.375929163531865,-15.366561154737681,-15.357132541945134,-15.3476433304684,-15.338093525655864,-15.328483132890057,-15.318812157587658,-15.309080605199469,-15.299288481210468,-15.289435791139752,-15.279522540540555,-15.269548735000257,-15.25951438014036,-15.24941948161647,-15.23926404511839,-15.229048076369935,-15.218771581129161,-15.208434565188114,-15.198037034373058,-15.187578994544296,-15.177060451596276,-15.166481411457497,-15.155841880090605,-15.145141863492356,-15.134381367693507,-15.123560398758983,-15.112678962787797,-15.101737065912971,-15.090734714301703,-15.07967191415517,-15.068548671708669,-15.057364993231559,-15.046120885027264,-15.034816353433271,-15.023451404821074,-15.012026045596329,-15.000540282198614,-14.988994121101626,-14.977387568813128,-14.965720631874817,-14.953993316862551,-14.942205630386113,-14.930357579089375,-14.91844916965023,-14.906480408780538,-14.894451303226248,-14.882361859767258,-14.870212085217517,-14.858001986424966,-14.845731570271525,-14.833400843673147,-14.821009813579735,-14.808558486975215,-14.79604687087749,-14.783474972338439,-14.770842798443923,-14.758150356313763,-14.745397653101762,-14.732584695995683,-14.719711492217257,-14.706778049022162,-14.693784373700026,-14.680730473574428,-14.667616356002895,-14.654442028376906,-14.641207498121858,-14.627912772697073,-14.614557859595834,-14.601142766345305,-14.587667500506612,-14.574132069674747,-14.560536481478664,-14.546880743581184,-14.533164863679048,-14.519388849502903,-14.505552708817262,-14.49165644942056,-14.477700079145066,-14.463683605857014,-14.449607037456403,-14.43547038187721,-14.421273647087219,-14.407016841088065,-14.392699971915306,-14.378323047638261,-14.363886076360203,-14.349389066218151,-14.334832025383022,-14.320214962059538,-14.305537884486284,-14.290800800935656,-14.276003719713856,-14.26114664916092,-14.246229597650682,-14.23125257359078,-14.216215585422674,-14.201118641621633,-14.185961750696677,-14.170744921190632,-14.155468161680105,-14.140131480775494,-14.124734887120951,-14.109278389394433,-14.093761996307606,-14.07818571660593,-14.062549559068614,-14.04685353250862,-14.031097645772647,-14.015281907741127,-13.999406327328202,-13.983470913481838]}],                        {\"template\":{\"data\":{\"barpolar\":[{\"marker\":{\"line\":{\"color\":\"#E5ECF6\",\"width\":0.5},\"pattern\":{\"fillmode\":\"overlay\",\"size\":10,\"solidity\":0.2}},\"type\":\"barpolar\"}],\"bar\":[{\"error_x\":{\"color\":\"#2a3f5f\"},\"error_y\":{\"color\":\"#2a3f5f\"},\"marker\":{\"line\":{\"color\":\"#E5ECF6\",\"width\":0.5},\"pattern\":{\"fillmode\":\"overlay\",\"size\":10,\"solidity\":0.2}},\"type\":\"bar\"}],\"carpet\":[{\"aaxis\":{\"endlinecolor\":\"#2a3f5f\",\"gridcolor\":\"white\",\"linecolor\":\"white\",\"minorgridcolor\":\"white\",\"startlinecolor\":\"#2a3f5f\"},\"baxis\":{\"endlinecolor\":\"#2a3f5f\",\"gridcolor\":\"white\",\"linecolor\":\"white\",\"minorgridcolor\":\"white\",\"startlinecolor\":\"#2a3f5f\"},\"type\":\"carpet\"}],\"choropleth\":[{\"colorbar\":{\"outlinewidth\":0,\"ticks\":\"\"},\"type\":\"choropleth\"}],\"contourcarpet\":[{\"colorbar\":{\"outlinewidth\":0,\"ticks\":\"\"},\"type\":\"contourcarpet\"}],\"contour\":[{\"colorbar\":{\"outlinewidth\":0,\"ticks\":\"\"},\"colorscale\":[[0.0,\"#0d0887\"],[0.1111111111111111,\"#46039f\"],[0.2222222222222222,\"#7201a8\"],[0.3333333333333333,\"#9c179e\"],[0.4444444444444444,\"#bd3786\"],[0.5555555555555556,\"#d8576b\"],[0.6666666666666666,\"#ed7953\"],[0.7777777777777778,\"#fb9f3a\"],[0.8888888888888888,\"#fdca26\"],[1.0,\"#f0f921\"]],\"type\":\"contour\"}],\"heatmapgl\":[{\"colorbar\":{\"outlinewidth\":0,\"ticks\":\"\"},\"colorscale\":[[0.0,\"#0d0887\"],[0.1111111111111111,\"#46039f\"],[0.2222222222222222,\"#7201a8\"],[0.3333333333333333,\"#9c179e\"],[0.4444444444444444,\"#bd3786\"],[0.5555555555555556,\"#d8576b\"],[0.6666666666666666,\"#ed7953\"],[0.7777777777777778,\"#fb9f3a\"],[0.8888888888888888,\"#fdca26\"],[1.0,\"#f0f921\"]],\"type\":\"heatmapgl\"}],\"heatmap\":[{\"colorbar\":{\"outlinewidth\":0,\"ticks\":\"\"},\"colorscale\":[[0.0,\"#0d0887\"],[0.1111111111111111,\"#46039f\"],[0.2222222222222222,\"#7201a8\"],[0.3333333333333333,\"#9c179e\"],[0.4444444444444444,\"#bd3786\"],[0.5555555555555556,\"#d8576b\"],[0.6666666666666666,\"#ed7953\"],[0.7777777777777778,\"#fb9f3a\"],[0.8888888888888888,\"#fdca26\"],[1.0,\"#f0f921\"]],\"type\":\"heatmap\"}],\"histogram2dcontour\":[{\"colorbar\":{\"outlinewidth\":0,\"ticks\":\"\"},\"colorscale\":[[0.0,\"#0d0887\"],[0.1111111111111111,\"#46039f\"],[0.2222222222222222,\"#7201a8\"],[0.3333333333333333,\"#9c179e\"],[0.4444444444444444,\"#bd3786\"],[0.5555555555555556,\"#d8576b\"],[0.6666666666666666,\"#ed7953\"],[0.7777777777777778,\"#fb9f3a\"],[0.8888888888888888,\"#fdca26\"],[1.0,\"#f0f921\"]],\"type\":\"histogram2dcontour\"}],\"histogram2d\":[{\"colorbar\":{\"outlinewidth\":0,\"ticks\":\"\"},\"colorscale\":[[0.0,\"#0d0887\"],[0.1111111111111111,\"#46039f\"],[0.2222222222222222,\"#7201a8\"],[0.3333333333333333,\"#9c179e\"],[0.4444444444444444,\"#bd3786\"],[0.5555555555555556,\"#d8576b\"],[0.6666666666666666,\"#ed7953\"],[0.7777777777777778,\"#fb9f3a\"],[0.8888888888888888,\"#fdca26\"],[1.0,\"#f0f921\"]],\"type\":\"histogram2d\"}],\"histogram\":[{\"marker\":{\"pattern\":{\"fillmode\":\"overlay\",\"size\":10,\"solidity\":0.2}},\"type\":\"histogram\"}],\"mesh3d\":[{\"colorbar\":{\"outlinewidth\":0,\"ticks\":\"\"},\"type\":\"mesh3d\"}],\"parcoords\":[{\"line\":{\"colorbar\":{\"outlinewidth\":0,\"ticks\":\"\"}},\"type\":\"parcoords\"}],\"pie\":[{\"automargin\":true,\"type\":\"pie\"}],\"scatter3d\":[{\"line\":{\"colorbar\":{\"outlinewidth\":0,\"ticks\":\"\"}},\"marker\":{\"colorbar\":{\"outlinewidth\":0,\"ticks\":\"\"}},\"type\":\"scatter3d\"}],\"scattercarpet\":[{\"marker\":{\"colorbar\":{\"outlinewidth\":0,\"ticks\":\"\"}},\"type\":\"scattercarpet\"}],\"scattergeo\":[{\"marker\":{\"colorbar\":{\"outlinewidth\":0,\"ticks\":\"\"}},\"type\":\"scattergeo\"}],\"scattergl\":[{\"marker\":{\"colorbar\":{\"outlinewidth\":0,\"ticks\":\"\"}},\"type\":\"scattergl\"}],\"scattermapbox\":[{\"marker\":{\"colorbar\":{\"outlinewidth\":0,\"ticks\":\"\"}},\"type\":\"scattermapbox\"}],\"scatterpolargl\":[{\"marker\":{\"colorbar\":{\"outlinewidth\":0,\"ticks\":\"\"}},\"type\":\"scatterpolargl\"}],\"scatterpolar\":[{\"marker\":{\"colorbar\":{\"outlinewidth\":0,\"ticks\":\"\"}},\"type\":\"scatterpolar\"}],\"scatter\":[{\"fillpattern\":{\"fillmode\":\"overlay\",\"size\":10,\"solidity\":0.2},\"type\":\"scatter\"}],\"scatterternary\":[{\"marker\":{\"colorbar\":{\"outlinewidth\":0,\"ticks\":\"\"}},\"type\":\"scatterternary\"}],\"surface\":[{\"colorbar\":{\"outlinewidth\":0,\"ticks\":\"\"},\"colorscale\":[[0.0,\"#0d0887\"],[0.1111111111111111,\"#46039f\"],[0.2222222222222222,\"#7201a8\"],[0.3333333333333333,\"#9c179e\"],[0.4444444444444444,\"#bd3786\"],[0.5555555555555556,\"#d8576b\"],[0.6666666666666666,\"#ed7953\"],[0.7777777777777778,\"#fb9f3a\"],[0.8888888888888888,\"#fdca26\"],[1.0,\"#f0f921\"]],\"type\":\"surface\"}],\"table\":[{\"cells\":{\"fill\":{\"color\":\"#EBF0F8\"},\"line\":{\"color\":\"white\"}},\"header\":{\"fill\":{\"color\":\"#C8D4E3\"},\"line\":{\"color\":\"white\"}},\"type\":\"table\"}]},\"layout\":{\"annotationdefaults\":{\"arrowcolor\":\"#2a3f5f\",\"arrowhead\":0,\"arrowwidth\":1},\"autotypenumbers\":\"strict\",\"coloraxis\":{\"colorbar\":{\"outlinewidth\":0,\"ticks\":\"\"}},\"colorscale\":{\"diverging\":[[0,\"#8e0152\"],[0.1,\"#c51b7d\"],[0.2,\"#de77ae\"],[0.3,\"#f1b6da\"],[0.4,\"#fde0ef\"],[0.5,\"#f7f7f7\"],[0.6,\"#e6f5d0\"],[0.7,\"#b8e186\"],[0.8,\"#7fbc41\"],[0.9,\"#4d9221\"],[1,\"#276419\"]],\"sequential\":[[0.0,\"#0d0887\"],[0.1111111111111111,\"#46039f\"],[0.2222222222222222,\"#7201a8\"],[0.3333333333333333,\"#9c179e\"],[0.4444444444444444,\"#bd3786\"],[0.5555555555555556,\"#d8576b\"],[0.6666666666666666,\"#ed7953\"],[0.7777777777777778,\"#fb9f3a\"],[0.8888888888888888,\"#fdca26\"],[1.0,\"#f0f921\"]],\"sequentialminus\":[[0.0,\"#0d0887\"],[0.1111111111111111,\"#46039f\"],[0.2222222222222222,\"#7201a8\"],[0.3333333333333333,\"#9c179e\"],[0.4444444444444444,\"#bd3786\"],[0.5555555555555556,\"#d8576b\"],[0.6666666666666666,\"#ed7953\"],[0.7777777777777778,\"#fb9f3a\"],[0.8888888888888888,\"#fdca26\"],[1.0,\"#f0f921\"]]},\"colorway\":[\"#636efa\",\"#EF553B\",\"#00cc96\",\"#ab63fa\",\"#FFA15A\",\"#19d3f3\",\"#FF6692\",\"#B6E880\",\"#FF97FF\",\"#FECB52\"],\"font\":{\"color\":\"#2a3f5f\"},\"geo\":{\"bgcolor\":\"white\",\"lakecolor\":\"white\",\"landcolor\":\"#E5ECF6\",\"showlakes\":true,\"showland\":true,\"subunitcolor\":\"white\"},\"hoverlabel\":{\"align\":\"left\"},\"hovermode\":\"closest\",\"mapbox\":{\"style\":\"light\"},\"paper_bgcolor\":\"white\",\"plot_bgcolor\":\"#E5ECF6\",\"polar\":{\"angularaxis\":{\"gridcolor\":\"white\",\"linecolor\":\"white\",\"ticks\":\"\"},\"bgcolor\":\"#E5ECF6\",\"radialaxis\":{\"gridcolor\":\"white\",\"linecolor\":\"white\",\"ticks\":\"\"}},\"scene\":{\"xaxis\":{\"backgroundcolor\":\"#E5ECF6\",\"gridcolor\":\"white\",\"gridwidth\":2,\"linecolor\":\"white\",\"showbackground\":true,\"ticks\":\"\",\"zerolinecolor\":\"white\"},\"yaxis\":{\"backgroundcolor\":\"#E5ECF6\",\"gridcolor\":\"white\",\"gridwidth\":2,\"linecolor\":\"white\",\"showbackground\":true,\"ticks\":\"\",\"zerolinecolor\":\"white\"},\"zaxis\":{\"backgroundcolor\":\"#E5ECF6\",\"gridcolor\":\"white\",\"gridwidth\":2,\"linecolor\":\"white\",\"showbackground\":true,\"ticks\":\"\",\"zerolinecolor\":\"white\"}},\"shapedefaults\":{\"line\":{\"color\":\"#2a3f5f\"}},\"ternary\":{\"aaxis\":{\"gridcolor\":\"white\",\"linecolor\":\"white\",\"ticks\":\"\"},\"baxis\":{\"gridcolor\":\"white\",\"linecolor\":\"white\",\"ticks\":\"\"},\"bgcolor\":\"#E5ECF6\",\"caxis\":{\"gridcolor\":\"white\",\"linecolor\":\"white\",\"ticks\":\"\"}},\"title\":{\"x\":0.05},\"xaxis\":{\"automargin\":true,\"gridcolor\":\"white\",\"linecolor\":\"white\",\"ticks\":\"\",\"title\":{\"standoff\":15},\"zerolinecolor\":\"white\",\"zerolinewidth\":2},\"yaxis\":{\"automargin\":true,\"gridcolor\":\"white\",\"linecolor\":\"white\",\"ticks\":\"\",\"title\":{\"standoff\":15},\"zerolinecolor\":\"white\",\"zerolinewidth\":2}}},\"xaxis\":{\"range\":[-60,60],\"title\":{\"text\":\"X\"}},\"yaxis\":{\"range\":[-60,60],\"title\":{\"text\":\"Y\"}},\"width\":500,\"height\":500,\"showlegend\":false,\"title\":{\"text\":\"Hits in the Central Drift Chamber\"},\"shapes\":[{\"line\":{\"color\":\"black\"},\"type\":\"circle\",\"x0\":-10.5,\"x1\":10.5,\"xref\":\"x\",\"y0\":-10.5,\"y1\":10.5,\"yref\":\"y\"},{\"line\":{\"color\":\"black\"},\"type\":\"circle\",\"x0\":-55,\"x1\":55,\"xref\":\"x\",\"y0\":-55,\"y1\":55,\"yref\":\"y\"}]},                        {\"responsive\": true}                    ).then(function(){\n                            \nvar gd = document.getElementById('f3508a9a-ab8a-4f61-be05-df8ae778db39');\nvar x = new MutationObserver(function (mutations, observer) {{\n        var display = window.getComputedStyle(gd).display;\n        if (!display || display === 'none') {{\n            console.log([gd, 'removed!']);\n            Plotly.purge(gd);\n            observer.disconnect();\n        }}\n}});\n\n// Listen for the removal of the full notebook cells\nvar notebookContainer = gd.closest('#notebook-container');\nif (notebookContainer) {{\n    x.observe(notebookContainer, {childList: true});\n}}\n\n// Listen for the clearing of the current output cell\nvar outputEl = gd.closest('.output');\nif (outputEl) {{\n    x.observe(outputEl, {childList: true});\n}}\n\n                        })                };                            </script>        </div>\n</body>\n</html>"
                },
                "metadata": {}
              }
            ]
          }
        },
        "c67bc2c48036409b86b2ad781260ba5a": {
          "model_module": "@jupyter-widgets/base",
          "model_name": "LayoutModel",
          "model_module_version": "1.2.0",
          "state": {
            "_model_module": "@jupyter-widgets/base",
            "_model_module_version": "1.2.0",
            "_model_name": "LayoutModel",
            "_view_count": null,
            "_view_module": "@jupyter-widgets/base",
            "_view_module_version": "1.2.0",
            "_view_name": "LayoutView",
            "align_content": null,
            "align_items": null,
            "align_self": null,
            "border": null,
            "bottom": null,
            "display": null,
            "flex": null,
            "flex_flow": null,
            "grid_area": null,
            "grid_auto_columns": null,
            "grid_auto_flow": null,
            "grid_auto_rows": null,
            "grid_column": null,
            "grid_gap": null,
            "grid_row": null,
            "grid_template_areas": null,
            "grid_template_columns": null,
            "grid_template_rows": null,
            "height": null,
            "justify_content": null,
            "justify_items": null,
            "left": null,
            "margin": null,
            "max_height": null,
            "max_width": null,
            "min_height": null,
            "min_width": null,
            "object_fit": null,
            "object_position": null,
            "order": null,
            "overflow": null,
            "overflow_x": null,
            "overflow_y": null,
            "padding": null,
            "right": null,
            "top": null,
            "visibility": null,
            "width": null
          }
        },
        "da79205f050f4e6f9a34f2c0f34c8693": {
          "model_module": "@jupyter-widgets/controls",
          "model_name": "FloatSliderModel",
          "model_module_version": "1.5.0",
          "state": {
            "_dom_classes": [],
            "_model_module": "@jupyter-widgets/controls",
            "_model_module_version": "1.5.0",
            "_model_name": "FloatSliderModel",
            "_view_count": null,
            "_view_module": "@jupyter-widgets/controls",
            "_view_module_version": "1.5.0",
            "_view_name": "FloatSliderView",
            "continuous_update": true,
            "description": "pz",
            "description_tooltip": null,
            "disabled": false,
            "layout": "IPY_MODEL_d932541918a1432eb5bf01e46a97b022",
            "max": 1,
            "min": -1,
            "orientation": "horizontal",
            "readout": true,
            "readout_format": ".2f",
            "step": 0.01,
            "style": "IPY_MODEL_22c454e3fcac4ba887e81958e298722d",
            "value": -0.6
          }
        },
        "2036629da513458cbc065dc397ad5ae2": {
          "model_module": "@jupyter-widgets/base",
          "model_name": "LayoutModel",
          "model_module_version": "1.2.0",
          "state": {
            "_model_module": "@jupyter-widgets/base",
            "_model_module_version": "1.2.0",
            "_model_name": "LayoutModel",
            "_view_count": null,
            "_view_module": "@jupyter-widgets/base",
            "_view_module_version": "1.2.0",
            "_view_name": "LayoutView",
            "align_content": null,
            "align_items": null,
            "align_self": null,
            "border": null,
            "bottom": null,
            "display": null,
            "flex": null,
            "flex_flow": "row wrap",
            "grid_area": null,
            "grid_auto_columns": null,
            "grid_auto_flow": null,
            "grid_auto_rows": null,
            "grid_column": null,
            "grid_gap": null,
            "grid_row": null,
            "grid_template_areas": null,
            "grid_template_columns": null,
            "grid_template_rows": null,
            "height": null,
            "justify_content": null,
            "justify_items": null,
            "left": null,
            "margin": null,
            "max_height": null,
            "max_width": null,
            "min_height": null,
            "min_width": null,
            "object_fit": null,
            "object_position": null,
            "order": null,
            "overflow": null,
            "overflow_x": null,
            "overflow_y": null,
            "padding": null,
            "right": null,
            "top": null,
            "visibility": null,
            "width": null
          }
        },
        "8db5785021164e5db620b2535e8e26a0": {
          "model_module": "@jupyter-widgets/base",
          "model_name": "LayoutModel",
          "model_module_version": "1.2.0",
          "state": {
            "_model_module": "@jupyter-widgets/base",
            "_model_module_version": "1.2.0",
            "_model_name": "LayoutModel",
            "_view_count": null,
            "_view_module": "@jupyter-widgets/base",
            "_view_module_version": "1.2.0",
            "_view_name": "LayoutView",
            "align_content": null,
            "align_items": null,
            "align_self": null,
            "border": null,
            "bottom": null,
            "display": null,
            "flex": null,
            "flex_flow": null,
            "grid_area": null,
            "grid_auto_columns": null,
            "grid_auto_flow": null,
            "grid_auto_rows": null,
            "grid_column": null,
            "grid_gap": null,
            "grid_row": null,
            "grid_template_areas": null,
            "grid_template_columns": null,
            "grid_template_rows": null,
            "height": null,
            "justify_content": null,
            "justify_items": null,
            "left": null,
            "margin": null,
            "max_height": null,
            "max_width": null,
            "min_height": null,
            "min_width": null,
            "object_fit": null,
            "object_position": null,
            "order": null,
            "overflow": null,
            "overflow_x": null,
            "overflow_y": null,
            "padding": null,
            "right": null,
            "top": null,
            "visibility": null,
            "width": null
          }
        },
        "d932541918a1432eb5bf01e46a97b022": {
          "model_module": "@jupyter-widgets/base",
          "model_name": "LayoutModel",
          "model_module_version": "1.2.0",
          "state": {
            "_model_module": "@jupyter-widgets/base",
            "_model_module_version": "1.2.0",
            "_model_name": "LayoutModel",
            "_view_count": null,
            "_view_module": "@jupyter-widgets/base",
            "_view_module_version": "1.2.0",
            "_view_name": "LayoutView",
            "align_content": null,
            "align_items": null,
            "align_self": null,
            "border": null,
            "bottom": null,
            "display": null,
            "flex": null,
            "flex_flow": null,
            "grid_area": null,
            "grid_auto_columns": null,
            "grid_auto_flow": null,
            "grid_auto_rows": null,
            "grid_column": null,
            "grid_gap": null,
            "grid_row": null,
            "grid_template_areas": null,
            "grid_template_columns": null,
            "grid_template_rows": null,
            "height": null,
            "justify_content": null,
            "justify_items": null,
            "left": null,
            "margin": null,
            "max_height": null,
            "max_width": null,
            "min_height": null,
            "min_width": null,
            "object_fit": null,
            "object_position": null,
            "order": null,
            "overflow": null,
            "overflow_x": null,
            "overflow_y": null,
            "padding": null,
            "right": null,
            "top": null,
            "visibility": null,
            "width": null
          }
        },
        "22c454e3fcac4ba887e81958e298722d": {
          "model_module": "@jupyter-widgets/controls",
          "model_name": "SliderStyleModel",
          "model_module_version": "1.5.0",
          "state": {
            "_model_module": "@jupyter-widgets/controls",
            "_model_module_version": "1.5.0",
            "_model_name": "SliderStyleModel",
            "_view_count": null,
            "_view_module": "@jupyter-widgets/base",
            "_view_module_version": "1.2.0",
            "_view_name": "StyleView",
            "description_width": "",
            "handle_color": null
          }
        },
        "3b6576d1ca6a400ab14de7f5730be688": {
          "model_module": "@jupyter-widgets/controls",
          "model_name": "VBoxModel",
          "model_module_version": "1.5.0",
          "state": {
            "_dom_classes": [],
            "_model_module": "@jupyter-widgets/controls",
            "_model_module_version": "1.5.0",
            "_model_name": "VBoxModel",
            "_view_count": null,
            "_view_module": "@jupyter-widgets/controls",
            "_view_module_version": "1.5.0",
            "_view_name": "VBoxView",
            "box_style": "",
            "children": [
              "IPY_MODEL_93eac450b473464da1c747b903fd9686",
              "IPY_MODEL_ae969e4896a347019e8d8eec0fd63413"
            ],
            "layout": "IPY_MODEL_f28b17cbb4a640d0a7c429ccfa4ec65d"
          }
        },
        "93eac450b473464da1c747b903fd9686": {
          "model_module": "@jupyter-widgets/controls",
          "model_name": "HBoxModel",
          "model_module_version": "1.5.0",
          "state": {
            "_dom_classes": [],
            "_model_module": "@jupyter-widgets/controls",
            "_model_module_version": "1.5.0",
            "_model_name": "HBoxModel",
            "_view_count": null,
            "_view_module": "@jupyter-widgets/controls",
            "_view_module_version": "1.5.0",
            "_view_name": "HBoxView",
            "box_style": "",
            "children": [
              "IPY_MODEL_ea3afe6c6776441b9d899433dd1931ad",
              "IPY_MODEL_79b3f08ae56443ec93bfe5d3dc3b41d9"
            ],
            "layout": "IPY_MODEL_9f0cda51313f469282e68871962dae21"
          }
        },
        "ae969e4896a347019e8d8eec0fd63413": {
          "model_module": "@jupyter-widgets/output",
          "model_name": "OutputModel",
          "model_module_version": "1.0.0",
          "state": {
            "_dom_classes": [],
            "_model_module": "@jupyter-widgets/output",
            "_model_module_version": "1.0.0",
            "_model_name": "OutputModel",
            "_view_count": null,
            "_view_module": "@jupyter-widgets/output",
            "_view_module_version": "1.0.0",
            "_view_name": "OutputView",
            "layout": "IPY_MODEL_45d44d7b3e3d4bb8a0d6f5811ee5eda8",
            "msg_id": "",
            "outputs": [
              {
                "output_type": "display_data",
                "data": {
                  "text/html": "<html>\n<head><meta charset=\"utf-8\" /></head>\n<body>\n    <div>            <script src=\"https://cdnjs.cloudflare.com/ajax/libs/mathjax/2.7.5/MathJax.js?config=TeX-AMS-MML_SVG\"></script><script type=\"text/javascript\">if (window.MathJax && window.MathJax.Hub && window.MathJax.Hub.Config) {window.MathJax.Hub.Config({SVG: {font: \"STIX-Web\"}});}</script>                <script type=\"text/javascript\">window.PlotlyConfig = {MathJaxConfig: 'local'};</script>\n        <script charset=\"utf-8\" src=\"https://cdn.plot.ly/plotly-2.24.1.min.js\"></script>                <div id=\"2f6962cc-bd5e-4348-b820-e3944a1701b1\" class=\"plotly-graph-div\" style=\"height:500px; width:500px;\"></div>            <script type=\"text/javascript\">                                    window.PLOTLYENV=window.PLOTLYENV || {};                                    if (document.getElementById(\"2f6962cc-bd5e-4348-b820-e3944a1701b1\")) {                    Plotly.newPlot(                        \"2f6962cc-bd5e-4348-b820-e3944a1701b1\",                        [{\"hoverinfo\":\"text\",\"marker\":{\"size\":3},\"mode\":\"markers\",\"text\":[\"Ring: 1.0\\n Wire: 25.0\",\"Ring: 2.0\\n Wire: 25.0\",\"Ring: 3.0\\n Wire: 32.0\",\"Ring: 4.0\\n Wire: 31.0\",\"Ring: 5.0\\n Wire: 42.0\",\"Ring: 6.0\\n Wire: 42.0\",\"Ring: 7.0\\n Wire: 50.0\",\"Ring: 8.0\\n Wire: 51.0\",\"Ring: 9.0\\n Wire: 49.0\",\"Ring: 10.0\\n Wire: 48.0\",\"Ring: 11.0\\n Wire: 56.0\",\"Ring: 12.0\\n Wire: 55.0\",\"Ring: 13.0\\n Wire: 69.0\",\"Ring: 13.0\\n Wire: 70.0\",\"Ring: 14.0\\n Wire: 70.0\",\"Ring: 15.0\\n Wire: 77.0\",\"Ring: 16.0\\n Wire: 76.0\",\"Ring: 17.0\\n Wire: 76.0\",\"Ring: 19.0\\n Wire: 83.0\",\"Ring: 20.0\\n Wire: 82.0\",\"Ring: 21.0\\n Wire: 101.0\",\"Ring: 22.0\\n Wire: 101.0\",\"Ring: 23.0\\n Wire: 107.0\",\"Ring: 24.0\\n Wire: 108.0\",\"Ring: 25.0\\n Wire: 108.0\",\"Ring: 26.0\\n Wire: 109.0\",\"Ring: 27.0\\n Wire: 115.0\",\"Ring: 28.0\\n Wire: 114.0\"],\"x\":[-9.660009121379511,-10.46132854590834,-12.07020334012605,-13.667804810442947,-15.279108087572796,-16.966477687864217,-18.849385679896095,-19.83714403064829,-21.614106415043526,-23.122829623971203,-24.78868417921426,-26.30126497742055,-29.225188434484217,-28.60357380832665,-30.193642242404053,-31.68439168401273,-33.27011892531815,-34.9308214953678,-37.76473417661953,-39.28749533537736,-41.58702662984811,-42.70973137674133,-44.735973533693965,-45.8750935593588,-48.23628385633974,-49.31815682161079,-51.11065313657973,-52.6662020899691],\"y\":[-4.652012361856386,-6.039847443815391,-6.648823912393075,-6.523502027564079,-7.392099913797447,-6.9568544201635,-8.138109855818033,-9.294076354687373,-10.092857183505696,-10.110906152205363,-11.176391750217656,-11.18443248424131,-11.42744437653888,-12.904793272331391,-12.704500222272156,-13.484077280409847,-13.25325122319753,-13.655862833269987,-14.966869161965125,-14.933049195954466,-13.443288207635224,-14.512597095544804,-13.744407443063249,-14.79921226085941,-14.52140901636676,-15.709092904397899,-15.340194834559114,-14.947891837263706],\"type\":\"scatter\",\"uid\":\"6e247037-a605-46ea-bcaa-37afbddcb515\"},{\"marker\":{\"color\":\"red\"},\"mode\":\"lines\",\"name\":\"track\",\"type\":\"scatter\",\"uid\":\"a3286402-e763-491b-9cd9-068263b109c4\",\"x\":[-7.105427357601002e-15,-0.06920407015071817,-0.1384401099523842,-0.2077080803817637,-0.2770079423975389,-0.3463396569404864,-0.41570318493337766,-0.48509848728111393,-0.5545255248706411,-0.6239842585710207,-0.6934746492334511,-0.7629966576913105,-0.8325502447601281,-0.9021353712376907,-0.9717519979039011,-1.0414000855209977,-1.1110795948334768,-1.1807904865680996,-1.2505327214339559,-1.3203062601224431,-1.3901110633073372,-1.459947091644814,-1.5298143057733924,-1.5997126663140904,-1.6696421338702905,-1.7396026690278887,-1.8095942323552592,-1.8796167844033107,-1.9496702857054657,-2.0197546967776674,-2.0898699781185,-2.160016090209112,-2.230192993513299,-2.300400648477492,-2.370639015530756,-2.4409080550848827,-2.5112077275343765,-2.581537993256461,-2.651898812611144,-2.722290145941166,-2.792711953572102,-2.863164195812338,-2.933646832953123,-3.00415982526858,-3.0747031330156673,-3.14527671643431,-3.2158805357473597,-3.2865145511606215,-3.357178722862905,-3.4278730110259445,-3.498597375804593,-3.569351777336692,-3.6401361757432014,-3.710950531128134,-3.78179480357862,-3.852668953164944,-3.9235729399405486,-3.9945067239420524,-4.065470265189319,-4.136463523685336,-4.207486459416451,-4.278539032352242,-4.349621202445583,-4.420732929632685,-4.491874173833047,-4.563044894949577,-4.634245052868572,-4.705474607459713,-4.776733518576151,-4.848021746054428,-4.9193392497145965,-4.990685989360237,-5.062061924778426,-5.133467015739761,-5.204901221998426,-5.276364503292221,-5.3478568193425104,-5.4193781298543655,-5.490928394516409,-5.562507573001021,-5.634115624964295,-5.705752510045997,-5.777418187869692,-5.849112618042668,-5.920835760156038,-5.992587573784732,-6.064368018487514,-6.136177053807032,-6.208014639269763,-6.279880734386147,-6.351775298650523,-6.423698291541214,-6.495649672520521,-6.567629401034679,-6.639637436514022,-6.711673738372895,-6.783738266009728,-6.855830978807042,-6.92795183613142,-7.000100797333651,-7.072277821748656,-7.144482868695533,-7.21671589747762,-7.288976867382409,-7.361265737681727,-7.4335824676316165,-7.505927016472448,-7.578299343428938,-7.65069940771005,-7.723127168509222,-7.795582585004219,-7.868065616357242,-7.940576221714949,-8.013114360208377,-8.085679990953118,-8.158273073049259,-8.23089356558139,-8.303541427618697,-8.376216618214869,-8.44891909640824,-8.521648821221753,-8.594405751663004,-8.667189846724277,-8.740001065382451,-8.81283936659922,-8.885704709320969,-8.95859705247885,-9.03151635498881,-9.104462575751555,-9.177435673652667,-9.250435607562544,-9.323462336336505,-9.396515818814748,-9.46959601382234,-9.542702880169351,-9.615836376650805,-9.688996462046717,-9.762183095122133,-9.83539623462707,-9.908635839296664,-9.981901867851136,-10.055194278995792,-10.1285130314211,-10.201858083802598,-10.275229394801102,-10.348626923062575,-10.422050627218212,-10.495500465884483,-10.568976397663043,-10.642478381140933,-10.716006374890469,-10.789560337469318,-10.863140227420516,-10.936746003272447,-11.01037762353895,-11.08403504671928,-11.15771823129814,-11.231427135745761,-11.30516171851778,-11.378921938055456,-11.452707752785557,-11.526519121120423,-11.600356001458024,-11.674218352181882,-11.748106131661238,-11.822019298250957,-11.89595781029162,-11.969921626109517,-12.043910704016639,-12.117925002310784,-12.19196447927552,-12.26602909318023,-12.34011880228013,-12.414233564816257,-12.488373339015567,-12.562538083090914,-12.636727755241061,-12.710942313650754,-12.785181716490655,-12.85944592191747,-12.933734888073921,-13.00804857308875,-13.08238693507682,-13.156749932139,-13.231137522362346,-13.305549663820024,-13.379986314571369,-13.454447432661922,-13.528932976123365,-13.603442902973683,-13.677977171217101,-13.75253573884411,-13.82711856383154,-13.90172560414247,-13.976356817726412,-14.051012162519228,-14.125691596443168,-14.200395077406938,-14.275122563305615,-14.34987401202082,-14.42464938142065,-14.499448629359705,-14.574271713679153,-14.649118592206676,-14.723989222756593,-14.79888356312982,-14.873801571113908,-14.948743204483101,-15.023708420998247,-15.098697178406972,-15.173709434443609,-15.248745146829265,-15.323804273271811,-15.398886771465897,-15.473992599093037,-15.549121713821592,-15.624274073306786,-15.699449635190767,-15.774648357102535,-15.849870196658124,-15.925115111460478,-16.000383059099562,-16.075673997152393,-16.15098788318293,-16.22632467474228,-16.30168432936862,-16.37706680458725,-16.45247205791061,-16.527900046838248,-16.603350728856952,-16.67882406144072,-16.75432000205076,-16.829838508135573,-16.905379537130862,-16.98094304645973,-17.056528993532545,-17.132137335747068,-17.207768030488438,-17.283421035129138,-17.359096307029134,-17.434793803535825,-17.51051348198409,-17.58625529969632,-17.662019213982354,-17.737805182139667,-17.813613161453254,-17.889443109195724,-17.965294982627313,-18.041168738995843,-18.11706433553686,-18.192981729473587,-18.26892087801695,-18.344881738365643,-18.420864267706065,-18.496868423212455,-18.572894162046836,-18.648941441359078,-18.725010218286933,-18.801100449955968,-18.877212093479713,-18.95334510595962,-19.029499444485097,-19.10567506613355,-19.181871927970313,-19.258089987048834,-19.334329200410586,-19.410589525085115,-19.486870918090084,-19.56317333643122,-19.63949673710247,-19.71584107708594,-19.79220631335191,-19.86859240285893,-19.944999302553718,-20.021426969371326,-20.09787536023508,-20.174344432056635,-20.250834141736,-20.327344446161497,-20.403875302209897,-20.480426666746375,-20.55699849662453,-20.633590748686466,-20.710203379762696,-20.78683634667233,-20.863489606222984,-20.94016311521083,-21.016856830420664,-21.09357070862582,-21.17030470658831,-21.24705878105884,-21.32383288877675,-21.400626986470122,-21.477441030855722,-21.55427497863913,-21.63112878651468,-21.70800241116551,-21.78489580926363,-21.86180893746981,-21.9387417524338,-22.01569421079421,-22.092666269178572,-22.16965788420341,-22.246669012474158,-22.3236996105853,-22.400749635120363,-22.477819042651866,-22.554907789741485,-22.632015832939885,-22.70914312878694,-22.786289633811656,-22.86345530453223,-22.940640097455983,-23.017843969079536,-23.09506687588872,-23.172308774358648,-23.24956962095375,-23.32684937212771,-23.40414798432362,-23.481465413973922,-23.558801617500457,-23.636156551314485,-23.71353017181668,-23.790922435397206,-23.868333298435736,-23.945762717301434,-24.023210648353043,-24.100677047938802,-24.178161872396593,-24.255665078053916,-24.33318662122789,-24.410726458225334,-24.48828454534268,-24.565860838866143,-24.64345529507166,-24.721067870224942,-24.798698520581414,-24.87634720238646,-24.954013871875137,-25.031698485272468,-25.109400998793358,-25.187121368642526,-25.264859551014794,-25.342615502094777,-25.42038917805717,-25.49818053506669,-25.57598952927797,-25.653816116835884,-25.731660253875223,-25.809521896520987,-25.887401000888286,-25.965297523082324,-26.043211419198627,-26.121142645322784,-26.1990911575307,-26.277056911888526,-26.355039864452635,-26.433039971269835,-26.51105718837712,-26.58909147180193,-26.667142777562074,-26.74521106166571,-26.823296280111542,-26.9013983888886,-26.97951734397647,-27.05765310134526,-27.135805616955516,-27.213974846758425,-27.292160746695718,-27.370363272699745,-27.4485823806935,-27.526818026590565,-27.605070166295256,-27.68333875570259,-27.761623750698295,-27.83992510715889,-27.9182427809516,-27.996576727934507,-28.07492690395652,-28.153293264857382,-28.23167576646776,-28.31007436460913,-28.38848901509397,-28.4669196737257,-28.545366296298702,-28.623828838598406,-28.702307256401173,-28.780801505474496,-28.859311541576933,-28.937837320458126,-29.016378797858874,-29.094935929511063,-29.173508671137824,-29.252096978453473,-29.330700807163524,-29.4093201129648,-29.487954851545318,-29.566604978584458,-29.645270449752925,-29.72395122071275,-29.802647247117374,-29.88135848461158,-29.960084888831638,-30.03882641540525,-30.117583019951578,-30.19635465808134,-30.275141285396682,-30.35394285749139,-30.432759329950795,-30.51159065835183,-30.590436798263084,-30.66929770524472,-30.74817333484865,-30.827063642618473,-30.905968584089504,-30.98488811478883,-31.063822190235264,-31.142770765939474,-31.22173379740394,-31.300711240122993,-31.379703049582854,-31.458709181261604,-31.53772959062929,-31.616764233147904,-31.69581306427142,-31.77487603944583,-31.853953114109082,-31.933044243691256,-32.012149383614485,-32.09126848929299,-32.17040151613318,-32.2495484195335,-32.328709154884685,-32.40788367756963,-32.48707194296345,-32.566273906433565,-32.64548952333959,-32.724718749033514,-32.803961538859625,-32.88321784815459,-32.96248763224743,-33.04177084645957,-33.12106744610489,-33.200377386489706,-33.27970062291281,-33.35903711066556,-33.43838680503173,-33.51774966128775,-33.59712563470259,-33.67651468053785,-33.75591675404776,-33.83533181047914,-33.91475980507158,-33.994200693057344,-34.07365442966143,-34.15312097010161,-34.232600269588374,-34.312092283325114,-34.39159696650799,-34.47111427432605,-34.550644161961245,-34.63018658458836,-34.709741497375184,-34.78930885548246,-34.868888614063884,-34.94848072826622,-35.028085153229185,-35.10770184408562,-35.18733075596143,-35.266971843975654,-35.34662506324045,-35.42629036886112,-35.50596771593618,-35.585657059557356,-35.66535835480961,-35.745071556771194,-35.82479662051357,-35.90453350110158,-35.98428215359342,-36.0640425330406,-36.14381459448807,-36.22359829297413,-36.30339358353058,-36.38320042118266,-36.46301876094911,-36.54284855784222,-36.62268976686774,-36.702542343025044,-36.7824062413071,-36.8622814167005,-36.94216782418546,-37.02206541873585,-37.101974155319255,-37.181893988897,-37.26182487442412,-37.34176676684949,-37.42171962111564,-37.50168339215906,-37.58165803491002,-37.6616435042927,-37.741639755225165,-37.82164674261935,-37.90166442138121,-37.98169274641066,-38.06173167260157,-38.14178115484191,-38.22184114801362,-38.30191160699276,-38.381992486649494,-38.46208374184809,-38.54218532744703,-38.62229719829885,-38.7024193092504,-38.78255161514272,-38.862694070811116,-38.942846631085175,-39.02300925078873,-39.10318188474002,-39.183364487751604,-39.26355701463043,-39.343759420177875,-39.42397165918969,-39.504193686456134,-39.58442545676192,-39.664666924886305,-39.74491804560307,-39.8251787736805,-39.90544906388152,-39.985728870963676,-40.06601814967911,-40.14631685477468,-40.22662494099184,-40.30694236306684,-40.38726907573062,-40.467605033708935,-40.54795019172229,-40.628304504485996,-40.70866792671022,-40.7890404131,-40.86942191835526,-40.94981239717087,-41.03021180423655,-41.11062009423709,-41.19103722185223,-41.271463141756726,-41.351897808620414,-41.43234117710813,-41.51279320187985,-41.593253837590694,-41.673723038890884,-41.75420076042587,-41.834686956836194,-41.91518158275773,-41.99568459282156,-42.07619594165404,-42.156715583876846,-42.23724347410692,-42.3177795669566,-42.39832381703363,-42.4788761789411,-42.559436607277576,-42.640005056637015,-42.72058148160891,-42.80116583677823,-42.8817580767255,-42.962358156026795,-43.042966029253726,-43.123581650973556,-43.20420497574918,-43.28483595813914,-43.36547455269769,-43.44612071397472,-43.52677439651593,-43.607435554862754,-43.6881041435524,-43.76878011711794,-43.849463430088186,-43.9301540369879,-44.0108518923377,-44.09155695065413,-44.172269166449695,-44.252988494232774,-44.33371488850784,-44.41444830377534,-44.49518869453176,-44.575936015269704,-44.65669022047777,-44.73745126464076,-44.818219102239595,-44.89899368775137,-44.979774975649406,-45.06056292040316,-45.14135747647841,-45.2221585983372,-45.30296624043786,-45.383780357235075,-45.4646009031798,-45.54542783271945,-45.6262611002978,-45.70710066035509,-45.78794646732799,-45.86879847564961,-45.94965663974962,-46.03052091405421,-46.11139125298611,-46.19226761096468,-46.27314994240578,-46.354038201722005,-46.434932343322586,-46.51583232161341,-46.59673809099713,-46.677649605873036,-46.75856682063728,-46.83948968968274,-46.92041816739916,-47.00135220817309,-47.08229176638791,-47.16323679642395,-47.244187252658435,-47.32514308946553,-47.40610426121637,-47.487070722279064,-47.56804242701877,-47.64901932979765,-47.730001384975,-47.81098854690718,-47.891980769947615,-47.972978008446965,-48.05398021675302,-48.13498734921077,-48.21599936016246,-48.29701620394752,-48.37803783490273,-48.45906420736211,-48.54009527565706,-48.62113099411633,-48.70217131706596,-48.78321619882952,-48.86426559372793,-48.945319456079595,-49.026377740200424,-49.10744040040376,-49.18850739100055,-49.26957866629927,-49.35065418060599,-49.431733888224414,-49.51281774345582,-49.59390570059919,-49.6749977139512,-49.756093737806225,-49.83719372645641,-49.918297634191596,-49.99940541529948,-50.08051702406554,-50.16163241477312,-50.24275154170346,-50.323874359135594,-50.40500082134656,-50.486130882611334,-50.56726449720284,-50.64840161939205,-50.72954220344784,-50.81068620363727,-50.891833574225416,-50.9729842694754,-51.054138243648616,-51.13529545100445,-51.21645584580057,-51.297619382292815,-51.3787860147352,-51.459955697380124,-51.54112838447814,-51.622304030278165,-51.70348258902747,-51.78466401497159,-51.86584826235459,-51.9470352854188,-52.02822503840507,-52.10941747555272,-52.19061255109945,-52.27181021928165,-52.353010434334074,-52.43421315049014,-52.51541832198186,-52.59662590303976,-52.67783584789317,-52.759048110769946,-52.8402626458967,-52.92147940749878,-53.00269834980019,-53.08391942702386,-53.165142593391344,-53.24636780312314,-53.32759501043857,-53.40882416955574,-53.49005523469183,-53.57128816006277,-53.65252289988355,-53.733759408368115,-53.81499763972934,-53.89623754817929,-53.97747908792891,-54.058722213188325,-54.13996687816677,-54.22121303707251,-54.30246064411314,-54.38370965349528,-54.46496001942483,-54.54621169610696,-54.627464637745966,-54.70871879854563,-54.78997413270888,-54.87123059443804,-54.95248813793485,-55.03374671740031,-55.115006287035015,-55.19626680103883,-55.27752821361119,-55.35879047895102,-55.440053551256675,-55.5213173847262,-55.602581933557076,-55.68384715194645,-55.76511299409111,-55.84637941418739,-55.92764636643145,-56.008913805019006,-56.09018168414559,-56.171449958006484,-56.25271858079664,-56.333987506711004,-56.41525668994416,-56.49652608469065,-56.57779564514491,-56.65906532550118,-56.74033507995379,-56.821604862696866,-56.90287462792462,-56.98414432983126,-57.06541392261096,-57.14668336045809,-57.22795259756697,-57.309221588132104,-57.39049028634815,-57.47175864640983,-57.55302662251223,-57.634294168850474,-57.71556123962003,-57.79682778901664,-57.87809377123623,-57.95935914047523,-58.04062385093023,-58.12188785679831,-58.20315111227692,-58.28441357156385,-58.36567518885752,-58.44693591835664,-58.528195714260505,-58.60945453076897,-58.69071232208232,-58.771969042401594,-58.85322464592826,-58.93447908686453,-59.015732319413246,-59.09698429777785,-59.17823497616266,-59.259484308772564,-59.34073224981328,-59.42197875349133,-59.503223774013954,-59.58446726558938,-59.66570918242654,-59.74694947873535,-59.828188108726636,-59.90942502661207,-59.990660186604444,-60.0718935429174,-60.15312504976566,-60.234354661365025,-60.31558233193223,-60.396808015685295,-60.478031666843194,-60.55925323962612,-60.64047268825547,-60.72168996695372,-60.80290502994474,-60.88411783145348,-60.96532832570627,-61.046536466930725,-61.12774220935571,-61.208945507211595,-61.29014631472997,-61.3713445861439,-61.452540275687916,-61.53373333759789,-61.614923726111336,-61.69611139546711,-61.777296299905714,-61.858478393669195,-61.939657631001076,-62.020833966146675,-62.10200735335278,-62.18317774686792,-62.26434510094233,-62.345509369827845,-62.42667050777822,-62.5078284690488,-62.58898320789682,-62.67013467858132,-62.751282835363114,-62.832427632505016,-62.91356902427159,-62.99470696492941,-63.07584140874698,-63.156972309994735,-63.23809962294515,-63.319223301872704,-63.40034330105394,-63.48145957476748,-63.56257207729398,-63.643680762916304,-63.72478558591942,-63.8058865005905,-63.886983461218925,-63.96807642209624,-64.0491653375163,-64.13025016177525,-64.21133084917152,-64.29240735400589,-64.37347963058141,-64.45454763320366,-64.5356113161805,-64.61667063382231,-64.6977255404419,-64.77877599035453,-64.85982193787802,-64.94086333733273,-65.02190014304153,-65.10293230932999,-65.18395979052613,-65.26498254096074,-65.34600051496724,-65.42701366688175,-65.50802195104309,-65.58902532179282,-65.67002373347528,-65.75101714043761,-65.83200549702977,-65.9129887576046,-65.99396687651769,-66.07493980812768,-66.15590750679603,-66.23686992688721,-66.31782702276865,-66.39877874881076,-66.47972505938695,-66.56066590887377,-66.6416012516508,-66.72253104210071,-66.8034552346093,-66.88437378356554,-66.9652866433616,-67.0461937683928,-67.12709511305778,-67.20799063175832,-67.2888802788996,-67.36976400889003,-67.4506417761414,-67.53151353506885,-67.61237924009086,-67.69323884562941,-67.77409230610984,-67.85493957596098,-67.93578060961521,-68.01661536150829,-68.09744378607962,-68.17826583777219,-68.25908147103249,-68.3398906403107,-68.42069330006059,-68.50148940473966,-68.58227890880903,-68.66306176673362,-68.74383793298206,-68.82460736202671,-68.9053700083438,-68.98612582641333,-69.06687477071917,-69.14761679574909,-69.22835185599469,-69.30907990595155,-69.3898009001192,-69.47051479300113,-69.55122153910486,-69.63192109294187,-69.71261340902777,-69.7932984418822,-69.87397614602894,-69.95464647599592,-70.0353093863151,-70.11596483152279,-70.19661276615943,-70.27725314476962,-70.35788592190238,-70.43851105211087,-70.51912848995265,-70.59973818998958,-70.68034010678782,-70.7609341949181,-70.84152040895533,-70.92209870347904,-71.00266903307313,-71.08323135232598,-71.1637856158306,-71.2443317781844,-71.32486979398944,-71.40539961785234,-71.48592120438428,-71.56643450820128,-71.64693948392379,-71.7274360861771,-71.80792426959118,-71.88840398880069,-71.9688751984452,-72.04933785316894,-72.12979190762101,-72.2102373164554,-72.29067403433086,-72.37110201591119,-72.451521215865,-72.53193158886586,-72.6123330895924,-72.6927256727281,-72.77310929296166,-72.85348390498666,-72.93384946350184,-73.01420592321108,-73.09455323882321,-73.17489136505249,-73.25522025661812,-73.3355398682446,-73.4158501546617,-73.49615107060433,-73.57644257081284,-73.65672461003273,-73.73699714301493,-73.81726012451571,-73.89751350929667,-73.97775725212493,-74.05799130777292,-74.13821563101861,-74.21843017664544,-74.2986348994423,-74.37882975420378,-74.4590146957298,-74.53918967882606,-74.61935465830382,-74.69950958897986,-74.77965442567684,-74.85978912322292,-74.93991363645208,-75.020027920204,-75.10013192932409,-75.18022561866368,-75.26030894307978,-75.34038185743529,-75.42044431659902,-75.50049627544554,-75.58053768885556,-75.66056851171551,-75.74058869891792,-75.82059820536128,-75.90059698595007,-75.9805849955949,-76.06056218921233,-76.14052852172513,-76.22048394806214,-76.3004284231583,-76.38036190195484,-76.46028433939908,-76.5401956904446,-76.62009591005128,-76.69998495318512,-76.77986277481865,-76.85972932993053,-76.93958457350585,-77.01942846053609,-77.09926094601904,-77.17908198495908,-77.25889153236687,-77.33868954325965,-77.41847597266113,-77.49825077560152,-77.57801390711768,-77.65776532225291,-77.73750497605724,-77.81723282358728,-77.89694881990621,-77.97665292008406,-78.05634507919744],\"y\":[0.0,-0.042609556594527476,-0.08516714617836385,-0.1276727447649506,-0.17012632839696096,-0.21252787314642774,-0.2548773551147292,-0.2971747504325606,-0.3394200352600052,-0.3816131857864349,-0.42375417823069483,-0.46584298884101827,-0.5078795938950122,-0.5498639696997287,-0.5917960925916361,-0.6336759389367046,-0.6755034851303066,-0.7172787075973446,-0.7590015827921803,-0.8006720871986772,-0.842290197330243,-0.8838558897298014,-0.9253691409697922,-0.9668299276522987,-1.0082382264088494,-1.0495940139006734,-1.0908972668185157,-1.1321479618827652,-1.1733460758434688,-1.2144915854802179,-1.2555844676023185,-1.296624699048749,-1.337612256688118,-1.3785471174187762,-1.4194292581687051,-1.4602586558956574,-1.5010352875871007,-1.541759130260246,-1.5824301609620335,-1.623048356769175,-1.6636136947881965,-1.7041261521553963,-1.7445857060368297,-1.7849923336284803,-1.8253460121560323,-1.8656467188751122,-1.905894431071161,-1.9460891260594906,-1.9862307811853128,-2.0263193738236964,-2.066354881379638,-2.1063372812880914,-2.1462665510138947,-2.186142668051829,-2.225965609926675,-2.265735354193154,-2.3054518784359885,-2.345115160269856,-2.3847251773395044,-2.424281907319653,-2.463785327915076,-2.5032354168605906,-2.5426321519210973,-2.5819755108915246,-2.6212654715969137,-2.6605020118923903,-2.699685109663193,-2.7388147428246725,-2.7778908893223644,-2.8169135271318737,-2.855882634259004,-2.894798188739742,-2.9336601686402446,-2.972468552056853,-3.0112233171161336,-3.049924441974852,-3.0885719048200286,-3.1271656838689523,-3.1657057573690963,-3.204192103598274,-3.2426247008645674,-3.2810035275063,-3.3193285618921777,-3.3575997824211754,-3.39581716752258,-3.4339806956561176,-3.47209034531177,-3.5101460950099295,-3.5481479233013573,-3.5860958087672117,-3.6239897300190336,-3.661829665698832,-3.6996155944790132,-3.73734749506238,-3.7750253461822467,-3.8126491266023805,-3.850218815117003,-3.887734390550861,-3.9251958317591544,-3.9626031176276086,-3.999956227072488,-4.03725513904061,-4.074499832509275,-4.111690286486393,-4.148826480010442,-4.185908392150452,-4.222936002006094,-4.259909288707618,-4.296828231415873,-4.333692809322372,-4.370503001649254,-4.407258787649312,-4.443960146606003,-4.480607057833481,-4.51719950067654,-4.553737454510724,-4.5902208987422455,-4.626649812808111,-4.663024176175966,-4.699343968344266,-4.735609168842203,-4.771819757229736,-4.8079757130976475,-4.8440770160674305,-4.880123645791457,-4.916115581952866,-4.952052804265676,-4.987935292474688,-5.023763026355553,-5.059535985714845,-5.095254150389948,-5.130917500249154,-5.16652601519165,-5.202079675147544,-5.237578460077813,-5.273022349974411,-5.308411324860231,-5.343745364789086,-5.379024449845758,-5.414248560146035,-5.449417675836656,-5.484531777095398,-5.519590844130988,-5.554594857183204,-5.589543796522847,-5.624437642451781,-5.659276375302895,-5.694059975440169,-5.728788423258592,-5.763461699184319,-5.798079783674567,-5.832642657217633,-5.867150300333009,-5.901602693571235,-5.935999817514016,-5.970341652774238,-6.004628179995905,-6.0388593798542445,-6.073035233055606,-6.1071557203375875,-6.141220822468981,-6.175230520249755,-6.209184794511174,-6.243083626115677,-6.276926995956998,-6.310714884960078,-6.344447274081219,-6.37812414430789,-6.41174547665895,-6.4453112521844815,-6.478821451965956,-6.512276057116097,-6.545675048779032,-6.579018408130182,-6.612306116376331,-6.645538154755641,-6.678714504537666,-6.711835147023322,-6.744900063544932,-6.777909235466211,-6.810862644182336,-6.843760271119876,-6.876602097736864,-6.909388105522737,-6.942118275998453,-6.974792590716419,-7.007411031260503,-7.0399735792460945,-7.0724802163200735,-7.104930924160811,-7.137325684478242,-7.169664479013818,-7.201947289540556,-7.234174097862947,-7.266344885817119,-7.298459635270788,-7.3305183281231905,-7.362520946305239,-7.39446747177935,-7.426357886539648,-7.458192172611817,-7.489970312053217,-7.52169228695287,-7.553358079431376,-7.584967671641081,-7.61652104576595,-7.648018184021694,-7.67945906865566,-7.710843681946955,-7.7421720062063315,-7.773444023776335,-7.804659717031228,-7.83581906837702,-7.866922060251454,-7.897968675124048,-7.928958895496109,-7.959892703900735,-7.990770082902813,-8.021591015098977,-8.052355483117779,-8.083063469619532,-8.113714957296395,-8.144309928872389,-8.174848367103323,-8.205330254776953,-8.235755574712883,-8.266124309762588,-8.296436442809423,-8.326691956768656,-8.356890834587489,-8.387033059245041,-8.417118613752322,-8.447147481152356,-8.477119644520016,-8.507035086962219,-8.536893791617814,-8.566695741657654,-8.596440920284579,-8.626129310733361,-8.655760896270877,-8.68533566019596,-8.714853585839492,-8.744314656564384,-8.77371885576558,-8.803066166870082,-8.83235657333698,-8.861590058657413,-8.890766606354632,-8.919886199983921,-8.948948823132696,-8.97795445942053,-9.006903092499044,-9.035794706052016,-9.06462928379537,-9.093406809477173,-9.12212726687764,-9.15079063980916,-9.179396912116275,-9.20794606767575,-9.23643809039649,-9.264872964219663,-9.293250673118592,-9.321571201098877,-9.349834532198273,-9.378040650486824,-9.406189540066833,-9.43428118507282,-9.462315569671574,-9.490292678062161,-9.518212494475975,-9.54607500317664,-9.573880188460095,-9.601628034654624,-9.629318526120755,-9.656951647251432,-9.68452738247187,-9.712045716239658,-9.73950663304474,-9.766910117409381,-9.79425615388827,-9.821544727068442,-9.848775821569333,-9.87594942204278,-9.903065513173004,-9.930124079676645,-9.957125106302797,-9.984068577832943,-10.010954479081036,-10.03778279489346,-10.064553510149068,-10.091266609759145,-10.117922078667505,-10.14451990185043,-10.171060064316634,-10.197542551107375,-10.223967347296451,-10.250334437990134,-10.276643808327222,-10.302895443479045,-10.329089328649488,-10.355225449074965,-10.38130379002449,-10.407324336799618,-10.433287074734437,-10.45919198919566,-10.485039065582626,-10.510828289327193,-10.536559645893902,-10.562233120779851,-10.587848699514794,-10.6134063676611,-10.638906110813792,-10.664347914600526,-10.689731764681639,-10.715057646750097,-10.740325546531565,-10.765535449784394,-10.790687342299591,-10.815781209900905,-10.84081703844474,-10.86579481382023,-10.890714521949263,-10.9155761487864,-10.940379680318955,-10.965125102567043,-10.98981240158345,-11.014441563453772,-11.03901257429635,-11.063525420262295,-11.087980087535527,-11.112376562332727,-11.13671483090343,-11.160994879529909,-11.18521669452727,-11.20938026224347,-11.233485569059297,-11.25753260138832,-11.281521345677021,-11.305451788404682,-11.329323916083482,-11.353137715258427,-11.376893172507451,-11.400590274441356,-11.4242290077038,-11.447809358971355,-11.471331314953531,-11.494794862392709,-11.518199988064225,-11.541546678776314,-11.564834921370164,-11.58806470271989,-11.611236009732565,-11.63434882934824,-11.657403148539899,-11.680398954313546,-11.703336233708086,-11.726214973795464,-11.749035161680652,-11.771796784501547,-11.7944998294291,-11.817144283667261,-11.839730134453006,-11.862257369056394,-11.884725974780437,-11.907135938961233,-11.92948724896793,-11.951779892202723,-11.97401385610091,-11.996189128130823,-12.01830569579387,-12.040363546624604,-12.062362668190602,-12.084303048092565,-12.106184673964336,-12.12800753347284,-12.149771614318126,-12.171476904233359,-12.193123390984908,-12.214711062372174,-12.236239906227823,-12.257709910417603,-12.279121062840446,-12.300473351428437,-12.3217667641469,-12.343001288994273,-12.364176914002215,-12.385293627235583,-12.406351416792418,-12.427350270804013,-12.448290177434842,-12.469171124882607,-12.489993101378275,-12.510756095185982,-12.531460094603204,-12.55210508796057,-12.572691063622045,-12.593218009984795,-12.613685915479309,-12.634094768569312,-12.65444455775183,-12.67473527155721,-12.694966898549026,-12.715139427324203,-12.735252846512978,-12.755307144778897,-12.775302310818802,-12.795238333362903,-12.815115201174706,-12.834932903051097,-12.854691427822274,-12.87439076435183,-12.894030901536667,-12.913611828307097,-12.933133533626773,-12.952596006492769,-12.971999235935485,-12.991343211018759,-13.01062792083981,-13.029853354529251,-13.049019501251138,-13.068126350202903,-13.087173890615418,-13.10616211175298,-13.125091002913308,-13.143960553427604,-13.162770752660478,-13.181521590009993,-13.200213054907664,-13.218845136818516,-13.237417825240968,-13.255931109707006,-13.274384979782013,-13.292779425064907,-13.311114435188102,-13.329389999817465,-13.347606108652428,-13.365762751425905,-13.383859917904317,-13.401897597887611,-13.4198757812093,-13.437794457736373,-13.455653617369407,-13.473453250042468,-13.491193345723246,-13.508873894412929,-13.52649488614631,-13.544056310991692,-13.561558159051032,-13.579000420459778,-13.596383085387032,-13.613706144035476,-13.630969586641328,-13.648173403474487,-13.665317584838405,-13.682402121070169,-13.699427002540489,-13.716392219653684,-13.733297762847698,-13.75014362259411,-13.766929789398162,-13.78365625379871,-13.800323006368274,-13.816930037713036,-13.833477338472832,-13.849964899321137,-13.866392710965158,-13.882760764145715,-13.899069049637347,-13.915317558248262,-13.931506280820372,-13.947635208229315,-13.963704331384335,-13.9797136412285,-13.995663128738485,-14.011552784924774,-14.02738260083153,-14.043152567536623,-14.058862676151705,-14.074512917822119,-14.09010328372699,-14.105633765079148,-14.121104353125219,-14.136515039145578,-14.151865814454311,-14.167156670399365,-14.182387598362368,-14.197558589758756,-14.212669636037788,-14.227720728682456,-14.242711859209564,-14.257643019169706,-14.272514200147285,-14.287325393760526,-14.302076591661418,-14.316767785535802,-14.33139896710334,-14.345970128117486,-14.36048126036556,-14.374932355668705,-14.389323405881896,-14.403654402893935,-14.417925338627526,-14.432136205039157,-14.44628699411922,-14.460377697891943,-14.47440830841542,-14.488378817781665,-14.502289218116502,-14.516139501579644,-14.529929660364715,-14.543659686699229,-14.557329572844552,-14.570939311095984,-14.58448889378272,-14.59797831326783,-14.611407561948354,-14.624776632255177,-14.638085516653149,-14.651334207641028,-14.66452269775148,-14.67765097955116,-14.690719045640577,-14.70372688865426,-14.716674501260584,-14.729561876161995,-14.742389006094797,-14.75515588382926,-14.767862502169649,-14.780508853954174,-14.793094932055013,-14.805620729378333,-14.818086238864225,-14.830491453486815,-14.842836366254204,-14.855120970208446,-14.867345258425644,-14.87950922401582,-14.891612860123075,-14.903656159925461,-14.915639116635063,-14.927561723497945,-14.939423973794234,-14.951225860838036,-14.962967377977492,-14.974648518594776,-14.986269276106086,-14.997829643961651,-15.009329615645726,-15.020769184676638,-15.032148344606739,-15.043467089022428,-15.054725411544155,-15.065923305826445,-15.077060765557832,-15.088137784460983,-15.099154356292587,-15.110110474843395,-15.121006133938252,-15.131841327436078,-15.142616049229872,-15.15333029324671,-15.163984053447749,-15.17457732382826,-15.185110098417596,-15.195582371279187,-15.205994136510597,-15.216345388243468,-15.226636120643562,-15.236866327910747,-15.24703600427901,-15.257145144016448,-15.267193741425274,-15.277181790841823,-15.287109286636579,-15.296976223214145,-15.30678259501326,-15.316528396506754,-15.326213622201664,-15.33583826663913,-15.345402324394442,-15.354905790077055,-15.364348658330542,-15.373730923832667,-15.383052581295345,-15.39231362546461,-15.401514051120714,-15.410653853078045,-15.419733026185156,-15.428751565324802,-15.437709465413874,-15.446606721403498,-15.455443328278903,-15.464219281059542,-15.472934574799098,-15.481589204585347,-15.49018316554033,-15.498716452820275,-15.507189061615577,-15.515600987150862,-15.523952224684919,-15.532242769510788,-15.540472616955697,-15.54864176238108,-15.556750201182581,-15.564797928790085,-15.572784940667674,-15.580711232313632,-15.588576799260522,-15.596381637075083,-15.604125741358303,-15.611809107745387,-15.619431731905806,-15.626993609543248,-15.63449473639561,-15.641935108235089,-15.649314720868063,-15.656633570135199,-15.663891651911399,-15.671088962105827,-15.678225496661852,-15.685301251557178,-15.692316222803683,-15.699270406447567,-15.70616379856925,-15.71299639528344,-15.719768192739096,-15.72647918711948,-15.733129374642061,-15.739718751558627,-15.74624731415524,-15.75271505875223,-15.759121981704183,-15.765468079399994,-15.771753348262834,-15.777977784750178,-15.784141385353735,-15.790244146599562,-15.796286065047966,-15.802267137293569,-15.80818735996526,-15.814046729726272,-15.819845243274102,-15.825582897340524,-15.831259688691674,-15.836875614127948,-15.842430670484063,-15.847924854629056,-15.853358163466226,-15.858730593933231,-15.864042143002038,-15.869292807678903,-15.87448258500443,-15.879611472053497,-15.884679465935335,-15.889686563793475,-15.894632762805813,-15.899518060184533,-15.904342453176127,-15.909105939061462,-15.913808515155694,-15.918450178808342,-15.923030927403232,-15.927550758358521,-15.932009669126742,-15.936407657194692,-15.940744720083586,-15.945020855348915,-15.949236060580546,-15.95339033340268,-15.957483671473852,-15.961516072486944,-15.965487534169199,-15.969398054282195,-15.973247630621842,-15.977036261018426,-15.98076394333657,-15.984430675475252,-15.988036455367833,-15.991581280981961,-15.99506515031969,-15.998488061417419,-16.001850012345912,-16.00515100121028,-16.00839102614998,-16.011570085338874,-16.014688176985146,-16.017745299331352,-16.02074145065444,-16.023676629265665,-16.02655083351071,-16.02936406176957,-16.032116312456665,-16.034807584020726,-16.037437874944914,-16.040007183746695,-16.042515508977942,-16.044962849224902,-16.047349203108197,-16.049674569282814,-16.0519389464381,-16.054142333297804,-16.056284728620028,-16.05836613119726,-16.06038653985638,-16.06234595345863,-16.064244370899615,-16.06608179110937,-16.067858213052233,-16.069573635726996,-16.07122805816678,-16.072821479439142,-16.07435389864594,-16.075825314923506,-16.07723572744247,-16.07858513540792,-16.079873538059275,-16.081100934670374,-16.082267324549406,-16.083372707038976,-16.08441708151605,-16.08540044739199,-16.086322804112555,-16.087184151157857,-16.087984488042466,-16.088723814315244,-16.08940212955949,-16.09001943339291,-16.090575725467573,-16.091071005469928,-16.09150527312083,-16.0918785281755,-16.09219077042357,-16.092441999689058,-16.09263221583035,-16.09276141874024,-16.092829608345937,-16.09283678460895,-16.092782947525265,-16.09266809712524,-16.092492233473592,-16.09225535666944,-16.09195746684631,-16.09159856417206,-16.091178648849024,-16.09069772111387,-16.090155781237627,-16.089552829525786,-16.088888866318158,-16.088163891988998,-16.087377906946898,-16.08653091163488,-16.085622906530304,-16.08465389214497,-16.083623869025033,-16.082532837751046,-16.081380798937943,-16.08016775323503,-16.078893701326024,-16.07755864392901,-16.076162581796467,-16.074705515715266,-16.07318744650661,-16.07160837502616,-16.069968302163915,-16.06826722884425,-16.06650515602594,-16.06468208470214,-16.062798015900384,-16.060852950682587,-16.05884689014502,-16.056779835418368,-16.05465178766768,-16.052462748092367,-16.050212717926257,-16.0479016984375,-16.045529690928646,-16.04309669673664,-16.040602717232773,-16.038047753822724,-16.035431807946537,-16.03275488107863,-16.030016974727786,-16.02721809043716,-16.02435822978427,-16.021437394381024,-16.018455585873696,-16.015412805942873,-16.012309056303593,-16.00914433870517,-16.005918654931364,-16.002632006800226,-15.9992843961642,-15.995875824910087,-15.992406294959068,-15.98887580826667,-15.98528436682274,-15.981631972651499,-15.97791862781159,-15.974144334395902,-15.970309094531743,-15.966412910380768,-15.962455784138953,-15.958437718036649,-15.954358714338554,-15.950218775343686,-15.946017903385425,-15.941756100831512,-15.937433370083994,-15.933049713579294,-15.928605133788139,-15.924099633215633,-15.91953321440117,-15.914905879918535,-15.910217632375804,-15.9054684744154,-15.900658408714051,-15.89578743798289,-15.890855564967282,-15.885862792446972,-15.88080912323602,-15.875694560182836,-15.870519106170079,-15.865282764114795,-15.859985536968338,-15.854627427716352,-15.849208439378813,-15.84372857500999,-15.838187837698513,-15.832586230567273,-15.826923756773482,-15.82120041950867,-15.81541622199866,-15.809571167503563,-15.803665259317839,-15.797698500770181,-15.791670895223632,-15.785582446075523,-15.779433156757449,-15.77322303073531,-15.766952071509323,-15.760620282613928,-15.754227667617926,-15.74777423012435,-15.741259973770525,-15.734684902228082,-15.728049019202885,-15.721352328435088,-15.714594833699152,-15.707776538803756,-15.700897447591885,-15.693957563940785,-15.686956891761938,-15.679895435001129,-15.672773197638364,-15.665590183687954,-15.658346397198414,-15.651041842252553,-15.643676522967397,-15.63625044349422,-15.628763608018616,-15.621216020760315,-15.61360768597335,-15.605938607945987,-15.598208791000715,-15.59041823949427,-15.582566957817619,-15.574654950395953,-15.56668222168868,-15.558648776189443,-15.55055461842612,-15.54239975296079,-15.534184184389744,-15.525907917343503,-15.517570956486779,-15.50917330651852,-15.500714972171878,-15.492195958214168,-15.48361626944694,-15.474975910705936,-15.4662748868611,-15.457513202816557,-15.448690863510635,-15.439807873915825,-15.430864239038812,-15.421859963920497,-15.41279505363589,-15.403669513294247,-15.39448334803896,-15.38523656304757,-15.375929163531865,-15.366561154737681,-15.357132541945134,-15.3476433304684,-15.338093525655864,-15.328483132890057,-15.318812157587658,-15.309080605199469,-15.299288481210468,-15.289435791139752,-15.279522540540555,-15.269548735000257,-15.25951438014036,-15.24941948161647,-15.23926404511839,-15.229048076369935,-15.218771581129161,-15.208434565188114,-15.198037034373058,-15.187578994544296,-15.177060451596276,-15.166481411457497,-15.155841880090605,-15.145141863492356,-15.134381367693507,-15.123560398758983,-15.112678962787797,-15.101737065912971,-15.090734714301703,-15.07967191415517,-15.068548671708669,-15.057364993231559,-15.046120885027264,-15.034816353433271,-15.023451404821074,-15.012026045596329,-15.000540282198614,-14.988994121101626,-14.977387568813128,-14.965720631874817,-14.953993316862551,-14.942205630386113,-14.930357579089375,-14.91844916965023,-14.906480408780538,-14.894451303226248,-14.882361859767258,-14.870212085217517,-14.858001986424966,-14.845731570271525,-14.833400843673147,-14.821009813579735,-14.808558486975215,-14.79604687087749,-14.783474972338439,-14.770842798443923,-14.758150356313763,-14.745397653101762,-14.732584695995683,-14.719711492217257,-14.706778049022162,-14.693784373700026,-14.680730473574428,-14.667616356002895,-14.654442028376906,-14.641207498121858,-14.627912772697073,-14.614557859595834,-14.601142766345305,-14.587667500506612,-14.574132069674747,-14.560536481478664,-14.546880743581184,-14.533164863679048,-14.519388849502903,-14.505552708817262,-14.49165644942056,-14.477700079145066,-14.463683605857014,-14.449607037456403,-14.43547038187721,-14.421273647087219,-14.407016841088065,-14.392699971915306,-14.378323047638261,-14.363886076360203,-14.349389066218151,-14.334832025383022,-14.320214962059538,-14.305537884486284,-14.290800800935656,-14.276003719713856,-14.26114664916092,-14.246229597650682,-14.23125257359078,-14.216215585422674,-14.201118641621633,-14.185961750696677,-14.170744921190632,-14.155468161680105,-14.140131480775494,-14.124734887120951,-14.109278389394433,-14.093761996307606,-14.07818571660593,-14.062549559068614,-14.04685353250862,-14.031097645772647,-14.015281907741127,-13.999406327328202,-13.983470913481838]}],                        {\"template\":{\"data\":{\"barpolar\":[{\"marker\":{\"line\":{\"color\":\"#E5ECF6\",\"width\":0.5},\"pattern\":{\"fillmode\":\"overlay\",\"size\":10,\"solidity\":0.2}},\"type\":\"barpolar\"}],\"bar\":[{\"error_x\":{\"color\":\"#2a3f5f\"},\"error_y\":{\"color\":\"#2a3f5f\"},\"marker\":{\"line\":{\"color\":\"#E5ECF6\",\"width\":0.5},\"pattern\":{\"fillmode\":\"overlay\",\"size\":10,\"solidity\":0.2}},\"type\":\"bar\"}],\"carpet\":[{\"aaxis\":{\"endlinecolor\":\"#2a3f5f\",\"gridcolor\":\"white\",\"linecolor\":\"white\",\"minorgridcolor\":\"white\",\"startlinecolor\":\"#2a3f5f\"},\"baxis\":{\"endlinecolor\":\"#2a3f5f\",\"gridcolor\":\"white\",\"linecolor\":\"white\",\"minorgridcolor\":\"white\",\"startlinecolor\":\"#2a3f5f\"},\"type\":\"carpet\"}],\"choropleth\":[{\"colorbar\":{\"outlinewidth\":0,\"ticks\":\"\"},\"type\":\"choropleth\"}],\"contourcarpet\":[{\"colorbar\":{\"outlinewidth\":0,\"ticks\":\"\"},\"type\":\"contourcarpet\"}],\"contour\":[{\"colorbar\":{\"outlinewidth\":0,\"ticks\":\"\"},\"colorscale\":[[0.0,\"#0d0887\"],[0.1111111111111111,\"#46039f\"],[0.2222222222222222,\"#7201a8\"],[0.3333333333333333,\"#9c179e\"],[0.4444444444444444,\"#bd3786\"],[0.5555555555555556,\"#d8576b\"],[0.6666666666666666,\"#ed7953\"],[0.7777777777777778,\"#fb9f3a\"],[0.8888888888888888,\"#fdca26\"],[1.0,\"#f0f921\"]],\"type\":\"contour\"}],\"heatmapgl\":[{\"colorbar\":{\"outlinewidth\":0,\"ticks\":\"\"},\"colorscale\":[[0.0,\"#0d0887\"],[0.1111111111111111,\"#46039f\"],[0.2222222222222222,\"#7201a8\"],[0.3333333333333333,\"#9c179e\"],[0.4444444444444444,\"#bd3786\"],[0.5555555555555556,\"#d8576b\"],[0.6666666666666666,\"#ed7953\"],[0.7777777777777778,\"#fb9f3a\"],[0.8888888888888888,\"#fdca26\"],[1.0,\"#f0f921\"]],\"type\":\"heatmapgl\"}],\"heatmap\":[{\"colorbar\":{\"outlinewidth\":0,\"ticks\":\"\"},\"colorscale\":[[0.0,\"#0d0887\"],[0.1111111111111111,\"#46039f\"],[0.2222222222222222,\"#7201a8\"],[0.3333333333333333,\"#9c179e\"],[0.4444444444444444,\"#bd3786\"],[0.5555555555555556,\"#d8576b\"],[0.6666666666666666,\"#ed7953\"],[0.7777777777777778,\"#fb9f3a\"],[0.8888888888888888,\"#fdca26\"],[1.0,\"#f0f921\"]],\"type\":\"heatmap\"}],\"histogram2dcontour\":[{\"colorbar\":{\"outlinewidth\":0,\"ticks\":\"\"},\"colorscale\":[[0.0,\"#0d0887\"],[0.1111111111111111,\"#46039f\"],[0.2222222222222222,\"#7201a8\"],[0.3333333333333333,\"#9c179e\"],[0.4444444444444444,\"#bd3786\"],[0.5555555555555556,\"#d8576b\"],[0.6666666666666666,\"#ed7953\"],[0.7777777777777778,\"#fb9f3a\"],[0.8888888888888888,\"#fdca26\"],[1.0,\"#f0f921\"]],\"type\":\"histogram2dcontour\"}],\"histogram2d\":[{\"colorbar\":{\"outlinewidth\":0,\"ticks\":\"\"},\"colorscale\":[[0.0,\"#0d0887\"],[0.1111111111111111,\"#46039f\"],[0.2222222222222222,\"#7201a8\"],[0.3333333333333333,\"#9c179e\"],[0.4444444444444444,\"#bd3786\"],[0.5555555555555556,\"#d8576b\"],[0.6666666666666666,\"#ed7953\"],[0.7777777777777778,\"#fb9f3a\"],[0.8888888888888888,\"#fdca26\"],[1.0,\"#f0f921\"]],\"type\":\"histogram2d\"}],\"histogram\":[{\"marker\":{\"pattern\":{\"fillmode\":\"overlay\",\"size\":10,\"solidity\":0.2}},\"type\":\"histogram\"}],\"mesh3d\":[{\"colorbar\":{\"outlinewidth\":0,\"ticks\":\"\"},\"type\":\"mesh3d\"}],\"parcoords\":[{\"line\":{\"colorbar\":{\"outlinewidth\":0,\"ticks\":\"\"}},\"type\":\"parcoords\"}],\"pie\":[{\"automargin\":true,\"type\":\"pie\"}],\"scatter3d\":[{\"line\":{\"colorbar\":{\"outlinewidth\":0,\"ticks\":\"\"}},\"marker\":{\"colorbar\":{\"outlinewidth\":0,\"ticks\":\"\"}},\"type\":\"scatter3d\"}],\"scattercarpet\":[{\"marker\":{\"colorbar\":{\"outlinewidth\":0,\"ticks\":\"\"}},\"type\":\"scattercarpet\"}],\"scattergeo\":[{\"marker\":{\"colorbar\":{\"outlinewidth\":0,\"ticks\":\"\"}},\"type\":\"scattergeo\"}],\"scattergl\":[{\"marker\":{\"colorbar\":{\"outlinewidth\":0,\"ticks\":\"\"}},\"type\":\"scattergl\"}],\"scattermapbox\":[{\"marker\":{\"colorbar\":{\"outlinewidth\":0,\"ticks\":\"\"}},\"type\":\"scattermapbox\"}],\"scatterpolargl\":[{\"marker\":{\"colorbar\":{\"outlinewidth\":0,\"ticks\":\"\"}},\"type\":\"scatterpolargl\"}],\"scatterpolar\":[{\"marker\":{\"colorbar\":{\"outlinewidth\":0,\"ticks\":\"\"}},\"type\":\"scatterpolar\"}],\"scatter\":[{\"fillpattern\":{\"fillmode\":\"overlay\",\"size\":10,\"solidity\":0.2},\"type\":\"scatter\"}],\"scatterternary\":[{\"marker\":{\"colorbar\":{\"outlinewidth\":0,\"ticks\":\"\"}},\"type\":\"scatterternary\"}],\"surface\":[{\"colorbar\":{\"outlinewidth\":0,\"ticks\":\"\"},\"colorscale\":[[0.0,\"#0d0887\"],[0.1111111111111111,\"#46039f\"],[0.2222222222222222,\"#7201a8\"],[0.3333333333333333,\"#9c179e\"],[0.4444444444444444,\"#bd3786\"],[0.5555555555555556,\"#d8576b\"],[0.6666666666666666,\"#ed7953\"],[0.7777777777777778,\"#fb9f3a\"],[0.8888888888888888,\"#fdca26\"],[1.0,\"#f0f921\"]],\"type\":\"surface\"}],\"table\":[{\"cells\":{\"fill\":{\"color\":\"#EBF0F8\"},\"line\":{\"color\":\"white\"}},\"header\":{\"fill\":{\"color\":\"#C8D4E3\"},\"line\":{\"color\":\"white\"}},\"type\":\"table\"}]},\"layout\":{\"annotationdefaults\":{\"arrowcolor\":\"#2a3f5f\",\"arrowhead\":0,\"arrowwidth\":1},\"autotypenumbers\":\"strict\",\"coloraxis\":{\"colorbar\":{\"outlinewidth\":0,\"ticks\":\"\"}},\"colorscale\":{\"diverging\":[[0,\"#8e0152\"],[0.1,\"#c51b7d\"],[0.2,\"#de77ae\"],[0.3,\"#f1b6da\"],[0.4,\"#fde0ef\"],[0.5,\"#f7f7f7\"],[0.6,\"#e6f5d0\"],[0.7,\"#b8e186\"],[0.8,\"#7fbc41\"],[0.9,\"#4d9221\"],[1,\"#276419\"]],\"sequential\":[[0.0,\"#0d0887\"],[0.1111111111111111,\"#46039f\"],[0.2222222222222222,\"#7201a8\"],[0.3333333333333333,\"#9c179e\"],[0.4444444444444444,\"#bd3786\"],[0.5555555555555556,\"#d8576b\"],[0.6666666666666666,\"#ed7953\"],[0.7777777777777778,\"#fb9f3a\"],[0.8888888888888888,\"#fdca26\"],[1.0,\"#f0f921\"]],\"sequentialminus\":[[0.0,\"#0d0887\"],[0.1111111111111111,\"#46039f\"],[0.2222222222222222,\"#7201a8\"],[0.3333333333333333,\"#9c179e\"],[0.4444444444444444,\"#bd3786\"],[0.5555555555555556,\"#d8576b\"],[0.6666666666666666,\"#ed7953\"],[0.7777777777777778,\"#fb9f3a\"],[0.8888888888888888,\"#fdca26\"],[1.0,\"#f0f921\"]]},\"colorway\":[\"#636efa\",\"#EF553B\",\"#00cc96\",\"#ab63fa\",\"#FFA15A\",\"#19d3f3\",\"#FF6692\",\"#B6E880\",\"#FF97FF\",\"#FECB52\"],\"font\":{\"color\":\"#2a3f5f\"},\"geo\":{\"bgcolor\":\"white\",\"lakecolor\":\"white\",\"landcolor\":\"#E5ECF6\",\"showlakes\":true,\"showland\":true,\"subunitcolor\":\"white\"},\"hoverlabel\":{\"align\":\"left\"},\"hovermode\":\"closest\",\"mapbox\":{\"style\":\"light\"},\"paper_bgcolor\":\"white\",\"plot_bgcolor\":\"#E5ECF6\",\"polar\":{\"angularaxis\":{\"gridcolor\":\"white\",\"linecolor\":\"white\",\"ticks\":\"\"},\"bgcolor\":\"#E5ECF6\",\"radialaxis\":{\"gridcolor\":\"white\",\"linecolor\":\"white\",\"ticks\":\"\"}},\"scene\":{\"xaxis\":{\"backgroundcolor\":\"#E5ECF6\",\"gridcolor\":\"white\",\"gridwidth\":2,\"linecolor\":\"white\",\"showbackground\":true,\"ticks\":\"\",\"zerolinecolor\":\"white\"},\"yaxis\":{\"backgroundcolor\":\"#E5ECF6\",\"gridcolor\":\"white\",\"gridwidth\":2,\"linecolor\":\"white\",\"showbackground\":true,\"ticks\":\"\",\"zerolinecolor\":\"white\"},\"zaxis\":{\"backgroundcolor\":\"#E5ECF6\",\"gridcolor\":\"white\",\"gridwidth\":2,\"linecolor\":\"white\",\"showbackground\":true,\"ticks\":\"\",\"zerolinecolor\":\"white\"}},\"shapedefaults\":{\"line\":{\"color\":\"#2a3f5f\"}},\"ternary\":{\"aaxis\":{\"gridcolor\":\"white\",\"linecolor\":\"white\",\"ticks\":\"\"},\"baxis\":{\"gridcolor\":\"white\",\"linecolor\":\"white\",\"ticks\":\"\"},\"bgcolor\":\"#E5ECF6\",\"caxis\":{\"gridcolor\":\"white\",\"linecolor\":\"white\",\"ticks\":\"\"}},\"title\":{\"x\":0.05},\"xaxis\":{\"automargin\":true,\"gridcolor\":\"white\",\"linecolor\":\"white\",\"ticks\":\"\",\"title\":{\"standoff\":15},\"zerolinecolor\":\"white\",\"zerolinewidth\":2},\"yaxis\":{\"automargin\":true,\"gridcolor\":\"white\",\"linecolor\":\"white\",\"ticks\":\"\",\"title\":{\"standoff\":15},\"zerolinecolor\":\"white\",\"zerolinewidth\":2}}},\"xaxis\":{\"range\":[-60,60],\"title\":{\"text\":\"X\"}},\"yaxis\":{\"range\":[-60,60],\"title\":{\"text\":\"Y\"}},\"width\":500,\"height\":500,\"showlegend\":false,\"title\":{\"text\":\"Hits in the Central Drift Chamber\"},\"shapes\":[{\"line\":{\"color\":\"black\"},\"type\":\"circle\",\"x0\":-10.5,\"x1\":10.5,\"xref\":\"x\",\"y0\":-10.5,\"y1\":10.5,\"yref\":\"y\"},{\"line\":{\"color\":\"black\"},\"type\":\"circle\",\"x0\":-55,\"x1\":55,\"xref\":\"x\",\"y0\":-55,\"y1\":55,\"yref\":\"y\"}]},                        {\"responsive\": true}                    ).then(function(){\n                            \nvar gd = document.getElementById('2f6962cc-bd5e-4348-b820-e3944a1701b1');\nvar x = new MutationObserver(function (mutations, observer) {{\n        var display = window.getComputedStyle(gd).display;\n        if (!display || display === 'none') {{\n            console.log([gd, 'removed!']);\n            Plotly.purge(gd);\n            observer.disconnect();\n        }}\n}});\n\n// Listen for the removal of the full notebook cells\nvar notebookContainer = gd.closest('#notebook-container');\nif (notebookContainer) {{\n    x.observe(notebookContainer, {childList: true});\n}}\n\n// Listen for the clearing of the current output cell\nvar outputEl = gd.closest('.output');\nif (outputEl) {{\n    x.observe(outputEl, {childList: true});\n}}\n\n                        })                };                            </script>        </div>\n</body>\n</html>"
                },
                "metadata": {}
              }
            ]
          }
        },
        "f28b17cbb4a640d0a7c429ccfa4ec65d": {
          "model_module": "@jupyter-widgets/base",
          "model_name": "LayoutModel",
          "model_module_version": "1.2.0",
          "state": {
            "_model_module": "@jupyter-widgets/base",
            "_model_module_version": "1.2.0",
            "_model_name": "LayoutModel",
            "_view_count": null,
            "_view_module": "@jupyter-widgets/base",
            "_view_module_version": "1.2.0",
            "_view_name": "LayoutView",
            "align_content": null,
            "align_items": null,
            "align_self": null,
            "border": null,
            "bottom": null,
            "display": null,
            "flex": null,
            "flex_flow": null,
            "grid_area": null,
            "grid_auto_columns": null,
            "grid_auto_flow": null,
            "grid_auto_rows": null,
            "grid_column": null,
            "grid_gap": null,
            "grid_row": null,
            "grid_template_areas": null,
            "grid_template_columns": null,
            "grid_template_rows": null,
            "height": null,
            "justify_content": null,
            "justify_items": null,
            "left": null,
            "margin": null,
            "max_height": null,
            "max_width": null,
            "min_height": null,
            "min_width": null,
            "object_fit": null,
            "object_position": null,
            "order": null,
            "overflow": null,
            "overflow_x": null,
            "overflow_y": null,
            "padding": null,
            "right": null,
            "top": null,
            "visibility": null,
            "width": null
          }
        },
        "ea3afe6c6776441b9d899433dd1931ad": {
          "model_module": "@jupyter-widgets/controls",
          "model_name": "FloatSliderModel",
          "model_module_version": "1.5.0",
          "state": {
            "_dom_classes": [],
            "_model_module": "@jupyter-widgets/controls",
            "_model_module_version": "1.5.0",
            "_model_name": "FloatSliderModel",
            "_view_count": null,
            "_view_module": "@jupyter-widgets/controls",
            "_view_module_version": "1.5.0",
            "_view_name": "FloatSliderView",
            "continuous_update": true,
            "description": "z0",
            "description_tooltip": null,
            "disabled": false,
            "layout": "IPY_MODEL_36a209a73b6f4237b0eeac6ee789696e",
            "max": 175,
            "min": 0,
            "orientation": "horizontal",
            "readout": true,
            "readout_format": ".2f",
            "step": 0.1,
            "style": "IPY_MODEL_47b7710b8d2d40b2afc4be56c648c8cb",
            "value": 130
          }
        },
        "79b3f08ae56443ec93bfe5d3dc3b41d9": {
          "model_module": "@jupyter-widgets/controls",
          "model_name": "FloatSliderModel",
          "model_module_version": "1.5.0",
          "state": {
            "_dom_classes": [],
            "_model_module": "@jupyter-widgets/controls",
            "_model_module_version": "1.5.0",
            "_model_name": "FloatSliderModel",
            "_view_count": null,
            "_view_module": "@jupyter-widgets/controls",
            "_view_module_version": "1.5.0",
            "_view_name": "FloatSliderView",
            "continuous_update": true,
            "description": "pz",
            "description_tooltip": null,
            "disabled": false,
            "layout": "IPY_MODEL_ce3f4a18a5df44ad82d129e7ffc719fb",
            "max": 1,
            "min": -1,
            "orientation": "horizontal",
            "readout": true,
            "readout_format": ".2f",
            "step": 0.01,
            "style": "IPY_MODEL_3e8e5d6dbf4b41ac899f83dac887093f",
            "value": -0.96
          }
        },
        "9f0cda51313f469282e68871962dae21": {
          "model_module": "@jupyter-widgets/base",
          "model_name": "LayoutModel",
          "model_module_version": "1.2.0",
          "state": {
            "_model_module": "@jupyter-widgets/base",
            "_model_module_version": "1.2.0",
            "_model_name": "LayoutModel",
            "_view_count": null,
            "_view_module": "@jupyter-widgets/base",
            "_view_module_version": "1.2.0",
            "_view_name": "LayoutView",
            "align_content": null,
            "align_items": null,
            "align_self": null,
            "border": null,
            "bottom": null,
            "display": null,
            "flex": null,
            "flex_flow": "row wrap",
            "grid_area": null,
            "grid_auto_columns": null,
            "grid_auto_flow": null,
            "grid_auto_rows": null,
            "grid_column": null,
            "grid_gap": null,
            "grid_row": null,
            "grid_template_areas": null,
            "grid_template_columns": null,
            "grid_template_rows": null,
            "height": null,
            "justify_content": null,
            "justify_items": null,
            "left": null,
            "margin": null,
            "max_height": null,
            "max_width": null,
            "min_height": null,
            "min_width": null,
            "object_fit": null,
            "object_position": null,
            "order": null,
            "overflow": null,
            "overflow_x": null,
            "overflow_y": null,
            "padding": null,
            "right": null,
            "top": null,
            "visibility": null,
            "width": null
          }
        },
        "45d44d7b3e3d4bb8a0d6f5811ee5eda8": {
          "model_module": "@jupyter-widgets/base",
          "model_name": "LayoutModel",
          "model_module_version": "1.2.0",
          "state": {
            "_model_module": "@jupyter-widgets/base",
            "_model_module_version": "1.2.0",
            "_model_name": "LayoutModel",
            "_view_count": null,
            "_view_module": "@jupyter-widgets/base",
            "_view_module_version": "1.2.0",
            "_view_name": "LayoutView",
            "align_content": null,
            "align_items": null,
            "align_self": null,
            "border": null,
            "bottom": null,
            "display": null,
            "flex": null,
            "flex_flow": null,
            "grid_area": null,
            "grid_auto_columns": null,
            "grid_auto_flow": null,
            "grid_auto_rows": null,
            "grid_column": null,
            "grid_gap": null,
            "grid_row": null,
            "grid_template_areas": null,
            "grid_template_columns": null,
            "grid_template_rows": null,
            "height": null,
            "justify_content": null,
            "justify_items": null,
            "left": null,
            "margin": null,
            "max_height": null,
            "max_width": null,
            "min_height": null,
            "min_width": null,
            "object_fit": null,
            "object_position": null,
            "order": null,
            "overflow": null,
            "overflow_x": null,
            "overflow_y": null,
            "padding": null,
            "right": null,
            "top": null,
            "visibility": null,
            "width": null
          }
        },
        "36a209a73b6f4237b0eeac6ee789696e": {
          "model_module": "@jupyter-widgets/base",
          "model_name": "LayoutModel",
          "model_module_version": "1.2.0",
          "state": {
            "_model_module": "@jupyter-widgets/base",
            "_model_module_version": "1.2.0",
            "_model_name": "LayoutModel",
            "_view_count": null,
            "_view_module": "@jupyter-widgets/base",
            "_view_module_version": "1.2.0",
            "_view_name": "LayoutView",
            "align_content": null,
            "align_items": null,
            "align_self": null,
            "border": null,
            "bottom": null,
            "display": null,
            "flex": null,
            "flex_flow": null,
            "grid_area": null,
            "grid_auto_columns": null,
            "grid_auto_flow": null,
            "grid_auto_rows": null,
            "grid_column": null,
            "grid_gap": null,
            "grid_row": null,
            "grid_template_areas": null,
            "grid_template_columns": null,
            "grid_template_rows": null,
            "height": null,
            "justify_content": null,
            "justify_items": null,
            "left": null,
            "margin": null,
            "max_height": null,
            "max_width": null,
            "min_height": null,
            "min_width": null,
            "object_fit": null,
            "object_position": null,
            "order": null,
            "overflow": null,
            "overflow_x": null,
            "overflow_y": null,
            "padding": null,
            "right": null,
            "top": null,
            "visibility": null,
            "width": null
          }
        },
        "47b7710b8d2d40b2afc4be56c648c8cb": {
          "model_module": "@jupyter-widgets/controls",
          "model_name": "SliderStyleModel",
          "model_module_version": "1.5.0",
          "state": {
            "_model_module": "@jupyter-widgets/controls",
            "_model_module_version": "1.5.0",
            "_model_name": "SliderStyleModel",
            "_view_count": null,
            "_view_module": "@jupyter-widgets/base",
            "_view_module_version": "1.2.0",
            "_view_name": "StyleView",
            "description_width": "",
            "handle_color": null
          }
        },
        "ce3f4a18a5df44ad82d129e7ffc719fb": {
          "model_module": "@jupyter-widgets/base",
          "model_name": "LayoutModel",
          "model_module_version": "1.2.0",
          "state": {
            "_model_module": "@jupyter-widgets/base",
            "_model_module_version": "1.2.0",
            "_model_name": "LayoutModel",
            "_view_count": null,
            "_view_module": "@jupyter-widgets/base",
            "_view_module_version": "1.2.0",
            "_view_name": "LayoutView",
            "align_content": null,
            "align_items": null,
            "align_self": null,
            "border": null,
            "bottom": null,
            "display": null,
            "flex": null,
            "flex_flow": null,
            "grid_area": null,
            "grid_auto_columns": null,
            "grid_auto_flow": null,
            "grid_auto_rows": null,
            "grid_column": null,
            "grid_gap": null,
            "grid_row": null,
            "grid_template_areas": null,
            "grid_template_columns": null,
            "grid_template_rows": null,
            "height": null,
            "justify_content": null,
            "justify_items": null,
            "left": null,
            "margin": null,
            "max_height": null,
            "max_width": null,
            "min_height": null,
            "min_width": null,
            "object_fit": null,
            "object_position": null,
            "order": null,
            "overflow": null,
            "overflow_x": null,
            "overflow_y": null,
            "padding": null,
            "right": null,
            "top": null,
            "visibility": null,
            "width": null
          }
        },
        "3e8e5d6dbf4b41ac899f83dac887093f": {
          "model_module": "@jupyter-widgets/controls",
          "model_name": "SliderStyleModel",
          "model_module_version": "1.5.0",
          "state": {
            "_model_module": "@jupyter-widgets/controls",
            "_model_module_version": "1.5.0",
            "_model_name": "SliderStyleModel",
            "_view_count": null,
            "_view_module": "@jupyter-widgets/base",
            "_view_module_version": "1.2.0",
            "_view_name": "StyleView",
            "description_width": "",
            "handle_color": null
          }
        },
        "b89dbd2342694b74a6455c37241e1aa1": {
          "model_module": "@jupyter-widgets/base",
          "model_name": "LayoutModel",
          "model_module_version": "1.2.0",
          "state": {
            "_model_module": "@jupyter-widgets/base",
            "_model_module_version": "1.2.0",
            "_model_name": "LayoutModel",
            "_view_count": null,
            "_view_module": "@jupyter-widgets/base",
            "_view_module_version": "1.2.0",
            "_view_name": "LayoutView",
            "align_content": null,
            "align_items": null,
            "align_self": null,
            "border": null,
            "bottom": null,
            "display": null,
            "flex": null,
            "flex_flow": null,
            "grid_area": null,
            "grid_auto_columns": null,
            "grid_auto_flow": null,
            "grid_auto_rows": null,
            "grid_column": null,
            "grid_gap": null,
            "grid_row": null,
            "grid_template_areas": null,
            "grid_template_columns": null,
            "grid_template_rows": null,
            "height": null,
            "justify_content": null,
            "justify_items": null,
            "left": null,
            "margin": null,
            "max_height": null,
            "max_width": null,
            "min_height": null,
            "min_width": null,
            "object_fit": null,
            "object_position": null,
            "order": null,
            "overflow": null,
            "overflow_x": null,
            "overflow_y": null,
            "padding": null,
            "right": null,
            "top": null,
            "visibility": null,
            "width": null
          }
        },
        "181a467e5f7940338060e1d0da65d414": {
          "model_module": "@jupyter-widgets/controls",
          "model_name": "VBoxModel",
          "model_module_version": "1.5.0",
          "state": {
            "_dom_classes": [],
            "_model_module": "@jupyter-widgets/controls",
            "_model_module_version": "1.5.0",
            "_model_name": "VBoxModel",
            "_view_count": null,
            "_view_module": "@jupyter-widgets/controls",
            "_view_module_version": "1.5.0",
            "_view_name": "VBoxView",
            "box_style": "",
            "children": [
              "IPY_MODEL_7128eb44d4bd4330b2507740173499c3",
              "IPY_MODEL_f8a8c35b2e6c4f9995ddacde30f0c18f"
            ],
            "layout": "IPY_MODEL_ab749b4cfb104c61b79379f075a5ccda"
          }
        },
        "7128eb44d4bd4330b2507740173499c3": {
          "model_module": "@jupyter-widgets/controls",
          "model_name": "HBoxModel",
          "model_module_version": "1.5.0",
          "state": {
            "_dom_classes": [],
            "_model_module": "@jupyter-widgets/controls",
            "_model_module_version": "1.5.0",
            "_model_name": "HBoxModel",
            "_view_count": null,
            "_view_module": "@jupyter-widgets/controls",
            "_view_module_version": "1.5.0",
            "_view_name": "HBoxView",
            "box_style": "",
            "children": [
              "IPY_MODEL_8fbae141efc74900bc50008398e8d9d2",
              "IPY_MODEL_019f5313bb794dabb9acab5eaedd0e96",
              "IPY_MODEL_a2927a758d034021976efe60660eef34",
              "IPY_MODEL_0acc51ac5e1344dd8055ee3ab591f344",
              "IPY_MODEL_96bcdf8286b245e4bb877457551a31e5",
              "IPY_MODEL_147bcab658d0499ea82b9697696b43df"
            ],
            "layout": "IPY_MODEL_00e0c263fafe48a299e07c4d20a3f4df"
          }
        },
        "f8a8c35b2e6c4f9995ddacde30f0c18f": {
          "model_module": "@jupyter-widgets/output",
          "model_name": "OutputModel",
          "model_module_version": "1.0.0",
          "state": {
            "_dom_classes": [],
            "_model_module": "@jupyter-widgets/output",
            "_model_module_version": "1.0.0",
            "_model_name": "OutputModel",
            "_view_count": null,
            "_view_module": "@jupyter-widgets/output",
            "_view_module_version": "1.0.0",
            "_view_name": "OutputView",
            "layout": "IPY_MODEL_1f98574fedd3470897acb5da4df5967c",
            "msg_id": "",
            "outputs": [
              {
                "output_type": "display_data",
                "data": {
                  "text/html": "<html>\n<head><meta charset=\"utf-8\" /></head>\n<body>\n    <div>            <script src=\"https://cdnjs.cloudflare.com/ajax/libs/mathjax/2.7.5/MathJax.js?config=TeX-AMS-MML_SVG\"></script><script type=\"text/javascript\">if (window.MathJax && window.MathJax.Hub && window.MathJax.Hub.Config) {window.MathJax.Hub.Config({SVG: {font: \"STIX-Web\"}});}</script>                <script type=\"text/javascript\">window.PlotlyConfig = {MathJaxConfig: 'local'};</script>\n        <script charset=\"utf-8\" src=\"https://cdn.plot.ly/plotly-2.24.1.min.js\"></script>                <div id=\"da77cbe4-be79-4fb5-872e-564bfe2d2b6b\" class=\"plotly-graph-div\" style=\"height:500px; width:500px;\"></div>            <script type=\"text/javascript\">                                    window.PLOTLYENV=window.PLOTLYENV || {};                                    if (document.getElementById(\"da77cbe4-be79-4fb5-872e-564bfe2d2b6b\")) {                    Plotly.newPlot(                        \"da77cbe4-be79-4fb5-872e-564bfe2d2b6b\",                        [{\"hoverinfo\":\"text\",\"marker\":{\"size\":3},\"mode\":\"markers\",\"text\":[\"Ring: 1.0\\n Wire: 37.0\",\"Ring: 2.0\\n Wire: 36.0\",\"Ring: 3.0\\n Wire: 46.0\",\"Ring: 4.0\\n Wire: 46.0\",\"Ring: 5.0\\n Wire: 59.0\",\"Ring: 6.0\\n Wire: 59.0\",\"Ring: 8.0\\n Wire: 71.0\",\"Ring: 9.0\\n Wire: 76.0\",\"Ring: 10.0\\n Wire: 75.0\",\"Ring: 12.0\\n Wire: 86.0\",\"Ring: 13.0\\n Wire: 102.0\",\"Ring: 14.0\\n Wire: 103.0\",\"Ring: 15.0\\n Wire: 113.0\",\"Ring: 16.0\\n Wire: 112.0\",\"Ring: 17.0\\n Wire: 118.0\",\"Ring: 18.0\\n Wire: 119.0\",\"Ring: 19.0\\n Wire: 128.0\",\"Ring: 20.0\\n Wire: 128.0\",\"Ring: 21.0\\n Wire: 143.0\",\"Ring: 22.0\\n Wire: 142.0\",\"Ring: 23.0\\n Wire: 151.0\",\"Ring: 24.0\\n Wire: 152.0\",\"Ring: 25.0\\n Wire: 161.0\",\"Ring: 26.0\\n Wire: 161.0\",\"Ring: 27.0\\n Wire: 170.0\",\"Ring: 28.0\\n Wire: 169.0\"],\"x\":[6.684929947872222,6.804733771693012,7.339395157772523,8.797784879153252,10.188810782787533,10.286436951705822,12.233599180264804,12.560699624229603,12.545599432430993,14.219995929213322,14.703687558117739,16.083382978009283,16.722131496946957,16.658323594257894,16.6985823336016,18.064798258933514,17.540632184529983,18.89240725766022,18.555075576528033,18.38704533756726,17.819405956140653,19.116113344139176,20.173164828228046,19.96883089260504,19.508482749467202,19.245975822071774],\"y\":[-8.382643188877903,-9.980718931338593,-11.663187677820556,-12.32736582811358,-13.961046996104365,-15.603313386854115,-18.539004962886857,-20.574044296267097,-22.202204424875603,-25.047767571207455,-27.721827071880632,-28.53743418288829,-30.101351044244087,-31.702519400183178,-33.693997857226904,-34.5611135717551,-36.70951445064227,-37.59821226262549,-39.62353991990386,-41.23186884050379,-43.2895838599211,-44.25383117173603,-46.159005848297284,-47.75250762988833,-49.669301811317425,-51.25193389147602],\"type\":\"scatter\",\"uid\":\"4d7dda5c-f5a9-4bf7-a0db-64c2ea8d1ba1\"},{\"marker\":{\"color\":\"red\"},\"mode\":\"lines\",\"name\":\"track\",\"type\":\"scatter\",\"uid\":\"e1e8ed63-800d-4af1-8f81-fe3a1828d5b0\",\"x\":[0.0,0.17050318605771508,0.34033347362748145,0.5094891848980438,0.6779686487224978,0.8457702006348029,1.0128921828662811,1.1793329443619172,1.3450908407967432,1.5101642345920112,1.6745514949314497,1.8382509977772798,2.001261125886373,2.1635802688261094,2.3252068229903955,2.486139191615436,2.6463757847955236,2.8059150194987694,2.9647553195827356,3.1228951158099676,3.2803328458635406,3.4370669543624928,3.593095892877173,3.7484181199445175,3.903032101083369,4.056936308809483,4.2101292226508065,4.362609329162325,4.514375121941114,4.665425101641205,4.815757775988416,4.965371659795025,5.1142652749744855,5.262437150556053,5.409885822699309,5.556609834708581,5.702607737047373,5.847878087352626,5.9924194504491055,6.136230398363423,6.279309510338237,6.42165537284626,6.563266579604203,6.7041417315867164,6.844279437040186,6.983678311496476,7.122336977786617,7.260254066054387,7.397428213769913,7.533858065743033,7.669542274136774,7.804479498480617,7.938668405683728,8.072107670048212,8.204795973282089,8.336732004512427,8.46791446029819,8.598342044643246,8.728013469009042,8.856927452327383,8.985082721013129,9.112478008976694,9.23911205763666,9.364983615932104,9.490091440335007,9.614434294862576,9.738010951089365,9.860820188159494,9.982860792798661,10.104131559326177,10.224631289666803,10.344358793362673,10.463312887584976,10.58149239714568,10.698896154509157,10.815522999803704,10.931371780832961,11.046441353087374,11.160730579755409,11.274238331734864,11.386963487644024,11.49890493383262,11.610061564393007,11.720432281170943,11.830015993776513,11.938811619594887,12.046818083797035,12.154034319350274,12.260459267028892,12.366091875424587,12.470931100956818,12.574975907883157,12.678225268309532,12.780678162200317,12.882333577388465,12.983190509585526,13.083247962391468,13.18250494730465,13.28096048373149,13.37861359899621,13.475463328350415,13.571508714982642,13.66674881002777,13.761182672576496,13.85480936968446,13.947627976381668,14.039637575681482,14.130837258589693,14.221226124113599,14.310803279270786,14.399567839098026,14.487518926659988,14.57465567305789,14.660977217438187,14.74648270700088,14.831171297008126,14.915042150792502,14.998094439765254,15.080327343424528,15.161740049363473,15.242331753278194,15.322101658975825,15.401048978382278,15.479172931550082,15.556472746666103,15.632947660059116,15.708596916207398,15.783419767746196,15.857415475475065,15.930583308365172,16.002922543566598,16.074432466415374,16.14511237044063,16.214961557371495,16.283979337144046,16.352165027908157,16.41951795603414,16.486037456119476,16.551722870995363,16.616573551733197,16.680588857651017,16.743768156319817,16.806110823569767,16.867616243496414,16.928283808466773,16.9881129191253,17.047102984399842,17.1052534215074,17.162563655960042,17.219033121570433,17.27466126045745,17.329447523051783,17.383391368101286,17.43649226267631,17.488749682175055,17.54016311032865,17.59073203920633,17.640455969220426,17.689334409131277,17.737366876052135,17.784552895453885,17.830892001169786,17.876383735399983,17.92102764871619,17.964823300065945,18.007770256777093,18.04986809456203,18.09111639752186,18.131514758150544,18.171062777338918,18.209760064378628,18.247606236965993,18.28460092120578,18.3207437516149,18.356034371126015,18.39047243109107,18.42405759128475,18.4567895199078,18.48866789359036,18.51969239739512,18.5498627248204,18.579178577803305,18.60763966672252,18.63524571040122,18.661996436109945,18.687891579569126,18.71293088495183,18.73711410488623,18.76044100045806,18.782911341212966,18.8045249051588,18.825281478767792,18.845180856978686,18.864222843198746,18.882407249305714,18.899733895649618,18.916202611054644,18.931813232820744,18.94656560672523,18.960459587024403,18.973495036454906,18.985671826235077,18.996989836066263,19.007448954133977,19.017049077109064,19.025790110148606,19.033671966896975,19.040694569486618,19.04685784853885,19.052161743164547,19.05660620096471,19.060191178031033,19.062916638946334,19.064782556784806,19.065788913112442,19.0659356979871,19.06522290995865,19.06365055606895,19.06121865185183,19.05792722133289,19.053776297029316,19.04876591994949,19.042896139592628,19.0361670139483,19.02857860949584,19.02013100120365,19.010824272528538,19.000658515414884,18.989633830293627,18.97775032608139,18.965008120179377,18.95140733847218,18.936948115326544,18.921630593590052,18.905454924589748,18.888421268130557,18.87052979249377,18.85178067443539,18.83217409918433,18.81171026044062,18.79038936037351,18.768211609619428,18.745177227279925,18.721286440919513,18.696539486563395,18.6709366086952,18.64447806025447,18.61716410263419,18.588995005678285,18.559971047678857,18.530092515373454,18.499359703942304,18.46777291700529,18.43533246661906,18.40203867327388,18.36789186589047,18.332892381816762,18.29704056682462,18.260336775106296,18.22278136927106,18.184374720341594,18.145117207750218,18.10500921933533,18.064051151337353,18.022243408395042,17.979586403541305,17.936080558199237,17.8917263021779,17.846524073668107,17.800474319238063,17.753577493828985,17.70583406075059,17.657244491676536,17.60780926663969,17.55752887402751,17.506403810577126,17.45443458137045,17.401621699829207,17.34796568770983,17.293467075098363,17.23812640040515,17.181944210359575,17.124921060004652,17.06705751269149,17.008354140073777,16.94881152210216,16.888430247018434,16.82721091134978,16.765154119902874,16.702260485757904,16.63853063026251,16.573965183025635,16.50856478191136,16.44233007303248,16.375261710744283,16.30736035763796,16.23862668453411,16.16906137047613,16.098665102723416,16.0274385767447,15.9553824962111,15.882497572989195,15.808784527133952,15.73424408688166,15.658876988642746,15.582683976994431,15.505665804673441,15.427823232568556,15.34915702971304,15.269667973277123,15.189356848560266,15.10822444898345,15.026271576081271,14.943499039494085,14.85990765695999,14.775498254306711,14.690271665443532,14.604228732352922,14.517370305082352,14.429697241735795,14.341210408465344,14.25191067946254,14.16179893694985,14.070876071171867,13.97914298038657,13.886600570856388,13.793249756839359,13.699091460579922,13.604126612300021,13.508356150189698,13.411781020397996,13.314402177023524,13.216220582105052,13.117237205612,13.017453025434861,12.916869027375569,12.815486205137688,12.713305560316655,12.6103281023899,12.50655484870677,12.401986824478612,12.296625062768584,12.190470604481405,12.083524498353128,11.975787800940779,11.867261576611895,11.757946897534012,11.647844843664103,11.536956502737851,11.425282970258976,11.312825349488321,11.19958475143305,11.085562294835611,10.970759106162703,10.855176319594122,10.738815077011623,10.621676527987532,10.503761829773495,10.385072147289009,10.265608653109837,10.145372527456573,10.024364958182858,9.902587140763671,9.780040278283607,9.656725581424823,9.532644268455243,9.407797565216427,9.2821867051115,9.155812929092917,9.028677485650277,8.900781630797951,8.77212662806265,8.642713748470996,8.512544270536864,8.38161948024893,8.249940671057772,8.117509143863217,7.984326207001445,7.850393176232032,7.7157113747250605,7.580282133047902,7.444106789152187,7.307186688360517,7.169523183353235,7.031117634154995,6.891971408121364,6.752085879925318,6.611462431543657,6.470102452243339,6.328007338567744,6.185178494322898,6.041617330563639,5.89732526557961,5.7523037248812585,5.606554141185825,5.4600779544030615,5.312876611621135,5.164951567092288,5.0163042822184,4.866936225536648,4.716848872704929,4.566043706487378,4.4145222167395985,4.262285900393977,4.10933626144498,3.955674810934184,3.801303066935418,3.646222554539719,3.4904348058402945,3.333941359917432,3.1767437628231505,3.0188435675661083,2.8602423340960854,2.700941629288721,2.540943026929966,2.3802481077004956,2.218858459160188,2.0567756757323252,1.894001358687973,1.7305371161300798,1.5663845629775466,1.4015453209494098,1.2360210185486693,1.0698132910463016,0.902923780465116,0.7353541355633837,0.5671060118187512,0.3981810714117273,0.22858098320938325,0.05830742274874012,-0.11263792777968717,-0.2842533795485309,-0.4565372371102683,-0.629487798413976,-0.80310335482217,-0.9773821911275888,-1.1523225855702321,-1.3279228098543712,-1.5041811291655307,-1.6810958021877696,-1.8586650811207193,-2.0368872116969925,-2.2157604331994634,-2.3952829784786047,-2.5754530739700527,-2.7562689397120295,-2.937728789363021,-3.1198308302193567,-3.3025732632329152,-3.48595428302896,-3.6699720779239016,-3.854624829943262,-4.0399107148396,-4.225827902110524,-4.412374555016811,-4.599548830600519,-4.787348879703217,-4.975772846984249,-5.1648188709390155,-5.354485083917481,-5.544769612142474,-5.735670575728342,-5.927186088699422,-6.119314259008689,-6.312053188556533,-6.505400973209383,-6.6993557028186075,-6.893915461239352,-7.089078326349494,-7.2848423700685885,-7.481205658376943,-7.678166251334758,-7.875722203101205,-8.073871561953773,-8.272612370307407,-8.471942664733959,-8.671860475981546,-8.872363828993997,-9.07345074293039,-9.275119231184583,-9.477367301404882,-9.680192955513697,-9.883594189727283,-10.08756899457557,-10.292115354921947,-10.497231249983251,-10.702914653349687,-10.909163533004794,-11.11597585134568,-11.323349565202946,-11.531282625861053,-11.739772979078452,-11.9488185651079,-12.15841731871685,-12.368567169207786,-12.579266040438775,-12.79051185084387,-13.00230251345372,-13.214635935916249,-13.427510020517197,-13.640922664201014,-13.854871758591457,-14.069355190012509,-14.284370839509322,-14.499916582869005,-14.71599029064177,-14.932589828161802,-15.149713055568498,-15.36735782782754,-15.585521994752028,-15.804203401023877,-16.023399886214953,-16.24310928480851,-16.46332942622054,-16.684058134821242,-16.905293229956506,-17.12703252596944,-17.34927383222204,-17.57201495311668,-17.79525368811796,-18.018987831774368,-18.24321517374006,-18.46793349879676,-18.693140586875543,-18.918834213078902,-19.145012147702587,-19.371672156257716,-19.59881199949288,-19.826429433416145,-20.05452220931737,-20.283088073790296,-20.512124768754866,-20.74163003147958,-20.97160159460372,-21.20203718615989,-21.432934529596366,-21.664291343799604,-21.896105343116865,-22.128374237378658,-22.361095731921445,-22.594267527610285,-22.827887320861535,-23.061952803665754,-23.296461663610245,-23.53141158390209,-23.766800243390954,-24.002625316592137,-24.23888447370937,-24.475575380657943,-24.71269569908776,-24.950243086406367,-25.18821519580227,-25.426609676267894,-25.66542417262295,-25.90465632553766,-26.14430377155606,-26.38436414311944,-26.624835068589583,-26.86571417227229,-27.10699907444082,-27.348687391359405,-27.590776735306882,-27.833264714600112,-28.076148933617738,-28.319426992823807,-28.563096488791466,-28.807155014226808,-29.051600157992496,-29.296429505131655,-29.541640636891763,-29.787231130748488,-30.033198560429717,-30.279540495939408,-30.526254503581633,-30.773338145984667,-31.02078898212499,-31.268604567351566,-31.51678245340976,-31.765320188465694,-32.0142153171304,-32.26346538048408,-32.5130679161005,-32.76302045807116,-33.01332053702973,-33.26396568017642,-33.51495341130254,-33.76628125081476,-34.01794671575972,-34.26994731984856,-34.522280573481424,-34.774943983772204,-35.02793505457294,-35.28125128649868,-35.534890176952054,-35.788849220148016,-36.04312590713872,-36.29771772583814,-36.55262216104694,-36.80783669447736,-37.063358804778055,-37.31918596755911,-37.57531565541679,-37.83174533795865,-38.088472481828504,-38.34549455073139,-38.60280900545878,-38.86041330391352,-39.11830490113494,-39.376481249324115,-39.63493979786891,-39.89367799336932,-40.15269327966256,-40.41198309784835,-40.67154488631425,-40.931376080760884,-41.19147411422743,-41.45183641711678,-41.71246041722104,-41.97334353974691,-42.234483207341114,-42.49587684011597,-42.75752185567472,-43.01941566913709,-43.28155569316485,-43.54393933798747,-43.80656401142748,-44.069427118926285,-44.332526063569674,-44.595858246113494,-44.8594210650095,-45.123211916430755,-45.38722819429758,-45.651467290303216,-45.91592659393956,-46.18060349252315,-46.44549537122069,-46.71059961307506,-46.9759135990311,-47.24143470796164,-47.50716031669313,-47.773087800031774,-48.03921453078935,-48.305537879809194,-48.57205521599228,-48.838763906322995,-49.10566131589534,-49.37274480793887,-49.64001174384475,-49.90745948319192,-50.17508538377303,-50.442886801620624,-50.71086109103322,-50.979005604601596,-51.247317693234706,-51.51579470618603,-51.78443399107968,-52.0532328939366,-52.32218875920094,-52.59129892976603,-52.86056074700082,-53.12997155077608,-53.39952867949065,-53.66922947009791,-53.93907125813182,-54.20905137773343,-54.47916716167717,-54.749415941397125,-55.019795047013616,-55.29030180735931,-55.56093355000577,-55.8316876012898,-56.102561286339856,-56.37355192910259,-56.64465685236908,-56.91587337780143,-57.18719882595919,-57.45863051632578,-57.73016576733514,-58.001801896397964,-58.2735362199284,-58.5453660533705,-58.81728871122468,-59.08930150707444,-59.36140175361267,-59.63358676266832,-59.90585384523297,-60.17820031148731,-60.45062347082789,-60.72312063189347,-60.99568910259177,-61.26832619012596,-61.541029201021445,-61.81379544115224,-62.08662221576773,-62.35950682951926,-62.63244658648673,-62.905438790205366,-63.17848074369214,-63.45156974947259,-63.72470310960737,-63.997878125718934,-64.2710920990183,-64.54434233033153,-64.81762612012648,-65.09094076853948,-65.36428357540198,-65.63765184026734,-65.91104286243728,-66.18445394098879,-66.45788237480066,-66.73132546258019,-67.00478050289004,-67.27824479417468,-67.55171563478721,-67.825190323016,-68.09866615711144,-68.37214043531264,-68.645610455874,-68.91907351709204,-69.192526917332,-69.46596795505455,-69.73939392884259,-70.01280213742773,-70.28618987971713,-70.55955445482016,-70.832893162075,-71.10620330107551,-71.3794821716977,-71.65272707412647,-71.92593530888234,-72.19910417684814,-72.4722309792955,-72.74531301791173,-73.0183475948263,-73.29133201263757,-73.56426357443956,-73.83713958384837,-74.10995734502892,-74.38271416272158,-74.65540734226883,-74.92803418964189,-75.20059201146722,-75.47307811505326,-75.74548980841695,-76.01782440031032,-76.29007920024723,-76.56225151852975,-76.83433866627479,-77.10633795544072,-77.3782466988539,-77.65006221023525,-77.92178180422671,-78.19340279641784,-78.46492250337232,-78.73633824265441,-79.00764733285567,-79.27884709362108,-79.54993484567584,-79.82090791085169,-80.09176361211335,-80.36249927358516,-80.63311222057725,-80.90359977961211,-81.173959278451,-81.44418804612027,-81.71428341293797,-81.9842427105399,-82.25406327190618,-82.52374243138753,-82.79327752473174,-83.06266588910972,-83.3319048631421,-83.6009917869253,-83.86992400205789,-84.13869885166696,-84.40731368043419,-84.67576583462215,-84.94405266210057,-85.21217151237244,-85.48011973660036,-85.7478946876325,-86.01549372002889,-86.28291419008752,-86.55015345587046,-86.81720887722997,-87.08407781583458,-87.3507576351951,-87.61724570069075,-87.88353937959508,-88.14963604110221,-88.41553305635254,-88.68122779845886,-88.94671764253228,-89.21199996570817,-89.47707214717212,-89.74193156818575,-90.00657561211258,-90.27100166444393,-90.53520711282474,-90.79918934707942,-91.06294575923751,-91.32647374355956,-91.58977069656284,-91.852834017047,-92.11566110611997,-92.37824936722333,-92.64059620615822,-92.90269903111081,-93.16455525267799,-93.42616228389299,-93.6875175402508,-93.94861843973379,-94.20946240283718,-94.47004685259468,-94.73036921460368,-94.99042691705091,-95.2502173907377,-95.50973806910544,-95.76898638826098,-96.02795978700185,-96.28665570684157,-96.54507159203506,-96.80320488960369,-97.06105304936074,-97.31861352393638,-97.57588376880292,-97.83286124229997,-98.08954340565947,-98.34592772303097,-98.60201166150641,-98.8577926911453,-99.11326828499975,-99.36843591913927,-99.62329307267592,-99.87783722778906,-100.13206586975025,-100.3859764869481,-100.6395665709131,-100.8928336163425,-101.14577512112484,-101.39838858636479,-101.6506715164079,-101.90262141886508,-102.15423580463751,-102.40551218794091,-102.6564480863303,-102.9070410207244,-103.15728851543025,-103.40718809816767,-103.65673730009345,-103.90593365582606,-104.15477470346977,-104.40325798463914,-104.65138104448314,-104.89914143170957,-105.14653669860911,-105.39356440107963,-105.64022209865036,-105.88650735450582,-106.1324177355101,-106.37795081223075,-106.6231041589628,-106.86787535375294,-107.11226197842304,-107.35626161859443,-107.59987186371151,-107.84309030706567,-108.08591454581907,-108.32834218102835,-108.57037081766826,-108.81199806465548,-109.05322153487205,-109.29403884518923,-109.53444761649072,-109.77444547369636,-110.01403004578556,-110.25319896582067,-110.49194987097052,-110.73028040253354,-110.96818820596123,-111.20567093088133,-111.44272623112106,-111.67935176473043,-111.91554519400512,-112.15130418550982,-112.38662641010109,-112.62150954295046,-112.85595126356756,-113.08994925582269,-113.32350120796997,-113.55660481267009,-113.78925776701314,-114.02145777254131,-114.25320253527165,-114.4844897657187,-114.71531717891709,-114.94568249444418,-115.17558343644257,-115.4050177336425,-115.63398311938437,-115.86247733164109,-116.0904981130406,-116.31804321088785,-116.54511037718731,-116.77169736866509,-116.99780194679104,-117.22342187780114,-117.44855493271912,-117.67319888737886,-117.8973515224462,-118.12101062344087,-118.34417398075846,-118.56683938969212,-118.7890046504544,-119.01066756819901,-119.23182595304242,-119.45247762008569,-119.67262038943579,-119.89225208622729,-120.11137054064383,-120.32997358793955,-120.5480590684605,-120.76562482766589,-120.98266871614949,-121.19918858966076,-121.41518230912607,-121.63064774066996,-121.84558275563596,-122.05998523060788,-122.27385304743055,-122.48718409323106,-122.69997626043926,-122.91222744680883,-123.12393555543801,-123.33509849479023,-123.54571417871493,-123.75578052646799,-123.9652954627324,-124.17425691763871,-124.38266282678552,-124.59051113125986,-124.79779977765753,-125.00452671810336,-125.21068991027148,-125.41628731740545,-125.62131690833849,-125.82577665751339,-126.02966454500265,-126.23297855652834,-126.43571668348207,-126.63787692294486,-126.83945727770681,-127.04045575628692,-127.24087037295273,-127.44069914773996,-127.63994010647208,-127.8385912807798,-128.03665070812048,-128.23411643179753,-128.43098650097977,-128.62725897072082,-128.822931901978,-129.01800336163177,-129.21247142250476,-129.4063341633807,-129.59958966902357,-129.79223603019636,-129.98427134368004,-130.1756937122923,-130.3665012449064,-130.5566920564697,-130.74626426802234,-130.93521600671593,-131.1235454058318,-131.31125060479968,-131.498329749216,-131.6847809908621,-131.8706024877227,-132.0557924040038,-132.24034891015128,-132.4242701828685,-132.6075544051345,-132.79019976622203,-132.9722044617153,-133.153566693528,-133.33428466992083,-133.5143566055193,-133.69378072133145,-133.87255524476527,-134.05067840964637,-134.22814845623532,-134.40496363124504,-134.5811221878582,-134.75662238574438,-134.93146249107738,-135.1056407765522,-135.27915552140223,-135.45200501141622,-135.62418753895508,-135.7957014029691],\"y\":[-7.105427357601002e-15,-0.2138169769517546,-0.4281688127558425,-0.6430533897574762,-0.8584685850386933,-1.074412270439396,-1.29088231257834,-1.5078765728742383,-1.725392907566885,-1.9434291677382802,-2.161983199333932,-2.3810528431841007,-2.600635935025167,-2.820730305520918,-3.041333780284127,-3.2624441798978694,-3.4840593199372094,-3.7061770109906575,-3.928795058681878,-4.151911263691353,-4.37552342177807,-4.599629323801317,-4.824226755742558,-5.049313498727244,-5.274887329046756,-5.500946018180379,-5.727487332817297,-5.954509034878704,-6.1820088815398435,-6.409984625252214,-6.63843401376581,-6.867354790151282,-7.09674469282227,-7.3266014555577925,-7.556922807524572,-7.787706473299515,-8.018950172892168,-8.250651621767233,-8.482808530867146,-8.715418606634728,-8.948479551035788,-9.18198906158186,-9.415944831352938,-9.650344549020268,-9.885185898869167,-10.120466560821946,-10.356184210460775,-10.592336519050704,-10.828921153562625,-11.065935776696328,-11.303378046903589,-11.541245618411345,-11.779536141244819,-12.01824726125075,-12.257376620120652,-12.49692185541413,-12.73688060058219,-12.977250484990634,-13.218029133943496,-13.459214168706467,-13.700803206530423,-13.94279386067494,-14.185183740431917,-14.42797045114915,-14.67115159425402,-14.91472476727715,-15.158687563876185,-15.40303757385955,-15.647772383210246,-15.892889574109716,-16.13838672496172,-16.384261410416272,-16.63051120139358,-16.877133665108076,-17.12412636509241,-17.37148686122157,-17.619212709736928,-17.867301463270422,-18.11575067086875,-18.36455787801755,-18.613720626665653,-18.86323645524937,-19.113102898716832,-19.363317488552326,-19.61387775280066,-19.864781216091636,-20.116025399664444,-20.367607821392212,-20.61952599580649,-20.87177743412179,-21.12435964426023,-21.3772701308761,-21.630506395380536,-21.88406593596622,-22.13794624763205,-22.392144822207946,-22.646659148379587,-22.90148671171323,-23.156624994680563,-23.412071476683572,-23.667823634079422,-23.92387894020543,-24.180234865403996,-24.436888877047586,-24.693838439563788,-24.951081014460335,-25.20861406035019,-25.46643503297665,-25.72454138523851,-25.98293056721516,-26.241600026191854,-26.500547206684875,-26.75976955046681,-27.01926449659182,-27.279029481420917,-27.53906193864732,-27.799359299321793,-28.059918991878032,-28.32073844215807,-28.581815073437696,-28.843146306451924,-29.104729559420477,-29.366562248073276,-29.62864178567599,-29.890965583055575,-30.153531048625876,-30.416335588413194,-30.679376606081963,-30.942651502960345,-31.206157678065942,-31.469892528131478,-31.733853447630516,-31.998037828803206,-32.26244306168205,-32.527066534117665,-32.79190563180462,-33.05695773830723,-33.32222023508545,-33.5876905015207,-33.85336591494176,-34.11924385065073,-34.38532168194891,-34.65159678016272,-34.91806651466978,-35.1847282529248,-35.451579360485596,-35.71861720103918,-35.985839136427764,-36.25324252667478,-36.52082473001106,-36.78858310290084,-37.05651500006793,-37.32461777452187,-37.592888777583966,-37.86132535891362,-38.129924866534374,-38.39868464686019,-38.66760204472163,-38.936674403392125,-39.205899064614144,-39.475273368625565,-39.744794654185846,-40.0144602586024,-40.28426751775684,-40.55421376613134,-40.82429633683495,-41.09451256162993,-41.364859770958134,-41.635335293967394,-41.90593645853786,-42.17666059130845,-42.4475050177032,-42.71846706195777,-42.989544047145806,-43.26073329520541,-43.53203212696563,-43.803437862172885,-44.07494781951742,-44.34655931665988,-44.61826967025776,-44.89007619599191,-45.16197620859306,-45.43396702186834,-45.706045948727855,-45.97821030121119,-46.250457390513986,-46.522784527014494,-46.79518902030017,-47.0676681791942,-47.34021931178215,-47.61283972543853,-47.8855267268534,-48.15827762205896,-48.43108971645621,-48.70396031484152,-48.976886721433274,-49.24986623989853,-49.52289617337963,-49.79597382452084,-50.06909649549501,-50.34226148803022,-50.61546610343645,-50.88870764263223,-51.161983406171295,-51.4352906942693,-51.7086268068304,-51.981989043474044,-52.25537470356156,-52.528781086222864,-52.80220549038317,-53.07564521478963,-53.349097558038046,-53.62255981859956,-53.896029294847345,-54.169503285083266,-54.44297908756462,-54.716454000530774,-54.989925322229894,-55.26339035094562,-55.53684638502378,-55.810290722899055,-56.08372066312165,-56.35713350438405,-56.630526545547646,-56.90389708566944,-57.17724242402874,-57.450559860153824,-57.72384669384861,-57.99710022521937,-58.27031775470139,-58.54349658308559,-58.81663401154528,-59.08972734166274,-59.362773875455915,-59.63577091540508,-59.90871576447948,-60.18160572616396,-60.45443810448562,-60.72721020404043,-60.99991933001991,-61.27256278823767,-61.54513788515613,-61.81764192791303,-62.090072224348106,-62.36242608302962,-62.63470081328104,-62.90689372520754,-63.179002129722605,-63.451023338574615,-63.72295466437336,-63.99479342061663,-64.26653692171676,-64.5381824830271,-64.80972742086863,-65.08116905255638,-65.35250469642598,-65.6237316718602,-65.89484729931532,-66.1658489003477,-66.43673379764022,-66.70749931502864,-66.9781427775282,-67.24866151135994,-67.51905284397712,-67.78931410409163,-68.05944262170044,-68.32943572811186,-68.59929075597202,-68.86900503929117,-69.13857591347002,-69.40800071532607,-69.6772767831199,-69.9464014565815,-70.21537207693653,-70.48418598693262,-70.75284053086554,-71.02133305460556,-71.28966090562355,-71.55782143301724,-71.82581198753742,-72.09362992161414,-72.36127258938275,-72.62873734671018,-72.89602155122094,-73.16312256232334,-73.43003774123548,-73.69676445101139,-73.96330005656702,-74.22964192470633,-74.49578742414724,-74.76173392554772,-75.02747880153166,-75.29301942671489,-75.55835317773114,-75.82347743325786,-76.08838957404221,-76.3530869829269,-76.61756704487605,-76.88182714700105,-77.14586467858626,-77.40967703111502,-77.67326159829517,-77.936615776085,-78.19973696271887,-78.46262255873293,-78.7252699669908,-78.98767659270928,-79.24983984348387,-79.51175712931456,-79.77342586263123,-80.0348434583193,-80.29600733374528,-80.5569149087823,-80.81756360583552,-81.07795084986766,-81.33807406842445,-81.59793069165995,-81.85751815236208,-82.11683388597788,-82.37587533063886,-82.63463992718636,-82.89312511919672,-83.15132835300673,-83.40924707773866,-83.66687874532552,-83.92422081053634,-84.18127073100115,-84.43802596723626,-84.69448398266917,-84.9506422436638,-85.20649821954542,-85.46204938262565,-85.71729320822755,-85.97222717471033,-86.22684876349454,-86.48115545908675,-86.73514474910445,-86.98881412430094,-87.24216107859002,-87.49518310907085,-87.74787771605256,-88.00024240307903,-88.25227467695359,-88.50397204776348,-88.75533202890466,-89.00635213710623,-89.25702989245505,-89.50736281842015,-89.75734844187726,-90.00698429313326,-90.2562679059505,-90.50519681757127,-90.75376856874206,-91.00198070373779,-91.2498307703863,-91.49731632009227,-91.74443490786167,-91.99118409232581,-92.23756143576537,-92.4835645041347,-92.72919086708563,-92.97443809799171,-93.2193037739719,-93.46378547591482,-93.70788078850242,-93.95158730023397,-94.19490260344983,-94.43782429435515,-94.68034997304389,-94.92247724352217,-95.1642037137322,-95.40552699557588,-95.64644470493823,-95.88695446171118,-96.12705388981688,-96.36674061723124,-96.6060122760075,-96.84486650229935,-97.08330093638459,-97.32131322268816,-97.5589010098056,-97.79606195052625,-98.03279370185635,-98.2690939250423,-98.50496028559365,-98.74039045330633,-98.97538210228548,-99.20993291096849,-99.4440405621481,-99.677702742995,-99.91091714508096,-100.1436814644014,-100.3759934013983,-100.60785066098293,-100.83925095255842,-101.07019199004246,-101.30067149188984,-101.53068718111506,-101.76023678531476,-101.98931803669018,-102.21792867206963,-102.44606643293072,-102.6737290654228,-102.90091432038918,-103.12761995338929,-103.353843724721,-103.57958339944254,-103.8048367473948,-104.02960154322324,-104.25387556639978,-104.47765660124503,-104.70094243694984,-104.92373086759741,-105.14601969218492,-105.36780671464534,-105.58908974386912,-105.80986659372581,-106.03013508308572,-106.24989303584141,-106.46913828092916,-106.68786865235052,-106.90608198919361,-107.1237761356546,-107.34094894105877,-107.55759825988201,-107.77372195177193,-107.98931788156892,-108.20438391932734,-108.41891794033651,-108.63291782514179,-108.84638145956541,-109.05930673472736,-109.27169154706634,-109.48353379836041,-109.69483139574784,-109.90558225174763,-110.1157842842803,-110.32543541668835,-110.53453357775683,-110.74307670173376,-110.95106272835058,-111.15848960284245,-111.36535527596862,-111.57165770403266,-111.77739484890257,-111.982564678031,-112.18716516447532,-112.39119428691764,-112.59465002968471,-112.79753038276796,-112.99983334184324,-113.20155690829074,-113.4026990892146,-113.60325789746264,-113.80323135164613,-114.00261747615917,-114.2014143011983,-114.39961986278198,-114.59723220276992,-114.79424936888248,-114.99066941471999,-115.18649039978186,-115.3817103894859,-115.57632745518731,-115.77033967419779,-115.96374512980452,-116.15654191128917,-116.34872811394656,-116.5403018391038,-116.73126119413877,-116.92160429249893,-117.11132925371996,-117.30043420344435,-117.48891727343988,-117.67677660161807,-117.86401033205263,-118.05061661499775,-118.23659360690635,-118.42193947044844,-118.60665237452903,-118.79073049430642,-118.97417201121017,-119.15697511295903,-119.33913799357889,-119.52065885342057,-119.70153589917767,-119.88176734390424,-120.0613514070324,-120.24028631439005,-120.41857029821826,-120.59620159718884,-120.77317845642163,-120.94949912750195,-121.12516186849786,-121.30016494397725,-121.47450662502516,-121.64818518926069,-121.82119892085416,-121.99354611054395,-122.16522505565345,-122.33623406010793,-122.50657143445112,-122.67623549586207,-122.84522456817176,-123.01353698187951,-123.1811710741697,-123.34812518892797,-123.5143976767578,-123.67998689499657,-123.84489120773203,-124.00910898581829,-124.17263860689194,-124.33547845538818,-124.49762692255666,-124.6590824064774,-124.81984331207671,-124.9799080511428,-125.13927504234162,-125.29794271123234,-125.455909490283,-125.61317381888601,-125.76973414337346,-125.92558891703256,-126.08073660012091,-126.23517565988172,-126.38890457055888,-126.54192181341209,-126.6942258767319,-126.84581525585459,-126.99668845317703,-127.14684397817149,-127.2962803474004,-127.44499608453094,-127.5929897203497,-127.74025979277712,-127.886804846882,-128.03262343489575,-128.17771411622698,-128.32207545747536,-128.46570603244598,-128.60860442216352,-128.75076921488605,-128.8921990061192,-129.03289239862983,-129.17284800246006,-129.31206443494068,-129.45054032070524,-129.58827429170324,-129.72526498721385,-129.86151105385932,-129.99701114561833,-130.13176392383937,-130.26576805725378,-130.3990222219891,-130.53152510158202,-130.66327538699142,-130.7942717766114,-130.92451297628398,-131.053997699312,-131.1827246664717,-131.31069260602558,-131.43790025373477,-131.56434635287155,-131.6900296542318,-131.81494891614744,-131.9391029044985,-132.0624903927254,-132.18511016184112,-132.30696100044324,-132.42804170472573,-132.54835107849107,-132.66788793316204,-132.7866510877933,-132.90463936908316,-133.0218516113852,-133.1382866567197,-133.2539433547853,-133.36882056296997,-133.4829171463627,-133.5962319777644,-133.7087639376993,-133.82051191442582,-133.93147480394762,-134.0416515100245,-134.1510409441833,-134.25964202572845,-134.36745368175298,-134.47447484714866,-134.58070446461707,-134.68614148467952,-134.7907848656879,-134.89463357383445,-134.9976865831625,-135.09994287557626,-135.20140144085093,-135.3020612766428,-135.40192138849906,-135.50098078986767,-135.59923850210703,-135.6966935544957,-135.79334498424208,-135.8891918364937,-135.9842331643469,-136.07846802885604,-136.1718954990427,-136.2645146519052,-136.35632457242724,-136.44732435358742,-136.53751309636792,-136.62688990976335,-136.71545391078976,-136.80320422449324,-136.89013998395848,-136.97626033031753,-137.06156441275817,-137.14605138853227,-137.22972042296422,-137.31257068945916,-137.39460136951104,-137.47581165271083,-137.55620073675448,-137.63576782745088,-137.71451213872956,-137.7924328926487,-137.8695293194026,-137.9458006573294,-138.0212461529186,-138.09586506081837,-138.16965664384315,-138.24262017298076,-138.31475492739963,-138.38606019445592,-138.45653526970065,-138.5261794568865,-138.59499206797483,-138.6629724231424,-138.73011985078816,-138.79643368753975,-138.8619132782602,-138.92655797605437,-138.9903671422752,-139.05334014653022,-139.1154763666877,-139.17677518888271,-139.23723600752334,-139.2968582252965,-139.35564125317407,-139.41358451041845,-139.47068742458845,-139.52694943154492,-139.58236997545637,-139.63694850880432,-139.69068449238887,-139.74357739533397,-139.79562669509255,-139.84683187745185,-139.89719243653843,-139.9467078748232,-139.99537770312628,-140.0432014406218,-140.0901786148428,-140.1363087616858,-140.18159142541532,-140.2260261586685,-140.2696125224595,-140.31235008618376,-140.35423842762233,-140.39527713294603,-140.43546579671948,-140.47480402190521,-140.51329141986747,-140.55092761037616,-140.5877122216105,-140.62364489016284,-140.65872526104206,-140.69295298767724,-140.726327731921,-140.7588491640529,-140.79051696278256,-140.82133081525308,-140.85129041704388,-140.88039547217386,-140.9086456931043,-140.93604080074155,-140.9625805244401,-140.98826460200493,-141.0130927796943,-141.03706481222218,-141.06018046276068,-141.08243950294246,-141.10384171286285,-141.1243868810821,-141.1440748046275,-141.16290528899543,-141.180878148153,-141.1979932045403,-141.2142502890718,-141.22964924113825,-141.24418990860818,-141.2578721478293,-141.2706958236302,-141.28266080932138,-141.29376698669665,-141.30401424603434,-141.31340248609825,-141.3219316141388,-141.32960154589378,-141.33641220558934,-141.34236352594064,-141.34745544815263,-141.35168792192036,-141.35506090542987,-141.35757436535823,-141.3592282768742,-141.3600226236382,-141.35995739780253,-141.3590326000117,-141.357248239402,-141.3546043336018,-141.35110090873113,-141.3467379994015,-141.34151564871559,-141.3354339082668,-141.32849283813866,-141.3206925069044,-141.3120329916262,-141.30251437785427,-141.29213675962632,-141.28090023946632,-141.2688049283837,-141.25585094587214,-141.2420384199085,-141.22736748695138,-141.21183829193993,-141.19545098829238,-141.17820573790448,-141.16010271114789,-141.14114208686865,-141.1213240523852,-141.10064880348665,-141.07911654443078,-141.05672748794217,-141.03348185520997,-141.0093798758856,-140.98442178808082,-140.95860783836503,-140.93193828176308,-140.90441338175256,-140.87603341026133,-140.84679864766485,-140.81670938278324,-140.78576591287865,-140.75396854365212,-140.7213175892407,-140.68781337221435,-140.65345622357256,-140.6182464827413,-140.5821844975697,-140.54527062432635,-140.5075052276959,-140.4688886807757,-140.42942136507168,-140.38910367049493,-140.34793599535766,-140.30591874636943,-140.26305233863286,-140.2193371956399,-140.17477374926727,-140.12936243977245,-140.08310371578924,-140.03599803432334,-139.98804586074783,-139.93924766879854,-139.8896039405695,-139.83911516650795,-139.7877818454097,-139.73560448441413,-139.68258359899914,-139.6287197129762,-139.57401335848488,-139.518465075988,-139.46207541426588,-139.40484493041123,-139.34677418982352,-139.28786376620334,-139.22811424154685,-139.16752620614,-139.1061002585526,-139.0438370056325,-138.9807370624996,-138.9168010525397,-138.8520296073985,-138.78642336697516,-138.719982979416,-138.65270910110831,-138.58460239667366,-138.51566353896135,-138.44589320904186,-138.37529209620004,-138.30386089792836,-138.23160031991995,-138.15851107606164,-138.08459388842704,-138.0098494872692,-137.9342786110135,-137.8578820062504,-137.78066042772798,-137.70261463834447,-137.62374540914092,-137.54405351929324,-137.46353975610478,-137.3822049149984,-137.30004979950877,-137.21707522127423,-137.13328200002888,-137.04867096359456,-136.9632429478725,-136.87699879683515,-136.78993936251783,-136.70206550501047,-136.61337809244873,-136.52387800100578,-136.4335661148836,-136.34244332630402,-136.2505105355001,-136.15776865070725,-136.06421858815412,-135.96986127205363,-135.87469763459387,-135.77872861592886,-135.68195516416915,-135.58437823537275,-135.48599879353532,-135.38681781058085,-135.28683626635214,-135.18605514860087,-135.08447545297804,-134.9820981830241,-134.87892435015897,-134.7749549736721,-134.67019108071233,-134.5646337062779,-134.45828389320607,-134.35114269216285,-134.2432111616327,-134.13449036790794,-134.02498138507838,-133.91468529502055,-133.80360318738707,-133.69173615959596,-133.57908531681966,-133.4656517719743,-133.35143664570842,-133.23644106639225,-133.12066617010623,-133.00411310063004,-132.88678300943116,-132.76867705565348,-132.64979640610605,-132.53014223525122,-132.40971572519337,-132.288518065667,-132.16655045402504,-132.04381409522713,-131.92031020182753,-131.79603999396335,-131.67100469934223,-131.5452055532305,-131.41864379844074,-131.29132068531965,-131.16323747173567,-131.03439542306648,-130.9047958121866,-130.77443991945466,-130.64332903270105,-130.51146444721482,-130.37884746573116,-130.24547939841835,-130.11136156286506,-129.97649528406697,-129.8408818944141,-129.70452273367727,-129.5674191489951,-129.4295724948606,-129.29098413310783,-129.15165543289845,-129.01158777070813,-128.87078253031305,-128.72924110277614,-128.58696488643335,-128.44395528687997,-128.30021371695648,-128.15574159673486,-128.01054035350438,-127.8646114217576,-127.71795624317618,-127.57057626661654,-127.42247294809573,-127.27364775077685,-127.12410214495475,-126.97383760804144,-126.82285562455141,-126.67115768608716,-126.51874529132428,-126.36561994599676,-126.21178316288207,-126.05723646178616,-125.90198136952856,-125.74601941992721,-125.58935215378337,-125.43198111886632,-125.27390786989812,-125.11513396853827,-124.9556609833682,-124.7954904898759,-124.63462407044024,-124.47306331431535,-124.31080981761498,-124.14786518329674,-123.98423102114617,-123.81990894776091,-123.65490058653467,-123.48920756764129,-123.32283152801855,-123.15577411135206,-122.98803696805892,-122.81962175527151,-122.6505301368211,-122.48076378322139,-122.31032437165206,-122.13921358594207,-121.96743311655321,-121.79498466056323,-121.62186992164918,-121.44809061007058,-121.27364844265242,-121.09854514276829,-120.92278244032337,-120.74636207173727,-120.56928577992693,-120.39155531428932,-120.2131724306843,-120.03413889141714,-119.85445646522116,-119.6741269272403,-119.49315205901144,-119.31153364844698,-119.12927348981711,-118.94637338373198,-118.7628351371241,-118.57866056323029,-118.39385148157393,-118.20840971794689,-118.02233710439157,-117.83563547918266,-117.64830668680915,-117.46035257795599,-117.27177500948585,-117.08257584442077,-116.89275695192381,-116.70232020728041,-116.51126749188008,-116.31960069319767,-116.1273217047748,-115.93443242620113,-115.7409347630955,-115.54683062708726,-115.3521219357973,-115.15681061281916,-114.96089858769987,-114.76438779592112,-114.56728017887994,-114.36957768386964,-114.17128226406055,-113.97239587848064,-113.77292049199627,-113.57285807529277,-113.3722106048549,-113.1709800629474,-112.9691684375953,-112.76677772256443,-112.5638099173416,-112.36026702711493,-112.15615106275399,-111.95146404078989,-111.74620798339546,-111.54038491836522,-111.33399687909537,-111.12704590456369,-110.91953403930928,-110.71146333341261,-110.50283584247506,-110.29365362759867,-110.08391875536587,-109.87363329781883,-109.66279933243928,-109.45141894212776,-109.23949421518319,-109.02702724528214,-108.8140201314582]}],                        {\"template\":{\"data\":{\"barpolar\":[{\"marker\":{\"line\":{\"color\":\"#E5ECF6\",\"width\":0.5},\"pattern\":{\"fillmode\":\"overlay\",\"size\":10,\"solidity\":0.2}},\"type\":\"barpolar\"}],\"bar\":[{\"error_x\":{\"color\":\"#2a3f5f\"},\"error_y\":{\"color\":\"#2a3f5f\"},\"marker\":{\"line\":{\"color\":\"#E5ECF6\",\"width\":0.5},\"pattern\":{\"fillmode\":\"overlay\",\"size\":10,\"solidity\":0.2}},\"type\":\"bar\"}],\"carpet\":[{\"aaxis\":{\"endlinecolor\":\"#2a3f5f\",\"gridcolor\":\"white\",\"linecolor\":\"white\",\"minorgridcolor\":\"white\",\"startlinecolor\":\"#2a3f5f\"},\"baxis\":{\"endlinecolor\":\"#2a3f5f\",\"gridcolor\":\"white\",\"linecolor\":\"white\",\"minorgridcolor\":\"white\",\"startlinecolor\":\"#2a3f5f\"},\"type\":\"carpet\"}],\"choropleth\":[{\"colorbar\":{\"outlinewidth\":0,\"ticks\":\"\"},\"type\":\"choropleth\"}],\"contourcarpet\":[{\"colorbar\":{\"outlinewidth\":0,\"ticks\":\"\"},\"type\":\"contourcarpet\"}],\"contour\":[{\"colorbar\":{\"outlinewidth\":0,\"ticks\":\"\"},\"colorscale\":[[0.0,\"#0d0887\"],[0.1111111111111111,\"#46039f\"],[0.2222222222222222,\"#7201a8\"],[0.3333333333333333,\"#9c179e\"],[0.4444444444444444,\"#bd3786\"],[0.5555555555555556,\"#d8576b\"],[0.6666666666666666,\"#ed7953\"],[0.7777777777777778,\"#fb9f3a\"],[0.8888888888888888,\"#fdca26\"],[1.0,\"#f0f921\"]],\"type\":\"contour\"}],\"heatmapgl\":[{\"colorbar\":{\"outlinewidth\":0,\"ticks\":\"\"},\"colorscale\":[[0.0,\"#0d0887\"],[0.1111111111111111,\"#46039f\"],[0.2222222222222222,\"#7201a8\"],[0.3333333333333333,\"#9c179e\"],[0.4444444444444444,\"#bd3786\"],[0.5555555555555556,\"#d8576b\"],[0.6666666666666666,\"#ed7953\"],[0.7777777777777778,\"#fb9f3a\"],[0.8888888888888888,\"#fdca26\"],[1.0,\"#f0f921\"]],\"type\":\"heatmapgl\"}],\"heatmap\":[{\"colorbar\":{\"outlinewidth\":0,\"ticks\":\"\"},\"colorscale\":[[0.0,\"#0d0887\"],[0.1111111111111111,\"#46039f\"],[0.2222222222222222,\"#7201a8\"],[0.3333333333333333,\"#9c179e\"],[0.4444444444444444,\"#bd3786\"],[0.5555555555555556,\"#d8576b\"],[0.6666666666666666,\"#ed7953\"],[0.7777777777777778,\"#fb9f3a\"],[0.8888888888888888,\"#fdca26\"],[1.0,\"#f0f921\"]],\"type\":\"heatmap\"}],\"histogram2dcontour\":[{\"colorbar\":{\"outlinewidth\":0,\"ticks\":\"\"},\"colorscale\":[[0.0,\"#0d0887\"],[0.1111111111111111,\"#46039f\"],[0.2222222222222222,\"#7201a8\"],[0.3333333333333333,\"#9c179e\"],[0.4444444444444444,\"#bd3786\"],[0.5555555555555556,\"#d8576b\"],[0.6666666666666666,\"#ed7953\"],[0.7777777777777778,\"#fb9f3a\"],[0.8888888888888888,\"#fdca26\"],[1.0,\"#f0f921\"]],\"type\":\"histogram2dcontour\"}],\"histogram2d\":[{\"colorbar\":{\"outlinewidth\":0,\"ticks\":\"\"},\"colorscale\":[[0.0,\"#0d0887\"],[0.1111111111111111,\"#46039f\"],[0.2222222222222222,\"#7201a8\"],[0.3333333333333333,\"#9c179e\"],[0.4444444444444444,\"#bd3786\"],[0.5555555555555556,\"#d8576b\"],[0.6666666666666666,\"#ed7953\"],[0.7777777777777778,\"#fb9f3a\"],[0.8888888888888888,\"#fdca26\"],[1.0,\"#f0f921\"]],\"type\":\"histogram2d\"}],\"histogram\":[{\"marker\":{\"pattern\":{\"fillmode\":\"overlay\",\"size\":10,\"solidity\":0.2}},\"type\":\"histogram\"}],\"mesh3d\":[{\"colorbar\":{\"outlinewidth\":0,\"ticks\":\"\"},\"type\":\"mesh3d\"}],\"parcoords\":[{\"line\":{\"colorbar\":{\"outlinewidth\":0,\"ticks\":\"\"}},\"type\":\"parcoords\"}],\"pie\":[{\"automargin\":true,\"type\":\"pie\"}],\"scatter3d\":[{\"line\":{\"colorbar\":{\"outlinewidth\":0,\"ticks\":\"\"}},\"marker\":{\"colorbar\":{\"outlinewidth\":0,\"ticks\":\"\"}},\"type\":\"scatter3d\"}],\"scattercarpet\":[{\"marker\":{\"colorbar\":{\"outlinewidth\":0,\"ticks\":\"\"}},\"type\":\"scattercarpet\"}],\"scattergeo\":[{\"marker\":{\"colorbar\":{\"outlinewidth\":0,\"ticks\":\"\"}},\"type\":\"scattergeo\"}],\"scattergl\":[{\"marker\":{\"colorbar\":{\"outlinewidth\":0,\"ticks\":\"\"}},\"type\":\"scattergl\"}],\"scattermapbox\":[{\"marker\":{\"colorbar\":{\"outlinewidth\":0,\"ticks\":\"\"}},\"type\":\"scattermapbox\"}],\"scatterpolargl\":[{\"marker\":{\"colorbar\":{\"outlinewidth\":0,\"ticks\":\"\"}},\"type\":\"scatterpolargl\"}],\"scatterpolar\":[{\"marker\":{\"colorbar\":{\"outlinewidth\":0,\"ticks\":\"\"}},\"type\":\"scatterpolar\"}],\"scatter\":[{\"fillpattern\":{\"fillmode\":\"overlay\",\"size\":10,\"solidity\":0.2},\"type\":\"scatter\"}],\"scatterternary\":[{\"marker\":{\"colorbar\":{\"outlinewidth\":0,\"ticks\":\"\"}},\"type\":\"scatterternary\"}],\"surface\":[{\"colorbar\":{\"outlinewidth\":0,\"ticks\":\"\"},\"colorscale\":[[0.0,\"#0d0887\"],[0.1111111111111111,\"#46039f\"],[0.2222222222222222,\"#7201a8\"],[0.3333333333333333,\"#9c179e\"],[0.4444444444444444,\"#bd3786\"],[0.5555555555555556,\"#d8576b\"],[0.6666666666666666,\"#ed7953\"],[0.7777777777777778,\"#fb9f3a\"],[0.8888888888888888,\"#fdca26\"],[1.0,\"#f0f921\"]],\"type\":\"surface\"}],\"table\":[{\"cells\":{\"fill\":{\"color\":\"#EBF0F8\"},\"line\":{\"color\":\"white\"}},\"header\":{\"fill\":{\"color\":\"#C8D4E3\"},\"line\":{\"color\":\"white\"}},\"type\":\"table\"}]},\"layout\":{\"annotationdefaults\":{\"arrowcolor\":\"#2a3f5f\",\"arrowhead\":0,\"arrowwidth\":1},\"autotypenumbers\":\"strict\",\"coloraxis\":{\"colorbar\":{\"outlinewidth\":0,\"ticks\":\"\"}},\"colorscale\":{\"diverging\":[[0,\"#8e0152\"],[0.1,\"#c51b7d\"],[0.2,\"#de77ae\"],[0.3,\"#f1b6da\"],[0.4,\"#fde0ef\"],[0.5,\"#f7f7f7\"],[0.6,\"#e6f5d0\"],[0.7,\"#b8e186\"],[0.8,\"#7fbc41\"],[0.9,\"#4d9221\"],[1,\"#276419\"]],\"sequential\":[[0.0,\"#0d0887\"],[0.1111111111111111,\"#46039f\"],[0.2222222222222222,\"#7201a8\"],[0.3333333333333333,\"#9c179e\"],[0.4444444444444444,\"#bd3786\"],[0.5555555555555556,\"#d8576b\"],[0.6666666666666666,\"#ed7953\"],[0.7777777777777778,\"#fb9f3a\"],[0.8888888888888888,\"#fdca26\"],[1.0,\"#f0f921\"]],\"sequentialminus\":[[0.0,\"#0d0887\"],[0.1111111111111111,\"#46039f\"],[0.2222222222222222,\"#7201a8\"],[0.3333333333333333,\"#9c179e\"],[0.4444444444444444,\"#bd3786\"],[0.5555555555555556,\"#d8576b\"],[0.6666666666666666,\"#ed7953\"],[0.7777777777777778,\"#fb9f3a\"],[0.8888888888888888,\"#fdca26\"],[1.0,\"#f0f921\"]]},\"colorway\":[\"#636efa\",\"#EF553B\",\"#00cc96\",\"#ab63fa\",\"#FFA15A\",\"#19d3f3\",\"#FF6692\",\"#B6E880\",\"#FF97FF\",\"#FECB52\"],\"font\":{\"color\":\"#2a3f5f\"},\"geo\":{\"bgcolor\":\"white\",\"lakecolor\":\"white\",\"landcolor\":\"#E5ECF6\",\"showlakes\":true,\"showland\":true,\"subunitcolor\":\"white\"},\"hoverlabel\":{\"align\":\"left\"},\"hovermode\":\"closest\",\"mapbox\":{\"style\":\"light\"},\"paper_bgcolor\":\"white\",\"plot_bgcolor\":\"#E5ECF6\",\"polar\":{\"angularaxis\":{\"gridcolor\":\"white\",\"linecolor\":\"white\",\"ticks\":\"\"},\"bgcolor\":\"#E5ECF6\",\"radialaxis\":{\"gridcolor\":\"white\",\"linecolor\":\"white\",\"ticks\":\"\"}},\"scene\":{\"xaxis\":{\"backgroundcolor\":\"#E5ECF6\",\"gridcolor\":\"white\",\"gridwidth\":2,\"linecolor\":\"white\",\"showbackground\":true,\"ticks\":\"\",\"zerolinecolor\":\"white\"},\"yaxis\":{\"backgroundcolor\":\"#E5ECF6\",\"gridcolor\":\"white\",\"gridwidth\":2,\"linecolor\":\"white\",\"showbackground\":true,\"ticks\":\"\",\"zerolinecolor\":\"white\"},\"zaxis\":{\"backgroundcolor\":\"#E5ECF6\",\"gridcolor\":\"white\",\"gridwidth\":2,\"linecolor\":\"white\",\"showbackground\":true,\"ticks\":\"\",\"zerolinecolor\":\"white\"}},\"shapedefaults\":{\"line\":{\"color\":\"#2a3f5f\"}},\"ternary\":{\"aaxis\":{\"gridcolor\":\"white\",\"linecolor\":\"white\",\"ticks\":\"\"},\"baxis\":{\"gridcolor\":\"white\",\"linecolor\":\"white\",\"ticks\":\"\"},\"bgcolor\":\"#E5ECF6\",\"caxis\":{\"gridcolor\":\"white\",\"linecolor\":\"white\",\"ticks\":\"\"}},\"title\":{\"x\":0.05},\"xaxis\":{\"automargin\":true,\"gridcolor\":\"white\",\"linecolor\":\"white\",\"ticks\":\"\",\"title\":{\"standoff\":15},\"zerolinecolor\":\"white\",\"zerolinewidth\":2},\"yaxis\":{\"automargin\":true,\"gridcolor\":\"white\",\"linecolor\":\"white\",\"ticks\":\"\",\"title\":{\"standoff\":15},\"zerolinecolor\":\"white\",\"zerolinewidth\":2}}},\"xaxis\":{\"range\":[-60,60],\"title\":{\"text\":\"X\"}},\"yaxis\":{\"range\":[-60,60],\"title\":{\"text\":\"Y\"}},\"width\":500,\"height\":500,\"showlegend\":false,\"title\":{\"text\":\"Hits in the Central Drift Chamber\"},\"shapes\":[{\"line\":{\"color\":\"black\"},\"type\":\"circle\",\"x0\":-10.5,\"x1\":10.5,\"xref\":\"x\",\"y0\":-10.5,\"y1\":10.5,\"yref\":\"y\"},{\"line\":{\"color\":\"black\"},\"type\":\"circle\",\"x0\":-55,\"x1\":55,\"xref\":\"x\",\"y0\":-55,\"y1\":55,\"yref\":\"y\"}]},                        {\"responsive\": true}                    ).then(function(){\n                            \nvar gd = document.getElementById('da77cbe4-be79-4fb5-872e-564bfe2d2b6b');\nvar x = new MutationObserver(function (mutations, observer) {{\n        var display = window.getComputedStyle(gd).display;\n        if (!display || display === 'none') {{\n            console.log([gd, 'removed!']);\n            Plotly.purge(gd);\n            observer.disconnect();\n        }}\n}});\n\n// Listen for the removal of the full notebook cells\nvar notebookContainer = gd.closest('#notebook-container');\nif (notebookContainer) {{\n    x.observe(notebookContainer, {childList: true});\n}}\n\n// Listen for the clearing of the current output cell\nvar outputEl = gd.closest('.output');\nif (outputEl) {{\n    x.observe(outputEl, {childList: true});\n}}\n\n                        })                };                            </script>        </div>\n</body>\n</html>"
                },
                "metadata": {}
              }
            ]
          }
        },
        "ab749b4cfb104c61b79379f075a5ccda": {
          "model_module": "@jupyter-widgets/base",
          "model_name": "LayoutModel",
          "model_module_version": "1.2.0",
          "state": {
            "_model_module": "@jupyter-widgets/base",
            "_model_module_version": "1.2.0",
            "_model_name": "LayoutModel",
            "_view_count": null,
            "_view_module": "@jupyter-widgets/base",
            "_view_module_version": "1.2.0",
            "_view_name": "LayoutView",
            "align_content": null,
            "align_items": null,
            "align_self": null,
            "border": null,
            "bottom": null,
            "display": null,
            "flex": null,
            "flex_flow": null,
            "grid_area": null,
            "grid_auto_columns": null,
            "grid_auto_flow": null,
            "grid_auto_rows": null,
            "grid_column": null,
            "grid_gap": null,
            "grid_row": null,
            "grid_template_areas": null,
            "grid_template_columns": null,
            "grid_template_rows": null,
            "height": null,
            "justify_content": null,
            "justify_items": null,
            "left": null,
            "margin": null,
            "max_height": null,
            "max_width": null,
            "min_height": null,
            "min_width": null,
            "object_fit": null,
            "object_position": null,
            "order": null,
            "overflow": null,
            "overflow_x": null,
            "overflow_y": null,
            "padding": null,
            "right": null,
            "top": null,
            "visibility": null,
            "width": null
          }
        },
        "8fbae141efc74900bc50008398e8d9d2": {
          "model_module": "@jupyter-widgets/controls",
          "model_name": "FloatSliderModel",
          "model_module_version": "1.5.0",
          "state": {
            "_dom_classes": [],
            "_model_module": "@jupyter-widgets/controls",
            "_model_module_version": "1.5.0",
            "_model_name": "FloatSliderModel",
            "_view_count": null,
            "_view_module": "@jupyter-widgets/controls",
            "_view_module_version": "1.5.0",
            "_view_name": "FloatSliderView",
            "continuous_update": true,
            "description": "z0",
            "description_tooltip": null,
            "disabled": false,
            "layout": "IPY_MODEL_fb4a94f039d14d128c6a1a0c33127349",
            "max": 175,
            "min": 0,
            "orientation": "horizontal",
            "readout": true,
            "readout_format": ".2f",
            "step": 0.1,
            "style": "IPY_MODEL_8817015810324ea3b672e54dc9507e2d",
            "value": 126
          }
        },
        "019f5313bb794dabb9acab5eaedd0e96": {
          "model_module": "@jupyter-widgets/controls",
          "model_name": "FloatSliderModel",
          "model_module_version": "1.5.0",
          "state": {
            "_dom_classes": [],
            "_model_module": "@jupyter-widgets/controls",
            "_model_module_version": "1.5.0",
            "_model_name": "FloatSliderModel",
            "_view_count": null,
            "_view_module": "@jupyter-widgets/controls",
            "_view_module_version": "1.5.0",
            "_view_name": "FloatSliderView",
            "continuous_update": true,
            "description": "px",
            "description_tooltip": null,
            "disabled": false,
            "layout": "IPY_MODEL_bba848c66af64d4fb8afe8e1b86b15fc",
            "max": 1,
            "min": -1,
            "orientation": "horizontal",
            "readout": true,
            "readout_format": ".2f",
            "step": 0.01,
            "style": "IPY_MODEL_c83571bb91ff4a27a43465a78d8d6c5e",
            "value": 0.28
          }
        },
        "a2927a758d034021976efe60660eef34": {
          "model_module": "@jupyter-widgets/controls",
          "model_name": "FloatSliderModel",
          "model_module_version": "1.5.0",
          "state": {
            "_dom_classes": [],
            "_model_module": "@jupyter-widgets/controls",
            "_model_module_version": "1.5.0",
            "_model_name": "FloatSliderModel",
            "_view_count": null,
            "_view_module": "@jupyter-widgets/controls",
            "_view_module_version": "1.5.0",
            "_view_name": "FloatSliderView",
            "continuous_update": true,
            "description": "py",
            "description_tooltip": null,
            "disabled": false,
            "layout": "IPY_MODEL_953ea1473d064cc49b42254a895e93b6",
            "max": 1,
            "min": -1,
            "orientation": "horizontal",
            "readout": true,
            "readout_format": ".2f",
            "step": 0.01,
            "style": "IPY_MODEL_5936262b3de543c48511e47e7adb5de1",
            "value": -0.35
          }
        },
        "0acc51ac5e1344dd8055ee3ab591f344": {
          "model_module": "@jupyter-widgets/controls",
          "model_name": "IntSliderModel",
          "model_module_version": "1.5.0",
          "state": {
            "_dom_classes": [],
            "_model_module": "@jupyter-widgets/controls",
            "_model_module_version": "1.5.0",
            "_model_name": "IntSliderModel",
            "_view_count": null,
            "_view_module": "@jupyter-widgets/controls",
            "_view_module_version": "1.5.0",
            "_view_name": "IntSliderView",
            "continuous_update": true,
            "description": "charge",
            "description_tooltip": null,
            "disabled": false,
            "layout": "IPY_MODEL_5a044ff725614468b71f3dcda07322ee",
            "max": 1,
            "min": -1,
            "orientation": "horizontal",
            "readout": true,
            "readout_format": "d",
            "step": 2,
            "style": "IPY_MODEL_36171aa22b074a35b2250f81b511c434",
            "value": 1
          }
        },
        "96bcdf8286b245e4bb877457551a31e5": {
          "model_module": "@jupyter-widgets/controls",
          "model_name": "FloatSliderModel",
          "model_module_version": "1.5.0",
          "state": {
            "_dom_classes": [],
            "_model_module": "@jupyter-widgets/controls",
            "_model_module_version": "1.5.0",
            "_model_name": "FloatSliderModel",
            "_view_count": null,
            "_view_module": "@jupyter-widgets/controls",
            "_view_module_version": "1.5.0",
            "_view_name": "FloatSliderView",
            "continuous_update": true,
            "description": "pz",
            "description_tooltip": null,
            "disabled": false,
            "layout": "IPY_MODEL_b6898110c038438c98947ce014b0d36e",
            "max": 1,
            "min": -1,
            "orientation": "horizontal",
            "readout": true,
            "readout_format": ".2f",
            "step": 0.01,
            "style": "IPY_MODEL_546d78071d174ec3a9f6b1957705af38",
            "value": 0
          }
        },
        "147bcab658d0499ea82b9697696b43df": {
          "model_module": "@jupyter-widgets/controls",
          "model_name": "FloatSliderModel",
          "model_module_version": "1.5.0",
          "state": {
            "_dom_classes": [],
            "_model_module": "@jupyter-widgets/controls",
            "_model_module_version": "1.5.0",
            "_model_name": "FloatSliderModel",
            "_view_count": null,
            "_view_module": "@jupyter-widgets/controls",
            "_view_module_version": "1.5.0",
            "_view_name": "FloatSliderView",
            "continuous_update": true,
            "description": "t_max",
            "description_tooltip": null,
            "disabled": false,
            "layout": "IPY_MODEL_bd51088f1f3f4a11bdce690950c80872",
            "max": 6.283185307179586,
            "min": 0,
            "orientation": "horizontal",
            "readout": true,
            "readout_format": ".2f",
            "step": 0.01,
            "style": "IPY_MODEL_0cb31fbe27384f89a8c8d5fe48de345e",
            "value": 3.14
          }
        },
        "00e0c263fafe48a299e07c4d20a3f4df": {
          "model_module": "@jupyter-widgets/base",
          "model_name": "LayoutModel",
          "model_module_version": "1.2.0",
          "state": {
            "_model_module": "@jupyter-widgets/base",
            "_model_module_version": "1.2.0",
            "_model_name": "LayoutModel",
            "_view_count": null,
            "_view_module": "@jupyter-widgets/base",
            "_view_module_version": "1.2.0",
            "_view_name": "LayoutView",
            "align_content": null,
            "align_items": null,
            "align_self": null,
            "border": null,
            "bottom": null,
            "display": null,
            "flex": null,
            "flex_flow": "row wrap",
            "grid_area": null,
            "grid_auto_columns": null,
            "grid_auto_flow": null,
            "grid_auto_rows": null,
            "grid_column": null,
            "grid_gap": null,
            "grid_row": null,
            "grid_template_areas": null,
            "grid_template_columns": null,
            "grid_template_rows": null,
            "height": null,
            "justify_content": null,
            "justify_items": null,
            "left": null,
            "margin": null,
            "max_height": null,
            "max_width": null,
            "min_height": null,
            "min_width": null,
            "object_fit": null,
            "object_position": null,
            "order": null,
            "overflow": null,
            "overflow_x": null,
            "overflow_y": null,
            "padding": null,
            "right": null,
            "top": null,
            "visibility": null,
            "width": null
          }
        },
        "1f98574fedd3470897acb5da4df5967c": {
          "model_module": "@jupyter-widgets/base",
          "model_name": "LayoutModel",
          "model_module_version": "1.2.0",
          "state": {
            "_model_module": "@jupyter-widgets/base",
            "_model_module_version": "1.2.0",
            "_model_name": "LayoutModel",
            "_view_count": null,
            "_view_module": "@jupyter-widgets/base",
            "_view_module_version": "1.2.0",
            "_view_name": "LayoutView",
            "align_content": null,
            "align_items": null,
            "align_self": null,
            "border": null,
            "bottom": null,
            "display": null,
            "flex": null,
            "flex_flow": null,
            "grid_area": null,
            "grid_auto_columns": null,
            "grid_auto_flow": null,
            "grid_auto_rows": null,
            "grid_column": null,
            "grid_gap": null,
            "grid_row": null,
            "grid_template_areas": null,
            "grid_template_columns": null,
            "grid_template_rows": null,
            "height": null,
            "justify_content": null,
            "justify_items": null,
            "left": null,
            "margin": null,
            "max_height": null,
            "max_width": null,
            "min_height": null,
            "min_width": null,
            "object_fit": null,
            "object_position": null,
            "order": null,
            "overflow": null,
            "overflow_x": null,
            "overflow_y": null,
            "padding": null,
            "right": null,
            "top": null,
            "visibility": null,
            "width": null
          }
        },
        "fb4a94f039d14d128c6a1a0c33127349": {
          "model_module": "@jupyter-widgets/base",
          "model_name": "LayoutModel",
          "model_module_version": "1.2.0",
          "state": {
            "_model_module": "@jupyter-widgets/base",
            "_model_module_version": "1.2.0",
            "_model_name": "LayoutModel",
            "_view_count": null,
            "_view_module": "@jupyter-widgets/base",
            "_view_module_version": "1.2.0",
            "_view_name": "LayoutView",
            "align_content": null,
            "align_items": null,
            "align_self": null,
            "border": null,
            "bottom": null,
            "display": null,
            "flex": null,
            "flex_flow": null,
            "grid_area": null,
            "grid_auto_columns": null,
            "grid_auto_flow": null,
            "grid_auto_rows": null,
            "grid_column": null,
            "grid_gap": null,
            "grid_row": null,
            "grid_template_areas": null,
            "grid_template_columns": null,
            "grid_template_rows": null,
            "height": null,
            "justify_content": null,
            "justify_items": null,
            "left": null,
            "margin": null,
            "max_height": null,
            "max_width": null,
            "min_height": null,
            "min_width": null,
            "object_fit": null,
            "object_position": null,
            "order": null,
            "overflow": null,
            "overflow_x": null,
            "overflow_y": null,
            "padding": null,
            "right": null,
            "top": null,
            "visibility": null,
            "width": null
          }
        },
        "8817015810324ea3b672e54dc9507e2d": {
          "model_module": "@jupyter-widgets/controls",
          "model_name": "SliderStyleModel",
          "model_module_version": "1.5.0",
          "state": {
            "_model_module": "@jupyter-widgets/controls",
            "_model_module_version": "1.5.0",
            "_model_name": "SliderStyleModel",
            "_view_count": null,
            "_view_module": "@jupyter-widgets/base",
            "_view_module_version": "1.2.0",
            "_view_name": "StyleView",
            "description_width": "",
            "handle_color": null
          }
        },
        "bba848c66af64d4fb8afe8e1b86b15fc": {
          "model_module": "@jupyter-widgets/base",
          "model_name": "LayoutModel",
          "model_module_version": "1.2.0",
          "state": {
            "_model_module": "@jupyter-widgets/base",
            "_model_module_version": "1.2.0",
            "_model_name": "LayoutModel",
            "_view_count": null,
            "_view_module": "@jupyter-widgets/base",
            "_view_module_version": "1.2.0",
            "_view_name": "LayoutView",
            "align_content": null,
            "align_items": null,
            "align_self": null,
            "border": null,
            "bottom": null,
            "display": null,
            "flex": null,
            "flex_flow": null,
            "grid_area": null,
            "grid_auto_columns": null,
            "grid_auto_flow": null,
            "grid_auto_rows": null,
            "grid_column": null,
            "grid_gap": null,
            "grid_row": null,
            "grid_template_areas": null,
            "grid_template_columns": null,
            "grid_template_rows": null,
            "height": null,
            "justify_content": null,
            "justify_items": null,
            "left": null,
            "margin": null,
            "max_height": null,
            "max_width": null,
            "min_height": null,
            "min_width": null,
            "object_fit": null,
            "object_position": null,
            "order": null,
            "overflow": null,
            "overflow_x": null,
            "overflow_y": null,
            "padding": null,
            "right": null,
            "top": null,
            "visibility": null,
            "width": null
          }
        },
        "c83571bb91ff4a27a43465a78d8d6c5e": {
          "model_module": "@jupyter-widgets/controls",
          "model_name": "SliderStyleModel",
          "model_module_version": "1.5.0",
          "state": {
            "_model_module": "@jupyter-widgets/controls",
            "_model_module_version": "1.5.0",
            "_model_name": "SliderStyleModel",
            "_view_count": null,
            "_view_module": "@jupyter-widgets/base",
            "_view_module_version": "1.2.0",
            "_view_name": "StyleView",
            "description_width": "",
            "handle_color": null
          }
        },
        "953ea1473d064cc49b42254a895e93b6": {
          "model_module": "@jupyter-widgets/base",
          "model_name": "LayoutModel",
          "model_module_version": "1.2.0",
          "state": {
            "_model_module": "@jupyter-widgets/base",
            "_model_module_version": "1.2.0",
            "_model_name": "LayoutModel",
            "_view_count": null,
            "_view_module": "@jupyter-widgets/base",
            "_view_module_version": "1.2.0",
            "_view_name": "LayoutView",
            "align_content": null,
            "align_items": null,
            "align_self": null,
            "border": null,
            "bottom": null,
            "display": null,
            "flex": null,
            "flex_flow": null,
            "grid_area": null,
            "grid_auto_columns": null,
            "grid_auto_flow": null,
            "grid_auto_rows": null,
            "grid_column": null,
            "grid_gap": null,
            "grid_row": null,
            "grid_template_areas": null,
            "grid_template_columns": null,
            "grid_template_rows": null,
            "height": null,
            "justify_content": null,
            "justify_items": null,
            "left": null,
            "margin": null,
            "max_height": null,
            "max_width": null,
            "min_height": null,
            "min_width": null,
            "object_fit": null,
            "object_position": null,
            "order": null,
            "overflow": null,
            "overflow_x": null,
            "overflow_y": null,
            "padding": null,
            "right": null,
            "top": null,
            "visibility": null,
            "width": null
          }
        },
        "5936262b3de543c48511e47e7adb5de1": {
          "model_module": "@jupyter-widgets/controls",
          "model_name": "SliderStyleModel",
          "model_module_version": "1.5.0",
          "state": {
            "_model_module": "@jupyter-widgets/controls",
            "_model_module_version": "1.5.0",
            "_model_name": "SliderStyleModel",
            "_view_count": null,
            "_view_module": "@jupyter-widgets/base",
            "_view_module_version": "1.2.0",
            "_view_name": "StyleView",
            "description_width": "",
            "handle_color": null
          }
        },
        "5a044ff725614468b71f3dcda07322ee": {
          "model_module": "@jupyter-widgets/base",
          "model_name": "LayoutModel",
          "model_module_version": "1.2.0",
          "state": {
            "_model_module": "@jupyter-widgets/base",
            "_model_module_version": "1.2.0",
            "_model_name": "LayoutModel",
            "_view_count": null,
            "_view_module": "@jupyter-widgets/base",
            "_view_module_version": "1.2.0",
            "_view_name": "LayoutView",
            "align_content": null,
            "align_items": null,
            "align_self": null,
            "border": null,
            "bottom": null,
            "display": null,
            "flex": null,
            "flex_flow": null,
            "grid_area": null,
            "grid_auto_columns": null,
            "grid_auto_flow": null,
            "grid_auto_rows": null,
            "grid_column": null,
            "grid_gap": null,
            "grid_row": null,
            "grid_template_areas": null,
            "grid_template_columns": null,
            "grid_template_rows": null,
            "height": null,
            "justify_content": null,
            "justify_items": null,
            "left": null,
            "margin": null,
            "max_height": null,
            "max_width": null,
            "min_height": null,
            "min_width": null,
            "object_fit": null,
            "object_position": null,
            "order": null,
            "overflow": null,
            "overflow_x": null,
            "overflow_y": null,
            "padding": null,
            "right": null,
            "top": null,
            "visibility": null,
            "width": null
          }
        },
        "36171aa22b074a35b2250f81b511c434": {
          "model_module": "@jupyter-widgets/controls",
          "model_name": "SliderStyleModel",
          "model_module_version": "1.5.0",
          "state": {
            "_model_module": "@jupyter-widgets/controls",
            "_model_module_version": "1.5.0",
            "_model_name": "SliderStyleModel",
            "_view_count": null,
            "_view_module": "@jupyter-widgets/base",
            "_view_module_version": "1.2.0",
            "_view_name": "StyleView",
            "description_width": "",
            "handle_color": null
          }
        },
        "b6898110c038438c98947ce014b0d36e": {
          "model_module": "@jupyter-widgets/base",
          "model_name": "LayoutModel",
          "model_module_version": "1.2.0",
          "state": {
            "_model_module": "@jupyter-widgets/base",
            "_model_module_version": "1.2.0",
            "_model_name": "LayoutModel",
            "_view_count": null,
            "_view_module": "@jupyter-widgets/base",
            "_view_module_version": "1.2.0",
            "_view_name": "LayoutView",
            "align_content": null,
            "align_items": null,
            "align_self": null,
            "border": null,
            "bottom": null,
            "display": null,
            "flex": null,
            "flex_flow": null,
            "grid_area": null,
            "grid_auto_columns": null,
            "grid_auto_flow": null,
            "grid_auto_rows": null,
            "grid_column": null,
            "grid_gap": null,
            "grid_row": null,
            "grid_template_areas": null,
            "grid_template_columns": null,
            "grid_template_rows": null,
            "height": null,
            "justify_content": null,
            "justify_items": null,
            "left": null,
            "margin": null,
            "max_height": null,
            "max_width": null,
            "min_height": null,
            "min_width": null,
            "object_fit": null,
            "object_position": null,
            "order": null,
            "overflow": null,
            "overflow_x": null,
            "overflow_y": null,
            "padding": null,
            "right": null,
            "top": null,
            "visibility": null,
            "width": null
          }
        },
        "546d78071d174ec3a9f6b1957705af38": {
          "model_module": "@jupyter-widgets/controls",
          "model_name": "SliderStyleModel",
          "model_module_version": "1.5.0",
          "state": {
            "_model_module": "@jupyter-widgets/controls",
            "_model_module_version": "1.5.0",
            "_model_name": "SliderStyleModel",
            "_view_count": null,
            "_view_module": "@jupyter-widgets/base",
            "_view_module_version": "1.2.0",
            "_view_name": "StyleView",
            "description_width": "",
            "handle_color": null
          }
        },
        "bd51088f1f3f4a11bdce690950c80872": {
          "model_module": "@jupyter-widgets/base",
          "model_name": "LayoutModel",
          "model_module_version": "1.2.0",
          "state": {
            "_model_module": "@jupyter-widgets/base",
            "_model_module_version": "1.2.0",
            "_model_name": "LayoutModel",
            "_view_count": null,
            "_view_module": "@jupyter-widgets/base",
            "_view_module_version": "1.2.0",
            "_view_name": "LayoutView",
            "align_content": null,
            "align_items": null,
            "align_self": null,
            "border": null,
            "bottom": null,
            "display": null,
            "flex": null,
            "flex_flow": null,
            "grid_area": null,
            "grid_auto_columns": null,
            "grid_auto_flow": null,
            "grid_auto_rows": null,
            "grid_column": null,
            "grid_gap": null,
            "grid_row": null,
            "grid_template_areas": null,
            "grid_template_columns": null,
            "grid_template_rows": null,
            "height": null,
            "justify_content": null,
            "justify_items": null,
            "left": null,
            "margin": null,
            "max_height": null,
            "max_width": null,
            "min_height": null,
            "min_width": null,
            "object_fit": null,
            "object_position": null,
            "order": null,
            "overflow": null,
            "overflow_x": null,
            "overflow_y": null,
            "padding": null,
            "right": null,
            "top": null,
            "visibility": null,
            "width": null
          }
        },
        "0cb31fbe27384f89a8c8d5fe48de345e": {
          "model_module": "@jupyter-widgets/controls",
          "model_name": "SliderStyleModel",
          "model_module_version": "1.5.0",
          "state": {
            "_model_module": "@jupyter-widgets/controls",
            "_model_module_version": "1.5.0",
            "_model_name": "SliderStyleModel",
            "_view_count": null,
            "_view_module": "@jupyter-widgets/base",
            "_view_module_version": "1.2.0",
            "_view_name": "StyleView",
            "description_width": "",
            "handle_color": null
          }
        }
      }
    }
  },
  "cells": [
    {
      "cell_type": "markdown",
      "metadata": {
        "id": "view-in-github",
        "colab_type": "text"
      },
      "source": [
        "<a href=\"https://colab.research.google.com/github/duberii/pid-playground/blob/main/activities/Drift_Chambers.ipynb\" target=\"_parent\"><img src=\"https://colab.research.google.com/assets/colab-badge.svg\" alt=\"Open In Colab\"/></a>"
      ]
    },
    {
      "cell_type": "markdown",
      "source": [
        "# **Drift Chambers and Tracks**\n",
        "---\n",
        "Welcome to Particle Identification Playground! In this activity, you will get a brief introduction to drift chambers and tracks.\n",
        "\n",
        "**Before attempting this notebook, complete all of the activities in the Getting Started section.**\n",
        "\n",
        "**After completing this notebook, you will be able to:**\n",
        "*   Describe the role of drift chambers in a particle detector\n",
        "*   Define tracks and hits\n",
        "*   Identify which particles leave tracks\n",
        "*   Use individual hits to determine the position of a track\n",
        "*   Find the momentum and charge of a particle based on the curvature of a track"
      ],
      "metadata": {
        "id": "c121h0MmoXoe"
      }
    },
    {
      "cell_type": "code",
      "source": [
        "#@title Run this cell before starting\n",
        "from IPython.display import YouTubeVideo\n",
        "import plotly.express as pxp\n",
        "import pandas as pd\n",
        "import numpy as np\n",
        "import ipywidgets as widgets\n",
        "import plotly\n",
        "from ipywidgets import interact, interactive, fixed, interact_manual, widgets, HBox, VBox, Layout\n",
        "import plotly.graph_objects as go\n",
        "import matplotlib.pyplot as plt\n",
        "from google.colab import output\n",
        "import xml.etree.ElementTree as ET\n",
        "import warnings\n",
        "data =pd.DataFrame()\n",
        "warnings.filterwarnings(\"ignore\")\n",
        "output.enable_custom_widget_manager()\n",
        "!wget -q -O CentralDC_HDDS.xml https://github.com/JeffersonLab/hdds/raw/master/CentralDC_HDDS.xml\n",
        "!wget -q -O CDC_hits.hdf5 https://github.com/duberii/pid-playground/raw/main/data/CDC_hits.hdf5\n",
        "track_fitting_events = pd.read_hdf(\"CDC_hits.hdf5\",\"event1\")\n",
        "B = 1.7\n",
        "tree =ET.parse(\"CentralDC_HDDS.xml\")\n",
        "root = tree.getroot()\n",
        "n_wires_per_ring = [0]\n",
        "wire_to_ring = [0]\n",
        "positionsMatrix = []\n",
        "ar = []\n",
        "\n",
        "def degrees_to_radians(degrees):\n",
        "  return degrees*np.pi/180\n",
        "\n",
        "for tag in [j for j in root.findall(\"composition\") if j.get(\"name\")==\"CDClayers\"][0]:\n",
        "  if tag.tag == \"mposPhi\":\n",
        "    positionsMatrix.append([])\n",
        "    n_wires_per_ring.append(int(tag.get('ncopy')))\n",
        "    R_Z = float(tag.get(\"R_Z\").split()[0])\n",
        "    Phi0 = degrees_to_radians(float(tag.get(\"Phi0\")))\n",
        "    if tag.get(\"volume\") == 'CDCstrawShort':\n",
        "      dPhi = degrees_to_radians(float(tag.get(\"dPhi\")))\n",
        "      for i in range(int(tag.get(\"ncopy\"))):\n",
        "        ar.append({'pos':[[R_Z*np.cos(Phi0+i*dPhi),R_Z*np.sin(Phi0+i*dPhi),0],[R_Z*np.cos(Phi0+i*dPhi),R_Z*np.sin(Phi0+i*dPhi),150]],'ring':int(tag.find(\"ring\").get(\"value\")),'straw':i+1})\n",
        "        positionsMatrix[-1].append(ar[-1]['pos'])\n",
        "    if tag.get(\"volume\") == 'CDCstrawLong':\n",
        "      n_wires_per_ring.append(int(tag.get('ncopy')))\n",
        "      dPhi = 2*np.pi/int(tag.get(\"ncopy\"))\n",
        "      rot = degrees_to_radians(float(tag.get('rot').split()[0]))\n",
        "      for i in range(int(tag.get(\"ncopy\"))):\n",
        "        ar.append({'pos':[[R_Z*np.cos(Phi0+i*dPhi)+75*np.tan(rot)*np.sin(Phi0+i*dPhi),R_Z*np.sin(Phi0+i*dPhi)-75*np.tan(rot)*np.cos(Phi0+i*dPhi),0],[R_Z*np.cos(Phi0+i*dPhi)-75*np.tan(rot)*np.sin(Phi0+i*dPhi),R_Z*np.sin(Phi0+i*dPhi)+75*np.tan(rot)*np.cos(Phi0+i*dPhi),150]],'ring':int(tag.find(\"ring\").get(\"value\")),'straw':i+1})\n",
        "        positionsMatrix[-1].append(ar[-1]['pos'])\n",
        "wire_positions_df = pd.DataFrame.from_records(ar)\n",
        "\n",
        "def x_coord(r_curvature, theta_curvature,center_x, t,q):\n",
        "  return r_curvature*np.cos(theta_curvature-q*t) + center_x\n",
        "\n",
        "def y_coord(r_curvature,theta_curvature,center_y, t,q):\n",
        "  return r_curvature*np.sin(theta_curvature-q*t)+ center_y\n",
        "\n",
        "def ring_wire_to_x_y(rings, wires,s, dataframe=False):\n",
        "  if dataframe:\n",
        "    df = pd.DataFrame()\n",
        "    df['ring'] = rings\n",
        "    df['wire'] = wires\n",
        "    if not isinstance(s,float) and not isinstance(s, int):\n",
        "      df['x'] = [positionsMatrix[int(rings[i]-1)][int(wires[i]-1)][0][0]*(1-s[i]) + s[i]* positionsMatrix[int(rings[i]-1)][int(wires[i]-1)][1][0] for i in range(len(wires))]\n",
        "      df['y'] = [positionsMatrix[int(rings[i]-1)][int(wires[i]-1)][0][1]*(1-s[i]) + s[i]* positionsMatrix[int(rings[i]-1)][int(wires[i]-1)][1][1] for i in range(len(wires))]\n",
        "    else:\n",
        "      df['x'] = [positionsMatrix[int(rings[i]-1)][int(wires[i]-1)][0][0]*(1-s) + s* positionsMatrix[int(rings[i]-1)][int(wires[i]-1)][1][0] for i in range(len(wires))]\n",
        "      df['y'] = [positionsMatrix[int(rings[i]-1)][int(wires[i]-1)][0][1]*(1-s) + s* positionsMatrix[int(rings[i]-1)][int(wires[i]-1)][1][1] for i in range(len(wires))]\n",
        "    return df\n",
        "  else:\n",
        "    if not isinstance(s,float) and not isinstance(s, int):\n",
        "      new_x = np.array([positionsMatrix[int(rings[i]-1)][int(wires[i]-1)][0][0]*(1-s[i]) + s[i]* positionsMatrix[int(rings[i]-1)][int(wires[i]-1)][1][0] for i in range(len(wires))])\n",
        "      new_y = np.array([positionsMatrix[int(rings[i]-1)][int(wires[i]-1)][0][1]*(1-s[i]) + s[i]* positionsMatrix[int(rings[i]-1)][int(wires[i]-1)][1][1] for i in range(len(wires))])\n",
        "    else:\n",
        "      new_x = np.array([positionsMatrix[int(rings[i]-1)][int(wires[i]-1)][0][0]*(1-s) + s* positionsMatrix[int(rings[i]-1)][int(wires[i]-1)][1][0] for i in range(len(wires))])\n",
        "      new_y = np.array([positionsMatrix[int(rings[i]-1)][int(wires[i]-1)][0][1]*(1-s) + s* positionsMatrix[int(rings[i]-1)][int(wires[i]-1)][1][1] for i in range(len(wires))])\n",
        "    return new_x, new_y\n",
        "\n",
        "def get_charge(ptype):\n",
        "  if ptype in [\"Electron\", \"Muon\", \"Pi-\", \"K-\",'AntiProton']:\n",
        "    return -1\n",
        "  else:\n",
        "    return 1\n",
        "\n",
        "class CDC_plot():\n",
        "  def __init__(self, title, event=0, showTrack = False, showHits = False, showlegend=False):\n",
        "    self.figure = go.FigureWidget()\n",
        "    self.figure.update_layout(xaxis_range=[-60,60], yaxis_range=[-60,60],width=500,height=500,showlegend=showlegend,title=title,xaxis_title=\"X\", yaxis_title=\"Y\")\n",
        "    self.figure.add_shape(type=\"circle\", xref=\"x\", yref=\"y\", x0=-10.5, y0=-10.5, x1=10.5, y1=10.5, line_color=\"black\")\n",
        "    self.figure.add_shape(type=\"circle\", xref=\"x\", yref=\"y\", x0=-55, y0=-55, x1=55, y1=55, line_color=\"black\")\n",
        "    if not isinstance(event, int):\n",
        "      showHits = True\n",
        "      self.charge = get_charge(event[\"particle\"])\n",
        "      self.px = event['px']\n",
        "      self.py = event['py']\n",
        "      self.pz = event['pz']\n",
        "      self.vz = event['vz']\n",
        "      self.ring = event['ring']\n",
        "      self.straw = event['straw']\n",
        "      df = ring_wire_to_x_y(self.ring,self.straw,75,dataframe=True)\n",
        "      self.figure.add_scatter(x=df['x'].to_numpy(),y=df['y'].to_numpy(),mode='markers',text = [\"Ring: \" + str(row['ring']) + \"\\n Wire: \" + str(row['wire']) for row in df.iloc],hoverinfo='text',marker={\"size\":3})\n",
        "    if showTrack:\n",
        "      self.figure.add_scatter(mode='lines',name='track',marker={\"color\":'red'})\n",
        "  def show(self):\n",
        "    self.figure.show()\n",
        "  def update_layout(self, *args, **kwargs):\n",
        "    self.figure.update_layout(*args, **kwargs)\n",
        "  def update(self, *args, **kwargs):\n",
        "    self.figure.update(*args, **kwargs)\n",
        "  def display(self,*args,**kwargs):\n",
        "    widget=interactive(*args,**kwargs)\n",
        "    controls = HBox(widget.children[:-1], layout = Layout(flex_flow='row wrap'))\n",
        "    output = widget.children[-1]\n",
        "    display(VBox([controls, output]))\n",
        "  def update_figure(self, z0=0,px=0,py=0,charge=1,pz=0,t_max = np.pi, show_track = True, show_hits = True):\n",
        "    B=1.7\n",
        "    p = (px**2 + py**2 + pz**2)**0.5\n",
        "    try:\n",
        "      z_angle = np.arcsin(pz/p)\n",
        "    except:\n",
        "      z_angle = 0\n",
        "    center_x = charge*330*py/B\n",
        "    center_y = -1*charge*330*px/B\n",
        "    r_curvature = (center_x**2 + center_y**2)**0.5\n",
        "    theta_curvature = np.arctan2(-1*center_y,-1*center_x)\n",
        "    if show_hits:\n",
        "      new_x,new_y = ring_wire_to_x_y(self.ring,self.straw,z0/175)\n",
        "      theta_hits= np.arctan2(new_y-center_y,new_x-center_x)\n",
        "      for i in range(len(theta_hits)):\n",
        "        theta_hits[i]-= theta_curvature\n",
        "        theta_hits[i] = theta_hits[i] * -1 * charge\n",
        "        if theta_hits[i] <0:\n",
        "          theta_hits[i] += 2*np.pi\n",
        "      for i in range(len(self.ring)):\n",
        "        new_x,new_y = ring_wire_to_x_y(self.ring,self.straw,[(z0 +r_curvature*theta_hits[i]*np.tan(z_angle))/175 for i in range(len(self.ring))])\n",
        "    if show_track:\n",
        "      t_curve = np.linspace(0,t_max,1000)\n",
        "      x_track = x_coord(r_curvature,theta_curvature,center_x,t_curve,charge)\n",
        "      y_track = y_coord(r_curvature,theta_curvature,center_y,t_curve,charge)\n",
        "    with fig.figure.batch_update():\n",
        "      if show_track:\n",
        "        fig.figure.data[len(fig.figure.data)-1]['x']=x_track\n",
        "        fig.figure.data[len(fig.figure.data)-1]['y']=y_track\n",
        "      fig.update_layout(width=500,height=500,showlegend=False)\n",
        "      if show_hits:\n",
        "        fig.figure.data[0]['x']=new_x\n",
        "        fig.figure.data[0]['y']=new_y\n",
        "    fig.show()\n",
        "  def distance_to_curve(self,x,y):\n",
        "    center_x = self.charge*330*self.py/1.7\n",
        "    center_y = -330*self.charge*self.px/1.7\n",
        "    r_curvature = (center_x**2 + center_y**2)**0.5\n",
        "    distance_to_nearest_curve_point = abs(r_curvature-((x-center_x)**2+(y-center_y)**2)**0.5)\n",
        "    return distance_to_nearest_curve_point\n",
        "  def calculate_rmse(self,x_points, y_points):\n",
        "    mse = sum([self.distance_to_curve(x_points[j],y_points[j])**2 for j in range(len(x_points))])/len(x_points)\n",
        "    rmse = mse**0.5\n",
        "    return rmse\n",
        "  def calc_z0(self, quiet=False, return_rmse=False):\n",
        "    rmses = {}\n",
        "    center_x = self.charge*330*self.py/B\n",
        "    center_y = -330*self.charge*self.px/B\n",
        "    for z in np.linspace(0,150,151):\n",
        "      new_x, new_y = ring_wire_to_x_y(self.ring, self.straw,z/175)\n",
        "      rmses[z] = self.calculate_rmse(new_x,new_y)\n",
        "    if quiet and return_rmse:\n",
        "      return min(rmses, key=rmses.get), min(list(rmses.values()))\n",
        "    elif quiet:\n",
        "      return min(rmses, key=rmses.get)\n",
        "    elif return_rmse:\n",
        "      min(list(rmses.values()))\n",
        "    else:\n",
        "      print(\"The true z value is about \" + str(min(rmses, key=rmses.get)))\n",
        "\n",
        "  def show_answer(self, charge=True,px=True,py=True,pz=False,z0=False,but=\"\", every=False):\n",
        "    if z0 or all([every,but != \"z0\"]):\n",
        "      self.calc_z0()\n",
        "    if charge or all([every,but != \"charge\"]):\n",
        "      print(\"The charge of the particle is \" + str(self.charge))\n",
        "    if px or all([every,but != \"px\"]):\n",
        "      print(\"The x component of momentum is \" + str(round(self.px, 2)))\n",
        "    if py or all([every,but != \"py\"]):\n",
        "      print(\"The y component of momentum is \" + str(round(self.py, 2)))\n",
        "    if pz or all([every,but != \"pz\"]):\n",
        "      print(\"The z component of momentum is \" + str(round(self.pz, 2)))\n",
        "\n",
        "class wire_plot():\n",
        "  def __init__(self,rings,title, showlegend=True):\n",
        "    self.figure = go.FigureWidget()\n",
        "    self.figure.update_layout(xaxis_range=[-60,60], yaxis_range=[-60,60],width=500,height=500,showlegend=showlegend,title=title,xaxis_title=\"X\", yaxis_title=\"Y\")\n",
        "    self.figure.add_shape(type=\"circle\", xref=\"x\", yref=\"y\", x0=-10.5, y0=-10.5, x1=10.5, y1=10.5, line_color=\"black\")\n",
        "    self.figure.add_shape(type=\"circle\", xref=\"x\", yref=\"y\", x0=-55, y0=-55, x1=55, y1=55, line_color=\"black\")\n",
        "    for ring in rings:\n",
        "      self.figure.add_scatter(mode='markers',name=\"Ring \" + str(ring),marker={\"size\":3},hoverinfo='text',text = ['Ring: ' + str(ring) + \"\\n Wire: \" + str(k) for k in range(len(positionsMatrix[int(ring)-1]))])\n",
        "    self.data = []\n",
        "  def show(self):\n",
        "    self.figure.show()\n",
        "  def update_layout(self, *args, **kwargs):\n",
        "    self.figure.update_layout(*args, **kwargs)\n",
        "  def update(self, *args, **kwargs):\n",
        "    self.figure.update(*args, **kwargs)\n",
        "  def display(self,*args,**kwargs):\n",
        "    widget=interactive(*args,**kwargs)\n",
        "    controls = HBox(widget.children[:-1], layout = Layout(flex_flow='row wrap'))\n",
        "    output = widget.children[-1]\n",
        "    display(VBox([controls, output]))\n",
        "  def update_figure(self,z=0, rings=[]):\n",
        "    s= z/175\n",
        "    with fig.figure.batch_update():\n",
        "      for i in range(len(rings)):\n",
        "        fig.figure.data[i]['x']=[(1-s)*wire[0][0]+ s*wire[1][0] for wire in positionsMatrix[int(rings[i])-1]]\n",
        "        fig.figure.data[i]['y']=[(1-s)*wire[0][1]+ s*wire[1][1] for wire in positionsMatrix[int(rings[i])-1]]\n",
        "    fig.show()"
      ],
      "metadata": {
        "id": "_1LEQqSP7Khd",
        "cellView": "form"
      },
      "execution_count": 1,
      "outputs": []
    },
    {
      "cell_type": "markdown",
      "source": [
        "---\n",
        "##**Tracking Detectors**\n",
        "---\n",
        "**Silicon Trackers** and **Drift Chambers** are the two most common detectors that are able to measure momentum. Both of these detectors use the fact that charged particles can ionize atoms, . In this activity, we will explore drift chambers.\n",
        "\n",
        "The most important concept for momentum detectors is the idea of a **track**. A track is the path left as a charged particle passes through a momentum detector. When we observe a track in a detector, we know that there must be some particle that left that track, and our goal is to use information from the various detectors to identify the properties of that particle.\n",
        "\n",
        "Any detector that relies on the production of tracks is called a **Tracking Detector**."
      ],
      "metadata": {
        "id": "P7AK2ICKUAK6"
      }
    },
    {
      "cell_type": "code",
      "source": [
        "# @title\n",
        "YouTubeVideo(width = 560, height = 315, id=\"i15ef618DP0\")"
      ],
      "metadata": {
        "colab": {
          "base_uri": "https://localhost:8080/",
          "height": 337
        },
        "id": "3m1nN-qBjiUD",
        "outputId": "1bcf0e0f-7652-4ca4-a389-0fed52db5413",
        "cellView": "form"
      },
      "execution_count": 2,
      "outputs": [
        {
          "output_type": "execute_result",
          "data": {
            "text/plain": [
              "<IPython.lib.display.YouTubeVideo at 0x7b02b6c57f40>"
            ],
            "text/html": [
              "\n",
              "        <iframe\n",
              "            width=\"560\"\n",
              "            height=\"315\"\n",
              "            src=\"https://www.youtube.com/embed/i15ef618DP0\"\n",
              "            frameborder=\"0\"\n",
              "            allowfullscreen\n",
              "            \n",
              "        ></iframe>\n",
              "        "
            ],
            "image/jpeg": "[encoded data removed]"
          },
          "metadata": {},
          "execution_count": 2
        }
      ]
    },
    {
      "cell_type": "markdown",
      "source": [
        "This video is a recording of one of the first types of tracking detectors called a **cloud chamber**. Each of those puffs of smoke is a track left by a charged particle passing through the detector. This type of detector was the inspiration for the background of the [PID Playground homepage](https://duberii.github.io/pid-playground)!\n"
      ],
      "metadata": {
        "id": "BZmgZxMFHx-h"
      }
    },
    {
      "cell_type": "markdown",
      "source": [
        "---\n",
        "##**Drift Chambers**\n",
        "---\n",
        "Drift Chambers (as well as cloud chambers and silicon trackers) at their core are just boxes of gas with a grid of wires in them. These wires are extremely close to each other, often to the point where it looks like they touch (even though they do not). The GlueX detector uses a slightly modified detector called a **Straw Chamber**, which has a slightly different layout, with positively charged wires inside negatively charged tubes."
      ],
      "metadata": {
        "id": "1kuztL0OgRkX"
      }
    },
    {
      "cell_type": "markdown",
      "source": [
        "<img width=\"512\" alt=\"An image of a small piece of a drift chamber\" src=\"https://upload.wikimedia.org/wikipedia/commons/thumb/6/60/Chambre-a-derive-IMG_0524.jpg/512px-Chambre-a-derive-IMG_0524.jpg\"><br>\n",
        "<a href=\"https://commons.wikimedia.org/wiki/File:Chambre-a-derive-IMG_0524.jpg\">Rama</a>, <a href=\"https://creativecommons.org/licenses/by-sa/2.0/fr/deed.en\">CC BY-SA 2.0 FR</a>, via Wikimedia Commons"
      ],
      "metadata": {
        "id": "vNL_K7psneJt"
      }
    },
    {
      "cell_type": "markdown",
      "source": [
        "The image shown above is a cross section of a drift chamber. You may notice that it seems like the wires in the drift chamber touch, but they actually don't! The reason that these wires are so close together is to ensure that our measurements of the position of the track are as precise as possible.\n",
        "\n",
        "As a charged particle passes through the gas of the drift chamber, it knocks electrons off the atoms in the gas. The wires in a drift chamber are positively charged, so these electrons are attracted to the nearest wire. Once the electrons reach the wire, they will produce a small pulse of current in the wire, which can be detected. Each of these pulses of current is called a **hit**, and we can use the path traced out by these hits to determine the shape of the track."
      ],
      "metadata": {
        "id": "IEWpUeC1oqS5"
      }
    },
    {
      "cell_type": "markdown",
      "source": [
        "####**Question #1:**\n",
        "---\n",
        "Which of the following particles would leave a track in a drift chamber?\n",
        "\n",
        "\n",
        "*   Photon\n",
        "*   Muon\n",
        "*   Neutron\n",
        "*   Neutrino\n",
        "*   Gluon\n",
        "*   Positive pion\n",
        "*   Neutral Kaon\n",
        "*   W boson\n"
      ],
      "metadata": {
        "id": "Nw2lfeLNQXVm"
      }
    },
    {
      "cell_type": "markdown",
      "source": [
        "Double click to edit this cell and answer the following question: Which of the following particles would leave a track in a drift chamber?"
      ],
      "metadata": {
        "id": "cmSVsKaSrq5X"
      }
    },
    {
      "cell_type": "markdown",
      "source": [
        "#####**Solution:**"
      ],
      "metadata": {
        "id": "9iwBnEgGQeBD"
      }
    },
    {
      "cell_type": "markdown",
      "source": [
        "Any charged particle would leave a track in a cloud chamber. These particles include:\n",
        "*   Muons\n",
        "*   Positive pions\n",
        "*   W bosons\n",
        "\n",
        "The remaining particles are neutral, and would not leave a track in the drift chamber."
      ],
      "metadata": {
        "id": "FkAVNc0_Qg46"
      }
    },
    {
      "cell_type": "markdown",
      "source": [
        "####**Question #2:**\n",
        "---\n",
        "In most particle detectors, particles must pass through a drift chamber (or another tracking detector) to reach other detectors. If we detect a particle in one of the other detectors, but don't see any track in the drift chamber, what could we say about the charge of the particle we detected?"
      ],
      "metadata": {
        "id": "9lVBhsmTUZ4D"
      }
    },
    {
      "cell_type": "markdown",
      "source": [
        "Double click to edit this cell and answer the following question: If we detect a particle in one of the other detectors, but don't see any track in the drift chamber, what could we say about the charge of the particle we detected?"
      ],
      "metadata": {
        "id": "5fTxZz04UZ4W"
      }
    },
    {
      "cell_type": "markdown",
      "source": [
        "#####**Solution:**"
      ],
      "metadata": {
        "id": "O3Op721ZUZ4W"
      }
    },
    {
      "cell_type": "markdown",
      "source": [
        "The particle we detected must have passed through a drift chamber. If it were charged, it would have left a track in the drift chamber, which we would have been able to detect. Because we didn't see any tracks, the particle must have been neutral."
      ],
      "metadata": {
        "id": "9WytjAXfUZ4X"
      }
    },
    {
      "cell_type": "markdown",
      "source": [
        "---\n",
        "### **Detecting Tracks**\n",
        "---\n",
        "\n",
        "We can determine the position of a track based on the location of the wire it left a signal in. For example, in the GlueX detector, the wires are arranged in rings around the center of the detector. Based on which ring we see a signal in, we can determine the radial coordinate of the hit. A **hit** is an interaction between a particle and the drift chamber, which is detected as a pulse of electricity in one wire (or possibly several wires) in the drift chamber. Based on which wire in that ring has the biggest current pulse, we can determine the angular coordinate of the hit. If you are not familiar with polar coordinates, it will be useful to read about them here: [Click here to read about polar coordinates](https://mathinsight.org/polar_coordinates).\n",
        "\n",
        "The interactive figure below can be adjusted to plot up to three layers of the wires in GlueX's central drift chamber. Setting a slider to 0 hides that ring, which allows you to plot fewer than three rings at a time. Be sure to run the cell after you change the sliders."
      ],
      "metadata": {
        "id": "zFMMblk4qSjd"
      }
    },
    {
      "cell_type": "code",
      "source": [
        "Ring_1 = 4 # @param {type:\"slider\", min:0, max:28, step:1}\n",
        "Ring_2 = 5 # @param {type:\"slider\", min:0, max:28, step:1}\n",
        "Ring_3 = 9 # @param {type:\"slider\", min:0, max:28, step:1}\n",
        "xs = []\n",
        "ys = []\n",
        "zs = []\n",
        "ring_wires = []\n",
        "rings = []\n",
        "for i in wire_positions_df.iloc:\n",
        "  if i['ring'] in [Ring_1,Ring_2,Ring_3]:\n",
        "    xs.append(i['pos'][0][0]);\n",
        "    xs.append(i['pos'][1][0]);\n",
        "    ys.append(i['pos'][0][1]);\n",
        "    ys.append(i['pos'][1][1]);\n",
        "    zs.append(i['pos'][0][2]);\n",
        "    zs.append(i['pos'][1][2]);\n",
        "    ring_wires.append(\"Ring: \"+ str(i['ring']) + \" Wire: \" + str(i['straw']))\n",
        "    ring_wires.append(\"Ring: \"+ str(i['ring']) + \" Wire: \" + str(i['straw']))\n",
        "    rings.append(i['ring'])\n",
        "    rings.append(i['ring'])\n",
        "data_to_plot = pd.DataFrame()\n",
        "data_to_plot['x'] = xs\n",
        "data_to_plot['y'] = ys\n",
        "data_to_plot['z'] = zs\n",
        "data_to_plot['Ring and Wire']=ring_wires\n",
        "data_to_plot['ring']=rings\n",
        "fig = pxp.line_3d(data_frame=data_to_plot,x='x',y='z',z='y',line_group='Ring and Wire',color='ring')\n",
        "fig.update_traces(line=dict(width=5))\n",
        "fig.update_layout(title=\"Rings of the GlueX Central Drift Chamber\",legend_title=\"Ring Number\",scene={'aspectmode':'cube','xaxis':{'range':[-60,60],\"title\":\"X\"},'yaxis':{'range':[0,175],\"title\":\"Z\"},'zaxis':{'range':[-60,60],'title':'Y'}})\n",
        "fig.show()\n"
      ],
      "metadata": {
        "colab": {
          "base_uri": "https://localhost:8080/",
          "height": 542
        },
        "id": "_mfvMeyDLsF-",
        "outputId": "e74043e6-fb5e-47ef-8910-f38bb661a172",
        "cellView": "form"
      },
      "execution_count": 5,
      "outputs": [
        {
          "output_type": "display_data",
          "data": {
            "text/html": [
              "<html>\n",
              "<head><meta charset=\"utf-8\" /></head>\n",
              "<body>\n",
              "    <div>            <script src=\"https://cdnjs.cloudflare.com/ajax/libs/mathjax/2.7.5/MathJax.js?config=TeX-AMS-MML_SVG\"></script><script type=\"text/javascript\">if (window.MathJax && window.MathJax.Hub && window.MathJax.Hub.Config) {window.MathJax.Hub.Config({SVG: {font: \"STIX-Web\"}});}</script>                <script type=\"text/javascript\">window.PlotlyConfig = {MathJaxConfig: 'local'};</script>\n",
              "        <script charset=\"utf-8\" src=\"https://cdn.plot.ly/plotly-2.24.1.min.js\"></script>                <div id=\"a48d0c8a-040d-446a-b4f3-7b57adfe5e87\" class=\"plotly-graph-div\" style=\"height:525px; width:100%;\"></div>            <script type=\"text/javascript\">                                    window.PLOTLYENV=window.PLOTLYENV || {};                                    if (document.getElementById(\"a48d0c8a-040d-446a-b4f3-7b57adfe5e87\")) {                    Plotly.newPlot(                        \"a48d0c8a-040d-446a-b4f3-7b57adfe5e87\",                        [{\"hovertemplate\":\"ring=4\\u003cbr\\u003eRing and Wire=Ring: 4 Wire: 1\\u003cbr\\u003ex=%{x}\\u003cbr\\u003ez=%{y}\\u003cbr\\u003ey=%{z}\\u003cextra\\u003e\\u003c\\u002fextra\\u003e\",\"legendgroup\":\"4\",\"line\":{\"color\":\"#636efa\",\"dash\":\"solid\",\"width\":5},\"marker\":{\"symbol\":\"circle\"},\"mode\":\"lines\",\"name\":\"4\",\"scene\":\"scene\",\"showlegend\":true,\"x\":[15.074704446570042,15.074704446570042],\"y\":[0,150],\"z\":[1.4554218936656849,1.4554218936656849],\"type\":\"scatter3d\"},{\"hovertemplate\":\"ring=4\\u003cbr\\u003eRing and Wire=Ring: 4 Wire: 2\\u003cbr\\u003ex=%{x}\\u003cbr\\u003ez=%{y}\\u003cbr\\u003ey=%{z}\\u003cextra\\u003e\\u003c\\u002fextra\\u003e\",\"legendgroup\":\"4\",\"line\":{\"color\":\"#636efa\",\"dash\":\"solid\",\"width\":5},\"marker\":{\"symbol\":\"circle\"},\"mode\":\"lines\",\"name\":\"4\",\"scene\":\"scene\",\"showlegend\":false,\"x\":[14.803810517179931,14.803810517179931],\"y\":[0,150],\"z\":[3.1956472288775637,3.1956472288775637],\"type\":\"scatter3d\"},{\"hovertemplate\":\"ring=4\\u003cbr\\u003eRing and Wire=Ring: 4 Wire: 3\\u003cbr\\u003ex=%{x}\\u003cbr\\u003ez=%{y}\\u003cbr\\u003ey=%{z}\\u003cextra\\u003e\\u003c\\u002fextra\\u003e\",\"legendgroup\":\"4\",\"line\":{\"color\":\"#636efa\",\"dash\":\"solid\",\"width\":5},\"marker\":{\"symbol\":\"circle\"},\"mode\":\"lines\",\"name\":\"4\",\"scene\":\"scene\",\"showlegend\":false,\"x\":[14.332720444243654,14.332720444243654],\"y\":[0,150],\"z\":[4.892656916968531,4.892656916968531],\"type\":\"scatter3d\"},{\"hovertemplate\":\"ring=4\\u003cbr\\u003eRing and Wire=Ring: 4 Wire: 4\\u003cbr\\u003ex=%{x}\\u003cbr\\u003ez=%{y}\\u003cbr\\u003ey=%{z}\\u003cextra\\u003e\\u003c\\u002fextra\\u003e\",\"legendgroup\":\"4\",\"line\":{\"color\":\"#636efa\",\"dash\":\"solid\",\"width\":5},\"marker\":{\"symbol\":\"circle\"},\"mode\":\"lines\",\"name\":\"4\",\"scene\":\"scene\",\"showlegend\":false,\"x\":[13.667804912913876,13.667804912913876],\"y\":[0,150],\"z\":[6.523501812870699,6.523501812870699],\"type\":\"scatter3d\"},{\"hovertemplate\":\"ring=4\\u003cbr\\u003eRing and Wire=Ring: 4 Wire: 5\\u003cbr\\u003ex=%{x}\\u003cbr\\u003ez=%{y}\\u003cbr\\u003ey=%{z}\\u003cextra\\u003e\\u003c\\u002fextra\\u003e\",\"legendgroup\":\"4\",\"line\":{\"color\":\"#636efa\",\"dash\":\"solid\",\"width\":5},\"marker\":{\"symbol\":\"circle\"},\"mode\":\"lines\",\"name\":\"4\",\"scene\":\"scene\",\"showlegend\":false,\"x\":[12.818055765189774,12.818055765189774],\"y\":[0,150],\"z\":[8.066127536834834,8.066127536834834],\"type\":\"scatter3d\"},{\"hovertemplate\":\"ring=4\\u003cbr\\u003eRing and Wire=Ring: 4 Wire: 6\\u003cbr\\u003ex=%{x}\\u003cbr\\u003ez=%{y}\\u003cbr\\u003ey=%{z}\\u003cextra\\u003e\\u003c\\u002fextra\\u003e\",\"legendgroup\":\"4\",\"line\":{\"color\":\"#636efa\",\"dash\":\"solid\",\"width\":5},\"marker\":{\"symbol\":\"circle\"},\"mode\":\"lines\",\"name\":\"4\",\"scene\":\"scene\",\"showlegend\":false,\"x\":[11.79496440067813,11.79496440067813],\"y\":[0,150],\"z\":[9.499672722085515,9.499672722085515],\"type\":\"scatter3d\"},{\"hovertemplate\":\"ring=4\\u003cbr\\u003eRing and Wire=Ring: 4 Wire: 7\\u003cbr\\u003ex=%{x}\\u003cbr\\u003ez=%{y}\\u003cbr\\u003ey=%{z}\\u003cextra\\u003e\\u003c\\u002fextra\\u003e\",\"legendgroup\":\"4\",\"line\":{\"color\":\"#636efa\",\"dash\":\"solid\",\"width\":5},\"marker\":{\"symbol\":\"circle\"},\"mode\":\"lines\",\"name\":\"4\",\"scene\":\"scene\",\"showlegend\":false,\"x\":[10.612366375125411,10.612366375125411],\"y\":[0,150],\"z\":[10.80475112902225,10.80475112902225],\"type\":\"scatter3d\"},{\"hovertemplate\":\"ring=4\\u003cbr\\u003eRing and Wire=Ring: 4 Wire: 8\\u003cbr\\u003ex=%{x}\\u003cbr\\u003ez=%{y}\\u003cbr\\u003ey=%{z}\\u003cextra\\u003e\\u003c\\u002fextra\\u003e\",\"legendgroup\":\"4\",\"line\":{\"color\":\"#636efa\",\"dash\":\"solid\",\"width\":5},\"marker\":{\"symbol\":\"circle\"},\"mode\":\"lines\",\"name\":\"4\",\"scene\":\"scene\",\"showlegend\":false,\"x\":[9.286254298259108,9.286254298259108],\"y\":[0,150],\"z\":[11.963713810855902,11.963713810855902],\"type\":\"scatter3d\"},{\"hovertemplate\":\"ring=4\\u003cbr\\u003eRing and Wire=Ring: 4 Wire: 9\\u003cbr\\u003ex=%{x}\\u003cbr\\u003ez=%{y}\\u003cbr\\u003ey=%{z}\\u003cextra\\u003e\\u003c\\u002fextra\\u003e\",\"legendgroup\":\"4\",\"line\":{\"color\":\"#636efa\",\"dash\":\"solid\",\"width\":5},\"marker\":{\"symbol\":\"circle\"},\"mode\":\"lines\",\"name\":\"4\",\"scene\":\"scene\",\"showlegend\":false,\"x\":[7.834561561174072,7.834561561174072],\"y\":[0,150],\"z\":[12.960887785339926,12.960887785339926],\"type\":\"scatter3d\"},{\"hovertemplate\":\"ring=4\\u003cbr\\u003eRing and Wire=Ring: 4 Wire: 10\\u003cbr\\u003ex=%{x}\\u003cbr\\u003ez=%{y}\\u003cbr\\u003ey=%{z}\\u003cextra\\u003e\\u003c\\u002fextra\\u003e\",\"legendgroup\":\"4\",\"line\":{\"color\":\"#636efa\",\"dash\":\"solid\",\"width\":5},\"marker\":{\"symbol\":\"circle\"},\"mode\":\"lines\",\"name\":\"4\",\"scene\":\"scene\",\"showlegend\":false,\"x\":[6.276919817979971,6.276919817979971],\"y\":[0,150],\"z\":[13.782787984970613,13.782787984970613],\"type\":\"scatter3d\"},{\"hovertemplate\":\"ring=4\\u003cbr\\u003eRing and Wire=Ring: 4 Wire: 11\\u003cbr\\u003ex=%{x}\\u003cbr\\u003ez=%{y}\\u003cbr\\u003ey=%{z}\\u003cextra\\u003e\\u003c\\u002fextra\\u003e\",\"legendgroup\":\"4\",\"line\":{\"color\":\"#636efa\",\"dash\":\"solid\",\"width\":5},\"marker\":{\"symbol\":\"circle\"},\"mode\":\"lines\",\"name\":\"4\",\"scene\":\"scene\",\"showlegend\":false,\"x\":[4.634393501354607,4.634393501354607],\"y\":[0,150],\"z\":[14.41829961939348,14.41829961939348],\"type\":\"scatter3d\"},{\"hovertemplate\":\"ring=4\\u003cbr\\u003eRing and Wire=Ring: 4 Wire: 12\\u003cbr\\u003ex=%{x}\\u003cbr\\u003ez=%{y}\\u003cbr\\u003ey=%{z}\\u003cextra\\u003e\\u003c\\u002fextra\\u003e\",\"legendgroup\":\"4\",\"line\":{\"color\":\"#636efa\",\"dash\":\"solid\",\"width\":5},\"marker\":{\"symbol\":\"circle\"},\"mode\":\"lines\",\"name\":\"4\",\"scene\":\"scene\",\"showlegend\":false,\"x\":[2.9291949622247797,2.9291949622247797],\"y\":[0,150],\"z\":[14.858828483877085,14.858828483877085],\"type\":\"scatter3d\"},{\"hovertemplate\":\"ring=4\\u003cbr\\u003eRing and Wire=Ring: 4 Wire: 13\\u003cbr\\u003ex=%{x}\\u003cbr\\u003ez=%{y}\\u003cbr\\u003ey=%{z}\\u003cextra\\u003e\\u003c\\u002fextra\\u003e\",\"legendgroup\":\"4\",\"line\":{\"color\":\"#636efa\",\"dash\":\"solid\",\"width\":5},\"marker\":{\"symbol\":\"circle\"},\"mode\":\"lines\",\"name\":\"4\",\"scene\":\"scene\",\"showlegend\":false,\"x\":[1.184384085821943,1.184384085821943],\"y\":[0,150],\"z\":[15.098417181189944,15.098417181189944],\"type\":\"scatter3d\"},{\"hovertemplate\":\"ring=4\\u003cbr\\u003eRing and Wire=Ring: 4 Wire: 14\\u003cbr\\u003ex=%{x}\\u003cbr\\u003ez=%{y}\\u003cbr\\u003ey=%{z}\\u003cextra\\u003e\\u003c\\u002fextra\\u003e\",\"legendgroup\":\"4\",\"line\":{\"color\":\"#636efa\",\"dash\":\"solid\",\"width\":5},\"marker\":{\"symbol\":\"circle\"},\"mode\":\"lines\",\"name\":\"4\",\"scene\":\"scene\",\"showlegend\":false,\"x\":[-0.5764435537098088,-0.5764435537098088],\"y\":[0,150],\"z\":[15.133825685179092,15.133825685179092],\"type\":\"scatter3d\"},{\"hovertemplate\":\"ring=4\\u003cbr\\u003eRing and Wire=Ring: 4 Wire: 15\\u003cbr\\u003ex=%{x}\\u003cbr\\u003ez=%{y}\\u003cbr\\u003ey=%{z}\\u003cextra\\u003e\\u003c\\u002fextra\\u003e\",\"legendgroup\":\"4\",\"line\":{\"color\":\"#636efa\",\"dash\":\"solid\",\"width\":5},\"marker\":{\"symbol\":\"circle\"},\"mode\":\"lines\",\"name\":\"4\",\"scene\":\"scene\",\"showlegend\":false,\"x\":[-2.329475782979397,-2.329475782979397],\"y\":[0,150],\"z\":[14.964575156566006,14.964575156566006],\"type\":\"scatter3d\"},{\"hovertemplate\":\"ring=4\\u003cbr\\u003eRing and Wire=Ring: 4 Wire: 16\\u003cbr\\u003ex=%{x}\\u003cbr\\u003ez=%{y}\\u003cbr\\u003ey=%{z}\\u003cextra\\u003e\\u003c\\u002fextra\\u003e\",\"legendgroup\":\"4\",\"line\":{\"color\":\"#636efa\",\"dash\":\"solid\",\"width\":5},\"marker\":{\"symbol\":\"circle\"},\"mode\":\"lines\",\"name\":\"4\",\"scene\":\"scene\",\"showlegend\":false,\"x\":[-4.051005848147691,-4.051005848147691],\"y\":[0,150],\"z\":[14.592954418426489,14.592954418426489],\"type\":\"scatter3d\"},{\"hovertemplate\":\"ring=4\\u003cbr\\u003eRing and Wire=Ring: 4 Wire: 17\\u003cbr\\u003ex=%{x}\\u003cbr\\u003ez=%{y}\\u003cbr\\u003ey=%{z}\\u003cextra\\u003e\\u003c\\u002fextra\\u003e\",\"legendgroup\":\"4\",\"line\":{\"color\":\"#636efa\",\"dash\":\"solid\",\"width\":5},\"marker\":{\"symbol\":\"circle\"},\"mode\":\"lines\",\"name\":\"4\",\"scene\":\"scene\",\"showlegend\":false,\"x\":[-5.717753008107831,-5.717753008107831],\"y\":[0,150],\"z\":[14.023989003784688,14.023989003784688],\"type\":\"scatter3d\"},{\"hovertemplate\":\"ring=4\\u003cbr\\u003eRing and Wire=Ring: 4 Wire: 18\\u003cbr\\u003ex=%{x}\\u003cbr\\u003ez=%{y}\\u003cbr\\u003ey=%{z}\\u003cextra\\u003e\\u003c\\u002fextra\\u003e\",\"legendgroup\":\"4\",\"line\":{\"color\":\"#636efa\",\"dash\":\"solid\",\"width\":5},\"marker\":{\"symbol\":\"circle\"},\"mode\":\"lines\",\"name\":\"4\",\"scene\":\"scene\",\"showlegend\":false,\"x\":[-7.307177366574106,-7.307177366574106],\"y\":[0,150],\"z\":[13.265373193899487,13.265373193899487],\"type\":\"scatter3d\"},{\"hovertemplate\":\"ring=4\\u003cbr\\u003eRing and Wire=Ring: 4 Wire: 19\\u003cbr\\u003ex=%{x}\\u003cbr\\u003ez=%{y}\\u003cbr\\u003ey=%{z}\\u003cextra\\u003e\\u003c\\u002fextra\\u003e\",\"legendgroup\":\"4\",\"line\":{\"color\":\"#636efa\",\"dash\":\"solid\",\"width\":5},\"marker\":{\"symbol\":\"circle\"},\"mode\":\"lines\",\"name\":\"4\",\"scene\":\"scene\",\"showlegend\":false,\"x\":[-8.797784685515436,-8.797784685515436],\"y\":[0,150],\"z\":[12.327365966308863,12.327365966308863],\"type\":\"scatter3d\"},{\"hovertemplate\":\"ring=4\\u003cbr\\u003eRing and Wire=Ring: 4 Wire: 20\\u003cbr\\u003ex=%{x}\\u003cbr\\u003ez=%{y}\\u003cbr\\u003ey=%{z}\\u003cextra\\u003e\\u003c\\u002fextra\\u003e\",\"legendgroup\":\"4\",\"line\":{\"color\":\"#636efa\",\"dash\":\"solid\",\"width\":5},\"marker\":{\"symbol\":\"circle\"},\"mode\":\"lines\",\"name\":\"4\",\"scene\":\"scene\",\"showlegend\":false,\"x\":[-10.169417057854623,-10.169417057854623],\"y\":[0,150],\"z\":[11.2226522597564,11.2226522597564],\"type\":\"scatter3d\"},{\"hovertemplate\":\"ring=4\\u003cbr\\u003eRing and Wire=Ring: 4 Wire: 21\\u003cbr\\u003ex=%{x}\\u003cbr\\u003ez=%{y}\\u003cbr\\u003ey=%{z}\\u003cextra\\u003e\\u003c\\u002fextra\\u003e\",\"legendgroup\":\"4\",\"line\":{\"color\":\"#636efa\",\"dash\":\"solid\",\"width\":5},\"marker\":{\"symbol\":\"circle\"},\"mode\":\"lines\",\"name\":\"4\",\"scene\":\"scene\",\"showlegend\":false,\"x\":[-11.403525508583733,-11.403525508583733],\"y\":[0,150],\"z\":[9.966171432153882,9.966171432153882],\"type\":\"scatter3d\"},{\"hovertemplate\":\"ring=4\\u003cbr\\u003eRing and Wire=Ring: 4 Wire: 22\\u003cbr\\u003ex=%{x}\\u003cbr\\u003ez=%{y}\\u003cbr\\u003ey=%{z}\\u003cextra\\u003e\\u003c\\u002fextra\\u003e\",\"legendgroup\":\"4\",\"line\":{\"color\":\"#636efa\",\"dash\":\"solid\",\"width\":5},\"marker\":{\"symbol\":\"circle\"},\"mode\":\"lines\",\"name\":\"4\",\"scene\":\"scene\",\"showlegend\":false,\"x\":[-12.483420837833108,-12.483420837833108],\"y\":[0,150],\"z\":[8.574915231391746,8.574915231391746],\"type\":\"scatter3d\"},{\"hovertemplate\":\"ring=4\\u003cbr\\u003eRing and Wire=Ring: 4 Wire: 23\\u003cbr\\u003ex=%{x}\\u003cbr\\u003ez=%{y}\\u003cbr\\u003ey=%{z}\\u003cextra\\u003e\\u003c\\u002fextra\\u003e\",\"legendgroup\":\"4\",\"line\":{\"color\":\"#636efa\",\"dash\":\"solid\",\"width\":5},\"marker\":{\"symbol\":\"circle\"},\"mode\":\"lines\",\"name\":\"4\",\"scene\":\"scene\",\"showlegend\":false,\"x\":[-13.394499313671817,-13.394499313671817],\"y\":[0,150],\"z\":[7.067698011095638,7.067698011095638],\"type\":\"scatter3d\"},{\"hovertemplate\":\"ring=4\\u003cbr\\u003eRing and Wire=Ring: 4 Wire: 24\\u003cbr\\u003ex=%{x}\\u003cbr\\u003ez=%{y}\\u003cbr\\u003ey=%{z}\\u003cextra\\u003e\\u003c\\u002fextra\\u003e\",\"legendgroup\":\"4\",\"line\":{\"color\":\"#636efa\",\"dash\":\"solid\",\"width\":5},\"marker\":{\"symbol\":\"circle\"},\"mode\":\"lines\",\"name\":\"4\",\"scene\":\"scene\",\"showlegend\":false,\"x\":[-14.124440162531515,-14.124440162531515],\"y\":[0,150],\"z\":[5.4649022987668046,5.4649022987668046],\"type\":\"scatter3d\"},{\"hovertemplate\":\"ring=4\\u003cbr\\u003eRing and Wire=Ring: 4 Wire: 25\\u003cbr\\u003ex=%{x}\\u003cbr\\u003ez=%{y}\\u003cbr\\u003ey=%{z}\\u003cextra\\u003e\\u003c\\u002fextra\\u003e\",\"legendgroup\":\"4\",\"line\":{\"color\":\"#636efa\",\"dash\":\"solid\",\"width\":5},\"marker\":{\"symbol\":\"circle\"},\"mode\":\"lines\",\"name\":\"4\",\"scene\":\"scene\",\"showlegend\":false,\"x\":[-14.66337218653454,-14.66337218653454],\"y\":[0,150],\"z\":[3.788203157060782,3.788203157060782],\"type\":\"scatter3d\"},{\"hovertemplate\":\"ring=4\\u003cbr\\u003eRing and Wire=Ring: 4 Wire: 26\\u003cbr\\u003ex=%{x}\\u003cbr\\u003ez=%{y}\\u003cbr\\u003ey=%{z}\\u003cextra\\u003e\\u003c\\u002fextra\\u003e\",\"legendgroup\":\"4\",\"line\":{\"color\":\"#636efa\",\"dash\":\"solid\",\"width\":5},\"marker\":{\"symbol\":\"circle\"},\"mode\":\"lines\",\"name\":\"4\",\"scene\":\"scene\",\"showlegend\":false,\"x\":[-15.004007254512652,-15.004007254512652],\"y\":[0,150],\"z\":[2.060275065745273,2.060275065745273],\"type\":\"scatter3d\"},{\"hovertemplate\":\"ring=4\\u003cbr\\u003eRing and Wire=Ring: 4 Wire: 27\\u003cbr\\u003ex=%{x}\\u003cbr\\u003ez=%{y}\\u003cbr\\u003ey=%{z}\\u003cextra\\u003e\\u003c\\u002fextra\\u003e\",\"legendgroup\":\"4\",\"line\":{\"color\":\"#636efa\",\"dash\":\"solid\",\"width\":5},\"marker\":{\"symbol\":\"circle\"},\"mode\":\"lines\",\"name\":\"4\",\"scene\":\"scene\",\"showlegend\":false,\"x\":[-15.141738861479407,-15.141738861479407],\"y\":[0,150],\"z\":[0.3044852882559333,0.3044852882559333],\"type\":\"scatter3d\"},{\"hovertemplate\":\"ring=4\\u003cbr\\u003eRing and Wire=Ring: 4 Wire: 28\\u003cbr\\u003ex=%{x}\\u003cbr\\u003ez=%{y}\\u003cbr\\u003ey=%{z}\\u003cextra\\u003e\\u003c\\u002fextra\\u003e\",\"legendgroup\":\"4\",\"line\":{\"color\":\"#636efa\",\"dash\":\"solid\",\"width\":5},\"marker\":{\"symbol\":\"circle\"},\"mode\":\"lines\",\"name\":\"4\",\"scene\":\"scene\",\"showlegend\":false,\"x\":[-15.074704423708326,-15.074704423708326],\"y\":[0,150],\"z\":[-1.4554221304585924,-1.4554221304585924],\"type\":\"scatter3d\"},{\"hovertemplate\":\"ring=4\\u003cbr\\u003eRing and Wire=Ring: 4 Wire: 29\\u003cbr\\u003ex=%{x}\\u003cbr\\u003ez=%{y}\\u003cbr\\u003ey=%{z}\\u003cextra\\u003e\\u003c\\u002fextra\\u003e\",\"legendgroup\":\"4\",\"line\":{\"color\":\"#636efa\",\"dash\":\"solid\",\"width\":5},\"marker\":{\"symbol\":\"circle\"},\"mode\":\"lines\",\"name\":\"4\",\"scene\":\"scene\",\"showlegend\":false,\"x\":[-14.80381046698282,-14.80381046698282],\"y\":[0,150],\"z\":[-3.195647461415279,-3.195647461415279],\"type\":\"scatter3d\"},{\"hovertemplate\":\"ring=4\\u003cbr\\u003eRing and Wire=Ring: 4 Wire: 30\\u003cbr\\u003ex=%{x}\\u003cbr\\u003ez=%{y}\\u003cbr\\u003ey=%{z}\\u003cextra\\u003e\\u003c\\u002fextra\\u003e\",\"legendgroup\":\"4\",\"line\":{\"color\":\"#636efa\",\"dash\":\"solid\",\"width\":5},\"marker\":{\"symbol\":\"circle\"},\"mode\":\"lines\",\"name\":\"4\",\"scene\":\"scene\",\"showlegend\":false,\"x\":[-14.332720367389975,-14.332720367389975],\"y\":[0,150],\"z\":[-4.892657142106381,-4.892657142106381],\"type\":\"scatter3d\"},{\"hovertemplate\":\"ring=4\\u003cbr\\u003eRing and Wire=Ring: 4 Wire: 31\\u003cbr\\u003ex=%{x}\\u003cbr\\u003ez=%{y}\\u003cbr\\u003ey=%{z}\\u003cextra\\u003e\\u003c\\u002fextra\\u003e\",\"legendgroup\":\"4\",\"line\":{\"color\":\"#636efa\",\"dash\":\"solid\",\"width\":5},\"marker\":{\"symbol\":\"circle\"},\"mode\":\"lines\",\"name\":\"4\",\"scene\":\"scene\",\"showlegend\":false,\"x\":[-13.667804810442947,-13.667804810442947],\"y\":[0,150],\"z\":[-6.523502027564079,-6.523502027564079],\"type\":\"scatter3d\"},{\"hovertemplate\":\"ring=4\\u003cbr\\u003eRing and Wire=Ring: 4 Wire: 32\\u003cbr\\u003ex=%{x}\\u003cbr\\u003ez=%{y}\\u003cbr\\u003ey=%{z}\\u003cextra\\u003e\\u003c\\u002fextra\\u003e\",\"legendgroup\":\"4\",\"line\":{\"color\":\"#636efa\",\"dash\":\"solid\",\"width\":5},\"marker\":{\"symbol\":\"circle\"},\"mode\":\"lines\",\"name\":\"4\",\"scene\":\"scene\",\"showlegend\":false,\"x\":[-12.818055638487337,-12.818055638487337],\"y\":[0,150],\"z\":[-8.066127738180384,-8.066127738180384],\"type\":\"scatter3d\"},{\"hovertemplate\":\"ring=4\\u003cbr\\u003eRing and Wire=Ring: 4 Wire: 33\\u003cbr\\u003ex=%{x}\\u003cbr\\u003ez=%{y}\\u003cbr\\u003ey=%{z}\\u003cextra\\u003e\\u003c\\u002fextra\\u003e\",\"legendgroup\":\"4\",\"line\":{\"color\":\"#636efa\",\"dash\":\"solid\",\"width\":5},\"marker\":{\"symbol\":\"circle\"},\"mode\":\"lines\",\"name\":\"4\",\"scene\":\"scene\",\"showlegend\":false,\"x\":[-11.794964251457616,-11.794964251457616],\"y\":[0,150],\"z\":[-9.499672907360384,-9.499672907360384],\"type\":\"scatter3d\"},{\"hovertemplate\":\"ring=4\\u003cbr\\u003eRing and Wire=Ring: 4 Wire: 34\\u003cbr\\u003ex=%{x}\\u003cbr\\u003ez=%{y}\\u003cbr\\u003ey=%{z}\\u003cextra\\u003e\\u003c\\u002fextra\\u003e\",\"legendgroup\":\"4\",\"line\":{\"color\":\"#636efa\",\"dash\":\"solid\",\"width\":5},\"marker\":{\"symbol\":\"circle\"},\"mode\":\"lines\",\"name\":\"4\",\"scene\":\"scene\",\"showlegend\":false,\"x\":[-10.612366205404774,-10.612366205404774],\"y\":[0,150],\"z\":[-10.80475129572091,-10.80475129572091],\"type\":\"scatter3d\"},{\"hovertemplate\":\"ring=4\\u003cbr\\u003eRing and Wire=Ring: 4 Wire: 35\\u003cbr\\u003ex=%{x}\\u003cbr\\u003ez=%{y}\\u003cbr\\u003ey=%{z}\\u003cextra\\u003e\\u003c\\u002fextra\\u003e\",\"legendgroup\":\"4\",\"line\":{\"color\":\"#636efa\",\"dash\":\"solid\",\"width\":5},\"marker\":{\"symbol\":\"circle\"},\"mode\":\"lines\",\"name\":\"4\",\"scene\":\"scene\",\"showlegend\":false,\"x\":[-9.286254110333529,-9.286254110333529],\"y\":[0,150],\"z\":[-11.963713956724044,-11.963713956724044],\"type\":\"scatter3d\"},{\"hovertemplate\":\"ring=4\\u003cbr\\u003eRing and Wire=Ring: 4 Wire: 36\\u003cbr\\u003ex=%{x}\\u003cbr\\u003ez=%{y}\\u003cbr\\u003ey=%{z}\\u003cextra\\u003e\\u003c\\u002fextra\\u003e\",\"legendgroup\":\"4\",\"line\":{\"color\":\"#636efa\",\"dash\":\"solid\",\"width\":5},\"marker\":{\"symbol\":\"circle\"},\"mode\":\"lines\",\"name\":\"4\",\"scene\":\"scene\",\"showlegend\":false,\"x\":[-7.8345613575849145,-7.8345613575849145],\"y\":[0,150],\"z\":[-12.960887908404935,-12.960887908404935],\"type\":\"scatter3d\"},{\"hovertemplate\":\"ring=4\\u003cbr\\u003eRing and Wire=Ring: 4 Wire: 37\\u003cbr\\u003ex=%{x}\\u003cbr\\u003ez=%{y}\\u003cbr\\u003ey=%{z}\\u003cextra\\u003e\\u003c\\u002fextra\\u003e\",\"legendgroup\":\"4\",\"line\":{\"color\":\"#636efa\",\"dash\":\"solid\",\"width\":5},\"marker\":{\"symbol\":\"circle\"},\"mode\":\"lines\",\"name\":\"4\",\"scene\":\"scene\",\"showlegend\":false,\"x\":[-6.276919601480431,-6.276919601480431],\"y\":[0,150],\"z\":[-13.782788083568242,-13.782788083568242],\"type\":\"scatter3d\"},{\"hovertemplate\":\"ring=4\\u003cbr\\u003eRing and Wire=Ring: 4 Wire: 38\\u003cbr\\u003ex=%{x}\\u003cbr\\u003ez=%{y}\\u003cbr\\u003ey=%{z}\\u003cextra\\u003e\\u003c\\u002fextra\\u003e\",\"legendgroup\":\"4\",\"line\":{\"color\":\"#636efa\",\"dash\":\"solid\",\"width\":5},\"marker\":{\"symbol\":\"circle\"},\"mode\":\"lines\",\"name\":\"4\",\"scene\":\"scene\",\"showlegend\":false,\"x\":[-4.63439327487248,-4.63439327487248],\"y\":[0,150],\"z\":[-14.418299692190363,-14.418299692190363],\"type\":\"scatter3d\"},{\"hovertemplate\":\"ring=4\\u003cbr\\u003eRing and Wire=Ring: 4 Wire: 39\\u003cbr\\u003ex=%{x}\\u003cbr\\u003ez=%{y}\\u003cbr\\u003ey=%{z}\\u003cextra\\u003e\\u003c\\u002fextra\\u003e\",\"legendgroup\":\"4\",\"line\":{\"color\":\"#636efa\",\"dash\":\"solid\",\"width\":5},\"marker\":{\"symbol\":\"circle\"},\"mode\":\"lines\",\"name\":\"4\",\"scene\":\"scene\",\"showlegend\":false,\"x\":[-2.929194728822835,-2.929194728822835],\"y\":[0,150],\"z\":[-14.858828529888772,-14.858828529888772],\"type\":\"scatter3d\"},{\"hovertemplate\":\"ring=4\\u003cbr\\u003eRing and Wire=Ring: 4 Wire: 40\\u003cbr\\u003ex=%{x}\\u003cbr\\u003ez=%{y}\\u003cbr\\u003ey=%{z}\\u003cextra\\u003e\\u003c\\u002fextra\\u003e\",\"legendgroup\":\"4\",\"line\":{\"color\":\"#636efa\",\"dash\":\"solid\",\"width\":5},\"marker\":{\"symbol\":\"circle\"},\"mode\":\"lines\",\"name\":\"4\",\"scene\":\"scene\",\"showlegend\":false,\"x\":[-1.1843838486565537,-1.1843838486565537],\"y\":[0,150],\"z\":[-15.098417199794204,-15.098417199794204],\"type\":\"scatter3d\"},{\"hovertemplate\":\"ring=4\\u003cbr\\u003eRing and Wire=Ring: 4 Wire: 41\\u003cbr\\u003ex=%{x}\\u003cbr\\u003ez=%{y}\\u003cbr\\u003ey=%{z}\\u003cextra\\u003e\\u003c\\u002fextra\\u003e\",\"legendgroup\":\"4\",\"line\":{\"color\":\"#636efa\",\"dash\":\"solid\",\"width\":5},\"marker\":{\"symbol\":\"circle\"},\"mode\":\"lines\",\"name\":\"4\",\"scene\":\"scene\",\"showlegend\":false,\"x\":[0.5764437914313999,0.5764437914313999],\"y\":[0,150],\"z\":[-15.133825676124335,-15.133825676124335],\"type\":\"scatter3d\"},{\"hovertemplate\":\"ring=4\\u003cbr\\u003eRing and Wire=Ring: 4 Wire: 42\\u003cbr\\u003ex=%{x}\\u003cbr\\u003ez=%{y}\\u003cbr\\u003ey=%{z}\\u003cextra\\u003e\\u003c\\u002fextra\\u003e\",\"legendgroup\":\"4\",\"line\":{\"color\":\"#636efa\",\"dash\":\"solid\",\"width\":5},\"marker\":{\"symbol\":\"circle\"},\"mode\":\"lines\",\"name\":\"4\",\"scene\":\"scene\",\"showlegend\":false,\"x\":[2.3294760180423997,2.3294760180423997],\"y\":[0,150],\"z\":[-14.964575119974684,-14.964575119974684],\"type\":\"scatter3d\"},{\"hovertemplate\":\"ring=4\\u003cbr\\u003eRing and Wire=Ring: 4 Wire: 43\\u003cbr\\u003ex=%{x}\\u003cbr\\u003ez=%{y}\\u003cbr\\u003ey=%{z}\\u003cextra\\u003e\\u003c\\u002fextra\\u003e\",\"legendgroup\":\"4\",\"line\":{\"color\":\"#636efa\",\"dash\":\"solid\",\"width\":5},\"marker\":{\"symbol\":\"circle\"},\"mode\":\"lines\",\"name\":\"4\",\"scene\":\"scene\",\"showlegend\":false,\"x\":[4.0510060773732945,4.0510060773732945],\"y\":[0,150],\"z\":[-14.592954354793433,-14.592954354793433],\"type\":\"scatter3d\"},{\"hovertemplate\":\"ring=4\\u003cbr\\u003eRing and Wire=Ring: 4 Wire: 44\\u003cbr\\u003ex=%{x}\\u003cbr\\u003ez=%{y}\\u003cbr\\u003ey=%{z}\\u003cextra\\u003e\\u003c\\u002fextra\\u003e\",\"legendgroup\":\"4\",\"line\":{\"color\":\"#636efa\",\"dash\":\"solid\",\"width\":5},\"marker\":{\"symbol\":\"circle\"},\"mode\":\"lines\",\"name\":\"4\",\"scene\":\"scene\",\"showlegend\":false,\"x\":[5.71775322839614,5.71775322839614],\"y\":[0,150],\"z\":[-14.02398891397043,-14.02398891397043],\"type\":\"scatter3d\"},{\"hovertemplate\":\"ring=4\\u003cbr\\u003eRing and Wire=Ring: 4 Wire: 45\\u003cbr\\u003ex=%{x}\\u003cbr\\u003ez=%{y}\\u003cbr\\u003ey=%{z}\\u003cextra\\u003e\\u003c\\u002fextra\\u003e\",\"legendgroup\":\"4\",\"line\":{\"color\":\"#636efa\",\"dash\":\"solid\",\"width\":5},\"marker\":{\"symbol\":\"circle\"},\"mode\":\"lines\",\"name\":\"4\",\"scene\":\"scene\",\"showlegend\":false,\"x\":[7.307177574946111,7.307177574946111],\"y\":[0,150],\"z\":[-13.265373079118607,-13.265373079118607],\"type\":\"scatter3d\"},{\"hovertemplate\":\"ring=4\\u003cbr\\u003eRing and Wire=Ring: 4 Wire: 46\\u003cbr\\u003ex=%{x}\\u003cbr\\u003ez=%{y}\\u003cbr\\u003ey=%{z}\\u003cextra\\u003e\\u003c\\u002fextra\\u003e\",\"legendgroup\":\"4\",\"line\":{\"color\":\"#636efa\",\"dash\":\"solid\",\"width\":5},\"marker\":{\"symbol\":\"circle\"},\"mode\":\"lines\",\"name\":\"4\",\"scene\":\"scene\",\"showlegend\":false,\"x\":[8.797784879153252,8.797784879153252],\"y\":[0,150],\"z\":[-12.32736582811358,-12.32736582811358],\"type\":\"scatter3d\"},{\"hovertemplate\":\"ring=4\\u003cbr\\u003eRing and Wire=Ring: 4 Wire: 47\\u003cbr\\u003ex=%{x}\\u003cbr\\u003ez=%{y}\\u003cbr\\u003ey=%{z}\\u003cextra\\u003e\\u003c\\u002fextra\\u003e\",\"legendgroup\":\"4\",\"line\":{\"color\":\"#636efa\",\"dash\":\"solid\",\"width\":5},\"marker\":{\"symbol\":\"circle\"},\"mode\":\"lines\",\"name\":\"4\",\"scene\":\"scene\",\"showlegend\":false,\"x\":[10.16941723413964,10.16941723413964],\"y\":[0,150],\"z\":[-11.222652100015559,-11.222652100015559],\"type\":\"scatter3d\"},{\"hovertemplate\":\"ring=4\\u003cbr\\u003eRing and Wire=Ring: 4 Wire: 48\\u003cbr\\u003ex=%{x}\\u003cbr\\u003ez=%{y}\\u003cbr\\u003ey=%{z}\\u003cextra\\u003e\\u003c\\u002fextra\\u003e\",\"legendgroup\":\"4\",\"line\":{\"color\":\"#636efa\",\"dash\":\"solid\",\"width\":5},\"marker\":{\"symbol\":\"circle\"},\"mode\":\"lines\",\"name\":\"4\",\"scene\":\"scene\",\"showlegend\":false,\"x\":[11.40352566513199,11.40352566513199],\"y\":[0,150],\"z\":[-9.966171253027715,-9.966171253027715],\"type\":\"scatter3d\"},{\"hovertemplate\":\"ring=4\\u003cbr\\u003eRing and Wire=Ring: 4 Wire: 49\\u003cbr\\u003ex=%{x}\\u003cbr\\u003ez=%{y}\\u003cbr\\u003ey=%{z}\\u003cextra\\u003e\\u003c\\u002fextra\\u003e\",\"legendgroup\":\"4\",\"line\":{\"color\":\"#636efa\",\"dash\":\"solid\",\"width\":5},\"marker\":{\"symbol\":\"circle\"},\"mode\":\"lines\",\"name\":\"4\",\"scene\":\"scene\",\"showlegend\":false,\"x\":[12.483420972527567,12.483420972527567],\"y\":[0,150],\"z\":[-8.574915035302618,-8.574915035302618],\"type\":\"scatter3d\"},{\"hovertemplate\":\"ring=4\\u003cbr\\u003eRing and Wire=Ring: 4 Wire: 50\\u003cbr\\u003ex=%{x}\\u003cbr\\u003ez=%{y}\\u003cbr\\u003ey=%{z}\\u003cextra\\u003e\\u003c\\u002fextra\\u003e\",\"legendgroup\":\"4\",\"line\":{\"color\":\"#636efa\",\"dash\":\"solid\",\"width\":5},\"marker\":{\"symbol\":\"circle\"},\"mode\":\"lines\",\"name\":\"4\",\"scene\":\"scene\",\"showlegend\":false,\"x\":[13.39449942469096,13.39449942469096],\"y\":[0,150],\"z\":[-7.067697800695328,-7.067697800695328],\"type\":\"scatter3d\"},{\"hovertemplate\":\"ring=4\\u003cbr\\u003eRing and Wire=Ring: 4 Wire: 51\\u003cbr\\u003ex=%{x}\\u003cbr\\u003ez=%{y}\\u003cbr\\u003ey=%{z}\\u003cextra\\u003e\\u003c\\u002fextra\\u003e\",\"legendgroup\":\"4\",\"line\":{\"color\":\"#636efa\",\"dash\":\"solid\",\"width\":5},\"marker\":{\"symbol\":\"circle\"},\"mode\":\"lines\",\"name\":\"4\",\"scene\":\"scene\",\"showlegend\":false,\"x\":[14.124440248374002,14.124440248374002],\"y\":[0,150],\"z\":[-5.4649020769006045,-5.4649020769006045],\"type\":\"scatter3d\"},{\"hovertemplate\":\"ring=4\\u003cbr\\u003eRing and Wire=Ring: 4 Wire: 52\\u003cbr\\u003ex=%{x}\\u003cbr\\u003ez=%{y}\\u003cbr\\u003ey=%{z}\\u003cextra\\u003e\\u003c\\u002fextra\\u003e\",\"legendgroup\":\"4\",\"line\":{\"color\":\"#636efa\",\"dash\":\"solid\",\"width\":5},\"marker\":{\"symbol\":\"circle\"},\"mode\":\"lines\",\"name\":\"4\",\"scene\":\"scene\",\"showlegend\":false,\"x\":[14.663372246039497,14.663372246039497],\"y\":[0,150],\"z\":[-3.788202926729063,-3.788202926729063],\"type\":\"scatter3d\"},{\"hovertemplate\":\"ring=4\\u003cbr\\u003eRing and Wire=Ring: 4 Wire: 53\\u003cbr\\u003ex=%{x}\\u003cbr\\u003ez=%{y}\\u003cbr\\u003ey=%{z}\\u003cextra\\u003e\\u003c\\u002fextra\\u003e\",\"legendgroup\":\"4\",\"line\":{\"color\":\"#636efa\",\"dash\":\"solid\",\"width\":5},\"marker\":{\"symbol\":\"circle\"},\"mode\":\"lines\",\"name\":\"4\",\"scene\":\"scene\",\"showlegend\":false,\"x\":[15.004007286875376,15.004007286875376],\"y\":[0,150],\"z\":[-2.060274830062865,-2.060274830062865],\"type\":\"scatter3d\"},{\"hovertemplate\":\"ring=4\\u003cbr\\u003eRing and Wire=Ring: 4 Wire: 54\\u003cbr\\u003ex=%{x}\\u003cbr\\u003ez=%{y}\\u003cbr\\u003ey=%{z}\\u003cextra\\u003e\\u003c\\u002fextra\\u003e\",\"legendgroup\":\"4\",\"line\":{\"color\":\"#636efa\",\"dash\":\"solid\",\"width\":5},\"marker\":{\"symbol\":\"circle\"},\"mode\":\"lines\",\"name\":\"4\",\"scene\":\"scene\",\"showlegend\":false,\"x\":[15.14173886626225,15.14173886626225],\"y\":[0,150],\"z\":[-0.304485050410049,-0.304485050410049],\"type\":\"scatter3d\"},{\"hovertemplate\":\"ring=5\\u003cbr\\u003eRing and Wire=Ring: 5 Wire: 1\\u003cbr\\u003ex=%{x}\\u003cbr\\u003ez=%{y}\\u003cbr\\u003ey=%{z}\\u003cextra\\u003e\\u003c\\u002fextra\\u003e\",\"legendgroup\":\"5\",\"line\":{\"color\":\"#EF553B\",\"dash\":\"solid\",\"width\":5},\"marker\":{\"symbol\":\"circle\"},\"mode\":\"lines\",\"name\":\"5\",\"scene\":\"scene\",\"showlegend\":true,\"x\":[12.789378477960556,18.64887320529633],\"y\":[0,150],\"z\":[-13.611143823008844,1.0251664235298747],\"type\":\"scatter3d\"},{\"hovertemplate\":\"ring=5\\u003cbr\\u003eRing and Wire=Ring: 5 Wire: 2\\u003cbr\\u003ex=%{x}\\u003cbr\\u003ez=%{y}\\u003cbr\\u003ey=%{z}\\u003cextra\\u003e\\u003c\\u002fextra\\u003e\",\"legendgroup\":\"5\",\"line\":{\"color\":\"#EF553B\",\"dash\":\"solid\",\"width\":5},\"marker\":{\"symbol\":\"circle\"},\"mode\":\"lines\",\"name\":\"5\",\"scene\":\"scene\",\"showlegend\":false,\"x\":[14.025288658629613,18.46698139954897],\"y\":[0,150],\"z\":[-12.333803795474777,2.7932124895655175],\"type\":\"scatter3d\"},{\"hovertemplate\":\"ring=5\\u003cbr\\u003eRing and Wire=Ring: 5 Wire: 3\\u003cbr\\u003ex=%{x}\\u003cbr\\u003ez=%{y}\\u003cbr\\u003ey=%{z}\\u003cextra\\u003e\\u003c\\u002fextra\\u003e\",\"legendgroup\":\"5\",\"line\":{\"color\":\"#EF553B\",\"dash\":\"solid\",\"width\":5},\"marker\":{\"symbol\":\"circle\"},\"mode\":\"lines\",\"name\":\"5\",\"scene\":\"scene\",\"showlegend\":false,\"x\":[15.134183653336441,18.11784975056448],\"y\":[0,150],\"z\":[-10.944766930832127,4.535962790756],\"type\":\"scatter3d\"},{\"hovertemplate\":\"ring=5\\u003cbr\\u003eRing and Wire=Ring: 5 Wire: 4\\u003cbr\\u003ex=%{x}\\u003cbr\\u003ez=%{y}\\u003cbr\\u003ey=%{z}\\u003cextra\\u003e\\u003c\\u002fextra\\u003e\",\"legendgroup\":\"5\",\"line\":{\"color\":\"#EF553B\",\"dash\":\"solid\",\"width\":5},\"marker\":{\"symbol\":\"circle\"},\"mode\":\"lines\",\"name\":\"5\",\"scene\":\"scene\",\"showlegend\":false,\"x\":[16.10602113729234,17.604640048620443],\"y\":[0,150],\"z\":[-9.456612562024773,6.237634710502181],\"type\":\"scatter3d\"},{\"hovertemplate\":\"ring=5\\u003cbr\\u003eRing and Wire=Ring: 5 Wire: 5\\u003cbr\\u003ex=%{x}\\u003cbr\\u003ez=%{y}\\u003cbr\\u003ey=%{z}\\u003cextra\\u003e\\u003c\\u002fextra\\u003e\",\"legendgroup\":\"5\",\"line\":{\"color\":\"#EF553B\",\"dash\":\"solid\",\"width\":5},\"marker\":{\"symbol\":\"circle\"},\"mode\":\"lines\",\"name\":\"5\",\"scene\":\"scene\",\"showlegend\":false,\"x\":[16.931999999749852,16.932000000250145],\"y\":[0,150],\"z\":[-7.882817645463042,7.882817644388426],\"type\":\"scatter3d\"},{\"hovertemplate\":\"ring=5\\u003cbr\\u003eRing and Wire=Ring: 5 Wire: 6\\u003cbr\\u003ex=%{x}\\u003cbr\\u003ez=%{y}\\u003cbr\\u003ey=%{z}\\u003cextra\\u003e\\u003c\\u002fextra\\u003e\",\"legendgroup\":\"5\",\"line\":{\"color\":\"#EF553B\",\"dash\":\"solid\",\"width\":5},\"marker\":{\"symbol\":\"circle\"},\"mode\":\"lines\",\"name\":\"5\",\"scene\":\"scene\",\"showlegend\":false,\"x\":[17.604640048224564,16.106021137892522],\"y\":[0,150],\"z\":[-6.237634711619489,9.45661256100258],\"type\":\"scatter3d\"},{\"hovertemplate\":\"ring=5\\u003cbr\\u003eRing and Wire=Ring: 5 Wire: 7\\u003cbr\\u003ex=%{x}\\u003cbr\\u003ez=%{y}\\u003cbr\\u003ey=%{z}\\u003cextra\\u003e\\u003c\\u002fextra\\u003e\",\"legendgroup\":\"5\",\"line\":{\"color\":\"#EF553B\",\"dash\":\"solid\",\"width\":5},\"marker\":{\"symbol\":\"circle\"},\"mode\":\"lines\",\"name\":\"5\",\"scene\":\"scene\",\"showlegend\":false,\"x\":[18.1178497502766,15.134183654031068],\"y\":[0,150],\"z\":[-4.535962791905877,10.944766929871612],\"type\":\"scatter3d\"},{\"hovertemplate\":\"ring=5\\u003cbr\\u003eRing and Wire=Ring: 5 Wire: 8\\u003cbr\\u003ex=%{x}\\u003cbr\\u003ez=%{y}\\u003cbr\\u003ey=%{z}\\u003cextra\\u003e\\u003c\\u002fextra\\u003e\",\"legendgroup\":\"5\",\"line\":{\"color\":\"#EF553B\",\"dash\":\"solid\",\"width\":5},\"marker\":{\"symbol\":\"circle\"},\"mode\":\"lines\",\"name\":\"5\",\"scene\":\"scene\",\"showlegend\":false,\"x\":[18.466981399371697,14.025288659412396],\"y\":[0,150],\"z\":[-2.7932124907375533,12.33380379458464],\"type\":\"scatter3d\"},{\"hovertemplate\":\"ring=5\\u003cbr\\u003eRing and Wire=Ring: 5 Wire: 9\\u003cbr\\u003ex=%{x}\\u003cbr\\u003ez=%{y}\\u003cbr\\u003ey=%{z}\\u003cextra\\u003e\\u003c\\u002fextra\\u003e\",\"legendgroup\":\"5\",\"line\":{\"color\":\"#EF553B\",\"dash\":\"solid\",\"width\":5},\"marker\":{\"symbol\":\"circle\"},\"mode\":\"lines\",\"name\":\"5\",\"scene\":\"scene\",\"showlegend\":false,\"x\":[18.648873205231265,12.789378478824409],\"y\":[0,150],\"z\":[-1.025166424713455,13.611143822197146],\"type\":\"scatter3d\"},{\"hovertemplate\":\"ring=5\\u003cbr\\u003eRing and Wire=Ring: 5 Wire: 10\\u003cbr\\u003ex=%{x}\\u003cbr\\u003ez=%{y}\\u003cbr\\u003ey=%{z}\\u003cextra\\u003e\\u003c\\u002fextra\\u003e\",\"legendgroup\":\"5\",\"line\":{\"color\":\"#EF553B\",\"dash\":\"solid\",\"width\":5},\"marker\":{\"symbol\":\"circle\"},\"mode\":\"lines\",\"name\":\"5\",\"scene\":\"scene\",\"showlegend\":false,\"x\":[18.661877927494807,11.437645706247936],\"y\":[0,150],\"z\":[0.7521637072037972,14.76521922361807],\"type\":\"scatter3d\"},{\"hovertemplate\":\"ring=5\\u003cbr\\u003eRing and Wire=Ring: 5 Wire: 11\\u003cbr\\u003ex=%{x}\\u003cbr\\u003ez=%{y}\\u003cbr\\u003ey=%{z}\\u003cextra\\u003e\\u003c\\u002fextra\\u003e\",\"legendgroup\":\"5\",\"line\":{\"color\":\"#EF553B\",\"dash\":\"solid\",\"width\":5},\"marker\":{\"symbol\":\"circle\"},\"mode\":\"lines\",\"name\":\"5\",\"scene\":\"scene\",\"showlegend\":false,\"x\":[18.505877793383668,9.982331842992432],\"y\":[0,150],\"z\":[2.5226821281131757,15.78557851329915],\"type\":\"scatter3d\"},{\"hovertemplate\":\"ring=5\\u003cbr\\u003eRing and Wire=Ring: 5 Wire: 12\\u003cbr\\u003ex=%{x}\\u003cbr\\u003ez=%{y}\\u003cbr\\u003ey=%{z}\\u003cextra\\u003e\\u003c\\u002fextra\\u003e\",\"legendgroup\":\"5\",\"line\":{\"color\":\"#EF553B\",\"dash\":\"solid\",\"width\":5},\"marker\":{\"symbol\":\"circle\"},\"mode\":\"lines\",\"name\":\"5\",\"scene\":\"scene\",\"showlegend\":false,\"x\":[18.18228556426958,8.436616436764456],\"y\":[0,150],\"z\":[4.270354749023377,16.66298115950649],\"type\":\"scatter3d\"},{\"hovertemplate\":\"ring=5\\u003cbr\\u003eRing and Wire=Ring: 5 Wire: 13\\u003cbr\\u003ex=%{x}\\u003cbr\\u003ez=%{y}\\u003cbr\\u003ey=%{z}\\u003cextra\\u003e\\u003c\\u002fextra\\u003e\",\"legendgroup\":\"5\",\"line\":{\"color\":\"#EF553B\",\"dash\":\"solid\",\"width\":5},\"marker\":{\"symbol\":\"circle\"},\"mode\":\"lines\",\"name\":\"5\",\"scene\":\"scene\",\"showlegend\":false,\"x\":[17.694031741488892,6.814497725642771],\"y\":[0,150],\"z\":[5.979354376045629,17.389481268006875],\"type\":\"scatter3d\"},{\"hovertemplate\":\"ring=5\\u003cbr\\u003eRing and Wire=Ring: 5 Wire: 14\\u003cbr\\u003ex=%{x}\\u003cbr\\u003ez=%{y}\\u003cbr\\u003ey=%{z}\\u003cextra\\u003e\\u003c\\u002fextra\\u003e\",\"legendgroup\":\"5\",\"line\":{\"color\":\"#EF553B\",\"dash\":\"solid\",\"width\":5},\"marker\":{\"symbol\":\"circle\"},\"mode\":\"lines\",\"name\":\"5\",\"scene\":\"scene\",\"showlegend\":false,\"x\":[17.045538027268687,5.130665867866591],\"y\":[0,150],\"z\":[7.634204043912478,17.9584995413164],\"type\":\"scatter3d\"},{\"hovertemplate\":\"ring=5\\u003cbr\\u003eRing and Wire=Ring: 5 Wire: 15\\u003cbr\\u003ex=%{x}\\u003cbr\\u003ez=%{y}\\u003cbr\\u003ey=%{z}\\u003cextra\\u003e\\u003c\\u002fextra\\u003e\",\"legendgroup\":\"5\",\"line\":{\"color\":\"#EF553B\",\"dash\":\"solid\",\"width\":5},\"marker\":{\"symbol\":\"circle\"},\"mode\":\"lines\",\"name\":\"5\",\"scene\":\"scene\",\"showlegend\":false,\"x\":[16.242677281106673,3.400369905487741],\"y\":[0,150],\"z\":[9.219917177771917,18.36488286183731],\"type\":\"scatter3d\"},{\"hovertemplate\":\"ring=5\\u003cbr\\u003eRing and Wire=Ring: 5 Wire: 16\\u003cbr\\u003ex=%{x}\\u003cbr\\u003ez=%{y}\\u003cbr\\u003ey=%{z}\\u003cextra\\u003e\\u003c\\u002fextra\\u003e\",\"legendgroup\":\"5\",\"line\":{\"color\":\"#EF553B\",\"dash\":\"solid\",\"width\":5},\"marker\":{\"symbol\":\"circle\"},\"mode\":\"lines\",\"name\":\"5\",\"scene\":\"scene\",\"showlegend\":false,\"x\":[15.292720334246155,1.6392796666844909],\"y\":[0,150],\"z\":[10.722133313929957,18.60495095928896],\"type\":\"scatter3d\"},{\"hovertemplate\":\"ring=5\\u003cbr\\u003eRing and Wire=Ring: 5 Wire: 17\\u003cbr\\u003ex=%{x}\\u003cbr\\u003ez=%{y}\\u003cbr\\u003ey=%{z}\\u003cextra\\u003e\\u003c\\u002fextra\\u003e\",\"legendgroup\":\"5\",\"line\":{\"color\":\"#EF553B\",\"dash\":\"solid\",\"width\":5},\"marker\":{\"symbol\":\"circle\"},\"mode\":\"lines\",\"name\":\"5\",\"scene\":\"scene\",\"showlegend\":false,\"x\":[14.20427014390238,-0.1366561426289925],\"y\":[0,150],\"z\":[12.12724815043363,18.676529739805364],\"type\":\"scatter3d\"},{\"hovertemplate\":\"ring=5\\u003cbr\\u003eRing and Wire=Ring: 5 Wire: 18\\u003cbr\\u003ex=%{x}\\u003cbr\\u003ez=%{y}\\u003cbr\\u003ey=%{z}\\u003cextra\\u003e\\u003c\\u002fextra\\u003e\",\"legendgroup\":\"5\",\"line\":{\"color\":\"#EF553B\",\"dash\":\"solid\",\"width\":5},\"marker\":{\"symbol\":\"circle\"},\"mode\":\"lines\",\"name\":\"5\",\"scene\":\"scene\",\"showlegend\":false,\"x\":[12.987183883549775,-1.9113543727530997],\"y\":[0,150],\"z\":[13.422536749736144,18.57897097486591],\"type\":\"scatter3d\"},{\"hovertemplate\":\"ring=5\\u003cbr\\u003eRing and Wire=Ring: 5 Wire: 19\\u003cbr\\u003ex=%{x}\\u003cbr\\u003ez=%{y}\\u003cbr\\u003ey=%{z}\\u003cextra\\u003e\\u003c\\u002fextra\\u003e\",\"legendgroup\":\"5\",\"line\":{\"color\":\"#EF553B\",\"dash\":\"solid\",\"width\":5},\"marker\":{\"symbol\":\"circle\"},\"mode\":\"lines\",\"name\":\"5\",\"scene\":\"scene\",\"showlegend\":false,\"x\":[11.652483674832576,-3.668743081697006],\"y\":[0,150],\"z\":[14.596268777701813,18.313158171753248],\"type\":\"scatter3d\"},{\"hovertemplate\":\"ring=5\\u003cbr\\u003eRing and Wire=Ring: 5 Wire: 20\\u003cbr\\u003ex=%{x}\\u003cbr\\u003ez=%{y}\\u003cbr\\u003ey=%{z}\\u003cextra\\u003e\\u003c\\u002fextra\\u003e\",\"legendgroup\":\"5\",\"line\":{\"color\":\"#EF553B\",\"dash\":\"solid\",\"width\":5},\"marker\":{\"symbol\":\"circle\"},\"mode\":\"lines\",\"name\":\"5\",\"scene\":\"scene\",\"showlegend\":false,\"x\":[10.212256769524352,-5.392907085174146],\"y\":[0,150],\"z\":[15.637814735328481,17.881498572374493],\"type\":\"scatter3d\"},{\"hovertemplate\":\"ring=5\\u003cbr\\u003eRing and Wire=Ring: 5 Wire: 21\\u003cbr\\u003ex=%{x}\\u003cbr\\u003ez=%{y}\\u003cbr\\u003ey=%{z}\\u003cextra\\u003e\\u003c\\u002fextra\\u003e\",\"legendgroup\":\"5\",\"line\":{\"color\":\"#EF553B\",\"dash\":\"solid\",\"width\":5},\"marker\":{\"symbol\":\"circle\"},\"mode\":\"lines\",\"name\":\"5\",\"scene\":\"scene\",\"showlegend\":false,\"x\":[8.679546085504237,-7.068232086975625],\"y\":[0,150],\"z\":[16.53774222113649,17.287901352905756],\"type\":\"scatter3d\"},{\"hovertemplate\":\"ring=5\\u003cbr\\u003eRing and Wire=Ring: 5 Wire: 22\\u003cbr\\u003ex=%{x}\\u003cbr\\u003ez=%{y}\\u003cbr\\u003ey=%{z}\\u003cextra\\u003e\\u003c\\u002fextra\\u003e\",\"legendgroup\":\"5\",\"line\":{\"color\":\"#EF553B\",\"dash\":\"solid\",\"width\":5},\"marker\":{\"symbol\":\"circle\"},\"mode\":\"lines\",\"name\":\"5\",\"scene\":\"scene\",\"showlegend\":false,\"x\":[7.068232088072831,-8.67954608445464],\"y\":[0,150],\"z\":[17.287901352457155,16.537742221687353],\"type\":\"scatter3d\"},{\"hovertemplate\":\"ring=5\\u003cbr\\u003eRing and Wire=Ring: 5 Wire: 23\\u003cbr\\u003ex=%{x}\\u003cbr\\u003ez=%{y}\\u003cbr\\u003ey=%{z}\\u003cextra\\u003e\\u003c\\u002fextra\\u003e\",\"legendgroup\":\"5\",\"line\":{\"color\":\"#EF553B\",\"dash\":\"solid\",\"width\":5},\"marker\":{\"symbol\":\"circle\"},\"mode\":\"lines\",\"name\":\"5\",\"scene\":\"scene\",\"showlegend\":false,\"x\":[5.392907086309027,-10.212256768531871],\"y\":[0,150],\"z\":[17.88149857203222,15.637814735976619],\"type\":\"scatter3d\"},{\"hovertemplate\":\"ring=5\\u003cbr\\u003eRing and Wire=Ring: 5 Wire: 24\\u003cbr\\u003ex=%{x}\\u003cbr\\u003ez=%{y}\\u003cbr\\u003ey=%{z}\\u003cextra\\u003e\\u003c\\u002fextra\\u003e\",\"legendgroup\":\"5\",\"line\":{\"color\":\"#EF553B\",\"dash\":\"solid\",\"width\":5},\"marker\":{\"symbol\":\"circle\"},\"mode\":\"lines\",\"name\":\"5\",\"scene\":\"scene\",\"showlegend\":false,\"x\":[3.6687430828592817,-11.652483673906199],\"y\":[0,150],\"z\":[18.313158171520406,14.596268778441356],\"type\":\"scatter3d\"},{\"hovertemplate\":\"ring=5\\u003cbr\\u003eRing and Wire=Ring: 5 Wire: 25\\u003cbr\\u003ex=%{x}\\u003cbr\\u003ez=%{y}\\u003cbr\\u003ey=%{z}\\u003cextra\\u003e\\u003c\\u002fextra\\u003e\",\"legendgroup\":\"5\",\"line\":{\"color\":\"#EF553B\",\"dash\":\"solid\",\"width\":5},\"marker\":{\"symbol\":\"circle\"},\"mode\":\"lines\",\"name\":\"5\",\"scene\":\"scene\",\"showlegend\":false,\"x\":[1.9113543739322418,-12.987183882697895],\"y\":[0,150],\"z\":[18.578970974744607,13.422536750560397],\"type\":\"scatter3d\"},{\"hovertemplate\":\"ring=5\\u003cbr\\u003eRing and Wire=Ring: 5 Wire: 26\\u003cbr\\u003ex=%{x}\\u003cbr\\u003ez=%{y}\\u003cbr\\u003ey=%{z}\\u003cextra\\u003e\\u003c\\u002fextra\\u003e\",\"legendgroup\":\"5\",\"line\":{\"color\":\"#EF553B\",\"dash\":\"solid\",\"width\":5},\"marker\":{\"symbol\":\"circle\"},\"mode\":\"lines\",\"name\":\"5\",\"scene\":\"scene\",\"showlegend\":false,\"x\":[0.13665614381432611,-14.204270143132705],\"y\":[0,150],\"z\":[18.676529739796692,12.127248151335126],\"type\":\"scatter3d\"},{\"hovertemplate\":\"ring=5\\u003cbr\\u003eRing and Wire=Ring: 5 Wire: 27\\u003cbr\\u003ex=%{x}\\u003cbr\\u003ez=%{y}\\u003cbr\\u003ey=%{z}\\u003cextra\\u003e\\u003c\\u002fextra\\u003e\",\"legendgroup\":\"5\",\"line\":{\"color\":\"#EF553B\",\"dash\":\"solid\",\"width\":5},\"marker\":{\"symbol\":\"circle\"},\"mode\":\"lines\",\"name\":\"5\",\"scene\":\"scene\",\"showlegend\":false,\"x\":[-1.6392796655036923,-15.292720333565654],\"y\":[0,150],\"z\":[18.604950959393,10.722133314900537],\"type\":\"scatter3d\"},{\"hovertemplate\":\"ring=5\\u003cbr\\u003eRing and Wire=Ring: 5 Wire: 28\\u003cbr\\u003ex=%{x}\\u003cbr\\u003ez=%{y}\\u003cbr\\u003ey=%{z}\\u003cextra\\u003e\\u003c\\u002fextra\\u003e\",\"legendgroup\":\"5\",\"line\":{\"color\":\"#EF553B\",\"dash\":\"solid\",\"width\":5},\"marker\":{\"symbol\":\"circle\"},\"mode\":\"lines\",\"name\":\"5\",\"scene\":\"scene\",\"showlegend\":false,\"x\":[-3.400369904322182,-16.242677280521512],\"y\":[0,150],\"z\":[18.364882862053122,9.219917178802786],\"type\":\"scatter3d\"},{\"hovertemplate\":\"ring=5\\u003cbr\\u003eRing and Wire=Ring: 5 Wire: 29\\u003cbr\\u003ex=%{x}\\u003cbr\\u003ez=%{y}\\u003cbr\\u003ey=%{z}\\u003cextra\\u003e\\u003c\\u002fextra\\u003e\",\"legendgroup\":\"5\",\"line\":{\"color\":\"#EF553B\",\"dash\":\"solid\",\"width\":5},\"marker\":{\"symbol\":\"circle\"},\"mode\":\"lines\",\"name\":\"5\",\"scene\":\"scene\",\"showlegend\":false,\"x\":[-5.130665866726822,-17.04553802678417],\"y\":[0,150],\"z\":[17.958499541642023,7.634204044994302],\"type\":\"scatter3d\"},{\"hovertemplate\":\"ring=5\\u003cbr\\u003eRing and Wire=Ring: 5 Wire: 30\\u003cbr\\u003ex=%{x}\\u003cbr\\u003ez=%{y}\\u003cbr\\u003ey=%{z}\\u003cextra\\u003e\\u003c\\u002fextra\\u003e\",\"legendgroup\":\"5\",\"line\":{\"color\":\"#EF553B\",\"dash\":\"solid\",\"width\":5},\"marker\":{\"symbol\":\"circle\"},\"mode\":\"lines\",\"name\":\"5\",\"scene\":\"scene\",\"showlegend\":false,\"x\":[-6.814497724539121,-17.694031741109406],\"y\":[0,150],\"z\":[17.389481268439365,5.979354377168607],\"type\":\"scatter3d\"},{\"hovertemplate\":\"ring=5\\u003cbr\\u003eRing and Wire=Ring: 5 Wire: 31\\u003cbr\\u003ex=%{x}\\u003cbr\\u003ez=%{y}\\u003cbr\\u003ey=%{z}\\u003cextra\\u003e\\u003c\\u002fextra\\u003e\",\"legendgroup\":\"5\",\"line\":{\"color\":\"#EF553B\",\"dash\":\"solid\",\"width\":5},\"marker\":{\"symbol\":\"circle\"},\"mode\":\"lines\",\"name\":\"5\",\"scene\":\"scene\",\"showlegend\":false,\"x\":[-8.43661643570691,-18.182285563998555],\"y\":[0,150],\"z\":[16.662981160041937,4.2703547501773516],\"type\":\"scatter3d\"},{\"hovertemplate\":\"ring=5\\u003cbr\\u003eRing and Wire=Ring: 5 Wire: 32\\u003cbr\\u003ex=%{x}\\u003cbr\\u003ez=%{y}\\u003cbr\\u003ey=%{z}\\u003cextra\\u003e\\u003c\\u002fextra\\u003e\",\"legendgroup\":\"5\",\"line\":{\"color\":\"#EF553B\",\"dash\":\"solid\",\"width\":5},\"marker\":{\"symbol\":\"circle\"},\"mode\":\"lines\",\"name\":\"5\",\"scene\":\"scene\",\"showlegend\":false,\"x\":[-9.982331841990568,-18.50587779322356],\"y\":[0,150],\"z\":[15.785578513932698,2.5226821292876886],\"type\":\"scatter3d\"},{\"hovertemplate\":\"ring=5\\u003cbr\\u003eRing and Wire=Ring: 5 Wire: 33\\u003cbr\\u003ex=%{x}\\u003cbr\\u003ez=%{y}\\u003cbr\\u003ey=%{z}\\u003cextra\\u003e\\u003c\\u002fextra\\u003e\",\"legendgroup\":\"5\",\"line\":{\"color\":\"#EF553B\",\"dash\":\"solid\",\"width\":5},\"marker\":{\"symbol\":\"circle\"},\"mode\":\"lines\",\"name\":\"5\",\"scene\":\"scene\",\"showlegend\":false,\"x\":[-11.437645705310835,-18.66187792744707],\"y\":[0,150],\"z\":[14.76521922434398,0.7521637083882053],\"type\":\"scatter3d\"},{\"hovertemplate\":\"ring=5\\u003cbr\\u003eRing and Wire=Ring: 5 Wire: 34\\u003cbr\\u003ex=%{x}\\u003cbr\\u003ez=%{y}\\u003cbr\\u003ey=%{z}\\u003cextra\\u003e\\u003c\\u002fextra\\u003e\",\"legendgroup\":\"5\",\"line\":{\"color\":\"#EF553B\",\"dash\":\"solid\",\"width\":5},\"marker\":{\"symbol\":\"circle\"},\"mode\":\"lines\",\"name\":\"5\",\"scene\":\"scene\",\"showlegend\":false,\"x\":[-12.789378477960556,-18.648873205296333],\"y\":[0,150],\"z\":[13.611143823008845,-1.0251664235298739],\"type\":\"scatter3d\"},{\"hovertemplate\":\"ring=5\\u003cbr\\u003eRing and Wire=Ring: 5 Wire: 35\\u003cbr\\u003ex=%{x}\\u003cbr\\u003ez=%{y}\\u003cbr\\u003ey=%{z}\\u003cextra\\u003e\\u003c\\u002fextra\\u003e\",\"legendgroup\":\"5\",\"line\":{\"color\":\"#EF553B\",\"dash\":\"solid\",\"width\":5},\"marker\":{\"symbol\":\"circle\"},\"mode\":\"lines\",\"name\":\"5\",\"scene\":\"scene\",\"showlegend\":false,\"x\":[-14.025288658629613,-18.46698139954897],\"y\":[0,150],\"z\":[12.333803795474777,-2.7932124895655175],\"type\":\"scatter3d\"},{\"hovertemplate\":\"ring=5\\u003cbr\\u003eRing and Wire=Ring: 5 Wire: 36\\u003cbr\\u003ex=%{x}\\u003cbr\\u003ez=%{y}\\u003cbr\\u003ey=%{z}\\u003cextra\\u003e\\u003c\\u002fextra\\u003e\",\"legendgroup\":\"5\",\"line\":{\"color\":\"#EF553B\",\"dash\":\"solid\",\"width\":5},\"marker\":{\"symbol\":\"circle\"},\"mode\":\"lines\",\"name\":\"5\",\"scene\":\"scene\",\"showlegend\":false,\"x\":[-15.13418365333644,-18.117849750564485],\"y\":[0,150],\"z\":[10.944766930832131,-4.535962790755994],\"type\":\"scatter3d\"},{\"hovertemplate\":\"ring=5\\u003cbr\\u003eRing and Wire=Ring: 5 Wire: 37\\u003cbr\\u003ex=%{x}\\u003cbr\\u003ez=%{y}\\u003cbr\\u003ey=%{z}\\u003cextra\\u003e\\u003c\\u002fextra\\u003e\",\"legendgroup\":\"5\",\"line\":{\"color\":\"#EF553B\",\"dash\":\"solid\",\"width\":5},\"marker\":{\"symbol\":\"circle\"},\"mode\":\"lines\",\"name\":\"5\",\"scene\":\"scene\",\"showlegend\":false,\"x\":[-16.106021137292338,-17.604640048620446],\"y\":[0,150],\"z\":[9.456612562024777,-6.237634710502178],\"type\":\"scatter3d\"},{\"hovertemplate\":\"ring=5\\u003cbr\\u003eRing and Wire=Ring: 5 Wire: 38\\u003cbr\\u003ex=%{x}\\u003cbr\\u003ez=%{y}\\u003cbr\\u003ey=%{z}\\u003cextra\\u003e\\u003c\\u002fextra\\u003e\",\"legendgroup\":\"5\",\"line\":{\"color\":\"#EF553B\",\"dash\":\"solid\",\"width\":5},\"marker\":{\"symbol\":\"circle\"},\"mode\":\"lines\",\"name\":\"5\",\"scene\":\"scene\",\"showlegend\":false,\"x\":[-16.93199999974985,-16.93200000025015],\"y\":[0,150],\"z\":[7.882817645463044,-7.882817644388425],\"type\":\"scatter3d\"},{\"hovertemplate\":\"ring=5\\u003cbr\\u003eRing and Wire=Ring: 5 Wire: 39\\u003cbr\\u003ex=%{x}\\u003cbr\\u003ez=%{y}\\u003cbr\\u003ey=%{z}\\u003cextra\\u003e\\u003c\\u002fextra\\u003e\",\"legendgroup\":\"5\",\"line\":{\"color\":\"#EF553B\",\"dash\":\"solid\",\"width\":5},\"marker\":{\"symbol\":\"circle\"},\"mode\":\"lines\",\"name\":\"5\",\"scene\":\"scene\",\"showlegend\":false,\"x\":[-17.604640048224564,-16.106021137892522],\"y\":[0,150],\"z\":[6.237634711619489,-9.45661256100258],\"type\":\"scatter3d\"},{\"hovertemplate\":\"ring=5\\u003cbr\\u003eRing and Wire=Ring: 5 Wire: 40\\u003cbr\\u003ex=%{x}\\u003cbr\\u003ez=%{y}\\u003cbr\\u003ey=%{z}\\u003cextra\\u003e\\u003c\\u002fextra\\u003e\",\"legendgroup\":\"5\",\"line\":{\"color\":\"#EF553B\",\"dash\":\"solid\",\"width\":5},\"marker\":{\"symbol\":\"circle\"},\"mode\":\"lines\",\"name\":\"5\",\"scene\":\"scene\",\"showlegend\":false,\"x\":[-18.1178497502766,-15.134183654031073],\"y\":[0,150],\"z\":[4.5359627919058845,-10.944766929871607],\"type\":\"scatter3d\"},{\"hovertemplate\":\"ring=5\\u003cbr\\u003eRing and Wire=Ring: 5 Wire: 41\\u003cbr\\u003ex=%{x}\\u003cbr\\u003ez=%{y}\\u003cbr\\u003ey=%{z}\\u003cextra\\u003e\\u003c\\u002fextra\\u003e\",\"legendgroup\":\"5\",\"line\":{\"color\":\"#EF553B\",\"dash\":\"solid\",\"width\":5},\"marker\":{\"symbol\":\"circle\"},\"mode\":\"lines\",\"name\":\"5\",\"scene\":\"scene\",\"showlegend\":false,\"x\":[-18.466981399371694,-14.0252886594124],\"y\":[0,150],\"z\":[2.7932124907375586,-12.333803794584636],\"type\":\"scatter3d\"},{\"hovertemplate\":\"ring=5\\u003cbr\\u003eRing and Wire=Ring: 5 Wire: 42\\u003cbr\\u003ex=%{x}\\u003cbr\\u003ez=%{y}\\u003cbr\\u003ey=%{z}\\u003cextra\\u003e\\u003c\\u002fextra\\u003e\",\"legendgroup\":\"5\",\"line\":{\"color\":\"#EF553B\",\"dash\":\"solid\",\"width\":5},\"marker\":{\"symbol\":\"circle\"},\"mode\":\"lines\",\"name\":\"5\",\"scene\":\"scene\",\"showlegend\":false,\"x\":[-18.64887320523127,-12.789378478824412],\"y\":[0,150],\"z\":[1.0251664247134586,-13.611143822197143],\"type\":\"scatter3d\"},{\"hovertemplate\":\"ring=5\\u003cbr\\u003eRing and Wire=Ring: 5 Wire: 43\\u003cbr\\u003ex=%{x}\\u003cbr\\u003ez=%{y}\\u003cbr\\u003ey=%{z}\\u003cextra\\u003e\\u003c\\u002fextra\\u003e\",\"legendgroup\":\"5\",\"line\":{\"color\":\"#EF553B\",\"dash\":\"solid\",\"width\":5},\"marker\":{\"symbol\":\"circle\"},\"mode\":\"lines\",\"name\":\"5\",\"scene\":\"scene\",\"showlegend\":false,\"x\":[-18.661877927494807,-11.437645706247938],\"y\":[0,150],\"z\":[-0.7521637072037963,-14.765219223618068],\"type\":\"scatter3d\"},{\"hovertemplate\":\"ring=5\\u003cbr\\u003eRing and Wire=Ring: 5 Wire: 44\\u003cbr\\u003ex=%{x}\\u003cbr\\u003ez=%{y}\\u003cbr\\u003ey=%{z}\\u003cextra\\u003e\\u003c\\u002fextra\\u003e\",\"legendgroup\":\"5\",\"line\":{\"color\":\"#EF553B\",\"dash\":\"solid\",\"width\":5},\"marker\":{\"symbol\":\"circle\"},\"mode\":\"lines\",\"name\":\"5\",\"scene\":\"scene\",\"showlegend\":false,\"x\":[-18.505877793383668,-9.98233184299243],\"y\":[0,150],\"z\":[-2.5226821281131784,-15.78557851329915],\"type\":\"scatter3d\"},{\"hovertemplate\":\"ring=5\\u003cbr\\u003eRing and Wire=Ring: 5 Wire: 45\\u003cbr\\u003ex=%{x}\\u003cbr\\u003ez=%{y}\\u003cbr\\u003ey=%{z}\\u003cextra\\u003e\\u003c\\u002fextra\\u003e\",\"legendgroup\":\"5\",\"line\":{\"color\":\"#EF553B\",\"dash\":\"solid\",\"width\":5},\"marker\":{\"symbol\":\"circle\"},\"mode\":\"lines\",\"name\":\"5\",\"scene\":\"scene\",\"showlegend\":false,\"x\":[-18.18228556426958,-8.436616436764464],\"y\":[0,150],\"z\":[-4.2703547490233715,-16.662981159506487],\"type\":\"scatter3d\"},{\"hovertemplate\":\"ring=5\\u003cbr\\u003eRing and Wire=Ring: 5 Wire: 46\\u003cbr\\u003ex=%{x}\\u003cbr\\u003ez=%{y}\\u003cbr\\u003ey=%{z}\\u003cextra\\u003e\\u003c\\u002fextra\\u003e\",\"legendgroup\":\"5\",\"line\":{\"color\":\"#EF553B\",\"dash\":\"solid\",\"width\":5},\"marker\":{\"symbol\":\"circle\"},\"mode\":\"lines\",\"name\":\"5\",\"scene\":\"scene\",\"showlegend\":false,\"x\":[-17.694031741488892,-6.81449772564277],\"y\":[0,150],\"z\":[-5.979354376045631,-17.389481268006875],\"type\":\"scatter3d\"},{\"hovertemplate\":\"ring=5\\u003cbr\\u003eRing and Wire=Ring: 5 Wire: 47\\u003cbr\\u003ex=%{x}\\u003cbr\\u003ez=%{y}\\u003cbr\\u003ey=%{z}\\u003cextra\\u003e\\u003c\\u002fextra\\u003e\",\"legendgroup\":\"5\",\"line\":{\"color\":\"#EF553B\",\"dash\":\"solid\",\"width\":5},\"marker\":{\"symbol\":\"circle\"},\"mode\":\"lines\",\"name\":\"5\",\"scene\":\"scene\",\"showlegend\":false,\"x\":[-17.045538027268684,-5.1306658678665915],\"y\":[0,150],\"z\":[-7.634204043912476,-17.958499541316396],\"type\":\"scatter3d\"},{\"hovertemplate\":\"ring=5\\u003cbr\\u003eRing and Wire=Ring: 5 Wire: 48\\u003cbr\\u003ex=%{x}\\u003cbr\\u003ez=%{y}\\u003cbr\\u003ey=%{z}\\u003cextra\\u003e\\u003c\\u002fextra\\u003e\",\"legendgroup\":\"5\",\"line\":{\"color\":\"#EF553B\",\"dash\":\"solid\",\"width\":5},\"marker\":{\"symbol\":\"circle\"},\"mode\":\"lines\",\"name\":\"5\",\"scene\":\"scene\",\"showlegend\":false,\"x\":[-16.242677281106676,-3.400369905487751],\"y\":[0,150],\"z\":[-9.219917177771908,-18.36488286183731],\"type\":\"scatter3d\"},{\"hovertemplate\":\"ring=5\\u003cbr\\u003eRing and Wire=Ring: 5 Wire: 49\\u003cbr\\u003ex=%{x}\\u003cbr\\u003ez=%{y}\\u003cbr\\u003ey=%{z}\\u003cextra\\u003e\\u003c\\u002fextra\\u003e\",\"legendgroup\":\"5\",\"line\":{\"color\":\"#EF553B\",\"dash\":\"solid\",\"width\":5},\"marker\":{\"symbol\":\"circle\"},\"mode\":\"lines\",\"name\":\"5\",\"scene\":\"scene\",\"showlegend\":false,\"x\":[-15.292720334246154,-1.639279666684489],\"y\":[0,150],\"z\":[-10.722133313929959,-18.60495095928896],\"type\":\"scatter3d\"},{\"hovertemplate\":\"ring=5\\u003cbr\\u003eRing and Wire=Ring: 5 Wire: 50\\u003cbr\\u003ex=%{x}\\u003cbr\\u003ez=%{y}\\u003cbr\\u003ey=%{z}\\u003cextra\\u003e\\u003c\\u002fextra\\u003e\",\"legendgroup\":\"5\",\"line\":{\"color\":\"#EF553B\",\"dash\":\"solid\",\"width\":5},\"marker\":{\"symbol\":\"circle\"},\"mode\":\"lines\",\"name\":\"5\",\"scene\":\"scene\",\"showlegend\":false,\"x\":[-14.204270143902384,0.13665614262898718],\"y\":[0,150],\"z\":[-12.127248150433626,-18.676529739805364],\"type\":\"scatter3d\"},{\"hovertemplate\":\"ring=5\\u003cbr\\u003eRing and Wire=Ring: 5 Wire: 51\\u003cbr\\u003ex=%{x}\\u003cbr\\u003ez=%{y}\\u003cbr\\u003ey=%{z}\\u003cextra\\u003e\\u003c\\u002fextra\\u003e\",\"legendgroup\":\"5\",\"line\":{\"color\":\"#EF553B\",\"dash\":\"solid\",\"width\":5},\"marker\":{\"symbol\":\"circle\"},\"mode\":\"lines\",\"name\":\"5\",\"scene\":\"scene\",\"showlegend\":false,\"x\":[-12.987183883549775,1.9113543727531024],\"y\":[0,150],\"z\":[-13.42253674973615,-18.578970974865914],\"type\":\"scatter3d\"},{\"hovertemplate\":\"ring=5\\u003cbr\\u003eRing and Wire=Ring: 5 Wire: 52\\u003cbr\\u003ex=%{x}\\u003cbr\\u003ez=%{y}\\u003cbr\\u003ey=%{z}\\u003cextra\\u003e\\u003c\\u002fextra\\u003e\",\"legendgroup\":\"5\",\"line\":{\"color\":\"#EF553B\",\"dash\":\"solid\",\"width\":5},\"marker\":{\"symbol\":\"circle\"},\"mode\":\"lines\",\"name\":\"5\",\"scene\":\"scene\",\"showlegend\":false,\"x\":[-11.652483674832578,3.668743081697003],\"y\":[0,150],\"z\":[-14.59626877770181,-18.313158171753248],\"type\":\"scatter3d\"},{\"hovertemplate\":\"ring=5\\u003cbr\\u003eRing and Wire=Ring: 5 Wire: 53\\u003cbr\\u003ex=%{x}\\u003cbr\\u003ez=%{y}\\u003cbr\\u003ey=%{z}\\u003cextra\\u003e\\u003c\\u002fextra\\u003e\",\"legendgroup\":\"5\",\"line\":{\"color\":\"#EF553B\",\"dash\":\"solid\",\"width\":5},\"marker\":{\"symbol\":\"circle\"},\"mode\":\"lines\",\"name\":\"5\",\"scene\":\"scene\",\"showlegend\":false,\"x\":[-10.212256769524359,5.392907085174136],\"y\":[0,150],\"z\":[-15.637814735328472,-17.881498572374493],\"type\":\"scatter3d\"},{\"hovertemplate\":\"ring=5\\u003cbr\\u003eRing and Wire=Ring: 5 Wire: 54\\u003cbr\\u003ex=%{x}\\u003cbr\\u003ez=%{y}\\u003cbr\\u003ey=%{z}\\u003cextra\\u003e\\u003c\\u002fextra\\u003e\",\"legendgroup\":\"5\",\"line\":{\"color\":\"#EF553B\",\"dash\":\"solid\",\"width\":5},\"marker\":{\"symbol\":\"circle\"},\"mode\":\"lines\",\"name\":\"5\",\"scene\":\"scene\",\"showlegend\":false,\"x\":[-8.679546085504235,7.068232086975627],\"y\":[0,150],\"z\":[-16.53774222113649,-17.287901352905756],\"type\":\"scatter3d\"},{\"hovertemplate\":\"ring=5\\u003cbr\\u003eRing and Wire=Ring: 5 Wire: 55\\u003cbr\\u003ex=%{x}\\u003cbr\\u003ez=%{y}\\u003cbr\\u003ey=%{z}\\u003cextra\\u003e\\u003c\\u002fextra\\u003e\",\"legendgroup\":\"5\",\"line\":{\"color\":\"#EF553B\",\"dash\":\"solid\",\"width\":5},\"marker\":{\"symbol\":\"circle\"},\"mode\":\"lines\",\"name\":\"5\",\"scene\":\"scene\",\"showlegend\":false,\"x\":[-7.068232088072838,8.679546084454635],\"y\":[0,150],\"z\":[-17.28790135245716,-16.537742221687356],\"type\":\"scatter3d\"},{\"hovertemplate\":\"ring=5\\u003cbr\\u003eRing and Wire=Ring: 5 Wire: 56\\u003cbr\\u003ex=%{x}\\u003cbr\\u003ez=%{y}\\u003cbr\\u003ey=%{z}\\u003cextra\\u003e\\u003c\\u002fextra\\u003e\",\"legendgroup\":\"5\",\"line\":{\"color\":\"#EF553B\",\"dash\":\"solid\",\"width\":5},\"marker\":{\"symbol\":\"circle\"},\"mode\":\"lines\",\"name\":\"5\",\"scene\":\"scene\",\"showlegend\":false,\"x\":[-5.392907086309037,10.212256768531862],\"y\":[0,150],\"z\":[-17.881498572032218,-15.637814735976622],\"type\":\"scatter3d\"},{\"hovertemplate\":\"ring=5\\u003cbr\\u003eRing and Wire=Ring: 5 Wire: 57\\u003cbr\\u003ex=%{x}\\u003cbr\\u003ez=%{y}\\u003cbr\\u003ey=%{z}\\u003cextra\\u003e\\u003c\\u002fextra\\u003e\",\"legendgroup\":\"5\",\"line\":{\"color\":\"#EF553B\",\"dash\":\"solid\",\"width\":5},\"marker\":{\"symbol\":\"circle\"},\"mode\":\"lines\",\"name\":\"5\",\"scene\":\"scene\",\"showlegend\":false,\"x\":[-3.6687430828592835,11.652483673906197],\"y\":[0,150],\"z\":[-18.313158171520406,-14.596268778441358],\"type\":\"scatter3d\"},{\"hovertemplate\":\"ring=5\\u003cbr\\u003eRing and Wire=Ring: 5 Wire: 58\\u003cbr\\u003ex=%{x}\\u003cbr\\u003ez=%{y}\\u003cbr\\u003ey=%{z}\\u003cextra\\u003e\\u003c\\u002fextra\\u003e\",\"legendgroup\":\"5\",\"line\":{\"color\":\"#EF553B\",\"dash\":\"solid\",\"width\":5},\"marker\":{\"symbol\":\"circle\"},\"mode\":\"lines\",\"name\":\"5\",\"scene\":\"scene\",\"showlegend\":false,\"x\":[-1.9113543739322534,12.987183882697888],\"y\":[0,150],\"z\":[-18.578970974744607,-13.422536750560404],\"type\":\"scatter3d\"},{\"hovertemplate\":\"ring=5\\u003cbr\\u003eRing and Wire=Ring: 5 Wire: 59\\u003cbr\\u003ex=%{x}\\u003cbr\\u003ez=%{y}\\u003cbr\\u003ey=%{z}\\u003cextra\\u003e\\u003c\\u002fextra\\u003e\",\"legendgroup\":\"5\",\"line\":{\"color\":\"#EF553B\",\"dash\":\"solid\",\"width\":5},\"marker\":{\"symbol\":\"circle\"},\"mode\":\"lines\",\"name\":\"5\",\"scene\":\"scene\",\"showlegend\":false,\"x\":[-0.13665614381432878,14.204270143132703],\"y\":[0,150],\"z\":[-18.676529739796692,-12.127248151335127],\"type\":\"scatter3d\"},{\"hovertemplate\":\"ring=5\\u003cbr\\u003eRing and Wire=Ring: 5 Wire: 60\\u003cbr\\u003ex=%{x}\\u003cbr\\u003ez=%{y}\\u003cbr\\u003ey=%{z}\\u003cextra\\u003e\\u003c\\u002fextra\\u003e\",\"legendgroup\":\"5\",\"line\":{\"color\":\"#EF553B\",\"dash\":\"solid\",\"width\":5},\"marker\":{\"symbol\":\"circle\"},\"mode\":\"lines\",\"name\":\"5\",\"scene\":\"scene\",\"showlegend\":false,\"x\":[1.6392796655036896,15.292720333565654],\"y\":[0,150],\"z\":[-18.604950959393,-10.722133314900539],\"type\":\"scatter3d\"},{\"hovertemplate\":\"ring=5\\u003cbr\\u003eRing and Wire=Ring: 5 Wire: 61\\u003cbr\\u003ex=%{x}\\u003cbr\\u003ez=%{y}\\u003cbr\\u003ey=%{z}\\u003cextra\\u003e\\u003c\\u002fextra\\u003e\",\"legendgroup\":\"5\",\"line\":{\"color\":\"#EF553B\",\"dash\":\"solid\",\"width\":5},\"marker\":{\"symbol\":\"circle\"},\"mode\":\"lines\",\"name\":\"5\",\"scene\":\"scene\",\"showlegend\":false,\"x\":[3.4003699043221705,16.242677280521505],\"y\":[0,150],\"z\":[-18.364882862053122,-9.219917178802795],\"type\":\"scatter3d\"},{\"hovertemplate\":\"ring=5\\u003cbr\\u003eRing and Wire=Ring: 5 Wire: 62\\u003cbr\\u003ex=%{x}\\u003cbr\\u003ez=%{y}\\u003cbr\\u003ey=%{z}\\u003cextra\\u003e\\u003c\\u002fextra\\u003e\",\"legendgroup\":\"5\",\"line\":{\"color\":\"#EF553B\",\"dash\":\"solid\",\"width\":5},\"marker\":{\"symbol\":\"circle\"},\"mode\":\"lines\",\"name\":\"5\",\"scene\":\"scene\",\"showlegend\":false,\"x\":[5.13066586672682,17.04553802678417],\"y\":[0,150],\"z\":[-17.958499541642023,-7.634204044994305],\"type\":\"scatter3d\"},{\"hovertemplate\":\"ring=5\\u003cbr\\u003eRing and Wire=Ring: 5 Wire: 63\\u003cbr\\u003ex=%{x}\\u003cbr\\u003ez=%{y}\\u003cbr\\u003ey=%{z}\\u003cextra\\u003e\\u003c\\u002fextra\\u003e\",\"legendgroup\":\"5\",\"line\":{\"color\":\"#EF553B\",\"dash\":\"solid\",\"width\":5},\"marker\":{\"symbol\":\"circle\"},\"mode\":\"lines\",\"name\":\"5\",\"scene\":\"scene\",\"showlegend\":false,\"x\":[6.814497724539113,17.694031741109402],\"y\":[0,150],\"z\":[-17.38948126843937,-5.979354377168617],\"type\":\"scatter3d\"},{\"hovertemplate\":\"ring=5\\u003cbr\\u003eRing and Wire=Ring: 5 Wire: 64\\u003cbr\\u003ex=%{x}\\u003cbr\\u003ez=%{y}\\u003cbr\\u003ey=%{z}\\u003cextra\\u003e\\u003c\\u002fextra\\u003e\",\"legendgroup\":\"5\",\"line\":{\"color\":\"#EF553B\",\"dash\":\"solid\",\"width\":5},\"marker\":{\"symbol\":\"circle\"},\"mode\":\"lines\",\"name\":\"5\",\"scene\":\"scene\",\"showlegend\":false,\"x\":[8.436616435706917,18.182285563998555],\"y\":[0,150],\"z\":[-16.662981160041934,-4.2703547501773444],\"type\":\"scatter3d\"},{\"hovertemplate\":\"ring=5\\u003cbr\\u003eRing and Wire=Ring: 5 Wire: 65\\u003cbr\\u003ex=%{x}\\u003cbr\\u003ez=%{y}\\u003cbr\\u003ey=%{z}\\u003cextra\\u003e\\u003c\\u002fextra\\u003e\",\"legendgroup\":\"5\",\"line\":{\"color\":\"#EF553B\",\"dash\":\"solid\",\"width\":5},\"marker\":{\"symbol\":\"circle\"},\"mode\":\"lines\",\"name\":\"5\",\"scene\":\"scene\",\"showlegend\":false,\"x\":[9.982331841990568,18.50587779322356],\"y\":[0,150],\"z\":[-15.785578513932698,-2.5226821292876904],\"type\":\"scatter3d\"},{\"hovertemplate\":\"ring=5\\u003cbr\\u003eRing and Wire=Ring: 5 Wire: 66\\u003cbr\\u003ex=%{x}\\u003cbr\\u003ez=%{y}\\u003cbr\\u003ey=%{z}\\u003cextra\\u003e\\u003c\\u002fextra\\u003e\",\"legendgroup\":\"5\",\"line\":{\"color\":\"#EF553B\",\"dash\":\"solid\",\"width\":5},\"marker\":{\"symbol\":\"circle\"},\"mode\":\"lines\",\"name\":\"5\",\"scene\":\"scene\",\"showlegend\":false,\"x\":[11.437645705310828,18.66187792744707],\"y\":[0,150],\"z\":[-14.765219224343987,-0.752163708388216],\"type\":\"scatter3d\"},{\"hovertemplate\":\"ring=9\\u003cbr\\u003eRing and Wire=Ring: 9 Wire: 1\\u003cbr\\u003ex=%{x}\\u003cbr\\u003ez=%{y}\\u003cbr\\u003ey=%{z}\\u003cextra\\u003e\\u003c\\u002fextra\\u003e\",\"legendgroup\":\"9\",\"line\":{\"color\":\"#00cc96\",\"dash\":\"solid\",\"width\":5},\"marker\":{\"symbol\":\"circle\"},\"mode\":\"lines\",\"name\":\"9\",\"scene\":\"scene\",\"showlegend\":true,\"x\":[19.893744737940725,25.118753247208954],\"y\":[0,150],\"z\":[15.343080971069924,0.46845350781274764],\"type\":\"scatter3d\"},{\"hovertemplate\":\"ring=9\\u003cbr\\u003eRing and Wire=Ring: 9 Wire: 2\\u003cbr\\u003ex=%{x}\\u003cbr\\u003ez=%{y}\\u003cbr\\u003ey=%{z}\\u003cextra\\u003e\\u003c\\u002fextra\\u003e\",\"legendgroup\":\"9\",\"line\":{\"color\":\"#00cc96\",\"dash\":\"solid\",\"width\":5},\"marker\":{\"symbol\":\"circle\"},\"mode\":\"lines\",\"name\":\"9\",\"scene\":\"scene\",\"showlegend\":false,\"x\":[18.81255192835284,25.029822514568494],\"y\":[0,150],\"z\":[16.651099162703357,2.1631454579737737],\"type\":\"scatter3d\"},{\"hovertemplate\":\"ring=9\\u003cbr\\u003eRing and Wire=Ring: 9 Wire: 3\\u003cbr\\u003ex=%{x}\\u003cbr\\u003ez=%{y}\\u003cbr\\u003ey=%{z}\\u003cextra\\u003e\\u003c\\u002fextra\\u003e\",\"legendgroup\":\"9\",\"line\":{\"color\":\"#00cc96\",\"dash\":\"solid\",\"width\":5},\"marker\":{\"symbol\":\"circle\"},\"mode\":\"lines\",\"name\":\"9\",\"scene\":\"scene\",\"showlegend\":false,\"x\":[17.645521759165444,24.82668644263769],\"y\":[0,150],\"z\":[17.883142207955828,3.8479674715494117],\"type\":\"scatter3d\"},{\"hovertemplate\":\"ring=9\\u003cbr\\u003eRing and Wire=Ring: 9 Wire: 4\\u003cbr\\u003ex=%{x}\\u003cbr\\u003ez=%{y}\\u003cbr\\u003ey=%{z}\\u003cextra\\u003e\\u003c\\u002fextra\\u003e\",\"legendgroup\":\"9\",\"line\":{\"color\":\"#00cc96\",\"dash\":\"solid\",\"width\":5},\"marker\":{\"symbol\":\"circle\"},\"mode\":\"lines\",\"name\":\"9\",\"scene\":\"scene\",\"showlegend\":false,\"x\":[16.397979121370344,24.510271894721445],\"y\":[0,150],\"z\":[19.033588576993427,5.515232092122733],\"type\":\"scatter3d\"},{\"hovertemplate\":\"ring=9\\u003cbr\\u003eRing and Wire=Ring: 9 Wire: 5\\u003cbr\\u003ex=%{x}\\u003cbr\\u003ez=%{y}\\u003cbr\\u003ey=%{z}\\u003cextra\\u003e\\u003c\\u002fextra\\u003e\",\"legendgroup\":\"9\",\"line\":{\"color\":\"#00cc96\",\"dash\":\"solid\",\"width\":5},\"marker\":{\"symbol\":\"circle\"},\"mode\":\"lines\",\"name\":\"9\",\"scene\":\"scene\",\"showlegend\":false,\"x\":[15.075616265887245,24.082022597829013],\"y\":[0,150],\"z\":[20.09718904690077,7.15733197363411],\"type\":\"scatter3d\"},{\"hovertemplate\":\"ring=9\\u003cbr\\u003eRing and Wire=Ring: 9 Wire: 6\\u003cbr\\u003ex=%{x}\\u003cbr\\u003ez=%{y}\\u003cbr\\u003ey=%{z}\\u003cextra\\u003e\\u003c\\u002fextra\\u003e\",\"legendgroup\":\"9\",\"line\":{\"color\":\"#00cc96\",\"dash\":\"solid\",\"width\":5},\"marker\":{\"symbol\":\"circle\"},\"mode\":\"lines\",\"name\":\"9\",\"scene\":\"scene\",\"showlegend\":false,\"x\":[13.684466831128379,23.5438925552788],\"y\":[0,150],\"z\":[21.069090652681233,8.766774590956473],\"type\":\"scatter3d\"},{\"hovertemplate\":\"ring=9\\u003cbr\\u003eRing and Wire=Ring: 9 Wire: 7\\u003cbr\\u003ex=%{x}\\u003cbr\\u003ez=%{y}\\u003cbr\\u003ey=%{z}\\u003cextra\\u003e\\u003c\\u002fextra\\u003e\",\"legendgroup\":\"9\",\"line\":{\"color\":\"#00cc96\",\"dash\":\"solid\",\"width\":5},\"marker\":{\"symbol\":\"circle\"},\"mode\":\"lines\",\"name\":\"9\",\"scene\":\"scene\",\"showlegend\":false,\"x\":[12.230878312890324,22.898337131029372],\"y\":[0,150],\"z\":[21.94485883022312,10.33621642656896],\"type\":\"scatter3d\"},{\"hovertemplate\":\"ring=9\\u003cbr\\u003eRing and Wire=Ring: 9 Wire: 8\\u003cbr\\u003ex=%{x}\\u003cbr\\u003ez=%{y}\\u003cbr\\u003ey=%{z}\\u003cextra\\u003e\\u003c\\u002fextra\\u003e\",\"legendgroup\":\"9\",\"line\":{\"color\":\"#00cc96\",\"dash\":\"solid\",\"width\":5},\"marker\":{\"symbol\":\"circle\"},\"mode\":\"lines\",\"name\":\"9\",\"scene\":\"scene\",\"showlegend\":false,\"x\":[10.721483102186529,22.148301846416903],\"y\":[0,150],\"z\":[22.720497650198624,11.858496477343072],\"type\":\"scatter3d\"},{\"hovertemplate\":\"ring=9\\u003cbr\\u003eRing and Wire=Ring: 9 Wire: 9\\u003cbr\\u003ex=%{x}\\u003cbr\\u003ez=%{y}\\u003cbr\\u003ey=%{z}\\u003cextra\\u003e\\u003c\\u002fextra\\u003e\",\"legendgroup\":\"9\",\"line\":{\"color\":\"#00cc96\",\"dash\":\"solid\",\"width\":5},\"marker\":{\"symbol\":\"circle\"},\"mode\":\"lines\",\"name\":\"9\",\"scene\":\"scene\",\"showlegend\":false,\"x\":[9.163168223168338,21.297208940416876],\"y\":[0,150],\"z\":[23.392468050572827,13.326668928557499],\"type\":\"scatter3d\"},{\"hovertemplate\":\"ring=9\\u003cbr\\u003eRing and Wire=Ring: 9 Wire: 10\\u003cbr\\u003ex=%{x}\\u003cbr\\u003ez=%{y}\\u003cbr\\u003ey=%{z}\\u003cextra\\u003e\\u003c\\u002fextra\\u003e\",\"legendgroup\":\"9\",\"line\":{\"color\":\"#00cc96\",\"dash\":\"solid\",\"width\":5},\"marker\":{\"symbol\":\"circle\"},\"mode\":\"lines\",\"name\":\"9\",\"scene\":\"scene\",\"showlegend\":false,\"x\":[7.56304390921339,20.348941754752584],\"y\":[0,150],\"z\":[23.957703984532046,14.734034846057584],\"type\":\"scatter3d\"},{\"hovertemplate\":\"ring=9\\u003cbr\\u003eRing and Wire=Ring: 9 Wire: 11\\u003cbr\\u003ex=%{x}\\u003cbr\\u003ez=%{y}\\u003cbr\\u003ey=%{z}\\u003cextra\\u003e\\u003c\\u002fextra\\u003e\",\"legendgroup\":\"9\",\"line\":{\"color\":\"#00cc96\",\"dash\":\"solid\",\"width\":5},\"marker\":{\"symbol\":\"circle\"},\"mode\":\"lines\",\"name\":\"9\",\"scene\":\"scene\",\"showlegend\":false,\"x\":[5.9284111605615255,19.307827015097516],\"y\":[0,150],\"z\":[24.41362641015222,16.07417274195543],\"type\":\"scatter3d\"},{\"hovertemplate\":\"ring=9\\u003cbr\\u003eRing and Wire=Ring: 9 Wire: 12\\u003cbr\\u003ex=%{x}\\u003cbr\\u003ez=%{y}\\u003cbr\\u003ey=%{z}\\u003cextra\\u003e\\u003c\\u002fextra\\u003e\",\"legendgroup\":\"9\",\"line\":{\"color\":\"#00cc96\",\"dash\":\"solid\",\"width\":5},\"marker\":{\"symbol\":\"circle\"},\"mode\":\"lines\",\"name\":\"9\",\"scene\":\"scene\",\"showlegend\":false,\"x\":[4.266728431525233,18.17861508921849],\"y\":[0,150],\"z\":[24.758155057975678,17.340967874406267],\"type\":\"scatter3d\"},{\"hovertemplate\":\"ring=9\\u003cbr\\u003eRing and Wire=Ring: 9 Wire: 13\\u003cbr\\u003ex=%{x}\\u003cbr\\u003ez=%{y}\\u003cbr\\u003ey=%{z}\\u003cextra\\u003e\\u003c\\u002fextra\\u003e\",\"legendgroup\":\"9\",\"line\":{\"color\":\"#00cc96\",\"dash\":\"solid\",\"width\":5},\"marker\":{\"symbol\":\"circle\"},\"mode\":\"lines\",\"name\":\"9\",\"scene\":\"scene\",\"showlegend\":false,\"x\":[2.585577599273331,16.96645831213709],\"y\":[0,150],\"z\":[24.989717922803536,18.528640147773032],\"type\":\"scatter3d\"},{\"hovertemplate\":\"ring=9\\u003cbr\\u003eRing and Wire=Ring: 9 Wire: 14\\u003cbr\\u003ex=%{x}\\u003cbr\\u003ez=%{y}\\u003cbr\\u003ey=%{z}\\u003cextra\\u003e\\u003c\\u002fextra\\u003e\",\"legendgroup\":\"9\",\"line\":{\"color\":\"#00cc96\",\"dash\":\"solid\",\"width\":5},\"marker\":{\"symbol\":\"circle\"},\"mode\":\"lines\",\"name\":\"9\",\"scene\":\"scene\",\"showlegend\":false,\"x\":[0.8926293694643928,15.676887477206689],\"y\":[0,150],\"z\":[25.107258436394883,19.63177048587703],\"type\":\"scatter3d\"},{\"hovertemplate\":\"ring=9\\u003cbr\\u003eRing and Wire=Ring: 9 Wire: 15\\u003cbr\\u003ex=%{x}\\u003cbr\\u003ez=%{y}\\u003cbr\\u003ey=%{z}\\u003cextra\\u003e\\u003c\\u002fextra\\u003e\",\"legendgroup\":\"9\",\"line\":{\"color\":\"#00cc96\",\"dash\":\"solid\",\"width\":5},\"marker\":{\"symbol\":\"circle\"},\"mode\":\"lines\",\"name\":\"9\",\"scene\":\"scene\",\"showlegend\":false,\"x\":[-0.8043917234238194,14.315786600370918],\"y\":[0,150],\"z\":[25.110240288345306,20.645325557999637],\"type\":\"scatter3d\"},{\"hovertemplate\":\"ring=9\\u003cbr\\u003eRing and Wire=Ring: 9 Wire: 16\\u003cbr\\u003ex=%{x}\\u003cbr\\u003ez=%{y}\\u003cbr\\u003ey=%{z}\\u003cextra\\u003e\\u003c\\u002fextra\\u003e\",\"legendgroup\":\"9\",\"line\":{\"color\":\"#00cc96\",\"dash\":\"solid\",\"width\":5},\"marker\":{\"symbol\":\"circle\"},\"mode\":\"lines\",\"name\":\"9\",\"scene\":\"scene\",\"showlegend\":false,\"x\":[-2.497742561373448,12.889366072748494],\"y\":[0,150],\"z\":[24.99864987314827,21.56468074481587],\"type\":\"scatter3d\"},{\"hovertemplate\":\"ring=9\\u003cbr\\u003eRing and Wire=Ring: 9 Wire: 17\\u003cbr\\u003ex=%{x}\\u003cbr\\u003ez=%{y}\\u003cbr\\u003ey=%{z}\\u003cextra\\u003e\\u003c\\u002fextra\\u003e\",\"legendgroup\":\"9\",\"line\":{\"color\":\"#00cc96\",\"dash\":\"solid\",\"width\":5},\"marker\":{\"symbol\":\"circle\"},\"mode\":\"lines\",\"name\":\"9\",\"scene\":\"scene\",\"showlegend\":false,\"x\":[-4.179696772898106,11.404134324042955],\"y\":[0,150],\"z\":[24.772996352273935,22.385641239471738],\"type\":\"scatter3d\"},{\"hovertemplate\":\"ring=9\\u003cbr\\u003eRing and Wire=Ring: 9 Wire: 18\\u003cbr\\u003ex=%{x}\\u003cbr\\u003ez=%{y}\\u003cbr\\u003ey=%{z}\\u003cextra\\u003e\\u003c\\u002fextra\\u003e\",\"legendgroup\":\"9\",\"line\":{\"color\":\"#00cc96\",\"dash\":\"solid\",\"width\":5},\"marker\":{\"symbol\":\"circle\"},\"mode\":\"lines\",\"name\":\"9\",\"scene\":\"scene\",\"showlegend\":false,\"x\":[-5.8425799867038855,9.866868126070658],\"y\":[0,150],\"z\":[24.434309330982117,23.104461187525743],\"type\":\"scatter3d\"},{\"hovertemplate\":\"ring=9\\u003cbr\\u003eRing and Wire=Ring: 9 Wire: 19\\u003cbr\\u003ex=%{x}\\u003cbr\\u003ez=%{y}\\u003cbr\\u003ey=%{z}\\u003cextra\\u003e\\u003c\\u002fextra\\u003e\",\"legendgroup\":\"9\",\"line\":{\"color\":\"#00cc96\",\"dash\":\"solid\",\"width\":5},\"marker\":{\"symbol\":\"circle\"},\"mode\":\"lines\",\"name\":\"9\",\"scene\":\"scene\",\"showlegend\":false,\"x\":[-7.478804848085305,8.28458167190537],\"y\":[0,150],\"z\":[23.984134160469672,23.71786077842355],\"type\":\"scatter3d\"},{\"hovertemplate\":\"ring=9\\u003cbr\\u003eRing and Wire=Ring: 9 Wire: 20\\u003cbr\\u003ex=%{x}\\u003cbr\\u003ez=%{y}\\u003cbr\\u003ey=%{z}\\u003cextra\\u003e\\u003c\\u002fextra\\u003e\",\"legendgroup\":\"9\",\"line\":{\"color\":\"#00cc96\",\"dash\":\"solid\",\"width\":5},\"marker\":{\"symbol\":\"circle\"},\"mode\":\"lines\",\"name\":\"9\",\"scene\":\"scene\",\"showlegend\":false,\"x\":[-9.080905638284639,6.664494571724013],\"y\":[0,150],\"z\":[23.42452488678741,24.22304121052131],\"type\":\"scatter3d\"},{\"hovertemplate\":\"ring=9\\u003cbr\\u003eRing and Wire=Ring: 9 Wire: 21\\u003cbr\\u003ex=%{x}\\u003cbr\\u003ez=%{y}\\u003cbr\\u003ey=%{z}\\u003cextra\\u003e\\u003c\\u002fextra\\u003e\",\"legendgroup\":\"9\",\"line\":{\"color\":\"#00cc96\",\"dash\":\"solid\",\"width\":5},\"marker\":{\"symbol\":\"circle\"},\"mode\":\"lines\",\"name\":\"9\",\"scene\":\"scene\",\"showlegend\":false,\"x\":[-10.641572338854294,5.013998911381286],\"y\":[0,150],\"z\":[22.758034878699075,24.617697461375624],\"type\":\"scatter3d\"},{\"hovertemplate\":\"ring=9\\u003cbr\\u003eRing and Wire=Ring: 9 Wire: 22\\u003cbr\\u003ex=%{x}\\u003cbr\\u003ez=%{y}\\u003cbr\\u003ey=%{z}\\u003cextra\\u003e\\u003c\\u002fextra\\u003e\",\"legendgroup\":\"9\",\"line\":{\"color\":\"#00cc96\",\"dash\":\"solid\",\"width\":5},\"marker\":{\"symbol\":\"circle\"},\"mode\":\"lines\",\"name\":\"9\",\"scene\":\"scene\",\"showlegend\":false,\"x\":[-12.153683985594292,3.340625524017426],\"y\":[0,150],\"z\":[21.987705177245335,24.900028805032246],\"type\":\"scatter3d\"},{\"hovertemplate\":\"ring=9\\u003cbr\\u003eRing and Wire=Ring: 9 Wire: 23\\u003cbr\\u003ex=%{x}\\u003cbr\\u003ez=%{y}\\u003cbr\\u003ey=%{z}\\u003cextra\\u003e\\u003c\\u002fextra\\u003e\",\"legendgroup\":\"9\",\"line\":{\"color\":\"#00cc96\",\"dash\":\"solid\",\"width\":5},\"marker\":{\"symbol\":\"circle\"},\"mode\":\"lines\",\"name\":\"9\",\"scene\":\"scene\",\"showlegend\":false,\"x\":[-13.610341159878692,1.6520096285938273],\"y\":[0,150],\"z\":[21.117050620171,25.068747028325646],\"type\":\"scatter3d\"},{\"hovertemplate\":\"ring=9\\u003cbr\\u003eRing and Wire=Ring: 9 Wire: 24\\u003cbr\\u003ex=%{x}\\u003cbr\\u003ez=%{y}\\u003cbr\\u003ey=%{z}\\u003cextra\\u003e\\u003c\\u002fextra\\u003e\",\"legendgroup\":\"9\",\"line\":{\"color\":\"#00cc96\",\"dash\":\"solid\",\"width\":5},\"marker\":{\"symbol\":\"circle\"},\"mode\":\"lines\",\"name\":\"9\",\"scene\":\"scene\",\"showlegend\":false,\"x\":[-15.004897469120348,-0.044144007859893364],\"y\":[0,150],\"z\":[20.150043804526536,25.123082308700152],\"type\":\"scatter3d\"},{\"hovertemplate\":\"ring=9\\u003cbr\\u003eRing and Wire=Ring: 9 Wire: 25\\u003cbr\\u003ex=%{x}\\u003cbr\\u003ez=%{y}\\u003cbr\\u003ey=%{z}\\u003cextra\\u003e\\u003c\\u002fextra\\u003e\",\"legendgroup\":\"9\",\"line\":{\"color\":\"#00cc96\",\"dash\":\"solid\",\"width\":5},\"marker\":{\"symbol\":\"circle\"},\"mode\":\"lines\",\"name\":\"9\",\"scene\":\"scene\",\"showlegend\":false,\"x\":[-16.330989872735813,-1.7400962253306256],\"y\":[0,150],\"z\":[19.091096960618913,25.06278672673377],\"type\":\"scatter3d\"},{\"hovertemplate\":\"ring=9\\u003cbr\\u003eRing and Wire=Ring: 9 Wire: 26\\u003cbr\\u003ex=%{x}\\u003cbr\\u003ez=%{y}\\u003cbr\\u003ey=%{z}\\u003cextra\\u003e\\u003c\\u002fextra\\u003e\",\"legendgroup\":\"9\",\"line\":{\"color\":\"#00cc96\",\"dash\":\"solid\",\"width\":5},\"marker\":{\"symbol\":\"circle\"},\"mode\":\"lines\",\"name\":\"9\",\"scene\":\"scene\",\"showlegend\":false,\"x\":[-17.582567715240124,-3.4281087828338777],\"y\":[0,150],\"z\":[17.945041820016694,24.888135397337617],\"type\":\"scatter3d\"},{\"hovertemplate\":\"ring=9\\u003cbr\\u003eRing and Wire=Ring: 9 Wire: 27\\u003cbr\\u003ex=%{x}\\u003cbr\\u003ez=%{y}\\u003cbr\\u003ey=%{z}\\u003cextra\\u003e\\u003c\\u002fextra\\u003e\",\"legendgroup\":\"9\",\"line\":{\"color\":\"#00cc96\",\"dash\":\"solid\",\"width\":5},\"marker\":{\"symbol\":\"circle\"},\"mode\":\"lines\",\"name\":\"9\",\"scene\":\"scene\",\"showlegend\":false,\"x\":[-18.75392033400002,-5.100479666232588],\"y\":[0,150],\"z\":[16.71710756946706,24.599925214469664],\"type\":\"scatter3d\"},{\"hovertemplate\":\"ring=9\\u003cbr\\u003eRing and Wire=Ring: 9 Wire: 28\\u003cbr\\u003ex=%{x}\\u003cbr\\u003ez=%{y}\\u003cbr\\u003ey=%{z}\\u003cextra\\u003e\\u003c\\u002fextra\\u003e\",\"legendgroup\":\"9\",\"line\":{\"color\":\"#00cc96\",\"dash\":\"solid\",\"width\":5},\"marker\":{\"symbol\":\"circle\"},\"mode\":\"lines\",\"name\":\"9\",\"scene\":\"scene\",\"showlegend\":false,\"x\":[-19.839703115677697,-6.749578230761016],\"y\":[0,150],\"z\":[15.412896991316105,24.199471215090412],\"type\":\"scatter3d\"},{\"hovertemplate\":\"ring=9\\u003cbr\\u003eRing and Wire=Ring: 9 Wire: 29\\u003cbr\\u003ex=%{x}\\u003cbr\\u003ez=%{y}\\u003cbr\\u003ey=%{z}\\u003cextra\\u003e\\u003c\\u002fextra\\u003e\",\"legendgroup\":\"9\",\"line\":{\"color\":\"#00cc96\",\"dash\":\"solid\",\"width\":5},\"marker\":{\"symbol\":\"circle\"},\"mode\":\"lines\",\"name\":\"9\",\"scene\":\"scene\",\"showlegend\":false,\"x\":[-20.834961882475643,-8.367880017906685],\"y\":[0,150],\"z\":[14.03836089929802,23.688600578950847],\"type\":\"scatter3d\"},{\"hovertemplate\":\"ring=9\\u003cbr\\u003eRing and Wire=Ring: 9 Wire: 30\\u003cbr\\u003ex=%{x}\\u003cbr\\u003ez=%{y}\\u003cbr\\u003ey=%{z}\\u003cextra\\u003e\\u003c\\u002fextra\\u003e\",\"legendgroup\":\"9\",\"line\":{\"color\":\"#00cc96\",\"dash\":\"solid\",\"width\":5},\"marker\":{\"symbol\":\"circle\"},\"mode\":\"lines\",\"name\":\"9\",\"scene\":\"scene\",\"showlegend\":false,\"x\":[-21.73515549691366,-9.948001087788803],\"y\":[0,150],\"z\":[12.599770986336868,23.069644291590304],\"type\":\"scatter3d\"},{\"hovertemplate\":\"ring=9\\u003cbr\\u003eRing and Wire=Ring: 9 Wire: 31\\u003cbr\\u003ex=%{x}\\u003cbr\\u003ez=%{y}\\u003cbr\\u003ey=%{z}\\u003cextra\\u003e\\u003c\\u002fextra\\u003e\",\"legendgroup\":\"9\",\"line\":{\"color\":\"#00cc96\",\"dash\":\"solid\",\"width\":5},\"marker\":{\"symbol\":\"circle\"},\"mode\":\"lines\",\"name\":\"9\",\"scene\":\"scene\",\"showlegend\":false,\"x\":[-22.5361765819976,-11.482731710382282],\"y\":[0,150],\"z\":[11.103691208250316,22.34542650858411],\"type\":\"scatter3d\"},{\"hovertemplate\":\"ring=9\\u003cbr\\u003eRing and Wire=Ring: 9 Wire: 32\\u003cbr\\u003ex=%{x}\\u003cbr\\u003ez=%{y}\\u003cbr\\u003ey=%{z}\\u003cextra\\u003e\\u003c\\u002fextra\\u003e\",\"legendgroup\":\"9\",\"line\":{\"color\":\"#00cc96\",\"dash\":\"solid\",\"width\":5},\"marker\":{\"symbol\":\"circle\"},\"mode\":\"lines\",\"name\":\"9\",\"scene\":\"scene\",\"showlegend\":false,\"x\":[-23.234370262238528,-12.96506926186224],\"y\":[0,150],\"z\":[9.556947833924717,21.519251669569442],\"type\":\"scatter3d\"},{\"hovertemplate\":\"ring=9\\u003cbr\\u003eRing and Wire=Ring: 9 Wire: 33\\u003cbr\\u003ex=%{x}\\u003cbr\\u003ez=%{y}\\u003cbr\\u003ey=%{z}\\u003cextra\\u003e\\u003c\\u002fextra\\u003e\",\"legendgroup\":\"9\",\"line\":{\"color\":\"#00cc96\",\"dash\":\"solid\",\"width\":5},\"marker\":{\"symbol\":\"circle\"},\"mode\":\"lines\",\"name\":\"9\",\"scene\":\"scene\",\"showlegend\":false,\"x\":[-23.82655084001132,-14.388250175970452],\"y\":[0,150],\"z\":[7.966598298615812,20.594889420845128],\"type\":\"scatter3d\"},{\"hovertemplate\":\"ring=9\\u003cbr\\u003eRing and Wire=Ring: 9 Wire: 34\\u003cbr\\u003ex=%{x}\\u003cbr\\u003ez=%{y}\\u003cbr\\u003ey=%{z}\\u003cextra\\u003e\\u003c\\u002fextra\\u003e\",\"legendgroup\":\"9\",\"line\":{\"color\":\"#00cc96\",\"dash\":\"solid\",\"width\":5},\"marker\":{\"symbol\":\"circle\"},\"mode\":\"lines\",\"name\":\"9\",\"scene\":\"scene\",\"showlegend\":false,\"x\":[-24.31001633116221,-15.745780804616809],\"y\":[0,150],\"z\":[6.33989900249044,19.57655741534025],\"type\":\"scatter3d\"},{\"hovertemplate\":\"ring=9\\u003cbr\\u003eRing and Wire=Ring: 9 Wire: 35\\u003cbr\\u003ex=%{x}\\u003cbr\\u003ez=%{y}\\u003cbr\\u003ey=%{z}\\u003cextra\\u003e\\u003c\\u002fextra\\u003e\",\"legendgroup\":\"9\",\"line\":{\"color\":\"#00cc96\",\"dash\":\"solid\",\"width\":5},\"marker\":{\"symbol\":\"circle\"},\"mode\":\"lines\",\"name\":\"9\",\"scene\":\"scene\",\"showlegend\":false,\"x\":[-24.682560793542784,-17.0314670469062],\"y\":[0,150],\"z\":[4.684272201336842,18.468902068431156],\"type\":\"scatter3d\"},{\"hovertemplate\":\"ring=9\\u003cbr\\u003eRing and Wire=Ring: 9 Wire: 36\\u003cbr\\u003ex=%{x}\\u003cbr\\u003ez=%{y}\\u003cbr\\u003ey=%{z}\\u003cextra\\u003e\\u003c\\u002fextra\\u003e\",\"legendgroup\":\"9\",\"line\":{\"color\":\"#00cc96\",\"dash\":\"solid\",\"width\":5},\"marker\":{\"symbol\":\"circle\"},\"mode\":\"lines\",\"name\":\"9\",\"scene\":\"scene\",\"showlegend\":false,\"x\":[-24.942484392218063,-18.239442611400257],\"y\":[0,150],\"z\":[3.007272140513872,17.276977357413795],\"type\":\"scatter3d\"},{\"hovertemplate\":\"ring=9\\u003cbr\\u003eRing and Wire=Ring: 9 Wire: 37\\u003cbr\\u003ex=%{x}\\u003cbr\\u003ez=%{y}\\u003cbr\\u003ey=%{z}\\u003cextra\\u003e\\u003c\\u002fextra\\u003e\",\"legendgroup\":\"9\",\"line\":{\"color\":\"#00cc96\",\"dash\":\"solid\",\"width\":5},\"marker\":{\"symbol\":\"circle\"},\"mode\":\"lines\",\"name\":\"9\",\"scene\":\"scene\",\"showlegend\":false,\"x\":[-25.088601155423394,-19.364195782659632],\"y\":[0,150],\"z\":[1.3165505866620988,16.006221761364525],\"type\":\"scatter3d\"},{\"hovertemplate\":\"ring=9\\u003cbr\\u003eRing and Wire=Ring: 9 Wire: 38\\u003cbr\\u003ex=%{x}\\u003cbr\\u003ez=%{y}\\u003cbr\\u003ey=%{z}\\u003cextra\\u003e\\u003c\\u002fextra\\u003e\",\"legendgroup\":\"9\",\"line\":{\"color\":\"#00cc96\",\"dash\":\"solid\",\"width\":5},\"marker\":{\"symbol\":\"circle\"},\"mode\":\"lines\",\"name\":\"9\",\"scene\":\"scene\",\"showlegend\":false,\"x\":[-25.12024438588164,-20.40059456993741],\"y\":[0,150],\"z\":[-0.3801780855523731,14.662433446607446],\"type\":\"scatter3d\"},{\"hovertemplate\":\"ring=9\\u003cbr\\u003eRing and Wire=Ring: 9 Wire: 39\\u003cbr\\u003ex=%{x}\\u003cbr\\u003ez=%{y}\\u003cbr\\u003ey=%{z}\\u003cextra\\u003e\\u003c\\u002fextra\\u003e\",\"legendgroup\":\"9\",\"line\":{\"color\":\"#00cc96\",\"dash\":\"solid\",\"width\":5},\"marker\":{\"symbol\":\"circle\"},\"mode\":\"lines\",\"name\":\"9\",\"scene\":\"scene\",\"showlegend\":false,\"x\":[-25.037269702789917,-21.343910123275823],\"y\":[0,150],\"z\":[-2.07517209236018,13.251743811011297],\"type\":\"scatter3d\"},{\"hovertemplate\":\"ring=9\\u003cbr\\u003eRing and Wire=Ring: 9 Wire: 40\\u003cbr\\u003ex=%{x}\\u003cbr\\u003ez=%{y}\\u003cbr\\u003ey=%{z}\\u003cextra\\u003e\\u003c\\u002fextra\\u003e\",\"legendgroup\":\"9\",\"line\":{\"color\":\"#00cc96\",\"dash\":\"solid\",\"width\":5},\"marker\":{\"symbol\":\"circle\"},\"mode\":\"lines\",\"name\":\"9\",\"scene\":\"scene\",\"showlegend\":false,\"x\":[-24.840055700596082,-22.189838310163978],\"y\":[0,150],\"z\":[-3.760697564872313,11.780589507827337],\"type\":\"scatter3d\"},{\"hovertemplate\":\"ring=9\\u003cbr\\u003eRing and Wire=Ring: 9 Wire: 41\\u003cbr\\u003ex=%{x}\\u003cbr\\u003ez=%{y}\\u003cbr\\u003ey=%{z}\\u003cextra\\u003e\\u003c\\u002fextra\\u003e\",\"legendgroup\":\"9\",\"line\":{\"color\":\"#00cc96\",\"dash\":\"solid\",\"width\":5},\"marker\":{\"symbol\":\"circle\"},\"mode\":\"lines\",\"name\":\"9\",\"scene\":\"scene\",\"showlegend\":false,\"x\":[-24.529502221559113,-22.934519354307305],\"y\":[0,150],\"z\":[-5.429063836950059,10.255683076716837],\"type\":\"scatter3d\"},{\"hovertemplate\":\"ring=9\\u003cbr\\u003eRing and Wire=Ring: 9 Wire: 42\\u003cbr\\u003ex=%{x}\\u003cbr\\u003ez=%{y}\\u003cbr\\u003ey=%{z}\\u003cextra\\u003e\\u003c\\u002fextra\\u003e\",\"legendgroup\":\"9\",\"line\":{\"color\":\"#00cc96\",\"dash\":\"solid\",\"width\":5},\"marker\":{\"symbol\":\"circle\"},\"mode\":\"lines\",\"name\":\"9\",\"scene\":\"scene\",\"showlegend\":false,\"x\":[-24.107026249975274,-23.574555446901524],\"y\":[0,150],\"z\":[-7.07265853595064,8.68398231597221],\"type\":\"scatter3d\"},{\"hovertemplate\":\"ring=9\\u003cbr\\u003eRing and Wire=Ring: 9 Wire: 43\\u003cbr\\u003ex=%{x}\\u003cbr\\u003ez=%{y}\\u003cbr\\u003ey=%{z}\\u003cextra\\u003e\\u003c\\u002fextra\\u003e\",\"legendgroup\":\"9\",\"line\":{\"color\":\"#00cc96\",\"dash\":\"solid\",\"width\":5},\"marker\":{\"symbol\":\"circle\"},\"mode\":\"lines\",\"name\":\"9\",\"scene\":\"scene\",\"showlegend\":false,\"x\":[-23.574555446803746,-24.10702625005491],\"y\":[0,150],\"z\":[-8.683982316237651,7.072658535679204],\"type\":\"scatter3d\"},{\"hovertemplate\":\"ring=9\\u003cbr\\u003eRing and Wire=Ring: 9 Wire: 44\\u003cbr\\u003ex=%{x}\\u003cbr\\u003ez=%{y}\\u003cbr\\u003ey=%{z}\\u003cextra\\u003e\\u003c\\u002fextra\\u003e\",\"legendgroup\":\"9\",\"line\":{\"color\":\"#00cc96\",\"dash\":\"solid\",\"width\":5},\"marker\":{\"symbol\":\"circle\"},\"mode\":\"lines\",\"name\":\"9\",\"scene\":\"scene\",\"showlegend\":false,\"x\":[-22.934519354191824,-24.529502221620245],\"y\":[0,150],\"z\":[-10.255683076975082,5.429063836673855],\"type\":\"scatter3d\"},{\"hovertemplate\":\"ring=9\\u003cbr\\u003eRing and Wire=Ring: 9 Wire: 45\\u003cbr\\u003ex=%{x}\\u003cbr\\u003ez=%{y}\\u003cbr\\u003ey=%{z}\\u003cextra\\u003e\\u003c\\u002fextra\\u003e\",\"legendgroup\":\"9\",\"line\":{\"color\":\"#00cc96\",\"dash\":\"solid\",\"width\":5},\"marker\":{\"symbol\":\"circle\"},\"mode\":\"lines\",\"name\":\"9\",\"scene\":\"scene\",\"showlegend\":false,\"x\":[-22.18983831003133,-24.840055700638427],\"y\":[0,150],\"z\":[-11.780589508077187,3.7606975645926237],\"type\":\"scatter3d\"},{\"hovertemplate\":\"ring=9\\u003cbr\\u003eRing and Wire=Ring: 9 Wire: 46\\u003cbr\\u003ex=%{x}\\u003cbr\\u003ez=%{y}\\u003cbr\\u003ey=%{z}\\u003cextra\\u003e\\u003c\\u002fextra\\u003e\",\"legendgroup\":\"9\",\"line\":{\"color\":\"#00cc96\",\"dash\":\"solid\",\"width\":5},\"marker\":{\"symbol\":\"circle\"},\"mode\":\"lines\",\"name\":\"9\",\"scene\":\"scene\",\"showlegend\":false,\"x\":[-21.343910123126612,-25.037269702813283],\"y\":[0,150],\"z\":[-13.251743811251622,2.0751720920782697],\"type\":\"scatter3d\"},{\"hovertemplate\":\"ring=9\\u003cbr\\u003eRing and Wire=Ring: 9 Wire: 47\\u003cbr\\u003ex=%{x}\\u003cbr\\u003ez=%{y}\\u003cbr\\u003ey=%{z}\\u003cextra\\u003e\\u003c\\u002fextra\\u003e\",\"legendgroup\":\"9\",\"line\":{\"color\":\"#00cc96\",\"dash\":\"solid\",\"width\":5},\"marker\":{\"symbol\":\"circle\"},\"mode\":\"lines\",\"name\":\"9\",\"scene\":\"scene\",\"showlegend\":false,\"x\":[-20.400594569772313,-25.120244385885922],\"y\":[0,150],\"z\":[-14.662433446837149,0.38017808526952734],\"type\":\"scatter3d\"},{\"hovertemplate\":\"ring=9\\u003cbr\\u003eRing and Wire=Ring: 9 Wire: 48\\u003cbr\\u003ex=%{x}\\u003cbr\\u003ez=%{y}\\u003cbr\\u003ey=%{z}\\u003cextra\\u003e\\u003c\\u002fextra\\u003e\",\"legendgroup\":\"9\",\"line\":{\"color\":\"#00cc96\",\"dash\":\"solid\",\"width\":5},\"marker\":{\"symbol\":\"circle\"},\"mode\":\"lines\",\"name\":\"9\",\"scene\":\"scene\",\"showlegend\":false,\"x\":[-19.36419578247941,-25.088601155408572],\"y\":[0,150],\"z\":[-16.00622176158256,-1.3165505869445866],\"type\":\"scatter3d\"},{\"hovertemplate\":\"ring=9\\u003cbr\\u003eRing and Wire=Ring: 9 Wire: 49\\u003cbr\\u003ex=%{x}\\u003cbr\\u003ez=%{y}\\u003cbr\\u003ey=%{z}\\u003cextra\\u003e\\u003c\\u002fextra\\u003e\",\"legendgroup\":\"9\",\"line\":{\"color\":\"#00cc96\",\"dash\":\"solid\",\"width\":5},\"marker\":{\"symbol\":\"circle\"},\"mode\":\"lines\",\"name\":\"9\",\"scene\":\"scene\",\"showlegend\":false,\"x\":[-18.239442611205725,-24.9424843921842],\"y\":[0,150],\"z\":[-17.276977357619163,-3.007272140794715],\"type\":\"scatter3d\"},{\"hovertemplate\":\"ring=9\\u003cbr\\u003eRing and Wire=Ring: 9 Wire: 50\\u003cbr\\u003ex=%{x}\\u003cbr\\u003ez=%{y}\\u003cbr\\u003ey=%{z}\\u003cextra\\u003e\\u003c\\u002fextra\\u003e\",\"legendgroup\":\"9\",\"line\":{\"color\":\"#00cc96\",\"dash\":\"solid\",\"width\":5},\"marker\":{\"symbol\":\"circle\"},\"mode\":\"lines\",\"name\":\"9\",\"scene\":\"scene\",\"showlegend\":false,\"x\":[-17.031467046698246,-24.68256079349004],\"y\":[0,150],\"z\":[-18.468902068622924,-4.6842722016147595],\"type\":\"scatter3d\"},{\"hovertemplate\":\"ring=9\\u003cbr\\u003eRing and Wire=Ring: 9 Wire: 51\\u003cbr\\u003ex=%{x}\\u003cbr\\u003ez=%{y}\\u003cbr\\u003ey=%{z}\\u003cextra\\u003e\\u003c\\u002fextra\\u003e\",\"legendgroup\":\"9\",\"line\":{\"color\":\"#00cc96\",\"dash\":\"solid\",\"width\":5},\"marker\":{\"symbol\":\"circle\"},\"mode\":\"lines\",\"name\":\"9\",\"scene\":\"scene\",\"showlegend\":false,\"x\":[-15.745780804396382,-24.31001633109082],\"y\":[0,150],\"z\":[-19.57655741551754,-6.33989900276416],\"type\":\"scatter3d\"},{\"hovertemplate\":\"ring=9\\u003cbr\\u003eRing and Wire=Ring: 9 Wire: 52\\u003cbr\\u003ex=%{x}\\u003cbr\\u003ez=%{y}\\u003cbr\\u003ey=%{z}\\u003cextra\\u003e\\u003c\\u002fextra\\u003e\",\"legendgroup\":\"9\",\"line\":{\"color\":\"#00cc96\",\"dash\":\"solid\",\"width\":5},\"marker\":{\"symbol\":\"circle\"},\"mode\":\"lines\",\"name\":\"9\",\"scene\":\"scene\",\"showlegend\":false,\"x\":[-14.388250175738563,-23.826550839921616],\"y\":[0,150],\"z\":[-20.59488942100714,-7.966598298884092],\"type\":\"scatter3d\"},{\"hovertemplate\":\"ring=9\\u003cbr\\u003eRing and Wire=Ring: 9 Wire: 53\\u003cbr\\u003ex=%{x}\\u003cbr\\u003ez=%{y}\\u003cbr\\u003ey=%{z}\\u003cextra\\u003e\\u003c\\u002fextra\\u003e\",\"legendgroup\":\"9\",\"line\":{\"color\":\"#00cc96\",\"dash\":\"solid\",\"width\":5},\"marker\":{\"symbol\":\"circle\"},\"mode\":\"lines\",\"name\":\"9\",\"scene\":\"scene\",\"showlegend\":false,\"x\":[-12.965069261619941,-23.23437026213092],\"y\":[0,150],\"z\":[-21.519251669715423,-9.556947834186326],\"type\":\"scatter3d\"},{\"hovertemplate\":\"ring=9\\u003cbr\\u003eRing and Wire=Ring: 9 Wire: 54\\u003cbr\\u003ex=%{x}\\u003cbr\\u003ez=%{y}\\u003cbr\\u003ey=%{z}\\u003cextra\\u003e\\u003c\\u002fextra\\u003e\",\"legendgroup\":\"9\",\"line\":{\"color\":\"#00cc96\",\"dash\":\"solid\",\"width\":5},\"marker\":{\"symbol\":\"circle\"},\"mode\":\"lines\",\"name\":\"9\",\"scene\":\"scene\",\"showlegend\":false,\"x\":[-11.482731710130683,-22.536176581872578],\"y\":[0,150],\"z\":[-22.345426508713405,-11.103691208504063],\"type\":\"scatter3d\"},{\"hovertemplate\":\"ring=9\\u003cbr\\u003eRing and Wire=Ring: 9 Wire: 55\\u003cbr\\u003ex=%{x}\\u003cbr\\u003ez=%{y}\\u003cbr\\u003ey=%{z}\\u003cextra\\u003e\\u003c\\u002fextra\\u003e\",\"legendgroup\":\"9\",\"line\":{\"color\":\"#00cc96\",\"dash\":\"solid\",\"width\":5},\"marker\":{\"symbol\":\"circle\"},\"mode\":\"lines\",\"name\":\"9\",\"scene\":\"scene\",\"showlegend\":false,\"x\":[-9.94800108752905,-21.735155496771792],\"y\":[0,150],\"z\":[-23.069644291702318,-12.599770986581598],\"type\":\"scatter3d\"},{\"hovertemplate\":\"ring=9\\u003cbr\\u003eRing and Wire=Ring: 9 Wire: 56\\u003cbr\\u003ex=%{x}\\u003cbr\\u003ez=%{y}\\u003cbr\\u003ey=%{z}\\u003cextra\\u003e\\u003c\\u002fextra\\u003e\",\"legendgroup\":\"9\",\"line\":{\"color\":\"#00cc96\",\"dash\":\"solid\",\"width\":5},\"marker\":{\"symbol\":\"circle\"},\"mode\":\"lines\",\"name\":\"9\",\"scene\":\"scene\",\"showlegend\":false,\"x\":[-8.367880017639951,-20.834961882317565],\"y\":[0,150],\"z\":[-23.68860057904507,-14.038360899532623],\"type\":\"scatter3d\"},{\"hovertemplate\":\"ring=9\\u003cbr\\u003eRing and Wire=Ring: 9 Wire: 57\\u003cbr\\u003ex=%{x}\\u003cbr\\u003ez=%{y}\\u003cbr\\u003ey=%{z}\\u003cextra\\u003e\\u003c\\u002fextra\\u003e\",\"legendgroup\":\"9\",\"line\":{\"color\":\"#00cc96\",\"dash\":\"solid\",\"width\":5},\"marker\":{\"symbol\":\"circle\"},\"mode\":\"lines\",\"name\":\"9\",\"scene\":\"scene\",\"showlegend\":false,\"x\":[-6.7495782304885275,-19.839703115504147],\"y\":[0,150],\"z\":[-24.19947121516641,-15.412896991539505],\"type\":\"scatter3d\"},{\"hovertemplate\":\"ring=9\\u003cbr\\u003eRing and Wire=Ring: 9 Wire: 58\\u003cbr\\u003ex=%{x}\\u003cbr\\u003ez=%{y}\\u003cbr\\u003ey=%{z}\\u003cextra\\u003e\\u003c\\u002fextra\\u003e\",\"legendgroup\":\"9\",\"line\":{\"color\":\"#00cc96\",\"dash\":\"solid\",\"width\":5},\"marker\":{\"symbol\":\"circle\"},\"mode\":\"lines\",\"name\":\"9\",\"scene\":\"scene\",\"showlegend\":false,\"x\":[-5.100479665955602,-18.75392033381179],\"y\":[0,150],\"z\":[-24.599925214527094,-16.717107569678223],\"type\":\"scatter3d\"},{\"hovertemplate\":\"ring=9\\u003cbr\\u003eRing and Wire=Ring: 9 Wire: 59\\u003cbr\\u003ex=%{x}\\u003cbr\\u003ez=%{y}\\u003cbr\\u003ey=%{z}\\u003cextra\\u003e\\u003c\\u002fextra\\u003e\",\"legendgroup\":\"9\",\"line\":{\"color\":\"#00cc96\",\"dash\":\"solid\",\"width\":5},\"marker\":{\"symbol\":\"circle\"},\"mode\":\"lines\",\"name\":\"9\",\"scene\":\"scene\",\"showlegend\":false,\"x\":[-3.428108782553637,-17.582567715038063],\"y\":[0,150],\"z\":[-24.888135397376214,-17.945041820214673],\"type\":\"scatter3d\"},{\"hovertemplate\":\"ring=9\\u003cbr\\u003eRing and Wire=Ring: 9 Wire: 60\\u003cbr\\u003ex=%{x}\\u003cbr\\u003ez=%{y}\\u003cbr\\u003ey=%{z}\\u003cextra\\u003e\\u003c\\u002fextra\\u003e\",\"legendgroup\":\"9\",\"line\":{\"color\":\"#00cc96\",\"dash\":\"solid\",\"width\":5},\"marker\":{\"symbol\":\"circle\"},\"mode\":\"lines\",\"name\":\"9\",\"scene\":\"scene\",\"showlegend\":false,\"x\":[-1.7400962250484167,-16.330989872520846],\"y\":[0,150],\"z\":[-25.062786726753366,-19.0910969608028],\"type\":\"scatter3d\"},{\"hovertemplate\":\"ring=9\\u003cbr\\u003eRing and Wire=Ring: 9 Wire: 61\\u003cbr\\u003ex=%{x}\\u003cbr\\u003ez=%{y}\\u003cbr\\u003ey=%{z}\\u003cextra\\u003e\\u003c\\u002fextra\\u003e\",\"legendgroup\":\"9\",\"line\":{\"color\":\"#00cc96\",\"dash\":\"solid\",\"width\":5},\"marker\":{\"symbol\":\"circle\"},\"mode\":\"lines\",\"name\":\"9\",\"scene\":\"scene\",\"showlegend\":false,\"x\":[-0.044144007576994326,-15.004897468893446],\"y\":[0,150],\"z\":[-25.123082308700646,-20.1500438046955],\"type\":\"scatter3d\"},{\"hovertemplate\":\"ring=9\\u003cbr\\u003eRing and Wire=Ring: 9 Wire: 62\\u003cbr\\u003ex=%{x}\\u003cbr\\u003ez=%{y}\\u003cbr\\u003ey=%{z}\\u003cextra\\u003e\\u003c\\u002fextra\\u003e\",\"legendgroup\":\"9\",\"line\":{\"color\":\"#00cc96\",\"dash\":\"solid\",\"width\":5},\"marker\":{\"symbol\":\"circle\"},\"mode\":\"lines\",\"name\":\"9\",\"scene\":\"scene\",\"showlegend\":false,\"x\":[1.6520096288761028,-13.61034115964091],\"y\":[0,150],\"z\":[-25.06874702830704,-21.117050620324253],\"type\":\"scatter3d\"},{\"hovertemplate\":\"ring=9\\u003cbr\\u003eRing and Wire=Ring: 9 Wire: 63\\u003cbr\\u003ex=%{x}\\u003cbr\\u003ez=%{y}\\u003cbr\\u003ey=%{z}\\u003cextra\\u003e\\u003c\\u002fextra\\u003e\",\"legendgroup\":\"9\",\"line\":{\"color\":\"#00cc96\",\"dash\":\"solid\",\"width\":5},\"marker\":{\"symbol\":\"circle\"},\"mode\":\"lines\",\"name\":\"9\",\"scene\":\"scene\",\"showlegend\":false,\"x\":[3.340625524297801,-12.153683985346708],\"y\":[0,150],\"z\":[-24.90002880499463,-21.987705177382185],\"type\":\"scatter3d\"},{\"hovertemplate\":\"ring=9\\u003cbr\\u003eRing and Wire=Ring: 9 Wire: 64\\u003cbr\\u003ex=%{x}\\u003cbr\\u003ez=%{y}\\u003cbr\\u003ey=%{z}\\u003cextra\\u003e\\u003c\\u002fextra\\u003e\",\"legendgroup\":\"9\",\"line\":{\"color\":\"#00cc96\",\"dash\":\"solid\",\"width\":5},\"marker\":{\"symbol\":\"circle\"},\"mode\":\"lines\",\"name\":\"9\",\"scene\":\"scene\",\"showlegend\":false,\"x\":[5.0139989116584935,-10.641572338598026],\"y\":[0,150],\"z\":[-24.61769746131916,-22.758034878818904],\"type\":\"scatter3d\"},{\"hovertemplate\":\"ring=9\\u003cbr\\u003eRing and Wire=Ring: 9 Wire: 65\\u003cbr\\u003ex=%{x}\\u003cbr\\u003ez=%{y}\\u003cbr\\u003ey=%{z}\\u003cextra\\u003e\\u003c\\u002fextra\\u003e\",\"legendgroup\":\"9\",\"line\":{\"color\":\"#00cc96\",\"dash\":\"solid\",\"width\":5},\"marker\":{\"symbol\":\"circle\"},\"mode\":\"lines\",\"name\":\"9\",\"scene\":\"scene\",\"showlegend\":false,\"x\":[6.664494571996767,-9.080905638020878],\"y\":[0,150],\"z\":[-24.223041210446265,-23.42452488688966],\"type\":\"scatter3d\"},{\"hovertemplate\":\"ring=9\\u003cbr\\u003eRing and Wire=Ring: 9 Wire: 66\\u003cbr\\u003ex=%{x}\\u003cbr\\u003ez=%{y}\\u003cbr\\u003ey=%{z}\\u003cextra\\u003e\\u003c\\u002fextra\\u003e\",\"legendgroup\":\"9\",\"line\":{\"color\":\"#00cc96\",\"dash\":\"solid\",\"width\":5},\"marker\":{\"symbol\":\"circle\"},\"mode\":\"lines\",\"name\":\"9\",\"scene\":\"scene\",\"showlegend\":false,\"x\":[8.284581672172434,-7.478804847815241],\"y\":[0,150],\"z\":[-23.717860778330266,-23.984134160553882],\"type\":\"scatter3d\"},{\"hovertemplate\":\"ring=9\\u003cbr\\u003eRing and Wire=Ring: 9 Wire: 67\\u003cbr\\u003ex=%{x}\\u003cbr\\u003ez=%{y}\\u003cbr\\u003ey=%{z}\\u003cextra\\u003e\\u003c\\u002fextra\\u003e\",\"legendgroup\":\"9\",\"line\":{\"color\":\"#00cc96\",\"dash\":\"solid\",\"width\":5},\"marker\":{\"symbol\":\"circle\"},\"mode\":\"lines\",\"name\":\"9\",\"scene\":\"scene\",\"showlegend\":false,\"x\":[9.866868126330825,-5.842579986428741],\"y\":[0,150],\"z\":[-23.104461187414636,-24.434309331047906],\"type\":\"scatter3d\"},{\"hovertemplate\":\"ring=9\\u003cbr\\u003eRing and Wire=Ring: 9 Wire: 68\\u003cbr\\u003ex=%{x}\\u003cbr\\u003ez=%{y}\\u003cbr\\u003ey=%{z}\\u003cextra\\u003e\\u003c\\u002fextra\\u003e\",\"legendgroup\":\"9\",\"line\":{\"color\":\"#00cc96\",\"dash\":\"solid\",\"width\":5},\"marker\":{\"symbol\":\"circle\"},\"mode\":\"lines\",\"name\":\"9\",\"scene\":\"scene\",\"showlegend\":false,\"x\":[11.404134324295018,-4.179696772619161],\"y\":[0,150],\"z\":[-22.385641239343325,-24.772996352320998],\"type\":\"scatter3d\"},{\"hovertemplate\":\"ring=9\\u003cbr\\u003eRing and Wire=Ring: 9 Wire: 69\\u003cbr\\u003ex=%{x}\\u003cbr\\u003ez=%{y}\\u003cbr\\u003ey=%{z}\\u003cextra\\u003e\\u003c\\u002fextra\\u003e\",\"legendgroup\":\"9\",\"line\":{\"color\":\"#00cc96\",\"dash\":\"solid\",\"width\":5},\"marker\":{\"symbol\":\"circle\"},\"mode\":\"lines\",\"name\":\"9\",\"scene\":\"scene\",\"showlegend\":false,\"x\":[12.889366072991315,-2.497742561091961],\"y\":[0,150],\"z\":[-21.564680744670735,-24.998649873176394],\"type\":\"scatter3d\"},{\"hovertemplate\":\"ring=9\\u003cbr\\u003eRing and Wire=Ring: 9 Wire: 70\\u003cbr\\u003ex=%{x}\\u003cbr\\u003ez=%{y}\\u003cbr\\u003ey=%{z}\\u003cextra\\u003e\\u003c\\u002fextra\\u003e\",\"legendgroup\":\"9\",\"line\":{\"color\":\"#00cc96\",\"dash\":\"solid\",\"width\":5},\"marker\":{\"symbol\":\"circle\"},\"mode\":\"lines\",\"name\":\"9\",\"scene\":\"scene\",\"showlegend\":false,\"x\":[14.315786600603396,-0.8043917231410642],\"y\":[0,150],\"z\":[-20.645325557838426,-25.110240288354362],\"type\":\"scatter3d\"},{\"hovertemplate\":\"ring=9\\u003cbr\\u003eRing and Wire=Ring: 9 Wire: 71\\u003cbr\\u003ex=%{x}\\u003cbr\\u003ez=%{y}\\u003cbr\\u003ey=%{z}\\u003cextra\\u003e\\u003c\\u002fextra\\u003e\",\"legendgroup\":\"9\",\"line\":{\"color\":\"#00cc96\",\"dash\":\"solid\",\"width\":5},\"marker\":{\"symbol\":\"circle\"},\"mode\":\"lines\",\"name\":\"9\",\"scene\":\"scene\",\"showlegend\":false,\"x\":[15.676887477427744,0.8926293697471017],\"y\":[0,150],\"z\":[-19.631770485700507,-25.107258436384832],\"type\":\"scatter3d\"},{\"hovertemplate\":\"ring=9\\u003cbr\\u003eRing and Wire=Ring: 9 Wire: 72\\u003cbr\\u003ex=%{x}\\u003cbr\\u003ez=%{y}\\u003cbr\\u003ey=%{z}\\u003cextra\\u003e\\u003c\\u002fextra\\u003e\",\"legendgroup\":\"9\",\"line\":{\"color\":\"#00cc96\",\"dash\":\"solid\",\"width\":5},\"marker\":{\"symbol\":\"circle\"},\"mode\":\"lines\",\"name\":\"9\",\"scene\":\"scene\",\"showlegend\":false,\"x\":[16.966458312345722,2.585577599554714],\"y\":[0,150],\"z\":[-18.52864014758199,-24.989717922774425],\"type\":\"scatter3d\"},{\"hovertemplate\":\"ring=9\\u003cbr\\u003eRing and Wire=Ring: 9 Wire: 73\\u003cbr\\u003ex=%{x}\\u003cbr\\u003ez=%{y}\\u003cbr\\u003ey=%{z}\\u003cextra\\u003e\\u003c\\u002fextra\\u003e\",\"legendgroup\":\"9\",\"line\":{\"color\":\"#00cc96\",\"dash\":\"solid\",\"width\":5},\"marker\":{\"symbol\":\"circle\"},\"mode\":\"lines\",\"name\":\"9\",\"scene\":\"scene\",\"showlegend\":false,\"x\":[18.178615089413757,4.2667284318040215],\"y\":[0,150],\"z\":[-17.340967874201567,-24.75815505792763],\"type\":\"scatter3d\"},{\"hovertemplate\":\"ring=9\\u003cbr\\u003eRing and Wire=Ring: 9 Wire: 74\\u003cbr\\u003ex=%{x}\\u003cbr\\u003ez=%{y}\\u003cbr\\u003ey=%{z}\\u003cextra\\u003e\\u003c\\u002fextra\\u003e\",\"legendgroup\":\"9\",\"line\":{\"color\":\"#00cc96\",\"dash\":\"solid\",\"width\":5},\"marker\":{\"symbol\":\"circle\"},\"mode\":\"lines\",\"name\":\"9\",\"scene\":\"scene\",\"showlegend\":false,\"x\":[19.307827015278512,5.928411160836424],\"y\":[0,150],\"z\":[-16.07417274173802,-24.413626410085467],\"type\":\"scatter3d\"},{\"hovertemplate\":\"ring=9\\u003cbr\\u003eRing and Wire=Ring: 9 Wire: 75\\u003cbr\\u003ex=%{x}\\u003cbr\\u003ez=%{y}\\u003cbr\\u003ey=%{z}\\u003cextra\\u003e\\u003c\\u002fextra\\u003e\",\"legendgroup\":\"9\",\"line\":{\"color\":\"#00cc96\",\"dash\":\"solid\",\"width\":5},\"marker\":{\"symbol\":\"circle\"},\"mode\":\"lines\",\"name\":\"9\",\"scene\":\"scene\",\"showlegend\":false,\"x\":[20.34894175491849,7.56304390948315],\"y\":[0,150],\"z\":[-14.734034845828461,-23.957703984446887],\"type\":\"scatter3d\"},{\"hovertemplate\":\"ring=9\\u003cbr\\u003eRing and Wire=Ring: 9 Wire: 76\\u003cbr\\u003ex=%{x}\\u003cbr\\u003ez=%{y}\\u003cbr\\u003ey=%{z}\\u003cextra\\u003e\\u003c\\u002fextra\\u003e\",\"legendgroup\":\"9\",\"line\":{\"color\":\"#00cc96\",\"dash\":\"solid\",\"width\":5},\"marker\":{\"symbol\":\"circle\"},\"mode\":\"lines\",\"name\":\"9\",\"scene\":\"scene\",\"showlegend\":false,\"x\":[21.297208940566943,9.163168223431747],\"y\":[0,150],\"z\":[-13.32666892831768,-23.392468050469645],\"type\":\"scatter3d\"},{\"hovertemplate\":\"ring=9\\u003cbr\\u003eRing and Wire=Ring: 9 Wire: 77\\u003cbr\\u003ex=%{x}\\u003cbr\\u003ez=%{y}\\u003cbr\\u003ey=%{z}\\u003cextra\\u003e\\u003c\\u002fextra\\u003e\",\"legendgroup\":\"9\",\"line\":{\"color\":\"#00cc96\",\"dash\":\"solid\",\"width\":5},\"marker\":{\"symbol\":\"circle\"},\"mode\":\"lines\",\"name\":\"9\",\"scene\":\"scene\",\"showlegend\":false,\"x\":[22.14830184655043,10.721483102442363],\"y\":[0,150],\"z\":[-11.858496477093679,-22.720497650077895],\"type\":\"scatter3d\"},{\"hovertemplate\":\"ring=9\\u003cbr\\u003eRing and Wire=Ring: 9 Wire: 78\\u003cbr\\u003ex=%{x}\\u003cbr\\u003ez=%{y}\\u003cbr\\u003ey=%{z}\\u003cextra\\u003e\\u003c\\u002fextra\\u003e\",\"legendgroup\":\"9\",\"line\":{\"color\":\"#00cc96\",\"dash\":\"solid\",\"width\":5},\"marker\":{\"symbol\":\"circle\"},\"mode\":\"lines\",\"name\":\"9\",\"scene\":\"scene\",\"showlegend\":false,\"x\":[22.89833713114576,12.230878313137419],\"y\":[0,150],\"z\":[-10.336216426311125,-21.9448588300854],\"type\":\"scatter3d\"},{\"hovertemplate\":\"ring=9\\u003cbr\\u003eRing and Wire=Ring: 9 Wire: 79\\u003cbr\\u003ex=%{x}\\u003cbr\\u003ez=%{y}\\u003cbr\\u003ey=%{z}\\u003cextra\\u003e\\u003c\\u002fextra\\u003e\",\"legendgroup\":\"9\",\"line\":{\"color\":\"#00cc96\",\"dash\":\"solid\",\"width\":5},\"marker\":{\"symbol\":\"circle\"},\"mode\":\"lines\",\"name\":\"9\",\"scene\":\"scene\",\"showlegend\":false,\"x\":[23.543892555377518,13.684466831365627],\"y\":[0,150],\"z\":[-8.766774590691359,-21.069090652527137],\"type\":\"scatter3d\"},{\"hovertemplate\":\"ring=9\\u003cbr\\u003eRing and Wire=Ring: 9 Wire: 80\\u003cbr\\u003ex=%{x}\\u003cbr\\u003ez=%{y}\\u003cbr\\u003ey=%{z}\\u003cextra\\u003e\\u003c\\u002fextra\\u003e\",\"legendgroup\":\"9\",\"line\":{\"color\":\"#00cc96\",\"dash\":\"solid\",\"width\":5},\"marker\":{\"symbol\":\"circle\"},\"mode\":\"lines\",\"name\":\"9\",\"scene\":\"scene\",\"showlegend\":false,\"x\":[24.082022597909607,15.075616266113542],\"y\":[0,150],\"z\":[-7.157331973362945,-20.097189046731017],\"type\":\"scatter3d\"},{\"hovertemplate\":\"ring=9\\u003cbr\\u003eRing and Wire=Ring: 9 Wire: 81\\u003cbr\\u003ex=%{x}\\u003cbr\\u003ez=%{y}\\u003cbr\\u003ey=%{z}\\u003cextra\\u003e\\u003c\\u002fextra\\u003e\",\"legendgroup\":\"9\",\"line\":{\"color\":\"#00cc96\",\"dash\":\"solid\",\"width\":5},\"marker\":{\"symbol\":\"circle\"},\"mode\":\"lines\",\"name\":\"9\",\"scene\":\"scene\",\"showlegend\":false,\"x\":[24.51027189478355,16.397979121584676],\"y\":[0,150],\"z\":[-5.515232091846733,-19.033588576808775],\"type\":\"scatter3d\"},{\"hovertemplate\":\"ring=9\\u003cbr\\u003eRing and Wire=Ring: 9 Wire: 82\\u003cbr\\u003ex=%{x}\\u003cbr\\u003ez=%{y}\\u003cbr\\u003ey=%{z}\\u003cextra\\u003e\\u003c\\u002fextra\\u003e\",\"legendgroup\":\"9\",\"line\":{\"color\":\"#00cc96\",\"dash\":\"solid\",\"width\":5},\"marker\":{\"symbol\":\"circle\"},\"mode\":\"lines\",\"name\":\"9\",\"scene\":\"scene\",\"showlegend\":false,\"x\":[24.826686442681016,17.645521759366815],\"y\":[0,150],\"z\":[-3.847967471269853,-17.883142207757132],\"type\":\"scatter3d\"},{\"hovertemplate\":\"ring=9\\u003cbr\\u003eRing and Wire=Ring: 9 Wire: 83\\u003cbr\\u003ex=%{x}\\u003cbr\\u003ez=%{y}\\u003cbr\\u003ey=%{z}\\u003cextra\\u003e\\u003c\\u002fextra\\u003e\",\"legendgroup\":\"9\",\"line\":{\"color\":\"#00cc96\",\"dash\":\"solid\",\"width\":5},\"marker\":{\"symbol\":\"circle\"},\"mode\":\"lines\",\"name\":\"9\",\"scene\":\"scene\",\"showlegend\":false,\"x\":[25.02982251459285,18.81255192854033],\"y\":[0,150],\"z\":[-2.163145457691935,-16.651099162491523],\"type\":\"scatter3d\"},{\"hovertemplate\":\"ring=9\\u003cbr\\u003eRing and Wire=Ring: 9 Wire: 84\\u003cbr\\u003ex=%{x}\\u003cbr\\u003ez=%{y}\\u003cbr\\u003ey=%{z}\\u003cextra\\u003e\\u003c\\u002fextra\\u003e\",\"legendgroup\":\"9\",\"line\":{\"color\":\"#00cc96\",\"dash\":\"solid\",\"width\":5},\"marker\":{\"symbol\":\"circle\"},\"mode\":\"lines\",\"name\":\"9\",\"scene\":\"scene\",\"showlegend\":false,\"x\":[25.118753247214226,19.8937447381135],\"y\":[0,150],\"z\":[-0.4684535075298948,-15.343080970845907],\"type\":\"scatter3d\"},{\"hovertemplate\":\"ring=9\\u003cbr\\u003eRing and Wire=Ring: 9 Wire: 85\\u003cbr\\u003ex=%{x}\\u003cbr\\u003ez=%{y}\\u003cbr\\u003ey=%{z}\\u003cextra\\u003e\\u003c\\u002fextra\\u003e\",\"legendgroup\":\"9\",\"line\":{\"color\":\"#00cc96\",\"dash\":\"solid\",\"width\":5},\"marker\":{\"symbol\":\"circle\"},\"mode\":\"lines\",\"name\":\"9\",\"scene\":\"scene\",\"showlegend\":false,\"x\":[25.093072870009365,20.88416695327875],\"y\":[0,150],\"z\":[1.2283758885424199,-13.965055819821561],\"type\":\"scatter3d\"},{\"hovertemplate\":\"ring=9\\u003cbr\\u003eRing and Wire=Ring: 9 Wire: 86\\u003cbr\\u003ex=%{x}\\u003cbr\\u003ez=%{y}\\u003cbr\\u003ey=%{z}\\u003cextra\\u003e\\u003c\\u002fextra\\u003e\",\"legendgroup\":\"9\",\"line\":{\"color\":\"#00cc96\",\"dash\":\"solid\",\"width\":5},\"marker\":{\"symbol\":\"circle\"},\"mode\":\"lines\",\"name\":\"9\",\"scene\":\"scene\",\"showlegend\":false,\"x\":[24.952898556649394,21.77929950463168],\"y\":[0,150],\"z\":[2.9196004871757824,-12.523311322118548],\"type\":\"scatter3d\"},{\"hovertemplate\":\"ring=9\\u003cbr\\u003eRing and Wire=Ring: 9 Wire: 87\\u003cbr\\u003ex=%{x}\\u003cbr\\u003ez=%{y}\\u003cbr\\u003ey=%{z}\\u003cextra\\u003e\\u003c\\u002fextra\\u003e\",\"legendgroup\":\"9\",\"line\":{\"color\":\"#00cc96\",\"dash\":\"solid\",\"width\":5},\"marker\":{\"symbol\":\"circle\"},\"mode\":\"lines\",\"name\":\"9\",\"scene\":\"scene\",\"showlegend\":false,\"x\":[24.698869890375768,22.575058107648204],\"y\":[0,150],\"z\":[4.597503618426165,-11.024425827201144],\"type\":\"scatter3d\"},{\"hovertemplate\":\"ring=9\\u003cbr\\u003eRing and Wire=Ring: 9 Wire: 88\\u003cbr\\u003ex=%{x}\\u003cbr\\u003ez=%{y}\\u003cbr\\u003ey=%{z}\\u003cextra\\u003e\\u003c\\u002fextra\\u003e\",\"legendgroup\":\"9\",\"line\":{\"color\":\"#00cc96\",\"dash\":\"solid\",\"width\":5},\"marker\":{\"symbol\":\"circle\"},\"mode\":\"lines\",\"name\":\"9\",\"scene\":\"scene\",\"showlegend\":false,\"x\":[24.33214594572866,23.267811898338035],\"y\":[0,150],\"z\":[6.254429395149728,-9.475238405798107],\"type\":\"scatter3d\"},{\"hovertemplate\":\"ring=9\\u003cbr\\u003eRing and Wire=Ring: 9 Wire: 89\\u003cbr\\u003ex=%{x}\\u003cbr\\u003ez=%{y}\\u003cbr\\u003ey=%{z}\\u003cextra\\u003e\\u003c\\u002fextra\\u003e\",\"legendgroup\":\"9\",\"line\":{\"color\":\"#00cc96\",\"dash\":\"solid\",\"width\":5},\"marker\":{\"symbol\":\"circle\"},\"mode\":\"lines\",\"name\":\"9\",\"scene\":\"scene\",\"showlegend\":false,\"x\":[23.854399999955618,23.85440000004438],\"y\":[0,150],\"z\":[7.882817645060032,-7.882817644791436],\"type\":\"scatter3d\"},{\"hovertemplate\":\"ring=9\\u003cbr\\u003eRing and Wire=Ring: 9 Wire: 90\\u003cbr\\u003ex=%{x}\\u003cbr\\u003ez=%{y}\\u003cbr\\u003ey=%{z}\\u003cextra\\u003e\\u003c\\u002fextra\\u003e\",\"legendgroup\":\"9\",\"line\":{\"color\":\"#00cc96\",\"dash\":\"solid\",\"width\":5},\"marker\":{\"symbol\":\"circle\"},\"mode\":\"lines\",\"name\":\"9\",\"scene\":\"scene\",\"showlegend\":false,\"x\":[23.267811898231336,24.332145945799084],\"y\":[0,150],\"z\":[9.47523840606012,-6.25442939487573],\"type\":\"scatter3d\"},{\"hovertemplate\":\"ring=9\\u003cbr\\u003eRing and Wire=Ring: 9 Wire: 91\\u003cbr\\u003ex=%{x}\\u003cbr\\u003ez=%{y}\\u003cbr\\u003ey=%{z}\\u003cextra\\u003e\\u003c\\u002fextra\\u003e\",\"legendgroup\":\"9\",\"line\":{\"color\":\"#00cc96\",\"dash\":\"solid\",\"width\":5},\"marker\":{\"symbol\":\"circle\"},\"mode\":\"lines\",\"name\":\"9\",\"scene\":\"scene\",\"showlegend\":false,\"x\":[22.57505810752406,24.69886989042754],\"y\":[0,150],\"z\":[11.024425827455355,-4.597503618148039],\"type\":\"scatter3d\"},{\"hovertemplate\":\"ring=9\\u003cbr\\u003eRing and Wire=Ring: 9 Wire: 92\\u003cbr\\u003ex=%{x}\\u003cbr\\u003ez=%{y}\\u003cbr\\u003ey=%{z}\\u003cextra\\u003e\\u003c\\u002fextra\\u003e\",\"legendgroup\":\"9\",\"line\":{\"color\":\"#00cc96\",\"dash\":\"solid\",\"width\":5},\"marker\":{\"symbol\":\"circle\"},\"mode\":\"lines\",\"name\":\"9\",\"scene\":\"scene\",\"showlegend\":false,\"x\":[21.77929950449067,24.952898556682268],\"y\":[0,150],\"z\":[12.523311322363778,-2.919600486894817],\"type\":\"scatter3d\"},{\"hovertemplate\":\"ring=9\\u003cbr\\u003eRing and Wire=Ring: 9 Wire: 93\\u003cbr\\u003ex=%{x}\\u003cbr\\u003ez=%{y}\\u003cbr\\u003ey=%{z}\\u003cextra\\u003e\\u003c\\u002fextra\\u003e\",\"legendgroup\":\"9\",\"line\":{\"color\":\"#00cc96\",\"dash\":\"solid\",\"width\":5},\"marker\":{\"symbol\":\"circle\"},\"mode\":\"lines\",\"name\":\"9\",\"scene\":\"scene\",\"showlegend\":false,\"x\":[20.884166953121497,25.093072870023196],\"y\":[0,150],\"z\":[13.965055820056733,-1.2283758882598539],\"type\":\"scatter3d\"}],                        {\"template\":{\"data\":{\"histogram2dcontour\":[{\"type\":\"histogram2dcontour\",\"colorbar\":{\"outlinewidth\":0,\"ticks\":\"\"},\"colorscale\":[[0.0,\"#0d0887\"],[0.1111111111111111,\"#46039f\"],[0.2222222222222222,\"#7201a8\"],[0.3333333333333333,\"#9c179e\"],[0.4444444444444444,\"#bd3786\"],[0.5555555555555556,\"#d8576b\"],[0.6666666666666666,\"#ed7953\"],[0.7777777777777778,\"#fb9f3a\"],[0.8888888888888888,\"#fdca26\"],[1.0,\"#f0f921\"]]}],\"choropleth\":[{\"type\":\"choropleth\",\"colorbar\":{\"outlinewidth\":0,\"ticks\":\"\"}}],\"histogram2d\":[{\"type\":\"histogram2d\",\"colorbar\":{\"outlinewidth\":0,\"ticks\":\"\"},\"colorscale\":[[0.0,\"#0d0887\"],[0.1111111111111111,\"#46039f\"],[0.2222222222222222,\"#7201a8\"],[0.3333333333333333,\"#9c179e\"],[0.4444444444444444,\"#bd3786\"],[0.5555555555555556,\"#d8576b\"],[0.6666666666666666,\"#ed7953\"],[0.7777777777777778,\"#fb9f3a\"],[0.8888888888888888,\"#fdca26\"],[1.0,\"#f0f921\"]]}],\"heatmap\":[{\"type\":\"heatmap\",\"colorbar\":{\"outlinewidth\":0,\"ticks\":\"\"},\"colorscale\":[[0.0,\"#0d0887\"],[0.1111111111111111,\"#46039f\"],[0.2222222222222222,\"#7201a8\"],[0.3333333333333333,\"#9c179e\"],[0.4444444444444444,\"#bd3786\"],[0.5555555555555556,\"#d8576b\"],[0.6666666666666666,\"#ed7953\"],[0.7777777777777778,\"#fb9f3a\"],[0.8888888888888888,\"#fdca26\"],[1.0,\"#f0f921\"]]}],\"heatmapgl\":[{\"type\":\"heatmapgl\",\"colorbar\":{\"outlinewidth\":0,\"ticks\":\"\"},\"colorscale\":[[0.0,\"#0d0887\"],[0.1111111111111111,\"#46039f\"],[0.2222222222222222,\"#7201a8\"],[0.3333333333333333,\"#9c179e\"],[0.4444444444444444,\"#bd3786\"],[0.5555555555555556,\"#d8576b\"],[0.6666666666666666,\"#ed7953\"],[0.7777777777777778,\"#fb9f3a\"],[0.8888888888888888,\"#fdca26\"],[1.0,\"#f0f921\"]]}],\"contourcarpet\":[{\"type\":\"contourcarpet\",\"colorbar\":{\"outlinewidth\":0,\"ticks\":\"\"}}],\"contour\":[{\"type\":\"contour\",\"colorbar\":{\"outlinewidth\":0,\"ticks\":\"\"},\"colorscale\":[[0.0,\"#0d0887\"],[0.1111111111111111,\"#46039f\"],[0.2222222222222222,\"#7201a8\"],[0.3333333333333333,\"#9c179e\"],[0.4444444444444444,\"#bd3786\"],[0.5555555555555556,\"#d8576b\"],[0.6666666666666666,\"#ed7953\"],[0.7777777777777778,\"#fb9f3a\"],[0.8888888888888888,\"#fdca26\"],[1.0,\"#f0f921\"]]}],\"surface\":[{\"type\":\"surface\",\"colorbar\":{\"outlinewidth\":0,\"ticks\":\"\"},\"colorscale\":[[0.0,\"#0d0887\"],[0.1111111111111111,\"#46039f\"],[0.2222222222222222,\"#7201a8\"],[0.3333333333333333,\"#9c179e\"],[0.4444444444444444,\"#bd3786\"],[0.5555555555555556,\"#d8576b\"],[0.6666666666666666,\"#ed7953\"],[0.7777777777777778,\"#fb9f3a\"],[0.8888888888888888,\"#fdca26\"],[1.0,\"#f0f921\"]]}],\"mesh3d\":[{\"type\":\"mesh3d\",\"colorbar\":{\"outlinewidth\":0,\"ticks\":\"\"}}],\"scatter\":[{\"fillpattern\":{\"fillmode\":\"overlay\",\"size\":10,\"solidity\":0.2},\"type\":\"scatter\"}],\"parcoords\":[{\"type\":\"parcoords\",\"line\":{\"colorbar\":{\"outlinewidth\":0,\"ticks\":\"\"}}}],\"scatterpolargl\":[{\"type\":\"scatterpolargl\",\"marker\":{\"colorbar\":{\"outlinewidth\":0,\"ticks\":\"\"}}}],\"bar\":[{\"error_x\":{\"color\":\"#2a3f5f\"},\"error_y\":{\"color\":\"#2a3f5f\"},\"marker\":{\"line\":{\"color\":\"#E5ECF6\",\"width\":0.5},\"pattern\":{\"fillmode\":\"overlay\",\"size\":10,\"solidity\":0.2}},\"type\":\"bar\"}],\"scattergeo\":[{\"type\":\"scattergeo\",\"marker\":{\"colorbar\":{\"outlinewidth\":0,\"ticks\":\"\"}}}],\"scatterpolar\":[{\"type\":\"scatterpolar\",\"marker\":{\"colorbar\":{\"outlinewidth\":0,\"ticks\":\"\"}}}],\"histogram\":[{\"marker\":{\"pattern\":{\"fillmode\":\"overlay\",\"size\":10,\"solidity\":0.2}},\"type\":\"histogram\"}],\"scattergl\":[{\"type\":\"scattergl\",\"marker\":{\"colorbar\":{\"outlinewidth\":0,\"ticks\":\"\"}}}],\"scatter3d\":[{\"type\":\"scatter3d\",\"line\":{\"colorbar\":{\"outlinewidth\":0,\"ticks\":\"\"}},\"marker\":{\"colorbar\":{\"outlinewidth\":0,\"ticks\":\"\"}}}],\"scattermapbox\":[{\"type\":\"scattermapbox\",\"marker\":{\"colorbar\":{\"outlinewidth\":0,\"ticks\":\"\"}}}],\"scatterternary\":[{\"type\":\"scatterternary\",\"marker\":{\"colorbar\":{\"outlinewidth\":0,\"ticks\":\"\"}}}],\"scattercarpet\":[{\"type\":\"scattercarpet\",\"marker\":{\"colorbar\":{\"outlinewidth\":0,\"ticks\":\"\"}}}],\"carpet\":[{\"aaxis\":{\"endlinecolor\":\"#2a3f5f\",\"gridcolor\":\"white\",\"linecolor\":\"white\",\"minorgridcolor\":\"white\",\"startlinecolor\":\"#2a3f5f\"},\"baxis\":{\"endlinecolor\":\"#2a3f5f\",\"gridcolor\":\"white\",\"linecolor\":\"white\",\"minorgridcolor\":\"white\",\"startlinecolor\":\"#2a3f5f\"},\"type\":\"carpet\"}],\"table\":[{\"cells\":{\"fill\":{\"color\":\"#EBF0F8\"},\"line\":{\"color\":\"white\"}},\"header\":{\"fill\":{\"color\":\"#C8D4E3\"},\"line\":{\"color\":\"white\"}},\"type\":\"table\"}],\"barpolar\":[{\"marker\":{\"line\":{\"color\":\"#E5ECF6\",\"width\":0.5},\"pattern\":{\"fillmode\":\"overlay\",\"size\":10,\"solidity\":0.2}},\"type\":\"barpolar\"}],\"pie\":[{\"automargin\":true,\"type\":\"pie\"}]},\"layout\":{\"autotypenumbers\":\"strict\",\"colorway\":[\"#636efa\",\"#EF553B\",\"#00cc96\",\"#ab63fa\",\"#FFA15A\",\"#19d3f3\",\"#FF6692\",\"#B6E880\",\"#FF97FF\",\"#FECB52\"],\"font\":{\"color\":\"#2a3f5f\"},\"hovermode\":\"closest\",\"hoverlabel\":{\"align\":\"left\"},\"paper_bgcolor\":\"white\",\"plot_bgcolor\":\"#E5ECF6\",\"polar\":{\"bgcolor\":\"#E5ECF6\",\"angularaxis\":{\"gridcolor\":\"white\",\"linecolor\":\"white\",\"ticks\":\"\"},\"radialaxis\":{\"gridcolor\":\"white\",\"linecolor\":\"white\",\"ticks\":\"\"}},\"ternary\":{\"bgcolor\":\"#E5ECF6\",\"aaxis\":{\"gridcolor\":\"white\",\"linecolor\":\"white\",\"ticks\":\"\"},\"baxis\":{\"gridcolor\":\"white\",\"linecolor\":\"white\",\"ticks\":\"\"},\"caxis\":{\"gridcolor\":\"white\",\"linecolor\":\"white\",\"ticks\":\"\"}},\"coloraxis\":{\"colorbar\":{\"outlinewidth\":0,\"ticks\":\"\"}},\"colorscale\":{\"sequential\":[[0.0,\"#0d0887\"],[0.1111111111111111,\"#46039f\"],[0.2222222222222222,\"#7201a8\"],[0.3333333333333333,\"#9c179e\"],[0.4444444444444444,\"#bd3786\"],[0.5555555555555556,\"#d8576b\"],[0.6666666666666666,\"#ed7953\"],[0.7777777777777778,\"#fb9f3a\"],[0.8888888888888888,\"#fdca26\"],[1.0,\"#f0f921\"]],\"sequentialminus\":[[0.0,\"#0d0887\"],[0.1111111111111111,\"#46039f\"],[0.2222222222222222,\"#7201a8\"],[0.3333333333333333,\"#9c179e\"],[0.4444444444444444,\"#bd3786\"],[0.5555555555555556,\"#d8576b\"],[0.6666666666666666,\"#ed7953\"],[0.7777777777777778,\"#fb9f3a\"],[0.8888888888888888,\"#fdca26\"],[1.0,\"#f0f921\"]],\"diverging\":[[0,\"#8e0152\"],[0.1,\"#c51b7d\"],[0.2,\"#de77ae\"],[0.3,\"#f1b6da\"],[0.4,\"#fde0ef\"],[0.5,\"#f7f7f7\"],[0.6,\"#e6f5d0\"],[0.7,\"#b8e186\"],[0.8,\"#7fbc41\"],[0.9,\"#4d9221\"],[1,\"#276419\"]]},\"xaxis\":{\"gridcolor\":\"white\",\"linecolor\":\"white\",\"ticks\":\"\",\"title\":{\"standoff\":15},\"zerolinecolor\":\"white\",\"automargin\":true,\"zerolinewidth\":2},\"yaxis\":{\"gridcolor\":\"white\",\"linecolor\":\"white\",\"ticks\":\"\",\"title\":{\"standoff\":15},\"zerolinecolor\":\"white\",\"automargin\":true,\"zerolinewidth\":2},\"scene\":{\"xaxis\":{\"backgroundcolor\":\"#E5ECF6\",\"gridcolor\":\"white\",\"linecolor\":\"white\",\"showbackground\":true,\"ticks\":\"\",\"zerolinecolor\":\"white\",\"gridwidth\":2},\"yaxis\":{\"backgroundcolor\":\"#E5ECF6\",\"gridcolor\":\"white\",\"linecolor\":\"white\",\"showbackground\":true,\"ticks\":\"\",\"zerolinecolor\":\"white\",\"gridwidth\":2},\"zaxis\":{\"backgroundcolor\":\"#E5ECF6\",\"gridcolor\":\"white\",\"linecolor\":\"white\",\"showbackground\":true,\"ticks\":\"\",\"zerolinecolor\":\"white\",\"gridwidth\":2}},\"shapedefaults\":{\"line\":{\"color\":\"#2a3f5f\"}},\"annotationdefaults\":{\"arrowcolor\":\"#2a3f5f\",\"arrowhead\":0,\"arrowwidth\":1},\"geo\":{\"bgcolor\":\"white\",\"landcolor\":\"#E5ECF6\",\"subunitcolor\":\"white\",\"showland\":true,\"showlakes\":true,\"lakecolor\":\"white\"},\"title\":{\"x\":0.05},\"mapbox\":{\"style\":\"light\"}}},\"scene\":{\"domain\":{\"x\":[0.0,1.0],\"y\":[0.0,1.0]},\"xaxis\":{\"title\":{\"text\":\"X\"},\"range\":[-60,60]},\"yaxis\":{\"title\":{\"text\":\"Z\"},\"range\":[0,175]},\"zaxis\":{\"title\":{\"text\":\"Y\"},\"range\":[-60,60]},\"aspectmode\":\"cube\"},\"legend\":{\"title\":{\"text\":\"Ring Number\"},\"tracegroupgap\":0},\"margin\":{\"t\":60},\"title\":{\"text\":\"Rings of the GlueX Central Drift Chamber\"}},                        {\"responsive\": true}                    ).then(function(){\n",
              "                            \n",
              "var gd = document.getElementById('a48d0c8a-040d-446a-b4f3-7b57adfe5e87');\n",
              "var x = new MutationObserver(function (mutations, observer) {{\n",
              "        var display = window.getComputedStyle(gd).display;\n",
              "        if (!display || display === 'none') {{\n",
              "            console.log([gd, 'removed!']);\n",
              "            Plotly.purge(gd);\n",
              "            observer.disconnect();\n",
              "        }}\n",
              "}});\n",
              "\n",
              "// Listen for the removal of the full notebook cells\n",
              "var notebookContainer = gd.closest('#notebook-container');\n",
              "if (notebookContainer) {{\n",
              "    x.observe(notebookContainer, {childList: true});\n",
              "}}\n",
              "\n",
              "// Listen for the clearing of the current output cell\n",
              "var outputEl = gd.closest('.output');\n",
              "if (outputEl) {{\n",
              "    x.observe(outputEl, {childList: true});\n",
              "}}\n",
              "\n",
              "                        })                };                            </script>        </div>\n",
              "</body>\n",
              "</html>"
            ]
          },
          "metadata": {}
        }
      ]
    },
    {
      "cell_type": "markdown",
      "source": [
        "Based on the position of the wire we detect a signal in, we can determine the x and y coordinates of the hit. In later sections, we will see how we can use the layout of the detector to estimate the z coordinate of the hit as well.\n",
        "\n",
        "Once we have coordinates for all of the hits that are left by a track, we can use the path of the particle to gain information about its momentum."
      ],
      "metadata": {
        "id": "uEv_E5Enpnq6"
      }
    },
    {
      "cell_type": "markdown",
      "source": [
        "####**Question #3:**\n",
        "---\n",
        "Based on the interactive plot shown above, how many \"rings\" are there in the GlueX central drift chamber (CDC)?"
      ],
      "metadata": {
        "id": "Q3MD_YFeqzeE"
      }
    },
    {
      "cell_type": "markdown",
      "source": [
        "Double click to edit this cell and answer the following question: How many rings are there in the GlueX central drift chamber?"
      ],
      "metadata": {
        "id": "qsLN-VNNqzeG"
      }
    },
    {
      "cell_type": "markdown",
      "source": [
        "#####**Solution:**"
      ],
      "metadata": {
        "id": "tyyYO4kLqzeG"
      }
    },
    {
      "cell_type": "markdown",
      "source": [
        "There are a total of 28 layers in the GlueX central drift chamber."
      ],
      "metadata": {
        "id": "Sldbd8zQqzeG"
      }
    },
    {
      "cell_type": "markdown",
      "source": [
        "####**Question #4:**\n",
        "---\n",
        "Using the interactive plot shown above, plot rings 4, 5, and 9. What differences do you notice between these three rings? **Note:** It may be easier to see the differences if you plot these rings one at a time."
      ],
      "metadata": {
        "id": "RIR54FwWrSg3"
      }
    },
    {
      "cell_type": "markdown",
      "source": [
        "Double click to edit this cell and answer the following question: What differences do you notice between these three rings?"
      ],
      "metadata": {
        "id": "wiayDGcIrShV"
      }
    },
    {
      "cell_type": "markdown",
      "source": [
        "#####**Solution:**"
      ],
      "metadata": {
        "id": "TOaC6UORrShV"
      }
    },
    {
      "cell_type": "markdown",
      "source": [
        "One observation is that as you increase the ring number, the radius of the ring increases. This is due to the fact that the rings are numbered from the smallest radius to the largest radius.\n",
        "\n",
        "Another observation is that ring 4 has wires that run parallel to the z axis, while rings 5 and 9 have wires that are slightly tilted. Ring 5 and ring 9 (and around 16 other rings in the detector) have wires that are tilted by 6 degrees. These layers are called **stereo layers**, and they actually allow us to more accurately find the z coordinate of a hit based on the timing of the pulse of electricity. Ring 4 is what we call an **axial layer**, meaning its wires are lined up straight in the z direction."
      ],
      "metadata": {
        "id": "Z-SSJs6DrShV"
      }
    },
    {
      "cell_type": "markdown",
      "source": [
        "####**Question #5:**\n",
        "---\n",
        "The cell below creates a plot of the $x$ and $y$ coordinates of the wires of the drift chamber. There is a z slider, which allows you to change the point along the detector you are looking at. What do you notice about the wire positions as you change the z coordinate? Compare the behavior of ring 4, ring 5, and ring 9."
      ],
      "metadata": {
        "id": "Gbyz0nBDhQLU"
      }
    },
    {
      "cell_type": "code",
      "source": [
        "Ring_1 = 4 # @param {type:\"slider\", min:0, max:28, step:1}\n",
        "Ring_2 = 5 # @param {type:\"slider\", min:0, max:28, step:1}\n",
        "Ring_3 = 9 # @param {type:\"slider\", min:0, max:28, step:1}\n",
        "rings = [Ring_1,Ring_2,Ring_3]\n",
        "rings = [ring for ring in rings if int(ring) != 0]\n",
        "fig = wire_plot(rings,\"Wire Positions\",showlegend=True)\n",
        "fig.update()\n",
        "fig.display(fig.update_figure, z=(0,175,0.1),rings=fixed(rings))"
      ],
      "metadata": {
        "colab": {
          "base_uri": "https://localhost:8080/",
          "height": 549,
          "referenced_widgets": [
            "4360358b04d347fbae2e47bbac94034a",
            "acbb87fe29df4d1a892fb1ebc7240378",
            "40338e9ddd7e419293d64c1468442045",
            "26e72aefe2014504ad57879574bf0fd1",
            "f4cf5db1934344cb966acc0057fef880",
            "788faf3eed864381b537db5938ea39ef",
            "defd27745200454899aa0460880d6ff9",
            "9cd5c975b2c54510a720c44f2eb1a49e",
            "73d916afe153454aa1df335b36f62687"
          ]
        },
        "cellView": "form",
        "id": "76RvDscdh9GT",
        "outputId": "0b66a967-b414-475a-e641-5b0f20439f01"
      },
      "execution_count": null,
      "outputs": [
        {
          "output_type": "display_data",
          "data": {
            "text/plain": [
              "VBox(children=(HBox(children=(FloatSlider(value=0.0, description='z', max=175.0),), layout=Layout(flex_flow='r…"
            ],
            "application/vnd.jupyter.widget-view+json": {
              "version_major": 2,
              "version_minor": 0,
              "model_id": "4360358b04d347fbae2e47bbac94034a"
            }
          },
          "metadata": {
            "application/vnd.jupyter.widget-view+json": {
              "colab": {
                "custom_widget_manager": {
                  "url": "https://ssl.gstatic.com/colaboratory-static/widgets/colab-cdn-widget-manager/b3e629b1971e1542/manager.min.js"
                }
              }
            }
          }
        }
      ]
    },
    {
      "cell_type": "markdown",
      "source": [
        "Double click to edit this cell and answer the following question: What do you notice about the wire positions as you change the z coordinate?"
      ],
      "metadata": {
        "id": "1RWfhqwghQLo"
      }
    },
    {
      "cell_type": "markdown",
      "source": [
        "#####**Solution:**"
      ],
      "metadata": {
        "id": "0ukTcNNnhQLp"
      }
    },
    {
      "cell_type": "markdown",
      "source": [
        "As you change the z coordinate, the positions of the **stereo** rings (the rings whose wires are not straight ) change. Ring 5 is a stereo ring, so as we increase the z coordinate, the tilt of the wire affects its coordinates more and more, which we interpret as a \"moving\" of the wire positions. Ring 9 is also a stereo ring, though it is tilted in the other direction, so as we increase the slider, the wires seem to move in the opposite direction of the ring 5 wires. Wire 4, however, is an **axial layer**, so the x and y coordinates of the wire do not change as we change the z coordinate."
      ],
      "metadata": {
        "id": "lOwddXoAhQLp"
      }
    },
    {
      "cell_type": "markdown",
      "source": [
        "---\n",
        "###**Curvature of Tracks**\n",
        "---\n",
        "\n",
        "So far, we haven't talked about how we can actually use these tracks to find the momentum of the particles that leave them. On its own, information about the track doesn't give us the ability to determine the momentum of the particle. Instead, we use a magnetic field to make the path of the particle of the particle curve. Based on the curvature of the track, we are able to infer the momentum of the particle.\n",
        "\n",
        "This method relies on the fact that charged particles moving in a magnetic field will travel in a circle.\n"
      ],
      "metadata": {
        "id": "0xPF-dRBRL3z"
      }
    },
    {
      "cell_type": "markdown",
      "source": [
        "<img src=\"data:image/png;base64,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\" alt=\"A diagram of a charged particle's path through a magnetic field pointing into the screen\" width=300>"
      ],
      "metadata": {
        "id": "E-JCYw00VGrC"
      }
    },
    {
      "cell_type": "markdown",
      "source": [
        "In the image shown above, there is a particle (at the top of the circle), moving with velocity $v$ through a magnetic field with strength $B$. The $\\otimes$ symbol tells us that the magnetic field is pointing into the screen. The particle travels in the path given by the dotted line, which is a circle of radius $r$. At every point of the circle, the magnetic force (labeled $F_{magnetic}$) is pointed towards the center of the circle, as is shown above. The force is always perpendicular to both the velocity $v$ and the magnetic field $B$. This means it is possible for the force to point towards the center of the circle or away from the center of the circle, and this depends on the charge of the particle.\n",
        "\n",
        "We can express the radius of the path as follows:\n",
        "\n",
        "$$\n",
        "r_{path} = \\frac{|p_\\perp|}{|q|B}\n",
        "$$\n",
        "where $r_{path}$ is the radius of the path, $|q|$ is the absolute value of the charge of the particle, and $B$ is the strength of the magnetic field. $p_\\perp$ is called the **transverse momentum**, and it refers to the components of the momentum that are perpendicular to the direction of the magnetic field. In the GlueX detector, the magnetic field points along the z axis, meaning:\n",
        "$$\n",
        "|p_\\perp| = \\sqrt{p_x^2+p_y^2}\n",
        "$$\n",
        "where $p_x$ is the x component of the momentum vector and $p_y$ is the y component of the momentum vector.\n",
        "\n",
        "Since we know that the particle starts in the center of the detector, the path a particle takes can be entirely expressed in terms of $p_x$ and $p_y$.\n",
        "\n",
        "Run the cell below to create a plot below of a cross section of the GlueX detector (as if you were looking in the z direction). The black circles represent the boundaries of the central drift chamber. You can modify the sliders to change the values of $p_x$ and $p_y$ to modify the track of the particle, shown in blue. You can also change the slider labeled t_max, which will change how long the track is. t_max is not a property of the track- it is only used for the visualization."
      ],
      "metadata": {
        "id": "R7mSAJR1WngJ"
      }
    },
    {
      "cell_type": "code",
      "source": [
        "# @title\n",
        "fig = CDC_plot(\"Track in the Gluex Detector\",showTrack=True)\n",
        "fig.update()\n",
        "fig.display(fig.update_figure, px=(-1,1,0.0001),py=(-1,1,0.0001),t_max=(0,2*np.pi,0.0001),charge = (-1,1,2),show_track=fixed(True),show_hits=fixed(False),pz=fixed(0),z0=fixed(75))"
      ],
      "metadata": {
        "colab": {
          "base_uri": "https://localhost:8080/",
          "height": 581,
          "referenced_widgets": [
            "c886d08b429346e89d2d191f44c056b2",
            "d9be6c8c83c0478085600a551b61ffbf",
            "67523231a1eb42b180911635a11a49c7",
            "66a46102054749a1a21c8f75637f0d67",
            "a2c4bf64d5e14a2abcd5cf8446a070a8",
            "ab3bd8e5f95e45b1a2fcbe868827c730",
            "6bae07c5d3394e1b8f994e21a01f502f",
            "2f7a6c1be4914687886a84626834b9af",
            "eb8063b4f943444282557b5350b14d27",
            "0537dc87ea6e408281e5779169840558",
            "f4798a0550f544488a2c5306c4fd0c16",
            "09c4c220e8234e1ab117819d02f06655",
            "e81d1fb167e94fbd8927f30a06531015",
            "53562b20c620416d84448488129e7132",
            "66cc8ed096d0471f95cd80781d0a7742",
            "0b784054da0543ecb6dd9f92acd52afe",
            "57503d761fbc48bc8a2c9adc742c1560",
            "9be035bc2eba410bade69e3b8d23c7ff"
          ]
        },
        "id": "ri1rauPlNpBC",
        "outputId": "8a47fdfb-31c7-431d-ce5c-eaf13bc1d2a3",
        "cellView": "form"
      },
      "execution_count": 6,
      "outputs": [
        {
          "output_type": "display_data",
          "data": {
            "text/plain": [
              "VBox(children=(HBox(children=(FloatSlider(value=0.0, description='px', max=1.0, min=-1.0, step=0.0001), FloatS…"
            ],
            "application/vnd.jupyter.widget-view+json": {
              "version_major": 2,
              "version_minor": 0,
              "model_id": "c886d08b429346e89d2d191f44c056b2"
            }
          },
          "metadata": {
            "application/vnd.jupyter.widget-view+json": {
              "colab": {
                "custom_widget_manager": {
                  "url": "https://ssl.gstatic.com/colaboratory-static/widgets/colab-cdn-widget-manager/2b70e893a8ba7c0f/manager.min.js"
                }
              }
            }
          }
        }
      ]
    },
    {
      "cell_type": "markdown",
      "source": [
        "#### **Question #6a:**\n",
        "---\n",
        "Change the charge of the simulated particle in the plot above. What about the path of the particle changes when you change the charge?"
      ],
      "metadata": {
        "id": "nZhO8QMiQvya"
      }
    },
    {
      "cell_type": "markdown",
      "source": [
        "Double click to edit this cell and answer the following question: What about the path of the particle changes when you change the charge?"
      ],
      "metadata": {
        "id": "zTY0ZQbqhAOA"
      }
    },
    {
      "cell_type": "markdown",
      "source": [
        "#####**Solution:**"
      ],
      "metadata": {
        "id": "pjqbuej9Q1GO"
      }
    },
    {
      "cell_type": "markdown",
      "source": [
        "Positively charged particles curve counterclockwise, while negatively charged particles curve clockwise. This is reflected in the equation for the magnetic force:\n",
        "$$\n",
        "F_{magnetic} = q*v\\times B\n",
        "$$\n",
        "where $q$ is the charge, $v$ is the velocity vector, $B$ is the magnetic field vector, and $F_{magnetic}$ is the force vector. Particles with opposite charges experience forces in opposite directions, which cause them to curve in opposite directions. Note that $\\times$ denotes the cross product, which is an operation between two vectors, not multiplication (which is an operation between two numbers)."
      ],
      "metadata": {
        "id": "SOv7_d_JQ1GP"
      }
    },
    {
      "cell_type": "markdown",
      "source": [
        "#### **Question #6b:**\n",
        "---\n",
        "Based on your answer to the previous question, how can we determine the charge of a particle based on its track?"
      ],
      "metadata": {
        "id": "E08XOn__LQzL"
      }
    },
    {
      "cell_type": "markdown",
      "source": [
        "Double click to edit this cell and answer the following question: How can we determine the charge of a particle based on its track?"
      ],
      "metadata": {
        "id": "IkEJkv2dLQzO"
      }
    },
    {
      "cell_type": "markdown",
      "source": [
        "#####**Solution:**"
      ],
      "metadata": {
        "id": "-dQtQwaeLQzO"
      }
    },
    {
      "cell_type": "markdown",
      "source": [
        "We can determine the charge of a particle based on the direction it curves. If the particle's track curves counterclockwise, we know the particle must be positively charged. If it curves clockwise, we know the particle must be negatively charged. A neutral particle's track would not curve at all, but neutral particles do not leave tracks."
      ],
      "metadata": {
        "id": "GIa49iWGLQzP"
      }
    },
    {
      "cell_type": "markdown",
      "source": [
        "---\n",
        "##**Track Fitting**\n",
        "---\n",
        "\n",
        "Track fitting is the process of figuring out the momentum vector of the particle based on individual hits in the detector. There are several values that we need to find to adjust to get a good measurement of the momentum. In this section, we will explore how we can obtain the components of the momentum vector ($p_x$, $p_y$, and $p_z$), the charge of the particle, and the z coordinate of the vertex ($z_0$). While it is possible to obtain the other coordinates of the vertex ($x_0$ and $y_0$), it is very difficult to do manually, since they are usually smaller than a centimeter."
      ],
      "metadata": {
        "id": "2OYxaMnJMdWL"
      }
    },
    {
      "cell_type": "markdown",
      "source": [
        "---\n",
        "###**Step 1: Finding the Vertex**\n",
        "---\n",
        "\n",
        "In particle physics, a **vertex** is a place where particles are created. Whether the particles were created intentionally (by doing something to create them inside the \"target\") or through decays, the first step is to figure out where the particles came from. In other words, we want to find the coordinates of the vertex. Knowing the z coordinate of the vertex (often called $z_0$) is important because we can use it to estimate the z coordinate of the hits in the CDC, which is important because the x and y coordinates of the hit depend on the z coordinate (see question #4).\n",
        "\n",
        "For this activity, we will assume that the vertex is somewhere along the beam axis (the z axis), so the x and y coordinates of the vertex are both 0.\n",
        "\n",
        "Below, we plotted the x and y coordinates of several hits left by a track in the GlueX CDC. However, you'll notice that the hits don't seem to line up to produce a smooth track. However, when you adjust the z coordinate of the vertex using the slider, you'll notice that you can update our estimate of the x and y coordinate of the hits in stereo rings (tilted rings). To find the best estimate of the z coordinate of the vertex (which gives us an estimate of the z coordinates of the hits as well), we can adjust the slider until the points line up to form a smooth path."
      ],
      "metadata": {
        "id": "LeZV2BDSiHK_"
      }
    },
    {
      "cell_type": "code",
      "source": [
        "# @title\n",
        "i = 2\n",
        "fig = CDC_plot(\"Positions of Hits\",track_fitting_events.iloc[i])\n",
        "fig.update()\n",
        "fig.display(fig.update_figure, z0=(0,175,0.1),px=fixed(0),py=fixed(0),pz=fixed(0),show_hits=fixed(True),show_track=fixed(False),charge=fixed(1),t_max=fixed(1))"
      ],
      "metadata": {
        "colab": {
          "base_uri": "https://localhost:8080/",
          "height": 549,
          "referenced_widgets": [
            "a1b12c89a2cc4c94be171358c0dc8e14",
            "93e75c81e9fb4a25b8579861e9337160",
            "0cac4688b8c64fa7b754ca240d07fd3d",
            "e26d92d962e846d0b5d67d95dae8f1fe",
            "645927c7fba04e5583875c36952d6179",
            "14cb1538079d402ab4092d54f8286a37",
            "59f63e5e1c01407bac92f93e87da811b",
            "b10a12a55b2840db855af3aefd4f027c",
            "bcae90f1a9504169800c9314b017ccb3"
          ]
        },
        "id": "IhXkyK3CvxCn",
        "outputId": "0892425a-3a07-4c9f-a00b-39b46989dd53",
        "cellView": "form"
      },
      "execution_count": 9,
      "outputs": [
        {
          "output_type": "display_data",
          "data": {
            "text/plain": [
              "VBox(children=(HBox(children=(FloatSlider(value=0.0, description='z0', max=175.0),), layout=Layout(flex_flow='…"
            ],
            "application/vnd.jupyter.widget-view+json": {
              "version_major": 2,
              "version_minor": 0,
              "model_id": "a1b12c89a2cc4c94be171358c0dc8e14"
            }
          },
          "metadata": {
            "application/vnd.jupyter.widget-view+json": {
              "colab": {
                "custom_widget_manager": {
                  "url": "https://ssl.gstatic.com/colaboratory-static/widgets/colab-cdn-widget-manager/2b70e893a8ba7c0f/manager.min.js"
                }
              }
            }
          }
        }
      ]
    },
    {
      "cell_type": "markdown",
      "source": [
        "For example, the z coordinate of the vertex for the hits shown above is around 121. Note that this is just an estimate, so any z coordinate between 115 and 130 should allow you to get a good estimate of the momentum.\n",
        "\n",
        "If the particle was moving in the z direction, the z coordinates of the hits could change as the particle moves through the detector. In these cases, it is impossible to find a $z_0$ value that lines up all of the points. This is the case in the example shown below. Try changing the value of $z_0$ to see that there is no \"perfect\" value for $z_0$! In these cases, just try your best to find a value of $z_0$ that allows you to estimate the path of the particle."
      ],
      "metadata": {
        "id": "8G1lD6FXN5dU"
      }
    },
    {
      "cell_type": "code",
      "source": [
        "# @title\n",
        "i = 12\n",
        "fig = CDC_plot(\"Positions of Hits\",track_fitting_events.iloc[i])\n",
        "fig.update()\n",
        "fig.display(fig.update_figure, z0=(0,175,0.1),px=fixed(0),py=fixed(0),pz=fixed(0),show_hits=fixed(True),show_track=fixed(False),charge=fixed(0),t_max=fixed(1))"
      ],
      "metadata": {
        "colab": {
          "base_uri": "https://localhost:8080/",
          "height": 549,
          "referenced_widgets": [
            "9394c0b232f947e281fad2c1b0e819d6",
            "d293111887e34bb0845c630c939d9095",
            "ba7afb5e999b40378610f95cd9a5e885",
            "49cd94346c1e4285962586d05a14249b",
            "f9422fb8adb54fc1a19c3f1f1cfe2d1c",
            "83756d05f0a94677a2e449f6edf2bdce",
            "5d1b5f0364ea420d9aae0aff52e964ad",
            "1e8740e11ca642dba127b0e750022701",
            "e028e56eec0440aaa00ee77c6de1eb9c",
            "2b14fba9da564ecdb92d2c347a01c54f"
          ]
        },
        "outputId": "475a5a43-34bd-4236-987c-49dd4baca3fa",
        "id": "sJmnpkWbqXJs",
        "cellView": "form"
      },
      "execution_count": 26,
      "outputs": [
        {
          "output_type": "display_data",
          "data": {
            "text/plain": [
              "VBox(children=(HBox(children=(FloatSlider(value=0.0, description='z0', max=175.0),), layout=Layout(flex_flow='…"
            ],
            "application/vnd.jupyter.widget-view+json": {
              "version_major": 2,
              "version_minor": 0,
              "model_id": "9394c0b232f947e281fad2c1b0e819d6"
            }
          },
          "metadata": {
            "application/vnd.jupyter.widget-view+json": {
              "colab": {
                "custom_widget_manager": {
                  "url": "https://ssl.gstatic.com/colaboratory-static/widgets/colab-cdn-widget-manager/2b70e893a8ba7c0f/manager.min.js"
                }
              }
            }
          }
        }
      ]
    },
    {
      "cell_type": "markdown",
      "source": [
        "In the example shown above, a $z_0$ value of about 63 should allow us to estimate the momentum. Again, this is just an estimate, so any value that is close to 63 should work just as well."
      ],
      "metadata": {
        "id": "xe98np8Q0kVb"
      }
    },
    {
      "cell_type": "markdown",
      "source": [
        "#### **Question #7:**\n",
        "---\n",
        "Every time you run the following cell, it will plot a new collection of hits with different z coordinates. Run the cell below and use the slider to find a good estimate of the z coordinate of the vertex of the track. Remember: if there is no value for $z_0$ that makes the hits perfectly line up, prioritize the hits closest to the center of the detector. Feel free to run this cell as many times as you need to practice finding the z values of the vertex in the CDC."
      ],
      "metadata": {
        "id": "5n2wqsBURxgq"
      }
    },
    {
      "cell_type": "code",
      "source": [
        "# @title\n",
        "i = np.random.randint(0,len(track_fitting_events['ring']))\n",
        "fig = CDC_plot(\"Positions of Hits\",track_fitting_events.iloc[i])\n",
        "fig.update()\n",
        "fig.display(fig.update_figure, z0=(0,175,0.1),px=fixed(0),py=fixed(0),pz=fixed(0),show_hits=fixed(True),show_track=fixed(False),charge=fixed(0),t_max=fixed(1))"
      ],
      "metadata": {
        "colab": {
          "base_uri": "https://localhost:8080/",
          "height": 549,
          "referenced_widgets": [
            "0e6918b5a33f4209bbb043be7eec8a51",
            "f2e8a2f6218b40f6a5291ab6d0d3565a",
            "d7e945c9e4134ef7b62ce85ab2f8e9b4",
            "ec6ca55bae9b45899c8072f7ad479193",
            "9885d8b8fef040e1922174519c68ceac",
            "bcfa1c8156bd4498921b3fa3edc9e537",
            "7443a217e5fb4ab1b31af525062ada21",
            "2472a9b76ed74896ab9cdfdbc1614ce2",
            "788f9daf655c452cabc1f1372189a342",
            "ea026015c5a14162bf2554dfe91f28f3"
          ]
        },
        "cellView": "form",
        "outputId": "dc1b7092-8536-4bfc-d0a0-25be10c494a8",
        "id": "hsY1rH18PdHs"
      },
      "execution_count": 27,
      "outputs": [
        {
          "output_type": "display_data",
          "data": {
            "text/plain": [
              "VBox(children=(HBox(children=(FloatSlider(value=0.0, description='z0', max=175.0),), layout=Layout(flex_flow='…"
            ],
            "application/vnd.jupyter.widget-view+json": {
              "version_major": 2,
              "version_minor": 0,
              "model_id": "0e6918b5a33f4209bbb043be7eec8a51"
            }
          },
          "metadata": {
            "application/vnd.jupyter.widget-view+json": {
              "colab": {
                "custom_widget_manager": {
                  "url": "https://ssl.gstatic.com/colaboratory-static/widgets/colab-cdn-widget-manager/2b70e893a8ba7c0f/manager.min.js"
                }
              }
            }
          }
        }
      ]
    },
    {
      "cell_type": "markdown",
      "source": [
        "#####**Solution:**"
      ],
      "metadata": {
        "id": "qV6c3E6tP4y1"
      }
    },
    {
      "cell_type": "markdown",
      "source": [
        "Run the cell below to calculate the z coordinate of the vertex for the hits shown above. Note that your value may be more accurate than the value produced by the following cell if there are multiple tracks (you can tell if there are multiple tracks if there are two different paths traced out by the hits) or if the hits don't form a line (sometimes, tracks just look like blobs, and we can't get much information from them). Things like this are easier for you to see than a computer to see!"
      ],
      "metadata": {
        "id": "E8fZnPTjP4y1"
      }
    },
    {
      "cell_type": "code",
      "source": [
        "# @title\n",
        "fig.calc_z0()"
      ],
      "metadata": {
        "colab": {
          "base_uri": "https://localhost:8080/"
        },
        "id": "hfxoDmNlu4-B",
        "outputId": "34eea13f-fdad-41a1-eb2f-a8552cd82848",
        "cellView": "form"
      },
      "execution_count": 28,
      "outputs": [
        {
          "output_type": "stream",
          "name": "stdout",
          "text": [
            "The true z value is about 121.0\n"
          ]
        }
      ]
    },
    {
      "cell_type": "markdown",
      "source": [
        "---\n",
        "###**Step 2: Finding Charge and Transverse Momentum**\n",
        "---\n",
        "\n",
        "After our hits are lined up, we can fit the hits to a curve, which we calculate based on $p_x$ and $p_y$. Based on the direction of the curvature, we can find the charge of the particle as well.\n",
        "\n",
        "The cell below creates an interactive plot with sliders for the following values:\n",
        "*   $z_0$: The z coordinate of the vertex\n",
        "*   $p_x$: The x component of the momentum\n",
        "*   $p_y$: The y component of the momentum\n",
        "*   The charge of the particle\n",
        "*   $t_{max}$: the length of the track\n",
        "\n",
        "First, use the slider below to adjust the z value until the track hits are lined up. Then, based on the direction the track curves, determine the charge of the particle. Finally, use the sliders to adjust $p_x$ and $p_y$ until the fitted track (the red line) passes through as many hit points as possible. Remember that you can use the t_max slider to increase or decrease the length of the track if necessary."
      ],
      "metadata": {
        "id": "G8jDPEgDZL3v"
      }
    },
    {
      "cell_type": "code",
      "source": [
        "# @title\n",
        "i = 33\n",
        "print(i)\n",
        "fig = CDC_plot(\"Hits in the Central Drift Chamber\",track_fitting_events.iloc[i],showTrack=True)\n",
        "fig.update()\n",
        "fig.display(fig.update_figure, z0=(0,175,0.1),px=(-1,1,0.01),py=(-1,1,0.01),pz=fixed(0),show_hits=fixed(True),show_track=fixed(True),charge=(-1,1,2),t_max=(0,2*np.pi,0.01))"
      ],
      "metadata": {
        "colab": {
          "base_uri": "https://localhost:8080/",
          "height": 598,
          "referenced_widgets": [
            "f8e7d3996fda4796a4ca2718abd5afbe",
            "fa9da14740ea44a9890349e07c417650",
            "1445197f60fc4e8890368a7872761278",
            "2fb857a2f4e948e19ac3227db9f0a7f3",
            "6e3e1480e4294aea972679ea1f3c48ae",
            "2e8f59d6ae5c4762ad0d347ffe610e09",
            "4542d1de86b04a70836e0da49f6aadd9",
            "74ed8687caab4e50aa97d72c0123a676",
            "e5427aa901f74f099b6629d6dbafd31a",
            "51117fb74eac4b1ea39c13b41efe063e",
            "f6b18db960c544619effd60e106f7376",
            "fd1c3d30746f48a5bf1be2cd220deafd",
            "c7fcefbddb914b9299ada35fa00f90da",
            "30476a2b715e43159cde2627e86b227a",
            "6c1c9ef3ac9d4a249ce023264dc0cacd",
            "fb70d38be8eb44c7b7019f3b0d1d4348",
            "4bafe485ab5846caadd6642ea08aca70",
            "41a2fe66c4404b5fba27c5df6dad6a83",
            "2e1ca3bd878946cf942fce302a9943fe",
            "0b75f65a45c042059871f521cf6d5fd2",
            "72acce4b6a3c41cf8b129e5b3d21860e"
          ]
        },
        "id": "5Ca9cx06a8yk",
        "outputId": "2f0951b2-2e7d-4737-efe6-57637c67931b",
        "cellView": "form"
      },
      "execution_count": 63,
      "outputs": [
        {
          "output_type": "stream",
          "name": "stdout",
          "text": [
            "33\n"
          ]
        },
        {
          "output_type": "display_data",
          "data": {
            "text/plain": [
              "VBox(children=(HBox(children=(FloatSlider(value=0.0, description='z0', max=175.0), FloatSlider(value=0.0, desc…"
            ],
            "application/vnd.jupyter.widget-view+json": {
              "version_major": 2,
              "version_minor": 0,
              "model_id": "f8e7d3996fda4796a4ca2718abd5afbe"
            }
          },
          "metadata": {
            "application/vnd.jupyter.widget-view+json": {
              "colab": {
                "custom_widget_manager": {
                  "url": "https://ssl.gstatic.com/colaboratory-static/widgets/colab-cdn-widget-manager/2b70e893a8ba7c0f/manager.min.js"
                }
              }
            }
          }
        }
      ]
    },
    {
      "cell_type": "markdown",
      "source": [
        "In this case, we find that the z coordinate of the hits is $z=84$, the x component of the momentum is $p_x=0.19$, the y component of the momentum is $p_y=0.35$, and the charge is 1. Note that we could turn t_max all the way up to 6.28 to see a longer track, which would be helpful if the hits formed a full circle instead of a semicircle."
      ],
      "metadata": {
        "id": "-EqdYA-SdlDo"
      }
    },
    {
      "cell_type": "markdown",
      "source": [
        "#### **Question #8:**\n",
        "---\n",
        "Every time you run the following cell, it will plot a new collection of hits with different z coordinates for tracks with random momenta. Run the cell below and use the slider to find a good estimate of the z coordinate of the vertex, the x component of momentum, the y component of the momentum, and the charge. Feel free to run this cell as many times as you need to practice fitting tracks in the CDC."
      ],
      "metadata": {
        "id": "UREJhI9qalbL"
      }
    },
    {
      "cell_type": "code",
      "source": [
        "# @title\n",
        "i = np.random.randint(0,100000)\n",
        "fig = CDC_plot(\"Hits in the Central Drift Chamber\",track_fitting_events.iloc[i],showTrack=True)\n",
        "fig.update()\n",
        "fig.display(fig.update_figure, z0=(0,175,0.1),px=(-1,1,0.01),py=(-1,1,0.01),pz=fixed(0),show_hits=fixed(True),show_track=fixed(True),charge=(-1,1,2),t_max=(0,2*np.pi,0.01))"
      ],
      "metadata": {
        "id": "La9N7PRMcho_",
        "colab": {
          "base_uri": "https://localhost:8080/",
          "height": 581,
          "referenced_widgets": [
            "1f0abd4c28b24851b439020d7056ace9",
            "070b04ad004d4ae0b423f074deda0d19",
            "895e05e2087c409eab48b8d23ca63478",
            "12caa73e7d2e4bcba17b324166b36d1b",
            "5c0e925e1c5a481fba90d9e67f187230",
            "03e8fcf7954c4ccaaa6a3e40ce517805",
            "40a0c2fbf5df459e87c3d63429bcf3aa",
            "21d278226b6940a6b666077d2b19ccdf",
            "7d6834e3a38f49c0b4b6dc2102ce1c72",
            "73fb9ac054f24eceaa72e075a94bfbb8",
            "94ec8f0e30dd401dbdebd07a2901f5ab",
            "402e240fda6b4df4823b2342e068dcf9",
            "6c6a28697ce44d47aecd5385252ab549",
            "4593f62df4534ff69a76d536196b565f",
            "8bf4e8481d1d4a16b91a0fb4900fc54b",
            "8e6432a542d94cbaa47102e458e8f3fd",
            "d0459334ed884c2f99e6d6335e8d3410",
            "d665642649c244ca9a74e7b06c724f4a",
            "453b25b88f0e444b8916b617a976e62f",
            "1e4c227e62ae4d7f9e1428e10e85e871",
            "04eb6b412d4f473c87bd1466f53552aa"
          ]
        },
        "cellView": "form",
        "outputId": "b3b16a8f-c204-486b-ddf1-34f90b2de4a3"
      },
      "execution_count": null,
      "outputs": [
        {
          "output_type": "display_data",
          "data": {
            "text/plain": [
              "VBox(children=(HBox(children=(FloatSlider(value=0.0, description='z0', max=175.0), FloatSlider(value=0.0, desc…"
            ],
            "application/vnd.jupyter.widget-view+json": {
              "version_major": 2,
              "version_minor": 0,
              "model_id": "1f0abd4c28b24851b439020d7056ace9"
            }
          },
          "metadata": {
            "application/vnd.jupyter.widget-view+json": {
              "colab": {
                "custom_widget_manager": {
                  "url": "https://ssl.gstatic.com/colaboratory-static/widgets/colab-cdn-widget-manager/b3e629b1971e1542/manager.min.js"
                }
              }
            }
          }
        }
      ]
    },
    {
      "cell_type": "markdown",
      "source": [
        "#####**Solution:**"
      ],
      "metadata": {
        "id": "MplKFBOMalbb"
      }
    },
    {
      "cell_type": "markdown",
      "source": [
        "Run the cell below to calculate the z coordinate of the vertex, and the x and y coordinates of momentum ($p_x$ and $p_y$) for the hits shown above. Note that your value may be more accurate than the value produced by the following cell if there are multiple tracks (you can tell if there are multiple track if there are two different paths traced out by the hits) or if the hits don't form a line (sometimes, tracks just look like blobs, and we can't get much information from them). Things like this are easier for you to see than a computer to see!\n",
        "\n",
        "Also, some of the tracks can't be fit using just the sliders shown above. Do your best to find a decent fit, but the next step will give you the tools to get almost perfect fits for every track."
      ],
      "metadata": {
        "id": "3l2E6qYufCxa"
      }
    },
    {
      "cell_type": "code",
      "source": [
        "# @title\n",
        "fig.show_answer(every=True, but=\"pz\")"
      ],
      "metadata": {
        "colab": {
          "base_uri": "https://localhost:8080/"
        },
        "id": "AiqEhV57HP-c",
        "outputId": "05d85d32-4338-4221-9b69-f7a03a8558ce",
        "cellView": "form"
      },
      "execution_count": 64,
      "outputs": [
        {
          "output_type": "stream",
          "name": "stdout",
          "text": [
            "The true z value is about 84.0\n",
            "The charge of the particle is 1\n",
            "The x component of momentum is 0.19\n",
            "The y component of momentum is 0.35\n"
          ]
        }
      ]
    },
    {
      "cell_type": "markdown",
      "source": [
        "---\n",
        "###**Step 3: Finding Momentum in Z direction**\n",
        "---\n",
        "\n",
        "So far, we have not provided any information about the $z$ component of the momentum ($p_z$). If the $z$ component of the momentum vector is 0, that means that the particle is not moving in the z direction at all, which means that all of the hits should have the same z coordinate. However, if $p_z$ is not zero then the particle is moving in the z direction, which means the z coordinates of the hits should change as the particle passes through the detector. For example, the first hit may have a z coordinate of 70, while the last hit has a z coordinate of 80. This is what may cause a track to not line up, even if we have the correct z coordinate of the vertex. To fix, this, we adjust the z coordinate of hits that occur later in the track based on the momentum in the z direction.\n",
        "\n",
        "The plot below shows the correct track for the hits shown below. Change the value of $p_z$ in the plot below to see its effect on the track hits. Try to find the value of $p_z$ that causes the points to align."
      ],
      "metadata": {
        "id": "AdfGTl7nv4-e"
      }
    },
    {
      "cell_type": "code",
      "source": [
        "# @title\n",
        "i= 3578\n",
        "fig = CDC_plot(\"Hits in the Central Drift Chamber\",track_fitting_events.iloc[i],showTrack=True)\n",
        "fig.update()\n",
        "fig.display(fig.update_figure, z0=fixed(119),px=fixed(fig.px),py=fixed(fig.py),pz=(-1,1,0.01),show_hits=fixed(True),show_track=fixed(True),charge=fixed(fig.charge),t_max=fixed(0.75))"
      ],
      "metadata": {
        "colab": {
          "base_uri": "https://localhost:8080/",
          "height": 549,
          "referenced_widgets": [
            "23b4cf9abbb84a4d8ccc98c24ef3def4",
            "ba37230e5a264532aace76d4cc8f8f31",
            "8ff1298803854bdb9030149ac6c1112d",
            "c67bc2c48036409b86b2ad781260ba5a",
            "da79205f050f4e6f9a34f2c0f34c8693",
            "2036629da513458cbc065dc397ad5ae2",
            "8db5785021164e5db620b2535e8e26a0",
            "d932541918a1432eb5bf01e46a97b022",
            "22c454e3fcac4ba887e81958e298722d"
          ]
        },
        "outputId": "51f25dad-d391-4cb9-ff46-4a1092deb22a",
        "id": "QldYsTn58_4M",
        "cellView": "form"
      },
      "execution_count": 100,
      "outputs": [
        {
          "output_type": "display_data",
          "data": {
            "text/plain": [
              "VBox(children=(HBox(children=(FloatSlider(value=0.0, description='pz', max=1.0, min=-1.0, step=0.01),), layout…"
            ],
            "application/vnd.jupyter.widget-view+json": {
              "version_major": 2,
              "version_minor": 0,
              "model_id": "23b4cf9abbb84a4d8ccc98c24ef3def4"
            }
          },
          "metadata": {
            "application/vnd.jupyter.widget-view+json": {
              "colab": {
                "custom_widget_manager": {
                  "url": "https://ssl.gstatic.com/colaboratory-static/widgets/colab-cdn-widget-manager/2b70e893a8ba7c0f/manager.min.js"
                }
              }
            }
          }
        }
      ]
    },
    {
      "cell_type": "markdown",
      "source": [
        "The hits shown above have a z momentum of about -0.6. Notice how the hits furthest from the center of the detector are affected the most by the $p_z$ slider. This is because the hits that are further from the center of the detector happen after the hits close to the center of the detector (since the particle moves from the center of the detector outward). Also, the z component of the momentum of the particle causes the z component of the hits to change over time. Since the hits furthest from the center of the detector occur much later than the hits near the center, their z coordinates have the most time to change. This change in z coordinates makes the hits seem like they are moving (see problem 5).\n",
        "\n",
        "Even though we only changed the value of $p_z$ above, we usually have to go back and forth, slightly modifying both the $z_0$ slider and the $p_z$ slider, to find their true values- this is why we only estimated the z coordinate of the vertex ($z_0$) in step 1. Try to find the true $z_0$ value and $p_z$ value in the example below. To do this, first estimate the z coordinate of the vertex ($z_0$), then go back and forth between changing the z coordinate of the vertex ($z_0$) and the z component of the momentum ($p_z$)."
      ],
      "metadata": {
        "id": "YZG4GV8VBpfh"
      }
    },
    {
      "cell_type": "code",
      "source": [
        "# @title\n",
        "i = 3578\n",
        "fig = CDC_plot(\"Hits in the Central Drift Chamber\",track_fitting_events.iloc[i],showTrack=True)\n",
        "fig.update()\n",
        "fig.display(fig.update_figure, z0=(0,175,0.1),px=fixed(fig.px),py=fixed(fig.py),pz=(-1,1,0.01),show_hits=fixed(True),show_track=fixed(True),charge=fixed(fig.charge),t_max=fixed(0.75))"
      ],
      "metadata": {
        "colab": {
          "base_uri": "https://localhost:8080/",
          "height": 584,
          "referenced_widgets": [
            "3b6576d1ca6a400ab14de7f5730be688",
            "93eac450b473464da1c747b903fd9686",
            "ae969e4896a347019e8d8eec0fd63413",
            "f28b17cbb4a640d0a7c429ccfa4ec65d",
            "ea3afe6c6776441b9d899433dd1931ad",
            "79b3f08ae56443ec93bfe5d3dc3b41d9",
            "9f0cda51313f469282e68871962dae21",
            "45d44d7b3e3d4bb8a0d6f5811ee5eda8",
            "36a209a73b6f4237b0eeac6ee789696e",
            "47b7710b8d2d40b2afc4be56c648c8cb",
            "ce3f4a18a5df44ad82d129e7ffc719fb",
            "3e8e5d6dbf4b41ac899f83dac887093f",
            "b89dbd2342694b74a6455c37241e1aa1"
          ]
        },
        "outputId": "f9944f55-c335-4b9a-b0ff-f688b816966a",
        "cellView": "form",
        "id": "RMiHNH3rCmqM"
      },
      "execution_count": 96,
      "outputs": [
        {
          "output_type": "stream",
          "name": "stdout",
          "text": [
            "3578\n",
            "0.7733135223388672\n"
          ]
        },
        {
          "output_type": "display_data",
          "data": {
            "text/plain": [
              "VBox(children=(HBox(children=(FloatSlider(value=0.0, description='z0', max=175.0), FloatSlider(value=0.0, desc…"
            ],
            "application/vnd.jupyter.widget-view+json": {
              "version_major": 2,
              "version_minor": 0,
              "model_id": "3b6576d1ca6a400ab14de7f5730be688"
            }
          },
          "metadata": {
            "application/vnd.jupyter.widget-view+json": {
              "colab": {
                "custom_widget_manager": {
                  "url": "https://ssl.gstatic.com/colaboratory-static/widgets/colab-cdn-widget-manager/2b70e893a8ba7c0f/manager.min.js"
                }
              }
            }
          }
        }
      ]
    },
    {
      "cell_type": "markdown",
      "source": [
        "For the example above, setting the z coordinate of the vertex ($z_0$) to 119 and the z component of the momentum ($p_z$) to -0.77 will create a very smooth track. This step is substantially harder than the other two steps: There seem to be multiple values that seem to produce similar results! For example, setting the z coordinate of the vertex ($z_0$) to 130 and the z component of the momentum ($p_z$) to -0.96 seems to yield almost the exact same results. It's almost impossible to pick which one is correct, which limits our ability to make extremely precise measurements of the vertex coordinates and z component of momentum."
      ],
      "metadata": {
        "id": "F63rBw3mEGvP"
      }
    },
    {
      "cell_type": "markdown",
      "source": [
        "####**Question #9:**\n",
        "---\n",
        "When you adjust the $p_z$ and $z_0$ sliders, there are certain hits that do not move. What is special about these wires? **Hint:** You can hover your mouse over hits to see what ring they belong to in the interactive plots.\n"
      ],
      "metadata": {
        "id": "MygdGYcDSh-n"
      }
    },
    {
      "cell_type": "markdown",
      "source": [
        "Double click to edit this cell and answer the following question: What is special about these wires?"
      ],
      "metadata": {
        "id": "Tl76hsBRSh-z"
      }
    },
    {
      "cell_type": "markdown",
      "source": [
        "#####**Solution:**"
      ],
      "metadata": {
        "id": "J6lXGMwUSh-z"
      }
    },
    {
      "cell_type": "markdown",
      "source": [
        "The hits that do not move are hits in axial (not tilted) wires. See questions 4 and 5 for more information about axial and stereo wires. Because the axial wires are lined up with the z axis, their x and y coordinates do not change for different z coordinates. The hits that do move are in stereo wires, whose x and y coordinates do change as we change the z coordinate changes (when we move the $z_0$ or the $p_z$ slider)."
      ],
      "metadata": {
        "id": "eylvvPiCSh-0"
      }
    },
    {
      "cell_type": "markdown",
      "source": [
        "#### **Question #10:**\n",
        "---\n",
        "Every time you run the following cell, it will plot a new collection of hits with different z coordinates for tracks with random momenta. Run the cell below and use the slider to find a good estimate of the z coordinate of the hits, the x component of momentum, the y component of the momentum, and the charge. Feel free to run this cell as many times as you need to practice fitting tracks in the CDC."
      ],
      "metadata": {
        "id": "NT2iD52Lv4-8"
      }
    },
    {
      "cell_type": "code",
      "source": [
        "# @title\n",
        "i = np.random.randint(0,100000)\n",
        "fig = CDC_plot(\"Hits in the Central Drift Chamber\",track_fitting_events.iloc[i],showTrack=True)\n",
        "fig.update()\n",
        "fig.display(fig.update_figure, z0=(0,175,0.1),px=(-1,1,0.01),py=(-1,1,0.01),pz=(-1,1,0.01),show_hits=fixed(True),show_track=fixed(True),charge=(-1,1,2),t_max=(0,2*np.pi,0.01))"
      ],
      "metadata": {
        "colab": {
          "base_uri": "https://localhost:8080/",
          "height": 581,
          "referenced_widgets": [
            "181a467e5f7940338060e1d0da65d414",
            "7128eb44d4bd4330b2507740173499c3",
            "f8a8c35b2e6c4f9995ddacde30f0c18f",
            "ab749b4cfb104c61b79379f075a5ccda",
            "8fbae141efc74900bc50008398e8d9d2",
            "019f5313bb794dabb9acab5eaedd0e96",
            "a2927a758d034021976efe60660eef34",
            "0acc51ac5e1344dd8055ee3ab591f344",
            "96bcdf8286b245e4bb877457551a31e5",
            "147bcab658d0499ea82b9697696b43df",
            "00e0c263fafe48a299e07c4d20a3f4df",
            "1f98574fedd3470897acb5da4df5967c",
            "fb4a94f039d14d128c6a1a0c33127349",
            "8817015810324ea3b672e54dc9507e2d",
            "bba848c66af64d4fb8afe8e1b86b15fc",
            "c83571bb91ff4a27a43465a78d8d6c5e",
            "953ea1473d064cc49b42254a895e93b6",
            "5936262b3de543c48511e47e7adb5de1",
            "5a044ff725614468b71f3dcda07322ee",
            "36171aa22b074a35b2250f81b511c434",
            "b6898110c038438c98947ce014b0d36e",
            "546d78071d174ec3a9f6b1957705af38",
            "bd51088f1f3f4a11bdce690950c80872",
            "0cb31fbe27384f89a8c8d5fe48de345e"
          ]
        },
        "id": "Uhv9ajybv4-8",
        "outputId": "a4403695-956e-4e49-9326-8f29b3cd2a1e",
        "cellView": "form"
      },
      "execution_count": 101,
      "outputs": [
        {
          "output_type": "display_data",
          "data": {
            "text/plain": [
              "VBox(children=(HBox(children=(FloatSlider(value=0.0, description='z0', max=175.0), FloatSlider(value=0.0, desc…"
            ],
            "application/vnd.jupyter.widget-view+json": {
              "version_major": 2,
              "version_minor": 0,
              "model_id": "181a467e5f7940338060e1d0da65d414"
            }
          },
          "metadata": {
            "application/vnd.jupyter.widget-view+json": {
              "colab": {
                "custom_widget_manager": {
                  "url": "https://ssl.gstatic.com/colaboratory-static/widgets/colab-cdn-widget-manager/2b70e893a8ba7c0f/manager.min.js"
                }
              }
            }
          }
        }
      ]
    },
    {
      "cell_type": "markdown",
      "source": [
        "#####**Solution:**"
      ],
      "metadata": {
        "id": "3DChbK-bv4-9"
      }
    },
    {
      "cell_type": "markdown",
      "source": [
        "Run the cell below to see the best values for the z coordinate of the vertex ($z_0$), the components of the momentum ($p_x$, $p_y$, and $p_z$), and the charge. If the hits are just a blob (instead of a line) or there are multiple tracks (meaning there seem to be multiple lines of hits), these values may not be accurate."
      ],
      "metadata": {
        "id": "_a-K01Wqv4-9"
      }
    },
    {
      "cell_type": "code",
      "source": [
        "# @title\n",
        "fig.show_answer(every=True)"
      ],
      "metadata": {
        "colab": {
          "base_uri": "https://localhost:8080/"
        },
        "outputId": "b7c58089-ca97-4c55-b56b-483b2a00887e",
        "cellView": "form",
        "id": "z-Rwb-rjv4-9"
      },
      "execution_count": 102,
      "outputs": [
        {
          "output_type": "stream",
          "name": "stdout",
          "text": [
            "The true z value is about 126.0\n",
            "The charge of the particle is 1\n",
            "The x component of momentum is 0.28\n",
            "The y component of momentum is -0.35\n",
            "The z component of momentum is -0.17\n"
          ]
        }
      ]
    }
  ]
}