{
  "nbformat": 4,
  "nbformat_minor": 0,
  "metadata": {
    "colab": {
      "provenance": [],
      "collapsed_sections": [
        "Nw2lfeLNQXVm",
        "9iwBnEgGQeBD",
        "9lVBhsmTUZ4D",
        "O3Op721ZUZ4W",
        "Q3MD_YFeqzeE",
        "tyyYO4kLqzeG",
        "RIR54FwWrSg3",
        "TOaC6UORrShV",
        "Gbyz0nBDhQLU",
        "0ukTcNNnhQLp",
        "nZhO8QMiQvya",
        "pjqbuej9Q1GO",
        "E08XOn__LQzL",
        "-dQtQwaeLQzO",
        "5n2wqsBURxgq",
        "qV6c3E6tP4y1",
        "UREJhI9qalbL",
        "MplKFBOMalbb",
        "NT2iD52Lv4-8",
        "3DChbK-bv4-9"
      ],
      "authorship_tag": "ABX9TyObfQLxlVOrXaKBynYP3lCw",
      "include_colab_link": true
    },
    "kernelspec": {
      "name": "python3",
      "display_name": "Python 3"
    },
    "language_info": {
      "name": "python"
    },
    "widgets": {
      "application/vnd.jupyter.widget-state+json": {
        "c64fb690d4444ac18ac3b915d10ac07d": {
          "model_module": "@jupyter-widgets/controls",
          "model_name": "VBoxModel",
          "model_module_version": "1.5.0",
          "state": {
            "_dom_classes": [
              "widget-interact"
            ],
            "_model_module": "@jupyter-widgets/controls",
            "_model_module_version": "1.5.0",
            "_model_name": "VBoxModel",
            "_view_count": null,
            "_view_module": "@jupyter-widgets/controls",
            "_view_module_version": "1.5.0",
            "_view_name": "VBoxView",
            "box_style": "",
            "children": [
              "IPY_MODEL_79259720fa55499481ede19585c46aef",
              "IPY_MODEL_50120ec89c834a9d954bf3f282f12c56"
            ],
            "layout": "IPY_MODEL_8e252378e7544e0d9cfeddbac1d61ffd"
          }
        },
        "79259720fa55499481ede19585c46aef": {
          "model_module": "@jupyter-widgets/controls",
          "model_name": "FloatSliderModel",
          "model_module_version": "1.5.0",
          "state": {
            "_dom_classes": [],
            "_model_module": "@jupyter-widgets/controls",
            "_model_module_version": "1.5.0",
            "_model_name": "FloatSliderModel",
            "_view_count": null,
            "_view_module": "@jupyter-widgets/controls",
            "_view_module_version": "1.5.0",
            "_view_name": "FloatSliderView",
            "continuous_update": true,
            "description": "z",
            "description_tooltip": null,
            "disabled": false,
            "layout": "IPY_MODEL_8b3bb6a1b95540fab3c1ab7147bff192",
            "max": 175,
            "min": 0,
            "orientation": "horizontal",
            "readout": true,
            "readout_format": ".2f",
            "step": 0.1,
            "style": "IPY_MODEL_e0a9b3a1779d45629ae7dd67dbc1e5aa",
            "value": 61.69999999999999
          }
        },
        "50120ec89c834a9d954bf3f282f12c56": {
          "model_module": "@jupyter-widgets/output",
          "model_name": "OutputModel",
          "model_module_version": "1.0.0",
          "state": {
            "_dom_classes": [],
            "_model_module": "@jupyter-widgets/output",
            "_model_module_version": "1.0.0",
            "_model_name": "OutputModel",
            "_view_count": null,
            "_view_module": "@jupyter-widgets/output",
            "_view_module_version": "1.0.0",
            "_view_name": "OutputView",
            "layout": "IPY_MODEL_9a646eedbe404c1d85dc935a4fd4375a",
            "msg_id": "",
            "outputs": [
              {
                "output_type": "display_data",
                "data": {
                  "text/html": "<html>\n<head><meta charset=\"utf-8\" /></head>\n<body>\n    <div>            <script src=\"https://cdnjs.cloudflare.com/ajax/libs/mathjax/2.7.5/MathJax.js?config=TeX-AMS-MML_SVG\"></script><script type=\"text/javascript\">if (window.MathJax && window.MathJax.Hub && window.MathJax.Hub.Config) {window.MathJax.Hub.Config({SVG: {font: \"STIX-Web\"}});}</script>                <script type=\"text/javascript\">window.PlotlyConfig = {MathJaxConfig: 'local'};</script>\n        <script charset=\"utf-8\" src=\"https://cdn.plot.ly/plotly-2.24.1.min.js\"></script>                <div id=\"7d091423-c1da-4153-9e77-f0f44a7f2b70\" class=\"plotly-graph-div\" style=\"height:500px; width:520px;\"></div>            <script type=\"text/javascript\">                                    window.PLOTLYENV=window.PLOTLYENV || {};                                    if (document.getElementById(\"7d091423-c1da-4153-9e77-f0f44a7f2b70\")) {                    Plotly.newPlot(                        \"7d091423-c1da-4153-9e77-f0f44a7f2b70\",                        [{\"marker\":{\"size\":3},\"mode\":\"markers\",\"name\":\"Ring 5\",\"x\":[14.855268904684081,15.591302613570894,16.186139071616267,16.63439134774345,16.93199999992624,17.076269838124638,17.065894332343174,16.900967444768902,16.582982778835248,16.114820052918052,15.500719021160014,14.74624107760063,13.858218891330573,12.844694528782348,11.714846623531312,10.4789072531687,9.148069276022463,7.7343849668989915,6.250656869816146,4.710321856182082,3.1273294384070525,1.5160154409588609,-0.1090278270834486,-1.7330837222403175,-3.3414445428339254,-4.91954472421214,-6.453092746757537,-7.928200562102173,-9.331509365444182,-10.650310574952758,-11.872660922653163,-12.987490614511,-13.984703580201153,-14.855268904684083,-15.591302613570894,-16.186139071616267,-16.634391347743446,-16.93199999992624,-17.076269838124638,-17.065894332343177,-16.900967444768902,-16.58298277883525,-16.114820052918052,-15.500719021160014,-14.746241077600633,-13.858218891330573,-12.844694528782346,-11.714846623531319,-10.4789072531687,-9.148069276022467,-7.734384966898991,-6.250656869816149,-4.71032185618209,-3.1273294384070502,-1.516015440958867,0.10902782708343839,1.7330837222403161,3.3414445428339152,4.9195447242121375,6.453092746757536,7.928200562102163,9.33150936544418,10.650310574952751,11.872660922653168,12.987490614511,13.984703580201147],\"y\":[-8.45079901037205,-7.000450053834857,-5.486703937563628,-3.9232693807966994,-2.3243050889839822,-0.7042915303578803,0.9221002014293846,2.5401412510017565,4.135178388054453,5.692766709276714,7.19880045363303,8.639640746319422,10.002239114525679,11.274255656425744,12.444170793239543,13.501389592322244,14.436337716514977,15.240548130824752,15.90673778120452,16.428873551018416,16.80222689788028,17.023416676065743,17.090439756691474,17.002689168360536,16.760959593989373,16.36744017403624,15.825694681306228,15.14062924687286,14.318447929395369,13.366596530202761,12.293695162963967,11.109460188603572,9.824616222432716,8.450799010372052,7.000450053834857,5.486703937563632,3.9232693807967025,2.324305088983985,0.7042915303578803,-0.9221002014293784,-2.540141251001751,-4.135178388054449,-5.692766709276713,-7.198800453633031,-8.639640746319417,-10.002239114525679,-11.274255656425742,-12.444170793239536,-13.501389592322246,-14.436337716514974,-15.240548130824756,-15.906737781204516,-16.428873551018413,-16.80222689788028,-17.023416676065747,-17.090439756691474,-17.002689168360536,-16.760959593989377,-16.367440174036243,-15.82569468130623,-15.140629246872862,-14.318447929395369,-13.366596530202767,-12.293695162963962,-11.109460188603572,-9.824616222432724],\"type\":\"scatter\",\"uid\":\"06666768-b12f-452d-8af0-41f8136d3a99\"},{\"marker\":{\"size\":3},\"mode\":\"markers\",\"name\":\"Ring 9\",\"x\":[21.735933452351293,21.004583900750013,20.17739525042394,19.258141773460416,18.251017812634714,17.160618643585984,15.991919507628488,14.750252910866607,13.441284293192535,12.070986178183492,10.6456109218465,9.17166218455194,7.655865256323009,6.105136370879818,4.526551148451238,2.9273123113426873,1.314716819566255,-0.30387742351423297,-1.921085143608594,-3.5295273928130175,-5.12186521805695,-6.690833147062618,-8.229272339028668,-9.730163248778805,-11.186657655336385,-12.592109908786037,-13.94010725285002,-15.224499084824215,-16.439425019367615,-17.579341628096497,-18.639047732976657,-19.61370813810586,-20.498875691603768,-21.290511576945917,-21.9850037411572,-22.579183375781156,-23.070339375426112,-23.456230707917303,-23.73509663961266,-23.90566476922659,-23.96715683350519,-23.919292258262985,-23.762289438578584,-23.496864742308013,-23.124229241462515,-22.646083186364713,-22.064608247796365,-21.382457562535002,-20.602743627699276,-19.72902409913855,-18.76528555866522,-17.71592532419624,-16.585731385800095,-15.379860559196253,-14.103814956387776,-12.763416880786284,-11.36478226137689,-9.914292747136898,-8.418566589035287,-6.884428442471552,-5.31887822793828,-3.7290591919896086,-2.1222253142454335,-0.5057082091462322,1.1131163265219755,2.72686196769678,4.328165563146453,5.909720731840134,7.464311200288812,8.984843728746064,10.464380476034055,11.896170655321693,13.273681336416496,14.590627254026645,15.840999485985002,17.019092870582703,18.119532037913473,19.137295936453675,20.067740742968752,20.90662105121351,21.65010924274715,22.294812951478235,22.837790542253188,23.276564532862714,23.609132898224914,23.833978205166577,23.950074536122678,23.956892170162938,23.85439999998691,23.643065673859507,23.32385346183917,22.898219856034792,22.368106924966266],\"y\":[10.098712316881537,11.543060627950126,12.934740600891395,14.26740231918473,15.534965153069038,16.731645504061703,17.85198319419191,18.89086637954041,19.843554874410852,20.705701779709905,21.473373316850836,22.143066776682918,22.711726501549926,23.17675782755516,23.536038923417717,23.78793047190193,23.93128314964596,23.96544287126064,23.890253773771125,23.706058927783875,23.413698772134175,23.01450727915649,22.510305868074667,21.903395094283745,21.19654415244341,20.39297824127784,19.49636384773369,18.5107920176411,17.4407596892099,16.291149174531935,15.067205882710859,13.774514386263455,12.41897293999609,11.006766568620915,9.544338845906665,8.038362494129442,6.495708937971467,4.923416951786259,3.3286605432856473,1.7187162201880768,0.1009297891827825,-1.5173171613012704,-3.1286409415903953,-4.725689450848572,-6.301175723027317,-7.847911175620456,-9.358838409517253,-10.827063410295915,-12.2458870040302,-13.608835424083473,-14.909689849421063,-16.142514779664328,-17.30168511741745,-18.38191183429674,-19.37826610355404,-20.28620178918268,-21.101576188893382,-21.82066893631466,-22.44019897617126,-22.957339534986794,-23.36973101900283,-23.675491780463965,-23.873226703144983,-23.96203356794621,-23.941507169512306,-23.81174116509139,-23.57332764719848,-23.227354442033167,-22.775400145978157,-22.21952692282604,-21.56227109459892,-20.80663156889269,-19.956056155549554,-19.014425835092517,-17.986037050701356,-16.87558210452783,-15.688127747797255,-14.429092062384683,-13.104219739350029,-11.71955586723043,-10.281418349687634,-8.796369078362796,-7.271183992469846,-5.712822161739025,-4.128394033777908,-2.525128990729703,-0.9103423632607193,0.7085979476155497,2.324305088580972,3.929406958530167,5.516579845776902,7.078581844470891,8.608285897753115],\"type\":\"scatter\",\"uid\":\"bbd2d387-4fa1-491e-926b-01df6dd2df0d\"},{\"marker\":{\"size\":3},\"mode\":\"markers\",\"name\":\"Ring 4\",\"x\":[15.074704446570042,14.80381051717993,14.332720444243652,13.667804912913875,12.818055765189774,11.79496440067813,10.612366375125411,9.286254298259106,7.8345615611740715,6.276919817979971,4.634393501354607,2.9291949622247797,1.184384085821943,-0.5764435537098088,-2.329475782979397,-4.051005848147691,-5.717753008107831,-7.307177366574106,-8.797784685515436,-10.169417057854623,-11.403525508583733,-12.483420837833107,-13.394499313671815,-14.124440162531513,-14.663372186534538,-15.00400725451265,-15.141738861479405,-15.074704423708326,-14.803810466982819,-14.332720367389975,-13.667804810442947,-12.818055638487337,-11.794964251457614,-10.612366205404774,-9.286254110333529,-7.8345613575849145,-6.27691960148043,-4.63439327487248,-2.929194728822835,-1.1843838486565537,0.5764437914313998,2.3294760180423992,4.0510060773732945,5.717753228396139,7.307177574946111,8.797784879153252,10.16941723413964,11.40352566513199,12.483420972527565,13.39449942469096,14.124440248374,14.663372246039495,15.004007286875376,15.141738866262248],\"y\":[1.4554218936656849,3.1956472288775637,4.892656916968531,6.523501812870699,8.066127536834834,9.499672722085515,10.80475112902225,11.9637138108559,12.960887785339924,13.782787984970613,14.41829961939348,14.858828483877083,15.098417181189943,15.13382568517909,14.964575156566005,14.592954418426487,14.023989003784688,13.265373193899487,12.327365966308863,11.2226522597564,9.966171432153882,8.574915231391746,7.067698011095637,5.464902298766804,3.7882031570607815,2.060275065745273,0.3044852882559333,-1.4554221304585924,-3.1956474614152786,-4.892657142106381,-6.523502027564078,-8.066127738180384,-9.499672907360384,-10.80475129572091,-11.963713956724042,-12.960887908404935,-13.78278808356824,-14.418299692190363,-14.858828529888772,-15.098417199794202,-15.133825676124335,-14.964575119974684,-14.592954354793433,-14.023988913970427,-13.265373079118607,-12.327365828113578,-11.222652100015559,-9.966171253027715,-8.574915035302618,-7.067697800695328,-5.464902076900604,-3.7882029267290624,-2.0602748300628644,-0.3044850504100489],\"type\":\"scatter\",\"uid\":\"22334792-d8ab-44d3-84eb-d47cd169ec49\"}],                        {\"template\":{\"data\":{\"barpolar\":[{\"marker\":{\"line\":{\"color\":\"#E5ECF6\",\"width\":0.5},\"pattern\":{\"fillmode\":\"overlay\",\"size\":10,\"solidity\":0.2}},\"type\":\"barpolar\"}],\"bar\":[{\"error_x\":{\"color\":\"#2a3f5f\"},\"error_y\":{\"color\":\"#2a3f5f\"},\"marker\":{\"line\":{\"color\":\"#E5ECF6\",\"width\":0.5},\"pattern\":{\"fillmode\":\"overlay\",\"size\":10,\"solidity\":0.2}},\"type\":\"bar\"}],\"carpet\":[{\"aaxis\":{\"endlinecolor\":\"#2a3f5f\",\"gridcolor\":\"white\",\"linecolor\":\"white\",\"minorgridcolor\":\"white\",\"startlinecolor\":\"#2a3f5f\"},\"baxis\":{\"endlinecolor\":\"#2a3f5f\",\"gridcolor\":\"white\",\"linecolor\":\"white\",\"minorgridcolor\":\"white\",\"startlinecolor\":\"#2a3f5f\"},\"type\":\"carpet\"}],\"choropleth\":[{\"colorbar\":{\"outlinewidth\":0,\"ticks\":\"\"},\"type\":\"choropleth\"}],\"contourcarpet\":[{\"colorbar\":{\"outlinewidth\":0,\"ticks\":\"\"},\"type\":\"contourcarpet\"}],\"contour\":[{\"colorbar\":{\"outlinewidth\":0,\"ticks\":\"\"},\"colorscale\":[[0.0,\"#0d0887\"],[0.1111111111111111,\"#46039f\"],[0.2222222222222222,\"#7201a8\"],[0.3333333333333333,\"#9c179e\"],[0.4444444444444444,\"#bd3786\"],[0.5555555555555556,\"#d8576b\"],[0.6666666666666666,\"#ed7953\"],[0.7777777777777778,\"#fb9f3a\"],[0.8888888888888888,\"#fdca26\"],[1.0,\"#f0f921\"]],\"type\":\"contour\"}],\"heatmapgl\":[{\"colorbar\":{\"outlinewidth\":0,\"ticks\":\"\"},\"colorscale\":[[0.0,\"#0d0887\"],[0.1111111111111111,\"#46039f\"],[0.2222222222222222,\"#7201a8\"],[0.3333333333333333,\"#9c179e\"],[0.4444444444444444,\"#bd3786\"],[0.5555555555555556,\"#d8576b\"],[0.6666666666666666,\"#ed7953\"],[0.7777777777777778,\"#fb9f3a\"],[0.8888888888888888,\"#fdca26\"],[1.0,\"#f0f921\"]],\"type\":\"heatmapgl\"}],\"heatmap\":[{\"colorbar\":{\"outlinewidth\":0,\"ticks\":\"\"},\"colorscale\":[[0.0,\"#0d0887\"],[0.1111111111111111,\"#46039f\"],[0.2222222222222222,\"#7201a8\"],[0.3333333333333333,\"#9c179e\"],[0.4444444444444444,\"#bd3786\"],[0.5555555555555556,\"#d8576b\"],[0.6666666666666666,\"#ed7953\"],[0.7777777777777778,\"#fb9f3a\"],[0.8888888888888888,\"#fdca26\"],[1.0,\"#f0f921\"]],\"type\":\"heatmap\"}],\"histogram2dcontour\":[{\"colorbar\":{\"outlinewidth\":0,\"ticks\":\"\"},\"colorscale\":[[0.0,\"#0d0887\"],[0.1111111111111111,\"#46039f\"],[0.2222222222222222,\"#7201a8\"],[0.3333333333333333,\"#9c179e\"],[0.4444444444444444,\"#bd3786\"],[0.5555555555555556,\"#d8576b\"],[0.6666666666666666,\"#ed7953\"],[0.7777777777777778,\"#fb9f3a\"],[0.8888888888888888,\"#fdca26\"],[1.0,\"#f0f921\"]],\"type\":\"histogram2dcontour\"}],\"histogram2d\":[{\"colorbar\":{\"outlinewidth\":0,\"ticks\":\"\"},\"colorscale\":[[0.0,\"#0d0887\"],[0.1111111111111111,\"#46039f\"],[0.2222222222222222,\"#7201a8\"],[0.3333333333333333,\"#9c179e\"],[0.4444444444444444,\"#bd3786\"],[0.5555555555555556,\"#d8576b\"],[0.6666666666666666,\"#ed7953\"],[0.7777777777777778,\"#fb9f3a\"],[0.8888888888888888,\"#fdca26\"],[1.0,\"#f0f921\"]],\"type\":\"histogram2d\"}],\"histogram\":[{\"marker\":{\"pattern\":{\"fillmode\":\"overlay\",\"size\":10,\"solidity\":0.2}},\"type\":\"histogram\"}],\"mesh3d\":[{\"colorbar\":{\"outlinewidth\":0,\"ticks\":\"\"},\"type\":\"mesh3d\"}],\"parcoords\":[{\"line\":{\"colorbar\":{\"outlinewidth\":0,\"ticks\":\"\"}},\"type\":\"parcoords\"}],\"pie\":[{\"automargin\":true,\"type\":\"pie\"}],\"scatter3d\":[{\"line\":{\"colorbar\":{\"outlinewidth\":0,\"ticks\":\"\"}},\"marker\":{\"colorbar\":{\"outlinewidth\":0,\"ticks\":\"\"}},\"type\":\"scatter3d\"}],\"scattercarpet\":[{\"marker\":{\"colorbar\":{\"outlinewidth\":0,\"ticks\":\"\"}},\"type\":\"scattercarpet\"}],\"scattergeo\":[{\"marker\":{\"colorbar\":{\"outlinewidth\":0,\"ticks\":\"\"}},\"type\":\"scattergeo\"}],\"scattergl\":[{\"marker\":{\"colorbar\":{\"outlinewidth\":0,\"ticks\":\"\"}},\"type\":\"scattergl\"}],\"scattermapbox\":[{\"marker\":{\"colorbar\":{\"outlinewidth\":0,\"ticks\":\"\"}},\"type\":\"scattermapbox\"}],\"scatterpolargl\":[{\"marker\":{\"colorbar\":{\"outlinewidth\":0,\"ticks\":\"\"}},\"type\":\"scatterpolargl\"}],\"scatterpolar\":[{\"marker\":{\"colorbar\":{\"outlinewidth\":0,\"ticks\":\"\"}},\"type\":\"scatterpolar\"}],\"scatter\":[{\"fillpattern\":{\"fillmode\":\"overlay\",\"size\":10,\"solidity\":0.2},\"type\":\"scatter\"}],\"scatterternary\":[{\"marker\":{\"colorbar\":{\"outlinewidth\":0,\"ticks\":\"\"}},\"type\":\"scatterternary\"}],\"surface\":[{\"colorbar\":{\"outlinewidth\":0,\"ticks\":\"\"},\"colorscale\":[[0.0,\"#0d0887\"],[0.1111111111111111,\"#46039f\"],[0.2222222222222222,\"#7201a8\"],[0.3333333333333333,\"#9c179e\"],[0.4444444444444444,\"#bd3786\"],[0.5555555555555556,\"#d8576b\"],[0.6666666666666666,\"#ed7953\"],[0.7777777777777778,\"#fb9f3a\"],[0.8888888888888888,\"#fdca26\"],[1.0,\"#f0f921\"]],\"type\":\"surface\"}],\"table\":[{\"cells\":{\"fill\":{\"color\":\"#EBF0F8\"},\"line\":{\"color\":\"white\"}},\"header\":{\"fill\":{\"color\":\"#C8D4E3\"},\"line\":{\"color\":\"white\"}},\"type\":\"table\"}]},\"layout\":{\"annotationdefaults\":{\"arrowcolor\":\"#2a3f5f\",\"arrowhead\":0,\"arrowwidth\":1},\"autotypenumbers\":\"strict\",\"coloraxis\":{\"colorbar\":{\"outlinewidth\":0,\"ticks\":\"\"}},\"colorscale\":{\"diverging\":[[0,\"#8e0152\"],[0.1,\"#c51b7d\"],[0.2,\"#de77ae\"],[0.3,\"#f1b6da\"],[0.4,\"#fde0ef\"],[0.5,\"#f7f7f7\"],[0.6,\"#e6f5d0\"],[0.7,\"#b8e186\"],[0.8,\"#7fbc41\"],[0.9,\"#4d9221\"],[1,\"#276419\"]],\"sequential\":[[0.0,\"#0d0887\"],[0.1111111111111111,\"#46039f\"],[0.2222222222222222,\"#7201a8\"],[0.3333333333333333,\"#9c179e\"],[0.4444444444444444,\"#bd3786\"],[0.5555555555555556,\"#d8576b\"],[0.6666666666666666,\"#ed7953\"],[0.7777777777777778,\"#fb9f3a\"],[0.8888888888888888,\"#fdca26\"],[1.0,\"#f0f921\"]],\"sequentialminus\":[[0.0,\"#0d0887\"],[0.1111111111111111,\"#46039f\"],[0.2222222222222222,\"#7201a8\"],[0.3333333333333333,\"#9c179e\"],[0.4444444444444444,\"#bd3786\"],[0.5555555555555556,\"#d8576b\"],[0.6666666666666666,\"#ed7953\"],[0.7777777777777778,\"#fb9f3a\"],[0.8888888888888888,\"#fdca26\"],[1.0,\"#f0f921\"]]},\"colorway\":[\"#636efa\",\"#EF553B\",\"#00cc96\",\"#ab63fa\",\"#FFA15A\",\"#19d3f3\",\"#FF6692\",\"#B6E880\",\"#FF97FF\",\"#FECB52\"],\"font\":{\"color\":\"#2a3f5f\"},\"geo\":{\"bgcolor\":\"white\",\"lakecolor\":\"white\",\"landcolor\":\"#E5ECF6\",\"showlakes\":true,\"showland\":true,\"subunitcolor\":\"white\"},\"hoverlabel\":{\"align\":\"left\"},\"hovermode\":\"closest\",\"mapbox\":{\"style\":\"light\"},\"paper_bgcolor\":\"white\",\"plot_bgcolor\":\"#E5ECF6\",\"polar\":{\"angularaxis\":{\"gridcolor\":\"white\",\"linecolor\":\"white\",\"ticks\":\"\"},\"bgcolor\":\"#E5ECF6\",\"radialaxis\":{\"gridcolor\":\"white\",\"linecolor\":\"white\",\"ticks\":\"\"}},\"scene\":{\"xaxis\":{\"backgroundcolor\":\"#E5ECF6\",\"gridcolor\":\"white\",\"gridwidth\":2,\"linecolor\":\"white\",\"showbackground\":true,\"ticks\":\"\",\"zerolinecolor\":\"white\"},\"yaxis\":{\"backgroundcolor\":\"#E5ECF6\",\"gridcolor\":\"white\",\"gridwidth\":2,\"linecolor\":\"white\",\"showbackground\":true,\"ticks\":\"\",\"zerolinecolor\":\"white\"},\"zaxis\":{\"backgroundcolor\":\"#E5ECF6\",\"gridcolor\":\"white\",\"gridwidth\":2,\"linecolor\":\"white\",\"showbackground\":true,\"ticks\":\"\",\"zerolinecolor\":\"white\"}},\"shapedefaults\":{\"line\":{\"color\":\"#2a3f5f\"}},\"ternary\":{\"aaxis\":{\"gridcolor\":\"white\",\"linecolor\":\"white\",\"ticks\":\"\"},\"baxis\":{\"gridcolor\":\"white\",\"linecolor\":\"white\",\"ticks\":\"\"},\"bgcolor\":\"#E5ECF6\",\"caxis\":{\"gridcolor\":\"white\",\"linecolor\":\"white\",\"ticks\":\"\"}},\"title\":{\"x\":0.05},\"xaxis\":{\"automargin\":true,\"gridcolor\":\"white\",\"linecolor\":\"white\",\"ticks\":\"\",\"title\":{\"standoff\":15},\"zerolinecolor\":\"white\",\"zerolinewidth\":2},\"yaxis\":{\"automargin\":true,\"gridcolor\":\"white\",\"linecolor\":\"white\",\"ticks\":\"\",\"title\":{\"standoff\":15},\"zerolinecolor\":\"white\",\"zerolinewidth\":2}}},\"xaxis\":{\"range\":[-60,60]},\"yaxis\":{\"range\":[-60,60]},\"width\":520,\"height\":500,\"shapes\":[{\"line\":{\"color\":\"black\"},\"type\":\"circle\",\"x0\":-10.5,\"x1\":10.5,\"xref\":\"x\",\"y0\":-10.5,\"y1\":10.5,\"yref\":\"y\"},{\"line\":{\"color\":\"black\"},\"type\":\"circle\",\"x0\":-55,\"x1\":55,\"xref\":\"x\",\"y0\":-55,\"y1\":55,\"yref\":\"y\"}]},                        {\"responsive\": true}                    ).then(function(){\n                            \nvar gd = document.getElementById('7d091423-c1da-4153-9e77-f0f44a7f2b70');\nvar x = new MutationObserver(function (mutations, observer) {{\n        var display = window.getComputedStyle(gd).display;\n        if (!display || display === 'none') {{\n            console.log([gd, 'removed!']);\n            Plotly.purge(gd);\n            observer.disconnect();\n        }}\n}});\n\n// Listen for the removal of the full notebook cells\nvar notebookContainer = gd.closest('#notebook-container');\nif (notebookContainer) {{\n    x.observe(notebookContainer, {childList: true});\n}}\n\n// Listen for the clearing of the current output cell\nvar outputEl = gd.closest('.output');\nif (outputEl) {{\n    x.observe(outputEl, {childList: true});\n}}\n\n                        })                };                            </script>        </div>\n</body>\n</html>"
                },
                "metadata": {}
              }
            ]
          }
        },
        "8e252378e7544e0d9cfeddbac1d61ffd": {
          "model_module": "@jupyter-widgets/base",
          "model_name": "LayoutModel",
          "model_module_version": "1.2.0",
          "state": {
            "_model_module": "@jupyter-widgets/base",
            "_model_module_version": "1.2.0",
            "_model_name": "LayoutModel",
            "_view_count": null,
            "_view_module": "@jupyter-widgets/base",
            "_view_module_version": "1.2.0",
            "_view_name": "LayoutView",
            "align_content": null,
            "align_items": null,
            "align_self": null,
            "border": null,
            "bottom": null,
            "display": null,
            "flex": null,
            "flex_flow": null,
            "grid_area": null,
            "grid_auto_columns": null,
            "grid_auto_flow": null,
            "grid_auto_rows": null,
            "grid_column": null,
            "grid_gap": null,
            "grid_row": null,
            "grid_template_areas": null,
            "grid_template_columns": null,
            "grid_template_rows": null,
            "height": null,
            "justify_content": null,
            "justify_items": null,
            "left": null,
            "margin": null,
            "max_height": null,
            "max_width": null,
            "min_height": null,
            "min_width": null,
            "object_fit": null,
            "object_position": null,
            "order": null,
            "overflow": null,
            "overflow_x": null,
            "overflow_y": null,
            "padding": null,
            "right": null,
            "top": null,
            "visibility": null,
            "width": null
          }
        },
        "8b3bb6a1b95540fab3c1ab7147bff192": {
          "model_module": "@jupyter-widgets/base",
          "model_name": "LayoutModel",
          "model_module_version": "1.2.0",
          "state": {
            "_model_module": "@jupyter-widgets/base",
            "_model_module_version": "1.2.0",
            "_model_name": "LayoutModel",
            "_view_count": null,
            "_view_module": "@jupyter-widgets/base",
            "_view_module_version": "1.2.0",
            "_view_name": "LayoutView",
            "align_content": null,
            "align_items": null,
            "align_self": null,
            "border": null,
            "bottom": null,
            "display": null,
            "flex": null,
            "flex_flow": null,
            "grid_area": null,
            "grid_auto_columns": null,
            "grid_auto_flow": null,
            "grid_auto_rows": null,
            "grid_column": null,
            "grid_gap": null,
            "grid_row": null,
            "grid_template_areas": null,
            "grid_template_columns": null,
            "grid_template_rows": null,
            "height": null,
            "justify_content": null,
            "justify_items": null,
            "left": null,
            "margin": null,
            "max_height": null,
            "max_width": null,
            "min_height": null,
            "min_width": null,
            "object_fit": null,
            "object_position": null,
            "order": null,
            "overflow": null,
            "overflow_x": null,
            "overflow_y": null,
            "padding": null,
            "right": null,
            "top": null,
            "visibility": null,
            "width": null
          }
        },
        "e0a9b3a1779d45629ae7dd67dbc1e5aa": {
          "model_module": "@jupyter-widgets/controls",
          "model_name": "SliderStyleModel",
          "model_module_version": "1.5.0",
          "state": {
            "_model_module": "@jupyter-widgets/controls",
            "_model_module_version": "1.5.0",
            "_model_name": "SliderStyleModel",
            "_view_count": null,
            "_view_module": "@jupyter-widgets/base",
            "_view_module_version": "1.2.0",
            "_view_name": "StyleView",
            "description_width": "",
            "handle_color": null
          }
        },
        "9a646eedbe404c1d85dc935a4fd4375a": {
          "model_module": "@jupyter-widgets/base",
          "model_name": "LayoutModel",
          "model_module_version": "1.2.0",
          "state": {
            "_model_module": "@jupyter-widgets/base",
            "_model_module_version": "1.2.0",
            "_model_name": "LayoutModel",
            "_view_count": null,
            "_view_module": "@jupyter-widgets/base",
            "_view_module_version": "1.2.0",
            "_view_name": "LayoutView",
            "align_content": null,
            "align_items": null,
            "align_self": null,
            "border": null,
            "bottom": null,
            "display": null,
            "flex": null,
            "flex_flow": null,
            "grid_area": null,
            "grid_auto_columns": null,
            "grid_auto_flow": null,
            "grid_auto_rows": null,
            "grid_column": null,
            "grid_gap": null,
            "grid_row": null,
            "grid_template_areas": null,
            "grid_template_columns": null,
            "grid_template_rows": null,
            "height": null,
            "justify_content": null,
            "justify_items": null,
            "left": null,
            "margin": null,
            "max_height": null,
            "max_width": null,
            "min_height": null,
            "min_width": null,
            "object_fit": null,
            "object_position": null,
            "order": null,
            "overflow": null,
            "overflow_x": null,
            "overflow_y": null,
            "padding": null,
            "right": null,
            "top": null,
            "visibility": null,
            "width": null
          }
        },
        "d9f1a3433a374fdaa5fc2ebd73d5ce3e": {
          "model_module": "@jupyter-widgets/controls",
          "model_name": "VBoxModel",
          "model_module_version": "1.5.0",
          "state": {
            "_dom_classes": [
              "widget-interact"
            ],
            "_model_module": "@jupyter-widgets/controls",
            "_model_module_version": "1.5.0",
            "_model_name": "VBoxModel",
            "_view_count": null,
            "_view_module": "@jupyter-widgets/controls",
            "_view_module_version": "1.5.0",
            "_view_name": "VBoxView",
            "box_style": "",
            "children": [
              "IPY_MODEL_ff73e236ec5c4618b65d4b81b7894800",
              "IPY_MODEL_d1986270270147429c3f995f106d2acf",
              "IPY_MODEL_ebcaaa6c8be14e449c9cf89dd1e7ce1a",
              "IPY_MODEL_910a8dcc64a6486aacf3696d1c07ba20",
              "IPY_MODEL_fbbf2bb1834742d4b999982402a120c9"
            ],
            "layout": "IPY_MODEL_649839500ed94c2285b6b551e97dc959"
          }
        },
        "ff73e236ec5c4618b65d4b81b7894800": {
          "model_module": "@jupyter-widgets/controls",
          "model_name": "IntSliderModel",
          "model_module_version": "1.5.0",
          "state": {
            "_dom_classes": [],
            "_model_module": "@jupyter-widgets/controls",
            "_model_module_version": "1.5.0",
            "_model_name": "IntSliderModel",
            "_view_count": null,
            "_view_module": "@jupyter-widgets/controls",
            "_view_module_version": "1.5.0",
            "_view_name": "IntSliderView",
            "continuous_update": true,
            "description": "charge",
            "description_tooltip": null,
            "disabled": false,
            "layout": "IPY_MODEL_ed0d0afddf04451a991346a52e711d43",
            "max": 1,
            "min": -1,
            "orientation": "horizontal",
            "readout": true,
            "readout_format": "d",
            "step": 2,
            "style": "IPY_MODEL_654ffe6a9fe144c8b218e424d180d89b",
            "value": 1
          }
        },
        "d1986270270147429c3f995f106d2acf": {
          "model_module": "@jupyter-widgets/controls",
          "model_name": "FloatSliderModel",
          "model_module_version": "1.5.0",
          "state": {
            "_dom_classes": [],
            "_model_module": "@jupyter-widgets/controls",
            "_model_module_version": "1.5.0",
            "_model_name": "FloatSliderModel",
            "_view_count": null,
            "_view_module": "@jupyter-widgets/controls",
            "_view_module_version": "1.5.0",
            "_view_name": "FloatSliderView",
            "continuous_update": true,
            "description": "px",
            "description_tooltip": null,
            "disabled": false,
            "layout": "IPY_MODEL_2bd8cc7d950f47a0978e543a25b2c494",
            "max": 1,
            "min": -1,
            "orientation": "horizontal",
            "readout": true,
            "readout_format": ".2f",
            "step": 0.0001,
            "style": "IPY_MODEL_e818338f73aa46ac8f962094d0da3826",
            "value": 0.45809999999999995
          }
        },
        "ebcaaa6c8be14e449c9cf89dd1e7ce1a": {
          "model_module": "@jupyter-widgets/controls",
          "model_name": "FloatSliderModel",
          "model_module_version": "1.5.0",
          "state": {
            "_dom_classes": [],
            "_model_module": "@jupyter-widgets/controls",
            "_model_module_version": "1.5.0",
            "_model_name": "FloatSliderModel",
            "_view_count": null,
            "_view_module": "@jupyter-widgets/controls",
            "_view_module_version": "1.5.0",
            "_view_name": "FloatSliderView",
            "continuous_update": true,
            "description": "py",
            "description_tooltip": null,
            "disabled": false,
            "layout": "IPY_MODEL_7018e87637444b1184315cd202e08709",
            "max": 1,
            "min": -1,
            "orientation": "horizontal",
            "readout": true,
            "readout_format": ".2f",
            "step": 0.0001,
            "style": "IPY_MODEL_fdf8b5a0b661404e85c1f3cbc9a3d729",
            "value": 0.31289999999999996
          }
        },
        "910a8dcc64a6486aacf3696d1c07ba20": {
          "model_module": "@jupyter-widgets/controls",
          "model_name": "FloatSliderModel",
          "model_module_version": "1.5.0",
          "state": {
            "_dom_classes": [],
            "_model_module": "@jupyter-widgets/controls",
            "_model_module_version": "1.5.0",
            "_model_name": "FloatSliderModel",
            "_view_count": null,
            "_view_module": "@jupyter-widgets/controls",
            "_view_module_version": "1.5.0",
            "_view_name": "FloatSliderView",
            "continuous_update": true,
            "description": "t_max",
            "description_tooltip": null,
            "disabled": false,
            "layout": "IPY_MODEL_5f9e63fdbfa04724b3df1480017f17b8",
            "max": 6.283185307179586,
            "min": 0,
            "orientation": "horizontal",
            "readout": true,
            "readout_format": ".2f",
            "step": 0.0001,
            "style": "IPY_MODEL_730b01a400fd4186b4abcce6250f3d6b",
            "value": 3.1416000000000004
          }
        },
        "fbbf2bb1834742d4b999982402a120c9": {
          "model_module": "@jupyter-widgets/output",
          "model_name": "OutputModel",
          "model_module_version": "1.0.0",
          "state": {
            "_dom_classes": [],
            "_model_module": "@jupyter-widgets/output",
            "_model_module_version": "1.0.0",
            "_model_name": "OutputModel",
            "_view_count": null,
            "_view_module": "@jupyter-widgets/output",
            "_view_module_version": "1.0.0",
            "_view_name": "OutputView",
            "layout": "IPY_MODEL_795fe4aa3af44172a863549a331e8630",
            "msg_id": "",
            "outputs": [
              {
                "output_type": "display_data",
                "data": {
                  "text/html": "<html>\n<head><meta charset=\"utf-8\" /></head>\n<body>\n    <div>            <script src=\"https://cdnjs.cloudflare.com/ajax/libs/mathjax/2.7.5/MathJax.js?config=TeX-AMS-MML_SVG\"></script><script type=\"text/javascript\">if (window.MathJax && window.MathJax.Hub && window.MathJax.Hub.Config) {window.MathJax.Hub.Config({SVG: {font: \"STIX-Web\"}});}</script>                <script type=\"text/javascript\">window.PlotlyConfig = {MathJaxConfig: 'local'};</script>\n        <script charset=\"utf-8\" src=\"https://cdn.plot.ly/plotly-2.24.1.min.js\"></script>                <div id=\"47d98173-0548-4ca5-a6e8-d961096e1ccb\" class=\"plotly-graph-div\" style=\"height:500px; width:500px;\"></div>            <script type=\"text/javascript\">                                    window.PLOTLYENV=window.PLOTLYENV || {};                                    if (document.getElementById(\"47d98173-0548-4ca5-a6e8-d961096e1ccb\")) {                    Plotly.newPlot(                        \"47d98173-0548-4ca5-a6e8-d961096e1ccb\",                        [{\"type\":\"scatter\",\"uid\":\"0ffffeef-6555-48b2-93b3-9c90960edd97\",\"x\":[7.105427357601002e-15,0.2793465519122549,0.5580896642228552,0.8362265803265245,1.1137545496128496,1.390670827493615,1.6669726754298253,1.9426573609588402,2.217722157721404,2.4921643454886038,2.7659812101887127,3.0391700439341633,3.311728145048164,3.583652818091565,3.854941373889389,4.12559112955752,4.395599408529208,4.664963540581482,4.933680861861646,5.201748714913563,5.469164448703978,5.735925418648705,6.002028986638749,6.26747252106648,6.532253396851587,6.7963689954670485,7.059816704965101,7.322593920002944,7.584698041868634,7.846126478506662,8.10687664454369,8.366945961314059,8.626331856885315,8.885031766083628,9.143043130519203,9.400363398611475,9.656990025614519,9.912920473642018,10.168152211692501,10.422682715674313,10.676509468430595,10.929629959764199,11.18204168646244,11.433742152321912,11.684728868173195,11.934999351905404,12.184551128490753,12.433381730009089,12.681488695672215,12.928869571848324,13.175521912086126,13.42144327713919,13.666631234989964,13.911083360873889,14.154797237303313,14.397770454091471,14.640000608376269,14.881485304644073,15.122222154753374,15.362208777958443,15.60144280093283,15.839921857792888,16.077643590121113,16.314605646989506,16.55080568498279,16.786241368221653,17.02091036838577,17.25481036473687,17.487939044141655,17.720294101094723,17.95187323774134,18.18267416390016,18.41269459708586,18.641932262531782,18.87038489321236,19.09805022986552,19.324926021015102,19.55101002299311,19.776299999961836,20.000793723936,20.224488974804828,20.447383540353982,20.669475216287395,20.890761806249117,21.111241121845055,21.330910982664548,21.549769216301996,21.76781365837826,21.9850421525622,22.20145255059184,22.417042712295768,22.63181050561417,22.845753806619967,23.058870499539893,23.271158476775284,23.482615638923008,23.69323989479618,23.903029161444934,24.1119813641769,24.320094436577776,24.52736632053177,24.733794966241987,24.939378332250627,25.14411438545922,25.348001101148682,25.55103646299945,25.75321846311128,25.954545102023232,26.155014388733335,26.354624340718345,26.553372983953366,26.751258352931274,26.94827849068227,27.144431448793156,27.339715287426657,27.534128075340533,27.727667889906783,27.920332817130543,28.112120951669098,28.303030396850687,28.4930592646933,28.68220567592327,28.870467759993915,29.05784365510408,29.244331508216433,29.42992947507588,29.614635720227795,29.79844841703614,29.98136574770153,30.163385903279234,30.344507083697053,30.52472749777317,30.704045363233732,30.88245890673062,31.05996636385889,31.2365659791743,31.412256006210626,31.587034707496883,31.760900354574602,31.933851228014902,32.10588561743543,32.277001821517345,32.44719814802211,32.61647291380825,32.78482444484797,32.952251076243726,33.118751152244684,33.28432302626311,33.44896506089063,33.61267562791443,33.775453108333366,33.93729589237398,34.098202379506404,34.2581709784602,34.41720010724009,34.5752881931416,34.732433672766604,34.88863499203883,35.04389060621918,35.19819897992099,35.35155858712528,35.50396791119586,35.65542544489416,35.805929690394365,35.95547915929808,36.10407237264907,36.251707860947946,36.39838416416663,36.54409983176279,36.68885342269428,36.83264350543327,36.975468657980514,37.117327467879306,37.25821853222952,37.39814045770147,37.53709186054968,37.675071366626554,37.81207761139599,37.9481092399469,38.08316490700656,38.21724327695388,38.350343023832735,38.48246283136497,38.613601392963446,38.74375741174501,38.87292960054323,39.001116681921204,39.12831738818414,39.254530461391965,39.379754653371634,39.50398872572961,39.62723144986407,39.749481606977014,39.87073798808632,39.990999394037786,40.11026463551687,40.22853253306056,40.34580191706897,40.46207162781691,40.57734051546538,40.69160744007296,40.80487127160697,40.91713088995485,41.02838518493502,41.13863305630801,41.24787341378723,41.3561051770499,41.463327275747574,41.56953864951677,41.67473824798958,41.778925030803876,41.8820979676137,41.984256038099446,42.08539823197792,42.18552354901239,42.28463099902237,42.38271960189353,42.47978838758735,42.57583639615065,42.67086267772517,42.76486629255692,42.8578463110055,42.949801813553236,43.04073189081436,43.13063564354391,43.219512182646724,43.30736062918611,43.39418011439267,43.47996977967277,43.56472877661716,43.64845626700922,43.73115142283338,43.8128134262832,43.893441469769556,43.973034755928566,44.05159249762944,44.12911391798241,44.20559825034621,44.281044738335865,44.35545263582998,44.42882120697827,44.50114972620872,44.57243747823492,44.64268375806289,44.71188787099831,44.78004913265323,44.8471668689529,44.91324041614243,44.978269120793286,45.042252339809906,45.10518944043591,45.16707980026038,45.22792280722413,45.28771785962563,45.34646436612701,45.40416174575988,45.460809427931125,45.516406852428545,45.570953469426286,45.62444873949046,45.67689213358432,45.72828313307356,45.778621229731456,45.82790592574385,45.87613673371412,45.923313176667975,45.96943478805815,46.014501111769064,46.05851170212131,46.10146612387602,46.1433639522393,46.184204772866266,46.22398818186521,46.262713785801694,46.30038120170225,46.33699005705833,46.37253998982989,46.40703064844902,46.440461691823415,46.47283278933975,46.504143620866884,46.53439387675917,46.56358325785935,46.59171147550164,46.61877825151453,46.64478331822353,46.66972641845385,46.69360730553288,46.71642574329276,46.73818150607251,46.75887437872048,46.77850415659633,46.797070645573115,46.81457366203918,46.8310130329,46.84638859557988,46.86070019802355,46.87394769869769,46.886130966592305,46.897249881222066,46.90730433262743,46.91629422137581,46.92421945856249,46.931079965811534,46.93687567527658,46.94160652964146,46.945272482120814,46.94787349646052,46.9494095469381,46.94988061836288,46.94928670607628,46.94762781595172,46.94490396439467,46.941115178342386,46.93626149526375,46.93034296315885,46.923359640558445,46.91531159652351,46.90619891064445,46.89602167304038,46.884779984358175,46.872473955771525,46.859103708979816,46.84466937620691,46.829171100199844,46.81260903422749,46.79498334207888,46.77629419806178,46.756541787000785,46.73572630423564,46.7138479556192,46.690906957515466,46.666903536797406,46.6418379308447,46.615710387541455,46.588521165273704,46.56027053292682,46.53095876988297,46.500586166018195,46.46915302169968,46.43665964778275,46.4031063656077,46.36849350699677,46.332821414250745,46.29609044014562,46.25830094792913,46.21945331131708,46.179547914489746,46.13858515208803,46.09656542920949,46.053489161404485,46.00935677467194,45.96416870545521,45.91792540063766,45.87062731753835,45.822274923907514,45.77286869792184,45.722409128179834,45.67089671369693,45.61833196390059,45.564715398625225,45.51004754810714,45.45432895297918,45.39756016426544,45.33974174337585,45.28087426210055,45.220958302604274,45.15999445742058,45.09798332944602,45.03492553193418,44.97082168848951,44.9056724330613,44.83947840993736,44.77224027373758,44.703958689407585,44.634634332212016,44.56426788772798,44.49286005183818,44.420411530724095,44.34692304085894,44.27239530900063,44.196829072184556,44.12022507771631,44.04258408316434,43.96390685635234,43.88419417535178,43.80344682847418,43.72166561426323,43.638851341487026,43.555004829129956,43.470126906384706,43.38421841264393,43.2972801974921,43.20931312069696,43.12031805220113,43.03029587211343,42.939247470700266,42.84717374837672,42.75407561569769,42.659953993348935,42.56480981213787,42.46864401298447,42.37145754691184,42.27325137503696,42.17402646856105,42.07378380876003,41.9725243869748,41.87024920460141,41.76695927308124,41.662655613890905,41.55733925853218,41.45101124852185,41.34367263538134,41.235324480626346,41.12596785575634,41.01560384224396,40.904233531524355,40.791858024984336,40.6784784339515,40.56409587968328,40.44871149335579,40.332326416052695,40.21494179875393,40.096558802324225,39.97717859750172,39.85680236488642,39.73543129492836,39.61306658791604,39.489709453964295,39.36536111300262,39.24002279476291,39.11369573876735,38.98638119431615,38.85808042047522,38.72879468606371,38.5985252696414,38.46727345949614,38.335040553631075,38.20182785975183,38.0676366952535,37.93246838720775,37.79632427234954,37.65920569706404,37.52111401737325,37.3820505989226,37.24201681696745,37.10101405635943,36.959043711532885,36.81610718649095,36.6722058947917,36.527341259534225,36.38151471334449,36.23472769836118,36.08698166622149,35.93827807804669,35.78861840442775,35.638004125410745,35.486436730482225,35.33391771855453,35.18044859795086,35.02603088639056,34.870666110973815,34.71435580816686,34.55710152378654,34.39890481298518,34.23976724023515,34.079690379313334,33.91867581328566,33.75672513449143,33.59383994452753,33.43002185423258,33.26527248367107,33.09959346211731,32.932986428039285,32.76545302908251,32.59699492205365,32.427613772904266,32.25731125671419,32.08608905767505,31.91394886907362,31.740892393275047,31.566921341706006,31.392037434837775,31.216242402169257,31.03953798220985,30.861925922462262,30.68340797940519,30.503985918476005,30.3236615140533,30.142436549439267,29.960312816842148,29.777292117358442,29.59337626095514,29.408567066451795,29.222866361502554,29.036275982578076,28.848797774947386,28.660433592659572,28.471185298525583,28.281054764099565,28.090043869660647,27.898154504194096,27.705388565372814,27.511747959538468,27.317234601682628,27.12185041542793,26.92559733300898,26.728477295253214,26.530492251561782,26.33164415989023,26.13193498672912,25.931366707084635,25.72994130445899,25.527660770830835,25.3245271066356,25.120542320745656,24.915708430450437,24.710027461436567,24.503501447767732,24.296132431864663,24.087922464484848,23.878873604702306,23.6689879198872,23.458267485685425,23.24671438599802,23.034330712960596,22.821118566922692,22.607080056426938,22.39221729818817,22.176532417072607,21.960027546076773,21.742704826306394,21.52456640695523,21.30561444528385,21.08585110659827,20.865278564228575,20.64389899950733,20.421714601748135,20.198727568223916,19.974940104145134,19.750354422638125,19.52497274472303,19.29879729929202,19.071830323087084,18.84407406067804,18.615530764440223,18.38620269453233,18.156092118873957,17.925201313123296,17.693532560654432,17.461088152535012,17.227870387503373,16.993881571945977,16.75912401987442,16.523600052902722,16.287312000224276,16.050262198588882,15.81245299227946,15.573886733089125,15.334565780297737,15.094492500648656,14.85366926832529,14.612098464927655,14.369782479448773,14.126723708251163,13.882924555042962,13.638387430854252,13.393114754013297,13.147108950122472,12.900372452034375,12.652907699827736,12.404717140783262,12.155803229359506,11.906168427168552,11.65581520295163,11.404746032554726,11.152963398904205,10.900469791982061,10.647267708801465,10.39335965338195,10.138748136724729,9.883435676787855,9.627424798461249,9.370718033541792,9.113317920708283,8.855227005496346,8.596447840273186,8.336982984212398,8.076835003268712,7.816006470152544,7.554499964304512,7.292318071870028,7.029463385673694,6.765938505193631,6.501746036535778,6.236888592408121,5.971368792094907,5.705189261430647,5.438352632774226,5.170861544982813,4.9027186433858105,4.633926579758693,4.364488012296746,4.09440560558879,3.823682030590845,3.552319964599704,3.280322091226523,3.00769110037006,2.734429688190396,2.460540557082034,2.1860264156472695,1.9108899786693527,1.635133967085686,1.3587611079609232,1.0817741344599554,0.804175785820874,0.5259688073279776,0.2471559502844869,-0.032260028014526654,-0.31227636430952543,-0.5928902894037975,-0.874099028190777,-1.1558997996815847,-1.4382898170324268,-1.7212662875723268,-2.004826412830525,-2.288967388564302,-2.573686404786649,-2.858980645794105,-3.1448472901945905,-3.4312835109352164,-3.718286475330366,-4.005853345089719,-4.293981276346166,-4.582667419684093,-4.871908920167449,-5.161702917368075,-5.45204654539387,-5.7429369329173525,-6.034371203203769,-6.326346474139726,-6.618859858261679,-6.911908462784453,-7.205489389629825,-7.499599735455263,-7.794236591682562,-8.089397044526606,-8.385078175024347,-8.681277059063412,-8.977990767411193,-9.275216365743766,-9.572950914674934,-9.87119146978526,-10.16993508165121,-10.46917879587427,-10.768919653110345,-11.069154689098752,-11.369880934691707,-11.671095415883677,-11.972795153840735,-12.274977164930071,-12.577638460749476,-12.880776048156847,-13.184386929299961,-13.488468101645893,-13.793016558010834,-14.098029286589828,-14.40350327098652,-14.709435490243024,-15.01582291886978,-15.322662526875469,-15.629951279796934,-15.93768613872939,-16.245864060356176,-16.554481996979057,-16.86353689654831,-17.17302570269289,-17.482945354750683,-17.793292787798762,-18.10406493268367,-18.415258716051888,-18.726871060380056,-19.038898884005498,-19.35133910115674,-19.664188621983918,-19.977444352589437,-20.291103195058525,-20.605162047489813,-20.919617804026203,-21.234467354885318,-21.549707586390447,-21.865335381001252,-22.18134761734464,-22.497741170245604,-22.814512910758154,-23.131659706196245,-23.4491784201647,-23.76706591259044,-24.085319039753244,-24.403934654317005,-24.72290960536086,-25.042240738410307,-25.3619248954684,-25.681958915047012,-26.00233963219803,-26.32306387854483,-26.64412848231337,-26.96553026836372,-27.28726605822139,-27.609332670108813,-27.93172691897677,-28.254445616535932,-28.57748557128828,-28.90084358855892,-29.22451647052735,-29.548501016259298,-29.87279402173832,-30.19739227989748,-30.522292580651076,-30.847491710926377,-31.172986454695423,-31.498773593006742,-31.82484990401741,-32.151212163024596,-32.47785714249766,-32.80478161211006,-33.13198233877121,-33.459456086658534,-33.78719961724942,-34.11520968935325,-34.44348305914356,-34.77201648018992,-35.10080670349019,-35.42985047750259,-35.75914454817789,-36.08868565899157,-36.418470550976025,-36.748495962752735,-37.07875863056476,-37.40925528830866,-37.739982667567034,-38.070937497640784,-38.40211650558146,-38.73351641622361,-39.065133952217195,-39.39696583406,-39.72900878012997,-40.061259506717946,-40.39371472805975,-40.72637115636894,-41.059225501869264,-41.39227447282718,-41.7255147755844,-42.05894311459049,-42.39255619243541,-42.72635070988228,-43.06032336589978,-43.3944708576949,-43.728789880745666,-44.06327712883372,-44.39792929407707,-44.73274306696281,-45.067715136379746,-45.40284218965139,-45.738120912568405,-46.07354798942158,-46.40912010303457,-46.7448339347967,-47.080686164695805,-47.41667347135101,-47.75279253204563,-48.089040022759974,-48.42541261820436,-48.7619069918518,-49.09851981597099,-49.43524776165926,-49.77208749887543,-50.10903569647277,-50.446089022231966,-50.78324414289397,-51.1204977241932,-51.4578464308902,-51.79528692680485,-52.13281587484928,-52.470429937060864,-52.808125774635265,-53.14590004795944,-53.483749416644585,-53.821670539559435,-54.159660074862934,-54.49771468003754,-54.835831011922195,-55.174005726745406,-55.51223548015832,-55.850516927267755,-56.188846722669325,-56.527221520480474,-56.86563797437372,-57.20409273760949,-57.54258246306941,-57.881103803289335,-58.219653410492484,-58.55822793662252,-58.896824033376696,-59.23543835223885,-59.574067544512815,-59.91270826135514,-60.251357153808485,-60.59001087283465,-60.92866606934768,-61.267319394247046,-61.6059674984507,-61.9446070329282,-62.28323464873396,-62.62184699704015,-62.96044072916998,-63.29901249663074,-63.63755895114694,-63.97607674469344,-64.3145625295285,-64.653012958227,-64.99142468371333,-65.32979435929487,-65.66811863869461,-66.00639417608461,-66.34461762611893,-66.68278564396672,-67.02089488534537,-67.35894200655348,-67.69692366450397,-68.0348365167573,-68.37267722155421,-68.710442437849,-69.0481288253425,-69.38573304451513,-69.72325175665986,-70.06068162391534,-70.39801930929873,-70.735261476739,-71.07240479110959,-71.40944591826155,-71.74638152505655,-72.08320827939977,-72.41992285027288,-72.75652190776697,-73.09300212311551,-73.42936016872717,-73.76559271821898,-74.10169644644891,-74.4376680295489,-74.7735041449578,-75.10920147145407,-75.4447566891888,-75.78016647971837,-76.11542752603737,-76.45053651261148,-76.78549012541004,-77.12028505193898,-77.45491798127355,-77.78938560409105,-78.12368461270361,-78.45781170109078,-78.7917635649323,-79.12553690164088,-79.45912841039471,-79.79253479217007,-80.12575274977415,-80.45877898787747,-80.79161021304655,-81.12424313377653,-81.45667446052354,-81.78890090573756,-82.12091918389457,-82.45272601152922,-82.7843181072673,-83.11569219185817,-83.4468449882072,-83.77777322140818,-84.10847361877565,-84.43894290987731,-84.7691778265665,-85.09917510301423,-85.42893147574169,-85.75844368365244,-86.08770846806475,-86.41672257274368,-86.74548274393344,-87.07398573038938,-87.40222828341044,-87.73020715687095,-88.05791910725289,-88.385360893678,-88.71252927793975,-89.0394210245354,-89.366032900698,-89.6923616764283,-90.01840412452691,-90.34415702062589,-90.66961714322082,-90.9947812737027,-91.31964619638966,-91.64420869855884,-91.96846557047817,-92.29241360543806,-92.61604959978305,-92.9393703529438,-93.2623726674683,-93.5850533490538,-93.90740920657828,-94.22943705213211,-94.55113370104944,-94.87249597193974,-95.19352068671932,-95.51420467064278,-95.83454475233427,-96.1545377638189,-96.47418054055419,-96.7934699214612,-97.11240274895593,-97.43097586898044,-97.74918613103405,-98.06703038820467,-98.38450549719965,-98.70160831837705,-99.0183357157766,-99.33468455715081,-99.65065171399584,-99.9662340615825,-100.28142847898715,-100.59623184912246,-100.91064105876853,-101.22465299860329,-101.5382645632335,-101.85147265122538,-102.16427416513531,-102.47666601154046,-102.78864510106935,-103.10020834843237,-103.4113526724525,-103.72207499609547,-104.03237224650044,-104.34224135501023,-104.65167925720175,-104.96068289291631,-105.26924920628983,-105.5773751457831,-105.88505766421198,-106.19229371877749,-106.49908027109586,-106.80541428722873,-107.11129273771293,-107.41671259759067,-107.72167084643934,-108.02616446840135,-108.33019045221397,-108.63374579123925,-108.93682748349357,-109.23943253167738,-109.54155794320488,-109.84320073023358,-110.1443579096939,-110.44502650331859,-110.7452035376722,-111.04488604418066,-111.34407105916033,-111.64275562384752,-111.94093678442772,-112.23861159206476,-112.53577710293001,-112.83243037823152,-113.12856848424295,-113.42418849233283,-113.7192874789933,-114.01386252586902,-114.30791071978621,-114.60142915278134,-114.89441492212984,-115.18686513037494,-115.47877688535624,-115.77014730023828,-116.0609734935392,-116.35125258915915,-116.6409817164087,-116.93015801003737,-117.21877861026182,-117.50684066279419,-117.79434131887038,-118.08127773527809,-118.3676470743851,-118.65344650416723,-118.93867319823633,-119.2233243358683,-119.50739710203092,-119.79088868741178,-120.07379628844595,-120.35611710734376,-120.63784835211858,-120.9189872366142,-121.19953098053253,-121.47947680946108],\"y\":[0.0,0.19144934052341966,0.38377620653935196,0.5769786960483145,0.7710548983913981,0.9660028942692094,1.1618207557608287,1.3585065463428663,1.556058320908619,1.754474125787354,1.953751998763508,2.1538899690962836,2.3548860575389057,2.5567382763584163,2.7594446293551584,2.9630031118826423,3.1674117108672846,3.3726684048283886,3.5787711638980255,3.785717949841299,3.99350671607624,4.202135407694314,4.411601961480542,4.621904305934038,4.833040361288369,5.045008039532249,5.257805244430102,5.471429871542867,5.685879808248686,5.901152933763953,6.117247119164148,6.334160227404993,6.551890113343532,6.770434623759371,6.989791597375927,7.209958864881841,7.430934248952468,7.652715564271304,7.875300617551716,8.098687207558541,8.322873125129888,8.547856153199021,8.7736340668162,9.000204633170782,9.227565611613215,9.45571475367727,9.684649803102218,9.9143684958552,10.144868560153554,10.376147716487324,10.608203677641797,10.841034148720098,11.074636827165946,11.309009402786373,11.544149557774517,11.780054966732706,12.01672329669529,12.25415220715179,12.49233935007004,12.731282369919427,12.970978903694103,13.21142658093649,13.452623023760552,13.694565846875463,13.937252657609136,14.180681055931856,14.424848634480043,14.669752978580078,14.915391666272171,15.161762268334286,15.408862348306187,15.656689462513555,15.905241160092089,16.154514983011808,16.404508466101362,16.655219137072336,16.906644516543764,17.158782118066668,17.411629448148574,17.665184006278224,17.919443284950304,18.174404769690184,18.430065939078915,18.68642426477794,18.943477211554395,19.201222237305927,19.45965679308594,19.718778323128817,19.97858426487514,20.239072048997087,20.50023909942381,20.762082833366918,21.02460066134597,21.287789987214225,21.551648208184176,21.81617271485331,22.08136089122995,22.34721011475918,22.61371775634865,22.88088118039464,23.148697744808175,23.417164801041068,23.686279694112173,23.95603976263361,24.226442338837074,24.49748474860027,24.769164311473318,25.041478340705268,25.314424143270628,25.587999019896124,25.862200265087232,26.13702516715506,26.412471008243088,26.688535064354085,26.965214605377064,27.242506895114204,27.520409191307984,27.79891874566829,28.07803280389956,28.357748605728077,28.638063384929204,28.918974369354757,29.200478780960474,29.482573835833442,29.765256744219606,30.04852471055139,30.332374933475364,30.61680460587992,30.90181091492301,31.18739104206,31.473542163071542,31.760261448091484,32.0475460616349,32.33539316262602,32.623799904426484,32.91276343486339,33.20228089625751,33.492349425451565,33.78296615383855,34.0741282073901,34.365832706684884,34.65807676693712,34.95085749802507,35.24417200451965,35.538017385713054,35.83239073564743,36.12728914314361,36.422709691829944,36.71864946017112,37.01510552149701,37.31207494403168,37.609554790922346,37.90754212026844,38.20603398515066,38.505027433660196,38.804519508927825,39.104507249153215,39.40498768763421,39.70595785279614,40.00741476822124,40.309355452678055,40.61177692015097,40.914676179869666,41.21805023633878,41.52189608936747,41.82621073409911,42.13099116104097,42.43623435609406,42.74193730058284,43.04809697128517,43.354710340462084,43.66177437588787,43.969286040879965,44.27724229432903,44.58564009072895,44.8944763802071,45.20374810855435,45.51345221725536,45.8235856435188,46.13414532030764,46.445128176369494,46.75653113626694,47.06835112040805,47.3805850450767,47.6932298224632,48.0062823606947,48.3197395638659,48.63359833206956,48.947855561427225,49.26250814411986,49.57755296841867,49.89298691871576,50.20880687555507,50.525009715663096,50.8415923119799,51.15855153368995,51.475884246253145,51.79358731143571,52.11165758734138,52.43009192844232,52.74888718561038,53.06804020614808,53.38754783381995,53.7074069088836,54.027614268121084,54.34816674487009,54.66906116905531,54.9902943672198,55.3118631625563,55.63376437493873,55.955994820953556,56.278551313931374,56.60143066397833,56.924629678007705,57.2481451597715,57.57197390989205,57.8961127258936,58.220558402234104,58.54530773033677,58.87035749862193,59.195704492538695,59.521345494596815,59.84727728439846,60.17349663867009,60.500000331294316,60.826785133341815,61.15384781310324,61.48118513612123,61.80879386522233,62.136670760549066,62.46481257959192,62.79321607722149,63.12187800572048,63.450795114815875,63.7799641517111,64.10938186111811,64.43904498528971,64.76895026405161,65.09909443483484,65.42947423270786,65.76008639040896,66.09092763837849,66.42199470479127,66.7532843155889,67.08479319451213,67.41651806313328,67.74845564088868,68.08060264511106,68.41295579106209,68.74551179196476,69.07826735903602,69.41121920151915,69.74436402671641,70.07769854002161,70.41121944495262,70.744923443184,71.07880723457967,71.41286751722544,71.74710098746175,72.08150433991635,72.41607426753691,72.7508074616238,73.08570061186276,73.42075040635767,73.75595353166327,74.09130667281799,74.42680651337665,74.76244973544331,75.0982330197041,75.43415304545998,75.77020649065963,76.1063900319323,76.44270034462065,76.77913410281364,77.11568797937947,77.4523586459984,77.78914277319569,78.12603703037462,78.46303808584923,78.80014260687751,79.13734725969415,79.47464870954364,79.81204362071318,80.1495286565657,80.48710047957287,80.82475575134805,81.16249113267938,81.50030328356272,81.83818886323476,82.17614453020602,82.51416694229387,82.85225275665563,83.19039862982162,83.52860121772818,83.86685717575082,84.20516315873722,84.54351582104034,84.88191181655151,85.22034779873356,85.5588204206538,85.89732633501728,86.23586219419973,86.5744246502808,86.91301035507709,87.25161596017527,87.59023811696524,87.9288734766732,88.26751869039475,88.60617040912808,88.94482528380706,89.28347996533428,89.62213110461433,89.96077535258674,90.29940936025929,90.63802977874093,90.97663325927508,91.3152164532726,91.65377601234505,91.99230858833765,92.33081083336248,92.66927939983164,93.00771094049023,93.3461021084495,93.68444955721999,94.02274994074465,94.36099991343177,94.69919613018826,95.03733524645257,95.37541391822793,95.71342880211527,96.05137655534635,96.38925383581679,96.72705730211925,97.06478361357622,97.40242943027333,97.73999141309218,98.07746622374344,98.41485052479993,98.75214097972949,99.08933425292807,99.42642700975264,99.76341591655434,100.10029764071119,100.43706885066126,100.7737262159355,101.11026640719076,101.44668609624267,101.7829819560985,102.11915066099013,102.45518888640702,102.79109330912888,103.1268606072587,103.46248746025555,103.79797054896743,104.13330655566408,104.46849216406974,104.80352405939608,105.13839892837488,105.47311345929079,105.80766434201414,106.14204826803359,106.47626193048896,106.8103020242039,107.14416524571848,107.47784829332197,107.81134786708542,108.1446606688944,108.47778340248149,108.81071277345895,109.14344548935122,109.47597825962768,109.80830779573495,110.14043081112952,110.47234402131025,110.80404414385093,111.13552789843257,111.46679200687595,111.79783319317403,112.12864818352438,112.45923370636145,112.78958649238899,113.11970327461245,113.44958078837115,113.77921577137067,114.10860496371507,114.4377451079391,114.76663294904048,115.0952652345121,115.42363871437408,115.75175014120599,116.07959627017894,116.40717385908775,116.73447966838287,117.0615104612025,117.38826300340457,117.71473406359885,118.0409204131787,118.36681882635312,118.69242608017862,119.01773895459117,119.3427542324379,119.66746869950904,119.99187914456965,120.3159823593914,120.63977513878429,120.96325428062829,121.2864165859051,121.60925885872979,121.93177790638228,122.25397053933906,122.57583357130463,122.89736381924305,123.21855810340949,123.5394132473815,123.85992607809061,124.18009342585353,124.4999121244037,124.81937901092246,125.13849092607035,125.45724471401832,125.77563722247908,126.09366530273816,126.41132580968502,126.72861560184421,127.04553154140652,127.36207049425981,127.67822933002019,127.99400492206283,128.30939414755306,128.62439388747708,128.93900102667288,129.25321245386098,129.56702506167542,129.88043574669422,130.19344140947013,130.5060389545614,130.81822529056237,131.1299973301339,131.4413519900341,131.75228619114856,132.0627968585211,132.37288092138405,132.6825353131885,132.99175697163483,133.30054283870282,133.60888986068204,133.9167949882019,134.224255176262,134.531267384262,134.83782857603194,135.14393571986207,135.44958578853291,135.75477575934516,136.05950261414975,136.3637633393774,136.66755492606865,136.97087436990353,137.27371867123128,137.57608483510006,137.87796987128644,138.17937079432514,138.48028462353844,138.78070838306573,139.08063910189287,139.38007381388155,139.67900955779874,139.97744337734594,140.27537232118834,140.57279344298402,140.86970380141315,141.16610046020713,141.46198048817743,141.75734095924474,142.05217895246784,142.3464915520726,142.6402758474806,142.9335289333381,143.22624790954467,143.51842988128203,143.81007195904238,144.1011712586573,144.39172490132603,144.68173001364408,144.97118372763165,145.26008318076185,145.54842551598912,145.83620788177757,146.12342743212892,146.41008132661094,146.69616673038536,146.98168081423586,147.26662075459632,147.55098373357836,147.83476693899956,148.11796756441106,148.4005828091254,148.68260987824414,148.96404598268555,149.24488833921225,149.52513417045867,149.8047807049585,150.08382517717206,150.36226482751385,150.64009690237964,150.91731865417367,151.19392734133606,151.46992022836972,151.74529458586744,152.02004769053892,152.29417682523768,152.56767927898795,152.84055234701145,153.1127933307542,153.38439953791305,153.65536828246258,153.92569688468132,154.19538267117855,154.46442297492064,154.73281513525728,155.00055649794803,155.26764441518844,155.5340762456362,155.7998493544373,156.06496111325217,156.32940890028158,156.59319010029262,156.85630210464444,157.11874231131418,157.38050812492273,157.64159695676025,157.90200622481188,158.16173335378323,158.42077577512595,158.67913092706294,158.93679625461377,159.1937692096201,159.45004725077058,159.70562784362636,159.9605084606457,160.21468658120946,160.46815969164552,160.7209252852541,160.97298086233224,161.22432393019866,161.47495200321836,161.72486260282724,161.9740532575566,162.22252150305746,162.4702648821252,162.71728094472365,162.96356724800935,163.2091213563557,163.4539408413771,163.698023281953,163.9413662642517,164.18396738175437,164.42582423527875,164.66693443300295,164.90729559048904,165.1469053307066,165.3857612840564,165.62386108839368,165.86120238905147,166.09778283886405,166.33360009819003,166.5686518349355,166.8029357245772,167.03644945018533,167.26919070244656,167.501157179687,167.73234658789468,167.96275664074244,168.1923850596105,168.42122957360897,168.64928791960028,168.87655784222167,169.10303709390737,169.3287234349109,169.5536146333272,169.7777084651147,170.00100271411725,170.22349517208627,170.44518363870225,170.66606592159678,170.88613983637413,171.10540320663273,171.32385386398698,171.54148964808851,171.75830840664747,171.97430799545396,172.18948627839922,172.40384112749666,172.617370422903,172.83007205293927,173.04194391411147,173.25298391113165,173.4631899569385,173.67255997271792,173.88109188792367,174.0887836402979,174.29563317589142,174.5016384490841,174.70679742260504,174.91110806755276,175.11456836341523,175.31717629808992,175.51892986790358,175.7198270776322,175.91986594052062,176.11904447830221,176.31736072121856,176.51481270803865,176.71139848607865,176.9071161112209,177.10196364793325,177.29593916928832,177.48904075698238,177.68126650135437,177.87261450140485,178.0630828648147,178.25266970796395,178.44137315595034,178.62919134260784,178.8161224105251,179.00216451106394,179.18731580437748,179.37157445942836,179.55493865400706,179.73740657474957,179.91897641715553,180.09964638560612,180.27941469338168,180.45827956267948,180.63623922463125,180.8132919193207,180.9894358958009,181.16466941211155,181.33899073529636,181.5123981414201,181.68488991558553,181.8564643519506,182.02711975374507,182.1968544332875,182.36566671200185,182.53355492043403,182.70051739826846,182.8665524943445,183.03165856667283,183.1958339824516,183.35907711808255,183.52138635918718,183.6827601006226,183.84319674649757,184.00269471018802,184.16125241435302,184.3188682909502,184.4755407812513,184.6312683358577,184.78604941471548,184.93988248713083,185.09276603178535,185.24469853675066,185.39567849950373,185.54570442694168,185.69477483539634,185.84288825064914,185.99004320794558,186.13623825200978,186.28147193705874,186.42574282681687,186.56904949452996,186.71139052297943,186.85276450449635,186.99317004097517,187.13260574388784,187.27107023429733,187.40856214287132,187.54508010989576,187.6806227852884,187.8151888286118,187.94877690908714,188.08138570560692,188.2130139067482,188.34366021078546,188.4733233257038,188.60200196921124,188.72969486875178,188.85640076151776,188.9821183944626,189.10684652431274,189.23058391758056,189.35332935057602,189.475081609419,189.59583949005136,189.71560179824874,189.83436734963243,189.95213496968097,190.06890349374203,190.18467176704354,190.29943864470545,190.41320299175095,190.52596368311757,190.63771960366842,190.7484696482033,190.85821272146939,190.96694773817234,191.07467362298684,191.18138931056725,191.2870937455583,191.39178588260535,191.49546468636473,191.59812913151416,191.69977820276267,191.8004108948608,191.90002621261044,191.9986231708748,192.0962007945879,192.19275811876457,192.28829418850967,192.38280805902772,192.47629879563215,192.56876547375464,192.66020717895412,192.75062300692605,192.840012063511,192.92837346470392,193.0157063366625,193.10200981571603,193.18728304837396,193.27152519133418,193.3547354114915,193.43691288594582,193.51805680201028,193.59816635721933,193.67724075933663,193.75527922636286,193.83228098654354,193.90824527837657,193.98317135061984,194.05705846229858,194.12990588271276,194.2017128914443,194.2724787783641,194.34220284363923,194.41088439773972,194.47852276144545,194.54511726585275,194.61066725238123,194.67517207278007,194.73863108913463,194.80104367387253,194.86240920977008,194.92272708995822,194.98199671792864,195.04021750753964,195.0973888830218,195.15351027898396,195.20858114041852,195.262600922707,195.3155690916257,195.3674851233505,195.41834850446241,195.46815873195254,195.51691531322712,195.56461776611218,195.61126561885862,195.65685841014655,195.70139568909013,195.74487701524197,195.78730195859723,195.82867009959824,195.86898102913847,195.9082343485665,195.94642966969013,195.98356661478013,196.01964481657396,196.05466391827943,196.08862357357827,196.12152344662945,196.15336321207263,196.18414255503123,196.21386117111567,196.24251876642637,196.2701150575565,196.29664977159507,196.32212264612934,196.3465334292476,196.36988187954154,196.39216776610874,196.41339086855493,196.43355097699606,196.45264789206058,196.4706814248912,196.48765139714695,196.50355764100476,196.5183999991612,196.53217832483415,196.54489248176407,196.5565423442154,196.56712779697787,196.5766487353676,196.5851050652281,196.59249670293127,196.5988235753781,196.6040856199996,196.60828278475725,196.61141502814354,196.61348231918242,196.61448463742963,196.6144219729728,196.61329432643166,196.61110170895796,196.60784414223542,196.60352165847942,196.5981343004368,196.5916821213854,196.5841651851334,196.5755835660189,196.5659373489091,196.55522662919938,196.54345151281245,196.53061211619726,196.5167085663279,196.50174100070234,196.48570956734096,196.46861442478513,196.45045574209587,196.43123369885177,196.41094848514757,196.3896003015921,196.36718935930628,196.34371587992118,196.31918009557566,196.29358224891422,196.26692259308447,196.23920139173475,196.21041891901137,196.18057545955605,196.1496713085031,196.11770677147632,196.08468216458616,196.05059781442657,196.01545405807173,195.97925124307267,195.94198972745392,195.90366987970998,195.8642920788015,195.82385671415182,195.7823641856429,195.73981490361138,195.69620928884467,195.65154777257658,195.6058307964832,195.5590588126786,195.51123228371006,195.46235168255387,195.4124174926104,195.36143020769936,195.309390332055,195.25629838032108,195.20215487754572,195.14696035917632,195.09071537105416,195.03342046940904,194.97507622085385,194.91568320237883,194.85524200134603,194.79375321548332,194.73121745287852,194.66763533197366,194.6030074815584,194.5373345407641,194.47061715905755,194.4028559962344,194.3340517224126,194.26420501802593,194.19331657381724,194.12138709083143,194.04841728040884,193.97440786417786,193.8993595740481,193.82327315220294,193.74614935109236,193.66798893342525,193.58879267216224,193.5085613505077,193.42729576190214,193.34499671001447,193.26166500873381,193.17730148216162,193.09190696460357,193.00548230056114,192.91802834472338,192.82954596195842,192.740036027305,192.64949942596365,192.55793705328807,192.46534981477618,192.37173862606133,192.27710441290304,192.18144811117804,192.08477066687072,191.98707303606423,191.88835618493056,191.78862108972123,191.6878687367577,191.58610012242139,191.48331625314398,191.37951814539744,191.27470682568398,191.16888333052583,191.0620487064551,190.9542040100033,190.84535030769104,190.73548867601727,190.62462020144895,190.51274598041,190.3998671192706,190.28598473433624,190.1710999518367,190.05521390791483,189.93832774861542,189.82044262987372,189.70155971750424,189.5816801871889,189.46080522446584,189.33893602471716,189.21607379315753,189.0922197448221,188.9673751045546,188.8415411069949,188.71471899656723,188.58691002746758,188.45811546365147,188.32833657882128,188.1975746564138,188.06583098958748,187.93310688120965,187.79940364384356,187.66472259973554,187.52906508080187,187.39243242861556,187.25482599439306,187.11624713898107,186.97669723284287,186.83617765604487,186.69468979824296,186.55223505866883,186.40881484611594,186.26443057892578,186.11908368497376,185.97277560165514,185.8255077758707,185.67728166401258,185.5280987319498,185.37796045501364,185.22686831798336,185.07482381507123,184.9218284499079,184.76788373552748,184.61299119435256,184.4571523581792,184.30036876816177,184.14264197479764,183.98397353791202,183.82436502664228,183.6638180194227,183.50233410396868,183.33991487726104,183.17656194553035,183.012276924241,182.84706143807506,182.68091712091646,182.51384561583473,182.34584857506866,182.17692766001016,182.00708454118757,181.83632089824943,181.6646384199476,181.4920388041208,181.31852375767753,181.1440949965795,180.96875424582453,180.79250323942938,180.61534372041277,180.43727744077808,180.25830616149594,180.07843165248704,179.8976556926043,179.71598006961563,179.53340658018595,179.3499370298596,179.16557323304247,178.98031701298396,178.79417020175904,178.60713464025014,178.4192121781288,178.2304046738376,178.04071399457155,177.8501420162599]}],                        {\"template\":{\"data\":{\"barpolar\":[{\"marker\":{\"line\":{\"color\":\"#E5ECF6\",\"width\":0.5},\"pattern\":{\"fillmode\":\"overlay\",\"size\":10,\"solidity\":0.2}},\"type\":\"barpolar\"}],\"bar\":[{\"error_x\":{\"color\":\"#2a3f5f\"},\"error_y\":{\"color\":\"#2a3f5f\"},\"marker\":{\"line\":{\"color\":\"#E5ECF6\",\"width\":0.5},\"pattern\":{\"fillmode\":\"overlay\",\"size\":10,\"solidity\":0.2}},\"type\":\"bar\"}],\"carpet\":[{\"aaxis\":{\"endlinecolor\":\"#2a3f5f\",\"gridcolor\":\"white\",\"linecolor\":\"white\",\"minorgridcolor\":\"white\",\"startlinecolor\":\"#2a3f5f\"},\"baxis\":{\"endlinecolor\":\"#2a3f5f\",\"gridcolor\":\"white\",\"linecolor\":\"white\",\"minorgridcolor\":\"white\",\"startlinecolor\":\"#2a3f5f\"},\"type\":\"carpet\"}],\"choropleth\":[{\"colorbar\":{\"outlinewidth\":0,\"ticks\":\"\"},\"type\":\"choropleth\"}],\"contourcarpet\":[{\"colorbar\":{\"outlinewidth\":0,\"ticks\":\"\"},\"type\":\"contourcarpet\"}],\"contour\":[{\"colorbar\":{\"outlinewidth\":0,\"ticks\":\"\"},\"colorscale\":[[0.0,\"#0d0887\"],[0.1111111111111111,\"#46039f\"],[0.2222222222222222,\"#7201a8\"],[0.3333333333333333,\"#9c179e\"],[0.4444444444444444,\"#bd3786\"],[0.5555555555555556,\"#d8576b\"],[0.6666666666666666,\"#ed7953\"],[0.7777777777777778,\"#fb9f3a\"],[0.8888888888888888,\"#fdca26\"],[1.0,\"#f0f921\"]],\"type\":\"contour\"}],\"heatmapgl\":[{\"colorbar\":{\"outlinewidth\":0,\"ticks\":\"\"},\"colorscale\":[[0.0,\"#0d0887\"],[0.1111111111111111,\"#46039f\"],[0.2222222222222222,\"#7201a8\"],[0.3333333333333333,\"#9c179e\"],[0.4444444444444444,\"#bd3786\"],[0.5555555555555556,\"#d8576b\"],[0.6666666666666666,\"#ed7953\"],[0.7777777777777778,\"#fb9f3a\"],[0.8888888888888888,\"#fdca26\"],[1.0,\"#f0f921\"]],\"type\":\"heatmapgl\"}],\"heatmap\":[{\"colorbar\":{\"outlinewidth\":0,\"ticks\":\"\"},\"colorscale\":[[0.0,\"#0d0887\"],[0.1111111111111111,\"#46039f\"],[0.2222222222222222,\"#7201a8\"],[0.3333333333333333,\"#9c179e\"],[0.4444444444444444,\"#bd3786\"],[0.5555555555555556,\"#d8576b\"],[0.6666666666666666,\"#ed7953\"],[0.7777777777777778,\"#fb9f3a\"],[0.8888888888888888,\"#fdca26\"],[1.0,\"#f0f921\"]],\"type\":\"heatmap\"}],\"histogram2dcontour\":[{\"colorbar\":{\"outlinewidth\":0,\"ticks\":\"\"},\"colorscale\":[[0.0,\"#0d0887\"],[0.1111111111111111,\"#46039f\"],[0.2222222222222222,\"#7201a8\"],[0.3333333333333333,\"#9c179e\"],[0.4444444444444444,\"#bd3786\"],[0.5555555555555556,\"#d8576b\"],[0.6666666666666666,\"#ed7953\"],[0.7777777777777778,\"#fb9f3a\"],[0.8888888888888888,\"#fdca26\"],[1.0,\"#f0f921\"]],\"type\":\"histogram2dcontour\"}],\"histogram2d\":[{\"colorbar\":{\"outlinewidth\":0,\"ticks\":\"\"},\"colorscale\":[[0.0,\"#0d0887\"],[0.1111111111111111,\"#46039f\"],[0.2222222222222222,\"#7201a8\"],[0.3333333333333333,\"#9c179e\"],[0.4444444444444444,\"#bd3786\"],[0.5555555555555556,\"#d8576b\"],[0.6666666666666666,\"#ed7953\"],[0.7777777777777778,\"#fb9f3a\"],[0.8888888888888888,\"#fdca26\"],[1.0,\"#f0f921\"]],\"type\":\"histogram2d\"}],\"histogram\":[{\"marker\":{\"pattern\":{\"fillmode\":\"overlay\",\"size\":10,\"solidity\":0.2}},\"type\":\"histogram\"}],\"mesh3d\":[{\"colorbar\":{\"outlinewidth\":0,\"ticks\":\"\"},\"type\":\"mesh3d\"}],\"parcoords\":[{\"line\":{\"colorbar\":{\"outlinewidth\":0,\"ticks\":\"\"}},\"type\":\"parcoords\"}],\"pie\":[{\"automargin\":true,\"type\":\"pie\"}],\"scatter3d\":[{\"line\":{\"colorbar\":{\"outlinewidth\":0,\"ticks\":\"\"}},\"marker\":{\"colorbar\":{\"outlinewidth\":0,\"ticks\":\"\"}},\"type\":\"scatter3d\"}],\"scattercarpet\":[{\"marker\":{\"colorbar\":{\"outlinewidth\":0,\"ticks\":\"\"}},\"type\":\"scattercarpet\"}],\"scattergeo\":[{\"marker\":{\"colorbar\":{\"outlinewidth\":0,\"ticks\":\"\"}},\"type\":\"scattergeo\"}],\"scattergl\":[{\"marker\":{\"colorbar\":{\"outlinewidth\":0,\"ticks\":\"\"}},\"type\":\"scattergl\"}],\"scattermapbox\":[{\"marker\":{\"colorbar\":{\"outlinewidth\":0,\"ticks\":\"\"}},\"type\":\"scattermapbox\"}],\"scatterpolargl\":[{\"marker\":{\"colorbar\":{\"outlinewidth\":0,\"ticks\":\"\"}},\"type\":\"scatterpolargl\"}],\"scatterpolar\":[{\"marker\":{\"colorbar\":{\"outlinewidth\":0,\"ticks\":\"\"}},\"type\":\"scatterpolar\"}],\"scatter\":[{\"fillpattern\":{\"fillmode\":\"overlay\",\"size\":10,\"solidity\":0.2},\"type\":\"scatter\"}],\"scatterternary\":[{\"marker\":{\"colorbar\":{\"outlinewidth\":0,\"ticks\":\"\"}},\"type\":\"scatterternary\"}],\"surface\":[{\"colorbar\":{\"outlinewidth\":0,\"ticks\":\"\"},\"colorscale\":[[0.0,\"#0d0887\"],[0.1111111111111111,\"#46039f\"],[0.2222222222222222,\"#7201a8\"],[0.3333333333333333,\"#9c179e\"],[0.4444444444444444,\"#bd3786\"],[0.5555555555555556,\"#d8576b\"],[0.6666666666666666,\"#ed7953\"],[0.7777777777777778,\"#fb9f3a\"],[0.8888888888888888,\"#fdca26\"],[1.0,\"#f0f921\"]],\"type\":\"surface\"}],\"table\":[{\"cells\":{\"fill\":{\"color\":\"#EBF0F8\"},\"line\":{\"color\":\"white\"}},\"header\":{\"fill\":{\"color\":\"#C8D4E3\"},\"line\":{\"color\":\"white\"}},\"type\":\"table\"}]},\"layout\":{\"annotationdefaults\":{\"arrowcolor\":\"#2a3f5f\",\"arrowhead\":0,\"arrowwidth\":1},\"autotypenumbers\":\"strict\",\"coloraxis\":{\"colorbar\":{\"outlinewidth\":0,\"ticks\":\"\"}},\"colorscale\":{\"diverging\":[[0,\"#8e0152\"],[0.1,\"#c51b7d\"],[0.2,\"#de77ae\"],[0.3,\"#f1b6da\"],[0.4,\"#fde0ef\"],[0.5,\"#f7f7f7\"],[0.6,\"#e6f5d0\"],[0.7,\"#b8e186\"],[0.8,\"#7fbc41\"],[0.9,\"#4d9221\"],[1,\"#276419\"]],\"sequential\":[[0.0,\"#0d0887\"],[0.1111111111111111,\"#46039f\"],[0.2222222222222222,\"#7201a8\"],[0.3333333333333333,\"#9c179e\"],[0.4444444444444444,\"#bd3786\"],[0.5555555555555556,\"#d8576b\"],[0.6666666666666666,\"#ed7953\"],[0.7777777777777778,\"#fb9f3a\"],[0.8888888888888888,\"#fdca26\"],[1.0,\"#f0f921\"]],\"sequentialminus\":[[0.0,\"#0d0887\"],[0.1111111111111111,\"#46039f\"],[0.2222222222222222,\"#7201a8\"],[0.3333333333333333,\"#9c179e\"],[0.4444444444444444,\"#bd3786\"],[0.5555555555555556,\"#d8576b\"],[0.6666666666666666,\"#ed7953\"],[0.7777777777777778,\"#fb9f3a\"],[0.8888888888888888,\"#fdca26\"],[1.0,\"#f0f921\"]]},\"colorway\":[\"#636efa\",\"#EF553B\",\"#00cc96\",\"#ab63fa\",\"#FFA15A\",\"#19d3f3\",\"#FF6692\",\"#B6E880\",\"#FF97FF\",\"#FECB52\"],\"font\":{\"color\":\"#2a3f5f\"},\"geo\":{\"bgcolor\":\"white\",\"lakecolor\":\"white\",\"landcolor\":\"#E5ECF6\",\"showlakes\":true,\"showland\":true,\"subunitcolor\":\"white\"},\"hoverlabel\":{\"align\":\"left\"},\"hovermode\":\"closest\",\"mapbox\":{\"style\":\"light\"},\"paper_bgcolor\":\"white\",\"plot_bgcolor\":\"#E5ECF6\",\"polar\":{\"angularaxis\":{\"gridcolor\":\"white\",\"linecolor\":\"white\",\"ticks\":\"\"},\"bgcolor\":\"#E5ECF6\",\"radialaxis\":{\"gridcolor\":\"white\",\"linecolor\":\"white\",\"ticks\":\"\"}},\"scene\":{\"xaxis\":{\"backgroundcolor\":\"#E5ECF6\",\"gridcolor\":\"white\",\"gridwidth\":2,\"linecolor\":\"white\",\"showbackground\":true,\"ticks\":\"\",\"zerolinecolor\":\"white\"},\"yaxis\":{\"backgroundcolor\":\"#E5ECF6\",\"gridcolor\":\"white\",\"gridwidth\":2,\"linecolor\":\"white\",\"showbackground\":true,\"ticks\":\"\",\"zerolinecolor\":\"white\"},\"zaxis\":{\"backgroundcolor\":\"#E5ECF6\",\"gridcolor\":\"white\",\"gridwidth\":2,\"linecolor\":\"white\",\"showbackground\":true,\"ticks\":\"\",\"zerolinecolor\":\"white\"}},\"shapedefaults\":{\"line\":{\"color\":\"#2a3f5f\"}},\"ternary\":{\"aaxis\":{\"gridcolor\":\"white\",\"linecolor\":\"white\",\"ticks\":\"\"},\"baxis\":{\"gridcolor\":\"white\",\"linecolor\":\"white\",\"ticks\":\"\"},\"bgcolor\":\"#E5ECF6\",\"caxis\":{\"gridcolor\":\"white\",\"linecolor\":\"white\",\"ticks\":\"\"}},\"title\":{\"x\":0.05},\"xaxis\":{\"automargin\":true,\"gridcolor\":\"white\",\"linecolor\":\"white\",\"ticks\":\"\",\"title\":{\"standoff\":15},\"zerolinecolor\":\"white\",\"zerolinewidth\":2},\"yaxis\":{\"automargin\":true,\"gridcolor\":\"white\",\"linecolor\":\"white\",\"ticks\":\"\",\"title\":{\"standoff\":15},\"zerolinecolor\":\"white\",\"zerolinewidth\":2}}},\"xaxis\":{\"range\":[-60,60],\"title\":{\"text\":\"X\"}},\"yaxis\":{\"range\":[-60,60],\"title\":{\"text\":\"Y\"}},\"width\":500,\"height\":500,\"showlegend\":false,\"title\":{\"text\":\"Track in the GlueX Detector\"},\"shapes\":[{\"line\":{\"color\":\"black\"},\"type\":\"circle\",\"x0\":-10.5,\"x1\":10.5,\"xref\":\"x\",\"y0\":-10.5,\"y1\":10.5,\"yref\":\"y\"},{\"line\":{\"color\":\"black\"},\"type\":\"circle\",\"x0\":-55,\"x1\":55,\"xref\":\"x\",\"y0\":-55,\"y1\":55,\"yref\":\"y\"}]},                        {\"responsive\": true}                    ).then(function(){\n                            \nvar gd = document.getElementById('47d98173-0548-4ca5-a6e8-d961096e1ccb');\nvar x = new MutationObserver(function (mutations, observer) {{\n        var display = window.getComputedStyle(gd).display;\n        if (!display || display === 'none') {{\n            console.log([gd, 'removed!']);\n            Plotly.purge(gd);\n            observer.disconnect();\n        }}\n}});\n\n// Listen for the removal of the full notebook cells\nvar notebookContainer = gd.closest('#notebook-container');\nif (notebookContainer) {{\n    x.observe(notebookContainer, {childList: true});\n}}\n\n// Listen for the clearing of the current output cell\nvar outputEl = gd.closest('.output');\nif (outputEl) {{\n    x.observe(outputEl, {childList: true});\n}}\n\n                        })                };                            </script>        </div>\n</body>\n</html>"
                },
                "metadata": {}
              }
            ]
          }
        },
        "649839500ed94c2285b6b551e97dc959": {
          "model_module": "@jupyter-widgets/base",
          "model_name": "LayoutModel",
          "model_module_version": "1.2.0",
          "state": {
            "_model_module": "@jupyter-widgets/base",
            "_model_module_version": "1.2.0",
            "_model_name": "LayoutModel",
            "_view_count": null,
            "_view_module": "@jupyter-widgets/base",
            "_view_module_version": "1.2.0",
            "_view_name": "LayoutView",
            "align_content": null,
            "align_items": null,
            "align_self": null,
            "border": null,
            "bottom": null,
            "display": null,
            "flex": null,
            "flex_flow": null,
            "grid_area": null,
            "grid_auto_columns": null,
            "grid_auto_flow": null,
            "grid_auto_rows": null,
            "grid_column": null,
            "grid_gap": null,
            "grid_row": null,
            "grid_template_areas": null,
            "grid_template_columns": null,
            "grid_template_rows": null,
            "height": null,
            "justify_content": null,
            "justify_items": null,
            "left": null,
            "margin": null,
            "max_height": null,
            "max_width": null,
            "min_height": null,
            "min_width": null,
            "object_fit": null,
            "object_position": null,
            "order": null,
            "overflow": null,
            "overflow_x": null,
            "overflow_y": null,
            "padding": null,
            "right": null,
            "top": null,
            "visibility": null,
            "width": null
          }
        },
        "ed0d0afddf04451a991346a52e711d43": {
          "model_module": "@jupyter-widgets/base",
          "model_name": "LayoutModel",
          "model_module_version": "1.2.0",
          "state": {
            "_model_module": "@jupyter-widgets/base",
            "_model_module_version": "1.2.0",
            "_model_name": "LayoutModel",
            "_view_count": null,
            "_view_module": "@jupyter-widgets/base",
            "_view_module_version": "1.2.0",
            "_view_name": "LayoutView",
            "align_content": null,
            "align_items": null,
            "align_self": null,
            "border": null,
            "bottom": null,
            "display": null,
            "flex": null,
            "flex_flow": null,
            "grid_area": null,
            "grid_auto_columns": null,
            "grid_auto_flow": null,
            "grid_auto_rows": null,
            "grid_column": null,
            "grid_gap": null,
            "grid_row": null,
            "grid_template_areas": null,
            "grid_template_columns": null,
            "grid_template_rows": null,
            "height": null,
            "justify_content": null,
            "justify_items": null,
            "left": null,
            "margin": null,
            "max_height": null,
            "max_width": null,
            "min_height": null,
            "min_width": null,
            "object_fit": null,
            "object_position": null,
            "order": null,
            "overflow": null,
            "overflow_x": null,
            "overflow_y": null,
            "padding": null,
            "right": null,
            "top": null,
            "visibility": null,
            "width": null
          }
        },
        "654ffe6a9fe144c8b218e424d180d89b": {
          "model_module": "@jupyter-widgets/controls",
          "model_name": "SliderStyleModel",
          "model_module_version": "1.5.0",
          "state": {
            "_model_module": "@jupyter-widgets/controls",
            "_model_module_version": "1.5.0",
            "_model_name": "SliderStyleModel",
            "_view_count": null,
            "_view_module": "@jupyter-widgets/base",
            "_view_module_version": "1.2.0",
            "_view_name": "StyleView",
            "description_width": "",
            "handle_color": null
          }
        },
        "2bd8cc7d950f47a0978e543a25b2c494": {
          "model_module": "@jupyter-widgets/base",
          "model_name": "LayoutModel",
          "model_module_version": "1.2.0",
          "state": {
            "_model_module": "@jupyter-widgets/base",
            "_model_module_version": "1.2.0",
            "_model_name": "LayoutModel",
            "_view_count": null,
            "_view_module": "@jupyter-widgets/base",
            "_view_module_version": "1.2.0",
            "_view_name": "LayoutView",
            "align_content": null,
            "align_items": null,
            "align_self": null,
            "border": null,
            "bottom": null,
            "display": null,
            "flex": null,
            "flex_flow": null,
            "grid_area": null,
            "grid_auto_columns": null,
            "grid_auto_flow": null,
            "grid_auto_rows": null,
            "grid_column": null,
            "grid_gap": null,
            "grid_row": null,
            "grid_template_areas": null,
            "grid_template_columns": null,
            "grid_template_rows": null,
            "height": null,
            "justify_content": null,
            "justify_items": null,
            "left": null,
            "margin": null,
            "max_height": null,
            "max_width": null,
            "min_height": null,
            "min_width": null,
            "object_fit": null,
            "object_position": null,
            "order": null,
            "overflow": null,
            "overflow_x": null,
            "overflow_y": null,
            "padding": null,
            "right": null,
            "top": null,
            "visibility": null,
            "width": null
          }
        },
        "e818338f73aa46ac8f962094d0da3826": {
          "model_module": "@jupyter-widgets/controls",
          "model_name": "SliderStyleModel",
          "model_module_version": "1.5.0",
          "state": {
            "_model_module": "@jupyter-widgets/controls",
            "_model_module_version": "1.5.0",
            "_model_name": "SliderStyleModel",
            "_view_count": null,
            "_view_module": "@jupyter-widgets/base",
            "_view_module_version": "1.2.0",
            "_view_name": "StyleView",
            "description_width": "",
            "handle_color": null
          }
        },
        "7018e87637444b1184315cd202e08709": {
          "model_module": "@jupyter-widgets/base",
          "model_name": "LayoutModel",
          "model_module_version": "1.2.0",
          "state": {
            "_model_module": "@jupyter-widgets/base",
            "_model_module_version": "1.2.0",
            "_model_name": "LayoutModel",
            "_view_count": null,
            "_view_module": "@jupyter-widgets/base",
            "_view_module_version": "1.2.0",
            "_view_name": "LayoutView",
            "align_content": null,
            "align_items": null,
            "align_self": null,
            "border": null,
            "bottom": null,
            "display": null,
            "flex": null,
            "flex_flow": null,
            "grid_area": null,
            "grid_auto_columns": null,
            "grid_auto_flow": null,
            "grid_auto_rows": null,
            "grid_column": null,
            "grid_gap": null,
            "grid_row": null,
            "grid_template_areas": null,
            "grid_template_columns": null,
            "grid_template_rows": null,
            "height": null,
            "justify_content": null,
            "justify_items": null,
            "left": null,
            "margin": null,
            "max_height": null,
            "max_width": null,
            "min_height": null,
            "min_width": null,
            "object_fit": null,
            "object_position": null,
            "order": null,
            "overflow": null,
            "overflow_x": null,
            "overflow_y": null,
            "padding": null,
            "right": null,
            "top": null,
            "visibility": null,
            "width": null
          }
        },
        "fdf8b5a0b661404e85c1f3cbc9a3d729": {
          "model_module": "@jupyter-widgets/controls",
          "model_name": "SliderStyleModel",
          "model_module_version": "1.5.0",
          "state": {
            "_model_module": "@jupyter-widgets/controls",
            "_model_module_version": "1.5.0",
            "_model_name": "SliderStyleModel",
            "_view_count": null,
            "_view_module": "@jupyter-widgets/base",
            "_view_module_version": "1.2.0",
            "_view_name": "StyleView",
            "description_width": "",
            "handle_color": null
          }
        },
        "5f9e63fdbfa04724b3df1480017f17b8": {
          "model_module": "@jupyter-widgets/base",
          "model_name": "LayoutModel",
          "model_module_version": "1.2.0",
          "state": {
            "_model_module": "@jupyter-widgets/base",
            "_model_module_version": "1.2.0",
            "_model_name": "LayoutModel",
            "_view_count": null,
            "_view_module": "@jupyter-widgets/base",
            "_view_module_version": "1.2.0",
            "_view_name": "LayoutView",
            "align_content": null,
            "align_items": null,
            "align_self": null,
            "border": null,
            "bottom": null,
            "display": null,
            "flex": null,
            "flex_flow": null,
            "grid_area": null,
            "grid_auto_columns": null,
            "grid_auto_flow": null,
            "grid_auto_rows": null,
            "grid_column": null,
            "grid_gap": null,
            "grid_row": null,
            "grid_template_areas": null,
            "grid_template_columns": null,
            "grid_template_rows": null,
            "height": null,
            "justify_content": null,
            "justify_items": null,
            "left": null,
            "margin": null,
            "max_height": null,
            "max_width": null,
            "min_height": null,
            "min_width": null,
            "object_fit": null,
            "object_position": null,
            "order": null,
            "overflow": null,
            "overflow_x": null,
            "overflow_y": null,
            "padding": null,
            "right": null,
            "top": null,
            "visibility": null,
            "width": null
          }
        },
        "730b01a400fd4186b4abcce6250f3d6b": {
          "model_module": "@jupyter-widgets/controls",
          "model_name": "SliderStyleModel",
          "model_module_version": "1.5.0",
          "state": {
            "_model_module": "@jupyter-widgets/controls",
            "_model_module_version": "1.5.0",
            "_model_name": "SliderStyleModel",
            "_view_count": null,
            "_view_module": "@jupyter-widgets/base",
            "_view_module_version": "1.2.0",
            "_view_name": "StyleView",
            "description_width": "",
            "handle_color": null
          }
        },
        "795fe4aa3af44172a863549a331e8630": {
          "model_module": "@jupyter-widgets/base",
          "model_name": "LayoutModel",
          "model_module_version": "1.2.0",
          "state": {
            "_model_module": "@jupyter-widgets/base",
            "_model_module_version": "1.2.0",
            "_model_name": "LayoutModel",
            "_view_count": null,
            "_view_module": "@jupyter-widgets/base",
            "_view_module_version": "1.2.0",
            "_view_name": "LayoutView",
            "align_content": null,
            "align_items": null,
            "align_self": null,
            "border": null,
            "bottom": null,
            "display": null,
            "flex": null,
            "flex_flow": null,
            "grid_area": null,
            "grid_auto_columns": null,
            "grid_auto_flow": null,
            "grid_auto_rows": null,
            "grid_column": null,
            "grid_gap": null,
            "grid_row": null,
            "grid_template_areas": null,
            "grid_template_columns": null,
            "grid_template_rows": null,
            "height": null,
            "justify_content": null,
            "justify_items": null,
            "left": null,
            "margin": null,
            "max_height": null,
            "max_width": null,
            "min_height": null,
            "min_width": null,
            "object_fit": null,
            "object_position": null,
            "order": null,
            "overflow": null,
            "overflow_x": null,
            "overflow_y": null,
            "padding": null,
            "right": null,
            "top": null,
            "visibility": null,
            "width": null
          }
        },
        "23d1795e8113423c8b4686bfaa1b5c47": {
          "model_module": "@jupyter-widgets/controls",
          "model_name": "VBoxModel",
          "model_module_version": "1.5.0",
          "state": {
            "_dom_classes": [
              "widget-interact"
            ],
            "_model_module": "@jupyter-widgets/controls",
            "_model_module_version": "1.5.0",
            "_model_name": "VBoxModel",
            "_view_count": null,
            "_view_module": "@jupyter-widgets/controls",
            "_view_module_version": "1.5.0",
            "_view_name": "VBoxView",
            "box_style": "",
            "children": [
              "IPY_MODEL_b5f1174fe91f46b9a209c484e08bb8e9",
              "IPY_MODEL_d5227c8b52164f37825e700415ed870c"
            ],
            "layout": "IPY_MODEL_f26ebe9024e947649b5bd76b80f9ffcf"
          }
        },
        "b5f1174fe91f46b9a209c484e08bb8e9": {
          "model_module": "@jupyter-widgets/controls",
          "model_name": "FloatSliderModel",
          "model_module_version": "1.5.0",
          "state": {
            "_dom_classes": [],
            "_model_module": "@jupyter-widgets/controls",
            "_model_module_version": "1.5.0",
            "_model_name": "FloatSliderModel",
            "_view_count": null,
            "_view_module": "@jupyter-widgets/controls",
            "_view_module_version": "1.5.0",
            "_view_name": "FloatSliderView",
            "continuous_update": true,
            "description": "z0",
            "description_tooltip": null,
            "disabled": false,
            "layout": "IPY_MODEL_13efe35f93404e4fbdbd5c298181f4ce",
            "max": 150,
            "min": 0,
            "orientation": "horizontal",
            "readout": true,
            "readout_format": ".2f",
            "step": 0.1,
            "style": "IPY_MODEL_481de4dd7904484c94a6020cd1a873d2",
            "value": 0
          }
        },
        "d5227c8b52164f37825e700415ed870c": {
          "model_module": "@jupyter-widgets/output",
          "model_name": "OutputModel",
          "model_module_version": "1.0.0",
          "state": {
            "_dom_classes": [],
            "_model_module": "@jupyter-widgets/output",
            "_model_module_version": "1.0.0",
            "_model_name": "OutputModel",
            "_view_count": null,
            "_view_module": "@jupyter-widgets/output",
            "_view_module_version": "1.0.0",
            "_view_name": "OutputView",
            "layout": "IPY_MODEL_b2c7f9ad17834cb9893fb3aa268b40d7",
            "msg_id": "",
            "outputs": [
              {
                "output_type": "display_data",
                "data": {
                  "text/html": "<html>\n<head><meta charset=\"utf-8\" /></head>\n<body>\n    <div>            <script src=\"https://cdnjs.cloudflare.com/ajax/libs/mathjax/2.7.5/MathJax.js?config=TeX-AMS-MML_SVG\"></script><script type=\"text/javascript\">if (window.MathJax && window.MathJax.Hub && window.MathJax.Hub.Config) {window.MathJax.Hub.Config({SVG: {font: \"STIX-Web\"}});}</script>                <script type=\"text/javascript\">window.PlotlyConfig = {MathJaxConfig: 'local'};</script>\n        <script charset=\"utf-8\" src=\"https://cdn.plot.ly/plotly-2.24.1.min.js\"></script>                <div id=\"3e14b82f-eab5-4d72-b150-f0aa6a95844a\" class=\"plotly-graph-div\" style=\"height:500px; width:520px;\"></div>            <script type=\"text/javascript\">                                    window.PLOTLYENV=window.PLOTLYENV || {};                                    if (document.getElementById(\"3e14b82f-eab5-4d72-b150-f0aa6a95844a\")) {                    Plotly.newPlot(                        \"3e14b82f-eab5-4d72-b150-f0aa6a95844a\",                        [{\"customdata\":[[1,1],[2,42],[3,1],[4,54],[6,5],[7,5],[8,6],[9,91],[10,91],[11,105],[12,105],[13,4],[14,5],[15,6],[16,6],[17,2],[18,3],[19,4],[20,4],[21,15],[22,15],[23,16],[24,17],[25,13],[25,14],[26,14],[26,15],[27,16],[28,16]],\"hovertemplate\":\"x=%{x}\\u003cbr\\u003ey=%{y}\\u003cbr\\u003ering=%{customdata[0]}\\u003cbr\\u003ewire=%{customdata[1]}\\u003cextra\\u003e\\u003c\\u002fextra\\u003e\",\"legendgroup\":\"\",\"marker\":{\"color\":\"#636efa\",\"symbol\":\"circle\",\"size\":3},\"mode\":\"markers\",\"name\":\"\",\"orientation\":\"v\",\"showlegend\":false,\"x\":[10.602145437630725,12.07969999982988,13.687023374583951,15.144699999786717,18.69353232818008,20.64561917496614,21.700300522592563,24.69886989042754,26.27895215839055,28.126223294670456,29.644152267015137,30.727102066817306,31.69500183158087,33.10037585522371,34.42547519269902,38.18388871110718,39.53312113008572,40.997571129204225,42.29096350815301,38.4870227605891,39.28644606301323,40.720628533369805,41.49625432556293,46.10630118542729,45.43572017591582,46.684928060898635,45.94842403183104,47.307911045767966,48.534245972891966],\"xaxis\":\"x\",\"y\":[1.5980149340121983,-6.410913725330024e-05,1.5997822300527451,-8.037564268649521e-05,7.642881711673405,7.551223516452351,8.917667402017663,-4.597503618148039,-3.9785329259647346,-3.1968689309212337,-2.48214172559641,6.367363864692493,8.276096192413751,9.491371593870046,9.87133737630645,2.495501168289561,3.4393148167525673,4.956826582501442,5.96846532640303,21.9812093409132,23.41103191784224,24.154884617204473,25.593399731769978,20.29333366129542,21.75329244472835,22.351376602766987,23.828740484571394,24.68971433807417,25.329731163255953],\"yaxis\":\"y\",\"type\":\"scatter\",\"uid\":\"b4832558-3461-4623-ad44-04ffbe27c2ec\"}],                        {\"legend\":{\"tracegroupgap\":0},\"margin\":{\"t\":60},\"template\":{\"data\":{\"barpolar\":[{\"marker\":{\"line\":{\"color\":\"#E5ECF6\",\"width\":0.5},\"pattern\":{\"fillmode\":\"overlay\",\"size\":10,\"solidity\":0.2}},\"type\":\"barpolar\"}],\"bar\":[{\"error_x\":{\"color\":\"#2a3f5f\"},\"error_y\":{\"color\":\"#2a3f5f\"},\"marker\":{\"line\":{\"color\":\"#E5ECF6\",\"width\":0.5},\"pattern\":{\"fillmode\":\"overlay\",\"size\":10,\"solidity\":0.2}},\"type\":\"bar\"}],\"carpet\":[{\"aaxis\":{\"endlinecolor\":\"#2a3f5f\",\"gridcolor\":\"white\",\"linecolor\":\"white\",\"minorgridcolor\":\"white\",\"startlinecolor\":\"#2a3f5f\"},\"baxis\":{\"endlinecolor\":\"#2a3f5f\",\"gridcolor\":\"white\",\"linecolor\":\"white\",\"minorgridcolor\":\"white\",\"startlinecolor\":\"#2a3f5f\"},\"type\":\"carpet\"}],\"choropleth\":[{\"colorbar\":{\"outlinewidth\":0,\"ticks\":\"\"},\"type\":\"choropleth\"}],\"contourcarpet\":[{\"colorbar\":{\"outlinewidth\":0,\"ticks\":\"\"},\"type\":\"contourcarpet\"}],\"contour\":[{\"colorbar\":{\"outlinewidth\":0,\"ticks\":\"\"},\"colorscale\":[[0.0,\"#0d0887\"],[0.1111111111111111,\"#46039f\"],[0.2222222222222222,\"#7201a8\"],[0.3333333333333333,\"#9c179e\"],[0.4444444444444444,\"#bd3786\"],[0.5555555555555556,\"#d8576b\"],[0.6666666666666666,\"#ed7953\"],[0.7777777777777778,\"#fb9f3a\"],[0.8888888888888888,\"#fdca26\"],[1.0,\"#f0f921\"]],\"type\":\"contour\"}],\"heatmapgl\":[{\"colorbar\":{\"outlinewidth\":0,\"ticks\":\"\"},\"colorscale\":[[0.0,\"#0d0887\"],[0.1111111111111111,\"#46039f\"],[0.2222222222222222,\"#7201a8\"],[0.3333333333333333,\"#9c179e\"],[0.4444444444444444,\"#bd3786\"],[0.5555555555555556,\"#d8576b\"],[0.6666666666666666,\"#ed7953\"],[0.7777777777777778,\"#fb9f3a\"],[0.8888888888888888,\"#fdca26\"],[1.0,\"#f0f921\"]],\"type\":\"heatmapgl\"}],\"heatmap\":[{\"colorbar\":{\"outlinewidth\":0,\"ticks\":\"\"},\"colorscale\":[[0.0,\"#0d0887\"],[0.1111111111111111,\"#46039f\"],[0.2222222222222222,\"#7201a8\"],[0.3333333333333333,\"#9c179e\"],[0.4444444444444444,\"#bd3786\"],[0.5555555555555556,\"#d8576b\"],[0.6666666666666666,\"#ed7953\"],[0.7777777777777778,\"#fb9f3a\"],[0.8888888888888888,\"#fdca26\"],[1.0,\"#f0f921\"]],\"type\":\"heatmap\"}],\"histogram2dcontour\":[{\"colorbar\":{\"outlinewidth\":0,\"ticks\":\"\"},\"colorscale\":[[0.0,\"#0d0887\"],[0.1111111111111111,\"#46039f\"],[0.2222222222222222,\"#7201a8\"],[0.3333333333333333,\"#9c179e\"],[0.4444444444444444,\"#bd3786\"],[0.5555555555555556,\"#d8576b\"],[0.6666666666666666,\"#ed7953\"],[0.7777777777777778,\"#fb9f3a\"],[0.8888888888888888,\"#fdca26\"],[1.0,\"#f0f921\"]],\"type\":\"histogram2dcontour\"}],\"histogram2d\":[{\"colorbar\":{\"outlinewidth\":0,\"ticks\":\"\"},\"colorscale\":[[0.0,\"#0d0887\"],[0.1111111111111111,\"#46039f\"],[0.2222222222222222,\"#7201a8\"],[0.3333333333333333,\"#9c179e\"],[0.4444444444444444,\"#bd3786\"],[0.5555555555555556,\"#d8576b\"],[0.6666666666666666,\"#ed7953\"],[0.7777777777777778,\"#fb9f3a\"],[0.8888888888888888,\"#fdca26\"],[1.0,\"#f0f921\"]],\"type\":\"histogram2d\"}],\"histogram\":[{\"marker\":{\"pattern\":{\"fillmode\":\"overlay\",\"size\":10,\"solidity\":0.2}},\"type\":\"histogram\"}],\"mesh3d\":[{\"colorbar\":{\"outlinewidth\":0,\"ticks\":\"\"},\"type\":\"mesh3d\"}],\"parcoords\":[{\"line\":{\"colorbar\":{\"outlinewidth\":0,\"ticks\":\"\"}},\"type\":\"parcoords\"}],\"pie\":[{\"automargin\":true,\"type\":\"pie\"}],\"scatter3d\":[{\"line\":{\"colorbar\":{\"outlinewidth\":0,\"ticks\":\"\"}},\"marker\":{\"colorbar\":{\"outlinewidth\":0,\"ticks\":\"\"}},\"type\":\"scatter3d\"}],\"scattercarpet\":[{\"marker\":{\"colorbar\":{\"outlinewidth\":0,\"ticks\":\"\"}},\"type\":\"scattercarpet\"}],\"scattergeo\":[{\"marker\":{\"colorbar\":{\"outlinewidth\":0,\"ticks\":\"\"}},\"type\":\"scattergeo\"}],\"scattergl\":[{\"marker\":{\"colorbar\":{\"outlinewidth\":0,\"ticks\":\"\"}},\"type\":\"scattergl\"}],\"scattermapbox\":[{\"marker\":{\"colorbar\":{\"outlinewidth\":0,\"ticks\":\"\"}},\"type\":\"scattermapbox\"}],\"scatterpolargl\":[{\"marker\":{\"colorbar\":{\"outlinewidth\":0,\"ticks\":\"\"}},\"type\":\"scatterpolargl\"}],\"scatterpolar\":[{\"marker\":{\"colorbar\":{\"outlinewidth\":0,\"ticks\":\"\"}},\"type\":\"scatterpolar\"}],\"scatter\":[{\"fillpattern\":{\"fillmode\":\"overlay\",\"size\":10,\"solidity\":0.2},\"type\":\"scatter\"}],\"scatterternary\":[{\"marker\":{\"colorbar\":{\"outlinewidth\":0,\"ticks\":\"\"}},\"type\":\"scatterternary\"}],\"surface\":[{\"colorbar\":{\"outlinewidth\":0,\"ticks\":\"\"},\"colorscale\":[[0.0,\"#0d0887\"],[0.1111111111111111,\"#46039f\"],[0.2222222222222222,\"#7201a8\"],[0.3333333333333333,\"#9c179e\"],[0.4444444444444444,\"#bd3786\"],[0.5555555555555556,\"#d8576b\"],[0.6666666666666666,\"#ed7953\"],[0.7777777777777778,\"#fb9f3a\"],[0.8888888888888888,\"#fdca26\"],[1.0,\"#f0f921\"]],\"type\":\"surface\"}],\"table\":[{\"cells\":{\"fill\":{\"color\":\"#EBF0F8\"},\"line\":{\"color\":\"white\"}},\"header\":{\"fill\":{\"color\":\"#C8D4E3\"},\"line\":{\"color\":\"white\"}},\"type\":\"table\"}]},\"layout\":{\"annotationdefaults\":{\"arrowcolor\":\"#2a3f5f\",\"arrowhead\":0,\"arrowwidth\":1},\"autotypenumbers\":\"strict\",\"coloraxis\":{\"colorbar\":{\"outlinewidth\":0,\"ticks\":\"\"}},\"colorscale\":{\"diverging\":[[0,\"#8e0152\"],[0.1,\"#c51b7d\"],[0.2,\"#de77ae\"],[0.3,\"#f1b6da\"],[0.4,\"#fde0ef\"],[0.5,\"#f7f7f7\"],[0.6,\"#e6f5d0\"],[0.7,\"#b8e186\"],[0.8,\"#7fbc41\"],[0.9,\"#4d9221\"],[1,\"#276419\"]],\"sequential\":[[0.0,\"#0d0887\"],[0.1111111111111111,\"#46039f\"],[0.2222222222222222,\"#7201a8\"],[0.3333333333333333,\"#9c179e\"],[0.4444444444444444,\"#bd3786\"],[0.5555555555555556,\"#d8576b\"],[0.6666666666666666,\"#ed7953\"],[0.7777777777777778,\"#fb9f3a\"],[0.8888888888888888,\"#fdca26\"],[1.0,\"#f0f921\"]],\"sequentialminus\":[[0.0,\"#0d0887\"],[0.1111111111111111,\"#46039f\"],[0.2222222222222222,\"#7201a8\"],[0.3333333333333333,\"#9c179e\"],[0.4444444444444444,\"#bd3786\"],[0.5555555555555556,\"#d8576b\"],[0.6666666666666666,\"#ed7953\"],[0.7777777777777778,\"#fb9f3a\"],[0.8888888888888888,\"#fdca26\"],[1.0,\"#f0f921\"]]},\"colorway\":[\"#636efa\",\"#EF553B\",\"#00cc96\",\"#ab63fa\",\"#FFA15A\",\"#19d3f3\",\"#FF6692\",\"#B6E880\",\"#FF97FF\",\"#FECB52\"],\"font\":{\"color\":\"#2a3f5f\"},\"geo\":{\"bgcolor\":\"white\",\"lakecolor\":\"white\",\"landcolor\":\"#E5ECF6\",\"showlakes\":true,\"showland\":true,\"subunitcolor\":\"white\"},\"hoverlabel\":{\"align\":\"left\"},\"hovermode\":\"closest\",\"mapbox\":{\"style\":\"light\"},\"paper_bgcolor\":\"white\",\"plot_bgcolor\":\"#E5ECF6\",\"polar\":{\"angularaxis\":{\"gridcolor\":\"white\",\"linecolor\":\"white\",\"ticks\":\"\"},\"bgcolor\":\"#E5ECF6\",\"radialaxis\":{\"gridcolor\":\"white\",\"linecolor\":\"white\",\"ticks\":\"\"}},\"scene\":{\"xaxis\":{\"backgroundcolor\":\"#E5ECF6\",\"gridcolor\":\"white\",\"gridwidth\":2,\"linecolor\":\"white\",\"showbackground\":true,\"ticks\":\"\",\"zerolinecolor\":\"white\"},\"yaxis\":{\"backgroundcolor\":\"#E5ECF6\",\"gridcolor\":\"white\",\"gridwidth\":2,\"linecolor\":\"white\",\"showbackground\":true,\"ticks\":\"\",\"zerolinecolor\":\"white\"},\"zaxis\":{\"backgroundcolor\":\"#E5ECF6\",\"gridcolor\":\"white\",\"gridwidth\":2,\"linecolor\":\"white\",\"showbackground\":true,\"ticks\":\"\",\"zerolinecolor\":\"white\"}},\"shapedefaults\":{\"line\":{\"color\":\"#2a3f5f\"}},\"ternary\":{\"aaxis\":{\"gridcolor\":\"white\",\"linecolor\":\"white\",\"ticks\":\"\"},\"baxis\":{\"gridcolor\":\"white\",\"linecolor\":\"white\",\"ticks\":\"\"},\"bgcolor\":\"#E5ECF6\",\"caxis\":{\"gridcolor\":\"white\",\"linecolor\":\"white\",\"ticks\":\"\"}},\"title\":{\"x\":0.05},\"xaxis\":{\"automargin\":true,\"gridcolor\":\"white\",\"linecolor\":\"white\",\"ticks\":\"\",\"title\":{\"standoff\":15},\"zerolinecolor\":\"white\",\"zerolinewidth\":2},\"yaxis\":{\"automargin\":true,\"gridcolor\":\"white\",\"linecolor\":\"white\",\"ticks\":\"\",\"title\":{\"standoff\":15},\"zerolinecolor\":\"white\",\"zerolinewidth\":2}}},\"xaxis\":{\"anchor\":\"y\",\"domain\":[0.0,1.0],\"title\":{\"text\":\"x\"},\"range\":[-60,60]},\"yaxis\":{\"anchor\":\"x\",\"domain\":[0.0,1.0],\"title\":{\"text\":\"y\"},\"range\":[-60,60]},\"width\":520,\"height\":500,\"showlegend\":false,\"shapes\":[{\"line\":{\"color\":\"black\"},\"type\":\"circle\",\"x0\":-10.5,\"x1\":10.5,\"xref\":\"x\",\"y0\":-10.5,\"y1\":10.5,\"yref\":\"y\"},{\"line\":{\"color\":\"black\"},\"type\":\"circle\",\"x0\":-55,\"x1\":55,\"xref\":\"x\",\"y0\":-55,\"y1\":55,\"yref\":\"y\"}]},                        {\"responsive\": true}                    ).then(function(){\n                            \nvar gd = document.getElementById('3e14b82f-eab5-4d72-b150-f0aa6a95844a');\nvar x = new MutationObserver(function (mutations, observer) {{\n        var display = window.getComputedStyle(gd).display;\n        if (!display || display === 'none') {{\n            console.log([gd, 'removed!']);\n            Plotly.purge(gd);\n            observer.disconnect();\n        }}\n}});\n\n// Listen for the removal of the full notebook cells\nvar notebookContainer = gd.closest('#notebook-container');\nif (notebookContainer) {{\n    x.observe(notebookContainer, {childList: true});\n}}\n\n// Listen for the clearing of the current output cell\nvar outputEl = gd.closest('.output');\nif (outputEl) {{\n    x.observe(outputEl, {childList: true});\n}}\n\n                        })                };                            </script>        </div>\n</body>\n</html>"
                },
                "metadata": {}
              }
            ]
          }
        },
        "f26ebe9024e947649b5bd76b80f9ffcf": {
          "model_module": "@jupyter-widgets/base",
          "model_name": "LayoutModel",
          "model_module_version": "1.2.0",
          "state": {
            "_model_module": "@jupyter-widgets/base",
            "_model_module_version": "1.2.0",
            "_model_name": "LayoutModel",
            "_view_count": null,
            "_view_module": "@jupyter-widgets/base",
            "_view_module_version": "1.2.0",
            "_view_name": "LayoutView",
            "align_content": null,
            "align_items": null,
            "align_self": null,
            "border": null,
            "bottom": null,
            "display": null,
            "flex": null,
            "flex_flow": null,
            "grid_area": null,
            "grid_auto_columns": null,
            "grid_auto_flow": null,
            "grid_auto_rows": null,
            "grid_column": null,
            "grid_gap": null,
            "grid_row": null,
            "grid_template_areas": null,
            "grid_template_columns": null,
            "grid_template_rows": null,
            "height": null,
            "justify_content": null,
            "justify_items": null,
            "left": null,
            "margin": null,
            "max_height": null,
            "max_width": null,
            "min_height": null,
            "min_width": null,
            "object_fit": null,
            "object_position": null,
            "order": null,
            "overflow": null,
            "overflow_x": null,
            "overflow_y": null,
            "padding": null,
            "right": null,
            "top": null,
            "visibility": null,
            "width": null
          }
        },
        "13efe35f93404e4fbdbd5c298181f4ce": {
          "model_module": "@jupyter-widgets/base",
          "model_name": "LayoutModel",
          "model_module_version": "1.2.0",
          "state": {
            "_model_module": "@jupyter-widgets/base",
            "_model_module_version": "1.2.0",
            "_model_name": "LayoutModel",
            "_view_count": null,
            "_view_module": "@jupyter-widgets/base",
            "_view_module_version": "1.2.0",
            "_view_name": "LayoutView",
            "align_content": null,
            "align_items": null,
            "align_self": null,
            "border": null,
            "bottom": null,
            "display": null,
            "flex": null,
            "flex_flow": null,
            "grid_area": null,
            "grid_auto_columns": null,
            "grid_auto_flow": null,
            "grid_auto_rows": null,
            "grid_column": null,
            "grid_gap": null,
            "grid_row": null,
            "grid_template_areas": null,
            "grid_template_columns": null,
            "grid_template_rows": null,
            "height": null,
            "justify_content": null,
            "justify_items": null,
            "left": null,
            "margin": null,
            "max_height": null,
            "max_width": null,
            "min_height": null,
            "min_width": null,
            "object_fit": null,
            "object_position": null,
            "order": null,
            "overflow": null,
            "overflow_x": null,
            "overflow_y": null,
            "padding": null,
            "right": null,
            "top": null,
            "visibility": null,
            "width": null
          }
        },
        "481de4dd7904484c94a6020cd1a873d2": {
          "model_module": "@jupyter-widgets/controls",
          "model_name": "SliderStyleModel",
          "model_module_version": "1.5.0",
          "state": {
            "_model_module": "@jupyter-widgets/controls",
            "_model_module_version": "1.5.0",
            "_model_name": "SliderStyleModel",
            "_view_count": null,
            "_view_module": "@jupyter-widgets/base",
            "_view_module_version": "1.2.0",
            "_view_name": "StyleView",
            "description_width": "",
            "handle_color": null
          }
        },
        "b2c7f9ad17834cb9893fb3aa268b40d7": {
          "model_module": "@jupyter-widgets/base",
          "model_name": "LayoutModel",
          "model_module_version": "1.2.0",
          "state": {
            "_model_module": "@jupyter-widgets/base",
            "_model_module_version": "1.2.0",
            "_model_name": "LayoutModel",
            "_view_count": null,
            "_view_module": "@jupyter-widgets/base",
            "_view_module_version": "1.2.0",
            "_view_name": "LayoutView",
            "align_content": null,
            "align_items": null,
            "align_self": null,
            "border": null,
            "bottom": null,
            "display": null,
            "flex": null,
            "flex_flow": null,
            "grid_area": null,
            "grid_auto_columns": null,
            "grid_auto_flow": null,
            "grid_auto_rows": null,
            "grid_column": null,
            "grid_gap": null,
            "grid_row": null,
            "grid_template_areas": null,
            "grid_template_columns": null,
            "grid_template_rows": null,
            "height": null,
            "justify_content": null,
            "justify_items": null,
            "left": null,
            "margin": null,
            "max_height": null,
            "max_width": null,
            "min_height": null,
            "min_width": null,
            "object_fit": null,
            "object_position": null,
            "order": null,
            "overflow": null,
            "overflow_x": null,
            "overflow_y": null,
            "padding": null,
            "right": null,
            "top": null,
            "visibility": null,
            "width": null
          }
        },
        "4cb3fcf929be4b84a894a78b7f1c181b": {
          "model_module": "@jupyter-widgets/controls",
          "model_name": "VBoxModel",
          "model_module_version": "1.5.0",
          "state": {
            "_dom_classes": [
              "widget-interact"
            ],
            "_model_module": "@jupyter-widgets/controls",
            "_model_module_version": "1.5.0",
            "_model_name": "VBoxModel",
            "_view_count": null,
            "_view_module": "@jupyter-widgets/controls",
            "_view_module_version": "1.5.0",
            "_view_name": "VBoxView",
            "box_style": "",
            "children": [
              "IPY_MODEL_01be3be032e947ac9446d5831d74ea08",
              "IPY_MODEL_25f4b603d7424b72b07a01762183f0f2"
            ],
            "layout": "IPY_MODEL_b22f0e60949043679645c09f781dff05"
          }
        },
        "01be3be032e947ac9446d5831d74ea08": {
          "model_module": "@jupyter-widgets/controls",
          "model_name": "FloatSliderModel",
          "model_module_version": "1.5.0",
          "state": {
            "_dom_classes": [],
            "_model_module": "@jupyter-widgets/controls",
            "_model_module_version": "1.5.0",
            "_model_name": "FloatSliderModel",
            "_view_count": null,
            "_view_module": "@jupyter-widgets/controls",
            "_view_module_version": "1.5.0",
            "_view_name": "FloatSliderView",
            "continuous_update": true,
            "description": "z0",
            "description_tooltip": null,
            "disabled": false,
            "layout": "IPY_MODEL_b681314059bf4a25acb1bf97e267f9e2",
            "max": 150,
            "min": 0,
            "orientation": "horizontal",
            "readout": true,
            "readout_format": ".2f",
            "step": 0.1,
            "style": "IPY_MODEL_d55d4b49e2a040859334c97c578033c5",
            "value": 0
          }
        },
        "25f4b603d7424b72b07a01762183f0f2": {
          "model_module": "@jupyter-widgets/output",
          "model_name": "OutputModel",
          "model_module_version": "1.0.0",
          "state": {
            "_dom_classes": [],
            "_model_module": "@jupyter-widgets/output",
            "_model_module_version": "1.0.0",
            "_model_name": "OutputModel",
            "_view_count": null,
            "_view_module": "@jupyter-widgets/output",
            "_view_module_version": "1.0.0",
            "_view_name": "OutputView",
            "layout": "IPY_MODEL_511784fcc4a14a2dbbfd9d3e102e0489",
            "msg_id": "",
            "outputs": [
              {
                "output_type": "display_data",
                "data": {
                  "text/html": "<html>\n<head><meta charset=\"utf-8\" /></head>\n<body>\n    <div>            <script src=\"https://cdnjs.cloudflare.com/ajax/libs/mathjax/2.7.5/MathJax.js?config=TeX-AMS-MML_SVG\"></script><script type=\"text/javascript\">if (window.MathJax && window.MathJax.Hub && window.MathJax.Hub.Config) {window.MathJax.Hub.Config({SVG: {font: \"STIX-Web\"}});}</script>                <script type=\"text/javascript\">window.PlotlyConfig = {MathJaxConfig: 'local'};</script>\n        <script charset=\"utf-8\" src=\"https://cdn.plot.ly/plotly-2.24.1.min.js\"></script>                <div id=\"3131f161-b3c8-4528-81f0-da6da566743d\" class=\"plotly-graph-div\" style=\"height:500px; width:520px;\"></div>            <script type=\"text/javascript\">                                    window.PLOTLYENV=window.PLOTLYENV || {};                                    if (document.getElementById(\"3131f161-b3c8-4528-81f0-da6da566743d\")) {                    Plotly.newPlot(                        \"3131f161-b3c8-4528-81f0-da6da566743d\",                        [{\"customdata\":[[1,6],[2,5],[3,7],[4,7],[5,13],[6,14],[7,15],[8,16],[9,7],[10,7],[11,9],[12,9],[13,16],[14,17],[15,19],[16,19],[17,14],[18,15],[19,16],[20,16],[21,32],[22,32],[23,34],[24,35],[25,29],[26,30],[27,32],[28,32]],\"hovertemplate\":\"x=%{x}\\u003cbr\\u003ey=%{y}\\u003cbr\\u003ering=%{customdata[0]}\\u003cbr\\u003ewire=%{customdata[1]}\\u003cextra\\u003e\\u003c\\u002fextra\\u003e\",\"legendgroup\":\"\",\"marker\":{\"color\":\"#636efa\",\"symbol\":\"circle\",\"size\":3},\"mode\":\"markers\",\"name\":\"\",\"orientation\":\"v\",\"showlegend\":false,\"x\":[6.685001662060807,8.855051887246628,9.456553913900702,10.39293131158125,6.814497725642771,6.4655557000248,9.259135965674787,9.038686560978274,22.898337131029372,23.84161260815375,25.113969999798922,25.973668877884574,21.469347553693638,21.162892960747506,21.825545574559825,22.699282359525128,31.972087004873597,32.67933309666148,34.14077258652659,34.8250276154621,18.216424798069646,18.022743211316403,19.04553550363361,18.8386803627142,30.319846839996785,29.819508187410218,30.516526465265127,31.307588286250063],\"xaxis\":\"x\",\"y\":[8.382713903518612,8.216277025768418,10.023347749803422,11.015848439532656,17.389481268006875,19.132652227363103,19.938178675152354,21.650172745644095,10.33621642656896,11.746895718813938,13.061122410893805,14.501907329656179,22.885917932840474,25.003977100092367,26.633936563392425,27.700166501350697,21.02433199262097,22.511280306819717,23.233136152018453,24.725808872162442,40.405276297031136,42.031916288211555,43.34622955232652,44.96738101194521,40.228314502215184,42.30677812775366,43.776272729696544,44.911059090814796],\"yaxis\":\"y\",\"type\":\"scatter\",\"uid\":\"d5f64a7e-1325-4a86-a282-37fc94a93438\"}],                        {\"legend\":{\"tracegroupgap\":0},\"margin\":{\"t\":60},\"template\":{\"data\":{\"barpolar\":[{\"marker\":{\"line\":{\"color\":\"#E5ECF6\",\"width\":0.5},\"pattern\":{\"fillmode\":\"overlay\",\"size\":10,\"solidity\":0.2}},\"type\":\"barpolar\"}],\"bar\":[{\"error_x\":{\"color\":\"#2a3f5f\"},\"error_y\":{\"color\":\"#2a3f5f\"},\"marker\":{\"line\":{\"color\":\"#E5ECF6\",\"width\":0.5},\"pattern\":{\"fillmode\":\"overlay\",\"size\":10,\"solidity\":0.2}},\"type\":\"bar\"}],\"carpet\":[{\"aaxis\":{\"endlinecolor\":\"#2a3f5f\",\"gridcolor\":\"white\",\"linecolor\":\"white\",\"minorgridcolor\":\"white\",\"startlinecolor\":\"#2a3f5f\"},\"baxis\":{\"endlinecolor\":\"#2a3f5f\",\"gridcolor\":\"white\",\"linecolor\":\"white\",\"minorgridcolor\":\"white\",\"startlinecolor\":\"#2a3f5f\"},\"type\":\"carpet\"}],\"choropleth\":[{\"colorbar\":{\"outlinewidth\":0,\"ticks\":\"\"},\"type\":\"choropleth\"}],\"contourcarpet\":[{\"colorbar\":{\"outlinewidth\":0,\"ticks\":\"\"},\"type\":\"contourcarpet\"}],\"contour\":[{\"colorbar\":{\"outlinewidth\":0,\"ticks\":\"\"},\"colorscale\":[[0.0,\"#0d0887\"],[0.1111111111111111,\"#46039f\"],[0.2222222222222222,\"#7201a8\"],[0.3333333333333333,\"#9c179e\"],[0.4444444444444444,\"#bd3786\"],[0.5555555555555556,\"#d8576b\"],[0.6666666666666666,\"#ed7953\"],[0.7777777777777778,\"#fb9f3a\"],[0.8888888888888888,\"#fdca26\"],[1.0,\"#f0f921\"]],\"type\":\"contour\"}],\"heatmapgl\":[{\"colorbar\":{\"outlinewidth\":0,\"ticks\":\"\"},\"colorscale\":[[0.0,\"#0d0887\"],[0.1111111111111111,\"#46039f\"],[0.2222222222222222,\"#7201a8\"],[0.3333333333333333,\"#9c179e\"],[0.4444444444444444,\"#bd3786\"],[0.5555555555555556,\"#d8576b\"],[0.6666666666666666,\"#ed7953\"],[0.7777777777777778,\"#fb9f3a\"],[0.8888888888888888,\"#fdca26\"],[1.0,\"#f0f921\"]],\"type\":\"heatmapgl\"}],\"heatmap\":[{\"colorbar\":{\"outlinewidth\":0,\"ticks\":\"\"},\"colorscale\":[[0.0,\"#0d0887\"],[0.1111111111111111,\"#46039f\"],[0.2222222222222222,\"#7201a8\"],[0.3333333333333333,\"#9c179e\"],[0.4444444444444444,\"#bd3786\"],[0.5555555555555556,\"#d8576b\"],[0.6666666666666666,\"#ed7953\"],[0.7777777777777778,\"#fb9f3a\"],[0.8888888888888888,\"#fdca26\"],[1.0,\"#f0f921\"]],\"type\":\"heatmap\"}],\"histogram2dcontour\":[{\"colorbar\":{\"outlinewidth\":0,\"ticks\":\"\"},\"colorscale\":[[0.0,\"#0d0887\"],[0.1111111111111111,\"#46039f\"],[0.2222222222222222,\"#7201a8\"],[0.3333333333333333,\"#9c179e\"],[0.4444444444444444,\"#bd3786\"],[0.5555555555555556,\"#d8576b\"],[0.6666666666666666,\"#ed7953\"],[0.7777777777777778,\"#fb9f3a\"],[0.8888888888888888,\"#fdca26\"],[1.0,\"#f0f921\"]],\"type\":\"histogram2dcontour\"}],\"histogram2d\":[{\"colorbar\":{\"outlinewidth\":0,\"ticks\":\"\"},\"colorscale\":[[0.0,\"#0d0887\"],[0.1111111111111111,\"#46039f\"],[0.2222222222222222,\"#7201a8\"],[0.3333333333333333,\"#9c179e\"],[0.4444444444444444,\"#bd3786\"],[0.5555555555555556,\"#d8576b\"],[0.6666666666666666,\"#ed7953\"],[0.7777777777777778,\"#fb9f3a\"],[0.8888888888888888,\"#fdca26\"],[1.0,\"#f0f921\"]],\"type\":\"histogram2d\"}],\"histogram\":[{\"marker\":{\"pattern\":{\"fillmode\":\"overlay\",\"size\":10,\"solidity\":0.2}},\"type\":\"histogram\"}],\"mesh3d\":[{\"colorbar\":{\"outlinewidth\":0,\"ticks\":\"\"},\"type\":\"mesh3d\"}],\"parcoords\":[{\"line\":{\"colorbar\":{\"outlinewidth\":0,\"ticks\":\"\"}},\"type\":\"parcoords\"}],\"pie\":[{\"automargin\":true,\"type\":\"pie\"}],\"scatter3d\":[{\"line\":{\"colorbar\":{\"outlinewidth\":0,\"ticks\":\"\"}},\"marker\":{\"colorbar\":{\"outlinewidth\":0,\"ticks\":\"\"}},\"type\":\"scatter3d\"}],\"scattercarpet\":[{\"marker\":{\"colorbar\":{\"outlinewidth\":0,\"ticks\":\"\"}},\"type\":\"scattercarpet\"}],\"scattergeo\":[{\"marker\":{\"colorbar\":{\"outlinewidth\":0,\"ticks\":\"\"}},\"type\":\"scattergeo\"}],\"scattergl\":[{\"marker\":{\"colorbar\":{\"outlinewidth\":0,\"ticks\":\"\"}},\"type\":\"scattergl\"}],\"scattermapbox\":[{\"marker\":{\"colorbar\":{\"outlinewidth\":0,\"ticks\":\"\"}},\"type\":\"scattermapbox\"}],\"scatterpolargl\":[{\"marker\":{\"colorbar\":{\"outlinewidth\":0,\"ticks\":\"\"}},\"type\":\"scatterpolargl\"}],\"scatterpolar\":[{\"marker\":{\"colorbar\":{\"outlinewidth\":0,\"ticks\":\"\"}},\"type\":\"scatterpolar\"}],\"scatter\":[{\"fillpattern\":{\"fillmode\":\"overlay\",\"size\":10,\"solidity\":0.2},\"type\":\"scatter\"}],\"scatterternary\":[{\"marker\":{\"colorbar\":{\"outlinewidth\":0,\"ticks\":\"\"}},\"type\":\"scatterternary\"}],\"surface\":[{\"colorbar\":{\"outlinewidth\":0,\"ticks\":\"\"},\"colorscale\":[[0.0,\"#0d0887\"],[0.1111111111111111,\"#46039f\"],[0.2222222222222222,\"#7201a8\"],[0.3333333333333333,\"#9c179e\"],[0.4444444444444444,\"#bd3786\"],[0.5555555555555556,\"#d8576b\"],[0.6666666666666666,\"#ed7953\"],[0.7777777777777778,\"#fb9f3a\"],[0.8888888888888888,\"#fdca26\"],[1.0,\"#f0f921\"]],\"type\":\"surface\"}],\"table\":[{\"cells\":{\"fill\":{\"color\":\"#EBF0F8\"},\"line\":{\"color\":\"white\"}},\"header\":{\"fill\":{\"color\":\"#C8D4E3\"},\"line\":{\"color\":\"white\"}},\"type\":\"table\"}]},\"layout\":{\"annotationdefaults\":{\"arrowcolor\":\"#2a3f5f\",\"arrowhead\":0,\"arrowwidth\":1},\"autotypenumbers\":\"strict\",\"coloraxis\":{\"colorbar\":{\"outlinewidth\":0,\"ticks\":\"\"}},\"colorscale\":{\"diverging\":[[0,\"#8e0152\"],[0.1,\"#c51b7d\"],[0.2,\"#de77ae\"],[0.3,\"#f1b6da\"],[0.4,\"#fde0ef\"],[0.5,\"#f7f7f7\"],[0.6,\"#e6f5d0\"],[0.7,\"#b8e186\"],[0.8,\"#7fbc41\"],[0.9,\"#4d9221\"],[1,\"#276419\"]],\"sequential\":[[0.0,\"#0d0887\"],[0.1111111111111111,\"#46039f\"],[0.2222222222222222,\"#7201a8\"],[0.3333333333333333,\"#9c179e\"],[0.4444444444444444,\"#bd3786\"],[0.5555555555555556,\"#d8576b\"],[0.6666666666666666,\"#ed7953\"],[0.7777777777777778,\"#fb9f3a\"],[0.8888888888888888,\"#fdca26\"],[1.0,\"#f0f921\"]],\"sequentialminus\":[[0.0,\"#0d0887\"],[0.1111111111111111,\"#46039f\"],[0.2222222222222222,\"#7201a8\"],[0.3333333333333333,\"#9c179e\"],[0.4444444444444444,\"#bd3786\"],[0.5555555555555556,\"#d8576b\"],[0.6666666666666666,\"#ed7953\"],[0.7777777777777778,\"#fb9f3a\"],[0.8888888888888888,\"#fdca26\"],[1.0,\"#f0f921\"]]},\"colorway\":[\"#636efa\",\"#EF553B\",\"#00cc96\",\"#ab63fa\",\"#FFA15A\",\"#19d3f3\",\"#FF6692\",\"#B6E880\",\"#FF97FF\",\"#FECB52\"],\"font\":{\"color\":\"#2a3f5f\"},\"geo\":{\"bgcolor\":\"white\",\"lakecolor\":\"white\",\"landcolor\":\"#E5ECF6\",\"showlakes\":true,\"showland\":true,\"subunitcolor\":\"white\"},\"hoverlabel\":{\"align\":\"left\"},\"hovermode\":\"closest\",\"mapbox\":{\"style\":\"light\"},\"paper_bgcolor\":\"white\",\"plot_bgcolor\":\"#E5ECF6\",\"polar\":{\"angularaxis\":{\"gridcolor\":\"white\",\"linecolor\":\"white\",\"ticks\":\"\"},\"bgcolor\":\"#E5ECF6\",\"radialaxis\":{\"gridcolor\":\"white\",\"linecolor\":\"white\",\"ticks\":\"\"}},\"scene\":{\"xaxis\":{\"backgroundcolor\":\"#E5ECF6\",\"gridcolor\":\"white\",\"gridwidth\":2,\"linecolor\":\"white\",\"showbackground\":true,\"ticks\":\"\",\"zerolinecolor\":\"white\"},\"yaxis\":{\"backgroundcolor\":\"#E5ECF6\",\"gridcolor\":\"white\",\"gridwidth\":2,\"linecolor\":\"white\",\"showbackground\":true,\"ticks\":\"\",\"zerolinecolor\":\"white\"},\"zaxis\":{\"backgroundcolor\":\"#E5ECF6\",\"gridcolor\":\"white\",\"gridwidth\":2,\"linecolor\":\"white\",\"showbackground\":true,\"ticks\":\"\",\"zerolinecolor\":\"white\"}},\"shapedefaults\":{\"line\":{\"color\":\"#2a3f5f\"}},\"ternary\":{\"aaxis\":{\"gridcolor\":\"white\",\"linecolor\":\"white\",\"ticks\":\"\"},\"baxis\":{\"gridcolor\":\"white\",\"linecolor\":\"white\",\"ticks\":\"\"},\"bgcolor\":\"#E5ECF6\",\"caxis\":{\"gridcolor\":\"white\",\"linecolor\":\"white\",\"ticks\":\"\"}},\"title\":{\"x\":0.05},\"xaxis\":{\"automargin\":true,\"gridcolor\":\"white\",\"linecolor\":\"white\",\"ticks\":\"\",\"title\":{\"standoff\":15},\"zerolinecolor\":\"white\",\"zerolinewidth\":2},\"yaxis\":{\"automargin\":true,\"gridcolor\":\"white\",\"linecolor\":\"white\",\"ticks\":\"\",\"title\":{\"standoff\":15},\"zerolinecolor\":\"white\",\"zerolinewidth\":2}}},\"xaxis\":{\"anchor\":\"y\",\"domain\":[0.0,1.0],\"title\":{\"text\":\"x\"},\"range\":[-60,60]},\"yaxis\":{\"anchor\":\"x\",\"domain\":[0.0,1.0],\"title\":{\"text\":\"y\"},\"range\":[-60,60]},\"width\":520,\"height\":500,\"showlegend\":false,\"shapes\":[{\"line\":{\"color\":\"black\"},\"type\":\"circle\",\"x0\":-10.5,\"x1\":10.5,\"xref\":\"x\",\"y0\":-10.5,\"y1\":10.5,\"yref\":\"y\"},{\"line\":{\"color\":\"black\"},\"type\":\"circle\",\"x0\":-55,\"x1\":55,\"xref\":\"x\",\"y0\":-55,\"y1\":55,\"yref\":\"y\"}]},                        {\"responsive\": true}                    ).then(function(){\n                            \nvar gd = document.getElementById('3131f161-b3c8-4528-81f0-da6da566743d');\nvar x = new MutationObserver(function (mutations, observer) {{\n        var display = window.getComputedStyle(gd).display;\n        if (!display || display === 'none') {{\n            console.log([gd, 'removed!']);\n            Plotly.purge(gd);\n            observer.disconnect();\n        }}\n}});\n\n// Listen for the removal of the full notebook cells\nvar notebookContainer = gd.closest('#notebook-container');\nif (notebookContainer) {{\n    x.observe(notebookContainer, {childList: true});\n}}\n\n// Listen for the clearing of the current output cell\nvar outputEl = gd.closest('.output');\nif (outputEl) {{\n    x.observe(outputEl, {childList: true});\n}}\n\n                        })                };                            </script>        </div>\n</body>\n</html>"
                },
                "metadata": {}
              }
            ]
          }
        },
        "b22f0e60949043679645c09f781dff05": {
          "model_module": "@jupyter-widgets/base",
          "model_name": "LayoutModel",
          "model_module_version": "1.2.0",
          "state": {
            "_model_module": "@jupyter-widgets/base",
            "_model_module_version": "1.2.0",
            "_model_name": "LayoutModel",
            "_view_count": null,
            "_view_module": "@jupyter-widgets/base",
            "_view_module_version": "1.2.0",
            "_view_name": "LayoutView",
            "align_content": null,
            "align_items": null,
            "align_self": null,
            "border": null,
            "bottom": null,
            "display": null,
            "flex": null,
            "flex_flow": null,
            "grid_area": null,
            "grid_auto_columns": null,
            "grid_auto_flow": null,
            "grid_auto_rows": null,
            "grid_column": null,
            "grid_gap": null,
            "grid_row": null,
            "grid_template_areas": null,
            "grid_template_columns": null,
            "grid_template_rows": null,
            "height": null,
            "justify_content": null,
            "justify_items": null,
            "left": null,
            "margin": null,
            "max_height": null,
            "max_width": null,
            "min_height": null,
            "min_width": null,
            "object_fit": null,
            "object_position": null,
            "order": null,
            "overflow": null,
            "overflow_x": null,
            "overflow_y": null,
            "padding": null,
            "right": null,
            "top": null,
            "visibility": null,
            "width": null
          }
        },
        "b681314059bf4a25acb1bf97e267f9e2": {
          "model_module": "@jupyter-widgets/base",
          "model_name": "LayoutModel",
          "model_module_version": "1.2.0",
          "state": {
            "_model_module": "@jupyter-widgets/base",
            "_model_module_version": "1.2.0",
            "_model_name": "LayoutModel",
            "_view_count": null,
            "_view_module": "@jupyter-widgets/base",
            "_view_module_version": "1.2.0",
            "_view_name": "LayoutView",
            "align_content": null,
            "align_items": null,
            "align_self": null,
            "border": null,
            "bottom": null,
            "display": null,
            "flex": null,
            "flex_flow": null,
            "grid_area": null,
            "grid_auto_columns": null,
            "grid_auto_flow": null,
            "grid_auto_rows": null,
            "grid_column": null,
            "grid_gap": null,
            "grid_row": null,
            "grid_template_areas": null,
            "grid_template_columns": null,
            "grid_template_rows": null,
            "height": null,
            "justify_content": null,
            "justify_items": null,
            "left": null,
            "margin": null,
            "max_height": null,
            "max_width": null,
            "min_height": null,
            "min_width": null,
            "object_fit": null,
            "object_position": null,
            "order": null,
            "overflow": null,
            "overflow_x": null,
            "overflow_y": null,
            "padding": null,
            "right": null,
            "top": null,
            "visibility": null,
            "width": null
          }
        },
        "d55d4b49e2a040859334c97c578033c5": {
          "model_module": "@jupyter-widgets/controls",
          "model_name": "SliderStyleModel",
          "model_module_version": "1.5.0",
          "state": {
            "_model_module": "@jupyter-widgets/controls",
            "_model_module_version": "1.5.0",
            "_model_name": "SliderStyleModel",
            "_view_count": null,
            "_view_module": "@jupyter-widgets/base",
            "_view_module_version": "1.2.0",
            "_view_name": "StyleView",
            "description_width": "",
            "handle_color": null
          }
        },
        "511784fcc4a14a2dbbfd9d3e102e0489": {
          "model_module": "@jupyter-widgets/base",
          "model_name": "LayoutModel",
          "model_module_version": "1.2.0",
          "state": {
            "_model_module": "@jupyter-widgets/base",
            "_model_module_version": "1.2.0",
            "_model_name": "LayoutModel",
            "_view_count": null,
            "_view_module": "@jupyter-widgets/base",
            "_view_module_version": "1.2.0",
            "_view_name": "LayoutView",
            "align_content": null,
            "align_items": null,
            "align_self": null,
            "border": null,
            "bottom": null,
            "display": null,
            "flex": null,
            "flex_flow": null,
            "grid_area": null,
            "grid_auto_columns": null,
            "grid_auto_flow": null,
            "grid_auto_rows": null,
            "grid_column": null,
            "grid_gap": null,
            "grid_row": null,
            "grid_template_areas": null,
            "grid_template_columns": null,
            "grid_template_rows": null,
            "height": null,
            "justify_content": null,
            "justify_items": null,
            "left": null,
            "margin": null,
            "max_height": null,
            "max_width": null,
            "min_height": null,
            "min_width": null,
            "object_fit": null,
            "object_position": null,
            "order": null,
            "overflow": null,
            "overflow_x": null,
            "overflow_y": null,
            "padding": null,
            "right": null,
            "top": null,
            "visibility": null,
            "width": null
          }
        },
        "a3c1cbb877c54fb9930ad10fce95f472": {
          "model_module": "@jupyter-widgets/controls",
          "model_name": "VBoxModel",
          "model_module_version": "1.5.0",
          "state": {
            "_dom_classes": [
              "widget-interact"
            ],
            "_model_module": "@jupyter-widgets/controls",
            "_model_module_version": "1.5.0",
            "_model_name": "VBoxModel",
            "_view_count": null,
            "_view_module": "@jupyter-widgets/controls",
            "_view_module_version": "1.5.0",
            "_view_name": "VBoxView",
            "box_style": "",
            "children": [
              "IPY_MODEL_c423ab64b71c4f28a7ac60b1c7098b1f",
              "IPY_MODEL_20acc6fad30e4e17bb0d07525e620562"
            ],
            "layout": "IPY_MODEL_4ad561ac77904273b7fa29fde3a4a40c"
          }
        },
        "c423ab64b71c4f28a7ac60b1c7098b1f": {
          "model_module": "@jupyter-widgets/controls",
          "model_name": "FloatSliderModel",
          "model_module_version": "1.5.0",
          "state": {
            "_dom_classes": [],
            "_model_module": "@jupyter-widgets/controls",
            "_model_module_version": "1.5.0",
            "_model_name": "FloatSliderModel",
            "_view_count": null,
            "_view_module": "@jupyter-widgets/controls",
            "_view_module_version": "1.5.0",
            "_view_name": "FloatSliderView",
            "continuous_update": true,
            "description": "z0",
            "description_tooltip": null,
            "disabled": false,
            "layout": "IPY_MODEL_c69a3d8a6c84454abf08e5395c6b3829",
            "max": 150,
            "min": 0,
            "orientation": "horizontal",
            "readout": true,
            "readout_format": ".2f",
            "step": 0.1,
            "style": "IPY_MODEL_aab921daa2ac4f539dae85d51285fd4b",
            "value": 49.599999999999994
          }
        },
        "20acc6fad30e4e17bb0d07525e620562": {
          "model_module": "@jupyter-widgets/output",
          "model_name": "OutputModel",
          "model_module_version": "1.0.0",
          "state": {
            "_dom_classes": [],
            "_model_module": "@jupyter-widgets/output",
            "_model_module_version": "1.0.0",
            "_model_name": "OutputModel",
            "_view_count": null,
            "_view_module": "@jupyter-widgets/output",
            "_view_module_version": "1.0.0",
            "_view_name": "OutputView",
            "layout": "IPY_MODEL_14cbfc5607bf4d7e971a3b41586aedd0",
            "msg_id": "",
            "outputs": [
              {
                "output_type": "display_data",
                "data": {
                  "text/html": "<html>\n<head><meta charset=\"utf-8\" /></head>\n<body>\n    <div>            <script src=\"https://cdnjs.cloudflare.com/ajax/libs/mathjax/2.7.5/MathJax.js?config=TeX-AMS-MML_SVG\"></script><script type=\"text/javascript\">if (window.MathJax && window.MathJax.Hub && window.MathJax.Hub.Config) {window.MathJax.Hub.Config({SVG: {font: \"STIX-Web\"}});}</script>                <script type=\"text/javascript\">window.PlotlyConfig = {MathJaxConfig: 'local'};</script>\n        <script charset=\"utf-8\" src=\"https://cdn.plot.ly/plotly-2.24.1.min.js\"></script>                <div id=\"55eb50af-2d3a-49ff-8c90-fe8492eff7ac\" class=\"plotly-graph-div\" style=\"height:500px; width:520px;\"></div>            <script type=\"text/javascript\">                                    window.PLOTLYENV=window.PLOTLYENV || {};                                    if (document.getElementById(\"55eb50af-2d3a-49ff-8c90-fe8492eff7ac\")) {                    Plotly.newPlot(                        \"55eb50af-2d3a-49ff-8c90-fe8492eff7ac\",                        [{\"customdata\":[[1,32],[2,31],[3,40],[5,51],[6,52],[8,62],[9,66],[10,66],[11,76],[12,76],[13,91],[14,91],[15,100],[16,100],[17,106],[18,106],[19,115],[20,115],[22,129],[23,138],[24,139],[25,147],[26,147],[27,156],[28,156]],\"hovertemplate\":\"x=%{x}\\u003cbr\\u003ey=%{y}\\u003cbr\\u003ering=%{customdata[0]}\\u003cbr\\u003ewire=%{customdata[1]}\\u003cextra\\u003e\\u003c\\u002fextra\\u003e\",\"legendgroup\":\"\",\"marker\":{\"color\":\"#636efa\",\"symbol\":\"circle\",\"size\":3},\"mode\":\"markers\",\"name\":\"\",\"orientation\":\"v\",\"showlegend\":false,\"x\":[0.8012053569424176,-0.9027642978253849,-0.8013014530237134,-2.3113170416047417,-1.615723393689481,-2.7928807876812956,-3.011010725578735,-2.329332996036,-2.8471108334240447,-2.141977204891496,-2.00247835609894,-2.0904013475371896,-2.002311622752563,-2.0824696794566173,-2.0623438405731718,-2.9759161129236347,-2.8411723385492182,-2.1034608542442768,-2.8076082766770227,-2.7814965735899766,-2.0332871362166554,-1.2050854412763543,-1.238218012510878,-1.2033040534456594,-1.2344965909318883],\"xaxis\":\"x\",\"y\":[-10.691922632810563,-12.045919172590022,-13.756882932604396,-17.117490188771992,-18.607219490453943,-22.025706070561966,-23.90866467622079,-25.38676352599553,-27.252845475137406,-28.71584949376181,-31.315941698172757,-32.69093347544874,-34.376034743050134,-35.75220222411682,-37.54334614645807,-38.8786743807452,-40.58100450718514,-42.02054390413076,-45.05409711820946,-46.726978659449244,-48.159096793652445,-50.360283648617624,-51.7448872860256,-53.34953140342436,-54.73247967274073],\"yaxis\":\"y\",\"type\":\"scatter\",\"uid\":\"81b0056e-1d37-4c4d-89a2-f86774dc83da\"}],                        {\"legend\":{\"tracegroupgap\":0},\"margin\":{\"t\":60},\"template\":{\"data\":{\"barpolar\":[{\"marker\":{\"line\":{\"color\":\"#E5ECF6\",\"width\":0.5},\"pattern\":{\"fillmode\":\"overlay\",\"size\":10,\"solidity\":0.2}},\"type\":\"barpolar\"}],\"bar\":[{\"error_x\":{\"color\":\"#2a3f5f\"},\"error_y\":{\"color\":\"#2a3f5f\"},\"marker\":{\"line\":{\"color\":\"#E5ECF6\",\"width\":0.5},\"pattern\":{\"fillmode\":\"overlay\",\"size\":10,\"solidity\":0.2}},\"type\":\"bar\"}],\"carpet\":[{\"aaxis\":{\"endlinecolor\":\"#2a3f5f\",\"gridcolor\":\"white\",\"linecolor\":\"white\",\"minorgridcolor\":\"white\",\"startlinecolor\":\"#2a3f5f\"},\"baxis\":{\"endlinecolor\":\"#2a3f5f\",\"gridcolor\":\"white\",\"linecolor\":\"white\",\"minorgridcolor\":\"white\",\"startlinecolor\":\"#2a3f5f\"},\"type\":\"carpet\"}],\"choropleth\":[{\"colorbar\":{\"outlinewidth\":0,\"ticks\":\"\"},\"type\":\"choropleth\"}],\"contourcarpet\":[{\"colorbar\":{\"outlinewidth\":0,\"ticks\":\"\"},\"type\":\"contourcarpet\"}],\"contour\":[{\"colorbar\":{\"outlinewidth\":0,\"ticks\":\"\"},\"colorscale\":[[0.0,\"#0d0887\"],[0.1111111111111111,\"#46039f\"],[0.2222222222222222,\"#7201a8\"],[0.3333333333333333,\"#9c179e\"],[0.4444444444444444,\"#bd3786\"],[0.5555555555555556,\"#d8576b\"],[0.6666666666666666,\"#ed7953\"],[0.7777777777777778,\"#fb9f3a\"],[0.8888888888888888,\"#fdca26\"],[1.0,\"#f0f921\"]],\"type\":\"contour\"}],\"heatmapgl\":[{\"colorbar\":{\"outlinewidth\":0,\"ticks\":\"\"},\"colorscale\":[[0.0,\"#0d0887\"],[0.1111111111111111,\"#46039f\"],[0.2222222222222222,\"#7201a8\"],[0.3333333333333333,\"#9c179e\"],[0.4444444444444444,\"#bd3786\"],[0.5555555555555556,\"#d8576b\"],[0.6666666666666666,\"#ed7953\"],[0.7777777777777778,\"#fb9f3a\"],[0.8888888888888888,\"#fdca26\"],[1.0,\"#f0f921\"]],\"type\":\"heatmapgl\"}],\"heatmap\":[{\"colorbar\":{\"outlinewidth\":0,\"ticks\":\"\"},\"colorscale\":[[0.0,\"#0d0887\"],[0.1111111111111111,\"#46039f\"],[0.2222222222222222,\"#7201a8\"],[0.3333333333333333,\"#9c179e\"],[0.4444444444444444,\"#bd3786\"],[0.5555555555555556,\"#d8576b\"],[0.6666666666666666,\"#ed7953\"],[0.7777777777777778,\"#fb9f3a\"],[0.8888888888888888,\"#fdca26\"],[1.0,\"#f0f921\"]],\"type\":\"heatmap\"}],\"histogram2dcontour\":[{\"colorbar\":{\"outlinewidth\":0,\"ticks\":\"\"},\"colorscale\":[[0.0,\"#0d0887\"],[0.1111111111111111,\"#46039f\"],[0.2222222222222222,\"#7201a8\"],[0.3333333333333333,\"#9c179e\"],[0.4444444444444444,\"#bd3786\"],[0.5555555555555556,\"#d8576b\"],[0.6666666666666666,\"#ed7953\"],[0.7777777777777778,\"#fb9f3a\"],[0.8888888888888888,\"#fdca26\"],[1.0,\"#f0f921\"]],\"type\":\"histogram2dcontour\"}],\"histogram2d\":[{\"colorbar\":{\"outlinewidth\":0,\"ticks\":\"\"},\"colorscale\":[[0.0,\"#0d0887\"],[0.1111111111111111,\"#46039f\"],[0.2222222222222222,\"#7201a8\"],[0.3333333333333333,\"#9c179e\"],[0.4444444444444444,\"#bd3786\"],[0.5555555555555556,\"#d8576b\"],[0.6666666666666666,\"#ed7953\"],[0.7777777777777778,\"#fb9f3a\"],[0.8888888888888888,\"#fdca26\"],[1.0,\"#f0f921\"]],\"type\":\"histogram2d\"}],\"histogram\":[{\"marker\":{\"pattern\":{\"fillmode\":\"overlay\",\"size\":10,\"solidity\":0.2}},\"type\":\"histogram\"}],\"mesh3d\":[{\"colorbar\":{\"outlinewidth\":0,\"ticks\":\"\"},\"type\":\"mesh3d\"}],\"parcoords\":[{\"line\":{\"colorbar\":{\"outlinewidth\":0,\"ticks\":\"\"}},\"type\":\"parcoords\"}],\"pie\":[{\"automargin\":true,\"type\":\"pie\"}],\"scatter3d\":[{\"line\":{\"colorbar\":{\"outlinewidth\":0,\"ticks\":\"\"}},\"marker\":{\"colorbar\":{\"outlinewidth\":0,\"ticks\":\"\"}},\"type\":\"scatter3d\"}],\"scattercarpet\":[{\"marker\":{\"colorbar\":{\"outlinewidth\":0,\"ticks\":\"\"}},\"type\":\"scattercarpet\"}],\"scattergeo\":[{\"marker\":{\"colorbar\":{\"outlinewidth\":0,\"ticks\":\"\"}},\"type\":\"scattergeo\"}],\"scattergl\":[{\"marker\":{\"colorbar\":{\"outlinewidth\":0,\"ticks\":\"\"}},\"type\":\"scattergl\"}],\"scattermapbox\":[{\"marker\":{\"colorbar\":{\"outlinewidth\":0,\"ticks\":\"\"}},\"type\":\"scattermapbox\"}],\"scatterpolargl\":[{\"marker\":{\"colorbar\":{\"outlinewidth\":0,\"ticks\":\"\"}},\"type\":\"scatterpolargl\"}],\"scatterpolar\":[{\"marker\":{\"colorbar\":{\"outlinewidth\":0,\"ticks\":\"\"}},\"type\":\"scatterpolar\"}],\"scatter\":[{\"fillpattern\":{\"fillmode\":\"overlay\",\"size\":10,\"solidity\":0.2},\"type\":\"scatter\"}],\"scatterternary\":[{\"marker\":{\"colorbar\":{\"outlinewidth\":0,\"ticks\":\"\"}},\"type\":\"scatterternary\"}],\"surface\":[{\"colorbar\":{\"outlinewidth\":0,\"ticks\":\"\"},\"colorscale\":[[0.0,\"#0d0887\"],[0.1111111111111111,\"#46039f\"],[0.2222222222222222,\"#7201a8\"],[0.3333333333333333,\"#9c179e\"],[0.4444444444444444,\"#bd3786\"],[0.5555555555555556,\"#d8576b\"],[0.6666666666666666,\"#ed7953\"],[0.7777777777777778,\"#fb9f3a\"],[0.8888888888888888,\"#fdca26\"],[1.0,\"#f0f921\"]],\"type\":\"surface\"}],\"table\":[{\"cells\":{\"fill\":{\"color\":\"#EBF0F8\"},\"line\":{\"color\":\"white\"}},\"header\":{\"fill\":{\"color\":\"#C8D4E3\"},\"line\":{\"color\":\"white\"}},\"type\":\"table\"}]},\"layout\":{\"annotationdefaults\":{\"arrowcolor\":\"#2a3f5f\",\"arrowhead\":0,\"arrowwidth\":1},\"autotypenumbers\":\"strict\",\"coloraxis\":{\"colorbar\":{\"outlinewidth\":0,\"ticks\":\"\"}},\"colorscale\":{\"diverging\":[[0,\"#8e0152\"],[0.1,\"#c51b7d\"],[0.2,\"#de77ae\"],[0.3,\"#f1b6da\"],[0.4,\"#fde0ef\"],[0.5,\"#f7f7f7\"],[0.6,\"#e6f5d0\"],[0.7,\"#b8e186\"],[0.8,\"#7fbc41\"],[0.9,\"#4d9221\"],[1,\"#276419\"]],\"sequential\":[[0.0,\"#0d0887\"],[0.1111111111111111,\"#46039f\"],[0.2222222222222222,\"#7201a8\"],[0.3333333333333333,\"#9c179e\"],[0.4444444444444444,\"#bd3786\"],[0.5555555555555556,\"#d8576b\"],[0.6666666666666666,\"#ed7953\"],[0.7777777777777778,\"#fb9f3a\"],[0.8888888888888888,\"#fdca26\"],[1.0,\"#f0f921\"]],\"sequentialminus\":[[0.0,\"#0d0887\"],[0.1111111111111111,\"#46039f\"],[0.2222222222222222,\"#7201a8\"],[0.3333333333333333,\"#9c179e\"],[0.4444444444444444,\"#bd3786\"],[0.5555555555555556,\"#d8576b\"],[0.6666666666666666,\"#ed7953\"],[0.7777777777777778,\"#fb9f3a\"],[0.8888888888888888,\"#fdca26\"],[1.0,\"#f0f921\"]]},\"colorway\":[\"#636efa\",\"#EF553B\",\"#00cc96\",\"#ab63fa\",\"#FFA15A\",\"#19d3f3\",\"#FF6692\",\"#B6E880\",\"#FF97FF\",\"#FECB52\"],\"font\":{\"color\":\"#2a3f5f\"},\"geo\":{\"bgcolor\":\"white\",\"lakecolor\":\"white\",\"landcolor\":\"#E5ECF6\",\"showlakes\":true,\"showland\":true,\"subunitcolor\":\"white\"},\"hoverlabel\":{\"align\":\"left\"},\"hovermode\":\"closest\",\"mapbox\":{\"style\":\"light\"},\"paper_bgcolor\":\"white\",\"plot_bgcolor\":\"#E5ECF6\",\"polar\":{\"angularaxis\":{\"gridcolor\":\"white\",\"linecolor\":\"white\",\"ticks\":\"\"},\"bgcolor\":\"#E5ECF6\",\"radialaxis\":{\"gridcolor\":\"white\",\"linecolor\":\"white\",\"ticks\":\"\"}},\"scene\":{\"xaxis\":{\"backgroundcolor\":\"#E5ECF6\",\"gridcolor\":\"white\",\"gridwidth\":2,\"linecolor\":\"white\",\"showbackground\":true,\"ticks\":\"\",\"zerolinecolor\":\"white\"},\"yaxis\":{\"backgroundcolor\":\"#E5ECF6\",\"gridcolor\":\"white\",\"gridwidth\":2,\"linecolor\":\"white\",\"showbackground\":true,\"ticks\":\"\",\"zerolinecolor\":\"white\"},\"zaxis\":{\"backgroundcolor\":\"#E5ECF6\",\"gridcolor\":\"white\",\"gridwidth\":2,\"linecolor\":\"white\",\"showbackground\":true,\"ticks\":\"\",\"zerolinecolor\":\"white\"}},\"shapedefaults\":{\"line\":{\"color\":\"#2a3f5f\"}},\"ternary\":{\"aaxis\":{\"gridcolor\":\"white\",\"linecolor\":\"white\",\"ticks\":\"\"},\"baxis\":{\"gridcolor\":\"white\",\"linecolor\":\"white\",\"ticks\":\"\"},\"bgcolor\":\"#E5ECF6\",\"caxis\":{\"gridcolor\":\"white\",\"linecolor\":\"white\",\"ticks\":\"\"}},\"title\":{\"x\":0.05},\"xaxis\":{\"automargin\":true,\"gridcolor\":\"white\",\"linecolor\":\"white\",\"ticks\":\"\",\"title\":{\"standoff\":15},\"zerolinecolor\":\"white\",\"zerolinewidth\":2},\"yaxis\":{\"automargin\":true,\"gridcolor\":\"white\",\"linecolor\":\"white\",\"ticks\":\"\",\"title\":{\"standoff\":15},\"zerolinecolor\":\"white\",\"zerolinewidth\":2}}},\"xaxis\":{\"anchor\":\"y\",\"domain\":[0.0,1.0],\"title\":{\"text\":\"x\"},\"range\":[-60,60]},\"yaxis\":{\"anchor\":\"x\",\"domain\":[0.0,1.0],\"title\":{\"text\":\"y\"},\"range\":[-60,60]},\"width\":520,\"height\":500,\"showlegend\":false,\"shapes\":[{\"line\":{\"color\":\"black\"},\"type\":\"circle\",\"x0\":-10.5,\"x1\":10.5,\"xref\":\"x\",\"y0\":-10.5,\"y1\":10.5,\"yref\":\"y\"},{\"line\":{\"color\":\"black\"},\"type\":\"circle\",\"x0\":-55,\"x1\":55,\"xref\":\"x\",\"y0\":-55,\"y1\":55,\"yref\":\"y\"}]},                        {\"responsive\": true}                    ).then(function(){\n                            \nvar gd = document.getElementById('55eb50af-2d3a-49ff-8c90-fe8492eff7ac');\nvar x = new MutationObserver(function (mutations, observer) {{\n        var display = window.getComputedStyle(gd).display;\n        if (!display || display === 'none') {{\n            console.log([gd, 'removed!']);\n            Plotly.purge(gd);\n            observer.disconnect();\n        }}\n}});\n\n// Listen for the removal of the full notebook cells\nvar notebookContainer = gd.closest('#notebook-container');\nif (notebookContainer) {{\n    x.observe(notebookContainer, {childList: true});\n}}\n\n// Listen for the clearing of the current output cell\nvar outputEl = gd.closest('.output');\nif (outputEl) {{\n    x.observe(outputEl, {childList: true});\n}}\n\n                        })                };                            </script>        </div>\n</body>\n</html>"
                },
                "metadata": {}
              }
            ]
          }
        },
        "4ad561ac77904273b7fa29fde3a4a40c": {
          "model_module": "@jupyter-widgets/base",
          "model_name": "LayoutModel",
          "model_module_version": "1.2.0",
          "state": {
            "_model_module": "@jupyter-widgets/base",
            "_model_module_version": "1.2.0",
            "_model_name": "LayoutModel",
            "_view_count": null,
            "_view_module": "@jupyter-widgets/base",
            "_view_module_version": "1.2.0",
            "_view_name": "LayoutView",
            "align_content": null,
            "align_items": null,
            "align_self": null,
            "border": null,
            "bottom": null,
            "display": null,
            "flex": null,
            "flex_flow": null,
            "grid_area": null,
            "grid_auto_columns": null,
            "grid_auto_flow": null,
            "grid_auto_rows": null,
            "grid_column": null,
            "grid_gap": null,
            "grid_row": null,
            "grid_template_areas": null,
            "grid_template_columns": null,
            "grid_template_rows": null,
            "height": null,
            "justify_content": null,
            "justify_items": null,
            "left": null,
            "margin": null,
            "max_height": null,
            "max_width": null,
            "min_height": null,
            "min_width": null,
            "object_fit": null,
            "object_position": null,
            "order": null,
            "overflow": null,
            "overflow_x": null,
            "overflow_y": null,
            "padding": null,
            "right": null,
            "top": null,
            "visibility": null,
            "width": null
          }
        },
        "c69a3d8a6c84454abf08e5395c6b3829": {
          "model_module": "@jupyter-widgets/base",
          "model_name": "LayoutModel",
          "model_module_version": "1.2.0",
          "state": {
            "_model_module": "@jupyter-widgets/base",
            "_model_module_version": "1.2.0",
            "_model_name": "LayoutModel",
            "_view_count": null,
            "_view_module": "@jupyter-widgets/base",
            "_view_module_version": "1.2.0",
            "_view_name": "LayoutView",
            "align_content": null,
            "align_items": null,
            "align_self": null,
            "border": null,
            "bottom": null,
            "display": null,
            "flex": null,
            "flex_flow": null,
            "grid_area": null,
            "grid_auto_columns": null,
            "grid_auto_flow": null,
            "grid_auto_rows": null,
            "grid_column": null,
            "grid_gap": null,
            "grid_row": null,
            "grid_template_areas": null,
            "grid_template_columns": null,
            "grid_template_rows": null,
            "height": null,
            "justify_content": null,
            "justify_items": null,
            "left": null,
            "margin": null,
            "max_height": null,
            "max_width": null,
            "min_height": null,
            "min_width": null,
            "object_fit": null,
            "object_position": null,
            "order": null,
            "overflow": null,
            "overflow_x": null,
            "overflow_y": null,
            "padding": null,
            "right": null,
            "top": null,
            "visibility": null,
            "width": null
          }
        },
        "aab921daa2ac4f539dae85d51285fd4b": {
          "model_module": "@jupyter-widgets/controls",
          "model_name": "SliderStyleModel",
          "model_module_version": "1.5.0",
          "state": {
            "_model_module": "@jupyter-widgets/controls",
            "_model_module_version": "1.5.0",
            "_model_name": "SliderStyleModel",
            "_view_count": null,
            "_view_module": "@jupyter-widgets/base",
            "_view_module_version": "1.2.0",
            "_view_name": "StyleView",
            "description_width": "",
            "handle_color": null
          }
        },
        "14cbfc5607bf4d7e971a3b41586aedd0": {
          "model_module": "@jupyter-widgets/base",
          "model_name": "LayoutModel",
          "model_module_version": "1.2.0",
          "state": {
            "_model_module": "@jupyter-widgets/base",
            "_model_module_version": "1.2.0",
            "_model_name": "LayoutModel",
            "_view_count": null,
            "_view_module": "@jupyter-widgets/base",
            "_view_module_version": "1.2.0",
            "_view_name": "LayoutView",
            "align_content": null,
            "align_items": null,
            "align_self": null,
            "border": null,
            "bottom": null,
            "display": null,
            "flex": null,
            "flex_flow": null,
            "grid_area": null,
            "grid_auto_columns": null,
            "grid_auto_flow": null,
            "grid_auto_rows": null,
            "grid_column": null,
            "grid_gap": null,
            "grid_row": null,
            "grid_template_areas": null,
            "grid_template_columns": null,
            "grid_template_rows": null,
            "height": null,
            "justify_content": null,
            "justify_items": null,
            "left": null,
            "margin": null,
            "max_height": null,
            "max_width": null,
            "min_height": null,
            "min_width": null,
            "object_fit": null,
            "object_position": null,
            "order": null,
            "overflow": null,
            "overflow_x": null,
            "overflow_y": null,
            "padding": null,
            "right": null,
            "top": null,
            "visibility": null,
            "width": null
          }
        },
        "80d3b4eb03af47cab61fc9fe78e74c9e": {
          "model_module": "@jupyter-widgets/controls",
          "model_name": "VBoxModel",
          "model_module_version": "1.5.0",
          "state": {
            "_dom_classes": [],
            "_model_module": "@jupyter-widgets/controls",
            "_model_module_version": "1.5.0",
            "_model_name": "VBoxModel",
            "_view_count": null,
            "_view_module": "@jupyter-widgets/controls",
            "_view_module_version": "1.5.0",
            "_view_name": "VBoxView",
            "box_style": "",
            "children": [
              "IPY_MODEL_80ad8f40dcb04725bf1495053b9c01bf",
              "IPY_MODEL_95396a3086a64b34ac3dc95f2f9a8647"
            ],
            "layout": "IPY_MODEL_2a23e9b76228467e9be68960e0506f46"
          }
        },
        "80ad8f40dcb04725bf1495053b9c01bf": {
          "model_module": "@jupyter-widgets/controls",
          "model_name": "HBoxModel",
          "model_module_version": "1.5.0",
          "state": {
            "_dom_classes": [],
            "_model_module": "@jupyter-widgets/controls",
            "_model_module_version": "1.5.0",
            "_model_name": "HBoxModel",
            "_view_count": null,
            "_view_module": "@jupyter-widgets/controls",
            "_view_module_version": "1.5.0",
            "_view_name": "HBoxView",
            "box_style": "",
            "children": [
              "IPY_MODEL_2ab052f207e6478091df14f5af98d9b1",
              "IPY_MODEL_1adaf379f9a94c40a7f51fee3f2371db",
              "IPY_MODEL_e62830cdc35643a8a9da3648495277f9",
              "IPY_MODEL_3cd54b86ec0d409c8f4a7a8f350d21bd",
              "IPY_MODEL_f1af3f670f6141fcabe3a8334e2a8d5e"
            ],
            "layout": "IPY_MODEL_5a4640c919754b07be81fc176116c210"
          }
        },
        "95396a3086a64b34ac3dc95f2f9a8647": {
          "model_module": "@jupyter-widgets/output",
          "model_name": "OutputModel",
          "model_module_version": "1.0.0",
          "state": {
            "_dom_classes": [],
            "_model_module": "@jupyter-widgets/output",
            "_model_module_version": "1.0.0",
            "_model_name": "OutputModel",
            "_view_count": null,
            "_view_module": "@jupyter-widgets/output",
            "_view_module_version": "1.0.0",
            "_view_name": "OutputView",
            "layout": "IPY_MODEL_82581a1e54b44cf89f901bc894acc6ff",
            "msg_id": "",
            "outputs": [
              {
                "output_type": "display_data",
                "data": {
                  "text/html": "<html>\n<head><meta charset=\"utf-8\" /></head>\n<body>\n    <div>            <script src=\"https://cdnjs.cloudflare.com/ajax/libs/mathjax/2.7.5/MathJax.js?config=TeX-AMS-MML_SVG\"></script><script type=\"text/javascript\">if (window.MathJax && window.MathJax.Hub && window.MathJax.Hub.Config) {window.MathJax.Hub.Config({SVG: {font: \"STIX-Web\"}});}</script>                <script type=\"text/javascript\">window.PlotlyConfig = {MathJaxConfig: 'local'};</script>\n        <script charset=\"utf-8\" src=\"https://cdn.plot.ly/plotly-2.24.1.min.js\"></script>                <div id=\"9b4a1223-9793-4ca1-bc66-34a1c0179d9e\" class=\"plotly-graph-div\" style=\"height:500px; width:510px;\"></div>            <script type=\"text/javascript\">                                    window.PLOTLYENV=window.PLOTLYENV || {};                                    if (document.getElementById(\"9b4a1223-9793-4ca1-bc66-34a1c0179d9e\")) {                    Plotly.newPlot(                        \"9b4a1223-9793-4ca1-bc66-34a1c0179d9e\",                        [{\"customdata\":[[1,8],[1,9],[2,8],[2,25],[3,10],[3,11],[3,32],[4,10],[4,11],[4,31],[5,15],[5,16],[5,39],[6,16],[6,40],[7,19],[7,20],[7,47],[8,20],[8,21],[8,47],[9,19],[9,21],[9,49],[10,19],[10,21],[10,48],[11,23],[11,25],[11,55],[12,24],[12,26],[12,54],[13,31],[13,32],[13,63],[14,33],[14,34],[14,60],[14,61],[14,63],[15,37],[15,38],[15,65],[15,66],[15,68],[16,38],[16,39],[16,64],[16,66],[16,67],[17,40],[17,42],[17,43],[17,66],[17,67],[17,68],[17,69],[18,41],[18,42],[18,44],[18,45],[18,65],[18,66],[18,67],[18,68],[19,46],[19,47],[19,50],[19,51],[19,68],[19,69],[19,70],[19,71],[19,72],[20,47],[20,48],[20,51],[20,52],[20,53],[20,54],[20,65],[20,66],[20,67],[20,69],[20,70],[21,59],[21,60],[21,61],[21,62],[21,63],[21,64],[21,65],[21,66],[21,67],[21,68],[21,69],[21,70],[21,76],[21,77],[21,78],[22,61],[22,62],[22,63],[22,64],[22,72],[22,73],[22,74],[22,75],[23,70],[23,71],[23,72],[23,73],[23,74],[23,75]],\"hovertemplate\":\"x=%{x}\\u003cbr\\u003ey=%{y}\\u003cbr\\u003ering=%{customdata[0]}\\u003cbr\\u003ewire=%{customdata[1]}\\u003cextra\\u003e\\u003c\\u002fextra\\u003e\",\"legendgroup\":\"\",\"marker\":{\"color\":\"#636efa\",\"symbol\":\"circle\",\"size\":3},\"mode\":\"markers\",\"name\":\"\",\"orientation\":\"v\",\"showlegend\":false,\"x\":[3.917160018590975,2.3858590895783576,4.413221339181805,-9.980738018461622,5.458070827676303,3.9522201792107263,-11.513212953760782,5.998522899806193,4.343564603423222,-13.533818956143145,8.90421592361014,7.490754238496632,-16.748286385177682,8.874053665400574,-17.94904950389649,8.614795868314692,7.124231316614258,-20.159507873047176,8.405090262470502,6.78962788792214,-21.665822250727196,1.5288445919093663,-1.6955316244339622,-22.069752200336282,0.7649452432161059,-2.6438584186359932,-23.660815919638885,0.5593383432354049,-2.662228447953176,-25.951306724769402,-1.953164657195983,-5.313661033712642,-27.51484658494823,-0.4006904841895051,-2.0023121567442272,-31.287831664127577,-3.756718908965023,-5.4134091329332374,-32.66157590353989,-32.74701341816302,-32.66158921169258,-5.188707506444825,-6.766861450229103,-34.20145736683533,-34.35041354342648,-34.4249787513619,-7.037757577321591,-8.663847186058199,-35.33867878410878,-35.725555337208064,-35.80310117346104,-11.32944765117044,-14.357077131433082,-15.832403466838848,-37.070388370835545,-37.26835569464206,-37.3973106030438,-37.45701430123639,-12.54304185543853,-14.113281575333286,-17.172498042193872,-18.655809824508356,-38.00196222605467,-38.313858595835576,-38.55480651951813,-38.72435981701494,-15.193361269485674,-16.676142547564265,-20.957109710162527,-22.320784933835363,-38.59596409833844,-39.06017803948882,-39.462629810518976,-39.80268305245683,-40.07980007123048,-18.00376355374287,-19.49551022075064,-23.776604103188962,-25.131398195180804,-26.44645438098287,-27.719693286461638,-38.44289547094537,-39.0791573407714,-39.65362703030078,-40.613655592268216,-40.99769646222034,-17.845099876982808,-19.30407729479764,-20.736687665038904,-22.14097421426389,-23.515018855962445,-24.856944810432374,-26.16491916823485,-27.437155393728187,-28.671915765260618,-29.867513748689085,-31.022316300981963,-32.13474610075946,-37.83871400817468,-38.61548208828091,-39.33950606475822,-22.12515784976942,-23.55879606014737,-24.960255788901602,-26.32762281061865,-35.82602790095948,-36.80891319357866,-37.74152193837403,-38.62258030398001,-29.569614633045198,-30.79954973814847,-31.99278043778323,-33.14788473637524,-34.263486074302854,-35.33825496836919],\"xaxis\":\"x\",\"y\":[9.980731285770213,10.4530768683042,11.244671160215864,-6.804705775919689,12.653196231785426,13.201282804903451,-7.572307410648023,13.906101578461906,14.50845907137932,-6.796887710735,14.445611854380711,15.226600539849386,-2.7305065870216927,16.0605849072074,-3.810884139501074,18.659506555613014,19.277894617905492,-3.9982665079063833,20.25963046833973,20.856632570420036,-3.4191102985791777,23.8319779421576,23.8206992116571,-9.122860090862336,25.252721846377526,25.125586849620834,-8.857250808947155,27.205162624757154,27.08036691982968,-8.18311750487766,28.52891679008642,28.097668084960326,-7.787628830430799,31.377341683862895,31.315952325243984,-2.4020228490203315,32.541572984860835,32.307304295615175,2.5076620161621452,0.8366728635798261,-2.507488675277911,34.041127051003514,33.762858329877865,3.997665628156676,2.4021044701642746,-0.8011581980368072,35.11447866796334,34.74902006930025,5.808134436596705,2.498267337192832,0.8334207838258895,35.70727970794031,34.601163917761184,33.95145370503193,5.399306831169866,3.7994568084579377,2.192571066388645,0.5816251874440406,36.76827125068622,36.19459839432784,34.84736691261148,34.07630304981893,8.067498789639542,6.425099940828747,4.7708032860142,3.1076722017741485,37.598697672081535,36.964936940768794,34.71742856114071,33.85679921727932,12.443948273014751,10.899669023650796,9.33815515718366,7.761875747998234,6.173323217837377,37.88009307960718,37.134378075462514,34.55010927824978,33.577518946075315,32.55183565474266,31.474681220359912,16.768444818430588,15.226832085303123,13.661142600843572,10.467470241247616,8.844537218556399,39.8133924764294,39.12679912666222,38.38676327569596,37.59429572348708,36.750478885389064,35.85646531370341,34.91347612343168,33.922799324379305,32.88578806188924,31.80385876860802,30.678489229809312,29.511216564916836,21.720624583774338,20.307593485968553,18.866824658181052,39.20675443392345,38.36242082188731,37.46568875747239,36.51778306881432,27.261473327002363,25.91902993220965,24.541184260227155,23.129818282507205,36.144090174119704,35.10192444851158,34.017927096186966,32.89338993727583,31.72965310396178,30.52810344342123],\"yaxis\":\"y\",\"type\":\"scatter\",\"uid\":\"ed243be4-af7b-46e1-bfd6-834c541eab44\"},{\"type\":\"scatter\",\"uid\":\"b91dd1c2-e4c5-4d66-9e86-2cce297d5544\",\"x\":[0.0,0.0,0.0,0.0,0.0,0.0,0.0,0.0,0.0,0.0,0.0,0.0,0.0,0.0,0.0,0.0,0.0,0.0,0.0,0.0,0.0,0.0,0.0,0.0,0.0,0.0,0.0,0.0,0.0,0.0,0.0,0.0,0.0,0.0,0.0,0.0,0.0,0.0,0.0,0.0,0.0,0.0,0.0,0.0,0.0,0.0,0.0,0.0,0.0,0.0,0.0,0.0,0.0,0.0,0.0,0.0,0.0,0.0,0.0,0.0,0.0,0.0,0.0,0.0,0.0,0.0,0.0,0.0,0.0,0.0,0.0,0.0,0.0,0.0,0.0,0.0,0.0,0.0,0.0,0.0,0.0,0.0,0.0,0.0,0.0,0.0,0.0,0.0,0.0,0.0,0.0,0.0,0.0,0.0,0.0,0.0,0.0,0.0,0.0,0.0,0.0,0.0,0.0,0.0,0.0,0.0,0.0,0.0,0.0,0.0,0.0,0.0,0.0,0.0,0.0,0.0,0.0,0.0,0.0,0.0,0.0,0.0,0.0,0.0,0.0,0.0,0.0,0.0,0.0,0.0,0.0,0.0,0.0,0.0,0.0,0.0,0.0,0.0,0.0,0.0,0.0,0.0,0.0,0.0,0.0,0.0,0.0,0.0,0.0,0.0,0.0,0.0,0.0,0.0,0.0,0.0,0.0,0.0,0.0,0.0,0.0,0.0,0.0,0.0,0.0,0.0,0.0,0.0,0.0,0.0,0.0,0.0,0.0,0.0,0.0,0.0,0.0,0.0,0.0,0.0,0.0,0.0,0.0,0.0,0.0,0.0,0.0,0.0,0.0,0.0,0.0,0.0,0.0,0.0,0.0,0.0,0.0,0.0,0.0,0.0,0.0,0.0,0.0,0.0,0.0,0.0,0.0,0.0,0.0,0.0,0.0,0.0,0.0,0.0,0.0,0.0,0.0,0.0,0.0,0.0,0.0,0.0,0.0,0.0,0.0,0.0,0.0,0.0,0.0,0.0,0.0,0.0,0.0,0.0,0.0,0.0,0.0,0.0,0.0,0.0,0.0,0.0,0.0,0.0,0.0,0.0,0.0,0.0,0.0,0.0,0.0,0.0,0.0,0.0,0.0,0.0,0.0,0.0,0.0,0.0,0.0,0.0,0.0,0.0,0.0,0.0,0.0,0.0,0.0,0.0,0.0,0.0,0.0,0.0,0.0,0.0,0.0,0.0,0.0,0.0,0.0,0.0,0.0,0.0,0.0,0.0,0.0,0.0,0.0,0.0,0.0,0.0,0.0,0.0,0.0,0.0,0.0,0.0,0.0,0.0,0.0,0.0,0.0,0.0,0.0,0.0,0.0,0.0,0.0,0.0,0.0,0.0,0.0,0.0,0.0,0.0,0.0,0.0,0.0,0.0,0.0,0.0,0.0,0.0,0.0,0.0,0.0,0.0,0.0,0.0,0.0,0.0,0.0,0.0,0.0,0.0,0.0,0.0,0.0,0.0,0.0,0.0,0.0,0.0,0.0,0.0,0.0,0.0,0.0,0.0,0.0,0.0,0.0,0.0,0.0,0.0,0.0,0.0,0.0,0.0,0.0,0.0,0.0,0.0,0.0,0.0,0.0,0.0,0.0,0.0,0.0,0.0,0.0,0.0,0.0,0.0,0.0,0.0,0.0,0.0,0.0,0.0,0.0,0.0,0.0,0.0,0.0,0.0,0.0,0.0,0.0,0.0,0.0,0.0,0.0,0.0,0.0,0.0,0.0,0.0,0.0,0.0,0.0,0.0,0.0,0.0,0.0,0.0,0.0,0.0,0.0,0.0,0.0,0.0,0.0,0.0,0.0,0.0,0.0,0.0,0.0,0.0,0.0,0.0,0.0,0.0,0.0,0.0,0.0,0.0,0.0,0.0,0.0,0.0,0.0,0.0,0.0,0.0,0.0,0.0,0.0,0.0,0.0,0.0,0.0,0.0,0.0,0.0,0.0,0.0,0.0,0.0,0.0,0.0,0.0,0.0,0.0,0.0,0.0,0.0,0.0,0.0,0.0,0.0,0.0,0.0,0.0,0.0,0.0,0.0,0.0,0.0,0.0,0.0,0.0,0.0,0.0,0.0,0.0,0.0,0.0,0.0,0.0,0.0,0.0,0.0,0.0,0.0,0.0,0.0,0.0,0.0,0.0,0.0,0.0,0.0,0.0,0.0,0.0,0.0,-0.0,-0.0,-0.0,-0.0,-0.0,-0.0,-0.0,-0.0,-0.0,-0.0,-0.0,-0.0,-0.0,-0.0,-0.0,-0.0,-0.0,-0.0,-0.0,-0.0,-0.0,-0.0,-0.0,-0.0,-0.0,-0.0,-0.0,-0.0,-0.0,-0.0,-0.0,-0.0,-0.0,-0.0,-0.0,-0.0,-0.0,-0.0,-0.0,-0.0,-0.0,-0.0,-0.0,-0.0,-0.0,-0.0,-0.0,-0.0,-0.0,-0.0,-0.0,-0.0,-0.0,-0.0,-0.0,-0.0,-0.0,-0.0,-0.0,-0.0,-0.0,-0.0,-0.0,-0.0,-0.0,-0.0,-0.0,-0.0,-0.0,-0.0,-0.0,-0.0,-0.0,-0.0,-0.0,-0.0,-0.0,-0.0,-0.0,-0.0,-0.0,-0.0,-0.0,-0.0,-0.0,-0.0,-0.0,-0.0,-0.0,-0.0,-0.0,-0.0,-0.0,-0.0,-0.0,-0.0,-0.0,-0.0,-0.0,-0.0,-0.0,-0.0,-0.0,-0.0,-0.0,-0.0,-0.0,-0.0,-0.0,-0.0,-0.0,-0.0,-0.0,-0.0,-0.0,-0.0,-0.0,-0.0,-0.0,-0.0,-0.0,-0.0,-0.0,-0.0,-0.0,-0.0,-0.0,-0.0,-0.0,-0.0,-0.0,-0.0,-0.0,-0.0,-0.0,-0.0,-0.0,-0.0,-0.0,-0.0,-0.0,-0.0,-0.0,-0.0,-0.0,-0.0,-0.0,-0.0,-0.0,-0.0,-0.0,-0.0,-0.0,-0.0,-0.0,-0.0,-0.0,-0.0,-0.0,-0.0,-0.0,-0.0,-0.0,-0.0,-0.0,-0.0,-0.0,-0.0,-0.0,-0.0,-0.0,-0.0,-0.0,-0.0,-0.0,-0.0,-0.0,-0.0,-0.0,-0.0,-0.0,-0.0,-0.0,-0.0,-0.0,-0.0,-0.0,-0.0,-0.0,-0.0,-0.0,-0.0,-0.0,-0.0,-0.0,-0.0,-0.0,-0.0,-0.0,-0.0,-0.0,-0.0,-0.0,-0.0,-0.0,-0.0,-0.0,-0.0,-0.0,-0.0,-0.0,-0.0,-0.0,-0.0,-0.0,-0.0,-0.0,-0.0,-0.0,-0.0,-0.0,-0.0,-0.0,-0.0,-0.0,-0.0,-0.0,-0.0,-0.0,-0.0,-0.0,-0.0,-0.0,-0.0,-0.0,-0.0,-0.0,-0.0,-0.0,-0.0,-0.0,-0.0,-0.0,-0.0,-0.0,-0.0,-0.0,-0.0,-0.0,-0.0,-0.0,-0.0,-0.0,-0.0,-0.0,-0.0,-0.0,-0.0,-0.0,-0.0,-0.0,-0.0,-0.0,-0.0,-0.0,-0.0,-0.0,-0.0,-0.0,-0.0,-0.0,-0.0,-0.0,-0.0,-0.0,-0.0,-0.0,-0.0,-0.0,-0.0,-0.0,-0.0,-0.0,-0.0,-0.0,-0.0,-0.0,-0.0,-0.0,-0.0,-0.0,-0.0,-0.0,-0.0,-0.0,-0.0,-0.0,-0.0,-0.0,-0.0,-0.0,-0.0,-0.0,-0.0,-0.0,-0.0,-0.0,-0.0,-0.0,-0.0,-0.0,-0.0,-0.0,-0.0,-0.0,-0.0,-0.0,-0.0,-0.0,-0.0,-0.0,-0.0,-0.0,-0.0,-0.0,-0.0,-0.0,-0.0,-0.0,-0.0,-0.0,-0.0,-0.0,-0.0,-0.0,-0.0,-0.0,-0.0,-0.0,-0.0,-0.0,-0.0,-0.0,-0.0,-0.0,-0.0,-0.0,-0.0,-0.0,-0.0,-0.0,-0.0,-0.0,-0.0,-0.0,-0.0,-0.0,-0.0,-0.0,-0.0,-0.0,-0.0,-0.0,-0.0,-0.0,-0.0,-0.0,-0.0,-0.0,-0.0,-0.0,-0.0,-0.0,-0.0,-0.0,-0.0,-0.0,-0.0,-0.0,-0.0,-0.0,-0.0,-0.0,-0.0,-0.0,-0.0,-0.0,-0.0,-0.0,-0.0,-0.0,-0.0,-0.0,-0.0,-0.0,-0.0,-0.0,-0.0,-0.0,-0.0,-0.0,-0.0,-0.0,-0.0,-0.0,-0.0,-0.0,-0.0,-0.0,-0.0,-0.0,-0.0,-0.0,-0.0,-0.0,-0.0,-0.0,-0.0,-0.0,-0.0,-0.0,-0.0,-0.0,-0.0,-0.0,-0.0,-0.0,-0.0,-0.0,-0.0,-0.0,-0.0,-0.0,-0.0,-0.0,-0.0,-0.0,-0.0,-0.0,-0.0,-0.0,-0.0,-0.0,-0.0,-0.0,-0.0,-0.0,-0.0,-0.0,-0.0,-0.0,-0.0,-0.0,-0.0,-0.0,-0.0,-0.0,-0.0,-0.0,-0.0,-0.0,-0.0,-0.0,-0.0,-0.0,-0.0,-0.0,-0.0,-0.0,-0.0,-0.0,-0.0,-0.0,-0.0,-0.0,-0.0,-0.0,-0.0,-0.0,-0.0,-0.0,-0.0,-0.0,-0.0,-0.0,-0.0,-0.0,-0.0,-0.0,-0.0,-0.0,-0.0,-0.0,-0.0,-0.0,-0.0,-0.0,-0.0,-0.0,-0.0],\"y\":[0.0,0.0,0.0,0.0,0.0,0.0,0.0,0.0,0.0,0.0,0.0,0.0,0.0,0.0,0.0,0.0,0.0,0.0,0.0,0.0,0.0,0.0,0.0,0.0,0.0,0.0,0.0,0.0,0.0,0.0,0.0,0.0,0.0,0.0,0.0,0.0,0.0,0.0,0.0,0.0,0.0,0.0,0.0,0.0,0.0,0.0,0.0,0.0,0.0,0.0,0.0,0.0,0.0,0.0,0.0,0.0,0.0,0.0,0.0,0.0,0.0,0.0,0.0,0.0,0.0,0.0,0.0,0.0,0.0,0.0,0.0,0.0,0.0,0.0,0.0,0.0,0.0,0.0,0.0,0.0,0.0,0.0,0.0,0.0,0.0,0.0,0.0,0.0,0.0,0.0,0.0,0.0,0.0,0.0,0.0,0.0,0.0,0.0,0.0,0.0,0.0,0.0,0.0,0.0,0.0,0.0,0.0,0.0,0.0,0.0,0.0,0.0,0.0,0.0,0.0,0.0,0.0,0.0,0.0,0.0,0.0,0.0,0.0,0.0,0.0,0.0,0.0,0.0,0.0,0.0,0.0,0.0,0.0,0.0,0.0,0.0,0.0,0.0,0.0,0.0,0.0,0.0,0.0,0.0,0.0,0.0,0.0,0.0,0.0,0.0,0.0,0.0,0.0,0.0,0.0,0.0,0.0,0.0,0.0,0.0,0.0,0.0,0.0,0.0,0.0,0.0,0.0,0.0,0.0,0.0,0.0,0.0,0.0,0.0,0.0,0.0,0.0,0.0,0.0,0.0,0.0,0.0,0.0,0.0,0.0,0.0,0.0,0.0,0.0,0.0,0.0,0.0,0.0,0.0,0.0,0.0,0.0,0.0,0.0,0.0,0.0,0.0,0.0,0.0,0.0,0.0,0.0,0.0,0.0,0.0,0.0,0.0,0.0,0.0,0.0,0.0,0.0,0.0,0.0,0.0,0.0,0.0,0.0,0.0,0.0,0.0,0.0,0.0,0.0,0.0,0.0,0.0,0.0,0.0,0.0,0.0,0.0,0.0,0.0,0.0,0.0,0.0,0.0,0.0,0.0,0.0,0.0,0.0,0.0,0.0,0.0,0.0,0.0,0.0,0.0,0.0,0.0,0.0,0.0,0.0,0.0,0.0,0.0,0.0,0.0,0.0,0.0,0.0,0.0,0.0,0.0,0.0,0.0,0.0,0.0,0.0,0.0,0.0,0.0,0.0,0.0,0.0,0.0,0.0,0.0,0.0,0.0,0.0,0.0,0.0,0.0,0.0,0.0,0.0,0.0,0.0,0.0,0.0,0.0,0.0,0.0,0.0,0.0,0.0,0.0,0.0,0.0,0.0,0.0,0.0,0.0,0.0,0.0,0.0,0.0,0.0,0.0,0.0,0.0,0.0,0.0,0.0,0.0,0.0,0.0,0.0,0.0,0.0,0.0,0.0,0.0,0.0,0.0,0.0,0.0,0.0,0.0,0.0,0.0,0.0,0.0,0.0,0.0,0.0,0.0,0.0,0.0,0.0,0.0,0.0,0.0,0.0,0.0,0.0,0.0,0.0,0.0,0.0,0.0,0.0,0.0,0.0,0.0,0.0,0.0,0.0,0.0,0.0,0.0,0.0,0.0,0.0,0.0,0.0,0.0,0.0,0.0,0.0,0.0,0.0,0.0,0.0,0.0,0.0,0.0,0.0,0.0,0.0,0.0,0.0,0.0,0.0,0.0,0.0,0.0,0.0,0.0,0.0,0.0,0.0,0.0,0.0,0.0,0.0,0.0,0.0,0.0,0.0,0.0,0.0,0.0,0.0,0.0,0.0,0.0,0.0,0.0,0.0,0.0,0.0,0.0,0.0,0.0,0.0,0.0,0.0,0.0,0.0,0.0,0.0,0.0,0.0,0.0,0.0,0.0,0.0,0.0,0.0,0.0,0.0,0.0,0.0,0.0,0.0,0.0,0.0,0.0,0.0,0.0,0.0,0.0,0.0,0.0,0.0,0.0,0.0,0.0,0.0,0.0,0.0,0.0,0.0,0.0,0.0,0.0,0.0,0.0,0.0,0.0,0.0,0.0,0.0,0.0,0.0,0.0,0.0,0.0,0.0,0.0,0.0,0.0,0.0,0.0,0.0,0.0,0.0,0.0,0.0,0.0,0.0,0.0,0.0,0.0,0.0,0.0,0.0,0.0,0.0,0.0,0.0,0.0,0.0,0.0,0.0,0.0,0.0,0.0,0.0,0.0,0.0,0.0,0.0,0.0,0.0,0.0,0.0,0.0,0.0,0.0,0.0,0.0,0.0,0.0,0.0,0.0,0.0,0.0,0.0,0.0,0.0,0.0,0.0,0.0,0.0,0.0,0.0,0.0,0.0,0.0,0.0,0.0,0.0,0.0,0.0,0.0,0.0,0.0,0.0,0.0,0.0,0.0,0.0,0.0,0.0,0.0,0.0,0.0,0.0,0.0,0.0,0.0,0.0,0.0,0.0,0.0,0.0,0.0,0.0,0.0,0.0,0.0,0.0,0.0,0.0,0.0,0.0,0.0,0.0,0.0,0.0,0.0,0.0,0.0,0.0,0.0,0.0,0.0,0.0,0.0,0.0,0.0,0.0,0.0,0.0,0.0,0.0,0.0,0.0,0.0,0.0,0.0,0.0,0.0,0.0,0.0,0.0,0.0,0.0,0.0,0.0,0.0,0.0,0.0,0.0,0.0,0.0,0.0,0.0,0.0,0.0,0.0,0.0,0.0,0.0,0.0,0.0,0.0,0.0,0.0,0.0,0.0,0.0,0.0,0.0,0.0,0.0,0.0,0.0,0.0,0.0,0.0,0.0,0.0,0.0,0.0,0.0,0.0,0.0,0.0,0.0,0.0,0.0,0.0,0.0,0.0,0.0,0.0,0.0,0.0,0.0,0.0,0.0,0.0,0.0,0.0,0.0,0.0,0.0,0.0,0.0,0.0,0.0,0.0,0.0,0.0,0.0,0.0,0.0,0.0,0.0,0.0,0.0,0.0,0.0,0.0,0.0,0.0,0.0,0.0,0.0,0.0,0.0,0.0,0.0,0.0,0.0,0.0,0.0,0.0,0.0,0.0,0.0,0.0,0.0,0.0,0.0,0.0,0.0,0.0,0.0,0.0,0.0,0.0,0.0,0.0,0.0,0.0,0.0,0.0,0.0,0.0,0.0,0.0,0.0,0.0,0.0,0.0,0.0,0.0,0.0,0.0,0.0,0.0,0.0,0.0,0.0,0.0,0.0,0.0,0.0,0.0,0.0,0.0,0.0,0.0,0.0,0.0,0.0,0.0,0.0,0.0,0.0,0.0,0.0,0.0,0.0,0.0,0.0,0.0,0.0,0.0,0.0,0.0,0.0,0.0,0.0,0.0,0.0,0.0,0.0,0.0,0.0,0.0,0.0,0.0,0.0,0.0,0.0,0.0,0.0,0.0,0.0,0.0,0.0,0.0,0.0,0.0,0.0,0.0,0.0,0.0,0.0,0.0,0.0,0.0,0.0,0.0,0.0,0.0,0.0,0.0,0.0,0.0,0.0,0.0,0.0,0.0,0.0,0.0,0.0,0.0,0.0,0.0,0.0,0.0,0.0,0.0,0.0,0.0,0.0,0.0,0.0,0.0,0.0,0.0,0.0,0.0,0.0,0.0,0.0,0.0,0.0,0.0,0.0,0.0,0.0,0.0,0.0,0.0,0.0,0.0,0.0,0.0,0.0,0.0,0.0,0.0,0.0,0.0,0.0,0.0,0.0,0.0,0.0,0.0,0.0,0.0,0.0,0.0,0.0,0.0,0.0,0.0,0.0,0.0,0.0,0.0,0.0,0.0,0.0,0.0,0.0,0.0,0.0,0.0,0.0,0.0,0.0,0.0,0.0,0.0,0.0,0.0,0.0,0.0,0.0,0.0,0.0,0.0,0.0,0.0,0.0,0.0,0.0,0.0,0.0,0.0,0.0,0.0,0.0,0.0,0.0,0.0,0.0,0.0,0.0,0.0,0.0,0.0,0.0,0.0,0.0,0.0,0.0,0.0,0.0,0.0,0.0,0.0,0.0,0.0,0.0,0.0,0.0,0.0,0.0,0.0,0.0,0.0,0.0,0.0,0.0,0.0,0.0,0.0,0.0,0.0,0.0,0.0,0.0,0.0,0.0,0.0,0.0,0.0,0.0,0.0,0.0,0.0,0.0,0.0,0.0,0.0,0.0,0.0,0.0,0.0,0.0,0.0,0.0,0.0,0.0,0.0,0.0,0.0,0.0,0.0,0.0,0.0,0.0,0.0,0.0,0.0,0.0,0.0,0.0,0.0,0.0,0.0,0.0,0.0,0.0,0.0,0.0,0.0,0.0,0.0,0.0,0.0,0.0,0.0,0.0,0.0,0.0,0.0,0.0,0.0,0.0,0.0,0.0]}],                        {\"legend\":{\"tracegroupgap\":0},\"margin\":{\"t\":60},\"template\":{\"data\":{\"barpolar\":[{\"marker\":{\"line\":{\"color\":\"#E5ECF6\",\"width\":0.5},\"pattern\":{\"fillmode\":\"overlay\",\"size\":10,\"solidity\":0.2}},\"type\":\"barpolar\"}],\"bar\":[{\"error_x\":{\"color\":\"#2a3f5f\"},\"error_y\":{\"color\":\"#2a3f5f\"},\"marker\":{\"line\":{\"color\":\"#E5ECF6\",\"width\":0.5},\"pattern\":{\"fillmode\":\"overlay\",\"size\":10,\"solidity\":0.2}},\"type\":\"bar\"}],\"carpet\":[{\"aaxis\":{\"endlinecolor\":\"#2a3f5f\",\"gridcolor\":\"white\",\"linecolor\":\"white\",\"minorgridcolor\":\"white\",\"startlinecolor\":\"#2a3f5f\"},\"baxis\":{\"endlinecolor\":\"#2a3f5f\",\"gridcolor\":\"white\",\"linecolor\":\"white\",\"minorgridcolor\":\"white\",\"startlinecolor\":\"#2a3f5f\"},\"type\":\"carpet\"}],\"choropleth\":[{\"colorbar\":{\"outlinewidth\":0,\"ticks\":\"\"},\"type\":\"choropleth\"}],\"contourcarpet\":[{\"colorbar\":{\"outlinewidth\":0,\"ticks\":\"\"},\"type\":\"contourcarpet\"}],\"contour\":[{\"colorbar\":{\"outlinewidth\":0,\"ticks\":\"\"},\"colorscale\":[[0.0,\"#0d0887\"],[0.1111111111111111,\"#46039f\"],[0.2222222222222222,\"#7201a8\"],[0.3333333333333333,\"#9c179e\"],[0.4444444444444444,\"#bd3786\"],[0.5555555555555556,\"#d8576b\"],[0.6666666666666666,\"#ed7953\"],[0.7777777777777778,\"#fb9f3a\"],[0.8888888888888888,\"#fdca26\"],[1.0,\"#f0f921\"]],\"type\":\"contour\"}],\"heatmapgl\":[{\"colorbar\":{\"outlinewidth\":0,\"ticks\":\"\"},\"colorscale\":[[0.0,\"#0d0887\"],[0.1111111111111111,\"#46039f\"],[0.2222222222222222,\"#7201a8\"],[0.3333333333333333,\"#9c179e\"],[0.4444444444444444,\"#bd3786\"],[0.5555555555555556,\"#d8576b\"],[0.6666666666666666,\"#ed7953\"],[0.7777777777777778,\"#fb9f3a\"],[0.8888888888888888,\"#fdca26\"],[1.0,\"#f0f921\"]],\"type\":\"heatmapgl\"}],\"heatmap\":[{\"colorbar\":{\"outlinewidth\":0,\"ticks\":\"\"},\"colorscale\":[[0.0,\"#0d0887\"],[0.1111111111111111,\"#46039f\"],[0.2222222222222222,\"#7201a8\"],[0.3333333333333333,\"#9c179e\"],[0.4444444444444444,\"#bd3786\"],[0.5555555555555556,\"#d8576b\"],[0.6666666666666666,\"#ed7953\"],[0.7777777777777778,\"#fb9f3a\"],[0.8888888888888888,\"#fdca26\"],[1.0,\"#f0f921\"]],\"type\":\"heatmap\"}],\"histogram2dcontour\":[{\"colorbar\":{\"outlinewidth\":0,\"ticks\":\"\"},\"colorscale\":[[0.0,\"#0d0887\"],[0.1111111111111111,\"#46039f\"],[0.2222222222222222,\"#7201a8\"],[0.3333333333333333,\"#9c179e\"],[0.4444444444444444,\"#bd3786\"],[0.5555555555555556,\"#d8576b\"],[0.6666666666666666,\"#ed7953\"],[0.7777777777777778,\"#fb9f3a\"],[0.8888888888888888,\"#fdca26\"],[1.0,\"#f0f921\"]],\"type\":\"histogram2dcontour\"}],\"histogram2d\":[{\"colorbar\":{\"outlinewidth\":0,\"ticks\":\"\"},\"colorscale\":[[0.0,\"#0d0887\"],[0.1111111111111111,\"#46039f\"],[0.2222222222222222,\"#7201a8\"],[0.3333333333333333,\"#9c179e\"],[0.4444444444444444,\"#bd3786\"],[0.5555555555555556,\"#d8576b\"],[0.6666666666666666,\"#ed7953\"],[0.7777777777777778,\"#fb9f3a\"],[0.8888888888888888,\"#fdca26\"],[1.0,\"#f0f921\"]],\"type\":\"histogram2d\"}],\"histogram\":[{\"marker\":{\"pattern\":{\"fillmode\":\"overlay\",\"size\":10,\"solidity\":0.2}},\"type\":\"histogram\"}],\"mesh3d\":[{\"colorbar\":{\"outlinewidth\":0,\"ticks\":\"\"},\"type\":\"mesh3d\"}],\"parcoords\":[{\"line\":{\"colorbar\":{\"outlinewidth\":0,\"ticks\":\"\"}},\"type\":\"parcoords\"}],\"pie\":[{\"automargin\":true,\"type\":\"pie\"}],\"scatter3d\":[{\"line\":{\"colorbar\":{\"outlinewidth\":0,\"ticks\":\"\"}},\"marker\":{\"colorbar\":{\"outlinewidth\":0,\"ticks\":\"\"}},\"type\":\"scatter3d\"}],\"scattercarpet\":[{\"marker\":{\"colorbar\":{\"outlinewidth\":0,\"ticks\":\"\"}},\"type\":\"scattercarpet\"}],\"scattergeo\":[{\"marker\":{\"colorbar\":{\"outlinewidth\":0,\"ticks\":\"\"}},\"type\":\"scattergeo\"}],\"scattergl\":[{\"marker\":{\"colorbar\":{\"outlinewidth\":0,\"ticks\":\"\"}},\"type\":\"scattergl\"}],\"scattermapbox\":[{\"marker\":{\"colorbar\":{\"outlinewidth\":0,\"ticks\":\"\"}},\"type\":\"scattermapbox\"}],\"scatterpolargl\":[{\"marker\":{\"colorbar\":{\"outlinewidth\":0,\"ticks\":\"\"}},\"type\":\"scatterpolargl\"}],\"scatterpolar\":[{\"marker\":{\"colorbar\":{\"outlinewidth\":0,\"ticks\":\"\"}},\"type\":\"scatterpolar\"}],\"scatter\":[{\"fillpattern\":{\"fillmode\":\"overlay\",\"size\":10,\"solidity\":0.2},\"type\":\"scatter\"}],\"scatterternary\":[{\"marker\":{\"colorbar\":{\"outlinewidth\":0,\"ticks\":\"\"}},\"type\":\"scatterternary\"}],\"surface\":[{\"colorbar\":{\"outlinewidth\":0,\"ticks\":\"\"},\"colorscale\":[[0.0,\"#0d0887\"],[0.1111111111111111,\"#46039f\"],[0.2222222222222222,\"#7201a8\"],[0.3333333333333333,\"#9c179e\"],[0.4444444444444444,\"#bd3786\"],[0.5555555555555556,\"#d8576b\"],[0.6666666666666666,\"#ed7953\"],[0.7777777777777778,\"#fb9f3a\"],[0.8888888888888888,\"#fdca26\"],[1.0,\"#f0f921\"]],\"type\":\"surface\"}],\"table\":[{\"cells\":{\"fill\":{\"color\":\"#EBF0F8\"},\"line\":{\"color\":\"white\"}},\"header\":{\"fill\":{\"color\":\"#C8D4E3\"},\"line\":{\"color\":\"white\"}},\"type\":\"table\"}]},\"layout\":{\"annotationdefaults\":{\"arrowcolor\":\"#2a3f5f\",\"arrowhead\":0,\"arrowwidth\":1},\"autotypenumbers\":\"strict\",\"coloraxis\":{\"colorbar\":{\"outlinewidth\":0,\"ticks\":\"\"}},\"colorscale\":{\"diverging\":[[0,\"#8e0152\"],[0.1,\"#c51b7d\"],[0.2,\"#de77ae\"],[0.3,\"#f1b6da\"],[0.4,\"#fde0ef\"],[0.5,\"#f7f7f7\"],[0.6,\"#e6f5d0\"],[0.7,\"#b8e186\"],[0.8,\"#7fbc41\"],[0.9,\"#4d9221\"],[1,\"#276419\"]],\"sequential\":[[0.0,\"#0d0887\"],[0.1111111111111111,\"#46039f\"],[0.2222222222222222,\"#7201a8\"],[0.3333333333333333,\"#9c179e\"],[0.4444444444444444,\"#bd3786\"],[0.5555555555555556,\"#d8576b\"],[0.6666666666666666,\"#ed7953\"],[0.7777777777777778,\"#fb9f3a\"],[0.8888888888888888,\"#fdca26\"],[1.0,\"#f0f921\"]],\"sequentialminus\":[[0.0,\"#0d0887\"],[0.1111111111111111,\"#46039f\"],[0.2222222222222222,\"#7201a8\"],[0.3333333333333333,\"#9c179e\"],[0.4444444444444444,\"#bd3786\"],[0.5555555555555556,\"#d8576b\"],[0.6666666666666666,\"#ed7953\"],[0.7777777777777778,\"#fb9f3a\"],[0.8888888888888888,\"#fdca26\"],[1.0,\"#f0f921\"]]},\"colorway\":[\"#636efa\",\"#EF553B\",\"#00cc96\",\"#ab63fa\",\"#FFA15A\",\"#19d3f3\",\"#FF6692\",\"#B6E880\",\"#FF97FF\",\"#FECB52\"],\"font\":{\"color\":\"#2a3f5f\"},\"geo\":{\"bgcolor\":\"white\",\"lakecolor\":\"white\",\"landcolor\":\"#E5ECF6\",\"showlakes\":true,\"showland\":true,\"subunitcolor\":\"white\"},\"hoverlabel\":{\"align\":\"left\"},\"hovermode\":\"closest\",\"mapbox\":{\"style\":\"light\"},\"paper_bgcolor\":\"white\",\"plot_bgcolor\":\"#E5ECF6\",\"polar\":{\"angularaxis\":{\"gridcolor\":\"white\",\"linecolor\":\"white\",\"ticks\":\"\"},\"bgcolor\":\"#E5ECF6\",\"radialaxis\":{\"gridcolor\":\"white\",\"linecolor\":\"white\",\"ticks\":\"\"}},\"scene\":{\"xaxis\":{\"backgroundcolor\":\"#E5ECF6\",\"gridcolor\":\"white\",\"gridwidth\":2,\"linecolor\":\"white\",\"showbackground\":true,\"ticks\":\"\",\"zerolinecolor\":\"white\"},\"yaxis\":{\"backgroundcolor\":\"#E5ECF6\",\"gridcolor\":\"white\",\"gridwidth\":2,\"linecolor\":\"white\",\"showbackground\":true,\"ticks\":\"\",\"zerolinecolor\":\"white\"},\"zaxis\":{\"backgroundcolor\":\"#E5ECF6\",\"gridcolor\":\"white\",\"gridwidth\":2,\"linecolor\":\"white\",\"showbackground\":true,\"ticks\":\"\",\"zerolinecolor\":\"white\"}},\"shapedefaults\":{\"line\":{\"color\":\"#2a3f5f\"}},\"ternary\":{\"aaxis\":{\"gridcolor\":\"white\",\"linecolor\":\"white\",\"ticks\":\"\"},\"baxis\":{\"gridcolor\":\"white\",\"linecolor\":\"white\",\"ticks\":\"\"},\"bgcolor\":\"#E5ECF6\",\"caxis\":{\"gridcolor\":\"white\",\"linecolor\":\"white\",\"ticks\":\"\"}},\"title\":{\"x\":0.05},\"xaxis\":{\"automargin\":true,\"gridcolor\":\"white\",\"linecolor\":\"white\",\"ticks\":\"\",\"title\":{\"standoff\":15},\"zerolinecolor\":\"white\",\"zerolinewidth\":2},\"yaxis\":{\"automargin\":true,\"gridcolor\":\"white\",\"linecolor\":\"white\",\"ticks\":\"\",\"title\":{\"standoff\":15},\"zerolinecolor\":\"white\",\"zerolinewidth\":2}}},\"xaxis\":{\"anchor\":\"y\",\"domain\":[0.0,1.0],\"title\":{\"text\":\"x\"},\"range\":[-60,60]},\"yaxis\":{\"anchor\":\"x\",\"domain\":[0.0,1.0],\"title\":{\"text\":\"y\"},\"range\":[-60,60]},\"width\":510,\"height\":500,\"showlegend\":false,\"shapes\":[{\"line\":{\"color\":\"black\"},\"type\":\"circle\",\"x0\":-16,\"x1\":16,\"xref\":\"x\",\"y0\":-16,\"y1\":16,\"yref\":\"y\"},{\"line\":{\"color\":\"black\"},\"type\":\"circle\",\"x0\":-58,\"x1\":58,\"xref\":\"x\",\"y0\":-58,\"y1\":58,\"yref\":\"y\"}]},                        {\"responsive\": true}                    ).then(function(){\n                            \nvar gd = document.getElementById('9b4a1223-9793-4ca1-bc66-34a1c0179d9e');\nvar x = new MutationObserver(function (mutations, observer) {{\n        var display = window.getComputedStyle(gd).display;\n        if (!display || display === 'none') {{\n            console.log([gd, 'removed!']);\n            Plotly.purge(gd);\n            observer.disconnect();\n        }}\n}});\n\n// Listen for the removal of the full notebook cells\nvar notebookContainer = gd.closest('#notebook-container');\nif (notebookContainer) {{\n    x.observe(notebookContainer, {childList: true});\n}}\n\n// Listen for the clearing of the current output cell\nvar outputEl = gd.closest('.output');\nif (outputEl) {{\n    x.observe(outputEl, {childList: true});\n}}\n\n                        })                };                            </script>        </div>\n</body>\n</html>"
                },
                "metadata": {}
              }
            ]
          }
        },
        "2a23e9b76228467e9be68960e0506f46": {
          "model_module": "@jupyter-widgets/base",
          "model_name": "LayoutModel",
          "model_module_version": "1.2.0",
          "state": {
            "_model_module": "@jupyter-widgets/base",
            "_model_module_version": "1.2.0",
            "_model_name": "LayoutModel",
            "_view_count": null,
            "_view_module": "@jupyter-widgets/base",
            "_view_module_version": "1.2.0",
            "_view_name": "LayoutView",
            "align_content": null,
            "align_items": null,
            "align_self": null,
            "border": null,
            "bottom": null,
            "display": null,
            "flex": null,
            "flex_flow": null,
            "grid_area": null,
            "grid_auto_columns": null,
            "grid_auto_flow": null,
            "grid_auto_rows": null,
            "grid_column": null,
            "grid_gap": null,
            "grid_row": null,
            "grid_template_areas": null,
            "grid_template_columns": null,
            "grid_template_rows": null,
            "height": null,
            "justify_content": null,
            "justify_items": null,
            "left": null,
            "margin": null,
            "max_height": null,
            "max_width": null,
            "min_height": null,
            "min_width": null,
            "object_fit": null,
            "object_position": null,
            "order": null,
            "overflow": null,
            "overflow_x": null,
            "overflow_y": null,
            "padding": null,
            "right": null,
            "top": null,
            "visibility": null,
            "width": null
          }
        },
        "2ab052f207e6478091df14f5af98d9b1": {
          "model_module": "@jupyter-widgets/controls",
          "model_name": "FloatSliderModel",
          "model_module_version": "1.5.0",
          "state": {
            "_dom_classes": [],
            "_model_module": "@jupyter-widgets/controls",
            "_model_module_version": "1.5.0",
            "_model_name": "FloatSliderModel",
            "_view_count": null,
            "_view_module": "@jupyter-widgets/controls",
            "_view_module_version": "1.5.0",
            "_view_name": "FloatSliderView",
            "continuous_update": true,
            "description": "z0",
            "description_tooltip": null,
            "disabled": false,
            "layout": "IPY_MODEL_45a3f99337d948eb86b048ed80b367f3",
            "max": 150,
            "min": 0,
            "orientation": "horizontal",
            "readout": true,
            "readout_format": ".2f",
            "step": 0.1,
            "style": "IPY_MODEL_b708c37958a147ac9cb9d552c01a6dd5",
            "value": 75
          }
        },
        "1adaf379f9a94c40a7f51fee3f2371db": {
          "model_module": "@jupyter-widgets/controls",
          "model_name": "FloatSliderModel",
          "model_module_version": "1.5.0",
          "state": {
            "_dom_classes": [],
            "_model_module": "@jupyter-widgets/controls",
            "_model_module_version": "1.5.0",
            "_model_name": "FloatSliderModel",
            "_view_count": null,
            "_view_module": "@jupyter-widgets/controls",
            "_view_module_version": "1.5.0",
            "_view_name": "FloatSliderView",
            "continuous_update": true,
            "description": "px",
            "description_tooltip": null,
            "disabled": false,
            "layout": "IPY_MODEL_b15532abfae24926918ca05fe5c98b0d",
            "max": 1,
            "min": -1,
            "orientation": "horizontal",
            "readout": true,
            "readout_format": ".2f",
            "step": 0.0001,
            "style": "IPY_MODEL_b22654b4e1674075acd3ea4fce09af22",
            "value": 0
          }
        },
        "e62830cdc35643a8a9da3648495277f9": {
          "model_module": "@jupyter-widgets/controls",
          "model_name": "FloatSliderModel",
          "model_module_version": "1.5.0",
          "state": {
            "_dom_classes": [],
            "_model_module": "@jupyter-widgets/controls",
            "_model_module_version": "1.5.0",
            "_model_name": "FloatSliderModel",
            "_view_count": null,
            "_view_module": "@jupyter-widgets/controls",
            "_view_module_version": "1.5.0",
            "_view_name": "FloatSliderView",
            "continuous_update": true,
            "description": "py",
            "description_tooltip": null,
            "disabled": false,
            "layout": "IPY_MODEL_c67732ebcf8b4698b2573af7f511de8b",
            "max": 1,
            "min": -1,
            "orientation": "horizontal",
            "readout": true,
            "readout_format": ".2f",
            "step": 0.0001,
            "style": "IPY_MODEL_f34be6ee159f4c50938609c29f22acd4",
            "value": 0
          }
        },
        "3cd54b86ec0d409c8f4a7a8f350d21bd": {
          "model_module": "@jupyter-widgets/controls",
          "model_name": "IntSliderModel",
          "model_module_version": "1.5.0",
          "state": {
            "_dom_classes": [],
            "_model_module": "@jupyter-widgets/controls",
            "_model_module_version": "1.5.0",
            "_model_name": "IntSliderModel",
            "_view_count": null,
            "_view_module": "@jupyter-widgets/controls",
            "_view_module_version": "1.5.0",
            "_view_name": "IntSliderView",
            "continuous_update": true,
            "description": "charge",
            "description_tooltip": null,
            "disabled": false,
            "layout": "IPY_MODEL_39db06f210cc4fbe8855efa14236c2cb",
            "max": 1,
            "min": -1,
            "orientation": "horizontal",
            "readout": true,
            "readout_format": "d",
            "step": 2,
            "style": "IPY_MODEL_e3b6cee416564312b3bb0d29ef4e937f",
            "value": 1
          }
        },
        "f1af3f670f6141fcabe3a8334e2a8d5e": {
          "model_module": "@jupyter-widgets/controls",
          "model_name": "FloatSliderModel",
          "model_module_version": "1.5.0",
          "state": {
            "_dom_classes": [],
            "_model_module": "@jupyter-widgets/controls",
            "_model_module_version": "1.5.0",
            "_model_name": "FloatSliderModel",
            "_view_count": null,
            "_view_module": "@jupyter-widgets/controls",
            "_view_module_version": "1.5.0",
            "_view_name": "FloatSliderView",
            "continuous_update": true,
            "description": "t_max",
            "description_tooltip": null,
            "disabled": false,
            "layout": "IPY_MODEL_d8784908a9b84dc7b4b32b24cc7f9dcf",
            "max": 6.283185307179586,
            "min": 0,
            "orientation": "horizontal",
            "readout": true,
            "readout_format": ".2f",
            "step": 0.0001,
            "style": "IPY_MODEL_6698ad56b4874b6f9a701903878c3f6d",
            "value": 3.1416000000000004
          }
        },
        "5a4640c919754b07be81fc176116c210": {
          "model_module": "@jupyter-widgets/base",
          "model_name": "LayoutModel",
          "model_module_version": "1.2.0",
          "state": {
            "_model_module": "@jupyter-widgets/base",
            "_model_module_version": "1.2.0",
            "_model_name": "LayoutModel",
            "_view_count": null,
            "_view_module": "@jupyter-widgets/base",
            "_view_module_version": "1.2.0",
            "_view_name": "LayoutView",
            "align_content": null,
            "align_items": null,
            "align_self": null,
            "border": null,
            "bottom": null,
            "display": null,
            "flex": null,
            "flex_flow": "row wrap",
            "grid_area": null,
            "grid_auto_columns": null,
            "grid_auto_flow": null,
            "grid_auto_rows": null,
            "grid_column": null,
            "grid_gap": null,
            "grid_row": null,
            "grid_template_areas": null,
            "grid_template_columns": null,
            "grid_template_rows": null,
            "height": null,
            "justify_content": null,
            "justify_items": null,
            "left": null,
            "margin": null,
            "max_height": null,
            "max_width": null,
            "min_height": null,
            "min_width": null,
            "object_fit": null,
            "object_position": null,
            "order": null,
            "overflow": null,
            "overflow_x": null,
            "overflow_y": null,
            "padding": null,
            "right": null,
            "top": null,
            "visibility": null,
            "width": null
          }
        },
        "82581a1e54b44cf89f901bc894acc6ff": {
          "model_module": "@jupyter-widgets/base",
          "model_name": "LayoutModel",
          "model_module_version": "1.2.0",
          "state": {
            "_model_module": "@jupyter-widgets/base",
            "_model_module_version": "1.2.0",
            "_model_name": "LayoutModel",
            "_view_count": null,
            "_view_module": "@jupyter-widgets/base",
            "_view_module_version": "1.2.0",
            "_view_name": "LayoutView",
            "align_content": null,
            "align_items": null,
            "align_self": null,
            "border": null,
            "bottom": null,
            "display": null,
            "flex": null,
            "flex_flow": null,
            "grid_area": null,
            "grid_auto_columns": null,
            "grid_auto_flow": null,
            "grid_auto_rows": null,
            "grid_column": null,
            "grid_gap": null,
            "grid_row": null,
            "grid_template_areas": null,
            "grid_template_columns": null,
            "grid_template_rows": null,
            "height": null,
            "justify_content": null,
            "justify_items": null,
            "left": null,
            "margin": null,
            "max_height": null,
            "max_width": null,
            "min_height": null,
            "min_width": null,
            "object_fit": null,
            "object_position": null,
            "order": null,
            "overflow": null,
            "overflow_x": null,
            "overflow_y": null,
            "padding": null,
            "right": null,
            "top": null,
            "visibility": null,
            "width": null
          }
        },
        "45a3f99337d948eb86b048ed80b367f3": {
          "model_module": "@jupyter-widgets/base",
          "model_name": "LayoutModel",
          "model_module_version": "1.2.0",
          "state": {
            "_model_module": "@jupyter-widgets/base",
            "_model_module_version": "1.2.0",
            "_model_name": "LayoutModel",
            "_view_count": null,
            "_view_module": "@jupyter-widgets/base",
            "_view_module_version": "1.2.0",
            "_view_name": "LayoutView",
            "align_content": null,
            "align_items": null,
            "align_self": null,
            "border": null,
            "bottom": null,
            "display": null,
            "flex": null,
            "flex_flow": null,
            "grid_area": null,
            "grid_auto_columns": null,
            "grid_auto_flow": null,
            "grid_auto_rows": null,
            "grid_column": null,
            "grid_gap": null,
            "grid_row": null,
            "grid_template_areas": null,
            "grid_template_columns": null,
            "grid_template_rows": null,
            "height": null,
            "justify_content": null,
            "justify_items": null,
            "left": null,
            "margin": null,
            "max_height": null,
            "max_width": null,
            "min_height": null,
            "min_width": null,
            "object_fit": null,
            "object_position": null,
            "order": null,
            "overflow": null,
            "overflow_x": null,
            "overflow_y": null,
            "padding": null,
            "right": null,
            "top": null,
            "visibility": null,
            "width": null
          }
        },
        "b708c37958a147ac9cb9d552c01a6dd5": {
          "model_module": "@jupyter-widgets/controls",
          "model_name": "SliderStyleModel",
          "model_module_version": "1.5.0",
          "state": {
            "_model_module": "@jupyter-widgets/controls",
            "_model_module_version": "1.5.0",
            "_model_name": "SliderStyleModel",
            "_view_count": null,
            "_view_module": "@jupyter-widgets/base",
            "_view_module_version": "1.2.0",
            "_view_name": "StyleView",
            "description_width": "",
            "handle_color": null
          }
        },
        "b15532abfae24926918ca05fe5c98b0d": {
          "model_module": "@jupyter-widgets/base",
          "model_name": "LayoutModel",
          "model_module_version": "1.2.0",
          "state": {
            "_model_module": "@jupyter-widgets/base",
            "_model_module_version": "1.2.0",
            "_model_name": "LayoutModel",
            "_view_count": null,
            "_view_module": "@jupyter-widgets/base",
            "_view_module_version": "1.2.0",
            "_view_name": "LayoutView",
            "align_content": null,
            "align_items": null,
            "align_self": null,
            "border": null,
            "bottom": null,
            "display": null,
            "flex": null,
            "flex_flow": null,
            "grid_area": null,
            "grid_auto_columns": null,
            "grid_auto_flow": null,
            "grid_auto_rows": null,
            "grid_column": null,
            "grid_gap": null,
            "grid_row": null,
            "grid_template_areas": null,
            "grid_template_columns": null,
            "grid_template_rows": null,
            "height": null,
            "justify_content": null,
            "justify_items": null,
            "left": null,
            "margin": null,
            "max_height": null,
            "max_width": null,
            "min_height": null,
            "min_width": null,
            "object_fit": null,
            "object_position": null,
            "order": null,
            "overflow": null,
            "overflow_x": null,
            "overflow_y": null,
            "padding": null,
            "right": null,
            "top": null,
            "visibility": null,
            "width": null
          }
        },
        "b22654b4e1674075acd3ea4fce09af22": {
          "model_module": "@jupyter-widgets/controls",
          "model_name": "SliderStyleModel",
          "model_module_version": "1.5.0",
          "state": {
            "_model_module": "@jupyter-widgets/controls",
            "_model_module_version": "1.5.0",
            "_model_name": "SliderStyleModel",
            "_view_count": null,
            "_view_module": "@jupyter-widgets/base",
            "_view_module_version": "1.2.0",
            "_view_name": "StyleView",
            "description_width": "",
            "handle_color": null
          }
        },
        "c67732ebcf8b4698b2573af7f511de8b": {
          "model_module": "@jupyter-widgets/base",
          "model_name": "LayoutModel",
          "model_module_version": "1.2.0",
          "state": {
            "_model_module": "@jupyter-widgets/base",
            "_model_module_version": "1.2.0",
            "_model_name": "LayoutModel",
            "_view_count": null,
            "_view_module": "@jupyter-widgets/base",
            "_view_module_version": "1.2.0",
            "_view_name": "LayoutView",
            "align_content": null,
            "align_items": null,
            "align_self": null,
            "border": null,
            "bottom": null,
            "display": null,
            "flex": null,
            "flex_flow": null,
            "grid_area": null,
            "grid_auto_columns": null,
            "grid_auto_flow": null,
            "grid_auto_rows": null,
            "grid_column": null,
            "grid_gap": null,
            "grid_row": null,
            "grid_template_areas": null,
            "grid_template_columns": null,
            "grid_template_rows": null,
            "height": null,
            "justify_content": null,
            "justify_items": null,
            "left": null,
            "margin": null,
            "max_height": null,
            "max_width": null,
            "min_height": null,
            "min_width": null,
            "object_fit": null,
            "object_position": null,
            "order": null,
            "overflow": null,
            "overflow_x": null,
            "overflow_y": null,
            "padding": null,
            "right": null,
            "top": null,
            "visibility": null,
            "width": null
          }
        },
        "f34be6ee159f4c50938609c29f22acd4": {
          "model_module": "@jupyter-widgets/controls",
          "model_name": "SliderStyleModel",
          "model_module_version": "1.5.0",
          "state": {
            "_model_module": "@jupyter-widgets/controls",
            "_model_module_version": "1.5.0",
            "_model_name": "SliderStyleModel",
            "_view_count": null,
            "_view_module": "@jupyter-widgets/base",
            "_view_module_version": "1.2.0",
            "_view_name": "StyleView",
            "description_width": "",
            "handle_color": null
          }
        },
        "39db06f210cc4fbe8855efa14236c2cb": {
          "model_module": "@jupyter-widgets/base",
          "model_name": "LayoutModel",
          "model_module_version": "1.2.0",
          "state": {
            "_model_module": "@jupyter-widgets/base",
            "_model_module_version": "1.2.0",
            "_model_name": "LayoutModel",
            "_view_count": null,
            "_view_module": "@jupyter-widgets/base",
            "_view_module_version": "1.2.0",
            "_view_name": "LayoutView",
            "align_content": null,
            "align_items": null,
            "align_self": null,
            "border": null,
            "bottom": null,
            "display": null,
            "flex": null,
            "flex_flow": null,
            "grid_area": null,
            "grid_auto_columns": null,
            "grid_auto_flow": null,
            "grid_auto_rows": null,
            "grid_column": null,
            "grid_gap": null,
            "grid_row": null,
            "grid_template_areas": null,
            "grid_template_columns": null,
            "grid_template_rows": null,
            "height": null,
            "justify_content": null,
            "justify_items": null,
            "left": null,
            "margin": null,
            "max_height": null,
            "max_width": null,
            "min_height": null,
            "min_width": null,
            "object_fit": null,
            "object_position": null,
            "order": null,
            "overflow": null,
            "overflow_x": null,
            "overflow_y": null,
            "padding": null,
            "right": null,
            "top": null,
            "visibility": null,
            "width": null
          }
        },
        "e3b6cee416564312b3bb0d29ef4e937f": {
          "model_module": "@jupyter-widgets/controls",
          "model_name": "SliderStyleModel",
          "model_module_version": "1.5.0",
          "state": {
            "_model_module": "@jupyter-widgets/controls",
            "_model_module_version": "1.5.0",
            "_model_name": "SliderStyleModel",
            "_view_count": null,
            "_view_module": "@jupyter-widgets/base",
            "_view_module_version": "1.2.0",
            "_view_name": "StyleView",
            "description_width": "",
            "handle_color": null
          }
        },
        "d8784908a9b84dc7b4b32b24cc7f9dcf": {
          "model_module": "@jupyter-widgets/base",
          "model_name": "LayoutModel",
          "model_module_version": "1.2.0",
          "state": {
            "_model_module": "@jupyter-widgets/base",
            "_model_module_version": "1.2.0",
            "_model_name": "LayoutModel",
            "_view_count": null,
            "_view_module": "@jupyter-widgets/base",
            "_view_module_version": "1.2.0",
            "_view_name": "LayoutView",
            "align_content": null,
            "align_items": null,
            "align_self": null,
            "border": null,
            "bottom": null,
            "display": null,
            "flex": null,
            "flex_flow": null,
            "grid_area": null,
            "grid_auto_columns": null,
            "grid_auto_flow": null,
            "grid_auto_rows": null,
            "grid_column": null,
            "grid_gap": null,
            "grid_row": null,
            "grid_template_areas": null,
            "grid_template_columns": null,
            "grid_template_rows": null,
            "height": null,
            "justify_content": null,
            "justify_items": null,
            "left": null,
            "margin": null,
            "max_height": null,
            "max_width": null,
            "min_height": null,
            "min_width": null,
            "object_fit": null,
            "object_position": null,
            "order": null,
            "overflow": null,
            "overflow_x": null,
            "overflow_y": null,
            "padding": null,
            "right": null,
            "top": null,
            "visibility": null,
            "width": null
          }
        },
        "6698ad56b4874b6f9a701903878c3f6d": {
          "model_module": "@jupyter-widgets/controls",
          "model_name": "SliderStyleModel",
          "model_module_version": "1.5.0",
          "state": {
            "_model_module": "@jupyter-widgets/controls",
            "_model_module_version": "1.5.0",
            "_model_name": "SliderStyleModel",
            "_view_count": null,
            "_view_module": "@jupyter-widgets/base",
            "_view_module_version": "1.2.0",
            "_view_name": "StyleView",
            "description_width": "",
            "handle_color": null
          }
        },
        "8ea46b17821f4f88a87bccf907a69db3": {
          "model_module": "@jupyter-widgets/controls",
          "model_name": "VBoxModel",
          "model_module_version": "1.5.0",
          "state": {
            "_dom_classes": [],
            "_model_module": "@jupyter-widgets/controls",
            "_model_module_version": "1.5.0",
            "_model_name": "VBoxModel",
            "_view_count": null,
            "_view_module": "@jupyter-widgets/controls",
            "_view_module_version": "1.5.0",
            "_view_name": "VBoxView",
            "box_style": "",
            "children": [
              "IPY_MODEL_bc84f6d25ec648cba7d80a266e7db4bb",
              "IPY_MODEL_11e3ada30bd043c59f3a7e866aecc6fa"
            ],
            "layout": "IPY_MODEL_47ac19ec31b64c03ac5553393c22f9c4"
          }
        },
        "bc84f6d25ec648cba7d80a266e7db4bb": {
          "model_module": "@jupyter-widgets/controls",
          "model_name": "HBoxModel",
          "model_module_version": "1.5.0",
          "state": {
            "_dom_classes": [],
            "_model_module": "@jupyter-widgets/controls",
            "_model_module_version": "1.5.0",
            "_model_name": "HBoxModel",
            "_view_count": null,
            "_view_module": "@jupyter-widgets/controls",
            "_view_module_version": "1.5.0",
            "_view_name": "HBoxView",
            "box_style": "",
            "children": [
              "IPY_MODEL_db93f4400c5543dc9f427a04e25e186b",
              "IPY_MODEL_ee61b5a127e14620a9e5f658da4c6756",
              "IPY_MODEL_e534d1ce5a864f448be293e74d26a122",
              "IPY_MODEL_1c4d763089a64dc1a4f1af0fe0c8716c",
              "IPY_MODEL_a82295e30a1f4f2c9c3c981816fbc30c"
            ],
            "layout": "IPY_MODEL_6a0971efbf6640ad8e65cf03568dc329"
          }
        },
        "11e3ada30bd043c59f3a7e866aecc6fa": {
          "model_module": "@jupyter-widgets/output",
          "model_name": "OutputModel",
          "model_module_version": "1.0.0",
          "state": {
            "_dom_classes": [],
            "_model_module": "@jupyter-widgets/output",
            "_model_module_version": "1.0.0",
            "_model_name": "OutputModel",
            "_view_count": null,
            "_view_module": "@jupyter-widgets/output",
            "_view_module_version": "1.0.0",
            "_view_name": "OutputView",
            "layout": "IPY_MODEL_bffac904facd450d949df840a984cf4e",
            "msg_id": "",
            "outputs": [
              {
                "output_type": "display_data",
                "data": {
                  "text/html": "<html>\n<head><meta charset=\"utf-8\" /></head>\n<body>\n    <div>            <script src=\"https://cdnjs.cloudflare.com/ajax/libs/mathjax/2.7.5/MathJax.js?config=TeX-AMS-MML_SVG\"></script><script type=\"text/javascript\">if (window.MathJax && window.MathJax.Hub && window.MathJax.Hub.Config) {window.MathJax.Hub.Config({SVG: {font: \"STIX-Web\"}});}</script>                <script type=\"text/javascript\">window.PlotlyConfig = {MathJaxConfig: 'local'};</script>\n        <script charset=\"utf-8\" src=\"https://cdn.plot.ly/plotly-2.24.1.min.js\"></script>                <div id=\"4b8b6235-5d9e-45b6-bbd5-e6fa51b5ac88\" class=\"plotly-graph-div\" style=\"height:500px; width:510px;\"></div>            <script type=\"text/javascript\">                                    window.PLOTLYENV=window.PLOTLYENV || {};                                    if (document.getElementById(\"4b8b6235-5d9e-45b6-bbd5-e6fa51b5ac88\")) {                    Plotly.newPlot(                        \"4b8b6235-5d9e-45b6-bbd5-e6fa51b5ac88\",                        [{\"customdata\":[[1,19],[3,24],[4,24],[5,32],[6,33],[7,39],[8,40],[9,42],[10,42],[11,49],[11,50],[12,49],[12,50],[13,60],[14,61],[15,68],[16,68],[17,74],[18,75],[18,76],[19,83],[20,83]],\"hovertemplate\":\"x=%{x}\\u003cbr\\u003ey=%{y}\\u003cbr\\u003ering=%{customdata[0]}\\u003cbr\\u003ewire=%{customdata[1]}\\u003cextra\\u003e\\u003c\\u002fextra\\u003e\",\"legendgroup\":\"\",\"marker\":{\"color\":\"#636efa\",\"symbol\":\"circle\",\"size\":3},\"mode\":\"markers\",\"name\":\"\",\"orientation\":\"v\",\"showlegend\":false,\"x\":[-10.245548478783812,-12.9491411358958,-14.2313506161595,-16.606344695520207,-18.21808159934105,-20.178254665886374,-21.759157742495677,-23.69322036872939,-25.236201301261577,-27.14810594047313,-27.373428906889124,-28.660676068444968,-28.847024461228965,-31.287818915720315,-32.74701341816302,-34.4249787513619,-35.803105596070594,-37.45587237549114,-38.738685259079624,-38.47632508214167,-39.91777483105164,-41.105660207536246],\"xaxis\":\"x\",\"y\":[3.16036010272417,4.713136522810607,5.179826032786882,5.478413323580005,5.06275255528134,5.749162114521197,5.285541549129687,5.1725023546865465,4.622425380553044,4.608363081969413,2.9919987182313683,3.995302483976423,2.2904092149788506,2.402188899128037,0.8366728635798261,-0.8011581980368072,-0.8332307703264643,-4.2716233964771595,-5.264548059912505,-6.926298437875542,-8.300269843075675,-9.403521555203344],\"yaxis\":\"y\",\"type\":\"scatter\",\"uid\":\"ab1e1f7c-4270-45af-821b-e7237256582a\"},{\"type\":\"scatter\",\"uid\":\"408a5fb0-3159-40db-97ee-26e5d62ad9c6\",\"marker\":{\"size\":3},\"x\":[0.0,-0.06723582578813847,-0.13464376048728255,-0.20222313747265375,-0.2699732884239765,-0.33789354333215016,-0.40598323050582863,-0.4742416765780888,-0.5426682065130777,-0.6112621436126915,-0.6800228095232725,-0.7489495242423096,-0.8180416061251599,-0.8872983718918164,-0.9567191366336232,-1.0263032138200856,-1.0960499153056382,-1.1659585513364625,-1.236028430557294,-1.3062588600182785,-1.3766491451818048,-1.447198589929389,-1.517906496568548,-1.5887721658397123,-1.6597948969231222,-1.7309739874457808,-1.802308733488374,-1.8737984295922523,-1.945442368766411,-2.0172398424944653,-2.0891901407416533,-2.1612925519618855,-2.233546363104754,-2.305950859622598,-2.3785053254775743,-2.45120904314871,-2.5240612936390487,-2.5970613564827065,-2.6702085097520367,-2.7435020300647537,-2.8169411925910754,-2.8905252710609233,-2.9642535377710733,-3.0381252635923683,-3.112139717976916,-3.18629616896534,-3.260593883193989,-3.3350321259022024,-3.409610160939579,-3.4843272507732443,-3.559182656495171,-3.634175637829461,-3.709305453139658,-3.7845713594361285,-3.859972612383361,-3.9355084663073434,-4.011178174202945,-4.086980987741292,-4.162916157277191,-4.238982931856508,-4.3151805592236165,-4.391508285828831,-4.467965356835878,-4.54455101612932,-4.621264506322074,-4.698105068762869,-4.775071943543786,-4.852164369507735,-4.929381584255999,-5.006722824155778,-5.084187324347742,-5.161774318753579,-5.239483040083584,-5.317312719844248,-5.395262588345844,-5.473331874710068,-5.551519806877629,-5.629825611615896,-5.708248514526563,-5.786787740053281,-5.86544251148934,-5.944212050985346,-6.023095579556921,-6.10209231709241,-6.181201482360571,-6.260422293018324,-6.339753965618495,-6.419195715617533,-6.498746757383296,-6.5784063042028045,-6.658173568290033,-6.7380477607936875,-6.818028091805033,-6.8981137703656685,-6.978304004475373,-7.058598001099943,-7.138994966179009,-7.219494104633913,-7.30009462037556,-7.38079571631229,-7.461596594357777,-7.542496455438897,-7.623494499503639,-7.704589925529035,-7.785781931529051,-7.867069714562545,-7.948452470741186,-8.029929395237422,-8.111499682292438,-8.193162525224105,-8.274917116434969,-8.356762647420261,-8.43869830877585,-8.520723290206279,-8.60283678053276,-8.685037967701208,-8.767326038790276,-8.849700180019376,-8.932159576756737,-9.014703413527464,-9.097330874021607,-9.180041141102215,-9.262833396813432,-9.345706822388587,-9.428660598258276,-9.511693904058495,-9.594805918638723,-9.677995820070056,-9.761262785653344,-9.844605991927308,-9.928024614676698,-10.011517828940438,-10.09508480901978,-10.178724728486493,-10.262436760191004,-10.346220076270587,-10.43007384815758,-10.513997246587529,-10.597989441607425,-10.6820496025839,-10.766176898211441,-10.850370496520622,-10.934629564886311,-11.01895327003592,-11.103340778057639,-11.187791254408694,-11.272303863923582,-11.356877770822344,-11.44151213871882,-11.526206130628928,-11.610958908978954,-11.6957696356138,-11.780637471805303,-11.865561578260525,-11.95054111513004,-12.03557524201625,-12.120663117981696,-12.205803901557363,-12.290996750751033,-12.376240823055568,-12.461535275457264,-12.546879264444208,-12.63227194601458,-12.717712475685023,-12.803200008498994,-12.888733699035114,-12.974312701415528,-13.059936169314287,-13.145603255965685,-13.231313114172675,-13.317064896315202,-13.402857754358621,-13.488690839862066,-13.574563303986844,-13.66047429750483,-13.74642297080688,-13.832408473911194,-13.918429956471776,-14.004486567786792,-14.09057745680701,-14.176701772144217,-14.26285866207963,-14.349047274572321,-14.435266757267645,-14.521516257505677,-14.607794922329623,-14.694101898494281,-14.78043633247446,-14.866797370473426,-14.953184158431348,-15.039595842033744,-15.126031566719924,-15.212490477691459,-15.298971719920605,-15.385474438158791,-15.47199777694505,-15.55854088061449,-15.64510289330676,-15.731682958974506,-15.818280221391841,-15.904893824162823,-15.991522910729895,-16.078166624382394,-16.16482410826499,-16.251494505386177,-16.338176958626743,-16.424870610748254,-16.51157460440152,-16.598288082135078,-16.68501018640368,-16.77174005957676,-16.85847684394693,-16.94521968173845,-17.031967715115712,-17.11872008619173,-17.205475937036617,-17.29223440968607,-17.37899464614988,-17.465755788420363,-17.55251697848091,-17.639277358314413,-17.726036069911785,-17.81279225528044,-17.899545056452773,-17.98629361549464,-18.073037074513866,-18.159774575668695,-18.246505261176303,-18.333228273321264,-18.41994275446403,-18.506647847049436,-18.593342693615146,-18.680026436800162,-18.76669821935328,-18.853357184141608,-18.940002474158977,-19.02663323253449,-19.113248602540928,-19.19984772760327,-19.286429751307146,-19.37299381740731,-19.45953906983609,-19.546064652711898,-19.632569710347646,-19.719053387259237,-19.805514828174015,-19.89195317803922,-19.978367582030454,-20.064757185560133,-20.151121134285916,-20.237458574119206,-20.323768651233532,-20.410050512073045,-20.496303303360932,-20.582526172107848,-20.668718265620384,-20.75487873150947,-20.841006717698814,-20.927101372433327,-21.01316184428756,-21.0991872821741,-21.18517683535201,-21.271129653435224,-21.357044886400963,-21.442921684598147,-21.528759198755797,-21.614556579991415,-21.700312979819415,-21.786027550159474,-21.87169944334496,-21.95732781213127,-22.042911809704236,-22.128450589688512,-22.213943306155905,-22.299389113633772,-22.384787167113387,-22.47013662205826,-22.555436634412523,-22.640686360609273,-22.725884957578888,-22.8110315827574,-22.89612539409481,-22.98116555006341,-23.066151209666106,-23.151081532444767,-23.235955678488484,-23.32077280844192,-23.405532083513584,-23.490232665484136,-23.574873716714677,-23.65945440015504,-23.743973879352044,-23.828431318457802,-23.912825882237946,-23.997156736079926,-24.081423046001238,-24.165623978657678,-24.24975870135158,-24.333826382040073,-24.417826189343266,-24.501757292552522,-24.58561886163863,-24.66941006726004,-24.75313008077105,-24.83677807423001,-24.9203532204075,-25.00385469279452,-25.087281665610654,-25.17063331381226,-25.2539088131006,-25.337107339929997,-25.420228071516007,-25.503270185843512,-25.586232861674894,-25.669115278558117,-25.751916616834862,-25.834636057648634,-25.917272782952864,-25.999825975518984,-26.082294818944497,-26.164678497661104,-26.246976196942708,-26.329187102913508,-26.411310402556033,-26.4933452837192,-26.57529093512632,-26.657146546383128,-26.738911307985816,-26.820584411329033,-26.902165048713854,-26.9836524133558,-27.06504569939279,-27.146344101893156,-27.227546816863537,-27.30865304125689,-27.389661972980395,-27.470572810903395,-27.551384754865346,-27.632097005683683,-27.71270876516175,-27.793219236096704,-27.87362762228738,-27.95393312854217,-28.034134960686888,-28.114232325572615,-28.194224431083576,-28.274110486144927,-28.353889700730605,-28.433561285871136,-28.51312445366145,-28.592578417268655,-28.671922390939805,-28.751155590009713,-28.830277230908685,-28.909286531170267,-28.988182709438977,-29.066964985478066,-29.145632580177185,-29.224184715560142,-29.302620614792552,-29.380939502189538,-29.459140603223396,-29.537223144531296,-29.615186353922855,-29.69302946038782,-29.770751694103684,-29.848352286443323,-29.925830469982547,-30.00318547850773,-30.080416547023376,-30.157522911759667,-30.234503810180055,-30.311358480988766,-30.388086164138336,-30.46468610083716,-30.54115753355694,-30.617499706040228,-30.693711863307865,-30.769793251666496,-30.845743118715966,-30.92156071335679,-30.99724528579759,-31.072796087562505,-31.148212371498573,-31.223493391783133,-31.298638403931214,-31.373646664802877,-31.448517432610572,-31.523249966926482,-31.59784352868983,-31.672297380214204,-31.746610785194832,-31.820783008715885,-31.894813317257736,-31.9687009787042,-32.042445262349815,-32.116045438907015,-32.189500780513384,-32.262810560738814,-32.33597405459276,-32.40899053853131,-32.48185929046444,-32.55457958976308,-32.62715071726626,-32.69957195528826,-32.77184258762568,-32.843961899564476,-32.91592917788713,-32.98774371087961,-33.05940478833846,-33.130911701577816,-33.202263743436376,-33.27346020828447,-33.34450039203096,-33.41538359213025,-33.4861091075892,-33.55667623897412,-33.6270842884176,-33.69733255962548,-33.76742035788372,-33.837346990065235,-33.90711176463681,-33.976713991665875,-34.04615298282738,-34.11542805141059,-34.18453851232583,-34.25348368211135,-34.32226287893998,-34.39087542262597,-34.45932063463164,-34.527597838074136,-34.5957063577321,-34.66364552005238,-34.731414653156634,-34.79901308684805,-34.86644015261788,-34.93369518365216,-35.00077751483822,-35.06768648277127,-35.13442142576102,-35.200981683838165,-35.26736659876093,-35.33357551402158,-35.399607774852925,-35.465462728234755,-35.53113972290038,-35.596638109342955,-35.661957239822,-35.727096468369766,-35.79205515079764,-35.85683264470246,-35.92142830947296,-35.98584150629604,-36.0500715981631,-36.11411794987634,-36.17797992805504,-36.24165690114181,-36.305148239408894,-36.36845331496433,-36.431571501758164,-36.49450217558869,-36.5572447141086,-36.61979849683111,-36.68216290513614,-36.744337322276394,-36.80632113338347,-36.86811372547399,-36.929714487455584,-36.99112281013297,-37.052338086213986,-37.11335971031559,-37.17418707896984,-37.234819590629854,-37.295256645675785,-37.355497646420744,-37.41554199711669,-37.47538910396034,-37.53503837509902,-37.594489220636575,-37.653741052639134,-37.71279328514095,-37.77164533415018,-37.830296617654746,-37.888746555627954,-37.946994570034335,-38.0050400848353,-38.06288252599488,-38.120521321485384,-38.17795590129305,-38.2351856974237,-38.29221014390833,-38.34902867680873,-38.405640734223056,-38.46204575629139,-38.51824318520125,-38.57423246519316,-38.630013042566105,-38.685584365683,-38.740945884976156,-38.79609705295277,-38.85103732420022,-38.90576615539158,-38.96028300529093,-39.0145873347587,-39.068678606757054,-39.122556286355135,-39.17621984073442,-39.22966873919394,-39.28290245315556,-39.33592045616916,-39.38872222391791,-39.44130723422343,-39.49367496705089,-39.54582490451427,-39.597756530881355,-39.649469332578946,-39.70096279819787,-39.75223641849807,-39.80328968641361,-39.85412209705774,-39.904733147727825,-39.95512233791037,-40.005289169285945,-40.05523314573413,-40.10495377333838,-40.154450560390956,-40.20372301739778,-40.252770657083246,-40.30159299439508,-40.3501895465091,-40.39855983283401,-40.44670337501614,-40.49461969694423,-40.54230832475403,-40.58976878683309,-40.63700061382539,-40.68400333863595,-40.73077649643549,-40.77731962466501,-40.82363226304038,-40.86971395355687,-40.915564240493666,-40.96118267041844,-41.00656879219176,-41.05172215697159,-41.09664231821776,-41.1413288316963,-41.1857812554839,-41.229999149972244,-41.27398207787239,-41.31772960421908,-41.36124129637503,-41.4045167240352,-41.4475554592311,-41.49035707633496,-41.53292115206399,-41.57524726548455,-41.61733499801627,-41.65918393343625,-41.700793657883175,-41.74216375986134,-41.7832938302448,-41.82418346228137,-41.86483225159665,-41.90523979619806,-41.945405696478744,-41.98532955522161,-42.025010977603195,-42.064449571197585,-42.1036449459803,-42.14259671433216,-42.18130449104311,-42.219767893316,-42.25798654077046,-42.29596005544654,-42.33368806180853,-42.37117018674867,-42.40840605959079,-42.44539531209404,-42.48213757845649,-42.51863249531874,-42.55487970176754,-42.59087883933938,-42.62662955202396,-42.66213148626778,-42.69738429097761,-42.73238761752397,-42.767141119744544,-42.801644453947674,-42.83589727891568,-42.869899255908294,-42.90365004866598,-42.93714932341325,-42.970396748862015,-43.00339199621479,-43.03613473916802,-43.068624653915236,-43.10086141915032,-43.13284471607062,-43.164574228380175,-43.19604964229278,-43.2272706465351,-43.25823693234982,-43.28894819349857,-43.31940412626506,-43.349604429458054,-43.37954880441433,-43.409236955001624,-43.43866858762162,-43.4678434112128,-43.49676113725332,-43.52542147976391,-43.55382415531063,-43.581968883007754,-43.60985538452048,-43.637483384067735,-43.664852608424866,-43.69196278692634,-43.718813651468466,-43.74540493651199,-43.77173637908477,-43.79780771878431,-43.82361869778044,-43.849169060817744,-43.8744585552182,-43.89948693088356,-43.924253940297945,-43.94875933853021,-43.973002883236376,-43.99698433466207,-44.02070345564486,-44.04416001161658,-44.06735377060572,-44.09028450323966,-44.11295198274692,-44.1353559849595,-44.15749628831499,-44.179372673858836,-44.20098492524645,-44.222332828745394,-44.24341617323748,-44.26423475022081,-44.28478835381195,-44.305076780747825,-44.325099830387856,-44.344857304715866,-44.36434900834205,-44.383574748504955,-44.40253433507331,-44.42122758054798,-44.43965430006376,-44.457814311391246,-44.4757074349386,-44.49333349375338,-44.510692313524245,-44.52778372258266,-44.544607551904676,-44.56116363511251,-44.57745180847624,-44.59347191091544,-44.60922378400071,-44.6247072719553,-44.63992222165663,-44.65486848263781,-44.6695459070891,-44.683954349859434,-44.69809366845778,-44.7119637230546,-44.72556437648323,-44.73889549424119,-44.751956944491596,-44.764748598064386,-44.77727032845764,-44.7895220118388,-44.801503527045945,-44.81321475558893,-44.82465558165062,-44.83582589208795,-44.846725576433144,-44.85735452689474,-44.86771263835867,-44.8777998083893,-44.88761593723048,-44.89716092780645,-44.906434685722886,-44.915437119267764,-44.924168139412345,-44.932627659811956,-44.94081559680692,-44.94873186942337,-44.95637639937402,-44.96374911105899,-44.97084993156647,-44.977678790673544,-44.98423562084681,-44.990520357243085,-44.99653293771001,-45.00227330278672,-45.00774139570437,-45.01293716238675,-45.01786055145078,-45.02251151420704,-45.026890004660245,-45.03099597950971,-45.03482939814976,-45.03839022267013,-45.041678417856374,-45.04469395119017,-45.047436792849666,-45.04990691570978,-45.052104295342446,-45.05402891001687,-45.055680740699756,-45.057059771055464,-45.05816598744619,-45.058999378932114,-45.05955993727149,-45.05984765692071,-45.0598625350344,-45.059604571465435,-45.05907376876492,-45.05827013218217,-45.057193669664684,-45.05584439185806,-45.05422231210583,-45.052327446449425,-45.05015981362794,-45.047719435078015,-45.04500633493353,-45.04202054002546,-45.03876207988155,-45.03523098672607,-45.03142729547943,-45.02735104375792,-45.02300227187326,-45.018381022832244,-45.01348734233629,-45.00832127878104,-45.00288288325582,-44.99717220954315,-44.99118931411823,-44.984934256148385,-44.97840709749245,-44.971607902700185,-44.96453673901161,-44.9571936763564,-44.9495787873531,-44.94169214730849,-44.933533834216774,-44.9251039287589,-44.91640251430165,-44.9074296768969,-44.898185505280736,-44.88867009087255,-44.87888352777422,-44.86882591276907,-44.858497345321,-44.84789792757346,-44.83702776434846,-44.82588696314551,-44.81447563414058,-44.80279389018499,-44.79084184680431,-44.778619622197226,-44.76612733723434,-44.75336511545699,-44.74033308307604,-44.72703136897062,-44.71346010468685,-44.699619424436555,-44.685509465095905,-44.671130366204096,-44.656482269961955,-44.64156532123052,-44.62637966752965,-44.61092545903651,-44.59520284858412,-44.57921199165986,-44.56295304640388,-44.54642617360758,-44.529631536711996,-44.51256930180622,-44.49523963762569,-44.4776427155506,-44.45977870960414,-44.44164779645082,-44.4232501553947,-44.40458596837761,-44.38565541997738,-44.366458697406,-44.34699599050774,-44.327267491757326,-44.307273396258,-44.28701390173958,-44.26648920855655,-44.24569951968605,-44.22464504072587,-44.20332597989239,-44.18174254801859,-44.1598949585519,-44.13778342755214,-44.115408173689296,-44.09276941824149,-44.06986738509268,-44.04670230073049,-44.023274394243955,-43.99958389732131,-43.97563104424759,-43.95141607190244,-43.926939219757685,-43.902200729874956,-43.87720084690338,-43.85193981807707,-43.82641789321274,-43.8006353247072,-43.77459236753488,-43.748289279245284,-43.72172631996048,-43.69490375237251,-43.66782184174076,-43.6404808558894,-43.612881065204675,-43.585022742632276,-43.55690616367461,-43.5285316063881,-43.49989935138041,-43.47100968180768,-43.44186288337174,-43.41245924431729,-43.38279905542899,-43.352882610028644,-43.322710203972306,-43.2922821356473,-43.261598705969305,-43.2306602183794,-43.199466978840995,-43.16801929583687,-43.13631748036612,-43.104361845941014,-43.07215270858397,-43.039690386824404,-43.00697520169557,-42.97400747673139,-42.940787537963246,-42.9073157139168,-42.87359233560866,-42.83961773654323,-42.80539225270926,-42.770916222576645,-42.73618998709303,-42.701213889680446,-42.66598827623191,-42.63051349510799,-42.59478989713341,-42.558817835593516,-42.52259766623082,-42.48612974724148,-42.449414439271735,-42.41245210541439,-42.375243111205165,-42.3377878246191,-42.30008661606693,-42.262139858391436,-42.22394792686369,-42.185511199179416,-42.14683005545524,-42.10790487822489,-42.06873605243547,-42.0293239654436,-41.98966900701163,-41.94977156930374,-41.90963204688212,-41.86925083670302,-41.82862833811282,-41.78776495284413,-41.74666108501179,-41.705317141108836,-41.663733530002546,-41.62191066293035,-41.57984895349581,-41.53754881766444,-41.495010673759694,-41.45223494245878,-41.4092220467885,-41.36597241212107,-41.32248646616992,-41.278764638985464,-41.23480736295083,-41.190615072777604,-41.14618820550152,-41.101527200478145,-41.05663249937853,-41.01150454618485,-40.966143787185985,-40.92055067097315,-40.87472564843543,-40.82866917275531,-40.782381699404226,-40.735863686138046,-40.68911559299254,-40.64213788227883,-40.594931018578826,-40.54749546874062,-40.499831701873866,-40.45194018934518,-40.403821404773424,-40.35547582402505,-40.30690392520938,-40.258106188673935,-40.20908309699958,-40.15983513499583,-40.11036278969606,-40.06066655035265,-40.01074690843212,-39.960604357610364,-39.91023939376768,-39.85965251498394,-39.808844221533576,-39.75781501588071,-39.706565402674144,-39.655095888742395,-39.603406983088654,-39.551499196885764,-39.49937304347118,-39.44702903834188,-39.39446769914926,-39.341689545694024,-39.28869509992104,-39.23548488591419,-39.18205942989117,-39.12841926019828,-39.07456490730522,-39.02049690379986,-38.96621578438291,-38.91172208586269,-38.85701634714982,-38.80209910925183,-38.746970915267894,-38.69163231038338,-38.63608384186454,-38.580326059053014,-38.52435951336046,-38.468184758263064,-38.411802349296096,-38.355212844048374,-38.29841680215683,-38.24141478530085,-38.184207357196826,-38.12679508359257,-38.06917853226166,-38.01135827299788,-37.95333487760956,-37.89510891991391,-37.8366809757314,-37.77805162287998,-37.71922144116945,-37.660191012395686,-37.60096092033487,-37.54153175073776,-37.48190409132384,-37.42207853177558,-37.36205566373254,-37.30183608078557,-37.24142037847087,-37.18080915426418,-37.12000300757484,-37.059002539739836,-36.997808354017906,-36.93642105558351,-36.87484125152089,-36.81306955081807,-36.75110656436081,-36.688952904926566,-36.626609187178445,-36.56407602765912,-36.50135404478473,-36.43844385883876,-36.37534609196592,-36.312061368165985,-36.248590313287636,-36.18493355502221,-36.12109172289759,-36.05706544827191,-35.99285536432737,-35.92846210606386,-35.86388631029283,-35.79912861563086,-35.73418966249346,-35.66907009308865,-35.60377055141062,-35.5382916832334,-35.472634136104475,-35.40679855933831,-35.34078560401003,-35.27459592294889,-35.208230170731895,-35.141689003677236,-35.0749730798379,-35.00808305899511,-34.941019602651785],\"y\":[0.0,0.05483486597606202,0.10945802164854612,0.16386892682659848,0.21806704341839023,0.2720518354364607,0.32582276900298623,0.3793793123550877,0.4327209358500781,0.4858471119706991,0.5387573153303435,0.5914510226782426,0.6439277129046452,0.6961868670459808,0.748227968289978,0.8000505019807704,0.8516539556240161,0.9030378188919244,0.9542015836283362,1.0051447438537409,1.0558667957702639,1.1063672377666762,1.1566455704233256,1.2067012965171067,1.2565339210263389,1.3061429511357154,1.3555278962411244,1.4046882679545227,1.4536235801087791,1.502333348762459,1.5508170922046247,1.599074330959592,1.6471045877916737,1.694907387709904,1.742482257972732,1.7898287280926937,1.8369463298410693,1.8838345972525126,1.930493066629662,1.976921276547717,2.0231187678590103,2.0690850836975514,2.114819769483532,2.16032237292783,2.20559244403648,2.250629535115131,2.2954332007734592,2.3400029979295915,2.3843384858144603,2.428439225976188,2.472304782284425,2.5159347209346308,2.5593286104523933,2.602486021697697,2.6454065278691417,2.68808970450819,2.730535129503348,2.7727423830943465,2.8147110478762976,2.856440708803806,2.8979309531950967,2.9391813707360583,2.98019155348436,3.020961095873428,3.0614895947164875,3.1017766492105387,3.1418218609403326,3.181624833882296,3.221185174408454,3.2605024912903247,3.2995763957027897,3.3384065012279365,3.37699242385888,3.4153337820035503,3.4534301964884904,3.4912812905625863,3.528886689900798,3.56624602260786,3.603358919221968,3.6402250127184175,3.6768439385132403,3.713215334466824,3.7493388408874644,3.785214100534951,3.8208407586240867,3.856218462828185,3.8913468632825854,3.9262256125880803,3.9608543658143773,3.9952327805034784,4.029360516673108,4.0632372368200365,4.096862605923455,4.130236291448249,4.163357963348311,4.196227294069807,4.228843958554407,4.261207634242492,4.293318001076365,4.3251747415033925,4.356777540479175,4.388126085470624,4.419220066459086,4.450059175943391,4.480643108942903,4.510971563000524,4.541044238185695,4.57086083709736,4.600421064866918,4.6297246291611,4.658771240184915,4.6875606106844785,4.716092455949855,4.744366493817896,4.772382444675014,4.800140031459932,4.827638979666471,4.85487901734621,4.881859875111221,4.908581286136691,4.935042986163605,4.961244713501319,4.987186209030174,5.012867216204057,5.038287481052908,5.063446752185289,5.0883447807908055,5.112981320642614,5.137356128099842,5.161468962109989,5.185319584211317,5.208907758535219,5.232233251808527,5.255295833355852,5.278095275101837,5.3006313515734185,5.3229038399020645,5.344912519825986,5.3666571736922855,5.388137586459138,5.409353545697908,5.430304841595241,5.45099126695516,5.471412617201089,5.4915686903779,5.511459287153897,5.531084210822776,5.5504432673055994,5.569536265152699,5.588363015545557,5.606923332298695,5.62521703186151,5.643243933320083,5.6610038583989635,5.678496631462949,5.695722079518813,5.712680032217012,5.729370321853377,5.745792783370767,5.761947254360706,5.777833575064982,5.793451588377238,5.808801139844515,5.823882077668788,5.83869425270845,5.8532375184798155,5.86751173115854,5.881516749581074,5.895252435246022,5.908718652315535,5.9219152676166615,5.934842150642641,5.947499173554203,5.9598862111808515,5.972003141022068,5.983849843248553,5.995426200703395,6.006732098903228,6.017767426039381,6.028532072978965,6.03902593326595,6.0492489031222405,6.059200881448678,6.0688817698260635,6.078291472516103,6.087429896462375,6.096296951291251,6.104892549312773,6.11321660552154,6.121269037597536,6.129049765906942,6.136558713502939,6.143795806126462,6.150760972206914,6.157454142862907,6.163875251902926,6.170024235825977,6.175901033822232,6.181505587773618,6.186837842254391,6.191897744531701,6.196685244566087,6.201200295011997,6.20544285121823,6.2094128712284125,6.213110315781378,6.216535148311582,6.2196873349494375,6.222566844521683,6.22517364855166,6.2275077212596095,6.229569039562929,6.231357583076392,6.232873334112359,6.234116277680943,6.235086401490165,6.235783695946068,6.23620815415282,6.236359771912785,6.236238547726547,6.235844482792942,6.235177581009044,6.234237848970118,6.233025295969558,6.231539933998803,6.229781777747206,6.227750844601896,6.225447154647611,6.222870730666489,6.220021598137837,6.21689978523791,6.213505322839595,6.209838244512124,6.205898586520753,6.201686387826367,6.197201690085141,6.192444537648093,6.187414977560664,6.182113059562234,6.176538836085658,6.170692362256723,6.1645736958936155,6.158182897506343,6.151520030296137,6.144585160154836,6.137378355664222,6.12989968809535,6.122149231407835,6.114127062249139,6.105833259953791,6.097267906542612,6.088431086721901,6.079322887882615,6.069943400099465,6.060292716130078,6.0503709314140295,6.04017814407193,6.02971445490445,6.018979967391317,6.007974787690291,5.9966990246361185,5.985152789739459,5.9733361971857875,5.961249363834238,5.948892409216484,5.936265455535533,5.923368627664519,5.910202053145486,5.896765862188097,5.883060187668377,5.86908516512738,5.8548409327698465,5.840327631462856,5.8255454047344095,5.810494398772036,5.795174762421318,5.779586647184441,5.763730207218696,5.7476055993349355,5.731212982996038,5.71455252031533,5.697624376054989,5.680428717624384,5.662965715078464,5.645235541116044,5.627238371078107,5.608974382946066,5.590443757340019,5.571646677516938,5.552583329368886,5.533253901421151,5.513658584830399,5.493797573382775,5.473671063491988,5.453279254197383,5.432622347161935,5.411700546670314,5.3905140596267955,5.3690630955532725,5.347347866587153,5.325368587479268,5.303125475591752,5.280618750895883,5.257848635969925,5.234815355996904,5.211519138762412,5.187960214652318,5.16413881665051,5.140055180336596,5.115709543883565,5.091102148055427,5.066233236204845,5.041103054270714,5.0157118507757446,4.990059876823992,4.964147386098375,4.937974634858179,4.911541881936504,4.88484938873772,4.85789741923487,4.830686239967072,4.803216120036865,4.775487331107566,4.747500147400579,4.719254845692674,4.690751705313261,4.661991008141612,4.632973038604103,4.603698083671368,4.574166432855474,4.544378378207071,4.514334214312484,4.484034238290803,4.4534787497909605,4.422668050988751,4.391602446583846,4.360282243796789,4.3287077523659505,4.29687928454446,4.264797155097135,4.232461681297352,4.199873182923898,4.167031982257857,4.1339384040793625,4.100592775664424,4.066995426781681,4.033146689689133,3.9990468991308674,3.9646963923337424,3.9300955090040404,3.8952445913241434,3.8601439839491043,3.824794034003272,3.789195091076838,3.7533475072223936,3.717251636951449,3.6809078372309116,3.6443164674795625,3.6074778895645103,3.570392467797607,3.5330605689318446,3.495482562157733,3.457658819099631,3.419589713812094,3.3812756227761653,3.342716924895658,3.3039140014933857,3.264867236307424,3.2255770154873,3.1860437275901674,3.1462677635769722,3.1062495168085817,3.0659893830419094,3.0254877604259747,2.9847450494979775,2.9437616531793545,2.9025379767717716,2.8610744279531204,2.8193714167734854,2.7774293556511083,2.735248659368274,2.6928297450672574,2.6501730322461334,2.607278942754686,2.5641479007902177,2.5207803328933416,2.4771766679437732,2.4333373371560967,2.389262774075487,2.3449534145734248,2.300409696843399,2.255632061396554,2.210620951057347,2.1653768109591667,2.1199000885399286,2.0741912335376362,2.028250697985971,1.9820789362097777,1.9356764048206152,1.8890435627121889,1.8421808710558665,1.7950887932960775,1.7477677951457586,1.700218344581721,1.6524409118400385,1.604435969411405,1.5562039920364406,1.5077454567010058,1.4590608426314944,1.4101506312900831,1.3610153063699677,1.3116553537905986,1.2620712616928351,1.2122635204341705,1.1622326225838435,1.111979062917996,1.0615033384147345,1.010805948249267,0.9598873937889429,0.9087481785882936,0.8573888083840551,0.8058097910901587,0.7540116367927361,0.701994857745035,0.6497599683623854,0.5973074852170903,0.5446379270333352,0.49175181468205764,0.4386496711757566,0.38533202166338754,0.33179939342511133,0.2780523158671251,0.2240913205163686,0.16991694101533028,0.11552971311673943,0.06093017467825845,0.006118865657182226,-0.048903671894901635,-0.10413689383748803,-0.15958025394652253,-0.21523320391981215,-0.2710951933824397,-0.32716566989221363,-0.383444078945125,-0.43992986398082934,-0.4966224663881782,-0.5535213255106974,-0.6106258786521614,-0.667935561082146,-0.7254498060416452,-0.7831680447486242,-0.8410897064036718,-0.899214218195656,-0.9575410053073661,-1.0160694909212076,-1.0747990962249183,-1.1337292404172672,-1.1928593407138166,-1.2521888123526814,-1.3117170686003128,-1.3714435207572855,-1.431367578164167,-1.4914886482072909,-1.5518061363246645,-1.6123194460118349,-1.6730279788277826,-1.7339311344008728,-1.7950283104347342,-1.8563189027142641,-1.9178023051115787,-1.979477909592024,-2.04134510622017,-2.1034032831658713,-2.1656518267102776,-2.228090121251938,-2.2907175493128733,-2.3535334915446846,-2.416537326734673,-2.4797284318120134,-2.5431061818538545,-2.606669950091568,-2.6704191079168886,-2.7343530248881827,-2.798471068736646,-2.8627726053725624,-2.9272569988915897,-2.9919236115810257,-3.0567718039261393,-3.121800934616484,-3.187010360552236,-3.252399436850556,-3.317967516851965,-3.383713952126758,-3.4496380924813828,-3.515739285964891,-3.5820168788754074,-3.648470215766544,-3.7150986394539096,-3.7819014910216104,-3.8488781098287888,-3.916027833516093,-3.98334999801229,-4.050843937540794,-4.118508984626278,-4.186344470101261,-4.2543497231127105,-4.322524071128711,-4.390866839945094,-4.459377353692101,-4.52805493484108,-4.596898904211173,-4.665908580976058,-4.735083282670654,-4.80442232519788,-4.873925022835408,-4.94359068824248,-5.013418632466678,-5.0834081649507326,-5.1535585935393655,-5.223869224486133,-5.294339362460281,-5.3649683105536266,-5.435755370287451,-5.5066998416193975,-5.577801022950407,-5.649058211131647,-5.720470701471477,-5.792037787742387,-5.863758762188047,-5.935632915530224,-6.007659536975851,-6.079837914224029,-6.152167333473113,-6.224647079427717,-6.297276435305813,-6.370054682845824,-6.442981102313727,-6.516054972510155,-6.58927557077755,-6.662642173007294,-6.736154053646878,-6.809810485707079,-6.8836107407691305,-6.9575540889919605,-7.031639799119368,-7.105867138487312,-7.180235373031087,-7.254743767292629,-7.329391584427768,-7.404178086213555,-7.479102533055499,-7.5541641839949225,-7.629362296716284,-7.704696127554511,-7.780164931502364,-7.855767962217795,-7.931504472031335,-8.007373711953479,-8.083374931682105,-8.15950737960989,-8.235770302831726,-8.312162947152217,-8.388684557093065,-8.465334375900593,-8.542111645553211,-8.619015606768908,-8.696045499012797,-8.773200560504574,-8.850480028226098,-8.927883137928927,-9.005409124141861,-9.08305722017854,-9.160826658144995,-9.238716668947264,-9.316726482298991,-9.394855326729038,-9.473102429589128,-9.55146701706146,-9.629948314166414,-9.708545544770148,-9.787257931592318,-9.86608469621374,-9.945025059084134,-10.02407823952977,-10.103243455761222,-10.182519924881106,-10.261906862891806,-10.341403484703237,-10.421009004140604,-10.500722633952176,-10.580543585817079,-10.660471070353084,-10.740504297124419,-10.820642474649581,-10.900884810409156,-10.9812305108537,-11.061678781411517,-11.142228826496568,-11.222879849516312,-11.303631052879627,-11.384481638004631,-11.465430805326635,-11.54647775430602,-11.627621683436171,-11.708861790251389,-11.790197271334842,-11.8716273223265,-11.953151137931089,-12.034767911926064,-12.116476837169571,-12.198277105608426,-12.280167908286147,-12.36214843535089,-12.4442178760635,-12.526375418805502,-12.608620251087187,-12.69095155955556,-12.773368530002449,-12.855870347372528,-12.938456195771387,-13.0211252584736,-13.103876717930797,-13.186709755779756,-13.26962355285049,-13.352617289174356,-13.435690143992153,-13.518841295762247,-13.602069922168681,-13.685375200129354,-13.768756305804096,-13.85221241460285,-13.935742701193814,-14.019346339511648,-14.103022502765569,-14.186770363447577,-14.270589093340627,-14.354477863526823,-14.438435844395602,-14.52246220565196,-14.606556116324644,-14.690716744774376,-14.774943258702082,-14.85923482515712,-14.943590610545515,-15.028009780638204,-15.112491500579285,-15.197034934894258,-15.281639247498369,-15.366303601704743,-15.451027160232753,-15.535809085216279,-15.620648538211988,-15.705544680207632,-15.790496671630336,-15.875503672354913,-15.960564841712166,-16.045679338497198,-16.13084632097774,-16.216064946902463,-16.301334373509327,-16.386653757533892,-16.47202225521767,-16.55743902231645,-16.64290321410873,-16.728413985403943,-16.81397049055089,-16.8995718834461,-16.985217317542183,-17.07090594585621,-17.156636920978094,-17.242409395078948,-17.328222519919493,-17.41407544685844,-17.49996732686088,-17.585897310506674,-17.671864547998865,-17.757868189172086,-17.843907383500945,-17.929981280108457,-18.016089027774424,-18.102229774943964,-18.188402669735762,-18.274606859950616,-18.360841493079832,-18.447105716313644,-18.533398676549663,-18.619719520401308,-18.70606739420625,-18.792441444034843,-18.87884081569857,-18.965264654758514,-19.051712106533774,-19.13818231610994,-19.224674428347537,-19.31118758789049,-19.397720939174576,-19.48427362643586,-19.570844793719267,-19.657433584886885,-19.74403914362654,-19.830660613460235,-19.91729713775262,-20.00394785971947,-20.090611922436153,-20.1772884688461,-20.26397664176929,-20.350675583910718,-20.43738443786888,-20.524102346144257,-20.610828451147775,-20.697561895209308,-20.784301820586155,-20.871047369471476,-20.957797684002916,-21.044551906270897,-21.131309178327232,-21.218068642193565,-21.30482943986987,-21.391590713342932,-21.47835160459482,-21.565111255611402,-21.651868808390788,-21.73862340495186,-21.825374187342717,-21.91212029764919,-21.99886087800331,-22.085595070591797,-22.17232201766454,-22.259040861543085,-22.345750744629086,-22.43245080941289,-22.51914019848187,-22.605818054528992,-22.692483520361286,-22.779135738908305,-22.86577385323062,-22.952397006528276,-23.039004342149276,-23.125595003598054,-23.212168134543933,-23.29872287882962,-23.38525838047963,-23.471773783708798,-23.55826823293071,-23.64474087276618,-23.731190848051703,-23.81761730384788,-23.904019385447988,-23.990396238386282,-24.076747008446524,-24.16307084167043,-24.2493668843661,-24.335634283116477,-24.42187218478776,-24.50807973653787,-24.59425608582486,-24.680400380415367,-24.766511768393027,-24.852589398166895,-24.938632418479887,-25.024639978417177,-25.110611227414626,-25.196545315267166,-25.282441392137294,-25.368298608563357,-25.454116115468015,-25.539893064166645,-25.625628606375713,-25.71132189422118,-25.796972080246864,-25.882578317422844,-25.968139759153832,-26.053655559287527,-26.13912487212301,-26.22454685241908,-26.309920655402642,-26.395245436777035,-26.4805203527304,-26.565744559944008,-26.6509172156006,-26.73603747739279,-26.821104503531274,-26.906117452753236,-26.991075484330647,-27.075977758078587,-27.16082343436355,-27.245611674111732,-27.33034163881736,-27.415012490550954,-27.49962339196763,-27.58417350631538,-27.668661997443348,-27.75308802981008,-27.837450768491824,-27.921749379190743,-28.005983028243204,-28.090150882627977,-28.174252109974574,-28.25828587857134,-28.342251357373762,-28.426147716012693,-28.50997412480252,-28.593729754749404,-28.677413777559472,-28.761025365647,-28.84456369214259,-28.928027930901376,-29.01141725651116,-29.0947308443006,-29.17796787034736,-29.261127511486244,-29.344208945317348,-29.427211350214183,-29.510133905331863,-29.59297579061511,-29.67573618680644,-29.75841427545425,-29.841009238920915,-29.92352026039086,-30.005946523878656,-30.088287214237077,-30.170541517165162,-30.25270861921627,-30.334787707806136,-30.41677797122088,-30.498678598625073,-30.580488780069707,-30.66220770650025,-30.743834569764623,-30.825368562621172,-30.906808878746748,-30.988154712744542,-31.069405260152138,-31.150559717449454,-31.23161728206667,-31.31257715239219,-31.393438527780553,-31.474200608560356,-31.554862596042156,-31.63542369252638,-31.715883101311213,-31.796240026700445,-31.876493674011407,-31.956643249582747,-32.03668796078236,-32.11662701601516,-32.19645962473092,-32.27618499743218,-32.35580234568192,-32.43531088211143,-32.51470982042808,-32.59399837542311,-32.673175762979376,-32.75224120007914,-32.831193904811755,-32.91003309638145,-32.98875799511502,-33.06736782246958,-33.14586180104019,-33.22423915456761,-33.30249910794596,-33.380640887230356,-33.45866371964458,-33.5365668335888,-33.61434945864704,-33.69201082559493,-33.76955016640727,-33.84696671426561,-33.92425970356587,-34.00142836992589,-34.07847195019298,-34.15538968245147,-34.232180806030286,-34.3088445615104,-34.385380190732405,-34.46178693680398,-34.53806404410739,-34.614210758306925,-34.690226326356424,-34.76610999650663,-34.841861018312756,-34.91747864264178,-34.992962121679895,-35.068310708939926,-35.14352365926871,-35.21860022885443,-35.293539675234,-35.36834125730043,-35.443004235310084,-35.51752787089008,-35.5919114270455,-35.666154168166784,-35.74025536003692,-35.81421426983873,-35.88803016616214,-35.96170231901136,-36.03522999981221,-36.108612481419186,-36.18184903812274,-36.254938945656434,-36.327881481204116,-36.40067592340704,-36.47332155237102,-36.54581764967355,-36.6181634983709,-36.69035838300522,-36.762401589611585,-36.834292405725094,-36.906030120387896,-36.977614024156225,-37.0490434091074,-37.12031756884686,-37.19143579851509,-37.262397394794704,-37.33320165591728,-37.40384788167033,-37.47433537340429,-37.544663434039336,-37.61483136807236,-37.684838481583796,-37.754684082244495,-37.824367479322596,-37.893887983690306,-37.963244907830756,-38.0324375658448,-38.10146527345779,-38.17032734802632,-38.239023108545,-38.3075518756532,-38.37591297164174,-38.44410572045965,-38.51212944772078,-38.57998348071049,-38.64766714839235,-38.71517978141472,-38.7825207121174,-38.84968927453824,-38.916684804419674,-38.98350663921536,-39.050154118096685,-39.11662658195931,-39.1829233734297,-39.24904383687161,-39.31498731839258,-39.38075316585039,-39.44634072885951,-39.51174935879759,-39.57697840881174,-39.642027233825075,-39.706895190542994,-39.771581637459605,-39.836085934864,-39.900407444846664,-39.96454553130573,-40.02849955995326,-40.09226889832158,-40.155852915769444,-40.219250983488365,-40.28246247450877,-40.34548676370622,-40.408323227807585,-40.47097124539724,-40.533430196923135,-40.595699464703046,-40.657778432930556,-40.71966648768121,-40.781363016918576,-40.84286741050029,-40.904179060184106,-40.96529735963391,-41.02622170442568,-41.086951492053515,-41.14748612193557,-41.20782499542,-41.26796751579083,-41.32791308827395,-41.38766112004295,-41.447211020224955,-41.5065621999065,-41.56571407213934,-41.62466605194632,-41.683417556327036,-41.7419680042637,-41.800316816726834,-41.85846341668105,-41.91640722909068,-41.97414768092554,-42.031684201166556,-42.089016220811395,-42.14614317288014,-42.203064492420864,-42.25977961651521,-42.316287984283996,-42.372589036892734,-42.42868221755714,-42.484566971548674,-42.540242746200036,-42.59570899091057,-42.65096515715179,-42.706010698472696]}],                        {\"legend\":{\"tracegroupgap\":0},\"margin\":{\"t\":60},\"template\":{\"data\":{\"barpolar\":[{\"marker\":{\"line\":{\"color\":\"#E5ECF6\",\"width\":0.5},\"pattern\":{\"fillmode\":\"overlay\",\"size\":10,\"solidity\":0.2}},\"type\":\"barpolar\"}],\"bar\":[{\"error_x\":{\"color\":\"#2a3f5f\"},\"error_y\":{\"color\":\"#2a3f5f\"},\"marker\":{\"line\":{\"color\":\"#E5ECF6\",\"width\":0.5},\"pattern\":{\"fillmode\":\"overlay\",\"size\":10,\"solidity\":0.2}},\"type\":\"bar\"}],\"carpet\":[{\"aaxis\":{\"endlinecolor\":\"#2a3f5f\",\"gridcolor\":\"white\",\"linecolor\":\"white\",\"minorgridcolor\":\"white\",\"startlinecolor\":\"#2a3f5f\"},\"baxis\":{\"endlinecolor\":\"#2a3f5f\",\"gridcolor\":\"white\",\"linecolor\":\"white\",\"minorgridcolor\":\"white\",\"startlinecolor\":\"#2a3f5f\"},\"type\":\"carpet\"}],\"choropleth\":[{\"colorbar\":{\"outlinewidth\":0,\"ticks\":\"\"},\"type\":\"choropleth\"}],\"contourcarpet\":[{\"colorbar\":{\"outlinewidth\":0,\"ticks\":\"\"},\"type\":\"contourcarpet\"}],\"contour\":[{\"colorbar\":{\"outlinewidth\":0,\"ticks\":\"\"},\"colorscale\":[[0.0,\"#0d0887\"],[0.1111111111111111,\"#46039f\"],[0.2222222222222222,\"#7201a8\"],[0.3333333333333333,\"#9c179e\"],[0.4444444444444444,\"#bd3786\"],[0.5555555555555556,\"#d8576b\"],[0.6666666666666666,\"#ed7953\"],[0.7777777777777778,\"#fb9f3a\"],[0.8888888888888888,\"#fdca26\"],[1.0,\"#f0f921\"]],\"type\":\"contour\"}],\"heatmapgl\":[{\"colorbar\":{\"outlinewidth\":0,\"ticks\":\"\"},\"colorscale\":[[0.0,\"#0d0887\"],[0.1111111111111111,\"#46039f\"],[0.2222222222222222,\"#7201a8\"],[0.3333333333333333,\"#9c179e\"],[0.4444444444444444,\"#bd3786\"],[0.5555555555555556,\"#d8576b\"],[0.6666666666666666,\"#ed7953\"],[0.7777777777777778,\"#fb9f3a\"],[0.8888888888888888,\"#fdca26\"],[1.0,\"#f0f921\"]],\"type\":\"heatmapgl\"}],\"heatmap\":[{\"colorbar\":{\"outlinewidth\":0,\"ticks\":\"\"},\"colorscale\":[[0.0,\"#0d0887\"],[0.1111111111111111,\"#46039f\"],[0.2222222222222222,\"#7201a8\"],[0.3333333333333333,\"#9c179e\"],[0.4444444444444444,\"#bd3786\"],[0.5555555555555556,\"#d8576b\"],[0.6666666666666666,\"#ed7953\"],[0.7777777777777778,\"#fb9f3a\"],[0.8888888888888888,\"#fdca26\"],[1.0,\"#f0f921\"]],\"type\":\"heatmap\"}],\"histogram2dcontour\":[{\"colorbar\":{\"outlinewidth\":0,\"ticks\":\"\"},\"colorscale\":[[0.0,\"#0d0887\"],[0.1111111111111111,\"#46039f\"],[0.2222222222222222,\"#7201a8\"],[0.3333333333333333,\"#9c179e\"],[0.4444444444444444,\"#bd3786\"],[0.5555555555555556,\"#d8576b\"],[0.6666666666666666,\"#ed7953\"],[0.7777777777777778,\"#fb9f3a\"],[0.8888888888888888,\"#fdca26\"],[1.0,\"#f0f921\"]],\"type\":\"histogram2dcontour\"}],\"histogram2d\":[{\"colorbar\":{\"outlinewidth\":0,\"ticks\":\"\"},\"colorscale\":[[0.0,\"#0d0887\"],[0.1111111111111111,\"#46039f\"],[0.2222222222222222,\"#7201a8\"],[0.3333333333333333,\"#9c179e\"],[0.4444444444444444,\"#bd3786\"],[0.5555555555555556,\"#d8576b\"],[0.6666666666666666,\"#ed7953\"],[0.7777777777777778,\"#fb9f3a\"],[0.8888888888888888,\"#fdca26\"],[1.0,\"#f0f921\"]],\"type\":\"histogram2d\"}],\"histogram\":[{\"marker\":{\"pattern\":{\"fillmode\":\"overlay\",\"size\":10,\"solidity\":0.2}},\"type\":\"histogram\"}],\"mesh3d\":[{\"colorbar\":{\"outlinewidth\":0,\"ticks\":\"\"},\"type\":\"mesh3d\"}],\"parcoords\":[{\"line\":{\"colorbar\":{\"outlinewidth\":0,\"ticks\":\"\"}},\"type\":\"parcoords\"}],\"pie\":[{\"automargin\":true,\"type\":\"pie\"}],\"scatter3d\":[{\"line\":{\"colorbar\":{\"outlinewidth\":0,\"ticks\":\"\"}},\"marker\":{\"colorbar\":{\"outlinewidth\":0,\"ticks\":\"\"}},\"type\":\"scatter3d\"}],\"scattercarpet\":[{\"marker\":{\"colorbar\":{\"outlinewidth\":0,\"ticks\":\"\"}},\"type\":\"scattercarpet\"}],\"scattergeo\":[{\"marker\":{\"colorbar\":{\"outlinewidth\":0,\"ticks\":\"\"}},\"type\":\"scattergeo\"}],\"scattergl\":[{\"marker\":{\"colorbar\":{\"outlinewidth\":0,\"ticks\":\"\"}},\"type\":\"scattergl\"}],\"scattermapbox\":[{\"marker\":{\"colorbar\":{\"outlinewidth\":0,\"ticks\":\"\"}},\"type\":\"scattermapbox\"}],\"scatterpolargl\":[{\"marker\":{\"colorbar\":{\"outlinewidth\":0,\"ticks\":\"\"}},\"type\":\"scatterpolargl\"}],\"scatterpolar\":[{\"marker\":{\"colorbar\":{\"outlinewidth\":0,\"ticks\":\"\"}},\"type\":\"scatterpolar\"}],\"scatter\":[{\"fillpattern\":{\"fillmode\":\"overlay\",\"size\":10,\"solidity\":0.2},\"type\":\"scatter\"}],\"scatterternary\":[{\"marker\":{\"colorbar\":{\"outlinewidth\":0,\"ticks\":\"\"}},\"type\":\"scatterternary\"}],\"surface\":[{\"colorbar\":{\"outlinewidth\":0,\"ticks\":\"\"},\"colorscale\":[[0.0,\"#0d0887\"],[0.1111111111111111,\"#46039f\"],[0.2222222222222222,\"#7201a8\"],[0.3333333333333333,\"#9c179e\"],[0.4444444444444444,\"#bd3786\"],[0.5555555555555556,\"#d8576b\"],[0.6666666666666666,\"#ed7953\"],[0.7777777777777778,\"#fb9f3a\"],[0.8888888888888888,\"#fdca26\"],[1.0,\"#f0f921\"]],\"type\":\"surface\"}],\"table\":[{\"cells\":{\"fill\":{\"color\":\"#EBF0F8\"},\"line\":{\"color\":\"white\"}},\"header\":{\"fill\":{\"color\":\"#C8D4E3\"},\"line\":{\"color\":\"white\"}},\"type\":\"table\"}]},\"layout\":{\"annotationdefaults\":{\"arrowcolor\":\"#2a3f5f\",\"arrowhead\":0,\"arrowwidth\":1},\"autotypenumbers\":\"strict\",\"coloraxis\":{\"colorbar\":{\"outlinewidth\":0,\"ticks\":\"\"}},\"colorscale\":{\"diverging\":[[0,\"#8e0152\"],[0.1,\"#c51b7d\"],[0.2,\"#de77ae\"],[0.3,\"#f1b6da\"],[0.4,\"#fde0ef\"],[0.5,\"#f7f7f7\"],[0.6,\"#e6f5d0\"],[0.7,\"#b8e186\"],[0.8,\"#7fbc41\"],[0.9,\"#4d9221\"],[1,\"#276419\"]],\"sequential\":[[0.0,\"#0d0887\"],[0.1111111111111111,\"#46039f\"],[0.2222222222222222,\"#7201a8\"],[0.3333333333333333,\"#9c179e\"],[0.4444444444444444,\"#bd3786\"],[0.5555555555555556,\"#d8576b\"],[0.6666666666666666,\"#ed7953\"],[0.7777777777777778,\"#fb9f3a\"],[0.8888888888888888,\"#fdca26\"],[1.0,\"#f0f921\"]],\"sequentialminus\":[[0.0,\"#0d0887\"],[0.1111111111111111,\"#46039f\"],[0.2222222222222222,\"#7201a8\"],[0.3333333333333333,\"#9c179e\"],[0.4444444444444444,\"#bd3786\"],[0.5555555555555556,\"#d8576b\"],[0.6666666666666666,\"#ed7953\"],[0.7777777777777778,\"#fb9f3a\"],[0.8888888888888888,\"#fdca26\"],[1.0,\"#f0f921\"]]},\"colorway\":[\"#636efa\",\"#EF553B\",\"#00cc96\",\"#ab63fa\",\"#FFA15A\",\"#19d3f3\",\"#FF6692\",\"#B6E880\",\"#FF97FF\",\"#FECB52\"],\"font\":{\"color\":\"#2a3f5f\"},\"geo\":{\"bgcolor\":\"white\",\"lakecolor\":\"white\",\"landcolor\":\"#E5ECF6\",\"showlakes\":true,\"showland\":true,\"subunitcolor\":\"white\"},\"hoverlabel\":{\"align\":\"left\"},\"hovermode\":\"closest\",\"mapbox\":{\"style\":\"light\"},\"paper_bgcolor\":\"white\",\"plot_bgcolor\":\"#E5ECF6\",\"polar\":{\"angularaxis\":{\"gridcolor\":\"white\",\"linecolor\":\"white\",\"ticks\":\"\"},\"bgcolor\":\"#E5ECF6\",\"radialaxis\":{\"gridcolor\":\"white\",\"linecolor\":\"white\",\"ticks\":\"\"}},\"scene\":{\"xaxis\":{\"backgroundcolor\":\"#E5ECF6\",\"gridcolor\":\"white\",\"gridwidth\":2,\"linecolor\":\"white\",\"showbackground\":true,\"ticks\":\"\",\"zerolinecolor\":\"white\"},\"yaxis\":{\"backgroundcolor\":\"#E5ECF6\",\"gridcolor\":\"white\",\"gridwidth\":2,\"linecolor\":\"white\",\"showbackground\":true,\"ticks\":\"\",\"zerolinecolor\":\"white\"},\"zaxis\":{\"backgroundcolor\":\"#E5ECF6\",\"gridcolor\":\"white\",\"gridwidth\":2,\"linecolor\":\"white\",\"showbackground\":true,\"ticks\":\"\",\"zerolinecolor\":\"white\"}},\"shapedefaults\":{\"line\":{\"color\":\"#2a3f5f\"}},\"ternary\":{\"aaxis\":{\"gridcolor\":\"white\",\"linecolor\":\"white\",\"ticks\":\"\"},\"baxis\":{\"gridcolor\":\"white\",\"linecolor\":\"white\",\"ticks\":\"\"},\"bgcolor\":\"#E5ECF6\",\"caxis\":{\"gridcolor\":\"white\",\"linecolor\":\"white\",\"ticks\":\"\"}},\"title\":{\"x\":0.05},\"xaxis\":{\"automargin\":true,\"gridcolor\":\"white\",\"linecolor\":\"white\",\"ticks\":\"\",\"title\":{\"standoff\":15},\"zerolinecolor\":\"white\",\"zerolinewidth\":2},\"yaxis\":{\"automargin\":true,\"gridcolor\":\"white\",\"linecolor\":\"white\",\"ticks\":\"\",\"title\":{\"standoff\":15},\"zerolinecolor\":\"white\",\"zerolinewidth\":2}}},\"xaxis\":{\"anchor\":\"y\",\"domain\":[0.0,1.0],\"title\":{\"text\":\"x\"},\"range\":[-60,60]},\"yaxis\":{\"anchor\":\"x\",\"domain\":[0.0,1.0],\"title\":{\"text\":\"y\"},\"range\":[-60,60]},\"width\":510,\"height\":500,\"showlegend\":false,\"shapes\":[{\"line\":{\"color\":\"black\"},\"type\":\"circle\",\"x0\":-16,\"x1\":16,\"xref\":\"x\",\"y0\":-16,\"y1\":16,\"yref\":\"y\"},{\"line\":{\"color\":\"black\"},\"type\":\"circle\",\"x0\":-58,\"x1\":58,\"xref\":\"x\",\"y0\":-58,\"y1\":58,\"yref\":\"y\"}]},                        {\"responsive\": true}                    ).then(function(){\n                            \nvar gd = document.getElementById('4b8b6235-5d9e-45b6-bbd5-e6fa51b5ac88');\nvar x = new MutationObserver(function (mutations, observer) {{\n        var display = window.getComputedStyle(gd).display;\n        if (!display || display === 'none') {{\n            console.log([gd, 'removed!']);\n            Plotly.purge(gd);\n            observer.disconnect();\n        }}\n}});\n\n// Listen for the removal of the full notebook cells\nvar notebookContainer = gd.closest('#notebook-container');\nif (notebookContainer) {{\n    x.observe(notebookContainer, {childList: true});\n}}\n\n// Listen for the clearing of the current output cell\nvar outputEl = gd.closest('.output');\nif (outputEl) {{\n    x.observe(outputEl, {childList: true});\n}}\n\n                        })                };                            </script>        </div>\n</body>\n</html>"
                },
                "metadata": {}
              }
            ]
          }
        },
        "47ac19ec31b64c03ac5553393c22f9c4": {
          "model_module": "@jupyter-widgets/base",
          "model_name": "LayoutModel",
          "model_module_version": "1.2.0",
          "state": {
            "_model_module": "@jupyter-widgets/base",
            "_model_module_version": "1.2.0",
            "_model_name": "LayoutModel",
            "_view_count": null,
            "_view_module": "@jupyter-widgets/base",
            "_view_module_version": "1.2.0",
            "_view_name": "LayoutView",
            "align_content": null,
            "align_items": null,
            "align_self": null,
            "border": null,
            "bottom": null,
            "display": null,
            "flex": null,
            "flex_flow": null,
            "grid_area": null,
            "grid_auto_columns": null,
            "grid_auto_flow": null,
            "grid_auto_rows": null,
            "grid_column": null,
            "grid_gap": null,
            "grid_row": null,
            "grid_template_areas": null,
            "grid_template_columns": null,
            "grid_template_rows": null,
            "height": null,
            "justify_content": null,
            "justify_items": null,
            "left": null,
            "margin": null,
            "max_height": null,
            "max_width": null,
            "min_height": null,
            "min_width": null,
            "object_fit": null,
            "object_position": null,
            "order": null,
            "overflow": null,
            "overflow_x": null,
            "overflow_y": null,
            "padding": null,
            "right": null,
            "top": null,
            "visibility": null,
            "width": null
          }
        },
        "db93f4400c5543dc9f427a04e25e186b": {
          "model_module": "@jupyter-widgets/controls",
          "model_name": "FloatSliderModel",
          "model_module_version": "1.5.0",
          "state": {
            "_dom_classes": [],
            "_model_module": "@jupyter-widgets/controls",
            "_model_module_version": "1.5.0",
            "_model_name": "FloatSliderModel",
            "_view_count": null,
            "_view_module": "@jupyter-widgets/controls",
            "_view_module_version": "1.5.0",
            "_view_name": "FloatSliderView",
            "continuous_update": true,
            "description": "z0",
            "description_tooltip": null,
            "disabled": false,
            "layout": "IPY_MODEL_46e6db7e073c43babda5a418445e4d02",
            "max": 150,
            "min": 0,
            "orientation": "horizontal",
            "readout": true,
            "readout_format": ".2f",
            "step": 0.1,
            "style": "IPY_MODEL_ce5697767c934100bfda41922d95eaac",
            "value": 39
          }
        },
        "ee61b5a127e14620a9e5f658da4c6756": {
          "model_module": "@jupyter-widgets/controls",
          "model_name": "FloatSliderModel",
          "model_module_version": "1.5.0",
          "state": {
            "_dom_classes": [],
            "_model_module": "@jupyter-widgets/controls",
            "_model_module_version": "1.5.0",
            "_model_name": "FloatSliderModel",
            "_view_count": null,
            "_view_module": "@jupyter-widgets/controls",
            "_view_module_version": "1.5.0",
            "_view_name": "FloatSliderView",
            "continuous_update": true,
            "description": "px",
            "description_tooltip": null,
            "disabled": false,
            "layout": "IPY_MODEL_5bb5aa45f9f441af8c264604aea6a81d",
            "max": 1,
            "min": -1,
            "orientation": "horizontal",
            "readout": true,
            "readout_format": ".2f",
            "step": 0.0001,
            "style": "IPY_MODEL_9f4bc8aa45204b9caeb73a5f1b343a9f",
            "value": -0.11
          }
        },
        "e534d1ce5a864f448be293e74d26a122": {
          "model_module": "@jupyter-widgets/controls",
          "model_name": "FloatSliderModel",
          "model_module_version": "1.5.0",
          "state": {
            "_dom_classes": [],
            "_model_module": "@jupyter-widgets/controls",
            "_model_module_version": "1.5.0",
            "_model_name": "FloatSliderModel",
            "_view_count": null,
            "_view_module": "@jupyter-widgets/controls",
            "_view_module_version": "1.5.0",
            "_view_name": "FloatSliderView",
            "continuous_update": true,
            "description": "py",
            "description_tooltip": null,
            "disabled": false,
            "layout": "IPY_MODEL_2f26b38e37664f4e9fcf8e302ab0e802",
            "max": 1,
            "min": -1,
            "orientation": "horizontal",
            "readout": true,
            "readout_format": ".2f",
            "step": 0.0001,
            "style": "IPY_MODEL_6aad39bea36943cc951734f890a31495",
            "value": 0.09
          }
        },
        "1c4d763089a64dc1a4f1af0fe0c8716c": {
          "model_module": "@jupyter-widgets/controls",
          "model_name": "IntSliderModel",
          "model_module_version": "1.5.0",
          "state": {
            "_dom_classes": [],
            "_model_module": "@jupyter-widgets/controls",
            "_model_module_version": "1.5.0",
            "_model_name": "IntSliderModel",
            "_view_count": null,
            "_view_module": "@jupyter-widgets/controls",
            "_view_module_version": "1.5.0",
            "_view_name": "IntSliderView",
            "continuous_update": true,
            "description": "charge",
            "description_tooltip": null,
            "disabled": false,
            "layout": "IPY_MODEL_cb5f4c06f5964a86affd876644028514",
            "max": 1,
            "min": -1,
            "orientation": "horizontal",
            "readout": true,
            "readout_format": "d",
            "step": 2,
            "style": "IPY_MODEL_dff058d9882f4feba361429e0d0abd58",
            "value": 1
          }
        },
        "a82295e30a1f4f2c9c3c981816fbc30c": {
          "model_module": "@jupyter-widgets/controls",
          "model_name": "FloatSliderModel",
          "model_module_version": "1.5.0",
          "state": {
            "_dom_classes": [],
            "_model_module": "@jupyter-widgets/controls",
            "_model_module_version": "1.5.0",
            "_model_name": "FloatSliderModel",
            "_view_count": null,
            "_view_module": "@jupyter-widgets/controls",
            "_view_module_version": "1.5.0",
            "_view_name": "FloatSliderView",
            "continuous_update": true,
            "description": "t_max",
            "description_tooltip": null,
            "disabled": false,
            "layout": "IPY_MODEL_c53f02f2d6a846459aca2e15790128fb",
            "max": 6.283185307179586,
            "min": 0,
            "orientation": "horizontal",
            "readout": true,
            "readout_format": ".2f",
            "step": 0.0001,
            "style": "IPY_MODEL_5efe45823c464b5c93ba46f0986ebf05",
            "value": 3.1416000000000004
          }
        },
        "6a0971efbf6640ad8e65cf03568dc329": {
          "model_module": "@jupyter-widgets/base",
          "model_name": "LayoutModel",
          "model_module_version": "1.2.0",
          "state": {
            "_model_module": "@jupyter-widgets/base",
            "_model_module_version": "1.2.0",
            "_model_name": "LayoutModel",
            "_view_count": null,
            "_view_module": "@jupyter-widgets/base",
            "_view_module_version": "1.2.0",
            "_view_name": "LayoutView",
            "align_content": null,
            "align_items": null,
            "align_self": null,
            "border": null,
            "bottom": null,
            "display": null,
            "flex": null,
            "flex_flow": "row wrap",
            "grid_area": null,
            "grid_auto_columns": null,
            "grid_auto_flow": null,
            "grid_auto_rows": null,
            "grid_column": null,
            "grid_gap": null,
            "grid_row": null,
            "grid_template_areas": null,
            "grid_template_columns": null,
            "grid_template_rows": null,
            "height": null,
            "justify_content": null,
            "justify_items": null,
            "left": null,
            "margin": null,
            "max_height": null,
            "max_width": null,
            "min_height": null,
            "min_width": null,
            "object_fit": null,
            "object_position": null,
            "order": null,
            "overflow": null,
            "overflow_x": null,
            "overflow_y": null,
            "padding": null,
            "right": null,
            "top": null,
            "visibility": null,
            "width": null
          }
        },
        "bffac904facd450d949df840a984cf4e": {
          "model_module": "@jupyter-widgets/base",
          "model_name": "LayoutModel",
          "model_module_version": "1.2.0",
          "state": {
            "_model_module": "@jupyter-widgets/base",
            "_model_module_version": "1.2.0",
            "_model_name": "LayoutModel",
            "_view_count": null,
            "_view_module": "@jupyter-widgets/base",
            "_view_module_version": "1.2.0",
            "_view_name": "LayoutView",
            "align_content": null,
            "align_items": null,
            "align_self": null,
            "border": null,
            "bottom": null,
            "display": null,
            "flex": null,
            "flex_flow": null,
            "grid_area": null,
            "grid_auto_columns": null,
            "grid_auto_flow": null,
            "grid_auto_rows": null,
            "grid_column": null,
            "grid_gap": null,
            "grid_row": null,
            "grid_template_areas": null,
            "grid_template_columns": null,
            "grid_template_rows": null,
            "height": null,
            "justify_content": null,
            "justify_items": null,
            "left": null,
            "margin": null,
            "max_height": null,
            "max_width": null,
            "min_height": null,
            "min_width": null,
            "object_fit": null,
            "object_position": null,
            "order": null,
            "overflow": null,
            "overflow_x": null,
            "overflow_y": null,
            "padding": null,
            "right": null,
            "top": null,
            "visibility": null,
            "width": null
          }
        },
        "46e6db7e073c43babda5a418445e4d02": {
          "model_module": "@jupyter-widgets/base",
          "model_name": "LayoutModel",
          "model_module_version": "1.2.0",
          "state": {
            "_model_module": "@jupyter-widgets/base",
            "_model_module_version": "1.2.0",
            "_model_name": "LayoutModel",
            "_view_count": null,
            "_view_module": "@jupyter-widgets/base",
            "_view_module_version": "1.2.0",
            "_view_name": "LayoutView",
            "align_content": null,
            "align_items": null,
            "align_self": null,
            "border": null,
            "bottom": null,
            "display": null,
            "flex": null,
            "flex_flow": null,
            "grid_area": null,
            "grid_auto_columns": null,
            "grid_auto_flow": null,
            "grid_auto_rows": null,
            "grid_column": null,
            "grid_gap": null,
            "grid_row": null,
            "grid_template_areas": null,
            "grid_template_columns": null,
            "grid_template_rows": null,
            "height": null,
            "justify_content": null,
            "justify_items": null,
            "left": null,
            "margin": null,
            "max_height": null,
            "max_width": null,
            "min_height": null,
            "min_width": null,
            "object_fit": null,
            "object_position": null,
            "order": null,
            "overflow": null,
            "overflow_x": null,
            "overflow_y": null,
            "padding": null,
            "right": null,
            "top": null,
            "visibility": null,
            "width": null
          }
        },
        "ce5697767c934100bfda41922d95eaac": {
          "model_module": "@jupyter-widgets/controls",
          "model_name": "SliderStyleModel",
          "model_module_version": "1.5.0",
          "state": {
            "_model_module": "@jupyter-widgets/controls",
            "_model_module_version": "1.5.0",
            "_model_name": "SliderStyleModel",
            "_view_count": null,
            "_view_module": "@jupyter-widgets/base",
            "_view_module_version": "1.2.0",
            "_view_name": "StyleView",
            "description_width": "",
            "handle_color": null
          }
        },
        "5bb5aa45f9f441af8c264604aea6a81d": {
          "model_module": "@jupyter-widgets/base",
          "model_name": "LayoutModel",
          "model_module_version": "1.2.0",
          "state": {
            "_model_module": "@jupyter-widgets/base",
            "_model_module_version": "1.2.0",
            "_model_name": "LayoutModel",
            "_view_count": null,
            "_view_module": "@jupyter-widgets/base",
            "_view_module_version": "1.2.0",
            "_view_name": "LayoutView",
            "align_content": null,
            "align_items": null,
            "align_self": null,
            "border": null,
            "bottom": null,
            "display": null,
            "flex": null,
            "flex_flow": null,
            "grid_area": null,
            "grid_auto_columns": null,
            "grid_auto_flow": null,
            "grid_auto_rows": null,
            "grid_column": null,
            "grid_gap": null,
            "grid_row": null,
            "grid_template_areas": null,
            "grid_template_columns": null,
            "grid_template_rows": null,
            "height": null,
            "justify_content": null,
            "justify_items": null,
            "left": null,
            "margin": null,
            "max_height": null,
            "max_width": null,
            "min_height": null,
            "min_width": null,
            "object_fit": null,
            "object_position": null,
            "order": null,
            "overflow": null,
            "overflow_x": null,
            "overflow_y": null,
            "padding": null,
            "right": null,
            "top": null,
            "visibility": null,
            "width": null
          }
        },
        "9f4bc8aa45204b9caeb73a5f1b343a9f": {
          "model_module": "@jupyter-widgets/controls",
          "model_name": "SliderStyleModel",
          "model_module_version": "1.5.0",
          "state": {
            "_model_module": "@jupyter-widgets/controls",
            "_model_module_version": "1.5.0",
            "_model_name": "SliderStyleModel",
            "_view_count": null,
            "_view_module": "@jupyter-widgets/base",
            "_view_module_version": "1.2.0",
            "_view_name": "StyleView",
            "description_width": "",
            "handle_color": null
          }
        },
        "2f26b38e37664f4e9fcf8e302ab0e802": {
          "model_module": "@jupyter-widgets/base",
          "model_name": "LayoutModel",
          "model_module_version": "1.2.0",
          "state": {
            "_model_module": "@jupyter-widgets/base",
            "_model_module_version": "1.2.0",
            "_model_name": "LayoutModel",
            "_view_count": null,
            "_view_module": "@jupyter-widgets/base",
            "_view_module_version": "1.2.0",
            "_view_name": "LayoutView",
            "align_content": null,
            "align_items": null,
            "align_self": null,
            "border": null,
            "bottom": null,
            "display": null,
            "flex": null,
            "flex_flow": null,
            "grid_area": null,
            "grid_auto_columns": null,
            "grid_auto_flow": null,
            "grid_auto_rows": null,
            "grid_column": null,
            "grid_gap": null,
            "grid_row": null,
            "grid_template_areas": null,
            "grid_template_columns": null,
            "grid_template_rows": null,
            "height": null,
            "justify_content": null,
            "justify_items": null,
            "left": null,
            "margin": null,
            "max_height": null,
            "max_width": null,
            "min_height": null,
            "min_width": null,
            "object_fit": null,
            "object_position": null,
            "order": null,
            "overflow": null,
            "overflow_x": null,
            "overflow_y": null,
            "padding": null,
            "right": null,
            "top": null,
            "visibility": null,
            "width": null
          }
        },
        "6aad39bea36943cc951734f890a31495": {
          "model_module": "@jupyter-widgets/controls",
          "model_name": "SliderStyleModel",
          "model_module_version": "1.5.0",
          "state": {
            "_model_module": "@jupyter-widgets/controls",
            "_model_module_version": "1.5.0",
            "_model_name": "SliderStyleModel",
            "_view_count": null,
            "_view_module": "@jupyter-widgets/base",
            "_view_module_version": "1.2.0",
            "_view_name": "StyleView",
            "description_width": "",
            "handle_color": null
          }
        },
        "cb5f4c06f5964a86affd876644028514": {
          "model_module": "@jupyter-widgets/base",
          "model_name": "LayoutModel",
          "model_module_version": "1.2.0",
          "state": {
            "_model_module": "@jupyter-widgets/base",
            "_model_module_version": "1.2.0",
            "_model_name": "LayoutModel",
            "_view_count": null,
            "_view_module": "@jupyter-widgets/base",
            "_view_module_version": "1.2.0",
            "_view_name": "LayoutView",
            "align_content": null,
            "align_items": null,
            "align_self": null,
            "border": null,
            "bottom": null,
            "display": null,
            "flex": null,
            "flex_flow": null,
            "grid_area": null,
            "grid_auto_columns": null,
            "grid_auto_flow": null,
            "grid_auto_rows": null,
            "grid_column": null,
            "grid_gap": null,
            "grid_row": null,
            "grid_template_areas": null,
            "grid_template_columns": null,
            "grid_template_rows": null,
            "height": null,
            "justify_content": null,
            "justify_items": null,
            "left": null,
            "margin": null,
            "max_height": null,
            "max_width": null,
            "min_height": null,
            "min_width": null,
            "object_fit": null,
            "object_position": null,
            "order": null,
            "overflow": null,
            "overflow_x": null,
            "overflow_y": null,
            "padding": null,
            "right": null,
            "top": null,
            "visibility": null,
            "width": null
          }
        },
        "dff058d9882f4feba361429e0d0abd58": {
          "model_module": "@jupyter-widgets/controls",
          "model_name": "SliderStyleModel",
          "model_module_version": "1.5.0",
          "state": {
            "_model_module": "@jupyter-widgets/controls",
            "_model_module_version": "1.5.0",
            "_model_name": "SliderStyleModel",
            "_view_count": null,
            "_view_module": "@jupyter-widgets/base",
            "_view_module_version": "1.2.0",
            "_view_name": "StyleView",
            "description_width": "",
            "handle_color": null
          }
        },
        "c53f02f2d6a846459aca2e15790128fb": {
          "model_module": "@jupyter-widgets/base",
          "model_name": "LayoutModel",
          "model_module_version": "1.2.0",
          "state": {
            "_model_module": "@jupyter-widgets/base",
            "_model_module_version": "1.2.0",
            "_model_name": "LayoutModel",
            "_view_count": null,
            "_view_module": "@jupyter-widgets/base",
            "_view_module_version": "1.2.0",
            "_view_name": "LayoutView",
            "align_content": null,
            "align_items": null,
            "align_self": null,
            "border": null,
            "bottom": null,
            "display": null,
            "flex": null,
            "flex_flow": null,
            "grid_area": null,
            "grid_auto_columns": null,
            "grid_auto_flow": null,
            "grid_auto_rows": null,
            "grid_column": null,
            "grid_gap": null,
            "grid_row": null,
            "grid_template_areas": null,
            "grid_template_columns": null,
            "grid_template_rows": null,
            "height": null,
            "justify_content": null,
            "justify_items": null,
            "left": null,
            "margin": null,
            "max_height": null,
            "max_width": null,
            "min_height": null,
            "min_width": null,
            "object_fit": null,
            "object_position": null,
            "order": null,
            "overflow": null,
            "overflow_x": null,
            "overflow_y": null,
            "padding": null,
            "right": null,
            "top": null,
            "visibility": null,
            "width": null
          }
        },
        "5efe45823c464b5c93ba46f0986ebf05": {
          "model_module": "@jupyter-widgets/controls",
          "model_name": "SliderStyleModel",
          "model_module_version": "1.5.0",
          "state": {
            "_model_module": "@jupyter-widgets/controls",
            "_model_module_version": "1.5.0",
            "_model_name": "SliderStyleModel",
            "_view_count": null,
            "_view_module": "@jupyter-widgets/base",
            "_view_module_version": "1.2.0",
            "_view_name": "StyleView",
            "description_width": "",
            "handle_color": null
          }
        },
        "159489778f374bcdba45696db50ccd1d": {
          "model_module": "@jupyter-widgets/controls",
          "model_name": "VBoxModel",
          "model_module_version": "1.5.0",
          "state": {
            "_dom_classes": [],
            "_model_module": "@jupyter-widgets/controls",
            "_model_module_version": "1.5.0",
            "_model_name": "VBoxModel",
            "_view_count": null,
            "_view_module": "@jupyter-widgets/controls",
            "_view_module_version": "1.5.0",
            "_view_name": "VBoxView",
            "box_style": "",
            "children": [
              "IPY_MODEL_2b92d737de3e401e8ce00cc8886b51d1",
              "IPY_MODEL_945c5665a6c247f9adf0eb6c89f9f5b2"
            ],
            "layout": "IPY_MODEL_f8599dbf971c471c8e1ab78bf4564686"
          }
        },
        "2b92d737de3e401e8ce00cc8886b51d1": {
          "model_module": "@jupyter-widgets/controls",
          "model_name": "HBoxModel",
          "model_module_version": "1.5.0",
          "state": {
            "_dom_classes": [],
            "_model_module": "@jupyter-widgets/controls",
            "_model_module_version": "1.5.0",
            "_model_name": "HBoxModel",
            "_view_count": null,
            "_view_module": "@jupyter-widgets/controls",
            "_view_module_version": "1.5.0",
            "_view_name": "HBoxView",
            "box_style": "",
            "children": [
              "IPY_MODEL_6da158744ff34cdfbece91569e802d6a"
            ],
            "layout": "IPY_MODEL_a3c3a495315940f89e1afcb2cc0188f2"
          }
        },
        "945c5665a6c247f9adf0eb6c89f9f5b2": {
          "model_module": "@jupyter-widgets/output",
          "model_name": "OutputModel",
          "model_module_version": "1.0.0",
          "state": {
            "_dom_classes": [],
            "_model_module": "@jupyter-widgets/output",
            "_model_module_version": "1.0.0",
            "_model_name": "OutputModel",
            "_view_count": null,
            "_view_module": "@jupyter-widgets/output",
            "_view_module_version": "1.0.0",
            "_view_name": "OutputView",
            "layout": "IPY_MODEL_56b94b1894a3446082e32a285a3db771",
            "msg_id": "",
            "outputs": [
              {
                "output_type": "display_data",
                "data": {
                  "text/html": "<html>\n<head><meta charset=\"utf-8\" /></head>\n<body>\n    <div>            <script src=\"https://cdnjs.cloudflare.com/ajax/libs/mathjax/2.7.5/MathJax.js?config=TeX-AMS-MML_SVG\"></script><script type=\"text/javascript\">if (window.MathJax && window.MathJax.Hub && window.MathJax.Hub.Config) {window.MathJax.Hub.Config({SVG: {font: \"STIX-Web\"}});}</script>                <script type=\"text/javascript\">window.PlotlyConfig = {MathJaxConfig: 'local'};</script>\n        <script charset=\"utf-8\" src=\"https://cdn.plot.ly/plotly-2.24.1.min.js\"></script>                <div id=\"b05b158f-3591-4a68-a453-974b6f8fd27c\" class=\"plotly-graph-div\" style=\"height:500px; width:510px;\"></div>            <script type=\"text/javascript\">                                    window.PLOTLYENV=window.PLOTLYENV || {};                                    if (document.getElementById(\"b05b158f-3591-4a68-a453-974b6f8fd27c\")) {                    Plotly.newPlot(                        \"b05b158f-3591-4a68-a453-974b6f8fd27c\",                        [{\"customdata\":[[1,17],[2,16],[3,21],[4,21],[6,29],[7,34],[8,35],[9,33],[10,33],[11,39],[12,38],[13,49],[14,49],[14,50],[15,54],[15,55],[16,54],[17,55],[18,55],[19,60],[20,60],[21,74],[22,74],[23,79],[24,80],[25,81],[26,82],[27,87],[28,87]],\"hovertemplate\":\"x=%{x}\\u003cbr\\u003ey=%{y}\\u003cbr\\u003ering=%{customdata[0]}\\u003cbr\\u003ewire=%{customdata[1]}\\u003cextra\\u003e\\u003c\\u002fextra\\u003e\",\"legendgroup\":\"\",\"marker\":{\"color\":\"#636efa\",\"symbol\":\"circle\",\"size\":3},\"mode\":\"markers\",\"name\":\"\",\"orientation\":\"v\",\"showlegend\":false,\"x\":[-8.858836539825633,-8.855030084586597,-10.556227353524216,-11.601493185942019,-12.852406784927414,-14.378462729808753,-15.888207305843803,-18.207327500507905,-19.852498310311297,-21.66990522102953,-22.29197841686117,-25.197070388188628,-26.303400350388834,-27.2660103080646,-27.857890922472354,-28.769397031711325,-28.973119129133394,-30.736109930346636,-31.427754956140717,-33.06493592271324,-34.71999138457265,-35.72572698951806,-37.28604902742545,-38.71563554093353,-40.27843575835297,-42.72956757589142,-44.756214346954074,-46.14675191980696,-47.342986807410355],\"xaxis\":\"x\",\"y\":[6.0398803606238936,8.2163005234148,8.85776360605244,9.73484945679906,13.184692473320187,14.739267019848889,15.171756404425338,15.48502674648577,15.652884858646331,16.471626335550887,17.919343544358245,18.703095141250493,19.524293567173295,18.155759173620776,20.240032851792318,18.922019208365672,21.050297189565867,21.400107798440445,22.818497437159145,23.45851605036021,23.505064925891254,25.02283222001835,25.203586866064967,26.089383007978455,26.24408059824514,26.679476285476973,25.99899654639583,26.797345556263455,27.491997255808258],\"yaxis\":\"y\",\"type\":\"scatter\",\"uid\":\"a476c49a-a35b-4fe4-9b8f-4864c9de9856\"},{\"type\":\"scatter\",\"uid\":\"582d9a36-0aa0-4f23-bae6-8e5ef3381e8d\",\"x\":[0.0,-0.1918100255364834,-0.38429039592679715,-0.5774392076622661,-0.7712545506237944,-0.965734508100681,-1.1608771568096188,-1.3566805669137096,-1.5531428020415348,-1.7502619193063254,-1.9480359693251756,-2.14646299623827,-2.34554103772831,-2.54526812503984,-2.7456422829988014,-2.946661530031946,-3.148323878186602,-3.350627333150129,-3.5535698942698275,-3.7571495545725924,-3.961364300784851,-4.166212113352422,-4.371690966460477,-4.577798828053638,-4.784533659855988,-4.991893417391296,-5.199876050003233,-5.408479500875579,-5.6177017070526745,-5.827540599459724,-6.037994102923292,-6.249060136191865,-6.460736611956364,-6.673021436870826,-6.885912511573139,-7.099407730705728,-7.313504982936422,-7.528202150979297,-7.74349711161571,-7.959387735715154,-8.17587188825646,-8.39294742834879,-8.610612209252857,-8.82886407840217,-9.04770087742434,-9.26712044216233,-9.487120602695981,-9.70769918336336,-9.928854002782352,-10.150582873872217,-10.372883603875167,-10.595753994378143,-10.819191841334465,-11.043194935085694,-11.267761060383457,-11.492887996411326,-11.71857351680687,-11.944815389683548,-12.171611377652887,-12.398959237846562,-12.626856721938566,-12.855301576167477,-13.084291541358745,-13.313824352946966,-13.543897740998375,-13.774509430233223,-14.005657140048342,-14.237338584539629,-14.469551472524678,-14.702293507565464,-14.93556238799102,-15.169355806920223,-15.403671452284598,-15.638507006851178,-15.87386014824542,-16.10972854897419,-16.346109876448722,-16.583001793007803,-16.820401955940767,-17.058308017510704,-17.296717624977745,-17.53562842062221,-17.77503804176802,-18.014944120806028,-18.255344285217426,-18.496236157597203,-18.737617355677692,-18.979485492352083,-19.221838175698082,-19.46467300900153,-19.707987590780043,-19.951779514806965,-20.19604637013488,-20.440785741119697,-20.685995207444428,-20.931672344143124,-21.177814721624884,-21.424419905697867,-21.671485457593363,-21.919008933989936,-22.166987887037557,-22.41541986438181,-22.66430240918819,-22.913633060166283,-23.163409351594325,-23.413628813343323,-23.664288970901673,-23.915387345399566,-24.1669214536335,-24.418888808090827,-24.671286916974402,-24.92411328422716,-25.177365409556856,-25.43104078846075,-25.685136912250407,-25.939651268076503,-26.19458133895359,-26.4499246037852,-26.705678537388494,-26.961840610519474,-27.218408289897866,-27.475379038232212,-27.73275031424496,-27.9905195726976,-28.24868426441582,-28.507241836314712,-28.766189731424063,-29.025525388913586,-29.285246244118298,-29.545349728563778,-29.805833269991787,-30.066694292385407,-30.327930215994776,-30.589538457362465,-30.851516429349054,-31.113861541158734,-31.3765711983649,-31.63964280293584,-31.903073753260415,-32.16686144417376,-32.43100326698311,-32.69549660949354,-32.960338856033765,-33.22552738748219,-33.49105958129255,-33.75693281152004,-34.023144448847226,-34.289691860610034,-34.55657241082378,-34.82378346020926,-35.09132236621886,-35.35918648306266,-35.6273731617346,-35.89587975003867,-36.16470359261524,-36.433842030967114,-36.70329240348609,-36.973052045478994,-37.24311828919426,-37.513488463848184,-37.78415989565141,-38.05512990783532,-38.326395820678535,-38.59795495153338,-38.8698046148525,-39.141942122215305,-39.41436478235458,-39.68706990118326,-39.96005478182076,-40.233316724620025,-40.50685302719386,-40.78066098444192,-41.054737888577364,-41.3290810291536,-41.603687693091146,-41.878555164704444,-42.153680725728734,-42.429061655346835,-42.704695230216274,-42.98057872449589,-43.25670940987318,-43.533084555590904,-43.8097014284744,-44.086557292958375,-44.3636494111141,-44.64097504267647,-44.91853144507107,-45.19631587344127,-45.474325580675455,-45.75255781743414,-46.03100983217709,-46.309678871190755,-46.58856217861518,-46.86765699647158,-47.14696056468934,-47.426470121133576,-47.70618290163216,-47.98609614000332,-48.26620706808283,-48.54651291575145,-48.827010910962315,-49.10769827976834,-49.38857224634967,-49.66963003304104,-49.95086886035946,-50.23228594703141,-50.513878510020646,-50.79564376455542,-51.07757892415635,-51.35968120066362,-51.64194780426486,-51.92437594352256,-52.206962825401746,-52.48970565529755,-52.772601637062905,-53.05564797303619,-53.33884186406876,-53.62218050955293,-53.905661107449305,-54.18928085431483,-54.47303694533019,-54.756926574327885,-55.040946933819654,-55.3250952150245,-55.60936860789631,-55.89376430115172,-56.17827948229788,-56.46291133766029,-56.747657052410624,-57.03251381059449,-57.31747879515948,-57.602549187982746,-57.88772216989916,-58.17299492072892,-58.458364619305705,-58.74382844350432,-59.0293835702688,-59.31502717564024,-59.60075643478473,-59.88656852202131,-60.172460610849896,-60.45842987397926,-60.744473483354895,-61.03058861018718,-61.31677242497909,-61.60302209755447,-61.889334797085716,-62.17570769212208,-62.462137950617404,-62.748622739958286,-63.03515922699206,-63.321744578054776,-63.60837595899927,-63.89505053522316,-64.18176547169692,-64.4685179329918,-64.75530508330809,-65.04212408650288,-65.3289721061184,-65.61584630540978,-65.90274384737339,-66.18966189477464,-66.47659761017623,-66.76354815596609,-67.05051069438552,-67.3374823875572,-67.62446039751327,-67.91144188622346,-68.19842401562295,-68.48540394764079,-68.77237884422756,-69.05934586738383,-69.34630217918783,-69.63324494182392,-69.92017131761028,-70.20707846902725,-70.49396355874526,-70.78082374965291,-71.06765620488504,-71.35445808785077,-71.6412265622616,-71.92795879215929,-72.21465194194424,-72.50130317640314,-72.78790966073734,-73.07446856059062,-73.36097704207742,-73.64743227181074,-73.93383141693025,-74.22017164513022,-74.50645012468759,-74.79266402448997,-75.07881051406359,-75.36488676360136,-75.65088994399073,-75.93681722684194,-76.22266578451558,-76.50843279015102,-76.79411541769389,-77.07971084192445,-77.36521623848525,-77.65062878390918,-77.93594565564739,-78.22116403209715,-78.50628109262982,-78.79129401761864,-79.07619998846681,-79.36099618763508,-79.64567979866993,-79.93024800623112,-80.21469799611984,-80.49902695530618,-80.78323207195731,-81.06731053546507,-81.35125953647379,-81.63507626690814,-81.91875792000084,-82.2023016903205,-82.48570477379914,-82.7689643677603,-83.05207767094637,-83.33504188354658,-83.61785420722447,-83.90051184514576,-84.18301200200581,-84.4653518840575,-84.74752869913857,-85.02953965669955,-85.3113819678311,-85.59305284529162,-85.87454950353506,-86.15586915873813,-86.4370090288281,-86.71796633351008,-86.99873829429478,-87.2793221345257,-87.55971507940686,-87.83991435603,-88.11991719340222,-88.39972082247317,-88.67932247616268,-88.95871938938788,-89.23790879909062,-89.516887944265,-89.79565406598431,-90.07420440742865,-90.35253621391195,-90.6306467329094,-90.90853321408447,-91.18619290931638,-91.46362307272693,-91.74082096070805,-92.01778383194853,-92.29450894746142,-92.57099357061108,-92.84723496714005,-93.12323040519638,-93.39897715536033,-93.67447249067169,-93.94971368665642,-94.22469802135394,-94.49942277534367,-94.7738852317723,-95.0480826763803,-95.32201239752911,-95.59567168622767,-95.86905783615933,-96.14216814370869,-96.41499990798815,-96.68755043086483,-96.95981701698705,-97.23179697381119,-97.50348761162809,-97.77488624358992,-98.04599018573641,-98.3167967570218,-98.58730327934096,-98.85750707755618,-99.12740547952342,-99.3969958161188,-99.66627542126514,-99.93524163195801,-100.20389178829245,-100.47222323348888,-100.74023331391976,-101.00791937913546,-101.27527878189085,-101.54230887817107,-101.8090070272181,-102.07537059155649,-102.3413969370198,-102.60708343277628,-102.87242745135518,-103.13742636867268,-103.40207756405765,-103.66637842027788,-103.93032632356562,-104.19391866364379,-104.45715283375137,-104.72002623066965,-104.98253625474754,-105.24468030992767,-105.50645580377167,-105.7678601474862,-106.02889075594821,-106.28954504773067,-106.5498204451282,-106.80971437418228,-107.06922426470706,-107.32834755031439,-107.58708166843957,-107.84542406036635,-108.10337217125257,-108.36092345015516,-108.61807535005548,-108.87482532788448,-109.13117084454797,-109.38710936495147,-109.6426383580255,-109.8977552967506,-110.15245765818216,-110.4067429234756,-110.66060857791103,-110.91405211091836,-111.16707101610189,-111.41966279126538,-111.67182493843643,-111.92355496389162,-112.17485037818071,-112.42570869615167,-112.67612743697501,-112.92610412416829,-113.17563628562087,-113.42472145361802,-113.67335716486565,-113.92154096051436,-114.16927038618405,-114.41654299198794,-114.66335633255696,-114.90970796706387,-115.1555954592474,-115.40101637743638,-115.64596829457375,-115.89044878824058,-116.13445544067993,-116.37798583882102,-116.62103757430276,-116.86360824349785,-117.1056954475363,-117.34729679232947,-117.58840988859336,-117.8290323518726,-118.06916180256373,-118.30879586593899,-118.5479321721696,-118.78656835634933,-119.02470205851785,-119.26233092368398,-119.49945260184917,-119.73606474803051,-119.97216502228417,-120.20775108972826,-120.44282062056624,-120.67737129010956,-120.91140077880115,-121.14490677223785,-121.3778869611937,-121.61033904164249,-121.84226071478079,-122.07364968705049,-122.3045036701615,-122.53482038111454,-122.76459754222353,-122.9938328811383,-123.22252413086682,-123.45066902979787,-123.67826532172319,-123.90531075586003,-124.1318030868731,-124.35774007489715,-124.58311948555877,-124.80793908999863,-125.03219666489365,-125.25588999247873,-125.47901686056896,-125.70157506258118,-125.92356239755617,-126.14497667018006,-126.3658156908063,-126.58607727547714,-126.80575924594541,-127.02485942969585,-127.24337565996679,-127.46130577577142,-127.67864762191923,-127.8953990490374,-128.11155791359187,-128.3271220779088,-128.54208941019536,-128.75645778456123,-128.97022508103916,-129.18338918560642,-129.39594799020526,-129.60789939276412,-129.81924129721816,-130.02997161353014,-130.24008825771102,-130.4495891518406,-130.65847222408803,-130.86673540873232,-131.07437664618288,-131.2813938829996,-131.48778507191352,-131.69354817184677,-131.89868114793296,-132.10318197153714,-132.3070486202761,-132.51027907803802,-132.71287133500277,-132.91482338766156,-133.11613323883668,-133.3167988977017,-133.51681837980044,-133.71618970706743,-133.91491090784666,-134.1129800169117,-134.31039507548482,-134.5071541312564,-134.70325523840427,-134.89869645761306,-135.0934758560931,-135.28759150759993,-135.4810414924529,-135.67382389755446,-135.8659368164091,-136.05737834914197,-136.24814660251792,-136.43823968995994,-136.62765573156815,-136.81639285413814,-137.00444919117965,-137.1918228829348,-137.37851207639682,-137.56451492532807,-137.74982959027852,-137.93445423860373,-138.11838704448314,-138.30162618893814,-138.48416985984989,-138.6660162519774,-138.8471635669752,-139.02761001341153,-139.20735380678548,-139.3863931695451,-139.56472633110468,-139.7423515278626,-139.91926700321835,-140.09547100759028,-140.27096179843255,-140.4457376402527,-140.61979680462866,-140.79313757022572,-140.96575822281386,-141.13765705528436,-141.30883236766692,-141.4792824671464,-141.64900566807947,-141.81800029201145,-141.98626466769286,-142.1537971310958,-142.3205960254306,-142.4866597011621,-142.6519865160259,-142.81657483504486,-142.98042303054496,-143.14352948217157,-143.30589257690548,-143.46751070907868,-143.62838228039055,-143.78850569992335,-143.94787938415806,-144.1065017569902,-144.2643712497452,-144.42148630119402,-144.57784535756852,-144.7334468725769,-144.888289307419,-145.0423711308014,-145.19569081895276,-145.34824685563862,-145.5000377321767,-145.65106194745158,-145.80131800792967,-145.95080442767392,-146.09951972835853,-146.2474624392836,-146.39463109738966,-146.5410242472721,-146.6866404411956,-146.83147823910855,-146.97553620865693,-147.118812925199,-147.26130697181895,-147.40301693934114,-147.54394142634393,-147.6840790391737,-147.82342839195832,-147.96198810662128,-148.09975681289487,-148.2367331483341,-148.37291575832995,-148.5083032961229,-148.6428944228162,-148.77668780738895,-148.90968212670958,-149.0418760655487,-149.1732683165922,-149.30385758045415,-149.43364256568958,-149.56262198880745,-149.6907945742831,-149.81815905457108,-149.94471417011752,-150.07045866937267,-150.19539130880327,-150.31951085290487,-150.4428160742139,-150.5653057533201,-150.68697867887826,-150.8078336476204,-150.92786946436763,-151.04708494204192,-151.16547890167783,-151.28305017243437,-151.39979759160627,-151.51572000463563,-151.63081626512346,-151.74508523484076,-151.85852578374,-151.97113678996612,-152.08291713986785,-152.19386572800846,-152.30398145717686,-152.41326323839837,-152.52170999094557,-152.62932064234894,-152.73609412840744,-152.84202939319908,-152.9471253890914,-153.05138107675168,-153.15479542515737,-153.25736741160623,-153.3590960217264,-153.4599802494866,-153.56001909720572,-153.6592115755632,-153.75755670360837,-153.85505350877034,-153.95170102686762,-154.04749830211762,-154.14244438714604,-154.23653834299648,-154.3297792391394,-154.42216615348156,-154.51369817237503,-154.60437439062622,-154.69419391150495,-154.78315584675315,-154.87125931659375,-154.95850344973945,-155.04488738340106,-155.13041026329637,-155.21507124365843,-155.29886948724385,-155.38180416534118,-155.46387445777916,-155.54507955293468,-155.6254186477409,-155.7048909476952,-155.78349566686697,-155.86123202790546,-155.9380992620474,-156.01409660912464,-156.08922331757168,-156.16347864443307,-156.23686185537076,-156.30937222467142,-156.3810090352535,-156.45177157867442,-156.52165915513757,-156.5906710734992,-156.65880665127523,-156.72606521464806,-156.7924460984732,-156.85794864628588,-156.92257221030744,-156.9863161514519,-157.0491798393321,-157.11116265226616,-157.17226397728336,-157.2324832101304,-157.2918197552773,-157.35027302592326,-157.4078424440026,-157.46452744019035,-157.52032745390778,-157.5752419333283,-157.6292703353825,-157.68241212576382,-157.73466677893367,-157.7860337781267,-157.83651261535593,-157.88610279141767,-157.9348038158966,-157.9826152071705,-158.02953649241508,-158.07556720760857,-158.12070689753648,-158.16495511579586,-158.2083114248,-158.25077539578248,-158.2923466088016,-158.33302465274448,-158.37280912533112,-158.41169963311825,-158.44969579150347,-158.48679722472895,-158.523003565885,-158.558314456914,-158.59272954861353,-158.62624850064026,-158.65887098151302,-158.69059666861614,-158.7214252482028,-158.75135641539788,-158.7803898742011,-158.80852533749004,-158.83576252702284,-158.86210117344092,-158.88754101627185,-158.9120818039317,-158.93572329372773,-158.95846525186053,-158.9803074534266,-159.00124968242045,-159.0212917317367,-159.04043340317227,-159.05867450742812,-159.07601486411136,-159.09245430173678,-159.1079926577289,-159.12262977842317,-159.13636551906774,-159.1491997438249,-159.16113232577237,-159.17216314690438,-159.18229209813316,-159.19151907928983,-159.19984399912533,-159.2072667753116,-159.21378733444203,-159.21940561203246,-159.22412155252164,-159.22793510927198,-159.23084624456976,-159.23285492962577,-159.23396114457532,-159.23416487847868,-159.23346612932104,-159.23186490401264,-159.22936121838848,-159.2259550972085,-159.22164657415703,-159.21643569184272,-159.21032250179775,-159.20330706447777,-159.19538944926103,-159.18656973444763,-159.176848007259,-159.16622436383687,-159.15469890924228,-159.1422717574547,-159.12894303137074,-159.11471286280306,-159.09958139247897,-159.08354877003913,-159.066615154036,-159.04878071193224,-159.03004562009923,-159.01041006381507,-158.98987423726302,-158.9684383435293,-158.9461025946013,-158.92286721136543,-158.89873242360483,-158.8736984699973,-158.84776559811266,-158.8209340644106,-158.79320413423795,-158.76457608182608,-158.73505019028832,-158.70462675161696,-158.67330606668042,-158.64108844522048,-158.60797420584896,-158.57396367604463,-158.53905719215004,-158.50325509936815,-158.46655775175896,-158.4289655122359,-158.39047875256233,-158.35109785334794,-158.31082320404477,-158.26965520294357,-158.2275942571697,-158.18464078267922,-158.14079520425474,-158.09605795550112,-158.05042947884147,-158.00391022551236,-157.9565006555597,-157.90820123783402,-157.85901244998593,-157.80893477846126,-157.75796871849647,-157.70611477411347,-157.65337345811486,-157.59974529207875,-157.54523080635371,-157.48983054005333,-157.43354504105116,-157.37637486597492,-157.3183205802015,-157.25938275785077,-157.19956198178048,-157.13885884358012,-157.0772739435651,-157.0148078907711,-156.95146130294762,-156.88723480655227,-156.8221290367443,-156.75614463737844,-156.68928226099845,-156.62154256883088,-156.5529262307782,-156.48343392541247,-156.41306633996845,-156.3418241703369,-156.26970812105765,-156.1967189053126,-156.1228572449188,-156.04812387032115,-155.9725195205853,-155.89604494339028,-155.81870089502107,-155.7404881403612,-155.66140745288516,-155.58145961465078,-155.50064541629138,-155.41896565700813,-155.33642114456188,-155.25301269526557,-155.16874113397574,-155.0836072940847,-154.99761201751195,-154.9107561546963,-154.82304056458702,-154.7344661146356,-154.64503368078718,-154.55474414747172,-154.46359840759533,-154.3715973625316,-154.27874192211237,-154.18503300461907,-154.09047153677332,-153.99505845372806,-153.8987946990581,-153.80168122475078,-153.70371899119684,-153.60490896718045,-153.5052521298701,-153.40474946480856,-153.30340196590345,-153.20121063541717,-153.09817648395705,-152.99430053046552,-152.88958380220973,-152.78402733477168,-152.67763217203782,-152.57039936618872,-152.4623299776888,-152.35342507527568,-152.24368573594967,-152.13311304496324,-152.02170809580997,-151.90947199021423,-151.79640583811977,-151.68251075767904,-151.5677878752421,-151.45223832534538,-151.33586325070064,-151.2186638021834,-151.10064113882189,-150.98179642778524,-150.86213084437222,-150.74164557199947,-150.62034180218984,-150.49822073456056,-150.37528357681154,-150.25153154471315,-150.12696586209444,-150.00158776083094,-149.87539848083244,-149.74839927003086,-149.62059138436769,-149.49197608778178,-149.36255465219682,-149.2323283575086,-149.1012984915725,-148.9694663501907,-148.83683323709934,-148.7034004639558,-148.5691693503254,-148.43414122366866,-148.29831741932804,-148.1616992805147,-148.02428815829538,-147.88608541157873,-147.74709240710223,-147.6073105194184,-147.46674113088142,-147.32538563163328,-147.1832454195901,-147.04032190042835,-146.8966164875709,-146.75213060217303,-146.60686567310842,-146.460823136955,-146.3140044379807,-146.1664110281293,-146.01804436700584,-145.86890592186248,-145.71899716758367,-145.56831958667192,-145.41687466923275,-145.26466391296026,-145.11168882312222,-144.95795091254516,-144.80345170159933,-144.6481927181839,-144.49217549771168,-144.3354015830938,-144.1778725247249,-144.0195898804672,-143.8605552156357,-143.70077010298218,-143.54023612267994,-143.37895486230815,-143.21692791683614,-143.05415688860745,-142.8906433873242,-142.7263890300312,-142.56139544109965,-142.39566425221147,-142.22919710234288,-142.06199563774828,-141.894061511944,-141.72539638569194,-141.5560019269831,-141.38587981102114,-141.2150317202058,-141.0434593441162,-140.8711643794942,-140.69814853022763,-140.5244135073334,-140.34996102894056,-140.17479282027338,-139.99891061363422,-139.82231614838645,-139.6450111709372,-139.46699743472016,-139.2882767001781,-139.10885073474572,-138.92872131283175,-138.74789021580193,-138.56635923196097,-138.38413015653504,-138.20120479165402,-138.01758494633359,-137.8332724364575,-137.64826908475936,-137.46257672080498,-137.27619718097384,-137.08913230844135,-136.90138395316026,-136.71295397184264,-136.52384422794137,-136.33405659163176,-136.143592939793,-135.9524551559897],\"y\":[0.0,0.21346596440312027,0.4263276821197408,0.6385830480826087,0.8502299632209258,1.0612663344810613,1.2716900748473066,1.4814991033624452,1.6906913451484087,1.899264731426733,2.1072171995390505,2.3145466929674754,2.5212511613549538,2.727328560525521,2.9327768525045457,3.1375940055388583,3.3417779941168533,3.545326798988498,3.7482384071853545,3.950510812040463,4.152142013208135,4.353130016683821,4.553472834823779,4.7531684863647,4.952214996443416,5.150610396616287,5.348352724878779,5.5454400256847975,5.741870349966078,5.937641755151418,6.132752305185932,6.32720007055012,6.52098312827907,6.714099561981357,6.906547461858054,7.098324924721624,7.28943005401473,7.47986095982894,7.669615758923541,7.858692574743998,8.04708953744067,8.234804783887213,8.421836457699015,8.608182709251565,8.793841695698731,8.978811580991035,9.16309053589373,9.346676738004945,9.52956837177372,9.711763628517915,9.893260706442078,10.074057810655361,10.254153153189193,10.433544953014987,10.612231436061734,10.790210835233538,10.967481390427153,11.14404134854935,11.319888963534225,11.49502249636052,11.669440215068775,11.843140394778487,12.01612131770517,12.188381273177313,12.35991855765333,12.530731474738374,12.700818335201149,12.870177456990618,13.038807165252535,13.206705792346185,13.373871677860734,13.54030316863171,13.705998618757349,13.870956389614804,14.035174849876498,14.198652375526109,14.361387349874676,14.523378163576652,14.684623214645711,14.845120908470676,15.004869657831279,15.163867882913792,15.322114011326704,15.479606478116281,15.636343725782027,15.792324204292086,15.947546371098511,16.102008691152676,16.25570963692026,16.408647688396513,16.560821333121197,16.7122290661936,16.862869390287344,17.012740815665282,17.161841860194144,17.310171049359283,17.4577269162792,17.60450800172002,17.750512854110042,17.895740029553934,18.040188091847156,18.183855612490078,18.32674117070212,18.468843353435844,18.61016075539088,18.750691979027835,18.890435634582147,19.029390340077768,19.167554721340878,19.304927412013484,19.44150705356688,19.577292295315132,19.712281794428392,19.846474215946245,19.979868232790807,20.112462525779975,20.24425578364034,20.375246703020295,20.505433988502787,20.634816352618202,20.76339251585715,20.891161206682966,21.01812116154443,21.144271124888206,21.269609849171232,21.394136094873105,21.517848630508325,21.64074623263845,21.762827685884233,21.884091782937574,22.004537324573604,22.12416311966234,22.242967985180627,22.36095074622378,22.478110236017173,22.594445295927883,22.709954775475993,22.824637532346088,22.938492432398533,23.051518349680634,23.163714166437828,23.275078773124747,23.385611068416097,23.49530995921768,23.604174360677092,23.712203196194523,23.819395397433397,23.925749904330885,24.031265665108435,24.13594163628217,24.23977678267319,24.342770077417825,24.44492050197779,24.546227046150207,24.646688708077704,24.74630449425821,24.845073419554865,24.94299450720567,25.040066788833272,25.136289304454422,25.231661102489525,25.32618123977207,25.419848781557874,25.512662801534447,25.604622381830055,25.695726613022842,25.785974594149764,25.875365432715626,25.963898244701767,26.0515721545749,26.138386295295703,26.224339808327457,26.309431843644475,26.393661559740565,26.477028123637297,26.559530710892304,26.641168505607354,26.721940700436505,26.801846496594024,26.880885103862326,26.959055740599766,27.036357633748352,27.11279001884148,27.18835214001136,27.2630432499966,27.336862610149524,27.40980949044355,27.481883169480327,27.553082934496942,27.62340808137293,27.692857914637216,27.761431747475044,27.829128901734762,27.89594870793448,27.96189050526874,28.02695364161505,28.09113747354027,28.15444136630707,28.21686469388014,28.278406838932398,28.339067192851104,28.39884515574387,28.457740136444613,28.515751552519333,28.572878830271975,28.629121404750023,28.684478719750146,28.738950227823622,28.792535390281827,28.845233677201506,28.8970445674301,28.947967548590768,28.99800211708755,29.047147778110357,29.095404045639796,29.14277044245202,29.189246500123417,29.234831759035302,29.27952576837839,29.323328086157346,29.366238279195002,29.408255923136835,29.449380602454994,29.489611910452524,29.52894944926733,29.567392829876127,29.604941672098292,29.6415956045996,29.677354264895953,29.712217299356894,29.74618436320914,29.77925512054,29.811429244300683,29.842706416309525,29.873086327255166,29.902568676699545,29.931153173080972,29.95883953371691,29.98562748480687,30.01151676143496,30.036507107572717,30.060598276081464,30.083790028714844,30.10608213612116,30.127474377845587,30.147966542332483,30.167558426927314,30.186249837878805,30.204040590340753,30.220930508373925,30.236919424947743,30.252007181941977,30.26619363014828,30.279478629271708,30.291862047932042,30.303343763665126,30.313923662924097,30.323601641080458,30.332377602425154,30.340251460169497,30.34722313644602,30.353292562309292,30.358459677736548,30.362724431628266,30.36608678180876,30.368546695026538,30.370104146954574,30.370759122190705,30.37051161425761,30.36936162560299,30.36730916759953,30.364354260544687,30.36049693366067,30.355737225093947,30.35007518191503,30.343510860117945,30.336044324619664,30.32767564925946,30.318404916798258,30.308232218917667,30.297157656219255,30.28518133822338,30.27230338336824,30.25852391900864,30.243843081414738,30.22826101577067,30.211777876173187,30.194393825630087,30.176109036058577,30.156923688283626,30.13683797203612,30.115852085951076,30.093966237565567,30.071180643316723,30.047495528539642,30.022911127465036,29.99742768321704,29.971045447810724,29.943764682149663,29.91558565602331,29.886508648104325,29.85653394594587,29.825661845978715,29.793892653508337,29.761226682711865,29.72766425663501,29.69320570718888,29.65785137514662,29.62160161014016,29.58445677065663,29.546417224034926,29.50748334646201,29.467655522969224,29.42693414742844,29.38531962254821,29.342812359869782,29.29941277976296,29.255121311422073,29.209938392861616,29.163864470911946,29.116900001214944,29.06904544821934,29.020301285176316,28.970667994134686,28.920146065936194,28.86873600021063,28.81643830537091,28.763253498608023,28.709182105885944,28.654224661936425,28.598381710253676,28.541653803089062,28.484041501445546,28.42554537507222,28.36616600245864,28.30590397082912,28.24475987613684,28.182734323058128,28.119827924986296,28.056041304025698,27.9913750909855,27.925829925373506,27.859406455389802,27.792105337920304,27.723927238530365,27.654872831458064,27.58494279960769,27.514137834542836,27.442458636479657,27.369905914279897,27.296480385443957,27.22218277610365,27.147013821015193,27.070974263551832,26.99406485569648,26.916286358034384,26.837639539745496,26.758125178596913,26.677744060935183,26.596496981678527,26.51438474430897,26.431408160864436,26.347568051930608,26.262865246632984,26.17730058262849,26.09087490609734,26.003589071734623,25.915443942741803,25.82644039081825,25.73657929615257,25.645861547413972,25.554288041743362,25.461859684744596,25.36857739047541,25.274442081438522,25.179454688572307,25.08361615124184,24.986927417229367,24.889389442725076,24.791003192317632,24.69176963898458,24.59168976408276,24.49076455733858,24.388995016838294,24.286382149017996,24.182926968653845,24.07863049885185,23.973493771037937,23.86751782494754,23.76070370861551,23.653052478365638,23.54456519880023,23.43524294278963,23.3250867914615,23.214097834190284,23.102277168586284,22.989625900484896,22.876145143935616,22.76183602119113,22.646699662696022,22.53073720707583,22.413949801125582,22.296338599798617,22.177904766195,22.05864947155017,21.938573895223286,21.817679224685563,21.695966655508528,21.5734373913522,21.45009264395327,21.325933633112896,21.200961586684926,21.075177740563532,20.948583338671114,20.821179632945885,20.692967883329672,20.56394935775522,20.434125332133874,20.303497090342816,20.172065924212404,20.039833133513454,19.906800025944264,19.77296791711788,19.638338130548817,19.50291199764024,19.36669085767059,19.229676057780495,19.091868952959274,18.95327090603176,18.813883287644614,18.673707476252872,18.532744858106355,18.390996827235824,18.24846478543934,18.105150142268272,17.96105431501347,17.816178728691156,17.67052481602896,17.52409401745153,17.376887781066543,17.228907562650193,17.080154825632917,16.930631041084794,16.780337687701163,16.62927625178787,16.477448227246583,16.324855115560098,16.171498425777372,16.01737967449874,15.86250038586077,15.706862091521344,15.550466330644326,15.39331464988453,15.235408603372278,15.076749752698163,14.91733966689742,14.757179922434645,14.596272103188014,14.43461780043367,14.272218612830088,14.109076146402074,13.945192014525091,13.780567837909103,13.615205244582754,13.449105869877044,13.282271356409396,13.114703354067174,12.946403519991577,12.777373518561063,12.607615021375068,12.43712970723736,12.265919262139406,12.093985379243875,11.921329758867628,11.747954108465223,11.573860142611693,11.399049582985882,11.2235241583532,11.04728560454869,10.870335664459716,10.692676088008866,10.51430863213659,10.335235060783717,10.15545714487422,9.974976662297522,9.79379539789106,9.611915143422422,9.429337697571938,9.246064865914576,9.062098460902305,8.87744030184605,8.692092214897812,8.506056033032436,8.319333596029665,8.131926750455904,7.943837349645804,7.755067253684189,7.565618329387377,7.375492450285023,7.184691496601317,6.993217355236581,6.80107191974848,6.608257090333424,6.414774773807608,6.220626883588338,6.025815339674963,5.83034206862996,5.6342090035599455,5.437418084096308,5.2399712563763785,5.041870473023877,4.8431176931298126,4.64371488223297,4.443664012300573,4.2429670617086686,4.041626015222732,3.8396428639778435,3.637019605459173,3.433758243482046,3.229860788172317,3.0253292559463816,2.820165669491196,2.6143720577444327,2.407950455874186,2.200902905259106,1.9932314534679563,1.7849381542396117,1.5760250674624885,1.3664942591544431,1.156347801442088,0.9455877725405131,0.7342162567325445,0.5222353443482959,0.30964713174444825,0.09645372128338892,-0.11734277868734466,-0.3317402538561609,-0.5467365839681122,-0.7623296428460264,-0.9785172984113899,-1.1952974127055924,-1.4126678419108814,-1.6306264363717702,-1.849171040616092,-2.0682994933765144,-2.2880096276117285,-2.508299270527985,-2.7291662436006163,-2.950608362595446,-3.172623437590552,-3.3952092729977466,-3.6183636675844824,-3.8420844144954316,-4.066369301274513,-4.2912161098864985,-4.516622616739298,-4.742586592705592,-4.96910580314519,-5.196178007926875,-5.423800961450695,-5.65197241267019,-5.880690105114525,-6.109951776911004,-6.339755160807172,-6.570097984193531,-6.800977969125732,-7.032392832347384,-7.264340285312343,-7.496818034207614,-7.72982377997581,-7.963355218338094,-8.19741003981678,-8.431985929758248,-8.667080568355942,-8.902691630673083,-9.13881678666592,-9.375453701206496,-9.612600034106038,-9.850253440137827,-10.08841156906059,-10.327072065641609,-10.566232569680139,-10.805890716030575,-11.046044134626086,-11.286690450501773,-11.527827283818347,-11.769452249885688,-12.0115629591862,-12.254157017398775,-12.497232025422107,-12.740785579398775,-12.9848152707387,-13.229318686143216,-13.474293407628714,-13.719737012550816,-13.965647073628006,-14.212021158965989,-14.458856832081452,-14.706151651926263,-14.953903172911708,-15.202108944932512,-15.450766513391208,-15.699873419222257,-15.949427198916595,-16.19942538454569,-16.4498655037863,-16.70074507994456,-16.95206163198082,-17.203812674533907,-17.455995717945804,-17.708608268286405,-17.96164782737788,-18.21511189281972,-18.468997958013176,-18.723303512186313,-18.97802604041859,-19.233163023666002,-19.488711938785684,-19.7446702585612,-20.001035451727184,-20.25780498299472,-20.514976313076133,-20.772546898710203,-21.030514192687434,-21.288875643875016,-21.54762869724228,-21.806770793885747,-22.066299371054676,-22.326211862176145,-22.586505696880707,-22.847178301027512,-23.108227096730076,-23.369649502381492,-23.6314429326802,-23.893604798655353,-24.156132507692504,-24.419023463559355,-24.682275066431195,-24.945884712916886,-25.209849796084306,-25.474167705486444,-25.738835827186954,-26.003851543786105,-26.269212234446805,-26.53491527492021,-26.800958037572023,-27.067337891408165,-27.334052202101063,-27.601098332015447,-27.86847364023472,-28.136175482586758,-28.404201211670376,-28.6725481768812,-28.94121372443821,-29.21019519740966,-29.479489935739522,-29.74909527627388,-30.019008552787017,-30.289227096008066,-30.55974823364712,-30.83056929042195,-31.10168758808418,-31.373100445446042,-31.644805178406628,-31.916799099978704,-32.189079520315,-32.46164374673509,-32.73448908375181,-33.00761283309794,-33.28101229375309,-33.55468476197011,-33.82862753130209,-34.10283789262891,-34.37731313418427,-34.6520505415822,-34.92704739784426,-35.20230098342604,-35.477808576244435,-35.75356745170417,-36.02957488272514,-36.30582813976905,-36.58232449086652,-36.859061201644266,-37.13603553535185,-37.41324475288904,-37.69068611283257,-37.96835687146364,-38.24625428279465,-38.524375598596706,-38.802718068426515,-39.08127893965382,-39.3600554574884,-39.63904486500756,-39.91824440318315,-40.19765131090895,-40.477262825028134,-40.75707618036026,-41.03708860972897,-41.31729734398903,-41.59769961205406,-41.87829264092356,-42.15907365571071,-42.440039879669456,-42.72118853422229,-43.0025168389875,-43.28402201180673,-43.56570126877259,-43.847551824256016,-44.12957089093403,-44.411755679817034,-44.6941034002767,-44.97661126007326,-45.25927646538342,-45.54209622082767,-45.82506772949829,-46.10818819298662,-46.39145481141111,-46.674864783444704,-46.95841530634268,-47.24210357597046,-47.52592678683111,-47.80988213209333,-48.09396680361896,-48.37817799199105,-48.66251288654131,-48.94696867537822,-49.23154254541457,-49.51623168239552,-49.80103327092618,-50.085944494499735,-50.37096253552504,-50.65608457535457,-50.941307794312465,-51.22662937172208,-51.51204648593427,-51.79755631435488,-52.08315603347307,-52.36884281888885,-52.65461384534137,-52.94046628673655,-53.2263973161753,-53.51240410598119,-53.798483827728745,-54.084633652271094,-54.3708507497681,-54.65713228971449,-54.94347544096749,-55.229877371775224,-55.51633524980434,-55.802846242168386,-56.08940751545546,-56.37601623575659,-56.66266956869342,-56.949364679446546,-57.23609873278328,-57.52286889308596,-57.80967232437972,-58.09650619036068,-58.383367654424084,-58.670253879692105,-58.9571620290422,-59.244089265134846,-59.53103275044192,-59.81798964727446,-60.10495711781101,-60.391932324125406,-60.67891242821514,-60.9658945920291,-61.252875977495975,-61.53985374655201,-61.826825061169245,-62.11378708338364,-62.400736975322914,-62.6876718992349,-62.974589017515285,-63.261485492736014,-63.54835848767301,-63.835205165334585,-64.12202268898912,-64.40880822219347,-64.69555892882073,-64.98227197308854,-65.2689445195869,-65.55557373330626,-65.84215677966579,-66.128690824541,-66.41517303429218,-66.70160057579211,-66.98797061645433,-67.27428032426086,-67.56052686779054,-67.84670741624673,-68.13281913948556,-68.41885920804367,-68.70482479316647,-68.99071306683582,-69.27652120179818,-69.56224637159262,-69.84788575057856,-70.13343651396393,-70.41889583783293,-70.70426089917414,-70.98952887590823,-71.27469694691607,-71.55976229206642,-71.8447220922441,-72.1295735293775,-72.41431378646683,-72.69894004761173,-72.9834494980391,-73.26783932413122,-73.55210671345316,-73.836248854781,-74.12026293812931,-74.40414615477918,-74.68789569730576,-74.97150875960631,-75.2549825369276,-75.53831422589406,-75.82150102453508,-76.10454013231309,-76.38742875015097,-76.67016408045987,-76.95274332716696,-77.23516369574278,-77.51742239322931,-77.79951662826716,-78.08144361112349,-78.36320055371937,-78.64478466965761,-78.92619317424999,-79.20742328454514,-79.48847221935576,-79.76933719928637,-80.05001544676063,-80.3305041860488,-80.61080064329543,-80.89090204654644,-81.17080562577685,-81.4505086129179,-81.73000824188469,-82.00930174860329,-82.2883863710383,-82.56725934921992,-82.84591792527154,-83.1243593434367,-83.40258085010652,-83.68057969384702,-83.95835312542607,-84.23589839784084,-84.51321276634474,-84.79029348847482,-85.06713782407853,-85.34374303534128,-85.62010638681305,-85.89622514543582,-86.17209658057033,-86.44771796402327,-86.72308657007413,-86.99819967550219,-87.27305455961358,-87.54764850426793,-87.82197879390552,-88.09604271557389,-88.36983755895493,-88.64336061639139,-88.91660918291399,-89.18958055626779,-89.46227203693928,-89.7346809281828,-90.00680453604741,-90.2786401694034,-90.55018513996887,-90.82143676233655,-91.09239235400003,-91.36304923538061,-91.63340472985351,-91.9034561637746,-92.17320086650659,-92.44263617044568,-92.71175941104772,-92.98056792685479,-93.24905905952127,-93.51723015384037,-93.78507855777022,-94.05260162246012,-94.31979670227685,-94.58666115483067,-94.85319234100163,-95.11938762496544,-95.38524437421987,-95.6507599596103,-95.91593175535631,-96.18075713907709,-96.44523349181782,-96.7093581980752,-96.97312864582365,-97.23654222654088,-97.49959633523375,-97.76228837046425,-98.02461573437483,-98.2865758327145,-98.54816607486413,-98.80938387386234,-99.07022664643094,-99.33069181300054,-99.59077679773596,-99.85047902856188,-100.10979593718807,-100.36872495913497,-100.62726353375896,-100.88540910427763,-101.14315911779525,-101.40051102532775,-101.65746228182823,-101.91401034621182,-102.17015268138115,-102.42588675425105,-102.68121003577397,-102.93612000096469,-103.19061412892557,-103.4446899028712,-103.69834481015354,-103.95157634228657,-104.20438199497119,-104.45675926812004,-104.70870566588206,-104.96021869666744,-105.21129587317188,-105.46193471240159,-105.71213273569751,-105.96188746876012,-106.2111964416736,-106.46005718893053,-106.7084672494561,-106.95642416663259,-107.20392548832345,-107.45096876689772,-107.6975515592543,-107.94367142684584,-108.1893259357032,-108.43451265645916,-108.6792291643728,-108.92347303935317,-109.16724186598347,-109.4105332335447,-109.65334473603976,-109.895673972217,-110.13751854559418,-110.37887606448197,-110.61974414200775,-110.8601203961392,-111.10000244970772,-111.33938793043214,-111.578274470942,-111.81665970880115,-112.05454128653086,-112.29191685163343,-112.52878405661514,-112.76514055900981,-113.00098402140165,-113.23631211144851,-113.47112250190506,-113.70541287064557,-113.93918090068708,-114.17242428021214,-114.40514070259186,-114.63732786640853,-114.86898347547856,-115.10010523887499,-115.3306908709504,-115.56073809135921,-115.7902446250805,-116.0192082024404,-116.2476265591344,-116.47549743625007,-116.70281858028903,-116.92958774318956,-117.15580268234855,-117.38146116064394,-117.60656094645657,-117.83109981369256,-118.05507554180498,-118.27848591581616,-118.5013287263393,-118.72360176960049,-118.94530284746048,-119.16642976743628,-119.38698034272316,-119.60695239221586,-119.82634374053055,-120.045152218026,-120.26337566082536,-120.48101191083728,-120.69805881577747,-120.91451422918976,-121.13037601046764,-121.34564202487508,-121.56031014356788,-121.77437824361465]}],                        {\"legend\":{\"tracegroupgap\":0},\"margin\":{\"t\":60},\"template\":{\"data\":{\"barpolar\":[{\"marker\":{\"line\":{\"color\":\"#E5ECF6\",\"width\":0.5},\"pattern\":{\"fillmode\":\"overlay\",\"size\":10,\"solidity\":0.2}},\"type\":\"barpolar\"}],\"bar\":[{\"error_x\":{\"color\":\"#2a3f5f\"},\"error_y\":{\"color\":\"#2a3f5f\"},\"marker\":{\"line\":{\"color\":\"#E5ECF6\",\"width\":0.5},\"pattern\":{\"fillmode\":\"overlay\",\"size\":10,\"solidity\":0.2}},\"type\":\"bar\"}],\"carpet\":[{\"aaxis\":{\"endlinecolor\":\"#2a3f5f\",\"gridcolor\":\"white\",\"linecolor\":\"white\",\"minorgridcolor\":\"white\",\"startlinecolor\":\"#2a3f5f\"},\"baxis\":{\"endlinecolor\":\"#2a3f5f\",\"gridcolor\":\"white\",\"linecolor\":\"white\",\"minorgridcolor\":\"white\",\"startlinecolor\":\"#2a3f5f\"},\"type\":\"carpet\"}],\"choropleth\":[{\"colorbar\":{\"outlinewidth\":0,\"ticks\":\"\"},\"type\":\"choropleth\"}],\"contourcarpet\":[{\"colorbar\":{\"outlinewidth\":0,\"ticks\":\"\"},\"type\":\"contourcarpet\"}],\"contour\":[{\"colorbar\":{\"outlinewidth\":0,\"ticks\":\"\"},\"colorscale\":[[0.0,\"#0d0887\"],[0.1111111111111111,\"#46039f\"],[0.2222222222222222,\"#7201a8\"],[0.3333333333333333,\"#9c179e\"],[0.4444444444444444,\"#bd3786\"],[0.5555555555555556,\"#d8576b\"],[0.6666666666666666,\"#ed7953\"],[0.7777777777777778,\"#fb9f3a\"],[0.8888888888888888,\"#fdca26\"],[1.0,\"#f0f921\"]],\"type\":\"contour\"}],\"heatmapgl\":[{\"colorbar\":{\"outlinewidth\":0,\"ticks\":\"\"},\"colorscale\":[[0.0,\"#0d0887\"],[0.1111111111111111,\"#46039f\"],[0.2222222222222222,\"#7201a8\"],[0.3333333333333333,\"#9c179e\"],[0.4444444444444444,\"#bd3786\"],[0.5555555555555556,\"#d8576b\"],[0.6666666666666666,\"#ed7953\"],[0.7777777777777778,\"#fb9f3a\"],[0.8888888888888888,\"#fdca26\"],[1.0,\"#f0f921\"]],\"type\":\"heatmapgl\"}],\"heatmap\":[{\"colorbar\":{\"outlinewidth\":0,\"ticks\":\"\"},\"colorscale\":[[0.0,\"#0d0887\"],[0.1111111111111111,\"#46039f\"],[0.2222222222222222,\"#7201a8\"],[0.3333333333333333,\"#9c179e\"],[0.4444444444444444,\"#bd3786\"],[0.5555555555555556,\"#d8576b\"],[0.6666666666666666,\"#ed7953\"],[0.7777777777777778,\"#fb9f3a\"],[0.8888888888888888,\"#fdca26\"],[1.0,\"#f0f921\"]],\"type\":\"heatmap\"}],\"histogram2dcontour\":[{\"colorbar\":{\"outlinewidth\":0,\"ticks\":\"\"},\"colorscale\":[[0.0,\"#0d0887\"],[0.1111111111111111,\"#46039f\"],[0.2222222222222222,\"#7201a8\"],[0.3333333333333333,\"#9c179e\"],[0.4444444444444444,\"#bd3786\"],[0.5555555555555556,\"#d8576b\"],[0.6666666666666666,\"#ed7953\"],[0.7777777777777778,\"#fb9f3a\"],[0.8888888888888888,\"#fdca26\"],[1.0,\"#f0f921\"]],\"type\":\"histogram2dcontour\"}],\"histogram2d\":[{\"colorbar\":{\"outlinewidth\":0,\"ticks\":\"\"},\"colorscale\":[[0.0,\"#0d0887\"],[0.1111111111111111,\"#46039f\"],[0.2222222222222222,\"#7201a8\"],[0.3333333333333333,\"#9c179e\"],[0.4444444444444444,\"#bd3786\"],[0.5555555555555556,\"#d8576b\"],[0.6666666666666666,\"#ed7953\"],[0.7777777777777778,\"#fb9f3a\"],[0.8888888888888888,\"#fdca26\"],[1.0,\"#f0f921\"]],\"type\":\"histogram2d\"}],\"histogram\":[{\"marker\":{\"pattern\":{\"fillmode\":\"overlay\",\"size\":10,\"solidity\":0.2}},\"type\":\"histogram\"}],\"mesh3d\":[{\"colorbar\":{\"outlinewidth\":0,\"ticks\":\"\"},\"type\":\"mesh3d\"}],\"parcoords\":[{\"line\":{\"colorbar\":{\"outlinewidth\":0,\"ticks\":\"\"}},\"type\":\"parcoords\"}],\"pie\":[{\"automargin\":true,\"type\":\"pie\"}],\"scatter3d\":[{\"line\":{\"colorbar\":{\"outlinewidth\":0,\"ticks\":\"\"}},\"marker\":{\"colorbar\":{\"outlinewidth\":0,\"ticks\":\"\"}},\"type\":\"scatter3d\"}],\"scattercarpet\":[{\"marker\":{\"colorbar\":{\"outlinewidth\":0,\"ticks\":\"\"}},\"type\":\"scattercarpet\"}],\"scattergeo\":[{\"marker\":{\"colorbar\":{\"outlinewidth\":0,\"ticks\":\"\"}},\"type\":\"scattergeo\"}],\"scattergl\":[{\"marker\":{\"colorbar\":{\"outlinewidth\":0,\"ticks\":\"\"}},\"type\":\"scattergl\"}],\"scattermapbox\":[{\"marker\":{\"colorbar\":{\"outlinewidth\":0,\"ticks\":\"\"}},\"type\":\"scattermapbox\"}],\"scatterpolargl\":[{\"marker\":{\"colorbar\":{\"outlinewidth\":0,\"ticks\":\"\"}},\"type\":\"scatterpolargl\"}],\"scatterpolar\":[{\"marker\":{\"colorbar\":{\"outlinewidth\":0,\"ticks\":\"\"}},\"type\":\"scatterpolar\"}],\"scatter\":[{\"fillpattern\":{\"fillmode\":\"overlay\",\"size\":10,\"solidity\":0.2},\"type\":\"scatter\"}],\"scatterternary\":[{\"marker\":{\"colorbar\":{\"outlinewidth\":0,\"ticks\":\"\"}},\"type\":\"scatterternary\"}],\"surface\":[{\"colorbar\":{\"outlinewidth\":0,\"ticks\":\"\"},\"colorscale\":[[0.0,\"#0d0887\"],[0.1111111111111111,\"#46039f\"],[0.2222222222222222,\"#7201a8\"],[0.3333333333333333,\"#9c179e\"],[0.4444444444444444,\"#bd3786\"],[0.5555555555555556,\"#d8576b\"],[0.6666666666666666,\"#ed7953\"],[0.7777777777777778,\"#fb9f3a\"],[0.8888888888888888,\"#fdca26\"],[1.0,\"#f0f921\"]],\"type\":\"surface\"}],\"table\":[{\"cells\":{\"fill\":{\"color\":\"#EBF0F8\"},\"line\":{\"color\":\"white\"}},\"header\":{\"fill\":{\"color\":\"#C8D4E3\"},\"line\":{\"color\":\"white\"}},\"type\":\"table\"}]},\"layout\":{\"annotationdefaults\":{\"arrowcolor\":\"#2a3f5f\",\"arrowhead\":0,\"arrowwidth\":1},\"autotypenumbers\":\"strict\",\"coloraxis\":{\"colorbar\":{\"outlinewidth\":0,\"ticks\":\"\"}},\"colorscale\":{\"diverging\":[[0,\"#8e0152\"],[0.1,\"#c51b7d\"],[0.2,\"#de77ae\"],[0.3,\"#f1b6da\"],[0.4,\"#fde0ef\"],[0.5,\"#f7f7f7\"],[0.6,\"#e6f5d0\"],[0.7,\"#b8e186\"],[0.8,\"#7fbc41\"],[0.9,\"#4d9221\"],[1,\"#276419\"]],\"sequential\":[[0.0,\"#0d0887\"],[0.1111111111111111,\"#46039f\"],[0.2222222222222222,\"#7201a8\"],[0.3333333333333333,\"#9c179e\"],[0.4444444444444444,\"#bd3786\"],[0.5555555555555556,\"#d8576b\"],[0.6666666666666666,\"#ed7953\"],[0.7777777777777778,\"#fb9f3a\"],[0.8888888888888888,\"#fdca26\"],[1.0,\"#f0f921\"]],\"sequentialminus\":[[0.0,\"#0d0887\"],[0.1111111111111111,\"#46039f\"],[0.2222222222222222,\"#7201a8\"],[0.3333333333333333,\"#9c179e\"],[0.4444444444444444,\"#bd3786\"],[0.5555555555555556,\"#d8576b\"],[0.6666666666666666,\"#ed7953\"],[0.7777777777777778,\"#fb9f3a\"],[0.8888888888888888,\"#fdca26\"],[1.0,\"#f0f921\"]]},\"colorway\":[\"#636efa\",\"#EF553B\",\"#00cc96\",\"#ab63fa\",\"#FFA15A\",\"#19d3f3\",\"#FF6692\",\"#B6E880\",\"#FF97FF\",\"#FECB52\"],\"font\":{\"color\":\"#2a3f5f\"},\"geo\":{\"bgcolor\":\"white\",\"lakecolor\":\"white\",\"landcolor\":\"#E5ECF6\",\"showlakes\":true,\"showland\":true,\"subunitcolor\":\"white\"},\"hoverlabel\":{\"align\":\"left\"},\"hovermode\":\"closest\",\"mapbox\":{\"style\":\"light\"},\"paper_bgcolor\":\"white\",\"plot_bgcolor\":\"#E5ECF6\",\"polar\":{\"angularaxis\":{\"gridcolor\":\"white\",\"linecolor\":\"white\",\"ticks\":\"\"},\"bgcolor\":\"#E5ECF6\",\"radialaxis\":{\"gridcolor\":\"white\",\"linecolor\":\"white\",\"ticks\":\"\"}},\"scene\":{\"xaxis\":{\"backgroundcolor\":\"#E5ECF6\",\"gridcolor\":\"white\",\"gridwidth\":2,\"linecolor\":\"white\",\"showbackground\":true,\"ticks\":\"\",\"zerolinecolor\":\"white\"},\"yaxis\":{\"backgroundcolor\":\"#E5ECF6\",\"gridcolor\":\"white\",\"gridwidth\":2,\"linecolor\":\"white\",\"showbackground\":true,\"ticks\":\"\",\"zerolinecolor\":\"white\"},\"zaxis\":{\"backgroundcolor\":\"#E5ECF6\",\"gridcolor\":\"white\",\"gridwidth\":2,\"linecolor\":\"white\",\"showbackground\":true,\"ticks\":\"\",\"zerolinecolor\":\"white\"}},\"shapedefaults\":{\"line\":{\"color\":\"#2a3f5f\"}},\"ternary\":{\"aaxis\":{\"gridcolor\":\"white\",\"linecolor\":\"white\",\"ticks\":\"\"},\"baxis\":{\"gridcolor\":\"white\",\"linecolor\":\"white\",\"ticks\":\"\"},\"bgcolor\":\"#E5ECF6\",\"caxis\":{\"gridcolor\":\"white\",\"linecolor\":\"white\",\"ticks\":\"\"}},\"title\":{\"x\":0.05},\"xaxis\":{\"automargin\":true,\"gridcolor\":\"white\",\"linecolor\":\"white\",\"ticks\":\"\",\"title\":{\"standoff\":15},\"zerolinecolor\":\"white\",\"zerolinewidth\":2},\"yaxis\":{\"automargin\":true,\"gridcolor\":\"white\",\"linecolor\":\"white\",\"ticks\":\"\",\"title\":{\"standoff\":15},\"zerolinecolor\":\"white\",\"zerolinewidth\":2}}},\"xaxis\":{\"anchor\":\"y\",\"domain\":[0.0,1.0],\"title\":{\"text\":\"x\"},\"range\":[-60,60]},\"yaxis\":{\"anchor\":\"x\",\"domain\":[0.0,1.0],\"title\":{\"text\":\"y\"},\"range\":[-60,60]},\"width\":510,\"height\":500,\"showlegend\":false,\"shapes\":[{\"line\":{\"color\":\"black\"},\"type\":\"circle\",\"x0\":-16,\"x1\":16,\"xref\":\"x\",\"y0\":-16,\"y1\":16,\"yref\":\"y\"},{\"line\":{\"color\":\"black\"},\"type\":\"circle\",\"x0\":-58,\"x1\":58,\"xref\":\"x\",\"y0\":-58,\"y1\":58,\"yref\":\"y\"}]},                        {\"responsive\": true}                    ).then(function(){\n                            \nvar gd = document.getElementById('b05b158f-3591-4a68-a453-974b6f8fd27c');\nvar x = new MutationObserver(function (mutations, observer) {{\n        var display = window.getComputedStyle(gd).display;\n        if (!display || display === 'none') {{\n            console.log([gd, 'removed!']);\n            Plotly.purge(gd);\n            observer.disconnect();\n        }}\n}});\n\n// Listen for the removal of the full notebook cells\nvar notebookContainer = gd.closest('#notebook-container');\nif (notebookContainer) {{\n    x.observe(notebookContainer, {childList: true});\n}}\n\n// Listen for the clearing of the current output cell\nvar outputEl = gd.closest('.output');\nif (outputEl) {{\n    x.observe(outputEl, {childList: true});\n}}\n\n                        })                };                            </script>        </div>\n</body>\n</html>"
                },
                "metadata": {}
              }
            ]
          }
        },
        "f8599dbf971c471c8e1ab78bf4564686": {
          "model_module": "@jupyter-widgets/base",
          "model_name": "LayoutModel",
          "model_module_version": "1.2.0",
          "state": {
            "_model_module": "@jupyter-widgets/base",
            "_model_module_version": "1.2.0",
            "_model_name": "LayoutModel",
            "_view_count": null,
            "_view_module": "@jupyter-widgets/base",
            "_view_module_version": "1.2.0",
            "_view_name": "LayoutView",
            "align_content": null,
            "align_items": null,
            "align_self": null,
            "border": null,
            "bottom": null,
            "display": null,
            "flex": null,
            "flex_flow": null,
            "grid_area": null,
            "grid_auto_columns": null,
            "grid_auto_flow": null,
            "grid_auto_rows": null,
            "grid_column": null,
            "grid_gap": null,
            "grid_row": null,
            "grid_template_areas": null,
            "grid_template_columns": null,
            "grid_template_rows": null,
            "height": null,
            "justify_content": null,
            "justify_items": null,
            "left": null,
            "margin": null,
            "max_height": null,
            "max_width": null,
            "min_height": null,
            "min_width": null,
            "object_fit": null,
            "object_position": null,
            "order": null,
            "overflow": null,
            "overflow_x": null,
            "overflow_y": null,
            "padding": null,
            "right": null,
            "top": null,
            "visibility": null,
            "width": null
          }
        },
        "6da158744ff34cdfbece91569e802d6a": {
          "model_module": "@jupyter-widgets/controls",
          "model_name": "FloatSliderModel",
          "model_module_version": "1.5.0",
          "state": {
            "_dom_classes": [],
            "_model_module": "@jupyter-widgets/controls",
            "_model_module_version": "1.5.0",
            "_model_name": "FloatSliderModel",
            "_view_count": null,
            "_view_module": "@jupyter-widgets/controls",
            "_view_module_version": "1.5.0",
            "_view_name": "FloatSliderView",
            "continuous_update": true,
            "description": "pz",
            "description_tooltip": null,
            "disabled": false,
            "layout": "IPY_MODEL_50a735ffb2e3415a92f0c53294a565ca",
            "max": 1,
            "min": -1,
            "orientation": "horizontal",
            "readout": true,
            "readout_format": ".2f",
            "step": 0.001,
            "style": "IPY_MODEL_843ba0dee2cc424b8460dd36c565f2d0",
            "value": 0.28
          }
        },
        "a3c3a495315940f89e1afcb2cc0188f2": {
          "model_module": "@jupyter-widgets/base",
          "model_name": "LayoutModel",
          "model_module_version": "1.2.0",
          "state": {
            "_model_module": "@jupyter-widgets/base",
            "_model_module_version": "1.2.0",
            "_model_name": "LayoutModel",
            "_view_count": null,
            "_view_module": "@jupyter-widgets/base",
            "_view_module_version": "1.2.0",
            "_view_name": "LayoutView",
            "align_content": null,
            "align_items": null,
            "align_self": null,
            "border": null,
            "bottom": null,
            "display": null,
            "flex": null,
            "flex_flow": "row wrap",
            "grid_area": null,
            "grid_auto_columns": null,
            "grid_auto_flow": null,
            "grid_auto_rows": null,
            "grid_column": null,
            "grid_gap": null,
            "grid_row": null,
            "grid_template_areas": null,
            "grid_template_columns": null,
            "grid_template_rows": null,
            "height": null,
            "justify_content": null,
            "justify_items": null,
            "left": null,
            "margin": null,
            "max_height": null,
            "max_width": null,
            "min_height": null,
            "min_width": null,
            "object_fit": null,
            "object_position": null,
            "order": null,
            "overflow": null,
            "overflow_x": null,
            "overflow_y": null,
            "padding": null,
            "right": null,
            "top": null,
            "visibility": null,
            "width": null
          }
        },
        "56b94b1894a3446082e32a285a3db771": {
          "model_module": "@jupyter-widgets/base",
          "model_name": "LayoutModel",
          "model_module_version": "1.2.0",
          "state": {
            "_model_module": "@jupyter-widgets/base",
            "_model_module_version": "1.2.0",
            "_model_name": "LayoutModel",
            "_view_count": null,
            "_view_module": "@jupyter-widgets/base",
            "_view_module_version": "1.2.0",
            "_view_name": "LayoutView",
            "align_content": null,
            "align_items": null,
            "align_self": null,
            "border": null,
            "bottom": null,
            "display": null,
            "flex": null,
            "flex_flow": null,
            "grid_area": null,
            "grid_auto_columns": null,
            "grid_auto_flow": null,
            "grid_auto_rows": null,
            "grid_column": null,
            "grid_gap": null,
            "grid_row": null,
            "grid_template_areas": null,
            "grid_template_columns": null,
            "grid_template_rows": null,
            "height": null,
            "justify_content": null,
            "justify_items": null,
            "left": null,
            "margin": null,
            "max_height": null,
            "max_width": null,
            "min_height": null,
            "min_width": null,
            "object_fit": null,
            "object_position": null,
            "order": null,
            "overflow": null,
            "overflow_x": null,
            "overflow_y": null,
            "padding": null,
            "right": null,
            "top": null,
            "visibility": null,
            "width": null
          }
        },
        "50a735ffb2e3415a92f0c53294a565ca": {
          "model_module": "@jupyter-widgets/base",
          "model_name": "LayoutModel",
          "model_module_version": "1.2.0",
          "state": {
            "_model_module": "@jupyter-widgets/base",
            "_model_module_version": "1.2.0",
            "_model_name": "LayoutModel",
            "_view_count": null,
            "_view_module": "@jupyter-widgets/base",
            "_view_module_version": "1.2.0",
            "_view_name": "LayoutView",
            "align_content": null,
            "align_items": null,
            "align_self": null,
            "border": null,
            "bottom": null,
            "display": null,
            "flex": null,
            "flex_flow": null,
            "grid_area": null,
            "grid_auto_columns": null,
            "grid_auto_flow": null,
            "grid_auto_rows": null,
            "grid_column": null,
            "grid_gap": null,
            "grid_row": null,
            "grid_template_areas": null,
            "grid_template_columns": null,
            "grid_template_rows": null,
            "height": null,
            "justify_content": null,
            "justify_items": null,
            "left": null,
            "margin": null,
            "max_height": null,
            "max_width": null,
            "min_height": null,
            "min_width": null,
            "object_fit": null,
            "object_position": null,
            "order": null,
            "overflow": null,
            "overflow_x": null,
            "overflow_y": null,
            "padding": null,
            "right": null,
            "top": null,
            "visibility": null,
            "width": null
          }
        },
        "843ba0dee2cc424b8460dd36c565f2d0": {
          "model_module": "@jupyter-widgets/controls",
          "model_name": "SliderStyleModel",
          "model_module_version": "1.5.0",
          "state": {
            "_model_module": "@jupyter-widgets/controls",
            "_model_module_version": "1.5.0",
            "_model_name": "SliderStyleModel",
            "_view_count": null,
            "_view_module": "@jupyter-widgets/base",
            "_view_module_version": "1.2.0",
            "_view_name": "StyleView",
            "description_width": "",
            "handle_color": null
          }
        },
        "d1d9fc8269da4d719b22f3a670a16787": {
          "model_module": "@jupyter-widgets/controls",
          "model_name": "VBoxModel",
          "model_module_version": "1.5.0",
          "state": {
            "_dom_classes": [],
            "_model_module": "@jupyter-widgets/controls",
            "_model_module_version": "1.5.0",
            "_model_name": "VBoxModel",
            "_view_count": null,
            "_view_module": "@jupyter-widgets/controls",
            "_view_module_version": "1.5.0",
            "_view_name": "VBoxView",
            "box_style": "",
            "children": [
              "IPY_MODEL_d3b6d7c47d5e4e37b3c98bdf4255b156",
              "IPY_MODEL_6834a95a8e91446bb28912cf3ea7edd9"
            ],
            "layout": "IPY_MODEL_2472f27e89a7417abab1aab1d9aa87f4"
          }
        },
        "d3b6d7c47d5e4e37b3c98bdf4255b156": {
          "model_module": "@jupyter-widgets/controls",
          "model_name": "HBoxModel",
          "model_module_version": "1.5.0",
          "state": {
            "_dom_classes": [],
            "_model_module": "@jupyter-widgets/controls",
            "_model_module_version": "1.5.0",
            "_model_name": "HBoxModel",
            "_view_count": null,
            "_view_module": "@jupyter-widgets/controls",
            "_view_module_version": "1.5.0",
            "_view_name": "HBoxView",
            "box_style": "",
            "children": [
              "IPY_MODEL_0e12f6961a4441ffa5611c8635ac553d",
              "IPY_MODEL_2ffed83cf2494e0bb716e350c2a91dfa"
            ],
            "layout": "IPY_MODEL_f855a744926b4c6b8325694d3f0d2056"
          }
        },
        "6834a95a8e91446bb28912cf3ea7edd9": {
          "model_module": "@jupyter-widgets/output",
          "model_name": "OutputModel",
          "model_module_version": "1.0.0",
          "state": {
            "_dom_classes": [],
            "_model_module": "@jupyter-widgets/output",
            "_model_module_version": "1.0.0",
            "_model_name": "OutputModel",
            "_view_count": null,
            "_view_module": "@jupyter-widgets/output",
            "_view_module_version": "1.0.0",
            "_view_name": "OutputView",
            "layout": "IPY_MODEL_454928c6b9f0431088f9f4400c86934c",
            "msg_id": "",
            "outputs": [
              {
                "output_type": "display_data",
                "data": {
                  "text/html": "<html>\n<head><meta charset=\"utf-8\" /></head>\n<body>\n    <div>            <script src=\"https://cdnjs.cloudflare.com/ajax/libs/mathjax/2.7.5/MathJax.js?config=TeX-AMS-MML_SVG\"></script><script type=\"text/javascript\">if (window.MathJax && window.MathJax.Hub && window.MathJax.Hub.Config) {window.MathJax.Hub.Config({SVG: {font: \"STIX-Web\"}});}</script>                <script type=\"text/javascript\">window.PlotlyConfig = {MathJaxConfig: 'local'};</script>\n        <script charset=\"utf-8\" src=\"https://cdn.plot.ly/plotly-2.24.1.min.js\"></script>                <div id=\"a82c85a5-309e-449b-8e76-9d177cdb91bd\" class=\"plotly-graph-div\" style=\"height:500px; width:510px;\"></div>            <script type=\"text/javascript\">                                    window.PLOTLYENV=window.PLOTLYENV || {};                                    if (document.getElementById(\"a82c85a5-309e-449b-8e76-9d177cdb91bd\")) {                    Plotly.newPlot(                        \"a82c85a5-309e-449b-8e76-9d177cdb91bd\",                        [{\"customdata\":[[1,2],[2,1],[4,1],[5,6],[6,7],[7,7],[8,8],[9,91],[11,105],[12,104],[13,4],[14,5],[15,6],[16,6],[17,146],[18,1],[19,1],[20,1],[21,16],[22,16],[23,17],[24,18],[25,11],[26,12],[27,13],[28,13]],\"hovertemplate\":\"x=%{x}\\u003cbr\\u003ey=%{y}\\u003cbr\\u003ering=%{customdata[0]}\\u003cbr\\u003ewire=%{customdata[1]}\\u003cextra\\u003e\\u003c\\u002fextra\\u003e\",\"legendgroup\":\"\",\"marker\":{\"color\":\"#636efa\",\"symbol\":\"circle\",\"size\":3},\"mode\":\"markers\",\"name\":\"\",\"orientation\":\"v\",\"showlegend\":false,\"x\":[10.245556865047051,11.944779959050903,15.042297129291416,16.933736101203436,18.270579323834532,20.48170815409074,21.796142570005706,23.433248495880548,26.49037596127198,28.007352660481907,30.727102066817306,31.69500183158087,33.10037585522371,34.42547519269902,36.26976923762888,37.35502489731073,39.185290807988224,40.2629387952264,41.816647058077265,42.95341275940658,44.42041076765323,45.53264607297221,47.30613621232367,48.01477700101862,49.33936576448523,50.61836088774479],\"xaxis\":\"x\",\"y\":[3.160332915230172,1.8003843533690067,1.7581908781788225,0.7883892949738822,1.574602678488659,1.72783609968194,2.554532045335411,4.711912729203439,6.388765481206148,6.0133755867345595,6.367363864692493,8.276096192413751,9.491371593870046,9.87133737630645,9.725265096334606,11.04492925382597,10.83809569176174,12.165819951871164,12.863480172041594,13.929021772171676,14.844801329251723,15.935487775637876,17.312997335847964,19.32996983009682,20.32848807876136,20.85545142158347],\"yaxis\":\"y\",\"type\":\"scatter\",\"uid\":\"a9c64b9a-36ac-4731-898f-4de7b4765a46\"},{\"type\":\"scatter\",\"uid\":\"417c68e8-f112-40c4-a7ad-ccf8b4f30772\",\"x\":[3.1086244689504383e-15,0.2625275766233428,0.5250331897481177,0.7875142433604787,1.049968141689451,1.3123922892326103,1.5747840907817494,1.837140951448558,2.0994602766902166,2.361739472335161,2.623975944608666,2.8861671001585107,3.1483103460806316,3.4104030899447584,3.6724427398200548,3.934426704300749,4.196352392531766,4.458217214234345,4.720018579731649,4.981753899974395,5.2434205865664545,5.505016051790394,5.766537708633159,6.027982970811607,6.2893492527980825,6.550633969845997,6.811834538015384,7.072948374198461,7.3339728961451645,7.594905522488698,7.855743672771048,8.116484767468515,8.377126228017213,8.637665476838594,8.898099937364865,9.158427034064578,9.41864419246803,9.678748839192727,9.938738401968854,10.1986103096647,10.45836199231209,10.717990881131799,10.977494408558947,11.23687000826841,11.496115115200196,11.755227165584737,12.014203596968434,12.273041848238751,12.531739359649734,12.790293572847242,13.048701930894259,13.306961878296182,13.565070861026102,13.823026326550053,14.080825723852248,14.33846650346033,14.59594611747056,14.853262019573043,15.11041166507682,15.367392510935234,15.624202015770821,15.880837639900639,16.137296845361305,16.3935770959341,16.649675857170052,16.905590596415013,17.161318782834687,17.416857887439676,17.672205383110462,17.927358744622442,18.18231544867088,18.437072973895788,18.69162880090706,18.945980412309126,19.200125292726053,19.454060928826326,19.70778480934773,19.961294425122173,20.2145872691005,20.46766083637731,20.72051262421568,20.97314013207198,21.22554086162053,21.4777123167784,21.729652003729928,21.98135743095165,22.23282610923663,22.484055551719326,22.735043273900047,22.98578679366957,23.236283631333684,23.4865313096377,23.736527353790965,23.98626929149131,24.23575465294955,24.48498097091384,24.733945780694146,24.982646620186518,25.23108102989762,25.47924655296882,25.727140735200663,25.97476112507708,26.22210527378962,26.46917073526169,26.715955066172743,26.962455825982424,27.20867057695472,27.45459688418206,27.7002323156094,27.9455744420583,28.190620837250844,28.43536907783383,28.679816743402483,28.923961416524616,29.16780068276442,29.41133213070636,29.65455335197903,29.897461941278973,30.140055496394464,30.382331618229255,30.624287910826343,30.865921981391555,31.107231440317424,31.348213901206524,31.588866980895393,31.82918829947781,32.06917548032853,32.308826150126684,32.54813793887932,32.78710847994478,33.02573541005613,33.264016369344525,33.501949001362576,33.73953095310762,33.97675987504494,34.2136334211312,34.45014924883733,34.686305019172025,34.922098396704605,35.157527049588296,35.392588649583175,35.62728087207927,35.86160139611949,36.09554790442264,36.329118083406264,36.56230962320959,36.79512021771637,37.027547564577574,37.25958936523436,37.49124332494062,37.72250715278577,37.953378561717365,38.183855268563775,38.413934994056675,38.643615462853674,38.87289440356076,39.10176954875475,39.33023863500579,39.55829940289967,39.7859495970602,40.013186966171446,40.24000926300017,40.46641424441778,40.692399671422834,40.917963309162886,41.14310292695677,41.36781629831662,41.59210120096986,41.8159554168812,42.039376732274555,42.26236293765499,42.48491182783046,42.707021201933806,42.92868886344425,43.14991262020942,43.37069028446678,43.59101967286543,43.81089860648758,44.03032491087017,44.24929641602638,44.46781095646704,44.68586637122208,44.90346050386188,45.120591202518646,45.33725631990759,45.55345371334826,45.76918124478573,45.98443678081164,46.19921819268543,46.41352335635529,46.62735015247921,46.84069646644593,47.053560188395856,47.26593921324193,47.47783144069043,47.68923477526176,47.90014712631116,48.11056640804938,48.320490539563316,48.52991744483659,48.73884505277007,48.947271297202356,49.15519411693023,49.36261145572901,49.569521262372895,49.77592149065526,49.9818100994089,50.18718505252619,50.39204431897923,50.596385872839946,50.8002076933001,51.003507764691285,51.20628407650487,51.40853462341189,51.61025740528283,51.81145042720745,52.0121116995145,52.21223923779138,52.411831062903815,52.61088520101538,52.809399683607005,53.007372547496516,53.20480183485796,53.40168559324104,53.598021875590376,53.7938087402648,53.98904425105652,54.18372647721029,54.3778534934425,54.571423379960194,54.764434222480105,54.95688411224753,55.148771146055246,55.34009342626232,55.530849060812876,55.721036163254794,55.91065285275837,56.099697254134924,56.288167497855376,56.47606172006864,56.663378062620204,56.85011467307031,57.03626970471246,57.22184131659158,57.406827673522244,57.59122694610683,57.77503731075361,57.95825694969478,58.14088405100442,58.32291680861645,58.50435342234248,58.68519209788958,58.86543104687807,59.04506848685919,59.22410264133267,59.402531739764434,59.58035401760395,59.7575677163018,59.93417108332701,60.11016237218441,60.2855398424319,60.460301759697614,60.634446395697175,60.807972028250674,60.98087694129979,61.15315942492471,61.32481777536105,61.495850295016695,61.66625529248862,61.83603108257959,62.00517598631483,62.17368833095863,62.3415664500309,62.508808683323615,62.67541337691727,62.841378883197216,63.00670356086999,63.17138577497946,63.335423896923096,63.49881630446803,63.66156138176708,63.82365751937474,63.98510311426316,64.14589656983787,64.30603629595369,64.46552070893043,64.62434823156846,64.78251729316445,64.94002632952679,65.0968737829911,65.25305810243566,65.4085777432967,65.56343116758372,65.71761684389467,65.8711332474311,66.02397886001323,66.17615217009502,66.32765167277903,66.47847586983137,66.62862326969648,66.7780923875119,66.92688174512297,67.0749898710974,67.22241530073984,67.36915657610642,67.51521224601906,67.66058086607994,67.80526099868568,67.94925121304166,68.09255008517603,68.23515619795396,68.37706814109153,68.51828451116968,68.65880391164823,68.79862495287949,68.93774625212212,69.07616643355483,69.21388412828989,69.35089797438674,69.48720661686542,69.62280870772001,69.75770290593191,69.89188787748316,70.02536229536958,70.1581248396139,70.29017419727887,70.42150906248018,70.55212813639939,70.68203012729678,70.81121375052415,70.93967772853746,71.06742079090955,71.19444167434263,71.32073912268079,71.44631188692249,71.57115872523278,71.69527840295572,71.81866969262649,71.94133137398354,72.06326223398078,72.18446106679939,72.30492667385985,72.4246578638338,72.54365345265579,72.66191226353499,72.77943312696684,72.89621488074461,73.01225636997091,73.1275564470691,73.24211397179458,73.35592781124619,73.46899683987732,73.58131993950705,73.69289599933126,73.80372391593352,73.91380259329613,74.02313094281082,74.13170788328968,74.23953234097567,74.34660324955337,74.45291955015946,74.55848019139323,74.66328412932698,74.76733032751628,74.87061775701028,74.97314539636191,75.07491223163788,75.17591725642882,75.27615947185916,75.37563788659702,75.47435151686405,75.5722993864451,75.66948052669795,75.76589397656281,75.86153878257187,75.95641399885874,76.05051868716774,76.14385191686326,76.23641276493892,76.32820031602671,76.419213662406,76.50945190401258,76.59891414844755,76.6875995109861,76.77550711458632,76.86263608989778,76.94898557527026,77.03455471676217,77.11934266814905,77.20334859093184,77.28657165434532,77.36901103536626,77.4506659187215,77.53153549689607,77.6116189701412,77.69091554648219,77.76942444172623,77.8471448794702,77.92407609110832,78.00021731583973,78.0755678006761,78.15012680044893,78.22389357781707,78.29686740327391,78.36904755515468,78.44043331964346,78.51102399078039,78.58081887046855,78.64981726848089,78.71801850246703,78.78542189796013,78.85202678838334,78.91783251505662,78.98283842720309,79.04704388195556,79.11044824436286,79.17305088739606,79.23485119195482,79.2958485468733,79.35604234892645,79.41543200283576,79.47401692127524,79.53179652487727,79.58877024223824,79.64493750992426,79.7002977724767,79.75485048241774,79.80859510025567,79.8615310944904,79.91365794161851,79.9649751261386,80.01548214055629,80.06517848538925,80.11406366917221,80.16213720846174,80.20939862784105,80.25584745992471,80.30148324536324,80.34630553284774,80.39031387911419,80.43350784894804,80.4758870151883,80.51745095873197,80.558199268538,80.5981315416315,80.63724738310763,80.67554640613557,80.71302823196227,80.74969248991628,80.78553881741138,80.82056685995013,80.85477627112745,80.88816671263396,80.9207378542594,80.95248937389587,80.983420957541,81.01353229930103,81.04282310139396,81.07129307415232,81.09894193602616,81.12576941358581,81.15177524152452,81.17695916266118,81.20132092794279,81.22486029644696,81.24757703538428,81.26947092010063,81.2905417340794,81.31078926894361,81.33021332445797,81.34881370853093,81.3665902372165,81.3835427347161,81.39967103338027,81.4149749737104,81.42945440436021,81.44310918213736,81.45593917200475,81.46794424708192,81.4791242886463,81.48947918613439,81.49900883714281,81.50771314742937,81.51559203091398,81.52264540967946,81.52887321397239,81.53427538220373,81.53885186094946,81.54260260495114,81.54552757711627,81.54762674851874,81.54890009839906,81.54934761416463,81.5489692913898,81.54776513381593,81.5457351533514,81.54287937007139,81.53919781221781,81.53469051619892,81.52935752658902,81.523198896128,81.51621468572078,81.50840496443678,81.49976980950919,81.49030930633421,81.48002354847021,81.4689126376368,81.45697668371385,81.44421580474034,81.43063012691327,81.41621978458637,81.40098492026878,81.38492568462364,81.36804223646658,81.35033474276419,81.33180337863236,81.31244832733448,81.29226978027974,81.27126793702116,81.24944300525362,81.22679520081188,81.20332474766829,81.17903187793077,81.15391683184036,81.12797985776893,81.10122121221669,81.07364115980964,81.045239973297,81.01601793354847,80.98597532955148,80.95511245840828,80.9234296253331,80.89092714364904,80.85760533478499,80.82346452827251,80.78850506174248,80.75272728092185,80.71613153963013,80.67871819977599,80.64048763135358,80.60144021243899,80.56157632918637,80.52089637582422,80.47940075465146,80.43708987603345,80.39396415839789,80.35002402823076,80.30526992007205,80.25970227651148,80.21332154818411,80.16612819376589,80.11812267996915,80.06930548153791,80.0196770812433,79.96923796987869,79.91798864625486,79.86592961719508,79.81306139753009,79.75938451009301,79.70489948571422,79.64960686321598,79.59350718940723,79.53660101907813,79.47888891499458,79.42037144789265,79.36104919647292,79.30092274739481,79.23999269527071,79.17825964266017,79.11572420006388,79.05238698591765,78.98824862658634,78.92330975635761,78.85757101743562,78.79103305993478,78.72369654187325,78.65556212916644,78.58663049562043,78.5169023229253,78.44637830064845,78.37505912622763,78.30294550496424,78.23003815001617,78.1563377823909,78.08184513093829,78.00656093234332,77.93048593111897,77.85362087959865,77.77596653792895,77.69752367406201,77.61829306374794,77.53827549052717,77.4574717457227,77.37588262843227,77.29350894552044,77.21035151161065,77.1264111490771,77.04168868803673,76.95618496634084,76.86990082956697,76.78283713101045,76.694994731676,76.60637450026915,76.51697731318775,76.42680405451321,76.33585561600182,76.24413289707586,76.15163680481483,76.05836825394633,75.96432816683712,75.86951747348395,75.77393711150441,75.67758802612755,75.58047117018471,75.48258750409988,75.38393799588042,75.2845236211073,75.18434536292557,75.08340421203464,74.98170116667836,74.87923723263529,74.77601342320871,74.67203075921653,74.5672902689813,74.46179298831994,74.3555399605336,74.24853223639728,74.1407708741494,74.03225693948143,73.92299150552729,73.81297565285274,73.70221046944475,73.59069705070061,73.47843649941726,73.36542992578028,73.25167844735293,73.13718318906511,73.02194528320226,72.90596586939405,72.7892460946033,72.67178711311445,72.55359008652225,72.43465618372028,72.3149865808893,72.19458246148572,72.07344501622983,71.95157544309407,71.8289749472911,71.70564474126205,71.5815860446643,71.45680008435964,71.33128809440196,71.20505131602515,71.07809099763082,70.9504083947759,70.82200477016032,70.69288139361431,70.56303954208617,70.43248049962934,70.30120555738985,70.16921601359354,70.03651317353322,69.9030983495557,69.7689728610489,69.63413803442873,69.49859520312604,69.36234570757337,69.22539089519171,69.08773212037723,68.9493707444878,68.81030813582959,68.67054566964349,68.5300847280916,68.3889267002434,68.2470729820622,68.1045249763912,67.96128409293969,67.81735174826903,67.67272936577878,67.52741837569242,67.38142021504342,67.23473632766091,67.08736816415536,66.93931718190443,66.79058484503823,66.64117262442522,66.49108199765736,66.3403144490357,66.18887146955554,66.0367545568918,65.88396521538417,65.73050495602226,65.57637529643056,65.42157776085355,65.26611388014064,65.10998519173083,64.95319323963778,64.79573957443432,64.63762575323726,64.47885333969185,64.31942390395653,64.15933902268715,63.99860027902158,63.837209262563896,63.67516756936882,63.51247680192582,63.34913856914327,63.18515448633266,63.02052617519235,62.855255263791896,62.68934338655564,62.52279218424676,62.35560330395085,62.187778399059845,62.01931912925543,61.8502271604929,61.68050416498443,61.510151821182696,61.33917181376425,61.167565833612784,60.99533557780251,60.822482749581276,60.649009058353855,60.47491621966487,60.30020595518202,60.124879992678835,59.94894006601784,59.77238791513314,59.59522528601347,59.41745393068471,59.23907560719272,59.06009207958588,58.88050511789761,58.700316498129,58.51952800223102,58.33814141808719,58.15615853949561,57.97358116615145,57.790411103628976,57.60665016336386,57.42230016263507,57.23736292454715,57.051840278011895,56.86573405773051,56.67904610417542,56.491778263571874,56.30393238787998,56.11551033477615,55.92651396763489,55.73694515551024,55.546805773117455,55.35609770081424,55.16482282458241,54.972983036009005,54.78058023226779,54.587616316100274,54.39409319579711,54.200012785179126,54.005377003578296,53.81018777581899,53.6144470321987,53.41815670846914,53.22131874581695,53.02393509084465,52.82600769555123,52.62753851731302,52.428529518864124,52.228982668277254,52.028899938944,51.828283309555566,51.627134764083074,51.42545629175787,51.22324988705205,51.02051754965853,50.81726128447148,50.61348310156624,50.40918501617973,50.20436904869025,49.99903722459774,49.793191574503524,49.58683413409044,49.3799669441025,49.17259205032491,48.964711503563734,48.756327359625544,48.547441679297286,48.338056528325644,48.12817397739689,47.91779610211614,47.70692498298708,47.495562705391144,47.2837113595671,47.07137304059022,46.858549848351714,46.645243887537774,46.43145726760895,46.21719210277924,46.002450511994994,45.78723461891429,45.571546551885596,45.355388443927026,45.13876243270498,44.92167066051322,44.704115274251485,44.486098425404485,44.26762227002038,44.04868896868969,43.82930068652371,43.609459593133295,43.38916786260731,43.168427673491045,42.94724120876491,42.725610655822514,42.5035382064494,42.281026056801025,42.05807640738136,41.834691463020796,41.61087343285469,41.38662453030119,41.16194697303965,40.936842982988374,40.71131478628295,40.4853646132541,40.25899469840551,40.03220728039198,39.80500460199701,39.57738891011094,39.34936245570836,39.1209274938262,38.89208628354114,38.66284108794753,38.433194174134734,38.203147813164996,37.97270428005071,37.74186585373214,37.51063481705481,37.27901345674678,37.04700406339634,36.814608931429,36.581830359085146,36.348670648397004,36.11513210516614,35.88121703894042,35.646927762991396,35.41226659429119,35.17723585348982,34.94183786489212,34.70607495643468,34.46994945966305,34.2334637097084,33.99662004526474,33.759420808565466,33.52186834536049,33.2839650048928,33.04571313987545,32.80711510646805,32.56817326425375,32.328889976215585,32.08926760871339,31.849308531460284,31.60901511749913,31.368389743179282,31.12743478813287,30.88615263525148,30.64454567066235,30.402616283705033,30.1603668669075,29.917799815962738,29.67491752970482,29.431722410085428,29.18821686214981,28.94440329401328,28.70028411683726,28.455861744805354,28.211138595099712,27.96611708787684,27.720799646243954,27.47518869623473,27.229286666785598,26.98309598971144,26.736619099681814,26.48985843419661,26.242816433562208,25.995495540867083,25.747898201957877,25.500026865415112,25.251883982528863,25.00347200727476,24.754793396289468,24.50585060884662,24.256646106832278,24.007182354720808,23.757461819550265,23.507486970898274,23.257260280857306,23.00678422401053,22.756061277407056,22.50509392053767,22.253884635310243,22.002435906025035,21.75075021935041,21.498830064297945,21.2466779321981,20.9942963166753,20.741687713623563,20.488854621181524,20.235799539708008,19.98252497175705,19.729033422053384,19.475327397467435,19.221409406990738,18.96728196171105,18.71294757478739,18.45840876142544,18.20366803885238,17.94872792629231,17.693590944941,17.43825961794129,17.182736470357824,16.927024029152367,16.67112482315855,16.41504138305712,16.158776241350637,15.902331932338699,15.645710992092736,15.388915958430848,15.131949370892956,14.874813770715393,14.617511700806064,14.360045705719001,14.102418331629517,13.844632126308698,13.586689639098521,13.328593420886346,13.07034602407998,12.811950002582147,12.553407911765483,12.294722308447154,12.035895750863471,11.776930798644827,11.517830012790121,11.25859595564169,10.999231190859705,10.739738283397088,10.48011979947388,10.220378306552123,9.960516373310204,9.700536569617732,9.440441466509833,9.180233636161981,8.91991565186445,8.65949008799676,8.398959520002467,8.138326524363407,7.877593678574506,7.616763561117999,7.355838751438222,7.094821829915809,6.833715377842472,6.572521977395175,6.31124421161085,6.049884664360761,5.788445920324817,5.526930564966289,5.26534118450593,5.003680365896708,4.741950696797918,4.480154765549889,4.2182951611481005,3.9563744732178567,3.6943952919883984,3.4323602082675726,3.1702718134159196,2.9081326993213037,2.6459454583731703,2.3837126834367974,2.1214369678279152,1.8591209052867583,1.5967670899527189,1.3343781163383892,1.0719565793042038,0.8095050740324812,0.5470261960020535,0.2845225409623051,0.02199670490779715,-0.24054871594770155,-0.5031111251966294,-0.7656879262634209,-1.028276522430295,-1.290874316862677,-1.5534787126351757,-1.8160871127569675,-2.078696920197778,-2.3413055379132652,-2.603910368871003,-2.8665088160758643,-3.1290982825960016,-3.3916761715882338,-3.654239886324021,-3.9167868302148863],\"y\":[0.0,0.0065714285575353415,0.013968403547067965,0.022190851817214252,0.031238692053179307,0.04111183477756697,0.05181018235126089,0.06333362897440509,0.0756820606874129,0.08885535537216072,0.10285338275309641,0.11767600439864623,0.13332307372246532,0.14979443598498676,0.16708992829491365,0.1852093796107681,0.2041526107427103,0.22391943435420103,0.24450965496389188,0.2659230689476004,0.288159464540243,0.31121862183798044,0.33510031280040664,0.359804301252737,0.38533034288821,0.41167818527050315,0.43884756783616297,0.4668382218972482,0.49564987064397314,0.5252822291474075,0.5557350043623472,0.5870078951301849,0.61910059218188,0.6520127781410423,0.6857441275270304,0.7202943067582339,0.7556629741552996,0.7918497799445703,0.8288543662615098,0.8666763671542697,0.9053154085872421,0.9447711084448684,0.9850430765352911,1.0261309145943471,1.068034216289405,1.1107525672234004,1.154285544938972,1.198632718922596,1.243793650608879,1.289767893384905,1.3365549925945714,1.3841544855431778,1.4325659015019738,1.4817887617127923,1.5318225793927667,1.5826668597392484,1.6343210999345388,1.686784789151048,1.7400574085561544,1.7941384313175064,1.8490273226081086,1.9047235396116804,1.96122653152797,2.0185357395782972,2.0766505970109677,2.1355705291069427,2.1952949531854955,2.2558232786099808,2.3171549067937036,2.3792892312057887,2.442225637377234,2.5059635029069227,2.570502197467846,2.635841082813272,2.7019795127831117,2.7689168333103,2.836652382427232,2.905185490272302,2.974515479096624,3.044641663270596,3.115563349290781,3.187279835786768,3.2597904135279947,3.3330943654309095,3.407190966565949,3.4820794841647853,3.557759177627517,3.6342292985300304,3.711489090631389,3.7895377898812797,3.8683746244276307,3.9479988146241993,4.028409573038289,4.109606104458564,4.191587605902882,4.274353266626235,4.3579022681287825,4.44223378416396,4.5273469807466,4.613241016161226,4.699915040970367,4.787368198022932,4.875599622462758,4.964608441737042,5.054393775605064,5.144954736146914,5.236290427772161,5.328399947228803,5.42128238361218,5.514936818373968,5.6093623253312614,5.704557970675765,5.800522812982948,5.8972559032214775,5.994756284762502,6.093022993389141,6.1920550573060495,6.2918514971489685,6.392411325994473,6.493733549369722,6.595817165262247,6.698661164129874,6.802264528910783,6.906626235033443,7.011745250426856,7.1176205355306905,7.224251043305614,7.331635719243593,7.43977350137834,7.548663320295887,7.658304099145013,7.768694753648063,7.879834192111531,7.9917213154369335,8.104355017131653,8.217734183319905,8.331857692753701,8.446724416823997,8.562333219571826,8.678682957699522,8.795772480582045,8.913600630278353,9.032166241542853,9.15146814183693,9.27150515134052,9.392276082963832,9.51377974235902,9.636014927932024,9.758980430854464,9.882675035075607,10.007097517334316,10.132246647171272,10.258121186941025,10.384719891824275,10.51204150984023,10.640084781858931,10.76884844161367,10.89833121571364,11.028531823656408,11.159448977840626,11.291081383578728,11.423427739109826,11.556486735612467,11.690257057217678,11.82473738102189,11.95992637710009,12.095822708518938,12.23242503134999,12.369731994682994,12.50774224063926,12.646454404385096,12.785867114145248,12.925978991216553,13.066788649981461,13.2082946979219,13.350495735632848,13.493390356836358,13.636977148395331,13.781254690327557,13.926221555819751,14.071876311241667,14.218217516160237,14.365243723353842,14.512953478826688,14.661345321823006,14.810417784841718,14.960169393650801,15.110598667301929,15.26170411814509,15.4134842518433,15.565937567387408,15.719062557110917,15.872857706704892,16.027321495232954,16.1824523951463,16.33824887229879,16.49470938596224,16.651832388841456,16.809616327089714,16.968059640324043,17.127160761640653,17.286918117630492,17.447330128394725,17.608395207560392,17.77011176229614,17.932478193327924,18.095492894954802,18.259154255064885,18.423460655151217,18.588410470327844,18.754002069345788,18.92023381460929,19.087104062191912,19.254611161852864,19.422753457053275,19.591529284972594,19.760936976525045,19.930974856376103,20.10164124295909,20.27293444849181,20.444852778993216,20.617394534300153,20.79055800808421,20.96434148786858,21.13874325504498,21.313761584890656,21.48939474658544,21.665641003228863,21.842498611857373,22.019965823461476,22.198040883003145,22.376722029433076,22.556007495708194,22.73589550880905,22.916384289757424,23.097472053633837,23.279157009595295,23.461437360892923,23.644311304889783,23.827777033078668,24.011832731100014,24.196476578759814,24.38170675004765,24.567521413154715,24.75391873049199,24.94089685870832,25.128453948708753,25.31658814567274,25.505297589072498,25.694580412691472,25.884434744642682,26.074858707387342,26.26585041775335,26.457407986953967,26.64952952060642,26.842213118750742,27.03545687586847,27.22925888090154,27.423617217271165,27.618529962896794,27.813995190215124,28.010010966199147,28.2065753523773,28.403686404852593,28.601342174321857,28.79954070609503,28.998280040114466,29.19755821097433,29.39737324794003,29.597723174967705,29.798606010723788,30.000019768604567,30.20196245675585,30.404432078092682,30.607426630319026,30.810944105947655,31.01498249231995,31.219539771625804,31.424613920923598,31.630202912160193,31.83630471219101,32.04291728280007,32.25003858072024,32.45766655765338,32.665799160290646,32.87443433033271,33.0835700045102,33.29320411460409,33.503334587466114,33.71395934503932,33.92507630437857,34.136683377671176,34.348778472257536,34.56135949065181,34.774424330562695,34.9879708849142,35.201997041866484,35.41650068483673,35.63147969252012,35.846931938910714,36.06285529332262,36.279247620410935,36.49610678019294,36.713430628069204,36.93121701484488,37.14946378675086,37.36816878546512,37.58732984813409,37.80694480739401,38.02701149139235,38.24752772380933,38.46849132387942,38.68990010641289,38.91175188181747,39.13404445611994,39.35677563098787,39.57994320375136,39.803544967424806,40.02757871072872,40.252042218111605,40.4769332697719,40.70224964167989,40.927989105599686,41.154149429111335,41.38072837563281,41.6077237044422,41.83513317069979,42.06295452547038,42.291185515745376,42.5198238844652,42.74886737054154,42.978313708879746,43.2081606304012,43.438405862065785,43.669047126894334,43.90008214399116,44.13150862856664,44.36332429195977,44.59552684166081,44.828113981333985,45.06108341084015,45.29443282625952,45.528159919914565,45.762262380392706,45.996737892569236,46.23158413763022,46.466798793095386,46.70237953284113,46.9383240271235,47.17462994260126,47.411294942358914,47.648316685929885,47.88569282931962,48.123421025028755,48.361498922076365,48.59992416602321,48.83869439899499,49.07780725970571,49.31726038348096,49.55705140228142,49.797177944726116,50.03763763611601,50.27842809845742,50.519546950485555,50.76099180768804,51.00276028232856,51.24484998347035,51.487258517,51.72998348565099,51.973022489027514,52.21637312362812,52.46003298286952,52.70399965711043,52.9482707336753,53.19284379687831,53.43771642804711,53.68288620554686,53.9283507048041,54.17410749833082,54.42015415574831,54.66648824381136,54.913107326432225,55.16000896470477,55.407190716928554,55.65465013863296,55.90238478260143,56.15039219889561,56.39866993487962,56.647215535244285,56.89602654203141,57.145100494658095,57.39443492994113,57.64402738212118,57.8938753828874,58.14397646140168,58.39432814432314,58.644927955832586,58.89577341765698,59.14686204909397,59.398191367036404,59.6497588859969,59.901562118132404,60.153598573268816,60.405865758925614,60.65836118034052,60.91108234049408,61.16402674013449,61.41719187780223,61.67057524985482,61.92417435049158,62.17798667177843,62.43200970367262,62.686240934047675,62.940677848718124,63.195317931464416,63.4501586640578,63.70519752628524,63.96043199597432,64.21585954901815,64.4714776594004,64.72728379922027,64.98327543871744,65.23945004629712,65.49580508855509,65.75233803030272,66.00904633459211,66.2659274627411,66.52297887435844,66.78019802736885,67.03758237803824,67.29512938099874,67.55283648927406,67.81070115430448,68.0687208259722,68.32689295262647,68.58521498110888,68.84368435677855,69.10229852353748,69.36105492385576,69.61995099879684,69.87898418804293,70.13815192992026,70.3974516614244,70.65688081824561,70.91643683479424,71.1761171442261,71.43591917846778,71.69584036824212,71.95587814309356,72.21602993141362,72.47629316046627,72.73666525641342,72.99714364434035,73.25772574828117,73.51840899124431,73.77919079523805,74.04006858129586,74.30103976950207,74.56210177901733,74.82325202810412,75.08448793415226,75.34580691370452,75.60720638248209,75.86868375541017,76.13023644664358,76.39186186959223,76.65355743694681,76.91532056070432,77.17714865219364,77.43903912210116,77.70098938049644,77.9629968368577,78.22505890009757,78.48717297858862,78.74933648018902,79.01154681226818,79.2738013817324,79.5360975950505,79.79843285827945,80.06080457709005,80.3232101567926,80.58564700236248,80.84811251846592,81.1106041094856,81.37311917954635,81.63565513254079,81.89820937215504,82.16077930189434,82.42336232510878,82.68595584501901,82.94855726474182,83.21116398731589,83.47377341572745,83.73638295293603,83.99899000189995,84.26159196560229,84.52418624707633,84.78677024943136,85.04934137587829,85.31189702975539,85.57443461455392,85.83695153394389,86.09944519179962,86.36191299222547,86.62435233958155,86.88676063850934,87.14913529395737,87.41147371120684,87.67377329589739,87.93603145405265,88.19824559210593,88.46041311692592,88.72253143584221,88.98459795667107,89.24661008774096,89.50856523791828,89.7704608166329,90.03229423390383,90.29406290036479,90.5557642272899,90.81739562661915,91.07895451098412,91.3404382937335,91.6018443889587,91.8631702115194,92.12441317706913,92.38557070208083,92.64664020387237,92.90761910063213,93.16850481144454,93.42929475631551,93.68998635619809,93.9505770330179,94.2110642096985,94.47144531018716,94.7317177594801,94.99187898364805,95.25192640986165,95.51185746641698,95.77166958276091,96.03136018951656,96.2909267185087,96.55036660278917,96.80967727666223,97.06885617570994,97.32790073681755,97.5868083981988,97.84557659942129,98.10420278143184,98.36268438658166,98.62101885865182,98.8792036428784,99.13723618597777,99.39511393617195,99.65283434321368,99.91039485841178,100.16779293465626,100.4250260264436,100.6820915899018,100.93898708281566,101.19570996465184,101.45225769658406,101.70862774151811,101.96481756411701,102.22082463082609,102.47664640989797,102.73228037141769,102.98772398732767,103.24297473145273,103.49803007952505,103.75288750920922,104.007544500127,104.26199853388245,104.51624709408675,104.77028766638304,105.02411773847135,105.27773480013343,105.53113634325756,105.78431986186335,106.03728285212655,106.2900228124038,106.54253724325734,106.79482364747979,107.04687953011879,107.29870239850163,107.55028976226008,107.80163913335483,108.05274802610016,108.30361395718857,108.55423444571527,108.80460701320274,109.05472918362526,109.30459848343335,109.55421244157827,109.80356858953648,110.05266446133396,110.30149759357073,110.55006552544504,110.79836579877787,111.04639595803718,111.29415355036215,111.54163612558752,111.78884123626771,112.03576643770114,112.28240928795435,112.52876734788613,112.77483818117167,113.02061935432667,113.26610843673139,113.51130300065462,113.75620062127781,114.00079887671899,114.24509534805671,114.48908761935394,114.73277327768204,114.9761499131446,115.21921511890116,115.46196649119118,115.7044016293577,115.94651813587113,116.18831361635294,116.42978567959936,116.67093193760496,116.91175000558636,117.15223750200575,117.3923920485945,117.63221127037659,117.87169279569221,118.1108342562211,118.34963328700601,118.5880875264762,118.8261946164706,119.06395220226128,119.30135793257662,119.53840945962475,119.77510443911652,120.01144053028884,120.24741539592785,120.48302670239195,120.71827211963488,120.95314932122886,121.18765598438746,121.42178978998865,121.65554842259778,121.88892957049035,122.12193092567502,122.35455018391627,122.58678504475736,122.81863321154295,123.05009239144188,123.28116029546977,123.51183463851183,123.74211313934516,123.97199352066168,124.20147350909033,124.43055083521969,124.65922323362051,124.88748844286788,125.11534420556387,125.34278826835958,125.56981838197771,125.79643230123452,126.02262778506226,126.24840259653115,126.47375450287171,126.69868127549661,126.92318069002293,127.14725052629396,127.37088856840123,127.59409260470659,127.81686042786373,128.0391898348404,128.26107862693988,128.4825246098229,128.70352559352924,128.92407939249955,129.14418382559674,129.36383671612774,129.58303589186488,129.80177918506755,130.02006443250337,130.23788947546987,130.4552521598157,130.67215033596187,130.88858185892315,131.10454458832913,131.32003638844566,131.5350551281955,131.74959868117995,131.9636649256994,132.17725174477465,132.3903570261676,132.6029786624024,132.81511455078603,133.0267625934292,133.23792069726716,133.44858677408035,133.658758740515,133.8684345181038,134.07761203328644,134.2862892174301,134.4944640068499,134.70213434282934,134.90929817164067,135.11595344456515,135.3220981179133,135.52773015304524,135.7328475163906,135.93744817946896,136.14153011890966,136.34509131647187,136.54812975906455,136.75064343876647,136.9526303528459,137.15408850378049,137.35501589927702,137.5554105522911,137.75527048104692,137.9545937090566,138.15337826514,138.351622183444,138.5493235034622,138.746480270054,138.94309053346421,139.1391523493421,139.3346637787608,139.52962288823642,139.72402774974717,139.9178764407523,140.1111670442114,140.30389764860317,140.49606634794418,140.68767124180806,140.87871043534406,141.06918203929587,141.25908417002017,141.44841494950555,141.63717250539074,141.8253549709834,142.01296048527837,142.19998719297627,142.38643324450166,142.5722967960215,142.7575760094633,142.94226905253316,143.12637409873423,143.30988932738447,143.4928129236348,143.67514307848694,143.8568779888115,144.0380158573655,144.21855489281052,144.39849330973001,144.5778293286474,144.7565611760432,144.934687084373,145.11220529208464,145.2891140436357,145.465411589511,145.64109618623968,145.8161660964127,145.99061958869976,146.1644549378666,146.33767042479192,146.51026433648462,146.6822349661004,146.85358061295898,147.02429958256067,147.19439018660327,147.3638507429987,147.53267957588957,147.700875015666,147.86843539898183,148.0353590687713,148.20164437426524,148.36728967100757,148.53229332087147,148.69665369207564,148.86036915920027,149.02343810320343,149.18585891143675,149.34762997766157,149.50874970206473,149.66921649127445,149.8290287583761,149.98818492292776,150.1466834109761,150.3045226550716,150.46170109428442,150.61821717421955,150.77406934703237,150.92925607144377,151.08377581275568,151.23762704286582,151.39080824028332,151.54331789014338,151.69515448422231,151.84631652095268,151.99680250543787,152.14661094946706,152.2957403715298,152.44418929683087,152.59195625730462,152.73903979162958,152.885438445243,153.0311507703552,153.1761753259637,153.3205106778678,153.46415539868246,153.6071080678526,153.74936727166715,153.89093160327275,154.0317996626882,154.1719700568177,154.31144139946517,154.45021231134746,154.58828142010844,154.72564736033223,154.86230877355692,154.9982643082879,155.13351262001123,155.26805237120703,155.4018822313625,155.53500087698535,155.66740699161664,155.799099265844,155.93007639731445,156.06033709074728,156.18988005794697,156.3187040178158,156.4468076963666,156.57418982673533,156.70084914919357,156.8267844111611,156.95199436721805,157.0764777791175,157.20023341579753,157.32326005339345,157.44555647524996,157.56712147193304,157.6879538412421,157.80805238822168,157.92741592517345,158.04604327166777,158.1639332545555,158.28108470797963,158.39749647338655,158.5131673995379,158.6280963425216,158.7422821657634,158.855723740038,158.96841994348023,159.08036966159625,159.19157178727437,159.30202522079617,159.41172886984734,159.52068164952843,159.62888248236564,159.73633029832138,159.84302403480504,159.94896263668323,160.0541450562905,160.15857025343945,160.26223719543123,160.36514485706556,160.467292220651,160.56867827601502,160.66930202051384,160.76916245904255,160.8682586040448,160.96658947552265,161.0641541010462,161.16095151576326,161.25698076240883,161.35224089131464,161.4467309604185,161.54045003527358,161.6333971890578,161.7255715025828,161.81697206430306,161.90759797032518,161.99744832441638,162.08652223801377,162.17481883023288,162.26233722787646,162.3490765654431,162.4350359851359,162.5202146368707,162.60461167828473,162.68822627474486,162.77105759935577,162.8531048329683,162.9343671641874,163.0148437893801,163.09453391268386,163.17343674601378,163.25155150907102,163.32887742935017,163.40541374214695,163.4811596905658,163.5561145255274,163.63027750577606,163.70364789788692,163.77622497627345,163.84800802319435,163.91899632876093,163.98918919094388,164.05858591558038,164.12718581638086,164.19498821493588,164.26199244072274,164.3281978311122,164.39360373137498,164.45820949468822,164.52201448214203,164.58501806274546,164.64721961343326,164.70861851907142,164.76921417246388,164.829005974358,164.88799333345088,164.946175666395,165.00355239780396,165.06012296025835,165.11588679431125,165.17084334849372,165.22499207932032,165.2783324512945,165.33086393691383,165.3825860166753,165.43349817908035,165.48359992064002,165.53289074587985,165.58137016734497,165.62903770560465,165.67589288925717,165.72193525493452,165.76716434730696,165.81157971908743,165.85518093103616,165.89796755196483,165.93993915874088,165.98109533629182,166.02143567760916,166.06095978375254,166.09966726385366,166.13755773512008,166.17463082283913,166.2108861603815,166.24632338920492,166.2809421588577,166.31474212698214,166.3477229593181,166.37988432970602,166.4112259200904,166.4417474205228,166.47144852916495,166.50032895229174,166.5283884042941,166.55562660768194,166.58204329308666,166.60763819926404,166.6324110730967,166.65636166959663,166.67948975190765,166.7017950913077,166.72327746721118,166.74393666717097,166.76377248688073,166.7827847301768,166.80097320904014,166.81833774359825,166.83487816212693,166.85059430105193,166.86548600495058,166.87955312655345,166.8927955267456,166.9052130745681,166.9168056472193,166.92757313005598,166.93751541659458,166.94663240851224,166.9549240156477,166.96239015600213,166.96903075574028,166.97484574919073,166.97983507884695,166.98399869536757,166.98733655757718,166.9898486324663,166.99153489519222,166.99239532907882,166.99242992561696,166.9916386844645,166.99002161344632,166.9875787285542,166.98431005394679,166.98021562194913,166.9752954730526,166.9695496559143]}],                        {\"legend\":{\"tracegroupgap\":0},\"margin\":{\"t\":60},\"template\":{\"data\":{\"barpolar\":[{\"marker\":{\"line\":{\"color\":\"#E5ECF6\",\"width\":0.5},\"pattern\":{\"fillmode\":\"overlay\",\"size\":10,\"solidity\":0.2}},\"type\":\"barpolar\"}],\"bar\":[{\"error_x\":{\"color\":\"#2a3f5f\"},\"error_y\":{\"color\":\"#2a3f5f\"},\"marker\":{\"line\":{\"color\":\"#E5ECF6\",\"width\":0.5},\"pattern\":{\"fillmode\":\"overlay\",\"size\":10,\"solidity\":0.2}},\"type\":\"bar\"}],\"carpet\":[{\"aaxis\":{\"endlinecolor\":\"#2a3f5f\",\"gridcolor\":\"white\",\"linecolor\":\"white\",\"minorgridcolor\":\"white\",\"startlinecolor\":\"#2a3f5f\"},\"baxis\":{\"endlinecolor\":\"#2a3f5f\",\"gridcolor\":\"white\",\"linecolor\":\"white\",\"minorgridcolor\":\"white\",\"startlinecolor\":\"#2a3f5f\"},\"type\":\"carpet\"}],\"choropleth\":[{\"colorbar\":{\"outlinewidth\":0,\"ticks\":\"\"},\"type\":\"choropleth\"}],\"contourcarpet\":[{\"colorbar\":{\"outlinewidth\":0,\"ticks\":\"\"},\"type\":\"contourcarpet\"}],\"contour\":[{\"colorbar\":{\"outlinewidth\":0,\"ticks\":\"\"},\"colorscale\":[[0.0,\"#0d0887\"],[0.1111111111111111,\"#46039f\"],[0.2222222222222222,\"#7201a8\"],[0.3333333333333333,\"#9c179e\"],[0.4444444444444444,\"#bd3786\"],[0.5555555555555556,\"#d8576b\"],[0.6666666666666666,\"#ed7953\"],[0.7777777777777778,\"#fb9f3a\"],[0.8888888888888888,\"#fdca26\"],[1.0,\"#f0f921\"]],\"type\":\"contour\"}],\"heatmapgl\":[{\"colorbar\":{\"outlinewidth\":0,\"ticks\":\"\"},\"colorscale\":[[0.0,\"#0d0887\"],[0.1111111111111111,\"#46039f\"],[0.2222222222222222,\"#7201a8\"],[0.3333333333333333,\"#9c179e\"],[0.4444444444444444,\"#bd3786\"],[0.5555555555555556,\"#d8576b\"],[0.6666666666666666,\"#ed7953\"],[0.7777777777777778,\"#fb9f3a\"],[0.8888888888888888,\"#fdca26\"],[1.0,\"#f0f921\"]],\"type\":\"heatmapgl\"}],\"heatmap\":[{\"colorbar\":{\"outlinewidth\":0,\"ticks\":\"\"},\"colorscale\":[[0.0,\"#0d0887\"],[0.1111111111111111,\"#46039f\"],[0.2222222222222222,\"#7201a8\"],[0.3333333333333333,\"#9c179e\"],[0.4444444444444444,\"#bd3786\"],[0.5555555555555556,\"#d8576b\"],[0.6666666666666666,\"#ed7953\"],[0.7777777777777778,\"#fb9f3a\"],[0.8888888888888888,\"#fdca26\"],[1.0,\"#f0f921\"]],\"type\":\"heatmap\"}],\"histogram2dcontour\":[{\"colorbar\":{\"outlinewidth\":0,\"ticks\":\"\"},\"colorscale\":[[0.0,\"#0d0887\"],[0.1111111111111111,\"#46039f\"],[0.2222222222222222,\"#7201a8\"],[0.3333333333333333,\"#9c179e\"],[0.4444444444444444,\"#bd3786\"],[0.5555555555555556,\"#d8576b\"],[0.6666666666666666,\"#ed7953\"],[0.7777777777777778,\"#fb9f3a\"],[0.8888888888888888,\"#fdca26\"],[1.0,\"#f0f921\"]],\"type\":\"histogram2dcontour\"}],\"histogram2d\":[{\"colorbar\":{\"outlinewidth\":0,\"ticks\":\"\"},\"colorscale\":[[0.0,\"#0d0887\"],[0.1111111111111111,\"#46039f\"],[0.2222222222222222,\"#7201a8\"],[0.3333333333333333,\"#9c179e\"],[0.4444444444444444,\"#bd3786\"],[0.5555555555555556,\"#d8576b\"],[0.6666666666666666,\"#ed7953\"],[0.7777777777777778,\"#fb9f3a\"],[0.8888888888888888,\"#fdca26\"],[1.0,\"#f0f921\"]],\"type\":\"histogram2d\"}],\"histogram\":[{\"marker\":{\"pattern\":{\"fillmode\":\"overlay\",\"size\":10,\"solidity\":0.2}},\"type\":\"histogram\"}],\"mesh3d\":[{\"colorbar\":{\"outlinewidth\":0,\"ticks\":\"\"},\"type\":\"mesh3d\"}],\"parcoords\":[{\"line\":{\"colorbar\":{\"outlinewidth\":0,\"ticks\":\"\"}},\"type\":\"parcoords\"}],\"pie\":[{\"automargin\":true,\"type\":\"pie\"}],\"scatter3d\":[{\"line\":{\"colorbar\":{\"outlinewidth\":0,\"ticks\":\"\"}},\"marker\":{\"colorbar\":{\"outlinewidth\":0,\"ticks\":\"\"}},\"type\":\"scatter3d\"}],\"scattercarpet\":[{\"marker\":{\"colorbar\":{\"outlinewidth\":0,\"ticks\":\"\"}},\"type\":\"scattercarpet\"}],\"scattergeo\":[{\"marker\":{\"colorbar\":{\"outlinewidth\":0,\"ticks\":\"\"}},\"type\":\"scattergeo\"}],\"scattergl\":[{\"marker\":{\"colorbar\":{\"outlinewidth\":0,\"ticks\":\"\"}},\"type\":\"scattergl\"}],\"scattermapbox\":[{\"marker\":{\"colorbar\":{\"outlinewidth\":0,\"ticks\":\"\"}},\"type\":\"scattermapbox\"}],\"scatterpolargl\":[{\"marker\":{\"colorbar\":{\"outlinewidth\":0,\"ticks\":\"\"}},\"type\":\"scatterpolargl\"}],\"scatterpolar\":[{\"marker\":{\"colorbar\":{\"outlinewidth\":0,\"ticks\":\"\"}},\"type\":\"scatterpolar\"}],\"scatter\":[{\"fillpattern\":{\"fillmode\":\"overlay\",\"size\":10,\"solidity\":0.2},\"type\":\"scatter\"}],\"scatterternary\":[{\"marker\":{\"colorbar\":{\"outlinewidth\":0,\"ticks\":\"\"}},\"type\":\"scatterternary\"}],\"surface\":[{\"colorbar\":{\"outlinewidth\":0,\"ticks\":\"\"},\"colorscale\":[[0.0,\"#0d0887\"],[0.1111111111111111,\"#46039f\"],[0.2222222222222222,\"#7201a8\"],[0.3333333333333333,\"#9c179e\"],[0.4444444444444444,\"#bd3786\"],[0.5555555555555556,\"#d8576b\"],[0.6666666666666666,\"#ed7953\"],[0.7777777777777778,\"#fb9f3a\"],[0.8888888888888888,\"#fdca26\"],[1.0,\"#f0f921\"]],\"type\":\"surface\"}],\"table\":[{\"cells\":{\"fill\":{\"color\":\"#EBF0F8\"},\"line\":{\"color\":\"white\"}},\"header\":{\"fill\":{\"color\":\"#C8D4E3\"},\"line\":{\"color\":\"white\"}},\"type\":\"table\"}]},\"layout\":{\"annotationdefaults\":{\"arrowcolor\":\"#2a3f5f\",\"arrowhead\":0,\"arrowwidth\":1},\"autotypenumbers\":\"strict\",\"coloraxis\":{\"colorbar\":{\"outlinewidth\":0,\"ticks\":\"\"}},\"colorscale\":{\"diverging\":[[0,\"#8e0152\"],[0.1,\"#c51b7d\"],[0.2,\"#de77ae\"],[0.3,\"#f1b6da\"],[0.4,\"#fde0ef\"],[0.5,\"#f7f7f7\"],[0.6,\"#e6f5d0\"],[0.7,\"#b8e186\"],[0.8,\"#7fbc41\"],[0.9,\"#4d9221\"],[1,\"#276419\"]],\"sequential\":[[0.0,\"#0d0887\"],[0.1111111111111111,\"#46039f\"],[0.2222222222222222,\"#7201a8\"],[0.3333333333333333,\"#9c179e\"],[0.4444444444444444,\"#bd3786\"],[0.5555555555555556,\"#d8576b\"],[0.6666666666666666,\"#ed7953\"],[0.7777777777777778,\"#fb9f3a\"],[0.8888888888888888,\"#fdca26\"],[1.0,\"#f0f921\"]],\"sequentialminus\":[[0.0,\"#0d0887\"],[0.1111111111111111,\"#46039f\"],[0.2222222222222222,\"#7201a8\"],[0.3333333333333333,\"#9c179e\"],[0.4444444444444444,\"#bd3786\"],[0.5555555555555556,\"#d8576b\"],[0.6666666666666666,\"#ed7953\"],[0.7777777777777778,\"#fb9f3a\"],[0.8888888888888888,\"#fdca26\"],[1.0,\"#f0f921\"]]},\"colorway\":[\"#636efa\",\"#EF553B\",\"#00cc96\",\"#ab63fa\",\"#FFA15A\",\"#19d3f3\",\"#FF6692\",\"#B6E880\",\"#FF97FF\",\"#FECB52\"],\"font\":{\"color\":\"#2a3f5f\"},\"geo\":{\"bgcolor\":\"white\",\"lakecolor\":\"white\",\"landcolor\":\"#E5ECF6\",\"showlakes\":true,\"showland\":true,\"subunitcolor\":\"white\"},\"hoverlabel\":{\"align\":\"left\"},\"hovermode\":\"closest\",\"mapbox\":{\"style\":\"light\"},\"paper_bgcolor\":\"white\",\"plot_bgcolor\":\"#E5ECF6\",\"polar\":{\"angularaxis\":{\"gridcolor\":\"white\",\"linecolor\":\"white\",\"ticks\":\"\"},\"bgcolor\":\"#E5ECF6\",\"radialaxis\":{\"gridcolor\":\"white\",\"linecolor\":\"white\",\"ticks\":\"\"}},\"scene\":{\"xaxis\":{\"backgroundcolor\":\"#E5ECF6\",\"gridcolor\":\"white\",\"gridwidth\":2,\"linecolor\":\"white\",\"showbackground\":true,\"ticks\":\"\",\"zerolinecolor\":\"white\"},\"yaxis\":{\"backgroundcolor\":\"#E5ECF6\",\"gridcolor\":\"white\",\"gridwidth\":2,\"linecolor\":\"white\",\"showbackground\":true,\"ticks\":\"\",\"zerolinecolor\":\"white\"},\"zaxis\":{\"backgroundcolor\":\"#E5ECF6\",\"gridcolor\":\"white\",\"gridwidth\":2,\"linecolor\":\"white\",\"showbackground\":true,\"ticks\":\"\",\"zerolinecolor\":\"white\"}},\"shapedefaults\":{\"line\":{\"color\":\"#2a3f5f\"}},\"ternary\":{\"aaxis\":{\"gridcolor\":\"white\",\"linecolor\":\"white\",\"ticks\":\"\"},\"baxis\":{\"gridcolor\":\"white\",\"linecolor\":\"white\",\"ticks\":\"\"},\"bgcolor\":\"#E5ECF6\",\"caxis\":{\"gridcolor\":\"white\",\"linecolor\":\"white\",\"ticks\":\"\"}},\"title\":{\"x\":0.05},\"xaxis\":{\"automargin\":true,\"gridcolor\":\"white\",\"linecolor\":\"white\",\"ticks\":\"\",\"title\":{\"standoff\":15},\"zerolinecolor\":\"white\",\"zerolinewidth\":2},\"yaxis\":{\"automargin\":true,\"gridcolor\":\"white\",\"linecolor\":\"white\",\"ticks\":\"\",\"title\":{\"standoff\":15},\"zerolinecolor\":\"white\",\"zerolinewidth\":2}}},\"xaxis\":{\"anchor\":\"y\",\"domain\":[0.0,1.0],\"title\":{\"text\":\"x\"},\"range\":[-60,60]},\"yaxis\":{\"anchor\":\"x\",\"domain\":[0.0,1.0],\"title\":{\"text\":\"y\"},\"range\":[-60,60]},\"width\":510,\"height\":500,\"showlegend\":false,\"shapes\":[{\"line\":{\"color\":\"black\"},\"type\":\"circle\",\"x0\":-16,\"x1\":16,\"xref\":\"x\",\"y0\":-16,\"y1\":16,\"yref\":\"y\"},{\"line\":{\"color\":\"black\"},\"type\":\"circle\",\"x0\":-58,\"x1\":58,\"xref\":\"x\",\"y0\":-58,\"y1\":58,\"yref\":\"y\"}]},                        {\"responsive\": true}                    ).then(function(){\n                            \nvar gd = document.getElementById('a82c85a5-309e-449b-8e76-9d177cdb91bd');\nvar x = new MutationObserver(function (mutations, observer) {{\n        var display = window.getComputedStyle(gd).display;\n        if (!display || display === 'none') {{\n            console.log([gd, 'removed!']);\n            Plotly.purge(gd);\n            observer.disconnect();\n        }}\n}});\n\n// Listen for the removal of the full notebook cells\nvar notebookContainer = gd.closest('#notebook-container');\nif (notebookContainer) {{\n    x.observe(notebookContainer, {childList: true});\n}}\n\n// Listen for the clearing of the current output cell\nvar outputEl = gd.closest('.output');\nif (outputEl) {{\n    x.observe(outputEl, {childList: true});\n}}\n\n                        })                };                            </script>        </div>\n</body>\n</html>"
                },
                "metadata": {}
              }
            ]
          }
        },
        "2472f27e89a7417abab1aab1d9aa87f4": {
          "model_module": "@jupyter-widgets/base",
          "model_name": "LayoutModel",
          "model_module_version": "1.2.0",
          "state": {
            "_model_module": "@jupyter-widgets/base",
            "_model_module_version": "1.2.0",
            "_model_name": "LayoutModel",
            "_view_count": null,
            "_view_module": "@jupyter-widgets/base",
            "_view_module_version": "1.2.0",
            "_view_name": "LayoutView",
            "align_content": null,
            "align_items": null,
            "align_self": null,
            "border": null,
            "bottom": null,
            "display": null,
            "flex": null,
            "flex_flow": null,
            "grid_area": null,
            "grid_auto_columns": null,
            "grid_auto_flow": null,
            "grid_auto_rows": null,
            "grid_column": null,
            "grid_gap": null,
            "grid_row": null,
            "grid_template_areas": null,
            "grid_template_columns": null,
            "grid_template_rows": null,
            "height": null,
            "justify_content": null,
            "justify_items": null,
            "left": null,
            "margin": null,
            "max_height": null,
            "max_width": null,
            "min_height": null,
            "min_width": null,
            "object_fit": null,
            "object_position": null,
            "order": null,
            "overflow": null,
            "overflow_x": null,
            "overflow_y": null,
            "padding": null,
            "right": null,
            "top": null,
            "visibility": null,
            "width": null
          }
        },
        "0e12f6961a4441ffa5611c8635ac553d": {
          "model_module": "@jupyter-widgets/controls",
          "model_name": "FloatSliderModel",
          "model_module_version": "1.5.0",
          "state": {
            "_dom_classes": [],
            "_model_module": "@jupyter-widgets/controls",
            "_model_module_version": "1.5.0",
            "_model_name": "FloatSliderModel",
            "_view_count": null,
            "_view_module": "@jupyter-widgets/controls",
            "_view_module_version": "1.5.0",
            "_view_name": "FloatSliderView",
            "continuous_update": true,
            "description": "z0",
            "description_tooltip": null,
            "disabled": false,
            "layout": "IPY_MODEL_f678425fbdec481f978bd4d168edaf14",
            "max": 175,
            "min": 0,
            "orientation": "horizontal",
            "readout": true,
            "readout_format": ".2f",
            "step": 0.1,
            "style": "IPY_MODEL_5fbda74f74954675ba2793004f3e106b",
            "value": 78.99999999999999
          }
        },
        "2ffed83cf2494e0bb716e350c2a91dfa": {
          "model_module": "@jupyter-widgets/controls",
          "model_name": "FloatSliderModel",
          "model_module_version": "1.5.0",
          "state": {
            "_dom_classes": [],
            "_model_module": "@jupyter-widgets/controls",
            "_model_module_version": "1.5.0",
            "_model_name": "FloatSliderModel",
            "_view_count": null,
            "_view_module": "@jupyter-widgets/controls",
            "_view_module_version": "1.5.0",
            "_view_name": "FloatSliderView",
            "continuous_update": true,
            "description": "pz",
            "description_tooltip": null,
            "disabled": false,
            "layout": "IPY_MODEL_c085194f643541a9b3e11afffe190953",
            "max": 1,
            "min": -1,
            "orientation": "horizontal",
            "readout": true,
            "readout_format": ".2f",
            "step": 0.001,
            "style": "IPY_MODEL_008f39a56f66413eb503dec2e0e8fdd4",
            "value": 0.4520000000000002
          }
        },
        "f855a744926b4c6b8325694d3f0d2056": {
          "model_module": "@jupyter-widgets/base",
          "model_name": "LayoutModel",
          "model_module_version": "1.2.0",
          "state": {
            "_model_module": "@jupyter-widgets/base",
            "_model_module_version": "1.2.0",
            "_model_name": "LayoutModel",
            "_view_count": null,
            "_view_module": "@jupyter-widgets/base",
            "_view_module_version": "1.2.0",
            "_view_name": "LayoutView",
            "align_content": null,
            "align_items": null,
            "align_self": null,
            "border": null,
            "bottom": null,
            "display": null,
            "flex": null,
            "flex_flow": "row wrap",
            "grid_area": null,
            "grid_auto_columns": null,
            "grid_auto_flow": null,
            "grid_auto_rows": null,
            "grid_column": null,
            "grid_gap": null,
            "grid_row": null,
            "grid_template_areas": null,
            "grid_template_columns": null,
            "grid_template_rows": null,
            "height": null,
            "justify_content": null,
            "justify_items": null,
            "left": null,
            "margin": null,
            "max_height": null,
            "max_width": null,
            "min_height": null,
            "min_width": null,
            "object_fit": null,
            "object_position": null,
            "order": null,
            "overflow": null,
            "overflow_x": null,
            "overflow_y": null,
            "padding": null,
            "right": null,
            "top": null,
            "visibility": null,
            "width": null
          }
        },
        "454928c6b9f0431088f9f4400c86934c": {
          "model_module": "@jupyter-widgets/base",
          "model_name": "LayoutModel",
          "model_module_version": "1.2.0",
          "state": {
            "_model_module": "@jupyter-widgets/base",
            "_model_module_version": "1.2.0",
            "_model_name": "LayoutModel",
            "_view_count": null,
            "_view_module": "@jupyter-widgets/base",
            "_view_module_version": "1.2.0",
            "_view_name": "LayoutView",
            "align_content": null,
            "align_items": null,
            "align_self": null,
            "border": null,
            "bottom": null,
            "display": null,
            "flex": null,
            "flex_flow": null,
            "grid_area": null,
            "grid_auto_columns": null,
            "grid_auto_flow": null,
            "grid_auto_rows": null,
            "grid_column": null,
            "grid_gap": null,
            "grid_row": null,
            "grid_template_areas": null,
            "grid_template_columns": null,
            "grid_template_rows": null,
            "height": null,
            "justify_content": null,
            "justify_items": null,
            "left": null,
            "margin": null,
            "max_height": null,
            "max_width": null,
            "min_height": null,
            "min_width": null,
            "object_fit": null,
            "object_position": null,
            "order": null,
            "overflow": null,
            "overflow_x": null,
            "overflow_y": null,
            "padding": null,
            "right": null,
            "top": null,
            "visibility": null,
            "width": null
          }
        },
        "f678425fbdec481f978bd4d168edaf14": {
          "model_module": "@jupyter-widgets/base",
          "model_name": "LayoutModel",
          "model_module_version": "1.2.0",
          "state": {
            "_model_module": "@jupyter-widgets/base",
            "_model_module_version": "1.2.0",
            "_model_name": "LayoutModel",
            "_view_count": null,
            "_view_module": "@jupyter-widgets/base",
            "_view_module_version": "1.2.0",
            "_view_name": "LayoutView",
            "align_content": null,
            "align_items": null,
            "align_self": null,
            "border": null,
            "bottom": null,
            "display": null,
            "flex": null,
            "flex_flow": null,
            "grid_area": null,
            "grid_auto_columns": null,
            "grid_auto_flow": null,
            "grid_auto_rows": null,
            "grid_column": null,
            "grid_gap": null,
            "grid_row": null,
            "grid_template_areas": null,
            "grid_template_columns": null,
            "grid_template_rows": null,
            "height": null,
            "justify_content": null,
            "justify_items": null,
            "left": null,
            "margin": null,
            "max_height": null,
            "max_width": null,
            "min_height": null,
            "min_width": null,
            "object_fit": null,
            "object_position": null,
            "order": null,
            "overflow": null,
            "overflow_x": null,
            "overflow_y": null,
            "padding": null,
            "right": null,
            "top": null,
            "visibility": null,
            "width": null
          }
        },
        "5fbda74f74954675ba2793004f3e106b": {
          "model_module": "@jupyter-widgets/controls",
          "model_name": "SliderStyleModel",
          "model_module_version": "1.5.0",
          "state": {
            "_model_module": "@jupyter-widgets/controls",
            "_model_module_version": "1.5.0",
            "_model_name": "SliderStyleModel",
            "_view_count": null,
            "_view_module": "@jupyter-widgets/base",
            "_view_module_version": "1.2.0",
            "_view_name": "StyleView",
            "description_width": "",
            "handle_color": null
          }
        },
        "c085194f643541a9b3e11afffe190953": {
          "model_module": "@jupyter-widgets/base",
          "model_name": "LayoutModel",
          "model_module_version": "1.2.0",
          "state": {
            "_model_module": "@jupyter-widgets/base",
            "_model_module_version": "1.2.0",
            "_model_name": "LayoutModel",
            "_view_count": null,
            "_view_module": "@jupyter-widgets/base",
            "_view_module_version": "1.2.0",
            "_view_name": "LayoutView",
            "align_content": null,
            "align_items": null,
            "align_self": null,
            "border": null,
            "bottom": null,
            "display": null,
            "flex": null,
            "flex_flow": null,
            "grid_area": null,
            "grid_auto_columns": null,
            "grid_auto_flow": null,
            "grid_auto_rows": null,
            "grid_column": null,
            "grid_gap": null,
            "grid_row": null,
            "grid_template_areas": null,
            "grid_template_columns": null,
            "grid_template_rows": null,
            "height": null,
            "justify_content": null,
            "justify_items": null,
            "left": null,
            "margin": null,
            "max_height": null,
            "max_width": null,
            "min_height": null,
            "min_width": null,
            "object_fit": null,
            "object_position": null,
            "order": null,
            "overflow": null,
            "overflow_x": null,
            "overflow_y": null,
            "padding": null,
            "right": null,
            "top": null,
            "visibility": null,
            "width": null
          }
        },
        "008f39a56f66413eb503dec2e0e8fdd4": {
          "model_module": "@jupyter-widgets/controls",
          "model_name": "SliderStyleModel",
          "model_module_version": "1.5.0",
          "state": {
            "_model_module": "@jupyter-widgets/controls",
            "_model_module_version": "1.5.0",
            "_model_name": "SliderStyleModel",
            "_view_count": null,
            "_view_module": "@jupyter-widgets/base",
            "_view_module_version": "1.2.0",
            "_view_name": "StyleView",
            "description_width": "",
            "handle_color": null
          }
        },
        "c6ebdbeb33c74a2b972f524739ac51fd": {
          "model_module": "@jupyter-widgets/controls",
          "model_name": "VBoxModel",
          "model_module_version": "1.5.0",
          "state": {
            "_dom_classes": [],
            "_model_module": "@jupyter-widgets/controls",
            "_model_module_version": "1.5.0",
            "_model_name": "VBoxModel",
            "_view_count": null,
            "_view_module": "@jupyter-widgets/controls",
            "_view_module_version": "1.5.0",
            "_view_name": "VBoxView",
            "box_style": "",
            "children": [
              "IPY_MODEL_996c45099fc84d88a1b7e061abed5176",
              "IPY_MODEL_64233eb824264f799a2d26195ccaafb0"
            ],
            "layout": "IPY_MODEL_601c0fd7fe2340eda87d1020ed0a4f11"
          }
        },
        "996c45099fc84d88a1b7e061abed5176": {
          "model_module": "@jupyter-widgets/controls",
          "model_name": "HBoxModel",
          "model_module_version": "1.5.0",
          "state": {
            "_dom_classes": [],
            "_model_module": "@jupyter-widgets/controls",
            "_model_module_version": "1.5.0",
            "_model_name": "HBoxModel",
            "_view_count": null,
            "_view_module": "@jupyter-widgets/controls",
            "_view_module_version": "1.5.0",
            "_view_name": "HBoxView",
            "box_style": "",
            "children": [
              "IPY_MODEL_d58e404e799342bc853c57d8895cdafd",
              "IPY_MODEL_d86563e669c242eba03a64e670214122",
              "IPY_MODEL_36b5937a73a9465c92af0857ae6db5d1",
              "IPY_MODEL_2acb5c56074b43729ab348068bac28fd",
              "IPY_MODEL_6990fe2e0de341339e7506f5a4b92389",
              "IPY_MODEL_6f8a5f77ebe54677a180927963589cfa"
            ],
            "layout": "IPY_MODEL_d6e9da18efc94367af614aefb07f9d35"
          }
        },
        "64233eb824264f799a2d26195ccaafb0": {
          "model_module": "@jupyter-widgets/output",
          "model_name": "OutputModel",
          "model_module_version": "1.0.0",
          "state": {
            "_dom_classes": [],
            "_model_module": "@jupyter-widgets/output",
            "_model_module_version": "1.0.0",
            "_model_name": "OutputModel",
            "_view_count": null,
            "_view_module": "@jupyter-widgets/output",
            "_view_module_version": "1.0.0",
            "_view_name": "OutputView",
            "layout": "IPY_MODEL_484d1072ea164525865ca7d55be59a5b",
            "msg_id": "",
            "outputs": [
              {
                "output_type": "display_data",
                "data": {
                  "text/html": "<html>\n<head><meta charset=\"utf-8\" /></head>\n<body>\n    <div>            <script src=\"https://cdnjs.cloudflare.com/ajax/libs/mathjax/2.7.5/MathJax.js?config=TeX-AMS-MML_SVG\"></script><script type=\"text/javascript\">if (window.MathJax && window.MathJax.Hub && window.MathJax.Hub.Config) {window.MathJax.Hub.Config({SVG: {font: \"STIX-Web\"}});}</script>                <script type=\"text/javascript\">window.PlotlyConfig = {MathJaxConfig: 'local'};</script>\n        <script charset=\"utf-8\" src=\"https://cdn.plot.ly/plotly-2.24.1.min.js\"></script>                <div id=\"7d574c7d-b12b-4ea9-af11-9bc6dd160c4d\" class=\"plotly-graph-div\" style=\"height:500px; width:510px;\"></div>            <script type=\"text/javascript\">                                    window.PLOTLYENV=window.PLOTLYENV || {};                                    if (document.getElementById(\"7d574c7d-b12b-4ea9-af11-9bc6dd160c4d\")) {                    Plotly.newPlot(                        \"7d574c7d-b12b-4ea9-af11-9bc6dd160c4d\",                        [{\"customdata\":[[1,40],[2,39],[4,50],[5,65],[6,66],[7,79],[8,80],[9,83],[10,82],[11,95],[12,95],[13,116],[14,117],[15,128],[16,128],[17,133],[18,134],[19,145],[20,145],[21,170],[22,170],[23,182],[24,1],[25,190],[26,191],[27,203],[28,203]],\"hovertemplate\":\"x=%{x}\\u003cbr\\u003ey=%{y}\\u003cbr\\u003ering=%{customdata[0]}\\u003cbr\\u003ewire=%{customdata[1]}\\u003cextra\\u003e\\u003c\\u002fextra\\u003e\",\"legendgroup\":\"\",\"marker\":{\"color\":\"#636efa\",\"symbol\":\"circle\",\"size\":3},\"mode\":\"markers\",\"name\":\"\",\"orientation\":\"v\",\"showlegend\":false,\"x\":[10.245540092448428,10.883407804407383,13.533764847258738,14.63754157287632,16.161645116693055,18.280170724654752,19.809708167564917,21.970019971302847,22.964946068473644,24.98859723926315,26.65240818481918,29.39496304726577,31.231023095945556,32.62288474879288,33.92886880034064,35.48936141628863,37.12905355650429,38.6138973285161,40.24912932384948,42.11780635697019,43.63779450223042,45.396739510415415,46.910345904887436,49.12438061556914,50.814793009913075,52.49727997978137,53.85813584077953],\"xaxis\":\"x\",\"y\":[-3.1603872901959087,-5.24123903795319,-6.796995450131162,-8.541930780609043,-8.624608941606576,-9.330541655166506,-9.341088265758188,-9.293328546789212,-10.467145452741985,-10.72311063326988,-10.318030614993933,-10.983363394692901,-9.883830516076008,-11.02127066889192,-11.462482530816441,-12.061047276348365,-11.536101996233793,-12.505554258833975,-11.958621213873862,-11.571627614383804,-11.307137442956796,-11.225715329330402,-10.924464402395266,-11.153727145071056,-9.84496599535467,-9.573715910473167,-9.82188967134833],\"yaxis\":\"y\",\"type\":\"scatter\",\"uid\":\"6c29dbd7-1372-4d10-916e-138f89b34c35\"},{\"type\":\"scatter\",\"uid\":\"cf4cf747-3c55-439e-a80d-1010e218e24e\",\"marker\":{\"size\":3},\"x\":[-2.1316282072803006e-14,0.18333640275795915,0.36707413137224165,0.5512113687848625,0.735746293986935,0.9206770820366472,1.1060019040774165,1.2917189273558094,1.4778263152397884,1.6643222272368376,1.8512048190121746,2.038472242406968,2.226122645456627,2.4141541724091056,2.6025649637433403,2.7913531561874763,2.980516882737426,3.170054272675273,3.3599634515878165,3.550242541385053,3.7408896603187927,3.931902923001225,4.12328044042367,4.315020319975119,4.507120665461009,4.69957957712203,4.892395151652806,5.085565482220815,5.279088658485193,5.472962766615652,5.667185889311355,5.8617561058199925,6.056671491956628,6.251930120122829,6.4475300593257145,6.643469375197,6.839746130012209,7.036358382709764,7.233304188910189,7.430581600935454,7.628188667828049,7.826123435370398,8.024383946104166,8.222968239349605,8.421874351224957,8.621100314665846,8.820644159444747,9.020503912190552,9.220677596407917,9.42116323249694,9.621958837772691,9.823062426484835,10.024472009837254,10.226185596007728,10.428201190167623,10.630516794501602,10.83313040822749,11.036040027615876,11.239243646010074,11.442739253845904,11.6465248386716,11.850598385167658,12.05495787516687,12.259601287674148,12.464526598886614,12.669731782213546,12.875214808296509,13.08097364502931,13.287006257578174,13.493310608401828,13.699884657271703,13.906726361292051,14.113833674920166,14.321204549986621,14.52883693571555,14.736728778744869,14.944878023146622,15.15328261044731,15.361940479648219,15.570849567245883,15.780007807252378,15.989413131215816,16.199063468240844,16.40895674500901,16.61909088579937,16.829463812508955,17.04007344467335,17.25091769948729,17.461994491825187,17.67330173426181,17.884837337092932,18.09659920835595,18.308585253850612,18.52079337715971,18.733221479669815,18.945867460592027,19.158729216982792,19.371804643764627,19.58509163374697,19.798588077647068,20.01229186411075,20.226200879733362,20.440313009080658,20.65462613470969,20.869138137189843,21.083846895123653,21.298750285167884,21.51384618205454,21.72913245861179,21.9446069857851,22.16026763265822,22.37611226647429,22.592138752656968,22.80834495483145,23.024728734845652,23.24128795279139,23.458020467025456,23.674924134190867,23.89199680923803,24.109236345445964,24.32664059444352,24.544207406230683,24.76193462919973,24.979820110156577,25.197861694342105,25.41605722545338,25.634404545665035,25.8529014956506,26.071545914603846,26.290335640260196,26.509268508918044,26.72834235546017,26.947555013375222,27.16690431477904,27.38638809043614,27.60600416978118,27.825750380940406,28.045624550753157,28.265624504793315,28.485748067390816,28.70599306165323,28.926357309487194,29.146838631620017,29.3674348476212,29.588143775924024,29.808963233847088,30.02989103761597,30.25092500238471,30.47206294225751,30.693302670310334,30.914641998612492,31.136078738248315,31.35761069933879,31.57923569106321,31.800951521680908,32.022755998552796,32.24464692816316,32.46662211614134,32.688679367283385,32.91081648557378,33.1330312742072,33.35532153561018,33.577685071462874,33.800119682720826,34.02262316963664,34.24519333178184,34.46782796806851,34.690524876771164,34.91328185554845,35.13609670146497,35.35896721101306,35.581891180134576,35.804866404242674,36.027890678243665,36.25096179655874,36.47407755314585,36.6972357415215,36.92043415478257,37.14367058562811,37.36694282638126,37.59024866901098,37.81358590515391,38.03695232613627,38.26034572299565,38.483763886502835,38.7072046071837,38.93066567534105,39.15414488107644,39.37764001431211,39.601148864812714,39.82466922220732,40.04819887601115,40.27173561564751,40.495277230469625,40.71882150978251,40.942366242864814,41.16590921899075,41.38944822745183,41.612981057578885,41.836505498763785,42.06001934048138,42.28352037231136,42.507006383960054,42.73047516528237,42.95392450630362,43.17735219724135,43.400756028527184,43.62413379082877,43.847483275071525,44.07080227246051,44.2940885745023,44.5173399730268,44.74055426020908,44.96372922859126,45.18686267110425,45.409952381089674,45.63299615232161,45.85599177902844,46.07893705591469,46.301829778182814,46.524667741554964,46.747448742294885,46.97017057722959,47.19283104377127,47.41542793993895,47.637959064380375,47.8604222163937,48.08281519594931,48.30513580371152,48.52738184106043,48.749551110113515,48.97164141374752,49.19365055562005,49.415576340191386,49.63741657274614,49.85916905941501,50.080831607196416,50.302402023978246,50.523878118559516,50.745257700672006,50.966538581001984,51.187718571211775,51.40879548396149,51.62976713293058,51.85063133283953,52.071385899471366,52.29202864969342,52.512557401478745,52.73296997392782,52.95326418729003,53.17343786298529,53.39348882362553,53.61341489303631,53.83321389627822,54.05288365966854,54.272422010802586,54.49182677857532,54.71109579320274,54.93022688624335,55.149217890619624,55.36806664063944,55.58677097201749,55.80532872189666,56.02373772886947,56.24199583299939,56.46010087584227,56.678050700467615,56.895843151479944,57.113476075040126,57.33094731888664,57.548254732356895,57.76539616640852,57.98236947364051,58.19917250831462,58.41580312637642,58.63225918547663,58.84853854499223,59.064639066047675,59.28055861153601,59.496295046140034,59.711846236353395,59.927210050501714,60.142384358763636,60.35736703319192,60.572155947734444,60.7867489782553,61.00114400255571,61.215338900395096,61.429331553512,61.64311984564505,61.856701662553895,62.07007489204007,62.28323742396795,62.49618715028555,62.70892196504545,62.92143976442553,63.133738446749874,63.345815912509465,63.55767006438302,63.769298807257684,63.980700048249744,64.19187169672539,64.40281166432129,64.61351786496536,64.8239882148973,65.03422063268923,65.2442130392663,65.45396335792722,65.6634695143648,65.87272943668648,66.08174105543482,66.29050230360791,66.49901111667991,66.7072654326214,66.91526319191976,67.12300233759963,67.3304808152431,67.5376965730102,67.74464756165902,67.9513317345661,68.15774704774667,68.36389145987476,68.56976293230349,68.77535942908516,68.98067891699148,69.18571936553354,69.39047874698201,69.59495503638712,69.79914621159877,70.0030502532864,70.20666514495909,70.40998887298537,70.6130194266133,70.81575479799021,71.0181929821826,71.22033197719601,71.42216978399473,71.62370440652171,71.82493385171813,72.02585612954326,72.22646925299398,72.42677123812466,72.62676010406655,72.82643387304748,73.02579057041137,73.22482822463792,73.42354486736184,73.62193853339251,73.82000726073333,74.01774909060124,74.2151620674459,74.41224423896918,74.60899365614439,74.80540837323566,75.00148644781703,75.19722594079175,75.39262491641148,75.58768144229535,75.78239358944913,75.97675943228434,76.17077704863718,76.36444451978758,76.55775993047835,76.75072136893382,76.94332692687895,77.13557469955813,77.32746278575411,77.51898928780659,77.71015231163128,77.90094996673835,78.09138036625133,78.28144162692566,78.47113186916734,78.66044921705152,78.84939179834112,79.03795774450518,79.2261451907375,79.41395227597502,79.60137714291622,79.78841793803949,79.97507281162147,80.16133991775533,80.34721741436901,80.53270346324354,80.71779623003103,80.90249388427299,81.08679459941831,81.27069655284146,81.45419792586034,81.63729690375439,81.81999167578248,82.0022804352009,82.18416137928108,82.36563270932757,82.54669263069572,82.72733935280951,82.90757108917919,83.08738605741894,83.2667824792646,83.44575858059119,83.62431259143037,83.8024427459881,83.98014728266199,84.15742444405879,84.33427247701175,84.51068963259786,84.68667416615534,84.86222433730077,85.03733840994624,85.2120146523167,85.3862513369669,85.56004674079857,85.73339914507753,85.9063068354505,86.07876810196223,86.25078123907227,86.42234454567199,86.59345632510127,86.76411488516534,86.93431853815146,87.10406560084573,87.2733543945496,87.44218324509656,87.61055048286863,87.77845444281299,87.94589346445827,88.11286589193114,88.27937007397252,88.44540436395411,88.61096711989453,88.77605670447552,88.94067148505832,89.10480983369963,89.2684701271678,89.43165074695887,89.59435007931255,89.75656651522823,89.91829845048085,90.07954428563677,90.24030242606958,90.4005712819759,90.56034926839112,90.71963480520496,90.87842631717726,91.03672223395341,91.19452099007998,91.35182102502019,91.50862078316925,91.66491871386984,91.82071327142746,91.97600291512566,92.13078610924123,92.2850613230595,92.43882703088943,92.59208171207868,92.74482385102866,92.89705193720954,93.04876446517514,93.19995993457786,93.35063685018352,93.50079372188611,93.65042906472257,93.79954139888744,93.9481292497475,94.09619114785636,94.243725628969,94.39073123405629,94.53720650931928,94.68315000620375,94.8285602814144,94.97343589692922,95.11777542001366,95.26157742323477,95.4048404844754,95.54756318694822,95.68974411920969,95.83138187517412,95.97247505412743,96.11302226074118,96.25302210508619,96.39247320264643,96.53137417433261,96.66972364649592,96.8075202509415,96.94476262494203,97.08144941125121,97.21757925811724,97.35315081929602,97.4881627540646,97.62261372723447,97.7565024091646,97.88982747577475,98.02258760855852,98.1547814945963,98.28640782656842,98.41746530276788,98.54795262711345,98.67786850916227,98.8072116641227,98.93598081286714,99.06417468194451,99.19179200359285,99.31883151575198,99.44529196207596,99.57117209194536,99.6964706604798,99.82118642855022,99.94531816279107,100.06886463561257,100.19182462521283,100.31419691558992,100.43598029655394,100.55717356373893,100.6777755186148,100.79778496849923,100.9172007265694,101.03602161187375,101.15424644934367,101.27187406980511,101.38890330999013,101.50533301254848,101.62116202605887,101.73638920504058,101.85101340996462,101.9650335072651,102.07844836935035,102.19125687461415,102.30345790744678,102.4150503582461,102.52603312342843,102.63640510543958,102.74616521276556,102.85531235994358,102.96384546757258,103.07176346232401,103.17906527695243,103.28574985030605,103.39181612733725,103.49726305911297,103.60208960282513,103.70629472180092,103.80987738551306,103.91283656958997,104.01517125582592,104.11688043219112,104.21796309284167,104.31841823812955,104.41824487461254,104.51744201506392,104.6160086784824,104.71394389010169,104.81124668140019,104.90791609011056,105.00395116022928,105.099350942026,105.19411449205307,105.28824087315473,105.38172915447652,105.47457841147433,105.56678772592367,105.65835618592871,105.74928288593127,105.83956692671983,105.92920741543833,106.01820346559515,106.1065541970717,106.19425873613129,106.28131621542764,106.36772577401351,106.45348655734925,106.53859771731119,106.62305841220005,106.70686780674929,106.7900250721333,106.87252938597571,106.95437993235741,107.03557590182467,107.11611649139715,107.19600090457584,107.2752283513509,107.35379804820954,107.43170921814367,107.50896109065772,107.58555290177613,107.66148389405096,107.7367533165694,107.81136042496118,107.88530448140591,107.95858475464038,108.03120051996586,108.10315105925514,108.17443566095976,108.24505362011696,108.31500423835669,108.38428682390852,108.45290069160846,108.52084516290576,108.58811956586956,108.65472323519563,108.72065551221291,108.78591574488996,108.85050328784152,108.91441750233477,108.97765775629578,109.04022342431567,109.1021138876568,109.16332853425892,109.2238667587452,109.28372796242826,109.342911553316,109.40141694611756,109.45924356224906,109.51639082983928,109.57285818373539,109.6286450655085,109.68375092345919,109.73817521262296,109.79191739477564,109.84497693843866,109.89735331888437,109.94904601814122,110.00005452499882,110.05037833501306,110.1000169505111,110.14896988059627,110.19723664115286,110.24481675485103,110.29170975115149,110.3379151663101,110.38343254338247,110.4282614322286,110.47240138951709,110.51585197872981,110.55861277016596,110.60068334094653,110.6420632750183,110.6827521631581,110.72274960297678,110.76205519892319,110.80066856228812,110.83858931120817,110.87581707066941,110.91235147251125,110.94819215542994,110.98333876498222,111.01779095358883,111.05154838053788,111.0846107119883,111.11697762097312,111.1486487874026,111.17962389806762,111.20990264664252,111.23948473368831,111.26836986665558,111.29655775988734,111.32404813462193,111.35084071899573,111.37693524804585,111.40233146371276,111.42702911484284,111.45102795719085,111.47432775342236,111.49692827311611,111.51882929276627,111.54003059578463,111.5605319725028,111.58033322017423,111.59943414297622,111.6178345520119,111.63553426531206,111.65253310783696,111.66883091147803,111.6844275150596,111.69932276434042,111.71351651201529,111.72700861771635,111.73979894801467,111.75188737642135,111.763273783389,111.77395805631272,111.78394008953137,111.7932197843285,111.8017970489334,111.80967179852196,111.81684395521756,111.82331344809178,111.82908021316514,111.83414419340774,111.83850533873978,111.84216360603212,111.84511895910663,111.84737136873663,111.8489208126471,111.84976727551494,111.84991074896915,111.84935123159086,111.84808872891335,111.84612325342206,111.84345482455436,111.84008346869945,111.83600921919806,111.83123211634211,111.82575220737432,111.8195695464878,111.81268419482541,111.80509622047921,111.79680569848982,111.78781271084561,111.77811734648195,111.76771970128027,111.75661987806717,111.74481798661336,111.7323141436326,111.71910847278056,111.70520110465351,111.69059217678718,111.67528183365522,111.65927022666794,111.64255751417072,111.62514386144241,111.60702944069382,111.58821443106588,111.568699018628,111.54848339637607,111.52756776423074,111.50595232903527,111.48363730455361,111.4606229114682,111.43690937737786,111.41249693679546,111.38738583114569,111.36157630876258,111.33506862488713,111.30786304166473,111.27995982814258,111.25135926026704,111.22206162088087,111.19206719972051,111.16137629341313,111.12998920547368,111.09790624630203,111.06512773317975,111.03165399026705,110.99748534859951,110.96262214608491,110.9270647274998,110.89081344448611,110.85386865554769,110.81623072604675,110.77790002820029,110.73887694107631,110.6991618505902,110.6587551495008,110.61765723740662,110.5758685207418,110.53338941277218,110.49022033359111,110.44636171011535,110.40181397608093,110.35657757203866,110.31065294534997,110.26404055018239,110.21674084750506,110.1687543050842,110.12008139747849,110.0707226060343,110.02067841888103,109.96994933092624,109.91853584385076,109.8664384661037,109.81365771289745,109.76019410620263,109.70604817474279,109.65122045398934,109.59571148615618,109.5395218201943,109.48265201178643,109.4251026233415,109.36687422398911,109.30796738957382,109.24838270264956,109.18812075247381,109.12718213500177,109.06556745288053,109.003277315443,108.94031233870199,108.87667314534403,108.81236036472332,108.74737463285535,108.68171659241081,108.61538689270903,108.54838618971172,108.4807151460164,108.41237443084982,108.34336472006146,108.27368669611673,108.20334104809028,108.13232847165914,108.0606496690959,107.98830534926171,107.91529622759933,107.84162302612599,107.7672864734263,107.69228730464496,107.61662626147967,107.54030409217356,107.46332155150797,107.38567940079491,107.30737840786956,107.22841934708265,107.1488029992928,107.06853015185881,106.98760159863194,106.90601813994789,106.82378058261907,106.7408897399265,106.65734643161183,106.5731514838692,106.48830572933709,106.40281000709005,106.31666516263049,106.22987204788016,106.1424315211719,106.05434444724105,105.96561169721691,105.87623414861415,105.78621268532413,105.6955481976061,105.60424158207849,105.51229374171001,105.41970558581063,105.32647803002273,105.23261199631197,105.13810841295815,105.0429682145461,104.94719234195635,104.85078174235593,104.75373736918894,104.65606018216707,104.55775114726018,104.4588112366868,104.3592414289044,104.25904270859975,104.15821606667923,104.05676250025897,103.95468301265502,103.85197861337345,103.74865031810026,103.64469914869152,103.54012613316306,103.43493230568049,103.32911870654883,103.22268638220226,103.11563638519385,103.00796977418506,102.89968761393527,102.79079097529132,102.68128093517686,102.57115857658172,102.46042498855122,102.34908126617536,102.237128510578,102.12456782890604,102.01140033431827,101.89762714597468,101.7832493890251,101.66826819459821,101.55268469979038,101.43650004765428,101.31971538718776,101.2023318733224,101.08435066691199,100.96577293472123,100.84659984941413,100.72683258954231,100.60647233953351,100.48552028967973,100.36397763612553,100.24184558085624,100.11912533168599,99.99581810224579,99.87192511197156,99.74744758609205,99.62238675561672,99.49674385732357,99.37052013374688,99.24371683316501,99.11633520958797,98.988376522745,98.85984203807219,98.73073302669994,98.60105076544039,98.47079653677477,98.3399716288407,98.20857733541953,98.07661495592352,97.94408579538283,97.81099116443292,97.6773323793013,97.54311076179471,97.40832763928591,97.27298434470069,97.13708221650452,97.00062259868946,96.86360684076084,96.72603629772381,96.58791233007007,96.44923630376435,96.31000959023095,96.17023356634007,96.02990961439434,95.88903912211504,95.74762348262841,95.60566409445187,95.46316236148023,95.32011969297173,95.17653750353416,95.03241721311088,94.88776024696668,94.74256803567386,94.5968420150979,94.45058362638335,94.30379431593958,94.1564755354265,94.00862874174007,93.8602553969981,93.71135696852562,93.56193492884046,93.41199075563858,93.26152593177967,93.11054194527219,92.95904028925892,92.80702246200208,92.65448996686847,92.50144431231469,92.34788701187217,92.19381958413223,92.03924355273107,91.88416044633458,91.72857179862343,91.57247914827778,91.41588403896202,91.25878801930962,91.10119264290776,90.94309946828191,90.78451005888058,90.62542598305959,90.46584881406682,90.30578013002658,90.1452215139239,89.98417455358901,89.8226408416815,89.66062197567476,89.49811955783996,89.33513519523038,89.17167049966541,89.00772708771466,88.84330658068198,88.67841060458942,88.51304079016109,88.34719877280712,88.18088619260743,88.01410469429561,87.8468559272424,87.6791415454397,87.51096320748405,87.34232257656018,87.17322132042467,87.00366111138942,86.83364362630505,86.66317054654448,86.49224355798603,86.32086435099706,86.14903462041703,85.97675606554083,85.80403039010196,85.63085930225569,85.45724451456212,85.28318774396931,85.10869071179629,84.93375514371596,84.75838276973809,84.5825753241923,84.40633454571068,84.22966217721081,84.05255996587843,83.87502966315012,83.69707302469615,83.51869181040283,83.3398877843554,83.16066271482043,82.9810183742284,82.80095653915602,82.6204789903089,82.43958751250372,82.25828389465079,82.07656992973607,81.89444741480376,81.71191815093835,81.52898394324674],\"y\":[0.0,-0.12790642691009424,-0.25523567612174247,-0.38198648842362104,-0.5081576103248082,-0.6337477940671619,-0.7587557976377255,-0.8831803847808999,-1.0070203250107923,-1.130274393623253,-1.2529413717081184,-1.3750200461611755,-1.4965092096961925,-1.6174076608568413,-1.7377142040286344,-1.8574276494506705,-1.9765468132274435,-2.095070517340517,-2.2129975896602616,-2.3303268639573176,-2.447057179914246,-2.5631873831369063,-2.6787163251660004,-2.7936428634882517,-2.907965861547858,-3.021684188757682,-3.13479672051038,-3.2473023381895985,-3.359199929181031,-3.470488386883339,-3.5811666107191797,-3.691233506146105,-3.8006879846672845,-3.9095289638423694,-4.017755367298129,-4.125366124739159,-4.232360171958383,-4.3387364508476765,-4.444493909408237,-4.549631501761084,-4.654148188157301,-4.7580429349883815,-4.861314714796443,-4.963962506284368,-5.065985294325905,-5.167382069975773,-5.268151830479503,-5.368293579283517,-5.467806326044844,-5.56668908664102,-5.6649408831797174,-5.762560744008532,-5.859547703724488,-5.955900803183653,-6.051619089510567,-6.146701616107748,-6.241147442664968,-6.334955635168598,-6.428125265910836,-6.520655413498872,-6.6125451628640235,-6.7037936052707465,-6.79439983832566,-6.884362965986469,-6.973682098570777,-7.062356352764937,-7.150384851632808,-7.237766724624308,-7.324501107584183,-7.410587142760406,-7.496023978812801,-7.580810770821344,-7.664946680294548,-7.748430875177803,-7.831262529861576,-7.913440825189554,-7.994964948466773,-8.075834093467634,-8.156047460443887,-8.235604256132575,-8.314503693763797,-8.392744993068575,-8.470327380286506,-8.547250088173442,-8.623512356009101,-8.699113429604537,-8.774052561309603,-8.84832901002045,-8.921942041186696,-8.994890926818783,-9.067174945495196,-9.138793382369542,-9.20974552917761,-9.280030684244466,-9.349648152491255,-9.418597245442243,-9.486877281231457,-9.55448758460956,-9.621427486950424,-9.687696326257822,-9.75329344717197,-9.81821820097592,-9.882469945602097,-9.946048045638548,-10.008951872335317,-10.07118080361056,-10.132734224056776,-10.193611524946888,-10.253812104240225,-10.313335366588475,-10.372180723341629,-10.43034759255373,-10.487835398988707,-10.544643574125956,-10.600771556166109,-10.656218790036434,-10.710984727396422,-10.765068826643216,-10.818470552916892,-10.87118937810581,-10.923224780851825,-10.97457624655543,-11.025243267380887,-11.075225342261135,-11.124521976902912,-11.173132683791508,-11.221056982195634,-11.268294398172202,-11.314844464570982,-11.360706721039207,-11.405880714026154,-11.450365996787639,-11.494162129390375,-11.537268678716416,-11.579685218467347,-11.621411329168566,-11.662446598173403,-11.702790619667198,-11.742442994671322,-11.78140333104713,-11.81967124349984,-11.857246353582312,-11.894128289698827,-11.930316687108743,-11.965811187930129,-12.000611441143235,-12.034717102594072,-12.06812783499771,-12.100843307941673,-12.132863197889193,-12.164187188182396,-12.194814969045481,-12.22474623758771,-12.25398069780644,-12.282518060590093,-12.310358043720953,-12.337500371877937,-12.363944776639428,-12.38969099648584,-12.414738776802182,-12.439087869880666,-12.462738034923092,-12.485689038043247,-12.507940652269241,-12.529492657545674,-12.550344840735917,-12.570496995624154,-12.58994892291743,-12.608700430247652,-12.626751332173427,-12.644101450181964,-12.66075061269082,-12.676698655049563,-12.691945419541469,-12.706490755384976,-12.720334518735314,-12.733476572685774,-12.745916787269195,-12.757655039459195,-12.768691213171337,-12.779025199264382,-12.78865689554128,-12.797586206750225,-12.80581304458559,-12.8133373276888,-12.8201589816491,-12.82627793900437,-12.83169413924172,-12.836407528798105,-12.840418061060888,-12.843725696368253,-12.846330402009656,-12.848232152226075,-12.849430928210325,-12.849926718107213,-12.849719517013668,-12.848809326978795,-12.847196157003836,-12.844880023042094,-12.841860947998754,-12.838138961730706,-12.833714101046212,-12.828586409704528,-12.822755938415483,-12.816222744839038,-12.808986893584617,-12.801048456210538,-12.792407511223274,-12.783064144076675,-12.773018447171125,-12.762270519852706,-12.75082046841203,-12.73866840608342,-12.725814453043583,-12.712258736410561,-12.698001390242425,-12.683042555535906,-12.667382380225092,-12.651021019179908,-12.63395863420456,-12.616195394036026,-12.597731474342254,-12.578567057720576,-12.558702333695763,-12.538137498718257,-12.516872756162172,-12.494908316323304,-12.472244396417011,-12.448881220576126,-12.424819019848726,-12.400058032195787,-12.374598502488908,-12.34844068250787,-12.321584830938093,-12.294031213368143,-12.265780102287081,-12.236831777081775,-12.2071865240341,-12.176844636318194,-12.145806413997434,-12.114072164021565,-12.08164220022367,-12.048516843316975,-12.014696420891767,-11.980181267412135,-11.944971724212607,-11.909068139494849,-11.872470868324172,-11.835180272626047,-11.797196721182516,-11.758520589628546,-11.719152260448325,-11.679092122971426,-11.638340573369064,-11.596898014650023,-11.554764856656874,-11.511941516061711,-11.468428416362173,-11.424225987877207,-11.37933466774281,-11.333754899907703,-11.287487135128984,-11.240531830967583,-11.192889451783827,-11.14456046873282,-11.09554535975974,-11.045844609595164,-10.995458709750253,-10.944388158511913,-10.892633460937802,-10.840195128851448,-10.787073680837054,-10.733269642234518,-10.678783545134067,-10.623615928371137,-10.567767337521005,-10.511238324893341,-10.454029449526814,-10.396141277183517,-10.337574380343412,-10.278329338198631,-10.21840673664775,-10.15780716829002,-10.09653123241955,-10.034579535019219,-9.971952688754882,-9.908651312969184,-9.844676033675455,-9.78002748355155,-9.714706301933575,-9.648713134809569,-9.58204863481312,-9.514713461216871,-9.446708279926057,-9.378033763471905,-9.308690591004947,-9.238679448288352,-9.168001027691076,-9.09665602818113,-9.024645155318566,-8.951969121248482,-8.878628644694132,-8.804624450949618,-8.729957271872877,-8.654627845878352,-8.578636917929714,-8.501985239532516,-8.424673568726746,-8.346702670079296,-8.268073314676485,-8.188786280116332,-8.10884235050095,-8.028242316428745,-7.946986974986601,-7.865077129742019,-7.7825135907351495,-7.6992971744708,-7.615428703910325,-7.530909008463567,-7.445738923980528,-7.359919292743214,-7.273450963457279,-7.186334791243581,-7.098571637629789,-7.010162370541849,-6.921107864295337,-6.831408999586927,-6.741066663485569,-6.650081749423819,-6.558455157188888,-6.466187792913857,-6.3732805690686405,-6.279734404450977,-6.1855502241773905,-6.0907289596739815,-5.995271548667247,-5.899178935174774,-5.802452069495956,-5.705091908202547,-5.6070994141292445,-5.508475556364139,-5.409221310239104,-5.309337657320228,-5.208825585398031,-5.107686088477763,-5.005920166769485,-4.903528826678269,-4.800513080794204,-4.696873947882381,-4.5926124528727925,-4.487729626850275,-4.38222650704423,-4.276104136818418,-4.1693635656606105,-4.062005849172209,-3.954032049057851,-3.845443233114864,-3.736240475222708,-3.626424855332381,-3.5159974594557113,-3.404959379654656,-3.293311714030473,-3.1810555667128213,-3.068192047848946,-2.9547222735926084,-2.840647366093087,-2.7259684534840503,-2.6106866698724502,-2.4948031553272685,-2.3783190558682605,-2.261235523454573,-2.1435537159734466,-2.0252747972286755,-1.906399936929155,-1.7869303106772634,-1.6668670999572797,-1.5462114921236818,-1.4249646803894365,-1.3031278638141046,-1.1807022472921034,-1.057689041540705,-0.934089463088128,-0.8099047342614156,-0.6851360831744486,-0.5597847437157597,-0.43385195553626943,-0.30733896403717864,-0.18024702035744866,-0.052577381361615494,0.07566869037273705,0.20448992656744736,0.33388505325634554,0.4638527907977803,0.5943918538873234,0.7255009515704813,0.8571787872554708,0.9894240587260015,1.1222354581541794,1.2556116721134316,1.3895513815915308,1.5240532620035907,1.659115983205183,1.794738209505482,1.9309185996805311,2.06765580698643,2.204948479172664,2.342795258495535,2.4811947817315385,2.620145680190859,2.759646579730905,2.899696100769887,3.040292858300475,3.1814354619035186,3.3231225157617317,3.4653526186735704,3.6081243640670166,3.7514363400135764,3.8952871292421563,4.039675309153118,4.184599451832362,4.330058124065431,4.476049887351678,4.622573297918493,4.7696269067355885,4.917209259529358,5.065318896797194,5.213954353821961,5.363114160686479,5.5127968422880755,5.663000918353134,5.813724903451757,5.964967307012444,6.11672663333686,6.269001381614608,6.421790045938046,6.575091115317228,6.728903073694823,6.883224399961094,7.038053567968966,7.193389046549122,7.349229299525078,7.5055727857285035,7.662417959014334,7.819763268276134,7.977607157461399,8.135948065587009,8.294784426754575,8.454114670165971,8.613937220138887,8.774250496122384,8.935052912712528,9.096342879668079,9.25811880192618,9.420379079618222,9.583122108085554,9.74634627789542,9.910049974856861,10.074231580036695,10.238889469775465,10.404022015703589,10.569627584757363,10.735704539195225,10.902251236613829,11.069266029964389,11.236747267568902,11.40469329313651,11.573102445779888,11.741973060031654,11.911303465860833,12.081091988689359,12.251336949408739,12.42203666439648,12.593189445532907,12.764793600217736,12.936847431386923,13.109349237529337,13.282297312703662,13.455689946555218,13.629525424332954,13.803802026906304,13.978518030782261,14.153671708122381,14.329261326759912,14.505285150216878,14.681741437721278,14.858628444224287,15.035944420417572,15.213687612750462,15.391856263447437,15.570448610525403,15.749462887811177,15.928897324958939,16.108750147467724,16.28901957669899,16.469703829894172,16.650801120192405,16.83230965664807,17.014227644248578,17.19655328393211,17.379284772605438,17.56242030316168,17.74595806449826,17.929896241534728,18.114233015230823,18.298966562604328,18.484095056749226,18.669616666853656,18.855529558218123,19.041831892273564,19.22852182659956,19.41559751494254,19.603057107234086,19.790898749609163,19.979120584424507,20.16772075027697,20.3566973820219,20.546048610791694,20.735772564014127,20.925867365430996,21.116331135116596,21.30716198949638,21.498358041365513,21.6899173999076,21.881838170713323,22.074118455799265,22.26675635362657,22.45974995911982,22.653097363685852,22.84679665523268,23.04084591818831,23.235243233519753,23.42998667875198,23.62507432798698,23.820504251922728,24.01627451787231,24.21238318978302,24.408828328255552,24.605607990563122,24.8027202306707,25.000163099254245,25.19793464372001,25.39603290822386,25.594455933690554,25.793201757833174,25.992268415172482,26.191653937056458,26.391356351679633,26.591373684102688,26.791703956271924,26.9923451870389,27.193295392179937,27.394552584415795,27.59611477343129,27.797979965895053,28.000146165479144,28.202611372878852,28.405373585832443,28.608430799141008,28.811781004688218,29.01542219146025,29.219352345565618,29.42356945025517,29.628071485941934,29.83285643022116,30.037922257890287,30.243266940968983,30.448888448719224,30.654784747665335,30.860953801614112,31.067393571674952,31.274102016280086,31.48107709120465,31.688316749586996,31.895818941948868,32.10358161621576,32.31160271773712,32.519880189306676,32.72841197118285,32.93719600110907,33.146230214334196,33.35551254363287,33.565040919326066,33.77481326930149,33.98482751903408,34.195081591606524,34.40557340772979,34.616300885763756,34.82726194173769,35.038454489370935,35.2498764400935,35.46152570306674,35.673400185204045,35.88549779119151,36.09781642350864,36.310353982449136,36.523108366141685,36.736077470570635,36.94925918959692,37.16265141497881,37.376252036392835,37.590058941454565,37.80407001573957,38.01828314280428,38.232696204206995,38.44730707952874,38.662113646394275,38.8771137804931,39.09230535560046,39.30768624359834,39.52325431449654,39.73900743645371,39.954943475798515,40.171060297050616,40.38735576294185,40.603827734437395,40.82047407075689,41.037292629395566,41.25428126614554,41.47143783511689,41.68876018875898,41.906246177881684,42.123893651676575,42.34170045773825,42.5596644420856,42.77778344918314,42.996055321962274,43.21447790184267,43.43304902875356,43.6517665411552,43.87062827606012,44.08963206905458,44.30877575431998,44.5280571646543,44.74747413149345,44.96702448493278,45.18670605374853,45.40651666541933,45.62645414614755,45.84651632088105,46.06670101333442,46.287006046010674,46.507429240222706,46.72796841611488,46.94862139268456,47.1693859878037,47.390260018240404,47.61124129968049,47.83232764674924,48.05351687303278,48.274806791099856,48.496195212523446,48.71767994790238,48.939258806883004,49.16092959818083,49.382690129602175,49.604538208066,49.82647163962535,50.04848822948925,50.270585782044286,50.49276210087642,50.715014988792625,50.93734224784268,51.159741679340826,51.382211083887654,51.60474826139169,51.82735101109124,52.05001713157613,52.272744420809516,52.495530676149606,52.71837369437147,52.94127127168885,53.16422120377585,53.387221285788975,53.61026931238863,53.833363077761135,54.05650037564047,54.2796789993301,54.502896741724825,54.72615139533255,54.94944075229615,55.17276260441537,55.39611474316853,55.61949495973445,55.84290104501427,56.06633078965333,56.28978198406296,56.513252418442384,56.736739882800514,56.96024216697795,57.18375706066863,57.407282353441836,57.63081583476398,57.85435529402052,58.077898520537794,58.30144330360487,58.524987432495436,58.748528696489615,58.97206488489595,59.19559378707309,59.41911319245177,59.64262089055664,59.86611467102814,60.08959232364434,60.31305163834279,60.53649040524238,60.759906414665295,60.983297457158685,61.206661323516634,61.429995804801976,61.65329869236817,61.87656777788109,62.099800853340916,62.3229957111039,62.54615014390434,62.76926194487623,62.99232890757518,63.21534882600024,63.4383194946157,63.661238708372885,63.88410426273201,64.10691395368391,64.32966557777188,64.55235693211353,64.77498581442242,64.99755002302996,65.22004735690713,65.44247561568628,65.66483259968284,65.88711610991714,66.1093239481361,66.33145391683502,66.55350381927926,66.77547145952597,66.99735464244588,67.21915117374489,67.4408588599859,67.66247550861036,67.88399892796005,68.10542692729881,68.32675731683406,68.5479879077385,68.76911651217182,68.99014094330231,69.21105901532842,69.43186854350047,69.65256734414221,69.87315323467239,70.09362403362643,70.3139775606779,70.53421163666012,70.7543240835877,70.97431272467816,71.19417538437327,71.41390988836078,71.63351406359575,71.85298573832223,72.0723227420945,72.29152290579871,72.51058406167427,72.7295040433353,72.94828068579204,73.16691182547228,73.3853953002427,73.60372894943043,73.82191061384417,74.03993813579565,74.25780935912107,74.47552212920223,74.69307429298802,74.91046369901558,75.12768819743167,75.34474564001383,75.56163388019178,75.77835077306845,75.99489417544136,76.21126194582371,76.42745194446563,76.64346203337527,76.85929007634003,77.07493393894757,77.29039148860707,77.50566059457017,77.72073912795213,77.93562496175286,78.15031597087797,78.36481003215972,78.57910502437814,78.79319882828185,79.00708932660919,79.22077440410905,79.43425194756179,79.64751984580013,79.86057598973014,80.07341827235194,80.28604458878067,80.4984528362672,80.71064091421896,80.92260672422083,81.1343481700557,81.34586315772529,81.55714959547089,81.768205393794,81.97902846547703,82.18961672560387,82.39996809158058,82.61008048315601,82.81995182244228,83.02958003393536,83.23896304453565,83.44809878356844,83.65698518280435,83.86562017647985,84.07400170131767,84.2821276965472,84.48999610392487,84.69760486775448,84.90495193490754,85.11203525484363,85.31885277963062,85.52540246396492,85.73168226519174,85.93769014332523,86.1434240610688,86.3488819838351,86.55406187976618,86.75896171975369,86.96357947745878,87.16791312933229,87.37196065463469,87.57572003545604,87.77918925673605,87.98236630628385,88.18524917479805,88.3878358558865,88.59012434608613,88.7921126448829,88.99379875473142,89.19518068107475,89.39625643236423,89.59702402007903,89.79748145874586,89.99762676595869,90.1974579623982,90.39697307185153,90.59617012123167,90.79504714059703,90.99360216317096,91.19183322536122,91.38973836677926,91.58731563025972,91.78456306187977,91.98147871097841,92.17806063017579,92.37430687539245,92.57021550586852,92.76578458418301,92.96101217627282,93.155896351452,93.35043518243077,93.5446267453346,93.73846911972323,93.93196038860971,94.12509863847924,94.31788195930827,94.51030844458323,94.70237619131943,94.89408330007991,95.08542787499425,95.27640802377718,95.4670218577475,95.65726749184653,95.847143044657,96.03664663842144,96.22577639906086,96.41453045619326,96.6029069431521,96.79090399700482,96.97851975857124,97.16575237244189,97.35259998699642,97.53906075442197,97.72513283073124,97.91081437578097,98.09610355328998,98.28099853085733,98.46549747998057,98.64959857607369,98.83329999848516,99.01659993051612,99.19949655943813,99.38198807651119,99.56407267700159,99.74574856019984,99.92701392943837,100.1078669921094,100.28830595968257,100.46832904772275,100.64793447590753,100.827120468045,101.0058852520911,101.18422706016739,101.36214412857836,101.53963469782894,101.71669701264186,101.89332932197502,102.06952987903894,102.24529694131378,102.42062877056676,102.59552363286929,102.76997979861414,102.94399554253255,103.1175691437112,103.29069888560933,103.46338305607578,103.63561994736571,103.80740785615762,103.97874508357029,104.14962993517933,104.32006072103417,104.49003575567467,104.65955335814775,104.82861185202415,104.99720956541489,105.1653448309878,105.33301598598409,105.5002213722347,105.66695933617684,105.83322822887015,105.99902640601317,106.16435222795951,106.32920405973414,106.49358027104945,106.65747923632148,106.82089933468598,106.9838389500143,107.1462964709296,107.30827029082262,107.4697588078676,107.63076042503823,107.79127355012324,107.95129659574232,108.11082797936174,108.26986612331002,108.42840945479354,108.58645640591207,108.74400541367429,108.90105492001327,109.05760337180183,109.21364922086795,109.36919092401001,109.52422694301214,109.67875574465936,109.8327758007528,109.98628558812474,110.13928358865377,110.29176828927972,110.44373818201868,110.59519176397782,110.7461275373704,110.89654400953046,111.04643969292763,111.19581310518186,111.34466276907796,111.49298721258043,111.64078496884785,111.78805457624738,111.93479457836929,112.08100352404134,112.22667996734313,112.37182246762038,112.51642958949915,112.66049990290023,112.80403198305297,112.94702441050957,113.08947577115912,113.2313846562415,113.37274966236139,113.51356939150207,113.65384245103932,113.79356745375514,113.93274301785152,114.07136776696406,114.20944033017557,114.34695934202969,114.48392344254435,114.62033127722518,114.75618149707903,114.89147275862715,115.02620372391866,115.16037306054358,115.29397944164617,115.42702154593795,115.55949805771083,115.69140766685008,115.82274906884733,115.95352096481339,116.08372206149124,116.21335107126865,116.34240671219102,116.47088770797401]}],                        {\"legend\":{\"tracegroupgap\":0},\"margin\":{\"t\":60},\"template\":{\"data\":{\"barpolar\":[{\"marker\":{\"line\":{\"color\":\"#E5ECF6\",\"width\":0.5},\"pattern\":{\"fillmode\":\"overlay\",\"size\":10,\"solidity\":0.2}},\"type\":\"barpolar\"}],\"bar\":[{\"error_x\":{\"color\":\"#2a3f5f\"},\"error_y\":{\"color\":\"#2a3f5f\"},\"marker\":{\"line\":{\"color\":\"#E5ECF6\",\"width\":0.5},\"pattern\":{\"fillmode\":\"overlay\",\"size\":10,\"solidity\":0.2}},\"type\":\"bar\"}],\"carpet\":[{\"aaxis\":{\"endlinecolor\":\"#2a3f5f\",\"gridcolor\":\"white\",\"linecolor\":\"white\",\"minorgridcolor\":\"white\",\"startlinecolor\":\"#2a3f5f\"},\"baxis\":{\"endlinecolor\":\"#2a3f5f\",\"gridcolor\":\"white\",\"linecolor\":\"white\",\"minorgridcolor\":\"white\",\"startlinecolor\":\"#2a3f5f\"},\"type\":\"carpet\"}],\"choropleth\":[{\"colorbar\":{\"outlinewidth\":0,\"ticks\":\"\"},\"type\":\"choropleth\"}],\"contourcarpet\":[{\"colorbar\":{\"outlinewidth\":0,\"ticks\":\"\"},\"type\":\"contourcarpet\"}],\"contour\":[{\"colorbar\":{\"outlinewidth\":0,\"ticks\":\"\"},\"colorscale\":[[0.0,\"#0d0887\"],[0.1111111111111111,\"#46039f\"],[0.2222222222222222,\"#7201a8\"],[0.3333333333333333,\"#9c179e\"],[0.4444444444444444,\"#bd3786\"],[0.5555555555555556,\"#d8576b\"],[0.6666666666666666,\"#ed7953\"],[0.7777777777777778,\"#fb9f3a\"],[0.8888888888888888,\"#fdca26\"],[1.0,\"#f0f921\"]],\"type\":\"contour\"}],\"heatmapgl\":[{\"colorbar\":{\"outlinewidth\":0,\"ticks\":\"\"},\"colorscale\":[[0.0,\"#0d0887\"],[0.1111111111111111,\"#46039f\"],[0.2222222222222222,\"#7201a8\"],[0.3333333333333333,\"#9c179e\"],[0.4444444444444444,\"#bd3786\"],[0.5555555555555556,\"#d8576b\"],[0.6666666666666666,\"#ed7953\"],[0.7777777777777778,\"#fb9f3a\"],[0.8888888888888888,\"#fdca26\"],[1.0,\"#f0f921\"]],\"type\":\"heatmapgl\"}],\"heatmap\":[{\"colorbar\":{\"outlinewidth\":0,\"ticks\":\"\"},\"colorscale\":[[0.0,\"#0d0887\"],[0.1111111111111111,\"#46039f\"],[0.2222222222222222,\"#7201a8\"],[0.3333333333333333,\"#9c179e\"],[0.4444444444444444,\"#bd3786\"],[0.5555555555555556,\"#d8576b\"],[0.6666666666666666,\"#ed7953\"],[0.7777777777777778,\"#fb9f3a\"],[0.8888888888888888,\"#fdca26\"],[1.0,\"#f0f921\"]],\"type\":\"heatmap\"}],\"histogram2dcontour\":[{\"colorbar\":{\"outlinewidth\":0,\"ticks\":\"\"},\"colorscale\":[[0.0,\"#0d0887\"],[0.1111111111111111,\"#46039f\"],[0.2222222222222222,\"#7201a8\"],[0.3333333333333333,\"#9c179e\"],[0.4444444444444444,\"#bd3786\"],[0.5555555555555556,\"#d8576b\"],[0.6666666666666666,\"#ed7953\"],[0.7777777777777778,\"#fb9f3a\"],[0.8888888888888888,\"#fdca26\"],[1.0,\"#f0f921\"]],\"type\":\"histogram2dcontour\"}],\"histogram2d\":[{\"colorbar\":{\"outlinewidth\":0,\"ticks\":\"\"},\"colorscale\":[[0.0,\"#0d0887\"],[0.1111111111111111,\"#46039f\"],[0.2222222222222222,\"#7201a8\"],[0.3333333333333333,\"#9c179e\"],[0.4444444444444444,\"#bd3786\"],[0.5555555555555556,\"#d8576b\"],[0.6666666666666666,\"#ed7953\"],[0.7777777777777778,\"#fb9f3a\"],[0.8888888888888888,\"#fdca26\"],[1.0,\"#f0f921\"]],\"type\":\"histogram2d\"}],\"histogram\":[{\"marker\":{\"pattern\":{\"fillmode\":\"overlay\",\"size\":10,\"solidity\":0.2}},\"type\":\"histogram\"}],\"mesh3d\":[{\"colorbar\":{\"outlinewidth\":0,\"ticks\":\"\"},\"type\":\"mesh3d\"}],\"parcoords\":[{\"line\":{\"colorbar\":{\"outlinewidth\":0,\"ticks\":\"\"}},\"type\":\"parcoords\"}],\"pie\":[{\"automargin\":true,\"type\":\"pie\"}],\"scatter3d\":[{\"line\":{\"colorbar\":{\"outlinewidth\":0,\"ticks\":\"\"}},\"marker\":{\"colorbar\":{\"outlinewidth\":0,\"ticks\":\"\"}},\"type\":\"scatter3d\"}],\"scattercarpet\":[{\"marker\":{\"colorbar\":{\"outlinewidth\":0,\"ticks\":\"\"}},\"type\":\"scattercarpet\"}],\"scattergeo\":[{\"marker\":{\"colorbar\":{\"outlinewidth\":0,\"ticks\":\"\"}},\"type\":\"scattergeo\"}],\"scattergl\":[{\"marker\":{\"colorbar\":{\"outlinewidth\":0,\"ticks\":\"\"}},\"type\":\"scattergl\"}],\"scattermapbox\":[{\"marker\":{\"colorbar\":{\"outlinewidth\":0,\"ticks\":\"\"}},\"type\":\"scattermapbox\"}],\"scatterpolargl\":[{\"marker\":{\"colorbar\":{\"outlinewidth\":0,\"ticks\":\"\"}},\"type\":\"scatterpolargl\"}],\"scatterpolar\":[{\"marker\":{\"colorbar\":{\"outlinewidth\":0,\"ticks\":\"\"}},\"type\":\"scatterpolar\"}],\"scatter\":[{\"fillpattern\":{\"fillmode\":\"overlay\",\"size\":10,\"solidity\":0.2},\"type\":\"scatter\"}],\"scatterternary\":[{\"marker\":{\"colorbar\":{\"outlinewidth\":0,\"ticks\":\"\"}},\"type\":\"scatterternary\"}],\"surface\":[{\"colorbar\":{\"outlinewidth\":0,\"ticks\":\"\"},\"colorscale\":[[0.0,\"#0d0887\"],[0.1111111111111111,\"#46039f\"],[0.2222222222222222,\"#7201a8\"],[0.3333333333333333,\"#9c179e\"],[0.4444444444444444,\"#bd3786\"],[0.5555555555555556,\"#d8576b\"],[0.6666666666666666,\"#ed7953\"],[0.7777777777777778,\"#fb9f3a\"],[0.8888888888888888,\"#fdca26\"],[1.0,\"#f0f921\"]],\"type\":\"surface\"}],\"table\":[{\"cells\":{\"fill\":{\"color\":\"#EBF0F8\"},\"line\":{\"color\":\"white\"}},\"header\":{\"fill\":{\"color\":\"#C8D4E3\"},\"line\":{\"color\":\"white\"}},\"type\":\"table\"}]},\"layout\":{\"annotationdefaults\":{\"arrowcolor\":\"#2a3f5f\",\"arrowhead\":0,\"arrowwidth\":1},\"autotypenumbers\":\"strict\",\"coloraxis\":{\"colorbar\":{\"outlinewidth\":0,\"ticks\":\"\"}},\"colorscale\":{\"diverging\":[[0,\"#8e0152\"],[0.1,\"#c51b7d\"],[0.2,\"#de77ae\"],[0.3,\"#f1b6da\"],[0.4,\"#fde0ef\"],[0.5,\"#f7f7f7\"],[0.6,\"#e6f5d0\"],[0.7,\"#b8e186\"],[0.8,\"#7fbc41\"],[0.9,\"#4d9221\"],[1,\"#276419\"]],\"sequential\":[[0.0,\"#0d0887\"],[0.1111111111111111,\"#46039f\"],[0.2222222222222222,\"#7201a8\"],[0.3333333333333333,\"#9c179e\"],[0.4444444444444444,\"#bd3786\"],[0.5555555555555556,\"#d8576b\"],[0.6666666666666666,\"#ed7953\"],[0.7777777777777778,\"#fb9f3a\"],[0.8888888888888888,\"#fdca26\"],[1.0,\"#f0f921\"]],\"sequentialminus\":[[0.0,\"#0d0887\"],[0.1111111111111111,\"#46039f\"],[0.2222222222222222,\"#7201a8\"],[0.3333333333333333,\"#9c179e\"],[0.4444444444444444,\"#bd3786\"],[0.5555555555555556,\"#d8576b\"],[0.6666666666666666,\"#ed7953\"],[0.7777777777777778,\"#fb9f3a\"],[0.8888888888888888,\"#fdca26\"],[1.0,\"#f0f921\"]]},\"colorway\":[\"#636efa\",\"#EF553B\",\"#00cc96\",\"#ab63fa\",\"#FFA15A\",\"#19d3f3\",\"#FF6692\",\"#B6E880\",\"#FF97FF\",\"#FECB52\"],\"font\":{\"color\":\"#2a3f5f\"},\"geo\":{\"bgcolor\":\"white\",\"lakecolor\":\"white\",\"landcolor\":\"#E5ECF6\",\"showlakes\":true,\"showland\":true,\"subunitcolor\":\"white\"},\"hoverlabel\":{\"align\":\"left\"},\"hovermode\":\"closest\",\"mapbox\":{\"style\":\"light\"},\"paper_bgcolor\":\"white\",\"plot_bgcolor\":\"#E5ECF6\",\"polar\":{\"angularaxis\":{\"gridcolor\":\"white\",\"linecolor\":\"white\",\"ticks\":\"\"},\"bgcolor\":\"#E5ECF6\",\"radialaxis\":{\"gridcolor\":\"white\",\"linecolor\":\"white\",\"ticks\":\"\"}},\"scene\":{\"xaxis\":{\"backgroundcolor\":\"#E5ECF6\",\"gridcolor\":\"white\",\"gridwidth\":2,\"linecolor\":\"white\",\"showbackground\":true,\"ticks\":\"\",\"zerolinecolor\":\"white\"},\"yaxis\":{\"backgroundcolor\":\"#E5ECF6\",\"gridcolor\":\"white\",\"gridwidth\":2,\"linecolor\":\"white\",\"showbackground\":true,\"ticks\":\"\",\"zerolinecolor\":\"white\"},\"zaxis\":{\"backgroundcolor\":\"#E5ECF6\",\"gridcolor\":\"white\",\"gridwidth\":2,\"linecolor\":\"white\",\"showbackground\":true,\"ticks\":\"\",\"zerolinecolor\":\"white\"}},\"shapedefaults\":{\"line\":{\"color\":\"#2a3f5f\"}},\"ternary\":{\"aaxis\":{\"gridcolor\":\"white\",\"linecolor\":\"white\",\"ticks\":\"\"},\"baxis\":{\"gridcolor\":\"white\",\"linecolor\":\"white\",\"ticks\":\"\"},\"bgcolor\":\"#E5ECF6\",\"caxis\":{\"gridcolor\":\"white\",\"linecolor\":\"white\",\"ticks\":\"\"}},\"title\":{\"x\":0.05},\"xaxis\":{\"automargin\":true,\"gridcolor\":\"white\",\"linecolor\":\"white\",\"ticks\":\"\",\"title\":{\"standoff\":15},\"zerolinecolor\":\"white\",\"zerolinewidth\":2},\"yaxis\":{\"automargin\":true,\"gridcolor\":\"white\",\"linecolor\":\"white\",\"ticks\":\"\",\"title\":{\"standoff\":15},\"zerolinecolor\":\"white\",\"zerolinewidth\":2}}},\"xaxis\":{\"anchor\":\"y\",\"domain\":[0.0,1.0],\"title\":{\"text\":\"x\"},\"range\":[-60,60]},\"yaxis\":{\"anchor\":\"x\",\"domain\":[0.0,1.0],\"title\":{\"text\":\"y\"},\"range\":[-60,60]},\"width\":510,\"height\":500,\"showlegend\":false,\"shapes\":[{\"line\":{\"color\":\"black\"},\"type\":\"circle\",\"x0\":-16,\"x1\":16,\"xref\":\"x\",\"y0\":-16,\"y1\":16,\"yref\":\"y\"},{\"line\":{\"color\":\"black\"},\"type\":\"circle\",\"x0\":-58,\"x1\":58,\"xref\":\"x\",\"y0\":-58,\"y1\":58,\"yref\":\"y\"}]},                        {\"responsive\": true}                    ).then(function(){\n                            \nvar gd = document.getElementById('7d574c7d-b12b-4ea9-af11-9bc6dd160c4d');\nvar x = new MutationObserver(function (mutations, observer) {{\n        var display = window.getComputedStyle(gd).display;\n        if (!display || display === 'none') {{\n            console.log([gd, 'removed!']);\n            Plotly.purge(gd);\n            observer.disconnect();\n        }}\n}});\n\n// Listen for the removal of the full notebook cells\nvar notebookContainer = gd.closest('#notebook-container');\nif (notebookContainer) {{\n    x.observe(notebookContainer, {childList: true});\n}}\n\n// Listen for the clearing of the current output cell\nvar outputEl = gd.closest('.output');\nif (outputEl) {{\n    x.observe(outputEl, {childList: true});\n}}\n\n                        })                };                            </script>        </div>\n</body>\n</html>"
                },
                "metadata": {}
              }
            ]
          }
        },
        "601c0fd7fe2340eda87d1020ed0a4f11": {
          "model_module": "@jupyter-widgets/base",
          "model_name": "LayoutModel",
          "model_module_version": "1.2.0",
          "state": {
            "_model_module": "@jupyter-widgets/base",
            "_model_module_version": "1.2.0",
            "_model_name": "LayoutModel",
            "_view_count": null,
            "_view_module": "@jupyter-widgets/base",
            "_view_module_version": "1.2.0",
            "_view_name": "LayoutView",
            "align_content": null,
            "align_items": null,
            "align_self": null,
            "border": null,
            "bottom": null,
            "display": null,
            "flex": null,
            "flex_flow": null,
            "grid_area": null,
            "grid_auto_columns": null,
            "grid_auto_flow": null,
            "grid_auto_rows": null,
            "grid_column": null,
            "grid_gap": null,
            "grid_row": null,
            "grid_template_areas": null,
            "grid_template_columns": null,
            "grid_template_rows": null,
            "height": null,
            "justify_content": null,
            "justify_items": null,
            "left": null,
            "margin": null,
            "max_height": null,
            "max_width": null,
            "min_height": null,
            "min_width": null,
            "object_fit": null,
            "object_position": null,
            "order": null,
            "overflow": null,
            "overflow_x": null,
            "overflow_y": null,
            "padding": null,
            "right": null,
            "top": null,
            "visibility": null,
            "width": null
          }
        },
        "d58e404e799342bc853c57d8895cdafd": {
          "model_module": "@jupyter-widgets/controls",
          "model_name": "FloatSliderModel",
          "model_module_version": "1.5.0",
          "state": {
            "_dom_classes": [],
            "_model_module": "@jupyter-widgets/controls",
            "_model_module_version": "1.5.0",
            "_model_name": "FloatSliderModel",
            "_view_count": null,
            "_view_module": "@jupyter-widgets/controls",
            "_view_module_version": "1.5.0",
            "_view_name": "FloatSliderView",
            "continuous_update": true,
            "description": "z0",
            "description_tooltip": null,
            "disabled": false,
            "layout": "IPY_MODEL_5603d0dc72c444d5a9188a94f580bfbf",
            "max": 150,
            "min": 0,
            "orientation": "horizontal",
            "readout": true,
            "readout_format": ".2f",
            "step": 0.1,
            "style": "IPY_MODEL_e74ab1b521df4164b55c003b8fd81e84",
            "value": 59
          }
        },
        "d86563e669c242eba03a64e670214122": {
          "model_module": "@jupyter-widgets/controls",
          "model_name": "FloatSliderModel",
          "model_module_version": "1.5.0",
          "state": {
            "_dom_classes": [],
            "_model_module": "@jupyter-widgets/controls",
            "_model_module_version": "1.5.0",
            "_model_name": "FloatSliderModel",
            "_view_count": null,
            "_view_module": "@jupyter-widgets/controls",
            "_view_module_version": "1.5.0",
            "_view_name": "FloatSliderView",
            "continuous_update": true,
            "description": "px",
            "description_tooltip": null,
            "disabled": false,
            "layout": "IPY_MODEL_9bb17c5da46547819b20a9db656b6f92",
            "max": 1,
            "min": -1,
            "orientation": "horizontal",
            "readout": true,
            "readout_format": ".2f",
            "step": 0.0001,
            "style": "IPY_MODEL_884b70eb34934193ad127ce715f7275a",
            "value": 0.3
          }
        },
        "36b5937a73a9465c92af0857ae6db5d1": {
          "model_module": "@jupyter-widgets/controls",
          "model_name": "FloatSliderModel",
          "model_module_version": "1.5.0",
          "state": {
            "_dom_classes": [],
            "_model_module": "@jupyter-widgets/controls",
            "_model_module_version": "1.5.0",
            "_model_name": "FloatSliderModel",
            "_view_count": null,
            "_view_module": "@jupyter-widgets/controls",
            "_view_module_version": "1.5.0",
            "_view_name": "FloatSliderView",
            "continuous_update": true,
            "description": "py",
            "description_tooltip": null,
            "disabled": false,
            "layout": "IPY_MODEL_f8e38b1e149849fd8229d9afbaceee8d",
            "max": 1,
            "min": -1,
            "orientation": "horizontal",
            "readout": true,
            "readout_format": ".2f",
            "step": 0.0001,
            "style": "IPY_MODEL_d4ccc5612aab4ee5bfdf57bc39b93dfe",
            "value": -0.21
          }
        },
        "2acb5c56074b43729ab348068bac28fd": {
          "model_module": "@jupyter-widgets/controls",
          "model_name": "IntSliderModel",
          "model_module_version": "1.5.0",
          "state": {
            "_dom_classes": [],
            "_model_module": "@jupyter-widgets/controls",
            "_model_module_version": "1.5.0",
            "_model_name": "IntSliderModel",
            "_view_count": null,
            "_view_module": "@jupyter-widgets/controls",
            "_view_module_version": "1.5.0",
            "_view_name": "IntSliderView",
            "continuous_update": true,
            "description": "charge",
            "description_tooltip": null,
            "disabled": false,
            "layout": "IPY_MODEL_4e1c03a7c26c4f8ca08ea22d8ae16b6d",
            "max": 1,
            "min": -1,
            "orientation": "horizontal",
            "readout": true,
            "readout_format": "d",
            "step": 2,
            "style": "IPY_MODEL_5c21f4119b004c288324f0490b172a4f",
            "value": 1
          }
        },
        "6990fe2e0de341339e7506f5a4b92389": {
          "model_module": "@jupyter-widgets/controls",
          "model_name": "FloatSliderModel",
          "model_module_version": "1.5.0",
          "state": {
            "_dom_classes": [],
            "_model_module": "@jupyter-widgets/controls",
            "_model_module_version": "1.5.0",
            "_model_name": "FloatSliderModel",
            "_view_count": null,
            "_view_module": "@jupyter-widgets/controls",
            "_view_module_version": "1.5.0",
            "_view_name": "FloatSliderView",
            "continuous_update": true,
            "description": "pz",
            "description_tooltip": null,
            "disabled": false,
            "layout": "IPY_MODEL_9d69b5f646ad4415b3564e189933d3e2",
            "max": 1,
            "min": -1,
            "orientation": "horizontal",
            "readout": true,
            "readout_format": ".2f",
            "step": 0.0001,
            "style": "IPY_MODEL_272231cb90264e79ba116a9b36dd70dd",
            "value": 0.45
          }
        },
        "6f8a5f77ebe54677a180927963589cfa": {
          "model_module": "@jupyter-widgets/controls",
          "model_name": "FloatSliderModel",
          "model_module_version": "1.5.0",
          "state": {
            "_dom_classes": [],
            "_model_module": "@jupyter-widgets/controls",
            "_model_module_version": "1.5.0",
            "_model_name": "FloatSliderModel",
            "_view_count": null,
            "_view_module": "@jupyter-widgets/controls",
            "_view_module_version": "1.5.0",
            "_view_name": "FloatSliderView",
            "continuous_update": true,
            "description": "t_max",
            "description_tooltip": null,
            "disabled": false,
            "layout": "IPY_MODEL_f2476426078f4782b17931b4ca03b4ae",
            "max": 6.283185307179586,
            "min": 0,
            "orientation": "horizontal",
            "readout": true,
            "readout_format": ".2f",
            "step": 0.0001,
            "style": "IPY_MODEL_5aa365db22e5483ebc2c3d4db12a1b45",
            "value": 3.1416000000000004
          }
        },
        "d6e9da18efc94367af614aefb07f9d35": {
          "model_module": "@jupyter-widgets/base",
          "model_name": "LayoutModel",
          "model_module_version": "1.2.0",
          "state": {
            "_model_module": "@jupyter-widgets/base",
            "_model_module_version": "1.2.0",
            "_model_name": "LayoutModel",
            "_view_count": null,
            "_view_module": "@jupyter-widgets/base",
            "_view_module_version": "1.2.0",
            "_view_name": "LayoutView",
            "align_content": null,
            "align_items": null,
            "align_self": null,
            "border": null,
            "bottom": null,
            "display": null,
            "flex": null,
            "flex_flow": "row wrap",
            "grid_area": null,
            "grid_auto_columns": null,
            "grid_auto_flow": null,
            "grid_auto_rows": null,
            "grid_column": null,
            "grid_gap": null,
            "grid_row": null,
            "grid_template_areas": null,
            "grid_template_columns": null,
            "grid_template_rows": null,
            "height": null,
            "justify_content": null,
            "justify_items": null,
            "left": null,
            "margin": null,
            "max_height": null,
            "max_width": null,
            "min_height": null,
            "min_width": null,
            "object_fit": null,
            "object_position": null,
            "order": null,
            "overflow": null,
            "overflow_x": null,
            "overflow_y": null,
            "padding": null,
            "right": null,
            "top": null,
            "visibility": null,
            "width": null
          }
        },
        "484d1072ea164525865ca7d55be59a5b": {
          "model_module": "@jupyter-widgets/base",
          "model_name": "LayoutModel",
          "model_module_version": "1.2.0",
          "state": {
            "_model_module": "@jupyter-widgets/base",
            "_model_module_version": "1.2.0",
            "_model_name": "LayoutModel",
            "_view_count": null,
            "_view_module": "@jupyter-widgets/base",
            "_view_module_version": "1.2.0",
            "_view_name": "LayoutView",
            "align_content": null,
            "align_items": null,
            "align_self": null,
            "border": null,
            "bottom": null,
            "display": null,
            "flex": null,
            "flex_flow": null,
            "grid_area": null,
            "grid_auto_columns": null,
            "grid_auto_flow": null,
            "grid_auto_rows": null,
            "grid_column": null,
            "grid_gap": null,
            "grid_row": null,
            "grid_template_areas": null,
            "grid_template_columns": null,
            "grid_template_rows": null,
            "height": null,
            "justify_content": null,
            "justify_items": null,
            "left": null,
            "margin": null,
            "max_height": null,
            "max_width": null,
            "min_height": null,
            "min_width": null,
            "object_fit": null,
            "object_position": null,
            "order": null,
            "overflow": null,
            "overflow_x": null,
            "overflow_y": null,
            "padding": null,
            "right": null,
            "top": null,
            "visibility": null,
            "width": null
          }
        },
        "5603d0dc72c444d5a9188a94f580bfbf": {
          "model_module": "@jupyter-widgets/base",
          "model_name": "LayoutModel",
          "model_module_version": "1.2.0",
          "state": {
            "_model_module": "@jupyter-widgets/base",
            "_model_module_version": "1.2.0",
            "_model_name": "LayoutModel",
            "_view_count": null,
            "_view_module": "@jupyter-widgets/base",
            "_view_module_version": "1.2.0",
            "_view_name": "LayoutView",
            "align_content": null,
            "align_items": null,
            "align_self": null,
            "border": null,
            "bottom": null,
            "display": null,
            "flex": null,
            "flex_flow": null,
            "grid_area": null,
            "grid_auto_columns": null,
            "grid_auto_flow": null,
            "grid_auto_rows": null,
            "grid_column": null,
            "grid_gap": null,
            "grid_row": null,
            "grid_template_areas": null,
            "grid_template_columns": null,
            "grid_template_rows": null,
            "height": null,
            "justify_content": null,
            "justify_items": null,
            "left": null,
            "margin": null,
            "max_height": null,
            "max_width": null,
            "min_height": null,
            "min_width": null,
            "object_fit": null,
            "object_position": null,
            "order": null,
            "overflow": null,
            "overflow_x": null,
            "overflow_y": null,
            "padding": null,
            "right": null,
            "top": null,
            "visibility": null,
            "width": null
          }
        },
        "e74ab1b521df4164b55c003b8fd81e84": {
          "model_module": "@jupyter-widgets/controls",
          "model_name": "SliderStyleModel",
          "model_module_version": "1.5.0",
          "state": {
            "_model_module": "@jupyter-widgets/controls",
            "_model_module_version": "1.5.0",
            "_model_name": "SliderStyleModel",
            "_view_count": null,
            "_view_module": "@jupyter-widgets/base",
            "_view_module_version": "1.2.0",
            "_view_name": "StyleView",
            "description_width": "",
            "handle_color": null
          }
        },
        "9bb17c5da46547819b20a9db656b6f92": {
          "model_module": "@jupyter-widgets/base",
          "model_name": "LayoutModel",
          "model_module_version": "1.2.0",
          "state": {
            "_model_module": "@jupyter-widgets/base",
            "_model_module_version": "1.2.0",
            "_model_name": "LayoutModel",
            "_view_count": null,
            "_view_module": "@jupyter-widgets/base",
            "_view_module_version": "1.2.0",
            "_view_name": "LayoutView",
            "align_content": null,
            "align_items": null,
            "align_self": null,
            "border": null,
            "bottom": null,
            "display": null,
            "flex": null,
            "flex_flow": null,
            "grid_area": null,
            "grid_auto_columns": null,
            "grid_auto_flow": null,
            "grid_auto_rows": null,
            "grid_column": null,
            "grid_gap": null,
            "grid_row": null,
            "grid_template_areas": null,
            "grid_template_columns": null,
            "grid_template_rows": null,
            "height": null,
            "justify_content": null,
            "justify_items": null,
            "left": null,
            "margin": null,
            "max_height": null,
            "max_width": null,
            "min_height": null,
            "min_width": null,
            "object_fit": null,
            "object_position": null,
            "order": null,
            "overflow": null,
            "overflow_x": null,
            "overflow_y": null,
            "padding": null,
            "right": null,
            "top": null,
            "visibility": null,
            "width": null
          }
        },
        "884b70eb34934193ad127ce715f7275a": {
          "model_module": "@jupyter-widgets/controls",
          "model_name": "SliderStyleModel",
          "model_module_version": "1.5.0",
          "state": {
            "_model_module": "@jupyter-widgets/controls",
            "_model_module_version": "1.5.0",
            "_model_name": "SliderStyleModel",
            "_view_count": null,
            "_view_module": "@jupyter-widgets/base",
            "_view_module_version": "1.2.0",
            "_view_name": "StyleView",
            "description_width": "",
            "handle_color": null
          }
        },
        "f8e38b1e149849fd8229d9afbaceee8d": {
          "model_module": "@jupyter-widgets/base",
          "model_name": "LayoutModel",
          "model_module_version": "1.2.0",
          "state": {
            "_model_module": "@jupyter-widgets/base",
            "_model_module_version": "1.2.0",
            "_model_name": "LayoutModel",
            "_view_count": null,
            "_view_module": "@jupyter-widgets/base",
            "_view_module_version": "1.2.0",
            "_view_name": "LayoutView",
            "align_content": null,
            "align_items": null,
            "align_self": null,
            "border": null,
            "bottom": null,
            "display": null,
            "flex": null,
            "flex_flow": null,
            "grid_area": null,
            "grid_auto_columns": null,
            "grid_auto_flow": null,
            "grid_auto_rows": null,
            "grid_column": null,
            "grid_gap": null,
            "grid_row": null,
            "grid_template_areas": null,
            "grid_template_columns": null,
            "grid_template_rows": null,
            "height": null,
            "justify_content": null,
            "justify_items": null,
            "left": null,
            "margin": null,
            "max_height": null,
            "max_width": null,
            "min_height": null,
            "min_width": null,
            "object_fit": null,
            "object_position": null,
            "order": null,
            "overflow": null,
            "overflow_x": null,
            "overflow_y": null,
            "padding": null,
            "right": null,
            "top": null,
            "visibility": null,
            "width": null
          }
        },
        "d4ccc5612aab4ee5bfdf57bc39b93dfe": {
          "model_module": "@jupyter-widgets/controls",
          "model_name": "SliderStyleModel",
          "model_module_version": "1.5.0",
          "state": {
            "_model_module": "@jupyter-widgets/controls",
            "_model_module_version": "1.5.0",
            "_model_name": "SliderStyleModel",
            "_view_count": null,
            "_view_module": "@jupyter-widgets/base",
            "_view_module_version": "1.2.0",
            "_view_name": "StyleView",
            "description_width": "",
            "handle_color": null
          }
        },
        "4e1c03a7c26c4f8ca08ea22d8ae16b6d": {
          "model_module": "@jupyter-widgets/base",
          "model_name": "LayoutModel",
          "model_module_version": "1.2.0",
          "state": {
            "_model_module": "@jupyter-widgets/base",
            "_model_module_version": "1.2.0",
            "_model_name": "LayoutModel",
            "_view_count": null,
            "_view_module": "@jupyter-widgets/base",
            "_view_module_version": "1.2.0",
            "_view_name": "LayoutView",
            "align_content": null,
            "align_items": null,
            "align_self": null,
            "border": null,
            "bottom": null,
            "display": null,
            "flex": null,
            "flex_flow": null,
            "grid_area": null,
            "grid_auto_columns": null,
            "grid_auto_flow": null,
            "grid_auto_rows": null,
            "grid_column": null,
            "grid_gap": null,
            "grid_row": null,
            "grid_template_areas": null,
            "grid_template_columns": null,
            "grid_template_rows": null,
            "height": null,
            "justify_content": null,
            "justify_items": null,
            "left": null,
            "margin": null,
            "max_height": null,
            "max_width": null,
            "min_height": null,
            "min_width": null,
            "object_fit": null,
            "object_position": null,
            "order": null,
            "overflow": null,
            "overflow_x": null,
            "overflow_y": null,
            "padding": null,
            "right": null,
            "top": null,
            "visibility": null,
            "width": null
          }
        },
        "5c21f4119b004c288324f0490b172a4f": {
          "model_module": "@jupyter-widgets/controls",
          "model_name": "SliderStyleModel",
          "model_module_version": "1.5.0",
          "state": {
            "_model_module": "@jupyter-widgets/controls",
            "_model_module_version": "1.5.0",
            "_model_name": "SliderStyleModel",
            "_view_count": null,
            "_view_module": "@jupyter-widgets/base",
            "_view_module_version": "1.2.0",
            "_view_name": "StyleView",
            "description_width": "",
            "handle_color": null
          }
        },
        "9d69b5f646ad4415b3564e189933d3e2": {
          "model_module": "@jupyter-widgets/base",
          "model_name": "LayoutModel",
          "model_module_version": "1.2.0",
          "state": {
            "_model_module": "@jupyter-widgets/base",
            "_model_module_version": "1.2.0",
            "_model_name": "LayoutModel",
            "_view_count": null,
            "_view_module": "@jupyter-widgets/base",
            "_view_module_version": "1.2.0",
            "_view_name": "LayoutView",
            "align_content": null,
            "align_items": null,
            "align_self": null,
            "border": null,
            "bottom": null,
            "display": null,
            "flex": null,
            "flex_flow": null,
            "grid_area": null,
            "grid_auto_columns": null,
            "grid_auto_flow": null,
            "grid_auto_rows": null,
            "grid_column": null,
            "grid_gap": null,
            "grid_row": null,
            "grid_template_areas": null,
            "grid_template_columns": null,
            "grid_template_rows": null,
            "height": null,
            "justify_content": null,
            "justify_items": null,
            "left": null,
            "margin": null,
            "max_height": null,
            "max_width": null,
            "min_height": null,
            "min_width": null,
            "object_fit": null,
            "object_position": null,
            "order": null,
            "overflow": null,
            "overflow_x": null,
            "overflow_y": null,
            "padding": null,
            "right": null,
            "top": null,
            "visibility": null,
            "width": null
          }
        },
        "272231cb90264e79ba116a9b36dd70dd": {
          "model_module": "@jupyter-widgets/controls",
          "model_name": "SliderStyleModel",
          "model_module_version": "1.5.0",
          "state": {
            "_model_module": "@jupyter-widgets/controls",
            "_model_module_version": "1.5.0",
            "_model_name": "SliderStyleModel",
            "_view_count": null,
            "_view_module": "@jupyter-widgets/base",
            "_view_module_version": "1.2.0",
            "_view_name": "StyleView",
            "description_width": "",
            "handle_color": null
          }
        },
        "f2476426078f4782b17931b4ca03b4ae": {
          "model_module": "@jupyter-widgets/base",
          "model_name": "LayoutModel",
          "model_module_version": "1.2.0",
          "state": {
            "_model_module": "@jupyter-widgets/base",
            "_model_module_version": "1.2.0",
            "_model_name": "LayoutModel",
            "_view_count": null,
            "_view_module": "@jupyter-widgets/base",
            "_view_module_version": "1.2.0",
            "_view_name": "LayoutView",
            "align_content": null,
            "align_items": null,
            "align_self": null,
            "border": null,
            "bottom": null,
            "display": null,
            "flex": null,
            "flex_flow": null,
            "grid_area": null,
            "grid_auto_columns": null,
            "grid_auto_flow": null,
            "grid_auto_rows": null,
            "grid_column": null,
            "grid_gap": null,
            "grid_row": null,
            "grid_template_areas": null,
            "grid_template_columns": null,
            "grid_template_rows": null,
            "height": null,
            "justify_content": null,
            "justify_items": null,
            "left": null,
            "margin": null,
            "max_height": null,
            "max_width": null,
            "min_height": null,
            "min_width": null,
            "object_fit": null,
            "object_position": null,
            "order": null,
            "overflow": null,
            "overflow_x": null,
            "overflow_y": null,
            "padding": null,
            "right": null,
            "top": null,
            "visibility": null,
            "width": null
          }
        },
        "5aa365db22e5483ebc2c3d4db12a1b45": {
          "model_module": "@jupyter-widgets/controls",
          "model_name": "SliderStyleModel",
          "model_module_version": "1.5.0",
          "state": {
            "_model_module": "@jupyter-widgets/controls",
            "_model_module_version": "1.5.0",
            "_model_name": "SliderStyleModel",
            "_view_count": null,
            "_view_module": "@jupyter-widgets/base",
            "_view_module_version": "1.2.0",
            "_view_name": "StyleView",
            "description_width": "",
            "handle_color": null
          }
        }
      }
    }
  },
  "cells": [
    {
      "cell_type": "markdown",
      "metadata": {
        "id": "view-in-github",
        "colab_type": "text"
      },
      "source": [
        "<a href=\"https://colab.research.google.com/github/duberii/pid-playground/blob/main/activities/Drift_Chambers.ipynb\" target=\"_parent\"><img src=\"https://colab.research.google.com/assets/colab-badge.svg\" alt=\"Open In Colab\"/></a>"
      ]
    },
    {
      "cell_type": "markdown",
      "source": [
        "# **Drift Chambers and Tracks**\n",
        "---\n",
        "Welcome to Particle Identification Playground! In this activity, you will get a brief introduction to drift chambers and tracks.\n",
        "\n",
        "**Before attempting this notebook, complete all of the activities in the Getting Started section.**\n",
        "\n",
        "**After completing this notebook, you will be able to:**\n",
        "*   Describe the role of drift chambers in a particle detector\n",
        "*   Define tracks and hits\n",
        "*   Identify which particles leave tracks\n",
        "*   Use individual hits to determine the position of a track\n",
        "*   Find the momentum and charge of a particle based on the curvature of a track"
      ],
      "metadata": {
        "id": "c121h0MmoXoe"
      }
    },
    {
      "cell_type": "code",
      "source": [
        "#@title Run this cell before starting\n",
        "from IPython.display import YouTubeVideo\n",
        "import plotly.express as pxp\n",
        "import pandas as pd\n",
        "import numpy as np\n",
        "import ipywidgets as widgets\n",
        "import plotly\n",
        "from ipywidgets import interact, interactive, fixed, interact_manual, widgets, HBox, VBox, Layout\n",
        "import plotly.graph_objects as go\n",
        "import matplotlib.pyplot as plt\n",
        "from google.colab import output\n",
        "import xml.etree.ElementTree as ET\n",
        "output.enable_custom_widget_manager()\n",
        "!wget -q https://github.com/JeffersonLab/hdds/raw/master/CentralDC_HDDS.xml\n",
        "!wget -q https://github.com/duberii/pid-playground/raw/main/data/CDChits.hdf5\n",
        "track_fitting_events = pd.read_hdf(\"CDChits.hdf5\",\"event1\")\n",
        "B = 1.7\n",
        "ar = []\n",
        "def to_center_of_orbit(r, theta, centerx,centery):\n",
        "  tempx = r*np.cos(theta)\n",
        "  tempy = r * np.sin(theta)\n",
        "  new_r = ((tempx-centerx)**2+ (tempy-centery)**2)**0.5\n",
        "  return new_r\n",
        "def to_beam_axis(r, theta, centerx, centery):\n",
        "  new_x = r* np.cos(theta) - centerx\n",
        "  new_y = r* np.sin(theta) - centery\n",
        "  new_r = (new_x**2 + new_y**2)**0.5\n",
        "  new_theta = np.arctan2(new_y,new_x)\n",
        "  return new_r, new_theta\n",
        "def polar_coords(xs, ys):\n",
        "  rs = (xs**2 + ys**2)**0.5\n",
        "  thetas = np.arctan2(ys,xs)\n",
        "  return rs, thetas\n",
        "def x_coord(r_curvature, theta_curvature,center_x, t,q):\n",
        "  return r_curvature*np.cos(theta_curvature+q*t) + center_x\n",
        "def y_coord(r_curvature,theta_curvature,center_y, t,q):\n",
        "  return r_curvature*np.sin(theta_curvature+q*t)+ center_y\n",
        "def degrees_to_radians(degrees):\n",
        "  return degrees*np.pi/180\n",
        "tree =ET.parse(\"CentralDC_HDDS.xml\")\n",
        "root = tree.getroot()\n",
        "n_wires_per_ring = [0]\n",
        "wire_to_ring = [0]\n",
        "positionsMatrix = []\n",
        "ar = []\n",
        "\n",
        "for tag in [j for j in root.findall(\"composition\") if j.get(\"name\")==\"CDClayers\"][0]:\n",
        "  if tag.tag == \"mposPhi\":\n",
        "    positionsMatrix.append([])\n",
        "    n_wires_per_ring.append(int(tag.get('ncopy')))\n",
        "    R_Z = float(tag.get(\"R_Z\").split()[0])\n",
        "    Phi0 = degrees_to_radians(float(tag.get(\"Phi0\")))\n",
        "    if tag.get(\"volume\") == 'CDCstrawShort':\n",
        "      dPhi = degrees_to_radians(float(tag.get(\"dPhi\")))\n",
        "      for i in range(int(tag.get(\"ncopy\"))):\n",
        "        ar.append({'pos':[[R_Z*np.cos(Phi0+i*dPhi),R_Z*np.sin(Phi0+i*dPhi),0],[R_Z*np.cos(Phi0+i*dPhi),R_Z*np.sin(Phi0+i*dPhi),150]],'ring':int(tag.find(\"ring\").get(\"value\")),'straw':i+1})\n",
        "        positionsMatrix[-1].append(ar[-1]['pos'])\n",
        "    if tag.get(\"volume\") == 'CDCstrawLong':\n",
        "      n_wires_per_ring.append(int(tag.get('ncopy')))\n",
        "      dPhi = 2*np.pi/int(tag.get(\"ncopy\"))\n",
        "      rot = degrees_to_radians(float(tag.get('rot').split()[0]))\n",
        "      for i in range(int(tag.get(\"ncopy\"))):\n",
        "        ar.append({'pos':[[R_Z*np.cos(Phi0+i*dPhi)+75*np.tan(rot)*np.sin(Phi0+i*dPhi),R_Z*np.sin(Phi0+i*dPhi)-75*np.tan(rot)*np.cos(Phi0+i*dPhi),0],[R_Z*np.cos(Phi0+i*dPhi)-75*np.tan(rot)*np.sin(Phi0+i*dPhi),R_Z*np.sin(Phi0+i*dPhi)+75*np.tan(rot)*np.cos(Phi0+i*dPhi),150]],'ring':int(tag.find(\"ring\").get(\"value\")),'straw':i+1})\n",
        "        positionsMatrix[-1].append(ar[-1]['pos'])\n",
        "wire_positions_df = pd.DataFrame.from_records(ar)"
      ],
      "metadata": {
        "id": "_1LEQqSP7Khd",
        "cellView": "form"
      },
      "execution_count": 114,
      "outputs": []
    },
    {
      "cell_type": "markdown",
      "source": [
        "---\n",
        "##**Tracking Detectors**\n",
        "---\n",
        "**Silicon Trackers** and **Drift Chambers** are the two most common detectors that are able to measure momentum. Both of these detectors use the fact that charged particles can ionize atoms, . In this activity, we will explore drift chambers.\n",
        "\n",
        "The most important concept for momentum detectors is the idea of a **track**. A track is the path left as a charged particle passes through a momentum detector. When we observe a track in a detector, we know that there must be some particle that left that track, and our goal is to use information from the various detectors to identify the properties of that particle.\n",
        "\n",
        "Any detector that relies on the production of tracks is called a **Tracking Detector**."
      ],
      "metadata": {
        "id": "P7AK2ICKUAK6"
      }
    },
    {
      "cell_type": "code",
      "source": [
        "# @title\n",
        "YouTubeVideo(width = 560, height = 315, id=\"i15ef618DP0\")"
      ],
      "metadata": {
        "colab": {
          "base_uri": "https://localhost:8080/",
          "height": 337
        },
        "cellView": "form",
        "id": "3m1nN-qBjiUD",
        "outputId": "3f6adbe8-ab1e-4ed2-97be-16d82a3c4364"
      },
      "execution_count": null,
      "outputs": [
        {
          "output_type": "execute_result",
          "data": {
            "text/plain": [
              "<IPython.lib.display.YouTubeVideo at 0x78aa6997f850>"
            ],
            "text/html": [
              "\n",
              "        <iframe\n",
              "            width=\"560\"\n",
              "            height=\"315\"\n",
              "            src=\"https://www.youtube.com/embed/i15ef618DP0\"\n",
              "            frameborder=\"0\"\n",
              "            allowfullscreen\n",
              "            \n",
              "        ></iframe>\n",
              "        "
            ],
            "image/jpeg": "[encoded data removed]"
          },
          "metadata": {},
          "execution_count": 2
        }
      ]
    },
    {
      "cell_type": "markdown",
      "source": [
        "This video is a recording of one of the first types of tracking detectors called a **cloud chamber**. Each of those puffs of smoke is a track left by a charged particle passing through the detector. This type of detector was the inspiration for the background of the [PID Playground homepage](https://duberii.github.io/pid-playground)!\n"
      ],
      "metadata": {
        "id": "BZmgZxMFHx-h"
      }
    },
    {
      "cell_type": "markdown",
      "source": [
        "---\n",
        "##**Drift Chambers**\n",
        "---\n",
        "Drift Chambers (as well as cloud chambers and silicon trackers) at their core are just boxes of gas with a grid of wires in them. These wires are extremely close to each other, often to the point where it looks like they touch (even though they do not). The GlueX detector uses a slightly modified detector called a **Straw Chamber**, which has a slightly different layout, with positively charged wires inside negatively charged tubes."
      ],
      "metadata": {
        "id": "1kuztL0OgRkX"
      }
    },
    {
      "cell_type": "markdown",
      "source": [
        "<img width=\"512\" alt=\"An image of a small piece of a drift chamber\" src=\"https://upload.wikimedia.org/wikipedia/commons/thumb/6/60/Chambre-a-derive-IMG_0524.jpg/512px-Chambre-a-derive-IMG_0524.jpg\"><br>\n",
        "<a href=\"https://commons.wikimedia.org/wiki/File:Chambre-a-derive-IMG_0524.jpg\">Rama</a>, <a href=\"https://creativecommons.org/licenses/by-sa/2.0/fr/deed.en\">CC BY-SA 2.0 FR</a>, via Wikimedia Commons"
      ],
      "metadata": {
        "id": "vNL_K7psneJt"
      }
    },
    {
      "cell_type": "markdown",
      "source": [
        "The image show above is a cross section of a drift chamber. You may notice that it seems like the wires in the drift chamber touch, but they actually don't! The reason that these wires are so close together is to ensure that our measurements of the position of the track are as precise as possible.\n",
        "\n",
        "As a charged particle passes through the gas of the dirft chamber, it knocks electrons off the atoms in the gas. The wires in a drift chamber are positively charged, so these electrons are attracted to the nearest wire. Once the electrons reach the wire, they will produce a small pulse of current in the wire, which can be detected. Each of these pulses of current are called a **hit**, and we can use the path traced out by these hits to determine the shape of the track.\n",
        "\n",
        "---"
      ],
      "metadata": {
        "id": "IEWpUeC1oqS5"
      }
    },
    {
      "cell_type": "markdown",
      "source": [
        "####**Question #1:**\n",
        "---\n",
        "Which of the following particles would leave a track in a drift chamber?\n",
        "\n",
        "\n",
        "*   Photon\n",
        "*   Muon\n",
        "*   Neutron\n",
        "*   Neutrino\n",
        "*   Gluon\n",
        "*   Positive pion\n",
        "*   Neutral Kaon\n",
        "*   W boson\n"
      ],
      "metadata": {
        "id": "Nw2lfeLNQXVm"
      }
    },
    {
      "cell_type": "markdown",
      "source": [
        "Double click to edit this cell and answer the following question: Which of the following particles would leave a track in a drift chamber?"
      ],
      "metadata": {
        "id": "cmSVsKaSrq5X"
      }
    },
    {
      "cell_type": "markdown",
      "source": [
        "#####**Solution:**"
      ],
      "metadata": {
        "id": "9iwBnEgGQeBD"
      }
    },
    {
      "cell_type": "markdown",
      "source": [
        "Any charged particle would leave a track in a cloud chamber. There particles include:\n",
        "*   Muons\n",
        "*   Positive pions\n",
        "*   W bosons\n",
        "\n",
        "The remaining particles are neutral, and would not leave a track in the drift chamber."
      ],
      "metadata": {
        "id": "FkAVNc0_Qg46"
      }
    },
    {
      "cell_type": "markdown",
      "source": [
        "####**Question #2:**\n",
        "---\n",
        "In most particle detectors, particles must pass through a drift chamber (or another tracking detector) to reach other detectors. If we detect a particle in one of the other detectors, but don't see any track in the drift chamber, what could we say about the charge of the particle we detected?"
      ],
      "metadata": {
        "id": "9lVBhsmTUZ4D"
      }
    },
    {
      "cell_type": "markdown",
      "source": [
        "Double click to edit this cell and answer the following question: If we detect a particle in one of the other detectors, but don't see any track in the drift chamber, what could we say about the charge of the particle we detected?"
      ],
      "metadata": {
        "id": "5fTxZz04UZ4W"
      }
    },
    {
      "cell_type": "markdown",
      "source": [
        "#####**Solution:**"
      ],
      "metadata": {
        "id": "O3Op721ZUZ4W"
      }
    },
    {
      "cell_type": "markdown",
      "source": [
        "The particle we detected must have passed through a drift chamber. If it were charged, it would have left a track in the dirft chamber, which we would have been able to detect. Because we didn't see any tracks, the particle must have been neutral."
      ],
      "metadata": {
        "id": "9WytjAXfUZ4X"
      }
    },
    {
      "cell_type": "markdown",
      "source": [
        "---\n",
        "### **Detecting Tracks**\n",
        "---\n",
        "\n",
        "We can determine the position of a track based on the location of the wire it left a signal in. For example, in the GlueX detector, the wires are arranged in rings around the center of the detector. Based on which ring we see a signal in, we can determine the radial coordinate of the hit. A **hit** is an interaction between a particle and the drift chamber, which is detected as a pulse of electricity in one wire (or possibly several wires) in the drift chamber. Based on which wire in that ring has the biggest current pulse, we can determine the angular coordinate of the hit. If you are not familiar with polar coordinates, it will be useful to read about them here: [Click here to read about polar coordinates](https://mathinsight.org/polar_coordinates).\n",
        "\n",
        "The interactive figure below can be adjusted to plot up to three layers of the wires in GlueX's central drift chamber. Setting a slider to 0 hides that ring, which allows you to plot fewer than three rings at a time. Be sure to run the cell after you change the sliders."
      ],
      "metadata": {
        "id": "zFMMblk4qSjd"
      }
    },
    {
      "cell_type": "code",
      "source": [
        "Ring_1 = 4 # @param {type:\"slider\", min:0, max:28, step:1}\n",
        "Ring_2 = 5 # @param {type:\"slider\", min:0, max:28, step:1}\n",
        "Ring_3 = 6 # @param {type:\"slider\", min:0, max:28, step:1}\n",
        "xs = []\n",
        "ys = []\n",
        "zs = []\n",
        "ring_wires = []\n",
        "rings = []\n",
        "for i in wire_positions_df.iloc:\n",
        "  if i['ring'] in [Ring_1,Ring_2,Ring_3]:\n",
        "    xs.append(i['pos'][0][0]);\n",
        "    xs.append(i['pos'][1][0]);\n",
        "    ys.append(i['pos'][0][1]);\n",
        "    ys.append(i['pos'][1][1]);\n",
        "    zs.append(i['pos'][0][2]);\n",
        "    zs.append(i['pos'][1][2]);\n",
        "    ring_wires.append(\"Ring: \"+ str(i['ring']) + \" Wire: \" + str(i['straw']))\n",
        "    ring_wires.append(\"Ring: \"+ str(i['ring']) + \" Wire: \" + str(i['straw']))\n",
        "    rings.append(i['ring'])\n",
        "    rings.append(i['ring'])\n",
        "data_to_plot = pd.DataFrame()\n",
        "data_to_plot['x'] = xs\n",
        "data_to_plot['y'] = ys\n",
        "data_to_plot['z'] = zs\n",
        "data_to_plot['Ring and Wire']=ring_wires\n",
        "data_to_plot['ring']=rings\n",
        "fig = pxp.line_3d(data_frame=data_to_plot,x='x',y='z',z='y',line_group='Ring and Wire',color='ring')\n",
        "fig.update_traces(line=dict(width=5))\n",
        "fig.update_layout(title=\"Rings of the GlueX Central Drift Chamber\",legend_title=\"Ring Number\",scene={'aspectmode':'cube','xaxis':{'range':[-60,60],\"title\":\"X\"},'yaxis':{'range':[0,175],\"title\":\"Z\"},'zaxis':{'range':[-60,60],'title':'Y'}})\n",
        "fig.show()\n"
      ],
      "metadata": {
        "colab": {
          "base_uri": "https://localhost:8080/",
          "height": 542
        },
        "id": "_mfvMeyDLsF-",
        "outputId": "aac11c4d-a0ee-4265-e0e2-0ebcd351c238",
        "cellView": "form"
      },
      "execution_count": 2,
      "outputs": [
        {
          "output_type": "display_data",
          "data": {
            "text/html": [
              "<html>\n",
              "<head><meta charset=\"utf-8\" /></head>\n",
              "<body>\n",
              "    <div>            <script src=\"https://cdnjs.cloudflare.com/ajax/libs/mathjax/2.7.5/MathJax.js?config=TeX-AMS-MML_SVG\"></script><script type=\"text/javascript\">if (window.MathJax && window.MathJax.Hub && window.MathJax.Hub.Config) {window.MathJax.Hub.Config({SVG: {font: \"STIX-Web\"}});}</script>                <script type=\"text/javascript\">window.PlotlyConfig = {MathJaxConfig: 'local'};</script>\n",
              "        <script charset=\"utf-8\" src=\"https://cdn.plot.ly/plotly-2.24.1.min.js\"></script>                <div id=\"d3da83e9-06bc-43c7-935a-a0611c99f951\" class=\"plotly-graph-div\" style=\"height:525px; width:100%;\"></div>            <script type=\"text/javascript\">                                    window.PLOTLYENV=window.PLOTLYENV || {};                                    if (document.getElementById(\"d3da83e9-06bc-43c7-935a-a0611c99f951\")) {                    Plotly.newPlot(                        \"d3da83e9-06bc-43c7-935a-a0611c99f951\",                        [{\"hovertemplate\":\"ring=4\\u003cbr\\u003eRing and Wire=Ring: 4 Wire: 1\\u003cbr\\u003ex=%{x}\\u003cbr\\u003ez=%{y}\\u003cbr\\u003ey=%{z}\\u003cextra\\u003e\\u003c\\u002fextra\\u003e\",\"legendgroup\":\"4\",\"line\":{\"color\":\"#636efa\",\"dash\":\"solid\",\"width\":5},\"marker\":{\"symbol\":\"circle\"},\"mode\":\"lines\",\"name\":\"4\",\"scene\":\"scene\",\"showlegend\":true,\"x\":[15.074704446570042,15.074704446570042],\"y\":[0,150],\"z\":[1.4554218936656849,1.4554218936656849],\"type\":\"scatter3d\"},{\"hovertemplate\":\"ring=4\\u003cbr\\u003eRing and Wire=Ring: 4 Wire: 2\\u003cbr\\u003ex=%{x}\\u003cbr\\u003ez=%{y}\\u003cbr\\u003ey=%{z}\\u003cextra\\u003e\\u003c\\u002fextra\\u003e\",\"legendgroup\":\"4\",\"line\":{\"color\":\"#636efa\",\"dash\":\"solid\",\"width\":5},\"marker\":{\"symbol\":\"circle\"},\"mode\":\"lines\",\"name\":\"4\",\"scene\":\"scene\",\"showlegend\":false,\"x\":[14.803810517179931,14.803810517179931],\"y\":[0,150],\"z\":[3.1956472288775637,3.1956472288775637],\"type\":\"scatter3d\"},{\"hovertemplate\":\"ring=4\\u003cbr\\u003eRing and Wire=Ring: 4 Wire: 3\\u003cbr\\u003ex=%{x}\\u003cbr\\u003ez=%{y}\\u003cbr\\u003ey=%{z}\\u003cextra\\u003e\\u003c\\u002fextra\\u003e\",\"legendgroup\":\"4\",\"line\":{\"color\":\"#636efa\",\"dash\":\"solid\",\"width\":5},\"marker\":{\"symbol\":\"circle\"},\"mode\":\"lines\",\"name\":\"4\",\"scene\":\"scene\",\"showlegend\":false,\"x\":[14.332720444243654,14.332720444243654],\"y\":[0,150],\"z\":[4.892656916968531,4.892656916968531],\"type\":\"scatter3d\"},{\"hovertemplate\":\"ring=4\\u003cbr\\u003eRing and Wire=Ring: 4 Wire: 4\\u003cbr\\u003ex=%{x}\\u003cbr\\u003ez=%{y}\\u003cbr\\u003ey=%{z}\\u003cextra\\u003e\\u003c\\u002fextra\\u003e\",\"legendgroup\":\"4\",\"line\":{\"color\":\"#636efa\",\"dash\":\"solid\",\"width\":5},\"marker\":{\"symbol\":\"circle\"},\"mode\":\"lines\",\"name\":\"4\",\"scene\":\"scene\",\"showlegend\":false,\"x\":[13.667804912913876,13.667804912913876],\"y\":[0,150],\"z\":[6.523501812870699,6.523501812870699],\"type\":\"scatter3d\"},{\"hovertemplate\":\"ring=4\\u003cbr\\u003eRing and Wire=Ring: 4 Wire: 5\\u003cbr\\u003ex=%{x}\\u003cbr\\u003ez=%{y}\\u003cbr\\u003ey=%{z}\\u003cextra\\u003e\\u003c\\u002fextra\\u003e\",\"legendgroup\":\"4\",\"line\":{\"color\":\"#636efa\",\"dash\":\"solid\",\"width\":5},\"marker\":{\"symbol\":\"circle\"},\"mode\":\"lines\",\"name\":\"4\",\"scene\":\"scene\",\"showlegend\":false,\"x\":[12.818055765189774,12.818055765189774],\"y\":[0,150],\"z\":[8.066127536834834,8.066127536834834],\"type\":\"scatter3d\"},{\"hovertemplate\":\"ring=4\\u003cbr\\u003eRing and Wire=Ring: 4 Wire: 6\\u003cbr\\u003ex=%{x}\\u003cbr\\u003ez=%{y}\\u003cbr\\u003ey=%{z}\\u003cextra\\u003e\\u003c\\u002fextra\\u003e\",\"legendgroup\":\"4\",\"line\":{\"color\":\"#636efa\",\"dash\":\"solid\",\"width\":5},\"marker\":{\"symbol\":\"circle\"},\"mode\":\"lines\",\"name\":\"4\",\"scene\":\"scene\",\"showlegend\":false,\"x\":[11.79496440067813,11.79496440067813],\"y\":[0,150],\"z\":[9.499672722085515,9.499672722085515],\"type\":\"scatter3d\"},{\"hovertemplate\":\"ring=4\\u003cbr\\u003eRing and Wire=Ring: 4 Wire: 7\\u003cbr\\u003ex=%{x}\\u003cbr\\u003ez=%{y}\\u003cbr\\u003ey=%{z}\\u003cextra\\u003e\\u003c\\u002fextra\\u003e\",\"legendgroup\":\"4\",\"line\":{\"color\":\"#636efa\",\"dash\":\"solid\",\"width\":5},\"marker\":{\"symbol\":\"circle\"},\"mode\":\"lines\",\"name\":\"4\",\"scene\":\"scene\",\"showlegend\":false,\"x\":[10.612366375125411,10.612366375125411],\"y\":[0,150],\"z\":[10.80475112902225,10.80475112902225],\"type\":\"scatter3d\"},{\"hovertemplate\":\"ring=4\\u003cbr\\u003eRing and Wire=Ring: 4 Wire: 8\\u003cbr\\u003ex=%{x}\\u003cbr\\u003ez=%{y}\\u003cbr\\u003ey=%{z}\\u003cextra\\u003e\\u003c\\u002fextra\\u003e\",\"legendgroup\":\"4\",\"line\":{\"color\":\"#636efa\",\"dash\":\"solid\",\"width\":5},\"marker\":{\"symbol\":\"circle\"},\"mode\":\"lines\",\"name\":\"4\",\"scene\":\"scene\",\"showlegend\":false,\"x\":[9.286254298259108,9.286254298259108],\"y\":[0,150],\"z\":[11.963713810855902,11.963713810855902],\"type\":\"scatter3d\"},{\"hovertemplate\":\"ring=4\\u003cbr\\u003eRing and Wire=Ring: 4 Wire: 9\\u003cbr\\u003ex=%{x}\\u003cbr\\u003ez=%{y}\\u003cbr\\u003ey=%{z}\\u003cextra\\u003e\\u003c\\u002fextra\\u003e\",\"legendgroup\":\"4\",\"line\":{\"color\":\"#636efa\",\"dash\":\"solid\",\"width\":5},\"marker\":{\"symbol\":\"circle\"},\"mode\":\"lines\",\"name\":\"4\",\"scene\":\"scene\",\"showlegend\":false,\"x\":[7.834561561174072,7.834561561174072],\"y\":[0,150],\"z\":[12.960887785339926,12.960887785339926],\"type\":\"scatter3d\"},{\"hovertemplate\":\"ring=4\\u003cbr\\u003eRing and Wire=Ring: 4 Wire: 10\\u003cbr\\u003ex=%{x}\\u003cbr\\u003ez=%{y}\\u003cbr\\u003ey=%{z}\\u003cextra\\u003e\\u003c\\u002fextra\\u003e\",\"legendgroup\":\"4\",\"line\":{\"color\":\"#636efa\",\"dash\":\"solid\",\"width\":5},\"marker\":{\"symbol\":\"circle\"},\"mode\":\"lines\",\"name\":\"4\",\"scene\":\"scene\",\"showlegend\":false,\"x\":[6.276919817979971,6.276919817979971],\"y\":[0,150],\"z\":[13.782787984970613,13.782787984970613],\"type\":\"scatter3d\"},{\"hovertemplate\":\"ring=4\\u003cbr\\u003eRing and Wire=Ring: 4 Wire: 11\\u003cbr\\u003ex=%{x}\\u003cbr\\u003ez=%{y}\\u003cbr\\u003ey=%{z}\\u003cextra\\u003e\\u003c\\u002fextra\\u003e\",\"legendgroup\":\"4\",\"line\":{\"color\":\"#636efa\",\"dash\":\"solid\",\"width\":5},\"marker\":{\"symbol\":\"circle\"},\"mode\":\"lines\",\"name\":\"4\",\"scene\":\"scene\",\"showlegend\":false,\"x\":[4.634393501354607,4.634393501354607],\"y\":[0,150],\"z\":[14.41829961939348,14.41829961939348],\"type\":\"scatter3d\"},{\"hovertemplate\":\"ring=4\\u003cbr\\u003eRing and Wire=Ring: 4 Wire: 12\\u003cbr\\u003ex=%{x}\\u003cbr\\u003ez=%{y}\\u003cbr\\u003ey=%{z}\\u003cextra\\u003e\\u003c\\u002fextra\\u003e\",\"legendgroup\":\"4\",\"line\":{\"color\":\"#636efa\",\"dash\":\"solid\",\"width\":5},\"marker\":{\"symbol\":\"circle\"},\"mode\":\"lines\",\"name\":\"4\",\"scene\":\"scene\",\"showlegend\":false,\"x\":[2.9291949622247797,2.9291949622247797],\"y\":[0,150],\"z\":[14.858828483877085,14.858828483877085],\"type\":\"scatter3d\"},{\"hovertemplate\":\"ring=4\\u003cbr\\u003eRing and Wire=Ring: 4 Wire: 13\\u003cbr\\u003ex=%{x}\\u003cbr\\u003ez=%{y}\\u003cbr\\u003ey=%{z}\\u003cextra\\u003e\\u003c\\u002fextra\\u003e\",\"legendgroup\":\"4\",\"line\":{\"color\":\"#636efa\",\"dash\":\"solid\",\"width\":5},\"marker\":{\"symbol\":\"circle\"},\"mode\":\"lines\",\"name\":\"4\",\"scene\":\"scene\",\"showlegend\":false,\"x\":[1.184384085821943,1.184384085821943],\"y\":[0,150],\"z\":[15.098417181189944,15.098417181189944],\"type\":\"scatter3d\"},{\"hovertemplate\":\"ring=4\\u003cbr\\u003eRing and Wire=Ring: 4 Wire: 14\\u003cbr\\u003ex=%{x}\\u003cbr\\u003ez=%{y}\\u003cbr\\u003ey=%{z}\\u003cextra\\u003e\\u003c\\u002fextra\\u003e\",\"legendgroup\":\"4\",\"line\":{\"color\":\"#636efa\",\"dash\":\"solid\",\"width\":5},\"marker\":{\"symbol\":\"circle\"},\"mode\":\"lines\",\"name\":\"4\",\"scene\":\"scene\",\"showlegend\":false,\"x\":[-0.5764435537098088,-0.5764435537098088],\"y\":[0,150],\"z\":[15.133825685179092,15.133825685179092],\"type\":\"scatter3d\"},{\"hovertemplate\":\"ring=4\\u003cbr\\u003eRing and Wire=Ring: 4 Wire: 15\\u003cbr\\u003ex=%{x}\\u003cbr\\u003ez=%{y}\\u003cbr\\u003ey=%{z}\\u003cextra\\u003e\\u003c\\u002fextra\\u003e\",\"legendgroup\":\"4\",\"line\":{\"color\":\"#636efa\",\"dash\":\"solid\",\"width\":5},\"marker\":{\"symbol\":\"circle\"},\"mode\":\"lines\",\"name\":\"4\",\"scene\":\"scene\",\"showlegend\":false,\"x\":[-2.329475782979397,-2.329475782979397],\"y\":[0,150],\"z\":[14.964575156566006,14.964575156566006],\"type\":\"scatter3d\"},{\"hovertemplate\":\"ring=4\\u003cbr\\u003eRing and Wire=Ring: 4 Wire: 16\\u003cbr\\u003ex=%{x}\\u003cbr\\u003ez=%{y}\\u003cbr\\u003ey=%{z}\\u003cextra\\u003e\\u003c\\u002fextra\\u003e\",\"legendgroup\":\"4\",\"line\":{\"color\":\"#636efa\",\"dash\":\"solid\",\"width\":5},\"marker\":{\"symbol\":\"circle\"},\"mode\":\"lines\",\"name\":\"4\",\"scene\":\"scene\",\"showlegend\":false,\"x\":[-4.051005848147691,-4.051005848147691],\"y\":[0,150],\"z\":[14.592954418426489,14.592954418426489],\"type\":\"scatter3d\"},{\"hovertemplate\":\"ring=4\\u003cbr\\u003eRing and Wire=Ring: 4 Wire: 17\\u003cbr\\u003ex=%{x}\\u003cbr\\u003ez=%{y}\\u003cbr\\u003ey=%{z}\\u003cextra\\u003e\\u003c\\u002fextra\\u003e\",\"legendgroup\":\"4\",\"line\":{\"color\":\"#636efa\",\"dash\":\"solid\",\"width\":5},\"marker\":{\"symbol\":\"circle\"},\"mode\":\"lines\",\"name\":\"4\",\"scene\":\"scene\",\"showlegend\":false,\"x\":[-5.717753008107831,-5.717753008107831],\"y\":[0,150],\"z\":[14.023989003784688,14.023989003784688],\"type\":\"scatter3d\"},{\"hovertemplate\":\"ring=4\\u003cbr\\u003eRing and Wire=Ring: 4 Wire: 18\\u003cbr\\u003ex=%{x}\\u003cbr\\u003ez=%{y}\\u003cbr\\u003ey=%{z}\\u003cextra\\u003e\\u003c\\u002fextra\\u003e\",\"legendgroup\":\"4\",\"line\":{\"color\":\"#636efa\",\"dash\":\"solid\",\"width\":5},\"marker\":{\"symbol\":\"circle\"},\"mode\":\"lines\",\"name\":\"4\",\"scene\":\"scene\",\"showlegend\":false,\"x\":[-7.307177366574106,-7.307177366574106],\"y\":[0,150],\"z\":[13.265373193899487,13.265373193899487],\"type\":\"scatter3d\"},{\"hovertemplate\":\"ring=4\\u003cbr\\u003eRing and Wire=Ring: 4 Wire: 19\\u003cbr\\u003ex=%{x}\\u003cbr\\u003ez=%{y}\\u003cbr\\u003ey=%{z}\\u003cextra\\u003e\\u003c\\u002fextra\\u003e\",\"legendgroup\":\"4\",\"line\":{\"color\":\"#636efa\",\"dash\":\"solid\",\"width\":5},\"marker\":{\"symbol\":\"circle\"},\"mode\":\"lines\",\"name\":\"4\",\"scene\":\"scene\",\"showlegend\":false,\"x\":[-8.797784685515436,-8.797784685515436],\"y\":[0,150],\"z\":[12.327365966308863,12.327365966308863],\"type\":\"scatter3d\"},{\"hovertemplate\":\"ring=4\\u003cbr\\u003eRing and Wire=Ring: 4 Wire: 20\\u003cbr\\u003ex=%{x}\\u003cbr\\u003ez=%{y}\\u003cbr\\u003ey=%{z}\\u003cextra\\u003e\\u003c\\u002fextra\\u003e\",\"legendgroup\":\"4\",\"line\":{\"color\":\"#636efa\",\"dash\":\"solid\",\"width\":5},\"marker\":{\"symbol\":\"circle\"},\"mode\":\"lines\",\"name\":\"4\",\"scene\":\"scene\",\"showlegend\":false,\"x\":[-10.169417057854623,-10.169417057854623],\"y\":[0,150],\"z\":[11.2226522597564,11.2226522597564],\"type\":\"scatter3d\"},{\"hovertemplate\":\"ring=4\\u003cbr\\u003eRing and Wire=Ring: 4 Wire: 21\\u003cbr\\u003ex=%{x}\\u003cbr\\u003ez=%{y}\\u003cbr\\u003ey=%{z}\\u003cextra\\u003e\\u003c\\u002fextra\\u003e\",\"legendgroup\":\"4\",\"line\":{\"color\":\"#636efa\",\"dash\":\"solid\",\"width\":5},\"marker\":{\"symbol\":\"circle\"},\"mode\":\"lines\",\"name\":\"4\",\"scene\":\"scene\",\"showlegend\":false,\"x\":[-11.403525508583733,-11.403525508583733],\"y\":[0,150],\"z\":[9.966171432153882,9.966171432153882],\"type\":\"scatter3d\"},{\"hovertemplate\":\"ring=4\\u003cbr\\u003eRing and Wire=Ring: 4 Wire: 22\\u003cbr\\u003ex=%{x}\\u003cbr\\u003ez=%{y}\\u003cbr\\u003ey=%{z}\\u003cextra\\u003e\\u003c\\u002fextra\\u003e\",\"legendgroup\":\"4\",\"line\":{\"color\":\"#636efa\",\"dash\":\"solid\",\"width\":5},\"marker\":{\"symbol\":\"circle\"},\"mode\":\"lines\",\"name\":\"4\",\"scene\":\"scene\",\"showlegend\":false,\"x\":[-12.483420837833108,-12.483420837833108],\"y\":[0,150],\"z\":[8.574915231391746,8.574915231391746],\"type\":\"scatter3d\"},{\"hovertemplate\":\"ring=4\\u003cbr\\u003eRing and Wire=Ring: 4 Wire: 23\\u003cbr\\u003ex=%{x}\\u003cbr\\u003ez=%{y}\\u003cbr\\u003ey=%{z}\\u003cextra\\u003e\\u003c\\u002fextra\\u003e\",\"legendgroup\":\"4\",\"line\":{\"color\":\"#636efa\",\"dash\":\"solid\",\"width\":5},\"marker\":{\"symbol\":\"circle\"},\"mode\":\"lines\",\"name\":\"4\",\"scene\":\"scene\",\"showlegend\":false,\"x\":[-13.394499313671817,-13.394499313671817],\"y\":[0,150],\"z\":[7.067698011095638,7.067698011095638],\"type\":\"scatter3d\"},{\"hovertemplate\":\"ring=4\\u003cbr\\u003eRing and Wire=Ring: 4 Wire: 24\\u003cbr\\u003ex=%{x}\\u003cbr\\u003ez=%{y}\\u003cbr\\u003ey=%{z}\\u003cextra\\u003e\\u003c\\u002fextra\\u003e\",\"legendgroup\":\"4\",\"line\":{\"color\":\"#636efa\",\"dash\":\"solid\",\"width\":5},\"marker\":{\"symbol\":\"circle\"},\"mode\":\"lines\",\"name\":\"4\",\"scene\":\"scene\",\"showlegend\":false,\"x\":[-14.124440162531515,-14.124440162531515],\"y\":[0,150],\"z\":[5.4649022987668046,5.4649022987668046],\"type\":\"scatter3d\"},{\"hovertemplate\":\"ring=4\\u003cbr\\u003eRing and Wire=Ring: 4 Wire: 25\\u003cbr\\u003ex=%{x}\\u003cbr\\u003ez=%{y}\\u003cbr\\u003ey=%{z}\\u003cextra\\u003e\\u003c\\u002fextra\\u003e\",\"legendgroup\":\"4\",\"line\":{\"color\":\"#636efa\",\"dash\":\"solid\",\"width\":5},\"marker\":{\"symbol\":\"circle\"},\"mode\":\"lines\",\"name\":\"4\",\"scene\":\"scene\",\"showlegend\":false,\"x\":[-14.66337218653454,-14.66337218653454],\"y\":[0,150],\"z\":[3.788203157060782,3.788203157060782],\"type\":\"scatter3d\"},{\"hovertemplate\":\"ring=4\\u003cbr\\u003eRing and Wire=Ring: 4 Wire: 26\\u003cbr\\u003ex=%{x}\\u003cbr\\u003ez=%{y}\\u003cbr\\u003ey=%{z}\\u003cextra\\u003e\\u003c\\u002fextra\\u003e\",\"legendgroup\":\"4\",\"line\":{\"color\":\"#636efa\",\"dash\":\"solid\",\"width\":5},\"marker\":{\"symbol\":\"circle\"},\"mode\":\"lines\",\"name\":\"4\",\"scene\":\"scene\",\"showlegend\":false,\"x\":[-15.004007254512652,-15.004007254512652],\"y\":[0,150],\"z\":[2.060275065745273,2.060275065745273],\"type\":\"scatter3d\"},{\"hovertemplate\":\"ring=4\\u003cbr\\u003eRing and Wire=Ring: 4 Wire: 27\\u003cbr\\u003ex=%{x}\\u003cbr\\u003ez=%{y}\\u003cbr\\u003ey=%{z}\\u003cextra\\u003e\\u003c\\u002fextra\\u003e\",\"legendgroup\":\"4\",\"line\":{\"color\":\"#636efa\",\"dash\":\"solid\",\"width\":5},\"marker\":{\"symbol\":\"circle\"},\"mode\":\"lines\",\"name\":\"4\",\"scene\":\"scene\",\"showlegend\":false,\"x\":[-15.141738861479407,-15.141738861479407],\"y\":[0,150],\"z\":[0.3044852882559333,0.3044852882559333],\"type\":\"scatter3d\"},{\"hovertemplate\":\"ring=4\\u003cbr\\u003eRing and Wire=Ring: 4 Wire: 28\\u003cbr\\u003ex=%{x}\\u003cbr\\u003ez=%{y}\\u003cbr\\u003ey=%{z}\\u003cextra\\u003e\\u003c\\u002fextra\\u003e\",\"legendgroup\":\"4\",\"line\":{\"color\":\"#636efa\",\"dash\":\"solid\",\"width\":5},\"marker\":{\"symbol\":\"circle\"},\"mode\":\"lines\",\"name\":\"4\",\"scene\":\"scene\",\"showlegend\":false,\"x\":[-15.074704423708326,-15.074704423708326],\"y\":[0,150],\"z\":[-1.4554221304585924,-1.4554221304585924],\"type\":\"scatter3d\"},{\"hovertemplate\":\"ring=4\\u003cbr\\u003eRing and Wire=Ring: 4 Wire: 29\\u003cbr\\u003ex=%{x}\\u003cbr\\u003ez=%{y}\\u003cbr\\u003ey=%{z}\\u003cextra\\u003e\\u003c\\u002fextra\\u003e\",\"legendgroup\":\"4\",\"line\":{\"color\":\"#636efa\",\"dash\":\"solid\",\"width\":5},\"marker\":{\"symbol\":\"circle\"},\"mode\":\"lines\",\"name\":\"4\",\"scene\":\"scene\",\"showlegend\":false,\"x\":[-14.80381046698282,-14.80381046698282],\"y\":[0,150],\"z\":[-3.195647461415279,-3.195647461415279],\"type\":\"scatter3d\"},{\"hovertemplate\":\"ring=4\\u003cbr\\u003eRing and Wire=Ring: 4 Wire: 30\\u003cbr\\u003ex=%{x}\\u003cbr\\u003ez=%{y}\\u003cbr\\u003ey=%{z}\\u003cextra\\u003e\\u003c\\u002fextra\\u003e\",\"legendgroup\":\"4\",\"line\":{\"color\":\"#636efa\",\"dash\":\"solid\",\"width\":5},\"marker\":{\"symbol\":\"circle\"},\"mode\":\"lines\",\"name\":\"4\",\"scene\":\"scene\",\"showlegend\":false,\"x\":[-14.332720367389975,-14.332720367389975],\"y\":[0,150],\"z\":[-4.892657142106381,-4.892657142106381],\"type\":\"scatter3d\"},{\"hovertemplate\":\"ring=4\\u003cbr\\u003eRing and Wire=Ring: 4 Wire: 31\\u003cbr\\u003ex=%{x}\\u003cbr\\u003ez=%{y}\\u003cbr\\u003ey=%{z}\\u003cextra\\u003e\\u003c\\u002fextra\\u003e\",\"legendgroup\":\"4\",\"line\":{\"color\":\"#636efa\",\"dash\":\"solid\",\"width\":5},\"marker\":{\"symbol\":\"circle\"},\"mode\":\"lines\",\"name\":\"4\",\"scene\":\"scene\",\"showlegend\":false,\"x\":[-13.667804810442947,-13.667804810442947],\"y\":[0,150],\"z\":[-6.523502027564079,-6.523502027564079],\"type\":\"scatter3d\"},{\"hovertemplate\":\"ring=4\\u003cbr\\u003eRing and Wire=Ring: 4 Wire: 32\\u003cbr\\u003ex=%{x}\\u003cbr\\u003ez=%{y}\\u003cbr\\u003ey=%{z}\\u003cextra\\u003e\\u003c\\u002fextra\\u003e\",\"legendgroup\":\"4\",\"line\":{\"color\":\"#636efa\",\"dash\":\"solid\",\"width\":5},\"marker\":{\"symbol\":\"circle\"},\"mode\":\"lines\",\"name\":\"4\",\"scene\":\"scene\",\"showlegend\":false,\"x\":[-12.818055638487337,-12.818055638487337],\"y\":[0,150],\"z\":[-8.066127738180384,-8.066127738180384],\"type\":\"scatter3d\"},{\"hovertemplate\":\"ring=4\\u003cbr\\u003eRing and Wire=Ring: 4 Wire: 33\\u003cbr\\u003ex=%{x}\\u003cbr\\u003ez=%{y}\\u003cbr\\u003ey=%{z}\\u003cextra\\u003e\\u003c\\u002fextra\\u003e\",\"legendgroup\":\"4\",\"line\":{\"color\":\"#636efa\",\"dash\":\"solid\",\"width\":5},\"marker\":{\"symbol\":\"circle\"},\"mode\":\"lines\",\"name\":\"4\",\"scene\":\"scene\",\"showlegend\":false,\"x\":[-11.794964251457616,-11.794964251457616],\"y\":[0,150],\"z\":[-9.499672907360384,-9.499672907360384],\"type\":\"scatter3d\"},{\"hovertemplate\":\"ring=4\\u003cbr\\u003eRing and Wire=Ring: 4 Wire: 34\\u003cbr\\u003ex=%{x}\\u003cbr\\u003ez=%{y}\\u003cbr\\u003ey=%{z}\\u003cextra\\u003e\\u003c\\u002fextra\\u003e\",\"legendgroup\":\"4\",\"line\":{\"color\":\"#636efa\",\"dash\":\"solid\",\"width\":5},\"marker\":{\"symbol\":\"circle\"},\"mode\":\"lines\",\"name\":\"4\",\"scene\":\"scene\",\"showlegend\":false,\"x\":[-10.612366205404774,-10.612366205404774],\"y\":[0,150],\"z\":[-10.80475129572091,-10.80475129572091],\"type\":\"scatter3d\"},{\"hovertemplate\":\"ring=4\\u003cbr\\u003eRing and Wire=Ring: 4 Wire: 35\\u003cbr\\u003ex=%{x}\\u003cbr\\u003ez=%{y}\\u003cbr\\u003ey=%{z}\\u003cextra\\u003e\\u003c\\u002fextra\\u003e\",\"legendgroup\":\"4\",\"line\":{\"color\":\"#636efa\",\"dash\":\"solid\",\"width\":5},\"marker\":{\"symbol\":\"circle\"},\"mode\":\"lines\",\"name\":\"4\",\"scene\":\"scene\",\"showlegend\":false,\"x\":[-9.286254110333529,-9.286254110333529],\"y\":[0,150],\"z\":[-11.963713956724044,-11.963713956724044],\"type\":\"scatter3d\"},{\"hovertemplate\":\"ring=4\\u003cbr\\u003eRing and Wire=Ring: 4 Wire: 36\\u003cbr\\u003ex=%{x}\\u003cbr\\u003ez=%{y}\\u003cbr\\u003ey=%{z}\\u003cextra\\u003e\\u003c\\u002fextra\\u003e\",\"legendgroup\":\"4\",\"line\":{\"color\":\"#636efa\",\"dash\":\"solid\",\"width\":5},\"marker\":{\"symbol\":\"circle\"},\"mode\":\"lines\",\"name\":\"4\",\"scene\":\"scene\",\"showlegend\":false,\"x\":[-7.8345613575849145,-7.8345613575849145],\"y\":[0,150],\"z\":[-12.960887908404935,-12.960887908404935],\"type\":\"scatter3d\"},{\"hovertemplate\":\"ring=4\\u003cbr\\u003eRing and Wire=Ring: 4 Wire: 37\\u003cbr\\u003ex=%{x}\\u003cbr\\u003ez=%{y}\\u003cbr\\u003ey=%{z}\\u003cextra\\u003e\\u003c\\u002fextra\\u003e\",\"legendgroup\":\"4\",\"line\":{\"color\":\"#636efa\",\"dash\":\"solid\",\"width\":5},\"marker\":{\"symbol\":\"circle\"},\"mode\":\"lines\",\"name\":\"4\",\"scene\":\"scene\",\"showlegend\":false,\"x\":[-6.276919601480431,-6.276919601480431],\"y\":[0,150],\"z\":[-13.782788083568242,-13.782788083568242],\"type\":\"scatter3d\"},{\"hovertemplate\":\"ring=4\\u003cbr\\u003eRing and Wire=Ring: 4 Wire: 38\\u003cbr\\u003ex=%{x}\\u003cbr\\u003ez=%{y}\\u003cbr\\u003ey=%{z}\\u003cextra\\u003e\\u003c\\u002fextra\\u003e\",\"legendgroup\":\"4\",\"line\":{\"color\":\"#636efa\",\"dash\":\"solid\",\"width\":5},\"marker\":{\"symbol\":\"circle\"},\"mode\":\"lines\",\"name\":\"4\",\"scene\":\"scene\",\"showlegend\":false,\"x\":[-4.63439327487248,-4.63439327487248],\"y\":[0,150],\"z\":[-14.418299692190363,-14.418299692190363],\"type\":\"scatter3d\"},{\"hovertemplate\":\"ring=4\\u003cbr\\u003eRing and Wire=Ring: 4 Wire: 39\\u003cbr\\u003ex=%{x}\\u003cbr\\u003ez=%{y}\\u003cbr\\u003ey=%{z}\\u003cextra\\u003e\\u003c\\u002fextra\\u003e\",\"legendgroup\":\"4\",\"line\":{\"color\":\"#636efa\",\"dash\":\"solid\",\"width\":5},\"marker\":{\"symbol\":\"circle\"},\"mode\":\"lines\",\"name\":\"4\",\"scene\":\"scene\",\"showlegend\":false,\"x\":[-2.929194728822835,-2.929194728822835],\"y\":[0,150],\"z\":[-14.858828529888772,-14.858828529888772],\"type\":\"scatter3d\"},{\"hovertemplate\":\"ring=4\\u003cbr\\u003eRing and Wire=Ring: 4 Wire: 40\\u003cbr\\u003ex=%{x}\\u003cbr\\u003ez=%{y}\\u003cbr\\u003ey=%{z}\\u003cextra\\u003e\\u003c\\u002fextra\\u003e\",\"legendgroup\":\"4\",\"line\":{\"color\":\"#636efa\",\"dash\":\"solid\",\"width\":5},\"marker\":{\"symbol\":\"circle\"},\"mode\":\"lines\",\"name\":\"4\",\"scene\":\"scene\",\"showlegend\":false,\"x\":[-1.1843838486565537,-1.1843838486565537],\"y\":[0,150],\"z\":[-15.098417199794204,-15.098417199794204],\"type\":\"scatter3d\"},{\"hovertemplate\":\"ring=4\\u003cbr\\u003eRing and Wire=Ring: 4 Wire: 41\\u003cbr\\u003ex=%{x}\\u003cbr\\u003ez=%{y}\\u003cbr\\u003ey=%{z}\\u003cextra\\u003e\\u003c\\u002fextra\\u003e\",\"legendgroup\":\"4\",\"line\":{\"color\":\"#636efa\",\"dash\":\"solid\",\"width\":5},\"marker\":{\"symbol\":\"circle\"},\"mode\":\"lines\",\"name\":\"4\",\"scene\":\"scene\",\"showlegend\":false,\"x\":[0.5764437914313999,0.5764437914313999],\"y\":[0,150],\"z\":[-15.133825676124335,-15.133825676124335],\"type\":\"scatter3d\"},{\"hovertemplate\":\"ring=4\\u003cbr\\u003eRing and Wire=Ring: 4 Wire: 42\\u003cbr\\u003ex=%{x}\\u003cbr\\u003ez=%{y}\\u003cbr\\u003ey=%{z}\\u003cextra\\u003e\\u003c\\u002fextra\\u003e\",\"legendgroup\":\"4\",\"line\":{\"color\":\"#636efa\",\"dash\":\"solid\",\"width\":5},\"marker\":{\"symbol\":\"circle\"},\"mode\":\"lines\",\"name\":\"4\",\"scene\":\"scene\",\"showlegend\":false,\"x\":[2.3294760180423997,2.3294760180423997],\"y\":[0,150],\"z\":[-14.964575119974684,-14.964575119974684],\"type\":\"scatter3d\"},{\"hovertemplate\":\"ring=4\\u003cbr\\u003eRing and Wire=Ring: 4 Wire: 43\\u003cbr\\u003ex=%{x}\\u003cbr\\u003ez=%{y}\\u003cbr\\u003ey=%{z}\\u003cextra\\u003e\\u003c\\u002fextra\\u003e\",\"legendgroup\":\"4\",\"line\":{\"color\":\"#636efa\",\"dash\":\"solid\",\"width\":5},\"marker\":{\"symbol\":\"circle\"},\"mode\":\"lines\",\"name\":\"4\",\"scene\":\"scene\",\"showlegend\":false,\"x\":[4.0510060773732945,4.0510060773732945],\"y\":[0,150],\"z\":[-14.592954354793433,-14.592954354793433],\"type\":\"scatter3d\"},{\"hovertemplate\":\"ring=4\\u003cbr\\u003eRing and Wire=Ring: 4 Wire: 44\\u003cbr\\u003ex=%{x}\\u003cbr\\u003ez=%{y}\\u003cbr\\u003ey=%{z}\\u003cextra\\u003e\\u003c\\u002fextra\\u003e\",\"legendgroup\":\"4\",\"line\":{\"color\":\"#636efa\",\"dash\":\"solid\",\"width\":5},\"marker\":{\"symbol\":\"circle\"},\"mode\":\"lines\",\"name\":\"4\",\"scene\":\"scene\",\"showlegend\":false,\"x\":[5.71775322839614,5.71775322839614],\"y\":[0,150],\"z\":[-14.02398891397043,-14.02398891397043],\"type\":\"scatter3d\"},{\"hovertemplate\":\"ring=4\\u003cbr\\u003eRing and Wire=Ring: 4 Wire: 45\\u003cbr\\u003ex=%{x}\\u003cbr\\u003ez=%{y}\\u003cbr\\u003ey=%{z}\\u003cextra\\u003e\\u003c\\u002fextra\\u003e\",\"legendgroup\":\"4\",\"line\":{\"color\":\"#636efa\",\"dash\":\"solid\",\"width\":5},\"marker\":{\"symbol\":\"circle\"},\"mode\":\"lines\",\"name\":\"4\",\"scene\":\"scene\",\"showlegend\":false,\"x\":[7.307177574946111,7.307177574946111],\"y\":[0,150],\"z\":[-13.265373079118607,-13.265373079118607],\"type\":\"scatter3d\"},{\"hovertemplate\":\"ring=4\\u003cbr\\u003eRing and Wire=Ring: 4 Wire: 46\\u003cbr\\u003ex=%{x}\\u003cbr\\u003ez=%{y}\\u003cbr\\u003ey=%{z}\\u003cextra\\u003e\\u003c\\u002fextra\\u003e\",\"legendgroup\":\"4\",\"line\":{\"color\":\"#636efa\",\"dash\":\"solid\",\"width\":5},\"marker\":{\"symbol\":\"circle\"},\"mode\":\"lines\",\"name\":\"4\",\"scene\":\"scene\",\"showlegend\":false,\"x\":[8.797784879153252,8.797784879153252],\"y\":[0,150],\"z\":[-12.32736582811358,-12.32736582811358],\"type\":\"scatter3d\"},{\"hovertemplate\":\"ring=4\\u003cbr\\u003eRing and Wire=Ring: 4 Wire: 47\\u003cbr\\u003ex=%{x}\\u003cbr\\u003ez=%{y}\\u003cbr\\u003ey=%{z}\\u003cextra\\u003e\\u003c\\u002fextra\\u003e\",\"legendgroup\":\"4\",\"line\":{\"color\":\"#636efa\",\"dash\":\"solid\",\"width\":5},\"marker\":{\"symbol\":\"circle\"},\"mode\":\"lines\",\"name\":\"4\",\"scene\":\"scene\",\"showlegend\":false,\"x\":[10.16941723413964,10.16941723413964],\"y\":[0,150],\"z\":[-11.222652100015559,-11.222652100015559],\"type\":\"scatter3d\"},{\"hovertemplate\":\"ring=4\\u003cbr\\u003eRing and Wire=Ring: 4 Wire: 48\\u003cbr\\u003ex=%{x}\\u003cbr\\u003ez=%{y}\\u003cbr\\u003ey=%{z}\\u003cextra\\u003e\\u003c\\u002fextra\\u003e\",\"legendgroup\":\"4\",\"line\":{\"color\":\"#636efa\",\"dash\":\"solid\",\"width\":5},\"marker\":{\"symbol\":\"circle\"},\"mode\":\"lines\",\"name\":\"4\",\"scene\":\"scene\",\"showlegend\":false,\"x\":[11.40352566513199,11.40352566513199],\"y\":[0,150],\"z\":[-9.966171253027715,-9.966171253027715],\"type\":\"scatter3d\"},{\"hovertemplate\":\"ring=4\\u003cbr\\u003eRing and Wire=Ring: 4 Wire: 49\\u003cbr\\u003ex=%{x}\\u003cbr\\u003ez=%{y}\\u003cbr\\u003ey=%{z}\\u003cextra\\u003e\\u003c\\u002fextra\\u003e\",\"legendgroup\":\"4\",\"line\":{\"color\":\"#636efa\",\"dash\":\"solid\",\"width\":5},\"marker\":{\"symbol\":\"circle\"},\"mode\":\"lines\",\"name\":\"4\",\"scene\":\"scene\",\"showlegend\":false,\"x\":[12.483420972527567,12.483420972527567],\"y\":[0,150],\"z\":[-8.574915035302618,-8.574915035302618],\"type\":\"scatter3d\"},{\"hovertemplate\":\"ring=4\\u003cbr\\u003eRing and Wire=Ring: 4 Wire: 50\\u003cbr\\u003ex=%{x}\\u003cbr\\u003ez=%{y}\\u003cbr\\u003ey=%{z}\\u003cextra\\u003e\\u003c\\u002fextra\\u003e\",\"legendgroup\":\"4\",\"line\":{\"color\":\"#636efa\",\"dash\":\"solid\",\"width\":5},\"marker\":{\"symbol\":\"circle\"},\"mode\":\"lines\",\"name\":\"4\",\"scene\":\"scene\",\"showlegend\":false,\"x\":[13.39449942469096,13.39449942469096],\"y\":[0,150],\"z\":[-7.067697800695328,-7.067697800695328],\"type\":\"scatter3d\"},{\"hovertemplate\":\"ring=4\\u003cbr\\u003eRing and Wire=Ring: 4 Wire: 51\\u003cbr\\u003ex=%{x}\\u003cbr\\u003ez=%{y}\\u003cbr\\u003ey=%{z}\\u003cextra\\u003e\\u003c\\u002fextra\\u003e\",\"legendgroup\":\"4\",\"line\":{\"color\":\"#636efa\",\"dash\":\"solid\",\"width\":5},\"marker\":{\"symbol\":\"circle\"},\"mode\":\"lines\",\"name\":\"4\",\"scene\":\"scene\",\"showlegend\":false,\"x\":[14.124440248374002,14.124440248374002],\"y\":[0,150],\"z\":[-5.4649020769006045,-5.4649020769006045],\"type\":\"scatter3d\"},{\"hovertemplate\":\"ring=4\\u003cbr\\u003eRing and Wire=Ring: 4 Wire: 52\\u003cbr\\u003ex=%{x}\\u003cbr\\u003ez=%{y}\\u003cbr\\u003ey=%{z}\\u003cextra\\u003e\\u003c\\u002fextra\\u003e\",\"legendgroup\":\"4\",\"line\":{\"color\":\"#636efa\",\"dash\":\"solid\",\"width\":5},\"marker\":{\"symbol\":\"circle\"},\"mode\":\"lines\",\"name\":\"4\",\"scene\":\"scene\",\"showlegend\":false,\"x\":[14.663372246039497,14.663372246039497],\"y\":[0,150],\"z\":[-3.788202926729063,-3.788202926729063],\"type\":\"scatter3d\"},{\"hovertemplate\":\"ring=4\\u003cbr\\u003eRing and Wire=Ring: 4 Wire: 53\\u003cbr\\u003ex=%{x}\\u003cbr\\u003ez=%{y}\\u003cbr\\u003ey=%{z}\\u003cextra\\u003e\\u003c\\u002fextra\\u003e\",\"legendgroup\":\"4\",\"line\":{\"color\":\"#636efa\",\"dash\":\"solid\",\"width\":5},\"marker\":{\"symbol\":\"circle\"},\"mode\":\"lines\",\"name\":\"4\",\"scene\":\"scene\",\"showlegend\":false,\"x\":[15.004007286875376,15.004007286875376],\"y\":[0,150],\"z\":[-2.060274830062865,-2.060274830062865],\"type\":\"scatter3d\"},{\"hovertemplate\":\"ring=4\\u003cbr\\u003eRing and Wire=Ring: 4 Wire: 54\\u003cbr\\u003ex=%{x}\\u003cbr\\u003ez=%{y}\\u003cbr\\u003ey=%{z}\\u003cextra\\u003e\\u003c\\u002fextra\\u003e\",\"legendgroup\":\"4\",\"line\":{\"color\":\"#636efa\",\"dash\":\"solid\",\"width\":5},\"marker\":{\"symbol\":\"circle\"},\"mode\":\"lines\",\"name\":\"4\",\"scene\":\"scene\",\"showlegend\":false,\"x\":[15.14173886626225,15.14173886626225],\"y\":[0,150],\"z\":[-0.304485050410049,-0.304485050410049],\"type\":\"scatter3d\"},{\"hovertemplate\":\"ring=5\\u003cbr\\u003eRing and Wire=Ring: 5 Wire: 1\\u003cbr\\u003ex=%{x}\\u003cbr\\u003ez=%{y}\\u003cbr\\u003ey=%{z}\\u003cextra\\u003e\\u003c\\u002fextra\\u003e\",\"legendgroup\":\"5\",\"line\":{\"color\":\"#EF553B\",\"dash\":\"solid\",\"width\":5},\"marker\":{\"symbol\":\"circle\"},\"mode\":\"lines\",\"name\":\"5\",\"scene\":\"scene\",\"showlegend\":true,\"x\":[12.789378477960556,18.64887320529633],\"y\":[0,150],\"z\":[-13.611143823008844,1.0251664235298747],\"type\":\"scatter3d\"},{\"hovertemplate\":\"ring=5\\u003cbr\\u003eRing and Wire=Ring: 5 Wire: 2\\u003cbr\\u003ex=%{x}\\u003cbr\\u003ez=%{y}\\u003cbr\\u003ey=%{z}\\u003cextra\\u003e\\u003c\\u002fextra\\u003e\",\"legendgroup\":\"5\",\"line\":{\"color\":\"#EF553B\",\"dash\":\"solid\",\"width\":5},\"marker\":{\"symbol\":\"circle\"},\"mode\":\"lines\",\"name\":\"5\",\"scene\":\"scene\",\"showlegend\":false,\"x\":[14.025288658629613,18.46698139954897],\"y\":[0,150],\"z\":[-12.333803795474777,2.7932124895655175],\"type\":\"scatter3d\"},{\"hovertemplate\":\"ring=5\\u003cbr\\u003eRing and Wire=Ring: 5 Wire: 3\\u003cbr\\u003ex=%{x}\\u003cbr\\u003ez=%{y}\\u003cbr\\u003ey=%{z}\\u003cextra\\u003e\\u003c\\u002fextra\\u003e\",\"legendgroup\":\"5\",\"line\":{\"color\":\"#EF553B\",\"dash\":\"solid\",\"width\":5},\"marker\":{\"symbol\":\"circle\"},\"mode\":\"lines\",\"name\":\"5\",\"scene\":\"scene\",\"showlegend\":false,\"x\":[15.134183653336441,18.11784975056448],\"y\":[0,150],\"z\":[-10.944766930832127,4.535962790756],\"type\":\"scatter3d\"},{\"hovertemplate\":\"ring=5\\u003cbr\\u003eRing and Wire=Ring: 5 Wire: 4\\u003cbr\\u003ex=%{x}\\u003cbr\\u003ez=%{y}\\u003cbr\\u003ey=%{z}\\u003cextra\\u003e\\u003c\\u002fextra\\u003e\",\"legendgroup\":\"5\",\"line\":{\"color\":\"#EF553B\",\"dash\":\"solid\",\"width\":5},\"marker\":{\"symbol\":\"circle\"},\"mode\":\"lines\",\"name\":\"5\",\"scene\":\"scene\",\"showlegend\":false,\"x\":[16.10602113729234,17.604640048620443],\"y\":[0,150],\"z\":[-9.456612562024773,6.237634710502181],\"type\":\"scatter3d\"},{\"hovertemplate\":\"ring=5\\u003cbr\\u003eRing and Wire=Ring: 5 Wire: 5\\u003cbr\\u003ex=%{x}\\u003cbr\\u003ez=%{y}\\u003cbr\\u003ey=%{z}\\u003cextra\\u003e\\u003c\\u002fextra\\u003e\",\"legendgroup\":\"5\",\"line\":{\"color\":\"#EF553B\",\"dash\":\"solid\",\"width\":5},\"marker\":{\"symbol\":\"circle\"},\"mode\":\"lines\",\"name\":\"5\",\"scene\":\"scene\",\"showlegend\":false,\"x\":[16.931999999749852,16.932000000250145],\"y\":[0,150],\"z\":[-7.882817645463042,7.882817644388426],\"type\":\"scatter3d\"},{\"hovertemplate\":\"ring=5\\u003cbr\\u003eRing and Wire=Ring: 5 Wire: 6\\u003cbr\\u003ex=%{x}\\u003cbr\\u003ez=%{y}\\u003cbr\\u003ey=%{z}\\u003cextra\\u003e\\u003c\\u002fextra\\u003e\",\"legendgroup\":\"5\",\"line\":{\"color\":\"#EF553B\",\"dash\":\"solid\",\"width\":5},\"marker\":{\"symbol\":\"circle\"},\"mode\":\"lines\",\"name\":\"5\",\"scene\":\"scene\",\"showlegend\":false,\"x\":[17.604640048224564,16.106021137892522],\"y\":[0,150],\"z\":[-6.237634711619489,9.45661256100258],\"type\":\"scatter3d\"},{\"hovertemplate\":\"ring=5\\u003cbr\\u003eRing and Wire=Ring: 5 Wire: 7\\u003cbr\\u003ex=%{x}\\u003cbr\\u003ez=%{y}\\u003cbr\\u003ey=%{z}\\u003cextra\\u003e\\u003c\\u002fextra\\u003e\",\"legendgroup\":\"5\",\"line\":{\"color\":\"#EF553B\",\"dash\":\"solid\",\"width\":5},\"marker\":{\"symbol\":\"circle\"},\"mode\":\"lines\",\"name\":\"5\",\"scene\":\"scene\",\"showlegend\":false,\"x\":[18.1178497502766,15.134183654031068],\"y\":[0,150],\"z\":[-4.535962791905877,10.944766929871612],\"type\":\"scatter3d\"},{\"hovertemplate\":\"ring=5\\u003cbr\\u003eRing and Wire=Ring: 5 Wire: 8\\u003cbr\\u003ex=%{x}\\u003cbr\\u003ez=%{y}\\u003cbr\\u003ey=%{z}\\u003cextra\\u003e\\u003c\\u002fextra\\u003e\",\"legendgroup\":\"5\",\"line\":{\"color\":\"#EF553B\",\"dash\":\"solid\",\"width\":5},\"marker\":{\"symbol\":\"circle\"},\"mode\":\"lines\",\"name\":\"5\",\"scene\":\"scene\",\"showlegend\":false,\"x\":[18.466981399371697,14.025288659412396],\"y\":[0,150],\"z\":[-2.7932124907375533,12.33380379458464],\"type\":\"scatter3d\"},{\"hovertemplate\":\"ring=5\\u003cbr\\u003eRing and Wire=Ring: 5 Wire: 9\\u003cbr\\u003ex=%{x}\\u003cbr\\u003ez=%{y}\\u003cbr\\u003ey=%{z}\\u003cextra\\u003e\\u003c\\u002fextra\\u003e\",\"legendgroup\":\"5\",\"line\":{\"color\":\"#EF553B\",\"dash\":\"solid\",\"width\":5},\"marker\":{\"symbol\":\"circle\"},\"mode\":\"lines\",\"name\":\"5\",\"scene\":\"scene\",\"showlegend\":false,\"x\":[18.648873205231265,12.789378478824409],\"y\":[0,150],\"z\":[-1.025166424713455,13.611143822197146],\"type\":\"scatter3d\"},{\"hovertemplate\":\"ring=5\\u003cbr\\u003eRing and Wire=Ring: 5 Wire: 10\\u003cbr\\u003ex=%{x}\\u003cbr\\u003ez=%{y}\\u003cbr\\u003ey=%{z}\\u003cextra\\u003e\\u003c\\u002fextra\\u003e\",\"legendgroup\":\"5\",\"line\":{\"color\":\"#EF553B\",\"dash\":\"solid\",\"width\":5},\"marker\":{\"symbol\":\"circle\"},\"mode\":\"lines\",\"name\":\"5\",\"scene\":\"scene\",\"showlegend\":false,\"x\":[18.661877927494807,11.437645706247936],\"y\":[0,150],\"z\":[0.7521637072037972,14.76521922361807],\"type\":\"scatter3d\"},{\"hovertemplate\":\"ring=5\\u003cbr\\u003eRing and Wire=Ring: 5 Wire: 11\\u003cbr\\u003ex=%{x}\\u003cbr\\u003ez=%{y}\\u003cbr\\u003ey=%{z}\\u003cextra\\u003e\\u003c\\u002fextra\\u003e\",\"legendgroup\":\"5\",\"line\":{\"color\":\"#EF553B\",\"dash\":\"solid\",\"width\":5},\"marker\":{\"symbol\":\"circle\"},\"mode\":\"lines\",\"name\":\"5\",\"scene\":\"scene\",\"showlegend\":false,\"x\":[18.505877793383668,9.982331842992432],\"y\":[0,150],\"z\":[2.5226821281131757,15.78557851329915],\"type\":\"scatter3d\"},{\"hovertemplate\":\"ring=5\\u003cbr\\u003eRing and Wire=Ring: 5 Wire: 12\\u003cbr\\u003ex=%{x}\\u003cbr\\u003ez=%{y}\\u003cbr\\u003ey=%{z}\\u003cextra\\u003e\\u003c\\u002fextra\\u003e\",\"legendgroup\":\"5\",\"line\":{\"color\":\"#EF553B\",\"dash\":\"solid\",\"width\":5},\"marker\":{\"symbol\":\"circle\"},\"mode\":\"lines\",\"name\":\"5\",\"scene\":\"scene\",\"showlegend\":false,\"x\":[18.18228556426958,8.436616436764456],\"y\":[0,150],\"z\":[4.270354749023377,16.66298115950649],\"type\":\"scatter3d\"},{\"hovertemplate\":\"ring=5\\u003cbr\\u003eRing and Wire=Ring: 5 Wire: 13\\u003cbr\\u003ex=%{x}\\u003cbr\\u003ez=%{y}\\u003cbr\\u003ey=%{z}\\u003cextra\\u003e\\u003c\\u002fextra\\u003e\",\"legendgroup\":\"5\",\"line\":{\"color\":\"#EF553B\",\"dash\":\"solid\",\"width\":5},\"marker\":{\"symbol\":\"circle\"},\"mode\":\"lines\",\"name\":\"5\",\"scene\":\"scene\",\"showlegend\":false,\"x\":[17.694031741488892,6.814497725642771],\"y\":[0,150],\"z\":[5.979354376045629,17.389481268006875],\"type\":\"scatter3d\"},{\"hovertemplate\":\"ring=5\\u003cbr\\u003eRing and Wire=Ring: 5 Wire: 14\\u003cbr\\u003ex=%{x}\\u003cbr\\u003ez=%{y}\\u003cbr\\u003ey=%{z}\\u003cextra\\u003e\\u003c\\u002fextra\\u003e\",\"legendgroup\":\"5\",\"line\":{\"color\":\"#EF553B\",\"dash\":\"solid\",\"width\":5},\"marker\":{\"symbol\":\"circle\"},\"mode\":\"lines\",\"name\":\"5\",\"scene\":\"scene\",\"showlegend\":false,\"x\":[17.045538027268687,5.130665867866591],\"y\":[0,150],\"z\":[7.634204043912478,17.9584995413164],\"type\":\"scatter3d\"},{\"hovertemplate\":\"ring=5\\u003cbr\\u003eRing and Wire=Ring: 5 Wire: 15\\u003cbr\\u003ex=%{x}\\u003cbr\\u003ez=%{y}\\u003cbr\\u003ey=%{z}\\u003cextra\\u003e\\u003c\\u002fextra\\u003e\",\"legendgroup\":\"5\",\"line\":{\"color\":\"#EF553B\",\"dash\":\"solid\",\"width\":5},\"marker\":{\"symbol\":\"circle\"},\"mode\":\"lines\",\"name\":\"5\",\"scene\":\"scene\",\"showlegend\":false,\"x\":[16.242677281106673,3.400369905487741],\"y\":[0,150],\"z\":[9.219917177771917,18.36488286183731],\"type\":\"scatter3d\"},{\"hovertemplate\":\"ring=5\\u003cbr\\u003eRing and Wire=Ring: 5 Wire: 16\\u003cbr\\u003ex=%{x}\\u003cbr\\u003ez=%{y}\\u003cbr\\u003ey=%{z}\\u003cextra\\u003e\\u003c\\u002fextra\\u003e\",\"legendgroup\":\"5\",\"line\":{\"color\":\"#EF553B\",\"dash\":\"solid\",\"width\":5},\"marker\":{\"symbol\":\"circle\"},\"mode\":\"lines\",\"name\":\"5\",\"scene\":\"scene\",\"showlegend\":false,\"x\":[15.292720334246155,1.6392796666844909],\"y\":[0,150],\"z\":[10.722133313929957,18.60495095928896],\"type\":\"scatter3d\"},{\"hovertemplate\":\"ring=5\\u003cbr\\u003eRing and Wire=Ring: 5 Wire: 17\\u003cbr\\u003ex=%{x}\\u003cbr\\u003ez=%{y}\\u003cbr\\u003ey=%{z}\\u003cextra\\u003e\\u003c\\u002fextra\\u003e\",\"legendgroup\":\"5\",\"line\":{\"color\":\"#EF553B\",\"dash\":\"solid\",\"width\":5},\"marker\":{\"symbol\":\"circle\"},\"mode\":\"lines\",\"name\":\"5\",\"scene\":\"scene\",\"showlegend\":false,\"x\":[14.20427014390238,-0.1366561426289925],\"y\":[0,150],\"z\":[12.12724815043363,18.676529739805364],\"type\":\"scatter3d\"},{\"hovertemplate\":\"ring=5\\u003cbr\\u003eRing and Wire=Ring: 5 Wire: 18\\u003cbr\\u003ex=%{x}\\u003cbr\\u003ez=%{y}\\u003cbr\\u003ey=%{z}\\u003cextra\\u003e\\u003c\\u002fextra\\u003e\",\"legendgroup\":\"5\",\"line\":{\"color\":\"#EF553B\",\"dash\":\"solid\",\"width\":5},\"marker\":{\"symbol\":\"circle\"},\"mode\":\"lines\",\"name\":\"5\",\"scene\":\"scene\",\"showlegend\":false,\"x\":[12.987183883549775,-1.9113543727530997],\"y\":[0,150],\"z\":[13.422536749736144,18.57897097486591],\"type\":\"scatter3d\"},{\"hovertemplate\":\"ring=5\\u003cbr\\u003eRing and Wire=Ring: 5 Wire: 19\\u003cbr\\u003ex=%{x}\\u003cbr\\u003ez=%{y}\\u003cbr\\u003ey=%{z}\\u003cextra\\u003e\\u003c\\u002fextra\\u003e\",\"legendgroup\":\"5\",\"line\":{\"color\":\"#EF553B\",\"dash\":\"solid\",\"width\":5},\"marker\":{\"symbol\":\"circle\"},\"mode\":\"lines\",\"name\":\"5\",\"scene\":\"scene\",\"showlegend\":false,\"x\":[11.652483674832576,-3.668743081697006],\"y\":[0,150],\"z\":[14.596268777701813,18.313158171753248],\"type\":\"scatter3d\"},{\"hovertemplate\":\"ring=5\\u003cbr\\u003eRing and Wire=Ring: 5 Wire: 20\\u003cbr\\u003ex=%{x}\\u003cbr\\u003ez=%{y}\\u003cbr\\u003ey=%{z}\\u003cextra\\u003e\\u003c\\u002fextra\\u003e\",\"legendgroup\":\"5\",\"line\":{\"color\":\"#EF553B\",\"dash\":\"solid\",\"width\":5},\"marker\":{\"symbol\":\"circle\"},\"mode\":\"lines\",\"name\":\"5\",\"scene\":\"scene\",\"showlegend\":false,\"x\":[10.212256769524352,-5.392907085174146],\"y\":[0,150],\"z\":[15.637814735328481,17.881498572374493],\"type\":\"scatter3d\"},{\"hovertemplate\":\"ring=5\\u003cbr\\u003eRing and Wire=Ring: 5 Wire: 21\\u003cbr\\u003ex=%{x}\\u003cbr\\u003ez=%{y}\\u003cbr\\u003ey=%{z}\\u003cextra\\u003e\\u003c\\u002fextra\\u003e\",\"legendgroup\":\"5\",\"line\":{\"color\":\"#EF553B\",\"dash\":\"solid\",\"width\":5},\"marker\":{\"symbol\":\"circle\"},\"mode\":\"lines\",\"name\":\"5\",\"scene\":\"scene\",\"showlegend\":false,\"x\":[8.679546085504237,-7.068232086975625],\"y\":[0,150],\"z\":[16.53774222113649,17.287901352905756],\"type\":\"scatter3d\"},{\"hovertemplate\":\"ring=5\\u003cbr\\u003eRing and Wire=Ring: 5 Wire: 22\\u003cbr\\u003ex=%{x}\\u003cbr\\u003ez=%{y}\\u003cbr\\u003ey=%{z}\\u003cextra\\u003e\\u003c\\u002fextra\\u003e\",\"legendgroup\":\"5\",\"line\":{\"color\":\"#EF553B\",\"dash\":\"solid\",\"width\":5},\"marker\":{\"symbol\":\"circle\"},\"mode\":\"lines\",\"name\":\"5\",\"scene\":\"scene\",\"showlegend\":false,\"x\":[7.068232088072831,-8.67954608445464],\"y\":[0,150],\"z\":[17.287901352457155,16.537742221687353],\"type\":\"scatter3d\"},{\"hovertemplate\":\"ring=5\\u003cbr\\u003eRing and Wire=Ring: 5 Wire: 23\\u003cbr\\u003ex=%{x}\\u003cbr\\u003ez=%{y}\\u003cbr\\u003ey=%{z}\\u003cextra\\u003e\\u003c\\u002fextra\\u003e\",\"legendgroup\":\"5\",\"line\":{\"color\":\"#EF553B\",\"dash\":\"solid\",\"width\":5},\"marker\":{\"symbol\":\"circle\"},\"mode\":\"lines\",\"name\":\"5\",\"scene\":\"scene\",\"showlegend\":false,\"x\":[5.392907086309027,-10.212256768531871],\"y\":[0,150],\"z\":[17.88149857203222,15.637814735976619],\"type\":\"scatter3d\"},{\"hovertemplate\":\"ring=5\\u003cbr\\u003eRing and Wire=Ring: 5 Wire: 24\\u003cbr\\u003ex=%{x}\\u003cbr\\u003ez=%{y}\\u003cbr\\u003ey=%{z}\\u003cextra\\u003e\\u003c\\u002fextra\\u003e\",\"legendgroup\":\"5\",\"line\":{\"color\":\"#EF553B\",\"dash\":\"solid\",\"width\":5},\"marker\":{\"symbol\":\"circle\"},\"mode\":\"lines\",\"name\":\"5\",\"scene\":\"scene\",\"showlegend\":false,\"x\":[3.6687430828592817,-11.652483673906199],\"y\":[0,150],\"z\":[18.313158171520406,14.596268778441356],\"type\":\"scatter3d\"},{\"hovertemplate\":\"ring=5\\u003cbr\\u003eRing and Wire=Ring: 5 Wire: 25\\u003cbr\\u003ex=%{x}\\u003cbr\\u003ez=%{y}\\u003cbr\\u003ey=%{z}\\u003cextra\\u003e\\u003c\\u002fextra\\u003e\",\"legendgroup\":\"5\",\"line\":{\"color\":\"#EF553B\",\"dash\":\"solid\",\"width\":5},\"marker\":{\"symbol\":\"circle\"},\"mode\":\"lines\",\"name\":\"5\",\"scene\":\"scene\",\"showlegend\":false,\"x\":[1.9113543739322418,-12.987183882697895],\"y\":[0,150],\"z\":[18.578970974744607,13.422536750560397],\"type\":\"scatter3d\"},{\"hovertemplate\":\"ring=5\\u003cbr\\u003eRing and Wire=Ring: 5 Wire: 26\\u003cbr\\u003ex=%{x}\\u003cbr\\u003ez=%{y}\\u003cbr\\u003ey=%{z}\\u003cextra\\u003e\\u003c\\u002fextra\\u003e\",\"legendgroup\":\"5\",\"line\":{\"color\":\"#EF553B\",\"dash\":\"solid\",\"width\":5},\"marker\":{\"symbol\":\"circle\"},\"mode\":\"lines\",\"name\":\"5\",\"scene\":\"scene\",\"showlegend\":false,\"x\":[0.13665614381432611,-14.204270143132705],\"y\":[0,150],\"z\":[18.676529739796692,12.127248151335126],\"type\":\"scatter3d\"},{\"hovertemplate\":\"ring=5\\u003cbr\\u003eRing and Wire=Ring: 5 Wire: 27\\u003cbr\\u003ex=%{x}\\u003cbr\\u003ez=%{y}\\u003cbr\\u003ey=%{z}\\u003cextra\\u003e\\u003c\\u002fextra\\u003e\",\"legendgroup\":\"5\",\"line\":{\"color\":\"#EF553B\",\"dash\":\"solid\",\"width\":5},\"marker\":{\"symbol\":\"circle\"},\"mode\":\"lines\",\"name\":\"5\",\"scene\":\"scene\",\"showlegend\":false,\"x\":[-1.6392796655036923,-15.292720333565654],\"y\":[0,150],\"z\":[18.604950959393,10.722133314900537],\"type\":\"scatter3d\"},{\"hovertemplate\":\"ring=5\\u003cbr\\u003eRing and Wire=Ring: 5 Wire: 28\\u003cbr\\u003ex=%{x}\\u003cbr\\u003ez=%{y}\\u003cbr\\u003ey=%{z}\\u003cextra\\u003e\\u003c\\u002fextra\\u003e\",\"legendgroup\":\"5\",\"line\":{\"color\":\"#EF553B\",\"dash\":\"solid\",\"width\":5},\"marker\":{\"symbol\":\"circle\"},\"mode\":\"lines\",\"name\":\"5\",\"scene\":\"scene\",\"showlegend\":false,\"x\":[-3.400369904322182,-16.242677280521512],\"y\":[0,150],\"z\":[18.364882862053122,9.219917178802786],\"type\":\"scatter3d\"},{\"hovertemplate\":\"ring=5\\u003cbr\\u003eRing and Wire=Ring: 5 Wire: 29\\u003cbr\\u003ex=%{x}\\u003cbr\\u003ez=%{y}\\u003cbr\\u003ey=%{z}\\u003cextra\\u003e\\u003c\\u002fextra\\u003e\",\"legendgroup\":\"5\",\"line\":{\"color\":\"#EF553B\",\"dash\":\"solid\",\"width\":5},\"marker\":{\"symbol\":\"circle\"},\"mode\":\"lines\",\"name\":\"5\",\"scene\":\"scene\",\"showlegend\":false,\"x\":[-5.130665866726822,-17.04553802678417],\"y\":[0,150],\"z\":[17.958499541642023,7.634204044994302],\"type\":\"scatter3d\"},{\"hovertemplate\":\"ring=5\\u003cbr\\u003eRing and Wire=Ring: 5 Wire: 30\\u003cbr\\u003ex=%{x}\\u003cbr\\u003ez=%{y}\\u003cbr\\u003ey=%{z}\\u003cextra\\u003e\\u003c\\u002fextra\\u003e\",\"legendgroup\":\"5\",\"line\":{\"color\":\"#EF553B\",\"dash\":\"solid\",\"width\":5},\"marker\":{\"symbol\":\"circle\"},\"mode\":\"lines\",\"name\":\"5\",\"scene\":\"scene\",\"showlegend\":false,\"x\":[-6.814497724539121,-17.694031741109406],\"y\":[0,150],\"z\":[17.389481268439365,5.979354377168607],\"type\":\"scatter3d\"},{\"hovertemplate\":\"ring=5\\u003cbr\\u003eRing and Wire=Ring: 5 Wire: 31\\u003cbr\\u003ex=%{x}\\u003cbr\\u003ez=%{y}\\u003cbr\\u003ey=%{z}\\u003cextra\\u003e\\u003c\\u002fextra\\u003e\",\"legendgroup\":\"5\",\"line\":{\"color\":\"#EF553B\",\"dash\":\"solid\",\"width\":5},\"marker\":{\"symbol\":\"circle\"},\"mode\":\"lines\",\"name\":\"5\",\"scene\":\"scene\",\"showlegend\":false,\"x\":[-8.43661643570691,-18.182285563998555],\"y\":[0,150],\"z\":[16.662981160041937,4.2703547501773516],\"type\":\"scatter3d\"},{\"hovertemplate\":\"ring=5\\u003cbr\\u003eRing and Wire=Ring: 5 Wire: 32\\u003cbr\\u003ex=%{x}\\u003cbr\\u003ez=%{y}\\u003cbr\\u003ey=%{z}\\u003cextra\\u003e\\u003c\\u002fextra\\u003e\",\"legendgroup\":\"5\",\"line\":{\"color\":\"#EF553B\",\"dash\":\"solid\",\"width\":5},\"marker\":{\"symbol\":\"circle\"},\"mode\":\"lines\",\"name\":\"5\",\"scene\":\"scene\",\"showlegend\":false,\"x\":[-9.982331841990568,-18.50587779322356],\"y\":[0,150],\"z\":[15.785578513932698,2.5226821292876886],\"type\":\"scatter3d\"},{\"hovertemplate\":\"ring=5\\u003cbr\\u003eRing and Wire=Ring: 5 Wire: 33\\u003cbr\\u003ex=%{x}\\u003cbr\\u003ez=%{y}\\u003cbr\\u003ey=%{z}\\u003cextra\\u003e\\u003c\\u002fextra\\u003e\",\"legendgroup\":\"5\",\"line\":{\"color\":\"#EF553B\",\"dash\":\"solid\",\"width\":5},\"marker\":{\"symbol\":\"circle\"},\"mode\":\"lines\",\"name\":\"5\",\"scene\":\"scene\",\"showlegend\":false,\"x\":[-11.437645705310835,-18.66187792744707],\"y\":[0,150],\"z\":[14.76521922434398,0.7521637083882053],\"type\":\"scatter3d\"},{\"hovertemplate\":\"ring=5\\u003cbr\\u003eRing and Wire=Ring: 5 Wire: 34\\u003cbr\\u003ex=%{x}\\u003cbr\\u003ez=%{y}\\u003cbr\\u003ey=%{z}\\u003cextra\\u003e\\u003c\\u002fextra\\u003e\",\"legendgroup\":\"5\",\"line\":{\"color\":\"#EF553B\",\"dash\":\"solid\",\"width\":5},\"marker\":{\"symbol\":\"circle\"},\"mode\":\"lines\",\"name\":\"5\",\"scene\":\"scene\",\"showlegend\":false,\"x\":[-12.789378477960556,-18.648873205296333],\"y\":[0,150],\"z\":[13.611143823008845,-1.0251664235298739],\"type\":\"scatter3d\"},{\"hovertemplate\":\"ring=5\\u003cbr\\u003eRing and Wire=Ring: 5 Wire: 35\\u003cbr\\u003ex=%{x}\\u003cbr\\u003ez=%{y}\\u003cbr\\u003ey=%{z}\\u003cextra\\u003e\\u003c\\u002fextra\\u003e\",\"legendgroup\":\"5\",\"line\":{\"color\":\"#EF553B\",\"dash\":\"solid\",\"width\":5},\"marker\":{\"symbol\":\"circle\"},\"mode\":\"lines\",\"name\":\"5\",\"scene\":\"scene\",\"showlegend\":false,\"x\":[-14.025288658629613,-18.46698139954897],\"y\":[0,150],\"z\":[12.333803795474777,-2.7932124895655175],\"type\":\"scatter3d\"},{\"hovertemplate\":\"ring=5\\u003cbr\\u003eRing and Wire=Ring: 5 Wire: 36\\u003cbr\\u003ex=%{x}\\u003cbr\\u003ez=%{y}\\u003cbr\\u003ey=%{z}\\u003cextra\\u003e\\u003c\\u002fextra\\u003e\",\"legendgroup\":\"5\",\"line\":{\"color\":\"#EF553B\",\"dash\":\"solid\",\"width\":5},\"marker\":{\"symbol\":\"circle\"},\"mode\":\"lines\",\"name\":\"5\",\"scene\":\"scene\",\"showlegend\":false,\"x\":[-15.13418365333644,-18.117849750564485],\"y\":[0,150],\"z\":[10.944766930832131,-4.535962790755994],\"type\":\"scatter3d\"},{\"hovertemplate\":\"ring=5\\u003cbr\\u003eRing and Wire=Ring: 5 Wire: 37\\u003cbr\\u003ex=%{x}\\u003cbr\\u003ez=%{y}\\u003cbr\\u003ey=%{z}\\u003cextra\\u003e\\u003c\\u002fextra\\u003e\",\"legendgroup\":\"5\",\"line\":{\"color\":\"#EF553B\",\"dash\":\"solid\",\"width\":5},\"marker\":{\"symbol\":\"circle\"},\"mode\":\"lines\",\"name\":\"5\",\"scene\":\"scene\",\"showlegend\":false,\"x\":[-16.106021137292338,-17.604640048620446],\"y\":[0,150],\"z\":[9.456612562024777,-6.237634710502178],\"type\":\"scatter3d\"},{\"hovertemplate\":\"ring=5\\u003cbr\\u003eRing and Wire=Ring: 5 Wire: 38\\u003cbr\\u003ex=%{x}\\u003cbr\\u003ez=%{y}\\u003cbr\\u003ey=%{z}\\u003cextra\\u003e\\u003c\\u002fextra\\u003e\",\"legendgroup\":\"5\",\"line\":{\"color\":\"#EF553B\",\"dash\":\"solid\",\"width\":5},\"marker\":{\"symbol\":\"circle\"},\"mode\":\"lines\",\"name\":\"5\",\"scene\":\"scene\",\"showlegend\":false,\"x\":[-16.93199999974985,-16.93200000025015],\"y\":[0,150],\"z\":[7.882817645463044,-7.882817644388425],\"type\":\"scatter3d\"},{\"hovertemplate\":\"ring=5\\u003cbr\\u003eRing and Wire=Ring: 5 Wire: 39\\u003cbr\\u003ex=%{x}\\u003cbr\\u003ez=%{y}\\u003cbr\\u003ey=%{z}\\u003cextra\\u003e\\u003c\\u002fextra\\u003e\",\"legendgroup\":\"5\",\"line\":{\"color\":\"#EF553B\",\"dash\":\"solid\",\"width\":5},\"marker\":{\"symbol\":\"circle\"},\"mode\":\"lines\",\"name\":\"5\",\"scene\":\"scene\",\"showlegend\":false,\"x\":[-17.604640048224564,-16.106021137892522],\"y\":[0,150],\"z\":[6.237634711619489,-9.45661256100258],\"type\":\"scatter3d\"},{\"hovertemplate\":\"ring=5\\u003cbr\\u003eRing and Wire=Ring: 5 Wire: 40\\u003cbr\\u003ex=%{x}\\u003cbr\\u003ez=%{y}\\u003cbr\\u003ey=%{z}\\u003cextra\\u003e\\u003c\\u002fextra\\u003e\",\"legendgroup\":\"5\",\"line\":{\"color\":\"#EF553B\",\"dash\":\"solid\",\"width\":5},\"marker\":{\"symbol\":\"circle\"},\"mode\":\"lines\",\"name\":\"5\",\"scene\":\"scene\",\"showlegend\":false,\"x\":[-18.1178497502766,-15.134183654031073],\"y\":[0,150],\"z\":[4.5359627919058845,-10.944766929871607],\"type\":\"scatter3d\"},{\"hovertemplate\":\"ring=5\\u003cbr\\u003eRing and Wire=Ring: 5 Wire: 41\\u003cbr\\u003ex=%{x}\\u003cbr\\u003ez=%{y}\\u003cbr\\u003ey=%{z}\\u003cextra\\u003e\\u003c\\u002fextra\\u003e\",\"legendgroup\":\"5\",\"line\":{\"color\":\"#EF553B\",\"dash\":\"solid\",\"width\":5},\"marker\":{\"symbol\":\"circle\"},\"mode\":\"lines\",\"name\":\"5\",\"scene\":\"scene\",\"showlegend\":false,\"x\":[-18.466981399371694,-14.0252886594124],\"y\":[0,150],\"z\":[2.7932124907375586,-12.333803794584636],\"type\":\"scatter3d\"},{\"hovertemplate\":\"ring=5\\u003cbr\\u003eRing and Wire=Ring: 5 Wire: 42\\u003cbr\\u003ex=%{x}\\u003cbr\\u003ez=%{y}\\u003cbr\\u003ey=%{z}\\u003cextra\\u003e\\u003c\\u002fextra\\u003e\",\"legendgroup\":\"5\",\"line\":{\"color\":\"#EF553B\",\"dash\":\"solid\",\"width\":5},\"marker\":{\"symbol\":\"circle\"},\"mode\":\"lines\",\"name\":\"5\",\"scene\":\"scene\",\"showlegend\":false,\"x\":[-18.64887320523127,-12.789378478824412],\"y\":[0,150],\"z\":[1.0251664247134586,-13.611143822197143],\"type\":\"scatter3d\"},{\"hovertemplate\":\"ring=5\\u003cbr\\u003eRing and Wire=Ring: 5 Wire: 43\\u003cbr\\u003ex=%{x}\\u003cbr\\u003ez=%{y}\\u003cbr\\u003ey=%{z}\\u003cextra\\u003e\\u003c\\u002fextra\\u003e\",\"legendgroup\":\"5\",\"line\":{\"color\":\"#EF553B\",\"dash\":\"solid\",\"width\":5},\"marker\":{\"symbol\":\"circle\"},\"mode\":\"lines\",\"name\":\"5\",\"scene\":\"scene\",\"showlegend\":false,\"x\":[-18.661877927494807,-11.437645706247938],\"y\":[0,150],\"z\":[-0.7521637072037963,-14.765219223618068],\"type\":\"scatter3d\"},{\"hovertemplate\":\"ring=5\\u003cbr\\u003eRing and Wire=Ring: 5 Wire: 44\\u003cbr\\u003ex=%{x}\\u003cbr\\u003ez=%{y}\\u003cbr\\u003ey=%{z}\\u003cextra\\u003e\\u003c\\u002fextra\\u003e\",\"legendgroup\":\"5\",\"line\":{\"color\":\"#EF553B\",\"dash\":\"solid\",\"width\":5},\"marker\":{\"symbol\":\"circle\"},\"mode\":\"lines\",\"name\":\"5\",\"scene\":\"scene\",\"showlegend\":false,\"x\":[-18.505877793383668,-9.98233184299243],\"y\":[0,150],\"z\":[-2.5226821281131784,-15.78557851329915],\"type\":\"scatter3d\"},{\"hovertemplate\":\"ring=5\\u003cbr\\u003eRing and Wire=Ring: 5 Wire: 45\\u003cbr\\u003ex=%{x}\\u003cbr\\u003ez=%{y}\\u003cbr\\u003ey=%{z}\\u003cextra\\u003e\\u003c\\u002fextra\\u003e\",\"legendgroup\":\"5\",\"line\":{\"color\":\"#EF553B\",\"dash\":\"solid\",\"width\":5},\"marker\":{\"symbol\":\"circle\"},\"mode\":\"lines\",\"name\":\"5\",\"scene\":\"scene\",\"showlegend\":false,\"x\":[-18.18228556426958,-8.436616436764464],\"y\":[0,150],\"z\":[-4.2703547490233715,-16.662981159506487],\"type\":\"scatter3d\"},{\"hovertemplate\":\"ring=5\\u003cbr\\u003eRing and Wire=Ring: 5 Wire: 46\\u003cbr\\u003ex=%{x}\\u003cbr\\u003ez=%{y}\\u003cbr\\u003ey=%{z}\\u003cextra\\u003e\\u003c\\u002fextra\\u003e\",\"legendgroup\":\"5\",\"line\":{\"color\":\"#EF553B\",\"dash\":\"solid\",\"width\":5},\"marker\":{\"symbol\":\"circle\"},\"mode\":\"lines\",\"name\":\"5\",\"scene\":\"scene\",\"showlegend\":false,\"x\":[-17.694031741488892,-6.81449772564277],\"y\":[0,150],\"z\":[-5.979354376045631,-17.389481268006875],\"type\":\"scatter3d\"},{\"hovertemplate\":\"ring=5\\u003cbr\\u003eRing and Wire=Ring: 5 Wire: 47\\u003cbr\\u003ex=%{x}\\u003cbr\\u003ez=%{y}\\u003cbr\\u003ey=%{z}\\u003cextra\\u003e\\u003c\\u002fextra\\u003e\",\"legendgroup\":\"5\",\"line\":{\"color\":\"#EF553B\",\"dash\":\"solid\",\"width\":5},\"marker\":{\"symbol\":\"circle\"},\"mode\":\"lines\",\"name\":\"5\",\"scene\":\"scene\",\"showlegend\":false,\"x\":[-17.045538027268684,-5.1306658678665915],\"y\":[0,150],\"z\":[-7.634204043912476,-17.958499541316396],\"type\":\"scatter3d\"},{\"hovertemplate\":\"ring=5\\u003cbr\\u003eRing and Wire=Ring: 5 Wire: 48\\u003cbr\\u003ex=%{x}\\u003cbr\\u003ez=%{y}\\u003cbr\\u003ey=%{z}\\u003cextra\\u003e\\u003c\\u002fextra\\u003e\",\"legendgroup\":\"5\",\"line\":{\"color\":\"#EF553B\",\"dash\":\"solid\",\"width\":5},\"marker\":{\"symbol\":\"circle\"},\"mode\":\"lines\",\"name\":\"5\",\"scene\":\"scene\",\"showlegend\":false,\"x\":[-16.242677281106676,-3.400369905487751],\"y\":[0,150],\"z\":[-9.219917177771908,-18.36488286183731],\"type\":\"scatter3d\"},{\"hovertemplate\":\"ring=5\\u003cbr\\u003eRing and Wire=Ring: 5 Wire: 49\\u003cbr\\u003ex=%{x}\\u003cbr\\u003ez=%{y}\\u003cbr\\u003ey=%{z}\\u003cextra\\u003e\\u003c\\u002fextra\\u003e\",\"legendgroup\":\"5\",\"line\":{\"color\":\"#EF553B\",\"dash\":\"solid\",\"width\":5},\"marker\":{\"symbol\":\"circle\"},\"mode\":\"lines\",\"name\":\"5\",\"scene\":\"scene\",\"showlegend\":false,\"x\":[-15.292720334246154,-1.639279666684489],\"y\":[0,150],\"z\":[-10.722133313929959,-18.60495095928896],\"type\":\"scatter3d\"},{\"hovertemplate\":\"ring=5\\u003cbr\\u003eRing and Wire=Ring: 5 Wire: 50\\u003cbr\\u003ex=%{x}\\u003cbr\\u003ez=%{y}\\u003cbr\\u003ey=%{z}\\u003cextra\\u003e\\u003c\\u002fextra\\u003e\",\"legendgroup\":\"5\",\"line\":{\"color\":\"#EF553B\",\"dash\":\"solid\",\"width\":5},\"marker\":{\"symbol\":\"circle\"},\"mode\":\"lines\",\"name\":\"5\",\"scene\":\"scene\",\"showlegend\":false,\"x\":[-14.204270143902384,0.13665614262898718],\"y\":[0,150],\"z\":[-12.127248150433626,-18.676529739805364],\"type\":\"scatter3d\"},{\"hovertemplate\":\"ring=5\\u003cbr\\u003eRing and Wire=Ring: 5 Wire: 51\\u003cbr\\u003ex=%{x}\\u003cbr\\u003ez=%{y}\\u003cbr\\u003ey=%{z}\\u003cextra\\u003e\\u003c\\u002fextra\\u003e\",\"legendgroup\":\"5\",\"line\":{\"color\":\"#EF553B\",\"dash\":\"solid\",\"width\":5},\"marker\":{\"symbol\":\"circle\"},\"mode\":\"lines\",\"name\":\"5\",\"scene\":\"scene\",\"showlegend\":false,\"x\":[-12.987183883549775,1.9113543727531024],\"y\":[0,150],\"z\":[-13.42253674973615,-18.578970974865914],\"type\":\"scatter3d\"},{\"hovertemplate\":\"ring=5\\u003cbr\\u003eRing and Wire=Ring: 5 Wire: 52\\u003cbr\\u003ex=%{x}\\u003cbr\\u003ez=%{y}\\u003cbr\\u003ey=%{z}\\u003cextra\\u003e\\u003c\\u002fextra\\u003e\",\"legendgroup\":\"5\",\"line\":{\"color\":\"#EF553B\",\"dash\":\"solid\",\"width\":5},\"marker\":{\"symbol\":\"circle\"},\"mode\":\"lines\",\"name\":\"5\",\"scene\":\"scene\",\"showlegend\":false,\"x\":[-11.652483674832578,3.668743081697003],\"y\":[0,150],\"z\":[-14.59626877770181,-18.313158171753248],\"type\":\"scatter3d\"},{\"hovertemplate\":\"ring=5\\u003cbr\\u003eRing and Wire=Ring: 5 Wire: 53\\u003cbr\\u003ex=%{x}\\u003cbr\\u003ez=%{y}\\u003cbr\\u003ey=%{z}\\u003cextra\\u003e\\u003c\\u002fextra\\u003e\",\"legendgroup\":\"5\",\"line\":{\"color\":\"#EF553B\",\"dash\":\"solid\",\"width\":5},\"marker\":{\"symbol\":\"circle\"},\"mode\":\"lines\",\"name\":\"5\",\"scene\":\"scene\",\"showlegend\":false,\"x\":[-10.212256769524359,5.392907085174136],\"y\":[0,150],\"z\":[-15.637814735328472,-17.881498572374493],\"type\":\"scatter3d\"},{\"hovertemplate\":\"ring=5\\u003cbr\\u003eRing and Wire=Ring: 5 Wire: 54\\u003cbr\\u003ex=%{x}\\u003cbr\\u003ez=%{y}\\u003cbr\\u003ey=%{z}\\u003cextra\\u003e\\u003c\\u002fextra\\u003e\",\"legendgroup\":\"5\",\"line\":{\"color\":\"#EF553B\",\"dash\":\"solid\",\"width\":5},\"marker\":{\"symbol\":\"circle\"},\"mode\":\"lines\",\"name\":\"5\",\"scene\":\"scene\",\"showlegend\":false,\"x\":[-8.679546085504235,7.068232086975627],\"y\":[0,150],\"z\":[-16.53774222113649,-17.287901352905756],\"type\":\"scatter3d\"},{\"hovertemplate\":\"ring=5\\u003cbr\\u003eRing and Wire=Ring: 5 Wire: 55\\u003cbr\\u003ex=%{x}\\u003cbr\\u003ez=%{y}\\u003cbr\\u003ey=%{z}\\u003cextra\\u003e\\u003c\\u002fextra\\u003e\",\"legendgroup\":\"5\",\"line\":{\"color\":\"#EF553B\",\"dash\":\"solid\",\"width\":5},\"marker\":{\"symbol\":\"circle\"},\"mode\":\"lines\",\"name\":\"5\",\"scene\":\"scene\",\"showlegend\":false,\"x\":[-7.068232088072838,8.679546084454635],\"y\":[0,150],\"z\":[-17.28790135245716,-16.537742221687356],\"type\":\"scatter3d\"},{\"hovertemplate\":\"ring=5\\u003cbr\\u003eRing and Wire=Ring: 5 Wire: 56\\u003cbr\\u003ex=%{x}\\u003cbr\\u003ez=%{y}\\u003cbr\\u003ey=%{z}\\u003cextra\\u003e\\u003c\\u002fextra\\u003e\",\"legendgroup\":\"5\",\"line\":{\"color\":\"#EF553B\",\"dash\":\"solid\",\"width\":5},\"marker\":{\"symbol\":\"circle\"},\"mode\":\"lines\",\"name\":\"5\",\"scene\":\"scene\",\"showlegend\":false,\"x\":[-5.392907086309037,10.212256768531862],\"y\":[0,150],\"z\":[-17.881498572032218,-15.637814735976622],\"type\":\"scatter3d\"},{\"hovertemplate\":\"ring=5\\u003cbr\\u003eRing and Wire=Ring: 5 Wire: 57\\u003cbr\\u003ex=%{x}\\u003cbr\\u003ez=%{y}\\u003cbr\\u003ey=%{z}\\u003cextra\\u003e\\u003c\\u002fextra\\u003e\",\"legendgroup\":\"5\",\"line\":{\"color\":\"#EF553B\",\"dash\":\"solid\",\"width\":5},\"marker\":{\"symbol\":\"circle\"},\"mode\":\"lines\",\"name\":\"5\",\"scene\":\"scene\",\"showlegend\":false,\"x\":[-3.6687430828592835,11.652483673906197],\"y\":[0,150],\"z\":[-18.313158171520406,-14.596268778441358],\"type\":\"scatter3d\"},{\"hovertemplate\":\"ring=5\\u003cbr\\u003eRing and Wire=Ring: 5 Wire: 58\\u003cbr\\u003ex=%{x}\\u003cbr\\u003ez=%{y}\\u003cbr\\u003ey=%{z}\\u003cextra\\u003e\\u003c\\u002fextra\\u003e\",\"legendgroup\":\"5\",\"line\":{\"color\":\"#EF553B\",\"dash\":\"solid\",\"width\":5},\"marker\":{\"symbol\":\"circle\"},\"mode\":\"lines\",\"name\":\"5\",\"scene\":\"scene\",\"showlegend\":false,\"x\":[-1.9113543739322534,12.987183882697888],\"y\":[0,150],\"z\":[-18.578970974744607,-13.422536750560404],\"type\":\"scatter3d\"},{\"hovertemplate\":\"ring=5\\u003cbr\\u003eRing and Wire=Ring: 5 Wire: 59\\u003cbr\\u003ex=%{x}\\u003cbr\\u003ez=%{y}\\u003cbr\\u003ey=%{z}\\u003cextra\\u003e\\u003c\\u002fextra\\u003e\",\"legendgroup\":\"5\",\"line\":{\"color\":\"#EF553B\",\"dash\":\"solid\",\"width\":5},\"marker\":{\"symbol\":\"circle\"},\"mode\":\"lines\",\"name\":\"5\",\"scene\":\"scene\",\"showlegend\":false,\"x\":[-0.13665614381432878,14.204270143132703],\"y\":[0,150],\"z\":[-18.676529739796692,-12.127248151335127],\"type\":\"scatter3d\"},{\"hovertemplate\":\"ring=5\\u003cbr\\u003eRing and Wire=Ring: 5 Wire: 60\\u003cbr\\u003ex=%{x}\\u003cbr\\u003ez=%{y}\\u003cbr\\u003ey=%{z}\\u003cextra\\u003e\\u003c\\u002fextra\\u003e\",\"legendgroup\":\"5\",\"line\":{\"color\":\"#EF553B\",\"dash\":\"solid\",\"width\":5},\"marker\":{\"symbol\":\"circle\"},\"mode\":\"lines\",\"name\":\"5\",\"scene\":\"scene\",\"showlegend\":false,\"x\":[1.6392796655036896,15.292720333565654],\"y\":[0,150],\"z\":[-18.604950959393,-10.722133314900539],\"type\":\"scatter3d\"},{\"hovertemplate\":\"ring=5\\u003cbr\\u003eRing and Wire=Ring: 5 Wire: 61\\u003cbr\\u003ex=%{x}\\u003cbr\\u003ez=%{y}\\u003cbr\\u003ey=%{z}\\u003cextra\\u003e\\u003c\\u002fextra\\u003e\",\"legendgroup\":\"5\",\"line\":{\"color\":\"#EF553B\",\"dash\":\"solid\",\"width\":5},\"marker\":{\"symbol\":\"circle\"},\"mode\":\"lines\",\"name\":\"5\",\"scene\":\"scene\",\"showlegend\":false,\"x\":[3.4003699043221705,16.242677280521505],\"y\":[0,150],\"z\":[-18.364882862053122,-9.219917178802795],\"type\":\"scatter3d\"},{\"hovertemplate\":\"ring=5\\u003cbr\\u003eRing and Wire=Ring: 5 Wire: 62\\u003cbr\\u003ex=%{x}\\u003cbr\\u003ez=%{y}\\u003cbr\\u003ey=%{z}\\u003cextra\\u003e\\u003c\\u002fextra\\u003e\",\"legendgroup\":\"5\",\"line\":{\"color\":\"#EF553B\",\"dash\":\"solid\",\"width\":5},\"marker\":{\"symbol\":\"circle\"},\"mode\":\"lines\",\"name\":\"5\",\"scene\":\"scene\",\"showlegend\":false,\"x\":[5.13066586672682,17.04553802678417],\"y\":[0,150],\"z\":[-17.958499541642023,-7.634204044994305],\"type\":\"scatter3d\"},{\"hovertemplate\":\"ring=5\\u003cbr\\u003eRing and Wire=Ring: 5 Wire: 63\\u003cbr\\u003ex=%{x}\\u003cbr\\u003ez=%{y}\\u003cbr\\u003ey=%{z}\\u003cextra\\u003e\\u003c\\u002fextra\\u003e\",\"legendgroup\":\"5\",\"line\":{\"color\":\"#EF553B\",\"dash\":\"solid\",\"width\":5},\"marker\":{\"symbol\":\"circle\"},\"mode\":\"lines\",\"name\":\"5\",\"scene\":\"scene\",\"showlegend\":false,\"x\":[6.814497724539113,17.694031741109402],\"y\":[0,150],\"z\":[-17.38948126843937,-5.979354377168617],\"type\":\"scatter3d\"},{\"hovertemplate\":\"ring=5\\u003cbr\\u003eRing and Wire=Ring: 5 Wire: 64\\u003cbr\\u003ex=%{x}\\u003cbr\\u003ez=%{y}\\u003cbr\\u003ey=%{z}\\u003cextra\\u003e\\u003c\\u002fextra\\u003e\",\"legendgroup\":\"5\",\"line\":{\"color\":\"#EF553B\",\"dash\":\"solid\",\"width\":5},\"marker\":{\"symbol\":\"circle\"},\"mode\":\"lines\",\"name\":\"5\",\"scene\":\"scene\",\"showlegend\":false,\"x\":[8.436616435706917,18.182285563998555],\"y\":[0,150],\"z\":[-16.662981160041934,-4.2703547501773444],\"type\":\"scatter3d\"},{\"hovertemplate\":\"ring=5\\u003cbr\\u003eRing and Wire=Ring: 5 Wire: 65\\u003cbr\\u003ex=%{x}\\u003cbr\\u003ez=%{y}\\u003cbr\\u003ey=%{z}\\u003cextra\\u003e\\u003c\\u002fextra\\u003e\",\"legendgroup\":\"5\",\"line\":{\"color\":\"#EF553B\",\"dash\":\"solid\",\"width\":5},\"marker\":{\"symbol\":\"circle\"},\"mode\":\"lines\",\"name\":\"5\",\"scene\":\"scene\",\"showlegend\":false,\"x\":[9.982331841990568,18.50587779322356],\"y\":[0,150],\"z\":[-15.785578513932698,-2.5226821292876904],\"type\":\"scatter3d\"},{\"hovertemplate\":\"ring=5\\u003cbr\\u003eRing and Wire=Ring: 5 Wire: 66\\u003cbr\\u003ex=%{x}\\u003cbr\\u003ez=%{y}\\u003cbr\\u003ey=%{z}\\u003cextra\\u003e\\u003c\\u002fextra\\u003e\",\"legendgroup\":\"5\",\"line\":{\"color\":\"#EF553B\",\"dash\":\"solid\",\"width\":5},\"marker\":{\"symbol\":\"circle\"},\"mode\":\"lines\",\"name\":\"5\",\"scene\":\"scene\",\"showlegend\":false,\"x\":[11.437645705310828,18.66187792744707],\"y\":[0,150],\"z\":[-14.765219224343987,-0.752163708388216],\"type\":\"scatter3d\"},{\"hovertemplate\":\"ring=6\\u003cbr\\u003eRing and Wire=Ring: 6 Wire: 1\\u003cbr\\u003ex=%{x}\\u003cbr\\u003ez=%{y}\\u003cbr\\u003ey=%{z}\\u003cextra\\u003e\\u003c\\u002fextra\\u003e\",\"legendgroup\":\"6\",\"line\":{\"color\":\"#00cc96\",\"dash\":\"solid\",\"width\":5},\"marker\":{\"symbol\":\"circle\"},\"mode\":\"lines\",\"name\":\"6\",\"scene\":\"scene\",\"showlegend\":true,\"x\":[13.113317714469108,20.195048153563615],\"y\":[0,150],\"z\":[-15.359124007661903,0.1477221668954556],\"type\":\"scatter3d\"},{\"hovertemplate\":\"ring=6\\u003cbr\\u003eRing and Wire=Ring: 6 Wire: 2\\u003cbr\\u003ex=%{x}\\u003cbr\\u003ez=%{y}\\u003cbr\\u003ey=%{z}\\u003cextra\\u003e\\u003c\\u002fextra\\u003e\",\"legendgroup\":\"6\",\"line\":{\"color\":\"#00cc96\",\"dash\":\"solid\",\"width\":5},\"marker\":{\"symbol\":\"circle\"},\"mode\":\"lines\",\"name\":\"6\",\"scene\":\"scene\",\"showlegend\":false,\"x\":[14.513917153320872,20.089561527190593],\"y\":[0,150],\"z\":[-14.043076608417536,2.066714641301279],\"type\":\"scatter3d\"},{\"hovertemplate\":\"ring=6\\u003cbr\\u003eRing and Wire=Ring: 6 Wire: 3\\u003cbr\\u003ex=%{x}\\u003cbr\\u003ez=%{y}\\u003cbr\\u003ey=%{z}\\u003cextra\\u003e\\u003c\\u002fextra\\u003e\",\"legendgroup\":\"6\",\"line\":{\"color\":\"#00cc96\",\"dash\":\"solid\",\"width\":5},\"marker\":{\"symbol\":\"circle\"},\"mode\":\"lines\",\"name\":\"6\",\"scene\":\"scene\",\"showlegend\":false,\"x\":[15.783076310896494,19.802140720681773],\"y\":[0,150],\"z\":[-12.599852932783126,3.966990627876797],\"type\":\"scatter3d\"},{\"hovertemplate\":\"ring=6\\u003cbr\\u003eRing and Wire=Ring: 6 Wire: 4\\u003cbr\\u003ex=%{x}\\u003cbr\\u003ez=%{y}\\u003cbr\\u003ey=%{z}\\u003cextra\\u003e\\u003c\\u002fextra\\u003e\",\"legendgroup\":\"6\",\"line\":{\"color\":\"#00cc96\",\"dash\":\"solid\",\"width\":5},\"marker\":{\"symbol\":\"circle\"},\"mode\":\"lines\",\"name\":\"6\",\"scene\":\"scene\",\"showlegend\":false,\"x\":[16.909301485330804,19.335388661369105],\"y\":[0,150],\"z\":[-11.042523037853941,5.8313409330225685],\"type\":\"scatter3d\"},{\"hovertemplate\":\"ring=6\\u003cbr\\u003eRing and Wire=Ring: 6 Wire: 5\\u003cbr\\u003ex=%{x}\\u003cbr\\u003ez=%{y}\\u003cbr\\u003ey=%{z}\\u003cextra\\u003e\\u003c\\u002fextra\\u003e\",\"legendgroup\":\"6\",\"line\":{\"color\":\"#00cc96\",\"dash\":\"solid\",\"width\":5},\"marker\":{\"symbol\":\"circle\"},\"mode\":\"lines\",\"name\":\"6\",\"scene\":\"scene\",\"showlegend\":false,\"x\":[17.882393407043846,18.69353232818008],\"y\":[0,150],\"z\":[-9.385190344316957,7.642881711673405],\"type\":\"scatter3d\"},{\"hovertemplate\":\"ring=6\\u003cbr\\u003eRing and Wire=Ring: 6 Wire: 6\\u003cbr\\u003ex=%{x}\\u003cbr\\u003ez=%{y}\\u003cbr\\u003ey=%{z}\\u003cextra\\u003e\\u003c\\u002fextra\\u003e\",\"legendgroup\":\"6\",\"line\":{\"color\":\"#00cc96\",\"dash\":\"solid\",\"width\":5},\"marker\":{\"symbol\":\"circle\"},\"mode\":\"lines\",\"name\":\"6\",\"scene\":\"scene\",\"showlegend\":false,\"x\":[18.69353960490558,17.88238447146196],\"y\":[0,150],\"z\":[-7.642863913689159,9.385207370013815],\"type\":\"scatter3d\"},{\"hovertemplate\":\"ring=6\\u003cbr\\u003eRing and Wire=Ring: 6 Wire: 7\\u003cbr\\u003ex=%{x}\\u003cbr\\u003ez=%{y}\\u003cbr\\u003ey=%{z}\\u003cextra\\u003e\\u003c\\u002fextra\\u003e\",\"legendgroup\":\"6\",\"line\":{\"color\":\"#00cc96\",\"dash\":\"solid\",\"width\":5},\"marker\":{\"symbol\":\"circle\"},\"mode\":\"lines\",\"name\":\"6\",\"scene\":\"scene\",\"showlegend\":false,\"x\":[19.335394213339075,16.909290971814546],\"y\":[0,150],\"z\":[-5.83132252393224,11.04253913707607],\"type\":\"scatter3d\"},{\"hovertemplate\":\"ring=6\\u003cbr\\u003eRing and Wire=Ring: 6 Wire: 8\\u003cbr\\u003ex=%{x}\\u003cbr\\u003ez=%{y}\\u003cbr\\u003ey=%{z}\\u003cextra\\u003e\\u003c\\u002fextra\\u003e\",\"legendgroup\":\"6\",\"line\":{\"color\":\"#00cc96\",\"dash\":\"solid\",\"width\":5},\"marker\":{\"symbol\":\"circle\"},\"mode\":\"lines\",\"name\":\"6\",\"scene\":\"scene\",\"showlegend\":false,\"x\":[19.8021444976167,15.783064314657889],\"y\":[0,150],\"z\":[-3.9669717743959554,12.599867959733473],\"type\":\"scatter3d\"},{\"hovertemplate\":\"ring=6\\u003cbr\\u003eRing and Wire=Ring: 6 Wire: 9\\u003cbr\\u003ex=%{x}\\u003cbr\\u003ez=%{y}\\u003cbr\\u003ey=%{z}\\u003cextra\\u003e\\u003c\\u002fextra\\u003e\",\"legendgroup\":\"6\",\"line\":{\"color\":\"#00cc96\",\"dash\":\"solid\",\"width\":5},\"marker\":{\"symbol\":\"circle\"},\"mode\":\"lines\",\"name\":\"6\",\"scene\":\"scene\",\"showlegend\":false,\"x\":[20.08956349488598,14.513903782999728],\"y\":[0,150],\"z\":[-2.066695514169968,14.043090427009709],\"type\":\"scatter3d\"},{\"hovertemplate\":\"ring=6\\u003cbr\\u003eRing and Wire=Ring: 6 Wire: 10\\u003cbr\\u003ex=%{x}\\u003cbr\\u003ez=%{y}\\u003cbr\\u003ey=%{z}\\u003cextra\\u003e\\u003c\\u002fextra\\u003e\",\"legendgroup\":\"6\",\"line\":{\"color\":\"#00cc96\",\"dash\":\"solid\",\"width\":5},\"marker\":{\"symbol\":\"circle\"},\"mode\":\"lines\",\"name\":\"6\",\"scene\":\"scene\",\"showlegend\":false,\"x\":[20.1950482941997,13.113303091149119],\"y\":[0,150],\"z\":[-0.1477029393319409,15.359136492752597],\"type\":\"scatter3d\"},{\"hovertemplate\":\"ring=6\\u003cbr\\u003eRing and Wire=Ring: 6 Wire: 11\\u003cbr\\u003ex=%{x}\\u003cbr\\u003ez=%{y}\\u003cbr\\u003ey=%{z}\\u003cextra\\u003e\\u003c\\u002fextra\\u003e\",\"legendgroup\":\"6\",\"line\":{\"color\":\"#00cc96\",\"dash\":\"solid\",\"width\":5},\"marker\":{\"symbol\":\"circle\"},\"mode\":\"lines\",\"name\":\"6\",\"scene\":\"scene\",\"showlegend\":false,\"x\":[20.11764360888056,11.59394629585984],\"y\":[0,150],\"z\":[1.7726272561970458,16.536087839995993],\"type\":\"scatter3d\"},{\"hovertemplate\":\"ring=6\\u003cbr\\u003eRing and Wire=Ring: 6 Wire: 12\\u003cbr\\u003ex=%{x}\\u003cbr\\u003ez=%{y}\\u003cbr\\u003ey=%{z}\\u003cextra\\u003e\\u003c\\u002fextra\\u003e\",\"legendgroup\":\"6\",\"line\":{\"color\":\"#00cc96\",\"dash\":\"solid\",\"width\":5},\"marker\":{\"symbol\":\"circle\"},\"mode\":\"lines\",\"name\":\"6\",\"scene\":\"scene\",\"showlegend\":false,\"x\":[19.85805042774522,9.969592927548263],\"y\":[0,150],\"z\":[3.6769042647957884,17.56328581508384],\"type\":\"scatter3d\"},{\"hovertemplate\":\"ring=6\\u003cbr\\u003eRing and Wire=Ring: 6 Wire: 13\\u003cbr\\u003ex=%{x}\\u003cbr\\u003ez=%{y}\\u003cbr\\u003ey=%{z}\\u003cextra\\u003e\\u003c\\u002fextra\\u003e\",\"legendgroup\":\"6\",\"line\":{\"color\":\"#00cc96\",\"dash\":\"solid\",\"width\":5},\"marker\":{\"symbol\":\"circle\"},\"mode\":\"lines\",\"name\":\"6\",\"scene\":\"scene\",\"showlegend\":false,\"x\":[19.418619666841035,8.254953381855149],\"y\":[0,150],\"z\":[5.54788265898983,18.431427954088196],\"type\":\"scatter3d\"},{\"hovertemplate\":\"ring=6\\u003cbr\\u003eRing and Wire=Ring: 6 Wire: 14\\u003cbr\\u003ex=%{x}\\u003cbr\\u003ez=%{y}\\u003cbr\\u003ey=%{z}\\u003cextra\\u003e\\u003c\\u002fextra\\u003e\",\"legendgroup\":\"6\",\"line\":{\"color\":\"#00cc96\",\"dash\":\"solid\",\"width\":5},\"marker\":{\"symbol\":\"circle\"},\"mode\":\"lines\",\"name\":\"6\",\"scene\":\"scene\",\"showlegend\":false,\"x\":[18.803330879186294,6.4655557000248],\"y\":[0,150],\"z\":[7.368618568713175,19.132652227363103],\"type\":\"scatter3d\"},{\"hovertemplate\":\"ring=6\\u003cbr\\u003eRing and Wire=Ring: 6 Wire: 15\\u003cbr\\u003ex=%{x}\\u003cbr\\u003ez=%{y}\\u003cbr\\u003ey=%{z}\\u003cextra\\u003e\\u003c\\u002fextra\\u003e\",\"legendgroup\":\"6\",\"line\":{\"color\":\"#00cc96\",\"dash\":\"solid\",\"width\":5},\"marker\":{\"symbol\":\"circle\"},\"mode\":\"lines\",\"name\":\"6\",\"scene\":\"scene\",\"showlegend\":false,\"x\":[18.01775621532183,4.61760494455896],\"y\":[0,150],\"z\":[9.122623127619445,19.66060823930252],\"type\":\"scatter3d\"},{\"hovertemplate\":\"ring=6\\u003cbr\\u003eRing and Wire=Ring: 6 Wire: 16\\u003cbr\\u003ex=%{x}\\u003cbr\\u003ez=%{y}\\u003cbr\\u003ey=%{z}\\u003cextra\\u003e\\u003c\\u002fextra\\u003e\",\"legendgroup\":\"6\",\"line\":{\"color\":\"#00cc96\",\"dash\":\"solid\",\"width\":5},\"marker\":{\"symbol\":\"circle\"},\"mode\":\"lines\",\"name\":\"6\",\"scene\":\"scene\",\"showlegend\":false,\"x\":[17.069009961052835,2.7278364436613796],\"y\":[0,150],\"z\":[10.794011798808853,20.010514738506313],\"type\":\"scatter3d\"},{\"hovertemplate\":\"ring=6\\u003cbr\\u003eRing and Wire=Ring: 6 Wire: 17\\u003cbr\\u003ex=%{x}\\u003cbr\\u003ez=%{y}\\u003cbr\\u003ey=%{z}\\u003cextra\\u003e\\u003c\\u002fextra\\u003e\",\"legendgroup\":\"6\",\"line\":{\"color\":\"#00cc96\",\"dash\":\"solid\",\"width\":5},\"marker\":{\"symbol\":\"circle\"},\"mode\":\"lines\",\"name\":\"6\",\"scene\":\"scene\",\"showlegend\":false,\"x\":[15.965684109374962,0.8133642335140783],\"y\":[0,150],\"z\":[12.367648227654168,20.179202917533328],\"type\":\"scatter3d\"},{\"hovertemplate\":\"ring=6\\u003cbr\\u003eRing and Wire=Ring: 6 Wire: 18\\u003cbr\\u003ex=%{x}\\u003cbr\\u003ez=%{y}\\u003cbr\\u003ey=%{z}\\u003cextra\\u003e\\u003c\\u002fextra\\u003e\",\"legendgroup\":\"6\",\"line\":{\"color\":\"#00cc96\",\"dash\":\"solid\",\"width\":5},\"marker\":{\"symbol\":\"circle\"},\"mode\":\"lines\",\"name\":\"6\",\"scene\":\"scene\",\"showlegend\":false,\"x\":[14.717770550055247,-1.1084739290844947],\"y\":[0,150],\"z\":[13.829281318972146,20.165145110112288],\"type\":\"scatter3d\"},{\"hovertemplate\":\"ring=6\\u003cbr\\u003eRing and Wire=Ring: 6 Wire: 19\\u003cbr\\u003ex=%{x}\\u003cbr\\u003ez=%{y}\\u003cbr\\u003ey=%{z}\\u003cextra\\u003e\\u003c\\u002fextra\\u003e\",\"legendgroup\":\"6\",\"line\":{\"color\":\"#00cc96\",\"dash\":\"solid\",\"width\":5},\"marker\":{\"symbol\":\"circle\"},\"mode\":\"lines\",\"name\":\"6\",\"scene\":\"scene\",\"showlegend\":false,\"x\":[13.336570581531078,-3.020273580129845],\"y\":[0,150],\"z\":[15.165674297148323,19.9684686259241],\"type\":\"scatter3d\"},{\"hovertemplate\":\"ring=6\\u003cbr\\u003eRing and Wire=Ring: 6 Wire: 20\\u003cbr\\u003ex=%{x}\\u003cbr\\u003ez=%{y}\\u003cbr\\u003ey=%{z}\\u003cextra\\u003e\\u003c\\u002fextra\\u003e\",\"legendgroup\":\"6\",\"line\":{\"color\":\"#00cc96\",\"dash\":\"solid\",\"width\":5},\"marker\":{\"symbol\":\"circle\"},\"mode\":\"lines\",\"name\":\"6\",\"scene\":\"scene\",\"showlegend\":false,\"x\":[11.834592564601522,-4.904721165932607],\"y\":[0,150],\"z\":[16.364724580426763,19.590954597665682],\"type\":\"scatter3d\"},{\"hovertemplate\":\"ring=6\\u003cbr\\u003eRing and Wire=Ring: 6 Wire: 21\\u003cbr\\u003ex=%{x}\\u003cbr\\u003ez=%{y}\\u003cbr\\u003ey=%{z}\\u003cextra\\u003e\\u003c\\u002fextra\\u003e\",\"legendgroup\":\"6\",\"line\":{\"color\":\"#00cc96\",\"dash\":\"solid\",\"width\":5},\"marker\":{\"symbol\":\"circle\"},\"mode\":\"lines\",\"name\":\"6\",\"scene\":\"scene\",\"showlegend\":false,\"x\":[10.225438644774947,-6.744750837341813],\"y\":[0,150],\"z\":[17.41557338376456,19.03602185083644],\"type\":\"scatter3d\"},{\"hovertemplate\":\"ring=6\\u003cbr\\u003eRing and Wire=Ring: 6 Wire: 22\\u003cbr\\u003ex=%{x}\\u003cbr\\u003ez=%{y}\\u003cbr\\u003ey=%{z}\\u003cextra\\u003e\\u003c\\u002fextra\\u003e\",\"legendgroup\":\"6\",\"line\":{\"color\":\"#00cc96\",\"dash\":\"solid\",\"width\":5},\"marker\":{\"symbol\":\"circle\"},\"mode\":\"lines\",\"name\":\"6\",\"scene\":\"scene\",\"showlegend\":false,\"x\":[8.523681569132934,-8.523699000717555],\"y\":[0,150],\"z\":[18.30870405767074,18.308695942325112],\"type\":\"scatter3d\"},{\"hovertemplate\":\"ring=6\\u003cbr\\u003eRing and Wire=Ring: 6 Wire: 23\\u003cbr\\u003ex=%{x}\\u003cbr\\u003ez=%{y}\\u003cbr\\u003ey=%{z}\\u003cextra\\u003e\\u003c\\u002fextra\\u003e\",\"legendgroup\":\"6\",\"line\":{\"color\":\"#00cc96\",\"dash\":\"solid\",\"width\":5},\"marker\":{\"symbol\":\"circle\"},\"mode\":\"lines\",\"name\":\"6\",\"scene\":\"scene\",\"showlegend\":false,\"x\":[6.744732713276113,-10.225455226015354],\"y\":[0,150],\"z\":[19.036028272457692,17.41556364818839],\"type\":\"scatter3d\"},{\"hovertemplate\":\"ring=6\\u003cbr\\u003eRing and Wire=Ring: 6 Wire: 24\\u003cbr\\u003ex=%{x}\\u003cbr\\u003ez=%{y}\\u003cbr\\u003ey=%{z}\\u003cextra\\u003e\\u003c\\u002fextra\\u003e\",\"legendgroup\":\"6\",\"line\":{\"color\":\"#00cc96\",\"dash\":\"solid\",\"width\":5},\"marker\":{\"symbol\":\"circle\"},\"mode\":\"lines\",\"name\":\"6\",\"scene\":\"scene\",\"showlegend\":false,\"x\":[4.9047025135201645,-11.834608145335448],\"y\":[0,150],\"z\":[19.590959267407364,16.364713312786918],\"type\":\"scatter3d\"},{\"hovertemplate\":\"ring=6\\u003cbr\\u003eRing and Wire=Ring: 6 Wire: 25\\u003cbr\\u003ex=%{x}\\u003cbr\\u003ez=%{y}\\u003cbr\\u003ey=%{z}\\u003cextra\\u003e\\u003c\\u002fextra\\u003e\",\"legendgroup\":\"6\",\"line\":{\"color\":\"#00cc96\",\"dash\":\"solid\",\"width\":5},\"marker\":{\"symbol\":\"circle\"},\"mode\":\"lines\",\"name\":\"6\",\"scene\":\"scene\",\"showlegend\":false,\"x\":[3.0202545682898023,-13.336585020656974],\"y\":[0,150],\"z\":[19.968471501496303,15.165661599486306],\"type\":\"scatter3d\"},{\"hovertemplate\":\"ring=6\\u003cbr\\u003eRing and Wire=Ring: 6 Wire: 26\\u003cbr\\u003ex=%{x}\\u003cbr\\u003ez=%{y}\\u003cbr\\u003ey=%{z}\\u003cextra\\u003e\\u003c\\u002fextra\\u003e\",\"legendgroup\":\"6\",\"line\":{\"color\":\"#00cc96\",\"dash\":\"solid\",\"width\":5},\"marker\":{\"symbol\":\"circle\"},\"mode\":\"lines\",\"name\":\"6\",\"scene\":\"scene\",\"showlegend\":false,\"x\":[1.1084547299910206,-14.717783716810152],\"y\":[0,150],\"z\":[20.165146165473388,13.829267306279952],\"type\":\"scatter3d\"},{\"hovertemplate\":\"ring=6\\u003cbr\\u003eRing and Wire=Ring: 6 Wire: 27\\u003cbr\\u003ex=%{x}\\u003cbr\\u003ez=%{y}\\u003cbr\\u003ey=%{z}\\u003cextra\\u003e\\u003c\\u002fextra\\u003e\",\"legendgroup\":\"6\",\"line\":{\"color\":\"#00cc96\",\"dash\":\"solid\",\"width\":5},\"marker\":{\"symbol\":\"circle\"},\"mode\":\"lines\",\"name\":\"6\",\"scene\":\"scene\",\"showlegend\":false,\"x\":[-0.8133834459910139,-15.965695884518698],\"y\":[0,150],\"z\":[20.17920214312581,12.367633026832909],\"type\":\"scatter3d\"},{\"hovertemplate\":\"ring=6\\u003cbr\\u003eRing and Wire=Ring: 6 Wire: 28\\u003cbr\\u003ex=%{x}\\u003cbr\\u003ez=%{y}\\u003cbr\\u003ey=%{z}\\u003cextra\\u003e\\u003c\\u002fextra\\u003e\",\"legendgroup\":\"6\",\"line\":{\"color\":\"#00cc96\",\"dash\":\"solid\",\"width\":5},\"marker\":{\"symbol\":\"circle\"},\"mode\":\"lines\",\"name\":\"6\",\"scene\":\"scene\",\"showlegend\":false,\"x\":[-2.72785549553062,-17.069020237947885],\"y\":[0,150],\"z\":[20.010512141343334,10.793995547519513],\"type\":\"scatter3d\"},{\"hovertemplate\":\"ring=6\\u003cbr\\u003eRing and Wire=Ring: 6 Wire: 29\\u003cbr\\u003ex=%{x}\\u003cbr\\u003ez=%{y}\\u003cbr\\u003ey=%{z}\\u003cextra\\u003e\\u003c\\u002fextra\\u003e\",\"legendgroup\":\"6\",\"line\":{\"color\":\"#00cc96\",\"dash\":\"solid\",\"width\":5},\"marker\":{\"symbol\":\"circle\"},\"mode\":\"lines\",\"name\":\"6\",\"scene\":\"scene\",\"showlegend\":false,\"x\":[-4.617623663283827,-18.017764900899042],\"y\":[0,150],\"z\":[19.660603842904386,9.122605973036219],\"type\":\"scatter3d\"},{\"hovertemplate\":\"ring=6\\u003cbr\\u003eRing and Wire=Ring: 6 Wire: 30\\u003cbr\\u003ex=%{x}\\u003cbr\\u003ez=%{y}\\u003cbr\\u003ey=%{z}\\u003cextra\\u003e\\u003c\\u002fextra\\u003e\",\"legendgroup\":\"6\",\"line\":{\"color\":\"#00cc96\",\"dash\":\"solid\",\"width\":5},\"marker\":{\"symbol\":\"circle\"},\"mode\":\"lines\",\"name\":\"6\",\"scene\":\"scene\",\"showlegend\":false,\"x\":[-6.465573916085623,-18.803337894787738],\"y\":[0,150],\"z\":[19.13264607154428,7.368600666190626],\"type\":\"scatter3d\"},{\"hovertemplate\":\"ring=6\\u003cbr\\u003eRing and Wire=Ring: 6 Wire: 31\\u003cbr\\u003ex=%{x}\\u003cbr\\u003ez=%{y}\\u003cbr\\u003ey=%{z}\\u003cextra\\u003e\\u003c\\u002fextra\\u003e\",\"legendgroup\":\"6\",\"line\":{\"color\":\"#00cc96\",\"dash\":\"solid\",\"width\":5},\"marker\":{\"symbol\":\"circle\"},\"mode\":\"lines\",\"name\":\"6\",\"scene\":\"scene\",\"showlegend\":false,\"x\":[-8.254970930284447,-19.41862494893233],\"y\":[0,150],\"z\":[18.43142009459673,5.54786417065598],\"type\":\"scatter3d\"},{\"hovertemplate\":\"ring=6\\u003cbr\\u003eRing and Wire=Ring: 6 Wire: 32\\u003cbr\\u003ex=%{x}\\u003cbr\\u003ez=%{y}\\u003cbr\\u003ey=%{z}\\u003cextra\\u003e\\u003c\\u002fextra\\u003e\",\"legendgroup\":\"6\",\"line\":{\"color\":\"#00cc96\",\"dash\":\"solid\",\"width\":5},\"marker\":{\"symbol\":\"circle\"},\"mode\":\"lines\",\"name\":\"6\",\"scene\":\"scene\",\"showlegend\":false,\"x\":[-9.969609649424754,-19.858053928490932],\"y\":[0,150],\"z\":[17.563276323096506,3.6768853580838448],\"type\":\"scatter3d\"},{\"hovertemplate\":\"ring=6\\u003cbr\\u003eRing and Wire=Ring: 6 Wire: 33\\u003cbr\\u003ex=%{x}\\u003cbr\\u003ez=%{y}\\u003cbr\\u003ey=%{z}\\u003cextra\\u003e\\u003c\\u002fextra\\u003e\",\"legendgroup\":\"6\",\"line\":{\"color\":\"#00cc96\",\"dash\":\"solid\",\"width\":5},\"marker\":{\"symbol\":\"circle\"},\"mode\":\"lines\",\"name\":\"6\",\"scene\":\"scene\",\"showlegend\":false,\"x\":[-11.593962039747629,-20.1176452965774],\"y\":[0,150],\"z\":[16.536076801473698,1.7726081023291194],\"type\":\"scatter3d\"},{\"hovertemplate\":\"ring=6\\u003cbr\\u003eRing and Wire=Ring: 6 Wire: 34\\u003cbr\\u003ex=%{x}\\u003cbr\\u003ez=%{y}\\u003cbr\\u003ey=%{z}\\u003cextra\\u003e\\u003c\\u002fextra\\u003e\",\"legendgroup\":\"6\",\"line\":{\"color\":\"#00cc96\",\"dash\":\"solid\",\"width\":5},\"marker\":{\"symbol\":\"circle\"},\"mode\":\"lines\",\"name\":\"6\",\"scene\":\"scene\",\"showlegend\":false,\"x\":[-13.113317714469106,-20.195048153563615],\"y\":[0,150],\"z\":[15.359124007661904,-0.1477221668954547],\"type\":\"scatter3d\"},{\"hovertemplate\":\"ring=6\\u003cbr\\u003eRing and Wire=Ring: 6 Wire: 35\\u003cbr\\u003ex=%{x}\\u003cbr\\u003ez=%{y}\\u003cbr\\u003ey=%{z}\\u003cextra\\u003e\\u003c\\u002fextra\\u003e\",\"legendgroup\":\"6\",\"line\":{\"color\":\"#00cc96\",\"dash\":\"solid\",\"width\":5},\"marker\":{\"symbol\":\"circle\"},\"mode\":\"lines\",\"name\":\"6\",\"scene\":\"scene\",\"showlegend\":false,\"x\":[-14.513917153320872,-20.089561527190593],\"y\":[0,150],\"z\":[14.043076608417532,-2.0667146413012807],\"type\":\"scatter3d\"},{\"hovertemplate\":\"ring=6\\u003cbr\\u003eRing and Wire=Ring: 6 Wire: 36\\u003cbr\\u003ex=%{x}\\u003cbr\\u003ez=%{y}\\u003cbr\\u003ey=%{z}\\u003cextra\\u003e\\u003c\\u002fextra\\u003e\",\"legendgroup\":\"6\",\"line\":{\"color\":\"#00cc96\",\"dash\":\"solid\",\"width\":5},\"marker\":{\"symbol\":\"circle\"},\"mode\":\"lines\",\"name\":\"6\",\"scene\":\"scene\",\"showlegend\":false,\"x\":[-15.783076310896487,-19.802140720681773],\"y\":[0,150],\"z\":[12.59985293278313,-3.9669906278767924],\"type\":\"scatter3d\"},{\"hovertemplate\":\"ring=6\\u003cbr\\u003eRing and Wire=Ring: 6 Wire: 37\\u003cbr\\u003ex=%{x}\\u003cbr\\u003ez=%{y}\\u003cbr\\u003ey=%{z}\\u003cextra\\u003e\\u003c\\u002fextra\\u003e\",\"legendgroup\":\"6\",\"line\":{\"color\":\"#00cc96\",\"dash\":\"solid\",\"width\":5},\"marker\":{\"symbol\":\"circle\"},\"mode\":\"lines\",\"name\":\"6\",\"scene\":\"scene\",\"showlegend\":false,\"x\":[-16.9093014853308,-19.33538866136911],\"y\":[0,150],\"z\":[11.042523037853943,-5.831340933022566],\"type\":\"scatter3d\"},{\"hovertemplate\":\"ring=6\\u003cbr\\u003eRing and Wire=Ring: 6 Wire: 38\\u003cbr\\u003ex=%{x}\\u003cbr\\u003ez=%{y}\\u003cbr\\u003ey=%{z}\\u003cextra\\u003e\\u003c\\u002fextra\\u003e\",\"legendgroup\":\"6\",\"line\":{\"color\":\"#00cc96\",\"dash\":\"solid\",\"width\":5},\"marker\":{\"symbol\":\"circle\"},\"mode\":\"lines\",\"name\":\"6\",\"scene\":\"scene\",\"showlegend\":false,\"x\":[-17.882393407043846,-18.69353232818008],\"y\":[0,150],\"z\":[9.385190344316957,-7.642881711673404],\"type\":\"scatter3d\"},{\"hovertemplate\":\"ring=6\\u003cbr\\u003eRing and Wire=Ring: 6 Wire: 39\\u003cbr\\u003ex=%{x}\\u003cbr\\u003ez=%{y}\\u003cbr\\u003ey=%{z}\\u003cextra\\u003e\\u003c\\u002fextra\\u003e\",\"legendgroup\":\"6\",\"line\":{\"color\":\"#00cc96\",\"dash\":\"solid\",\"width\":5},\"marker\":{\"symbol\":\"circle\"},\"mode\":\"lines\",\"name\":\"6\",\"scene\":\"scene\",\"showlegend\":false,\"x\":[-18.69353960490558,-17.88238447146196],\"y\":[0,150],\"z\":[7.642863913689158,-9.385207370013816],\"type\":\"scatter3d\"},{\"hovertemplate\":\"ring=6\\u003cbr\\u003eRing and Wire=Ring: 6 Wire: 40\\u003cbr\\u003ex=%{x}\\u003cbr\\u003ez=%{y}\\u003cbr\\u003ey=%{z}\\u003cextra\\u003e\\u003c\\u002fextra\\u003e\",\"legendgroup\":\"6\",\"line\":{\"color\":\"#00cc96\",\"dash\":\"solid\",\"width\":5},\"marker\":{\"symbol\":\"circle\"},\"mode\":\"lines\",\"name\":\"6\",\"scene\":\"scene\",\"showlegend\":false,\"x\":[-19.33539421333907,-16.90929097181455],\"y\":[0,150],\"z\":[5.831322523932245,-11.042539137076064],\"type\":\"scatter3d\"},{\"hovertemplate\":\"ring=6\\u003cbr\\u003eRing and Wire=Ring: 6 Wire: 41\\u003cbr\\u003ex=%{x}\\u003cbr\\u003ez=%{y}\\u003cbr\\u003ey=%{z}\\u003cextra\\u003e\\u003c\\u002fextra\\u003e\",\"legendgroup\":\"6\",\"line\":{\"color\":\"#00cc96\",\"dash\":\"solid\",\"width\":5},\"marker\":{\"symbol\":\"circle\"},\"mode\":\"lines\",\"name\":\"6\",\"scene\":\"scene\",\"showlegend\":false,\"x\":[-19.8021444976167,-15.783064314657896],\"y\":[0,150],\"z\":[3.9669717743959616,-12.59986795973347],\"type\":\"scatter3d\"},{\"hovertemplate\":\"ring=6\\u003cbr\\u003eRing and Wire=Ring: 6 Wire: 42\\u003cbr\\u003ex=%{x}\\u003cbr\\u003ez=%{y}\\u003cbr\\u003ey=%{z}\\u003cextra\\u003e\\u003c\\u002fextra\\u003e\",\"legendgroup\":\"6\",\"line\":{\"color\":\"#00cc96\",\"dash\":\"solid\",\"width\":5},\"marker\":{\"symbol\":\"circle\"},\"mode\":\"lines\",\"name\":\"6\",\"scene\":\"scene\",\"showlegend\":false,\"x\":[-20.089563494885976,-14.51390378299973],\"y\":[0,150],\"z\":[2.0666955141699717,-14.043090427009709],\"type\":\"scatter3d\"},{\"hovertemplate\":\"ring=6\\u003cbr\\u003eRing and Wire=Ring: 6 Wire: 43\\u003cbr\\u003ex=%{x}\\u003cbr\\u003ez=%{y}\\u003cbr\\u003ey=%{z}\\u003cextra\\u003e\\u003c\\u002fextra\\u003e\",\"legendgroup\":\"6\",\"line\":{\"color\":\"#00cc96\",\"dash\":\"solid\",\"width\":5},\"marker\":{\"symbol\":\"circle\"},\"mode\":\"lines\",\"name\":\"6\",\"scene\":\"scene\",\"showlegend\":false,\"x\":[-20.1950482941997,-13.113303091149119],\"y\":[0,150],\"z\":[0.1477029393319409,-15.359136492752597],\"type\":\"scatter3d\"},{\"hovertemplate\":\"ring=6\\u003cbr\\u003eRing and Wire=Ring: 6 Wire: 44\\u003cbr\\u003ex=%{x}\\u003cbr\\u003ez=%{y}\\u003cbr\\u003ey=%{z}\\u003cextra\\u003e\\u003c\\u002fextra\\u003e\",\"legendgroup\":\"6\",\"line\":{\"color\":\"#00cc96\",\"dash\":\"solid\",\"width\":5},\"marker\":{\"symbol\":\"circle\"},\"mode\":\"lines\",\"name\":\"6\",\"scene\":\"scene\",\"showlegend\":false,\"x\":[-20.11764360888056,-11.59394629585984],\"y\":[0,150],\"z\":[-1.7726272561970458,-16.536087839995993],\"type\":\"scatter3d\"},{\"hovertemplate\":\"ring=6\\u003cbr\\u003eRing and Wire=Ring: 6 Wire: 45\\u003cbr\\u003ex=%{x}\\u003cbr\\u003ez=%{y}\\u003cbr\\u003ey=%{z}\\u003cextra\\u003e\\u003c\\u002fextra\\u003e\",\"legendgroup\":\"6\",\"line\":{\"color\":\"#00cc96\",\"dash\":\"solid\",\"width\":5},\"marker\":{\"symbol\":\"circle\"},\"mode\":\"lines\",\"name\":\"6\",\"scene\":\"scene\",\"showlegend\":false,\"x\":[-19.85805042774522,-9.969592927548266],\"y\":[0,150],\"z\":[-3.676904264795784,-17.563285815083837],\"type\":\"scatter3d\"},{\"hovertemplate\":\"ring=6\\u003cbr\\u003eRing and Wire=Ring: 6 Wire: 46\\u003cbr\\u003ex=%{x}\\u003cbr\\u003ez=%{y}\\u003cbr\\u003ey=%{z}\\u003cextra\\u003e\\u003c\\u002fextra\\u003e\",\"legendgroup\":\"6\",\"line\":{\"color\":\"#00cc96\",\"dash\":\"solid\",\"width\":5},\"marker\":{\"symbol\":\"circle\"},\"mode\":\"lines\",\"name\":\"6\",\"scene\":\"scene\",\"showlegend\":false,\"x\":[-19.418619666841032,-8.254953381855143],\"y\":[0,150],\"z\":[-5.547882658989834,-18.431427954088196],\"type\":\"scatter3d\"},{\"hovertemplate\":\"ring=6\\u003cbr\\u003eRing and Wire=Ring: 6 Wire: 47\\u003cbr\\u003ex=%{x}\\u003cbr\\u003ez=%{y}\\u003cbr\\u003ey=%{z}\\u003cextra\\u003e\\u003c\\u002fextra\\u003e\",\"legendgroup\":\"6\",\"line\":{\"color\":\"#00cc96\",\"dash\":\"solid\",\"width\":5},\"marker\":{\"symbol\":\"circle\"},\"mode\":\"lines\",\"name\":\"6\",\"scene\":\"scene\",\"showlegend\":false,\"x\":[-18.803330879186294,-6.4655557000248],\"y\":[0,150],\"z\":[-7.368618568713175,-19.132652227363103],\"type\":\"scatter3d\"},{\"hovertemplate\":\"ring=6\\u003cbr\\u003eRing and Wire=Ring: 6 Wire: 48\\u003cbr\\u003ex=%{x}\\u003cbr\\u003ez=%{y}\\u003cbr\\u003ey=%{z}\\u003cextra\\u003e\\u003c\\u002fextra\\u003e\",\"legendgroup\":\"6\",\"line\":{\"color\":\"#00cc96\",\"dash\":\"solid\",\"width\":5},\"marker\":{\"symbol\":\"circle\"},\"mode\":\"lines\",\"name\":\"6\",\"scene\":\"scene\",\"showlegend\":false,\"x\":[-18.017756215321832,-4.617604944558969],\"y\":[0,150],\"z\":[-9.122623127619438,-19.66060823930252],\"type\":\"scatter3d\"},{\"hovertemplate\":\"ring=6\\u003cbr\\u003eRing and Wire=Ring: 6 Wire: 49\\u003cbr\\u003ex=%{x}\\u003cbr\\u003ez=%{y}\\u003cbr\\u003ey=%{z}\\u003cextra\\u003e\\u003c\\u002fextra\\u003e\",\"legendgroup\":\"6\",\"line\":{\"color\":\"#00cc96\",\"dash\":\"solid\",\"width\":5},\"marker\":{\"symbol\":\"circle\"},\"mode\":\"lines\",\"name\":\"6\",\"scene\":\"scene\",\"showlegend\":false,\"x\":[-17.06900996105283,-2.727836443661377],\"y\":[0,150],\"z\":[-10.794011798808855,-20.010514738506316],\"type\":\"scatter3d\"},{\"hovertemplate\":\"ring=6\\u003cbr\\u003eRing and Wire=Ring: 6 Wire: 50\\u003cbr\\u003ex=%{x}\\u003cbr\\u003ez=%{y}\\u003cbr\\u003ey=%{z}\\u003cextra\\u003e\\u003c\\u002fextra\\u003e\",\"legendgroup\":\"6\",\"line\":{\"color\":\"#00cc96\",\"dash\":\"solid\",\"width\":5},\"marker\":{\"symbol\":\"circle\"},\"mode\":\"lines\",\"name\":\"6\",\"scene\":\"scene\",\"showlegend\":false,\"x\":[-15.965684109374966,-0.81336423351408],\"y\":[0,150],\"z\":[-12.367648227654168,-20.179202917533328],\"type\":\"scatter3d\"},{\"hovertemplate\":\"ring=6\\u003cbr\\u003eRing and Wire=Ring: 6 Wire: 51\\u003cbr\\u003ex=%{x}\\u003cbr\\u003ez=%{y}\\u003cbr\\u003ey=%{z}\\u003cextra\\u003e\\u003c\\u002fextra\\u003e\",\"legendgroup\":\"6\",\"line\":{\"color\":\"#00cc96\",\"dash\":\"solid\",\"width\":5},\"marker\":{\"symbol\":\"circle\"},\"mode\":\"lines\",\"name\":\"6\",\"scene\":\"scene\",\"showlegend\":false,\"x\":[-14.717770550055242,1.1084739290845018],\"y\":[0,150],\"z\":[-13.829281318972154,-20.165145110112288],\"type\":\"scatter3d\"},{\"hovertemplate\":\"ring=6\\u003cbr\\u003eRing and Wire=Ring: 6 Wire: 52\\u003cbr\\u003ex=%{x}\\u003cbr\\u003ez=%{y}\\u003cbr\\u003ey=%{z}\\u003cextra\\u003e\\u003c\\u002fextra\\u003e\",\"legendgroup\":\"6\",\"line\":{\"color\":\"#00cc96\",\"dash\":\"solid\",\"width\":5},\"marker\":{\"symbol\":\"circle\"},\"mode\":\"lines\",\"name\":\"6\",\"scene\":\"scene\",\"showlegend\":false,\"x\":[-13.336570581531081,3.0202735801298433],\"y\":[0,150],\"z\":[-15.165674297148323,-19.968468625924103],\"type\":\"scatter3d\"},{\"hovertemplate\":\"ring=6\\u003cbr\\u003eRing and Wire=Ring: 6 Wire: 53\\u003cbr\\u003ex=%{x}\\u003cbr\\u003ez=%{y}\\u003cbr\\u003ey=%{z}\\u003cextra\\u003e\\u003c\\u002fextra\\u003e\",\"legendgroup\":\"6\",\"line\":{\"color\":\"#00cc96\",\"dash\":\"solid\",\"width\":5},\"marker\":{\"symbol\":\"circle\"},\"mode\":\"lines\",\"name\":\"6\",\"scene\":\"scene\",\"showlegend\":false,\"x\":[-11.834592564601532,4.904721165932596],\"y\":[0,150],\"z\":[-16.364724580426756,-19.59095459766569],\"type\":\"scatter3d\"},{\"hovertemplate\":\"ring=6\\u003cbr\\u003eRing and Wire=Ring: 6 Wire: 54\\u003cbr\\u003ex=%{x}\\u003cbr\\u003ez=%{y}\\u003cbr\\u003ey=%{z}\\u003cextra\\u003e\\u003c\\u002fextra\\u003e\",\"legendgroup\":\"6\",\"line\":{\"color\":\"#00cc96\",\"dash\":\"solid\",\"width\":5},\"marker\":{\"symbol\":\"circle\"},\"mode\":\"lines\",\"name\":\"6\",\"scene\":\"scene\",\"showlegend\":false,\"x\":[-10.225438644774941,6.744750837341821],\"y\":[0,150],\"z\":[-17.415573383764567,-19.03602185083644],\"type\":\"scatter3d\"},{\"hovertemplate\":\"ring=6\\u003cbr\\u003eRing and Wire=Ring: 6 Wire: 55\\u003cbr\\u003ex=%{x}\\u003cbr\\u003ez=%{y}\\u003cbr\\u003ey=%{z}\\u003cextra\\u003e\\u003c\\u002fextra\\u003e\",\"legendgroup\":\"6\",\"line\":{\"color\":\"#00cc96\",\"dash\":\"solid\",\"width\":5},\"marker\":{\"symbol\":\"circle\"},\"mode\":\"lines\",\"name\":\"6\",\"scene\":\"scene\",\"showlegend\":false,\"x\":[-8.523681569132938,8.523699000717551],\"y\":[0,150],\"z\":[-18.308704057670738,-18.308695942325116],\"type\":\"scatter3d\"},{\"hovertemplate\":\"ring=6\\u003cbr\\u003eRing and Wire=Ring: 6 Wire: 56\\u003cbr\\u003ex=%{x}\\u003cbr\\u003ez=%{y}\\u003cbr\\u003ey=%{z}\\u003cextra\\u003e\\u003c\\u002fextra\\u003e\",\"legendgroup\":\"6\",\"line\":{\"color\":\"#00cc96\",\"dash\":\"solid\",\"width\":5},\"marker\":{\"symbol\":\"circle\"},\"mode\":\"lines\",\"name\":\"6\",\"scene\":\"scene\",\"showlegend\":false,\"x\":[-6.7447327132761234,10.225455226015344],\"y\":[0,150],\"z\":[-19.03602827245769,-17.415563648188392],\"type\":\"scatter3d\"},{\"hovertemplate\":\"ring=6\\u003cbr\\u003eRing and Wire=Ring: 6 Wire: 57\\u003cbr\\u003ex=%{x}\\u003cbr\\u003ez=%{y}\\u003cbr\\u003ey=%{z}\\u003cextra\\u003e\\u003c\\u002fextra\\u003e\",\"legendgroup\":\"6\",\"line\":{\"color\":\"#00cc96\",\"dash\":\"solid\",\"width\":5},\"marker\":{\"symbol\":\"circle\"},\"mode\":\"lines\",\"name\":\"6\",\"scene\":\"scene\",\"showlegend\":false,\"x\":[-4.904702513520167,11.834608145335444],\"y\":[0,150],\"z\":[-19.590959267407364,-16.364713312786918],\"type\":\"scatter3d\"},{\"hovertemplate\":\"ring=6\\u003cbr\\u003eRing and Wire=Ring: 6 Wire: 58\\u003cbr\\u003ex=%{x}\\u003cbr\\u003ez=%{y}\\u003cbr\\u003ey=%{z}\\u003cextra\\u003e\\u003c\\u002fextra\\u003e\",\"legendgroup\":\"6\",\"line\":{\"color\":\"#00cc96\",\"dash\":\"solid\",\"width\":5},\"marker\":{\"symbol\":\"circle\"},\"mode\":\"lines\",\"name\":\"6\",\"scene\":\"scene\",\"showlegend\":false,\"x\":[-3.0202545682898148,13.336585020656965],\"y\":[0,150],\"z\":[-19.968471501496303,-15.165661599486313],\"type\":\"scatter3d\"},{\"hovertemplate\":\"ring=6\\u003cbr\\u003eRing and Wire=Ring: 6 Wire: 59\\u003cbr\\u003ex=%{x}\\u003cbr\\u003ez=%{y}\\u003cbr\\u003ey=%{z}\\u003cextra\\u003e\\u003c\\u002fextra\\u003e\",\"legendgroup\":\"6\",\"line\":{\"color\":\"#00cc96\",\"dash\":\"solid\",\"width\":5},\"marker\":{\"symbol\":\"circle\"},\"mode\":\"lines\",\"name\":\"6\",\"scene\":\"scene\",\"showlegend\":false,\"x\":[-1.1084547299910223,14.71778371681015],\"y\":[0,150],\"z\":[-20.165146165473388,-13.829267306279952],\"type\":\"scatter3d\"},{\"hovertemplate\":\"ring=6\\u003cbr\\u003eRing and Wire=Ring: 6 Wire: 60\\u003cbr\\u003ex=%{x}\\u003cbr\\u003ez=%{y}\\u003cbr\\u003ey=%{z}\\u003cextra\\u003e\\u003c\\u002fextra\\u003e\",\"legendgroup\":\"6\",\"line\":{\"color\":\"#00cc96\",\"dash\":\"solid\",\"width\":5},\"marker\":{\"symbol\":\"circle\"},\"mode\":\"lines\",\"name\":\"6\",\"scene\":\"scene\",\"showlegend\":false,\"x\":[0.8133834459910112,15.965695884518698],\"y\":[0,150],\"z\":[-20.179202143125814,-12.367633026832914],\"type\":\"scatter3d\"},{\"hovertemplate\":\"ring=6\\u003cbr\\u003eRing and Wire=Ring: 6 Wire: 61\\u003cbr\\u003ex=%{x}\\u003cbr\\u003ez=%{y}\\u003cbr\\u003ey=%{z}\\u003cextra\\u003e\\u003c\\u002fextra\\u003e\",\"legendgroup\":\"6\",\"line\":{\"color\":\"#00cc96\",\"dash\":\"solid\",\"width\":5},\"marker\":{\"symbol\":\"circle\"},\"mode\":\"lines\",\"name\":\"6\",\"scene\":\"scene\",\"showlegend\":false,\"x\":[2.7278554955306085,17.06902023794788],\"y\":[0,150],\"z\":[-20.010512141343334,-10.793995547519522],\"type\":\"scatter3d\"},{\"hovertemplate\":\"ring=6\\u003cbr\\u003eRing and Wire=Ring: 6 Wire: 62\\u003cbr\\u003ex=%{x}\\u003cbr\\u003ez=%{y}\\u003cbr\\u003ey=%{z}\\u003cextra\\u003e\\u003c\\u002fextra\\u003e\",\"legendgroup\":\"6\",\"line\":{\"color\":\"#00cc96\",\"dash\":\"solid\",\"width\":5},\"marker\":{\"symbol\":\"circle\"},\"mode\":\"lines\",\"name\":\"6\",\"scene\":\"scene\",\"showlegend\":false,\"x\":[4.617623663283824,18.01776490089904],\"y\":[0,150],\"z\":[-19.660603842904386,-9.12260597303622],\"type\":\"scatter3d\"},{\"hovertemplate\":\"ring=6\\u003cbr\\u003eRing and Wire=Ring: 6 Wire: 63\\u003cbr\\u003ex=%{x}\\u003cbr\\u003ez=%{y}\\u003cbr\\u003ey=%{z}\\u003cextra\\u003e\\u003c\\u002fextra\\u003e\",\"legendgroup\":\"6\",\"line\":{\"color\":\"#00cc96\",\"dash\":\"solid\",\"width\":5},\"marker\":{\"symbol\":\"circle\"},\"mode\":\"lines\",\"name\":\"6\",\"scene\":\"scene\",\"showlegend\":false,\"x\":[6.465573916085611,18.803337894787735],\"y\":[0,150],\"z\":[-19.132646071544283,-7.368600666190637],\"type\":\"scatter3d\"},{\"hovertemplate\":\"ring=6\\u003cbr\\u003eRing and Wire=Ring: 6 Wire: 64\\u003cbr\\u003ex=%{x}\\u003cbr\\u003ez=%{y}\\u003cbr\\u003ey=%{z}\\u003cextra\\u003e\\u003c\\u002fextra\\u003e\",\"legendgroup\":\"6\",\"line\":{\"color\":\"#00cc96\",\"dash\":\"solid\",\"width\":5},\"marker\":{\"symbol\":\"circle\"},\"mode\":\"lines\",\"name\":\"6\",\"scene\":\"scene\",\"showlegend\":false,\"x\":[8.254970930284454,19.418624948932333],\"y\":[0,150],\"z\":[-18.431420094596728,-5.547864170655973],\"type\":\"scatter3d\"},{\"hovertemplate\":\"ring=6\\u003cbr\\u003eRing and Wire=Ring: 6 Wire: 65\\u003cbr\\u003ex=%{x}\\u003cbr\\u003ez=%{y}\\u003cbr\\u003ey=%{z}\\u003cextra\\u003e\\u003c\\u002fextra\\u003e\",\"legendgroup\":\"6\",\"line\":{\"color\":\"#00cc96\",\"dash\":\"solid\",\"width\":5},\"marker\":{\"symbol\":\"circle\"},\"mode\":\"lines\",\"name\":\"6\",\"scene\":\"scene\",\"showlegend\":false,\"x\":[9.969609649424754,19.858053928490932],\"y\":[0,150],\"z\":[-17.563276323096506,-3.6768853580838465],\"type\":\"scatter3d\"},{\"hovertemplate\":\"ring=6\\u003cbr\\u003eRing and Wire=Ring: 6 Wire: 66\\u003cbr\\u003ex=%{x}\\u003cbr\\u003ez=%{y}\\u003cbr\\u003ey=%{z}\\u003cextra\\u003e\\u003c\\u002fextra\\u003e\",\"legendgroup\":\"6\",\"line\":{\"color\":\"#00cc96\",\"dash\":\"solid\",\"width\":5},\"marker\":{\"symbol\":\"circle\"},\"mode\":\"lines\",\"name\":\"6\",\"scene\":\"scene\",\"showlegend\":false,\"x\":[11.593962039747616,20.117645296577397],\"y\":[0,150],\"z\":[-16.536076801473705,-1.772608102329131],\"type\":\"scatter3d\"}],                        {\"template\":{\"data\":{\"histogram2dcontour\":[{\"type\":\"histogram2dcontour\",\"colorbar\":{\"outlinewidth\":0,\"ticks\":\"\"},\"colorscale\":[[0.0,\"#0d0887\"],[0.1111111111111111,\"#46039f\"],[0.2222222222222222,\"#7201a8\"],[0.3333333333333333,\"#9c179e\"],[0.4444444444444444,\"#bd3786\"],[0.5555555555555556,\"#d8576b\"],[0.6666666666666666,\"#ed7953\"],[0.7777777777777778,\"#fb9f3a\"],[0.8888888888888888,\"#fdca26\"],[1.0,\"#f0f921\"]]}],\"choropleth\":[{\"type\":\"choropleth\",\"colorbar\":{\"outlinewidth\":0,\"ticks\":\"\"}}],\"histogram2d\":[{\"type\":\"histogram2d\",\"colorbar\":{\"outlinewidth\":0,\"ticks\":\"\"},\"colorscale\":[[0.0,\"#0d0887\"],[0.1111111111111111,\"#46039f\"],[0.2222222222222222,\"#7201a8\"],[0.3333333333333333,\"#9c179e\"],[0.4444444444444444,\"#bd3786\"],[0.5555555555555556,\"#d8576b\"],[0.6666666666666666,\"#ed7953\"],[0.7777777777777778,\"#fb9f3a\"],[0.8888888888888888,\"#fdca26\"],[1.0,\"#f0f921\"]]}],\"heatmap\":[{\"type\":\"heatmap\",\"colorbar\":{\"outlinewidth\":0,\"ticks\":\"\"},\"colorscale\":[[0.0,\"#0d0887\"],[0.1111111111111111,\"#46039f\"],[0.2222222222222222,\"#7201a8\"],[0.3333333333333333,\"#9c179e\"],[0.4444444444444444,\"#bd3786\"],[0.5555555555555556,\"#d8576b\"],[0.6666666666666666,\"#ed7953\"],[0.7777777777777778,\"#fb9f3a\"],[0.8888888888888888,\"#fdca26\"],[1.0,\"#f0f921\"]]}],\"heatmapgl\":[{\"type\":\"heatmapgl\",\"colorbar\":{\"outlinewidth\":0,\"ticks\":\"\"},\"colorscale\":[[0.0,\"#0d0887\"],[0.1111111111111111,\"#46039f\"],[0.2222222222222222,\"#7201a8\"],[0.3333333333333333,\"#9c179e\"],[0.4444444444444444,\"#bd3786\"],[0.5555555555555556,\"#d8576b\"],[0.6666666666666666,\"#ed7953\"],[0.7777777777777778,\"#fb9f3a\"],[0.8888888888888888,\"#fdca26\"],[1.0,\"#f0f921\"]]}],\"contourcarpet\":[{\"type\":\"contourcarpet\",\"colorbar\":{\"outlinewidth\":0,\"ticks\":\"\"}}],\"contour\":[{\"type\":\"contour\",\"colorbar\":{\"outlinewidth\":0,\"ticks\":\"\"},\"colorscale\":[[0.0,\"#0d0887\"],[0.1111111111111111,\"#46039f\"],[0.2222222222222222,\"#7201a8\"],[0.3333333333333333,\"#9c179e\"],[0.4444444444444444,\"#bd3786\"],[0.5555555555555556,\"#d8576b\"],[0.6666666666666666,\"#ed7953\"],[0.7777777777777778,\"#fb9f3a\"],[0.8888888888888888,\"#fdca26\"],[1.0,\"#f0f921\"]]}],\"surface\":[{\"type\":\"surface\",\"colorbar\":{\"outlinewidth\":0,\"ticks\":\"\"},\"colorscale\":[[0.0,\"#0d0887\"],[0.1111111111111111,\"#46039f\"],[0.2222222222222222,\"#7201a8\"],[0.3333333333333333,\"#9c179e\"],[0.4444444444444444,\"#bd3786\"],[0.5555555555555556,\"#d8576b\"],[0.6666666666666666,\"#ed7953\"],[0.7777777777777778,\"#fb9f3a\"],[0.8888888888888888,\"#fdca26\"],[1.0,\"#f0f921\"]]}],\"mesh3d\":[{\"type\":\"mesh3d\",\"colorbar\":{\"outlinewidth\":0,\"ticks\":\"\"}}],\"scatter\":[{\"fillpattern\":{\"fillmode\":\"overlay\",\"size\":10,\"solidity\":0.2},\"type\":\"scatter\"}],\"parcoords\":[{\"type\":\"parcoords\",\"line\":{\"colorbar\":{\"outlinewidth\":0,\"ticks\":\"\"}}}],\"scatterpolargl\":[{\"type\":\"scatterpolargl\",\"marker\":{\"colorbar\":{\"outlinewidth\":0,\"ticks\":\"\"}}}],\"bar\":[{\"error_x\":{\"color\":\"#2a3f5f\"},\"error_y\":{\"color\":\"#2a3f5f\"},\"marker\":{\"line\":{\"color\":\"#E5ECF6\",\"width\":0.5},\"pattern\":{\"fillmode\":\"overlay\",\"size\":10,\"solidity\":0.2}},\"type\":\"bar\"}],\"scattergeo\":[{\"type\":\"scattergeo\",\"marker\":{\"colorbar\":{\"outlinewidth\":0,\"ticks\":\"\"}}}],\"scatterpolar\":[{\"type\":\"scatterpolar\",\"marker\":{\"colorbar\":{\"outlinewidth\":0,\"ticks\":\"\"}}}],\"histogram\":[{\"marker\":{\"pattern\":{\"fillmode\":\"overlay\",\"size\":10,\"solidity\":0.2}},\"type\":\"histogram\"}],\"scattergl\":[{\"type\":\"scattergl\",\"marker\":{\"colorbar\":{\"outlinewidth\":0,\"ticks\":\"\"}}}],\"scatter3d\":[{\"type\":\"scatter3d\",\"line\":{\"colorbar\":{\"outlinewidth\":0,\"ticks\":\"\"}},\"marker\":{\"colorbar\":{\"outlinewidth\":0,\"ticks\":\"\"}}}],\"scattermapbox\":[{\"type\":\"scattermapbox\",\"marker\":{\"colorbar\":{\"outlinewidth\":0,\"ticks\":\"\"}}}],\"scatterternary\":[{\"type\":\"scatterternary\",\"marker\":{\"colorbar\":{\"outlinewidth\":0,\"ticks\":\"\"}}}],\"scattercarpet\":[{\"type\":\"scattercarpet\",\"marker\":{\"colorbar\":{\"outlinewidth\":0,\"ticks\":\"\"}}}],\"carpet\":[{\"aaxis\":{\"endlinecolor\":\"#2a3f5f\",\"gridcolor\":\"white\",\"linecolor\":\"white\",\"minorgridcolor\":\"white\",\"startlinecolor\":\"#2a3f5f\"},\"baxis\":{\"endlinecolor\":\"#2a3f5f\",\"gridcolor\":\"white\",\"linecolor\":\"white\",\"minorgridcolor\":\"white\",\"startlinecolor\":\"#2a3f5f\"},\"type\":\"carpet\"}],\"table\":[{\"cells\":{\"fill\":{\"color\":\"#EBF0F8\"},\"line\":{\"color\":\"white\"}},\"header\":{\"fill\":{\"color\":\"#C8D4E3\"},\"line\":{\"color\":\"white\"}},\"type\":\"table\"}],\"barpolar\":[{\"marker\":{\"line\":{\"color\":\"#E5ECF6\",\"width\":0.5},\"pattern\":{\"fillmode\":\"overlay\",\"size\":10,\"solidity\":0.2}},\"type\":\"barpolar\"}],\"pie\":[{\"automargin\":true,\"type\":\"pie\"}]},\"layout\":{\"autotypenumbers\":\"strict\",\"colorway\":[\"#636efa\",\"#EF553B\",\"#00cc96\",\"#ab63fa\",\"#FFA15A\",\"#19d3f3\",\"#FF6692\",\"#B6E880\",\"#FF97FF\",\"#FECB52\"],\"font\":{\"color\":\"#2a3f5f\"},\"hovermode\":\"closest\",\"hoverlabel\":{\"align\":\"left\"},\"paper_bgcolor\":\"white\",\"plot_bgcolor\":\"#E5ECF6\",\"polar\":{\"bgcolor\":\"#E5ECF6\",\"angularaxis\":{\"gridcolor\":\"white\",\"linecolor\":\"white\",\"ticks\":\"\"},\"radialaxis\":{\"gridcolor\":\"white\",\"linecolor\":\"white\",\"ticks\":\"\"}},\"ternary\":{\"bgcolor\":\"#E5ECF6\",\"aaxis\":{\"gridcolor\":\"white\",\"linecolor\":\"white\",\"ticks\":\"\"},\"baxis\":{\"gridcolor\":\"white\",\"linecolor\":\"white\",\"ticks\":\"\"},\"caxis\":{\"gridcolor\":\"white\",\"linecolor\":\"white\",\"ticks\":\"\"}},\"coloraxis\":{\"colorbar\":{\"outlinewidth\":0,\"ticks\":\"\"}},\"colorscale\":{\"sequential\":[[0.0,\"#0d0887\"],[0.1111111111111111,\"#46039f\"],[0.2222222222222222,\"#7201a8\"],[0.3333333333333333,\"#9c179e\"],[0.4444444444444444,\"#bd3786\"],[0.5555555555555556,\"#d8576b\"],[0.6666666666666666,\"#ed7953\"],[0.7777777777777778,\"#fb9f3a\"],[0.8888888888888888,\"#fdca26\"],[1.0,\"#f0f921\"]],\"sequentialminus\":[[0.0,\"#0d0887\"],[0.1111111111111111,\"#46039f\"],[0.2222222222222222,\"#7201a8\"],[0.3333333333333333,\"#9c179e\"],[0.4444444444444444,\"#bd3786\"],[0.5555555555555556,\"#d8576b\"],[0.6666666666666666,\"#ed7953\"],[0.7777777777777778,\"#fb9f3a\"],[0.8888888888888888,\"#fdca26\"],[1.0,\"#f0f921\"]],\"diverging\":[[0,\"#8e0152\"],[0.1,\"#c51b7d\"],[0.2,\"#de77ae\"],[0.3,\"#f1b6da\"],[0.4,\"#fde0ef\"],[0.5,\"#f7f7f7\"],[0.6,\"#e6f5d0\"],[0.7,\"#b8e186\"],[0.8,\"#7fbc41\"],[0.9,\"#4d9221\"],[1,\"#276419\"]]},\"xaxis\":{\"gridcolor\":\"white\",\"linecolor\":\"white\",\"ticks\":\"\",\"title\":{\"standoff\":15},\"zerolinecolor\":\"white\",\"automargin\":true,\"zerolinewidth\":2},\"yaxis\":{\"gridcolor\":\"white\",\"linecolor\":\"white\",\"ticks\":\"\",\"title\":{\"standoff\":15},\"zerolinecolor\":\"white\",\"automargin\":true,\"zerolinewidth\":2},\"scene\":{\"xaxis\":{\"backgroundcolor\":\"#E5ECF6\",\"gridcolor\":\"white\",\"linecolor\":\"white\",\"showbackground\":true,\"ticks\":\"\",\"zerolinecolor\":\"white\",\"gridwidth\":2},\"yaxis\":{\"backgroundcolor\":\"#E5ECF6\",\"gridcolor\":\"white\",\"linecolor\":\"white\",\"showbackground\":true,\"ticks\":\"\",\"zerolinecolor\":\"white\",\"gridwidth\":2},\"zaxis\":{\"backgroundcolor\":\"#E5ECF6\",\"gridcolor\":\"white\",\"linecolor\":\"white\",\"showbackground\":true,\"ticks\":\"\",\"zerolinecolor\":\"white\",\"gridwidth\":2}},\"shapedefaults\":{\"line\":{\"color\":\"#2a3f5f\"}},\"annotationdefaults\":{\"arrowcolor\":\"#2a3f5f\",\"arrowhead\":0,\"arrowwidth\":1},\"geo\":{\"bgcolor\":\"white\",\"landcolor\":\"#E5ECF6\",\"subunitcolor\":\"white\",\"showland\":true,\"showlakes\":true,\"lakecolor\":\"white\"},\"title\":{\"x\":0.05},\"mapbox\":{\"style\":\"light\"}}},\"scene\":{\"domain\":{\"x\":[0.0,1.0],\"y\":[0.0,1.0]},\"xaxis\":{\"title\":{\"text\":\"X\"},\"range\":[-60,60]},\"yaxis\":{\"title\":{\"text\":\"Z\"},\"range\":[0,175]},\"zaxis\":{\"title\":{\"text\":\"Y\"},\"range\":[-60,60]},\"aspectmode\":\"cube\"},\"legend\":{\"title\":{\"text\":\"Ring Number\"},\"tracegroupgap\":0},\"margin\":{\"t\":60},\"title\":{\"text\":\"Rings of the GlueX Central Drift Chamber\"}},                        {\"responsive\": true}                    ).then(function(){\n",
              "                            \n",
              "var gd = document.getElementById('d3da83e9-06bc-43c7-935a-a0611c99f951');\n",
              "var x = new MutationObserver(function (mutations, observer) {{\n",
              "        var display = window.getComputedStyle(gd).display;\n",
              "        if (!display || display === 'none') {{\n",
              "            console.log([gd, 'removed!']);\n",
              "            Plotly.purge(gd);\n",
              "            observer.disconnect();\n",
              "        }}\n",
              "}});\n",
              "\n",
              "// Listen for the removal of the full notebook cells\n",
              "var notebookContainer = gd.closest('#notebook-container');\n",
              "if (notebookContainer) {{\n",
              "    x.observe(notebookContainer, {childList: true});\n",
              "}}\n",
              "\n",
              "// Listen for the clearing of the current output cell\n",
              "var outputEl = gd.closest('.output');\n",
              "if (outputEl) {{\n",
              "    x.observe(outputEl, {childList: true});\n",
              "}}\n",
              "\n",
              "                        })                };                            </script>        </div>\n",
              "</body>\n",
              "</html>"
            ]
          },
          "metadata": {}
        }
      ]
    },
    {
      "cell_type": "markdown",
      "source": [
        "Based on the position of the wire we detect a signal in, we can determine the x and y corrdinates of the hit. In later sections, we will see how we can use the layout of the detector to estimate the z coordinate of the hit as well.\n",
        "\n",
        "Once we have coordinates for all of the hits that are left by a track, we can use the path of the particle to gain information about its momentum.\n",
        "\n",
        "---"
      ],
      "metadata": {
        "id": "uEv_E5Enpnq6"
      }
    },
    {
      "cell_type": "markdown",
      "source": [
        "####**Question #3:**\n",
        "---\n",
        "Based on the interactive plot shown above, how many \"rings\" are there in the GlueX central drift chamber (CDC)?"
      ],
      "metadata": {
        "id": "Q3MD_YFeqzeE"
      }
    },
    {
      "cell_type": "markdown",
      "source": [
        "Double click to edit this cell and answer the following question: How many rings are there in the GlueX central drift chamber?"
      ],
      "metadata": {
        "id": "qsLN-VNNqzeG"
      }
    },
    {
      "cell_type": "markdown",
      "source": [
        "#####**Solution:**"
      ],
      "metadata": {
        "id": "tyyYO4kLqzeG"
      }
    },
    {
      "cell_type": "markdown",
      "source": [
        "There are a total of 28 layers in the GlueX central drift chamber."
      ],
      "metadata": {
        "id": "Sldbd8zQqzeG"
      }
    },
    {
      "cell_type": "markdown",
      "source": [
        "####**Question #4:**\n",
        "---\n",
        "Using the interactive plot shown above, plot rings 4, 5, and 9. What differences do you notice between these three rings? **Note:** It may be easier to see the differences if you plot these rings one at a time."
      ],
      "metadata": {
        "id": "RIR54FwWrSg3"
      }
    },
    {
      "cell_type": "markdown",
      "source": [
        "Double click to edit this cell and answer the following question: What differences do you notice between these three rings?"
      ],
      "metadata": {
        "id": "wiayDGcIrShV"
      }
    },
    {
      "cell_type": "markdown",
      "source": [
        "#####**Solution:**"
      ],
      "metadata": {
        "id": "TOaC6UORrShV"
      }
    },
    {
      "cell_type": "markdown",
      "source": [
        "One observation is that as you increase the ring number, the radius of the ring increases. This is due to the fact that the rings are numbered from the smallest radius to the largest radius.\n",
        "\n",
        "Another observation is that ring 4 has wires that run parallel to the z axis, while rings 5 and 9 have wires that are slightly tilted. Ring 5 and ring 9 (and around 16 other rings in the detector) have wires that are tilted by 6 degrees. These layers are called **stereo layers**, and they actually allow us to more accurately find the z coordinate of a hit based on the timing of the pulse of electricity. Ring 4 is what we call an **axial layer**, meaning its wires are lined up straight in the z direction."
      ],
      "metadata": {
        "id": "Z-SSJs6DrShV"
      }
    },
    {
      "cell_type": "markdown",
      "source": [
        "####**Question #5:**\n",
        "---\n",
        "The cell below creates a plot of the $x$ and $y$ coordinates of the wires of the drift chamber. There is a z slider, which allows you to change the point along the detector you are looking at. What do you notice about the wire positions as you change the z coordinate? Compare the behavior of ring 4, ring 5, and ring 9."
      ],
      "metadata": {
        "id": "Gbyz0nBDhQLU"
      }
    },
    {
      "cell_type": "code",
      "source": [
        "Ring_1 = 5 # @param {type:\"slider\", min:0, max:28, step:1}\n",
        "Ring_2 = 9 # @param {type:\"slider\", min:0, max:28, step:1}\n",
        "Ring_3 = 4 # @param {type:\"slider\", min:0, max:28, step:1}\n",
        "rings = [Ring_1,Ring_2,Ring_3]\n",
        "import warnings\n",
        "warnings.filterwarnings(\"ignore\")\n",
        "included = [[row['ring']==rings[j] for row in wire_positions_df.iloc] for j in range(3)]\n",
        "x0 = [np.array([row['pos'][0][0] for row in wire_positions_df.loc[included[j]].iloc]) for j in range(3)]\n",
        "y0 = [np.array([row['pos'][0][1] for row in wire_positions_df.loc[included[j]].iloc]) for j in range(3)]\n",
        "x1 = [np.array([row['pos'][1][0] for row in wire_positions_df.loc[included[j]].iloc]) for j in range(3)]\n",
        "y1 = [np.array([row['pos'][1][1] for row in wire_positions_df.loc[included[j]].iloc]) for j in range(3)]\n",
        "\n",
        "temp_df = pd.DataFrame()\n",
        "fig = go.FigureWidget()\n",
        "for j in range(3):\n",
        "  fig.add_scatter(x=x0[j],y=y0[j],mode='markers',name=\"Ring \" + str(rings[j]),marker={\"size\":3})\n",
        "fig.update_layout(xaxis_range=[-60,60], yaxis_range=[-60,60],width=520,height=500)\n",
        "fig.add_shape(type=\"circle\",\n",
        "    xref=\"x\", yref=\"y\",\n",
        "    x0=-10.5, y0=-10.5, x1=10.5, y1=10.5,\n",
        "    line_color=\"black\")\n",
        "fig.add_shape(type=\"circle\",\n",
        "    xref=\"x\", yref=\"y\",\n",
        "    x0=-55, y0=-55, x1=55, y1=55,\n",
        "    line_color=\"black\")\n",
        "fig.update()\n",
        "def update(z=1):\n",
        "  global fig\n",
        "  s= z/175\n",
        "  with fig.batch_update():\n",
        "    for j in range(3):\n",
        "      fig.data[j]['x']=s*x1[j]+(1-s)*x0[j]\n",
        "      fig.data[j]['y']=s*y1[j]+(1-s)*y0[j]\n",
        "    fig.update_layout(width=520,height=500)\n",
        "  fig.show()\n",
        "interact(update, z=(0,175,0.1))\n",
        "print(\"\")"
      ],
      "metadata": {
        "colab": {
          "base_uri": "https://localhost:8080/",
          "height": 566,
          "referenced_widgets": [
            "c64fb690d4444ac18ac3b915d10ac07d",
            "79259720fa55499481ede19585c46aef",
            "50120ec89c834a9d954bf3f282f12c56",
            "8e252378e7544e0d9cfeddbac1d61ffd",
            "8b3bb6a1b95540fab3c1ab7147bff192",
            "e0a9b3a1779d45629ae7dd67dbc1e5aa",
            "9a646eedbe404c1d85dc935a4fd4375a"
          ]
        },
        "cellView": "form",
        "id": "76RvDscdh9GT",
        "outputId": "ce58411a-f593-4477-f017-418e623ddf80"
      },
      "execution_count": 3,
      "outputs": [
        {
          "output_type": "display_data",
          "data": {
            "text/plain": [
              "interactive(children=(FloatSlider(value=1.0, description='z', max=175.0), Output()), _dom_classes=('widget-int…"
            ],
            "application/vnd.jupyter.widget-view+json": {
              "version_major": 2,
              "version_minor": 0,
              "model_id": "c64fb690d4444ac18ac3b915d10ac07d"
            }
          },
          "metadata": {
            "application/vnd.jupyter.widget-view+json": {
              "colab": {
                "custom_widget_manager": {
                  "url": "https://ssl.gstatic.com/colaboratory-static/widgets/colab-cdn-widget-manager/b3e629b1971e1542/manager.min.js"
                }
              }
            }
          }
        },
        {
          "output_type": "stream",
          "name": "stdout",
          "text": [
            "\n"
          ]
        }
      ]
    },
    {
      "cell_type": "markdown",
      "source": [
        "Double click to edit this cell and answer the following question: What do you notice about the wire positions as you change the the z coordinate?"
      ],
      "metadata": {
        "id": "1RWfhqwghQLo"
      }
    },
    {
      "cell_type": "markdown",
      "source": [
        "#####**Solution:**"
      ],
      "metadata": {
        "id": "0ukTcNNnhQLp"
      }
    },
    {
      "cell_type": "markdown",
      "source": [
        "As you change the z coordinate, the positions of the stereo rings (the rings whose wires are not straight ) change. Ring 5 is a stereo ring, so as we increase the z coordinate, the tilt of the wire affects its corrdinates more and more, which we interpret as a \"moving\" of the wire positions. Ring 9 is also a stereo ring, though it is tilted in the other direction, so as we increase the slider, the wires seem to move in the opposite direction of the ring 5 wires. Wire 4, however, is an **axial layer**, so the x and y coordinates of the wire does not change as we change the z coordinate."
      ],
      "metadata": {
        "id": "lOwddXoAhQLp"
      }
    },
    {
      "cell_type": "markdown",
      "source": [
        "---\n",
        "###**Curvature of Tracks**\n",
        "---\n",
        "\n",
        "So far, we haven't talked about how we can actually use these tracks to find the momentum of the particles that leave them. On its own, information about the track doesn't give us the ability to determine the momentum of the particle. Instead, we use a magnetic field to make the path of the particle of the particle curve. Based on the curvature of the track, we are able to infer the momentum of the particle.\n",
        "\n",
        "This method relies on the fact that charged particles moving in a magnetic field will travel in a circle.\n"
      ],
      "metadata": {
        "id": "0xPF-dRBRL3z"
      }
    },
    {
      "cell_type": "markdown",
      "source": [
        "<img src=\"data:image/png;base64,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\" alt=\"A diagram of a charged particle's path through a magnetic field pointing into the screen\" width=300>"
      ],
      "metadata": {
        "id": "E-JCYw00VGrC"
      }
    },
    {
      "cell_type": "markdown",
      "source": [
        "In the image shown above, there is a particle (at the top of the circle), moving with velocity $v$ through a magnetic field with strength $B$. The $\\otimes$ symbol tells us that the magnetic field is pointing into the screen. The particle travels in the path given by the dotted line, which is a circle of radius $r$. At every point of the circle, the magnetic force, labelled $F_{magnetic}$ is pointed towards the center of the circle, as is shown above. The force is always perpendicular to both the velocity $v$ and the magnetic field $B$. This means it is possible for the force to point towards the center of the circle or away from the center of the circle, and this depends on the charge of the particle.\n",
        "\n",
        "We can express the radius of the path as follows:\n",
        "\n",
        "$$\n",
        "r_{path} = \\frac{|p_\\perp|}{|q|B}\n",
        "$$\n",
        "where $r_{path}$ is the radius of the path, $|q|$ is the absolute value of the charge of the particle, and $B$ is the stregth of the magnetic field. $p_\\perp$ is called the **transverse momentum**, and it refers to the components of the momentum that are perpendicular to the direction of the magnetic field. In the GlueX detector, the magnetic field points along the z axis, meaning:\n",
        "$$\n",
        "|p_\\perp| = \\sqrt{p_x^2+p_y^2}\n",
        "$$\n",
        "where $p_x$ is the x component of the momentum vector and $p_y$ is the y component of the momentum vector.\n",
        "\n",
        "Since we know that the particle starts in the center of the detector, the path a particle takes can be entirely expressed in terms of $p_x$ and $p_y$.\n",
        "\n",
        "Run the cell below to create a plot below of a cross section of the GlueX detector (as if you were looking in the z direction). The black circles represent the boundaries of the central drift chamber. You can modify the sliders to change the values of $p_x$ and $p_y$ to modify the track of the particle, shown in blue. You can also change the slider labelled t_max, which will change how long the track is. t_max is not a property of the track- it is only used for the visualization."
      ],
      "metadata": {
        "id": "R7mSAJR1WngJ"
      }
    },
    {
      "cell_type": "code",
      "source": [
        "# @title\n",
        "fig = go.FigureWidget()\n",
        "fig.update_layout(xaxis_range=[-60,60], yaxis_range=[-60,60],width=500,height=500,showlegend=False,title=\"Track in the GlueX Detector\",xaxis_title=\"X\", yaxis_title=\"Y\")\n",
        "fig.add_scatter()\n",
        "fig.add_shape(type=\"circle\",\n",
        "    xref=\"x\", yref=\"y\",\n",
        "    x0=-10.5, y0=-10.5, x1=10.5, y1=10.5,\n",
        "    line_color=\"black\")\n",
        "fig.add_shape(type=\"circle\",\n",
        "    xref=\"x\", yref=\"y\",\n",
        "    x0=-55, y0=-55, x1=55, y1=55,\n",
        "    line_color=\"black\")\n",
        "fig.update()\n",
        "def update(charge=1,px=0.2,py=0.2,t_max = np.pi):\n",
        "  global fig\n",
        "  center_x = -1*charge*330*py/B\n",
        "  center_y = charge*330*px/B\n",
        "  t_curve = np.linspace(0,t_max,1000)\n",
        "  r_curvature = (center_x**2 + center_y**2)**0.5\n",
        "  theta_curvature = np.arctan2(-1*center_y,-1*center_x)\n",
        "  x_track = x_coord(r_curvature,theta_curvature,center_x,t_curve, charge)\n",
        "  y_track = y_coord(r_curvature,theta_curvature,center_y,t_curve,charge)\n",
        "  with fig.batch_update():\n",
        "    fig.data[0]['x']=x_track\n",
        "    fig.data[0]['y']=y_track\n",
        "    fig.update_layout(width=500,height=500)\n",
        "  fig.show()\n",
        "interact(update, px=(-1,1,0.0001),py=(-1,1,0.0001),t_max=(0,2*np.pi,0.0001),charge = (-1,1,2))\n",
        "print(\"\")"
      ],
      "metadata": {
        "colab": {
          "base_uri": "https://localhost:8080/",
          "height": 662,
          "referenced_widgets": [
            "d9f1a3433a374fdaa5fc2ebd73d5ce3e",
            "ff73e236ec5c4618b65d4b81b7894800",
            "d1986270270147429c3f995f106d2acf",
            "ebcaaa6c8be14e449c9cf89dd1e7ce1a",
            "910a8dcc64a6486aacf3696d1c07ba20",
            "fbbf2bb1834742d4b999982402a120c9",
            "649839500ed94c2285b6b551e97dc959",
            "ed0d0afddf04451a991346a52e711d43",
            "654ffe6a9fe144c8b218e424d180d89b",
            "2bd8cc7d950f47a0978e543a25b2c494",
            "e818338f73aa46ac8f962094d0da3826",
            "7018e87637444b1184315cd202e08709",
            "fdf8b5a0b661404e85c1f3cbc9a3d729",
            "5f9e63fdbfa04724b3df1480017f17b8",
            "730b01a400fd4186b4abcce6250f3d6b",
            "795fe4aa3af44172a863549a331e8630"
          ]
        },
        "id": "ri1rauPlNpBC",
        "outputId": "b756ea8a-89a8-45c9-932a-23406e6815a8",
        "cellView": "form"
      },
      "execution_count": 4,
      "outputs": [
        {
          "output_type": "display_data",
          "data": {
            "text/plain": [
              "interactive(children=(IntSlider(value=1, description='charge', max=1, min=-1, step=2), FloatSlider(value=0.2, …"
            ],
            "application/vnd.jupyter.widget-view+json": {
              "version_major": 2,
              "version_minor": 0,
              "model_id": "d9f1a3433a374fdaa5fc2ebd73d5ce3e"
            }
          },
          "metadata": {
            "application/vnd.jupyter.widget-view+json": {
              "colab": {
                "custom_widget_manager": {
                  "url": "https://ssl.gstatic.com/colaboratory-static/widgets/colab-cdn-widget-manager/b3e629b1971e1542/manager.min.js"
                }
              }
            }
          }
        },
        {
          "output_type": "stream",
          "name": "stdout",
          "text": [
            "\n"
          ]
        }
      ]
    },
    {
      "cell_type": "markdown",
      "source": [
        "#### **Question #6a:**\n",
        "---\n",
        "Change the charge of the simulated particle in the plot above. What about the path of the particle changes when you change the charge?"
      ],
      "metadata": {
        "id": "nZhO8QMiQvya"
      }
    },
    {
      "cell_type": "markdown",
      "source": [
        "Double click to edit this cell and answer the following question: What about the path of the particle changes when you change the charge?"
      ],
      "metadata": {
        "id": "zTY0ZQbqhAOA"
      }
    },
    {
      "cell_type": "markdown",
      "source": [
        "#####**Solution:**"
      ],
      "metadata": {
        "id": "pjqbuej9Q1GO"
      }
    },
    {
      "cell_type": "markdown",
      "source": [
        "Positively charged particles curve counterclockwise, while negatively charged particles curve clockwise. This is reflected in the equation for the magnetic force:\n",
        "$$\n",
        "F_{magnetic} = q*v\\times B\n",
        "$$\n",
        "where $q$ is the charge, $v$ is the velocity vector, $B$ is the magnetic field vector, and $F_{magnetic}$ is the force vector. Particles with opposite charges experience forces in opposite directions, which cause them to curve in opposite directions. Note that $\\times$ denotes the cross product, which is an operation between two vectors, not multiplication (which is an operation between two numbers)."
      ],
      "metadata": {
        "id": "SOv7_d_JQ1GP"
      }
    },
    {
      "cell_type": "markdown",
      "source": [
        "#### **Question #6b:**\n",
        "---\n",
        "Based on your answer to the previous question, how can we determine the charge of a particle based on its track?"
      ],
      "metadata": {
        "id": "E08XOn__LQzL"
      }
    },
    {
      "cell_type": "markdown",
      "source": [
        "Double click to edit this cell and answer the following question: How can we determine the charge of a particle based on its track?"
      ],
      "metadata": {
        "id": "IkEJkv2dLQzO"
      }
    },
    {
      "cell_type": "markdown",
      "source": [
        "#####**Solution:**"
      ],
      "metadata": {
        "id": "-dQtQwaeLQzO"
      }
    },
    {
      "cell_type": "markdown",
      "source": [
        "We can determine the charge of a particle based on the direction it curves. If the particle's track curves counterclockwise, we know the particle must be positively charged. If it curves clockwise, we know the particle must be negatively charged. A neutral particle's track would not curve at all, but neutral particles do not leave tracks."
      ],
      "metadata": {
        "id": "GIa49iWGLQzP"
      }
    },
    {
      "cell_type": "markdown",
      "source": [
        "---\n",
        "##**Track Fitting**\n",
        "---\n",
        "\n",
        "Track fitting is the process of figuring out the momentum vector of the particle pased on individual hits in the detector. There are several values that we need to find to adjust to get a good measurement of the momentum. In this section, we will explore how we can obtain the components of the momentum vector ($p_x$, $p_y$, and $p_z$), the charge of the particle, and the z coordinate of the vertex ($z_0$). While it is possible to obtain the other coordinates of the vertex ($x_0$ and $y_0$), it is very difficult to do manually, since they are usually smaller than a centimeter."
      ],
      "metadata": {
        "id": "2OYxaMnJMdWL"
      }
    },
    {
      "cell_type": "markdown",
      "source": [
        "---\n",
        "###**Step 1: Finding the Vertex**\n",
        "---\n",
        "\n",
        "In particle physics, a **vertex** is a place where particles are created. Whether the particles were created intentionally (by doing something to create them inside the \"target\") or through decays, the first step is to figure out where the particles came from. In other words, we want to find the coordinates of the vertex. Knowing the z coordinate of the vertex (often called $z_0$) is important because we can use it to estimate the z coordinate of the hits in the CDC, which is important because the the x and y coordinate of the hit depend on the z coordinate (see question #4).\n",
        "\n",
        "For this activity, we will assume that the vertex is somewhere along the beam axis (the z axis), so the x and y coordinates of the vertex are both 0.\n",
        "\n",
        "Below, we plotted the x and y coordinates of several hits left by a track in the GlueX CDC. However, you'll notice that the hits don't seem to line up to produce a smooth track. However, when you adjust the z coordinate of the vetex using the slider, you'll notice that you can update our estimate of the x and y coordinate of the hits in stereo rings (tilted rings). To find the best estimate of the z coordinate of the vertex (which gives us an estimate of the z codinates of the hits as well), we can adjust the slider until the points line up to form a smooth path."
      ],
      "metadata": {
        "id": "LeZV2BDSiHK_"
      }
    },
    {
      "cell_type": "code",
      "source": [
        "# @title\n",
        "import warnings\n",
        "warnings.filterwarnings(\"ignore\")\n",
        "i = 4\n",
        "row = track_fitting_events.iloc[i]\n",
        "x = row['r']*np.cos(row['theta'])\n",
        "y = row['r']*np.sin(row['theta'])\n",
        "temp_df = pd.DataFrame()\n",
        "temp_df['x']=row['r']*np.cos(row['theta'])\n",
        "temp_df['y']=row['r']*np.sin(row['theta'])\n",
        "temp_df['ring'] = row['ring']\n",
        "temp_df['wire'] = row['straw']\n",
        "fig = go.FigureWidget(pxp.scatter(data_frame=temp_df,x='x',y='y',hover_data=['ring','wire']))\n",
        "fig.update_traces(marker={\"size\":3})\n",
        "fig.update_layout(xaxis_range=[-60,60], yaxis_range=[-60,60],width=520,height=500,showlegend=False)\n",
        "fig.add_shape(type=\"circle\",\n",
        "    xref=\"x\", yref=\"y\",\n",
        "    x0=-10.5, y0=-10.5, x1=10.5, y1=10.5,\n",
        "    line_color=\"black\")\n",
        "fig.add_shape(type=\"circle\",\n",
        "    xref=\"x\", yref=\"y\",\n",
        "    x0=-55, y0=-55, x1=55, y1=55,\n",
        "    line_color=\"black\")\n",
        "fig.update()\n",
        "def update(z0=0):\n",
        "  global fig\n",
        "  global temp_df\n",
        "  new_x = temp_df['x'].to_numpy()\n",
        "  new_y = temp_df['y'].to_numpy()\n",
        "  for i in range(len(temp_df['ring'])):\n",
        "    hit = temp_df.iloc[i]\n",
        "    if hit['ring'] in [5,6,7,8,9,10,11,12,17,18,19,20,21,22,23,24]:\n",
        "      strawPos = positionsMatrix[int(hit['ring']-1)][int(hit['wire']-1)]\n",
        "      s = z0/175\n",
        "      new_x[i]= strawPos[0][0]*s + (1-s)*strawPos[1][0]\n",
        "      new_y[i]= strawPos[0][1]*s + (1-s)*strawPos[1][1]\n",
        "  with fig.batch_update():\n",
        "    fig.update_layout(width=520,height=500)\n",
        "    fig.data[0]['x']=new_x\n",
        "    fig.data[0]['y']=new_y\n",
        "  fig.show()\n",
        "interact(update,z0=(0,150,0.1))\n",
        "print(\"\")"
      ],
      "metadata": {
        "colab": {
          "base_uri": "https://localhost:8080/",
          "height": 566,
          "referenced_widgets": [
            "23d1795e8113423c8b4686bfaa1b5c47",
            "b5f1174fe91f46b9a209c484e08bb8e9",
            "d5227c8b52164f37825e700415ed870c",
            "f26ebe9024e947649b5bd76b80f9ffcf",
            "13efe35f93404e4fbdbd5c298181f4ce",
            "481de4dd7904484c94a6020cd1a873d2",
            "b2c7f9ad17834cb9893fb3aa268b40d7"
          ]
        },
        "id": "IhXkyK3CvxCn",
        "outputId": "175fdc4f-ef02-47c0-a071-391d96606b15",
        "cellView": "form"
      },
      "execution_count": 100,
      "outputs": [
        {
          "output_type": "display_data",
          "data": {
            "text/plain": [
              "interactive(children=(FloatSlider(value=0.0, description='z0', max=150.0), Output()), _dom_classes=('widget-in…"
            ],
            "application/vnd.jupyter.widget-view+json": {
              "version_major": 2,
              "version_minor": 0,
              "model_id": "23d1795e8113423c8b4686bfaa1b5c47"
            }
          },
          "metadata": {
            "application/vnd.jupyter.widget-view+json": {
              "colab": {
                "custom_widget_manager": {
                  "url": "https://ssl.gstatic.com/colaboratory-static/widgets/colab-cdn-widget-manager/b3e629b1971e1542/manager.min.js"
                }
              }
            }
          }
        },
        {
          "output_type": "stream",
          "name": "stdout",
          "text": [
            "\n"
          ]
        }
      ]
    },
    {
      "cell_type": "markdown",
      "source": [
        "For example, the z coordinate of the vertex for the hits shown above are around 80. Note that this is just an estimate, so any z coordinate between 75 and 85 should allow you to get a good estimate of the momentum.\n",
        "\n",
        "If the particle was moving in the z direction, the z coordinates of the hits could change as the particle moves through the detector. In these cases, it is impossible to find a $z_0$ value that lines up all of the points. This is the case in the example shown below. Try changing the value of $z_0$ to see that there is no \"perfect\" value for $z_0$! In these cases, just try your best to find a value of $z_0$ that allows you to estimate the path of the particle."
      ],
      "metadata": {
        "id": "8G1lD6FXN5dU"
      }
    },
    {
      "cell_type": "code",
      "source": [
        "# @title\n",
        "import warnings\n",
        "warnings.filterwarnings(\"ignore\")\n",
        "i = 10511\n",
        "row = track_fitting_events.iloc[i]\n",
        "x = row['r']*np.cos(row['theta'])\n",
        "y = row['r']*np.sin(row['theta'])\n",
        "temp_df = pd.DataFrame()\n",
        "temp_df['x']=row['r']*np.cos(row['theta'])\n",
        "temp_df['y']=row['r']*np.sin(row['theta'])\n",
        "temp_df['ring'] = row['ring']\n",
        "temp_df['wire'] = row['straw']\n",
        "fig = go.FigureWidget(pxp.scatter(data_frame=temp_df,x='x',y='y',hover_data=['ring','wire']))\n",
        "fig.update_traces(marker={\"size\":3})\n",
        "fig.update_layout(xaxis_range=[-60,60], yaxis_range=[-60,60],width=520,height=500,showlegend=False)\n",
        "fig.add_shape(type=\"circle\",\n",
        "    xref=\"x\", yref=\"y\",\n",
        "    x0=-10.5, y0=-10.5, x1=10.5, y1=10.5,\n",
        "    line_color=\"black\")\n",
        "fig.add_shape(type=\"circle\",\n",
        "    xref=\"x\", yref=\"y\",\n",
        "    x0=-55, y0=-55, x1=55, y1=55,\n",
        "    line_color=\"black\")\n",
        "fig.update()\n",
        "def update(z0=0):\n",
        "  global fig\n",
        "  global temp_df\n",
        "  new_x = temp_df['x'].to_numpy()\n",
        "  new_y = temp_df['y'].to_numpy()\n",
        "  for i in range(len(temp_df['ring'])):\n",
        "    hit = temp_df.iloc[i]\n",
        "    if hit['ring'] in [5,6,7,8,9,10,11,12,17,18,19,20,21,22,23,24]:\n",
        "      strawPos = positionsMatrix[int(hit['ring']-1)][int(hit['wire']-1)]\n",
        "      s = z0/175\n",
        "      new_x[i]= strawPos[0][0]*s + (1-s)*strawPos[1][0]\n",
        "      new_y[i]= strawPos[0][1]*s + (1-s)*strawPos[1][1]\n",
        "  with fig.batch_update():\n",
        "    fig.update_layout(width=520,height=500)\n",
        "    fig.data[0]['x']=new_x\n",
        "    fig.data[0]['y']=new_y\n",
        "  fig.show()\n",
        "interact(update,z0=(0,150,0.1))\n",
        "print(\"\")"
      ],
      "metadata": {
        "colab": {
          "base_uri": "https://localhost:8080/",
          "height": 66,
          "referenced_widgets": [
            "4cb3fcf929be4b84a894a78b7f1c181b",
            "01be3be032e947ac9446d5831d74ea08",
            "25f4b603d7424b72b07a01762183f0f2",
            "b22f0e60949043679645c09f781dff05",
            "b681314059bf4a25acb1bf97e267f9e2",
            "d55d4b49e2a040859334c97c578033c5",
            "511784fcc4a14a2dbbfd9d3e102e0489"
          ]
        },
        "outputId": "274f4b1f-7849-45bf-fd68-8d147aff107d",
        "cellView": "form",
        "id": "sJmnpkWbqXJs"
      },
      "execution_count": 101,
      "outputs": [
        {
          "output_type": "display_data",
          "data": {
            "text/plain": [
              "interactive(children=(FloatSlider(value=0.0, description='z0', max=150.0), Output()), _dom_classes=('widget-in…"
            ],
            "application/vnd.jupyter.widget-view+json": {
              "version_major": 2,
              "version_minor": 0,
              "model_id": "4cb3fcf929be4b84a894a78b7f1c181b"
            }
          },
          "metadata": {
            "application/vnd.jupyter.widget-view+json": {
              "colab": {
                "custom_widget_manager": {
                  "url": "https://ssl.gstatic.com/colaboratory-static/widgets/colab-cdn-widget-manager/b3e629b1971e1542/manager.min.js"
                }
              }
            }
          }
        },
        {
          "output_type": "stream",
          "name": "stdout",
          "text": [
            "\n"
          ]
        }
      ]
    },
    {
      "cell_type": "markdown",
      "source": [
        "In the example shown above, a $z_0$ value of about 109 should allow us to estimate the momentum. Again, this is just an estimate, so any value that is close to 109 should work just as well."
      ],
      "metadata": {
        "id": "xe98np8Q0kVb"
      }
    },
    {
      "cell_type": "markdown",
      "source": [
        "#### **Question #7:**\n",
        "---\n",
        "Every time you run the following cell, it will plot a new collection of hits with different z coordinates. Run the cell below and use the slider to find a good estimate of the z coordinate of the vertex of the track. Remember: if there is no value for $z_0$ that makes the hits perfectly line up, prioritize the hits closest to the center of the detector. Feel free to run this cell as many times as you need to practice finding the z values of the vertex in the CDC."
      ],
      "metadata": {
        "id": "5n2wqsBURxgq"
      }
    },
    {
      "cell_type": "code",
      "source": [
        "# @title\n",
        "import warnings\n",
        "warnings.filterwarnings(\"ignore\")\n",
        "i = np.random.randint(0,len(track_fitting_events['ring']))\n",
        "row = track_fitting_events.iloc[i]\n",
        "x = row['r']*np.cos(row['theta'])\n",
        "y = row['r']*np.sin(row['theta'])\n",
        "temp_df = pd.DataFrame()\n",
        "temp_df['x']=row['r']*np.cos(row['theta'])\n",
        "temp_df['y']=row['r']*np.sin(row['theta'])\n",
        "temp_df['ring'] = row['ring']\n",
        "temp_df['wire'] = row['straw']\n",
        "fig = go.FigureWidget(pxp.scatter(data_frame=temp_df,x='x',y='y',hover_data=['ring','wire']))\n",
        "fig.update_traces(marker={\"size\":3})\n",
        "fig.update_layout(xaxis_range=[-60,60], yaxis_range=[-60,60],width=520,height=500,showlegend=False)\n",
        "fig.add_shape(type=\"circle\",\n",
        "    xref=\"x\", yref=\"y\",\n",
        "    x0=-10.5, y0=-10.5, x1=10.5, y1=10.5,\n",
        "    line_color=\"black\")\n",
        "fig.add_shape(type=\"circle\",\n",
        "    xref=\"x\", yref=\"y\",\n",
        "    x0=-55, y0=-55, x1=55, y1=55,\n",
        "    line_color=\"black\")\n",
        "fig.update()\n",
        "def update(z0=0):\n",
        "  global fig\n",
        "  global temp_df\n",
        "  new_x = temp_df['x'].to_numpy()\n",
        "  new_y = temp_df['y'].to_numpy()\n",
        "  for i in range(len(temp_df['ring'])):\n",
        "    hit = temp_df.iloc[i]\n",
        "    if hit['ring'] in [5,6,7,8,9,10,11,12,17,18,19,20,21,22,23,24]:\n",
        "      strawPos = positionsMatrix[int(hit['ring']-1)][int(hit['wire']-1)]\n",
        "      s = z0/175\n",
        "      new_x[i]= strawPos[0][0]*s + (1-s)*strawPos[1][0]\n",
        "      new_y[i]= strawPos[0][1]*s + (1-s)*strawPos[1][1]\n",
        "  with fig.batch_update():\n",
        "    fig.update_layout(width=520,height=500)\n",
        "    fig.data[0]['x']=new_x\n",
        "    fig.data[0]['y']=new_y\n",
        "  fig.show()\n",
        "interact(update, z0=(0,150,0.1))\n",
        "print(\"\")"
      ],
      "metadata": {
        "colab": {
          "base_uri": "https://localhost:8080/",
          "height": 566,
          "referenced_widgets": [
            "a3c1cbb877c54fb9930ad10fce95f472",
            "c423ab64b71c4f28a7ac60b1c7098b1f",
            "20acc6fad30e4e17bb0d07525e620562",
            "4ad561ac77904273b7fa29fde3a4a40c",
            "c69a3d8a6c84454abf08e5395c6b3829",
            "aab921daa2ac4f539dae85d51285fd4b",
            "14cbfc5607bf4d7e971a3b41586aedd0"
          ]
        },
        "cellView": "form",
        "outputId": "a4f3d06f-2271-4bd9-864f-fdf027e98625",
        "id": "hsY1rH18PdHs"
      },
      "execution_count": 150,
      "outputs": [
        {
          "output_type": "display_data",
          "data": {
            "text/plain": [
              "interactive(children=(FloatSlider(value=0.0, description='z0', max=150.0), Output()), _dom_classes=('widget-in…"
            ],
            "application/vnd.jupyter.widget-view+json": {
              "version_major": 2,
              "version_minor": 0,
              "model_id": "a3c1cbb877c54fb9930ad10fce95f472"
            }
          },
          "metadata": {
            "application/vnd.jupyter.widget-view+json": {
              "colab": {
                "custom_widget_manager": {
                  "url": "https://ssl.gstatic.com/colaboratory-static/widgets/colab-cdn-widget-manager/b3e629b1971e1542/manager.min.js"
                }
              }
            }
          }
        },
        {
          "output_type": "stream",
          "name": "stdout",
          "text": [
            "\n"
          ]
        }
      ]
    },
    {
      "cell_type": "markdown",
      "source": [
        "#####**Solution:**"
      ],
      "metadata": {
        "id": "qV6c3E6tP4y1"
      }
    },
    {
      "cell_type": "markdown",
      "source": [
        "Run the cell below to calculate the z coordinate of the vertex for the hits shown above. Note that your value may be more accurate than the value produced by the following cell if there are multiple tracks (you can tell if there are multiple track if there are two different paths traced out by the hits) or if the hits don't form a line (sometimes, tracks just look like blobs, and we can't get much information from them). Things like this are easier for you to see than a computer to see!"
      ],
      "metadata": {
        "id": "E8fZnPTjP4y1"
      }
    },
    {
      "cell_type": "code",
      "source": [
        "# @title\n",
        "def updated_coordinates(z,center_x,center_y):\n",
        "  global temp_df\n",
        "  global positionsMatrix\n",
        "  new_x = temp_df['x'].to_numpy()\n",
        "  new_y = temp_df['y'].to_numpy()\n",
        "  for i in range(len(temp_df['ring'])):\n",
        "    hit = temp_df.iloc[i]\n",
        "    if hit['ring'] in [5,6,7,8,9,10,11,12,17,18,19,20,21,22,23,24]:\n",
        "      strawPos = positionsMatrix[int(hit['ring']-1)][int(hit['wire']-1)]\n",
        "      s = z/175\n",
        "      new_x[i]= strawPos[0][0]*s + (1-s)*strawPos[1][0]\n",
        "      new_y[i]= strawPos[0][1]*s + (1-s)*strawPos[1][1]\n",
        "  return new_x, new_y\n",
        "def distance_to_curve(x,y):\n",
        "  center_x = -1*330*row['py']/B\n",
        "  center_y = 330*row['px']/B\n",
        "  r_curvature = (center_x**2 + center_y**2)**0.5\n",
        "  distance_to_nearest_curve_point = abs(r_curvature-((x-center_x)**2+(y-center_y)**2)**0.5)\n",
        "  return distance_to_nearest_curve_point\n",
        "\n",
        "def calculate_rmse(x_points, y_points):\n",
        "    mse = sum([distance_to_curve(x_points[j],y_points[j])**2 for j in range(len(x_points)) if row['ring'][j] in [5,6,7,8,9,10,11,12,17,18,19,20,21,22,23,24]])/len(x_points)\n",
        "    rmse = mse/len(x_points)\n",
        "    return rmse\n",
        "rmses = {}\n",
        "center_x = -1*330*row['py']/B\n",
        "center_y = 330*row['px']/B\n",
        "for z in np.linspace(0,150,151):\n",
        "  new_x, new_y = updated_coordinates(z,center_x,center_y)\n",
        "  rmses[z] = calculate_rmse(new_x,new_y)\n",
        "print(\"The true z value is about \" + str(min(rmses, key=rmses.get)))"
      ],
      "metadata": {
        "colab": {
          "base_uri": "https://localhost:8080/"
        },
        "cellView": "form",
        "id": "hfxoDmNlu4-B",
        "outputId": "9de61272-c48e-49f4-f929-a73aebe0bc97"
      },
      "execution_count": 151,
      "outputs": [
        {
          "output_type": "stream",
          "name": "stdout",
          "text": [
            "The true z value is about 49.0\n"
          ]
        }
      ]
    },
    {
      "cell_type": "markdown",
      "source": [
        "---\n",
        "###**Step 2: Finding Charge and Transverse Momentum**\n",
        "---\n",
        "\n",
        "After our hits are lined up, we can fit the hits to a curve, which we calculate based on $p_x$ and $p_y$. Based on the direction of the curvature, we can find the charge of the particle as well.\n",
        "\n",
        "The cell below creates an interactive plot with sliders for every property of the track. First, use the slider below to adjust the z value until the track hits are lined up. Then, based on the direction the track curves, determine the charge of the particle. Finally, use the sliders to adjust $p_x$ and $p_y$ until the fitted track (the red line) passes through as many hit points as possible. Remember that you can use the t_max slider to increase or decrease the length of the track if necessary."
      ],
      "metadata": {
        "id": "G8jDPEgDZL3v"
      }
    },
    {
      "cell_type": "code",
      "source": [
        "# @title\n",
        "import warnings\n",
        "warnings.filterwarnings(\"ignore\")\n",
        "i = 10432\n",
        "row = track_fitting_events.iloc[i]\n",
        "x = row['r']*np.cos(row['theta'])\n",
        "y = row['r']*np.sin(row['theta'])\n",
        "temp_df = pd.DataFrame()\n",
        "temp_df['x']=row['r']*np.cos(row['theta'])\n",
        "temp_df['y']=row['r']*np.sin(row['theta'])\n",
        "temp_df['ring'] = row['ring']\n",
        "temp_df['wire'] = row['straw']\n",
        "fig = go.FigureWidget(pxp.scatter(data_frame=temp_df,x='x',y='y',hover_data=['ring','wire']))\n",
        "fig.update_traces(marker={\"size\":3})\n",
        "fig.update_layout(xaxis_range=[-60,60], yaxis_range=[-60,60],width=510,height=500,showlegend=False)\n",
        "fig.add_scatter()\n",
        "fig.add_shape(type=\"circle\",\n",
        "    xref=\"x\", yref=\"y\",\n",
        "    x0=-16, y0=-16, x1=16, y1=16,\n",
        "    line_color=\"black\")\n",
        "fig.add_shape(type=\"circle\",\n",
        "    xref=\"x\", yref=\"y\",\n",
        "    x0=-58, y0=-58, x1=58, y1=58,\n",
        "    line_color=\"black\")\n",
        "fig.update()\n",
        "def update(z0=75, px=0,py=0,charge=1,t_max = np.pi):\n",
        "  global fig\n",
        "  global temp_df\n",
        "  m=0.000511\n",
        "  new_x = temp_df['x'].to_numpy()\n",
        "  new_y = temp_df['y'].to_numpy()\n",
        "  for i in range(len(temp_df['ring'])):\n",
        "    hit = temp_df.iloc[i]\n",
        "    if hit['ring'] in [5,6,7,8,9,10,11,12,17,18,19,20,21,22,23,24]:\n",
        "      strawPos = positionsMatrix[int(hit['ring']-1)][int(hit['wire']-1)]\n",
        "      s = z0/175\n",
        "      new_x[i]= strawPos[0][0]*s + (1-s)*strawPos[1][0]\n",
        "      new_y[i]= strawPos[0][1]*s + (1-s)*strawPos[1][1]\n",
        "  center_x = -1*charge*330*py/B\n",
        "  center_y = charge*330*px/B\n",
        "  t_curve = np.linspace(0,t_max,1000)\n",
        "  r_curvature = (center_x**2 + center_y**2)**0.5\n",
        "  theta_curvature = np.arctan2(-1*center_y,-1*center_x)\n",
        "  x_track = x_coord(r_curvature,theta_curvature,center_x,t_curve, charge)\n",
        "  y_track = y_coord(r_curvature,theta_curvature,center_y,t_curve,charge)\n",
        "  with fig.batch_update():\n",
        "    fig.data[1]['x']=x_track\n",
        "    fig.data[1]['y']=y_track\n",
        "    fig.update_layout(width=510,height=500,showlegend=False)\n",
        "    fig.data[0]['x']=new_x\n",
        "    fig.data[0]['y']=new_y\n",
        "  fig.show()\n",
        "widget= interactive(update, z0=(0,150,0.1), px=(-1,1,0.0001),py=(-1,1,0.0001),t_max=(0,2*np.pi,0.0001),charge = (-1,1,2))\n",
        "controls = HBox(widget.children[:-1], layout = Layout(flex_flow='row wrap'))\n",
        "output = widget.children[-1]\n",
        "display(VBox([controls, output]))"
      ],
      "metadata": {
        "colab": {
          "base_uri": "https://localhost:8080/",
          "height": 581,
          "referenced_widgets": [
            "80d3b4eb03af47cab61fc9fe78e74c9e",
            "80ad8f40dcb04725bf1495053b9c01bf",
            "95396a3086a64b34ac3dc95f2f9a8647",
            "2a23e9b76228467e9be68960e0506f46",
            "2ab052f207e6478091df14f5af98d9b1",
            "1adaf379f9a94c40a7f51fee3f2371db",
            "e62830cdc35643a8a9da3648495277f9",
            "3cd54b86ec0d409c8f4a7a8f350d21bd",
            "f1af3f670f6141fcabe3a8334e2a8d5e",
            "5a4640c919754b07be81fc176116c210",
            "82581a1e54b44cf89f901bc894acc6ff",
            "45a3f99337d948eb86b048ed80b367f3",
            "b708c37958a147ac9cb9d552c01a6dd5",
            "b15532abfae24926918ca05fe5c98b0d",
            "b22654b4e1674075acd3ea4fce09af22",
            "c67732ebcf8b4698b2573af7f511de8b",
            "f34be6ee159f4c50938609c29f22acd4",
            "39db06f210cc4fbe8855efa14236c2cb",
            "e3b6cee416564312b3bb0d29ef4e937f",
            "d8784908a9b84dc7b4b32b24cc7f9dcf",
            "6698ad56b4874b6f9a701903878c3f6d"
          ]
        },
        "id": "5Ca9cx06a8yk",
        "outputId": "8ff37a33-24f5-49e5-81a2-de503ded3ac4",
        "cellView": "form"
      },
      "execution_count": 153,
      "outputs": [
        {
          "output_type": "display_data",
          "data": {
            "text/plain": [
              "VBox(children=(HBox(children=(FloatSlider(value=75.0, description='z0', max=150.0), FloatSlider(value=0.0, des…"
            ],
            "application/vnd.jupyter.widget-view+json": {
              "version_major": 2,
              "version_minor": 0,
              "model_id": "80d3b4eb03af47cab61fc9fe78e74c9e"
            }
          },
          "metadata": {
            "application/vnd.jupyter.widget-view+json": {
              "colab": {
                "custom_widget_manager": {
                  "url": "https://ssl.gstatic.com/colaboratory-static/widgets/colab-cdn-widget-manager/b3e629b1971e1542/manager.min.js"
                }
              }
            }
          }
        }
      ]
    },
    {
      "cell_type": "markdown",
      "source": [
        "In this case, we find that the z coordinate of the hits is $z=37$, the x component of the momentum is $p_x=0.08$, the y component of the momentum is $p_y=0.09$, and the charge is +1. Note that we needed to turn t_max all the way up to see the full track."
      ],
      "metadata": {
        "id": "-EqdYA-SdlDo"
      }
    },
    {
      "cell_type": "markdown",
      "source": [
        "#### **Question #8:**\n",
        "---\n",
        "Every time you run the following cell, it will plot a new collection of hits with different z coordinates for track with random momenta. Run the cell below and use the slider to find a good estimates of the z coordinate of the vertex, the x component of momentum, the y component of the momentum, and the charge. Feel free to run this cell as many times as you need to practice fitting tracks in the CDC."
      ],
      "metadata": {
        "id": "UREJhI9qalbL"
      }
    },
    {
      "cell_type": "code",
      "source": [
        "# @title\n",
        "import warnings\n",
        "warnings.filterwarnings(\"ignore\")\n",
        "i = np.random.randint(0,len(track_fitting_events['ring']))\n",
        "row = track_fitting_events.iloc[i]\n",
        "x = row['r']*np.cos(row['theta'])\n",
        "y = row['r']*np.sin(row['theta'])\n",
        "temp_df = pd.DataFrame()\n",
        "temp_df['x']=row['r']*np.cos(row['theta'])\n",
        "temp_df['y']=row['r']*np.sin(row['theta'])\n",
        "temp_df['ring'] = row['ring']\n",
        "temp_df['wire'] = row['straw']\n",
        "fig = go.FigureWidget(pxp.scatter(data_frame=temp_df,x='x',y='y',hover_data=['ring','wire']))\n",
        "fig.update_layout(xaxis_range=[-60,60], yaxis_range=[-60,60],width=510,height=500,showlegend=False)\n",
        "fig.add_scatter()\n",
        "fig.add_shape(type=\"circle\",\n",
        "    xref=\"x\", yref=\"y\",\n",
        "    x0=-16, y0=-16, x1=16, y1=16,\n",
        "    line_color=\"black\")\n",
        "fig.add_shape(type=\"circle\",\n",
        "    xref=\"x\", yref=\"y\",\n",
        "    x0=-58, y0=-58, x1=58, y1=58,\n",
        "    line_color=\"black\")\n",
        "fig.update_traces(marker={\"size\":3})\n",
        "fig.update()\n",
        "def update(z0=75, px=0,py=0,charge=1,t_max = np.pi):\n",
        "  global fig\n",
        "  global temp_df\n",
        "  m=0.000511\n",
        "  new_x = temp_df['x'].to_numpy()\n",
        "  new_y = temp_df['y'].to_numpy()\n",
        "  for i in range(len(temp_df['ring'])):\n",
        "    hit = temp_df.iloc[i]\n",
        "    if hit['ring'] in [5,6,7,8,9,10,11,12,17,18,19,20,21,22,23,24]:\n",
        "      strawPos = positionsMatrix[int(hit['ring']-1)][int(hit['wire']-1)]\n",
        "      s = z0/175\n",
        "      new_x[i]= strawPos[0][0]*s + (1-s)*strawPos[1][0]\n",
        "      new_y[i]= strawPos[0][1]*s + (1-s)*strawPos[1][1]\n",
        "  center_x = -1*charge*330*py/B\n",
        "  center_y = charge*330*px/B\n",
        "  t_curve = np.linspace(0,t_max,1000)\n",
        "  r_curvature = (center_x**2 + center_y**2)**0.5\n",
        "  theta_curvature = np.arctan2(-1*center_y,-1*center_x)\n",
        "  x_track = x_coord(r_curvature,theta_curvature,center_x,t_curve, charge)\n",
        "  y_track = y_coord(r_curvature,theta_curvature,center_y,t_curve,charge)\n",
        "  with fig.batch_update():\n",
        "    fig.data[1]['x']=x_track\n",
        "    fig.data[1]['y']=y_track\n",
        "    fig.update_layout(width=510,height=500,showlegend=False)\n",
        "    fig.data[0]['x']=new_x\n",
        "    fig.data[0]['y']=new_y\n",
        "  fig.show()\n",
        "widget= interactive(update, z0=(0,150,0.1), px=(-1,1,0.0001),py=(-1,1,0.0001),t_max=(0,2*np.pi,0.0001),charge = (-1,1,2))\n",
        "controls = HBox(widget.children[:-1], layout = Layout(flex_flow='row wrap'))\n",
        "output = widget.children[-1]\n",
        "display(VBox([controls, output]))"
      ],
      "metadata": {
        "id": "La9N7PRMcho_",
        "colab": {
          "base_uri": "https://localhost:8080/",
          "height": 581,
          "referenced_widgets": [
            "8ea46b17821f4f88a87bccf907a69db3",
            "bc84f6d25ec648cba7d80a266e7db4bb",
            "11e3ada30bd043c59f3a7e866aecc6fa",
            "47ac19ec31b64c03ac5553393c22f9c4",
            "db93f4400c5543dc9f427a04e25e186b",
            "ee61b5a127e14620a9e5f658da4c6756",
            "e534d1ce5a864f448be293e74d26a122",
            "1c4d763089a64dc1a4f1af0fe0c8716c",
            "a82295e30a1f4f2c9c3c981816fbc30c",
            "6a0971efbf6640ad8e65cf03568dc329",
            "bffac904facd450d949df840a984cf4e",
            "46e6db7e073c43babda5a418445e4d02",
            "ce5697767c934100bfda41922d95eaac",
            "5bb5aa45f9f441af8c264604aea6a81d",
            "9f4bc8aa45204b9caeb73a5f1b343a9f",
            "2f26b38e37664f4e9fcf8e302ab0e802",
            "6aad39bea36943cc951734f890a31495",
            "cb5f4c06f5964a86affd876644028514",
            "dff058d9882f4feba361429e0d0abd58",
            "c53f02f2d6a846459aca2e15790128fb",
            "5efe45823c464b5c93ba46f0986ebf05"
          ]
        },
        "cellView": "form",
        "outputId": "3835cfc3-2592-43d7-a30f-fd442c5dce4c"
      },
      "execution_count": 154,
      "outputs": [
        {
          "output_type": "display_data",
          "data": {
            "text/plain": [
              "VBox(children=(HBox(children=(FloatSlider(value=75.0, description='z0', max=150.0), FloatSlider(value=0.0, des…"
            ],
            "application/vnd.jupyter.widget-view+json": {
              "version_major": 2,
              "version_minor": 0,
              "model_id": "8ea46b17821f4f88a87bccf907a69db3"
            }
          },
          "metadata": {
            "application/vnd.jupyter.widget-view+json": {
              "colab": {
                "custom_widget_manager": {
                  "url": "https://ssl.gstatic.com/colaboratory-static/widgets/colab-cdn-widget-manager/b3e629b1971e1542/manager.min.js"
                }
              }
            }
          }
        }
      ]
    },
    {
      "cell_type": "markdown",
      "source": [
        "#####**Solution:**"
      ],
      "metadata": {
        "id": "MplKFBOMalbb"
      }
    },
    {
      "cell_type": "markdown",
      "source": [
        "Run the cell below to calculate the z coordinate of the vertex, and the x and y coordinates of momentum ($p_x$ and $p_y$) for the hits shown above. Note that your value may be more accurate than the value produced by the following cell if there are multiple tracks (you can tell if there are multiple track if there are two different paths traced out by the hits) or if the hits don't form a line (sometimes, tracks just look like blobs, and we can't get much information from them). Things like this are easier for you to see than a computer to see!"
      ],
      "metadata": {
        "id": "3l2E6qYufCxa"
      }
    },
    {
      "cell_type": "code",
      "source": [
        "# @title\n",
        "def updated_coordinates(z,center_x,center_y):\n",
        "  global temp_df\n",
        "  global positionsMatrix\n",
        "  new_x = temp_df['x'].to_numpy()\n",
        "  new_y = temp_df['y'].to_numpy()\n",
        "  for i in range(len(temp_df['ring'])):\n",
        "    hit = temp_df.iloc[i]\n",
        "    if hit['ring'] in [5,6,7,8,9,10,11,12,17,18,19,20,21,22,23,24]:\n",
        "      strawPos = positionsMatrix[int(hit['ring']-1)][int(hit['wire']-1)]\n",
        "      s = z/175\n",
        "      new_x[i]= strawPos[0][0]*s + (1-s)*strawPos[1][0]\n",
        "      new_y[i]= strawPos[0][1]*s + (1-s)*strawPos[1][1]\n",
        "  return new_x, new_y\n",
        "def distance_to_curve(x,y):\n",
        "  center_x = -1*330*row['py']/B\n",
        "  center_y = 330*row['px']/B\n",
        "  r_curvature = (center_x**2 + center_y**2)**0.5\n",
        "  distance_to_nearest_curve_point = abs(r_curvature-((x-center_x)**2+(y-center_y)**2)**0.5)\n",
        "  return distance_to_nearest_curve_point\n",
        "\n",
        "def calculate_rmse(x_points, y_points):\n",
        "    mse = sum([distance_to_curve(x_points[j],y_points[j])**2 for j in range(len(x_points)) if row['ring'][j] in [5,6,7,8,9,10,11,12,17,18,19,20,21,22,23,24]])/len(x_points)\n",
        "    rmse = mse/len(x_points)\n",
        "    return rmse\n",
        "rmses = {}\n",
        "center_x = -1*330*row['py']/B\n",
        "center_y = 330*row['px']/B\n",
        "for z in np.linspace(0,150,151):\n",
        "  new_x, new_y = updated_coordinates(z,center_x,center_y)\n",
        "  rmses[z] = calculate_rmse(new_x,new_y)\n",
        "print(\"The true z value is about \" + str(min(rmses, key=rmses.get)))\n",
        "print(\"The true px value is \" + str(round(row['px'],2)))\n",
        "print(\"The true py value is \" + str(round(row['py'],2)))"
      ],
      "metadata": {
        "colab": {
          "base_uri": "https://localhost:8080/"
        },
        "id": "AiqEhV57HP-c",
        "outputId": "aeae1aaa-e73d-41b7-ed7d-351ab790911b",
        "cellView": "form"
      },
      "execution_count": 155,
      "outputs": [
        {
          "output_type": "stream",
          "name": "stdout",
          "text": [
            "The true z value is about 39.0\n",
            "The true px value is -0.11\n",
            "The true py value is 0.09\n"
          ]
        }
      ]
    },
    {
      "cell_type": "markdown",
      "source": [
        "---\n",
        "###**Step 3: Finding Momentum in Z direction**\n",
        "---\n",
        "\n",
        "So far, we have not provided any information about the $z$ component of the momentum ($p_z$). If the $z$ component of the momentum vector is 0, that means that the particle is not moving in the z direction at all, which means that all of the hits should have the same z coordinate. However, if $p_z$ is not zero then the particle is moving in the z direction, which means the z coordinates of the hits should change as the particle passes through the detector. For example, the first hit may have a z coordinate of 70, while the last hit has a z coordinate of 80. This is what may cause a track to not line up, even if we have the correct z coordinate of the vertex. To fix, this, we adjust the z coordinate of hits that occur later in the track based on the momentum in the z direction.\n",
        "\n",
        "The plot below shows the correct track for the hits shown below. Change the value of $p_z$ in the plot below to see its effect on the track hits. Try to find the value of $p_z$ that causes the points to align. Note that you may have to change the value of $z_0$ to make the points align perfectly."
      ],
      "metadata": {
        "id": "AdfGTl7nv4-e"
      }
    },
    {
      "cell_type": "code",
      "source": [
        "# @title\n",
        "import warnings\n",
        "warnings.filterwarnings(\"ignore\")\n",
        "i = 13873\n",
        "row = track_fitting_events.iloc[i]\n",
        "x = row['r']*np.cos(row['theta'])\n",
        "y = row['r']*np.sin(row['theta'])\n",
        "temp_df = pd.DataFrame()\n",
        "temp_df['x']=row['r']*np.cos(row['theta'])\n",
        "temp_df['y']=row['r']*np.sin(row['theta'])\n",
        "temp_df['ring'] = row['ring']\n",
        "temp_df['wire'] = row['straw']\n",
        "fig = go.FigureWidget(pxp.scatter(data_frame=temp_df,x='x',y='y',hover_data=['ring','wire']))\n",
        "fig.update_traces(marker={\"size\":3})\n",
        "fig.update_layout(xaxis_range=[-60,60], yaxis_range=[-60,60],width=510,height=500,showlegend=False)\n",
        "fig.add_scatter()\n",
        "fig.add_shape(type=\"circle\",\n",
        "    xref=\"x\", yref=\"y\",\n",
        "    x0=-16, y0=-16, x1=16, y1=16,\n",
        "    line_color=\"black\")\n",
        "fig.add_shape(type=\"circle\",\n",
        "    xref=\"x\", yref=\"y\",\n",
        "    x0=-58, y0=-58, x1=58, y1=58,\n",
        "    line_color=\"black\")\n",
        "fig.update()\n",
        "def update(pz=0):\n",
        "  global fig\n",
        "  global temp_df\n",
        "  px=row['px']\n",
        "  py=row['py']\n",
        "  t_max = np.pi\n",
        "  z0=row['vz']\n",
        "  charge=1\n",
        "  p = (px**2 + py**2 + pz**2)**0.5\n",
        "  z_angle = np.arcsin(pz/p)\n",
        "  m=0.000511\n",
        "  new_x = temp_df['x'].to_numpy()\n",
        "  new_y = temp_df['y'].to_numpy()\n",
        "  center_x = -1*charge*330*py/B\n",
        "  center_y = charge*330*px/B\n",
        "  t_curve = np.linspace(0,t_max,1000)\n",
        "  r_curvature = (center_x**2 + center_y**2)**0.5\n",
        "  theta_curvature = np.arctan2(-1*center_y,-1*center_x)\n",
        "  theta_hits= np.arctan2(new_y-center_y,new_x-center_x)\n",
        "  for i in range(len(theta_hits)):\n",
        "    theta_hits[i]-= theta_curvature\n",
        "    if theta_hits[i] <0:\n",
        "      theta_hits[i] += 2*np.pi\n",
        "  x_track = x_coord(r_curvature,theta_curvature,center_x,t_curve, charge)\n",
        "  y_track = y_coord(r_curvature,theta_curvature,center_y,t_curve,charge)\n",
        "  for i in range(len(temp_df['ring'])):\n",
        "    hit = temp_df.iloc[i]\n",
        "    if hit['ring'] in [5,6,7,8,9,10,11,12,17,18,19,20,21,22,23,24]:\n",
        "      strawPos = positionsMatrix[int(hit['ring']-1)][int(hit['wire']-1)]\n",
        "      s = (z0 + r_curvature*theta_hits[i]*np.tan(z_angle))/175\n",
        "      new_x[i]= strawPos[0][0]*s + (1-s)*strawPos[1][0]\n",
        "      new_y[i]= strawPos[0][1]*s + (1-s)*strawPos[1][1]\n",
        "  with fig.batch_update():\n",
        "    fig.data[1]['x']=x_track\n",
        "    fig.data[1]['y']=y_track\n",
        "    fig.update_layout(width=510,height=500,showlegend=False)\n",
        "    fig.data[0]['x']=new_x\n",
        "    fig.data[0]['y']=new_y\n",
        "  fig.show()\n",
        "widget= interactive(update, pz=(-1,1,0.001))\n",
        "widget.update()\n",
        "controls = HBox(widget.children[:-1], layout = Layout(flex_flow='row wrap'))\n",
        "output = widget.children[-1]\n",
        "display(VBox([controls, output]))"
      ],
      "metadata": {
        "colab": {
          "base_uri": "https://localhost:8080/",
          "height": 549,
          "referenced_widgets": [
            "159489778f374bcdba45696db50ccd1d",
            "2b92d737de3e401e8ce00cc8886b51d1",
            "945c5665a6c247f9adf0eb6c89f9f5b2",
            "f8599dbf971c471c8e1ab78bf4564686",
            "6da158744ff34cdfbece91569e802d6a",
            "a3c3a495315940f89e1afcb2cc0188f2",
            "56b94b1894a3446082e32a285a3db771",
            "50a735ffb2e3415a92f0c53294a565ca",
            "843ba0dee2cc424b8460dd36c565f2d0"
          ]
        },
        "outputId": "4a5e4cd6-d972-434c-82d1-3226d247d245",
        "cellView": "form",
        "id": "QldYsTn58_4M"
      },
      "execution_count": 183,
      "outputs": [
        {
          "output_type": "display_data",
          "data": {
            "text/plain": [
              "VBox(children=(HBox(children=(FloatSlider(value=0.0, description='pz', max=1.0, min=-1.0, step=0.001),), layou…"
            ],
            "application/vnd.jupyter.widget-view+json": {
              "version_major": 2,
              "version_minor": 0,
              "model_id": "159489778f374bcdba45696db50ccd1d"
            }
          },
          "metadata": {
            "application/vnd.jupyter.widget-view+json": {
              "colab": {
                "custom_widget_manager": {
                  "url": "https://ssl.gstatic.com/colaboratory-static/widgets/colab-cdn-widget-manager/b3e629b1971e1542/manager.min.js"
                }
              }
            }
          }
        }
      ]
    },
    {
      "cell_type": "markdown",
      "source": [
        "The hits shown above have a z momentum of about 0.28.\n",
        "\n",
        "You may notice that the $p_z$ slider has a similar effect to the $z_0$ slider. This is because they are used together to estimate the z coordinate of the hits, which affects the wire positions. In reality, we will have to go back and forth, slightly modifying both the $z_0$ slider and the $p_z$ slider, to find their true values. Try to find the true $z_0$ value and $p_z$ value in the example below."
      ],
      "metadata": {
        "id": "YZG4GV8VBpfh"
      }
    },
    {
      "cell_type": "code",
      "source": [
        "# @title\n",
        "import warnings\n",
        "warnings.filterwarnings(\"ignore\")\n",
        "i = np.random.randint(0,len(track_fitting_events['ring']))\n",
        "row = track_fitting_events.iloc[i]\n",
        "x = row['r']*np.cos(row['theta'])\n",
        "y = row['r']*np.sin(row['theta'])\n",
        "temp_df = pd.DataFrame()\n",
        "temp_df['x']=row['r']*np.cos(row['theta'])\n",
        "temp_df['y']=row['r']*np.sin(row['theta'])\n",
        "temp_df['ring'] = row['ring']\n",
        "temp_df['wire'] = row['straw']\n",
        "fig = go.FigureWidget(pxp.scatter(data_frame=temp_df,x='x',y='y',hover_data=['ring','wire']))\n",
        "fig.update_traces(marker={\"size\":3})\n",
        "fig.update_layout(xaxis_range=[-60,60], yaxis_range=[-60,60],width=510,height=500,showlegend=False)\n",
        "fig.add_scatter()\n",
        "fig.add_shape(type=\"circle\",\n",
        "    xref=\"x\", yref=\"y\",\n",
        "    x0=-16, y0=-16, x1=16, y1=16,\n",
        "    line_color=\"black\")\n",
        "fig.add_shape(type=\"circle\",\n",
        "    xref=\"x\", yref=\"y\",\n",
        "    x0=-58, y0=-58, x1=58, y1=58,\n",
        "    line_color=\"black\")\n",
        "fig.update()\n",
        "def update(z0=75,pz=0):\n",
        "  global fig\n",
        "  global temp_df\n",
        "  px=row['px']\n",
        "  py=row['py']\n",
        "  t_max = np.pi\n",
        "  charge=1\n",
        "  p = (px**2 + py**2 + pz**2)**0.5\n",
        "  z_angle = np.arcsin(pz/p)\n",
        "  m=0.000511\n",
        "  new_x = temp_df['x'].to_numpy()\n",
        "  new_y = temp_df['y'].to_numpy()\n",
        "  center_x = -1*charge*330*py/B\n",
        "  center_y = charge*330*px/B\n",
        "  t_curve = np.linspace(0,t_max,1000)\n",
        "  r_curvature = (center_x**2 + center_y**2)**0.5\n",
        "  theta_curvature = np.arctan2(-1*center_y,-1*center_x)\n",
        "  theta_hits= np.arctan2(new_y-center_y,new_x-center_x)\n",
        "  for i in range(len(theta_hits)):\n",
        "    theta_hits[i]-= theta_curvature\n",
        "    if theta_hits[i] <0:\n",
        "      theta_hits[i] += 2*np.pi\n",
        "  x_track = x_coord(r_curvature,theta_curvature,center_x,t_curve, charge)\n",
        "  y_track = y_coord(r_curvature,theta_curvature,center_y,t_curve,charge)\n",
        "  for i in range(len(temp_df['ring'])):\n",
        "    hit = temp_df.iloc[i]\n",
        "    if hit['ring'] in [5,6,7,8,9,10,11,12,17,18,19,20,21,22,23,24]:\n",
        "      strawPos = positionsMatrix[int(hit['ring']-1)][int(hit['wire']-1)]\n",
        "      s = (z0 + r_curvature*theta_hits[i]*np.tan(z_angle))/175\n",
        "      new_x[i]= strawPos[0][0]*s + (1-s)*strawPos[1][0]\n",
        "      new_y[i]= strawPos[0][1]*s + (1-s)*strawPos[1][1]\n",
        "  with fig.batch_update():\n",
        "    fig.data[1]['x']=x_track\n",
        "    fig.data[1]['y']=y_track\n",
        "    fig.update_layout(width=510,height=500,showlegend=False)\n",
        "    fig.data[0]['x']=new_x\n",
        "    fig.data[0]['y']=new_y\n",
        "  fig.show()\n",
        "widget= interactive(update, z0=(0,175,0.1),pz=(-1,1,0.001))\n",
        "widget.update()\n",
        "controls = HBox(widget.children[:-1], layout = Layout(flex_flow='row wrap'))\n",
        "output = widget.children[-1]\n",
        "display(VBox([controls, output]))"
      ],
      "metadata": {
        "colab": {
          "base_uri": "https://localhost:8080/",
          "height": 549,
          "referenced_widgets": [
            "d1d9fc8269da4d719b22f3a670a16787",
            "d3b6d7c47d5e4e37b3c98bdf4255b156",
            "6834a95a8e91446bb28912cf3ea7edd9",
            "2472f27e89a7417abab1aab1d9aa87f4",
            "0e12f6961a4441ffa5611c8635ac553d",
            "2ffed83cf2494e0bb716e350c2a91dfa",
            "f855a744926b4c6b8325694d3f0d2056",
            "454928c6b9f0431088f9f4400c86934c",
            "f678425fbdec481f978bd4d168edaf14",
            "5fbda74f74954675ba2793004f3e106b",
            "c085194f643541a9b3e11afffe190953",
            "008f39a56f66413eb503dec2e0e8fdd4"
          ]
        },
        "outputId": "6a593f91-b990-4532-c8ac-2f86256cd3c5",
        "cellView": "form",
        "id": "RMiHNH3rCmqM"
      },
      "execution_count": 187,
      "outputs": [
        {
          "output_type": "display_data",
          "data": {
            "text/plain": [
              "VBox(children=(HBox(children=(FloatSlider(value=75.0, description='z0', max=175.0), FloatSlider(value=0.0, des…"
            ],
            "application/vnd.jupyter.widget-view+json": {
              "version_major": 2,
              "version_minor": 0,
              "model_id": "d1d9fc8269da4d719b22f3a670a16787"
            }
          },
          "metadata": {
            "application/vnd.jupyter.widget-view+json": {
              "colab": {
                "custom_widget_manager": {
                  "url": "https://ssl.gstatic.com/colaboratory-static/widgets/colab-cdn-widget-manager/b3e629b1971e1542/manager.min.js"
                }
              }
            }
          }
        }
      ]
    },
    {
      "cell_type": "markdown",
      "source": [
        "For the example above, setting the z coordinate of the vertex ($z_0$) to 65 and the z component of the momentum ($p_z$) to 0.54 will create a very smooth track. This step is subtantially harder than the other two steps: There seem to be multiple values that seem to produce similar results! For example, setting the z coordinate of the vertex ($z_0$) to 79 and the z component of the momentum ($p_z$) to 0.45 seems to yield almost the exact same results. The difference between these two options is extremely subtle, though computers are able to calculate that the first option is better than the second option based on how close the points are to the curve. This is why we let computers do all of these steps for us!"
      ],
      "metadata": {
        "id": "F63rBw3mEGvP"
      }
    },
    {
      "cell_type": "markdown",
      "source": [
        "#### **Question #9:**\n",
        "---\n",
        "Every time you run the following cell, it will plot a new collection of hits with different z coordinates for track with random momenta. Run the cell below and use the slider to find a good estimate of the z coordinate of the hits, the x component of momentum, the y component of the momentum, and the charge. Feel free to run this cell as many times as you need to practice fitting tracks in the CDC."
      ],
      "metadata": {
        "id": "NT2iD52Lv4-8"
      }
    },
    {
      "cell_type": "code",
      "source": [
        "# @title\n",
        "import warnings\n",
        "warnings.filterwarnings(\"ignore\")\n",
        "i = np.random.randint(0,len(track_fitting_events['ring']))\n",
        "row = track_fitting_events.iloc[i]\n",
        "x = row['r']*np.cos(row['theta'])\n",
        "y = row['r']*np.sin(row['theta'])\n",
        "temp_df = pd.DataFrame()\n",
        "temp_df['x']=row['r']*np.cos(row['theta'])\n",
        "temp_df['y']=row['r']*np.sin(row['theta'])\n",
        "temp_df['ring'] = row['ring']\n",
        "temp_df['wire'] = row['straw']\n",
        "fig = go.FigureWidget(pxp.scatter(data_frame=temp_df,x='x',y='y',hover_data=['ring','wire']))\n",
        "fig.update_layout(xaxis_range=[-60,60], yaxis_range=[-60,60],width=510,height=500,showlegend=False)\n",
        "fig.add_scatter()\n",
        "fig.add_shape(type=\"circle\",\n",
        "    xref=\"x\", yref=\"y\",\n",
        "    x0=-16, y0=-16, x1=16, y1=16,\n",
        "    line_color=\"black\")\n",
        "fig.add_shape(type=\"circle\",\n",
        "    xref=\"x\", yref=\"y\",\n",
        "    x0=-58, y0=-58, x1=58, y1=58,\n",
        "    line_color=\"black\")\n",
        "fig.update_traces(marker={\"size\":3})\n",
        "fig.update()\n",
        "def update(z0=75,px=0.0001,py=0,charge=1,pz=0,t_max = np.pi):\n",
        "  global fig\n",
        "  global temp_df\n",
        "  p = (px**2 + py**2 + pz**2)**0.5\n",
        "  z_angle = np.arcsin(pz/p)\n",
        "  m=0.000511\n",
        "  new_x = temp_df['x'].to_numpy()\n",
        "  new_y = temp_df['y'].to_numpy()\n",
        "  center_x = -1*charge*330*py/B\n",
        "  center_y = charge*330*px/B\n",
        "  t_curve = np.linspace(0,t_max,1000)\n",
        "  r_curvature = (center_x**2 + center_y**2)**0.5\n",
        "  theta_curvature = np.arctan2(-1*center_y,-1*center_x)\n",
        "  theta_hits= np.arctan2(new_y-center_y,new_x-center_x)\n",
        "  for i in range(len(theta_hits)):\n",
        "    theta_hits[i]-= theta_curvature\n",
        "    if theta_hits[i] <0:\n",
        "      theta_hits[i] += 2*np.pi\n",
        "  x_track = x_coord(r_curvature,theta_curvature,center_x,t_curve, charge)\n",
        "  y_track = y_coord(r_curvature,theta_curvature,center_y,t_curve,charge)\n",
        "  for i in range(len(temp_df['ring'])):\n",
        "    hit = temp_df.iloc[i]\n",
        "    if hit['ring'] in [5,6,7,8,9,10,11,12,17,18,19,20,21,22,23,24]:\n",
        "      strawPos = positionsMatrix[int(hit['ring']-1)][int(hit['wire']-1)]\n",
        "      s = (z0 + r_curvature*theta_hits[i]*np.tan(z_angle))/175\n",
        "      new_x[i]= strawPos[0][0]*s + (1-s)*strawPos[1][0]\n",
        "      new_y[i]= strawPos[0][1]*s + (1-s)*strawPos[1][1]\n",
        "\n",
        "  with fig.batch_update():\n",
        "    fig.data[1]['x']=x_track\n",
        "    fig.data[1]['y']=y_track\n",
        "    fig.update_layout(width=510,height=500,showlegend=False)\n",
        "    fig.data[0]['x']=new_x\n",
        "    fig.data[0]['y']=new_y\n",
        "  fig.show()\n",
        "widget= interactive(update, z0=(0,150,0.1), px=(-1,1,0.0001),py=(-1,1,0.0001),t_max=(0,2*np.pi,0.0001),charge = (-1,1,2),pz=(-1,1,0.0001))\n",
        "controls = HBox(widget.children[:-1], layout = Layout(flex_flow='row wrap'))\n",
        "output = widget.children[-1]\n",
        "display(VBox([controls, output]))"
      ],
      "metadata": {
        "colab": {
          "base_uri": "https://localhost:8080/",
          "height": 581,
          "referenced_widgets": [
            "c6ebdbeb33c74a2b972f524739ac51fd",
            "996c45099fc84d88a1b7e061abed5176",
            "64233eb824264f799a2d26195ccaafb0",
            "601c0fd7fe2340eda87d1020ed0a4f11",
            "d58e404e799342bc853c57d8895cdafd",
            "d86563e669c242eba03a64e670214122",
            "36b5937a73a9465c92af0857ae6db5d1",
            "2acb5c56074b43729ab348068bac28fd",
            "6990fe2e0de341339e7506f5a4b92389",
            "6f8a5f77ebe54677a180927963589cfa",
            "d6e9da18efc94367af614aefb07f9d35",
            "484d1072ea164525865ca7d55be59a5b",
            "5603d0dc72c444d5a9188a94f580bfbf",
            "e74ab1b521df4164b55c003b8fd81e84",
            "9bb17c5da46547819b20a9db656b6f92",
            "884b70eb34934193ad127ce715f7275a",
            "f8e38b1e149849fd8229d9afbaceee8d",
            "d4ccc5612aab4ee5bfdf57bc39b93dfe",
            "4e1c03a7c26c4f8ca08ea22d8ae16b6d",
            "5c21f4119b004c288324f0490b172a4f",
            "9d69b5f646ad4415b3564e189933d3e2",
            "272231cb90264e79ba116a9b36dd70dd",
            "f2476426078f4782b17931b4ca03b4ae",
            "5aa365db22e5483ebc2c3d4db12a1b45"
          ]
        },
        "cellView": "form",
        "id": "Uhv9ajybv4-8",
        "outputId": "5ff734a2-e9d2-4b03-b855-d58b901c116a"
      },
      "execution_count": 197,
      "outputs": [
        {
          "output_type": "display_data",
          "data": {
            "text/plain": [
              "VBox(children=(HBox(children=(FloatSlider(value=75.0, description='z0', max=150.0), FloatSlider(value=0.0001, …"
            ],
            "application/vnd.jupyter.widget-view+json": {
              "version_major": 2,
              "version_minor": 0,
              "model_id": "c6ebdbeb33c74a2b972f524739ac51fd"
            }
          },
          "metadata": {
            "application/vnd.jupyter.widget-view+json": {
              "colab": {
                "custom_widget_manager": {
                  "url": "https://ssl.gstatic.com/colaboratory-static/widgets/colab-cdn-widget-manager/b3e629b1971e1542/manager.min.js"
                }
              }
            }
          }
        }
      ]
    },
    {
      "cell_type": "markdown",
      "source": [
        "#####**Solution:**"
      ],
      "metadata": {
        "id": "3DChbK-bv4-9"
      }
    },
    {
      "cell_type": "markdown",
      "source": [
        "Run the cell below to see the best values for the z coordinate of the vertex ($z_0$), the components of the momentum ($p_x$, $p_y$, and $p_z$), and the charge. If the hits are just a blob (instead of a line) or there are multiple tracks (meaning there seem to be multiple lines of hits), these values may not be accurate."
      ],
      "metadata": {
        "id": "_a-K01Wqv4-9"
      }
    },
    {
      "cell_type": "code",
      "source": [
        "# @title\n",
        "def updated_coordinates(z,center_x,center_y):\n",
        "  global temp_df\n",
        "  global positionsMatrix\n",
        "  new_x = temp_df['x'].to_numpy()\n",
        "  new_y = temp_df['y'].to_numpy()\n",
        "  r_curvature = (center_x**2 + center_y**2)**0.5\n",
        "  theta_curvature = np.arctan2(-1*center_y,-1*center_x)\n",
        "  theta_hits= np.arctan2(new_y-center_y,new_x-center_x)\n",
        "  p = (row['px']**2 + row['py']**2 + row['pz']**2)**0.5\n",
        "  z_angle = np.arcsin(row['pz']/p)\n",
        "  for i in range(len(theta_hits)):\n",
        "    theta_hits[i]-= theta_curvature\n",
        "    if theta_hits[i] <0:\n",
        "      theta_hits[i] += 2*np.pi\n",
        "  for i in range(len(temp_df['ring'])):\n",
        "    hit = temp_df.iloc[i]\n",
        "    if hit['ring'] in [5,6,7,8,9,10,11,12,17,18,19,20,21,22,23,24]:\n",
        "      strawPos = positionsMatrix[int(hit['ring']-1)][int(hit['wire']-1)]\n",
        "      s = (z + r_curvature*theta_hits[i]*np.tan(z_angle))/175\n",
        "      new_x[i]= strawPos[0][0]*s + (1-s)*strawPos[1][0]\n",
        "      new_y[i]= strawPos[0][1]*s + (1-s)*strawPos[1][1]\n",
        "  return new_x, new_y\n",
        "\n",
        "def parametric_curve(t):\n",
        "  global row\n",
        "  global B\n",
        "  center_x = -1*330*row['py']/B\n",
        "  center_y = 330*row['px']/B\n",
        "  r_curvature = (center_x**2 + center_y**2)**0.5\n",
        "  theta_curvature = np.arctan2(-1*center_y,-1*center_x)\n",
        "  x_track = x_coord(r_curvature,theta_curvature,center_x,t, 1)\n",
        "  y_track = y_coord(r_curvature,theta_curvature,center_y,t,1)\n",
        "  return x_track, y_track\n",
        "def distance(point1, point2):\n",
        "    return np.sqrt((point1[0] - point2[0])**2 + (point1[1] - point2[1])**2)\n",
        "\n",
        "def distance_to_curve(x,y):\n",
        "  curve = parametric_curve(np.linspace(0,6.28,100))\n",
        "  distance_to_nearest_curve_point = min([((x-curve[0][j])**2 + (y-curve[1][j])**2)**0.5 for j in range(100)])\n",
        "  return distance_to_nearest_curve_point\n",
        "\n",
        "def calculate_rmse(x_points, y_points):\n",
        "    mse = sum([distance_to_curve(x_points[j],y_points[j])**2 for j in range(len(x_points))])/len(x_points)\n",
        "    rmse = mse/len(x_points)\n",
        "    return rmse\n",
        "rmses = {}\n",
        "center_x = -1*330*row['py']/B\n",
        "center_y = 330*row['px']/B\n",
        "for z in np.linspace(0,150,151):\n",
        "  new_x, new_y = updated_coordinates(z,center_x,center_y)\n",
        "  rmses[z] = calculate_rmse(new_x,new_y)\n",
        "print('The true px value is: ' + str(round(row['px'],2)) + \" GeV/c\")\n",
        "print('The true py value is: ' + str(round(row['py'],2)) + \" GeV/c\")\n",
        "print('The true pz value is: ' + str(round(row['pz'],2)) + \" GeV/c\")\n",
        "print(\"The true z value is about \" + str(min(rmses, key=rmses.get)))\n",
        "print(\"The charge of the particle is 1\")"
      ],
      "metadata": {
        "colab": {
          "base_uri": "https://localhost:8080/"
        },
        "outputId": "9032f3d5-7215-49e7-b403-19cf64273a12",
        "cellView": "form",
        "id": "z-Rwb-rjv4-9"
      },
      "execution_count": 198,
      "outputs": [
        {
          "output_type": "stream",
          "name": "stdout",
          "text": [
            "The true px value is: 0.3 GeV/c\n",
            "The true py value is: -0.21 GeV/c\n",
            "The true pz value is: 0.45 GeV/c\n",
            "The true z value is about 59.0\n",
            "The charge of the particle is 1\n"
          ]
        }
      ]
    }
  ]
}