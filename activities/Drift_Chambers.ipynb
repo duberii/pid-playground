{
  "nbformat": 4,
  "nbformat_minor": 0,
  "metadata": {
    "colab": {
      "provenance": [],
      "collapsed_sections": [
        "Nw2lfeLNQXVm",
        "9iwBnEgGQeBD",
        "9lVBhsmTUZ4D",
        "O3Op721ZUZ4W",
        "Q3MD_YFeqzeE",
        "tyyYO4kLqzeG",
        "RIR54FwWrSg3",
        "TOaC6UORrShV",
        "Gbyz0nBDhQLU",
        "0ukTcNNnhQLp",
        "nZhO8QMiQvya",
        "pjqbuej9Q1GO",
        "E08XOn__LQzL",
        "-dQtQwaeLQzO",
        "5n2wqsBURxgq",
        "qV6c3E6tP4y1",
        "UREJhI9qalbL",
        "MplKFBOMalbb",
        "MygdGYcDSh-n",
        "J6lXGMwUSh-z",
        "NT2iD52Lv4-8",
        "3DChbK-bv4-9"
      ],
      "authorship_tag": "ABX9TyMKPzpR8N3mEvXb2iRs4dyW",
      "include_colab_link": true
    },
    "kernelspec": {
      "name": "python3",
      "display_name": "Python 3"
    },
    "language_info": {
      "name": "python"
    },
    "widgets": {
      "application/vnd.jupyter.widget-state+json": {
        "af8d3dc58f944edb8ca2fd81b07132a7": {
          "model_module": "@jupyter-widgets/controls",
          "model_name": "VBoxModel",
          "model_module_version": "1.5.0",
          "state": {
            "_dom_classes": [],
            "_model_module": "@jupyter-widgets/controls",
            "_model_module_version": "1.5.0",
            "_model_name": "VBoxModel",
            "_view_count": null,
            "_view_module": "@jupyter-widgets/controls",
            "_view_module_version": "1.5.0",
            "_view_name": "VBoxView",
            "box_style": "",
            "children": [
              "IPY_MODEL_ff7899b3da2446eeabe77549563c4118",
              "IPY_MODEL_5fcc66f1e7114c81b2c9e07af623da25"
            ],
            "layout": "IPY_MODEL_298c420ad2ae4a81bdcfc3cb8ac58a06"
          }
        },
        "ff7899b3da2446eeabe77549563c4118": {
          "model_module": "@jupyter-widgets/controls",
          "model_name": "HBoxModel",
          "model_module_version": "1.5.0",
          "state": {
            "_dom_classes": [],
            "_model_module": "@jupyter-widgets/controls",
            "_model_module_version": "1.5.0",
            "_model_name": "HBoxModel",
            "_view_count": null,
            "_view_module": "@jupyter-widgets/controls",
            "_view_module_version": "1.5.0",
            "_view_name": "HBoxView",
            "box_style": "",
            "children": [
              "IPY_MODEL_4d556eb88e704dc8a95b1d33f80a2060"
            ],
            "layout": "IPY_MODEL_3df49010b3ec49b08b9b98b3554f94f8"
          }
        },
        "5fcc66f1e7114c81b2c9e07af623da25": {
          "model_module": "@jupyter-widgets/output",
          "model_name": "OutputModel",
          "model_module_version": "1.0.0",
          "state": {
            "_dom_classes": [],
            "_model_module": "@jupyter-widgets/output",
            "_model_module_version": "1.0.0",
            "_model_name": "OutputModel",
            "_view_count": null,
            "_view_module": "@jupyter-widgets/output",
            "_view_module_version": "1.0.0",
            "_view_name": "OutputView",
            "layout": "IPY_MODEL_e6fb498cee9c4c9bafa2b86a1180e2af",
            "msg_id": "",
            "outputs": [
              {
                "output_type": "display_data",
                "data": {
                  "text/html": "<html>\n<head><meta charset=\"utf-8\" /></head>\n<body>\n    <div>            <script src=\"https://cdnjs.cloudflare.com/ajax/libs/mathjax/2.7.5/MathJax.js?config=TeX-AMS-MML_SVG\"></script><script type=\"text/javascript\">if (window.MathJax && window.MathJax.Hub && window.MathJax.Hub.Config) {window.MathJax.Hub.Config({SVG: {font: \"STIX-Web\"}});}</script>                <script type=\"text/javascript\">window.PlotlyConfig = {MathJaxConfig: 'local'};</script>\n        <script charset=\"utf-8\" src=\"https://cdn.plot.ly/plotly-2.24.1.min.js\"></script>                <div id=\"7571ca29-13bb-4df7-8026-a3c94e037cc8\" class=\"plotly-graph-div\" style=\"height:500px; width:500px;\"></div>            <script type=\"text/javascript\">                                    window.PLOTLYENV=window.PLOTLYENV || {};                                    if (document.getElementById(\"7571ca29-13bb-4df7-8026-a3c94e037cc8\")) {                    Plotly.newPlot(                        \"7571ca29-13bb-4df7-8026-a3c94e037cc8\",                        [{\"hoverinfo\":\"text\",\"marker\":{\"size\":3},\"mode\":\"markers\",\"name\":\"Ring 4\",\"text\":[\"Ring: 4\\n Wire: 0\",\"Ring: 4\\n Wire: 1\",\"Ring: 4\\n Wire: 2\",\"Ring: 4\\n Wire: 3\",\"Ring: 4\\n Wire: 4\",\"Ring: 4\\n Wire: 5\",\"Ring: 4\\n Wire: 6\",\"Ring: 4\\n Wire: 7\",\"Ring: 4\\n Wire: 8\",\"Ring: 4\\n Wire: 9\",\"Ring: 4\\n Wire: 10\",\"Ring: 4\\n Wire: 11\",\"Ring: 4\\n Wire: 12\",\"Ring: 4\\n Wire: 13\",\"Ring: 4\\n Wire: 14\",\"Ring: 4\\n Wire: 15\",\"Ring: 4\\n Wire: 16\",\"Ring: 4\\n Wire: 17\",\"Ring: 4\\n Wire: 18\",\"Ring: 4\\n Wire: 19\",\"Ring: 4\\n Wire: 20\",\"Ring: 4\\n Wire: 21\",\"Ring: 4\\n Wire: 22\",\"Ring: 4\\n Wire: 23\",\"Ring: 4\\n Wire: 24\",\"Ring: 4\\n Wire: 25\",\"Ring: 4\\n Wire: 26\",\"Ring: 4\\n Wire: 27\",\"Ring: 4\\n Wire: 28\",\"Ring: 4\\n Wire: 29\",\"Ring: 4\\n Wire: 30\",\"Ring: 4\\n Wire: 31\",\"Ring: 4\\n Wire: 32\",\"Ring: 4\\n Wire: 33\",\"Ring: 4\\n Wire: 34\",\"Ring: 4\\n Wire: 35\",\"Ring: 4\\n Wire: 36\",\"Ring: 4\\n Wire: 37\",\"Ring: 4\\n Wire: 38\",\"Ring: 4\\n Wire: 39\",\"Ring: 4\\n Wire: 40\",\"Ring: 4\\n Wire: 41\",\"Ring: 4\\n Wire: 42\",\"Ring: 4\\n Wire: 43\",\"Ring: 4\\n Wire: 44\",\"Ring: 4\\n Wire: 45\",\"Ring: 4\\n Wire: 46\",\"Ring: 4\\n Wire: 47\",\"Ring: 4\\n Wire: 48\",\"Ring: 4\\n Wire: 49\",\"Ring: 4\\n Wire: 50\",\"Ring: 4\\n Wire: 51\",\"Ring: 4\\n Wire: 52\",\"Ring: 4\\n Wire: 53\"],\"type\":\"scatter\",\"uid\":\"b062749c-a4a4-40b1-b18c-dec01f2eb865\",\"x\":[15.074704446570042,14.80381051717993,14.332720444243654,13.667804912913876,12.818055765189774,11.79496440067813,10.612366375125411,9.286254298259108,7.834561561174072,6.276919817979971,4.634393501354607,2.9291949622247797,1.184384085821943,-0.5764435537098088,-2.3294757829793973,-4.051005848147691,-5.717753008107831,-7.307177366574106,-8.797784685515436,-10.169417057854623,-11.403525508583733,-12.483420837833108,-13.394499313671817,-14.124440162531515,-14.66337218653454,-15.004007254512652,-15.141738861479407,-15.074704423708326,-14.80381046698282,-14.332720367389975,-13.667804810442947,-12.818055638487337,-11.794964251457616,-10.612366205404774,-9.286254110333529,-7.8345613575849145,-6.276919601480431,-4.63439327487248,-2.929194728822835,-1.1843838486565537,0.5764437914313999,2.3294760180423997,4.0510060773732945,5.71775322839614,7.307177574946111,8.797784879153252,10.16941723413964,11.40352566513199,12.483420972527567,13.39449942469096,14.124440248374002,14.663372246039497,15.004007286875376,15.14173886626225],\"y\":[1.4554218936656849,3.1956472288775637,4.892656916968531,6.523501812870699,8.066127536834834,9.499672722085515,10.80475112902225,11.963713810855902,12.960887785339926,13.782787984970613,14.41829961939348,14.858828483877083,15.098417181189944,15.133825685179092,14.964575156566006,14.592954418426489,14.023989003784688,13.265373193899487,12.327365966308863,11.2226522597564,9.966171432153882,8.574915231391746,7.067698011095638,5.4649022987668046,3.788203157060782,2.060275065745273,0.3044852882559333,-1.4554221304585924,-3.195647461415279,-4.892657142106381,-6.523502027564079,-8.066127738180384,-9.499672907360384,-10.80475129572091,-11.963713956724044,-12.960887908404935,-13.782788083568242,-14.418299692190363,-14.858828529888772,-15.098417199794204,-15.133825676124335,-14.964575119974684,-14.592954354793433,-14.02398891397043,-13.265373079118607,-12.32736582811358,-11.222652100015559,-9.966171253027715,-8.574915035302618,-7.067697800695328,-5.464902076900605,-3.7882029267290624,-2.060274830062865,-0.304485050410049]},{\"hoverinfo\":\"text\",\"marker\":{\"size\":3},\"mode\":\"markers\",\"name\":\"Ring 7\",\"text\":[\"Ring: 7\\n Wire: 0\",\"Ring: 7\\n Wire: 1\",\"Ring: 7\\n Wire: 2\",\"Ring: 7\\n Wire: 3\",\"Ring: 7\\n Wire: 4\",\"Ring: 7\\n Wire: 5\",\"Ring: 7\\n Wire: 6\",\"Ring: 7\\n Wire: 7\",\"Ring: 7\\n Wire: 8\",\"Ring: 7\\n Wire: 9\",\"Ring: 7\\n Wire: 10\",\"Ring: 7\\n Wire: 11\",\"Ring: 7\\n Wire: 12\",\"Ring: 7\\n Wire: 13\",\"Ring: 7\\n Wire: 14\",\"Ring: 7\\n Wire: 15\",\"Ring: 7\\n Wire: 16\",\"Ring: 7\\n Wire: 17\",\"Ring: 7\\n Wire: 18\",\"Ring: 7\\n Wire: 19\",\"Ring: 7\\n Wire: 20\",\"Ring: 7\\n Wire: 21\",\"Ring: 7\\n Wire: 22\",\"Ring: 7\\n Wire: 23\",\"Ring: 7\\n Wire: 24\",\"Ring: 7\\n Wire: 25\",\"Ring: 7\\n Wire: 26\",\"Ring: 7\\n Wire: 27\",\"Ring: 7\\n Wire: 28\",\"Ring: 7\\n Wire: 29\",\"Ring: 7\\n Wire: 30\",\"Ring: 7\\n Wire: 31\",\"Ring: 7\\n Wire: 32\",\"Ring: 7\\n Wire: 33\",\"Ring: 7\\n Wire: 34\",\"Ring: 7\\n Wire: 35\",\"Ring: 7\\n Wire: 36\",\"Ring: 7\\n Wire: 37\",\"Ring: 7\\n Wire: 38\",\"Ring: 7\\n Wire: 39\",\"Ring: 7\\n Wire: 40\",\"Ring: 7\\n Wire: 41\",\"Ring: 7\\n Wire: 42\",\"Ring: 7\\n Wire: 43\",\"Ring: 7\\n Wire: 44\",\"Ring: 7\\n Wire: 45\",\"Ring: 7\\n Wire: 46\",\"Ring: 7\\n Wire: 47\",\"Ring: 7\\n Wire: 48\",\"Ring: 7\\n Wire: 49\",\"Ring: 7\\n Wire: 50\",\"Ring: 7\\n Wire: 51\",\"Ring: 7\\n Wire: 52\",\"Ring: 7\\n Wire: 53\",\"Ring: 7\\n Wire: 54\",\"Ring: 7\\n Wire: 55\",\"Ring: 7\\n Wire: 56\",\"Ring: 7\\n Wire: 57\",\"Ring: 7\\n Wire: 58\",\"Ring: 7\\n Wire: 59\",\"Ring: 7\\n Wire: 60\",\"Ring: 7\\n Wire: 61\",\"Ring: 7\\n Wire: 62\",\"Ring: 7\\n Wire: 63\",\"Ring: 7\\n Wire: 64\",\"Ring: 7\\n Wire: 65\",\"Ring: 7\\n Wire: 66\",\"Ring: 7\\n Wire: 67\",\"Ring: 7\\n Wire: 68\",\"Ring: 7\\n Wire: 69\",\"Ring: 7\\n Wire: 70\",\"Ring: 7\\n Wire: 71\",\"Ring: 7\\n Wire: 72\",\"Ring: 7\\n Wire: 73\",\"Ring: 7\\n Wire: 74\",\"Ring: 7\\n Wire: 75\",\"Ring: 7\\n Wire: 76\",\"Ring: 7\\n Wire: 77\",\"Ring: 7\\n Wire: 78\",\"Ring: 7\\n Wire: 79\"],\"type\":\"scatter\",\"uid\":\"c7555a19-de20-4f42-8f09-a89a38b9cffa\",\"x\":[21.474861377361147,21.458752431344184,21.310343140828703,21.030548498441814,20.621093531195005,20.084502665118933,19.42408416133754,18.64390971953807,17.748789374588544,16.744241841073293,15.636460488582399,14.432275157528645,13.139110050910231,11.764937961630498,10.318231117578446,8.807908947526494,7.243283089886104,5.63399998336052,3.9899813934424113,2.3213632414302783,0.6384331131031155,-1.0484331676668803,-2.728835509318802,-4.392413672625885,-6.028911145015467,-7.628238375379629,-9.180534979512911,-10.67623053265983,-12.106103574365985,-13.461338461848227,-14.733579721363897,-15.914983562484931,-16.998266237674176,-17.976748949011043,-18.84439902520162,-19.595867115003273,-20.226520167753872,-20.73246999766978,-21.11059725580419,-21.358570661870623,-21.474861377361147,-21.458752431344184,-21.310343140828703,-21.030548498441817,-20.621093531195008,-20.084502665118933,-19.42408416133754,-18.64390971953807,-17.748789374588547,-16.744241841073293,-15.636460488582399,-14.43227515752865,-13.139110050910237,-11.764937961630494,-10.31823111757845,-8.807908947526505,-7.2432830898861065,-5.633999983360514,-3.989981393442413,-2.321363241430289,-0.6384331131031191,1.0484331676668863,2.7288355093187997,4.392413672625873,6.0289111450154635,7.628238375379637,9.18053497951291,10.676230532659819,12.106103574365983,13.461338461848234,14.733579721363897,15.914983562484924,16.998266237674176,17.97674894901105,18.84439902520162,19.59586711500327,20.22652016775387,20.732469997669785,21.110597255804194,21.35857066187062],\"y\":[-0.6384331131031147,1.0484331676668808,2.7288355093188033,4.392413672625886,6.028911145015468,7.628238375379631,9.180534979512913,10.676230532659831,12.106103574365987,13.461338461848229,14.7335797213639,15.914983562484931,16.998266237674176,17.976748949011043,18.84439902520162,19.595867115003273,20.226520167753872,20.73246999766978,21.11059725580419,21.35857066187062,21.474861377361147,21.458752431344184,21.310343140828703,21.030548498441817,20.621093531195005,20.084502665118933,19.42408416133754,18.64390971953807,17.748789374588544,16.744241841073293,15.636460488582399,14.432275157528645,13.139110050910231,11.7649379616305,10.318231117578446,8.807908947526498,7.243283089886106,5.633999983360523,3.989981393442413,2.3213632414302783,0.638433113103118,-1.0484331676668783,-2.7288355093188006,-4.392413672625884,-6.028911145015465,-7.628238375379629,-9.18053497951291,-10.676230532659828,-12.106103574365985,-13.461338461848227,-14.733579721363894,-15.914983562484924,-16.998266237674176,-17.97674894901105,-18.84439902520162,-19.595867115003266,-20.22652016775387,-20.732469997669785,-21.110597255804194,-21.35857066187062,-21.474861377361147,-21.458752431344184,-21.310343140828703,-21.030548498441814,-20.621093531195008,-20.08450266511893,-19.42408416133754,-18.643909719538073,-17.748789374588547,-16.74424184107329,-15.636460488582403,-14.432275157528654,-13.139110050910237,-11.764937961630494,-10.31823111757845,-8.807908947526508,-7.243283089886107,-5.633999983360514,-3.9899813934424144,-2.3213632414302903]},{\"hoverinfo\":\"text\",\"marker\":{\"size\":3},\"mode\":\"markers\",\"name\":\"Ring 9\",\"text\":[\"Ring: 9\\n Wire: 0\",\"Ring: 9\\n Wire: 1\",\"Ring: 9\\n Wire: 2\",\"Ring: 9\\n Wire: 3\",\"Ring: 9\\n Wire: 4\",\"Ring: 9\\n Wire: 5\",\"Ring: 9\\n Wire: 6\",\"Ring: 9\\n Wire: 7\",\"Ring: 9\\n Wire: 8\",\"Ring: 9\\n Wire: 9\",\"Ring: 9\\n Wire: 10\",\"Ring: 9\\n Wire: 11\",\"Ring: 9\\n Wire: 12\",\"Ring: 9\\n Wire: 13\",\"Ring: 9\\n Wire: 14\",\"Ring: 9\\n Wire: 15\",\"Ring: 9\\n Wire: 16\",\"Ring: 9\\n Wire: 17\",\"Ring: 9\\n Wire: 18\",\"Ring: 9\\n Wire: 19\",\"Ring: 9\\n Wire: 20\",\"Ring: 9\\n Wire: 21\",\"Ring: 9\\n Wire: 22\",\"Ring: 9\\n Wire: 23\",\"Ring: 9\\n Wire: 24\",\"Ring: 9\\n Wire: 25\",\"Ring: 9\\n Wire: 26\",\"Ring: 9\\n Wire: 27\",\"Ring: 9\\n Wire: 28\",\"Ring: 9\\n Wire: 29\",\"Ring: 9\\n Wire: 30\",\"Ring: 9\\n Wire: 31\",\"Ring: 9\\n Wire: 32\",\"Ring: 9\\n Wire: 33\",\"Ring: 9\\n Wire: 34\",\"Ring: 9\\n Wire: 35\",\"Ring: 9\\n Wire: 36\",\"Ring: 9\\n Wire: 37\",\"Ring: 9\\n Wire: 38\",\"Ring: 9\\n Wire: 39\",\"Ring: 9\\n Wire: 40\",\"Ring: 9\\n Wire: 41\",\"Ring: 9\\n Wire: 42\",\"Ring: 9\\n Wire: 43\",\"Ring: 9\\n Wire: 44\",\"Ring: 9\\n Wire: 45\",\"Ring: 9\\n Wire: 46\",\"Ring: 9\\n Wire: 47\",\"Ring: 9\\n Wire: 48\",\"Ring: 9\\n Wire: 49\",\"Ring: 9\\n Wire: 50\",\"Ring: 9\\n Wire: 51\",\"Ring: 9\\n Wire: 52\",\"Ring: 9\\n Wire: 53\",\"Ring: 9\\n Wire: 54\",\"Ring: 9\\n Wire: 55\",\"Ring: 9\\n Wire: 56\",\"Ring: 9\\n Wire: 57\",\"Ring: 9\\n Wire: 58\",\"Ring: 9\\n Wire: 59\",\"Ring: 9\\n Wire: 60\",\"Ring: 9\\n Wire: 61\",\"Ring: 9\\n Wire: 62\",\"Ring: 9\\n Wire: 63\",\"Ring: 9\\n Wire: 64\",\"Ring: 9\\n Wire: 65\",\"Ring: 9\\n Wire: 66\",\"Ring: 9\\n Wire: 67\",\"Ring: 9\\n Wire: 68\",\"Ring: 9\\n Wire: 69\",\"Ring: 9\\n Wire: 70\",\"Ring: 9\\n Wire: 71\",\"Ring: 9\\n Wire: 72\",\"Ring: 9\\n Wire: 73\",\"Ring: 9\\n Wire: 74\",\"Ring: 9\\n Wire: 75\",\"Ring: 9\\n Wire: 76\",\"Ring: 9\\n Wire: 77\",\"Ring: 9\\n Wire: 78\",\"Ring: 9\\n Wire: 79\",\"Ring: 9\\n Wire: 80\",\"Ring: 9\\n Wire: 81\",\"Ring: 9\\n Wire: 82\",\"Ring: 9\\n Wire: 83\",\"Ring: 9\\n Wire: 84\",\"Ring: 9\\n Wire: 85\",\"Ring: 9\\n Wire: 86\",\"Ring: 9\\n Wire: 87\",\"Ring: 9\\n Wire: 88\",\"Ring: 9\\n Wire: 89\",\"Ring: 9\\n Wire: 90\",\"Ring: 9\\n Wire: 91\",\"Ring: 9\\n Wire: 92\"],\"type\":\"scatter\",\"uid\":\"72351829-c870-41b0-9b63-cfa0f632e6e9\",\"x\":[24.61416671117105,24.429411812242527,24.133191110348086,23.726856192609254,23.212261072058634,22.5917537282037,21.868165393734802,21.044797636259798,20.125407294008305,19.11418933424051,18.015757712573755,16.835124320561256,15.57767611758053,14.24915055137329,12.855609379387312,11.403411010367574,9.899181492395503,8.349784279751287,6.762288916546269,5.143938780014605,3.502118030644249,1.8443179199463506,0.1781026095927658,-1.4889253421187612,-3.1491596689943275,-4.795025102591968,-6.41901193643413,-8.013710291075828,-9.571843923685059,-11.086303427870005,-12.550178672269706,-13.956790329898578,-15.299720354383542,-16.57284126403748,-17.77034410015282,-18.886764931947802,-19.91700978722939,-20.856377895020024,-21.700583134097467,-22.44577358958285,-23.088549128344766,-23.625976913026932,-24.05560478391237,-24.375472447565727,-24.584120421202655,-24.680596691974973,-24.664461060786948,-24.53578715082284,-24.295162071621135,-23.943683740228433,-23.482955871655758,-22.915080661494795,-22.242649194081572,-21.468729619972933,-20.596853156679206,-19.630997976528697,-18.57557105517978,-17.43538806360168,-16.215651395272424,-14.92192642885065,-13.56011613462917,-12.136434140635552,-10.657376381272465,-9.129691457858968,-7.560349846310602,-5.95651209245643,-4.3254961401108165,-2.674743940974305,-1.0117874987147752,0.6557854978376876,2.320366295574548,3.974359794104247,5.610219200453192,7.220480463351118,8.797796329985191,10.334969869829376,11.824987312587657,13.261050050419367,14.636605658427348,15.945377791869848,17.18139482368217,18.339017091641157,19.412962630850544,20.398331274135227,21.290627010380163,22.085778498797964,22.780157645523037,23.370596157771757,23.854400000035806,24.22936168634826,24.49377035253572,24.646419562499194,24.68661281290526],\"y\":[1.9049175314072988,3.5622678443162314,5.203364346093804,6.820719089804532,8.406952456709577,9.954826827774465,11.457279607264706,12.907455447750266,14.298737529483551,15.624777751430262,16.879525696198435,18.057256236705257,19.152595658618836,20.16054617938418,21.076508751958734,21.896304049209114,22.61619153322235,23.232886522522385,23.74357517931829,24.14592734840072,24.438107189105715,24.618781551834537,24.687126060909566,24.642828876011386,24.48609211503468,24.217630931870627,23.838670253323695,23.350939190051637,22.756663147030086,22.058553669540114,21.259796071009017,20.36403489915575,19.375357306755554,18.298274402899324,17.137700669837475,15.8989315393246,14.587619230778976,13.209746961501725,11.771601646628564,10.279745213378055,8.740984660482718,7.162340999415089,5.55101721912266,3.9143654204414706,2.2598532701462233,0.5950299276995534,-1.0725083998310612,-2.735153117523912,-4.38531795887662,-6.01547360020012,-7.6181820151957735,-9.186130412963404,-10.712164604588851,-12.189321646067139,-13.61086160861897,-14.970298331439825,-16.261429016564048,-17.478362530809342,-18.615546285666273,-19.667791572486028,-20.630297237367994,-21.498671587723734,-22.268952430563044,-22.93762515107179,-23.501638748993127,-23.958419759642002,-24.30588399603418,-24.54244605855344,-24.66702656876642,-24.679057094378823,-24.578482742861603,-24.365762411912982,-24.041866695613514,-23.608273455827913,-23.066961079060306,-22.4203994495304,-21.671538679658276,-20.823795649378056,-19.881038415698423,-18.847568563645755,-17.728101579118153,-16.527745333204933,-15.251976776142303,-13.906616947245674,-12.49780441484241,-11.031967267392409,-9.515793783594848,-7.956201915306572,-6.36030772251435,-4.735392904385353,-3.0888715745440534,-1.4282564321721285,0.23887551671472051]}],                        {\"template\":{\"data\":{\"barpolar\":[{\"marker\":{\"line\":{\"color\":\"#E5ECF6\",\"width\":0.5},\"pattern\":{\"fillmode\":\"overlay\",\"size\":10,\"solidity\":0.2}},\"type\":\"barpolar\"}],\"bar\":[{\"error_x\":{\"color\":\"#2a3f5f\"},\"error_y\":{\"color\":\"#2a3f5f\"},\"marker\":{\"line\":{\"color\":\"#E5ECF6\",\"width\":0.5},\"pattern\":{\"fillmode\":\"overlay\",\"size\":10,\"solidity\":0.2}},\"type\":\"bar\"}],\"carpet\":[{\"aaxis\":{\"endlinecolor\":\"#2a3f5f\",\"gridcolor\":\"white\",\"linecolor\":\"white\",\"minorgridcolor\":\"white\",\"startlinecolor\":\"#2a3f5f\"},\"baxis\":{\"endlinecolor\":\"#2a3f5f\",\"gridcolor\":\"white\",\"linecolor\":\"white\",\"minorgridcolor\":\"white\",\"startlinecolor\":\"#2a3f5f\"},\"type\":\"carpet\"}],\"choropleth\":[{\"colorbar\":{\"outlinewidth\":0,\"ticks\":\"\"},\"type\":\"choropleth\"}],\"contourcarpet\":[{\"colorbar\":{\"outlinewidth\":0,\"ticks\":\"\"},\"type\":\"contourcarpet\"}],\"contour\":[{\"colorbar\":{\"outlinewidth\":0,\"ticks\":\"\"},\"colorscale\":[[0.0,\"#0d0887\"],[0.1111111111111111,\"#46039f\"],[0.2222222222222222,\"#7201a8\"],[0.3333333333333333,\"#9c179e\"],[0.4444444444444444,\"#bd3786\"],[0.5555555555555556,\"#d8576b\"],[0.6666666666666666,\"#ed7953\"],[0.7777777777777778,\"#fb9f3a\"],[0.8888888888888888,\"#fdca26\"],[1.0,\"#f0f921\"]],\"type\":\"contour\"}],\"heatmapgl\":[{\"colorbar\":{\"outlinewidth\":0,\"ticks\":\"\"},\"colorscale\":[[0.0,\"#0d0887\"],[0.1111111111111111,\"#46039f\"],[0.2222222222222222,\"#7201a8\"],[0.3333333333333333,\"#9c179e\"],[0.4444444444444444,\"#bd3786\"],[0.5555555555555556,\"#d8576b\"],[0.6666666666666666,\"#ed7953\"],[0.7777777777777778,\"#fb9f3a\"],[0.8888888888888888,\"#fdca26\"],[1.0,\"#f0f921\"]],\"type\":\"heatmapgl\"}],\"heatmap\":[{\"colorbar\":{\"outlinewidth\":0,\"ticks\":\"\"},\"colorscale\":[[0.0,\"#0d0887\"],[0.1111111111111111,\"#46039f\"],[0.2222222222222222,\"#7201a8\"],[0.3333333333333333,\"#9c179e\"],[0.4444444444444444,\"#bd3786\"],[0.5555555555555556,\"#d8576b\"],[0.6666666666666666,\"#ed7953\"],[0.7777777777777778,\"#fb9f3a\"],[0.8888888888888888,\"#fdca26\"],[1.0,\"#f0f921\"]],\"type\":\"heatmap\"}],\"histogram2dcontour\":[{\"colorbar\":{\"outlinewidth\":0,\"ticks\":\"\"},\"colorscale\":[[0.0,\"#0d0887\"],[0.1111111111111111,\"#46039f\"],[0.2222222222222222,\"#7201a8\"],[0.3333333333333333,\"#9c179e\"],[0.4444444444444444,\"#bd3786\"],[0.5555555555555556,\"#d8576b\"],[0.6666666666666666,\"#ed7953\"],[0.7777777777777778,\"#fb9f3a\"],[0.8888888888888888,\"#fdca26\"],[1.0,\"#f0f921\"]],\"type\":\"histogram2dcontour\"}],\"histogram2d\":[{\"colorbar\":{\"outlinewidth\":0,\"ticks\":\"\"},\"colorscale\":[[0.0,\"#0d0887\"],[0.1111111111111111,\"#46039f\"],[0.2222222222222222,\"#7201a8\"],[0.3333333333333333,\"#9c179e\"],[0.4444444444444444,\"#bd3786\"],[0.5555555555555556,\"#d8576b\"],[0.6666666666666666,\"#ed7953\"],[0.7777777777777778,\"#fb9f3a\"],[0.8888888888888888,\"#fdca26\"],[1.0,\"#f0f921\"]],\"type\":\"histogram2d\"}],\"histogram\":[{\"marker\":{\"pattern\":{\"fillmode\":\"overlay\",\"size\":10,\"solidity\":0.2}},\"type\":\"histogram\"}],\"mesh3d\":[{\"colorbar\":{\"outlinewidth\":0,\"ticks\":\"\"},\"type\":\"mesh3d\"}],\"parcoords\":[{\"line\":{\"colorbar\":{\"outlinewidth\":0,\"ticks\":\"\"}},\"type\":\"parcoords\"}],\"pie\":[{\"automargin\":true,\"type\":\"pie\"}],\"scatter3d\":[{\"line\":{\"colorbar\":{\"outlinewidth\":0,\"ticks\":\"\"}},\"marker\":{\"colorbar\":{\"outlinewidth\":0,\"ticks\":\"\"}},\"type\":\"scatter3d\"}],\"scattercarpet\":[{\"marker\":{\"colorbar\":{\"outlinewidth\":0,\"ticks\":\"\"}},\"type\":\"scattercarpet\"}],\"scattergeo\":[{\"marker\":{\"colorbar\":{\"outlinewidth\":0,\"ticks\":\"\"}},\"type\":\"scattergeo\"}],\"scattergl\":[{\"marker\":{\"colorbar\":{\"outlinewidth\":0,\"ticks\":\"\"}},\"type\":\"scattergl\"}],\"scattermapbox\":[{\"marker\":{\"colorbar\":{\"outlinewidth\":0,\"ticks\":\"\"}},\"type\":\"scattermapbox\"}],\"scatterpolargl\":[{\"marker\":{\"colorbar\":{\"outlinewidth\":0,\"ticks\":\"\"}},\"type\":\"scatterpolargl\"}],\"scatterpolar\":[{\"marker\":{\"colorbar\":{\"outlinewidth\":0,\"ticks\":\"\"}},\"type\":\"scatterpolar\"}],\"scatter\":[{\"fillpattern\":{\"fillmode\":\"overlay\",\"size\":10,\"solidity\":0.2},\"type\":\"scatter\"}],\"scatterternary\":[{\"marker\":{\"colorbar\":{\"outlinewidth\":0,\"ticks\":\"\"}},\"type\":\"scatterternary\"}],\"surface\":[{\"colorbar\":{\"outlinewidth\":0,\"ticks\":\"\"},\"colorscale\":[[0.0,\"#0d0887\"],[0.1111111111111111,\"#46039f\"],[0.2222222222222222,\"#7201a8\"],[0.3333333333333333,\"#9c179e\"],[0.4444444444444444,\"#bd3786\"],[0.5555555555555556,\"#d8576b\"],[0.6666666666666666,\"#ed7953\"],[0.7777777777777778,\"#fb9f3a\"],[0.8888888888888888,\"#fdca26\"],[1.0,\"#f0f921\"]],\"type\":\"surface\"}],\"table\":[{\"cells\":{\"fill\":{\"color\":\"#EBF0F8\"},\"line\":{\"color\":\"white\"}},\"header\":{\"fill\":{\"color\":\"#C8D4E3\"},\"line\":{\"color\":\"white\"}},\"type\":\"table\"}]},\"layout\":{\"annotationdefaults\":{\"arrowcolor\":\"#2a3f5f\",\"arrowhead\":0,\"arrowwidth\":1},\"autotypenumbers\":\"strict\",\"coloraxis\":{\"colorbar\":{\"outlinewidth\":0,\"ticks\":\"\"}},\"colorscale\":{\"diverging\":[[0,\"#8e0152\"],[0.1,\"#c51b7d\"],[0.2,\"#de77ae\"],[0.3,\"#f1b6da\"],[0.4,\"#fde0ef\"],[0.5,\"#f7f7f7\"],[0.6,\"#e6f5d0\"],[0.7,\"#b8e186\"],[0.8,\"#7fbc41\"],[0.9,\"#4d9221\"],[1,\"#276419\"]],\"sequential\":[[0.0,\"#0d0887\"],[0.1111111111111111,\"#46039f\"],[0.2222222222222222,\"#7201a8\"],[0.3333333333333333,\"#9c179e\"],[0.4444444444444444,\"#bd3786\"],[0.5555555555555556,\"#d8576b\"],[0.6666666666666666,\"#ed7953\"],[0.7777777777777778,\"#fb9f3a\"],[0.8888888888888888,\"#fdca26\"],[1.0,\"#f0f921\"]],\"sequentialminus\":[[0.0,\"#0d0887\"],[0.1111111111111111,\"#46039f\"],[0.2222222222222222,\"#7201a8\"],[0.3333333333333333,\"#9c179e\"],[0.4444444444444444,\"#bd3786\"],[0.5555555555555556,\"#d8576b\"],[0.6666666666666666,\"#ed7953\"],[0.7777777777777778,\"#fb9f3a\"],[0.8888888888888888,\"#fdca26\"],[1.0,\"#f0f921\"]]},\"colorway\":[\"#636efa\",\"#EF553B\",\"#00cc96\",\"#ab63fa\",\"#FFA15A\",\"#19d3f3\",\"#FF6692\",\"#B6E880\",\"#FF97FF\",\"#FECB52\"],\"font\":{\"color\":\"#2a3f5f\"},\"geo\":{\"bgcolor\":\"white\",\"lakecolor\":\"white\",\"landcolor\":\"#E5ECF6\",\"showlakes\":true,\"showland\":true,\"subunitcolor\":\"white\"},\"hoverlabel\":{\"align\":\"left\"},\"hovermode\":\"closest\",\"mapbox\":{\"style\":\"light\"},\"paper_bgcolor\":\"white\",\"plot_bgcolor\":\"#E5ECF6\",\"polar\":{\"angularaxis\":{\"gridcolor\":\"white\",\"linecolor\":\"white\",\"ticks\":\"\"},\"bgcolor\":\"#E5ECF6\",\"radialaxis\":{\"gridcolor\":\"white\",\"linecolor\":\"white\",\"ticks\":\"\"}},\"scene\":{\"xaxis\":{\"backgroundcolor\":\"#E5ECF6\",\"gridcolor\":\"white\",\"gridwidth\":2,\"linecolor\":\"white\",\"showbackground\":true,\"ticks\":\"\",\"zerolinecolor\":\"white\"},\"yaxis\":{\"backgroundcolor\":\"#E5ECF6\",\"gridcolor\":\"white\",\"gridwidth\":2,\"linecolor\":\"white\",\"showbackground\":true,\"ticks\":\"\",\"zerolinecolor\":\"white\"},\"zaxis\":{\"backgroundcolor\":\"#E5ECF6\",\"gridcolor\":\"white\",\"gridwidth\":2,\"linecolor\":\"white\",\"showbackground\":true,\"ticks\":\"\",\"zerolinecolor\":\"white\"}},\"shapedefaults\":{\"line\":{\"color\":\"#2a3f5f\"}},\"ternary\":{\"aaxis\":{\"gridcolor\":\"white\",\"linecolor\":\"white\",\"ticks\":\"\"},\"baxis\":{\"gridcolor\":\"white\",\"linecolor\":\"white\",\"ticks\":\"\"},\"bgcolor\":\"#E5ECF6\",\"caxis\":{\"gridcolor\":\"white\",\"linecolor\":\"white\",\"ticks\":\"\"}},\"title\":{\"x\":0.05},\"xaxis\":{\"automargin\":true,\"gridcolor\":\"white\",\"linecolor\":\"white\",\"ticks\":\"\",\"title\":{\"standoff\":15},\"zerolinecolor\":\"white\",\"zerolinewidth\":2},\"yaxis\":{\"automargin\":true,\"gridcolor\":\"white\",\"linecolor\":\"white\",\"ticks\":\"\",\"title\":{\"standoff\":15},\"zerolinecolor\":\"white\",\"zerolinewidth\":2}}},\"xaxis\":{\"range\":[-60,60],\"title\":{\"text\":\"X\"}},\"yaxis\":{\"range\":[-60,60],\"title\":{\"text\":\"Y\"}},\"width\":500,\"height\":500,\"showlegend\":true,\"title\":{\"text\":\"Wire Positions in the GlueX CDC\"},\"shapes\":[{\"line\":{\"color\":\"black\"},\"type\":\"circle\",\"x0\":-10.5,\"x1\":10.5,\"xref\":\"x\",\"y0\":-10.5,\"y1\":10.5,\"yref\":\"y\"},{\"line\":{\"color\":\"black\"},\"type\":\"circle\",\"x0\":-55,\"x1\":55,\"xref\":\"x\",\"y0\":-55,\"y1\":55,\"yref\":\"y\"}]},                        {\"responsive\": true}                    ).then(function(){\n                            \nvar gd = document.getElementById('7571ca29-13bb-4df7-8026-a3c94e037cc8');\nvar x = new MutationObserver(function (mutations, observer) {{\n        var display = window.getComputedStyle(gd).display;\n        if (!display || display === 'none') {{\n            console.log([gd, 'removed!']);\n            Plotly.purge(gd);\n            observer.disconnect();\n        }}\n}});\n\n// Listen for the removal of the full notebook cells\nvar notebookContainer = gd.closest('#notebook-container');\nif (notebookContainer) {{\n    x.observe(notebookContainer, {childList: true});\n}}\n\n// Listen for the clearing of the current output cell\nvar outputEl = gd.closest('.output');\nif (outputEl) {{\n    x.observe(outputEl, {childList: true});\n}}\n\n                        })                };                            </script>        </div>\n</body>\n</html>"
                },
                "metadata": {}
              }
            ]
          }
        },
        "298c420ad2ae4a81bdcfc3cb8ac58a06": {
          "model_module": "@jupyter-widgets/base",
          "model_name": "LayoutModel",
          "model_module_version": "1.2.0",
          "state": {
            "_model_module": "@jupyter-widgets/base",
            "_model_module_version": "1.2.0",
            "_model_name": "LayoutModel",
            "_view_count": null,
            "_view_module": "@jupyter-widgets/base",
            "_view_module_version": "1.2.0",
            "_view_name": "LayoutView",
            "align_content": null,
            "align_items": null,
            "align_self": null,
            "border": null,
            "bottom": null,
            "display": null,
            "flex": null,
            "flex_flow": null,
            "grid_area": null,
            "grid_auto_columns": null,
            "grid_auto_flow": null,
            "grid_auto_rows": null,
            "grid_column": null,
            "grid_gap": null,
            "grid_row": null,
            "grid_template_areas": null,
            "grid_template_columns": null,
            "grid_template_rows": null,
            "height": null,
            "justify_content": null,
            "justify_items": null,
            "left": null,
            "margin": null,
            "max_height": null,
            "max_width": null,
            "min_height": null,
            "min_width": null,
            "object_fit": null,
            "object_position": null,
            "order": null,
            "overflow": null,
            "overflow_x": null,
            "overflow_y": null,
            "padding": null,
            "right": null,
            "top": null,
            "visibility": null,
            "width": null
          }
        },
        "4d556eb88e704dc8a95b1d33f80a2060": {
          "model_module": "@jupyter-widgets/controls",
          "model_name": "FloatSliderModel",
          "model_module_version": "1.5.0",
          "state": {
            "_dom_classes": [],
            "_model_module": "@jupyter-widgets/controls",
            "_model_module_version": "1.5.0",
            "_model_name": "FloatSliderModel",
            "_view_count": null,
            "_view_module": "@jupyter-widgets/controls",
            "_view_module_version": "1.5.0",
            "_view_name": "FloatSliderView",
            "continuous_update": true,
            "description": "z",
            "description_tooltip": null,
            "disabled": false,
            "layout": "IPY_MODEL_b0b112203a314260882a1a00d3647c94",
            "max": 175,
            "min": 0,
            "orientation": "horizontal",
            "readout": true,
            "readout_format": ".2f",
            "step": 0.1,
            "style": "IPY_MODEL_79b2c76ff82d4fd29349a6ff025b24f4",
            "value": 158.1
          }
        },
        "3df49010b3ec49b08b9b98b3554f94f8": {
          "model_module": "@jupyter-widgets/base",
          "model_name": "LayoutModel",
          "model_module_version": "1.2.0",
          "state": {
            "_model_module": "@jupyter-widgets/base",
            "_model_module_version": "1.2.0",
            "_model_name": "LayoutModel",
            "_view_count": null,
            "_view_module": "@jupyter-widgets/base",
            "_view_module_version": "1.2.0",
            "_view_name": "LayoutView",
            "align_content": null,
            "align_items": null,
            "align_self": null,
            "border": null,
            "bottom": null,
            "display": null,
            "flex": null,
            "flex_flow": "row wrap",
            "grid_area": null,
            "grid_auto_columns": null,
            "grid_auto_flow": null,
            "grid_auto_rows": null,
            "grid_column": null,
            "grid_gap": null,
            "grid_row": null,
            "grid_template_areas": null,
            "grid_template_columns": null,
            "grid_template_rows": null,
            "height": null,
            "justify_content": null,
            "justify_items": null,
            "left": null,
            "margin": null,
            "max_height": null,
            "max_width": null,
            "min_height": null,
            "min_width": null,
            "object_fit": null,
            "object_position": null,
            "order": null,
            "overflow": null,
            "overflow_x": null,
            "overflow_y": null,
            "padding": null,
            "right": null,
            "top": null,
            "visibility": null,
            "width": null
          }
        },
        "e6fb498cee9c4c9bafa2b86a1180e2af": {
          "model_module": "@jupyter-widgets/base",
          "model_name": "LayoutModel",
          "model_module_version": "1.2.0",
          "state": {
            "_model_module": "@jupyter-widgets/base",
            "_model_module_version": "1.2.0",
            "_model_name": "LayoutModel",
            "_view_count": null,
            "_view_module": "@jupyter-widgets/base",
            "_view_module_version": "1.2.0",
            "_view_name": "LayoutView",
            "align_content": null,
            "align_items": null,
            "align_self": null,
            "border": null,
            "bottom": null,
            "display": null,
            "flex": null,
            "flex_flow": null,
            "grid_area": null,
            "grid_auto_columns": null,
            "grid_auto_flow": null,
            "grid_auto_rows": null,
            "grid_column": null,
            "grid_gap": null,
            "grid_row": null,
            "grid_template_areas": null,
            "grid_template_columns": null,
            "grid_template_rows": null,
            "height": null,
            "justify_content": null,
            "justify_items": null,
            "left": null,
            "margin": null,
            "max_height": null,
            "max_width": null,
            "min_height": null,
            "min_width": null,
            "object_fit": null,
            "object_position": null,
            "order": null,
            "overflow": null,
            "overflow_x": null,
            "overflow_y": null,
            "padding": null,
            "right": null,
            "top": null,
            "visibility": null,
            "width": null
          }
        },
        "b0b112203a314260882a1a00d3647c94": {
          "model_module": "@jupyter-widgets/base",
          "model_name": "LayoutModel",
          "model_module_version": "1.2.0",
          "state": {
            "_model_module": "@jupyter-widgets/base",
            "_model_module_version": "1.2.0",
            "_model_name": "LayoutModel",
            "_view_count": null,
            "_view_module": "@jupyter-widgets/base",
            "_view_module_version": "1.2.0",
            "_view_name": "LayoutView",
            "align_content": null,
            "align_items": null,
            "align_self": null,
            "border": null,
            "bottom": null,
            "display": null,
            "flex": null,
            "flex_flow": null,
            "grid_area": null,
            "grid_auto_columns": null,
            "grid_auto_flow": null,
            "grid_auto_rows": null,
            "grid_column": null,
            "grid_gap": null,
            "grid_row": null,
            "grid_template_areas": null,
            "grid_template_columns": null,
            "grid_template_rows": null,
            "height": null,
            "justify_content": null,
            "justify_items": null,
            "left": null,
            "margin": null,
            "max_height": null,
            "max_width": null,
            "min_height": null,
            "min_width": null,
            "object_fit": null,
            "object_position": null,
            "order": null,
            "overflow": null,
            "overflow_x": null,
            "overflow_y": null,
            "padding": null,
            "right": null,
            "top": null,
            "visibility": null,
            "width": null
          }
        },
        "79b2c76ff82d4fd29349a6ff025b24f4": {
          "model_module": "@jupyter-widgets/controls",
          "model_name": "SliderStyleModel",
          "model_module_version": "1.5.0",
          "state": {
            "_model_module": "@jupyter-widgets/controls",
            "_model_module_version": "1.5.0",
            "_model_name": "SliderStyleModel",
            "_view_count": null,
            "_view_module": "@jupyter-widgets/base",
            "_view_module_version": "1.2.0",
            "_view_name": "StyleView",
            "description_width": "",
            "handle_color": null
          }
        },
        "2b9d8d61677f48e59648844fe4703952": {
          "model_module": "@jupyter-widgets/base",
          "model_name": "LayoutModel",
          "model_module_version": "1.2.0",
          "state": {
            "_model_module": "@jupyter-widgets/base",
            "_model_module_version": "1.2.0",
            "_model_name": "LayoutModel",
            "_view_count": null,
            "_view_module": "@jupyter-widgets/base",
            "_view_module_version": "1.2.0",
            "_view_name": "LayoutView",
            "align_content": null,
            "align_items": null,
            "align_self": null,
            "border": null,
            "bottom": null,
            "display": null,
            "flex": null,
            "flex_flow": null,
            "grid_area": null,
            "grid_auto_columns": null,
            "grid_auto_flow": null,
            "grid_auto_rows": null,
            "grid_column": null,
            "grid_gap": null,
            "grid_row": null,
            "grid_template_areas": null,
            "grid_template_columns": null,
            "grid_template_rows": null,
            "height": null,
            "justify_content": null,
            "justify_items": null,
            "left": null,
            "margin": null,
            "max_height": null,
            "max_width": null,
            "min_height": null,
            "min_width": null,
            "object_fit": null,
            "object_position": null,
            "order": null,
            "overflow": null,
            "overflow_x": null,
            "overflow_y": null,
            "padding": null,
            "right": null,
            "top": null,
            "visibility": null,
            "width": null
          }
        },
        "af65126ca55644e2960dbd6d80f42980": {
          "model_module": "@jupyter-widgets/controls",
          "model_name": "VBoxModel",
          "model_module_version": "1.5.0",
          "state": {
            "_dom_classes": [],
            "_model_module": "@jupyter-widgets/controls",
            "_model_module_version": "1.5.0",
            "_model_name": "VBoxModel",
            "_view_count": null,
            "_view_module": "@jupyter-widgets/controls",
            "_view_module_version": "1.5.0",
            "_view_name": "VBoxView",
            "box_style": "",
            "children": [
              "IPY_MODEL_51416a23f5e249cd932b2825f9db6afb",
              "IPY_MODEL_4f47ca677b7e4ac587a315638819fe42"
            ],
            "layout": "IPY_MODEL_97b83086f7f749628808d62953d75b4b"
          }
        },
        "51416a23f5e249cd932b2825f9db6afb": {
          "model_module": "@jupyter-widgets/controls",
          "model_name": "HBoxModel",
          "model_module_version": "1.5.0",
          "state": {
            "_dom_classes": [],
            "_model_module": "@jupyter-widgets/controls",
            "_model_module_version": "1.5.0",
            "_model_name": "HBoxModel",
            "_view_count": null,
            "_view_module": "@jupyter-widgets/controls",
            "_view_module_version": "1.5.0",
            "_view_name": "HBoxView",
            "box_style": "",
            "children": [
              "IPY_MODEL_0b0f8dfa2642405e9266def86edb8ab8",
              "IPY_MODEL_a5e9223ddeee4e32bb518e7835f2ecae",
              "IPY_MODEL_d010b07175504d37878a6aeccf9d9724",
              "IPY_MODEL_3da5fa72dc1444489c2b2762d9892ac7"
            ],
            "layout": "IPY_MODEL_63bd930702b34d93937b70c412c34503"
          }
        },
        "4f47ca677b7e4ac587a315638819fe42": {
          "model_module": "@jupyter-widgets/output",
          "model_name": "OutputModel",
          "model_module_version": "1.0.0",
          "state": {
            "_dom_classes": [],
            "_model_module": "@jupyter-widgets/output",
            "_model_module_version": "1.0.0",
            "_model_name": "OutputModel",
            "_view_count": null,
            "_view_module": "@jupyter-widgets/output",
            "_view_module_version": "1.0.0",
            "_view_name": "OutputView",
            "layout": "IPY_MODEL_ac9d236cc9904ec9b1a1c54519d15d74",
            "msg_id": "",
            "outputs": [
              {
                "output_type": "display_data",
                "data": {
                  "text/html": "<html>\n<head><meta charset=\"utf-8\" /></head>\n<body>\n    <div>            <script src=\"https://cdnjs.cloudflare.com/ajax/libs/mathjax/2.7.5/MathJax.js?config=TeX-AMS-MML_SVG\"></script><script type=\"text/javascript\">if (window.MathJax && window.MathJax.Hub && window.MathJax.Hub.Config) {window.MathJax.Hub.Config({SVG: {font: \"STIX-Web\"}});}</script>                <script type=\"text/javascript\">window.PlotlyConfig = {MathJaxConfig: 'local'};</script>\n        <script charset=\"utf-8\" src=\"https://cdn.plot.ly/plotly-2.24.1.min.js\"></script>                <div id=\"b78ba908-f2c1-4849-bccd-9a01ae5b8033\" class=\"plotly-graph-div\" style=\"height:500px; width:500px;\"></div>            <script type=\"text/javascript\">                                    window.PLOTLYENV=window.PLOTLYENV || {};                                    if (document.getElementById(\"b78ba908-f2c1-4849-bccd-9a01ae5b8033\")) {                    Plotly.newPlot(                        \"b78ba908-f2c1-4849-bccd-9a01ae5b8033\",                        [{\"marker\":{\"color\":\"red\"},\"mode\":\"lines\",\"name\":\"track\",\"type\":\"scatter\",\"uid\":\"ba1c3559-76c9-41f9-8775-fba2403f63fe\",\"x\":[0.0,0.10861883417986462,0.21788679971106717,0.32780281599778505,0.4383657960352849,0.5495746464207798,0.6614282673642293,0.77392555269914,0.8870653898935785,1.0008466600611712,1.115268237972117,1.230328992064372,1.3460277844548045,1.46236347095045,1.579334901059866,1.696940918004472,1.815180358729961,1.9340520539178812,2.0535548279971394,2.1736874991556476,2.2944488793519895,2.415837774327194,2.537852983616567,2.6604933005615052,2.783757512321465,2.907644399885953,3.032152738086552,3.157281295609124,3.2830288350058723,3.4093941127076377,3.536375879036221,3.6639728782167182,3.7921838483898966,3.9210075216247304,4.050442623930927,4.180487875271524,4.3111419895755105,4.442403674750636,4.574271632696053,4.706744559315339,4.839821144529196,4.973500072288537,5.107780020587455,5.242659661476296,5.378137661074817,5.5142126795853486,5.650883371306058,5.788148384644224,5.926006362129719,6.06445594042826,6.2034957503550245,6.343124416888131,6.483340559182267,6.624142790582312,6.765529718637076,6.907499945113074,7.050052066008348,7.193184671566321,7.336896346289777,7.481185668954851,7.626051212625079,7.771491544665494,7.917505226756845,8.064090814909719,8.211246859479004,8.358971905178002,8.507264491092975,8.656123150697539,8.80554641186717,8.955532796893777,9.10608082250031,9.257188999855373,9.408855834588095,9.561079826802732,9.713859471093606,9.867193256559965,10.021079666820938,10.17551718003051,10.330504268892575,10.486039400676056,10.64212103723004,10.79874763499906,10.955917645038241,11.113629513028691,11.271881679292875,11.430672578810025,11.590000641231612,11.749864290896873,11.910261946848443,12.071192022847917,12.232652927391555,12.394643063726065,12.557160829864351,12.720204618601379,12.883772817530037,13.04786380905712,13.212475970419327,13.377607673699238,13.543257285841577,13.709423168669154,13.876103678899206,14.043297168159583,14.211001983005119,14.379216464933897,14.547938950403683,14.717167770848476,14.88690125269482,15.057137717378488,15.227875481361068,15.399112856146559,15.57084814829814,15.74307965945485,15.91580568634842,16.08902452082011,16.26273444983765,16.436933755512072,16.611620715114782,16.786793601094587,16.962450681094737,17.138590217970126,17.31521046980442,17.49230968992726,17.669886126931658,17.84793802469116,18.0264636223773,18.205461154477014,18.38492885081007,18.564864936546584,18.745267632224596,18.926135153767632,19.107465712502353,19.289257515176317,19.471508763975578,19.65421765654257,19.83738238599389,20.02100114093819,20.205072105494054,20.38959345930799,20.57456337757246,20.75998003104384,20.945841586060567,21.132146204561252,21.318892044102903,21.506077257879085,21.693699994738225,21.881758399201892,22.070250611483168,22.259174767505,22.448528998918746,22.63831143312248,22.828520193279665,23.019153398337615,23.210209163046144,23.40168559797621,23.59358080953855,23.785892900002537,23.978619967514767,24.171760106117986,24.36531140576993,24.559271952362153,24.753639827739043,24.94841310971671,25.14358987210207,25.339168184711795,25.535146113391512,25.731521720034884,25.928293062602755,26.12545819514237,26.323015167806624,26.52096202687334,26.71929681476459,26.918017570066105,27.117122327546582,27.316609118177155,27.516475969150903,27.716720903902313,27.917341942126853,28.11833709980055,28.319704389199607,28.521441818920067,28.723547393897498,28.926019115426705,29.128854981181597,29.33205298523484,29.53561111807778,29.739527366640303,29.943799714310742,30.148426140955806,30.353404622940623,30.558733133148657,30.764409641001798,30.970432112480445,31.17679851014364,31.383506793149188,31.590554917273828,31.797940834933506,32.00566249520357,32.21371784383905,32.42210482329506,32.630821372747015,32.8398654281111,33.04923492206467,33.258927784066664,33.46894194037808,33.67927531408259,33.88992582510692,34.10089139024151,34.31216992316109,34.523759334445366,34.735657531599585,34.947862419075314,35.16037189829113,35.37318386765337,35.58629622257694,35.799706855506074,36.01341365593527,36.227414510430044,36.44170730264792,36.65628991335932,36.871160220468546,37.08631609903472,37.30175542129288,37.51747605667491,37.73347587183075,37.949752730649365,38.16630449427991,38.383129021152925,38.60022416700147,38.817587784882335,39.03521772519731,39.253111835714364,39.47126796158903,39.68968394538563,39.90835762709865,40.12728684417411,40.3464694315309,40.56590322158226,40.78558604425717,41.005515727021844,41.22569009490117,41.44610697050025,41.66676417402594,41.887659523308386,42.1087908338226,42.33015591871009,42.55175258880046,42.77357865263312,42.99563191647883,43.21791018436155,43.44041125808005,43.663132937229676,43.88607301922413,44.10922929931722,44.332599570624694,44.55618162414608,44.77997324878645,45.003972231378384,45.2281763567038,45.452583407515874,45.677191164560966,45.90199740660056,46.12699991043327,46.35219645091675,46.57758480098981,46.803162731694314,47.02892801219734,47.254878409813145,47.4810116900253,47.70732561650876,47.93381795115202,48.16048645407922,48.38732888367228,48.6143429965931,48.841526547805756,49.068877290598635,49.296392976606725,49.524071355833826,49.75191017667476,49.97990718593772,50.2080601288665,50.43636674916277,50.66482478900848,50.893431989088086,51.12218608861093,51.35108482533364,51.58012593558244,51.80930715427557,52.038626214945666,52.26808084976224,52.497668789554,52.72738776383137,52.95723550080893,53.187209727427835,53.41730816937837,53.647528551122384,53.8778685959158,54.108326025831204,54.33889856178023,54.569583923536264,54.80037982975684,55.03128399800631,55.262294144778366,55.49340798551864,55.72462323464727,55.95593760558158,56.18734881075857,56.418854561657675,56.65045256882327,56.882140541887395,57.11391618959237,57.345777219813485,57.57772133958163,57.80974625510597,58.041849671796705,58.27402929428764,58.50628282645901,58.73860797146007,58.971002431731904,59.2034639090301,59.43599010444745,59.668578718436805,59.90122745083366,60.133934000878995,60.366696067242,60.59951134804288,60.83237754087555,61.06529234283042,61.29825345051719,61.531258560087664,61.76430536725846,61.99739156733383,62.230514855228435,62.46367292549023,62.69686347232312,62.93008418960987,63.163332770934865,63.39660690960692,63.62990429868215,63.863222630986684,64.09655959913957,64.3299128955755,64.5632802125678,64.79665924225104,65.030047676644,65.26344320767242,65.49684352719193,65.73024632701073,65.96364929891251,66.19705013467929,66.4304465261142,66.6638361650643,66.89721674344344,67.13058595325506,67.36394148661509,67.59728103577464,67.83060229314295,68.06390295131007,68.29718070306987,68.5304332414427,68.76365825969822,68.99685345137833,69.2300165103198,69.46314513067729,69.69623700694594,69.9292898339843,70.16230130703707,70.395269121758,70.62819097423251,70.86106456100057,71.09388757907948,71.32665772598668,71.55937269976242,71.79203019899258,72.02462792283144,72.25716357102445,72.48963484393092,72.7220394425468,72.95437506852741,73.18663942421018,73.41883021263736,73.6509451375787,73.88298190355424,74.11493821585697,74.34681178057548,74.5786003046167,74.81030149572858,75.04191306252271,75.27343271449706,75.50485816205854,75.7361871165457,75.96741729025132,76.19854639644514,76.42957214939634,76.66049226439621,76.8913044577807,77.12200644695316,77.35259595040668,77.58307068774681,77.81342837971403,78.0436667482064,78.273783516302,78.50377640828141,78.73364314965032,78.96338146716198,79.19298908883967,79.42246374399915,79.65180316327115,79.88100507862384,80.11006722338517,80.33898733226539,80.56776314137934,80.79639238826897,81.02487281192558,81.25320215281229,81.48137815288632,81.70939855562132,81.93726110602978,82.16496355068516,82.39250363774434,82.61987911696977,82.84708773975183,83.07412725913099,83.30099542982003,83.52769000822629,83.75420875247383,83.98054942242563,84.20670977970566,84.43268758772112,84.65848061168454,84.88408661863579,85.10950337746429,85.33472865893096,85.55976023569036,85.78459588231266,86.00923337530564,86.23367049313673,86.45790501625497,86.68193472711292,86.90575741018858,87.1293708520074,87.35277284116403,87.57596116834434,87.79893362634714,88.02168801010606,88.24422211671136,88.46653374543175,88.68862069773604,88.91048077731506,89.13211179010315,89.35351154430012,89.57467785039269,89.79560852117628,90.01630137177659,90.2367542196713,90.45696488471144,90.67693118914319,90.89665095762926,91.11612201727053,91.33534219762734,91.55430933074119,91.77302125115601,91.99147579593966,92.20967080470528,92.42760411963268,92.64527358548965,92.86267704965329,93.07981236213132,93.29667737558333,93.51326994534199,93.72958792943423,93.9456291886026,94.16139158632618,94.37687298884185,94.59207126516537,94.80698428711253,95.02160992931998,95.23594606926648,95.44999058729377,95.66374136662756,95.87719629339848,96.09035325666295,96.30321014842404,96.51576486365244,96.7280153003071,96.93995935935615,97.1515949447976,97.36291996368008,97.57393232612358,97.78462994534003,97.99501073765398,98.20507262252326,98.41481352255946,98.62423136354855,98.83332407447136,99.04208958752403,99.25052583813859,99.45863076500314,99.6664023100825,99.87383841863836,100.08093703924973,100.28769612383317,100.49411362766303,100.70018750939168,100.90591573106977,101.11129625816626,101.31632705958864,101.52100610770299,101.72533137835399,101.92930085088499,102.13291250815797,102.33616433657349,102.53905432609061,102.74158047024677,102.94374076617763,103.14553321463686,103.34695582001586,103.54800659036374,103.74868353740666,103.94898467656775,104.14890802698665,104.3484516115391,104.54761345685655,104.74639159334554,104.94478405520732,105.14278888045722,105.34040411094409,105.5376277923696,105.73445797430765,105.9308927102236,106.12693005749355,106.32256807742351,106.51780483526863,106.71263840025233,106.9070668455853,107.10108824848469,107.294700690193,107.4879022559972,107.68069103524748,107.87306512137633,108.06502261191727,108.25656160852368,108.44768021698769,108.63837654725873,108.82864871346234,109.0184948339188,109.20791303116175,109.39690143195669,109.58545816731962,109.77358137253536,109.9612691871762,110.14851975512013,110.33533122456925,110.52170174806804,110.70762948252181,110.89311258921467,111.07814923382787,111.26273758645792,111.44687582163469,111.63056211833941,111.81379466002274,111.99657163462267,112.17889123458255,112.36075165686884,112.54215110298901,112.72308777900932,112.90355989557254,113.08356566791569,113.26310331588763,113.44217106396673,113.62076714127832,113.79888978161236,113.97653722344077,114.15370770993493,114.33039948898302,114.50661081320735,114.68233993998165,114.85758513144827,115.03234465453548,115.20661678097443,115.38039978731635,115.55369195494967,115.72649157011679,115.89879692393127,116.07060631239459,116.24191803641301,116.41273040181443,116.58304171936511,116.75285030478638,116.92215447877126,117.09095256700115,117.25924290016229,117.42702381396239,117.59429364914695,117.76105075151577,117.92729347193924,118.09302016637474,118.25822919588282,118.42291892664343,118.58708772997204,118.75073398233584,118.91385606536976,119.07645236589235,119.23852127592197,119.40006119269246,119.56107051866917,119.72154766156459,119.88149103435428,120.04089905529244,120.19977014792754,120.35810274111802,120.5158952690477,120.67314617124141,120.82985389258027,120.98601688331716,121.14163359909202,121.29670250094713,121.45122205534236,121.60519073417024,121.75860701477119,121.91146937994847,122.0637763179833,122.21552632264971,122.36671789322949,122.51734953452697,122.66741975688393,122.81692707619418,122.96587001391833,123.11424709709843,123.26205685837246,123.40929783598887,123.55596857382108,123.70206762138181,123.84759353383751,123.99254487202253,124.1369202024535,124.28071809734334,124.42393713461558,124.56657589791817,124.70863297663777,124.85010696591345,124.99099646665076,125.13130008553546,125.27101643504733,125.41014413347395,125.54868180492424,125.68662807934221,125.82398159252038,125.9607409861134,126.09690490765132,126.23247201055314,126.36744095414001,126.5018104036485,126.63557903024389,126.76874551103316,126.90130852907822,127.03326677340888,127.16461893903573,127.29536372696323,127.42549984420233,127.5550260037835,127.68394092476919,127.81224333226677,127.93993195744093,128.06700553752634,128.1934628158401,128.31930254179414,128.44452347090768,128.5691243648194,128.69310399129984,128.81646112426347,128.93919454378084,129.06130303609066,129.18278539361188,129.30364041495542,129.42386690493632,129.54346367458535,129.66242954116083,129.7807633281604,129.89846386533253,130.01552998868823,130.1319605405124,130.24775436937549,130.36291033014462,130.47742728399515,130.59130409842186,130.70453964725,130.8171328106467,130.92908247513185,131.04038753358918,131.15104688527717,131.26105943583994,131.37042409731816,131.47913978815967,131.58720543323034,131.6946199638245,131.80138231767566,131.907491438967,132.01294627834181,132.11774579291378,132.22188894627737,132.32537470851815,132.4282020562228,132.53036997248944,132.63187744693744,132.73272347571762,132.83290706152223,132.93242721359445,133.03128294773867,133.1294732863298,133.22699725832322,133.32385389926424,133.42004225129767,133.51556136317737,133.61041029027558,133.70458809459214,133.79809384476408,133.89092661607455,133.9830854904621,134.0745695565297,134.16537790955377,134.25550965149318,134.34496389099803,134.43373974341858,134.52183633081393,134.6092527819606,134.6959882323614,134.78204182425378,134.86741270661838,134.9521000351874,135.03610297245302,135.11942068767567,135.20205235689212,135.2839971629239,135.36525429538503,135.4458229506903,135.52570233206322,135.60489164954365,135.68339011999586,135.7611969671162,135.83831142144078,135.91473272035302,135.9904601080912,136.06549283575615,136.1398301613183,136.2134713496252,136.2864156724089,136.35866240829301,136.4302108427998,136.50106026835738,136.57120998430662,136.64065929690818,136.7094075193492,136.77745397175022,136.84479798117187,136.91143888162156,136.97737601406,137.04260872640782,137.1071363735518,137.17095831735156,137.23407392664564,137.29648257725776,137.35818365200316,137.41917654069448,137.47946064014803,137.5390353541895,137.59790009366003,137.65605427642203,137.71349732736485,137.7702286784105,137.82624776851935,137.88155404369556,137.93614695699262,137.99002596851875,138.04319054544226,138.09564016199676,138.14737429948644,138.1983924462911,138.24869409787135,138.2982787567734,138.3471459326342,138.39529514218614,138.44272590926187,138.48943776479905,138.53543024684492,138.58070290056088,138.62525527822703,138.66908693924663,138.7121974501503,138.7545863846005,138.7962533233956,138.83719785447408,138.8774195729187,138.91691808096027,138.95569298798185,138.99374391052237,139.0310704722807,139.06767230411901,139.10354904406677,139.13870033732417,139.17312583626557,139.2068252004431,139.23979809658982,139.27204419862323,139.3035631876484,139.33435475196103,139.36441858705066,139.3937543956037,139.42236188750627,139.4502407798471,139.47739079692033,139.50381167022832,139.52950313848416,139.55446494761435,139.57869685076133,139.6021986082858,139.6249699877692,139.647010764016,139.66832071905594,139.68889964214605,139.70874732977296,139.7278635856547,139.74624822074267,139.76390105322378,139.7808219085218,139.7970106192995,139.81246702546005,139.82719097414866,139.84118231975418,139.8544409239104,139.86696665549755,139.87875939064355,139.88981901272513,139.90014541236917,139.90973848745367,139.91859814310874,139.92672429171762,139.93411685291744,139.94077575360018,139.94670092791318,139.95189231726,139.95634987030084,139.96007354295313,139.9630632983919,139.96531910705028,139.96684094661958,139.96762880204977,139.96768266554943,139.96700253658582,139.9655884218851,139.96344033543193,139.9605582984697,139.95694233950002,139.9525924942826,139.94750880583487,139.9416913244315,139.93514010760396,139.92785522013992,139.91983673408265,139.9110847287302,139.90159929063483,139.89138051360192,139.8804284986891,139.86874335420544,139.85632519571004,139.84317414601128,139.82929033516524,139.81467390047465,139.79932498648742,139.7832437449953,139.7664303350323,139.74888492287317,139.7306076820317,139.711598793259,139.69185844454182,139.67138683110062,139.65018415538754,139.6282506270846,139.6055864631015,139.58219188757346,139.55806713185905,139.53321243453792,139.5076280414084,139.4813142054851,139.45427118699627,139.42649925338156,139.39799867928897,139.36876974657247,139.33881274428893,139.3081279686955,139.27671572324655,139.2445763185907,139.2117100725677,139.17811731020547,139.14379836371654,139.1087535724952,139.07298328311373,139.03648784931926,138.99926763203015,138.96132299933245,138.92265432647622,138.88326199587186,138.8431463970864,138.80230792683943,138.7607469889994,138.7184639945795,138.67545936173372,138.6317335157525,138.58728688905876,138.54211992120344,138.49623305886132,138.4496267558264,138.40230147300755,138.35425767842406,138.30549584720075,138.25601646156338,138.20582001083397,138.1549069914259,138.1032779068389,138.05093326765427,137.9978735915297,137.94409940319414,137.8896112344426,137.8344096241311,137.77849511817098,137.72186826952384,137.6645296381958,137.6064797912323,137.5477193027121,137.4882487537418,137.42806873245019,137.36717983398216,137.3055826604932,137.243277821143,137.1802659320898,137.11654761648407,137.05212350446243,136.98699423314144,136.9211604466113,136.85462279592934,136.7873819391138,136.71943854113712,136.65079327391953,136.5814468163224,136.51139985414125,136.4406530800994,136.36920719384074,136.29706290192308,136.22422091781092,136.1506819618687,136.07644676135334,136.0015160504073,135.9258905700512,135.84957106817654,135.77255829953828,135.6948530257473,135.61645601526308,135.53736804338587,135.4575898922492,135.377122350812,135.29596621485086,135.21412228695226,135.1315913765044,135.04837429968944,134.9644718794753,134.87988494560747,134.794614334601,134.70866088973202,134.62202546102947,134.53470890526677,134.44671208595327,134.35803587332566,134.26868114433955,134.17864878266062,134.08793967865586,133.99655472938494,133.90449483859123,133.8117609166929,133.71835388077375,133.62427465457446,133.5295241684832,133.43410335952646,133.33801317135988,133.2412545542589,133.14382846510924,133.04573586739758,132.94697773120197,132.8475550331823,132.74746875657047,132.64671989116084,132.5453094333004,132.44323838587889,132.34050775831884,132.23711856656575,132.13307183307785,132.0283685868161,131.92300986323391,131.81699670426713,131.71033015832342,131.60301128027214,131.49504113143382],\"y\":[7.105427357601002e-15,0.20658894856735088,0.41283529766818106,0.6187370076475176,0.8242920422586408,1.0294983686832282,1.2343539575515692,1.4388567829624392,1.6430048225032792,1.8467960572701472,2.050228471887685,2.2533000545290633,2.456008796935876,2.6583526944379443,2.8603297459732886,3.0619379541077265,3.2631753250547675,3.4640398686952594,3.664529598597106,3.8646425320348925,4.064376690009503,4.263730097267668,4.462700782321583,4.661286777468263,4.859486118809123,5.057296846269331,5.254717003617252,5.451744638483724,5.648377802381418,5.844614550724096,6.040452942845796,6.235891042020157,6.4309269154793824,6.62555863443351,6.8197842740894,7.013601913669795,7.207009636432332,7.400005529688492,7.592587684822455,7.784754197310129,7.9765031667378,8.167832696821023,8.358740895423374,8.549225874575143,8.739285750492016,8.928918643593697,9.118122678522482,9.30689598416184,9.495236693654945,9.683142944423004,9.870612878183813,10.05764464097009,10.24423638314778,10.430386259434385,10.616092428917199,10.801353055071559,10.986166305778895,11.170530353344951,11.354443374517821,11.537903550505987,11.720909066996299,11.903458114171919,12.085548886730223,12.267179583900642,12.44834840946254,12.629053571762846,12.809293283733894,12.989065762911011,13.168369231450193,13.347201916145707,13.525562048447547,13.703447864478981,13.880857605054047,14.057789515694814,14.234241846648835,14.410212852906426,14.58570079421792,14.760703935110868,14.935220544907231,15.109248897740464,15.282787272572563,15.455833953211219,15.62838722832658,15.800445391468344,15.972006741082545,16.143069580528426,16.3136322180952,16.48369296701877,16.65325014549846,16.82230207671357,16.990847088840013,17.158883515066833,17.326409693612675,17.49342396774226,17.65992468578272,17.82591020113997,17.99137887231496,18.156329062919916,18.320759141694595,18.48466748252229,18.648052464445982,18.810912471684375,18.973245893647878,19.135051124954494,19.296326565445703,19.45707062020238,19.61728169956043,19.776958219126577,19.936098599794036,20.094701267758126,20.25276465453181,20.410287196961228,20.567267337241177,20.72370352293045,20.879594206967298,21.03493784768459,21.189732908825164,21.343977859556986,21.497671174488296,21.65081133368266,21.803396822674067,21.955426132481804,22.10689775962556,22.257810206140064,22.408161979590062,22.557951593085015,22.70717756529382,22.855838420459442,23.003932688413535,23.151458904590974,23.298415610044295,23.444801351458224,23.59061468116392,23.735854157153398,23.880518343093726,24.024605808341256,24.168115127955787,24.31104488271459,24.453393659126576,24.5951600494461,24.736342651687032,24.876940069636532,25.016950912868893,25.156373796759297,25.2952073424975,25.43345017710144,25.57110093343087,25.708158250200825,25.84462077199514,25.98048714927979,26.11575603841628,26.250426101674925,26.384496007248075,26.517964429263266,26.65083004779637,26.78309154888465,26.914747624539707,27.045796972760456,27.176238297545964,27.30607030890834,27.43529172288538,27.563901261553404,27.691897653039746,27.819279631535466,27.946045937307737,28.072195316712467,28.197726522206523,28.322638312360176,28.44692945186936,28.570598711567854,28.693644868439463,28.81606670563017,28.937863012460035,29.059032584435293,29.179574223260182,29.299486736848877,29.418768939337177,29.537419651094332,29.655437698734644,29.772821915129086,29.88957113941686,30.00568421701682,30.121159999639048,30.235997345296,30.35019511831392,30.463752189344035,30.576667435373793,30.688939739737833,30.800567992129217,30.91155108861018,31.021887931623255,31.13157743000201,31.24061849898186,31.34901006021083,31.456751041760185,31.56384037813504,31.670277010284877,31.776059885614075,31.881187957992253,31.985660187764694,32.089475541762496,32.19263299331293,32.295131522249534,32.39697011492217,32.49814776420713,32.59866346951701,32.69851623681065,32.79770507860296,32.896229013974676,32.99408706858209,33.09127827466662,33.18780167106446,33.283656303216034,33.37884122317547,33.473355489619905,33.56719816785892,33.66036832984365,33.75286505417603,33.8446874261179,33.93583453760007,34.02630548723124,34.11609938030698,34.205215328818554,34.29365245146168,34.38140987364528,34.46848672750009,34.5548821518873,34.64059529240701,34.72562530140671,34.809971337989666,34.893632568023236,34.976608164147095,35.05889730578143,35.14049917913509,35.22141297721356,35.301637899827014,35.3811731535982,35.46001795197027,35.53817151521457,35.61563307043838,35.69240185159249,35.768477099478886,35.8438580617581,35.91854399295683,35.99253415447515,36.065827814593916,36.138424248481996,36.210322738203374,36.28152257272431,36.352023047920355,36.42182346658332,36.49092313842813,36.55932138009973,36.62701751517973,36.69401087419327,36.76030079461539,36.82588662087784,36.89076770437542,36.95494340347237,37.018413083508804,37.08117611680697,37.14323188267741,37.204579767425116,37.265219164355614,37.32514947378098,37.38437010302573,37.44288046643268,37.50067998536882,37.55776808823089,37.61414421045117,37.66980779450299,37.72475828990629,37.778995153232984,37.83251784811246,37.88532584523675,37.93741862236584,37.98879566433283,38.03945646304902,38.08940051750895,38.1386273337953,38.187136425083835,38.23492731164821,38.28199952086467,38.3283525872168,38.373986052300026,38.41889946482627,38.46309238062828,38.50656436266419,38.54931498102164,38.591343812922204,38.63265044272546,38.67323446193316,38.71309546919325,38.75223307030382,38.790646878217046,38.82833651304297,38.86530160205328,38.90154177968502,38.93705668754417,38.97184597440918,39.00590929623449,39.03924631615391,39.07185670448392,39.10374013872698,39.13489630357468,39.16532489091091,39.195025599814855,39.223998136563964,39.25224221463692,39.27975755471641,39.30654388469193,39.33260093966243,39.35792846193898,39.382526201047284,39.4063939137302,39.429531363950076,39.451938322891166,39.473614568961835,39.49455988779677,39.51477407225907,39.534256922442395,39.5530082456728,39.571027856510725,39.58831557675285,39.60487123543376,39.620694668827795,39.63578572045047,39.650144241060175,39.663770088659604,39.676663128497125,39.68882323306819,39.7002502821165,39.71094416263527,39.72090476886834,39.73013200231115,39.738625771711796,39.7463859930719,39.75341258964745,39.759705491949546,39.76526463774508,39.77008997205735,39.77418144716668,39.77753902261077,39.78016266518517,39.78205234894362,39.78320805519823,39.78362977251976,39.783317496737695,39.782271230940225,39.780490985474316,39.777976777945554,39.77472863321796,39.77074658341378,39.76603066791316,39.76058093335368,39.75439743363006,39.747480229893426,39.739829390550895,39.73144499126475,39.72232711495174,39.71247585178233,39.70189129917969,39.69057356181882,39.67852275162548,39.6657389877751,39.65222239669157,39.637973112046026,39.62299127475549,39.607277032981514,39.59083054212873,39.57365196484322,39.55574147101102,39.53709923775635,39.517725449439936,39.49762029765715,39.476783981236096,39.45521670623569,39.43291868594356,39.409890140874026,39.38613129876585,39.361642394579974,39.33642367049724,39.310475375916,39.28379776744961,39.25639110892392,39.228255671374654,39.19939173304469,39.16979957938143,39.139479503033854,39.10843180384964,39.076656788872285,39.04415477233796,39.01092607567249,38.97697102748812,38.94228996358029,38.90688322692432,38.87075116767198,38.83389414314806,38.79631251784686,38.7580066634285,38.71897695871537,38.67922378968825,38.63874754948259,38.597548638384566,38.55562746382718,38.51298444038616,38.46961998977591,38.425534540845305,38.3807285295735,38.33520239906558,38.28895659954816,38.24199158836497,38.194307829972345,38.14590579593458,38.09678596491929,38.04694882269271,37.996394862114826,37.94512458313454,37.89313849278476,37.84043710517729,37.78702094149784,37.732890530000844,37.678046406004185,37.62248911188398,37.56621919706916,37.50923721803605,37.4515437383029,37.393139328424255,37.334024565985345,37.274200035596365,37.21366632888673,37.15242404449914,37.09047378808377,37.02781617229215,36.96445181677126,36.90038134815724,36.835605400069326,36.77012461310352,36.703939634826256,36.637051119768,36.56945972941682,36.50116613221175,36.43217100353627,36.3624750257116,36.292078887989945,36.220983286547636,36.14918892447835,36.076696511786054,36.00350676537805,35.92962040905782,35.85503817351798,35.779760796332894,35.703789021951536,35.627123601690016,35.549765293724235,35.4717148630823,35.39297308163705,35.31354072809833,35.23341858800538,35.152607453718986,35.0711081244137,34.98892140606992,34.90604811146591,34.82248906016977,34.738245078531335,34.65331699967399,34.56770566348645,34.48141191661442,34.39443661245228,34.30678061113457,34.21844477952757,34.12942999122063,34.03973712651762,33.9493670724282,33.85832072265897,33.766598977604744,33.67420274433961,33.581132936607915,33.48739047481527,33.39297628601943,33.297891303921176,33.202136468855,33.10571272777983,33.00862103426972,32.910862348504395,32.81243763725968,32.713347873898044,32.613594038358926,32.51317711714901,32.41209810333257,32.310357996521546,32.20795780286569,32.104898535042665,32.00118121224794,31.89680686018481,31.791776511054167,31.686091203544322,31.57975198282078,31.472759900515825,31.365116014718183,31.25682138996251,31.147877097218895,31.038284213882278,30.928043823761755,30.817157017069903,30.70562489041194,30.59344854677498,30.480629095517017,30.367167652356002,30.253065339358827,30.138323284930223,30.02294262380154,29.906924497019602,29.790270051935394,29.672980442192724,29.555056827716783,29.43650037470269,29.317312255603987,29.197493649121007,29.07704574018927,28.955969719967648,28.834266785826735,28.71193814133691,28.588984996256464,28.465408566519613,28.341210074224506,28.216390747621134,28.090951821099168,27.964894535175738,27.8382201364832,27.710929877756804,27.583025017822273,27.454506821583372,27.325376560009424,27.195635510122706,27.065284954985827,26.934326183689038,26.802760491337516,26.6705891790385,26.53781355388847,26.40443492896022,26.270454623289808,26.135873961863616,26.00069427560515,25.864916901361937,25.72854318189229,25.59157446585202,25.454012107781097,25.31585746809028,25.177111913047618,25.037776814764975,24.89785355118447,24.75734350606482,24.616248068967636,24.474568635243756,24.332306606019372,24.189463388182233,24.04604039436765,23.902039042944622,23.75746075800175,23.61230696933317,23.466579112424398,23.320278628438153,23.173406964200126,23.025965572184603,22.877955910500184,22.72937944287527,22.580237638643673,22.43053197273006,22.280263925635346,22.12943498342205,21.978046637699627,21.8261003856097,21.673597729811284,21.520540178465836,21.36692924522248,21.212766449202903,21.058053314986424,20.902791372594855,20.74698215747742,20.590627210495548,20.43372807790763,20.276286311353722,20.1183034678402,19.959781109724425,19.80072080469919,19.64112412577728,19.480992651275912,19.320327964801102,19.159131655232017,18.99740531670531,18.835150548599223,18.672368955517932,18.509062147275564,18.345231738880322,18.18087935051851,18.016006607538507,17.850615140434677,17.684706584831304,17.51828258146631,17.351344776175132,17.18389481987441,17.015934368545643,16.847465083218808,16.67848862995598,16.50900667983482,16.339020908932056,16.168532998306894,15.997544633984397,15.82605750693886,15.654073313077028,15.481593753221333,15.308620533093077,15.13515536329561,14.96119995929736,14.786756041414847,14.611825334795753,14.436409569401782,14.260510479991616,14.084129806103704,13.907269292039075,13.7299306868441,13.55211574429321,13.373826222871536,13.195063885757456,13.015830500805272,12.836127840527666,12.655957682078174,12.475321807233584,12.29422200237638,12.11266005847704,11.930637771076313,11.74815694026745,11.56521937067847,11.381826871454251,11.197981256238677,11.01368434315662,10.828937954796125,10.643743918190168,10.458104064798782,10.272020230490838,10.085494255525916,9.898527984536123,9.711123266507826,9.523281954763362,9.335005906942733,9.146296984985256,8.957157055111033,8.767587987802656,8.577591657786627,8.387169944014794,8.19632472964583,8.005057902026564,7.813371352673322,7.621266977253278,7.42874667556557,7.235812351522689,7.042465913131515,6.848709272474537,6.654544345690844,6.459973052957302,6.264997318469447,6.069619070422554,5.873840240992429,5.67766276631648,5.481088586474463,5.284119645469296,5.08675789120786,4.889005275481729,4.69086375394788,4.492335286109316,4.29342183529576,4.094125368644079,3.894447857079051,3.6943912752937322,3.493957601729953,3.2931488185587483,3.0919669116607977,2.8904138706067357,2.6884916886375123,2.4862023626445975,2.28354789315037,2.0805302842882583,1.877151543782901,1.6734136829303168,1.4693187165780373,1.2648686631051334,1.0600655444023133,0.8549113858518069,0.6494082163075134,0.44355806807481457,0.2373629768904948,0.030824981902632942,-0.176053874349563,-0.3832715459559921,-0.5908259836558685,-0.798715134857936,-1.006936943660918,-1.2154893508736748,-1.4243702940356542,-1.6335777074372828,-1.843109522140395,-2.052963665998682,-2.263138063678184,-2.473630636677804,-2.6844393033499507,-2.895561978920977,-3.106996575511893,-3.318741002159001,-3.530793164834563,-3.743150966467507,-3.95581230696418,-4.168775083229079,-4.382037189185763,-4.5955965157975065,-4.80945095108828,-5.023598380163602,-5.23803668523146,-5.452763745623237,-5.667777437814706,-5.883075635447014,-6.098656209347691,-6.314517027551826,-6.530655955322956,-6.747070855174314,-6.963759586889925,-7.180720007545798,-7.397949971531073,-7.615447330569285,-7.833209933739543,-8.051235627497945,-8.269522255698696,-8.488067659615531,-8.706869677963049,-8.925926146918087,-9.145234900141116,-9.36479376879765,-9.584600581579696,-9.80465316472732,-10.024949342049982,-10.245486934948161,-10.466263762434878,-10.687277641157266,-10.908526385418167,-11.130007807197739,-11.35171971617508,-11.5736599197499,-11.795826223064289,-12.018216429024253,-12.240828338321553,-12.463659749455456,-12.68670845875447,-12.909972260398153,-13.133448946438932,-13.357136306823897,-13.581032129416787,-13.80513420001968,-14.029440302395013,-14.253948218287473,-14.478655727445915,-14.703560607645361,-14.928660634708923,-15.153953582529805,-15.37943722309344,-15.605109326499313,-15.830967660983166,-16.057009992939015,-16.283234086941256,-16.50963770576677,-16.73621861041703,-16.96297456014027,-17.189903312453588,-17.417002623165267,-17.644270246396772,-17.87170393460509,-18.099301438604922,-18.327060507590925,-18.554978889159976,-18.78305432933344,-19.01128457257944,-19.239667361835277,-19.46820043852957,-19.696881542604718,-19.92570841253921,-20.154678785369992,-20.383790396714865,-20.61304098079486,-20.842428270456608,-21.071949997194906,-21.301603891174956,-21.531387681254927,-21.76129909500839,-21.9913358587468,-22.221495697541982,-22.451776335248603,-22.68217549452671,-22.912690896864206,-23.14332026259952,-23.37406131094395,-23.60491176000435,-23.835869326805664,-24.066931727313516,-24.298096676456773,-24.529361888150156,-24.760725075316827,-24.992183949911123,-25.22373622294098,-25.45537960449072,-25.687111803743655,-25.918930529004747,-26.15083348772325,-26.382818386515417,-26.614882931187125,-26.847024826756687,-27.079241777477378,-27.311531486860247,-27.543891657696797,-27.776319992081717,-28.008814191435604,-28.241371956527676,-28.473990987498528,-28.706668983882842,-28.939403644632264,-29.172192668137964,-29.405033752253523,-29.63792459431769,-29.870862891177108,-30.103846339209156,-30.336872634344665,-30.569939472090716,-30.803044547553544,-31.036185555461135,-31.269360190186152,-31.502566145768714,-31.7358011159392,-31.969062794141045,-32.202348873553554,-32.435657047114695,-32.66898500754403,-32.90233044736535,-33.1356910589296,-33.36906453443771,-33.60244856596337,-33.835840845475886,-34.06923906486301,-34.30264091595373,-34.5360440905411,-34.76944628040518,-35.00284517733566,-35.23623847315485,-35.46962385974043,-35.702999029048314,-35.93636167313545,-36.169709484182654,-36.40304015451739,-36.63635137663676,-36.869640843230066,-37.102906247201815,-37.33614528169447,-37.56935564011127,-37.802535016139046,-38.03568110377104,-38.26879159732964,-38.50186419148935,-38.73489658129938,-38.967886462206565,-39.20083153007813,-39.43372948122448,-39.666578012421965,-39.89937482093568,-40.13211760454219,-40.36480406155242,-40.59743189083426,-40.82999879183541,-41.06250246460611,-41.294940609821914,-41.52731092880637,-41.75961112355381,-41.99183889675206,-42.2239919518051,-42.456067992855935,-42.688064724809095,-42.91997985335347,-43.15181108498495,-43.38355612702912,-43.61521268766392,-43.846778475942344,-44.078251201815014,-44.30962857615299,-44.5409083107702,-44.77208811844622,-45.00316571294883,-45.23413880905663,-45.46500512258168,-45.695762370392025,-45.92640827043428,-46.15694054175634,-46.38735690452971,-46.617655080072176,-46.847832790870356,-47.07788776060218,-47.30781771415943,-47.53762037767019,-47.7672934785214,-47.99683474538126,-48.22624190822181,-48.455512698341224,-48.68464484838634,-48.913636092375086,-49.142484165718834,-49.37118680524486,-49.59974174921868,-49.82814673736639,-50.05639951089719,-50.28449781252546,-50.51243938649327,-50.740221978592636,-50.9678433361878,-51.195301208237524,-51.42259334531733,-51.64971749964177,-51.876671425086684,-52.10345287721134,-52.33005961328066,-52.55648939228741,-52.78273997497436,-53.00880912385644,-53.23469460324283,-53.4603941792591,-53.68590561986929,-53.911226694898026,-54.136355176052504,-54.36128883694455,-54.58602545311268,-54.81056280204404,-55.034898663196415,-55.2590308180202,-55.482957049980286,-55.7066751445781,-55.930182889373356,-56.15347807400603,-56.37655849021817,-56.59942193187579,-56.822066194990626,-57.044489077741986,-57.26668838049844,-57.48866190583975,-57.71040745857839,-57.931922845781344,-58.15320587679186,-58.374254363251,-58.595066119119345,-58.81563896069862,-59.03597070665326,-59.25605917803196,-59.47590219828935,-59.69549759330733,-59.91484319141672,-60.133936823418665,-60.35277632260612,-60.571359524785244,-60.78968426829684,-61.00774839403766,-61.225549745481956,-61.44308616870252,-61.66035551239218,-61.877355627885024,-62.09408436917764,-62.31053959295034,-62.5267191585884,-62.74262092820312,-62.95824276665316,-63.17358254156541,-63.38863812335628,-63.60340738525264,-63.81788820331292,-64.03207845644808,-64.24597602644259,-64.4595787979754,-64.6728846586408,-64.88589149896944,-65.09859721244905,-65.3109996955453,-65.52309684772268,-65.73488657146521,-65.94636677229717,-66.15753535880387,-66.36839024265227,-66.57892933861172,-66.7891505645745,-66.99905184157639,-67.20863109381736,-67.41788624868192,-67.62681523675981,-67.83541599186631,-68.04368645106271,-68.2516245546768,-68.45922824632315,-68.66649547292343,-68.87342418472677]}],                        {\"template\":{\"data\":{\"barpolar\":[{\"marker\":{\"line\":{\"color\":\"#E5ECF6\",\"width\":0.5},\"pattern\":{\"fillmode\":\"overlay\",\"size\":10,\"solidity\":0.2}},\"type\":\"barpolar\"}],\"bar\":[{\"error_x\":{\"color\":\"#2a3f5f\"},\"error_y\":{\"color\":\"#2a3f5f\"},\"marker\":{\"line\":{\"color\":\"#E5ECF6\",\"width\":0.5},\"pattern\":{\"fillmode\":\"overlay\",\"size\":10,\"solidity\":0.2}},\"type\":\"bar\"}],\"carpet\":[{\"aaxis\":{\"endlinecolor\":\"#2a3f5f\",\"gridcolor\":\"white\",\"linecolor\":\"white\",\"minorgridcolor\":\"white\",\"startlinecolor\":\"#2a3f5f\"},\"baxis\":{\"endlinecolor\":\"#2a3f5f\",\"gridcolor\":\"white\",\"linecolor\":\"white\",\"minorgridcolor\":\"white\",\"startlinecolor\":\"#2a3f5f\"},\"type\":\"carpet\"}],\"choropleth\":[{\"colorbar\":{\"outlinewidth\":0,\"ticks\":\"\"},\"type\":\"choropleth\"}],\"contourcarpet\":[{\"colorbar\":{\"outlinewidth\":0,\"ticks\":\"\"},\"type\":\"contourcarpet\"}],\"contour\":[{\"colorbar\":{\"outlinewidth\":0,\"ticks\":\"\"},\"colorscale\":[[0.0,\"#0d0887\"],[0.1111111111111111,\"#46039f\"],[0.2222222222222222,\"#7201a8\"],[0.3333333333333333,\"#9c179e\"],[0.4444444444444444,\"#bd3786\"],[0.5555555555555556,\"#d8576b\"],[0.6666666666666666,\"#ed7953\"],[0.7777777777777778,\"#fb9f3a\"],[0.8888888888888888,\"#fdca26\"],[1.0,\"#f0f921\"]],\"type\":\"contour\"}],\"heatmapgl\":[{\"colorbar\":{\"outlinewidth\":0,\"ticks\":\"\"},\"colorscale\":[[0.0,\"#0d0887\"],[0.1111111111111111,\"#46039f\"],[0.2222222222222222,\"#7201a8\"],[0.3333333333333333,\"#9c179e\"],[0.4444444444444444,\"#bd3786\"],[0.5555555555555556,\"#d8576b\"],[0.6666666666666666,\"#ed7953\"],[0.7777777777777778,\"#fb9f3a\"],[0.8888888888888888,\"#fdca26\"],[1.0,\"#f0f921\"]],\"type\":\"heatmapgl\"}],\"heatmap\":[{\"colorbar\":{\"outlinewidth\":0,\"ticks\":\"\"},\"colorscale\":[[0.0,\"#0d0887\"],[0.1111111111111111,\"#46039f\"],[0.2222222222222222,\"#7201a8\"],[0.3333333333333333,\"#9c179e\"],[0.4444444444444444,\"#bd3786\"],[0.5555555555555556,\"#d8576b\"],[0.6666666666666666,\"#ed7953\"],[0.7777777777777778,\"#fb9f3a\"],[0.8888888888888888,\"#fdca26\"],[1.0,\"#f0f921\"]],\"type\":\"heatmap\"}],\"histogram2dcontour\":[{\"colorbar\":{\"outlinewidth\":0,\"ticks\":\"\"},\"colorscale\":[[0.0,\"#0d0887\"],[0.1111111111111111,\"#46039f\"],[0.2222222222222222,\"#7201a8\"],[0.3333333333333333,\"#9c179e\"],[0.4444444444444444,\"#bd3786\"],[0.5555555555555556,\"#d8576b\"],[0.6666666666666666,\"#ed7953\"],[0.7777777777777778,\"#fb9f3a\"],[0.8888888888888888,\"#fdca26\"],[1.0,\"#f0f921\"]],\"type\":\"histogram2dcontour\"}],\"histogram2d\":[{\"colorbar\":{\"outlinewidth\":0,\"ticks\":\"\"},\"colorscale\":[[0.0,\"#0d0887\"],[0.1111111111111111,\"#46039f\"],[0.2222222222222222,\"#7201a8\"],[0.3333333333333333,\"#9c179e\"],[0.4444444444444444,\"#bd3786\"],[0.5555555555555556,\"#d8576b\"],[0.6666666666666666,\"#ed7953\"],[0.7777777777777778,\"#fb9f3a\"],[0.8888888888888888,\"#fdca26\"],[1.0,\"#f0f921\"]],\"type\":\"histogram2d\"}],\"histogram\":[{\"marker\":{\"pattern\":{\"fillmode\":\"overlay\",\"size\":10,\"solidity\":0.2}},\"type\":\"histogram\"}],\"mesh3d\":[{\"colorbar\":{\"outlinewidth\":0,\"ticks\":\"\"},\"type\":\"mesh3d\"}],\"parcoords\":[{\"line\":{\"colorbar\":{\"outlinewidth\":0,\"ticks\":\"\"}},\"type\":\"parcoords\"}],\"pie\":[{\"automargin\":true,\"type\":\"pie\"}],\"scatter3d\":[{\"line\":{\"colorbar\":{\"outlinewidth\":0,\"ticks\":\"\"}},\"marker\":{\"colorbar\":{\"outlinewidth\":0,\"ticks\":\"\"}},\"type\":\"scatter3d\"}],\"scattercarpet\":[{\"marker\":{\"colorbar\":{\"outlinewidth\":0,\"ticks\":\"\"}},\"type\":\"scattercarpet\"}],\"scattergeo\":[{\"marker\":{\"colorbar\":{\"outlinewidth\":0,\"ticks\":\"\"}},\"type\":\"scattergeo\"}],\"scattergl\":[{\"marker\":{\"colorbar\":{\"outlinewidth\":0,\"ticks\":\"\"}},\"type\":\"scattergl\"}],\"scattermapbox\":[{\"marker\":{\"colorbar\":{\"outlinewidth\":0,\"ticks\":\"\"}},\"type\":\"scattermapbox\"}],\"scatterpolargl\":[{\"marker\":{\"colorbar\":{\"outlinewidth\":0,\"ticks\":\"\"}},\"type\":\"scatterpolargl\"}],\"scatterpolar\":[{\"marker\":{\"colorbar\":{\"outlinewidth\":0,\"ticks\":\"\"}},\"type\":\"scatterpolar\"}],\"scatter\":[{\"fillpattern\":{\"fillmode\":\"overlay\",\"size\":10,\"solidity\":0.2},\"type\":\"scatter\"}],\"scatterternary\":[{\"marker\":{\"colorbar\":{\"outlinewidth\":0,\"ticks\":\"\"}},\"type\":\"scatterternary\"}],\"surface\":[{\"colorbar\":{\"outlinewidth\":0,\"ticks\":\"\"},\"colorscale\":[[0.0,\"#0d0887\"],[0.1111111111111111,\"#46039f\"],[0.2222222222222222,\"#7201a8\"],[0.3333333333333333,\"#9c179e\"],[0.4444444444444444,\"#bd3786\"],[0.5555555555555556,\"#d8576b\"],[0.6666666666666666,\"#ed7953\"],[0.7777777777777778,\"#fb9f3a\"],[0.8888888888888888,\"#fdca26\"],[1.0,\"#f0f921\"]],\"type\":\"surface\"}],\"table\":[{\"cells\":{\"fill\":{\"color\":\"#EBF0F8\"},\"line\":{\"color\":\"white\"}},\"header\":{\"fill\":{\"color\":\"#C8D4E3\"},\"line\":{\"color\":\"white\"}},\"type\":\"table\"}]},\"layout\":{\"annotationdefaults\":{\"arrowcolor\":\"#2a3f5f\",\"arrowhead\":0,\"arrowwidth\":1},\"autotypenumbers\":\"strict\",\"coloraxis\":{\"colorbar\":{\"outlinewidth\":0,\"ticks\":\"\"}},\"colorscale\":{\"diverging\":[[0,\"#8e0152\"],[0.1,\"#c51b7d\"],[0.2,\"#de77ae\"],[0.3,\"#f1b6da\"],[0.4,\"#fde0ef\"],[0.5,\"#f7f7f7\"],[0.6,\"#e6f5d0\"],[0.7,\"#b8e186\"],[0.8,\"#7fbc41\"],[0.9,\"#4d9221\"],[1,\"#276419\"]],\"sequential\":[[0.0,\"#0d0887\"],[0.1111111111111111,\"#46039f\"],[0.2222222222222222,\"#7201a8\"],[0.3333333333333333,\"#9c179e\"],[0.4444444444444444,\"#bd3786\"],[0.5555555555555556,\"#d8576b\"],[0.6666666666666666,\"#ed7953\"],[0.7777777777777778,\"#fb9f3a\"],[0.8888888888888888,\"#fdca26\"],[1.0,\"#f0f921\"]],\"sequentialminus\":[[0.0,\"#0d0887\"],[0.1111111111111111,\"#46039f\"],[0.2222222222222222,\"#7201a8\"],[0.3333333333333333,\"#9c179e\"],[0.4444444444444444,\"#bd3786\"],[0.5555555555555556,\"#d8576b\"],[0.6666666666666666,\"#ed7953\"],[0.7777777777777778,\"#fb9f3a\"],[0.8888888888888888,\"#fdca26\"],[1.0,\"#f0f921\"]]},\"colorway\":[\"#636efa\",\"#EF553B\",\"#00cc96\",\"#ab63fa\",\"#FFA15A\",\"#19d3f3\",\"#FF6692\",\"#B6E880\",\"#FF97FF\",\"#FECB52\"],\"font\":{\"color\":\"#2a3f5f\"},\"geo\":{\"bgcolor\":\"white\",\"lakecolor\":\"white\",\"landcolor\":\"#E5ECF6\",\"showlakes\":true,\"showland\":true,\"subunitcolor\":\"white\"},\"hoverlabel\":{\"align\":\"left\"},\"hovermode\":\"closest\",\"mapbox\":{\"style\":\"light\"},\"paper_bgcolor\":\"white\",\"plot_bgcolor\":\"#E5ECF6\",\"polar\":{\"angularaxis\":{\"gridcolor\":\"white\",\"linecolor\":\"white\",\"ticks\":\"\"},\"bgcolor\":\"#E5ECF6\",\"radialaxis\":{\"gridcolor\":\"white\",\"linecolor\":\"white\",\"ticks\":\"\"}},\"scene\":{\"xaxis\":{\"backgroundcolor\":\"#E5ECF6\",\"gridcolor\":\"white\",\"gridwidth\":2,\"linecolor\":\"white\",\"showbackground\":true,\"ticks\":\"\",\"zerolinecolor\":\"white\"},\"yaxis\":{\"backgroundcolor\":\"#E5ECF6\",\"gridcolor\":\"white\",\"gridwidth\":2,\"linecolor\":\"white\",\"showbackground\":true,\"ticks\":\"\",\"zerolinecolor\":\"white\"},\"zaxis\":{\"backgroundcolor\":\"#E5ECF6\",\"gridcolor\":\"white\",\"gridwidth\":2,\"linecolor\":\"white\",\"showbackground\":true,\"ticks\":\"\",\"zerolinecolor\":\"white\"}},\"shapedefaults\":{\"line\":{\"color\":\"#2a3f5f\"}},\"ternary\":{\"aaxis\":{\"gridcolor\":\"white\",\"linecolor\":\"white\",\"ticks\":\"\"},\"baxis\":{\"gridcolor\":\"white\",\"linecolor\":\"white\",\"ticks\":\"\"},\"bgcolor\":\"#E5ECF6\",\"caxis\":{\"gridcolor\":\"white\",\"linecolor\":\"white\",\"ticks\":\"\"}},\"title\":{\"x\":0.05},\"xaxis\":{\"automargin\":true,\"gridcolor\":\"white\",\"linecolor\":\"white\",\"ticks\":\"\",\"title\":{\"standoff\":15},\"zerolinecolor\":\"white\",\"zerolinewidth\":2},\"yaxis\":{\"automargin\":true,\"gridcolor\":\"white\",\"linecolor\":\"white\",\"ticks\":\"\",\"title\":{\"standoff\":15},\"zerolinecolor\":\"white\",\"zerolinewidth\":2}}},\"xaxis\":{\"range\":[-60,60],\"title\":{\"text\":\"X\"}},\"yaxis\":{\"range\":[-60,60],\"title\":{\"text\":\"Y\"}},\"width\":500,\"height\":500,\"showlegend\":false,\"title\":{\"text\":\"Track in the Gluex Detector\"},\"shapes\":[{\"line\":{\"color\":\"black\"},\"type\":\"circle\",\"x0\":-10.5,\"x1\":10.5,\"xref\":\"x\",\"y0\":-10.5,\"y1\":10.5,\"yref\":\"y\"},{\"line\":{\"color\":\"black\"},\"type\":\"circle\",\"x0\":-55,\"x1\":55,\"xref\":\"x\",\"y0\":-55,\"y1\":55,\"yref\":\"y\"}]},                        {\"responsive\": true}                    ).then(function(){\n                            \nvar gd = document.getElementById('b78ba908-f2c1-4849-bccd-9a01ae5b8033');\nvar x = new MutationObserver(function (mutations, observer) {{\n        var display = window.getComputedStyle(gd).display;\n        if (!display || display === 'none') {{\n            console.log([gd, 'removed!']);\n            Plotly.purge(gd);\n            observer.disconnect();\n        }}\n}});\n\n// Listen for the removal of the full notebook cells\nvar notebookContainer = gd.closest('#notebook-container');\nif (notebookContainer) {{\n    x.observe(notebookContainer, {childList: true});\n}}\n\n// Listen for the clearing of the current output cell\nvar outputEl = gd.closest('.output');\nif (outputEl) {{\n    x.observe(outputEl, {childList: true});\n}}\n\n                        })                };                            </script>        </div>\n</body>\n</html>"
                },
                "metadata": {}
              }
            ]
          }
        },
        "97b83086f7f749628808d62953d75b4b": {
          "model_module": "@jupyter-widgets/base",
          "model_name": "LayoutModel",
          "model_module_version": "1.2.0",
          "state": {
            "_model_module": "@jupyter-widgets/base",
            "_model_module_version": "1.2.0",
            "_model_name": "LayoutModel",
            "_view_count": null,
            "_view_module": "@jupyter-widgets/base",
            "_view_module_version": "1.2.0",
            "_view_name": "LayoutView",
            "align_content": null,
            "align_items": null,
            "align_self": null,
            "border": null,
            "bottom": null,
            "display": null,
            "flex": null,
            "flex_flow": null,
            "grid_area": null,
            "grid_auto_columns": null,
            "grid_auto_flow": null,
            "grid_auto_rows": null,
            "grid_column": null,
            "grid_gap": null,
            "grid_row": null,
            "grid_template_areas": null,
            "grid_template_columns": null,
            "grid_template_rows": null,
            "height": null,
            "justify_content": null,
            "justify_items": null,
            "left": null,
            "margin": null,
            "max_height": null,
            "max_width": null,
            "min_height": null,
            "min_width": null,
            "object_fit": null,
            "object_position": null,
            "order": null,
            "overflow": null,
            "overflow_x": null,
            "overflow_y": null,
            "padding": null,
            "right": null,
            "top": null,
            "visibility": null,
            "width": null
          }
        },
        "0b0f8dfa2642405e9266def86edb8ab8": {
          "model_module": "@jupyter-widgets/controls",
          "model_name": "FloatSliderModel",
          "model_module_version": "1.5.0",
          "state": {
            "_dom_classes": [],
            "_model_module": "@jupyter-widgets/controls",
            "_model_module_version": "1.5.0",
            "_model_name": "FloatSliderModel",
            "_view_count": null,
            "_view_module": "@jupyter-widgets/controls",
            "_view_module_version": "1.5.0",
            "_view_name": "FloatSliderView",
            "continuous_update": true,
            "description": "px",
            "description_tooltip": null,
            "disabled": false,
            "layout": "IPY_MODEL_08c0b35b92324a708996ea287f159ea8",
            "max": 1,
            "min": -1,
            "orientation": "horizontal",
            "readout": true,
            "readout_format": ".2f",
            "step": 0.0001,
            "style": "IPY_MODEL_42222b0c29f54d518a8c2dc57978027d",
            "value": 0.1774
          }
        },
        "a5e9223ddeee4e32bb518e7835f2ecae": {
          "model_module": "@jupyter-widgets/controls",
          "model_name": "FloatSliderModel",
          "model_module_version": "1.5.0",
          "state": {
            "_dom_classes": [],
            "_model_module": "@jupyter-widgets/controls",
            "_model_module_version": "1.5.0",
            "_model_name": "FloatSliderModel",
            "_view_count": null,
            "_view_module": "@jupyter-widgets/controls",
            "_view_module_version": "1.5.0",
            "_view_name": "FloatSliderView",
            "continuous_update": true,
            "description": "py",
            "description_tooltip": null,
            "disabled": false,
            "layout": "IPY_MODEL_a371a132045f490b8731fc5e85b86b90",
            "max": 1,
            "min": -1,
            "orientation": "horizontal",
            "readout": true,
            "readout_format": ".2f",
            "step": 0.0001,
            "style": "IPY_MODEL_5415fc6bad474210a4d4b7ad89f3c129",
            "value": 0.3387
          }
        },
        "d010b07175504d37878a6aeccf9d9724": {
          "model_module": "@jupyter-widgets/controls",
          "model_name": "IntSliderModel",
          "model_module_version": "1.5.0",
          "state": {
            "_dom_classes": [],
            "_model_module": "@jupyter-widgets/controls",
            "_model_module_version": "1.5.0",
            "_model_name": "IntSliderModel",
            "_view_count": null,
            "_view_module": "@jupyter-widgets/controls",
            "_view_module_version": "1.5.0",
            "_view_name": "IntSliderView",
            "continuous_update": true,
            "description": "charge",
            "description_tooltip": null,
            "disabled": false,
            "layout": "IPY_MODEL_9418d0e03e0647ffacf088d8c854e2e4",
            "max": 1,
            "min": -1,
            "orientation": "horizontal",
            "readout": true,
            "readout_format": "d",
            "step": 2,
            "style": "IPY_MODEL_a0333f16b2964741a78674cf90f8f4e9",
            "value": 1
          }
        },
        "3da5fa72dc1444489c2b2762d9892ac7": {
          "model_module": "@jupyter-widgets/controls",
          "model_name": "FloatSliderModel",
          "model_module_version": "1.5.0",
          "state": {
            "_dom_classes": [],
            "_model_module": "@jupyter-widgets/controls",
            "_model_module_version": "1.5.0",
            "_model_name": "FloatSliderModel",
            "_view_count": null,
            "_view_module": "@jupyter-widgets/controls",
            "_view_module_version": "1.5.0",
            "_view_name": "FloatSliderView",
            "continuous_update": true,
            "description": "t_max",
            "description_tooltip": null,
            "disabled": false,
            "layout": "IPY_MODEL_90ad72f82e854cc5bd590dfd74b7cee0",
            "max": 6.283185307179586,
            "min": 0,
            "orientation": "horizontal",
            "readout": true,
            "readout_format": ".2f",
            "step": 0.0001,
            "style": "IPY_MODEL_1db484a2c35548aab645965b8e8a6244",
            "value": 3.1416000000000004
          }
        },
        "63bd930702b34d93937b70c412c34503": {
          "model_module": "@jupyter-widgets/base",
          "model_name": "LayoutModel",
          "model_module_version": "1.2.0",
          "state": {
            "_model_module": "@jupyter-widgets/base",
            "_model_module_version": "1.2.0",
            "_model_name": "LayoutModel",
            "_view_count": null,
            "_view_module": "@jupyter-widgets/base",
            "_view_module_version": "1.2.0",
            "_view_name": "LayoutView",
            "align_content": null,
            "align_items": null,
            "align_self": null,
            "border": null,
            "bottom": null,
            "display": null,
            "flex": null,
            "flex_flow": "row wrap",
            "grid_area": null,
            "grid_auto_columns": null,
            "grid_auto_flow": null,
            "grid_auto_rows": null,
            "grid_column": null,
            "grid_gap": null,
            "grid_row": null,
            "grid_template_areas": null,
            "grid_template_columns": null,
            "grid_template_rows": null,
            "height": null,
            "justify_content": null,
            "justify_items": null,
            "left": null,
            "margin": null,
            "max_height": null,
            "max_width": null,
            "min_height": null,
            "min_width": null,
            "object_fit": null,
            "object_position": null,
            "order": null,
            "overflow": null,
            "overflow_x": null,
            "overflow_y": null,
            "padding": null,
            "right": null,
            "top": null,
            "visibility": null,
            "width": null
          }
        },
        "ac9d236cc9904ec9b1a1c54519d15d74": {
          "model_module": "@jupyter-widgets/base",
          "model_name": "LayoutModel",
          "model_module_version": "1.2.0",
          "state": {
            "_model_module": "@jupyter-widgets/base",
            "_model_module_version": "1.2.0",
            "_model_name": "LayoutModel",
            "_view_count": null,
            "_view_module": "@jupyter-widgets/base",
            "_view_module_version": "1.2.0",
            "_view_name": "LayoutView",
            "align_content": null,
            "align_items": null,
            "align_self": null,
            "border": null,
            "bottom": null,
            "display": null,
            "flex": null,
            "flex_flow": null,
            "grid_area": null,
            "grid_auto_columns": null,
            "grid_auto_flow": null,
            "grid_auto_rows": null,
            "grid_column": null,
            "grid_gap": null,
            "grid_row": null,
            "grid_template_areas": null,
            "grid_template_columns": null,
            "grid_template_rows": null,
            "height": null,
            "justify_content": null,
            "justify_items": null,
            "left": null,
            "margin": null,
            "max_height": null,
            "max_width": null,
            "min_height": null,
            "min_width": null,
            "object_fit": null,
            "object_position": null,
            "order": null,
            "overflow": null,
            "overflow_x": null,
            "overflow_y": null,
            "padding": null,
            "right": null,
            "top": null,
            "visibility": null,
            "width": null
          }
        },
        "08c0b35b92324a708996ea287f159ea8": {
          "model_module": "@jupyter-widgets/base",
          "model_name": "LayoutModel",
          "model_module_version": "1.2.0",
          "state": {
            "_model_module": "@jupyter-widgets/base",
            "_model_module_version": "1.2.0",
            "_model_name": "LayoutModel",
            "_view_count": null,
            "_view_module": "@jupyter-widgets/base",
            "_view_module_version": "1.2.0",
            "_view_name": "LayoutView",
            "align_content": null,
            "align_items": null,
            "align_self": null,
            "border": null,
            "bottom": null,
            "display": null,
            "flex": null,
            "flex_flow": null,
            "grid_area": null,
            "grid_auto_columns": null,
            "grid_auto_flow": null,
            "grid_auto_rows": null,
            "grid_column": null,
            "grid_gap": null,
            "grid_row": null,
            "grid_template_areas": null,
            "grid_template_columns": null,
            "grid_template_rows": null,
            "height": null,
            "justify_content": null,
            "justify_items": null,
            "left": null,
            "margin": null,
            "max_height": null,
            "max_width": null,
            "min_height": null,
            "min_width": null,
            "object_fit": null,
            "object_position": null,
            "order": null,
            "overflow": null,
            "overflow_x": null,
            "overflow_y": null,
            "padding": null,
            "right": null,
            "top": null,
            "visibility": null,
            "width": null
          }
        },
        "42222b0c29f54d518a8c2dc57978027d": {
          "model_module": "@jupyter-widgets/controls",
          "model_name": "SliderStyleModel",
          "model_module_version": "1.5.0",
          "state": {
            "_model_module": "@jupyter-widgets/controls",
            "_model_module_version": "1.5.0",
            "_model_name": "SliderStyleModel",
            "_view_count": null,
            "_view_module": "@jupyter-widgets/base",
            "_view_module_version": "1.2.0",
            "_view_name": "StyleView",
            "description_width": "",
            "handle_color": null
          }
        },
        "a371a132045f490b8731fc5e85b86b90": {
          "model_module": "@jupyter-widgets/base",
          "model_name": "LayoutModel",
          "model_module_version": "1.2.0",
          "state": {
            "_model_module": "@jupyter-widgets/base",
            "_model_module_version": "1.2.0",
            "_model_name": "LayoutModel",
            "_view_count": null,
            "_view_module": "@jupyter-widgets/base",
            "_view_module_version": "1.2.0",
            "_view_name": "LayoutView",
            "align_content": null,
            "align_items": null,
            "align_self": null,
            "border": null,
            "bottom": null,
            "display": null,
            "flex": null,
            "flex_flow": null,
            "grid_area": null,
            "grid_auto_columns": null,
            "grid_auto_flow": null,
            "grid_auto_rows": null,
            "grid_column": null,
            "grid_gap": null,
            "grid_row": null,
            "grid_template_areas": null,
            "grid_template_columns": null,
            "grid_template_rows": null,
            "height": null,
            "justify_content": null,
            "justify_items": null,
            "left": null,
            "margin": null,
            "max_height": null,
            "max_width": null,
            "min_height": null,
            "min_width": null,
            "object_fit": null,
            "object_position": null,
            "order": null,
            "overflow": null,
            "overflow_x": null,
            "overflow_y": null,
            "padding": null,
            "right": null,
            "top": null,
            "visibility": null,
            "width": null
          }
        },
        "5415fc6bad474210a4d4b7ad89f3c129": {
          "model_module": "@jupyter-widgets/controls",
          "model_name": "SliderStyleModel",
          "model_module_version": "1.5.0",
          "state": {
            "_model_module": "@jupyter-widgets/controls",
            "_model_module_version": "1.5.0",
            "_model_name": "SliderStyleModel",
            "_view_count": null,
            "_view_module": "@jupyter-widgets/base",
            "_view_module_version": "1.2.0",
            "_view_name": "StyleView",
            "description_width": "",
            "handle_color": null
          }
        },
        "9418d0e03e0647ffacf088d8c854e2e4": {
          "model_module": "@jupyter-widgets/base",
          "model_name": "LayoutModel",
          "model_module_version": "1.2.0",
          "state": {
            "_model_module": "@jupyter-widgets/base",
            "_model_module_version": "1.2.0",
            "_model_name": "LayoutModel",
            "_view_count": null,
            "_view_module": "@jupyter-widgets/base",
            "_view_module_version": "1.2.0",
            "_view_name": "LayoutView",
            "align_content": null,
            "align_items": null,
            "align_self": null,
            "border": null,
            "bottom": null,
            "display": null,
            "flex": null,
            "flex_flow": null,
            "grid_area": null,
            "grid_auto_columns": null,
            "grid_auto_flow": null,
            "grid_auto_rows": null,
            "grid_column": null,
            "grid_gap": null,
            "grid_row": null,
            "grid_template_areas": null,
            "grid_template_columns": null,
            "grid_template_rows": null,
            "height": null,
            "justify_content": null,
            "justify_items": null,
            "left": null,
            "margin": null,
            "max_height": null,
            "max_width": null,
            "min_height": null,
            "min_width": null,
            "object_fit": null,
            "object_position": null,
            "order": null,
            "overflow": null,
            "overflow_x": null,
            "overflow_y": null,
            "padding": null,
            "right": null,
            "top": null,
            "visibility": null,
            "width": null
          }
        },
        "a0333f16b2964741a78674cf90f8f4e9": {
          "model_module": "@jupyter-widgets/controls",
          "model_name": "SliderStyleModel",
          "model_module_version": "1.5.0",
          "state": {
            "_model_module": "@jupyter-widgets/controls",
            "_model_module_version": "1.5.0",
            "_model_name": "SliderStyleModel",
            "_view_count": null,
            "_view_module": "@jupyter-widgets/base",
            "_view_module_version": "1.2.0",
            "_view_name": "StyleView",
            "description_width": "",
            "handle_color": null
          }
        },
        "90ad72f82e854cc5bd590dfd74b7cee0": {
          "model_module": "@jupyter-widgets/base",
          "model_name": "LayoutModel",
          "model_module_version": "1.2.0",
          "state": {
            "_model_module": "@jupyter-widgets/base",
            "_model_module_version": "1.2.0",
            "_model_name": "LayoutModel",
            "_view_count": null,
            "_view_module": "@jupyter-widgets/base",
            "_view_module_version": "1.2.0",
            "_view_name": "LayoutView",
            "align_content": null,
            "align_items": null,
            "align_self": null,
            "border": null,
            "bottom": null,
            "display": null,
            "flex": null,
            "flex_flow": null,
            "grid_area": null,
            "grid_auto_columns": null,
            "grid_auto_flow": null,
            "grid_auto_rows": null,
            "grid_column": null,
            "grid_gap": null,
            "grid_row": null,
            "grid_template_areas": null,
            "grid_template_columns": null,
            "grid_template_rows": null,
            "height": null,
            "justify_content": null,
            "justify_items": null,
            "left": null,
            "margin": null,
            "max_height": null,
            "max_width": null,
            "min_height": null,
            "min_width": null,
            "object_fit": null,
            "object_position": null,
            "order": null,
            "overflow": null,
            "overflow_x": null,
            "overflow_y": null,
            "padding": null,
            "right": null,
            "top": null,
            "visibility": null,
            "width": null
          }
        },
        "1db484a2c35548aab645965b8e8a6244": {
          "model_module": "@jupyter-widgets/controls",
          "model_name": "SliderStyleModel",
          "model_module_version": "1.5.0",
          "state": {
            "_model_module": "@jupyter-widgets/controls",
            "_model_module_version": "1.5.0",
            "_model_name": "SliderStyleModel",
            "_view_count": null,
            "_view_module": "@jupyter-widgets/base",
            "_view_module_version": "1.2.0",
            "_view_name": "StyleView",
            "description_width": "",
            "handle_color": null
          }
        },
        "9832b942a8ce44abaf57f7058ddf6011": {
          "model_module": "@jupyter-widgets/base",
          "model_name": "LayoutModel",
          "model_module_version": "1.2.0",
          "state": {
            "_model_module": "@jupyter-widgets/base",
            "_model_module_version": "1.2.0",
            "_model_name": "LayoutModel",
            "_view_count": null,
            "_view_module": "@jupyter-widgets/base",
            "_view_module_version": "1.2.0",
            "_view_name": "LayoutView",
            "align_content": null,
            "align_items": null,
            "align_self": null,
            "border": null,
            "bottom": null,
            "display": null,
            "flex": null,
            "flex_flow": null,
            "grid_area": null,
            "grid_auto_columns": null,
            "grid_auto_flow": null,
            "grid_auto_rows": null,
            "grid_column": null,
            "grid_gap": null,
            "grid_row": null,
            "grid_template_areas": null,
            "grid_template_columns": null,
            "grid_template_rows": null,
            "height": null,
            "justify_content": null,
            "justify_items": null,
            "left": null,
            "margin": null,
            "max_height": null,
            "max_width": null,
            "min_height": null,
            "min_width": null,
            "object_fit": null,
            "object_position": null,
            "order": null,
            "overflow": null,
            "overflow_x": null,
            "overflow_y": null,
            "padding": null,
            "right": null,
            "top": null,
            "visibility": null,
            "width": null
          }
        },
        "7ead6a7e6cb54df4bf7c8709efde7732": {
          "model_module": "@jupyter-widgets/controls",
          "model_name": "VBoxModel",
          "model_module_version": "1.5.0",
          "state": {
            "_dom_classes": [],
            "_model_module": "@jupyter-widgets/controls",
            "_model_module_version": "1.5.0",
            "_model_name": "VBoxModel",
            "_view_count": null,
            "_view_module": "@jupyter-widgets/controls",
            "_view_module_version": "1.5.0",
            "_view_name": "VBoxView",
            "box_style": "",
            "children": [
              "IPY_MODEL_f288da67ca9e491ebff3da8f3c4e1692",
              "IPY_MODEL_d5863d7bb5f643098cc247e1ef713d27"
            ],
            "layout": "IPY_MODEL_598059d06ac840008ceb78f436571d73"
          }
        },
        "f288da67ca9e491ebff3da8f3c4e1692": {
          "model_module": "@jupyter-widgets/controls",
          "model_name": "HBoxModel",
          "model_module_version": "1.5.0",
          "state": {
            "_dom_classes": [],
            "_model_module": "@jupyter-widgets/controls",
            "_model_module_version": "1.5.0",
            "_model_name": "HBoxModel",
            "_view_count": null,
            "_view_module": "@jupyter-widgets/controls",
            "_view_module_version": "1.5.0",
            "_view_name": "HBoxView",
            "box_style": "",
            "children": [
              "IPY_MODEL_34815b6320244dc69179594c346b6108"
            ],
            "layout": "IPY_MODEL_50bd77dd932e47dfa4cb7e37070189ef"
          }
        },
        "d5863d7bb5f643098cc247e1ef713d27": {
          "model_module": "@jupyter-widgets/output",
          "model_name": "OutputModel",
          "model_module_version": "1.0.0",
          "state": {
            "_dom_classes": [],
            "_model_module": "@jupyter-widgets/output",
            "_model_module_version": "1.0.0",
            "_model_name": "OutputModel",
            "_view_count": null,
            "_view_module": "@jupyter-widgets/output",
            "_view_module_version": "1.0.0",
            "_view_name": "OutputView",
            "layout": "IPY_MODEL_176cf5fbb9ce410ea7084452a8cbbadb",
            "msg_id": "",
            "outputs": [
              {
                "output_type": "display_data",
                "data": {
                  "text/html": "<html>\n<head><meta charset=\"utf-8\" /></head>\n<body>\n    <div>            <script src=\"https://cdnjs.cloudflare.com/ajax/libs/mathjax/2.7.5/MathJax.js?config=TeX-AMS-MML_SVG\"></script><script type=\"text/javascript\">if (window.MathJax && window.MathJax.Hub && window.MathJax.Hub.Config) {window.MathJax.Hub.Config({SVG: {font: \"STIX-Web\"}});}</script>                <script type=\"text/javascript\">window.PlotlyConfig = {MathJaxConfig: 'local'};</script>\n        <script charset=\"utf-8\" src=\"https://cdn.plot.ly/plotly-2.24.1.min.js\"></script>                <div id=\"19ce0fc7-6055-4085-9781-c3f57ebe6452\" class=\"plotly-graph-div\" style=\"height:500px; width:500px;\"></div>            <script type=\"text/javascript\">                                    window.PLOTLYENV=window.PLOTLYENV || {};                                    if (document.getElementById(\"19ce0fc7-6055-4085-9781-c3f57ebe6452\")) {                    Plotly.newPlot(                        \"19ce0fc7-6055-4085-9781-c3f57ebe6452\",                        [{\"hoverinfo\":\"text\",\"marker\":{\"size\":3},\"mode\":\"markers\",\"text\":[\"Ring: 1.0\\n Wire: 31.0\",\"Ring: 2.0\\n Wire: 31.0\",\"Ring: 3.0\\n Wire: 39.0\",\"Ring: 4.0\\n Wire: 39.0\",\"Ring: 5.0\\n Wire: 50.0\",\"Ring: 6.0\\n Wire: 51.0\",\"Ring: 7.0\\n Wire: 60.0\",\"Ring: 8.0\\n Wire: 61.0\",\"Ring: 9.0\\n Wire: 64.0\",\"Ring: 10.0\\n Wire: 63.0\",\"Ring: 11.0\\n Wire: 73.0\",\"Ring: 12.0\\n Wire: 72.0\",\"Ring: 13.0\\n Wire: 87.0\",\"Ring: 14.0\\n Wire: 87.0\",\"Ring: 15.0\\n Wire: 95.0\",\"Ring: 16.0\\n Wire: 95.0\",\"Ring: 17.0\\n Wire: 100.0\",\"Ring: 18.0\\n Wire: 100.0\",\"Ring: 19.0\\n Wire: 108.0\",\"Ring: 20.0\\n Wire: 108.0\",\"Ring: 21.0\\n Wire: 122.0\",\"Ring: 22.0\\n Wire: 121.0\",\"Ring: 23.0\\n Wire: 129.0\",\"Ring: 24.0\\n Wire: 130.0\",\"Ring: 25.0\\n Wire: 136.0\",\"Ring: 26.0\\n Wire: 137.0\",\"Ring: 27.0\\n Wire: 145.0\",\"Ring: 28.0\\n Wire: 144.0\"],\"x\":[-2.38582807721764,-1.8003894961624967,-3.4468967938660082,-2.929194728822835,-4.9523239853344325,-4.507581968941661,-6.057845805945193,-5.633077047861604,-5.086081054935567,-6.214358956465162,-6.510708040015409,-7.664134879301604,-8.628889362681427,-9.809025565201113,-11.180373621302508,-10.836617954087911,-10.4823478421934,-11.671732542325728,-12.795933096127722,-12.439135823439479,-15.59567607549522,-16.867323704629072,-17.951566985614818,-17.715713099940448,-18.934425500591818,-18.68762416439307,-19.66064844530691,-20.93304777569354],\"y\":[-10.45298137499345,-11.944779183899037,-13.34224758361335,-14.858828529888772,-16.35247038723402,-17.916818587656273,-19.739869161229933,-21.304602184736787,-23.417949429523283,-24.578606636288395,-26.495517568048434,-27.62891790889597,-30.170190459733647,-31.254493680449066,-32.56870065228398,-34.133813039376946,-36.02019752161762,-37.111611708804205,-38.53222582541148,-40.10672417348221,-40.79579310920809,-41.790074981317744,-43.156304804536596,-44.752394548319934,-46.68080902311503,-48.268301143197405,-49.60926671822565,-50.5863205202803],\"type\":\"scatter\",\"uid\":\"fcc0aaa7-41e7-44fa-b42e-e4292f434a59\"}],                        {\"template\":{\"data\":{\"barpolar\":[{\"marker\":{\"line\":{\"color\":\"#E5ECF6\",\"width\":0.5},\"pattern\":{\"fillmode\":\"overlay\",\"size\":10,\"solidity\":0.2}},\"type\":\"barpolar\"}],\"bar\":[{\"error_x\":{\"color\":\"#2a3f5f\"},\"error_y\":{\"color\":\"#2a3f5f\"},\"marker\":{\"line\":{\"color\":\"#E5ECF6\",\"width\":0.5},\"pattern\":{\"fillmode\":\"overlay\",\"size\":10,\"solidity\":0.2}},\"type\":\"bar\"}],\"carpet\":[{\"aaxis\":{\"endlinecolor\":\"#2a3f5f\",\"gridcolor\":\"white\",\"linecolor\":\"white\",\"minorgridcolor\":\"white\",\"startlinecolor\":\"#2a3f5f\"},\"baxis\":{\"endlinecolor\":\"#2a3f5f\",\"gridcolor\":\"white\",\"linecolor\":\"white\",\"minorgridcolor\":\"white\",\"startlinecolor\":\"#2a3f5f\"},\"type\":\"carpet\"}],\"choropleth\":[{\"colorbar\":{\"outlinewidth\":0,\"ticks\":\"\"},\"type\":\"choropleth\"}],\"contourcarpet\":[{\"colorbar\":{\"outlinewidth\":0,\"ticks\":\"\"},\"type\":\"contourcarpet\"}],\"contour\":[{\"colorbar\":{\"outlinewidth\":0,\"ticks\":\"\"},\"colorscale\":[[0.0,\"#0d0887\"],[0.1111111111111111,\"#46039f\"],[0.2222222222222222,\"#7201a8\"],[0.3333333333333333,\"#9c179e\"],[0.4444444444444444,\"#bd3786\"],[0.5555555555555556,\"#d8576b\"],[0.6666666666666666,\"#ed7953\"],[0.7777777777777778,\"#fb9f3a\"],[0.8888888888888888,\"#fdca26\"],[1.0,\"#f0f921\"]],\"type\":\"contour\"}],\"heatmapgl\":[{\"colorbar\":{\"outlinewidth\":0,\"ticks\":\"\"},\"colorscale\":[[0.0,\"#0d0887\"],[0.1111111111111111,\"#46039f\"],[0.2222222222222222,\"#7201a8\"],[0.3333333333333333,\"#9c179e\"],[0.4444444444444444,\"#bd3786\"],[0.5555555555555556,\"#d8576b\"],[0.6666666666666666,\"#ed7953\"],[0.7777777777777778,\"#fb9f3a\"],[0.8888888888888888,\"#fdca26\"],[1.0,\"#f0f921\"]],\"type\":\"heatmapgl\"}],\"heatmap\":[{\"colorbar\":{\"outlinewidth\":0,\"ticks\":\"\"},\"colorscale\":[[0.0,\"#0d0887\"],[0.1111111111111111,\"#46039f\"],[0.2222222222222222,\"#7201a8\"],[0.3333333333333333,\"#9c179e\"],[0.4444444444444444,\"#bd3786\"],[0.5555555555555556,\"#d8576b\"],[0.6666666666666666,\"#ed7953\"],[0.7777777777777778,\"#fb9f3a\"],[0.8888888888888888,\"#fdca26\"],[1.0,\"#f0f921\"]],\"type\":\"heatmap\"}],\"histogram2dcontour\":[{\"colorbar\":{\"outlinewidth\":0,\"ticks\":\"\"},\"colorscale\":[[0.0,\"#0d0887\"],[0.1111111111111111,\"#46039f\"],[0.2222222222222222,\"#7201a8\"],[0.3333333333333333,\"#9c179e\"],[0.4444444444444444,\"#bd3786\"],[0.5555555555555556,\"#d8576b\"],[0.6666666666666666,\"#ed7953\"],[0.7777777777777778,\"#fb9f3a\"],[0.8888888888888888,\"#fdca26\"],[1.0,\"#f0f921\"]],\"type\":\"histogram2dcontour\"}],\"histogram2d\":[{\"colorbar\":{\"outlinewidth\":0,\"ticks\":\"\"},\"colorscale\":[[0.0,\"#0d0887\"],[0.1111111111111111,\"#46039f\"],[0.2222222222222222,\"#7201a8\"],[0.3333333333333333,\"#9c179e\"],[0.4444444444444444,\"#bd3786\"],[0.5555555555555556,\"#d8576b\"],[0.6666666666666666,\"#ed7953\"],[0.7777777777777778,\"#fb9f3a\"],[0.8888888888888888,\"#fdca26\"],[1.0,\"#f0f921\"]],\"type\":\"histogram2d\"}],\"histogram\":[{\"marker\":{\"pattern\":{\"fillmode\":\"overlay\",\"size\":10,\"solidity\":0.2}},\"type\":\"histogram\"}],\"mesh3d\":[{\"colorbar\":{\"outlinewidth\":0,\"ticks\":\"\"},\"type\":\"mesh3d\"}],\"parcoords\":[{\"line\":{\"colorbar\":{\"outlinewidth\":0,\"ticks\":\"\"}},\"type\":\"parcoords\"}],\"pie\":[{\"automargin\":true,\"type\":\"pie\"}],\"scatter3d\":[{\"line\":{\"colorbar\":{\"outlinewidth\":0,\"ticks\":\"\"}},\"marker\":{\"colorbar\":{\"outlinewidth\":0,\"ticks\":\"\"}},\"type\":\"scatter3d\"}],\"scattercarpet\":[{\"marker\":{\"colorbar\":{\"outlinewidth\":0,\"ticks\":\"\"}},\"type\":\"scattercarpet\"}],\"scattergeo\":[{\"marker\":{\"colorbar\":{\"outlinewidth\":0,\"ticks\":\"\"}},\"type\":\"scattergeo\"}],\"scattergl\":[{\"marker\":{\"colorbar\":{\"outlinewidth\":0,\"ticks\":\"\"}},\"type\":\"scattergl\"}],\"scattermapbox\":[{\"marker\":{\"colorbar\":{\"outlinewidth\":0,\"ticks\":\"\"}},\"type\":\"scattermapbox\"}],\"scatterpolargl\":[{\"marker\":{\"colorbar\":{\"outlinewidth\":0,\"ticks\":\"\"}},\"type\":\"scatterpolargl\"}],\"scatterpolar\":[{\"marker\":{\"colorbar\":{\"outlinewidth\":0,\"ticks\":\"\"}},\"type\":\"scatterpolar\"}],\"scatter\":[{\"fillpattern\":{\"fillmode\":\"overlay\",\"size\":10,\"solidity\":0.2},\"type\":\"scatter\"}],\"scatterternary\":[{\"marker\":{\"colorbar\":{\"outlinewidth\":0,\"ticks\":\"\"}},\"type\":\"scatterternary\"}],\"surface\":[{\"colorbar\":{\"outlinewidth\":0,\"ticks\":\"\"},\"colorscale\":[[0.0,\"#0d0887\"],[0.1111111111111111,\"#46039f\"],[0.2222222222222222,\"#7201a8\"],[0.3333333333333333,\"#9c179e\"],[0.4444444444444444,\"#bd3786\"],[0.5555555555555556,\"#d8576b\"],[0.6666666666666666,\"#ed7953\"],[0.7777777777777778,\"#fb9f3a\"],[0.8888888888888888,\"#fdca26\"],[1.0,\"#f0f921\"]],\"type\":\"surface\"}],\"table\":[{\"cells\":{\"fill\":{\"color\":\"#EBF0F8\"},\"line\":{\"color\":\"white\"}},\"header\":{\"fill\":{\"color\":\"#C8D4E3\"},\"line\":{\"color\":\"white\"}},\"type\":\"table\"}]},\"layout\":{\"annotationdefaults\":{\"arrowcolor\":\"#2a3f5f\",\"arrowhead\":0,\"arrowwidth\":1},\"autotypenumbers\":\"strict\",\"coloraxis\":{\"colorbar\":{\"outlinewidth\":0,\"ticks\":\"\"}},\"colorscale\":{\"diverging\":[[0,\"#8e0152\"],[0.1,\"#c51b7d\"],[0.2,\"#de77ae\"],[0.3,\"#f1b6da\"],[0.4,\"#fde0ef\"],[0.5,\"#f7f7f7\"],[0.6,\"#e6f5d0\"],[0.7,\"#b8e186\"],[0.8,\"#7fbc41\"],[0.9,\"#4d9221\"],[1,\"#276419\"]],\"sequential\":[[0.0,\"#0d0887\"],[0.1111111111111111,\"#46039f\"],[0.2222222222222222,\"#7201a8\"],[0.3333333333333333,\"#9c179e\"],[0.4444444444444444,\"#bd3786\"],[0.5555555555555556,\"#d8576b\"],[0.6666666666666666,\"#ed7953\"],[0.7777777777777778,\"#fb9f3a\"],[0.8888888888888888,\"#fdca26\"],[1.0,\"#f0f921\"]],\"sequentialminus\":[[0.0,\"#0d0887\"],[0.1111111111111111,\"#46039f\"],[0.2222222222222222,\"#7201a8\"],[0.3333333333333333,\"#9c179e\"],[0.4444444444444444,\"#bd3786\"],[0.5555555555555556,\"#d8576b\"],[0.6666666666666666,\"#ed7953\"],[0.7777777777777778,\"#fb9f3a\"],[0.8888888888888888,\"#fdca26\"],[1.0,\"#f0f921\"]]},\"colorway\":[\"#636efa\",\"#EF553B\",\"#00cc96\",\"#ab63fa\",\"#FFA15A\",\"#19d3f3\",\"#FF6692\",\"#B6E880\",\"#FF97FF\",\"#FECB52\"],\"font\":{\"color\":\"#2a3f5f\"},\"geo\":{\"bgcolor\":\"white\",\"lakecolor\":\"white\",\"landcolor\":\"#E5ECF6\",\"showlakes\":true,\"showland\":true,\"subunitcolor\":\"white\"},\"hoverlabel\":{\"align\":\"left\"},\"hovermode\":\"closest\",\"mapbox\":{\"style\":\"light\"},\"paper_bgcolor\":\"white\",\"plot_bgcolor\":\"#E5ECF6\",\"polar\":{\"angularaxis\":{\"gridcolor\":\"white\",\"linecolor\":\"white\",\"ticks\":\"\"},\"bgcolor\":\"#E5ECF6\",\"radialaxis\":{\"gridcolor\":\"white\",\"linecolor\":\"white\",\"ticks\":\"\"}},\"scene\":{\"xaxis\":{\"backgroundcolor\":\"#E5ECF6\",\"gridcolor\":\"white\",\"gridwidth\":2,\"linecolor\":\"white\",\"showbackground\":true,\"ticks\":\"\",\"zerolinecolor\":\"white\"},\"yaxis\":{\"backgroundcolor\":\"#E5ECF6\",\"gridcolor\":\"white\",\"gridwidth\":2,\"linecolor\":\"white\",\"showbackground\":true,\"ticks\":\"\",\"zerolinecolor\":\"white\"},\"zaxis\":{\"backgroundcolor\":\"#E5ECF6\",\"gridcolor\":\"white\",\"gridwidth\":2,\"linecolor\":\"white\",\"showbackground\":true,\"ticks\":\"\",\"zerolinecolor\":\"white\"}},\"shapedefaults\":{\"line\":{\"color\":\"#2a3f5f\"}},\"ternary\":{\"aaxis\":{\"gridcolor\":\"white\",\"linecolor\":\"white\",\"ticks\":\"\"},\"baxis\":{\"gridcolor\":\"white\",\"linecolor\":\"white\",\"ticks\":\"\"},\"bgcolor\":\"#E5ECF6\",\"caxis\":{\"gridcolor\":\"white\",\"linecolor\":\"white\",\"ticks\":\"\"}},\"title\":{\"x\":0.05},\"xaxis\":{\"automargin\":true,\"gridcolor\":\"white\",\"linecolor\":\"white\",\"ticks\":\"\",\"title\":{\"standoff\":15},\"zerolinecolor\":\"white\",\"zerolinewidth\":2},\"yaxis\":{\"automargin\":true,\"gridcolor\":\"white\",\"linecolor\":\"white\",\"ticks\":\"\",\"title\":{\"standoff\":15},\"zerolinecolor\":\"white\",\"zerolinewidth\":2}}},\"xaxis\":{\"range\":[-60,60],\"title\":{\"text\":\"X\"}},\"yaxis\":{\"range\":[-60,60],\"title\":{\"text\":\"Y\"}},\"width\":500,\"height\":500,\"showlegend\":false,\"title\":{\"text\":\"Hits in the GlueX CDC\"},\"shapes\":[{\"line\":{\"color\":\"black\"},\"type\":\"circle\",\"x0\":-10.5,\"x1\":10.5,\"xref\":\"x\",\"y0\":-10.5,\"y1\":10.5,\"yref\":\"y\"},{\"line\":{\"color\":\"black\"},\"type\":\"circle\",\"x0\":-55,\"x1\":55,\"xref\":\"x\",\"y0\":-55,\"y1\":55,\"yref\":\"y\"}]},                        {\"responsive\": true}                    ).then(function(){\n                            \nvar gd = document.getElementById('19ce0fc7-6055-4085-9781-c3f57ebe6452');\nvar x = new MutationObserver(function (mutations, observer) {{\n        var display = window.getComputedStyle(gd).display;\n        if (!display || display === 'none') {{\n            console.log([gd, 'removed!']);\n            Plotly.purge(gd);\n            observer.disconnect();\n        }}\n}});\n\n// Listen for the removal of the full notebook cells\nvar notebookContainer = gd.closest('#notebook-container');\nif (notebookContainer) {{\n    x.observe(notebookContainer, {childList: true});\n}}\n\n// Listen for the clearing of the current output cell\nvar outputEl = gd.closest('.output');\nif (outputEl) {{\n    x.observe(outputEl, {childList: true});\n}}\n\n                        })                };                            </script>        </div>\n</body>\n</html>"
                },
                "metadata": {}
              }
            ]
          }
        },
        "598059d06ac840008ceb78f436571d73": {
          "model_module": "@jupyter-widgets/base",
          "model_name": "LayoutModel",
          "model_module_version": "1.2.0",
          "state": {
            "_model_module": "@jupyter-widgets/base",
            "_model_module_version": "1.2.0",
            "_model_name": "LayoutModel",
            "_view_count": null,
            "_view_module": "@jupyter-widgets/base",
            "_view_module_version": "1.2.0",
            "_view_name": "LayoutView",
            "align_content": null,
            "align_items": null,
            "align_self": null,
            "border": null,
            "bottom": null,
            "display": null,
            "flex": null,
            "flex_flow": null,
            "grid_area": null,
            "grid_auto_columns": null,
            "grid_auto_flow": null,
            "grid_auto_rows": null,
            "grid_column": null,
            "grid_gap": null,
            "grid_row": null,
            "grid_template_areas": null,
            "grid_template_columns": null,
            "grid_template_rows": null,
            "height": null,
            "justify_content": null,
            "justify_items": null,
            "left": null,
            "margin": null,
            "max_height": null,
            "max_width": null,
            "min_height": null,
            "min_width": null,
            "object_fit": null,
            "object_position": null,
            "order": null,
            "overflow": null,
            "overflow_x": null,
            "overflow_y": null,
            "padding": null,
            "right": null,
            "top": null,
            "visibility": null,
            "width": null
          }
        },
        "34815b6320244dc69179594c346b6108": {
          "model_module": "@jupyter-widgets/controls",
          "model_name": "FloatSliderModel",
          "model_module_version": "1.5.0",
          "state": {
            "_dom_classes": [],
            "_model_module": "@jupyter-widgets/controls",
            "_model_module_version": "1.5.0",
            "_model_name": "FloatSliderModel",
            "_view_count": null,
            "_view_module": "@jupyter-widgets/controls",
            "_view_module_version": "1.5.0",
            "_view_name": "FloatSliderView",
            "continuous_update": true,
            "description": "z0",
            "description_tooltip": null,
            "disabled": false,
            "layout": "IPY_MODEL_b118f93118b0478ba005714980e3fcd6",
            "max": 175,
            "min": 0,
            "orientation": "horizontal",
            "readout": true,
            "readout_format": ".2f",
            "step": 0.1,
            "style": "IPY_MODEL_294e7bbd7478449186a6a3b7188a03f4",
            "value": 112.89999999999998
          }
        },
        "50bd77dd932e47dfa4cb7e37070189ef": {
          "model_module": "@jupyter-widgets/base",
          "model_name": "LayoutModel",
          "model_module_version": "1.2.0",
          "state": {
            "_model_module": "@jupyter-widgets/base",
            "_model_module_version": "1.2.0",
            "_model_name": "LayoutModel",
            "_view_count": null,
            "_view_module": "@jupyter-widgets/base",
            "_view_module_version": "1.2.0",
            "_view_name": "LayoutView",
            "align_content": null,
            "align_items": null,
            "align_self": null,
            "border": null,
            "bottom": null,
            "display": null,
            "flex": null,
            "flex_flow": "row wrap",
            "grid_area": null,
            "grid_auto_columns": null,
            "grid_auto_flow": null,
            "grid_auto_rows": null,
            "grid_column": null,
            "grid_gap": null,
            "grid_row": null,
            "grid_template_areas": null,
            "grid_template_columns": null,
            "grid_template_rows": null,
            "height": null,
            "justify_content": null,
            "justify_items": null,
            "left": null,
            "margin": null,
            "max_height": null,
            "max_width": null,
            "min_height": null,
            "min_width": null,
            "object_fit": null,
            "object_position": null,
            "order": null,
            "overflow": null,
            "overflow_x": null,
            "overflow_y": null,
            "padding": null,
            "right": null,
            "top": null,
            "visibility": null,
            "width": null
          }
        },
        "176cf5fbb9ce410ea7084452a8cbbadb": {
          "model_module": "@jupyter-widgets/base",
          "model_name": "LayoutModel",
          "model_module_version": "1.2.0",
          "state": {
            "_model_module": "@jupyter-widgets/base",
            "_model_module_version": "1.2.0",
            "_model_name": "LayoutModel",
            "_view_count": null,
            "_view_module": "@jupyter-widgets/base",
            "_view_module_version": "1.2.0",
            "_view_name": "LayoutView",
            "align_content": null,
            "align_items": null,
            "align_self": null,
            "border": null,
            "bottom": null,
            "display": null,
            "flex": null,
            "flex_flow": null,
            "grid_area": null,
            "grid_auto_columns": null,
            "grid_auto_flow": null,
            "grid_auto_rows": null,
            "grid_column": null,
            "grid_gap": null,
            "grid_row": null,
            "grid_template_areas": null,
            "grid_template_columns": null,
            "grid_template_rows": null,
            "height": null,
            "justify_content": null,
            "justify_items": null,
            "left": null,
            "margin": null,
            "max_height": null,
            "max_width": null,
            "min_height": null,
            "min_width": null,
            "object_fit": null,
            "object_position": null,
            "order": null,
            "overflow": null,
            "overflow_x": null,
            "overflow_y": null,
            "padding": null,
            "right": null,
            "top": null,
            "visibility": null,
            "width": null
          }
        },
        "b118f93118b0478ba005714980e3fcd6": {
          "model_module": "@jupyter-widgets/base",
          "model_name": "LayoutModel",
          "model_module_version": "1.2.0",
          "state": {
            "_model_module": "@jupyter-widgets/base",
            "_model_module_version": "1.2.0",
            "_model_name": "LayoutModel",
            "_view_count": null,
            "_view_module": "@jupyter-widgets/base",
            "_view_module_version": "1.2.0",
            "_view_name": "LayoutView",
            "align_content": null,
            "align_items": null,
            "align_self": null,
            "border": null,
            "bottom": null,
            "display": null,
            "flex": null,
            "flex_flow": null,
            "grid_area": null,
            "grid_auto_columns": null,
            "grid_auto_flow": null,
            "grid_auto_rows": null,
            "grid_column": null,
            "grid_gap": null,
            "grid_row": null,
            "grid_template_areas": null,
            "grid_template_columns": null,
            "grid_template_rows": null,
            "height": null,
            "justify_content": null,
            "justify_items": null,
            "left": null,
            "margin": null,
            "max_height": null,
            "max_width": null,
            "min_height": null,
            "min_width": null,
            "object_fit": null,
            "object_position": null,
            "order": null,
            "overflow": null,
            "overflow_x": null,
            "overflow_y": null,
            "padding": null,
            "right": null,
            "top": null,
            "visibility": null,
            "width": null
          }
        },
        "294e7bbd7478449186a6a3b7188a03f4": {
          "model_module": "@jupyter-widgets/controls",
          "model_name": "SliderStyleModel",
          "model_module_version": "1.5.0",
          "state": {
            "_model_module": "@jupyter-widgets/controls",
            "_model_module_version": "1.5.0",
            "_model_name": "SliderStyleModel",
            "_view_count": null,
            "_view_module": "@jupyter-widgets/base",
            "_view_module_version": "1.2.0",
            "_view_name": "StyleView",
            "description_width": "",
            "handle_color": null
          }
        },
        "c6075cf979a24043941c1d1e69cd11e2": {
          "model_module": "@jupyter-widgets/controls",
          "model_name": "VBoxModel",
          "model_module_version": "1.5.0",
          "state": {
            "_dom_classes": [],
            "_model_module": "@jupyter-widgets/controls",
            "_model_module_version": "1.5.0",
            "_model_name": "VBoxModel",
            "_view_count": null,
            "_view_module": "@jupyter-widgets/controls",
            "_view_module_version": "1.5.0",
            "_view_name": "VBoxView",
            "box_style": "",
            "children": [
              "IPY_MODEL_efc8351a4ab541ae9520f49b037309dd",
              "IPY_MODEL_4d89220f5c474af9adc0edd88940d5cb"
            ],
            "layout": "IPY_MODEL_8f79ffee0eed4bf99a3cd7232c52dc6c"
          }
        },
        "efc8351a4ab541ae9520f49b037309dd": {
          "model_module": "@jupyter-widgets/controls",
          "model_name": "HBoxModel",
          "model_module_version": "1.5.0",
          "state": {
            "_dom_classes": [],
            "_model_module": "@jupyter-widgets/controls",
            "_model_module_version": "1.5.0",
            "_model_name": "HBoxModel",
            "_view_count": null,
            "_view_module": "@jupyter-widgets/controls",
            "_view_module_version": "1.5.0",
            "_view_name": "HBoxView",
            "box_style": "",
            "children": [
              "IPY_MODEL_0ed58d1962c54979b080bdddd37f3f58"
            ],
            "layout": "IPY_MODEL_ca08c6d5a54f4a52ad16c2bf3a1f71db"
          }
        },
        "4d89220f5c474af9adc0edd88940d5cb": {
          "model_module": "@jupyter-widgets/output",
          "model_name": "OutputModel",
          "model_module_version": "1.0.0",
          "state": {
            "_dom_classes": [],
            "_model_module": "@jupyter-widgets/output",
            "_model_module_version": "1.0.0",
            "_model_name": "OutputModel",
            "_view_count": null,
            "_view_module": "@jupyter-widgets/output",
            "_view_module_version": "1.0.0",
            "_view_name": "OutputView",
            "layout": "IPY_MODEL_e089c4df4625442ea72475fef22dcb69",
            "msg_id": "",
            "outputs": [
              {
                "output_type": "display_data",
                "data": {
                  "text/html": "<html>\n<head><meta charset=\"utf-8\" /></head>\n<body>\n    <div>            <script src=\"https://cdnjs.cloudflare.com/ajax/libs/mathjax/2.7.5/MathJax.js?config=TeX-AMS-MML_SVG\"></script><script type=\"text/javascript\">if (window.MathJax && window.MathJax.Hub && window.MathJax.Hub.Config) {window.MathJax.Hub.Config({SVG: {font: \"STIX-Web\"}});}</script>                <script type=\"text/javascript\">window.PlotlyConfig = {MathJaxConfig: 'local'};</script>\n        <script charset=\"utf-8\" src=\"https://cdn.plot.ly/plotly-2.24.1.min.js\"></script>                <div id=\"4b33f2ed-0b72-41a7-b506-587f5ed095d2\" class=\"plotly-graph-div\" style=\"height:500px; width:500px;\"></div>            <script type=\"text/javascript\">                                    window.PLOTLYENV=window.PLOTLYENV || {};                                    if (document.getElementById(\"4b33f2ed-0b72-41a7-b506-587f5ed095d2\")) {                    Plotly.newPlot(                        \"4b33f2ed-0b72-41a7-b506-587f5ed095d2\",                        [{\"hoverinfo\":\"text\",\"marker\":{\"size\":3},\"mode\":\"markers\",\"text\":[\"Ring: 1.0\\n Wire: 25.0\",\"Ring: 2.0\\n Wire: 24.0\",\"Ring: 3.0\\n Wire: 31.0\",\"Ring: 4.0\\n Wire: 30.0\",\"Ring: 5.0\\n Wire: 42.0\",\"Ring: 6.0\\n Wire: 42.0\",\"Ring: 7.0\\n Wire: 50.0\",\"Ring: 8.0\\n Wire: 51.0\",\"Ring: 9.0\\n Wire: 46.0\",\"Ring: 10.0\\n Wire: 45.0\",\"Ring: 11.0\\n Wire: 53.0\",\"Ring: 12.0\\n Wire: 52.0\",\"Ring: 13.0\\n Wire: 67.0\",\"Ring: 14.0\\n Wire: 67.0\",\"Ring: 15.0\\n Wire: 74.0\",\"Ring: 16.0\\n Wire: 73.0\",\"Ring: 17.0\\n Wire: 71.0\",\"Ring: 18.0\\n Wire: 71.0\",\"Ring: 19.0\\n Wire: 77.0\",\"Ring: 20.0\\n Wire: 76.0\",\"Ring: 21.0\\n Wire: 99.0\",\"Ring: 22.0\\n Wire: 99.0\",\"Ring: 23.0\\n Wire: 105.0\",\"Ring: 24.0\\n Wire: 105.0\"],\"x\":[-9.660009121379511,-11.2446766558334,-12.760470289680091,-14.332720367389975,-16.238109660652448,-17.795577784852778,-19.596775512530172,-20.636392547865547,-22.86346377876913,-24.422238950846282,-26.166095043201224,-27.719614855685478,-30.238259383117445,-31.77911830445207,-33.25266222648745,-34.790832500337125,-37.11499427242992,-38.5954928365676,-40.32357369252641,-41.7860136987033,-42.04315050624747,-43.15144329084515,-45.02406046013196,-46.5771179873787],\"y\":[-4.652012361856386,-4.413207336592672,-5.202601856397597,-4.892657142106381,-4.99662979115833,-4.561330701629668,-6.248202447325396,-7.4842477176674125,-6.945812696738753,-6.527048975700605,-7.513385027497629,-7.077414324385361,-8.387239920814821,-7.946571433746712,-8.943236066499335,-8.493965812474537,-5.150258240006976,-4.511627948174269,-4.380804666343522,-3.7007105592248797,-11.687987729728679,-12.85966587707847,-12.420672095488499,-11.987939982810614],\"type\":\"scatter\",\"uid\":\"88803c4e-0ea2-4c82-9c21-4ddc91d5efcb\"}],                        {\"template\":{\"data\":{\"barpolar\":[{\"marker\":{\"line\":{\"color\":\"#E5ECF6\",\"width\":0.5},\"pattern\":{\"fillmode\":\"overlay\",\"size\":10,\"solidity\":0.2}},\"type\":\"barpolar\"}],\"bar\":[{\"error_x\":{\"color\":\"#2a3f5f\"},\"error_y\":{\"color\":\"#2a3f5f\"},\"marker\":{\"line\":{\"color\":\"#E5ECF6\",\"width\":0.5},\"pattern\":{\"fillmode\":\"overlay\",\"size\":10,\"solidity\":0.2}},\"type\":\"bar\"}],\"carpet\":[{\"aaxis\":{\"endlinecolor\":\"#2a3f5f\",\"gridcolor\":\"white\",\"linecolor\":\"white\",\"minorgridcolor\":\"white\",\"startlinecolor\":\"#2a3f5f\"},\"baxis\":{\"endlinecolor\":\"#2a3f5f\",\"gridcolor\":\"white\",\"linecolor\":\"white\",\"minorgridcolor\":\"white\",\"startlinecolor\":\"#2a3f5f\"},\"type\":\"carpet\"}],\"choropleth\":[{\"colorbar\":{\"outlinewidth\":0,\"ticks\":\"\"},\"type\":\"choropleth\"}],\"contourcarpet\":[{\"colorbar\":{\"outlinewidth\":0,\"ticks\":\"\"},\"type\":\"contourcarpet\"}],\"contour\":[{\"colorbar\":{\"outlinewidth\":0,\"ticks\":\"\"},\"colorscale\":[[0.0,\"#0d0887\"],[0.1111111111111111,\"#46039f\"],[0.2222222222222222,\"#7201a8\"],[0.3333333333333333,\"#9c179e\"],[0.4444444444444444,\"#bd3786\"],[0.5555555555555556,\"#d8576b\"],[0.6666666666666666,\"#ed7953\"],[0.7777777777777778,\"#fb9f3a\"],[0.8888888888888888,\"#fdca26\"],[1.0,\"#f0f921\"]],\"type\":\"contour\"}],\"heatmapgl\":[{\"colorbar\":{\"outlinewidth\":0,\"ticks\":\"\"},\"colorscale\":[[0.0,\"#0d0887\"],[0.1111111111111111,\"#46039f\"],[0.2222222222222222,\"#7201a8\"],[0.3333333333333333,\"#9c179e\"],[0.4444444444444444,\"#bd3786\"],[0.5555555555555556,\"#d8576b\"],[0.6666666666666666,\"#ed7953\"],[0.7777777777777778,\"#fb9f3a\"],[0.8888888888888888,\"#fdca26\"],[1.0,\"#f0f921\"]],\"type\":\"heatmapgl\"}],\"heatmap\":[{\"colorbar\":{\"outlinewidth\":0,\"ticks\":\"\"},\"colorscale\":[[0.0,\"#0d0887\"],[0.1111111111111111,\"#46039f\"],[0.2222222222222222,\"#7201a8\"],[0.3333333333333333,\"#9c179e\"],[0.4444444444444444,\"#bd3786\"],[0.5555555555555556,\"#d8576b\"],[0.6666666666666666,\"#ed7953\"],[0.7777777777777778,\"#fb9f3a\"],[0.8888888888888888,\"#fdca26\"],[1.0,\"#f0f921\"]],\"type\":\"heatmap\"}],\"histogram2dcontour\":[{\"colorbar\":{\"outlinewidth\":0,\"ticks\":\"\"},\"colorscale\":[[0.0,\"#0d0887\"],[0.1111111111111111,\"#46039f\"],[0.2222222222222222,\"#7201a8\"],[0.3333333333333333,\"#9c179e\"],[0.4444444444444444,\"#bd3786\"],[0.5555555555555556,\"#d8576b\"],[0.6666666666666666,\"#ed7953\"],[0.7777777777777778,\"#fb9f3a\"],[0.8888888888888888,\"#fdca26\"],[1.0,\"#f0f921\"]],\"type\":\"histogram2dcontour\"}],\"histogram2d\":[{\"colorbar\":{\"outlinewidth\":0,\"ticks\":\"\"},\"colorscale\":[[0.0,\"#0d0887\"],[0.1111111111111111,\"#46039f\"],[0.2222222222222222,\"#7201a8\"],[0.3333333333333333,\"#9c179e\"],[0.4444444444444444,\"#bd3786\"],[0.5555555555555556,\"#d8576b\"],[0.6666666666666666,\"#ed7953\"],[0.7777777777777778,\"#fb9f3a\"],[0.8888888888888888,\"#fdca26\"],[1.0,\"#f0f921\"]],\"type\":\"histogram2d\"}],\"histogram\":[{\"marker\":{\"pattern\":{\"fillmode\":\"overlay\",\"size\":10,\"solidity\":0.2}},\"type\":\"histogram\"}],\"mesh3d\":[{\"colorbar\":{\"outlinewidth\":0,\"ticks\":\"\"},\"type\":\"mesh3d\"}],\"parcoords\":[{\"line\":{\"colorbar\":{\"outlinewidth\":0,\"ticks\":\"\"}},\"type\":\"parcoords\"}],\"pie\":[{\"automargin\":true,\"type\":\"pie\"}],\"scatter3d\":[{\"line\":{\"colorbar\":{\"outlinewidth\":0,\"ticks\":\"\"}},\"marker\":{\"colorbar\":{\"outlinewidth\":0,\"ticks\":\"\"}},\"type\":\"scatter3d\"}],\"scattercarpet\":[{\"marker\":{\"colorbar\":{\"outlinewidth\":0,\"ticks\":\"\"}},\"type\":\"scattercarpet\"}],\"scattergeo\":[{\"marker\":{\"colorbar\":{\"outlinewidth\":0,\"ticks\":\"\"}},\"type\":\"scattergeo\"}],\"scattergl\":[{\"marker\":{\"colorbar\":{\"outlinewidth\":0,\"ticks\":\"\"}},\"type\":\"scattergl\"}],\"scattermapbox\":[{\"marker\":{\"colorbar\":{\"outlinewidth\":0,\"ticks\":\"\"}},\"type\":\"scattermapbox\"}],\"scatterpolargl\":[{\"marker\":{\"colorbar\":{\"outlinewidth\":0,\"ticks\":\"\"}},\"type\":\"scatterpolargl\"}],\"scatterpolar\":[{\"marker\":{\"colorbar\":{\"outlinewidth\":0,\"ticks\":\"\"}},\"type\":\"scatterpolar\"}],\"scatter\":[{\"fillpattern\":{\"fillmode\":\"overlay\",\"size\":10,\"solidity\":0.2},\"type\":\"scatter\"}],\"scatterternary\":[{\"marker\":{\"colorbar\":{\"outlinewidth\":0,\"ticks\":\"\"}},\"type\":\"scatterternary\"}],\"surface\":[{\"colorbar\":{\"outlinewidth\":0,\"ticks\":\"\"},\"colorscale\":[[0.0,\"#0d0887\"],[0.1111111111111111,\"#46039f\"],[0.2222222222222222,\"#7201a8\"],[0.3333333333333333,\"#9c179e\"],[0.4444444444444444,\"#bd3786\"],[0.5555555555555556,\"#d8576b\"],[0.6666666666666666,\"#ed7953\"],[0.7777777777777778,\"#fb9f3a\"],[0.8888888888888888,\"#fdca26\"],[1.0,\"#f0f921\"]],\"type\":\"surface\"}],\"table\":[{\"cells\":{\"fill\":{\"color\":\"#EBF0F8\"},\"line\":{\"color\":\"white\"}},\"header\":{\"fill\":{\"color\":\"#C8D4E3\"},\"line\":{\"color\":\"white\"}},\"type\":\"table\"}]},\"layout\":{\"annotationdefaults\":{\"arrowcolor\":\"#2a3f5f\",\"arrowhead\":0,\"arrowwidth\":1},\"autotypenumbers\":\"strict\",\"coloraxis\":{\"colorbar\":{\"outlinewidth\":0,\"ticks\":\"\"}},\"colorscale\":{\"diverging\":[[0,\"#8e0152\"],[0.1,\"#c51b7d\"],[0.2,\"#de77ae\"],[0.3,\"#f1b6da\"],[0.4,\"#fde0ef\"],[0.5,\"#f7f7f7\"],[0.6,\"#e6f5d0\"],[0.7,\"#b8e186\"],[0.8,\"#7fbc41\"],[0.9,\"#4d9221\"],[1,\"#276419\"]],\"sequential\":[[0.0,\"#0d0887\"],[0.1111111111111111,\"#46039f\"],[0.2222222222222222,\"#7201a8\"],[0.3333333333333333,\"#9c179e\"],[0.4444444444444444,\"#bd3786\"],[0.5555555555555556,\"#d8576b\"],[0.6666666666666666,\"#ed7953\"],[0.7777777777777778,\"#fb9f3a\"],[0.8888888888888888,\"#fdca26\"],[1.0,\"#f0f921\"]],\"sequentialminus\":[[0.0,\"#0d0887\"],[0.1111111111111111,\"#46039f\"],[0.2222222222222222,\"#7201a8\"],[0.3333333333333333,\"#9c179e\"],[0.4444444444444444,\"#bd3786\"],[0.5555555555555556,\"#d8576b\"],[0.6666666666666666,\"#ed7953\"],[0.7777777777777778,\"#fb9f3a\"],[0.8888888888888888,\"#fdca26\"],[1.0,\"#f0f921\"]]},\"colorway\":[\"#636efa\",\"#EF553B\",\"#00cc96\",\"#ab63fa\",\"#FFA15A\",\"#19d3f3\",\"#FF6692\",\"#B6E880\",\"#FF97FF\",\"#FECB52\"],\"font\":{\"color\":\"#2a3f5f\"},\"geo\":{\"bgcolor\":\"white\",\"lakecolor\":\"white\",\"landcolor\":\"#E5ECF6\",\"showlakes\":true,\"showland\":true,\"subunitcolor\":\"white\"},\"hoverlabel\":{\"align\":\"left\"},\"hovermode\":\"closest\",\"mapbox\":{\"style\":\"light\"},\"paper_bgcolor\":\"white\",\"plot_bgcolor\":\"#E5ECF6\",\"polar\":{\"angularaxis\":{\"gridcolor\":\"white\",\"linecolor\":\"white\",\"ticks\":\"\"},\"bgcolor\":\"#E5ECF6\",\"radialaxis\":{\"gridcolor\":\"white\",\"linecolor\":\"white\",\"ticks\":\"\"}},\"scene\":{\"xaxis\":{\"backgroundcolor\":\"#E5ECF6\",\"gridcolor\":\"white\",\"gridwidth\":2,\"linecolor\":\"white\",\"showbackground\":true,\"ticks\":\"\",\"zerolinecolor\":\"white\"},\"yaxis\":{\"backgroundcolor\":\"#E5ECF6\",\"gridcolor\":\"white\",\"gridwidth\":2,\"linecolor\":\"white\",\"showbackground\":true,\"ticks\":\"\",\"zerolinecolor\":\"white\"},\"zaxis\":{\"backgroundcolor\":\"#E5ECF6\",\"gridcolor\":\"white\",\"gridwidth\":2,\"linecolor\":\"white\",\"showbackground\":true,\"ticks\":\"\",\"zerolinecolor\":\"white\"}},\"shapedefaults\":{\"line\":{\"color\":\"#2a3f5f\"}},\"ternary\":{\"aaxis\":{\"gridcolor\":\"white\",\"linecolor\":\"white\",\"ticks\":\"\"},\"baxis\":{\"gridcolor\":\"white\",\"linecolor\":\"white\",\"ticks\":\"\"},\"bgcolor\":\"#E5ECF6\",\"caxis\":{\"gridcolor\":\"white\",\"linecolor\":\"white\",\"ticks\":\"\"}},\"title\":{\"x\":0.05},\"xaxis\":{\"automargin\":true,\"gridcolor\":\"white\",\"linecolor\":\"white\",\"ticks\":\"\",\"title\":{\"standoff\":15},\"zerolinecolor\":\"white\",\"zerolinewidth\":2},\"yaxis\":{\"automargin\":true,\"gridcolor\":\"white\",\"linecolor\":\"white\",\"ticks\":\"\",\"title\":{\"standoff\":15},\"zerolinecolor\":\"white\",\"zerolinewidth\":2}}},\"xaxis\":{\"range\":[-60,60],\"title\":{\"text\":\"X\"}},\"yaxis\":{\"range\":[-60,60],\"title\":{\"text\":\"Y\"}},\"width\":500,\"height\":500,\"showlegend\":false,\"title\":{\"text\":\"Hits in the GlueX CDC\"},\"shapes\":[{\"line\":{\"color\":\"black\"},\"type\":\"circle\",\"x0\":-10.5,\"x1\":10.5,\"xref\":\"x\",\"y0\":-10.5,\"y1\":10.5,\"yref\":\"y\"},{\"line\":{\"color\":\"black\"},\"type\":\"circle\",\"x0\":-55,\"x1\":55,\"xref\":\"x\",\"y0\":-55,\"y1\":55,\"yref\":\"y\"}]},                        {\"responsive\": true}                    ).then(function(){\n                            \nvar gd = document.getElementById('4b33f2ed-0b72-41a7-b506-587f5ed095d2');\nvar x = new MutationObserver(function (mutations, observer) {{\n        var display = window.getComputedStyle(gd).display;\n        if (!display || display === 'none') {{\n            console.log([gd, 'removed!']);\n            Plotly.purge(gd);\n            observer.disconnect();\n        }}\n}});\n\n// Listen for the removal of the full notebook cells\nvar notebookContainer = gd.closest('#notebook-container');\nif (notebookContainer) {{\n    x.observe(notebookContainer, {childList: true});\n}}\n\n// Listen for the clearing of the current output cell\nvar outputEl = gd.closest('.output');\nif (outputEl) {{\n    x.observe(outputEl, {childList: true});\n}}\n\n                        })                };                            </script>        </div>\n</body>\n</html>"
                },
                "metadata": {}
              }
            ]
          }
        },
        "8f79ffee0eed4bf99a3cd7232c52dc6c": {
          "model_module": "@jupyter-widgets/base",
          "model_name": "LayoutModel",
          "model_module_version": "1.2.0",
          "state": {
            "_model_module": "@jupyter-widgets/base",
            "_model_module_version": "1.2.0",
            "_model_name": "LayoutModel",
            "_view_count": null,
            "_view_module": "@jupyter-widgets/base",
            "_view_module_version": "1.2.0",
            "_view_name": "LayoutView",
            "align_content": null,
            "align_items": null,
            "align_self": null,
            "border": null,
            "bottom": null,
            "display": null,
            "flex": null,
            "flex_flow": null,
            "grid_area": null,
            "grid_auto_columns": null,
            "grid_auto_flow": null,
            "grid_auto_rows": null,
            "grid_column": null,
            "grid_gap": null,
            "grid_row": null,
            "grid_template_areas": null,
            "grid_template_columns": null,
            "grid_template_rows": null,
            "height": null,
            "justify_content": null,
            "justify_items": null,
            "left": null,
            "margin": null,
            "max_height": null,
            "max_width": null,
            "min_height": null,
            "min_width": null,
            "object_fit": null,
            "object_position": null,
            "order": null,
            "overflow": null,
            "overflow_x": null,
            "overflow_y": null,
            "padding": null,
            "right": null,
            "top": null,
            "visibility": null,
            "width": null
          }
        },
        "0ed58d1962c54979b080bdddd37f3f58": {
          "model_module": "@jupyter-widgets/controls",
          "model_name": "FloatSliderModel",
          "model_module_version": "1.5.0",
          "state": {
            "_dom_classes": [],
            "_model_module": "@jupyter-widgets/controls",
            "_model_module_version": "1.5.0",
            "_model_name": "FloatSliderModel",
            "_view_count": null,
            "_view_module": "@jupyter-widgets/controls",
            "_view_module_version": "1.5.0",
            "_view_name": "FloatSliderView",
            "continuous_update": true,
            "description": "z0",
            "description_tooltip": null,
            "disabled": false,
            "layout": "IPY_MODEL_51fc0c21578f47509e6f6a99470df45c",
            "max": 175,
            "min": 0,
            "orientation": "horizontal",
            "readout": true,
            "readout_format": ".2f",
            "step": 0.1,
            "style": "IPY_MODEL_d48bb89dc9264dcda5f81cbbfc489ff9",
            "value": 71.99999999999999
          }
        },
        "ca08c6d5a54f4a52ad16c2bf3a1f71db": {
          "model_module": "@jupyter-widgets/base",
          "model_name": "LayoutModel",
          "model_module_version": "1.2.0",
          "state": {
            "_model_module": "@jupyter-widgets/base",
            "_model_module_version": "1.2.0",
            "_model_name": "LayoutModel",
            "_view_count": null,
            "_view_module": "@jupyter-widgets/base",
            "_view_module_version": "1.2.0",
            "_view_name": "LayoutView",
            "align_content": null,
            "align_items": null,
            "align_self": null,
            "border": null,
            "bottom": null,
            "display": null,
            "flex": null,
            "flex_flow": "row wrap",
            "grid_area": null,
            "grid_auto_columns": null,
            "grid_auto_flow": null,
            "grid_auto_rows": null,
            "grid_column": null,
            "grid_gap": null,
            "grid_row": null,
            "grid_template_areas": null,
            "grid_template_columns": null,
            "grid_template_rows": null,
            "height": null,
            "justify_content": null,
            "justify_items": null,
            "left": null,
            "margin": null,
            "max_height": null,
            "max_width": null,
            "min_height": null,
            "min_width": null,
            "object_fit": null,
            "object_position": null,
            "order": null,
            "overflow": null,
            "overflow_x": null,
            "overflow_y": null,
            "padding": null,
            "right": null,
            "top": null,
            "visibility": null,
            "width": null
          }
        },
        "e089c4df4625442ea72475fef22dcb69": {
          "model_module": "@jupyter-widgets/base",
          "model_name": "LayoutModel",
          "model_module_version": "1.2.0",
          "state": {
            "_model_module": "@jupyter-widgets/base",
            "_model_module_version": "1.2.0",
            "_model_name": "LayoutModel",
            "_view_count": null,
            "_view_module": "@jupyter-widgets/base",
            "_view_module_version": "1.2.0",
            "_view_name": "LayoutView",
            "align_content": null,
            "align_items": null,
            "align_self": null,
            "border": null,
            "bottom": null,
            "display": null,
            "flex": null,
            "flex_flow": null,
            "grid_area": null,
            "grid_auto_columns": null,
            "grid_auto_flow": null,
            "grid_auto_rows": null,
            "grid_column": null,
            "grid_gap": null,
            "grid_row": null,
            "grid_template_areas": null,
            "grid_template_columns": null,
            "grid_template_rows": null,
            "height": null,
            "justify_content": null,
            "justify_items": null,
            "left": null,
            "margin": null,
            "max_height": null,
            "max_width": null,
            "min_height": null,
            "min_width": null,
            "object_fit": null,
            "object_position": null,
            "order": null,
            "overflow": null,
            "overflow_x": null,
            "overflow_y": null,
            "padding": null,
            "right": null,
            "top": null,
            "visibility": null,
            "width": null
          }
        },
        "51fc0c21578f47509e6f6a99470df45c": {
          "model_module": "@jupyter-widgets/base",
          "model_name": "LayoutModel",
          "model_module_version": "1.2.0",
          "state": {
            "_model_module": "@jupyter-widgets/base",
            "_model_module_version": "1.2.0",
            "_model_name": "LayoutModel",
            "_view_count": null,
            "_view_module": "@jupyter-widgets/base",
            "_view_module_version": "1.2.0",
            "_view_name": "LayoutView",
            "align_content": null,
            "align_items": null,
            "align_self": null,
            "border": null,
            "bottom": null,
            "display": null,
            "flex": null,
            "flex_flow": null,
            "grid_area": null,
            "grid_auto_columns": null,
            "grid_auto_flow": null,
            "grid_auto_rows": null,
            "grid_column": null,
            "grid_gap": null,
            "grid_row": null,
            "grid_template_areas": null,
            "grid_template_columns": null,
            "grid_template_rows": null,
            "height": null,
            "justify_content": null,
            "justify_items": null,
            "left": null,
            "margin": null,
            "max_height": null,
            "max_width": null,
            "min_height": null,
            "min_width": null,
            "object_fit": null,
            "object_position": null,
            "order": null,
            "overflow": null,
            "overflow_x": null,
            "overflow_y": null,
            "padding": null,
            "right": null,
            "top": null,
            "visibility": null,
            "width": null
          }
        },
        "d48bb89dc9264dcda5f81cbbfc489ff9": {
          "model_module": "@jupyter-widgets/controls",
          "model_name": "SliderStyleModel",
          "model_module_version": "1.5.0",
          "state": {
            "_model_module": "@jupyter-widgets/controls",
            "_model_module_version": "1.5.0",
            "_model_name": "SliderStyleModel",
            "_view_count": null,
            "_view_module": "@jupyter-widgets/base",
            "_view_module_version": "1.2.0",
            "_view_name": "StyleView",
            "description_width": "",
            "handle_color": null
          }
        },
        "5a34c0739071426ba813823474a234cf": {
          "model_module": "@jupyter-widgets/controls",
          "model_name": "VBoxModel",
          "model_module_version": "1.5.0",
          "state": {
            "_dom_classes": [],
            "_model_module": "@jupyter-widgets/controls",
            "_model_module_version": "1.5.0",
            "_model_name": "VBoxModel",
            "_view_count": null,
            "_view_module": "@jupyter-widgets/controls",
            "_view_module_version": "1.5.0",
            "_view_name": "VBoxView",
            "box_style": "",
            "children": [
              "IPY_MODEL_3b091277a5ef49088182166a630a73ed",
              "IPY_MODEL_453129646b06443093f9e280f82c594f"
            ],
            "layout": "IPY_MODEL_6700b0565e2c429ba636e8d9ae3eddf5"
          }
        },
        "3b091277a5ef49088182166a630a73ed": {
          "model_module": "@jupyter-widgets/controls",
          "model_name": "HBoxModel",
          "model_module_version": "1.5.0",
          "state": {
            "_dom_classes": [],
            "_model_module": "@jupyter-widgets/controls",
            "_model_module_version": "1.5.0",
            "_model_name": "HBoxModel",
            "_view_count": null,
            "_view_module": "@jupyter-widgets/controls",
            "_view_module_version": "1.5.0",
            "_view_name": "HBoxView",
            "box_style": "",
            "children": [
              "IPY_MODEL_90ef77b3dca9472ab4e5a78807343e1f"
            ],
            "layout": "IPY_MODEL_2a2b39f4370d4d38912a15feeee8ed2b"
          }
        },
        "453129646b06443093f9e280f82c594f": {
          "model_module": "@jupyter-widgets/output",
          "model_name": "OutputModel",
          "model_module_version": "1.0.0",
          "state": {
            "_dom_classes": [],
            "_model_module": "@jupyter-widgets/output",
            "_model_module_version": "1.0.0",
            "_model_name": "OutputModel",
            "_view_count": null,
            "_view_module": "@jupyter-widgets/output",
            "_view_module_version": "1.0.0",
            "_view_name": "OutputView",
            "layout": "IPY_MODEL_39a9bf95498543b8aa3b9d14f15238b1",
            "msg_id": "",
            "outputs": [
              {
                "output_type": "display_data",
                "data": {
                  "text/html": "<html>\n<head><meta charset=\"utf-8\" /></head>\n<body>\n    <div>            <script src=\"https://cdnjs.cloudflare.com/ajax/libs/mathjax/2.7.5/MathJax.js?config=TeX-AMS-MML_SVG\"></script><script type=\"text/javascript\">if (window.MathJax && window.MathJax.Hub && window.MathJax.Hub.Config) {window.MathJax.Hub.Config({SVG: {font: \"STIX-Web\"}});}</script>                <script type=\"text/javascript\">window.PlotlyConfig = {MathJaxConfig: 'local'};</script>\n        <script charset=\"utf-8\" src=\"https://cdn.plot.ly/plotly-2.24.1.min.js\"></script>                <div id=\"cc22c47b-eff9-4e70-82f6-4496011ffb88\" class=\"plotly-graph-div\" style=\"height:500px; width:500px;\"></div>            <script type=\"text/javascript\">                                    window.PLOTLYENV=window.PLOTLYENV || {};                                    if (document.getElementById(\"cc22c47b-eff9-4e70-82f6-4496011ffb88\")) {                    Plotly.newPlot(                        \"cc22c47b-eff9-4e70-82f6-4496011ffb88\",                        [{\"hoverinfo\":\"text\",\"marker\":{\"size\":3},\"mode\":\"markers\",\"text\":[\"Ring: 1.0\\n Wire: 4.0\",\"Ring: 2.0\\n Wire: 3.0\",\"Ring: 4.0\\n Wire: 4.0\",\"Ring: 5.0\\n Wire: 12.0\",\"Ring: 5.0\\n Wire: 13.0\",\"Ring: 6.0\\n Wire: 14.0\",\"Ring: 7.0\\n Wire: 15.0\",\"Ring: 8.0\\n Wire: 16.0\",\"Ring: 9.0\\n Wire: 93.0\",\"Ring: 10.0\\n Wire: 93.0\"],\"x\":[9.660008147064108,11.244675731533171,13.667804912913876,16.68980594931451,16.027908817919315,16.913888737463278,18.546585759291474,19.344711010287657,21.5287308306813,22.346973266242067],\"y\":[4.652014385043868,4.413209691672151,6.523501812870699,6.168196965028791,7.726733808643123,9.170196294723564,10.346572514045945,11.810809380563583,11.63829027844025,13.07466957682985],\"type\":\"scatter\",\"uid\":\"3131e67c-b6cf-4318-8c17-e98930c71ac4\"}],                        {\"template\":{\"data\":{\"barpolar\":[{\"marker\":{\"line\":{\"color\":\"#E5ECF6\",\"width\":0.5},\"pattern\":{\"fillmode\":\"overlay\",\"size\":10,\"solidity\":0.2}},\"type\":\"barpolar\"}],\"bar\":[{\"error_x\":{\"color\":\"#2a3f5f\"},\"error_y\":{\"color\":\"#2a3f5f\"},\"marker\":{\"line\":{\"color\":\"#E5ECF6\",\"width\":0.5},\"pattern\":{\"fillmode\":\"overlay\",\"size\":10,\"solidity\":0.2}},\"type\":\"bar\"}],\"carpet\":[{\"aaxis\":{\"endlinecolor\":\"#2a3f5f\",\"gridcolor\":\"white\",\"linecolor\":\"white\",\"minorgridcolor\":\"white\",\"startlinecolor\":\"#2a3f5f\"},\"baxis\":{\"endlinecolor\":\"#2a3f5f\",\"gridcolor\":\"white\",\"linecolor\":\"white\",\"minorgridcolor\":\"white\",\"startlinecolor\":\"#2a3f5f\"},\"type\":\"carpet\"}],\"choropleth\":[{\"colorbar\":{\"outlinewidth\":0,\"ticks\":\"\"},\"type\":\"choropleth\"}],\"contourcarpet\":[{\"colorbar\":{\"outlinewidth\":0,\"ticks\":\"\"},\"type\":\"contourcarpet\"}],\"contour\":[{\"colorbar\":{\"outlinewidth\":0,\"ticks\":\"\"},\"colorscale\":[[0.0,\"#0d0887\"],[0.1111111111111111,\"#46039f\"],[0.2222222222222222,\"#7201a8\"],[0.3333333333333333,\"#9c179e\"],[0.4444444444444444,\"#bd3786\"],[0.5555555555555556,\"#d8576b\"],[0.6666666666666666,\"#ed7953\"],[0.7777777777777778,\"#fb9f3a\"],[0.8888888888888888,\"#fdca26\"],[1.0,\"#f0f921\"]],\"type\":\"contour\"}],\"heatmapgl\":[{\"colorbar\":{\"outlinewidth\":0,\"ticks\":\"\"},\"colorscale\":[[0.0,\"#0d0887\"],[0.1111111111111111,\"#46039f\"],[0.2222222222222222,\"#7201a8\"],[0.3333333333333333,\"#9c179e\"],[0.4444444444444444,\"#bd3786\"],[0.5555555555555556,\"#d8576b\"],[0.6666666666666666,\"#ed7953\"],[0.7777777777777778,\"#fb9f3a\"],[0.8888888888888888,\"#fdca26\"],[1.0,\"#f0f921\"]],\"type\":\"heatmapgl\"}],\"heatmap\":[{\"colorbar\":{\"outlinewidth\":0,\"ticks\":\"\"},\"colorscale\":[[0.0,\"#0d0887\"],[0.1111111111111111,\"#46039f\"],[0.2222222222222222,\"#7201a8\"],[0.3333333333333333,\"#9c179e\"],[0.4444444444444444,\"#bd3786\"],[0.5555555555555556,\"#d8576b\"],[0.6666666666666666,\"#ed7953\"],[0.7777777777777778,\"#fb9f3a\"],[0.8888888888888888,\"#fdca26\"],[1.0,\"#f0f921\"]],\"type\":\"heatmap\"}],\"histogram2dcontour\":[{\"colorbar\":{\"outlinewidth\":0,\"ticks\":\"\"},\"colorscale\":[[0.0,\"#0d0887\"],[0.1111111111111111,\"#46039f\"],[0.2222222222222222,\"#7201a8\"],[0.3333333333333333,\"#9c179e\"],[0.4444444444444444,\"#bd3786\"],[0.5555555555555556,\"#d8576b\"],[0.6666666666666666,\"#ed7953\"],[0.7777777777777778,\"#fb9f3a\"],[0.8888888888888888,\"#fdca26\"],[1.0,\"#f0f921\"]],\"type\":\"histogram2dcontour\"}],\"histogram2d\":[{\"colorbar\":{\"outlinewidth\":0,\"ticks\":\"\"},\"colorscale\":[[0.0,\"#0d0887\"],[0.1111111111111111,\"#46039f\"],[0.2222222222222222,\"#7201a8\"],[0.3333333333333333,\"#9c179e\"],[0.4444444444444444,\"#bd3786\"],[0.5555555555555556,\"#d8576b\"],[0.6666666666666666,\"#ed7953\"],[0.7777777777777778,\"#fb9f3a\"],[0.8888888888888888,\"#fdca26\"],[1.0,\"#f0f921\"]],\"type\":\"histogram2d\"}],\"histogram\":[{\"marker\":{\"pattern\":{\"fillmode\":\"overlay\",\"size\":10,\"solidity\":0.2}},\"type\":\"histogram\"}],\"mesh3d\":[{\"colorbar\":{\"outlinewidth\":0,\"ticks\":\"\"},\"type\":\"mesh3d\"}],\"parcoords\":[{\"line\":{\"colorbar\":{\"outlinewidth\":0,\"ticks\":\"\"}},\"type\":\"parcoords\"}],\"pie\":[{\"automargin\":true,\"type\":\"pie\"}],\"scatter3d\":[{\"line\":{\"colorbar\":{\"outlinewidth\":0,\"ticks\":\"\"}},\"marker\":{\"colorbar\":{\"outlinewidth\":0,\"ticks\":\"\"}},\"type\":\"scatter3d\"}],\"scattercarpet\":[{\"marker\":{\"colorbar\":{\"outlinewidth\":0,\"ticks\":\"\"}},\"type\":\"scattercarpet\"}],\"scattergeo\":[{\"marker\":{\"colorbar\":{\"outlinewidth\":0,\"ticks\":\"\"}},\"type\":\"scattergeo\"}],\"scattergl\":[{\"marker\":{\"colorbar\":{\"outlinewidth\":0,\"ticks\":\"\"}},\"type\":\"scattergl\"}],\"scattermapbox\":[{\"marker\":{\"colorbar\":{\"outlinewidth\":0,\"ticks\":\"\"}},\"type\":\"scattermapbox\"}],\"scatterpolargl\":[{\"marker\":{\"colorbar\":{\"outlinewidth\":0,\"ticks\":\"\"}},\"type\":\"scatterpolargl\"}],\"scatterpolar\":[{\"marker\":{\"colorbar\":{\"outlinewidth\":0,\"ticks\":\"\"}},\"type\":\"scatterpolar\"}],\"scatter\":[{\"fillpattern\":{\"fillmode\":\"overlay\",\"size\":10,\"solidity\":0.2},\"type\":\"scatter\"}],\"scatterternary\":[{\"marker\":{\"colorbar\":{\"outlinewidth\":0,\"ticks\":\"\"}},\"type\":\"scatterternary\"}],\"surface\":[{\"colorbar\":{\"outlinewidth\":0,\"ticks\":\"\"},\"colorscale\":[[0.0,\"#0d0887\"],[0.1111111111111111,\"#46039f\"],[0.2222222222222222,\"#7201a8\"],[0.3333333333333333,\"#9c179e\"],[0.4444444444444444,\"#bd3786\"],[0.5555555555555556,\"#d8576b\"],[0.6666666666666666,\"#ed7953\"],[0.7777777777777778,\"#fb9f3a\"],[0.8888888888888888,\"#fdca26\"],[1.0,\"#f0f921\"]],\"type\":\"surface\"}],\"table\":[{\"cells\":{\"fill\":{\"color\":\"#EBF0F8\"},\"line\":{\"color\":\"white\"}},\"header\":{\"fill\":{\"color\":\"#C8D4E3\"},\"line\":{\"color\":\"white\"}},\"type\":\"table\"}]},\"layout\":{\"annotationdefaults\":{\"arrowcolor\":\"#2a3f5f\",\"arrowhead\":0,\"arrowwidth\":1},\"autotypenumbers\":\"strict\",\"coloraxis\":{\"colorbar\":{\"outlinewidth\":0,\"ticks\":\"\"}},\"colorscale\":{\"diverging\":[[0,\"#8e0152\"],[0.1,\"#c51b7d\"],[0.2,\"#de77ae\"],[0.3,\"#f1b6da\"],[0.4,\"#fde0ef\"],[0.5,\"#f7f7f7\"],[0.6,\"#e6f5d0\"],[0.7,\"#b8e186\"],[0.8,\"#7fbc41\"],[0.9,\"#4d9221\"],[1,\"#276419\"]],\"sequential\":[[0.0,\"#0d0887\"],[0.1111111111111111,\"#46039f\"],[0.2222222222222222,\"#7201a8\"],[0.3333333333333333,\"#9c179e\"],[0.4444444444444444,\"#bd3786\"],[0.5555555555555556,\"#d8576b\"],[0.6666666666666666,\"#ed7953\"],[0.7777777777777778,\"#fb9f3a\"],[0.8888888888888888,\"#fdca26\"],[1.0,\"#f0f921\"]],\"sequentialminus\":[[0.0,\"#0d0887\"],[0.1111111111111111,\"#46039f\"],[0.2222222222222222,\"#7201a8\"],[0.3333333333333333,\"#9c179e\"],[0.4444444444444444,\"#bd3786\"],[0.5555555555555556,\"#d8576b\"],[0.6666666666666666,\"#ed7953\"],[0.7777777777777778,\"#fb9f3a\"],[0.8888888888888888,\"#fdca26\"],[1.0,\"#f0f921\"]]},\"colorway\":[\"#636efa\",\"#EF553B\",\"#00cc96\",\"#ab63fa\",\"#FFA15A\",\"#19d3f3\",\"#FF6692\",\"#B6E880\",\"#FF97FF\",\"#FECB52\"],\"font\":{\"color\":\"#2a3f5f\"},\"geo\":{\"bgcolor\":\"white\",\"lakecolor\":\"white\",\"landcolor\":\"#E5ECF6\",\"showlakes\":true,\"showland\":true,\"subunitcolor\":\"white\"},\"hoverlabel\":{\"align\":\"left\"},\"hovermode\":\"closest\",\"mapbox\":{\"style\":\"light\"},\"paper_bgcolor\":\"white\",\"plot_bgcolor\":\"#E5ECF6\",\"polar\":{\"angularaxis\":{\"gridcolor\":\"white\",\"linecolor\":\"white\",\"ticks\":\"\"},\"bgcolor\":\"#E5ECF6\",\"radialaxis\":{\"gridcolor\":\"white\",\"linecolor\":\"white\",\"ticks\":\"\"}},\"scene\":{\"xaxis\":{\"backgroundcolor\":\"#E5ECF6\",\"gridcolor\":\"white\",\"gridwidth\":2,\"linecolor\":\"white\",\"showbackground\":true,\"ticks\":\"\",\"zerolinecolor\":\"white\"},\"yaxis\":{\"backgroundcolor\":\"#E5ECF6\",\"gridcolor\":\"white\",\"gridwidth\":2,\"linecolor\":\"white\",\"showbackground\":true,\"ticks\":\"\",\"zerolinecolor\":\"white\"},\"zaxis\":{\"backgroundcolor\":\"#E5ECF6\",\"gridcolor\":\"white\",\"gridwidth\":2,\"linecolor\":\"white\",\"showbackground\":true,\"ticks\":\"\",\"zerolinecolor\":\"white\"}},\"shapedefaults\":{\"line\":{\"color\":\"#2a3f5f\"}},\"ternary\":{\"aaxis\":{\"gridcolor\":\"white\",\"linecolor\":\"white\",\"ticks\":\"\"},\"baxis\":{\"gridcolor\":\"white\",\"linecolor\":\"white\",\"ticks\":\"\"},\"bgcolor\":\"#E5ECF6\",\"caxis\":{\"gridcolor\":\"white\",\"linecolor\":\"white\",\"ticks\":\"\"}},\"title\":{\"x\":0.05},\"xaxis\":{\"automargin\":true,\"gridcolor\":\"white\",\"linecolor\":\"white\",\"ticks\":\"\",\"title\":{\"standoff\":15},\"zerolinecolor\":\"white\",\"zerolinewidth\":2},\"yaxis\":{\"automargin\":true,\"gridcolor\":\"white\",\"linecolor\":\"white\",\"ticks\":\"\",\"title\":{\"standoff\":15},\"zerolinecolor\":\"white\",\"zerolinewidth\":2}}},\"xaxis\":{\"range\":[-60,60],\"title\":{\"text\":\"X\"}},\"yaxis\":{\"range\":[-60,60],\"title\":{\"text\":\"Y\"}},\"width\":500,\"height\":500,\"showlegend\":false,\"title\":{\"text\":\"Hits in the GlueX CDC\"},\"shapes\":[{\"line\":{\"color\":\"black\"},\"type\":\"circle\",\"x0\":-10.5,\"x1\":10.5,\"xref\":\"x\",\"y0\":-10.5,\"y1\":10.5,\"yref\":\"y\"},{\"line\":{\"color\":\"black\"},\"type\":\"circle\",\"x0\":-55,\"x1\":55,\"xref\":\"x\",\"y0\":-55,\"y1\":55,\"yref\":\"y\"}]},                        {\"responsive\": true}                    ).then(function(){\n                            \nvar gd = document.getElementById('cc22c47b-eff9-4e70-82f6-4496011ffb88');\nvar x = new MutationObserver(function (mutations, observer) {{\n        var display = window.getComputedStyle(gd).display;\n        if (!display || display === 'none') {{\n            console.log([gd, 'removed!']);\n            Plotly.purge(gd);\n            observer.disconnect();\n        }}\n}});\n\n// Listen for the removal of the full notebook cells\nvar notebookContainer = gd.closest('#notebook-container');\nif (notebookContainer) {{\n    x.observe(notebookContainer, {childList: true});\n}}\n\n// Listen for the clearing of the current output cell\nvar outputEl = gd.closest('.output');\nif (outputEl) {{\n    x.observe(outputEl, {childList: true});\n}}\n\n                        })                };                            </script>        </div>\n</body>\n</html>"
                },
                "metadata": {}
              }
            ]
          }
        },
        "6700b0565e2c429ba636e8d9ae3eddf5": {
          "model_module": "@jupyter-widgets/base",
          "model_name": "LayoutModel",
          "model_module_version": "1.2.0",
          "state": {
            "_model_module": "@jupyter-widgets/base",
            "_model_module_version": "1.2.0",
            "_model_name": "LayoutModel",
            "_view_count": null,
            "_view_module": "@jupyter-widgets/base",
            "_view_module_version": "1.2.0",
            "_view_name": "LayoutView",
            "align_content": null,
            "align_items": null,
            "align_self": null,
            "border": null,
            "bottom": null,
            "display": null,
            "flex": null,
            "flex_flow": null,
            "grid_area": null,
            "grid_auto_columns": null,
            "grid_auto_flow": null,
            "grid_auto_rows": null,
            "grid_column": null,
            "grid_gap": null,
            "grid_row": null,
            "grid_template_areas": null,
            "grid_template_columns": null,
            "grid_template_rows": null,
            "height": null,
            "justify_content": null,
            "justify_items": null,
            "left": null,
            "margin": null,
            "max_height": null,
            "max_width": null,
            "min_height": null,
            "min_width": null,
            "object_fit": null,
            "object_position": null,
            "order": null,
            "overflow": null,
            "overflow_x": null,
            "overflow_y": null,
            "padding": null,
            "right": null,
            "top": null,
            "visibility": null,
            "width": null
          }
        },
        "90ef77b3dca9472ab4e5a78807343e1f": {
          "model_module": "@jupyter-widgets/controls",
          "model_name": "FloatSliderModel",
          "model_module_version": "1.5.0",
          "state": {
            "_dom_classes": [],
            "_model_module": "@jupyter-widgets/controls",
            "_model_module_version": "1.5.0",
            "_model_name": "FloatSliderModel",
            "_view_count": null,
            "_view_module": "@jupyter-widgets/controls",
            "_view_module_version": "1.5.0",
            "_view_name": "FloatSliderView",
            "continuous_update": true,
            "description": "z0",
            "description_tooltip": null,
            "disabled": false,
            "layout": "IPY_MODEL_26b12c8801e84925af1ab88f48cc5f6a",
            "max": 175,
            "min": 0,
            "orientation": "horizontal",
            "readout": true,
            "readout_format": ".2f",
            "step": 0.1,
            "style": "IPY_MODEL_1f3ba261f8134431a3ab74e3bd858584",
            "value": 26.8
          }
        },
        "2a2b39f4370d4d38912a15feeee8ed2b": {
          "model_module": "@jupyter-widgets/base",
          "model_name": "LayoutModel",
          "model_module_version": "1.2.0",
          "state": {
            "_model_module": "@jupyter-widgets/base",
            "_model_module_version": "1.2.0",
            "_model_name": "LayoutModel",
            "_view_count": null,
            "_view_module": "@jupyter-widgets/base",
            "_view_module_version": "1.2.0",
            "_view_name": "LayoutView",
            "align_content": null,
            "align_items": null,
            "align_self": null,
            "border": null,
            "bottom": null,
            "display": null,
            "flex": null,
            "flex_flow": "row wrap",
            "grid_area": null,
            "grid_auto_columns": null,
            "grid_auto_flow": null,
            "grid_auto_rows": null,
            "grid_column": null,
            "grid_gap": null,
            "grid_row": null,
            "grid_template_areas": null,
            "grid_template_columns": null,
            "grid_template_rows": null,
            "height": null,
            "justify_content": null,
            "justify_items": null,
            "left": null,
            "margin": null,
            "max_height": null,
            "max_width": null,
            "min_height": null,
            "min_width": null,
            "object_fit": null,
            "object_position": null,
            "order": null,
            "overflow": null,
            "overflow_x": null,
            "overflow_y": null,
            "padding": null,
            "right": null,
            "top": null,
            "visibility": null,
            "width": null
          }
        },
        "39a9bf95498543b8aa3b9d14f15238b1": {
          "model_module": "@jupyter-widgets/base",
          "model_name": "LayoutModel",
          "model_module_version": "1.2.0",
          "state": {
            "_model_module": "@jupyter-widgets/base",
            "_model_module_version": "1.2.0",
            "_model_name": "LayoutModel",
            "_view_count": null,
            "_view_module": "@jupyter-widgets/base",
            "_view_module_version": "1.2.0",
            "_view_name": "LayoutView",
            "align_content": null,
            "align_items": null,
            "align_self": null,
            "border": null,
            "bottom": null,
            "display": null,
            "flex": null,
            "flex_flow": null,
            "grid_area": null,
            "grid_auto_columns": null,
            "grid_auto_flow": null,
            "grid_auto_rows": null,
            "grid_column": null,
            "grid_gap": null,
            "grid_row": null,
            "grid_template_areas": null,
            "grid_template_columns": null,
            "grid_template_rows": null,
            "height": null,
            "justify_content": null,
            "justify_items": null,
            "left": null,
            "margin": null,
            "max_height": null,
            "max_width": null,
            "min_height": null,
            "min_width": null,
            "object_fit": null,
            "object_position": null,
            "order": null,
            "overflow": null,
            "overflow_x": null,
            "overflow_y": null,
            "padding": null,
            "right": null,
            "top": null,
            "visibility": null,
            "width": null
          }
        },
        "26b12c8801e84925af1ab88f48cc5f6a": {
          "model_module": "@jupyter-widgets/base",
          "model_name": "LayoutModel",
          "model_module_version": "1.2.0",
          "state": {
            "_model_module": "@jupyter-widgets/base",
            "_model_module_version": "1.2.0",
            "_model_name": "LayoutModel",
            "_view_count": null,
            "_view_module": "@jupyter-widgets/base",
            "_view_module_version": "1.2.0",
            "_view_name": "LayoutView",
            "align_content": null,
            "align_items": null,
            "align_self": null,
            "border": null,
            "bottom": null,
            "display": null,
            "flex": null,
            "flex_flow": null,
            "grid_area": null,
            "grid_auto_columns": null,
            "grid_auto_flow": null,
            "grid_auto_rows": null,
            "grid_column": null,
            "grid_gap": null,
            "grid_row": null,
            "grid_template_areas": null,
            "grid_template_columns": null,
            "grid_template_rows": null,
            "height": null,
            "justify_content": null,
            "justify_items": null,
            "left": null,
            "margin": null,
            "max_height": null,
            "max_width": null,
            "min_height": null,
            "min_width": null,
            "object_fit": null,
            "object_position": null,
            "order": null,
            "overflow": null,
            "overflow_x": null,
            "overflow_y": null,
            "padding": null,
            "right": null,
            "top": null,
            "visibility": null,
            "width": null
          }
        },
        "1f3ba261f8134431a3ab74e3bd858584": {
          "model_module": "@jupyter-widgets/controls",
          "model_name": "SliderStyleModel",
          "model_module_version": "1.5.0",
          "state": {
            "_model_module": "@jupyter-widgets/controls",
            "_model_module_version": "1.5.0",
            "_model_name": "SliderStyleModel",
            "_view_count": null,
            "_view_module": "@jupyter-widgets/base",
            "_view_module_version": "1.2.0",
            "_view_name": "StyleView",
            "description_width": "",
            "handle_color": null
          }
        },
        "29ac677e94ce427b824eca6dff0563e9": {
          "model_module": "@jupyter-widgets/controls",
          "model_name": "VBoxModel",
          "model_module_version": "1.5.0",
          "state": {
            "_dom_classes": [],
            "_model_module": "@jupyter-widgets/controls",
            "_model_module_version": "1.5.0",
            "_model_name": "VBoxModel",
            "_view_count": null,
            "_view_module": "@jupyter-widgets/controls",
            "_view_module_version": "1.5.0",
            "_view_name": "VBoxView",
            "box_style": "",
            "children": [
              "IPY_MODEL_98c8296cfb9947f5aa71daaf005b4713",
              "IPY_MODEL_f0a3d3ee035d4446baab5ffbc5925d0a"
            ],
            "layout": "IPY_MODEL_49e7432020ea410595a2d00eb556f6b7"
          }
        },
        "98c8296cfb9947f5aa71daaf005b4713": {
          "model_module": "@jupyter-widgets/controls",
          "model_name": "HBoxModel",
          "model_module_version": "1.5.0",
          "state": {
            "_dom_classes": [],
            "_model_module": "@jupyter-widgets/controls",
            "_model_module_version": "1.5.0",
            "_model_name": "HBoxModel",
            "_view_count": null,
            "_view_module": "@jupyter-widgets/controls",
            "_view_module_version": "1.5.0",
            "_view_name": "HBoxView",
            "box_style": "",
            "children": [
              "IPY_MODEL_836f1bae3eac46cc9d4296ad477feb1a",
              "IPY_MODEL_1fb742d626d9499da31f65f4d26ebd22",
              "IPY_MODEL_cbe2992ccafe4f1498183ae51b83efc3",
              "IPY_MODEL_d9e1463698954d18b7598af68835eb77",
              "IPY_MODEL_db2ec27fb3cd4dbb9f6fe74db5914731"
            ],
            "layout": "IPY_MODEL_fa3391568be94db68c42f58fb0a7afa7"
          }
        },
        "f0a3d3ee035d4446baab5ffbc5925d0a": {
          "model_module": "@jupyter-widgets/output",
          "model_name": "OutputModel",
          "model_module_version": "1.0.0",
          "state": {
            "_dom_classes": [],
            "_model_module": "@jupyter-widgets/output",
            "_model_module_version": "1.0.0",
            "_model_name": "OutputModel",
            "_view_count": null,
            "_view_module": "@jupyter-widgets/output",
            "_view_module_version": "1.0.0",
            "_view_name": "OutputView",
            "layout": "IPY_MODEL_b5a6c51ec2ec40bdae5354f496b2bb0a",
            "msg_id": "",
            "outputs": [
              {
                "output_type": "display_data",
                "data": {
                  "text/html": "<html>\n<head><meta charset=\"utf-8\" /></head>\n<body>\n    <div>            <script src=\"https://cdnjs.cloudflare.com/ajax/libs/mathjax/2.7.5/MathJax.js?config=TeX-AMS-MML_SVG\"></script><script type=\"text/javascript\">if (window.MathJax && window.MathJax.Hub && window.MathJax.Hub.Config) {window.MathJax.Hub.Config({SVG: {font: \"STIX-Web\"}});}</script>                <script type=\"text/javascript\">window.PlotlyConfig = {MathJaxConfig: 'local'};</script>\n        <script charset=\"utf-8\" src=\"https://cdn.plot.ly/plotly-2.24.1.min.js\"></script>                <div id=\"81e20c60-c4d5-4116-b87e-120f2e1a86a0\" class=\"plotly-graph-div\" style=\"height:500px; width:500px;\"></div>            <script type=\"text/javascript\">                                    window.PLOTLYENV=window.PLOTLYENV || {};                                    if (document.getElementById(\"81e20c60-c4d5-4116-b87e-120f2e1a86a0\")) {                    Plotly.newPlot(                        \"81e20c60-c4d5-4116-b87e-120f2e1a86a0\",                        [{\"hoverinfo\":\"text\",\"marker\":{\"size\":3},\"mode\":\"markers\",\"text\":[\"Ring: 1.0\\n Wire: 8.0\",\"Ring: 2.0\\n Wire: 7.0\",\"Ring: 3.0\\n Wire: 9.0\",\"Ring: 4.0\\n Wire: 9.0\",\"Ring: 5.0\\n Wire: 15.0\",\"Ring: 6.0\\n Wire: 15.0\",\"Ring: 7.0\\n Wire: 17.0\",\"Ring: 8.0\\n Wire: 17.0\",\"Ring: 9.0\\n Wire: 10.0\",\"Ring: 10.0\\n Wire: 9.0\",\"Ring: 11.0\\n Wire: 11.0\",\"Ring: 12.0\\n Wire: 11.0\",\"Ring: 13.0\\n Wire: 17.0\",\"Ring: 15.0\\n Wire: 19.0\",\"Ring: 16.0\\n Wire: 18.0\",\"Ring: 17.0\\n Wire: 14.0\",\"Ring: 18.0\\n Wire: 14.0\",\"Ring: 19.0\\n Wire: 16.0\",\"Ring: 20.0\\n Wire: 15.0\",\"Ring: 21.0\\n Wire: 28.0\",\"Ring: 22.0\\n Wire: 27.0\",\"Ring: 23.0\\n Wire: 28.0\",\"Ring: 24.0\\n Wire: 28.0\",\"Ring: 25.0\\n Wire: 23.0\",\"Ring: 26.0\\n Wire: 23.0\",\"Ring: 27.0\\n Wire: 24.0\",\"Ring: 28.0\\n Wire: 23.0\"],\"x\":[5.360900648239789,6.804737952406192,7.802341110887268,7.834561561174072,9.300492836914954,10.7740172998123,11.816638636515025,13.304868402312588,14.474734973144862,15.98233035999181,17.80878320503532,18.066823317741974,20.52041137180547,22.867806299481686,24.399806868362607,26.83106103315999,28.40121594256885,28.997649106057978,30.567182841814347,29.26825026049389,30.811622793034484,32.65929674750029,34.21875546168792,37.77246654991497,39.352062156688305,40.902422633894986,42.486490635459575],\"y\":[9.285350800034548,9.980716080977496,11.358703327376697,12.960887785339926,14.163424341843836,14.819156793706409,16.78987603053284,17.409775001123105,18.971651981676708,19.541975607309855,20.552906524691167,22.143965132731132,23.740489488253537,25.744600434642326,26.21447893963573,26.126640907156144,26.48925802152255,28.333330772406125,28.701314210530597,32.342917769207844,32.80886341481815,33.365681366568225,33.77249803541958,33.3294340009781,33.6224834920941,34.27261682871963,34.526314984993775],\"type\":\"scatter\",\"uid\":\"ff787919-a5d8-45ff-999b-f1516f52e141\"},{\"marker\":{\"color\":\"red\"},\"mode\":\"lines\",\"name\":\"track\",\"type\":\"scatter\",\"uid\":\"d56d7cdf-6ba2-42a6-8042-b4f46de2a978\",\"x\":[-2.842170943040401e-14,0.32403505500073493,0.6493901592629072,0.9760620984924628,1.304047645386163,1.6333435596629613,1.9639465880964053,2.2958534645464397,2.629060909992006,2.9635656325632738,3.2993643275740965,3.636453677554755,3.974830352284755,4.3144910088255415,4.655432291553922,4.997650832194751,5.341143249854412,5.6859061510543825,6.031936129764404,6.3792297674365415,6.72778363303857,7.077594283088132,7.428658261686564,7.7809721005533135,8.134532319059929,8.48933542426451,8.845377910946326,9.202656261640328,9.561166946672017,9.92090642419221,10.28187114021199,10.644057528637987,11.00746201130741,11.372080998023677,11.73791088659155,12.104948062852927,12.473188900722505,12.842629762223538,13.213266997523988,13.585096944972292,13.958115931133719,14.332320270826614,14.70770626715877,15.084270211564188,15.462008383839247,15.840917052179918,16.22099247321833,16.60223089205988,16.98462854232048,17.368181646163336,17.752886414336757,18.138739046211214,18.52573572981707,18.91387264188235,19.303145947870192,19.693551802017026,20.085086347370392,20.47774571582707,20.871526028171502,21.266423394113758,21.66243391232824,22.05955367049208,22.457778745323964,22.857105202622705,23.257529097306133,23.659046473450218,24.061653364327924,24.465345792448744,24.870119769597608,25.275971296874445,25.682896364733807,26.09089095302423,26.499951031028274,26.910072557502033,27.321251480715233,27.733483738491202,28.14676525824696,28.561091957033696,28.976459741576733,29.392864508316208,29.8103021434476,30.228768522962213,30.648259512688256,31.06877096833125,31.490298735515253,31.912838649823883,32.336386536841275,32.76093821219371,33.186489481590456,33.61303614086556,34.04057397601919,34.46909876325957,34.89860626904422,35.329092250122216,35.76055245357587,36.19298261686281,36.62637846785812,37.06073572489662,37.496050096814955,37.93231728299412,38.3695329734019,38.80769284863567,39.24679257996466,39.68682782937306,40.1277942496027,40.56968748419611,41.01250316753939,41.45623692490568,41.90088437249797,42.34644111749263,42.79290275808272,43.24026488352169,43.68852307416668,44.13767290152228,44.58770992828431,45.03862970838364,45.49042778703023,45.9430997007569,46.39664097746359,46.85104713646152,47.306313688517335,47.76243613589786,48.219409972413914,48.677230683465325,49.13589374608529,49.59539462898509,50.05572879259911,50.51689168912924,50.978878762590114,51.441685448853974,51.905307175696024,52.369739362839226,52.83497742199975,53.30101675693234,53.76785276347562,54.23548082959756,54.70389633544133,55.1730946533705,55.643071148015025,56.11382117631695,56.5853400875765,57.057623223497615,57.530665918234334,58.00446349843669,58.479011283297,58.95430458459593,59.43033870674918,59.90710894685343,60.384610594733005,60.862838932986406,61.3417892370331,61.82145677515979,62.301836808567444,62.78292459141804,63.26471537088143,63.74720438718249,64.23038687364779,64.71425805675291,65.19881315616958,65.68404738481296,66.16995594888868,66.65653404794061,67.1437768748979,67.63167961612261,68.12023745145738,68.60944555427297,69.0992990915158,69.5897932237559,70.0809231052346,70.57268388391253,71.06507070151744,71.55807869359217,72.0517029895428,72.54593871268673,73.04078098030091,73.53622490367,74.03226558813468,74.52889813314002,75.02611763228387,75.52391917336547,76.0222978384338,76.52124870383624,77.02076684026716,77.52084731281673,78.02148518101959,78.52267549890372,79.0244133150392,79.52669367258719,80.0295116093489,80.53286215781466,81.03674034521296,81.54114119355948,82.04605971970636,82.55149093539154,83.05742984728778,83.56387145705224,84.07081076137575,84.57824275203211,85.08616241592793,85.59456473515172,86.10344468702384,86.61279724414584,87.12261737445024,87.63290004125031,88.1436402032898,88.6548328147926,89.16647282551276,89.67855518078424,90.19107482157105,90.70402668451709,91.21740570199609,91.73120680216186,92.24542490899825,92.76005494236942,93.27509181807,93.79053044787517,94.30636573959112,94.82259259710521,95.33920592043651,95.856200605786,96.37357154558705,96.89131362855586,97.40942173974199,97.92789076057889,98.44671556893456,98.9658910391619,99.48541204214956,100.00527344537252,100.52547011294293,101.0459969056607,101.56684868106427,102.08802029348153,102.60950659408051,103.13130243092043,103.65340264900247,104.17580209032069,104.69849559391298,105.22147799591222,105.74474412959704,106.26828882544308,106.79210691117389,107.31619321181212,107.8405425497307,108.3651497447039,108.8900096139585,109.41511697222502,109.94046663178895,110.46605340254206,110.9918720920336,111.51791750552158,112.04418444602415,112.57066771437086,113.09736210925418,113.62426242728078,114.15136346302289,114.67866000906979,115.20614685607922,115.73381879282894,116.26167060626818,116.78969708156899,117.31789300217793,117.84625314986752,118.37477230478788,118.90344524551828,119.43226674911858,119.96123159118099,120.49033454588158,121.01957038603203,121.54893388313123,122.0784198074168,122.6080229279169,123.13773801250186,123.66755982793589,124.19748313992886,124.72750271318776,125.25761331146863,125.78780969762835,126.31808663367612,126.84843888082548,127.37886119954588,127.90934834961449,128.43989509016805,128.97049617975463,129.50114637638524,130.03184043758577,130.5625731204488,131.09333918168537,131.62413337767677,132.15495046452625,132.685785198111,133.21663233413378,133.74748662817493,134.27834283574407,134.80919571233179,135.34004001346173,135.8708704947421,136.4016819119178,136.932469020922,137.46322657792803,137.99394933940115,138.52463206215032,139.0552695033802,139.58585642074277,140.11638757238902,140.64685771702102,141.17726161394341,141.70759402311546,142.23784970520262,142.76802342162838,143.29810993462593,143.82810400728997,144.35800040362855,144.88779388861468,145.417479228238,145.94705118955653,146.47650454074852,147.00583405116387,147.5350344913761,148.06410063323372,148.59302724991204,149.12180911596488,149.65044100737597,150.17891770161083,150.70723397766812,151.2353846161313,151.7633643992204,152.29116811084316,152.818790536647,153.34622646407007,153.8734706823933,154.40051798279143,154.92736315838448,155.45400100428964,155.98042631767208,156.5066338977969,157.03261854608007,157.55837506614003,158.0838982638491,158.60918294738448,159.1342239272799,159.65901601647658,160.18355403037467,160.70783278688452,161.2318471064776,161.75559181223798,162.2790617299132,162.8022516879657,163.3251565176236,163.8477710529319,164.37009013080365,164.8921085910706,165.41382127653472,165.9352230330185,166.4563087094164,166.9770731577455,167.4975112331964,168.01761779418405,168.53738770239855,169.05681582285587,169.57589702394867,170.09462617749688,170.61299815879858,171.13100784668023,171.64865012354772,172.16591987543663,172.68281199206282,173.19932136687305,173.71544289709516,174.23117148378878,174.7465020318955,175.2614294502892,175.77594865182655,176.29005455339703,176.80374207597333,177.3170061446614,177.8298416887506,178.34224364176393,178.85420694150787,179.36572653012263,179.87679735413192,180.38741436449288,180.8975725166462,181.40726677056563,181.91649209080802,182.4252434465629,182.93351581170236,183.44130416483057,183.94860348933327,184.45540877342773,184.9617150102118,185.46751719771376,185.97281033894143,186.47758944193168,186.98184951979988,187.48558559078882,187.98879267831833,188.49146581103412,188.99360002285704,189.49519035303217,189.99623184617775,190.49671955233418,190.9966485270129,191.4960138312452,191.99481053163117,192.49303370038825,192.99067841540003,193.48773976026482,193.9842128243443,194.48009270281187,194.97537449670128,195.47005331295497,195.96412426447236,196.45758247015826,196.95042305497088,197.44264114997017,197.93423189236597,198.42519042556575,198.91551189922296,199.4051914692847,199.89422429803963,200.3826055541659,200.87033041277866,201.3573940554779,201.84379167039594,202.329518452245,202.81456960236477,203.29894032876965,203.78262584619625,204.26562137615053,204.74792214695515,205.22952339379646,205.71042035877161,206.19060829093573,206.6700824463486,207.1488380881217,207.62687048646495,208.1041749187334,208.58074666947397,209.056581030472,209.5316733007977,210.00601878685268,210.47961280241623,210.95245066869182,211.42452771435302,211.8958392755899,212.36638069615492,212.83614732740918,213.305134528368,213.77333766574705,214.24075211400807,214.70737325540443,215.17319648002697,215.63821718584933,216.10243077877345,216.56583267267524,217.0284182894494,217.49018305905508,217.95112241956082,218.4112318171896,218.87050670636393,219.3289425497507,219.7865348183061,220.2432789913202,220.69917055646164,221.15420500982236,221.608377855962,222.06168460795232,222.51412078742135,222.96568192459804,223.41636355835607,223.866161236258,224.31507051459937,224.76308695845245,225.2102061417102,225.65642364712983,226.1017350663766,226.54613600006732,226.98962205781373,227.432188858266,227.87383202915595,228.31454720734015,228.7543300388433,229.1931761789009,229.63108129200253,230.0680410519343,230.50405114182195,230.93910725417317,231.37320509092044,231.8063403634634,232.23850879271106,232.66970610912432,233.09992805275795,233.5291703733028,233.9574288301278,234.3846991923217,234.81097723873506,235.23625875802185,235.66053954868096,236.08381541909802,236.50608218758646,236.92733568242903,237.3475717419189,237.76678621440084,238.1849749583124,238.60213384222436,239.01825874488208,239.4333455552458,239.84739017253162,240.26038850625162,240.67233647625454,241.08323001276608,241.49306505642903,241.90183755834335,242.3095434801062,242.7161787938519,243.12173948229167,243.5262215387533,243.92962096722073,244.3319337823736,244.73315600962647,245.13328368516838,245.53231285600162,245.9302395799811,246.32705992585318,246.72276997329445,247.11736581295048,247.51084354647463,247.90319928656626,248.29442915700935,248.68452929271075,249.07349583973826,249.46132495535892,249.84801280807676,250.23355557767064,250.61794945523235,251.00119064320376,251.38327535541453,251.76419981711967,252.14396026503664,252.52255294738268,252.8999741239116,253.276220065951,253.65128705643912,254.02517138996132,254.39786937278694,254.7693773229056,255.13969157006375,255.5088084558007,255.87672433348501,256.2434355683504,256.6089385375316,256.9732296301004,257.3363052471008,257.6981618015852,258.0587957186494,258.418203435468,258.7763814013298,259.1333260776727,259.48903393811844,259.84350146850807,260.19672516693606,260.5487015437851,260.8994271217607,261.2488984359253,261.59711203373286,261.94406447506253,262.289752332253,262.63417219013604,262.9773206460707,263.3191943099764,263.65978980436665,263.99910376438265,264.3371328378262,264.6738736851928,265.0093229797051,265.34347740734495,265.6763336668871,266.0078884699312,266.3381385409343,266.6670806172435,266.99471144912786,267.32102779981096,267.64602644550223,267.96970417542934,268.2920577918698,268.6130841101824,268.93277995883875,269.25114217945463,269.5681676268212,269.8838531689361,270.1981956870343,270.51119207561896,270.82283924249214,271.13313410878527,271.44207360898963,271.74965469098674,272.0558743160783,272.36072945901617,272.6642171080327,272.9663342648699,273.2670779448095,273.5664451767022,273.86443300299715,274.1610384797711,274.45625867675744,274.75009067737534,275.0425315787583,275.3335784917831,275.6232285410981,275.9114788651517,276.19832661622087,276.48376896043885,276.7678030778236,277.05042616230514,277.3316354217539,277.6114280780077,277.8898013668996,278.166752538285,278.44227885606904,278.7163775982332,278.9890460568627,279.260281538173,279.5300813625363,279.7984428645083,280.0653633928541,280.3308403105751,280.5948709949343,280.8574528374826,281.1185832440845,281.3782596349438,281.6364794446289,281.8932401220984,282.1485391307261,282.402373948326,282.65474206717755,282.90564099405015,283.1550682502278,283.4030213715336,283.6494979083543,283.8944954256641,284.13801150304914,284.3800437347312,284.6205897295912,284.85964711119345,285.09721351780865,285.3332866024373,285.5678640328329,285.8009434915252,286.03252267584276,286.26259929793594,286.4911710847995,286.7182357782947,286.94379113517215,287.16783492709374,287.39036494065437,287.61137897740434,287.83087485387057,288.0488504015787,288.26530346707386,288.48023191194255,288.6936336128334,288.90550646147835,289.1158483647133,289.32465724449895,289.53193103794126,289.7376676973118,289.9418651900679,290.14452149887325,290.34563462161685,290.5452025714338,290.74322337672425,290.9396950811732,291.1346157437698,291.32798343882644,291.51979625599773,291.7100523002995,291.89874969212747,292.0858865672759,292.27146107695575,292.4554713878132,292.6379156819478,292.81879215693016,292.9980990258199,293.1758345171835,293.35199687511147,293.5265843592357,293.6995952447471,293.8710278224122,294.04088039859016,294.2091512952494,294.37583884998446,294.5409414160323,294.7044573622883,294.86638507332276,295.0267229493967,295.18546940647747,295.34262287625495,295.49818180615625,295.6521446593619,295.80450991482036,295.9552760672633,296.1044416272206,296.2520051210348,296.39796509087597,296.54232009475584,296.685068706542,296.82620951597244,296.965741128669,297.10366216615125,297.2399712658504,297.3746670811222,297.5077482812611,297.6392135515124,297.7690615930859,297.89729112316866,298.02390087493734,298.14888959757116,298.2722560562639,298.39399903223637,298.5141173227481,298.63260974110966,298.74947511669404,298.8647122949485,298.97832013740555,299.09029752169465,299.20064334155313,299.30935650683693,299.41643594353184,299.5218805937634,299.6256894158081,299.7278613841032,299.8283954892571,299.92729073805907,300.0245461534892,300.1201607747281,300.2141336571665,300.30646387241416,300.3971505083094,300.4861926689281,300.5735894745924,300.65934006187956,300.7434435836302,300.825899208957,300.9067061232529,300.9858635281986,301.06337064177137,301.13922669825183,301.21343094823237,301.2859826586237,301.3568811126629,301.42612560991995,301.4937154663049,301.55965001407446,301.6239286018388,301.68655059456796,301.7475153735977,301.80682233663646,301.8644708977704,301.92046048746977,301.9747905525943,302.02746055639886,302.0784699785385,302.1278183150738,302.17550507847557,302.2215297976302,302.2658920178437,302.3085913008467,302.34962722479827,302.38899938429074,302.42670739035293,302.4627508704548,302.49712946851037,302.52984284488184,302.56089067638254,302.5902726562805,302.617988494301,302.64403791662994,302.6684206659161,302.69113650127406,302.7121851982863,302.73156654900566,302.74928036195706,302.7653264621398,302.7797046910289,302.792414906577,302.80345698321554,302.8128308118561,302.8205362998914,302.8265733711962,302.8309419661285,302.8336420415292,302.83467357072345,302.83403654352037,302.8317309662134,302.82775686158016,302.82211426888205,302.81480324386433,302.80582385875505,302.79517620226454,302.7828603795847,302.76887651238775,302.753224738825,302.73590521352577,302.71691810759546,302.6962636086141,302.6739419206348,302.64995326418074,302.6242978762443,302.5969760102837,302.56798793622096,302.53733394043917,302.5050143257796,302.47102941153867,302.435379533465,302.3980650437559,302.3590863110538,302.31844372044293,302.2761376734454,302.232168588017,302.1865368985432,302.1392430558351,302.0902875271247,302.03967079606036,301.98739336270194,301.933455743516,301.8778584713708,301.82060209553055,301.7616871816506,301.70111431177145,301.6388840843131,301.57499711406916,301.5094540322008,301.4422554862304,301.37340214003535,301.3028946738413,301.23073378421554,301.15692018406,301.0814546026045,301.0043377853992,300.9255704943073,300.8451535074979,300.7630876194376,300.6793736408834,300.5940123988742,300.5070047367227,300.41835151400744,300.32805360656357,300.236111906475,300.1425273220651,300.0473007778879,299.9504332147188,299.85192558954554,299.75177887555844,299.649994062141,299.5465721548601,299.44151417545595,299.3348211618322,299.22649416804546,299.11653426429496,299.00494253691204,298.89172008834953,298.7768680371704,298.6603875180373,298.54227968170085,298.4225456949887,298.3011867407937,298.17820401806233,298.0535987417827,297.92737214297284,297.7995254686683,297.67005998191,297.5389769617316,297.40627770314677,297.2719635171368,297.1360357306372,296.9984956865251,296.8593447436052,296.7185842765973,296.57621567612176,296.4322403486867,296.2866597166733,296.13947521832233,295.9906883077195,295.8403004547814,295.6883131452409,295.53472788063243,295.37954617827705,295.22276957126775,295.064399608454,294.90443785442665,294.7428858895024,294.579745309708,294.415017726765,294.24870476807314,294.08080807669495,293.91132931133893,293.7402701463437,293.56763227166084,293.3934173928388,293.21762723100574,293.04026352285257,292.8613280206157,292.6808224920601,292.4987487204611,292.3151085045878,292.1299036586844,291.94313601245244,291.7548074110334,291.56491971498957,291.3734748002862,291.18047455827286,290.98592089566466,290.78981573452353,290.5921610122391,290.39295868150987,290.19221071032337,289.9899190819373,289.78608579485945,289.5807128628285,289.37380231479335,289.1653561948941,288.95537656244073,288.74386549189376,288.53082507284296,288.31625740998726,288.10016462311376,287.88254884707663,287.6634122317763,287.4427569421381,287.22058515809067,286.9968990745449,286.7717009013718,286.5449928633808,286.3167772002978,286.0870561667432,285.8558320322092,285.6231070810379,285.38888361239844,285.1531639402641,284.91595039339006,284.6772453152895,284.43705106421135,284.1953700131164,283.9522045496542,283.7075570761391,283.46143000952685,283.2138257813906,282.9647468378969,282.71419563978145,282.46217466232497,282.2086863953284,281.95373334308886,281.69731802437434,281.4394429723991,281.18011073479875,280.91932387360464,280.65708496521916,280.3933966003898,280.12826138418365,279.861681935962,279.5936608893539,279.32420089223064,279.0533046066793,278.78097470897666,278.50721388956254,278.23202485301323,277.9554103180151,277.67737301733723,277.39791569780505,277.1170411202724,276.8347520595951,276.5510513046029,276.2659416580721,275.9794259366982,275.6915069710675,275.40218760562965,275.1114706986691,274.81935912227743,274.5258557623242,274.2309635184292,273.9346853039333,273.63702404587,273.33798268493626,273.03756417546356,272.7357714853887,272.43260759622444,272.1280755030301,271.8221782143822,271.514918752344,271.20630015243654,270.89632546360804,270.58499774820416,270.2723200819373,269.95829555385694,269.642927266318,269.3262183349515,269.0081718886328,268.6887910694511,268.3680790326783,268.04603894673784],\"y\":[-1.4210854715202004e-14,0.4204873923059438,0.8399542206585551,1.2583963410020118,1.6758096194042196,2.0921899320970994,2.5075331655176996,2.921835216348711,3.3350919915589827,3.7472994084441495,4.158453394666637,4.568549888296161,4.977584837849747,5.385554202331704,5.792453951273828,6.198280064774792,6.603028533540183,7.006695358921959,7.409276552958005,7.810768138411646,8.211166148810676,8.61046662848672,9.008665632614296,9.40575922724986,9.801743489370438,10.196614506912638,10.590368378811107,10.983001215037191,11.3745091366374,11.764888275771568,12.154134775751174,12.542244791077465,12.929214487479271,13.31504004195125,13.699717642791285,14.083243489638278,14.465613793509704,14.846824776839043,15.226872673513228,15.60575372890952,15.983464199932925,16.360000355053018,16.735358474340785,17.109534849505593,17.482525783931493,17.854327592713986,18.22493660269633,18.5943491525058,18.962561592590063,19.329570285252927,19.695371604690507,20.059961937026927,20.42333768035003,20.78549524474714,21.146431052340276,21.50614153732161,21.864623145988716,22.22187233677961,22.57788558030792,22.932659359397462,23.286190169117233,23.638474516815876,23.989508922156375,24.339289917150197,24.687814046191747,25.035077866092408,25.38107794611453,25.725810868005553,26.069273226031484,26.411461627010638,26.752372690347258,27.092003048064683,27.43034934483906,27.76740823803202,28.103176397723885,28.437650506746607,28.7708272607165,29.102703368066997,29.433275550080893,29.762540540922984,30.090495087672295,30.417135950354023,30.74245990197197,31.06646372853986,31.389144229113512,31.710498215822398,32.03052251390089,32.34921396172008,32.66656941081847,32.98258572593345,33.29725978503221,33.610588479342525,33.92256871338351,34.23319740499609,34.54247148537361,34.8503878990921,35.156943604140295,35.46213557195007,35.76596078742595,36.06841624897517,36.36949896853706,36.66920597161301,36.96753429729533,37.26448099829689,37.560043140980085,37.85421780538577,38.1470020852622,38.438393088093804,38.72838793512956,39.01698376141154,39.30417771580328,39.58996696101788,39.874348673646026,40.15732004418386,40.43887827706082,40.7190205906672,40.99774421738165,41.27504640359852,41.55092440975504,41.82537551035837,42.09839699401256,42.36998616344543,42.64014033553504,42.90885684133623,43.176133026107166,43.44196624933524,43.70635388476363,43.969293320416725,44.23078195862625,44.49081721605687,44.74939652373173,45.00651732705775,45.262177085850894,45.5163732743613,45.76910338129822,46.02036490985479,46.27015537773288,46.51847231716725,46.765313274950344,47.010675812456114,47.254557505664636,47.49695594518546,47.73786873628184,47.97729349889424,48.21522786766387,48.451669491956,48.68661603588335,48.920065178328926,49.152014612969126,49.382462048296404,49.611405207642136,49.83884182919881,50.06476966604252,50.28918648615526,50.51209007244675,50.733478222776554,50.95334874997572,51.1716994818684,51.388528261293274,51.603832946125024,51.81761140929531,52.02986153881382,52.24058123778927,52.449768424449886,52.657421032164265,52.863537009461524,53.06811432005169,53.271150942845864,53.47264487197596,53.67259411681492,53.87099670199602,54.067850667432495,54.26315406833699,54.45690497524059,54.64910147401217,54.839741665877014,55.0288236674357,55.21634561068272,55.40230564302492,55.586701927299785,55.76953264179362,55.950795980259485,56.13049015193509,56.308613381560534,56.485163909395695,56.66013999123784,56.83353989843856,57.00536191792118,57.17560435219734,57.34426551938411,57.511343753220316,57.67683740308321,57.84074483400458,58.00306442668712,58.16379457752025,58.32293369859606,58.480480217725,58.63643257845125,58.79078924006838,58.9435486776343,59.094709381986505,59.24426985975687,59.39222863338652,59.5385842411403,59.68333523712131,59.82648019128517,59.968017689454044,60.107946333330815,60.24626474051276,60.38297154450514,60.51806539473493,60.65154495656397,60.78340891130212,60.91365595622047,61.04228480456415,61.16929418556488,61.29468284445373,61.418449542473425,61.540593056890614,61.66111218100788,61.78000572417575,61.89727251180436,62.01291138537523,62.12692120245249,62.23930083669437,62.35004917786411,62.45916513184112,62.56664762063174,62.67249558237988,62.776707971377405,62.87928375807466,62.98022192909049,63.079521487222294,63.17718145145595,63.27320085697538,63.36757875517215,63.460314213654854,63.55140631625831,63.640854163052595,63.728656870352,63.81481357072364,63.89932341299608,63.982185562267816,64.06339919991551,64.14296352360189,64.22087774728395,64.29714110122045,64.37175283197983,64.44471220244732,64.51601849183247,64.58567099567615,64.65366902585752,64.72001191060092,64.78469899448238,64.84772963843612,64.90910321976098,64.96881913212643,65.02687678557861,65.08327560654617,65.13801503784599,65.19109453868855,65.24251358468338,65.29227166784419,65.34036829659398,65.38680299576971,65.43157530662721,65.47468478684551,65.51613101053142,65.55591356822357,65.59403206689653,65.63048612996464,65.66527539728578,65.69839952516496,65.72985818635762,65.75965107007293,65.78777788197682,65.81423834419498,65.83903219531543,65.86215919039132,65.88361910094319,65.9034117149612,65.92153683690746,65.93799428771764,65.95278390480307,65.965905542052,65.97735906983134,65.98714437498775,65.99526136084894,66.0017099472244,66.00649007040631,66.00960168317026,66.01104475477554,66.01081927096557,66.00892523396799,66.00536266249462,66.0001315917413,65.99323207338757,65.98466417559617,65.97442798301223,65.96252359676258,65.94895113445473,65.93371073017566,65.91680253449049,65.89822671444107,65.87798345354427,65.85607295179013,65.83249542563998,65.8072511080242,65.78034024834004,65.75176311244904,65.72151998267448,65.6896111577985,65.65603695305929,65.6207977001478,65.58389374720473,65.54532545881669,65.50509321601298,65.46319741626162,65.41963847346553,65.3744168179583,65.32753289650013,65.27898717227318,65.22878012487722,65.1769122503248,65.12338406103633,65.068196085835,65.01134886994161,64.95284297496922,64.89267897891746,64.83085747616694,64.76737907747336,64.70224440996147,64.63545411711881,64.56700885878944,64.49690931116739,64.42515616678996,64.35175013453095,64.2766919395935,64.19998232350316,64.1216220441003,64.04161187553284,63.959952608248486,63.87664504898699,63.791690020772094,63.705088362903425,63.61684093094833,63.52694859673319,63.435412248335055,63.342232790072686,63.247411142497654,63.15094824238538,63.05284504272565,62.95310251271344,62.8517216377392,62.74870341937911,62.644048875385224,62.537759039675464,62.42983496232334,62.32027770954754,62.209088363701525,62.09626802326271,61.98181780282168,61.86573883307112,61.74803226079477,61.62869924885594,61.5077409761861,61.385158637773216,61.26095344465001,61.1351266238819,61.00767941855487,60.878613087763355,60.74792890659752,60.615628166130975,60.481712173407786,60.34618225142968,60.20903973914291,60.07028599142508,59.929922379071755,59.78795028878285,59.64437112314904,59.499186300637845,59.35239725557953,59.20400543815309,59.05401231437186,58.902419366069026,58.74922809088294,58.59444000224239,58.43805662935169,58.280079517175395,58.12051022642329,57.95935033353469,57.79660143066313,57.632265125660425,57.466343042060956,57.2988368190655,57.1297481115251,56.95907858992469,56.786829940366644,56.613003864554074,56.437602079773924,56.260626318880256,56.08207833027687,55.90195987790018,55.720272741201754,55.53701871513071,55.35219961011599,55.165817252048484,54.977873482263035,54.78837015752019,54.59730914998782,54.404692347222706,54.21052165215188,54.01479898305381,53.81752627353934,53.61870547253291,53.41833854425282,53.21642746819229,53.01297423909962,52.807980866958545,52.60144937696846,52.393381809524314,52.183780220196454,51.97264667971042,51.75998327392638,51.545792103818584,51.330075285454555,51.11283494997424,50.89407324356891,50.67379232746002,50.45199437787777,50.228681586039684,50.00385615812887,49.77752031527238,49.549676293519084,49.320326343817655,49.08947273199446,48.85711773873096,48.62326365954125,48.38791280474949,48.15106749946692,47.91273008356903,47.67290291167235,47.43158835311122,47.18878879191438,46.94450662678135,46.69874427105894,46.451504152717135,46.20278871432534,45.952600413028065,45.70094172052082,45.447815123025535,45.19322312126609,44.93716823044362,44.67965298021163,44.42067991465102,44.160251592244904,43.898370585853414,43.63503948268824,43.37026088428708,43.10403740648785,42.83637167940306,42.567266347393556,42.29672406904264,42.024747517129654,41.75133937860356,41.47650235455656,41.2002391601972,40.9225525248237,40.64344519179697,40.36291991851341,40.080979476377806,39.7976266507758,39.5128642410465,39.22669506045476,38.9391219361634,38.65014770920534,38.35977523445534,38.06800738060208,37.77484703011952,37.48029707923867,37.18436043791887,36.88704002981895,36.5883387922686,36.288259676239065,35.98680564631415,35.683979680660926,35.3797847710003,35.07422392257742,34.767300154131945,34.45901649786843,34.149375999426084,33.83838171784889,33.52603672555536,33.21234410830802,32.89730696518312,32.58092840853995,32.263211563990026,31.944159570366324,31.62377557969218,31.302062757150182,30.979024281050883,30.65466334280147,30.328983146874194,30.001986910774562,29.673677865009907,29.34405925305704,29.01313433133062,28.680906369150605,28.34737864871026,28.01255446504358,27.676437125992706,27.33902995217541,27.000336276951984,26.660359446392746,26.319102819244605,25.976569766898038,25.63276367335375,25.287687935189254,24.941345961525343,24.593741173992413,24.24487700669654,23.894756906185705,23.54338433141561,23.190762753715717,22.836895656754635,22.481786536506036,22.12543890121387,21.76785627135783,21.409042179618552,21.049000170842675,20.68773380200787,20.325246642187693,19.96154227251624,19.596624286152974,19.230496288246897,18.8631618959013,18.4946247381378,18.12488845586047,17.7539567018201,17.38183314057777,17.00852144846894,16.63402531356705,16.25834843564695,15.881494526148543,15.503467308139932,15.124270516280845,14.74390789678553,14.362383207385918,13.979700217294422,13.595862707166617,13.21087446906408,12.824739306416717,12.437461033985429,12.049043477824156,11.65949047524228,11.268805874766628,10.876993536103456,10.484057330100342,10.090001138707976,9.694828854941662,9.298544382843062,8.90115163744143,8.502654544715185,8.10305704155276,7.702363075714047,7.300576605791321,6.8977016011699135,6.493742041989307,6.0887019191035705,5.682585234042094,5.275395998969955,4.867138236648316,4.4578159803947415,4.0474332740432,3.6359941719042865,3.223502738725074,2.809963049648914,2.395379190175362,1.9797552561195175,1.5630953535718533,1.1454035988575413,0.7266841184956547,0.3069410491586808,-0.11382146236870483,-0.5355992592302101,-0.9583881745393512,-1.3821840314203797,-1.8069826430495937,-2.2327798126968617,-2.659571333766806,-3.0873529898406957,-3.516120554717716,-3.945869792457046,-4.376596457419566,-4.808296294309798,-5.240965038217993,-5.674598414662242,-6.109192139630622,-6.54474191962376,-6.9812434516968835,-7.418692423502762,-7.857084513333859,-8.296415390165464,-8.736680713698135,-9.17787613440072,-9.619997293553382,-10.063039823290538,-10.50699934664415,-10.951871477586792,-11.39765182107513,-11.844335973093294,-12.291919520696311,-12.74039804205394,-13.189767106493989,-13.640022274546382,-14.091159097986974,-14.543173119881317,-14.996059874628955,-15.449814888007339,-15.904433677216048,-16.359911750921256,-16.816244609299844,-17.27342774408409,-17.731456638605977,-18.190326767842095,-18.650033598458066,-19.110572588853472,-19.571939189206788,-20.0341288415201,-20.497136979664475,-20.960959029424714,-21.425590408544764,-21.89102652677299,-22.357262785907338,-22.82429457984105,-23.292117294607877,-23.760726308427806,-24.23011699175278,-24.70028470731235,-25.171224810159444,-25.642932647716364,-26.11540355982065,-26.588632878771136,-27.062615929374317,-27.537348028990053,-28.01282448757823,-28.489040607744897,-28.965991684788733,-29.44367300674766,-29.9220798544451,-30.401207501536817,-30.881051214557502,-31.36160625296776,-31.84286786920059,-32.32483130870851,-32.80749181001052,-33.29084460473902,-33.77488491768722,-34.25960796685587,-34.74500896350088,-35.231083112180386,-35.71782561080222,-36.205231650671564,-36.69329641653802,-37.18201508664349,-37.67138283276972,-38.16139482028599,-38.65204620819705,-39.14333214919062,-39.635247789685494,-40.1277882698795,-40.62094872379736,-41.11472427933906,-41.6091100583276,-42.10410117655745,-42.59969274384271,-43.095879864065374,-43.592657635223986,-44.09002114948162,-44.58796549321469,-45.08648574706137,-45.58557698597015,-46.08523427924882,-46.58545269061266,-47.08622727823358,-47.58755309478882,-48.089425187509754,-48.59183859823117,-49.09478836343973,-49.59826951432338,-50.102277076820194,-50.60680607166791,-51.111851514452646,-51.617408415658396,-52.12347178071631,-52.63003661005391,-53.13709789914482,-53.64465063855774,-54.15268981400625,-54.66121040639825,-55.17020739188549,-55.679675741913485,-56.18961042327078,-56.700006398138896,-57.210858624142155,-57.72216205439727,-58.23391163756364,-58.74610231789268,-59.258729035278186,-59.771786725306164,-60.28527031930482,-60.79917474439496,-61.31349492353961,-61.82822577559449,-62.343362215358155,-62.858899153622154,-63.37483149722157,-63.89115414908495,-64.4078620082849,-64.92494997008845,-65.44241292600739,-65.96024576384904,-66.47844336776629,-66.99700061830849,-67.51591239247188,-68.03517356375016,-68.55477900218551,-69.0747235744187,-69.59500214374012,-70.1156095701405,-70.63654071036186,-71.1577904179479,-71.67935354329518,-72.20122493370391,-72.72339943342874,-73.24587188373005,-73.76863712292442,-74.29168998643596,-74.81502530684725,-75.33863791395025,-75.86252263479781,-76.38667429375424,-76.91108771254667,-77.43575771031634,-77.96067910366948,-78.48584670672895,-79.01125533118505,-79.53689978634696,-80.06277487919402,-80.58887541442698,-81.11519619451954,-81.64173201976934,-82.16847768834958,-82.69542799636034,-83.22257773787994,-83.74992170501663,-84.27745468795965,-84.8051714750309,-85.33306685273648,-85.86113560581803,-86.38937251730458,-86.91777236856365,-87.44632993935309,-87.97504000787256,-88.50389735081515,-89.0328967434191,-89.56203295951913,-90.09130077159828,-90.62069495083946,-91.15021026717737,-91.67984148934973,-92.20958338494923,-92.73943072047523,-93.26937826138531,-93.79942077214733,-94.32955301629065,-94.85976975645825,-95.3900657544583,-95.92043577131591,-96.45087456732512,-96.98137690210031,-97.51193753462815,-98.0425512233194,-98.57321272606062,-99.10391680026613,-99.63465820292956,-100.16543169067573,-100.69623201981256,-101.22705394638267,-101.75789222621556,-102.28874161497893,-102.81959686823085,-103.35045274147137,-103.88130399019443,-104.41214536993981,-104.94297163634462,-105.47377754519532,-106.00455785247948,-106.53530731443757,-107.06602068761498,-107.59669272891341,-108.12731819564297,-108.6578918455739,-109.18840843698828,-109.71886272873212,-110.24924948026667,-110.77956345172052,-111.30979940394128,-111.83995209854726,-112.3700162979795,-112.89998676555315,-113.4298582655094,-113.95962556306709,-114.48928342447476,-115.0188266170619,-115.54824990929087,-116.07754807080862,-116.6067158724982,-117.13574808653077,-117.66463948641679,-118.19338484705793,-118.72197894479864,-119.25041655747765,-119.77869246447993,-120.30680144678773,-120.8347382870325,-121.36249776954632,-121.89007468041342,-122.41746380752187,-122.94465994061477,-123.4716578713419,-123.99845239331115,-124.52503830213992,-125.05141039550674,-125.5775634732023,-126.10349233718111,-126.62919179161273,-127.15465664293309,-127.67988169989604,-128.20486177362426,-128.72959167766072,-129.25406622801992,-129.77828024323907,-130.30222854442943,-130.8259059553272,-131.34930730234476,-131.8724274146219,-132.39526112407682,-132.91780326545725,-133.4400486763913,-133.96199219743866,-134.48362867214138,-135.00495294707514,-135.52595987189974,-136.0466442994103,-136.56700108558798,-137.0870250896507,-137.6067111741043,-138.1260542047929,-138.6450490509497,-139.16369058524782,-139.6819736838508,-140.19989322646344,-140.7174440963821,-141.2346211805454,-141.7514193695847,-142.2678335578746,-142.78385864358353,-143.2994895287238,-143.81472111920218,-144.3295483248703,-144.84396605957474,-145.35796924120757,-145.87155279175616,-146.38471163735366,-146.89744070832901,-147.40973493925696,-147.92158926900842,-148.4329986408,-148.94395800224436,-149.45446230539977,-149.9645065068203,-150.47408556760564,-150.9831944534506,-151.49182813469506,-151.99998158637354,-152.50764978826493,-153.01482772494228,-153.52151038582184,-154.027692765213,-154.53336986236755,-155.03853668152928,-155.54318823198304,-156.0473195281042,-156.55092558940794,-157.05400144059834,-157.55654211161783,-158.05854263769587,-158.55999805939817,-159.06090342267584,-159.56125377891405,-160.0610441849813,-160.56026970327787,-161.05892540178473,-161.5570063541124,-162.05450763954934,-162.55142434311102,-163.047751555588,-163.54348437359462,-164.03861789961752,-164.53314724206376,-165.0270675153097,-165.52037383974863,-166.01306134183926,-166.50512515415392,-166.99656041542653,-167.48736227060078,-167.97752587087797,-168.46704637376484,-168.95591894312156,-169.44413874920943,-169.93170096873877,-170.4186007849163,-170.90483338749274,-171.39039397281064,-171.87527774385148,-172.35947991028343,-172.8429956885082,-173.3258203017088,-173.80794897989625,-174.2893769599572,-174.7700994857006,-175.2501118079048,-175.72940918436456,-176.20798687993778,-176.6858401665924,-177.16296432345302,-177.6393546368475,-178.11500640035365,-178.58991491484562,-179.06407548854048,-179.53748343704433,-180.01013408339878,-180.48202275812707,-180.95314479928015,-181.42349555248296,-181.89307037098015,-182.36186461568212,-182.82987365521078,-183.29709286594533,-183.76351763206813,-184.22914334561,-184.6939654064958,-185.15797922259014,-185.62118020974225,-186.08356379183203,-186.5451254008144,-187.00586047676504,-187.4657644679251,-187.92483283074637,-188.38306102993613,-188.84044453850197,-189.29697883779625,-189.75265941756112,-190.2074817759729,-190.66144141968664,-191.11453386388024,-191.5667546322992,-192.01809925730032,-192.46856327989647,-192.91814224980004,-193.3668317254672,-193.81462727414174,-194.2615244718988,-194.70751890368894,-195.15260616338105,-195.59678185380653,-196.04004158680237,-196.4823809832546,-196.92379567314174,-197.36428129557768,-197.80383349885483,-198.24244794048724,-198.68012028725337,-199.11684621523906,-199.5526214098801,-199.98744156600483,-200.42130238787684,-200.8541995892371,-201.2861288933469,-201.7170860330294,-202.14706675071218,-202.57606679846924,-203.00408193806294,-203.43110794098595,-203.8571405885029,-204.28217567169213,-204.7062089914872,-205.12923635871843,-205.55125359415447]}],                        {\"template\":{\"data\":{\"barpolar\":[{\"marker\":{\"line\":{\"color\":\"#E5ECF6\",\"width\":0.5},\"pattern\":{\"fillmode\":\"overlay\",\"size\":10,\"solidity\":0.2}},\"type\":\"barpolar\"}],\"bar\":[{\"error_x\":{\"color\":\"#2a3f5f\"},\"error_y\":{\"color\":\"#2a3f5f\"},\"marker\":{\"line\":{\"color\":\"#E5ECF6\",\"width\":0.5},\"pattern\":{\"fillmode\":\"overlay\",\"size\":10,\"solidity\":0.2}},\"type\":\"bar\"}],\"carpet\":[{\"aaxis\":{\"endlinecolor\":\"#2a3f5f\",\"gridcolor\":\"white\",\"linecolor\":\"white\",\"minorgridcolor\":\"white\",\"startlinecolor\":\"#2a3f5f\"},\"baxis\":{\"endlinecolor\":\"#2a3f5f\",\"gridcolor\":\"white\",\"linecolor\":\"white\",\"minorgridcolor\":\"white\",\"startlinecolor\":\"#2a3f5f\"},\"type\":\"carpet\"}],\"choropleth\":[{\"colorbar\":{\"outlinewidth\":0,\"ticks\":\"\"},\"type\":\"choropleth\"}],\"contourcarpet\":[{\"colorbar\":{\"outlinewidth\":0,\"ticks\":\"\"},\"type\":\"contourcarpet\"}],\"contour\":[{\"colorbar\":{\"outlinewidth\":0,\"ticks\":\"\"},\"colorscale\":[[0.0,\"#0d0887\"],[0.1111111111111111,\"#46039f\"],[0.2222222222222222,\"#7201a8\"],[0.3333333333333333,\"#9c179e\"],[0.4444444444444444,\"#bd3786\"],[0.5555555555555556,\"#d8576b\"],[0.6666666666666666,\"#ed7953\"],[0.7777777777777778,\"#fb9f3a\"],[0.8888888888888888,\"#fdca26\"],[1.0,\"#f0f921\"]],\"type\":\"contour\"}],\"heatmapgl\":[{\"colorbar\":{\"outlinewidth\":0,\"ticks\":\"\"},\"colorscale\":[[0.0,\"#0d0887\"],[0.1111111111111111,\"#46039f\"],[0.2222222222222222,\"#7201a8\"],[0.3333333333333333,\"#9c179e\"],[0.4444444444444444,\"#bd3786\"],[0.5555555555555556,\"#d8576b\"],[0.6666666666666666,\"#ed7953\"],[0.7777777777777778,\"#fb9f3a\"],[0.8888888888888888,\"#fdca26\"],[1.0,\"#f0f921\"]],\"type\":\"heatmapgl\"}],\"heatmap\":[{\"colorbar\":{\"outlinewidth\":0,\"ticks\":\"\"},\"colorscale\":[[0.0,\"#0d0887\"],[0.1111111111111111,\"#46039f\"],[0.2222222222222222,\"#7201a8\"],[0.3333333333333333,\"#9c179e\"],[0.4444444444444444,\"#bd3786\"],[0.5555555555555556,\"#d8576b\"],[0.6666666666666666,\"#ed7953\"],[0.7777777777777778,\"#fb9f3a\"],[0.8888888888888888,\"#fdca26\"],[1.0,\"#f0f921\"]],\"type\":\"heatmap\"}],\"histogram2dcontour\":[{\"colorbar\":{\"outlinewidth\":0,\"ticks\":\"\"},\"colorscale\":[[0.0,\"#0d0887\"],[0.1111111111111111,\"#46039f\"],[0.2222222222222222,\"#7201a8\"],[0.3333333333333333,\"#9c179e\"],[0.4444444444444444,\"#bd3786\"],[0.5555555555555556,\"#d8576b\"],[0.6666666666666666,\"#ed7953\"],[0.7777777777777778,\"#fb9f3a\"],[0.8888888888888888,\"#fdca26\"],[1.0,\"#f0f921\"]],\"type\":\"histogram2dcontour\"}],\"histogram2d\":[{\"colorbar\":{\"outlinewidth\":0,\"ticks\":\"\"},\"colorscale\":[[0.0,\"#0d0887\"],[0.1111111111111111,\"#46039f\"],[0.2222222222222222,\"#7201a8\"],[0.3333333333333333,\"#9c179e\"],[0.4444444444444444,\"#bd3786\"],[0.5555555555555556,\"#d8576b\"],[0.6666666666666666,\"#ed7953\"],[0.7777777777777778,\"#fb9f3a\"],[0.8888888888888888,\"#fdca26\"],[1.0,\"#f0f921\"]],\"type\":\"histogram2d\"}],\"histogram\":[{\"marker\":{\"pattern\":{\"fillmode\":\"overlay\",\"size\":10,\"solidity\":0.2}},\"type\":\"histogram\"}],\"mesh3d\":[{\"colorbar\":{\"outlinewidth\":0,\"ticks\":\"\"},\"type\":\"mesh3d\"}],\"parcoords\":[{\"line\":{\"colorbar\":{\"outlinewidth\":0,\"ticks\":\"\"}},\"type\":\"parcoords\"}],\"pie\":[{\"automargin\":true,\"type\":\"pie\"}],\"scatter3d\":[{\"line\":{\"colorbar\":{\"outlinewidth\":0,\"ticks\":\"\"}},\"marker\":{\"colorbar\":{\"outlinewidth\":0,\"ticks\":\"\"}},\"type\":\"scatter3d\"}],\"scattercarpet\":[{\"marker\":{\"colorbar\":{\"outlinewidth\":0,\"ticks\":\"\"}},\"type\":\"scattercarpet\"}],\"scattergeo\":[{\"marker\":{\"colorbar\":{\"outlinewidth\":0,\"ticks\":\"\"}},\"type\":\"scattergeo\"}],\"scattergl\":[{\"marker\":{\"colorbar\":{\"outlinewidth\":0,\"ticks\":\"\"}},\"type\":\"scattergl\"}],\"scattermapbox\":[{\"marker\":{\"colorbar\":{\"outlinewidth\":0,\"ticks\":\"\"}},\"type\":\"scattermapbox\"}],\"scatterpolargl\":[{\"marker\":{\"colorbar\":{\"outlinewidth\":0,\"ticks\":\"\"}},\"type\":\"scatterpolargl\"}],\"scatterpolar\":[{\"marker\":{\"colorbar\":{\"outlinewidth\":0,\"ticks\":\"\"}},\"type\":\"scatterpolar\"}],\"scatter\":[{\"fillpattern\":{\"fillmode\":\"overlay\",\"size\":10,\"solidity\":0.2},\"type\":\"scatter\"}],\"scatterternary\":[{\"marker\":{\"colorbar\":{\"outlinewidth\":0,\"ticks\":\"\"}},\"type\":\"scatterternary\"}],\"surface\":[{\"colorbar\":{\"outlinewidth\":0,\"ticks\":\"\"},\"colorscale\":[[0.0,\"#0d0887\"],[0.1111111111111111,\"#46039f\"],[0.2222222222222222,\"#7201a8\"],[0.3333333333333333,\"#9c179e\"],[0.4444444444444444,\"#bd3786\"],[0.5555555555555556,\"#d8576b\"],[0.6666666666666666,\"#ed7953\"],[0.7777777777777778,\"#fb9f3a\"],[0.8888888888888888,\"#fdca26\"],[1.0,\"#f0f921\"]],\"type\":\"surface\"}],\"table\":[{\"cells\":{\"fill\":{\"color\":\"#EBF0F8\"},\"line\":{\"color\":\"white\"}},\"header\":{\"fill\":{\"color\":\"#C8D4E3\"},\"line\":{\"color\":\"white\"}},\"type\":\"table\"}]},\"layout\":{\"annotationdefaults\":{\"arrowcolor\":\"#2a3f5f\",\"arrowhead\":0,\"arrowwidth\":1},\"autotypenumbers\":\"strict\",\"coloraxis\":{\"colorbar\":{\"outlinewidth\":0,\"ticks\":\"\"}},\"colorscale\":{\"diverging\":[[0,\"#8e0152\"],[0.1,\"#c51b7d\"],[0.2,\"#de77ae\"],[0.3,\"#f1b6da\"],[0.4,\"#fde0ef\"],[0.5,\"#f7f7f7\"],[0.6,\"#e6f5d0\"],[0.7,\"#b8e186\"],[0.8,\"#7fbc41\"],[0.9,\"#4d9221\"],[1,\"#276419\"]],\"sequential\":[[0.0,\"#0d0887\"],[0.1111111111111111,\"#46039f\"],[0.2222222222222222,\"#7201a8\"],[0.3333333333333333,\"#9c179e\"],[0.4444444444444444,\"#bd3786\"],[0.5555555555555556,\"#d8576b\"],[0.6666666666666666,\"#ed7953\"],[0.7777777777777778,\"#fb9f3a\"],[0.8888888888888888,\"#fdca26\"],[1.0,\"#f0f921\"]],\"sequentialminus\":[[0.0,\"#0d0887\"],[0.1111111111111111,\"#46039f\"],[0.2222222222222222,\"#7201a8\"],[0.3333333333333333,\"#9c179e\"],[0.4444444444444444,\"#bd3786\"],[0.5555555555555556,\"#d8576b\"],[0.6666666666666666,\"#ed7953\"],[0.7777777777777778,\"#fb9f3a\"],[0.8888888888888888,\"#fdca26\"],[1.0,\"#f0f921\"]]},\"colorway\":[\"#636efa\",\"#EF553B\",\"#00cc96\",\"#ab63fa\",\"#FFA15A\",\"#19d3f3\",\"#FF6692\",\"#B6E880\",\"#FF97FF\",\"#FECB52\"],\"font\":{\"color\":\"#2a3f5f\"},\"geo\":{\"bgcolor\":\"white\",\"lakecolor\":\"white\",\"landcolor\":\"#E5ECF6\",\"showlakes\":true,\"showland\":true,\"subunitcolor\":\"white\"},\"hoverlabel\":{\"align\":\"left\"},\"hovermode\":\"closest\",\"mapbox\":{\"style\":\"light\"},\"paper_bgcolor\":\"white\",\"plot_bgcolor\":\"#E5ECF6\",\"polar\":{\"angularaxis\":{\"gridcolor\":\"white\",\"linecolor\":\"white\",\"ticks\":\"\"},\"bgcolor\":\"#E5ECF6\",\"radialaxis\":{\"gridcolor\":\"white\",\"linecolor\":\"white\",\"ticks\":\"\"}},\"scene\":{\"xaxis\":{\"backgroundcolor\":\"#E5ECF6\",\"gridcolor\":\"white\",\"gridwidth\":2,\"linecolor\":\"white\",\"showbackground\":true,\"ticks\":\"\",\"zerolinecolor\":\"white\"},\"yaxis\":{\"backgroundcolor\":\"#E5ECF6\",\"gridcolor\":\"white\",\"gridwidth\":2,\"linecolor\":\"white\",\"showbackground\":true,\"ticks\":\"\",\"zerolinecolor\":\"white\"},\"zaxis\":{\"backgroundcolor\":\"#E5ECF6\",\"gridcolor\":\"white\",\"gridwidth\":2,\"linecolor\":\"white\",\"showbackground\":true,\"ticks\":\"\",\"zerolinecolor\":\"white\"}},\"shapedefaults\":{\"line\":{\"color\":\"#2a3f5f\"}},\"ternary\":{\"aaxis\":{\"gridcolor\":\"white\",\"linecolor\":\"white\",\"ticks\":\"\"},\"baxis\":{\"gridcolor\":\"white\",\"linecolor\":\"white\",\"ticks\":\"\"},\"bgcolor\":\"#E5ECF6\",\"caxis\":{\"gridcolor\":\"white\",\"linecolor\":\"white\",\"ticks\":\"\"}},\"title\":{\"x\":0.05},\"xaxis\":{\"automargin\":true,\"gridcolor\":\"white\",\"linecolor\":\"white\",\"ticks\":\"\",\"title\":{\"standoff\":15},\"zerolinecolor\":\"white\",\"zerolinewidth\":2},\"yaxis\":{\"automargin\":true,\"gridcolor\":\"white\",\"linecolor\":\"white\",\"ticks\":\"\",\"title\":{\"standoff\":15},\"zerolinecolor\":\"white\",\"zerolinewidth\":2}}},\"xaxis\":{\"range\":[-60,60],\"title\":{\"text\":\"X\"}},\"yaxis\":{\"range\":[-60,60],\"title\":{\"text\":\"Y\"}},\"width\":500,\"height\":500,\"showlegend\":false,\"title\":{\"text\":\"Hits in the GlueX CDC\"},\"shapes\":[{\"line\":{\"color\":\"black\"},\"type\":\"circle\",\"x0\":-10.5,\"x1\":10.5,\"xref\":\"x\",\"y0\":-10.5,\"y1\":10.5,\"yref\":\"y\"},{\"line\":{\"color\":\"black\"},\"type\":\"circle\",\"x0\":-55,\"x1\":55,\"xref\":\"x\",\"y0\":-55,\"y1\":55,\"yref\":\"y\"}]},                        {\"responsive\": true}                    ).then(function(){\n                            \nvar gd = document.getElementById('81e20c60-c4d5-4116-b87e-120f2e1a86a0');\nvar x = new MutationObserver(function (mutations, observer) {{\n        var display = window.getComputedStyle(gd).display;\n        if (!display || display === 'none') {{\n            console.log([gd, 'removed!']);\n            Plotly.purge(gd);\n            observer.disconnect();\n        }}\n}});\n\n// Listen for the removal of the full notebook cells\nvar notebookContainer = gd.closest('#notebook-container');\nif (notebookContainer) {{\n    x.observe(notebookContainer, {childList: true});\n}}\n\n// Listen for the clearing of the current output cell\nvar outputEl = gd.closest('.output');\nif (outputEl) {{\n    x.observe(outputEl, {childList: true});\n}}\n\n                        })                };                            </script>        </div>\n</body>\n</html>"
                },
                "metadata": {}
              }
            ]
          }
        },
        "49e7432020ea410595a2d00eb556f6b7": {
          "model_module": "@jupyter-widgets/base",
          "model_name": "LayoutModel",
          "model_module_version": "1.2.0",
          "state": {
            "_model_module": "@jupyter-widgets/base",
            "_model_module_version": "1.2.0",
            "_model_name": "LayoutModel",
            "_view_count": null,
            "_view_module": "@jupyter-widgets/base",
            "_view_module_version": "1.2.0",
            "_view_name": "LayoutView",
            "align_content": null,
            "align_items": null,
            "align_self": null,
            "border": null,
            "bottom": null,
            "display": null,
            "flex": null,
            "flex_flow": null,
            "grid_area": null,
            "grid_auto_columns": null,
            "grid_auto_flow": null,
            "grid_auto_rows": null,
            "grid_column": null,
            "grid_gap": null,
            "grid_row": null,
            "grid_template_areas": null,
            "grid_template_columns": null,
            "grid_template_rows": null,
            "height": null,
            "justify_content": null,
            "justify_items": null,
            "left": null,
            "margin": null,
            "max_height": null,
            "max_width": null,
            "min_height": null,
            "min_width": null,
            "object_fit": null,
            "object_position": null,
            "order": null,
            "overflow": null,
            "overflow_x": null,
            "overflow_y": null,
            "padding": null,
            "right": null,
            "top": null,
            "visibility": null,
            "width": null
          }
        },
        "836f1bae3eac46cc9d4296ad477feb1a": {
          "model_module": "@jupyter-widgets/controls",
          "model_name": "FloatSliderModel",
          "model_module_version": "1.5.0",
          "state": {
            "_dom_classes": [],
            "_model_module": "@jupyter-widgets/controls",
            "_model_module_version": "1.5.0",
            "_model_name": "FloatSliderModel",
            "_view_count": null,
            "_view_module": "@jupyter-widgets/controls",
            "_view_module_version": "1.5.0",
            "_view_name": "FloatSliderView",
            "continuous_update": true,
            "description": "z0",
            "description_tooltip": null,
            "disabled": false,
            "layout": "IPY_MODEL_33804ff462c24c169005dd64b07dd667",
            "max": 175,
            "min": 0,
            "orientation": "horizontal",
            "readout": true,
            "readout_format": ".2f",
            "step": 0.1,
            "style": "IPY_MODEL_e1ad421a827745859c76d7108ec43ad8",
            "value": 94.6
          }
        },
        "1fb742d626d9499da31f65f4d26ebd22": {
          "model_module": "@jupyter-widgets/controls",
          "model_name": "FloatSliderModel",
          "model_module_version": "1.5.0",
          "state": {
            "_dom_classes": [],
            "_model_module": "@jupyter-widgets/controls",
            "_model_module_version": "1.5.0",
            "_model_name": "FloatSliderModel",
            "_view_count": null,
            "_view_module": "@jupyter-widgets/controls",
            "_view_module_version": "1.5.0",
            "_view_name": "FloatSliderView",
            "continuous_update": true,
            "description": "px",
            "description_tooltip": null,
            "disabled": false,
            "layout": "IPY_MODEL_25603efe746143c78b799bb84972b2e9",
            "max": 1,
            "min": -1,
            "orientation": "horizontal",
            "readout": true,
            "readout_format": ".2f",
            "step": 0.01,
            "style": "IPY_MODEL_3c4f8475bb7c4922a6686524f0063bd6",
            "value": 0.53
          }
        },
        "cbe2992ccafe4f1498183ae51b83efc3": {
          "model_module": "@jupyter-widgets/controls",
          "model_name": "FloatSliderModel",
          "model_module_version": "1.5.0",
          "state": {
            "_dom_classes": [],
            "_model_module": "@jupyter-widgets/controls",
            "_model_module_version": "1.5.0",
            "_model_name": "FloatSliderModel",
            "_view_count": null,
            "_view_module": "@jupyter-widgets/controls",
            "_view_module_version": "1.5.0",
            "_view_name": "FloatSliderView",
            "continuous_update": true,
            "description": "py",
            "description_tooltip": null,
            "disabled": false,
            "layout": "IPY_MODEL_68f6ec32a18a4bfdaa4090ca9cf4d21d",
            "max": 1,
            "min": -1,
            "orientation": "horizontal",
            "readout": true,
            "readout_format": ".2f",
            "step": 0.01,
            "style": "IPY_MODEL_5b2e1821773f471b81188e84d4fbd6e2",
            "value": 0.69
          }
        },
        "d9e1463698954d18b7598af68835eb77": {
          "model_module": "@jupyter-widgets/controls",
          "model_name": "IntSliderModel",
          "model_module_version": "1.5.0",
          "state": {
            "_dom_classes": [],
            "_model_module": "@jupyter-widgets/controls",
            "_model_module_version": "1.5.0",
            "_model_name": "IntSliderModel",
            "_view_count": null,
            "_view_module": "@jupyter-widgets/controls",
            "_view_module_version": "1.5.0",
            "_view_name": "IntSliderView",
            "continuous_update": true,
            "description": "charge",
            "description_tooltip": null,
            "disabled": false,
            "layout": "IPY_MODEL_bae0b139bada4c3fb6c9a5ccc1a5628f",
            "max": 1,
            "min": -1,
            "orientation": "horizontal",
            "readout": true,
            "readout_format": "d",
            "step": 2,
            "style": "IPY_MODEL_bb988800b8cb47d8bbb41085d3761132",
            "value": 1
          }
        },
        "db2ec27fb3cd4dbb9f6fe74db5914731": {
          "model_module": "@jupyter-widgets/controls",
          "model_name": "FloatSliderModel",
          "model_module_version": "1.5.0",
          "state": {
            "_dom_classes": [],
            "_model_module": "@jupyter-widgets/controls",
            "_model_module_version": "1.5.0",
            "_model_name": "FloatSliderModel",
            "_view_count": null,
            "_view_module": "@jupyter-widgets/controls",
            "_view_module_version": "1.5.0",
            "_view_name": "FloatSliderView",
            "continuous_update": true,
            "description": "t_max",
            "description_tooltip": null,
            "disabled": false,
            "layout": "IPY_MODEL_6eb55c7836dc4dc6a33fde86e7c7a942",
            "max": 6.283185307179586,
            "min": 0,
            "orientation": "horizontal",
            "readout": true,
            "readout_format": ".2f",
            "step": 0.01,
            "style": "IPY_MODEL_b977af9357e749e281598b25210884a4",
            "value": 3.14
          }
        },
        "fa3391568be94db68c42f58fb0a7afa7": {
          "model_module": "@jupyter-widgets/base",
          "model_name": "LayoutModel",
          "model_module_version": "1.2.0",
          "state": {
            "_model_module": "@jupyter-widgets/base",
            "_model_module_version": "1.2.0",
            "_model_name": "LayoutModel",
            "_view_count": null,
            "_view_module": "@jupyter-widgets/base",
            "_view_module_version": "1.2.0",
            "_view_name": "LayoutView",
            "align_content": null,
            "align_items": null,
            "align_self": null,
            "border": null,
            "bottom": null,
            "display": null,
            "flex": null,
            "flex_flow": "row wrap",
            "grid_area": null,
            "grid_auto_columns": null,
            "grid_auto_flow": null,
            "grid_auto_rows": null,
            "grid_column": null,
            "grid_gap": null,
            "grid_row": null,
            "grid_template_areas": null,
            "grid_template_columns": null,
            "grid_template_rows": null,
            "height": null,
            "justify_content": null,
            "justify_items": null,
            "left": null,
            "margin": null,
            "max_height": null,
            "max_width": null,
            "min_height": null,
            "min_width": null,
            "object_fit": null,
            "object_position": null,
            "order": null,
            "overflow": null,
            "overflow_x": null,
            "overflow_y": null,
            "padding": null,
            "right": null,
            "top": null,
            "visibility": null,
            "width": null
          }
        },
        "b5a6c51ec2ec40bdae5354f496b2bb0a": {
          "model_module": "@jupyter-widgets/base",
          "model_name": "LayoutModel",
          "model_module_version": "1.2.0",
          "state": {
            "_model_module": "@jupyter-widgets/base",
            "_model_module_version": "1.2.0",
            "_model_name": "LayoutModel",
            "_view_count": null,
            "_view_module": "@jupyter-widgets/base",
            "_view_module_version": "1.2.0",
            "_view_name": "LayoutView",
            "align_content": null,
            "align_items": null,
            "align_self": null,
            "border": null,
            "bottom": null,
            "display": null,
            "flex": null,
            "flex_flow": null,
            "grid_area": null,
            "grid_auto_columns": null,
            "grid_auto_flow": null,
            "grid_auto_rows": null,
            "grid_column": null,
            "grid_gap": null,
            "grid_row": null,
            "grid_template_areas": null,
            "grid_template_columns": null,
            "grid_template_rows": null,
            "height": null,
            "justify_content": null,
            "justify_items": null,
            "left": null,
            "margin": null,
            "max_height": null,
            "max_width": null,
            "min_height": null,
            "min_width": null,
            "object_fit": null,
            "object_position": null,
            "order": null,
            "overflow": null,
            "overflow_x": null,
            "overflow_y": null,
            "padding": null,
            "right": null,
            "top": null,
            "visibility": null,
            "width": null
          }
        },
        "33804ff462c24c169005dd64b07dd667": {
          "model_module": "@jupyter-widgets/base",
          "model_name": "LayoutModel",
          "model_module_version": "1.2.0",
          "state": {
            "_model_module": "@jupyter-widgets/base",
            "_model_module_version": "1.2.0",
            "_model_name": "LayoutModel",
            "_view_count": null,
            "_view_module": "@jupyter-widgets/base",
            "_view_module_version": "1.2.0",
            "_view_name": "LayoutView",
            "align_content": null,
            "align_items": null,
            "align_self": null,
            "border": null,
            "bottom": null,
            "display": null,
            "flex": null,
            "flex_flow": null,
            "grid_area": null,
            "grid_auto_columns": null,
            "grid_auto_flow": null,
            "grid_auto_rows": null,
            "grid_column": null,
            "grid_gap": null,
            "grid_row": null,
            "grid_template_areas": null,
            "grid_template_columns": null,
            "grid_template_rows": null,
            "height": null,
            "justify_content": null,
            "justify_items": null,
            "left": null,
            "margin": null,
            "max_height": null,
            "max_width": null,
            "min_height": null,
            "min_width": null,
            "object_fit": null,
            "object_position": null,
            "order": null,
            "overflow": null,
            "overflow_x": null,
            "overflow_y": null,
            "padding": null,
            "right": null,
            "top": null,
            "visibility": null,
            "width": null
          }
        },
        "e1ad421a827745859c76d7108ec43ad8": {
          "model_module": "@jupyter-widgets/controls",
          "model_name": "SliderStyleModel",
          "model_module_version": "1.5.0",
          "state": {
            "_model_module": "@jupyter-widgets/controls",
            "_model_module_version": "1.5.0",
            "_model_name": "SliderStyleModel",
            "_view_count": null,
            "_view_module": "@jupyter-widgets/base",
            "_view_module_version": "1.2.0",
            "_view_name": "StyleView",
            "description_width": "",
            "handle_color": null
          }
        },
        "25603efe746143c78b799bb84972b2e9": {
          "model_module": "@jupyter-widgets/base",
          "model_name": "LayoutModel",
          "model_module_version": "1.2.0",
          "state": {
            "_model_module": "@jupyter-widgets/base",
            "_model_module_version": "1.2.0",
            "_model_name": "LayoutModel",
            "_view_count": null,
            "_view_module": "@jupyter-widgets/base",
            "_view_module_version": "1.2.0",
            "_view_name": "LayoutView",
            "align_content": null,
            "align_items": null,
            "align_self": null,
            "border": null,
            "bottom": null,
            "display": null,
            "flex": null,
            "flex_flow": null,
            "grid_area": null,
            "grid_auto_columns": null,
            "grid_auto_flow": null,
            "grid_auto_rows": null,
            "grid_column": null,
            "grid_gap": null,
            "grid_row": null,
            "grid_template_areas": null,
            "grid_template_columns": null,
            "grid_template_rows": null,
            "height": null,
            "justify_content": null,
            "justify_items": null,
            "left": null,
            "margin": null,
            "max_height": null,
            "max_width": null,
            "min_height": null,
            "min_width": null,
            "object_fit": null,
            "object_position": null,
            "order": null,
            "overflow": null,
            "overflow_x": null,
            "overflow_y": null,
            "padding": null,
            "right": null,
            "top": null,
            "visibility": null,
            "width": null
          }
        },
        "3c4f8475bb7c4922a6686524f0063bd6": {
          "model_module": "@jupyter-widgets/controls",
          "model_name": "SliderStyleModel",
          "model_module_version": "1.5.0",
          "state": {
            "_model_module": "@jupyter-widgets/controls",
            "_model_module_version": "1.5.0",
            "_model_name": "SliderStyleModel",
            "_view_count": null,
            "_view_module": "@jupyter-widgets/base",
            "_view_module_version": "1.2.0",
            "_view_name": "StyleView",
            "description_width": "",
            "handle_color": null
          }
        },
        "68f6ec32a18a4bfdaa4090ca9cf4d21d": {
          "model_module": "@jupyter-widgets/base",
          "model_name": "LayoutModel",
          "model_module_version": "1.2.0",
          "state": {
            "_model_module": "@jupyter-widgets/base",
            "_model_module_version": "1.2.0",
            "_model_name": "LayoutModel",
            "_view_count": null,
            "_view_module": "@jupyter-widgets/base",
            "_view_module_version": "1.2.0",
            "_view_name": "LayoutView",
            "align_content": null,
            "align_items": null,
            "align_self": null,
            "border": null,
            "bottom": null,
            "display": null,
            "flex": null,
            "flex_flow": null,
            "grid_area": null,
            "grid_auto_columns": null,
            "grid_auto_flow": null,
            "grid_auto_rows": null,
            "grid_column": null,
            "grid_gap": null,
            "grid_row": null,
            "grid_template_areas": null,
            "grid_template_columns": null,
            "grid_template_rows": null,
            "height": null,
            "justify_content": null,
            "justify_items": null,
            "left": null,
            "margin": null,
            "max_height": null,
            "max_width": null,
            "min_height": null,
            "min_width": null,
            "object_fit": null,
            "object_position": null,
            "order": null,
            "overflow": null,
            "overflow_x": null,
            "overflow_y": null,
            "padding": null,
            "right": null,
            "top": null,
            "visibility": null,
            "width": null
          }
        },
        "5b2e1821773f471b81188e84d4fbd6e2": {
          "model_module": "@jupyter-widgets/controls",
          "model_name": "SliderStyleModel",
          "model_module_version": "1.5.0",
          "state": {
            "_model_module": "@jupyter-widgets/controls",
            "_model_module_version": "1.5.0",
            "_model_name": "SliderStyleModel",
            "_view_count": null,
            "_view_module": "@jupyter-widgets/base",
            "_view_module_version": "1.2.0",
            "_view_name": "StyleView",
            "description_width": "",
            "handle_color": null
          }
        },
        "bae0b139bada4c3fb6c9a5ccc1a5628f": {
          "model_module": "@jupyter-widgets/base",
          "model_name": "LayoutModel",
          "model_module_version": "1.2.0",
          "state": {
            "_model_module": "@jupyter-widgets/base",
            "_model_module_version": "1.2.0",
            "_model_name": "LayoutModel",
            "_view_count": null,
            "_view_module": "@jupyter-widgets/base",
            "_view_module_version": "1.2.0",
            "_view_name": "LayoutView",
            "align_content": null,
            "align_items": null,
            "align_self": null,
            "border": null,
            "bottom": null,
            "display": null,
            "flex": null,
            "flex_flow": null,
            "grid_area": null,
            "grid_auto_columns": null,
            "grid_auto_flow": null,
            "grid_auto_rows": null,
            "grid_column": null,
            "grid_gap": null,
            "grid_row": null,
            "grid_template_areas": null,
            "grid_template_columns": null,
            "grid_template_rows": null,
            "height": null,
            "justify_content": null,
            "justify_items": null,
            "left": null,
            "margin": null,
            "max_height": null,
            "max_width": null,
            "min_height": null,
            "min_width": null,
            "object_fit": null,
            "object_position": null,
            "order": null,
            "overflow": null,
            "overflow_x": null,
            "overflow_y": null,
            "padding": null,
            "right": null,
            "top": null,
            "visibility": null,
            "width": null
          }
        },
        "bb988800b8cb47d8bbb41085d3761132": {
          "model_module": "@jupyter-widgets/controls",
          "model_name": "SliderStyleModel",
          "model_module_version": "1.5.0",
          "state": {
            "_model_module": "@jupyter-widgets/controls",
            "_model_module_version": "1.5.0",
            "_model_name": "SliderStyleModel",
            "_view_count": null,
            "_view_module": "@jupyter-widgets/base",
            "_view_module_version": "1.2.0",
            "_view_name": "StyleView",
            "description_width": "",
            "handle_color": null
          }
        },
        "6eb55c7836dc4dc6a33fde86e7c7a942": {
          "model_module": "@jupyter-widgets/base",
          "model_name": "LayoutModel",
          "model_module_version": "1.2.0",
          "state": {
            "_model_module": "@jupyter-widgets/base",
            "_model_module_version": "1.2.0",
            "_model_name": "LayoutModel",
            "_view_count": null,
            "_view_module": "@jupyter-widgets/base",
            "_view_module_version": "1.2.0",
            "_view_name": "LayoutView",
            "align_content": null,
            "align_items": null,
            "align_self": null,
            "border": null,
            "bottom": null,
            "display": null,
            "flex": null,
            "flex_flow": null,
            "grid_area": null,
            "grid_auto_columns": null,
            "grid_auto_flow": null,
            "grid_auto_rows": null,
            "grid_column": null,
            "grid_gap": null,
            "grid_row": null,
            "grid_template_areas": null,
            "grid_template_columns": null,
            "grid_template_rows": null,
            "height": null,
            "justify_content": null,
            "justify_items": null,
            "left": null,
            "margin": null,
            "max_height": null,
            "max_width": null,
            "min_height": null,
            "min_width": null,
            "object_fit": null,
            "object_position": null,
            "order": null,
            "overflow": null,
            "overflow_x": null,
            "overflow_y": null,
            "padding": null,
            "right": null,
            "top": null,
            "visibility": null,
            "width": null
          }
        },
        "b977af9357e749e281598b25210884a4": {
          "model_module": "@jupyter-widgets/controls",
          "model_name": "SliderStyleModel",
          "model_module_version": "1.5.0",
          "state": {
            "_model_module": "@jupyter-widgets/controls",
            "_model_module_version": "1.5.0",
            "_model_name": "SliderStyleModel",
            "_view_count": null,
            "_view_module": "@jupyter-widgets/base",
            "_view_module_version": "1.2.0",
            "_view_name": "StyleView",
            "description_width": "",
            "handle_color": null
          }
        },
        "3edaab606d6341998e6937983bca06d2": {
          "model_module": "@jupyter-widgets/controls",
          "model_name": "VBoxModel",
          "model_module_version": "1.5.0",
          "state": {
            "_dom_classes": [],
            "_model_module": "@jupyter-widgets/controls",
            "_model_module_version": "1.5.0",
            "_model_name": "VBoxModel",
            "_view_count": null,
            "_view_module": "@jupyter-widgets/controls",
            "_view_module_version": "1.5.0",
            "_view_name": "VBoxView",
            "box_style": "",
            "children": [
              "IPY_MODEL_b3faaf2a4d304108a4b47dab13842d41",
              "IPY_MODEL_c2ee5734036e458998362a866bf65a9f"
            ],
            "layout": "IPY_MODEL_fdb9a39a1383488aaa85d469ffdb1d53"
          }
        },
        "b3faaf2a4d304108a4b47dab13842d41": {
          "model_module": "@jupyter-widgets/controls",
          "model_name": "HBoxModel",
          "model_module_version": "1.5.0",
          "state": {
            "_dom_classes": [],
            "_model_module": "@jupyter-widgets/controls",
            "_model_module_version": "1.5.0",
            "_model_name": "HBoxModel",
            "_view_count": null,
            "_view_module": "@jupyter-widgets/controls",
            "_view_module_version": "1.5.0",
            "_view_name": "HBoxView",
            "box_style": "",
            "children": [
              "IPY_MODEL_88045dd3e7db4ebcaa8a1f5ef8798d11",
              "IPY_MODEL_903e8b77ee3a41ee820bfe127c275afc",
              "IPY_MODEL_9d4c26cf1e944426aa361c7ab472ef2b",
              "IPY_MODEL_99005cc38732440ab513922da41749cb",
              "IPY_MODEL_84dcf02e277d41e4a57a5e540eec3f7f"
            ],
            "layout": "IPY_MODEL_7b7503441ca743b5a5edf5c68e30e125"
          }
        },
        "c2ee5734036e458998362a866bf65a9f": {
          "model_module": "@jupyter-widgets/output",
          "model_name": "OutputModel",
          "model_module_version": "1.0.0",
          "state": {
            "_dom_classes": [],
            "_model_module": "@jupyter-widgets/output",
            "_model_module_version": "1.0.0",
            "_model_name": "OutputModel",
            "_view_count": null,
            "_view_module": "@jupyter-widgets/output",
            "_view_module_version": "1.0.0",
            "_view_name": "OutputView",
            "layout": "IPY_MODEL_0d93a77553ec45c491cdd90be9e0f738",
            "msg_id": "",
            "outputs": [
              {
                "output_type": "display_data",
                "data": {
                  "text/html": "<html>\n<head><meta charset=\"utf-8\" /></head>\n<body>\n    <div>            <script src=\"https://cdnjs.cloudflare.com/ajax/libs/mathjax/2.7.5/MathJax.js?config=TeX-AMS-MML_SVG\"></script><script type=\"text/javascript\">if (window.MathJax && window.MathJax.Hub && window.MathJax.Hub.Config) {window.MathJax.Hub.Config({SVG: {font: \"STIX-Web\"}});}</script>                <script type=\"text/javascript\">window.PlotlyConfig = {MathJaxConfig: 'local'};</script>\n        <script charset=\"utf-8\" src=\"https://cdn.plot.ly/plotly-2.24.1.min.js\"></script>                <div id=\"3eacf8f0-d9ea-47f9-b7d5-73622e772ff1\" class=\"plotly-graph-div\" style=\"height:500px; width:500px;\"></div>            <script type=\"text/javascript\">                                    window.PLOTLYENV=window.PLOTLYENV || {};                                    if (document.getElementById(\"3eacf8f0-d9ea-47f9-b7d5-73622e772ff1\")) {                    Plotly.newPlot(                        \"3eacf8f0-d9ea-47f9-b7d5-73622e772ff1\",                        [{\"hoverinfo\":\"text\",\"marker\":{\"size\":3},\"mode\":\"markers\",\"text\":[\"Ring: 1.0\\n Wire: 36.0\",\"Ring: 2.0\\n Wire: 36.0\",\"Ring: 3.0\\n Wire: 46.0\",\"Ring: 4.0\\n Wire: 45.0\",\"Ring: 5.0\\n Wire: 61.0\",\"Ring: 6.0\\n Wire: 62.0\",\"Ring: 7.0\\n Wire: 73.0\",\"Ring: 8.0\\n Wire: 74.0\",\"Ring: 9.0\\n Wire: 68.0\",\"Ring: 10.0\\n Wire: 67.0\",\"Ring: 11.0\\n Wire: 77.0\",\"Ring: 11.0\\n Wire: 78.0\",\"Ring: 12.0\\n Wire: 76.0\"],\"x\":[5.360896758800665,6.804733771693012,7.339395157772522,7.307177574946111,7.128308274098892,8.507493233974412,9.08732046553947,10.474108575790654,6.88037078301936,6.450166614285854,5.471473876402505,7.051634017045438,4.9116602573230095],\"y\":[-9.285353045602548,-9.980718931338593,-11.663187677820556,-13.265373079118607,-15.710229966572456,-16.60157360410837,-18.69427294386614,-19.55498508448881,-23.0786563235677,-24.647428708021398,-26.835797879567934,-26.46453347223082,-28.359501055625664],\"type\":\"scatter\",\"uid\":\"89829cdc-43e4-4251-bdf8-8da782e133ca\"},{\"marker\":{\"color\":\"red\"},\"mode\":\"lines\",\"name\":\"track\",\"type\":\"scatter\",\"uid\":\"98be830b-4a3d-4100-a88f-44abed7c47b6\",\"x\":[0.0,0.0,0.0,0.0,0.0,0.0,0.0,0.0,0.0,0.0,0.0,0.0,0.0,0.0,0.0,0.0,0.0,0.0,0.0,0.0,0.0,0.0,0.0,0.0,0.0,0.0,0.0,0.0,0.0,0.0,0.0,0.0,0.0,0.0,0.0,0.0,0.0,0.0,0.0,0.0,0.0,0.0,0.0,0.0,0.0,0.0,0.0,0.0,0.0,0.0,0.0,0.0,0.0,0.0,0.0,0.0,0.0,0.0,0.0,0.0,0.0,0.0,0.0,0.0,0.0,0.0,0.0,0.0,0.0,0.0,0.0,0.0,0.0,0.0,0.0,0.0,0.0,0.0,0.0,0.0,0.0,0.0,0.0,0.0,0.0,0.0,0.0,0.0,0.0,0.0,0.0,0.0,0.0,0.0,0.0,0.0,0.0,0.0,0.0,0.0,0.0,0.0,0.0,0.0,0.0,0.0,0.0,0.0,0.0,0.0,0.0,0.0,0.0,0.0,0.0,0.0,0.0,0.0,0.0,0.0,0.0,0.0,0.0,0.0,0.0,0.0,0.0,0.0,0.0,0.0,0.0,0.0,0.0,0.0,0.0,0.0,0.0,0.0,0.0,0.0,0.0,0.0,0.0,0.0,0.0,0.0,0.0,0.0,0.0,0.0,0.0,0.0,0.0,0.0,0.0,0.0,0.0,0.0,0.0,0.0,0.0,0.0,0.0,0.0,0.0,0.0,0.0,0.0,0.0,0.0,0.0,0.0,0.0,0.0,0.0,0.0,0.0,0.0,0.0,0.0,0.0,0.0,0.0,0.0,0.0,0.0,0.0,0.0,0.0,0.0,0.0,0.0,0.0,0.0,0.0,0.0,0.0,0.0,0.0,0.0,0.0,0.0,0.0,0.0,0.0,0.0,0.0,0.0,0.0,0.0,0.0,0.0,0.0,0.0,0.0,0.0,0.0,0.0,0.0,0.0,0.0,0.0,0.0,0.0,0.0,0.0,0.0,0.0,0.0,0.0,0.0,0.0,0.0,0.0,0.0,0.0,0.0,0.0,0.0,0.0,0.0,0.0,0.0,0.0,0.0,0.0,0.0,0.0,0.0,0.0,0.0,0.0,0.0,0.0,0.0,0.0,0.0,0.0,0.0,0.0,0.0,0.0,0.0,0.0,0.0,0.0,0.0,0.0,0.0,0.0,0.0,0.0,0.0,0.0,0.0,0.0,0.0,0.0,0.0,0.0,0.0,0.0,0.0,0.0,0.0,0.0,0.0,0.0,0.0,0.0,0.0,0.0,0.0,0.0,0.0,0.0,0.0,0.0,0.0,0.0,0.0,0.0,0.0,0.0,0.0,0.0,0.0,0.0,0.0,0.0,0.0,0.0,0.0,0.0,0.0,0.0,0.0,0.0,0.0,0.0,0.0,0.0,0.0,0.0,0.0,0.0,0.0,0.0,0.0,0.0,0.0,0.0,0.0,0.0,0.0,0.0,0.0,0.0,0.0,0.0,0.0,0.0,0.0,0.0,0.0,0.0,0.0,0.0,0.0,0.0,0.0,0.0,0.0,0.0,0.0,0.0,0.0,0.0,0.0,0.0,0.0,0.0,0.0,0.0,0.0,0.0,0.0,0.0,0.0,0.0,0.0,0.0,0.0,0.0,0.0,0.0,0.0,0.0,0.0,0.0,0.0,0.0,0.0,0.0,0.0,0.0,0.0,0.0,0.0,0.0,0.0,0.0,0.0,0.0,0.0,0.0,0.0,0.0,0.0,0.0,0.0,0.0,0.0,0.0,0.0,0.0,0.0,0.0,0.0,0.0,0.0,0.0,0.0,0.0,0.0,0.0,0.0,0.0,0.0,0.0,0.0,0.0,0.0,0.0,0.0,0.0,0.0,0.0,0.0,0.0,0.0,0.0,0.0,0.0,0.0,0.0,0.0,0.0,0.0,0.0,0.0,0.0,0.0,0.0,0.0,0.0,0.0,0.0,0.0,0.0,0.0,0.0,0.0,0.0,0.0,0.0,0.0,0.0,0.0,0.0,0.0,0.0,0.0,0.0,0.0,0.0,0.0,0.0,0.0,0.0,0.0,0.0,0.0,0.0,0.0,0.0,0.0,0.0,0.0,0.0,0.0,0.0,0.0,0.0,0.0,0.0,0.0,0.0,0.0,0.0,0.0,0.0,0.0,0.0,0.0,0.0,0.0,0.0,0.0,0.0,0.0,0.0,0.0,0.0,0.0,0.0,0.0,0.0,0.0,0.0,0.0,0.0,0.0,0.0,0.0,0.0,0.0,0.0,0.0,0.0,0.0,0.0,0.0,0.0,0.0,0.0,0.0,0.0,0.0,0.0,0.0,0.0,0.0,0.0,0.0,0.0,0.0,0.0,0.0,0.0,0.0,0.0,0.0,0.0,0.0,0.0,0.0,0.0,0.0,0.0,0.0,0.0,0.0,0.0,0.0,0.0,0.0,0.0,0.0,0.0,0.0,0.0,0.0,0.0,0.0,0.0,0.0,0.0,0.0,0.0,0.0,0.0,0.0,0.0,0.0,0.0,0.0,0.0,0.0,0.0,0.0,0.0,0.0,0.0,0.0,0.0,0.0,0.0,0.0,0.0,0.0,0.0,0.0,0.0,0.0,0.0,0.0,0.0,0.0,0.0,0.0,0.0,0.0,0.0,0.0,0.0,0.0,0.0,0.0,0.0,0.0,0.0,0.0,0.0,0.0,0.0,0.0,0.0,0.0,0.0,0.0,0.0,0.0,0.0,0.0,0.0,0.0,0.0,0.0,0.0,0.0,0.0,0.0,0.0,0.0,0.0,0.0,0.0,0.0,0.0,0.0,0.0,0.0,0.0,0.0,0.0,0.0,0.0,0.0,0.0,0.0,0.0,0.0,0.0,0.0,0.0,0.0,0.0,0.0,0.0,0.0,0.0,0.0,0.0,0.0,0.0,0.0,0.0,0.0,0.0,0.0,0.0,0.0,0.0,0.0,0.0,0.0,0.0,0.0,0.0,0.0,0.0,0.0,0.0,0.0,0.0,0.0,0.0,0.0,0.0,0.0,0.0,0.0,0.0,0.0,0.0,0.0,0.0,0.0,0.0,0.0,0.0,0.0,0.0,0.0,0.0,0.0,0.0,0.0,0.0,0.0,0.0,0.0,0.0,0.0,0.0,0.0,0.0,0.0,0.0,0.0,0.0,0.0,0.0,0.0,0.0,0.0,0.0,0.0,0.0,0.0,0.0,0.0,0.0,0.0,0.0,0.0,0.0,0.0,0.0,0.0,0.0,0.0,0.0,0.0,0.0,0.0,0.0,0.0,0.0,0.0,0.0,0.0,0.0,0.0,0.0,0.0,0.0,0.0,0.0,0.0,0.0,0.0,0.0,0.0,0.0,0.0,0.0,0.0,0.0,0.0,0.0,0.0,0.0,0.0,0.0,0.0,0.0,0.0,0.0,0.0,0.0,0.0,0.0,0.0,0.0,0.0,0.0,0.0,0.0,0.0,0.0,0.0,0.0,0.0,0.0,0.0,0.0,0.0,0.0,0.0,0.0,0.0,0.0,0.0,0.0,0.0,0.0,0.0,0.0,0.0,0.0,0.0,0.0,0.0,0.0,0.0,0.0,0.0,0.0,0.0,0.0,0.0,0.0,0.0,0.0,0.0,0.0,0.0,0.0,0.0,0.0,0.0,0.0,0.0,0.0,0.0,0.0,0.0,0.0,0.0,0.0,0.0,0.0,0.0,0.0,0.0,0.0,0.0,0.0,0.0,0.0,0.0,0.0,0.0,0.0,0.0,0.0,0.0,0.0,0.0,0.0,0.0,0.0,0.0,0.0,0.0,0.0,0.0,0.0,0.0,0.0,0.0,0.0,0.0,0.0,0.0,0.0,0.0,0.0,0.0,0.0,0.0,0.0,0.0,0.0,0.0,0.0,0.0,0.0,0.0,0.0,0.0,0.0,0.0,0.0,0.0,0.0,0.0,0.0,0.0,0.0,0.0,0.0,0.0,0.0,0.0,0.0,0.0,0.0,0.0,0.0,0.0,0.0,0.0,0.0,0.0,0.0,0.0,0.0,0.0,0.0,0.0,0.0,0.0,0.0,0.0,0.0,0.0,0.0,0.0,0.0,0.0,0.0,0.0,0.0,0.0,0.0,0.0,0.0,0.0,0.0,0.0,0.0,0.0,0.0,0.0,0.0,0.0,0.0,0.0,0.0,0.0,0.0,0.0,0.0,0.0,0.0,0.0,0.0,0.0,0.0,0.0,0.0,0.0,0.0,0.0,0.0,0.0,0.0,0.0,0.0,0.0,0.0,0.0,0.0,0.0,0.0,0.0,0.0,0.0,0.0,0.0,0.0,0.0,0.0,0.0,0.0,0.0,0.0,0.0,0.0,0.0,0.0,0.0,0.0,0.0,0.0,0.0,0.0],\"y\":[0.0,0.0,0.0,0.0,0.0,0.0,0.0,0.0,0.0,0.0,0.0,0.0,0.0,0.0,0.0,0.0,0.0,0.0,0.0,0.0,0.0,0.0,0.0,0.0,0.0,0.0,0.0,0.0,0.0,0.0,0.0,0.0,0.0,0.0,0.0,0.0,0.0,0.0,0.0,0.0,0.0,0.0,0.0,0.0,0.0,0.0,0.0,0.0,0.0,0.0,0.0,0.0,0.0,0.0,0.0,0.0,0.0,0.0,0.0,0.0,0.0,0.0,0.0,0.0,0.0,0.0,0.0,0.0,0.0,0.0,0.0,0.0,0.0,0.0,0.0,0.0,0.0,0.0,0.0,0.0,0.0,0.0,0.0,0.0,0.0,0.0,0.0,0.0,0.0,0.0,0.0,0.0,0.0,0.0,0.0,0.0,0.0,0.0,0.0,0.0,0.0,0.0,0.0,0.0,0.0,0.0,0.0,0.0,0.0,0.0,0.0,0.0,0.0,0.0,0.0,0.0,0.0,0.0,0.0,0.0,0.0,0.0,0.0,0.0,0.0,0.0,0.0,0.0,0.0,0.0,0.0,0.0,0.0,0.0,0.0,0.0,0.0,0.0,0.0,0.0,0.0,0.0,0.0,0.0,0.0,0.0,0.0,0.0,0.0,0.0,0.0,0.0,0.0,0.0,0.0,0.0,0.0,0.0,0.0,0.0,0.0,0.0,0.0,0.0,0.0,0.0,0.0,0.0,0.0,0.0,0.0,0.0,0.0,0.0,0.0,0.0,0.0,0.0,0.0,0.0,0.0,0.0,0.0,0.0,0.0,0.0,0.0,0.0,0.0,0.0,0.0,0.0,0.0,0.0,0.0,0.0,0.0,0.0,0.0,0.0,0.0,0.0,0.0,0.0,0.0,0.0,0.0,0.0,0.0,0.0,0.0,0.0,0.0,0.0,0.0,0.0,0.0,0.0,0.0,0.0,0.0,0.0,0.0,0.0,0.0,0.0,0.0,0.0,0.0,0.0,0.0,0.0,0.0,0.0,0.0,0.0,0.0,0.0,0.0,0.0,0.0,0.0,0.0,0.0,0.0,0.0,0.0,0.0,0.0,0.0,0.0,0.0,0.0,0.0,0.0,0.0,0.0,0.0,0.0,0.0,0.0,0.0,0.0,0.0,0.0,0.0,0.0,0.0,0.0,0.0,0.0,0.0,0.0,0.0,0.0,0.0,0.0,0.0,0.0,0.0,0.0,0.0,0.0,0.0,0.0,0.0,0.0,0.0,0.0,0.0,0.0,0.0,0.0,0.0,0.0,0.0,0.0,0.0,0.0,0.0,0.0,0.0,0.0,0.0,0.0,0.0,0.0,0.0,0.0,0.0,0.0,0.0,0.0,0.0,0.0,0.0,0.0,0.0,0.0,0.0,0.0,0.0,0.0,0.0,0.0,0.0,0.0,0.0,0.0,0.0,0.0,0.0,0.0,0.0,0.0,0.0,0.0,0.0,0.0,0.0,0.0,0.0,0.0,0.0,0.0,0.0,0.0,0.0,0.0,0.0,0.0,0.0,0.0,0.0,0.0,0.0,0.0,0.0,0.0,0.0,0.0,0.0,0.0,0.0,0.0,0.0,0.0,0.0,0.0,0.0,0.0,0.0,0.0,0.0,0.0,0.0,0.0,0.0,0.0,0.0,0.0,0.0,0.0,0.0,0.0,0.0,0.0,0.0,0.0,0.0,0.0,0.0,0.0,0.0,0.0,0.0,0.0,0.0,0.0,0.0,0.0,0.0,0.0,0.0,0.0,0.0,0.0,0.0,0.0,0.0,0.0,0.0,0.0,0.0,0.0,0.0,0.0,0.0,0.0,0.0,0.0,0.0,0.0,0.0,0.0,0.0,0.0,0.0,0.0,0.0,0.0,0.0,0.0,0.0,0.0,0.0,0.0,0.0,0.0,0.0,0.0,0.0,0.0,0.0,0.0,0.0,0.0,0.0,0.0,0.0,0.0,0.0,0.0,0.0,0.0,0.0,0.0,0.0,0.0,0.0,0.0,0.0,0.0,0.0,0.0,0.0,0.0,0.0,0.0,0.0,0.0,0.0,0.0,0.0,0.0,0.0,0.0,0.0,0.0,0.0,0.0,0.0,0.0,0.0,0.0,0.0,0.0,0.0,0.0,0.0,0.0,0.0,0.0,0.0,0.0,0.0,0.0,0.0,0.0,0.0,0.0,0.0,0.0,0.0,0.0,0.0,0.0,0.0,0.0,0.0,0.0,0.0,0.0,0.0,0.0,0.0,0.0,0.0,0.0,0.0,0.0,0.0,0.0,0.0,0.0,0.0,0.0,0.0,0.0,0.0,0.0,0.0,0.0,0.0,0.0,0.0,0.0,0.0,0.0,0.0,0.0,0.0,0.0,0.0,0.0,0.0,0.0,0.0,0.0,0.0,0.0,0.0,0.0,0.0,0.0,0.0,0.0,0.0,0.0,0.0,0.0,0.0,0.0,0.0,0.0,0.0,0.0,0.0,0.0,0.0,0.0,0.0,0.0,0.0,0.0,0.0,0.0,0.0,0.0,0.0,0.0,0.0,0.0,0.0,0.0,0.0,0.0,0.0,0.0,0.0,0.0,0.0,0.0,0.0,0.0,0.0,0.0,0.0,0.0,0.0,0.0,0.0,0.0,0.0,0.0,0.0,0.0,0.0,0.0,0.0,0.0,0.0,0.0,0.0,0.0,0.0,0.0,0.0,0.0,0.0,0.0,0.0,0.0,0.0,0.0,0.0,0.0,0.0,0.0,0.0,0.0,0.0,0.0,0.0,0.0,0.0,0.0,0.0,0.0,0.0,0.0,0.0,0.0,0.0,0.0,0.0,0.0,0.0,0.0,0.0,0.0,0.0,0.0,0.0,0.0,0.0,0.0,0.0,0.0,0.0,0.0,0.0,0.0,0.0,0.0,0.0,0.0,0.0,0.0,0.0,0.0,0.0,0.0,0.0,0.0,0.0,0.0,0.0,0.0,0.0,0.0,0.0,0.0,0.0,0.0,0.0,0.0,0.0,0.0,0.0,0.0,0.0,0.0,0.0,0.0,0.0,0.0,0.0,0.0,0.0,0.0,0.0,0.0,0.0,0.0,0.0,0.0,0.0,0.0,0.0,0.0,0.0,0.0,0.0,0.0,0.0,0.0,0.0,0.0,0.0,0.0,0.0,0.0,0.0,0.0,0.0,0.0,0.0,0.0,0.0,0.0,0.0,0.0,0.0,0.0,0.0,0.0,0.0,0.0,0.0,0.0,0.0,0.0,0.0,0.0,0.0,0.0,0.0,0.0,0.0,0.0,0.0,0.0,0.0,0.0,0.0,0.0,0.0,0.0,0.0,0.0,0.0,0.0,0.0,0.0,0.0,0.0,0.0,0.0,0.0,0.0,0.0,0.0,0.0,0.0,0.0,0.0,0.0,0.0,0.0,0.0,0.0,0.0,0.0,0.0,0.0,0.0,0.0,0.0,0.0,0.0,0.0,0.0,0.0,0.0,0.0,0.0,0.0,0.0,0.0,0.0,0.0,0.0,0.0,0.0,0.0,0.0,0.0,0.0,0.0,0.0,0.0,0.0,0.0,0.0,0.0,0.0,0.0,0.0,0.0,0.0,0.0,0.0,0.0,0.0,0.0,0.0,0.0,0.0,0.0,0.0,0.0,0.0,0.0,0.0,0.0,0.0,0.0,0.0,0.0,0.0,0.0,0.0,0.0,0.0,0.0,0.0,0.0,0.0,0.0,0.0,0.0,0.0,0.0,0.0,0.0,0.0,0.0,0.0,0.0,0.0,0.0,0.0,0.0,0.0,0.0,0.0,0.0,0.0,0.0,0.0,0.0,0.0,0.0,0.0,0.0,0.0,0.0,0.0,0.0,0.0,0.0,0.0,0.0,0.0,0.0,0.0,0.0,0.0,0.0,0.0,0.0,0.0,0.0,0.0,0.0,0.0,0.0,0.0,0.0,0.0,0.0,0.0,0.0,0.0,0.0,0.0,0.0,0.0,0.0,0.0,0.0,0.0,0.0,0.0,0.0,0.0,0.0,0.0,0.0,0.0,0.0,0.0,0.0,0.0,0.0,0.0,0.0,0.0,0.0,0.0,0.0,0.0,0.0,0.0,0.0,0.0,0.0,0.0,0.0,0.0,0.0,0.0,0.0,0.0,0.0,0.0,0.0,0.0,0.0,0.0,0.0,0.0,0.0,0.0,0.0,0.0,0.0,0.0,0.0,0.0,0.0,0.0,0.0,0.0,0.0,0.0,0.0,0.0,0.0,0.0,0.0,0.0,0.0,0.0,0.0,0.0,0.0,0.0,0.0,0.0,0.0,0.0,0.0,0.0,0.0,0.0,0.0,0.0,0.0,0.0,0.0,0.0,0.0,0.0,0.0,0.0,0.0,0.0,0.0]}],                        {\"template\":{\"data\":{\"barpolar\":[{\"marker\":{\"line\":{\"color\":\"#E5ECF6\",\"width\":0.5},\"pattern\":{\"fillmode\":\"overlay\",\"size\":10,\"solidity\":0.2}},\"type\":\"barpolar\"}],\"bar\":[{\"error_x\":{\"color\":\"#2a3f5f\"},\"error_y\":{\"color\":\"#2a3f5f\"},\"marker\":{\"line\":{\"color\":\"#E5ECF6\",\"width\":0.5},\"pattern\":{\"fillmode\":\"overlay\",\"size\":10,\"solidity\":0.2}},\"type\":\"bar\"}],\"carpet\":[{\"aaxis\":{\"endlinecolor\":\"#2a3f5f\",\"gridcolor\":\"white\",\"linecolor\":\"white\",\"minorgridcolor\":\"white\",\"startlinecolor\":\"#2a3f5f\"},\"baxis\":{\"endlinecolor\":\"#2a3f5f\",\"gridcolor\":\"white\",\"linecolor\":\"white\",\"minorgridcolor\":\"white\",\"startlinecolor\":\"#2a3f5f\"},\"type\":\"carpet\"}],\"choropleth\":[{\"colorbar\":{\"outlinewidth\":0,\"ticks\":\"\"},\"type\":\"choropleth\"}],\"contourcarpet\":[{\"colorbar\":{\"outlinewidth\":0,\"ticks\":\"\"},\"type\":\"contourcarpet\"}],\"contour\":[{\"colorbar\":{\"outlinewidth\":0,\"ticks\":\"\"},\"colorscale\":[[0.0,\"#0d0887\"],[0.1111111111111111,\"#46039f\"],[0.2222222222222222,\"#7201a8\"],[0.3333333333333333,\"#9c179e\"],[0.4444444444444444,\"#bd3786\"],[0.5555555555555556,\"#d8576b\"],[0.6666666666666666,\"#ed7953\"],[0.7777777777777778,\"#fb9f3a\"],[0.8888888888888888,\"#fdca26\"],[1.0,\"#f0f921\"]],\"type\":\"contour\"}],\"heatmapgl\":[{\"colorbar\":{\"outlinewidth\":0,\"ticks\":\"\"},\"colorscale\":[[0.0,\"#0d0887\"],[0.1111111111111111,\"#46039f\"],[0.2222222222222222,\"#7201a8\"],[0.3333333333333333,\"#9c179e\"],[0.4444444444444444,\"#bd3786\"],[0.5555555555555556,\"#d8576b\"],[0.6666666666666666,\"#ed7953\"],[0.7777777777777778,\"#fb9f3a\"],[0.8888888888888888,\"#fdca26\"],[1.0,\"#f0f921\"]],\"type\":\"heatmapgl\"}],\"heatmap\":[{\"colorbar\":{\"outlinewidth\":0,\"ticks\":\"\"},\"colorscale\":[[0.0,\"#0d0887\"],[0.1111111111111111,\"#46039f\"],[0.2222222222222222,\"#7201a8\"],[0.3333333333333333,\"#9c179e\"],[0.4444444444444444,\"#bd3786\"],[0.5555555555555556,\"#d8576b\"],[0.6666666666666666,\"#ed7953\"],[0.7777777777777778,\"#fb9f3a\"],[0.8888888888888888,\"#fdca26\"],[1.0,\"#f0f921\"]],\"type\":\"heatmap\"}],\"histogram2dcontour\":[{\"colorbar\":{\"outlinewidth\":0,\"ticks\":\"\"},\"colorscale\":[[0.0,\"#0d0887\"],[0.1111111111111111,\"#46039f\"],[0.2222222222222222,\"#7201a8\"],[0.3333333333333333,\"#9c179e\"],[0.4444444444444444,\"#bd3786\"],[0.5555555555555556,\"#d8576b\"],[0.6666666666666666,\"#ed7953\"],[0.7777777777777778,\"#fb9f3a\"],[0.8888888888888888,\"#fdca26\"],[1.0,\"#f0f921\"]],\"type\":\"histogram2dcontour\"}],\"histogram2d\":[{\"colorbar\":{\"outlinewidth\":0,\"ticks\":\"\"},\"colorscale\":[[0.0,\"#0d0887\"],[0.1111111111111111,\"#46039f\"],[0.2222222222222222,\"#7201a8\"],[0.3333333333333333,\"#9c179e\"],[0.4444444444444444,\"#bd3786\"],[0.5555555555555556,\"#d8576b\"],[0.6666666666666666,\"#ed7953\"],[0.7777777777777778,\"#fb9f3a\"],[0.8888888888888888,\"#fdca26\"],[1.0,\"#f0f921\"]],\"type\":\"histogram2d\"}],\"histogram\":[{\"marker\":{\"pattern\":{\"fillmode\":\"overlay\",\"size\":10,\"solidity\":0.2}},\"type\":\"histogram\"}],\"mesh3d\":[{\"colorbar\":{\"outlinewidth\":0,\"ticks\":\"\"},\"type\":\"mesh3d\"}],\"parcoords\":[{\"line\":{\"colorbar\":{\"outlinewidth\":0,\"ticks\":\"\"}},\"type\":\"parcoords\"}],\"pie\":[{\"automargin\":true,\"type\":\"pie\"}],\"scatter3d\":[{\"line\":{\"colorbar\":{\"outlinewidth\":0,\"ticks\":\"\"}},\"marker\":{\"colorbar\":{\"outlinewidth\":0,\"ticks\":\"\"}},\"type\":\"scatter3d\"}],\"scattercarpet\":[{\"marker\":{\"colorbar\":{\"outlinewidth\":0,\"ticks\":\"\"}},\"type\":\"scattercarpet\"}],\"scattergeo\":[{\"marker\":{\"colorbar\":{\"outlinewidth\":0,\"ticks\":\"\"}},\"type\":\"scattergeo\"}],\"scattergl\":[{\"marker\":{\"colorbar\":{\"outlinewidth\":0,\"ticks\":\"\"}},\"type\":\"scattergl\"}],\"scattermapbox\":[{\"marker\":{\"colorbar\":{\"outlinewidth\":0,\"ticks\":\"\"}},\"type\":\"scattermapbox\"}],\"scatterpolargl\":[{\"marker\":{\"colorbar\":{\"outlinewidth\":0,\"ticks\":\"\"}},\"type\":\"scatterpolargl\"}],\"scatterpolar\":[{\"marker\":{\"colorbar\":{\"outlinewidth\":0,\"ticks\":\"\"}},\"type\":\"scatterpolar\"}],\"scatter\":[{\"fillpattern\":{\"fillmode\":\"overlay\",\"size\":10,\"solidity\":0.2},\"type\":\"scatter\"}],\"scatterternary\":[{\"marker\":{\"colorbar\":{\"outlinewidth\":0,\"ticks\":\"\"}},\"type\":\"scatterternary\"}],\"surface\":[{\"colorbar\":{\"outlinewidth\":0,\"ticks\":\"\"},\"colorscale\":[[0.0,\"#0d0887\"],[0.1111111111111111,\"#46039f\"],[0.2222222222222222,\"#7201a8\"],[0.3333333333333333,\"#9c179e\"],[0.4444444444444444,\"#bd3786\"],[0.5555555555555556,\"#d8576b\"],[0.6666666666666666,\"#ed7953\"],[0.7777777777777778,\"#fb9f3a\"],[0.8888888888888888,\"#fdca26\"],[1.0,\"#f0f921\"]],\"type\":\"surface\"}],\"table\":[{\"cells\":{\"fill\":{\"color\":\"#EBF0F8\"},\"line\":{\"color\":\"white\"}},\"header\":{\"fill\":{\"color\":\"#C8D4E3\"},\"line\":{\"color\":\"white\"}},\"type\":\"table\"}]},\"layout\":{\"annotationdefaults\":{\"arrowcolor\":\"#2a3f5f\",\"arrowhead\":0,\"arrowwidth\":1},\"autotypenumbers\":\"strict\",\"coloraxis\":{\"colorbar\":{\"outlinewidth\":0,\"ticks\":\"\"}},\"colorscale\":{\"diverging\":[[0,\"#8e0152\"],[0.1,\"#c51b7d\"],[0.2,\"#de77ae\"],[0.3,\"#f1b6da\"],[0.4,\"#fde0ef\"],[0.5,\"#f7f7f7\"],[0.6,\"#e6f5d0\"],[0.7,\"#b8e186\"],[0.8,\"#7fbc41\"],[0.9,\"#4d9221\"],[1,\"#276419\"]],\"sequential\":[[0.0,\"#0d0887\"],[0.1111111111111111,\"#46039f\"],[0.2222222222222222,\"#7201a8\"],[0.3333333333333333,\"#9c179e\"],[0.4444444444444444,\"#bd3786\"],[0.5555555555555556,\"#d8576b\"],[0.6666666666666666,\"#ed7953\"],[0.7777777777777778,\"#fb9f3a\"],[0.8888888888888888,\"#fdca26\"],[1.0,\"#f0f921\"]],\"sequentialminus\":[[0.0,\"#0d0887\"],[0.1111111111111111,\"#46039f\"],[0.2222222222222222,\"#7201a8\"],[0.3333333333333333,\"#9c179e\"],[0.4444444444444444,\"#bd3786\"],[0.5555555555555556,\"#d8576b\"],[0.6666666666666666,\"#ed7953\"],[0.7777777777777778,\"#fb9f3a\"],[0.8888888888888888,\"#fdca26\"],[1.0,\"#f0f921\"]]},\"colorway\":[\"#636efa\",\"#EF553B\",\"#00cc96\",\"#ab63fa\",\"#FFA15A\",\"#19d3f3\",\"#FF6692\",\"#B6E880\",\"#FF97FF\",\"#FECB52\"],\"font\":{\"color\":\"#2a3f5f\"},\"geo\":{\"bgcolor\":\"white\",\"lakecolor\":\"white\",\"landcolor\":\"#E5ECF6\",\"showlakes\":true,\"showland\":true,\"subunitcolor\":\"white\"},\"hoverlabel\":{\"align\":\"left\"},\"hovermode\":\"closest\",\"mapbox\":{\"style\":\"light\"},\"paper_bgcolor\":\"white\",\"plot_bgcolor\":\"#E5ECF6\",\"polar\":{\"angularaxis\":{\"gridcolor\":\"white\",\"linecolor\":\"white\",\"ticks\":\"\"},\"bgcolor\":\"#E5ECF6\",\"radialaxis\":{\"gridcolor\":\"white\",\"linecolor\":\"white\",\"ticks\":\"\"}},\"scene\":{\"xaxis\":{\"backgroundcolor\":\"#E5ECF6\",\"gridcolor\":\"white\",\"gridwidth\":2,\"linecolor\":\"white\",\"showbackground\":true,\"ticks\":\"\",\"zerolinecolor\":\"white\"},\"yaxis\":{\"backgroundcolor\":\"#E5ECF6\",\"gridcolor\":\"white\",\"gridwidth\":2,\"linecolor\":\"white\",\"showbackground\":true,\"ticks\":\"\",\"zerolinecolor\":\"white\"},\"zaxis\":{\"backgroundcolor\":\"#E5ECF6\",\"gridcolor\":\"white\",\"gridwidth\":2,\"linecolor\":\"white\",\"showbackground\":true,\"ticks\":\"\",\"zerolinecolor\":\"white\"}},\"shapedefaults\":{\"line\":{\"color\":\"#2a3f5f\"}},\"ternary\":{\"aaxis\":{\"gridcolor\":\"white\",\"linecolor\":\"white\",\"ticks\":\"\"},\"baxis\":{\"gridcolor\":\"white\",\"linecolor\":\"white\",\"ticks\":\"\"},\"bgcolor\":\"#E5ECF6\",\"caxis\":{\"gridcolor\":\"white\",\"linecolor\":\"white\",\"ticks\":\"\"}},\"title\":{\"x\":0.05},\"xaxis\":{\"automargin\":true,\"gridcolor\":\"white\",\"linecolor\":\"white\",\"ticks\":\"\",\"title\":{\"standoff\":15},\"zerolinecolor\":\"white\",\"zerolinewidth\":2},\"yaxis\":{\"automargin\":true,\"gridcolor\":\"white\",\"linecolor\":\"white\",\"ticks\":\"\",\"title\":{\"standoff\":15},\"zerolinecolor\":\"white\",\"zerolinewidth\":2}}},\"xaxis\":{\"range\":[-60,60],\"title\":{\"text\":\"X\"}},\"yaxis\":{\"range\":[-60,60],\"title\":{\"text\":\"Y\"}},\"width\":500,\"height\":500,\"showlegend\":false,\"title\":{\"text\":\"Hits in the GlueX CDC\"},\"shapes\":[{\"line\":{\"color\":\"black\"},\"type\":\"circle\",\"x0\":-10.5,\"x1\":10.5,\"xref\":\"x\",\"y0\":-10.5,\"y1\":10.5,\"yref\":\"y\"},{\"line\":{\"color\":\"black\"},\"type\":\"circle\",\"x0\":-55,\"x1\":55,\"xref\":\"x\",\"y0\":-55,\"y1\":55,\"yref\":\"y\"}]},                        {\"responsive\": true}                    ).then(function(){\n                            \nvar gd = document.getElementById('3eacf8f0-d9ea-47f9-b7d5-73622e772ff1');\nvar x = new MutationObserver(function (mutations, observer) {{\n        var display = window.getComputedStyle(gd).display;\n        if (!display || display === 'none') {{\n            console.log([gd, 'removed!']);\n            Plotly.purge(gd);\n            observer.disconnect();\n        }}\n}});\n\n// Listen for the removal of the full notebook cells\nvar notebookContainer = gd.closest('#notebook-container');\nif (notebookContainer) {{\n    x.observe(notebookContainer, {childList: true});\n}}\n\n// Listen for the clearing of the current output cell\nvar outputEl = gd.closest('.output');\nif (outputEl) {{\n    x.observe(outputEl, {childList: true});\n}}\n\n                        })                };                            </script>        </div>\n</body>\n</html>"
                },
                "metadata": {}
              }
            ]
          }
        },
        "fdb9a39a1383488aaa85d469ffdb1d53": {
          "model_module": "@jupyter-widgets/base",
          "model_name": "LayoutModel",
          "model_module_version": "1.2.0",
          "state": {
            "_model_module": "@jupyter-widgets/base",
            "_model_module_version": "1.2.0",
            "_model_name": "LayoutModel",
            "_view_count": null,
            "_view_module": "@jupyter-widgets/base",
            "_view_module_version": "1.2.0",
            "_view_name": "LayoutView",
            "align_content": null,
            "align_items": null,
            "align_self": null,
            "border": null,
            "bottom": null,
            "display": null,
            "flex": null,
            "flex_flow": null,
            "grid_area": null,
            "grid_auto_columns": null,
            "grid_auto_flow": null,
            "grid_auto_rows": null,
            "grid_column": null,
            "grid_gap": null,
            "grid_row": null,
            "grid_template_areas": null,
            "grid_template_columns": null,
            "grid_template_rows": null,
            "height": null,
            "justify_content": null,
            "justify_items": null,
            "left": null,
            "margin": null,
            "max_height": null,
            "max_width": null,
            "min_height": null,
            "min_width": null,
            "object_fit": null,
            "object_position": null,
            "order": null,
            "overflow": null,
            "overflow_x": null,
            "overflow_y": null,
            "padding": null,
            "right": null,
            "top": null,
            "visibility": null,
            "width": null
          }
        },
        "88045dd3e7db4ebcaa8a1f5ef8798d11": {
          "model_module": "@jupyter-widgets/controls",
          "model_name": "FloatSliderModel",
          "model_module_version": "1.5.0",
          "state": {
            "_dom_classes": [],
            "_model_module": "@jupyter-widgets/controls",
            "_model_module_version": "1.5.0",
            "_model_name": "FloatSliderModel",
            "_view_count": null,
            "_view_module": "@jupyter-widgets/controls",
            "_view_module_version": "1.5.0",
            "_view_name": "FloatSliderView",
            "continuous_update": true,
            "description": "z0",
            "description_tooltip": null,
            "disabled": false,
            "layout": "IPY_MODEL_f497a2e84a9d420291f25e12c6f06ce7",
            "max": 175,
            "min": 0,
            "orientation": "horizontal",
            "readout": true,
            "readout_format": ".2f",
            "step": 0.1,
            "style": "IPY_MODEL_11c5b648c4374bd4ad4013a43ac87dfa",
            "value": 50.8
          }
        },
        "903e8b77ee3a41ee820bfe127c275afc": {
          "model_module": "@jupyter-widgets/controls",
          "model_name": "FloatSliderModel",
          "model_module_version": "1.5.0",
          "state": {
            "_dom_classes": [],
            "_model_module": "@jupyter-widgets/controls",
            "_model_module_version": "1.5.0",
            "_model_name": "FloatSliderModel",
            "_view_count": null,
            "_view_module": "@jupyter-widgets/controls",
            "_view_module_version": "1.5.0",
            "_view_name": "FloatSliderView",
            "continuous_update": true,
            "description": "px",
            "description_tooltip": null,
            "disabled": false,
            "layout": "IPY_MODEL_837b91fe8afc47f6aef3831f882fa5cf",
            "max": 1,
            "min": -1,
            "orientation": "horizontal",
            "readout": true,
            "readout_format": ".2f",
            "step": 0.01,
            "style": "IPY_MODEL_871f82c5d8a141cfa18008883372bbbf",
            "value": 0
          }
        },
        "9d4c26cf1e944426aa361c7ab472ef2b": {
          "model_module": "@jupyter-widgets/controls",
          "model_name": "FloatSliderModel",
          "model_module_version": "1.5.0",
          "state": {
            "_dom_classes": [],
            "_model_module": "@jupyter-widgets/controls",
            "_model_module_version": "1.5.0",
            "_model_name": "FloatSliderModel",
            "_view_count": null,
            "_view_module": "@jupyter-widgets/controls",
            "_view_module_version": "1.5.0",
            "_view_name": "FloatSliderView",
            "continuous_update": true,
            "description": "py",
            "description_tooltip": null,
            "disabled": false,
            "layout": "IPY_MODEL_2864dc4972c0499585053d27831dcb5a",
            "max": 1,
            "min": -1,
            "orientation": "horizontal",
            "readout": true,
            "readout_format": ".2f",
            "step": 0.01,
            "style": "IPY_MODEL_690460349ab24693ba70086805841d5f",
            "value": 0
          }
        },
        "99005cc38732440ab513922da41749cb": {
          "model_module": "@jupyter-widgets/controls",
          "model_name": "IntSliderModel",
          "model_module_version": "1.5.0",
          "state": {
            "_dom_classes": [],
            "_model_module": "@jupyter-widgets/controls",
            "_model_module_version": "1.5.0",
            "_model_name": "IntSliderModel",
            "_view_count": null,
            "_view_module": "@jupyter-widgets/controls",
            "_view_module_version": "1.5.0",
            "_view_name": "IntSliderView",
            "continuous_update": true,
            "description": "charge",
            "description_tooltip": null,
            "disabled": false,
            "layout": "IPY_MODEL_c428a539bc614436ab4d2a3239cda174",
            "max": 1,
            "min": -1,
            "orientation": "horizontal",
            "readout": true,
            "readout_format": "d",
            "step": 2,
            "style": "IPY_MODEL_3fe522d41e644a0e85027a2c4a6b07df",
            "value": 1
          }
        },
        "84dcf02e277d41e4a57a5e540eec3f7f": {
          "model_module": "@jupyter-widgets/controls",
          "model_name": "FloatSliderModel",
          "model_module_version": "1.5.0",
          "state": {
            "_dom_classes": [],
            "_model_module": "@jupyter-widgets/controls",
            "_model_module_version": "1.5.0",
            "_model_name": "FloatSliderModel",
            "_view_count": null,
            "_view_module": "@jupyter-widgets/controls",
            "_view_module_version": "1.5.0",
            "_view_name": "FloatSliderView",
            "continuous_update": true,
            "description": "t_max",
            "description_tooltip": null,
            "disabled": false,
            "layout": "IPY_MODEL_4cfe338395c14e11aa1ac8e2f97943a6",
            "max": 6.283185307179586,
            "min": 0,
            "orientation": "horizontal",
            "readout": true,
            "readout_format": ".2f",
            "step": 0.01,
            "style": "IPY_MODEL_b099088c17e549fea2a46f4798b81c1c",
            "value": 3.14
          }
        },
        "7b7503441ca743b5a5edf5c68e30e125": {
          "model_module": "@jupyter-widgets/base",
          "model_name": "LayoutModel",
          "model_module_version": "1.2.0",
          "state": {
            "_model_module": "@jupyter-widgets/base",
            "_model_module_version": "1.2.0",
            "_model_name": "LayoutModel",
            "_view_count": null,
            "_view_module": "@jupyter-widgets/base",
            "_view_module_version": "1.2.0",
            "_view_name": "LayoutView",
            "align_content": null,
            "align_items": null,
            "align_self": null,
            "border": null,
            "bottom": null,
            "display": null,
            "flex": null,
            "flex_flow": "row wrap",
            "grid_area": null,
            "grid_auto_columns": null,
            "grid_auto_flow": null,
            "grid_auto_rows": null,
            "grid_column": null,
            "grid_gap": null,
            "grid_row": null,
            "grid_template_areas": null,
            "grid_template_columns": null,
            "grid_template_rows": null,
            "height": null,
            "justify_content": null,
            "justify_items": null,
            "left": null,
            "margin": null,
            "max_height": null,
            "max_width": null,
            "min_height": null,
            "min_width": null,
            "object_fit": null,
            "object_position": null,
            "order": null,
            "overflow": null,
            "overflow_x": null,
            "overflow_y": null,
            "padding": null,
            "right": null,
            "top": null,
            "visibility": null,
            "width": null
          }
        },
        "0d93a77553ec45c491cdd90be9e0f738": {
          "model_module": "@jupyter-widgets/base",
          "model_name": "LayoutModel",
          "model_module_version": "1.2.0",
          "state": {
            "_model_module": "@jupyter-widgets/base",
            "_model_module_version": "1.2.0",
            "_model_name": "LayoutModel",
            "_view_count": null,
            "_view_module": "@jupyter-widgets/base",
            "_view_module_version": "1.2.0",
            "_view_name": "LayoutView",
            "align_content": null,
            "align_items": null,
            "align_self": null,
            "border": null,
            "bottom": null,
            "display": null,
            "flex": null,
            "flex_flow": null,
            "grid_area": null,
            "grid_auto_columns": null,
            "grid_auto_flow": null,
            "grid_auto_rows": null,
            "grid_column": null,
            "grid_gap": null,
            "grid_row": null,
            "grid_template_areas": null,
            "grid_template_columns": null,
            "grid_template_rows": null,
            "height": null,
            "justify_content": null,
            "justify_items": null,
            "left": null,
            "margin": null,
            "max_height": null,
            "max_width": null,
            "min_height": null,
            "min_width": null,
            "object_fit": null,
            "object_position": null,
            "order": null,
            "overflow": null,
            "overflow_x": null,
            "overflow_y": null,
            "padding": null,
            "right": null,
            "top": null,
            "visibility": null,
            "width": null
          }
        },
        "f497a2e84a9d420291f25e12c6f06ce7": {
          "model_module": "@jupyter-widgets/base",
          "model_name": "LayoutModel",
          "model_module_version": "1.2.0",
          "state": {
            "_model_module": "@jupyter-widgets/base",
            "_model_module_version": "1.2.0",
            "_model_name": "LayoutModel",
            "_view_count": null,
            "_view_module": "@jupyter-widgets/base",
            "_view_module_version": "1.2.0",
            "_view_name": "LayoutView",
            "align_content": null,
            "align_items": null,
            "align_self": null,
            "border": null,
            "bottom": null,
            "display": null,
            "flex": null,
            "flex_flow": null,
            "grid_area": null,
            "grid_auto_columns": null,
            "grid_auto_flow": null,
            "grid_auto_rows": null,
            "grid_column": null,
            "grid_gap": null,
            "grid_row": null,
            "grid_template_areas": null,
            "grid_template_columns": null,
            "grid_template_rows": null,
            "height": null,
            "justify_content": null,
            "justify_items": null,
            "left": null,
            "margin": null,
            "max_height": null,
            "max_width": null,
            "min_height": null,
            "min_width": null,
            "object_fit": null,
            "object_position": null,
            "order": null,
            "overflow": null,
            "overflow_x": null,
            "overflow_y": null,
            "padding": null,
            "right": null,
            "top": null,
            "visibility": null,
            "width": null
          }
        },
        "11c5b648c4374bd4ad4013a43ac87dfa": {
          "model_module": "@jupyter-widgets/controls",
          "model_name": "SliderStyleModel",
          "model_module_version": "1.5.0",
          "state": {
            "_model_module": "@jupyter-widgets/controls",
            "_model_module_version": "1.5.0",
            "_model_name": "SliderStyleModel",
            "_view_count": null,
            "_view_module": "@jupyter-widgets/base",
            "_view_module_version": "1.2.0",
            "_view_name": "StyleView",
            "description_width": "",
            "handle_color": null
          }
        },
        "837b91fe8afc47f6aef3831f882fa5cf": {
          "model_module": "@jupyter-widgets/base",
          "model_name": "LayoutModel",
          "model_module_version": "1.2.0",
          "state": {
            "_model_module": "@jupyter-widgets/base",
            "_model_module_version": "1.2.0",
            "_model_name": "LayoutModel",
            "_view_count": null,
            "_view_module": "@jupyter-widgets/base",
            "_view_module_version": "1.2.0",
            "_view_name": "LayoutView",
            "align_content": null,
            "align_items": null,
            "align_self": null,
            "border": null,
            "bottom": null,
            "display": null,
            "flex": null,
            "flex_flow": null,
            "grid_area": null,
            "grid_auto_columns": null,
            "grid_auto_flow": null,
            "grid_auto_rows": null,
            "grid_column": null,
            "grid_gap": null,
            "grid_row": null,
            "grid_template_areas": null,
            "grid_template_columns": null,
            "grid_template_rows": null,
            "height": null,
            "justify_content": null,
            "justify_items": null,
            "left": null,
            "margin": null,
            "max_height": null,
            "max_width": null,
            "min_height": null,
            "min_width": null,
            "object_fit": null,
            "object_position": null,
            "order": null,
            "overflow": null,
            "overflow_x": null,
            "overflow_y": null,
            "padding": null,
            "right": null,
            "top": null,
            "visibility": null,
            "width": null
          }
        },
        "871f82c5d8a141cfa18008883372bbbf": {
          "model_module": "@jupyter-widgets/controls",
          "model_name": "SliderStyleModel",
          "model_module_version": "1.5.0",
          "state": {
            "_model_module": "@jupyter-widgets/controls",
            "_model_module_version": "1.5.0",
            "_model_name": "SliderStyleModel",
            "_view_count": null,
            "_view_module": "@jupyter-widgets/base",
            "_view_module_version": "1.2.0",
            "_view_name": "StyleView",
            "description_width": "",
            "handle_color": null
          }
        },
        "2864dc4972c0499585053d27831dcb5a": {
          "model_module": "@jupyter-widgets/base",
          "model_name": "LayoutModel",
          "model_module_version": "1.2.0",
          "state": {
            "_model_module": "@jupyter-widgets/base",
            "_model_module_version": "1.2.0",
            "_model_name": "LayoutModel",
            "_view_count": null,
            "_view_module": "@jupyter-widgets/base",
            "_view_module_version": "1.2.0",
            "_view_name": "LayoutView",
            "align_content": null,
            "align_items": null,
            "align_self": null,
            "border": null,
            "bottom": null,
            "display": null,
            "flex": null,
            "flex_flow": null,
            "grid_area": null,
            "grid_auto_columns": null,
            "grid_auto_flow": null,
            "grid_auto_rows": null,
            "grid_column": null,
            "grid_gap": null,
            "grid_row": null,
            "grid_template_areas": null,
            "grid_template_columns": null,
            "grid_template_rows": null,
            "height": null,
            "justify_content": null,
            "justify_items": null,
            "left": null,
            "margin": null,
            "max_height": null,
            "max_width": null,
            "min_height": null,
            "min_width": null,
            "object_fit": null,
            "object_position": null,
            "order": null,
            "overflow": null,
            "overflow_x": null,
            "overflow_y": null,
            "padding": null,
            "right": null,
            "top": null,
            "visibility": null,
            "width": null
          }
        },
        "690460349ab24693ba70086805841d5f": {
          "model_module": "@jupyter-widgets/controls",
          "model_name": "SliderStyleModel",
          "model_module_version": "1.5.0",
          "state": {
            "_model_module": "@jupyter-widgets/controls",
            "_model_module_version": "1.5.0",
            "_model_name": "SliderStyleModel",
            "_view_count": null,
            "_view_module": "@jupyter-widgets/base",
            "_view_module_version": "1.2.0",
            "_view_name": "StyleView",
            "description_width": "",
            "handle_color": null
          }
        },
        "c428a539bc614436ab4d2a3239cda174": {
          "model_module": "@jupyter-widgets/base",
          "model_name": "LayoutModel",
          "model_module_version": "1.2.0",
          "state": {
            "_model_module": "@jupyter-widgets/base",
            "_model_module_version": "1.2.0",
            "_model_name": "LayoutModel",
            "_view_count": null,
            "_view_module": "@jupyter-widgets/base",
            "_view_module_version": "1.2.0",
            "_view_name": "LayoutView",
            "align_content": null,
            "align_items": null,
            "align_self": null,
            "border": null,
            "bottom": null,
            "display": null,
            "flex": null,
            "flex_flow": null,
            "grid_area": null,
            "grid_auto_columns": null,
            "grid_auto_flow": null,
            "grid_auto_rows": null,
            "grid_column": null,
            "grid_gap": null,
            "grid_row": null,
            "grid_template_areas": null,
            "grid_template_columns": null,
            "grid_template_rows": null,
            "height": null,
            "justify_content": null,
            "justify_items": null,
            "left": null,
            "margin": null,
            "max_height": null,
            "max_width": null,
            "min_height": null,
            "min_width": null,
            "object_fit": null,
            "object_position": null,
            "order": null,
            "overflow": null,
            "overflow_x": null,
            "overflow_y": null,
            "padding": null,
            "right": null,
            "top": null,
            "visibility": null,
            "width": null
          }
        },
        "3fe522d41e644a0e85027a2c4a6b07df": {
          "model_module": "@jupyter-widgets/controls",
          "model_name": "SliderStyleModel",
          "model_module_version": "1.5.0",
          "state": {
            "_model_module": "@jupyter-widgets/controls",
            "_model_module_version": "1.5.0",
            "_model_name": "SliderStyleModel",
            "_view_count": null,
            "_view_module": "@jupyter-widgets/base",
            "_view_module_version": "1.2.0",
            "_view_name": "StyleView",
            "description_width": "",
            "handle_color": null
          }
        },
        "4cfe338395c14e11aa1ac8e2f97943a6": {
          "model_module": "@jupyter-widgets/base",
          "model_name": "LayoutModel",
          "model_module_version": "1.2.0",
          "state": {
            "_model_module": "@jupyter-widgets/base",
            "_model_module_version": "1.2.0",
            "_model_name": "LayoutModel",
            "_view_count": null,
            "_view_module": "@jupyter-widgets/base",
            "_view_module_version": "1.2.0",
            "_view_name": "LayoutView",
            "align_content": null,
            "align_items": null,
            "align_self": null,
            "border": null,
            "bottom": null,
            "display": null,
            "flex": null,
            "flex_flow": null,
            "grid_area": null,
            "grid_auto_columns": null,
            "grid_auto_flow": null,
            "grid_auto_rows": null,
            "grid_column": null,
            "grid_gap": null,
            "grid_row": null,
            "grid_template_areas": null,
            "grid_template_columns": null,
            "grid_template_rows": null,
            "height": null,
            "justify_content": null,
            "justify_items": null,
            "left": null,
            "margin": null,
            "max_height": null,
            "max_width": null,
            "min_height": null,
            "min_width": null,
            "object_fit": null,
            "object_position": null,
            "order": null,
            "overflow": null,
            "overflow_x": null,
            "overflow_y": null,
            "padding": null,
            "right": null,
            "top": null,
            "visibility": null,
            "width": null
          }
        },
        "b099088c17e549fea2a46f4798b81c1c": {
          "model_module": "@jupyter-widgets/controls",
          "model_name": "SliderStyleModel",
          "model_module_version": "1.5.0",
          "state": {
            "_model_module": "@jupyter-widgets/controls",
            "_model_module_version": "1.5.0",
            "_model_name": "SliderStyleModel",
            "_view_count": null,
            "_view_module": "@jupyter-widgets/base",
            "_view_module_version": "1.2.0",
            "_view_name": "StyleView",
            "description_width": "",
            "handle_color": null
          }
        },
        "a346e3307b47496ca59217cbaeb8a8c0": {
          "model_module": "@jupyter-widgets/controls",
          "model_name": "VBoxModel",
          "model_module_version": "1.5.0",
          "state": {
            "_dom_classes": [],
            "_model_module": "@jupyter-widgets/controls",
            "_model_module_version": "1.5.0",
            "_model_name": "VBoxModel",
            "_view_count": null,
            "_view_module": "@jupyter-widgets/controls",
            "_view_module_version": "1.5.0",
            "_view_name": "VBoxView",
            "box_style": "",
            "children": [
              "IPY_MODEL_36c5fc1c563f4655bb69439491c87e15",
              "IPY_MODEL_626c74e8c91a463481f737a206a92df6"
            ],
            "layout": "IPY_MODEL_ced10af3249c43ab885ba99898000373"
          }
        },
        "36c5fc1c563f4655bb69439491c87e15": {
          "model_module": "@jupyter-widgets/controls",
          "model_name": "HBoxModel",
          "model_module_version": "1.5.0",
          "state": {
            "_dom_classes": [],
            "_model_module": "@jupyter-widgets/controls",
            "_model_module_version": "1.5.0",
            "_model_name": "HBoxModel",
            "_view_count": null,
            "_view_module": "@jupyter-widgets/controls",
            "_view_module_version": "1.5.0",
            "_view_name": "HBoxView",
            "box_style": "",
            "children": [
              "IPY_MODEL_7e1e3e7e4b814993a4192d172101c4a4"
            ],
            "layout": "IPY_MODEL_ef87e1a4162b44f89703f6fa8c682969"
          }
        },
        "626c74e8c91a463481f737a206a92df6": {
          "model_module": "@jupyter-widgets/output",
          "model_name": "OutputModel",
          "model_module_version": "1.0.0",
          "state": {
            "_dom_classes": [],
            "_model_module": "@jupyter-widgets/output",
            "_model_module_version": "1.0.0",
            "_model_name": "OutputModel",
            "_view_count": null,
            "_view_module": "@jupyter-widgets/output",
            "_view_module_version": "1.0.0",
            "_view_name": "OutputView",
            "layout": "IPY_MODEL_be0a38a1a47f4f3aa5de29a9fc9d36d2",
            "msg_id": "",
            "outputs": [
              {
                "output_type": "display_data",
                "data": {
                  "text/html": "<html>\n<head><meta charset=\"utf-8\" /></head>\n<body>\n    <div>            <script src=\"https://cdnjs.cloudflare.com/ajax/libs/mathjax/2.7.5/MathJax.js?config=TeX-AMS-MML_SVG\"></script><script type=\"text/javascript\">if (window.MathJax && window.MathJax.Hub && window.MathJax.Hub.Config) {window.MathJax.Hub.Config({SVG: {font: \"STIX-Web\"}});}</script>                <script type=\"text/javascript\">window.PlotlyConfig = {MathJaxConfig: 'local'};</script>\n        <script charset=\"utf-8\" src=\"https://cdn.plot.ly/plotly-2.24.1.min.js\"></script>                <div id=\"8b940fb9-01d5-4a25-b9b1-84b4639a09aa\" class=\"plotly-graph-div\" style=\"height:500px; width:500px;\"></div>            <script type=\"text/javascript\">                                    window.PLOTLYENV=window.PLOTLYENV || {};                                    if (document.getElementById(\"8b940fb9-01d5-4a25-b9b1-84b4639a09aa\")) {                    Plotly.newPlot(                        \"8b940fb9-01d5-4a25-b9b1-84b4639a09aa\",                        [{\"hoverinfo\":\"text\",\"marker\":{\"size\":3},\"mode\":\"markers\",\"text\":[\"Ring: 1.0\\n Wire: 25.0\",\"Ring: 2.0\\n Wire: 25.0\",\"Ring: 3.0\\n Wire: 32.0\",\"Ring: 4.0\\n Wire: 31.0\",\"Ring: 5.0\\n Wire: 42.0\",\"Ring: 6.0\\n Wire: 42.0\",\"Ring: 7.0\\n Wire: 50.0\",\"Ring: 8.0\\n Wire: 51.0\",\"Ring: 9.0\\n Wire: 49.0\",\"Ring: 10.0\\n Wire: 48.0\",\"Ring: 11.0\\n Wire: 56.0\",\"Ring: 12.0\\n Wire: 55.0\",\"Ring: 13.0\\n Wire: 69.0\",\"Ring: 13.0\\n Wire: 70.0\",\"Ring: 14.0\\n Wire: 70.0\",\"Ring: 15.0\\n Wire: 77.0\",\"Ring: 16.0\\n Wire: 76.0\",\"Ring: 17.0\\n Wire: 76.0\",\"Ring: 19.0\\n Wire: 83.0\",\"Ring: 20.0\\n Wire: 82.0\",\"Ring: 21.0\\n Wire: 101.0\",\"Ring: 22.0\\n Wire: 101.0\",\"Ring: 23.0\\n Wire: 107.0\",\"Ring: 24.0\\n Wire: 108.0\",\"Ring: 25.0\\n Wire: 108.0\",\"Ring: 26.0\\n Wire: 109.0\",\"Ring: 27.0\\n Wire: 115.0\",\"Ring: 28.0\\n Wire: 114.0\"],\"x\":[-9.660009121379511,-10.46132854590834,-12.07020334012605,-13.667804810442947,-15.278301922555471,-16.933152102154345,-18.774011163056684,-19.722113305170947,-21.799226396401288,-23.33795702483765,-25.03899034571476,-26.57773235677407,-29.225188434484217,-28.60357380832665,-30.193642242404053,-31.68439168401273,-33.27011892531815,-35.32100575747798,-38.20974353057248,-39.74567085611079,-41.04219372754557,-42.0992315056441,-44.14179320086021,-45.21467540771461,-48.23628385633974,-49.3181568216108,-51.11065313657973,-52.6662020899691],\"y\":[-4.652012361856386,-6.039847443815391,-6.648823912393075,-6.523502027564079,-7.3941136166600145,-7.053142228224306,-8.328707655743012,-9.554553411098965,-9.698766314011863,-9.609600416819005,-10.594334218084214,-10.485134473733613,-11.42744437653888,-12.90479327233139,-12.704500222272156,-13.484077280409847,-13.253251223197529,-12.461617853744368,-13.588957857849636,-13.411571125828715,-14.819030327999023,-15.974640095293525,-15.284922838823805,-16.4271956047147,-14.52140901636676,-15.709092904397902,-15.340194834559114,-14.947891837263708],\"type\":\"scatter\",\"uid\":\"b1861342-55b2-44a6-8d17-0f8dab519927\"},{\"marker\":{\"color\":\"red\"},\"mode\":\"lines\",\"name\":\"track\",\"type\":\"scatter\",\"uid\":\"202e061c-c93a-4b7e-a61a-81dbcf1bc63c\",\"x\":[-7.105427357601002e-15,-0.06920407015071817,-0.1384401099523842,-0.2077080803817637,-0.2770079423975389,-0.3463396569404864,-0.41570318493337766,-0.48509848728111393,-0.5545255248706411,-0.6239842585710207,-0.6934746492334511,-0.7629966576913105,-0.8325502447601281,-0.9021353712376907,-0.9717519979039011,-1.0414000855209977,-1.1110795948334768,-1.1807904865680996,-1.2505327214339559,-1.3203062601224431,-1.3901110633073372,-1.459947091644814,-1.5298143057733924,-1.5997126663140904,-1.6696421338702905,-1.7396026690278887,-1.8095942323552592,-1.8796167844033107,-1.9496702857054657,-2.0197546967776674,-2.0898699781185,-2.160016090209112,-2.230192993513299,-2.300400648477492,-2.370639015530756,-2.4409080550848827,-2.5112077275343765,-2.581537993256461,-2.651898812611144,-2.722290145941166,-2.792711953572102,-2.863164195812338,-2.933646832953123,-3.00415982526858,-3.0747031330156673,-3.14527671643431,-3.2158805357473597,-3.2865145511606215,-3.357178722862905,-3.4278730110259445,-3.498597375804593,-3.569351777336692,-3.6401361757432014,-3.710950531128134,-3.78179480357862,-3.852668953164944,-3.9235729399405486,-3.9945067239420524,-4.065470265189319,-4.136463523685336,-4.207486459416451,-4.278539032352242,-4.349621202445583,-4.420732929632685,-4.491874173833047,-4.563044894949577,-4.634245052868572,-4.705474607459713,-4.776733518576151,-4.848021746054428,-4.9193392497145965,-4.990685989360237,-5.062061924778426,-5.133467015739761,-5.204901221998426,-5.276364503292221,-5.3478568193425104,-5.4193781298543655,-5.490928394516409,-5.562507573001021,-5.634115624964295,-5.705752510045997,-5.777418187869692,-5.849112618042668,-5.920835760156038,-5.992587573784732,-6.064368018487514,-6.136177053807032,-6.208014639269763,-6.279880734386147,-6.351775298650523,-6.423698291541214,-6.495649672520521,-6.567629401034679,-6.639637436514022,-6.711673738372895,-6.783738266009728,-6.855830978807042,-6.92795183613142,-7.000100797333651,-7.072277821748656,-7.144482868695533,-7.21671589747762,-7.288976867382409,-7.361265737681727,-7.4335824676316165,-7.505927016472448,-7.578299343428938,-7.65069940771005,-7.723127168509222,-7.795582585004219,-7.868065616357242,-7.940576221714949,-8.013114360208377,-8.085679990953118,-8.158273073049259,-8.23089356558139,-8.303541427618697,-8.376216618214869,-8.44891909640824,-8.521648821221753,-8.594405751663004,-8.667189846724277,-8.740001065382451,-8.81283936659922,-8.885704709320969,-8.95859705247885,-9.03151635498881,-9.104462575751555,-9.177435673652667,-9.250435607562544,-9.323462336336505,-9.396515818814748,-9.46959601382234,-9.542702880169351,-9.615836376650805,-9.688996462046717,-9.762183095122133,-9.83539623462707,-9.908635839296664,-9.981901867851136,-10.055194278995792,-10.1285130314211,-10.201858083802598,-10.275229394801102,-10.348626923062575,-10.422050627218212,-10.495500465884483,-10.568976397663043,-10.642478381140933,-10.716006374890469,-10.789560337469318,-10.863140227420516,-10.936746003272447,-11.01037762353895,-11.08403504671928,-11.15771823129814,-11.231427135745761,-11.30516171851778,-11.378921938055456,-11.452707752785557,-11.526519121120423,-11.600356001458024,-11.674218352181882,-11.748106131661238,-11.822019298250957,-11.89595781029162,-11.969921626109517,-12.043910704016639,-12.117925002310784,-12.19196447927552,-12.26602909318023,-12.34011880228013,-12.414233564816257,-12.488373339015567,-12.562538083090914,-12.636727755241061,-12.710942313650754,-12.785181716490655,-12.85944592191747,-12.933734888073921,-13.00804857308875,-13.08238693507682,-13.156749932139,-13.231137522362346,-13.305549663820024,-13.379986314571369,-13.454447432661922,-13.528932976123365,-13.603442902973683,-13.677977171217101,-13.75253573884411,-13.82711856383154,-13.90172560414247,-13.976356817726412,-14.051012162519228,-14.125691596443168,-14.200395077406938,-14.275122563305615,-14.34987401202082,-14.42464938142065,-14.499448629359705,-14.574271713679153,-14.649118592206676,-14.723989222756593,-14.79888356312982,-14.873801571113908,-14.948743204483101,-15.023708420998247,-15.098697178406972,-15.173709434443609,-15.248745146829265,-15.323804273271811,-15.398886771465897,-15.473992599093037,-15.549121713821592,-15.624274073306786,-15.699449635190767,-15.774648357102535,-15.849870196658124,-15.925115111460478,-16.000383059099562,-16.075673997152393,-16.15098788318293,-16.22632467474228,-16.30168432936862,-16.37706680458725,-16.45247205791061,-16.527900046838248,-16.603350728856952,-16.67882406144072,-16.75432000205076,-16.829838508135573,-16.905379537130862,-16.98094304645973,-17.056528993532545,-17.132137335747068,-17.207768030488438,-17.283421035129138,-17.359096307029134,-17.434793803535825,-17.51051348198409,-17.58625529969632,-17.662019213982354,-17.737805182139667,-17.813613161453254,-17.889443109195724,-17.965294982627313,-18.041168738995843,-18.11706433553686,-18.192981729473587,-18.26892087801695,-18.344881738365643,-18.420864267706065,-18.496868423212455,-18.572894162046836,-18.648941441359078,-18.725010218286933,-18.801100449955968,-18.877212093479713,-18.95334510595962,-19.029499444485097,-19.10567506613355,-19.181871927970313,-19.258089987048834,-19.334329200410586,-19.410589525085115,-19.486870918090084,-19.56317333643122,-19.63949673710247,-19.71584107708594,-19.79220631335191,-19.86859240285893,-19.944999302553718,-20.021426969371326,-20.09787536023508,-20.174344432056635,-20.250834141736,-20.327344446161497,-20.403875302209897,-20.480426666746375,-20.55699849662453,-20.633590748686466,-20.710203379762696,-20.78683634667233,-20.863489606222984,-20.94016311521083,-21.016856830420664,-21.09357070862582,-21.17030470658831,-21.24705878105884,-21.32383288877675,-21.400626986470122,-21.477441030855722,-21.55427497863913,-21.63112878651468,-21.70800241116551,-21.78489580926363,-21.86180893746981,-21.9387417524338,-22.01569421079421,-22.092666269178572,-22.16965788420341,-22.246669012474158,-22.3236996105853,-22.400749635120363,-22.477819042651866,-22.554907789741485,-22.632015832939885,-22.70914312878694,-22.786289633811656,-22.86345530453223,-22.940640097455983,-23.017843969079536,-23.09506687588872,-23.172308774358648,-23.24956962095375,-23.32684937212771,-23.40414798432362,-23.481465413973922,-23.558801617500457,-23.636156551314485,-23.71353017181668,-23.790922435397206,-23.868333298435736,-23.945762717301434,-24.023210648353043,-24.100677047938802,-24.178161872396593,-24.255665078053916,-24.33318662122789,-24.410726458225334,-24.48828454534268,-24.565860838866143,-24.64345529507166,-24.721067870224942,-24.798698520581414,-24.87634720238646,-24.954013871875137,-25.031698485272468,-25.109400998793358,-25.187121368642526,-25.264859551014794,-25.342615502094777,-25.42038917805717,-25.49818053506669,-25.57598952927797,-25.653816116835884,-25.731660253875223,-25.809521896520987,-25.887401000888286,-25.965297523082324,-26.043211419198627,-26.121142645322784,-26.1990911575307,-26.277056911888526,-26.355039864452635,-26.433039971269835,-26.51105718837712,-26.58909147180193,-26.667142777562074,-26.74521106166571,-26.823296280111542,-26.9013983888886,-26.97951734397647,-27.05765310134526,-27.135805616955516,-27.213974846758425,-27.292160746695718,-27.370363272699745,-27.4485823806935,-27.526818026590565,-27.605070166295256,-27.68333875570259,-27.761623750698295,-27.83992510715889,-27.9182427809516,-27.996576727934507,-28.07492690395652,-28.153293264857382,-28.23167576646776,-28.31007436460913,-28.38848901509397,-28.4669196737257,-28.545366296298702,-28.623828838598406,-28.702307256401173,-28.780801505474496,-28.859311541576933,-28.937837320458126,-29.016378797858874,-29.094935929511063,-29.173508671137824,-29.252096978453473,-29.330700807163524,-29.4093201129648,-29.487954851545318,-29.566604978584458,-29.645270449752925,-29.72395122071275,-29.802647247117374,-29.88135848461158,-29.960084888831638,-30.03882641540525,-30.117583019951578,-30.19635465808134,-30.275141285396682,-30.35394285749139,-30.432759329950795,-30.51159065835183,-30.590436798263084,-30.66929770524472,-30.74817333484865,-30.827063642618473,-30.905968584089504,-30.98488811478883,-31.063822190235264,-31.142770765939474,-31.22173379740394,-31.300711240122993,-31.379703049582854,-31.458709181261604,-31.53772959062929,-31.616764233147904,-31.69581306427142,-31.77487603944583,-31.853953114109082,-31.933044243691256,-32.012149383614485,-32.09126848929299,-32.17040151613318,-32.2495484195335,-32.328709154884685,-32.40788367756963,-32.48707194296345,-32.566273906433565,-32.64548952333959,-32.724718749033514,-32.803961538859625,-32.88321784815459,-32.96248763224743,-33.04177084645957,-33.12106744610489,-33.200377386489706,-33.27970062291281,-33.35903711066556,-33.43838680503173,-33.51774966128775,-33.59712563470259,-33.67651468053785,-33.75591675404776,-33.83533181047914,-33.91475980507158,-33.994200693057344,-34.07365442966143,-34.15312097010161,-34.232600269588374,-34.312092283325114,-34.39159696650799,-34.47111427432605,-34.550644161961245,-34.63018658458836,-34.709741497375184,-34.78930885548246,-34.868888614063884,-34.94848072826622,-35.028085153229185,-35.10770184408562,-35.18733075596143,-35.266971843975654,-35.34662506324045,-35.42629036886112,-35.50596771593618,-35.585657059557356,-35.66535835480961,-35.745071556771194,-35.82479662051357,-35.90453350110158,-35.98428215359342,-36.0640425330406,-36.14381459448807,-36.22359829297413,-36.30339358353058,-36.38320042118266,-36.46301876094911,-36.54284855784222,-36.62268976686774,-36.702542343025044,-36.7824062413071,-36.8622814167005,-36.94216782418546,-37.02206541873585,-37.101974155319255,-37.181893988897,-37.26182487442412,-37.34176676684949,-37.42171962111564,-37.50168339215906,-37.58165803491002,-37.6616435042927,-37.741639755225165,-37.82164674261935,-37.90166442138121,-37.98169274641066,-38.06173167260157,-38.14178115484191,-38.22184114801362,-38.30191160699276,-38.381992486649494,-38.46208374184809,-38.54218532744703,-38.62229719829885,-38.7024193092504,-38.78255161514272,-38.862694070811116,-38.942846631085175,-39.02300925078873,-39.10318188474002,-39.183364487751604,-39.26355701463043,-39.343759420177875,-39.42397165918969,-39.504193686456134,-39.58442545676192,-39.664666924886305,-39.74491804560307,-39.8251787736805,-39.90544906388152,-39.985728870963676,-40.06601814967911,-40.14631685477468,-40.22662494099184,-40.30694236306684,-40.38726907573062,-40.467605033708935,-40.54795019172229,-40.628304504485996,-40.70866792671022,-40.7890404131,-40.86942191835526,-40.94981239717087,-41.03021180423655,-41.11062009423709,-41.19103722185223,-41.271463141756726,-41.351897808620414,-41.43234117710813,-41.51279320187985,-41.593253837590694,-41.673723038890884,-41.75420076042587,-41.834686956836194,-41.91518158275773,-41.99568459282156,-42.07619594165404,-42.156715583876846,-42.23724347410692,-42.3177795669566,-42.39832381703363,-42.4788761789411,-42.559436607277576,-42.640005056637015,-42.72058148160891,-42.80116583677823,-42.8817580767255,-42.962358156026795,-43.042966029253726,-43.123581650973556,-43.20420497574918,-43.28483595813914,-43.36547455269769,-43.44612071397472,-43.52677439651593,-43.607435554862754,-43.6881041435524,-43.76878011711794,-43.849463430088186,-43.9301540369879,-44.0108518923377,-44.09155695065413,-44.172269166449695,-44.252988494232774,-44.33371488850784,-44.41444830377534,-44.49518869453176,-44.575936015269704,-44.65669022047777,-44.73745126464076,-44.818219102239595,-44.89899368775137,-44.979774975649406,-45.06056292040316,-45.14135747647841,-45.2221585983372,-45.30296624043786,-45.383780357235075,-45.4646009031798,-45.54542783271945,-45.6262611002978,-45.70710066035509,-45.78794646732799,-45.86879847564961,-45.94965663974962,-46.03052091405421,-46.11139125298611,-46.19226761096468,-46.27314994240578,-46.354038201722005,-46.434932343322586,-46.51583232161341,-46.59673809099713,-46.677649605873036,-46.75856682063728,-46.83948968968274,-46.92041816739916,-47.00135220817309,-47.08229176638791,-47.16323679642395,-47.244187252658435,-47.32514308946553,-47.40610426121637,-47.487070722279064,-47.56804242701877,-47.64901932979765,-47.730001384975,-47.81098854690718,-47.891980769947615,-47.972978008446965,-48.05398021675302,-48.13498734921077,-48.21599936016246,-48.29701620394752,-48.37803783490273,-48.45906420736211,-48.54009527565706,-48.62113099411633,-48.70217131706596,-48.78321619882952,-48.86426559372793,-48.945319456079595,-49.026377740200424,-49.10744040040376,-49.18850739100055,-49.26957866629927,-49.35065418060599,-49.431733888224414,-49.51281774345582,-49.59390570059919,-49.6749977139512,-49.756093737806225,-49.83719372645641,-49.918297634191596,-49.99940541529948,-50.08051702406554,-50.16163241477312,-50.24275154170346,-50.323874359135594,-50.40500082134656,-50.486130882611334,-50.56726449720284,-50.64840161939205,-50.72954220344784,-50.81068620363727,-50.891833574225416,-50.9729842694754,-51.054138243648616,-51.13529545100445,-51.21645584580057,-51.297619382292815,-51.3787860147352,-51.459955697380124,-51.54112838447814,-51.622304030278165,-51.70348258902747,-51.78466401497159,-51.86584826235459,-51.9470352854188,-52.02822503840507,-52.10941747555272,-52.19061255109945,-52.27181021928165,-52.353010434334074,-52.43421315049014,-52.51541832198186,-52.59662590303976,-52.67783584789317,-52.759048110769946,-52.8402626458967,-52.92147940749878,-53.00269834980019,-53.08391942702386,-53.165142593391344,-53.24636780312314,-53.32759501043857,-53.40882416955574,-53.49005523469183,-53.57128816006277,-53.65252289988355,-53.733759408368115,-53.81499763972934,-53.89623754817929,-53.97747908792891,-54.058722213188325,-54.13996687816677,-54.22121303707251,-54.30246064411314,-54.38370965349528,-54.46496001942483,-54.54621169610696,-54.627464637745966,-54.70871879854563,-54.78997413270888,-54.87123059443804,-54.95248813793485,-55.03374671740031,-55.115006287035015,-55.19626680103883,-55.27752821361119,-55.35879047895102,-55.440053551256675,-55.5213173847262,-55.602581933557076,-55.68384715194645,-55.76511299409111,-55.84637941418739,-55.92764636643145,-56.008913805019006,-56.09018168414559,-56.171449958006484,-56.25271858079664,-56.333987506711004,-56.41525668994416,-56.49652608469065,-56.57779564514491,-56.65906532550118,-56.74033507995379,-56.821604862696866,-56.90287462792462,-56.98414432983126,-57.06541392261096,-57.14668336045809,-57.22795259756697,-57.309221588132104,-57.39049028634815,-57.47175864640983,-57.55302662251223,-57.634294168850474,-57.71556123962003,-57.79682778901664,-57.87809377123623,-57.95935914047523,-58.04062385093023,-58.12188785679831,-58.20315111227692,-58.28441357156385,-58.36567518885752,-58.44693591835664,-58.528195714260505,-58.60945453076897,-58.69071232208232,-58.771969042401594,-58.85322464592826,-58.93447908686453,-59.015732319413246,-59.09698429777785,-59.17823497616266,-59.259484308772564,-59.34073224981328,-59.42197875349133,-59.503223774013954,-59.58446726558938,-59.66570918242654,-59.74694947873535,-59.828188108726636,-59.90942502661207,-59.990660186604444,-60.0718935429174,-60.15312504976566,-60.234354661365025,-60.31558233193223,-60.396808015685295,-60.478031666843194,-60.55925323962612,-60.64047268825547,-60.72168996695372,-60.80290502994474,-60.88411783145348,-60.96532832570627,-61.046536466930725,-61.12774220935571,-61.208945507211595,-61.29014631472997,-61.3713445861439,-61.452540275687916,-61.53373333759789,-61.614923726111336,-61.69611139546711,-61.777296299905714,-61.858478393669195,-61.939657631001076,-62.020833966146675,-62.10200735335278,-62.18317774686792,-62.26434510094233,-62.345509369827845,-62.42667050777822,-62.5078284690488,-62.58898320789682,-62.67013467858132,-62.751282835363114,-62.832427632505016,-62.91356902427159,-62.99470696492941,-63.07584140874698,-63.156972309994735,-63.23809962294515,-63.319223301872704,-63.40034330105394,-63.48145957476748,-63.56257207729398,-63.643680762916304,-63.72478558591942,-63.8058865005905,-63.886983461218925,-63.96807642209624,-64.0491653375163,-64.13025016177525,-64.21133084917152,-64.29240735400589,-64.37347963058141,-64.45454763320366,-64.5356113161805,-64.61667063382231,-64.6977255404419,-64.77877599035453,-64.85982193787802,-64.94086333733273,-65.02190014304153,-65.10293230932999,-65.18395979052613,-65.26498254096074,-65.34600051496724,-65.42701366688175,-65.50802195104309,-65.58902532179282,-65.67002373347528,-65.75101714043761,-65.83200549702977,-65.9129887576046,-65.99396687651769,-66.07493980812768,-66.15590750679603,-66.23686992688721,-66.31782702276865,-66.39877874881076,-66.47972505938695,-66.56066590887377,-66.6416012516508,-66.72253104210071,-66.8034552346093,-66.88437378356554,-66.9652866433616,-67.0461937683928,-67.12709511305778,-67.20799063175832,-67.2888802788996,-67.36976400889003,-67.4506417761414,-67.53151353506885,-67.61237924009086,-67.69323884562941,-67.77409230610984,-67.85493957596098,-67.93578060961521,-68.01661536150829,-68.09744378607962,-68.17826583777219,-68.25908147103249,-68.3398906403107,-68.42069330006059,-68.50148940473966,-68.58227890880903,-68.66306176673362,-68.74383793298206,-68.82460736202671,-68.9053700083438,-68.98612582641333,-69.06687477071917,-69.14761679574909,-69.22835185599469,-69.30907990595155,-69.3898009001192,-69.47051479300113,-69.55122153910486,-69.63192109294187,-69.71261340902777,-69.7932984418822,-69.87397614602894,-69.95464647599592,-70.0353093863151,-70.11596483152279,-70.19661276615943,-70.27725314476962,-70.35788592190238,-70.43851105211087,-70.51912848995265,-70.59973818998958,-70.68034010678782,-70.7609341949181,-70.84152040895533,-70.92209870347904,-71.00266903307313,-71.08323135232598,-71.1637856158306,-71.2443317781844,-71.32486979398944,-71.40539961785234,-71.48592120438428,-71.56643450820128,-71.64693948392379,-71.7274360861771,-71.80792426959118,-71.88840398880069,-71.9688751984452,-72.04933785316894,-72.12979190762101,-72.2102373164554,-72.29067403433086,-72.37110201591119,-72.451521215865,-72.53193158886586,-72.6123330895924,-72.6927256727281,-72.77310929296166,-72.85348390498666,-72.93384946350184,-73.01420592321108,-73.09455323882321,-73.17489136505249,-73.25522025661812,-73.3355398682446,-73.4158501546617,-73.49615107060433,-73.57644257081284,-73.65672461003273,-73.73699714301493,-73.81726012451571,-73.89751350929667,-73.97775725212493,-74.05799130777292,-74.13821563101861,-74.21843017664544,-74.2986348994423,-74.37882975420378,-74.4590146957298,-74.53918967882606,-74.61935465830382,-74.69950958897986,-74.77965442567684,-74.85978912322292,-74.93991363645208,-75.020027920204,-75.10013192932409,-75.18022561866368,-75.26030894307978,-75.34038185743529,-75.42044431659902,-75.50049627544554,-75.58053768885556,-75.66056851171551,-75.74058869891792,-75.82059820536128,-75.90059698595007,-75.9805849955949,-76.06056218921233,-76.14052852172513,-76.22048394806214,-76.3004284231583,-76.38036190195484,-76.46028433939908,-76.5401956904446,-76.62009591005128,-76.69998495318512,-76.77986277481865,-76.85972932993053,-76.93958457350585,-77.01942846053609,-77.09926094601904,-77.17908198495908,-77.25889153236687,-77.33868954325965,-77.41847597266113,-77.49825077560152,-77.57801390711768,-77.65776532225291,-77.73750497605724,-77.81723282358728,-77.89694881990621,-77.97665292008406,-78.05634507919744],\"y\":[0.0,-0.042609556594527476,-0.08516714617836385,-0.1276727447649506,-0.17012632839696096,-0.21252787314642774,-0.2548773551147292,-0.2971747504325606,-0.3394200352600052,-0.3816131857864349,-0.42375417823069483,-0.46584298884101827,-0.5078795938950122,-0.5498639696997287,-0.5917960925916361,-0.6336759389367046,-0.6755034851303066,-0.7172787075973446,-0.7590015827921803,-0.8006720871986772,-0.842290197330243,-0.8838558897298014,-0.9253691409697922,-0.9668299276522987,-1.0082382264088494,-1.0495940139006734,-1.0908972668185157,-1.1321479618827652,-1.1733460758434688,-1.2144915854802179,-1.2555844676023185,-1.296624699048749,-1.337612256688118,-1.3785471174187762,-1.4194292581687051,-1.4602586558956574,-1.5010352875871007,-1.541759130260246,-1.5824301609620335,-1.623048356769175,-1.6636136947881965,-1.7041261521553963,-1.7445857060368297,-1.7849923336284803,-1.8253460121560323,-1.8656467188751122,-1.905894431071161,-1.9460891260594906,-1.9862307811853128,-2.0263193738236964,-2.066354881379638,-2.1063372812880914,-2.1462665510138947,-2.186142668051829,-2.225965609926675,-2.265735354193154,-2.3054518784359885,-2.345115160269856,-2.3847251773395044,-2.424281907319653,-2.463785327915076,-2.5032354168605906,-2.5426321519210973,-2.5819755108915246,-2.6212654715969137,-2.6605020118923903,-2.699685109663193,-2.7388147428246725,-2.7778908893223644,-2.8169135271318737,-2.855882634259004,-2.894798188739742,-2.9336601686402446,-2.972468552056853,-3.0112233171161336,-3.049924441974852,-3.0885719048200286,-3.1271656838689523,-3.1657057573690963,-3.204192103598274,-3.2426247008645674,-3.2810035275063,-3.3193285618921777,-3.3575997824211754,-3.39581716752258,-3.4339806956561176,-3.47209034531177,-3.5101460950099295,-3.5481479233013573,-3.5860958087672117,-3.6239897300190336,-3.661829665698832,-3.6996155944790132,-3.73734749506238,-3.7750253461822467,-3.8126491266023805,-3.850218815117003,-3.887734390550861,-3.9251958317591544,-3.9626031176276086,-3.999956227072488,-4.03725513904061,-4.074499832509275,-4.111690286486393,-4.148826480010442,-4.185908392150452,-4.222936002006094,-4.259909288707618,-4.296828231415873,-4.333692809322372,-4.370503001649254,-4.407258787649312,-4.443960146606003,-4.480607057833481,-4.51719950067654,-4.553737454510724,-4.5902208987422455,-4.626649812808111,-4.663024176175966,-4.699343968344266,-4.735609168842203,-4.771819757229736,-4.8079757130976475,-4.8440770160674305,-4.880123645791457,-4.916115581952866,-4.952052804265676,-4.987935292474688,-5.023763026355553,-5.059535985714845,-5.095254150389948,-5.130917500249154,-5.16652601519165,-5.202079675147544,-5.237578460077813,-5.273022349974411,-5.308411324860231,-5.343745364789086,-5.379024449845758,-5.414248560146035,-5.449417675836656,-5.484531777095398,-5.519590844130988,-5.554594857183204,-5.589543796522847,-5.624437642451781,-5.659276375302895,-5.694059975440169,-5.728788423258592,-5.763461699184319,-5.798079783674567,-5.832642657217633,-5.867150300333009,-5.901602693571235,-5.935999817514016,-5.970341652774238,-6.004628179995905,-6.0388593798542445,-6.073035233055606,-6.1071557203375875,-6.141220822468981,-6.175230520249755,-6.209184794511174,-6.243083626115677,-6.276926995956998,-6.310714884960078,-6.344447274081219,-6.37812414430789,-6.41174547665895,-6.4453112521844815,-6.478821451965956,-6.512276057116097,-6.545675048779032,-6.579018408130182,-6.612306116376331,-6.645538154755641,-6.678714504537666,-6.711835147023322,-6.744900063544932,-6.777909235466211,-6.810862644182336,-6.843760271119876,-6.876602097736864,-6.909388105522737,-6.942118275998453,-6.974792590716419,-7.007411031260503,-7.0399735792460945,-7.0724802163200735,-7.104930924160811,-7.137325684478242,-7.169664479013818,-7.201947289540556,-7.234174097862947,-7.266344885817119,-7.298459635270788,-7.3305183281231905,-7.362520946305239,-7.39446747177935,-7.426357886539648,-7.458192172611817,-7.489970312053217,-7.52169228695287,-7.553358079431376,-7.584967671641081,-7.61652104576595,-7.648018184021694,-7.67945906865566,-7.710843681946955,-7.7421720062063315,-7.773444023776335,-7.804659717031228,-7.83581906837702,-7.866922060251454,-7.897968675124048,-7.928958895496109,-7.959892703900735,-7.990770082902813,-8.021591015098977,-8.052355483117779,-8.083063469619532,-8.113714957296395,-8.144309928872389,-8.174848367103323,-8.205330254776953,-8.235755574712883,-8.266124309762588,-8.296436442809423,-8.326691956768656,-8.356890834587489,-8.387033059245041,-8.417118613752322,-8.447147481152356,-8.477119644520016,-8.507035086962219,-8.536893791617814,-8.566695741657654,-8.596440920284579,-8.626129310733361,-8.655760896270877,-8.68533566019596,-8.714853585839492,-8.744314656564384,-8.77371885576558,-8.803066166870082,-8.83235657333698,-8.861590058657413,-8.890766606354632,-8.919886199983921,-8.948948823132696,-8.97795445942053,-9.006903092499044,-9.035794706052016,-9.06462928379537,-9.093406809477173,-9.12212726687764,-9.15079063980916,-9.179396912116275,-9.20794606767575,-9.23643809039649,-9.264872964219663,-9.293250673118592,-9.321571201098877,-9.349834532198273,-9.378040650486824,-9.406189540066833,-9.43428118507282,-9.462315569671574,-9.490292678062161,-9.518212494475975,-9.54607500317664,-9.573880188460095,-9.601628034654624,-9.629318526120755,-9.656951647251432,-9.68452738247187,-9.712045716239658,-9.73950663304474,-9.766910117409381,-9.79425615388827,-9.821544727068442,-9.848775821569333,-9.87594942204278,-9.903065513173004,-9.930124079676645,-9.957125106302797,-9.984068577832943,-10.010954479081036,-10.03778279489346,-10.064553510149068,-10.091266609759145,-10.117922078667505,-10.14451990185043,-10.171060064316634,-10.197542551107375,-10.223967347296451,-10.250334437990134,-10.276643808327222,-10.302895443479045,-10.329089328649488,-10.355225449074965,-10.38130379002449,-10.407324336799618,-10.433287074734437,-10.45919198919566,-10.485039065582626,-10.510828289327193,-10.536559645893902,-10.562233120779851,-10.587848699514794,-10.6134063676611,-10.638906110813792,-10.664347914600526,-10.689731764681639,-10.715057646750097,-10.740325546531565,-10.765535449784394,-10.790687342299591,-10.815781209900905,-10.84081703844474,-10.86579481382023,-10.890714521949263,-10.9155761487864,-10.940379680318955,-10.965125102567043,-10.98981240158345,-11.014441563453772,-11.03901257429635,-11.063525420262295,-11.087980087535527,-11.112376562332727,-11.13671483090343,-11.160994879529909,-11.18521669452727,-11.20938026224347,-11.233485569059297,-11.25753260138832,-11.281521345677021,-11.305451788404682,-11.329323916083482,-11.353137715258427,-11.376893172507451,-11.400590274441356,-11.4242290077038,-11.447809358971355,-11.471331314953531,-11.494794862392709,-11.518199988064225,-11.541546678776314,-11.564834921370164,-11.58806470271989,-11.611236009732565,-11.63434882934824,-11.657403148539899,-11.680398954313546,-11.703336233708086,-11.726214973795464,-11.749035161680652,-11.771796784501547,-11.7944998294291,-11.817144283667261,-11.839730134453006,-11.862257369056394,-11.884725974780437,-11.907135938961233,-11.92948724896793,-11.951779892202723,-11.97401385610091,-11.996189128130823,-12.01830569579387,-12.040363546624604,-12.062362668190602,-12.084303048092565,-12.106184673964336,-12.12800753347284,-12.149771614318126,-12.171476904233359,-12.193123390984908,-12.214711062372174,-12.236239906227823,-12.257709910417603,-12.279121062840446,-12.300473351428437,-12.3217667641469,-12.343001288994273,-12.364176914002215,-12.385293627235583,-12.406351416792418,-12.427350270804013,-12.448290177434842,-12.469171124882607,-12.489993101378275,-12.510756095185982,-12.531460094603204,-12.55210508796057,-12.572691063622045,-12.593218009984795,-12.613685915479309,-12.634094768569312,-12.65444455775183,-12.67473527155721,-12.694966898549026,-12.715139427324203,-12.735252846512978,-12.755307144778897,-12.775302310818802,-12.795238333362903,-12.815115201174706,-12.834932903051097,-12.854691427822274,-12.87439076435183,-12.894030901536667,-12.913611828307097,-12.933133533626773,-12.952596006492769,-12.971999235935485,-12.991343211018759,-13.01062792083981,-13.029853354529251,-13.049019501251138,-13.068126350202903,-13.087173890615418,-13.10616211175298,-13.125091002913308,-13.143960553427604,-13.162770752660478,-13.181521590009993,-13.200213054907664,-13.218845136818516,-13.237417825240968,-13.255931109707006,-13.274384979782013,-13.292779425064907,-13.311114435188102,-13.329389999817465,-13.347606108652428,-13.365762751425905,-13.383859917904317,-13.401897597887611,-13.4198757812093,-13.437794457736373,-13.455653617369407,-13.473453250042468,-13.491193345723246,-13.508873894412929,-13.52649488614631,-13.544056310991692,-13.561558159051032,-13.579000420459778,-13.596383085387032,-13.613706144035476,-13.630969586641328,-13.648173403474487,-13.665317584838405,-13.682402121070169,-13.699427002540489,-13.716392219653684,-13.733297762847698,-13.75014362259411,-13.766929789398162,-13.78365625379871,-13.800323006368274,-13.816930037713036,-13.833477338472832,-13.849964899321137,-13.866392710965158,-13.882760764145715,-13.899069049637347,-13.915317558248262,-13.931506280820372,-13.947635208229315,-13.963704331384335,-13.9797136412285,-13.995663128738485,-14.011552784924774,-14.02738260083153,-14.043152567536623,-14.058862676151705,-14.074512917822119,-14.09010328372699,-14.105633765079148,-14.121104353125219,-14.136515039145578,-14.151865814454311,-14.167156670399365,-14.182387598362368,-14.197558589758756,-14.212669636037788,-14.227720728682456,-14.242711859209564,-14.257643019169706,-14.272514200147285,-14.287325393760526,-14.302076591661418,-14.316767785535802,-14.33139896710334,-14.345970128117486,-14.36048126036556,-14.374932355668705,-14.389323405881896,-14.403654402893935,-14.417925338627526,-14.432136205039157,-14.44628699411922,-14.460377697891943,-14.47440830841542,-14.488378817781665,-14.502289218116502,-14.516139501579644,-14.529929660364715,-14.543659686699229,-14.557329572844552,-14.570939311095984,-14.58448889378272,-14.59797831326783,-14.611407561948354,-14.624776632255177,-14.638085516653149,-14.651334207641028,-14.66452269775148,-14.67765097955116,-14.690719045640577,-14.70372688865426,-14.716674501260584,-14.729561876161995,-14.742389006094797,-14.75515588382926,-14.767862502169649,-14.780508853954174,-14.793094932055013,-14.805620729378333,-14.818086238864225,-14.830491453486815,-14.842836366254204,-14.855120970208446,-14.867345258425644,-14.87950922401582,-14.891612860123075,-14.903656159925461,-14.915639116635063,-14.927561723497945,-14.939423973794234,-14.951225860838036,-14.962967377977492,-14.974648518594776,-14.986269276106086,-14.997829643961651,-15.009329615645726,-15.020769184676638,-15.032148344606739,-15.043467089022428,-15.054725411544155,-15.065923305826445,-15.077060765557832,-15.088137784460983,-15.099154356292587,-15.110110474843395,-15.121006133938252,-15.131841327436078,-15.142616049229872,-15.15333029324671,-15.163984053447749,-15.17457732382826,-15.185110098417596,-15.195582371279187,-15.205994136510597,-15.216345388243468,-15.226636120643562,-15.236866327910747,-15.24703600427901,-15.257145144016448,-15.267193741425274,-15.277181790841823,-15.287109286636579,-15.296976223214145,-15.30678259501326,-15.316528396506754,-15.326213622201664,-15.33583826663913,-15.345402324394442,-15.354905790077055,-15.364348658330542,-15.373730923832667,-15.383052581295345,-15.39231362546461,-15.401514051120714,-15.410653853078045,-15.419733026185156,-15.428751565324802,-15.437709465413874,-15.446606721403498,-15.455443328278903,-15.464219281059542,-15.472934574799098,-15.481589204585347,-15.49018316554033,-15.498716452820275,-15.507189061615577,-15.515600987150862,-15.523952224684919,-15.532242769510788,-15.540472616955697,-15.54864176238108,-15.556750201182581,-15.564797928790085,-15.572784940667674,-15.580711232313632,-15.588576799260522,-15.596381637075083,-15.604125741358303,-15.611809107745387,-15.619431731905806,-15.626993609543248,-15.63449473639561,-15.641935108235089,-15.649314720868063,-15.656633570135199,-15.663891651911399,-15.671088962105827,-15.678225496661852,-15.685301251557178,-15.692316222803683,-15.699270406447567,-15.70616379856925,-15.71299639528344,-15.719768192739096,-15.72647918711948,-15.733129374642061,-15.739718751558627,-15.74624731415524,-15.75271505875223,-15.759121981704183,-15.765468079399994,-15.771753348262834,-15.777977784750178,-15.784141385353735,-15.790244146599562,-15.796286065047966,-15.802267137293569,-15.80818735996526,-15.814046729726272,-15.819845243274102,-15.825582897340524,-15.831259688691674,-15.836875614127948,-15.842430670484063,-15.847924854629056,-15.853358163466226,-15.858730593933231,-15.864042143002038,-15.869292807678903,-15.87448258500443,-15.879611472053497,-15.884679465935335,-15.889686563793475,-15.894632762805813,-15.899518060184533,-15.904342453176127,-15.909105939061462,-15.913808515155694,-15.918450178808342,-15.923030927403232,-15.927550758358521,-15.932009669126742,-15.936407657194692,-15.940744720083586,-15.945020855348915,-15.949236060580546,-15.95339033340268,-15.957483671473852,-15.961516072486944,-15.965487534169199,-15.969398054282195,-15.973247630621842,-15.977036261018426,-15.98076394333657,-15.984430675475252,-15.988036455367833,-15.991581280981961,-15.99506515031969,-15.998488061417419,-16.001850012345912,-16.00515100121028,-16.00839102614998,-16.011570085338874,-16.014688176985146,-16.017745299331352,-16.02074145065444,-16.023676629265665,-16.02655083351071,-16.02936406176957,-16.032116312456665,-16.034807584020726,-16.037437874944914,-16.040007183746695,-16.042515508977942,-16.044962849224902,-16.047349203108197,-16.049674569282814,-16.0519389464381,-16.054142333297804,-16.056284728620028,-16.05836613119726,-16.06038653985638,-16.06234595345863,-16.064244370899615,-16.06608179110937,-16.067858213052233,-16.069573635726996,-16.07122805816678,-16.072821479439142,-16.07435389864594,-16.075825314923506,-16.07723572744247,-16.07858513540792,-16.079873538059275,-16.081100934670374,-16.082267324549406,-16.083372707038976,-16.08441708151605,-16.08540044739199,-16.086322804112555,-16.087184151157857,-16.087984488042466,-16.088723814315244,-16.08940212955949,-16.09001943339291,-16.090575725467573,-16.091071005469928,-16.09150527312083,-16.0918785281755,-16.09219077042357,-16.092441999689058,-16.09263221583035,-16.09276141874024,-16.092829608345937,-16.09283678460895,-16.092782947525265,-16.09266809712524,-16.092492233473592,-16.09225535666944,-16.09195746684631,-16.09159856417206,-16.091178648849024,-16.09069772111387,-16.090155781237627,-16.089552829525786,-16.088888866318158,-16.088163891988998,-16.087377906946898,-16.08653091163488,-16.085622906530304,-16.08465389214497,-16.083623869025033,-16.082532837751046,-16.081380798937943,-16.08016775323503,-16.078893701326024,-16.07755864392901,-16.076162581796467,-16.074705515715266,-16.07318744650661,-16.07160837502616,-16.069968302163915,-16.06826722884425,-16.06650515602594,-16.06468208470214,-16.062798015900384,-16.060852950682587,-16.05884689014502,-16.056779835418368,-16.05465178766768,-16.052462748092367,-16.050212717926257,-16.0479016984375,-16.045529690928646,-16.04309669673664,-16.040602717232773,-16.038047753822724,-16.035431807946537,-16.03275488107863,-16.030016974727786,-16.02721809043716,-16.02435822978427,-16.021437394381024,-16.018455585873696,-16.015412805942873,-16.012309056303593,-16.00914433870517,-16.005918654931364,-16.002632006800226,-15.9992843961642,-15.995875824910087,-15.992406294959068,-15.98887580826667,-15.98528436682274,-15.981631972651499,-15.97791862781159,-15.974144334395902,-15.970309094531743,-15.966412910380768,-15.962455784138953,-15.958437718036649,-15.954358714338554,-15.950218775343686,-15.946017903385425,-15.941756100831512,-15.937433370083994,-15.933049713579294,-15.928605133788139,-15.924099633215633,-15.91953321440117,-15.914905879918535,-15.910217632375804,-15.9054684744154,-15.900658408714051,-15.89578743798289,-15.890855564967282,-15.885862792446972,-15.88080912323602,-15.875694560182836,-15.870519106170079,-15.865282764114795,-15.859985536968338,-15.854627427716352,-15.849208439378813,-15.84372857500999,-15.838187837698513,-15.832586230567273,-15.826923756773482,-15.82120041950867,-15.81541622199866,-15.809571167503563,-15.803665259317839,-15.797698500770181,-15.791670895223632,-15.785582446075523,-15.779433156757449,-15.77322303073531,-15.766952071509323,-15.760620282613928,-15.754227667617926,-15.74777423012435,-15.741259973770525,-15.734684902228082,-15.728049019202885,-15.721352328435088,-15.714594833699152,-15.707776538803756,-15.700897447591885,-15.693957563940785,-15.686956891761938,-15.679895435001129,-15.672773197638364,-15.665590183687954,-15.658346397198414,-15.651041842252553,-15.643676522967397,-15.63625044349422,-15.628763608018616,-15.621216020760315,-15.61360768597335,-15.605938607945987,-15.598208791000715,-15.59041823949427,-15.582566957817619,-15.574654950395953,-15.56668222168868,-15.558648776189443,-15.55055461842612,-15.54239975296079,-15.534184184389744,-15.525907917343503,-15.517570956486779,-15.50917330651852,-15.500714972171878,-15.492195958214168,-15.48361626944694,-15.474975910705936,-15.4662748868611,-15.457513202816557,-15.448690863510635,-15.439807873915825,-15.430864239038812,-15.421859963920497,-15.41279505363589,-15.403669513294247,-15.39448334803896,-15.38523656304757,-15.375929163531865,-15.366561154737681,-15.357132541945134,-15.3476433304684,-15.338093525655864,-15.328483132890057,-15.318812157587658,-15.309080605199469,-15.299288481210468,-15.289435791139752,-15.279522540540555,-15.269548735000257,-15.25951438014036,-15.24941948161647,-15.23926404511839,-15.229048076369935,-15.218771581129161,-15.208434565188114,-15.198037034373058,-15.187578994544296,-15.177060451596276,-15.166481411457497,-15.155841880090605,-15.145141863492356,-15.134381367693507,-15.123560398758983,-15.112678962787797,-15.101737065912971,-15.090734714301703,-15.07967191415517,-15.068548671708669,-15.057364993231559,-15.046120885027264,-15.034816353433271,-15.023451404821074,-15.012026045596329,-15.000540282198614,-14.988994121101626,-14.977387568813128,-14.965720631874817,-14.953993316862551,-14.942205630386113,-14.930357579089375,-14.91844916965023,-14.906480408780538,-14.894451303226248,-14.882361859767258,-14.870212085217517,-14.858001986424966,-14.845731570271525,-14.833400843673147,-14.821009813579735,-14.808558486975215,-14.79604687087749,-14.783474972338439,-14.770842798443923,-14.758150356313763,-14.745397653101762,-14.732584695995683,-14.719711492217257,-14.706778049022162,-14.693784373700026,-14.680730473574428,-14.667616356002895,-14.654442028376906,-14.641207498121858,-14.627912772697073,-14.614557859595834,-14.601142766345305,-14.587667500506612,-14.574132069674747,-14.560536481478664,-14.546880743581184,-14.533164863679048,-14.519388849502903,-14.505552708817262,-14.49165644942056,-14.477700079145066,-14.463683605857014,-14.449607037456403,-14.43547038187721,-14.421273647087219,-14.407016841088065,-14.392699971915306,-14.378323047638261,-14.363886076360203,-14.349389066218151,-14.334832025383022,-14.320214962059538,-14.305537884486284,-14.290800800935656,-14.276003719713856,-14.26114664916092,-14.246229597650682,-14.23125257359078,-14.216215585422674,-14.201118641621633,-14.185961750696677,-14.170744921190632,-14.155468161680105,-14.140131480775494,-14.124734887120951,-14.109278389394433,-14.093761996307606,-14.07818571660593,-14.062549559068614,-14.04685353250862,-14.031097645772647,-14.015281907741127,-13.999406327328202,-13.983470913481838]}],                        {\"template\":{\"data\":{\"barpolar\":[{\"marker\":{\"line\":{\"color\":\"#E5ECF6\",\"width\":0.5},\"pattern\":{\"fillmode\":\"overlay\",\"size\":10,\"solidity\":0.2}},\"type\":\"barpolar\"}],\"bar\":[{\"error_x\":{\"color\":\"#2a3f5f\"},\"error_y\":{\"color\":\"#2a3f5f\"},\"marker\":{\"line\":{\"color\":\"#E5ECF6\",\"width\":0.5},\"pattern\":{\"fillmode\":\"overlay\",\"size\":10,\"solidity\":0.2}},\"type\":\"bar\"}],\"carpet\":[{\"aaxis\":{\"endlinecolor\":\"#2a3f5f\",\"gridcolor\":\"white\",\"linecolor\":\"white\",\"minorgridcolor\":\"white\",\"startlinecolor\":\"#2a3f5f\"},\"baxis\":{\"endlinecolor\":\"#2a3f5f\",\"gridcolor\":\"white\",\"linecolor\":\"white\",\"minorgridcolor\":\"white\",\"startlinecolor\":\"#2a3f5f\"},\"type\":\"carpet\"}],\"choropleth\":[{\"colorbar\":{\"outlinewidth\":0,\"ticks\":\"\"},\"type\":\"choropleth\"}],\"contourcarpet\":[{\"colorbar\":{\"outlinewidth\":0,\"ticks\":\"\"},\"type\":\"contourcarpet\"}],\"contour\":[{\"colorbar\":{\"outlinewidth\":0,\"ticks\":\"\"},\"colorscale\":[[0.0,\"#0d0887\"],[0.1111111111111111,\"#46039f\"],[0.2222222222222222,\"#7201a8\"],[0.3333333333333333,\"#9c179e\"],[0.4444444444444444,\"#bd3786\"],[0.5555555555555556,\"#d8576b\"],[0.6666666666666666,\"#ed7953\"],[0.7777777777777778,\"#fb9f3a\"],[0.8888888888888888,\"#fdca26\"],[1.0,\"#f0f921\"]],\"type\":\"contour\"}],\"heatmapgl\":[{\"colorbar\":{\"outlinewidth\":0,\"ticks\":\"\"},\"colorscale\":[[0.0,\"#0d0887\"],[0.1111111111111111,\"#46039f\"],[0.2222222222222222,\"#7201a8\"],[0.3333333333333333,\"#9c179e\"],[0.4444444444444444,\"#bd3786\"],[0.5555555555555556,\"#d8576b\"],[0.6666666666666666,\"#ed7953\"],[0.7777777777777778,\"#fb9f3a\"],[0.8888888888888888,\"#fdca26\"],[1.0,\"#f0f921\"]],\"type\":\"heatmapgl\"}],\"heatmap\":[{\"colorbar\":{\"outlinewidth\":0,\"ticks\":\"\"},\"colorscale\":[[0.0,\"#0d0887\"],[0.1111111111111111,\"#46039f\"],[0.2222222222222222,\"#7201a8\"],[0.3333333333333333,\"#9c179e\"],[0.4444444444444444,\"#bd3786\"],[0.5555555555555556,\"#d8576b\"],[0.6666666666666666,\"#ed7953\"],[0.7777777777777778,\"#fb9f3a\"],[0.8888888888888888,\"#fdca26\"],[1.0,\"#f0f921\"]],\"type\":\"heatmap\"}],\"histogram2dcontour\":[{\"colorbar\":{\"outlinewidth\":0,\"ticks\":\"\"},\"colorscale\":[[0.0,\"#0d0887\"],[0.1111111111111111,\"#46039f\"],[0.2222222222222222,\"#7201a8\"],[0.3333333333333333,\"#9c179e\"],[0.4444444444444444,\"#bd3786\"],[0.5555555555555556,\"#d8576b\"],[0.6666666666666666,\"#ed7953\"],[0.7777777777777778,\"#fb9f3a\"],[0.8888888888888888,\"#fdca26\"],[1.0,\"#f0f921\"]],\"type\":\"histogram2dcontour\"}],\"histogram2d\":[{\"colorbar\":{\"outlinewidth\":0,\"ticks\":\"\"},\"colorscale\":[[0.0,\"#0d0887\"],[0.1111111111111111,\"#46039f\"],[0.2222222222222222,\"#7201a8\"],[0.3333333333333333,\"#9c179e\"],[0.4444444444444444,\"#bd3786\"],[0.5555555555555556,\"#d8576b\"],[0.6666666666666666,\"#ed7953\"],[0.7777777777777778,\"#fb9f3a\"],[0.8888888888888888,\"#fdca26\"],[1.0,\"#f0f921\"]],\"type\":\"histogram2d\"}],\"histogram\":[{\"marker\":{\"pattern\":{\"fillmode\":\"overlay\",\"size\":10,\"solidity\":0.2}},\"type\":\"histogram\"}],\"mesh3d\":[{\"colorbar\":{\"outlinewidth\":0,\"ticks\":\"\"},\"type\":\"mesh3d\"}],\"parcoords\":[{\"line\":{\"colorbar\":{\"outlinewidth\":0,\"ticks\":\"\"}},\"type\":\"parcoords\"}],\"pie\":[{\"automargin\":true,\"type\":\"pie\"}],\"scatter3d\":[{\"line\":{\"colorbar\":{\"outlinewidth\":0,\"ticks\":\"\"}},\"marker\":{\"colorbar\":{\"outlinewidth\":0,\"ticks\":\"\"}},\"type\":\"scatter3d\"}],\"scattercarpet\":[{\"marker\":{\"colorbar\":{\"outlinewidth\":0,\"ticks\":\"\"}},\"type\":\"scattercarpet\"}],\"scattergeo\":[{\"marker\":{\"colorbar\":{\"outlinewidth\":0,\"ticks\":\"\"}},\"type\":\"scattergeo\"}],\"scattergl\":[{\"marker\":{\"colorbar\":{\"outlinewidth\":0,\"ticks\":\"\"}},\"type\":\"scattergl\"}],\"scattermapbox\":[{\"marker\":{\"colorbar\":{\"outlinewidth\":0,\"ticks\":\"\"}},\"type\":\"scattermapbox\"}],\"scatterpolargl\":[{\"marker\":{\"colorbar\":{\"outlinewidth\":0,\"ticks\":\"\"}},\"type\":\"scatterpolargl\"}],\"scatterpolar\":[{\"marker\":{\"colorbar\":{\"outlinewidth\":0,\"ticks\":\"\"}},\"type\":\"scatterpolar\"}],\"scatter\":[{\"fillpattern\":{\"fillmode\":\"overlay\",\"size\":10,\"solidity\":0.2},\"type\":\"scatter\"}],\"scatterternary\":[{\"marker\":{\"colorbar\":{\"outlinewidth\":0,\"ticks\":\"\"}},\"type\":\"scatterternary\"}],\"surface\":[{\"colorbar\":{\"outlinewidth\":0,\"ticks\":\"\"},\"colorscale\":[[0.0,\"#0d0887\"],[0.1111111111111111,\"#46039f\"],[0.2222222222222222,\"#7201a8\"],[0.3333333333333333,\"#9c179e\"],[0.4444444444444444,\"#bd3786\"],[0.5555555555555556,\"#d8576b\"],[0.6666666666666666,\"#ed7953\"],[0.7777777777777778,\"#fb9f3a\"],[0.8888888888888888,\"#fdca26\"],[1.0,\"#f0f921\"]],\"type\":\"surface\"}],\"table\":[{\"cells\":{\"fill\":{\"color\":\"#EBF0F8\"},\"line\":{\"color\":\"white\"}},\"header\":{\"fill\":{\"color\":\"#C8D4E3\"},\"line\":{\"color\":\"white\"}},\"type\":\"table\"}]},\"layout\":{\"annotationdefaults\":{\"arrowcolor\":\"#2a3f5f\",\"arrowhead\":0,\"arrowwidth\":1},\"autotypenumbers\":\"strict\",\"coloraxis\":{\"colorbar\":{\"outlinewidth\":0,\"ticks\":\"\"}},\"colorscale\":{\"diverging\":[[0,\"#8e0152\"],[0.1,\"#c51b7d\"],[0.2,\"#de77ae\"],[0.3,\"#f1b6da\"],[0.4,\"#fde0ef\"],[0.5,\"#f7f7f7\"],[0.6,\"#e6f5d0\"],[0.7,\"#b8e186\"],[0.8,\"#7fbc41\"],[0.9,\"#4d9221\"],[1,\"#276419\"]],\"sequential\":[[0.0,\"#0d0887\"],[0.1111111111111111,\"#46039f\"],[0.2222222222222222,\"#7201a8\"],[0.3333333333333333,\"#9c179e\"],[0.4444444444444444,\"#bd3786\"],[0.5555555555555556,\"#d8576b\"],[0.6666666666666666,\"#ed7953\"],[0.7777777777777778,\"#fb9f3a\"],[0.8888888888888888,\"#fdca26\"],[1.0,\"#f0f921\"]],\"sequentialminus\":[[0.0,\"#0d0887\"],[0.1111111111111111,\"#46039f\"],[0.2222222222222222,\"#7201a8\"],[0.3333333333333333,\"#9c179e\"],[0.4444444444444444,\"#bd3786\"],[0.5555555555555556,\"#d8576b\"],[0.6666666666666666,\"#ed7953\"],[0.7777777777777778,\"#fb9f3a\"],[0.8888888888888888,\"#fdca26\"],[1.0,\"#f0f921\"]]},\"colorway\":[\"#636efa\",\"#EF553B\",\"#00cc96\",\"#ab63fa\",\"#FFA15A\",\"#19d3f3\",\"#FF6692\",\"#B6E880\",\"#FF97FF\",\"#FECB52\"],\"font\":{\"color\":\"#2a3f5f\"},\"geo\":{\"bgcolor\":\"white\",\"lakecolor\":\"white\",\"landcolor\":\"#E5ECF6\",\"showlakes\":true,\"showland\":true,\"subunitcolor\":\"white\"},\"hoverlabel\":{\"align\":\"left\"},\"hovermode\":\"closest\",\"mapbox\":{\"style\":\"light\"},\"paper_bgcolor\":\"white\",\"plot_bgcolor\":\"#E5ECF6\",\"polar\":{\"angularaxis\":{\"gridcolor\":\"white\",\"linecolor\":\"white\",\"ticks\":\"\"},\"bgcolor\":\"#E5ECF6\",\"radialaxis\":{\"gridcolor\":\"white\",\"linecolor\":\"white\",\"ticks\":\"\"}},\"scene\":{\"xaxis\":{\"backgroundcolor\":\"#E5ECF6\",\"gridcolor\":\"white\",\"gridwidth\":2,\"linecolor\":\"white\",\"showbackground\":true,\"ticks\":\"\",\"zerolinecolor\":\"white\"},\"yaxis\":{\"backgroundcolor\":\"#E5ECF6\",\"gridcolor\":\"white\",\"gridwidth\":2,\"linecolor\":\"white\",\"showbackground\":true,\"ticks\":\"\",\"zerolinecolor\":\"white\"},\"zaxis\":{\"backgroundcolor\":\"#E5ECF6\",\"gridcolor\":\"white\",\"gridwidth\":2,\"linecolor\":\"white\",\"showbackground\":true,\"ticks\":\"\",\"zerolinecolor\":\"white\"}},\"shapedefaults\":{\"line\":{\"color\":\"#2a3f5f\"}},\"ternary\":{\"aaxis\":{\"gridcolor\":\"white\",\"linecolor\":\"white\",\"ticks\":\"\"},\"baxis\":{\"gridcolor\":\"white\",\"linecolor\":\"white\",\"ticks\":\"\"},\"bgcolor\":\"#E5ECF6\",\"caxis\":{\"gridcolor\":\"white\",\"linecolor\":\"white\",\"ticks\":\"\"}},\"title\":{\"x\":0.05},\"xaxis\":{\"automargin\":true,\"gridcolor\":\"white\",\"linecolor\":\"white\",\"ticks\":\"\",\"title\":{\"standoff\":15},\"zerolinecolor\":\"white\",\"zerolinewidth\":2},\"yaxis\":{\"automargin\":true,\"gridcolor\":\"white\",\"linecolor\":\"white\",\"ticks\":\"\",\"title\":{\"standoff\":15},\"zerolinecolor\":\"white\",\"zerolinewidth\":2}}},\"xaxis\":{\"range\":[-60,60],\"title\":{\"text\":\"X\"}},\"yaxis\":{\"range\":[-60,60],\"title\":{\"text\":\"Y\"}},\"width\":500,\"height\":500,\"showlegend\":false,\"title\":{\"text\":\"Hits in the GlueX CDC\"},\"shapes\":[{\"line\":{\"color\":\"black\"},\"type\":\"circle\",\"x0\":-10.5,\"x1\":10.5,\"xref\":\"x\",\"y0\":-10.5,\"y1\":10.5,\"yref\":\"y\"},{\"line\":{\"color\":\"black\"},\"type\":\"circle\",\"x0\":-55,\"x1\":55,\"xref\":\"x\",\"y0\":-55,\"y1\":55,\"yref\":\"y\"}]},                        {\"responsive\": true}                    ).then(function(){\n                            \nvar gd = document.getElementById('8b940fb9-01d5-4a25-b9b1-84b4639a09aa');\nvar x = new MutationObserver(function (mutations, observer) {{\n        var display = window.getComputedStyle(gd).display;\n        if (!display || display === 'none') {{\n            console.log([gd, 'removed!']);\n            Plotly.purge(gd);\n            observer.disconnect();\n        }}\n}});\n\n// Listen for the removal of the full notebook cells\nvar notebookContainer = gd.closest('#notebook-container');\nif (notebookContainer) {{\n    x.observe(notebookContainer, {childList: true});\n}}\n\n// Listen for the clearing of the current output cell\nvar outputEl = gd.closest('.output');\nif (outputEl) {{\n    x.observe(outputEl, {childList: true});\n}}\n\n                        })                };                            </script>        </div>\n</body>\n</html>"
                },
                "metadata": {}
              }
            ]
          }
        },
        "ced10af3249c43ab885ba99898000373": {
          "model_module": "@jupyter-widgets/base",
          "model_name": "LayoutModel",
          "model_module_version": "1.2.0",
          "state": {
            "_model_module": "@jupyter-widgets/base",
            "_model_module_version": "1.2.0",
            "_model_name": "LayoutModel",
            "_view_count": null,
            "_view_module": "@jupyter-widgets/base",
            "_view_module_version": "1.2.0",
            "_view_name": "LayoutView",
            "align_content": null,
            "align_items": null,
            "align_self": null,
            "border": null,
            "bottom": null,
            "display": null,
            "flex": null,
            "flex_flow": null,
            "grid_area": null,
            "grid_auto_columns": null,
            "grid_auto_flow": null,
            "grid_auto_rows": null,
            "grid_column": null,
            "grid_gap": null,
            "grid_row": null,
            "grid_template_areas": null,
            "grid_template_columns": null,
            "grid_template_rows": null,
            "height": null,
            "justify_content": null,
            "justify_items": null,
            "left": null,
            "margin": null,
            "max_height": null,
            "max_width": null,
            "min_height": null,
            "min_width": null,
            "object_fit": null,
            "object_position": null,
            "order": null,
            "overflow": null,
            "overflow_x": null,
            "overflow_y": null,
            "padding": null,
            "right": null,
            "top": null,
            "visibility": null,
            "width": null
          }
        },
        "7e1e3e7e4b814993a4192d172101c4a4": {
          "model_module": "@jupyter-widgets/controls",
          "model_name": "FloatSliderModel",
          "model_module_version": "1.5.0",
          "state": {
            "_dom_classes": [],
            "_model_module": "@jupyter-widgets/controls",
            "_model_module_version": "1.5.0",
            "_model_name": "FloatSliderModel",
            "_view_count": null,
            "_view_module": "@jupyter-widgets/controls",
            "_view_module_version": "1.5.0",
            "_view_name": "FloatSliderView",
            "continuous_update": true,
            "description": "pz",
            "description_tooltip": null,
            "disabled": false,
            "layout": "IPY_MODEL_1def724fe91b4a0482261393b3c09665",
            "max": 1,
            "min": -1,
            "orientation": "horizontal",
            "readout": true,
            "readout_format": ".2f",
            "step": 0.01,
            "style": "IPY_MODEL_a561a1b2000d483a8c8422e42286bb4e",
            "value": -0.6
          }
        },
        "ef87e1a4162b44f89703f6fa8c682969": {
          "model_module": "@jupyter-widgets/base",
          "model_name": "LayoutModel",
          "model_module_version": "1.2.0",
          "state": {
            "_model_module": "@jupyter-widgets/base",
            "_model_module_version": "1.2.0",
            "_model_name": "LayoutModel",
            "_view_count": null,
            "_view_module": "@jupyter-widgets/base",
            "_view_module_version": "1.2.0",
            "_view_name": "LayoutView",
            "align_content": null,
            "align_items": null,
            "align_self": null,
            "border": null,
            "bottom": null,
            "display": null,
            "flex": null,
            "flex_flow": "row wrap",
            "grid_area": null,
            "grid_auto_columns": null,
            "grid_auto_flow": null,
            "grid_auto_rows": null,
            "grid_column": null,
            "grid_gap": null,
            "grid_row": null,
            "grid_template_areas": null,
            "grid_template_columns": null,
            "grid_template_rows": null,
            "height": null,
            "justify_content": null,
            "justify_items": null,
            "left": null,
            "margin": null,
            "max_height": null,
            "max_width": null,
            "min_height": null,
            "min_width": null,
            "object_fit": null,
            "object_position": null,
            "order": null,
            "overflow": null,
            "overflow_x": null,
            "overflow_y": null,
            "padding": null,
            "right": null,
            "top": null,
            "visibility": null,
            "width": null
          }
        },
        "be0a38a1a47f4f3aa5de29a9fc9d36d2": {
          "model_module": "@jupyter-widgets/base",
          "model_name": "LayoutModel",
          "model_module_version": "1.2.0",
          "state": {
            "_model_module": "@jupyter-widgets/base",
            "_model_module_version": "1.2.0",
            "_model_name": "LayoutModel",
            "_view_count": null,
            "_view_module": "@jupyter-widgets/base",
            "_view_module_version": "1.2.0",
            "_view_name": "LayoutView",
            "align_content": null,
            "align_items": null,
            "align_self": null,
            "border": null,
            "bottom": null,
            "display": null,
            "flex": null,
            "flex_flow": null,
            "grid_area": null,
            "grid_auto_columns": null,
            "grid_auto_flow": null,
            "grid_auto_rows": null,
            "grid_column": null,
            "grid_gap": null,
            "grid_row": null,
            "grid_template_areas": null,
            "grid_template_columns": null,
            "grid_template_rows": null,
            "height": null,
            "justify_content": null,
            "justify_items": null,
            "left": null,
            "margin": null,
            "max_height": null,
            "max_width": null,
            "min_height": null,
            "min_width": null,
            "object_fit": null,
            "object_position": null,
            "order": null,
            "overflow": null,
            "overflow_x": null,
            "overflow_y": null,
            "padding": null,
            "right": null,
            "top": null,
            "visibility": null,
            "width": null
          }
        },
        "1def724fe91b4a0482261393b3c09665": {
          "model_module": "@jupyter-widgets/base",
          "model_name": "LayoutModel",
          "model_module_version": "1.2.0",
          "state": {
            "_model_module": "@jupyter-widgets/base",
            "_model_module_version": "1.2.0",
            "_model_name": "LayoutModel",
            "_view_count": null,
            "_view_module": "@jupyter-widgets/base",
            "_view_module_version": "1.2.0",
            "_view_name": "LayoutView",
            "align_content": null,
            "align_items": null,
            "align_self": null,
            "border": null,
            "bottom": null,
            "display": null,
            "flex": null,
            "flex_flow": null,
            "grid_area": null,
            "grid_auto_columns": null,
            "grid_auto_flow": null,
            "grid_auto_rows": null,
            "grid_column": null,
            "grid_gap": null,
            "grid_row": null,
            "grid_template_areas": null,
            "grid_template_columns": null,
            "grid_template_rows": null,
            "height": null,
            "justify_content": null,
            "justify_items": null,
            "left": null,
            "margin": null,
            "max_height": null,
            "max_width": null,
            "min_height": null,
            "min_width": null,
            "object_fit": null,
            "object_position": null,
            "order": null,
            "overflow": null,
            "overflow_x": null,
            "overflow_y": null,
            "padding": null,
            "right": null,
            "top": null,
            "visibility": null,
            "width": null
          }
        },
        "a561a1b2000d483a8c8422e42286bb4e": {
          "model_module": "@jupyter-widgets/controls",
          "model_name": "SliderStyleModel",
          "model_module_version": "1.5.0",
          "state": {
            "_model_module": "@jupyter-widgets/controls",
            "_model_module_version": "1.5.0",
            "_model_name": "SliderStyleModel",
            "_view_count": null,
            "_view_module": "@jupyter-widgets/base",
            "_view_module_version": "1.2.0",
            "_view_name": "StyleView",
            "description_width": "",
            "handle_color": null
          }
        },
        "22c9b4e189f14c8eab6779ec5bf357ba": {
          "model_module": "@jupyter-widgets/base",
          "model_name": "LayoutModel",
          "model_module_version": "1.2.0",
          "state": {
            "_model_module": "@jupyter-widgets/base",
            "_model_module_version": "1.2.0",
            "_model_name": "LayoutModel",
            "_view_count": null,
            "_view_module": "@jupyter-widgets/base",
            "_view_module_version": "1.2.0",
            "_view_name": "LayoutView",
            "align_content": null,
            "align_items": null,
            "align_self": null,
            "border": null,
            "bottom": null,
            "display": null,
            "flex": null,
            "flex_flow": null,
            "grid_area": null,
            "grid_auto_columns": null,
            "grid_auto_flow": null,
            "grid_auto_rows": null,
            "grid_column": null,
            "grid_gap": null,
            "grid_row": null,
            "grid_template_areas": null,
            "grid_template_columns": null,
            "grid_template_rows": null,
            "height": null,
            "justify_content": null,
            "justify_items": null,
            "left": null,
            "margin": null,
            "max_height": null,
            "max_width": null,
            "min_height": null,
            "min_width": null,
            "object_fit": null,
            "object_position": null,
            "order": null,
            "overflow": null,
            "overflow_x": null,
            "overflow_y": null,
            "padding": null,
            "right": null,
            "top": null,
            "visibility": null,
            "width": null
          }
        },
        "5793d42f643e42fcbef9e14067979be0": {
          "model_module": "@jupyter-widgets/controls",
          "model_name": "VBoxModel",
          "model_module_version": "1.5.0",
          "state": {
            "_dom_classes": [],
            "_model_module": "@jupyter-widgets/controls",
            "_model_module_version": "1.5.0",
            "_model_name": "VBoxModel",
            "_view_count": null,
            "_view_module": "@jupyter-widgets/controls",
            "_view_module_version": "1.5.0",
            "_view_name": "VBoxView",
            "box_style": "",
            "children": [
              "IPY_MODEL_ed3973ffb74f4c6fb47e58e5fe369e74",
              "IPY_MODEL_36b67eaddb714421bb7ffd50b9a4e84b"
            ],
            "layout": "IPY_MODEL_e46424892a604c05bc05e9ad43edd90f"
          }
        },
        "ed3973ffb74f4c6fb47e58e5fe369e74": {
          "model_module": "@jupyter-widgets/controls",
          "model_name": "HBoxModel",
          "model_module_version": "1.5.0",
          "state": {
            "_dom_classes": [],
            "_model_module": "@jupyter-widgets/controls",
            "_model_module_version": "1.5.0",
            "_model_name": "HBoxModel",
            "_view_count": null,
            "_view_module": "@jupyter-widgets/controls",
            "_view_module_version": "1.5.0",
            "_view_name": "HBoxView",
            "box_style": "",
            "children": [
              "IPY_MODEL_390a87bd9d41443686bd8a0f613b236c",
              "IPY_MODEL_961c03d7d7424d6d8a609c73bdf596ce"
            ],
            "layout": "IPY_MODEL_89a611ce7b7149df81f2172df8e97f2e"
          }
        },
        "36b67eaddb714421bb7ffd50b9a4e84b": {
          "model_module": "@jupyter-widgets/output",
          "model_name": "OutputModel",
          "model_module_version": "1.0.0",
          "state": {
            "_dom_classes": [],
            "_model_module": "@jupyter-widgets/output",
            "_model_module_version": "1.0.0",
            "_model_name": "OutputModel",
            "_view_count": null,
            "_view_module": "@jupyter-widgets/output",
            "_view_module_version": "1.0.0",
            "_view_name": "OutputView",
            "layout": "IPY_MODEL_15d9ec19aff9450a8250dd4b386fcc7e",
            "msg_id": "",
            "outputs": [
              {
                "output_type": "display_data",
                "data": {
                  "text/html": "<html>\n<head><meta charset=\"utf-8\" /></head>\n<body>\n    <div>            <script src=\"https://cdnjs.cloudflare.com/ajax/libs/mathjax/2.7.5/MathJax.js?config=TeX-AMS-MML_SVG\"></script><script type=\"text/javascript\">if (window.MathJax && window.MathJax.Hub && window.MathJax.Hub.Config) {window.MathJax.Hub.Config({SVG: {font: \"STIX-Web\"}});}</script>                <script type=\"text/javascript\">window.PlotlyConfig = {MathJaxConfig: 'local'};</script>\n        <script charset=\"utf-8\" src=\"https://cdn.plot.ly/plotly-2.24.1.min.js\"></script>                <div id=\"b0660531-b304-48a6-a7a0-c39981b89269\" class=\"plotly-graph-div\" style=\"height:500px; width:500px;\"></div>            <script type=\"text/javascript\">                                    window.PLOTLYENV=window.PLOTLYENV || {};                                    if (document.getElementById(\"b0660531-b304-48a6-a7a0-c39981b89269\")) {                    Plotly.newPlot(                        \"b0660531-b304-48a6-a7a0-c39981b89269\",                        [{\"hoverinfo\":\"text\",\"marker\":{\"size\":3},\"mode\":\"markers\",\"text\":[\"Ring: 1.0\\n Wire: 25.0\",\"Ring: 2.0\\n Wire: 25.0\",\"Ring: 3.0\\n Wire: 32.0\",\"Ring: 4.0\\n Wire: 31.0\",\"Ring: 5.0\\n Wire: 42.0\",\"Ring: 6.0\\n Wire: 42.0\",\"Ring: 7.0\\n Wire: 50.0\",\"Ring: 8.0\\n Wire: 51.0\",\"Ring: 9.0\\n Wire: 49.0\",\"Ring: 10.0\\n Wire: 48.0\",\"Ring: 11.0\\n Wire: 56.0\",\"Ring: 12.0\\n Wire: 55.0\",\"Ring: 13.0\\n Wire: 69.0\",\"Ring: 13.0\\n Wire: 70.0\",\"Ring: 14.0\\n Wire: 70.0\",\"Ring: 15.0\\n Wire: 77.0\",\"Ring: 16.0\\n Wire: 76.0\",\"Ring: 17.0\\n Wire: 76.0\",\"Ring: 19.0\\n Wire: 83.0\",\"Ring: 20.0\\n Wire: 82.0\",\"Ring: 21.0\\n Wire: 101.0\",\"Ring: 22.0\\n Wire: 101.0\",\"Ring: 23.0\\n Wire: 107.0\",\"Ring: 24.0\\n Wire: 108.0\",\"Ring: 25.0\\n Wire: 108.0\",\"Ring: 26.0\\n Wire: 109.0\",\"Ring: 27.0\\n Wire: 115.0\",\"Ring: 28.0\\n Wire: 114.0\"],\"x\":[-9.660009121379511,-10.46132854590834,-12.07020334012605,-13.667804810442947,-15.263814837107624,-16.929217224125367,-18.782541046148356,-19.740431023663845,-21.75985913154124,-23.289049393951906,-24.978483936838366,-26.508847234115663,-29.225188434484217,-28.60357380832665,-30.193642242404053,-31.68439168401273,-33.27011892531815,-35.214368589129435,-38.086289684485,-39.61782340622614,-41.19469252844806,-42.27077162517033,-44.30973231006042,-45.40190824261695,-48.23628385633974,-49.31815682161079,-51.11065313657972,-52.66620208996909],\"y\":[-4.652012361856386,-6.039847443815391,-6.648823912393075,-6.523502027564079,-7.430300606680268,-7.064511294133469,-8.307138337370414,-9.513074533404275,-9.782572932424957,-9.723568585301662,-10.735034751040441,-10.659372857087346,-11.42744437653888,-12.904793272331391,-12.704500222272156,-13.484077280409847,-13.253251223197529,-12.788004423623784,-13.971216002649125,-13.836118231727417,-14.433959927845356,-15.563830785082478,-14.84951161940597,-15.965651754223988,-14.52140901636676,-15.7090929043979,-15.340194834559114,-14.947891837263706],\"type\":\"scatter\",\"uid\":\"8f8ab42a-e90b-47c7-8eed-b2651bdc0bc7\"},{\"marker\":{\"color\":\"red\"},\"mode\":\"lines\",\"name\":\"track\",\"type\":\"scatter\",\"uid\":\"96b51c0f-823a-47de-90a6-4697b5da1026\",\"x\":[-7.105427357601002e-15,-0.06920407015071817,-0.1384401099523842,-0.2077080803817637,-0.2770079423975389,-0.3463396569404864,-0.41570318493337766,-0.48509848728111393,-0.5545255248706411,-0.6239842585710207,-0.6934746492334511,-0.7629966576913105,-0.8325502447601281,-0.9021353712376907,-0.9717519979039011,-1.0414000855209977,-1.1110795948334768,-1.1807904865680996,-1.2505327214339559,-1.3203062601224431,-1.3901110633073372,-1.459947091644814,-1.5298143057733924,-1.5997126663140904,-1.6696421338702905,-1.7396026690278887,-1.8095942323552592,-1.8796167844033107,-1.9496702857054657,-2.0197546967776674,-2.0898699781185,-2.160016090209112,-2.230192993513299,-2.300400648477492,-2.370639015530756,-2.4409080550848827,-2.5112077275343765,-2.581537993256461,-2.651898812611144,-2.722290145941166,-2.792711953572102,-2.863164195812338,-2.933646832953123,-3.00415982526858,-3.0747031330156673,-3.14527671643431,-3.2158805357473597,-3.2865145511606215,-3.357178722862905,-3.4278730110259445,-3.498597375804593,-3.569351777336692,-3.6401361757432014,-3.710950531128134,-3.78179480357862,-3.852668953164944,-3.9235729399405486,-3.9945067239420524,-4.065470265189319,-4.136463523685336,-4.207486459416451,-4.278539032352242,-4.349621202445583,-4.420732929632685,-4.491874173833047,-4.563044894949577,-4.634245052868572,-4.705474607459713,-4.776733518576151,-4.848021746054428,-4.9193392497145965,-4.990685989360237,-5.062061924778426,-5.133467015739761,-5.204901221998426,-5.276364503292221,-5.3478568193425104,-5.4193781298543655,-5.490928394516409,-5.562507573001021,-5.634115624964295,-5.705752510045997,-5.777418187869692,-5.849112618042668,-5.920835760156038,-5.992587573784732,-6.064368018487514,-6.136177053807032,-6.208014639269763,-6.279880734386147,-6.351775298650523,-6.423698291541214,-6.495649672520521,-6.567629401034679,-6.639637436514022,-6.711673738372895,-6.783738266009728,-6.855830978807042,-6.92795183613142,-7.000100797333651,-7.072277821748656,-7.144482868695533,-7.21671589747762,-7.288976867382409,-7.361265737681727,-7.4335824676316165,-7.505927016472448,-7.578299343428938,-7.65069940771005,-7.723127168509222,-7.795582585004219,-7.868065616357242,-7.940576221714949,-8.013114360208377,-8.085679990953118,-8.158273073049259,-8.23089356558139,-8.303541427618697,-8.376216618214869,-8.44891909640824,-8.521648821221753,-8.594405751663004,-8.667189846724277,-8.740001065382451,-8.81283936659922,-8.885704709320969,-8.95859705247885,-9.03151635498881,-9.104462575751555,-9.177435673652667,-9.250435607562544,-9.323462336336505,-9.396515818814748,-9.46959601382234,-9.542702880169351,-9.615836376650805,-9.688996462046717,-9.762183095122133,-9.83539623462707,-9.908635839296664,-9.981901867851136,-10.055194278995792,-10.1285130314211,-10.201858083802598,-10.275229394801102,-10.348626923062575,-10.422050627218212,-10.495500465884483,-10.568976397663043,-10.642478381140933,-10.716006374890469,-10.789560337469318,-10.863140227420516,-10.936746003272447,-11.01037762353895,-11.08403504671928,-11.15771823129814,-11.231427135745761,-11.30516171851778,-11.378921938055456,-11.452707752785557,-11.526519121120423,-11.600356001458024,-11.674218352181882,-11.748106131661238,-11.822019298250957,-11.89595781029162,-11.969921626109517,-12.043910704016639,-12.117925002310784,-12.19196447927552,-12.26602909318023,-12.34011880228013,-12.414233564816257,-12.488373339015567,-12.562538083090914,-12.636727755241061,-12.710942313650754,-12.785181716490655,-12.85944592191747,-12.933734888073921,-13.00804857308875,-13.08238693507682,-13.156749932139,-13.231137522362346,-13.305549663820024,-13.379986314571369,-13.454447432661922,-13.528932976123365,-13.603442902973683,-13.677977171217101,-13.75253573884411,-13.82711856383154,-13.90172560414247,-13.976356817726412,-14.051012162519228,-14.125691596443168,-14.200395077406938,-14.275122563305615,-14.34987401202082,-14.42464938142065,-14.499448629359705,-14.574271713679153,-14.649118592206676,-14.723989222756593,-14.79888356312982,-14.873801571113908,-14.948743204483101,-15.023708420998247,-15.098697178406972,-15.173709434443609,-15.248745146829265,-15.323804273271811,-15.398886771465897,-15.473992599093037,-15.549121713821592,-15.624274073306786,-15.699449635190767,-15.774648357102535,-15.849870196658124,-15.925115111460478,-16.000383059099562,-16.075673997152393,-16.15098788318293,-16.22632467474228,-16.30168432936862,-16.37706680458725,-16.45247205791061,-16.527900046838248,-16.603350728856952,-16.67882406144072,-16.75432000205076,-16.829838508135573,-16.905379537130862,-16.98094304645973,-17.056528993532545,-17.132137335747068,-17.207768030488438,-17.283421035129138,-17.359096307029134,-17.434793803535825,-17.51051348198409,-17.58625529969632,-17.662019213982354,-17.737805182139667,-17.813613161453254,-17.889443109195724,-17.965294982627313,-18.041168738995843,-18.11706433553686,-18.192981729473587,-18.26892087801695,-18.344881738365643,-18.420864267706065,-18.496868423212455,-18.572894162046836,-18.648941441359078,-18.725010218286933,-18.801100449955968,-18.877212093479713,-18.95334510595962,-19.029499444485097,-19.10567506613355,-19.181871927970313,-19.258089987048834,-19.334329200410586,-19.410589525085115,-19.486870918090084,-19.56317333643122,-19.63949673710247,-19.71584107708594,-19.79220631335191,-19.86859240285893,-19.944999302553718,-20.021426969371326,-20.09787536023508,-20.174344432056635,-20.250834141736,-20.327344446161497,-20.403875302209897,-20.480426666746375,-20.55699849662453,-20.633590748686466,-20.710203379762696,-20.78683634667233,-20.863489606222984,-20.94016311521083,-21.016856830420664,-21.09357070862582,-21.17030470658831,-21.24705878105884,-21.32383288877675,-21.400626986470122,-21.477441030855722,-21.55427497863913,-21.63112878651468,-21.70800241116551,-21.78489580926363,-21.86180893746981,-21.9387417524338,-22.01569421079421,-22.092666269178572,-22.16965788420341,-22.246669012474158,-22.3236996105853,-22.400749635120363,-22.477819042651866,-22.554907789741485,-22.632015832939885,-22.70914312878694,-22.786289633811656,-22.86345530453223,-22.940640097455983,-23.017843969079536,-23.09506687588872,-23.172308774358648,-23.24956962095375,-23.32684937212771,-23.40414798432362,-23.481465413973922,-23.558801617500457,-23.636156551314485,-23.71353017181668,-23.790922435397206,-23.868333298435736,-23.945762717301434,-24.023210648353043,-24.100677047938802,-24.178161872396593,-24.255665078053916,-24.33318662122789,-24.410726458225334,-24.48828454534268,-24.565860838866143,-24.64345529507166,-24.721067870224942,-24.798698520581414,-24.87634720238646,-24.954013871875137,-25.031698485272468,-25.109400998793358,-25.187121368642526,-25.264859551014794,-25.342615502094777,-25.42038917805717,-25.49818053506669,-25.57598952927797,-25.653816116835884,-25.731660253875223,-25.809521896520987,-25.887401000888286,-25.965297523082324,-26.043211419198627,-26.121142645322784,-26.1990911575307,-26.277056911888526,-26.355039864452635,-26.433039971269835,-26.51105718837712,-26.58909147180193,-26.667142777562074,-26.74521106166571,-26.823296280111542,-26.9013983888886,-26.97951734397647,-27.05765310134526,-27.135805616955516,-27.213974846758425,-27.292160746695718,-27.370363272699745,-27.4485823806935,-27.526818026590565,-27.605070166295256,-27.68333875570259,-27.761623750698295,-27.83992510715889,-27.9182427809516,-27.996576727934507,-28.07492690395652,-28.153293264857382,-28.23167576646776,-28.31007436460913,-28.38848901509397,-28.4669196737257,-28.545366296298702,-28.623828838598406,-28.702307256401173,-28.780801505474496,-28.859311541576933,-28.937837320458126,-29.016378797858874,-29.094935929511063,-29.173508671137824,-29.252096978453473,-29.330700807163524,-29.4093201129648,-29.487954851545318,-29.566604978584458,-29.645270449752925,-29.72395122071275,-29.802647247117374,-29.88135848461158,-29.960084888831638,-30.03882641540525,-30.117583019951578,-30.19635465808134,-30.275141285396682,-30.35394285749139,-30.432759329950795,-30.51159065835183,-30.590436798263084,-30.66929770524472,-30.74817333484865,-30.827063642618473,-30.905968584089504,-30.98488811478883,-31.063822190235264,-31.142770765939474,-31.22173379740394,-31.300711240122993,-31.379703049582854,-31.458709181261604,-31.53772959062929,-31.616764233147904,-31.69581306427142,-31.77487603944583,-31.853953114109082,-31.933044243691256,-32.012149383614485,-32.09126848929299,-32.17040151613318,-32.2495484195335,-32.328709154884685,-32.40788367756963,-32.48707194296345,-32.566273906433565,-32.64548952333959,-32.724718749033514,-32.803961538859625,-32.88321784815459,-32.96248763224743,-33.04177084645957,-33.12106744610489,-33.200377386489706,-33.27970062291281,-33.35903711066556,-33.43838680503173,-33.51774966128775,-33.59712563470259,-33.67651468053785,-33.75591675404776,-33.83533181047914,-33.91475980507158,-33.994200693057344,-34.07365442966143,-34.15312097010161,-34.232600269588374,-34.312092283325114,-34.39159696650799,-34.47111427432605,-34.550644161961245,-34.63018658458836,-34.709741497375184,-34.78930885548246,-34.868888614063884,-34.94848072826622,-35.028085153229185,-35.10770184408562,-35.18733075596143,-35.266971843975654,-35.34662506324045,-35.42629036886112,-35.50596771593618,-35.585657059557356,-35.66535835480961,-35.745071556771194,-35.82479662051357,-35.90453350110158,-35.98428215359342,-36.0640425330406,-36.14381459448807,-36.22359829297413,-36.30339358353058,-36.38320042118266,-36.46301876094911,-36.54284855784222,-36.62268976686774,-36.702542343025044,-36.7824062413071,-36.8622814167005,-36.94216782418546,-37.02206541873585,-37.101974155319255,-37.181893988897,-37.26182487442412,-37.34176676684949,-37.42171962111564,-37.50168339215906,-37.58165803491002,-37.6616435042927,-37.741639755225165,-37.82164674261935,-37.90166442138121,-37.98169274641066,-38.06173167260157,-38.14178115484191,-38.22184114801362,-38.30191160699276,-38.381992486649494,-38.46208374184809,-38.54218532744703,-38.62229719829885,-38.7024193092504,-38.78255161514272,-38.862694070811116,-38.942846631085175,-39.02300925078873,-39.10318188474002,-39.183364487751604,-39.26355701463043,-39.343759420177875,-39.42397165918969,-39.504193686456134,-39.58442545676192,-39.664666924886305,-39.74491804560307,-39.8251787736805,-39.90544906388152,-39.985728870963676,-40.06601814967911,-40.14631685477468,-40.22662494099184,-40.30694236306684,-40.38726907573062,-40.467605033708935,-40.54795019172229,-40.628304504485996,-40.70866792671022,-40.7890404131,-40.86942191835526,-40.94981239717087,-41.03021180423655,-41.11062009423709,-41.19103722185223,-41.271463141756726,-41.351897808620414,-41.43234117710813,-41.51279320187985,-41.593253837590694,-41.673723038890884,-41.75420076042587,-41.834686956836194,-41.91518158275773,-41.99568459282156,-42.07619594165404,-42.156715583876846,-42.23724347410692,-42.3177795669566,-42.39832381703363,-42.4788761789411,-42.559436607277576,-42.640005056637015,-42.72058148160891,-42.80116583677823,-42.8817580767255,-42.962358156026795,-43.042966029253726,-43.123581650973556,-43.20420497574918,-43.28483595813914,-43.36547455269769,-43.44612071397472,-43.52677439651593,-43.607435554862754,-43.6881041435524,-43.76878011711794,-43.849463430088186,-43.9301540369879,-44.0108518923377,-44.09155695065413,-44.172269166449695,-44.252988494232774,-44.33371488850784,-44.41444830377534,-44.49518869453176,-44.575936015269704,-44.65669022047777,-44.73745126464076,-44.818219102239595,-44.89899368775137,-44.979774975649406,-45.06056292040316,-45.14135747647841,-45.2221585983372,-45.30296624043786,-45.383780357235075,-45.4646009031798,-45.54542783271945,-45.6262611002978,-45.70710066035509,-45.78794646732799,-45.86879847564961,-45.94965663974962,-46.03052091405421,-46.11139125298611,-46.19226761096468,-46.27314994240578,-46.354038201722005,-46.434932343322586,-46.51583232161341,-46.59673809099713,-46.677649605873036,-46.75856682063728,-46.83948968968274,-46.92041816739916,-47.00135220817309,-47.08229176638791,-47.16323679642395,-47.244187252658435,-47.32514308946553,-47.40610426121637,-47.487070722279064,-47.56804242701877,-47.64901932979765,-47.730001384975,-47.81098854690718,-47.891980769947615,-47.972978008446965,-48.05398021675302,-48.13498734921077,-48.21599936016246,-48.29701620394752,-48.37803783490273,-48.45906420736211,-48.54009527565706,-48.62113099411633,-48.70217131706596,-48.78321619882952,-48.86426559372793,-48.945319456079595,-49.026377740200424,-49.10744040040376,-49.18850739100055,-49.26957866629927,-49.35065418060599,-49.431733888224414,-49.51281774345582,-49.59390570059919,-49.6749977139512,-49.756093737806225,-49.83719372645641,-49.918297634191596,-49.99940541529948,-50.08051702406554,-50.16163241477312,-50.24275154170346,-50.323874359135594,-50.40500082134656,-50.486130882611334,-50.56726449720284,-50.64840161939205,-50.72954220344784,-50.81068620363727,-50.891833574225416,-50.9729842694754,-51.054138243648616,-51.13529545100445,-51.21645584580057,-51.297619382292815,-51.3787860147352,-51.459955697380124,-51.54112838447814,-51.622304030278165,-51.70348258902747,-51.78466401497159,-51.86584826235459,-51.9470352854188,-52.02822503840507,-52.10941747555272,-52.19061255109945,-52.27181021928165,-52.353010434334074,-52.43421315049014,-52.51541832198186,-52.59662590303976,-52.67783584789317,-52.759048110769946,-52.8402626458967,-52.92147940749878,-53.00269834980019,-53.08391942702386,-53.165142593391344,-53.24636780312314,-53.32759501043857,-53.40882416955574,-53.49005523469183,-53.57128816006277,-53.65252289988355,-53.733759408368115,-53.81499763972934,-53.89623754817929,-53.97747908792891,-54.058722213188325,-54.13996687816677,-54.22121303707251,-54.30246064411314,-54.38370965349528,-54.46496001942483,-54.54621169610696,-54.627464637745966,-54.70871879854563,-54.78997413270888,-54.87123059443804,-54.95248813793485,-55.03374671740031,-55.115006287035015,-55.19626680103883,-55.27752821361119,-55.35879047895102,-55.440053551256675,-55.5213173847262,-55.602581933557076,-55.68384715194645,-55.76511299409111,-55.84637941418739,-55.92764636643145,-56.008913805019006,-56.09018168414559,-56.171449958006484,-56.25271858079664,-56.333987506711004,-56.41525668994416,-56.49652608469065,-56.57779564514491,-56.65906532550118,-56.74033507995379,-56.821604862696866,-56.90287462792462,-56.98414432983126,-57.06541392261096,-57.14668336045809,-57.22795259756697,-57.309221588132104,-57.39049028634815,-57.47175864640983,-57.55302662251223,-57.634294168850474,-57.71556123962003,-57.79682778901664,-57.87809377123623,-57.95935914047523,-58.04062385093023,-58.12188785679831,-58.20315111227692,-58.28441357156385,-58.36567518885752,-58.44693591835664,-58.528195714260505,-58.60945453076897,-58.69071232208232,-58.771969042401594,-58.85322464592826,-58.93447908686453,-59.015732319413246,-59.09698429777785,-59.17823497616266,-59.259484308772564,-59.34073224981328,-59.42197875349133,-59.503223774013954,-59.58446726558938,-59.66570918242654,-59.74694947873535,-59.828188108726636,-59.90942502661207,-59.990660186604444,-60.0718935429174,-60.15312504976566,-60.234354661365025,-60.31558233193223,-60.396808015685295,-60.478031666843194,-60.55925323962612,-60.64047268825547,-60.72168996695372,-60.80290502994474,-60.88411783145348,-60.96532832570627,-61.046536466930725,-61.12774220935571,-61.208945507211595,-61.29014631472997,-61.3713445861439,-61.452540275687916,-61.53373333759789,-61.614923726111336,-61.69611139546711,-61.777296299905714,-61.858478393669195,-61.939657631001076,-62.020833966146675,-62.10200735335278,-62.18317774686792,-62.26434510094233,-62.345509369827845,-62.42667050777822,-62.5078284690488,-62.58898320789682,-62.67013467858132,-62.751282835363114,-62.832427632505016,-62.91356902427159,-62.99470696492941,-63.07584140874698,-63.156972309994735,-63.23809962294515,-63.319223301872704,-63.40034330105394,-63.48145957476748,-63.56257207729398,-63.643680762916304,-63.72478558591942,-63.8058865005905,-63.886983461218925,-63.96807642209624,-64.0491653375163,-64.13025016177525,-64.21133084917152,-64.29240735400589,-64.37347963058141,-64.45454763320366,-64.5356113161805,-64.61667063382231,-64.6977255404419,-64.77877599035453,-64.85982193787802,-64.94086333733273,-65.02190014304153,-65.10293230932999,-65.18395979052613,-65.26498254096074,-65.34600051496724,-65.42701366688175,-65.50802195104309,-65.58902532179282,-65.67002373347528,-65.75101714043761,-65.83200549702977,-65.9129887576046,-65.99396687651769,-66.07493980812768,-66.15590750679603,-66.23686992688721,-66.31782702276865,-66.39877874881076,-66.47972505938695,-66.56066590887377,-66.6416012516508,-66.72253104210071,-66.8034552346093,-66.88437378356554,-66.9652866433616,-67.0461937683928,-67.12709511305778,-67.20799063175832,-67.2888802788996,-67.36976400889003,-67.4506417761414,-67.53151353506885,-67.61237924009086,-67.69323884562941,-67.77409230610984,-67.85493957596098,-67.93578060961521,-68.01661536150829,-68.09744378607962,-68.17826583777219,-68.25908147103249,-68.3398906403107,-68.42069330006059,-68.50148940473966,-68.58227890880903,-68.66306176673362,-68.74383793298206,-68.82460736202671,-68.9053700083438,-68.98612582641333,-69.06687477071917,-69.14761679574909,-69.22835185599469,-69.30907990595155,-69.3898009001192,-69.47051479300113,-69.55122153910486,-69.63192109294187,-69.71261340902777,-69.7932984418822,-69.87397614602894,-69.95464647599592,-70.0353093863151,-70.11596483152279,-70.19661276615943,-70.27725314476962,-70.35788592190238,-70.43851105211087,-70.51912848995265,-70.59973818998958,-70.68034010678782,-70.7609341949181,-70.84152040895533,-70.92209870347904,-71.00266903307313,-71.08323135232598,-71.1637856158306,-71.2443317781844,-71.32486979398944,-71.40539961785234,-71.48592120438428,-71.56643450820128,-71.64693948392379,-71.7274360861771,-71.80792426959118,-71.88840398880069,-71.9688751984452,-72.04933785316894,-72.12979190762101,-72.2102373164554,-72.29067403433086,-72.37110201591119,-72.451521215865,-72.53193158886586,-72.6123330895924,-72.6927256727281,-72.77310929296166,-72.85348390498666,-72.93384946350184,-73.01420592321108,-73.09455323882321,-73.17489136505249,-73.25522025661812,-73.3355398682446,-73.4158501546617,-73.49615107060433,-73.57644257081284,-73.65672461003273,-73.73699714301493,-73.81726012451571,-73.89751350929667,-73.97775725212493,-74.05799130777292,-74.13821563101861,-74.21843017664544,-74.2986348994423,-74.37882975420378,-74.4590146957298,-74.53918967882606,-74.61935465830382,-74.69950958897986,-74.77965442567684,-74.85978912322292,-74.93991363645208,-75.020027920204,-75.10013192932409,-75.18022561866368,-75.26030894307978,-75.34038185743529,-75.42044431659902,-75.50049627544554,-75.58053768885556,-75.66056851171551,-75.74058869891792,-75.82059820536128,-75.90059698595007,-75.9805849955949,-76.06056218921233,-76.14052852172513,-76.22048394806214,-76.3004284231583,-76.38036190195484,-76.46028433939908,-76.5401956904446,-76.62009591005128,-76.69998495318512,-76.77986277481865,-76.85972932993053,-76.93958457350585,-77.01942846053609,-77.09926094601904,-77.17908198495908,-77.25889153236687,-77.33868954325965,-77.41847597266113,-77.49825077560152,-77.57801390711768,-77.65776532225291,-77.73750497605724,-77.81723282358728,-77.89694881990621,-77.97665292008406,-78.05634507919744],\"y\":[0.0,-0.042609556594527476,-0.08516714617836385,-0.1276727447649506,-0.17012632839696096,-0.21252787314642774,-0.2548773551147292,-0.2971747504325606,-0.3394200352600052,-0.3816131857864349,-0.42375417823069483,-0.46584298884101827,-0.5078795938950122,-0.5498639696997287,-0.5917960925916361,-0.6336759389367046,-0.6755034851303066,-0.7172787075973446,-0.7590015827921803,-0.8006720871986772,-0.842290197330243,-0.8838558897298014,-0.9253691409697922,-0.9668299276522987,-1.0082382264088494,-1.0495940139006734,-1.0908972668185157,-1.1321479618827652,-1.1733460758434688,-1.2144915854802179,-1.2555844676023185,-1.296624699048749,-1.337612256688118,-1.3785471174187762,-1.4194292581687051,-1.4602586558956574,-1.5010352875871007,-1.541759130260246,-1.5824301609620335,-1.623048356769175,-1.6636136947881965,-1.7041261521553963,-1.7445857060368297,-1.7849923336284803,-1.8253460121560323,-1.8656467188751122,-1.905894431071161,-1.9460891260594906,-1.9862307811853128,-2.0263193738236964,-2.066354881379638,-2.1063372812880914,-2.1462665510138947,-2.186142668051829,-2.225965609926675,-2.265735354193154,-2.3054518784359885,-2.345115160269856,-2.3847251773395044,-2.424281907319653,-2.463785327915076,-2.5032354168605906,-2.5426321519210973,-2.5819755108915246,-2.6212654715969137,-2.6605020118923903,-2.699685109663193,-2.7388147428246725,-2.7778908893223644,-2.8169135271318737,-2.855882634259004,-2.894798188739742,-2.9336601686402446,-2.972468552056853,-3.0112233171161336,-3.049924441974852,-3.0885719048200286,-3.1271656838689523,-3.1657057573690963,-3.204192103598274,-3.2426247008645674,-3.2810035275063,-3.3193285618921777,-3.3575997824211754,-3.39581716752258,-3.4339806956561176,-3.47209034531177,-3.5101460950099295,-3.5481479233013573,-3.5860958087672117,-3.6239897300190336,-3.661829665698832,-3.6996155944790132,-3.73734749506238,-3.7750253461822467,-3.8126491266023805,-3.850218815117003,-3.887734390550861,-3.9251958317591544,-3.9626031176276086,-3.999956227072488,-4.03725513904061,-4.074499832509275,-4.111690286486393,-4.148826480010442,-4.185908392150452,-4.222936002006094,-4.259909288707618,-4.296828231415873,-4.333692809322372,-4.370503001649254,-4.407258787649312,-4.443960146606003,-4.480607057833481,-4.51719950067654,-4.553737454510724,-4.5902208987422455,-4.626649812808111,-4.663024176175966,-4.699343968344266,-4.735609168842203,-4.771819757229736,-4.8079757130976475,-4.8440770160674305,-4.880123645791457,-4.916115581952866,-4.952052804265676,-4.987935292474688,-5.023763026355553,-5.059535985714845,-5.095254150389948,-5.130917500249154,-5.16652601519165,-5.202079675147544,-5.237578460077813,-5.273022349974411,-5.308411324860231,-5.343745364789086,-5.379024449845758,-5.414248560146035,-5.449417675836656,-5.484531777095398,-5.519590844130988,-5.554594857183204,-5.589543796522847,-5.624437642451781,-5.659276375302895,-5.694059975440169,-5.728788423258592,-5.763461699184319,-5.798079783674567,-5.832642657217633,-5.867150300333009,-5.901602693571235,-5.935999817514016,-5.970341652774238,-6.004628179995905,-6.0388593798542445,-6.073035233055606,-6.1071557203375875,-6.141220822468981,-6.175230520249755,-6.209184794511174,-6.243083626115677,-6.276926995956998,-6.310714884960078,-6.344447274081219,-6.37812414430789,-6.41174547665895,-6.4453112521844815,-6.478821451965956,-6.512276057116097,-6.545675048779032,-6.579018408130182,-6.612306116376331,-6.645538154755641,-6.678714504537666,-6.711835147023322,-6.744900063544932,-6.777909235466211,-6.810862644182336,-6.843760271119876,-6.876602097736864,-6.909388105522737,-6.942118275998453,-6.974792590716419,-7.007411031260503,-7.0399735792460945,-7.0724802163200735,-7.104930924160811,-7.137325684478242,-7.169664479013818,-7.201947289540556,-7.234174097862947,-7.266344885817119,-7.298459635270788,-7.3305183281231905,-7.362520946305239,-7.39446747177935,-7.426357886539648,-7.458192172611817,-7.489970312053217,-7.52169228695287,-7.553358079431376,-7.584967671641081,-7.61652104576595,-7.648018184021694,-7.67945906865566,-7.710843681946955,-7.7421720062063315,-7.773444023776335,-7.804659717031228,-7.83581906837702,-7.866922060251454,-7.897968675124048,-7.928958895496109,-7.959892703900735,-7.990770082902813,-8.021591015098977,-8.052355483117779,-8.083063469619532,-8.113714957296395,-8.144309928872389,-8.174848367103323,-8.205330254776953,-8.235755574712883,-8.266124309762588,-8.296436442809423,-8.326691956768656,-8.356890834587489,-8.387033059245041,-8.417118613752322,-8.447147481152356,-8.477119644520016,-8.507035086962219,-8.536893791617814,-8.566695741657654,-8.596440920284579,-8.626129310733361,-8.655760896270877,-8.68533566019596,-8.714853585839492,-8.744314656564384,-8.77371885576558,-8.803066166870082,-8.83235657333698,-8.861590058657413,-8.890766606354632,-8.919886199983921,-8.948948823132696,-8.97795445942053,-9.006903092499044,-9.035794706052016,-9.06462928379537,-9.093406809477173,-9.12212726687764,-9.15079063980916,-9.179396912116275,-9.20794606767575,-9.23643809039649,-9.264872964219663,-9.293250673118592,-9.321571201098877,-9.349834532198273,-9.378040650486824,-9.406189540066833,-9.43428118507282,-9.462315569671574,-9.490292678062161,-9.518212494475975,-9.54607500317664,-9.573880188460095,-9.601628034654624,-9.629318526120755,-9.656951647251432,-9.68452738247187,-9.712045716239658,-9.73950663304474,-9.766910117409381,-9.79425615388827,-9.821544727068442,-9.848775821569333,-9.87594942204278,-9.903065513173004,-9.930124079676645,-9.957125106302797,-9.984068577832943,-10.010954479081036,-10.03778279489346,-10.064553510149068,-10.091266609759145,-10.117922078667505,-10.14451990185043,-10.171060064316634,-10.197542551107375,-10.223967347296451,-10.250334437990134,-10.276643808327222,-10.302895443479045,-10.329089328649488,-10.355225449074965,-10.38130379002449,-10.407324336799618,-10.433287074734437,-10.45919198919566,-10.485039065582626,-10.510828289327193,-10.536559645893902,-10.562233120779851,-10.587848699514794,-10.6134063676611,-10.638906110813792,-10.664347914600526,-10.689731764681639,-10.715057646750097,-10.740325546531565,-10.765535449784394,-10.790687342299591,-10.815781209900905,-10.84081703844474,-10.86579481382023,-10.890714521949263,-10.9155761487864,-10.940379680318955,-10.965125102567043,-10.98981240158345,-11.014441563453772,-11.03901257429635,-11.063525420262295,-11.087980087535527,-11.112376562332727,-11.13671483090343,-11.160994879529909,-11.18521669452727,-11.20938026224347,-11.233485569059297,-11.25753260138832,-11.281521345677021,-11.305451788404682,-11.329323916083482,-11.353137715258427,-11.376893172507451,-11.400590274441356,-11.4242290077038,-11.447809358971355,-11.471331314953531,-11.494794862392709,-11.518199988064225,-11.541546678776314,-11.564834921370164,-11.58806470271989,-11.611236009732565,-11.63434882934824,-11.657403148539899,-11.680398954313546,-11.703336233708086,-11.726214973795464,-11.749035161680652,-11.771796784501547,-11.7944998294291,-11.817144283667261,-11.839730134453006,-11.862257369056394,-11.884725974780437,-11.907135938961233,-11.92948724896793,-11.951779892202723,-11.97401385610091,-11.996189128130823,-12.01830569579387,-12.040363546624604,-12.062362668190602,-12.084303048092565,-12.106184673964336,-12.12800753347284,-12.149771614318126,-12.171476904233359,-12.193123390984908,-12.214711062372174,-12.236239906227823,-12.257709910417603,-12.279121062840446,-12.300473351428437,-12.3217667641469,-12.343001288994273,-12.364176914002215,-12.385293627235583,-12.406351416792418,-12.427350270804013,-12.448290177434842,-12.469171124882607,-12.489993101378275,-12.510756095185982,-12.531460094603204,-12.55210508796057,-12.572691063622045,-12.593218009984795,-12.613685915479309,-12.634094768569312,-12.65444455775183,-12.67473527155721,-12.694966898549026,-12.715139427324203,-12.735252846512978,-12.755307144778897,-12.775302310818802,-12.795238333362903,-12.815115201174706,-12.834932903051097,-12.854691427822274,-12.87439076435183,-12.894030901536667,-12.913611828307097,-12.933133533626773,-12.952596006492769,-12.971999235935485,-12.991343211018759,-13.01062792083981,-13.029853354529251,-13.049019501251138,-13.068126350202903,-13.087173890615418,-13.10616211175298,-13.125091002913308,-13.143960553427604,-13.162770752660478,-13.181521590009993,-13.200213054907664,-13.218845136818516,-13.237417825240968,-13.255931109707006,-13.274384979782013,-13.292779425064907,-13.311114435188102,-13.329389999817465,-13.347606108652428,-13.365762751425905,-13.383859917904317,-13.401897597887611,-13.4198757812093,-13.437794457736373,-13.455653617369407,-13.473453250042468,-13.491193345723246,-13.508873894412929,-13.52649488614631,-13.544056310991692,-13.561558159051032,-13.579000420459778,-13.596383085387032,-13.613706144035476,-13.630969586641328,-13.648173403474487,-13.665317584838405,-13.682402121070169,-13.699427002540489,-13.716392219653684,-13.733297762847698,-13.75014362259411,-13.766929789398162,-13.78365625379871,-13.800323006368274,-13.816930037713036,-13.833477338472832,-13.849964899321137,-13.866392710965158,-13.882760764145715,-13.899069049637347,-13.915317558248262,-13.931506280820372,-13.947635208229315,-13.963704331384335,-13.9797136412285,-13.995663128738485,-14.011552784924774,-14.02738260083153,-14.043152567536623,-14.058862676151705,-14.074512917822119,-14.09010328372699,-14.105633765079148,-14.121104353125219,-14.136515039145578,-14.151865814454311,-14.167156670399365,-14.182387598362368,-14.197558589758756,-14.212669636037788,-14.227720728682456,-14.242711859209564,-14.257643019169706,-14.272514200147285,-14.287325393760526,-14.302076591661418,-14.316767785535802,-14.33139896710334,-14.345970128117486,-14.36048126036556,-14.374932355668705,-14.389323405881896,-14.403654402893935,-14.417925338627526,-14.432136205039157,-14.44628699411922,-14.460377697891943,-14.47440830841542,-14.488378817781665,-14.502289218116502,-14.516139501579644,-14.529929660364715,-14.543659686699229,-14.557329572844552,-14.570939311095984,-14.58448889378272,-14.59797831326783,-14.611407561948354,-14.624776632255177,-14.638085516653149,-14.651334207641028,-14.66452269775148,-14.67765097955116,-14.690719045640577,-14.70372688865426,-14.716674501260584,-14.729561876161995,-14.742389006094797,-14.75515588382926,-14.767862502169649,-14.780508853954174,-14.793094932055013,-14.805620729378333,-14.818086238864225,-14.830491453486815,-14.842836366254204,-14.855120970208446,-14.867345258425644,-14.87950922401582,-14.891612860123075,-14.903656159925461,-14.915639116635063,-14.927561723497945,-14.939423973794234,-14.951225860838036,-14.962967377977492,-14.974648518594776,-14.986269276106086,-14.997829643961651,-15.009329615645726,-15.020769184676638,-15.032148344606739,-15.043467089022428,-15.054725411544155,-15.065923305826445,-15.077060765557832,-15.088137784460983,-15.099154356292587,-15.110110474843395,-15.121006133938252,-15.131841327436078,-15.142616049229872,-15.15333029324671,-15.163984053447749,-15.17457732382826,-15.185110098417596,-15.195582371279187,-15.205994136510597,-15.216345388243468,-15.226636120643562,-15.236866327910747,-15.24703600427901,-15.257145144016448,-15.267193741425274,-15.277181790841823,-15.287109286636579,-15.296976223214145,-15.30678259501326,-15.316528396506754,-15.326213622201664,-15.33583826663913,-15.345402324394442,-15.354905790077055,-15.364348658330542,-15.373730923832667,-15.383052581295345,-15.39231362546461,-15.401514051120714,-15.410653853078045,-15.419733026185156,-15.428751565324802,-15.437709465413874,-15.446606721403498,-15.455443328278903,-15.464219281059542,-15.472934574799098,-15.481589204585347,-15.49018316554033,-15.498716452820275,-15.507189061615577,-15.515600987150862,-15.523952224684919,-15.532242769510788,-15.540472616955697,-15.54864176238108,-15.556750201182581,-15.564797928790085,-15.572784940667674,-15.580711232313632,-15.588576799260522,-15.596381637075083,-15.604125741358303,-15.611809107745387,-15.619431731905806,-15.626993609543248,-15.63449473639561,-15.641935108235089,-15.649314720868063,-15.656633570135199,-15.663891651911399,-15.671088962105827,-15.678225496661852,-15.685301251557178,-15.692316222803683,-15.699270406447567,-15.70616379856925,-15.71299639528344,-15.719768192739096,-15.72647918711948,-15.733129374642061,-15.739718751558627,-15.74624731415524,-15.75271505875223,-15.759121981704183,-15.765468079399994,-15.771753348262834,-15.777977784750178,-15.784141385353735,-15.790244146599562,-15.796286065047966,-15.802267137293569,-15.80818735996526,-15.814046729726272,-15.819845243274102,-15.825582897340524,-15.831259688691674,-15.836875614127948,-15.842430670484063,-15.847924854629056,-15.853358163466226,-15.858730593933231,-15.864042143002038,-15.869292807678903,-15.87448258500443,-15.879611472053497,-15.884679465935335,-15.889686563793475,-15.894632762805813,-15.899518060184533,-15.904342453176127,-15.909105939061462,-15.913808515155694,-15.918450178808342,-15.923030927403232,-15.927550758358521,-15.932009669126742,-15.936407657194692,-15.940744720083586,-15.945020855348915,-15.949236060580546,-15.95339033340268,-15.957483671473852,-15.961516072486944,-15.965487534169199,-15.969398054282195,-15.973247630621842,-15.977036261018426,-15.98076394333657,-15.984430675475252,-15.988036455367833,-15.991581280981961,-15.99506515031969,-15.998488061417419,-16.001850012345912,-16.00515100121028,-16.00839102614998,-16.011570085338874,-16.014688176985146,-16.017745299331352,-16.02074145065444,-16.023676629265665,-16.02655083351071,-16.02936406176957,-16.032116312456665,-16.034807584020726,-16.037437874944914,-16.040007183746695,-16.042515508977942,-16.044962849224902,-16.047349203108197,-16.049674569282814,-16.0519389464381,-16.054142333297804,-16.056284728620028,-16.05836613119726,-16.06038653985638,-16.06234595345863,-16.064244370899615,-16.06608179110937,-16.067858213052233,-16.069573635726996,-16.07122805816678,-16.072821479439142,-16.07435389864594,-16.075825314923506,-16.07723572744247,-16.07858513540792,-16.079873538059275,-16.081100934670374,-16.082267324549406,-16.083372707038976,-16.08441708151605,-16.08540044739199,-16.086322804112555,-16.087184151157857,-16.087984488042466,-16.088723814315244,-16.08940212955949,-16.09001943339291,-16.090575725467573,-16.091071005469928,-16.09150527312083,-16.0918785281755,-16.09219077042357,-16.092441999689058,-16.09263221583035,-16.09276141874024,-16.092829608345937,-16.09283678460895,-16.092782947525265,-16.09266809712524,-16.092492233473592,-16.09225535666944,-16.09195746684631,-16.09159856417206,-16.091178648849024,-16.09069772111387,-16.090155781237627,-16.089552829525786,-16.088888866318158,-16.088163891988998,-16.087377906946898,-16.08653091163488,-16.085622906530304,-16.08465389214497,-16.083623869025033,-16.082532837751046,-16.081380798937943,-16.08016775323503,-16.078893701326024,-16.07755864392901,-16.076162581796467,-16.074705515715266,-16.07318744650661,-16.07160837502616,-16.069968302163915,-16.06826722884425,-16.06650515602594,-16.06468208470214,-16.062798015900384,-16.060852950682587,-16.05884689014502,-16.056779835418368,-16.05465178766768,-16.052462748092367,-16.050212717926257,-16.0479016984375,-16.045529690928646,-16.04309669673664,-16.040602717232773,-16.038047753822724,-16.035431807946537,-16.03275488107863,-16.030016974727786,-16.02721809043716,-16.02435822978427,-16.021437394381024,-16.018455585873696,-16.015412805942873,-16.012309056303593,-16.00914433870517,-16.005918654931364,-16.002632006800226,-15.9992843961642,-15.995875824910087,-15.992406294959068,-15.98887580826667,-15.98528436682274,-15.981631972651499,-15.97791862781159,-15.974144334395902,-15.970309094531743,-15.966412910380768,-15.962455784138953,-15.958437718036649,-15.954358714338554,-15.950218775343686,-15.946017903385425,-15.941756100831512,-15.937433370083994,-15.933049713579294,-15.928605133788139,-15.924099633215633,-15.91953321440117,-15.914905879918535,-15.910217632375804,-15.9054684744154,-15.900658408714051,-15.89578743798289,-15.890855564967282,-15.885862792446972,-15.88080912323602,-15.875694560182836,-15.870519106170079,-15.865282764114795,-15.859985536968338,-15.854627427716352,-15.849208439378813,-15.84372857500999,-15.838187837698513,-15.832586230567273,-15.826923756773482,-15.82120041950867,-15.81541622199866,-15.809571167503563,-15.803665259317839,-15.797698500770181,-15.791670895223632,-15.785582446075523,-15.779433156757449,-15.77322303073531,-15.766952071509323,-15.760620282613928,-15.754227667617926,-15.74777423012435,-15.741259973770525,-15.734684902228082,-15.728049019202885,-15.721352328435088,-15.714594833699152,-15.707776538803756,-15.700897447591885,-15.693957563940785,-15.686956891761938,-15.679895435001129,-15.672773197638364,-15.665590183687954,-15.658346397198414,-15.651041842252553,-15.643676522967397,-15.63625044349422,-15.628763608018616,-15.621216020760315,-15.61360768597335,-15.605938607945987,-15.598208791000715,-15.59041823949427,-15.582566957817619,-15.574654950395953,-15.56668222168868,-15.558648776189443,-15.55055461842612,-15.54239975296079,-15.534184184389744,-15.525907917343503,-15.517570956486779,-15.50917330651852,-15.500714972171878,-15.492195958214168,-15.48361626944694,-15.474975910705936,-15.4662748868611,-15.457513202816557,-15.448690863510635,-15.439807873915825,-15.430864239038812,-15.421859963920497,-15.41279505363589,-15.403669513294247,-15.39448334803896,-15.38523656304757,-15.375929163531865,-15.366561154737681,-15.357132541945134,-15.3476433304684,-15.338093525655864,-15.328483132890057,-15.318812157587658,-15.309080605199469,-15.299288481210468,-15.289435791139752,-15.279522540540555,-15.269548735000257,-15.25951438014036,-15.24941948161647,-15.23926404511839,-15.229048076369935,-15.218771581129161,-15.208434565188114,-15.198037034373058,-15.187578994544296,-15.177060451596276,-15.166481411457497,-15.155841880090605,-15.145141863492356,-15.134381367693507,-15.123560398758983,-15.112678962787797,-15.101737065912971,-15.090734714301703,-15.07967191415517,-15.068548671708669,-15.057364993231559,-15.046120885027264,-15.034816353433271,-15.023451404821074,-15.012026045596329,-15.000540282198614,-14.988994121101626,-14.977387568813128,-14.965720631874817,-14.953993316862551,-14.942205630386113,-14.930357579089375,-14.91844916965023,-14.906480408780538,-14.894451303226248,-14.882361859767258,-14.870212085217517,-14.858001986424966,-14.845731570271525,-14.833400843673147,-14.821009813579735,-14.808558486975215,-14.79604687087749,-14.783474972338439,-14.770842798443923,-14.758150356313763,-14.745397653101762,-14.732584695995683,-14.719711492217257,-14.706778049022162,-14.693784373700026,-14.680730473574428,-14.667616356002895,-14.654442028376906,-14.641207498121858,-14.627912772697073,-14.614557859595834,-14.601142766345305,-14.587667500506612,-14.574132069674747,-14.560536481478664,-14.546880743581184,-14.533164863679048,-14.519388849502903,-14.505552708817262,-14.49165644942056,-14.477700079145066,-14.463683605857014,-14.449607037456403,-14.43547038187721,-14.421273647087219,-14.407016841088065,-14.392699971915306,-14.378323047638261,-14.363886076360203,-14.349389066218151,-14.334832025383022,-14.320214962059538,-14.305537884486284,-14.290800800935656,-14.276003719713856,-14.26114664916092,-14.246229597650682,-14.23125257359078,-14.216215585422674,-14.201118641621633,-14.185961750696677,-14.170744921190632,-14.155468161680105,-14.140131480775494,-14.124734887120951,-14.109278389394433,-14.093761996307606,-14.07818571660593,-14.062549559068614,-14.04685353250862,-14.031097645772647,-14.015281907741127,-13.999406327328202,-13.983470913481838]}],                        {\"template\":{\"data\":{\"barpolar\":[{\"marker\":{\"line\":{\"color\":\"#E5ECF6\",\"width\":0.5},\"pattern\":{\"fillmode\":\"overlay\",\"size\":10,\"solidity\":0.2}},\"type\":\"barpolar\"}],\"bar\":[{\"error_x\":{\"color\":\"#2a3f5f\"},\"error_y\":{\"color\":\"#2a3f5f\"},\"marker\":{\"line\":{\"color\":\"#E5ECF6\",\"width\":0.5},\"pattern\":{\"fillmode\":\"overlay\",\"size\":10,\"solidity\":0.2}},\"type\":\"bar\"}],\"carpet\":[{\"aaxis\":{\"endlinecolor\":\"#2a3f5f\",\"gridcolor\":\"white\",\"linecolor\":\"white\",\"minorgridcolor\":\"white\",\"startlinecolor\":\"#2a3f5f\"},\"baxis\":{\"endlinecolor\":\"#2a3f5f\",\"gridcolor\":\"white\",\"linecolor\":\"white\",\"minorgridcolor\":\"white\",\"startlinecolor\":\"#2a3f5f\"},\"type\":\"carpet\"}],\"choropleth\":[{\"colorbar\":{\"outlinewidth\":0,\"ticks\":\"\"},\"type\":\"choropleth\"}],\"contourcarpet\":[{\"colorbar\":{\"outlinewidth\":0,\"ticks\":\"\"},\"type\":\"contourcarpet\"}],\"contour\":[{\"colorbar\":{\"outlinewidth\":0,\"ticks\":\"\"},\"colorscale\":[[0.0,\"#0d0887\"],[0.1111111111111111,\"#46039f\"],[0.2222222222222222,\"#7201a8\"],[0.3333333333333333,\"#9c179e\"],[0.4444444444444444,\"#bd3786\"],[0.5555555555555556,\"#d8576b\"],[0.6666666666666666,\"#ed7953\"],[0.7777777777777778,\"#fb9f3a\"],[0.8888888888888888,\"#fdca26\"],[1.0,\"#f0f921\"]],\"type\":\"contour\"}],\"heatmapgl\":[{\"colorbar\":{\"outlinewidth\":0,\"ticks\":\"\"},\"colorscale\":[[0.0,\"#0d0887\"],[0.1111111111111111,\"#46039f\"],[0.2222222222222222,\"#7201a8\"],[0.3333333333333333,\"#9c179e\"],[0.4444444444444444,\"#bd3786\"],[0.5555555555555556,\"#d8576b\"],[0.6666666666666666,\"#ed7953\"],[0.7777777777777778,\"#fb9f3a\"],[0.8888888888888888,\"#fdca26\"],[1.0,\"#f0f921\"]],\"type\":\"heatmapgl\"}],\"heatmap\":[{\"colorbar\":{\"outlinewidth\":0,\"ticks\":\"\"},\"colorscale\":[[0.0,\"#0d0887\"],[0.1111111111111111,\"#46039f\"],[0.2222222222222222,\"#7201a8\"],[0.3333333333333333,\"#9c179e\"],[0.4444444444444444,\"#bd3786\"],[0.5555555555555556,\"#d8576b\"],[0.6666666666666666,\"#ed7953\"],[0.7777777777777778,\"#fb9f3a\"],[0.8888888888888888,\"#fdca26\"],[1.0,\"#f0f921\"]],\"type\":\"heatmap\"}],\"histogram2dcontour\":[{\"colorbar\":{\"outlinewidth\":0,\"ticks\":\"\"},\"colorscale\":[[0.0,\"#0d0887\"],[0.1111111111111111,\"#46039f\"],[0.2222222222222222,\"#7201a8\"],[0.3333333333333333,\"#9c179e\"],[0.4444444444444444,\"#bd3786\"],[0.5555555555555556,\"#d8576b\"],[0.6666666666666666,\"#ed7953\"],[0.7777777777777778,\"#fb9f3a\"],[0.8888888888888888,\"#fdca26\"],[1.0,\"#f0f921\"]],\"type\":\"histogram2dcontour\"}],\"histogram2d\":[{\"colorbar\":{\"outlinewidth\":0,\"ticks\":\"\"},\"colorscale\":[[0.0,\"#0d0887\"],[0.1111111111111111,\"#46039f\"],[0.2222222222222222,\"#7201a8\"],[0.3333333333333333,\"#9c179e\"],[0.4444444444444444,\"#bd3786\"],[0.5555555555555556,\"#d8576b\"],[0.6666666666666666,\"#ed7953\"],[0.7777777777777778,\"#fb9f3a\"],[0.8888888888888888,\"#fdca26\"],[1.0,\"#f0f921\"]],\"type\":\"histogram2d\"}],\"histogram\":[{\"marker\":{\"pattern\":{\"fillmode\":\"overlay\",\"size\":10,\"solidity\":0.2}},\"type\":\"histogram\"}],\"mesh3d\":[{\"colorbar\":{\"outlinewidth\":0,\"ticks\":\"\"},\"type\":\"mesh3d\"}],\"parcoords\":[{\"line\":{\"colorbar\":{\"outlinewidth\":0,\"ticks\":\"\"}},\"type\":\"parcoords\"}],\"pie\":[{\"automargin\":true,\"type\":\"pie\"}],\"scatter3d\":[{\"line\":{\"colorbar\":{\"outlinewidth\":0,\"ticks\":\"\"}},\"marker\":{\"colorbar\":{\"outlinewidth\":0,\"ticks\":\"\"}},\"type\":\"scatter3d\"}],\"scattercarpet\":[{\"marker\":{\"colorbar\":{\"outlinewidth\":0,\"ticks\":\"\"}},\"type\":\"scattercarpet\"}],\"scattergeo\":[{\"marker\":{\"colorbar\":{\"outlinewidth\":0,\"ticks\":\"\"}},\"type\":\"scattergeo\"}],\"scattergl\":[{\"marker\":{\"colorbar\":{\"outlinewidth\":0,\"ticks\":\"\"}},\"type\":\"scattergl\"}],\"scattermapbox\":[{\"marker\":{\"colorbar\":{\"outlinewidth\":0,\"ticks\":\"\"}},\"type\":\"scattermapbox\"}],\"scatterpolargl\":[{\"marker\":{\"colorbar\":{\"outlinewidth\":0,\"ticks\":\"\"}},\"type\":\"scatterpolargl\"}],\"scatterpolar\":[{\"marker\":{\"colorbar\":{\"outlinewidth\":0,\"ticks\":\"\"}},\"type\":\"scatterpolar\"}],\"scatter\":[{\"fillpattern\":{\"fillmode\":\"overlay\",\"size\":10,\"solidity\":0.2},\"type\":\"scatter\"}],\"scatterternary\":[{\"marker\":{\"colorbar\":{\"outlinewidth\":0,\"ticks\":\"\"}},\"type\":\"scatterternary\"}],\"surface\":[{\"colorbar\":{\"outlinewidth\":0,\"ticks\":\"\"},\"colorscale\":[[0.0,\"#0d0887\"],[0.1111111111111111,\"#46039f\"],[0.2222222222222222,\"#7201a8\"],[0.3333333333333333,\"#9c179e\"],[0.4444444444444444,\"#bd3786\"],[0.5555555555555556,\"#d8576b\"],[0.6666666666666666,\"#ed7953\"],[0.7777777777777778,\"#fb9f3a\"],[0.8888888888888888,\"#fdca26\"],[1.0,\"#f0f921\"]],\"type\":\"surface\"}],\"table\":[{\"cells\":{\"fill\":{\"color\":\"#EBF0F8\"},\"line\":{\"color\":\"white\"}},\"header\":{\"fill\":{\"color\":\"#C8D4E3\"},\"line\":{\"color\":\"white\"}},\"type\":\"table\"}]},\"layout\":{\"annotationdefaults\":{\"arrowcolor\":\"#2a3f5f\",\"arrowhead\":0,\"arrowwidth\":1},\"autotypenumbers\":\"strict\",\"coloraxis\":{\"colorbar\":{\"outlinewidth\":0,\"ticks\":\"\"}},\"colorscale\":{\"diverging\":[[0,\"#8e0152\"],[0.1,\"#c51b7d\"],[0.2,\"#de77ae\"],[0.3,\"#f1b6da\"],[0.4,\"#fde0ef\"],[0.5,\"#f7f7f7\"],[0.6,\"#e6f5d0\"],[0.7,\"#b8e186\"],[0.8,\"#7fbc41\"],[0.9,\"#4d9221\"],[1,\"#276419\"]],\"sequential\":[[0.0,\"#0d0887\"],[0.1111111111111111,\"#46039f\"],[0.2222222222222222,\"#7201a8\"],[0.3333333333333333,\"#9c179e\"],[0.4444444444444444,\"#bd3786\"],[0.5555555555555556,\"#d8576b\"],[0.6666666666666666,\"#ed7953\"],[0.7777777777777778,\"#fb9f3a\"],[0.8888888888888888,\"#fdca26\"],[1.0,\"#f0f921\"]],\"sequentialminus\":[[0.0,\"#0d0887\"],[0.1111111111111111,\"#46039f\"],[0.2222222222222222,\"#7201a8\"],[0.3333333333333333,\"#9c179e\"],[0.4444444444444444,\"#bd3786\"],[0.5555555555555556,\"#d8576b\"],[0.6666666666666666,\"#ed7953\"],[0.7777777777777778,\"#fb9f3a\"],[0.8888888888888888,\"#fdca26\"],[1.0,\"#f0f921\"]]},\"colorway\":[\"#636efa\",\"#EF553B\",\"#00cc96\",\"#ab63fa\",\"#FFA15A\",\"#19d3f3\",\"#FF6692\",\"#B6E880\",\"#FF97FF\",\"#FECB52\"],\"font\":{\"color\":\"#2a3f5f\"},\"geo\":{\"bgcolor\":\"white\",\"lakecolor\":\"white\",\"landcolor\":\"#E5ECF6\",\"showlakes\":true,\"showland\":true,\"subunitcolor\":\"white\"},\"hoverlabel\":{\"align\":\"left\"},\"hovermode\":\"closest\",\"mapbox\":{\"style\":\"light\"},\"paper_bgcolor\":\"white\",\"plot_bgcolor\":\"#E5ECF6\",\"polar\":{\"angularaxis\":{\"gridcolor\":\"white\",\"linecolor\":\"white\",\"ticks\":\"\"},\"bgcolor\":\"#E5ECF6\",\"radialaxis\":{\"gridcolor\":\"white\",\"linecolor\":\"white\",\"ticks\":\"\"}},\"scene\":{\"xaxis\":{\"backgroundcolor\":\"#E5ECF6\",\"gridcolor\":\"white\",\"gridwidth\":2,\"linecolor\":\"white\",\"showbackground\":true,\"ticks\":\"\",\"zerolinecolor\":\"white\"},\"yaxis\":{\"backgroundcolor\":\"#E5ECF6\",\"gridcolor\":\"white\",\"gridwidth\":2,\"linecolor\":\"white\",\"showbackground\":true,\"ticks\":\"\",\"zerolinecolor\":\"white\"},\"zaxis\":{\"backgroundcolor\":\"#E5ECF6\",\"gridcolor\":\"white\",\"gridwidth\":2,\"linecolor\":\"white\",\"showbackground\":true,\"ticks\":\"\",\"zerolinecolor\":\"white\"}},\"shapedefaults\":{\"line\":{\"color\":\"#2a3f5f\"}},\"ternary\":{\"aaxis\":{\"gridcolor\":\"white\",\"linecolor\":\"white\",\"ticks\":\"\"},\"baxis\":{\"gridcolor\":\"white\",\"linecolor\":\"white\",\"ticks\":\"\"},\"bgcolor\":\"#E5ECF6\",\"caxis\":{\"gridcolor\":\"white\",\"linecolor\":\"white\",\"ticks\":\"\"}},\"title\":{\"x\":0.05},\"xaxis\":{\"automargin\":true,\"gridcolor\":\"white\",\"linecolor\":\"white\",\"ticks\":\"\",\"title\":{\"standoff\":15},\"zerolinecolor\":\"white\",\"zerolinewidth\":2},\"yaxis\":{\"automargin\":true,\"gridcolor\":\"white\",\"linecolor\":\"white\",\"ticks\":\"\",\"title\":{\"standoff\":15},\"zerolinecolor\":\"white\",\"zerolinewidth\":2}}},\"xaxis\":{\"range\":[-60,60],\"title\":{\"text\":\"X\"}},\"yaxis\":{\"range\":[-60,60],\"title\":{\"text\":\"Y\"}},\"width\":500,\"height\":500,\"showlegend\":false,\"title\":{\"text\":\"Hits in the GlueX CDC\"},\"shapes\":[{\"line\":{\"color\":\"black\"},\"type\":\"circle\",\"x0\":-10.5,\"x1\":10.5,\"xref\":\"x\",\"y0\":-10.5,\"y1\":10.5,\"yref\":\"y\"},{\"line\":{\"color\":\"black\"},\"type\":\"circle\",\"x0\":-55,\"x1\":55,\"xref\":\"x\",\"y0\":-55,\"y1\":55,\"yref\":\"y\"}]},                        {\"responsive\": true}                    ).then(function(){\n                            \nvar gd = document.getElementById('b0660531-b304-48a6-a7a0-c39981b89269');\nvar x = new MutationObserver(function (mutations, observer) {{\n        var display = window.getComputedStyle(gd).display;\n        if (!display || display === 'none') {{\n            console.log([gd, 'removed!']);\n            Plotly.purge(gd);\n            observer.disconnect();\n        }}\n}});\n\n// Listen for the removal of the full notebook cells\nvar notebookContainer = gd.closest('#notebook-container');\nif (notebookContainer) {{\n    x.observe(notebookContainer, {childList: true});\n}}\n\n// Listen for the clearing of the current output cell\nvar outputEl = gd.closest('.output');\nif (outputEl) {{\n    x.observe(outputEl, {childList: true});\n}}\n\n                        })                };                            </script>        </div>\n</body>\n</html>"
                },
                "metadata": {}
              }
            ]
          }
        },
        "e46424892a604c05bc05e9ad43edd90f": {
          "model_module": "@jupyter-widgets/base",
          "model_name": "LayoutModel",
          "model_module_version": "1.2.0",
          "state": {
            "_model_module": "@jupyter-widgets/base",
            "_model_module_version": "1.2.0",
            "_model_name": "LayoutModel",
            "_view_count": null,
            "_view_module": "@jupyter-widgets/base",
            "_view_module_version": "1.2.0",
            "_view_name": "LayoutView",
            "align_content": null,
            "align_items": null,
            "align_self": null,
            "border": null,
            "bottom": null,
            "display": null,
            "flex": null,
            "flex_flow": null,
            "grid_area": null,
            "grid_auto_columns": null,
            "grid_auto_flow": null,
            "grid_auto_rows": null,
            "grid_column": null,
            "grid_gap": null,
            "grid_row": null,
            "grid_template_areas": null,
            "grid_template_columns": null,
            "grid_template_rows": null,
            "height": null,
            "justify_content": null,
            "justify_items": null,
            "left": null,
            "margin": null,
            "max_height": null,
            "max_width": null,
            "min_height": null,
            "min_width": null,
            "object_fit": null,
            "object_position": null,
            "order": null,
            "overflow": null,
            "overflow_x": null,
            "overflow_y": null,
            "padding": null,
            "right": null,
            "top": null,
            "visibility": null,
            "width": null
          }
        },
        "390a87bd9d41443686bd8a0f613b236c": {
          "model_module": "@jupyter-widgets/controls",
          "model_name": "FloatSliderModel",
          "model_module_version": "1.5.0",
          "state": {
            "_dom_classes": [],
            "_model_module": "@jupyter-widgets/controls",
            "_model_module_version": "1.5.0",
            "_model_name": "FloatSliderModel",
            "_view_count": null,
            "_view_module": "@jupyter-widgets/controls",
            "_view_module_version": "1.5.0",
            "_view_name": "FloatSliderView",
            "continuous_update": true,
            "description": "z0",
            "description_tooltip": null,
            "disabled": false,
            "layout": "IPY_MODEL_2eadadabe8834db9af3ccfb11ec8b7b2",
            "max": 175,
            "min": 0,
            "orientation": "horizontal",
            "readout": true,
            "readout_format": ".2f",
            "step": 0.1,
            "style": "IPY_MODEL_149444f6fc434743b4871b2589bda0bc",
            "value": 122.79999999999998
          }
        },
        "961c03d7d7424d6d8a609c73bdf596ce": {
          "model_module": "@jupyter-widgets/controls",
          "model_name": "FloatSliderModel",
          "model_module_version": "1.5.0",
          "state": {
            "_dom_classes": [],
            "_model_module": "@jupyter-widgets/controls",
            "_model_module_version": "1.5.0",
            "_model_name": "FloatSliderModel",
            "_view_count": null,
            "_view_module": "@jupyter-widgets/controls",
            "_view_module_version": "1.5.0",
            "_view_name": "FloatSliderView",
            "continuous_update": true,
            "description": "pz",
            "description_tooltip": null,
            "disabled": false,
            "layout": "IPY_MODEL_4e1c8f378eae43389f48d229f90d4335",
            "max": 1,
            "min": -1,
            "orientation": "horizontal",
            "readout": true,
            "readout_format": ".2f",
            "step": 0.01,
            "style": "IPY_MODEL_8050037ed99b4f099eb607a0a5957dc8",
            "value": -0.71
          }
        },
        "89a611ce7b7149df81f2172df8e97f2e": {
          "model_module": "@jupyter-widgets/base",
          "model_name": "LayoutModel",
          "model_module_version": "1.2.0",
          "state": {
            "_model_module": "@jupyter-widgets/base",
            "_model_module_version": "1.2.0",
            "_model_name": "LayoutModel",
            "_view_count": null,
            "_view_module": "@jupyter-widgets/base",
            "_view_module_version": "1.2.0",
            "_view_name": "LayoutView",
            "align_content": null,
            "align_items": null,
            "align_self": null,
            "border": null,
            "bottom": null,
            "display": null,
            "flex": null,
            "flex_flow": "row wrap",
            "grid_area": null,
            "grid_auto_columns": null,
            "grid_auto_flow": null,
            "grid_auto_rows": null,
            "grid_column": null,
            "grid_gap": null,
            "grid_row": null,
            "grid_template_areas": null,
            "grid_template_columns": null,
            "grid_template_rows": null,
            "height": null,
            "justify_content": null,
            "justify_items": null,
            "left": null,
            "margin": null,
            "max_height": null,
            "max_width": null,
            "min_height": null,
            "min_width": null,
            "object_fit": null,
            "object_position": null,
            "order": null,
            "overflow": null,
            "overflow_x": null,
            "overflow_y": null,
            "padding": null,
            "right": null,
            "top": null,
            "visibility": null,
            "width": null
          }
        },
        "15d9ec19aff9450a8250dd4b386fcc7e": {
          "model_module": "@jupyter-widgets/base",
          "model_name": "LayoutModel",
          "model_module_version": "1.2.0",
          "state": {
            "_model_module": "@jupyter-widgets/base",
            "_model_module_version": "1.2.0",
            "_model_name": "LayoutModel",
            "_view_count": null,
            "_view_module": "@jupyter-widgets/base",
            "_view_module_version": "1.2.0",
            "_view_name": "LayoutView",
            "align_content": null,
            "align_items": null,
            "align_self": null,
            "border": null,
            "bottom": null,
            "display": null,
            "flex": null,
            "flex_flow": null,
            "grid_area": null,
            "grid_auto_columns": null,
            "grid_auto_flow": null,
            "grid_auto_rows": null,
            "grid_column": null,
            "grid_gap": null,
            "grid_row": null,
            "grid_template_areas": null,
            "grid_template_columns": null,
            "grid_template_rows": null,
            "height": null,
            "justify_content": null,
            "justify_items": null,
            "left": null,
            "margin": null,
            "max_height": null,
            "max_width": null,
            "min_height": null,
            "min_width": null,
            "object_fit": null,
            "object_position": null,
            "order": null,
            "overflow": null,
            "overflow_x": null,
            "overflow_y": null,
            "padding": null,
            "right": null,
            "top": null,
            "visibility": null,
            "width": null
          }
        },
        "2eadadabe8834db9af3ccfb11ec8b7b2": {
          "model_module": "@jupyter-widgets/base",
          "model_name": "LayoutModel",
          "model_module_version": "1.2.0",
          "state": {
            "_model_module": "@jupyter-widgets/base",
            "_model_module_version": "1.2.0",
            "_model_name": "LayoutModel",
            "_view_count": null,
            "_view_module": "@jupyter-widgets/base",
            "_view_module_version": "1.2.0",
            "_view_name": "LayoutView",
            "align_content": null,
            "align_items": null,
            "align_self": null,
            "border": null,
            "bottom": null,
            "display": null,
            "flex": null,
            "flex_flow": null,
            "grid_area": null,
            "grid_auto_columns": null,
            "grid_auto_flow": null,
            "grid_auto_rows": null,
            "grid_column": null,
            "grid_gap": null,
            "grid_row": null,
            "grid_template_areas": null,
            "grid_template_columns": null,
            "grid_template_rows": null,
            "height": null,
            "justify_content": null,
            "justify_items": null,
            "left": null,
            "margin": null,
            "max_height": null,
            "max_width": null,
            "min_height": null,
            "min_width": null,
            "object_fit": null,
            "object_position": null,
            "order": null,
            "overflow": null,
            "overflow_x": null,
            "overflow_y": null,
            "padding": null,
            "right": null,
            "top": null,
            "visibility": null,
            "width": null
          }
        },
        "149444f6fc434743b4871b2589bda0bc": {
          "model_module": "@jupyter-widgets/controls",
          "model_name": "SliderStyleModel",
          "model_module_version": "1.5.0",
          "state": {
            "_model_module": "@jupyter-widgets/controls",
            "_model_module_version": "1.5.0",
            "_model_name": "SliderStyleModel",
            "_view_count": null,
            "_view_module": "@jupyter-widgets/base",
            "_view_module_version": "1.2.0",
            "_view_name": "StyleView",
            "description_width": "",
            "handle_color": null
          }
        },
        "4e1c8f378eae43389f48d229f90d4335": {
          "model_module": "@jupyter-widgets/base",
          "model_name": "LayoutModel",
          "model_module_version": "1.2.0",
          "state": {
            "_model_module": "@jupyter-widgets/base",
            "_model_module_version": "1.2.0",
            "_model_name": "LayoutModel",
            "_view_count": null,
            "_view_module": "@jupyter-widgets/base",
            "_view_module_version": "1.2.0",
            "_view_name": "LayoutView",
            "align_content": null,
            "align_items": null,
            "align_self": null,
            "border": null,
            "bottom": null,
            "display": null,
            "flex": null,
            "flex_flow": null,
            "grid_area": null,
            "grid_auto_columns": null,
            "grid_auto_flow": null,
            "grid_auto_rows": null,
            "grid_column": null,
            "grid_gap": null,
            "grid_row": null,
            "grid_template_areas": null,
            "grid_template_columns": null,
            "grid_template_rows": null,
            "height": null,
            "justify_content": null,
            "justify_items": null,
            "left": null,
            "margin": null,
            "max_height": null,
            "max_width": null,
            "min_height": null,
            "min_width": null,
            "object_fit": null,
            "object_position": null,
            "order": null,
            "overflow": null,
            "overflow_x": null,
            "overflow_y": null,
            "padding": null,
            "right": null,
            "top": null,
            "visibility": null,
            "width": null
          }
        },
        "8050037ed99b4f099eb607a0a5957dc8": {
          "model_module": "@jupyter-widgets/controls",
          "model_name": "SliderStyleModel",
          "model_module_version": "1.5.0",
          "state": {
            "_model_module": "@jupyter-widgets/controls",
            "_model_module_version": "1.5.0",
            "_model_name": "SliderStyleModel",
            "_view_count": null,
            "_view_module": "@jupyter-widgets/base",
            "_view_module_version": "1.2.0",
            "_view_name": "StyleView",
            "description_width": "",
            "handle_color": null
          }
        },
        "99f2d569e8fc438abe9b29a31a95ba9c": {
          "model_module": "@jupyter-widgets/base",
          "model_name": "LayoutModel",
          "model_module_version": "1.2.0",
          "state": {
            "_model_module": "@jupyter-widgets/base",
            "_model_module_version": "1.2.0",
            "_model_name": "LayoutModel",
            "_view_count": null,
            "_view_module": "@jupyter-widgets/base",
            "_view_module_version": "1.2.0",
            "_view_name": "LayoutView",
            "align_content": null,
            "align_items": null,
            "align_self": null,
            "border": null,
            "bottom": null,
            "display": null,
            "flex": null,
            "flex_flow": null,
            "grid_area": null,
            "grid_auto_columns": null,
            "grid_auto_flow": null,
            "grid_auto_rows": null,
            "grid_column": null,
            "grid_gap": null,
            "grid_row": null,
            "grid_template_areas": null,
            "grid_template_columns": null,
            "grid_template_rows": null,
            "height": null,
            "justify_content": null,
            "justify_items": null,
            "left": null,
            "margin": null,
            "max_height": null,
            "max_width": null,
            "min_height": null,
            "min_width": null,
            "object_fit": null,
            "object_position": null,
            "order": null,
            "overflow": null,
            "overflow_x": null,
            "overflow_y": null,
            "padding": null,
            "right": null,
            "top": null,
            "visibility": null,
            "width": null
          }
        },
        "61ff357f56564f598efba8c3b5788dff": {
          "model_module": "@jupyter-widgets/controls",
          "model_name": "VBoxModel",
          "model_module_version": "1.5.0",
          "state": {
            "_dom_classes": [],
            "_model_module": "@jupyter-widgets/controls",
            "_model_module_version": "1.5.0",
            "_model_name": "VBoxModel",
            "_view_count": null,
            "_view_module": "@jupyter-widgets/controls",
            "_view_module_version": "1.5.0",
            "_view_name": "VBoxView",
            "box_style": "",
            "children": [
              "IPY_MODEL_35b170417f0e41b4ab21b08ccc039789",
              "IPY_MODEL_b949efc73bef4b75a769414fec3a5a7d"
            ],
            "layout": "IPY_MODEL_763cd91c1e1540b39edc982433cd3622"
          }
        },
        "35b170417f0e41b4ab21b08ccc039789": {
          "model_module": "@jupyter-widgets/controls",
          "model_name": "HBoxModel",
          "model_module_version": "1.5.0",
          "state": {
            "_dom_classes": [],
            "_model_module": "@jupyter-widgets/controls",
            "_model_module_version": "1.5.0",
            "_model_name": "HBoxModel",
            "_view_count": null,
            "_view_module": "@jupyter-widgets/controls",
            "_view_module_version": "1.5.0",
            "_view_name": "HBoxView",
            "box_style": "",
            "children": [
              "IPY_MODEL_c0f03fec91724d8e895265fa9c0d7697",
              "IPY_MODEL_9a023c2efb0b423685abecffdb2027f2",
              "IPY_MODEL_32cd402114cb4304b9161a4389aaf23e",
              "IPY_MODEL_32f3878e8a4a450ba6517cf8278c65f6",
              "IPY_MODEL_b0a3a826dd584346b01237589123351a",
              "IPY_MODEL_4c8a48b1f6e34eca9c8be97fa053f29c"
            ],
            "layout": "IPY_MODEL_132179e2e9bd469387e04ab85b0c992c"
          }
        },
        "b949efc73bef4b75a769414fec3a5a7d": {
          "model_module": "@jupyter-widgets/output",
          "model_name": "OutputModel",
          "model_module_version": "1.0.0",
          "state": {
            "_dom_classes": [],
            "_model_module": "@jupyter-widgets/output",
            "_model_module_version": "1.0.0",
            "_model_name": "OutputModel",
            "_view_count": null,
            "_view_module": "@jupyter-widgets/output",
            "_view_module_version": "1.0.0",
            "_view_name": "OutputView",
            "layout": "IPY_MODEL_5a0ffda2fb3644a986c5aa55c0191ef3",
            "msg_id": "",
            "outputs": [
              {
                "output_type": "display_data",
                "data": {
                  "text/html": "<html>\n<head><meta charset=\"utf-8\" /></head>\n<body>\n    <div>            <script src=\"https://cdnjs.cloudflare.com/ajax/libs/mathjax/2.7.5/MathJax.js?config=TeX-AMS-MML_SVG\"></script><script type=\"text/javascript\">if (window.MathJax && window.MathJax.Hub && window.MathJax.Hub.Config) {window.MathJax.Hub.Config({SVG: {font: \"STIX-Web\"}});}</script>                <script type=\"text/javascript\">window.PlotlyConfig = {MathJaxConfig: 'local'};</script>\n        <script charset=\"utf-8\" src=\"https://cdn.plot.ly/plotly-2.24.1.min.js\"></script>                <div id=\"5a2dacb1-1e6b-4d1f-be1b-1a69f4421c67\" class=\"plotly-graph-div\" style=\"height:500px; width:500px;\"></div>            <script type=\"text/javascript\">                                    window.PLOTLYENV=window.PLOTLYENV || {};                                    if (document.getElementById(\"5a2dacb1-1e6b-4d1f-be1b-1a69f4421c67\")) {                    Plotly.newPlot(                        \"5a2dacb1-1e6b-4d1f-be1b-1a69f4421c67\",                        [{\"hoverinfo\":\"text\",\"marker\":{\"size\":3},\"mode\":\"markers\",\"text\":[\"Ring: 2.0\\n Wire: 16.0\",\"Ring: 4.0\\n Wire: 20.0\",\"Ring: 5.0\\n Wire: 27.0\",\"Ring: 6.0\\n Wire: 28.0\",\"Ring: 8.0\\n Wire: 33.0\",\"Ring: 9.0\\n Wire: 32.0\",\"Ring: 10.0\\n Wire: 31.0\",\"Ring: 12.0\\n Wire: 36.0\",\"Ring: 13.0\\n Wire: 44.0\",\"Ring: 14.0\\n Wire: 45.0\",\"Ring: 15.0\\n Wire: 49.0\",\"Ring: 16.0\\n Wire: 49.0\",\"Ring: 17.0\\n Wire: 50.0\",\"Ring: 18.0\\n Wire: 50.0\",\"Ring: 19.0\\n Wire: 54.0\",\"Ring: 20.0\\n Wire: 54.0\",\"Ring: 21.0\\n Wire: 64.0\",\"Ring: 22.0\\n Wire: 63.0\",\"Ring: 23.0\\n Wire: 67.0\",\"Ring: 24.0\\n Wire: 68.0\",\"Ring: 25.0\\n Wire: 69.0\",\"Ring: 26.0\\n Wire: 70.0\",\"Ring: 27.0\\n Wire: 74.0\",\"Ring: 28.0\\n Wire: 73.0\"],\"x\":[-8.216281251582325,-10.169417057854623,-11.386096880065022,-12.943858740716289,-14.817567333424222,-15.98374613574184,-16.275435475920634,-18.645121293381905,-19.399329051423585,-20.902078372689186,-21.382529686171868,-22.885622658021582,-23.842073512638983,-24.09188903100861,-24.835311193314062,-26.359731966646073,-26.335082164757342,-26.480154615626283,-27.124828370884206,-28.58514022284182,-29.242178972248844,-30.714375693624834,-31.429629080788843,-31.57567926204895],\"y\":[8.855047966267422,11.222652259756398,12.97762341723634,13.445078641139268,16.503806043474825,18.002914000076764,19.585642053093007,21.902562069407637,24.665039151896615,25.222281369098212,26.990895515154346,27.546283902636475,29.028905609518834,30.610191407779855,32.173279055709585,32.741162633762556,34.88728113630136,36.50880993905376,38.10216325979415,38.760194535813795,41.01835405089979,41.661532831988644,43.12538530209362,44.72297834559112],\"type\":\"scatter\",\"uid\":\"4cb2ed19-5a7d-4632-8490-6bf94bbe34a3\"},{\"marker\":{\"color\":\"red\"},\"mode\":\"lines\",\"name\":\"track\",\"type\":\"scatter\",\"uid\":\"edb55908-8bac-4e68-b050-2d7842eb04e5\",\"x\":[1.4210854715202004e-14,-0.36550780170128405,-0.7298613398055522,-1.0930570147400118,-1.4550912383709402,-1.8159604340388569,-2.175661036594036,-2.534189492431679,-2.8915422595269717,-3.247715807470314,-3.602706617501795,-3.9565111825462793,-4.309126007247912,-4.660547608004677,-5.010772513002976,-5.3597972622515755,-5.707618407616067,-6.054232512852906,-6.399636153643144,-6.74382591762668,-7.086798404435527,-7.4285502257276335,-7.769078005220322,-8.108378378723586,-8.446447994173568,-8.783283511665303,-9.118881603485946,-9.453238954147594,-9.786352260420145,-10.118218231363699,-10.44883358836131,-10.778195065151166,-11.106299407859055,-11.43314337503044,-11.758723737662365,-12.083037279235555,-12.406080795746021,-12.727851095736725,-13.048345000329391,-13.367559343255493,-13.68549097088777,-14.002136742271404,-14.317493529154802,-14.631558216021034,-14.944327700117924,-15.255798891489235,-15.565968713004935,-15.874834100391666,-16.18239200226307,-16.48863938014989,-16.793573208529864,-17.097190474857882,-17.399488179595465,-17.70046333624066,-18.000112971357368,-18.29843412460471,-18.59542384876636,-18.891079209779747,-19.185397286764754,-19.478375172052864,-19.77000997121573,-20.060298803093787,-20.349238799824775,-20.63682710687206,-20.923060883052784,-21.20793730056593,-21.491453545020278,-21.77360681546233,-22.054394324403802,-22.33381329784919,-22.61186097532328,-22.8885346098983,-23.16383146822122,-23.437748830540585,-23.710283990733416,-23.981434256332022,-24.25119694855053,-24.519569402311475,-24.78654896627191,-25.052133002849757,-25.31631888824984,-25.579104012489807,-25.840485779425876,-26.100461606778538,-26.359028926158032,-26.616185183089698,-26.87192783703921,-27.1262543614379,-27.37916224370727,-27.630648985284267,-27.880712101645628,-28.129349122332655,-28.376557590975523,-28.62233506531757,-28.866679117239357,-29.109587332782752,-29.351057312174788,-29.591086669851222,-29.829673034480265,-30.066814048985975,-30.30250737057139,-30.53675067074198,-30.769541635328352,-31.000877964509243,-31.23075737283429,-31.459177589246394,-31.686136357104544,-31.911631434205674,-32.13566059280717,-32.35822161964856,-32.57931231597365,-32.79893049755216,-33.01707399470129,-33.23374065230706,-33.44892832984573,-33.66263490140494,-33.87485825570471,-34.085596296118155,-34.29484694069245,-34.50260812216911,-34.708877788004656,-34.91365390039084,-35.11693443627462,-35.3187173873784,-35.5190007602196,-35.71778257613053,-35.915060871278,-36.11083369668245,-36.30509911823745,-36.49785521672874,-36.68910008785312,-36.87883184223739,-37.067048605456876,-37.253748518054095,-37.43892973555694,-37.62259042849715,-37.8047287824281,-37.98534299794301,-38.16443129069245,-38.341991891402216,-38.518023045890544,-38.69252301508581,-38.86549007504331,-39.036922516962534,-39.20681864720396,-39.37517678730592,-39.5419952740009,-39.707272459232286,-39.871006710170434,-40.03319640922891,-40.193839954080374,-40.35293575767261,-40.5104822482439,-40.66647786933885,-40.82092107982348,-40.9738103539008,-41.125144181125535,-41.27492106641927,-41.42313953008505,-41.569798107822294,-41.714895350740875,-41.85842982537571,-42.000400113700834,-42.140804813143376,-42.27964253659752,-42.41691191243808,-42.552611584534105,-42.68674021226232,-42.81929647052033,-42.950279049739635,-43.079686655898826,-43.20751801053598,-43.33377185076162,-43.45844692927105,-43.58154201435667,-43.70305588992028,-43.8229873554848,-43.94133522620649,-44.0580983328864,-44.173275521981964,-44.286865655618584,-44.39886761160059,-44.5092802834225,-44.618102580279896,-44.72533342708027,-44.83097176445352,-44.935016548762576,-45.03746675211349,-45.13832136236587,-45.23757938314262,-45.33523983383992,-45.43130174963696,-45.52576418150531,-45.61862619621846,-45.70988687636088,-45.799545320337245,-45.887600642381244,-45.974051972564354,-46.05889845680443,-46.142139256874145,-46.22377355040928,-46.30380053091682,-46.38221940778297,-46.45902940628093,-46.53422976757855,-46.6078197487459,-46.679798622762405,-46.75016567852427,-46.818920220851396,-46.886061570494206,-46.95158906414048,-47.015502054421745,-47.077799909919804,-47.13848201517294,-47.19754777068192,-47.25499659291606,-47.31082791431885,-47.36504118331368,-47.41763586430915,-47.46861143770448,-47.51796739989467,-47.56570326327534,-47.61181855624761,-47.65631282322278,-47.69918562462689,-47.74043653690484,-47.780065152524884,-47.81807107998242,-47.85445394380389,-47.88921338455063,-47.922349058822306,-47.953860639260256,-47.98374781455084,-48.01201028942853,-48.03864778467863,-48.063660037140295,-48.087046799708986,-48.10880784133883,-48.128942947045175,-48.14745191790635,-48.164334571066036,-48.179590739734664,-48.1932202731914,-48.20522303678541,-48.21559891193732,-48.22434779614031,-48.2314696029612,-48.2369642620412,-48.24083171909669,-48.2430719359198,-48.24368489037863,-48.24267057641757,-48.24002900405742,-48.23576019939517,-48.22986420460376,-48.22234107793176,-48.21319089370266,-48.20241374231432,-48.19000973023782,-48.17597898001668,-48.16032163026543,-48.14303783566834,-48.12412776697795,-48.10359161101323,-48.08142957065789,-48.05764186485828,-48.03222872862122,-48.005190413011775,-47.97652718515067,-47.946239328211675,-47.91432714141885,-47.880790940043624,-47.84563105540144,-47.808847834848876,-47.770441641779854,-47.730412855622234,-47.68876187183406,-47.645489101899585,-47.60059497332523,-47.55407992963538,-47.50594443036803,-47.456188951070175,-47.40481398329311,-47.35182003458766,-47.29720762849911,-47.240977304561994,-47.18312961829491,-47.12366514119478,-47.06258446073144,-46.9998881803418,-46.93557691942374,-46.86965131333011,-46.80211201336246,-46.732959686764474,-46.6621950167156,-46.58981870232415,-46.51583145862034,-46.44023401654937,-46.36302712296413,-46.284211540617804,-46.20378804815644,-46.121757440111054,-46.03812052689,-45.95287813477083,-45.866031105892176,-45.777580298245425,-45.68752658566626,-45.59587085782596,-45.502614020222694,-45.40775699417253,-45.31130071680036,-45.21324614103057,-45.11359423557778,-45.01234598493707,-44.90950238937438,-44.80506446491668,-44.6990332433418,-44.59140977216828,-44.482195114645066,-44.37139034974098,-44.25899657213401,-44.14501489220061,-44.029446436004605,-43.91229234528615,-43.79355377745043,-43.67323190555618,-43.55132791830425,-43.42784302002556,-43.30277843066955,-43.176135385791866,-43.047915136542315,-42.91811894965241,-42.78674810742291,-42.653803907711136,-42.51928766391811,-42.38320070497562,-42.24554437533317,-42.10632003494442,-41.96552905925415,-41.82317283918434,-41.679252781120596,-41.53377030689819,-41.38672685378805,-41.23812387448254,-41.087962837081164,-40.936245225075936,-40.78297253733683,-40.62814628809693,-40.471768006937566,-40.31383923877297,-40.15436154383525,-39.99333649765896,-39.830765691065324,-39.666650730146785,-39.50099323625088,-39.33379484596449,-39.16505721109746,-38.994781998666326,-38.822970890878,-38.64962558511289,-38.47474779390831,-38.29833924494159,-38.12040168101288,-37.94093686002799,-37.759946554980985,-37.57743255393683,-37.39339666001342,-37.20784069136417,-37.0207664811596,-36.832175877569625,-36.64207074374502,-36.45045295779923,-36.257324412789615,-36.062687016698874,-35.86654269241612,-35.66889337771801,-35.46974102524942,-35.26908760250433,-35.06693509180619,-34.863285490288575,-34.65814080987525,-34.45150307726044,-34.24337433388871,-34.033756635934765,-33.82265205428331,-33.61006267450841,-33.395990596852954,-33.180437936207966,-32.9634068220916,-32.74489939862815,-32.52491782452691,-32.3034642730608,-32.08054093204487,-31.856150003814804,-31.63029370520502,-31.402974267526815,-31.174193936546345,-30.943954972462507,-30.712259649884402,-30.479110257809026,-30.24450909959876,-30.008458492958283,-29.770960769911994,-29.532018276780803,-29.291633374159034,-29.049808436891,-28.80654585404767,-28.561848028902915,-28.315717378909937,-28.068156335677344,-27.819167344944958,-27.568752866559862,-27.31691537445198,-27.063657356609752,-26.808981315055405,-26.552889765820254,-26.295385238920034,-26.03647027832963,-25.776147441958187,-25.51441930162366,-25.251288443027562,-24.986757465729227,-24.720828983120384,-24.453505622399035,-24.184790024543815,-23.914684844287564,-23.643192750091487,-23.370316424118357,-23.09605856220645,-22.820421873842577,-22.543409082135497,-22.265022923788962,-21.985266149074675,-21.704141521805127,-21.42165181930625,-21.1377998323901,-20.852588365327165,-20.5660202358186,-20.2780982749687,-19.988825327256563,-19.698204250508155,-19.40623791586816,-19.11292920777143,-18.818281023914665,-18.522296275227603,-18.22497788584448,-17.926328793074873,-17.62635194737493,-17.325050312318126,-17.022426864566,-16.71848459383861,-16.413226502885294,-16.106655607454655,-15.798774936265062,-15.489587530974518,-15.179096446150794,-14.867304749240986,-14.554215520541561,-14.239831853167658,-13.92415685302268,-13.607193638767427,-13.288945341789542,-12.969415106172335,-12.648606088663911,-12.326521458645772,-12.003164398101774,-11.67853810158644,-11.352645776193526,-11.025490641524385,-10.697075929656037,-10.367404885109323,-10.036480764816787,-9.704306838090602,-9.370886386590072,-9.036222704289472,-8.700319097445387,-8.36317888456388,-8.02480539636801,-7.68520197576477,-7.344371977812045,-7.002318769685516,-6.659045730645303,-6.3145562520028164,-5.968853737086832,-5.621941601210395,-5.273823271636601,-4.924502187545045,-4.573981799997739,-4.222265571904998,-3.8693569779912735,-3.515259504760806,-3.159976650463136,-2.8035119250587144,-2.4458688501838566,-2.087050959116482,-1.7270617967406565,-1.3659049195120474,-1.0035838954224232,-0.6401023039646532,-0.27546373609723673,0.09032820579122358,0.45726990791752087,0.8253577451394989,1.1945880809920908,1.56495726772296,1.936461646328823,2.309097546591275,2.682861287113326,3.0577491753556814,3.4337575076731213,3.8108825693512642,4.189120634643075,4.5684679668059545,4.948920818138319,5.33047543001679,5.713128032933483,6.09687484653287,6.481712079649483,6.867635930345202,7.254642585946797,7.642728223083665,8.031889007725539,8.422121095220575,8.813420630332885,9.205783747281203,9.599206569776527,9.993685211060793,10.38921577394511,10.785794350848278,11.183417023835432,11.582079864656748,11.98177893478605,12.382510285460285,12.78426995771784,13.187053982438002,13.590858380380183,13.995679162223169,14.401512328604525,14.808353870160161,15.216199767563864,15.625045991567063,16.03488850303866,16.445723253004815,16.857546182688964,17.270353223552334,17.684140297333386,18.098903316088666,18.514638182233014,18.93134078858003,19.349007018382707,19.76763274537396,20.18721383380786,20.607746138499763,21.02922550486774,21.451647768973544,21.875008757563748,22.29930428811089,22.724530168854855,23.15068219884435,23.577756167978222,24.005747857047282,24.434653037775803,24.864467472863282,25.295186916026694,25.72680711204181,26.159323796785685,26.59273269727862,27.02702953172644,27.462210009562753,27.898269831491362,28.33520468952861,28.773010267046416,29.21168223881419,29.651216271042102,30.091608021423696,30.532853139178812,30.974947265096645,31.41788603157869,31.86166506268195,32.30627997416222,32.75172637351733,33.19799986003049,33.645096024813796,34.09301045085216,34.54173871304626,34.9912763782567,35.44161900534775,35.892762145231146,36.344701340910134,36.79743212752331,37.25095003238921,37.705250575049874,38.16032926731543,38.61618161330844,39.0728031095083,39.53018924479565,39.98833550049707,40.4472373504296,40.90689026094552,41.36728969097713,41.828431092081615,42.29030990848584,42.752921577131886,43.21626152772133,43.68032518276097,44.14510795760782,44.610605260514546,45.07681249267468,45.54372504826816,46.01133831450662,46.47964767167959,46.948648493199244,47.41833614564666,47.88870598881755,48.35975337576794,48.83147365286024,49.30386215980913,49.776914229727595,50.25062518917309,50.72499035819365,51.20000505037417,51.67566457288254,52.15196422651654,52.62889930574951,53.10646509877731,53.584656887564776,54.063469947892294,54.54289954940255,55.022940955647016,55.50358942413337,55.98484020637151,56.46668854792101,56.949129688437935,57.4321588617219,57.91577129576315,58.39996221278968,58.88472682931448,59.37006035618272,59.855957998619175,60.34241495627548,60.82942642327762,61.316987588273406,61.80509363447984,62.29373973973127,62.782921076526236,63.272632812075635,63.762870108350384,64.2536281221291,64.74490200504643,65.23668690364019,65.72897795939981,66.22177030881426,66.71505908341999,67.20883940984919,67.70310640987776,68.19785520047361,68.69308089384492,69.18877859748832,69.68494341423732,70.18157044231069,70.67865477536077,71.176191502522,71.6741757084598,72.17260247341841,72.67146687327002,73.17076397956325,73.67048885957178,74.1706365763435,74.67120218874862,75.17218075152891,75.67356731534647,76.17535692683263,76.67754462863687,77.18012545947576,77.6830944541821,78.18644664375381,78.69017705540313,79.19428071260569,79.69875263514976,80.20358783918532,80.70878133727342,81.2143281384352,81.72022324820193,82.22646166866328,82.73303839851742,83.23994843312028,83.74718676453477,84.25474838158091,84.76262826988442,85.27082141192683,85.77932278709498,86.28812737173055,86.79723013917969,87.30662605984273,87.81631010122382,88.32627722798067,88.83652240197429,89.3470405823188,89.85782672543115,90.36887578508103,90.8801827124405,91.39174245613455,91.90354996229004,92.41560017458625,92.92788803430466,93.44040848037886,93.95315644944503,94.46612687589118,94.97931469190767,95.49271482753726,96.00632221072507,96.52013176736881,97.03413842136882,97.54833709467823,98.0627227073532,98.57729017760299,99.09203442184027,99.60695035473128,100.1220328892461,100.63727693670889,101.15267740684803,101.66822920784696,102.18392724639365,102.69976642773152,103.21574165570952,103.73184783283247,104.24807986031189,104.76443263811558,105.28090106501851,105.79748003865316,106.31416445555985,106.8309492112372,107.34782920019255,107.86479931599239,108.38185445131282,108.89898949799002,109.41619934707067,109.93347888886247,110.4508230129846,110.96822660841806,111.48568456355675,112.00319176625709,112.52074310388912,113.03833346338685,113.55595773129865,114.07361079383831,114.59128753693474,115.10898284628301,115.6266916073948,116.14440870564887,116.66212902634165,117.1798474547377,117.69755887612028,118.2152581758419,118.73294023937477,119.25059995236147,119.7682322006653,120.28583187042094,120.80339384808491,121.32091302048596,121.83838427487618,122.35580249898058,122.87316258104829,123.39045940990276,123.90768787499226,124.42484286644087,124.94191927509807,125.45891199258988,125.97581591136911,126.49262592476583,127.00933692703788,127.5259438134212,128.04244148018037,128.55882482465898,129.07508874533005,129.5912281418464,130.10723791509113,130.62311296722785,131.13884820175107,131.65443852353698,132.16987883889297,132.68516405560857,133.2002890830056,133.71524883198825,134.230038215094,134.74465214654305,135.259085542289,135.77333332006913,136.28739039945438,136.8012517018998,137.31491215079444,137.82836667151182,138.34161019145972,138.85463764013062,139.36744394915152,139.88002405233422,140.39237288572525,140.9044853876559,141.41635649879223,141.92798116218535,142.4393543233208,142.95047093016893,143.46132593323458,143.97191428560706,144.48223094301034,144.99227086385218,145.50202900927442,146.01150034320267,146.52067983239607,147.02956244649698,147.5381431580807,148.04641694270506,148.55437877896023,149.06202364851816,149.56934653618222,150.0763424299368,150.5830063209967,151.0893332038566,151.59531807634104,152.10095593965292,152.6062417984235,153.11117066076167,153.61573753830302,154.11993744625977,154.62376540346912,155.127216432443,155.6302855594172,156.1329678144004,156.63525823122336,157.13715184758797,157.63864370511615,158.139728849399,158.64040233004573,159.14065920073236,159.64049451925086,160.1399033475579,160.63888075182345,161.13742180247962,161.6355215742698,162.13317514629654,162.6303776020706,163.12712402955958,163.62340952123614,164.1192291741271,164.61457808986108,165.10945137471734,165.60384413967412,166.09775150045687,166.5911685775865,167.08409049642762,167.57651238723662,168.06842938520992,168.55983663053192,169.050729268423,169.54110244918755,170.03095132826186,170.52027106626184,171.00905682903135,171.49730378768922,171.98500711867734,172.47216200380842,172.95876363031323,173.44480719088875,173.93028788374497,174.41520091265272,174.89954148699098,175.3833048217942,175.8664861377996,176.34908066149436,176.8310836251627,177.31249026693322,177.79329583082563,178.273495566798,178.75308473079355,179.23205858478747,179.71041239683396,180.18814144111258,180.66524099797562,181.1417063539938,181.6175328020037,182.09271564115363,182.5672501769503,183.04113172130565,183.51435559258232,183.98691711564052,184.4588116218839,184.93003444930588,185.4005809425356,185.87044645288398,186.33962633838956,186.8081159638644,187.27591070093985,187.74300592811238,188.2093970307891,188.6750794013334,189.14004843911036,189.60429955053272,190.06782814910545,190.5306296554716,190.99269949745744,191.45403311011745,191.9146259357799,192.37447342409132,192.83357103206163,193.29191422410918,193.74949847210544,194.20631925541971,194.66237206096386,195.11765238323682,195.57215572436922,196.0258775941677,196.47881351015928,196.93095899763583,197.38230958969797,197.83286082729944,198.28260825929098,198.73154744246472,199.17967394159737,199.6269833294946,200.07347118703456,200.51913310321152,200.96396467517974,201.40796150829652,201.8511192161659,202.29343342068182,202.7348997520716,203.17551384893903,203.6152713583072,204.05416793566195,204.49219924499448,204.92936095884417,205.3656487583416,205.80105833325092,206.23558538201257,206.66922561178572,207.10197473849107,207.5338284868524,207.96478259043943,208.39483279170972,208.82397484205075,209.25220450182218,209.67951754039723,210.10590973620484,210.5313768767712,210.95591475876148,211.37951918802128,211.80218597961823,212.223910957883,212.64468995645086,213.06451881830282,213.48339339580644,213.90130955075705,214.31826315441867,214.73425008756453,215.14926624051787,215.56330751319302,215.976369815135,216.38844906556068,216.7995411933987,217.20964213732978,217.61874784582722,218.0268542771962,218.43395739961431,218.84005319117105,219.24513763990777,219.64920674385718,220.052256511083,220.45428295971917,220.85528211800948,221.25525002434668,221.6541827273115,222.0520762857119,222.44892676862182,222.84473025542007,223.23948283582934,223.63318060995428,224.0258196883205,224.4173961919128,224.8079062522133,225.19734601124037,225.5857116215858,225.9729992464534,226.35920505969685,226.74432524585728,227.12835600020122,227.51129352875796,227.89313404835727,228.27387378666648,228.65350898222806,229.03203588449657,229.40945075387577,229.78574986175556,230.1609294905489,230.53498593372834,230.90791549586297,231.27971449265453,231.65037925097408,232.01990610889823,232.38829141574502,232.7555315321108],\"y\":[-2.842170943040401e-14,0.36665845432222,0.734463938921607,1.103412820122415,1.473501452953073,1.8447261811817839,2.2170833373530456,2.5905692428236193,2.9651802077989515,3.340912531369824,3.7177625015485205,4.095726395305846,4.474800478607676,4.854981006451979,5.236264222905888,5.618646361142552,6.002123643478583,6.386692281411243,6.772348475655889,7.159088416183707,7.546908282258997,7.935804242477204,8.325772454802603,8.71680906660636,9.108910214704665,9.5020720253966,9.896290614502746,10.291562087403278,10.687882539076767,11.08524805413839,11.483654706878838,11.883098561303072,12.283575671169132,12.685082080027271,13.087613821258898,13.491166918115752,13.895737383759325,14.3013212213001,14.707914423837295,15.115512974498046,15.52411284647745,15.933710003078161,16.34430039775026,16.75587997413146,17.168444666086856,17.581990397749323,17.996513083559663,18.412008628306978,18.828472927169386,19.245901865754107,19.66429132013843,20.083637156910427,20.50393523320963,20.925181396768295,21.347371485951996,21.77050132980098,22.194566748071324,22.61956355127643,23.045487540728004,23.472334508577845,23.900100237859363,24.328780502529156,24.75837106750879,25.188867688726845,25.620266113160497,26.052562078877713,26.485751315079312,26.919829542141386,27.35479247165715,27.790635806479685,28.22735524076417,28.664946460010498,29.103405141105995,29.542726952367985,29.982907553586585,30.42394259606766,30.86582772267576,31.30855856787727,31.75213075778325,32.19653991019295,32.641781634636956,33.087851532420515,33.534745196667245,33.982458212362346,34.430986156396386,34.88032459760902,35.33046909683263,35.78141520693647,36.23315847287026,36.68569443170833,37.139018612693775,37.593126537282544,38.048013719187836,38.503675664424165,38.96010787135191,39.41730583072176,39.87526502571943,40.33398093200995,40.793449017782606,41.25366474379565,41.71462356342113,42.17632092268977,42.638752260336176,43.101913007843564,43.56579858948912,44.03040442238907,44.49572591654426,44.96175847488503,45.42849749331698,45.89593836076634,46.364076459225515,46.83290716379868,47.30242584274772,47.772627857537586,48.24350856288238,48.71506330679111,49.187287430613964,49.660176269087856,50.13372515038287,50.60792939614825,51.08278432155866,51.558285235360614,52.03442743991856,52.51120623126141,52.988616899129084,53.466654727018856,53.945314992232305,54.42459296592154,54.90448391313617,55.38498309287004,55.86608575810797,56.347787155872986,56.830082527272786,57.312967107547095,57.796436126114564,58.28048480662018,58.76510836698205,59.25030201943892,59.7360609705974,60.222380421479315,60.70925556756908,61.19668159886137,61.684653699908296,62.17316704986724,62.66221682254832,63.151798186462344,63.641906304868165,64.1325363358207,64.62368343221874,65.11534274185279,65.60750940745294,66.10017856673718,66.59334535245898,67.08700489245564,67.5811523096963,68.07578272233042,68.5708912437356,69.06647298256604,69.56252304280095,70.05903652379267,70.55600852031554,71.05343412261381,71.5513084164505,72.04962648315578,72.5483833996758,73.04757423862102,73.5471940683151,74.04723795284349,74.5477009521023,75.04857812184703,75.54986451374158,76.05155517540683,76.55364515046986,77.05612947861263,77.55900319562144,78.06226133343544,78.56589892019605,79.06991098029594,79.57429253442828,80.0790385996358,80.58414418936027,81.08960431349146,81.59541397841656,82.10156818706952,82.60806193898061,83.11489023032543,83.62204805397462,84.12953039954327,84.63733225344038,85.14544859891836,85.6538744161229,86.16260468214205,86.6716343710561,87.1809584539875,87.69057189915006,88.2004696718989,88.71064673478024,89.22109804758105,89.73181856737891,90.24280324859174,90.75404704302794,91.2655448999358,91.7772917660537,92.2892825856601,92.80151230062323,93.31397585045121,93.82666817234204,94.33958420123362,94.85271886985367,95.36606710877014,95.87962384644081,96.3933840092637,96.90734252162707,97.42149430595981,97.93583428278123,98.45035737075145,98.9650584867216,99.47993254578401,99.99497446132236,100.51017914506224,101.02554150712099,101.54105645605827,102.05671889892619,102.57252374131994,103.08846588742767,103.60454024008118,104.12074170080611,104.63706516987234,105.15350554634438,105.67005772813192,106.18671661203992,106.70347709381925,107.22033406821697,107.73728242902712,108.25431706914061,108.77143288059612,109.28862475463038,109.80588758172863,110.32321625167513,110.84060565360386,111.35805067604855,111.87554620699349,112.39308713392415,112.91066834387733,113.42828472349194,113.94593115905941,114.46360253657424,114.98129374178447,115.49899966024246,116.01671517735498,116.53443517843407,117.05215454874738,117.56986817356902,118.08757093822965,118.60525772816727,119.12292342897771,119.64056292646518,120.15817110669263,120.67574285603267,121.19327306121758,121.71075660939015,122.22818838815402,122.74556328562454,123.26287619047874,123.7801219920062,124.29729558015944,124.81439184560438,125.33140567977075,125.84833197490293,126.36516562410986,126.88190152141583,127.39853456181079,127.91505964130107,128.4314716569594,128.9477655069755,129.46393609070654,129.97997830872748,130.49588706288137,131.01165725633,131.52728379360386,132.04276158065264,132.55808552489583,133.0732505352725,133.58825152229204,134.10308339808424,134.61774107644962,135.13221947290953,135.6465135047568,136.16061809110536,136.6745281529409,137.18823861317074,137.70174439667437,138.21504043035316,138.7281216431807,139.24098296625291,139.75361933283807,140.26602567842673,140.77819694078224,141.29012805999008,141.8018139785084,142.31324964121754,142.8244299954705,143.33534999114238,143.84600458068047,144.35638871915407,144.86649736430445,145.3763254765944,145.88586801925845,146.3951199583522,146.90407626280222,147.4127319044557,147.92108185813044,148.42912110166398,148.93684461596354,149.44424738505555,149.9513243961352,150.45807063961587,150.9644811091789,151.4705508018227,151.97627471791228,152.4816478612289,152.9866652390191,153.49132186204406,153.9956127446291,154.49953290471288,155.00307736389635,155.50624114749218,156.00901928457415,156.51140680802555,157.01339875458905,157.5149901649151,158.0161760836113,158.5169515592912,159.01731164462322,159.5172513963797,160.01676587548545,160.5158501470667,161.01449928050005,161.51270834946064,162.01047243197155,162.50778661045177,163.00464597176503,163.50104560726845,163.99698061286097,164.49244608903163,164.98743714090818,165.48194887830553,165.97597641577363,166.4695148726461,166.96255937308854,167.45510504614623,167.9471470257927,168.43868045097759,168.92970046567476,169.42020221893017,169.91018086490982,170.39963156294792,170.88854947759415,171.37692977866186,171.86476764127576,172.35205824591935,172.83879677848273,173.32497843031013,173.81059839824735,174.2956518846893,174.7801340976273,175.26404025069658,175.7473655632233,176.23010526027218,176.7122545726932,177.19380873716906,177.67476299626207,178.15511259846133,178.6348527982294,179.1139788560494,179.5924860384718,180.07036961816118,180.5476248739427,181.02424709084926,181.50023156016758,181.97557357948483,182.45026845273534,182.9243114902467,183.39769800878625,183.87042333160724,184.34248278849526,184.81387171581406,185.28458545655178,185.75461936036714,186.22396878363497,186.69262908949247,187.16059564788478,187.62786383561087,188.09442903636906,188.56028664080276,189.02543204654614,189.48986065826915,189.9535678877233,190.41654915378695,190.87879988251046,191.34031550716134,191.8010914682695,192.26112321367228,192.72040619855932,193.1789358855175,193.63670774457592,194.0937172532503,194.54995989658818,195.00543116721298,195.46012656536877,195.9140415989649,196.36717178362005,196.8195126427068,197.27105970739564,197.72180851669924,198.17175461751674,198.6208935646771,199.0692209209838,199.5167322572581,199.9634231523831,200.40928919334715,200.8543259752878,201.29852910153505,201.74189418365495,202.18441684149263,202.62609270321616,203.06691740535916,203.50688659286428,203.94599591912595,204.38424104603362,204.82161764401428,205.25812139207557,205.69374797784826,206.1284930976288,206.56235245642216,206.9953217679839,207.42739675486263,207.85857314844242,208.28884668898473,208.71821312567073,209.14666821664304,209.57420772904788,210.00082743907677,210.42652313200819,210.85129060224943,211.27512565337787,211.69802409818277,212.1199817587062,212.54099446628473,212.96105806159036,213.38016839467176,213.79832132499513,214.21551272148523,214.63173846256603,215.04699443620183,215.4612765399372,215.87458068093824,216.28690277603246,216.69823875174947,217.10858454436095,217.5179360999211,217.92628937430632,218.33364033325563,218.73998495241,219.1453192173526,219.5496391236481,219.9529406768824,220.3552198927021,220.75647279685376,221.15669542522318,221.5558838238747,221.95403404909015,222.35114216740774,222.7472042556612,223.14221640101812,223.53617470101898,223.92907526361557,224.3209142072093,224.71168766068982,225.101391763473,225.49002266553927,225.87757652747152,226.26404952049307,226.6494378265057,227.03373763812687,227.41694515872797,227.7990566024713,228.18006819434768,228.55997617021384,228.93877677682943,229.31646627189423,229.69304092408498,230.06849701309244,230.44283082965802,230.81603867561037,231.1881168639021,231.55906171864598,231.92886957515145,232.29753677996064,232.66505969088473,233.03143467703956,233.39665811888187,233.76072640824486,234.1236359483739,234.48538315396192,234.84596445118513,235.20537627773803,235.5636150828687,235.92067732741396,236.27655948383426,236.63125803624848,236.9847694804688,237.3370903240353,237.6882170862503,238.03814629821278,238.386874502853,238.73439825496615,239.0807141212467,239.4258186803222,239.76970852278714,240.11238025123663,240.4538304802999,240.79405583667383,241.1330529591562,241.47081849867897,241.80734911834125,242.14264149344248,242.47669231151502,242.809498272357,243.14105608806497,243.47136248306632,243.80041419415156,244.12820797050688,244.45474057374582,244.7800087779416,245.1040093696587,245.42673914798502,245.74819492456302,246.06837352362163,246.3872717820074,246.70488654921576,247.0212146874222,247.3362530715133,247.6499985891175,247.96244814063604,248.2735986392733,248.58344701106748,248.89199019492096,249.19922514263052,249.50514881891746,249.80975820145744,250.11305028091078,250.4150220609516,250.71567055829783,251.01499280274052,251.31298583717327,251.60964671762133,251.90497251327085,252.1989603064976,252.49160719289608,252.782910281308,253.07286669385087,253.36147356594645,253.64872804634928,253.9346272971744,254.2191684939257,254.5023488255238,254.7841654943337,255.0646157161925,255.34369672043695,255.62140574993063,255.89774006109158,256.1726969239189,256.44627362202016,256.7184674526379,256.9892757266765,257.2586957687288,257.52672491710234,257.793360523846,258.0585999547757,258.3224405895006,258.5848798214495,258.8459150578954,259.1055437199827,259.36376324275113,259.62057107516216,259.8759646801237,260.12994153451524,260.382499129213,260.6336349691144,260.883346573163,261.13163147437274,261.37848721985256,261.6239113708303,261.8679015026773,262.11045520493184,262.3515700813233,262.5912437497957,262.8294738425311,263.06625800597345,263.3015939008511,263.5354792022007,263.7679115993897,263.9988887961392,264.22840851054684,264.45646847510915,264.68306643674396,264.90820015681294,265.1318674111433,265.35406599004995,265.5747936983576,265.7940483554219,266.0118277951515,266.228129866029,266.44295243113265,266.65629336815704,266.8681505694345,267.0785219419554,267.28740540738943,267.4947989021057,267.700700377193,267.9051077984807,268.10801914655815,268.30943241679506,268.50934561936117,268.70775677924576,268.9046639362774,269.1000651451432,269.2939584754081,269.48634201153374,269.6772138528977,269.866572113812,270.05441492354197,270.24074042632435,270.42554678138606,270.6088321629622,270.790594760314,270.97083277774686,271.14954443462796,271.3267279654041,271.5023816196185,271.67650366192925,271.84909237212514,272.0201460451436,272.18966299108706,272.35764153523985,272.52408001808476,272.68897679531926,272.852330237872,273.0141387319186,273.1744006788978,273.3331144955273,273.4902786138192,273.64589148109553,273.79995156000393,273.9524573285323,274.10340728002427,274.2527999231937,274.40063378213995,274.5469073963618,274.6916193207725,274.8347681257135,274.9763523969692,275.11637073578015,275.25482175885764,275.39170409839676,275.5270164020902,275.6607573331417,275.79292557027907,275.9235198077671,276.052538755421,276.1799811386186,276.305845698313,276.4301311910456,276.55283638895753,276.6739600798023,276.7935010669578,276.9114581694379,277.0278302219041,277.1426160746772,277.25581459374894,277.36742466079227,277.47744517317346,277.5858750439624,277.69271320194343,277.79795859162596,277.9016101732549,278.003666922821,278.104127832071,278.2029919085172,278.3002581754477,278.39592567193597,278.4899934528502,278.58246058886266,278.67332616645916,278.76258928794766,278.85024907146726,278.93630465099716,279.020755176365,279.1035998132553,279.1848377432176,279.26446816367474,279.3424902879307,279.4189033451782,279.49370658050674,279.56689925490963,279.63848064529157,279.7084500444755,279.7768067612101,279.8435501201758,279.9086794619924,279.97219414322484,280.03409353639006,280.09437702996274,280.1530440283818,280.210093952056,280.2655262373696,280.31934033668824,280.37153571836416,280.42211186674126,280.47106828216056,280.51840448096505,280.56411999550426,280.60821437413904,280.650687181246,280.69153799722176,280.7307664184873,280.76837205749155,280.8043545427157,280.8387135186764,280.87144864592983,280.90255960107424,280.9320460767542,280.95990778166254,280.9861444405441,281.01075579419785,281.0337415994801,281.05510162930597,281.0748356726526,281.0929435345607,281.1094250361364,281.1242800145534,281.13750832305425,281.14910983095206,281.1590844236316,281.1674320025504,281.1741524852399,281.17924580530615,281.1827119124306,281.18455077237024,281.18476236695847,281.1833466941048,281.1803037677952,281.17563361809175,281.1693362911325,281.16141184913073,281.15186037037483,281.1406819492272,281.12787669612305,281.11344473757003,281.09738621614633,281.07970129049943,281.0603901353449,281.0394529414641,281.0168899157028,280.9927012809688,280.9668872762298,280.93944815651116,280.9103841928933,280.87969567250906,280.84738289854073,280.8134461902173,280.77788588281095,280.74070232763415,280.7018958920359,280.66146695939824,280.6194159291323,280.5757432166745,280.5304492534826,280.4835344870309,280.4349993808065,280.3848444143042,280.333070083022,280.2796768984562,280.2246653880962,280.1680360954195,280.1097895798861,280.04992641693326,279.98844719796955,279.925352530369,279.86064303746554,279.7943193585461,279.726382148845,279.656832079537,279.5856698377311,279.51289612646315,279.4385116646895,279.36251718727954,279.2849134450088,279.2057012045508,279.1248812484705,279.0424543752156,278.95842139910934,278.8727831503421,278.7855404749634,278.69669423487323,278.60624530781394,278.51419458736126,278.42054298291566,278.32529141969314,278.22844083871644,278.12999219680546,278.0299464665678,277.9283046363894,277.8250677104245,277.72023670858573,277.6138126665345,277.50579663567004,277.3961896831195,277.28499289172737,277.1722073600446,277.05783420231785,276.94187454847867,276.8243295441318,276.7052003505445,276.5844881446345,276.46219411895896,276.33831948170223,276.21286545666396,276.08583328324727,275.9572242164462,275.8270395268337,275.6952805005485,275.561948439283,275.42704466027,275.29057049627,275.1525272955576,275.01291642190876,274.87173925458677,274.728997188329,274.5846916333329,274.4388240152423,274.2913957751331,274.142408369499,273.99186327023733,273.8397619646346,273.6861059553512,273.53089676040736,273.3741359131675,273.21582496232554,273.0559654718892,272.8945590211648,272.7316072047418,272.56711163247667,272.4010739294771,272.2334957360863,272.06437870786624,271.8937245155816,271.7215348451833,271.54781139779186,271.37255588968037,271.19577005225767,271.0174556320512,270.8376143906901,270.6562481048869,270.47335856642127,270.28894758212107,270.10301697384534,269.9155685784658,269.7266042478492,269.5361258488383,269.3441352632342,269.15063438777736,268.9556251341288,268.7591094288514,268.5610892133907,268.36156644405594,268.1605430920005,267.9580211432026,267.7540025984455,267.5484894732979,267.3414837980941,267.13298761791356,266.9230029925611,266.71153199654646,266.4985767190635,266.28413926397013,266.0682217497669,265.8508263095765,265.6319550911227,265.4116102567086,265.18979398319607,264.9665084619836,264.7417558989848,264.515538514607,264.2878585437288,264.05871823567804,263.82811985420994,263.5960656774845,263.36255799804405,263.12759912279046,262.8911913729624,262.6533370841127,262.4140386060849,262.17329830299013,261.93111855318386,261.68750174924253,261.4424502979392,261.19596662022104,260.9480531511839,260.69871234004967,260.44794665014103,260.19575855885773,259.94215055765187,259.6871251520032,259.4306848613947,259.1728322192872,258.9135697730949,258.65290008415985,258.3908257277267,258.1273492929173,257.8624733827051,257.59620061388944,257.3285336170697,257.0594750366194,256.78902753065984,256.51719377103416,256.24397644328064,255.96937824660637,255.6934018938604,255.41605011150722,255.13732563959957,254.85723123175143,254.57576965511092,254.29294369033286,254.00875613155122,253.72320978635176,253.43630747574412,253.14805203413394,252.85844630929506,252.5674931623409,252.27519546769682,251.98155611307132,251.6865779994276,251.390264040955,251.09261716504002,250.79364031223756,250.49333643624178,250.19170850385703,249.88875949496838,249.58449240251232,249.27891023244712,248.9720160037231,248.66381274825292,248.35430351088166,248.04349134935632,247.73137933429624,247.4179705491623,247.10326809022672,246.78727506654235,246.4699945999118,246.1514298248569,245.8315838885877,245.51045995097107,245.18806118449984,244.86439077426124,244.53945191790555,244.21324782561442,243.88578172006925,243.55705683641918,243.22707642224935,242.89584373754877,242.56336205467784,242.2296346583366,241.89466484553145,241.5584559255434,241.22101121989485,240.8823340623171,240.5424277987172,240.20129578714477,239.85894139775928,239.51536801279633,239.17057902653448,238.82457784526156,238.4773678872412,238.12895258267872,237.77933537368773,237.42851971425574,237.07650907021008,236.72330691918393,236.36891675058158,236.0133420655443,235.65658637691553,235.2986532092064,234.9395460985603,234.57926859271896,234.2178242509865,233.85521664419474,233.49144935466788,233.12652597618668]}],                        {\"template\":{\"data\":{\"barpolar\":[{\"marker\":{\"line\":{\"color\":\"#E5ECF6\",\"width\":0.5},\"pattern\":{\"fillmode\":\"overlay\",\"size\":10,\"solidity\":0.2}},\"type\":\"barpolar\"}],\"bar\":[{\"error_x\":{\"color\":\"#2a3f5f\"},\"error_y\":{\"color\":\"#2a3f5f\"},\"marker\":{\"line\":{\"color\":\"#E5ECF6\",\"width\":0.5},\"pattern\":{\"fillmode\":\"overlay\",\"size\":10,\"solidity\":0.2}},\"type\":\"bar\"}],\"carpet\":[{\"aaxis\":{\"endlinecolor\":\"#2a3f5f\",\"gridcolor\":\"white\",\"linecolor\":\"white\",\"minorgridcolor\":\"white\",\"startlinecolor\":\"#2a3f5f\"},\"baxis\":{\"endlinecolor\":\"#2a3f5f\",\"gridcolor\":\"white\",\"linecolor\":\"white\",\"minorgridcolor\":\"white\",\"startlinecolor\":\"#2a3f5f\"},\"type\":\"carpet\"}],\"choropleth\":[{\"colorbar\":{\"outlinewidth\":0,\"ticks\":\"\"},\"type\":\"choropleth\"}],\"contourcarpet\":[{\"colorbar\":{\"outlinewidth\":0,\"ticks\":\"\"},\"type\":\"contourcarpet\"}],\"contour\":[{\"colorbar\":{\"outlinewidth\":0,\"ticks\":\"\"},\"colorscale\":[[0.0,\"#0d0887\"],[0.1111111111111111,\"#46039f\"],[0.2222222222222222,\"#7201a8\"],[0.3333333333333333,\"#9c179e\"],[0.4444444444444444,\"#bd3786\"],[0.5555555555555556,\"#d8576b\"],[0.6666666666666666,\"#ed7953\"],[0.7777777777777778,\"#fb9f3a\"],[0.8888888888888888,\"#fdca26\"],[1.0,\"#f0f921\"]],\"type\":\"contour\"}],\"heatmapgl\":[{\"colorbar\":{\"outlinewidth\":0,\"ticks\":\"\"},\"colorscale\":[[0.0,\"#0d0887\"],[0.1111111111111111,\"#46039f\"],[0.2222222222222222,\"#7201a8\"],[0.3333333333333333,\"#9c179e\"],[0.4444444444444444,\"#bd3786\"],[0.5555555555555556,\"#d8576b\"],[0.6666666666666666,\"#ed7953\"],[0.7777777777777778,\"#fb9f3a\"],[0.8888888888888888,\"#fdca26\"],[1.0,\"#f0f921\"]],\"type\":\"heatmapgl\"}],\"heatmap\":[{\"colorbar\":{\"outlinewidth\":0,\"ticks\":\"\"},\"colorscale\":[[0.0,\"#0d0887\"],[0.1111111111111111,\"#46039f\"],[0.2222222222222222,\"#7201a8\"],[0.3333333333333333,\"#9c179e\"],[0.4444444444444444,\"#bd3786\"],[0.5555555555555556,\"#d8576b\"],[0.6666666666666666,\"#ed7953\"],[0.7777777777777778,\"#fb9f3a\"],[0.8888888888888888,\"#fdca26\"],[1.0,\"#f0f921\"]],\"type\":\"heatmap\"}],\"histogram2dcontour\":[{\"colorbar\":{\"outlinewidth\":0,\"ticks\":\"\"},\"colorscale\":[[0.0,\"#0d0887\"],[0.1111111111111111,\"#46039f\"],[0.2222222222222222,\"#7201a8\"],[0.3333333333333333,\"#9c179e\"],[0.4444444444444444,\"#bd3786\"],[0.5555555555555556,\"#d8576b\"],[0.6666666666666666,\"#ed7953\"],[0.7777777777777778,\"#fb9f3a\"],[0.8888888888888888,\"#fdca26\"],[1.0,\"#f0f921\"]],\"type\":\"histogram2dcontour\"}],\"histogram2d\":[{\"colorbar\":{\"outlinewidth\":0,\"ticks\":\"\"},\"colorscale\":[[0.0,\"#0d0887\"],[0.1111111111111111,\"#46039f\"],[0.2222222222222222,\"#7201a8\"],[0.3333333333333333,\"#9c179e\"],[0.4444444444444444,\"#bd3786\"],[0.5555555555555556,\"#d8576b\"],[0.6666666666666666,\"#ed7953\"],[0.7777777777777778,\"#fb9f3a\"],[0.8888888888888888,\"#fdca26\"],[1.0,\"#f0f921\"]],\"type\":\"histogram2d\"}],\"histogram\":[{\"marker\":{\"pattern\":{\"fillmode\":\"overlay\",\"size\":10,\"solidity\":0.2}},\"type\":\"histogram\"}],\"mesh3d\":[{\"colorbar\":{\"outlinewidth\":0,\"ticks\":\"\"},\"type\":\"mesh3d\"}],\"parcoords\":[{\"line\":{\"colorbar\":{\"outlinewidth\":0,\"ticks\":\"\"}},\"type\":\"parcoords\"}],\"pie\":[{\"automargin\":true,\"type\":\"pie\"}],\"scatter3d\":[{\"line\":{\"colorbar\":{\"outlinewidth\":0,\"ticks\":\"\"}},\"marker\":{\"colorbar\":{\"outlinewidth\":0,\"ticks\":\"\"}},\"type\":\"scatter3d\"}],\"scattercarpet\":[{\"marker\":{\"colorbar\":{\"outlinewidth\":0,\"ticks\":\"\"}},\"type\":\"scattercarpet\"}],\"scattergeo\":[{\"marker\":{\"colorbar\":{\"outlinewidth\":0,\"ticks\":\"\"}},\"type\":\"scattergeo\"}],\"scattergl\":[{\"marker\":{\"colorbar\":{\"outlinewidth\":0,\"ticks\":\"\"}},\"type\":\"scattergl\"}],\"scattermapbox\":[{\"marker\":{\"colorbar\":{\"outlinewidth\":0,\"ticks\":\"\"}},\"type\":\"scattermapbox\"}],\"scatterpolargl\":[{\"marker\":{\"colorbar\":{\"outlinewidth\":0,\"ticks\":\"\"}},\"type\":\"scatterpolargl\"}],\"scatterpolar\":[{\"marker\":{\"colorbar\":{\"outlinewidth\":0,\"ticks\":\"\"}},\"type\":\"scatterpolar\"}],\"scatter\":[{\"fillpattern\":{\"fillmode\":\"overlay\",\"size\":10,\"solidity\":0.2},\"type\":\"scatter\"}],\"scatterternary\":[{\"marker\":{\"colorbar\":{\"outlinewidth\":0,\"ticks\":\"\"}},\"type\":\"scatterternary\"}],\"surface\":[{\"colorbar\":{\"outlinewidth\":0,\"ticks\":\"\"},\"colorscale\":[[0.0,\"#0d0887\"],[0.1111111111111111,\"#46039f\"],[0.2222222222222222,\"#7201a8\"],[0.3333333333333333,\"#9c179e\"],[0.4444444444444444,\"#bd3786\"],[0.5555555555555556,\"#d8576b\"],[0.6666666666666666,\"#ed7953\"],[0.7777777777777778,\"#fb9f3a\"],[0.8888888888888888,\"#fdca26\"],[1.0,\"#f0f921\"]],\"type\":\"surface\"}],\"table\":[{\"cells\":{\"fill\":{\"color\":\"#EBF0F8\"},\"line\":{\"color\":\"white\"}},\"header\":{\"fill\":{\"color\":\"#C8D4E3\"},\"line\":{\"color\":\"white\"}},\"type\":\"table\"}]},\"layout\":{\"annotationdefaults\":{\"arrowcolor\":\"#2a3f5f\",\"arrowhead\":0,\"arrowwidth\":1},\"autotypenumbers\":\"strict\",\"coloraxis\":{\"colorbar\":{\"outlinewidth\":0,\"ticks\":\"\"}},\"colorscale\":{\"diverging\":[[0,\"#8e0152\"],[0.1,\"#c51b7d\"],[0.2,\"#de77ae\"],[0.3,\"#f1b6da\"],[0.4,\"#fde0ef\"],[0.5,\"#f7f7f7\"],[0.6,\"#e6f5d0\"],[0.7,\"#b8e186\"],[0.8,\"#7fbc41\"],[0.9,\"#4d9221\"],[1,\"#276419\"]],\"sequential\":[[0.0,\"#0d0887\"],[0.1111111111111111,\"#46039f\"],[0.2222222222222222,\"#7201a8\"],[0.3333333333333333,\"#9c179e\"],[0.4444444444444444,\"#bd3786\"],[0.5555555555555556,\"#d8576b\"],[0.6666666666666666,\"#ed7953\"],[0.7777777777777778,\"#fb9f3a\"],[0.8888888888888888,\"#fdca26\"],[1.0,\"#f0f921\"]],\"sequentialminus\":[[0.0,\"#0d0887\"],[0.1111111111111111,\"#46039f\"],[0.2222222222222222,\"#7201a8\"],[0.3333333333333333,\"#9c179e\"],[0.4444444444444444,\"#bd3786\"],[0.5555555555555556,\"#d8576b\"],[0.6666666666666666,\"#ed7953\"],[0.7777777777777778,\"#fb9f3a\"],[0.8888888888888888,\"#fdca26\"],[1.0,\"#f0f921\"]]},\"colorway\":[\"#636efa\",\"#EF553B\",\"#00cc96\",\"#ab63fa\",\"#FFA15A\",\"#19d3f3\",\"#FF6692\",\"#B6E880\",\"#FF97FF\",\"#FECB52\"],\"font\":{\"color\":\"#2a3f5f\"},\"geo\":{\"bgcolor\":\"white\",\"lakecolor\":\"white\",\"landcolor\":\"#E5ECF6\",\"showlakes\":true,\"showland\":true,\"subunitcolor\":\"white\"},\"hoverlabel\":{\"align\":\"left\"},\"hovermode\":\"closest\",\"mapbox\":{\"style\":\"light\"},\"paper_bgcolor\":\"white\",\"plot_bgcolor\":\"#E5ECF6\",\"polar\":{\"angularaxis\":{\"gridcolor\":\"white\",\"linecolor\":\"white\",\"ticks\":\"\"},\"bgcolor\":\"#E5ECF6\",\"radialaxis\":{\"gridcolor\":\"white\",\"linecolor\":\"white\",\"ticks\":\"\"}},\"scene\":{\"xaxis\":{\"backgroundcolor\":\"#E5ECF6\",\"gridcolor\":\"white\",\"gridwidth\":2,\"linecolor\":\"white\",\"showbackground\":true,\"ticks\":\"\",\"zerolinecolor\":\"white\"},\"yaxis\":{\"backgroundcolor\":\"#E5ECF6\",\"gridcolor\":\"white\",\"gridwidth\":2,\"linecolor\":\"white\",\"showbackground\":true,\"ticks\":\"\",\"zerolinecolor\":\"white\"},\"zaxis\":{\"backgroundcolor\":\"#E5ECF6\",\"gridcolor\":\"white\",\"gridwidth\":2,\"linecolor\":\"white\",\"showbackground\":true,\"ticks\":\"\",\"zerolinecolor\":\"white\"}},\"shapedefaults\":{\"line\":{\"color\":\"#2a3f5f\"}},\"ternary\":{\"aaxis\":{\"gridcolor\":\"white\",\"linecolor\":\"white\",\"ticks\":\"\"},\"baxis\":{\"gridcolor\":\"white\",\"linecolor\":\"white\",\"ticks\":\"\"},\"bgcolor\":\"#E5ECF6\",\"caxis\":{\"gridcolor\":\"white\",\"linecolor\":\"white\",\"ticks\":\"\"}},\"title\":{\"x\":0.05},\"xaxis\":{\"automargin\":true,\"gridcolor\":\"white\",\"linecolor\":\"white\",\"ticks\":\"\",\"title\":{\"standoff\":15},\"zerolinecolor\":\"white\",\"zerolinewidth\":2},\"yaxis\":{\"automargin\":true,\"gridcolor\":\"white\",\"linecolor\":\"white\",\"ticks\":\"\",\"title\":{\"standoff\":15},\"zerolinecolor\":\"white\",\"zerolinewidth\":2}}},\"xaxis\":{\"range\":[-60,60],\"title\":{\"text\":\"X\"}},\"yaxis\":{\"range\":[-60,60],\"title\":{\"text\":\"Y\"}},\"width\":500,\"height\":500,\"showlegend\":false,\"title\":{\"text\":\"Hits in the GlueX CDC\"},\"shapes\":[{\"line\":{\"color\":\"black\"},\"type\":\"circle\",\"x0\":-10.5,\"x1\":10.5,\"xref\":\"x\",\"y0\":-10.5,\"y1\":10.5,\"yref\":\"y\"},{\"line\":{\"color\":\"black\"},\"type\":\"circle\",\"x0\":-55,\"x1\":55,\"xref\":\"x\",\"y0\":-55,\"y1\":55,\"yref\":\"y\"}]},                        {\"responsive\": true}                    ).then(function(){\n                            \nvar gd = document.getElementById('5a2dacb1-1e6b-4d1f-be1b-1a69f4421c67');\nvar x = new MutationObserver(function (mutations, observer) {{\n        var display = window.getComputedStyle(gd).display;\n        if (!display || display === 'none') {{\n            console.log([gd, 'removed!']);\n            Plotly.purge(gd);\n            observer.disconnect();\n        }}\n}});\n\n// Listen for the removal of the full notebook cells\nvar notebookContainer = gd.closest('#notebook-container');\nif (notebookContainer) {{\n    x.observe(notebookContainer, {childList: true});\n}}\n\n// Listen for the clearing of the current output cell\nvar outputEl = gd.closest('.output');\nif (outputEl) {{\n    x.observe(outputEl, {childList: true});\n}}\n\n                        })                };                            </script>        </div>\n</body>\n</html>"
                },
                "metadata": {}
              }
            ]
          }
        },
        "763cd91c1e1540b39edc982433cd3622": {
          "model_module": "@jupyter-widgets/base",
          "model_name": "LayoutModel",
          "model_module_version": "1.2.0",
          "state": {
            "_model_module": "@jupyter-widgets/base",
            "_model_module_version": "1.2.0",
            "_model_name": "LayoutModel",
            "_view_count": null,
            "_view_module": "@jupyter-widgets/base",
            "_view_module_version": "1.2.0",
            "_view_name": "LayoutView",
            "align_content": null,
            "align_items": null,
            "align_self": null,
            "border": null,
            "bottom": null,
            "display": null,
            "flex": null,
            "flex_flow": null,
            "grid_area": null,
            "grid_auto_columns": null,
            "grid_auto_flow": null,
            "grid_auto_rows": null,
            "grid_column": null,
            "grid_gap": null,
            "grid_row": null,
            "grid_template_areas": null,
            "grid_template_columns": null,
            "grid_template_rows": null,
            "height": null,
            "justify_content": null,
            "justify_items": null,
            "left": null,
            "margin": null,
            "max_height": null,
            "max_width": null,
            "min_height": null,
            "min_width": null,
            "object_fit": null,
            "object_position": null,
            "order": null,
            "overflow": null,
            "overflow_x": null,
            "overflow_y": null,
            "padding": null,
            "right": null,
            "top": null,
            "visibility": null,
            "width": null
          }
        },
        "c0f03fec91724d8e895265fa9c0d7697": {
          "model_module": "@jupyter-widgets/controls",
          "model_name": "FloatSliderModel",
          "model_module_version": "1.5.0",
          "state": {
            "_dom_classes": [],
            "_model_module": "@jupyter-widgets/controls",
            "_model_module_version": "1.5.0",
            "_model_name": "FloatSliderModel",
            "_view_count": null,
            "_view_module": "@jupyter-widgets/controls",
            "_view_module_version": "1.5.0",
            "_view_name": "FloatSliderView",
            "continuous_update": true,
            "description": "z0",
            "description_tooltip": null,
            "disabled": false,
            "layout": "IPY_MODEL_ffc4f43e3a2546dab033ad1c5d182ef7",
            "max": 175,
            "min": 0,
            "orientation": "horizontal",
            "readout": true,
            "readout_format": ".2f",
            "step": 0.1,
            "style": "IPY_MODEL_f51fa6073e8f4ee1a9e69cc33532bbe1",
            "value": 128.4
          }
        },
        "9a023c2efb0b423685abecffdb2027f2": {
          "model_module": "@jupyter-widgets/controls",
          "model_name": "FloatSliderModel",
          "model_module_version": "1.5.0",
          "state": {
            "_dom_classes": [],
            "_model_module": "@jupyter-widgets/controls",
            "_model_module_version": "1.5.0",
            "_model_name": "FloatSliderModel",
            "_view_count": null,
            "_view_module": "@jupyter-widgets/controls",
            "_view_module_version": "1.5.0",
            "_view_name": "FloatSliderView",
            "continuous_update": true,
            "description": "px",
            "description_tooltip": null,
            "disabled": false,
            "layout": "IPY_MODEL_304f2a53c3df41f3a04af144fe25912f",
            "max": 1,
            "min": -1,
            "orientation": "horizontal",
            "readout": true,
            "readout_format": ".2f",
            "step": 0.01,
            "style": "IPY_MODEL_4ea62fc5dd0c49bd931ea2075f349f04",
            "value": -0.6
          }
        },
        "32cd402114cb4304b9161a4389aaf23e": {
          "model_module": "@jupyter-widgets/controls",
          "model_name": "FloatSliderModel",
          "model_module_version": "1.5.0",
          "state": {
            "_dom_classes": [],
            "_model_module": "@jupyter-widgets/controls",
            "_model_module_version": "1.5.0",
            "_model_name": "FloatSliderModel",
            "_view_count": null,
            "_view_module": "@jupyter-widgets/controls",
            "_view_module_version": "1.5.0",
            "_view_name": "FloatSliderView",
            "continuous_update": true,
            "description": "py",
            "description_tooltip": null,
            "disabled": false,
            "layout": "IPY_MODEL_b9ec9fea45404e679d25960b1448dec2",
            "max": 1,
            "min": -1,
            "orientation": "horizontal",
            "readout": true,
            "readout_format": ".2f",
            "step": 0.01,
            "style": "IPY_MODEL_f38655b3562c47deb5ee327c6df1c3b4",
            "value": 0.6000000000000001
          }
        },
        "32f3878e8a4a450ba6517cf8278c65f6": {
          "model_module": "@jupyter-widgets/controls",
          "model_name": "IntSliderModel",
          "model_module_version": "1.5.0",
          "state": {
            "_dom_classes": [],
            "_model_module": "@jupyter-widgets/controls",
            "_model_module_version": "1.5.0",
            "_model_name": "IntSliderModel",
            "_view_count": null,
            "_view_module": "@jupyter-widgets/controls",
            "_view_module_version": "1.5.0",
            "_view_name": "IntSliderView",
            "continuous_update": true,
            "description": "charge",
            "description_tooltip": null,
            "disabled": false,
            "layout": "IPY_MODEL_45f871e10de8459499be6e9baaf12b57",
            "max": 1,
            "min": -1,
            "orientation": "horizontal",
            "readout": true,
            "readout_format": "d",
            "step": 2,
            "style": "IPY_MODEL_876eb4434c2f4e309692c0cecdac4728",
            "value": 1
          }
        },
        "b0a3a826dd584346b01237589123351a": {
          "model_module": "@jupyter-widgets/controls",
          "model_name": "FloatSliderModel",
          "model_module_version": "1.5.0",
          "state": {
            "_dom_classes": [],
            "_model_module": "@jupyter-widgets/controls",
            "_model_module_version": "1.5.0",
            "_model_name": "FloatSliderModel",
            "_view_count": null,
            "_view_module": "@jupyter-widgets/controls",
            "_view_module_version": "1.5.0",
            "_view_name": "FloatSliderView",
            "continuous_update": true,
            "description": "pz",
            "description_tooltip": null,
            "disabled": false,
            "layout": "IPY_MODEL_a6d0edfa1ff642b7a7fd9683f37b9624",
            "max": 1,
            "min": -1,
            "orientation": "horizontal",
            "readout": true,
            "readout_format": ".2f",
            "step": 0.01,
            "style": "IPY_MODEL_37a6472fc5e44bc0a95f995b97c9785c",
            "value": -0.17
          }
        },
        "4c8a48b1f6e34eca9c8be97fa053f29c": {
          "model_module": "@jupyter-widgets/controls",
          "model_name": "FloatSliderModel",
          "model_module_version": "1.5.0",
          "state": {
            "_dom_classes": [],
            "_model_module": "@jupyter-widgets/controls",
            "_model_module_version": "1.5.0",
            "_model_name": "FloatSliderModel",
            "_view_count": null,
            "_view_module": "@jupyter-widgets/controls",
            "_view_module_version": "1.5.0",
            "_view_name": "FloatSliderView",
            "continuous_update": true,
            "description": "t_max",
            "description_tooltip": null,
            "disabled": false,
            "layout": "IPY_MODEL_982a7f98cca248a3b10a06d3f015082a",
            "max": 6.283185307179586,
            "min": 0,
            "orientation": "horizontal",
            "readout": true,
            "readout_format": ".2f",
            "step": 0.01,
            "style": "IPY_MODEL_6874e8c519284645933edde17694278e",
            "value": 3.14
          }
        },
        "132179e2e9bd469387e04ab85b0c992c": {
          "model_module": "@jupyter-widgets/base",
          "model_name": "LayoutModel",
          "model_module_version": "1.2.0",
          "state": {
            "_model_module": "@jupyter-widgets/base",
            "_model_module_version": "1.2.0",
            "_model_name": "LayoutModel",
            "_view_count": null,
            "_view_module": "@jupyter-widgets/base",
            "_view_module_version": "1.2.0",
            "_view_name": "LayoutView",
            "align_content": null,
            "align_items": null,
            "align_self": null,
            "border": null,
            "bottom": null,
            "display": null,
            "flex": null,
            "flex_flow": "row wrap",
            "grid_area": null,
            "grid_auto_columns": null,
            "grid_auto_flow": null,
            "grid_auto_rows": null,
            "grid_column": null,
            "grid_gap": null,
            "grid_row": null,
            "grid_template_areas": null,
            "grid_template_columns": null,
            "grid_template_rows": null,
            "height": null,
            "justify_content": null,
            "justify_items": null,
            "left": null,
            "margin": null,
            "max_height": null,
            "max_width": null,
            "min_height": null,
            "min_width": null,
            "object_fit": null,
            "object_position": null,
            "order": null,
            "overflow": null,
            "overflow_x": null,
            "overflow_y": null,
            "padding": null,
            "right": null,
            "top": null,
            "visibility": null,
            "width": null
          }
        },
        "5a0ffda2fb3644a986c5aa55c0191ef3": {
          "model_module": "@jupyter-widgets/base",
          "model_name": "LayoutModel",
          "model_module_version": "1.2.0",
          "state": {
            "_model_module": "@jupyter-widgets/base",
            "_model_module_version": "1.2.0",
            "_model_name": "LayoutModel",
            "_view_count": null,
            "_view_module": "@jupyter-widgets/base",
            "_view_module_version": "1.2.0",
            "_view_name": "LayoutView",
            "align_content": null,
            "align_items": null,
            "align_self": null,
            "border": null,
            "bottom": null,
            "display": null,
            "flex": null,
            "flex_flow": null,
            "grid_area": null,
            "grid_auto_columns": null,
            "grid_auto_flow": null,
            "grid_auto_rows": null,
            "grid_column": null,
            "grid_gap": null,
            "grid_row": null,
            "grid_template_areas": null,
            "grid_template_columns": null,
            "grid_template_rows": null,
            "height": null,
            "justify_content": null,
            "justify_items": null,
            "left": null,
            "margin": null,
            "max_height": null,
            "max_width": null,
            "min_height": null,
            "min_width": null,
            "object_fit": null,
            "object_position": null,
            "order": null,
            "overflow": null,
            "overflow_x": null,
            "overflow_y": null,
            "padding": null,
            "right": null,
            "top": null,
            "visibility": null,
            "width": null
          }
        },
        "ffc4f43e3a2546dab033ad1c5d182ef7": {
          "model_module": "@jupyter-widgets/base",
          "model_name": "LayoutModel",
          "model_module_version": "1.2.0",
          "state": {
            "_model_module": "@jupyter-widgets/base",
            "_model_module_version": "1.2.0",
            "_model_name": "LayoutModel",
            "_view_count": null,
            "_view_module": "@jupyter-widgets/base",
            "_view_module_version": "1.2.0",
            "_view_name": "LayoutView",
            "align_content": null,
            "align_items": null,
            "align_self": null,
            "border": null,
            "bottom": null,
            "display": null,
            "flex": null,
            "flex_flow": null,
            "grid_area": null,
            "grid_auto_columns": null,
            "grid_auto_flow": null,
            "grid_auto_rows": null,
            "grid_column": null,
            "grid_gap": null,
            "grid_row": null,
            "grid_template_areas": null,
            "grid_template_columns": null,
            "grid_template_rows": null,
            "height": null,
            "justify_content": null,
            "justify_items": null,
            "left": null,
            "margin": null,
            "max_height": null,
            "max_width": null,
            "min_height": null,
            "min_width": null,
            "object_fit": null,
            "object_position": null,
            "order": null,
            "overflow": null,
            "overflow_x": null,
            "overflow_y": null,
            "padding": null,
            "right": null,
            "top": null,
            "visibility": null,
            "width": null
          }
        },
        "f51fa6073e8f4ee1a9e69cc33532bbe1": {
          "model_module": "@jupyter-widgets/controls",
          "model_name": "SliderStyleModel",
          "model_module_version": "1.5.0",
          "state": {
            "_model_module": "@jupyter-widgets/controls",
            "_model_module_version": "1.5.0",
            "_model_name": "SliderStyleModel",
            "_view_count": null,
            "_view_module": "@jupyter-widgets/base",
            "_view_module_version": "1.2.0",
            "_view_name": "StyleView",
            "description_width": "",
            "handle_color": null
          }
        },
        "304f2a53c3df41f3a04af144fe25912f": {
          "model_module": "@jupyter-widgets/base",
          "model_name": "LayoutModel",
          "model_module_version": "1.2.0",
          "state": {
            "_model_module": "@jupyter-widgets/base",
            "_model_module_version": "1.2.0",
            "_model_name": "LayoutModel",
            "_view_count": null,
            "_view_module": "@jupyter-widgets/base",
            "_view_module_version": "1.2.0",
            "_view_name": "LayoutView",
            "align_content": null,
            "align_items": null,
            "align_self": null,
            "border": null,
            "bottom": null,
            "display": null,
            "flex": null,
            "flex_flow": null,
            "grid_area": null,
            "grid_auto_columns": null,
            "grid_auto_flow": null,
            "grid_auto_rows": null,
            "grid_column": null,
            "grid_gap": null,
            "grid_row": null,
            "grid_template_areas": null,
            "grid_template_columns": null,
            "grid_template_rows": null,
            "height": null,
            "justify_content": null,
            "justify_items": null,
            "left": null,
            "margin": null,
            "max_height": null,
            "max_width": null,
            "min_height": null,
            "min_width": null,
            "object_fit": null,
            "object_position": null,
            "order": null,
            "overflow": null,
            "overflow_x": null,
            "overflow_y": null,
            "padding": null,
            "right": null,
            "top": null,
            "visibility": null,
            "width": null
          }
        },
        "4ea62fc5dd0c49bd931ea2075f349f04": {
          "model_module": "@jupyter-widgets/controls",
          "model_name": "SliderStyleModel",
          "model_module_version": "1.5.0",
          "state": {
            "_model_module": "@jupyter-widgets/controls",
            "_model_module_version": "1.5.0",
            "_model_name": "SliderStyleModel",
            "_view_count": null,
            "_view_module": "@jupyter-widgets/base",
            "_view_module_version": "1.2.0",
            "_view_name": "StyleView",
            "description_width": "",
            "handle_color": null
          }
        },
        "b9ec9fea45404e679d25960b1448dec2": {
          "model_module": "@jupyter-widgets/base",
          "model_name": "LayoutModel",
          "model_module_version": "1.2.0",
          "state": {
            "_model_module": "@jupyter-widgets/base",
            "_model_module_version": "1.2.0",
            "_model_name": "LayoutModel",
            "_view_count": null,
            "_view_module": "@jupyter-widgets/base",
            "_view_module_version": "1.2.0",
            "_view_name": "LayoutView",
            "align_content": null,
            "align_items": null,
            "align_self": null,
            "border": null,
            "bottom": null,
            "display": null,
            "flex": null,
            "flex_flow": null,
            "grid_area": null,
            "grid_auto_columns": null,
            "grid_auto_flow": null,
            "grid_auto_rows": null,
            "grid_column": null,
            "grid_gap": null,
            "grid_row": null,
            "grid_template_areas": null,
            "grid_template_columns": null,
            "grid_template_rows": null,
            "height": null,
            "justify_content": null,
            "justify_items": null,
            "left": null,
            "margin": null,
            "max_height": null,
            "max_width": null,
            "min_height": null,
            "min_width": null,
            "object_fit": null,
            "object_position": null,
            "order": null,
            "overflow": null,
            "overflow_x": null,
            "overflow_y": null,
            "padding": null,
            "right": null,
            "top": null,
            "visibility": null,
            "width": null
          }
        },
        "f38655b3562c47deb5ee327c6df1c3b4": {
          "model_module": "@jupyter-widgets/controls",
          "model_name": "SliderStyleModel",
          "model_module_version": "1.5.0",
          "state": {
            "_model_module": "@jupyter-widgets/controls",
            "_model_module_version": "1.5.0",
            "_model_name": "SliderStyleModel",
            "_view_count": null,
            "_view_module": "@jupyter-widgets/base",
            "_view_module_version": "1.2.0",
            "_view_name": "StyleView",
            "description_width": "",
            "handle_color": null
          }
        },
        "45f871e10de8459499be6e9baaf12b57": {
          "model_module": "@jupyter-widgets/base",
          "model_name": "LayoutModel",
          "model_module_version": "1.2.0",
          "state": {
            "_model_module": "@jupyter-widgets/base",
            "_model_module_version": "1.2.0",
            "_model_name": "LayoutModel",
            "_view_count": null,
            "_view_module": "@jupyter-widgets/base",
            "_view_module_version": "1.2.0",
            "_view_name": "LayoutView",
            "align_content": null,
            "align_items": null,
            "align_self": null,
            "border": null,
            "bottom": null,
            "display": null,
            "flex": null,
            "flex_flow": null,
            "grid_area": null,
            "grid_auto_columns": null,
            "grid_auto_flow": null,
            "grid_auto_rows": null,
            "grid_column": null,
            "grid_gap": null,
            "grid_row": null,
            "grid_template_areas": null,
            "grid_template_columns": null,
            "grid_template_rows": null,
            "height": null,
            "justify_content": null,
            "justify_items": null,
            "left": null,
            "margin": null,
            "max_height": null,
            "max_width": null,
            "min_height": null,
            "min_width": null,
            "object_fit": null,
            "object_position": null,
            "order": null,
            "overflow": null,
            "overflow_x": null,
            "overflow_y": null,
            "padding": null,
            "right": null,
            "top": null,
            "visibility": null,
            "width": null
          }
        },
        "876eb4434c2f4e309692c0cecdac4728": {
          "model_module": "@jupyter-widgets/controls",
          "model_name": "SliderStyleModel",
          "model_module_version": "1.5.0",
          "state": {
            "_model_module": "@jupyter-widgets/controls",
            "_model_module_version": "1.5.0",
            "_model_name": "SliderStyleModel",
            "_view_count": null,
            "_view_module": "@jupyter-widgets/base",
            "_view_module_version": "1.2.0",
            "_view_name": "StyleView",
            "description_width": "",
            "handle_color": null
          }
        },
        "a6d0edfa1ff642b7a7fd9683f37b9624": {
          "model_module": "@jupyter-widgets/base",
          "model_name": "LayoutModel",
          "model_module_version": "1.2.0",
          "state": {
            "_model_module": "@jupyter-widgets/base",
            "_model_module_version": "1.2.0",
            "_model_name": "LayoutModel",
            "_view_count": null,
            "_view_module": "@jupyter-widgets/base",
            "_view_module_version": "1.2.0",
            "_view_name": "LayoutView",
            "align_content": null,
            "align_items": null,
            "align_self": null,
            "border": null,
            "bottom": null,
            "display": null,
            "flex": null,
            "flex_flow": null,
            "grid_area": null,
            "grid_auto_columns": null,
            "grid_auto_flow": null,
            "grid_auto_rows": null,
            "grid_column": null,
            "grid_gap": null,
            "grid_row": null,
            "grid_template_areas": null,
            "grid_template_columns": null,
            "grid_template_rows": null,
            "height": null,
            "justify_content": null,
            "justify_items": null,
            "left": null,
            "margin": null,
            "max_height": null,
            "max_width": null,
            "min_height": null,
            "min_width": null,
            "object_fit": null,
            "object_position": null,
            "order": null,
            "overflow": null,
            "overflow_x": null,
            "overflow_y": null,
            "padding": null,
            "right": null,
            "top": null,
            "visibility": null,
            "width": null
          }
        },
        "37a6472fc5e44bc0a95f995b97c9785c": {
          "model_module": "@jupyter-widgets/controls",
          "model_name": "SliderStyleModel",
          "model_module_version": "1.5.0",
          "state": {
            "_model_module": "@jupyter-widgets/controls",
            "_model_module_version": "1.5.0",
            "_model_name": "SliderStyleModel",
            "_view_count": null,
            "_view_module": "@jupyter-widgets/base",
            "_view_module_version": "1.2.0",
            "_view_name": "StyleView",
            "description_width": "",
            "handle_color": null
          }
        },
        "982a7f98cca248a3b10a06d3f015082a": {
          "model_module": "@jupyter-widgets/base",
          "model_name": "LayoutModel",
          "model_module_version": "1.2.0",
          "state": {
            "_model_module": "@jupyter-widgets/base",
            "_model_module_version": "1.2.0",
            "_model_name": "LayoutModel",
            "_view_count": null,
            "_view_module": "@jupyter-widgets/base",
            "_view_module_version": "1.2.0",
            "_view_name": "LayoutView",
            "align_content": null,
            "align_items": null,
            "align_self": null,
            "border": null,
            "bottom": null,
            "display": null,
            "flex": null,
            "flex_flow": null,
            "grid_area": null,
            "grid_auto_columns": null,
            "grid_auto_flow": null,
            "grid_auto_rows": null,
            "grid_column": null,
            "grid_gap": null,
            "grid_row": null,
            "grid_template_areas": null,
            "grid_template_columns": null,
            "grid_template_rows": null,
            "height": null,
            "justify_content": null,
            "justify_items": null,
            "left": null,
            "margin": null,
            "max_height": null,
            "max_width": null,
            "min_height": null,
            "min_width": null,
            "object_fit": null,
            "object_position": null,
            "order": null,
            "overflow": null,
            "overflow_x": null,
            "overflow_y": null,
            "padding": null,
            "right": null,
            "top": null,
            "visibility": null,
            "width": null
          }
        },
        "6874e8c519284645933edde17694278e": {
          "model_module": "@jupyter-widgets/controls",
          "model_name": "SliderStyleModel",
          "model_module_version": "1.5.0",
          "state": {
            "_model_module": "@jupyter-widgets/controls",
            "_model_module_version": "1.5.0",
            "_model_name": "SliderStyleModel",
            "_view_count": null,
            "_view_module": "@jupyter-widgets/base",
            "_view_module_version": "1.2.0",
            "_view_name": "StyleView",
            "description_width": "",
            "handle_color": null
          }
        }
      }
    }
  },
  "cells": [
    {
      "cell_type": "markdown",
      "metadata": {
        "id": "view-in-github",
        "colab_type": "text"
      },
      "source": [
        "<a href=\"https://colab.research.google.com/github/duberii/pid-playground/blob/main/activities/Drift_Chambers.ipynb\" target=\"_parent\"><img src=\"https://colab.research.google.com/assets/colab-badge.svg\" alt=\"Open In Colab\"/></a>"
      ]
    },
    {
      "cell_type": "markdown",
      "source": [
        "# **Drift Chambers and Tracks**\n",
        "---\n",
        "Welcome to Particle Identification Playground! In this activity, you will get a brief introduction to drift chambers and tracks.\n",
        "\n",
        "**Before attempting this notebook, complete all of the activities in the Getting Started section.**\n",
        "\n",
        "**After completing this notebook, you will be able to:**\n",
        "*   Describe the role of drift chambers in a particle detector\n",
        "*   Define tracks and hits\n",
        "*   Identify which particles leave tracks\n",
        "*   Use individual hits to determine the position of a track\n",
        "*   Find the momentum and charge of a particle based on the curvature of a track"
      ],
      "metadata": {
        "id": "c121h0MmoXoe"
      }
    },
    {
      "cell_type": "code",
      "source": [
        "#@title Run this cell before starting\n",
        "from IPython.display import YouTubeVideo\n",
        "import plotly.express as pxp\n",
        "import pandas as pd\n",
        "import numpy as np\n",
        "import ipywidgets as widgets\n",
        "import plotly\n",
        "from ipywidgets import interact, interactive, fixed, interact_manual, widgets, HBox, VBox, Layout\n",
        "import plotly.graph_objects as go\n",
        "import matplotlib.pyplot as plt\n",
        "from google.colab import output\n",
        "import xml.etree.ElementTree as ET\n",
        "import warnings\n",
        "import subprocess\n",
        "!pip install --upgrade -qqq pidp_tools\n",
        "from pidp_tools import *\n",
        "warnings.filterwarnings(\"ignore\")\n",
        "output.enable_custom_widget_manager()\n",
        "!wget -q -O CDC_hits.hdf5 https://github.com/duberii/pid-playground/raw/main/data/CDC_hits.hdf5\n",
        "track_fitting_events = pd.read_hdf(\"CDC_hits.hdf5\",\"event1\")\n"
      ],
      "metadata": {
        "id": "_1LEQqSP7Khd",
        "cellView": "form",
        "colab": {
          "base_uri": "https://localhost:8080/"
        },
        "outputId": "af60faaf-1c23-4e70-bdc8-ec6d3c49cd11"
      },
      "execution_count": null,
      "outputs": [
        {
          "output_type": "stream",
          "name": "stdout",
          "text": [
            "\u001b[2K     \u001b[90m━━━━━━━━━━━━━━━━━━━━━━━━━━━━━━━━━━━━━━━━\u001b[0m \u001b[32m1.6/1.6 MB\u001b[0m \u001b[31m5.8 MB/s\u001b[0m eta \u001b[36m0:00:00\u001b[0m\n",
            "\u001b[?25h"
          ]
        }
      ]
    },
    {
      "cell_type": "markdown",
      "source": [
        "---\n",
        "##**Tracking Detectors**\n",
        "---\n",
        "**Silicon Trackers** and **Drift Chambers** are the two most common detectors that are able to measure momentum. Both of these detectors use the fact that charged particles can ionize atoms, . In this activity, we will explore drift chambers.\n",
        "\n",
        "The most important concept for momentum detectors is the idea of a **track**. A track is the path left as a charged particle passes through a momentum detector. When we observe a track in a detector, we know that there must be some particle that left that track, and our goal is to use information from the various detectors to identify the properties of that particle.\n",
        "\n",
        "Any detector that relies on the production of tracks is called a **Tracking Detector**."
      ],
      "metadata": {
        "id": "P7AK2ICKUAK6"
      }
    },
    {
      "cell_type": "code",
      "source": [
        "# @title\n",
        "YouTubeVideo(width = 560, height = 315, id=\"i15ef618DP0\")"
      ],
      "metadata": {
        "colab": {
          "base_uri": "https://localhost:8080/",
          "height": 337
        },
        "id": "3m1nN-qBjiUD",
        "outputId": "278e4e31-81a7-4da9-f324-12906c55d171",
        "cellView": "form"
      },
      "execution_count": null,
      "outputs": [
        {
          "output_type": "execute_result",
          "data": {
            "text/plain": [
              "<IPython.lib.display.YouTubeVideo at 0x782056e168f0>"
            ],
            "text/html": [
              "\n",
              "        <iframe\n",
              "            width=\"560\"\n",
              "            height=\"315\"\n",
              "            src=\"https://www.youtube.com/embed/i15ef618DP0\"\n",
              "            frameborder=\"0\"\n",
              "            allowfullscreen\n",
              "            \n",
              "        ></iframe>\n",
              "        "
            ],
            "image/jpeg": "[encoded data removed]"
          },
          "metadata": {},
          "execution_count": 2
        }
      ]
    },
    {
      "cell_type": "markdown",
      "source": [
        "This video is a recording of one of the first types of tracking detectors called a **cloud chamber**. Each of those puffs of smoke is a track left by a charged particle passing through the detector. This type of detector was the inspiration for the background of the [PID Playground homepage](https://duberii.github.io/pid-playground)!\n"
      ],
      "metadata": {
        "id": "BZmgZxMFHx-h"
      }
    },
    {
      "cell_type": "markdown",
      "source": [
        "---\n",
        "##**Drift Chambers**\n",
        "---\n",
        "Drift Chambers (as well as cloud chambers and silicon trackers) at their core are just boxes of gas with a grid of wires in them. These wires are extremely close to each other, often to the point where it looks like they touch (even though they do not). The GlueX detector uses a slightly modified detector called a **Straw Chamber**, which has a slightly different layout, with positively charged wires inside negatively charged tubes."
      ],
      "metadata": {
        "id": "1kuztL0OgRkX"
      }
    },
    {
      "cell_type": "markdown",
      "source": [
        "<img width=\"512\" alt=\"An image of a small piece of a drift chamber\" src=\"https://upload.wikimedia.org/wikipedia/commons/thumb/6/60/Chambre-a-derive-IMG_0524.jpg/512px-Chambre-a-derive-IMG_0524.jpg\"><br>\n",
        "<a href=\"https://commons.wikimedia.org/wiki/File:Chambre-a-derive-IMG_0524.jpg\">Rama</a>, <a href=\"https://creativecommons.org/licenses/by-sa/2.0/fr/deed.en\">CC BY-SA 2.0 FR</a>, via Wikimedia Commons"
      ],
      "metadata": {
        "id": "vNL_K7psneJt"
      }
    },
    {
      "cell_type": "markdown",
      "source": [
        "The image shown above is a cross section of a drift chamber. You may notice that it seems like the wires in the drift chamber touch, but they actually don't! The reason that these wires are so close together is to ensure that our measurements of the position of the track are as precise as possible.\n",
        "\n",
        "As a charged particle passes through the gas of the drift chamber, it knocks electrons off the atoms in the gas. The wires in a drift chamber are positively charged, so these electrons are attracted to the nearest wire. Once the electrons reach the wire, they will produce a small pulse of current in the wire, which can be detected. Each of these pulses of current is called a **hit**, and we can use the path traced out by these hits to determine the shape of the track."
      ],
      "metadata": {
        "id": "IEWpUeC1oqS5"
      }
    },
    {
      "cell_type": "markdown",
      "source": [
        "####**Question #1:**\n",
        "---\n",
        "Which of the following particles would leave a track in a drift chamber?\n",
        "\n",
        "\n",
        "*   Photon\n",
        "*   Muon\n",
        "*   Neutron\n",
        "*   Neutrino\n",
        "*   Gluon\n",
        "*   Positive pion\n",
        "*   Neutral Kaon\n",
        "*   W boson\n"
      ],
      "metadata": {
        "id": "Nw2lfeLNQXVm"
      }
    },
    {
      "cell_type": "markdown",
      "source": [
        "Double click to edit this cell and answer the following question: Which of the following particles would leave a track in a drift chamber?"
      ],
      "metadata": {
        "id": "cmSVsKaSrq5X"
      }
    },
    {
      "cell_type": "markdown",
      "source": [
        "#####**Solution:**"
      ],
      "metadata": {
        "id": "9iwBnEgGQeBD"
      }
    },
    {
      "cell_type": "markdown",
      "source": [
        "Any charged particle would leave a track in a cloud chamber. These particles include:\n",
        "*   Muons\n",
        "*   Positive pions\n",
        "*   W bosons\n",
        "\n",
        "The remaining particles are neutral, and would not leave a track in the drift chamber."
      ],
      "metadata": {
        "id": "FkAVNc0_Qg46"
      }
    },
    {
      "cell_type": "markdown",
      "source": [
        "####**Question #2:**\n",
        "---\n",
        "In most particle detectors, particles must pass through a drift chamber (or another tracking detector) to reach other detectors. If we detect a particle in one of the other detectors, but don't see any track in the drift chamber, what could we say about the charge of the particle we detected?"
      ],
      "metadata": {
        "id": "9lVBhsmTUZ4D"
      }
    },
    {
      "cell_type": "markdown",
      "source": [
        "Double click to edit this cell and answer the following question: If we detect a particle in one of the other detectors, but don't see any track in the drift chamber, what could we say about the charge of the particle we detected?"
      ],
      "metadata": {
        "id": "5fTxZz04UZ4W"
      }
    },
    {
      "cell_type": "markdown",
      "source": [
        "#####**Solution:**"
      ],
      "metadata": {
        "id": "O3Op721ZUZ4W"
      }
    },
    {
      "cell_type": "markdown",
      "source": [
        "The particle we detected must have passed through a drift chamber. If it were charged, it would have left a track in the drift chamber, which we would have been able to detect. Because we didn't see any tracks, the particle must have been neutral."
      ],
      "metadata": {
        "id": "9WytjAXfUZ4X"
      }
    },
    {
      "cell_type": "markdown",
      "source": [
        "---\n",
        "### **Detecting Tracks**\n",
        "---\n",
        "\n",
        "We can determine the position of a track based on the location of the wire it left a signal in. For example, in the GlueX detector, the wires are arranged in rings around the center of the detector. Based on which ring we see a signal in, we can determine the radial coordinate of the hit. A **hit** is an interaction between a particle and the drift chamber, which is detected as a pulse of electricity in one wire (or possibly several wires) in the drift chamber. Based on which wire in that ring has the biggest current pulse, we can determine the angular coordinate of the hit. If you are not familiar with polar coordinates, it will be useful to read about them here: [Click here to read about polar coordinates](https://mathinsight.org/polar_coordinates).\n",
        "\n",
        "The interactive figure below can be adjusted to plot up to three layers of the wires in GlueX's central drift chamber. Setting a slider to 0 hides that ring, which allows you to plot fewer than three rings at a time. Be sure to run the cell after you change the sliders."
      ],
      "metadata": {
        "id": "zFMMblk4qSjd"
      }
    },
    {
      "cell_type": "code",
      "source": [
        "Ring_1 = 4 # @param {type:\"slider\", min:0, max:28, step:1}\n",
        "Ring_2 = 5 # @param {type:\"slider\", min:0, max:28, step:1}\n",
        "Ring_3 = 9 # @param {type:\"slider\", min:0, max:28, step:1}\n",
        "CDC_plot_3D([Ring_1, Ring_2,Ring_3])"
      ],
      "metadata": {
        "colab": {
          "base_uri": "https://localhost:8080/",
          "height": 542
        },
        "id": "_mfvMeyDLsF-",
        "outputId": "cb58c456-d0ca-4d6b-87db-a64ce1a927d6",
        "cellView": "form"
      },
      "execution_count": null,
      "outputs": [
        {
          "output_type": "display_data",
          "data": {
            "text/html": [
              "<html>\n",
              "<head><meta charset=\"utf-8\" /></head>\n",
              "<body>\n",
              "    <div>            <script src=\"https://cdnjs.cloudflare.com/ajax/libs/mathjax/2.7.5/MathJax.js?config=TeX-AMS-MML_SVG\"></script><script type=\"text/javascript\">if (window.MathJax && window.MathJax.Hub && window.MathJax.Hub.Config) {window.MathJax.Hub.Config({SVG: {font: \"STIX-Web\"}});}</script>                <script type=\"text/javascript\">window.PlotlyConfig = {MathJaxConfig: 'local'};</script>\n",
              "        <script charset=\"utf-8\" src=\"https://cdn.plot.ly/plotly-2.24.1.min.js\"></script>                <div id=\"6e1578bb-a0fb-4e67-aa54-e51e93752a3f\" class=\"plotly-graph-div\" style=\"height:525px; width:100%;\"></div>            <script type=\"text/javascript\">                                    window.PLOTLYENV=window.PLOTLYENV || {};                                    if (document.getElementById(\"6e1578bb-a0fb-4e67-aa54-e51e93752a3f\")) {                    Plotly.newPlot(                        \"6e1578bb-a0fb-4e67-aa54-e51e93752a3f\",                        [{\"hovertemplate\":\"ring=4\\u003cbr\\u003eRing and Wire=Ring: 4 Wire: 1\\u003cbr\\u003ex=%{x}\\u003cbr\\u003ez=%{y}\\u003cbr\\u003ey=%{z}\\u003cextra\\u003e\\u003c\\u002fextra\\u003e\",\"legendgroup\":\"4\",\"line\":{\"color\":\"#636efa\",\"dash\":\"solid\",\"width\":5},\"marker\":{\"symbol\":\"circle\"},\"mode\":\"lines\",\"name\":\"4\",\"scene\":\"scene\",\"showlegend\":true,\"x\":[15.074704446570042,15.074704446570042],\"y\":[0,150],\"z\":[1.4554218936656849,1.4554218936656849],\"type\":\"scatter3d\"},{\"hovertemplate\":\"ring=4\\u003cbr\\u003eRing and Wire=Ring: 4 Wire: 2\\u003cbr\\u003ex=%{x}\\u003cbr\\u003ez=%{y}\\u003cbr\\u003ey=%{z}\\u003cextra\\u003e\\u003c\\u002fextra\\u003e\",\"legendgroup\":\"4\",\"line\":{\"color\":\"#636efa\",\"dash\":\"solid\",\"width\":5},\"marker\":{\"symbol\":\"circle\"},\"mode\":\"lines\",\"name\":\"4\",\"scene\":\"scene\",\"showlegend\":false,\"x\":[14.803810517179931,14.803810517179931],\"y\":[0,150],\"z\":[3.1956472288775637,3.1956472288775637],\"type\":\"scatter3d\"},{\"hovertemplate\":\"ring=4\\u003cbr\\u003eRing and Wire=Ring: 4 Wire: 3\\u003cbr\\u003ex=%{x}\\u003cbr\\u003ez=%{y}\\u003cbr\\u003ey=%{z}\\u003cextra\\u003e\\u003c\\u002fextra\\u003e\",\"legendgroup\":\"4\",\"line\":{\"color\":\"#636efa\",\"dash\":\"solid\",\"width\":5},\"marker\":{\"symbol\":\"circle\"},\"mode\":\"lines\",\"name\":\"4\",\"scene\":\"scene\",\"showlegend\":false,\"x\":[14.332720444243654,14.332720444243654],\"y\":[0,150],\"z\":[4.892656916968531,4.892656916968531],\"type\":\"scatter3d\"},{\"hovertemplate\":\"ring=4\\u003cbr\\u003eRing and Wire=Ring: 4 Wire: 4\\u003cbr\\u003ex=%{x}\\u003cbr\\u003ez=%{y}\\u003cbr\\u003ey=%{z}\\u003cextra\\u003e\\u003c\\u002fextra\\u003e\",\"legendgroup\":\"4\",\"line\":{\"color\":\"#636efa\",\"dash\":\"solid\",\"width\":5},\"marker\":{\"symbol\":\"circle\"},\"mode\":\"lines\",\"name\":\"4\",\"scene\":\"scene\",\"showlegend\":false,\"x\":[13.667804912913876,13.667804912913876],\"y\":[0,150],\"z\":[6.523501812870699,6.523501812870699],\"type\":\"scatter3d\"},{\"hovertemplate\":\"ring=4\\u003cbr\\u003eRing and Wire=Ring: 4 Wire: 5\\u003cbr\\u003ex=%{x}\\u003cbr\\u003ez=%{y}\\u003cbr\\u003ey=%{z}\\u003cextra\\u003e\\u003c\\u002fextra\\u003e\",\"legendgroup\":\"4\",\"line\":{\"color\":\"#636efa\",\"dash\":\"solid\",\"width\":5},\"marker\":{\"symbol\":\"circle\"},\"mode\":\"lines\",\"name\":\"4\",\"scene\":\"scene\",\"showlegend\":false,\"x\":[12.818055765189774,12.818055765189774],\"y\":[0,150],\"z\":[8.066127536834834,8.066127536834834],\"type\":\"scatter3d\"},{\"hovertemplate\":\"ring=4\\u003cbr\\u003eRing and Wire=Ring: 4 Wire: 6\\u003cbr\\u003ex=%{x}\\u003cbr\\u003ez=%{y}\\u003cbr\\u003ey=%{z}\\u003cextra\\u003e\\u003c\\u002fextra\\u003e\",\"legendgroup\":\"4\",\"line\":{\"color\":\"#636efa\",\"dash\":\"solid\",\"width\":5},\"marker\":{\"symbol\":\"circle\"},\"mode\":\"lines\",\"name\":\"4\",\"scene\":\"scene\",\"showlegend\":false,\"x\":[11.79496440067813,11.79496440067813],\"y\":[0,150],\"z\":[9.499672722085515,9.499672722085515],\"type\":\"scatter3d\"},{\"hovertemplate\":\"ring=4\\u003cbr\\u003eRing and Wire=Ring: 4 Wire: 7\\u003cbr\\u003ex=%{x}\\u003cbr\\u003ez=%{y}\\u003cbr\\u003ey=%{z}\\u003cextra\\u003e\\u003c\\u002fextra\\u003e\",\"legendgroup\":\"4\",\"line\":{\"color\":\"#636efa\",\"dash\":\"solid\",\"width\":5},\"marker\":{\"symbol\":\"circle\"},\"mode\":\"lines\",\"name\":\"4\",\"scene\":\"scene\",\"showlegend\":false,\"x\":[10.612366375125411,10.612366375125411],\"y\":[0,150],\"z\":[10.80475112902225,10.80475112902225],\"type\":\"scatter3d\"},{\"hovertemplate\":\"ring=4\\u003cbr\\u003eRing and Wire=Ring: 4 Wire: 8\\u003cbr\\u003ex=%{x}\\u003cbr\\u003ez=%{y}\\u003cbr\\u003ey=%{z}\\u003cextra\\u003e\\u003c\\u002fextra\\u003e\",\"legendgroup\":\"4\",\"line\":{\"color\":\"#636efa\",\"dash\":\"solid\",\"width\":5},\"marker\":{\"symbol\":\"circle\"},\"mode\":\"lines\",\"name\":\"4\",\"scene\":\"scene\",\"showlegend\":false,\"x\":[9.286254298259108,9.286254298259108],\"y\":[0,150],\"z\":[11.963713810855902,11.963713810855902],\"type\":\"scatter3d\"},{\"hovertemplate\":\"ring=4\\u003cbr\\u003eRing and Wire=Ring: 4 Wire: 9\\u003cbr\\u003ex=%{x}\\u003cbr\\u003ez=%{y}\\u003cbr\\u003ey=%{z}\\u003cextra\\u003e\\u003c\\u002fextra\\u003e\",\"legendgroup\":\"4\",\"line\":{\"color\":\"#636efa\",\"dash\":\"solid\",\"width\":5},\"marker\":{\"symbol\":\"circle\"},\"mode\":\"lines\",\"name\":\"4\",\"scene\":\"scene\",\"showlegend\":false,\"x\":[7.834561561174072,7.834561561174072],\"y\":[0,150],\"z\":[12.960887785339926,12.960887785339926],\"type\":\"scatter3d\"},{\"hovertemplate\":\"ring=4\\u003cbr\\u003eRing and Wire=Ring: 4 Wire: 10\\u003cbr\\u003ex=%{x}\\u003cbr\\u003ez=%{y}\\u003cbr\\u003ey=%{z}\\u003cextra\\u003e\\u003c\\u002fextra\\u003e\",\"legendgroup\":\"4\",\"line\":{\"color\":\"#636efa\",\"dash\":\"solid\",\"width\":5},\"marker\":{\"symbol\":\"circle\"},\"mode\":\"lines\",\"name\":\"4\",\"scene\":\"scene\",\"showlegend\":false,\"x\":[6.276919817979971,6.276919817979971],\"y\":[0,150],\"z\":[13.782787984970613,13.782787984970613],\"type\":\"scatter3d\"},{\"hovertemplate\":\"ring=4\\u003cbr\\u003eRing and Wire=Ring: 4 Wire: 11\\u003cbr\\u003ex=%{x}\\u003cbr\\u003ez=%{y}\\u003cbr\\u003ey=%{z}\\u003cextra\\u003e\\u003c\\u002fextra\\u003e\",\"legendgroup\":\"4\",\"line\":{\"color\":\"#636efa\",\"dash\":\"solid\",\"width\":5},\"marker\":{\"symbol\":\"circle\"},\"mode\":\"lines\",\"name\":\"4\",\"scene\":\"scene\",\"showlegend\":false,\"x\":[4.634393501354607,4.634393501354607],\"y\":[0,150],\"z\":[14.41829961939348,14.41829961939348],\"type\":\"scatter3d\"},{\"hovertemplate\":\"ring=4\\u003cbr\\u003eRing and Wire=Ring: 4 Wire: 12\\u003cbr\\u003ex=%{x}\\u003cbr\\u003ez=%{y}\\u003cbr\\u003ey=%{z}\\u003cextra\\u003e\\u003c\\u002fextra\\u003e\",\"legendgroup\":\"4\",\"line\":{\"color\":\"#636efa\",\"dash\":\"solid\",\"width\":5},\"marker\":{\"symbol\":\"circle\"},\"mode\":\"lines\",\"name\":\"4\",\"scene\":\"scene\",\"showlegend\":false,\"x\":[2.9291949622247797,2.9291949622247797],\"y\":[0,150],\"z\":[14.858828483877085,14.858828483877085],\"type\":\"scatter3d\"},{\"hovertemplate\":\"ring=4\\u003cbr\\u003eRing and Wire=Ring: 4 Wire: 13\\u003cbr\\u003ex=%{x}\\u003cbr\\u003ez=%{y}\\u003cbr\\u003ey=%{z}\\u003cextra\\u003e\\u003c\\u002fextra\\u003e\",\"legendgroup\":\"4\",\"line\":{\"color\":\"#636efa\",\"dash\":\"solid\",\"width\":5},\"marker\":{\"symbol\":\"circle\"},\"mode\":\"lines\",\"name\":\"4\",\"scene\":\"scene\",\"showlegend\":false,\"x\":[1.184384085821943,1.184384085821943],\"y\":[0,150],\"z\":[15.098417181189944,15.098417181189944],\"type\":\"scatter3d\"},{\"hovertemplate\":\"ring=4\\u003cbr\\u003eRing and Wire=Ring: 4 Wire: 14\\u003cbr\\u003ex=%{x}\\u003cbr\\u003ez=%{y}\\u003cbr\\u003ey=%{z}\\u003cextra\\u003e\\u003c\\u002fextra\\u003e\",\"legendgroup\":\"4\",\"line\":{\"color\":\"#636efa\",\"dash\":\"solid\",\"width\":5},\"marker\":{\"symbol\":\"circle\"},\"mode\":\"lines\",\"name\":\"4\",\"scene\":\"scene\",\"showlegend\":false,\"x\":[-0.5764435537098088,-0.5764435537098088],\"y\":[0,150],\"z\":[15.133825685179092,15.133825685179092],\"type\":\"scatter3d\"},{\"hovertemplate\":\"ring=4\\u003cbr\\u003eRing and Wire=Ring: 4 Wire: 15\\u003cbr\\u003ex=%{x}\\u003cbr\\u003ez=%{y}\\u003cbr\\u003ey=%{z}\\u003cextra\\u003e\\u003c\\u002fextra\\u003e\",\"legendgroup\":\"4\",\"line\":{\"color\":\"#636efa\",\"dash\":\"solid\",\"width\":5},\"marker\":{\"symbol\":\"circle\"},\"mode\":\"lines\",\"name\":\"4\",\"scene\":\"scene\",\"showlegend\":false,\"x\":[-2.329475782979397,-2.329475782979397],\"y\":[0,150],\"z\":[14.964575156566006,14.964575156566006],\"type\":\"scatter3d\"},{\"hovertemplate\":\"ring=4\\u003cbr\\u003eRing and Wire=Ring: 4 Wire: 16\\u003cbr\\u003ex=%{x}\\u003cbr\\u003ez=%{y}\\u003cbr\\u003ey=%{z}\\u003cextra\\u003e\\u003c\\u002fextra\\u003e\",\"legendgroup\":\"4\",\"line\":{\"color\":\"#636efa\",\"dash\":\"solid\",\"width\":5},\"marker\":{\"symbol\":\"circle\"},\"mode\":\"lines\",\"name\":\"4\",\"scene\":\"scene\",\"showlegend\":false,\"x\":[-4.051005848147691,-4.051005848147691],\"y\":[0,150],\"z\":[14.592954418426489,14.592954418426489],\"type\":\"scatter3d\"},{\"hovertemplate\":\"ring=4\\u003cbr\\u003eRing and Wire=Ring: 4 Wire: 17\\u003cbr\\u003ex=%{x}\\u003cbr\\u003ez=%{y}\\u003cbr\\u003ey=%{z}\\u003cextra\\u003e\\u003c\\u002fextra\\u003e\",\"legendgroup\":\"4\",\"line\":{\"color\":\"#636efa\",\"dash\":\"solid\",\"width\":5},\"marker\":{\"symbol\":\"circle\"},\"mode\":\"lines\",\"name\":\"4\",\"scene\":\"scene\",\"showlegend\":false,\"x\":[-5.717753008107831,-5.717753008107831],\"y\":[0,150],\"z\":[14.023989003784688,14.023989003784688],\"type\":\"scatter3d\"},{\"hovertemplate\":\"ring=4\\u003cbr\\u003eRing and Wire=Ring: 4 Wire: 18\\u003cbr\\u003ex=%{x}\\u003cbr\\u003ez=%{y}\\u003cbr\\u003ey=%{z}\\u003cextra\\u003e\\u003c\\u002fextra\\u003e\",\"legendgroup\":\"4\",\"line\":{\"color\":\"#636efa\",\"dash\":\"solid\",\"width\":5},\"marker\":{\"symbol\":\"circle\"},\"mode\":\"lines\",\"name\":\"4\",\"scene\":\"scene\",\"showlegend\":false,\"x\":[-7.307177366574106,-7.307177366574106],\"y\":[0,150],\"z\":[13.265373193899487,13.265373193899487],\"type\":\"scatter3d\"},{\"hovertemplate\":\"ring=4\\u003cbr\\u003eRing and Wire=Ring: 4 Wire: 19\\u003cbr\\u003ex=%{x}\\u003cbr\\u003ez=%{y}\\u003cbr\\u003ey=%{z}\\u003cextra\\u003e\\u003c\\u002fextra\\u003e\",\"legendgroup\":\"4\",\"line\":{\"color\":\"#636efa\",\"dash\":\"solid\",\"width\":5},\"marker\":{\"symbol\":\"circle\"},\"mode\":\"lines\",\"name\":\"4\",\"scene\":\"scene\",\"showlegend\":false,\"x\":[-8.797784685515436,-8.797784685515436],\"y\":[0,150],\"z\":[12.327365966308863,12.327365966308863],\"type\":\"scatter3d\"},{\"hovertemplate\":\"ring=4\\u003cbr\\u003eRing and Wire=Ring: 4 Wire: 20\\u003cbr\\u003ex=%{x}\\u003cbr\\u003ez=%{y}\\u003cbr\\u003ey=%{z}\\u003cextra\\u003e\\u003c\\u002fextra\\u003e\",\"legendgroup\":\"4\",\"line\":{\"color\":\"#636efa\",\"dash\":\"solid\",\"width\":5},\"marker\":{\"symbol\":\"circle\"},\"mode\":\"lines\",\"name\":\"4\",\"scene\":\"scene\",\"showlegend\":false,\"x\":[-10.169417057854623,-10.169417057854623],\"y\":[0,150],\"z\":[11.2226522597564,11.2226522597564],\"type\":\"scatter3d\"},{\"hovertemplate\":\"ring=4\\u003cbr\\u003eRing and Wire=Ring: 4 Wire: 21\\u003cbr\\u003ex=%{x}\\u003cbr\\u003ez=%{y}\\u003cbr\\u003ey=%{z}\\u003cextra\\u003e\\u003c\\u002fextra\\u003e\",\"legendgroup\":\"4\",\"line\":{\"color\":\"#636efa\",\"dash\":\"solid\",\"width\":5},\"marker\":{\"symbol\":\"circle\"},\"mode\":\"lines\",\"name\":\"4\",\"scene\":\"scene\",\"showlegend\":false,\"x\":[-11.403525508583733,-11.403525508583733],\"y\":[0,150],\"z\":[9.966171432153882,9.966171432153882],\"type\":\"scatter3d\"},{\"hovertemplate\":\"ring=4\\u003cbr\\u003eRing and Wire=Ring: 4 Wire: 22\\u003cbr\\u003ex=%{x}\\u003cbr\\u003ez=%{y}\\u003cbr\\u003ey=%{z}\\u003cextra\\u003e\\u003c\\u002fextra\\u003e\",\"legendgroup\":\"4\",\"line\":{\"color\":\"#636efa\",\"dash\":\"solid\",\"width\":5},\"marker\":{\"symbol\":\"circle\"},\"mode\":\"lines\",\"name\":\"4\",\"scene\":\"scene\",\"showlegend\":false,\"x\":[-12.483420837833108,-12.483420837833108],\"y\":[0,150],\"z\":[8.574915231391746,8.574915231391746],\"type\":\"scatter3d\"},{\"hovertemplate\":\"ring=4\\u003cbr\\u003eRing and Wire=Ring: 4 Wire: 23\\u003cbr\\u003ex=%{x}\\u003cbr\\u003ez=%{y}\\u003cbr\\u003ey=%{z}\\u003cextra\\u003e\\u003c\\u002fextra\\u003e\",\"legendgroup\":\"4\",\"line\":{\"color\":\"#636efa\",\"dash\":\"solid\",\"width\":5},\"marker\":{\"symbol\":\"circle\"},\"mode\":\"lines\",\"name\":\"4\",\"scene\":\"scene\",\"showlegend\":false,\"x\":[-13.394499313671817,-13.394499313671817],\"y\":[0,150],\"z\":[7.067698011095638,7.067698011095638],\"type\":\"scatter3d\"},{\"hovertemplate\":\"ring=4\\u003cbr\\u003eRing and Wire=Ring: 4 Wire: 24\\u003cbr\\u003ex=%{x}\\u003cbr\\u003ez=%{y}\\u003cbr\\u003ey=%{z}\\u003cextra\\u003e\\u003c\\u002fextra\\u003e\",\"legendgroup\":\"4\",\"line\":{\"color\":\"#636efa\",\"dash\":\"solid\",\"width\":5},\"marker\":{\"symbol\":\"circle\"},\"mode\":\"lines\",\"name\":\"4\",\"scene\":\"scene\",\"showlegend\":false,\"x\":[-14.124440162531515,-14.124440162531515],\"y\":[0,150],\"z\":[5.4649022987668046,5.4649022987668046],\"type\":\"scatter3d\"},{\"hovertemplate\":\"ring=4\\u003cbr\\u003eRing and Wire=Ring: 4 Wire: 25\\u003cbr\\u003ex=%{x}\\u003cbr\\u003ez=%{y}\\u003cbr\\u003ey=%{z}\\u003cextra\\u003e\\u003c\\u002fextra\\u003e\",\"legendgroup\":\"4\",\"line\":{\"color\":\"#636efa\",\"dash\":\"solid\",\"width\":5},\"marker\":{\"symbol\":\"circle\"},\"mode\":\"lines\",\"name\":\"4\",\"scene\":\"scene\",\"showlegend\":false,\"x\":[-14.66337218653454,-14.66337218653454],\"y\":[0,150],\"z\":[3.788203157060782,3.788203157060782],\"type\":\"scatter3d\"},{\"hovertemplate\":\"ring=4\\u003cbr\\u003eRing and Wire=Ring: 4 Wire: 26\\u003cbr\\u003ex=%{x}\\u003cbr\\u003ez=%{y}\\u003cbr\\u003ey=%{z}\\u003cextra\\u003e\\u003c\\u002fextra\\u003e\",\"legendgroup\":\"4\",\"line\":{\"color\":\"#636efa\",\"dash\":\"solid\",\"width\":5},\"marker\":{\"symbol\":\"circle\"},\"mode\":\"lines\",\"name\":\"4\",\"scene\":\"scene\",\"showlegend\":false,\"x\":[-15.004007254512652,-15.004007254512652],\"y\":[0,150],\"z\":[2.060275065745273,2.060275065745273],\"type\":\"scatter3d\"},{\"hovertemplate\":\"ring=4\\u003cbr\\u003eRing and Wire=Ring: 4 Wire: 27\\u003cbr\\u003ex=%{x}\\u003cbr\\u003ez=%{y}\\u003cbr\\u003ey=%{z}\\u003cextra\\u003e\\u003c\\u002fextra\\u003e\",\"legendgroup\":\"4\",\"line\":{\"color\":\"#636efa\",\"dash\":\"solid\",\"width\":5},\"marker\":{\"symbol\":\"circle\"},\"mode\":\"lines\",\"name\":\"4\",\"scene\":\"scene\",\"showlegend\":false,\"x\":[-15.141738861479407,-15.141738861479407],\"y\":[0,150],\"z\":[0.3044852882559333,0.3044852882559333],\"type\":\"scatter3d\"},{\"hovertemplate\":\"ring=4\\u003cbr\\u003eRing and Wire=Ring: 4 Wire: 28\\u003cbr\\u003ex=%{x}\\u003cbr\\u003ez=%{y}\\u003cbr\\u003ey=%{z}\\u003cextra\\u003e\\u003c\\u002fextra\\u003e\",\"legendgroup\":\"4\",\"line\":{\"color\":\"#636efa\",\"dash\":\"solid\",\"width\":5},\"marker\":{\"symbol\":\"circle\"},\"mode\":\"lines\",\"name\":\"4\",\"scene\":\"scene\",\"showlegend\":false,\"x\":[-15.074704423708326,-15.074704423708326],\"y\":[0,150],\"z\":[-1.4554221304585924,-1.4554221304585924],\"type\":\"scatter3d\"},{\"hovertemplate\":\"ring=4\\u003cbr\\u003eRing and Wire=Ring: 4 Wire: 29\\u003cbr\\u003ex=%{x}\\u003cbr\\u003ez=%{y}\\u003cbr\\u003ey=%{z}\\u003cextra\\u003e\\u003c\\u002fextra\\u003e\",\"legendgroup\":\"4\",\"line\":{\"color\":\"#636efa\",\"dash\":\"solid\",\"width\":5},\"marker\":{\"symbol\":\"circle\"},\"mode\":\"lines\",\"name\":\"4\",\"scene\":\"scene\",\"showlegend\":false,\"x\":[-14.80381046698282,-14.80381046698282],\"y\":[0,150],\"z\":[-3.195647461415279,-3.195647461415279],\"type\":\"scatter3d\"},{\"hovertemplate\":\"ring=4\\u003cbr\\u003eRing and Wire=Ring: 4 Wire: 30\\u003cbr\\u003ex=%{x}\\u003cbr\\u003ez=%{y}\\u003cbr\\u003ey=%{z}\\u003cextra\\u003e\\u003c\\u002fextra\\u003e\",\"legendgroup\":\"4\",\"line\":{\"color\":\"#636efa\",\"dash\":\"solid\",\"width\":5},\"marker\":{\"symbol\":\"circle\"},\"mode\":\"lines\",\"name\":\"4\",\"scene\":\"scene\",\"showlegend\":false,\"x\":[-14.332720367389975,-14.332720367389975],\"y\":[0,150],\"z\":[-4.892657142106381,-4.892657142106381],\"type\":\"scatter3d\"},{\"hovertemplate\":\"ring=4\\u003cbr\\u003eRing and Wire=Ring: 4 Wire: 31\\u003cbr\\u003ex=%{x}\\u003cbr\\u003ez=%{y}\\u003cbr\\u003ey=%{z}\\u003cextra\\u003e\\u003c\\u002fextra\\u003e\",\"legendgroup\":\"4\",\"line\":{\"color\":\"#636efa\",\"dash\":\"solid\",\"width\":5},\"marker\":{\"symbol\":\"circle\"},\"mode\":\"lines\",\"name\":\"4\",\"scene\":\"scene\",\"showlegend\":false,\"x\":[-13.667804810442947,-13.667804810442947],\"y\":[0,150],\"z\":[-6.523502027564079,-6.523502027564079],\"type\":\"scatter3d\"},{\"hovertemplate\":\"ring=4\\u003cbr\\u003eRing and Wire=Ring: 4 Wire: 32\\u003cbr\\u003ex=%{x}\\u003cbr\\u003ez=%{y}\\u003cbr\\u003ey=%{z}\\u003cextra\\u003e\\u003c\\u002fextra\\u003e\",\"legendgroup\":\"4\",\"line\":{\"color\":\"#636efa\",\"dash\":\"solid\",\"width\":5},\"marker\":{\"symbol\":\"circle\"},\"mode\":\"lines\",\"name\":\"4\",\"scene\":\"scene\",\"showlegend\":false,\"x\":[-12.818055638487337,-12.818055638487337],\"y\":[0,150],\"z\":[-8.066127738180384,-8.066127738180384],\"type\":\"scatter3d\"},{\"hovertemplate\":\"ring=4\\u003cbr\\u003eRing and Wire=Ring: 4 Wire: 33\\u003cbr\\u003ex=%{x}\\u003cbr\\u003ez=%{y}\\u003cbr\\u003ey=%{z}\\u003cextra\\u003e\\u003c\\u002fextra\\u003e\",\"legendgroup\":\"4\",\"line\":{\"color\":\"#636efa\",\"dash\":\"solid\",\"width\":5},\"marker\":{\"symbol\":\"circle\"},\"mode\":\"lines\",\"name\":\"4\",\"scene\":\"scene\",\"showlegend\":false,\"x\":[-11.794964251457616,-11.794964251457616],\"y\":[0,150],\"z\":[-9.499672907360384,-9.499672907360384],\"type\":\"scatter3d\"},{\"hovertemplate\":\"ring=4\\u003cbr\\u003eRing and Wire=Ring: 4 Wire: 34\\u003cbr\\u003ex=%{x}\\u003cbr\\u003ez=%{y}\\u003cbr\\u003ey=%{z}\\u003cextra\\u003e\\u003c\\u002fextra\\u003e\",\"legendgroup\":\"4\",\"line\":{\"color\":\"#636efa\",\"dash\":\"solid\",\"width\":5},\"marker\":{\"symbol\":\"circle\"},\"mode\":\"lines\",\"name\":\"4\",\"scene\":\"scene\",\"showlegend\":false,\"x\":[-10.612366205404774,-10.612366205404774],\"y\":[0,150],\"z\":[-10.80475129572091,-10.80475129572091],\"type\":\"scatter3d\"},{\"hovertemplate\":\"ring=4\\u003cbr\\u003eRing and Wire=Ring: 4 Wire: 35\\u003cbr\\u003ex=%{x}\\u003cbr\\u003ez=%{y}\\u003cbr\\u003ey=%{z}\\u003cextra\\u003e\\u003c\\u002fextra\\u003e\",\"legendgroup\":\"4\",\"line\":{\"color\":\"#636efa\",\"dash\":\"solid\",\"width\":5},\"marker\":{\"symbol\":\"circle\"},\"mode\":\"lines\",\"name\":\"4\",\"scene\":\"scene\",\"showlegend\":false,\"x\":[-9.286254110333529,-9.286254110333529],\"y\":[0,150],\"z\":[-11.963713956724044,-11.963713956724044],\"type\":\"scatter3d\"},{\"hovertemplate\":\"ring=4\\u003cbr\\u003eRing and Wire=Ring: 4 Wire: 36\\u003cbr\\u003ex=%{x}\\u003cbr\\u003ez=%{y}\\u003cbr\\u003ey=%{z}\\u003cextra\\u003e\\u003c\\u002fextra\\u003e\",\"legendgroup\":\"4\",\"line\":{\"color\":\"#636efa\",\"dash\":\"solid\",\"width\":5},\"marker\":{\"symbol\":\"circle\"},\"mode\":\"lines\",\"name\":\"4\",\"scene\":\"scene\",\"showlegend\":false,\"x\":[-7.8345613575849145,-7.8345613575849145],\"y\":[0,150],\"z\":[-12.960887908404935,-12.960887908404935],\"type\":\"scatter3d\"},{\"hovertemplate\":\"ring=4\\u003cbr\\u003eRing and Wire=Ring: 4 Wire: 37\\u003cbr\\u003ex=%{x}\\u003cbr\\u003ez=%{y}\\u003cbr\\u003ey=%{z}\\u003cextra\\u003e\\u003c\\u002fextra\\u003e\",\"legendgroup\":\"4\",\"line\":{\"color\":\"#636efa\",\"dash\":\"solid\",\"width\":5},\"marker\":{\"symbol\":\"circle\"},\"mode\":\"lines\",\"name\":\"4\",\"scene\":\"scene\",\"showlegend\":false,\"x\":[-6.276919601480431,-6.276919601480431],\"y\":[0,150],\"z\":[-13.782788083568242,-13.782788083568242],\"type\":\"scatter3d\"},{\"hovertemplate\":\"ring=4\\u003cbr\\u003eRing and Wire=Ring: 4 Wire: 38\\u003cbr\\u003ex=%{x}\\u003cbr\\u003ez=%{y}\\u003cbr\\u003ey=%{z}\\u003cextra\\u003e\\u003c\\u002fextra\\u003e\",\"legendgroup\":\"4\",\"line\":{\"color\":\"#636efa\",\"dash\":\"solid\",\"width\":5},\"marker\":{\"symbol\":\"circle\"},\"mode\":\"lines\",\"name\":\"4\",\"scene\":\"scene\",\"showlegend\":false,\"x\":[-4.63439327487248,-4.63439327487248],\"y\":[0,150],\"z\":[-14.418299692190363,-14.418299692190363],\"type\":\"scatter3d\"},{\"hovertemplate\":\"ring=4\\u003cbr\\u003eRing and Wire=Ring: 4 Wire: 39\\u003cbr\\u003ex=%{x}\\u003cbr\\u003ez=%{y}\\u003cbr\\u003ey=%{z}\\u003cextra\\u003e\\u003c\\u002fextra\\u003e\",\"legendgroup\":\"4\",\"line\":{\"color\":\"#636efa\",\"dash\":\"solid\",\"width\":5},\"marker\":{\"symbol\":\"circle\"},\"mode\":\"lines\",\"name\":\"4\",\"scene\":\"scene\",\"showlegend\":false,\"x\":[-2.929194728822835,-2.929194728822835],\"y\":[0,150],\"z\":[-14.858828529888772,-14.858828529888772],\"type\":\"scatter3d\"},{\"hovertemplate\":\"ring=4\\u003cbr\\u003eRing and Wire=Ring: 4 Wire: 40\\u003cbr\\u003ex=%{x}\\u003cbr\\u003ez=%{y}\\u003cbr\\u003ey=%{z}\\u003cextra\\u003e\\u003c\\u002fextra\\u003e\",\"legendgroup\":\"4\",\"line\":{\"color\":\"#636efa\",\"dash\":\"solid\",\"width\":5},\"marker\":{\"symbol\":\"circle\"},\"mode\":\"lines\",\"name\":\"4\",\"scene\":\"scene\",\"showlegend\":false,\"x\":[-1.1843838486565537,-1.1843838486565537],\"y\":[0,150],\"z\":[-15.098417199794204,-15.098417199794204],\"type\":\"scatter3d\"},{\"hovertemplate\":\"ring=4\\u003cbr\\u003eRing and Wire=Ring: 4 Wire: 41\\u003cbr\\u003ex=%{x}\\u003cbr\\u003ez=%{y}\\u003cbr\\u003ey=%{z}\\u003cextra\\u003e\\u003c\\u002fextra\\u003e\",\"legendgroup\":\"4\",\"line\":{\"color\":\"#636efa\",\"dash\":\"solid\",\"width\":5},\"marker\":{\"symbol\":\"circle\"},\"mode\":\"lines\",\"name\":\"4\",\"scene\":\"scene\",\"showlegend\":false,\"x\":[0.5764437914313999,0.5764437914313999],\"y\":[0,150],\"z\":[-15.133825676124335,-15.133825676124335],\"type\":\"scatter3d\"},{\"hovertemplate\":\"ring=4\\u003cbr\\u003eRing and Wire=Ring: 4 Wire: 42\\u003cbr\\u003ex=%{x}\\u003cbr\\u003ez=%{y}\\u003cbr\\u003ey=%{z}\\u003cextra\\u003e\\u003c\\u002fextra\\u003e\",\"legendgroup\":\"4\",\"line\":{\"color\":\"#636efa\",\"dash\":\"solid\",\"width\":5},\"marker\":{\"symbol\":\"circle\"},\"mode\":\"lines\",\"name\":\"4\",\"scene\":\"scene\",\"showlegend\":false,\"x\":[2.3294760180423997,2.3294760180423997],\"y\":[0,150],\"z\":[-14.964575119974684,-14.964575119974684],\"type\":\"scatter3d\"},{\"hovertemplate\":\"ring=4\\u003cbr\\u003eRing and Wire=Ring: 4 Wire: 43\\u003cbr\\u003ex=%{x}\\u003cbr\\u003ez=%{y}\\u003cbr\\u003ey=%{z}\\u003cextra\\u003e\\u003c\\u002fextra\\u003e\",\"legendgroup\":\"4\",\"line\":{\"color\":\"#636efa\",\"dash\":\"solid\",\"width\":5},\"marker\":{\"symbol\":\"circle\"},\"mode\":\"lines\",\"name\":\"4\",\"scene\":\"scene\",\"showlegend\":false,\"x\":[4.0510060773732945,4.0510060773732945],\"y\":[0,150],\"z\":[-14.592954354793433,-14.592954354793433],\"type\":\"scatter3d\"},{\"hovertemplate\":\"ring=4\\u003cbr\\u003eRing and Wire=Ring: 4 Wire: 44\\u003cbr\\u003ex=%{x}\\u003cbr\\u003ez=%{y}\\u003cbr\\u003ey=%{z}\\u003cextra\\u003e\\u003c\\u002fextra\\u003e\",\"legendgroup\":\"4\",\"line\":{\"color\":\"#636efa\",\"dash\":\"solid\",\"width\":5},\"marker\":{\"symbol\":\"circle\"},\"mode\":\"lines\",\"name\":\"4\",\"scene\":\"scene\",\"showlegend\":false,\"x\":[5.71775322839614,5.71775322839614],\"y\":[0,150],\"z\":[-14.02398891397043,-14.02398891397043],\"type\":\"scatter3d\"},{\"hovertemplate\":\"ring=4\\u003cbr\\u003eRing and Wire=Ring: 4 Wire: 45\\u003cbr\\u003ex=%{x}\\u003cbr\\u003ez=%{y}\\u003cbr\\u003ey=%{z}\\u003cextra\\u003e\\u003c\\u002fextra\\u003e\",\"legendgroup\":\"4\",\"line\":{\"color\":\"#636efa\",\"dash\":\"solid\",\"width\":5},\"marker\":{\"symbol\":\"circle\"},\"mode\":\"lines\",\"name\":\"4\",\"scene\":\"scene\",\"showlegend\":false,\"x\":[7.307177574946111,7.307177574946111],\"y\":[0,150],\"z\":[-13.265373079118607,-13.265373079118607],\"type\":\"scatter3d\"},{\"hovertemplate\":\"ring=4\\u003cbr\\u003eRing and Wire=Ring: 4 Wire: 46\\u003cbr\\u003ex=%{x}\\u003cbr\\u003ez=%{y}\\u003cbr\\u003ey=%{z}\\u003cextra\\u003e\\u003c\\u002fextra\\u003e\",\"legendgroup\":\"4\",\"line\":{\"color\":\"#636efa\",\"dash\":\"solid\",\"width\":5},\"marker\":{\"symbol\":\"circle\"},\"mode\":\"lines\",\"name\":\"4\",\"scene\":\"scene\",\"showlegend\":false,\"x\":[8.797784879153252,8.797784879153252],\"y\":[0,150],\"z\":[-12.32736582811358,-12.32736582811358],\"type\":\"scatter3d\"},{\"hovertemplate\":\"ring=4\\u003cbr\\u003eRing and Wire=Ring: 4 Wire: 47\\u003cbr\\u003ex=%{x}\\u003cbr\\u003ez=%{y}\\u003cbr\\u003ey=%{z}\\u003cextra\\u003e\\u003c\\u002fextra\\u003e\",\"legendgroup\":\"4\",\"line\":{\"color\":\"#636efa\",\"dash\":\"solid\",\"width\":5},\"marker\":{\"symbol\":\"circle\"},\"mode\":\"lines\",\"name\":\"4\",\"scene\":\"scene\",\"showlegend\":false,\"x\":[10.16941723413964,10.16941723413964],\"y\":[0,150],\"z\":[-11.222652100015559,-11.222652100015559],\"type\":\"scatter3d\"},{\"hovertemplate\":\"ring=4\\u003cbr\\u003eRing and Wire=Ring: 4 Wire: 48\\u003cbr\\u003ex=%{x}\\u003cbr\\u003ez=%{y}\\u003cbr\\u003ey=%{z}\\u003cextra\\u003e\\u003c\\u002fextra\\u003e\",\"legendgroup\":\"4\",\"line\":{\"color\":\"#636efa\",\"dash\":\"solid\",\"width\":5},\"marker\":{\"symbol\":\"circle\"},\"mode\":\"lines\",\"name\":\"4\",\"scene\":\"scene\",\"showlegend\":false,\"x\":[11.40352566513199,11.40352566513199],\"y\":[0,150],\"z\":[-9.966171253027715,-9.966171253027715],\"type\":\"scatter3d\"},{\"hovertemplate\":\"ring=4\\u003cbr\\u003eRing and Wire=Ring: 4 Wire: 49\\u003cbr\\u003ex=%{x}\\u003cbr\\u003ez=%{y}\\u003cbr\\u003ey=%{z}\\u003cextra\\u003e\\u003c\\u002fextra\\u003e\",\"legendgroup\":\"4\",\"line\":{\"color\":\"#636efa\",\"dash\":\"solid\",\"width\":5},\"marker\":{\"symbol\":\"circle\"},\"mode\":\"lines\",\"name\":\"4\",\"scene\":\"scene\",\"showlegend\":false,\"x\":[12.483420972527567,12.483420972527567],\"y\":[0,150],\"z\":[-8.574915035302618,-8.574915035302618],\"type\":\"scatter3d\"},{\"hovertemplate\":\"ring=4\\u003cbr\\u003eRing and Wire=Ring: 4 Wire: 50\\u003cbr\\u003ex=%{x}\\u003cbr\\u003ez=%{y}\\u003cbr\\u003ey=%{z}\\u003cextra\\u003e\\u003c\\u002fextra\\u003e\",\"legendgroup\":\"4\",\"line\":{\"color\":\"#636efa\",\"dash\":\"solid\",\"width\":5},\"marker\":{\"symbol\":\"circle\"},\"mode\":\"lines\",\"name\":\"4\",\"scene\":\"scene\",\"showlegend\":false,\"x\":[13.39449942469096,13.39449942469096],\"y\":[0,150],\"z\":[-7.067697800695328,-7.067697800695328],\"type\":\"scatter3d\"},{\"hovertemplate\":\"ring=4\\u003cbr\\u003eRing and Wire=Ring: 4 Wire: 51\\u003cbr\\u003ex=%{x}\\u003cbr\\u003ez=%{y}\\u003cbr\\u003ey=%{z}\\u003cextra\\u003e\\u003c\\u002fextra\\u003e\",\"legendgroup\":\"4\",\"line\":{\"color\":\"#636efa\",\"dash\":\"solid\",\"width\":5},\"marker\":{\"symbol\":\"circle\"},\"mode\":\"lines\",\"name\":\"4\",\"scene\":\"scene\",\"showlegend\":false,\"x\":[14.124440248374002,14.124440248374002],\"y\":[0,150],\"z\":[-5.4649020769006045,-5.4649020769006045],\"type\":\"scatter3d\"},{\"hovertemplate\":\"ring=4\\u003cbr\\u003eRing and Wire=Ring: 4 Wire: 52\\u003cbr\\u003ex=%{x}\\u003cbr\\u003ez=%{y}\\u003cbr\\u003ey=%{z}\\u003cextra\\u003e\\u003c\\u002fextra\\u003e\",\"legendgroup\":\"4\",\"line\":{\"color\":\"#636efa\",\"dash\":\"solid\",\"width\":5},\"marker\":{\"symbol\":\"circle\"},\"mode\":\"lines\",\"name\":\"4\",\"scene\":\"scene\",\"showlegend\":false,\"x\":[14.663372246039497,14.663372246039497],\"y\":[0,150],\"z\":[-3.788202926729063,-3.788202926729063],\"type\":\"scatter3d\"},{\"hovertemplate\":\"ring=4\\u003cbr\\u003eRing and Wire=Ring: 4 Wire: 53\\u003cbr\\u003ex=%{x}\\u003cbr\\u003ez=%{y}\\u003cbr\\u003ey=%{z}\\u003cextra\\u003e\\u003c\\u002fextra\\u003e\",\"legendgroup\":\"4\",\"line\":{\"color\":\"#636efa\",\"dash\":\"solid\",\"width\":5},\"marker\":{\"symbol\":\"circle\"},\"mode\":\"lines\",\"name\":\"4\",\"scene\":\"scene\",\"showlegend\":false,\"x\":[15.004007286875376,15.004007286875376],\"y\":[0,150],\"z\":[-2.060274830062865,-2.060274830062865],\"type\":\"scatter3d\"},{\"hovertemplate\":\"ring=4\\u003cbr\\u003eRing and Wire=Ring: 4 Wire: 54\\u003cbr\\u003ex=%{x}\\u003cbr\\u003ez=%{y}\\u003cbr\\u003ey=%{z}\\u003cextra\\u003e\\u003c\\u002fextra\\u003e\",\"legendgroup\":\"4\",\"line\":{\"color\":\"#636efa\",\"dash\":\"solid\",\"width\":5},\"marker\":{\"symbol\":\"circle\"},\"mode\":\"lines\",\"name\":\"4\",\"scene\":\"scene\",\"showlegend\":false,\"x\":[15.14173886626225,15.14173886626225],\"y\":[0,150],\"z\":[-0.304485050410049,-0.304485050410049],\"type\":\"scatter3d\"},{\"hovertemplate\":\"ring=5\\u003cbr\\u003eRing and Wire=Ring: 5 Wire: 1\\u003cbr\\u003ex=%{x}\\u003cbr\\u003ez=%{y}\\u003cbr\\u003ey=%{z}\\u003cextra\\u003e\\u003c\\u002fextra\\u003e\",\"legendgroup\":\"5\",\"line\":{\"color\":\"#EF553B\",\"dash\":\"solid\",\"width\":5},\"marker\":{\"symbol\":\"circle\"},\"mode\":\"lines\",\"name\":\"5\",\"scene\":\"scene\",\"showlegend\":true,\"x\":[12.789378477960556,18.64887320529633],\"y\":[0,150],\"z\":[-13.611143823008844,1.0251664235298747],\"type\":\"scatter3d\"},{\"hovertemplate\":\"ring=5\\u003cbr\\u003eRing and Wire=Ring: 5 Wire: 2\\u003cbr\\u003ex=%{x}\\u003cbr\\u003ez=%{y}\\u003cbr\\u003ey=%{z}\\u003cextra\\u003e\\u003c\\u002fextra\\u003e\",\"legendgroup\":\"5\",\"line\":{\"color\":\"#EF553B\",\"dash\":\"solid\",\"width\":5},\"marker\":{\"symbol\":\"circle\"},\"mode\":\"lines\",\"name\":\"5\",\"scene\":\"scene\",\"showlegend\":false,\"x\":[14.025288658629613,18.46698139954897],\"y\":[0,150],\"z\":[-12.333803795474777,2.7932124895655175],\"type\":\"scatter3d\"},{\"hovertemplate\":\"ring=5\\u003cbr\\u003eRing and Wire=Ring: 5 Wire: 3\\u003cbr\\u003ex=%{x}\\u003cbr\\u003ez=%{y}\\u003cbr\\u003ey=%{z}\\u003cextra\\u003e\\u003c\\u002fextra\\u003e\",\"legendgroup\":\"5\",\"line\":{\"color\":\"#EF553B\",\"dash\":\"solid\",\"width\":5},\"marker\":{\"symbol\":\"circle\"},\"mode\":\"lines\",\"name\":\"5\",\"scene\":\"scene\",\"showlegend\":false,\"x\":[15.134183653336441,18.11784975056448],\"y\":[0,150],\"z\":[-10.944766930832127,4.535962790756],\"type\":\"scatter3d\"},{\"hovertemplate\":\"ring=5\\u003cbr\\u003eRing and Wire=Ring: 5 Wire: 4\\u003cbr\\u003ex=%{x}\\u003cbr\\u003ez=%{y}\\u003cbr\\u003ey=%{z}\\u003cextra\\u003e\\u003c\\u002fextra\\u003e\",\"legendgroup\":\"5\",\"line\":{\"color\":\"#EF553B\",\"dash\":\"solid\",\"width\":5},\"marker\":{\"symbol\":\"circle\"},\"mode\":\"lines\",\"name\":\"5\",\"scene\":\"scene\",\"showlegend\":false,\"x\":[16.10602113729234,17.604640048620443],\"y\":[0,150],\"z\":[-9.456612562024773,6.237634710502181],\"type\":\"scatter3d\"},{\"hovertemplate\":\"ring=5\\u003cbr\\u003eRing and Wire=Ring: 5 Wire: 5\\u003cbr\\u003ex=%{x}\\u003cbr\\u003ez=%{y}\\u003cbr\\u003ey=%{z}\\u003cextra\\u003e\\u003c\\u002fextra\\u003e\",\"legendgroup\":\"5\",\"line\":{\"color\":\"#EF553B\",\"dash\":\"solid\",\"width\":5},\"marker\":{\"symbol\":\"circle\"},\"mode\":\"lines\",\"name\":\"5\",\"scene\":\"scene\",\"showlegend\":false,\"x\":[16.931999999749852,16.932000000250145],\"y\":[0,150],\"z\":[-7.882817645463042,7.882817644388426],\"type\":\"scatter3d\"},{\"hovertemplate\":\"ring=5\\u003cbr\\u003eRing and Wire=Ring: 5 Wire: 6\\u003cbr\\u003ex=%{x}\\u003cbr\\u003ez=%{y}\\u003cbr\\u003ey=%{z}\\u003cextra\\u003e\\u003c\\u002fextra\\u003e\",\"legendgroup\":\"5\",\"line\":{\"color\":\"#EF553B\",\"dash\":\"solid\",\"width\":5},\"marker\":{\"symbol\":\"circle\"},\"mode\":\"lines\",\"name\":\"5\",\"scene\":\"scene\",\"showlegend\":false,\"x\":[17.604640048224564,16.106021137892522],\"y\":[0,150],\"z\":[-6.237634711619489,9.45661256100258],\"type\":\"scatter3d\"},{\"hovertemplate\":\"ring=5\\u003cbr\\u003eRing and Wire=Ring: 5 Wire: 7\\u003cbr\\u003ex=%{x}\\u003cbr\\u003ez=%{y}\\u003cbr\\u003ey=%{z}\\u003cextra\\u003e\\u003c\\u002fextra\\u003e\",\"legendgroup\":\"5\",\"line\":{\"color\":\"#EF553B\",\"dash\":\"solid\",\"width\":5},\"marker\":{\"symbol\":\"circle\"},\"mode\":\"lines\",\"name\":\"5\",\"scene\":\"scene\",\"showlegend\":false,\"x\":[18.1178497502766,15.134183654031068],\"y\":[0,150],\"z\":[-4.535962791905877,10.944766929871612],\"type\":\"scatter3d\"},{\"hovertemplate\":\"ring=5\\u003cbr\\u003eRing and Wire=Ring: 5 Wire: 8\\u003cbr\\u003ex=%{x}\\u003cbr\\u003ez=%{y}\\u003cbr\\u003ey=%{z}\\u003cextra\\u003e\\u003c\\u002fextra\\u003e\",\"legendgroup\":\"5\",\"line\":{\"color\":\"#EF553B\",\"dash\":\"solid\",\"width\":5},\"marker\":{\"symbol\":\"circle\"},\"mode\":\"lines\",\"name\":\"5\",\"scene\":\"scene\",\"showlegend\":false,\"x\":[18.466981399371697,14.025288659412396],\"y\":[0,150],\"z\":[-2.7932124907375533,12.33380379458464],\"type\":\"scatter3d\"},{\"hovertemplate\":\"ring=5\\u003cbr\\u003eRing and Wire=Ring: 5 Wire: 9\\u003cbr\\u003ex=%{x}\\u003cbr\\u003ez=%{y}\\u003cbr\\u003ey=%{z}\\u003cextra\\u003e\\u003c\\u002fextra\\u003e\",\"legendgroup\":\"5\",\"line\":{\"color\":\"#EF553B\",\"dash\":\"solid\",\"width\":5},\"marker\":{\"symbol\":\"circle\"},\"mode\":\"lines\",\"name\":\"5\",\"scene\":\"scene\",\"showlegend\":false,\"x\":[18.648873205231265,12.789378478824409],\"y\":[0,150],\"z\":[-1.025166424713455,13.611143822197146],\"type\":\"scatter3d\"},{\"hovertemplate\":\"ring=5\\u003cbr\\u003eRing and Wire=Ring: 5 Wire: 10\\u003cbr\\u003ex=%{x}\\u003cbr\\u003ez=%{y}\\u003cbr\\u003ey=%{z}\\u003cextra\\u003e\\u003c\\u002fextra\\u003e\",\"legendgroup\":\"5\",\"line\":{\"color\":\"#EF553B\",\"dash\":\"solid\",\"width\":5},\"marker\":{\"symbol\":\"circle\"},\"mode\":\"lines\",\"name\":\"5\",\"scene\":\"scene\",\"showlegend\":false,\"x\":[18.661877927494807,11.437645706247936],\"y\":[0,150],\"z\":[0.7521637072037972,14.76521922361807],\"type\":\"scatter3d\"},{\"hovertemplate\":\"ring=5\\u003cbr\\u003eRing and Wire=Ring: 5 Wire: 11\\u003cbr\\u003ex=%{x}\\u003cbr\\u003ez=%{y}\\u003cbr\\u003ey=%{z}\\u003cextra\\u003e\\u003c\\u002fextra\\u003e\",\"legendgroup\":\"5\",\"line\":{\"color\":\"#EF553B\",\"dash\":\"solid\",\"width\":5},\"marker\":{\"symbol\":\"circle\"},\"mode\":\"lines\",\"name\":\"5\",\"scene\":\"scene\",\"showlegend\":false,\"x\":[18.505877793383668,9.982331842992432],\"y\":[0,150],\"z\":[2.5226821281131757,15.78557851329915],\"type\":\"scatter3d\"},{\"hovertemplate\":\"ring=5\\u003cbr\\u003eRing and Wire=Ring: 5 Wire: 12\\u003cbr\\u003ex=%{x}\\u003cbr\\u003ez=%{y}\\u003cbr\\u003ey=%{z}\\u003cextra\\u003e\\u003c\\u002fextra\\u003e\",\"legendgroup\":\"5\",\"line\":{\"color\":\"#EF553B\",\"dash\":\"solid\",\"width\":5},\"marker\":{\"symbol\":\"circle\"},\"mode\":\"lines\",\"name\":\"5\",\"scene\":\"scene\",\"showlegend\":false,\"x\":[18.18228556426958,8.436616436764456],\"y\":[0,150],\"z\":[4.270354749023377,16.66298115950649],\"type\":\"scatter3d\"},{\"hovertemplate\":\"ring=5\\u003cbr\\u003eRing and Wire=Ring: 5 Wire: 13\\u003cbr\\u003ex=%{x}\\u003cbr\\u003ez=%{y}\\u003cbr\\u003ey=%{z}\\u003cextra\\u003e\\u003c\\u002fextra\\u003e\",\"legendgroup\":\"5\",\"line\":{\"color\":\"#EF553B\",\"dash\":\"solid\",\"width\":5},\"marker\":{\"symbol\":\"circle\"},\"mode\":\"lines\",\"name\":\"5\",\"scene\":\"scene\",\"showlegend\":false,\"x\":[17.694031741488892,6.814497725642771],\"y\":[0,150],\"z\":[5.979354376045629,17.389481268006875],\"type\":\"scatter3d\"},{\"hovertemplate\":\"ring=5\\u003cbr\\u003eRing and Wire=Ring: 5 Wire: 14\\u003cbr\\u003ex=%{x}\\u003cbr\\u003ez=%{y}\\u003cbr\\u003ey=%{z}\\u003cextra\\u003e\\u003c\\u002fextra\\u003e\",\"legendgroup\":\"5\",\"line\":{\"color\":\"#EF553B\",\"dash\":\"solid\",\"width\":5},\"marker\":{\"symbol\":\"circle\"},\"mode\":\"lines\",\"name\":\"5\",\"scene\":\"scene\",\"showlegend\":false,\"x\":[17.045538027268687,5.130665867866591],\"y\":[0,150],\"z\":[7.634204043912478,17.9584995413164],\"type\":\"scatter3d\"},{\"hovertemplate\":\"ring=5\\u003cbr\\u003eRing and Wire=Ring: 5 Wire: 15\\u003cbr\\u003ex=%{x}\\u003cbr\\u003ez=%{y}\\u003cbr\\u003ey=%{z}\\u003cextra\\u003e\\u003c\\u002fextra\\u003e\",\"legendgroup\":\"5\",\"line\":{\"color\":\"#EF553B\",\"dash\":\"solid\",\"width\":5},\"marker\":{\"symbol\":\"circle\"},\"mode\":\"lines\",\"name\":\"5\",\"scene\":\"scene\",\"showlegend\":false,\"x\":[16.242677281106673,3.400369905487741],\"y\":[0,150],\"z\":[9.219917177771917,18.36488286183731],\"type\":\"scatter3d\"},{\"hovertemplate\":\"ring=5\\u003cbr\\u003eRing and Wire=Ring: 5 Wire: 16\\u003cbr\\u003ex=%{x}\\u003cbr\\u003ez=%{y}\\u003cbr\\u003ey=%{z}\\u003cextra\\u003e\\u003c\\u002fextra\\u003e\",\"legendgroup\":\"5\",\"line\":{\"color\":\"#EF553B\",\"dash\":\"solid\",\"width\":5},\"marker\":{\"symbol\":\"circle\"},\"mode\":\"lines\",\"name\":\"5\",\"scene\":\"scene\",\"showlegend\":false,\"x\":[15.292720334246155,1.6392796666844909],\"y\":[0,150],\"z\":[10.722133313929957,18.60495095928896],\"type\":\"scatter3d\"},{\"hovertemplate\":\"ring=5\\u003cbr\\u003eRing and Wire=Ring: 5 Wire: 17\\u003cbr\\u003ex=%{x}\\u003cbr\\u003ez=%{y}\\u003cbr\\u003ey=%{z}\\u003cextra\\u003e\\u003c\\u002fextra\\u003e\",\"legendgroup\":\"5\",\"line\":{\"color\":\"#EF553B\",\"dash\":\"solid\",\"width\":5},\"marker\":{\"symbol\":\"circle\"},\"mode\":\"lines\",\"name\":\"5\",\"scene\":\"scene\",\"showlegend\":false,\"x\":[14.20427014390238,-0.1366561426289925],\"y\":[0,150],\"z\":[12.12724815043363,18.676529739805364],\"type\":\"scatter3d\"},{\"hovertemplate\":\"ring=5\\u003cbr\\u003eRing and Wire=Ring: 5 Wire: 18\\u003cbr\\u003ex=%{x}\\u003cbr\\u003ez=%{y}\\u003cbr\\u003ey=%{z}\\u003cextra\\u003e\\u003c\\u002fextra\\u003e\",\"legendgroup\":\"5\",\"line\":{\"color\":\"#EF553B\",\"dash\":\"solid\",\"width\":5},\"marker\":{\"symbol\":\"circle\"},\"mode\":\"lines\",\"name\":\"5\",\"scene\":\"scene\",\"showlegend\":false,\"x\":[12.987183883549775,-1.9113543727530997],\"y\":[0,150],\"z\":[13.422536749736144,18.57897097486591],\"type\":\"scatter3d\"},{\"hovertemplate\":\"ring=5\\u003cbr\\u003eRing and Wire=Ring: 5 Wire: 19\\u003cbr\\u003ex=%{x}\\u003cbr\\u003ez=%{y}\\u003cbr\\u003ey=%{z}\\u003cextra\\u003e\\u003c\\u002fextra\\u003e\",\"legendgroup\":\"5\",\"line\":{\"color\":\"#EF553B\",\"dash\":\"solid\",\"width\":5},\"marker\":{\"symbol\":\"circle\"},\"mode\":\"lines\",\"name\":\"5\",\"scene\":\"scene\",\"showlegend\":false,\"x\":[11.652483674832576,-3.668743081697006],\"y\":[0,150],\"z\":[14.596268777701813,18.313158171753248],\"type\":\"scatter3d\"},{\"hovertemplate\":\"ring=5\\u003cbr\\u003eRing and Wire=Ring: 5 Wire: 20\\u003cbr\\u003ex=%{x}\\u003cbr\\u003ez=%{y}\\u003cbr\\u003ey=%{z}\\u003cextra\\u003e\\u003c\\u002fextra\\u003e\",\"legendgroup\":\"5\",\"line\":{\"color\":\"#EF553B\",\"dash\":\"solid\",\"width\":5},\"marker\":{\"symbol\":\"circle\"},\"mode\":\"lines\",\"name\":\"5\",\"scene\":\"scene\",\"showlegend\":false,\"x\":[10.212256769524352,-5.392907085174146],\"y\":[0,150],\"z\":[15.637814735328481,17.881498572374493],\"type\":\"scatter3d\"},{\"hovertemplate\":\"ring=5\\u003cbr\\u003eRing and Wire=Ring: 5 Wire: 21\\u003cbr\\u003ex=%{x}\\u003cbr\\u003ez=%{y}\\u003cbr\\u003ey=%{z}\\u003cextra\\u003e\\u003c\\u002fextra\\u003e\",\"legendgroup\":\"5\",\"line\":{\"color\":\"#EF553B\",\"dash\":\"solid\",\"width\":5},\"marker\":{\"symbol\":\"circle\"},\"mode\":\"lines\",\"name\":\"5\",\"scene\":\"scene\",\"showlegend\":false,\"x\":[8.679546085504237,-7.068232086975625],\"y\":[0,150],\"z\":[16.53774222113649,17.287901352905756],\"type\":\"scatter3d\"},{\"hovertemplate\":\"ring=5\\u003cbr\\u003eRing and Wire=Ring: 5 Wire: 22\\u003cbr\\u003ex=%{x}\\u003cbr\\u003ez=%{y}\\u003cbr\\u003ey=%{z}\\u003cextra\\u003e\\u003c\\u002fextra\\u003e\",\"legendgroup\":\"5\",\"line\":{\"color\":\"#EF553B\",\"dash\":\"solid\",\"width\":5},\"marker\":{\"symbol\":\"circle\"},\"mode\":\"lines\",\"name\":\"5\",\"scene\":\"scene\",\"showlegend\":false,\"x\":[7.068232088072831,-8.67954608445464],\"y\":[0,150],\"z\":[17.287901352457155,16.537742221687353],\"type\":\"scatter3d\"},{\"hovertemplate\":\"ring=5\\u003cbr\\u003eRing and Wire=Ring: 5 Wire: 23\\u003cbr\\u003ex=%{x}\\u003cbr\\u003ez=%{y}\\u003cbr\\u003ey=%{z}\\u003cextra\\u003e\\u003c\\u002fextra\\u003e\",\"legendgroup\":\"5\",\"line\":{\"color\":\"#EF553B\",\"dash\":\"solid\",\"width\":5},\"marker\":{\"symbol\":\"circle\"},\"mode\":\"lines\",\"name\":\"5\",\"scene\":\"scene\",\"showlegend\":false,\"x\":[5.392907086309027,-10.212256768531871],\"y\":[0,150],\"z\":[17.88149857203222,15.637814735976619],\"type\":\"scatter3d\"},{\"hovertemplate\":\"ring=5\\u003cbr\\u003eRing and Wire=Ring: 5 Wire: 24\\u003cbr\\u003ex=%{x}\\u003cbr\\u003ez=%{y}\\u003cbr\\u003ey=%{z}\\u003cextra\\u003e\\u003c\\u002fextra\\u003e\",\"legendgroup\":\"5\",\"line\":{\"color\":\"#EF553B\",\"dash\":\"solid\",\"width\":5},\"marker\":{\"symbol\":\"circle\"},\"mode\":\"lines\",\"name\":\"5\",\"scene\":\"scene\",\"showlegend\":false,\"x\":[3.6687430828592817,-11.652483673906199],\"y\":[0,150],\"z\":[18.313158171520406,14.596268778441356],\"type\":\"scatter3d\"},{\"hovertemplate\":\"ring=5\\u003cbr\\u003eRing and Wire=Ring: 5 Wire: 25\\u003cbr\\u003ex=%{x}\\u003cbr\\u003ez=%{y}\\u003cbr\\u003ey=%{z}\\u003cextra\\u003e\\u003c\\u002fextra\\u003e\",\"legendgroup\":\"5\",\"line\":{\"color\":\"#EF553B\",\"dash\":\"solid\",\"width\":5},\"marker\":{\"symbol\":\"circle\"},\"mode\":\"lines\",\"name\":\"5\",\"scene\":\"scene\",\"showlegend\":false,\"x\":[1.9113543739322418,-12.987183882697895],\"y\":[0,150],\"z\":[18.578970974744607,13.422536750560397],\"type\":\"scatter3d\"},{\"hovertemplate\":\"ring=5\\u003cbr\\u003eRing and Wire=Ring: 5 Wire: 26\\u003cbr\\u003ex=%{x}\\u003cbr\\u003ez=%{y}\\u003cbr\\u003ey=%{z}\\u003cextra\\u003e\\u003c\\u002fextra\\u003e\",\"legendgroup\":\"5\",\"line\":{\"color\":\"#EF553B\",\"dash\":\"solid\",\"width\":5},\"marker\":{\"symbol\":\"circle\"},\"mode\":\"lines\",\"name\":\"5\",\"scene\":\"scene\",\"showlegend\":false,\"x\":[0.13665614381432611,-14.204270143132705],\"y\":[0,150],\"z\":[18.676529739796692,12.127248151335126],\"type\":\"scatter3d\"},{\"hovertemplate\":\"ring=5\\u003cbr\\u003eRing and Wire=Ring: 5 Wire: 27\\u003cbr\\u003ex=%{x}\\u003cbr\\u003ez=%{y}\\u003cbr\\u003ey=%{z}\\u003cextra\\u003e\\u003c\\u002fextra\\u003e\",\"legendgroup\":\"5\",\"line\":{\"color\":\"#EF553B\",\"dash\":\"solid\",\"width\":5},\"marker\":{\"symbol\":\"circle\"},\"mode\":\"lines\",\"name\":\"5\",\"scene\":\"scene\",\"showlegend\":false,\"x\":[-1.6392796655036923,-15.292720333565654],\"y\":[0,150],\"z\":[18.604950959393,10.722133314900537],\"type\":\"scatter3d\"},{\"hovertemplate\":\"ring=5\\u003cbr\\u003eRing and Wire=Ring: 5 Wire: 28\\u003cbr\\u003ex=%{x}\\u003cbr\\u003ez=%{y}\\u003cbr\\u003ey=%{z}\\u003cextra\\u003e\\u003c\\u002fextra\\u003e\",\"legendgroup\":\"5\",\"line\":{\"color\":\"#EF553B\",\"dash\":\"solid\",\"width\":5},\"marker\":{\"symbol\":\"circle\"},\"mode\":\"lines\",\"name\":\"5\",\"scene\":\"scene\",\"showlegend\":false,\"x\":[-3.400369904322182,-16.242677280521512],\"y\":[0,150],\"z\":[18.364882862053122,9.219917178802786],\"type\":\"scatter3d\"},{\"hovertemplate\":\"ring=5\\u003cbr\\u003eRing and Wire=Ring: 5 Wire: 29\\u003cbr\\u003ex=%{x}\\u003cbr\\u003ez=%{y}\\u003cbr\\u003ey=%{z}\\u003cextra\\u003e\\u003c\\u002fextra\\u003e\",\"legendgroup\":\"5\",\"line\":{\"color\":\"#EF553B\",\"dash\":\"solid\",\"width\":5},\"marker\":{\"symbol\":\"circle\"},\"mode\":\"lines\",\"name\":\"5\",\"scene\":\"scene\",\"showlegend\":false,\"x\":[-5.130665866726822,-17.04553802678417],\"y\":[0,150],\"z\":[17.958499541642023,7.634204044994302],\"type\":\"scatter3d\"},{\"hovertemplate\":\"ring=5\\u003cbr\\u003eRing and Wire=Ring: 5 Wire: 30\\u003cbr\\u003ex=%{x}\\u003cbr\\u003ez=%{y}\\u003cbr\\u003ey=%{z}\\u003cextra\\u003e\\u003c\\u002fextra\\u003e\",\"legendgroup\":\"5\",\"line\":{\"color\":\"#EF553B\",\"dash\":\"solid\",\"width\":5},\"marker\":{\"symbol\":\"circle\"},\"mode\":\"lines\",\"name\":\"5\",\"scene\":\"scene\",\"showlegend\":false,\"x\":[-6.814497724539121,-17.694031741109406],\"y\":[0,150],\"z\":[17.389481268439365,5.979354377168607],\"type\":\"scatter3d\"},{\"hovertemplate\":\"ring=5\\u003cbr\\u003eRing and Wire=Ring: 5 Wire: 31\\u003cbr\\u003ex=%{x}\\u003cbr\\u003ez=%{y}\\u003cbr\\u003ey=%{z}\\u003cextra\\u003e\\u003c\\u002fextra\\u003e\",\"legendgroup\":\"5\",\"line\":{\"color\":\"#EF553B\",\"dash\":\"solid\",\"width\":5},\"marker\":{\"symbol\":\"circle\"},\"mode\":\"lines\",\"name\":\"5\",\"scene\":\"scene\",\"showlegend\":false,\"x\":[-8.43661643570691,-18.182285563998555],\"y\":[0,150],\"z\":[16.662981160041937,4.2703547501773516],\"type\":\"scatter3d\"},{\"hovertemplate\":\"ring=5\\u003cbr\\u003eRing and Wire=Ring: 5 Wire: 32\\u003cbr\\u003ex=%{x}\\u003cbr\\u003ez=%{y}\\u003cbr\\u003ey=%{z}\\u003cextra\\u003e\\u003c\\u002fextra\\u003e\",\"legendgroup\":\"5\",\"line\":{\"color\":\"#EF553B\",\"dash\":\"solid\",\"width\":5},\"marker\":{\"symbol\":\"circle\"},\"mode\":\"lines\",\"name\":\"5\",\"scene\":\"scene\",\"showlegend\":false,\"x\":[-9.982331841990568,-18.50587779322356],\"y\":[0,150],\"z\":[15.785578513932698,2.5226821292876886],\"type\":\"scatter3d\"},{\"hovertemplate\":\"ring=5\\u003cbr\\u003eRing and Wire=Ring: 5 Wire: 33\\u003cbr\\u003ex=%{x}\\u003cbr\\u003ez=%{y}\\u003cbr\\u003ey=%{z}\\u003cextra\\u003e\\u003c\\u002fextra\\u003e\",\"legendgroup\":\"5\",\"line\":{\"color\":\"#EF553B\",\"dash\":\"solid\",\"width\":5},\"marker\":{\"symbol\":\"circle\"},\"mode\":\"lines\",\"name\":\"5\",\"scene\":\"scene\",\"showlegend\":false,\"x\":[-11.437645705310835,-18.66187792744707],\"y\":[0,150],\"z\":[14.76521922434398,0.7521637083882053],\"type\":\"scatter3d\"},{\"hovertemplate\":\"ring=5\\u003cbr\\u003eRing and Wire=Ring: 5 Wire: 34\\u003cbr\\u003ex=%{x}\\u003cbr\\u003ez=%{y}\\u003cbr\\u003ey=%{z}\\u003cextra\\u003e\\u003c\\u002fextra\\u003e\",\"legendgroup\":\"5\",\"line\":{\"color\":\"#EF553B\",\"dash\":\"solid\",\"width\":5},\"marker\":{\"symbol\":\"circle\"},\"mode\":\"lines\",\"name\":\"5\",\"scene\":\"scene\",\"showlegend\":false,\"x\":[-12.789378477960556,-18.648873205296333],\"y\":[0,150],\"z\":[13.611143823008845,-1.0251664235298739],\"type\":\"scatter3d\"},{\"hovertemplate\":\"ring=5\\u003cbr\\u003eRing and Wire=Ring: 5 Wire: 35\\u003cbr\\u003ex=%{x}\\u003cbr\\u003ez=%{y}\\u003cbr\\u003ey=%{z}\\u003cextra\\u003e\\u003c\\u002fextra\\u003e\",\"legendgroup\":\"5\",\"line\":{\"color\":\"#EF553B\",\"dash\":\"solid\",\"width\":5},\"marker\":{\"symbol\":\"circle\"},\"mode\":\"lines\",\"name\":\"5\",\"scene\":\"scene\",\"showlegend\":false,\"x\":[-14.025288658629613,-18.46698139954897],\"y\":[0,150],\"z\":[12.333803795474777,-2.7932124895655175],\"type\":\"scatter3d\"},{\"hovertemplate\":\"ring=5\\u003cbr\\u003eRing and Wire=Ring: 5 Wire: 36\\u003cbr\\u003ex=%{x}\\u003cbr\\u003ez=%{y}\\u003cbr\\u003ey=%{z}\\u003cextra\\u003e\\u003c\\u002fextra\\u003e\",\"legendgroup\":\"5\",\"line\":{\"color\":\"#EF553B\",\"dash\":\"solid\",\"width\":5},\"marker\":{\"symbol\":\"circle\"},\"mode\":\"lines\",\"name\":\"5\",\"scene\":\"scene\",\"showlegend\":false,\"x\":[-15.13418365333644,-18.117849750564485],\"y\":[0,150],\"z\":[10.944766930832131,-4.535962790755994],\"type\":\"scatter3d\"},{\"hovertemplate\":\"ring=5\\u003cbr\\u003eRing and Wire=Ring: 5 Wire: 37\\u003cbr\\u003ex=%{x}\\u003cbr\\u003ez=%{y}\\u003cbr\\u003ey=%{z}\\u003cextra\\u003e\\u003c\\u002fextra\\u003e\",\"legendgroup\":\"5\",\"line\":{\"color\":\"#EF553B\",\"dash\":\"solid\",\"width\":5},\"marker\":{\"symbol\":\"circle\"},\"mode\":\"lines\",\"name\":\"5\",\"scene\":\"scene\",\"showlegend\":false,\"x\":[-16.106021137292338,-17.604640048620446],\"y\":[0,150],\"z\":[9.456612562024777,-6.237634710502178],\"type\":\"scatter3d\"},{\"hovertemplate\":\"ring=5\\u003cbr\\u003eRing and Wire=Ring: 5 Wire: 38\\u003cbr\\u003ex=%{x}\\u003cbr\\u003ez=%{y}\\u003cbr\\u003ey=%{z}\\u003cextra\\u003e\\u003c\\u002fextra\\u003e\",\"legendgroup\":\"5\",\"line\":{\"color\":\"#EF553B\",\"dash\":\"solid\",\"width\":5},\"marker\":{\"symbol\":\"circle\"},\"mode\":\"lines\",\"name\":\"5\",\"scene\":\"scene\",\"showlegend\":false,\"x\":[-16.93199999974985,-16.93200000025015],\"y\":[0,150],\"z\":[7.882817645463044,-7.882817644388425],\"type\":\"scatter3d\"},{\"hovertemplate\":\"ring=5\\u003cbr\\u003eRing and Wire=Ring: 5 Wire: 39\\u003cbr\\u003ex=%{x}\\u003cbr\\u003ez=%{y}\\u003cbr\\u003ey=%{z}\\u003cextra\\u003e\\u003c\\u002fextra\\u003e\",\"legendgroup\":\"5\",\"line\":{\"color\":\"#EF553B\",\"dash\":\"solid\",\"width\":5},\"marker\":{\"symbol\":\"circle\"},\"mode\":\"lines\",\"name\":\"5\",\"scene\":\"scene\",\"showlegend\":false,\"x\":[-17.604640048224564,-16.106021137892522],\"y\":[0,150],\"z\":[6.237634711619489,-9.45661256100258],\"type\":\"scatter3d\"},{\"hovertemplate\":\"ring=5\\u003cbr\\u003eRing and Wire=Ring: 5 Wire: 40\\u003cbr\\u003ex=%{x}\\u003cbr\\u003ez=%{y}\\u003cbr\\u003ey=%{z}\\u003cextra\\u003e\\u003c\\u002fextra\\u003e\",\"legendgroup\":\"5\",\"line\":{\"color\":\"#EF553B\",\"dash\":\"solid\",\"width\":5},\"marker\":{\"symbol\":\"circle\"},\"mode\":\"lines\",\"name\":\"5\",\"scene\":\"scene\",\"showlegend\":false,\"x\":[-18.1178497502766,-15.134183654031073],\"y\":[0,150],\"z\":[4.5359627919058845,-10.944766929871607],\"type\":\"scatter3d\"},{\"hovertemplate\":\"ring=5\\u003cbr\\u003eRing and Wire=Ring: 5 Wire: 41\\u003cbr\\u003ex=%{x}\\u003cbr\\u003ez=%{y}\\u003cbr\\u003ey=%{z}\\u003cextra\\u003e\\u003c\\u002fextra\\u003e\",\"legendgroup\":\"5\",\"line\":{\"color\":\"#EF553B\",\"dash\":\"solid\",\"width\":5},\"marker\":{\"symbol\":\"circle\"},\"mode\":\"lines\",\"name\":\"5\",\"scene\":\"scene\",\"showlegend\":false,\"x\":[-18.466981399371694,-14.0252886594124],\"y\":[0,150],\"z\":[2.7932124907375586,-12.333803794584636],\"type\":\"scatter3d\"},{\"hovertemplate\":\"ring=5\\u003cbr\\u003eRing and Wire=Ring: 5 Wire: 42\\u003cbr\\u003ex=%{x}\\u003cbr\\u003ez=%{y}\\u003cbr\\u003ey=%{z}\\u003cextra\\u003e\\u003c\\u002fextra\\u003e\",\"legendgroup\":\"5\",\"line\":{\"color\":\"#EF553B\",\"dash\":\"solid\",\"width\":5},\"marker\":{\"symbol\":\"circle\"},\"mode\":\"lines\",\"name\":\"5\",\"scene\":\"scene\",\"showlegend\":false,\"x\":[-18.64887320523127,-12.789378478824412],\"y\":[0,150],\"z\":[1.0251664247134586,-13.611143822197143],\"type\":\"scatter3d\"},{\"hovertemplate\":\"ring=5\\u003cbr\\u003eRing and Wire=Ring: 5 Wire: 43\\u003cbr\\u003ex=%{x}\\u003cbr\\u003ez=%{y}\\u003cbr\\u003ey=%{z}\\u003cextra\\u003e\\u003c\\u002fextra\\u003e\",\"legendgroup\":\"5\",\"line\":{\"color\":\"#EF553B\",\"dash\":\"solid\",\"width\":5},\"marker\":{\"symbol\":\"circle\"},\"mode\":\"lines\",\"name\":\"5\",\"scene\":\"scene\",\"showlegend\":false,\"x\":[-18.661877927494807,-11.437645706247938],\"y\":[0,150],\"z\":[-0.7521637072037963,-14.765219223618068],\"type\":\"scatter3d\"},{\"hovertemplate\":\"ring=5\\u003cbr\\u003eRing and Wire=Ring: 5 Wire: 44\\u003cbr\\u003ex=%{x}\\u003cbr\\u003ez=%{y}\\u003cbr\\u003ey=%{z}\\u003cextra\\u003e\\u003c\\u002fextra\\u003e\",\"legendgroup\":\"5\",\"line\":{\"color\":\"#EF553B\",\"dash\":\"solid\",\"width\":5},\"marker\":{\"symbol\":\"circle\"},\"mode\":\"lines\",\"name\":\"5\",\"scene\":\"scene\",\"showlegend\":false,\"x\":[-18.505877793383668,-9.98233184299243],\"y\":[0,150],\"z\":[-2.5226821281131784,-15.78557851329915],\"type\":\"scatter3d\"},{\"hovertemplate\":\"ring=5\\u003cbr\\u003eRing and Wire=Ring: 5 Wire: 45\\u003cbr\\u003ex=%{x}\\u003cbr\\u003ez=%{y}\\u003cbr\\u003ey=%{z}\\u003cextra\\u003e\\u003c\\u002fextra\\u003e\",\"legendgroup\":\"5\",\"line\":{\"color\":\"#EF553B\",\"dash\":\"solid\",\"width\":5},\"marker\":{\"symbol\":\"circle\"},\"mode\":\"lines\",\"name\":\"5\",\"scene\":\"scene\",\"showlegend\":false,\"x\":[-18.18228556426958,-8.436616436764464],\"y\":[0,150],\"z\":[-4.2703547490233715,-16.662981159506487],\"type\":\"scatter3d\"},{\"hovertemplate\":\"ring=5\\u003cbr\\u003eRing and Wire=Ring: 5 Wire: 46\\u003cbr\\u003ex=%{x}\\u003cbr\\u003ez=%{y}\\u003cbr\\u003ey=%{z}\\u003cextra\\u003e\\u003c\\u002fextra\\u003e\",\"legendgroup\":\"5\",\"line\":{\"color\":\"#EF553B\",\"dash\":\"solid\",\"width\":5},\"marker\":{\"symbol\":\"circle\"},\"mode\":\"lines\",\"name\":\"5\",\"scene\":\"scene\",\"showlegend\":false,\"x\":[-17.694031741488892,-6.81449772564277],\"y\":[0,150],\"z\":[-5.979354376045631,-17.389481268006875],\"type\":\"scatter3d\"},{\"hovertemplate\":\"ring=5\\u003cbr\\u003eRing and Wire=Ring: 5 Wire: 47\\u003cbr\\u003ex=%{x}\\u003cbr\\u003ez=%{y}\\u003cbr\\u003ey=%{z}\\u003cextra\\u003e\\u003c\\u002fextra\\u003e\",\"legendgroup\":\"5\",\"line\":{\"color\":\"#EF553B\",\"dash\":\"solid\",\"width\":5},\"marker\":{\"symbol\":\"circle\"},\"mode\":\"lines\",\"name\":\"5\",\"scene\":\"scene\",\"showlegend\":false,\"x\":[-17.045538027268684,-5.1306658678665915],\"y\":[0,150],\"z\":[-7.634204043912476,-17.958499541316396],\"type\":\"scatter3d\"},{\"hovertemplate\":\"ring=5\\u003cbr\\u003eRing and Wire=Ring: 5 Wire: 48\\u003cbr\\u003ex=%{x}\\u003cbr\\u003ez=%{y}\\u003cbr\\u003ey=%{z}\\u003cextra\\u003e\\u003c\\u002fextra\\u003e\",\"legendgroup\":\"5\",\"line\":{\"color\":\"#EF553B\",\"dash\":\"solid\",\"width\":5},\"marker\":{\"symbol\":\"circle\"},\"mode\":\"lines\",\"name\":\"5\",\"scene\":\"scene\",\"showlegend\":false,\"x\":[-16.242677281106676,-3.400369905487751],\"y\":[0,150],\"z\":[-9.219917177771908,-18.36488286183731],\"type\":\"scatter3d\"},{\"hovertemplate\":\"ring=5\\u003cbr\\u003eRing and Wire=Ring: 5 Wire: 49\\u003cbr\\u003ex=%{x}\\u003cbr\\u003ez=%{y}\\u003cbr\\u003ey=%{z}\\u003cextra\\u003e\\u003c\\u002fextra\\u003e\",\"legendgroup\":\"5\",\"line\":{\"color\":\"#EF553B\",\"dash\":\"solid\",\"width\":5},\"marker\":{\"symbol\":\"circle\"},\"mode\":\"lines\",\"name\":\"5\",\"scene\":\"scene\",\"showlegend\":false,\"x\":[-15.292720334246154,-1.639279666684489],\"y\":[0,150],\"z\":[-10.722133313929959,-18.60495095928896],\"type\":\"scatter3d\"},{\"hovertemplate\":\"ring=5\\u003cbr\\u003eRing and Wire=Ring: 5 Wire: 50\\u003cbr\\u003ex=%{x}\\u003cbr\\u003ez=%{y}\\u003cbr\\u003ey=%{z}\\u003cextra\\u003e\\u003c\\u002fextra\\u003e\",\"legendgroup\":\"5\",\"line\":{\"color\":\"#EF553B\",\"dash\":\"solid\",\"width\":5},\"marker\":{\"symbol\":\"circle\"},\"mode\":\"lines\",\"name\":\"5\",\"scene\":\"scene\",\"showlegend\":false,\"x\":[-14.204270143902384,0.13665614262898718],\"y\":[0,150],\"z\":[-12.127248150433626,-18.676529739805364],\"type\":\"scatter3d\"},{\"hovertemplate\":\"ring=5\\u003cbr\\u003eRing and Wire=Ring: 5 Wire: 51\\u003cbr\\u003ex=%{x}\\u003cbr\\u003ez=%{y}\\u003cbr\\u003ey=%{z}\\u003cextra\\u003e\\u003c\\u002fextra\\u003e\",\"legendgroup\":\"5\",\"line\":{\"color\":\"#EF553B\",\"dash\":\"solid\",\"width\":5},\"marker\":{\"symbol\":\"circle\"},\"mode\":\"lines\",\"name\":\"5\",\"scene\":\"scene\",\"showlegend\":false,\"x\":[-12.987183883549775,1.9113543727531024],\"y\":[0,150],\"z\":[-13.42253674973615,-18.578970974865914],\"type\":\"scatter3d\"},{\"hovertemplate\":\"ring=5\\u003cbr\\u003eRing and Wire=Ring: 5 Wire: 52\\u003cbr\\u003ex=%{x}\\u003cbr\\u003ez=%{y}\\u003cbr\\u003ey=%{z}\\u003cextra\\u003e\\u003c\\u002fextra\\u003e\",\"legendgroup\":\"5\",\"line\":{\"color\":\"#EF553B\",\"dash\":\"solid\",\"width\":5},\"marker\":{\"symbol\":\"circle\"},\"mode\":\"lines\",\"name\":\"5\",\"scene\":\"scene\",\"showlegend\":false,\"x\":[-11.652483674832578,3.668743081697003],\"y\":[0,150],\"z\":[-14.59626877770181,-18.313158171753248],\"type\":\"scatter3d\"},{\"hovertemplate\":\"ring=5\\u003cbr\\u003eRing and Wire=Ring: 5 Wire: 53\\u003cbr\\u003ex=%{x}\\u003cbr\\u003ez=%{y}\\u003cbr\\u003ey=%{z}\\u003cextra\\u003e\\u003c\\u002fextra\\u003e\",\"legendgroup\":\"5\",\"line\":{\"color\":\"#EF553B\",\"dash\":\"solid\",\"width\":5},\"marker\":{\"symbol\":\"circle\"},\"mode\":\"lines\",\"name\":\"5\",\"scene\":\"scene\",\"showlegend\":false,\"x\":[-10.212256769524359,5.392907085174136],\"y\":[0,150],\"z\":[-15.637814735328472,-17.881498572374493],\"type\":\"scatter3d\"},{\"hovertemplate\":\"ring=5\\u003cbr\\u003eRing and Wire=Ring: 5 Wire: 54\\u003cbr\\u003ex=%{x}\\u003cbr\\u003ez=%{y}\\u003cbr\\u003ey=%{z}\\u003cextra\\u003e\\u003c\\u002fextra\\u003e\",\"legendgroup\":\"5\",\"line\":{\"color\":\"#EF553B\",\"dash\":\"solid\",\"width\":5},\"marker\":{\"symbol\":\"circle\"},\"mode\":\"lines\",\"name\":\"5\",\"scene\":\"scene\",\"showlegend\":false,\"x\":[-8.679546085504235,7.068232086975627],\"y\":[0,150],\"z\":[-16.53774222113649,-17.287901352905756],\"type\":\"scatter3d\"},{\"hovertemplate\":\"ring=5\\u003cbr\\u003eRing and Wire=Ring: 5 Wire: 55\\u003cbr\\u003ex=%{x}\\u003cbr\\u003ez=%{y}\\u003cbr\\u003ey=%{z}\\u003cextra\\u003e\\u003c\\u002fextra\\u003e\",\"legendgroup\":\"5\",\"line\":{\"color\":\"#EF553B\",\"dash\":\"solid\",\"width\":5},\"marker\":{\"symbol\":\"circle\"},\"mode\":\"lines\",\"name\":\"5\",\"scene\":\"scene\",\"showlegend\":false,\"x\":[-7.068232088072838,8.679546084454635],\"y\":[0,150],\"z\":[-17.28790135245716,-16.537742221687356],\"type\":\"scatter3d\"},{\"hovertemplate\":\"ring=5\\u003cbr\\u003eRing and Wire=Ring: 5 Wire: 56\\u003cbr\\u003ex=%{x}\\u003cbr\\u003ez=%{y}\\u003cbr\\u003ey=%{z}\\u003cextra\\u003e\\u003c\\u002fextra\\u003e\",\"legendgroup\":\"5\",\"line\":{\"color\":\"#EF553B\",\"dash\":\"solid\",\"width\":5},\"marker\":{\"symbol\":\"circle\"},\"mode\":\"lines\",\"name\":\"5\",\"scene\":\"scene\",\"showlegend\":false,\"x\":[-5.392907086309037,10.212256768531862],\"y\":[0,150],\"z\":[-17.881498572032218,-15.637814735976622],\"type\":\"scatter3d\"},{\"hovertemplate\":\"ring=5\\u003cbr\\u003eRing and Wire=Ring: 5 Wire: 57\\u003cbr\\u003ex=%{x}\\u003cbr\\u003ez=%{y}\\u003cbr\\u003ey=%{z}\\u003cextra\\u003e\\u003c\\u002fextra\\u003e\",\"legendgroup\":\"5\",\"line\":{\"color\":\"#EF553B\",\"dash\":\"solid\",\"width\":5},\"marker\":{\"symbol\":\"circle\"},\"mode\":\"lines\",\"name\":\"5\",\"scene\":\"scene\",\"showlegend\":false,\"x\":[-3.6687430828592835,11.652483673906197],\"y\":[0,150],\"z\":[-18.313158171520406,-14.596268778441358],\"type\":\"scatter3d\"},{\"hovertemplate\":\"ring=5\\u003cbr\\u003eRing and Wire=Ring: 5 Wire: 58\\u003cbr\\u003ex=%{x}\\u003cbr\\u003ez=%{y}\\u003cbr\\u003ey=%{z}\\u003cextra\\u003e\\u003c\\u002fextra\\u003e\",\"legendgroup\":\"5\",\"line\":{\"color\":\"#EF553B\",\"dash\":\"solid\",\"width\":5},\"marker\":{\"symbol\":\"circle\"},\"mode\":\"lines\",\"name\":\"5\",\"scene\":\"scene\",\"showlegend\":false,\"x\":[-1.9113543739322534,12.987183882697888],\"y\":[0,150],\"z\":[-18.578970974744607,-13.422536750560404],\"type\":\"scatter3d\"},{\"hovertemplate\":\"ring=5\\u003cbr\\u003eRing and Wire=Ring: 5 Wire: 59\\u003cbr\\u003ex=%{x}\\u003cbr\\u003ez=%{y}\\u003cbr\\u003ey=%{z}\\u003cextra\\u003e\\u003c\\u002fextra\\u003e\",\"legendgroup\":\"5\",\"line\":{\"color\":\"#EF553B\",\"dash\":\"solid\",\"width\":5},\"marker\":{\"symbol\":\"circle\"},\"mode\":\"lines\",\"name\":\"5\",\"scene\":\"scene\",\"showlegend\":false,\"x\":[-0.13665614381432878,14.204270143132703],\"y\":[0,150],\"z\":[-18.676529739796692,-12.127248151335127],\"type\":\"scatter3d\"},{\"hovertemplate\":\"ring=5\\u003cbr\\u003eRing and Wire=Ring: 5 Wire: 60\\u003cbr\\u003ex=%{x}\\u003cbr\\u003ez=%{y}\\u003cbr\\u003ey=%{z}\\u003cextra\\u003e\\u003c\\u002fextra\\u003e\",\"legendgroup\":\"5\",\"line\":{\"color\":\"#EF553B\",\"dash\":\"solid\",\"width\":5},\"marker\":{\"symbol\":\"circle\"},\"mode\":\"lines\",\"name\":\"5\",\"scene\":\"scene\",\"showlegend\":false,\"x\":[1.6392796655036896,15.292720333565654],\"y\":[0,150],\"z\":[-18.604950959393,-10.722133314900539],\"type\":\"scatter3d\"},{\"hovertemplate\":\"ring=5\\u003cbr\\u003eRing and Wire=Ring: 5 Wire: 61\\u003cbr\\u003ex=%{x}\\u003cbr\\u003ez=%{y}\\u003cbr\\u003ey=%{z}\\u003cextra\\u003e\\u003c\\u002fextra\\u003e\",\"legendgroup\":\"5\",\"line\":{\"color\":\"#EF553B\",\"dash\":\"solid\",\"width\":5},\"marker\":{\"symbol\":\"circle\"},\"mode\":\"lines\",\"name\":\"5\",\"scene\":\"scene\",\"showlegend\":false,\"x\":[3.4003699043221705,16.242677280521505],\"y\":[0,150],\"z\":[-18.364882862053122,-9.219917178802795],\"type\":\"scatter3d\"},{\"hovertemplate\":\"ring=5\\u003cbr\\u003eRing and Wire=Ring: 5 Wire: 62\\u003cbr\\u003ex=%{x}\\u003cbr\\u003ez=%{y}\\u003cbr\\u003ey=%{z}\\u003cextra\\u003e\\u003c\\u002fextra\\u003e\",\"legendgroup\":\"5\",\"line\":{\"color\":\"#EF553B\",\"dash\":\"solid\",\"width\":5},\"marker\":{\"symbol\":\"circle\"},\"mode\":\"lines\",\"name\":\"5\",\"scene\":\"scene\",\"showlegend\":false,\"x\":[5.13066586672682,17.04553802678417],\"y\":[0,150],\"z\":[-17.958499541642023,-7.634204044994305],\"type\":\"scatter3d\"},{\"hovertemplate\":\"ring=5\\u003cbr\\u003eRing and Wire=Ring: 5 Wire: 63\\u003cbr\\u003ex=%{x}\\u003cbr\\u003ez=%{y}\\u003cbr\\u003ey=%{z}\\u003cextra\\u003e\\u003c\\u002fextra\\u003e\",\"legendgroup\":\"5\",\"line\":{\"color\":\"#EF553B\",\"dash\":\"solid\",\"width\":5},\"marker\":{\"symbol\":\"circle\"},\"mode\":\"lines\",\"name\":\"5\",\"scene\":\"scene\",\"showlegend\":false,\"x\":[6.814497724539113,17.694031741109402],\"y\":[0,150],\"z\":[-17.38948126843937,-5.979354377168617],\"type\":\"scatter3d\"},{\"hovertemplate\":\"ring=5\\u003cbr\\u003eRing and Wire=Ring: 5 Wire: 64\\u003cbr\\u003ex=%{x}\\u003cbr\\u003ez=%{y}\\u003cbr\\u003ey=%{z}\\u003cextra\\u003e\\u003c\\u002fextra\\u003e\",\"legendgroup\":\"5\",\"line\":{\"color\":\"#EF553B\",\"dash\":\"solid\",\"width\":5},\"marker\":{\"symbol\":\"circle\"},\"mode\":\"lines\",\"name\":\"5\",\"scene\":\"scene\",\"showlegend\":false,\"x\":[8.436616435706917,18.182285563998555],\"y\":[0,150],\"z\":[-16.662981160041934,-4.2703547501773444],\"type\":\"scatter3d\"},{\"hovertemplate\":\"ring=5\\u003cbr\\u003eRing and Wire=Ring: 5 Wire: 65\\u003cbr\\u003ex=%{x}\\u003cbr\\u003ez=%{y}\\u003cbr\\u003ey=%{z}\\u003cextra\\u003e\\u003c\\u002fextra\\u003e\",\"legendgroup\":\"5\",\"line\":{\"color\":\"#EF553B\",\"dash\":\"solid\",\"width\":5},\"marker\":{\"symbol\":\"circle\"},\"mode\":\"lines\",\"name\":\"5\",\"scene\":\"scene\",\"showlegend\":false,\"x\":[9.982331841990568,18.50587779322356],\"y\":[0,150],\"z\":[-15.785578513932698,-2.5226821292876904],\"type\":\"scatter3d\"},{\"hovertemplate\":\"ring=5\\u003cbr\\u003eRing and Wire=Ring: 5 Wire: 66\\u003cbr\\u003ex=%{x}\\u003cbr\\u003ez=%{y}\\u003cbr\\u003ey=%{z}\\u003cextra\\u003e\\u003c\\u002fextra\\u003e\",\"legendgroup\":\"5\",\"line\":{\"color\":\"#EF553B\",\"dash\":\"solid\",\"width\":5},\"marker\":{\"symbol\":\"circle\"},\"mode\":\"lines\",\"name\":\"5\",\"scene\":\"scene\",\"showlegend\":false,\"x\":[11.437645705310828,18.66187792744707],\"y\":[0,150],\"z\":[-14.765219224343987,-0.752163708388216],\"type\":\"scatter3d\"},{\"hovertemplate\":\"ring=9\\u003cbr\\u003eRing and Wire=Ring: 9 Wire: 1\\u003cbr\\u003ex=%{x}\\u003cbr\\u003ez=%{y}\\u003cbr\\u003ey=%{z}\\u003cextra\\u003e\\u003c\\u002fextra\\u003e\",\"legendgroup\":\"9\",\"line\":{\"color\":\"#00cc96\",\"dash\":\"solid\",\"width\":5},\"marker\":{\"symbol\":\"circle\"},\"mode\":\"lines\",\"name\":\"9\",\"scene\":\"scene\",\"showlegend\":true,\"x\":[19.893744737940725,25.118753247208954],\"y\":[0,150],\"z\":[15.343080971069924,0.46845350781274764],\"type\":\"scatter3d\"},{\"hovertemplate\":\"ring=9\\u003cbr\\u003eRing and Wire=Ring: 9 Wire: 2\\u003cbr\\u003ex=%{x}\\u003cbr\\u003ez=%{y}\\u003cbr\\u003ey=%{z}\\u003cextra\\u003e\\u003c\\u002fextra\\u003e\",\"legendgroup\":\"9\",\"line\":{\"color\":\"#00cc96\",\"dash\":\"solid\",\"width\":5},\"marker\":{\"symbol\":\"circle\"},\"mode\":\"lines\",\"name\":\"9\",\"scene\":\"scene\",\"showlegend\":false,\"x\":[18.81255192835284,25.029822514568494],\"y\":[0,150],\"z\":[16.651099162703357,2.1631454579737737],\"type\":\"scatter3d\"},{\"hovertemplate\":\"ring=9\\u003cbr\\u003eRing and Wire=Ring: 9 Wire: 3\\u003cbr\\u003ex=%{x}\\u003cbr\\u003ez=%{y}\\u003cbr\\u003ey=%{z}\\u003cextra\\u003e\\u003c\\u002fextra\\u003e\",\"legendgroup\":\"9\",\"line\":{\"color\":\"#00cc96\",\"dash\":\"solid\",\"width\":5},\"marker\":{\"symbol\":\"circle\"},\"mode\":\"lines\",\"name\":\"9\",\"scene\":\"scene\",\"showlegend\":false,\"x\":[17.645521759165444,24.82668644263769],\"y\":[0,150],\"z\":[17.883142207955828,3.8479674715494117],\"type\":\"scatter3d\"},{\"hovertemplate\":\"ring=9\\u003cbr\\u003eRing and Wire=Ring: 9 Wire: 4\\u003cbr\\u003ex=%{x}\\u003cbr\\u003ez=%{y}\\u003cbr\\u003ey=%{z}\\u003cextra\\u003e\\u003c\\u002fextra\\u003e\",\"legendgroup\":\"9\",\"line\":{\"color\":\"#00cc96\",\"dash\":\"solid\",\"width\":5},\"marker\":{\"symbol\":\"circle\"},\"mode\":\"lines\",\"name\":\"9\",\"scene\":\"scene\",\"showlegend\":false,\"x\":[16.397979121370344,24.510271894721445],\"y\":[0,150],\"z\":[19.033588576993427,5.515232092122733],\"type\":\"scatter3d\"},{\"hovertemplate\":\"ring=9\\u003cbr\\u003eRing and Wire=Ring: 9 Wire: 5\\u003cbr\\u003ex=%{x}\\u003cbr\\u003ez=%{y}\\u003cbr\\u003ey=%{z}\\u003cextra\\u003e\\u003c\\u002fextra\\u003e\",\"legendgroup\":\"9\",\"line\":{\"color\":\"#00cc96\",\"dash\":\"solid\",\"width\":5},\"marker\":{\"symbol\":\"circle\"},\"mode\":\"lines\",\"name\":\"9\",\"scene\":\"scene\",\"showlegend\":false,\"x\":[15.075616265887245,24.082022597829013],\"y\":[0,150],\"z\":[20.09718904690077,7.15733197363411],\"type\":\"scatter3d\"},{\"hovertemplate\":\"ring=9\\u003cbr\\u003eRing and Wire=Ring: 9 Wire: 6\\u003cbr\\u003ex=%{x}\\u003cbr\\u003ez=%{y}\\u003cbr\\u003ey=%{z}\\u003cextra\\u003e\\u003c\\u002fextra\\u003e\",\"legendgroup\":\"9\",\"line\":{\"color\":\"#00cc96\",\"dash\":\"solid\",\"width\":5},\"marker\":{\"symbol\":\"circle\"},\"mode\":\"lines\",\"name\":\"9\",\"scene\":\"scene\",\"showlegend\":false,\"x\":[13.684466831128379,23.5438925552788],\"y\":[0,150],\"z\":[21.069090652681233,8.766774590956473],\"type\":\"scatter3d\"},{\"hovertemplate\":\"ring=9\\u003cbr\\u003eRing and Wire=Ring: 9 Wire: 7\\u003cbr\\u003ex=%{x}\\u003cbr\\u003ez=%{y}\\u003cbr\\u003ey=%{z}\\u003cextra\\u003e\\u003c\\u002fextra\\u003e\",\"legendgroup\":\"9\",\"line\":{\"color\":\"#00cc96\",\"dash\":\"solid\",\"width\":5},\"marker\":{\"symbol\":\"circle\"},\"mode\":\"lines\",\"name\":\"9\",\"scene\":\"scene\",\"showlegend\":false,\"x\":[12.230878312890324,22.898337131029372],\"y\":[0,150],\"z\":[21.94485883022312,10.33621642656896],\"type\":\"scatter3d\"},{\"hovertemplate\":\"ring=9\\u003cbr\\u003eRing and Wire=Ring: 9 Wire: 8\\u003cbr\\u003ex=%{x}\\u003cbr\\u003ez=%{y}\\u003cbr\\u003ey=%{z}\\u003cextra\\u003e\\u003c\\u002fextra\\u003e\",\"legendgroup\":\"9\",\"line\":{\"color\":\"#00cc96\",\"dash\":\"solid\",\"width\":5},\"marker\":{\"symbol\":\"circle\"},\"mode\":\"lines\",\"name\":\"9\",\"scene\":\"scene\",\"showlegend\":false,\"x\":[10.721483102186529,22.148301846416903],\"y\":[0,150],\"z\":[22.720497650198624,11.858496477343072],\"type\":\"scatter3d\"},{\"hovertemplate\":\"ring=9\\u003cbr\\u003eRing and Wire=Ring: 9 Wire: 9\\u003cbr\\u003ex=%{x}\\u003cbr\\u003ez=%{y}\\u003cbr\\u003ey=%{z}\\u003cextra\\u003e\\u003c\\u002fextra\\u003e\",\"legendgroup\":\"9\",\"line\":{\"color\":\"#00cc96\",\"dash\":\"solid\",\"width\":5},\"marker\":{\"symbol\":\"circle\"},\"mode\":\"lines\",\"name\":\"9\",\"scene\":\"scene\",\"showlegend\":false,\"x\":[9.163168223168338,21.297208940416876],\"y\":[0,150],\"z\":[23.392468050572827,13.326668928557499],\"type\":\"scatter3d\"},{\"hovertemplate\":\"ring=9\\u003cbr\\u003eRing and Wire=Ring: 9 Wire: 10\\u003cbr\\u003ex=%{x}\\u003cbr\\u003ez=%{y}\\u003cbr\\u003ey=%{z}\\u003cextra\\u003e\\u003c\\u002fextra\\u003e\",\"legendgroup\":\"9\",\"line\":{\"color\":\"#00cc96\",\"dash\":\"solid\",\"width\":5},\"marker\":{\"symbol\":\"circle\"},\"mode\":\"lines\",\"name\":\"9\",\"scene\":\"scene\",\"showlegend\":false,\"x\":[7.56304390921339,20.348941754752584],\"y\":[0,150],\"z\":[23.957703984532046,14.734034846057584],\"type\":\"scatter3d\"},{\"hovertemplate\":\"ring=9\\u003cbr\\u003eRing and Wire=Ring: 9 Wire: 11\\u003cbr\\u003ex=%{x}\\u003cbr\\u003ez=%{y}\\u003cbr\\u003ey=%{z}\\u003cextra\\u003e\\u003c\\u002fextra\\u003e\",\"legendgroup\":\"9\",\"line\":{\"color\":\"#00cc96\",\"dash\":\"solid\",\"width\":5},\"marker\":{\"symbol\":\"circle\"},\"mode\":\"lines\",\"name\":\"9\",\"scene\":\"scene\",\"showlegend\":false,\"x\":[5.9284111605615255,19.307827015097516],\"y\":[0,150],\"z\":[24.41362641015222,16.07417274195543],\"type\":\"scatter3d\"},{\"hovertemplate\":\"ring=9\\u003cbr\\u003eRing and Wire=Ring: 9 Wire: 12\\u003cbr\\u003ex=%{x}\\u003cbr\\u003ez=%{y}\\u003cbr\\u003ey=%{z}\\u003cextra\\u003e\\u003c\\u002fextra\\u003e\",\"legendgroup\":\"9\",\"line\":{\"color\":\"#00cc96\",\"dash\":\"solid\",\"width\":5},\"marker\":{\"symbol\":\"circle\"},\"mode\":\"lines\",\"name\":\"9\",\"scene\":\"scene\",\"showlegend\":false,\"x\":[4.266728431525233,18.17861508921849],\"y\":[0,150],\"z\":[24.758155057975678,17.340967874406267],\"type\":\"scatter3d\"},{\"hovertemplate\":\"ring=9\\u003cbr\\u003eRing and Wire=Ring: 9 Wire: 13\\u003cbr\\u003ex=%{x}\\u003cbr\\u003ez=%{y}\\u003cbr\\u003ey=%{z}\\u003cextra\\u003e\\u003c\\u002fextra\\u003e\",\"legendgroup\":\"9\",\"line\":{\"color\":\"#00cc96\",\"dash\":\"solid\",\"width\":5},\"marker\":{\"symbol\":\"circle\"},\"mode\":\"lines\",\"name\":\"9\",\"scene\":\"scene\",\"showlegend\":false,\"x\":[2.585577599273331,16.96645831213709],\"y\":[0,150],\"z\":[24.989717922803536,18.528640147773032],\"type\":\"scatter3d\"},{\"hovertemplate\":\"ring=9\\u003cbr\\u003eRing and Wire=Ring: 9 Wire: 14\\u003cbr\\u003ex=%{x}\\u003cbr\\u003ez=%{y}\\u003cbr\\u003ey=%{z}\\u003cextra\\u003e\\u003c\\u002fextra\\u003e\",\"legendgroup\":\"9\",\"line\":{\"color\":\"#00cc96\",\"dash\":\"solid\",\"width\":5},\"marker\":{\"symbol\":\"circle\"},\"mode\":\"lines\",\"name\":\"9\",\"scene\":\"scene\",\"showlegend\":false,\"x\":[0.8926293694643928,15.676887477206689],\"y\":[0,150],\"z\":[25.107258436394883,19.63177048587703],\"type\":\"scatter3d\"},{\"hovertemplate\":\"ring=9\\u003cbr\\u003eRing and Wire=Ring: 9 Wire: 15\\u003cbr\\u003ex=%{x}\\u003cbr\\u003ez=%{y}\\u003cbr\\u003ey=%{z}\\u003cextra\\u003e\\u003c\\u002fextra\\u003e\",\"legendgroup\":\"9\",\"line\":{\"color\":\"#00cc96\",\"dash\":\"solid\",\"width\":5},\"marker\":{\"symbol\":\"circle\"},\"mode\":\"lines\",\"name\":\"9\",\"scene\":\"scene\",\"showlegend\":false,\"x\":[-0.8043917234238194,14.315786600370918],\"y\":[0,150],\"z\":[25.110240288345306,20.645325557999637],\"type\":\"scatter3d\"},{\"hovertemplate\":\"ring=9\\u003cbr\\u003eRing and Wire=Ring: 9 Wire: 16\\u003cbr\\u003ex=%{x}\\u003cbr\\u003ez=%{y}\\u003cbr\\u003ey=%{z}\\u003cextra\\u003e\\u003c\\u002fextra\\u003e\",\"legendgroup\":\"9\",\"line\":{\"color\":\"#00cc96\",\"dash\":\"solid\",\"width\":5},\"marker\":{\"symbol\":\"circle\"},\"mode\":\"lines\",\"name\":\"9\",\"scene\":\"scene\",\"showlegend\":false,\"x\":[-2.497742561373448,12.889366072748494],\"y\":[0,150],\"z\":[24.99864987314827,21.56468074481587],\"type\":\"scatter3d\"},{\"hovertemplate\":\"ring=9\\u003cbr\\u003eRing and Wire=Ring: 9 Wire: 17\\u003cbr\\u003ex=%{x}\\u003cbr\\u003ez=%{y}\\u003cbr\\u003ey=%{z}\\u003cextra\\u003e\\u003c\\u002fextra\\u003e\",\"legendgroup\":\"9\",\"line\":{\"color\":\"#00cc96\",\"dash\":\"solid\",\"width\":5},\"marker\":{\"symbol\":\"circle\"},\"mode\":\"lines\",\"name\":\"9\",\"scene\":\"scene\",\"showlegend\":false,\"x\":[-4.179696772898106,11.404134324042955],\"y\":[0,150],\"z\":[24.772996352273935,22.385641239471738],\"type\":\"scatter3d\"},{\"hovertemplate\":\"ring=9\\u003cbr\\u003eRing and Wire=Ring: 9 Wire: 18\\u003cbr\\u003ex=%{x}\\u003cbr\\u003ez=%{y}\\u003cbr\\u003ey=%{z}\\u003cextra\\u003e\\u003c\\u002fextra\\u003e\",\"legendgroup\":\"9\",\"line\":{\"color\":\"#00cc96\",\"dash\":\"solid\",\"width\":5},\"marker\":{\"symbol\":\"circle\"},\"mode\":\"lines\",\"name\":\"9\",\"scene\":\"scene\",\"showlegend\":false,\"x\":[-5.8425799867038855,9.866868126070658],\"y\":[0,150],\"z\":[24.434309330982117,23.104461187525743],\"type\":\"scatter3d\"},{\"hovertemplate\":\"ring=9\\u003cbr\\u003eRing and Wire=Ring: 9 Wire: 19\\u003cbr\\u003ex=%{x}\\u003cbr\\u003ez=%{y}\\u003cbr\\u003ey=%{z}\\u003cextra\\u003e\\u003c\\u002fextra\\u003e\",\"legendgroup\":\"9\",\"line\":{\"color\":\"#00cc96\",\"dash\":\"solid\",\"width\":5},\"marker\":{\"symbol\":\"circle\"},\"mode\":\"lines\",\"name\":\"9\",\"scene\":\"scene\",\"showlegend\":false,\"x\":[-7.478804848085305,8.28458167190537],\"y\":[0,150],\"z\":[23.984134160469672,23.71786077842355],\"type\":\"scatter3d\"},{\"hovertemplate\":\"ring=9\\u003cbr\\u003eRing and Wire=Ring: 9 Wire: 20\\u003cbr\\u003ex=%{x}\\u003cbr\\u003ez=%{y}\\u003cbr\\u003ey=%{z}\\u003cextra\\u003e\\u003c\\u002fextra\\u003e\",\"legendgroup\":\"9\",\"line\":{\"color\":\"#00cc96\",\"dash\":\"solid\",\"width\":5},\"marker\":{\"symbol\":\"circle\"},\"mode\":\"lines\",\"name\":\"9\",\"scene\":\"scene\",\"showlegend\":false,\"x\":[-9.080905638284639,6.664494571724013],\"y\":[0,150],\"z\":[23.42452488678741,24.22304121052131],\"type\":\"scatter3d\"},{\"hovertemplate\":\"ring=9\\u003cbr\\u003eRing and Wire=Ring: 9 Wire: 21\\u003cbr\\u003ex=%{x}\\u003cbr\\u003ez=%{y}\\u003cbr\\u003ey=%{z}\\u003cextra\\u003e\\u003c\\u002fextra\\u003e\",\"legendgroup\":\"9\",\"line\":{\"color\":\"#00cc96\",\"dash\":\"solid\",\"width\":5},\"marker\":{\"symbol\":\"circle\"},\"mode\":\"lines\",\"name\":\"9\",\"scene\":\"scene\",\"showlegend\":false,\"x\":[-10.641572338854294,5.013998911381286],\"y\":[0,150],\"z\":[22.758034878699075,24.617697461375624],\"type\":\"scatter3d\"},{\"hovertemplate\":\"ring=9\\u003cbr\\u003eRing and Wire=Ring: 9 Wire: 22\\u003cbr\\u003ex=%{x}\\u003cbr\\u003ez=%{y}\\u003cbr\\u003ey=%{z}\\u003cextra\\u003e\\u003c\\u002fextra\\u003e\",\"legendgroup\":\"9\",\"line\":{\"color\":\"#00cc96\",\"dash\":\"solid\",\"width\":5},\"marker\":{\"symbol\":\"circle\"},\"mode\":\"lines\",\"name\":\"9\",\"scene\":\"scene\",\"showlegend\":false,\"x\":[-12.153683985594292,3.340625524017426],\"y\":[0,150],\"z\":[21.987705177245335,24.900028805032246],\"type\":\"scatter3d\"},{\"hovertemplate\":\"ring=9\\u003cbr\\u003eRing and Wire=Ring: 9 Wire: 23\\u003cbr\\u003ex=%{x}\\u003cbr\\u003ez=%{y}\\u003cbr\\u003ey=%{z}\\u003cextra\\u003e\\u003c\\u002fextra\\u003e\",\"legendgroup\":\"9\",\"line\":{\"color\":\"#00cc96\",\"dash\":\"solid\",\"width\":5},\"marker\":{\"symbol\":\"circle\"},\"mode\":\"lines\",\"name\":\"9\",\"scene\":\"scene\",\"showlegend\":false,\"x\":[-13.610341159878692,1.6520096285938273],\"y\":[0,150],\"z\":[21.117050620171,25.068747028325646],\"type\":\"scatter3d\"},{\"hovertemplate\":\"ring=9\\u003cbr\\u003eRing and Wire=Ring: 9 Wire: 24\\u003cbr\\u003ex=%{x}\\u003cbr\\u003ez=%{y}\\u003cbr\\u003ey=%{z}\\u003cextra\\u003e\\u003c\\u002fextra\\u003e\",\"legendgroup\":\"9\",\"line\":{\"color\":\"#00cc96\",\"dash\":\"solid\",\"width\":5},\"marker\":{\"symbol\":\"circle\"},\"mode\":\"lines\",\"name\":\"9\",\"scene\":\"scene\",\"showlegend\":false,\"x\":[-15.004897469120348,-0.044144007859893364],\"y\":[0,150],\"z\":[20.150043804526536,25.123082308700152],\"type\":\"scatter3d\"},{\"hovertemplate\":\"ring=9\\u003cbr\\u003eRing and Wire=Ring: 9 Wire: 25\\u003cbr\\u003ex=%{x}\\u003cbr\\u003ez=%{y}\\u003cbr\\u003ey=%{z}\\u003cextra\\u003e\\u003c\\u002fextra\\u003e\",\"legendgroup\":\"9\",\"line\":{\"color\":\"#00cc96\",\"dash\":\"solid\",\"width\":5},\"marker\":{\"symbol\":\"circle\"},\"mode\":\"lines\",\"name\":\"9\",\"scene\":\"scene\",\"showlegend\":false,\"x\":[-16.330989872735813,-1.7400962253306256],\"y\":[0,150],\"z\":[19.091096960618913,25.06278672673377],\"type\":\"scatter3d\"},{\"hovertemplate\":\"ring=9\\u003cbr\\u003eRing and Wire=Ring: 9 Wire: 26\\u003cbr\\u003ex=%{x}\\u003cbr\\u003ez=%{y}\\u003cbr\\u003ey=%{z}\\u003cextra\\u003e\\u003c\\u002fextra\\u003e\",\"legendgroup\":\"9\",\"line\":{\"color\":\"#00cc96\",\"dash\":\"solid\",\"width\":5},\"marker\":{\"symbol\":\"circle\"},\"mode\":\"lines\",\"name\":\"9\",\"scene\":\"scene\",\"showlegend\":false,\"x\":[-17.582567715240124,-3.4281087828338777],\"y\":[0,150],\"z\":[17.945041820016694,24.888135397337617],\"type\":\"scatter3d\"},{\"hovertemplate\":\"ring=9\\u003cbr\\u003eRing and Wire=Ring: 9 Wire: 27\\u003cbr\\u003ex=%{x}\\u003cbr\\u003ez=%{y}\\u003cbr\\u003ey=%{z}\\u003cextra\\u003e\\u003c\\u002fextra\\u003e\",\"legendgroup\":\"9\",\"line\":{\"color\":\"#00cc96\",\"dash\":\"solid\",\"width\":5},\"marker\":{\"symbol\":\"circle\"},\"mode\":\"lines\",\"name\":\"9\",\"scene\":\"scene\",\"showlegend\":false,\"x\":[-18.75392033400002,-5.100479666232588],\"y\":[0,150],\"z\":[16.71710756946706,24.599925214469664],\"type\":\"scatter3d\"},{\"hovertemplate\":\"ring=9\\u003cbr\\u003eRing and Wire=Ring: 9 Wire: 28\\u003cbr\\u003ex=%{x}\\u003cbr\\u003ez=%{y}\\u003cbr\\u003ey=%{z}\\u003cextra\\u003e\\u003c\\u002fextra\\u003e\",\"legendgroup\":\"9\",\"line\":{\"color\":\"#00cc96\",\"dash\":\"solid\",\"width\":5},\"marker\":{\"symbol\":\"circle\"},\"mode\":\"lines\",\"name\":\"9\",\"scene\":\"scene\",\"showlegend\":false,\"x\":[-19.839703115677697,-6.749578230761016],\"y\":[0,150],\"z\":[15.412896991316105,24.199471215090412],\"type\":\"scatter3d\"},{\"hovertemplate\":\"ring=9\\u003cbr\\u003eRing and Wire=Ring: 9 Wire: 29\\u003cbr\\u003ex=%{x}\\u003cbr\\u003ez=%{y}\\u003cbr\\u003ey=%{z}\\u003cextra\\u003e\\u003c\\u002fextra\\u003e\",\"legendgroup\":\"9\",\"line\":{\"color\":\"#00cc96\",\"dash\":\"solid\",\"width\":5},\"marker\":{\"symbol\":\"circle\"},\"mode\":\"lines\",\"name\":\"9\",\"scene\":\"scene\",\"showlegend\":false,\"x\":[-20.834961882475643,-8.367880017906685],\"y\":[0,150],\"z\":[14.03836089929802,23.688600578950847],\"type\":\"scatter3d\"},{\"hovertemplate\":\"ring=9\\u003cbr\\u003eRing and Wire=Ring: 9 Wire: 30\\u003cbr\\u003ex=%{x}\\u003cbr\\u003ez=%{y}\\u003cbr\\u003ey=%{z}\\u003cextra\\u003e\\u003c\\u002fextra\\u003e\",\"legendgroup\":\"9\",\"line\":{\"color\":\"#00cc96\",\"dash\":\"solid\",\"width\":5},\"marker\":{\"symbol\":\"circle\"},\"mode\":\"lines\",\"name\":\"9\",\"scene\":\"scene\",\"showlegend\":false,\"x\":[-21.73515549691366,-9.948001087788803],\"y\":[0,150],\"z\":[12.599770986336868,23.069644291590304],\"type\":\"scatter3d\"},{\"hovertemplate\":\"ring=9\\u003cbr\\u003eRing and Wire=Ring: 9 Wire: 31\\u003cbr\\u003ex=%{x}\\u003cbr\\u003ez=%{y}\\u003cbr\\u003ey=%{z}\\u003cextra\\u003e\\u003c\\u002fextra\\u003e\",\"legendgroup\":\"9\",\"line\":{\"color\":\"#00cc96\",\"dash\":\"solid\",\"width\":5},\"marker\":{\"symbol\":\"circle\"},\"mode\":\"lines\",\"name\":\"9\",\"scene\":\"scene\",\"showlegend\":false,\"x\":[-22.5361765819976,-11.482731710382282],\"y\":[0,150],\"z\":[11.103691208250316,22.34542650858411],\"type\":\"scatter3d\"},{\"hovertemplate\":\"ring=9\\u003cbr\\u003eRing and Wire=Ring: 9 Wire: 32\\u003cbr\\u003ex=%{x}\\u003cbr\\u003ez=%{y}\\u003cbr\\u003ey=%{z}\\u003cextra\\u003e\\u003c\\u002fextra\\u003e\",\"legendgroup\":\"9\",\"line\":{\"color\":\"#00cc96\",\"dash\":\"solid\",\"width\":5},\"marker\":{\"symbol\":\"circle\"},\"mode\":\"lines\",\"name\":\"9\",\"scene\":\"scene\",\"showlegend\":false,\"x\":[-23.234370262238528,-12.96506926186224],\"y\":[0,150],\"z\":[9.556947833924717,21.519251669569442],\"type\":\"scatter3d\"},{\"hovertemplate\":\"ring=9\\u003cbr\\u003eRing and Wire=Ring: 9 Wire: 33\\u003cbr\\u003ex=%{x}\\u003cbr\\u003ez=%{y}\\u003cbr\\u003ey=%{z}\\u003cextra\\u003e\\u003c\\u002fextra\\u003e\",\"legendgroup\":\"9\",\"line\":{\"color\":\"#00cc96\",\"dash\":\"solid\",\"width\":5},\"marker\":{\"symbol\":\"circle\"},\"mode\":\"lines\",\"name\":\"9\",\"scene\":\"scene\",\"showlegend\":false,\"x\":[-23.82655084001132,-14.388250175970452],\"y\":[0,150],\"z\":[7.966598298615812,20.594889420845128],\"type\":\"scatter3d\"},{\"hovertemplate\":\"ring=9\\u003cbr\\u003eRing and Wire=Ring: 9 Wire: 34\\u003cbr\\u003ex=%{x}\\u003cbr\\u003ez=%{y}\\u003cbr\\u003ey=%{z}\\u003cextra\\u003e\\u003c\\u002fextra\\u003e\",\"legendgroup\":\"9\",\"line\":{\"color\":\"#00cc96\",\"dash\":\"solid\",\"width\":5},\"marker\":{\"symbol\":\"circle\"},\"mode\":\"lines\",\"name\":\"9\",\"scene\":\"scene\",\"showlegend\":false,\"x\":[-24.31001633116221,-15.745780804616809],\"y\":[0,150],\"z\":[6.33989900249044,19.57655741534025],\"type\":\"scatter3d\"},{\"hovertemplate\":\"ring=9\\u003cbr\\u003eRing and Wire=Ring: 9 Wire: 35\\u003cbr\\u003ex=%{x}\\u003cbr\\u003ez=%{y}\\u003cbr\\u003ey=%{z}\\u003cextra\\u003e\\u003c\\u002fextra\\u003e\",\"legendgroup\":\"9\",\"line\":{\"color\":\"#00cc96\",\"dash\":\"solid\",\"width\":5},\"marker\":{\"symbol\":\"circle\"},\"mode\":\"lines\",\"name\":\"9\",\"scene\":\"scene\",\"showlegend\":false,\"x\":[-24.682560793542784,-17.0314670469062],\"y\":[0,150],\"z\":[4.684272201336842,18.468902068431156],\"type\":\"scatter3d\"},{\"hovertemplate\":\"ring=9\\u003cbr\\u003eRing and Wire=Ring: 9 Wire: 36\\u003cbr\\u003ex=%{x}\\u003cbr\\u003ez=%{y}\\u003cbr\\u003ey=%{z}\\u003cextra\\u003e\\u003c\\u002fextra\\u003e\",\"legendgroup\":\"9\",\"line\":{\"color\":\"#00cc96\",\"dash\":\"solid\",\"width\":5},\"marker\":{\"symbol\":\"circle\"},\"mode\":\"lines\",\"name\":\"9\",\"scene\":\"scene\",\"showlegend\":false,\"x\":[-24.942484392218063,-18.239442611400257],\"y\":[0,150],\"z\":[3.007272140513872,17.276977357413795],\"type\":\"scatter3d\"},{\"hovertemplate\":\"ring=9\\u003cbr\\u003eRing and Wire=Ring: 9 Wire: 37\\u003cbr\\u003ex=%{x}\\u003cbr\\u003ez=%{y}\\u003cbr\\u003ey=%{z}\\u003cextra\\u003e\\u003c\\u002fextra\\u003e\",\"legendgroup\":\"9\",\"line\":{\"color\":\"#00cc96\",\"dash\":\"solid\",\"width\":5},\"marker\":{\"symbol\":\"circle\"},\"mode\":\"lines\",\"name\":\"9\",\"scene\":\"scene\",\"showlegend\":false,\"x\":[-25.088601155423394,-19.364195782659632],\"y\":[0,150],\"z\":[1.3165505866620988,16.006221761364525],\"type\":\"scatter3d\"},{\"hovertemplate\":\"ring=9\\u003cbr\\u003eRing and Wire=Ring: 9 Wire: 38\\u003cbr\\u003ex=%{x}\\u003cbr\\u003ez=%{y}\\u003cbr\\u003ey=%{z}\\u003cextra\\u003e\\u003c\\u002fextra\\u003e\",\"legendgroup\":\"9\",\"line\":{\"color\":\"#00cc96\",\"dash\":\"solid\",\"width\":5},\"marker\":{\"symbol\":\"circle\"},\"mode\":\"lines\",\"name\":\"9\",\"scene\":\"scene\",\"showlegend\":false,\"x\":[-25.12024438588164,-20.40059456993741],\"y\":[0,150],\"z\":[-0.3801780855523731,14.662433446607446],\"type\":\"scatter3d\"},{\"hovertemplate\":\"ring=9\\u003cbr\\u003eRing and Wire=Ring: 9 Wire: 39\\u003cbr\\u003ex=%{x}\\u003cbr\\u003ez=%{y}\\u003cbr\\u003ey=%{z}\\u003cextra\\u003e\\u003c\\u002fextra\\u003e\",\"legendgroup\":\"9\",\"line\":{\"color\":\"#00cc96\",\"dash\":\"solid\",\"width\":5},\"marker\":{\"symbol\":\"circle\"},\"mode\":\"lines\",\"name\":\"9\",\"scene\":\"scene\",\"showlegend\":false,\"x\":[-25.037269702789917,-21.343910123275823],\"y\":[0,150],\"z\":[-2.07517209236018,13.251743811011297],\"type\":\"scatter3d\"},{\"hovertemplate\":\"ring=9\\u003cbr\\u003eRing and Wire=Ring: 9 Wire: 40\\u003cbr\\u003ex=%{x}\\u003cbr\\u003ez=%{y}\\u003cbr\\u003ey=%{z}\\u003cextra\\u003e\\u003c\\u002fextra\\u003e\",\"legendgroup\":\"9\",\"line\":{\"color\":\"#00cc96\",\"dash\":\"solid\",\"width\":5},\"marker\":{\"symbol\":\"circle\"},\"mode\":\"lines\",\"name\":\"9\",\"scene\":\"scene\",\"showlegend\":false,\"x\":[-24.840055700596082,-22.189838310163978],\"y\":[0,150],\"z\":[-3.760697564872313,11.780589507827337],\"type\":\"scatter3d\"},{\"hovertemplate\":\"ring=9\\u003cbr\\u003eRing and Wire=Ring: 9 Wire: 41\\u003cbr\\u003ex=%{x}\\u003cbr\\u003ez=%{y}\\u003cbr\\u003ey=%{z}\\u003cextra\\u003e\\u003c\\u002fextra\\u003e\",\"legendgroup\":\"9\",\"line\":{\"color\":\"#00cc96\",\"dash\":\"solid\",\"width\":5},\"marker\":{\"symbol\":\"circle\"},\"mode\":\"lines\",\"name\":\"9\",\"scene\":\"scene\",\"showlegend\":false,\"x\":[-24.529502221559113,-22.934519354307305],\"y\":[0,150],\"z\":[-5.429063836950059,10.255683076716837],\"type\":\"scatter3d\"},{\"hovertemplate\":\"ring=9\\u003cbr\\u003eRing and Wire=Ring: 9 Wire: 42\\u003cbr\\u003ex=%{x}\\u003cbr\\u003ez=%{y}\\u003cbr\\u003ey=%{z}\\u003cextra\\u003e\\u003c\\u002fextra\\u003e\",\"legendgroup\":\"9\",\"line\":{\"color\":\"#00cc96\",\"dash\":\"solid\",\"width\":5},\"marker\":{\"symbol\":\"circle\"},\"mode\":\"lines\",\"name\":\"9\",\"scene\":\"scene\",\"showlegend\":false,\"x\":[-24.107026249975274,-23.574555446901524],\"y\":[0,150],\"z\":[-7.07265853595064,8.68398231597221],\"type\":\"scatter3d\"},{\"hovertemplate\":\"ring=9\\u003cbr\\u003eRing and Wire=Ring: 9 Wire: 43\\u003cbr\\u003ex=%{x}\\u003cbr\\u003ez=%{y}\\u003cbr\\u003ey=%{z}\\u003cextra\\u003e\\u003c\\u002fextra\\u003e\",\"legendgroup\":\"9\",\"line\":{\"color\":\"#00cc96\",\"dash\":\"solid\",\"width\":5},\"marker\":{\"symbol\":\"circle\"},\"mode\":\"lines\",\"name\":\"9\",\"scene\":\"scene\",\"showlegend\":false,\"x\":[-23.574555446803746,-24.10702625005491],\"y\":[0,150],\"z\":[-8.683982316237651,7.072658535679204],\"type\":\"scatter3d\"},{\"hovertemplate\":\"ring=9\\u003cbr\\u003eRing and Wire=Ring: 9 Wire: 44\\u003cbr\\u003ex=%{x}\\u003cbr\\u003ez=%{y}\\u003cbr\\u003ey=%{z}\\u003cextra\\u003e\\u003c\\u002fextra\\u003e\",\"legendgroup\":\"9\",\"line\":{\"color\":\"#00cc96\",\"dash\":\"solid\",\"width\":5},\"marker\":{\"symbol\":\"circle\"},\"mode\":\"lines\",\"name\":\"9\",\"scene\":\"scene\",\"showlegend\":false,\"x\":[-22.934519354191824,-24.529502221620245],\"y\":[0,150],\"z\":[-10.255683076975082,5.429063836673855],\"type\":\"scatter3d\"},{\"hovertemplate\":\"ring=9\\u003cbr\\u003eRing and Wire=Ring: 9 Wire: 45\\u003cbr\\u003ex=%{x}\\u003cbr\\u003ez=%{y}\\u003cbr\\u003ey=%{z}\\u003cextra\\u003e\\u003c\\u002fextra\\u003e\",\"legendgroup\":\"9\",\"line\":{\"color\":\"#00cc96\",\"dash\":\"solid\",\"width\":5},\"marker\":{\"symbol\":\"circle\"},\"mode\":\"lines\",\"name\":\"9\",\"scene\":\"scene\",\"showlegend\":false,\"x\":[-22.18983831003133,-24.840055700638427],\"y\":[0,150],\"z\":[-11.780589508077187,3.7606975645926237],\"type\":\"scatter3d\"},{\"hovertemplate\":\"ring=9\\u003cbr\\u003eRing and Wire=Ring: 9 Wire: 46\\u003cbr\\u003ex=%{x}\\u003cbr\\u003ez=%{y}\\u003cbr\\u003ey=%{z}\\u003cextra\\u003e\\u003c\\u002fextra\\u003e\",\"legendgroup\":\"9\",\"line\":{\"color\":\"#00cc96\",\"dash\":\"solid\",\"width\":5},\"marker\":{\"symbol\":\"circle\"},\"mode\":\"lines\",\"name\":\"9\",\"scene\":\"scene\",\"showlegend\":false,\"x\":[-21.343910123126612,-25.037269702813283],\"y\":[0,150],\"z\":[-13.251743811251622,2.0751720920782697],\"type\":\"scatter3d\"},{\"hovertemplate\":\"ring=9\\u003cbr\\u003eRing and Wire=Ring: 9 Wire: 47\\u003cbr\\u003ex=%{x}\\u003cbr\\u003ez=%{y}\\u003cbr\\u003ey=%{z}\\u003cextra\\u003e\\u003c\\u002fextra\\u003e\",\"legendgroup\":\"9\",\"line\":{\"color\":\"#00cc96\",\"dash\":\"solid\",\"width\":5},\"marker\":{\"symbol\":\"circle\"},\"mode\":\"lines\",\"name\":\"9\",\"scene\":\"scene\",\"showlegend\":false,\"x\":[-20.400594569772313,-25.120244385885922],\"y\":[0,150],\"z\":[-14.662433446837149,0.38017808526952734],\"type\":\"scatter3d\"},{\"hovertemplate\":\"ring=9\\u003cbr\\u003eRing and Wire=Ring: 9 Wire: 48\\u003cbr\\u003ex=%{x}\\u003cbr\\u003ez=%{y}\\u003cbr\\u003ey=%{z}\\u003cextra\\u003e\\u003c\\u002fextra\\u003e\",\"legendgroup\":\"9\",\"line\":{\"color\":\"#00cc96\",\"dash\":\"solid\",\"width\":5},\"marker\":{\"symbol\":\"circle\"},\"mode\":\"lines\",\"name\":\"9\",\"scene\":\"scene\",\"showlegend\":false,\"x\":[-19.36419578247941,-25.088601155408572],\"y\":[0,150],\"z\":[-16.00622176158256,-1.3165505869445866],\"type\":\"scatter3d\"},{\"hovertemplate\":\"ring=9\\u003cbr\\u003eRing and Wire=Ring: 9 Wire: 49\\u003cbr\\u003ex=%{x}\\u003cbr\\u003ez=%{y}\\u003cbr\\u003ey=%{z}\\u003cextra\\u003e\\u003c\\u002fextra\\u003e\",\"legendgroup\":\"9\",\"line\":{\"color\":\"#00cc96\",\"dash\":\"solid\",\"width\":5},\"marker\":{\"symbol\":\"circle\"},\"mode\":\"lines\",\"name\":\"9\",\"scene\":\"scene\",\"showlegend\":false,\"x\":[-18.239442611205725,-24.9424843921842],\"y\":[0,150],\"z\":[-17.276977357619163,-3.007272140794715],\"type\":\"scatter3d\"},{\"hovertemplate\":\"ring=9\\u003cbr\\u003eRing and Wire=Ring: 9 Wire: 50\\u003cbr\\u003ex=%{x}\\u003cbr\\u003ez=%{y}\\u003cbr\\u003ey=%{z}\\u003cextra\\u003e\\u003c\\u002fextra\\u003e\",\"legendgroup\":\"9\",\"line\":{\"color\":\"#00cc96\",\"dash\":\"solid\",\"width\":5},\"marker\":{\"symbol\":\"circle\"},\"mode\":\"lines\",\"name\":\"9\",\"scene\":\"scene\",\"showlegend\":false,\"x\":[-17.031467046698246,-24.68256079349004],\"y\":[0,150],\"z\":[-18.468902068622924,-4.6842722016147595],\"type\":\"scatter3d\"},{\"hovertemplate\":\"ring=9\\u003cbr\\u003eRing and Wire=Ring: 9 Wire: 51\\u003cbr\\u003ex=%{x}\\u003cbr\\u003ez=%{y}\\u003cbr\\u003ey=%{z}\\u003cextra\\u003e\\u003c\\u002fextra\\u003e\",\"legendgroup\":\"9\",\"line\":{\"color\":\"#00cc96\",\"dash\":\"solid\",\"width\":5},\"marker\":{\"symbol\":\"circle\"},\"mode\":\"lines\",\"name\":\"9\",\"scene\":\"scene\",\"showlegend\":false,\"x\":[-15.745780804396382,-24.31001633109082],\"y\":[0,150],\"z\":[-19.57655741551754,-6.33989900276416],\"type\":\"scatter3d\"},{\"hovertemplate\":\"ring=9\\u003cbr\\u003eRing and Wire=Ring: 9 Wire: 52\\u003cbr\\u003ex=%{x}\\u003cbr\\u003ez=%{y}\\u003cbr\\u003ey=%{z}\\u003cextra\\u003e\\u003c\\u002fextra\\u003e\",\"legendgroup\":\"9\",\"line\":{\"color\":\"#00cc96\",\"dash\":\"solid\",\"width\":5},\"marker\":{\"symbol\":\"circle\"},\"mode\":\"lines\",\"name\":\"9\",\"scene\":\"scene\",\"showlegend\":false,\"x\":[-14.388250175738563,-23.826550839921616],\"y\":[0,150],\"z\":[-20.59488942100714,-7.966598298884092],\"type\":\"scatter3d\"},{\"hovertemplate\":\"ring=9\\u003cbr\\u003eRing and Wire=Ring: 9 Wire: 53\\u003cbr\\u003ex=%{x}\\u003cbr\\u003ez=%{y}\\u003cbr\\u003ey=%{z}\\u003cextra\\u003e\\u003c\\u002fextra\\u003e\",\"legendgroup\":\"9\",\"line\":{\"color\":\"#00cc96\",\"dash\":\"solid\",\"width\":5},\"marker\":{\"symbol\":\"circle\"},\"mode\":\"lines\",\"name\":\"9\",\"scene\":\"scene\",\"showlegend\":false,\"x\":[-12.965069261619941,-23.23437026213092],\"y\":[0,150],\"z\":[-21.519251669715423,-9.556947834186326],\"type\":\"scatter3d\"},{\"hovertemplate\":\"ring=9\\u003cbr\\u003eRing and Wire=Ring: 9 Wire: 54\\u003cbr\\u003ex=%{x}\\u003cbr\\u003ez=%{y}\\u003cbr\\u003ey=%{z}\\u003cextra\\u003e\\u003c\\u002fextra\\u003e\",\"legendgroup\":\"9\",\"line\":{\"color\":\"#00cc96\",\"dash\":\"solid\",\"width\":5},\"marker\":{\"symbol\":\"circle\"},\"mode\":\"lines\",\"name\":\"9\",\"scene\":\"scene\",\"showlegend\":false,\"x\":[-11.482731710130683,-22.536176581872578],\"y\":[0,150],\"z\":[-22.345426508713405,-11.103691208504063],\"type\":\"scatter3d\"},{\"hovertemplate\":\"ring=9\\u003cbr\\u003eRing and Wire=Ring: 9 Wire: 55\\u003cbr\\u003ex=%{x}\\u003cbr\\u003ez=%{y}\\u003cbr\\u003ey=%{z}\\u003cextra\\u003e\\u003c\\u002fextra\\u003e\",\"legendgroup\":\"9\",\"line\":{\"color\":\"#00cc96\",\"dash\":\"solid\",\"width\":5},\"marker\":{\"symbol\":\"circle\"},\"mode\":\"lines\",\"name\":\"9\",\"scene\":\"scene\",\"showlegend\":false,\"x\":[-9.94800108752905,-21.735155496771792],\"y\":[0,150],\"z\":[-23.069644291702318,-12.599770986581598],\"type\":\"scatter3d\"},{\"hovertemplate\":\"ring=9\\u003cbr\\u003eRing and Wire=Ring: 9 Wire: 56\\u003cbr\\u003ex=%{x}\\u003cbr\\u003ez=%{y}\\u003cbr\\u003ey=%{z}\\u003cextra\\u003e\\u003c\\u002fextra\\u003e\",\"legendgroup\":\"9\",\"line\":{\"color\":\"#00cc96\",\"dash\":\"solid\",\"width\":5},\"marker\":{\"symbol\":\"circle\"},\"mode\":\"lines\",\"name\":\"9\",\"scene\":\"scene\",\"showlegend\":false,\"x\":[-8.367880017639951,-20.834961882317565],\"y\":[0,150],\"z\":[-23.68860057904507,-14.038360899532623],\"type\":\"scatter3d\"},{\"hovertemplate\":\"ring=9\\u003cbr\\u003eRing and Wire=Ring: 9 Wire: 57\\u003cbr\\u003ex=%{x}\\u003cbr\\u003ez=%{y}\\u003cbr\\u003ey=%{z}\\u003cextra\\u003e\\u003c\\u002fextra\\u003e\",\"legendgroup\":\"9\",\"line\":{\"color\":\"#00cc96\",\"dash\":\"solid\",\"width\":5},\"marker\":{\"symbol\":\"circle\"},\"mode\":\"lines\",\"name\":\"9\",\"scene\":\"scene\",\"showlegend\":false,\"x\":[-6.7495782304885275,-19.839703115504147],\"y\":[0,150],\"z\":[-24.19947121516641,-15.412896991539505],\"type\":\"scatter3d\"},{\"hovertemplate\":\"ring=9\\u003cbr\\u003eRing and Wire=Ring: 9 Wire: 58\\u003cbr\\u003ex=%{x}\\u003cbr\\u003ez=%{y}\\u003cbr\\u003ey=%{z}\\u003cextra\\u003e\\u003c\\u002fextra\\u003e\",\"legendgroup\":\"9\",\"line\":{\"color\":\"#00cc96\",\"dash\":\"solid\",\"width\":5},\"marker\":{\"symbol\":\"circle\"},\"mode\":\"lines\",\"name\":\"9\",\"scene\":\"scene\",\"showlegend\":false,\"x\":[-5.100479665955602,-18.75392033381179],\"y\":[0,150],\"z\":[-24.599925214527094,-16.717107569678223],\"type\":\"scatter3d\"},{\"hovertemplate\":\"ring=9\\u003cbr\\u003eRing and Wire=Ring: 9 Wire: 59\\u003cbr\\u003ex=%{x}\\u003cbr\\u003ez=%{y}\\u003cbr\\u003ey=%{z}\\u003cextra\\u003e\\u003c\\u002fextra\\u003e\",\"legendgroup\":\"9\",\"line\":{\"color\":\"#00cc96\",\"dash\":\"solid\",\"width\":5},\"marker\":{\"symbol\":\"circle\"},\"mode\":\"lines\",\"name\":\"9\",\"scene\":\"scene\",\"showlegend\":false,\"x\":[-3.428108782553637,-17.582567715038063],\"y\":[0,150],\"z\":[-24.888135397376214,-17.945041820214673],\"type\":\"scatter3d\"},{\"hovertemplate\":\"ring=9\\u003cbr\\u003eRing and Wire=Ring: 9 Wire: 60\\u003cbr\\u003ex=%{x}\\u003cbr\\u003ez=%{y}\\u003cbr\\u003ey=%{z}\\u003cextra\\u003e\\u003c\\u002fextra\\u003e\",\"legendgroup\":\"9\",\"line\":{\"color\":\"#00cc96\",\"dash\":\"solid\",\"width\":5},\"marker\":{\"symbol\":\"circle\"},\"mode\":\"lines\",\"name\":\"9\",\"scene\":\"scene\",\"showlegend\":false,\"x\":[-1.7400962250484167,-16.330989872520846],\"y\":[0,150],\"z\":[-25.062786726753366,-19.0910969608028],\"type\":\"scatter3d\"},{\"hovertemplate\":\"ring=9\\u003cbr\\u003eRing and Wire=Ring: 9 Wire: 61\\u003cbr\\u003ex=%{x}\\u003cbr\\u003ez=%{y}\\u003cbr\\u003ey=%{z}\\u003cextra\\u003e\\u003c\\u002fextra\\u003e\",\"legendgroup\":\"9\",\"line\":{\"color\":\"#00cc96\",\"dash\":\"solid\",\"width\":5},\"marker\":{\"symbol\":\"circle\"},\"mode\":\"lines\",\"name\":\"9\",\"scene\":\"scene\",\"showlegend\":false,\"x\":[-0.044144007576994326,-15.004897468893446],\"y\":[0,150],\"z\":[-25.123082308700646,-20.1500438046955],\"type\":\"scatter3d\"},{\"hovertemplate\":\"ring=9\\u003cbr\\u003eRing and Wire=Ring: 9 Wire: 62\\u003cbr\\u003ex=%{x}\\u003cbr\\u003ez=%{y}\\u003cbr\\u003ey=%{z}\\u003cextra\\u003e\\u003c\\u002fextra\\u003e\",\"legendgroup\":\"9\",\"line\":{\"color\":\"#00cc96\",\"dash\":\"solid\",\"width\":5},\"marker\":{\"symbol\":\"circle\"},\"mode\":\"lines\",\"name\":\"9\",\"scene\":\"scene\",\"showlegend\":false,\"x\":[1.6520096288761028,-13.61034115964091],\"y\":[0,150],\"z\":[-25.06874702830704,-21.117050620324253],\"type\":\"scatter3d\"},{\"hovertemplate\":\"ring=9\\u003cbr\\u003eRing and Wire=Ring: 9 Wire: 63\\u003cbr\\u003ex=%{x}\\u003cbr\\u003ez=%{y}\\u003cbr\\u003ey=%{z}\\u003cextra\\u003e\\u003c\\u002fextra\\u003e\",\"legendgroup\":\"9\",\"line\":{\"color\":\"#00cc96\",\"dash\":\"solid\",\"width\":5},\"marker\":{\"symbol\":\"circle\"},\"mode\":\"lines\",\"name\":\"9\",\"scene\":\"scene\",\"showlegend\":false,\"x\":[3.340625524297801,-12.153683985346708],\"y\":[0,150],\"z\":[-24.90002880499463,-21.987705177382185],\"type\":\"scatter3d\"},{\"hovertemplate\":\"ring=9\\u003cbr\\u003eRing and Wire=Ring: 9 Wire: 64\\u003cbr\\u003ex=%{x}\\u003cbr\\u003ez=%{y}\\u003cbr\\u003ey=%{z}\\u003cextra\\u003e\\u003c\\u002fextra\\u003e\",\"legendgroup\":\"9\",\"line\":{\"color\":\"#00cc96\",\"dash\":\"solid\",\"width\":5},\"marker\":{\"symbol\":\"circle\"},\"mode\":\"lines\",\"name\":\"9\",\"scene\":\"scene\",\"showlegend\":false,\"x\":[5.0139989116584935,-10.641572338598026],\"y\":[0,150],\"z\":[-24.61769746131916,-22.758034878818904],\"type\":\"scatter3d\"},{\"hovertemplate\":\"ring=9\\u003cbr\\u003eRing and Wire=Ring: 9 Wire: 65\\u003cbr\\u003ex=%{x}\\u003cbr\\u003ez=%{y}\\u003cbr\\u003ey=%{z}\\u003cextra\\u003e\\u003c\\u002fextra\\u003e\",\"legendgroup\":\"9\",\"line\":{\"color\":\"#00cc96\",\"dash\":\"solid\",\"width\":5},\"marker\":{\"symbol\":\"circle\"},\"mode\":\"lines\",\"name\":\"9\",\"scene\":\"scene\",\"showlegend\":false,\"x\":[6.664494571996767,-9.080905638020878],\"y\":[0,150],\"z\":[-24.223041210446265,-23.42452488688966],\"type\":\"scatter3d\"},{\"hovertemplate\":\"ring=9\\u003cbr\\u003eRing and Wire=Ring: 9 Wire: 66\\u003cbr\\u003ex=%{x}\\u003cbr\\u003ez=%{y}\\u003cbr\\u003ey=%{z}\\u003cextra\\u003e\\u003c\\u002fextra\\u003e\",\"legendgroup\":\"9\",\"line\":{\"color\":\"#00cc96\",\"dash\":\"solid\",\"width\":5},\"marker\":{\"symbol\":\"circle\"},\"mode\":\"lines\",\"name\":\"9\",\"scene\":\"scene\",\"showlegend\":false,\"x\":[8.284581672172434,-7.478804847815241],\"y\":[0,150],\"z\":[-23.717860778330266,-23.984134160553882],\"type\":\"scatter3d\"},{\"hovertemplate\":\"ring=9\\u003cbr\\u003eRing and Wire=Ring: 9 Wire: 67\\u003cbr\\u003ex=%{x}\\u003cbr\\u003ez=%{y}\\u003cbr\\u003ey=%{z}\\u003cextra\\u003e\\u003c\\u002fextra\\u003e\",\"legendgroup\":\"9\",\"line\":{\"color\":\"#00cc96\",\"dash\":\"solid\",\"width\":5},\"marker\":{\"symbol\":\"circle\"},\"mode\":\"lines\",\"name\":\"9\",\"scene\":\"scene\",\"showlegend\":false,\"x\":[9.866868126330825,-5.842579986428741],\"y\":[0,150],\"z\":[-23.104461187414636,-24.434309331047906],\"type\":\"scatter3d\"},{\"hovertemplate\":\"ring=9\\u003cbr\\u003eRing and Wire=Ring: 9 Wire: 68\\u003cbr\\u003ex=%{x}\\u003cbr\\u003ez=%{y}\\u003cbr\\u003ey=%{z}\\u003cextra\\u003e\\u003c\\u002fextra\\u003e\",\"legendgroup\":\"9\",\"line\":{\"color\":\"#00cc96\",\"dash\":\"solid\",\"width\":5},\"marker\":{\"symbol\":\"circle\"},\"mode\":\"lines\",\"name\":\"9\",\"scene\":\"scene\",\"showlegend\":false,\"x\":[11.404134324295018,-4.179696772619161],\"y\":[0,150],\"z\":[-22.385641239343325,-24.772996352320998],\"type\":\"scatter3d\"},{\"hovertemplate\":\"ring=9\\u003cbr\\u003eRing and Wire=Ring: 9 Wire: 69\\u003cbr\\u003ex=%{x}\\u003cbr\\u003ez=%{y}\\u003cbr\\u003ey=%{z}\\u003cextra\\u003e\\u003c\\u002fextra\\u003e\",\"legendgroup\":\"9\",\"line\":{\"color\":\"#00cc96\",\"dash\":\"solid\",\"width\":5},\"marker\":{\"symbol\":\"circle\"},\"mode\":\"lines\",\"name\":\"9\",\"scene\":\"scene\",\"showlegend\":false,\"x\":[12.889366072991315,-2.497742561091961],\"y\":[0,150],\"z\":[-21.564680744670735,-24.998649873176394],\"type\":\"scatter3d\"},{\"hovertemplate\":\"ring=9\\u003cbr\\u003eRing and Wire=Ring: 9 Wire: 70\\u003cbr\\u003ex=%{x}\\u003cbr\\u003ez=%{y}\\u003cbr\\u003ey=%{z}\\u003cextra\\u003e\\u003c\\u002fextra\\u003e\",\"legendgroup\":\"9\",\"line\":{\"color\":\"#00cc96\",\"dash\":\"solid\",\"width\":5},\"marker\":{\"symbol\":\"circle\"},\"mode\":\"lines\",\"name\":\"9\",\"scene\":\"scene\",\"showlegend\":false,\"x\":[14.315786600603396,-0.8043917231410642],\"y\":[0,150],\"z\":[-20.645325557838426,-25.110240288354362],\"type\":\"scatter3d\"},{\"hovertemplate\":\"ring=9\\u003cbr\\u003eRing and Wire=Ring: 9 Wire: 71\\u003cbr\\u003ex=%{x}\\u003cbr\\u003ez=%{y}\\u003cbr\\u003ey=%{z}\\u003cextra\\u003e\\u003c\\u002fextra\\u003e\",\"legendgroup\":\"9\",\"line\":{\"color\":\"#00cc96\",\"dash\":\"solid\",\"width\":5},\"marker\":{\"symbol\":\"circle\"},\"mode\":\"lines\",\"name\":\"9\",\"scene\":\"scene\",\"showlegend\":false,\"x\":[15.676887477427744,0.8926293697471017],\"y\":[0,150],\"z\":[-19.631770485700507,-25.107258436384832],\"type\":\"scatter3d\"},{\"hovertemplate\":\"ring=9\\u003cbr\\u003eRing and Wire=Ring: 9 Wire: 72\\u003cbr\\u003ex=%{x}\\u003cbr\\u003ez=%{y}\\u003cbr\\u003ey=%{z}\\u003cextra\\u003e\\u003c\\u002fextra\\u003e\",\"legendgroup\":\"9\",\"line\":{\"color\":\"#00cc96\",\"dash\":\"solid\",\"width\":5},\"marker\":{\"symbol\":\"circle\"},\"mode\":\"lines\",\"name\":\"9\",\"scene\":\"scene\",\"showlegend\":false,\"x\":[16.966458312345722,2.585577599554714],\"y\":[0,150],\"z\":[-18.52864014758199,-24.989717922774425],\"type\":\"scatter3d\"},{\"hovertemplate\":\"ring=9\\u003cbr\\u003eRing and Wire=Ring: 9 Wire: 73\\u003cbr\\u003ex=%{x}\\u003cbr\\u003ez=%{y}\\u003cbr\\u003ey=%{z}\\u003cextra\\u003e\\u003c\\u002fextra\\u003e\",\"legendgroup\":\"9\",\"line\":{\"color\":\"#00cc96\",\"dash\":\"solid\",\"width\":5},\"marker\":{\"symbol\":\"circle\"},\"mode\":\"lines\",\"name\":\"9\",\"scene\":\"scene\",\"showlegend\":false,\"x\":[18.178615089413757,4.2667284318040215],\"y\":[0,150],\"z\":[-17.340967874201567,-24.75815505792763],\"type\":\"scatter3d\"},{\"hovertemplate\":\"ring=9\\u003cbr\\u003eRing and Wire=Ring: 9 Wire: 74\\u003cbr\\u003ex=%{x}\\u003cbr\\u003ez=%{y}\\u003cbr\\u003ey=%{z}\\u003cextra\\u003e\\u003c\\u002fextra\\u003e\",\"legendgroup\":\"9\",\"line\":{\"color\":\"#00cc96\",\"dash\":\"solid\",\"width\":5},\"marker\":{\"symbol\":\"circle\"},\"mode\":\"lines\",\"name\":\"9\",\"scene\":\"scene\",\"showlegend\":false,\"x\":[19.307827015278512,5.928411160836424],\"y\":[0,150],\"z\":[-16.07417274173802,-24.413626410085467],\"type\":\"scatter3d\"},{\"hovertemplate\":\"ring=9\\u003cbr\\u003eRing and Wire=Ring: 9 Wire: 75\\u003cbr\\u003ex=%{x}\\u003cbr\\u003ez=%{y}\\u003cbr\\u003ey=%{z}\\u003cextra\\u003e\\u003c\\u002fextra\\u003e\",\"legendgroup\":\"9\",\"line\":{\"color\":\"#00cc96\",\"dash\":\"solid\",\"width\":5},\"marker\":{\"symbol\":\"circle\"},\"mode\":\"lines\",\"name\":\"9\",\"scene\":\"scene\",\"showlegend\":false,\"x\":[20.34894175491849,7.56304390948315],\"y\":[0,150],\"z\":[-14.734034845828461,-23.957703984446887],\"type\":\"scatter3d\"},{\"hovertemplate\":\"ring=9\\u003cbr\\u003eRing and Wire=Ring: 9 Wire: 76\\u003cbr\\u003ex=%{x}\\u003cbr\\u003ez=%{y}\\u003cbr\\u003ey=%{z}\\u003cextra\\u003e\\u003c\\u002fextra\\u003e\",\"legendgroup\":\"9\",\"line\":{\"color\":\"#00cc96\",\"dash\":\"solid\",\"width\":5},\"marker\":{\"symbol\":\"circle\"},\"mode\":\"lines\",\"name\":\"9\",\"scene\":\"scene\",\"showlegend\":false,\"x\":[21.297208940566943,9.163168223431747],\"y\":[0,150],\"z\":[-13.32666892831768,-23.392468050469645],\"type\":\"scatter3d\"},{\"hovertemplate\":\"ring=9\\u003cbr\\u003eRing and Wire=Ring: 9 Wire: 77\\u003cbr\\u003ex=%{x}\\u003cbr\\u003ez=%{y}\\u003cbr\\u003ey=%{z}\\u003cextra\\u003e\\u003c\\u002fextra\\u003e\",\"legendgroup\":\"9\",\"line\":{\"color\":\"#00cc96\",\"dash\":\"solid\",\"width\":5},\"marker\":{\"symbol\":\"circle\"},\"mode\":\"lines\",\"name\":\"9\",\"scene\":\"scene\",\"showlegend\":false,\"x\":[22.14830184655043,10.721483102442363],\"y\":[0,150],\"z\":[-11.858496477093679,-22.720497650077895],\"type\":\"scatter3d\"},{\"hovertemplate\":\"ring=9\\u003cbr\\u003eRing and Wire=Ring: 9 Wire: 78\\u003cbr\\u003ex=%{x}\\u003cbr\\u003ez=%{y}\\u003cbr\\u003ey=%{z}\\u003cextra\\u003e\\u003c\\u002fextra\\u003e\",\"legendgroup\":\"9\",\"line\":{\"color\":\"#00cc96\",\"dash\":\"solid\",\"width\":5},\"marker\":{\"symbol\":\"circle\"},\"mode\":\"lines\",\"name\":\"9\",\"scene\":\"scene\",\"showlegend\":false,\"x\":[22.89833713114576,12.230878313137419],\"y\":[0,150],\"z\":[-10.336216426311125,-21.9448588300854],\"type\":\"scatter3d\"},{\"hovertemplate\":\"ring=9\\u003cbr\\u003eRing and Wire=Ring: 9 Wire: 79\\u003cbr\\u003ex=%{x}\\u003cbr\\u003ez=%{y}\\u003cbr\\u003ey=%{z}\\u003cextra\\u003e\\u003c\\u002fextra\\u003e\",\"legendgroup\":\"9\",\"line\":{\"color\":\"#00cc96\",\"dash\":\"solid\",\"width\":5},\"marker\":{\"symbol\":\"circle\"},\"mode\":\"lines\",\"name\":\"9\",\"scene\":\"scene\",\"showlegend\":false,\"x\":[23.543892555377518,13.684466831365627],\"y\":[0,150],\"z\":[-8.766774590691359,-21.069090652527137],\"type\":\"scatter3d\"},{\"hovertemplate\":\"ring=9\\u003cbr\\u003eRing and Wire=Ring: 9 Wire: 80\\u003cbr\\u003ex=%{x}\\u003cbr\\u003ez=%{y}\\u003cbr\\u003ey=%{z}\\u003cextra\\u003e\\u003c\\u002fextra\\u003e\",\"legendgroup\":\"9\",\"line\":{\"color\":\"#00cc96\",\"dash\":\"solid\",\"width\":5},\"marker\":{\"symbol\":\"circle\"},\"mode\":\"lines\",\"name\":\"9\",\"scene\":\"scene\",\"showlegend\":false,\"x\":[24.082022597909607,15.075616266113542],\"y\":[0,150],\"z\":[-7.157331973362945,-20.097189046731017],\"type\":\"scatter3d\"},{\"hovertemplate\":\"ring=9\\u003cbr\\u003eRing and Wire=Ring: 9 Wire: 81\\u003cbr\\u003ex=%{x}\\u003cbr\\u003ez=%{y}\\u003cbr\\u003ey=%{z}\\u003cextra\\u003e\\u003c\\u002fextra\\u003e\",\"legendgroup\":\"9\",\"line\":{\"color\":\"#00cc96\",\"dash\":\"solid\",\"width\":5},\"marker\":{\"symbol\":\"circle\"},\"mode\":\"lines\",\"name\":\"9\",\"scene\":\"scene\",\"showlegend\":false,\"x\":[24.51027189478355,16.397979121584676],\"y\":[0,150],\"z\":[-5.515232091846733,-19.033588576808775],\"type\":\"scatter3d\"},{\"hovertemplate\":\"ring=9\\u003cbr\\u003eRing and Wire=Ring: 9 Wire: 82\\u003cbr\\u003ex=%{x}\\u003cbr\\u003ez=%{y}\\u003cbr\\u003ey=%{z}\\u003cextra\\u003e\\u003c\\u002fextra\\u003e\",\"legendgroup\":\"9\",\"line\":{\"color\":\"#00cc96\",\"dash\":\"solid\",\"width\":5},\"marker\":{\"symbol\":\"circle\"},\"mode\":\"lines\",\"name\":\"9\",\"scene\":\"scene\",\"showlegend\":false,\"x\":[24.826686442681016,17.645521759366815],\"y\":[0,150],\"z\":[-3.847967471269853,-17.883142207757132],\"type\":\"scatter3d\"},{\"hovertemplate\":\"ring=9\\u003cbr\\u003eRing and Wire=Ring: 9 Wire: 83\\u003cbr\\u003ex=%{x}\\u003cbr\\u003ez=%{y}\\u003cbr\\u003ey=%{z}\\u003cextra\\u003e\\u003c\\u002fextra\\u003e\",\"legendgroup\":\"9\",\"line\":{\"color\":\"#00cc96\",\"dash\":\"solid\",\"width\":5},\"marker\":{\"symbol\":\"circle\"},\"mode\":\"lines\",\"name\":\"9\",\"scene\":\"scene\",\"showlegend\":false,\"x\":[25.02982251459285,18.81255192854033],\"y\":[0,150],\"z\":[-2.163145457691935,-16.651099162491523],\"type\":\"scatter3d\"},{\"hovertemplate\":\"ring=9\\u003cbr\\u003eRing and Wire=Ring: 9 Wire: 84\\u003cbr\\u003ex=%{x}\\u003cbr\\u003ez=%{y}\\u003cbr\\u003ey=%{z}\\u003cextra\\u003e\\u003c\\u002fextra\\u003e\",\"legendgroup\":\"9\",\"line\":{\"color\":\"#00cc96\",\"dash\":\"solid\",\"width\":5},\"marker\":{\"symbol\":\"circle\"},\"mode\":\"lines\",\"name\":\"9\",\"scene\":\"scene\",\"showlegend\":false,\"x\":[25.118753247214226,19.8937447381135],\"y\":[0,150],\"z\":[-0.4684535075298948,-15.343080970845907],\"type\":\"scatter3d\"},{\"hovertemplate\":\"ring=9\\u003cbr\\u003eRing and Wire=Ring: 9 Wire: 85\\u003cbr\\u003ex=%{x}\\u003cbr\\u003ez=%{y}\\u003cbr\\u003ey=%{z}\\u003cextra\\u003e\\u003c\\u002fextra\\u003e\",\"legendgroup\":\"9\",\"line\":{\"color\":\"#00cc96\",\"dash\":\"solid\",\"width\":5},\"marker\":{\"symbol\":\"circle\"},\"mode\":\"lines\",\"name\":\"9\",\"scene\":\"scene\",\"showlegend\":false,\"x\":[25.093072870009365,20.88416695327875],\"y\":[0,150],\"z\":[1.2283758885424199,-13.965055819821561],\"type\":\"scatter3d\"},{\"hovertemplate\":\"ring=9\\u003cbr\\u003eRing and Wire=Ring: 9 Wire: 86\\u003cbr\\u003ex=%{x}\\u003cbr\\u003ez=%{y}\\u003cbr\\u003ey=%{z}\\u003cextra\\u003e\\u003c\\u002fextra\\u003e\",\"legendgroup\":\"9\",\"line\":{\"color\":\"#00cc96\",\"dash\":\"solid\",\"width\":5},\"marker\":{\"symbol\":\"circle\"},\"mode\":\"lines\",\"name\":\"9\",\"scene\":\"scene\",\"showlegend\":false,\"x\":[24.952898556649394,21.77929950463168],\"y\":[0,150],\"z\":[2.9196004871757824,-12.523311322118548],\"type\":\"scatter3d\"},{\"hovertemplate\":\"ring=9\\u003cbr\\u003eRing and Wire=Ring: 9 Wire: 87\\u003cbr\\u003ex=%{x}\\u003cbr\\u003ez=%{y}\\u003cbr\\u003ey=%{z}\\u003cextra\\u003e\\u003c\\u002fextra\\u003e\",\"legendgroup\":\"9\",\"line\":{\"color\":\"#00cc96\",\"dash\":\"solid\",\"width\":5},\"marker\":{\"symbol\":\"circle\"},\"mode\":\"lines\",\"name\":\"9\",\"scene\":\"scene\",\"showlegend\":false,\"x\":[24.698869890375768,22.575058107648204],\"y\":[0,150],\"z\":[4.597503618426165,-11.024425827201144],\"type\":\"scatter3d\"},{\"hovertemplate\":\"ring=9\\u003cbr\\u003eRing and Wire=Ring: 9 Wire: 88\\u003cbr\\u003ex=%{x}\\u003cbr\\u003ez=%{y}\\u003cbr\\u003ey=%{z}\\u003cextra\\u003e\\u003c\\u002fextra\\u003e\",\"legendgroup\":\"9\",\"line\":{\"color\":\"#00cc96\",\"dash\":\"solid\",\"width\":5},\"marker\":{\"symbol\":\"circle\"},\"mode\":\"lines\",\"name\":\"9\",\"scene\":\"scene\",\"showlegend\":false,\"x\":[24.33214594572866,23.267811898338035],\"y\":[0,150],\"z\":[6.254429395149728,-9.475238405798107],\"type\":\"scatter3d\"},{\"hovertemplate\":\"ring=9\\u003cbr\\u003eRing and Wire=Ring: 9 Wire: 89\\u003cbr\\u003ex=%{x}\\u003cbr\\u003ez=%{y}\\u003cbr\\u003ey=%{z}\\u003cextra\\u003e\\u003c\\u002fextra\\u003e\",\"legendgroup\":\"9\",\"line\":{\"color\":\"#00cc96\",\"dash\":\"solid\",\"width\":5},\"marker\":{\"symbol\":\"circle\"},\"mode\":\"lines\",\"name\":\"9\",\"scene\":\"scene\",\"showlegend\":false,\"x\":[23.854399999955618,23.85440000004438],\"y\":[0,150],\"z\":[7.882817645060032,-7.882817644791436],\"type\":\"scatter3d\"},{\"hovertemplate\":\"ring=9\\u003cbr\\u003eRing and Wire=Ring: 9 Wire: 90\\u003cbr\\u003ex=%{x}\\u003cbr\\u003ez=%{y}\\u003cbr\\u003ey=%{z}\\u003cextra\\u003e\\u003c\\u002fextra\\u003e\",\"legendgroup\":\"9\",\"line\":{\"color\":\"#00cc96\",\"dash\":\"solid\",\"width\":5},\"marker\":{\"symbol\":\"circle\"},\"mode\":\"lines\",\"name\":\"9\",\"scene\":\"scene\",\"showlegend\":false,\"x\":[23.267811898231336,24.332145945799084],\"y\":[0,150],\"z\":[9.47523840606012,-6.25442939487573],\"type\":\"scatter3d\"},{\"hovertemplate\":\"ring=9\\u003cbr\\u003eRing and Wire=Ring: 9 Wire: 91\\u003cbr\\u003ex=%{x}\\u003cbr\\u003ez=%{y}\\u003cbr\\u003ey=%{z}\\u003cextra\\u003e\\u003c\\u002fextra\\u003e\",\"legendgroup\":\"9\",\"line\":{\"color\":\"#00cc96\",\"dash\":\"solid\",\"width\":5},\"marker\":{\"symbol\":\"circle\"},\"mode\":\"lines\",\"name\":\"9\",\"scene\":\"scene\",\"showlegend\":false,\"x\":[22.57505810752406,24.69886989042754],\"y\":[0,150],\"z\":[11.024425827455355,-4.597503618148039],\"type\":\"scatter3d\"},{\"hovertemplate\":\"ring=9\\u003cbr\\u003eRing and Wire=Ring: 9 Wire: 92\\u003cbr\\u003ex=%{x}\\u003cbr\\u003ez=%{y}\\u003cbr\\u003ey=%{z}\\u003cextra\\u003e\\u003c\\u002fextra\\u003e\",\"legendgroup\":\"9\",\"line\":{\"color\":\"#00cc96\",\"dash\":\"solid\",\"width\":5},\"marker\":{\"symbol\":\"circle\"},\"mode\":\"lines\",\"name\":\"9\",\"scene\":\"scene\",\"showlegend\":false,\"x\":[21.77929950449067,24.952898556682268],\"y\":[0,150],\"z\":[12.523311322363778,-2.919600486894817],\"type\":\"scatter3d\"},{\"hovertemplate\":\"ring=9\\u003cbr\\u003eRing and Wire=Ring: 9 Wire: 93\\u003cbr\\u003ex=%{x}\\u003cbr\\u003ez=%{y}\\u003cbr\\u003ey=%{z}\\u003cextra\\u003e\\u003c\\u002fextra\\u003e\",\"legendgroup\":\"9\",\"line\":{\"color\":\"#00cc96\",\"dash\":\"solid\",\"width\":5},\"marker\":{\"symbol\":\"circle\"},\"mode\":\"lines\",\"name\":\"9\",\"scene\":\"scene\",\"showlegend\":false,\"x\":[20.884166953121497,25.093072870023196],\"y\":[0,150],\"z\":[13.965055820056733,-1.2283758882598539],\"type\":\"scatter3d\"}],                        {\"template\":{\"data\":{\"histogram2dcontour\":[{\"type\":\"histogram2dcontour\",\"colorbar\":{\"outlinewidth\":0,\"ticks\":\"\"},\"colorscale\":[[0.0,\"#0d0887\"],[0.1111111111111111,\"#46039f\"],[0.2222222222222222,\"#7201a8\"],[0.3333333333333333,\"#9c179e\"],[0.4444444444444444,\"#bd3786\"],[0.5555555555555556,\"#d8576b\"],[0.6666666666666666,\"#ed7953\"],[0.7777777777777778,\"#fb9f3a\"],[0.8888888888888888,\"#fdca26\"],[1.0,\"#f0f921\"]]}],\"choropleth\":[{\"type\":\"choropleth\",\"colorbar\":{\"outlinewidth\":0,\"ticks\":\"\"}}],\"histogram2d\":[{\"type\":\"histogram2d\",\"colorbar\":{\"outlinewidth\":0,\"ticks\":\"\"},\"colorscale\":[[0.0,\"#0d0887\"],[0.1111111111111111,\"#46039f\"],[0.2222222222222222,\"#7201a8\"],[0.3333333333333333,\"#9c179e\"],[0.4444444444444444,\"#bd3786\"],[0.5555555555555556,\"#d8576b\"],[0.6666666666666666,\"#ed7953\"],[0.7777777777777778,\"#fb9f3a\"],[0.8888888888888888,\"#fdca26\"],[1.0,\"#f0f921\"]]}],\"heatmap\":[{\"type\":\"heatmap\",\"colorbar\":{\"outlinewidth\":0,\"ticks\":\"\"},\"colorscale\":[[0.0,\"#0d0887\"],[0.1111111111111111,\"#46039f\"],[0.2222222222222222,\"#7201a8\"],[0.3333333333333333,\"#9c179e\"],[0.4444444444444444,\"#bd3786\"],[0.5555555555555556,\"#d8576b\"],[0.6666666666666666,\"#ed7953\"],[0.7777777777777778,\"#fb9f3a\"],[0.8888888888888888,\"#fdca26\"],[1.0,\"#f0f921\"]]}],\"heatmapgl\":[{\"type\":\"heatmapgl\",\"colorbar\":{\"outlinewidth\":0,\"ticks\":\"\"},\"colorscale\":[[0.0,\"#0d0887\"],[0.1111111111111111,\"#46039f\"],[0.2222222222222222,\"#7201a8\"],[0.3333333333333333,\"#9c179e\"],[0.4444444444444444,\"#bd3786\"],[0.5555555555555556,\"#d8576b\"],[0.6666666666666666,\"#ed7953\"],[0.7777777777777778,\"#fb9f3a\"],[0.8888888888888888,\"#fdca26\"],[1.0,\"#f0f921\"]]}],\"contourcarpet\":[{\"type\":\"contourcarpet\",\"colorbar\":{\"outlinewidth\":0,\"ticks\":\"\"}}],\"contour\":[{\"type\":\"contour\",\"colorbar\":{\"outlinewidth\":0,\"ticks\":\"\"},\"colorscale\":[[0.0,\"#0d0887\"],[0.1111111111111111,\"#46039f\"],[0.2222222222222222,\"#7201a8\"],[0.3333333333333333,\"#9c179e\"],[0.4444444444444444,\"#bd3786\"],[0.5555555555555556,\"#d8576b\"],[0.6666666666666666,\"#ed7953\"],[0.7777777777777778,\"#fb9f3a\"],[0.8888888888888888,\"#fdca26\"],[1.0,\"#f0f921\"]]}],\"surface\":[{\"type\":\"surface\",\"colorbar\":{\"outlinewidth\":0,\"ticks\":\"\"},\"colorscale\":[[0.0,\"#0d0887\"],[0.1111111111111111,\"#46039f\"],[0.2222222222222222,\"#7201a8\"],[0.3333333333333333,\"#9c179e\"],[0.4444444444444444,\"#bd3786\"],[0.5555555555555556,\"#d8576b\"],[0.6666666666666666,\"#ed7953\"],[0.7777777777777778,\"#fb9f3a\"],[0.8888888888888888,\"#fdca26\"],[1.0,\"#f0f921\"]]}],\"mesh3d\":[{\"type\":\"mesh3d\",\"colorbar\":{\"outlinewidth\":0,\"ticks\":\"\"}}],\"scatter\":[{\"fillpattern\":{\"fillmode\":\"overlay\",\"size\":10,\"solidity\":0.2},\"type\":\"scatter\"}],\"parcoords\":[{\"type\":\"parcoords\",\"line\":{\"colorbar\":{\"outlinewidth\":0,\"ticks\":\"\"}}}],\"scatterpolargl\":[{\"type\":\"scatterpolargl\",\"marker\":{\"colorbar\":{\"outlinewidth\":0,\"ticks\":\"\"}}}],\"bar\":[{\"error_x\":{\"color\":\"#2a3f5f\"},\"error_y\":{\"color\":\"#2a3f5f\"},\"marker\":{\"line\":{\"color\":\"#E5ECF6\",\"width\":0.5},\"pattern\":{\"fillmode\":\"overlay\",\"size\":10,\"solidity\":0.2}},\"type\":\"bar\"}],\"scattergeo\":[{\"type\":\"scattergeo\",\"marker\":{\"colorbar\":{\"outlinewidth\":0,\"ticks\":\"\"}}}],\"scatterpolar\":[{\"type\":\"scatterpolar\",\"marker\":{\"colorbar\":{\"outlinewidth\":0,\"ticks\":\"\"}}}],\"histogram\":[{\"marker\":{\"pattern\":{\"fillmode\":\"overlay\",\"size\":10,\"solidity\":0.2}},\"type\":\"histogram\"}],\"scattergl\":[{\"type\":\"scattergl\",\"marker\":{\"colorbar\":{\"outlinewidth\":0,\"ticks\":\"\"}}}],\"scatter3d\":[{\"type\":\"scatter3d\",\"line\":{\"colorbar\":{\"outlinewidth\":0,\"ticks\":\"\"}},\"marker\":{\"colorbar\":{\"outlinewidth\":0,\"ticks\":\"\"}}}],\"scattermapbox\":[{\"type\":\"scattermapbox\",\"marker\":{\"colorbar\":{\"outlinewidth\":0,\"ticks\":\"\"}}}],\"scatterternary\":[{\"type\":\"scatterternary\",\"marker\":{\"colorbar\":{\"outlinewidth\":0,\"ticks\":\"\"}}}],\"scattercarpet\":[{\"type\":\"scattercarpet\",\"marker\":{\"colorbar\":{\"outlinewidth\":0,\"ticks\":\"\"}}}],\"carpet\":[{\"aaxis\":{\"endlinecolor\":\"#2a3f5f\",\"gridcolor\":\"white\",\"linecolor\":\"white\",\"minorgridcolor\":\"white\",\"startlinecolor\":\"#2a3f5f\"},\"baxis\":{\"endlinecolor\":\"#2a3f5f\",\"gridcolor\":\"white\",\"linecolor\":\"white\",\"minorgridcolor\":\"white\",\"startlinecolor\":\"#2a3f5f\"},\"type\":\"carpet\"}],\"table\":[{\"cells\":{\"fill\":{\"color\":\"#EBF0F8\"},\"line\":{\"color\":\"white\"}},\"header\":{\"fill\":{\"color\":\"#C8D4E3\"},\"line\":{\"color\":\"white\"}},\"type\":\"table\"}],\"barpolar\":[{\"marker\":{\"line\":{\"color\":\"#E5ECF6\",\"width\":0.5},\"pattern\":{\"fillmode\":\"overlay\",\"size\":10,\"solidity\":0.2}},\"type\":\"barpolar\"}],\"pie\":[{\"automargin\":true,\"type\":\"pie\"}]},\"layout\":{\"autotypenumbers\":\"strict\",\"colorway\":[\"#636efa\",\"#EF553B\",\"#00cc96\",\"#ab63fa\",\"#FFA15A\",\"#19d3f3\",\"#FF6692\",\"#B6E880\",\"#FF97FF\",\"#FECB52\"],\"font\":{\"color\":\"#2a3f5f\"},\"hovermode\":\"closest\",\"hoverlabel\":{\"align\":\"left\"},\"paper_bgcolor\":\"white\",\"plot_bgcolor\":\"#E5ECF6\",\"polar\":{\"bgcolor\":\"#E5ECF6\",\"angularaxis\":{\"gridcolor\":\"white\",\"linecolor\":\"white\",\"ticks\":\"\"},\"radialaxis\":{\"gridcolor\":\"white\",\"linecolor\":\"white\",\"ticks\":\"\"}},\"ternary\":{\"bgcolor\":\"#E5ECF6\",\"aaxis\":{\"gridcolor\":\"white\",\"linecolor\":\"white\",\"ticks\":\"\"},\"baxis\":{\"gridcolor\":\"white\",\"linecolor\":\"white\",\"ticks\":\"\"},\"caxis\":{\"gridcolor\":\"white\",\"linecolor\":\"white\",\"ticks\":\"\"}},\"coloraxis\":{\"colorbar\":{\"outlinewidth\":0,\"ticks\":\"\"}},\"colorscale\":{\"sequential\":[[0.0,\"#0d0887\"],[0.1111111111111111,\"#46039f\"],[0.2222222222222222,\"#7201a8\"],[0.3333333333333333,\"#9c179e\"],[0.4444444444444444,\"#bd3786\"],[0.5555555555555556,\"#d8576b\"],[0.6666666666666666,\"#ed7953\"],[0.7777777777777778,\"#fb9f3a\"],[0.8888888888888888,\"#fdca26\"],[1.0,\"#f0f921\"]],\"sequentialminus\":[[0.0,\"#0d0887\"],[0.1111111111111111,\"#46039f\"],[0.2222222222222222,\"#7201a8\"],[0.3333333333333333,\"#9c179e\"],[0.4444444444444444,\"#bd3786\"],[0.5555555555555556,\"#d8576b\"],[0.6666666666666666,\"#ed7953\"],[0.7777777777777778,\"#fb9f3a\"],[0.8888888888888888,\"#fdca26\"],[1.0,\"#f0f921\"]],\"diverging\":[[0,\"#8e0152\"],[0.1,\"#c51b7d\"],[0.2,\"#de77ae\"],[0.3,\"#f1b6da\"],[0.4,\"#fde0ef\"],[0.5,\"#f7f7f7\"],[0.6,\"#e6f5d0\"],[0.7,\"#b8e186\"],[0.8,\"#7fbc41\"],[0.9,\"#4d9221\"],[1,\"#276419\"]]},\"xaxis\":{\"gridcolor\":\"white\",\"linecolor\":\"white\",\"ticks\":\"\",\"title\":{\"standoff\":15},\"zerolinecolor\":\"white\",\"automargin\":true,\"zerolinewidth\":2},\"yaxis\":{\"gridcolor\":\"white\",\"linecolor\":\"white\",\"ticks\":\"\",\"title\":{\"standoff\":15},\"zerolinecolor\":\"white\",\"automargin\":true,\"zerolinewidth\":2},\"scene\":{\"xaxis\":{\"backgroundcolor\":\"#E5ECF6\",\"gridcolor\":\"white\",\"linecolor\":\"white\",\"showbackground\":true,\"ticks\":\"\",\"zerolinecolor\":\"white\",\"gridwidth\":2},\"yaxis\":{\"backgroundcolor\":\"#E5ECF6\",\"gridcolor\":\"white\",\"linecolor\":\"white\",\"showbackground\":true,\"ticks\":\"\",\"zerolinecolor\":\"white\",\"gridwidth\":2},\"zaxis\":{\"backgroundcolor\":\"#E5ECF6\",\"gridcolor\":\"white\",\"linecolor\":\"white\",\"showbackground\":true,\"ticks\":\"\",\"zerolinecolor\":\"white\",\"gridwidth\":2}},\"shapedefaults\":{\"line\":{\"color\":\"#2a3f5f\"}},\"annotationdefaults\":{\"arrowcolor\":\"#2a3f5f\",\"arrowhead\":0,\"arrowwidth\":1},\"geo\":{\"bgcolor\":\"white\",\"landcolor\":\"#E5ECF6\",\"subunitcolor\":\"white\",\"showland\":true,\"showlakes\":true,\"lakecolor\":\"white\"},\"title\":{\"x\":0.05},\"mapbox\":{\"style\":\"light\"}}},\"scene\":{\"domain\":{\"x\":[0.0,1.0],\"y\":[0.0,1.0]},\"xaxis\":{\"title\":{\"text\":\"X\"},\"range\":[-60,60]},\"yaxis\":{\"title\":{\"text\":\"Z\"},\"range\":[0,175]},\"zaxis\":{\"title\":{\"text\":\"Y\"},\"range\":[-60,60]},\"aspectmode\":\"cube\"},\"legend\":{\"title\":{\"text\":\"Ring Number\"},\"tracegroupgap\":0},\"margin\":{\"t\":60},\"title\":{\"text\":\"Rings of the GlueX Central Drift Chamber\"}},                        {\"responsive\": true}                    ).then(function(){\n",
              "                            \n",
              "var gd = document.getElementById('6e1578bb-a0fb-4e67-aa54-e51e93752a3f');\n",
              "var x = new MutationObserver(function (mutations, observer) {{\n",
              "        var display = window.getComputedStyle(gd).display;\n",
              "        if (!display || display === 'none') {{\n",
              "            console.log([gd, 'removed!']);\n",
              "            Plotly.purge(gd);\n",
              "            observer.disconnect();\n",
              "        }}\n",
              "}});\n",
              "\n",
              "// Listen for the removal of the full notebook cells\n",
              "var notebookContainer = gd.closest('#notebook-container');\n",
              "if (notebookContainer) {{\n",
              "    x.observe(notebookContainer, {childList: true});\n",
              "}}\n",
              "\n",
              "// Listen for the clearing of the current output cell\n",
              "var outputEl = gd.closest('.output');\n",
              "if (outputEl) {{\n",
              "    x.observe(outputEl, {childList: true});\n",
              "}}\n",
              "\n",
              "                        })                };                            </script>        </div>\n",
              "</body>\n",
              "</html>"
            ]
          },
          "metadata": {}
        },
        {
          "output_type": "execute_result",
          "data": {
            "text/plain": []
          },
          "metadata": {},
          "execution_count": 3
        }
      ]
    },
    {
      "cell_type": "markdown",
      "source": [
        "Based on the position of the wire we detect a signal in, we can determine the x and y coordinates of the hit. In later sections, we will see how we can use the layout of the detector to estimate the z coordinate of the hit as well.\n",
        "\n",
        "Once we have coordinates for all of the hits that are left by a track, we can use the path of the particle to gain information about its momentum."
      ],
      "metadata": {
        "id": "uEv_E5Enpnq6"
      }
    },
    {
      "cell_type": "markdown",
      "source": [
        "####**Question #3:**\n",
        "---\n",
        "Based on the interactive plot shown above, how many \"rings\" are there in the GlueX central drift chamber (CDC)?"
      ],
      "metadata": {
        "id": "Q3MD_YFeqzeE"
      }
    },
    {
      "cell_type": "markdown",
      "source": [
        "Double click to edit this cell and answer the following question: How many rings are there in the GlueX central drift chamber?"
      ],
      "metadata": {
        "id": "qsLN-VNNqzeG"
      }
    },
    {
      "cell_type": "markdown",
      "source": [
        "#####**Solution:**"
      ],
      "metadata": {
        "id": "tyyYO4kLqzeG"
      }
    },
    {
      "cell_type": "markdown",
      "source": [
        "There are a total of 28 layers in the GlueX central drift chamber."
      ],
      "metadata": {
        "id": "Sldbd8zQqzeG"
      }
    },
    {
      "cell_type": "markdown",
      "source": [
        "####**Question #4:**\n",
        "---\n",
        "Using the interactive plot shown above, plot rings 4, 5, and 9. What differences do you notice between these three rings? **Note:** It may be easier to see the differences if you plot these rings one at a time."
      ],
      "metadata": {
        "id": "RIR54FwWrSg3"
      }
    },
    {
      "cell_type": "markdown",
      "source": [
        "Double click to edit this cell and answer the following question: What differences do you notice between these three rings?"
      ],
      "metadata": {
        "id": "wiayDGcIrShV"
      }
    },
    {
      "cell_type": "markdown",
      "source": [
        "#####**Solution:**"
      ],
      "metadata": {
        "id": "TOaC6UORrShV"
      }
    },
    {
      "cell_type": "markdown",
      "source": [
        "One observation is that as you increase the ring number, the radius of the ring increases. This is due to the fact that the rings are numbered from the smallest radius to the largest radius.\n",
        "\n",
        "Another observation is that ring 4 has wires that run parallel to the z axis, while rings 5 and 9 have wires that are slightly tilted. Ring 5 and ring 9 (and around 16 other rings in the detector) have wires that are tilted by 6 degrees. These layers are called **stereo layers**, and they actually allow us to more accurately find the z coordinate of a hit based on the timing of the pulse of electricity. Ring 4 is what we call an **axial layer**, meaning its wires are lined up straight in the z direction."
      ],
      "metadata": {
        "id": "Z-SSJs6DrShV"
      }
    },
    {
      "cell_type": "markdown",
      "source": [
        "####**Question #5:**\n",
        "---\n",
        "The cell below creates a plot of the $x$ and $y$ coordinates of the wires of the drift chamber. There is a z slider, which allows you to change the point along the detector you are looking at. What do you notice about the wire positions as you change the z coordinate? Compare the behavior of ring 4, ring 5, and ring 9."
      ],
      "metadata": {
        "id": "Gbyz0nBDhQLU"
      }
    },
    {
      "cell_type": "code",
      "source": [
        "Ring_1 = 4 # @param {type:\"slider\", min:0, max:28, step:1}\n",
        "Ring_2 = 7 # @param {type:\"slider\", min:0, max:28, step:1}\n",
        "Ring_3 = 9 # @param {type:\"slider\", min:0, max:28, step:1}\n",
        "fig = CDC_plot_2D([Ring_1,Ring_2,Ring_3],showlegend=True)\n",
        "fig.update()\n",
        "fig.display(z=(0,175,0.1),rings=fixed([Ring_1,Ring_2,Ring_3]))"
      ],
      "metadata": {
        "colab": {
          "base_uri": "https://localhost:8080/",
          "height": 549,
          "referenced_widgets": [
            "af8d3dc58f944edb8ca2fd81b07132a7",
            "ff7899b3da2446eeabe77549563c4118",
            "5fcc66f1e7114c81b2c9e07af623da25",
            "298c420ad2ae4a81bdcfc3cb8ac58a06",
            "4d556eb88e704dc8a95b1d33f80a2060",
            "3df49010b3ec49b08b9b98b3554f94f8",
            "e6fb498cee9c4c9bafa2b86a1180e2af",
            "b0b112203a314260882a1a00d3647c94",
            "79b2c76ff82d4fd29349a6ff025b24f4",
            "2b9d8d61677f48e59648844fe4703952"
          ]
        },
        "cellView": "form",
        "id": "76RvDscdh9GT",
        "outputId": "be3a3d67-a95a-4828-ccda-62e37dd544f2"
      },
      "execution_count": null,
      "outputs": [
        {
          "output_type": "display_data",
          "data": {
            "text/plain": [
              "VBox(children=(HBox(children=(FloatSlider(value=0.0, description='z', max=175.0),), layout=Layout(flex_flow='r…"
            ],
            "application/vnd.jupyter.widget-view+json": {
              "version_major": 2,
              "version_minor": 0,
              "model_id": "af8d3dc58f944edb8ca2fd81b07132a7"
            }
          },
          "metadata": {
            "application/vnd.jupyter.widget-view+json": {
              "colab": {
                "custom_widget_manager": {
                  "url": "https://ssl.gstatic.com/colaboratory-static/widgets/colab-cdn-widget-manager/2b70e893a8ba7c0f/manager.min.js"
                }
              }
            }
          }
        }
      ]
    },
    {
      "cell_type": "markdown",
      "source": [
        "Double click to edit this cell and answer the following question: What do you notice about the wire positions as you change the z coordinate?"
      ],
      "metadata": {
        "id": "1RWfhqwghQLo"
      }
    },
    {
      "cell_type": "markdown",
      "source": [
        "#####**Solution:**"
      ],
      "metadata": {
        "id": "0ukTcNNnhQLp"
      }
    },
    {
      "cell_type": "markdown",
      "source": [
        "As you change the z coordinate, the positions of the **stereo** rings (the rings whose wires are not straight ) change. Ring 5 is a stereo ring, so as we increase the z coordinate, the tilt of the wire affects its coordinates more and more, which we interpret as a \"moving\" of the wire positions. Ring 9 is also a stereo ring, though it is tilted in the other direction, so as we increase the slider, the wires seem to move in the opposite direction of the ring 5 wires. Wire 4, however, is an **axial layer**, so the x and y coordinates of the wire do not change as we change the z coordinate."
      ],
      "metadata": {
        "id": "lOwddXoAhQLp"
      }
    },
    {
      "cell_type": "markdown",
      "source": [
        "---\n",
        "###**Curvature of Tracks**\n",
        "---\n",
        "\n",
        "So far, we haven't talked about how we can actually use these tracks to find the momentum of the particles that leave them. On its own, information about the track doesn't give us the ability to determine the momentum of the particle. Instead, we use a magnetic field to make the path of the particle of the particle curve. Based on the curvature of the track, we are able to infer the momentum of the particle.\n",
        "\n",
        "This method relies on the fact that charged particles moving in a magnetic field will travel in a circle.\n"
      ],
      "metadata": {
        "id": "0xPF-dRBRL3z"
      }
    },
    {
      "cell_type": "markdown",
      "source": [
        "<img src=\"data:image/png;base64,iVBORw0KGgoAAAANSUhEUgAAAjwAAAIxCAMAAAB+T5J2AAAAAXNSR0IArs4c6QAAAARnQU1BAACxjwv8YQUAAAMAUExURf///6mpqYeHh6KiovX19d3d3Y2NjQAAAAYGBuzs7KGhoQsLC/Ly8urq6gUFBZGRkUFBQV9fX1BQUDAwMODg4AEBAcDAwLKyss/Pz4GBgSIiIv7+/vv7+xgYGG9vbyMjI4KCgnV1dRQUFPn5+cHBweHh4dbW1q2trWFhYURERDg4OExMTA0NDaWlpZmZmQMDA+fn5w8PD/b29vHx8QkJCYqKimdnZ1xcXCkpKcjIyL29vSEhIWhoaICAgBAQEPf395eXl09PT1hYWGRkZH9/f6SkpN7e3qampiUlJYSEhO7u7kNDQ0VFRQICAuLi4l5eXv39/YODgz8/Pz09PS4uLhYWFmtra9DQ0Dc3N4yMjB0dHbi4uMnJycLCwjExMTQ0NCsrK5KSkvj4+DU1NdLS0gwMDPPz87+/v+np6Z+fn1RUVD4+PrW1tU5OTrGxsdzc3BkZGfz8/Dw8PBcXF3x8fHd3d2ZmZnR0dNfX13Z2dtXV1bu7uzk5Obq6upqamry8vJiYmDMzM6ysrFVVVWVlZVtbW7OzsyAgIBsbG319fW5ubhUVFRwcHOvr6yoqKiQkJEBAQMrKynNzc/r6+g4ODnBwcNnZ2cTExMzMzEtLS5ubmyYmJtHR0WNjY11dXfDw8EJCQlNTU+Pj4ygoKN/f383NzUdHRxMTE4+PjwQEBFdXV5CQkJ2dnVpaWs7OzqqqqmJiYsfHxwoKChERER4eHpOTk56enhISEqenp1lZWS0tLVFRUTY2Nnp6euXl5UpKSu3t7aOjo8bGxlZWVmBgYMvLy21tbcXFxZaWli8vL9ra2qioqLm5uaurq+bm5ra2tre3t6+vr8PDwzo6Ou/v77S0tLCwsI6OjoaGhnl5eXFxcTIyMggICL6+vh8fH01NTTs7O3t7eycnJ4WFhWxsbElJSejo6H5+fhoaGgcHB66uriwsLFJSUoiIiJycnJSUlOTk5NTU1EhISPT09NjY2ImJidPT09vb22pqanh4eJWVlYuLi0ZGRnJycmlpaaCgoEbgSioAAAAJcEhZcwAADsQAAA7EAZUrDhsAAARbaVRYdFhNTDpjb20uYWRvYmUueG1wAAAAAAA8P3hwYWNrZXQgYmVnaW49Iu+7vyIgaWQ9Ilc1TTBNcENlaGlIenJlU3pOVGN6a2M5ZCI/Pg0KPHg6eG1wbWV0YSB4bWxuczp4PSJhZG9iZTpuczptZXRhLyI+DQogIDxyZGY6UkRGIHhtbG5zOnJkZj0iaHR0cDovL3d3dy53My5vcmcvMTk5OS8wMi8yMi1yZGYtc3ludGF4LW5zIyI+DQogICAgPHJkZjpEZXNjcmlwdGlvbiByZGY6YWJvdXQ9IiIgeG1sbnM6QXR0cmliPSJodHRwOi8vbnMuYXR0cmlidXRpb24uY29tL2Fkcy8xLjAvIj4NCiAgICAgIDxBdHRyaWI6QWRzPg0KICAgICAgICA8cmRmOlNlcT4NCiAgICAgICAgICA8cmRmOmxpIHJkZjpwYXJzZVR5cGU9IlJlc291cmNlIj4NCiAgICAgICAgICAgIDxBdHRyaWI6Q3JlYXRlZD4yMDIzLTEyLTA1PC9BdHRyaWI6Q3JlYXRlZD4NCiAgICAgICAgICAgIDxBdHRyaWI6RXh0SWQ+M2NiYmI3MmQtYzQ3Yy00YmJhLWEzOWEtM2RiOWRhM2FkMWQ5PC9BdHRyaWI6RXh0SWQ+DQogICAgICAgICAgICA8QXR0cmliOkZiSWQ+NTI1MjY1OTE0MTc5NTgwPC9BdHRyaWI6RmJJZD4NCiAgICAgICAgICAgIDxBdHRyaWI6VG91Y2hUeXBlPjI8L0F0dHJpYjpUb3VjaFR5cGU+DQogICAgICAgICAgPC9yZGY6bGk+DQogICAgICAgIDwvcmRmOlNlcT4NCiAgICAgIDwvQXR0cmliOkFkcz4NCiAgICA8L3JkZjpEZXNjcmlwdGlvbj4NCiAgICA8cmRmOkRlc2NyaXB0aW9uIHJkZjphYm91dD0iIiB4bWxuczpkYz0iaHR0cDovL3B1cmwub3JnL2RjL2VsZW1lbnRzLzEuMS8iPg0KICAgICAgPGRjOnRpdGxlPg0KICAgICAgICA8cmRmOkFsdD4NCiAgICAgICAgICA8cmRmOmxpIHhtbDpsYW5nPSJ4LWRlZmF1bHQiPnIgLSAxPC9yZGY6bGk+DQogICAgICAgIDwvcmRmOkFsdD4NCiAgICAgIDwvZGM6dGl0bGU+DQogICAgPC9yZGY6RGVzY3JpcHRpb24+DQogICAgPHJkZjpEZXNjcmlwdGlvbiByZGY6YWJvdXQ9IiIgeG1sbnM6eG1wPSJodHRwOi8vbnMuYWRvYmUuY29tL3hhcC8xLjAvIj4NCiAgICAgIDx4bXA6Q3JlYXRvclRvb2w+Q2FudmE8L3htcDpDcmVhdG9yVG9vbD4NCiAgICA8L3JkZjpEZXNjcmlwdGlvbj4NCiAgPC9yZGY6UkRGPg0KPC94OnhtcG1ldGE+DQo8P3hwYWNrZXQgZW5kPSJyIj8+gpFnKwAAL2xJREFUeF7tnXmAjdX/x5+kPsSU1NjGFimkxjK00FjSJBpJKaESTUKFpIWi1Roq02KJCFmKIlFJSoqSvbRok2intH/71e8553mf57n3zr3jjrn3Pufc+3n9Yc7n89xxz3POZ57nLJ/z+VgMwzAMwzAMwzAMwzAMwzAMwzAMwzAMwzAMwzAMwzAMwzAMwzAMwzAMwzAMwzAMwzAMwzAMwzAMwzAMwzAMwzApz2ElbA6HEExJcanEEZAYJpQjyaZUaUhBHCUulSkLiWFCSTtamMgxkIIoJ64cC4FhClJemMhxEAI5Pl1cqQCJYQpSUZgIVYIUQGWhr5IBiWEKUrWaMJLqkAKoIfQ1ITBMOE4QRlKrNiSXE4U6vQ4khgnHScJK6GRILnWFth4EhglPfWEmp0BQlGwgtKdCYpjwnCbMJLMhJCAXeRo1hsQw4WmSJQylKSQgF3maQWCYSJwuDOUMCA7OIs+ZkBgmEmcJQwm2FLnIE2xPDBOGjObCVFpAkshFnpA3GcOE4WxhKtktIdnIRZ7QMTRTLFq1DqF8m3PanpuDq+bijHDOg2QjF3lCZ+9MsWgm2rQg7c5vjw+YSgdxGxdAUIs8BdYNmeIQwXjsR34rfMJQThU3kdsRkrPIU3DHgikOEY2H6MJO+IyRtMwW93ARJGeRJ8xeKVMMpPE06Oxx8SVdhEpwKT5jJi3ELdSA4AyBLoPExAZpPF0hgDqXdxNaou5QGEkPeQtXOIJc5LnSKTOxIpzxWFYT6YxHV0E0k57iFuo6ZbnIc7VTZmJFeOOxevUWeroGopFcLu4g71pRlIs84X3imUMngvFYfYTe7AXZ66QjfF9RlIs8/aSWiR2RjMeSrpynQzCT1uIW+tsFZ5HnekfLxIyIxnODuOAtspnIjeIW0gdgkWfgIKiZWBHReM4RF26CYCZVB4t7uBmLPEOgZWJGROO5RVwwfC/oVnEP3To5izy3QcnEjIjGIwcMt0MwlKHiHmiYXOS5AzomdhQ+YL4Tgql0FTdRTQ6Xh0PFxI5IxjNC6GsYvbtlc5e4C0lWE6iY2BHBeHrdLfT3QDIWxxFeYPaig6aEN56W9wr1fZAM5n5xH4KzoGBiSDjjyRh5idDeXxWywTiO8ESjOLpBHJDGM7qtx5ix5ccJXV5SbCNmjBL3QtQWMhNLpPGEodx1+ACTknSqGsVkKZLxPHBzmPg2TCow/tTTJ8iJxsTyrY6HLjyRjMfmwRPxGSZl6PTQ2V1z0f+SMx4+axKuFUQaT2ajAPIz5W/ZpD/CDuMpxqNyYyGIqx7DtYJI4wmebWWUfbyV3EokmhzZ6pgkZEopp98pe+pNE2qhTEMiTVXDGI9k2nHy956AyKQAg6QnBWVNP3mGlBtfP9Y5DNE6wvJ8JOOxastTc2b7wCeUjEFVB3UyeTmp9JOyx2fOgiyYUV3qnpoNOZiIxmPNkFuj9SExhTGn7dynRWsR9Zw3HjrjGCLqPz90S+qhRkK9IOzEPbLxWAvFJT7rdHCekSE5XJ5dBL1ZLHZq/1yImbR11GFd6QoxnuukD9WRkJjwZCwONh1BawPNJ006rtjUDbKei6Cl56EIpBDjsSaIawsgMGGZNET+iYWwxLyhojCEvCqi8oHPnnlCsfQF+59w45fCjGeuuCZOHySGQZV6oWQOvS4QbVSQzGX4gCkMFat7LzZ8SlTesx5pO8vnLBI/VkAXQGHG85K49jKEuDOsG+WZ1uSRbMdmHj5iCMIOJlhWsPXAdhzPljBGUpjxvCKurYQQZzq9Kr6MzodoCM5ENiy5RnnSZQy0qyy2owKtx7Uda5VdSF8ldEEUZjwXi2uvQYgvq+uJ7zLtSPDrTqXDk/UGPmUC19gV7ilLnvV4tmNZa+xiwYBNhRjPIDnDfxNSXFn7gPgqwUPQmEAv6fgUkdb4mAkMt+v7llNU1hNoO9IZfKZTDKAQ43lbXKJ1kOJJK7WlQmUCQlBqTwlUOgLpBk3Yx9j1fQZlx3rkwRNlO9bztrAeZY9CjMcJs/IOpPjR61n5RZJ3oTOBkstR6UiUxwcN4Am7uhtQhvXYuLZjdbSlwSh7RDae9+QChj0CjzM568X3SDKNioPYF7WOSPpGfFJ/xINiKMqu9Xi2Y1m2eDSKHhGNZ7FzauUwiHFjk1rZJKrWAzoNaVy2/XWr6hzx6NDLHj/zsQrDNo/c8p5cQy0Uc/4WbrJrG5CITJ6xpRsCVgtFL6HoEcF4ts4UeqK747xN3OlVb4F2WxqU8aFqy2u3p23smPPO0GlzerxdYUT39z+4Z8Xrfae0unpH0w9rjvnohI/fanHOm6e3mdl68twO/bet/OSSM9o17zawVnbezvmoYZFZ8sD6DnXP7vup9sm4p9uVfRxlzLNsAtaabakRih7SeD6bF0jNhz+XG+o21eKcFm91Z3yRzQkHD4HiR//HiAe+ePbLZ7Zqe6rgEbuKm1B2bEc6o7rWU8cWdqHsIY0nEl08Y4wLi8TSlMPO+3Y0/aqy6P/dov8XiP5/UvT/y6L/q4n+xyeNJv+ql9qeulaGutOKpnbdPkTZmaNvcNd7BB/Y5c5OMYDCjOfrPfhQnDhNxn1LRSZObzUtYEDhPyIOFoIxqfUdb7XQRgTcKeiVEdF4cl/bFOfxzpn4phSlQb29mx13Tw1IE0NPWRtvbTDQer6xSwWdMsIYz7ddpt409lQ38H7ccLweU5ueLRbHd5oQLWJNUGwserYTaD3f2T/ztXKxxUngVCf9+7FbVqNJ/GOZXZMlaUG2E2A9wqFHrwSbMhJH4pi/My+71sBuzdudccknK7f17zB3cuuZbU5/85wWb318wkdjan7YdMfVrYbv/WGi/QCfN6LC2z3mTBvaD78af477EY3iF70+s2tRL9h2XOt5y/6ngR5PSMXqq0TNikKm6P9qov9fFv3/pOj/BaL/d4v+r/yV3f/rhvd9fcV7W97vPqLCY6L/H83puDGt/bUto4j40X7xm1ii+AoasV1YgGp3f96i5k+bp5V2Y/9EpP+ZFad8Vf2lDhMhF4LvOVW2oCKBtuOuNduUgEYXegmLBnn9ZP+Lv/9I/Y/fig8dm25DTWxU4n7hqOCR33v6Vyd7a/hRjNm8FeaOFfqOOX2bWj4Lg1pk8W8WP9mpSJDteNajMsBoxPvuqUTKrOzf3HX8uouDPJGzoLfKOHKDbWP3jdgPnctB97aowGmnxj9/96o6pBNMSXxi8vc3+3ReZcYuUY9vg23Hth557i//UYg6sQfnmgU3xX+CF46yR/1SYPkZuXKsB6lK+bbfRdhcOOBZfngKLsk6dPzuy19Cflc965oIYf0OX1Kh/ir9t3pPg+iw6hShzNXToT/jN2+lsNEWKBPI4pnhVq5r4uoRB1AIC440RWQzPheW44OeQZdDu8IRc+ee54NjUx+nPpd6f8TbSzgDuxcha8fagHNPtyT2/ESlt8K+QogexAcKZ4aMMB+RufhYITza6l7HG/F3KLwZaKP7IkeniBezMcA54+OFK0Ys3veRk/qIBoY7s6UJZS906ijY1hjK+LP6aieWQwHyf5hSYHwTnpPxG2HJDBhbF8bvx7TO7oKyFTSDq1Ei0UeXmxyLrw6kg95uSYfloZ5Ep0EVZwZtutd1fQ3iuCFFCWlV2OmJ7/CZaFCjKplqJYBv79+KK4li7Rf4asXUYbiiLbNl2GfBx9DElfYlXIf7QJau6VvUreBf8KsFOaRzW2H+8HfN246LCeLOsd6yVLU3TThAVPUjVPc9KOLIH38uwZcFsvQ514e3CLSMYD2H6FD7Z7jRe1bdRB8pGb9o2Lt3ndp9bZRvb//5VK6gRTHILCZ9bgha0nHIn/4+LheV2n+F+e9oyaE+6w+cJ6fGoVx1slYOHPqx+lmi1nGeoA56/Up0RwBZa27E5UPi+oJRMjqrydOh0H74g/hvAtn1Ikf4K5SGcXZ6bfl3wY38rJmHFdtgLwx++FQp9nJVwx1htv0emFfoohMTTw78r+DWUs9lMUmGU2deOTVY2XVrBSiLx9C35HpvEE+39d91IyWZcVHB9cCX1C5EDBChAGxGQ4wBjZ8p+Pgp87GxQetMRpzUD6LKbzHth9gbj02l+7Az65H3aoJn7oxlyfhEHuVjvdMXF+OxrLJ/v+z8xx7ZF7H5JJqv0fY2O/+M/cg8TsZj8/b00MWf7Iv0O7uTlLgTXBHnQZL/VzwcKuNnPJaV9rC3feNQq4Ty/2HiRqe+n/VF0fpHNnuXD+Nz3CWexmMP92uGRuToFvcgAilOxgff292plnHEo2fUvnitQsbXeMItNHTmRPFxZKjjZKxO0Vr1eh6OUhyIt/HY/C0OwAQw3xd/w5Sgyf/BudQ9MxLXsyMJMB7L6tvO+RaHf6FlYs3h3lMesfbiS0KMx7KmeKEhGrSHjokteGOB8ClbYkuCjMc6UFmtGxoW6NkUSqo3FkhEfvhEGY9l7RERK4gmQrSsivjJxIA+wXvnO79MxJpI4ozHsk4S5/NcB6Tf6J/C08gyUdNyd7CDxCuJadlEGo9lVfj+ApSsHPtbyxzJzj6x4DJ57tHlqdg4SBycxBqPZbmR8p2EjC+vhcgcMpNqBgUbyz4G+viTaONRnOp8L2Xu5YdP8fjVC+ksuCWBvlM+Gc8Mz0vp7gHQMYfC5WhGhy9+hjoh+GQ8zzlfK8k7CkqmyLR3dj5B/nCoE4RPxhNw2NamPK8bHhpbu6EFJfUKJoeKL36NeTYFnZfvdihnz1KeQZVFmkNFoylQJw6/jMfaHvzw8T3CmHl0FLkTXBL+2LHxzXhCHz4r43x+KenYsBQtJ2ik8kYlFB+Nx9oedMR9uZsGgImCh9Fskq99eOzY+Gk89sNHBNlWpH+pVcRkrSkduIO+829oE02hxnNp64jgE8WlbF3n+x2+5sOB0XGZCCCsqJHQtZ1ACjWe4C2TIPCJ4nOjl7eM6AWNM5dpxLuBsbTW+HemwHfjsXKCYjgkbmPGWAZ9jLYSlPkPWj/w33gsazf+T0mL2tAy4Qka7vT0dW/n4MbTrXM48InYEPTq2mZUivqEMzTQ68tnd/CDG0/BdFWxJ+jVNYrP5kSme0AQEj9COAehh/HYEztZDYf8D6BkQlkWsCGxy3d3BF2Mx3ov4NWVLjJoMQXZHnCCsnNMQjQVC22Mx/oj8GV+Pw+bwzLNnaTvhsZP9DEeq31A/h7qwLHowjIS7aNFYgSNjMey7pd1cajP0XzCskM0ztJEubgXjlbG42R7BJfwNntY6hJNTMRx0CjQy3isYQERfV54B0rGsnLw0+YCDYbKDpoZj3VbgGNll+AUWqnM89lrULKssvjpP7oZj1Ua+Y4E2RrnPEooz5chmo6yRmhnPJYVkIigDPs2C0bIIBE6TM6D0dB4AnPo7Cw062CKMOJbpzHGQNYGHY3HUqmEbDiUhtUdTUG0DBpd0NJ4rGWyUjYJyESlO5u9iMQToNIFPY1HJbw9F2IKE2A7PXXLwaCp8VgbxCaOL+dJ9CLQdrQ7V3tw4/n+2AL8hevxpEc2rUMxhQmwneP0O5N9cOMJQ6Ss/THl94CMlamaMyfQdnRZVg5AX+MJ4NwGqXmqIsB2emtoO0YYzzqip1MxiE8Pz3a2aZny5eDGs3xXAb7G9cRwvqhFDX8O1PrJAC8A1rbG0OnFwY3Hn9mWxyOygvS9PvuBiaF0DefGbdZrmitIe+NxY4g9GecM0prRciXum2iqroeRdDeenCWyfoIbqkKXCnS6AXdN9I22b2ztnzxnyfpJTocqFaiOeybKfhQq/dB/zLNYVlDSFqrkpwTumGjJQ1BpiP7GY+2TNZQshirZCfiD6QOVjuhkPNsjHNa6XVZRkPUYVMnNIi+Eyj1QaYlGxvNfbrWNKIZwr6yjYFxHqJKZNM+PO2CLRkM0Mp4FASlxQvCiiui4xRNjJnlRTjUf5PluPMP+VBlUn7/yh0gLqQe8KBpzO0GXtDTDnRLdC42uxNF4Rh6BQqE0oy9RKoyA5dbEjcH8oRXu037KQqMt8TOe7elHR7MjE53xWAO8uDRxzPWsAVvd/EfjIowA9SF649nz+gar06YhLc4XBznLTnmkxQ735nIWPnLLmA3u+yTtrkd2H1nnSGojhNdfz7CO/9+fu6/eL68JVu17uFnlraLUuG/fB+nzvjZlxReoYEWTTt7b7MsXg0c3w2Q9BUt8i/6ZAPaMw10SabzAA6I3nj70RfsHhSLzXeuKWqKQd5a80BCToW0ITTBc7ihkfnuTdH0jqvqbjEj07Qp51er1rxOg6OJV9q/KkuAP8QWfOZ/Y0kWqylztiMDLDdRT033CGNCpHO7RiDWtohjP+q9Hz+vz3lxqNKfRlX0r/HcGjRaJ1vY3p9E1N5217wV6U36uYvr86psrNF2afpkU7elmepv3rjjvYtopp9kZ/9DoI994/Jmp1LNx8JNHGc/wdHrwtPdfvCH0qMmzsqaCY6FJPtriDoluhUZnimI8VOU6+2enMyi3nljOW7WTRKSP7S/8MkNcf57KyBfX3fQ/8aNHbg25kWn/DzKf1qSn6EfxcxmNEv+LNaOKEzbXG/PAeN7JoppS/pvWB4eE/0RUR9IXmmTj01zcIJWDRmuKZDzvykJ1IifkZFeSWXpOcsbF44mEq3HLdJLGYa0nOawh+lyK1hhaIH5MVedp9pEMqVrAeKrTTVK05x0hLjyrnNeZTZIOe/a4qVyaG7GcVRTjSXfu6EOVG/0GWugUBNeeQ9TQ/rma0p2soR1IxqUkel2K1mlUz/53KOXCo7IS1RI/ChjP6MjPledlXQVJOezxBjz5+u6kB1IU45GdLXZ84YbamuY5hbIban4uzuIL47GepjniR+3BJCOkEC0SPyyrr3zSVKQG/3P4kjKFOtR4DqjnWjheFBWSJOOwxxvw+B0jN0qKYjzOeNY2Hqx8wng2HisctZsvPNoxnldp2x57En4frReSbTxYK3SM5yfxX4L5Qh1qPAOICnGc+xe/mozDHm/A43Ns7qgp1HiCCDAeOXhRxrN/IL1wc8U6lvWtYzyTXqEyd5SrRdm/C8k2HsRAc4zncBq9RSHjp4Qaz36iwjzn3H2KMlGtXxvEeHfA084Uh9viG091ukoOQAblOsZjPSaCBedNR0jBEOPpTtmOqAg1nqq5dKYjhyVHhqoR1E+yTa4FuC/aacxsoPjGcwf8Buz3jTSeHXRsx/1p7iQ7xHg2plNw2xQYMK+ks6VoWRXCHRTt61TYpgQ0ycEm3BXRXdDoT/GNpzfW8irDeC6hO6UMQozHtrXnpGhtrC8DN4113/D4goVUy8nZtv3pceHmVDOdGhOVSq6gc6/itl6DbADFN57nqL5YDbwii0hOMO+lS4aPHPbYInvULAg1njuJaoolxo4r6VUhL6RuTSzrNvtJhS9oOYF6H2//3H9H+ClVWddVqkpyBfp+fKK4qQcMij9dfOO5rBT1HPNjv/n/Pks9f7DHIWkqIuVUuTsTajxW5XQad0ObmzLpC9n3+5fQN/0uTq/ofcHQz2h+/zadj6ZLwk+7zsT/T9QMmiShpUg8ZtKp/OIbj7VB/MXknTDpj11UaqM1e03W+vKndL67eS6ld7evFjAe6/r+6fYv1HoVc4oND9hStZEBX1B6t/C/yHoi0pT9IvuqQ7LFu+zzTWWUjCB644lMxqMVKsktitWNrSbfpMOXdPw2Ku+UCrD6ssdyvBN8g36/Iidk5lT70RMXFTJf7e9UmmhwssVeMStnQiyMJ5CR1A4laxl1RSnWNHTz0Sfv/roJxNp4tlAtZ2vLst5yvMHiwblOrW0+hcZk2p+IgmnE2nja59G9s0Sh7IeZ5DiLxYN/nGoT7eoFjcEcS89JpxbjiLXxWO8dTekTL+7fcz5lSr+e+LDfPRZn/hHkPvZddIl06EhrYm481m0tJmYS5Va5xdnbihPHOPUm+vZXaEyll9x+pnsNHPvH3nhsqrZvH+wDGAfcHVIjfO4KQTliLDcvU0JcjCcR/OxU3MbsKPG/IrEE0VpozMFY47H2OjWnV80eMssDKYK6UBjAmcc2Gyp+BhnPWW3GeqertKedqPiThodJPU82v022OWMeMd7ME7sHgcbzt11oEL/pdax5w6626QF7en3mtL/u8TACuUfWN292kPE4HiVZfzgfMYDqQ4x3g3cjgL0MhQF87dT4uNoBxjMLYX+dQ1NMIkjLd9rcqNHyhahydc94qn7hlAxyZDMfN5qKSc4l16DO9IFrPH85BepipIeVmVm0hzqn9u3RslG76SrMXwN4Vo3+VPjYCORJPcOo9EV+GopGMRdtblhisaoqvvgE50c1lefgLXzAIDreb9fbRN+MzU6TE10FhSnMaoCKO5TCz/XKn8IYyg5xcsM4MTlMYhD+cA1cW/4OFQ+iAVxGzeGd5aj6XCjM4T/UnF6BwiD+RNUDMXDA8xSqrnW063AMqoKKk4F+AbV7ou4e1XHJJCqi7sq93hjc04tOTCzDeMeLEenwSYQI7HrjphYy69HjPXik46VxuKN9B/MGPJITUX3DHj3ug+cRKEzj/1B/BxNXeASuP7NJjx73wVPGOVttHlXV4U6BgSs8DpfhBox69LgPHnN9sPdn4xZMXOFxcUMfmPPocR88yw0+b+8G9sg3c8AjuQ33YNCjx33w7IDCSNQml6kDHsmbuAkyJehKxlRUeBwUZoJhj7EDHklHeQ82iMCgPVtQX/oKCkNp/719D/0MTxx8n9MVNN+QxdquqG+WzLBgML1+u+GuQSibyq/oDEOcqtx40g9DwfhJa/RGlhGnP1RtC437yiSKx9AbbtRonXlUOd4ZdFQrqVHLnUujSRDnM67nshlJApIfd/4iI91pzSoV4aM1FIzfNEePPABZX1TMXAMPpycrw9Ej2if9qKrcxftDwfiPSsaluz+q+4I9GQrGf85Hn6SLCOAao87bVIPMaMB4dIrms/U6ap4+BgpGB1TaGDccq5a4GdmcFEGMHoxArxBycGtJ1RdQSWReZTRBxbrR2a3HHS5fDwWjByrYTfo1UGiI2tZ6ATKjCe6QeTcU+lF6PqpouCNPEvIDemawtkPmjc2QNqOQJLyML3R3OoZI55DG99xgVxD5oRmNGOjYjuYBV1YvWzkCRUYfasJ4GpSFgmGiZSOMR+ulHkZTLoDxsKsMU2SmwHiO5vcWU1RWw3ioLxRaYWZKttRBhczQcYuiD11wmqkxMVIC9d6iPVBohAzk9+S6ZMvInDy47y0NE4GojVvTs60kL+q9pd98yw3mYXBAkiRHvbcaaRdgUW36G5TgJtVw31sPQaENKrrBzZAZ/RDvrYFPfKddxK0mynlZO6tmXKasrDwHRa1YAdt5GjLDRI3yzzcptRajB7VVUj92XmaKSgXYThZkhokadV7LwBQ3jN90hvGcBpnRmrNGoqADvb6F8ZiZDTWlmPPbBVm0HoIOqCQxXSAzutLPSf+Xq5H/Q3VZI6LTITO6oravNYrztB5VMiuPcSoi0h0L9FmP2672JnKgYHRlHXrqM8j+o+Ib8JBHe65BV+njOaOGPEbmE/WLrSVsThKljCv2znzw4slj303EdrfaCvgPsu+oRKhHQWaiQK6rihN4FXfJxrMZN9S5FE++xnfpMuhprEIvD4CCiQJlPENk00mOTsABlK/wXV0h+43KVJIPmYkGGI+KVCrogEvxRGU8ztIkmUAr1Ef3ML964RjPIoQ0kvPVY3ApnjSWX2ejSeq/Y1Ed9kAtCtJ4ThVDkK6t/mhctc6G50YlZAZUX3yvjSYHcNSA70bITDRI47GfO9+2yoAmMdwq+0qXEXPjXFSHz/sVBWk8RLmJPuemFuX02BtV4+XRkJmogPEkPMLkLOd7KVeLEfM81KY8ZCYqHOPJS4OYOPLkF2syYla+7x9CZqLCMZ77ISWQbfKLiRZC9hW1pc6+70XCMZ7DICWQW+QX6xHacpB6DPIh9SLhGI8P4U6ull+sR5ye2agLQWaiQxpPNoREcpbsLaLBkP1EuaB+ApmJDmk8KyEkkutkd9lsh8JH1GTLh6Gf0UjjOQVCQlGZPDWYbqlU2JxvomhI41kAIaE8KPtLi8iW6siW7qlzdUMaT10ICWW37C8tkkYORlV+hcxEhzQeXzaY7pL9pUN4ue2oCU+2ioh/xvOY7C+iXZD9o5I2NTEM/4yntOwwovlVofANtUk7GTITJf4Zj7VE9pgGy7pqpj4WMhMlPhpPT9ljRH0g+4Y6dpMIF8qkwkfjeU32mAZzdZWTlt0Ii4iPxvOv7DGitpB9Q+2pV4LMRImPxvOj7DEN9tUboSKck7aI+Gg878oe839f/cDFNeTYnYMRFhUfjUc5DuuwvLJ96IijNMykojk+Go/KN9oIMmMaPhqPJU3HRrsMJkx0+Gk8L0jTIboOMmMYfhrPcdJ0eDPbWPw0nnLSdIiugMwYhp/GM1OaDtEmyIxh+Gk890nTIXoPsk+MHHnmEU1QZkxBBZTyObacEyFj9HFHQGb0pdOiXiip/Ym/IfuECgrNQXS1Z2s1Wn6uUxyOXjvfEf1CeTBzeBXdmbNT9NNLJUX5HtlnRB/JK76hMpZAZLSlt9NR7X62y586ZXrYueQTGagFG4/uTEJHUdYUy7pMlgbv+h8u+kMnWQui5ZAZXenlpLsRvFSyZI9ffYiwEEpV1EefVAZMBN7LRF/Zr65roPMXZTzfQ2b05VN1Rp2o1DrofEUZz1WQGY3ZcxN6y2aNnHX5izKe+pAZnem0VwWuJaohZl3+osbwN0Fm9GZrLXSYM+vyl9qoyYOQk42KbZOMh5UfmI3fry5lPPUgJxtq+zk5aT4Ct+kPynh+gZxsJLfxUJnEZi4IoRdq4Ut4tASQ5Mbj71FN9eT5GnKykezG46snTbIPmJPceKrhNv1BGY8uSQdjTZIbj7/zHLXOcwnkZCOpp+pEn+M2/UGtMLeDzOhNwCKhQA/j4VxbJhC4PSHRw3jYn8cAAjdGHfw1nkGoBUdY0Z8+XdBZRKXw8wdc8gflSchuqNqz2HtltbsThem45g+uD3NLKBhNyfgGPSU2RN9BqQUu+oNrPO2hYDQlyAH+d5T9PT3hhglaBZnRFRy9qSL8l99wyn6HQ1WH/gZAZnRlTpboJ+fQ30jZZ0RN5RXfcM6qE/0OmdGWK6rR8qOc4n/otXmO6BddUY0ekBl98QIdXI5e8znQwVxUowJkxgQ+Qq/5HGJFZeT/DjJjAiq1us/BnVTekqshMybwA3rN57ByJVCNEyAzJqDywvqc37gVqvESZMYEVMItn0PprkA1LobMmEA19JrPQbw3oxrNITMmgE6bPwiyT6j8tLytbhBp6LPBkP3CzYzNaQzM4SH02XrIvqGStc2BzOjPYegz37PyqzSRnGPUHFQYZp/iz3uoBLX7IDP60wx95nuCWrXE/BdkRn/+QZ/5nhpbJeU/HTKjP+3QZ5sh+8YWVCRZT6snI+gyug2yb6iFnomQGe3Zjy7L9HmNUC30PDWZxzzGsFV2mRaZsS/6qUJHFBkjOBzG4/syD2MeX8J4hkBmmKj5HMbj+0ydMQ+VYM9nVzDGQErCdmg7FAwTLWqy5bdDBmMg62A8nSH7Tc6Ws1+pchgERm9awHiOhewrKy7Ol5W5FTKjN9tkbxG1guwr6gCFLo9BpnCWoL+0mGw9j8pwaDkjyEF35TaGwldcN2aOlGECH6C3fHdgdhiF6jwDmdGaaS/+2XWnBj6oDirYgb8R7piiUOmnE1HyGeVM+AlkhokaPvjHHDKdZLQ7G95pY4qMithxDGSGiZq2MJ5+kBkmalSojGzIjLaknatbUIHxKq3B41AwunI40cRzzm0ISQvUgfUSkBldOd3pqBo/QdYAtcvfATKjK+PQUxr5L6tjo7zSoznuktxsKDRgezrqdCcUjJ78hn7S4Lyfh8oicDtkRk86oJ+qQ9YCtdLD21t6g26iLZC1QDmE8XEOrdmEXkrXqpsyslEt9oLXmUfQS5o4gilUdLkLITM6MgG9pNkpdeUFnw+Z0ZBZ6CTd3B9mo1rUHQpGP9Rxv4EZUOiCyhd5DmRGPx5EH2nivuxxOyr2NGRGO/agi/wPZBmKO1n/FApGN/5GD+XXhkIbMlQankuhYHRDvbUWQNYIFc17IGRGM9y31gooNMJ9b70NBaMX6q1VqgkUGuG+t/4PCkYv1DGFuZC1QqXD4PeWlrhvLS1Cq4TSB5Wjx6BgdGIfeudoLdPque+tulAwOqHeWpqG7lbvrZ0HoGD0oQ46Ry9XHg/3vTUFCkYfVNj3vElQaEZGc1SwPhSMPjyNvtEijGU4lDOq/4mcmBBUPDDqA4V25ByNGj4MBaMLr6FnqujmjeGh/AnHQWY0oSE6RudMN+7hv5OhYPRgL/qFKkGhIZPUadbXoGD0QC3Baeb5HozaWqdVUDA6UBG9oufWhEKdha47CwpGB05BtywvCYWeiGAr3T5cDYnRAhX0XffEkK2oHA+WdWM3bCdd8/dB7T9QYLShvYpWq6UnD6M158N29Ds1wWhPF9jOGfquLjOa8gxsR+95ejDth6HA+Is6y7tE73l6AKuql8njWD06oGLy6HfIOAK/The1PRsS4ydPSsshmr8RCr1Zi/3/7GuhYPxjmtMXGnuBBaNi9dBFUDD+cT/6Iv0dKDTnwEBUmB89/jN0jdMXmh6aKIhK/UcfQsH4yB8yZYAxudAaq0fP0/zo0YGcJ0xKeu8+en6EgvGXWUNRMAD30VNLi8zvjFG4j57/QcEw0eI+epZqGAwmZRiPn6bhPnr4CJd/HHdVBZTMwn300PHQMInmP7v152p81iYyCx3TIXoFCibBlHTOQbUZANkgWo6SVbcx89FpPiouBmmUTzRaVqDqNAEKJqG4AXl2apQSMmq2ofI6JUNNIbCnpVlWv2h5G5Wncca4sCURZ6LxKV/LGIQHZQGqT3uhYBLHlWh7U3Pdz96J+vPJ9YTzIlqeRrWExjSG4AZoJhRMgsA03UbDXAHR0USdGKIPoGESg0omSh2gMBDXIbUaO/Ykkh5odso0ODrkoKtwE/QvNEwimIhWN3OarlibibugN6Bh4k9ltDnVKguNmbihwnZBwcSdP9Dkxi/Plu2G+6C20DDxZiVanHpDYSzuFhf9Cg0TX45Be1PmQ9CYSzncCt0BBRNX9qtQTsYcTi+EX7/FvdDf0DDxpANam75JhuRDbkaKMjnQMPHjKDQ20SZojKaXChBDV0LDxI1ZDdDWyfDSEjxfCvfDuWvjjjvTqpEsGfNK4IaIOFpYfLkZ7ZxEiV471ccdUa2GUDHxYCuaOWleWoIjluKeqD80TBzYrvKTJM9LS+AtFf4GDRN7VEY2yk2u7OSuSyotgoaJNVejhQ3fTC9I+yq4L2pu9k6vvvyMBibqrWkG40Pm+Vzc2TlQMLGlZDs0MC0x8aBW4TgHGLNOhcjEmPKyfQVJeE6uk9ghbXcSJCbGXO4Yjo0hMXOLxp7B1C+ZZpBa4a3wTEjOI5af7kOBiTUdl8N0aIlB0QcZHWj8PUzHqNQ2h8oJNVFgYoE3WDYmVvchc+1rRPegzBQfb7C8K+mjz85+Stwnn8WJFd5guVHS+4lXcHZJlx8BmSke3mA5NymcBwvDjd/Qrj00TLEo3RsNamo0leiZdAnulI9TxIx7nfZcADGJmfWAc6s2z0LFFBOZ/PrKVEjVMM09WMSJJGPFBztpXEeUk5t71AY7EW+TxohFo7eilOx4DvHsEV8sAvJHp056obowHaKdn0LFFJ3rG2xAKZWYdAdsh2iJMfkLtWOY3Xz/oZxKlPV28vKmQccUjRNlsNmmkFKJVTWk5QiWs4PYofD8Eqf5dkNOJQZ849y7zThDUn5rRY88tB5NhyaV+N09kk8DU2OJIpZMa4S2I6qSiskUz3IDxFPzjdAx0XGSuxlK36TmBvON83H/tvXUgY6JhnfcAO9UzeBIy8XidW+p+Rse90TPbW5k/dS1HctahyaweZpn7NHSIxttZs9UU9d2LGtZOlqBKJ9XC6PjTm+suHwOdKnJUZ71ZI2AjimMk9FcNiluO7b1eKNmzo0TBSLfNUh527Gs7wKs51zomEgsQ0vZ5LHt2NbjBmomWgcdEx43/Z1tO6niwFM4dwZYz1/QMeE4Fq1k0+Ua6FKdO919GqJ7oWMKIM5KKrr9ASWz1lsxpTtWQ8kE01GelXSYyLuBHgM8Dw2qMQBKJpCHnkb72LxsZq70eJHWE+1is5xPIhfkXDSOYGWA7zJjM6MzWkbACz6h3I6WEZTjEFmh9MK5R8mRUDKSkgFDZTqlF7SMR4abDNxmCJSMTUfP49tumQxomSDmeRtd70PFWNYGN/kC0RJehI/EB/loIw4c5nEC2kTwDcfPj8xto2QbTYbIWBvvli3icOUqaJlwlN5mt9FT10JiAl9Z1Do5o+TGjtotqMyjKFtzUj2n7f/BbCQ8VD44ra5HwSo5in4pjXIq0jHwlVWKh8pFoo3dZl02Q0g93vfOZhG14130ItHXabYWKfqmL+udiiTqx4mmisQ7OIxNVVJ0froY90+UmfShKmNNwFbpRVClGNNx+9UqQMFEiQzSqOh9PLQpRZNu8uZXckrootLyUtlyoEwKbZVe63onvy1uvXptSEwR2BK4QEYvnwl1svPuwEZ7ULT20mg+zXZoBK1zEF06A/pkZvaT9p2eAsGyPmK/r0Nl0vlHO3bjMHAx9MnL2c6dngyRKQ6LznBaE/yT3APnE5Ur9+BUeMjGn5ZjPScfm6wfoU9C0l7CTdq8CR1TPEa4+fwl7ZL13bUvcDeC7oSWKR7XPoEGBV3X4kIycb2XDUhQZgr0THGpOBptCtrMxoVkYe0XuDOQ5GO7xNLkUi8CneThZMr0NmAm7grUeh0XmNgw5xO0LFi6AxeMZ08L3JLi9PG4wsSKTj8FnLcVND8MV4ym7M1lcD/gs1RMRhJ/StcNmrUTHWf8WtqMs72AypLcR/g4aJx4ewLaWNFzBa4YSdrtgf5eNrkXJttMQCt21EI7K6YejivGMWu3ly/Tod7vuMTEh7J/hTZ5lZ9wyShynkP1Xa7irIfxZ1WzgBCYkm7n4ZIxDBW+/UFMvYcP1iSER9eEjJwNy5J8TwfU22Xc1VVxjYk7a+uh1R1MWjFs2NbLNAayP0yd9LJaMCxgQb8ZdC3195waEbKYbJM3hh2+Es7WyWh9yoHmKFrQHUUtaTJvF2rsUeotXk/2hWuezRTtXx6iVd8WRv/1KyTt2OFlHFHMP4cTjflGzr92hzwG4Wf0yB3D9fTDOwr1c0mfydGUfWXPX+VQsm5BnxBlPavjmknL4F2scTfzeSzfUZPckup4sqRaM12GP+/fl4ZSoFPbcX05LqVG7EO3uOS3OczvKFEzXu+X56VjkWf4BJkzT4SK0YOJ6Jkgvh7uX7D0/QvLOZXoD4XlBM1rMJaD/2tG1aafya4pwJW3dvchSMucvevx/TbqBGgJe371+cl8fFhHrn8pxLHKpX/lt/GZRPDz32sG44sdlNfjqgm/8aqOthw47/NS6LBQ8ibvSERwrcuO+SHUa4RoJS4ymtN+ypMhzvIeSy94dct+fC4OPH7kDUGxGTx4kGMMDZfdhE4LR63JNTfFOqdXyTfWNasf6Z1JVCr5D9knE9fd9U9QjIRQPusXq6xedSpeNDPsRE+RW+4uPnluGjNWrAlIP1kAZTyVDjFY7/i1i5v+OXlC0MpkQdK/WMaJ1cyk141vhpzXccnCR06yi1M71G07pfvQIjjVlOwZ+R3lsXTBf26YJsZAOs1pOjfc06E3ro+ELFn6wFN3d35tzXNvLTvqu0/7CDZtWdH3roW/Vb71vjVzuz41cIk6VHWQB479yPnky7cH4cOMwdQ+ccy2UL/n53BtIeQoUUd9pkIOT/4PP/EjJ4m49saxQQeW1brdW5CjZBl+LdgNNoDM9fcNv4wfOclH461HLmiOTlY+G4EJGKOgLX6tLuQgmi84cit7Iyczq69v+1otIuVLU9AxtFB249fGQFbUeq3t9ZwQPjXYcwUKFjo/Wtrg14ZDJmrwxZ+nncm+OalI+8k9VWrKqKiH39sshFGt9353BJ/VS2mu/Xnz8DFvdpgaeo45HFfidxrzbIoJplPV2o0PNNm+Om3W8Tl/SI7IOb7j/lUNr0sr3X5GkwMtJ+GDDMMwDMMwDMMwDMMwDMMwDMMwDMMwDMMwDMMwDMMwDMMwDMMYh2X9P+hvAKGwi6Q0AAAAAElFTkSuQmCC\" alt=\"A diagram of a charged particle's path through a magnetic field pointing into the screen\" width=300>"
      ],
      "metadata": {
        "id": "E-JCYw00VGrC"
      }
    },
    {
      "cell_type": "markdown",
      "source": [
        "In the image shown above, there is a particle (at the top of the circle), moving with velocity $v$ through a magnetic field with strength $B$. The $\\otimes$ symbol tells us that the magnetic field is pointing into the screen. The particle travels in the path given by the dotted line, which is a circle of radius $r$. At every point of the circle, the magnetic force (labeled $F_{magnetic}$) is pointed towards the center of the circle, as is shown above. The force is always perpendicular to both the velocity $v$ and the magnetic field $B$. This means it is possible for the force to point towards the center of the circle or away from the center of the circle, and this depends on the charge of the particle.\n",
        "\n",
        "We can express the radius of the path as follows:\n",
        "\n",
        "$$\n",
        "r_{path} = \\frac{|p_\\perp|}{|q|B}\n",
        "$$\n",
        "where $r_{path}$ is the radius of the path, $|q|$ is the absolute value of the charge of the particle, and $B$ is the strength of the magnetic field. $p_\\perp$ is called the **transverse momentum**, and it refers to the components of the momentum that are perpendicular to the direction of the magnetic field. In the GlueX detector, the magnetic field points along the z axis, meaning:\n",
        "$$\n",
        "|p_\\perp| = \\sqrt{p_x^2+p_y^2}\n",
        "$$\n",
        "where $p_x$ is the x component of the momentum vector and $p_y$ is the y component of the momentum vector.\n",
        "\n",
        "Since we know that the particle starts in the center of the detector, the path a particle takes can be entirely expressed in terms of $p_x$ and $p_y$.\n",
        "\n",
        "Run the cell below to create a plot below of a cross section of the GlueX detector (as if you were looking in the z direction). The black circles represent the boundaries of the central drift chamber. You can modify the sliders to change the values of $p_x$ and $p_y$ to modify the track of the particle, shown in blue. You can also change the slider labeled t_max, which will change how long the track is. t_max is not a property of the track- it is only used for the visualization."
      ],
      "metadata": {
        "id": "R7mSAJR1WngJ"
      }
    },
    {
      "cell_type": "code",
      "source": [
        "# @title\n",
        "fig = track_fitting(\"Track in the Gluex Detector\",showTrack=True)\n",
        "fig.update()\n",
        "fig.display(px=(-1,1,0.0001),py=(-1,1,0.0001),t_max=(0,2*np.pi,0.0001),charge = (-1,1,2),show_track=fixed(True),show_hits=fixed(False),pz=fixed(0),z0=fixed(75))"
      ],
      "metadata": {
        "colab": {
          "base_uri": "https://localhost:8080/",
          "height": 549,
          "referenced_widgets": [
            "af65126ca55644e2960dbd6d80f42980",
            "51416a23f5e249cd932b2825f9db6afb",
            "4f47ca677b7e4ac587a315638819fe42",
            "97b83086f7f749628808d62953d75b4b",
            "0b0f8dfa2642405e9266def86edb8ab8",
            "a5e9223ddeee4e32bb518e7835f2ecae",
            "d010b07175504d37878a6aeccf9d9724",
            "3da5fa72dc1444489c2b2762d9892ac7",
            "63bd930702b34d93937b70c412c34503",
            "ac9d236cc9904ec9b1a1c54519d15d74",
            "08c0b35b92324a708996ea287f159ea8",
            "42222b0c29f54d518a8c2dc57978027d",
            "a371a132045f490b8731fc5e85b86b90",
            "5415fc6bad474210a4d4b7ad89f3c129",
            "9418d0e03e0647ffacf088d8c854e2e4",
            "a0333f16b2964741a78674cf90f8f4e9",
            "90ad72f82e854cc5bd590dfd74b7cee0",
            "1db484a2c35548aab645965b8e8a6244",
            "9832b942a8ce44abaf57f7058ddf6011"
          ]
        },
        "id": "ri1rauPlNpBC",
        "outputId": "4371c9c1-5516-43d2-bd02-0551510a03f2",
        "cellView": "form"
      },
      "execution_count": null,
      "outputs": [
        {
          "output_type": "display_data",
          "data": {
            "text/plain": [
              "VBox(children=(HBox(children=(FloatSlider(value=0.0, description='px', max=1.0, min=-1.0, step=0.0001), FloatS…"
            ],
            "application/vnd.jupyter.widget-view+json": {
              "version_major": 2,
              "version_minor": 0,
              "model_id": "af65126ca55644e2960dbd6d80f42980"
            }
          },
          "metadata": {
            "application/vnd.jupyter.widget-view+json": {
              "colab": {
                "custom_widget_manager": {
                  "url": "https://ssl.gstatic.com/colaboratory-static/widgets/colab-cdn-widget-manager/2b70e893a8ba7c0f/manager.min.js"
                }
              }
            }
          }
        }
      ]
    },
    {
      "cell_type": "markdown",
      "source": [
        "#### **Question #6a:**\n",
        "---\n",
        "Change the charge of the simulated particle in the plot above. What about the path of the particle changes when you change the charge?"
      ],
      "metadata": {
        "id": "nZhO8QMiQvya"
      }
    },
    {
      "cell_type": "markdown",
      "source": [
        "Double click to edit this cell and answer the following question: What about the path of the particle changes when you change the charge?"
      ],
      "metadata": {
        "id": "zTY0ZQbqhAOA"
      }
    },
    {
      "cell_type": "markdown",
      "source": [
        "#####**Solution:**"
      ],
      "metadata": {
        "id": "pjqbuej9Q1GO"
      }
    },
    {
      "cell_type": "markdown",
      "source": [
        "Positively charged particles curve counterclockwise, while negatively charged particles curve clockwise. This is reflected in the equation for the magnetic force:\n",
        "$$\n",
        "F_{magnetic} = q*v\\times B\n",
        "$$\n",
        "where $q$ is the charge, $v$ is the velocity vector, $B$ is the magnetic field vector, and $F_{magnetic}$ is the force vector. Particles with opposite charges experience forces in opposite directions, which cause them to curve in opposite directions. Note that $\\times$ denotes the cross product, which is an operation between two vectors, not multiplication (which is an operation between two numbers)."
      ],
      "metadata": {
        "id": "SOv7_d_JQ1GP"
      }
    },
    {
      "cell_type": "markdown",
      "source": [
        "#### **Question #6b:**\n",
        "---\n",
        "Based on your answer to the previous question, how can we determine the charge of a particle based on its track?"
      ],
      "metadata": {
        "id": "E08XOn__LQzL"
      }
    },
    {
      "cell_type": "markdown",
      "source": [
        "Double click to edit this cell and answer the following question: How can we determine the charge of a particle based on its track?"
      ],
      "metadata": {
        "id": "IkEJkv2dLQzO"
      }
    },
    {
      "cell_type": "markdown",
      "source": [
        "#####**Solution:**"
      ],
      "metadata": {
        "id": "-dQtQwaeLQzO"
      }
    },
    {
      "cell_type": "markdown",
      "source": [
        "We can determine the charge of a particle based on the direction it curves. If the particle's track curves counterclockwise, we know the particle must be positively charged. If it curves clockwise, we know the particle must be negatively charged. A neutral particle's track would not curve at all, but neutral particles do not leave tracks."
      ],
      "metadata": {
        "id": "GIa49iWGLQzP"
      }
    },
    {
      "cell_type": "markdown",
      "source": [
        "---\n",
        "##**Track Fitting**\n",
        "---\n",
        "\n",
        "Track fitting is the process of figuring out the momentum vector of the particle based on individual hits in the detector. There are several values that we need to find to adjust to get a good measurement of the momentum. In this section, we will explore how we can obtain the components of the momentum vector ($p_x$, $p_y$, and $p_z$), the charge of the particle, and the z coordinate of the vertex ($z_0$). While it is possible to obtain the other coordinates of the vertex ($x_0$ and $y_0$), it is very difficult to do manually, since they are usually smaller than a centimeter."
      ],
      "metadata": {
        "id": "2OYxaMnJMdWL"
      }
    },
    {
      "cell_type": "markdown",
      "source": [
        "---\n",
        "###**Step 1: Finding the Vertex**\n",
        "---\n",
        "\n",
        "In particle physics, a **vertex** is a place where particles are created. Whether the particles were created intentionally (by doing something to create them inside the \"target\") or through decays, the first step is to figure out where the particles came from. In other words, we want to find the coordinates of the vertex. Knowing the z coordinate of the vertex (often called $z_0$) is important because we can use it to estimate the z coordinate of the hits in the CDC, which is important because the x and y coordinates of the hit depend on the z coordinate (see question #4).\n",
        "\n",
        "For this activity, we will assume that the vertex is somewhere along the beam axis (the z axis), so the x and y coordinates of the vertex are both 0.\n",
        "\n",
        "Below, we plotted the x and y coordinates of several hits left by a track in the GlueX CDC. However, you'll notice that the hits don't seem to line up to produce a smooth track. However, when you adjust the z coordinate of the vertex using the slider, you'll notice that you can update our estimate of the x and y coordinate of the hits in stereo rings (tilted rings). To find the best estimate of the z coordinate of the vertex (which gives us an estimate of the z coordinates of the hits as well), we can adjust the slider until the points line up to form a smooth path."
      ],
      "metadata": {
        "id": "LeZV2BDSiHK_"
      }
    },
    {
      "cell_type": "code",
      "source": [
        "# @title\n",
        "i = 2\n",
        "fig = track_fitting(event=track_fitting_events.iloc[i])\n",
        "fig.update()\n",
        "fig.display(z0=(0,175,0.1),px=fixed(0),py=fixed(0),pz=fixed(0),show_hits=fixed(True),show_track=fixed(False),charge=fixed(1),t_max=fixed(1))"
      ],
      "metadata": {
        "colab": {
          "base_uri": "https://localhost:8080/",
          "height": 549,
          "referenced_widgets": [
            "7ead6a7e6cb54df4bf7c8709efde7732",
            "f288da67ca9e491ebff3da8f3c4e1692",
            "d5863d7bb5f643098cc247e1ef713d27",
            "598059d06ac840008ceb78f436571d73",
            "34815b6320244dc69179594c346b6108",
            "50bd77dd932e47dfa4cb7e37070189ef",
            "176cf5fbb9ce410ea7084452a8cbbadb",
            "b118f93118b0478ba005714980e3fcd6",
            "294e7bbd7478449186a6a3b7188a03f4"
          ]
        },
        "id": "IhXkyK3CvxCn",
        "outputId": "951ff32e-aec0-47ad-b750-1b0f2f54d2b1",
        "cellView": "form"
      },
      "execution_count": null,
      "outputs": [
        {
          "output_type": "display_data",
          "data": {
            "text/plain": [
              "VBox(children=(HBox(children=(FloatSlider(value=0.0, description='z0', max=175.0),), layout=Layout(flex_flow='…"
            ],
            "application/vnd.jupyter.widget-view+json": {
              "version_major": 2,
              "version_minor": 0,
              "model_id": "7ead6a7e6cb54df4bf7c8709efde7732"
            }
          },
          "metadata": {
            "application/vnd.jupyter.widget-view+json": {
              "colab": {
                "custom_widget_manager": {
                  "url": "https://ssl.gstatic.com/colaboratory-static/widgets/colab-cdn-widget-manager/2b70e893a8ba7c0f/manager.min.js"
                }
              }
            }
          }
        }
      ]
    },
    {
      "cell_type": "markdown",
      "source": [
        "For example, the z coordinate of the vertex for the hits shown above is around 121. Note that this is just an estimate, so any z coordinate between 115 and 130 should allow you to get a good estimate of the momentum.\n",
        "\n",
        "If the particle was moving in the z direction, the z coordinates of the hits could change as the particle moves through the detector. In these cases, it is impossible to find a $z_0$ value that lines up all of the points. This is the case in the example shown below. Try changing the value of $z_0$ to see that there is no \"perfect\" value for $z_0$! In these cases, just try your best to find a value of $z_0$ that allows you to estimate the path of the particle."
      ],
      "metadata": {
        "id": "8G1lD6FXN5dU"
      }
    },
    {
      "cell_type": "code",
      "source": [
        "# @title\n",
        "i = 12\n",
        "fig = track_fitting(event=track_fitting_events.iloc[i])\n",
        "fig.update()\n",
        "fig.display(z0=(0,175,0.1),px=fixed(0),py=fixed(0),pz=fixed(0),show_hits=fixed(True),show_track=fixed(False),charge=fixed(0),t_max=fixed(1))"
      ],
      "metadata": {
        "colab": {
          "base_uri": "https://localhost:8080/",
          "height": 549,
          "referenced_widgets": [
            "c6075cf979a24043941c1d1e69cd11e2",
            "efc8351a4ab541ae9520f49b037309dd",
            "4d89220f5c474af9adc0edd88940d5cb",
            "8f79ffee0eed4bf99a3cd7232c52dc6c",
            "0ed58d1962c54979b080bdddd37f3f58",
            "ca08c6d5a54f4a52ad16c2bf3a1f71db",
            "e089c4df4625442ea72475fef22dcb69",
            "51fc0c21578f47509e6f6a99470df45c",
            "d48bb89dc9264dcda5f81cbbfc489ff9"
          ]
        },
        "outputId": "e6c3efd6-fa52-44cc-bd86-007ae99ea930",
        "id": "sJmnpkWbqXJs",
        "cellView": "form"
      },
      "execution_count": null,
      "outputs": [
        {
          "output_type": "display_data",
          "data": {
            "text/plain": [
              "VBox(children=(HBox(children=(FloatSlider(value=0.0, description='z0', max=175.0),), layout=Layout(flex_flow='…"
            ],
            "application/vnd.jupyter.widget-view+json": {
              "version_major": 2,
              "version_minor": 0,
              "model_id": "c6075cf979a24043941c1d1e69cd11e2"
            }
          },
          "metadata": {
            "application/vnd.jupyter.widget-view+json": {
              "colab": {
                "custom_widget_manager": {
                  "url": "https://ssl.gstatic.com/colaboratory-static/widgets/colab-cdn-widget-manager/2b70e893a8ba7c0f/manager.min.js"
                }
              }
            }
          }
        }
      ]
    },
    {
      "cell_type": "markdown",
      "source": [
        "In the example shown above, a $z_0$ value of about 63 should allow us to estimate the momentum. Again, this is just an estimate, so any value that is close to 63 should work just as well."
      ],
      "metadata": {
        "id": "xe98np8Q0kVb"
      }
    },
    {
      "cell_type": "markdown",
      "source": [
        "#### **Question #7:**\n",
        "---\n",
        "Every time you run the following cell, it will plot a new collection of hits with different z coordinates. Run the cell below and use the slider to find a good estimate of the z coordinate of the vertex of the track. Remember: if there is no value for $z_0$ that makes the hits perfectly line up, prioritize the hits closest to the center of the detector. Feel free to run this cell as many times as you need to practice finding the z values of the vertex in the CDC."
      ],
      "metadata": {
        "id": "5n2wqsBURxgq"
      }
    },
    {
      "cell_type": "code",
      "source": [
        "# @title\n",
        "i = np.random.randint(0,80000)\n",
        "fig = track_fitting(event=track_fitting_events.iloc[i])\n",
        "fig.update()\n",
        "fig.display(z0=(0,175,0.1),px=fixed(0),py=fixed(0),pz=fixed(0),show_hits=fixed(True),show_track=fixed(False),charge=fixed(0),t_max=fixed(1))"
      ],
      "metadata": {
        "colab": {
          "base_uri": "https://localhost:8080/",
          "height": 549,
          "referenced_widgets": [
            "5a34c0739071426ba813823474a234cf",
            "3b091277a5ef49088182166a630a73ed",
            "453129646b06443093f9e280f82c594f",
            "6700b0565e2c429ba636e8d9ae3eddf5",
            "90ef77b3dca9472ab4e5a78807343e1f",
            "2a2b39f4370d4d38912a15feeee8ed2b",
            "39a9bf95498543b8aa3b9d14f15238b1",
            "26b12c8801e84925af1ab88f48cc5f6a",
            "1f3ba261f8134431a3ab74e3bd858584"
          ]
        },
        "cellView": "form",
        "outputId": "b2d88482-d944-4be2-9713-cf5c1cf3798b",
        "id": "hsY1rH18PdHs"
      },
      "execution_count": null,
      "outputs": [
        {
          "output_type": "display_data",
          "data": {
            "text/plain": [
              "VBox(children=(HBox(children=(FloatSlider(value=0.0, description='z0', max=175.0),), layout=Layout(flex_flow='…"
            ],
            "application/vnd.jupyter.widget-view+json": {
              "version_major": 2,
              "version_minor": 0,
              "model_id": "5a34c0739071426ba813823474a234cf"
            }
          },
          "metadata": {
            "application/vnd.jupyter.widget-view+json": {
              "colab": {
                "custom_widget_manager": {
                  "url": "https://ssl.gstatic.com/colaboratory-static/widgets/colab-cdn-widget-manager/2b70e893a8ba7c0f/manager.min.js"
                }
              }
            }
          }
        }
      ]
    },
    {
      "cell_type": "markdown",
      "source": [
        "#####**Solution:**"
      ],
      "metadata": {
        "id": "qV6c3E6tP4y1"
      }
    },
    {
      "cell_type": "markdown",
      "source": [
        "Run the cell below to calculate the z coordinate of the vertex for the hits shown above. Note that your value may be more accurate than the value produced by the following cell if there are multiple tracks (you can tell if there are multiple tracks if there are two different paths traced out by the hits) or if the hits don't form a line (sometimes, tracks just look like blobs, and we can't get much information from them). Things like this are easier for you to see than a computer to see!"
      ],
      "metadata": {
        "id": "E8fZnPTjP4y1"
      }
    },
    {
      "cell_type": "code",
      "source": [
        "# @title\n",
        "fig.calc_z0()"
      ],
      "metadata": {
        "colab": {
          "base_uri": "https://localhost:8080/"
        },
        "id": "hfxoDmNlu4-B",
        "outputId": "10bf9bfe-991d-4376-87ef-a9b1df3941e0",
        "cellView": "form"
      },
      "execution_count": null,
      "outputs": [
        {
          "output_type": "stream",
          "name": "stdout",
          "text": [
            "The true z value is about 30.0\n"
          ]
        }
      ]
    },
    {
      "cell_type": "markdown",
      "source": [
        "---\n",
        "###**Step 2: Finding Charge and Transverse Momentum**\n",
        "---\n",
        "\n",
        "After our hits are lined up, we can fit the hits to a curve, which we calculate based on $p_x$ and $p_y$. Based on the direction of the curvature, we can find the charge of the particle as well.\n",
        "\n",
        "The cell below creates an interactive plot with sliders for the following values:\n",
        "*   $z_0$: The z coordinate of the vertex\n",
        "*   $p_x$: The x component of the momentum\n",
        "*   $p_y$: The y component of the momentum\n",
        "*   The charge of the particle\n",
        "*   $t_{max}$: the length of the track\n",
        "\n",
        "First, use the slider below to adjust the z value until the track hits are lined up. Then, based on the direction the track curves, determine the charge of the particle. Finally, use the sliders to adjust $p_x$ and $p_y$ until the fitted track (the red line) passes through as many hit points as possible. Remember that you can use the t_max slider to increase or decrease the length of the track if necessary."
      ],
      "metadata": {
        "id": "G8jDPEgDZL3v"
      }
    },
    {
      "cell_type": "code",
      "source": [
        "# @title\n",
        "i = 33\n",
        "fig = track_fitting(event=track_fitting_events.iloc[i],showTrack=True)\n",
        "fig.update()\n",
        "fig.display(z0=(0,175,0.1),px=(-1,1,0.01),py=(-1,1,0.01),pz=fixed(0),show_hits=fixed(True),show_track=fixed(True),charge=(-1,1,2),t_max=(0,2*np.pi,0.01))"
      ],
      "metadata": {
        "colab": {
          "base_uri": "https://localhost:8080/",
          "height": 581,
          "referenced_widgets": [
            "29ac677e94ce427b824eca6dff0563e9",
            "98c8296cfb9947f5aa71daaf005b4713",
            "f0a3d3ee035d4446baab5ffbc5925d0a",
            "49e7432020ea410595a2d00eb556f6b7",
            "836f1bae3eac46cc9d4296ad477feb1a",
            "1fb742d626d9499da31f65f4d26ebd22",
            "cbe2992ccafe4f1498183ae51b83efc3",
            "d9e1463698954d18b7598af68835eb77",
            "db2ec27fb3cd4dbb9f6fe74db5914731",
            "fa3391568be94db68c42f58fb0a7afa7",
            "b5a6c51ec2ec40bdae5354f496b2bb0a",
            "33804ff462c24c169005dd64b07dd667",
            "e1ad421a827745859c76d7108ec43ad8",
            "25603efe746143c78b799bb84972b2e9",
            "3c4f8475bb7c4922a6686524f0063bd6",
            "68f6ec32a18a4bfdaa4090ca9cf4d21d",
            "5b2e1821773f471b81188e84d4fbd6e2",
            "bae0b139bada4c3fb6c9a5ccc1a5628f",
            "bb988800b8cb47d8bbb41085d3761132",
            "6eb55c7836dc4dc6a33fde86e7c7a942",
            "b977af9357e749e281598b25210884a4"
          ]
        },
        "id": "5Ca9cx06a8yk",
        "outputId": "7180ab3f-967f-433c-8d7b-6b26ad1e38fe",
        "cellView": "form"
      },
      "execution_count": null,
      "outputs": [
        {
          "output_type": "display_data",
          "data": {
            "text/plain": [
              "VBox(children=(HBox(children=(FloatSlider(value=0.0, description='z0', max=175.0), FloatSlider(value=0.0, desc…"
            ],
            "application/vnd.jupyter.widget-view+json": {
              "version_major": 2,
              "version_minor": 0,
              "model_id": "29ac677e94ce427b824eca6dff0563e9"
            }
          },
          "metadata": {
            "application/vnd.jupyter.widget-view+json": {
              "colab": {
                "custom_widget_manager": {
                  "url": "https://ssl.gstatic.com/colaboratory-static/widgets/colab-cdn-widget-manager/2b70e893a8ba7c0f/manager.min.js"
                }
              }
            }
          }
        }
      ]
    },
    {
      "cell_type": "markdown",
      "source": [
        "In this case, we find that the z coordinate of the hits is $z=84$, the x component of the momentum is $p_x=0.19$, the y component of the momentum is $p_y=0.35$, and the charge is 1. Note that we could turn t_max all the way up to 6.28 to see a longer track, which would be helpful if the hits formed a full circle instead of a semicircle."
      ],
      "metadata": {
        "id": "-EqdYA-SdlDo"
      }
    },
    {
      "cell_type": "markdown",
      "source": [
        "#### **Question #8:**\n",
        "---\n",
        "Every time you run the following cell, it will plot a new collection of hits with different z coordinates for tracks with random momenta. Run the cell below and use the slider to find a good estimate of the z coordinate of the vertex, the x component of momentum, the y component of the momentum, and the charge. Feel free to run this cell as many times as you need to practice fitting tracks in the CDC."
      ],
      "metadata": {
        "id": "UREJhI9qalbL"
      }
    },
    {
      "cell_type": "code",
      "source": [
        "# @title\n",
        "i = np.random.randint(0,80000)\n",
        "fig = track_fitting(event=track_fitting_events.iloc[i],showTrack=True)\n",
        "fig.update()\n",
        "fig.display(z0=(0,175,0.1),px=(-1,1,0.01),py=(-1,1,0.01),pz=fixed(0),show_hits=fixed(True),show_track=fixed(True),charge=(-1,1,2),t_max=(0,2*np.pi,0.01))"
      ],
      "metadata": {
        "id": "La9N7PRMcho_",
        "colab": {
          "base_uri": "https://localhost:8080/",
          "height": 581,
          "referenced_widgets": [
            "3edaab606d6341998e6937983bca06d2",
            "b3faaf2a4d304108a4b47dab13842d41",
            "c2ee5734036e458998362a866bf65a9f",
            "fdb9a39a1383488aaa85d469ffdb1d53",
            "88045dd3e7db4ebcaa8a1f5ef8798d11",
            "903e8b77ee3a41ee820bfe127c275afc",
            "9d4c26cf1e944426aa361c7ab472ef2b",
            "99005cc38732440ab513922da41749cb",
            "84dcf02e277d41e4a57a5e540eec3f7f",
            "7b7503441ca743b5a5edf5c68e30e125",
            "0d93a77553ec45c491cdd90be9e0f738",
            "f497a2e84a9d420291f25e12c6f06ce7",
            "11c5b648c4374bd4ad4013a43ac87dfa",
            "837b91fe8afc47f6aef3831f882fa5cf",
            "871f82c5d8a141cfa18008883372bbbf",
            "2864dc4972c0499585053d27831dcb5a",
            "690460349ab24693ba70086805841d5f",
            "c428a539bc614436ab4d2a3239cda174",
            "3fe522d41e644a0e85027a2c4a6b07df",
            "4cfe338395c14e11aa1ac8e2f97943a6",
            "b099088c17e549fea2a46f4798b81c1c"
          ]
        },
        "cellView": "form",
        "outputId": "6dcba731-60e1-4552-f207-2f83d31fed0c"
      },
      "execution_count": null,
      "outputs": [
        {
          "output_type": "display_data",
          "data": {
            "text/plain": [
              "VBox(children=(HBox(children=(FloatSlider(value=0.0, description='z0', max=175.0), FloatSlider(value=0.0, desc…"
            ],
            "application/vnd.jupyter.widget-view+json": {
              "version_major": 2,
              "version_minor": 0,
              "model_id": "3edaab606d6341998e6937983bca06d2"
            }
          },
          "metadata": {
            "application/vnd.jupyter.widget-view+json": {
              "colab": {
                "custom_widget_manager": {
                  "url": "https://ssl.gstatic.com/colaboratory-static/widgets/colab-cdn-widget-manager/2b70e893a8ba7c0f/manager.min.js"
                }
              }
            }
          }
        }
      ]
    },
    {
      "cell_type": "markdown",
      "source": [
        "#####**Solution:**"
      ],
      "metadata": {
        "id": "MplKFBOMalbb"
      }
    },
    {
      "cell_type": "markdown",
      "source": [
        "Run the cell below to calculate the z coordinate of the vertex, and the x and y coordinates of momentum ($p_x$ and $p_y$) for the hits shown above. Note that your value may be more accurate than the value produced by the following cell if there are multiple tracks (you can tell if there are multiple track if there are two different paths traced out by the hits) or if the hits don't form a line (sometimes, tracks just look like blobs, and we can't get much information from them). Things like this are easier for you to see than a computer to see!\n",
        "\n",
        "Also, some of the tracks can't be fit using just the sliders shown above. Do your best to find a decent fit, but the next step will give you the tools to get almost perfect fits for every track."
      ],
      "metadata": {
        "id": "3l2E6qYufCxa"
      }
    },
    {
      "cell_type": "code",
      "source": [
        "# @title\n",
        "fig.show_answer(px=True, py=True, z0=True)"
      ],
      "metadata": {
        "colab": {
          "base_uri": "https://localhost:8080/"
        },
        "id": "AiqEhV57HP-c",
        "outputId": "01c83450-4326-43e2-a1d2-95bd27a5cc17",
        "cellView": "form"
      },
      "execution_count": null,
      "outputs": [
        {
          "output_type": "stream",
          "name": "stdout",
          "text": [
            "The true z value is about 28.0\n",
            "The charge of the particle is 1\n",
            "The x component of momentum is 0.15\n",
            "The y component of momentum is -0.2\n"
          ]
        }
      ]
    },
    {
      "cell_type": "markdown",
      "source": [
        "---\n",
        "###**Step 3: Finding Momentum in Z direction**\n",
        "---\n",
        "\n",
        "So far, we have not provided any information about the $z$ component of the momentum ($p_z$). If the $z$ component of the momentum vector is 0, that means that the particle is not moving in the z direction at all, which means that all of the hits should have the same z coordinate. However, if $p_z$ is not zero then the particle is moving in the z direction, which means the z coordinates of the hits should change as the particle passes through the detector. For example, the first hit may have a z coordinate of 70, while the last hit has a z coordinate of 80. This is what may cause a track to not line up, even if we have the correct z coordinate of the vertex. To fix, this, we adjust the z coordinate of hits that occur later in the track based on the momentum in the z direction.\n",
        "\n",
        "The plot below shows the correct track for the hits shown below. Change the value of $p_z$ in the plot below to see its effect on the track hits. Try to find the value of $p_z$ that causes the points to align."
      ],
      "metadata": {
        "id": "AdfGTl7nv4-e"
      }
    },
    {
      "cell_type": "code",
      "source": [
        "# @title\n",
        "i= 3578\n",
        "fig = track_fitting(event=track_fitting_events.iloc[i],showTrack=True)\n",
        "fig.update()\n",
        "fig.display(z0=fixed(119),px=fixed(fig.px),py=fixed(fig.py),pz=(-1,1,0.01),show_hits=fixed(True),show_track=fixed(True),charge=fixed(fig.charge),t_max=fixed(0.75))"
      ],
      "metadata": {
        "colab": {
          "base_uri": "https://localhost:8080/",
          "height": 549,
          "referenced_widgets": [
            "a346e3307b47496ca59217cbaeb8a8c0",
            "36c5fc1c563f4655bb69439491c87e15",
            "626c74e8c91a463481f737a206a92df6",
            "ced10af3249c43ab885ba99898000373",
            "7e1e3e7e4b814993a4192d172101c4a4",
            "ef87e1a4162b44f89703f6fa8c682969",
            "be0a38a1a47f4f3aa5de29a9fc9d36d2",
            "1def724fe91b4a0482261393b3c09665",
            "a561a1b2000d483a8c8422e42286bb4e",
            "22c9b4e189f14c8eab6779ec5bf357ba"
          ]
        },
        "outputId": "475c2490-2269-4d84-fb13-ffb6a555c2d4",
        "id": "QldYsTn58_4M",
        "cellView": "form"
      },
      "execution_count": null,
      "outputs": [
        {
          "output_type": "display_data",
          "data": {
            "text/plain": [
              "VBox(children=(HBox(children=(FloatSlider(value=0.0, description='pz', max=1.0, min=-1.0, step=0.01),), layout…"
            ],
            "application/vnd.jupyter.widget-view+json": {
              "version_major": 2,
              "version_minor": 0,
              "model_id": "a346e3307b47496ca59217cbaeb8a8c0"
            }
          },
          "metadata": {
            "application/vnd.jupyter.widget-view+json": {
              "colab": {
                "custom_widget_manager": {
                  "url": "https://ssl.gstatic.com/colaboratory-static/widgets/colab-cdn-widget-manager/2b70e893a8ba7c0f/manager.min.js"
                }
              }
            }
          }
        }
      ]
    },
    {
      "cell_type": "markdown",
      "source": [
        "The hits shown above have a z momentum of about -0.6. Notice how the hits furthest from the center of the detector are affected the most by the $p_z$ slider. This is because the hits that are further from the center of the detector happen after the hits close to the center of the detector (since the particle moves from the center of the detector outward). Also, the z component of the momentum of the particle causes the z component of the hits to change over time. Since the hits furthest from the center of the detector occur much later than the hits near the center, their z coordinates have the most time to change. This change in z coordinates makes the hits seem like they are moving (see problem 5).\n",
        "\n",
        "Even though we only changed the value of $p_z$ above, we usually have to go back and forth, slightly modifying both the $z_0$ slider and the $p_z$ slider, to find their true values- this is why we only estimated the z coordinate of the vertex ($z_0$) in step 1. Try to find the true $z_0$ value and $p_z$ value in the example below. To do this, first estimate the z coordinate of the vertex ($z_0$), then go back and forth between changing the z coordinate of the vertex ($z_0$) and the z component of the momentum ($p_z$)."
      ],
      "metadata": {
        "id": "YZG4GV8VBpfh"
      }
    },
    {
      "cell_type": "code",
      "source": [
        "# @title\n",
        "i = 3578\n",
        "fig = track_fitting(event=track_fitting_events.iloc[i],showTrack=True)\n",
        "fig.update()\n",
        "fig.display(z0=(0,175,0.1),px=fixed(fig.px),py=fixed(fig.py),pz=(-1,1,0.01),show_hits=fixed(True),show_track=fixed(True),charge=fixed(fig.charge),t_max=fixed(0.75))"
      ],
      "metadata": {
        "colab": {
          "base_uri": "https://localhost:8080/",
          "height": 549,
          "referenced_widgets": [
            "5793d42f643e42fcbef9e14067979be0",
            "ed3973ffb74f4c6fb47e58e5fe369e74",
            "36b67eaddb714421bb7ffd50b9a4e84b",
            "e46424892a604c05bc05e9ad43edd90f",
            "390a87bd9d41443686bd8a0f613b236c",
            "961c03d7d7424d6d8a609c73bdf596ce",
            "89a611ce7b7149df81f2172df8e97f2e",
            "15d9ec19aff9450a8250dd4b386fcc7e",
            "2eadadabe8834db9af3ccfb11ec8b7b2",
            "149444f6fc434743b4871b2589bda0bc",
            "4e1c8f378eae43389f48d229f90d4335",
            "8050037ed99b4f099eb607a0a5957dc8",
            "99f2d569e8fc438abe9b29a31a95ba9c"
          ]
        },
        "outputId": "52577b63-72e4-42ed-c468-46729c87c580",
        "cellView": "form",
        "id": "RMiHNH3rCmqM"
      },
      "execution_count": null,
      "outputs": [
        {
          "output_type": "display_data",
          "data": {
            "text/plain": [
              "VBox(children=(HBox(children=(FloatSlider(value=0.0, description='z0', max=175.0), FloatSlider(value=0.0, desc…"
            ],
            "application/vnd.jupyter.widget-view+json": {
              "version_major": 2,
              "version_minor": 0,
              "model_id": "5793d42f643e42fcbef9e14067979be0"
            }
          },
          "metadata": {
            "application/vnd.jupyter.widget-view+json": {
              "colab": {
                "custom_widget_manager": {
                  "url": "https://ssl.gstatic.com/colaboratory-static/widgets/colab-cdn-widget-manager/2b70e893a8ba7c0f/manager.min.js"
                }
              }
            }
          }
        }
      ]
    },
    {
      "cell_type": "markdown",
      "source": [
        "For the example above, setting the z coordinate of the vertex ($z_0$) to 119 and the z component of the momentum ($p_z$) to -0.77 will create a very smooth track. This step is substantially harder than the other two steps: There seem to be multiple values that seem to produce similar results! For example, setting the z coordinate of the vertex ($z_0$) to 130 and the z component of the momentum ($p_z$) to -0.96 seems to yield almost the exact same results. It's almost impossible to pick which one is correct, which limits our ability to make extremely precise measurements of the vertex coordinates and z component of momentum."
      ],
      "metadata": {
        "id": "F63rBw3mEGvP"
      }
    },
    {
      "cell_type": "markdown",
      "source": [
        "####**Question #9:**\n",
        "---\n",
        "When you adjust the $p_z$ and $z_0$ sliders, there are certain hits that do not move. What is special about these wires? **Hint:** You can hover your mouse over hits to see what ring they belong to in the interactive plots.\n"
      ],
      "metadata": {
        "id": "MygdGYcDSh-n"
      }
    },
    {
      "cell_type": "markdown",
      "source": [
        "Double click to edit this cell and answer the following question: What is special about these wires?"
      ],
      "metadata": {
        "id": "Tl76hsBRSh-z"
      }
    },
    {
      "cell_type": "markdown",
      "source": [
        "#####**Solution:**"
      ],
      "metadata": {
        "id": "J6lXGMwUSh-z"
      }
    },
    {
      "cell_type": "markdown",
      "source": [
        "The hits that do not move are hits in axial (not tilted) wires. See questions 4 and 5 for more information about axial and stereo wires. Because the axial wires are lined up with the z axis, their x and y coordinates do not change for different z coordinates. The hits that do move are in stereo wires, whose x and y coordinates do change as we change the z coordinate changes (when we move the $z_0$ or the $p_z$ slider)."
      ],
      "metadata": {
        "id": "eylvvPiCSh-0"
      }
    },
    {
      "cell_type": "markdown",
      "source": [
        "#### **Question #10:**\n",
        "---\n",
        "Every time you run the following cell, it will plot a new collection of hits with different z coordinates for tracks with random momenta. Run the cell below and use the slider to find a good estimate of the z coordinate of the hits, the x component of momentum, the y component of the momentum, and the charge. Feel free to run this cell as many times as you need to practice fitting tracks in the CDC."
      ],
      "metadata": {
        "id": "NT2iD52Lv4-8"
      }
    },
    {
      "cell_type": "code",
      "source": [
        "# @title\n",
        "i = np.random.randint(0,80000)\n",
        "fig = track_fitting(event=track_fitting_events.iloc[i],showTrack=True)\n",
        "fig.update()\n",
        "fig.display(z0=(0,175,0.1),px=(-1,1,0.01),py=(-1,1,0.01),pz=(-1,1,0.01),show_hits=fixed(True),show_track=fixed(True),charge=(-1,1,2),t_max=(0,2*np.pi,0.01))"
      ],
      "metadata": {
        "colab": {
          "base_uri": "https://localhost:8080/",
          "height": 581,
          "referenced_widgets": [
            "61ff357f56564f598efba8c3b5788dff",
            "35b170417f0e41b4ab21b08ccc039789",
            "b949efc73bef4b75a769414fec3a5a7d",
            "763cd91c1e1540b39edc982433cd3622",
            "c0f03fec91724d8e895265fa9c0d7697",
            "9a023c2efb0b423685abecffdb2027f2",
            "32cd402114cb4304b9161a4389aaf23e",
            "32f3878e8a4a450ba6517cf8278c65f6",
            "b0a3a826dd584346b01237589123351a",
            "4c8a48b1f6e34eca9c8be97fa053f29c",
            "132179e2e9bd469387e04ab85b0c992c",
            "5a0ffda2fb3644a986c5aa55c0191ef3",
            "ffc4f43e3a2546dab033ad1c5d182ef7",
            "f51fa6073e8f4ee1a9e69cc33532bbe1",
            "304f2a53c3df41f3a04af144fe25912f",
            "4ea62fc5dd0c49bd931ea2075f349f04",
            "b9ec9fea45404e679d25960b1448dec2",
            "f38655b3562c47deb5ee327c6df1c3b4",
            "45f871e10de8459499be6e9baaf12b57",
            "876eb4434c2f4e309692c0cecdac4728",
            "a6d0edfa1ff642b7a7fd9683f37b9624",
            "37a6472fc5e44bc0a95f995b97c9785c",
            "982a7f98cca248a3b10a06d3f015082a",
            "6874e8c519284645933edde17694278e"
          ]
        },
        "id": "Uhv9ajybv4-8",
        "outputId": "8dca7a17-3102-4812-ea69-74a12179714c",
        "cellView": "form"
      },
      "execution_count": null,
      "outputs": [
        {
          "output_type": "display_data",
          "data": {
            "text/plain": [
              "VBox(children=(HBox(children=(FloatSlider(value=0.0, description='z0', max=175.0), FloatSlider(value=0.0, desc…"
            ],
            "application/vnd.jupyter.widget-view+json": {
              "version_major": 2,
              "version_minor": 0,
              "model_id": "61ff357f56564f598efba8c3b5788dff"
            }
          },
          "metadata": {
            "application/vnd.jupyter.widget-view+json": {
              "colab": {
                "custom_widget_manager": {
                  "url": "https://ssl.gstatic.com/colaboratory-static/widgets/colab-cdn-widget-manager/2b70e893a8ba7c0f/manager.min.js"
                }
              }
            }
          }
        }
      ]
    },
    {
      "cell_type": "markdown",
      "source": [
        "#####**Solution:**"
      ],
      "metadata": {
        "id": "3DChbK-bv4-9"
      }
    },
    {
      "cell_type": "markdown",
      "source": [
        "Run the cell below to see the best values for the z coordinate of the vertex ($z_0$), the components of the momentum ($p_x$, $p_y$, and $p_z$), and the charge. If the hits are just a blob (instead of a line) or there are multiple tracks (meaning there seem to be multiple lines of hits), these values may not be accurate."
      ],
      "metadata": {
        "id": "_a-K01Wqv4-9"
      }
    },
    {
      "cell_type": "code",
      "source": [
        "# @title\n",
        "fig.show_answer(px=True, py=True, pz=True, z0=True)"
      ],
      "metadata": {
        "colab": {
          "base_uri": "https://localhost:8080/"
        },
        "outputId": "48f78d16-c6a2-4ddd-b35e-eeeb06a1fe32",
        "cellView": "form",
        "id": "z-Rwb-rjv4-9"
      },
      "execution_count": null,
      "outputs": [
        {
          "output_type": "stream",
          "name": "stdout",
          "text": [
            "The true z value is about 124.0\n",
            "The charge of the particle is 1\n",
            "The x component of momentum is -0.58\n",
            "The y component of momentum is 0.58\n",
            "The z component of momentum is -0.17\n"
          ]
        }
      ]
    }
  ]
}