{
  "nbformat": 4,
  "nbformat_minor": 0,
  "metadata": {
    "colab": {
      "provenance": [],
      "collapsed_sections": [
        "hofpRfsKqC6k",
        "Mv7zxCIjqHrF",
        "v0wq-9FxxgeQ",
        "boYY0kAoxkno",
        "BX6d3nnmE_nD",
        "Xyv7RVhjE_nG",
        "L-PC2vDImIQP",
        "td9uphGEmIQS",
        "7ArqzTZQNIFw",
        "GIpTa-xZNIGL",
        "drnNp5vO03IN",
        "d3qrquq-03IW",
        "XXfl_-vHloK9",
        "Wu-czNG6loLK",
        "nRr78L8f14wG",
        "JOMe-Wdm14wP",
        "t4aLwWa53aXg",
        "4mSKjaWf3aXs",
        "vkusKs57Vx04",
        "jekTS1lhVx1C",
        "epRPZrZA3JpN",
        "5Qaas50f3Jpr"
      ],
      "mount_file_id": "1HyfQ0iiFgjpeBavnl_6ySwealAyA4bc3",
      "authorship_tag": "ABX9TyOrCr05dCXbbl3BJr9znwby",
      "include_colab_link": true
    },
    "kernelspec": {
      "name": "python3",
      "display_name": "Python 3"
    },
    "language_info": {
      "name": "python"
    }
  },
  "cells": [
    {
      "cell_type": "markdown",
      "metadata": {
        "id": "view-in-github",
        "colab_type": "text"
      },
      "source": [
        "<a href=\"https://colab.research.google.com/github/duberii/pid-playground/blob/main/activities/Working_with_Experimental_Data.ipynb\" target=\"_parent\"><img src=\"https://colab.research.google.com/assets/colab-badge.svg\" alt=\"Open In Colab\"/></a>"
      ]
    },
    {
      "cell_type": "markdown",
      "source": [
        "# **Working with Experimental Data**\n",
        "---\n",
        "Welcome to Particle Identification Playground! In this activity, you will learn about the structure of particle physics data and implement PID methods as functions that can be applied to real data!\n",
        "\n",
        "**Before attempting this notebook, complete all of the activities in the Getting Started section and the Particle Identification Methods section.**\n",
        "\n",
        "**After completing this notebook, you will be able to:**\n",
        "*   Recognize common elements of the data produced by particle physics detectors\n",
        "*   Implement PID methods as functions that can be used on experimental data"
      ],
      "metadata": {
        "id": "c121h0MmoXoe"
      }
    },
    {
      "cell_type": "code",
      "source": [
        "#@title Run this cell before starting\n",
        "import pandas as pd\n",
        "import numpy as np\n",
        "import matplotlib.pyplot as plt"
      ],
      "metadata": {
        "id": "_1LEQqSP7Khd",
        "cellView": "form"
      },
      "execution_count": null,
      "outputs": []
    },
    {
      "cell_type": "markdown",
      "source": [
        "---\n",
        "##**HDDM Data Format**\n",
        "---\n",
        "In this notebook, we will take a closer look at the data format used by the GlueX experiment. Although most experiments tend to use similar formats, the vocabulary used by each experiment may be slightly different. It is also worth noting that this format is not \"raw\" data. It is said to be reconstructed (\"rest\" for short). Individual hits in the detector are not listed in this file format. Instead, it only includes information about the tracks and showers that can be detected from those hits."
      ],
      "metadata": {
        "id": "YVmGFPNeKUa2"
      }
    },
    {
      "cell_type": "markdown",
      "source": [
        "---\n",
        "##**Events**\n",
        "---\n",
        "Files are broken down into **events**. An event is a single occurrence of an interaction that we are trying to study. For example, in the GlueX experiment, an event is an interaction between the photon beam and a proton in the target. This interaction produces tons of particles that are also considered part of the event. The goal of analyzing the data produced by this event is to use the particles we detected to study what happened to produce those particles.\n",
        "\n",
        "Each event contains information about the particles we detected. Expand the sections below to see the structure of the HDDM file format used for the GlueX experiment."
      ],
      "metadata": {
        "id": "iiY1mVeH5B_3"
      }
    },
    {
      "cell_type": "markdown",
      "source": [
        "---\n",
        "###**chargedTracks**\n",
        "---\n"
      ],
      "metadata": {
        "id": "odbr3cZTERuc"
      }
    },
    {
      "cell_type": "markdown",
      "source": [
        "Within each event, there are sections labeled \"chargedTrack\". Each of these sections represents a single track hypothesis. A hypothesis is a track fit (A best guess for the path the particle took), along with a guess for the identity of the particle. For example, let's say that a collection of 10 hits in the central drift chamber were produced by the same particle. In the rest file, this may be recorded as 4 chargedTrack hypotheses depending on the charge of the particle: Proton or AntiProton, K+ or K-, Pi+ or Pi-, and Positron or Electron.\n",
        "\n",
        "Why is it useful to break down a single physical track into multiple hypotheses? In the \"Drift Chambers and Track\" notebook, we mentioned that as a particle passes through the straws of the drift chamber, it loses a small amount of energy (and some momentum too). We claimed that it was negligible for track fitting, but in reality, it does have an effect on the curvature of the track. By testing out all of these hypotheses, we can take this energy loss effect into account, and more accurately measure the momentum and trajectory of the particle. The goal of PID is to pick which hypothesis is the \"true\" hypothesis. Note that there is no muon or antimuon hypothesis, because their masses are extremely similar to pions, so their track fits should be similar. Also, there is no PID method used by GlueX that is able to distinguish between pions and muons. However, some other experiments have specific **muon detectors** that are used to identify muons.\n",
        "\n",
        "Because different hypotheses will have different paths through the detector, different hypotheses will have different associated information. For example, the path length from the vertex to the barrel calorimeter may be different for an electron hypothesis and a proton hypothesis. In practice, these differences are fairly small (only a few centimeters), but these differences are still important to take into account.\n",
        "\n",
        "Each chargedTrack listing contains the following information:\n",
        "\n",
        "*   **ptype:** The hypothesized particle type\n",
        "*   **CandidateID:** A number that matches hypotheses that are produced from the same collection of hits. If two chargedTracks have the same candidateID, then they refer to hypotheses for the same collection of hits. Only one of these hypotheses should be used for analysis (otherwise we will count the same track multiple times)\n",
        "*   **px, py, and pz:** The components of the momentum vector of the particle.\n",
        "*   **chisq:** The Chi-squared value for the track fit. Chi-squared is a test of how good the fit is. The lower the chi-squared value, the better the track fit lines up with the observed hits.\n",
        "*   **measuredCDChits and measuredFDChits:** The number of hits that are included in the track (in the central drift chamber and the forward drift chambers respectively). Sometimes people make cuts on the number of hits to make sure that tracks have enough hits in the drift chamber to get a good estimate of the path of the particle.\n",
        "*   **dEdxCDC and dEdxFDC:** The ionization energy loss of the particle in the central drift chamber and the forward drift chamber.\n",
        "\n",
        "There is a lot more information contained in these chargedTrack hypotheses, but these are the most widely used."
      ],
      "metadata": {
        "id": "-W4jhoLaFJQ3"
      }
    },
    {
      "cell_type": "markdown",
      "source": [
        "---\n",
        "###**bCalShowers**\n",
        "---"
      ],
      "metadata": {
        "id": "pI0ZVQKxI-0B"
      }
    },
    {
      "cell_type": "markdown",
      "source": [
        "Information about the showers produced in the barrel calorimeter (bCal) is stored in the \"bCalShower\" sections of the event. Each shower gets its own section. Unlike tracks, guessing the particle that produced the shower doesn't necessarily improve anything about our understanding of that shower. As a result, each bCalShower represents a physical shower in the detector, and we don't need to worry about finding a \"true\" shower in a group of hypotheses.\n",
        "\n",
        "The bCalShower sections contain the following information:\n",
        "\n",
        "*   **E:** The total energy of the shower.\n",
        "*   **t:** The time at which the shower was produced. This time can be used for time of flight in the barrel calorimeter. The time of flight is $t_{shower}-t_{vertex}$.\n",
        "*   **x, y, and z:** The position of the starting point of the shower.\n",
        "*   **sigLong** The standard deviation of the depth of the hits in the barrel calorimeter. This can provide information about how \"long\" the shower is.\n",
        "*   **sigTrans** The standard deviation of the distance of the hits from the \"center\" of the shower. This can provide information about the \"width\" of the shower.\n",
        "*   **sigTrans** The standard deviation of the angle of the hits around the \"center\" of the shower. This can provide information about the symmetry of the shower.\n",
        "*   **E_L2, E_L3, and E_L4:** The energy deposited in the second layer, third layer, and fourth layer of the barrel calorimeter. The energy deposited in the first layer is not listed, because the total energy $E$ of the shower is simply the sum of of the energies deposited in each layer. In other words, $\\mbox{E_L1} = \\mbox{E} - \\left (\\mbox{E_L2} + \\mbox{E_L3} + \\mbox{E_L4}\\right )$."
      ],
      "metadata": {
        "id": "POEU1VTmL9SJ"
      }
    },
    {
      "cell_type": "markdown",
      "source": [
        "---\n",
        "###**fCalShowers**\n",
        "---"
      ],
      "metadata": {
        "id": "zH9FaBNGNAsR"
      }
    },
    {
      "cell_type": "markdown",
      "source": [
        "Information about the showers produced in the forward calorimeter (fCal) is stored in the \"fCalShower\" sections of the event. Just like bCalShowers, each shower gets its own section, so we don't need to worry about finding a \"true\" shower in a group of hypotheses.\n",
        "\n",
        "The fCalShower sections contain the following information:\n",
        "\n",
        "*   **E:** The total energy of the shower.\n",
        "*   **t:** The time at which the shower was produced.\n",
        "*   **x, y, and z:** The position of the starting point of the shower.\n",
        "*   **E1E9:** The ratio of the energy deposited in the center of the shower (E1) and the energy deposited in the surrounding 3x3 group of blocks (E9).\n",
        "*   **E9E25:** The ratio of the energy deposited in the 3x3 group of blocks around the center of the shower (E9) and the energy deposited in the surrounding 5x5 group of blocks (E25)."
      ],
      "metadata": {
        "id": "3pWfQW1ZPm9L"
      }
    },
    {
      "cell_type": "markdown",
      "source": [
        "---\n",
        "###**bcalMatchParams**\n",
        "---"
      ],
      "metadata": {
        "id": "pVAip9YOR3vn"
      }
    },
    {
      "cell_type": "markdown",
      "source": [
        "Many showers are produced by charged particles, which should have also produced a track. To try and match tracks with the barrel calorimeter showers that follow them, \"bcalMatchParams\" (short for \"barrel calorimeter match parameters\") are included near the end of the event. However, because there are multiple hypotheses for each track, there is one bcalMatchParams section for each hypothesis.\n",
        "\n",
        "The bcalMatchParams section contains the following information:\n",
        "\n",
        "*   **shower:** The index of the barrel calorimeter shower that is being matched.\n",
        "*   **track:** The index of the chargedTrack that is being matched. This is not the candidateID. Instead, it is the index of the specific chargedTrack section that is being matched.\n",
        "*   **pathlength:** The distance between the vertex and the matched shower. This can be used for time of flight analysis in the barrel calorimeter.\n",
        "*   **tflight:** The calculated time of flight based on the hypothesis of the track. The measured time of flight can be calculated based on the time of the shower."
      ],
      "metadata": {
        "id": "hYt0EeyKSOx_"
      }
    },
    {
      "cell_type": "markdown",
      "source": [
        "---\n",
        "###**fcalMatchParams**\n",
        "---"
      ],
      "metadata": {
        "id": "gFVO7xJOVEAX"
      }
    },
    {
      "cell_type": "markdown",
      "source": [
        "To match tracks with showers in the forward calorimeter, \"fcalMatchParams\" (short for \"barrel calorimeter match parameters\") are included near the end of the event. Again, because there are multiple hypotheses for each track, there is one fcalMatchParams section for each hypothesis.\n",
        "\n",
        "The fcalMatchParams section contains the following information:\n",
        "\n",
        "*   **shower:** The index of the forward calorimeter shower that is being matched.\n",
        "*   **track:** The index of the chargedTrack that is being matched. This is not the candidateID. Instead, it is the index of the specific chargedTrack section that is being matched.\n",
        "*   **pathlength:** The distance between the vertex and the matched shower. This can be used for time of flight analysis in the forward calorimeter.\n",
        "*   **tflight:** The calculated time of flight based on the hypothesis of the track. The measured time of flight can be calculated based on the time of the shower."
      ],
      "metadata": {
        "id": "mm1zna8LVJMR"
      }
    },
    {
      "cell_type": "markdown",
      "source": [
        "---\n",
        "###**dircMatchParams**\n",
        "---"
      ],
      "metadata": {
        "id": "o69cVzqOWyje"
      }
    },
    {
      "cell_type": "markdown",
      "source": [
        "Charged particles may also interact with the DIRC detector. To associate tracks and DIRC hits, dircMatchParams are included near the end of the event. As with other match parameters, one section is included for each hypothesis.\n",
        "\n",
        "The information in the dircMatchParams section includes:\n",
        "\n",
        "*   **lele:** Log likelihood of the DIRC hit belonging to an electron\n",
        "*   **lpi:** Log likelihood of the DIRC hit belonging to a pion\n",
        "*   **lk:** Log likelihood of the DIRC hit belonging to a kaon\n",
        "*   **lp:** Log likelihood of the DIRC hit belonging to a proton"
      ],
      "metadata": {
        "id": "QcnhFVH9XCAb"
      }
    },
    {
      "cell_type": "markdown",
      "source": [
        "---\n",
        "###**scMatchParams**\n",
        "---"
      ],
      "metadata": {
        "id": "zROSZzQQb-YY"
      }
    },
    {
      "cell_type": "markdown",
      "source": [
        "The start counter is a scintillator detector that surrounds the target. It detects charged particles that are produced inside the target, and for this reason, when it is matched to a track, it will be duplicated and matched for each hypothesis. It is able to collect lots of information that can be used for PID, but because of how small it is, its resolution isn't as good as the other detectors. However, in cases where information from other detectors isn't available, start counter hits can be used for PID.\n",
        "\n",
        "The information included in the scMatchParams section includes:\n",
        "\n",
        "*   **track:** The index of the track this match is associated with. This is not the candidate ID of the track- it is the index of the chargedTrack in the list of all chargedTracks.\n",
        "*   **thit:** The time at which the particle interacted with the start counter.\n",
        "*   **pathlength:** The distance the hypothesized particle traveled between the event vertex (the \"starting point\") and the start counter hit. This can be used for time of flight analysis.\n",
        "*   **tflight**: The calculated time of flight that the hypothesized particle would take to travel the path length specified above.\n",
        "*   **dEdx:** The ionization energy loss of the particle in the start counter."
      ],
      "metadata": {
        "id": "YTdols4ypUVE"
      }
    },
    {
      "cell_type": "markdown",
      "source": [
        "---\n",
        "###**tofMatchParams**\n",
        "---"
      ],
      "metadata": {
        "id": "3v597lrEpGsX"
      }
    },
    {
      "cell_type": "markdown",
      "source": [
        "The tofMatchParams match a forward time of flight detector hit to a track. As with the other match parameters, there is one copy of the match parameters for each track hypothesis.\n",
        "The information included in the tofMatchParams section includes:\n",
        "\n",
        "*   **track:** The index of the track this match is associated with. This is not the candidate ID of the track- it is the index of the chargedTrack in the list of all chargedTracks.\n",
        "*   **thit:** The time at which the particle interacted with the time of flight detector.\n",
        "*   **pathlength:** The distance the hypothesized particle traveled between the event vertex (the \"starting point\") and the time of flight detector hit. This can be used for time of flight analysis.\n",
        "*   **tflight**: The calculated time of flight that the hypothesized particle would take to travel the path length specified above.\n",
        "*   **dEdx:** The ionization energy loss of the particle in the time of flight detector."
      ],
      "metadata": {
        "id": "5_jungpUpPzC"
      }
    },
    {
      "cell_type": "markdown",
      "source": [
        "---\n",
        "##**Working with a DataFrame**\n",
        "---\n",
        "Because each track has multiple hypotheses, multiple rows in the dataframe will represent the same particle under different hypotheses. When we go to apply our PID method, we need to check each hypothesis. Therefore, one way of performing PID is to just check each hypothesis with a true/false classifier.\n",
        "\n",
        "For example, let's say we have a track with three hypotheses. Each of these hypotheses might have slightly different momenta, different path lengths, different calculated times of flight, etc., which could affect the decision of our PID method. We might create a PID function called `isProton`, which takes a row of the dataframe as an input, then outputs `True` if the hypothesis satisfies the PID conditions to be considered a proton, and `False` if the hypothesis does not satisfy the PID conditions to be considered a proton. This would be repeated with each hypothesis, as is shown in the image below."
      ],
      "metadata": {
        "id": "2yJlo77nrjCj"
      }
    },
    {
      "cell_type": "markdown",
      "source": [
        "![A diagram of the way that multiple PID functions would be used. Each track may have multiple hypotheses. Each of the hypotheses will be checked with a function that checks if that hypothesis passes the PID cut. ](data:image/png;base64,iVBORw0KGgoAAAANSUhEUgAAA1oAAADDCAYAAACbI2CIAAAACXBIWXMAAAsTAAALEwEAmpwYAAAAAXNSR0IArs4c6QAAAARnQU1BAACxjwv8YQUAAFAhSURBVHgB7Z3rdeO29vafnHW+H58KjFQQnwrMVDBOBUYqGKcCaSrwpAJpKvCkAjEVzKQCMRV4UsG83n9iv4QgAAR1JaXntxYWJeJCEJcNbNz4Awghp+TuzdyAEHJp1Lg8KhAyPRpnLomHN/MMMjn+DULIKXl5MwaEkEuieTM/4vJYgZDpMX8zH3BZyACtAZkc/wIhhBBCCCGEkINCRYsQQgghhBBCDgyXDhJyXr6+mW8ghEyNCtdHDULGh8H1Lav7/GaeQMZI4/+hokXIeZENrn+DEDIlzJtZ4/r4GYSMjxnafVnXhAzQsu8wAbh0kBBCCLlcZBP9HO3BFg8ghJwT1scrgzNahBBCyOUiR0Jb97tyvz+BEHIOWB+vDM5oEUIIIZdL+N2+5Zt5BCHkHLA+XhlUtAghhJDL5ffIvSXYuSPkHLA+XhlUtAghhJDLpX4zv0buL8HOHSGnpgbr41XBPVqEEEKminHXBiTH0l0Xiftj3yNyh/aUtQbkHBi0SsCf6I74f++uv4MMZemuU6mPd84MoQE/B/F/UNEiZNqI8HufsW/QCu0GJIec/vQObcPQ18jJGvtn9/tXXC7zN3P7Zj5gnOWnQntylyDHjtcgOZbuOjVlS74VJPWteTP/w37fHZyjLdMxJFz5riEPJthGjk+3b+ZH794PaPNF0o1pNpylu06hPkrbOMcwlqBMJoScAfn2znfP3GI/qiC8lHnG6RHlRRrooSNh50DiKem0KHBr0KXrlBEFXd77JmEvSoy84z3GiTT+mg/vcFoMNuvXlL6pZRGXEY8Rt6Gbc7Dwnn+D/VihX1ZKXp5aZsl7zZwZGxXislHi/OrMvvmyLyq/1YwxHVNYlNXH0N0Cp6NCVz594/cvQrtrPrp+DHKTkKtFGvFjKFrS2N1HzALnU7b02Y8YP9poXJOipWUxVQZXGLeiJVicp3wZTFfREizKOndj6DCoEnKIcqhl+hnbstK+mS/o5KnB6TAYr0zRNIspnyo33+O8TFnREiz662PoZoHzc6h+zKUxBrlJyNWyxnEUrXWBGzGnHHlcgIrWmLkERetcGExb0RIs+jt3l9Zh0DKdk0kvOP3AlME409ggX74rZ7/CeVH5PVVFS7DI18fQfoHzs0s/RvogorQbHB7jzLlnWDfykHu0CLl8amcqtEJbNy8bd6/x7H9CK6Ri+7pEON47e1mX/wfie3cqdAJP///gfn9GfI+F/+wG7abrBnE0/Nq58f3+hXafRcrvMbHumnpHQTcVN+jWr1do30f9yf9d3qfU34Nzc+P9/8f9XmL/8H1uXPjSEH9z/uoCP3eFz7LIx7vCOMrGGFm66yJxfyx7RAw25VTIkPJSgshHKbP2zfzm3dd6o/X0wT2zwXZaxeJUIy4XLDY7htZdG6TfV+sUXNifkca653724nWPsvqoS3JTbmp0Mkvi8zfIrizdNVUfp4oo4RXaevwLuuXqNdq9tcIaXZ8hVoYkTSzSH3d+Qjurarx7IgM+gvsHCbk6zjGjJTxje6TPohsZmwfx8mcxRCiuEB9tE78meNYi4TYMF85vLuzYyJSG/xiJt6ZFbsQ6xgz7z2jpe+SW0cRG1PV9JG3miKfFPBPmHdJpGPO3Rjp/YnGVeH3E8HSWxu814c8k/NiMn9ia/1i84cL/guFpWYqJxG+qWKRH0nPl41RUSM+aWAwrL7H6F0PDuYn4rbBZh8J4PWTi9JR5Vmhi75urU7H3BTbr3DrxnJuEX33n3B7IBfrl3rGZYfOdZpguFuny4P9f4PxoXG4zbjTec3d9dff8+K97wtEy9hixW2IzjRbYTKs5Tk+Yd4SQExI2dLfYjwplHb2corXyru+xOTJ048V57ewe3dW/fxPE6dELd+H+P2Kzg228MFaJsL9gm4Xn59W9U+hv6B6LGcobL4O4AH2PdAfJ9xduHtf3ecF2ei28Zz0lwnz1nqv+5H3WiL/TO+dG/b33/PmsvHgNTeePnr3vT5WfdcTfHTY7ShLP+yANwn0isXww2CxXGo4f71haDsFgu6M7ZSzSHX7fnIMK8Xq1S3nRMv2INDeIv68vJ6VcP2O73lhsdoRL6rHWje9e3B6xrdzMPTfPibBj76Xlc41NObtAJwMWiKP2d0jzHuWy81jMcDmKlmDRXxfPmd6KxuU242aFfPkU1thN0bJItydip+W3wmkJ84oQckJUoJQIqBIqlHX09Ll+423R3zBph1k6yOGo5w26jnPMf0o4hvYvETvjxXmW8JfqAKwwvLHVhrqk8TKIC1A9hes74iPEqQ6J/z6xOFvEFTRhnfFnPPsqYt/XuGk6xhox336WiG/Knyr9q+C+KpqxkXF5xmvELpYPFum8rFw4sTI3BINtRev7FZhzUOFw5WWFvEwSLDqZF/O7RrxcG3TlIBanCl09NhG/uTT27e8ycY7JCPX3kolTTGYZlOX7A+LpdUpmGG+dOZZZ4PxoXG4zblboj++6J5wF4vVW/ZmEv5mzf8ZpCfOKEHJCVDCUCKgSKnSNf4p5wo0t8KuKg0nYG6Qb+JRw9P3lwq68sGPhpgS3RbpjkWLmPWtdYFICVOMW62ipv/uEn1w+aKdy5t2rCvzlZtn6GjdtIFNLgizi6az+HhP+Ugqp+nuHcmL50Ne4ppZJDcFgsx6H9fpSzTmoEC/DKwwvL31l0yCtLPX5tejvUC6wXY/1ubk0XhSEnaqvGm5qVkoHy+6D+xX65QvQzSz2uTsmM4y73hzDLHB+NC63GTcrxMuXz7onnAW2617l7uXaeYPzlM2NvOJhGIRcBnoEcnhPGsHK/Z8n/H5N3K9cGLmN5XK/dm7vUP6BQm3060zYamec+zCeXzNxEnbpUPuHROyCbLy1aEd5f/fuS/wNuoM+YiyRD/cBm50lbbjqHn8yK1mhO8RkKEPTuUL+I6ZiV6N9H3mHP9z92vmV+P6D3T92qelrEf8A7S5pQMZHjd3Li5Q9E9wz6A68aJAuv03ivnYCPyONLx8+oByt90vkw66c+T1in6rHffWh6bFX/waEnI6f3DXW9wkxOCNUtAg5LAZtxTfuf05JOSTyzHnCrkF7elaqA5BqaI3nP4fa36IcFZJ1j7uvLh632O4oHKPDvHwzv/a4MUiPkNWIn8JV0gn7WmB3F8RDn5lC4tI4t//B8ZUM4666ty/FTXAVpHNo0R2Q0qB9b0mz3CmUITXaTqek+RJtR9wP5yvIJbBPeXlA+vAI8S8yYGhdMe76d8bN18BtKVrv/8q4qQO3hFwy2nZUOP0erEFQ0SKkDJ3puHNX6UQbdEqVr1z5NG/mfzh+B1fCf4rc16OO9w27BIPjcYPpIB37OdpOoI5aa6fud5yeBvmjc8/BN8/496SuSFrJ8iedBdS0k3T9DWVYtB1PUbYqbDbGn104DQ7LD5guFuNYijSEfcrLEtsDFBLen9hfVr9m7DTsXeXZsduRGFOSvcocw2YMx4bF9OrjqdG6sMTIj8CnokXIJhXaNf+qOKnZFePC+4TjkluqtS83hfZDFLrSDofaN5gOunRNlwdV2PzuV4pcWhh3/TbQn6Aj3A1OR/NmfsRw5P2Wzsh7ycyndebJ2Zd2oJboGmBZonjnwtDlYT+DCBbxTp3cX2Lc7FpeahxeXmrd/C/SAxp3gdshYesAXyps464NDkOpjDYHfu61YxGvj5+RnoW9FFJ1J1YG//bs/sSI+RcIIYpFuwTlyf2ucJhZmimOCAq1u1Y97rTzMGS25K+CsG88+9ySmbFROyPpUqFbNrjs8Vdl7HSpZePdU8U21/gadHuzTjGb1bhnGexf7nWGQZZxqVJksRsSzu9eOBX2P4jmErBIK1nHHhw6NIcsL7ug9TF3OMdd4HZo2FXGTUxG7IMqWqbH3RQHw8aKRbo+/oHLRct37MAMg/hy2BrdMv1UW2PQDaydDSpahHQcq+NlME0atMJMhNRTwo1Fd8hDqvMQE3I1WiGpykiMp8DtlPjsrtJwVO5336ibNAgmct9P/8/efekIa0NjEGcW8RfyXxyWZfDsGHJSlCz30rIhVzklMLVcZkj+W6Q/wtpgemXpWFhMV8k6ZHk5FJpmFumOndaJJYbx2Qs7hi8jljgMDbp0zLWNquANVR7JJhaXM+gxFC07UoaNd1/K9Qvi9Ulns8UuJu9VRrzg9Me7E0ISVEgfparHfkuFFmEoFVc//Cid6SXKjmFdB3b7KncVdj++1KL/mNgK3fs/Ruz0mO7HiF89WlyODzYR+yd0cX+XiNv3iN9F5pl+nFcoZ4byI3MNuriluEH5UbwLz12YVtrQpPJ45tmZwG6OLu9MxO/K2T8j3pD1HctbIZ7OBl25mAd28pwl4u+zzvjRI6jDdIzlg6bXC7bT8iMOc9yvwWb+7hveqbGIy6rHwF1ofw4qxMtZrrxo2Q3Li95/xHD66oPvJlb2lsiXFa0zsUGtG2x+gNwEdlo/VhG/fXmXey+tS7n0KnFzbGbYLKczTAuL/voYulng/JT0Y0rqjZThVy+8FboPg0u5T5Uxv17IVdJE8v45uG9wWsJ8JIR4GGwqUCJA+qadVWFIGb/xW2NaipYww2aHcoXN90g1ajfYft+7TNhf0AlXvRf7htMC41e0gK6BEZNbTqTvI++q6SV+JT00LXKNxRLpNJTrQ8Jfhc28eU3E/77Hfyyd74I4lLxPhe1y1ucnlg8GXTrqs8M0CcvhUAymq2hZ9HfqlNDNOagQL2d6f0h50TL9iOH01Qdgs+wNrcdhO/JyoLD78i73XjpYtsj47/vW4imYYbqKlkVZfQzdLXB+NC63GTcl9UYQmeyXby3jBvk2/wabg5Ux/6cmjAchZA9EOISV6hXpTlgoSG6xH/J8ESa7CN13zu/7Arf6HP8d5X+f8DQubjoyFROUdmDYc2dfIR/XZ5RjUZ4WBl3nvS/MMP9j+I2IQTd6p2nxjP7GwqIb1VZ/iwJ/ooSt0OWPP6jw7Ox+SvjtS2fj4uCXefk9Q35NvZaXEj+pfDCRZ5emZQkG6To+ZizKlSxgHB2GXDkzGFZetExXGE5ffVBu3PO/FMbJx6JTnr5E7A2G16k+WZV7L52Zf034rRBXgk/NDNNUtCzK62PodoHzc4v+Powe4lK6T0rq+30QbkkYN86fpN07nHcP7hjkJiEXgcG24qSj5eE9JXR/TmFAjotFWYO4QL6zS8aHwfQULYthShbADgPp5FOVsTu37JpheoqWxbD6GLrva1fI+aDcJORAhEqTGJ0RCWe1bhJ+bkEuFc3rvmVqY+mskHIMpqVoWQxXsgB2GEg3cLgK7ht0M+HnZoZpKVoWw+tj6IeK1njZyFeeOkjIbsimehPcm6P7IO23wO4/INeAnqKo5aMGT+Mi50WWh8Y6ZRaXf5oZ2R+RXyLPKmzOalnkT6QlcVgfrwx+sJiQ4cyxvZfnMzY/jNlgUxGT36f4jhE5L7K/yrjfDdpv+hByTmL7Di3YqSPlSNsWDhjJTJYoDZf8fadjwPp4ZVDRImQY0rCEyxIabHeom+C/wci/Xk72xqD7yHODdnbzW4E/LRdUxMkxqLE9E8FOHRmCyLGwzLAM7UYN1sergooWIeUYbJ981byZn7Hdof4W8Usumwa7zWAtcbiPjBISIgq/QfcdMQ74EHI+WB+vDCpahJShH8E0wX2L7dkrRO6VHm1KCCGHRAZ9uISVkHHA+nhlUNEipAzZvGqCe3OkR6P+Cf6nFK2HiFtCyLi51oETC0LGR9/JrpeIBevjJKCiRUg/c7QKkY9M+X/I+GmC/6mG4CMIIWQa8EhpQggZAI93JySPHF0bHn4hpy/91uOvCf5z6SAhhBBCyBVBRYuQNAbxEwZ/QT88DIMQQggh5Irh0kFC4hi0h1+EM1GiZDX93v9P0foW+L9F+70tzm4RclmUHOM/RZYgZHr8hctjCdZHQsgF8eXNfA/M+4FhrAP/tyCEEEIIIYSQK0UOqAiVrBmGM/P8r0EIIYQQQgghV8oc20rWCrtj0c6EGRBCCCGEEELIFSJHsIdKlsxEGRBCCCGEEEIIGYzB9p6qV1DJIoQQQgghhJCdkFMAQyVLzAMIIYQQQgghhOzEAoc5/IIQQgghhBBCCOKHXzyDEEIIIYQQQshOyNLA2OEX/KAwIYQQQgjZix9AyHVi0H6U2Feqmjfzs7se87mEkMujweVhQMj0+ObMJVGBWxomyb9ByPVh0H4bK5y5+gXH7yytwM4LIZdG82Z+xOXBD62TKTJ/Mx9wWRi0yhaZGP8CIdeHHH5hgntPb+YrCCGEEEIIOQBUtMi1Mcf2qNDHN/M7CCGEEEIIORBcOkiuCZm1Ctc4yyzWbzgfDQghU8Tg+mhAyPi4wfUdYlWjHTgm46MGIVfIHeInDBqclvDDyLcghEwNg21ZcomEMpOQMSIDqJf+HUyLzXdcgIyVDbnJpYPkGjBv5iW4JycSHfuEQUIIOTcy0j9HexDPAwgh54T1kRBycYSzSGLe4zxwRouQ6WMwnRktGfn24/o4wC9ntMgUmNKM1q710YIzWlOBM1rkqpCDLkxwbw4efkEIuQ7CvStLDFO2CCGHg/XxyqCiRS6ZObZnrj7j8r6vQQghKWKDSkuwc0fIOWB9vDKoaJFLRdY+h8sHmjfzKwgh5HqoEZd7S7BzR8ipqcH6eFXweHdyiZg38xzca9AefvENhJCpIMtsWGf3Z+mui8T9T5g+BjzcaFdkYFLqWe3+V2jT8zNY/47B0l3HXB+rQncN9q93Bl39bUAIGTXSMYsdfnE/MIwKxzn6/RyHYUgjukD/CUdPzp0Yg8tBjvaXd3oudP+My0uDkNIycS78evyE8WEwzePdLbZlY25DfuhurMhe3EMdEKAyMPddJuO5O9fBSofCYrsMVO5eqcw8NzNM83h3i/L6GLo9RFnP8b3QHCKtFxh2MMjYmYrcJGQn5Bj3fQSBwaYytMJhK/85FC1thHLp8ITzn8h4LCoM6wxrHt1julRoG2aTsC8pE+fEoCuPY+zsGUxT0RIsyjt3U+kwvKKN3xfsT59svnHP0Xw3mDZrxMvvCu07GowflWeH7PyfCouy+hi6W+C46HNe0A0qxMwhBusWSMugKTIVuUnIYObYLuBDO2kPiAs9aYhEGBjsxxrjU7T8d55SA1VKhetTtPoarr4yMQYs2vprMD4MpqtoCRZlnbupdBh01voO+9Mnm3Uw7xKULIu0HKiwWxt6DqasaAkW/fUxdLPAcTllH6WvvZoaU5GbhAzCn5FRs8voZoX8NLmYFXYXCGuMS9GSjskrptk4lVKBilZIrkyQfgymrWgJFv2du2vsMORksy5RvAQlS1BZZyJ2MnP36swNxo3Ks6kqWoJFvj6G9gscl1P2Ufraq6mxkYc8DINcAgbxEwZ/wXBqtCcCyfK51Oho5czcuf+AaW7gNGhHZ/VL9X3H3ou7O+dPNkg3b+Yr+gn9fUU6vdStugv91jjP5uw7F5cG/XEX6uCe+vPfR/7LO5a8j+4b1MMhUmloPKP/K/c796ww/Bpl8bpDl18NysqDQRenJhMvTfOUfWmakDhLd10k7k/pgAyD/Gb6XWWXzxxtu9CgPVipQX+cKve7QXldN4G/OuM2rCND/Rqk00zC+4y2g/8Ol3FgyphZumuqPk6JCm2fTMunIGX0D7T1aAgSxnMkrI9Il8kb93w7wA8hJIFB/PCLQywh0eUorzjcLNdYZrSMF5eSkbE54unQN7L7lPC3SPiznv0d4nk7xzAq7D+jNUN/Wr2PuLHo0n6X95FGQhqHVBqGI80zpMto7H20MXodGK8K3T6VsDyk6p5Bt+8j9DOPuF9F4q2k0uRUy5wMtt9hqlikR9LDe2PFL88hKRkkg0wm4j4mm+funoTT17aIfayc99Upg3T9eEz4WXlx/Yhh8jkmr3ZxMwY0/9XMMF0s0n2MUP4fk1g9KGHu+ZX6ssJm3FcRPwt0MsfnAZtl+SUI6ykSlkHXzsrzvwR+5P8NjkuYd4RMmlhn7xiHOVikG8+wYROhYRLhrAP3tzg+M2w2Pv6JbiXCeolOaElHVoShpLG/ITwmuD4G/t67OKyR7gRYdMJ47a7qz8/rCuVUGNYZ1vjdR8LILaNRf++8exZdOq+d0bTQxuU70grCF2yn4bP3rLDRqLCZVi/uvxjjuZt58dL0Lk1nv/Hz/a16/K0DP49BGjwE7jW8++C+X65m6Mqjhn8KZctgu95PGYt+2TbmDoOW51lw3yIuu/z6ExLK5ifv3j3yGHRKXVjO14k4xvzNsC0j5hF/WkeW3jvOguelltC/oL+9vMM0yrfmv5oZpo1Ff11c4LiE9aAEg3QeiJ2WyXeBnZbzx+B+qs7olodYe+y3AzeJ5x+7fIR5RchkiY3gHbsCGWw2YjmzwnbnMfQ3RIjtijZCcvVPzCoZ2anQdVRiI7krxBtri7QyJWgjv0r4S+Xlc8Jfjgr7K1pA965VxE+qQ2LRvU8svQ26DlYV2M2RTkODLh9j6bRAvOFSZtg9ndeZsGfIp0Os01clnqXp7eeDQT5NtPE9Ngbbitb3KzBjZYZ4WV4j3rETVmjLShXc13e9xeagwiP6WSHdCa7QydJU53AW8aedypiM0Ofl6kPMn6Dy4x5pbtC9/7FnAfZB8/+azALHRZ+jynvMPET8WaSV99QM6QLbdcygqy8x5Nn32CyXFvm0MTjNvsMwrwiZJHNsF+YVTotF2SxX5flZB3a3OD4zdI34MhGvHCKQTMLOIi7YtBF/zISpnYDbSHjrhD+DvPCNUXl+VgVG0+c+CEcbiVg5U8UkTAfrhWcQZ5YId52Ih3KHdMct1nDFnpka7TaIp7NFfyOvaVhFnpeabbrNhOO/f4X+eJ8Cg816HNbrSzVjZYZOxvlovGOdqpvEffUjHbldjo3395KErLEt8yrkZZ6g77cI7q/c/VTHVuXSLGIXk7/Yw9050fS5JrPAcTlGHGzC38Ldf/Tu+Uq+QRkr5z63vFef9Q7HYyOdeBgGmSJSiWbBvQbtIRanZOmMRV7g/AfjQJbA6MEBcpU4/w/9G7S/ZdzcRu7pxnPhUybMz2jTTjo0vwf2TcJf4z1jKHp4wq7Iu8gsqnak/DTRkb3fE35rpN9J/Myx2ThU6Daq/5nw99WZO2dqDKdO3G/cNUxnbQiXyIdZoVWQanfvq7tatBui68DP3yhDw5H3lfL8MbBvQEiH1g8pK0tslo8+uSfyUeu5hDFH2f7Qr4n74TImLfPa4fuMNJ/cs0XO/Drgmd+856Xi8w/yaHthUF5PyeUgdSdVV3LlQfsBBm0/Qa4PKEf7COJnjbb+1mjbwybh5867ppQtE1yPDhUtMjUM2mVnPlIhS06BOiQiREQAvUd/p/8vjAOJZ4M2raQTUaFNy58L/YrA+wltHqiyEXt3FXA18mjnwETsGhyeBmWKVo14nL6hUyL8U7gq514Vn9SzU3xz9gZtg/Q3uud/RR7tSP6E3RStvs5miOb3POPGBFdBlCuNq4w6Nmjjq/cblPENXYdX96yJf2mQ/wQVLbLJB2zuU6zRlpW/0F9fpKx/RFvPv3j++/wJFdo6qR0+VVRi6P0aaRp0Co/KiEMxVAaQ60Lqy5DyVqGtK1XErsGwQVIZVJDyaT2j4cgA5RKb5VfDLplpGxKPvaCiRaaEVAzppJngvlTGBqdBGk0Z1bcoq6hLjKvzJ0feN+4qnYcK/SO1olCK4PTft0HbMdhnlkhHUk8m8LB/B0U6bhXa/FdFS2d5PuLw9HWCGnc9VRrqcyoMR2ZPRTGS8mSw2XAu38xvKOv0SR5IPj6iU3IfnF2N08oDnx8wXSzGf7LcLkgn8Ue0SrmUkQqbx5//hvRM0mdnD3eVMCSNcoN6Bt0glqIrApboyqvPjecuxzccp56Hs/OXwBz9nysZMxbTrI86kCbU6FZy/OWuUgeHvJeUS5HnkpcycFE5I8/Rw21+xnb5tehnLAPghIwKXVvrmxlOQ4Wy/VihuQ/CWQf2tzg+M/escH9M5cWjSvi1zl5PeLtL2PvC8w79ew5S8bLoX/utcS6lKoyPonl0H7GTTonuWbgJ3JuIe4uytexhmOrvpcefHiryGNxfJO4rmva5+hNLZ33XfcutQTsrKPH0T1vz0fp2nwnnxtn7JzGucXzF02CzHpeWrTFiEZddj5F7Y6WkPAtSVvxTB2OyT++Hsi51gI/P2nMj5Tssh7EyvUC+riqhjEiF56PpssiEd4uy5+5b54+Jvuep+wXHwCJeH19wnj1aQ/Jd45hKf4vyPVo5DLpy6e9PXGMcZXUj72RG69iZRYgiMwA1dmOO7VEKmUE45qiVLg+Uym8y7nS0Utxb736D9P6acxCO+tToH6lVwSfp8AllNO5qkB8trdz1K6aD5rWWCxkVM2hHv5uMvypjp0uLdORb+FrgT/0Cp5vBkXgZ99x9ZgcbZ2TpoNRhaSArDF8WJen1pzMajgE/sFqKRbwPIPcl/Za4LLSsyLIjeW+Lth7XEbfhQTAysi7lvkIrM38L7OW+Qbc8O0ZsAKBxVwk7VWZVRojbQ80+6QyZQbrO+cvD+/Zykf2xSNdHmTF/wLjRslIn7O8xDCn3urTeR/4v0e07Vz67exbpvmGF8o+HH4R/o2yKjZBDUGM3RLiEIyQNjqdkGXRHlOZGxqWifkTbaMvvcFR7jvEj8ZdOaYVO2YqREkr3Cbe1C1PSMJZPBp0SMSZltARRDkSYS7lURedzjx+D9n3riN37SBhf0e1pekA8/Af0H5iRK7+78Id77pP7HUPsXrG5Z0r8SFmRshCWpQZdp++/yCtakh7SMZYOaaiga7kbe2dkLFjklaypY9DKNikXsff5imFIOLrkWsq4lO/PCXep+NxF7mvdtYjXD0FlRI3D4Q+apOTHnef2ZB3TK8UiXx8txo+WkQrbZcpgmGyWMi/9kxrxfomG1Xj3tG3WgeEG23FYud//xQnL9HcamhOZRwzHoJsiVrPGcU6MqVC2PFDc3Ef8hu5M5BnrwM0tjs/MPWuWsL9B+mOvz4n7whzdeywCu8qzewrsDNLfjbGJ8Hw03FIqdOWmBI3bfYGbV+TDtciX2yeky4v1nhF20O6Q/55V7ih6oa9MAOl01ufOI3YW8ffRehXL1zni+aN+/Hx4j3RaVsjXvUNisC2TpoRFmYwO7cdKrDxX6OqPCdzL/1T96ZPNT4lwbzy/d5nnxWSLlvUv2I7rHOn3WCEvqzRdFhG79+iXteqmbwnzudH3VDPDtLDor4+hmwWOS189iFFhM36iDFm0/Qcpv18Qj/sC2+/r90vE33sXnly13MfagVkQBxvE4TuO/1H7MB97O5U0NIcyjxiGQfz7NHc4HFKZpeJ+QT7uUkEXSDdoi8D9IuEufJ9bHJ+Ze9Ys46ZCFyd/1MmgE04Sd2lwF9jci5B635kX5hfnZoX0nhzBIp9+8MIspfLiX4K+233Gjf9uubhaz42WsVXwP5c3/nPU38q7l2owDLp0VmXwNhJurkyk0tlgcz/US8H7+PFJ+QlHO/U9/XzwG99XL5wV+tPykBhs1uPSsjUGLMrlc+hmrKTKsw4U+fVHykzu+1glsvnF838TiUdYX7UOanm/D8ILy7X6XSOfPyvkZZXGZxGxq9BfdlN7QMeGn+6nkgGHwqKsPobuFjguJfUgRpgXfnwt4nFfIP7OBulvFK6Q/zZlzJ/uNT82G8+NnTpoQchhsNjvu0VS+UxwT0YThy75iKH7r4YuD4xhsF1vlhgPusY5N01eo91zIOkxc//Vn5wWJ3lRocsPsbPuahJhyzKYv1yY4vfO8ztHfEnha0FcGwxD36MpdF/iTr99JSxRhiw7krS13r3ahZNauqMn7GkaKl/dc1Pf7WqwmW9Sxv19VSVlosncl6Uc8i4P2FSQasTfp3Hx0fc3hX6a4N43F85z5NmSJlJXL2HZ27GwuMzlgqnyLDJNZJCUuypwP0e8/jTo51d0e1AfvXBUptngebXzM0O8vdFyrXUq9Cvv8TUR1wZpcvW8Rrc8WTrTf0fcqMxOySeyHxbjrY+Vu/6NYUgd+IRuz62UPSlnUoaMux+GqUe1hycBNmhPDb3H5j7Fv5DvB35wYao/DesPnGkJbKjxEXIodJQiNyKXYo7tsnmI6d4K5csD3xWGaVE+uh2OstxiOoiQE8G1S5xvnL8pvW8Og/68Fiy2R/A0LW4wjF39HRvN1yHx2sXPMcMZikF5nR8LFuUzWUrodsqcWgbdoescDuVU5XqG9AzQA04zc3II9D3UzDB+LIbVx9D9FPLlWtmSm5ckSMm4EEFQ2qD7PGG7XH7B7ujywBX6FSxZKnGPYaxR/p5TVrRIh5bt9z3uLNgoXiIG01K0LIYrWQD7B5eOtI2v2D5hUdBlgwbjZ4ZpKVoWw+tj6IdtynihokVOhnZGSxt14Q7bZXKN3YS9NCJzbB+mERpdt7vL6GEVCc9k3K9BRWuqGHRLH0ryWrBgo3iJGExH0dKZiaFKFsD+wTWgA5t+eTCYltyS9nsqitau9dGCitZU2Mjbf4OQ8WCwfbqRrKeV/SANyqnQnVCTo0Z7PO8n7L5uNxSOS5zum0bktEjjbb3/czCvyfiJzbpacC8bafmI7YECg7aMcG/W4WF9vDKoaJExsUL8aNsG/chslChWovhUPW5r5A8gKMVg3IdgkMMiyniN7oCUkvLzim7TOSHnoMamTLRgp45sEn4TrwY5FjVYH68KKlpkLEjH1QT35kifqqYc8vTAoVTB/wYcAbxkfsNw/kD6w76EnAKReQatfCwdICCEHAfWxyuDihYZA3NsT6fLkr4PGT8V2tkrmcXKKVg19l8emCJcBz4HIYSMC5F7v4IQMgZYH6+MqStafbMYMaTD3WBcGLRKQ4Prm0IWRSlUWBqkBZF+GbxCnhqHWR6YosL2DNwuz5LDP34EIWRKGFwnFQgZHwbXR/i9NTJSpq5oyZIxg2HUGKeiNUcbt2tStAy2v43VoD38wp99Gro88BTKdDg79nnHZ34GIYRMgxUIIWPgBuP7piKJcAmKVljQKrSbC2Xz+ceIn6FfuSbHQfItdviFRaewVGg/GmyRFyiS10scZ3lg7plSvqQMNtht/w4hhBBCCLlQpq5oxTaZ/4C2Yy4dbp7kMl7kGxAmuDdHu/yuQrucsOoJo8Zxlwf2IcqV7CM7lXJHCCGEEEImwjUfhmHctXFX2Stz4/43CffqR2YzSjvXxvNXYzf8KeIG02eO7W9cLdEqyXIcdt/ywKUzf+H8DFWyJM4NCCGXRIPLpAYh0+MSVy7JNgMu3Z0ol/bld4v2PXIF0jg3a/d7hfQXxWVp2Cu20yk2IxPGI/Qn/2VPUmy5YyrO4vYLpvklcIlv+OXzJ8S/iv6auO/bS95wTTIhhBBCCJkE165oiXl17l+w+QHaj+jSReylo//s/Kj/WMd/Hvh7dmGrvy+B+wrxOE9ZyRJCRUvSr0+hCo2kyT0IIYQQQgiZGNesaPmzWiF3nptYR3/l7N4n/L1G/Bl0ytbMu19F4jx1JUsIFa1SozN/VLAIIYQQQshkuXZFy/S4e9fznFAJSilgSoVW2VoE9/w4X4KSJQxVtLg8kBBCCCGEXATXfBiGIAcZNBn7JmN/G7knCkLlfqdOPKyR/0CtHnsuM2NLXMcXxOVwEdm7da7TAwkhhBBCCDkoVLTKqN7MT+hOJpSribi7c9chpxL6+EpWg+tQsgR5b4v2pKAGhBBCCCGETJx/geTQEwdF+ZGDMSy6Y8nrjL9dv6t0h05ZM2gP1bgGDNq01SWVFQghhBBCCJkwVLTSWHRHsS/RKlgG7beeZOlfbGmgKlj77DGav5mf3W/Zr1ThurBoFVtRuh5BCCGEEELIRLnmwzDWGTd9h1pYbB9WcYMuHYcoWxW24zxDd0CEwTQJD8P4guEnEOoslwEhhBBCCCET4dr3aJXwNXH/PnJPZrRqtIqTKGgfIm5kZuzZucvtwRK/MnMmszqigP0Puy9JHAu6/LIK7msa30X8GOdHzBLtTGINQgghhJDroAJX+UwWzmjF0dmY58wzYsevV+hmou4iz107+8eInzDON5778DlTIJzRknf238k3FVrldYGyWa6pCpzYu9PQ0EzbrHGZTCX9aWh8M8PlYTGtPKBxhnu00vyOdgZJDsRYoa24M/d7gfSsityfo/sWlvpduP8G7QzOJ/Qjz//ZXa2Ly9Tx38nnBe2pgzLLJzN5S6RPIDTOfo1WETY4D7kTKAkhhBBCyJUTal9Tx6J9j1XGjXFu1shzh+0ZCJmpeo/0B4v9eMT8itIV7t+qeuL84IVRYTpI2vjv/+jZVdgue5JeYdpYlM0CLXD6tPHjVe3gh4aG5jLMGpfJVNKfhsY3M1weFtPKAxpnfnA/fH4ACRGF6z9v5h+0syxD9krt43fqLNAKB0V++zN5M2wfYf/5zfyCbe7R7dXKUaPby3VMKmwqxjW60yJzrMEZMEIujQb5D9FPle8gZHrMEd8jP2UsNgf2a7R9HTI+luGNUPsi5FCIUPDL1mPEzRLbZXCeCdO4cNfIjyKI/ROOp9TcRJ5ZFfgL430LQsjUMNiWN5cI+wdkCsywWU5nuDwsNt9xATJWNuQm92iRcyPKUHiyowjJx4T7Bt0+rl+R38cl+7ekA7TA4RUuPWHS5x0IIYQQQggBP1hMzo8oLLJUsAnuy1Hwdz1+l2gVrgrtksMUFq3CtcJhTyv8EHnOPh+rJoQQQgghFwIVLTIGGmzvyxKFRU4iNOjnT+dfTytM7YOr0J1W+Ij9Z7nq4Fk34HcuCCGEEBJH+glztAO/DyAXDxUtMhZk+eBvwT2DYeuQG7TLCf+H/mWFSxxmWeHH4D8FJyFkTLBjR8h4kC0Nsj2iQjuYzMHZK4CbXcmxECWm7zCMkGdsl8ln7I7sm1qh/wjOXZcV3kXCyi15XIOHYRAydQymcxjGLnJYYf+ATIEZpnMYhihXYb0qqZMWPAxjKvAwDDJqZFarDu49YfePNf+B9th1XVaYosJuywplJq4O7vFQDELIWAj3jS7BUfRrp8LmgOAdpvWNzinze+TeEuOrk6bQHGJf+s0BwxolHLEix2LXkVSpbOHMT+nx6X0YlH0E+RXlywrfRfymBMYYZrSkUZ0ljEU+nefYf5bx2Oj7lZY3ffdLPshElozJO/YdMHMuDNq6IWascfQxmM6MVgVEZVxJ/Zhq/2AOHExOvUdcVsp9qVcm4U/uj7FMy6BlmP+xe1NC8mMqM1qCxfA6GfpZ4Lh8LzSHSOsFpl3+QjbS6N8RB8fOPHI9VNgNOWBCZqG+YLPzu3D3G+xOg3b0SIxFW7GriLsbdB9IrtGeMFgnwpTDOL6hi6tc79HOpo0RafTnPW4atLOL4WmOKgifsL2nbizo+9Uo+3D13F2XmO4HxeWdpdzJDGvsHWQwwKLN168YHzqiKUhcxxjHqVKj3bMatu1Ldz32x93PwU/uegg5VfI9xqV7jl/3KoyvTBu0CmKDzXz/iLbDLFdpt6YqB6fC0l2nUCdTbYryN0gv32loTmQeMQwbCSNUvg6BwfbsW8ys0b5D7PmzwO0q8ax14O4Wp8eii+NjYGZBHKvAr4zgyhrz9xgvFvk8CDlnXhwKeVd5h/uEvZbvoXXwlMjsQ+lJo+fGYFs2jB2L4XI5dDsVZOBB6sQh5JTKQ5GNvqyUsLVeadvkc+PsxRiMg9zMlbZhM0yPsP2dyjtYlNfJ0O0Cx+WU7eIU2qchbMnN7zQ0JzKPGM4sEs4Cx8GgbFnhGtuNZ+mhGGHYtzg9Fv3pqIeSrDE9LNq4rwrdnzMvDoW8q7zDfcJ+gd3rINnGYFsmTAGLYbI5dHeNqMxO1S3juRnzAJSg8TQRuxtn9wXTY4bNcjrDdLAoq5OhuwWOyynbxUtrnzbykodhkLEjS/bCaXSL/qVvu9Cg+wiyLLWpE+4MOoVMBESFyzsUQ9JdlgsYbCqMpZtWdXN11eMuFp76Pee+BoP+UehY3A/1PjeF/vwld8DmJuU+domXQZevpTPLpe9ikI93aTgkzRKtbIvdvyQlvEROiX2FYWU5RoPuMx8PkWeYvPf/e3aFzaWGKcLwfL9971A5vzXiy+9F3ks7pnWMnIYlLq9OGrSDtaK0y5516SutsNv7GBfW2gtLVj70tYtz98x9n783skfLgpDT8Cd24wntaKLx7smIlTQKn3Ecls5IZZZRSptwZ9HtfWkCO4m3nDA0xfXuEucabcdB9jvo/gJJi7kzHyL+5J0lb/xGv0GrLM8j7v3wZG9AuHRM/P6C0+9vUAV6jvh7CiL8LTYbSn0fuf8X4u8j9p8SYUq6Pblwbgr8aRyUpffbIL5+XvJ0EQk/l8537llVcH+JNn2aiB+DLh1R8KwVuo5kGO85ytOE5Fm66yJx/xLSU8v4Etud2F3Kch8iu0TZMsF9nemU+2GZNojXjxrp70BqHfnBPS+cQZN7OkgW8s4LP4XYSfrc97gjh2XprpdQJy3a+iWy+hu6slh55tfCsHQJsIbVuN8Pzlhsp41BV0/g+anQDdKNdX85IWfFoB2Z8KdkX3G6te8G3ajK9wGmCsIJ/d/i9FiULT1YYXs6f4b00oyP6PJl4dz43wxZRfzMvLi8OjfP2EzroflsM8+LEcuLqiCM2JIiP310BE7e7Rmb33N7SoT5Bfk0nAfuLbq0++7cLrCtSC28eOl7Pbv7fen8gM08DPNnHfFnPPsv6D7S+ZJ5lrq/De4vPD8azgL9aXlMDKa5dNDHon/JUmg3FSziMs5gsyzPsLkvVa7hzFCsnofcIV4OYrJF46F1Vst1KCMeIs/RuMyRlhELxNGw3yGNRSdHpoTKNTUzTBOLdJ0M7RY4Lqmym8N4/lTZ8u20zFeBP5Xnj8F9Le+zICzdaxg74Vn9vAR290F4xyTMP0ImQ4XtAhxrGI+NRdch7jOrwO8a01G0Yh2MGeKCyqKs0x368xvI0E7yVdN5yDHNFvG0TxHLC3n2K9J5VCHesfLfJxT0gt9AmMBujrI0jHXAVtjOK58Fdktn4z33MRLuEvG0tkh32GYJO32On94V0mni250ag205NEUs0h07RO5PBYu4jNN6Mov4UbuwnMfkYOp5YT1IyfmUPAS6+pHrRMbqg0W+XVF5lltylVIYx44vd1PpOhUs0n0J//8Cx0Wf8x7dyp3QVIEf4+6n0l/zKWxnFtiuewZdPYhhsb3KwSLf9huk69YhCfOOkEmhHdVQAJ2De5SdVuhX6DWmoWjNkVckQkGq7/WYCK9CXMDNkG/YKwxv+K33rEWBSeWFHggyizxD/YVLd2ZeeAZxFpFwbwr86czSKmK3QpmilRqprpDP71RZ8RXS2AzaY8JfLJ5ahvx8sD3Pv8PpB1oEg8tQtASLtLIV3psKFvFyEytjikncVz+punWDtPyLyRaL/jKzwm5ydpWw9+VLjlJ3Y8OXu7F0mxoW/f2KBY7Ldxw+Djbhb4HtcqtlcciKFi3/9wVuKhyPjXT6NwiZFrI87Raby4UqtJ3iU6+7lT1nsg/nG/LLl6TSj/GbWrpu2cegja91/+fo5875a5BeS16j22h9h+31/3XCX4Pdkfez2B3JsycXRrhP68FzE+Mz0nH/hG5EUMOt3LXO+JMwvzm3Ugf+xnDqxP0mcV/f8/eE/TcXL4t2SZLm/1d3lfT7MxL+nyij8eIR2z/zFWRflu66SNy/JBq0skrK5W8Ruxwit37w/ot80bbIOP8lcl6X7n3MuJGyXjnzIWL/V8Jfgy5uPvr/G/L49rvKmDEwx3EOzLpGpJymys1fyGPQDYb9hPhqjBS6T7xCqxzJb2lfviIdH52t/QFpRUr9/oQT7UOkokWmiDSQFTaXQEhjJ43CR5yGCt1HYHMj6g36hdG50A2lMUQYzVG2Cde4a1+nVxWtmIBrcHjkeU8F7urM/Qbd6WTqTtLsBnml6GtPvIDNUbqfCvzBPU+V1V06QX0drRCtY+8L3BjvnpSbJ2e3RptWn9HWhRrl1OgaWw1H0ugPjG+z/tRmAa4RVWCkbEo9lrIk5TI2GBCSa1tqtBv8S+qXthclMuIuYZ9aThU+I2Ro/SdEyv2QtsagW254g/2QOjXD5nJFoUY7EBT2T/R5K/Szb9yKoaJFpoqcWiaVyXj3pELWON4ot1RMmdqWBrrqcSsNmggoEQQNxkmD7c7qN3QzU6WNculoaRO4PzYSn9KZkxRLtAqnzPLV7t47z24Xvu1oJ6iyerJGwmExDHmPn9E1khW6OtNg2GmBUtffB+GoAr1EO/DCDiQpoX4z/0N36qBBN9jUoC1LnxN+dUbZp3FhDpEzxvObQp9z6Hp+arlBrguDdr+vlDMpw0t0M1A12jZhyHLDBq2yJQMk0u5WgZG6+0vE3xz97Ns3KIaKFpkqDTplSxsPucoelJ9xWOWmQtnslVCjreQnq8R7UKP8mNUSbgrtp9QpliVzc7QdexH2uhxR3mHX5aA3O9oJxl0bnBZT4Oaf4H+DtnyJEUW18szyzfwXZTPQktYfnLnzwpJG1rq4/QxCypCOn5QXqWt+WTLo2o864k/K6iHkuso/Kf+pmYJjKUSlMlqY6rJBcj5kYE3KkAxK/ILD0aBti3UJu/THlmjrrfz+w3NnMLLP6vCDxWTKSIMZrrM3iJ/2NhTxL6PoK2eekF+OMUfbcEojPQUl65DoDGLV464K3E8BHYmTvK/QjX7HRrd9qozdnbv66fBXYNfn91SdoMZdtVOYM7n0kDohipLUD1Xud9mwLmkmjag04j+i27PWl26EhOhgibQhUpZU6X+P46L1PrdhPyYj9qHxft9m3Bl3ndJgWIw52n06UzW/YpoYd00NoP0Hw7jxwvSRert0v33ZX7vrI9KcvK2gokWmzhLb08RSkXbpxCmiVMl+EBEWVcZd7eylE/oB17t8SZcGqDISw6DNlwbTU0Q/u+s7lC8blHc1CTttBPxOVI1OaUj5s2jTuEF6RuvQI+FLd801XBbb+S7/n3vCvEF/fCtsH+GrNOjSYWgDfgzG3nm7xI7dEHQ2+iFh/6fn7pioPHnIuHkM3B6Cxl1/zLgx7jqlwbBLwyK+vO6QZeFYaB8opswYDPvmoUV3cjAS4fnPFD6569yzD/2sXLi5AYeDQkWLXAIfsL3U4wm7fci0wvaH9nyuffYqxQd3FaFoAjv5r5tTl5geIrwl3y3azlGD/nzXZaxhOZqj2+/0wbsv4esoYLj3EO7/zAsjpHHXCodFl2Ck6pNFm+dhnJ+d+3nEj95r0D84IYrtR8Qb2zucfobvErGIp6/F5SHvKfUy1hFU5abBcfnDPaNCun5Y5E9x3YXaXX/KuCk9lIccB4t0XRzjycUhGsc52vpUoa1rMlime7dK0VUjFdo00bCkDV6ha4v9dKnRthc3zs17dMvV514cJGy2GYQMRCqPzEJ9D0yFYbxD+mOB99ifMI4nG1XxsNj9OxwzpL9TskT3Xi/OjTxDv7O0GhieYLD7d7RWhe5L8uLFc/eccTfz3Mh7S7wX7v8K+e+8SBnWDwev0aVhybMrz80XbDdqC+S/v2OQTmcbhP1c8D4P2Kw7s4ifcERf68ZtEK9XL27PLqy+tDw2BpfxHS2L9De0ELk/FSziMk6/jefLKK2rmo8m8KPl8h7DScmWO2yX67764cflNvE8reexOmHRLxf1+bu86zmR9/XL6Tlkwr5Y5OtiaL/AcUmV3T7CvPDbgfco/46WIPVknQhvjfQywFQctA099qx1+ExCLgaDrvFSM+Rjd8qL51cq7CErZSg0hgqxQ2BxHEVL7cN3fEX/l+JT9gbjULQqz53JuPPfR9zF0iK3ZEjwO36+v769I0/B8yrPboF4Q6YY5NNZ7L9guwGRe6n3eUC8kZR8uY+4V7e3kWevIuGUpMmxMNhu9KeGRb5jB0y3w2CRlnEzpMulibhXt/cYTk62GGwOovTVDz8utwn7BdLyVNqxV2x/NN63n2pZlvf103CGaWHRXxdDNwscl0dndun/GHQDrdKe3Xv3JcwqcF+5+yYR3jsvvBnK6qJB2z48O3/vcboBhDAfCbkoKsRHPoYKi2ONeIQN/C0uExlpusd5jiI/BhXKlDdt8P2G/h5dWgxhV3+3OF65MujiVfqMux38xLg5UDiHwGDaipZFf8cOuOwOw1hk1CnLtc7oVRE7i9N04I+Byt0pKloWZXUxdDfFfLoWLlluEvJ/hEJXzAvGgXTIrkHRujSkUYs1fiExRYtcHgbTVbQsyjp2ADsMl4ZBesBohf4Z+7EyVUXLorwuhm4XIGOFcpNcBUtsF/Y5zo90yKhoTYsKXWfa9LilonUdGExT0bIo79gB7DBcIrFZrQrTlltTVLQshtXF0P0CZKxs5Ck/WEwuFdmv8hM2l12J8JUO0SFPciKXywqbnRE5zagBIdPEIn2iGWXi9aCfIvGXSxq0A5G/g5wCC9ZFQsgFYBA/jGDonpdDwhmt6SAHPUh+icLVd4CF8t75OdchDeQ0GExrRsti2Oi5whktMgWmNKPln8g6pC5acEZrKlBukqtClKqw0EunyOA8UNEiZPoYTEfR2rVjB7DDQKbBlBStFXarixZUtKbCRv7yg8Xk0vn6Zn4L7hlQSBFCroPY7KoFlygRcg7q4L8F6+JFwz1a5BqQvTUyc/Tk3avQbgr+DeflxzfzAwghU8JgOtTY3GtosXvHzoCQ8TGlT4jIPjiDNs7SN/kTu1Gh/FuR5IxQ0SLXgihUsoyw8u6J4vU3WmF3LigoCSHH5FAdO2HMSyQJmQJyEMmv2B8DDnxMAipa5Jr4Be0BB8a7J7NasrywBiGEXB6H6tgRQggZCPdokWtCOhw/u6uP7NcyIIQQQggh5EBwRotcGw3aZYT+YRjmzbwgroQd4/mEkMuiwWXSgJDpcex2/BzU2Nz6QAghoyY8DpbHpRJCCCGEEELIAVhiW9magxBCCCGEEELIzsgpXOEHhMU8gBBCCCGEEELIzpg384pNResVPByDEEIIIYQQQvaiwvaslsx0TekjiIQQQgghhBAyOuTjxaGyxY8JE0IIIYQQQsieyMeLQ2XrGYQQQgghhBBC9uILtpWtJ+wHlyASQgghhBBCrhqD7ZMI5XCMOwznDt1BG3MQQgghhJCr4QcQQkJEQZL9Wf5MVPNmfnbXUiSMyvtv3szfIIQQQggpp3ozjyCT498ghIR8fTO/vZmFd8+8mRe0yta3smCiR8SvwKPjCbk0GrSy4dJYg5Dp8fHN/I7LwrwZCzI5qGgREmf5Zm6xueRPZrpmaJWwEkzw/293z4AQQsaPASHTg/uiyWj4FwghKT68mTq494SywzFM8L90FowQQgghhFwAnNEiJM8vaE8iNN49OfJdlhfWGX8m+N+AEEIIIWR/arQrb8j4WPp/qGgRkkdmomTvhShb/nIE2a/1P5QrUKkZrQpUwgiZGgb5gZZLxYCQ8VG60uSSaN7MJ5AxsvT/UNEipJ8G7czWyrt34/6LshVTokwkjFTYPImQkGlxrSf2UlaRMTKlpfnSdxCl8B7tgR2fQS4a7tEipIwa29/CMtg8mdDnNvjfgBBCTo907OZoB4YeQAg5J7L1QA7VqtCujOGR7RcOFS1CypHDMcKpeum4zCNuTfCfh2EQQs4BO3aEjIfwRMQlWCcvGipahAxDpvy/BvekExMKShP8b0AIIaeHHTtCxkPs+15LsE5eLFS0CBmGzEzJfq0muC8fSLzz/t9E/BFCyKlhx46Q8VC/mV8j95dgnbxIqGgRMpwGrbLlI4qVLMsx7r+J+CGEkFNTgx07choMNgcZw/+kZQnWyauBpw4SshuyfPA3tPsfFIP2cAw5Dj5sXHY5rcug3VdRgpxc9C3w1+A6j6A+FnfONOhPV8l/PXhgictF3lHe1S9/Y8KgrZMSR6mX1zqzvHTXReL+uY6JrtDGScrPb9gPLYt9NNisv+qvBgfE9mGOdhm9RVee3qNdbi+n834F8Vm669jqpPK90N0c7f71fZA0sNgsO4QQ8n+IovU9MC/B/1fP/Tqwu82EXUXCTpn7iL8Vzot0XgwuZ0RTOhGSrosCtwZd3kwZg/y3k6SMheVvTEhHT/PhEYfDYLP+rTENLOLyI5U2obtDs0CZLCxhhTJZuUr4O2T52AWD6X6nzCCetiL7X3H8tmiGzTyeYTpYlNXJ0N0Cx8WXbTnzHvujcuDcdfBQbOQlZ7QI2Q8ZhZVZjsq7Fx6hvO9InozCf+xxM8bv20i6SANbo51NINND8s84M8VvKMnoqNbHP0GW7jqWUXTZPyZyQma0DlW+JKyczG0wTiRPKmemVlZVsVkG96XtqtHWwQpcYRFj6a5jqZMhFfj9vL2gokVIh0HX2DXoGmT9/be7fvOuguzX+oLjjUbKc/admifkGpG6QyV/k6W7jqFjJwrR/3BYRNHi8qPTocukpa7F0v13Zy/KWA0SY+muY1W2yB5Q0SKk4x26mSmDMsWpwabSlXIzRm6c+YZhe1fUn9DgsJiecHeNsx/2Ln7HiHHXoe9jdvR3zPB3zVfjrg32w7jrpZSNPpbuOpWOnXHXBufDuOtY6ltJnTHu2mA4ptDvA7p9mjFEmZb43aGLL9lm6a6pOjklJJ9lGWCFbl+zGJErNYYhYT29mZ+CsD4gXzYt2j6d70eU/n1XGBFC9sDfz3FI468XX2P4Hq01hlEhv0dLl/T58ZBnzNEfbom/CmVpYb17FTbTJkyXJ2ynncwiPiLOAt2a79j7ir3BMGbYf4/Wq7tXZfzqHj8/rfR97tG+zxcMex9prObe89WsEv7CtPaNz8qL18MO8dqlLBq0eyNfC58Vi7cyR3mahHEI4zxFLPL7Q3J5fwgqpGWVwbB81nL0iGH0+ZtjtzJS6i8s/7659dyt0eXBR2ymh49xYfrPfkW+LvpleB74lfu5NFV5lXOj7/gOx2GGdDszNSziZSEsJwscl1gZLEFkeljufTOP+FkgXoYMNtsi/7c8o4qEJW3dauDzD034TEKIQ49o/35g4wuPNdINaUiF3TpxFdKdlwdsCq0FNoXSl0SYdoA/7Txrp1s3Q69cOGGYC+fm1fkRd366LLHZ2ITPnmObBboGV8MO/cl73KCcGcobOIO4kO0L48bzZ7z7fkMk8Zb3eXFGy5Tcu0uEGeaF7y8so8JnbHbWNF/CMrXy/KfKRiqdLTbLT0lZNNh834Uz68yzYvngx90Px78XS0s/Ht+Dd5wqFmm5Fd47NBXisspgeD77ZXEIOX9+eSipN4o/4NDn7xnpuua/o/pXJWvt3Mw8N34nV9PNf7ZczXZ0/7/dx0ycnxBH3eTqix4a9YzjMMNmOZ0NDWBkWPT3KxY4Lvqc2wF+DLry8BL4tUgPNC4Qr08alpQbvy5ofr8iLQekHt0Hz9fwUmX5UIR5RQiJIAJCKuk7tDNdUrFFGEgllgqcG7EJjV/Z1zifomW8eL+P2GncZhl/swH+qkQ8FIvNRiPWGZ8j3UGo0C+4+95nyIlJM5Q3cAZxIav3Yw2EYBFPM/99XiJ+NW7riJ3fMTOB3RPiip2ieXuLOCvPf6xMve5olypT2mF7wTYvCT+xfNABh1iaaFqmyq3G0a/HQ+vo2LAok2WHpkI8rXfJZy2LjxhGyt8cXYfNBHZab2L1OFffZujvIN4jztrz2+cmVGjkWUuky/X3TJyfveciEm5J2bBI5+chmKG8Pb4Us8Bx0edIH6hKmFC5NugGRWLMEC+fC2zXQS1br4mwtF9mvHsWeXlcIV3/DkmYV4SQPbjFpkImAkQakxXaBjrsRIoA8CvgbSbsCp1QWGTM+4S/VXBfhdks8TyDuGBTf4ueeH4pjIdikReKQJde9wn7J+TfNfVsFfhDGn71s0Y+PxbYnBkNWaFrwFJ2j8H9BdIdodCvXx6MF4+UP+1IxfJX0/8W+WemykYqnXcti/q8+4ifG3e/ZEZr1vP8R+QbYoPNerzGeTpbpzaHpkK8nq4wPJ9XXliLjDEJf4/ePYP++rbAdhlSf7n6Fnuef/8+4W+d8KdYxOWwcuOFUQV233vC1kGRsGN9hy6dcpS625UZxltnjmUWOC7HiINN+FsgXQdfUb7MX9vd+4ybFeJ14JBspBMPwyBkP/7G8Y8+lQbSZuxrtJs8+6jcNbXRvUG7UfTOGd00+uCuHzLP/wG7UyfuV2gFrMQjddzxEt0er9hG6zrhT8PbZVTLIJ8ffXxGG19REv8Iwq3c7z8SfmukNwBruH5nqPLsUv5+d3GRfP4Vu/E5cT+VzpW7Di2Ljbs+YLtMfEP5sdjfvHA+YTttPoGck8Zdd8nnCnmW6D/goXLXOuNWyoh1bj8E/nL17Wfsx1+J+9pJ/Ziw/+bsPjq3dcRNqtxL/avezH+C+zde2Dm+Be7JdJCynMrfGnn0wBaR4bcY1m42LvwKrXI0R1v2v2b8VO4qfTKTCVf4CSc6BZOKFiHjR4TcQ8b+H/Qjws64sB4L3IsQ+orug8Pir8Fp+cld64wbjZcIchnFChWUBoenRv+GWkmzlPLxyfkPT+Gq3HWJ3Rq2P4NwhJI0bJwxaBvDXQYO+jpaPruWRUE7t09o64Sksbx3jWFx+OTCkDxYOf+1C6sBOTf75PNHpOue8Bf60XpjkJ71vPHchP5qHI/UUqq7gmf/Gbg9FKV1j4rW9JA6OKRNuHF+ZMXGvuVMBv5EPht0py82aMt47ARDLV9r9HOyskhFi5DxM2SkPsWNd51jOEM6sYeidLRUOuF3OJ3gbNCfHyZjJ++jI8SiaOhspCodyx6/Q+yGjjgbnGaGVq9zDKNGOyMgS00M2gb9ybP7gLJO7jcXjnSirWeExsWLs1rno8bu+Sx161DyssKwJUal9e0Y6LNz9fdYM0tjU6DmmPa3Jy2OvzTwGBh0ipGUtRptfWzQtdMfUU7zZn5Ed6pt5cKwzkhYv0X8LdFPyYDLQaCiRch10Tc7ppxMCBXQ14gbdz1H52ZXpBNQoc0LUbQMug9l5zqJNwV2u6SD+i2ZHT0Uu5bFGm3je4duJrPyjHxA/DP6adCOmEpe/ITNDd5L94w5yvkB08VifB27GofJ533omx0TYnXmHIrHN2x+WyvGsRTBm0L7BqQPi3hdlHJYIi/PiQxcGbRxFdkalrMfsRt/YnMZukW7t/gJ7SqW2tlpHfgNI+oPUNEi5Dpo0Amhv1AuhNSfQb4BPwY6MnvX484E7qdAjTYtK7TpWnn3c0hafMrYAZt59LXAnzzfBO6PSYPdymLIV2eW7r82vHIYyJAOeOOMLjt9cmFJp+EjRtRgHwmLeMdO7i9xfg6Vz0OfqQyZHVN/BqenQaeU1gk3d57bQz1TKFW0Lr0u7YtFui7KQM4Dxo1x15Tc/A+GE/Y7vrnwZZm7yAEZgKmdnVwljWTZ4qfC8I7Ov0AIuRa0E5DbF1Nhu5Og/t4n/Ih7WS5w6BHxz5k4IbBrML0vvi/dVfJD07ZvuYvN2MWWHv7l+Ut1hrTxrnE6NK/eZdxU2M536Simyq82rAb9iBuLeJpII96437t0DKaERbpjd86lk4fK511R5coiXW8MtpcVltS3OVp5WeGwqLzMyffHwO2+NOgGTW4z7n7y3JM4FuOsi0NQBSZW9g2Gfb/Kot2P+Jywjynvugx/jrh8kHtfEP9kw9GgokXI9aCd+DniQkaE4ArbH8r84NnfRfyJIKwi91UA3mG3pTQ6ciW8RMIw6BqmOaaHzqBYdCfrNT1+JA1iDc8c8aWHtTMpfwbdZv9lxF7z8NAjqVqmPqK8LN64/0vEy5vGsUE/C2diDf+dF6dTLqU8NRbj7NgdMp93RepijXS90TiuAvu6x5+ULT0ltQnstK5V2I3fXRgWcWVr7j33kPmrgyZ3GTdqV4PEsJi+kiVomyZyXcqgQTcgEfYr+qjd1aKtSyqX71z4cv8bNg/AEj+f0Q3+Pnr+HrC5f6wBIeQiWWPzGwu5UcAK3XckVj3mXcTfKhLmDJvfwHjvzMq7Pyv09+y9j1wN0u8rV1GW/A6ARf+3OG6CMPTwAnn2a8b/AvnvwlRIp1GKGcq/HWLQpVcOP90fM+4W3rM13hKfMO/eJ+ISpqHmX+pD1Iqf7y/Yfnd99n3Cf4X9ymL4Pk+BHxvxEyqFsXyoIs+WsJ6RrweKwWY9XmNaWMS/i/MYuAvtD02FePnYJZ/V7gvysvIl4S98d4PNevOMbdkTk3uhvxm6+pYrW9azj8VTw7xFGj/dXhCvU/cRf335m6vnM2f3nPH/xbnJKWP74MuSvro7NizK6mLoboHjos+5HejPL+ehjNR8CuO+QPqdXxPhyf3YAOCNF17MrHD82azwmYSQEyLCxq+AOSFWIS0sckJZ/a0S4VrEP7Aqgiu1PFCYJfzlBJcJ/CyCeMSEbiyMRSK+qQY1JbiVCvk0ijFDeQNnUCZkZ547k3Hnv49FPC0ee+LzguF5LoQNpz8quUK6AyZUyKezdAzXKG9EhRnSDXksHql8sNitHggm8uypYNEvQ5TQzaGpkC4fQ/N5hTJZuU74i72/QbrTtkJe7u1S38J39hWTNfrbDMEiLafvE3768jdXzyvk67jB8etImG4zTAOL8roYul3guDyi/8PtKd6hjZ+UCVX4dS+whFkF7it0M2Ahcs+68HSwT8PLIWX12fl5cb/vcRo28nPKpyQRMkWksTHef/mdO8ThFmXIEqdvEX+5sO+9uPR9CDDlr0bZIRQq4BrPvQjK/2A77ikM2rX+upn1T+RP1+oLuySNhoY5NHyLtuGQ5Q6/ZNwt0B1pK0tJDLq0aFB+qMQ+/uR95N39cnKodB5aFuW5PxX66Xu+/+wGZWki7v2Oo/j7EePHYtgSpbDzfYw+Qy5/huSzlsUS/o74y5Vhg3LZk/LXoKxs6Tv/g24PlDBUXg2pU31h96WRdKgrxNsz6RR/xHGXwc2wuXxcfn/AuLEYVhdD90vs/oF5cly+gxByNsKRxlJFilwmOur9rsfdAumRTnJ6DKY3o2VRPnquhG4JiVEhPZO0Rnpp+aGY2oyWxfC6GPpZgIyVjXzlYRiEEHIeLNrlcQ02N/QScmgsLmOzPRkntTNP2FzSZdEqWEvw8AFFZD7r4hVBRYsQQk7LCu0Irza2cxByPNixI6dAPhIrS6DvvHu3aJWssS/jOyWxPXoWrIsXCz9YTAghp0NGe/W4e9kzIR2QzyDkeLBjR06ByLNwzxAVrG1qbB4GYcG6eNFQ0SKEkNMhG8n/i+H8Cm58JrtRgx07QsaCfO/MoB1sk0NC/gS5aKhoEUIIIZcLO3aEjAcZbOOg2RVBRYsQQgi5XNixI+TyqMCTBycBFS1CzksDQgiZBjzinZBxYNAuAyYjh6cOEkIIIYQQQsiBoaJFCCGEEEIIIQeGSwcJIYQQQggZLzW4VHCS/D+20A2GjN0UBAAAAABJRU5ErkJggg==)"
      ],
      "metadata": {
        "id": "hfiho2bPlwUy"
      }
    },
    {
      "cell_type": "markdown",
      "source": [
        "Something worth noting is that we don't need a separate function for antiparticles. The cuts for antiparticles are the same, so we can use the same `isProton` function for both protons and antiprotons (for example).\n",
        "\n",
        "To implement different PID methods, you will need to change all of the functions for all of the different hypotheses to apply the corresponding cuts. However, the general evaluation scheme will stay the same.\n",
        "\n",
        "The cell below implements the `isProton()` function for ionization energy loss in the GlueX central drift chamber (CDC)."
      ],
      "metadata": {
        "id": "KK0BV6t2megU"
      }
    },
    {
      "cell_type": "code",
      "source": [
        "def isProton(particle):\n",
        "  p = (particle['px']**2 + particle['py']**2 + particle['pz']**2)**0.5\n",
        "  if particle['CDC dEdx'] *10**6> np.exp(-4.8*p+3.6)+1.5:\n",
        "    return True\n",
        "  else:\n",
        "    return False"
      ],
      "metadata": {
        "id": "QD9BkChoucd5"
      },
      "execution_count": null,
      "outputs": []
    },
    {
      "cell_type": "markdown",
      "source": [
        "The function `isProton()` takes a row of a dataframe (which we called `particle`), and uses the data in that row to implement a cut on the ionization energy loss of the particle. If the particle passes that cut, the function returns `True`, which tells us that the track was produced by a proton. If the particle fails the cut, then the function returns `False`, which tells us that the track is not a proton."
      ],
      "metadata": {
        "id": "V-H5HbvivkEY"
      }
    },
    {
      "cell_type": "markdown",
      "source": [
        "####**Question #1:**\n",
        "---\n",
        "In this question, you will write the general evaluation scheme that we will use for PID methods. Suppose we have already defined four functions:\n",
        "\n",
        "*   isProton()\n",
        "*   isKaon()\n",
        "*   isPion()\n",
        "*   isElectron()\n",
        "\n",
        "Each of these functions takes a row of the dataframe (`particle`) as an input, and outputs `True` or `False`. Use these functions to complete the `identify_particle` function below."
      ],
      "metadata": {
        "id": "hofpRfsKqC6k"
      }
    },
    {
      "cell_type": "code",
      "source": [
        "def identify_particle(particle):\n",
        "  if particle['Hypothesis'] == \"Proton\" and #complete this code\n",
        "    return \"Proton\"\n",
        "  elif particle['Hypothesis'] == \"AntiProton\" and #complete this code\n",
        "    return \"AntiProton\"\n",
        "  elif particle['Hypothesis'] == \"K+\" and #complete this code\n",
        "    return \"K+\"\n",
        "  elif particle['Hypothesis'] == \"K-\" and #Complete this code\n",
        "    return \"K-\"\n",
        "  elif particle['Hypothesis'] == \"Pi+\" and #complete this code\n",
        "    return \"Pi+\"\n",
        "  elif particle['Hypothesis'] == \"Pi-\" and #complete this code\n",
        "    return \"Pi-\"\n",
        "  elif particle['Hypothesis'] == \"Electron\" and #complete this code\n",
        "    return \"Electron\"\n",
        "  elif particle['Hypothesis'] == \"Positron\" and #complete this code\n",
        "    return \"Positron\"\n",
        "  else:\n",
        "    return \"No ID\""
      ],
      "metadata": {
        "id": "pY_wYsRdYgIO"
      },
      "execution_count": null,
      "outputs": []
    },
    {
      "cell_type": "markdown",
      "source": [
        "#####**Solution:**"
      ],
      "metadata": {
        "id": "Mv7zxCIjqHrF"
      }
    },
    {
      "cell_type": "code",
      "source": [
        "def identify_particle(particle):\n",
        "  if particle['Hypothesis'] == \"Proton\" and isProton(particle):\n",
        "    return \"Proton\"\n",
        "  elif particle['Hypothesis'] == \"AntiProton\" and isProton(particle):\n",
        "    return \"AntiProton\"\n",
        "  elif particle['Hypothesis'] == \"K+\" and isKaon(particle):\n",
        "    return \"K+\"\n",
        "  elif particle['Hypothesis'] == \"K-\" and isKaon(particle):\n",
        "    return \"K-\"\n",
        "  elif particle['Hypothesis'] == \"Pi+\" and isPion(particle):\n",
        "    return \"Pi+\"\n",
        "  elif particle['Hypothesis'] == \"Pi-\" and isPion(particle):\n",
        "    return \"Pi-\"\n",
        "  elif particle['Hypothesis'] == \"Electron\" and isElectron(particle):\n",
        "    return \"Electron\"\n",
        "  elif particle['Hypothesis'] == \"Positron\" and isElectron(particle):\n",
        "    return \"Positron\"\n",
        "  else:\n",
        "    return \"No ID\""
      ],
      "metadata": {
        "id": "IxGzaleeq5NA"
      },
      "execution_count": null,
      "outputs": []
    },
    {
      "cell_type": "markdown",
      "source": [
        "####**Question #2:**\n",
        "---\n",
        "Below is the function you wrote in the \"Ionization Energy Loss\" notebook. Based on this function, complete the `isKaon()`, `isPion()`, and `isElectron()` function in the cell below. The `isProton()` function is completed for you.\n",
        "\n",
        "**Note:** The dataframe we will be using has the following columns (plus some others that are irrelevant for now):\n",
        "*   **px, py, and pz** - The components of the momentum vector\n",
        "*   **CDC dEdx** - The ionization energy loss of the track in the central drift chamber."
      ],
      "metadata": {
        "id": "v0wq-9FxxgeQ"
      }
    },
    {
      "cell_type": "code",
      "source": [
        "def identify_particle(p, dEdx):\n",
        "  if dEdx *10**6> np.exp(-2.5*p+2.3)+1.4:\n",
        "    return \"Proton\"\n",
        "  elif dEdx *10**6> np.exp(-4.9*p+2.3)+1.45 and dEdx *10**6< np.exp(-4.36*p+2.3)+2.3:\n",
        "    return \"Kaon+\"\n",
        "  elif dEdx *10**6> 1.59 and dEdx *10**6 < 2.49:\n",
        "    return \"Pion\"\n",
        "  elif dEdx *10**6> 2.25 and dEdx *10**6< 3.14:\n",
        "    return \"Electron\"\n",
        "  else:\n",
        "    return \"No ID\""
      ],
      "metadata": {
        "id": "XvyddUfcxnYO"
      },
      "execution_count": null,
      "outputs": []
    },
    {
      "cell_type": "code",
      "source": [
        "def isProton(particle):\n",
        "  p = (particle['px']**2 + particle['py']**2 + particle['pz']**2)**0.5\n",
        "  if particle['CDC dEdx'] *10**6> np.exp(-2.5*p+2.3)+1.4:\n",
        "    return True\n",
        "  else:\n",
        "    return False\n",
        "\n",
        "def isKaon(particle):\n",
        "  p = (particle['px']**2 + particle['py']**2 + particle['pz']**2)**0.5\n",
        "  if #complete this code\n",
        "    return True\n",
        "  else:\n",
        "    return False\n",
        "\n",
        "def isPion(particle):\n",
        "  #complete this code\n",
        "\n",
        "def isElectron(particle):\n",
        "  #complete this code"
      ],
      "metadata": {
        "id": "SgyxjbgRylSh"
      },
      "execution_count": null,
      "outputs": []
    },
    {
      "cell_type": "markdown",
      "source": [
        "#####**Solution:**"
      ],
      "metadata": {
        "id": "boYY0kAoxkno"
      }
    },
    {
      "cell_type": "code",
      "source": [
        "def isProton(particle):\n",
        "  p = (particle['px']**2 + particle['py']**2 + particle['pz']**2)**0.5\n",
        "  if particle['CDC dEdx'] *10**6> np.exp(-4.8*p+3.6)+1.5:\n",
        "    return True\n",
        "  else:\n",
        "    return False\n",
        "\n",
        "def isKaon(particle):\n",
        "  p = (particle['px']**2 + particle['py']**2 + particle['pz']**2)**0.5\n",
        "  if particle['CDC dEdx'] *10**6> np.exp(-4.9*p+2.3)+1.45 and particle['CDC dEdx'] *10**6< np.exp(-4.36*p+2.3)+2.3:\n",
        "    return True\n",
        "  else:\n",
        "    return False\n",
        "\n",
        "def isPion(particle):\n",
        "  if particle['CDC dEdx'] *10**6> 1.59 and particle['CDC dEdx'] *10**6 < 2.49:\n",
        "    return True\n",
        "  else:\n",
        "    return False\n",
        "\n",
        "def isElectron(particle):\n",
        "  if particle['CDC dEdx'] *10**6> 2.25 and particle['CDC dEdx'] *10**6 < 3.14:\n",
        "    return True\n",
        "  else:\n",
        "    return False"
      ],
      "metadata": {
        "id": "gkaO27_o0K2Q"
      },
      "execution_count": null,
      "outputs": []
    },
    {
      "cell_type": "markdown",
      "source": [
        "####**Question #3:**\n",
        "---\n",
        "Below are the cuts you made for the forward drift chamber (FDC) in the \"Ionization Energy Loss\" notebook. Based on these cuts, complete the `isKaon()`, `isPion()`, and `isElectron()` function in the cell below. The `isProton()` function is completed for you.\n",
        "\n",
        "**Note:** The dataframe we will be using has the following columns (plus some others that are irrelevant for now):\n",
        "*   **px, py, and pz** - The components of the momentum vector\n",
        "*   **FDC dEdx** - The ionization energy loss of the track in the central drift chamber."
      ],
      "metadata": {
        "id": "BX6d3nnmE_nD"
      }
    },
    {
      "cell_type": "markdown",
      "source": [
        "**Proton:**\n",
        "\n",
        "---\n",
        "$$\n",
        "dE/dx * 10^6> e^{(-3.55*p+3.7)}+1.3\n",
        "$$\n",
        "**Kaon:**\n",
        "\n",
        "---\n",
        "$$\n",
        "dE/dx * 10^3> e^{(-4.4*p+2)}+1.3\n",
        "$$\n",
        "and\n",
        "$$\n",
        "dE/dx * 10^3< e^{(-4.4*p+2)}+2.3\n",
        "$$\n",
        "**Pion:**\n",
        "\n",
        "---\n",
        "$$\n",
        "dE/dx * 10^3> 1.45\n",
        "$$\n",
        "and $$\n",
        "dE/dx * 10^3< 2.6\n",
        "$$\n",
        "**Electron:**\n",
        "\n",
        "---\n",
        "$$\n",
        "dE/dx * 10^3> 2\n",
        "$$\n",
        "and\n",
        "$$\n",
        "dE/dx * 10^3< 3\n",
        "$$"
      ],
      "metadata": {
        "id": "bCZ8J88sEFtP"
      }
    },
    {
      "cell_type": "code",
      "source": [
        "def isProton(particle):\n",
        "  p = (particle['px']**2 + particle['py']**2 + particle['pz']**2)**0.5\n",
        "  if particle['FDC dEdx'] *10**6> np.exp(-3.55*p+3.7)+1.3:\n",
        "    return True\n",
        "  else:\n",
        "    return False\n",
        "\n",
        "def isKaon(particle):\n",
        "  p = (particle['px']**2 + particle['py']**2 + particle['pz']**2)**0.5\n",
        "  if #complete this code\n",
        "    return True\n",
        "  else:\n",
        "    return False\n",
        "\n",
        "def isPion(particle):\n",
        "  #complete this code\n",
        "\n",
        "def isElectron(particle):\n",
        "  #complete this code"
      ],
      "metadata": {
        "id": "awY_ft_lE_nF"
      },
      "execution_count": null,
      "outputs": []
    },
    {
      "cell_type": "markdown",
      "source": [
        "#####**Solution:**"
      ],
      "metadata": {
        "id": "Xyv7RVhjE_nG"
      }
    },
    {
      "cell_type": "code",
      "source": [
        "def isProton(particle):\n",
        "  p = (particle['px']**2 + particle['py']**2 + particle['pz']**2)**0.5\n",
        "  if particle['FDC dEdx'] *10**6> np.exp(-3.55*p+3.7)+1.3:\n",
        "    return True\n",
        "  else:\n",
        "    return False\n",
        "\n",
        "def isKaon(particle):\n",
        "  p = (particle['px']**2 + particle['py']**2 + particle['pz']**2)**0.5\n",
        "  if particle['FDC dEdx'] *10**6> np.exp(-4.4*p+2)+1.3 and particle['FDC dEdx'] *10**6< np.exp(-4.4*p+2)+2.3:\n",
        "    return True\n",
        "  else:\n",
        "    return False\n",
        "\n",
        "def isPion(particle):\n",
        "  p = (particle['px']**2 + particle['py']**2 + particle['pz']**2)**0.5\n",
        "  if particle['FDC dEdx'] *10**6> 1.45 and particle['FDC dEdx'] *10**6 < 2.6:\n",
        "    return True\n",
        "  else:\n",
        "    return False\n",
        "\n",
        "def isElectron(particle):\n",
        "  p = (particle['px']**2 + particle['py']**2 + particle['pz']**2)**0.5\n",
        "  if particle['FDC dEdx'] *10**6> 2 and particle['FDC dEdx'] *10**6 < 3:\n",
        "    return True\n",
        "  else:\n",
        "    return False"
      ],
      "metadata": {
        "id": "kbPN2M0RE_nG"
      },
      "execution_count": null,
      "outputs": []
    },
    {
      "cell_type": "markdown",
      "source": [
        "####**Question #4:**\n",
        "---\n",
        "We can also create a function for ionization energy loss in the start counter. Below are the start counter cuts you found in the \"Ionization Energy Loss\" notebook. Based on these cuts, complete the `isProton()`,`isKaon()`, `isPion()`, and `isElectron()` function in the cell below.\n",
        "\n",
        "**Note:** The dataframe we will be using has the following columns (plus some others that are irrelevant for now):\n",
        "*   **px, py, and pz** - The components of the momentum vector\n",
        "*   **SC dEdx** - The ionization energy loss of the track in the central drift chamber."
      ],
      "metadata": {
        "id": "L-PC2vDImIQP"
      }
    },
    {
      "cell_type": "markdown",
      "source": [
        "**Proton:**\n",
        "\n",
        "---\n",
        "$$\n",
        "dE/dx * 10^3> e^{(-4*p+3.2)}+1.6\n",
        "$$\n",
        "**Kaon:**\n",
        "\n",
        "---\n",
        "$$\n",
        "dE/dx * 10^3> e^{(-4.4*p+2.7)}+1.2\n",
        "$$\n",
        "and\n",
        "$$\n",
        "dE/dx * 10^3< e^{(-4.6*p+3.1)}+2.2\n",
        "$$\n",
        "**Pion:**\n",
        "\n",
        "---\n",
        "$$\n",
        "dE/dx * 10^3> 1.3\n",
        "$$\n",
        "and $$\n",
        "dE/dx * 10^3< 2.3\n",
        "$$\n",
        "**Electron:**\n",
        "\n",
        "---\n",
        "$$\n",
        "dE/dx * 10^3> 2.3\n",
        "$$\n",
        "and\n",
        "$$\n",
        "dE/dx * 10^3< 1.3\n",
        "$$"
      ],
      "metadata": {
        "id": "2O8MN7geNxbg"
      }
    },
    {
      "cell_type": "code",
      "source": [
        "def isProton(particle):\n",
        "  #complete this code\n",
        "\n",
        "def isKaon(particle):\n",
        "  #complete this code\n",
        "\n",
        "def isPion(particle):\n",
        "  #complete this code\n",
        "\n",
        "def isElectron(particle):\n",
        "  #complete this code"
      ],
      "metadata": {
        "id": "aW7DU_7lmIQR"
      },
      "execution_count": null,
      "outputs": []
    },
    {
      "cell_type": "markdown",
      "source": [
        "#####**Solution:**"
      ],
      "metadata": {
        "id": "td9uphGEmIQS"
      }
    },
    {
      "cell_type": "code",
      "source": [
        "def isProton(particle):\n",
        "  p = (particle['px']**2 + particle['py']**2 + particle['pz']**2)**0.5\n",
        "  if particle['SC dEdx'] *10**3> np.exp(-4*p+3.2)+1.6:\n",
        "    return True\n",
        "  else:\n",
        "    return False\n",
        "\n",
        "def isKaon(particle):\n",
        "  p = (particle['px']**2 + particle['py']**2 + particle['pz']**2)**0.5\n",
        "  if particle['SC dEdx'] *10**3> np.exp(-4.4*p+2.7)+1.2 and particle['SC dEdx'] *10**3< np.exp(-4.6*p+3.1)+2.2:\n",
        "    return True\n",
        "  else:\n",
        "    return False\n",
        "\n",
        "def isPion(particle):\n",
        "  p = (particle['px']**2 + particle['py']**2 + particle['pz']**2)**0.5\n",
        "  if particle['SC dEdx'] *10**3> 1.3 and particle['SC dEdx'] *10**3< 2.3:\n",
        "    return True\n",
        "  else:\n",
        "    return False\n",
        "\n",
        "def isElectron(particle):\n",
        "  p = (particle['px']**2 + particle['py']**2 + particle['pz']**2)**0.5\n",
        "  if particle['SC dEdx'] *10**3> 1.3 and particle['SC dEdx'] *10**3< 2.3:\n",
        "    return True\n",
        "  else:\n",
        "    return False"
      ],
      "metadata": {
        "id": "z6bNvJ_7mIQS"
      },
      "execution_count": null,
      "outputs": []
    },
    {
      "cell_type": "markdown",
      "source": [
        "####**Question #5:**\n",
        "---\n",
        "We can also create a function for ionization energy loss in the time of flight detector. Below are the time of flight cuts you found in the \"Ionization Energy Loss\" notebook. Based on these cuts, complete the `isProton()`,`isKaon()`, `isPion()`, and `isElectron()` function in the cell below.\n",
        "\n",
        "**Note:** The dataframe we will be using has the following columns (plus some others that are irrelevant for now):\n",
        "*   **px, py, and pz** - The components of the momentum vector\n",
        "*   **TOF dEdx** - The ionization energy loss of the track in the central drift chamber."
      ],
      "metadata": {
        "id": "7ArqzTZQNIFw"
      }
    },
    {
      "cell_type": "markdown",
      "source": [
        "**Proton:**\n",
        "\n",
        "---\n",
        "$$\n",
        "dE/dx * 10^4> e^{(-2.2*p+3.9)}+8.2\n",
        "$$\n",
        "**Kaon:**\n",
        "\n",
        "---\n",
        "$$\n",
        "dE/dx * 10^4> e^{(-0.4*p+0.8)}+7.6\n",
        "$$\n",
        "and\n",
        "$$\n",
        "dE/dx * 10^4< e^{(-0.4*p+1.4)}+10\n",
        "$$\n",
        "**Pion:**\n",
        "\n",
        "---\n",
        "$$\n",
        "dE/dx * 10^4> 8.6\n",
        "$$\n",
        "and $$\n",
        "dE/dx * 10^4< 11\n",
        "$$\n",
        "**Electron:**\n",
        "\n",
        "---\n",
        "$$\n",
        "dE/dx * 10^4> 8.1\n",
        "$$\n",
        "and\n",
        "$$\n",
        "dE/dx * 10^4< 11\n",
        "$$"
      ],
      "metadata": {
        "id": "HZhMV4DXDu0F"
      }
    },
    {
      "cell_type": "code",
      "source": [
        "def isProton(particle):\n",
        "  #complete this code\n",
        "\n",
        "def isKaon(particle):\n",
        "  #complete this code\n",
        "\n",
        "def isPion(particle):\n",
        "  #complete this code\n",
        "\n",
        "def isElectron(particle):\n",
        "  #complete this code"
      ],
      "metadata": {
        "id": "vHlQ_3T1NIGK"
      },
      "execution_count": null,
      "outputs": []
    },
    {
      "cell_type": "markdown",
      "source": [
        "#####**Solution:**"
      ],
      "metadata": {
        "id": "GIpTa-xZNIGL"
      }
    },
    {
      "cell_type": "code",
      "source": [
        "def isProton(particle):\n",
        "  p = (particle['px']**2 + particle['py']**2 + particle['pz']**2)**0.5\n",
        "  if particle['TOF dEdx'] *10**4> np.exp(-2.2*p+3.9)+8.2:\n",
        "    return True\n",
        "  else:\n",
        "    return False\n",
        "\n",
        "def isKaon(particle):\n",
        "  p = (particle['px']**2 + particle['py']**2 + particle['pz']**2)**0.5\n",
        "  if particle['TOF dEdx'] *10**4> np.exp(-0.4*p+0.8)+7.6 and particle['TOF dEdx'] *10**4< np.exp(-0.4*p+1.4)+10:\n",
        "    return True\n",
        "  else:\n",
        "    return False\n",
        "\n",
        "def isPion(particle):\n",
        "  p = (particle['px']**2 + particle['py']**2 + particle['pz']**2)**0.5\n",
        "  if particle['TOF dEdx'] *10**4> 8.6 and particle['TOF dEdx'] *10**4< 11:\n",
        "    return True\n",
        "  else:\n",
        "    return False\n",
        "\n",
        "def isElectron(particle):\n",
        "  p = (particle['px']**2 + particle['py']**2 + particle['pz']**2)**0.5\n",
        "  if particle['TOF dEdx'] *10**4> 8.1 and particle['TOF dEdx'] *10**4< 11:\n",
        "    return True\n",
        "  else:\n",
        "    return False"
      ],
      "metadata": {
        "id": "IJcSUIVINIGL"
      },
      "execution_count": null,
      "outputs": []
    },
    {
      "cell_type": "markdown",
      "source": [
        "####**Question #6:**\n",
        "---\n",
        "Below is the function you wrote in the \"Time of Flight\" notebook. Based on this function, complete the `isKaon()`, `isPion()`, and `isElectron()` function in the cell below. The `isProton()` function is completed for you.\n",
        "\n",
        "**Note:** The dataframe we will be using has the following columns (plus some others that are irrelevant for now):\n",
        "*   **TOF Time of Flight** - The measured time of flight for particles that interacted with the forward time of flight detector\n",
        "*   **TOF Calculated Time of Flight** - The calculated time of flight for particles that interacted with the forward time of flight detector for the given hypothesis.\n",
        "\n",
        "**Hint:** The `isProton()` function will only be applied to particles with a proton hypothesis, so the calculated time can be assumed to be from a proton hypothesis."
      ],
      "metadata": {
        "id": "drnNp5vO03IN"
      }
    },
    {
      "cell_type": "code",
      "source": [
        "def identify_particle(time_of_flight, path_length, momentum):\n",
        "  if abs(proton_time(path_length,momentum)-time_of_flight) <= 0.6:\n",
        "    return \"Proton\"\n",
        "  elif abs(kaon_time(path_length,momentum)-time_of_flight) <= 0.3:\n",
        "    return \"Kaon\"\n",
        "  elif abs(pion_time(path_length,momentum)-time_of_flight) <= 0.5:\n",
        "    return \"Pion\"\n",
        "  elif abs(electron_time(path_length,momentum)-time_of_flight) <= 0.5:\n",
        "    return \"Electron\"\n",
        "  else:\n",
        "    return \"No ID\""
      ],
      "metadata": {
        "id": "NIGx_W1T03IV"
      },
      "execution_count": null,
      "outputs": []
    },
    {
      "cell_type": "code",
      "source": [
        "def isProton(particle):\n",
        "  if abs(particle['TOF Time of Flight']-particle['TOF Calculated Time of Flight']) <= 0.6:\n",
        "    return True\n",
        "  else:\n",
        "    return False\n",
        "\n",
        "def isKaon(particle):\n",
        "  if #complete this code\n",
        "    return True\n",
        "  else:\n",
        "    return False\n",
        "\n",
        "def isPion(particle):\n",
        "  #complete this code\n",
        "\n",
        "def isElectron(particle):\n",
        "  #complete this code"
      ],
      "metadata": {
        "id": "MpHYTQO203IW"
      },
      "execution_count": null,
      "outputs": []
    },
    {
      "cell_type": "markdown",
      "source": [
        "#####**Solution:**"
      ],
      "metadata": {
        "id": "d3qrquq-03IW"
      }
    },
    {
      "cell_type": "code",
      "source": [
        "def isProton(particle):\n",
        "  if abs(particle['TOF Time of Flight']-particle['TOF Calculated Time of Flight']) <= 0.6:\n",
        "    return True\n",
        "  else:\n",
        "    return False\n",
        "\n",
        "def isKaon(particle):\n",
        "  if abs(particle['TOF Time of Flight']-particle['TOF Calculated Time of Flight']) <= 0.3:\n",
        "    return True\n",
        "  else:\n",
        "    return False\n",
        "\n",
        "def isPion(particle):\n",
        "  if abs(particle['TOF Time of Flight']-particle['TOF Calculated Time of Flight']) <= 0.5:\n",
        "    return True\n",
        "  else:\n",
        "    return False\n",
        "\n",
        "def isElectron(particle):\n",
        "  if abs(particle['TOF Time of Flight']-particle['TOF Calculated Time of Flight']) <= 0.5:\n",
        "    return True\n",
        "  else:\n",
        "    return False"
      ],
      "metadata": {
        "id": "Yr3Ii55303IW"
      },
      "execution_count": null,
      "outputs": []
    },
    {
      "cell_type": "markdown",
      "source": [
        "####**Question #7:**\n",
        "---\n",
        "We can also slightly modify the previous function to perform time of flight analysis in the barrel calorimeter. Below are the timing cuts that are made for the barrel calorimeter. Using these cuts, complete the `isKaon()`, `isPion()`, and `isElectron()` function in the cell below. The `isProton()` function is completed for you.\n",
        "\n",
        "| <h5>**Particle** </h5> \t| <h5>**$\\Delta t$ (nanoseconds)**</h5>\t|\n",
        "|---------:\t|:------------------------:\t|\n",
        "|   <h5>Proton</h5> \t|    <h5>$1$</h5>   \t|\n",
        "|     <h5>Kaon</h5> \t|    <h5>$0.75$</h5>   \t|\n",
        "|     <h5>Pion</h5> \t|    <h5>$1$</h5>   \t|\n",
        "| <h5>Electron</h5> \t|    <h5>$1$</h5>   \t|\n",
        "\n",
        "**Note:** The dataframe we will be using has the following columns (plus some others that are irrelevant for now):\n",
        "*   **tShower** - The time at which the shower was created. However, because our event starts at t=0, this can be used as a measured time of flight.\n",
        "*   **BCal Calculated Time of Flight** - The calculated time of flight for particles that interacted with the forward time of flight detector for the given hypothesis."
      ],
      "metadata": {
        "id": "XXfl_-vHloK9"
      }
    },
    {
      "cell_type": "code",
      "source": [
        "def isProton(particle):\n",
        "  if abs(particle['tShower']-particle['TOF Calculated Time of Flight']) <= 1:\n",
        "    return True\n",
        "  else:\n",
        "    return False\n",
        "\n",
        "def isKaon(particle):\n",
        "  if #complete this code\n",
        "    return True\n",
        "  else:\n",
        "    return False\n",
        "\n",
        "def isPion(particle):\n",
        "  #complete this code\n",
        "\n",
        "def isElectron(particle):\n",
        "  #complete this code"
      ],
      "metadata": {
        "id": "ayp9ioQSloLK"
      },
      "execution_count": null,
      "outputs": []
    },
    {
      "cell_type": "markdown",
      "source": [
        "#####**Solution:**"
      ],
      "metadata": {
        "id": "Wu-czNG6loLK"
      }
    },
    {
      "cell_type": "code",
      "source": [
        "def isProton(particle):\n",
        "  if abs(particle['tShower']-particle['BCal Calculated Time of Flight']) <= 1:\n",
        "    return True\n",
        "  else:\n",
        "    return False\n",
        "\n",
        "def isKaon(particle):\n",
        "  if abs(particle['tShower']-particle['BCal Calculated Time of Flight']) <= 0.75:\n",
        "    return True\n",
        "  else:\n",
        "    return False\n",
        "\n",
        "def isPion(particle):\n",
        "  if abs(particle['tShower']-particle['BCal Calculated Time of Flight']) <= 1:\n",
        "    return True\n",
        "  else:\n",
        "    return False\n",
        "\n",
        "def isElectron(particle):\n",
        "  if abs(particle['tShower']-particle['BCal Calculated Time of Flight']) <= 1:\n",
        "    return True\n",
        "  else:\n",
        "    return False"
      ],
      "metadata": {
        "id": "WfeW8ibfloLL"
      },
      "execution_count": null,
      "outputs": []
    },
    {
      "cell_type": "markdown",
      "source": [
        "####**Question #8:**\n",
        "---\n",
        "We can also perform time of flight analysis in the start counter. Below are the timing cuts that are made for the barrel calorimeter. Using these cuts, complete the `isKaon()`, `isPion()`, and `isElectron()` function in the cell below. The `isProton()` function is completed for you.\n",
        "\n",
        "| <h5>**Particle** </h5> \t| <h5>**$\\Delta t$ (nanoseconds)**</h5>\t|\n",
        "|---------:\t|:------------------------:\t|\n",
        "|   <h5>Proton</h5> \t|    <h5>$2.5$</h5>   \t|\n",
        "|     <h5>Kaon</h5> \t|    <h5>$2.5$</h5>   \t|\n",
        "|     <h5>Pion</h5> \t|    <h5>$2.5$</h5>   \t|\n",
        "| <h5>Electron</h5> \t|    <h5>$2.5$</h5>   \t|\n",
        "\n",
        "**Note:** The dataframe we will be using has the following columns (plus some others that are irrelevant for now):\n",
        "*   **SC Time of Flight** - The time at which the shower was created. However, because our event starts at t=0, this can be used as a measured time of flight.\n",
        "*   **SC Calculated Time of Flight** - The calculated time of flight for particles that interacted with the forward time of flight detector for the given hypothesis."
      ],
      "metadata": {
        "id": "nRr78L8f14wG"
      }
    },
    {
      "cell_type": "code",
      "source": [
        "def isProton(particle):\n",
        "  if abs(particle['SC Time of Flight']-particle['SC Calculated Time of Flight']) <= 2.5:\n",
        "    return True\n",
        "  else:\n",
        "    return False\n",
        "\n",
        "def isKaon(particle):\n",
        "  if #complete this code\n",
        "    return True\n",
        "  else:\n",
        "    return False\n",
        "\n",
        "def isPion(particle):\n",
        "  #complete this code\n",
        "\n",
        "def isElectron(particle):\n",
        "  #complete this code"
      ],
      "metadata": {
        "id": "sHzL5Z0h14wP"
      },
      "execution_count": null,
      "outputs": []
    },
    {
      "cell_type": "markdown",
      "source": [
        "#####**Solution:**"
      ],
      "metadata": {
        "id": "JOMe-Wdm14wP"
      }
    },
    {
      "cell_type": "code",
      "source": [
        "def isProton(particle):\n",
        "  if abs(particle['SC Time of Flight']-particle['SC Calculated Time of Flight']) <= 2.5:\n",
        "    return True\n",
        "  else:\n",
        "    return False\n",
        "\n",
        "def isKaon(particle):\n",
        "  if abs(particle['SC Time of Flight']-particle['SC Calculated Time of Flight']) <= 2.5:\n",
        "    return True\n",
        "  else:\n",
        "    return False\n",
        "\n",
        "def isPion(particle):\n",
        "  if abs(particle['SC Time of Flight']-particle['SC Calculated Time of Flight']) <= 2.5:\n",
        "    return True\n",
        "  else:\n",
        "    return False\n",
        "\n",
        "def isElectron(particle):\n",
        "  if abs(particle['SC Time of Flight']-particle['SC Calculated Time of Flight']) <= 2.5:\n",
        "    return True\n",
        "  else:\n",
        "    return False"
      ],
      "metadata": {
        "id": "TfTW9MXf14wQ"
      },
      "execution_count": null,
      "outputs": []
    },
    {
      "cell_type": "markdown",
      "source": [
        "####**Question #9:**\n",
        "---\n",
        "The final detector in which we would perform time of flight analysis is the forward calorimeter (FCal). Below are the timing cuts that are made for the forward calorimeter. Using these cuts, complete the `isKaon()`, `isPion()`, and `isElectron()` function in the cell below. The `isProton()` function is completed for you.\n",
        "\n",
        "| <h5>**Particle** </h5> \t| <h5>**$\\Delta t$ (nanoseconds)**</h5>\t|\n",
        "|---------:\t|:------------------------:\t|\n",
        "|   <h5>Proton</h5> \t|    <h5>$2$</h5>   \t|\n",
        "|     <h5>Kaon</h5> \t|    <h5>$2.5$</h5>   \t|\n",
        "|     <h5>Pion</h5> \t|    <h5>$2$</h5>   \t|\n",
        "| <h5>Electron</h5> \t|    <h5>$2$</h5>   \t|\n",
        "\n",
        "**Note:** The dataframe we will be using has the following columns (plus some others that are irrelevant for now):\n",
        "*   **tShower** - The time at which the shower was created. However, because our event starts at t=0, this can be used as a measured time of flight.\n",
        "*   **FCal Calculated Time of Flight** - The calculated time of flight for particles that interacted with the forward calorimeter for the given hypothesis."
      ],
      "metadata": {
        "id": "t4aLwWa53aXg"
      }
    },
    {
      "cell_type": "code",
      "source": [
        "def isProton(particle):\n",
        "  if abs(particle['tShower']-particle['FCal Calculated Time of Flight']) <= 2:\n",
        "    return True\n",
        "  else:\n",
        "    return False\n",
        "\n",
        "def isKaon(particle):\n",
        "  if #complete this code\n",
        "    return True\n",
        "  else:\n",
        "    return False\n",
        "\n",
        "def isPion(particle):\n",
        "  #complete this code\n",
        "\n",
        "def isElectron(particle):\n",
        "  #complete this code"
      ],
      "metadata": {
        "id": "8KD2nxSo3aXr"
      },
      "execution_count": null,
      "outputs": []
    },
    {
      "cell_type": "markdown",
      "source": [
        "#####**Solution:**"
      ],
      "metadata": {
        "id": "4mSKjaWf3aXs"
      }
    },
    {
      "cell_type": "code",
      "source": [
        "def isProton(particle):\n",
        "  if abs(particle['tShower']-particle['FCal Calculated Time of Flight']) <= 2:\n",
        "    return True\n",
        "  else:\n",
        "    return False\n",
        "\n",
        "def isKaon(particle):\n",
        "  if abs(particle['tShower']-particle['FCal Calculated Time of Flight']) <= 2.5:\n",
        "    return True\n",
        "  else:\n",
        "    return False\n",
        "\n",
        "def isPion(particle):\n",
        "  if abs(particle['tShower']-particle['FCal Calculated Time of Flight']) <= 2:\n",
        "    return True\n",
        "  else:\n",
        "    return False\n",
        "\n",
        "def isElectron(particle):\n",
        "  if abs(particle['tShower']-particle['FCal Calculated Time of Flight']) <= 2:\n",
        "    return True\n",
        "  else:\n",
        "    return False"
      ],
      "metadata": {
        "id": "WnnQs6zO3aXs"
      },
      "execution_count": null,
      "outputs": []
    },
    {
      "cell_type": "markdown",
      "source": [
        "####**Question #10:**\n",
        "---\n",
        "In practice, we only make cuts on the detector that has the best time resolution. In order, these detectors are:\n",
        "\n",
        "1.   Barrel Calorimeter\n",
        "2.   Time of Flight Detector\n",
        "3.   Forward Calorimeter\n",
        "4.   Start Counter\n",
        "\n",
        "In other words, we only make a cut of the time of flight as measured by the time of flight detector if there is no shower in the barrel calorimeter. Similarly, we only make a cut on the time of flight based on the forward calorimeter if there is no shower in the barrel calorimeter or hit in the time of flight detector. Based on your functions from Questions #5 - #8, complete the `isKaon()`, `isPion()`, and `isElectron()` functions in the cell below to implement the time of flight cuts on the best available detector. The `isProton()` function is completed for you.\n",
        "\n",
        "**Hint:** You can use the `np.isnan` function to check if a certain piece of information is missing from the given particle. For example, to check if a particle left a shower in the forward calorimeter, we can use `np.isnan(particle['FCal Calculated Time of Flight'])`, since the particle will only have a calculated time of flight for the forward calorimeter if it left a shower in the forward calorimeter.\n",
        "\n",
        "**Note:** The barrel calorimeter isn't technically \"better\" than the time of flight detector. No particle will leave a signal in both the forward time of flight detector and the barrel calorimeter, since they are in completely different areas of the detector. In some sense, the time of flight detector and the barrel calorimeter aren't actually competing, so it doesn't matter if we make cuts on the barrel calorimeter before the forward time of flight detector or after. We choose to place cuts on it first because more particles tend to travel towards the barrel calorimeter, so we can save some computation time by making cuts on the shower time in the barrel calorimeter first."
      ],
      "metadata": {
        "id": "vkusKs57Vx04"
      }
    },
    {
      "cell_type": "code",
      "source": [
        "def isProton(particle):\n",
        "  if not np.isnan(particle['BCal Calculated Time of Flight']):\n",
        "    if abs(particle['tShower']-particle['BCal Calculated Time of Flight']) <= 1:\n",
        "      return True\n",
        "    else:\n",
        "      return False\n",
        "  elif not np.isnan(particle['TOF Calculated Time of Flight']):\n",
        "    if abs(particle['TOF Time of Flight']-particle['TOF Calculated Time of Flight']) <= 0.6:\n",
        "      return True\n",
        "    else:\n",
        "      return False\n",
        "  elif not np.isnan(particle['FCal Calculated Time of Flight']):\n",
        "    if abs(particle['tShower']-particle['FCal Calculated Time of Flight']) <= 2:\n",
        "      return True\n",
        "    else:\n",
        "      return False\n",
        "  elif not np.isnan(particle['SC Calculated Time of Flight']):\n",
        "    if abs(particle['SC Time of Flight']-particle['SC Calculated Time of Flight']) <= 2.5:\n",
        "      return True\n",
        "    else:\n",
        "      return False\n",
        "  else:\n",
        "    return False\n",
        "\n",
        "def isKaon(particle):\n",
        "  #complete this code\n",
        "\n",
        "def isPion(particle):\n",
        "  #complete this code\n",
        "\n",
        "def isElectron(particle):\n",
        "  #complete this code"
      ],
      "metadata": {
        "id": "Ext9qcJkVx1C"
      },
      "execution_count": null,
      "outputs": []
    },
    {
      "cell_type": "markdown",
      "source": [
        "#####**Solution:**"
      ],
      "metadata": {
        "id": "jekTS1lhVx1C"
      }
    },
    {
      "cell_type": "code",
      "source": [
        "def isProton(particle):\n",
        "  if not np.isnan(particle['BCal Calculated Time of Flight']):\n",
        "    if abs(particle['tShower']-particle['BCal Calculated Time of Flight']) <= 1:\n",
        "      return True\n",
        "    else:\n",
        "      return False\n",
        "  elif not np.isnan(particle['TOF Calculated Time of Flight']):\n",
        "    if abs(particle['TOF Time of Flight']-particle['TOF Calculated Time of Flight']) <= 0.6:\n",
        "      return True\n",
        "    else:\n",
        "      return False\n",
        "  elif not np.isnan(particle['FCal Calculated Time of Flight']):\n",
        "    if abs(particle['tShower']-particle['FCal Calculated Time of Flight']) <= 2:\n",
        "      return True\n",
        "    else:\n",
        "      return False\n",
        "  elif not np.isnan(particle['SC Calculated Time of Flight']):\n",
        "    if abs(particle['SC Time of Flight']-particle['SC Calculated Time of Flight']) <= 2.5:\n",
        "      return True\n",
        "    else:\n",
        "      return False\n",
        "  else:\n",
        "    return False\n",
        "\n",
        "def isKaon(particle):\n",
        "  if not np.isnan(particle['BCal Calculated Time of Flight']):\n",
        "    if abs(particle['tShower']-particle['BCal Calculated Time of Flight']) <= 0.75:\n",
        "      return True\n",
        "    else:\n",
        "      return False\n",
        "  elif not np.isnan(particle['TOF Calculated Time of Flight']):\n",
        "    if abs(particle['TOF Time of Flight']-particle['TOF Calculated Time of Flight']) <= 0.3:\n",
        "      return True\n",
        "    else:\n",
        "      return False\n",
        "  elif not np.isnan(particle['FCal Calculated Time of Flight']):\n",
        "    if abs(particle['tShower']-particle['FCal Calculated Time of Flight']) <= 2.5:\n",
        "      return True\n",
        "    else:\n",
        "      return False\n",
        "  elif not np.isnan(particle['SC Calculated Time of Flight']):\n",
        "    if abs(particle['SC Time of Flight']-particle['SC Calculated Time of Flight']) <= 2.5:\n",
        "      return True\n",
        "    else:\n",
        "      return False\n",
        "  else:\n",
        "    return False\n",
        "\n",
        "def isPion(particle):\n",
        "  if not np.isnan(particle['BCal Calculated Time of Flight']):\n",
        "    if abs(particle['tShower']-particle['BCal Calculated Time of Flight']) <= 1:\n",
        "      return True\n",
        "    else:\n",
        "      return False\n",
        "  elif not np.isnan(particle['TOF Calculated Time of Flight']):\n",
        "    if abs(particle['TOF Time of Flight']-particle['TOF Calculated Time of Flight']) <= 0.5:\n",
        "      return True\n",
        "    else:\n",
        "      return False\n",
        "  elif not np.isnan(particle['FCal Calculated Time of Flight']):\n",
        "    if abs(particle['tShower']-particle['FCal Calculated Time of Flight']) <= 2:\n",
        "      return True\n",
        "    else:\n",
        "      return False\n",
        "  elif not np.isnan(particle['SC Calculated Time of Flight']):\n",
        "    if abs(particle['SC Time of Flight']-particle['SC Calculated Time of Flight']) <= 2.5:\n",
        "      return True\n",
        "    else:\n",
        "      return False\n",
        "  else:\n",
        "    return False\n",
        "\n",
        "def isElectron(particle):\n",
        "  if not np.isnan(particle['BCal Calculated Time of Flight']):\n",
        "    if abs(particle['tShower']-particle['BCal Calculated Time of Flight']) <= 1:\n",
        "      return True\n",
        "    else:\n",
        "      return False\n",
        "  elif not np.isnan(particle['TOF Calculated Time of Flight']):\n",
        "    if abs(particle['TOF Time of Flight']-particle['TOF Calculated Time of Flight']) <= 0.5:\n",
        "      return True\n",
        "    else:\n",
        "      return False\n",
        "  elif not np.isnan(particle['FCal Calculated Time of Flight']):\n",
        "    if abs(particle['tShower']-particle['FCal Calculated Time of Flight']) <= 2:\n",
        "      return True\n",
        "    else:\n",
        "      return False\n",
        "  elif not np.isnan(particle['SC Calculated Time of Flight']):\n",
        "    if abs(particle['SC Time of Flight']-particle['SC Calculated Time of Flight']) <= 2.5:\n",
        "      return True\n",
        "    else:\n",
        "      return False\n",
        "  else:\n",
        "    return False"
      ],
      "metadata": {
        "id": "xeFlX770Vx1D"
      },
      "execution_count": null,
      "outputs": []
    },
    {
      "cell_type": "markdown",
      "source": [
        "####**Question #11:**\n",
        "---\n",
        "Below is the function you wrote in the \"Cherenkov Radiation\" notebook. Based on this function, complete the `isKaon()`, `isPion()`, and `isElectron()` function in the cell below. The `isProton()` function is completed for you.\n",
        "\n",
        "**Note:** The dataframe we will be using has the following columns (plus some others that are irrelevant for now):\n",
        "*   **lele** - Log likelihood for electron\n",
        "*   **lpi** - Log likelihood for pion\n",
        "*   **lk** - Log likelihood for kaon\n",
        "*   **lp** - Log likelihood for proton"
      ],
      "metadata": {
        "id": "epRPZrZA3JpN"
      }
    },
    {
      "cell_type": "code",
      "source": [
        "def identify_particle(particle):\n",
        "  if particle['lp'] > max(particle['lk'], particle['lpi'],particle['lele']):\n",
        "    return \"Proton\"\n",
        "  elif particle['lk'] > max(particle['lp'], particle['lpi'],particle['lele']):\n",
        "    return \"Kaon\"\n",
        "  elif particle['lpi'] > max(particle['lk'], particle['lp'],particle['lele']):\n",
        "    return \"Pion\"\n",
        "  elif particle['lele'] > max(particle['lk'], particle['lp'],particle['lpi']):\n",
        "    return \"Electron\""
      ],
      "metadata": {
        "id": "rcjNAcZ13Jpq"
      },
      "execution_count": null,
      "outputs": []
    },
    {
      "cell_type": "code",
      "source": [
        "def isProton(particle):\n",
        "  if particle['lp'] > max(particle['lk'], particle['lpi'],particle['lele']):\n",
        "    return True\n",
        "  else:\n",
        "    return False\n",
        "\n",
        "def isKaon(particle):\n",
        "  if #complete this code\n",
        "    return True\n",
        "  else:\n",
        "    return False\n",
        "\n",
        "def isPion(particle):\n",
        "  #complete this code\n",
        "\n",
        "def isElectron(particle):\n",
        "  #complete this code"
      ],
      "metadata": {
        "id": "-RHsmprg3Jpr"
      },
      "execution_count": null,
      "outputs": []
    },
    {
      "cell_type": "markdown",
      "source": [
        "#####**Solution:**"
      ],
      "metadata": {
        "id": "5Qaas50f3Jpr"
      }
    },
    {
      "cell_type": "code",
      "source": [
        "def isProton(particle):\n",
        "  if particle['lp'] > max(particle['lk'], particle['lpi'],particle['lele']):\n",
        "    return True\n",
        "  else:\n",
        "    return False\n",
        "\n",
        "def isKaon(particle):\n",
        "  if particle['lk'] > max(particle['lp'], particle['lpi'],particle['lele']):\n",
        "    return True\n",
        "  else:\n",
        "    return False\n",
        "\n",
        "def isPion(particle):\n",
        "  if particle['lpi'] > max(particle['lk'], particle['lp'],particle['lele']):\n",
        "    return True\n",
        "  else:\n",
        "    return False\n",
        "\n",
        "def isElectron(particle):\n",
        "  if particle['lele'] > max(particle['lk'], particle['lp'],particle['lpi']):\n",
        "    return True\n",
        "  else:\n",
        "    return False"
      ],
      "metadata": {
        "id": "sDKtjB3M3Jps"
      },
      "execution_count": null,
      "outputs": []
    },
    {
      "cell_type": "markdown",
      "source": [
        "---\n",
        "##**Identifying Particles**\n",
        "---\n",
        "This section is not necessary to complete future notebooks. However, it may help you understand how various situations are handled, which may help you debug your code.\n",
        "\n",
        "Ideally, only one of the hypotheses will pass the PID cut, which means we are able to identify that track based on which hypothesis was determined to be true. However, there are some other situations that we need to be prepared for.\n",
        "\n",
        "For example, what do we do if none of the hypotheses pass the PID cut? In this case, we have no choice but to say we have \"No ID\". This is why there is an `else` statement at the end of the function you wrote in Question #1.\n",
        "\n",
        "The case for which multiple hypotheses pass the PID cut is more challenging to handle. In these cases, we typically randomly select which hypothesis we want to pick as the \"true\" hypothesis. In future notebooks, we will eliminate this randomness."
      ],
      "metadata": {
        "id": "BLg98MBzpg_c"
      }
    }
  ]
}